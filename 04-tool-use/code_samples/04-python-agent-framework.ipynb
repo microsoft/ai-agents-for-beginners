{
  "cells": [
    {
      "cell_type": "markdown",
      "id": "8744544f",
      "metadata": {},
      "source": [
        "# 🛠️ Advanced Tool Use with GitHub Models (Python)\n",
        "\n",
        "## 📋 Learning Objectives\n",
        "\n",
        "This notebook demonstrates advanced tool integration patterns using the Microsoft Agent Framework with GitHub Models. You'll learn how to create, manage, and orchestrate multiple tools to build sophisticated agent capabilities.\n",
        "\n",
        "**What You'll Master:**\n",
        "- 🔧 **Multi-Tool Architecture**: Building agents with multiple specialized tools\n",
        "- 🎯 **Tool Selection Logic**: How agents choose the right tool for each task\n",
        "- 📊 **Data Processing Tools**: Creating tools that handle different data types\n",
        "- 🔗 **Tool Composition**: Combining tools for complex workflows\n",
        "\n",
        "## 🎯 Key Tool Patterns\n",
        "\n",
        "### Tool Design Principles\n",
        "- **Single Responsibility**: Each tool has a clear, focused purpose\n",
        "- **Type Safety**: Strong typing for reliable tool execution\n",
        "- **Error Handling**: Graceful failure and recovery patterns\n",
        "- **Composability**: Tools that work well together\n",
        "\n",
        "### Advanced Tool Features\n",
        "- **Context Awareness**: Tools that understand conversation context\n",
        "- **Data Validation**: Input sanitization and output validation\n",
        "- **Performance Optimization**: efficient tool execution patterns\n",
        "- **Extensibility**: Easy addition of new tool capabilities\n",
        "\n",
        "## 🔧 Technical Architecture\n",
        "\n",
        "### Core Components\n",
        "- **Microsoft Agent Framework**: Python implementation with advanced tool support\n",
        "- **GitHub Models Integration**: High-performance language model access\n",
        "- **Tool Registry System**: Organized management of agent capabilities\n",
        "- **Error Recovery Patterns**: Robust handling of tool execution failures\n",
        "\n",
        "### Tool Integration Flow\n",
        "```python\n",
        "User Request → Agent Analysis → Tool Selection → Tool Execution → Response Synthesis\n",
        "```\n",
        "\n",
        "## 🛠️ Tool Categories Demonstrated\n",
        "\n",
        "### 1. **Data Generation Tools**\n",
        "- Random destination generator\n",
        "- Weather information provider  \n",
        "- Travel cost calculator\n",
        "- Activity recommendation engine\n",
        "\n",
        "### 2. **Processing Tools**\n",
        "- Text formatting and validation\n",
        "- Data transformation utilities\n",
        "- Content analysis functions\n",
        "- Response enhancement tools\n",
        "\n",
        "### 3. **Integration Tools**\n",
        "- External API connectors\n",
        "- File system operations\n",
        "- Database query interfaces\n",
        "- Web scraping utilities\n",
        "\n",
        "## ⚙️ Prerequisites & Setup\n",
        "\n",
        "\n",
        "**Required Dependencies:**\n",
        "```bash\n",
        "\n",
        "pip install agent-framework-core -U\n",
        "```\n",
        "\n",
        "**Environment Configuration (.env file):**\n",
        "```env\n",
        "GITHUB_TOKEN=your_github_personal_access_token\n",
        "GITHUB_ENDPOINT=https://models.inference.ai.azure.com\n",
        "GITHUB_MODEL_ID=gpt-4o-mini\n",
        "```\n",
        "\n",
        "**Optional APIs:**\n",
        "- Weather service API key (for weather tools)\n",
        "- Currency conversion API access\n",
        "- Travel information service credentials\n",
        "\n",
        "## 🎨 Design Patterns\n",
        "\n",
        "### Tool Factory Pattern\n",
        "- Centralized tool creation and configuration\n",
        "- Consistent tool interface design\n",
        "- Easy tool registration and discovery\n",
        "\n",
        "### Command Pattern\n",
        "- Encapsulated tool execution logic\n",
        "- Undo/redo functionality for complex operations\n",
        "- Audit logging for tool usage\n",
        "\n",
        "### Observer Pattern\n",
        "- Tool execution monitoring\n",
        "- Performance metrics collection\n",
        "- Error reporting and alerting\n",
        "\n",
        "## 🚀 Best Practices\n",
        "\n",
        "- **Tool Documentation**: Clear descriptions for agent understanding\n",
        "- **Input Validation**: Robust parameter checking and sanitization\n",
        "- **Output Formatting**: Consistent, parseable tool responses\n",
        "- **Error Messages**: Helpful error information for debugging\n",
        "- **Performance**: Optimized tool execution for responsiveness\n",
        "\n",
        "Ready to build agents with powerful tool capabilities? Let's create something amazing! ⚡"
      ]
    },
    {
      "cell_type": "code",
      "execution_count": null,
      "id": "59c0feeb",
      "metadata": {},
      "outputs": [],
      "source": [
        "! pip install agent-framework-core -U"
      ]
    },
    {
      "cell_type": "code",
      "execution_count": null,
      "id": "c0df8a52",
      "metadata": {},
      "outputs": [],
      "source": [
        "# � Import core dependencies for Agent Framework and tool integration\n",
        "# This sets up the essential libraries for building intelligent agents with tool capabilities\n",
        "\n",
        "import asyncio\n",
        "import os\n",
        "import json\n",
        "\n",
        "from dotenv import load_dotenv  # For loading environment variables securely\n",
        "from random import randint\n",
        "\n",
        "# These are the core components for building tool-enabled agents\n",
        "from agent_framework import ChatAgent           # Main agent class\n",
        "from agent_framework.openai import OpenAIChatClient  # OpenAI-compatible client"
      ]
    },
    {
      "cell_type": "code",
      "execution_count": null,
      "id": "24c10eb0",
      "metadata": {},
      "outputs": [],
      "source": [
        "load_dotenv()"
      ]
    },
    {
      "cell_type": "code",
      "execution_count": null,
      "id": "151e0314",
      "metadata": {},
      "outputs": [],
      "source": [
        "# 🔑 Environment variables verification\n",
        "# Ensure all required GitHub Models credentials are properly configured\n",
        "print(\"GITHUB_ENDPOINT:\", os.environ.get(\"GITHUB_ENDPOINT\"))\n",
        "print(\"GITHUB_TOKEN:\", \"***\" if os.environ.get(\"GITHUB_TOKEN\") else \"Not set\")\n",
        "print(\"GITHUB_MODEL_ID:\", os.environ.get(\"GITHUB_MODEL_ID\"))"
      ]
    },
    {
      "cell_type": "code",
      "execution_count": null,
      "id": "a6141584",
      "metadata": {},
      "outputs": [],
      "source": [
        "# 🧪 Test GitHub Models connectivity\n",
        "openai_chat_client = OpenAIChatClient(base_url=os.environ.get(\"GITHUB_ENDPOINT\"), api_key=os.environ.get(\"GITHUB_TOKEN\"), model_id=os.environ.get(\"GITHUB_MODEL_ID\"))"
      ]
    },
    {
      "cell_type": "code",
      "execution_count": null,
      "id": "a6507f83",
      "metadata": {},
      "outputs": [],
      "source": [
        "# 🛠️ Define travel planning tools for agent integration\n",
        "# These functions provide specific capabilities that the agent can invoke dynamically\n",
        "\n",
        "def get_random_destination() -> str:\n",
        "    \"\"\"\n",
        "    🎲 Random destination generator tool\n",
        "    Returns a randomly selected travel destination from curated list\n",
        "    Useful when customers need inspiration for their next vacation\n",
        "    \"\"\"\n",
        "    destinations = [\n",
        "        \"Paris, France\",\n",
        "        \"Tokyo, Japan\", \n",
        "        \"New York City, USA\",\n",
        "        \"London, England\",\n",
        "        \"Rome, Italy\",\n",
        "        \"Sydney, Australia\",\n",
        "        \"Dubai, UAE\",\n",
        "        \"Barcelona, Spain\",\n",
        "        \"Bangkok, Thailand\",\n",
        "        \"Amsterdam, Netherlands\",\n",
        "        \"Istanbul, Turkey\",\n",
        "        \"Prague, Czech Republic\",\n",
        "        \"Santorini, Greece\",\n",
        "        \"Reykjavik, Iceland\",\n",
        "        \"Marrakech, Morocco\",\n",
        "        \"Cape Town, South Africa\",\n",
        "        \"Rio de Janeiro, Brazil\",\n",
        "        \"Bali, Indonesia\"\n",
        "    ]\n",
        "    # 🎯 Return random selection from the curated destination list\n",
        "    return destinations[randint(0, len(destinations) - 1)]"
      ]
    },
    {
      "cell_type": "code",
      "execution_count": null,
      "id": "5d4f0568",
      "metadata": {},
      "outputs": [],
      "source": [
        "# 🔗 Initialize GitHub Models chat client for agent communication\n",
        "# Creates the primary interface between the agent and the language model\n",
        "openai_chat_client = OpenAIChatClient(base_url=os.environ.get(\"GITHUB_ENDPOINT\"), api_key=os.environ.get(\"GITHUB_TOKEN\"), model_id=os.environ.get(\"GITHUB_MODEL_ID\"))"
      ]
    },
    {
      "cell_type": "code",
      "execution_count": null,
      "id": "751668c5",
      "metadata": {},
      "outputs": [],
      "source": [
        "# 🤖 Configure travel agent identity and behavioral instructions\n",
        "# Define the agent's personality, capabilities, and operational guidelines\n",
        "\n",
        "AGENT_NAME = \"TravelAgent\"\n",
        "\n",
        "AGENT_INSTRUCTIONS = \"\"\"You are a helpful AI Agent that can help plan vacations for customers at random destinations\n",
        "\"\"\""
      ]
    },
    {
      "cell_type": "code",
      "execution_count": null,
      "id": "be18ac4f",
      "metadata": {},
      "outputs": [],
      "source": [
        "agent = ChatAgent(\n",
        "        name = AGENT_NAME,\n",
        "        chat_client=openai_chat_client,\n",
        "        instructions=AGENT_INSTRUCTIONS,\n",
        "        tools=[get_random_destination]\n",
        ")"
      ]
    },
    {
      "cell_type": "code",
      "execution_count": null,
      "id": "772e9481",
      "metadata": {},
      "outputs": [],
      "source": [
        "thread = agent.get_new_thread()"
      ]
    },
    {
      "cell_type": "code",
      "execution_count": null,
      "id": "a731b547",
      "metadata": {},
      "outputs": [],
      "source": [
        "response1 = await agent.run(\"Plan me a day trip\",thread= thread)"
      ]
    },
    {
      "cell_type": "code",
      "execution_count": null,
      "id": "7d3fe00a",
      "metadata": {},
      "outputs": [],
      "source": [
        "\n",
        "last_message = response1.messages[-1]\n",
        "text_content = last_message.contents[0].text\n",
        "print(\"Travel plan:\")\n",
        "print(text_content)"
      ]
    }
  ],
  "metadata": {
    "kernelspec": {
      "display_name": "agentenv",
      "language": "python",
      "name": "python3"
    },
    "language_info": {
      "codemirror_mode": {
        "name": "ipython",
        "version": 3
      },
      "file_extension": ".py",
      "mimetype": "text/x-python",
      "name": "python",
      "nbconvert_exporter": "python",
      "pygments_lexer": "ipython3",
      "version": "3.12.10"
    },
    "polyglot_notebook": {
      "kernelInfo": {
        "defaultKernelName": "csharp",
        "items": [
          {
            "aliases": [],
            "name": "csharp"
          }
        ]
      }
    }
  },
  "nbformat": 4,
  "nbformat_minor": 5
}
