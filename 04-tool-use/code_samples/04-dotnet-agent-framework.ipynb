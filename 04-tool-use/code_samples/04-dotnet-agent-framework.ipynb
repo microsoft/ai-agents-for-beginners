{
  "cells": [
    {
      "cell_type": "markdown",
      "id": "c898efd9",
      "metadata": {},
      "source": [
        "# 🛠️ Advanced Tool Use with GitHub Models (.NET)\n",
        "\n",
        "## 📋 Learning Objectives\n",
        "\n",
        "This notebook demonstrates enterprise-grade tool integration patterns using the Microsoft Agent Framework in .NET with GitHub Models. You'll learn to build sophisticated agents with multiple specialized tools, leveraging C#'s strong typing and .NET's enterprise features.\n",
        "\n",
        "**Advanced Tool Capabilities You'll Master:**\n",
        "- 🔧 **Multi-Tool Architecture**: Building agents with multiple specialized capabilities\n",
        "- 🎯 **Type-Safe Tool Execution**: Leveraging C#'s compile-time validation\n",
        "- 📊 **Enterprise Tool Patterns**: Production-ready tool design and error handling\n",
        "- 🔗 **Tool Composition**: Combining tools for complex business workflows\n",
        "\n",
        "## 🎯 .NET Tool Architecture Benefits\n",
        "\n",
        "### Enterprise Tool Features\n",
        "- **Compile-Time Validation**: Strong typing ensures tool parameter correctness\n",
        "- **Dependency Injection**: IoC container integration for tool management\n",
        "- **Async/Await Patterns**: Non-blocking tool execution with proper resource management\n",
        "- **Structured Logging**: Built-in logging integration for tool execution monitoring\n",
        "\n",
        "### Production-Ready Patterns\n",
        "- **Exception Handling**: Comprehensive error management with typed exceptions\n",
        "- **Resource Management**: Proper disposal patterns and memory management\n",
        "- **Performance Monitoring**: Built-in metrics and performance counters\n",
        "- **Configuration Management**: Type-safe configuration with validation\n",
        "\n",
        "## 🔧 Technical Architecture\n",
        "\n",
        "### Core .NET Tool Components\n",
        "- **Microsoft.Extensions.AI**: Unified tool abstraction layer\n",
        "- **Microsoft.Agents.AI**: Enterprise-grade tool orchestration\n",
        "- **GitHub Models Integration**: High-performance API client with connection pooling\n",
        "\n",
        "### Tool Execution Pipeline\n",
        "```csharp\n",
        "User Request → Agent Analysis → Tool Selection → Type Validation\n",
        "                 ↓               ↓              ↓\n",
        "         Parameter Binding → Tool Execution → Result Processing → Response\n",
        "```\n",
        "\n",
        "## 🛠️ Tool Categories & Patterns\n",
        "\n",
        "### 1. **Data Processing Tools**\n",
        "- **Input Validation**: Strong typing with data annotations\n",
        "- **Transform Operations**: Type-safe data conversion and formatting\n",
        "- **Business Logic**: Domain-specific calculation and analysis tools\n",
        "- **Output Formatting**: Structured response generation\n",
        "\n",
        "### 2. **Integration Tools** \n",
        "- **API Connectors**: RESTful service integration with HttpClient\n",
        "- **Database Tools**: Entity Framework integration for data access\n",
        "- **File Operations**: Secure file system operations with validation\n",
        "- **External Services**: Third-party service integration patterns\n",
        "\n",
        "### 3. **Utility Tools**\n",
        "- **Text Processing**: String manipulation and formatting utilities\n",
        "- **Date/Time Operations**: Culture-aware date/time calculations\n",
        "- **Mathematical Tools**: Precision calculations and statistical operations\n",
        "- **Validation Tools**: Business rule validation and data verification\n",
        "\n",
        "## ⚙️ Prerequisites & Setup\n",
        "\n",
        "**Development Environment:**\n",
        "- .NET 9.0 SDK or higher\n",
        "- Visual Studio 2022 or VS Code with C# extension\n",
        "- GitHub Models API access\n",
        "\n",
        "**Required NuGet Packages:**\n",
        "```xml\n",
        "<PackageReference Include=\"Microsoft.Extensions.AI\" Version=\"9.9.0\" />\n",
        "<PackageReference Include=\"Microsoft.Extensions.AI.OpenAI\" Version=\"9.9.0-preview.1.25458.4\" />\n",
        "<PackageReference Include=\"DotNetEnv\" Version=\"3.1.1\" />\n",
        "```\n",
        "\n",
        "**Environment Configuration (.env file):**\n",
        "```env\n",
        "GITHUB_TOKEN=your_github_personal_access_token\n",
        "GITHUB_ENDPOINT=https://models.inference.ai.azure.com\n",
        "GITHUB_MODEL_ID=gpt-4o-mini\n",
        "```\n",
        "\n",
        "Ready to build enterprise-grade agents with powerful, type-safe tool capabilities in .NET? Let's architect some professional-grade solutions! 🏢⚡"
      ]
    },
    {
      "cell_type": "code",
      "execution_count": 1,
      "id": "2770ac5c",
      "metadata": {
        "language_info": {
          "name": "polyglot-notebook"
        },
        "polyglot_notebook": {
          "kernelName": "csharp"
        }
      },
      "outputs": [
        {
          "data": {
            "text/html": [
              "<div><div></div><div></div><div><strong>Installed Packages</strong><ul><li><span>Microsoft.Extensions.AI, 9.9.1</span></li></ul></div></div>"
            ]
          },
          "metadata": {},
          "output_type": "display_data"
        }
      ],
      "source": [
        "#r \"nuget: Microsoft.Extensions.AI, 9.9.1\""
      ]
    },
    {
      "cell_type": "code",
      "execution_count": null,
      "id": "984ff6cd",
      "metadata": {
        "language_info": {
          "name": "polyglot-notebook"
        },
        "polyglot_notebook": {
          "kernelName": "csharp"
        }
      },
      "outputs": [
        {
          "data": {
            "text/html": [
              "<div><div></div><div></div><div><strong>Installed Packages</strong><ul><li><span>Microsoft.Agents.AI.OpenAI, 1.0.0-preview.251001.2</span></li></ul></div></div>"
            ]
          },
          "metadata": {},
          "output_type": "display_data"
        }
      ],
      "source": [
        "#r \"nuget: Microsoft.Agents.AI.OpenAI, 1.0.0-preview.251001.3\""
      ]
    },
    {
      "cell_type": "code",
      "execution_count": null,
      "id": "0ab71360",
      "metadata": {
        "language_info": {
          "name": "polyglot-notebook"
        },
        "polyglot_notebook": {
          "kernelName": "csharp"
        }
      },
      "outputs": [
        {
          "data": {
            "text/html": [
              "<div><div></div><div></div><div><strong>Installed Packages</strong><ul><li><span>microsoft.agents.ai, 1.0.0-preview.251001.2</span></li></ul></div></div>"
            ]
          },
          "metadata": {},
          "output_type": "display_data"
        }
      ],
      "source": [
        "#r \"nuget: Microsoft.Agents.AI, 1.0.0-preview.251001.3\""
      ]
    },
    {
      "cell_type": "code",
      "execution_count": 4,
      "id": "4ab7b15d",
      "metadata": {
        "language_info": {
          "name": "polyglot-notebook"
        },
        "polyglot_notebook": {
          "kernelName": "csharp"
        }
      },
      "outputs": [],
      "source": [
        "// #r \"nuget: Microsoft.Extensions.AI.OpenAI, 9.9.0-preview.1.25458.4\""
      ]
    },
    {
      "cell_type": "code",
      "execution_count": 5,
      "id": "3fa8aa21",
      "metadata": {
        "language_info": {
          "name": "polyglot-notebook"
        },
        "polyglot_notebook": {
          "kernelName": "csharp"
        }
      },
      "outputs": [
        {
          "data": {
            "text/html": [
              "<div><div></div><div></div><div><strong>Installed Packages</strong><ul><li><span>DotNetEnv, 3.1.1</span></li></ul></div></div>"
            ]
          },
          "metadata": {},
          "output_type": "display_data"
        }
      ],
      "source": [
        "#r \"nuget: DotNetEnv, 3.1.1\""
      ]
    },
    {
      "cell_type": "code",
      "execution_count": 6,
      "id": "fc8ee8ea",
      "metadata": {
        "language_info": {
          "name": "polyglot-notebook"
        },
        "polyglot_notebook": {
          "kernelName": "csharp"
        }
      },
      "outputs": [],
      "source": [
        "using System;\n",
        "using System.ComponentModel;\n",
        "using System.ClientModel;\n",
        "\n",
        "using Microsoft.Extensions.AI;\n",
        "using Microsoft.Agents.AI;\n",
        "using OpenAI;"
      ]
    },
    {
      "cell_type": "code",
      "execution_count": 7,
      "id": "699b1c83",
      "metadata": {
        "language_info": {
          "name": "polyglot-notebook"
        },
        "polyglot_notebook": {
          "kernelName": "csharp"
        }
      },
      "outputs": [],
      "source": [
        " using DotNetEnv;"
      ]
    },
    {
      "cell_type": "code",
      "execution_count": 8,
      "id": "daa649a0",
      "metadata": {
        "language_info": {
          "name": "polyglot-notebook"
        },
        "polyglot_notebook": {
          "kernelName": "csharp"
        }
      },
      "outputs": [],
      "source": [
        "Env.Load(\"../../../.env\");"
      ]
    },
    {
      "cell_type": "code",
      "execution_count": 9,
      "id": "29661a90",
      "metadata": {
        "language_info": {
          "name": "polyglot-notebook"
        },
        "polyglot_notebook": {
          "kernelName": "csharp"
        }
      },
      "outputs": [],
      "source": [
        "[Description(\"Provides a random vacation destination.\")]\n",
        "static string GetRandomDestination()\n",
        "{\n",
        "    var destinations = new List<string>\n",
        "    {\n",
        "        \"Paris, France\",\n",
        "        \"Tokyo, Japan\",\n",
        "        \"New York City, USA\",\n",
        "        \"Sydney, Australia\",\n",
        "        \"Rome, Italy\",\n",
        "        \"Barcelona, Spain\",\n",
        "        \"Cape Town, South Africa\",\n",
        "        \"Rio de Janeiro, Brazil\",\n",
        "        \"Bangkok, Thailand\",\n",
        "        \"Vancouver, Canada\"\n",
        "    };\n",
        "\n",
        "    var random = new Random();\n",
        "    int index = random.Next(destinations.Count);\n",
        "    return destinations[index];\n",
        "}"
      ]
    },
    {
      "cell_type": "code",
      "execution_count": 10,
      "id": "d2ed1f8b",
      "metadata": {
        "language_info": {
          "name": "polyglot-notebook"
        },
        "polyglot_notebook": {
          "kernelName": "csharp"
        }
      },
      "outputs": [],
      "source": [
        "var github_endpoint = Environment.GetEnvironmentVariable(\"GITHUB_ENDPOINT\") ?? throw new InvalidOperationException(\"GITHUB_ENDPOINT is not set.\");\n",
        "var github_model_id = Environment.GetEnvironmentVariable(\"GITHUB_MODEL_ID\") ?? \"gpt-4o-mini\";\n",
        "var github_token = Environment.GetEnvironmentVariable(\"GITHUB_TOKEN\") ?? throw new InvalidOperationException(\"GITHUB_TOKEN is not set.\");"
      ]
    },
    {
      "cell_type": "code",
      "execution_count": 11,
      "id": "c36c73e1",
      "metadata": {
        "language_info": {
          "name": "polyglot-notebook"
        },
        "polyglot_notebook": {
          "kernelName": "csharp"
        }
      },
      "outputs": [],
      "source": [
        "var openAIOptions = new OpenAIClientOptions()\n",
        "{\n",
        "    Endpoint= new Uri(github_endpoint)\n",
        "};"
      ]
    },
    {
      "cell_type": "code",
      "execution_count": 12,
      "id": "6d94ff10",
      "metadata": {
        "language_info": {
          "name": "polyglot-notebook"
        },
        "polyglot_notebook": {
          "kernelName": "csharp"
        }
      },
      "outputs": [],
      "source": [
        "\n",
        "var openAIClient = new OpenAIClient(new ApiKeyCredential(github_token), openAIOptions);"
      ]
    },
    {
      "cell_type": "code",
      "execution_count": 13,
      "id": "fe32b57a",
      "metadata": {
        "language_info": {
          "name": "polyglot-notebook"
        },
        "polyglot_notebook": {
          "kernelName": "csharp"
        }
      },
      "outputs": [],
      "source": [
        "AIAgent agent = new OpenAIClient(new ApiKeyCredential(github_token), openAIOptions).GetChatClient(github_model_id).CreateAIAgent(\n",
        "    instructions:\"You are a helpful AI Agent that can help plan vacations for customers at random destinations\", tools: [AIFunctionFactory.Create((Func<string>)GetRandomDestination)]);"
      ]
    },
    {
      "cell_type": "code",
      "execution_count": 14,
      "metadata": {
        "language_info": {
          "name": "polyglot-notebook"
        },
        "polyglot_notebook": {
          "kernelName": "csharp"
        }
      },
      "outputs": [],
      "source": [
        "AgentThread thread = agent.GetNewThread();"
      ]
    },
    {
      "cell_type": "code",
      "execution_count": 15,
      "id": "5e455aff",
      "metadata": {
        "language_info": {
          "name": "polyglot-notebook"
        },
        "polyglot_notebook": {
          "kernelName": "csharp"
        }
      },
      "outputs": [
        {
          "name": "stdout",
          "output_type": "stream",
          "text": [
            "Your day trip will be in Paris, France! Here's a proposed itinerary for your day:\n",
            "\n",
            "### Morning\n",
            "- **Breakfast at a Local Café**: Start your day with a traditional French breakfast. Try a croissant and café au lait at a local café.\n",
            "- **Visit the Eiffel Tower**: Arrive early to beat the crowds. Enjoy the stunning views of the city from the top.\n",
            "\n",
            "### Late Morning\n",
            "- **Stroll Along the Seine**: Take a leisurely walk along the Seine River and enjoy the picturesque views.\n",
            "- **Visit Notre-Dame Cathedral**: Explore this iconic Gothic cathedral and its stunning architecture.\n",
            "\n",
            "### Lunch\n",
            "- **Lunch at a Bistro**: Treat yourself to a classic French lunch at a nearby bistro. Consider trying coq au vin or a delicious quiche.\n",
            "\n",
            "### Afternoon\n",
            "- **Explore the Louvre**: Spend your afternoon at the Louvre Museum. While you may not see everything, be sure to check out the Mona Lisa and other famous artworks.\n",
            "- **Walk Through the Tuileries Garden**: After the museum, relax in the beautiful Tuileries Garden.\n",
            "\n",
            "### Evening\n",
            "- **Dinner in Montmartre**: Head to Montmartre for dinner. Enjoy the atmosphere, and consider trying some French specialties at a local restaurant.\n",
            "- **Visit Sacré-Cœur Basilica**: After dinner, walk up to the Basilica for a stunning view of Paris at sunset.\n",
            "\n",
            "### Night\n",
            "- **Seine River Cruise**: End your day with a relaxing cruise on the Seine River, taking in the beautifully illuminated city sights.\n",
            "\n",
            "Make sure to check the opening hours of attractions and make reservations where necessary. Enjoy your day trip in Paris!\r\n"
          ]
        }
      ],
      "source": [
        "Console.WriteLine(await agent.RunAsync(\"Plan me a day trip\",thread));"
      ]
    },
    {
      "cell_type": "code",
      "execution_count": 16,
      "id": "592ae1bb",
      "metadata": {
        "language_info": {
          "name": "polyglot-notebook"
        },
        "polyglot_notebook": {
          "kernelName": "csharp"
        }
      },
      "outputs": [
        {
          "name": "stdout",
          "output_type": "stream",
          "text": [
            "Your new vacation destination is Rio de Janeiro, Brazil! Here's a proposed itinerary for your trip:\n",
            "\n",
            "### Day 1: Arrival in Rio\n",
            "- **Check-in**: Arrive and settle into your accommodation.\n",
            "- **Evening at Copacabana Beach**: Stroll along the famous Copacabana Beach. Enjoy the vibrant atmosphere and watch the sunset.\n",
            "\n",
            "### Day 2: Exploring the City\n",
            "- **Visit Christ the Redeemer**: Start your day with a visit to the iconic Christ the Redeemer statue. Take the train up to the top for breathtaking views.\n",
            "- **Explore Santa Teresa**: Wander through the charming streets of Santa Teresa, known for its colonial-style houses, art studios, and local shops.\n",
            "- **Lunch at a Local Restaurant**: Enjoy traditional Brazilian cuisine, such as feijoada (black bean stew).\n",
            "- **Afternoon at Sugarloaf Mountain**: Take a cable car ride to Sugarloaf Mountain for panoramic views of the city and coastline.\n",
            "\n",
            "### Day 3: Cultural Experience\n",
            "- **Visit the Selarón Steps**: Walk up the colorful Selarón Steps, an iconic mosaic staircase.\n",
            "- **Museum Visit**: Explore the Museum of Tomorrow (Museu do Amanhã) or the National Museum of Fine Arts.\n",
            "- **Lunch at a Churrascaria** (Brazilian BBQ): Treat yourself to a delicious barbecue lunch at a local churrascaria.\n",
            "- **Explore the Markets**: Check out a local market for souvenirs and to experience the local culture.\n",
            "\n",
            "### Day 4: Outdoor Adventures\n",
            "- **Hiking in Tijuca National Park**: Spend a day hiking in Tijuca National Park, one of the largest urban rainforests in the world. Enjoy the lush greenery and waterfalls.\n",
            "- **Dinner at a Beachfront Restaurant**: End your day with a delicious dinner at a beachfront restaurant with fresh seafood.\n",
            "\n",
            "### Day 5: Relaxation and Departure\n",
            "- **Relax at Ipanema Beach**: Spend your last morning relaxing at Ipanema Beach, soaking up the sun.\n",
            "- **Last-minute Shopping**: Do some last-minute shopping at local boutiques.\n",
            "- **Departure**: Head to the airport for your flight home.\n",
            "\n",
            "Make sure to enjoy the vibrant culture, beautiful landscapes, and amazing food that Rio de Janeiro has to offer!\r\n"
          ]
        }
      ],
      "source": [
        "Console.WriteLine(await agent.RunAsync(\"I don't like that destination. Plan me another vacation.\",thread));"
      ]
    }
  ],
  "metadata": {
    "kernelspec": {
      "display_name": ".NET (C#)",
      "language": "C#",
      "name": ".net-csharp"
    },
    "language_info": {
      "name": "polyglot-notebook"
    },
    "polyglot_notebook": {
      "kernelInfo": {
        "defaultKernelName": "csharp",
        "items": [
          {
            "aliases": [],
            "name": "csharp"
          }
        ]
      }
    }
  },
  "nbformat": 4,
  "nbformat_minor": 5
}
