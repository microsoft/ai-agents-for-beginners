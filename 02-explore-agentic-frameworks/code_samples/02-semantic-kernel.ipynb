{
 "cells": [
  {
   "cell_type": "markdown",
   "metadata": {},
   "source": [
    "# Semantic Kernel \n",
    "\n",
    "In this code sample, you will use the [Semantic Kernel](https://aka.ms/ai-agents-beginners/semantic-kernel) AI Framework to create a basic agent. \n",
    "\n",
    "The goal of this sample is to show you the steps that we will later use in the addtional code samples when implementing the different agentic patterns. "
   ]
  },
  {
   "cell_type": "markdown",
   "metadata": {},
   "source": [
    "## Import the Needed Python Packages "
   ]
  },
  {
   "cell_type": "code",
   "execution_count": 29,
   "metadata": {},
   "outputs": [],
   "source": [
    "import json\n",
    "import os \n",
    "\n",
    "from typing import Annotated\n",
    "\n",
    "from dotenv import load_dotenv\n",
    "\n",
    "from IPython.display import display, HTML\n",
    "\n",
    "from openai import AsyncOpenAI\n",
    "\n",
    "from semantic_kernel.agents import ChatCompletionAgent, ChatHistoryAgentThread\n",
    "from semantic_kernel.connectors.ai.open_ai import OpenAIChatCompletion\n",
    "from semantic_kernel.contents import FunctionCallContent, FunctionResultContent, StreamingTextContent\n",
    "from semantic_kernel.functions import kernel_function"
   ]
  },
  {
   "cell_type": "markdown",
   "metadata": {},
   "source": [
    "## Creating the Client\n",
    "\n",
    "In this sample, we will use [GitHub Models](https://aka.ms/ai-agents-beginners/github-models) for access to the LLM. \n",
    "\n",
    "The `ai_model_id` is defined as `gpt-4o-mini`. Try changing the model to another model available on the GitHub Models marketplace to see the different results. \n",
    "\n",
    "For us to use the `Azure Inference SDK` that is used for the `base_url` for GitHub Models, we will use the `OpenAIChatCompletion` connector within Semantic Kernel. There are also other [available connectors](https://learn.microsoft.com/semantic-kernel/concepts/ai-services/chat-completion) to use Semantic Kernel for other model providers."
   ]
  },
  {
   "cell_type": "code",
   "execution_count": 30,
   "metadata": {},
   "outputs": [],
   "source": [
    "import random   \n",
    "\n",
    "# Define a sample plugin for the sample\n",
    "\n",
    "class DestinationsPlugin:\n",
    "    \"\"\"A List of Random Destinations for a vacation.\"\"\"\n",
    "\n",
    "    def __init__(self):\n",
    "        # List of vacation destinations\n",
    "        self.destinations = [\n",
    "            \"Barcelona, Spain\",\n",
    "            \"Paris, France\",\n",
    "            \"Berlin, Germany\",\n",
    "            \"Tokyo, Japan\",\n",
    "            \"Sydney, Australia\",\n",
    "            \"New York, USA\",\n",
    "            \"Cairo, Egypt\",\n",
    "            \"Cape Town, South Africa\",\n",
    "            \"Rio de Janeiro, Brazil\",\n",
    "            \"Bali, Indonesia\"\n",
    "        ]\n",
    "        # Track last destination to avoid repeats\n",
    "        self.last_destination = None\n",
    "\n",
    "    @kernel_function(description=\"Provides a random vacation destination.\")\n",
    "    def get_random_destination(self) -> Annotated[str, \"Returns a random vacation destination.\"]:\n",
    "        # Get available destinations (excluding last one if possible)\n",
    "        available_destinations = self.destinations.copy()\n",
    "        if self.last_destination and len(available_destinations) > 1:\n",
    "            available_destinations.remove(self.last_destination)\n",
    "\n",
    "        # Select a random destination\n",
    "        destination = random.choice(available_destinations)\n",
    "\n",
    "        # Update the last destination\n",
    "        self.last_destination = destination\n",
    "\n",
    "        return destination"
   ]
  },
  {
   "cell_type": "code",
   "execution_count": 31,
   "metadata": {},
   "outputs": [],
   "source": [
    "load_dotenv()\n",
    "client = AsyncOpenAI(\n",
    "    api_key=os.environ.get(\"GITHUB_TOKEN\"), \n",
    "    base_url=\"https://models.inference.ai.azure.com/\",\n",
    ")\n",
    "\n",
    "# Create an AI Service that will be used by the `ChatCompletionAgent`\n",
    "chat_completion_service = OpenAIChatCompletion(\n",
    "    ai_model_id=\"gpt-4o-mini\",\n",
    "    async_client=client,\n",
    ")"
   ]
  },
  {
   "cell_type": "markdown",
   "metadata": {},
   "source": [
    "## Creating the Agent \n",
    "\n",
    "Below we create the Agent called `TravelAgent`.\n",
    "\n",
    "For this example, we are using very simple instructions. You can change these instructions to see how the agent responds differently. "
   ]
  },
  {
   "cell_type": "markdown",
   "metadata": {},
   "source": []
  },
  {
   "cell_type": "code",
   "execution_count": 32,
   "metadata": {},
   "outputs": [],
   "source": [
    "agent = ChatCompletionAgent(\n",
    "    service=chat_completion_service, \n",
    "    plugins=[DestinationsPlugin()],\n",
    "    name=\"TravelAgent\",\n",
    "    instructions=\"You are a helpful AI Agent that can help plan vacations for customers at random destinations\",\n",
    ")"
   ]
  },
  {
   "cell_type": "markdown",
   "metadata": {},
   "source": [
    "## Running the Agents \n",
    "\n",
    "Now we can run the Agent by defining the `ChatHistory` and adding the `system_message` to it. We will use the `AGENT_INSTRUCTIONS` that we defined earlier. \n",
    "\n",
    "After these are defined, we create a `user_inputs` that will be what the user is sending to the agent. In this case, we have set this message to `Plan me a sunny vacation`. \n",
    "\n",
    "Feel free to change this message to see how the agent responds differently. "
   ]
  },
  {
   "cell_type": "code",
   "execution_count": 33,
   "metadata": {},
   "outputs": [
    {
     "data": {
      "text/html": [
       "<div style='margin-bottom:10px'><div style='font-weight:bold'>User:</div><div style='margin-left:20px'>Plan me a 5 day trip.</div></div><div style='margin-bottom:10px'><details><summary style='cursor:pointer; font-weight:bold; color:#0066cc;'>Function Calls (click to expand)</summary><div style='margin:10px; padding:10px; background-color:#f8f8f8; border:1px solid #ddd; border-radius:4px; white-space:pre-wrap; font-size:14px; color:#333;'>Calling function: get_random_destination({})\n",
       "\n",
       "Function Result:\n",
       "\n",
       "Barcelona, Spain</div></details></div><div style='margin-bottom:20px'><div style='font-weight:bold'>TravelAgent:</div><div style='margin-left:20px; white-space:pre-wrap'>Your 5-day trip is planned for Barcelona, Spain! Here’s a suggested itinerary:\n",
       "\n",
       "### Day 1: Arrival in Barcelona\n",
       "- **Check-in:** Arrive at your accommodation and get settled.\n",
       "- **Explore La Rambla:** Stroll along this famous street, filled with shops, cafes, and street performers.\n",
       "- **Dinner:** Enjoy traditional tapas at a local restaurant.\n",
       "\n",
       "### Day 2: Gaudí and Gothic Quarter\n",
       "- **Morning:** Visit the Sagrada Família, the iconic basilica designed by Antoni Gaudí.\n",
       "- **Lunch:** Try some local cuisine at a nearby restaurant.\n",
       "- **Afternoon:** Explore the Gothic Quarter, including the Barcelona Cathedral and charming alleys.\n",
       "- **Evening:** Dinner at a restaurant in the Gothic Quarter.\n",
       "\n",
       "### Day 3: Montjuïc and Beach Day\n",
       "- **Morning:** Take a cable car to Montjuïc Castle and enjoy panoramic views of the city.\n",
       "- **Lunch:** Picnic at Montjuïc Park or eat at a beachfront restaurant.\n",
       "- **Afternoon:** Relax at Barceloneta Beach, sunbathing or swimming.\n",
       "- **Evening:** Enjoy a seafood dinner by the beach.\n",
       "\n",
       "### Day 4: Art and Culture\n",
       "- **Morning:** Visit the Picasso Museum or the Fundació Joan Miró for some art appreciation.\n",
       "- **Lunch:** Try a Catalan dish at a nearby cafe.\n",
       "- **Afternoon:** Explore the bustling market at La Boqueria for some local delicacies.\n",
       "- **Evening:** Catch a Flamenco show for an authentic cultural experience.\n",
       "\n",
       "### Day 5: Shopping and Departure\n",
       "- **Morning:** Spend some time shopping at Passeig de Gràcia, known for its luxury shops.\n",
       "- **Lunch:** Savor one last meal in Barcelona.\n",
       "- **Afternoon:** Depending on your flight time, enjoy a leisurely stroll or revisit a favorite spot.\n",
       "- **Departure:** Travel to the airport for your flight home.\n",
       "\n",
       "Enjoy your trip to Barcelona! If you need assistance with accommodations or activities, feel free to ask!</div></div><hr>"
      ],
      "text/plain": [
       "<IPython.core.display.HTML object>"
      ]
     },
     "metadata": {},
     "output_type": "display_data"
    },
    {
     "data": {
      "text/html": [
       "<div style='margin-bottom:10px'><div style='font-weight:bold'>User:</div><div style='margin-left:20px'>I don't like that destination. Plan me another vacation.</div></div><div style='margin-bottom:10px'><details><summary style='cursor:pointer; font-weight:bold; color:#0066cc;'>Function Calls (click to expand)</summary><div style='margin:10px; padding:10px; background-color:#f8f8f8; border:1px solid #ddd; border-radius:4px; white-space:pre-wrap; font-size:14px; color:#333;'>Calling function: get_random_destination({})\n",
       "\n",
       "Function Result:\n",
       "\n",
       "Rio de Janeiro, Brazil\n",
       "Calling function: get_random_destination({}{})\n",
       "\n",
       "Function Result:\n",
       "\n",
       "New York, USA\n",
       "\n",
       "Function Result:\n",
       "\n",
       "Cairo, Egypt</div></details></div><div style='margin-bottom:20px'><div style='font-weight:bold'>TravelAgent:</div><div style='margin-left:20px; white-space:pre-wrap'>Your new vacation destinations are:\n",
       "\n",
       "1. **Rio de Janeiro, Brazil**\n",
       "2. **New York, USA**\n",
       "3. **Cairo, Egypt**\n",
       "\n",
       "Please let me know which destination you prefer, and I can help plan a detailed itinerary!</div></div><hr>"
      ],
      "text/plain": [
       "<IPython.core.display.HTML object>"
      ]
     },
     "metadata": {},
     "output_type": "display_data"
    },
    {
     "data": {
      "text/html": [
       "<div style='margin-bottom:10px'><div style='font-weight:bold'>User:</div><div style='margin-left:20px'>I don't like that destination. Plan me another vacation.</div></div><div style='margin-bottom:10px'><details><summary style='cursor:pointer; font-weight:bold; color:#0066cc;'>Function Calls (click to expand)</summary><div style='margin:10px; padding:10px; background-color:#f8f8f8; border:1px solid #ddd; border-radius:4px; white-space:pre-wrap; font-size:14px; color:#333;'>Calling function: get_random_destination({})\n",
       "\n",
       "Function Result:\n",
       "\n",
       "Cape Town, South Africa</div></details></div><div style='margin-bottom:20px'><div style='font-weight:bold'>TravelAgent:</div><div style='margin-left:20px; white-space:pre-wrap'>Your new vacation destination is **Cape Town, South Africa**! Here's a suggested itinerary for a 5-day trip:\n",
       "\n",
       "### Day 1: Arrival in Cape Town\n",
       "- **Check-in:** Arrive at your accommodation and settle in.\n",
       "- **V&A Waterfront:** Explore the vibrant Victoria & Alfred Waterfront, with its shops, restaurants, and stunning views of Table Mountain.\n",
       "- **Dinner:** Enjoy seafood at a waterfront restaurant.\n",
       "\n",
       "### Day 2: Table Mountain and City Tour\n",
       "- **Morning:** Take a cable car to the top of Table Mountain for breathtaking views.\n",
       "- **Lunch:** Have lunch at a café on the mountain or back at the waterfront.\n",
       "- **Afternoon:** Join a city tour to visit landmarks like the District Six Museum and the Company's Garden.\n",
       "- **Evening:** Dinner in the trendy Camps Bay area with ocean views.\n",
       "\n",
       "### Day 3: Cape Peninsula Tour\n",
       "- **Full Day Tour:** Take a scenic drive to the Cape of Good Hope. Stops may include:\n",
       "  - Hout Bay (optional boat trip to see seals)\n",
       "  - Chapman's Peak Drive\n",
       "  - Cape Point\n",
       "  - Visit the African penguins at Boulders Beach.\n",
       "- **Lunch:** Picnic at the beach or stop at a local restaurant.\n",
       "- **Evening:** Return to Cape Town and relax at your accommodation.\n",
       "\n",
       "### Day 4: Winelands Exploration\n",
       "- **Day Trip to Stellenbosch and Franschhoek:** Explore the Cape Winelands.\n",
       "- **Wine Tasting:** Enjoy visits to local vineyards and tastings of South African wines.\n",
       "- **Lunch:** Dine at a wine estate restaurant.\n",
       "- **Evening:** Return to Cape Town for dinner.\n",
       "\n",
       "### Day 5: Relaxation and Departure\n",
       "- **Morning:** Relax at one of Cape Town's beautiful beaches, such as Clifton or Muizenberg.\n",
       "- **Lunch:** Enjoy your last meal in Cape Town at a beachfront café.\n",
       "- **Afternoon:** Depending on your flight time, do some last-minute shopping or visit a local market.\n",
       "- **Departure:** Head to the airport for your flight home.\n",
       "\n",
       "Enjoy your trip to Cape Town! If you need assistance with accommodations or activities, let me know!</div></div><hr>"
      ],
      "text/plain": [
       "<IPython.core.display.HTML object>"
      ]
     },
     "metadata": {},
     "output_type": "display_data"
    },
    {
     "data": {
      "text/html": [
       "<div style='margin-bottom:10px'><div style='font-weight:bold'>User:</div><div style='margin-left:20px'>Reduce the day trip to 3 days.</div></div><div style='margin-bottom:20px'><div style='font-weight:bold'>TravelAgent:</div><div style='margin-left:20px; white-space:pre-wrap'>Here's a condensed 3-day itinerary for your trip to Cape Town, South Africa:\n",
       "\n",
       "### Day 1: Arrival and V&A Waterfront\n",
       "- **Check-in:** Arrive at your accommodation and settle in.\n",
       "- **V&A Waterfront:** Explore the vibrant Victoria & Alfred Waterfront, with its shops and picturesque waterfront views.\n",
       "- **Dinner:** Enjoy a delicious seafood meal at a waterfront restaurant.\n",
       "\n",
       "### Day 2: Table Mountain and Cape Peninsula\n",
       "- **Morning:** Start your day by taking a cable car to the top of Table Mountain for stunning panoramic views of the city and coastline.\n",
       "- **Lunch:** Have lunch at a café on the mountain or back at the V&A Waterfront.\n",
       "- **Afternoon:** Take a scenic drive to Cape Point, which can include stops at Hout Bay and Chapman's Peak Drive along the way.\n",
       "  - Visit the Cape of Good Hope.\n",
       "  - Stop at Boulders Beach to see the African penguins.\n",
       "- **Evening:** Return to Cape Town and enjoy dinner in Camps Bay with beautiful ocean views.\n",
       "\n",
       "### Day 3: Winelands and Departure\n",
       "- **Morning:** Take a day trip to the Cape Winelands (Stellenbosch and Franschhoek). \n",
       "- **Wine Tasting:** Enjoy visits to local vineyards for wine tasting and learn about South African wines.\n",
       "- **Lunch:** Dine at one of the lovely wine estate restaurants.\n",
       "- **Afternoon:** Depending on your flight time, do some last-minute shopping or visit a local market before heading to the airport for your flight home.\n",
       "\n",
       "This itinerary gives you a taste of the highlights of Cape Town in just 3 days! If you need any more adjustments or assistance, let me know!</div></div><hr>"
      ],
      "text/plain": [
       "<IPython.core.display.HTML object>"
      ]
     },
     "metadata": {},
     "output_type": "display_data"
    },
    {
     "data": {
      "text/html": [
       "<div style='margin-bottom:10px'><div style='font-weight:bold'>User:</div><div style='margin-left:20px'>Named all of those destinations I have been recommended</div></div><div style='margin-bottom:20px'><div style='font-weight:bold'>TravelAgent:</div><div style='margin-left:20px; white-space:pre-wrap'>Here are all the destinations I have recommended to you:\n",
       "\n",
       "1. Barcelona, Spain\n",
       "2. Rio de Janeiro, Brazil\n",
       "3. New York, USA\n",
       "4. Cairo, Egypt\n",
       "5. Cape Town, South Africa\n",
       "\n",
       "If you would like to explore any of these destinations further or choose a different one, just let me know!</div></div><hr>"
      ],
      "text/plain": [
       "<IPython.core.display.HTML object>"
      ]
     },
     "metadata": {},
     "output_type": "display_data"
    }
   ],
   "source": [
    "user_inputs = [\n",
    "    \"Plan me a 5 day trip.\",\n",
    "    \"I don't like that destination. Plan me another vacation.\",\n",
    "    \"I don't like that destination. Plan me another vacation.\",\n",
    "    \"Reduce the day trip to 3 days.\",\n",
    "    \"Named all of those destinations I have been recommended\",\n",
    "]\n",
    "\n",
    "async def main():\n",
    "    thread: ChatHistoryAgentThread | None = None\n",
    "\n",
    "    for user_input in user_inputs:\n",
    "        html_output = (\n",
    "            f\"<div style='margin-bottom:10px'>\"\n",
    "            f\"<div style='font-weight:bold'>User:</div>\"\n",
    "            f\"<div style='margin-left:20px'>{user_input}</div></div>\"\n",
    "        )\n",
    "\n",
    "        agent_name = None\n",
    "        full_response: list[str] = []\n",
    "        function_calls: list[str] = []\n",
    "\n",
    "        # Buffer to reconstruct streaming function call\n",
    "        current_function_name = None\n",
    "        argument_buffer = \"\"\n",
    "\n",
    "        async for response in agent.invoke_stream(\n",
    "            messages=user_input,\n",
    "            thread=thread,\n",
    "        ):\n",
    "            thread = response.thread\n",
    "            agent_name = response.name\n",
    "            content_items = list(response.items)\n",
    "\n",
    "            for item in content_items:\n",
    "                if isinstance(item, FunctionCallContent):\n",
    "                    if item.function_name:\n",
    "                        current_function_name = item.function_name\n",
    "\n",
    "                    # Accumulate arguments (streamed in chunks)\n",
    "                    if isinstance(item.arguments, str):\n",
    "                        argument_buffer += item.arguments\n",
    "                elif isinstance(item, FunctionResultContent):\n",
    "                    # Finalize any pending function call before showing result\n",
    "                    if current_function_name:\n",
    "                        formatted_args = argument_buffer.strip()\n",
    "                        try:\n",
    "                            parsed_args = json.loads(formatted_args)\n",
    "                            formatted_args = json.dumps(parsed_args)\n",
    "                        except Exception:\n",
    "                            pass  # leave as raw string\n",
    "\n",
    "                        function_calls.append(f\"Calling function: {current_function_name}({formatted_args})\")\n",
    "                        current_function_name = None\n",
    "                        argument_buffer = \"\"\n",
    "\n",
    "                    function_calls.append(f\"\\nFunction Result:\\n\\n{item.result}\")\n",
    "                elif isinstance(item, StreamingTextContent) and item.text:\n",
    "                    full_response.append(item.text)\n",
    "\n",
    "        if function_calls:\n",
    "            html_output += (\n",
    "                \"<div style='margin-bottom:10px'>\"\n",
    "                \"<details>\"\n",
    "                \"<summary style='cursor:pointer; font-weight:bold; color:#0066cc;'>Function Calls (click to expand)</summary>\"\n",
    "                \"<div style='margin:10px; padding:10px; background-color:#f8f8f8; \"\n",
    "                \"border:1px solid #ddd; border-radius:4px; white-space:pre-wrap; font-size:14px; color:#333;'>\"\n",
    "                f\"{chr(10).join(function_calls)}\"\n",
    "                \"</div></details></div>\"\n",
    "            )\n",
    "\n",
    "        html_output += (\n",
    "            \"<div style='margin-bottom:20px'>\"\n",
    "            f\"<div style='font-weight:bold'>{agent_name or 'Assistant'}:</div>\"\n",
    "            f\"<div style='margin-left:20px; white-space:pre-wrap'>{''.join(full_response)}</div></div><hr>\"\n",
    "        )\n",
    "\n",
    "        display(HTML(html_output))\n",
    "\n",
    "await main()"
   ]
  },
  {
   "cell_type": "code",
   "execution_count": null,
   "metadata": {},
   "outputs": [],
   "source": []
  }
 ],
 "metadata": {
  "kernelspec": {
   "display_name": "Python 3",
   "language": "python",
   "name": "python3"
  },
  "language_info": {
   "codemirror_mode": {
    "name": "ipython",
    "version": 3
   },
   "file_extension": ".py",
   "mimetype": "text/x-python",
   "name": "python",
   "nbconvert_exporter": "python",
   "pygments_lexer": "ipython3",
   "version": "3.13.3"
  }
 },
 "nbformat": 4,
 "nbformat_minor": 2
}
