{
 "cells": [
  {
   "cell_type": "markdown",
   "metadata": {},
   "source": [
    "# AutoGen Basic Sample \n",
    "\n",
    "In this code sample, you will use the [AutoGen](https://aka.ms/ai-agents/autogen) AI Framework to create a basic agent. \n",
    "\n",
    "The goal of this sample is to show you the steps that we will later use in the addtional code samples when implementing the different agentic patterns. "
   ]
  },
  {
   "cell_type": "markdown",
   "metadata": {},
   "source": [
    "## Import the Needed Python Packages "
   ]
  },
  {
   "cell_type": "code",
   "execution_count": 9,
   "metadata": {},
   "outputs": [],
   "source": [
    "import os\n",
    "from dotenv import load_dotenv\n",
    "\n",
    "from autogen_agentchat.agents import AssistantAgent\n",
    "from autogen_core.models import UserMessage\n",
    "from autogen_ext.models.azure import AzureAIChatCompletionClient\n",
    "from azure.core.credentials import AzureKeyCredential\n",
    "from autogen_core import CancellationToken\n",
    "\n",
    "from autogen_agentchat.messages import TextMessage\n",
    "from autogen_agentchat.ui import Console\n"
   ]
  },
  {
   "cell_type": "markdown",
   "metadata": {},
   "source": [
    "## Create the Client \n",
    "\n",
    "In this sample, we will use [GitHub Models](https://aka.ms/ai-agents-beginners/github-models) for access to the LLM. \n",
    "\n",
    "The `model` is defined as `gpt-4o-mini`. Try changing the model to another model available on the GitHub Models marketplace to see the different results. \n",
    "\n",
    "As a quick test, we will just run a simple prompt - `What is the capital of France`. "
   ]
  },
  {
   "cell_type": "code",
   "execution_count": 10,
   "metadata": {},
   "outputs": [
    {
     "name": "stdout",
     "output_type": "stream",
     "text": [
      "finish_reason='stop' content='The capital of France is Paris.' usage=RequestUsage(prompt_tokens=14, completion_tokens=8) cached=False logprobs=None thought=None\n"
     ]
    }
   ],
   "source": [
    "load_dotenv()\n",
    "client = AzureAIChatCompletionClient(\n",
    "    model=\"gpt-4o-mini\",\n",
    "    endpoint=\"https://models.inference.ai.azure.com\",\n",
    "    # To authenticate with the model you will need to generate a personal access token (PAT) in your GitHub settings.\n",
    "    # Create your PAT token by following instructions here: https://docs.github.com/en/authentication/keeping-your-account-and-data-secure/managing-your-personal-access-tokens\n",
    "    credential=AzureKeyCredential(os.getenv(\"GITHUB_TOKEN\")),\n",
    "    model_info={\n",
    "        \"json_output\": True,\n",
    "        \"function_calling\": True,\n",
    "        \"vision\": True,\n",
    "        \"family\": \"unknown\",\n",
    "    },\n",
    ")\n",
    "\n",
    "result = await client.create([UserMessage(content=\"What is the capital of France?\", source=\"user\")])\n",
    "print(result)"
   ]
  },
  {
   "cell_type": "markdown",
   "metadata": {},
   "source": [
    "## Defining the Agent \n",
    "\n",
    "Now that we have set up the `client` and confirmed that it is working, let us create an `AssistantAgent`. Each agent can be assigned a: \n",
    "**name** - A short hand name that will be useful in referencing it in multi-agent flows. \n",
    "**model_client** - The client that you created in the earlier step. \n",
    "**tools** - Available tools that the Agent can use to complete a task.\n",
    "**system_message** - The metaprompt that defines the task, behavior and tone of the LLM. \n",
    "\n",
    "You can change the system message to see how the LLM responds. We will cover `tools` in Lesson #4. \n"
   ]
  },
  {
   "cell_type": "code",
   "execution_count": 11,
   "metadata": {},
   "outputs": [],
   "source": [
    "agent = AssistantAgent(\n",
    "    name=\"assistant\",\n",
    "    model_client=client,\n",
    "    tools=[],\n",
    "    system_message=\"You are a travel agent that plans great vacations\",\n",
    ")"
   ]
  },
  {
   "cell_type": "markdown",
   "metadata": {},
   "source": [
    "## Run the Agent \n",
    "\n",
    "The below function will run the agent. We use the the `on_message` method to update the Agent's state with the new message. \n",
    "\n",
    "In this case, we update the state with a new message from the user which is `\"Plan me a great sunny vacation\"`.\n",
    "\n",
    "You can change the message content to see how the LLM responds differently. "
   ]
  },
  {
   "cell_type": "code",
   "execution_count": 12,
   "metadata": {},
   "outputs": [
    {
     "data": {
      "text/html": [
       "<div style='margin-bottom:10px'><div style='font-weight:bold'>User:</div><div style='margin-left:20px'>Plan me a normal vacation in vietnam</div></div><div style='margin-bottom:20px'><div style='font-weight:bold'>Assistant:</div><div style='margin-left:20px; white-space:pre-wrap'>Certainly! Here’s a well-rounded 10-day itinerary for a trip to Vietnam that includes a mix of cultural experiences, natural beauty, and relaxation. \n",
       "\n",
       "### Day 1: Arrival in Hanoi\n",
       "- **Flight Arrival**: Arrive at Noi Bai International Airport in Hanoi.\n",
       "- **Check-in**: Hotel in the Old Quarter.\n",
       "- **Evening**: Stroll around Hoan Kiem Lake and explore the Old Quarter. Enjoy a traditional Vietnamese dinner at a local restaurant.\n",
       "\n",
       "### Day 2: Explore Hanoi\n",
       "- **Morning**: Visit Ho Chi Minh Mausoleum and the Presidential Palace complex.\n",
       "- **Afternoon**: Explore the Temple of Literature and the Vietnam Fine Arts Museum.\n",
       "- **Evening**: Attend a traditional Water Puppet Show.\n",
       "\n",
       "### Day 3: Day Trip to Ninh Binh\n",
       "- **Morning**: Travel to Ninh Binh (about 2 hours from Hanoi). Visit Tam Coc for a boat ride through stunning limestone karsts.\n",
       "- **Afternoon**: Visit Bich Dong Pagoda and explore the ancient capital of Hoa Lu.\n",
       "- **Evening**: Return to Hanoi.\n",
       "\n",
       "### Day 4: Halong Bay Cruise\n",
       "- **Morning**: Depart for Halong Bay (approximately 3-4 hours drive).\n",
       "- **Midday**: Board a cruise ship for an overnight stay. Enjoy lunch onboard.\n",
       "- **Afternoon**: Explore Sung Sot Cave and kayak around the bay.\n",
       "- **Evening**: Dinner on board, enjoy sunset views, and participate in onboard activities.\n",
       "\n",
       "### Day 5: Halong Bay & Return to Hanoi\n",
       "- **Morning**: Tai Chi session on the deck, brunch while cruising.\n",
       "- **Midday**: Disembark and return to Hanoi.\n",
       "- **Afternoon**: Visit the Vietnam Museum of Ethnology.\n",
       "- **Evening**: Explore local eateries or street food tours.\n",
       "\n",
       "### Day 6: Fly to Hue\n",
       "- **Morning**: Take a flight to Hue.\n",
       "- **Midday**: Check-in at your hotel, explore the Imperial City.\n",
       "- **Afternoon**: Visit the Thien Mu Pagoda and the tombs of Emperor Khai Dinh and Emperor Minh Mang.\n",
       "- **Evening**: Dinner along the Perfume River.\n",
       "\n",
       "### Day 7: Hue to Hoi An\n",
       "- **Morning**: Drive from Hue to Hoi An via the Hai Van Pass with scenic views.\n",
       "- **Afternoon**: Check into your hotel and explore Hoi An Ancient Town (visit Japanese Bridge, traditional shops).\n",
       "- **Evening**: Take part in a lantern-making workshop or enjoy dinner at a riverside restaurant.\n",
       "\n",
       "### Day 8: Relax in Hoi An\n",
       "- **Morning**: Enjoy a cooking class or attend a market tour and learn how to make Vietnamese dishes.\n",
       "- **Afternoon**: Spend time at An Bang Beach or go for a bike tour through rice paddies.\n",
       "- **Evening**: Relax at local cafes or explore more of the town's nightlife.\n",
       "\n",
       "### Day 9: Fly to Ho Chi Minh City (Saigon)\n",
       "- **Morning**: Fly to Ho Chi Minh City.\n",
       "- **Afternoon**: Explore key sites: Notre-Dame Cathedral Basilica, Ben Thanh Market, and the War Remnants Museum.\n",
       "- **Evening**: Dinner at a rooftop restaurant with views of the skyline.\n",
       "\n",
       "### Day 10: Cu Chi Tunnels and Departure\n",
       "- **Morning**: Take a half-day trip to the Cu Chi Tunnels to learn about the Vietnam War.\n",
       "- **Afternoon**: Return to Ho Chi Minh City, do some last-minute shopping or sightseeing.\n",
       "- **Evening**: Depart from Tan Son Nhat International Airport.\n",
       "\n",
       "### Travel Tips:\n",
       "- **Visa**: Check visa requirements based on your nationality.\n",
       "- **Currency**: Vietnam Dong (VND) is the official currency; credit cards are widely accepted in urban areas.\n",
       "- **Health**: Consider travel insurance and check vaccinations needed before travel.\n",
       "- **Language**: Basic English is spoken in tourist areas, but learning a few Vietnamese phrases can be helpful.\n",
       "\n",
       "Feel free to adjust the itinerary based on your interests or the pace you prefer. Enjoy your trip!</div></div>"
      ],
      "text/plain": [
       "<IPython.core.display.HTML object>"
      ]
     },
     "metadata": {},
     "output_type": "display_data"
    }
   ],
   "source": [
    "from IPython.display import display, HTML\n",
    "\n",
    "\n",
    "async def assistant_run():\n",
    "    # Define the query\n",
    "    user_query = \"Plan me a normal vacation in vietnam\"\n",
    "\n",
    "    # Start building HTML output\n",
    "    html_output = \"<div style='margin-bottom:10px'>\"\n",
    "    html_output += \"<div style='font-weight:bold'>User:</div>\"\n",
    "    html_output += f\"<div style='margin-left:20px'>{user_query}</div>\"\n",
    "    html_output += \"</div>\"\n",
    "\n",
    "    # Execute the agent response\n",
    "    response = await agent.on_messages(\n",
    "        [TextMessage(content=user_query, source=\"user\")],\n",
    "        cancellation_token=CancellationToken(),\n",
    "    )\n",
    "\n",
    "    # Add agent response to HTML\n",
    "    html_output += \"<div style='margin-bottom:20px'>\"\n",
    "    html_output += \"<div style='font-weight:bold'>Assistant:</div>\"\n",
    "    html_output += f\"<div style='margin-left:20px; white-space:pre-wrap'>{response.chat_message.content}</div>\"\n",
    "    html_output += \"</div>\"\n",
    "\n",
    "    # Display formatted HTML\n",
    "    display(HTML(html_output))\n",
    "\n",
    "# Run the function\n",
    "await assistant_run()"
   ]
  },
  {
   "cell_type": "markdown",
   "metadata": {},
   "source": []
  }
 ],
 "metadata": {
  "kernelspec": {
   "display_name": "Python 3",
   "language": "python",
   "name": "python3"
  },
  "language_info": {
   "codemirror_mode": {
    "name": "ipython",
    "version": 3
   },
   "file_extension": ".py",
   "mimetype": "text/x-python",
   "name": "python",
   "nbconvert_exporter": "python",
   "pygments_lexer": "ipython3",
   "version": "3.13.3"
  }
 },
 "nbformat": 4,
 "nbformat_minor": 2
}
