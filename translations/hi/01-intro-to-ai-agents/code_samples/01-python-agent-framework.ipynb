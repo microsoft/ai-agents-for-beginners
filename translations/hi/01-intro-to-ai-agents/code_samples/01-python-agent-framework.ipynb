{
 "cells": [
  {
   "cell_type": "markdown",
   "id": "f4cf9593",
   "metadata": {},
   "source": [
    "# 🐍 माइक्रोसॉफ्ट एजेंट फ्रेमवर्क (Python) के साथ AI ट्रैवल एजेंट\n",
    "\n",
    "## 📋 परिदृश्य का अवलोकन\n",
    "\n",
    "यह नोटबुक माइक्रोसॉफ्ट एजेंट फ्रेमवर्क का उपयोग करके एक बुद्धिमान यात्रा योजना एजेंट बनाने का तरीका दिखाती है। यह एजेंट GitHub Models का उपयोग करता है ताकि दुनिया भर के रैंडम डेस्टिनेशन के लिए व्यक्तिगत दिन-यात्रा की योजनाएं स्वचालित रूप से बनाई जा सकें।\n",
    "\n",
    "**मुख्य विशेषताएं:**\n",
    "- 🎲 **स्मार्ट डेस्टिनेशन चयन**: रैंडम डेस्टिनेशन चुनने के लिए कस्टम टूल फंक्शन\n",
    "- 🗺️ **विस्तृत यात्रा योजना**: स्थानीय सिफारिशों के साथ AI-संचालित यात्रा योजना\n",
    "- 🔄 **ऐसिंक प्रोसेसिंग**: API संचार के लिए asyncio का कुशल उपयोग\n",
    "- 🛠️ **टूल इंटीग्रेशन**: AI एजेंट्स में फंक्शन कॉलिंग क्षमताओं का प्रदर्शन\n",
    "\n",
    "## 🏗️ तकनीकी कार्यान्वयन\n",
    "\n",
    "### मुख्य घटक\n",
    "- **एजेंट फ्रेमवर्क**: माइक्रोसॉफ्ट के एजेंट ऑर्केस्ट्रेशन सिस्टम का Python में कार्यान्वयन\n",
    "- **GitHub Models API**: GitHub के इनफरेंस सर्विस के माध्यम से अत्याधुनिक भाषा मॉडल्स तक पहुंच\n",
    "- **OpenAI संगतता**: GitHub Models बैकएंड के साथ OpenAI क्लाइंट पैटर्न का उपयोग\n",
    "- **पर्यावरण प्रबंधन**: python-dotenv के साथ सुरक्षित क्रेडेंशियल हैंडलिंग\n",
    "\n",
    "### आर्किटेक्चर फ्लो\n",
    "```python\n",
    "User Request → ChatAgent → GitHub Models API ↔ get_random_destination()\n",
    "                     ↓\n",
    "              Travel Itinerary Response\n",
    "```\n",
    "\n",
    "### मुख्य क्लासेस और मेथड्स\n",
    "- `ChatAgent`: मुख्य संवादात्मक एजेंट ऑर्केस्ट्रेटर\n",
    "- `OpenAIChatClient`: GitHub Models API क्लाइंट रैपर\n",
    "- `get_random_destination()`: डेस्टिनेशन चयन के लिए कस्टम टूल फंक्शन\n",
    "- पर्यावरण वेरिएबल्स: सुरक्षित API कॉन्फ़िगरेशन प्रबंधन\n",
    "\n",
    "## ⚙️ आवश्यकताएं और सेटअप\n",
    "\n",
    "**आवश्यक डिपेंडेंसीज़:**\n",
    "```bash\n",
    "\n",
    "pip install agent-framework-core -U\n",
    "```\n",
    "\n",
    "**पर्यावरण कॉन्फ़िगरेशन (.env फाइल):**\n",
    "```env\n",
    "GITHUB_TOKEN=your_github_personal_access_token\n",
    "GITHUB_ENDPOINT=https://models.inference.ai.azure.com\n",
    "GITHUB_MODEL_ID=gpt-4o-mini\n",
    "```\n",
    "\n",
    "**GitHub Models एक्सेस:**\n",
    "1. GitHub Models एक्सेस के लिए साइन अप करें\n",
    "2. एक व्यक्तिगत एक्सेस टोकन जनरेट करें\n",
    "3. ऊपर दिखाए गए अनुसार पर्यावरण वेरिएबल्स कॉन्फ़िगर करें\n",
    "\n",
    "## 🚀 उपयोग निर्देश\n",
    "\n",
    "नीचे दिए गए सेल्स को क्रम में निष्पादित करें:\n",
    "1. आवश्यक लाइब्रेरीज़ को इंपोर्ट करें और पर्यावरण वेरिएबल्स लोड करें\n",
    "2. रैंडम डेस्टिनेशन जनरेटर टूल को परिभाषित करें\n",
    "3. AI एजेंट को बनाएं और कॉन्फ़िगर करें\n",
    "4. यात्रा योजना अनुरोध चलाएं और परिणाम देखें\n",
    "\n",
    "आइए एक बुद्धिमान यात्रा योजना सहायक बनाएं! 🌟\n"
   ]
  },
  {
   "cell_type": "code",
   "execution_count": null,
   "id": "fda5fa0a",
   "metadata": {},
   "outputs": [],
   "source": [
    "! pip install agent-framework-core -U"
   ]
  },
  {
   "cell_type": "code",
   "execution_count": null,
   "id": "c0df8a52",
   "metadata": {},
   "outputs": [],
   "source": [
    "# 📦 Import Required Libraries\n",
    "# Standard library imports for system operations and random number generation\n",
    "import os\n",
    "from random import randint\n",
    "\n",
    "# Third-party library for loading environment variables from .env file\n",
    "from dotenv import load_dotenv"
   ]
  },
  {
   "cell_type": "code",
   "execution_count": null,
   "id": "151e0314",
   "metadata": {},
   "outputs": [],
   "source": [
    "# 🤖 Import Microsoft Agent Framework Components\n",
    "# ChatAgent: The main agent class for conversational AI\n",
    "# OpenAIChatClient: Client for connecting to OpenAI-compatible APIs (including GitHub Models)\n",
    "from agent_framework import ChatAgent\n",
    "from agent_framework.openai import OpenAIChatClient"
   ]
  },
  {
   "cell_type": "code",
   "execution_count": null,
   "id": "a6141584",
   "metadata": {},
   "outputs": [],
   "source": [
    "# 🔧 Load Environment Variables\n",
    "# This loads configuration from a .env file in the project root\n",
    "# Required variables: GITHUB_ENDPOINT, GITHUB_TOKEN, GITHUB_MODEL_ID\n",
    "load_dotenv()"
   ]
  },
  {
   "cell_type": "code",
   "execution_count": null,
   "id": "a6507f83",
   "metadata": {},
   "outputs": [],
   "source": [
    "# 🎲 Tool Function: Random Destination Generator\n",
    "# This function will be available to the agent as a tool\n",
    "# The agent can call this function to get random vacation destinations\n",
    "def get_random_destination() -> str:\n",
    "    \"\"\"Get a random vacation destination.\n",
    "    \n",
    "    Returns:\n",
    "        str: A randomly selected destination from our predefined list\n",
    "    \"\"\"\n",
    "    # List of popular vacation destinations around the world\n",
    "    destinations = [\n",
    "        \"Barcelona, Spain\",\n",
    "        \"Paris, France\", \n",
    "        \"Berlin, Germany\",\n",
    "        \"Tokyo, Japan\",\n",
    "        \"Sydney, Australia\",\n",
    "        \"New York, USA\",\n",
    "        \"Cairo, Egypt\",\n",
    "        \"Cape Town, South Africa\",\n",
    "        \"Rio de Janeiro, Brazil\",\n",
    "        \"Bali, Indonesia\"\n",
    "    ]\n",
    "    # Return a random destination from the list\n",
    "    return destinations[randint(0, len(destinations) - 1)]"
   ]
  },
  {
   "cell_type": "code",
   "execution_count": null,
   "id": "5d4f0568",
   "metadata": {},
   "outputs": [],
   "source": [
    "# 🔗 Create OpenAI Chat Client for GitHub Models\n",
    "# This client connects to GitHub Models API (OpenAI-compatible endpoint)\n",
    "# Environment variables required:\n",
    "# - GITHUB_ENDPOINT: API endpoint URL (usually https://models.inference.ai.azure.com)\n",
    "# - GITHUB_TOKEN: Your GitHub personal access token\n",
    "# - GITHUB_MODEL_ID: Model to use (e.g., gpt-4o-mini, gpt-4o)\n",
    "openai_chat_client = OpenAIChatClient(\n",
    "    base_url=os.environ.get(\"GITHUB_ENDPOINT\"),\n",
    "    api_key=os.environ.get(\"GITHUB_TOKEN\"), \n",
    "    model_id=os.environ.get(\"GITHUB_MODEL_ID\")\n",
    ")"
   ]
  },
  {
   "cell_type": "code",
   "execution_count": null,
   "id": "cf5a4800",
   "metadata": {},
   "outputs": [],
   "source": [
    "# 🤖 Create the Travel Planning Agent\n",
    "# This creates a conversational AI agent with specific capabilities:\n",
    "# - chat_client: The AI model client for generating responses\n",
    "# - instructions: System prompt that defines the agent's personality and role\n",
    "# - tools: List of functions the agent can call to perform actions\n",
    "agent = ChatAgent(\n",
    "    chat_client=openai_chat_client,\n",
    "    instructions=\"You are a helpful AI Agent that can help plan vacations for customers at random destinations.\",\n",
    "    tools=[get_random_destination]  # Our random destination tool function\n",
    ")"
   ]
  },
  {
   "cell_type": "code",
   "execution_count": null,
   "id": "772e9481",
   "metadata": {},
   "outputs": [],
   "source": [
    "# 🚀 Run the Agent\n",
    "# Send a message to the agent and get a response\n",
    "# The agent will use its tools (get_random_destination) if needed\n",
    "response = await agent.run(\"Plan me a day trip\")"
   ]
  },
  {
   "cell_type": "code",
   "execution_count": null,
   "id": "93c114ea",
   "metadata": {},
   "outputs": [],
   "source": [
    "# 📋 View Raw Response Object\n",
    "# This shows the complete response structure including metadata\n",
    "# Useful for debugging and understanding the response format\n",
    "response"
   ]
  },
  {
   "cell_type": "code",
   "execution_count": null,
   "id": "a731b547",
   "metadata": {},
   "outputs": [],
   "source": [
    "# 📖 Extract and Display the Travel Plan\n",
    "# Get the last message from the conversation (agent's response)s\n",
    "last_message = response.messages[-1]\n",
    "# Extract the text content from the message\n",
    "text_content = last_message.contents[0].text\n",
    "# Display the formatted travel plan\n",
    "print(\"🏖️ Travel plan:\")\n",
    "print(text_content)"
   ]
  },
  {
   "cell_type": "markdown",
   "metadata": {},
   "source": [
    "\n---\n\n**अस्वीकरण**:  \nयह दस्तावेज़ AI अनुवाद सेवा [Co-op Translator](https://github.com/Azure/co-op-translator) का उपयोग करके अनुवादित किया गया है। जबकि हम सटीकता के लिए प्रयास करते हैं, कृपया ध्यान दें कि स्वचालित अनुवाद में त्रुटियां या अशुद्धियां हो सकती हैं। मूल भाषा में उपलब्ध मूल दस्तावेज़ को आधिकारिक स्रोत माना जाना चाहिए। महत्वपूर्ण जानकारी के लिए, पेशेवर मानव अनुवाद की सिफारिश की जाती है। इस अनुवाद के उपयोग से उत्पन्न किसी भी गलतफहमी या गलत व्याख्या के लिए हम उत्तरदायी नहीं हैं।\n"
   ]
  }
 ],
 "metadata": {
  "kernelspec": {
   "display_name": "agentframeworkenv",
   "language": "python",
   "name": "python3"
  },
  "language_info": {
   "codemirror_mode": {
    "name": "ipython",
    "version": 3
   },
   "file_extension": ".py",
   "mimetype": "text/x-python",
   "name": "python",
   "nbconvert_exporter": "python",
   "pygments_lexer": "ipython3",
   "version": "3.12.10"
  },
  "polyglot_notebook": {
   "kernelInfo": {
    "defaultKernelName": "csharp",
    "items": [
     {
      "aliases": [],
      "name": "csharp"
     }
    ]
   }
  },
  "coopTranslator": {
   "original_hash": "02d6b305971fe27448c9d46a4c91eaf3",
   "translation_date": "2025-10-01T22:05:19+00:00",
   "source_file": "01-intro-to-ai-agents/code_samples/01-python-agent-framework.ipynb",
   "language_code": "hi"
  }
 },
 "nbformat": 4,
 "nbformat_minor": 5
}