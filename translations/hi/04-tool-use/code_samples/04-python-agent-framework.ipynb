{
 "cells": [
  {
   "cell_type": "markdown",
   "id": "8744544f",
   "metadata": {},
   "source": [
    "# 🛠️ GitHub मॉडल्स के साथ उन्नत टूल उपयोग (Python)\n",
    "\n",
    "## 📋 सीखने के उद्देश्य\n",
    "\n",
    "यह नोटबुक Microsoft Agent Framework के साथ GitHub मॉडल्स का उपयोग करके उन्नत टूल इंटीग्रेशन पैटर्न को प्रदर्शित करता है। आप सीखेंगे कि कैसे कई टूल्स को बनाना, प्रबंधित करना और समन्वयित करना है ताकि परिष्कृत एजेंट क्षमताओं का निर्माण किया जा सके।\n",
    "\n",
    "**आप जो मास्टर करेंगे:**\n",
    "- 🔧 **मल्टी-टूल आर्किटेक्चर**: कई विशेष टूल्स के साथ एजेंट बनाना\n",
    "- 🎯 **टूल चयन लॉजिक**: एजेंट्स कैसे प्रत्येक कार्य के लिए सही टूल चुनते हैं\n",
    "- 📊 **डेटा प्रोसेसिंग टूल्स**: विभिन्न डेटा प्रकारों को संभालने वाले टूल्स बनाना\n",
    "- 🔗 **टूल संयोजन**: जटिल वर्कफ़्लो के लिए टूल्स को जोड़ना\n",
    "\n",
    "## 🎯 प्रमुख टूल पैटर्न\n",
    "\n",
    "### टूल डिज़ाइन सिद्धांत\n",
    "- **सिंगल रिस्पॉन्सिबिलिटी**: प्रत्येक टूल का स्पष्ट और केंद्रित उद्देश्य होता है\n",
    "- **टाइप सेफ्टी**: विश्वसनीय टूल निष्पादन के लिए मजबूत टाइपिंग\n",
    "- **एरर हैंडलिंग**: विफलता और पुनर्प्राप्ति के लिए ग्रेसफुल पैटर्न\n",
    "- **कंपोज़ेबिलिटी**: टूल्स जो एक साथ अच्छी तरह से काम करते हैं\n",
    "\n",
    "### उन्नत टूल फीचर्स\n",
    "- **कॉन्टेक्स्ट अवेयरनेस**: टूल्स जो बातचीत के संदर्भ को समझते हैं\n",
    "- **डेटा वैलिडेशन**: इनपुट की सफाई और आउटपुट की वैलिडेशन\n",
    "- **परफॉर्मेंस ऑप्टिमाइजेशन**: कुशल टूल निष्पादन पैटर्न\n",
    "- **एक्स्टेंसिबिलिटी**: नए टूल क्षमताओं को आसानी से जोड़ना\n",
    "\n",
    "## 🔧 तकनीकी आर्किटेक्चर\n",
    "\n",
    "### मुख्य घटक\n",
    "- **Microsoft Agent Framework**: उन्नत टूल समर्थन के साथ Python कार्यान्वयन\n",
    "- **GitHub Models Integration**: उच्च-प्रदर्शन भाषा मॉडल एक्सेस\n",
    "- **टूल रजिस्ट्री सिस्टम**: एजेंट क्षमताओं का संगठित प्रबंधन\n",
    "- **एरर रिकवरी पैटर्न्स**: टूल निष्पादन विफलताओं का मजबूत हैंडलिंग\n",
    "\n",
    "### टूल इंटीग्रेशन फ्लो\n",
    "```python\n",
    "User Request → Agent Analysis → Tool Selection → Tool Execution → Response Synthesis\n",
    "```\n",
    "\n",
    "\n",
    "## 🛠️ प्रदर्शित टूल श्रेणियां\n",
    "\n",
    "### 1. **डेटा जनरेशन टूल्स**\n",
    "- रैंडम डेस्टिनेशन जनरेटर\n",
    "- मौसम जानकारी प्रदाता  \n",
    "- यात्रा लागत कैलकुलेटर\n",
    "- गतिविधि सिफारिश इंजन\n",
    "\n",
    "### 2. **प्रोसेसिंग टूल्स**\n",
    "- टेक्स्ट फॉर्मेटिंग और वैलिडेशन\n",
    "- डेटा ट्रांसफॉर्मेशन यूटिलिटीज\n",
    "- कंटेंट एनालिसिस फंक्शन्स\n",
    "- रिस्पॉन्स एन्हांसमेंट टूल्स\n",
    "\n",
    "### 3. **इंटीग्रेशन टूल्स**\n",
    "- बाहरी API कनेक्टर्स\n",
    "- फाइल सिस्टम ऑपरेशन्स\n",
    "- डेटाबेस क्वेरी इंटरफेस\n",
    "- वेब स्क्रैपिंग यूटिलिटीज\n",
    "\n",
    "## ⚙️ आवश्यकताएं और सेटअप\n",
    "\n",
    "**आवश्यक डिपेंडेंसीज़:**\n",
    "```bash\n",
    "\n",
    "pip install agent-framework-core -U\n",
    "```\n",
    "\n",
    "\n",
    "**पर्यावरण कॉन्फ़िगरेशन (.env फाइल):**\n",
    "```env\n",
    "GITHUB_TOKEN=your_github_personal_access_token\n",
    "GITHUB_ENDPOINT=https://models.inference.ai.azure.com\n",
    "GITHUB_MODEL_ID=gpt-4o-mini\n",
    "```\n",
    "\n",
    "\n",
    "**वैकल्पिक APIs:**\n",
    "- मौसम सेवा API कुंजी (मौसम टूल्स के लिए)\n",
    "- मुद्रा रूपांतरण API एक्सेस\n",
    "- यात्रा जानकारी सेवा क्रेडेंशियल्स\n",
    "\n",
    "## 🎨 डिज़ाइन पैटर्न\n",
    "\n",
    "### टूल फैक्टरी पैटर्न\n",
    "- केंद्रीकृत टूल निर्माण और कॉन्फ़िगरेशन\n",
    "- सुसंगत टूल इंटरफेस डिज़ाइन\n",
    "- टूल रजिस्ट्रेशन और डिस्कवरी में आसानी\n",
    "\n",
    "### कमांड पैटर्न\n",
    "- टूल निष्पादन लॉजिक को समाहित करना\n",
    "- जटिल ऑपरेशन्स के लिए Undo/Redo कार्यक्षमता\n",
    "- टूल उपयोग के लिए ऑडिट लॉगिंग\n",
    "\n",
    "### ऑब्जर्वर पैटर्न\n",
    "- टूल निष्पादन की निगरानी\n",
    "- प्रदर्शन मेट्रिक्स संग्रह\n",
    "- एरर रिपोर्टिंग और अलर्टिंग\n",
    "\n",
    "## 🚀 सर्वोत्तम प्रथाएं\n",
    "\n",
    "- **टूल डॉक्यूमेंटेशन**: एजेंट समझने के लिए स्पष्ट विवरण\n",
    "- **इनपुट वैलिडेशन**: मजबूत पैरामीटर चेकिंग और सफाई\n",
    "- **आउटपुट फॉर्मेटिंग**: सुसंगत, पार्सेबल टूल प्रतिक्रियाएं\n",
    "- **एरर मैसेजेस**: डिबगिंग के लिए सहायक एरर जानकारी\n",
    "- **परफॉर्मेंस**: उत्तरदायीता के लिए अनुकूलित टूल निष्पादन\n",
    "\n",
    "शक्तिशाली टूल क्षमताओं के साथ एजेंट बनाने के लिए तैयार हैं? चलिए कुछ अद्भुत बनाते हैं! ⚡\n"
   ]
  },
  {
   "cell_type": "code",
   "execution_count": null,
   "id": "59c0feeb",
   "metadata": {},
   "outputs": [],
   "source": [
    "! pip install agent-framework-core -U"
   ]
  },
  {
   "cell_type": "code",
   "execution_count": null,
   "id": "c0df8a52",
   "metadata": {},
   "outputs": [],
   "source": [
    "# � Import core dependencies for Agent Framework and tool integration\n",
    "# This sets up the essential libraries for building intelligent agents with tool capabilities\n",
    "\n",
    "import asyncio\n",
    "import os\n",
    "import json\n",
    "\n",
    "from dotenv import load_dotenv  # For loading environment variables securely\n",
    "from random import randint\n",
    "\n",
    "# These are the core components for building tool-enabled agents\n",
    "from agent_framework import ChatAgent           # Main agent class\n",
    "from agent_framework.openai import OpenAIChatClient  # OpenAI-compatible client"
   ]
  },
  {
   "cell_type": "code",
   "execution_count": null,
   "id": "24c10eb0",
   "metadata": {},
   "outputs": [],
   "source": [
    "load_dotenv()"
   ]
  },
  {
   "cell_type": "code",
   "execution_count": null,
   "id": "151e0314",
   "metadata": {},
   "outputs": [],
   "source": [
    "# 🔑 Environment variables verification\n",
    "# Ensure all required GitHub Models credentials are properly configured\n",
    "print(\"GITHUB_ENDPOINT:\", os.environ.get(\"GITHUB_ENDPOINT\"))\n",
    "print(\"GITHUB_TOKEN:\", \"***\" if os.environ.get(\"GITHUB_TOKEN\") else \"Not set\")\n",
    "print(\"GITHUB_MODEL_ID:\", os.environ.get(\"GITHUB_MODEL_ID\"))"
   ]
  },
  {
   "cell_type": "code",
   "execution_count": null,
   "id": "a6141584",
   "metadata": {},
   "outputs": [],
   "source": [
    "# 🧪 Test GitHub Models connectivity\n",
    "openai_chat_client = OpenAIChatClient(base_url=os.environ.get(\"GITHUB_ENDPOINT\"), api_key=os.environ.get(\"GITHUB_TOKEN\"), model_id=os.environ.get(\"GITHUB_MODEL_ID\"))"
   ]
  },
  {
   "cell_type": "code",
   "execution_count": null,
   "id": "a6507f83",
   "metadata": {},
   "outputs": [],
   "source": [
    "# 🛠️ Define travel planning tools for agent integration\n",
    "# These functions provide specific capabilities that the agent can invoke dynamically\n",
    "\n",
    "def get_random_destination() -> str:\n",
    "    \"\"\"\n",
    "    🎲 Random destination generator tool\n",
    "    Returns a randomly selected travel destination from curated list\n",
    "    Useful when customers need inspiration for their next vacation\n",
    "    \"\"\"\n",
    "    destinations = [\n",
    "        \"Paris, France\",\n",
    "        \"Tokyo, Japan\", \n",
    "        \"New York City, USA\",\n",
    "        \"London, England\",\n",
    "        \"Rome, Italy\",\n",
    "        \"Sydney, Australia\",\n",
    "        \"Dubai, UAE\",\n",
    "        \"Barcelona, Spain\",\n",
    "        \"Bangkok, Thailand\",\n",
    "        \"Amsterdam, Netherlands\",\n",
    "        \"Istanbul, Turkey\",\n",
    "        \"Prague, Czech Republic\",\n",
    "        \"Santorini, Greece\",\n",
    "        \"Reykjavik, Iceland\",\n",
    "        \"Marrakech, Morocco\",\n",
    "        \"Cape Town, South Africa\",\n",
    "        \"Rio de Janeiro, Brazil\",\n",
    "        \"Bali, Indonesia\"\n",
    "    ]\n",
    "    # 🎯 Return random selection from the curated destination list\n",
    "    return destinations[randint(0, len(destinations) - 1)]"
   ]
  },
  {
   "cell_type": "code",
   "execution_count": null,
   "id": "5d4f0568",
   "metadata": {},
   "outputs": [],
   "source": [
    "# 🔗 Initialize GitHub Models chat client for agent communication\n",
    "# Creates the primary interface between the agent and the language model\n",
    "openai_chat_client = OpenAIChatClient(base_url=os.environ.get(\"GITHUB_ENDPOINT\"), api_key=os.environ.get(\"GITHUB_TOKEN\"), model_id=os.environ.get(\"GITHUB_MODEL_ID\"))"
   ]
  },
  {
   "cell_type": "code",
   "execution_count": null,
   "id": "751668c5",
   "metadata": {},
   "outputs": [],
   "source": [
    "# 🤖 Configure travel agent identity and behavioral instructions\n",
    "# Define the agent's personality, capabilities, and operational guidelines\n",
    "\n",
    "AGENT_NAME = \"TravelAgent\"\n",
    "\n",
    "AGENT_INSTRUCTIONS = \"\"\"You are a helpful AI Agent that can help plan vacations for customers at random destinations\n",
    "\"\"\""
   ]
  },
  {
   "cell_type": "code",
   "execution_count": null,
   "id": "be18ac4f",
   "metadata": {},
   "outputs": [],
   "source": [
    "agent = ChatAgent(\n",
    "        name = AGENT_NAME,\n",
    "        chat_client=openai_chat_client,\n",
    "        instructions=AGENT_INSTRUCTIONS,\n",
    "        tools=[get_random_destination]\n",
    ")"
   ]
  },
  {
   "cell_type": "code",
   "execution_count": null,
   "id": "772e9481",
   "metadata": {},
   "outputs": [],
   "source": [
    "thread = agent.get_new_thread()"
   ]
  },
  {
   "cell_type": "code",
   "execution_count": null,
   "id": "a731b547",
   "metadata": {},
   "outputs": [],
   "source": [
    "response1 = await agent.run(\"Plan me a day trip\",thread= thread)"
   ]
  },
  {
   "cell_type": "code",
   "execution_count": null,
   "id": "7d3fe00a",
   "metadata": {},
   "outputs": [],
   "source": [
    "\n",
    "last_message = response1.messages[-1]\n",
    "text_content = last_message.contents[0].text\n",
    "print(\"Travel plan:\")\n",
    "print(text_content)"
   ]
  },
  {
   "cell_type": "markdown",
   "metadata": {},
   "source": [
    "\n---\n\n**अस्वीकरण**:  \nयह दस्तावेज़ AI अनुवाद सेवा [Co-op Translator](https://github.com/Azure/co-op-translator) का उपयोग करके अनुवादित किया गया है। जबकि हम सटीकता के लिए प्रयास करते हैं, कृपया ध्यान दें कि स्वचालित अनुवाद में त्रुटियां या अशुद्धियां हो सकती हैं। मूल भाषा में उपलब्ध मूल दस्तावेज़ को आधिकारिक स्रोत माना जाना चाहिए। महत्वपूर्ण जानकारी के लिए, पेशेवर मानव अनुवाद की सिफारिश की जाती है। इस अनुवाद के उपयोग से उत्पन्न किसी भी गलतफहमी या गलत व्याख्या के लिए हम उत्तरदायी नहीं हैं।\n"
   ]
  }
 ],
 "metadata": {
  "kernelspec": {
   "display_name": "agentenv",
   "language": "python",
   "name": "python3"
  },
  "language_info": {
   "codemirror_mode": {
    "name": "ipython",
    "version": 3
   },
   "file_extension": ".py",
   "mimetype": "text/x-python",
   "name": "python",
   "nbconvert_exporter": "python",
   "pygments_lexer": "ipython3",
   "version": "3.12.10"
  },
  "polyglot_notebook": {
   "kernelInfo": {
    "defaultKernelName": "csharp",
    "items": [
     {
      "aliases": [],
      "name": "csharp"
     }
    ]
   }
  },
  "coopTranslator": {
   "original_hash": "42966ddac53cebaf0ac1ce33b2ee7059",
   "translation_date": "2025-10-01T22:07:34+00:00",
   "source_file": "04-tool-use/code_samples/04-python-agent-framework.ipynb",
   "language_code": "hi"
  }
 },
 "nbformat": 4,
 "nbformat_minor": 5
}