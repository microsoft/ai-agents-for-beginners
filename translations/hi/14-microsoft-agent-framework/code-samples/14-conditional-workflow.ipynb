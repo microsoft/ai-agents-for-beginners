{
 "cells": [
  {
   "cell_type": "code",
   "execution_count": 1,
   "id": "4b2cf5f5",
   "metadata": {},
   "outputs": [
    {
     "name": "stdout",
     "output_type": "stream",
     "text": [
      "✅ All imports successful!\n"
     ]
    }
   ],
   "source": [
    "import asyncio\n",
    "import json\n",
    "import os\n",
    "from typing import Annotated, Any, Never\n",
    "\n",
    "from agent_framework import (\n",
    "    AgentExecutor,\n",
    "    AgentExecutorRequest,\n",
    "    AgentExecutorResponse,\n",
    "    ChatMessage,\n",
    "    Role,\n",
    "    WorkflowBuilder,\n",
    "    WorkflowContext,\n",
    "    ai_function,\n",
    "    executor,\n",
    ")\n",
    "\n",
    "# 🤖 GitHub Models or OpenAI client integration\n",
    "from agent_framework.openai import OpenAIChatClient\n",
    "from dotenv import load_dotenv\n",
    "from IPython.display import HTML, display\n",
    "from pydantic import BaseModel\n",
    "\n",
    "print(\"✅ All imports successful!\")"
   ]
  },
  {
   "cell_type": "markdown",
   "id": "001c224e",
   "metadata": {},
   "source": [
    "## चरण 1: संरचित आउटपुट के लिए Pydantic मॉडल परिभाषित करें\n",
    "\n",
    "ये मॉडल उस **schema** को परिभाषित करते हैं जिसे एजेंट्स वापस करेंगे। Pydantic के साथ `response_format` का उपयोग करने से सुनिश्चित होता है:\n",
    "- ✅ टाइप-सुरक्षित डेटा निष्कर्षण\n",
    "- ✅ स्वचालित मान्यता\n",
    "- ✅ फ्री-टेक्स्ट प्रतिक्रियाओं से कोई पार्सिंग त्रुटि नहीं\n",
    "- ✅ फ़ील्ड्स के आधार पर आसान सशर्त रूटिंग\n"
   ]
  },
  {
   "cell_type": "code",
   "execution_count": 2,
   "id": "6c2ef582",
   "metadata": {},
   "outputs": [
    {
     "name": "stdout",
     "output_type": "stream",
     "text": [
      "✅ Pydantic models defined:\n",
      "   - BookingCheckResult (availability check)\n",
      "   - AlternativeResult (alternative suggestion)\n",
      "   - BookingConfirmation (booking confirmation)\n"
     ]
    }
   ],
   "source": [
    "class BookingCheckResult(BaseModel):\n",
    "    \"\"\"Result from checking hotel availability at a destination.\"\"\"\n",
    "\n",
    "    destination: str\n",
    "    has_availability: bool\n",
    "    message: str\n",
    "\n",
    "\n",
    "class AlternativeResult(BaseModel):\n",
    "    \"\"\"Suggested alternative destination when no rooms available.\"\"\"\n",
    "\n",
    "    alternative_destination: str\n",
    "    reason: str\n",
    "\n",
    "\n",
    "class BookingConfirmation(BaseModel):\n",
    "    \"\"\"Booking suggestion when rooms are available.\"\"\"\n",
    "\n",
    "    destination: str\n",
    "    action: str\n",
    "    message: str\n",
    "\n",
    "\n",
    "print(\"✅ Pydantic models defined:\")\n",
    "print(\"   - BookingCheckResult (availability check)\")\n",
    "print(\"   - AlternativeResult (alternative suggestion)\")\n",
    "print(\"   - BookingConfirmation (booking confirmation)\")"
   ]
  },
  {
   "cell_type": "markdown",
   "id": "48423ecc",
   "metadata": {},
   "source": [
    "## चरण 2: होटल बुकिंग टूल बनाएं\n",
    "\n",
    "यह टूल वह है जिसे **availability_agent** कमरे उपलब्ध होने की जांच करने के लिए कॉल करेगा। हम `@ai_function` डेकोरेटर का उपयोग करते हैं:\n",
    "- एक Python फ़ंक्शन को AI-कॉल करने योग्य टूल में बदलने के लिए\n",
    "- LLM के लिए JSON स्कीमा को स्वचालित रूप से उत्पन्न करने के लिए\n",
    "- पैरामीटर मान्यता को संभालने के लिए\n",
    "- एजेंटों द्वारा स्वचालित रूप से कॉल करने की सुविधा प्रदान करने के लिए\n",
    "\n",
    "इस डेमो के लिए:\n",
    "- **स्टॉकहोम, सिएटल, टोक्यो, लंदन, एम्स्टर्डम** → कमरे उपलब्ध हैं ✅\n",
    "- **अन्य सभी शहर** → कोई कमरे नहीं ❌\n"
   ]
  },
  {
   "cell_type": "code",
   "execution_count": 3,
   "id": "aad7e7ec",
   "metadata": {},
   "outputs": [
    {
     "name": "stdout",
     "output_type": "stream",
     "text": [
      "✅ hotel_booking tool created with @ai_function decorator\n"
     ]
    }
   ],
   "source": [
    "@ai_function(description=\"Check hotel room availability for a destination city\")\n",
    "def hotel_booking(destination: Annotated[str, \"The destination city to check for hotel rooms\"]) -> str:\n",
    "    \"\"\"\n",
    "    Simulates checking hotel room availability.\n",
    "    \n",
    "    Returns JSON string with availability status.\n",
    "    \"\"\"\n",
    "    display(\n",
    "        HTML(f\"\"\"\n",
    "        <div style='padding: 15px; background: #e3f2fd; border-left: 4px solid #2196f3; border-radius: 4px; margin: 10px 0;'>\n",
    "            <strong>🔍 Tool Invoked:</strong> hotel_booking(\"{destination}\")\n",
    "        </div>\n",
    "    \"\"\")\n",
    "    )\n",
    "\n",
    "    # Simulate availability check\n",
    "    cities_with_rooms = [\"stockholm\", \"seattle\", \"tokyo\", \"london\", \"amsterdam\"]\n",
    "    has_rooms = destination.lower() in cities_with_rooms\n",
    "\n",
    "    result = {\"has_availability\": has_rooms, \"destination\": destination}\n",
    "\n",
    "    return json.dumps(result)\n",
    "\n",
    "\n",
    "print(\"✅ hotel_booking tool created with @ai_function decorator\")"
   ]
  },
  {
   "cell_type": "markdown",
   "id": "134c54b0",
   "metadata": {},
   "source": [
    "## चरण 3: रूटिंग के लिए कंडीशन फंक्शन परिभाषित करें\n",
    "\n",
    "ये फंक्शन एजेंट की प्रतिक्रिया का निरीक्षण करते हैं और वर्कफ़्लो में किस मार्ग पर जाना है, यह तय करते हैं।\n",
    "\n",
    "**मुख्य पैटर्न:**\n",
    "1. जांचें कि संदेश `AgentExecutorResponse` है या नहीं\n",
    "2. संरचित आउटपुट (Pydantic मॉडल) को पार्स करें\n",
    "3. रूटिंग को नियंत्रित करने के लिए `True` या `False` लौटाएं\n",
    "\n",
    "वर्कफ़्लो इन शर्तों का मूल्यांकन **edges** पर करेगा ताकि यह तय किया जा सके कि अगला कौन सा एक्सीक्यूटर चालू करना है।\n"
   ]
  },
  {
   "cell_type": "code",
   "execution_count": 4,
   "id": "6960edd1",
   "metadata": {},
   "outputs": [
    {
     "name": "stdout",
     "output_type": "stream",
     "text": [
      "✅ Condition functions defined:\n",
      "   - has_availability_condition (routes when rooms exist)\n",
      "   - no_availability_condition (routes when no rooms)\n"
     ]
    }
   ],
   "source": [
    "def has_availability_condition(message: Any) -> bool:\n",
    "    \"\"\"\n",
    "    Condition for routing when hotels ARE available.\n",
    "    \n",
    "    Returns True if the destination has hotel rooms.\n",
    "    \"\"\"\n",
    "    if not isinstance(message, AgentExecutorResponse):\n",
    "        return True  # Default to True if unexpected type\n",
    "\n",
    "    try:\n",
    "        result = BookingCheckResult.model_validate_json(message.agent_run_response.text)\n",
    "\n",
    "        display(\n",
    "            HTML(f\"\"\"\n",
    "            <div style='padding: 12px; background: #c8e6c9; border-left: 4px solid #4caf50; border-radius: 4px; margin: 10px 0;'>\n",
    "                <strong>✅ Condition Check:</strong> has_availability = <strong>{result.has_availability}</strong> for {result.destination}\n",
    "            </div>\n",
    "        \"\"\")\n",
    "        )\n",
    "\n",
    "        return result.has_availability\n",
    "    except Exception as e:\n",
    "        display(\n",
    "            HTML(f\"\"\"\n",
    "            <div style='padding: 12px; background: #ffcdd2; border-left: 4px solid #f44336; border-radius: 4px; margin: 10px 0;'>\n",
    "                <strong>⚠️  Error:</strong> {str(e)}\n",
    "            </div>\n",
    "        \"\"\")\n",
    "        )\n",
    "        return False\n",
    "\n",
    "\n",
    "def no_availability_condition(message: Any) -> bool:\n",
    "    \"\"\"\n",
    "    Condition for routing when hotels are NOT available.\n",
    "    \n",
    "    Returns True if the destination has no hotel rooms.\n",
    "    \"\"\"\n",
    "    if not isinstance(message, AgentExecutorResponse):\n",
    "        return False\n",
    "\n",
    "    try:\n",
    "        result = BookingCheckResult.model_validate_json(message.agent_run_response.text)\n",
    "\n",
    "        display(\n",
    "            HTML(f\"\"\"\n",
    "            <div style='padding: 12px; background: #ffecb3; border-left: 4px solid #ff9800; border-radius: 4px; margin: 10px 0;'>\n",
    "                <strong>❌ Condition Check:</strong> no_availability for {result.destination}\n",
    "            </div>\n",
    "        \"\"\")\n",
    "        )\n",
    "\n",
    "        return not result.has_availability\n",
    "    except Exception as e:\n",
    "        return False\n",
    "\n",
    "\n",
    "print(\"✅ Condition functions defined:\")\n",
    "print(\"   - has_availability_condition (routes when rooms exist)\")\n",
    "print(\"   - no_availability_condition (routes when no rooms)\")"
   ]
  },
  {
   "cell_type": "markdown",
   "id": "9dc783ba",
   "metadata": {},
   "source": [
    "## चरण 4: कस्टम डिस्प्ले एक्ज़ीक्यूटर बनाएं\n",
    "\n",
    "एक्ज़ीक्यूटर वे वर्कफ़्लो घटक होते हैं जो परिवर्तन या साइड इफेक्ट्स को अंजाम देते हैं। हम `@executor` डेकोरेटर का उपयोग करके एक कस्टम एक्ज़ीक्यूटर बनाते हैं जो अंतिम परिणाम को प्रदर्शित करता है।\n",
    "\n",
    "**मुख्य अवधारणाएँ:**\n",
    "- `@executor(id=\"...\")` - एक फ़ंक्शन को वर्कफ़्लो एक्ज़ीक्यूटर के रूप में रजिस्टर करता है\n",
    "- `WorkflowContext[Never, str]` - इनपुट/आउटपुट के लिए टाइप हिंट्स\n",
    "- `ctx.yield_output(...)` - अंतिम वर्कफ़्लो परिणाम को प्रदान करता है\n"
   ]
  },
  {
   "cell_type": "code",
   "execution_count": 5,
   "id": "c67f6b55",
   "metadata": {},
   "outputs": [
    {
     "name": "stdout",
     "output_type": "stream",
     "text": [
      "✅ display_result executor created with @executor decorator\n"
     ]
    }
   ],
   "source": [
    "@executor(id=\"display_result\")\n",
    "async def display_result(response: AgentExecutorResponse, ctx: WorkflowContext[Never, str]) -> None:\n",
    "    \"\"\"\n",
    "    Display the final result as workflow output.\n",
    "    \n",
    "    This executor receives the final agent response and yields it as the workflow output.\n",
    "    \"\"\"\n",
    "    display(\n",
    "        HTML(\"\"\"\n",
    "        <div style='padding: 15px; background: #f3e5f5; border-left: 4px solid #9c27b0; border-radius: 4px; margin: 10px 0;'>\n",
    "            <strong>📤 Display Executor:</strong> Yielding workflow output\n",
    "        </div>\n",
    "    \"\"\")\n",
    "    )\n",
    "\n",
    "    await ctx.yield_output(response.agent_run_response.text)\n",
    "\n",
    "\n",
    "print(\"✅ display_result executor created with @executor decorator\")"
   ]
  },
  {
   "cell_type": "markdown",
   "id": "7de6eb90",
   "metadata": {},
   "source": [
    "## चरण 5: पर्यावरण वेरिएबल्स लोड करें\n",
    "\n",
    "LLM क्लाइंट को कॉन्फ़िगर करें। यह उदाहरण निम्न के साथ काम करता है:\n",
    "- **GitHub मॉडल्स** (GitHub टोकन के साथ मुफ्त टियर)\n",
    "- **Azure OpenAI**\n",
    "- **OpenAI**\n"
   ]
  },
  {
   "cell_type": "code",
   "execution_count": 6,
   "id": "1e8f0d88",
   "metadata": {},
   "outputs": [],
   "source": [
    "# Load environment variables\n",
    "load_dotenv()\n",
    "\n",
    "# Check for GitHub Models or OpenAI\n",
    "chat_client = OpenAIChatClient(base_url=os.environ.get(\n",
    "    \"GITHUB_ENDPOINT\"), api_key=os.environ.get(\"GITHUB_TOKEN\"), model_id=\"gpt-4o\")"
   ]
  },
  {
   "cell_type": "markdown",
   "id": "3fc61fe7",
   "metadata": {},
   "source": [
    "## चरण 6: संरचित आउटपुट के साथ AI एजेंट बनाएं\n",
    "\n",
    "हम **तीन विशेष एजेंट** बनाते हैं, प्रत्येक को `AgentExecutor` में लपेटा गया है:\n",
    "\n",
    "1. **availability_agent** - टूल का उपयोग करके होटल की उपलब्धता की जांच करता है\n",
    "2. **alternative_agent** - वैकल्पिक शहरों का सुझाव देता है (जब कमरे उपलब्ध नहीं होते)\n",
    "3. **booking_agent** - बुकिंग के लिए प्रोत्साहित करता है (जब कमरे उपलब्ध होते हैं)\n",
    "\n",
    "**मुख्य विशेषताएं:**\n",
    "- `tools=[hotel_booking]` - एजेंट को टूल प्रदान करता है\n",
    "- `response_format=PydanticModel` - संरचित JSON आउटपुट को अनिवार्य करता है\n",
    "- `AgentExecutor(..., id=\"...\")` - एजेंट को वर्कफ़्लो उपयोग के लिए लपेटता है\n"
   ]
  },
  {
   "cell_type": "code",
   "execution_count": 7,
   "id": "66466dda",
   "metadata": {},
   "outputs": [
    {
     "data": {
      "text/html": [
       "\n",
       "    <div style='padding: 15px; background: #e3f2fd; border-left: 4px solid #2196f3; border-radius: 4px; margin: 10px 0;'>\n",
       "        <strong>✅ Created 3 Agents:</strong>\n",
       "        <ul style='margin: 10px 0 0 0;'>\n",
       "            <li><strong>availability_agent</strong> - Checks availability with hotel_booking tool</li>\n",
       "            <li><strong>alternative_agent</strong> - Suggests alternative cities</li>\n",
       "            <li><strong>booking_agent</strong> - Encourages booking</li>\n",
       "        </ul>\n",
       "    </div>\n"
      ],
      "text/plain": [
       "<IPython.core.display.HTML object>"
      ]
     },
     "metadata": {},
     "output_type": "display_data"
    }
   ],
   "source": [
    "# Agent 1: Check availability with tool\n",
    "availability_agent = AgentExecutor(\n",
    "    chat_client.create_agent(\n",
    "        instructions=(\n",
    "            \"You are a hotel booking assistant that checks room availability. \"\n",
    "            \"Use the hotel_booking tool to check if rooms are available at the destination. \"\n",
    "            \"Return JSON with fields: destination (string), has_availability (bool), and message (string). \"\n",
    "            \"The message should summarize the availability status.\"\n",
    "        ),\n",
    "        tools=[hotel_booking],\n",
    "        response_format=BookingCheckResult,\n",
    "    ),\n",
    "    id=\"availability_agent\",\n",
    ")\n",
    "\n",
    "# Agent 2: Suggest alternative (when no rooms)\n",
    "alternative_agent = AgentExecutor(\n",
    "    chat_client.create_agent(\n",
    "        instructions=(\n",
    "            \"You are a helpful travel assistant. When a user cannot find hotels in their requested city, \"\n",
    "            \"suggest an alternative nearby city that has availability. \"\n",
    "            \"Return JSON with fields: alternative_destination (string) and reason (string). \"\n",
    "            \"Make your suggestion sound appealing and helpful.\"\n",
    "        ),\n",
    "        response_format=AlternativeResult,\n",
    "    ),\n",
    "    id=\"alternative_agent\",\n",
    ")\n",
    "\n",
    "# Agent 3: Suggest booking (when rooms available)\n",
    "booking_agent = AgentExecutor(\n",
    "    chat_client.create_agent(\n",
    "        instructions=(\n",
    "            \"You are a booking assistant. The user has found available hotel rooms. \"\n",
    "            \"Encourage them to book by highlighting the destination's appeal. \"\n",
    "            \"Return JSON with fields: destination (string), action (string), and message (string). \"\n",
    "            \"The action should be 'book_now' and message should be encouraging.\"\n",
    "        ),\n",
    "        response_format=BookingConfirmation,\n",
    "    ),\n",
    "    id=\"booking_agent\",\n",
    ")\n",
    "\n",
    "display(\n",
    "    HTML(\"\"\"\n",
    "    <div style='padding: 15px; background: #e3f2fd; border-left: 4px solid #2196f3; border-radius: 4px; margin: 10px 0;'>\n",
    "        <strong>✅ Created 3 Agents:</strong>\n",
    "        <ul style='margin: 10px 0 0 0;'>\n",
    "            <li><strong>availability_agent</strong> - Checks availability with hotel_booking tool</li>\n",
    "            <li><strong>alternative_agent</strong> - Suggests alternative cities</li>\n",
    "            <li><strong>booking_agent</strong> - Encourages booking</li>\n",
    "        </ul>\n",
    "    </div>\n",
    "\"\"\")\n",
    ")"
   ]
  },
  {
   "cell_type": "markdown",
   "id": "7879a0cb",
   "metadata": {},
   "source": [
    "## चरण 7: सशर्त किनारों के साथ वर्कफ़्लो बनाएं\n",
    "\n",
    "अब हम `WorkflowBuilder` का उपयोग करके सशर्त रूटिंग के साथ ग्राफ़ का निर्माण करते हैं:\n",
    "\n",
    "**वर्कफ़्लो संरचना:**\n",
    "```\n",
    "availability_agent (START)\n",
    "        ↓\n",
    "   Evaluate conditions\n",
    "        ↙         ↘\n",
    "[no_availability]  [has_availability]\n",
    "        ↓              ↓\n",
    "alternative_agent  booking_agent\n",
    "        ↓              ↓\n",
    "    display_result ←───┘\n",
    "```\n",
    "\n",
    "**मुख्य विधियाँ:**\n",
    "- `.set_start_executor(...)` - प्रवेश बिंदु सेट करता है\n",
    "- `.add_edge(from, to, condition=...)` - सशर्त किनारा जोड़ता है\n",
    "- `.build()` - वर्कफ़्लो को अंतिम रूप देता है\n"
   ]
  },
  {
   "cell_type": "code",
   "execution_count": 8,
   "id": "90bb29dd",
   "metadata": {},
   "outputs": [
    {
     "data": {
      "text/html": [
       "\n",
       "    <div style='padding: 20px; background: linear-gradient(135deg, #667eea 0%, #764ba2 100%); color: white; border-radius: 8px; margin: 10px 0;'>\n",
       "        <h3 style='margin: 0 0 15px 0;'>✅ Workflow Built Successfully!</h3>\n",
       "        <p style='margin: 0; line-height: 1.6;'>\n",
       "            <strong>Conditional Routing:</strong><br>\n",
       "            • If <strong>NO availability</strong> → alternative_agent → display_result<br>\n",
       "            • If <strong>availability</strong> → booking_agent → display_result\n",
       "        </p>\n",
       "    </div>\n"
      ],
      "text/plain": [
       "<IPython.core.display.HTML object>"
      ]
     },
     "metadata": {},
     "output_type": "display_data"
    }
   ],
   "source": [
    "# Build the workflow with conditional routing\n",
    "workflow = (\n",
    "    WorkflowBuilder()\n",
    "    .set_start_executor(availability_agent)\n",
    "    # NO AVAILABILITY PATH\n",
    "    .add_edge(availability_agent, alternative_agent, condition=no_availability_condition)\n",
    "    .add_edge(alternative_agent, display_result)\n",
    "    # HAS AVAILABILITY PATH\n",
    "    .add_edge(availability_agent, booking_agent, condition=has_availability_condition)\n",
    "    .add_edge(booking_agent, display_result)\n",
    "    .build()\n",
    ")\n",
    "\n",
    "display(\n",
    "    HTML(\"\"\"\n",
    "    <div style='padding: 20px; background: linear-gradient(135deg, #667eea 0%, #764ba2 100%); color: white; border-radius: 8px; margin: 10px 0;'>\n",
    "        <h3 style='margin: 0 0 15px 0;'>✅ Workflow Built Successfully!</h3>\n",
    "        <p style='margin: 0; line-height: 1.6;'>\n",
    "            <strong>Conditional Routing:</strong><br>\n",
    "            • If <strong>NO availability</strong> → alternative_agent → display_result<br>\n",
    "            • If <strong>availability</strong> → booking_agent → display_result\n",
    "        </p>\n",
    "    </div>\n",
    "\"\"\")\n",
    ")"
   ]
  },
  {
   "cell_type": "markdown",
   "id": "0a3ad845",
   "metadata": {},
   "source": [
    "## चरण 8: टेस्ट केस 1 चलाएं - उपलब्धता के बिना शहर (पेरिस)\n",
    "\n",
    "आइए **कोई उपलब्धता नहीं** वाले रास्ते का परीक्षण करें, पेरिस में होटलों का अनुरोध करके (जिसमें हमारे सिमुलेशन में कोई कमरे नहीं हैं)।\n"
   ]
  },
  {
   "cell_type": "code",
   "execution_count": 9,
   "id": "af1538cd",
   "metadata": {},
   "outputs": [
    {
     "data": {
      "text/html": [
       "\n",
       "    <div style='padding: 20px; background: #fff3e0; border-left: 4px solid #ff9800; border-radius: 8px; margin: 20px 0;'>\n",
       "        <h3 style='margin: 0 0 10px 0; color: #e65100;'>🧪 TEST CASE 1: Paris (No Availability)</h3>\n",
       "        <p style='margin: 0;'>Expected workflow path: availability_agent → alternative_agent → display_result</p>\n",
       "    </div>\n"
      ],
      "text/plain": [
       "<IPython.core.display.HTML object>"
      ]
     },
     "metadata": {},
     "output_type": "display_data"
    },
    {
     "data": {
      "text/html": [
       "\n",
       "        <div style='padding: 15px; background: #e3f2fd; border-left: 4px solid #2196f3; border-radius: 4px; margin: 10px 0;'>\n",
       "            <strong>🔍 Tool Invoked:</strong> hotel_booking(\"Paris\")\n",
       "        </div>\n",
       "    "
      ],
      "text/plain": [
       "<IPython.core.display.HTML object>"
      ]
     },
     "metadata": {},
     "output_type": "display_data"
    },
    {
     "data": {
      "text/html": [
       "\n",
       "            <div style='padding: 12px; background: #ffecb3; border-left: 4px solid #ff9800; border-radius: 4px; margin: 10px 0;'>\n",
       "                <strong>❌ Condition Check:</strong> no_availability for Paris\n",
       "            </div>\n",
       "        "
      ],
      "text/plain": [
       "<IPython.core.display.HTML object>"
      ]
     },
     "metadata": {},
     "output_type": "display_data"
    },
    {
     "data": {
      "text/html": [
       "\n",
       "            <div style='padding: 12px; background: #c8e6c9; border-left: 4px solid #4caf50; border-radius: 4px; margin: 10px 0;'>\n",
       "                <strong>✅ Condition Check:</strong> has_availability = <strong>False</strong> for Paris\n",
       "            </div>\n",
       "        "
      ],
      "text/plain": [
       "<IPython.core.display.HTML object>"
      ]
     },
     "metadata": {},
     "output_type": "display_data"
    },
    {
     "data": {
      "text/html": [
       "\n",
       "        <div style='padding: 15px; background: #f3e5f5; border-left: 4px solid #9c27b0; border-radius: 4px; margin: 10px 0;'>\n",
       "            <strong>📤 Display Executor:</strong> Yielding workflow output\n",
       "        </div>\n",
       "    "
      ],
      "text/plain": [
       "<IPython.core.display.HTML object>"
      ]
     },
     "metadata": {},
     "output_type": "display_data"
    },
    {
     "data": {
      "text/html": [
       "\n",
       "        <div style='padding: 25px; background: linear-gradient(135deg, #FFD700 0%, #FFA500 100%); border-radius: 12px; box-shadow: 0 4px 12px rgba(255,165,0,0.3); margin: 20px 0;'>\n",
       "            <h3 style='margin: 0 0 15px 0; color: #333;'>🏆 WORKFLOW RESULT (Paris)</h3>\n",
       "            <div style='background: white; padding: 20px; border-radius: 8px;'>\n",
       "                <p style='margin: 0 0 10px 0; font-size: 16px;'><strong>Status:</strong> ❌ No rooms in Paris</p>\n",
       "                <p style='margin: 0 0 10px 0; font-size: 16px;'><strong>Alternative Suggestion:</strong> 🏨 Versailles</p>\n",
       "                <p style='margin: 0; font-size: 14px; color: #666;'><strong>Reason:</strong> Versailles is a charming city located near Paris, offering beautiful historic architecture and the renowned Palace of Versailles. It’s an excellent alternative destination to explore while staying close to the capital.</p>\n",
       "            </div>\n",
       "        </div>\n",
       "    "
      ],
      "text/plain": [
       "<IPython.core.display.HTML object>"
      ]
     },
     "metadata": {},
     "output_type": "display_data"
    }
   ],
   "source": [
    "display(\n",
    "    HTML(\"\"\"\n",
    "    <div style='padding: 20px; background: #fff3e0; border-left: 4px solid #ff9800; border-radius: 8px; margin: 20px 0;'>\n",
    "        <h3 style='margin: 0 0 10px 0; color: #e65100;'>🧪 TEST CASE 1: Paris (No Availability)</h3>\n",
    "        <p style='margin: 0;'>Expected workflow path: availability_agent → alternative_agent → display_result</p>\n",
    "    </div>\n",
    "\"\"\")\n",
    ")\n",
    "\n",
    "# Create request for Paris\n",
    "request_paris = AgentExecutorRequest(\n",
    "    messages=[ChatMessage(Role.USER, text=\"I want to book a hotel in Paris\")], should_respond=True\n",
    ")\n",
    "\n",
    "# Run the workflow\n",
    "events_paris = await workflow.run(request_paris)\n",
    "outputs_paris = events_paris.get_outputs()\n",
    "\n",
    "# Display results\n",
    "if outputs_paris:\n",
    "    result_paris = AlternativeResult.model_validate_json(outputs_paris[0])\n",
    "\n",
    "    display(\n",
    "        HTML(f\"\"\"\n",
    "        <div style='padding: 25px; background: linear-gradient(135deg, #FFD700 0%, #FFA500 100%); border-radius: 12px; box-shadow: 0 4px 12px rgba(255,165,0,0.3); margin: 20px 0;'>\n",
    "            <h3 style='margin: 0 0 15px 0; color: #333;'>🏆 WORKFLOW RESULT (Paris)</h3>\n",
    "            <div style='background: white; padding: 20px; border-radius: 8px;'>\n",
    "                <p style='margin: 0 0 10px 0; font-size: 16px;'><strong>Status:</strong> ❌ No rooms in Paris</p>\n",
    "                <p style='margin: 0 0 10px 0; font-size: 16px;'><strong>Alternative Suggestion:</strong> 🏨 {result_paris.alternative_destination}</p>\n",
    "                <p style='margin: 0; font-size: 14px; color: #666;'><strong>Reason:</strong> {result_paris.reason}</p>\n",
    "            </div>\n",
    "        </div>\n",
    "    \"\"\")\n",
    "    )"
   ]
  },
  {
   "cell_type": "markdown",
   "id": "408a3f60",
   "metadata": {},
   "source": [
    "## चरण 9: टेस्ट केस 2 चलाएं - उपलब्धता के साथ शहर (स्टॉकहोम)\n",
    "\n",
    "अब आइए **उपलब्धता** पथ का परीक्षण करें, स्टॉकहोम में होटलों का अनुरोध करके (जो हमारे सिमुलेशन में कमरे उपलब्ध हैं)।\n"
   ]
  },
  {
   "cell_type": "code",
   "execution_count": 10,
   "id": "e1471000",
   "metadata": {},
   "outputs": [
    {
     "data": {
      "text/html": [
       "\n",
       "    <div style='padding: 20px; background: #e8f5e9; border-left: 4px solid #4caf50; border-radius: 8px; margin: 20px 0;'>\n",
       "        <h3 style='margin: 0 0 10px 0; color: #1b5e20;'>🧪 TEST CASE 2: Stockholm (Has Availability)</h3>\n",
       "        <p style='margin: 0;'>Expected workflow path: availability_agent → booking_agent → display_result</p>\n",
       "    </div>\n"
      ],
      "text/plain": [
       "<IPython.core.display.HTML object>"
      ]
     },
     "metadata": {},
     "output_type": "display_data"
    },
    {
     "data": {
      "text/html": [
       "\n",
       "        <div style='padding: 15px; background: #e3f2fd; border-left: 4px solid #2196f3; border-radius: 4px; margin: 10px 0;'>\n",
       "            <strong>🔍 Tool Invoked:</strong> hotel_booking(\"Stockholm\")\n",
       "        </div>\n",
       "    "
      ],
      "text/plain": [
       "<IPython.core.display.HTML object>"
      ]
     },
     "metadata": {},
     "output_type": "display_data"
    },
    {
     "data": {
      "text/html": [
       "\n",
       "            <div style='padding: 12px; background: #ffecb3; border-left: 4px solid #ff9800; border-radius: 4px; margin: 10px 0;'>\n",
       "                <strong>❌ Condition Check:</strong> no_availability for Stockholm\n",
       "            </div>\n",
       "        "
      ],
      "text/plain": [
       "<IPython.core.display.HTML object>"
      ]
     },
     "metadata": {},
     "output_type": "display_data"
    },
    {
     "data": {
      "text/html": [
       "\n",
       "            <div style='padding: 12px; background: #c8e6c9; border-left: 4px solid #4caf50; border-radius: 4px; margin: 10px 0;'>\n",
       "                <strong>✅ Condition Check:</strong> has_availability = <strong>True</strong> for Stockholm\n",
       "            </div>\n",
       "        "
      ],
      "text/plain": [
       "<IPython.core.display.HTML object>"
      ]
     },
     "metadata": {},
     "output_type": "display_data"
    },
    {
     "data": {
      "text/html": [
       "\n",
       "        <div style='padding: 15px; background: #f3e5f5; border-left: 4px solid #9c27b0; border-radius: 4px; margin: 10px 0;'>\n",
       "            <strong>📤 Display Executor:</strong> Yielding workflow output\n",
       "        </div>\n",
       "    "
      ],
      "text/plain": [
       "<IPython.core.display.HTML object>"
      ]
     },
     "metadata": {},
     "output_type": "display_data"
    },
    {
     "data": {
      "text/html": [
       "\n",
       "        <div style='padding: 25px; background: linear-gradient(135deg, #4caf50 0%, #8bc34a 100%); color: white; border-radius: 12px; box-shadow: 0 4px 12px rgba(76,175,80,0.3); margin: 20px 0;'>\n",
       "            <h3 style='margin: 0 0 15px 0;'>🏆 WORKFLOW RESULT (Stockholm)</h3>\n",
       "            <div style='background: white; color: #333; padding: 20px; border-radius: 8px;'>\n",
       "                <p style='margin: 0 0 10px 0; font-size: 16px;'><strong>Status:</strong> ✅ Rooms Available!</p>\n",
       "                <p style='margin: 0 0 10px 0; font-size: 16px;'><strong>Destination:</strong> 🏨 Stockholm</p>\n",
       "                <p style='margin: 0 0 10px 0; font-size: 16px;'><strong>Action:</strong> book_now</p>\n",
       "                <p style='margin: 0; font-size: 14px; color: #666;'><strong>Message:</strong> Stockholm is an enchanting city with striking architecture, rich history, and an incredible cultural scene. Book your hotel now to secure your stay in this captivating destination!</p>\n",
       "            </div>\n",
       "        </div>\n",
       "    "
      ],
      "text/plain": [
       "<IPython.core.display.HTML object>"
      ]
     },
     "metadata": {},
     "output_type": "display_data"
    }
   ],
   "source": [
    "display(\n",
    "    HTML(\"\"\"\n",
    "    <div style='padding: 20px; background: #e8f5e9; border-left: 4px solid #4caf50; border-radius: 8px; margin: 20px 0;'>\n",
    "        <h3 style='margin: 0 0 10px 0; color: #1b5e20;'>🧪 TEST CASE 2: Stockholm (Has Availability)</h3>\n",
    "        <p style='margin: 0;'>Expected workflow path: availability_agent → booking_agent → display_result</p>\n",
    "    </div>\n",
    "\"\"\")\n",
    ")\n",
    "\n",
    "# Create request for Stockholm\n",
    "request_stockholm = AgentExecutorRequest(\n",
    "    messages=[ChatMessage(Role.USER, text=\"I want to book a hotel in Stockholm\")], should_respond=True\n",
    ")\n",
    "\n",
    "# Run the workflow\n",
    "events_stockholm = await workflow.run(request_stockholm)\n",
    "outputs_stockholm = events_stockholm.get_outputs()\n",
    "\n",
    "# Display results\n",
    "if outputs_stockholm:\n",
    "    result_stockholm = BookingConfirmation.model_validate_json(outputs_stockholm[0])\n",
    "\n",
    "    display(\n",
    "        HTML(f\"\"\"\n",
    "        <div style='padding: 25px; background: linear-gradient(135deg, #4caf50 0%, #8bc34a 100%); color: white; border-radius: 12px; box-shadow: 0 4px 12px rgba(76,175,80,0.3); margin: 20px 0;'>\n",
    "            <h3 style='margin: 0 0 15px 0;'>🏆 WORKFLOW RESULT (Stockholm)</h3>\n",
    "            <div style='background: white; color: #333; padding: 20px; border-radius: 8px;'>\n",
    "                <p style='margin: 0 0 10px 0; font-size: 16px;'><strong>Status:</strong> ✅ Rooms Available!</p>\n",
    "                <p style='margin: 0 0 10px 0; font-size: 16px;'><strong>Destination:</strong> 🏨 {result_stockholm.destination}</p>\n",
    "                <p style='margin: 0 0 10px 0; font-size: 16px;'><strong>Action:</strong> {result_stockholm.action}</p>\n",
    "                <p style='margin: 0; font-size: 14px; color: #666;'><strong>Message:</strong> {result_stockholm.message}</p>\n",
    "            </div>\n",
    "        </div>\n",
    "    \"\"\")\n",
    "    )"
   ]
  },
  {
   "cell_type": "markdown",
   "id": "a415537c",
   "metadata": {},
   "source": [
    "## मुख्य बातें और अगले कदम\n",
    "\n",
    "### ✅ आपने क्या सीखा:\n",
    "\n",
    "1. **WorkflowBuilder पैटर्न**\n",
    "   - `.set_start_executor()` का उपयोग करके प्रवेश बिंदु परिभाषित करें\n",
    "   - `.add_edge(from, to, condition=...)` का उपयोग करके शर्तों के आधार पर रूटिंग करें\n",
    "   - वर्कफ़्लो को अंतिम रूप देने के लिए `.build()` कॉल करें\n",
    "\n",
    "2. **शर्त आधारित रूटिंग**\n",
    "   - शर्त फ़ंक्शन `AgentExecutorResponse` का निरीक्षण करते हैं\n",
    "   - संरचित आउटपुट को पार्स करके रूटिंग निर्णय लें\n",
    "   - किनारे को सक्रिय करने के लिए `True` लौटाएं, इसे छोड़ने के लिए `False`\n",
    "\n",
    "3. **टूल इंटीग्रेशन**\n",
    "   - Python फ़ंक्शन्स को AI टूल में बदलने के लिए `@ai_function` का उपयोग करें\n",
    "   - एजेंट्स आवश्यकता पड़ने पर टूल्स को स्वचालित रूप से कॉल करते हैं\n",
    "   - टूल्स JSON लौटाते हैं जिसे एजेंट्स पार्स कर सकते हैं\n",
    "\n",
    "4. **संरचित आउटपुट**\n",
    "   - टाइप-सुरक्षित डेटा निकालने के लिए Pydantic मॉडल का उपयोग करें\n",
    "   - एजेंट्स बनाते समय `response_format=MyModel` सेट करें\n",
    "   - प्रतिक्रियाओं को `Model.model_validate_json()` के साथ पार्स करें\n",
    "\n",
    "5. **कस्टम एक्सीक्यूटर्स**\n",
    "   - वर्कफ़्लो घटकों को बनाने के लिए `@executor(id=\"...\")` का उपयोग करें\n",
    "   - एक्सीक्यूटर्स डेटा को बदल सकते हैं या साइड इफेक्ट्स कर सकते हैं\n",
    "   - वर्कफ़्लो परिणाम उत्पन्न करने के लिए `ctx.yield_output()` का उपयोग करें\n",
    "\n",
    "### 🚀 वास्तविक दुनिया में उपयोग:\n",
    "\n",
    "- **यात्रा बुकिंग**: उपलब्धता जांचें, विकल्प सुझाएं, तुलना करें\n",
    "- **ग्राहक सेवा**: समस्या प्रकार, भावना, प्राथमिकता के आधार पर रूट करें\n",
    "- **ई-कॉमर्स**: इन्वेंटरी जांचें, विकल्प सुझाएं, ऑर्डर प्रोसेस करें\n",
    "- **सामग्री मॉडरेशन**: विषाक्तता स्कोर, उपयोगकर्ता फ्लैग के आधार पर रूट करें\n",
    "- **अनुमोदन वर्कफ़्लो**: राशि, उपयोगकर्ता भूमिका, जोखिम स्तर के आधार पर रूट करें\n",
    "- **बहु-चरणीय प्रोसेसिंग**: डेटा गुणवत्ता, पूर्णता के आधार पर रूट करें\n",
    "\n",
    "### 📚 अगले कदम:\n",
    "\n",
    "- अधिक जटिल शर्तें जोड़ें (एकाधिक मानदंड)\n",
    "- वर्कफ़्लो स्थिति प्रबंधन के साथ लूप्स लागू करें\n",
    "- पुन: उपयोग योग्य घटकों के लिए उप-वर्कफ़्लो जोड़ें\n",
    "- वास्तविक APIs (होटल बुकिंग, इन्वेंटरी सिस्टम) के साथ इंटीग्रेट करें\n",
    "- त्रुटि प्रबंधन और फॉलबैक पथ जोड़ें\n",
    "- अंतर्निहित विज़ुअलाइज़ेशन टूल्स के साथ वर्कफ़्लो को विज़ुअलाइज़ करें\n"
   ]
  },
  {
   "cell_type": "markdown",
   "metadata": {},
   "source": [
    "\n---\n\n**अस्वीकरण**:  \nयह दस्तावेज़ AI अनुवाद सेवा [Co-op Translator](https://github.com/Azure/co-op-translator) का उपयोग करके अनुवादित किया गया है। जबकि हम सटीकता के लिए प्रयास करते हैं, कृपया ध्यान दें कि स्वचालित अनुवाद में त्रुटियां या अशुद्धियां हो सकती हैं। मूल दस्तावेज़, जो इसकी मूल भाषा में है, को प्रामाणिक स्रोत माना जाना चाहिए। महत्वपूर्ण जानकारी के लिए, पेशेवर मानव अनुवाद की सिफारिश की जाती है। इस अनुवाद के उपयोग से उत्पन्न किसी भी गलतफहमी या गलत व्याख्या के लिए हम उत्तरदायी नहीं हैं।\n"
   ]
  }
 ],
 "metadata": {
  "kernelspec": {
   "display_name": ".venv (3.12.11)",
   "language": "python",
   "name": "python3"
  },
  "language_info": {
   "codemirror_mode": {
    "name": "ipython",
    "version": 3
   },
   "file_extension": ".py",
   "mimetype": "text/x-python",
   "name": "python",
   "nbconvert_exporter": "python",
   "pygments_lexer": "ipython3",
   "version": "3.12.11"
  },
  "coopTranslator": {
   "original_hash": "30364214cfd3cead472540c147b60b02",
   "translation_date": "2025-10-09T19:41:01+00:00",
   "source_file": "14-microsoft-agent-framework/code-samples/14-conditional-workflow.ipynb",
   "language_code": "hi"
  }
 },
 "nbformat": 4,
 "nbformat_minor": 5
}