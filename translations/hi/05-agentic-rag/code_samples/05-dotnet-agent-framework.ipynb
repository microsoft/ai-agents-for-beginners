{
 "cells": [
  {
   "cell_type": "markdown",
   "id": "44b5899e",
   "metadata": {},
   "source": [
    "# 🔍 एंटरप्राइज RAG विथ Azure AI Foundry (.NET)\n",
    "\n",
    "## 📋 सीखने के उद्देश्य\n",
    "\n",
    "यह नोटबुक Microsoft Agent Framework का उपयोग करके .NET और Azure AI Foundry के साथ एंटरप्राइज-ग्रेड Retrieval-Augmented Generation (RAG) सिस्टम बनाने का तरीका दिखाती है। आप प्रोडक्शन-रेडी एजेंट बनाना सीखेंगे जो दस्तावेज़ों को खोज सकते हैं और सटीक, संदर्भ-संवेदनशील उत्तर प्रदान कर सकते हैं, साथ ही एंटरप्राइज सुरक्षा और स्केलेबिलिटी सुनिश्चित कर सकते हैं।\n",
    "\n",
    "**एंटरप्राइज RAG क्षमताएं जो आप बनाएंगे:**\n",
    "- 📚 **डॉक्यूमेंट इंटेलिजेंस**: Azure AI सेवाओं के साथ उन्नत दस्तावेज़ प्रसंस्करण\n",
    "- 🔍 **सिमेंटिक सर्च**: एंटरप्राइज फीचर्स के साथ उच्च-प्रदर्शन वेक्टर सर्च\n",
    "- 🛡️ **सुरक्षा एकीकरण**: रोल-आधारित एक्सेस और डेटा सुरक्षा पैटर्न\n",
    "- 🏢 **स्केलेबल आर्किटेक्चर**: मॉनिटरिंग के साथ प्रोडक्शन-रेडी RAG सिस्टम\n",
    "\n",
    "## 🎯 एंटरप्राइज RAG आर्किटेक्चर\n",
    "\n",
    "### मुख्य एंटरप्राइज घटक\n",
    "- **Azure AI Foundry**: सुरक्षा और अनुपालन के साथ प्रबंधित एंटरप्राइज AI प्लेटफ़ॉर्म\n",
    "- **Persistent Agents**: स्टेटफुल एजेंट्स जो वार्तालाप इतिहास और संदर्भ प्रबंधन के साथ आते हैं\n",
    "- **Vector Store Management**: एंटरप्राइज-ग्रेड दस्तावेज़ इंडेक्सिंग और पुनर्प्राप्ति\n",
    "- **Identity Integration**: Azure AD प्रमाणीकरण और रोल-आधारित एक्सेस नियंत्रण\n",
    "\n",
    "### .NET एंटरप्राइज लाभ\n",
    "- **टाइप सेफ्टी**: RAG ऑपरेशन्स और डेटा संरचनाओं के लिए कंपाइल-टाइम वैलिडेशन\n",
    "- **Async परफॉर्मेंस**: नॉन-ब्लॉकिंग दस्तावेज़ प्रसंस्करण और खोज संचालन\n",
    "- **मेमोरी प्रबंधन**: बड़े दस्तावेज़ संग्रह के लिए कुशल संसाधन उपयोग\n",
    "- **इंटीग्रेशन पैटर्न**: डिपेंडेंसी इंजेक्शन के साथ नेटिव Azure सेवा एकीकरण\n",
    "\n",
    "## 🏗️ तकनीकी आर्किटेक्चर\n",
    "\n",
    "### एंटरप्राइज RAG पाइपलाइन\n",
    "```csharp\n",
    "Document Upload → Security Validation → Vector Processing → Index Creation\n",
    "                      ↓                    ↓                  ↓\n",
    "User Query → Authentication → Semantic Search → Context Ranking → AI Response\n",
    "```\n",
    "\n",
    "### मुख्य .NET घटक\n",
    "- **Azure.AI.Agents.Persistent**: स्टेट पर्सिस्टेंस के साथ एंटरप्राइज एजेंट प्रबंधन\n",
    "- **Azure.Identity**: सुरक्षित Azure सेवा एक्सेस के लिए एकीकृत प्रमाणीकरण\n",
    "- **Microsoft.Agents.AI.AzureAI**: Azure-ऑप्टिमाइज़्ड एजेंट फ्रेमवर्क कार्यान्वयन\n",
    "- **System.Linq.Async**: उच्च-प्रदर्शन असिंक्रोनस LINQ संचालन\n",
    "\n",
    "## 🔧 एंटरप्राइज फीचर्स और लाभ\n",
    "\n",
    "### सुरक्षा और अनुपालन\n",
    "- **Azure AD एकीकरण**: एंटरप्राइज पहचान प्रबंधन और प्रमाणीकरण\n",
    "- **रोल-आधारित एक्सेस**: दस्तावेज़ एक्सेस और संचालन के लिए फाइन-ग्रेन परमिशन\n",
    "- **डेटा सुरक्षा**: संवेदनशील दस्तावेज़ों के लिए एन्क्रिप्शन एट रेस्ट और इन ट्रांजिट\n",
    "- **ऑडिट लॉगिंग**: अनुपालन आवश्यकताओं के लिए व्यापक गतिविधि ट्रैकिंग\n",
    "\n",
    "### प्रदर्शन और स्केलेबिलिटी\n",
    "- **कनेक्शन पूलिंग**: कुशल Azure सेवा कनेक्शन प्रबंधन\n",
    "- **Async प्रोसेसिंग**: उच्च-थ्रूपुट परिदृश्यों के लिए नॉन-ब्लॉकिंग संचालन\n",
    "- **कैशिंग रणनीतियां**: बार-बार एक्सेस किए गए दस्तावेज़ों के लिए इंटेलिजेंट कैशिंग\n",
    "- **लोड बैलेंसिंग**: बड़े पैमाने पर डिप्लॉयमेंट के लिए वितरित प्रसंस्करण\n",
    "\n",
    "### प्रबंधन और मॉनिटरिंग\n",
    "- **हेल्थ चेक्स**: RAG सिस्टम घटकों के लिए बिल्ट-इन मॉनिटरिंग\n",
    "- **परफॉर्मेंस मेट्रिक्स**: खोज गुणवत्ता और प्रतिक्रिया समय पर विस्तृत एनालिटिक्स\n",
    "- **एरर हैंडलिंग**: रिट्राई पॉलिसी के साथ व्यापक अपवाद प्रबंधन\n",
    "- **कॉन्फ़िगरेशन प्रबंधन**: वैलिडेशन के साथ पर्यावरण-विशिष्ट सेटिंग्स\n",
    "\n",
    "## ⚙️ आवश्यकताएं और सेटअप\n",
    "\n",
    "**डेवलपमेंट एनवायरनमेंट:**\n",
    "- .NET 9.0 SDK या उच्चतर\n",
    "- Visual Studio 2022 या VS Code C# एक्सटेंशन के साथ\n",
    "- Azure सब्सक्रिप्शन जिसमें AI Foundry एक्सेस हो\n",
    "\n",
    "**आवश्यक NuGet पैकेज:**\n",
    "```xml\n",
    "<PackageReference Include=\"Microsoft.Extensions.AI\" Version=\"9.9.0\" />\n",
    "<PackageReference Include=\"Azure.AI.Agents.Persistent\" Version=\"1.2.0-beta.5\" />\n",
    "<PackageReference Include=\"Azure.Identity\" Version=\"1.15.0\" />\n",
    "<PackageReference Include=\"System.Linq.Async\" Version=\"6.0.3\" />\n",
    "<PackageReference Include=\"DotNetEnv\" Version=\"3.1.1\" />\n",
    "```\n",
    "\n",
    "**Azure प्रमाणीकरण सेटअप:**\n",
    "```bash\n",
    "# Install Azure CLI and authenticate\n",
    "az login\n",
    "az account set --subscription \"your-subscription-id\"\n",
    "```\n",
    "\n",
    "**पर्यावरण कॉन्फ़िगरेशन (.env फ़ाइल):**\n",
    "```env\n",
    "# Azure AI Foundry configuration (automatically handled via Azure CLI)\n",
    "# Ensure you're authenticated to the correct Azure subscription\n",
    "```\n",
    "\n",
    "## 📊 एंटरप्राइज RAG पैटर्न\n",
    "\n",
    "### दस्तावेज़ प्रबंधन पैटर्न\n",
    "- **बल्क अपलोड**: बड़े दस्तावेज़ संग्रह का कुशल प्रसंस्करण\n",
    "- **इंक्रिमेंटल अपडेट्स**: वास्तविक समय में दस्तावेज़ जोड़ना और संशोधन\n",
    "- **वर्जन कंट्रोल**: दस्तावेज़ संस्करण और परिवर्तन ट्रैकिंग\n",
    "- **मेटाडेटा प्रबंधन**: समृद्ध दस्तावेज़ विशेषताएं और वर्गीकरण\n",
    "\n",
    "### खोज और पुनर्प्राप्ति पैटर्न\n",
    "- **हाइब्रिड सर्च**: इष्टतम परिणामों के लिए सिमेंटिक और कीवर्ड सर्च का संयोजन\n",
    "- **फैसेटेड सर्च**: बहु-आयामी फ़िल्टरिंग और वर्गीकरण\n",
    "- **प्रासंगिकता ट्यूनिंग**: डोमेन-विशिष्ट आवश्यकताओं के लिए कस्टम स्कोरिंग एल्गोरिदम\n",
    "- **रिजल्ट रैंकिंग**: बिजनेस लॉजिक इंटीग्रेशन के साथ उन्नत रैंकिंग\n",
    "\n",
    "### सुरक्षा पैटर्न\n",
    "- **दस्तावेज़-स्तरीय सुरक्षा**: प्रत्येक दस्तावेज़ के लिए फाइन-ग्रेन एक्सेस नियंत्रण\n",
    "- **डेटा वर्गीकरण**: स्वचालित संवेदनशीलता लेबलिंग और सुरक्षा\n",
    "- **ऑडिट ट्रेल्स**: सभी RAG संचालन का व्यापक लॉगिंग\n",
    "- **गोपनीयता सुरक्षा**: PII डिटेक्शन और रिडैक्शन क्षमताएं\n",
    "\n",
    "## 🔒 एंटरप्राइज सुरक्षा फीचर्स\n",
    "\n",
    "### प्रमाणीकरण और प्राधिकरण\n",
    "```csharp\n",
    "// Azure AD integrated authentication\n",
    "var credential = new AzureCliCredential();\n",
    "var agentsClient = new PersistentAgentsClient(endpoint, credential);\n",
    "\n",
    "// Role-based access validation\n",
    "if (!await ValidateUserPermissions(user, documentId))\n",
    "{\n",
    "    throw new UnauthorizedAccessException(\"Insufficient permissions\");\n",
    "}\n",
    "```\n",
    "\n",
    "### डेटा सुरक्षा\n",
    "- **एन्क्रिप्शन**: दस्तावेज़ों और सर्च इंडेक्स के लिए एंड-टू-एंड एन्क्रिप्शन\n",
    "- **एक्सेस कंट्रोल्स**: उपयोगकर्ता और समूह अनुमतियों के लिए Azure AD के साथ एकीकरण\n",
    "- **डेटा रेजिडेंसी**: अनुपालन के लिए भौगोलिक डेटा स्थान नियंत्रण\n",
    "- **बैकअप और रिकवरी**: स्वचालित बैकअप और आपदा पुनर्प्राप्ति क्षमताएं\n",
    "\n",
    "## 📈 प्रदर्शन अनुकूलन\n",
    "\n",
    "### Async प्रोसेसिंग पैटर्न\n",
    "```csharp\n",
    "// Efficient async document processing\n",
    "await foreach (var document in documentStream.AsAsyncEnumerable())\n",
    "{\n",
    "    await ProcessDocumentAsync(document, cancellationToken);\n",
    "}\n",
    "```\n",
    "\n",
    "### मेमोरी प्रबंधन\n",
    "- **स्ट्रीमिंग प्रोसेसिंग**: बड़े दस्तावेज़ों को बिना मेमोरी समस्याओं के संभालना\n",
    "- **रिसोर्स पूलिंग**: महंगे संसाधनों का कुशल पुन: उपयोग\n",
    "- **गार्बेज कलेक्शन**: अनुकूलित मेमोरी आवंटन पैटर्न\n",
    "- **कनेक्शन प्रबंधन**: उचित Azure सेवा कनेक्शन जीवनचक्र\n",
    "\n",
    "### कैशिंग रणनीतियां\n",
    "- **क्वेरी कैशिंग**: बार-बार निष्पादित खोजों को कैश करना\n",
    "- **दस्तावेज़ कैशिंग**: हॉट दस्तावेज़ों के लिए इन-मेमोरी कैशिंग\n",
    "- **इंडेक्स कैशिंग**: अनुकूलित वेक्टर इंडेक्स कैशिंग\n",
    "- **रिजल्ट कैशिंग**: उत्पन्न उत्तरों की इंटेलिजेंट कैशिंग\n",
    "\n",
    "## 📊 एंटरप्राइज उपयोग के मामले\n",
    "\n",
    "### नॉलेज मैनेजमेंट\n",
    "- **कॉर्पोरेट विकी**: कंपनी के नॉलेज बेस में इंटेलिजेंट सर्च\n",
    "- **पॉलिसी और प्रक्रियाएं**: स्वचालित अनुपालन और प्रक्रिया मार्गदर्शन\n",
    "- **प्रशिक्षण सामग्री**: इंटेलिजेंट लर्निंग और विकास सहायता\n",
    "- **शोध डेटाबेस**: शैक्षणिक और शोध पत्र विश्लेषण प्रणाली\n",
    "\n",
    "### ग्राहक सहायता\n",
    "- **सपोर्ट नॉलेज बेस**: स्वचालित ग्राहक सेवा उत्तर\n",
    "- **उत्पाद दस्तावेज़ीकरण**: इंटेलिजेंट उत्पाद जानकारी पुनर्प्राप्ति\n",
    "- **समस्या निवारण गाइड**: संदर्भ-आधारित समस्या समाधान सहायता\n",
    "- **FAQ सिस्टम**: दस्तावेज़ संग्रह से डायनामिक FAQ निर्माण\n",
    "\n",
    "### नियामक अनुपालन\n",
    "- **कानूनी दस्तावेज़ विश्लेषण**: अनुबंध और कानूनी दस्तावेज़ इंटेलिजेंस\n",
    "- **अनुपालन मॉनिटरिंग**: स्वचालित नियामक अनुपालन जांच\n",
    "- **जोखिम मूल्यांकन**: दस्तावेज़-आधारित जोखिम विश्लेषण और रिपोर्टिंग\n",
    "- **ऑडिट समर्थन**: ऑडिट के लिए इंटेलिजेंट दस्तावेज़ खोज\n",
    "\n",
    "## 🚀 प्रोडक्शन डिप्लॉयमेंट\n",
    "\n",
    "### मॉनिटरिंग और अवलोकन\n",
    "- **एप्लिकेशन इनसाइट्स**: विस्तृत टेलीमेट्री और प्रदर्शन मॉनिटरिंग\n",
    "- **कस्टम मेट्रिक्स**: बिजनेस-विशिष्ट KPI ट्रैकिंग और अलर्टिंग\n",
    "- **डिस्ट्रिब्यूटेड ट्रेसिंग**: सेवाओं के बीच एंड-टू-एंड अनुरोध ट्रैकिंग\n",
    "- **हेल्थ डैशबोर्ड्स**: वास्तविक समय में सिस्टम स्वास्थ्य और प्रदर्शन विज़ुअलाइज़ेशन\n",
    "\n",
    "### स्केलेबिलिटी और विश्वसनीयता\n",
    "- **ऑटो-स्केलिंग**: लोड और प्रदर्शन मेट्रिक्स के आधार पर स्वचालित स्केलिंग\n",
    "- **हाई अवेलेबिलिटी**: मल्टी-रीजन डिप्लॉयमेंट विथ फेलओवर क्षमताएं\n",
    "- **लोड टेस्टिंग**: एंटरप्राइज लोड कंडीशंस के तहत प्रदर्शन सत्यापन\n",
    "- **डिजास्टर रिकवरी**: स्वचालित बैकअप और रिकवरी प्रक्रियाएं\n",
    "\n",
    "क्या आप एंटरप्राइज-ग्रेड RAG सिस्टम बनाने के लिए तैयार हैं जो संवेदनशील दस्तावेज़ों को बड़े पैमाने पर संभाल सके? चलिए एंटरप्राइज के लिए इंटेलिजेंट नॉलेज सिस्टम आर्किटेक्ट करते हैं! 🏢📖✨\n"
   ]
  },
  {
   "cell_type": "code",
   "execution_count": 1,
   "metadata": {
    "language_info": {
     "name": "polyglot-notebook"
    },
    "polyglot_notebook": {
     "kernelName": "csharp"
    }
   },
   "outputs": [
    {
     "data": {
      "text/html": [
       "<div><div></div><div></div><div><strong>Installed Packages</strong><ul><li><span>Microsoft.Extensions.AI, 9.9.1</span></li></ul></div></div>"
      ]
     },
     "metadata": {},
     "output_type": "display_data"
    }
   ],
   "source": [
    "#r \"nuget: Microsoft.Extensions.AI, 9.9.1\""
   ]
  },
  {
   "cell_type": "code",
   "execution_count": 2,
   "id": "4ec1f0d1",
   "metadata": {
    "language_info": {
     "name": "polyglot-notebook"
    },
    "polyglot_notebook": {
     "kernelName": "csharp"
    }
   },
   "outputs": [
    {
     "data": {
      "text/html": [
       "<div><div></div><div></div><div><strong>Installed Packages</strong><ul><li><span>Azure.AI.Agents.Persistent, 1.2.0-beta.5</span></li><li><span>Azure.Identity, 1.15.0</span></li><li><span>System.Linq.Async, 6.0.3</span></li></ul></div></div>"
      ]
     },
     "metadata": {},
     "output_type": "display_data"
    }
   ],
   "source": [
    "#r \"nuget: Azure.AI.Agents.Persistent, 1.2.0-beta.5\"\n",
    "#r \"nuget: Azure.Identity, 1.15.0\"\n",
    "#r \"nuget: System.Linq.Async, 6.0.3\""
   ]
  },
  {
   "cell_type": "code",
   "execution_count": 3,
   "id": "2363ae07",
   "metadata": {
    "language_info": {
     "name": "polyglot-notebook"
    },
    "polyglot_notebook": {
     "kernelName": "csharp"
    }
   },
   "outputs": [],
   "source": []
  },
  {
   "cell_type": "code",
   "execution_count": null,
   "id": "d10cec9d",
   "metadata": {
    "language_info": {
     "name": "polyglot-notebook"
    },
    "polyglot_notebook": {
     "kernelName": "csharp"
    }
   },
   "outputs": [
    {
     "data": {
      "text/html": [
       "<div><div></div><div></div><div><strong>Installed Packages</strong><ul><li><span>Microsoft.Agents.AI.AzureAI, 1.0.0-preview.251001.2</span></li></ul></div></div>"
      ]
     },
     "metadata": {},
     "output_type": "display_data"
    }
   ],
   "source": [
    "#r \"nuget: Microsoft.Agents.AI.AzureAI, 1.0.0-preview.251001.3\""
   ]
  },
  {
   "cell_type": "code",
   "execution_count": null,
   "id": "78199d1c",
   "metadata": {
    "language_info": {
     "name": "polyglot-notebook"
    },
    "polyglot_notebook": {
     "kernelName": "csharp"
    }
   },
   "outputs": [
    {
     "data": {
      "text/html": [
       "<div><div></div><div></div><div><strong>Installed Packages</strong><ul><li><span>microsoft.agents.ai, 1.0.0-preview.251001.2</span></li></ul></div></div>"
      ]
     },
     "metadata": {},
     "output_type": "display_data"
    }
   ],
   "source": [
    "#r \"nuget: Microsoft.Agents.AI, 1.0.0-preview.251001.3\""
   ]
  },
  {
   "cell_type": "code",
   "execution_count": 6,
   "id": "7de4684a",
   "metadata": {
    "language_info": {
     "name": "polyglot-notebook"
    },
    "polyglot_notebook": {
     "kernelName": "csharp"
    }
   },
   "outputs": [
    {
     "data": {
      "text/html": [
       "<div><div></div><div></div><div><strong>Installed Packages</strong><ul><li><span>DotNetEnv, 3.1.1</span></li></ul></div></div>"
      ]
     },
     "metadata": {},
     "output_type": "display_data"
    }
   ],
   "source": [
    "#r \"nuget: DotNetEnv, 3.1.1\""
   ]
  },
  {
   "cell_type": "code",
   "execution_count": 7,
   "id": "251efd31",
   "metadata": {
    "language_info": {
     "name": "polyglot-notebook"
    },
    "polyglot_notebook": {
     "kernelName": "csharp"
    }
   },
   "outputs": [],
   "source": [
    "using System;\n",
    "using System.Linq;\n",
    "using Azure.AI.Agents.Persistent;\n",
    "using Azure.Identity;\n",
    "using Microsoft.Agents.AI;"
   ]
  },
  {
   "cell_type": "code",
   "execution_count": 8,
   "id": "a2e342f1",
   "metadata": {
    "language_info": {
     "name": "polyglot-notebook"
    },
    "polyglot_notebook": {
     "kernelName": "csharp"
    }
   },
   "outputs": [],
   "source": [
    " using DotNetEnv;"
   ]
  },
  {
   "cell_type": "code",
   "execution_count": 9,
   "id": "a7a01653",
   "metadata": {
    "language_info": {
     "name": "polyglot-notebook"
    },
    "polyglot_notebook": {
     "kernelName": "csharp"
    }
   },
   "outputs": [],
   "source": [
    "Env.Load(\"../../../.env\");"
   ]
  },
  {
   "cell_type": "code",
   "execution_count": 10,
   "id": "a42735d5",
   "metadata": {
    "language_info": {
     "name": "polyglot-notebook"
    },
    "polyglot_notebook": {
     "kernelName": "csharp"
    }
   },
   "outputs": [],
   "source": [
    "var azure_foundry_endpoint = Environment.GetEnvironmentVariable(\"AZURE_AI_PROJECT_ENDPOINT\") ?? throw new InvalidOperationException(\"AZURE_AI_PROJECT_ENDPOINT is not set.\");\n",
    "var azure_foundry_model_id = Environment.GetEnvironmentVariable(\"AZURE_AI_MODEL_DEPLOYMENT_NAME\") ?? \"gpt-4.1-mini\";"
   ]
  },
  {
   "cell_type": "code",
   "execution_count": 11,
   "id": "e29bdb58",
   "metadata": {
    "language_info": {
     "name": "polyglot-notebook"
    },
    "polyglot_notebook": {
     "kernelName": "csharp"
    }
   },
   "outputs": [],
   "source": [
    "string pdfPath = \"./document.md\";"
   ]
  },
  {
   "cell_type": "code",
   "execution_count": 12,
   "id": "7351e12d",
   "metadata": {
    "language_info": {
     "name": "polyglot-notebook"
    },
    "polyglot_notebook": {
     "kernelName": "csharp"
    }
   },
   "outputs": [],
   "source": [
    "using System.IO;\n",
    "\n",
    "async Task<Stream> OpenImageStreamAsync(string path)\n",
    "{\n",
    "\treturn await Task.Run(() => File.OpenRead(path));\n",
    "}\n",
    "\n",
    "var pdfStream = await OpenImageStreamAsync(pdfPath);"
   ]
  },
  {
   "cell_type": "code",
   "execution_count": 13,
   "id": "0b6bf484",
   "metadata": {
    "language_info": {
     "name": "polyglot-notebook"
    },
    "polyglot_notebook": {
     "kernelName": "csharp"
    }
   },
   "outputs": [],
   "source": [
    "var persistentAgentsClient = new PersistentAgentsClient(azure_foundry_endpoint, new AzureCliCredential());"
   ]
  },
  {
   "cell_type": "code",
   "execution_count": 14,
   "id": "81e0dddc",
   "metadata": {
    "language_info": {
     "name": "polyglot-notebook"
    },
    "polyglot_notebook": {
     "kernelName": "csharp"
    }
   },
   "outputs": [],
   "source": [
    "PersistentAgentFileInfo fileInfo = await persistentAgentsClient.Files.UploadFileAsync(pdfStream, PersistentAgentFilePurpose.Agents, \"demo.md\");"
   ]
  },
  {
   "cell_type": "code",
   "execution_count": 15,
   "id": "f0c75d80",
   "metadata": {
    "language_info": {
     "name": "polyglot-notebook"
    },
    "polyglot_notebook": {
     "kernelName": "csharp"
    }
   },
   "outputs": [],
   "source": [
    "PersistentAgentsVectorStore fileStore =\n",
    "            await persistentAgentsClient.VectorStores.CreateVectorStoreAsync(\n",
    "                [fileInfo.Id],\n",
    "                metadata: new Dictionary<string, string>() { { \"agentkey\", bool.TrueString } });"
   ]
  },
  {
   "cell_type": "code",
   "execution_count": 16,
   "id": "c77986c5",
   "metadata": {
    "language_info": {
     "name": "polyglot-notebook"
    },
    "polyglot_notebook": {
     "kernelName": "csharp"
    }
   },
   "outputs": [],
   "source": [
    "PersistentAgent agentModel = await persistentAgentsClient.Administration.CreateAgentAsync(\n",
    "            azure_foundry_model_id,\n",
    "            name: \"DotNetRAGAgent\",\n",
    "            tools: [new FileSearchToolDefinition()],\n",
    "            instructions: \"\"\"\n",
    "                You are an AI assistant designed to answer user questions using only the information retrieved from the provided document(s).\n",
    "\n",
    "                - If a user's question cannot be answered using the retrieved context, **you must clearly respond**: \n",
    "                \"I'm sorry, but the uploaded document does not contain the necessary information to answer that question.\"\n",
    "                - Do not answer from general knowledge or reasoning. Do not make assumptions or generate hypothetical explanations.\n",
    "                - Do not provide definitions, tutorials, or commentary that is not explicitly grounded in the content of the uploaded file(s).\n",
    "                - If a user asks a question like \"What is a Neural Network?\", and this is not discussed in the uploaded document, respond as instructed above.\n",
    "                - For questions that do have relevant content in the document (e.g., Contoso's travel insurance coverage), respond accurately, and cite the document explicitly.\n",
    "\n",
    "                You must behave as if you have no external knowledge beyond what is retrieved from the uploaded document.\n",
    "                \"\"\",\n",
    "            toolResources: new()\n",
    "            {\n",
    "                FileSearch = new()\n",
    "                {\n",
    "                    VectorStoreIds = { fileStore.Id },\n",
    "                }\n",
    "            },\n",
    "            metadata: new Dictionary<string, string>() { { \"agentkey\", bool.TrueString } });"
   ]
  },
  {
   "cell_type": "code",
   "execution_count": 17,
   "id": "282326cf",
   "metadata": {
    "language_info": {
     "name": "polyglot-notebook"
    },
    "polyglot_notebook": {
     "kernelName": "csharp"
    }
   },
   "outputs": [],
   "source": [
    "AIAgent agent = await persistentAgentsClient.GetAIAgentAsync(agentModel.Id);"
   ]
  },
  {
   "cell_type": "code",
   "execution_count": 18,
   "id": "2067d313",
   "metadata": {
    "language_info": {
     "name": "polyglot-notebook"
    },
    "polyglot_notebook": {
     "kernelName": "csharp"
    }
   },
   "outputs": [],
   "source": [
    "AgentThread thread = agent.GetNewThread();"
   ]
  },
  {
   "cell_type": "code",
   "execution_count": 19,
   "id": "454c4230",
   "metadata": {
    "language_info": {
     "name": "polyglot-notebook"
    },
    "polyglot_notebook": {
     "kernelName": "csharp"
    }
   },
   "outputs": [
    {
     "name": "stdout",
     "output_type": "stream",
     "text": [
      "Contoso's travel insurance coverage includes protection for medical emergencies, trip cancellations, and lost baggage. This ensures that travelers are supported in case of health-related issues during their trip, unforeseen cancellations, and the loss of their belongings while traveling【4:0†demo.md】.\r\n"
     ]
    }
   ],
   "source": [
    "Console.WriteLine(await agent.RunAsync(\"Can you explain Contoso's travel insurance coverage?\", thread));"
   ]
  },
  {
   "cell_type": "markdown",
   "metadata": {},
   "source": [
    "\n---\n\n**अस्वीकरण**:  \nयह दस्तावेज़ AI अनुवाद सेवा [Co-op Translator](https://github.com/Azure/co-op-translator) का उपयोग करके अनुवादित किया गया है। जबकि हम सटीकता के लिए प्रयास करते हैं, कृपया ध्यान दें कि स्वचालित अनुवाद में त्रुटियां या अशुद्धियां हो सकती हैं। मूल भाषा में उपलब्ध मूल दस्तावेज़ को आधिकारिक स्रोत माना जाना चाहिए। महत्वपूर्ण जानकारी के लिए, पेशेवर मानव अनुवाद की सिफारिश की जाती है। इस अनुवाद के उपयोग से उत्पन्न किसी भी गलतफहमी या गलत व्याख्या के लिए हम उत्तरदायी नहीं हैं।\n"
   ]
  }
 ],
 "metadata": {
  "kernelspec": {
   "display_name": ".NET (C#)",
   "language": "C#",
   "name": ".net-csharp"
  },
  "language_info": {
   "name": "polyglot-notebook"
  },
  "polyglot_notebook": {
   "kernelInfo": {
    "defaultKernelName": "csharp",
    "items": [
     {
      "aliases": [],
      "name": "csharp"
     }
    ]
   }
  },
  "coopTranslator": {
   "original_hash": "e4584fa31638009dc6fb665275de8fc2",
   "translation_date": "2025-10-01T21:47:55+00:00",
   "source_file": "05-agentic-rag/code_samples/05-dotnet-agent-framework.ipynb",
   "language_code": "hi"
  }
 },
 "nbformat": 4,
 "nbformat_minor": 5
}