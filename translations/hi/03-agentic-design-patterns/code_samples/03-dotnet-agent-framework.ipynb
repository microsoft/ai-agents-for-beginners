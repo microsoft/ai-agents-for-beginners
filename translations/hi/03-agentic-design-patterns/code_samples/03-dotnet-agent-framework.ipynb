{
 "cells": [
  {
   "cell_type": "markdown",
   "id": "d6058fa4",
   "metadata": {},
   "source": [
    "# 🎨 GitHub मॉडल्स (.NET) के साथ एजेंटिक डिज़ाइन पैटर्न\n",
    "\n",
    "## 📋 सीखने के उद्देश्य\n",
    "\n",
    "यह नोटबुक Microsoft Agent Framework का उपयोग करके .NET में GitHub मॉडल्स के साथ बुद्धिमान एजेंट बनाने के लिए एंटरप्राइज़-ग्रेड डिज़ाइन पैटर्न प्रदर्शित करता है। आप पेशेवर पैटर्न और वास्तुशिल्प दृष्टिकोण सीखेंगे जो एजेंट्स को प्रोडक्शन-रेडी, बनाए रखने योग्य और स्केलेबल बनाते हैं।\n",
    "\n",
    "**एंटरप्राइज़ डिज़ाइन पैटर्न:**\n",
    "- 🏭 **फैक्टरी पैटर्न**: निर्भरता इंजेक्शन के साथ मानकीकृत एजेंट निर्माण\n",
    "- 🔧 **बिल्डर पैटर्न**: फ्लुएंट एजेंट कॉन्फ़िगरेशन और सेटअप\n",
    "- 🧵 **थ्रेड-सेफ पैटर्न**: समवर्ती बातचीत प्रबंधन\n",
    "- 📋 **रिपॉजिटरी पैटर्न**: संगठित टूल और क्षमता प्रबंधन\n",
    "\n",
    "## 🎯 .NET-विशिष्ट वास्तुशिल्प लाभ\n",
    "\n",
    "### एंटरप्राइज़ फीचर्स\n",
    "- **स्ट्रॉन्ग टाइपिंग**: कंपाइल-टाइम सत्यापन और IntelliSense समर्थन\n",
    "- **डिपेंडेंसी इंजेक्शन**: बिल्ट-इन DI कंटेनर इंटीग्रेशन\n",
    "- **कॉन्फ़िगरेशन प्रबंधन**: IConfiguration और Options पैटर्न\n",
    "- **Async/Await**: प्रथम श्रेणी असिंक्रोनस प्रोग्रामिंग समर्थन\n",
    "\n",
    "### प्रोडक्शन-रेडी पैटर्न\n",
    "- **लॉगिंग इंटीग्रेशन**: ILogger और संरचित लॉगिंग समर्थन\n",
    "- **हेल्थ चेक्स**: बिल्ट-इन मॉनिटरिंग और डायग्नोस्टिक्स\n",
    "- **कॉन्फ़िगरेशन सत्यापन**: डेटा एनोटेशन के साथ स्ट्रॉन्ग टाइपिंग\n",
    "- **एरर हैंडलिंग**: संरचित अपवाद प्रबंधन\n",
    "\n",
    "## 🔧 तकनीकी वास्तुकला\n",
    "\n",
    "### कोर .NET घटक\n",
    "- **Microsoft.Extensions.AI**: एकीकृत AI सेवा अमूर्तता\n",
    "- **Microsoft.Agents.AI**: एंटरप्राइज़ एजेंट ऑर्केस्ट्रेशन फ्रेमवर्क\n",
    "- **GitHub मॉडल्स इंटीग्रेशन**: उच्च-प्रदर्शन API क्लाइंट पैटर्न\n",
    "- **कॉन्फ़िगरेशन सिस्टम**: appsettings.json और पर्यावरण इंटीग्रेशन\n",
    "\n",
    "### डिज़ाइन पैटर्न कार्यान्वयन\n",
    "```csharp\n",
    "IServiceCollection → Agent Builder → Configuration → Tool Registry → AI Agent\n",
    "```\n",
    "\n",
    "## 🏗️ प्रदर्शित एंटरप्राइज़ पैटर्न\n",
    "\n",
    "### 1. **क्रिएशनल पैटर्न**\n",
    "- **एजेंट फैक्टरी**: सुसंगत कॉन्फ़िगरेशन के साथ केंद्रीकृत एजेंट निर्माण\n",
    "- **बिल्डर पैटर्न**: जटिल एजेंट कॉन्फ़िगरेशन के लिए फ्लुएंट API\n",
    "- **सिंगलटन पैटर्न**: साझा संसाधन और कॉन्फ़िगरेशन प्रबंधन\n",
    "- **डिपेंडेंसी इंजेक्शन**: ढीला युग्मन और परीक्षण क्षमता\n",
    "\n",
    "### 2. **व्यवहारिक पैटर्न**\n",
    "- **स्ट्रेटेजी पैटर्न**: विनिमेय टूल निष्पादन रणनीतियाँ\n",
    "- **कमांड पैटर्न**: पूर्ववत/पुनः करने योग्य के साथ संलग्न एजेंट संचालन\n",
    "- **ऑब्जर्वर पैटर्न**: इवेंट-ड्रिवन एजेंट जीवनचक्र प्रबंधन\n",
    "- **टेम्पलेट मेथड**: मानकीकृत एजेंट निष्पादन वर्कफ़्लो\n",
    "\n",
    "### 3. **संरचनात्मक पैटर्न**\n",
    "- **एडॉप्टर पैटर्न**: GitHub मॉडल्स API इंटीग्रेशन लेयर\n",
    "- **डेकोरेटर पैटर्न**: एजेंट क्षमता संवर्धन\n",
    "- **फैसाड पैटर्न**: सरलीकृत एजेंट इंटरैक्शन इंटरफेस\n",
    "- **प्रॉक्सी पैटर्न**: प्रदर्शन के लिए लेज़ी लोडिंग और कैशिंग\n",
    "\n",
    "## ⚙️ आवश्यकताएँ और सेटअप\n",
    "\n",
    "**डेवलपमेंट एनवायरनमेंट:**\n",
    "- .NET 9.0 SDK या उच्चतर\n",
    "- Visual Studio 2022 या VS Code C# एक्सटेंशन के साथ\n",
    "- GitHub मॉडल्स API एक्सेस\n",
    "\n",
    "**NuGet डिपेंडेंसीज़:**\n",
    "```xml\n",
    "<PackageReference Include=\"Microsoft.Extensions.AI\" Version=\"9.9.0\" />\n",
    "<PackageReference Include=\"Microsoft.Extensions.AI.OpenAI\" Version=\"9.9.0-preview.1.25458.4\" />\n",
    "<PackageReference Include=\"DotNetEnv\" Version=\"3.1.1\" />\n",
    "```\n",
    "\n",
    "**कॉन्फ़िगरेशन (.env फ़ाइल):**\n",
    "```env\n",
    "GITHUB_TOKEN=your_github_personal_access_token\n",
    "GITHUB_ENDPOINT=https://models.inference.ai.azure.com\n",
    "GITHUB_MODEL_ID=gpt-4o-mini\n",
    "```\n",
    "\n",
    "## 📚 .NET डिज़ाइन सिद्धांत\n",
    "\n",
    "### SOLID सिद्धांत\n",
    "- **सिंगल रिस्पॉन्सिबिलिटी**: प्रत्येक घटक का एक स्पष्ट उद्देश्य\n",
    "- **ओपन/क्लोज़्ड**: संशोधन के बिना विस्तार योग्य\n",
    "- **लिस्कोव सब्स्टीट्यूशन**: इंटरफेस-आधारित टूल कार्यान्वयन\n",
    "- **इंटरफेस सेग्रेगेशन**: केंद्रित, सुसंगत इंटरफेस\n",
    "- **डिपेंडेंसी इनवर्ज़न**: अमूर्तताओं पर निर्भर करें, ठोस पर नहीं\n",
    "\n",
    "### क्लीन आर्किटेक्चर\n",
    "- **डोमेन लेयर**: कोर एजेंट और टूल अमूर्तता\n",
    "- **एप्लिकेशन लेयर**: एजेंट ऑर्केस्ट्रेशन और वर्कफ़्लो\n",
    "- **इंफ्रास्ट्रक्चर लेयर**: GitHub मॉडल्स इंटीग्रेशन और बाहरी सेवाएँ\n",
    "- **प्रेजेंटेशन लेयर**: उपयोगकर्ता इंटरैक्शन और प्रतिक्रिया स्वरूपण\n",
    "\n",
    "## 🔒 एंटरप्राइज़ विचार\n",
    "\n",
    "### सुरक्षा\n",
    "- **क्रेडेंशियल प्रबंधन**: IConfiguration के साथ सुरक्षित API कुंजी हैंडलिंग\n",
    "- **इनपुट सत्यापन**: स्ट्रॉन्ग टाइपिंग और डेटा एनोटेशन सत्यापन\n",
    "- **आउटपुट सैनिटाइजेशन**: सुरक्षित प्रतिक्रिया प्रसंस्करण और फ़िल्टरिंग\n",
    "- **ऑडिट लॉगिंग**: व्यापक संचालन ट्रैकिंग\n",
    "\n",
    "### प्रदर्शन\n",
    "- **Async पैटर्न**: नॉन-ब्लॉकिंग I/O संचालन\n",
    "- **कनेक्शन पूलिंग**: कुशल HTTP क्लाइंट प्रबंधन\n",
    "- **कैशिंग**: प्रदर्शन सुधार के लिए प्रतिक्रिया कैशिंग\n",
    "- **संसाधन प्रबंधन**: उचित निपटान और सफाई पैटर्न\n",
    "\n",
    "### स्केलेबिलिटी\n",
    "- **थ्रेड सेफ्टी**: समवर्ती एजेंट निष्पादन समर्थन\n",
    "- **संसाधन पूलिंग**: कुशल संसाधन उपयोग\n",
    "- **लोड प्रबंधन**: दर सीमित और बैकप्रेशर हैंडलिंग\n",
    "- **मॉनिटरिंग**: प्रदर्शन मेट्रिक्स और हेल्थ चेक्स\n",
    "\n",
    "## 🚀 प्रोडक्शन परिनियोजन\n",
    "\n",
    "- **कॉन्फ़िगरेशन प्रबंधन**: पर्यावरण-विशिष्ट सेटिंग्स\n",
    "- **लॉगिंग रणनीति**: कोरिलेशन IDs के साथ संरचित लॉगिंग\n",
    "- **एरर हैंडलिंग**: उचित रिकवरी के साथ वैश्विक अपवाद हैंडलिंग\n",
    "- **मॉनिटरिंग**: एप्लिकेशन इनसाइट्स और प्रदर्शन काउंटर\n",
    "- **परीक्षण**: यूनिट टेस्ट, इंटीग्रेशन टेस्ट, और लोड टेस्टिंग पैटर्न\n",
    "\n",
    "क्या आप .NET के साथ एंटरप्राइज़-ग्रेड बुद्धिमान एजेंट बनाने के लिए तैयार हैं? चलिए कुछ मजबूत वास्तुकला बनाते हैं! 🏢✨\n"
   ]
  },
  {
   "cell_type": "code",
   "execution_count": 1,
   "id": "2770ac5c",
   "metadata": {
    "language_info": {
     "name": "polyglot-notebook"
    },
    "polyglot_notebook": {
     "kernelName": "csharp"
    }
   },
   "outputs": [
    {
     "data": {
      "text/html": [
       "<div><div></div><div></div><div><strong>Installed Packages</strong><ul><li><span>Microsoft.Extensions.AI, 9.9.1</span></li></ul></div></div>"
      ]
     },
     "metadata": {},
     "output_type": "display_data"
    }
   ],
   "source": [
    "#r \"nuget: Microsoft.Extensions.AI, 9.9.1\""
   ]
  },
  {
   "cell_type": "code",
   "execution_count": null,
   "id": "984ff6cd",
   "metadata": {
    "language_info": {
     "name": "polyglot-notebook"
    },
    "polyglot_notebook": {
     "kernelName": "csharp"
    }
   },
   "outputs": [
    {
     "data": {
      "text/html": [
       "<div><div></div><div></div><div><strong>Installed Packages</strong><ul><li><span>Microsoft.Agents.AI.OpenAI, 1.0.0-preview.251001.2</span></li></ul></div></div>"
      ]
     },
     "metadata": {},
     "output_type": "display_data"
    }
   ],
   "source": [
    "#r \"nuget: Microsoft.Agents.AI.OpenAI, 1.0.0-preview.251001.3\""
   ]
  },
  {
   "cell_type": "code",
   "execution_count": null,
   "id": "0ab71360",
   "metadata": {
    "language_info": {
     "name": "polyglot-notebook"
    },
    "polyglot_notebook": {
     "kernelName": "csharp"
    }
   },
   "outputs": [
    {
     "data": {
      "text/html": [
       "<div><div></div><div></div><div><strong>Installed Packages</strong><ul><li><span>microsoft.agents.ai, 1.0.0-preview.251001.2</span></li></ul></div></div>"
      ]
     },
     "metadata": {},
     "output_type": "display_data"
    }
   ],
   "source": [
    "\n",
    "\n",
    "#r \"nuget: Microsoft.Agents.AI, 1.0.0-preview.251001.3\""
   ]
  },
  {
   "cell_type": "code",
   "execution_count": 4,
   "id": "4ab7b15d",
   "metadata": {
    "language_info": {
     "name": "polyglot-notebook"
    },
    "polyglot_notebook": {
     "kernelName": "csharp"
    }
   },
   "outputs": [],
   "source": [
    "// #r \"nuget: Microsoft.Extensions.AI.OpenAI, 9.9.0-preview.1.25458.4\""
   ]
  },
  {
   "cell_type": "code",
   "execution_count": 5,
   "id": "3fa8aa21",
   "metadata": {
    "language_info": {
     "name": "polyglot-notebook"
    },
    "polyglot_notebook": {
     "kernelName": "csharp"
    }
   },
   "outputs": [
    {
     "data": {
      "text/html": [
       "<div><div></div><div></div><div><strong>Installed Packages</strong><ul><li><span>DotNetEnv, 3.1.1</span></li></ul></div></div>"
      ]
     },
     "metadata": {},
     "output_type": "display_data"
    }
   ],
   "source": [
    "#r \"nuget: DotNetEnv, 3.1.1\""
   ]
  },
  {
   "cell_type": "code",
   "execution_count": 6,
   "id": "fc8ee8ea",
   "metadata": {
    "language_info": {
     "name": "polyglot-notebook"
    },
    "polyglot_notebook": {
     "kernelName": "csharp"
    }
   },
   "outputs": [],
   "source": [
    "using System;\n",
    "using System.ComponentModel;\n",
    "using System.ClientModel;\n",
    "\n",
    "using Microsoft.Extensions.AI;\n",
    "using Microsoft.Agents.AI;\n",
    "using OpenAI;"
   ]
  },
  {
   "cell_type": "code",
   "execution_count": 7,
   "id": "699b1c83",
   "metadata": {
    "language_info": {
     "name": "polyglot-notebook"
    },
    "polyglot_notebook": {
     "kernelName": "csharp"
    }
   },
   "outputs": [],
   "source": [
    " using DotNetEnv;"
   ]
  },
  {
   "cell_type": "code",
   "execution_count": 8,
   "id": "daa649a0",
   "metadata": {
    "language_info": {
     "name": "polyglot-notebook"
    },
    "polyglot_notebook": {
     "kernelName": "csharp"
    }
   },
   "outputs": [],
   "source": [
    "Env.Load(\"../../../.env\");"
   ]
  },
  {
   "cell_type": "code",
   "execution_count": 9,
   "id": "29661a90",
   "metadata": {
    "language_info": {
     "name": "polyglot-notebook"
    },
    "polyglot_notebook": {
     "kernelName": "csharp"
    }
   },
   "outputs": [],
   "source": [
    "[Description(\"Provides a random vacation destination.\")]\n",
    "static string GetRandomDestination()\n",
    "{\n",
    "    var destinations = new List<string>\n",
    "    {\n",
    "        \"Paris, France\",\n",
    "        \"Tokyo, Japan\",\n",
    "        \"New York City, USA\",\n",
    "        \"Sydney, Australia\",\n",
    "        \"Rome, Italy\",\n",
    "        \"Barcelona, Spain\",\n",
    "        \"Cape Town, South Africa\",\n",
    "        \"Rio de Janeiro, Brazil\",\n",
    "        \"Bangkok, Thailand\",\n",
    "        \"Vancouver, Canada\"\n",
    "    };\n",
    "\n",
    "    var random = new Random();\n",
    "    int index = random.Next(destinations.Count);\n",
    "    return destinations[index];\n",
    "}"
   ]
  },
  {
   "cell_type": "code",
   "execution_count": 10,
   "id": "d2ed1f8b",
   "metadata": {
    "language_info": {
     "name": "polyglot-notebook"
    },
    "polyglot_notebook": {
     "kernelName": "csharp"
    }
   },
   "outputs": [],
   "source": [
    "var github_endpoint = Environment.GetEnvironmentVariable(\"GITHUB_ENDPOINT\") ?? throw new InvalidOperationException(\"GITHUB_ENDPOINT is not set.\");\n",
    "var github_model_id = Environment.GetEnvironmentVariable(\"GITHUB_MODEL_ID\") ?? \"gpt-4o-mini\";\n",
    "var github_token = Environment.GetEnvironmentVariable(\"GITHUB_TOKEN\") ?? throw new InvalidOperationException(\"GITHUB_TOKEN is not set.\");"
   ]
  },
  {
   "cell_type": "code",
   "execution_count": 11,
   "id": "c36c73e1",
   "metadata": {
    "language_info": {
     "name": "polyglot-notebook"
    },
    "polyglot_notebook": {
     "kernelName": "csharp"
    }
   },
   "outputs": [],
   "source": [
    "var openAIOptions = new OpenAIClientOptions()\n",
    "{\n",
    "    Endpoint= new Uri(github_endpoint)\n",
    "};"
   ]
  },
  {
   "cell_type": "code",
   "execution_count": 12,
   "id": "6d94ff10",
   "metadata": {
    "language_info": {
     "name": "polyglot-notebook"
    },
    "polyglot_notebook": {
     "kernelName": "csharp"
    }
   },
   "outputs": [],
   "source": [
    "\n",
    "var openAIClient = new OpenAIClient(new ApiKeyCredential(github_token), openAIOptions);"
   ]
  },
  {
   "cell_type": "code",
   "execution_count": 13,
   "id": "fe32b57a",
   "metadata": {
    "language_info": {
     "name": "polyglot-notebook"
    },
    "polyglot_notebook": {
     "kernelName": "csharp"
    }
   },
   "outputs": [],
   "source": [
    "AIAgent agent = new OpenAIClient(new ApiKeyCredential(github_token), openAIOptions).GetChatClient(github_model_id).CreateAIAgent(\n",
    "    instructions:\"You are a helpful AI Agent that can help plan vacations for customers at random destinations\", tools: [AIFunctionFactory.Create((Func<string>)GetRandomDestination)]);"
   ]
  },
  {
   "cell_type": "code",
   "execution_count": 14,
   "metadata": {
    "language_info": {
     "name": "polyglot-notebook"
    },
    "polyglot_notebook": {
     "kernelName": "csharp"
    }
   },
   "outputs": [],
   "source": [
    "AgentThread thread = agent.GetNewThread();"
   ]
  },
  {
   "cell_type": "code",
   "execution_count": 15,
   "id": "5e455aff",
   "metadata": {
    "language_info": {
     "name": "polyglot-notebook"
    },
    "polyglot_notebook": {
     "kernelName": "csharp"
    }
   },
   "outputs": [
    {
     "name": "stdout",
     "output_type": "stream",
     "text": [
      "How about a day trip to Vancouver, Canada? Here's a suggested itinerary for your day:\n",
      "\n",
      "### Morning\n",
      "- **Breakfast at a Local Cafe**: Start your day with a delicious breakfast at a cozy café like **Jam Cafe** or **Cafe Medina**.\n",
      "- **Stanley Park**: After breakfast, head to Stanley Park. You can rent a bike and ride along the seawall, enjoying beautiful views of the city and the water.\n",
      "\n",
      "### Afternoon\n",
      "- **Lunch in Gastown**: Make your way to Gastown for lunch. Try a local favorite like **The Flying Pig** or **Noodle Box**.\n",
      "- **Explore Gastown**: After lunch, walk around Gastown to see the iconic Steam Clock and browse the unique shops and boutiques.\n",
      "\n",
      "### Late Afternoon\n",
      "- **Granville Island**: Visit Granville Island, where you can stroll through the public market, sample local foods, and enjoy artisan shops.\n",
      "- **False Creek**: Take a walk along False Creek and enjoy the waterfront views.\n",
      "\n",
      "### Evening\n",
      "- **Dinner at a Waterfront Restaurant**: End your day with dinner at a waterfront restaurant like **The Boathouse** or **Lift Bar Grill View** for great food and a view of the sunset.\n",
      "- **Optional: Sunset Cruise**: If you're up for it, consider taking a sunset cruise for a different perspective of the city.\n",
      "\n",
      "### Tips\n",
      "- Make sure to check the weather beforehand!\n",
      "- Consider public transport or ride-sharing to navigate the city easily.\n",
      "\n",
      "Enjoy your day trip to Vancouver!\r\n"
     ]
    }
   ],
   "source": [
    "Console.WriteLine(await agent.RunAsync(\"Plan me a day trip\",thread));"
   ]
  },
  {
   "cell_type": "code",
   "execution_count": 16,
   "id": "592ae1bb",
   "metadata": {
    "language_info": {
     "name": "polyglot-notebook"
    },
    "polyglot_notebook": {
     "kernelName": "csharp"
    }
   },
   "outputs": [
    {
     "name": "stdout",
     "output_type": "stream",
     "text": [
      "How about a vacation to New York City, USA? Here's a suggested itinerary for your trip:\n",
      "\n",
      "### Day 1: Arrival in New York City\n",
      "- **Check-In**: Arrive and check in to your hotel.\n",
      "- **Central Park**: Take a leisurely stroll through Central Park. Consider renting a bike or taking a carriage ride.\n",
      "- **Evening**: Enjoy dinner at a classic NYC restaurant, such as **Katz's Delicatessen** or **Carbone**.\n",
      "\n",
      "### Day 2: Iconic Landmarks\n",
      "- **Morning**: Breakfast at a local diner.\n",
      "- **Statue of Liberty & Ellis Island**: Take a ferry to visit these iconic landmarks.\n",
      "- **Afternoon**: Explore Wall Street and visit the 9/11 Memorial & Museum.\n",
      "- **Evening**: Dinner in the Financial District followed by a walk across the Brooklyn Bridge at sunset.\n",
      "\n",
      "### Day 3: Culture and Arts\n",
      "- **Morning**: Visit The Metropolitan Museum of Art (The Met) and spend a few hours exploring its vast collection.\n",
      "- **Afternoon**: Head to Times Square for lunch and the buzz of the city.\n",
      "- **Broadway Show**: Catch a Broadway show in the evening. Be sure to book tickets in advance!\n",
      "\n",
      "### Day 4: Explore Neighborhoods\n",
      "- **Morning**: Head to SoHo for brunch and shopping in its chic boutiques.\n",
      "- **Afternoon**: Explore Greenwich Village, known for its bohemian atmosphere and history.\n",
      "- **Evening**: Enjoy dinner in the West Village, perhaps at **Buvette** or **Minetta Tavern**.\n",
      "\n",
      "### Day 5: Departure\n",
      "- **Last-minute Shopping**: Spend your last morning shopping at Fifth Avenue or head to Chelsea Market for food and souvenirs.\n",
      "- **Check-Out**: Depart for your journey home.\n",
      "\n",
      "### Tips\n",
      "- Utilize the subway for efficient travel around the city.\n",
      "- Make reservations for popular restaurants and attractions ahead of time!\n",
      "\n",
      "Enjoy your trip to New York City!\r\n"
     ]
    }
   ],
   "source": [
    "Console.WriteLine(await agent.RunAsync(\"I don't like that destination. Plan me another vacation.\",thread));"
   ]
  },
  {
   "cell_type": "markdown",
   "metadata": {},
   "source": [
    "\n---\n\n**अस्वीकरण**:  \nयह दस्तावेज़ AI अनुवाद सेवा [Co-op Translator](https://github.com/Azure/co-op-translator) का उपयोग करके अनुवादित किया गया है। जबकि हम सटीकता सुनिश्चित करने का प्रयास करते हैं, कृपया ध्यान दें कि स्वचालित अनुवाद में त्रुटियां या अशुद्धियां हो सकती हैं। मूल भाषा में उपलब्ध मूल दस्तावेज़ को प्रामाणिक स्रोत माना जाना चाहिए। महत्वपूर्ण जानकारी के लिए, पेशेवर मानव अनुवाद की सिफारिश की जाती है। इस अनुवाद के उपयोग से उत्पन्न किसी भी गलतफहमी या गलत व्याख्या के लिए हम उत्तरदायी नहीं हैं।\n"
   ]
  }
 ],
 "metadata": {
  "kernelspec": {
   "display_name": ".NET (C#)",
   "language": "C#",
   "name": ".net-csharp"
  },
  "language_info": {
   "name": "polyglot-notebook"
  },
  "polyglot_notebook": {
   "kernelInfo": {
    "defaultKernelName": "csharp",
    "items": [
     {
      "aliases": [],
      "name": "csharp"
     }
    ]
   }
  },
  "coopTranslator": {
   "original_hash": "070c1d8985b3dc6e6d977f3e891037f1",
   "translation_date": "2025-10-01T22:14:38+00:00",
   "source_file": "03-agentic-design-patterns/code_samples/03-dotnet-agent-framework.ipynb",
   "language_code": "hi"
  }
 },
 "nbformat": 4,
 "nbformat_minor": 5
}