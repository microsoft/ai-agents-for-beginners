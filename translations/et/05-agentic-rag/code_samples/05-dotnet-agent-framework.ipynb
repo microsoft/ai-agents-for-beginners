{
 "cells": [
  {
   "cell_type": "markdown",
   "id": "44b5899e",
   "metadata": {},
   "source": [
    "# 🔍 Ettevõtte RAG Azure AI Foundryga (.NET)\n",
    "\n",
    "## 📋 Õpieesmärgid\n",
    "\n",
    "See märkmik näitab, kuidas luua ettevõtte tasemel Retrieval-Augmented Generation (RAG) süsteeme, kasutades Microsoft Agent Frameworki .NET-is koos Azure AI Foundryga. Õpid looma tootmisvalmis agente, kes suudavad dokumente otsida ja pakkuda täpseid, kontekstitundlikke vastuseid koos ettevõtte turvalisuse ja skaleeritavusega.\n",
    "\n",
    "**Ettevõtte RAG võimekused, mida ehitad:**\n",
    "- 📚 **Dokumenditöötlus**: Täiustatud dokumenditöötlus Azure AI teenustega\n",
    "- 🔍 **Semantiline otsing**: Kõrge jõudlusega vektorotsing koos ettevõtte funktsioonidega\n",
    "- 🛡️ **Turvalisuse integreerimine**: Rollipõhine juurdepääs ja andmekaitse mustrid\n",
    "- 🏢 **Skaleeritav arhitektuur**: Tootmisvalmis RAG süsteemid koos jälgimisega\n",
    "\n",
    "## 🎯 Ettevõtte RAG arhitektuur\n",
    "\n",
    "### Põhilised ettevõtte komponendid\n",
    "- **Azure AI Foundry**: Hallatud ettevõtte AI platvorm koos turvalisuse ja vastavusega\n",
    "- **Püsivad agendid**: Oleku säilitamisega agendid, kes haldavad vestluste ajalugu ja konteksti\n",
    "- **Vektorite haldamine**: Ettevõtte tasemel dokumentide indekseerimine ja otsing\n",
    "- **Identiteedi integreerimine**: Azure AD autentimine ja rollipõhine juurdepääsukontroll\n",
    "\n",
    "### .NET-i ettevõtte eelised\n",
    "- **Tüübikindlus**: Kompileerimise ajal valideerimine RAG operatsioonide ja andmestruktuuride jaoks\n",
    "- **Asünkroonne jõudlus**: Mitteblokeeriv dokumenditöötlus ja otsingutegevused\n",
    "- **Mälu haldamine**: Tõhus ressursside kasutamine suurte dokumendikogude jaoks\n",
    "- **Integreerimismustrid**: Natiivne Azure teenuste integreerimine sõltuvuste süstimisega\n",
    "\n",
    "## 🏗️ Tehniline arhitektuur\n",
    "\n",
    "### Ettevõtte RAG torujuhe\n",
    "```csharp\n",
    "Document Upload → Security Validation → Vector Processing → Index Creation\n",
    "                      ↓                    ↓                  ↓\n",
    "User Query → Authentication → Semantic Search → Context Ranking → AI Response\n",
    "```\n",
    "\n",
    "### Põhilised .NET komponendid\n",
    "- **Azure.AI.Agents.Persistent**: Ettevõtte agentide haldamine oleku säilitamisega\n",
    "- **Azure.Identity**: Integreeritud autentimine turvaliseks Azure teenuste kasutamiseks\n",
    "- **Microsoft.Agents.AI.AzureAI**: Azure-optimeeritud agentide raamistik\n",
    "- **System.Linq.Async**: Kõrge jõudlusega asünkroonsed LINQ operatsioonid\n",
    "\n",
    "## 🔧 Ettevõtte funktsioonid ja eelised\n",
    "\n",
    "### Turvalisus ja vastavus\n",
    "- **Azure AD integreerimine**: Ettevõtte identiteedihaldus ja autentimine\n",
    "- **Rollipõhine juurdepääs**: Täpne õiguste haldamine dokumentide ja operatsioonide jaoks\n",
    "- **Andmekaitse**: Krüpteerimine nii salvestamisel kui edastamisel tundlike dokumentide jaoks\n",
    "- **Auditilogid**: Põhjalik tegevuste jälgimine vastavusnõuete täitmiseks\n",
    "\n",
    "### Jõudlus ja skaleeritavus\n",
    "- **Ühenduste haldamine**: Tõhus Azure teenuste ühenduste haldamine\n",
    "- **Asünkroonne töötlemine**: Mitteblokeerivad operatsioonid suure läbilaskevõimega stsenaariumide jaoks\n",
    "- **Vahemälu strateegiad**: Nutikas vahemälu sageli kasutatavate dokumentide jaoks\n",
    "- **Koormuse tasakaalustamine**: Hajutatud töötlemine suurte juurutuste jaoks\n",
    "\n",
    "### Haldamine ja jälgimine\n",
    "- **Tervisekontrollid**: Sisseehitatud jälgimine RAG süsteemi komponentide jaoks\n",
    "- **Jõudlusmõõdikud**: Üksikasjalik analüüs otsingukvaliteedi ja vastuseaegade kohta\n",
    "- **Vigade käsitlemine**: Põhjalik erandite haldamine koos korduspoliitikatega\n",
    "- **Konfiguratsiooni haldamine**: Keskkonnaspetsiifilised seaded koos valideerimisega\n",
    "\n",
    "## ⚙️ Eeltingimused ja seadistamine\n",
    "\n",
    "**Arenduskeskkond:**\n",
    "- .NET 9.0 SDK või uuem\n",
    "- Visual Studio 2022 või VS Code koos C# laiendusega\n",
    "- Azure tellimus koos AI Foundry juurdepääsuga\n",
    "\n",
    "**Nõutavad NuGet paketid:**\n",
    "```xml\n",
    "<PackageReference Include=\"Microsoft.Extensions.AI\" Version=\"9.9.0\" />\n",
    "<PackageReference Include=\"Azure.AI.Agents.Persistent\" Version=\"1.2.0-beta.5\" />\n",
    "<PackageReference Include=\"Azure.Identity\" Version=\"1.15.0\" />\n",
    "<PackageReference Include=\"System.Linq.Async\" Version=\"6.0.3\" />\n",
    "<PackageReference Include=\"DotNetEnv\" Version=\"3.1.1\" />\n",
    "```\n",
    "\n",
    "**Azure autentimise seadistamine:**\n",
    "```bash\n",
    "# Install Azure CLI and authenticate\n",
    "az login\n",
    "az account set --subscription \"your-subscription-id\"\n",
    "```\n",
    "\n",
    "**Keskkonna konfiguratsioon (.env fail):**\n",
    "```env\n",
    "# Azure AI Foundry configuration (automatically handled via Azure CLI)\n",
    "# Ensure you're authenticated to the correct Azure subscription\n",
    "```\n",
    "\n",
    "## 📊 Ettevõtte RAG mustrid\n",
    "\n",
    "### Dokumendihalduse mustrid\n",
    "- **Massiline üleslaadimine**: Tõhus suurte dokumendikogude töötlemine\n",
    "- **Järk-järguline uuendamine**: Reaalajas dokumentide lisamine ja muutmine\n",
    "- **Versioonihaldus**: Dokumentide versioonide ja muudatuste jälgimine\n",
    "- **Metaandmete haldamine**: Rikkalikud dokumendi atribuudid ja taksonoomia\n",
    "\n",
    "### Otsingu ja leidmise mustrid\n",
    "- **Hübriidotsing**: Semantilise ja märksõnaotsingu kombineerimine parimate tulemuste saavutamiseks\n",
    "- **Faktoriotsing**: Mitmemõõtmeline filtreerimine ja kategoriseerimine\n",
    "- **Asjakohasuse häälestamine**: Kohandatud skoorimisalgoritmid valdkonnaspetsiifiliste vajaduste jaoks\n",
    "- **Tulemuste järjestamine**: Täiustatud järjestamine äriloogika integreerimisega\n",
    "\n",
    "### Turvalisuse mustrid\n",
    "- **Dokumenditasemel turvalisus**: Täpne juurdepääsukontroll iga dokumendi jaoks\n",
    "- **Andmete klassifitseerimine**: Automaatne tundlikkuse märgistamine ja kaitse\n",
    "- **Auditijäljed**: Kõigi RAG operatsioonide põhjalik logimine\n",
    "- **Privaatsuse kaitse**: PII tuvastamine ja redigeerimine\n",
    "\n",
    "## 🔒 Ettevõtte turvalisuse funktsioonid\n",
    "\n",
    "### Autentimine ja autoriseerimine\n",
    "```csharp\n",
    "// Azure AD integrated authentication\n",
    "var credential = new AzureCliCredential();\n",
    "var agentsClient = new PersistentAgentsClient(endpoint, credential);\n",
    "\n",
    "// Role-based access validation\n",
    "if (!await ValidateUserPermissions(user, documentId))\n",
    "{\n",
    "    throw new UnauthorizedAccessException(\"Insufficient permissions\");\n",
    "}\n",
    "```\n",
    "\n",
    "### Andmekaitse\n",
    "- **Krüpteerimine**: Dokumentide ja otsinguindeksite otsast lõpuni krüpteerimine\n",
    "- **Juurdepääsukontrollid**: Integreerimine Azure AD-ga kasutaja ja grupi õiguste haldamiseks\n",
    "- **Andmete asukoht**: Geograafiline andmete asukoha kontroll vastavuse tagamiseks\n",
    "- **Varundamine ja taastamine**: Automaatne varundamine ja katastroofide taastamise võimalused\n",
    "\n",
    "## 📈 Jõudluse optimeerimine\n",
    "\n",
    "### Asünkroonsed töötlemismustrid\n",
    "```csharp\n",
    "// Efficient async document processing\n",
    "await foreach (var document in documentStream.AsAsyncEnumerable())\n",
    "{\n",
    "    await ProcessDocumentAsync(document, cancellationToken);\n",
    "}\n",
    "```\n",
    "\n",
    "### Mälu haldamine\n",
    "- **Voogtöötlus**: Suurte dokumentide töötlemine ilma mäluprobleemideta\n",
    "- **Ressursside haldamine**: Kallite ressursside tõhus taaskasutus\n",
    "- **Prügi kogumine**: Optimeeritud mälukasutuse mustrid\n",
    "- **Ühenduste haldamine**: Azure teenuste ühenduste elutsükli korrektne haldamine\n",
    "\n",
    "### Vahemälu strateegiad\n",
    "- **Päringute vahemälu**: Sageli teostatud otsingute vahemällu salvestamine\n",
    "- **Dokumentide vahemälu**: Kuumade dokumentide mälusisene vahemälu\n",
    "- **Indeksite vahemälu**: Optimeeritud vektorindeksite vahemällu salvestamine\n",
    "- **Tulemuste vahemälu**: Nutikas genereeritud vastuste vahemällu salvestamine\n",
    "\n",
    "## 📊 Ettevõtte kasutusjuhtumid\n",
    "\n",
    "### Teadmiste haldamine\n",
    "- **Ettevõtte Wiki**: Intelligentsed otsingud ettevõtte teadmistebaasides\n",
    "- **Poliitikad ja protseduurid**: Automaatne vastavus ja protseduuride juhendamine\n",
    "- **Koolitusmaterjalid**: Intelligentsed õppimise ja arendamise abivahendid\n",
    "- **Uurimisandmebaasid**: Akadeemiliste ja teadusartiklite analüüsi süsteemid\n",
    "\n",
    "### Klienditugi\n",
    "- **Tugiteenuste teadmistebaas**: Automaatne klienditeeninduse vastamine\n",
    "- **Tootedokumentatsioon**: Intelligentsed tooteteabe otsingud\n",
    "- **Tõrkeotsingu juhendid**: Kontekstipõhine probleemide lahendamise abi\n",
    "- **KKK süsteemid**: Dünaamiline KKK genereerimine dokumendikogudest\n",
    "\n",
    "### Regulatiivne vastavus\n",
    "- **Juriidiliste dokumentide analüüs**: Lepingute ja juriidiliste dokumentide intelligentsus\n",
    "- **Vastavuse jälgimine**: Automaatne regulatiivsete nõuete kontrollimine\n",
    "- **Riskihindamine**: Dokumentide põhine riskianalüüs ja aruandlus\n",
    "- **Auditi tugi**: Intelligentsed dokumentide avastamise süsteemid auditite jaoks\n",
    "\n",
    "## 🚀 Tootmise juurutamine\n",
    "\n",
    "### Jälgimine ja nähtavus\n",
    "- **Application Insights**: Üksikasjalik telemeetria ja jõudluse jälgimine\n",
    "- **Kohandatud mõõdikud**: Ärispetsiifiliste KPI-de jälgimine ja hoiatused\n",
    "- **Hajutatud jälgimine**: Päringute otsast lõpuni jälgimine teenuste vahel\n",
    "- **Tervise juhtpaneelid**: Reaalajas süsteemi tervise ja jõudluse visualiseerimine\n",
    "\n",
    "### Skaleeritavus ja töökindlus\n",
    "- **Automaatne skaleerimine**: Automaatne skaleerimine koormuse ja jõudlusmõõdikute alusel\n",
    "- **Kõrge saadavus**: Mitme piirkonna juurutamine koos tõrkesiirde võimalustega\n",
    "- **Koormustestimine**: Jõudluse valideerimine ettevõtte koormustingimustes\n",
    "- **Katastroofide taastamine**: Automaatne varundamine ja taastamise protseduurid\n",
    "\n",
    "Valmis ehitama ettevõtte tasemel RAG süsteeme, mis suudavad hallata tundlikke dokumente suurel skaalal? Kujundame intelligentsed teadmiste süsteemid ettevõtetele! 🏢📖✨\n"
   ]
  },
  {
   "cell_type": "code",
   "execution_count": 1,
   "metadata": {
    "language_info": {
     "name": "polyglot-notebook"
    },
    "polyglot_notebook": {
     "kernelName": "csharp"
    }
   },
   "outputs": [
    {
     "data": {
      "text/html": [
       "<div><div></div><div></div><div><strong>Installed Packages</strong><ul><li><span>Microsoft.Extensions.AI, 9.9.1</span></li></ul></div></div>"
      ]
     },
     "metadata": {},
     "output_type": "display_data"
    }
   ],
   "source": [
    "#r \"nuget: Microsoft.Extensions.AI, 9.9.1\""
   ]
  },
  {
   "cell_type": "code",
   "execution_count": 2,
   "id": "4ec1f0d1",
   "metadata": {
    "language_info": {
     "name": "polyglot-notebook"
    },
    "polyglot_notebook": {
     "kernelName": "csharp"
    }
   },
   "outputs": [
    {
     "data": {
      "text/html": [
       "<div><div></div><div></div><div><strong>Installed Packages</strong><ul><li><span>Azure.AI.Agents.Persistent, 1.2.0-beta.5</span></li><li><span>Azure.Identity, 1.15.0</span></li><li><span>System.Linq.Async, 6.0.3</span></li></ul></div></div>"
      ]
     },
     "metadata": {},
     "output_type": "display_data"
    }
   ],
   "source": [
    "#r \"nuget: Azure.AI.Agents.Persistent, 1.2.0-beta.5\"\n",
    "#r \"nuget: Azure.Identity, 1.15.0\"\n",
    "#r \"nuget: System.Linq.Async, 6.0.3\""
   ]
  },
  {
   "cell_type": "code",
   "execution_count": 3,
   "id": "2363ae07",
   "metadata": {
    "language_info": {
     "name": "polyglot-notebook"
    },
    "polyglot_notebook": {
     "kernelName": "csharp"
    }
   },
   "outputs": [],
   "source": []
  },
  {
   "cell_type": "code",
   "execution_count": null,
   "id": "d10cec9d",
   "metadata": {
    "language_info": {
     "name": "polyglot-notebook"
    },
    "polyglot_notebook": {
     "kernelName": "csharp"
    }
   },
   "outputs": [
    {
     "data": {
      "text/html": [
       "<div><div></div><div></div><div><strong>Installed Packages</strong><ul><li><span>Microsoft.Agents.AI.AzureAI, 1.0.0-preview.251001.2</span></li></ul></div></div>"
      ]
     },
     "metadata": {},
     "output_type": "display_data"
    }
   ],
   "source": [
    "#r \"nuget: Microsoft.Agents.AI.AzureAI, 1.0.0-preview.251001.3\""
   ]
  },
  {
   "cell_type": "code",
   "execution_count": null,
   "id": "78199d1c",
   "metadata": {
    "language_info": {
     "name": "polyglot-notebook"
    },
    "polyglot_notebook": {
     "kernelName": "csharp"
    }
   },
   "outputs": [
    {
     "data": {
      "text/html": [
       "<div><div></div><div></div><div><strong>Installed Packages</strong><ul><li><span>microsoft.agents.ai, 1.0.0-preview.251001.2</span></li></ul></div></div>"
      ]
     },
     "metadata": {},
     "output_type": "display_data"
    }
   ],
   "source": [
    "#r \"nuget: Microsoft.Agents.AI, 1.0.0-preview.251001.3\""
   ]
  },
  {
   "cell_type": "code",
   "execution_count": 6,
   "id": "7de4684a",
   "metadata": {
    "language_info": {
     "name": "polyglot-notebook"
    },
    "polyglot_notebook": {
     "kernelName": "csharp"
    }
   },
   "outputs": [
    {
     "data": {
      "text/html": [
       "<div><div></div><div></div><div><strong>Installed Packages</strong><ul><li><span>DotNetEnv, 3.1.1</span></li></ul></div></div>"
      ]
     },
     "metadata": {},
     "output_type": "display_data"
    }
   ],
   "source": [
    "#r \"nuget: DotNetEnv, 3.1.1\""
   ]
  },
  {
   "cell_type": "code",
   "execution_count": 7,
   "id": "251efd31",
   "metadata": {
    "language_info": {
     "name": "polyglot-notebook"
    },
    "polyglot_notebook": {
     "kernelName": "csharp"
    }
   },
   "outputs": [],
   "source": [
    "using System;\n",
    "using System.Linq;\n",
    "using Azure.AI.Agents.Persistent;\n",
    "using Azure.Identity;\n",
    "using Microsoft.Agents.AI;"
   ]
  },
  {
   "cell_type": "code",
   "execution_count": 8,
   "id": "a2e342f1",
   "metadata": {
    "language_info": {
     "name": "polyglot-notebook"
    },
    "polyglot_notebook": {
     "kernelName": "csharp"
    }
   },
   "outputs": [],
   "source": [
    " using DotNetEnv;"
   ]
  },
  {
   "cell_type": "code",
   "execution_count": 9,
   "id": "a7a01653",
   "metadata": {
    "language_info": {
     "name": "polyglot-notebook"
    },
    "polyglot_notebook": {
     "kernelName": "csharp"
    }
   },
   "outputs": [],
   "source": [
    "Env.Load(\"../../../.env\");"
   ]
  },
  {
   "cell_type": "code",
   "execution_count": 10,
   "id": "a42735d5",
   "metadata": {
    "language_info": {
     "name": "polyglot-notebook"
    },
    "polyglot_notebook": {
     "kernelName": "csharp"
    }
   },
   "outputs": [],
   "source": [
    "var azure_foundry_endpoint = Environment.GetEnvironmentVariable(\"AZURE_AI_PROJECT_ENDPOINT\") ?? throw new InvalidOperationException(\"AZURE_AI_PROJECT_ENDPOINT is not set.\");\n",
    "var azure_foundry_model_id = Environment.GetEnvironmentVariable(\"AZURE_AI_MODEL_DEPLOYMENT_NAME\") ?? \"gpt-4.1-mini\";"
   ]
  },
  {
   "cell_type": "code",
   "execution_count": 11,
   "id": "e29bdb58",
   "metadata": {
    "language_info": {
     "name": "polyglot-notebook"
    },
    "polyglot_notebook": {
     "kernelName": "csharp"
    }
   },
   "outputs": [],
   "source": [
    "string pdfPath = \"./document.md\";"
   ]
  },
  {
   "cell_type": "code",
   "execution_count": 12,
   "id": "7351e12d",
   "metadata": {
    "language_info": {
     "name": "polyglot-notebook"
    },
    "polyglot_notebook": {
     "kernelName": "csharp"
    }
   },
   "outputs": [],
   "source": [
    "using System.IO;\n",
    "\n",
    "async Task<Stream> OpenImageStreamAsync(string path)\n",
    "{\n",
    "\treturn await Task.Run(() => File.OpenRead(path));\n",
    "}\n",
    "\n",
    "var pdfStream = await OpenImageStreamAsync(pdfPath);"
   ]
  },
  {
   "cell_type": "code",
   "execution_count": 13,
   "id": "0b6bf484",
   "metadata": {
    "language_info": {
     "name": "polyglot-notebook"
    },
    "polyglot_notebook": {
     "kernelName": "csharp"
    }
   },
   "outputs": [],
   "source": [
    "var persistentAgentsClient = new PersistentAgentsClient(azure_foundry_endpoint, new AzureCliCredential());"
   ]
  },
  {
   "cell_type": "code",
   "execution_count": 14,
   "id": "81e0dddc",
   "metadata": {
    "language_info": {
     "name": "polyglot-notebook"
    },
    "polyglot_notebook": {
     "kernelName": "csharp"
    }
   },
   "outputs": [],
   "source": [
    "PersistentAgentFileInfo fileInfo = await persistentAgentsClient.Files.UploadFileAsync(pdfStream, PersistentAgentFilePurpose.Agents, \"demo.md\");"
   ]
  },
  {
   "cell_type": "code",
   "execution_count": 15,
   "id": "f0c75d80",
   "metadata": {
    "language_info": {
     "name": "polyglot-notebook"
    },
    "polyglot_notebook": {
     "kernelName": "csharp"
    }
   },
   "outputs": [],
   "source": [
    "PersistentAgentsVectorStore fileStore =\n",
    "            await persistentAgentsClient.VectorStores.CreateVectorStoreAsync(\n",
    "                [fileInfo.Id],\n",
    "                metadata: new Dictionary<string, string>() { { \"agentkey\", bool.TrueString } });"
   ]
  },
  {
   "cell_type": "code",
   "execution_count": 16,
   "id": "c77986c5",
   "metadata": {
    "language_info": {
     "name": "polyglot-notebook"
    },
    "polyglot_notebook": {
     "kernelName": "csharp"
    }
   },
   "outputs": [],
   "source": [
    "PersistentAgent agentModel = await persistentAgentsClient.Administration.CreateAgentAsync(\n",
    "            azure_foundry_model_id,\n",
    "            name: \"DotNetRAGAgent\",\n",
    "            tools: [new FileSearchToolDefinition()],\n",
    "            instructions: \"\"\"\n",
    "                You are an AI assistant designed to answer user questions using only the information retrieved from the provided document(s).\n",
    "\n",
    "                - If a user's question cannot be answered using the retrieved context, **you must clearly respond**: \n",
    "                \"I'm sorry, but the uploaded document does not contain the necessary information to answer that question.\"\n",
    "                - Do not answer from general knowledge or reasoning. Do not make assumptions or generate hypothetical explanations.\n",
    "                - Do not provide definitions, tutorials, or commentary that is not explicitly grounded in the content of the uploaded file(s).\n",
    "                - If a user asks a question like \"What is a Neural Network?\", and this is not discussed in the uploaded document, respond as instructed above.\n",
    "                - For questions that do have relevant content in the document (e.g., Contoso's travel insurance coverage), respond accurately, and cite the document explicitly.\n",
    "\n",
    "                You must behave as if you have no external knowledge beyond what is retrieved from the uploaded document.\n",
    "                \"\"\",\n",
    "            toolResources: new()\n",
    "            {\n",
    "                FileSearch = new()\n",
    "                {\n",
    "                    VectorStoreIds = { fileStore.Id },\n",
    "                }\n",
    "            },\n",
    "            metadata: new Dictionary<string, string>() { { \"agentkey\", bool.TrueString } });"
   ]
  },
  {
   "cell_type": "code",
   "execution_count": 17,
   "id": "282326cf",
   "metadata": {
    "language_info": {
     "name": "polyglot-notebook"
    },
    "polyglot_notebook": {
     "kernelName": "csharp"
    }
   },
   "outputs": [],
   "source": [
    "AIAgent agent = await persistentAgentsClient.GetAIAgentAsync(agentModel.Id);"
   ]
  },
  {
   "cell_type": "code",
   "execution_count": 18,
   "id": "2067d313",
   "metadata": {
    "language_info": {
     "name": "polyglot-notebook"
    },
    "polyglot_notebook": {
     "kernelName": "csharp"
    }
   },
   "outputs": [],
   "source": [
    "AgentThread thread = agent.GetNewThread();"
   ]
  },
  {
   "cell_type": "code",
   "execution_count": 19,
   "id": "454c4230",
   "metadata": {
    "language_info": {
     "name": "polyglot-notebook"
    },
    "polyglot_notebook": {
     "kernelName": "csharp"
    }
   },
   "outputs": [
    {
     "name": "stdout",
     "output_type": "stream",
     "text": [
      "Contoso's travel insurance coverage includes protection for medical emergencies, trip cancellations, and lost baggage. This ensures that travelers are supported in case of health-related issues during their trip, unforeseen cancellations, and the loss of their belongings while traveling【4:0†demo.md】.\r\n"
     ]
    }
   ],
   "source": [
    "Console.WriteLine(await agent.RunAsync(\"Can you explain Contoso's travel insurance coverage?\", thread));"
   ]
  },
  {
   "cell_type": "markdown",
   "metadata": {},
   "source": [
    "\n---\n\n**Lahtiütlus**:  \nSee dokument on tõlgitud AI tõlketeenuse [Co-op Translator](https://github.com/Azure/co-op-translator) abil. Kuigi püüame tagada täpsust, palume arvestada, et automaatsed tõlked võivad sisaldada vigu või ebatäpsusi. Algne dokument selle algses keeles tuleks pidada autoriteetseks allikaks. Olulise teabe puhul soovitame kasutada professionaalset inimtõlget. Me ei vastuta selle tõlke kasutamisest tulenevate arusaamatuste või valesti tõlgenduste eest.\n"
   ]
  }
 ],
 "metadata": {
  "kernelspec": {
   "display_name": ".NET (C#)",
   "language": "C#",
   "name": ".net-csharp"
  },
  "language_info": {
   "name": "polyglot-notebook"
  },
  "polyglot_notebook": {
   "kernelInfo": {
    "defaultKernelName": "csharp",
    "items": [
     {
      "aliases": [],
      "name": "csharp"
     }
    ]
   }
  },
  "coopTranslator": {
   "original_hash": "e4584fa31638009dc6fb665275de8fc2",
   "translation_date": "2025-10-11T11:35:31+00:00",
   "source_file": "05-agentic-rag/code_samples/05-dotnet-agent-framework.ipynb",
   "language_code": "et"
  }
 },
 "nbformat": 4,
 "nbformat_minor": 5
}