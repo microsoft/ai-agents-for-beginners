{
 "cells": [
  {
   "cell_type": "markdown",
   "id": "c898efd9",
   "metadata": {},
   "source": [
    "# 🛠️ Täiustatud tööriistade kasutamine GitHubi mudelitega (.NET)\n",
    "\n",
    "## 📋 Õpieesmärgid\n",
    "\n",
    "See märkmik tutvustab ettevõtte tasemel tööriistade integreerimise mustreid, kasutades Microsoft Agent Frameworki .NET-is koos GitHubi mudelitega. Õpid looma keerukaid agente mitme spetsialiseeritud tööriistaga, kasutades C# tugevat tüüpimist ja .NET-i ettevõtte funktsioone.\n",
    "\n",
    "**Täiustatud tööriistade võimekused, mida omandad:**\n",
    "- 🔧 **Mitme tööriista arhitektuur**: Agentide loomine mitme spetsialiseeritud funktsiooniga\n",
    "- 🎯 **Tüübikindel tööriistade täitmine**: C# kompileerimiseaegne valideerimine\n",
    "- 📊 **Ettevõtte tööriistade mustrid**: Tootmiskõlblik tööriistade disain ja vigade käsitlemine\n",
    "- 🔗 **Tööriistade koostamine**: Tööriistade kombineerimine keerukate äriprotsesside jaoks\n",
    "\n",
    "## 🎯 .NET tööriistade arhitektuuri eelised\n",
    "\n",
    "### Ettevõtte tööriistade funktsioonid\n",
    "- **Kompileerimiseaegne valideerimine**: Tugev tüüpimine tagab tööriista parameetrite korrektsuse\n",
    "- **Sõltuvuste süstimine**: IoC konteineri integreerimine tööriistade haldamiseks\n",
    "- **Async/Await mustrid**: Ressursside tõhusaks haldamiseks mitteblokeeriv tööriistade täitmine\n",
    "- **Struktureeritud logimine**: Sisseehitatud logimise integreerimine tööriistade täitmise jälgimiseks\n",
    "\n",
    "### Tootmiskõlblikud mustrid\n",
    "- **Erandite käsitlemine**: Põhjalik vigade haldamine tüübipõhiste eranditega\n",
    "- **Ressursside haldamine**: Õige utiliseerimise mustrid ja mäluhaldus\n",
    "- **Jõudluse jälgimine**: Sisseehitatud mõõdikud ja jõudluse loendurid\n",
    "- **Konfiguratsiooni haldamine**: Tüübikindel konfiguratsioon koos valideerimisega\n",
    "\n",
    "## 🔧 Tehniline arhitektuur\n",
    "\n",
    "### Põhilised .NET tööriistade komponendid\n",
    "- **Microsoft.Extensions.AI**: Ühtne tööriistade abstraktsioonikiht\n",
    "- **Microsoft.Agents.AI**: Ettevõtte tasemel tööriistade orkestreerimine\n",
    "- **GitHubi mudelite integreerimine**: Kõrge jõudlusega API klient koos ühenduste kogumisega\n",
    "\n",
    "### Tööriistade täitmise torustik\n",
    "```csharp\n",
    "User Request → Agent Analysis → Tool Selection → Type Validation\n",
    "                 ↓               ↓              ↓\n",
    "         Parameter Binding → Tool Execution → Result Processing → Response\n",
    "```\n",
    "\n",
    "## 🛠️ Tööriistade kategooriad ja mustrid\n",
    "\n",
    "### 1. **Andmetöötlustööriistad**\n",
    "- **Sisendi valideerimine**: Tugev tüüpimine andmeannotatsioonidega\n",
    "- **Transformatsioonitoimingud**: Tüübikindel andmete teisendamine ja vormindamine\n",
    "- **Äriloogika**: Valdkonnaspetsiifilised arvutused ja analüüsitööriistad\n",
    "- **Väljundi vormindamine**: Struktureeritud vastuse genereerimine\n",
    "\n",
    "### 2. **Integreerimistööriistad**\n",
    "- **API ühendused**: RESTful teenuste integreerimine HttpClientiga\n",
    "- **Andmebaasi tööriistad**: Entity Frameworki integreerimine andmetele juurdepääsuks\n",
    "- **Failitoimingud**: Turvalised failisüsteemi toimingud valideerimisega\n",
    "- **Välisteenused**: Kolmandate osapoolte teenuste integreerimise mustrid\n",
    "\n",
    "### 3. **Abitööriistad**\n",
    "- **Tekstitöötlus**: Stringide manipuleerimise ja vormindamise tööriistad\n",
    "- **Kuupäeva/kellaaja toimingud**: Kultuuriteadlikud kuupäeva/kellaaja arvutused\n",
    "- **Matemaatilised tööriistad**: Täpsed arvutused ja statistilised operatsioonid\n",
    "- **Valideerimistööriistad**: Äriruumi reeglite valideerimine ja andmete kontrollimine\n",
    "\n",
    "## ⚙️ Eeltingimused ja seadistamine\n",
    "\n",
    "**Arenduskeskkond:**\n",
    "- .NET 9.0 SDK või uuem\n",
    "- Visual Studio 2022 või VS Code koos C# laiendusega\n",
    "- GitHubi mudelite API juurdepääs\n",
    "\n",
    "**Vajalikud NuGeti paketid:**\n",
    "```xml\n",
    "<PackageReference Include=\"Microsoft.Extensions.AI\" Version=\"9.9.0\" />\n",
    "<PackageReference Include=\"Microsoft.Extensions.AI.OpenAI\" Version=\"9.9.0-preview.1.25458.4\" />\n",
    "<PackageReference Include=\"DotNetEnv\" Version=\"3.1.1\" />\n",
    "```\n",
    "\n",
    "**Keskkonna konfiguratsioon (.env fail):**\n",
    "```env\n",
    "GITHUB_TOKEN=your_github_personal_access_token\n",
    "GITHUB_ENDPOINT=https://models.inference.ai.azure.com\n",
    "GITHUB_MODEL_ID=gpt-4o-mini\n",
    "```\n",
    "\n",
    "Valmis looma ettevõtte tasemel agente võimsate, tüübikindlate tööriistadega .NET-is? Kujundame professionaalseid lahendusi! 🏢⚡\n"
   ]
  },
  {
   "cell_type": "code",
   "execution_count": 1,
   "id": "2770ac5c",
   "metadata": {
    "language_info": {
     "name": "polyglot-notebook"
    },
    "polyglot_notebook": {
     "kernelName": "csharp"
    }
   },
   "outputs": [
    {
     "data": {
      "text/html": [
       "<div><div></div><div></div><div><strong>Installed Packages</strong><ul><li><span>Microsoft.Extensions.AI, 9.9.1</span></li></ul></div></div>"
      ]
     },
     "metadata": {},
     "output_type": "display_data"
    }
   ],
   "source": [
    "#r \"nuget: Microsoft.Extensions.AI, 9.9.1\""
   ]
  },
  {
   "cell_type": "code",
   "execution_count": null,
   "id": "984ff6cd",
   "metadata": {
    "language_info": {
     "name": "polyglot-notebook"
    },
    "polyglot_notebook": {
     "kernelName": "csharp"
    }
   },
   "outputs": [
    {
     "data": {
      "text/html": [
       "<div><div></div><div></div><div><strong>Installed Packages</strong><ul><li><span>Microsoft.Agents.AI.OpenAI, 1.0.0-preview.251001.2</span></li></ul></div></div>"
      ]
     },
     "metadata": {},
     "output_type": "display_data"
    }
   ],
   "source": [
    "#r \"nuget: Microsoft.Agents.AI.OpenAI, 1.0.0-preview.251001.3\""
   ]
  },
  {
   "cell_type": "code",
   "execution_count": null,
   "id": "0ab71360",
   "metadata": {
    "language_info": {
     "name": "polyglot-notebook"
    },
    "polyglot_notebook": {
     "kernelName": "csharp"
    }
   },
   "outputs": [
    {
     "data": {
      "text/html": [
       "<div><div></div><div></div><div><strong>Installed Packages</strong><ul><li><span>microsoft.agents.ai, 1.0.0-preview.251001.2</span></li></ul></div></div>"
      ]
     },
     "metadata": {},
     "output_type": "display_data"
    }
   ],
   "source": [
    "#r \"nuget: Microsoft.Agents.AI, 1.0.0-preview.251001.3\""
   ]
  },
  {
   "cell_type": "code",
   "execution_count": 4,
   "id": "4ab7b15d",
   "metadata": {
    "language_info": {
     "name": "polyglot-notebook"
    },
    "polyglot_notebook": {
     "kernelName": "csharp"
    }
   },
   "outputs": [],
   "source": [
    "// #r \"nuget: Microsoft.Extensions.AI.OpenAI, 9.9.0-preview.1.25458.4\""
   ]
  },
  {
   "cell_type": "code",
   "execution_count": 5,
   "id": "3fa8aa21",
   "metadata": {
    "language_info": {
     "name": "polyglot-notebook"
    },
    "polyglot_notebook": {
     "kernelName": "csharp"
    }
   },
   "outputs": [
    {
     "data": {
      "text/html": [
       "<div><div></div><div></div><div><strong>Installed Packages</strong><ul><li><span>DotNetEnv, 3.1.1</span></li></ul></div></div>"
      ]
     },
     "metadata": {},
     "output_type": "display_data"
    }
   ],
   "source": [
    "#r \"nuget: DotNetEnv, 3.1.1\""
   ]
  },
  {
   "cell_type": "code",
   "execution_count": 6,
   "id": "fc8ee8ea",
   "metadata": {
    "language_info": {
     "name": "polyglot-notebook"
    },
    "polyglot_notebook": {
     "kernelName": "csharp"
    }
   },
   "outputs": [],
   "source": [
    "using System;\n",
    "using System.ComponentModel;\n",
    "using System.ClientModel;\n",
    "\n",
    "using Microsoft.Extensions.AI;\n",
    "using Microsoft.Agents.AI;\n",
    "using OpenAI;"
   ]
  },
  {
   "cell_type": "code",
   "execution_count": 7,
   "id": "699b1c83",
   "metadata": {
    "language_info": {
     "name": "polyglot-notebook"
    },
    "polyglot_notebook": {
     "kernelName": "csharp"
    }
   },
   "outputs": [],
   "source": [
    " using DotNetEnv;"
   ]
  },
  {
   "cell_type": "code",
   "execution_count": 8,
   "id": "daa649a0",
   "metadata": {
    "language_info": {
     "name": "polyglot-notebook"
    },
    "polyglot_notebook": {
     "kernelName": "csharp"
    }
   },
   "outputs": [],
   "source": [
    "Env.Load(\"../../../.env\");"
   ]
  },
  {
   "cell_type": "code",
   "execution_count": 9,
   "id": "29661a90",
   "metadata": {
    "language_info": {
     "name": "polyglot-notebook"
    },
    "polyglot_notebook": {
     "kernelName": "csharp"
    }
   },
   "outputs": [],
   "source": [
    "[Description(\"Provides a random vacation destination.\")]\n",
    "static string GetRandomDestination()\n",
    "{\n",
    "    var destinations = new List<string>\n",
    "    {\n",
    "        \"Paris, France\",\n",
    "        \"Tokyo, Japan\",\n",
    "        \"New York City, USA\",\n",
    "        \"Sydney, Australia\",\n",
    "        \"Rome, Italy\",\n",
    "        \"Barcelona, Spain\",\n",
    "        \"Cape Town, South Africa\",\n",
    "        \"Rio de Janeiro, Brazil\",\n",
    "        \"Bangkok, Thailand\",\n",
    "        \"Vancouver, Canada\"\n",
    "    };\n",
    "\n",
    "    var random = new Random();\n",
    "    int index = random.Next(destinations.Count);\n",
    "    return destinations[index];\n",
    "}"
   ]
  },
  {
   "cell_type": "code",
   "execution_count": 10,
   "id": "d2ed1f8b",
   "metadata": {
    "language_info": {
     "name": "polyglot-notebook"
    },
    "polyglot_notebook": {
     "kernelName": "csharp"
    }
   },
   "outputs": [],
   "source": [
    "var github_endpoint = Environment.GetEnvironmentVariable(\"GITHUB_ENDPOINT\") ?? throw new InvalidOperationException(\"GITHUB_ENDPOINT is not set.\");\n",
    "var github_model_id = Environment.GetEnvironmentVariable(\"GITHUB_MODEL_ID\") ?? \"gpt-4o-mini\";\n",
    "var github_token = Environment.GetEnvironmentVariable(\"GITHUB_TOKEN\") ?? throw new InvalidOperationException(\"GITHUB_TOKEN is not set.\");"
   ]
  },
  {
   "cell_type": "code",
   "execution_count": 11,
   "id": "c36c73e1",
   "metadata": {
    "language_info": {
     "name": "polyglot-notebook"
    },
    "polyglot_notebook": {
     "kernelName": "csharp"
    }
   },
   "outputs": [],
   "source": [
    "var openAIOptions = new OpenAIClientOptions()\n",
    "{\n",
    "    Endpoint= new Uri(github_endpoint)\n",
    "};"
   ]
  },
  {
   "cell_type": "code",
   "execution_count": 12,
   "id": "6d94ff10",
   "metadata": {
    "language_info": {
     "name": "polyglot-notebook"
    },
    "polyglot_notebook": {
     "kernelName": "csharp"
    }
   },
   "outputs": [],
   "source": [
    "\n",
    "var openAIClient = new OpenAIClient(new ApiKeyCredential(github_token), openAIOptions);"
   ]
  },
  {
   "cell_type": "code",
   "execution_count": 13,
   "id": "fe32b57a",
   "metadata": {
    "language_info": {
     "name": "polyglot-notebook"
    },
    "polyglot_notebook": {
     "kernelName": "csharp"
    }
   },
   "outputs": [],
   "source": [
    "AIAgent agent = new OpenAIClient(new ApiKeyCredential(github_token), openAIOptions).GetChatClient(github_model_id).CreateAIAgent(\n",
    "    instructions:\"You are a helpful AI Agent that can help plan vacations for customers at random destinations\", tools: [AIFunctionFactory.Create((Func<string>)GetRandomDestination)]);"
   ]
  },
  {
   "cell_type": "code",
   "execution_count": 14,
   "metadata": {
    "language_info": {
     "name": "polyglot-notebook"
    },
    "polyglot_notebook": {
     "kernelName": "csharp"
    }
   },
   "outputs": [],
   "source": [
    "AgentThread thread = agent.GetNewThread();"
   ]
  },
  {
   "cell_type": "code",
   "execution_count": 15,
   "id": "5e455aff",
   "metadata": {
    "language_info": {
     "name": "polyglot-notebook"
    },
    "polyglot_notebook": {
     "kernelName": "csharp"
    }
   },
   "outputs": [
    {
     "name": "stdout",
     "output_type": "stream",
     "text": [
      "Your day trip will be in Paris, France! Here's a proposed itinerary for your day:\n",
      "\n",
      "### Morning\n",
      "- **Breakfast at a Local Café**: Start your day with a traditional French breakfast. Try a croissant and café au lait at a local café.\n",
      "- **Visit the Eiffel Tower**: Arrive early to beat the crowds. Enjoy the stunning views of the city from the top.\n",
      "\n",
      "### Late Morning\n",
      "- **Stroll Along the Seine**: Take a leisurely walk along the Seine River and enjoy the picturesque views.\n",
      "- **Visit Notre-Dame Cathedral**: Explore this iconic Gothic cathedral and its stunning architecture.\n",
      "\n",
      "### Lunch\n",
      "- **Lunch at a Bistro**: Treat yourself to a classic French lunch at a nearby bistro. Consider trying coq au vin or a delicious quiche.\n",
      "\n",
      "### Afternoon\n",
      "- **Explore the Louvre**: Spend your afternoon at the Louvre Museum. While you may not see everything, be sure to check out the Mona Lisa and other famous artworks.\n",
      "- **Walk Through the Tuileries Garden**: After the museum, relax in the beautiful Tuileries Garden.\n",
      "\n",
      "### Evening\n",
      "- **Dinner in Montmartre**: Head to Montmartre for dinner. Enjoy the atmosphere, and consider trying some French specialties at a local restaurant.\n",
      "- **Visit Sacré-Cœur Basilica**: After dinner, walk up to the Basilica for a stunning view of Paris at sunset.\n",
      "\n",
      "### Night\n",
      "- **Seine River Cruise**: End your day with a relaxing cruise on the Seine River, taking in the beautifully illuminated city sights.\n",
      "\n",
      "Make sure to check the opening hours of attractions and make reservations where necessary. Enjoy your day trip in Paris!\r\n"
     ]
    }
   ],
   "source": [
    "Console.WriteLine(await agent.RunAsync(\"Plan me a day trip\",thread));"
   ]
  },
  {
   "cell_type": "code",
   "execution_count": 16,
   "id": "592ae1bb",
   "metadata": {
    "language_info": {
     "name": "polyglot-notebook"
    },
    "polyglot_notebook": {
     "kernelName": "csharp"
    }
   },
   "outputs": [
    {
     "name": "stdout",
     "output_type": "stream",
     "text": [
      "Your new vacation destination is Rio de Janeiro, Brazil! Here's a proposed itinerary for your trip:\n",
      "\n",
      "### Day 1: Arrival in Rio\n",
      "- **Check-in**: Arrive and settle into your accommodation.\n",
      "- **Evening at Copacabana Beach**: Stroll along the famous Copacabana Beach. Enjoy the vibrant atmosphere and watch the sunset.\n",
      "\n",
      "### Day 2: Exploring the City\n",
      "- **Visit Christ the Redeemer**: Start your day with a visit to the iconic Christ the Redeemer statue. Take the train up to the top for breathtaking views.\n",
      "- **Explore Santa Teresa**: Wander through the charming streets of Santa Teresa, known for its colonial-style houses, art studios, and local shops.\n",
      "- **Lunch at a Local Restaurant**: Enjoy traditional Brazilian cuisine, such as feijoada (black bean stew).\n",
      "- **Afternoon at Sugarloaf Mountain**: Take a cable car ride to Sugarloaf Mountain for panoramic views of the city and coastline.\n",
      "\n",
      "### Day 3: Cultural Experience\n",
      "- **Visit the Selarón Steps**: Walk up the colorful Selarón Steps, an iconic mosaic staircase.\n",
      "- **Museum Visit**: Explore the Museum of Tomorrow (Museu do Amanhã) or the National Museum of Fine Arts.\n",
      "- **Lunch at a Churrascaria** (Brazilian BBQ): Treat yourself to a delicious barbecue lunch at a local churrascaria.\n",
      "- **Explore the Markets**: Check out a local market for souvenirs and to experience the local culture.\n",
      "\n",
      "### Day 4: Outdoor Adventures\n",
      "- **Hiking in Tijuca National Park**: Spend a day hiking in Tijuca National Park, one of the largest urban rainforests in the world. Enjoy the lush greenery and waterfalls.\n",
      "- **Dinner at a Beachfront Restaurant**: End your day with a delicious dinner at a beachfront restaurant with fresh seafood.\n",
      "\n",
      "### Day 5: Relaxation and Departure\n",
      "- **Relax at Ipanema Beach**: Spend your last morning relaxing at Ipanema Beach, soaking up the sun.\n",
      "- **Last-minute Shopping**: Do some last-minute shopping at local boutiques.\n",
      "- **Departure**: Head to the airport for your flight home.\n",
      "\n",
      "Make sure to enjoy the vibrant culture, beautiful landscapes, and amazing food that Rio de Janeiro has to offer!\r\n"
     ]
    }
   ],
   "source": [
    "Console.WriteLine(await agent.RunAsync(\"I don't like that destination. Plan me another vacation.\",thread));"
   ]
  },
  {
   "cell_type": "markdown",
   "metadata": {},
   "source": [
    "\n---\n\n**Lahtiütlus**:  \nSee dokument on tõlgitud AI tõlketeenuse [Co-op Translator](https://github.com/Azure/co-op-translator) abil. Kuigi püüame tagada täpsust, palume arvestada, et automaatsed tõlked võivad sisaldada vigu või ebatäpsusi. Algne dokument selle algses keeles tuleks pidada autoriteetseks allikaks. Olulise teabe puhul soovitame kasutada professionaalset inimtõlget. Me ei vastuta selle tõlke kasutamisest tulenevate arusaamatuste või valesti tõlgenduste eest.\n"
   ]
  }
 ],
 "metadata": {
  "kernelspec": {
   "display_name": ".NET (C#)",
   "language": "C#",
   "name": ".net-csharp"
  },
  "language_info": {
   "name": "polyglot-notebook"
  },
  "polyglot_notebook": {
   "kernelInfo": {
    "defaultKernelName": "csharp",
    "items": [
     {
      "aliases": [],
      "name": "csharp"
     }
    ]
   }
  },
  "coopTranslator": {
   "original_hash": "4afb07fc78332203123745f403bbc314",
   "translation_date": "2025-10-11T11:55:17+00:00",
   "source_file": "04-tool-use/code_samples/04-dotnet-agent-framework.ipynb",
   "language_code": "et"
  }
 },
 "nbformat": 4,
 "nbformat_minor": 5
}