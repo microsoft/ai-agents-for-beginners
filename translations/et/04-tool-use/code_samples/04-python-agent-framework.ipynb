{
 "cells": [
  {
   "cell_type": "markdown",
   "id": "8744544f",
   "metadata": {},
   "source": [
    "# 🛠️ Täiustatud tööriistade kasutamine GitHubi mudelitega (Python)\n",
    "\n",
    "## 📋 Õpieesmärgid\n",
    "\n",
    "See märkmik tutvustab Microsofti agentide raamistikku kasutades täiustatud tööriistade integreerimise mustreid GitHubi mudelitega. Õpid, kuidas luua, hallata ja orkestreerida mitut tööriista, et arendada keerukaid agentide võimekusi.\n",
    "\n",
    "**Mida sa omandad:**\n",
    "- 🔧 **Mitme tööriista arhitektuur**: Agentide loomine mitme spetsialiseeritud tööriistaga\n",
    "- 🎯 **Tööriista valiku loogika**: Kuidas agendid valivad iga ülesande jaoks õige tööriista\n",
    "- 📊 **Andmetöötlustööriistad**: Tööriistade loomine, mis töötlevad erinevaid andmetüüpe\n",
    "- 🔗 **Tööriistade koostamine**: Tööriistade kombineerimine keerukate töövoogude jaoks\n",
    "\n",
    "## 🎯 Olulised tööriistamustrid\n",
    "\n",
    "### Tööriistade kujundamise põhimõtted\n",
    "- **Üksik vastutus**: Igal tööriistal on selge ja keskendunud eesmärk\n",
    "- **Tüübikindlus**: Tugev tüüpide kasutamine usaldusväärseks tööriista täitmiseks\n",
    "- **Vigade käsitlemine**: Sujuvad tõrke- ja taastemustrid\n",
    "- **Koostalitlusvõime**: Tööriistad, mis töötavad hästi koos\n",
    "\n",
    "### Täiustatud tööriista funktsioonid\n",
    "- **Konteksti teadlikkus**: Tööriistad, mis mõistavad vestluse konteksti\n",
    "- **Andmete valideerimine**: Sisendi puhastamine ja väljundi kontrollimine\n",
    "- **Jõudluse optimeerimine**: Tõhusad tööriista täitmise mustrid\n",
    "- **Laiendatavus**: Uute tööriistade funktsioonide lihtne lisamine\n",
    "\n",
    "## 🔧 Tehniline arhitektuur\n",
    "\n",
    "### Põhikomponendid\n",
    "- **Microsoft Agent Framework**: Pythonis rakendatud raamistik täiustatud tööriistade toetusega\n",
    "- **GitHubi mudelite integreerimine**: Kõrge jõudlusega keelemudelite kasutamine\n",
    "- **Tööriistade registrisüsteem**: Agentide võimekuste organiseeritud haldamine\n",
    "- **Vigade taastemustrid**: Tööriistade täitmise tõrgete vastupidav käsitlemine\n",
    "\n",
    "### Tööriistade integreerimise voog\n",
    "```python\n",
    "User Request → Agent Analysis → Tool Selection → Tool Execution → Response Synthesis\n",
    "```\n",
    "\n",
    "## 🛠️ Näidatud tööriistade kategooriad\n",
    "\n",
    "### 1. **Andmete genereerimise tööriistad**\n",
    "- Juhusliku sihtkoha generaator\n",
    "- Ilmateabe pakkuja  \n",
    "- Reisikulude kalkulaator\n",
    "- Tegevuste soovitamise mootor\n",
    "\n",
    "### 2. **Töötlustööriistad**\n",
    "- Teksti vormindamine ja valideerimine\n",
    "- Andmete teisendamise utiliidid\n",
    "- Sisu analüüsi funktsioonid\n",
    "- Vastuste täiustamise tööriistad\n",
    "\n",
    "### 3. **Integreerimise tööriistad**\n",
    "- Väliste API-de ühendajad\n",
    "- Failisüsteemi operatsioonid\n",
    "- Andmebaasi päringuliidesed\n",
    "- Veebiandmete kogumise utiliidid\n",
    "\n",
    "## ⚙️ Eeltingimused ja seadistamine\n",
    "\n",
    "**Nõutavad sõltuvused:**\n",
    "```bash\n",
    "\n",
    "pip install agent-framework-core -U\n",
    "```\n",
    "\n",
    "**Keskkonna konfiguratsioon (.env fail):**\n",
    "```env\n",
    "GITHUB_TOKEN=your_github_personal_access_token\n",
    "GITHUB_ENDPOINT=https://models.inference.ai.azure.com\n",
    "GITHUB_MODEL_ID=gpt-4o-mini\n",
    "```\n",
    "\n",
    "**Valikulised API-d:**\n",
    "- Ilmateenuse API võti (ilmastikutööriistade jaoks)\n",
    "- Valuuta konverteerimise API juurdepääs\n",
    "- Reisiteabe teenuse mandaadid\n",
    "\n",
    "## 🎨 Kujundusmustrid\n",
    "\n",
    "### Tööriistade tehase muster\n",
    "- Tsentraliseeritud tööriistade loomine ja konfiguratsioon\n",
    "- Ühtne tööriistade liidese kujundus\n",
    "- Lihtne tööriistade registreerimine ja avastamine\n",
    "\n",
    "### Käsu muster\n",
    "- Tööriistade täitmise loogika kapseldamine\n",
    "- Võimalus keerukate operatsioonide tühistamiseks/taastamiseks\n",
    "- Tööriistade kasutamise auditeerimise logimine\n",
    "\n",
    "### Jälgija muster\n",
    "- Tööriistade täitmise jälgimine\n",
    "- Jõudlusmõõdikute kogumine\n",
    "- Vigade aruandlus ja hoiatused\n",
    "\n",
    "## 🚀 Parimad tavad\n",
    "\n",
    "- **Tööriistade dokumentatsioon**: Selged kirjeldused agentide mõistmiseks\n",
    "- **Sisendi valideerimine**: Tugev parameetrite kontroll ja puhastamine\n",
    "- **Väljundi vormindamine**: Järjepidevad ja parsitavad tööriistade vastused\n",
    "- **Veateated**: Kasulikud veateated silumiseks\n",
    "- **Jõudlus**: Optimeeritud tööriistade täitmine reageerimisvõime tagamiseks\n",
    "\n",
    "Valmis looma agente võimsate tööriistade võimekustega? Loome midagi hämmastavat! ⚡\n"
   ]
  },
  {
   "cell_type": "code",
   "execution_count": null,
   "id": "59c0feeb",
   "metadata": {},
   "outputs": [],
   "source": [
    "! pip install agent-framework-core -U"
   ]
  },
  {
   "cell_type": "code",
   "execution_count": null,
   "id": "c0df8a52",
   "metadata": {},
   "outputs": [],
   "source": [
    "# � Import core dependencies for Agent Framework and tool integration\n",
    "# This sets up the essential libraries for building intelligent agents with tool capabilities\n",
    "\n",
    "import asyncio\n",
    "import os\n",
    "import json\n",
    "\n",
    "from dotenv import load_dotenv  # For loading environment variables securely\n",
    "from random import randint\n",
    "\n",
    "# These are the core components for building tool-enabled agents\n",
    "from agent_framework import ChatAgent           # Main agent class\n",
    "from agent_framework.openai import OpenAIChatClient  # OpenAI-compatible client"
   ]
  },
  {
   "cell_type": "code",
   "execution_count": null,
   "id": "24c10eb0",
   "metadata": {},
   "outputs": [],
   "source": [
    "load_dotenv()"
   ]
  },
  {
   "cell_type": "code",
   "execution_count": null,
   "id": "151e0314",
   "metadata": {},
   "outputs": [],
   "source": [
    "# 🔑 Environment variables verification\n",
    "# Ensure all required GitHub Models credentials are properly configured\n",
    "print(\"GITHUB_ENDPOINT:\", os.environ.get(\"GITHUB_ENDPOINT\"))\n",
    "print(\"GITHUB_TOKEN:\", \"***\" if os.environ.get(\"GITHUB_TOKEN\") else \"Not set\")\n",
    "print(\"GITHUB_MODEL_ID:\", os.environ.get(\"GITHUB_MODEL_ID\"))"
   ]
  },
  {
   "cell_type": "code",
   "execution_count": null,
   "id": "a6141584",
   "metadata": {},
   "outputs": [],
   "source": [
    "# 🧪 Test GitHub Models connectivity\n",
    "openai_chat_client = OpenAIChatClient(base_url=os.environ.get(\"GITHUB_ENDPOINT\"), api_key=os.environ.get(\"GITHUB_TOKEN\"), model_id=os.environ.get(\"GITHUB_MODEL_ID\"))"
   ]
  },
  {
   "cell_type": "code",
   "execution_count": null,
   "id": "a6507f83",
   "metadata": {},
   "outputs": [],
   "source": [
    "# 🛠️ Define travel planning tools for agent integration\n",
    "# These functions provide specific capabilities that the agent can invoke dynamically\n",
    "\n",
    "def get_random_destination() -> str:\n",
    "    \"\"\"\n",
    "    🎲 Random destination generator tool\n",
    "    Returns a randomly selected travel destination from curated list\n",
    "    Useful when customers need inspiration for their next vacation\n",
    "    \"\"\"\n",
    "    destinations = [\n",
    "        \"Paris, France\",\n",
    "        \"Tokyo, Japan\", \n",
    "        \"New York City, USA\",\n",
    "        \"London, England\",\n",
    "        \"Rome, Italy\",\n",
    "        \"Sydney, Australia\",\n",
    "        \"Dubai, UAE\",\n",
    "        \"Barcelona, Spain\",\n",
    "        \"Bangkok, Thailand\",\n",
    "        \"Amsterdam, Netherlands\",\n",
    "        \"Istanbul, Turkey\",\n",
    "        \"Prague, Czech Republic\",\n",
    "        \"Santorini, Greece\",\n",
    "        \"Reykjavik, Iceland\",\n",
    "        \"Marrakech, Morocco\",\n",
    "        \"Cape Town, South Africa\",\n",
    "        \"Rio de Janeiro, Brazil\",\n",
    "        \"Bali, Indonesia\"\n",
    "    ]\n",
    "    # 🎯 Return random selection from the curated destination list\n",
    "    return destinations[randint(0, len(destinations) - 1)]"
   ]
  },
  {
   "cell_type": "code",
   "execution_count": null,
   "id": "5d4f0568",
   "metadata": {},
   "outputs": [],
   "source": [
    "# 🔗 Initialize GitHub Models chat client for agent communication\n",
    "# Creates the primary interface between the agent and the language model\n",
    "openai_chat_client = OpenAIChatClient(base_url=os.environ.get(\"GITHUB_ENDPOINT\"), api_key=os.environ.get(\"GITHUB_TOKEN\"), model_id=os.environ.get(\"GITHUB_MODEL_ID\"))"
   ]
  },
  {
   "cell_type": "code",
   "execution_count": null,
   "id": "751668c5",
   "metadata": {},
   "outputs": [],
   "source": [
    "# 🤖 Configure travel agent identity and behavioral instructions\n",
    "# Define the agent's personality, capabilities, and operational guidelines\n",
    "\n",
    "AGENT_NAME = \"TravelAgent\"\n",
    "\n",
    "AGENT_INSTRUCTIONS = \"\"\"You are a helpful AI Agent that can help plan vacations for customers at random destinations\n",
    "\"\"\""
   ]
  },
  {
   "cell_type": "code",
   "execution_count": null,
   "id": "be18ac4f",
   "metadata": {},
   "outputs": [],
   "source": [
    "agent = ChatAgent(\n",
    "        name = AGENT_NAME,\n",
    "        chat_client=openai_chat_client,\n",
    "        instructions=AGENT_INSTRUCTIONS,\n",
    "        tools=[get_random_destination]\n",
    ")"
   ]
  },
  {
   "cell_type": "code",
   "execution_count": null,
   "id": "772e9481",
   "metadata": {},
   "outputs": [],
   "source": [
    "thread = agent.get_new_thread()"
   ]
  },
  {
   "cell_type": "code",
   "execution_count": null,
   "id": "a731b547",
   "metadata": {},
   "outputs": [],
   "source": [
    "response1 = await agent.run(\"Plan me a day trip\",thread= thread)"
   ]
  },
  {
   "cell_type": "code",
   "execution_count": null,
   "id": "7d3fe00a",
   "metadata": {},
   "outputs": [],
   "source": [
    "\n",
    "last_message = response1.messages[-1]\n",
    "text_content = last_message.contents[0].text\n",
    "print(\"Travel plan:\")\n",
    "print(text_content)"
   ]
  },
  {
   "cell_type": "markdown",
   "metadata": {},
   "source": [
    "\n---\n\n**Lahtiütlus**:  \nSee dokument on tõlgitud AI tõlketeenuse [Co-op Translator](https://github.com/Azure/co-op-translator) abil. Kuigi püüame tagada täpsust, palume arvestada, et automaatsed tõlked võivad sisaldada vigu või ebatäpsusi. Algne dokument selle algses keeles tuleks pidada autoriteetseks allikaks. Olulise teabe puhul soovitame kasutada professionaalset inimtõlget. Me ei vastuta selle tõlke kasutamisest tulenevate arusaamatuste või valesti tõlgenduste eest.\n"
   ]
  }
 ],
 "metadata": {
  "kernelspec": {
   "display_name": "agentenv",
   "language": "python",
   "name": "python3"
  },
  "language_info": {
   "codemirror_mode": {
    "name": "ipython",
    "version": 3
   },
   "file_extension": ".py",
   "mimetype": "text/x-python",
   "name": "python",
   "nbconvert_exporter": "python",
   "pygments_lexer": "ipython3",
   "version": "3.12.10"
  },
  "polyglot_notebook": {
   "kernelInfo": {
    "defaultKernelName": "csharp",
    "items": [
     {
      "aliases": [],
      "name": "csharp"
     }
    ]
   }
  },
  "coopTranslator": {
   "original_hash": "42966ddac53cebaf0ac1ce33b2ee7059",
   "translation_date": "2025-10-11T11:53:33+00:00",
   "source_file": "04-tool-use/code_samples/04-python-agent-framework.ipynb",
   "language_code": "et"
  }
 },
 "nbformat": 4,
 "nbformat_minor": 5
}