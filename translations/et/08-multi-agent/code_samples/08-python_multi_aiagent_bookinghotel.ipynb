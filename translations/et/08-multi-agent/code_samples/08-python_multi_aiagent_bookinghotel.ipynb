{
 "cells": [
  {
   "cell_type": "markdown",
   "metadata": {},
   "source": [
    "## **Näited: Multi-AI agendid hotellibroneeringuks**\n",
    "\n",
    "Tänapäeva kiire elutempo juures hõlmab ärireisi planeerimine palju enamat kui lihtsalt lennupileti ja hotellitoa broneerimist. See nõuab koordineerimist ja tõhusust, mida võib olla keeruline saavutada. Siin tulevadki appi Multi-AI agendid, muutes põhjalikult viisi, kuidas me oma reisivajadusi haldame.\n",
    "\n",
    "Kujutage ette, et teil on käepärast intelligentsete agentide meeskond, kes töötab koos, et hallata iga teie reisi aspekti täpsuse ja lihtsusega. Meie arenenud AI-tehnoloogia abil oleme loonud spetsialiseeritud agendid broneerimisteenuste ja reisikava korraldamiseks, tagades sujuva ja stressivaba reisikogemuse.\n",
    "\n",
    "See on lihtne näide. Ärireisi planeerimisel peame konsulteerima ärireiside agendiga, et saada teavet lennupiletite, hotellide jms kohta. AI-agentide abil saame luua broneerimisteenuste agente ja reisikava korraldamise agente, kes teevad koostööd ja tõstavad intelligentsuse taset.\n"
   ]
  },
  {
   "cell_type": "markdown",
   "metadata": {},
   "source": [
    "# Azure AI Agent Service'i käivitamine ja konfiguratsiooniteabe hankimine **.env** failist\n",
    "\n",
    "### **.env**\n",
    "\n",
    "Loo .env fail\n",
    "\n",
    "**.env** sisaldab Azure AI Agent Service'i ühenduse stringi, AOAI poolt kasutatavat mudelit ning vastavat Google API otsinguteenuse API-d, ENDPOINT-i jne.\n",
    "\n",
    "- **AZURE_AI_AGENT_MODEL_DEPLOYMENT_NAME** = \"Teie Azure AI Agent Service'i mudeli juurutamise nimi\"\n",
    "\n",
    "[**NOTE**] Teil on vaja mudelit, millel on 100,000 Rate Limit (Tokenid minutis) ja Rate Limit 600 (Päringud minutis).\n",
    "\n",
    "  Mudeli saate Azure AI Foundry - Model and Endpoint kaudu.\n",
    "\n",
    "- **AZURE_AI_AGENT_PROJECT_CONNECTION_STRING** = \"Teie Azure AI Agent Service'i projekti ühenduse string\"\n",
    "\n",
    "  Projekti ühenduse stringi leiate oma projekti ülevaatest AI ​​Foundry portaali ekraanil.\n",
    "\n",
    "- **SERPAPI_SEARCH_API_KEY** = \"Teie SERPAPI otsinguteenuse API võti\"\n",
    "- **SERPAPI_SEARCH_ENDPOINT** = \"Teie SERPAPI otsinguteenuse Endpoint\"\n",
    "\n",
    "Azure AI Agent Service'i mudeli juurutamise nime ja projekti ühenduse stringi hankimiseks peate looma Azure AI Agent Service'i. Soovitatav on kasutada [seda malli](https://portal.azure.com/#create/Microsoft.Template/uri/https%3A%2F%2Fraw.githubusercontent.com%2Ffosteramanda%2Fazure-agent-quickstart-templates%2Frefs%2Fheads%2Fmaster%2Fquickstarts%2Fmicrosoft.azure-ai-agent-service%2Fstandard-agent%2Fazuredeploy.json), et see otse luua (***Märkus:*** Azure AI Agent Service on praegu saadaval piiratud piirkondades. Soovitatav on viidata [sellele lingile](https://learn.microsoft.com/en-us/azure/ai-services/agents/concepts/model-region-support), et määrata piirkond).\n",
    "\n",
    "Agent vajab juurdepääsu SERPAPI-le. Soovitatav on registreeruda [selle lingi](https://serpapi.com/searches) kaudu. Pärast registreerimist saate unikaalse API KEY ja ENDPOINT-i.\n"
   ]
  },
  {
   "cell_type": "markdown",
   "metadata": {},
   "source": [
    "# Logi sisse Azure'i\n",
    "\n",
    "Nüüd pead Azure'isse sisse logima. Ava terminal VScode'is ja käivita käsk `az login`.\n"
   ]
  },
  {
   "cell_type": "markdown",
   "metadata": {},
   "source": [
    "# Seadistamine\n",
    "\n",
    "Selle märkmiku käivitamiseks peate installima järgmised teegid. Siin on nimekiri vajalikest teekidest ja vastavad pip installimise käsud:\n",
    "\n",
    "azure-identity: Azure'i autentimiseks.  \n",
    "requests: HTTP-päringute tegemiseks.  \n",
    "semantic-kernel: Semantilise tuuma raamistikuks (eeldades, et see on kohandatud või spetsiifiline teek, võib olla vajalik selle installimine konkreetsest allikast või repositooriumist).  \n"
   ]
  },
  {
   "cell_type": "code",
   "execution_count": null,
   "metadata": {},
   "outputs": [],
   "source": [
    "!pip install azure-identity\n",
    "!pip install requests\n",
    "!pip install semantic-kernel\n",
    "!pip install --upgrade semantic_kernel\n",
    "!pip install azure-cli"
   ]
  },
  {
   "cell_type": "markdown",
   "metadata": {},
   "source": [
    "# Selgitus: \n",
    "import asyncio: See impordib asyncio mooduli, mis pakub tuge asünkroonsele programmeerimisele Pythonis. See võimaldab kirjutada samaaegselt töötavat koodi, kasutades async ja await süntaksit.  \n",
    "from typing: Annotated: See impordib Annotated tüübi typing moodulist. Annotated kasutatakse tüüphinnangutele metaandmete lisamiseks, mis võivad olla kasulikud erinevatel eesmärkidel, nagu valideerimine, dokumentatsioon või tööriistade kasutamine.\n"
   ]
  },
  {
   "cell_type": "code",
   "execution_count": null,
   "metadata": {
    "dotnet_interactive": {
     "language": "csharp"
    },
    "polyglot_notebook": {
     "kernelName": "csharp"
    }
   },
   "outputs": [],
   "source": [
    "import asyncio,os\n",
    "from typing import Annotated"
   ]
  },
  {
   "cell_type": "markdown",
   "metadata": {},
   "source": [
    "# Selgitus:\n",
    "Kasutades from dotenv import load_dotenv ja load_dotenv(), saate hõlpsasti hallata konfiguratsiooniseadeid ja tundlikku teavet (nagu API võtmed ja andmebaasi URL-id) .env failis, hoides need eraldi oma lähtekoodist. See muudab teie rakenduse turvalisemaks ja lihtsamini seadistatavaks.\n"
   ]
  },
  {
   "cell_type": "code",
   "execution_count": null,
   "metadata": {},
   "outputs": [],
   "source": [
    "import os\n",
    "from dotenv import load_dotenv\n",
    "\n",
    "# Load environment variables from .env file\n",
    "load_dotenv()"
   ]
  },
  {
   "cell_type": "markdown",
   "metadata": {},
   "source": [
    "# Selgitus:\n",
    "\n",
    "Import-lause: from azure.identity.aio import DefaultAzureCredential: See impordib DefaultAzureCredential klassi moodulist azure.identity.aio. Mooduli nime osa \"aio\" viitab sellele, et see on mõeldud asünkroonsete operatsioonide jaoks.\n",
    "\n",
    "DefaultAzureCredential eesmärk: DefaultAzureCredential klass kuulub Azure SDK-le Pythonis. See pakub vaikimisi viisi Azure'i teenustega autentimiseks. Klass üritab autentida mitmel viisil kindlas järjekorras, näiteks keskkonnamuutujate, hallatud identiteedi ja Azure CLI mandaadi abil.\n",
    "\n",
    "Asünkroonsed operatsioonid: Moodul \"aio\" näitab, et DefaultAzureCredential klass toetab asünkroonseid operatsioone. See tähendab, et seda saab kasutada koos asyncio-ga, et teostada mitteblokeerivaid autentimispäringuid.\n"
   ]
  },
  {
   "cell_type": "code",
   "execution_count": null,
   "metadata": {
    "dotnet_interactive": {
     "language": "csharp"
    },
    "polyglot_notebook": {
     "kernelName": "csharp"
    }
   },
   "outputs": [],
   "source": [
    "from azure.identity.aio import DefaultAzureCredential"
   ]
  },
  {
   "cell_type": "markdown",
   "metadata": {},
   "source": [
    "# Selgitus:\n",
    "Impordib erinevaid mooduleid ja klasse paketist semantic_kernel. Siin on iga impordi lühikirjeldus:\n",
    "\n",
    "AgentGroupChat paketist semantic_kernel.agents: See klass haldab AI agentide grupivestlusega seotud funktsioone. AzureAIAgent ja AzureAIAgentSettings paketist semantic_kernel.agents.azure_ai:\n",
    "\n",
    "AzureAIAgent: Seda klassi kasutatakse Azure AI teenuseid kasutavate AI agentide loomiseks ja haldamiseks.\n",
    "\n",
    "AzureAIAgentSettings: Seda klassi kasutatakse AzureAIAgent'i seadistuste konfigureerimiseks. TerminationStrategy paketist semantic_kernel.agents.strategies.termination.termination_strategy:\n",
    "\n",
    "See klass määratleb strateegiad AI agentide töö lõpetamiseks teatud tingimustel. ChatMessageContent paketist semantic_kernel.contents.chat_message_content:\n",
    "\n",
    "Seda klassi kasutatakse vestlussõnumite sisu haldamiseks.  \n",
    "AuthorRole paketist semantic_kernel.contents.utils.author_role:\n",
    "\n",
    "See klass määratleb erinevad rollid autoritele vestlussõnumite kontekstis.\n",
    "\n",
    "kernel_function paketist semantic_kernel.functions.kernel_function_decorator: Seda dekoraatorit kasutatakse tuumafunktsioonide määratlemiseks, mis on funktsioonid, mida saab täita semantic kernel raamistikus.\n",
    "Need impordid loovad vajalikud komponendid AI agentide loomiseks ja haldamiseks, mis suudavad suhelda grupivestluse keskkonnas, näiteks ülesannete täitmiseks nagu hotellide broneerimine või sarnased tegevused.\n"
   ]
  },
  {
   "cell_type": "code",
   "execution_count": null,
   "metadata": {
    "dotnet_interactive": {
     "language": "csharp"
    },
    "polyglot_notebook": {
     "kernelName": "csharp"
    }
   },
   "outputs": [],
   "source": [
    "from semantic_kernel.agents import AgentGroupChat\n",
    "from semantic_kernel.agents import AzureAIAgent, AzureAIAgentSettings\n",
    "from semantic_kernel.agents.strategies.termination.termination_strategy import TerminationStrategy\n",
    "from semantic_kernel.contents import ChatMessageContent\n",
    "from semantic_kernel.contents import AuthorRole\n",
    "from semantic_kernel.functions.kernel_function_decorator import kernel_function"
   ]
  },
  {
   "cell_type": "markdown",
   "metadata": {},
   "source": [
    "# Selgitus:\n",
    "Järgmisena impordime CodeInterpreterTool klassi moodulist azure.ai.projects.models.\n",
    "\n",
    "CodeInterpreterTool: See klass kuulub Azure AI SDK-sse ja seda kasutatakse koodi tõlgendamiseks ja käivitamiseks AI projektide kontekstis. See pakub funktsioone koodilõikude käitamiseks, koodi analüüsimiseks või koodi täitmise integreerimiseks AI töövoogudesse. \n",
    "See import seab vajaliku komponendi üles, et kasutada CodeInterpreterTool-i oma projektis, mis võib olla kasulik ülesannete jaoks, mis hõlmavad koodi dünaamilist tõlgendamist ja käivitamist.\n"
   ]
  },
  {
   "cell_type": "code",
   "execution_count": null,
   "metadata": {
    "dotnet_interactive": {
     "language": "csharp"
    },
    "polyglot_notebook": {
     "kernelName": "csharp"
    }
   },
   "outputs": [],
   "source": [
    "from azure.ai.projects.models import CodeInterpreterTool"
   ]
  },
  {
   "cell_type": "markdown",
   "metadata": {},
   "source": [
    "# Selgitus: \n",
    "ApprovalTerminationStrategy klass pakub konkreetset strateegiat AI-agendi töö lõpetamiseks. Agent lõpetab töö, kui tema interaktsiooniajaloos viimane sõnum sisaldab sõna \"salvestatud\". See võib olla kasulik olukordades, kus agendi ülesanne loetakse lõpetatuks, kui ta saab kinnituse, et midagi on \"salvestatud\". Määratle interaktsiooni meetod. Pärast broneerimisplaani salvestamist saab töö lõpetada, kui saadakse salvestamise signaal.\n"
   ]
  },
  {
   "cell_type": "code",
   "execution_count": null,
   "metadata": {
    "dotnet_interactive": {
     "language": "csharp"
    },
    "polyglot_notebook": {
     "kernelName": "csharp"
    }
   },
   "outputs": [],
   "source": [
    "class ApprovalTerminationStrategy(TerminationStrategy):\n",
    "    \"\"\"A strategy for determining when an agent should terminate.\"\"\"\n",
    "\n",
    "    async def should_agent_terminate(self, agent, history):\n",
    "        \"\"\"Check if the agent should terminate.\"\"\"\n",
    "        return \"saved\" in history[-1].content.lower()"
   ]
  },
  {
   "cell_type": "markdown",
   "metadata": {},
   "source": [
    "# Selgitus:\n",
    "\n",
    "See koodirida initsialiseerib AzureAIAgentSettings objekti vaikimisi või eelmääratud seadistustega, kutsudes välja meetodi create(). Seda seadistusobjekti (ai_agent_settings) saab seejärel kasutada AzureAIAgent eksemplari konfigureerimiseks ja haldamiseks.\n"
   ]
  },
  {
   "cell_type": "code",
   "execution_count": null,
   "metadata": {
    "dotnet_interactive": {
     "language": "csharp"
    },
    "polyglot_notebook": {
     "kernelName": "csharp"
    }
   },
   "outputs": [],
   "source": [
    "ai_agent_settings = AzureAIAgentSettings.create()"
   ]
  },
  {
   "cell_type": "markdown",
   "metadata": {},
   "source": [
    "# Selgitus:\n",
    "Requests-teegi importimisega saad hõlpsasti teha HTTP-päringuid ja suhelda veebiteenustega oma Python-koodis.\n"
   ]
  },
  {
   "cell_type": "code",
   "execution_count": null,
   "metadata": {
    "dotnet_interactive": {
     "language": "csharp"
    },
    "polyglot_notebook": {
     "kernelName": "csharp"
    }
   },
   "outputs": [],
   "source": [
    "import requests"
   ]
  },
  {
   "cell_type": "markdown",
   "metadata": {},
   "source": [
    "# Selgitus:\n",
    "See on muutuja, mis salvestab API võtme SERP (otsingumootori tulemuste lehe) API teenusele juurdepääsuks. API võti on unikaalne identifikaator, mida kasutatakse teie kontoga seotud päringute autentimiseks.\n",
    "\n",
    "'GOOGLE_SEARCH_API_KEY': See on kohatäite string. Peate asendama ''GOOGLE_SEARCH_API_KEY' oma tegeliku SERP API võtmega.\n",
    "\n",
    "Eesmärk: Selle rea eesmärk on salvestada API võti muutujasse, et seda saaks kasutada päringute autentimiseks SERP API teenuses. API võti on vajalik teenusele juurdepääsuks ja otsingute tegemiseks.\n",
    "\n",
    "Kuidas saada SERP API võtit: SERP API võtme saamiseks järgige neid üldisi samme aadressil https://serpapi.com (täpsed sammud võivad varieeruda sõltuvalt kasutatavast SERP API teenusest):\n",
    "\n",
    "Valige SERP API teenus: Saadaval on mitmeid SERP API teenuseid, nagu SerpAPI, Google Custom Search JSON API ja teised. Valige see, mis kõige paremini vastab teie vajadustele.\n",
    "\n",
    "Registreeruge kontole:\n",
    "\n",
    "Minge valitud SERP API teenuse veebisaidile https://www.serpapi.com ja registreeruge kontole. Võimalik, et peate esitama mõningaid põhiandmeid ja kinnitama oma e-posti aadressi.\n",
    "\n",
    "Looge API võti:\n",
    "\n",
    "Pärast registreerumist logige oma kontole sisse ja navigeerige API sektsiooni või juhtpaneelile. Otsige võimalust uue API võtme loomiseks või genereerimiseks.\n",
    "Kopeerige API võti:\n",
    "\n",
    "Kui API võti on genereeritud, kopeerige see. Seda võtit kasutatakse teie päringute autentimiseks SERP API teenuses.\n",
    "Asendage kohatäide:\n",
    "\n",
    "Asendage kohatäide oma .env failis.\n"
   ]
  },
  {
   "cell_type": "code",
   "execution_count": null,
   "metadata": {
    "dotnet_interactive": {
     "language": "csharp"
    },
    "polyglot_notebook": {
     "kernelName": "csharp"
    }
   },
   "outputs": [],
   "source": [
    "SERPAPI_SEARCH_API_KEY=os.getenv('SERPAPI_SEARCH_API_KEY')"
   ]
  },
  {
   "cell_type": "code",
   "execution_count": null,
   "metadata": {
    "dotnet_interactive": {
     "language": "csharp"
    },
    "polyglot_notebook": {
     "kernelName": "csharp"
    }
   },
   "outputs": [],
   "source": [
    "SERPAPI_SEARCH_ENDPOINT = os.getenv('SERPAPI_SEARCH_ENDPOINT')"
   ]
  },
  {
   "cell_type": "markdown",
   "metadata": {},
   "source": [
    "# Selgitus:\n",
    "BookingPlugin klass pakub meetodeid hotellide ja lendude broneerimiseks, kasutades Serpapi.com Google Search API-d. See koostab vajalikud parameetrid, saadab API päringud ja töötleb vastuseid, et tagastada asjakohast broneerimisinfot. API võti (SERPAPI_SEARCH_API_KEY) ja lõpp-punkt (SERPAPI_SEARCH_ENDPOINT) kasutatakse Google Search API autentimiseks ja päringute saatmiseks.\n"
   ]
  },
  {
   "cell_type": "code",
   "execution_count": null,
   "metadata": {
    "dotnet_interactive": {
     "language": "csharp"
    },
    "polyglot_notebook": {
     "kernelName": "csharp"
    }
   },
   "outputs": [],
   "source": [
    "# Define Booking Plugin\n",
    "class BookingPlugin:\n",
    "    \"\"\"Booking Plugin for customers\"\"\"\n",
    "    @kernel_function(description=\"booking hotel\")\n",
    "    def booking_hotel(self,query: Annotated[str, \"The name of the city\"], check_in_date: Annotated[str, \"Hotel Check-in Time\"], check_out_date: Annotated[str, \"Hotel Check-in Time\"])-> Annotated[str, \"Return the result of booking hotel infomation\"]:\n",
    "\n",
    "        params = {\n",
    "            \"engine\": \"google_hotels\",\n",
    "            \"q\": query,\n",
    "            \"check_in_date\": check_in_date,\n",
    "            \"check_out_date\": check_out_date,\n",
    "            \"adults\": \"2\",\n",
    "            \"currency\": \"USD\",\n",
    "            \"gl\": \"us\",\n",
    "            \"hl\": \"en\",\n",
    "            \"api_key\": SERPAPI_SEARCH_API_KEY\n",
    "        }\n",
    "\n",
    "        response = requests.get(SERPAPI_SEARCH_ENDPOINT, params=params)\n",
    "        if response.status_code == 200:\n",
    "            response = response.json()\n",
    "            return response[\"properties\"]\n",
    "        else:\n",
    "            return None\n",
    "\n",
    "    \n",
    "    @kernel_function(description=\"booking fight\")\n",
    "    def  booking_fight(self,origin: Annotated[str, \"The name of Departure\"], destination: Annotated[str, \"The name of Destination\"], outbound_date: Annotated[str, \"The date of outbound\"], return_date: Annotated[str, \"The date of Return_date\"])-> Annotated[str, \"Return the result of booking fight infomation\"]:\n",
    "        \n",
    "        go_params = {\n",
    "            \"engine\": \"google_flights\",   \n",
    "            \"departure_id\": origin,\n",
    "            \"arrival_id\": destination,\n",
    "            \"outbound_date\": outbound_date,\n",
    "            \"return_date\": return_date,  \n",
    "            \"currency\": \"USD\",\n",
    "            \"hl\": \"en\",\n",
    "            \"api_key\": SERPAPI_SEARCH_API_KEY  \n",
    "        }\n",
    "\n",
    "        print(go_params)\n",
    "\n",
    "        go_response = requests.get(SERPAPI_SEARCH_ENDPOINT, params=go_params)\n",
    "\n",
    "\n",
    "        result = ''\n",
    "\n",
    "        if go_response.status_code == 200:\n",
    "            response = go_response.json()\n",
    "\n",
    "            result += \"# outbound \\n \" + str(response)\n",
    "        else:\n",
    "            print('error!!!')\n",
    "            # return None\n",
    "\n",
    "        \n",
    "        back_params = {\n",
    "            \"engine\": \"google_flights\",   \n",
    "            \"departure_id\": destination,\n",
    "            \"arrival_id\": origin,\n",
    "            \"outbound_date\": return_date,\n",
    "            \"return_date\": return_date,  \n",
    "            \"currency\": \"USD\",\n",
    "            \"hl\": \"en\",\n",
    "            \"api_key\": SERPAPI_SEARCH_API_KEY  \n",
    "        }\n",
    "\n",
    "\n",
    "        print(back_params)\n",
    "\n",
    "\n",
    "        back_response = requests.get(SERPAPI_SEARCH_ENDPOINT, params=back_params)\n",
    "\n",
    "\n",
    "\n",
    "        if back_response.status_code == 200:\n",
    "            response = back_response.json()\n",
    "\n",
    "            result += \"\\n # return \\n\"  + str(response)\n",
    "\n",
    "        else:\n",
    "            print('error!!!')\n",
    "            # return None\n",
    "        \n",
    "        print(result)\n",
    "\n",
    "        return result\n",
    "\n",
    "        \n"
   ]
  },
  {
   "cell_type": "markdown",
   "metadata": {},
   "source": [
    "# Selgitus:\n",
    "SavePlugin klass pakub meetodit saving_plan, mis salvestab reisiplaane Azure AI teenuste abil. See seadistab Azure'i mandaadid, loob AI agendi, töötleb kasutaja sisendeid, et genereerida ja salvestada reisiplaani sisu, ning tegeleb failide salvestamise ja puhastustoimingutega. Meetod tagastab \"Salvestatud\" edukal lõpetamisel.\n"
   ]
  },
  {
   "cell_type": "code",
   "execution_count": null,
   "metadata": {
    "dotnet_interactive": {
     "language": "csharp"
    },
    "polyglot_notebook": {
     "kernelName": "csharp"
    }
   },
   "outputs": [],
   "source": [
    "class SavePlugin:\n",
    "    \"\"\"Save Plugin for customers\"\"\"\n",
    "    @kernel_function(description=\"saving plan\")\n",
    "    async def saving_plan(self,tripplan: Annotated[str, \"The content of trip plan\"])-> Annotated[str, \"Return status of save content\"]:\n",
    "\n",
    "        async with (\n",
    "            DefaultAzureCredential() as creds,\n",
    "            AzureAIAgent.create_client(\n",
    "                credential=creds,\n",
    "                conn_str=ai_agent_settings.project_connection_string.get_secret_value(),\n",
    "            ) as client,\n",
    "        ):\n",
    "\n",
    "            code_interpreter = CodeInterpreterTool()\n",
    "            \n",
    "            agent_definition = await client.agents.create_agent(\n",
    "                model=ai_agent_settings.model_deployment_name,\n",
    "                tools=code_interpreter.definitions,\n",
    "                tool_resources=code_interpreter.resources,\n",
    "            )\n",
    "\n",
    "\n",
    "            agent = AzureAIAgent(\n",
    "                client=client,\n",
    "                definition=agent_definition,\n",
    "            )\n",
    "\n",
    "            thread = await client.agents.create_thread()\n",
    "\n",
    "\n",
    "            user_inputs = [\n",
    "                \"\"\"\n",
    "            \n",
    "                        You are my Python programming assistant. Generate code,save \"\"\"+ tripplan +\n",
    "                        \n",
    "                    \"\"\"    \n",
    "                        and execute it according to the following requirements\n",
    "\n",
    "                        1. Save blog content to trip-{YYMMDDHHMMSS}.md\n",
    "\n",
    "                        2. give me the download this file link\n",
    "                    \"\"\"\n",
    "            ]\n",
    "\n",
    "\n",
    "\n",
    "            try:\n",
    "                for user_input in user_inputs:\n",
    "                    # Add the user input as a chat message\n",
    "                    await agent.add_chat_message(\n",
    "                        thread_id=thread.id, message=ChatMessageContent(role=AuthorRole.USER, content=user_input)\n",
    "                    )\n",
    "                    print(f\"# User: '{user_input}'\")\n",
    "                    # Invoke the agent for the specified thread\n",
    "                    async for content in agent.invoke(thread_id=thread.id):\n",
    "                        if content.role != AuthorRole.TOOL:\n",
    "                            print(f\"# Agent: {content.content}\")\n",
    "\n",
    "                    \n",
    "                    messages = await client.agents.list_messages(thread_id=thread.id)\n",
    "\n",
    "                    # OpenAIPageableListOfThreadMessage\n",
    "                    # OpenAIPageableListOfThreadMessage\n",
    "\n",
    "\n",
    "                    for file_path_annotation in messages.file_path_annotations:\n",
    "\n",
    "                            file_name = os.path.basename(file_path_annotation.text)\n",
    "\n",
    "                            await client.agents.save_file(file_id=file_path_annotation.file_path.file_id, file_name=file_name,target_dir=\"./trip\")\n",
    "\n",
    "                    \n",
    "            finally:\n",
    "                await client.agents.delete_thread(thread.id)\n",
    "                await client.agents.delete_agent(agent.id)\n",
    "\n",
    "\n",
    "        return \"Saved\""
   ]
  },
  {
   "cell_type": "markdown",
   "metadata": {},
   "source": [
    "# Selgitus:\n",
    "See kood seadistab Azure AI agendid, et hallata lennu- ja hotellibroneeringuid ning salvestada reisiplaane vastavalt kasutaja sisenditele. Kood kasutab Azure'i mandaate agentide loomiseks ja konfigureerimiseks, töötleb kasutaja sisendeid grupivestluse kaudu ning tagab korrektse puhastamise pärast ülesannete täitmist. Agendid kasutavad konkreetseid pluginaid (BookingPlugin ja SavePlugin), et täita oma vastavaid ülesandeid.\n"
   ]
  },
  {
   "cell_type": "code",
   "execution_count": null,
   "metadata": {
    "dotnet_interactive": {
     "language": "csharp"
    },
    "polyglot_notebook": {
     "kernelName": "csharp"
    }
   },
   "outputs": [],
   "source": [
    "async with (\n",
    "    DefaultAzureCredential() as creds,\n",
    "    AzureAIAgent.create_client(\n",
    "        credential=creds,\n",
    "        conn_str=ai_agent_settings.project_connection_string.get_secret_value(),\n",
    "    ) as client,\n",
    "):\n",
    "    BOOKING_AGENT_NAME = \"BookingAgent\"\n",
    "    BOOKING_AGENT_INSTRUCTIONS = \"\"\"\n",
    "    You are a booking agent. Help me book flights or hotels.\n",
    "\n",
    "    Thought: Please understand the user's intention and confirm whether to use the reservation system to complete the task.\n",
    "\n",
    "    Actions:\n",
    "    - For flight bookings, convert the departure and destination names into airport codes.\n",
    "    - Use the appropriate API for hotel or flight bookings. Verify that all necessary parameters are available. If any parameters are missing, ask the user to provide them. If all parameters are complete, call the corresponding function.\n",
    "    - If the task is not related to hotel or flight booking, respond with the final answer only.\n",
    "    - Output the results using a markdown table:\n",
    "      - For flight bookings, output separate outbound and return contents in the order of:\n",
    "        Departure Airport | Airline | Flight Number | Departure Time | Arrival Airport | Arrival Time | Duration | Airplane | Travel Class | Price (USD) | Legroom | Extensions | Carbon Emissions (kg).\n",
    "      - For hotel bookings, output in the order of:\n",
    "        Property Name | Property Description | Check-in Time | Check-out Time | Prices | Nearby Places | Hotel Class | GPS Coordinates.\n",
    "    \"\"\"\n",
    "\n",
    "    SAVE_AGENT_NAME = \"SaveAgent\"\n",
    "    SAVE_AGENT_INSTRUCTIONS = \"\"\"\n",
    "    You are a save tool agent. Help me to save the trip plan.\n",
    "    \"\"\"\n",
    "\n",
    "    # Create agent definition\n",
    "    booking_agent_definition = await client.agents.create_agent(\n",
    "        model=ai_agent_settings.model_deployment_name,\n",
    "        name=BOOKING_AGENT_NAME,\n",
    "        instructions=BOOKING_AGENT_INSTRUCTIONS,\n",
    "    )\n",
    "\n",
    "    # Create the AzureAI Agent\n",
    "    booking_agent = AzureAIAgent(\n",
    "        client=client,\n",
    "        definition=booking_agent_definition,\n",
    "        # Optionally configure polling options\n",
    "        # polling_options=RunPollingOptions(run_polling_interval=timedelta(seconds=1)),\n",
    "    )\n",
    "\n",
    "    # Add the sample plugin to the kernel\n",
    "    booking_agent.kernel.add_plugin(BookingPlugin(), plugin_name=\"booking\")\n",
    "\n",
    "    # Create agent definition\n",
    "    save_agent_definition = await client.agents.create_agent(\n",
    "        model=ai_agent_settings.model_deployment_name,\n",
    "        name=SAVE_AGENT_NAME,\n",
    "        instructions=SAVE_AGENT_INSTRUCTIONS\n",
    "    )\n",
    "\n",
    "    # Create the AzureAI Agent\n",
    "    save_agent = AzureAIAgent(\n",
    "        client=client,\n",
    "        definition=save_agent_definition,\n",
    "    )\n",
    "\n",
    "    save_agent.kernel.add_plugin(SavePlugin(), plugin_name=\"saving\")\n",
    "\n",
    "    user_inputs = [\n",
    "        \"I have a business trip from London to New York in Feb 20 2025 to Feb 27 2025 ,help me to book a hotel and fight tickets and save it\"\n",
    "    ]\n",
    "\n",
    "    chat = AgentGroupChat(\n",
    "        agents=[booking_agent, save_agent],\n",
    "        termination_strategy=ApprovalTerminationStrategy(agents=[save_agent], maximum_iterations=10),\n",
    "    )\n",
    "\n",
    "    try:\n",
    "        for user_input in user_inputs:\n",
    "            # Add the user input as a chat message\n",
    "            await chat.add_chat_message(\n",
    "                ChatMessageContent(role=AuthorRole.USER, content=user_input)\n",
    "            )\n",
    "            print(f\"# User: '{user_input}'\")\n",
    "\n",
    "            async for content in chat.invoke():\n",
    "                print(f\"# {content.role} - {content.name or '*'}: '{content.content}'\")\n",
    "\n",
    "            print(f\"# IS COMPLETE: {chat.is_complete}\")\n",
    "\n",
    "            print(\"*\" * 60)\n",
    "            print(\"Chat History (In Descending Order):\\n\")\n",
    "            async for message in chat.get_chat_messages(agent=save_agent):\n",
    "                print(f\"# {message.role} - {message.name or '*'}: '{message.content}'\")\n",
    "    finally:\n",
    "        await chat.reset()\n",
    "        await client.agents.delete_agent(save_agent.id)\n",
    "        await client.agents.delete_agent(booking_agent.id)\n"
   ]
  },
  {
   "cell_type": "markdown",
   "metadata": {},
   "source": [
    "\n---\n\n**Lahtiütlus**:  \nSee dokument on tõlgitud AI tõlketeenuse [Co-op Translator](https://github.com/Azure/co-op-translator) abil. Kuigi püüame tagada täpsust, palume arvestada, et automaatsed tõlked võivad sisaldada vigu või ebatäpsusi. Algne dokument selle algses keeles tuleks pidada autoriteetseks allikaks. Olulise teabe puhul soovitame kasutada professionaalset inimtõlget. Me ei vastuta selle tõlke kasutamisest tulenevate arusaamatuste või valesti tõlgenduste eest.\n"
   ]
  }
 ],
 "metadata": {
  "kernelspec": {
   "display_name": "3.12.1",
   "language": "python",
   "name": "python3"
  },
  "language_info": {
   "codemirror_mode": {
    "name": "ipython",
    "version": 3
   },
   "file_extension": ".py",
   "mimetype": "text/x-python",
   "name": "python",
   "nbconvert_exporter": "python",
   "pygments_lexer": "ipython3",
   "version": "3.12.1"
  },
  "polyglot_notebook": {
   "kernelInfo": {
    "defaultKernelName": "csharp",
    "items": [
     {
      "aliases": [],
      "name": "csharp"
     }
    ]
   }
  },
  "coopTranslator": {
   "original_hash": "1baa60020a95eda27b7e9ecfda99965b",
   "translation_date": "2025-10-11T11:38:24+00:00",
   "source_file": "08-multi-agent/code_samples/08-python_multi_aiagent_bookinghotel.ipynb",
   "language_code": "et"
  }
 },
 "nbformat": 4,
 "nbformat_minor": 2
}