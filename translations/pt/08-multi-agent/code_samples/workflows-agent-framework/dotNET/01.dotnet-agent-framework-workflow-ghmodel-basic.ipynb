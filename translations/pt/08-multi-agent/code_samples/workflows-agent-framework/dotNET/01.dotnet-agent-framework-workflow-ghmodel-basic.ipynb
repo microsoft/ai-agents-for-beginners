{
 "cells": [
  {
   "cell_type": "markdown",
   "id": "187780ba",
   "metadata": {},
   "source": [
    "# 🔄 Fluxos de Trabalho Básicos com Modelos GitHub (.NET)\n",
    "\n",
    "## 📋 Tutorial de Orquestração de Fluxos de Trabalho\n",
    "\n",
    "Este notebook demonstra como criar fluxos de trabalho sofisticados de **agentes** utilizando o Microsoft Agent Framework para .NET e Modelos GitHub. Vais aprender a criar processos empresariais de múltiplas etapas onde agentes de IA colaboram para realizar tarefas complexas através de padrões estruturados de orquestração.\n",
    "\n",
    "## 🎯 Objetivos de Aprendizagem\n",
    "\n",
    "### 🏗️ **Fundamentos da Arquitetura de Fluxos de Trabalho**\n",
    "- **Workflow Builder**: Projetar e orquestrar processos de IA complexos e de múltiplas etapas\n",
    "- **Coordenação de Agentes**: Coordenar múltiplos agentes especializados dentro dos fluxos de trabalho\n",
    "- **Integração com Modelos GitHub**: Utilizar o serviço de inferência de modelos de IA do GitHub nos fluxos de trabalho\n",
    "- **Design Visual de Fluxos de Trabalho**: Criar e visualizar estruturas de fluxos de trabalho para melhor compreensão\n",
    "\n",
    "### 🔄 **Padrões de Orquestração de Processos**\n",
    "- **Processamento Sequencial**: Encadear múltiplas tarefas de agentes em ordem lógica\n",
    "- **Gestão de Estado**: Manter o contexto e o fluxo de dados entre as etapas do fluxo de trabalho\n",
    "- **Gestão de Erros**: Implementar recuperação robusta de erros e resiliência nos fluxos de trabalho\n",
    "- **Otimização de Desempenho**: Projetar fluxos de trabalho eficientes para operações em escala empresarial\n",
    "\n",
    "### 🏢 **Aplicações Empresariais de Fluxos de Trabalho**\n",
    "- **Automatização de Processos Empresariais**: Automatizar fluxos de trabalho organizacionais complexos\n",
    "- **Pipeline de Produção de Conteúdo**: Fluxos editoriais com etapas de revisão e aprovação\n",
    "- **Automatização de Atendimento ao Cliente**: Resolução de consultas de clientes em múltiplas etapas\n",
    "- **Fluxos de Trabalho de Processamento de Dados**: ETL com transformação impulsionada por IA\n",
    "\n",
    "## ⚙️ Pré-requisitos e Configuração\n",
    "\n",
    "### 📦 **Pacotes NuGet Necessários**\n",
    "\n",
    "Esta demonstração de fluxo de trabalho utiliza vários pacotes-chave do .NET:\n",
    "\n",
    "```xml\n",
    "<!-- Core AI Framework -->\n",
    "<PackageReference Include=\"Microsoft.Extensions.AI\" Version=\"9.9.0\" />\n",
    "\n",
    "<!-- Agent Framework (Local Development) -->\n",
    "<!-- Microsoft.Agents.AI.dll - Core agent abstractions -->\n",
    "<!-- Microsoft.Agents.AI.OpenAI.dll - OpenAI/GitHub Models integration -->\n",
    "\n",
    "<!-- Configuration and Environment -->\n",
    "<PackageReference Include=\"DotNetEnv\" Version=\"3.1.1\" />\n",
    "```\n",
    "\n",
    "### 🔑 **Configuração dos Modelos GitHub**\n",
    "\n",
    "**Configuração do Ambiente (.env file):**\n",
    "```env\n",
    "GITHUB_TOKEN=your_github_personal_access_token\n",
    "GITHUB_ENDPOINT=https://models.inference.ai.azure.com\n",
    "GITHUB_MODEL_ID=gpt-4o-mini\n",
    "```\n",
    "\n",
    "**Acesso aos Modelos GitHub:**\n",
    "1. Inscreve-te nos Modelos GitHub (atualmente em pré-visualização)\n",
    "2. Gera um token de acesso pessoal com permissões para acesso aos modelos\n",
    "3. Configura as variáveis de ambiente conforme mostrado acima\n",
    "\n",
    "### 🏗️ **Visão Geral da Arquitetura de Fluxos de Trabalho**\n",
    "\n",
    "```mermaid\n",
    "graph TD\n",
    "    A[Workflow Builder] --> B[Agent Registry]\n",
    "    B --> C[Workflow Execution Engine]\n",
    "    C --> D[Agent 1: Content Generator]\n",
    "    C --> E[Agent 2: Content Reviewer] \n",
    "    D --> F[Workflow Results]\n",
    "    E --> F\n",
    "    G[GitHub Models API] --> D\n",
    "    G --> E\n",
    "```\n",
    "\n",
    "**Componentes Principais:**\n",
    "- **WorkflowBuilder**: Motor principal de orquestração para projetar fluxos de trabalho\n",
    "- **AIAgent**: Agentes especializados individuais com capacidades específicas\n",
    "- **GitHub Models Client**: Integração com o serviço de inferência de modelos de IA\n",
    "- **Execution Context**: Gere o estado e o fluxo de dados entre as etapas do fluxo de trabalho\n",
    "\n",
    "## 🎨 **Padrões de Design de Fluxos de Trabalho Empresariais**\n",
    "\n",
    "### 📝 **Fluxo de Trabalho de Produção de Conteúdo**\n",
    "```\n",
    "User Request → Content Generation → Quality Review → Final Output\n",
    "```\n",
    "\n",
    "### 🔍 **Pipeline de Processamento de Documentos**\n",
    "```\n",
    "Document Input → Analysis → Extraction → Validation → Structured Output\n",
    "```\n",
    "\n",
    "### 💼 **Fluxo de Trabalho de Inteligência Empresarial**\n",
    "```\n",
    "Data Collection → Processing → Analysis → Report Generation → Distribution\n",
    "```\n",
    "\n",
    "### 🤝 **Automatização de Atendimento ao Cliente**\n",
    "```\n",
    "Customer Inquiry → Classification → Processing → Response Generation → Follow-up\n",
    "```\n",
    "\n",
    "## 🏢 **Benefícios Empresariais**\n",
    "\n",
    "### 🎯 **Fiabilidade e Escalabilidade**\n",
    "- **Execução Determinística**: Resultados consistentes e repetíveis nos fluxos de trabalho\n",
    "- **Recuperação de Erros**: Gestão eficaz de falhas em qualquer etapa do fluxo de trabalho\n",
    "- **Monitorização de Desempenho**: Acompanhar métricas de execução e oportunidades de otimização\n",
    "- **Gestão de Recursos**: Alocação e utilização eficiente de recursos de modelos de IA\n",
    "\n",
    "### 🔒 **Segurança e Conformidade**\n",
    "- **Autenticação Segura**: Autenticação baseada em token GitHub para acesso à API\n",
    "- **Registos de Auditoria**: Registo completo da execução e pontos de decisão dos fluxos de trabalho\n",
    "- **Controlo de Acesso**: Permissões granulares para execução e monitorização de fluxos de trabalho\n",
    "- **Privacidade de Dados**: Gestão segura de informações sensíveis ao longo dos fluxos de trabalho\n",
    "\n",
    "### 📊 **Observabilidade e Gestão**\n",
    "- **Design Visual de Fluxos de Trabalho**: Representação clara dos fluxos de processo e dependências\n",
    "- **Monitorização de Execução**: Acompanhamento em tempo real do progresso e desempenho dos fluxos de trabalho\n",
    "- **Relatórios de Erros**: Análise detalhada de erros e capacidades de depuração\n",
    "- **Análise de Desempenho**: Métricas para otimização e planeamento de capacidade\n",
    "\n",
    "Vamos construir o teu primeiro fluxo de trabalho de IA pronto para empresas! 🚀\n"
   ]
  },
  {
   "cell_type": "code",
   "execution_count": 1,
   "id": "4152a00b",
   "metadata": {
    "language_info": {
     "name": "polyglot-notebook"
    },
    "polyglot_notebook": {
     "kernelName": "csharp"
    }
   },
   "outputs": [
    {
     "data": {
      "text/html": [
       "<div><div></div><div></div><div><strong>Installed Packages</strong><ul><li><span>Microsoft.Extensions.AI, 9.9.1</span></li></ul></div></div>"
      ]
     },
     "metadata": {},
     "output_type": "display_data"
    }
   ],
   "source": [
    "#r \"nuget: Microsoft.Extensions.AI, 9.9.1\""
   ]
  },
  {
   "cell_type": "code",
   "execution_count": 2,
   "id": "b431c4dc",
   "metadata": {
    "language_info": {
     "name": "polyglot-notebook"
    },
    "polyglot_notebook": {
     "kernelName": "csharp"
    }
   },
   "outputs": [
    {
     "data": {
      "text/html": [
       "<div><div></div><div></div><div><strong>Installed Packages</strong><ul><li><span>System.ClientModel, 1.6.1</span></li></ul></div></div>"
      ]
     },
     "metadata": {},
     "output_type": "display_data"
    }
   ],
   "source": [
    "#r \"nuget: System.ClientModel, 1.6.1.0\""
   ]
  },
  {
   "cell_type": "code",
   "execution_count": 3,
   "id": "ba48a4c7",
   "metadata": {
    "language_info": {
     "name": "polyglot-notebook"
    },
    "polyglot_notebook": {
     "kernelName": "csharp"
    }
   },
   "outputs": [
    {
     "data": {
      "text/html": [
       "<div><div></div><div></div><div><strong>Installed Packages</strong><ul><li><span>Azure.Identity, 1.15.0</span></li><li><span>OpenTelemetry.Api, 1.0.1</span></li><li><span>System.Linq.Async, 6.0.3</span></li></ul></div></div>"
      ]
     },
     "metadata": {},
     "output_type": "display_data"
    }
   ],
   "source": [
    "#r \"nuget: Azure.Identity, 1.15.0\"\n",
    "#r \"nuget: System.Linq.Async, 6.0.3\"\n",
    "#r \"nuget: OpenTelemetry.Api, 1.0.0\"\n",
    "#r \"nuget: OpenTelemetry.Api, 1.0.0\""
   ]
  },
  {
   "cell_type": "code",
   "execution_count": 4,
   "metadata": {
    "language_info": {
     "name": "polyglot-notebook"
    },
    "polyglot_notebook": {
     "kernelName": "csharp"
    }
   },
   "outputs": [],
   "source": []
  },
  {
   "cell_type": "code",
   "execution_count": 5,
   "id": "ed55fec8",
   "metadata": {
    "language_info": {
     "name": "polyglot-notebook"
    },
    "polyglot_notebook": {
     "kernelName": "csharp"
    }
   },
   "outputs": [
    {
     "data": {
      "text/html": [
       "<div><div></div><div></div><div><strong>Installed Packages</strong><ul><li><span>Microsoft.Agents.AI.Workflows, 1.0.0-preview.251001.3</span></li></ul></div></div>"
      ]
     },
     "metadata": {},
     "output_type": "display_data"
    }
   ],
   "source": [
    "\n",
    "#r \"nuget: Microsoft.Agents.AI.Workflows, 1.0.0-preview.251001.3\""
   ]
  },
  {
   "cell_type": "code",
   "execution_count": null,
   "id": "afaaa7d4",
   "metadata": {
    "language_info": {
     "name": "polyglot-notebook"
    },
    "polyglot_notebook": {
     "kernelName": "csharp"
    }
   },
   "outputs": [
    {
     "data": {
      "text/html": [
       "<div><div></div><div></div><div><strong>Installed Packages</strong><ul><li><span>Microsoft.Agents.AI.OpenAI, 1.0.0-preview.251001.2</span></li></ul></div></div>"
      ]
     },
     "metadata": {},
     "output_type": "display_data"
    }
   ],
   "source": [
    "\n",
    "#r \"nuget: Microsoft.Agents.AI.OpenAI, 1.0.0-preview.251001.3\""
   ]
  },
  {
   "cell_type": "code",
   "execution_count": 7,
   "id": "a7399950",
   "metadata": {
    "language_info": {
     "name": "polyglot-notebook"
    },
    "polyglot_notebook": {
     "kernelName": "csharp"
    }
   },
   "outputs": [
    {
     "data": {
      "text/html": [
       "<div><div></div><div></div><div><strong>Installed Packages</strong><ul><li><span>DotNetEnv, 3.1.1</span></li></ul></div></div>"
      ]
     },
     "metadata": {},
     "output_type": "display_data"
    }
   ],
   "source": [
    "#r \"nuget: DotNetEnv, 3.1.1\""
   ]
  },
  {
   "cell_type": "code",
   "execution_count": 8,
   "id": "1df9ac4c",
   "metadata": {
    "language_info": {
     "name": "polyglot-notebook"
    },
    "polyglot_notebook": {
     "kernelName": "csharp"
    }
   },
   "outputs": [],
   "source": [
    "// #r \"nuget: Microsoft.Extensions.AI.OpenAI, 9.9.0-preview.1.25458.4\""
   ]
  },
  {
   "cell_type": "code",
   "execution_count": 9,
   "id": "cf6ee6ed",
   "metadata": {
    "language_info": {
     "name": "polyglot-notebook"
    },
    "polyglot_notebook": {
     "kernelName": "csharp"
    }
   },
   "outputs": [],
   "source": [
    "using System;\n",
    "using System.ComponentModel;\n",
    "using System.ClientModel;\n",
    "using OpenAI;\n",
    "using Azure.Identity;\n",
    "using Microsoft.Extensions.AI;\n",
    "using Microsoft.Agents.AI;\n",
    "using Microsoft.Agents.AI.Workflows;"
   ]
  },
  {
   "cell_type": "code",
   "execution_count": 10,
   "id": "b4fc2d1b",
   "metadata": {
    "language_info": {
     "name": "polyglot-notebook"
    },
    "polyglot_notebook": {
     "kernelName": "csharp"
    }
   },
   "outputs": [],
   "source": [
    " using DotNetEnv;"
   ]
  },
  {
   "cell_type": "code",
   "execution_count": 11,
   "id": "0e7f69f7",
   "metadata": {
    "language_info": {
     "name": "polyglot-notebook"
    },
    "polyglot_notebook": {
     "kernelName": "csharp"
    }
   },
   "outputs": [],
   "source": [
    "Env.Load(\"../../../.env\");"
   ]
  },
  {
   "cell_type": "code",
   "execution_count": 12,
   "id": "2b62a30a",
   "metadata": {
    "language_info": {
     "name": "polyglot-notebook"
    },
    "polyglot_notebook": {
     "kernelName": "csharp"
    }
   },
   "outputs": [],
   "source": [
    "\n",
    "var github_endpoint = Environment.GetEnvironmentVariable(\"GITHUB_ENDPOINT\") ?? throw new InvalidOperationException(\"GITHUB_ENDPOINT is not set.\");\n",
    "var github_model_id = Environment.GetEnvironmentVariable(\"GITHUB_MODEL_ID\") ?? \"gpt-4o-mini\";\n",
    "var github_token = Environment.GetEnvironmentVariable(\"GITHUB_TOKEN\") ?? throw new InvalidOperationException(\"GITHUB_TOKEN is not set.\");"
   ]
  },
  {
   "cell_type": "code",
   "execution_count": 13,
   "id": "bb2a8730",
   "metadata": {
    "language_info": {
     "name": "polyglot-notebook"
    },
    "polyglot_notebook": {
     "kernelName": "csharp"
    }
   },
   "outputs": [],
   "source": [
    "var openAIOptions = new OpenAIClientOptions()\n",
    "{\n",
    "    Endpoint = new Uri(github_endpoint)\n",
    "};"
   ]
  },
  {
   "cell_type": "code",
   "execution_count": 14,
   "id": "c08bd38f",
   "metadata": {
    "language_info": {
     "name": "polyglot-notebook"
    },
    "polyglot_notebook": {
     "kernelName": "csharp"
    }
   },
   "outputs": [],
   "source": [
    "var openAIClient = new OpenAIClient(new ApiKeyCredential(github_token), openAIOptions);"
   ]
  },
  {
   "cell_type": "code",
   "execution_count": 15,
   "id": "408e8b23",
   "metadata": {
    "language_info": {
     "name": "polyglot-notebook"
    },
    "polyglot_notebook": {
     "kernelName": "csharp"
    }
   },
   "outputs": [],
   "source": [
    "const string ReviewerAgentName = \"Concierge\";\n",
    "const string ReviewerAgentInstructions = @\"\n",
    "    You are an are hotel concierge who has opinions about providing the most local and authentic experiences for travelers.\n",
    "    The goal is to determine if the front desk travel agent has recommended the best non-touristy experience for a traveler.\n",
    "    If so, state that it is approved.\n",
    "    If not, provide insight on how to refine the recommendation without using a specific example. \";"
   ]
  },
  {
   "cell_type": "code",
   "execution_count": 16,
   "id": "0a1ccf3e",
   "metadata": {
    "language_info": {
     "name": "polyglot-notebook"
    },
    "polyglot_notebook": {
     "kernelName": "csharp"
    }
   },
   "outputs": [],
   "source": [
    "const string FrontDeskAgentName = \"FrontDesk\";\n",
    "const string FrontDeskAgentInstructions = @\"\"\"\n",
    "    You are a Front Desk Travel Agent with ten years of experience and are known for brevity as you deal with many customers.\n",
    "    The goal is to provide the best activities and locations for a traveler to visit.\n",
    "    Only provide a single recommendation per response.\n",
    "    You're laser focused on the goal at hand.\n",
    "    Don't waste time with chit chat.\n",
    "    Consider suggestions when refining an idea.\n",
    "    \"\"\";"
   ]
  },
  {
   "cell_type": "code",
   "execution_count": 17,
   "id": "b9b975c6",
   "metadata": {
    "language_info": {
     "name": "polyglot-notebook"
    },
    "polyglot_notebook": {
     "kernelName": "csharp"
    }
   },
   "outputs": [],
   "source": [
    "AIAgent reviewerAgent = openAIClient.GetChatClient(github_model_id).CreateAIAgent(\n",
    "    name:ReviewerAgentName,instructions:ReviewerAgentInstructions);\n",
    "AIAgent frontDeskAgent  = openAIClient.GetChatClient(github_model_id).CreateAIAgent(\n",
    "    name:FrontDeskAgentName,instructions:FrontDeskAgentInstructions);"
   ]
  },
  {
   "cell_type": "code",
   "execution_count": 18,
   "id": "5edccde0",
   "metadata": {
    "language_info": {
     "name": "polyglot-notebook"
    },
    "polyglot_notebook": {
     "kernelName": "csharp"
    }
   },
   "outputs": [],
   "source": [
    "var workflow = new WorkflowBuilder(frontDeskAgent)\n",
    "            .AddEdge(frontDeskAgent, reviewerAgent)\n",
    "            .Build();"
   ]
  },
  {
   "cell_type": "code",
   "execution_count": 19,
   "id": "1fb93407",
   "metadata": {
    "language_info": {
     "name": "polyglot-notebook"
    },
    "polyglot_notebook": {
     "kernelName": "csharp"
    }
   },
   "outputs": [],
   "source": [
    "ChatMessage userMessage = new ChatMessage(ChatRole.User, [\n",
    "\tnew TextContent(\"I would like to go to Paris.\") \n",
    "]);"
   ]
  },
  {
   "cell_type": "code",
   "execution_count": 20,
   "id": "ec9afabc",
   "metadata": {
    "language_info": {
     "name": "polyglot-notebook"
    },
    "polyglot_notebook": {
     "kernelName": "csharp"
    }
   },
   "outputs": [],
   "source": [
    "StreamingRun run = await InProcessExecution.StreamAsync(workflow, userMessage);"
   ]
  },
  {
   "cell_type": "code",
   "execution_count": 21,
   "id": "6bea90c0",
   "metadata": {
    "language_info": {
     "name": "polyglot-notebook"
    },
    "polyglot_notebook": {
     "kernelName": "csharp"
    }
   },
   "outputs": [
    {
     "name": "stdout",
     "output_type": "stream",
     "text": [
      "Visit the Louvre Museum. It's a must-see for art enthusiasts and history lovers.That recommendation is quite popular and likely to attract many tourists. To refine it for a more local and authentic experience, consider suggesting an alternative that focuses on smaller, lesser-known art venues or galleries. Look for places where local artists exhibit or community spaces that host cultural events. This approach allows travelers to connect with the local art scene more intimately, away from the typical tourist routes.\r\n"
     ]
    }
   ],
   "source": [
    "await run.TrySendMessageAsync(new TurnToken(emitEvents: true));\n",
    "string id=\"\";\n",
    "string messageData=\"\";\n",
    "await foreach (WorkflowEvent evt in run.WatchStreamAsync().ConfigureAwait(false))\n",
    "{\n",
    "    if (evt is AgentRunUpdateEvent executorComplete)\n",
    "    {\n",
    "        if(id==\"\")\n",
    "        {\n",
    "            id=executorComplete.ExecutorId;\n",
    "        }\n",
    "        if(id==executorComplete.ExecutorId)\n",
    "        {\n",
    "            messageData+=executorComplete.Data.ToString();\n",
    "        }\n",
    "        else\n",
    "        {\n",
    "            id=executorComplete.ExecutorId;\n",
    "        }\n",
    "        // Console.WriteLine($\"{executorComplete.ExecutorId}: {executorComplete.Data}\");\n",
    "    }\n",
    "}\n",
    "\n",
    "Console.WriteLine(messageData);"
   ]
  },
  {
   "cell_type": "markdown",
   "metadata": {},
   "source": [
    "\n---\n\n**Aviso**:  \nEste documento foi traduzido utilizando o serviço de tradução por IA [Co-op Translator](https://github.com/Azure/co-op-translator). Embora nos esforcemos pela precisão, é importante notar que traduções automáticas podem conter erros ou imprecisões. O documento original na sua língua nativa deve ser considerado a fonte autoritária. Para informações críticas, recomenda-se uma tradução profissional realizada por humanos. Não nos responsabilizamos por quaisquer mal-entendidos ou interpretações incorretas decorrentes do uso desta tradução.\n"
   ]
  }
 ],
 "metadata": {
  "kernelspec": {
   "display_name": ".NET (C#)",
   "language": "C#",
   "name": ".net-csharp"
  },
  "language_info": {
   "name": "polyglot-notebook"
  },
  "polyglot_notebook": {
   "kernelInfo": {
    "defaultKernelName": "csharp",
    "items": [
     {
      "aliases": [],
      "name": "csharp"
     }
    ]
   }
  },
  "coopTranslator": {
   "original_hash": "0014f87b9c2a0eddf09e8de1bfd31b20",
   "translation_date": "2025-10-01T21:00:16+00:00",
   "source_file": "08-multi-agent/code_samples/workflows-agent-framework/dotNET/01.dotnet-agent-framework-workflow-ghmodel-basic.ipynb",
   "language_code": "pt"
  }
 },
 "nbformat": 4,
 "nbformat_minor": 5
}