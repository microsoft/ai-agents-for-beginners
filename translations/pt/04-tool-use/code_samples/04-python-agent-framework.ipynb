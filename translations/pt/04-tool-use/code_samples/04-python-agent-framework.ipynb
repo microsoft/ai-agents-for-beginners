{
 "cells": [
  {
   "cell_type": "markdown",
   "id": "8744544f",
   "metadata": {},
   "source": [
    "# 🛠️ Utilização Avançada de Ferramentas com Modelos do GitHub (Python)\n",
    "\n",
    "## 📋 Objetivos de Aprendizagem\n",
    "\n",
    "Este notebook demonstra padrões avançados de integração de ferramentas utilizando o Microsoft Agent Framework com Modelos do GitHub. Vais aprender a criar, gerir e orquestrar múltiplas ferramentas para construir capacidades sofisticadas de agentes.\n",
    "\n",
    "**O que vais dominar:**\n",
    "- 🔧 **Arquitetura Multi-Ferramenta**: Construir agentes com várias ferramentas especializadas\n",
    "- 🎯 **Lógica de Seleção de Ferramentas**: Como os agentes escolhem a ferramenta certa para cada tarefa\n",
    "- 📊 **Ferramentas de Processamento de Dados**: Criar ferramentas que lidam com diferentes tipos de dados\n",
    "- 🔗 **Composição de Ferramentas**: Combinar ferramentas para fluxos de trabalho complexos\n",
    "\n",
    "## 🎯 Padrões-Chave de Ferramentas\n",
    "\n",
    "### Princípios de Design de Ferramentas\n",
    "- **Responsabilidade Única**: Cada ferramenta tem um propósito claro e focado\n",
    "- **Segurança de Tipos**: Tipagem forte para execução confiável das ferramentas\n",
    "- **Gestão de Erros**: Padrões de falha e recuperação elegantes\n",
    "- **Composibilidade**: Ferramentas que funcionam bem em conjunto\n",
    "\n",
    "### Funcionalidades Avançadas de Ferramentas\n",
    "- **Consciência de Contexto**: Ferramentas que compreendem o contexto da conversa\n",
    "- **Validação de Dados**: Sanitização de entradas e validação de saídas\n",
    "- **Otimização de Desempenho**: Padrões eficientes de execução de ferramentas\n",
    "- **Extensibilidade**: Adição fácil de novas capacidades às ferramentas\n",
    "\n",
    "## 🔧 Arquitetura Técnica\n",
    "\n",
    "### Componentes Principais\n",
    "- **Microsoft Agent Framework**: Implementação em Python com suporte avançado para ferramentas\n",
    "- **Integração com Modelos do GitHub**: Acesso a modelos de linguagem de alto desempenho\n",
    "- **Sistema de Registo de Ferramentas**: Gestão organizada das capacidades dos agentes\n",
    "- **Padrões de Recuperação de Erros**: Gestão robusta de falhas na execução de ferramentas\n",
    "\n",
    "### Fluxo de Integração de Ferramentas\n",
    "```python\n",
    "User Request → Agent Analysis → Tool Selection → Tool Execution → Response Synthesis\n",
    "```\n",
    "\n",
    "## 🛠️ Categorias de Ferramentas Demonstradas\n",
    "\n",
    "### 1. **Ferramentas de Geração de Dados**\n",
    "- Gerador aleatório de destinos\n",
    "- Provedor de informações meteorológicas  \n",
    "- Calculadora de custos de viagem\n",
    "- Motor de recomendação de atividades\n",
    "\n",
    "### 2. **Ferramentas de Processamento**\n",
    "- Formatação e validação de texto\n",
    "- Utilitários de transformação de dados\n",
    "- Funções de análise de conteúdo\n",
    "- Ferramentas de melhoria de respostas\n",
    "\n",
    "### 3. **Ferramentas de Integração**\n",
    "- Conectores de APIs externas\n",
    "- Operações no sistema de ficheiros\n",
    "- Interfaces de consulta a bases de dados\n",
    "- Utilitários de scraping na web\n",
    "\n",
    "## ⚙️ Pré-requisitos e Configuração\n",
    "\n",
    "**Dependências Necessárias:**\n",
    "```bash\n",
    "\n",
    "pip install agent-framework-core -U\n",
    "```\n",
    "\n",
    "**Configuração do Ambiente (ficheiro .env):**\n",
    "```env\n",
    "GITHUB_TOKEN=your_github_personal_access_token\n",
    "GITHUB_ENDPOINT=https://models.inference.ai.azure.com\n",
    "GITHUB_MODEL_ID=gpt-4o-mini\n",
    "```\n",
    "\n",
    "**APIs Opcionais:**\n",
    "- Chave de API de serviço meteorológico (para ferramentas de clima)\n",
    "- Acesso à API de conversão de moeda\n",
    "- Credenciais de serviço de informações de viagem\n",
    "\n",
    "## 🎨 Padrões de Design\n",
    "\n",
    "### Padrão de Fábrica de Ferramentas\n",
    "- Criação e configuração centralizada de ferramentas\n",
    "- Design consistente da interface das ferramentas\n",
    "- Registo e descoberta fácil de ferramentas\n",
    "\n",
    "### Padrão de Comando\n",
    "- Lógica de execução de ferramentas encapsulada\n",
    "- Funcionalidade de desfazer/refazer para operações complexas\n",
    "- Registo de auditoria para uso de ferramentas\n",
    "\n",
    "### Padrão de Observador\n",
    "- Monitorização da execução de ferramentas\n",
    "- Coleta de métricas de desempenho\n",
    "- Relatórios de erros e alertas\n",
    "\n",
    "## 🚀 Melhores Práticas\n",
    "\n",
    "- **Documentação de Ferramentas**: Descrições claras para compreensão do agente\n",
    "- **Validação de Entradas**: Verificação robusta de parâmetros e sanitização\n",
    "- **Formatação de Saídas**: Respostas consistentes e analisáveis das ferramentas\n",
    "- **Mensagens de Erro**: Informações úteis de erro para depuração\n",
    "- **Desempenho**: Execução otimizada de ferramentas para maior responsividade\n",
    "\n",
    "Pronto para construir agentes com capacidades poderosas de ferramentas? Vamos criar algo incrível! ⚡\n"
   ]
  },
  {
   "cell_type": "code",
   "execution_count": null,
   "id": "59c0feeb",
   "metadata": {},
   "outputs": [],
   "source": [
    "! pip install agent-framework-core -U"
   ]
  },
  {
   "cell_type": "code",
   "execution_count": null,
   "id": "c0df8a52",
   "metadata": {},
   "outputs": [],
   "source": [
    "# � Import core dependencies for Agent Framework and tool integration\n",
    "# This sets up the essential libraries for building intelligent agents with tool capabilities\n",
    "\n",
    "import asyncio\n",
    "import os\n",
    "import json\n",
    "\n",
    "from dotenv import load_dotenv  # For loading environment variables securely\n",
    "from random import randint\n",
    "\n",
    "# These are the core components for building tool-enabled agents\n",
    "from agent_framework import ChatAgent           # Main agent class\n",
    "from agent_framework.openai import OpenAIChatClient  # OpenAI-compatible client"
   ]
  },
  {
   "cell_type": "code",
   "execution_count": null,
   "id": "24c10eb0",
   "metadata": {},
   "outputs": [],
   "source": [
    "load_dotenv()"
   ]
  },
  {
   "cell_type": "code",
   "execution_count": null,
   "id": "151e0314",
   "metadata": {},
   "outputs": [],
   "source": [
    "# 🔑 Environment variables verification\n",
    "# Ensure all required GitHub Models credentials are properly configured\n",
    "print(\"GITHUB_ENDPOINT:\", os.environ.get(\"GITHUB_ENDPOINT\"))\n",
    "print(\"GITHUB_TOKEN:\", \"***\" if os.environ.get(\"GITHUB_TOKEN\") else \"Not set\")\n",
    "print(\"GITHUB_MODEL_ID:\", os.environ.get(\"GITHUB_MODEL_ID\"))"
   ]
  },
  {
   "cell_type": "code",
   "execution_count": null,
   "id": "a6141584",
   "metadata": {},
   "outputs": [],
   "source": [
    "# 🧪 Test GitHub Models connectivity\n",
    "openai_chat_client = OpenAIChatClient(base_url=os.environ.get(\"GITHUB_ENDPOINT\"), api_key=os.environ.get(\"GITHUB_TOKEN\"), model_id=os.environ.get(\"GITHUB_MODEL_ID\"))"
   ]
  },
  {
   "cell_type": "code",
   "execution_count": null,
   "id": "a6507f83",
   "metadata": {},
   "outputs": [],
   "source": [
    "# 🛠️ Define travel planning tools for agent integration\n",
    "# These functions provide specific capabilities that the agent can invoke dynamically\n",
    "\n",
    "def get_random_destination() -> str:\n",
    "    \"\"\"\n",
    "    🎲 Random destination generator tool\n",
    "    Returns a randomly selected travel destination from curated list\n",
    "    Useful when customers need inspiration for their next vacation\n",
    "    \"\"\"\n",
    "    destinations = [\n",
    "        \"Paris, France\",\n",
    "        \"Tokyo, Japan\", \n",
    "        \"New York City, USA\",\n",
    "        \"London, England\",\n",
    "        \"Rome, Italy\",\n",
    "        \"Sydney, Australia\",\n",
    "        \"Dubai, UAE\",\n",
    "        \"Barcelona, Spain\",\n",
    "        \"Bangkok, Thailand\",\n",
    "        \"Amsterdam, Netherlands\",\n",
    "        \"Istanbul, Turkey\",\n",
    "        \"Prague, Czech Republic\",\n",
    "        \"Santorini, Greece\",\n",
    "        \"Reykjavik, Iceland\",\n",
    "        \"Marrakech, Morocco\",\n",
    "        \"Cape Town, South Africa\",\n",
    "        \"Rio de Janeiro, Brazil\",\n",
    "        \"Bali, Indonesia\"\n",
    "    ]\n",
    "    # 🎯 Return random selection from the curated destination list\n",
    "    return destinations[randint(0, len(destinations) - 1)]"
   ]
  },
  {
   "cell_type": "code",
   "execution_count": null,
   "id": "5d4f0568",
   "metadata": {},
   "outputs": [],
   "source": [
    "# 🔗 Initialize GitHub Models chat client for agent communication\n",
    "# Creates the primary interface between the agent and the language model\n",
    "openai_chat_client = OpenAIChatClient(base_url=os.environ.get(\"GITHUB_ENDPOINT\"), api_key=os.environ.get(\"GITHUB_TOKEN\"), model_id=os.environ.get(\"GITHUB_MODEL_ID\"))"
   ]
  },
  {
   "cell_type": "code",
   "execution_count": null,
   "id": "751668c5",
   "metadata": {},
   "outputs": [],
   "source": [
    "# 🤖 Configure travel agent identity and behavioral instructions\n",
    "# Define the agent's personality, capabilities, and operational guidelines\n",
    "\n",
    "AGENT_NAME = \"TravelAgent\"\n",
    "\n",
    "AGENT_INSTRUCTIONS = \"\"\"You are a helpful AI Agent that can help plan vacations for customers at random destinations\n",
    "\"\"\""
   ]
  },
  {
   "cell_type": "code",
   "execution_count": null,
   "id": "be18ac4f",
   "metadata": {},
   "outputs": [],
   "source": [
    "agent = ChatAgent(\n",
    "        name = AGENT_NAME,\n",
    "        chat_client=openai_chat_client,\n",
    "        instructions=AGENT_INSTRUCTIONS,\n",
    "        tools=[get_random_destination]\n",
    ")"
   ]
  },
  {
   "cell_type": "code",
   "execution_count": null,
   "id": "772e9481",
   "metadata": {},
   "outputs": [],
   "source": [
    "thread = agent.get_new_thread()"
   ]
  },
  {
   "cell_type": "code",
   "execution_count": null,
   "id": "a731b547",
   "metadata": {},
   "outputs": [],
   "source": [
    "response1 = await agent.run(\"Plan me a day trip\",thread= thread)"
   ]
  },
  {
   "cell_type": "code",
   "execution_count": null,
   "id": "7d3fe00a",
   "metadata": {},
   "outputs": [],
   "source": [
    "\n",
    "last_message = response1.messages[-1]\n",
    "text_content = last_message.contents[0].text\n",
    "print(\"Travel plan:\")\n",
    "print(text_content)"
   ]
  },
  {
   "cell_type": "markdown",
   "metadata": {},
   "source": [
    "\n---\n\n**Aviso**:  \nEste documento foi traduzido utilizando o serviço de tradução por IA [Co-op Translator](https://github.com/Azure/co-op-translator). Embora nos esforcemos pela precisão, tenha em atenção que traduções automáticas podem conter erros ou imprecisões. O documento original na sua língua nativa deve ser considerado a fonte autoritária. Para informações críticas, recomenda-se uma tradução profissional realizada por humanos. Não nos responsabilizamos por quaisquer mal-entendidos ou interpretações incorretas decorrentes da utilização desta tradução.\n"
   ]
  }
 ],
 "metadata": {
  "kernelspec": {
   "display_name": "agentenv",
   "language": "python",
   "name": "python3"
  },
  "language_info": {
   "codemirror_mode": {
    "name": "ipython",
    "version": 3
   },
   "file_extension": ".py",
   "mimetype": "text/x-python",
   "name": "python",
   "nbconvert_exporter": "python",
   "pygments_lexer": "ipython3",
   "version": "3.12.10"
  },
  "polyglot_notebook": {
   "kernelInfo": {
    "defaultKernelName": "csharp",
    "items": [
     {
      "aliases": [],
      "name": "csharp"
     }
    ]
   }
  },
  "coopTranslator": {
   "original_hash": "42966ddac53cebaf0ac1ce33b2ee7059",
   "translation_date": "2025-10-01T21:04:14+00:00",
   "source_file": "04-tool-use/code_samples/04-python-agent-framework.ipynb",
   "language_code": "pt"
  }
 },
 "nbformat": 4,
 "nbformat_minor": 5
}