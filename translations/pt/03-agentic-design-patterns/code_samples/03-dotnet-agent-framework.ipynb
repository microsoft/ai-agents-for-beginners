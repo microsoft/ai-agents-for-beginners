{
 "cells": [
  {
   "cell_type": "markdown",
   "id": "d6058fa4",
   "metadata": {},
   "source": [
    "# 🎨 Padrões de Design Agentic com Modelos GitHub (.NET)\n",
    "\n",
    "## 📋 Objetivos de Aprendizagem\n",
    "\n",
    "Este notebook demonstra padrões de design de nível empresarial para construir agentes inteligentes utilizando o Microsoft Agent Framework em .NET com integração de Modelos GitHub. Vais aprender padrões profissionais e abordagens arquiteturais que tornam os agentes prontos para produção, fáceis de manter e escaláveis.\n",
    "\n",
    "**Padrões de Design Empresarial:**\n",
    "- 🏭 **Padrão Factory**: Criação padronizada de agentes com injeção de dependências\n",
    "- 🔧 **Padrão Builder**: Configuração e configuração fluente de agentes\n",
    "- 🧵 **Padrões Thread-Safe**: Gestão concorrente de conversas\n",
    "- 📋 **Padrão Repository**: Gestão organizada de ferramentas e capacidades\n",
    "\n",
    "## 🎯 Benefícios Arquiteturais Específicos do .NET\n",
    "\n",
    "### Funcionalidades Empresariais\n",
    "- **Tipagem Forte**: Validação em tempo de compilação e suporte IntelliSense\n",
    "- **Injeção de Dependências**: Integração com container DI incorporado\n",
    "- **Gestão de Configuração**: Padrões IConfiguration e Options\n",
    "- **Async/Await**: Suporte de primeira classe para programação assíncrona\n",
    "\n",
    "### Padrões Prontos para Produção\n",
    "- **Integração de Logging**: Suporte ILogger e logging estruturado\n",
    "- **Verificações de Saúde**: Monitorização e diagnósticos incorporados\n",
    "- **Validação de Configuração**: Tipagem forte com anotações de dados\n",
    "- **Gestão de Erros**: Gestão estruturada de exceções\n",
    "\n",
    "## 🔧 Arquitetura Técnica\n",
    "\n",
    "### Componentes Centrais do .NET\n",
    "- **Microsoft.Extensions.AI**: Abstrações unificadas de serviços de IA\n",
    "- **Microsoft.Agents.AI**: Framework de orquestração de agentes empresariais\n",
    "- **Integração de Modelos GitHub**: Padrões de cliente API de alto desempenho\n",
    "- **Sistema de Configuração**: Integração de appsettings.json e ambiente\n",
    "\n",
    "### Implementação de Padrões de Design\n",
    "```csharp\n",
    "IServiceCollection → Agent Builder → Configuration → Tool Registry → AI Agent\n",
    "```\n",
    "\n",
    "## 🏗️ Padrões Empresariais Demonstrados\n",
    "\n",
    "### 1. **Padrões de Criação**\n",
    "- **Factory de Agentes**: Criação centralizada de agentes com configuração consistente\n",
    "- **Padrão Builder**: API fluente para configuração complexa de agentes\n",
    "- **Padrão Singleton**: Gestão de recursos e configuração partilhada\n",
    "- **Injeção de Dependências**: Acoplamento solto e testabilidade\n",
    "\n",
    "### 2. **Padrões Comportamentais**\n",
    "- **Padrão Strategy**: Estratégias de execução de ferramentas intercambiáveis\n",
    "- **Padrão Command**: Operações encapsuladas de agentes com undo/redo\n",
    "- **Padrão Observer**: Gestão do ciclo de vida de agentes orientada por eventos\n",
    "- **Template Method**: Fluxos de execução de agentes padronizados\n",
    "\n",
    "### 3. **Padrões Estruturais**\n",
    "- **Padrão Adapter**: Camada de integração da API de Modelos GitHub\n",
    "- **Padrão Decorator**: Melhoria das capacidades dos agentes\n",
    "- **Padrão Facade**: Interfaces simplificadas de interação com agentes\n",
    "- **Padrão Proxy**: Carregamento preguiçoso e caching para desempenho\n",
    "\n",
    "## ⚙️ Pré-requisitos e Configuração\n",
    "\n",
    "**Ambiente de Desenvolvimento:**\n",
    "- SDK .NET 9.0 ou superior\n",
    "- Visual Studio 2022 ou VS Code com extensão C#\n",
    "- Acesso à API de Modelos GitHub\n",
    "\n",
    "**Dependências NuGet:**\n",
    "```xml\n",
    "<PackageReference Include=\"Microsoft.Extensions.AI\" Version=\"9.9.0\" />\n",
    "<PackageReference Include=\"Microsoft.Extensions.AI.OpenAI\" Version=\"9.9.0-preview.1.25458.4\" />\n",
    "<PackageReference Include=\"DotNetEnv\" Version=\"3.1.1\" />\n",
    "```\n",
    "\n",
    "**Configuração (ficheiro .env):**\n",
    "```env\n",
    "GITHUB_TOKEN=your_github_personal_access_token\n",
    "GITHUB_ENDPOINT=https://models.inference.ai.azure.com\n",
    "GITHUB_MODEL_ID=gpt-4o-mini\n",
    "```\n",
    "\n",
    "## 📚 Princípios de Design do .NET\n",
    "\n",
    "### Princípios SOLID\n",
    "- **Responsabilidade Única**: Cada componente tem um propósito claro\n",
    "- **Aberto/Fechado**: Extensível sem modificação\n",
    "- **Substituição de Liskov**: Implementações de ferramentas baseadas em interfaces\n",
    "- **Segregação de Interfaces**: Interfaces focadas e coesas\n",
    "- **Inversão de Dependência**: Dependência de abstrações, não de concretizações\n",
    "\n",
    "### Arquitetura Limpa\n",
    "- **Camada de Domínio**: Abstrações principais de agentes e ferramentas\n",
    "- **Camada de Aplicação**: Orquestração de agentes e fluxos de trabalho\n",
    "- **Camada de Infraestrutura**: Integração de Modelos GitHub e serviços externos\n",
    "- **Camada de Apresentação**: Interação com o utilizador e formatação de respostas\n",
    "\n",
    "## 🔒 Considerações Empresariais\n",
    "\n",
    "### Segurança\n",
    "- **Gestão de Credenciais**: Manipulação segura de chaves API com IConfiguration\n",
    "- **Validação de Entrada**: Tipagem forte e validação com anotações de dados\n",
    "- **Sanitização de Saída**: Processamento e filtragem segura de respostas\n",
    "- **Logging de Auditoria**: Rastreio abrangente de operações\n",
    "\n",
    "### Desempenho\n",
    "- **Padrões Assíncronos**: Operações de I/O não bloqueantes\n",
    "- **Pooling de Conexões**: Gestão eficiente de clientes HTTP\n",
    "- **Caching**: Caching de respostas para melhorar o desempenho\n",
    "- **Gestão de Recursos**: Padrões adequados de eliminação e limpeza\n",
    "\n",
    "### Escalabilidade\n",
    "- **Segurança de Threads**: Suporte para execução concorrente de agentes\n",
    "- **Pooling de Recursos**: Utilização eficiente de recursos\n",
    "- **Gestão de Carga**: Limitação de taxa e gestão de pressão\n",
    "- **Monitorização**: Métricas de desempenho e verificações de saúde\n",
    "\n",
    "## 🚀 Implementação em Produção\n",
    "\n",
    "- **Gestão de Configuração**: Configurações específicas do ambiente\n",
    "- **Estratégia de Logging**: Logging estruturado com IDs de correlação\n",
    "- **Gestão de Erros**: Gestão global de exceções com recuperação adequada\n",
    "- **Monitorização**: Insights de aplicação e contadores de desempenho\n",
    "- **Testes**: Testes unitários, testes de integração e padrões de testes de carga\n",
    "\n",
    "Pronto para construir agentes inteligentes de nível empresarial com .NET? Vamos arquitetar algo robusto! 🏢✨\n"
   ]
  },
  {
   "cell_type": "code",
   "execution_count": 1,
   "id": "2770ac5c",
   "metadata": {
    "language_info": {
     "name": "polyglot-notebook"
    },
    "polyglot_notebook": {
     "kernelName": "csharp"
    }
   },
   "outputs": [
    {
     "data": {
      "text/html": [
       "<div><div></div><div></div><div><strong>Installed Packages</strong><ul><li><span>Microsoft.Extensions.AI, 9.9.1</span></li></ul></div></div>"
      ]
     },
     "metadata": {},
     "output_type": "display_data"
    }
   ],
   "source": [
    "#r \"nuget: Microsoft.Extensions.AI, 9.9.1\""
   ]
  },
  {
   "cell_type": "code",
   "execution_count": null,
   "id": "984ff6cd",
   "metadata": {
    "language_info": {
     "name": "polyglot-notebook"
    },
    "polyglot_notebook": {
     "kernelName": "csharp"
    }
   },
   "outputs": [
    {
     "data": {
      "text/html": [
       "<div><div></div><div></div><div><strong>Installed Packages</strong><ul><li><span>Microsoft.Agents.AI.OpenAI, 1.0.0-preview.251001.2</span></li></ul></div></div>"
      ]
     },
     "metadata": {},
     "output_type": "display_data"
    }
   ],
   "source": [
    "#r \"nuget: Microsoft.Agents.AI.OpenAI, 1.0.0-preview.251001.3\""
   ]
  },
  {
   "cell_type": "code",
   "execution_count": null,
   "id": "0ab71360",
   "metadata": {
    "language_info": {
     "name": "polyglot-notebook"
    },
    "polyglot_notebook": {
     "kernelName": "csharp"
    }
   },
   "outputs": [
    {
     "data": {
      "text/html": [
       "<div><div></div><div></div><div><strong>Installed Packages</strong><ul><li><span>microsoft.agents.ai, 1.0.0-preview.251001.2</span></li></ul></div></div>"
      ]
     },
     "metadata": {},
     "output_type": "display_data"
    }
   ],
   "source": [
    "\n",
    "\n",
    "#r \"nuget: Microsoft.Agents.AI, 1.0.0-preview.251001.3\""
   ]
  },
  {
   "cell_type": "code",
   "execution_count": 4,
   "id": "4ab7b15d",
   "metadata": {
    "language_info": {
     "name": "polyglot-notebook"
    },
    "polyglot_notebook": {
     "kernelName": "csharp"
    }
   },
   "outputs": [],
   "source": [
    "// #r \"nuget: Microsoft.Extensions.AI.OpenAI, 9.9.0-preview.1.25458.4\""
   ]
  },
  {
   "cell_type": "code",
   "execution_count": 5,
   "id": "3fa8aa21",
   "metadata": {
    "language_info": {
     "name": "polyglot-notebook"
    },
    "polyglot_notebook": {
     "kernelName": "csharp"
    }
   },
   "outputs": [
    {
     "data": {
      "text/html": [
       "<div><div></div><div></div><div><strong>Installed Packages</strong><ul><li><span>DotNetEnv, 3.1.1</span></li></ul></div></div>"
      ]
     },
     "metadata": {},
     "output_type": "display_data"
    }
   ],
   "source": [
    "#r \"nuget: DotNetEnv, 3.1.1\""
   ]
  },
  {
   "cell_type": "code",
   "execution_count": 6,
   "id": "fc8ee8ea",
   "metadata": {
    "language_info": {
     "name": "polyglot-notebook"
    },
    "polyglot_notebook": {
     "kernelName": "csharp"
    }
   },
   "outputs": [],
   "source": [
    "using System;\n",
    "using System.ComponentModel;\n",
    "using System.ClientModel;\n",
    "\n",
    "using Microsoft.Extensions.AI;\n",
    "using Microsoft.Agents.AI;\n",
    "using OpenAI;"
   ]
  },
  {
   "cell_type": "code",
   "execution_count": 7,
   "id": "699b1c83",
   "metadata": {
    "language_info": {
     "name": "polyglot-notebook"
    },
    "polyglot_notebook": {
     "kernelName": "csharp"
    }
   },
   "outputs": [],
   "source": [
    " using DotNetEnv;"
   ]
  },
  {
   "cell_type": "code",
   "execution_count": 8,
   "id": "daa649a0",
   "metadata": {
    "language_info": {
     "name": "polyglot-notebook"
    },
    "polyglot_notebook": {
     "kernelName": "csharp"
    }
   },
   "outputs": [],
   "source": [
    "Env.Load(\"../../../.env\");"
   ]
  },
  {
   "cell_type": "code",
   "execution_count": 9,
   "id": "29661a90",
   "metadata": {
    "language_info": {
     "name": "polyglot-notebook"
    },
    "polyglot_notebook": {
     "kernelName": "csharp"
    }
   },
   "outputs": [],
   "source": [
    "[Description(\"Provides a random vacation destination.\")]\n",
    "static string GetRandomDestination()\n",
    "{\n",
    "    var destinations = new List<string>\n",
    "    {\n",
    "        \"Paris, France\",\n",
    "        \"Tokyo, Japan\",\n",
    "        \"New York City, USA\",\n",
    "        \"Sydney, Australia\",\n",
    "        \"Rome, Italy\",\n",
    "        \"Barcelona, Spain\",\n",
    "        \"Cape Town, South Africa\",\n",
    "        \"Rio de Janeiro, Brazil\",\n",
    "        \"Bangkok, Thailand\",\n",
    "        \"Vancouver, Canada\"\n",
    "    };\n",
    "\n",
    "    var random = new Random();\n",
    "    int index = random.Next(destinations.Count);\n",
    "    return destinations[index];\n",
    "}"
   ]
  },
  {
   "cell_type": "code",
   "execution_count": 10,
   "id": "d2ed1f8b",
   "metadata": {
    "language_info": {
     "name": "polyglot-notebook"
    },
    "polyglot_notebook": {
     "kernelName": "csharp"
    }
   },
   "outputs": [],
   "source": [
    "var github_endpoint = Environment.GetEnvironmentVariable(\"GITHUB_ENDPOINT\") ?? throw new InvalidOperationException(\"GITHUB_ENDPOINT is not set.\");\n",
    "var github_model_id = Environment.GetEnvironmentVariable(\"GITHUB_MODEL_ID\") ?? \"gpt-4o-mini\";\n",
    "var github_token = Environment.GetEnvironmentVariable(\"GITHUB_TOKEN\") ?? throw new InvalidOperationException(\"GITHUB_TOKEN is not set.\");"
   ]
  },
  {
   "cell_type": "code",
   "execution_count": 11,
   "id": "c36c73e1",
   "metadata": {
    "language_info": {
     "name": "polyglot-notebook"
    },
    "polyglot_notebook": {
     "kernelName": "csharp"
    }
   },
   "outputs": [],
   "source": [
    "var openAIOptions = new OpenAIClientOptions()\n",
    "{\n",
    "    Endpoint= new Uri(github_endpoint)\n",
    "};"
   ]
  },
  {
   "cell_type": "code",
   "execution_count": 12,
   "id": "6d94ff10",
   "metadata": {
    "language_info": {
     "name": "polyglot-notebook"
    },
    "polyglot_notebook": {
     "kernelName": "csharp"
    }
   },
   "outputs": [],
   "source": [
    "\n",
    "var openAIClient = new OpenAIClient(new ApiKeyCredential(github_token), openAIOptions);"
   ]
  },
  {
   "cell_type": "code",
   "execution_count": 13,
   "id": "fe32b57a",
   "metadata": {
    "language_info": {
     "name": "polyglot-notebook"
    },
    "polyglot_notebook": {
     "kernelName": "csharp"
    }
   },
   "outputs": [],
   "source": [
    "AIAgent agent = new OpenAIClient(new ApiKeyCredential(github_token), openAIOptions).GetChatClient(github_model_id).CreateAIAgent(\n",
    "    instructions:\"You are a helpful AI Agent that can help plan vacations for customers at random destinations\", tools: [AIFunctionFactory.Create((Func<string>)GetRandomDestination)]);"
   ]
  },
  {
   "cell_type": "code",
   "execution_count": 14,
   "metadata": {
    "language_info": {
     "name": "polyglot-notebook"
    },
    "polyglot_notebook": {
     "kernelName": "csharp"
    }
   },
   "outputs": [],
   "source": [
    "AgentThread thread = agent.GetNewThread();"
   ]
  },
  {
   "cell_type": "code",
   "execution_count": 15,
   "id": "5e455aff",
   "metadata": {
    "language_info": {
     "name": "polyglot-notebook"
    },
    "polyglot_notebook": {
     "kernelName": "csharp"
    }
   },
   "outputs": [
    {
     "name": "stdout",
     "output_type": "stream",
     "text": [
      "How about a day trip to Vancouver, Canada? Here's a suggested itinerary for your day:\n",
      "\n",
      "### Morning\n",
      "- **Breakfast at a Local Cafe**: Start your day with a delicious breakfast at a cozy café like **Jam Cafe** or **Cafe Medina**.\n",
      "- **Stanley Park**: After breakfast, head to Stanley Park. You can rent a bike and ride along the seawall, enjoying beautiful views of the city and the water.\n",
      "\n",
      "### Afternoon\n",
      "- **Lunch in Gastown**: Make your way to Gastown for lunch. Try a local favorite like **The Flying Pig** or **Noodle Box**.\n",
      "- **Explore Gastown**: After lunch, walk around Gastown to see the iconic Steam Clock and browse the unique shops and boutiques.\n",
      "\n",
      "### Late Afternoon\n",
      "- **Granville Island**: Visit Granville Island, where you can stroll through the public market, sample local foods, and enjoy artisan shops.\n",
      "- **False Creek**: Take a walk along False Creek and enjoy the waterfront views.\n",
      "\n",
      "### Evening\n",
      "- **Dinner at a Waterfront Restaurant**: End your day with dinner at a waterfront restaurant like **The Boathouse** or **Lift Bar Grill View** for great food and a view of the sunset.\n",
      "- **Optional: Sunset Cruise**: If you're up for it, consider taking a sunset cruise for a different perspective of the city.\n",
      "\n",
      "### Tips\n",
      "- Make sure to check the weather beforehand!\n",
      "- Consider public transport or ride-sharing to navigate the city easily.\n",
      "\n",
      "Enjoy your day trip to Vancouver!\r\n"
     ]
    }
   ],
   "source": [
    "Console.WriteLine(await agent.RunAsync(\"Plan me a day trip\",thread));"
   ]
  },
  {
   "cell_type": "code",
   "execution_count": 16,
   "id": "592ae1bb",
   "metadata": {
    "language_info": {
     "name": "polyglot-notebook"
    },
    "polyglot_notebook": {
     "kernelName": "csharp"
    }
   },
   "outputs": [
    {
     "name": "stdout",
     "output_type": "stream",
     "text": [
      "How about a vacation to New York City, USA? Here's a suggested itinerary for your trip:\n",
      "\n",
      "### Day 1: Arrival in New York City\n",
      "- **Check-In**: Arrive and check in to your hotel.\n",
      "- **Central Park**: Take a leisurely stroll through Central Park. Consider renting a bike or taking a carriage ride.\n",
      "- **Evening**: Enjoy dinner at a classic NYC restaurant, such as **Katz's Delicatessen** or **Carbone**.\n",
      "\n",
      "### Day 2: Iconic Landmarks\n",
      "- **Morning**: Breakfast at a local diner.\n",
      "- **Statue of Liberty & Ellis Island**: Take a ferry to visit these iconic landmarks.\n",
      "- **Afternoon**: Explore Wall Street and visit the 9/11 Memorial & Museum.\n",
      "- **Evening**: Dinner in the Financial District followed by a walk across the Brooklyn Bridge at sunset.\n",
      "\n",
      "### Day 3: Culture and Arts\n",
      "- **Morning**: Visit The Metropolitan Museum of Art (The Met) and spend a few hours exploring its vast collection.\n",
      "- **Afternoon**: Head to Times Square for lunch and the buzz of the city.\n",
      "- **Broadway Show**: Catch a Broadway show in the evening. Be sure to book tickets in advance!\n",
      "\n",
      "### Day 4: Explore Neighborhoods\n",
      "- **Morning**: Head to SoHo for brunch and shopping in its chic boutiques.\n",
      "- **Afternoon**: Explore Greenwich Village, known for its bohemian atmosphere and history.\n",
      "- **Evening**: Enjoy dinner in the West Village, perhaps at **Buvette** or **Minetta Tavern**.\n",
      "\n",
      "### Day 5: Departure\n",
      "- **Last-minute Shopping**: Spend your last morning shopping at Fifth Avenue or head to Chelsea Market for food and souvenirs.\n",
      "- **Check-Out**: Depart for your journey home.\n",
      "\n",
      "### Tips\n",
      "- Utilize the subway for efficient travel around the city.\n",
      "- Make reservations for popular restaurants and attractions ahead of time!\n",
      "\n",
      "Enjoy your trip to New York City!\r\n"
     ]
    }
   ],
   "source": [
    "Console.WriteLine(await agent.RunAsync(\"I don't like that destination. Plan me another vacation.\",thread));"
   ]
  },
  {
   "cell_type": "markdown",
   "metadata": {},
   "source": [
    "\n---\n\n**Aviso**:  \nEste documento foi traduzido utilizando o serviço de tradução por IA [Co-op Translator](https://github.com/Azure/co-op-translator). Embora nos esforcemos pela precisão, é importante notar que traduções automáticas podem conter erros ou imprecisões. O documento original na sua língua nativa deve ser considerado a fonte autoritária. Para informações críticas, recomenda-se uma tradução profissional realizada por humanos. Não nos responsabilizamos por quaisquer mal-entendidos ou interpretações incorretas decorrentes da utilização desta tradução.\n"
   ]
  }
 ],
 "metadata": {
  "kernelspec": {
   "display_name": ".NET (C#)",
   "language": "C#",
   "name": ".net-csharp"
  },
  "language_info": {
   "name": "polyglot-notebook"
  },
  "polyglot_notebook": {
   "kernelInfo": {
    "defaultKernelName": "csharp",
    "items": [
     {
      "aliases": [],
      "name": "csharp"
     }
    ]
   }
  },
  "coopTranslator": {
   "original_hash": "070c1d8985b3dc6e6d977f3e891037f1",
   "translation_date": "2025-10-01T21:11:23+00:00",
   "source_file": "03-agentic-design-patterns/code_samples/03-dotnet-agent-framework.ipynb",
   "language_code": "pt"
  }
 },
 "nbformat": 4,
 "nbformat_minor": 5
}