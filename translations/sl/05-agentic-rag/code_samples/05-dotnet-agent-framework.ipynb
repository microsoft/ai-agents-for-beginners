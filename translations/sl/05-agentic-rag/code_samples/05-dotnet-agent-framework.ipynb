{
 "cells": [
  {
   "cell_type": "markdown",
   "id": "44b5899e",
   "metadata": {},
   "source": [
    "# 🔍 Enterprise RAG z Azure AI Foundry (.NET)\n",
    "\n",
    "## 📋 Cilji učenja\n",
    "\n",
    "Ta zvezek prikazuje, kako zgraditi sisteme za pridobivanje informacij z izboljšano generacijo (RAG) na ravni podjetja z uporabo Microsoftovega Agent Frameworka v .NET z Azure AI Foundry. Naučili se boste ustvariti produkcijsko pripravljene agente, ki lahko iščejo po dokumentih in zagotavljajo natančne, kontekstualno zavedne odgovore z varnostjo in skalabilnostjo na ravni podjetja.\n",
    "\n",
    "**Zmožnosti Enterprise RAG, ki jih boste zgradili:**\n",
    "- 📚 **Inteligenca dokumentov**: Napredno procesiranje dokumentov z Azure AI storitvami\n",
    "- 🔍 **Semantično iskanje**: Visoko zmogljivo iskanje vektorjev z funkcijami za podjetja\n",
    "- 🛡️ **Integracija varnosti**: Dostop na podlagi vlog in vzorci zaščite podatkov\n",
    "- 🏢 **Skalabilna arhitektura**: Produkcijsko pripravljeni RAG sistemi z nadzorom\n",
    "\n",
    "## 🎯 Arhitektura Enterprise RAG\n",
    "\n",
    "### Ključne komponente za podjetja\n",
    "- **Azure AI Foundry**: Upravljana AI platforma za podjetja z varnostjo in skladnostjo\n",
    "- **Persistent Agents**: Agenti s shranjevanjem stanja in upravljanjem zgodovine pogovorov\n",
    "- **Upravljanje vektorskih shranjevanj**: Indeksiranje in pridobivanje dokumentov na ravni podjetja\n",
    "- **Integracija identitete**: Avtentikacija Azure AD in nadzor dostopa na podlagi vlog\n",
    "\n",
    "### Prednosti .NET za podjetja\n",
    "- **Tipna varnost**: Validacija operacij RAG in podatkovnih struktur med prevajanjem\n",
    "- **Asinhrona zmogljivost**: Neblokirajoče procesiranje dokumentov in operacije iskanja\n",
    "- **Upravljanje pomnilnika**: Učinkovita uporaba virov za velike zbirke dokumentov\n",
    "- **Vzorce integracije**: Naravna integracija Azure storitev z vbrizgavanjem odvisnosti\n",
    "\n",
    "## 🏗️ Tehnična arhitektura\n",
    "\n",
    "### Enterprise RAG cevovod\n",
    "```csharp\n",
    "Document Upload → Security Validation → Vector Processing → Index Creation\n",
    "                      ↓                    ↓                  ↓\n",
    "User Query → Authentication → Semantic Search → Context Ranking → AI Response\n",
    "```\n",
    "\n",
    "### Ključne .NET komponente\n",
    "- **Azure.AI.Agents.Persistent**: Upravljanje agentov na ravni podjetja z ohranjanjem stanja\n",
    "- **Azure.Identity**: Integrirana avtentikacija za varni dostop do Azure storitev\n",
    "- **Microsoft.Agents.AI.AzureAI**: Implementacija agentnega okvira optimizirana za Azure\n",
    "- **System.Linq.Async**: Visoko zmogljive asinhrone operacije LINQ\n",
    "\n",
    "## 🔧 Funkcije in prednosti za podjetja\n",
    "\n",
    "### Varnost in skladnost\n",
    "- **Integracija Azure AD**: Upravljanje identitete in avtentikacije na ravni podjetja\n",
    "- **Dostop na podlagi vlog**: Natančno določene pravice za dostop do dokumentov in operacij\n",
    "- **Zaščita podatkov**: Šifriranje v mirovanju in med prenosom za občutljive dokumente\n",
    "- **Dnevnik revizij**: Celovito sledenje dejavnostim za zahteve skladnosti\n",
    "\n",
    "### Zmogljivost in skalabilnost\n",
    "- **Upravljanje povezav**: Učinkovito upravljanje povezav do Azure storitev\n",
    "- **Asinhrono procesiranje**: Neblokirajoče operacije za scenarije z visokim pretokom\n",
    "- **Strategije predpomnjenja**: Inteligentno predpomnjenje pogosto dostopnih dokumentov\n",
    "- **Uravnavanje obremenitve**: Porazdeljeno procesiranje za velike implementacije\n",
    "\n",
    "### Upravljanje in nadzor\n",
    "- **Preverjanje zdravja**: Vgrajen nadzor komponent RAG sistema\n",
    "- **Meritve zmogljivosti**: Podrobna analitika kakovosti iskanja in časov odziva\n",
    "- **Upravljanje napak**: Celovito upravljanje izjem z politikami ponovnega poskusa\n",
    "- **Upravljanje konfiguracije**: Nastavitve specifične za okolje z validacijo\n",
    "\n",
    "## ⚙️ Predpogoji in nastavitev\n",
    "\n",
    "**Razvojno okolje:**\n",
    "- .NET 9.0 SDK ali novejši\n",
    "- Visual Studio 2022 ali VS Code z razširitvijo za C#\n",
    "- Azure naročnina z dostopom do AI Foundry\n",
    "\n",
    "**Potrebni NuGet paketi:**\n",
    "```xml\n",
    "<PackageReference Include=\"Microsoft.Extensions.AI\" Version=\"9.9.0\" />\n",
    "<PackageReference Include=\"Azure.AI.Agents.Persistent\" Version=\"1.2.0-beta.5\" />\n",
    "<PackageReference Include=\"Azure.Identity\" Version=\"1.15.0\" />\n",
    "<PackageReference Include=\"System.Linq.Async\" Version=\"6.0.3\" />\n",
    "<PackageReference Include=\"DotNetEnv\" Version=\"3.1.1\" />\n",
    "```\n",
    "\n",
    "**Nastavitev avtentikacije Azure:**\n",
    "```bash\n",
    "# Install Azure CLI and authenticate\n",
    "az login\n",
    "az account set --subscription \"your-subscription-id\"\n",
    "```\n",
    "\n",
    "**Konfiguracija okolja (.env datoteka):**\n",
    "```env\n",
    "# Azure AI Foundry configuration (automatically handled via Azure CLI)\n",
    "# Ensure you're authenticated to the correct Azure subscription\n",
    "```\n",
    "\n",
    "## 📊 Vzorci Enterprise RAG\n",
    "\n",
    "### Vzorci upravljanja dokumentov\n",
    "- **Masovni prenos**: Učinkovito procesiranje velikih zbirk dokumentov\n",
    "- **Postopne posodobitve**: Dodajanje in spreminjanje dokumentov v realnem času\n",
    "- **Upravljanje verzij**: Verzije dokumentov in sledenje spremembam\n",
    "- **Upravljanje metapodatkov**: Bogati atributi dokumentov in taksonomija\n",
    "\n",
    "### Vzorci iskanja in pridobivanja\n",
    "- **Hibridno iskanje**: Kombinacija semantičnega in ključnega iskanja za optimalne rezultate\n",
    "- **Fasetno iskanje**: Večdimenzionalno filtriranje in kategorizacija\n",
    "- **Prilagoditev relevantnosti**: Prilagojeni algoritmi za točkovanje za specifične domene\n",
    "- **Razvrščanje rezultatov**: Napredno razvrščanje z integracijo poslovne logike\n",
    "\n",
    "### Varnostni vzorci\n",
    "- **Varnost na ravni dokumentov**: Natančen nadzor dostopa za vsak dokument\n",
    "- **Razvrščanje podatkov**: Samodejno označevanje občutljivosti in zaščita\n",
    "- **Revizijske sledi**: Celovito beleženje vseh operacij RAG\n",
    "- **Zaščita zasebnosti**: Zaznavanje in odstranjevanje osebnih podatkov (PII)\n",
    "\n",
    "## 🔒 Funkcije varnosti za podjetja\n",
    "\n",
    "### Avtentikacija in avtorizacija\n",
    "```csharp\n",
    "// Azure AD integrated authentication\n",
    "var credential = new AzureCliCredential();\n",
    "var agentsClient = new PersistentAgentsClient(endpoint, credential);\n",
    "\n",
    "// Role-based access validation\n",
    "if (!await ValidateUserPermissions(user, documentId))\n",
    "{\n",
    "    throw new UnauthorizedAccessException(\"Insufficient permissions\");\n",
    "}\n",
    "```\n",
    "\n",
    "### Zaščita podatkov\n",
    "- **Šifriranje**: Šifriranje od konca do konca za dokumente in indekse iskanja\n",
    "- **Nadzor dostopa**: Integracija z Azure AD za pravice uporabnikov in skupin\n",
    "- **Lokacija podatkov**: Geografski nadzor lokacije podatkov za skladnost\n",
    "- **Varnostno kopiranje in obnovitev**: Samodejno varnostno kopiranje in postopki za obnovitev\n",
    "\n",
    "## 📈 Optimizacija zmogljivosti\n",
    "\n",
    "### Vzorci asinhronega procesiranja\n",
    "```csharp\n",
    "// Efficient async document processing\n",
    "await foreach (var document in documentStream.AsAsyncEnumerable())\n",
    "{\n",
    "    await ProcessDocumentAsync(document, cancellationToken);\n",
    "}\n",
    "```\n",
    "\n",
    "### Upravljanje pomnilnika\n",
    "- **Procesiranje pretoka**: Obdelava velikih dokumentov brez težav s pomnilnikom\n",
    "- **Upravljanje virov**: Učinkovita ponovna uporaba dragih virov\n",
    "- **Zbiranje smeti**: Optimizirani vzorci dodeljevanja pomnilnika\n",
    "- **Upravljanje povezav**: Pravilno upravljanje življenjskega cikla povezav do Azure storitev\n",
    "\n",
    "### Strategije predpomnjenja\n",
    "- **Predpomnjenje poizvedb**: Predpomnjenje pogosto izvedenih iskanj\n",
    "- **Predpomnjenje dokumentov**: Predpomnjenje v pomnilniku za pogosto uporabljene dokumente\n",
    "- **Predpomnjenje indeksov**: Optimizirano predpomnjenje vektorskih indeksov\n",
    "- **Predpomnjenje rezultatov**: Inteligentno predpomnjenje generiranih odgovorov\n",
    "\n",
    "## 📊 Uporabni primeri za podjetja\n",
    "\n",
    "### Upravljanje znanja\n",
    "- **Korporativna wiki**: Inteligentno iskanje po bazah znanja podjetja\n",
    "- **Politike in postopki**: Avtomatizirano usmerjanje skladnosti in postopkov\n",
    "- **Učni materiali**: Inteligentna pomoč pri učenju in razvoju\n",
    "- **Raziskovalne baze**: Sistemi za analizo akademskih in raziskovalnih člankov\n",
    "\n",
    "### Podpora strankam\n",
    "- **Baza znanja za podporo**: Avtomatizirani odgovori za storitve za stranke\n",
    "- **Dokumentacija izdelkov**: Inteligentno pridobivanje informacij o izdelkih\n",
    "- **Vodniki za odpravljanje težav**: Kontekstualna pomoč pri reševanju težav\n",
    "- **Sistemi FAQ**: Dinamično generiranje pogostih vprašanj iz zbirk dokumentov\n",
    "\n",
    "### Skladnost z regulativami\n",
    "- **Analiza pravnih dokumentov**: Inteligenca za pogodbe in pravne dokumente\n",
    "- **Nadzor skladnosti**: Avtomatizirano preverjanje skladnosti z regulativami\n",
    "- **Ocena tveganja**: Analiza tveganj na podlagi dokumentov in poročanje\n",
    "- **Podpora pri revizijah**: Inteligentno odkrivanje dokumentov za revizije\n",
    "\n",
    "## 🚀 Produkcijska implementacija\n",
    "\n",
    "### Nadzor in opazovanje\n",
    "- **Application Insights**: Podrobna telemetrija in nadzor zmogljivosti\n",
    "- **Prilagojene meritve**: Sledenje in opozarjanje na poslovno specifične KPI-je\n",
    "- **Porazdeljeno sledenje**: Sledenje zahtevam od začetka do konca med storitvami\n",
    "- **Nadzorne plošče zdravja**: Vizualizacija zdravja sistema in zmogljivosti v realnem času\n",
    "\n",
    "### Skalabilnost in zanesljivost\n",
    "- **Samodejno skaliranje**: Samodejno prilagajanje na podlagi obremenitve in zmogljivosti\n",
    "- **Visoka razpoložljivost**: Implementacija v več regijah z zmogljivostjo za preklop ob okvari\n",
    "- **Testiranje obremenitve**: Validacija zmogljivosti pod obremenitvijo na ravni podjetja\n",
    "- **Obnova po katastrofi**: Samodejni postopki varnostnega kopiranja in obnove\n",
    "\n",
    "Pripravljeni na gradnjo RAG sistemov na ravni podjetja, ki lahko obdelujejo občutljive dokumente v velikem obsegu? Zasnujmo inteligentne sisteme znanja za podjetja! 🏢📖✨\n"
   ]
  },
  {
   "cell_type": "code",
   "execution_count": 1,
   "metadata": {
    "language_info": {
     "name": "polyglot-notebook"
    },
    "polyglot_notebook": {
     "kernelName": "csharp"
    }
   },
   "outputs": [
    {
     "data": {
      "text/html": [
       "<div><div></div><div></div><div><strong>Installed Packages</strong><ul><li><span>Microsoft.Extensions.AI, 9.9.1</span></li></ul></div></div>"
      ]
     },
     "metadata": {},
     "output_type": "display_data"
    }
   ],
   "source": [
    "#r \"nuget: Microsoft.Extensions.AI, 9.9.1\""
   ]
  },
  {
   "cell_type": "code",
   "execution_count": 2,
   "id": "4ec1f0d1",
   "metadata": {
    "language_info": {
     "name": "polyglot-notebook"
    },
    "polyglot_notebook": {
     "kernelName": "csharp"
    }
   },
   "outputs": [
    {
     "data": {
      "text/html": [
       "<div><div></div><div></div><div><strong>Installed Packages</strong><ul><li><span>Azure.AI.Agents.Persistent, 1.2.0-beta.5</span></li><li><span>Azure.Identity, 1.15.0</span></li><li><span>System.Linq.Async, 6.0.3</span></li></ul></div></div>"
      ]
     },
     "metadata": {},
     "output_type": "display_data"
    }
   ],
   "source": [
    "#r \"nuget: Azure.AI.Agents.Persistent, 1.2.0-beta.5\"\n",
    "#r \"nuget: Azure.Identity, 1.15.0\"\n",
    "#r \"nuget: System.Linq.Async, 6.0.3\""
   ]
  },
  {
   "cell_type": "code",
   "execution_count": 3,
   "id": "2363ae07",
   "metadata": {
    "language_info": {
     "name": "polyglot-notebook"
    },
    "polyglot_notebook": {
     "kernelName": "csharp"
    }
   },
   "outputs": [],
   "source": []
  },
  {
   "cell_type": "code",
   "execution_count": null,
   "id": "d10cec9d",
   "metadata": {
    "language_info": {
     "name": "polyglot-notebook"
    },
    "polyglot_notebook": {
     "kernelName": "csharp"
    }
   },
   "outputs": [
    {
     "data": {
      "text/html": [
       "<div><div></div><div></div><div><strong>Installed Packages</strong><ul><li><span>Microsoft.Agents.AI.AzureAI, 1.0.0-preview.251001.2</span></li></ul></div></div>"
      ]
     },
     "metadata": {},
     "output_type": "display_data"
    }
   ],
   "source": [
    "#r \"nuget: Microsoft.Agents.AI.AzureAI, 1.0.0-preview.251001.3\""
   ]
  },
  {
   "cell_type": "code",
   "execution_count": null,
   "id": "78199d1c",
   "metadata": {
    "language_info": {
     "name": "polyglot-notebook"
    },
    "polyglot_notebook": {
     "kernelName": "csharp"
    }
   },
   "outputs": [
    {
     "data": {
      "text/html": [
       "<div><div></div><div></div><div><strong>Installed Packages</strong><ul><li><span>microsoft.agents.ai, 1.0.0-preview.251001.2</span></li></ul></div></div>"
      ]
     },
     "metadata": {},
     "output_type": "display_data"
    }
   ],
   "source": [
    "#r \"nuget: Microsoft.Agents.AI, 1.0.0-preview.251001.3\""
   ]
  },
  {
   "cell_type": "code",
   "execution_count": 6,
   "id": "7de4684a",
   "metadata": {
    "language_info": {
     "name": "polyglot-notebook"
    },
    "polyglot_notebook": {
     "kernelName": "csharp"
    }
   },
   "outputs": [
    {
     "data": {
      "text/html": [
       "<div><div></div><div></div><div><strong>Installed Packages</strong><ul><li><span>DotNetEnv, 3.1.1</span></li></ul></div></div>"
      ]
     },
     "metadata": {},
     "output_type": "display_data"
    }
   ],
   "source": [
    "#r \"nuget: DotNetEnv, 3.1.1\""
   ]
  },
  {
   "cell_type": "code",
   "execution_count": 7,
   "id": "251efd31",
   "metadata": {
    "language_info": {
     "name": "polyglot-notebook"
    },
    "polyglot_notebook": {
     "kernelName": "csharp"
    }
   },
   "outputs": [],
   "source": [
    "using System;\n",
    "using System.Linq;\n",
    "using Azure.AI.Agents.Persistent;\n",
    "using Azure.Identity;\n",
    "using Microsoft.Agents.AI;"
   ]
  },
  {
   "cell_type": "code",
   "execution_count": 8,
   "id": "a2e342f1",
   "metadata": {
    "language_info": {
     "name": "polyglot-notebook"
    },
    "polyglot_notebook": {
     "kernelName": "csharp"
    }
   },
   "outputs": [],
   "source": [
    " using DotNetEnv;"
   ]
  },
  {
   "cell_type": "code",
   "execution_count": 9,
   "id": "a7a01653",
   "metadata": {
    "language_info": {
     "name": "polyglot-notebook"
    },
    "polyglot_notebook": {
     "kernelName": "csharp"
    }
   },
   "outputs": [],
   "source": [
    "Env.Load(\"../../../.env\");"
   ]
  },
  {
   "cell_type": "code",
   "execution_count": 10,
   "id": "a42735d5",
   "metadata": {
    "language_info": {
     "name": "polyglot-notebook"
    },
    "polyglot_notebook": {
     "kernelName": "csharp"
    }
   },
   "outputs": [],
   "source": [
    "var azure_foundry_endpoint = Environment.GetEnvironmentVariable(\"AZURE_AI_PROJECT_ENDPOINT\") ?? throw new InvalidOperationException(\"AZURE_AI_PROJECT_ENDPOINT is not set.\");\n",
    "var azure_foundry_model_id = Environment.GetEnvironmentVariable(\"AZURE_AI_MODEL_DEPLOYMENT_NAME\") ?? \"gpt-4.1-mini\";"
   ]
  },
  {
   "cell_type": "code",
   "execution_count": 11,
   "id": "e29bdb58",
   "metadata": {
    "language_info": {
     "name": "polyglot-notebook"
    },
    "polyglot_notebook": {
     "kernelName": "csharp"
    }
   },
   "outputs": [],
   "source": [
    "string pdfPath = \"./document.md\";"
   ]
  },
  {
   "cell_type": "code",
   "execution_count": 12,
   "id": "7351e12d",
   "metadata": {
    "language_info": {
     "name": "polyglot-notebook"
    },
    "polyglot_notebook": {
     "kernelName": "csharp"
    }
   },
   "outputs": [],
   "source": [
    "using System.IO;\n",
    "\n",
    "async Task<Stream> OpenImageStreamAsync(string path)\n",
    "{\n",
    "\treturn await Task.Run(() => File.OpenRead(path));\n",
    "}\n",
    "\n",
    "var pdfStream = await OpenImageStreamAsync(pdfPath);"
   ]
  },
  {
   "cell_type": "code",
   "execution_count": 13,
   "id": "0b6bf484",
   "metadata": {
    "language_info": {
     "name": "polyglot-notebook"
    },
    "polyglot_notebook": {
     "kernelName": "csharp"
    }
   },
   "outputs": [],
   "source": [
    "var persistentAgentsClient = new PersistentAgentsClient(azure_foundry_endpoint, new AzureCliCredential());"
   ]
  },
  {
   "cell_type": "code",
   "execution_count": 14,
   "id": "81e0dddc",
   "metadata": {
    "language_info": {
     "name": "polyglot-notebook"
    },
    "polyglot_notebook": {
     "kernelName": "csharp"
    }
   },
   "outputs": [],
   "source": [
    "PersistentAgentFileInfo fileInfo = await persistentAgentsClient.Files.UploadFileAsync(pdfStream, PersistentAgentFilePurpose.Agents, \"demo.md\");"
   ]
  },
  {
   "cell_type": "code",
   "execution_count": 15,
   "id": "f0c75d80",
   "metadata": {
    "language_info": {
     "name": "polyglot-notebook"
    },
    "polyglot_notebook": {
     "kernelName": "csharp"
    }
   },
   "outputs": [],
   "source": [
    "PersistentAgentsVectorStore fileStore =\n",
    "            await persistentAgentsClient.VectorStores.CreateVectorStoreAsync(\n",
    "                [fileInfo.Id],\n",
    "                metadata: new Dictionary<string, string>() { { \"agentkey\", bool.TrueString } });"
   ]
  },
  {
   "cell_type": "code",
   "execution_count": 16,
   "id": "c77986c5",
   "metadata": {
    "language_info": {
     "name": "polyglot-notebook"
    },
    "polyglot_notebook": {
     "kernelName": "csharp"
    }
   },
   "outputs": [],
   "source": [
    "PersistentAgent agentModel = await persistentAgentsClient.Administration.CreateAgentAsync(\n",
    "            azure_foundry_model_id,\n",
    "            name: \"DotNetRAGAgent\",\n",
    "            tools: [new FileSearchToolDefinition()],\n",
    "            instructions: \"\"\"\n",
    "                You are an AI assistant designed to answer user questions using only the information retrieved from the provided document(s).\n",
    "\n",
    "                - If a user's question cannot be answered using the retrieved context, **you must clearly respond**: \n",
    "                \"I'm sorry, but the uploaded document does not contain the necessary information to answer that question.\"\n",
    "                - Do not answer from general knowledge or reasoning. Do not make assumptions or generate hypothetical explanations.\n",
    "                - Do not provide definitions, tutorials, or commentary that is not explicitly grounded in the content of the uploaded file(s).\n",
    "                - If a user asks a question like \"What is a Neural Network?\", and this is not discussed in the uploaded document, respond as instructed above.\n",
    "                - For questions that do have relevant content in the document (e.g., Contoso's travel insurance coverage), respond accurately, and cite the document explicitly.\n",
    "\n",
    "                You must behave as if you have no external knowledge beyond what is retrieved from the uploaded document.\n",
    "                \"\"\",\n",
    "            toolResources: new()\n",
    "            {\n",
    "                FileSearch = new()\n",
    "                {\n",
    "                    VectorStoreIds = { fileStore.Id },\n",
    "                }\n",
    "            },\n",
    "            metadata: new Dictionary<string, string>() { { \"agentkey\", bool.TrueString } });"
   ]
  },
  {
   "cell_type": "code",
   "execution_count": 17,
   "id": "282326cf",
   "metadata": {
    "language_info": {
     "name": "polyglot-notebook"
    },
    "polyglot_notebook": {
     "kernelName": "csharp"
    }
   },
   "outputs": [],
   "source": [
    "AIAgent agent = await persistentAgentsClient.GetAIAgentAsync(agentModel.Id);"
   ]
  },
  {
   "cell_type": "code",
   "execution_count": 18,
   "id": "2067d313",
   "metadata": {
    "language_info": {
     "name": "polyglot-notebook"
    },
    "polyglot_notebook": {
     "kernelName": "csharp"
    }
   },
   "outputs": [],
   "source": [
    "AgentThread thread = agent.GetNewThread();"
   ]
  },
  {
   "cell_type": "code",
   "execution_count": 19,
   "id": "454c4230",
   "metadata": {
    "language_info": {
     "name": "polyglot-notebook"
    },
    "polyglot_notebook": {
     "kernelName": "csharp"
    }
   },
   "outputs": [
    {
     "name": "stdout",
     "output_type": "stream",
     "text": [
      "Contoso's travel insurance coverage includes protection for medical emergencies, trip cancellations, and lost baggage. This ensures that travelers are supported in case of health-related issues during their trip, unforeseen cancellations, and the loss of their belongings while traveling【4:0†demo.md】.\r\n"
     ]
    }
   ],
   "source": [
    "Console.WriteLine(await agent.RunAsync(\"Can you explain Contoso's travel insurance coverage?\", thread));"
   ]
  },
  {
   "cell_type": "markdown",
   "metadata": {},
   "source": [
    "\n---\n\n**Omejitev odgovornosti**:  \nTa dokument je bil preveden z uporabo storitve AI za prevajanje [Co-op Translator](https://github.com/Azure/co-op-translator). Čeprav si prizadevamo za natančnost, vas prosimo, da upoštevate, da lahko avtomatizirani prevodi vsebujejo napake ali netočnosti. Izvirni dokument v njegovem maternem jeziku naj se šteje za avtoritativni vir. Za ključne informacije priporočamo profesionalni človeški prevod. Ne prevzemamo odgovornosti za morebitna nesporazumevanja ali napačne razlage, ki izhajajo iz uporabe tega prevoda.\n"
   ]
  }
 ],
 "metadata": {
  "kernelspec": {
   "display_name": ".NET (C#)",
   "language": "C#",
   "name": ".net-csharp"
  },
  "language_info": {
   "name": "polyglot-notebook"
  },
  "polyglot_notebook": {
   "kernelInfo": {
    "defaultKernelName": "csharp",
    "items": [
     {
      "aliases": [],
      "name": "csharp"
     }
    ]
   }
  },
  "coopTranslator": {
   "original_hash": "e4584fa31638009dc6fb665275de8fc2",
   "translation_date": "2025-10-02T06:53:31+00:00",
   "source_file": "05-agentic-rag/code_samples/05-dotnet-agent-framework.ipynb",
   "language_code": "sl"
  }
 },
 "nbformat": 4,
 "nbformat_minor": 5
}