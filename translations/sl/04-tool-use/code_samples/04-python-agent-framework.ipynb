{
 "cells": [
  {
   "cell_type": "markdown",
   "id": "8744544f",
   "metadata": {},
   "source": [
    "# 🛠️ Napredno uporabo orodij z modeli GitHub (Python)\n",
    "\n",
    "## 📋 Cilji učenja\n",
    "\n",
    "Ta zvezek prikazuje napredne vzorce integracije orodij z uporabo Microsoft Agent Frameworka in modelov GitHub. Naučili se boste, kako ustvariti, upravljati in orkestrirati več orodij za gradnjo sofisticiranih zmogljivosti agentov.\n",
    "\n",
    "**Kaj boste obvladali:**\n",
    "- 🔧 **Arhitektura več orodij**: Gradnja agentov z več specializiranimi orodji\n",
    "- 🎯 **Logika izbire orodij**: Kako agenti izberejo pravo orodje za vsako nalogo\n",
    "- 📊 **Orodja za obdelavo podatkov**: Ustvarjanje orodij za obravnavo različnih vrst podatkov\n",
    "- 🔗 **Sestavljanje orodij**: Kombiniranje orodij za kompleksne delovne tokove\n",
    "\n",
    "## 🎯 Ključni vzorci orodij\n",
    "\n",
    "### Načela oblikovanja orodij\n",
    "- **Enotna odgovornost**: Vsako orodje ima jasen, osredotočen namen\n",
    "- **Tipna varnost**: Močno tipiziranje za zanesljivo izvajanje orodij\n",
    "- **Obravnava napak**: Vzorci za elegantno odpoved in obnovitev\n",
    "- **Sestavljivost**: Orodja, ki dobro sodelujejo med seboj\n",
    "\n",
    "### Napredne funkcije orodij\n",
    "- **Zavedanje konteksta**: Orodja, ki razumejo kontekst pogovora\n",
    "- **Validacija podatkov**: Sanitizacija vhodnih podatkov in validacija izhodnih rezultatov\n",
    "- **Optimizacija zmogljivosti**: Učinkoviti vzorci izvajanja orodij\n",
    "- **Razširljivost**: Enostavno dodajanje novih zmogljivosti orodij\n",
    "\n",
    "## 🔧 Tehnična arhitektura\n",
    "\n",
    "### Osnovne komponente\n",
    "- **Microsoft Agent Framework**: Python implementacija z napredno podporo za orodja\n",
    "- **Integracija modelov GitHub**: Dostop do zmogljivih jezikovnih modelov\n",
    "- **Sistem registracije orodij**: Organizirano upravljanje zmogljivosti agentov\n",
    "- **Vzorci za obnovitev napak**: Zanesljivo obravnavanje napak pri izvajanju orodij\n",
    "\n",
    "### Tok integracije orodij\n",
    "```python\n",
    "User Request → Agent Analysis → Tool Selection → Tool Execution → Response Synthesis\n",
    "```\n",
    "\n",
    "## 🛠️ Kategorije prikazanih orodij\n",
    "\n",
    "### 1. **Orodja za generiranje podatkov**\n",
    "- Generator naključnih destinacij\n",
    "- Ponudnik informacij o vremenu  \n",
    "- Kalkulator stroškov potovanja\n",
    "- Motor za priporočanje aktivnosti\n",
    "\n",
    "### 2. **Orodja za obdelavo**\n",
    "- Oblikovanje in validacija besedila\n",
    "- Pripomočki za transformacijo podatkov\n",
    "- Funkcije za analizo vsebine\n",
    "- Orodja za izboljšanje odgovorov\n",
    "\n",
    "### 3. **Orodja za integracijo**\n",
    "- Povezovalniki zunanjih API-jev\n",
    "- Operacije datotečnega sistema\n",
    "- Vmesniki za poizvedbe v podatkovnih bazah\n",
    "- Pripomočki za spletno strganje\n",
    "\n",
    "## ⚙️ Predpogoji in nastavitev\n",
    "\n",
    "**Potrebne odvisnosti:**\n",
    "```bash\n",
    "\n",
    "pip install agent-framework-core -U\n",
    "```\n",
    "\n",
    "**Konfiguracija okolja (.env datoteka):**\n",
    "```env\n",
    "GITHUB_TOKEN=your_github_personal_access_token\n",
    "GITHUB_ENDPOINT=https://models.inference.ai.azure.com\n",
    "GITHUB_MODEL_ID=gpt-4o-mini\n",
    "```\n",
    "\n",
    "**Neobvezni API-ji:**\n",
    "- Ključ API za vremenske storitve (za vremenska orodja)\n",
    "- Dostop do API-ja za pretvorbo valut\n",
    "- Poverilnice za storitve informacij o potovanjih\n",
    "\n",
    "## 🎨 Vzorci oblikovanja\n",
    "\n",
    "### Vzorec tovarne orodij\n",
    "- Centralizirano ustvarjanje in konfiguracija orodij\n",
    "- Dosledna zasnova vmesnika orodij\n",
    "- Enostavna registracija in odkrivanje orodij\n",
    "\n",
    "### Vzorec ukaza\n",
    "- Logika izvajanja orodij v kapsulah\n",
    "- Funkcionalnost razveljavitve/ponovnega izvajanja za kompleksne operacije\n",
    "- Dnevnik uporabe orodij za revizijo\n",
    "\n",
    "### Vzorec opazovalca\n",
    "- Spremljanje izvajanja orodij\n",
    "- Zbiranje metrik zmogljivosti\n",
    "- Poročanje o napakah in opozarjanje\n",
    "\n",
    "## 🚀 Najboljše prakse\n",
    "\n",
    "- **Dokumentacija orodij**: Jasni opisi za razumevanje agentov\n",
    "- **Validacija vhodnih podatkov**: Zanesljivo preverjanje in sanitizacija parametrov\n",
    "- **Oblikovanje izhodov**: Dosledni, razčlenljivi odgovori orodij\n",
    "- **Sporočila o napakah**: Koristne informacije o napakah za odpravljanje težav\n",
    "- **Zmogljivost**: Optimizirano izvajanje orodij za odzivnost\n",
    "\n",
    "Pripravljeni na gradnjo agentov z zmogljivimi zmogljivostmi orodij? Ustvarimo nekaj izjemnega! ⚡\n"
   ]
  },
  {
   "cell_type": "code",
   "execution_count": null,
   "id": "59c0feeb",
   "metadata": {},
   "outputs": [],
   "source": [
    "! pip install agent-framework-core -U"
   ]
  },
  {
   "cell_type": "code",
   "execution_count": null,
   "id": "c0df8a52",
   "metadata": {},
   "outputs": [],
   "source": [
    "# � Import core dependencies for Agent Framework and tool integration\n",
    "# This sets up the essential libraries for building intelligent agents with tool capabilities\n",
    "\n",
    "import asyncio\n",
    "import os\n",
    "import json\n",
    "\n",
    "from dotenv import load_dotenv  # For loading environment variables securely\n",
    "from random import randint\n",
    "\n",
    "# These are the core components for building tool-enabled agents\n",
    "from agent_framework import ChatAgent           # Main agent class\n",
    "from agent_framework.openai import OpenAIChatClient  # OpenAI-compatible client"
   ]
  },
  {
   "cell_type": "code",
   "execution_count": null,
   "id": "24c10eb0",
   "metadata": {},
   "outputs": [],
   "source": [
    "load_dotenv()"
   ]
  },
  {
   "cell_type": "code",
   "execution_count": null,
   "id": "151e0314",
   "metadata": {},
   "outputs": [],
   "source": [
    "# 🔑 Environment variables verification\n",
    "# Ensure all required GitHub Models credentials are properly configured\n",
    "print(\"GITHUB_ENDPOINT:\", os.environ.get(\"GITHUB_ENDPOINT\"))\n",
    "print(\"GITHUB_TOKEN:\", \"***\" if os.environ.get(\"GITHUB_TOKEN\") else \"Not set\")\n",
    "print(\"GITHUB_MODEL_ID:\", os.environ.get(\"GITHUB_MODEL_ID\"))"
   ]
  },
  {
   "cell_type": "code",
   "execution_count": null,
   "id": "a6141584",
   "metadata": {},
   "outputs": [],
   "source": [
    "# 🧪 Test GitHub Models connectivity\n",
    "openai_chat_client = OpenAIChatClient(base_url=os.environ.get(\"GITHUB_ENDPOINT\"), api_key=os.environ.get(\"GITHUB_TOKEN\"), model_id=os.environ.get(\"GITHUB_MODEL_ID\"))"
   ]
  },
  {
   "cell_type": "code",
   "execution_count": null,
   "id": "a6507f83",
   "metadata": {},
   "outputs": [],
   "source": [
    "# 🛠️ Define travel planning tools for agent integration\n",
    "# These functions provide specific capabilities that the agent can invoke dynamically\n",
    "\n",
    "def get_random_destination() -> str:\n",
    "    \"\"\"\n",
    "    🎲 Random destination generator tool\n",
    "    Returns a randomly selected travel destination from curated list\n",
    "    Useful when customers need inspiration for their next vacation\n",
    "    \"\"\"\n",
    "    destinations = [\n",
    "        \"Paris, France\",\n",
    "        \"Tokyo, Japan\", \n",
    "        \"New York City, USA\",\n",
    "        \"London, England\",\n",
    "        \"Rome, Italy\",\n",
    "        \"Sydney, Australia\",\n",
    "        \"Dubai, UAE\",\n",
    "        \"Barcelona, Spain\",\n",
    "        \"Bangkok, Thailand\",\n",
    "        \"Amsterdam, Netherlands\",\n",
    "        \"Istanbul, Turkey\",\n",
    "        \"Prague, Czech Republic\",\n",
    "        \"Santorini, Greece\",\n",
    "        \"Reykjavik, Iceland\",\n",
    "        \"Marrakech, Morocco\",\n",
    "        \"Cape Town, South Africa\",\n",
    "        \"Rio de Janeiro, Brazil\",\n",
    "        \"Bali, Indonesia\"\n",
    "    ]\n",
    "    # 🎯 Return random selection from the curated destination list\n",
    "    return destinations[randint(0, len(destinations) - 1)]"
   ]
  },
  {
   "cell_type": "code",
   "execution_count": null,
   "id": "5d4f0568",
   "metadata": {},
   "outputs": [],
   "source": [
    "# 🔗 Initialize GitHub Models chat client for agent communication\n",
    "# Creates the primary interface between the agent and the language model\n",
    "openai_chat_client = OpenAIChatClient(base_url=os.environ.get(\"GITHUB_ENDPOINT\"), api_key=os.environ.get(\"GITHUB_TOKEN\"), model_id=os.environ.get(\"GITHUB_MODEL_ID\"))"
   ]
  },
  {
   "cell_type": "code",
   "execution_count": null,
   "id": "751668c5",
   "metadata": {},
   "outputs": [],
   "source": [
    "# 🤖 Configure travel agent identity and behavioral instructions\n",
    "# Define the agent's personality, capabilities, and operational guidelines\n",
    "\n",
    "AGENT_NAME = \"TravelAgent\"\n",
    "\n",
    "AGENT_INSTRUCTIONS = \"\"\"You are a helpful AI Agent that can help plan vacations for customers at random destinations\n",
    "\"\"\""
   ]
  },
  {
   "cell_type": "code",
   "execution_count": null,
   "id": "be18ac4f",
   "metadata": {},
   "outputs": [],
   "source": [
    "agent = ChatAgent(\n",
    "        name = AGENT_NAME,\n",
    "        chat_client=openai_chat_client,\n",
    "        instructions=AGENT_INSTRUCTIONS,\n",
    "        tools=[get_random_destination]\n",
    ")"
   ]
  },
  {
   "cell_type": "code",
   "execution_count": null,
   "id": "772e9481",
   "metadata": {},
   "outputs": [],
   "source": [
    "thread = agent.get_new_thread()"
   ]
  },
  {
   "cell_type": "code",
   "execution_count": null,
   "id": "a731b547",
   "metadata": {},
   "outputs": [],
   "source": [
    "response1 = await agent.run(\"Plan me a day trip\",thread= thread)"
   ]
  },
  {
   "cell_type": "code",
   "execution_count": null,
   "id": "7d3fe00a",
   "metadata": {},
   "outputs": [],
   "source": [
    "\n",
    "last_message = response1.messages[-1]\n",
    "text_content = last_message.contents[0].text\n",
    "print(\"Travel plan:\")\n",
    "print(text_content)"
   ]
  },
  {
   "cell_type": "markdown",
   "metadata": {},
   "source": [
    "\n---\n\n**Omejitev odgovornosti**:  \nTa dokument je bil preveden z uporabo storitve AI za prevajanje [Co-op Translator](https://github.com/Azure/co-op-translator). Čeprav si prizadevamo za natančnost, vas prosimo, da upoštevate, da lahko avtomatizirani prevodi vsebujejo napake ali netočnosti. Izvirni dokument v njegovem maternem jeziku je treba obravnavati kot avtoritativni vir. Za ključne informacije priporočamo profesionalni človeški prevod. Ne prevzemamo odgovornosti za morebitna nesporazumevanja ali napačne razlage, ki izhajajo iz uporabe tega prevoda.\n"
   ]
  }
 ],
 "metadata": {
  "kernelspec": {
   "display_name": "agentenv",
   "language": "python",
   "name": "python3"
  },
  "language_info": {
   "codemirror_mode": {
    "name": "ipython",
    "version": 3
   },
   "file_extension": ".py",
   "mimetype": "text/x-python",
   "name": "python",
   "nbconvert_exporter": "python",
   "pygments_lexer": "ipython3",
   "version": "3.12.10"
  },
  "polyglot_notebook": {
   "kernelInfo": {
    "defaultKernelName": "csharp",
    "items": [
     {
      "aliases": [],
      "name": "csharp"
     }
    ]
   }
  },
  "coopTranslator": {
   "original_hash": "42966ddac53cebaf0ac1ce33b2ee7059",
   "translation_date": "2025-10-02T07:05:04+00:00",
   "source_file": "04-tool-use/code_samples/04-python-agent-framework.ipynb",
   "language_code": "sl"
  }
 },
 "nbformat": 4,
 "nbformat_minor": 5
}