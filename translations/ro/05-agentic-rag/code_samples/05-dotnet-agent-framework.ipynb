{
 "cells": [
  {
   "cell_type": "markdown",
   "id": "44b5899e",
   "metadata": {},
   "source": [
    "# 🔍 RAG pentru Enterprise cu Azure AI Foundry (.NET)\n",
    "\n",
    "## 📋 Obiective de Învățare\n",
    "\n",
    "Acest notebook demonstrează cum să construiești sisteme RAG (Retrieval-Augmented Generation) de nivel enterprise folosind Microsoft Agent Framework în .NET cu Azure AI Foundry. Vei învăța să creezi agenți pregătiți pentru producție, capabili să caute în documente și să ofere răspunsuri precise și relevante, cu securitate și scalabilitate la nivel enterprise.\n",
    "\n",
    "**Capabilități RAG pentru Enterprise pe care le vei construi:**\n",
    "- 📚 **Inteligența Documentelor**: Procesare avansată a documentelor cu serviciile Azure AI\n",
    "- 🔍 **Căutare Semantică**: Căutare vectorială performantă cu funcționalități enterprise\n",
    "- 🛡️ **Integrare Securitate**: Acces bazat pe roluri și modele de protecție a datelor\n",
    "- 🏢 **Arhitectură Scalabilă**: Sisteme RAG pregătite pentru producție, cu monitorizare\n",
    "\n",
    "## 🎯 Arhitectura RAG pentru Enterprise\n",
    "\n",
    "### Componentele de Bază ale Enterprise\n",
    "- **Azure AI Foundry**: Platformă AI gestionată pentru enterprise, cu securitate și conformitate\n",
    "- **Agenți Persistenți**: Agenți cu stare, care gestionează istoricul conversațiilor și contextul\n",
    "- **Managementul Magazinului de Vectori**: Indexare și recuperare de documente la nivel enterprise\n",
    "- **Integrare Identitate**: Autentificare Azure AD și control de acces bazat pe roluri\n",
    "\n",
    "### Beneficii .NET pentru Enterprise\n",
    "- **Siguranța Tipurilor**: Validare la compilare pentru operațiuni RAG și structuri de date\n",
    "- **Performanță Async**: Procesare documente și operațiuni de căutare non-blocante\n",
    "- **Managementul Memoriei**: Utilizare eficientă a resurselor pentru colecții mari de documente\n",
    "- **Modele de Integrare**: Integrare nativă cu serviciile Azure prin injecție de dependențe\n",
    "\n",
    "## 🏗️ Arhitectura Tehnică\n",
    "\n",
    "### Fluxul RAG pentru Enterprise\n",
    "```csharp\n",
    "Document Upload → Security Validation → Vector Processing → Index Creation\n",
    "                      ↓                    ↓                  ↓\n",
    "User Query → Authentication → Semantic Search → Context Ranking → AI Response\n",
    "```\n",
    "\n",
    "### Componentele de Bază .NET\n",
    "- **Azure.AI.Agents.Persistent**: Managementul agenților enterprise cu persistența stării\n",
    "- **Azure.Identity**: Autentificare integrată pentru acces securizat la serviciile Azure\n",
    "- **Microsoft.Agents.AI.AzureAI**: Implementare optimizată pentru agenți în Azure\n",
    "- **System.Linq.Async**: Operațiuni LINQ asincrone de înaltă performanță\n",
    "\n",
    "## 🔧 Funcționalități și Beneficii pentru Enterprise\n",
    "\n",
    "### Securitate și Conformitate\n",
    "- **Integrare Azure AD**: Managementul identității și autentificării la nivel enterprise\n",
    "- **Acces Bazat pe Roluri**: Permisiuni detaliate pentru accesul la documente și operațiuni\n",
    "- **Protecția Datelor**: Criptare în repaus și în tranzit pentru documente sensibile\n",
    "- **Jurnalizare Audit**: Urmărirea activităților pentru cerințele de conformitate\n",
    "\n",
    "### Performanță și Scalabilitate\n",
    "- **Pooling Conexiuni**: Management eficient al conexiunilor cu serviciile Azure\n",
    "- **Procesare Async**: Operațiuni non-blocante pentru scenarii de mare volum\n",
    "- **Strategii de Caching**: Caching inteligent pentru documentele accesate frecvent\n",
    "- **Balansare Sarcină**: Procesare distribuită pentru implementări la scară mare\n",
    "\n",
    "### Management și Monitorizare\n",
    "- **Verificări de Sănătate**: Monitorizare integrată pentru componentele sistemului RAG\n",
    "- **Metrice de Performanță**: Analize detaliate ale calității căutării și timpilor de răspuns\n",
    "- **Gestionarea Erorilor**: Management complet al excepțiilor cu politici de retry\n",
    "- **Management Configurații**: Setări specifice mediului cu validare\n",
    "\n",
    "## ⚙️ Cerințe Prealabile și Configurare\n",
    "\n",
    "**Mediu de Dezvoltare:**\n",
    "- SDK .NET 9.0 sau mai recent\n",
    "- Visual Studio 2022 sau VS Code cu extensia C#\n",
    "- Abonament Azure cu acces la AI Foundry\n",
    "\n",
    "**Pachete NuGet Necesare:**\n",
    "```xml\n",
    "<PackageReference Include=\"Microsoft.Extensions.AI\" Version=\"9.9.0\" />\n",
    "<PackageReference Include=\"Azure.AI.Agents.Persistent\" Version=\"1.2.0-beta.5\" />\n",
    "<PackageReference Include=\"Azure.Identity\" Version=\"1.15.0\" />\n",
    "<PackageReference Include=\"System.Linq.Async\" Version=\"6.0.3\" />\n",
    "<PackageReference Include=\"DotNetEnv\" Version=\"3.1.1\" />\n",
    "```\n",
    "\n",
    "**Configurare Autentificare Azure:**\n",
    "```bash\n",
    "# Install Azure CLI and authenticate\n",
    "az login\n",
    "az account set --subscription \"your-subscription-id\"\n",
    "```\n",
    "\n",
    "**Configurare Mediu (.env file):**\n",
    "```env\n",
    "# Azure AI Foundry configuration (automatically handled via Azure CLI)\n",
    "# Ensure you're authenticated to the correct Azure subscription\n",
    "```\n",
    "\n",
    "## 📊 Modele RAG pentru Enterprise\n",
    "\n",
    "### Modele de Management al Documentelor\n",
    "- **Încărcare în Masă**: Procesare eficientă a colecțiilor mari de documente\n",
    "- **Actualizări Incrementale**: Adăugare și modificare de documente în timp real\n",
    "- **Control Versiuni**: Versionare și urmărire a modificărilor documentelor\n",
    "- **Management Metadata**: Atribute bogate și taxonomie pentru documente\n",
    "\n",
    "### Modele de Căutare și Recuperare\n",
    "- **Căutare Hibridă**: Combinarea căutării semantice și pe cuvinte cheie pentru rezultate optime\n",
    "- **Căutare Facetată**: Filtrare și categorisire multidimensională\n",
    "- **Ajustare Relevanță**: Algoritmi personalizați de scor pentru nevoi specifice domeniului\n",
    "- **Clasificare Rezultate**: Clasificare avansată cu integrarea logicii de business\n",
    "\n",
    "### Modele de Securitate\n",
    "- **Securitate la Nivel de Document**: Control detaliat al accesului pentru fiecare document\n",
    "- **Clasificare Date**: Etichetare automată a sensibilității și protecție\n",
    "- **Urme Audit**: Jurnalizare completă a tuturor operațiunilor RAG\n",
    "- **Protecția Confidențialității**: Detectare și redactare PII (informații personale identificabile)\n",
    "\n",
    "## 🔒 Funcționalități de Securitate pentru Enterprise\n",
    "\n",
    "### Autentificare și Autorizare\n",
    "```csharp\n",
    "// Azure AD integrated authentication\n",
    "var credential = new AzureCliCredential();\n",
    "var agentsClient = new PersistentAgentsClient(endpoint, credential);\n",
    "\n",
    "// Role-based access validation\n",
    "if (!await ValidateUserPermissions(user, documentId))\n",
    "{\n",
    "    throw new UnauthorizedAccessException(\"Insufficient permissions\");\n",
    "}\n",
    "```\n",
    "\n",
    "### Protecția Datelor\n",
    "- **Criptare**: Criptare end-to-end pentru documente și indici de căutare\n",
    "- **Control Acces**: Integrare cu Azure AD pentru permisiuni utilizatori și grupuri\n",
    "- **Rezidența Datelor**: Control geografic al locației datelor pentru conformitate\n",
    "- **Backup și Recuperare**: Proceduri automate de backup și recuperare în caz de dezastru\n",
    "\n",
    "## 📈 Optimizare Performanță\n",
    "\n",
    "### Modele de Procesare Async\n",
    "```csharp\n",
    "// Efficient async document processing\n",
    "await foreach (var document in documentStream.AsAsyncEnumerable())\n",
    "{\n",
    "    await ProcessDocumentAsync(document, cancellationToken);\n",
    "}\n",
    "```\n",
    "\n",
    "### Managementul Memoriei\n",
    "- **Procesare Streaming**: Gestionarea documentelor mari fără probleme de memorie\n",
    "- **Pooling Resurse**: Reutilizarea eficientă a resurselor costisitoare\n",
    "- **Colectare Gunoi**: Modele optimizate de alocare memorie\n",
    "- **Management Conexiuni**: Ciclu de viață corect al conexiunilor cu serviciile Azure\n",
    "\n",
    "### Strategii de Caching\n",
    "- **Caching Interogări**: Cache pentru căutările executate frecvent\n",
    "- **Caching Documente**: Cache în memorie pentru documentele accesate frecvent\n",
    "- **Caching Indici**: Optimizare cache pentru indici vectoriali\n",
    "- **Caching Rezultate**: Cache inteligent pentru răspunsurile generate\n",
    "\n",
    "## 📊 Cazuri de Utilizare pentru Enterprise\n",
    "\n",
    "### Managementul Cunoștințelor\n",
    "- **Wiki Corporativ**: Căutare inteligentă în bazele de cunoștințe ale companiei\n",
    "- **Politici și Proceduri**: Ghid automatizat pentru conformitate și proceduri\n",
    "- **Materiale de Training**: Asistență inteligentă pentru învățare și dezvoltare\n",
    "- **Baze de Date de Cercetare**: Sisteme de analiză pentru lucrări academice și de cercetare\n",
    "\n",
    "### Suport pentru Clienți\n",
    "- **Bază de Cunoștințe pentru Suport**: Răspunsuri automatizate pentru serviciul clienți\n",
    "- **Documentație Produs**: Recuperare inteligentă a informațiilor despre produse\n",
    "- **Ghiduri de Depanare**: Asistență contextuală pentru rezolvarea problemelor\n",
    "- **Sisteme FAQ**: Generare dinamică de FAQ din colecțiile de documente\n",
    "\n",
    "### Conformitate Regulatorie\n",
    "- **Analiză Documente Legale**: Inteligență pentru contracte și documente legale\n",
    "- **Monitorizare Conformitate**: Verificare automată a conformității reglementărilor\n",
    "- **Evaluare Riscuri**: Analiză și raportare a riscurilor bazate pe documente\n",
    "- **Suport Audit**: Descoperire inteligentă de documente pentru audituri\n",
    "\n",
    "## 🚀 Implementare în Producție\n",
    "\n",
    "### Monitorizare și Observabilitate\n",
    "- **Application Insights**: Telemetrie detaliată și monitorizare performanță\n",
    "- **Metrice Personalizate**: Urmărirea KPI-urilor specifice business-ului și alerte\n",
    "- **Tracing Distribuit**: Urmărirea cererilor end-to-end între servicii\n",
    "- **Dashboard-uri de Sănătate**: Vizualizare în timp real a sănătății și performanței sistemului\n",
    "\n",
    "### Scalabilitate și Fiabilitate\n",
    "- **Auto-Scaling**: Scalare automată bazată pe sarcină și metrice de performanță\n",
    "- **Disponibilitate Ridicată**: Implementare multi-regională cu capabilități de failover\n",
    "- **Testare Sarcină**: Validare performanță sub condiții de încărcare enterprise\n",
    "- **Recuperare în Caz de Dezastru**: Proceduri automate de backup și recuperare\n",
    "\n",
    "Ești pregătit să construiești sisteme RAG de nivel enterprise care pot gestiona documente sensibile la scară? Hai să arhitectăm sisteme inteligente de cunoștințe pentru enterprise! 🏢📖✨\n"
   ]
  },
  {
   "cell_type": "code",
   "execution_count": 1,
   "metadata": {
    "language_info": {
     "name": "polyglot-notebook"
    },
    "polyglot_notebook": {
     "kernelName": "csharp"
    }
   },
   "outputs": [
    {
     "data": {
      "text/html": [
       "<div><div></div><div></div><div><strong>Installed Packages</strong><ul><li><span>Microsoft.Extensions.AI, 9.9.1</span></li></ul></div></div>"
      ]
     },
     "metadata": {},
     "output_type": "display_data"
    }
   ],
   "source": [
    "#r \"nuget: Microsoft.Extensions.AI, 9.9.1\""
   ]
  },
  {
   "cell_type": "code",
   "execution_count": 2,
   "id": "4ec1f0d1",
   "metadata": {
    "language_info": {
     "name": "polyglot-notebook"
    },
    "polyglot_notebook": {
     "kernelName": "csharp"
    }
   },
   "outputs": [
    {
     "data": {
      "text/html": [
       "<div><div></div><div></div><div><strong>Installed Packages</strong><ul><li><span>Azure.AI.Agents.Persistent, 1.2.0-beta.5</span></li><li><span>Azure.Identity, 1.15.0</span></li><li><span>System.Linq.Async, 6.0.3</span></li></ul></div></div>"
      ]
     },
     "metadata": {},
     "output_type": "display_data"
    }
   ],
   "source": [
    "#r \"nuget: Azure.AI.Agents.Persistent, 1.2.0-beta.5\"\n",
    "#r \"nuget: Azure.Identity, 1.15.0\"\n",
    "#r \"nuget: System.Linq.Async, 6.0.3\""
   ]
  },
  {
   "cell_type": "code",
   "execution_count": 3,
   "id": "2363ae07",
   "metadata": {
    "language_info": {
     "name": "polyglot-notebook"
    },
    "polyglot_notebook": {
     "kernelName": "csharp"
    }
   },
   "outputs": [],
   "source": []
  },
  {
   "cell_type": "code",
   "execution_count": null,
   "id": "d10cec9d",
   "metadata": {
    "language_info": {
     "name": "polyglot-notebook"
    },
    "polyglot_notebook": {
     "kernelName": "csharp"
    }
   },
   "outputs": [
    {
     "data": {
      "text/html": [
       "<div><div></div><div></div><div><strong>Installed Packages</strong><ul><li><span>Microsoft.Agents.AI.AzureAI, 1.0.0-preview.251001.2</span></li></ul></div></div>"
      ]
     },
     "metadata": {},
     "output_type": "display_data"
    }
   ],
   "source": [
    "#r \"nuget: Microsoft.Agents.AI.AzureAI, 1.0.0-preview.251001.3\""
   ]
  },
  {
   "cell_type": "code",
   "execution_count": null,
   "id": "78199d1c",
   "metadata": {
    "language_info": {
     "name": "polyglot-notebook"
    },
    "polyglot_notebook": {
     "kernelName": "csharp"
    }
   },
   "outputs": [
    {
     "data": {
      "text/html": [
       "<div><div></div><div></div><div><strong>Installed Packages</strong><ul><li><span>microsoft.agents.ai, 1.0.0-preview.251001.2</span></li></ul></div></div>"
      ]
     },
     "metadata": {},
     "output_type": "display_data"
    }
   ],
   "source": [
    "#r \"nuget: Microsoft.Agents.AI, 1.0.0-preview.251001.3\""
   ]
  },
  {
   "cell_type": "code",
   "execution_count": 6,
   "id": "7de4684a",
   "metadata": {
    "language_info": {
     "name": "polyglot-notebook"
    },
    "polyglot_notebook": {
     "kernelName": "csharp"
    }
   },
   "outputs": [
    {
     "data": {
      "text/html": [
       "<div><div></div><div></div><div><strong>Installed Packages</strong><ul><li><span>DotNetEnv, 3.1.1</span></li></ul></div></div>"
      ]
     },
     "metadata": {},
     "output_type": "display_data"
    }
   ],
   "source": [
    "#r \"nuget: DotNetEnv, 3.1.1\""
   ]
  },
  {
   "cell_type": "code",
   "execution_count": 7,
   "id": "251efd31",
   "metadata": {
    "language_info": {
     "name": "polyglot-notebook"
    },
    "polyglot_notebook": {
     "kernelName": "csharp"
    }
   },
   "outputs": [],
   "source": [
    "using System;\n",
    "using System.Linq;\n",
    "using Azure.AI.Agents.Persistent;\n",
    "using Azure.Identity;\n",
    "using Microsoft.Agents.AI;"
   ]
  },
  {
   "cell_type": "code",
   "execution_count": 8,
   "id": "a2e342f1",
   "metadata": {
    "language_info": {
     "name": "polyglot-notebook"
    },
    "polyglot_notebook": {
     "kernelName": "csharp"
    }
   },
   "outputs": [],
   "source": [
    " using DotNetEnv;"
   ]
  },
  {
   "cell_type": "code",
   "execution_count": 9,
   "id": "a7a01653",
   "metadata": {
    "language_info": {
     "name": "polyglot-notebook"
    },
    "polyglot_notebook": {
     "kernelName": "csharp"
    }
   },
   "outputs": [],
   "source": [
    "Env.Load(\"../../../.env\");"
   ]
  },
  {
   "cell_type": "code",
   "execution_count": 10,
   "id": "a42735d5",
   "metadata": {
    "language_info": {
     "name": "polyglot-notebook"
    },
    "polyglot_notebook": {
     "kernelName": "csharp"
    }
   },
   "outputs": [],
   "source": [
    "var azure_foundry_endpoint = Environment.GetEnvironmentVariable(\"AZURE_AI_PROJECT_ENDPOINT\") ?? throw new InvalidOperationException(\"AZURE_AI_PROJECT_ENDPOINT is not set.\");\n",
    "var azure_foundry_model_id = Environment.GetEnvironmentVariable(\"AZURE_AI_MODEL_DEPLOYMENT_NAME\") ?? \"gpt-4.1-mini\";"
   ]
  },
  {
   "cell_type": "code",
   "execution_count": 11,
   "id": "e29bdb58",
   "metadata": {
    "language_info": {
     "name": "polyglot-notebook"
    },
    "polyglot_notebook": {
     "kernelName": "csharp"
    }
   },
   "outputs": [],
   "source": [
    "string pdfPath = \"./document.md\";"
   ]
  },
  {
   "cell_type": "code",
   "execution_count": 12,
   "id": "7351e12d",
   "metadata": {
    "language_info": {
     "name": "polyglot-notebook"
    },
    "polyglot_notebook": {
     "kernelName": "csharp"
    }
   },
   "outputs": [],
   "source": [
    "using System.IO;\n",
    "\n",
    "async Task<Stream> OpenImageStreamAsync(string path)\n",
    "{\n",
    "\treturn await Task.Run(() => File.OpenRead(path));\n",
    "}\n",
    "\n",
    "var pdfStream = await OpenImageStreamAsync(pdfPath);"
   ]
  },
  {
   "cell_type": "code",
   "execution_count": 13,
   "id": "0b6bf484",
   "metadata": {
    "language_info": {
     "name": "polyglot-notebook"
    },
    "polyglot_notebook": {
     "kernelName": "csharp"
    }
   },
   "outputs": [],
   "source": [
    "var persistentAgentsClient = new PersistentAgentsClient(azure_foundry_endpoint, new AzureCliCredential());"
   ]
  },
  {
   "cell_type": "code",
   "execution_count": 14,
   "id": "81e0dddc",
   "metadata": {
    "language_info": {
     "name": "polyglot-notebook"
    },
    "polyglot_notebook": {
     "kernelName": "csharp"
    }
   },
   "outputs": [],
   "source": [
    "PersistentAgentFileInfo fileInfo = await persistentAgentsClient.Files.UploadFileAsync(pdfStream, PersistentAgentFilePurpose.Agents, \"demo.md\");"
   ]
  },
  {
   "cell_type": "code",
   "execution_count": 15,
   "id": "f0c75d80",
   "metadata": {
    "language_info": {
     "name": "polyglot-notebook"
    },
    "polyglot_notebook": {
     "kernelName": "csharp"
    }
   },
   "outputs": [],
   "source": [
    "PersistentAgentsVectorStore fileStore =\n",
    "            await persistentAgentsClient.VectorStores.CreateVectorStoreAsync(\n",
    "                [fileInfo.Id],\n",
    "                metadata: new Dictionary<string, string>() { { \"agentkey\", bool.TrueString } });"
   ]
  },
  {
   "cell_type": "code",
   "execution_count": 16,
   "id": "c77986c5",
   "metadata": {
    "language_info": {
     "name": "polyglot-notebook"
    },
    "polyglot_notebook": {
     "kernelName": "csharp"
    }
   },
   "outputs": [],
   "source": [
    "PersistentAgent agentModel = await persistentAgentsClient.Administration.CreateAgentAsync(\n",
    "            azure_foundry_model_id,\n",
    "            name: \"DotNetRAGAgent\",\n",
    "            tools: [new FileSearchToolDefinition()],\n",
    "            instructions: \"\"\"\n",
    "                You are an AI assistant designed to answer user questions using only the information retrieved from the provided document(s).\n",
    "\n",
    "                - If a user's question cannot be answered using the retrieved context, **you must clearly respond**: \n",
    "                \"I'm sorry, but the uploaded document does not contain the necessary information to answer that question.\"\n",
    "                - Do not answer from general knowledge or reasoning. Do not make assumptions or generate hypothetical explanations.\n",
    "                - Do not provide definitions, tutorials, or commentary that is not explicitly grounded in the content of the uploaded file(s).\n",
    "                - If a user asks a question like \"What is a Neural Network?\", and this is not discussed in the uploaded document, respond as instructed above.\n",
    "                - For questions that do have relevant content in the document (e.g., Contoso's travel insurance coverage), respond accurately, and cite the document explicitly.\n",
    "\n",
    "                You must behave as if you have no external knowledge beyond what is retrieved from the uploaded document.\n",
    "                \"\"\",\n",
    "            toolResources: new()\n",
    "            {\n",
    "                FileSearch = new()\n",
    "                {\n",
    "                    VectorStoreIds = { fileStore.Id },\n",
    "                }\n",
    "            },\n",
    "            metadata: new Dictionary<string, string>() { { \"agentkey\", bool.TrueString } });"
   ]
  },
  {
   "cell_type": "code",
   "execution_count": 17,
   "id": "282326cf",
   "metadata": {
    "language_info": {
     "name": "polyglot-notebook"
    },
    "polyglot_notebook": {
     "kernelName": "csharp"
    }
   },
   "outputs": [],
   "source": [
    "AIAgent agent = await persistentAgentsClient.GetAIAgentAsync(agentModel.Id);"
   ]
  },
  {
   "cell_type": "code",
   "execution_count": 18,
   "id": "2067d313",
   "metadata": {
    "language_info": {
     "name": "polyglot-notebook"
    },
    "polyglot_notebook": {
     "kernelName": "csharp"
    }
   },
   "outputs": [],
   "source": [
    "AgentThread thread = agent.GetNewThread();"
   ]
  },
  {
   "cell_type": "code",
   "execution_count": 19,
   "id": "454c4230",
   "metadata": {
    "language_info": {
     "name": "polyglot-notebook"
    },
    "polyglot_notebook": {
     "kernelName": "csharp"
    }
   },
   "outputs": [
    {
     "name": "stdout",
     "output_type": "stream",
     "text": [
      "Contoso's travel insurance coverage includes protection for medical emergencies, trip cancellations, and lost baggage. This ensures that travelers are supported in case of health-related issues during their trip, unforeseen cancellations, and the loss of their belongings while traveling【4:0†demo.md】.\r\n"
     ]
    }
   ],
   "source": [
    "Console.WriteLine(await agent.RunAsync(\"Can you explain Contoso's travel insurance coverage?\", thread));"
   ]
  },
  {
   "cell_type": "markdown",
   "metadata": {},
   "source": [
    "\n---\n\n**Declinare de responsabilitate**:  \nAcest document a fost tradus folosind serviciul de traducere AI [Co-op Translator](https://github.com/Azure/co-op-translator). Deși ne străduim să asigurăm acuratețea, vă rugăm să fiți conștienți că traducerile automate pot conține erori sau inexactități. Documentul original în limba sa natală ar trebui considerat sursa autoritară. Pentru informații critice, se recomandă traducerea profesională realizată de un specialist uman. Nu ne asumăm responsabilitatea pentru eventualele neînțelegeri sau interpretări greșite care pot apărea din utilizarea acestei traduceri.\n"
   ]
  }
 ],
 "metadata": {
  "kernelspec": {
   "display_name": ".NET (C#)",
   "language": "C#",
   "name": ".net-csharp"
  },
  "language_info": {
   "name": "polyglot-notebook"
  },
  "polyglot_notebook": {
   "kernelInfo": {
    "defaultKernelName": "csharp",
    "items": [
     {
      "aliases": [],
      "name": "csharp"
     }
    ]
   }
  },
  "coopTranslator": {
   "original_hash": "e4584fa31638009dc6fb665275de8fc2",
   "translation_date": "2025-10-02T08:15:08+00:00",
   "source_file": "05-agentic-rag/code_samples/05-dotnet-agent-framework.ipynb",
   "language_code": "ro"
  }
 },
 "nbformat": 4,
 "nbformat_minor": 5
}