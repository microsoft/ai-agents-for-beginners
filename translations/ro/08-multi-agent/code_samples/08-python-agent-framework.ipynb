{
 "cells": [
  {
   "cell_type": "markdown",
   "id": "a6e34f84",
   "metadata": {},
   "source": [
    "# 🤝 Sisteme de Flux de Lucru Multi-Agent cu Modele GitHub (Python)\n",
    "\n",
    "## 📋 Obiective de Învățare\n",
    "\n",
    "Acest notebook demonstrează cum să construiești sisteme multi-agent sofisticate utilizând Microsoft Agent Framework cu Modele GitHub. Vei învăța să orchestrezi mai mulți agenți specializați care colaborează pentru a rezolva probleme complexe prin fluxuri de lucru structurate.\n",
    "\n",
    "**Capabilități Multi-Agent pe care le vei dezvolta:**\n",
    "- 👥 **Colaborarea Agenților**: Mai mulți agenți lucrând împreună pentru obiective comune\n",
    "- 🔄 **Orchestrarea Fluxului de Lucru**: Coordonarea structurată a interacțiunilor agenților\n",
    "- 🎭 **Specializarea Rolurilor**: Agenți cu personalități și domenii de expertiză distincte\n",
    "- 📋 **Asigurarea Calității**: Revizuire și rafinare prin colaborarea agenților\n",
    "\n",
    "## 🎯 Concepte de Arhitectură Multi-Agent\n",
    "\n",
    "### Principii de Bază ale Sistemelor Multi-Agent\n",
    "- **Diviziunea Muncii**: Fiecare agent se specializează într-un domeniu specific de expertiză\n",
    "- **Luarea Deciziilor în Colaborare**: Agenții revizuiesc și îmbunătățesc munca celuilalt\n",
    "- **Coordonarea Fluxului de Lucru**: Transferuri și modele de comunicare structurate\n",
    "- **Îmbunătățirea Calității**: Perfecționare iterativă prin analiză din mai multe perspective\n",
    "\n",
    "### Modele de Interacțiune între Agenți\n",
    "- **Procesare Secvențială**: Flux de lucru liniar cu participarea ordonată a agenților\n",
    "- **Revizuire între Egali**: Agenții validează și îmbunătățesc rezultatele celuilalt\n",
    "- **Structură Ierarhică**: Agenți principali care coordonează specialiști subordonați\n",
    "- **Construirea Consensului**: Mai mulți agenți contribuind la deciziile finale\n",
    "\n",
    "## 🏗️ Arhitectura Tehnică\n",
    "\n",
    "### Componentele Sistemului de Flux de Lucru\n",
    "- **Microsoft Agent Framework**: Implementare Python cu suport avansat pentru fluxuri de lucru\n",
    "- **WorkflowBuilder**: Motor de definire și execuție declarativă a fluxurilor de lucru\n",
    "- **Coordonarea Agenților**: Mecanisme structurate de comunicare și transfer\n",
    "- **Procesare Bazată pe Evenimente**: Execuție reactivă a fluxului de lucru bazată pe rezultatele agenților\n",
    "\n",
    "### Fluxul Procesului Multi-Agent\n",
    "```python\n",
    "User Request → Agent 1 (Specialist) → Agent 2 (Reviewer) → Quality Check\n",
    "                ↓                      ↓                    ↓\n",
    "         Initial Solution → Review & Feedback → Refined Output → Final Result\n",
    "```\n",
    "\n",
    "## 🎭 Exemple de Roluri ale Agenților\n",
    "\n",
    "### Sistem Concierge Hotelier\n",
    "Acest notebook demonstrează un sistem de recomandări de călătorie cu roluri specializate:\n",
    "\n",
    "#### 🏨 **Agentul de la Recepție**\n",
    "- **Expertiză**: Recomandări de călătorie și cunoștințe locale\n",
    "- **Personalitate**: Eficient, experimentat, stil de comunicare concis\n",
    "- **Responsabilități**: Generarea sugestiilor inițiale de călătorie și activități\n",
    "\n",
    "#### 🎩 **Agentul Concierge**  \n",
    "- **Expertiză**: Experiențe locale autentice și evaluarea calității\n",
    "- **Personalitate**: Exigent, concentrat pe recomandări non-turistice\n",
    "- **Responsabilități**: Revizuirea și rafinarea sugestiilor de călătorie pentru autenticitate\n",
    "\n",
    "## 🔧 Implementare Tehnică\n",
    "\n",
    "### Arhitectura Fluxului de Lucru\n",
    "- **Definirea Agenților**: Instrucțiuni specializate și configurarea personalității\n",
    "- **Workflow Builder**: Definire declarativă a fluxului de lucru cu gestionarea evenimentelor\n",
    "- **Protocol de Comunicare**: Transfer structurat de mesaje între agenți\n",
    "- **Agregarea Rezultatelor**: Combinarea rezultatelor din perspectivele multiple ale agenților\n",
    "\n",
    "### Coordonare Bazată pe Evenimente\n",
    "- **WorkflowEvent**: Puncte de declanșare pentru activarea agenților și transferuri\n",
    "- **OutputEvent**: Schimb structurat de date între agenți\n",
    "- **Porți de Calitate**: Puncte de validare în procesul fluxului de lucru\n",
    "- **Buclă de Feedback**: Rafinare iterativă prin colaborarea agenților\n",
    "\n",
    "## ⚙️ Cerințe & Configurare\n",
    "\n",
    "\n",
    "**Dependențe Necesare:**\n",
    "```bash\n",
    "\n",
    "\n",
    "pip install agent-framework-core  -U\n",
    "```\n",
    "\n",
    "**Configurarea Mediului (.env file):**\n",
    "```env\n",
    "GITHUB_TOKEN=your_github_personal_access_token\n",
    "GITHUB_ENDPOINT=https://models.inference.ai.azure.com\n",
    "GITHUB_MODEL_ID=gpt-4o-mini\n",
    "```\n",
    "\n",
    "## 🎨 Modele de Design Multi-Agent\n",
    "\n",
    "### 1. **Modelul Producător-Consumator**\n",
    "- Agenți specializați generează conținut pentru revizuirea altora\n",
    "- Puncte clare de transfer și protocoale de schimb de date\n",
    "- Asigurarea calității prin revizuire independentă\n",
    "- Cicluri de rafinare și îmbunătățire iterativă\n",
    "\n",
    "### 2. **Modelul Comitetului**\n",
    "- Mai mulți agenți contribuind cu perspective diferite\n",
    "- Construirea consensului prin discuții structurate\n",
    "- Luarea deciziilor democratice cu opinii ponderate\n",
    "- Mecanisme de rezolvare a conflictelor și de decizie în caz de egalitate\n",
    "\n",
    "### 3. **Modelul Ierarhic**\n",
    "- Agenți principali care coordonează subordonați specialiști  \n",
    "- Structuri clare de autoritate și flux de decizii\n",
    "- Căi de escaladare pentru decizii complexe\n",
    "- Monitorizarea performanței și controlul calității\n",
    "\n",
    "### 4. **Modelul de Conductă**\n",
    "- Procesare secvențială cu etape specializate\n",
    "- Fiecare agent adaugă valoare în domeniul său de expertiză\n",
    "- Eficiență prin procesare paralelă\n",
    "- Gestionarea erorilor și recuperarea la fiecare etapă\n",
    "\n",
    "## 🚀 Funcționalități Avansate Multi-Agent\n",
    "\n",
    "### Orchestrarea Fluxului de Lucru\n",
    "- **Rutare Dinamică**: Selectarea și rutarea agenților bazată pe context\n",
    "- **Procesare Paralelă**: Execuția simultană a agenților pentru eficiență\n",
    "- **Recuperarea Erorilor**: Gestionarea grațioasă a eșecurilor agenților și reluări\n",
    "- **Monitorizarea Performanței**: Urmărirea execuției fluxului de lucru și optimizare\n",
    "\n",
    "### Comunicare între Agenți\n",
    "- **Mesaj Structurat**: Protocoale de comunicare sigure din punct de vedere al tipului\n",
    "- **Păstrarea Contextului**: Menținerea istoricului conversației între agenți\n",
    "- **Transfer de Metadata**: Schimb de informații bogate dincolo de conținutul text\n",
    "- **Difuzarea Evenimentelor**: Modele de publicare-abonare pentru coordonare\n",
    "\n",
    "### Asigurarea Calității\n",
    "- **Revizuire din Perspective Multiple**: Agenți diferiți aducând puncte de vedere unice\n",
    "- **Rafinare Iterativă**: Îmbunătățire progresivă prin colaborare\n",
    "- **Puncte de Validare**: Porți de calitate pe parcursul fluxului de lucru\n",
    "- **Metrice de Performanță**: Măsurarea eficienței colaborării\n",
    "\n",
    "## 📊 Cazuri de Utilizare & Aplicații\n",
    "\n",
    "### Automatizarea Proceselor de Afaceri\n",
    "- Fluxuri de revizuire și aprobare a documentelor\n",
    "- Sisteme de escaladare pentru servicii clienți\n",
    "- Asigurarea calității și verificarea conformității\n",
    "- Crearea și editarea de conținut în mai multe etape\n",
    "\n",
    "### Cercetare & Analiză\n",
    "- Sisteme de revizuire între egali pentru lucrări de cercetare\n",
    "- Analiză financiară multi-analist\n",
    "- Scriere colaborativă de rapoarte și verificarea faptelor\n",
    "- Revizuirea și îmbunătățirea lucrărilor academice\n",
    "\n",
    "### Colaborare Creativă\n",
    "- Crearea de conținut cu editori și recenzori\n",
    "- Brainstorming creativ din perspective multiple\n",
    "- Design iterativ și sisteme de feedback\n",
    "- Povestire colaborativă și construirea de lumi\n",
    "\n",
    "Ești gata să orchestrezi colaborări inteligente multi-agent? Hai să construim sisteme în care agenții lucrează împreună ca o echipă performantă! 🌟🤖\n"
   ]
  },
  {
   "cell_type": "code",
   "execution_count": 1,
   "id": "9b42777d",
   "metadata": {},
   "outputs": [
    {
     "name": "stdout",
     "output_type": "stream",
     "text": [
      "Requirement already satisfied: agent-framework-core in c:\\users\\kinfeylo\\appdata\\local\\miniforge3\\envs\\agentenv\\lib\\site-packages (1.0.0b251001)\n",
      "Requirement already satisfied: openai>=1.99.0 in c:\\users\\kinfeylo\\appdata\\local\\miniforge3\\envs\\agentenv\\lib\\site-packages (from agent-framework-core) (1.106.1)\n",
      "Requirement already satisfied: pydantic<3,>=2 in c:\\users\\kinfeylo\\appdata\\local\\miniforge3\\envs\\agentenv\\lib\\site-packages (from agent-framework-core) (2.11.9)\n",
      "Requirement already satisfied: pydantic-settings<3,>=2 in c:\\users\\kinfeylo\\appdata\\local\\miniforge3\\envs\\agentenv\\lib\\site-packages (from agent-framework-core) (2.10.1)\n",
      "Requirement already satisfied: typing-extensions in c:\\users\\kinfeylo\\appdata\\local\\miniforge3\\envs\\agentenv\\lib\\site-packages (from agent-framework-core) (4.15.0)\n",
      "Requirement already satisfied: opentelemetry-api>=1.24 in c:\\users\\kinfeylo\\appdata\\local\\miniforge3\\envs\\agentenv\\lib\\site-packages (from agent-framework-core) (1.36.0)\n",
      "Requirement already satisfied: opentelemetry-sdk>=1.24 in c:\\users\\kinfeylo\\appdata\\local\\miniforge3\\envs\\agentenv\\lib\\site-packages (from agent-framework-core) (1.36.0)\n",
      "Requirement already satisfied: mcp>=1.13 in c:\\users\\kinfeylo\\appdata\\local\\miniforge3\\envs\\agentenv\\lib\\site-packages (from mcp[ws]>=1.13->agent-framework-core) (1.13.1)\n",
      "Requirement already satisfied: azure-monitor-opentelemetry>=1.7.0 in c:\\users\\kinfeylo\\appdata\\local\\miniforge3\\envs\\agentenv\\lib\\site-packages (from agent-framework-core) (1.8.0)\n",
      "Requirement already satisfied: azure-monitor-opentelemetry-exporter>=1.0.0b41 in c:\\users\\kinfeylo\\appdata\\local\\miniforge3\\envs\\agentenv\\lib\\site-packages (from agent-framework-core) (1.0.0b41)\n",
      "Requirement already satisfied: opentelemetry-exporter-otlp-proto-grpc>=1.36.0 in c:\\users\\kinfeylo\\appdata\\local\\miniforge3\\envs\\agentenv\\lib\\site-packages (from agent-framework-core) (1.36.0)\n",
      "Requirement already satisfied: opentelemetry-semantic-conventions-ai>=0.4.13 in c:\\users\\kinfeylo\\appdata\\local\\miniforge3\\envs\\agentenv\\lib\\site-packages (from agent-framework-core) (0.4.13)\n",
      "Requirement already satisfied: aiofiles>=24.1.0 in c:\\users\\kinfeylo\\appdata\\local\\miniforge3\\envs\\agentenv\\lib\\site-packages (from agent-framework-core) (24.1.0)\n",
      "Requirement already satisfied: azure-identity<2,>=1 in c:\\users\\kinfeylo\\appdata\\local\\miniforge3\\envs\\agentenv\\lib\\site-packages (from agent-framework-core) (1.24.0)\n",
      "Requirement already satisfied: azure-core>=1.31.0 in c:\\users\\kinfeylo\\appdata\\local\\miniforge3\\envs\\agentenv\\lib\\site-packages (from azure-identity<2,>=1->agent-framework-core) (1.35.0)\n",
      "Requirement already satisfied: cryptography>=2.5 in c:\\users\\kinfeylo\\appdata\\local\\miniforge3\\envs\\agentenv\\lib\\site-packages (from azure-identity<2,>=1->agent-framework-core) (45.0.7)\n",
      "Requirement already satisfied: msal>=1.30.0 in c:\\users\\kinfeylo\\appdata\\local\\miniforge3\\envs\\agentenv\\lib\\site-packages (from azure-identity<2,>=1->agent-framework-core) (1.33.0)\n",
      "Requirement already satisfied: msal-extensions>=1.2.0 in c:\\users\\kinfeylo\\appdata\\local\\miniforge3\\envs\\agentenv\\lib\\site-packages (from azure-identity<2,>=1->agent-framework-core) (1.3.1)\n",
      "Requirement already satisfied: annotated-types>=0.6.0 in c:\\users\\kinfeylo\\appdata\\local\\miniforge3\\envs\\agentenv\\lib\\site-packages (from pydantic<3,>=2->agent-framework-core) (0.7.0)\n",
      "Requirement already satisfied: pydantic-core==2.33.2 in c:\\users\\kinfeylo\\appdata\\local\\miniforge3\\envs\\agentenv\\lib\\site-packages (from pydantic<3,>=2->agent-framework-core) (2.33.2)\n",
      "Requirement already satisfied: typing-inspection>=0.4.0 in c:\\users\\kinfeylo\\appdata\\local\\miniforge3\\envs\\agentenv\\lib\\site-packages (from pydantic<3,>=2->agent-framework-core) (0.4.1)\n",
      "Requirement already satisfied: python-dotenv>=0.21.0 in c:\\users\\kinfeylo\\appdata\\local\\miniforge3\\envs\\agentenv\\lib\\site-packages (from pydantic-settings<3,>=2->agent-framework-core) (1.1.1)\n",
      "Requirement already satisfied: requests>=2.21.0 in c:\\users\\kinfeylo\\appdata\\local\\miniforge3\\envs\\agentenv\\lib\\site-packages (from azure-core>=1.31.0->azure-identity<2,>=1->agent-framework-core) (2.32.5)\n",
      "Requirement already satisfied: six>=1.11.0 in c:\\users\\kinfeylo\\appdata\\local\\miniforge3\\envs\\agentenv\\lib\\site-packages (from azure-core>=1.31.0->azure-identity<2,>=1->agent-framework-core) (1.17.0)\n",
      "Requirement already satisfied: azure-core-tracing-opentelemetry~=1.0.0b11 in c:\\users\\kinfeylo\\appdata\\local\\miniforge3\\envs\\agentenv\\lib\\site-packages (from azure-monitor-opentelemetry>=1.7.0->agent-framework-core) (1.0.0b12)\n",
      "Requirement already satisfied: opentelemetry-instrumentation-django~=0.57b0 in c:\\users\\kinfeylo\\appdata\\local\\miniforge3\\envs\\agentenv\\lib\\site-packages (from azure-monitor-opentelemetry>=1.7.0->agent-framework-core) (0.57b0)\n",
      "Requirement already satisfied: opentelemetry-instrumentation-fastapi~=0.57b0 in c:\\users\\kinfeylo\\appdata\\local\\miniforge3\\envs\\agentenv\\lib\\site-packages (from azure-monitor-opentelemetry>=1.7.0->agent-framework-core) (0.57b0)\n",
      "Requirement already satisfied: opentelemetry-instrumentation-flask~=0.57b0 in c:\\users\\kinfeylo\\appdata\\local\\miniforge3\\envs\\agentenv\\lib\\site-packages (from azure-monitor-opentelemetry>=1.7.0->agent-framework-core) (0.57b0)\n",
      "Requirement already satisfied: opentelemetry-instrumentation-psycopg2~=0.57b0 in c:\\users\\kinfeylo\\appdata\\local\\miniforge3\\envs\\agentenv\\lib\\site-packages (from azure-monitor-opentelemetry>=1.7.0->agent-framework-core) (0.57b0)\n",
      "Requirement already satisfied: opentelemetry-instrumentation-requests~=0.57b0 in c:\\users\\kinfeylo\\appdata\\local\\miniforge3\\envs\\agentenv\\lib\\site-packages (from azure-monitor-opentelemetry>=1.7.0->agent-framework-core) (0.57b0)\n",
      "Requirement already satisfied: opentelemetry-instrumentation-urllib~=0.57b0 in c:\\users\\kinfeylo\\appdata\\local\\miniforge3\\envs\\agentenv\\lib\\site-packages (from azure-monitor-opentelemetry>=1.7.0->agent-framework-core) (0.57b0)\n",
      "Requirement already satisfied: opentelemetry-instrumentation-urllib3~=0.57b0 in c:\\users\\kinfeylo\\appdata\\local\\miniforge3\\envs\\agentenv\\lib\\site-packages (from azure-monitor-opentelemetry>=1.7.0->agent-framework-core) (0.57b0)\n",
      "Requirement already satisfied: opentelemetry-resource-detector-azure~=0.1.5 in c:\\users\\kinfeylo\\appdata\\local\\miniforge3\\envs\\agentenv\\lib\\site-packages (from azure-monitor-opentelemetry>=1.7.0->agent-framework-core) (0.1.5)\n",
      "Requirement already satisfied: fixedint==0.1.6 in c:\\users\\kinfeylo\\appdata\\local\\miniforge3\\envs\\agentenv\\lib\\site-packages (from azure-monitor-opentelemetry-exporter>=1.0.0b41->agent-framework-core) (0.1.6)\n",
      "Requirement already satisfied: msrest>=0.6.10 in c:\\users\\kinfeylo\\appdata\\local\\miniforge3\\envs\\agentenv\\lib\\site-packages (from azure-monitor-opentelemetry-exporter>=1.0.0b41->agent-framework-core) (0.7.1)\n",
      "Requirement already satisfied: psutil<8,>=5.9 in c:\\users\\kinfeylo\\appdata\\local\\miniforge3\\envs\\agentenv\\lib\\site-packages (from azure-monitor-opentelemetry-exporter>=1.0.0b41->agent-framework-core) (7.0.0)\n",
      "Requirement already satisfied: importlib-metadata<8.8.0,>=6.0 in c:\\users\\kinfeylo\\appdata\\local\\miniforge3\\envs\\agentenv\\lib\\site-packages (from opentelemetry-api>=1.24->agent-framework-core) (8.7.0)\n",
      "Requirement already satisfied: zipp>=3.20 in c:\\users\\kinfeylo\\appdata\\local\\miniforge3\\envs\\agentenv\\lib\\site-packages (from importlib-metadata<8.8.0,>=6.0->opentelemetry-api>=1.24->agent-framework-core) (3.23.0)\n",
      "Requirement already satisfied: opentelemetry-instrumentation-wsgi==0.57b0 in c:\\users\\kinfeylo\\appdata\\local\\miniforge3\\envs\\agentenv\\lib\\site-packages (from opentelemetry-instrumentation-django~=0.57b0->azure-monitor-opentelemetry>=1.7.0->agent-framework-core) (0.57b0)\n",
      "Requirement already satisfied: opentelemetry-instrumentation==0.57b0 in c:\\users\\kinfeylo\\appdata\\local\\miniforge3\\envs\\agentenv\\lib\\site-packages (from opentelemetry-instrumentation-django~=0.57b0->azure-monitor-opentelemetry>=1.7.0->agent-framework-core) (0.57b0)\n",
      "Requirement already satisfied: opentelemetry-semantic-conventions==0.57b0 in c:\\users\\kinfeylo\\appdata\\local\\miniforge3\\envs\\agentenv\\lib\\site-packages (from opentelemetry-instrumentation-django~=0.57b0->azure-monitor-opentelemetry>=1.7.0->agent-framework-core) (0.57b0)\n",
      "Requirement already satisfied: opentelemetry-util-http==0.57b0 in c:\\users\\kinfeylo\\appdata\\local\\miniforge3\\envs\\agentenv\\lib\\site-packages (from opentelemetry-instrumentation-django~=0.57b0->azure-monitor-opentelemetry>=1.7.0->agent-framework-core) (0.57b0)\n",
      "Requirement already satisfied: packaging>=18.0 in c:\\users\\kinfeylo\\appdata\\local\\miniforge3\\envs\\agentenv\\lib\\site-packages (from opentelemetry-instrumentation==0.57b0->opentelemetry-instrumentation-django~=0.57b0->azure-monitor-opentelemetry>=1.7.0->agent-framework-core) (25.0)\n",
      "Requirement already satisfied: wrapt<2.0.0,>=1.0.0 in c:\\users\\kinfeylo\\appdata\\local\\miniforge3\\envs\\agentenv\\lib\\site-packages (from opentelemetry-instrumentation==0.57b0->opentelemetry-instrumentation-django~=0.57b0->azure-monitor-opentelemetry>=1.7.0->agent-framework-core) (1.17.3)\n",
      "Requirement already satisfied: opentelemetry-instrumentation-asgi==0.57b0 in c:\\users\\kinfeylo\\appdata\\local\\miniforge3\\envs\\agentenv\\lib\\site-packages (from opentelemetry-instrumentation-fastapi~=0.57b0->azure-monitor-opentelemetry>=1.7.0->agent-framework-core) (0.57b0)\n",
      "Requirement already satisfied: asgiref~=3.0 in c:\\users\\kinfeylo\\appdata\\local\\miniforge3\\envs\\agentenv\\lib\\site-packages (from opentelemetry-instrumentation-asgi==0.57b0->opentelemetry-instrumentation-fastapi~=0.57b0->azure-monitor-opentelemetry>=1.7.0->agent-framework-core) (3.9.1)\n",
      "Requirement already satisfied: opentelemetry-instrumentation-dbapi==0.57b0 in c:\\users\\kinfeylo\\appdata\\local\\miniforge3\\envs\\agentenv\\lib\\site-packages (from opentelemetry-instrumentation-psycopg2~=0.57b0->azure-monitor-opentelemetry>=1.7.0->agent-framework-core) (0.57b0)\n",
      "Requirement already satisfied: cffi>=1.14 in c:\\users\\kinfeylo\\appdata\\local\\miniforge3\\envs\\agentenv\\lib\\site-packages (from cryptography>=2.5->azure-identity<2,>=1->agent-framework-core) (1.17.1)\n",
      "Requirement already satisfied: pycparser in c:\\users\\kinfeylo\\appdata\\local\\miniforge3\\envs\\agentenv\\lib\\site-packages (from cffi>=1.14->cryptography>=2.5->azure-identity<2,>=1->agent-framework-core) (2.22)\n",
      "Requirement already satisfied: anyio>=4.5 in c:\\users\\kinfeylo\\appdata\\local\\miniforge3\\envs\\agentenv\\lib\\site-packages (from mcp>=1.13->mcp[ws]>=1.13->agent-framework-core) (4.10.0)\n",
      "Requirement already satisfied: httpx-sse>=0.4 in c:\\users\\kinfeylo\\appdata\\local\\miniforge3\\envs\\agentenv\\lib\\site-packages (from mcp>=1.13->mcp[ws]>=1.13->agent-framework-core) (0.4.1)\n",
      "Requirement already satisfied: httpx>=0.27.1 in c:\\users\\kinfeylo\\appdata\\local\\miniforge3\\envs\\agentenv\\lib\\site-packages (from mcp>=1.13->mcp[ws]>=1.13->agent-framework-core) (0.28.1)\n",
      "Requirement already satisfied: jsonschema>=4.20.0 in c:\\users\\kinfeylo\\appdata\\local\\miniforge3\\envs\\agentenv\\lib\\site-packages (from mcp>=1.13->mcp[ws]>=1.13->agent-framework-core) (4.25.1)\n",
      "Requirement already satisfied: python-multipart>=0.0.9 in c:\\users\\kinfeylo\\appdata\\local\\miniforge3\\envs\\agentenv\\lib\\site-packages (from mcp>=1.13->mcp[ws]>=1.13->agent-framework-core) (0.0.20)\n",
      "Requirement already satisfied: pywin32>=310 in c:\\users\\kinfeylo\\appdata\\local\\miniforge3\\envs\\agentenv\\lib\\site-packages (from mcp>=1.13->mcp[ws]>=1.13->agent-framework-core) (311)\n",
      "Requirement already satisfied: sse-starlette>=1.6.1 in c:\\users\\kinfeylo\\appdata\\local\\miniforge3\\envs\\agentenv\\lib\\site-packages (from mcp>=1.13->mcp[ws]>=1.13->agent-framework-core) (3.0.2)\n",
      "Requirement already satisfied: starlette>=0.27 in c:\\users\\kinfeylo\\appdata\\local\\miniforge3\\envs\\agentenv\\lib\\site-packages (from mcp>=1.13->mcp[ws]>=1.13->agent-framework-core) (0.47.3)\n",
      "Requirement already satisfied: uvicorn>=0.31.1 in c:\\users\\kinfeylo\\appdata\\local\\miniforge3\\envs\\agentenv\\lib\\site-packages (from mcp>=1.13->mcp[ws]>=1.13->agent-framework-core) (0.35.0)\n",
      "Requirement already satisfied: idna>=2.8 in c:\\users\\kinfeylo\\appdata\\local\\miniforge3\\envs\\agentenv\\lib\\site-packages (from anyio>=4.5->mcp>=1.13->mcp[ws]>=1.13->agent-framework-core) (3.10)\n",
      "Requirement already satisfied: sniffio>=1.1 in c:\\users\\kinfeylo\\appdata\\local\\miniforge3\\envs\\agentenv\\lib\\site-packages (from anyio>=4.5->mcp>=1.13->mcp[ws]>=1.13->agent-framework-core) (1.3.1)\n",
      "Requirement already satisfied: certifi in c:\\users\\kinfeylo\\appdata\\local\\miniforge3\\envs\\agentenv\\lib\\site-packages (from httpx>=0.27.1->mcp>=1.13->mcp[ws]>=1.13->agent-framework-core) (2025.8.3)\n",
      "Requirement already satisfied: httpcore==1.* in c:\\users\\kinfeylo\\appdata\\local\\miniforge3\\envs\\agentenv\\lib\\site-packages (from httpx>=0.27.1->mcp>=1.13->mcp[ws]>=1.13->agent-framework-core) (1.0.9)\n",
      "Requirement already satisfied: h11>=0.16 in c:\\users\\kinfeylo\\appdata\\local\\miniforge3\\envs\\agentenv\\lib\\site-packages (from httpcore==1.*->httpx>=0.27.1->mcp>=1.13->mcp[ws]>=1.13->agent-framework-core) (0.16.0)\n",
      "Requirement already satisfied: attrs>=22.2.0 in c:\\users\\kinfeylo\\appdata\\local\\miniforge3\\envs\\agentenv\\lib\\site-packages (from jsonschema>=4.20.0->mcp>=1.13->mcp[ws]>=1.13->agent-framework-core) (25.3.0)\n",
      "Requirement already satisfied: jsonschema-specifications>=2023.03.6 in c:\\users\\kinfeylo\\appdata\\local\\miniforge3\\envs\\agentenv\\lib\\site-packages (from jsonschema>=4.20.0->mcp>=1.13->mcp[ws]>=1.13->agent-framework-core) (2025.4.1)\n",
      "Requirement already satisfied: referencing>=0.28.4 in c:\\users\\kinfeylo\\appdata\\local\\miniforge3\\envs\\agentenv\\lib\\site-packages (from jsonschema>=4.20.0->mcp>=1.13->mcp[ws]>=1.13->agent-framework-core) (0.36.2)\n",
      "Requirement already satisfied: rpds-py>=0.7.1 in c:\\users\\kinfeylo\\appdata\\local\\miniforge3\\envs\\agentenv\\lib\\site-packages (from jsonschema>=4.20.0->mcp>=1.13->mcp[ws]>=1.13->agent-framework-core) (0.27.1)\n",
      "Requirement already satisfied: websockets>=15.0.1 in c:\\users\\kinfeylo\\appdata\\local\\miniforge3\\envs\\agentenv\\lib\\site-packages (from mcp[ws]>=1.13->agent-framework-core) (15.0.1)\n",
      "Requirement already satisfied: PyJWT<3,>=1.0.0 in c:\\users\\kinfeylo\\appdata\\local\\miniforge3\\envs\\agentenv\\lib\\site-packages (from PyJWT[crypto]<3,>=1.0.0->msal>=1.30.0->azure-identity<2,>=1->agent-framework-core) (2.10.1)\n",
      "Requirement already satisfied: charset_normalizer<4,>=2 in c:\\users\\kinfeylo\\appdata\\local\\miniforge3\\envs\\agentenv\\lib\\site-packages (from requests>=2.21.0->azure-core>=1.31.0->azure-identity<2,>=1->agent-framework-core) (3.4.3)\n",
      "Requirement already satisfied: urllib3<3,>=1.21.1 in c:\\users\\kinfeylo\\appdata\\local\\miniforge3\\envs\\agentenv\\lib\\site-packages (from requests>=2.21.0->azure-core>=1.31.0->azure-identity<2,>=1->agent-framework-core) (2.5.0)\n",
      "Requirement already satisfied: isodate>=0.6.0 in c:\\users\\kinfeylo\\appdata\\local\\miniforge3\\envs\\agentenv\\lib\\site-packages (from msrest>=0.6.10->azure-monitor-opentelemetry-exporter>=1.0.0b41->agent-framework-core) (0.7.2)\n",
      "Requirement already satisfied: requests-oauthlib>=0.5.0 in c:\\users\\kinfeylo\\appdata\\local\\miniforge3\\envs\\agentenv\\lib\\site-packages (from msrest>=0.6.10->azure-monitor-opentelemetry-exporter>=1.0.0b41->agent-framework-core) (2.0.0)\n",
      "Requirement already satisfied: distro<2,>=1.7.0 in c:\\users\\kinfeylo\\appdata\\local\\miniforge3\\envs\\agentenv\\lib\\site-packages (from openai>=1.99.0->agent-framework-core) (1.9.0)\n",
      "Requirement already satisfied: jiter<1,>=0.4.0 in c:\\users\\kinfeylo\\appdata\\local\\miniforge3\\envs\\agentenv\\lib\\site-packages (from openai>=1.99.0->agent-framework-core) (0.10.0)\n",
      "Requirement already satisfied: tqdm>4 in c:\\users\\kinfeylo\\appdata\\local\\miniforge3\\envs\\agentenv\\lib\\site-packages (from openai>=1.99.0->agent-framework-core) (4.67.1)\n",
      "Requirement already satisfied: googleapis-common-protos~=1.57 in c:\\users\\kinfeylo\\appdata\\local\\miniforge3\\envs\\agentenv\\lib\\site-packages (from opentelemetry-exporter-otlp-proto-grpc>=1.36.0->agent-framework-core) (1.70.0)\n",
      "Requirement already satisfied: grpcio<2.0.0,>=1.63.2 in c:\\users\\kinfeylo\\appdata\\local\\miniforge3\\envs\\agentenv\\lib\\site-packages (from opentelemetry-exporter-otlp-proto-grpc>=1.36.0->agent-framework-core) (1.74.0)\n",
      "Requirement already satisfied: opentelemetry-exporter-otlp-proto-common==1.36.0 in c:\\users\\kinfeylo\\appdata\\local\\miniforge3\\envs\\agentenv\\lib\\site-packages (from opentelemetry-exporter-otlp-proto-grpc>=1.36.0->agent-framework-core) (1.36.0)\n",
      "Requirement already satisfied: opentelemetry-proto==1.36.0 in c:\\users\\kinfeylo\\appdata\\local\\miniforge3\\envs\\agentenv\\lib\\site-packages (from opentelemetry-exporter-otlp-proto-grpc>=1.36.0->agent-framework-core) (1.36.0)\n",
      "Requirement already satisfied: protobuf<7.0,>=5.0 in c:\\users\\kinfeylo\\appdata\\local\\miniforge3\\envs\\agentenv\\lib\\site-packages (from opentelemetry-proto==1.36.0->opentelemetry-exporter-otlp-proto-grpc>=1.36.0->agent-framework-core) (5.29.5)\n",
      "Requirement already satisfied: oauthlib>=3.0.0 in c:\\users\\kinfeylo\\appdata\\local\\miniforge3\\envs\\agentenv\\lib\\site-packages (from requests-oauthlib>=0.5.0->msrest>=0.6.10->azure-monitor-opentelemetry-exporter>=1.0.0b41->agent-framework-core) (3.3.1)\n",
      "Requirement already satisfied: colorama in c:\\users\\kinfeylo\\appdata\\local\\miniforge3\\envs\\agentenv\\lib\\site-packages (from tqdm>4->openai>=1.99.0->agent-framework-core) (0.4.6)\n",
      "Requirement already satisfied: click>=7.0 in c:\\users\\kinfeylo\\appdata\\local\\miniforge3\\envs\\agentenv\\lib\\site-packages (from uvicorn>=0.31.1->mcp>=1.13->mcp[ws]>=1.13->agent-framework-core) (8.2.1)\n"
     ]
    }
   ],
   "source": [
    "! pip install agent-framework-core -U"
   ]
  },
  {
   "cell_type": "code",
   "execution_count": 2,
   "id": "604f5e98",
   "metadata": {
    "language_info": {
     "name": "polyglot-notebook"
    },
    "polyglot_notebook": {
     "kernelName": "csharp"
    }
   },
   "outputs": [],
   "source": [
    "# 🤖 Import Multi-Agent Workflow Components\n",
    "# OpenAIChatClient: GitHub Models integration for agent communication\n",
    "# WorkflowEvent, WorkflowBuilder: Core workflow orchestration classes\n",
    "# WorkflowOutputEvent: Structured event handling for agent coordination\n",
    "from agent_framework.openai import OpenAIChatClient\n",
    "from agent_framework import WorkflowEvent, WorkflowBuilder, WorkflowOutputEvent"
   ]
  },
  {
   "cell_type": "code",
   "execution_count": 3,
   "id": "a7bbeb9f",
   "metadata": {
    "language_info": {
     "name": "polyglot-notebook"
    },
    "polyglot_notebook": {
     "kernelName": "csharp"
    }
   },
   "outputs": [],
   "source": [
    "# 📦 Import Configuration and Environment Management\n",
    "import os                      # Environment variable access for secure configuration\n",
    "from dotenv import load_dotenv # Secure loading of API credentials and settings"
   ]
  },
  {
   "cell_type": "code",
   "execution_count": 4,
   "id": "a35f9a38",
   "metadata": {
    "language_info": {
     "name": "polyglot-notebook"
    },
    "polyglot_notebook": {
     "kernelName": "csharp"
    }
   },
   "outputs": [
    {
     "data": {
      "text/plain": [
       "True"
      ]
     },
     "execution_count": 4,
     "metadata": {},
     "output_type": "execute_result"
    }
   ],
   "source": [
    "# 🔧 Load Multi-Agent Workflow Configuration  \n",
    "# Load environment variables for secure GitHub Models access\n",
    "# Required: GITHUB_ENDPOINT, GITHUB_TOKEN, GITHUB_MODEL_ID for agent communication\n",
    "load_dotenv()"
   ]
  },
  {
   "cell_type": "code",
   "execution_count": 5,
   "id": "763a7e8d",
   "metadata": {
    "language_info": {
     "name": "polyglot-notebook"
    },
    "polyglot_notebook": {
     "kernelName": "csharp"
    }
   },
   "outputs": [],
   "source": [
    "# 🔗 Initialize Shared Chat Client for Multi-Agent Communication\n",
    "# Create a unified client that all agents in the workflow will use\n",
    "# This ensures consistent API access and efficient resource utilization\n",
    "chat_client = OpenAIChatClient(\n",
    "    base_url=os.environ.get(\"GITHUB_ENDPOINT\"),    # GitHub Models API endpoint\n",
    "    api_key=os.environ.get(\"GITHUB_TOKEN\"),        # Authentication token\n",
    "    model_id=os.environ.get(\"GITHUB_MODEL_ID\")  # Model for all agents in workflow\n",
    ")"
   ]
  },
  {
   "cell_type": "code",
   "execution_count": 6,
   "id": "ed07880b",
   "metadata": {
    "language_info": {
     "name": "polyglot-notebook"
    },
    "polyglot_notebook": {
     "kernelName": "csharp"
    }
   },
   "outputs": [],
   "source": [
    "# 🎩 Agent 1: Hotel Concierge - Quality Reviewer Role\n",
    "# This agent specializes in evaluating travel recommendations for authenticity\n",
    "# Acts as the second stage in our multi-agent workflow for quality assurance\n",
    "REVIEWER_NAME = \"Concierge\"\n",
    "REVIEWER_INSTRUCTIONS = \"\"\"\n",
    "    You are an experienced hotel concierge who has strong opinions about providing the most local and authentic experiences for travelers.\n",
    "    \n",
    "    Your role in this multi-agent workflow:\n",
    "    - Review travel recommendations from the Front Desk agent\n",
    "    - Assess whether suggestions provide authentic, non-touristy experiences\n",
    "    - Approve recommendations that meet high standards for local authenticity\n",
    "    - Provide constructive feedback for refinement without giving specific examples\n",
    "    \n",
    "    Always focus on the quality and authenticity of experiences rather than just popular tourist destinations.\n",
    "    \"\"\""
   ]
  },
  {
   "cell_type": "code",
   "execution_count": 7,
   "id": "16ed7969",
   "metadata": {
    "language_info": {
     "name": "polyglot-notebook"
    },
    "polyglot_notebook": {
     "kernelName": "csharp"
    }
   },
   "outputs": [],
   "source": [
    "FRONTDESK_NAME = \"FrontDesk\"\n",
    "FRONTDESK_INSTRUCTIONS = \"\"\"\n",
    "    You are a Front Desk Travel Agent with ten years of experience and are known for brevity as you deal with many customers.\n",
    "    The goal is to provide the best activities and locations for a traveler to visit.\n",
    "    Only provide a single recommendation per response.\n",
    "    You're laser focused on the goal at hand.\n",
    "    Don't waste time with chit chat.\n",
    "    Consider suggestions when refining an idea.\n",
    "    \"\"\""
   ]
  },
  {
   "cell_type": "code",
   "execution_count": 8,
   "id": "558221d3",
   "metadata": {
    "language_info": {
     "name": "polyglot-notebook"
    },
    "polyglot_notebook": {
     "kernelName": "csharp"
    }
   },
   "outputs": [],
   "source": [
    "writer_agent    = chat_client.create_agent(\n",
    "        instructions=(\n",
    "           REVIEWER_INSTRUCTIONS\n",
    "        ),\n",
    "        name=REVIEWER_NAME,\n",
    "    )\n",
    "\n",
    "agent_reviewer = chat_client.create_agent(\n",
    "        instructions=(\n",
    "            FRONTDESK_INSTRUCTIONS\n",
    "        ),\n",
    "        name=FRONTDESK_NAME,\n",
    "    )"
   ]
  },
  {
   "cell_type": "code",
   "execution_count": 9,
   "id": "5de16a9c",
   "metadata": {
    "language_info": {
     "name": "polyglot-notebook"
    },
    "polyglot_notebook": {
     "kernelName": "csharp"
    }
   },
   "outputs": [],
   "source": [
    "workflow = WorkflowBuilder().set_start_executor(writer_agent).add_edge(writer_agent, agent_reviewer).build()"
   ]
  },
  {
   "cell_type": "code",
   "execution_count": 10,
   "id": "99988262",
   "metadata": {},
   "outputs": [],
   "source": [
    "\n",
    "class DatabaseEvent(WorkflowEvent): ..."
   ]
  },
  {
   "cell_type": "code",
   "execution_count": 11,
   "id": "1e3dcb96",
   "metadata": {},
   "outputs": [
    {
     "name": "stdout",
     "output_type": "stream",
     "text": [
      "Workflow output: Visit the Louvre Museum for an unparalleled art experience.\n"
     ]
    }
   ],
   "source": [
    "async for event in workflow.run_stream(\"I would like to go to Paris.\"):\n",
    "        if isinstance(event, DatabaseEvent):\n",
    "            print(f\"{event}\")\n",
    "        elif isinstance(event, WorkflowOutputEvent):\n",
    "            print(f\"Workflow output: {event.data}\")"
   ]
  },
  {
   "cell_type": "markdown",
   "metadata": {},
   "source": [
    "\n---\n\n**Declinarea responsabilității**:  \nAcest document a fost tradus utilizând serviciul de traducere AI [Co-op Translator](https://github.com/Azure/co-op-translator). Deși depunem eforturi pentru acuratețe, vă rugăm să aveți în vedere că traducerile automate pot conține erori sau inexactități. Documentul original în limba sa nativă ar trebui considerat sursa autoritară. Pentru informații critice, se recomandă traducerea profesională realizată de un specialist. Nu ne asumăm răspunderea pentru eventualele neînțelegeri sau interpretări greșite care pot apărea din utilizarea acestei traduceri.\n"
   ]
  }
 ],
 "metadata": {
  "kernelspec": {
   "display_name": "agentenv",
   "language": "python",
   "name": "python3"
  },
  "language_info": {
   "codemirror_mode": {
    "name": "ipython",
    "version": 3
   },
   "file_extension": ".py",
   "mimetype": "text/x-python",
   "name": "python",
   "nbconvert_exporter": "python",
   "pygments_lexer": "ipython3",
   "version": "3.12.10"
  },
  "polyglot_notebook": {
   "kernelInfo": {
    "defaultKernelName": "csharp",
    "items": [
     {
      "aliases": [],
      "name": "csharp"
     }
    ]
   }
  },
  "coopTranslator": {
   "original_hash": "45f63d4607a79ed16109bb109513aaff",
   "translation_date": "2025-10-02T08:16:59+00:00",
   "source_file": "08-multi-agent/code_samples/08-python-agent-framework.ipynb",
   "language_code": "ro"
  }
 },
 "nbformat": 4,
 "nbformat_minor": 5
}