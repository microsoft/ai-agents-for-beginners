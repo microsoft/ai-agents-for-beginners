{
 "cells": [
  {
   "cell_type": "markdown",
   "id": "8744544f",
   "metadata": {},
   "source": [
    "# 🛠️ Utilizarea Avansată a Uneltelor cu Modelele GitHub (Python)\n",
    "\n",
    "## 📋 Obiective de Învățare\n",
    "\n",
    "Acest notebook demonstrează modele avansate de integrare a uneltelor folosind Microsoft Agent Framework cu Modelele GitHub. Vei învăța cum să creezi, să gestionezi și să orchestrezi mai multe unelte pentru a construi capabilități sofisticate ale agenților.\n",
    "\n",
    "**Ce vei stăpâni:**\n",
    "- 🔧 **Arhitectura Multi-Unelte**: Construirea agenților cu mai multe unelte specializate\n",
    "- 🎯 **Logica de Selectare a Uneltelor**: Cum aleg agenții unealta potrivită pentru fiecare sarcină\n",
    "- 📊 **Unelte de Procesare a Datelor**: Crearea uneltelor care gestionează diferite tipuri de date\n",
    "- 🔗 **Compoziția Uneltelor**: Combinarea uneltelor pentru fluxuri de lucru complexe\n",
    "\n",
    "## 🎯 Modele Cheie de Unelte\n",
    "\n",
    "### Principii de Design ale Uneltelor\n",
    "- **Responsabilitate Unică**: Fiecare unealtă are un scop clar și bine definit\n",
    "- **Siguranța Tipurilor**: Tipare stricte pentru execuția fiabilă a uneltelor\n",
    "- **Gestionarea Erorilor**: Modele de eșec și recuperare grațioasă\n",
    "- **Compozabilitate**: Unelte care funcționează bine împreună\n",
    "\n",
    "### Funcționalități Avansate ale Uneltelor\n",
    "- **Conștientizarea Contextului**: Unelte care înțeleg contextul conversației\n",
    "- **Validarea Datelor**: Sanitizarea intrărilor și validarea ieșirilor\n",
    "- **Optimizarea Performanței**: Modele eficiente de execuție a uneltelor\n",
    "- **Extensibilitate**: Adăugarea ușoară de noi capabilități ale uneltelor\n",
    "\n",
    "## 🔧 Arhitectura Tehnică\n",
    "\n",
    "### Componente de Bază\n",
    "- **Microsoft Agent Framework**: Implementare Python cu suport avansat pentru unelte\n",
    "- **Integrarea Modelelor GitHub**: Acces la modele lingvistice de înaltă performanță\n",
    "- **Sistem de Registru al Uneltelor**: Gestionarea organizată a capabilităților agenților\n",
    "- **Modele de Recuperare a Erorilor**: Gestionarea robustă a eșecurilor de execuție ale uneltelor\n",
    "\n",
    "### Fluxul de Integrare a Uneltelor\n",
    "```python\n",
    "User Request → Agent Analysis → Tool Selection → Tool Execution → Response Synthesis\n",
    "```\n",
    "\n",
    "## 🛠️ Categorii de Unelte Demonstrate\n",
    "\n",
    "### 1. **Unelte de Generare a Datelor**\n",
    "- Generator aleatoriu de destinații\n",
    "- Furnizor de informații meteo  \n",
    "- Calculator de costuri de călătorie\n",
    "- Motor de recomandare pentru activități\n",
    "\n",
    "### 2. **Unelte de Procesare**\n",
    "- Formatare și validare text\n",
    "- Utilitare de transformare a datelor\n",
    "- Funcții de analiză a conținutului\n",
    "- Unelte de îmbunătățire a răspunsurilor\n",
    "\n",
    "### 3. **Unelte de Integrare**\n",
    "- Conectori API externi\n",
    "- Operațiuni pe sistemul de fișiere\n",
    "- Interfețe de interogare a bazelor de date\n",
    "- Utilitare de web scraping\n",
    "\n",
    "## ⚙️ Cerințe & Configurare\n",
    "\n",
    "\n",
    "**Dependențe Necesare:**\n",
    "```bash\n",
    "\n",
    "pip install agent-framework-core -U\n",
    "```\n",
    "\n",
    "**Configurarea Mediului (.env file):**\n",
    "```env\n",
    "GITHUB_TOKEN=your_github_personal_access_token\n",
    "GITHUB_ENDPOINT=https://models.inference.ai.azure.com\n",
    "GITHUB_MODEL_ID=gpt-4o-mini\n",
    "```\n",
    "\n",
    "**API-uri Opționale:**\n",
    "- Cheie API pentru serviciul meteo (pentru uneltele meteo)\n",
    "- Acces API pentru conversia valutei\n",
    "- Credențiale pentru serviciul de informații de călătorie\n",
    "\n",
    "## 🎨 Modele de Design\n",
    "\n",
    "### Modelul Factory pentru Unelte\n",
    "- Crearea și configurarea centralizată a uneltelor\n",
    "- Design consistent al interfeței uneltelor\n",
    "- Înregistrare și descoperire ușoară a uneltelor\n",
    "\n",
    "### Modelul Command\n",
    "- Logică de execuție a uneltelor încapsulată\n",
    "- Funcționalitate de anulare/refacere pentru operațiuni complexe\n",
    "- Jurnalizare pentru utilizarea uneltelor\n",
    "\n",
    "### Modelul Observer\n",
    "- Monitorizarea execuției uneltelor\n",
    "- Colectarea metricilor de performanță\n",
    "- Raportarea erorilor și alertarea\n",
    "\n",
    "## 🚀 Cele Mai Bune Practici\n",
    "\n",
    "- **Documentarea Uneltelor**: Descrieri clare pentru înțelegerea agenților\n",
    "- **Validarea Intrărilor**: Verificarea și sanitizarea robustă a parametrilor\n",
    "- **Formatarea Ieșirilor**: Răspunsuri consistente și ușor de analizat\n",
    "- **Mesaje de Eroare**: Informații utile pentru depanare\n",
    "- **Performanță**: Execuție optimizată a uneltelor pentru receptivitate\n",
    "\n",
    "Ești pregătit să construiești agenți cu capabilități puternice ale uneltelor? Hai să creăm ceva uimitor! ⚡\n"
   ]
  },
  {
   "cell_type": "code",
   "execution_count": null,
   "id": "59c0feeb",
   "metadata": {},
   "outputs": [],
   "source": [
    "! pip install agent-framework-core -U"
   ]
  },
  {
   "cell_type": "code",
   "execution_count": null,
   "id": "c0df8a52",
   "metadata": {},
   "outputs": [],
   "source": [
    "# � Import core dependencies for Agent Framework and tool integration\n",
    "# This sets up the essential libraries for building intelligent agents with tool capabilities\n",
    "\n",
    "import asyncio\n",
    "import os\n",
    "import json\n",
    "\n",
    "from dotenv import load_dotenv  # For loading environment variables securely\n",
    "from random import randint\n",
    "\n",
    "# These are the core components for building tool-enabled agents\n",
    "from agent_framework import ChatAgent           # Main agent class\n",
    "from agent_framework.openai import OpenAIChatClient  # OpenAI-compatible client"
   ]
  },
  {
   "cell_type": "code",
   "execution_count": null,
   "id": "24c10eb0",
   "metadata": {},
   "outputs": [],
   "source": [
    "load_dotenv()"
   ]
  },
  {
   "cell_type": "code",
   "execution_count": null,
   "id": "151e0314",
   "metadata": {},
   "outputs": [],
   "source": [
    "# 🔑 Environment variables verification\n",
    "# Ensure all required GitHub Models credentials are properly configured\n",
    "print(\"GITHUB_ENDPOINT:\", os.environ.get(\"GITHUB_ENDPOINT\"))\n",
    "print(\"GITHUB_TOKEN:\", \"***\" if os.environ.get(\"GITHUB_TOKEN\") else \"Not set\")\n",
    "print(\"GITHUB_MODEL_ID:\", os.environ.get(\"GITHUB_MODEL_ID\"))"
   ]
  },
  {
   "cell_type": "code",
   "execution_count": null,
   "id": "a6141584",
   "metadata": {},
   "outputs": [],
   "source": [
    "# 🧪 Test GitHub Models connectivity\n",
    "openai_chat_client = OpenAIChatClient(base_url=os.environ.get(\"GITHUB_ENDPOINT\"), api_key=os.environ.get(\"GITHUB_TOKEN\"), model_id=os.environ.get(\"GITHUB_MODEL_ID\"))"
   ]
  },
  {
   "cell_type": "code",
   "execution_count": null,
   "id": "a6507f83",
   "metadata": {},
   "outputs": [],
   "source": [
    "# 🛠️ Define travel planning tools for agent integration\n",
    "# These functions provide specific capabilities that the agent can invoke dynamically\n",
    "\n",
    "def get_random_destination() -> str:\n",
    "    \"\"\"\n",
    "    🎲 Random destination generator tool\n",
    "    Returns a randomly selected travel destination from curated list\n",
    "    Useful when customers need inspiration for their next vacation\n",
    "    \"\"\"\n",
    "    destinations = [\n",
    "        \"Paris, France\",\n",
    "        \"Tokyo, Japan\", \n",
    "        \"New York City, USA\",\n",
    "        \"London, England\",\n",
    "        \"Rome, Italy\",\n",
    "        \"Sydney, Australia\",\n",
    "        \"Dubai, UAE\",\n",
    "        \"Barcelona, Spain\",\n",
    "        \"Bangkok, Thailand\",\n",
    "        \"Amsterdam, Netherlands\",\n",
    "        \"Istanbul, Turkey\",\n",
    "        \"Prague, Czech Republic\",\n",
    "        \"Santorini, Greece\",\n",
    "        \"Reykjavik, Iceland\",\n",
    "        \"Marrakech, Morocco\",\n",
    "        \"Cape Town, South Africa\",\n",
    "        \"Rio de Janeiro, Brazil\",\n",
    "        \"Bali, Indonesia\"\n",
    "    ]\n",
    "    # 🎯 Return random selection from the curated destination list\n",
    "    return destinations[randint(0, len(destinations) - 1)]"
   ]
  },
  {
   "cell_type": "code",
   "execution_count": null,
   "id": "5d4f0568",
   "metadata": {},
   "outputs": [],
   "source": [
    "# 🔗 Initialize GitHub Models chat client for agent communication\n",
    "# Creates the primary interface between the agent and the language model\n",
    "openai_chat_client = OpenAIChatClient(base_url=os.environ.get(\"GITHUB_ENDPOINT\"), api_key=os.environ.get(\"GITHUB_TOKEN\"), model_id=os.environ.get(\"GITHUB_MODEL_ID\"))"
   ]
  },
  {
   "cell_type": "code",
   "execution_count": null,
   "id": "751668c5",
   "metadata": {},
   "outputs": [],
   "source": [
    "# 🤖 Configure travel agent identity and behavioral instructions\n",
    "# Define the agent's personality, capabilities, and operational guidelines\n",
    "\n",
    "AGENT_NAME = \"TravelAgent\"\n",
    "\n",
    "AGENT_INSTRUCTIONS = \"\"\"You are a helpful AI Agent that can help plan vacations for customers at random destinations\n",
    "\"\"\""
   ]
  },
  {
   "cell_type": "code",
   "execution_count": null,
   "id": "be18ac4f",
   "metadata": {},
   "outputs": [],
   "source": [
    "agent = ChatAgent(\n",
    "        name = AGENT_NAME,\n",
    "        chat_client=openai_chat_client,\n",
    "        instructions=AGENT_INSTRUCTIONS,\n",
    "        tools=[get_random_destination]\n",
    ")"
   ]
  },
  {
   "cell_type": "code",
   "execution_count": null,
   "id": "772e9481",
   "metadata": {},
   "outputs": [],
   "source": [
    "thread = agent.get_new_thread()"
   ]
  },
  {
   "cell_type": "code",
   "execution_count": null,
   "id": "a731b547",
   "metadata": {},
   "outputs": [],
   "source": [
    "response1 = await agent.run(\"Plan me a day trip\",thread= thread)"
   ]
  },
  {
   "cell_type": "code",
   "execution_count": null,
   "id": "7d3fe00a",
   "metadata": {},
   "outputs": [],
   "source": [
    "\n",
    "last_message = response1.messages[-1]\n",
    "text_content = last_message.contents[0].text\n",
    "print(\"Travel plan:\")\n",
    "print(text_content)"
   ]
  },
  {
   "cell_type": "markdown",
   "metadata": {},
   "source": [
    "\n---\n\n**Declinarea responsabilității**:  \nAcest document a fost tradus utilizând serviciul de traducere AI [Co-op Translator](https://github.com/Azure/co-op-translator). Deși depunem eforturi pentru acuratețe, vă rugăm să aveți în vedere că traducerile automate pot conține erori sau inexactități. Documentul original în limba sa nativă trebuie considerat sursa autoritară. Pentru informații critice, se recomandă traducerea realizată de un profesionist uman. Nu ne asumăm răspunderea pentru eventualele neînțelegeri sau interpretări greșite care pot apărea din utilizarea acestei traduceri.\n"
   ]
  }
 ],
 "metadata": {
  "kernelspec": {
   "display_name": "agentenv",
   "language": "python",
   "name": "python3"
  },
  "language_info": {
   "codemirror_mode": {
    "name": "ipython",
    "version": 3
   },
   "file_extension": ".py",
   "mimetype": "text/x-python",
   "name": "python",
   "nbconvert_exporter": "python",
   "pygments_lexer": "ipython3",
   "version": "3.12.10"
  },
  "polyglot_notebook": {
   "kernelInfo": {
    "defaultKernelName": "csharp",
    "items": [
     {
      "aliases": [],
      "name": "csharp"
     }
    ]
   }
  },
  "coopTranslator": {
   "original_hash": "42966ddac53cebaf0ac1ce33b2ee7059",
   "translation_date": "2025-10-02T08:26:48+00:00",
   "source_file": "04-tool-use/code_samples/04-python-agent-framework.ipynb",
   "language_code": "ro"
  }
 },
 "nbformat": 4,
 "nbformat_minor": 5
}