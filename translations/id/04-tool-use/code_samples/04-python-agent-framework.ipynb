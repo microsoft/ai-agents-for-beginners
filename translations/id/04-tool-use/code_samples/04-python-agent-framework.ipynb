{
 "cells": [
  {
   "cell_type": "markdown",
   "id": "8744544f",
   "metadata": {},
   "source": [
    "# 🛠️ Penggunaan Alat Lanjutan dengan Model GitHub (Python)\n",
    "\n",
    "## 📋 Tujuan Pembelajaran\n",
    "\n",
    "Notebook ini menunjukkan pola integrasi alat yang canggih menggunakan Microsoft Agent Framework dengan Model GitHub. Anda akan belajar cara membuat, mengelola, dan mengorkestrasi beberapa alat untuk membangun kemampuan agen yang kompleks.\n",
    "\n",
    "**Yang Akan Anda Kuasai:**\n",
    "- 🔧 **Arsitektur Multi-Alat**: Membangun agen dengan beberapa alat khusus\n",
    "- 🎯 **Logika Pemilihan Alat**: Bagaimana agen memilih alat yang tepat untuk setiap tugas\n",
    "- 📊 **Alat Pemrosesan Data**: Membuat alat yang menangani berbagai jenis data\n",
    "- 🔗 **Komposisi Alat**: Menggabungkan alat untuk alur kerja yang kompleks\n",
    "\n",
    "## 🎯 Pola Alat Utama\n",
    "\n",
    "### Prinsip Desain Alat\n",
    "- **Tanggung Jawab Tunggal**: Setiap alat memiliki tujuan yang jelas dan terfokus\n",
    "- **Keamanan Tipe**: Pengetikan yang kuat untuk eksekusi alat yang andal\n",
    "- **Penanganan Kesalahan**: Pola kegagalan dan pemulihan yang elegan\n",
    "- **Komposabilitas**: Alat yang bekerja dengan baik bersama-sama\n",
    "\n",
    "### Fitur Alat Lanjutan\n",
    "- **Kesadaran Konteks**: Alat yang memahami konteks percakapan\n",
    "- **Validasi Data**: Sanitasi input dan validasi output\n",
    "- **Optimasi Performa**: Pola eksekusi alat yang efisien\n",
    "- **Ekstensibilitas**: Penambahan kemampuan alat baru yang mudah\n",
    "\n",
    "## 🔧 Arsitektur Teknis\n",
    "\n",
    "### Komponen Inti\n",
    "- **Microsoft Agent Framework**: Implementasi Python dengan dukungan alat canggih\n",
    "- **Integrasi Model GitHub**: Akses model bahasa berperforma tinggi\n",
    "- **Sistem Registrasi Alat**: Pengelolaan kemampuan agen yang terorganisir\n",
    "- **Pola Pemulihan Kesalahan**: Penanganan kegagalan eksekusi alat yang tangguh\n",
    "\n",
    "### Alur Integrasi Alat\n",
    "```python\n",
    "User Request → Agent Analysis → Tool Selection → Tool Execution → Response Synthesis\n",
    "```\n",
    "\n",
    "## 🛠️ Kategori Alat yang Ditunjukkan\n",
    "\n",
    "### 1. **Alat Generasi Data**\n",
    "- Generator tujuan acak\n",
    "- Penyedia informasi cuaca  \n",
    "- Kalkulator biaya perjalanan\n",
    "- Mesin rekomendasi aktivitas\n",
    "\n",
    "### 2. **Alat Pemrosesan**\n",
    "- Pemformatan dan validasi teks\n",
    "- Utilitas transformasi data\n",
    "- Fungsi analisis konten\n",
    "- Alat peningkatan respons\n",
    "\n",
    "### 3. **Alat Integrasi**\n",
    "- Konektor API eksternal\n",
    "- Operasi sistem file\n",
    "- Antarmuka kueri basis data\n",
    "- Utilitas pengambilan data web\n",
    "\n",
    "## ⚙️ Prasyarat & Pengaturan\n",
    "\n",
    "**Dependensi yang Diperlukan:**\n",
    "```bash\n",
    "\n",
    "pip install agent-framework-core -U\n",
    "```\n",
    "\n",
    "**Konfigurasi Lingkungan (file .env):**\n",
    "```env\n",
    "GITHUB_TOKEN=your_github_personal_access_token\n",
    "GITHUB_ENDPOINT=https://models.inference.ai.azure.com\n",
    "GITHUB_MODEL_ID=gpt-4o-mini\n",
    "```\n",
    "\n",
    "**API Opsional:**\n",
    "- Kunci API layanan cuaca (untuk alat cuaca)\n",
    "- Akses API konversi mata uang\n",
    "- Kredensial layanan informasi perjalanan\n",
    "\n",
    "## 🎨 Pola Desain\n",
    "\n",
    "### Pola Pabrik Alat\n",
    "- Pembuatan dan konfigurasi alat yang terpusat\n",
    "- Desain antarmuka alat yang konsisten\n",
    "- Pendaftaran dan penemuan alat yang mudah\n",
    "\n",
    "### Pola Perintah\n",
    "- Logika eksekusi alat yang terenkapsulasi\n",
    "- Fungsi undo/redo untuk operasi kompleks\n",
    "- Pencatatan audit untuk penggunaan alat\n",
    "\n",
    "### Pola Pengamat\n",
    "- Pemantauan eksekusi alat\n",
    "- Pengumpulan metrik performa\n",
    "- Pelaporan kesalahan dan pemberitahuan\n",
    "\n",
    "## 🚀 Praktik Terbaik\n",
    "\n",
    "- **Dokumentasi Alat**: Deskripsi yang jelas untuk pemahaman agen\n",
    "- **Validasi Input**: Pemeriksaan parameter dan sanitasi yang kuat\n",
    "- **Pemformatan Output**: Respons alat yang konsisten dan dapat diurai\n",
    "- **Pesan Kesalahan**: Informasi kesalahan yang membantu untuk debugging\n",
    "- **Performa**: Eksekusi alat yang dioptimalkan untuk responsivitas\n",
    "\n",
    "Siap membangun agen dengan kemampuan alat yang kuat? Mari ciptakan sesuatu yang luar biasa! ⚡\n"
   ]
  },
  {
   "cell_type": "code",
   "execution_count": null,
   "id": "59c0feeb",
   "metadata": {},
   "outputs": [],
   "source": [
    "! pip install agent-framework-core -U"
   ]
  },
  {
   "cell_type": "code",
   "execution_count": null,
   "id": "c0df8a52",
   "metadata": {},
   "outputs": [],
   "source": [
    "# � Import core dependencies for Agent Framework and tool integration\n",
    "# This sets up the essential libraries for building intelligent agents with tool capabilities\n",
    "\n",
    "import asyncio\n",
    "import os\n",
    "import json\n",
    "\n",
    "from dotenv import load_dotenv  # For loading environment variables securely\n",
    "from random import randint\n",
    "\n",
    "# These are the core components for building tool-enabled agents\n",
    "from agent_framework import ChatAgent           # Main agent class\n",
    "from agent_framework.openai import OpenAIChatClient  # OpenAI-compatible client"
   ]
  },
  {
   "cell_type": "code",
   "execution_count": null,
   "id": "24c10eb0",
   "metadata": {},
   "outputs": [],
   "source": [
    "load_dotenv()"
   ]
  },
  {
   "cell_type": "code",
   "execution_count": null,
   "id": "151e0314",
   "metadata": {},
   "outputs": [],
   "source": [
    "# 🔑 Environment variables verification\n",
    "# Ensure all required GitHub Models credentials are properly configured\n",
    "print(\"GITHUB_ENDPOINT:\", os.environ.get(\"GITHUB_ENDPOINT\"))\n",
    "print(\"GITHUB_TOKEN:\", \"***\" if os.environ.get(\"GITHUB_TOKEN\") else \"Not set\")\n",
    "print(\"GITHUB_MODEL_ID:\", os.environ.get(\"GITHUB_MODEL_ID\"))"
   ]
  },
  {
   "cell_type": "code",
   "execution_count": null,
   "id": "a6141584",
   "metadata": {},
   "outputs": [],
   "source": [
    "# 🧪 Test GitHub Models connectivity\n",
    "openai_chat_client = OpenAIChatClient(base_url=os.environ.get(\"GITHUB_ENDPOINT\"), api_key=os.environ.get(\"GITHUB_TOKEN\"), model_id=os.environ.get(\"GITHUB_MODEL_ID\"))"
   ]
  },
  {
   "cell_type": "code",
   "execution_count": null,
   "id": "a6507f83",
   "metadata": {},
   "outputs": [],
   "source": [
    "# 🛠️ Define travel planning tools for agent integration\n",
    "# These functions provide specific capabilities that the agent can invoke dynamically\n",
    "\n",
    "def get_random_destination() -> str:\n",
    "    \"\"\"\n",
    "    🎲 Random destination generator tool\n",
    "    Returns a randomly selected travel destination from curated list\n",
    "    Useful when customers need inspiration for their next vacation\n",
    "    \"\"\"\n",
    "    destinations = [\n",
    "        \"Paris, France\",\n",
    "        \"Tokyo, Japan\", \n",
    "        \"New York City, USA\",\n",
    "        \"London, England\",\n",
    "        \"Rome, Italy\",\n",
    "        \"Sydney, Australia\",\n",
    "        \"Dubai, UAE\",\n",
    "        \"Barcelona, Spain\",\n",
    "        \"Bangkok, Thailand\",\n",
    "        \"Amsterdam, Netherlands\",\n",
    "        \"Istanbul, Turkey\",\n",
    "        \"Prague, Czech Republic\",\n",
    "        \"Santorini, Greece\",\n",
    "        \"Reykjavik, Iceland\",\n",
    "        \"Marrakech, Morocco\",\n",
    "        \"Cape Town, South Africa\",\n",
    "        \"Rio de Janeiro, Brazil\",\n",
    "        \"Bali, Indonesia\"\n",
    "    ]\n",
    "    # 🎯 Return random selection from the curated destination list\n",
    "    return destinations[randint(0, len(destinations) - 1)]"
   ]
  },
  {
   "cell_type": "code",
   "execution_count": null,
   "id": "5d4f0568",
   "metadata": {},
   "outputs": [],
   "source": [
    "# 🔗 Initialize GitHub Models chat client for agent communication\n",
    "# Creates the primary interface between the agent and the language model\n",
    "openai_chat_client = OpenAIChatClient(base_url=os.environ.get(\"GITHUB_ENDPOINT\"), api_key=os.environ.get(\"GITHUB_TOKEN\"), model_id=os.environ.get(\"GITHUB_MODEL_ID\"))"
   ]
  },
  {
   "cell_type": "code",
   "execution_count": null,
   "id": "751668c5",
   "metadata": {},
   "outputs": [],
   "source": [
    "# 🤖 Configure travel agent identity and behavioral instructions\n",
    "# Define the agent's personality, capabilities, and operational guidelines\n",
    "\n",
    "AGENT_NAME = \"TravelAgent\"\n",
    "\n",
    "AGENT_INSTRUCTIONS = \"\"\"You are a helpful AI Agent that can help plan vacations for customers at random destinations\n",
    "\"\"\""
   ]
  },
  {
   "cell_type": "code",
   "execution_count": null,
   "id": "be18ac4f",
   "metadata": {},
   "outputs": [],
   "source": [
    "agent = ChatAgent(\n",
    "        name = AGENT_NAME,\n",
    "        chat_client=openai_chat_client,\n",
    "        instructions=AGENT_INSTRUCTIONS,\n",
    "        tools=[get_random_destination]\n",
    ")"
   ]
  },
  {
   "cell_type": "code",
   "execution_count": null,
   "id": "772e9481",
   "metadata": {},
   "outputs": [],
   "source": [
    "thread = agent.get_new_thread()"
   ]
  },
  {
   "cell_type": "code",
   "execution_count": null,
   "id": "a731b547",
   "metadata": {},
   "outputs": [],
   "source": [
    "response1 = await agent.run(\"Plan me a day trip\",thread= thread)"
   ]
  },
  {
   "cell_type": "code",
   "execution_count": null,
   "id": "7d3fe00a",
   "metadata": {},
   "outputs": [],
   "source": [
    "\n",
    "last_message = response1.messages[-1]\n",
    "text_content = last_message.contents[0].text\n",
    "print(\"Travel plan:\")\n",
    "print(text_content)"
   ]
  },
  {
   "cell_type": "markdown",
   "metadata": {},
   "source": [
    "\n---\n\n**Penafian**:  \nDokumen ini telah diterjemahkan menggunakan layanan penerjemahan AI [Co-op Translator](https://github.com/Azure/co-op-translator). Meskipun kami berusaha untuk memberikan hasil yang akurat, harap diperhatikan bahwa terjemahan otomatis mungkin mengandung kesalahan atau ketidakakuratan. Dokumen asli dalam bahasa aslinya harus dianggap sebagai sumber yang otoritatif. Untuk informasi yang bersifat kritis, disarankan menggunakan jasa penerjemahan manusia profesional. Kami tidak bertanggung jawab atas kesalahpahaman atau penafsiran yang keliru yang timbul dari penggunaan terjemahan ini.\n"
   ]
  }
 ],
 "metadata": {
  "kernelspec": {
   "display_name": "agentenv",
   "language": "python",
   "name": "python3"
  },
  "language_info": {
   "codemirror_mode": {
    "name": "ipython",
    "version": 3
   },
   "file_extension": ".py",
   "mimetype": "text/x-python",
   "name": "python",
   "nbconvert_exporter": "python",
   "pygments_lexer": "ipython3",
   "version": "3.12.10"
  },
  "polyglot_notebook": {
   "kernelInfo": {
    "defaultKernelName": "csharp",
    "items": [
     {
      "aliases": [],
      "name": "csharp"
     }
    ]
   }
  },
  "coopTranslator": {
   "original_hash": "42966ddac53cebaf0ac1ce33b2ee7059",
   "translation_date": "2025-10-02T17:54:17+00:00",
   "source_file": "04-tool-use/code_samples/04-python-agent-framework.ipynb",
   "language_code": "id"
  }
 },
 "nbformat": 4,
 "nbformat_minor": 5
}