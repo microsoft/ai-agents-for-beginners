{
 "cells": [
  {
   "cell_type": "markdown",
   "id": "44b5899e",
   "metadata": {},
   "source": [
    "# 🔍 Enterprise RAG dengan Azure AI Foundry (.NET)\n",
    "\n",
    "## 📋 Tujuan Pembelajaran\n",
    "\n",
    "Notebook ini menunjukkan cara membangun sistem Retrieval-Augmented Generation (RAG) tingkat perusahaan menggunakan Microsoft Agent Framework di .NET dengan Azure AI Foundry. Anda akan belajar membuat agen siap produksi yang dapat mencari dokumen dan memberikan respons yang akurat serta kontekstual dengan keamanan dan skalabilitas tingkat perusahaan.\n",
    "\n",
    "**Kemampuan Enterprise RAG yang Akan Anda Bangun:**\n",
    "- 📚 **Kecerdasan Dokumen**: Pemrosesan dokumen canggih dengan layanan Azure AI\n",
    "- 🔍 **Pencarian Semantik**: Pencarian vektor berkinerja tinggi dengan fitur perusahaan\n",
    "- 🛡️ **Integrasi Keamanan**: Akses berbasis peran dan pola perlindungan data\n",
    "- 🏢 **Arsitektur Skalabel**: Sistem RAG siap produksi dengan pemantauan\n",
    "\n",
    "## 🎯 Arsitektur Enterprise RAG\n",
    "\n",
    "### Komponen Inti Perusahaan\n",
    "- **Azure AI Foundry**: Platform AI perusahaan yang dikelola dengan keamanan dan kepatuhan\n",
    "- **Agen Persisten**: Agen dengan riwayat percakapan dan manajemen konteks\n",
    "- **Manajemen Penyimpanan Vektor**: Pengindeksan dan pengambilan dokumen tingkat perusahaan\n",
    "- **Integrasi Identitas**: Autentikasi Azure AD dan kontrol akses berbasis peran\n",
    "\n",
    "### Keuntungan .NET untuk Perusahaan\n",
    "- **Keamanan Tipe**: Validasi waktu kompilasi untuk operasi RAG dan struktur data\n",
    "- **Kinerja Asinkron**: Pemrosesan dokumen dan operasi pencarian non-blok\n",
    "- **Manajemen Memori**: Pemanfaatan sumber daya yang efisien untuk koleksi dokumen besar\n",
    "- **Pola Integrasi**: Integrasi layanan Azure secara native dengan dependency injection\n",
    "\n",
    "## 🏗️ Arsitektur Teknis\n",
    "\n",
    "### Pipeline Enterprise RAG\n",
    "```csharp\n",
    "Document Upload → Security Validation → Vector Processing → Index Creation\n",
    "                      ↓                    ↓                  ↓\n",
    "User Query → Authentication → Semantic Search → Context Ranking → AI Response\n",
    "```\n",
    "\n",
    "### Komponen Inti .NET\n",
    "- **Azure.AI.Agents.Persistent**: Manajemen agen perusahaan dengan persistensi status\n",
    "- **Azure.Identity**: Autentikasi terintegrasi untuk akses layanan Azure yang aman\n",
    "- **Microsoft.Agents.AI.AzureAI**: Implementasi kerangka kerja agen yang dioptimalkan untuk Azure\n",
    "- **System.Linq.Async**: Operasi LINQ asinkron berkinerja tinggi\n",
    "\n",
    "## 🔧 Fitur & Keuntungan Enterprise\n",
    "\n",
    "### Keamanan & Kepatuhan\n",
    "- **Integrasi Azure AD**: Manajemen identitas dan autentikasi perusahaan\n",
    "- **Akses Berbasis Peran**: Izin yang terperinci untuk akses dokumen dan operasi\n",
    "- **Perlindungan Data**: Enkripsi saat diam dan dalam transit untuk dokumen sensitif\n",
    "- **Audit Logging**: Pelacakan aktivitas yang komprehensif untuk kebutuhan kepatuhan\n",
    "\n",
    "### Kinerja & Skalabilitas\n",
    "- **Connection Pooling**: Manajemen koneksi layanan Azure yang efisien\n",
    "- **Pemrosesan Asinkron**: Operasi non-blok untuk skenario throughput tinggi\n",
    "- **Strategi Caching**: Caching cerdas untuk dokumen yang sering diakses\n",
    "- **Load Balancing**: Pemrosesan terdistribusi untuk penerapan skala besar\n",
    "\n",
    "### Manajemen & Pemantauan\n",
    "- **Health Checks**: Pemantauan bawaan untuk komponen sistem RAG\n",
    "- **Metrik Kinerja**: Analitik terperinci tentang kualitas pencarian dan waktu respons\n",
    "- **Penanganan Kesalahan**: Manajemen pengecualian yang komprehensif dengan kebijakan retry\n",
    "- **Manajemen Konfigurasi**: Pengaturan spesifik lingkungan dengan validasi\n",
    "\n",
    "## ⚙️ Prasyarat & Pengaturan\n",
    "\n",
    "**Lingkungan Pengembangan:**\n",
    "- .NET 9.0 SDK atau lebih tinggi\n",
    "- Visual Studio 2022 atau VS Code dengan ekstensi C#\n",
    "- Langganan Azure dengan akses AI Foundry\n",
    "\n",
    "**Paket NuGet yang Dibutuhkan:**\n",
    "```xml\n",
    "<PackageReference Include=\"Microsoft.Extensions.AI\" Version=\"9.9.0\" />\n",
    "<PackageReference Include=\"Azure.AI.Agents.Persistent\" Version=\"1.2.0-beta.5\" />\n",
    "<PackageReference Include=\"Azure.Identity\" Version=\"1.15.0\" />\n",
    "<PackageReference Include=\"System.Linq.Async\" Version=\"6.0.3\" />\n",
    "<PackageReference Include=\"DotNetEnv\" Version=\"3.1.1\" />\n",
    "```\n",
    "\n",
    "**Pengaturan Autentikasi Azure:**\n",
    "```bash\n",
    "# Install Azure CLI and authenticate\n",
    "az login\n",
    "az account set --subscription \"your-subscription-id\"\n",
    "```\n",
    "\n",
    "**Konfigurasi Lingkungan (file .env):**\n",
    "```env\n",
    "# Azure AI Foundry configuration (automatically handled via Azure CLI)\n",
    "# Ensure you're authenticated to the correct Azure subscription\n",
    "```\n",
    "\n",
    "## 📊 Pola Enterprise RAG\n",
    "\n",
    "### Pola Manajemen Dokumen\n",
    "- **Unggahan Massal**: Pemrosesan koleksi dokumen besar secara efisien\n",
    "- **Pembaruan Bertahap**: Penambahan dan modifikasi dokumen secara real-time\n",
    "- **Kontrol Versi**: Versi dokumen dan pelacakan perubahan\n",
    "- **Manajemen Metadata**: Atribut dokumen yang kaya dan taksonomi\n",
    "\n",
    "### Pola Pencarian & Pengambilan\n",
    "- **Pencarian Hibrid**: Menggabungkan pencarian semantik dan kata kunci untuk hasil optimal\n",
    "- **Pencarian Berfasilitas**: Penyaringan dan kategorisasi multi-dimensi\n",
    "- **Penyetelan Relevansi**: Algoritma penilaian khusus untuk kebutuhan spesifik domain\n",
    "- **Peringkat Hasil**: Peringkat lanjutan dengan integrasi logika bisnis\n",
    "\n",
    "### Pola Keamanan\n",
    "- **Keamanan Tingkat Dokumen**: Kontrol akses terperinci per dokumen\n",
    "- **Klasifikasi Data**: Pelabelan sensitivitas otomatis dan perlindungan\n",
    "- **Jejak Audit**: Logging komprehensif dari semua operasi RAG\n",
    "- **Perlindungan Privasi**: Deteksi dan redaksi PII\n",
    "\n",
    "## 🔒 Fitur Keamanan Enterprise\n",
    "\n",
    "### Autentikasi & Otorisasi\n",
    "```csharp\n",
    "// Azure AD integrated authentication\n",
    "var credential = new AzureCliCredential();\n",
    "var agentsClient = new PersistentAgentsClient(endpoint, credential);\n",
    "\n",
    "// Role-based access validation\n",
    "if (!await ValidateUserPermissions(user, documentId))\n",
    "{\n",
    "    throw new UnauthorizedAccessException(\"Insufficient permissions\");\n",
    "}\n",
    "```\n",
    "\n",
    "### Perlindungan Data\n",
    "- **Enkripsi**: Enkripsi ujung ke ujung untuk dokumen dan indeks pencarian\n",
    "- **Kontrol Akses**: Integrasi dengan Azure AD untuk izin pengguna dan grup\n",
    "- **Residensi Data**: Kontrol lokasi geografis data untuk kepatuhan\n",
    "- **Cadangan & Pemulihan**: Kemampuan cadangan dan pemulihan otomatis\n",
    "\n",
    "## 📈 Optimasi Kinerja\n",
    "\n",
    "### Pola Pemrosesan Asinkron\n",
    "```csharp\n",
    "// Efficient async document processing\n",
    "await foreach (var document in documentStream.AsAsyncEnumerable())\n",
    "{\n",
    "    await ProcessDocumentAsync(document, cancellationToken);\n",
    "}\n",
    "```\n",
    "\n",
    "### Manajemen Memori\n",
    "- **Pemrosesan Streaming**: Menangani dokumen besar tanpa masalah memori\n",
    "- **Pengelompokan Sumber Daya**: Penggunaan ulang sumber daya yang mahal secara efisien\n",
    "- **Pengumpulan Sampah**: Pola alokasi memori yang dioptimalkan\n",
    "- **Manajemen Koneksi**: Siklus hidup koneksi layanan Azure yang tepat\n",
    "\n",
    "### Strategi Caching\n",
    "- **Caching Query**: Cache pencarian yang sering dilakukan\n",
    "- **Caching Dokumen**: Caching dalam memori untuk dokumen yang sering diakses\n",
    "- **Caching Indeks**: Caching indeks vektor yang dioptimalkan\n",
    "- **Caching Hasil**: Caching cerdas dari respons yang dihasilkan\n",
    "\n",
    "## 📊 Kasus Penggunaan Enterprise\n",
    "\n",
    "### Manajemen Pengetahuan\n",
    "- **Wiki Perusahaan**: Pencarian cerdas di basis pengetahuan perusahaan\n",
    "- **Kebijakan & Prosedur**: Panduan kepatuhan dan prosedur otomatis\n",
    "- **Materi Pelatihan**: Bantuan pembelajaran dan pengembangan yang cerdas\n",
    "- **Basis Data Penelitian**: Sistem analisis makalah akademik dan penelitian\n",
    "\n",
    "### Dukungan Pelanggan\n",
    "- **Basis Pengetahuan Dukungan**: Respons layanan pelanggan otomatis\n",
    "- **Dokumentasi Produk**: Pengambilan informasi produk yang cerdas\n",
    "- **Panduan Pemecahan Masalah**: Bantuan pemecahan masalah yang kontekstual\n",
    "- **Sistem FAQ**: Generasi FAQ dinamis dari koleksi dokumen\n",
    "\n",
    "### Kepatuhan Regulasi\n",
    "- **Analisis Dokumen Hukum**: Kecerdasan dokumen kontrak dan hukum\n",
    "- **Pemantauan Kepatuhan**: Pemeriksaan kepatuhan regulasi otomatis\n",
    "- **Penilaian Risiko**: Analisis dan pelaporan risiko berbasis dokumen\n",
    "- **Dukungan Audit**: Penemuan dokumen cerdas untuk audit\n",
    "\n",
    "## 🚀 Penerapan Produksi\n",
    "\n",
    "### Pemantauan & Observabilitas\n",
    "- **Application Insights**: Telemetri terperinci dan pemantauan kinerja\n",
    "- **Metrik Kustom**: Pelacakan KPI spesifik bisnis dan pemberitahuan\n",
    "- **Pelacakan Terdistribusi**: Pelacakan permintaan ujung ke ujung di seluruh layanan\n",
    "- **Dasbor Kesehatan**: Visualisasi kesehatan dan kinerja sistem secara real-time\n",
    "\n",
    "### Skalabilitas & Keandalan\n",
    "- **Auto-Scaling**: Skalabilitas otomatis berdasarkan beban dan metrik kinerja\n",
    "- **Ketersediaan Tinggi**: Penerapan multi-region dengan kemampuan failover\n",
    "- **Pengujian Beban**: Validasi kinerja di bawah kondisi beban perusahaan\n",
    "- **Pemulihan Bencana**: Prosedur cadangan dan pemulihan otomatis\n",
    "\n",
    "Siap membangun sistem RAG tingkat perusahaan yang dapat menangani dokumen sensitif dalam skala besar? Mari kita arsitekkan sistem pengetahuan cerdas untuk perusahaan! 🏢📖✨\n"
   ]
  },
  {
   "cell_type": "code",
   "execution_count": 1,
   "metadata": {
    "language_info": {
     "name": "polyglot-notebook"
    },
    "polyglot_notebook": {
     "kernelName": "csharp"
    }
   },
   "outputs": [
    {
     "data": {
      "text/html": [
       "<div><div></div><div></div><div><strong>Installed Packages</strong><ul><li><span>Microsoft.Extensions.AI, 9.9.1</span></li></ul></div></div>"
      ]
     },
     "metadata": {},
     "output_type": "display_data"
    }
   ],
   "source": [
    "#r \"nuget: Microsoft.Extensions.AI, 9.9.1\""
   ]
  },
  {
   "cell_type": "code",
   "execution_count": 2,
   "id": "4ec1f0d1",
   "metadata": {
    "language_info": {
     "name": "polyglot-notebook"
    },
    "polyglot_notebook": {
     "kernelName": "csharp"
    }
   },
   "outputs": [
    {
     "data": {
      "text/html": [
       "<div><div></div><div></div><div><strong>Installed Packages</strong><ul><li><span>Azure.AI.Agents.Persistent, 1.2.0-beta.5</span></li><li><span>Azure.Identity, 1.15.0</span></li><li><span>System.Linq.Async, 6.0.3</span></li></ul></div></div>"
      ]
     },
     "metadata": {},
     "output_type": "display_data"
    }
   ],
   "source": [
    "#r \"nuget: Azure.AI.Agents.Persistent, 1.2.0-beta.5\"\n",
    "#r \"nuget: Azure.Identity, 1.15.0\"\n",
    "#r \"nuget: System.Linq.Async, 6.0.3\""
   ]
  },
  {
   "cell_type": "code",
   "execution_count": 3,
   "id": "2363ae07",
   "metadata": {
    "language_info": {
     "name": "polyglot-notebook"
    },
    "polyglot_notebook": {
     "kernelName": "csharp"
    }
   },
   "outputs": [],
   "source": []
  },
  {
   "cell_type": "code",
   "execution_count": null,
   "id": "d10cec9d",
   "metadata": {
    "language_info": {
     "name": "polyglot-notebook"
    },
    "polyglot_notebook": {
     "kernelName": "csharp"
    }
   },
   "outputs": [
    {
     "data": {
      "text/html": [
       "<div><div></div><div></div><div><strong>Installed Packages</strong><ul><li><span>Microsoft.Agents.AI.AzureAI, 1.0.0-preview.251001.2</span></li></ul></div></div>"
      ]
     },
     "metadata": {},
     "output_type": "display_data"
    }
   ],
   "source": [
    "#r \"nuget: Microsoft.Agents.AI.AzureAI, 1.0.0-preview.251001.3\""
   ]
  },
  {
   "cell_type": "code",
   "execution_count": null,
   "id": "78199d1c",
   "metadata": {
    "language_info": {
     "name": "polyglot-notebook"
    },
    "polyglot_notebook": {
     "kernelName": "csharp"
    }
   },
   "outputs": [
    {
     "data": {
      "text/html": [
       "<div><div></div><div></div><div><strong>Installed Packages</strong><ul><li><span>microsoft.agents.ai, 1.0.0-preview.251001.2</span></li></ul></div></div>"
      ]
     },
     "metadata": {},
     "output_type": "display_data"
    }
   ],
   "source": [
    "#r \"nuget: Microsoft.Agents.AI, 1.0.0-preview.251001.3\""
   ]
  },
  {
   "cell_type": "code",
   "execution_count": 6,
   "id": "7de4684a",
   "metadata": {
    "language_info": {
     "name": "polyglot-notebook"
    },
    "polyglot_notebook": {
     "kernelName": "csharp"
    }
   },
   "outputs": [
    {
     "data": {
      "text/html": [
       "<div><div></div><div></div><div><strong>Installed Packages</strong><ul><li><span>DotNetEnv, 3.1.1</span></li></ul></div></div>"
      ]
     },
     "metadata": {},
     "output_type": "display_data"
    }
   ],
   "source": [
    "#r \"nuget: DotNetEnv, 3.1.1\""
   ]
  },
  {
   "cell_type": "code",
   "execution_count": 7,
   "id": "251efd31",
   "metadata": {
    "language_info": {
     "name": "polyglot-notebook"
    },
    "polyglot_notebook": {
     "kernelName": "csharp"
    }
   },
   "outputs": [],
   "source": [
    "using System;\n",
    "using System.Linq;\n",
    "using Azure.AI.Agents.Persistent;\n",
    "using Azure.Identity;\n",
    "using Microsoft.Agents.AI;"
   ]
  },
  {
   "cell_type": "code",
   "execution_count": 8,
   "id": "a2e342f1",
   "metadata": {
    "language_info": {
     "name": "polyglot-notebook"
    },
    "polyglot_notebook": {
     "kernelName": "csharp"
    }
   },
   "outputs": [],
   "source": [
    " using DotNetEnv;"
   ]
  },
  {
   "cell_type": "code",
   "execution_count": 9,
   "id": "a7a01653",
   "metadata": {
    "language_info": {
     "name": "polyglot-notebook"
    },
    "polyglot_notebook": {
     "kernelName": "csharp"
    }
   },
   "outputs": [],
   "source": [
    "Env.Load(\"../../../.env\");"
   ]
  },
  {
   "cell_type": "code",
   "execution_count": 10,
   "id": "a42735d5",
   "metadata": {
    "language_info": {
     "name": "polyglot-notebook"
    },
    "polyglot_notebook": {
     "kernelName": "csharp"
    }
   },
   "outputs": [],
   "source": [
    "var azure_foundry_endpoint = Environment.GetEnvironmentVariable(\"AZURE_AI_PROJECT_ENDPOINT\") ?? throw new InvalidOperationException(\"AZURE_AI_PROJECT_ENDPOINT is not set.\");\n",
    "var azure_foundry_model_id = Environment.GetEnvironmentVariable(\"AZURE_AI_MODEL_DEPLOYMENT_NAME\") ?? \"gpt-4.1-mini\";"
   ]
  },
  {
   "cell_type": "code",
   "execution_count": 11,
   "id": "e29bdb58",
   "metadata": {
    "language_info": {
     "name": "polyglot-notebook"
    },
    "polyglot_notebook": {
     "kernelName": "csharp"
    }
   },
   "outputs": [],
   "source": [
    "string pdfPath = \"./document.md\";"
   ]
  },
  {
   "cell_type": "code",
   "execution_count": 12,
   "id": "7351e12d",
   "metadata": {
    "language_info": {
     "name": "polyglot-notebook"
    },
    "polyglot_notebook": {
     "kernelName": "csharp"
    }
   },
   "outputs": [],
   "source": [
    "using System.IO;\n",
    "\n",
    "async Task<Stream> OpenImageStreamAsync(string path)\n",
    "{\n",
    "\treturn await Task.Run(() => File.OpenRead(path));\n",
    "}\n",
    "\n",
    "var pdfStream = await OpenImageStreamAsync(pdfPath);"
   ]
  },
  {
   "cell_type": "code",
   "execution_count": 13,
   "id": "0b6bf484",
   "metadata": {
    "language_info": {
     "name": "polyglot-notebook"
    },
    "polyglot_notebook": {
     "kernelName": "csharp"
    }
   },
   "outputs": [],
   "source": [
    "var persistentAgentsClient = new PersistentAgentsClient(azure_foundry_endpoint, new AzureCliCredential());"
   ]
  },
  {
   "cell_type": "code",
   "execution_count": 14,
   "id": "81e0dddc",
   "metadata": {
    "language_info": {
     "name": "polyglot-notebook"
    },
    "polyglot_notebook": {
     "kernelName": "csharp"
    }
   },
   "outputs": [],
   "source": [
    "PersistentAgentFileInfo fileInfo = await persistentAgentsClient.Files.UploadFileAsync(pdfStream, PersistentAgentFilePurpose.Agents, \"demo.md\");"
   ]
  },
  {
   "cell_type": "code",
   "execution_count": 15,
   "id": "f0c75d80",
   "metadata": {
    "language_info": {
     "name": "polyglot-notebook"
    },
    "polyglot_notebook": {
     "kernelName": "csharp"
    }
   },
   "outputs": [],
   "source": [
    "PersistentAgentsVectorStore fileStore =\n",
    "            await persistentAgentsClient.VectorStores.CreateVectorStoreAsync(\n",
    "                [fileInfo.Id],\n",
    "                metadata: new Dictionary<string, string>() { { \"agentkey\", bool.TrueString } });"
   ]
  },
  {
   "cell_type": "code",
   "execution_count": 16,
   "id": "c77986c5",
   "metadata": {
    "language_info": {
     "name": "polyglot-notebook"
    },
    "polyglot_notebook": {
     "kernelName": "csharp"
    }
   },
   "outputs": [],
   "source": [
    "PersistentAgent agentModel = await persistentAgentsClient.Administration.CreateAgentAsync(\n",
    "            azure_foundry_model_id,\n",
    "            name: \"DotNetRAGAgent\",\n",
    "            tools: [new FileSearchToolDefinition()],\n",
    "            instructions: \"\"\"\n",
    "                You are an AI assistant designed to answer user questions using only the information retrieved from the provided document(s).\n",
    "\n",
    "                - If a user's question cannot be answered using the retrieved context, **you must clearly respond**: \n",
    "                \"I'm sorry, but the uploaded document does not contain the necessary information to answer that question.\"\n",
    "                - Do not answer from general knowledge or reasoning. Do not make assumptions or generate hypothetical explanations.\n",
    "                - Do not provide definitions, tutorials, or commentary that is not explicitly grounded in the content of the uploaded file(s).\n",
    "                - If a user asks a question like \"What is a Neural Network?\", and this is not discussed in the uploaded document, respond as instructed above.\n",
    "                - For questions that do have relevant content in the document (e.g., Contoso's travel insurance coverage), respond accurately, and cite the document explicitly.\n",
    "\n",
    "                You must behave as if you have no external knowledge beyond what is retrieved from the uploaded document.\n",
    "                \"\"\",\n",
    "            toolResources: new()\n",
    "            {\n",
    "                FileSearch = new()\n",
    "                {\n",
    "                    VectorStoreIds = { fileStore.Id },\n",
    "                }\n",
    "            },\n",
    "            metadata: new Dictionary<string, string>() { { \"agentkey\", bool.TrueString } });"
   ]
  },
  {
   "cell_type": "code",
   "execution_count": 17,
   "id": "282326cf",
   "metadata": {
    "language_info": {
     "name": "polyglot-notebook"
    },
    "polyglot_notebook": {
     "kernelName": "csharp"
    }
   },
   "outputs": [],
   "source": [
    "AIAgent agent = await persistentAgentsClient.GetAIAgentAsync(agentModel.Id);"
   ]
  },
  {
   "cell_type": "code",
   "execution_count": 18,
   "id": "2067d313",
   "metadata": {
    "language_info": {
     "name": "polyglot-notebook"
    },
    "polyglot_notebook": {
     "kernelName": "csharp"
    }
   },
   "outputs": [],
   "source": [
    "AgentThread thread = agent.GetNewThread();"
   ]
  },
  {
   "cell_type": "code",
   "execution_count": 19,
   "id": "454c4230",
   "metadata": {
    "language_info": {
     "name": "polyglot-notebook"
    },
    "polyglot_notebook": {
     "kernelName": "csharp"
    }
   },
   "outputs": [
    {
     "name": "stdout",
     "output_type": "stream",
     "text": [
      "Contoso's travel insurance coverage includes protection for medical emergencies, trip cancellations, and lost baggage. This ensures that travelers are supported in case of health-related issues during their trip, unforeseen cancellations, and the loss of their belongings while traveling【4:0†demo.md】.\r\n"
     ]
    }
   ],
   "source": [
    "Console.WriteLine(await agent.RunAsync(\"Can you explain Contoso's travel insurance coverage?\", thread));"
   ]
  },
  {
   "cell_type": "markdown",
   "metadata": {},
   "source": [
    "\n---\n\n**Penafian**:  \nDokumen ini telah diterjemahkan menggunakan layanan penerjemahan AI [Co-op Translator](https://github.com/Azure/co-op-translator). Meskipun kami berusaha untuk memberikan hasil yang akurat, harap diperhatikan bahwa terjemahan otomatis mungkin mengandung kesalahan atau ketidakakuratan. Dokumen asli dalam bahasa aslinya harus dianggap sebagai sumber yang otoritatif. Untuk informasi yang bersifat kritis, disarankan menggunakan jasa penerjemahan profesional oleh manusia. Kami tidak bertanggung jawab atas kesalahpahaman atau penafsiran yang timbul dari penggunaan terjemahan ini.\n"
   ]
  }
 ],
 "metadata": {
  "kernelspec": {
   "display_name": ".NET (C#)",
   "language": "C#",
   "name": ".net-csharp"
  },
  "language_info": {
   "name": "polyglot-notebook"
  },
  "polyglot_notebook": {
   "kernelInfo": {
    "defaultKernelName": "csharp",
    "items": [
     {
      "aliases": [],
      "name": "csharp"
     }
    ]
   }
  },
  "coopTranslator": {
   "original_hash": "e4584fa31638009dc6fb665275de8fc2",
   "translation_date": "2025-10-02T17:31:53+00:00",
   "source_file": "05-agentic-rag/code_samples/05-dotnet-agent-framework.ipynb",
   "language_code": "id"
  }
 },
 "nbformat": 4,
 "nbformat_minor": 5
}