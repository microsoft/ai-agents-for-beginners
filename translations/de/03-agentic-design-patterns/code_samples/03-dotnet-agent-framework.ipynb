{
 "cells": [
  {
   "cell_type": "markdown",
   "id": "d6058fa4",
   "metadata": {},
   "source": [
    "# 🎨 Agentische Designmuster mit GitHub-Modellen (.NET)\n",
    "\n",
    "## 📋 Lernziele\n",
    "\n",
    "Dieses Notebook demonstriert Designmuster auf Unternehmensebene für den Aufbau intelligenter Agenten mit dem Microsoft Agent Framework in .NET und der Integration von GitHub-Modellen. Sie lernen professionelle Muster und architektonische Ansätze kennen, die Agenten produktionsbereit, wartbar und skalierbar machen.\n",
    "\n",
    "**Designmuster für Unternehmen:**\n",
    "- 🏭 **Factory Pattern**: Standardisierte Agentenerstellung mit Dependency Injection\n",
    "- 🔧 **Builder Pattern**: Fluent API für Agentenkonfiguration und Setup\n",
    "- 🧵 **Thread-Safe Patterns**: Verwaltung von parallelen Konversationen\n",
    "- 📋 **Repository Pattern**: Organisierte Verwaltung von Tools und Fähigkeiten\n",
    "\n",
    "## 🎯 Architektonische Vorteile von .NET\n",
    "\n",
    "### Funktionen für Unternehmen\n",
    "- **Starke Typisierung**: Validierung zur Kompilierungszeit und Unterstützung durch IntelliSense\n",
    "- **Dependency Injection**: Integration eines eingebauten DI-Containers\n",
    "- **Konfigurationsmanagement**: IConfiguration und Options-Muster\n",
    "- **Async/Await**: Erstklassige Unterstützung für asynchrones Programmieren\n",
    "\n",
    "### Produktionsreife Muster\n",
    "- **Logging-Integration**: Unterstützung von ILogger und strukturiertem Logging\n",
    "- **Health Checks**: Eingebaute Überwachung und Diagnostik\n",
    "- **Konfigurationsvalidierung**: Starke Typisierung mit Datenanmerkungen\n",
    "- **Fehlerbehandlung**: Strukturierte Verwaltung von Ausnahmen\n",
    "\n",
    "## 🔧 Technische Architektur\n",
    "\n",
    "### Kernkomponenten von .NET\n",
    "- **Microsoft.Extensions.AI**: Einheitliche Abstraktionen für KI-Dienste\n",
    "- **Microsoft.Agents.AI**: Framework für die Orchestrierung von Unternehmensagenten\n",
    "- **GitHub Models Integration**: Hochleistungsfähige API-Client-Muster\n",
    "- **Konfigurationssystem**: Integration von appsettings.json und Umgebungsvariablen\n",
    "\n",
    "### Implementierung von Designmustern\n",
    "```csharp\n",
    "IServiceCollection → Agent Builder → Configuration → Tool Registry → AI Agent\n",
    "```\n",
    "\n",
    "## 🏗️ Demonstrierte Unternehmensmuster\n",
    "\n",
    "### 1. **Erzeugungsmuster**\n",
    "- **Agent Factory**: Zentralisierte Agentenerstellung mit konsistenter Konfiguration\n",
    "- **Builder Pattern**: Fluent API für komplexe Agentenkonfiguration\n",
    "- **Singleton Pattern**: Verwaltung gemeinsamer Ressourcen und Konfigurationen\n",
    "- **Dependency Injection**: Lose Kopplung und Testbarkeit\n",
    "\n",
    "### 2. **Verhaltensmuster**\n",
    "- **Strategy Pattern**: Austauschbare Ausführungsstrategien für Tools\n",
    "- **Command Pattern**: Kapselung von Agentenoperationen mit Undo/Redo-Funktion\n",
    "- **Observer Pattern**: Ereignisgesteuerte Verwaltung des Agentenlebenszyklus\n",
    "- **Template Method**: Standardisierte Ausführungsabläufe für Agenten\n",
    "\n",
    "### 3. **Strukturmuster**\n",
    "- **Adapter Pattern**: Integrationsschicht für die GitHub Models API\n",
    "- **Decorator Pattern**: Erweiterung der Agentenfähigkeiten\n",
    "- **Facade Pattern**: Vereinfachte Schnittstellen für die Interaktion mit Agenten\n",
    "- **Proxy Pattern**: Lazy Loading und Caching zur Leistungssteigerung\n",
    "\n",
    "## ⚙️ Voraussetzungen & Einrichtung\n",
    "\n",
    "**Entwicklungsumgebung:**\n",
    "- .NET 9.0 SDK oder höher\n",
    "- Visual Studio 2022 oder VS Code mit C#-Erweiterung\n",
    "- Zugriff auf die GitHub Models API\n",
    "\n",
    "**NuGet-Abhängigkeiten:**\n",
    "```xml\n",
    "<PackageReference Include=\"Microsoft.Extensions.AI\" Version=\"9.9.0\" />\n",
    "<PackageReference Include=\"Microsoft.Extensions.AI.OpenAI\" Version=\"9.9.0-preview.1.25458.4\" />\n",
    "<PackageReference Include=\"DotNetEnv\" Version=\"3.1.1\" />\n",
    "```\n",
    "\n",
    "**Konfiguration (.env-Datei):**\n",
    "```env\n",
    "GITHUB_TOKEN=your_github_personal_access_token\n",
    "GITHUB_ENDPOINT=https://models.inference.ai.azure.com\n",
    "GITHUB_MODEL_ID=gpt-4o-mini\n",
    "```\n",
    "\n",
    "## 📚 Designprinzipien in .NET\n",
    "\n",
    "### SOLID-Prinzipien\n",
    "- **Single Responsibility**: Jede Komponente hat einen klar definierten Zweck\n",
    "- **Open/Closed**: Erweiterbar ohne Modifikation\n",
    "- **Liskov Substitution**: Implementierungen basierend auf Schnittstellen\n",
    "- **Interface Segregation**: Fokussierte, kohärente Schnittstellen\n",
    "- **Dependency Inversion**: Abhängigkeit von Abstraktionen statt von konkreten Implementierungen\n",
    "\n",
    "### Clean Architecture\n",
    "- **Domain Layer**: Kernabstraktionen für Agenten und Tools\n",
    "- **Application Layer**: Orchestrierung und Workflows für Agenten\n",
    "- **Infrastructure Layer**: Integration von GitHub-Modellen und externen Diensten\n",
    "- **Presentation Layer**: Benutzerinteraktion und Formatierung von Antworten\n",
    "\n",
    "## 🔒 Überlegungen für Unternehmen\n",
    "\n",
    "### Sicherheit\n",
    "- **Credential Management**: Sichere Handhabung von API-Schlüsseln mit IConfiguration\n",
    "- **Input Validation**: Starke Typisierung und Validierung durch Datenanmerkungen\n",
    "- **Output Sanitization**: Sichere Verarbeitung und Filterung von Antworten\n",
    "- **Audit Logging**: Umfassende Nachverfolgung von Operationen\n",
    "\n",
    "### Leistung\n",
    "- **Async Patterns**: Nicht blockierende I/O-Operationen\n",
    "- **Connection Pooling**: Effiziente Verwaltung von HTTP-Clients\n",
    "- **Caching**: Antwort-Caching zur Leistungsverbesserung\n",
    "- **Resource Management**: Ordnungsgemäße Entsorgung und Bereinigung von Ressourcen\n",
    "\n",
    "### Skalierbarkeit\n",
    "- **Thread Safety**: Unterstützung für parallele Agentenausführung\n",
    "- **Resource Pooling**: Effiziente Ressourcennutzung\n",
    "- **Load Management**: Ratenbegrenzung und Backpressure-Handling\n",
    "- **Monitoring**: Leistungsmetriken und Gesundheitschecks\n",
    "\n",
    "## 🚀 Produktionsbereitstellung\n",
    "\n",
    "- **Konfigurationsmanagement**: Umgebungsspezifische Einstellungen\n",
    "- **Logging-Strategie**: Strukturiertes Logging mit Korrelations-IDs\n",
    "- **Fehlerbehandlung**: Globale Ausnahmebehandlung mit ordnungsgemäßer Wiederherstellung\n",
    "- **Überwachung**: Application Insights und Leistungsindikatoren\n",
    "- **Tests**: Unit-Tests, Integrationstests und Lasttest-Muster\n",
    "\n",
    "Bereit, intelligente Agenten auf Unternehmensebene mit .NET zu entwickeln? Lassen Sie uns etwas Robustes gestalten! 🏢✨\n"
   ]
  },
  {
   "cell_type": "code",
   "execution_count": 1,
   "id": "2770ac5c",
   "metadata": {
    "language_info": {
     "name": "polyglot-notebook"
    },
    "polyglot_notebook": {
     "kernelName": "csharp"
    }
   },
   "outputs": [
    {
     "data": {
      "text/html": [
       "<div><div></div><div></div><div><strong>Installed Packages</strong><ul><li><span>Microsoft.Extensions.AI, 9.9.1</span></li></ul></div></div>"
      ]
     },
     "metadata": {},
     "output_type": "display_data"
    }
   ],
   "source": [
    "#r \"nuget: Microsoft.Extensions.AI, 9.9.1\""
   ]
  },
  {
   "cell_type": "code",
   "execution_count": null,
   "id": "984ff6cd",
   "metadata": {
    "language_info": {
     "name": "polyglot-notebook"
    },
    "polyglot_notebook": {
     "kernelName": "csharp"
    }
   },
   "outputs": [
    {
     "data": {
      "text/html": [
       "<div><div></div><div></div><div><strong>Installed Packages</strong><ul><li><span>Microsoft.Agents.AI.OpenAI, 1.0.0-preview.251001.2</span></li></ul></div></div>"
      ]
     },
     "metadata": {},
     "output_type": "display_data"
    }
   ],
   "source": [
    "#r \"nuget: Microsoft.Agents.AI.OpenAI, 1.0.0-preview.251001.3\""
   ]
  },
  {
   "cell_type": "code",
   "execution_count": null,
   "id": "0ab71360",
   "metadata": {
    "language_info": {
     "name": "polyglot-notebook"
    },
    "polyglot_notebook": {
     "kernelName": "csharp"
    }
   },
   "outputs": [
    {
     "data": {
      "text/html": [
       "<div><div></div><div></div><div><strong>Installed Packages</strong><ul><li><span>microsoft.agents.ai, 1.0.0-preview.251001.2</span></li></ul></div></div>"
      ]
     },
     "metadata": {},
     "output_type": "display_data"
    }
   ],
   "source": [
    "\n",
    "\n",
    "#r \"nuget: Microsoft.Agents.AI, 1.0.0-preview.251001.3\""
   ]
  },
  {
   "cell_type": "code",
   "execution_count": 4,
   "id": "4ab7b15d",
   "metadata": {
    "language_info": {
     "name": "polyglot-notebook"
    },
    "polyglot_notebook": {
     "kernelName": "csharp"
    }
   },
   "outputs": [],
   "source": [
    "// #r \"nuget: Microsoft.Extensions.AI.OpenAI, 9.9.0-preview.1.25458.4\""
   ]
  },
  {
   "cell_type": "code",
   "execution_count": 5,
   "id": "3fa8aa21",
   "metadata": {
    "language_info": {
     "name": "polyglot-notebook"
    },
    "polyglot_notebook": {
     "kernelName": "csharp"
    }
   },
   "outputs": [
    {
     "data": {
      "text/html": [
       "<div><div></div><div></div><div><strong>Installed Packages</strong><ul><li><span>DotNetEnv, 3.1.1</span></li></ul></div></div>"
      ]
     },
     "metadata": {},
     "output_type": "display_data"
    }
   ],
   "source": [
    "#r \"nuget: DotNetEnv, 3.1.1\""
   ]
  },
  {
   "cell_type": "code",
   "execution_count": 6,
   "id": "fc8ee8ea",
   "metadata": {
    "language_info": {
     "name": "polyglot-notebook"
    },
    "polyglot_notebook": {
     "kernelName": "csharp"
    }
   },
   "outputs": [],
   "source": [
    "using System;\n",
    "using System.ComponentModel;\n",
    "using System.ClientModel;\n",
    "\n",
    "using Microsoft.Extensions.AI;\n",
    "using Microsoft.Agents.AI;\n",
    "using OpenAI;"
   ]
  },
  {
   "cell_type": "code",
   "execution_count": 7,
   "id": "699b1c83",
   "metadata": {
    "language_info": {
     "name": "polyglot-notebook"
    },
    "polyglot_notebook": {
     "kernelName": "csharp"
    }
   },
   "outputs": [],
   "source": [
    " using DotNetEnv;"
   ]
  },
  {
   "cell_type": "code",
   "execution_count": 8,
   "id": "daa649a0",
   "metadata": {
    "language_info": {
     "name": "polyglot-notebook"
    },
    "polyglot_notebook": {
     "kernelName": "csharp"
    }
   },
   "outputs": [],
   "source": [
    "Env.Load(\"../../../.env\");"
   ]
  },
  {
   "cell_type": "code",
   "execution_count": 9,
   "id": "29661a90",
   "metadata": {
    "language_info": {
     "name": "polyglot-notebook"
    },
    "polyglot_notebook": {
     "kernelName": "csharp"
    }
   },
   "outputs": [],
   "source": [
    "[Description(\"Provides a random vacation destination.\")]\n",
    "static string GetRandomDestination()\n",
    "{\n",
    "    var destinations = new List<string>\n",
    "    {\n",
    "        \"Paris, France\",\n",
    "        \"Tokyo, Japan\",\n",
    "        \"New York City, USA\",\n",
    "        \"Sydney, Australia\",\n",
    "        \"Rome, Italy\",\n",
    "        \"Barcelona, Spain\",\n",
    "        \"Cape Town, South Africa\",\n",
    "        \"Rio de Janeiro, Brazil\",\n",
    "        \"Bangkok, Thailand\",\n",
    "        \"Vancouver, Canada\"\n",
    "    };\n",
    "\n",
    "    var random = new Random();\n",
    "    int index = random.Next(destinations.Count);\n",
    "    return destinations[index];\n",
    "}"
   ]
  },
  {
   "cell_type": "code",
   "execution_count": 10,
   "id": "d2ed1f8b",
   "metadata": {
    "language_info": {
     "name": "polyglot-notebook"
    },
    "polyglot_notebook": {
     "kernelName": "csharp"
    }
   },
   "outputs": [],
   "source": [
    "var github_endpoint = Environment.GetEnvironmentVariable(\"GITHUB_ENDPOINT\") ?? throw new InvalidOperationException(\"GITHUB_ENDPOINT is not set.\");\n",
    "var github_model_id = Environment.GetEnvironmentVariable(\"GITHUB_MODEL_ID\") ?? \"gpt-4o-mini\";\n",
    "var github_token = Environment.GetEnvironmentVariable(\"GITHUB_TOKEN\") ?? throw new InvalidOperationException(\"GITHUB_TOKEN is not set.\");"
   ]
  },
  {
   "cell_type": "code",
   "execution_count": 11,
   "id": "c36c73e1",
   "metadata": {
    "language_info": {
     "name": "polyglot-notebook"
    },
    "polyglot_notebook": {
     "kernelName": "csharp"
    }
   },
   "outputs": [],
   "source": [
    "var openAIOptions = new OpenAIClientOptions()\n",
    "{\n",
    "    Endpoint= new Uri(github_endpoint)\n",
    "};"
   ]
  },
  {
   "cell_type": "code",
   "execution_count": 12,
   "id": "6d94ff10",
   "metadata": {
    "language_info": {
     "name": "polyglot-notebook"
    },
    "polyglot_notebook": {
     "kernelName": "csharp"
    }
   },
   "outputs": [],
   "source": [
    "\n",
    "var openAIClient = new OpenAIClient(new ApiKeyCredential(github_token), openAIOptions);"
   ]
  },
  {
   "cell_type": "code",
   "execution_count": 13,
   "id": "fe32b57a",
   "metadata": {
    "language_info": {
     "name": "polyglot-notebook"
    },
    "polyglot_notebook": {
     "kernelName": "csharp"
    }
   },
   "outputs": [],
   "source": [
    "AIAgent agent = new OpenAIClient(new ApiKeyCredential(github_token), openAIOptions).GetChatClient(github_model_id).CreateAIAgent(\n",
    "    instructions:\"You are a helpful AI Agent that can help plan vacations for customers at random destinations\", tools: [AIFunctionFactory.Create((Func<string>)GetRandomDestination)]);"
   ]
  },
  {
   "cell_type": "code",
   "execution_count": 14,
   "metadata": {
    "language_info": {
     "name": "polyglot-notebook"
    },
    "polyglot_notebook": {
     "kernelName": "csharp"
    }
   },
   "outputs": [],
   "source": [
    "AgentThread thread = agent.GetNewThread();"
   ]
  },
  {
   "cell_type": "code",
   "execution_count": 15,
   "id": "5e455aff",
   "metadata": {
    "language_info": {
     "name": "polyglot-notebook"
    },
    "polyglot_notebook": {
     "kernelName": "csharp"
    }
   },
   "outputs": [
    {
     "name": "stdout",
     "output_type": "stream",
     "text": [
      "How about a day trip to Vancouver, Canada? Here's a suggested itinerary for your day:\n",
      "\n",
      "### Morning\n",
      "- **Breakfast at a Local Cafe**: Start your day with a delicious breakfast at a cozy café like **Jam Cafe** or **Cafe Medina**.\n",
      "- **Stanley Park**: After breakfast, head to Stanley Park. You can rent a bike and ride along the seawall, enjoying beautiful views of the city and the water.\n",
      "\n",
      "### Afternoon\n",
      "- **Lunch in Gastown**: Make your way to Gastown for lunch. Try a local favorite like **The Flying Pig** or **Noodle Box**.\n",
      "- **Explore Gastown**: After lunch, walk around Gastown to see the iconic Steam Clock and browse the unique shops and boutiques.\n",
      "\n",
      "### Late Afternoon\n",
      "- **Granville Island**: Visit Granville Island, where you can stroll through the public market, sample local foods, and enjoy artisan shops.\n",
      "- **False Creek**: Take a walk along False Creek and enjoy the waterfront views.\n",
      "\n",
      "### Evening\n",
      "- **Dinner at a Waterfront Restaurant**: End your day with dinner at a waterfront restaurant like **The Boathouse** or **Lift Bar Grill View** for great food and a view of the sunset.\n",
      "- **Optional: Sunset Cruise**: If you're up for it, consider taking a sunset cruise for a different perspective of the city.\n",
      "\n",
      "### Tips\n",
      "- Make sure to check the weather beforehand!\n",
      "- Consider public transport or ride-sharing to navigate the city easily.\n",
      "\n",
      "Enjoy your day trip to Vancouver!\r\n"
     ]
    }
   ],
   "source": [
    "Console.WriteLine(await agent.RunAsync(\"Plan me a day trip\",thread));"
   ]
  },
  {
   "cell_type": "code",
   "execution_count": 16,
   "id": "592ae1bb",
   "metadata": {
    "language_info": {
     "name": "polyglot-notebook"
    },
    "polyglot_notebook": {
     "kernelName": "csharp"
    }
   },
   "outputs": [
    {
     "name": "stdout",
     "output_type": "stream",
     "text": [
      "How about a vacation to New York City, USA? Here's a suggested itinerary for your trip:\n",
      "\n",
      "### Day 1: Arrival in New York City\n",
      "- **Check-In**: Arrive and check in to your hotel.\n",
      "- **Central Park**: Take a leisurely stroll through Central Park. Consider renting a bike or taking a carriage ride.\n",
      "- **Evening**: Enjoy dinner at a classic NYC restaurant, such as **Katz's Delicatessen** or **Carbone**.\n",
      "\n",
      "### Day 2: Iconic Landmarks\n",
      "- **Morning**: Breakfast at a local diner.\n",
      "- **Statue of Liberty & Ellis Island**: Take a ferry to visit these iconic landmarks.\n",
      "- **Afternoon**: Explore Wall Street and visit the 9/11 Memorial & Museum.\n",
      "- **Evening**: Dinner in the Financial District followed by a walk across the Brooklyn Bridge at sunset.\n",
      "\n",
      "### Day 3: Culture and Arts\n",
      "- **Morning**: Visit The Metropolitan Museum of Art (The Met) and spend a few hours exploring its vast collection.\n",
      "- **Afternoon**: Head to Times Square for lunch and the buzz of the city.\n",
      "- **Broadway Show**: Catch a Broadway show in the evening. Be sure to book tickets in advance!\n",
      "\n",
      "### Day 4: Explore Neighborhoods\n",
      "- **Morning**: Head to SoHo for brunch and shopping in its chic boutiques.\n",
      "- **Afternoon**: Explore Greenwich Village, known for its bohemian atmosphere and history.\n",
      "- **Evening**: Enjoy dinner in the West Village, perhaps at **Buvette** or **Minetta Tavern**.\n",
      "\n",
      "### Day 5: Departure\n",
      "- **Last-minute Shopping**: Spend your last morning shopping at Fifth Avenue or head to Chelsea Market for food and souvenirs.\n",
      "- **Check-Out**: Depart for your journey home.\n",
      "\n",
      "### Tips\n",
      "- Utilize the subway for efficient travel around the city.\n",
      "- Make reservations for popular restaurants and attractions ahead of time!\n",
      "\n",
      "Enjoy your trip to New York City!\r\n"
     ]
    }
   ],
   "source": [
    "Console.WriteLine(await agent.RunAsync(\"I don't like that destination. Plan me another vacation.\",thread));"
   ]
  },
  {
   "cell_type": "markdown",
   "metadata": {},
   "source": [
    "\n---\n\n**Haftungsausschluss**:  \nDieses Dokument wurde mit dem KI-Übersetzungsdienst [Co-op Translator](https://github.com/Azure/co-op-translator) übersetzt. Obwohl wir uns um Genauigkeit bemühen, beachten Sie bitte, dass automatisierte Übersetzungen Fehler oder Ungenauigkeiten enthalten können. Das Originaldokument in seiner ursprünglichen Sprache sollte als maßgebliche Quelle betrachtet werden. Für kritische Informationen wird eine professionelle menschliche Übersetzung empfohlen. Wir übernehmen keine Haftung für Missverständnisse oder Fehlinterpretationen, die sich aus der Nutzung dieser Übersetzung ergeben.\n"
   ]
  }
 ],
 "metadata": {
  "kernelspec": {
   "display_name": ".NET (C#)",
   "language": "C#",
   "name": ".net-csharp"
  },
  "language_info": {
   "name": "polyglot-notebook"
  },
  "polyglot_notebook": {
   "kernelInfo": {
    "defaultKernelName": "csharp",
    "items": [
     {
      "aliases": [],
      "name": "csharp"
     }
    ]
   }
  },
  "coopTranslator": {
   "original_hash": "070c1d8985b3dc6e6d977f3e891037f1",
   "translation_date": "2025-10-01T22:13:23+00:00",
   "source_file": "03-agentic-design-patterns/code_samples/03-dotnet-agent-framework.ipynb",
   "language_code": "de"
  }
 },
 "nbformat": 4,
 "nbformat_minor": 5
}