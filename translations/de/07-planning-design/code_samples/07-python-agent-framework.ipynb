{
 "cells": [
  {
   "cell_type": "markdown",
   "id": "04b696ee",
   "metadata": {},
   "source": [
    "# 🎯 Planung & Designmuster mit GitHub-Modellen (Python)\n",
    "\n",
    "## 📋 Lernziele\n",
    "\n",
    "Dieses Notebook zeigt fortgeschrittene Planungs- und Designmuster für den Aufbau intelligenter Agenten mit dem Microsoft Agent Framework und GitHub-Modellen. Sie lernen, wie Sie Agenten erstellen, die komplexe Probleme zerlegen, mehrstufige Lösungen planen und anspruchsvolle Arbeitsabläufe koordinieren können.\n",
    "\n",
    "**Fortgeschrittene Fähigkeiten, die Sie meistern werden:**\n",
    "- 🧠 **Strategische Planung**: Komplexe Aufgaben in überschaubare Teilaufgaben zerlegen\n",
    "- 🗺️ **Mehrstufiges Denken**: Muster für sequentielle und parallele Aufgabenbearbeitung\n",
    "- 🎯 **Zielorientiertes Design**: Agenten, die auf spezifische Ziele hinarbeiten\n",
    "- 🔄 **Adaptive Planung**: Dynamische Strategieanpassung basierend auf Kontext\n",
    "\n",
    "## 🎯 Konzepte der Planungsarchitektur\n",
    "\n",
    "### Kernkomponenten der Planung\n",
    "- **Aufgabenzerlegung**: Komplexe Probleme in kleinere, handhabbare Teile zerlegen\n",
    "- **Ausführungsplanung**: Optimale Reihenfolge und Abhängigkeiten für Teilaufgaben bestimmen\n",
    "- **Ressourcenmanagement**: Effiziente Zuweisung von Werkzeugen und Fähigkeiten\n",
    "- **Fortschrittsüberwachung**: Abschluss verfolgen und auf Änderungen reagieren\n",
    "\n",
    "### Designmuster für die Planung\n",
    "- **Strategie-Muster**: Verschiedene Planungsansätze für unterschiedliche Szenarien\n",
    "- **Chain of Responsibility**: Sequentielle Verarbeitung mit Rückfalloptionen\n",
    "- **Command-Muster**: Kapselung der Aufgabenbearbeitung mit Undo/Redo-Funktionen\n",
    "- **Observer-Muster**: Fortschrittsverfolgung und ereignisgesteuerte Updates\n",
    "\n",
    "## 🏗️ Technische Architektur\n",
    "\n",
    "### Komponenten des Planungssystems\n",
    "- **Microsoft Agent Framework**: Python-Implementierung mit Unterstützung für fortgeschrittene Planung\n",
    "- **GitHub-Modelle-Integration**: Hochleistungsfähige Entscheidungsfindung und Argumentation\n",
    "- **Aufgabenorchestrierung**: Koordinierte Ausführung komplexer Arbeitsabläufe  \n",
    "- **Zustandsmanagement**: Persistente Verfolgung von Planungsfortschritt und Ergebnissen\n",
    "\n",
    "### Ablauf des Planungsprozesses\n",
    "```python\n",
    "Complex Goal → Task Analysis → Subtask Decomposition → Execution Planning\n",
    "                ↓                    ↓                    ↓\n",
    "         Priority Assessment → Resource Allocation → Sequential Execution\n",
    "                ↓                    ↓                    ↓\n",
    "         Progress Monitoring → Adaptive Replanning → Goal Achievement\n",
    "```\n",
    "\n",
    "## 🧠 Planungsmethoden\n",
    "\n",
    "### 1. **Hierarchische Aufgabenplanung**\n",
    "- Top-down-Zerlegung komplexer Ziele\n",
    "- Verschachtelte Zielstrukturen mit Abhängigkeiten\n",
    "- Rekursive Planung für Unterziele\n",
    "- Effiziente Ressourcenzuweisung über Ebenen hinweg\n",
    "\n",
    "### 2. **Sequentielle Planung**\n",
    "- Schrittweise Aufgabenbearbeitung mit klaren Abhängigkeiten\n",
    "- Fehlerbehandlung und Wiederherstellung in jeder Phase\n",
    "- Fortschrittskontrollen und Validierung\n",
    "- Rücksetzfunktionen für fehlgeschlagene Schritte\n",
    "\n",
    "### 3. **Parallele Planung**\n",
    "- Gleichzeitige Ausführung unabhängiger Aufgaben\n",
    "- Ressourcensynchronisation und Konfliktlösung\n",
    "- Leistungsoptimierung durch Parallelisierung\n",
    "- Koordinierter Abschluss und Ergebnisaggregation\n",
    "\n",
    "## ⚙️ Voraussetzungen & Einrichtung\n",
    "\n",
    "**Erforderliche Abhängigkeiten:**\n",
    "```bash\n",
    "\n",
    "pip install agent-framework-core -U\n",
    "```\n",
    "\n",
    "**Umgebungskonfiguration (.env-Datei):**\n",
    "```env\n",
    "GITHUB_TOKEN=your_github_personal_access_token\n",
    "GITHUB_ENDPOINT=https://models.inference.ai.azure.com\n",
    "GITHUB_MODEL_ID=gpt-4o-mini\n",
    "```\n",
    "\n",
    "## 🎨 Designmuster für die Planung\n",
    "\n",
    "### Zielorientierte Planung\n",
    "- **SMART-Ziele**: Spezifische, messbare, erreichbare, relevante und zeitgebundene Ziele\n",
    "- **Meilensteinverfolgung**: Fortschrittsmessung und Validierungskontrollen\n",
    "- **Erfolgskriterien**: Klare Definitionen für den Abschluss von Aufgaben\n",
    "- **Adaptive Strategien**: Dynamische Planungsanpassung basierend auf Feedback\n",
    "\n",
    "### Ressourcenbewusste Planung\n",
    "- **Fähigkeitsbewertung**: Verständnis der verfügbaren Werkzeuge und ihrer Grenzen\n",
    "- **Lastverteilung**: Optimale Verteilung von Aufgaben auf verfügbare Ressourcen\n",
    "- **Einschränkungsmanagement**: Arbeiten innerhalb von System- und API-Beschränkungen\n",
    "- **Leistungsoptimierung**: Maximierung der Effizienz und Minimierung der Latenz\n",
    "\n",
    "### Fehlerresistente Planung\n",
    "- **Fehlererkennung**: Frühe Identifikation von Planungs- oder Ausführungsproblemen\n",
    "- **Wiederherstellungsstrategien**: Automatische Rückfalloptionen und alternative Ansätze\n",
    "- **Zustandserhaltung**: Fortschritt während der Fehlerbehebung aufrechterhalten\n",
    "- **Sanfte Degradierung**: Teilweiser Erfolg, wenn vollständige Fertigstellung nicht möglich ist\n",
    "\n",
    "## 🚀 Erweiterte Planungsfunktionen\n",
    "\n",
    "- **Meta-Planung**: Agenten, die planen, wie sie planen sollen\n",
    "- **Kollaborative Planung**: Koordination mehrerer Agenten für komplexe Projekte\n",
    "- **Lernen aus Erfahrung**: Verbesserung der Planungsstrategien im Laufe der Zeit\n",
    "- **Echtzeit-Anpassung**: Dynamische Neuplanung basierend auf sich ändernden Bedingungen\n",
    "\n",
    "## 📊 Anwendungsfälle & Einsatzmöglichkeiten\n",
    "\n",
    "### Automatisierung von Geschäftsprozessen\n",
    "- Projektmanagement und Aufgabenplanung\n",
    "- Workflow-Optimierung und Ressourcenzuweisung\n",
    "- Strategische Planung und Entscheidungsunterstützung\n",
    "- Prozessverbesserung und Automatisierung\n",
    "\n",
    "### Forschung & Analyse\n",
    "- Literaturrecherche und Synthese\n",
    "- Planung von Datenanalyse-Pipelines\n",
    "- Experimentdesign und -durchführung\n",
    "- Berichtserstellung und -formatierung\n",
    "\n",
    "### Kreative Projekte\n",
    "- Workflows für die Inhaltserstellung\n",
    "- Koordination von Multimedia-Projekten\n",
    "- Kampagnenplanung und -durchführung\n",
    "- Veranstaltungsorganisation und -management\n",
    "\n",
    "Bereit, intelligente Planungsagenten zu entwickeln, die komplexe, mehrstufige Herausforderungen bewältigen können? Lassen Sie uns anspruchsvolle Problemlösungsfähigkeiten entwerfen! 🧠✨\n"
   ]
  },
  {
   "cell_type": "code",
   "execution_count": 1,
   "id": "7d9d6188",
   "metadata": {},
   "outputs": [
    {
     "name": "stdout",
     "output_type": "stream",
     "text": [
      "Requirement already satisfied: agent-framework-core in c:\\users\\kinfeylo\\appdata\\local\\miniforge3\\envs\\agentenv\\lib\\site-packages (1.0.0b251001)\n",
      "Requirement already satisfied: openai>=1.99.0 in c:\\users\\kinfeylo\\appdata\\local\\miniforge3\\envs\\agentenv\\lib\\site-packages (from agent-framework-core) (1.106.1)\n",
      "Requirement already satisfied: pydantic<3,>=2 in c:\\users\\kinfeylo\\appdata\\local\\miniforge3\\envs\\agentenv\\lib\\site-packages (from agent-framework-core) (2.11.9)\n",
      "Requirement already satisfied: pydantic-settings<3,>=2 in c:\\users\\kinfeylo\\appdata\\local\\miniforge3\\envs\\agentenv\\lib\\site-packages (from agent-framework-core) (2.10.1)\n",
      "Requirement already satisfied: typing-extensions in c:\\users\\kinfeylo\\appdata\\local\\miniforge3\\envs\\agentenv\\lib\\site-packages (from agent-framework-core) (4.15.0)\n",
      "Requirement already satisfied: opentelemetry-api>=1.24 in c:\\users\\kinfeylo\\appdata\\local\\miniforge3\\envs\\agentenv\\lib\\site-packages (from agent-framework-core) (1.36.0)\n",
      "Requirement already satisfied: opentelemetry-sdk>=1.24 in c:\\users\\kinfeylo\\appdata\\local\\miniforge3\\envs\\agentenv\\lib\\site-packages (from agent-framework-core) (1.36.0)\n",
      "Requirement already satisfied: mcp>=1.13 in c:\\users\\kinfeylo\\appdata\\local\\miniforge3\\envs\\agentenv\\lib\\site-packages (from mcp[ws]>=1.13->agent-framework-core) (1.13.1)\n",
      "Requirement already satisfied: azure-monitor-opentelemetry>=1.7.0 in c:\\users\\kinfeylo\\appdata\\local\\miniforge3\\envs\\agentenv\\lib\\site-packages (from agent-framework-core) (1.8.0)\n",
      "Requirement already satisfied: azure-monitor-opentelemetry-exporter>=1.0.0b41 in c:\\users\\kinfeylo\\appdata\\local\\miniforge3\\envs\\agentenv\\lib\\site-packages (from agent-framework-core) (1.0.0b41)\n",
      "Requirement already satisfied: opentelemetry-exporter-otlp-proto-grpc>=1.36.0 in c:\\users\\kinfeylo\\appdata\\local\\miniforge3\\envs\\agentenv\\lib\\site-packages (from agent-framework-core) (1.36.0)\n",
      "Requirement already satisfied: opentelemetry-semantic-conventions-ai>=0.4.13 in c:\\users\\kinfeylo\\appdata\\local\\miniforge3\\envs\\agentenv\\lib\\site-packages (from agent-framework-core) (0.4.13)\n",
      "Requirement already satisfied: aiofiles>=24.1.0 in c:\\users\\kinfeylo\\appdata\\local\\miniforge3\\envs\\agentenv\\lib\\site-packages (from agent-framework-core) (24.1.0)\n",
      "Requirement already satisfied: azure-identity<2,>=1 in c:\\users\\kinfeylo\\appdata\\local\\miniforge3\\envs\\agentenv\\lib\\site-packages (from agent-framework-core) (1.24.0)\n",
      "Requirement already satisfied: azure-core>=1.31.0 in c:\\users\\kinfeylo\\appdata\\local\\miniforge3\\envs\\agentenv\\lib\\site-packages (from azure-identity<2,>=1->agent-framework-core) (1.35.0)\n",
      "Requirement already satisfied: cryptography>=2.5 in c:\\users\\kinfeylo\\appdata\\local\\miniforge3\\envs\\agentenv\\lib\\site-packages (from azure-identity<2,>=1->agent-framework-core) (45.0.7)\n",
      "Requirement already satisfied: msal>=1.30.0 in c:\\users\\kinfeylo\\appdata\\local\\miniforge3\\envs\\agentenv\\lib\\site-packages (from azure-identity<2,>=1->agent-framework-core) (1.33.0)\n",
      "Requirement already satisfied: msal-extensions>=1.2.0 in c:\\users\\kinfeylo\\appdata\\local\\miniforge3\\envs\\agentenv\\lib\\site-packages (from azure-identity<2,>=1->agent-framework-core) (1.3.1)\n",
      "Requirement already satisfied: annotated-types>=0.6.0 in c:\\users\\kinfeylo\\appdata\\local\\miniforge3\\envs\\agentenv\\lib\\site-packages (from pydantic<3,>=2->agent-framework-core) (0.7.0)\n",
      "Requirement already satisfied: pydantic-core==2.33.2 in c:\\users\\kinfeylo\\appdata\\local\\miniforge3\\envs\\agentenv\\lib\\site-packages (from pydantic<3,>=2->agent-framework-core) (2.33.2)\n",
      "Requirement already satisfied: typing-inspection>=0.4.0 in c:\\users\\kinfeylo\\appdata\\local\\miniforge3\\envs\\agentenv\\lib\\site-packages (from pydantic<3,>=2->agent-framework-core) (0.4.1)\n",
      "Requirement already satisfied: python-dotenv>=0.21.0 in c:\\users\\kinfeylo\\appdata\\local\\miniforge3\\envs\\agentenv\\lib\\site-packages (from pydantic-settings<3,>=2->agent-framework-core) (1.1.1)\n",
      "Requirement already satisfied: requests>=2.21.0 in c:\\users\\kinfeylo\\appdata\\local\\miniforge3\\envs\\agentenv\\lib\\site-packages (from azure-core>=1.31.0->azure-identity<2,>=1->agent-framework-core) (2.32.5)\n",
      "Requirement already satisfied: six>=1.11.0 in c:\\users\\kinfeylo\\appdata\\local\\miniforge3\\envs\\agentenv\\lib\\site-packages (from azure-core>=1.31.0->azure-identity<2,>=1->agent-framework-core) (1.17.0)\n",
      "Requirement already satisfied: azure-core-tracing-opentelemetry~=1.0.0b11 in c:\\users\\kinfeylo\\appdata\\local\\miniforge3\\envs\\agentenv\\lib\\site-packages (from azure-monitor-opentelemetry>=1.7.0->agent-framework-core) (1.0.0b12)\n",
      "Requirement already satisfied: opentelemetry-instrumentation-django~=0.57b0 in c:\\users\\kinfeylo\\appdata\\local\\miniforge3\\envs\\agentenv\\lib\\site-packages (from azure-monitor-opentelemetry>=1.7.0->agent-framework-core) (0.57b0)\n",
      "Requirement already satisfied: opentelemetry-instrumentation-fastapi~=0.57b0 in c:\\users\\kinfeylo\\appdata\\local\\miniforge3\\envs\\agentenv\\lib\\site-packages (from azure-monitor-opentelemetry>=1.7.0->agent-framework-core) (0.57b0)\n",
      "Requirement already satisfied: opentelemetry-instrumentation-flask~=0.57b0 in c:\\users\\kinfeylo\\appdata\\local\\miniforge3\\envs\\agentenv\\lib\\site-packages (from azure-monitor-opentelemetry>=1.7.0->agent-framework-core) (0.57b0)\n",
      "Requirement already satisfied: opentelemetry-instrumentation-psycopg2~=0.57b0 in c:\\users\\kinfeylo\\appdata\\local\\miniforge3\\envs\\agentenv\\lib\\site-packages (from azure-monitor-opentelemetry>=1.7.0->agent-framework-core) (0.57b0)\n",
      "Requirement already satisfied: opentelemetry-instrumentation-requests~=0.57b0 in c:\\users\\kinfeylo\\appdata\\local\\miniforge3\\envs\\agentenv\\lib\\site-packages (from azure-monitor-opentelemetry>=1.7.0->agent-framework-core) (0.57b0)\n",
      "Requirement already satisfied: opentelemetry-instrumentation-urllib~=0.57b0 in c:\\users\\kinfeylo\\appdata\\local\\miniforge3\\envs\\agentenv\\lib\\site-packages (from azure-monitor-opentelemetry>=1.7.0->agent-framework-core) (0.57b0)\n",
      "Requirement already satisfied: opentelemetry-instrumentation-urllib3~=0.57b0 in c:\\users\\kinfeylo\\appdata\\local\\miniforge3\\envs\\agentenv\\lib\\site-packages (from azure-monitor-opentelemetry>=1.7.0->agent-framework-core) (0.57b0)\n",
      "Requirement already satisfied: opentelemetry-resource-detector-azure~=0.1.5 in c:\\users\\kinfeylo\\appdata\\local\\miniforge3\\envs\\agentenv\\lib\\site-packages (from azure-monitor-opentelemetry>=1.7.0->agent-framework-core) (0.1.5)\n",
      "Requirement already satisfied: fixedint==0.1.6 in c:\\users\\kinfeylo\\appdata\\local\\miniforge3\\envs\\agentenv\\lib\\site-packages (from azure-monitor-opentelemetry-exporter>=1.0.0b41->agent-framework-core) (0.1.6)\n",
      "Requirement already satisfied: msrest>=0.6.10 in c:\\users\\kinfeylo\\appdata\\local\\miniforge3\\envs\\agentenv\\lib\\site-packages (from azure-monitor-opentelemetry-exporter>=1.0.0b41->agent-framework-core) (0.7.1)\n",
      "Requirement already satisfied: psutil<8,>=5.9 in c:\\users\\kinfeylo\\appdata\\local\\miniforge3\\envs\\agentenv\\lib\\site-packages (from azure-monitor-opentelemetry-exporter>=1.0.0b41->agent-framework-core) (7.0.0)\n",
      "Requirement already satisfied: importlib-metadata<8.8.0,>=6.0 in c:\\users\\kinfeylo\\appdata\\local\\miniforge3\\envs\\agentenv\\lib\\site-packages (from opentelemetry-api>=1.24->agent-framework-core) (8.7.0)\n",
      "Requirement already satisfied: zipp>=3.20 in c:\\users\\kinfeylo\\appdata\\local\\miniforge3\\envs\\agentenv\\lib\\site-packages (from importlib-metadata<8.8.0,>=6.0->opentelemetry-api>=1.24->agent-framework-core) (3.23.0)\n",
      "Requirement already satisfied: opentelemetry-instrumentation-wsgi==0.57b0 in c:\\users\\kinfeylo\\appdata\\local\\miniforge3\\envs\\agentenv\\lib\\site-packages (from opentelemetry-instrumentation-django~=0.57b0->azure-monitor-opentelemetry>=1.7.0->agent-framework-core) (0.57b0)\n",
      "Requirement already satisfied: opentelemetry-instrumentation==0.57b0 in c:\\users\\kinfeylo\\appdata\\local\\miniforge3\\envs\\agentenv\\lib\\site-packages (from opentelemetry-instrumentation-django~=0.57b0->azure-monitor-opentelemetry>=1.7.0->agent-framework-core) (0.57b0)\n",
      "Requirement already satisfied: opentelemetry-semantic-conventions==0.57b0 in c:\\users\\kinfeylo\\appdata\\local\\miniforge3\\envs\\agentenv\\lib\\site-packages (from opentelemetry-instrumentation-django~=0.57b0->azure-monitor-opentelemetry>=1.7.0->agent-framework-core) (0.57b0)\n",
      "Requirement already satisfied: opentelemetry-util-http==0.57b0 in c:\\users\\kinfeylo\\appdata\\local\\miniforge3\\envs\\agentenv\\lib\\site-packages (from opentelemetry-instrumentation-django~=0.57b0->azure-monitor-opentelemetry>=1.7.0->agent-framework-core) (0.57b0)\n",
      "Requirement already satisfied: packaging>=18.0 in c:\\users\\kinfeylo\\appdata\\local\\miniforge3\\envs\\agentenv\\lib\\site-packages (from opentelemetry-instrumentation==0.57b0->opentelemetry-instrumentation-django~=0.57b0->azure-monitor-opentelemetry>=1.7.0->agent-framework-core) (25.0)\n",
      "Requirement already satisfied: wrapt<2.0.0,>=1.0.0 in c:\\users\\kinfeylo\\appdata\\local\\miniforge3\\envs\\agentenv\\lib\\site-packages (from opentelemetry-instrumentation==0.57b0->opentelemetry-instrumentation-django~=0.57b0->azure-monitor-opentelemetry>=1.7.0->agent-framework-core) (1.17.3)\n",
      "Requirement already satisfied: opentelemetry-instrumentation-asgi==0.57b0 in c:\\users\\kinfeylo\\appdata\\local\\miniforge3\\envs\\agentenv\\lib\\site-packages (from opentelemetry-instrumentation-fastapi~=0.57b0->azure-monitor-opentelemetry>=1.7.0->agent-framework-core) (0.57b0)\n",
      "Requirement already satisfied: asgiref~=3.0 in c:\\users\\kinfeylo\\appdata\\local\\miniforge3\\envs\\agentenv\\lib\\site-packages (from opentelemetry-instrumentation-asgi==0.57b0->opentelemetry-instrumentation-fastapi~=0.57b0->azure-monitor-opentelemetry>=1.7.0->agent-framework-core) (3.9.1)\n",
      "Requirement already satisfied: opentelemetry-instrumentation-dbapi==0.57b0 in c:\\users\\kinfeylo\\appdata\\local\\miniforge3\\envs\\agentenv\\lib\\site-packages (from opentelemetry-instrumentation-psycopg2~=0.57b0->azure-monitor-opentelemetry>=1.7.0->agent-framework-core) (0.57b0)\n",
      "Requirement already satisfied: cffi>=1.14 in c:\\users\\kinfeylo\\appdata\\local\\miniforge3\\envs\\agentenv\\lib\\site-packages (from cryptography>=2.5->azure-identity<2,>=1->agent-framework-core) (1.17.1)\n",
      "Requirement already satisfied: pycparser in c:\\users\\kinfeylo\\appdata\\local\\miniforge3\\envs\\agentenv\\lib\\site-packages (from cffi>=1.14->cryptography>=2.5->azure-identity<2,>=1->agent-framework-core) (2.22)\n",
      "Requirement already satisfied: anyio>=4.5 in c:\\users\\kinfeylo\\appdata\\local\\miniforge3\\envs\\agentenv\\lib\\site-packages (from mcp>=1.13->mcp[ws]>=1.13->agent-framework-core) (4.10.0)\n",
      "Requirement already satisfied: httpx-sse>=0.4 in c:\\users\\kinfeylo\\appdata\\local\\miniforge3\\envs\\agentenv\\lib\\site-packages (from mcp>=1.13->mcp[ws]>=1.13->agent-framework-core) (0.4.1)\n",
      "Requirement already satisfied: httpx>=0.27.1 in c:\\users\\kinfeylo\\appdata\\local\\miniforge3\\envs\\agentenv\\lib\\site-packages (from mcp>=1.13->mcp[ws]>=1.13->agent-framework-core) (0.28.1)\n",
      "Requirement already satisfied: jsonschema>=4.20.0 in c:\\users\\kinfeylo\\appdata\\local\\miniforge3\\envs\\agentenv\\lib\\site-packages (from mcp>=1.13->mcp[ws]>=1.13->agent-framework-core) (4.25.1)\n",
      "Requirement already satisfied: python-multipart>=0.0.9 in c:\\users\\kinfeylo\\appdata\\local\\miniforge3\\envs\\agentenv\\lib\\site-packages (from mcp>=1.13->mcp[ws]>=1.13->agent-framework-core) (0.0.20)\n",
      "Requirement already satisfied: pywin32>=310 in c:\\users\\kinfeylo\\appdata\\local\\miniforge3\\envs\\agentenv\\lib\\site-packages (from mcp>=1.13->mcp[ws]>=1.13->agent-framework-core) (311)\n",
      "Requirement already satisfied: sse-starlette>=1.6.1 in c:\\users\\kinfeylo\\appdata\\local\\miniforge3\\envs\\agentenv\\lib\\site-packages (from mcp>=1.13->mcp[ws]>=1.13->agent-framework-core) (3.0.2)\n",
      "Requirement already satisfied: starlette>=0.27 in c:\\users\\kinfeylo\\appdata\\local\\miniforge3\\envs\\agentenv\\lib\\site-packages (from mcp>=1.13->mcp[ws]>=1.13->agent-framework-core) (0.47.3)\n",
      "Requirement already satisfied: uvicorn>=0.31.1 in c:\\users\\kinfeylo\\appdata\\local\\miniforge3\\envs\\agentenv\\lib\\site-packages (from mcp>=1.13->mcp[ws]>=1.13->agent-framework-core) (0.35.0)\n",
      "Requirement already satisfied: idna>=2.8 in c:\\users\\kinfeylo\\appdata\\local\\miniforge3\\envs\\agentenv\\lib\\site-packages (from anyio>=4.5->mcp>=1.13->mcp[ws]>=1.13->agent-framework-core) (3.10)\n",
      "Requirement already satisfied: sniffio>=1.1 in c:\\users\\kinfeylo\\appdata\\local\\miniforge3\\envs\\agentenv\\lib\\site-packages (from anyio>=4.5->mcp>=1.13->mcp[ws]>=1.13->agent-framework-core) (1.3.1)\n",
      "Requirement already satisfied: certifi in c:\\users\\kinfeylo\\appdata\\local\\miniforge3\\envs\\agentenv\\lib\\site-packages (from httpx>=0.27.1->mcp>=1.13->mcp[ws]>=1.13->agent-framework-core) (2025.8.3)\n",
      "Requirement already satisfied: httpcore==1.* in c:\\users\\kinfeylo\\appdata\\local\\miniforge3\\envs\\agentenv\\lib\\site-packages (from httpx>=0.27.1->mcp>=1.13->mcp[ws]>=1.13->agent-framework-core) (1.0.9)\n",
      "Requirement already satisfied: h11>=0.16 in c:\\users\\kinfeylo\\appdata\\local\\miniforge3\\envs\\agentenv\\lib\\site-packages (from httpcore==1.*->httpx>=0.27.1->mcp>=1.13->mcp[ws]>=1.13->agent-framework-core) (0.16.0)\n",
      "Requirement already satisfied: attrs>=22.2.0 in c:\\users\\kinfeylo\\appdata\\local\\miniforge3\\envs\\agentenv\\lib\\site-packages (from jsonschema>=4.20.0->mcp>=1.13->mcp[ws]>=1.13->agent-framework-core) (25.3.0)\n",
      "Requirement already satisfied: jsonschema-specifications>=2023.03.6 in c:\\users\\kinfeylo\\appdata\\local\\miniforge3\\envs\\agentenv\\lib\\site-packages (from jsonschema>=4.20.0->mcp>=1.13->mcp[ws]>=1.13->agent-framework-core) (2025.4.1)\n",
      "Requirement already satisfied: referencing>=0.28.4 in c:\\users\\kinfeylo\\appdata\\local\\miniforge3\\envs\\agentenv\\lib\\site-packages (from jsonschema>=4.20.0->mcp>=1.13->mcp[ws]>=1.13->agent-framework-core) (0.36.2)\n",
      "Requirement already satisfied: rpds-py>=0.7.1 in c:\\users\\kinfeylo\\appdata\\local\\miniforge3\\envs\\agentenv\\lib\\site-packages (from jsonschema>=4.20.0->mcp>=1.13->mcp[ws]>=1.13->agent-framework-core) (0.27.1)\n",
      "Requirement already satisfied: websockets>=15.0.1 in c:\\users\\kinfeylo\\appdata\\local\\miniforge3\\envs\\agentenv\\lib\\site-packages (from mcp[ws]>=1.13->agent-framework-core) (15.0.1)\n",
      "Requirement already satisfied: PyJWT<3,>=1.0.0 in c:\\users\\kinfeylo\\appdata\\local\\miniforge3\\envs\\agentenv\\lib\\site-packages (from PyJWT[crypto]<3,>=1.0.0->msal>=1.30.0->azure-identity<2,>=1->agent-framework-core) (2.10.1)\n",
      "Requirement already satisfied: charset_normalizer<4,>=2 in c:\\users\\kinfeylo\\appdata\\local\\miniforge3\\envs\\agentenv\\lib\\site-packages (from requests>=2.21.0->azure-core>=1.31.0->azure-identity<2,>=1->agent-framework-core) (3.4.3)\n",
      "Requirement already satisfied: urllib3<3,>=1.21.1 in c:\\users\\kinfeylo\\appdata\\local\\miniforge3\\envs\\agentenv\\lib\\site-packages (from requests>=2.21.0->azure-core>=1.31.0->azure-identity<2,>=1->agent-framework-core) (2.5.0)\n",
      "Requirement already satisfied: isodate>=0.6.0 in c:\\users\\kinfeylo\\appdata\\local\\miniforge3\\envs\\agentenv\\lib\\site-packages (from msrest>=0.6.10->azure-monitor-opentelemetry-exporter>=1.0.0b41->agent-framework-core) (0.7.2)\n",
      "Requirement already satisfied: requests-oauthlib>=0.5.0 in c:\\users\\kinfeylo\\appdata\\local\\miniforge3\\envs\\agentenv\\lib\\site-packages (from msrest>=0.6.10->azure-monitor-opentelemetry-exporter>=1.0.0b41->agent-framework-core) (2.0.0)\n",
      "Requirement already satisfied: distro<2,>=1.7.0 in c:\\users\\kinfeylo\\appdata\\local\\miniforge3\\envs\\agentenv\\lib\\site-packages (from openai>=1.99.0->agent-framework-core) (1.9.0)\n",
      "Requirement already satisfied: jiter<1,>=0.4.0 in c:\\users\\kinfeylo\\appdata\\local\\miniforge3\\envs\\agentenv\\lib\\site-packages (from openai>=1.99.0->agent-framework-core) (0.10.0)\n",
      "Requirement already satisfied: tqdm>4 in c:\\users\\kinfeylo\\appdata\\local\\miniforge3\\envs\\agentenv\\lib\\site-packages (from openai>=1.99.0->agent-framework-core) (4.67.1)\n",
      "Requirement already satisfied: googleapis-common-protos~=1.57 in c:\\users\\kinfeylo\\appdata\\local\\miniforge3\\envs\\agentenv\\lib\\site-packages (from opentelemetry-exporter-otlp-proto-grpc>=1.36.0->agent-framework-core) (1.70.0)\n",
      "Requirement already satisfied: grpcio<2.0.0,>=1.63.2 in c:\\users\\kinfeylo\\appdata\\local\\miniforge3\\envs\\agentenv\\lib\\site-packages (from opentelemetry-exporter-otlp-proto-grpc>=1.36.0->agent-framework-core) (1.74.0)\n",
      "Requirement already satisfied: opentelemetry-exporter-otlp-proto-common==1.36.0 in c:\\users\\kinfeylo\\appdata\\local\\miniforge3\\envs\\agentenv\\lib\\site-packages (from opentelemetry-exporter-otlp-proto-grpc>=1.36.0->agent-framework-core) (1.36.0)\n",
      "Requirement already satisfied: opentelemetry-proto==1.36.0 in c:\\users\\kinfeylo\\appdata\\local\\miniforge3\\envs\\agentenv\\lib\\site-packages (from opentelemetry-exporter-otlp-proto-grpc>=1.36.0->agent-framework-core) (1.36.0)\n",
      "Requirement already satisfied: protobuf<7.0,>=5.0 in c:\\users\\kinfeylo\\appdata\\local\\miniforge3\\envs\\agentenv\\lib\\site-packages (from opentelemetry-proto==1.36.0->opentelemetry-exporter-otlp-proto-grpc>=1.36.0->agent-framework-core) (5.29.5)\n",
      "Requirement already satisfied: oauthlib>=3.0.0 in c:\\users\\kinfeylo\\appdata\\local\\miniforge3\\envs\\agentenv\\lib\\site-packages (from requests-oauthlib>=0.5.0->msrest>=0.6.10->azure-monitor-opentelemetry-exporter>=1.0.0b41->agent-framework-core) (3.3.1)\n",
      "Requirement already satisfied: colorama in c:\\users\\kinfeylo\\appdata\\local\\miniforge3\\envs\\agentenv\\lib\\site-packages (from tqdm>4->openai>=1.99.0->agent-framework-core) (0.4.6)\n",
      "Requirement already satisfied: click>=7.0 in c:\\users\\kinfeylo\\appdata\\local\\miniforge3\\envs\\agentenv\\lib\\site-packages (from uvicorn>=0.31.1->mcp>=1.13->mcp[ws]>=1.13->agent-framework-core) (8.2.1)\n"
     ]
    }
   ],
   "source": [
    "\n",
    "! pip install agent-framework-core -U "
   ]
  },
  {
   "cell_type": "code",
   "execution_count": 2,
   "id": "b6280fda",
   "metadata": {},
   "outputs": [],
   "source": [
    "# 📦 Import Standard Libraries\n",
    "# os: For environment variable access\n",
    "# dotenv: For loading environment variables from .env file\n",
    "import os\n",
    "\n",
    "from dotenv import load_dotenv"
   ]
  },
  {
   "cell_type": "code",
   "execution_count": 3,
   "id": "3bd855d5",
   "metadata": {},
   "outputs": [],
   "source": [
    "# 📝 Import Data Modeling Libraries\n",
    "# Pydantic: For data validation and structured outputs\n",
    "# BaseModel: Base class for creating data models\n",
    "# Field: For adding metadata and validation to model fields\n",
    "# List: Type hint for list collections\n",
    "from pydantic import BaseModel, Field\n",
    "from typing import List"
   ]
  },
  {
   "cell_type": "code",
   "execution_count": 4,
   "id": "b63147e1",
   "metadata": {},
   "outputs": [],
   "source": [
    "# 🤖 Import Microsoft Agent Framework Components\n",
    "# ChatMessage: For creating structured chat messages\n",
    "# Role: Enum for message roles (user, assistant, system)\n",
    "# ChatOptions: Configuration options for chat interactions\n",
    "# OpenAIChatClient: Client for OpenAI-compatible APIs (GitHub Models)\n",
    "from agent_framework import ChatMessage, Role, ChatOptions\n",
    "from agent_framework.openai import OpenAIChatClient"
   ]
  },
  {
   "cell_type": "code",
   "execution_count": 5,
   "id": "d95ec338",
   "metadata": {},
   "outputs": [
    {
     "data": {
      "text/plain": [
       "True"
      ]
     },
     "execution_count": 5,
     "metadata": {},
     "output_type": "execute_result"
    }
   ],
   "source": [
    "# 🔧 Load Environment Variables\n",
    "# Load configuration from .env file\n",
    "# Required: GITHUB_ENDPOINT, GITHUB_TOKEN, GITHUB_MODEL_ID\n",
    "load_dotenv()"
   ]
  },
  {
   "cell_type": "code",
   "execution_count": 6,
   "id": "baeb5915",
   "metadata": {},
   "outputs": [],
   "source": [
    "# 🎯 Agent Configuration\n",
    "# Define the agent's name and role\n",
    "\n",
    "AGENT_NAME = \"TravelAgent\"\n",
    "\n",
    "# 📋 System Instructions for Planning Agent\n",
    "# This agent acts as a coordinator that decides which specialized agents to use\n",
    "AGENT_INSTRUCTIONS = \"\"\"You are a planner agent.\n",
    "    Your job is to decide which agents to run based on the user's request.\n",
    "    Below are the available agents specialized in different tasks:\n",
    "    - FlightBooking: For booking flights and providing flight information\n",
    "    - HotelBooking: For booking hotels and providing hotel information\n",
    "    - CarRental: For booking cars and providing car rental information\n",
    "    - ActivitiesBooking: For booking activities and providing activity information\n",
    "\"\"\"\n"
   ]
  },
  {
   "cell_type": "code",
   "execution_count": 7,
   "id": "556b40c1",
   "metadata": {},
   "outputs": [],
   "source": [
    "class SubTask(BaseModel):\n",
    "    assigned_agent: str = Field(\n",
    "        description=\"The specific agent assigned to handle this subtask\")\n",
    "    task_details: str = Field(\n",
    "        description=\"Detailed description of what needs to be done for this subtask\")\n",
    "\n",
    "\n",
    "class TravelPlan(BaseModel):\n",
    "    main_task: str = Field(\n",
    "        description=\"The overall travel request from the user\")\n",
    "    subtasks: List[SubTask] = Field(\n",
    "        description=\"List of subtasks broken down from the main task, each assigned to a specialized agent\")"
   ]
  },
  {
   "cell_type": "code",
   "execution_count": 8,
   "id": "3c16e0df",
   "metadata": {},
   "outputs": [],
   "source": [
    "options = ChatOptions(response_format=TravelPlan)"
   ]
  },
  {
   "cell_type": "code",
   "execution_count": 9,
   "id": "a312a074",
   "metadata": {},
   "outputs": [],
   "source": [
    "client = OpenAIChatClient(base_url=os.environ.get(\"GITHUB_ENDPOINT\"), api_key=os.environ.get(\"GITHUB_TOKEN\"), model_id=os.environ.get(\"GITHUB_MODEL_ID\"))"
   ]
  },
  {
   "cell_type": "code",
   "execution_count": 10,
   "id": "374e70ee",
   "metadata": {},
   "outputs": [],
   "source": [
    "agent =  client.create_agent(name= AGENT_NAME , instructions=AGENT_INSTRUCTIONS)"
   ]
  },
  {
   "cell_type": "code",
   "execution_count": 11,
   "id": "cde85093",
   "metadata": {},
   "outputs": [],
   "source": [
    "messages = [\n",
    "        ChatMessage(role=Role.USER, text=\"Create a travel plan for a family of 4, with 2 kids, from Singapore to Melbourne\")\n",
    "    ]"
   ]
  },
  {
   "cell_type": "code",
   "execution_count": 12,
   "id": "781c7c2a",
   "metadata": {},
   "outputs": [],
   "source": [
    "response = await agent.run(messages,response_format=TravelPlan)"
   ]
  },
  {
   "cell_type": "code",
   "execution_count": 13,
   "id": "25b44f81",
   "metadata": {},
   "outputs": [
    {
     "data": {
      "text/plain": [
       "'{\"main_task\":\"Plan a family trip from Singapore to Melbourne for 4 people, including 2 kids.\",\"subtasks\":[{\"assigned_agent\":\"FlightBooking\",\"task_details\":\"Book one round-trip flight from Singapore to Melbourne for a family of 4, considering family-friendly options.\"},{\"assigned_agent\":\"HotelBooking\",\"task_details\":\"Find and book a family-friendly hotel in Melbourne that can accommodate 4 people, including 2 kids.\"},{\"assigned_agent\":\"CarRental\",\"task_details\":\"Arrange a car rental in Melbourne for the family to facilitate travel around the city.\"},{\"assigned_agent\":\"ActivitiesBooking\",\"task_details\":\"Provide a list of kid-friendly activities and attractions in Melbourne for the family to enjoy.\"}]}'"
      ]
     },
     "execution_count": 13,
     "metadata": {},
     "output_type": "execute_result"
    }
   ],
   "source": [
    "response.messages[0].text"
   ]
  },
  {
   "cell_type": "markdown",
   "metadata": {},
   "source": [
    "\n---\n\n**Haftungsausschluss**:  \nDieses Dokument wurde mit dem KI-Übersetzungsdienst [Co-op Translator](https://github.com/Azure/co-op-translator) übersetzt. Obwohl wir uns um Genauigkeit bemühen, beachten Sie bitte, dass automatisierte Übersetzungen Fehler oder Ungenauigkeiten enthalten können. Das Originaldokument in seiner ursprünglichen Sprache sollte als maßgebliche Quelle betrachtet werden. Für kritische Informationen wird eine professionelle menschliche Übersetzung empfohlen. Wir übernehmen keine Haftung für Missverständnisse oder Fehlinterpretationen, die sich aus der Nutzung dieser Übersetzung ergeben.\n"
   ]
  }
 ],
 "metadata": {
  "kernelspec": {
   "display_name": "agentenv",
   "language": "python",
   "name": "python3"
  },
  "language_info": {
   "codemirror_mode": {
    "name": "ipython",
    "version": 3
   },
   "file_extension": ".py",
   "mimetype": "text/x-python",
   "name": "python",
   "nbconvert_exporter": "python",
   "pygments_lexer": "ipython3",
   "version": "3.12.10"
  },
  "coopTranslator": {
   "original_hash": "895219f8bd5ab87c5bd640a6fce58ff8",
   "translation_date": "2025-10-01T22:15:50+00:00",
   "source_file": "07-planning-design/code_samples/07-python-agent-framework.ipynb",
   "language_code": "de"
  }
 },
 "nbformat": 4,
 "nbformat_minor": 5
}