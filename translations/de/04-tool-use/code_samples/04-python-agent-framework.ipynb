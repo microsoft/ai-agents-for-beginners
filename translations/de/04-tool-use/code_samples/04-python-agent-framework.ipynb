{
 "cells": [
  {
   "cell_type": "markdown",
   "id": "8744544f",
   "metadata": {},
   "source": [
    "# 🛠️ Erweiterte Werkzeugnutzung mit GitHub-Modellen (Python)\n",
    "\n",
    "## 📋 Lernziele\n",
    "\n",
    "Dieses Notebook zeigt fortgeschrittene Muster zur Integration von Werkzeugen mithilfe des Microsoft Agent Frameworks mit GitHub-Modellen. Sie lernen, wie Sie mehrere Werkzeuge erstellen, verwalten und orchestrieren, um anspruchsvolle Agentenfunktionen zu entwickeln.\n",
    "\n",
    "**Was Sie meistern werden:**\n",
    "- 🔧 **Multi-Tool-Architektur**: Aufbau von Agenten mit mehreren spezialisierten Werkzeugen\n",
    "- 🎯 **Werkzeugauswahl-Logik**: Wie Agenten das richtige Werkzeug für jede Aufgabe auswählen\n",
    "- 📊 **Datenverarbeitungswerkzeuge**: Erstellung von Werkzeugen, die verschiedene Datentypen verarbeiten\n",
    "- 🔗 **Werkzeugkomposition**: Kombination von Werkzeugen für komplexe Arbeitsabläufe\n",
    "\n",
    "## 🎯 Wichtige Werkzeugmuster\n",
    "\n",
    "### Prinzipien der Werkzeuggestaltung\n",
    "- **Einzelverantwortung**: Jedes Werkzeug hat einen klaren, fokussierten Zweck\n",
    "- **Typensicherheit**: Starke Typisierung für zuverlässige Werkzeugausführung\n",
    "- **Fehlerbehandlung**: Muster für ein reibungsloses Scheitern und Wiederherstellung\n",
    "- **Komponierbarkeit**: Werkzeuge, die gut zusammenarbeiten\n",
    "\n",
    "### Erweiterte Werkzeugfunktionen\n",
    "- **Kontextbewusstsein**: Werkzeuge, die den Gesprächskontext verstehen\n",
    "- **Datenvalidierung**: Eingabesäuberung und Ausgabevalidierung\n",
    "- **Leistungsoptimierung**: Effiziente Muster für die Werkzeugausführung\n",
    "- **Erweiterbarkeit**: Einfache Hinzufügung neuer Werkzeugfunktionen\n",
    "\n",
    "## 🔧 Technische Architektur\n",
    "\n",
    "### Kernkomponenten\n",
    "- **Microsoft Agent Framework**: Python-Implementierung mit Unterstützung für erweiterte Werkzeuge\n",
    "- **GitHub Models Integration**: Hochleistungs-Sprachmodellzugriff\n",
    "- **Werkzeugregistrierungssystem**: Organisierte Verwaltung der Agentenfunktionen\n",
    "- **Fehlerbehandlungsmuster**: Robuste Handhabung von Werkzeugausführungsfehlern\n",
    "\n",
    "### Werkzeug-Integrationsfluss\n",
    "```python\n",
    "User Request → Agent Analysis → Tool Selection → Tool Execution → Response Synthesis\n",
    "```\n",
    "\n",
    "## 🛠️ Demonstrierte Werkzeugkategorien\n",
    "\n",
    "### 1. **Werkzeuge zur Datengenerierung**\n",
    "- Zufälliger Zielort-Generator\n",
    "- Wetterinformationsanbieter  \n",
    "- Reisekostenrechner\n",
    "- Aktivitätsempfehlungs-Engine\n",
    "\n",
    "### 2. **Verarbeitungswerkzeuge**\n",
    "- Textformatierung und Validierung\n",
    "- Datenumwandlungswerkzeuge\n",
    "- Inhaltsanalysefunktionen\n",
    "- Antwortverbesserungswerkzeuge\n",
    "\n",
    "### 3. **Integrationswerkzeuge**\n",
    "- Externe API-Connectoren\n",
    "- Dateisystemoperationen\n",
    "- Datenbankabfrage-Schnittstellen\n",
    "- Web-Scraping-Werkzeuge\n",
    "\n",
    "## ⚙️ Voraussetzungen & Einrichtung\n",
    "\n",
    "**Erforderliche Abhängigkeiten:**\n",
    "```bash\n",
    "\n",
    "pip install agent-framework-core -U\n",
    "```\n",
    "\n",
    "**Umgebungskonfiguration (.env-Datei):**\n",
    "```env\n",
    "GITHUB_TOKEN=your_github_personal_access_token\n",
    "GITHUB_ENDPOINT=https://models.inference.ai.azure.com\n",
    "GITHUB_MODEL_ID=gpt-4o-mini\n",
    "```\n",
    "\n",
    "**Optionale APIs:**\n",
    "- API-Schlüssel für Wetterdienste (für Wetterwerkzeuge)\n",
    "- Zugang zur Währungsumrechnungs-API\n",
    "- Zugangsdaten für Reisedienstinformationen\n",
    "\n",
    "## 🎨 Entwurfsmuster\n",
    "\n",
    "### Werkzeugfabrik-Muster\n",
    "- Zentralisierte Erstellung und Konfiguration von Werkzeugen\n",
    "- Einheitliches Werkzeug-Schnittstellendesign\n",
    "- Einfache Registrierung und Auffindbarkeit von Werkzeugen\n",
    "\n",
    "### Kommando-Muster\n",
    "- Kapselung der Werkzeugausführungslogik\n",
    "- Undo/Redo-Funktionalität für komplexe Operationen\n",
    "- Protokollierung der Werkzeugnutzung\n",
    "\n",
    "### Beobachter-Muster\n",
    "- Überwachung der Werkzeugausführung\n",
    "- Sammlung von Leistungskennzahlen\n",
    "- Fehlerberichterstattung und Benachrichtigung\n",
    "\n",
    "## 🚀 Best Practices\n",
    "\n",
    "- **Werkzeugdokumentation**: Klare Beschreibungen für das Verständnis des Agenten\n",
    "- **Eingabevalidierung**: Robuste Parameterprüfung und Säuberung\n",
    "- **Ausgabeformatierung**: Konsistente, analysierbare Werkzeugantworten\n",
    "- **Fehlermeldungen**: Hilfreiche Fehlerinformationen für die Fehlersuche\n",
    "- **Leistung**: Optimierte Werkzeugausführung für schnelle Reaktionen\n",
    "\n",
    "Bereit, Agenten mit leistungsstarken Werkzeugfunktionen zu erstellen? Lassen Sie uns etwas Großartiges schaffen! ⚡\n"
   ]
  },
  {
   "cell_type": "code",
   "execution_count": null,
   "id": "59c0feeb",
   "metadata": {},
   "outputs": [],
   "source": [
    "! pip install agent-framework-core -U"
   ]
  },
  {
   "cell_type": "code",
   "execution_count": null,
   "id": "c0df8a52",
   "metadata": {},
   "outputs": [],
   "source": [
    "# � Import core dependencies for Agent Framework and tool integration\n",
    "# This sets up the essential libraries for building intelligent agents with tool capabilities\n",
    "\n",
    "import asyncio\n",
    "import os\n",
    "import json\n",
    "\n",
    "from dotenv import load_dotenv  # For loading environment variables securely\n",
    "from random import randint\n",
    "\n",
    "# These are the core components for building tool-enabled agents\n",
    "from agent_framework import ChatAgent           # Main agent class\n",
    "from agent_framework.openai import OpenAIChatClient  # OpenAI-compatible client"
   ]
  },
  {
   "cell_type": "code",
   "execution_count": null,
   "id": "24c10eb0",
   "metadata": {},
   "outputs": [],
   "source": [
    "load_dotenv()"
   ]
  },
  {
   "cell_type": "code",
   "execution_count": null,
   "id": "151e0314",
   "metadata": {},
   "outputs": [],
   "source": [
    "# 🔑 Environment variables verification\n",
    "# Ensure all required GitHub Models credentials are properly configured\n",
    "print(\"GITHUB_ENDPOINT:\", os.environ.get(\"GITHUB_ENDPOINT\"))\n",
    "print(\"GITHUB_TOKEN:\", \"***\" if os.environ.get(\"GITHUB_TOKEN\") else \"Not set\")\n",
    "print(\"GITHUB_MODEL_ID:\", os.environ.get(\"GITHUB_MODEL_ID\"))"
   ]
  },
  {
   "cell_type": "code",
   "execution_count": null,
   "id": "a6141584",
   "metadata": {},
   "outputs": [],
   "source": [
    "# 🧪 Test GitHub Models connectivity\n",
    "openai_chat_client = OpenAIChatClient(base_url=os.environ.get(\"GITHUB_ENDPOINT\"), api_key=os.environ.get(\"GITHUB_TOKEN\"), model_id=os.environ.get(\"GITHUB_MODEL_ID\"))"
   ]
  },
  {
   "cell_type": "code",
   "execution_count": null,
   "id": "a6507f83",
   "metadata": {},
   "outputs": [],
   "source": [
    "# 🛠️ Define travel planning tools for agent integration\n",
    "# These functions provide specific capabilities that the agent can invoke dynamically\n",
    "\n",
    "def get_random_destination() -> str:\n",
    "    \"\"\"\n",
    "    🎲 Random destination generator tool\n",
    "    Returns a randomly selected travel destination from curated list\n",
    "    Useful when customers need inspiration for their next vacation\n",
    "    \"\"\"\n",
    "    destinations = [\n",
    "        \"Paris, France\",\n",
    "        \"Tokyo, Japan\", \n",
    "        \"New York City, USA\",\n",
    "        \"London, England\",\n",
    "        \"Rome, Italy\",\n",
    "        \"Sydney, Australia\",\n",
    "        \"Dubai, UAE\",\n",
    "        \"Barcelona, Spain\",\n",
    "        \"Bangkok, Thailand\",\n",
    "        \"Amsterdam, Netherlands\",\n",
    "        \"Istanbul, Turkey\",\n",
    "        \"Prague, Czech Republic\",\n",
    "        \"Santorini, Greece\",\n",
    "        \"Reykjavik, Iceland\",\n",
    "        \"Marrakech, Morocco\",\n",
    "        \"Cape Town, South Africa\",\n",
    "        \"Rio de Janeiro, Brazil\",\n",
    "        \"Bali, Indonesia\"\n",
    "    ]\n",
    "    # 🎯 Return random selection from the curated destination list\n",
    "    return destinations[randint(0, len(destinations) - 1)]"
   ]
  },
  {
   "cell_type": "code",
   "execution_count": null,
   "id": "5d4f0568",
   "metadata": {},
   "outputs": [],
   "source": [
    "# 🔗 Initialize GitHub Models chat client for agent communication\n",
    "# Creates the primary interface between the agent and the language model\n",
    "openai_chat_client = OpenAIChatClient(base_url=os.environ.get(\"GITHUB_ENDPOINT\"), api_key=os.environ.get(\"GITHUB_TOKEN\"), model_id=os.environ.get(\"GITHUB_MODEL_ID\"))"
   ]
  },
  {
   "cell_type": "code",
   "execution_count": null,
   "id": "751668c5",
   "metadata": {},
   "outputs": [],
   "source": [
    "# 🤖 Configure travel agent identity and behavioral instructions\n",
    "# Define the agent's personality, capabilities, and operational guidelines\n",
    "\n",
    "AGENT_NAME = \"TravelAgent\"\n",
    "\n",
    "AGENT_INSTRUCTIONS = \"\"\"You are a helpful AI Agent that can help plan vacations for customers at random destinations\n",
    "\"\"\""
   ]
  },
  {
   "cell_type": "code",
   "execution_count": null,
   "id": "be18ac4f",
   "metadata": {},
   "outputs": [],
   "source": [
    "agent = ChatAgent(\n",
    "        name = AGENT_NAME,\n",
    "        chat_client=openai_chat_client,\n",
    "        instructions=AGENT_INSTRUCTIONS,\n",
    "        tools=[get_random_destination]\n",
    ")"
   ]
  },
  {
   "cell_type": "code",
   "execution_count": null,
   "id": "772e9481",
   "metadata": {},
   "outputs": [],
   "source": [
    "thread = agent.get_new_thread()"
   ]
  },
  {
   "cell_type": "code",
   "execution_count": null,
   "id": "a731b547",
   "metadata": {},
   "outputs": [],
   "source": [
    "response1 = await agent.run(\"Plan me a day trip\",thread= thread)"
   ]
  },
  {
   "cell_type": "code",
   "execution_count": null,
   "id": "7d3fe00a",
   "metadata": {},
   "outputs": [],
   "source": [
    "\n",
    "last_message = response1.messages[-1]\n",
    "text_content = last_message.contents[0].text\n",
    "print(\"Travel plan:\")\n",
    "print(text_content)"
   ]
  },
  {
   "cell_type": "markdown",
   "metadata": {},
   "source": [
    "\n---\n\n**Haftungsausschluss**:  \nDieses Dokument wurde mithilfe des KI-Übersetzungsdienstes [Co-op Translator](https://github.com/Azure/co-op-translator) übersetzt. Obwohl wir uns um Genauigkeit bemühen, beachten Sie bitte, dass automatisierte Übersetzungen Fehler oder Ungenauigkeiten enthalten können. Das Originaldokument in seiner ursprünglichen Sprache sollte als maßgebliche Quelle betrachtet werden. Für kritische Informationen wird eine professionelle menschliche Übersetzung empfohlen. Wir übernehmen keine Haftung für Missverständnisse oder Fehlinterpretationen, die sich aus der Nutzung dieser Übersetzung ergeben.\n"
   ]
  }
 ],
 "metadata": {
  "kernelspec": {
   "display_name": "agentenv",
   "language": "python",
   "name": "python3"
  },
  "language_info": {
   "codemirror_mode": {
    "name": "ipython",
    "version": 3
   },
   "file_extension": ".py",
   "mimetype": "text/x-python",
   "name": "python",
   "nbconvert_exporter": "python",
   "pygments_lexer": "ipython3",
   "version": "3.12.10"
  },
  "polyglot_notebook": {
   "kernelInfo": {
    "defaultKernelName": "csharp",
    "items": [
     {
      "aliases": [],
      "name": "csharp"
     }
    ]
   }
  },
  "coopTranslator": {
   "original_hash": "42966ddac53cebaf0ac1ce33b2ee7059",
   "translation_date": "2025-10-01T22:06:36+00:00",
   "source_file": "04-tool-use/code_samples/04-python-agent-framework.ipynb",
   "language_code": "de"
  }
 },
 "nbformat": 4,
 "nbformat_minor": 5
}