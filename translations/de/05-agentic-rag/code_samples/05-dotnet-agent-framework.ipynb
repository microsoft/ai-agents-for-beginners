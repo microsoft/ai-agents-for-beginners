{
 "cells": [
  {
   "cell_type": "markdown",
   "id": "44b5899e",
   "metadata": {},
   "source": [
    "# 🔍 Enterprise RAG mit Azure AI Foundry (.NET)\n",
    "\n",
    "## 📋 Lernziele\n",
    "\n",
    "Dieses Notebook zeigt, wie man unter Verwendung des Microsoft Agent Frameworks in .NET mit Azure AI Foundry unternehmensgerechte Retrieval-Augmented Generation (RAG)-Systeme erstellt. Sie lernen, produktionsreife Agenten zu entwickeln, die Dokumente durchsuchen und präzise, kontextbezogene Antworten mit Unternehmenssicherheit und Skalierbarkeit liefern können.\n",
    "\n",
    "**Funktionen des Enterprise RAG, die Sie entwickeln werden:**\n",
    "- 📚 **Dokumentenintelligenz**: Fortschrittliche Dokumentenverarbeitung mit Azure AI-Diensten\n",
    "- 🔍 **Semantische Suche**: Hochleistungsfähige Vektorsuche mit Unternehmensfunktionen\n",
    "- 🛡️ **Sicherheitsintegration**: Rollenbasierter Zugriff und Datenschutzmuster\n",
    "- 🏢 **Skalierbare Architektur**: Produktionsreife RAG-Systeme mit Überwachung\n",
    "\n",
    "## 🎯 Architektur des Enterprise RAG\n",
    "\n",
    "### Kernkomponenten für Unternehmen\n",
    "- **Azure AI Foundry**: Verwaltete Unternehmensplattform für KI mit Sicherheit und Compliance\n",
    "- **Persistente Agenten**: Zustandsbehaftete Agenten mit Gesprächsverlauf und Kontextverwaltung\n",
    "- **Vektorspeicherverwaltung**: Unternehmensgerechte Dokumentenindizierung und -abfrage\n",
    "- **Identitätsintegration**: Azure AD-Authentifizierung und rollenbasierte Zugriffskontrolle\n",
    "\n",
    "### Vorteile von .NET für Unternehmen\n",
    "- **Typensicherheit**: Validierung von RAG-Operationen und Datenstrukturen zur Kompilierungszeit\n",
    "- **Asynchrone Leistung**: Nicht blockierende Dokumentenverarbeitung und Suchoperationen\n",
    "- **Speicherverwaltung**: Effiziente Ressourcennutzung für große Dokumentensammlungen\n",
    "- **Integrationsmuster**: Native Integration von Azure-Diensten mit Dependency Injection\n",
    "\n",
    "## 🏗️ Technische Architektur\n",
    "\n",
    "### Enterprise RAG-Pipeline\n",
    "```csharp\n",
    "Document Upload → Security Validation → Vector Processing → Index Creation\n",
    "                      ↓                    ↓                  ↓\n",
    "User Query → Authentication → Semantic Search → Context Ranking → AI Response\n",
    "```\n",
    "\n",
    "### Kernkomponenten von .NET\n",
    "- **Azure.AI.Agents.Persistent**: Verwaltung von Unternehmensagenten mit Zustandspersistenz\n",
    "- **Azure.Identity**: Integrierte Authentifizierung für sicheren Zugriff auf Azure-Dienste\n",
    "- **Microsoft.Agents.AI.AzureAI**: Azure-optimierte Implementierung des Agentenframeworks\n",
    "- **System.Linq.Async**: Hochleistungsfähige asynchrone LINQ-Operationen\n",
    "\n",
    "## 🔧 Funktionen und Vorteile für Unternehmen\n",
    "\n",
    "### Sicherheit und Compliance\n",
    "- **Azure AD-Integration**: Unternehmensweite Identitätsverwaltung und Authentifizierung\n",
    "- **Rollenbasierter Zugriff**: Fein abgestufte Berechtigungen für Dokumentenzugriff und -operationen\n",
    "- **Datenschutz**: Verschlüsselung im Ruhezustand und während der Übertragung für sensible Dokumente\n",
    "- **Protokollierung**: Umfassende Aktivitätsverfolgung für Compliance-Anforderungen\n",
    "\n",
    "### Leistung und Skalierbarkeit\n",
    "- **Verbindungs-Pooling**: Effiziente Verwaltung von Azure-Dienstverbindungen\n",
    "- **Asynchrone Verarbeitung**: Nicht blockierende Operationen für Szenarien mit hohem Durchsatz\n",
    "- **Caching-Strategien**: Intelligentes Caching für häufig genutzte Dokumente\n",
    "- **Lastverteilung**: Verteilte Verarbeitung für großflächige Bereitstellungen\n",
    "\n",
    "### Verwaltung und Überwachung\n",
    "- **Gesundheitsprüfungen**: Eingebaute Überwachung der RAG-Systemkomponenten\n",
    "- **Leistungskennzahlen**: Detaillierte Analysen zur Suchqualität und Antwortzeiten\n",
    "- **Fehlerbehandlung**: Umfassendes Ausnahme-Management mit Wiederholungsrichtlinien\n",
    "- **Konfigurationsmanagement**: Umgebungsspezifische Einstellungen mit Validierung\n",
    "\n",
    "## ⚙️ Voraussetzungen und Einrichtung\n",
    "\n",
    "**Entwicklungsumgebung:**\n",
    "- .NET 9.0 SDK oder höher\n",
    "- Visual Studio 2022 oder VS Code mit C#-Erweiterung\n",
    "- Azure-Abonnement mit Zugriff auf AI Foundry\n",
    "\n",
    "**Erforderliche NuGet-Pakete:**\n",
    "```xml\n",
    "<PackageReference Include=\"Microsoft.Extensions.AI\" Version=\"9.9.0\" />\n",
    "<PackageReference Include=\"Azure.AI.Agents.Persistent\" Version=\"1.2.0-beta.5\" />\n",
    "<PackageReference Include=\"Azure.Identity\" Version=\"1.15.0\" />\n",
    "<PackageReference Include=\"System.Linq.Async\" Version=\"6.0.3\" />\n",
    "<PackageReference Include=\"DotNetEnv\" Version=\"3.1.1\" />\n",
    "```\n",
    "\n",
    "**Azure-Authentifizierungseinrichtung:**\n",
    "```bash\n",
    "# Install Azure CLI and authenticate\n",
    "az login\n",
    "az account set --subscription \"your-subscription-id\"\n",
    "```\n",
    "\n",
    "**Umgebungskonfiguration (.env-Datei):**\n",
    "```env\n",
    "# Azure AI Foundry configuration (automatically handled via Azure CLI)\n",
    "# Ensure you're authenticated to the correct Azure subscription\n",
    "```\n",
    "\n",
    "## 📊 Muster für Enterprise RAG\n",
    "\n",
    "### Muster für Dokumentenverwaltung\n",
    "- **Massenupload**: Effiziente Verarbeitung großer Dokumentensammlungen\n",
    "- **Inkrementelle Updates**: Echtzeit-Dokumentenhinzufügung und -änderung\n",
    "- **Versionskontrolle**: Dokumentenversionierung und Änderungsverfolgung\n",
    "- **Metadatenverwaltung**: Umfangreiche Dokumentattribute und Taxonomie\n",
    "\n",
    "### Muster für Suche und Abfrage\n",
    "- **Hybridsuche**: Kombination aus semantischer und Schlüsselwortsuche für optimale Ergebnisse\n",
    "- **Facettensuche**: Mehrdimensionale Filterung und Kategorisierung\n",
    "- **Relevanzanpassung**: Benutzerdefinierte Bewertungsalgorithmen für domänenspezifische Anforderungen\n",
    "- **Ergebnisranking**: Fortschrittliches Ranking mit Integration von Geschäftslogik\n",
    "\n",
    "### Sicherheitsmuster\n",
    "- **Dokumentensicherheit auf Ebene**: Fein abgestufte Zugriffskontrolle pro Dokument\n",
    "- **Datenklassifizierung**: Automatische Sensitivitätskennzeichnung und Schutz\n",
    "- **Protokollierung**: Umfassende Aufzeichnung aller RAG-Operationen\n",
    "- **Datenschutz**: Erkennung und Schwärzung von personenbezogenen Daten (PII)\n",
    "\n",
    "## 🔒 Sicherheitsfunktionen für Unternehmen\n",
    "\n",
    "### Authentifizierung und Autorisierung\n",
    "```csharp\n",
    "// Azure AD integrated authentication\n",
    "var credential = new AzureCliCredential();\n",
    "var agentsClient = new PersistentAgentsClient(endpoint, credential);\n",
    "\n",
    "// Role-based access validation\n",
    "if (!await ValidateUserPermissions(user, documentId))\n",
    "{\n",
    "    throw new UnauthorizedAccessException(\"Insufficient permissions\");\n",
    "}\n",
    "```\n",
    "\n",
    "### Datenschutz\n",
    "- **Verschlüsselung**: End-to-End-Verschlüsselung für Dokumente und Suchindizes\n",
    "- **Zugriffskontrollen**: Integration mit Azure AD für Benutzer- und Gruppenberechtigungen\n",
    "- **Datenresidenz**: Geografische Datenstandortkontrollen für Compliance\n",
    "- **Backup und Wiederherstellung**: Automatisierte Backup- und Wiederherstellungsfunktionen\n",
    "\n",
    "## 📈 Leistungsoptimierung\n",
    "\n",
    "### Muster für asynchrone Verarbeitung\n",
    "```csharp\n",
    "// Efficient async document processing\n",
    "await foreach (var document in documentStream.AsAsyncEnumerable())\n",
    "{\n",
    "    await ProcessDocumentAsync(document, cancellationToken);\n",
    "}\n",
    "```\n",
    "\n",
    "### Speicherverwaltung\n",
    "- **Streaming-Verarbeitung**: Verarbeitung großer Dokumente ohne Speicherprobleme\n",
    "- **Ressourcen-Pooling**: Effiziente Wiederverwendung teurer Ressourcen\n",
    "- **Speicherbereinigung**: Optimierte Muster für Speicherzuweisung\n",
    "- **Verbindungsmanagement**: Richtige Lebenszyklusverwaltung von Azure-Dienstverbindungen\n",
    "\n",
    "### Caching-Strategien\n",
    "- **Abfrage-Caching**: Caching häufig ausgeführter Suchanfragen\n",
    "- **Dokumenten-Caching**: In-Memory-Caching für häufig genutzte Dokumente\n",
    "- **Index-Caching**: Optimiertes Caching von Vektorindizes\n",
    "- **Ergebnis-Caching**: Intelligentes Caching generierter Antworten\n",
    "\n",
    "## 📊 Anwendungsfälle für Unternehmen\n",
    "\n",
    "### Wissensmanagement\n",
    "- **Unternehmens-Wiki**: Intelligente Suche in Unternehmenswissensdatenbanken\n",
    "- **Richtlinien und Verfahren**: Automatisierte Compliance- und Verfahrensrichtlinien\n",
    "- **Schulungsmaterialien**: Intelligente Unterstützung für Lernen und Entwicklung\n",
    "- **Forschungsdatenbanken**: Analyse von akademischen und wissenschaftlichen Arbeiten\n",
    "\n",
    "### Kundensupport\n",
    "- **Support-Wissensdatenbank**: Automatisierte Kundenservice-Antworten\n",
    "- **Produktdokumentation**: Intelligente Produktinformationsabfrage\n",
    "- **Fehlerbehebungsleitfäden**: Kontextbezogene Problemlösungsunterstützung\n",
    "- **FAQ-Systeme**: Dynamische FAQ-Generierung aus Dokumentensammlungen\n",
    "\n",
    "### Einhaltung gesetzlicher Vorschriften\n",
    "- **Analyse rechtlicher Dokumente**: Intelligenz für Verträge und rechtliche Dokumente\n",
    "- **Compliance-Überwachung**: Automatisierte Überprüfung der Einhaltung gesetzlicher Vorschriften\n",
    "- **Risikobewertung**: Dokumentenbasierte Risikoanalyse und Berichterstattung\n",
    "- **Audit-Unterstützung**: Intelligente Dokumentensuche für Audits\n",
    "\n",
    "## 🚀 Produktionsbereitstellung\n",
    "\n",
    "### Überwachung und Beobachtbarkeit\n",
    "- **Application Insights**: Detaillierte Telemetrie und Leistungsüberwachung\n",
    "- **Benutzerdefinierte Kennzahlen**: Verfolgung und Alarmierung von geschäftsspezifischen KPIs\n",
    "- **Verteiltes Tracing**: End-to-End-Verfolgung von Anforderungen über Dienste hinweg\n",
    "- **Gesundheits-Dashboards**: Echtzeitvisualisierung der Systemgesundheit und Leistung\n",
    "\n",
    "### Skalierbarkeit und Zuverlässigkeit\n",
    "- **Auto-Skalierung**: Automatische Skalierung basierend auf Last- und Leistungskennzahlen\n",
    "- **Hohe Verfügbarkeit**: Bereitstellung in mehreren Regionen mit Failover-Funktionen\n",
    "- **Lasttests**: Leistungsvalidierung unter Unternehmenslastbedingungen\n",
    "- **Katastrophenwiederherstellung**: Automatisierte Backup- und Wiederherstellungsverfahren\n",
    "\n",
    "Bereit, unternehmensgerechte RAG-Systeme zu entwickeln, die sensible Dokumente in großem Maßstab verarbeiten können? Lassen Sie uns intelligente Wissenssysteme für Unternehmen entwerfen! 🏢📖✨\n"
   ]
  },
  {
   "cell_type": "code",
   "execution_count": 1,
   "metadata": {
    "language_info": {
     "name": "polyglot-notebook"
    },
    "polyglot_notebook": {
     "kernelName": "csharp"
    }
   },
   "outputs": [
    {
     "data": {
      "text/html": [
       "<div><div></div><div></div><div><strong>Installed Packages</strong><ul><li><span>Microsoft.Extensions.AI, 9.9.1</span></li></ul></div></div>"
      ]
     },
     "metadata": {},
     "output_type": "display_data"
    }
   ],
   "source": [
    "#r \"nuget: Microsoft.Extensions.AI, 9.9.1\""
   ]
  },
  {
   "cell_type": "code",
   "execution_count": 2,
   "id": "4ec1f0d1",
   "metadata": {
    "language_info": {
     "name": "polyglot-notebook"
    },
    "polyglot_notebook": {
     "kernelName": "csharp"
    }
   },
   "outputs": [
    {
     "data": {
      "text/html": [
       "<div><div></div><div></div><div><strong>Installed Packages</strong><ul><li><span>Azure.AI.Agents.Persistent, 1.2.0-beta.5</span></li><li><span>Azure.Identity, 1.15.0</span></li><li><span>System.Linq.Async, 6.0.3</span></li></ul></div></div>"
      ]
     },
     "metadata": {},
     "output_type": "display_data"
    }
   ],
   "source": [
    "#r \"nuget: Azure.AI.Agents.Persistent, 1.2.0-beta.5\"\n",
    "#r \"nuget: Azure.Identity, 1.15.0\"\n",
    "#r \"nuget: System.Linq.Async, 6.0.3\""
   ]
  },
  {
   "cell_type": "code",
   "execution_count": 3,
   "id": "2363ae07",
   "metadata": {
    "language_info": {
     "name": "polyglot-notebook"
    },
    "polyglot_notebook": {
     "kernelName": "csharp"
    }
   },
   "outputs": [],
   "source": []
  },
  {
   "cell_type": "code",
   "execution_count": null,
   "id": "d10cec9d",
   "metadata": {
    "language_info": {
     "name": "polyglot-notebook"
    },
    "polyglot_notebook": {
     "kernelName": "csharp"
    }
   },
   "outputs": [
    {
     "data": {
      "text/html": [
       "<div><div></div><div></div><div><strong>Installed Packages</strong><ul><li><span>Microsoft.Agents.AI.AzureAI, 1.0.0-preview.251001.2</span></li></ul></div></div>"
      ]
     },
     "metadata": {},
     "output_type": "display_data"
    }
   ],
   "source": [
    "#r \"nuget: Microsoft.Agents.AI.AzureAI, 1.0.0-preview.251001.3\""
   ]
  },
  {
   "cell_type": "code",
   "execution_count": null,
   "id": "78199d1c",
   "metadata": {
    "language_info": {
     "name": "polyglot-notebook"
    },
    "polyglot_notebook": {
     "kernelName": "csharp"
    }
   },
   "outputs": [
    {
     "data": {
      "text/html": [
       "<div><div></div><div></div><div><strong>Installed Packages</strong><ul><li><span>microsoft.agents.ai, 1.0.0-preview.251001.2</span></li></ul></div></div>"
      ]
     },
     "metadata": {},
     "output_type": "display_data"
    }
   ],
   "source": [
    "#r \"nuget: Microsoft.Agents.AI, 1.0.0-preview.251001.3\""
   ]
  },
  {
   "cell_type": "code",
   "execution_count": 6,
   "id": "7de4684a",
   "metadata": {
    "language_info": {
     "name": "polyglot-notebook"
    },
    "polyglot_notebook": {
     "kernelName": "csharp"
    }
   },
   "outputs": [
    {
     "data": {
      "text/html": [
       "<div><div></div><div></div><div><strong>Installed Packages</strong><ul><li><span>DotNetEnv, 3.1.1</span></li></ul></div></div>"
      ]
     },
     "metadata": {},
     "output_type": "display_data"
    }
   ],
   "source": [
    "#r \"nuget: DotNetEnv, 3.1.1\""
   ]
  },
  {
   "cell_type": "code",
   "execution_count": 7,
   "id": "251efd31",
   "metadata": {
    "language_info": {
     "name": "polyglot-notebook"
    },
    "polyglot_notebook": {
     "kernelName": "csharp"
    }
   },
   "outputs": [],
   "source": [
    "using System;\n",
    "using System.Linq;\n",
    "using Azure.AI.Agents.Persistent;\n",
    "using Azure.Identity;\n",
    "using Microsoft.Agents.AI;"
   ]
  },
  {
   "cell_type": "code",
   "execution_count": 8,
   "id": "a2e342f1",
   "metadata": {
    "language_info": {
     "name": "polyglot-notebook"
    },
    "polyglot_notebook": {
     "kernelName": "csharp"
    }
   },
   "outputs": [],
   "source": [
    " using DotNetEnv;"
   ]
  },
  {
   "cell_type": "code",
   "execution_count": 9,
   "id": "a7a01653",
   "metadata": {
    "language_info": {
     "name": "polyglot-notebook"
    },
    "polyglot_notebook": {
     "kernelName": "csharp"
    }
   },
   "outputs": [],
   "source": [
    "Env.Load(\"../../../.env\");"
   ]
  },
  {
   "cell_type": "code",
   "execution_count": 10,
   "id": "a42735d5",
   "metadata": {
    "language_info": {
     "name": "polyglot-notebook"
    },
    "polyglot_notebook": {
     "kernelName": "csharp"
    }
   },
   "outputs": [],
   "source": [
    "var azure_foundry_endpoint = Environment.GetEnvironmentVariable(\"AZURE_AI_PROJECT_ENDPOINT\") ?? throw new InvalidOperationException(\"AZURE_AI_PROJECT_ENDPOINT is not set.\");\n",
    "var azure_foundry_model_id = Environment.GetEnvironmentVariable(\"AZURE_AI_MODEL_DEPLOYMENT_NAME\") ?? \"gpt-4.1-mini\";"
   ]
  },
  {
   "cell_type": "code",
   "execution_count": 11,
   "id": "e29bdb58",
   "metadata": {
    "language_info": {
     "name": "polyglot-notebook"
    },
    "polyglot_notebook": {
     "kernelName": "csharp"
    }
   },
   "outputs": [],
   "source": [
    "string pdfPath = \"./document.md\";"
   ]
  },
  {
   "cell_type": "code",
   "execution_count": 12,
   "id": "7351e12d",
   "metadata": {
    "language_info": {
     "name": "polyglot-notebook"
    },
    "polyglot_notebook": {
     "kernelName": "csharp"
    }
   },
   "outputs": [],
   "source": [
    "using System.IO;\n",
    "\n",
    "async Task<Stream> OpenImageStreamAsync(string path)\n",
    "{\n",
    "\treturn await Task.Run(() => File.OpenRead(path));\n",
    "}\n",
    "\n",
    "var pdfStream = await OpenImageStreamAsync(pdfPath);"
   ]
  },
  {
   "cell_type": "code",
   "execution_count": 13,
   "id": "0b6bf484",
   "metadata": {
    "language_info": {
     "name": "polyglot-notebook"
    },
    "polyglot_notebook": {
     "kernelName": "csharp"
    }
   },
   "outputs": [],
   "source": [
    "var persistentAgentsClient = new PersistentAgentsClient(azure_foundry_endpoint, new AzureCliCredential());"
   ]
  },
  {
   "cell_type": "code",
   "execution_count": 14,
   "id": "81e0dddc",
   "metadata": {
    "language_info": {
     "name": "polyglot-notebook"
    },
    "polyglot_notebook": {
     "kernelName": "csharp"
    }
   },
   "outputs": [],
   "source": [
    "PersistentAgentFileInfo fileInfo = await persistentAgentsClient.Files.UploadFileAsync(pdfStream, PersistentAgentFilePurpose.Agents, \"demo.md\");"
   ]
  },
  {
   "cell_type": "code",
   "execution_count": 15,
   "id": "f0c75d80",
   "metadata": {
    "language_info": {
     "name": "polyglot-notebook"
    },
    "polyglot_notebook": {
     "kernelName": "csharp"
    }
   },
   "outputs": [],
   "source": [
    "PersistentAgentsVectorStore fileStore =\n",
    "            await persistentAgentsClient.VectorStores.CreateVectorStoreAsync(\n",
    "                [fileInfo.Id],\n",
    "                metadata: new Dictionary<string, string>() { { \"agentkey\", bool.TrueString } });"
   ]
  },
  {
   "cell_type": "code",
   "execution_count": 16,
   "id": "c77986c5",
   "metadata": {
    "language_info": {
     "name": "polyglot-notebook"
    },
    "polyglot_notebook": {
     "kernelName": "csharp"
    }
   },
   "outputs": [],
   "source": [
    "PersistentAgent agentModel = await persistentAgentsClient.Administration.CreateAgentAsync(\n",
    "            azure_foundry_model_id,\n",
    "            name: \"DotNetRAGAgent\",\n",
    "            tools: [new FileSearchToolDefinition()],\n",
    "            instructions: \"\"\"\n",
    "                You are an AI assistant designed to answer user questions using only the information retrieved from the provided document(s).\n",
    "\n",
    "                - If a user's question cannot be answered using the retrieved context, **you must clearly respond**: \n",
    "                \"I'm sorry, but the uploaded document does not contain the necessary information to answer that question.\"\n",
    "                - Do not answer from general knowledge or reasoning. Do not make assumptions or generate hypothetical explanations.\n",
    "                - Do not provide definitions, tutorials, or commentary that is not explicitly grounded in the content of the uploaded file(s).\n",
    "                - If a user asks a question like \"What is a Neural Network?\", and this is not discussed in the uploaded document, respond as instructed above.\n",
    "                - For questions that do have relevant content in the document (e.g., Contoso's travel insurance coverage), respond accurately, and cite the document explicitly.\n",
    "\n",
    "                You must behave as if you have no external knowledge beyond what is retrieved from the uploaded document.\n",
    "                \"\"\",\n",
    "            toolResources: new()\n",
    "            {\n",
    "                FileSearch = new()\n",
    "                {\n",
    "                    VectorStoreIds = { fileStore.Id },\n",
    "                }\n",
    "            },\n",
    "            metadata: new Dictionary<string, string>() { { \"agentkey\", bool.TrueString } });"
   ]
  },
  {
   "cell_type": "code",
   "execution_count": 17,
   "id": "282326cf",
   "metadata": {
    "language_info": {
     "name": "polyglot-notebook"
    },
    "polyglot_notebook": {
     "kernelName": "csharp"
    }
   },
   "outputs": [],
   "source": [
    "AIAgent agent = await persistentAgentsClient.GetAIAgentAsync(agentModel.Id);"
   ]
  },
  {
   "cell_type": "code",
   "execution_count": 18,
   "id": "2067d313",
   "metadata": {
    "language_info": {
     "name": "polyglot-notebook"
    },
    "polyglot_notebook": {
     "kernelName": "csharp"
    }
   },
   "outputs": [],
   "source": [
    "AgentThread thread = agent.GetNewThread();"
   ]
  },
  {
   "cell_type": "code",
   "execution_count": 19,
   "id": "454c4230",
   "metadata": {
    "language_info": {
     "name": "polyglot-notebook"
    },
    "polyglot_notebook": {
     "kernelName": "csharp"
    }
   },
   "outputs": [
    {
     "name": "stdout",
     "output_type": "stream",
     "text": [
      "Contoso's travel insurance coverage includes protection for medical emergencies, trip cancellations, and lost baggage. This ensures that travelers are supported in case of health-related issues during their trip, unforeseen cancellations, and the loss of their belongings while traveling【4:0†demo.md】.\r\n"
     ]
    }
   ],
   "source": [
    "Console.WriteLine(await agent.RunAsync(\"Can you explain Contoso's travel insurance coverage?\", thread));"
   ]
  },
  {
   "cell_type": "markdown",
   "metadata": {},
   "source": [
    "\n---\n\n**Haftungsausschluss**:  \nDieses Dokument wurde mit dem KI-Übersetzungsdienst [Co-op Translator](https://github.com/Azure/co-op-translator) übersetzt. Obwohl wir uns um Genauigkeit bemühen, beachten Sie bitte, dass automatisierte Übersetzungen Fehler oder Ungenauigkeiten enthalten können. Das Originaldokument in seiner ursprünglichen Sprache sollte als maßgebliche Quelle betrachtet werden. Für kritische Informationen wird eine professionelle menschliche Übersetzung empfohlen. Wir übernehmen keine Haftung für Missverständnisse oder Fehlinterpretationen, die sich aus der Nutzung dieser Übersetzung ergeben.\n"
   ]
  }
 ],
 "metadata": {
  "kernelspec": {
   "display_name": ".NET (C#)",
   "language": "C#",
   "name": ".net-csharp"
  },
  "language_info": {
   "name": "polyglot-notebook"
  },
  "polyglot_notebook": {
   "kernelInfo": {
    "defaultKernelName": "csharp",
    "items": [
     {
      "aliases": [],
      "name": "csharp"
     }
    ]
   }
  },
  "coopTranslator": {
   "original_hash": "e4584fa31638009dc6fb665275de8fc2",
   "translation_date": "2025-10-01T21:46:01+00:00",
   "source_file": "05-agentic-rag/code_samples/05-dotnet-agent-framework.ipynb",
   "language_code": "de"
  }
 },
 "nbformat": 4,
 "nbformat_minor": 5
}