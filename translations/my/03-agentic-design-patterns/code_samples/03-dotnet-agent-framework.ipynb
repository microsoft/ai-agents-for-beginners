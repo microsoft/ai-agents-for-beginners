{
 "cells": [
  {
   "cell_type": "markdown",
   "id": "d6058fa4",
   "metadata": {},
   "source": [
    "# 🎨 GitHub Models (.NET) ဖြင့် Agentic Design Patterns\n",
    "\n",
    "## 📋 သင်ယူရမည့်အရာများ\n",
    "\n",
    "ဒီ notebook က Microsoft Agent Framework ကို .NET နှင့် GitHub Models တွဲဖက်အသုံးပြု၍ အဆင့်မြင့် intelligent agents တည်ဆောက်ရန်အတွက် enterprise-grade design patterns များကို ပြသထားသည်။ သင်သည် production-ready, maintainable, နှင့် scalable ဖြစ်စေရန်အတွက် professional patterns နှင့် architectural approaches များကို သင်ယူနိုင်ပါမည်။\n",
    "\n",
    "**Enterprise Design Patterns:**\n",
    "- 🏭 **Factory Pattern**: Dependency injection ဖြင့် agent တည်ဆောက်မှုကို စနစ်တကျလုပ်ဆောင်ခြင်း\n",
    "- 🔧 **Builder Pattern**: Fluent agent configuration နှင့် setup\n",
    "- 🧵 **Thread-Safe Patterns**: Concurrent conversation ကို စနစ်တကျ စီမံခန့်ခွဲခြင်း\n",
    "- 📋 **Repository Pattern**: Tool နှင့် capability များကို စနစ်တကျ စီမံခြင်း\n",
    "\n",
    "## 🎯 .NET-Specific Architectural Benefits\n",
    "\n",
    "### Enterprise Features\n",
    "- **Strong Typing**: Compile-time validation နှင့် IntelliSense အထောက်အပံ့\n",
    "- **Dependency Injection**: Built-in DI container integration\n",
    "- **Configuration Management**: IConfiguration နှင့် Options patterns\n",
    "- **Async/Await**: Asynchronous programming အတွက် အထူးထောက်ပံ့မှု\n",
    "\n",
    "### Production-Ready Patterns\n",
    "- **Logging Integration**: ILogger နှင့် structured logging အထောက်အပံ့\n",
    "- **Health Checks**: Built-in monitoring နှင့် diagnostics\n",
    "- **Configuration Validation**: Data annotations ဖြင့် strong typing\n",
    "- **Error Handling**: Structured exception management\n",
    "\n",
    "## 🔧 Technical Architecture\n",
    "\n",
    "### Core .NET Components\n",
    "- **Microsoft.Extensions.AI**: AI service အတွက် unified abstractions\n",
    "- **Microsoft.Agents.AI**: Enterprise agent orchestration framework\n",
    "- **GitHub Models Integration**: High-performance API client patterns\n",
    "- **Configuration System**: appsettings.json နှင့် environment integration\n",
    "\n",
    "### Design Pattern Implementation\n",
    "```csharp\n",
    "IServiceCollection → Agent Builder → Configuration → Tool Registry → AI Agent\n",
    "```\n",
    "\n",
    "## 🏗️ Enterprise Patterns Demonstrated\n",
    "\n",
    "### 1. **Creational Patterns**\n",
    "- **Agent Factory**: Configuration တူညီမှုရှိသော agent တည်ဆောက်မှု\n",
    "- **Builder Pattern**: Complex agent configuration အတွက် Fluent API\n",
    "- **Singleton Pattern**: Shared resources နှင့် configuration management\n",
    "- **Dependency Injection**: Loose coupling နှင့် testability\n",
    "\n",
    "### 2. **Behavioral Patterns**\n",
    "- **Strategy Pattern**: Tool execution strategies များကို အလွယ်တကူ ပြောင်းလဲနိုင်ခြင်း\n",
    "- **Command Pattern**: Agent operations များကို undo/redo ဖြင့် encapsulate လုပ်ခြင်း\n",
    "- **Observer Pattern**: Event-driven agent lifecycle management\n",
    "- **Template Method**: Agent execution workflows ကို စနစ်တကျလုပ်ဆောင်ခြင်း\n",
    "\n",
    "### 3. **Structural Patterns**\n",
    "- **Adapter Pattern**: GitHub Models API integration layer\n",
    "- **Decorator Pattern**: Agent capability တိုးမြှင့်ခြင်း\n",
    "- **Facade Pattern**: Agent interaction interface ကို ရိုးရှင်းစေခြင်း\n",
    "- **Proxy Pattern**: Lazy loading နှင့် caching ဖြင့် performance တိုးမြှင့်ခြင်း\n",
    "\n",
    "## ⚙️ Prerequisites & Setup\n",
    "\n",
    "**Development Environment:**\n",
    "- .NET 9.0 SDK သို့မဟုတ် အထက်\n",
    "- Visual Studio 2022 သို့မဟုတ် VS Code (C# extension ဖြင့်)\n",
    "- GitHub Models API access\n",
    "\n",
    "**NuGet Dependencies:**\n",
    "```xml\n",
    "<PackageReference Include=\"Microsoft.Extensions.AI\" Version=\"9.9.0\" />\n",
    "<PackageReference Include=\"Microsoft.Extensions.AI.OpenAI\" Version=\"9.9.0-preview.1.25458.4\" />\n",
    "<PackageReference Include=\"DotNetEnv\" Version=\"3.1.1\" />\n",
    "```\n",
    "\n",
    "**Configuration (.env file):**\n",
    "```env\n",
    "GITHUB_TOKEN=your_github_personal_access_token\n",
    "GITHUB_ENDPOINT=https://models.inference.ai.azure.com\n",
    "GITHUB_MODEL_ID=gpt-4o-mini\n",
    "```\n",
    "\n",
    "## 📚 .NET Design Principles\n",
    "\n",
    "### SOLID Principles\n",
    "- **Single Responsibility**: Component တစ်ခုစီမှာ ရည်ရွယ်ချက်တစ်ခုသာရှိခြင်း\n",
    "- **Open/Closed**: Modification မလိုအပ်ဘဲ Extensible ဖြစ်ခြင်း\n",
    "- **Liskov Substitution**: Interface-based tool implementations\n",
    "- **Interface Segregation**: Cohesive interfaces\n",
    "- **Dependency Inversion**: Abstractions များကို အခြေခံ၍ တည်ဆောက်ခြင်း\n",
    "\n",
    "### Clean Architecture\n",
    "- **Domain Layer**: Core agent နှင့် tool abstractions\n",
    "- **Application Layer**: Agent orchestration နှင့် workflows\n",
    "- **Infrastructure Layer**: GitHub Models integration နှင့် အပြင်ဆက်သွယ်မှုများ\n",
    "- **Presentation Layer**: User interaction နှင့် response formatting\n",
    "\n",
    "## 🔒 Enterprise Considerations\n",
    "\n",
    "### Security\n",
    "- **Credential Management**: IConfiguration ဖြင့် API key ကို လုံခြုံစွာ စီမံခြင်း\n",
    "- **Input Validation**: Strong typing နှင့် data annotation validation\n",
    "- **Output Sanitization**: Response များကို လုံခြုံစွာ စစ်ဆေးခြင်း\n",
    "- **Audit Logging**: Operation tracking အပြည့်အစုံ\n",
    "\n",
    "### Performance\n",
    "- **Async Patterns**: Non-blocking I/O operations\n",
    "- **Connection Pooling**: HTTP client management ကို ထိရောက်စွာ စီမံခြင်း\n",
    "- **Caching**: Response caching ဖြင့် performance တိုးမြှင့်ခြင်း\n",
    "- **Resource Management**: Disposal နှင့် cleanup patterns\n",
    "\n",
    "### Scalability\n",
    "- **Thread Safety**: Concurrent agent execution အထောက်အပံ့\n",
    "- **Resource Pooling**: Resource များကို ထိရောက်စွာ အသုံးပြုခြင်း\n",
    "- **Load Management**: Rate limiting နှင့် backpressure handling\n",
    "- **Monitoring**: Performance metrics နှင့် health checks\n",
    "\n",
    "## 🚀 Production Deployment\n",
    "\n",
    "- **Configuration Management**: Environment-specific settings\n",
    "- **Logging Strategy**: Correlation IDs ဖြင့် structured logging\n",
    "- **Error Handling**: Global exception handling နှင့် recovery\n",
    "- **Monitoring**: Application insights နှင့် performance counters\n",
    "- **Testing**: Unit tests, integration tests, နှင့် load testing patterns\n",
    "\n",
    "Enterprise-grade intelligent agents ကို .NET ဖြင့် တည်ဆောက်ရန် အသင့်ဖြစ်ပါပြီလား? Robust architecture တစ်ခုကို တည်ဆောက်ကြစို့! 🏢✨\n"
   ]
  },
  {
   "cell_type": "code",
   "execution_count": 1,
   "id": "2770ac5c",
   "metadata": {
    "language_info": {
     "name": "polyglot-notebook"
    },
    "polyglot_notebook": {
     "kernelName": "csharp"
    }
   },
   "outputs": [
    {
     "data": {
      "text/html": [
       "<div><div></div><div></div><div><strong>Installed Packages</strong><ul><li><span>Microsoft.Extensions.AI, 9.9.1</span></li></ul></div></div>"
      ]
     },
     "metadata": {},
     "output_type": "display_data"
    }
   ],
   "source": [
    "#r \"nuget: Microsoft.Extensions.AI, 9.9.1\""
   ]
  },
  {
   "cell_type": "code",
   "execution_count": null,
   "id": "984ff6cd",
   "metadata": {
    "language_info": {
     "name": "polyglot-notebook"
    },
    "polyglot_notebook": {
     "kernelName": "csharp"
    }
   },
   "outputs": [
    {
     "data": {
      "text/html": [
       "<div><div></div><div></div><div><strong>Installed Packages</strong><ul><li><span>Microsoft.Agents.AI.OpenAI, 1.0.0-preview.251001.2</span></li></ul></div></div>"
      ]
     },
     "metadata": {},
     "output_type": "display_data"
    }
   ],
   "source": [
    "#r \"nuget: Microsoft.Agents.AI.OpenAI, 1.0.0-preview.251001.3\""
   ]
  },
  {
   "cell_type": "code",
   "execution_count": null,
   "id": "0ab71360",
   "metadata": {
    "language_info": {
     "name": "polyglot-notebook"
    },
    "polyglot_notebook": {
     "kernelName": "csharp"
    }
   },
   "outputs": [
    {
     "data": {
      "text/html": [
       "<div><div></div><div></div><div><strong>Installed Packages</strong><ul><li><span>microsoft.agents.ai, 1.0.0-preview.251001.2</span></li></ul></div></div>"
      ]
     },
     "metadata": {},
     "output_type": "display_data"
    }
   ],
   "source": [
    "\n",
    "\n",
    "#r \"nuget: Microsoft.Agents.AI, 1.0.0-preview.251001.3\""
   ]
  },
  {
   "cell_type": "code",
   "execution_count": 4,
   "id": "4ab7b15d",
   "metadata": {
    "language_info": {
     "name": "polyglot-notebook"
    },
    "polyglot_notebook": {
     "kernelName": "csharp"
    }
   },
   "outputs": [],
   "source": [
    "// #r \"nuget: Microsoft.Extensions.AI.OpenAI, 9.9.0-preview.1.25458.4\""
   ]
  },
  {
   "cell_type": "code",
   "execution_count": 5,
   "id": "3fa8aa21",
   "metadata": {
    "language_info": {
     "name": "polyglot-notebook"
    },
    "polyglot_notebook": {
     "kernelName": "csharp"
    }
   },
   "outputs": [
    {
     "data": {
      "text/html": [
       "<div><div></div><div></div><div><strong>Installed Packages</strong><ul><li><span>DotNetEnv, 3.1.1</span></li></ul></div></div>"
      ]
     },
     "metadata": {},
     "output_type": "display_data"
    }
   ],
   "source": [
    "#r \"nuget: DotNetEnv, 3.1.1\""
   ]
  },
  {
   "cell_type": "code",
   "execution_count": 6,
   "id": "fc8ee8ea",
   "metadata": {
    "language_info": {
     "name": "polyglot-notebook"
    },
    "polyglot_notebook": {
     "kernelName": "csharp"
    }
   },
   "outputs": [],
   "source": [
    "using System;\n",
    "using System.ComponentModel;\n",
    "using System.ClientModel;\n",
    "\n",
    "using Microsoft.Extensions.AI;\n",
    "using Microsoft.Agents.AI;\n",
    "using OpenAI;"
   ]
  },
  {
   "cell_type": "code",
   "execution_count": 7,
   "id": "699b1c83",
   "metadata": {
    "language_info": {
     "name": "polyglot-notebook"
    },
    "polyglot_notebook": {
     "kernelName": "csharp"
    }
   },
   "outputs": [],
   "source": [
    " using DotNetEnv;"
   ]
  },
  {
   "cell_type": "code",
   "execution_count": 8,
   "id": "daa649a0",
   "metadata": {
    "language_info": {
     "name": "polyglot-notebook"
    },
    "polyglot_notebook": {
     "kernelName": "csharp"
    }
   },
   "outputs": [],
   "source": [
    "Env.Load(\"../../../.env\");"
   ]
  },
  {
   "cell_type": "code",
   "execution_count": 9,
   "id": "29661a90",
   "metadata": {
    "language_info": {
     "name": "polyglot-notebook"
    },
    "polyglot_notebook": {
     "kernelName": "csharp"
    }
   },
   "outputs": [],
   "source": [
    "[Description(\"Provides a random vacation destination.\")]\n",
    "static string GetRandomDestination()\n",
    "{\n",
    "    var destinations = new List<string>\n",
    "    {\n",
    "        \"Paris, France\",\n",
    "        \"Tokyo, Japan\",\n",
    "        \"New York City, USA\",\n",
    "        \"Sydney, Australia\",\n",
    "        \"Rome, Italy\",\n",
    "        \"Barcelona, Spain\",\n",
    "        \"Cape Town, South Africa\",\n",
    "        \"Rio de Janeiro, Brazil\",\n",
    "        \"Bangkok, Thailand\",\n",
    "        \"Vancouver, Canada\"\n",
    "    };\n",
    "\n",
    "    var random = new Random();\n",
    "    int index = random.Next(destinations.Count);\n",
    "    return destinations[index];\n",
    "}"
   ]
  },
  {
   "cell_type": "code",
   "execution_count": 10,
   "id": "d2ed1f8b",
   "metadata": {
    "language_info": {
     "name": "polyglot-notebook"
    },
    "polyglot_notebook": {
     "kernelName": "csharp"
    }
   },
   "outputs": [],
   "source": [
    "var github_endpoint = Environment.GetEnvironmentVariable(\"GITHUB_ENDPOINT\") ?? throw new InvalidOperationException(\"GITHUB_ENDPOINT is not set.\");\n",
    "var github_model_id = Environment.GetEnvironmentVariable(\"GITHUB_MODEL_ID\") ?? \"gpt-4o-mini\";\n",
    "var github_token = Environment.GetEnvironmentVariable(\"GITHUB_TOKEN\") ?? throw new InvalidOperationException(\"GITHUB_TOKEN is not set.\");"
   ]
  },
  {
   "cell_type": "code",
   "execution_count": 11,
   "id": "c36c73e1",
   "metadata": {
    "language_info": {
     "name": "polyglot-notebook"
    },
    "polyglot_notebook": {
     "kernelName": "csharp"
    }
   },
   "outputs": [],
   "source": [
    "var openAIOptions = new OpenAIClientOptions()\n",
    "{\n",
    "    Endpoint= new Uri(github_endpoint)\n",
    "};"
   ]
  },
  {
   "cell_type": "code",
   "execution_count": 12,
   "id": "6d94ff10",
   "metadata": {
    "language_info": {
     "name": "polyglot-notebook"
    },
    "polyglot_notebook": {
     "kernelName": "csharp"
    }
   },
   "outputs": [],
   "source": [
    "\n",
    "var openAIClient = new OpenAIClient(new ApiKeyCredential(github_token), openAIOptions);"
   ]
  },
  {
   "cell_type": "code",
   "execution_count": 13,
   "id": "fe32b57a",
   "metadata": {
    "language_info": {
     "name": "polyglot-notebook"
    },
    "polyglot_notebook": {
     "kernelName": "csharp"
    }
   },
   "outputs": [],
   "source": [
    "AIAgent agent = new OpenAIClient(new ApiKeyCredential(github_token), openAIOptions).GetChatClient(github_model_id).CreateAIAgent(\n",
    "    instructions:\"You are a helpful AI Agent that can help plan vacations for customers at random destinations\", tools: [AIFunctionFactory.Create((Func<string>)GetRandomDestination)]);"
   ]
  },
  {
   "cell_type": "code",
   "execution_count": 14,
   "metadata": {
    "language_info": {
     "name": "polyglot-notebook"
    },
    "polyglot_notebook": {
     "kernelName": "csharp"
    }
   },
   "outputs": [],
   "source": [
    "AgentThread thread = agent.GetNewThread();"
   ]
  },
  {
   "cell_type": "code",
   "execution_count": 15,
   "id": "5e455aff",
   "metadata": {
    "language_info": {
     "name": "polyglot-notebook"
    },
    "polyglot_notebook": {
     "kernelName": "csharp"
    }
   },
   "outputs": [
    {
     "name": "stdout",
     "output_type": "stream",
     "text": [
      "How about a day trip to Vancouver, Canada? Here's a suggested itinerary for your day:\n",
      "\n",
      "### Morning\n",
      "- **Breakfast at a Local Cafe**: Start your day with a delicious breakfast at a cozy café like **Jam Cafe** or **Cafe Medina**.\n",
      "- **Stanley Park**: After breakfast, head to Stanley Park. You can rent a bike and ride along the seawall, enjoying beautiful views of the city and the water.\n",
      "\n",
      "### Afternoon\n",
      "- **Lunch in Gastown**: Make your way to Gastown for lunch. Try a local favorite like **The Flying Pig** or **Noodle Box**.\n",
      "- **Explore Gastown**: After lunch, walk around Gastown to see the iconic Steam Clock and browse the unique shops and boutiques.\n",
      "\n",
      "### Late Afternoon\n",
      "- **Granville Island**: Visit Granville Island, where you can stroll through the public market, sample local foods, and enjoy artisan shops.\n",
      "- **False Creek**: Take a walk along False Creek and enjoy the waterfront views.\n",
      "\n",
      "### Evening\n",
      "- **Dinner at a Waterfront Restaurant**: End your day with dinner at a waterfront restaurant like **The Boathouse** or **Lift Bar Grill View** for great food and a view of the sunset.\n",
      "- **Optional: Sunset Cruise**: If you're up for it, consider taking a sunset cruise for a different perspective of the city.\n",
      "\n",
      "### Tips\n",
      "- Make sure to check the weather beforehand!\n",
      "- Consider public transport or ride-sharing to navigate the city easily.\n",
      "\n",
      "Enjoy your day trip to Vancouver!\r\n"
     ]
    }
   ],
   "source": [
    "Console.WriteLine(await agent.RunAsync(\"Plan me a day trip\",thread));"
   ]
  },
  {
   "cell_type": "code",
   "execution_count": 16,
   "id": "592ae1bb",
   "metadata": {
    "language_info": {
     "name": "polyglot-notebook"
    },
    "polyglot_notebook": {
     "kernelName": "csharp"
    }
   },
   "outputs": [
    {
     "name": "stdout",
     "output_type": "stream",
     "text": [
      "How about a vacation to New York City, USA? Here's a suggested itinerary for your trip:\n",
      "\n",
      "### Day 1: Arrival in New York City\n",
      "- **Check-In**: Arrive and check in to your hotel.\n",
      "- **Central Park**: Take a leisurely stroll through Central Park. Consider renting a bike or taking a carriage ride.\n",
      "- **Evening**: Enjoy dinner at a classic NYC restaurant, such as **Katz's Delicatessen** or **Carbone**.\n",
      "\n",
      "### Day 2: Iconic Landmarks\n",
      "- **Morning**: Breakfast at a local diner.\n",
      "- **Statue of Liberty & Ellis Island**: Take a ferry to visit these iconic landmarks.\n",
      "- **Afternoon**: Explore Wall Street and visit the 9/11 Memorial & Museum.\n",
      "- **Evening**: Dinner in the Financial District followed by a walk across the Brooklyn Bridge at sunset.\n",
      "\n",
      "### Day 3: Culture and Arts\n",
      "- **Morning**: Visit The Metropolitan Museum of Art (The Met) and spend a few hours exploring its vast collection.\n",
      "- **Afternoon**: Head to Times Square for lunch and the buzz of the city.\n",
      "- **Broadway Show**: Catch a Broadway show in the evening. Be sure to book tickets in advance!\n",
      "\n",
      "### Day 4: Explore Neighborhoods\n",
      "- **Morning**: Head to SoHo for brunch and shopping in its chic boutiques.\n",
      "- **Afternoon**: Explore Greenwich Village, known for its bohemian atmosphere and history.\n",
      "- **Evening**: Enjoy dinner in the West Village, perhaps at **Buvette** or **Minetta Tavern**.\n",
      "\n",
      "### Day 5: Departure\n",
      "- **Last-minute Shopping**: Spend your last morning shopping at Fifth Avenue or head to Chelsea Market for food and souvenirs.\n",
      "- **Check-Out**: Depart for your journey home.\n",
      "\n",
      "### Tips\n",
      "- Utilize the subway for efficient travel around the city.\n",
      "- Make reservations for popular restaurants and attractions ahead of time!\n",
      "\n",
      "Enjoy your trip to New York City!\r\n"
     ]
    }
   ],
   "source": [
    "Console.WriteLine(await agent.RunAsync(\"I don't like that destination. Plan me another vacation.\",thread));"
   ]
  },
  {
   "cell_type": "markdown",
   "metadata": {},
   "source": [
    "\n---\n\n**အကြောင်းကြားချက်**:  \nဤစာရွက်စာတမ်းကို AI ဘာသာပြန်ဝန်ဆောင်မှု [Co-op Translator](https://github.com/Azure/co-op-translator) ကို အသုံးပြု၍ ဘာသာပြန်ထားပါသည်။ ကျွန်ုပ်တို့သည် တိကျမှန်ကန်မှုအတွက် ကြိုးစားနေသော်လည်း အလိုအလျောက် ဘာသာပြန်ခြင်းတွင် အမှားများ သို့မဟုတ် မမှန်ကန်မှုများ ပါဝင်နိုင်သည်ကို သတိပြုပါ။ မူရင်းဘာသာစကားဖြင့် ရေးသားထားသော စာရွက်စာတမ်းကို အာဏာတရားရှိသော ရင်းမြစ်အဖြစ် သတ်မှတ်သင့်ပါသည်။ အရေးကြီးသော အချက်အလက်များအတွက် လူ့ဘာသာပြန်ပညာရှင်များမှ ပရော်ဖက်ရှင်နယ် ဘာသာပြန်ခြင်းကို အကြံပြုပါသည်။ ဤဘာသာပြန်ကို အသုံးပြုခြင်းမှ ဖြစ်ပေါ်လာသော အလွဲအမှားများ သို့မဟုတ် အနားယူမှုများအတွက် ကျွန်ုပ်တို့သည် တာဝန်မယူပါ။\n"
   ]
  }
 ],
 "metadata": {
  "kernelspec": {
   "display_name": ".NET (C#)",
   "language": "C#",
   "name": ".net-csharp"
  },
  "language_info": {
   "name": "polyglot-notebook"
  },
  "polyglot_notebook": {
   "kernelInfo": {
    "defaultKernelName": "csharp",
    "items": [
     {
      "aliases": [],
      "name": "csharp"
     }
    ]
   }
  },
  "coopTranslator": {
   "original_hash": "070c1d8985b3dc6e6d977f3e891037f1",
   "translation_date": "2025-10-02T06:25:34+00:00",
   "source_file": "03-agentic-design-patterns/code_samples/03-dotnet-agent-framework.ipynb",
   "language_code": "my"
  }
 },
 "nbformat": 4,
 "nbformat_minor": 5
}