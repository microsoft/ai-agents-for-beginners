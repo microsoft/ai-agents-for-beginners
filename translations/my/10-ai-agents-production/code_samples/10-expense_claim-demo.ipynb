{
 "cells": [
  {
   "cell_type": "markdown",
   "metadata": {},
   "source": [
    "# ခရီးသွားစရိတ်တောင်းခံမှု ချက်ချင်းသုံးသပ်ခြင်း\n",
    "\n",
    "ဒီ notebook က plugin တွေကို အသုံးပြုပြီး ဒေသခံလက်ခံလက်မှတ်ပုံတွေကနေ ခရီးသွားစရိတ်တွေကို အဆင့်ဆင့်လုပ်ဆောင်၊ စရိတ်တောင်းခံအီးမေးလ်ကို ဖန်တီးပြီး စရိတ်ဒေတာကို pie chart နဲ့ မြင်သာအောင် ဖော်ပြပေးတဲ့ agent တွေကို ဖန်တီးပုံကို ပြသထားပါတယ်။ Agent တွေက အလုပ်အကိုင်အခြေအနေအပေါ် မူတည်ပြီး လိုအပ်တဲ့ function တွေကို အလိုအလျောက် ရွေးချယ်ပါတယ်။\n",
    "\n",
    "အဆင့်များ:\n",
    "1. OCR Agent က ဒေသခံလက်ခံလက်မှတ်ပုံကို အဆင့်ဆင့်လုပ်ဆောင်ပြီး ခရီးသွားစရိတ်ဒေတာကို ထုတ်ယူပေးသည်။\n",
    "2. Email Agent က စရိတ်တောင်းခံအီးမေးလ်ကို ဖန်တီးပေးသည်။\n",
    "\n",
    "### ခရီးသွားစရိတ်အခြေအနေတစ်ခု၏ ဥပမာ:\n",
    "သင်ဟာ အခြားမြို့တစ်မြို့ကို စီးပွားရေးအစည်းအဝေးတစ်ခုအတွက် ခရီးသွားနေတဲ့ ဝန်ထမ်းတစ်ဦးဖြစ်တယ်လို့ စဉ်းစားပါ။ သင့်ကုမ္ပဏီမှာ ခရီးသွားစရိတ်ဆိုင်ရာ သင့်တော်တဲ့ စရိတ်အားလုံးကို ပြန်လည်ပေးဆောင်ပေးမယ်ဆိုတဲ့ မူဝါဒရှိပါတယ်။ ခရီးသွားစရိတ်အမျိုးအစားတွေကို အောက်ပါအတိုင်း ခွဲခြားဖော်ပြထားပါတယ်။\n",
    "\n",
    "- သယ်ယူပို့ဆောင်ရေး:\n",
    "သင့်နေအိမ်မြို့ကနေ အစည်းအဝေးမြို့ကို သွားလာခရီးစဉ်အတွက် လေယာဉ်လက်မှတ်။\n",
    "လေဆိပ်ကို သွားလာဖို့ Taxi သို့မဟုတ် ride-hailing ဝန်ဆောင်မှု။\n",
    "အစည်းအဝေးမြို့မှာ ဒေသခံသယ်ယူပို့ဆောင်ရေး (အများပြည်သူသယ်ယူပို့ဆောင်ရေး၊ ကားငှားခြင်း၊ Taxi စသည်တို့)။\n",
    "\n",
    "- နေထိုင်ခန်း:\n",
    "အစည်းအဝေးနေရာအနီးမှာရှိတဲ့ အလယ်အလတ်စီးပွားရေးဟိုတယ်မှာ သုံးညအိပ်စက်ခြင်း။\n",
    "\n",
    "- အစားအသောက်:\n",
    "ကုမ္ပဏီရဲ့ per diem မူဝါဒအရ နေ့စဉ်မနက်စာ၊ နေ့လယ်စာ၊ ညစာအတွက် စရိတ်။\n",
    "\n",
    "- အခြားစရိတ်များ:\n",
    "လေဆိပ်မှာ ကားရပ်နားခ။\n",
    "ဟိုတယ်မှာ အင်တာနက်အသုံးပြုခ။\n",
    "Tips သို့မဟုတ် ဝန်ဆောင်မှုအခကြေးငွေသေးသေးလေးများ။\n",
    "\n",
    "- အထောက်အထား:\n",
    "လေယာဉ်လက်မှတ်၊ Taxi, ဟိုတယ်, အစားအသောက် စသည်တို့အတွက် လက်ခံလက်မှတ်များနှင့် ပြန်လည်ပေးဆောင်မှုအတွက် ပြည့်စုံတဲ့ စရိတ်တောင်းခံအစီရင်ခံစာကို တင်ပြပါ။\n"
   ]
  },
  {
   "cell_type": "markdown",
   "metadata": {},
   "source": [
    "## လိုအပ်သောစာကြည့်တိုက်များကို သွင်းယူပါ\n",
    "\n",
    "Notebook အတွက် လိုအပ်သော စာကြည့်တိုက်များနှင့် module များကို သွင်းယူပါ။\n"
   ]
  },
  {
   "cell_type": "code",
   "execution_count": 1,
   "metadata": {},
   "outputs": [
    {
     "data": {
      "text/plain": [
       "True"
      ]
     },
     "execution_count": 1,
     "metadata": {},
     "output_type": "execute_result"
    }
   ],
   "source": [
    "import os\n",
    "from dotenv import load_dotenv\n",
    "from azure.ai.inference import ChatCompletionsClient\n",
    "from azure.core.credentials import AzureKeyCredential\n",
    "from semantic_kernel.kernel import Kernel\n",
    "from semantic_kernel.agents import AgentGroupChat\n",
    "from openai import AsyncOpenAI\n",
    "from semantic_kernel.agents import ChatCompletionAgent, AgentGroupChat\n",
    "\n",
    "\n",
    "from semantic_kernel.contents.utils.author_role import AuthorRole\n",
    "from semantic_kernel.agents.strategies import SequentialSelectionStrategy, DefaultTerminationStrategy\n",
    "from semantic_kernel.contents.chat_message_content import ChatMessageContent\n",
    "from semantic_kernel.contents import ImageContent, TextContent\n",
    "from semantic_kernel.connectors.ai.open_ai import OpenAIChatCompletion, OpenAIChatPromptExecutionSettings\n",
    "\n",
    "from semantic_kernel.functions import kernel_function, KernelArguments\n",
    "from pydantic import BaseModel, Field\n",
    "from typing import List\n",
    "from azure.ai.inference.models import SystemMessage, UserMessage, TextContentItem, ImageContentItem, ImageUrl, ImageDetailLevel\n",
    "\n",
    "load_dotenv()"
   ]
  },
  {
   "cell_type": "code",
   "execution_count": 2,
   "metadata": {},
   "outputs": [],
   "source": [
    "def _create_kernel_with_chat_completion(service_id: str) -> Kernel:\n",
    "    kernel = Kernel()\n",
    "   \n",
    "    client = AsyncOpenAI(\n",
    "    api_key=os.environ[\"GITHUB_TOKEN\"], base_url=\"https://models.inference.ai.azure.com/\")\n",
    "    kernel.add_service(\n",
    "        OpenAIChatCompletion(\n",
    "            ai_model_id=\"gpt-4o-mini\",\n",
    "            async_client=client,\n",
    "            service_id=\"open_ai\"\n",
    "        )\n",
    "    )\n",
    "\n",
    "    kernel.add_service(\n",
    "        OpenAIChatCompletion(\n",
    "            ai_model_id=\"gpt-4o\",\n",
    "            async_client=client,\n",
    "            service_id=\"gpt-4o\"\n",
    "        )\n",
    "    )\n",
    "\n",
    "    return kernel"
   ]
  },
  {
   "cell_type": "markdown",
   "metadata": {},
   "source": [
    "## အသုံးစရိတ် မော်ဒယ်များ သတ်မှတ်ခြင်း\n",
    "\n",
    "တစ်ခုချင်းအသုံးစရိတ်များအတွက် Pydantic မော်ဒယ်တစ်ခုဖန်တီးပြီး အသုံးပြုသူ၏မေးခွန်းကို ဖွဲ့စည်းထားသော အသုံးစရိတ်ဒေတာအဖြစ် ပြောင်းလဲပေးရန် ExpenseFormatter class တစ်ခု ဖန်တီးပါ။\n",
    "\n",
    "တစ်ခုချင်းအသုံးစရိတ်ကို အောက်ပါပုံစံအတိုင်း ကိုယ်စားပြုပါမည်။\n",
    "`{'date': '07-Mar-2025', 'description': 'flight to destination', 'amount': 675.99, 'category': 'Transportation'}`\n"
   ]
  },
  {
   "cell_type": "code",
   "execution_count": 3,
   "metadata": {},
   "outputs": [],
   "source": [
    "class Expense(BaseModel):\n",
    "    date: str = Field(..., description=\"Date of expense in dd-MMM-yyyy format\")\n",
    "    description: str = Field(..., description=\"Expense description\")\n",
    "    amount: float = Field(..., description=\"Expense amount\")\n",
    "    category: str = Field(..., description=\"Expense category (e.g., Transportation, Meals, Accommodation, Miscellaneous)\")\n",
    "\n",
    "class ExpenseFormatter(BaseModel):\n",
    "    raw_query: str = Field(..., description=\"Raw query input containing expense details\")\n",
    "    \n",
    "    def parse_expenses(self) -> List[Expense]:\n",
    "        \"\"\"\n",
    "        Parses the raw query into a list of Expense objects.\n",
    "        Expected format: \"date|description|amount|category\" separated by semicolons.\n",
    "        \"\"\"\n",
    "        expense_list = []\n",
    "        for expense_str in self.raw_query.split(\";\"):\n",
    "            if expense_str.strip():\n",
    "                parts = expense_str.strip().split(\"|\")\n",
    "                if len(parts) == 4:\n",
    "                    date, description, amount, category = parts\n",
    "                    try:\n",
    "                        expense = Expense(\n",
    "                            date=date.strip(),\n",
    "                            description=description.strip(),\n",
    "                            amount=float(amount.strip()),\n",
    "                            category=category.strip()\n",
    "                        )\n",
    "                        expense_list.append(expense)\n",
    "                    except ValueError as e:\n",
    "                        print(f\"[LOG] Parse Error: Invalid data in '{expense_str}': {e}\")\n",
    "        return expense_list"
   ]
  },
  {
   "cell_type": "markdown",
   "metadata": {},
   "source": [
    "## အေးဂျင့်များကို သတ်မှတ်ခြင်း - အီးမေးလ်ကို ဖန်တီးခြင်း\n",
    "\n",
    "ကုန်ကျစရိတ်တောင်းခံမှုအတွက် အီးမေးလ်တစ်စောင် ဖန်တီးရန် အေးဂျင့် class တစ်ခုကို ဖန်တီးပါ။\n",
    "- ဒီအေးဂျင့်က `kernel_function` အလှဆင်ကို အသုံးပြုပြီး ကုန်ကျစရိတ်တောင်းခံမှုအတွက် အီးမေးလ်တစ်စောင် ဖန်တီးတဲ့ function ကို သတ်မှတ်ပါတယ်။\n",
    "- ကုန်ကျစရိတ်စုစုပေါင်းကိုတွက်ချက်ပြီး အီးမေးလ်အကြောင်းအရာထဲမှာ အသေးစိတ်ကို ဖော်ပြပေးပါတယ်။\n"
   ]
  },
  {
   "cell_type": "code",
   "execution_count": 4,
   "metadata": {},
   "outputs": [],
   "source": [
    "class ExpenseEmailAgent:\n",
    "\n",
    "    @kernel_function(description=\"Generate an email to submit an expense claim to the Finance Team\")\n",
    "    async def generate_expense_email(expenses):\n",
    "        total_amount = sum(expense['amount'] for expense in expenses)\n",
    "        email_body = \"Dear Finance Team,\\n\\n\"\n",
    "        email_body += \"Please find below the details of my expense claim:\\n\\n\"\n",
    "        for expense in expenses:\n",
    "            email_body += f\"- {expense['description']}: ${expense['amount']}\\n\"\n",
    "        email_body += f\"\\nTotal Amount: ${total_amount}\\n\\n\"\n",
    "        email_body += \"Receipts for all expenses are attached for your reference.\\n\\n\"\n",
    "        email_body += \"Thank you,\\n[Your Name]\"\n",
    "        return email_body"
   ]
  },
  {
   "cell_type": "markdown",
   "metadata": {},
   "source": [
    "# ခရီးသွားစရိတ်များကို ဘောင်ချာပုံများမှ ထုတ်ယူရန် Agent\n",
    "\n",
    "ခရီးသွားစရိတ်များကို ဘောင်ချာပုံများမှ ထုတ်ယူရန် agent class တစ်ခု ဖန်တီးပါ။\n",
    "- ဒီ agent သည် `kernel_function` အလှဆင်ကို အသုံးပြုပြီး ခရီးသွားစရိတ်များကို ဘောင်ချာပုံများမှ ထုတ်ယူရန် function တစ်ခုကို သတ်မှတ်ပါသည်။\n",
    "- OCR (Optical Character Recognition) ကို အသုံးပြု၍ ဘောင်ချာပုံကို စာသားအဖြစ် ပြောင်းပြီး ရက်စွဲ၊ ဖော်ပြချက်၊ ငွေပမာဏနှင့် အမျိုးအစားကဲ့သို့သော သက်ဆိုင်သော အချက်အလက်များကို ထုတ်ယူပါ။\n"
   ]
  },
  {
   "cell_type": "code",
   "execution_count": 5,
   "metadata": {},
   "outputs": [],
   "source": [
    "class OCRAgentPlugin:\n",
    "    def __init__(self):\n",
    "        self.client = ChatCompletionsClient(\n",
    "            endpoint=\"https://models.inference.ai.azure.com/\",\n",
    "            credential=AzureKeyCredential(os.environ.get(\"GITHUB_TOKEN\")),\n",
    "        )\n",
    "        self.model_name = \"gpt-4o\"\n",
    "\n",
    "    @kernel_function(description=\"Extract structured travel expense data from receipt.jpg using gpt-4o-model\")\n",
    "    def extract_text(self, image_path: str = \"receipt.jpg\") -> str:\n",
    "        try:\n",
    "            image_url_str = str(ImageUrl.load(image_file=image_path, image_format=\"jpg\", detail=ImageDetailLevel.HIGH))\n",
    "\n",
    "            prompt = (\n",
    "                \"You are an expert OCR assistant specialized in extracting structured data from receipt images. \"\n",
    "                \"Analyze the provided receipt image and extract travel-related expense details in the format: \"\n",
    "                \"'date|description|amount|category' separated by semicolons. \"\n",
    "                \"Follow these rules: \"\n",
    "                \"- Date: Convert dates (e.g., '4/4/22') to 'dd-MMM-yyyy' (e.g., '04-Apr-2022'). \"\n",
    "                \"- Description: Extract item names (e.g., 'Carlson's Drylawn', 'Peigs transaction Probiotics'). \"\n",
    "                \"- Amount: Use numeric values (e.g., '4.50' from '$4.50' or '4.50 dollars'). \"\n",
    "                \"- Category: Infer from context (e.g., 'Meals' for food, 'Transportation' for travel, 'Accommodation' for lodging, 'Miscellaneous' otherwise). \"\n",
    "                \"Ignore totals, subtotals, or service charges unless they are itemized expenses. \"\n",
    "                \"If no expenses are found, return 'No expenses detected'. \"\n",
    "                \"Return only the structured data, no additional text.\"\n",
    "            )\n",
    "            response = self.client.complete(\n",
    "                messages=[\n",
    "                    SystemMessage(content=prompt),\n",
    "                    UserMessage(content=[\n",
    "                        TextContentItem(text=\"Extract travel expenses from this receipt image.\"),\n",
    "                        ImageContentItem(image_url=ImageUrl(url=image_url_str))\n",
    "                    ])\n",
    "                ],\n",
    "                model=self.model_name,\n",
    "                temperature=0.1,\n",
    "                max_tokens=2048\n",
    "            )\n",
    "            extracted_text = response.choices[0].message.content\n",
    "            return extracted_text\n",
    "        except Exception as e:\n",
    "            error_msg = f\"[LOG] OCR Plugin: Error processing image: {str(e)}\"\n",
    "            print(error_msg)\n",
    "            return error_msg"
   ]
  },
  {
   "cell_type": "markdown",
   "metadata": {},
   "source": [
    "## အကုန်အကျဆောင်ရွက်ခြင်း\n",
    "\n",
    "အကုန်အကျများကို ဆောင်ရွက်ရန် လိုအပ်သော အေးဂျင့်များကို ဖန်တီးပြီး မှတ်ပုံတင်ကာ အလုပ်လုပ်စေသည့် asynchronous function တစ်ခုကို သတ်မှတ်ပါ။\n",
    "- ဒီ function သည် ပတ်ဝန်းကျင် variable များကို load လုပ်ခြင်း၊ လိုအပ်သော အေးဂျင့်များကို ဖန်တီးခြင်းနှင့် plugin အဖြစ် မှတ်ပုံတင်ခြင်းအားဖြင့် အကုန်အကျများကို ဆောင်ရွက်သည်။\n",
    "- အေးဂျင့်နှစ်ဦးနှင့်အတူ group chat တစ်ခုကို ဖန်တီးပြီး အကုန်အကျ data အပေါ်မူတည်၍ email နှင့် pie chart ကို ဖန်တီးရန် prompt message တစ်ခုကို ပို့သည်။\n",
    "- Chat invocation အတွင်း ဖြစ်ပေါ်လာသော အမှားများကို ကိုင်တွယ်ပြီး အေးဂျင့်များကို သေချာစွာ ရှင်းလင်းပေးသည်။\n"
   ]
  },
  {
   "cell_type": "code",
   "execution_count": 6,
   "metadata": {},
   "outputs": [],
   "source": [
    "async def process_expenses():\n",
    "    load_dotenv()\n",
    "    settings_slm = OpenAIChatPromptExecutionSettings(service_id=\"gpt-4o\")\n",
    "    settings_llm = OpenAIChatPromptExecutionSettings(service_id=\"open_ai\")  # Fixed typo in service_id\n",
    "    \n",
    "    ocr_agent = ChatCompletionAgent(\n",
    "        kernel=_create_kernel_with_chat_completion(\"ocrAgent\"),\n",
    "        name=\"ocr_agent\",\n",
    "        instructions=\"Extract travel expense data from the receipt image in the prompt using the 'extract_text' function from the 'ocrAgent' plugin. Return the data in the format 'date|description|amount|category' separated by semicolons.\",\n",
    "        arguments=KernelArguments(settings=settings_slm)\n",
    "    )\n",
    "    \n",
    "       \n",
    "    email_agent = ChatCompletionAgent(\n",
    "            kernel=_create_kernel_with_chat_completion(\"expenseEmailAgent\"),\n",
    "            name=\"email_agent\",\n",
    "            instructions=\"Take the travel expense data from the previous agent and generate a professional expense claim email using the 'generate_expense_email' function from the 'expenseEmailAgent' plugin, then pass the data forward.\",\n",
    "            arguments=KernelArguments(\n",
    "                settings=settings_llm)\n",
    "        )\n",
    "\n",
    "\n",
    "    kernel = Kernel()\n",
    "\n",
    "    # Use fixed path to receipt.jpg in the same folder\n",
    "    image_path = \"./receipt.jpg\"\n",
    "    \n",
    "    # Create a structured message with text and image content for OCR processing\n",
    "    image_url_str = f\"file://{image_path}\"\n",
    "    \n",
    "    # Using the correct format for multi-modal content\n",
    "    user_message = ChatMessageContent(\n",
    "        role=AuthorRole.USER,\n",
    "        items=[\n",
    "            TextContent(text=\"\"\"\n",
    "            Please extract the raw text from this receipt image, focusing on travel expenses like dates, descriptions, amounts, and categories (e.g., Transportation, Accommodation, Meals, Miscellaneous).\n",
    "            Then generate a professional expense claim email.\n",
    "                        \"\"\"),\n",
    "            ImageContent.from_image_file(path=image_path)\n",
    "        ]\n",
    "    )\n",
    "\n",
    "    # Register plugins with the kernel\n",
    "    kernel.add_plugin(OCRAgentPlugin(), plugin_name=\"ocrAgent\")\n",
    "    kernel.add_plugin(ExpenseEmailAgent(), plugin_name=\"expenseEmailAgent\")\n",
    "\n",
    "    # Create group chat\n",
    "    chat = AgentGroupChat(\n",
    "        agents=[ocr_agent, email_agent],\n",
    "        selection_strategy=SequentialSelectionStrategy(initial_agent=ocr_agent),\n",
    "        termination_strategy=DefaultTerminationStrategy(maximum_iterations=1)\n",
    "    )\n",
    "\n",
    "    # Add user message with prompt\n",
    "    await chat.add_chat_message(user_message)\n",
    "    print(f\"# User message added to chat with receipt image\")\n",
    "\n",
    "    async for content in chat.invoke():\n",
    "        print(f\"# Agent - {content.name or '*'}: '{content.content}'\")\n"
   ]
  },
  {
   "cell_type": "markdown",
   "metadata": {},
   "source": [
    "## အဓိကလုပ်ဆောင်ချက်\n",
    "\n",
    "အဓိကလုပ်ဆောင်ချက်ကိုသတ်မှတ်ပြီး console ကိုရှင်းလင်းရန်နှင့် `process_expenses` လုပ်ဆောင်ချက်ကို asynchronous အနေဖြင့် run ဖို့လုပ်ပါ။\n"
   ]
  },
  {
   "cell_type": "code",
   "execution_count": 9,
   "metadata": {},
   "outputs": [
    {
     "name": "stdout",
     "output_type": "stream",
     "text": [
      "# User message added to chat with receipt image\n",
      "# Agent - ocr_agent: 'The receipt primarily seems to capture costs for meals and beverages. Below is the extracted travel expense data:\n",
      "\n",
      "**Travel Expense Data:**  \n",
      "`2 May '22|Meals at restaurant|75.15|Meals`\n",
      "\n",
      "---\n",
      "\n",
      "**Professional Expense Claim Email Draft:**  \n",
      "\n",
      "**Subject:** Expense Claim for Meals – 2 May 2022  \n",
      "\n",
      "Dear [Recipient's Name],  \n",
      "\n",
      "I am submitting an expense claim for a meal incurred during a business-related trip. Below are the details:  \n",
      "\n",
      "- **Date:** 2 May 2022  \n",
      "- **Expense Description:** Meals at a restaurant  \n",
      "- **Amount:** $75.15  \n",
      "- **Category:** Meals  \n",
      "\n",
      "Please find the attached receipt for your reference. Kindly process the reimbursement at your earliest convenience. Let me know if you require additional information.  \n",
      "\n",
      "Thank you for your assistance.  \n",
      "\n",
      "Best regards,  \n",
      "[Your Name]  \n",
      "[Your Contact Information]  \n",
      "\n",
      "Let me know if you need further revisions or additional details!'\n"
     ]
    }
   ],
   "source": [
    "async def main():\n",
    "    # Clear the console\n",
    "    os.system('cls' if os.name=='nt' else 'clear')\n",
    "\n",
    "    # Run the async agent code\n",
    "    await process_expenses()\n",
    "\n",
    "await main()"
   ]
  },
  {
   "cell_type": "code",
   "execution_count": null,
   "metadata": {},
   "outputs": [],
   "source": []
  },
  {
   "cell_type": "markdown",
   "metadata": {},
   "source": [
    "\n---\n\n**အကြောင်းကြားချက်**:  \nဤစာရွက်စာတမ်းကို AI ဘာသာပြန်ဝန်ဆောင်မှု [Co-op Translator](https://github.com/Azure/co-op-translator) ကို အသုံးပြု၍ ဘာသာပြန်ထားပါသည်။ ကျွန်ုပ်တို့သည် တိကျမှုအတွက် ကြိုးစားနေသော်လည်း၊ အလိုအလျောက် ဘာသာပြန်မှုများတွင် အမှားများ သို့မဟုတ် မတိကျမှုများ ပါဝင်နိုင်သည်ကို သတိပြုပါ။ မူရင်းဘာသာစကားဖြင့် ရေးသားထားသော စာရွက်စာတမ်းကို အာဏာတရ အရင်းအမြစ်အဖြစ် ရှုလေ့လာသင့်ပါသည်။ အရေးကြီးသော အချက်အလက်များအတွက် လူ့ဘာသာပြန်ပညာရှင်များမှ ဘာသာပြန်မှုကို အကြံပြုပါသည်။ ဤဘာသာပြန်မှုကို အသုံးပြုခြင်းမှ ဖြစ်ပေါ်လာသော အလွဲအလွဲအချော်များ သို့မဟုတ် အနားလွဲမှုများအတွက် ကျွန်ုပ်တို့သည် တာဝန်မယူပါ။\n"
   ]
  }
 ],
 "metadata": {
  "kernelspec": {
   "display_name": "venv",
   "language": "python",
   "name": "python3"
  },
  "language_info": {
   "codemirror_mode": {
    "name": "ipython",
    "version": 3
   },
   "file_extension": ".py",
   "mimetype": "text/x-python",
   "name": "python",
   "nbconvert_exporter": "python",
   "pygments_lexer": "ipython3",
   "version": "3.12.4"
  },
  "coopTranslator": {
   "original_hash": "6ffd20126d1786605b28cf9ca22ed62b",
   "translation_date": "2025-08-30T11:02:55+00:00",
   "source_file": "10-ai-agents-production/code_samples/10-expense_claim-demo.ipynb",
   "language_code": "my"
  }
 },
 "nbformat": 4,
 "nbformat_minor": 2
}