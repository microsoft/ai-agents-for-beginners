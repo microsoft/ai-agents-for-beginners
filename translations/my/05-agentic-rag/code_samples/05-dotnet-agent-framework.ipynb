{
 "cells": [
  {
   "cell_type": "markdown",
   "id": "44b5899e",
   "metadata": {},
   "source": [
    "# 🔍 Azure AI Foundry (.NET) ဖြင့် Enterprise RAG\n",
    "\n",
    "## 📋 သင်ယူရမည့် ရည်မှန်းချက်များ\n",
    "\n",
    "ဒီ notebook က Microsoft Agent Framework ကို .NET နှင့် Azure AI Foundry တွင် အသုံးပြုပြီး enterprise-grade Retrieval-Augmented Generation (RAG) စနစ်များကို တည်ဆောက်ပုံကို ပြသပေးမှာဖြစ်ပါတယ်။ သင့်အနေနဲ့ စက်မှုလုပ်ငန်းအဆင့်အတန်းရှိတဲ့ agent များကို ဖန်တီးပြီး စာရွက်စာတမ်းများကို ရှာဖွေကာ အချိုးကျပြီး အကြောင်းအရာနှင့်သက်ဆိုင်တဲ့ အဖြေများကို လုံခြုံမှုနှင့် အတိုင်းအတာရှိစွမ်းဆောင်ရည်ဖြင့် ပေးနိုင်မည့် နည်းလမ်းများကို သင်ယူနိုင်ပါမည်။\n",
    "\n",
    "**သင်တည်ဆောက်မည့် Enterprise RAG စွမ်းရည်များ:**\n",
    "- 📚 **စာရွက်စာတမ်း အာရုံစူးစိုက်မှု**: Azure AI ဝန်ဆောင်မှုများဖြင့် အဆင့်မြင့်စာရွက်စာတမ်းများကို အလုပ်လုပ်စေခြင်း\n",
    "- 🔍 **Semantic ရှာဖွေမှု**: စက်မှုလုပ်ငန်းအဆင့်အတန်းရှိ vector ရှာဖွေမှု\n",
    "- 🛡️ **လုံခြုံရေး ပေါင်းစည်းမှု**: အခန်းကဏ္ဍအလိုက် ဝင်ရောက်ခွင့်နှင့် ဒေတာကာကွယ်မှု ပုံစံများ\n",
    "- 🏢 **အတိုင်းအတာရှိ စနစ်ပုံစံ**: စက်မှုလုပ်ငန်းအဆင့် RAG စနစ်များကို စောင့်ကြည့်မှုနှင့်အတူ တည်ဆောက်ခြင်း\n",
    "\n",
    "## 🎯 Enterprise RAG ပုံစံ\n",
    "\n",
    "### စက်မှုလုပ်ငန်းအတွက် အဓိကအစိတ်အပိုင်းများ\n",
    "- **Azure AI Foundry**: လုံခြုံမှုနှင့်လိုက်နာမှုရှိသော စက်မှုလုပ်ငန်း AI ပလက်ဖောင်း\n",
    "- **Persistent Agents**: စကားဝိုင်းမှတ်တမ်းနှင့် အကြောင်းအရာစီမံခန့်ခွဲမှုရှိသော stateful agents\n",
    "- **Vector Store Management**: စက်မှုလုပ်ငန်းအဆင့်စာရွက်စာတမ်းများကို အညွှန်းနှင့် ရှာဖွေမှု\n",
    "- **Identity Integration**: Azure AD အတည်ပြုမှုနှင့် အခန်းကဏ္ဍအလိုက် ဝင်ရောက်ခွင့်ထိန်းချုပ်မှု\n",
    "\n",
    "### .NET စက်မှုလုပ်ငန်းအကျိုးကျေးဇူးများ\n",
    "- **Type Safety**: RAG လုပ်ငန်းဆောင်တာများနှင့် ဒေတာဖွဲ့စည်းမှုများအတွက် compile-time အတည်ပြုမှု\n",
    "- **Async Performance**: စာရွက်စာတမ်းများကို non-blocking အလုပ်လုပ်စေခြင်း\n",
    "- **Memory Management**: စာရွက်စာတမ်းအစုအဝေးကြီးများအတွက် အရင်းအမြစ်အသုံးပြုမှုကို ထိရောက်စွာ စီမံခန့်ခွဲခြင်း\n",
    "- **Integration Patterns**: Azure ဝန်ဆောင်မှုများနှင့် dependency injection ဖြင့် သဘာဝကျသော ပေါင်းစည်းမှု\n",
    "\n",
    "## 🏗️ နည်းပညာဆိုင်ရာ ပုံစံ\n",
    "\n",
    "### Enterprise RAG ပိုက်လိုင်း\n",
    "```csharp\n",
    "Document Upload → Security Validation → Vector Processing → Index Creation\n",
    "                      ↓                    ↓                  ↓\n",
    "User Query → Authentication → Semantic Search → Context Ranking → AI Response\n",
    "```\n",
    "\n",
    "### .NET အဓိကအစိတ်အပိုင်းများ\n",
    "- **Azure.AI.Agents.Persistent**: state persistence ဖြင့် စက်မှုလုပ်ငန်း agent စီမံခန့်ခွဲမှု\n",
    "- **Azure.Identity**: Azure ဝန်ဆောင်မှုများကို လုံခြုံစွာ ဝင်ရောက်ခွင့်ရရှိစေရန် အတည်ပြုမှု\n",
    "- **Microsoft.Agents.AI.AzureAI**: Azure အတွက် အထူးပြု agent framework အကောင်အထည်ဖော်မှု\n",
    "- **System.Linq.Async**: အမြန်နှုန်းမြင့် asynchronous LINQ လုပ်ငန်းဆောင်တာများ\n",
    "\n",
    "## 🔧 စက်မှုလုပ်ငန်းအတွက် အင်္ဂါရပ်များနှင့် အကျိုးကျေးဇူးများ\n",
    "\n",
    "### လုံခြုံရေးနှင့်လိုက်နာမှု\n",
    "- **Azure AD Integration**: စက်မှုလုပ်ငန်း identity စီမံခန့်ခွဲမှုနှင့် အတည်ပြုမှု\n",
    "- **Role-Based Access**: စာရွက်စာတမ်းများနှင့် လုပ်ငန်းဆောင်တာများအတွက် ခွင့်ပြုချက်များ\n",
    "- **Data Protection**: အရေးကြီးသောစာရွက်စာတမ်းများအတွက် rest နှင့် transit မှာ စာရင်းဇယား\n",
    "- **Audit Logging**: လိုက်နာမှုလိုအပ်ချက်များအတွက် လုပ်ဆောင်မှုမှတ်တမ်းများ\n",
    "\n",
    "### စွမ်းဆောင်ရည်နှင့် အတိုင်းအတာရှိမှု\n",
    "- **Connection Pooling**: Azure ဝန်ဆောင်မှုများအတွက် ထိရောက်သော ချိတ်ဆက်မှုစီမံခန့်ခွဲမှု\n",
    "- **Async Processing**: အမြင့် throughput အခြေအနေများအတွက် non-blocking လုပ်ငန်းဆောင်တာများ\n",
    "- **Caching Strategies**: မကြာခဏအသုံးပြုသောစာရွက်စာတမ်းများအတွက် caching\n",
    "- **Load Balancing**: အတိုင်းအတာကြီးမားသော deployment များအတွက် ဖြန့်ဝေမှုလုပ်ငန်းဆောင်တာ\n",
    "\n",
    "### စီမံခန့်ခွဲမှုနှင့် စောင့်ကြည့်မှု\n",
    "- **Health Checks**: RAG စနစ်အစိတ်အပိုင်းများအတွက် built-in စောင့်ကြည့်မှု\n",
    "- **Performance Metrics**: ရှာဖွေမှုအရည်အသွေးနှင့် တုံ့ပြန်ချိန်များအပေါ် အချက်အလက်များ\n",
    "- **Error Handling**: ပြဿနာဖြေရှင်းမှုနှင့် retry policies ဖြင့် အပြည့်အဝ exception စီမံခန့်ခွဲမှု\n",
    "- **Configuration Management**: ပတ်ဝန်းကျင်အလိုက် သတ်မှတ်ချက်များနှင့် အတည်ပြုမှု\n",
    "\n",
    "## ⚙️ လိုအပ်ချက်များနှင့် စတင်ခြင်း\n",
    "\n",
    "**ဖွံ့ဖြိုးရေးပတ်ဝန်းကျင်:**\n",
    "- .NET 9.0 SDK သို့မဟုတ် အထက်\n",
    "- Visual Studio 2022 သို့မဟုတ် VS Code (C# extension ဖြင့်)\n",
    "- Azure subscription (AI Foundry ဝင်ရောက်ခွင့်ပါဝင်)\n",
    "\n",
    "**လိုအပ်သော NuGet Packages:**\n",
    "```xml\n",
    "<PackageReference Include=\"Microsoft.Extensions.AI\" Version=\"9.9.0\" />\n",
    "<PackageReference Include=\"Azure.AI.Agents.Persistent\" Version=\"1.2.0-beta.5\" />\n",
    "<PackageReference Include=\"Azure.Identity\" Version=\"1.15.0\" />\n",
    "<PackageReference Include=\"System.Linq.Async\" Version=\"6.0.3\" />\n",
    "<PackageReference Include=\"DotNetEnv\" Version=\"3.1.1\" />\n",
    "```\n",
    "\n",
    "**Azure Authentication Setup:**\n",
    "```bash\n",
    "# Install Azure CLI and authenticate\n",
    "az login\n",
    "az account set --subscription \"your-subscription-id\"\n",
    "```\n",
    "\n",
    "**ပတ်ဝန်းကျင် သတ်မှတ်ချက် (.env ဖိုင်):**\n",
    "```env\n",
    "# Azure AI Foundry configuration (automatically handled via Azure CLI)\n",
    "# Ensure you're authenticated to the correct Azure subscription\n",
    "```\n",
    "\n",
    "## 📊 Enterprise RAG ပုံစံများ\n",
    "\n",
    "### စာရွက်စာတမ်း စီမံခန့်ခွဲမှု ပုံစံများ\n",
    "- **Bulk Upload**: စာရွက်စာတမ်းအစုအဝေးကြီးများကို ထိရောက်စွာ အလုပ်လုပ်စေခြင်း\n",
    "- **Incremental Updates**: အချိန်နှင့်တပြေးညီ စာရွက်စာတမ်းများ ထည့်သွင်းခြင်းနှင့် ပြင်ဆင်ခြင်း\n",
    "- **Version Control**: စာရွက်စာတမ်း ဗားရှင်းများနှင့် ပြောင်းလဲမှုများကို ထိန်းချုပ်ခြင်း\n",
    "- **Metadata Management**: စုံလင်သောစာရွက်စာတမ်း အချက်အလက်များနှင့် အမျိုးအစားခွဲခြင်း\n",
    "\n",
    "### ရှာဖွေမှုနှင့် ရယူမှု ပုံစံများ\n",
    "- **Hybrid Search**: semantic နှင့် keyword ရှာဖွေမှုကို ပေါင်းစပ်ပြီး အကောင်းဆုံးရလဒ်ရရှိစေခြင်း\n",
    "- **Faceted Search**: အမျိုးအစားခွဲခြင်းနှင့် စီစဉ်မှု\n",
    "- **Relevance Tuning**: နယ်ပယ်အထူးပြု လိုအပ်ချက်များအတွက် စံချိန်စံညွှန်းများ\n",
    "- **Result Ranking**: စီးပွားရေးလောကအလိုက် ရလဒ်များကို အဆင့်သတ်မှတ်ခြင်း\n",
    "\n",
    "### လုံခြုံရေး ပုံစံများ\n",
    "- **Document-Level Security**: စာရွက်စာတမ်းတစ်ခုချင်းစီအလိုက် ဝင်ရောက်ခွင့်ထိန်းချုပ်မှု\n",
    "- **Data Classification**: အလိုအလျောက် အရေးကြီးမှုတပ်ဆင်ခြင်းနှင့် ကာကွယ်မှု\n",
    "- **Audit Trails**: RAG လုပ်ငန်းဆောင်တာများအားလုံးကို မှတ်တမ်းတင်ခြင်း\n",
    "- **Privacy Protection**: PII ရှာဖွေမှုနှင့် ဖျက်သိမ်းမှုစွမ်းရည်များ\n",
    "\n",
    "## 🔒 စက်မှုလုပ်ငန်း လုံခြုံရေး အင်္ဂါရပ်များ\n",
    "\n",
    "### Authentication & Authorization\n",
    "```csharp\n",
    "// Azure AD integrated authentication\n",
    "var credential = new AzureCliCredential();\n",
    "var agentsClient = new PersistentAgentsClient(endpoint, credential);\n",
    "\n",
    "// Role-based access validation\n",
    "if (!await ValidateUserPermissions(user, documentId))\n",
    "{\n",
    "    throw new UnauthorizedAccessException(\"Insufficient permissions\");\n",
    "}\n",
    "```\n",
    "\n",
    "### Data Protection\n",
    "- **Encryption**: စာရွက်စာတမ်းများနှင့် ရှာဖွေမှုအညွှန်းများအတွက် အဆုံးမှအဆုံး စာရင်းဇယား\n",
    "- **Access Controls**: အသုံးပြုသူနှင့် အဖွဲ့များအတွက် Azure AD ဖြင့် ခွင့်ပြုချက်များ\n",
    "- **Data Residency**: လိုက်နာမှုအတွက် ဒေတာတည်နေရာထိန်းချုပ်မှု\n",
    "- **Backup & Recovery**: အလိုအလျောက် backup နှင့် disaster recovery စွမ်းရည်များ\n",
    "\n",
    "## 📈 စွမ်းဆောင်ရည် တိုးတက်မှု\n",
    "\n",
    "### Async Processing ပုံစံများ\n",
    "```csharp\n",
    "// Efficient async document processing\n",
    "await foreach (var document in documentStream.AsAsyncEnumerable())\n",
    "{\n",
    "    await ProcessDocumentAsync(document, cancellationToken);\n",
    "}\n",
    "```\n",
    "\n",
    "### Memory Management\n",
    "- **Streaming Processing**: စာရွက်စာတမ်းကြီးများကို memory ပြဿနာမရှိဘဲ အလုပ်လုပ်စေခြင်း\n",
    "- **Resource Pooling**: အရင်းအမြစ်များကို ထိရောက်စွာ ပြန်လည်အသုံးပြုခြင်း\n",
    "- **Garbage Collection**: memory ခွဲဝေမှုပုံစံများကို အကောင်းဆုံးဖြစ်စေခြင်း\n",
    "- **Connection Management**: Azure ဝန်ဆောင်မှု ချိတ်ဆက်မှုကို သင့်တော်စွာ စီမံခန့်ခွဲခြင်း\n",
    "\n",
    "### Caching Strategies\n",
    "- **Query Caching**: မကြာခဏလုပ်ဆောင်သော ရှာဖွေမှုများကို cache ထားခြင်း\n",
    "- **Document Caching**: frequently accessed စာရွက်စာတမ်းများအတွက် in-memory caching\n",
    "- **Index Caching**: vector အညွှန်း caching ကို ထိရောက်စွာ ပြုလုပ်ခြင်း\n",
    "- **Result Caching**: ထုတ်လုပ်ထားသော အဖြေများကို စဉ်ဆက်မပြတ် cache ထားခြင်း\n",
    "\n",
    "## 📊 စက်မှုလုပ်ငန်း အသုံးပြုမှုများ\n",
    "\n",
    "### Knowledge Management\n",
    "- **Corporate Wiki**: ကုမ္ပဏီ၏ အသိပညာအရင်းအမြစ်များကို ရှာဖွေမှု\n",
    "- **Policy & Procedures**: လိုက်နာမှုနှင့် လုပ်ထုံးလုပ်နည်းများအတွက် အလိုအလျောက် လမ်းညွှန်မှု\n",
    "- **Training Materials**: သင်ကြားရေးနှင့် ဖွံ့ဖြိုးတိုးတက်မှုအတွက် အကူအညီ\n",
    "- **Research Databases**: သုတေသနစာတမ်းများကို စမ်းသပ်ခြင်း\n",
    "\n",
    "### Customer Support\n",
    "- **Support Knowledge Base**: အလိုအလျောက် ဖောက်သည်ဝန်ဆောင်မှုအဖြေများ\n",
    "- **Product Documentation**: ထုတ်ကုန်အချက်အလက် ရှာဖွေမှု\n",
    "- **Troubleshooting Guides**: ပြဿနာဖြေရှင်းမှုအတွက် အကြောင်းအရာနှင့်သက်ဆိုင်သော အကူအညီ\n",
    "- **FAQ Systems**: စာရွက်စာတမ်းအစုအဝေးများမှ dynamic FAQ ဖန်တီးခြင်း\n",
    "\n",
    "### Regulatory Compliance\n",
    "- **Legal Document Analysis**: စာချုပ်နှင့် ဥပဒေစာရွက်စာတမ်းများကို စမ်းသပ်ခြင်း\n",
    "- **Compliance Monitoring**: အလိုအလျောက် လိုက်နာမှုစစ်ဆေးမှု\n",
    "- **Risk Assessment**: စာရွက်စာတမ်းအခြေခံပြီး အန္တရာယ်အကဲဖြတ်ခြင်း\n",
    "- **Audit Support**: စစ်ဆေးမှုများအတွက် စာရွက်စာတမ်း ရှာဖွေမှု\n",
    "\n",
    "## 🚀 ထုတ်လုပ်မှု Deployment\n",
    "\n",
    "### Monitoring & Observability\n",
    "- **Application Insights**: အသေးစိတ် telemetry နှင့် စွမ်းဆောင်ရည် စောင့်ကြည့်မှု\n",
    "- **Custom Metrics**: စီးပွားရေးအထူးပြု KPI tracking နှင့် သတိပေးမှု\n",
    "- **Distributed Tracing**: ဝန်ဆောင်မှုများအကြား request tracking\n",
    "- **Health Dashboards**: စနစ်ကျန်းမာရေးနှင့် စွမ်းဆောင်ရည်ကို အချိန်နှင့်တပြေးညီ ကြည့်ရှုခြင်း\n",
    "\n",
    "### Scalability & Reliability\n",
    "- **Auto-Scaling**: load နှင့် စွမ်းဆောင်ရည် metrics အပေါ်မူတည်ပြီး အလိုအလျောက် အတိုင်းအတာချိန်ညှိခြင်း\n",
    "- **High Availability**: multi-region deployment နှင့် failover စွမ်းရည်များ\n",
    "- **Load Testing**: စက်မှုလုပ်ငန်းအတွက် load အခြေအနေများကို စမ်းသပ်ခြင်း\n",
    "- **Disaster Recovery**: အလိုအလျောက် backup နှင့် recovery လုပ်ငန်းစဉ်များ\n",
    "\n",
    "စက်မှုလုပ်ငန်းအတွက် အတိုင်းအတာကြီးမားသော sensitive စာရွက်စာတမ်းများကို ကိုင်တွယ်နိုင်မည့် enterprise-grade RAG စနစ်များကို တည်ဆောက်ရန် အသင့်ဖြစ်ပြီလား? 🏢📖✨\n"
   ]
  },
  {
   "cell_type": "code",
   "execution_count": 1,
   "metadata": {
    "language_info": {
     "name": "polyglot-notebook"
    },
    "polyglot_notebook": {
     "kernelName": "csharp"
    }
   },
   "outputs": [
    {
     "data": {
      "text/html": [
       "<div><div></div><div></div><div><strong>Installed Packages</strong><ul><li><span>Microsoft.Extensions.AI, 9.9.1</span></li></ul></div></div>"
      ]
     },
     "metadata": {},
     "output_type": "display_data"
    }
   ],
   "source": [
    "#r \"nuget: Microsoft.Extensions.AI, 9.9.1\""
   ]
  },
  {
   "cell_type": "code",
   "execution_count": 2,
   "id": "4ec1f0d1",
   "metadata": {
    "language_info": {
     "name": "polyglot-notebook"
    },
    "polyglot_notebook": {
     "kernelName": "csharp"
    }
   },
   "outputs": [
    {
     "data": {
      "text/html": [
       "<div><div></div><div></div><div><strong>Installed Packages</strong><ul><li><span>Azure.AI.Agents.Persistent, 1.2.0-beta.5</span></li><li><span>Azure.Identity, 1.15.0</span></li><li><span>System.Linq.Async, 6.0.3</span></li></ul></div></div>"
      ]
     },
     "metadata": {},
     "output_type": "display_data"
    }
   ],
   "source": [
    "#r \"nuget: Azure.AI.Agents.Persistent, 1.2.0-beta.5\"\n",
    "#r \"nuget: Azure.Identity, 1.15.0\"\n",
    "#r \"nuget: System.Linq.Async, 6.0.3\""
   ]
  },
  {
   "cell_type": "code",
   "execution_count": 3,
   "id": "2363ae07",
   "metadata": {
    "language_info": {
     "name": "polyglot-notebook"
    },
    "polyglot_notebook": {
     "kernelName": "csharp"
    }
   },
   "outputs": [],
   "source": []
  },
  {
   "cell_type": "code",
   "execution_count": null,
   "id": "d10cec9d",
   "metadata": {
    "language_info": {
     "name": "polyglot-notebook"
    },
    "polyglot_notebook": {
     "kernelName": "csharp"
    }
   },
   "outputs": [
    {
     "data": {
      "text/html": [
       "<div><div></div><div></div><div><strong>Installed Packages</strong><ul><li><span>Microsoft.Agents.AI.AzureAI, 1.0.0-preview.251001.2</span></li></ul></div></div>"
      ]
     },
     "metadata": {},
     "output_type": "display_data"
    }
   ],
   "source": [
    "#r \"nuget: Microsoft.Agents.AI.AzureAI, 1.0.0-preview.251001.3\""
   ]
  },
  {
   "cell_type": "code",
   "execution_count": null,
   "id": "78199d1c",
   "metadata": {
    "language_info": {
     "name": "polyglot-notebook"
    },
    "polyglot_notebook": {
     "kernelName": "csharp"
    }
   },
   "outputs": [
    {
     "data": {
      "text/html": [
       "<div><div></div><div></div><div><strong>Installed Packages</strong><ul><li><span>microsoft.agents.ai, 1.0.0-preview.251001.2</span></li></ul></div></div>"
      ]
     },
     "metadata": {},
     "output_type": "display_data"
    }
   ],
   "source": [
    "#r \"nuget: Microsoft.Agents.AI, 1.0.0-preview.251001.3\""
   ]
  },
  {
   "cell_type": "code",
   "execution_count": 6,
   "id": "7de4684a",
   "metadata": {
    "language_info": {
     "name": "polyglot-notebook"
    },
    "polyglot_notebook": {
     "kernelName": "csharp"
    }
   },
   "outputs": [
    {
     "data": {
      "text/html": [
       "<div><div></div><div></div><div><strong>Installed Packages</strong><ul><li><span>DotNetEnv, 3.1.1</span></li></ul></div></div>"
      ]
     },
     "metadata": {},
     "output_type": "display_data"
    }
   ],
   "source": [
    "#r \"nuget: DotNetEnv, 3.1.1\""
   ]
  },
  {
   "cell_type": "code",
   "execution_count": 7,
   "id": "251efd31",
   "metadata": {
    "language_info": {
     "name": "polyglot-notebook"
    },
    "polyglot_notebook": {
     "kernelName": "csharp"
    }
   },
   "outputs": [],
   "source": [
    "using System;\n",
    "using System.Linq;\n",
    "using Azure.AI.Agents.Persistent;\n",
    "using Azure.Identity;\n",
    "using Microsoft.Agents.AI;"
   ]
  },
  {
   "cell_type": "code",
   "execution_count": 8,
   "id": "a2e342f1",
   "metadata": {
    "language_info": {
     "name": "polyglot-notebook"
    },
    "polyglot_notebook": {
     "kernelName": "csharp"
    }
   },
   "outputs": [],
   "source": [
    " using DotNetEnv;"
   ]
  },
  {
   "cell_type": "code",
   "execution_count": 9,
   "id": "a7a01653",
   "metadata": {
    "language_info": {
     "name": "polyglot-notebook"
    },
    "polyglot_notebook": {
     "kernelName": "csharp"
    }
   },
   "outputs": [],
   "source": [
    "Env.Load(\"../../../.env\");"
   ]
  },
  {
   "cell_type": "code",
   "execution_count": 10,
   "id": "a42735d5",
   "metadata": {
    "language_info": {
     "name": "polyglot-notebook"
    },
    "polyglot_notebook": {
     "kernelName": "csharp"
    }
   },
   "outputs": [],
   "source": [
    "var azure_foundry_endpoint = Environment.GetEnvironmentVariable(\"AZURE_AI_PROJECT_ENDPOINT\") ?? throw new InvalidOperationException(\"AZURE_AI_PROJECT_ENDPOINT is not set.\");\n",
    "var azure_foundry_model_id = Environment.GetEnvironmentVariable(\"AZURE_AI_MODEL_DEPLOYMENT_NAME\") ?? \"gpt-4.1-mini\";"
   ]
  },
  {
   "cell_type": "code",
   "execution_count": 11,
   "id": "e29bdb58",
   "metadata": {
    "language_info": {
     "name": "polyglot-notebook"
    },
    "polyglot_notebook": {
     "kernelName": "csharp"
    }
   },
   "outputs": [],
   "source": [
    "string pdfPath = \"./document.md\";"
   ]
  },
  {
   "cell_type": "code",
   "execution_count": 12,
   "id": "7351e12d",
   "metadata": {
    "language_info": {
     "name": "polyglot-notebook"
    },
    "polyglot_notebook": {
     "kernelName": "csharp"
    }
   },
   "outputs": [],
   "source": [
    "using System.IO;\n",
    "\n",
    "async Task<Stream> OpenImageStreamAsync(string path)\n",
    "{\n",
    "\treturn await Task.Run(() => File.OpenRead(path));\n",
    "}\n",
    "\n",
    "var pdfStream = await OpenImageStreamAsync(pdfPath);"
   ]
  },
  {
   "cell_type": "code",
   "execution_count": 13,
   "id": "0b6bf484",
   "metadata": {
    "language_info": {
     "name": "polyglot-notebook"
    },
    "polyglot_notebook": {
     "kernelName": "csharp"
    }
   },
   "outputs": [],
   "source": [
    "var persistentAgentsClient = new PersistentAgentsClient(azure_foundry_endpoint, new AzureCliCredential());"
   ]
  },
  {
   "cell_type": "code",
   "execution_count": 14,
   "id": "81e0dddc",
   "metadata": {
    "language_info": {
     "name": "polyglot-notebook"
    },
    "polyglot_notebook": {
     "kernelName": "csharp"
    }
   },
   "outputs": [],
   "source": [
    "PersistentAgentFileInfo fileInfo = await persistentAgentsClient.Files.UploadFileAsync(pdfStream, PersistentAgentFilePurpose.Agents, \"demo.md\");"
   ]
  },
  {
   "cell_type": "code",
   "execution_count": 15,
   "id": "f0c75d80",
   "metadata": {
    "language_info": {
     "name": "polyglot-notebook"
    },
    "polyglot_notebook": {
     "kernelName": "csharp"
    }
   },
   "outputs": [],
   "source": [
    "PersistentAgentsVectorStore fileStore =\n",
    "            await persistentAgentsClient.VectorStores.CreateVectorStoreAsync(\n",
    "                [fileInfo.Id],\n",
    "                metadata: new Dictionary<string, string>() { { \"agentkey\", bool.TrueString } });"
   ]
  },
  {
   "cell_type": "code",
   "execution_count": 16,
   "id": "c77986c5",
   "metadata": {
    "language_info": {
     "name": "polyglot-notebook"
    },
    "polyglot_notebook": {
     "kernelName": "csharp"
    }
   },
   "outputs": [],
   "source": [
    "PersistentAgent agentModel = await persistentAgentsClient.Administration.CreateAgentAsync(\n",
    "            azure_foundry_model_id,\n",
    "            name: \"DotNetRAGAgent\",\n",
    "            tools: [new FileSearchToolDefinition()],\n",
    "            instructions: \"\"\"\n",
    "                You are an AI assistant designed to answer user questions using only the information retrieved from the provided document(s).\n",
    "\n",
    "                - If a user's question cannot be answered using the retrieved context, **you must clearly respond**: \n",
    "                \"I'm sorry, but the uploaded document does not contain the necessary information to answer that question.\"\n",
    "                - Do not answer from general knowledge or reasoning. Do not make assumptions or generate hypothetical explanations.\n",
    "                - Do not provide definitions, tutorials, or commentary that is not explicitly grounded in the content of the uploaded file(s).\n",
    "                - If a user asks a question like \"What is a Neural Network?\", and this is not discussed in the uploaded document, respond as instructed above.\n",
    "                - For questions that do have relevant content in the document (e.g., Contoso's travel insurance coverage), respond accurately, and cite the document explicitly.\n",
    "\n",
    "                You must behave as if you have no external knowledge beyond what is retrieved from the uploaded document.\n",
    "                \"\"\",\n",
    "            toolResources: new()\n",
    "            {\n",
    "                FileSearch = new()\n",
    "                {\n",
    "                    VectorStoreIds = { fileStore.Id },\n",
    "                }\n",
    "            },\n",
    "            metadata: new Dictionary<string, string>() { { \"agentkey\", bool.TrueString } });"
   ]
  },
  {
   "cell_type": "code",
   "execution_count": 17,
   "id": "282326cf",
   "metadata": {
    "language_info": {
     "name": "polyglot-notebook"
    },
    "polyglot_notebook": {
     "kernelName": "csharp"
    }
   },
   "outputs": [],
   "source": [
    "AIAgent agent = await persistentAgentsClient.GetAIAgentAsync(agentModel.Id);"
   ]
  },
  {
   "cell_type": "code",
   "execution_count": 18,
   "id": "2067d313",
   "metadata": {
    "language_info": {
     "name": "polyglot-notebook"
    },
    "polyglot_notebook": {
     "kernelName": "csharp"
    }
   },
   "outputs": [],
   "source": [
    "AgentThread thread = agent.GetNewThread();"
   ]
  },
  {
   "cell_type": "code",
   "execution_count": 19,
   "id": "454c4230",
   "metadata": {
    "language_info": {
     "name": "polyglot-notebook"
    },
    "polyglot_notebook": {
     "kernelName": "csharp"
    }
   },
   "outputs": [
    {
     "name": "stdout",
     "output_type": "stream",
     "text": [
      "Contoso's travel insurance coverage includes protection for medical emergencies, trip cancellations, and lost baggage. This ensures that travelers are supported in case of health-related issues during their trip, unforeseen cancellations, and the loss of their belongings while traveling【4:0†demo.md】.\r\n"
     ]
    }
   ],
   "source": [
    "Console.WriteLine(await agent.RunAsync(\"Can you explain Contoso's travel insurance coverage?\", thread));"
   ]
  },
  {
   "cell_type": "markdown",
   "metadata": {},
   "source": [
    "\n---\n\n**အကြောင်းကြားချက်**:  \nဤစာရွက်စာတမ်းကို AI ဘာသာပြန်ဝန်ဆောင်မှု [Co-op Translator](https://github.com/Azure/co-op-translator) ကို အသုံးပြု၍ ဘာသာပြန်ထားပါသည်။ ကျွန်ုပ်တို့သည် တိကျမှုအတွက် ကြိုးစားနေသော်လည်း၊ အလိုအလျောက် ဘာသာပြန်မှုများတွင် အမှားများ သို့မဟုတ် မတိကျမှုများ ပါဝင်နိုင်သည်ကို သတိပြုပါ။ မူရင်းဘာသာစကားဖြင့် ရေးသားထားသော စာရွက်စာတမ်းကို အာဏာတရားရှိသော ရင်းမြစ်အဖြစ် သတ်မှတ်သင့်ပါသည်။ အရေးကြီးသော အချက်အလက်များအတွက် လူ့ဘာသာပြန်ပညာရှင်များမှ ဘာသာပြန်မှုကို အကြံပြုပါသည်။ ဤဘာသာပြန်မှုကို အသုံးပြုခြင်းမှ ဖြစ်ပေါ်လာသော အလွဲအလွဲအချော်များ သို့မဟုတ် အနားလွဲမှုများအတွက် ကျွန်ုပ်တို့သည် တာဝန်မယူပါ။\n"
   ]
  }
 ],
 "metadata": {
  "kernelspec": {
   "display_name": ".NET (C#)",
   "language": "C#",
   "name": ".net-csharp"
  },
  "language_info": {
   "name": "polyglot-notebook"
  },
  "polyglot_notebook": {
   "kernelInfo": {
    "defaultKernelName": "csharp",
    "items": [
     {
      "aliases": [],
      "name": "csharp"
     }
    ]
   }
  },
  "coopTranslator": {
   "original_hash": "e4584fa31638009dc6fb665275de8fc2",
   "translation_date": "2025-10-02T06:09:26+00:00",
   "source_file": "05-agentic-rag/code_samples/05-dotnet-agent-framework.ipynb",
   "language_code": "my"
  }
 },
 "nbformat": 4,
 "nbformat_minor": 5
}