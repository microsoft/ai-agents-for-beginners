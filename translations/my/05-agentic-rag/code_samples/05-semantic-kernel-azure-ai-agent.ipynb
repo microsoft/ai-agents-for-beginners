{
 "cells": [
  {
   "cell_type": "markdown",
   "metadata": {},
   "source": [
    "# Azure AI Agent Service နှင့် Semantic Kernel ကို အသုံးပြု၍ RAG\n",
    "\n",
    "ဒီကုဒ်အပိုင်းက `Azure AI Agent Service` နဲ့ `Semantic Kernel` ကို အသုံးပြုပြီး retrieval-augmented generation (RAG) အတွက် Azure AI agent တစ်ခုကို ဖန်တီးပြီး စီမံခန့်ခွဲပုံကို ပြသထားပါတယ်။ Agent က အသုံးပြုသူရဲ့ မေးခွန်းတွေကို ရှာဖွေထားတဲ့ အကြောင်းအရာအခြေခံပြီး ပြန်လည်ဖြေကြားပေးပါတယ်။\n"
   ]
  },
  {
   "cell_type": "markdown",
   "metadata": {},
   "source": []
  },
  {
   "cell_type": "markdown",
   "metadata": {},
   "source": [
    "SQLite ဗားရှင်းပြင်ဆင်မှု  \n",
    "သင်အောက်ပါအမှားကိုတွေ့ရှိပါက -  \n",
    "```\n",
    "RuntimeError: Your system has an unsupported version of sqlite3. Chroma requires sqlite3 >= 3.35.0\n",
    "```  \n",
    "\n",
    "သင်၏ notebook အစမှာ ဒီ code block ကို uncomment လုပ်ပါ:  \n"
   ]
  },
  {
   "cell_type": "code",
   "execution_count": null,
   "metadata": {},
   "outputs": [],
   "source": [
    "# %pip install pysqlite3-binary\n",
    "# __import__('pysqlite3')\n",
    "# import sys\n",
    "# sys.modules['sqlite3'] = sys.modules.pop('pysqlite3')"
   ]
  },
  {
   "cell_type": "markdown",
   "metadata": {},
   "source": [
    "### ပက်ကေ့ဂျ်များကို သွင်းယူခြင်း  \n",
    "အောက်ပါကုဒ်သည် လိုအပ်သော ပက်ကေ့ဂျ်များကို သွင်းယူပါသည်။  \n"
   ]
  },
  {
   "cell_type": "code",
   "execution_count": null,
   "metadata": {},
   "outputs": [],
   "source": [
    "# Azure imports for project client and credentials\n",
    "from azure.ai.projects.models import FileSearchTool, OpenAIFile, VectorStore\n",
    "from azure.identity.aio import DefaultAzureCredential\n",
    "\n",
    "# Semantic Kernel imports\n",
    "from semantic_kernel.agents import AzureAIAgent, AzureAIAgentThread"
   ]
  },
  {
   "cell_type": "markdown",
   "metadata": {},
   "source": [
    "# Semantic Kernel နှင့် Azure AI Agent Service ဖြင့် Retrieval-Augmented Generation\n",
    "\n",
    "ဒီနမူနာက **Azure AI Agent Service** ကိုအသုံးပြုပြီး **Retrieval-Augmented Generation (RAG)** ကို ဘယ်လိုလုပ်ဆောင်ရမယ်ဆိုတာကို ပြသပေးပါတယ်။ ဒါကို ဘာသာစကားမော်ဒယ်နဲ့ တစ်ဦးချင်းအထူးနယ်ပယ်ဆိုင်ရာ အကြောင်းအရာ (တင်သွင်းထားတဲ့စာရွက်စာတမ်း) တွဲဖက်ပြီး လုပ်ဆောင်ပါတယ်။\n",
    "\n",
    "### ဘယ်လိုအလုပ်လုပ်သလဲ\n",
    "\n",
    "1. **စာရွက်စာတမ်းတင်သွင်းခြင်း**: Markdown ဖိုင်တစ်ခု (document.md) ကို Agent Service သို့ တင်သွင်းပြီး အချက်အလက် (Contoso ရဲ့ ခရီးသွားအာမခံမူဝါဒ) ပါဝင်ပါတယ်။\n",
    "\n",
    "2. **Vector Store ဖန်တီးခြင်း**: စာရွက်စာတမ်းကို vector store ထဲမှာ အညွှန်းပြုလုပ်ပြီး အကြောင်းအရာအပေါ် semantic search လုပ်နိုင်အောင် ပြင်ဆင်ထားပါတယ်။\n",
    "\n",
    "3. **Agent ကိုဖွဲ့စည်းခြင်း**: `gpt-4o` မော်ဒယ်ကို အသုံးပြုပြီး အောက်ပါ တိကျတဲ့ညွှန်ကြားချက်များနဲ့ Agent ကို ဖွဲ့စည်းထားပါတယ်။\n",
    "   - ရှာဖွေထားတဲ့စာရွက်စာတမ်းအကြောင်းအရာအပေါ် အခြေခံပြီးသာ မေးခွန်းများကို ဖြေဆိုရမည်။\n",
    "   - မေးခွန်းက အကျုံးအဝင်အပြင်မှာရှိရင် ဖြေဆိုရန် ငြင်းဆိုရမည်။\n",
    "\n",
    "4. **File Search Tool ပေါင်းစည်းခြင်း**: `FileSearchTool` ကို Agent နဲ့ ပေါင်းစည်းထားပြီး မော်ဒယ်က စာရွက်စာတမ်းထဲက အညွှန်းထားတဲ့ အကြောင်းအရာများကို ရှာဖွေပြီး inference အတွင်းမှာ ပြန်လည်ရယူနိုင်အောင် ပြုလုပ်ထားပါတယ်။\n",
    "\n",
    "5. **အသုံးပြုသူနှင့် အပြန်အလှန်ဆက်သွယ်မှု**: အသုံးပြုသူများက မေးခွန်းများမေးနိုင်ပါတယ်။ စာရွက်စာတမ်းထဲမှာ သက်ဆိုင်ရာ အချက်အလက်တွေ ရှိနေခဲ့ရင် Agent က အခြေခံထားတဲ့ အဖြေကို ဖန်တီးပေးပါမယ်။  \n",
    "   မရှိခဲ့ရင်တော့ စာရွက်စာတမ်းထဲမှာ လုံလောက်တဲ့ အချက်အလက် မရှိကြောင်း Agent က တိတိကျကျ ပြောပြပါမယ်။\n"
   ]
  },
  {
   "cell_type": "markdown",
   "metadata": {},
   "source": [
    "### အဓိက Function\n",
    "\n"
   ]
  },
  {
   "cell_type": "markdown",
   "metadata": {},
   "source": [
    "အရင်ဆုံး `az login` ကို Azure CLI ကို အသုံးပြု၍ လုပ်ဆောင်ပါ၊ သင့်အနေဖြင့် `DefaultAzureCredential` ကို အသုံးပြုစဉ် မှန်ကန်သော authentication context ကို ပေးရန် လိုအပ်ပါသည်။ Azure AI Agent Service သည် API keys မသုံးပါ။\n"
   ]
  },
  {
   "cell_type": "code",
   "execution_count": null,
   "metadata": {},
   "outputs": [],
   "source": [
    "async def main():\n",
    "    async with (\n",
    "        DefaultAzureCredential() as creds,\n",
    "        AzureAIAgent.create_client(credential=creds) as client,\n",
    "    ):\n",
    "        file: OpenAIFile = await client.agents.upload_file_and_poll(file_path=\"document.md\", purpose=\"assistants\")\n",
    "        vector_store: VectorStore = await client.agents.create_vector_store_and_poll(\n",
    "            file_ids=[file.id], name=\"my_vectorstore\"\n",
    "        )\n",
    "\n",
    "        # Define agent name and instructions tailored for RAG.\n",
    "        AGENT_NAME = \"RAGAgent\"\n",
    "        AGENT_INSTRUCTIONS = \"\"\"\n",
    "        You are an AI assistant designed to answer user questions using only the information retrieved from the provided document(s).\n",
    "\n",
    "        - If a user's question cannot be answered using the retrieved context, **you must clearly respond**: \n",
    "        \"I'm sorry, but the uploaded document does not contain the necessary information to answer that question.\"\n",
    "        - Do not answer from general knowledge or reasoning. Do not make assumptions or generate hypothetical explanations.\n",
    "        - Do not provide definitions, tutorials, or commentary that is not explicitly grounded in the content of the uploaded file(s).\n",
    "        - If a user asks a question like \"What is a Neural Network?\", and this is not discussed in the uploaded document, respond as instructed above.\n",
    "        - For questions that do have relevant content in the document (e.g., Contoso's travel insurance coverage), respond accurately, and cite the document explicitly.\n",
    "\n",
    "        You must behave as if you have no external knowledge beyond what is retrieved from the uploaded document.\n",
    "        \"\"\"\n",
    "\n",
    "        \n",
    "        # Create file search tool with uploaded resources\n",
    "        file_search = FileSearchTool(vector_store_ids=[vector_store.id])\n",
    "\n",
    "        # 3. Create an agent on the Azure AI agent service with the file search tool\n",
    "        agent_definition = await client.agents.create_agent(\n",
    "            model=\"gpt-4o\",  # This model should match your Azure OpenAI deployment.\n",
    "            name=AGENT_NAME,\n",
    "            instructions=AGENT_INSTRUCTIONS,\n",
    "            tools=file_search.definitions,\n",
    "            tool_resources=file_search.resources,\n",
    "        )\n",
    "        \n",
    "        # Create the Azure AI Agent using the client and definition.\n",
    "        agent = AzureAIAgent(\n",
    "            client=client,\n",
    "            definition=agent_definition,\n",
    "        )\n",
    "        \n",
    "        # Create a thread to hold the conversation\n",
    "        # If no thread is provided, a new thread will be\n",
    "        # created and returned with the initial response\n",
    "        thread: AzureAIAgentThread | None = None\n",
    "        \n",
    "        # Example user queries.\n",
    "        user_inputs = [\n",
    "            \"Can you explain Contoso's travel insurance coverage?\",  # Relevant context.\n",
    "            \"What is a Neural Network?\"  # No relevant context from the document. Will not contain a source annotation.\n",
    "        ]\n",
    "        \n",
    "        try:\n",
    "            for user_input in user_inputs:\n",
    "                print(f\"# User: '{user_input}'\")\n",
    "                # Invoke the agent for the specified thread for response\n",
    "                async for response in agent.invoke(messages=user_input, thread=thread):\n",
    "                    print(f\"# {response.name}: {response}\")\n",
    "                    thread = response.thread\n",
    "        finally:\n",
    "            # Clean up resources.\n",
    "            await thread.delete() if thread else None\n",
    "            await client.agents.delete_vector_store(vector_store.id)\n",
    "            await client.agents.delete_file(file.id)\n",
    "            await client.agents.delete_agent(agent.id)\n",
    "            print(\"\\nCleaned up agent, thread, file, and vector store.\")\n",
    "\n",
    "await main()"
   ]
  },
  {
   "cell_type": "markdown",
   "metadata": {},
   "source": [
    "ကျေးဇူးပြု၍ Markdown ဖိုင်ကို ပေးပါ၊ ပြန်လည်ဘာသာပြန်ပေးပါမည်။\n"
   ]
  },
  {
   "cell_type": "markdown",
   "metadata": {},
   "source": [
    "\n---\n\n**အကြောင်းကြားချက်**:  \nဤစာရွက်စာတမ်းကို AI ဘာသာပြန်ဝန်ဆောင်မှု [Co-op Translator](https://github.com/Azure/co-op-translator) ကို အသုံးပြု၍ ဘာသာပြန်ထားပါသည်။ ကျွန်ုပ်တို့သည် တိကျမှုအတွက် ကြိုးစားနေသော်လည်း၊ အလိုအလျောက် ဘာသာပြန်မှုများတွင် အမှားများ သို့မဟုတ် မတိကျမှုများ ပါဝင်နိုင်သည်ကို သတိပြုပါ။ မူရင်းဘာသာစကားဖြင့် ရေးသားထားသော စာရွက်စာတမ်းကို အာဏာရှိသော ရင်းမြစ်အဖြစ် သတ်မှတ်သင့်ပါသည်။ အရေးကြီးသော အချက်အလက်များအတွက် လူ့ဘာသာပြန်ပညာရှင်များမှ ပရော်ဖက်ရှင်နယ် ဘာသာပြန်မှုကို အကြံပြုပါသည်။ ဤဘာသာပြန်မှုကို အသုံးပြုခြင်းမှ ဖြစ်ပေါ်လာသော အလွဲအလွဲအချော်များ သို့မဟုတ် အနားလွဲမှုများအတွက် ကျွန်ုပ်တို့သည် တာဝန်မယူပါ။\n"
   ]
  }
 ],
 "metadata": {
  "kernelspec": {
   "display_name": ".venv",
   "language": "python",
   "name": "python3"
  },
  "language_info": {
   "codemirror_mode": {
    "name": "ipython",
    "version": 3
   },
   "file_extension": ".py",
   "mimetype": "text/x-python",
   "name": "python",
   "nbconvert_exporter": "python",
   "pygments_lexer": "ipython3",
   "version": "3.11.11"
  },
  "coopTranslator": {
   "original_hash": "a86c3ddfbe35024993bbf563588aad48",
   "translation_date": "2025-08-30T12:24:09+00:00",
   "source_file": "05-agentic-rag/code_samples/05-semantic-kernel-azure-ai-agent.ipynb",
   "language_code": "my"
  }
 },
 "nbformat": 4,
 "nbformat_minor": 2
}