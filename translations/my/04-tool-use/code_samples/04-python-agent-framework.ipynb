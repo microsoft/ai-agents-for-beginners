{
 "cells": [
  {
   "cell_type": "markdown",
   "id": "8744544f",
   "metadata": {},
   "source": [
    "# 🛠️ GitHub မော်ဒယ်များနှင့် အဆင့်မြင့် Tool အသုံးပြုခြင်း (Python)\n",
    "\n",
    "## 📋 သင်ယူရမည့် ရည်ရွယ်ချက်များ\n",
    "\n",
    "ဒီ notebook က Microsoft Agent Framework ကို GitHub မော်ဒယ်များနှင့် ပေါင်းစပ်အသုံးပြုခြင်းအတွက် အဆင့်မြင့် tool ပုံစံများကို ပြသပေးမှာဖြစ်ပါတယ်။ သင်အများအပြား tool များကို ဖန်တီးခြင်း၊ စီမံခန့်ခွဲခြင်းနှင့် ပေါင်းစည်းခြင်းအားဖြင့် အဆင့်မြင့် agent စွမ်းရည်များကို တည်ဆောက်နိုင်မည်ဖြစ်သည်။\n",
    "\n",
    "**သင်ကျွမ်းကျင်သွားမည့်အရာများ:**\n",
    "- 🔧 **Multi-Tool Architecture**: အထူးပြု tool များစွာဖြင့် agent များတည်ဆောက်ခြင်း\n",
    "- 🎯 **Tool Selection Logic**: တစ်ခုချင်းစီသော task အတွက် agent များက သင့်တော်သော tool ကိုရွေးချယ်ပုံ\n",
    "- 📊 **Data Processing Tools**: အမျိုးမျိုးသော data type များကို ကိုင်တွယ်နိုင်သော tool များဖန်တီးခြင်း\n",
    "- 🔗 **Tool Composition**: ရှုပ်ထွေးသော workflow များအတွက် tool များပေါင်းစည်းခြင်း\n",
    "\n",
    "## 🎯 အဓိက Tool ပုံစံများ\n",
    "\n",
    "### Tool ဒီဇိုင်းအခြေခံသဘောတရားများ\n",
    "- **Single Responsibility**: Tool တစ်ခုချင်းစီမှာ ရှင်းလင်းပြီး အဓိကရည်ရွယ်ချက်တစ်ခုသာရှိရမည်\n",
    "- **Type Safety**: Tool အကောင်အထည်ဖော်မှုကို ယုံကြည်စိတ်ချရစေရန် အမျိုးအစားအားကောင်းစွာသတ်မှတ်ထားခြင်း\n",
    "- **Error Handling**: အဆင်မပြေမှုများကို သက်သာစွာဖြေရှင်းခြင်းနှင့် ပြန်လည်ထူထောင်နိုင်မှု\n",
    "- **Composability**: Tool များကို အချင်းချင်း ပေါင်းစည်းအသုံးပြုနိုင်စေရန်\n",
    "\n",
    "### အဆင့်မြင့် Tool အင်္ဂါရပ်များ\n",
    "- **Context Awareness**: စကားဝိုင်းအခြေအနေကို နားလည်နိုင်သော tool များ\n",
    "- **Data Validation**: Input ကို သန့်စင်ခြင်းနှင့် Output ကို စစ်ဆေးခြင်း\n",
    "- **Performance Optimization**: Tool အကောင်အထည်ဖော်မှုကို ထိရောက်စွာလုပ်ဆောင်ခြင်း\n",
    "- **Extensibility**: Tool စွမ်းရည်အသစ်များကို လွယ်ကူစွာ ထည့်သွင်းနိုင်ခြင်း\n",
    "\n",
    "## 🔧 နည်းပညာဆိုင်ရာ Architecture\n",
    "\n",
    "### အဓိကအစိတ်အပိုင်းများ\n",
    "- **Microsoft Agent Framework**: Python ဖြင့် အဆင့်မြင့် tool ပံ့ပိုးမှုရှိသော အကောင်အထည်ဖော်မှု\n",
    "- **GitHub Models Integration**: စွမ်းဆောင်ရည်မြင့်သော ဘာသာစကားမော်ဒယ်များကို အသုံးပြုခြင်း\n",
    "- **Tool Registry System**: Agent စွမ်းရည်များကို စနစ်တကျ စီမံခန့်ခွဲခြင်း\n",
    "- **Error Recovery Patterns**: Tool အကောင်အထည်ဖော်မှု အဆင်မပြေမှုများကို ခိုင်မာစွာ ကိုင်တွယ်နိုင်ခြင်း\n",
    "\n",
    "### Tool Integration Flow\n",
    "```python\n",
    "User Request → Agent Analysis → Tool Selection → Tool Execution → Response Synthesis\n",
    "```\n",
    "\n",
    "## 🛠️ ပြသထားသော Tool အမျိုးအစားများ\n",
    "\n",
    "### 1. **Data Generation Tools**\n",
    "- အကြောင်းအရာ မရေရာသော destination ဖန်တီးသူ\n",
    "- ရာသီဥတု အချက်အလက်ပေးသူ  \n",
    "- ခရီးသွားကုန်ကျစရိတ်တွက်ချက်သူ\n",
    "- လှုပ်ရှားမှုအကြံပေးစက်\n",
    "\n",
    "### 2. **Processing Tools**\n",
    "- စာသား formatting နှင့် validation\n",
    "- Data transformation utilities\n",
    "- အကြောင်းအရာ analysis လုပ်ဆောင်မှုများ\n",
    "- တုံ့ပြန်မှုတိုးတက်စေသော tool များ\n",
    "\n",
    "### 3. **Integration Tools**\n",
    "- အပြင် API connector များ\n",
    "- ဖိုင်စနစ်လုပ်ဆောင်မှုများ\n",
    "- Database query interface များ\n",
    "- Web scraping utilities\n",
    "\n",
    "## ⚙️ လိုအပ်ချက်များနှင့် Setup\n",
    "\n",
    "\n",
    "**လိုအပ်သော Dependencies:**\n",
    "```bash\n",
    "\n",
    "pip install agent-framework-core -U\n",
    "```\n",
    "\n",
    "**Environment Configuration (.env ဖိုင်):**\n",
    "```env\n",
    "GITHUB_TOKEN=your_github_personal_access_token\n",
    "GITHUB_ENDPOINT=https://models.inference.ai.azure.com\n",
    "GITHUB_MODEL_ID=gpt-4o-mini\n",
    "```\n",
    "\n",
    "**Optional APIs:**\n",
    "- ရာသီဥတု service API key (ရာသီဥတု tool များအတွက်)\n",
    "- ငွေကြေးလဲလှယ်မှု API access\n",
    "- ခရီးသွားအချက်အလက် service အထောက်အပံ့\n",
    "\n",
    "## 🎨 ဒီဇိုင်းပုံစံများ\n",
    "\n",
    "### Tool Factory Pattern\n",
    "- Tool ဖန်တီးခြင်းနှင့် configuration ကို စုစည်းထားခြင်း\n",
    "- Tool interface ဒီဇိုင်းကို တစ်စည်းတစ်လုံးဖြစ်စေရန်\n",
    "- Tool registration နှင့် ရှာဖွေမှုကို လွယ်ကူစေရန်\n",
    "\n",
    "### Command Pattern\n",
    "- Tool အကောင်အထည်ဖော်မှု logic ကို encapsulate လုပ်ထားခြင်း\n",
    "- ရှုပ်ထွေးသော လုပ်ဆောင်မှုများအတွက် Undo/Redo စွမ်းရည်\n",
    "- Tool အသုံးပြုမှုအတွက် Audit logging\n",
    "\n",
    "### Observer Pattern\n",
    "- Tool အကောင်အထည်ဖော်မှုကို စောင့်ကြည့်ခြင်း\n",
    "- စွမ်းဆောင်ရည် metrics စုဆောင်းခြင်း\n",
    "- အမှားများကို အစီရင်ခံခြင်းနှင့် သတိပေးခြင်း\n",
    "\n",
    "## 🚀 အကောင်းဆုံးအလေ့အကျင့်များ\n",
    "\n",
    "- **Tool Documentation**: Agent နားလည်နိုင်စေရန် ရှင်းလင်းသော ဖော်ပြချက်များ\n",
    "- **Input Validation**: Parameter များကို ခိုင်မာစွာ စစ်ဆေးခြင်းနှင့် သန့်စင်ခြင်း\n",
    "- **Output Formatting**: Tool response များကို တစ်စည်းတစ်လုံးဖြစ်စေရန်\n",
    "- **Error Messages**: Debugging အတွက် အထောက်အကူပြုသော error အချက်အလက်များ\n",
    "- **Performance**: Tool အကောင်အထည်ဖော်မှုကို ထိရောက်စွာ optimize လုပ်ခြင်း\n",
    "\n",
    "Agent များကို အင်အားကြီးသော tool စွမ်းရည်များဖြင့် တည်ဆောက်ရန် အသင့်ဖြစ်ပါပြီလား? အံ့မခန်းသောအရာတစ်ခုကို ဖန်တီးကြစို့! ⚡\n"
   ]
  },
  {
   "cell_type": "code",
   "execution_count": null,
   "id": "59c0feeb",
   "metadata": {},
   "outputs": [],
   "source": [
    "! pip install agent-framework-core -U"
   ]
  },
  {
   "cell_type": "code",
   "execution_count": null,
   "id": "c0df8a52",
   "metadata": {},
   "outputs": [],
   "source": [
    "# � Import core dependencies for Agent Framework and tool integration\n",
    "# This sets up the essential libraries for building intelligent agents with tool capabilities\n",
    "\n",
    "import asyncio\n",
    "import os\n",
    "import json\n",
    "\n",
    "from dotenv import load_dotenv  # For loading environment variables securely\n",
    "from random import randint\n",
    "\n",
    "# These are the core components for building tool-enabled agents\n",
    "from agent_framework import ChatAgent           # Main agent class\n",
    "from agent_framework.openai import OpenAIChatClient  # OpenAI-compatible client"
   ]
  },
  {
   "cell_type": "code",
   "execution_count": null,
   "id": "24c10eb0",
   "metadata": {},
   "outputs": [],
   "source": [
    "load_dotenv()"
   ]
  },
  {
   "cell_type": "code",
   "execution_count": null,
   "id": "151e0314",
   "metadata": {},
   "outputs": [],
   "source": [
    "# 🔑 Environment variables verification\n",
    "# Ensure all required GitHub Models credentials are properly configured\n",
    "print(\"GITHUB_ENDPOINT:\", os.environ.get(\"GITHUB_ENDPOINT\"))\n",
    "print(\"GITHUB_TOKEN:\", \"***\" if os.environ.get(\"GITHUB_TOKEN\") else \"Not set\")\n",
    "print(\"GITHUB_MODEL_ID:\", os.environ.get(\"GITHUB_MODEL_ID\"))"
   ]
  },
  {
   "cell_type": "code",
   "execution_count": null,
   "id": "a6141584",
   "metadata": {},
   "outputs": [],
   "source": [
    "# 🧪 Test GitHub Models connectivity\n",
    "openai_chat_client = OpenAIChatClient(base_url=os.environ.get(\"GITHUB_ENDPOINT\"), api_key=os.environ.get(\"GITHUB_TOKEN\"), model_id=os.environ.get(\"GITHUB_MODEL_ID\"))"
   ]
  },
  {
   "cell_type": "code",
   "execution_count": null,
   "id": "a6507f83",
   "metadata": {},
   "outputs": [],
   "source": [
    "# 🛠️ Define travel planning tools for agent integration\n",
    "# These functions provide specific capabilities that the agent can invoke dynamically\n",
    "\n",
    "def get_random_destination() -> str:\n",
    "    \"\"\"\n",
    "    🎲 Random destination generator tool\n",
    "    Returns a randomly selected travel destination from curated list\n",
    "    Useful when customers need inspiration for their next vacation\n",
    "    \"\"\"\n",
    "    destinations = [\n",
    "        \"Paris, France\",\n",
    "        \"Tokyo, Japan\", \n",
    "        \"New York City, USA\",\n",
    "        \"London, England\",\n",
    "        \"Rome, Italy\",\n",
    "        \"Sydney, Australia\",\n",
    "        \"Dubai, UAE\",\n",
    "        \"Barcelona, Spain\",\n",
    "        \"Bangkok, Thailand\",\n",
    "        \"Amsterdam, Netherlands\",\n",
    "        \"Istanbul, Turkey\",\n",
    "        \"Prague, Czech Republic\",\n",
    "        \"Santorini, Greece\",\n",
    "        \"Reykjavik, Iceland\",\n",
    "        \"Marrakech, Morocco\",\n",
    "        \"Cape Town, South Africa\",\n",
    "        \"Rio de Janeiro, Brazil\",\n",
    "        \"Bali, Indonesia\"\n",
    "    ]\n",
    "    # 🎯 Return random selection from the curated destination list\n",
    "    return destinations[randint(0, len(destinations) - 1)]"
   ]
  },
  {
   "cell_type": "code",
   "execution_count": null,
   "id": "5d4f0568",
   "metadata": {},
   "outputs": [],
   "source": [
    "# 🔗 Initialize GitHub Models chat client for agent communication\n",
    "# Creates the primary interface between the agent and the language model\n",
    "openai_chat_client = OpenAIChatClient(base_url=os.environ.get(\"GITHUB_ENDPOINT\"), api_key=os.environ.get(\"GITHUB_TOKEN\"), model_id=os.environ.get(\"GITHUB_MODEL_ID\"))"
   ]
  },
  {
   "cell_type": "code",
   "execution_count": null,
   "id": "751668c5",
   "metadata": {},
   "outputs": [],
   "source": [
    "# 🤖 Configure travel agent identity and behavioral instructions\n",
    "# Define the agent's personality, capabilities, and operational guidelines\n",
    "\n",
    "AGENT_NAME = \"TravelAgent\"\n",
    "\n",
    "AGENT_INSTRUCTIONS = \"\"\"You are a helpful AI Agent that can help plan vacations for customers at random destinations\n",
    "\"\"\""
   ]
  },
  {
   "cell_type": "code",
   "execution_count": null,
   "id": "be18ac4f",
   "metadata": {},
   "outputs": [],
   "source": [
    "agent = ChatAgent(\n",
    "        name = AGENT_NAME,\n",
    "        chat_client=openai_chat_client,\n",
    "        instructions=AGENT_INSTRUCTIONS,\n",
    "        tools=[get_random_destination]\n",
    ")"
   ]
  },
  {
   "cell_type": "code",
   "execution_count": null,
   "id": "772e9481",
   "metadata": {},
   "outputs": [],
   "source": [
    "thread = agent.get_new_thread()"
   ]
  },
  {
   "cell_type": "code",
   "execution_count": null,
   "id": "a731b547",
   "metadata": {},
   "outputs": [],
   "source": [
    "response1 = await agent.run(\"Plan me a day trip\",thread= thread)"
   ]
  },
  {
   "cell_type": "code",
   "execution_count": null,
   "id": "7d3fe00a",
   "metadata": {},
   "outputs": [],
   "source": [
    "\n",
    "last_message = response1.messages[-1]\n",
    "text_content = last_message.contents[0].text\n",
    "print(\"Travel plan:\")\n",
    "print(text_content)"
   ]
  },
  {
   "cell_type": "markdown",
   "metadata": {},
   "source": [
    "\n---\n\n**အကြောင်းကြားချက်**:  \nဤစာရွက်စာတမ်းကို AI ဘာသာပြန်ဝန်ဆောင်မှု [Co-op Translator](https://github.com/Azure/co-op-translator) ကို အသုံးပြု၍ ဘာသာပြန်ထားပါသည်။ ကျွန်ုပ်တို့သည် တိကျမှန်ကန်မှုအတွက် ကြိုးစားနေသော်လည်း၊ အလိုအလျောက် ဘာသာပြန်ခြင်းတွင် အမှားများ သို့မဟုတ် မမှန်ကန်မှုများ ပါဝင်နိုင်သည်ကို သတိပြုပါ။ မူရင်းဘာသာစကားဖြင့် ရေးသားထားသော စာရွက်စာတမ်းကို အာဏာရှိသော အရင်းအမြစ်အဖြစ် သတ်မှတ်သင့်ပါသည်။ အရေးကြီးသော အချက်အလက်များအတွက် လူက ဘာသာပြန်ခြင်းကို အကြံပြုပါသည်။ ဤဘာသာပြန်ကို အသုံးပြုခြင်းမှ ဖြစ်ပေါ်လာသော အလွဲအမှားများ သို့မဟုတ် အနားလွဲမှုများအတွက် ကျွန်ုပ်တို့သည် တာဝန်မယူပါ။\n"
   ]
  }
 ],
 "metadata": {
  "kernelspec": {
   "display_name": "agentenv",
   "language": "python",
   "name": "python3"
  },
  "language_info": {
   "codemirror_mode": {
    "name": "ipython",
    "version": 3
   },
   "file_extension": ".py",
   "mimetype": "text/x-python",
   "name": "python",
   "nbconvert_exporter": "python",
   "pygments_lexer": "ipython3",
   "version": "3.12.10"
  },
  "polyglot_notebook": {
   "kernelInfo": {
    "defaultKernelName": "csharp",
    "items": [
     {
      "aliases": [],
      "name": "csharp"
     }
    ]
   }
  },
  "coopTranslator": {
   "original_hash": "42966ddac53cebaf0ac1ce33b2ee7059",
   "translation_date": "2025-10-02T06:21:12+00:00",
   "source_file": "04-tool-use/code_samples/04-python-agent-framework.ipynb",
   "language_code": "my"
  }
 },
 "nbformat": 4,
 "nbformat_minor": 5
}