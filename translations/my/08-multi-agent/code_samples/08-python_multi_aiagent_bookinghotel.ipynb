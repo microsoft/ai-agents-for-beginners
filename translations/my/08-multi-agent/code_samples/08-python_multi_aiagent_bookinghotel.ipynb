{
 "cells": [
  {
   "cell_type": "markdown",
   "metadata": {},
   "source": [
    "## **နမူနာများ: ဟိုတယ်အခန်းများအတွက် Multi-AI Agents**\n",
    "\n",
    "ယနေ့ခေတ် အမြန်နှုန်းမြင့်လှတဲ့လောကမှာ စီးပွားရေးခရီးစဉ်ကို စီစဉ်ရာမှာ လေယာဉ်လက်မှတ်နဲ့ ဟိုတယ်အခန်းဘွတ်ကင်လုပ်တာထက် ပိုပြီးစီမံခန့်ခွဲမှုနဲ့ ထိရောက်မှုလိုအပ်ပါတယ်။ ဒီအချိန်မှာ Multi-AI Agents တွေက အရေးပါလာပြီး ခရီးသွားလိုအပ်ချက်တွေကို စီမံခန့်ခွဲပုံကို ပြောင်းလဲပေးနိုင်ပါတယ်။\n",
    "\n",
    "သင့်ရဲ့ခရီးစဉ်ကို တိကျမှုနဲ့ လွယ်ကူမှုအပြည့်အဝဖြင့် စီမံခန့်ခွဲပေးနိုင်တဲ့ ဉာဏ်ရည်မြင့်အေးဂျင့်အဖွဲ့တစ်ခုကို သင့်အတွက် ရှိနေတယ်လို့ စိတ်ကူးပါ။ ကျွန်တော်တို့ရဲ့ အဆင့်မြင့် AI နည်းပညာဖြင့် ဘွတ်ကင်ဝန်ဆောင်မှုနဲ့ ခရီးစဉ်စီစဉ်မှုအတွက် အထူးပြုအေးဂျင့်တွေကို ဖန်တီးထားပြီး ခရီးသွားမှုကို အဆင်ပြေပြီး စိတ်ပူစရာကင်းစေတဲ့ အတွေ့အကြုံကို အာမခံပေးပါတယ်။\n",
    "\n",
    "ဒါက အခြေခံအခြေအနေတစ်ခုပါ။ စီးပွားရေးခရီးစဉ်ကို စီစဉ်တဲ့အခါ လေယာဉ်လက်မှတ်အချက်အလက်၊ ဟိုတယ်အချက်အလက်တွေကို ရယူဖို့ စီးပွားရေးခရီးသွားအေးဂျင့်နဲ့ တိုင်ပင်ဖို့လိုအပ်ပါတယ်။ AI Agents တွေကို အသုံးပြုပြီး ဘွတ်ကင်ဝန်ဆောင်မှုအတွက် အေးဂျင့်တွေ၊ ခရီးစဉ်စီစဉ်မှုအတွက် အေးဂျင့်တွေကို တည်ဆောက်ကာ ပိုမိုထိရောက်တဲ့ ဉာဏ်ရည်အဆင့်ကို တိုးတက်စေဖို့ ပူးပေါင်းလုပ်ဆောင်နိုင်ပါတယ်။\n"
   ]
  },
  {
   "cell_type": "markdown",
   "metadata": {},
   "source": [
    "# Azure AI Agent Service ကို Initialize လုပ်ပြီး **.env** မှ configuration အချက်အလက်များရယူရန်\n",
    "\n",
    "### **.env**\n",
    "\n",
    "**.env** ဖိုင်တစ်ခု ဖန်တီးပါ။\n",
    "\n",
    "**.env** တွင် Azure AI Agent Service ၏ connection string, AOAI အသုံးပြုမည့် model, နှင့် ဆက်စပ် Google API Search service API, ENDPOINT စသည်တို့ ပါဝင်သည်။\n",
    "\n",
    "- **AZURE_AI_AGENT_MODEL_DEPLOYMENT_NAME** = \"သင့် Azure AI Agent Service Model Deployment Name\"\n",
    "\n",
    "[**NOTE**] သင့်တွင် 100,000 Rate Limit (Tokens per minute) နှင့် 600 Rate Limit (Request per minute) ရှိသော model တစ်ခု လိုအပ်ပါမည်။\n",
    "\n",
    "  သင့်အနေဖြင့် Azure AI Foundry - Model and Endpoint တွင် model ရယူနိုင်ပါသည်။\n",
    "\n",
    "- **AZURE_AI_AGENT_PROJECT_CONNECTION_STRING** = \"သင့် Azure AI Agent Service Project Connection String\"\n",
    "\n",
    "  Project connection string ကို AI Foundry Portal Screen ၏ project overview တွင် ရယူနိုင်ပါသည်။\n",
    "\n",
    "- **SERPAPI_SEARCH_API_KEY** = \"သင့် SERPAPI Search API KEY\"\n",
    "- **SERPAPI_SEARCH_ENDPOINT** = \"သင့် SERPAPI Search Endpoint\"\n",
    "\n",
    "Azure AI Agent Service ၏ Model Deployment Name နှင့် Project Connection String ရယူရန်အတွက် Azure AI Agent Service တစ်ခု ဖန်တီးရန် လိုအပ်ပါသည်။ [ဒီ template](https://portal.azure.com/#create/Microsoft.Template/uri/https%3A%2F%2Fraw.githubusercontent.com%2Ffosteramanda%2Fazure-agent-quickstart-templates%2Frefs%2Fheads%2Fmaster%2Fquickstarts%2Fmicrosoft.azure-ai-agent-service%2Fstandard-agent%2Fazuredeploy.json) ကို အသုံးပြု၍ တိုက်ရိုက်ဖန်တီးရန် အကြံပြုပါသည်။ （***မှတ်ချက်:*** Azure AI Agent Service သည် လက်ရှိတွင် အကန့်အသတ်ရှိသော ဒေသများတွင်သာ ရရှိနိုင်ပါသည်။ [ဒီလင့်ခ်](https://learn.microsoft.com/en-us/azure/ai-services/agents/concepts/model-region-support) ကို ကိုးကား၍ ဒေသကို သတ်မှတ်ရန် အကြံပြုပါသည်။）\n",
    "\n",
    "Agent သည် SERPAPI ကို အသုံးပြုရန် လိုအပ်ပါသည်။ [ဒီလင့်ခ်](https://serpapi.com/searches) ကို အသုံးပြု၍ မှတ်ပုံတင်ရန် အကြံပြုပါသည်။ မှတ်ပုံတင်ပြီးနောက် သင့်အတွက် ထူးခြားသော API KEY နှင့် ENDPOINT ရရှိနိုင်ပါသည်။\n"
   ]
  },
  {
   "cell_type": "markdown",
   "metadata": {},
   "source": [
    "# Azure သို့ ဝင်ရောက်ခြင်း\n",
    "\n",
    "Azure သို့ ဝင်ရောက်ရန်အတွက် VScode တွင် terminal ကိုဖွင့်ပြီး `az login` command ကို run လုပ်ပါ။\n"
   ]
  },
  {
   "cell_type": "markdown",
   "metadata": {},
   "source": [
    "# စတင်ခြင်း\n",
    "\n",
    "ဒီ notebook ကို run ဖို့အတွက် အောက်ပါ libraries တွေကို install လုပ်ရန်လိုအပ်ပါမယ်။ လိုအပ်တဲ့ libraries တွေ နဲ့ အတူ pip install commands တွေကို အောက်မှာ ဖော်ပြထားပါတယ်။\n",
    "\n",
    "azure-identity: Azure authentication အတွက်။\n",
    "requests: HTTP requests လုပ်ရန်အတွက်။\n",
    "semantic-kernel: semantic kernel framework အတွက် (ဒါဟာ custom သို့မဟုတ် အထူး library ဖြစ်နိုင်ပြီး၊ သတ်မှတ်ထားတဲ့ source သို့မဟုတ် repository မှ install လုပ်ဖို့လိုအပ်နိုင်ပါတယ်။)\n"
   ]
  },
  {
   "cell_type": "code",
   "execution_count": null,
   "metadata": {},
   "outputs": [],
   "source": [
    "!pip install azure-identity\n",
    "!pip install requests\n",
    "!pip install semantic-kernel\n",
    "!pip install --upgrade semantic_kernel\n",
    "!pip install azure-cli"
   ]
  },
  {
   "cell_type": "markdown",
   "metadata": {},
   "source": [
    "# ရှင်းလင်းချက်:\n",
    "import asyncio: ဒီဟာက asyncio module ကို import လုပ်တာဖြစ်ပြီး Python မှာ asynchronous programming ကို ပံ့ပိုးပေးပါတယ်။ ဒါက async နဲ့ await syntax ကိုသုံးပြီး concurrent code ရေးသားနိုင်စေပါတယ်။\n",
    "from typing: Annotated: typing module ထဲက Annotated type ကို import လုပ်တာဖြစ်ပါတယ်။ Annotated ကို type hints တွေမှာ metadata ထည့်သွင်းဖို့အသုံးပြုနိုင်ပြီး validation, documentation, သို့မဟုတ် tooling စတဲ့အမျိုးမျိုးအတွက် အသုံးဝင်နိုင်ပါတယ်။\n"
   ]
  },
  {
   "cell_type": "code",
   "execution_count": null,
   "metadata": {
    "dotnet_interactive": {
     "language": "csharp"
    },
    "polyglot_notebook": {
     "kernelName": "csharp"
    }
   },
   "outputs": [],
   "source": [
    "import asyncio,os\n",
    "from typing import Annotated"
   ]
  },
  {
   "cell_type": "markdown",
   "metadata": {},
   "source": [
    "# ရှင်းလင်းချက်:\n",
    "`from dotenv import load_dotenv` နှင့် `load_dotenv()` ကို အသုံးပြုခြင်းဖြင့် `.env` ဖိုင်အတွင်းရှိ configuration ဆက်တင်များနှင့် အရေးကြီးသောအချက်အလက်များ (API key များနှင့် database URL များကဲ့သို့သော) ကို လွယ်ကူစွာ စီမံနိုင်ပြီး၊ အဆိုပါအချက်အလက်များကို သင့်ရဲ့ source code မှ ခွဲထုတ်ထားနိုင်သည်။ ဒီလိုလုပ်ခြင်းက သင့် application ကို ပိုမိုလုံခြုံစေပြီး၊ ဆက်တင်ပြုလုပ်ရန်လည်း ပိုမိုလွယ်ကူစေပါသည်။\n"
   ]
  },
  {
   "cell_type": "code",
   "execution_count": null,
   "metadata": {},
   "outputs": [],
   "source": [
    "import os\n",
    "from dotenv import load_dotenv\n",
    "\n",
    "# Load environment variables from .env file\n",
    "load_dotenv()"
   ]
  },
  {
   "cell_type": "markdown",
   "metadata": {},
   "source": [
    "# ရှင်းလင်းချက်:\n",
    "\n",
    "Import Statement: from azure.identity.aio import DefaultAzureCredential: ဒီမှာ DefaultAzureCredential class ကို azure.identity.aio module မှာ import လုပ်ထားပါတယ်။ aio ဆိုတာ module နာမည်မှာ ပါလာတာက asynchronous operations အတွက် ဒီ module ကို ဒီဇိုင်းထုတ်ထားတာကို ပြသပါတယ်။\n",
    "\n",
    "DefaultAzureCredential ရဲ့ ရည်ရွယ်ချက်: DefaultAzureCredential class ဟာ Azure SDK for Python ရဲ့ အစိတ်အပိုင်းတစ်ခုဖြစ်ပါတယ်။ ဒါဟာ Azure services တွေနဲ့ authenticate လုပ်ဖို့ default နည်းလမ်းတစ်ခုကို ပေးထားပါတယ်။ ဒါဟာ environment variables, managed identity, Azure CLI credentials စတဲ့ နည်းလမ်းအမျိုးမျိုးကို အစီအစဉ်တစ်ခုအတိုင်း အသုံးပြုပြီး authenticate လုပ်ဖို့ ကြိုးစားပါတယ်။\n",
    "\n",
    "Asynchronous Operations: aio module ဟာ DefaultAzureCredential class က asynchronous operations တွေကို ပံ့ပိုးပေးတယ်ဆိုတာကို ပြသပါတယ်။ ဒါကဆိုရင် authentication requests တွေကို non-blocking အနေနဲ့ asyncio နဲ့ အသုံးပြုနိုင်တယ်ဆိုတာကို ဆိုလိုပါတယ်။\n"
   ]
  },
  {
   "cell_type": "code",
   "execution_count": null,
   "metadata": {
    "dotnet_interactive": {
     "language": "csharp"
    },
    "polyglot_notebook": {
     "kernelName": "csharp"
    }
   },
   "outputs": [],
   "source": [
    "from azure.identity.aio import DefaultAzureCredential"
   ]
  },
  {
   "cell_type": "markdown",
   "metadata": {},
   "source": [
    "# ရှင်းပြချက်:\n",
    "semantic_kernel package မှ module များနှင့် class များကို သွင်းယူထားသည်။ အောက်တွင် သွင်းယူမှုတစ်ခုချင်းစီကို ခွဲခြမ်းဖော်ပြထားသည် -\n",
    "\n",
    "AgentGroupChat from semantic_kernel.agents: AI agent များအတွက် အုပ်စုဆွေးနွေးမှု (group chat) ဆိုင်ရာ လုပ်ဆောင်ချက်များကို ကိုင်တွယ်ပေးသည့် class ဖြစ်သည်။\n",
    "\n",
    "AzureAIAgent နှင့် AzureAIAgentSettings from semantic_kernel.agents.azure_ai:\n",
    "\n",
    "AzureAIAgent: Azure AI ဝန်ဆောင်မှုများကို အသုံးပြုသည့် AI agent များကို ဖန်တီးခြင်းနှင့် စီမံခန့်ခွဲခြင်းအတွက် အသုံးပြုသော class ဖြစ်သည်။\n",
    "\n",
    "AzureAIAgentSettings: AzureAIAgent အတွက် setting များကို ပြင်ဆင်ရန် အသုံးပြုသော class ဖြစ်သည်။\n",
    "\n",
    "TerminationStrategy from semantic_kernel.agents.strategies.termination.termination_strategy:\n",
    "\n",
    "AI agent များ၏ လုပ်ဆောင်မှုကို အချို့သော အခြေအနေများတွင် ရပ်တန့်စေသည့် မဟာဗျူဟာများကို သတ်မှတ်ပေးသည့် class ဖြစ်သည်။\n",
    "\n",
    "ChatMessageContent from semantic_kernel.contents.chat_message_content:\n",
    "\n",
    "Chat message များ၏ အကြောင်းအရာကို ကိုင်တွယ်ရန် အသုံးပြုသော class ဖြစ်သည်။\n",
    "\n",
    "AuthorRole from semantic_kernel.contents.utils.author_role:\n",
    "\n",
    "Chat message များတွင် စာရေးသူ၏ အခန်းကဏ္ဍများကို သတ်မှတ်ပေးသည့် class ဖြစ်သည်။\n",
    "\n",
    "kernel_function from semantic_kernel.functions.kernel_function_decorator:\n",
    "\n",
    "semantic kernel framework အတွင်းတွင် အလုပ်လုပ်နိုင်သည့် kernel function များကို သတ်မှတ်ရန် အသုံးပြုသော decorator ဖြစ်သည်။\n",
    "\n",
    "ဤသွင်းယူမှုများသည် AI agent များကို ဖန်တီးခြင်းနှင့် စီမံခန့်ခွဲခြင်းအတွက် လိုအပ်သော အစိတ်အပိုင်းများကို ပြင်ဆင်ပေးသည်။ ထို့အပြင်၊ ဤ agent များသည် အုပ်စုဆွေးနွေးမှု ပတ်ဝန်းကျင်တွင် လုပ်ဆောင်နိုင်ရန် အထောက်အကူပြုသည်။ ဥပမာအားဖြင့် ဟိုတယ်များကို ကြိုတင်မှာကြားခြင်းကဲ့သို့သော လုပ်ငန်းများအတွက် အသုံးချနိုင်သည်။\n"
   ]
  },
  {
   "cell_type": "code",
   "execution_count": null,
   "metadata": {
    "dotnet_interactive": {
     "language": "csharp"
    },
    "polyglot_notebook": {
     "kernelName": "csharp"
    }
   },
   "outputs": [],
   "source": [
    "from semantic_kernel.agents import AgentGroupChat\n",
    "from semantic_kernel.agents import AzureAIAgent, AzureAIAgentSettings\n",
    "from semantic_kernel.agents.strategies.termination.termination_strategy import TerminationStrategy\n",
    "from semantic_kernel.contents import ChatMessageContent\n",
    "from semantic_kernel.contents import AuthorRole\n",
    "from semantic_kernel.functions.kernel_function_decorator import kernel_function"
   ]
  },
  {
   "cell_type": "markdown",
   "metadata": {},
   "source": [
    "# ရှင်းလင်းချက်:\n",
    "နောက်တစ်ဆင့်မှာ azure.ai.projects.models module မှ CodeInterpreterTool class ကို import လုပ်ပါမယ်။\n",
    "\n",
    "CodeInterpreterTool: ဒီ class ဟာ Azure AI SDK ရဲ့ အစိတ်အပိုင်းတစ်ခုဖြစ်ပြီး AI project တွေမှာ code ကို အဓိပ္ပါယ်ဖော်ပြပြီး အကောင်အထည်ဖော်ဖို့ အသုံးပြုနိုင်ပါတယ်။ ဒါဟာ code snippet တွေကို run လုပ်ခြင်း၊ code ကို ခွဲခြမ်းစိတ်ဖြာခြင်း၊ ဒါမှမဟုတ် AI workflow တွေမှာ code execution ကို ပေါင်းစပ်အသုံးပြုခြင်းစတဲ့ လုပ်ဆောင်ချက်တွေကို ပံ့ပိုးပေးပါတယ်။\n",
    "ဒီ import လုပ်ဆောင်ချက်က CodeInterpreterTool ကို သင့် project မှာ အသုံးပြုနိုင်ဖို့ လိုအပ်တဲ့ component ကို ပြင်ဆင်ပေးတာဖြစ်ပြီး code ကို dynamic အနေနဲ့ အဓိပ္ပါယ်ဖော်ပြပြီး အကောင်အထည်ဖော်ဖို့ လိုအပ်တဲ့ လုပ်ငန်းစဉ်တွေမှာ အသုံးဝင်နိုင်ပါတယ်။\n"
   ]
  },
  {
   "cell_type": "code",
   "execution_count": null,
   "metadata": {
    "dotnet_interactive": {
     "language": "csharp"
    },
    "polyglot_notebook": {
     "kernelName": "csharp"
    }
   },
   "outputs": [],
   "source": [
    "from azure.ai.projects.models import CodeInterpreterTool"
   ]
  },
  {
   "cell_type": "markdown",
   "metadata": {},
   "source": [
    "# ရှင်းလင်းချက်:  \n",
    "ApprovalTerminationStrategy အတန်းသည် AI အေးဂျင့်၏ လုပ်ဆောင်မှုကို ရပ်တန့်စေသော အထူးမူဝါဒတစ်ခုကို ပံ့ပိုးပေးသည်။ အေးဂျင့်၏ အပြန်အလှန် သမိုင်းမှတ်တမ်းအတွင်း နောက်ဆုံးစာသားတွင် \"saved\" ဆိုသော စကားလုံးပါရှိပါက အေးဂျင့်သည် ရပ်တန့်မည်ဖြစ်သည်။ ၎င်းသည် အေးဂျင့်၏ လုပ်ငန်းတာဝန်ကို \"saved\" ဟု အတည်ပြုချက်ရရှိသောအခါ ပြီးစီးသည်ဟု သတ်မှတ်နိုင်သည့် အခြေအနေများတွင် အသုံးဝင်နိုင်ပါသည်။ အပြန်အလှန်နည်းလမ်းကို သတ်မှတ်ပါ။ အော်ဒါအစီအစဉ်ကို သိမ်းဆည်းပြီးနောက် \"saved\" ဆိုသော အချက်ပြချက်ကို လက်ခံရရှိသောအခါ ရပ်တန့်နိုင်ပါသည်။\n"
   ]
  },
  {
   "cell_type": "code",
   "execution_count": null,
   "metadata": {
    "dotnet_interactive": {
     "language": "csharp"
    },
    "polyglot_notebook": {
     "kernelName": "csharp"
    }
   },
   "outputs": [],
   "source": [
    "class ApprovalTerminationStrategy(TerminationStrategy):\n",
    "    \"\"\"A strategy for determining when an agent should terminate.\"\"\"\n",
    "\n",
    "    async def should_agent_terminate(self, agent, history):\n",
    "        \"\"\"Check if the agent should terminate.\"\"\"\n",
    "        return \"saved\" in history[-1].content.lower()"
   ]
  },
  {
   "cell_type": "markdown",
   "metadata": {},
   "source": [
    "# ရှင်းလင်းချက်\n",
    "\n",
    "ဒီကုဒ်လိုင်းက AzureAIAgentSettings object ကို create() method ကိုခေါ်သုံးပြီး ပုံမှန် သို့မဟုတ် ကြိုတင်သတ်မှတ်ထားတဲ့ ဆက်တင်များနဲ့ အစပြုဖို့ အတွက် အသုံးပြုပါတယ်။ ဒီ settings object (ai_agent_settings) ကို AzureAIAgent instance တစ်ခုကို ပြင်ဆင်ပြီး စီမံခန့်ခွဲဖို့ အသုံးပြုနိုင်ပါတယ်။\n"
   ]
  },
  {
   "cell_type": "code",
   "execution_count": null,
   "metadata": {
    "dotnet_interactive": {
     "language": "csharp"
    },
    "polyglot_notebook": {
     "kernelName": "csharp"
    }
   },
   "outputs": [],
   "source": [
    "ai_agent_settings = AzureAIAgentSettings.create()"
   ]
  },
  {
   "cell_type": "markdown",
   "metadata": {},
   "source": [
    "# ရှင်းလင်းချက်:\n",
    "requests library ကို import လုပ်ခြင်းအားဖြင့် Python code မှာ HTTP requests လုပ်နိုင်ပြီး web services တွေနဲ့ အလွယ်တကူ အပြန်အလှန်လုပ်ဆောင်နိုင်ပါတယ်။\n"
   ]
  },
  {
   "cell_type": "code",
   "execution_count": null,
   "metadata": {
    "dotnet_interactive": {
     "language": "csharp"
    },
    "polyglot_notebook": {
     "kernelName": "csharp"
    }
   },
   "outputs": [],
   "source": [
    "import requests"
   ]
  },
  {
   "cell_type": "markdown",
   "metadata": {},
   "source": [
    "# ရှင်းလင်းချက်:\n",
    "ဒီဟာက SERP (Search Engine Results Page) API ဝန်ဆောင်မှုကို အသုံးပြုဖို့ API key ကို သိမ်းဆည်းထားတဲ့ variable တစ်ခုပါ။ API key က သင့်အကောင့်နဲ့ ဆက်စပ်ထားတဲ့ တောင်းဆိုမှုတွေကို အတည်ပြုဖို့ အသုံးပြုတဲ့ တစ်ခုတည်းသော အထူးအမှတ်အသားတစ်ခုဖြစ်ပါတယ်။\n",
    "\n",
    "'GOOGLE_SEARCH_API_KEY': ဒီဟာက placeholder string တစ်ခုပါ။ ''GOOGLE_SEARCH_API_KEY' ကို သင့်ရဲ့ အမှန်တကယ် SERP API key နဲ့ အစားထိုးဖို့ လိုအပ်ပါတယ်။\n",
    "\n",
    "ရည်ရွယ်ချက်: ဒီလိုင်းရဲ့ ရည်ရွယ်ချက်က API key ကို variable ထဲမှာ သိမ်းဆည်းထားပြီး SERP API ဝန်ဆောင်မှုကို အသုံးပြုဖို့ တောင်းဆိုမှုတွေကို အတည်ပြုဖို့ အသုံးပြုနိုင်ဖို့ ဖြစ်ပါတယ်။ API key က ဝန်ဆောင်မှုကို အသုံးပြုပြီး ရှာဖွေမှုတွေကို လုပ်ဆောင်ဖို့ လိုအပ်ပါတယ်။\n",
    "\n",
    "SERP API Key ရယူရန် နည်းလမ်း: SERP API key ရဖို့ အောက်ပါ အခြေခံအဆင့်တွေကို https://serpapi.com မှာ လိုက်နာပါ (သင့်အသုံးပြုမည့် SERP API ဝန်ဆောင်မှုအပေါ် မူတည်ပြီး အတိအကျအဆင့်တွေက ကွဲပြားနိုင်ပါတယ်)။\n",
    "\n",
    "1. SERP API ဝန်ဆောင်မှုတစ်ခုကို ရွေးချယ်ပါ: SerpAPI, Google Custom Search JSON API စတဲ့ SERP API ဝန်ဆောင်မှုအမျိုးမျိုး ရှိပါတယ်။ သင့်လိုအပ်ချက်နဲ့ ကိုက်ညီတဲ့ ဝန်ဆောင်မှုကို ရွေးချယ်ပါ။\n",
    "\n",
    "2. အကောင့်တစ်ခု ဖွင့်ပါ:\n",
    "\n",
    "ရွေးချယ်ထားတဲ့ SERP API ဝန်ဆောင်မှုရဲ့ ဝက်ဘ်ဆိုဒ် https://www.serpapi.com ကို သွားပြီး အကောင့်တစ်ခု ဖွင့်ပါ။ အခြေခံအချက်အလက်တစ်ချို့ကို ဖြည့်စွက်ပြီး သင့်အီးမေးလ်လိပ်စာကို အတည်ပြုဖို့ လိုအပ်နိုင်ပါတယ်။\n",
    "\n",
    "3. API Key တစ်ခု ဖန်တီးပါ:\n",
    "\n",
    "အကောင့်ဖွင့်ပြီးနောက်၊ သင့်အကောင့်ထဲကို ဝင်ပြီး API အပိုင်း သို့မဟုတ် dashboard ကို သွားပါ။ API key အသစ်တစ်ခု ဖန်တီးရန် သို့မဟုတ် ထုတ်လုပ်ရန် ရွေးချယ်စရာကို ရှာပါ။\n",
    " \n",
    "4. API Key ကို ကူးယူပါ:\n",
    "\n",
    "API key ထုတ်လုပ်ပြီးတာနဲ့ အဲဒီ key ကို ကူးယူပါ။ ဒီ key က SERP API ဝန်ဆောင်မှုကို အသုံးပြုဖို့ သင့်တောင်းဆိုမှုတွေကို အတည်ပြုဖို့ အသုံးပြုမည့် key ဖြစ်ပါတယ်။\n",
    "\n",
    "5. Placeholder ကို အစားထိုးပါ:\n",
    "\n",
    "သင့် .env ဖိုင်ထဲမှာ placeholder ကို အစားထိုးပါ။\n"
   ]
  },
  {
   "cell_type": "code",
   "execution_count": null,
   "metadata": {
    "dotnet_interactive": {
     "language": "csharp"
    },
    "polyglot_notebook": {
     "kernelName": "csharp"
    }
   },
   "outputs": [],
   "source": [
    "SERPAPI_SEARCH_API_KEY=os.getenv('SERPAPI_SEARCH_API_KEY')"
   ]
  },
  {
   "cell_type": "code",
   "execution_count": null,
   "metadata": {
    "dotnet_interactive": {
     "language": "csharp"
    },
    "polyglot_notebook": {
     "kernelName": "csharp"
    }
   },
   "outputs": [],
   "source": [
    "SERPAPI_SEARCH_ENDPOINT = os.getenv('SERPAPI_SEARCH_ENDPOINT')"
   ]
  },
  {
   "cell_type": "markdown",
   "metadata": {},
   "source": [
    "# ရှင်းလင်းချက်:\n",
    "BookingPlugin အတန်းသည် Serpapi.com Google Search API ကို အသုံးပြု၍ ဟိုတယ်များနှင့် လေယာဉ်များကို ကြိုတင်မှာယူနိုင်ရန် နည်းလမ်းများပေးဆောင်သည်။ ၎င်းသည် လိုအပ်သော parameters များကို ဖန်တီးပြီး၊ API တောင်းဆိုမှုများကို ပို့ဆောင်ကာ ပြန်လည်ရရှိသော တုံ့ပြန်မှုများကို ဆက်လက်လုပ်ဆောင်ပြီး သက်ဆိုင်ရာ ကြိုတင်မှာယူမှု အချက်အလက်များကို ပြန်ပေးသည်။ API key (SERPAPI_SEARCH_API_KEY) နှင့် endpoint (SERPAPI_SEARCH_ENDPOINT) ကို Google Search API သို့ အတည်ပြုပြီး တောင်းဆိုမှုများ ပို့ရန် အသုံးပြုသည်။\n"
   ]
  },
  {
   "cell_type": "code",
   "execution_count": null,
   "metadata": {
    "dotnet_interactive": {
     "language": "csharp"
    },
    "polyglot_notebook": {
     "kernelName": "csharp"
    }
   },
   "outputs": [],
   "source": [
    "# Define Booking Plugin\n",
    "class BookingPlugin:\n",
    "    \"\"\"Booking Plugin for customers\"\"\"\n",
    "    @kernel_function(description=\"booking hotel\")\n",
    "    def booking_hotel(self,query: Annotated[str, \"The name of the city\"], check_in_date: Annotated[str, \"Hotel Check-in Time\"], check_out_date: Annotated[str, \"Hotel Check-in Time\"])-> Annotated[str, \"Return the result of booking hotel infomation\"]:\n",
    "\n",
    "        params = {\n",
    "            \"engine\": \"google_hotels\",\n",
    "            \"q\": query,\n",
    "            \"check_in_date\": check_in_date,\n",
    "            \"check_out_date\": check_out_date,\n",
    "            \"adults\": \"2\",\n",
    "            \"currency\": \"USD\",\n",
    "            \"gl\": \"us\",\n",
    "            \"hl\": \"en\",\n",
    "            \"api_key\": SERPAPI_SEARCH_API_KEY\n",
    "        }\n",
    "\n",
    "        response = requests.get(SERPAPI_SEARCH_ENDPOINT, params=params)\n",
    "        if response.status_code == 200:\n",
    "            response = response.json()\n",
    "            return response[\"properties\"]\n",
    "        else:\n",
    "            return None\n",
    "\n",
    "    \n",
    "    @kernel_function(description=\"booking fight\")\n",
    "    def  booking_fight(self,origin: Annotated[str, \"The name of Departure\"], destination: Annotated[str, \"The name of Destination\"], outbound_date: Annotated[str, \"The date of outbound\"], return_date: Annotated[str, \"The date of Return_date\"])-> Annotated[str, \"Return the result of booking fight infomation\"]:\n",
    "        \n",
    "        go_params = {\n",
    "            \"engine\": \"google_flights\",   \n",
    "            \"departure_id\": origin,\n",
    "            \"arrival_id\": destination,\n",
    "            \"outbound_date\": outbound_date,\n",
    "            \"return_date\": return_date,  \n",
    "            \"currency\": \"USD\",\n",
    "            \"hl\": \"en\",\n",
    "            \"api_key\": SERPAPI_SEARCH_API_KEY  \n",
    "        }\n",
    "\n",
    "        print(go_params)\n",
    "\n",
    "        go_response = requests.get(SERPAPI_SEARCH_ENDPOINT, params=go_params)\n",
    "\n",
    "\n",
    "        result = ''\n",
    "\n",
    "        if go_response.status_code == 200:\n",
    "            response = go_response.json()\n",
    "\n",
    "            result += \"# outbound \\n \" + str(response)\n",
    "        else:\n",
    "            print('error!!!')\n",
    "            # return None\n",
    "\n",
    "        \n",
    "        back_params = {\n",
    "            \"engine\": \"google_flights\",   \n",
    "            \"departure_id\": destination,\n",
    "            \"arrival_id\": origin,\n",
    "            \"outbound_date\": return_date,\n",
    "            \"return_date\": return_date,  \n",
    "            \"currency\": \"USD\",\n",
    "            \"hl\": \"en\",\n",
    "            \"api_key\": SERPAPI_SEARCH_API_KEY  \n",
    "        }\n",
    "\n",
    "\n",
    "        print(back_params)\n",
    "\n",
    "\n",
    "        back_response = requests.get(SERPAPI_SEARCH_ENDPOINT, params=back_params)\n",
    "\n",
    "\n",
    "\n",
    "        if back_response.status_code == 200:\n",
    "            response = back_response.json()\n",
    "\n",
    "            result += \"\\n # return \\n\"  + str(response)\n",
    "\n",
    "        else:\n",
    "            print('error!!!')\n",
    "            # return None\n",
    "        \n",
    "        print(result)\n",
    "\n",
    "        return result\n",
    "\n",
    "        \n"
   ]
  },
  {
   "cell_type": "markdown",
   "metadata": {},
   "source": [
    "# ရှင်းလင်းချက်:\n",
    "SavePlugin class သည် Azure AI ဝန်ဆောင်မှုများကို အသုံးပြု၍ ခရီးစဉ်အစီအစဉ်များကို သိမ်းဆည်းရန် saving_plan method ကို ပေးထားသည်။ ယင်းသည် Azure အတည်ပြုချက်များကို စနစ်တကျ သတ်မှတ်ပြီး၊ AI agent တစ်ခုကို ဖန်တီးကာ၊ အသုံးပြုသူ၏ အချက်အလက်များကို လုပ်ငန်းစဉ်ဖြင့် ခရီးစဉ်အစီအစဉ်အကြောင်းအရာကို ဖန်တီးပြီး သိမ်းဆည်းသည်။ ဖိုင်ကို သိမ်းဆည်းခြင်းနှင့် ရှင်းလင်းရေးလုပ်ငန်းစဉ်များကို စီမံခန့်ခွဲသည်။ အဆိုပါလုပ်ငန်းစဉ်အောင်မြင်စွာ ပြီးမြောက်ပါက \"Saved\" ဟု ပြန်လည်ပေးအပ်သည်။\n"
   ]
  },
  {
   "cell_type": "code",
   "execution_count": null,
   "metadata": {
    "dotnet_interactive": {
     "language": "csharp"
    },
    "polyglot_notebook": {
     "kernelName": "csharp"
    }
   },
   "outputs": [],
   "source": [
    "class SavePlugin:\n",
    "    \"\"\"Save Plugin for customers\"\"\"\n",
    "    @kernel_function(description=\"saving plan\")\n",
    "    async def saving_plan(self,tripplan: Annotated[str, \"The content of trip plan\"])-> Annotated[str, \"Return status of save content\"]:\n",
    "\n",
    "        async with (\n",
    "            DefaultAzureCredential() as creds,\n",
    "            AzureAIAgent.create_client(\n",
    "                credential=creds,\n",
    "                conn_str=ai_agent_settings.project_connection_string.get_secret_value(),\n",
    "            ) as client,\n",
    "        ):\n",
    "\n",
    "            code_interpreter = CodeInterpreterTool()\n",
    "            \n",
    "            agent_definition = await client.agents.create_agent(\n",
    "                model=ai_agent_settings.model_deployment_name,\n",
    "                tools=code_interpreter.definitions,\n",
    "                tool_resources=code_interpreter.resources,\n",
    "            )\n",
    "\n",
    "\n",
    "            agent = AzureAIAgent(\n",
    "                client=client,\n",
    "                definition=agent_definition,\n",
    "            )\n",
    "\n",
    "            thread = await client.agents.create_thread()\n",
    "\n",
    "\n",
    "            user_inputs = [\n",
    "                \"\"\"\n",
    "            \n",
    "                        You are my Python programming assistant. Generate code,save \"\"\"+ tripplan +\n",
    "                        \n",
    "                    \"\"\"    \n",
    "                        and execute it according to the following requirements\n",
    "\n",
    "                        1. Save blog content to trip-{YYMMDDHHMMSS}.md\n",
    "\n",
    "                        2. give me the download this file link\n",
    "                    \"\"\"\n",
    "            ]\n",
    "\n",
    "\n",
    "\n",
    "            try:\n",
    "                for user_input in user_inputs:\n",
    "                    # Add the user input as a chat message\n",
    "                    await agent.add_chat_message(\n",
    "                        thread_id=thread.id, message=ChatMessageContent(role=AuthorRole.USER, content=user_input)\n",
    "                    )\n",
    "                    print(f\"# User: '{user_input}'\")\n",
    "                    # Invoke the agent for the specified thread\n",
    "                    async for content in agent.invoke(thread_id=thread.id):\n",
    "                        if content.role != AuthorRole.TOOL:\n",
    "                            print(f\"# Agent: {content.content}\")\n",
    "\n",
    "                    \n",
    "                    messages = await client.agents.list_messages(thread_id=thread.id)\n",
    "\n",
    "                    # OpenAIPageableListOfThreadMessage\n",
    "                    # OpenAIPageableListOfThreadMessage\n",
    "\n",
    "\n",
    "                    for file_path_annotation in messages.file_path_annotations:\n",
    "\n",
    "                            file_name = os.path.basename(file_path_annotation.text)\n",
    "\n",
    "                            await client.agents.save_file(file_id=file_path_annotation.file_path.file_id, file_name=file_name,target_dir=\"./trip\")\n",
    "\n",
    "                    \n",
    "            finally:\n",
    "                await client.agents.delete_thread(thread.id)\n",
    "                await client.agents.delete_agent(agent.id)\n",
    "\n",
    "\n",
    "        return \"Saved\""
   ]
  },
  {
   "cell_type": "markdown",
   "metadata": {},
   "source": [
    "# ရှင်းလင်းချက်  \n",
    "ဒီကုဒ်ဟာ Azure AI အေးဂျင့်တွေကို သုံးပြီး လေယာဉ်လက်မှတ်နဲ့ ဟိုတယ်ဘွတ်ကင်လုပ်ခြင်း၊ ခရီးစဉ်အစီအစဉ်တွေကို သိမ်းဆည်းခြင်းကို စီမံခန့်ခွဲဖို့အတွက် ဖန်တီးထားတာပါ။ ဒါဟာ Azure အချက်အလက်တွေကို အသုံးပြုပြီး အေးဂျင့်တွေကို ဖန်တီးခြင်း၊ ဖွဲ့စည်းခြင်း၊ အသုံးပြုသူရဲ့ အချက်အလက်တွေကို အုပ်စုချတ်တစ်ခုကနေ လုပ်ဆောင်ခြင်း၊ အလုပ်တွေပြီးဆုံးတဲ့အခါမှာ သေချာစွာ ရှင်းလင်းမှုလုပ်ဆောင်ခြင်းတို့ကို လုပ်ဆောင်ပါတယ်။ အေးဂျင့်တွေဟာ သူတို့ရဲ့ တာဝန်တွေကို လုပ်ဆောင်ဖို့အတွက် အထူး Plugin (BookingPlugin နဲ့ SavePlugin) တွေကို အသုံးပြုပါတယ်။  \n"
   ]
  },
  {
   "cell_type": "code",
   "execution_count": null,
   "metadata": {
    "dotnet_interactive": {
     "language": "csharp"
    },
    "polyglot_notebook": {
     "kernelName": "csharp"
    }
   },
   "outputs": [],
   "source": [
    "async with (\n",
    "    DefaultAzureCredential() as creds,\n",
    "    AzureAIAgent.create_client(\n",
    "        credential=creds,\n",
    "        conn_str=ai_agent_settings.project_connection_string.get_secret_value(),\n",
    "    ) as client,\n",
    "):\n",
    "    BOOKING_AGENT_NAME = \"BookingAgent\"\n",
    "    BOOKING_AGENT_INSTRUCTIONS = \"\"\"\n",
    "    You are a booking agent. Help me book flights or hotels.\n",
    "\n",
    "    Thought: Please understand the user's intention and confirm whether to use the reservation system to complete the task.\n",
    "\n",
    "    Actions:\n",
    "    - For flight bookings, convert the departure and destination names into airport codes.\n",
    "    - Use the appropriate API for hotel or flight bookings. Verify that all necessary parameters are available. If any parameters are missing, ask the user to provide them. If all parameters are complete, call the corresponding function.\n",
    "    - If the task is not related to hotel or flight booking, respond with the final answer only.\n",
    "    - Output the results using a markdown table:\n",
    "      - For flight bookings, output separate outbound and return contents in the order of:\n",
    "        Departure Airport | Airline | Flight Number | Departure Time | Arrival Airport | Arrival Time | Duration | Airplane | Travel Class | Price (USD) | Legroom | Extensions | Carbon Emissions (kg).\n",
    "      - For hotel bookings, output in the order of:\n",
    "        Property Name | Property Description | Check-in Time | Check-out Time | Prices | Nearby Places | Hotel Class | GPS Coordinates.\n",
    "    \"\"\"\n",
    "\n",
    "    SAVE_AGENT_NAME = \"SaveAgent\"\n",
    "    SAVE_AGENT_INSTRUCTIONS = \"\"\"\n",
    "    You are a save tool agent. Help me to save the trip plan.\n",
    "    \"\"\"\n",
    "\n",
    "    # Create agent definition\n",
    "    booking_agent_definition = await client.agents.create_agent(\n",
    "        model=ai_agent_settings.model_deployment_name,\n",
    "        name=BOOKING_AGENT_NAME,\n",
    "        instructions=BOOKING_AGENT_INSTRUCTIONS,\n",
    "    )\n",
    "\n",
    "    # Create the AzureAI Agent\n",
    "    booking_agent = AzureAIAgent(\n",
    "        client=client,\n",
    "        definition=booking_agent_definition,\n",
    "        # Optionally configure polling options\n",
    "        # polling_options=RunPollingOptions(run_polling_interval=timedelta(seconds=1)),\n",
    "    )\n",
    "\n",
    "    # Add the sample plugin to the kernel\n",
    "    booking_agent.kernel.add_plugin(BookingPlugin(), plugin_name=\"booking\")\n",
    "\n",
    "    # Create agent definition\n",
    "    save_agent_definition = await client.agents.create_agent(\n",
    "        model=ai_agent_settings.model_deployment_name,\n",
    "        name=SAVE_AGENT_NAME,\n",
    "        instructions=SAVE_AGENT_INSTRUCTIONS\n",
    "    )\n",
    "\n",
    "    # Create the AzureAI Agent\n",
    "    save_agent = AzureAIAgent(\n",
    "        client=client,\n",
    "        definition=save_agent_definition,\n",
    "    )\n",
    "\n",
    "    save_agent.kernel.add_plugin(SavePlugin(), plugin_name=\"saving\")\n",
    "\n",
    "    user_inputs = [\n",
    "        \"I have a business trip from London to New York in Feb 20 2025 to Feb 27 2025 ,help me to book a hotel and fight tickets and save it\"\n",
    "    ]\n",
    "\n",
    "    chat = AgentGroupChat(\n",
    "        agents=[booking_agent, save_agent],\n",
    "        termination_strategy=ApprovalTerminationStrategy(agents=[save_agent], maximum_iterations=10),\n",
    "    )\n",
    "\n",
    "    try:\n",
    "        for user_input in user_inputs:\n",
    "            # Add the user input as a chat message\n",
    "            await chat.add_chat_message(\n",
    "                ChatMessageContent(role=AuthorRole.USER, content=user_input)\n",
    "            )\n",
    "            print(f\"# User: '{user_input}'\")\n",
    "\n",
    "            async for content in chat.invoke():\n",
    "                print(f\"# {content.role} - {content.name or '*'}: '{content.content}'\")\n",
    "\n",
    "            print(f\"# IS COMPLETE: {chat.is_complete}\")\n",
    "\n",
    "            print(\"*\" * 60)\n",
    "            print(\"Chat History (In Descending Order):\\n\")\n",
    "            async for message in chat.get_chat_messages(agent=save_agent):\n",
    "                print(f\"# {message.role} - {message.name or '*'}: '{message.content}'\")\n",
    "    finally:\n",
    "        await chat.reset()\n",
    "        await client.agents.delete_agent(save_agent.id)\n",
    "        await client.agents.delete_agent(booking_agent.id)\n"
   ]
  },
  {
   "cell_type": "markdown",
   "metadata": {},
   "source": [
    "\n---\n\n**အကြောင်းကြားချက်**:  \nဤစာရွက်စာတမ်းကို AI ဘာသာပြန်ဝန်ဆောင်မှု [Co-op Translator](https://github.com/Azure/co-op-translator) ကို အသုံးပြု၍ ဘာသာပြန်ထားပါသည်။ ကျွန်ုပ်တို့သည် တိကျမှုအတွက် ကြိုးစားနေသော်လည်း၊ အလိုအလျောက် ဘာသာပြန်မှုများတွင် အမှားများ သို့မဟုတ် မတိကျမှုများ ပါဝင်နိုင်သည်ကို သတိပြုပါ။ မူရင်းဘာသာစကားဖြင့် ရေးသားထားသော စာရွက်စာတမ်းကို အာဏာတရ အရင်းအမြစ်အဖြစ် သတ်မှတ်သင့်ပါသည်။ အရေးကြီးသော အချက်အလက်များအတွက် လူက ဘာသာပြန်မှု ဝန်ဆောင်မှုကို အသုံးပြုရန် အကြံပြုပါသည်။ ဤဘာသာပြန်မှုကို အသုံးပြုခြင်းမှ ဖြစ်ပေါ်လာသော အလွဲအလွတ်များ သို့မဟုတ် အနားယူမှုများအတွက် ကျွန်ုပ်တို့သည် တာဝန်မယူပါ။\n"
   ]
  }
 ],
 "metadata": {
  "kernelspec": {
   "display_name": "3.12.1",
   "language": "python",
   "name": "python3"
  },
  "language_info": {
   "codemirror_mode": {
    "name": "ipython",
    "version": 3
   },
   "file_extension": ".py",
   "mimetype": "text/x-python",
   "name": "python",
   "nbconvert_exporter": "python",
   "pygments_lexer": "ipython3",
   "version": "3.12.1"
  },
  "polyglot_notebook": {
   "kernelInfo": {
    "defaultKernelName": "csharp",
    "items": [
     {
      "aliases": [],
      "name": "csharp"
     }
    ]
   }
  },
  "coopTranslator": {
   "original_hash": "1baa60020a95eda27b7e9ecfda99965b",
   "translation_date": "2025-08-30T11:48:09+00:00",
   "source_file": "08-multi-agent/code_samples/08-python_multi_aiagent_bookinghotel.ipynb",
   "language_code": "my"
  }
 },
 "nbformat": 4,
 "nbformat_minor": 2
}