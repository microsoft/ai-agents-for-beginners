{
 "cells": [
  {
   "cell_type": "markdown",
   "id": "f4cf9593",
   "metadata": {},
   "source": [
    "# 🐍 ਮਾਈਕਰੋਸਾਫਟ ਏਜੰਟ ਫਰੇਮਵਰਕ (ਪਾਇਥਨ) ਨਾਲ AI ਯਾਤਰਾ ਏਜੰਟ\n",
    "\n",
    "## 📋 ਸਥਿਤੀ ਦਾ ਜਾਇਜ਼ਾ\n",
    "\n",
    "ਇਹ ਨੋਟਬੁੱਕ ਮਾਈਕਰੋਸਾਫਟ ਏਜੰਟ ਫਰੇਮਵਰਕ ਲਈ ਪਾਇਥਨ ਦੀ ਵਰਤੋਂ ਕਰਕੇ ਇੱਕ ਸਮਰੱਥ ਯਾਤਰਾ ਯੋਜਨਾ ਬਣਾਉਣ ਵਾਲੇ ਏਜੰਟ ਨੂੰ ਬਣਾਉਣ ਦਾ ਪ੍ਰਦਰਸ਼ਨ ਕਰਦੀ ਹੈ। ਇਹ ਏਜੰਟ GitHub ਮਾਡਲਾਂ ਦੀ ਵਰਤੋਂ ਕਰਦਾ ਹੈ ਤਾਂ ਜੋ ਦੁਨੀਆ ਭਰ ਵਿੱਚ ਕਿਤੇ ਵੀ ਰੈਂਡਮ ਮੰਜ਼ਿਲਾਂ ਲਈ ਨਿੱਜੀ ਦਿਨ-ਯਾਤਰਾ ਯੋਜਨਾਵਾਂ ਆਟੋਮੈਟਿਕ ਤੌਰ 'ਤੇ ਤਿਆਰ ਕੀਤੀਆਂ ਜਾ ਸਕਣ।\n",
    "\n",
    "**ਮੁੱਖ ਵਿਸ਼ੇਸ਼ਤਾਵਾਂ:**\n",
    "- 🎲 **ਸਮਰੱਥ ਮੰਜ਼ਿਲ ਚੋਣ**: ਰੈਂਡਮ ਮੰਜ਼ਿਲ ਚੁਣਨ ਲਈ ਕਸਟਮ ਟੂਲ ਫੰਕਸ਼ਨ\n",
    "- 🗺️ **ਵੇਰਵੇਦਾਰ ਯੋਜਨਾ ਤਿਆਰ ਕਰਨਾ**: ਸਥਾਨਕ ਸਿਫਾਰਸ਼ਾਂ ਨਾਲ AI-ਚਲਿਤ ਯਾਤਰਾ ਯੋਜਨਾ\n",
    "- 🔄 **ਐਸਿੰਕ ਪ੍ਰੋਸੈਸਿੰਗ**: ਕੁਸ਼ਲ API ਸੰਚਾਰ ਲਈ asyncio ਦੀ ਵਰਤੋਂ\n",
    "- 🛠️ **ਟੂਲ ਇੰਟੀਗ੍ਰੇਸ਼ਨ**: AI ਏਜੰਟਾਂ ਵਿੱਚ ਫੰਕਸ਼ਨ ਕਾਲਿੰਗ ਸਮਰੱਥਾਵਾਂ ਦਾ ਪ੍ਰਦਰਸ਼ਨ\n",
    "\n",
    "## 🏗️ ਤਕਨੀਕੀ ਲਾਗੂ ਕਰਨਾ\n",
    "\n",
    "### ਮੁੱਖ ਹਿੱਸੇ\n",
    "- **ਏਜੰਟ ਫਰੇਮਵਰਕ**: ਮਾਈਕਰੋਸਾਫਟ ਦੇ ਏਜੰਟ ਆਰਕੇਸਟ੍ਰੇਸ਼ਨ ਸਿਸਟਮ ਦੀ ਪਾਇਥਨ ਵਿੱਚ ਲਾਗੂਆਤ\n",
    "- **GitHub ਮਾਡਲ API**: GitHub ਦੇ ਇਨਫਰੈਂਸ ਸਰਵਿਸ ਰਾਹੀਂ ਅਧੁਨਿਕ ਭਾਸ਼ਾ ਮਾਡਲਾਂ ਤੱਕ ਪਹੁੰਚ\n",
    "- **OpenAI ਅਨੁਕੂਲਤਾ**: GitHub ਮਾਡਲ ਬੈਕਐਂਡ ਨਾਲ OpenAI ਕਲਾਇੰਟ ਪੈਟਰਨ ਦੀ ਵਰਤੋਂ\n",
    "- **ਵਾਤਾਵਰਣ ਪ੍ਰਬੰਧਨ**: python-dotenv ਨਾਲ ਸੁਰੱਖਿਅਤ ਪ੍ਰਮਾਣ ਪੱਤਰ ਸੰਭਾਲ\n",
    "\n",
    "### ਆਰਕੀਟੈਕਚਰ ਦਾ ਪ੍ਰਵਾਹ\n",
    "```python\n",
    "User Request → ChatAgent → GitHub Models API ↔ get_random_destination()\n",
    "                     ↓\n",
    "              Travel Itinerary Response\n",
    "```\n",
    "\n",
    "### ਮੁੱਖ ਕਲਾਸਾਂ ਅਤੇ ਤਰੀਕੇ\n",
    "- `ChatAgent`: ਮੁੱਖ ਗੱਲਬਾਤੀ ਏਜੰਟ ਆਰਕੇਸਟ੍ਰੇਟਰ\n",
    "- `OpenAIChatClient`: GitHub ਮਾਡਲ API ਕਲਾਇੰਟ ਰੈਪਰ\n",
    "- `get_random_destination()`: ਮੰਜ਼ਿਲ ਚੋਣ ਲਈ ਕਸਟਮ ਟੂਲ ਫੰਕਸ਼ਨ\n",
    "- ਵਾਤਾਵਰਣ ਵੈਰੀਏਬਲ: ਸੁਰੱਖਿਅਤ API ਸੰਰਚਨਾ ਪ੍ਰਬੰਧਨ\n",
    "\n",
    "## ⚙️ ਪੂਰਵ ਸ਼ਰਤਾਂ ਅਤੇ ਸੈਟਅੱਪ\n",
    "\n",
    "**ਲੋੜੀਂਦੇ ਡਿਪੈਂਡੈਂਸੀਜ਼:**\n",
    "```bash\n",
    "\n",
    "pip install agent-framework-core -U\n",
    "```\n",
    "\n",
    "**ਵਾਤਾਵਰਣ ਸੰਰਚਨਾ (.env ਫਾਈਲ):**\n",
    "```env\n",
    "GITHUB_TOKEN=your_github_personal_access_token\n",
    "GITHUB_ENDPOINT=https://models.inference.ai.azure.com\n",
    "GITHUB_MODEL_ID=gpt-4o-mini\n",
    "```\n",
    "\n",
    "**GitHub ਮਾਡਲਾਂ ਤੱਕ ਪਹੁੰਚ:**\n",
    "1. GitHub ਮਾਡਲਾਂ ਲਈ ਸਾਈਨ ਅੱਪ ਕਰੋ\n",
    "2. ਇੱਕ ਨਿੱਜੀ ਪਹੁੰਚ ਟੋਕਨ ਤਿਆਰ ਕਰੋ\n",
    "3. ਉਪਰੋਕਤ ਤਰੀਕੇ ਨਾਲ ਵਾਤਾਵਰਣ ਵੈਰੀਏਬਲ ਸੰਰਚਿਤ ਕਰੋ\n",
    "\n",
    "## 🚀 ਵਰਤੋਂ ਦੇ ਨਿਰਦੇਸ਼\n",
    "\n",
    "ਹੇਠਾਂ ਦਿੱਤੇ ਸੈੱਲਾਂ ਨੂੰ ਕ੍ਰਮਵਾਰ ਚਲਾਓ:\n",
    "1. ਲੋੜੀਂਦੀਆਂ ਲਾਇਬ੍ਰੇਰੀਆਂ ਇੰਪੋਰਟ ਕਰੋ ਅਤੇ ਵਾਤਾਵਰਣ ਵੈਰੀਏਬਲ ਲੋਡ ਕਰੋ\n",
    "2. ਰੈਂਡਮ ਮੰਜ਼ਿਲ ਜਨਰੇਟਰ ਟੂਲ ਨੂੰ ਪਰਿਭਾਸ਼ਿਤ ਕਰੋ\n",
    "3. AI ਏਜੰਟ ਬਣਾਓ ਅਤੇ ਸੰਰਚਿਤ ਕਰੋ\n",
    "4. ਯਾਤਰਾ ਯੋਜਨਾ ਦੀਆਂ ਬੇਨਤੀਆਂ ਚਲਾਓ ਅਤੇ ਨਤੀਜੇ ਵੇਖੋ\n",
    "\n",
    "ਆਓ ਇੱਕ ਸਮਰੱਥ ਯਾਤਰਾ ਯੋਜਨਾ ਸਹਾਇਕ ਬਣਾਈਏ! 🌟\n"
   ]
  },
  {
   "cell_type": "code",
   "execution_count": null,
   "id": "fda5fa0a",
   "metadata": {},
   "outputs": [],
   "source": [
    "! pip install agent-framework-core -U"
   ]
  },
  {
   "cell_type": "code",
   "execution_count": null,
   "id": "c0df8a52",
   "metadata": {},
   "outputs": [],
   "source": [
    "# 📦 Import Required Libraries\n",
    "# Standard library imports for system operations and random number generation\n",
    "import os\n",
    "from random import randint\n",
    "\n",
    "# Third-party library for loading environment variables from .env file\n",
    "from dotenv import load_dotenv"
   ]
  },
  {
   "cell_type": "code",
   "execution_count": null,
   "id": "151e0314",
   "metadata": {},
   "outputs": [],
   "source": [
    "# 🤖 Import Microsoft Agent Framework Components\n",
    "# ChatAgent: The main agent class for conversational AI\n",
    "# OpenAIChatClient: Client for connecting to OpenAI-compatible APIs (including GitHub Models)\n",
    "from agent_framework import ChatAgent\n",
    "from agent_framework.openai import OpenAIChatClient"
   ]
  },
  {
   "cell_type": "code",
   "execution_count": null,
   "id": "a6141584",
   "metadata": {},
   "outputs": [],
   "source": [
    "# 🔧 Load Environment Variables\n",
    "# This loads configuration from a .env file in the project root\n",
    "# Required variables: GITHUB_ENDPOINT, GITHUB_TOKEN, GITHUB_MODEL_ID\n",
    "load_dotenv()"
   ]
  },
  {
   "cell_type": "code",
   "execution_count": null,
   "id": "a6507f83",
   "metadata": {},
   "outputs": [],
   "source": [
    "# 🎲 Tool Function: Random Destination Generator\n",
    "# This function will be available to the agent as a tool\n",
    "# The agent can call this function to get random vacation destinations\n",
    "def get_random_destination() -> str:\n",
    "    \"\"\"Get a random vacation destination.\n",
    "    \n",
    "    Returns:\n",
    "        str: A randomly selected destination from our predefined list\n",
    "    \"\"\"\n",
    "    # List of popular vacation destinations around the world\n",
    "    destinations = [\n",
    "        \"Barcelona, Spain\",\n",
    "        \"Paris, France\", \n",
    "        \"Berlin, Germany\",\n",
    "        \"Tokyo, Japan\",\n",
    "        \"Sydney, Australia\",\n",
    "        \"New York, USA\",\n",
    "        \"Cairo, Egypt\",\n",
    "        \"Cape Town, South Africa\",\n",
    "        \"Rio de Janeiro, Brazil\",\n",
    "        \"Bali, Indonesia\"\n",
    "    ]\n",
    "    # Return a random destination from the list\n",
    "    return destinations[randint(0, len(destinations) - 1)]"
   ]
  },
  {
   "cell_type": "code",
   "execution_count": null,
   "id": "5d4f0568",
   "metadata": {},
   "outputs": [],
   "source": [
    "# 🔗 Create OpenAI Chat Client for GitHub Models\n",
    "# This client connects to GitHub Models API (OpenAI-compatible endpoint)\n",
    "# Environment variables required:\n",
    "# - GITHUB_ENDPOINT: API endpoint URL (usually https://models.inference.ai.azure.com)\n",
    "# - GITHUB_TOKEN: Your GitHub personal access token\n",
    "# - GITHUB_MODEL_ID: Model to use (e.g., gpt-4o-mini, gpt-4o)\n",
    "openai_chat_client = OpenAIChatClient(\n",
    "    base_url=os.environ.get(\"GITHUB_ENDPOINT\"),\n",
    "    api_key=os.environ.get(\"GITHUB_TOKEN\"), \n",
    "    model_id=os.environ.get(\"GITHUB_MODEL_ID\")\n",
    ")"
   ]
  },
  {
   "cell_type": "code",
   "execution_count": null,
   "id": "cf5a4800",
   "metadata": {},
   "outputs": [],
   "source": [
    "# 🤖 Create the Travel Planning Agent\n",
    "# This creates a conversational AI agent with specific capabilities:\n",
    "# - chat_client: The AI model client for generating responses\n",
    "# - instructions: System prompt that defines the agent's personality and role\n",
    "# - tools: List of functions the agent can call to perform actions\n",
    "agent = ChatAgent(\n",
    "    chat_client=openai_chat_client,\n",
    "    instructions=\"You are a helpful AI Agent that can help plan vacations for customers at random destinations.\",\n",
    "    tools=[get_random_destination]  # Our random destination tool function\n",
    ")"
   ]
  },
  {
   "cell_type": "code",
   "execution_count": null,
   "id": "772e9481",
   "metadata": {},
   "outputs": [],
   "source": [
    "# 🚀 Run the Agent\n",
    "# Send a message to the agent and get a response\n",
    "# The agent will use its tools (get_random_destination) if needed\n",
    "response = await agent.run(\"Plan me a day trip\")"
   ]
  },
  {
   "cell_type": "code",
   "execution_count": null,
   "id": "93c114ea",
   "metadata": {},
   "outputs": [],
   "source": [
    "# 📋 View Raw Response Object\n",
    "# This shows the complete response structure including metadata\n",
    "# Useful for debugging and understanding the response format\n",
    "response"
   ]
  },
  {
   "cell_type": "code",
   "execution_count": null,
   "id": "a731b547",
   "metadata": {},
   "outputs": [],
   "source": [
    "# 📖 Extract and Display the Travel Plan\n",
    "# Get the last message from the conversation (agent's response)s\n",
    "last_message = response.messages[-1]\n",
    "# Extract the text content from the message\n",
    "text_content = last_message.contents[0].text\n",
    "# Display the formatted travel plan\n",
    "print(\"🏖️ Travel plan:\")\n",
    "print(text_content)"
   ]
  },
  {
   "cell_type": "markdown",
   "metadata": {},
   "source": [
    "\n---\n\n**ਅਸਵੀਕਰਤੀ**:  \nਇਹ ਦਸਤਾਵੇਜ਼ AI ਅਨੁਵਾਦ ਸੇਵਾ [Co-op Translator](https://github.com/Azure/co-op-translator) ਦੀ ਵਰਤੋਂ ਕਰਕੇ ਅਨੁਵਾਦ ਕੀਤਾ ਗਿਆ ਹੈ। ਹਾਲਾਂਕਿ ਅਸੀਂ ਸਹੀਤਾ ਲਈ ਯਤਨਸ਼ੀਲ ਹਾਂ, ਕਿਰਪਾ ਕਰਕੇ ਧਿਆਨ ਦਿਓ ਕਿ ਸਵੈਚਾਲਿਤ ਅਨੁਵਾਦਾਂ ਵਿੱਚ ਗਲਤੀਆਂ ਜਾਂ ਅਸੁੱਤੀਆਂ ਹੋ ਸਕਦੀਆਂ ਹਨ। ਇਸ ਦੀ ਮੂਲ ਭਾਸ਼ਾ ਵਿੱਚ ਮੌਜੂਦ ਦਸਤਾਵੇਜ਼ ਨੂੰ ਅਧਿਕਾਰਤ ਸਰੋਤ ਮੰਨਿਆ ਜਾਣਾ ਚਾਹੀਦਾ ਹੈ। ਮਹੱਤਵਪੂਰਨ ਜਾਣਕਾਰੀ ਲਈ, ਪੇਸ਼ੇਵਰ ਮਨੁੱਖੀ ਅਨੁਵਾਦ ਦੀ ਸਿਫਾਰਸ਼ ਕੀਤੀ ਜਾਂਦੀ ਹੈ। ਇਸ ਅਨੁਵਾਦ ਦੀ ਵਰਤੋਂ ਤੋਂ ਪੈਦਾ ਹੋਣ ਵਾਲੇ ਕਿਸੇ ਵੀ ਗਲਤ ਫਹਿਮੀ ਜਾਂ ਗਲਤ ਵਿਆਖਿਆ ਲਈ ਅਸੀਂ ਜ਼ਿੰਮੇਵਾਰ ਨਹੀਂ ਹਾਂ।\n"
   ]
  }
 ],
 "metadata": {
  "kernelspec": {
   "display_name": "agentframeworkenv",
   "language": "python",
   "name": "python3"
  },
  "language_info": {
   "codemirror_mode": {
    "name": "ipython",
    "version": 3
   },
   "file_extension": ".py",
   "mimetype": "text/x-python",
   "name": "python",
   "nbconvert_exporter": "python",
   "pygments_lexer": "ipython3",
   "version": "3.12.10"
  },
  "polyglot_notebook": {
   "kernelInfo": {
    "defaultKernelName": "csharp",
    "items": [
     {
      "aliases": [],
      "name": "csharp"
     }
    ]
   }
  },
  "coopTranslator": {
   "original_hash": "02d6b305971fe27448c9d46a4c91eaf3",
   "translation_date": "2025-10-02T11:41:23+00:00",
   "source_file": "01-intro-to-ai-agents/code_samples/01-python-agent-framework.ipynb",
   "language_code": "pa"
  }
 },
 "nbformat": 4,
 "nbformat_minor": 5
}