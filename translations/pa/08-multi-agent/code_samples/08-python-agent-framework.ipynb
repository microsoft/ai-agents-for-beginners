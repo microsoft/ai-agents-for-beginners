{
 "cells": [
  {
   "cell_type": "markdown",
   "id": "a6e34f84",
   "metadata": {},
   "source": [
    "# 🤝 ਗਿਟਹੱਬ ਮਾਡਲਾਂ ਨਾਲ ਮਲਟੀ-ਏਜੰਟ ਵਰਕਫਲੋ ਸਿਸਟਮ (ਪਾਇਥਨ)\n",
    "\n",
    "## 📋 ਸਿੱਖਣ ਦੇ ਉਦੇਸ਼\n",
    "\n",
    "ਇਹ ਨੋਟਬੁੱਕ ਮਾਈਕਰੋਸਾਫਟ ਏਜੰਟ ਫਰੇਮਵਰਕ ਨਾਲ ਗਿਟਹੱਬ ਮਾਡਲਾਂ ਦੀ ਵਰਤੋਂ ਕਰਕੇ ਉੱਚ-ਸਤਹ ਦੇ ਮਲਟੀ-ਏਜੰਟ ਸਿਸਟਮ ਬਣਾਉਣ ਦਾ ਤਰੀਕਾ ਦਿਖਾਉਂਦੀ ਹੈ। ਤੁਸੀਂ ਸਿੱਖੋਗੇ ਕਿ ਕਿਵੇਂ ਵਿਸ਼ੇਸ਼ ਏਜੰਟਾਂ ਨੂੰ ਸੰਗਠਿਤ ਵਰਕਫਲੋਜ਼ ਰਾਹੀਂ ਜਟਿਲ ਸਮੱਸਿਆਵਾਂ ਹੱਲ ਕਰਨ ਲਈ ਇਕੱਠੇ ਕੰਮ ਕਰਨ ਲਈ ਸੰਗਠਿਤ ਕੀਤਾ ਜਾ ਸਕਦਾ ਹੈ।\n",
    "\n",
    "**ਤੁਹਾਡੇ ਦੁਆਰਾ ਬਣਾਈਆਂ ਜਾਣ ਵਾਲੀਆਂ ਮਲਟੀ-ਏਜੰਟ ਸਮਰਥਤਾਵਾਂ:**\n",
    "- 👥 **ਏਜੰਟ ਸਹਿਯੋਗ**: ਕਈ ਏਜੰਟ ਇੱਕੋ ਹੀ ਲਕਸ਼ ਦੀ ਪੂਰੀ ਕਰਨ ਲਈ ਮਿਲ ਕੇ ਕੰਮ ਕਰਦੇ ਹਨ\n",
    "- 🔄 **ਵਰਕਫਲੋ ਸੰਗਠਨ**: ਏਜੰਟਾਂ ਦੇ ਪਰਸਪਰ ਸੰਚਾਰ ਦਾ ਸੰਗਠਿਤ ਸਮਨਵਯ\n",
    "- 🎭 **ਭੂਮਿਕਾ ਵਿਸ਼ੇਸ਼ਤਾ**: ਵੱਖ-ਵੱਖ ਵਿਸ਼ੇਸ਼ਤਾ ਅਤੇ ਵਿਅਕਤੀਗਤ ਸ਼ਖਸੀਅਤ ਵਾਲੇ ਏਜੰਟ\n",
    "- 📋 **ਗੁਣਵੱਤਾ ਯਕੀਨੀਕਰਨ**: ਏਜੰਟ ਸਹਿਯੋਗ ਰਾਹੀਂ ਸਮੀਖਾ ਅਤੇ ਸੁਧਾਰ\n",
    "\n",
    "## 🎯 ਮਲਟੀ-ਏਜੰਟ ਆਰਕੀਟੈਕਚਰ ਸੰਕਲਪ\n",
    "\n",
    "### ਮੁੱਖ ਮਲਟੀ-ਏਜੰਟ ਸਿਧਾਂਤ\n",
    "- **ਕੰਮ ਦੀ ਵੰਡ**: ਹਰ ਏਜੰਟ ਖਾਸ ਖੇਤਰ ਵਿੱਚ ਮਾਹਰ ਹੁੰਦਾ ਹੈ\n",
    "- **ਸੰਯੁਕਤ ਫੈਸਲਾ ਲੈਣਾ**: ਏਜੰਟ ਇੱਕ-ਦੂਜੇ ਦੇ ਕੰਮ ਦੀ ਸਮੀਖਾ ਅਤੇ ਸੁਧਾਰ ਕਰਦੇ ਹਨ\n",
    "- **ਵਰਕਫਲੋ ਸੰਗਠਨ**: ਸੰਗਠਿਤ ਹੈਂਡਆਫ ਅਤੇ ਸੰਚਾਰ ਪੈਟਰਨ\n",
    "- **ਗੁਣਵੱਤਾ ਵਧਾਉਣਾ**: ਕਈ ਦ੍ਰਿਸ਼ਟੀਕੋਣਾਂ ਰਾਹੀਂ ਦੁਹਰਾਈ ਸੁਧਾਰ\n",
    "\n",
    "### ਏਜੰਟ ਪਰਸਪਰ ਸੰਚਾਰ ਪੈਟਰਨ\n",
    "- **ਲਗਾਤਾਰ ਪ੍ਰਕਿਰਿਆ**: ਲੀਨੀਅਰ ਵਰਕਫਲੋ ਜਿਸ ਵਿੱਚ ਏਜੰਟਾਂ ਦੀ ਕ੍ਰਮਵਾਰ ਭਾਗੀਦਾਰੀ ਹੁੰਦੀ ਹੈ\n",
    "- **ਸਾਥੀ ਸਮੀਖਾ**: ਏਜੰਟ ਇੱਕ-ਦੂਜੇ ਦੇ ਨਤੀਜਿਆਂ ਦੀ ਪੁਸ਼ਟੀ ਅਤੇ ਸੁਧਾਰ ਕਰਦੇ ਹਨ\n",
    "- **ਹੀਰਾਰਕੀਕਲ ਸਟ੍ਰਕਚਰ**: ਮੁੱਖ ਏਜੰਟ ਵਿਸ਼ੇਸ਼ ਮਾਹਰਾਂ ਨੂੰ ਸੰਗਠਿਤ ਕਰਦੇ ਹਨ\n",
    "- **ਸੰਮਤੀ ਬਣਾਉਣਾ**: ਕਈ ਏਜੰਟਾਂ ਦੁਆਰਾ ਅੰਤਮ ਫੈਸਲੇ ਵਿੱਚ ਯੋਗਦਾਨ\n",
    "\n",
    "## 🏗️ ਤਕਨੀਕੀ ਆਰਕੀਟੈਕਚਰ\n",
    "\n",
    "### ਵਰਕਫਲੋ ਸਿਸਟਮ ਦੇ ਘਟਕ\n",
    "- **ਮਾਈਕਰੋਸਾਫਟ ਏਜੰਟ ਫਰੇਮਵਰਕ**: ਪਾਇਥਨ ਵਿੱਚ ਉੱਚ ਵਰਕਫਲੋ ਸਮਰਥਨ ਨਾਲ ਲਾਗੂ ਕੀਤਾ ਗਿਆ\n",
    "- **WorkflowBuilder**: ਵਰਕਫਲੋ ਦੀ ਘੋਸ਼ਣਾਤਮਕ ਪਰਿਭਾਸ਼ਾ ਅਤੇ ਕਾਰਜਕਾਰੀ ਇੰਜਨ\n",
    "- **Agent Coordination**: ਸੰਗਠਿਤ ਸੰਚਾਰ ਅਤੇ ਹੈਂਡਆਫ ਮਕੈਨਿਜ਼ਮ\n",
    "- **Event-Driven Processing**: ਏਜੰਟ ਨਤੀਜਿਆਂ ਦੇ ਆਧਾਰ 'ਤੇ ਪ੍ਰਤੀਕ੍ਰਿਆਸ਼ੀਲ ਵਰਕਫਲੋ ਕਾਰਜਕਾਰੀ\n",
    "\n",
    "### ਮਲਟੀ-ਏਜੰਟ ਪ੍ਰਕਿਰਿਆ ਦਾ ਪ੍ਰਵਾਹ\n",
    "```python\n",
    "User Request → Agent 1 (Specialist) → Agent 2 (Reviewer) → Quality Check\n",
    "                ↓                      ↓                    ↓\n",
    "         Initial Solution → Review & Feedback → Refined Output → Final Result\n",
    "```\n",
    "\n",
    "## 🎭 ਏਜੰਟ ਭੂਮਿਕਾ ਉਦਾਹਰਨ\n",
    "\n",
    "### ਹੋਟਲ ਕਾਂਸੀਆਰਜ ਸਿਸਟਮ\n",
    "ਇਹ ਨੋਟਬੁੱਕ ਯਾਤਰਾ ਦੀ ਸਿਫਾਰਸ਼ੀ ਸਿਸਟਮ ਨੂੰ ਵਿਸ਼ੇਸ਼ ਭੂਮਿਕਾਵਾਂ ਨਾਲ ਦਿਖਾਉਂਦੀ ਹੈ:\n",
    "\n",
    "#### 🏨 **ਫਰੰਟ ਡੈਸਕ ਏਜੰਟ**\n",
    "- **ਮਾਹਰਤਾ**: ਯਾਤਰਾ ਦੀਆਂ ਸਿਫਾਰਸ਼ਾਂ ਅਤੇ ਸਥਾਨਕ ਜਾਣਕਾਰੀ\n",
    "- **ਸ਼ਖਸੀਅਤ**: ਕੁਸ਼ਲ, ਅਨੁਭਵੀ, ਸੰਖੇਪ ਸੰਚਾਰ ਸ਼ੈਲੀ\n",
    "- **ਜਿੰਮੇਵਾਰੀਆਂ**: ਯਾਤਰਾ ਦੀਆਂ ਸ਼ੁਰੂਆਤੀ ਸਿਫਾਰਸ਼ਾਂ ਅਤੇ ਗਤੀਵਿਧੀਆਂ ਤਿਆਰ ਕਰਨਾ\n",
    "\n",
    "#### 🎩 **ਕਾਂਸੀਆਰਜ ਏਜੰਟ**  \n",
    "- **ਮਾਹਰਤਾ**: ਅਸਲੀ ਸਥਾਨਕ ਅਨੁਭਵ ਅਤੇ ਗੁਣਵੱਤਾ ਦਾ ਮੁਲਾਂਕਣ\n",
    "- **ਸ਼ਖਸੀਅਤ**: ਚੁਣਵਾਂ, ਗੈਰ-ਪ੍ਰਚਾਰਕ ਸਿਫਾਰਸ਼ਾਂ 'ਤੇ ਧਿਆਨ\n",
    "- **ਜਿੰਮੇਵਾਰੀਆਂ**: ਯਾਤਰਾ ਦੀਆਂ ਸਿਫਾਰਸ਼ਾਂ ਦੀ ਸਮੀਖਾ ਅਤੇ ਅਸਲੀਅਤ ਲਈ ਸੁਧਾਰ\n",
    "\n",
    "## 🔧 ਤਕਨੀਕੀ ਲਾਗੂਕਰਨ\n",
    "\n",
    "### ਵਰਕਫਲੋ ਆਰਕੀਟੈਕਚਰ\n",
    "- **ਏਜੰਟ ਪਰਿਭਾਸ਼ਾ**: ਵਿਸ਼ੇਸ਼ ਨਿਰਦੇਸ਼ ਅਤੇ ਸ਼ਖਸੀਅਤ ਸੰਰਚਨਾ\n",
    "- **Workflow Builder**: ਘੋਸ਼ਣਾਤਮਕ ਵਰਕਫਲੋ ਪਰਿਭਾਸ਼ਾ ਨਾਲ ਇਵੈਂਟ ਹੈਂਡਲਿੰਗ\n",
    "- **ਸੰਚਾਰ ਪ੍ਰੋਟੋਕੋਲ**: ਏਜੰਟਾਂ ਦੇ ਵਿਚਕਾਰ ਸੰਗਠਿਤ ਸੁਨੇਹਾ ਪਾਸਿੰਗ\n",
    "- **ਨਤੀਜਾ ਸੰਕਲਨ**: ਕਈ ਏਜੰਟ ਦ੍ਰਿਸ਼ਟੀਕੋਣਾਂ ਤੋਂ ਨਤੀਜਿਆਂ ਨੂੰ ਜੋੜਨਾ\n",
    "\n",
    "### ਇਵੈਂਟ-ਡ੍ਰਿਵਨ ਸੰਗਠਨ\n",
    "- **WorkflowEvent**: ਏਜੰਟ ਐਕਟੀਵੇਸ਼ਨ ਅਤੇ ਹੈਂਡਆਫ ਲਈ ਟ੍ਰਿਗਰ ਪਾਇੰਟ\n",
    "- **OutputEvent**: ਏਜੰਟਾਂ ਦੇ ਵਿਚਕਾਰ ਸੰਗਠਿਤ ਡਾਟਾ ਅਦਲ-ਬਦਲ\n",
    "- **Quality Gates**: ਵਰਕਫਲੋ ਪ੍ਰਕਿਰਿਆ ਵਿੱਚ ਵੈਧਤਾ ਚੈੱਕਪੋਇੰਟ\n",
    "- **Feedback Loops**: ਏਜੰਟ ਸਹਿਯੋਗ ਰਾਹੀਂ ਦੁਹਰਾਈ ਸੁਧਾਰ\n",
    "\n",
    "## ⚙️ ਪੂਰਵ ਸ਼ਰਤਾਂ ਅਤੇ ਸੈਟਅਪ\n",
    "\n",
    "**ਲੋੜੀਂਦੇ ਡਿਪੈਂਡੈਂਸੀਜ਼:**\n",
    "```bash\n",
    "\n",
    "\n",
    "pip install agent-framework-core  -U\n",
    "```\n",
    "\n",
    "**Environment Configuration (.env ਫਾਈਲ):**\n",
    "```env\n",
    "GITHUB_TOKEN=your_github_personal_access_token\n",
    "GITHUB_ENDPOINT=https://models.inference.ai.azure.com\n",
    "GITHUB_MODEL_ID=gpt-4o-mini\n",
    "```\n",
    "\n",
    "## 🎨 ਮਲਟੀ-ਏਜੰਟ ਡਿਜ਼ਾਈਨ ਪੈਟਰਨ\n",
    "\n",
    "### 1. **Producer-Consumer Pattern**\n",
    "- ਵਿਸ਼ੇਸ਼ ਏਜੰਟ ਸਮੱਗਰੀ ਤਿਆਰ ਕਰਦੇ ਹਨ ਜੋ ਦੂਜੇ ਸਮੀਖਾ ਕਰਦੇ ਹਨ\n",
    "- ਸਪਸ਼ਟ ਹੈਂਡਆਫ ਪਾਇੰਟ ਅਤੇ ਡਾਟਾ ਅਦਲ-ਬਦਲ ਪ੍ਰੋਟੋਕੋਲ\n",
    "- ਗੁਣਵੱਤਾ ਯਕੀਨੀਕਰਨ ਦੁਆਰਾ ਸਵਤੰਤਰ ਸਮੀਖਾ\n",
    "- ਦੁਹਰਾਈ ਸੁਧਾਰ ਅਤੇ ਸੁਧਾਰ ਚੱਕਰ\n",
    "\n",
    "### 2. **Committee Pattern**\n",
    "- ਕਈ ਏਜੰਟ ਵੱਖ-ਵੱਖ ਦ੍ਰਿਸ਼ਟੀਕੋਣ ਯੋਗਦਾਨ ਪਾਉਂਦੇ ਹਨ\n",
    "- ਸੰਗਠਿਤ ਚਰਚਾ ਰਾਹੀਂ ਸਹਿਮਤੀ ਬਣਾਉਣਾ\n",
    "- ਵਜ਼ਨੀ ਰਾਏ ਨਾਲ ਲੋਕਤੰਤਰਕ ਫੈਸਲਾ ਲੈਣਾ\n",
    "- ਸੰਘਰਸ਼ ਹੱਲ ਅਤੇ ਟਾਈ-ਤੋੜ ਮਕੈਨਿਜ਼ਮ\n",
    "\n",
    "### 3. **Hierarchical Pattern**\n",
    "- ਮੁੱਖ ਏਜੰਟ ਵਿਸ਼ੇਸ਼ ਮਾਹਰਾਂ ਨੂੰ ਸੰਗਠਿਤ ਕਰਦੇ ਹਨ  \n",
    "- ਸਪਸ਼ਟ ਅਧਿਕਾਰ ਸਟ੍ਰਕਚਰ ਅਤੇ ਫੈਸਲਾ ਪ੍ਰਵਾਹ\n",
    "- ਜਟਿਲ ਫੈਸਲਿਆਂ ਲਈ ਐਸਕਲੇਸ਼ਨ ਪਾਥ\n",
    "- ਪ੍ਰਦਰਸ਼ਨ ਮਾਨਟਰਿੰਗ ਅਤੇ ਗੁਣਵੱਤਾ ਨਿਯੰਤਰਣ\n",
    "\n",
    "### 4. **Pipeline Pattern**\n",
    "- ਵਿਸ਼ੇਸ਼ ਮੰਚਾਂ ਨਾਲ ਲਗਾਤਾਰ ਪ੍ਰਕਿਰਿਆ\n",
    "- ਹਰ ਏਜੰਟ ਆਪਣੇ ਖੇਤਰ ਵਿੱਚ ਮੁੱਲ ਜੋੜਦਾ ਹੈ\n",
    "- ਸਮਰਥ ਪ੍ਰਸਾਰਨ ਦੁਆਰਾ ਸਮਰਥਨਸ਼ੀਲਤਾ\n",
    "- ਹਰ ਮੰਚ 'ਤੇ ਗਲਤੀ ਸੰਭਾਲ ਅਤੇ ਮੁੜ-ਪ੍ਰਾਪਤੀ\n",
    "\n",
    "## 🚀 ਉੱਚ-ਸਤਹ ਦੇ ਮਲਟੀ-ਏਜੰਟ ਵਿਸ਼ੇਸ਼ਤਾਵਾਂ\n",
    "\n",
    "### ਵਰਕਫਲੋ ਸੰਗਠਨ\n",
    "- **Dynamic Routing**: ਸੰਦਰਭ-ਅਧਾਰਿਤ ਏਜੰਟ ਚੋਣ ਅਤੇ ਰੂਟਿੰਗ\n",
    "- **Parallel Processing**: ਸਮਰਥਨਸ਼ੀਲਤਾ ਲਈ ਸਮਕਾਲੀ ਏਜੰਟ ਕਾਰਜਕਾਰੀ\n",
    "- **Error Recovery**: ਏਜੰਟ ਫੇਲ੍ਹ ਅਤੇ ਮੁੜ-ਕੋਸ਼ਿਸ਼ ਦਾ ਸੁਚਾਰੂ ਸੰਭਾਲ\n",
    "- **Performance Monitoring**: ਵਰਕਫਲੋ ਕਾਰਜਕਾਰੀ ਅਤੇ ਅਪਟਾਈਮਾਈਜ਼ੇਸ਼ਨ ਟ੍ਰੈਕਿੰਗ\n",
    "\n",
    "### ਏਜੰਟ ਸੰਚਾਰ\n",
    "- **Structured Messaging**: ਟਾਈਪ-ਸੇਫ ਸੰਚਾਰ ਪ੍ਰੋਟੋਕੋਲ\n",
    "- **Context Preservation**: ਏਜੰਟਾਂ ਦੇ ਵਿਚਕਾਰ ਗੱਲਬਾਤ ਇਤਿਹਾਸ ਨੂੰ ਸੁਰੱਖਿਅਤ ਰੱਖਣਾ\n",
    "- **Metadata Passing**: ਟੈਕਸਟ ਸਮੱਗਰੀ ਤੋਂ ਪਰੇ ਧਨਾਢ ਜਾਣਕਾਰੀ ਅਦਲ-ਬਦਲ\n",
    "- **Event Broadcasting**: ਸੰਗਠਨ ਲਈ ਪਬਲਿਸ਼-ਸਬਸਕ੍ਰਾਈਬ ਪੈਟਰਨ\n",
    "\n",
    "### ਗੁਣਵੱਤਾ ਯਕੀਨੀਕਰਨ\n",
    "- **Multi-Perspective Review**: ਵੱਖ-ਵੱਖ ਏਜੰਟ ਵਿਲੱਖਣ ਦ੍ਰਿਸ਼ਟੀਕੋਣ ਲਿਆਉਂਦੇ ਹਨ\n",
    "- **Iterative Refinement**: ਸਹਿਯੋਗ ਰਾਹੀਂ ਪ੍ਰਗਤੀਸ਼ੀਲ ਸੁਧਾਰ\n",
    "- **Validation Checkpoints**: ਵਰਕਫਲੋ ਵਿੱਚ ਗੁਣਵੱਤਾ ਚੈੱਕਪੋਇੰਟ\n",
    "- **Performance Metrics**: ਸਹਿਯੋਗ ਦੀ ਪ੍ਰਭਾਵਸ਼ੀਲਤਾ ਮਾਪਣਾ\n",
    "\n",
    "## 📊 ਵਰਤੋਂ ਦੇ ਕੇਸ ਅਤੇ ਐਪਲੀਕੇਸ਼ਨ\n",
    "\n",
    "### ਕਾਰੋਬਾਰੀ ਪ੍ਰਕਿਰਿਆ ਆਟੋਮੇਸ਼ਨ\n",
    "- ਦਸਤਾਵੇਜ਼ ਸਮੀਖਾ ਅਤੇ ਮਨਜ਼ੂਰੀ ਵਰਕਫਲੋ\n",
    "- ਗਾਹਕ ਸੇਵਾ ਐਸਕਲੇਸ਼ਨ ਸਿਸਟਮ\n",
    "- ਗੁਣਵੱਤਾ ਯਕੀਨੀਕਰਨ ਅਤੇ ਅਨੁਕੂਲਤਾ ਚੈੱਕਿੰਗ\n",
    "- ਬਹੁ-ਮੰਚ ਸਮੱਗਰੀ ਬਣਾਉਣ ਅਤੇ ਸੰਪਾਦਨ\n",
    "\n",
    "### ਖੋਜ ਅਤੇ ਵਿਸ਼ਲੇਸ਼ਣ\n",
    "- ਖੋਜ ਪੇਪਰਾਂ ਲਈ ਸਾਥੀ ਸਮੀਖਾ ਸਿਸਟਮ\n",
    "- ਬਹੁ-ਵਿਸ਼ਲੇਸ਼ਕ ਵਿੱਤੀ ਵਿਸ਼ਲੇਸ਼ਣ\n",
    "- ਸਹਿਯੋਗੀ ਰਿਪੋਰਟ ਲਿਖਣ ਅਤੇ ਤੱਥ-ਜਾਂਚ\n",
    "- ਅਕਾਦਮਿਕ ਪੇਪਰ ਸਮੀਖਾ ਅਤੇ ਸੁਧਾਰ\n",
    "\n",
    "### ਰਚਨਾਤਮਕ ਸਹਿਯੋਗ\n",
    "- ਸੰਪਾਦਕਾਂ ਅਤੇ ਸਮੀਖਾਕਾਰਾਂ ਨਾਲ ਸਮੱਗਰੀ ਬਣਾਉਣਾ\n",
    "- ਬਹੁ-ਦ੍ਰਿਸ਼ਟੀਕੋਣ ਰਚਨਾਤਮਕ ਬ੍ਰੇਨਸਟਾਰਮਿੰਗ\n",
    "- ਦੁਹਰਾਈ ਡਿਜ਼ਾਈਨ ਅਤੇ ਫੀਡਬੈਕ ਸਿਸਟਮ\n",
    "- ਸਹਿਯੋਗੀ ਕਹਾਣੀ ਬਣਾਉਣਾ ਅਤੇ ਸੰਸਾਰ-ਨਿਰਮਾਣ\n",
    "\n",
    "ਸਮਝਦਾਰ ਮਲਟੀ-ਏਜੰਟ ਸਹਿਯੋਗ ਨੂੰ ਸੰਗਠਿਤ ਕਰਨ ਲਈ ਤਿਆਰ ਹੋ? ਆਓ ਸਿਸਟਮ ਬਣਾਈਏ ਜਿੱਥੇ ਏਜੰਟ ਇੱਕ ਉੱਚ-ਪ੍ਰਦਰਸ਼ਨ ਵਾਲੀ ਟੀਮ ਵਾਂਗ ਕੰਮ ਕਰਦੇ ਹਨ! 🌟🤖\n"
   ]
  },
  {
   "cell_type": "code",
   "execution_count": 1,
   "id": "9b42777d",
   "metadata": {},
   "outputs": [
    {
     "name": "stdout",
     "output_type": "stream",
     "text": [
      "Requirement already satisfied: agent-framework-core in c:\\users\\kinfeylo\\appdata\\local\\miniforge3\\envs\\agentenv\\lib\\site-packages (1.0.0b251001)\n",
      "Requirement already satisfied: openai>=1.99.0 in c:\\users\\kinfeylo\\appdata\\local\\miniforge3\\envs\\agentenv\\lib\\site-packages (from agent-framework-core) (1.106.1)\n",
      "Requirement already satisfied: pydantic<3,>=2 in c:\\users\\kinfeylo\\appdata\\local\\miniforge3\\envs\\agentenv\\lib\\site-packages (from agent-framework-core) (2.11.9)\n",
      "Requirement already satisfied: pydantic-settings<3,>=2 in c:\\users\\kinfeylo\\appdata\\local\\miniforge3\\envs\\agentenv\\lib\\site-packages (from agent-framework-core) (2.10.1)\n",
      "Requirement already satisfied: typing-extensions in c:\\users\\kinfeylo\\appdata\\local\\miniforge3\\envs\\agentenv\\lib\\site-packages (from agent-framework-core) (4.15.0)\n",
      "Requirement already satisfied: opentelemetry-api>=1.24 in c:\\users\\kinfeylo\\appdata\\local\\miniforge3\\envs\\agentenv\\lib\\site-packages (from agent-framework-core) (1.36.0)\n",
      "Requirement already satisfied: opentelemetry-sdk>=1.24 in c:\\users\\kinfeylo\\appdata\\local\\miniforge3\\envs\\agentenv\\lib\\site-packages (from agent-framework-core) (1.36.0)\n",
      "Requirement already satisfied: mcp>=1.13 in c:\\users\\kinfeylo\\appdata\\local\\miniforge3\\envs\\agentenv\\lib\\site-packages (from mcp[ws]>=1.13->agent-framework-core) (1.13.1)\n",
      "Requirement already satisfied: azure-monitor-opentelemetry>=1.7.0 in c:\\users\\kinfeylo\\appdata\\local\\miniforge3\\envs\\agentenv\\lib\\site-packages (from agent-framework-core) (1.8.0)\n",
      "Requirement already satisfied: azure-monitor-opentelemetry-exporter>=1.0.0b41 in c:\\users\\kinfeylo\\appdata\\local\\miniforge3\\envs\\agentenv\\lib\\site-packages (from agent-framework-core) (1.0.0b41)\n",
      "Requirement already satisfied: opentelemetry-exporter-otlp-proto-grpc>=1.36.0 in c:\\users\\kinfeylo\\appdata\\local\\miniforge3\\envs\\agentenv\\lib\\site-packages (from agent-framework-core) (1.36.0)\n",
      "Requirement already satisfied: opentelemetry-semantic-conventions-ai>=0.4.13 in c:\\users\\kinfeylo\\appdata\\local\\miniforge3\\envs\\agentenv\\lib\\site-packages (from agent-framework-core) (0.4.13)\n",
      "Requirement already satisfied: aiofiles>=24.1.0 in c:\\users\\kinfeylo\\appdata\\local\\miniforge3\\envs\\agentenv\\lib\\site-packages (from agent-framework-core) (24.1.0)\n",
      "Requirement already satisfied: azure-identity<2,>=1 in c:\\users\\kinfeylo\\appdata\\local\\miniforge3\\envs\\agentenv\\lib\\site-packages (from agent-framework-core) (1.24.0)\n",
      "Requirement already satisfied: azure-core>=1.31.0 in c:\\users\\kinfeylo\\appdata\\local\\miniforge3\\envs\\agentenv\\lib\\site-packages (from azure-identity<2,>=1->agent-framework-core) (1.35.0)\n",
      "Requirement already satisfied: cryptography>=2.5 in c:\\users\\kinfeylo\\appdata\\local\\miniforge3\\envs\\agentenv\\lib\\site-packages (from azure-identity<2,>=1->agent-framework-core) (45.0.7)\n",
      "Requirement already satisfied: msal>=1.30.0 in c:\\users\\kinfeylo\\appdata\\local\\miniforge3\\envs\\agentenv\\lib\\site-packages (from azure-identity<2,>=1->agent-framework-core) (1.33.0)\n",
      "Requirement already satisfied: msal-extensions>=1.2.0 in c:\\users\\kinfeylo\\appdata\\local\\miniforge3\\envs\\agentenv\\lib\\site-packages (from azure-identity<2,>=1->agent-framework-core) (1.3.1)\n",
      "Requirement already satisfied: annotated-types>=0.6.0 in c:\\users\\kinfeylo\\appdata\\local\\miniforge3\\envs\\agentenv\\lib\\site-packages (from pydantic<3,>=2->agent-framework-core) (0.7.0)\n",
      "Requirement already satisfied: pydantic-core==2.33.2 in c:\\users\\kinfeylo\\appdata\\local\\miniforge3\\envs\\agentenv\\lib\\site-packages (from pydantic<3,>=2->agent-framework-core) (2.33.2)\n",
      "Requirement already satisfied: typing-inspection>=0.4.0 in c:\\users\\kinfeylo\\appdata\\local\\miniforge3\\envs\\agentenv\\lib\\site-packages (from pydantic<3,>=2->agent-framework-core) (0.4.1)\n",
      "Requirement already satisfied: python-dotenv>=0.21.0 in c:\\users\\kinfeylo\\appdata\\local\\miniforge3\\envs\\agentenv\\lib\\site-packages (from pydantic-settings<3,>=2->agent-framework-core) (1.1.1)\n",
      "Requirement already satisfied: requests>=2.21.0 in c:\\users\\kinfeylo\\appdata\\local\\miniforge3\\envs\\agentenv\\lib\\site-packages (from azure-core>=1.31.0->azure-identity<2,>=1->agent-framework-core) (2.32.5)\n",
      "Requirement already satisfied: six>=1.11.0 in c:\\users\\kinfeylo\\appdata\\local\\miniforge3\\envs\\agentenv\\lib\\site-packages (from azure-core>=1.31.0->azure-identity<2,>=1->agent-framework-core) (1.17.0)\n",
      "Requirement already satisfied: azure-core-tracing-opentelemetry~=1.0.0b11 in c:\\users\\kinfeylo\\appdata\\local\\miniforge3\\envs\\agentenv\\lib\\site-packages (from azure-monitor-opentelemetry>=1.7.0->agent-framework-core) (1.0.0b12)\n",
      "Requirement already satisfied: opentelemetry-instrumentation-django~=0.57b0 in c:\\users\\kinfeylo\\appdata\\local\\miniforge3\\envs\\agentenv\\lib\\site-packages (from azure-monitor-opentelemetry>=1.7.0->agent-framework-core) (0.57b0)\n",
      "Requirement already satisfied: opentelemetry-instrumentation-fastapi~=0.57b0 in c:\\users\\kinfeylo\\appdata\\local\\miniforge3\\envs\\agentenv\\lib\\site-packages (from azure-monitor-opentelemetry>=1.7.0->agent-framework-core) (0.57b0)\n",
      "Requirement already satisfied: opentelemetry-instrumentation-flask~=0.57b0 in c:\\users\\kinfeylo\\appdata\\local\\miniforge3\\envs\\agentenv\\lib\\site-packages (from azure-monitor-opentelemetry>=1.7.0->agent-framework-core) (0.57b0)\n",
      "Requirement already satisfied: opentelemetry-instrumentation-psycopg2~=0.57b0 in c:\\users\\kinfeylo\\appdata\\local\\miniforge3\\envs\\agentenv\\lib\\site-packages (from azure-monitor-opentelemetry>=1.7.0->agent-framework-core) (0.57b0)\n",
      "Requirement already satisfied: opentelemetry-instrumentation-requests~=0.57b0 in c:\\users\\kinfeylo\\appdata\\local\\miniforge3\\envs\\agentenv\\lib\\site-packages (from azure-monitor-opentelemetry>=1.7.0->agent-framework-core) (0.57b0)\n",
      "Requirement already satisfied: opentelemetry-instrumentation-urllib~=0.57b0 in c:\\users\\kinfeylo\\appdata\\local\\miniforge3\\envs\\agentenv\\lib\\site-packages (from azure-monitor-opentelemetry>=1.7.0->agent-framework-core) (0.57b0)\n",
      "Requirement already satisfied: opentelemetry-instrumentation-urllib3~=0.57b0 in c:\\users\\kinfeylo\\appdata\\local\\miniforge3\\envs\\agentenv\\lib\\site-packages (from azure-monitor-opentelemetry>=1.7.0->agent-framework-core) (0.57b0)\n",
      "Requirement already satisfied: opentelemetry-resource-detector-azure~=0.1.5 in c:\\users\\kinfeylo\\appdata\\local\\miniforge3\\envs\\agentenv\\lib\\site-packages (from azure-monitor-opentelemetry>=1.7.0->agent-framework-core) (0.1.5)\n",
      "Requirement already satisfied: fixedint==0.1.6 in c:\\users\\kinfeylo\\appdata\\local\\miniforge3\\envs\\agentenv\\lib\\site-packages (from azure-monitor-opentelemetry-exporter>=1.0.0b41->agent-framework-core) (0.1.6)\n",
      "Requirement already satisfied: msrest>=0.6.10 in c:\\users\\kinfeylo\\appdata\\local\\miniforge3\\envs\\agentenv\\lib\\site-packages (from azure-monitor-opentelemetry-exporter>=1.0.0b41->agent-framework-core) (0.7.1)\n",
      "Requirement already satisfied: psutil<8,>=5.9 in c:\\users\\kinfeylo\\appdata\\local\\miniforge3\\envs\\agentenv\\lib\\site-packages (from azure-monitor-opentelemetry-exporter>=1.0.0b41->agent-framework-core) (7.0.0)\n",
      "Requirement already satisfied: importlib-metadata<8.8.0,>=6.0 in c:\\users\\kinfeylo\\appdata\\local\\miniforge3\\envs\\agentenv\\lib\\site-packages (from opentelemetry-api>=1.24->agent-framework-core) (8.7.0)\n",
      "Requirement already satisfied: zipp>=3.20 in c:\\users\\kinfeylo\\appdata\\local\\miniforge3\\envs\\agentenv\\lib\\site-packages (from importlib-metadata<8.8.0,>=6.0->opentelemetry-api>=1.24->agent-framework-core) (3.23.0)\n",
      "Requirement already satisfied: opentelemetry-instrumentation-wsgi==0.57b0 in c:\\users\\kinfeylo\\appdata\\local\\miniforge3\\envs\\agentenv\\lib\\site-packages (from opentelemetry-instrumentation-django~=0.57b0->azure-monitor-opentelemetry>=1.7.0->agent-framework-core) (0.57b0)\n",
      "Requirement already satisfied: opentelemetry-instrumentation==0.57b0 in c:\\users\\kinfeylo\\appdata\\local\\miniforge3\\envs\\agentenv\\lib\\site-packages (from opentelemetry-instrumentation-django~=0.57b0->azure-monitor-opentelemetry>=1.7.0->agent-framework-core) (0.57b0)\n",
      "Requirement already satisfied: opentelemetry-semantic-conventions==0.57b0 in c:\\users\\kinfeylo\\appdata\\local\\miniforge3\\envs\\agentenv\\lib\\site-packages (from opentelemetry-instrumentation-django~=0.57b0->azure-monitor-opentelemetry>=1.7.0->agent-framework-core) (0.57b0)\n",
      "Requirement already satisfied: opentelemetry-util-http==0.57b0 in c:\\users\\kinfeylo\\appdata\\local\\miniforge3\\envs\\agentenv\\lib\\site-packages (from opentelemetry-instrumentation-django~=0.57b0->azure-monitor-opentelemetry>=1.7.0->agent-framework-core) (0.57b0)\n",
      "Requirement already satisfied: packaging>=18.0 in c:\\users\\kinfeylo\\appdata\\local\\miniforge3\\envs\\agentenv\\lib\\site-packages (from opentelemetry-instrumentation==0.57b0->opentelemetry-instrumentation-django~=0.57b0->azure-monitor-opentelemetry>=1.7.0->agent-framework-core) (25.0)\n",
      "Requirement already satisfied: wrapt<2.0.0,>=1.0.0 in c:\\users\\kinfeylo\\appdata\\local\\miniforge3\\envs\\agentenv\\lib\\site-packages (from opentelemetry-instrumentation==0.57b0->opentelemetry-instrumentation-django~=0.57b0->azure-monitor-opentelemetry>=1.7.0->agent-framework-core) (1.17.3)\n",
      "Requirement already satisfied: opentelemetry-instrumentation-asgi==0.57b0 in c:\\users\\kinfeylo\\appdata\\local\\miniforge3\\envs\\agentenv\\lib\\site-packages (from opentelemetry-instrumentation-fastapi~=0.57b0->azure-monitor-opentelemetry>=1.7.0->agent-framework-core) (0.57b0)\n",
      "Requirement already satisfied: asgiref~=3.0 in c:\\users\\kinfeylo\\appdata\\local\\miniforge3\\envs\\agentenv\\lib\\site-packages (from opentelemetry-instrumentation-asgi==0.57b0->opentelemetry-instrumentation-fastapi~=0.57b0->azure-monitor-opentelemetry>=1.7.0->agent-framework-core) (3.9.1)\n",
      "Requirement already satisfied: opentelemetry-instrumentation-dbapi==0.57b0 in c:\\users\\kinfeylo\\appdata\\local\\miniforge3\\envs\\agentenv\\lib\\site-packages (from opentelemetry-instrumentation-psycopg2~=0.57b0->azure-monitor-opentelemetry>=1.7.0->agent-framework-core) (0.57b0)\n",
      "Requirement already satisfied: cffi>=1.14 in c:\\users\\kinfeylo\\appdata\\local\\miniforge3\\envs\\agentenv\\lib\\site-packages (from cryptography>=2.5->azure-identity<2,>=1->agent-framework-core) (1.17.1)\n",
      "Requirement already satisfied: pycparser in c:\\users\\kinfeylo\\appdata\\local\\miniforge3\\envs\\agentenv\\lib\\site-packages (from cffi>=1.14->cryptography>=2.5->azure-identity<2,>=1->agent-framework-core) (2.22)\n",
      "Requirement already satisfied: anyio>=4.5 in c:\\users\\kinfeylo\\appdata\\local\\miniforge3\\envs\\agentenv\\lib\\site-packages (from mcp>=1.13->mcp[ws]>=1.13->agent-framework-core) (4.10.0)\n",
      "Requirement already satisfied: httpx-sse>=0.4 in c:\\users\\kinfeylo\\appdata\\local\\miniforge3\\envs\\agentenv\\lib\\site-packages (from mcp>=1.13->mcp[ws]>=1.13->agent-framework-core) (0.4.1)\n",
      "Requirement already satisfied: httpx>=0.27.1 in c:\\users\\kinfeylo\\appdata\\local\\miniforge3\\envs\\agentenv\\lib\\site-packages (from mcp>=1.13->mcp[ws]>=1.13->agent-framework-core) (0.28.1)\n",
      "Requirement already satisfied: jsonschema>=4.20.0 in c:\\users\\kinfeylo\\appdata\\local\\miniforge3\\envs\\agentenv\\lib\\site-packages (from mcp>=1.13->mcp[ws]>=1.13->agent-framework-core) (4.25.1)\n",
      "Requirement already satisfied: python-multipart>=0.0.9 in c:\\users\\kinfeylo\\appdata\\local\\miniforge3\\envs\\agentenv\\lib\\site-packages (from mcp>=1.13->mcp[ws]>=1.13->agent-framework-core) (0.0.20)\n",
      "Requirement already satisfied: pywin32>=310 in c:\\users\\kinfeylo\\appdata\\local\\miniforge3\\envs\\agentenv\\lib\\site-packages (from mcp>=1.13->mcp[ws]>=1.13->agent-framework-core) (311)\n",
      "Requirement already satisfied: sse-starlette>=1.6.1 in c:\\users\\kinfeylo\\appdata\\local\\miniforge3\\envs\\agentenv\\lib\\site-packages (from mcp>=1.13->mcp[ws]>=1.13->agent-framework-core) (3.0.2)\n",
      "Requirement already satisfied: starlette>=0.27 in c:\\users\\kinfeylo\\appdata\\local\\miniforge3\\envs\\agentenv\\lib\\site-packages (from mcp>=1.13->mcp[ws]>=1.13->agent-framework-core) (0.47.3)\n",
      "Requirement already satisfied: uvicorn>=0.31.1 in c:\\users\\kinfeylo\\appdata\\local\\miniforge3\\envs\\agentenv\\lib\\site-packages (from mcp>=1.13->mcp[ws]>=1.13->agent-framework-core) (0.35.0)\n",
      "Requirement already satisfied: idna>=2.8 in c:\\users\\kinfeylo\\appdata\\local\\miniforge3\\envs\\agentenv\\lib\\site-packages (from anyio>=4.5->mcp>=1.13->mcp[ws]>=1.13->agent-framework-core) (3.10)\n",
      "Requirement already satisfied: sniffio>=1.1 in c:\\users\\kinfeylo\\appdata\\local\\miniforge3\\envs\\agentenv\\lib\\site-packages (from anyio>=4.5->mcp>=1.13->mcp[ws]>=1.13->agent-framework-core) (1.3.1)\n",
      "Requirement already satisfied: certifi in c:\\users\\kinfeylo\\appdata\\local\\miniforge3\\envs\\agentenv\\lib\\site-packages (from httpx>=0.27.1->mcp>=1.13->mcp[ws]>=1.13->agent-framework-core) (2025.8.3)\n",
      "Requirement already satisfied: httpcore==1.* in c:\\users\\kinfeylo\\appdata\\local\\miniforge3\\envs\\agentenv\\lib\\site-packages (from httpx>=0.27.1->mcp>=1.13->mcp[ws]>=1.13->agent-framework-core) (1.0.9)\n",
      "Requirement already satisfied: h11>=0.16 in c:\\users\\kinfeylo\\appdata\\local\\miniforge3\\envs\\agentenv\\lib\\site-packages (from httpcore==1.*->httpx>=0.27.1->mcp>=1.13->mcp[ws]>=1.13->agent-framework-core) (0.16.0)\n",
      "Requirement already satisfied: attrs>=22.2.0 in c:\\users\\kinfeylo\\appdata\\local\\miniforge3\\envs\\agentenv\\lib\\site-packages (from jsonschema>=4.20.0->mcp>=1.13->mcp[ws]>=1.13->agent-framework-core) (25.3.0)\n",
      "Requirement already satisfied: jsonschema-specifications>=2023.03.6 in c:\\users\\kinfeylo\\appdata\\local\\miniforge3\\envs\\agentenv\\lib\\site-packages (from jsonschema>=4.20.0->mcp>=1.13->mcp[ws]>=1.13->agent-framework-core) (2025.4.1)\n",
      "Requirement already satisfied: referencing>=0.28.4 in c:\\users\\kinfeylo\\appdata\\local\\miniforge3\\envs\\agentenv\\lib\\site-packages (from jsonschema>=4.20.0->mcp>=1.13->mcp[ws]>=1.13->agent-framework-core) (0.36.2)\n",
      "Requirement already satisfied: rpds-py>=0.7.1 in c:\\users\\kinfeylo\\appdata\\local\\miniforge3\\envs\\agentenv\\lib\\site-packages (from jsonschema>=4.20.0->mcp>=1.13->mcp[ws]>=1.13->agent-framework-core) (0.27.1)\n",
      "Requirement already satisfied: websockets>=15.0.1 in c:\\users\\kinfeylo\\appdata\\local\\miniforge3\\envs\\agentenv\\lib\\site-packages (from mcp[ws]>=1.13->agent-framework-core) (15.0.1)\n",
      "Requirement already satisfied: PyJWT<3,>=1.0.0 in c:\\users\\kinfeylo\\appdata\\local\\miniforge3\\envs\\agentenv\\lib\\site-packages (from PyJWT[crypto]<3,>=1.0.0->msal>=1.30.0->azure-identity<2,>=1->agent-framework-core) (2.10.1)\n",
      "Requirement already satisfied: charset_normalizer<4,>=2 in c:\\users\\kinfeylo\\appdata\\local\\miniforge3\\envs\\agentenv\\lib\\site-packages (from requests>=2.21.0->azure-core>=1.31.0->azure-identity<2,>=1->agent-framework-core) (3.4.3)\n",
      "Requirement already satisfied: urllib3<3,>=1.21.1 in c:\\users\\kinfeylo\\appdata\\local\\miniforge3\\envs\\agentenv\\lib\\site-packages (from requests>=2.21.0->azure-core>=1.31.0->azure-identity<2,>=1->agent-framework-core) (2.5.0)\n",
      "Requirement already satisfied: isodate>=0.6.0 in c:\\users\\kinfeylo\\appdata\\local\\miniforge3\\envs\\agentenv\\lib\\site-packages (from msrest>=0.6.10->azure-monitor-opentelemetry-exporter>=1.0.0b41->agent-framework-core) (0.7.2)\n",
      "Requirement already satisfied: requests-oauthlib>=0.5.0 in c:\\users\\kinfeylo\\appdata\\local\\miniforge3\\envs\\agentenv\\lib\\site-packages (from msrest>=0.6.10->azure-monitor-opentelemetry-exporter>=1.0.0b41->agent-framework-core) (2.0.0)\n",
      "Requirement already satisfied: distro<2,>=1.7.0 in c:\\users\\kinfeylo\\appdata\\local\\miniforge3\\envs\\agentenv\\lib\\site-packages (from openai>=1.99.0->agent-framework-core) (1.9.0)\n",
      "Requirement already satisfied: jiter<1,>=0.4.0 in c:\\users\\kinfeylo\\appdata\\local\\miniforge3\\envs\\agentenv\\lib\\site-packages (from openai>=1.99.0->agent-framework-core) (0.10.0)\n",
      "Requirement already satisfied: tqdm>4 in c:\\users\\kinfeylo\\appdata\\local\\miniforge3\\envs\\agentenv\\lib\\site-packages (from openai>=1.99.0->agent-framework-core) (4.67.1)\n",
      "Requirement already satisfied: googleapis-common-protos~=1.57 in c:\\users\\kinfeylo\\appdata\\local\\miniforge3\\envs\\agentenv\\lib\\site-packages (from opentelemetry-exporter-otlp-proto-grpc>=1.36.0->agent-framework-core) (1.70.0)\n",
      "Requirement already satisfied: grpcio<2.0.0,>=1.63.2 in c:\\users\\kinfeylo\\appdata\\local\\miniforge3\\envs\\agentenv\\lib\\site-packages (from opentelemetry-exporter-otlp-proto-grpc>=1.36.0->agent-framework-core) (1.74.0)\n",
      "Requirement already satisfied: opentelemetry-exporter-otlp-proto-common==1.36.0 in c:\\users\\kinfeylo\\appdata\\local\\miniforge3\\envs\\agentenv\\lib\\site-packages (from opentelemetry-exporter-otlp-proto-grpc>=1.36.0->agent-framework-core) (1.36.0)\n",
      "Requirement already satisfied: opentelemetry-proto==1.36.0 in c:\\users\\kinfeylo\\appdata\\local\\miniforge3\\envs\\agentenv\\lib\\site-packages (from opentelemetry-exporter-otlp-proto-grpc>=1.36.0->agent-framework-core) (1.36.0)\n",
      "Requirement already satisfied: protobuf<7.0,>=5.0 in c:\\users\\kinfeylo\\appdata\\local\\miniforge3\\envs\\agentenv\\lib\\site-packages (from opentelemetry-proto==1.36.0->opentelemetry-exporter-otlp-proto-grpc>=1.36.0->agent-framework-core) (5.29.5)\n",
      "Requirement already satisfied: oauthlib>=3.0.0 in c:\\users\\kinfeylo\\appdata\\local\\miniforge3\\envs\\agentenv\\lib\\site-packages (from requests-oauthlib>=0.5.0->msrest>=0.6.10->azure-monitor-opentelemetry-exporter>=1.0.0b41->agent-framework-core) (3.3.1)\n",
      "Requirement already satisfied: colorama in c:\\users\\kinfeylo\\appdata\\local\\miniforge3\\envs\\agentenv\\lib\\site-packages (from tqdm>4->openai>=1.99.0->agent-framework-core) (0.4.6)\n",
      "Requirement already satisfied: click>=7.0 in c:\\users\\kinfeylo\\appdata\\local\\miniforge3\\envs\\agentenv\\lib\\site-packages (from uvicorn>=0.31.1->mcp>=1.13->mcp[ws]>=1.13->agent-framework-core) (8.2.1)\n"
     ]
    }
   ],
   "source": [
    "! pip install agent-framework-core -U"
   ]
  },
  {
   "cell_type": "code",
   "execution_count": 2,
   "id": "604f5e98",
   "metadata": {
    "language_info": {
     "name": "polyglot-notebook"
    },
    "polyglot_notebook": {
     "kernelName": "csharp"
    }
   },
   "outputs": [],
   "source": [
    "# 🤖 Import Multi-Agent Workflow Components\n",
    "# OpenAIChatClient: GitHub Models integration for agent communication\n",
    "# WorkflowEvent, WorkflowBuilder: Core workflow orchestration classes\n",
    "# WorkflowOutputEvent: Structured event handling for agent coordination\n",
    "from agent_framework.openai import OpenAIChatClient\n",
    "from agent_framework import WorkflowEvent, WorkflowBuilder, WorkflowOutputEvent"
   ]
  },
  {
   "cell_type": "code",
   "execution_count": 3,
   "id": "a7bbeb9f",
   "metadata": {
    "language_info": {
     "name": "polyglot-notebook"
    },
    "polyglot_notebook": {
     "kernelName": "csharp"
    }
   },
   "outputs": [],
   "source": [
    "# 📦 Import Configuration and Environment Management\n",
    "import os                      # Environment variable access for secure configuration\n",
    "from dotenv import load_dotenv # Secure loading of API credentials and settings"
   ]
  },
  {
   "cell_type": "code",
   "execution_count": 4,
   "id": "a35f9a38",
   "metadata": {
    "language_info": {
     "name": "polyglot-notebook"
    },
    "polyglot_notebook": {
     "kernelName": "csharp"
    }
   },
   "outputs": [
    {
     "data": {
      "text/plain": [
       "True"
      ]
     },
     "execution_count": 4,
     "metadata": {},
     "output_type": "execute_result"
    }
   ],
   "source": [
    "# 🔧 Load Multi-Agent Workflow Configuration  \n",
    "# Load environment variables for secure GitHub Models access\n",
    "# Required: GITHUB_ENDPOINT, GITHUB_TOKEN, GITHUB_MODEL_ID for agent communication\n",
    "load_dotenv()"
   ]
  },
  {
   "cell_type": "code",
   "execution_count": 5,
   "id": "763a7e8d",
   "metadata": {
    "language_info": {
     "name": "polyglot-notebook"
    },
    "polyglot_notebook": {
     "kernelName": "csharp"
    }
   },
   "outputs": [],
   "source": [
    "# 🔗 Initialize Shared Chat Client for Multi-Agent Communication\n",
    "# Create a unified client that all agents in the workflow will use\n",
    "# This ensures consistent API access and efficient resource utilization\n",
    "chat_client = OpenAIChatClient(\n",
    "    base_url=os.environ.get(\"GITHUB_ENDPOINT\"),    # GitHub Models API endpoint\n",
    "    api_key=os.environ.get(\"GITHUB_TOKEN\"),        # Authentication token\n",
    "    model_id=os.environ.get(\"GITHUB_MODEL_ID\")  # Model for all agents in workflow\n",
    ")"
   ]
  },
  {
   "cell_type": "code",
   "execution_count": 6,
   "id": "ed07880b",
   "metadata": {
    "language_info": {
     "name": "polyglot-notebook"
    },
    "polyglot_notebook": {
     "kernelName": "csharp"
    }
   },
   "outputs": [],
   "source": [
    "# 🎩 Agent 1: Hotel Concierge - Quality Reviewer Role\n",
    "# This agent specializes in evaluating travel recommendations for authenticity\n",
    "# Acts as the second stage in our multi-agent workflow for quality assurance\n",
    "REVIEWER_NAME = \"Concierge\"\n",
    "REVIEWER_INSTRUCTIONS = \"\"\"\n",
    "    You are an experienced hotel concierge who has strong opinions about providing the most local and authentic experiences for travelers.\n",
    "    \n",
    "    Your role in this multi-agent workflow:\n",
    "    - Review travel recommendations from the Front Desk agent\n",
    "    - Assess whether suggestions provide authentic, non-touristy experiences\n",
    "    - Approve recommendations that meet high standards for local authenticity\n",
    "    - Provide constructive feedback for refinement without giving specific examples\n",
    "    \n",
    "    Always focus on the quality and authenticity of experiences rather than just popular tourist destinations.\n",
    "    \"\"\""
   ]
  },
  {
   "cell_type": "code",
   "execution_count": 7,
   "id": "16ed7969",
   "metadata": {
    "language_info": {
     "name": "polyglot-notebook"
    },
    "polyglot_notebook": {
     "kernelName": "csharp"
    }
   },
   "outputs": [],
   "source": [
    "FRONTDESK_NAME = \"FrontDesk\"\n",
    "FRONTDESK_INSTRUCTIONS = \"\"\"\n",
    "    You are a Front Desk Travel Agent with ten years of experience and are known for brevity as you deal with many customers.\n",
    "    The goal is to provide the best activities and locations for a traveler to visit.\n",
    "    Only provide a single recommendation per response.\n",
    "    You're laser focused on the goal at hand.\n",
    "    Don't waste time with chit chat.\n",
    "    Consider suggestions when refining an idea.\n",
    "    \"\"\""
   ]
  },
  {
   "cell_type": "code",
   "execution_count": 8,
   "id": "558221d3",
   "metadata": {
    "language_info": {
     "name": "polyglot-notebook"
    },
    "polyglot_notebook": {
     "kernelName": "csharp"
    }
   },
   "outputs": [],
   "source": [
    "writer_agent    = chat_client.create_agent(\n",
    "        instructions=(\n",
    "           REVIEWER_INSTRUCTIONS\n",
    "        ),\n",
    "        name=REVIEWER_NAME,\n",
    "    )\n",
    "\n",
    "agent_reviewer = chat_client.create_agent(\n",
    "        instructions=(\n",
    "            FRONTDESK_INSTRUCTIONS\n",
    "        ),\n",
    "        name=FRONTDESK_NAME,\n",
    "    )"
   ]
  },
  {
   "cell_type": "code",
   "execution_count": 9,
   "id": "5de16a9c",
   "metadata": {
    "language_info": {
     "name": "polyglot-notebook"
    },
    "polyglot_notebook": {
     "kernelName": "csharp"
    }
   },
   "outputs": [],
   "source": [
    "workflow = WorkflowBuilder().set_start_executor(writer_agent).add_edge(writer_agent, agent_reviewer).build()"
   ]
  },
  {
   "cell_type": "code",
   "execution_count": 10,
   "id": "99988262",
   "metadata": {},
   "outputs": [],
   "source": [
    "\n",
    "class DatabaseEvent(WorkflowEvent): ..."
   ]
  },
  {
   "cell_type": "code",
   "execution_count": 11,
   "id": "1e3dcb96",
   "metadata": {},
   "outputs": [
    {
     "name": "stdout",
     "output_type": "stream",
     "text": [
      "Workflow output: Visit the Louvre Museum for an unparalleled art experience.\n"
     ]
    }
   ],
   "source": [
    "async for event in workflow.run_stream(\"I would like to go to Paris.\"):\n",
    "        if isinstance(event, DatabaseEvent):\n",
    "            print(f\"{event}\")\n",
    "        elif isinstance(event, WorkflowOutputEvent):\n",
    "            print(f\"Workflow output: {event.data}\")"
   ]
  },
  {
   "cell_type": "markdown",
   "metadata": {},
   "source": [
    "\n---\n\n**ਅਸਵੀਕਰਤੀ**:  \nਇਹ ਦਸਤਾਵੇਜ਼ AI ਅਨੁਵਾਦ ਸੇਵਾ [Co-op Translator](https://github.com/Azure/co-op-translator) ਦੀ ਵਰਤੋਂ ਕਰਕੇ ਅਨੁਵਾਦ ਕੀਤਾ ਗਿਆ ਹੈ। ਜਦੋਂ ਕਿ ਅਸੀਂ ਸਹੀ ਹੋਣ ਦੀ ਕੋਸ਼ਿਸ਼ ਕਰਦੇ ਹਾਂ, ਕਿਰਪਾ ਕਰਕੇ ਧਿਆਨ ਦਿਓ ਕਿ ਸਵੈਚਾਲਿਤ ਅਨੁਵਾਦਾਂ ਵਿੱਚ ਗਲਤੀਆਂ ਜਾਂ ਅਸੁਚੀਤਤਾਵਾਂ ਹੋ ਸਕਦੀਆਂ ਹਨ। ਇਸ ਦੀ ਮੂਲ ਭਾਸ਼ਾ ਵਿੱਚ ਮੌਜੂਦ ਦਸਤਾਵੇਜ਼ ਨੂੰ ਅਧਿਕਾਰਤ ਸਰੋਤ ਮੰਨਿਆ ਜਾਣਾ ਚਾਹੀਦਾ ਹੈ। ਮਹੱਤਵਪੂਰਨ ਜਾਣਕਾਰੀ ਲਈ, ਪੇਸ਼ੇਵਰ ਮਨੁੱਖੀ ਅਨੁਵਾਦ ਦੀ ਸਿਫਾਰਸ਼ ਕੀਤੀ ਜਾਂਦੀ ਹੈ। ਇਸ ਅਨੁਵਾਦ ਦੀ ਵਰਤੋਂ ਤੋਂ ਪੈਦਾ ਹੋਣ ਵਾਲੇ ਕਿਸੇ ਵੀ ਗਲਤਫਹਿਮੀ ਜਾਂ ਗਲਤ ਵਿਆਖਿਆ ਲਈ ਅਸੀਂ ਜ਼ਿੰਮੇਵਾਰ ਨਹੀਂ ਹਾਂ।\n"
   ]
  }
 ],
 "metadata": {
  "kernelspec": {
   "display_name": "agentenv",
   "language": "python",
   "name": "python3"
  },
  "language_info": {
   "codemirror_mode": {
    "name": "ipython",
    "version": 3
   },
   "file_extension": ".py",
   "mimetype": "text/x-python",
   "name": "python",
   "nbconvert_exporter": "python",
   "pygments_lexer": "ipython3",
   "version": "3.12.10"
  },
  "polyglot_notebook": {
   "kernelInfo": {
    "defaultKernelName": "csharp",
    "items": [
     {
      "aliases": [],
      "name": "csharp"
     }
    ]
   }
  },
  "coopTranslator": {
   "original_hash": "45f63d4607a79ed16109bb109513aaff",
   "translation_date": "2025-10-02T11:24:40+00:00",
   "source_file": "08-multi-agent/code_samples/08-python-agent-framework.ipynb",
   "language_code": "pa"
  }
 },
 "nbformat": 4,
 "nbformat_minor": 5
}