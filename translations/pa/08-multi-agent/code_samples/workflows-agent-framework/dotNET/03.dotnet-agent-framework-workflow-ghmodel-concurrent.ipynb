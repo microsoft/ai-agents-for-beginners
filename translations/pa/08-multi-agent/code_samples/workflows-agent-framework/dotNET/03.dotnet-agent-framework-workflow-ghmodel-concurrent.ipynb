{
 "cells": [
  {
   "cell_type": "markdown",
   "id": "6bb5f2b3",
   "metadata": {},
   "source": [
    "# ⚡ GitHub ਮਾਡਲਾਂ ਨਾਲ ਸਮਕਾਲੀ ਏਜੰਟ ਵਰਕਫਲੋਜ਼ (.NET)\n",
    "\n",
    "## 📋 ਉੱਚ-ਪ੍ਰਦਰਸ਼ਨ ਸਮਕਾਲੀ ਪ੍ਰੋਸੈਸਿੰਗ ਟਿਊਟੋਰਿਅਲ\n",
    "\n",
    "ਇਹ ਨੋਟਬੁੱਕ Microsoft Agent Framework ਲਈ .NET ਅਤੇ GitHub ਮਾਡਲਾਂ ਦੀ ਵਰਤੋਂ ਕਰਦੇ ਹੋਏ **ਸਮਕਾਲੀ ਵਰਕਫਲੋ ਪੈਟਰਨ** ਦਿਖਾਉਂਦੀ ਹੈ। ਤੁਸੀਂ ਸਿੱਖੋਗੇ ਕਿ ਕਿਵੇਂ ਉੱਚ-ਪ੍ਰਦਰਸ਼ਨ, ਸਮਕਾਲੀ ਪ੍ਰੋਸੈਸਿੰਗ ਵਰਕਫਲੋਜ਼ ਬਣਾਉਣੇ ਹਨ ਜੋ ਕਈ AI ਏਜੰਟਾਂ ਨੂੰ ਇੱਕੋ ਸਮੇਂ ਚਲਾਉਣ ਦੁਆਰਾ throughput ਨੂੰ ਵਧਾਉਂਦੇ ਹਨ ਜਦੋਂ ਕਿ ਸਮਨਵਯ ਅਤੇ ਡਾਟਾ ਸਥਿਰਤਾ ਨੂੰ ਬਣਾਈ ਰੱਖਦੇ ਹਨ।\n",
    "\n",
    "## 🎯 ਸਿੱਖਣ ਦੇ ਉਦੇਸ਼\n",
    "\n",
    "### 🚀 **ਸਮਕਾਲੀ ਪ੍ਰੋਸੈਸਿੰਗ ਦੇ ਮੂਲ ਸਿਧਾਂਤ**\n",
    "- **ਸਮਕਾਲੀ ਏਜੰਟ ਐਗਜ਼ਿਕਿਊਸ਼ਨ**: ਵੱਧਤਮ ਪ੍ਰਦਰਸ਼ਨ ਲਈ ਕਈ AI ਏਜੰਟਾਂ ਨੂੰ ਇੱਕੋ ਸਮੇਂ ਚਲਾਓ\n",
    "- **Async/Await ਪੈਟਰਨ**: .NET ਦੇ async ਪ੍ਰੋਗਰਾਮਿੰਗ ਮਾਡਲ ਦੀ ਵਰਤੋਂ ਕਰਕੇ ਕੁਸ਼ਲ ਸਮਕਾਲੀਤਾ ਪ੍ਰਾਪਤ ਕਰੋ\n",
    "- **GitHub ਮਾਡਲਾਂ ਦਾ ਇੰਟੀਗ੍ਰੇਸ਼ਨ**: GitHub ਦੇ AI ਮਾਡਲ ਇੰਫਰੈਂਸ ਸੇਵਾ ਲਈ ਕਈ ਸਮਕਾਲੀ ਕਾਲਾਂ ਨੂੰ ਸਮਨਵਯਿਤ ਕਰੋ\n",
    "- **ਸੰਸਾਧਨ ਪ੍ਰਬੰਧਨ**: ਸਮਕਾਲੀ ਕਾਰਵਾਈਆਂ ਵਿੱਚ AI ਮਾਡਲ ਸੰਸਾਧਨਾਂ ਨੂੰ ਕੁਸ਼ਲਤਾਪੂਰਵਕ ਪ੍ਰਬੰਧਿਤ ਕਰੋ\n",
    "\n",
    "### 🏗️ **ਉੱਚ-ਸਤਰੀ ਸਮਕਾਲੀ ਆਰਕੀਟੈਕਚਰ**\n",
    "- **ਟਾਸਕ-ਅਧਾਰਿਤ ਸਮਕਾਲੀਤਾ**: ਵਧੀਆ ਸਮਕਾਲੀ ਐਗਜ਼ਿਕਿਊਸ਼ਨ ਲਈ .NET ਟਾਸਕ ਪੈਰਲਲ ਲਾਇਬ੍ਰੇਰੀ ਦੀ ਵਰਤੋਂ ਕਰੋ\n",
    "- **ਸਮਨਵਯ ਪੈਟਰਨ**: ਸਮਕਾਲੀ ਏਜੰਟਾਂ ਨੂੰ ਰੇਸ ਕੰਡੀਸ਼ਨ ਤੋਂ ਬਚਾਉਂਦੇ ਹੋਏ ਸਮਨਵਯਿਤ ਕਰੋ\n",
    "- **ਲੋਡ ਬੈਲੈਂਸਿੰਗ**: ਉਪਲਬਧ ਸਮਕਾਲੀ ਪ੍ਰੋਸੈਸਿੰਗ ਸਮਰੱਥਾ ਵਿੱਚ ਕੰਮ ਨੂੰ ਕੁਸ਼ਲਤਾਪੂਰਵਕ ਵੰਡੋ\n",
    "- **ਫਾਲਟ ਟੋਲਰੈਂਸ**: ਪੂਰੇ ਵਰਕਫਲੋ ਨੂੰ ਰੋਕਣ ਤੋਂ ਬਿਨਾਂ ਵਿਅਕਤੀਗਤ ਏਜੰਟ ਦੀਆਂ ਨਾਕਾਮੀਆਂ ਨੂੰ ਸੰਭਾਲੋ\n",
    "\n",
    "### 🏢 **ਇੰਟਰਪ੍ਰਾਈਜ਼ ਸਮਕਾਲੀ ਐਪਲੀਕੇਸ਼ਨ**\n",
    "- **ਉੱਚ-ਮਾਤਰਾ ਦਸਤਾਵੇਜ਼ ਪ੍ਰੋਸੈਸਿੰਗ**: ਕਈ ਦਸਤਾਵੇਜ਼ਾਂ ਨੂੰ ਇੱਕੋ ਸਮੇਂ ਪ੍ਰੋਸੈਸ ਕਰੋ\n",
    "- **ਰੀਅਲ-ਟਾਈਮ ਸਮੱਗਰੀ ਵਿਸ਼ਲੇਸ਼ਣ**: ਆਉਣ ਵਾਲੇ ਡਾਟਾ ਸਟ੍ਰੀਮਾਂ ਦੀ ਸਮਕਾਲੀ ਵਿਸ਼ਲੇਸ਼ਣ\n",
    "- **ਬੈਚ ਪ੍ਰੋਸੈਸਿੰਗ ਅਪਟਿਮਾਈਜ਼ੇਸ਼ਨ**: ਵੱਡੇ ਪੱਧਰ ਦੇ ਡਾਟਾ ਪ੍ਰੋਸੈਸਿੰਗ ਕਾਰਵਾਈਆਂ ਲਈ throughput ਨੂੰ ਵਧਾਓ\n",
    "- **ਮਲਟੀ-ਮੋਡਲ ਵਿਸ਼ਲੇਸ਼ਣ**: ਵੱਖ-ਵੱਖ ਸਮੱਗਰੀ ਕਿਸਮਾਂ ਅਤੇ ਫਾਰਮੈਟਾਂ ਦੀ ਸਮਕਾਲੀ ਪ੍ਰੋਸੈਸਿੰਗ\n",
    "\n",
    "## ⚙️ ਪੂਰਵ-ਸ਼ਰਤਾਂ ਅਤੇ ਸੈਟਅਪ\n",
    "\n",
    "### 📦 **ਲੋੜੀਂਦੇ NuGet ਪੈਕੇਜ**\n",
    "\n",
    "ਉੱਚ-ਪ੍ਰਦਰਸ਼ਨ ਸਮਕਾਲੀ ਵਰਕਫਲੋਜ਼ ਲਈ ਜ਼ਰੂਰੀ ਪੈਕੇਜ:\n",
    "\n",
    "```xml\n",
    "<!-- Core AI Framework with Async Support -->\n",
    "<PackageReference Include=\"Microsoft.Extensions.AI\" Version=\"9.9.0\" />\n",
    "\n",
    "<!-- Client Model Abstractions for API Communication -->\n",
    "<PackageReference Include=\"System.ClientModel\" Version=\"1.6.1.0\" />\n",
    "\n",
    "<!-- Azure Identity and Async LINQ for Advanced Operations -->\n",
    "<PackageReference Include=\"Azure.Identity\" Version=\"1.15.0\" />\n",
    "<PackageReference Include=\"System.Linq.Async\" Version=\"6.0.3\" />\n",
    "\n",
    "<!-- Local Agent Framework References -->\n",
    "<!-- Microsoft.Agents.AI.dll - Core agent abstractions with async support -->\n",
    "<!-- Microsoft.Agents.AI.OpenAI.dll - GitHub Models integration with concurrency -->\n",
    "```\n",
    "\n",
    "### 🔑 **GitHub ਮਾਡਲਾਂ ਦੀ ਸੰਰਚਨਾ**\n",
    "\n",
    "**ਵਾਤਾਵਰਣ ਸੈਟਅਪ (.env ਫਾਈਲ):**\n",
    "```env\n",
    "GITHUB_TOKEN=your_github_personal_access_token\n",
    "GITHUB_ENDPOINT=https://models.inference.ai.azure.com\n",
    "GITHUB_MODEL_ID=gpt-4o-mini\n",
    "```\n",
    "\n",
    "**ਸਮਕਾਲੀ ਪ੍ਰੋਸੈਸਿੰਗ ਵਿਚਾਰ:**\n",
    "```csharp\n",
    "// Configure for concurrent operations\n",
    "var clientOptions = new OpenAIClientOptions()\n",
    "{\n",
    "    Endpoint = new Uri(githubEndpoint),\n",
    "    // Configure connection pooling for concurrent requests\n",
    "    NetworkTimeout = TimeSpan.FromMinutes(5)\n",
    "};\n",
    "```\n",
    "\n",
    "### 🏗️ **ਸਮਕਾਲੀ ਵਰਕਫਲੋ ਆਰਕੀਟੈਕਚਰ**\n",
    "\n",
    "```mermaid\n",
    "graph TD\n",
    "    A[Workflow Input] --> B[Task Distribution]\n",
    "    B --> C[Concurrent Agent Pool]\n",
    "    C --> D[Agent Task 1]\n",
    "    C --> E[Agent Task 2]\n",
    "    C --> F[Agent Task 3]\n",
    "    C --> G[Agent Task N]\n",
    "    \n",
    "    D --> H[Result Aggregation]\n",
    "    E --> H\n",
    "    F --> H\n",
    "    G --> H\n",
    "    \n",
    "    H --> I[Synchronized Output]\n",
    "    \n",
    "    J[GitHub Models API] --> D\n",
    "    J --> E\n",
    "    J --> F\n",
    "    J --> G\n",
    "    \n",
    "    K[.NET Task Scheduler] --> C\n",
    "```\n",
    "\n",
    "**ਮੁੱਖ ਘਟਕਾ:**\n",
    "- **ਟਾਸਕ ਪੈਰਲਲ ਲਾਇਬ੍ਰੇਰੀ**: .NET ਦੀ ਸਮਕਾਲੀ ਕਾਰਵਾਈਆਂ ਲਈ ਬਣਾਈ ਗਈ ਸਹਾਇਤਾ\n",
    "- **ਏਜੰਟ ਪੂਲ**: ਸਮਕਾਲੀ ਪ੍ਰੋਸੈਸਿੰਗ ਲਈ ਕਈ ਏਜੰਟ ਇੰਸਟੈਂਸ\n",
    "- **ਨਤੀਜਾ ਇਕੱਠਾ ਕਰਨਾ**: ਸਮਕਾਲੀ ਏਜੰਟ ਨਤੀਜਿਆਂ ਦਾ ਸਮਨਵਯ ਅਤੇ ਮਿਲਾਉਣਾ\n",
    "- **ਸਮਨਵਯ ਬਿੰਦੂ**: ਸਮਕਾਲੀ ਕਾਰਵਾਈਆਂ ਵਿੱਚ ਡਾਟਾ ਸਥਿਰਤਾ ਨੂੰ ਯਕੀਨੀ ਬਣਾਉਣਾ\n",
    "\n",
    "## 🎨 **ਸਮਕਾਲੀ ਵਰਕਫਲੋ ਡਿਜ਼ਾਈਨ ਪੈਟਰਨ**\n",
    "\n",
    "### 🔍 **ਸਮਕਾਲੀ ਖੋਜ ਅਤੇ ਵਿਸ਼ਲੇਸ਼ਣ**\n",
    "```\n",
    "Research Topic → Concurrent Research Agents → Result Synthesis → Final Report\n",
    "```\n",
    "\n",
    "### 📊 **ਮਲਟੀ-ਸੋਰਸ ਡਾਟਾ ਪ੍ਰੋਸੈਸਿੰਗ**\n",
    "```\n",
    "Data Sources → Parallel Processing Agents → Data Integration → Unified Output\n",
    "```\n",
    "\n",
    "### 🎭 **ਸਮੱਗਰੀ ਜਨਰੇਸ਼ਨ ਪਾਈਪਲਾਈਨ**\n",
    "```\n",
    "Content Requirements → Concurrent Content Generators → Quality Review → Final Content\n",
    "```\n",
    "\n",
    "### 🔄 **Fan-Out/Fan-In ਪ੍ਰੋਸੈਸਿੰਗ**\n",
    "```\n",
    "Single Input → Multiple Concurrent Processors → Result Aggregation → Single Output\n",
    "```\n",
    "\n",
    "## 🏢 **ਇੰਟਰਪ੍ਰਾਈਜ਼ ਪ੍ਰਦਰਸ਼ਨ ਦੇ ਫਾਇਦੇ**\n",
    "\n",
    "### ⚡ **Throughput ਅਤੇ ਸਕੇਲਬਿਲਟੀ**\n",
    "- **ਲਿਨੀਅਰ ਪ੍ਰਦਰਸ਼ਨ ਸਕੇਲਿੰਗ**: throughput ਵਧਾਉਣ ਲਈ ਹੋਰ ਸਮਕਾਲੀ ਏਜੰਟ ਸ਼ਾਮਲ ਕਰੋ\n",
    "- **ਸੰਸਾਧਨ ਦੀ ਵਰਤੋਂ**: ਉਪਲਬਧ AI ਮਾਡਲ ਸਮਰੱਥਾ ਦੀ ਵੱਧਤਮ ਕੁਸ਼ਲਤਾ\n",
    "- **ਪ੍ਰੋਸੈਸਿੰਗ ਸਮੇਂ ਵਿੱਚ ਕਮੀ**: ਸਮਕਾਲੀ ਐਗਜ਼ਿਕਿਊਸ਼ਨ ਦੁਆਰਾ ਮਹੱਤਵਪੂਰਨ ਸਮੇਂ ਦੀ ਬਚਤ\n",
    "- **ਇਲਾਸਟਿਕ ਸਕੇਲਿੰਗ**: ਵਰਕਲੋਡ ਦੇ ਅਧਾਰ 'ਤੇ ਸਮਕਾਲੀ ਏਜੰਟ ਗਿਣਤੀ ਨੂੰ ਗਤੀਸ਼ੀਲ ਤੌਰ 'ਤੇ ਸਮਰੂਪਿਤ ਕਰੋ\n",
    "\n",
    "### 🛡️ **ਭਰੋਸੇਮੰਦ ਅਤੇ ਲਚਕਦਾਰਤਾ**\n",
    "- **ਫਾਲਟ ਆਈਸੋਲੇਸ਼ਨ**: ਵਿਅਕਤੀਗਤ ਏਜੰਟ ਦੀਆਂ ਨਾਕਾਮੀਆਂ ਹੋਰ ਸਮਕਾਲੀ ਕਾਰਵਾਈਆਂ ਨੂੰ ਪ੍ਰਭਾਵਿਤ ਨਹੀਂ ਕਰਦੀਆਂ\n",
    "- **ਗ੍ਰੇਸਫੁਲ ਡਿਗਰੇਡੇਸ਼ਨ**: ਸਿਸਟਮ ਘਟਾਈ ਗਈ ਏਜੰਟ ਸਮਰੱਥਾ ਨਾਲ ਕੰਮ ਕਰਨਾ ਜਾਰੀ ਰੱਖਦਾ ਹੈ\n",
    "- **ਐਰਰ ਰਿਕਵਰੀ**: ਫੇਲ੍ਹ ਹੋਈ ਸਮਕਾਲੀ ਕਾਰਵਾਈਆਂ ਲਈ ਆਟੋਮੈਟਿਕ ਰੀਟ੍ਰਾਈ ਮਕੈਨਿਜ਼ਮ\n",
    "- **ਲੋਡ ਵੰਡ**: ਉਪਲਬਧ ਏਜੰਟਾਂ ਵਿੱਚ ਕੰਮ ਦੀ ਸਮਰੂਪ ਵੰਡ\n",
    "\n",
    "### 📊 **ਪ੍ਰਦਰਸ਼ਨ ਮਾਨੀਟਰਿੰਗ**\n",
    "- **ਸਮਕਾਲੀ ਐਗਜ਼ਿਕਿਊਸ਼ਨ ਮੈਟ੍ਰਿਕਸ**: ਸਾਰੀਆਂ ਸਮਕਾਲੀ ਕਾਰਵਾਈਆਂ ਦੇ ਪ੍ਰਦਰਸ਼ਨ ਨੂੰ ਟ੍ਰੈਕ ਕਰੋ\n",
    "- **ਸੰਸਾਧਨ ਦੀ ਵਰਤੋਂ ਵਿਸ਼ਲੇਸ਼ਣ**: CPU, ਮੈਮੋਰੀ, ਅਤੇ ਨੈਟਵਰਕ ਦੀ ਵਰਤੋਂ ਦੀ ਨਿਗਰਾਨੀ ਕਰੋ\n",
    "- **Throughput ਵਿਸ਼ਲੇਸ਼ਣ**: ਸਮਕਾਲੀ ਪ੍ਰੋਸੈਸਿੰਗ ਤੋਂ ਪ੍ਰਾਪਤ ਕੁਸ਼ਲਤਾ ਲਾਭਾਂ ਨੂੰ ਮਾਪੋ\n",
    "- **ਬੋਟਲਨੈਕ ਡਿਟੈਕਸ਼ਨ**: ਪ੍ਰਦਰਸ਼ਨ ਰੁਕਾਵਟਾਂ ਦੀ ਪਛਾਣ ਅਤੇ ਹੱਲ ਕਰੋ\n",
    "\n",
    "### 🔧 **ਡਿਵੈਲਪਮੈਂਟ ਅਤੇ ਓਪਰੇਸ਼ਨ**\n",
    "- **Async ਪ੍ਰੋਗਰਾਮਿੰਗ ਮਾਡਲ**: .NET ਦੇ ਪੱਕੇ async/await ਪੈਟਰਨ ਦੀ ਵਰਤੋਂ ਕਰੋ\n",
    "- **ਟਾਸਕ ਸਮਨਵਯ**: ਸਮਕਾਲੀ ਵਰਕਫਲੋਜ਼ ਲਈ ਬਣਾਈ ਗਈ ਟਾਸਕ ਪ੍ਰਬੰਧਨ ਅਤੇ ਸਮਨਵਯ ਯੋਗਤਾਵਾਂ\n",
    "- **Exception ਹੈਂਡਲਿੰਗ**: ਸਮਕਾਲੀ ਕਾਰਵਾਈਆਂ ਲਈ ਵਿਸਤ੍ਰਿਤ ਐਰਰ ਹੈਂਡਲਿੰਗ\n",
    "- **ਡਿਬੱਗਿੰਗ ਸਹਾਇਤਾ**: ਸਮਕਾਲੀ ਵਰਕਫਲੋਜ਼ ਲਈ Visual Studio ਡਿਬੱਗਿੰਗ ਟੂਲ\n",
    "\n",
    "ਚਲੋ .NET ਨਾਲ ਉੱਚ-ਪ੍ਰਦਰਸ਼ਨ ਸਮਕਾਲੀ AI ਵਰਕਫਲੋਜ਼ ਬਣਾਈਏ! 🚀\n"
   ]
  },
  {
   "cell_type": "code",
   "execution_count": 1,
   "id": "4675c79f",
   "metadata": {
    "language_info": {
     "name": "polyglot-notebook"
    },
    "polyglot_notebook": {
     "kernelName": "csharp"
    }
   },
   "outputs": [
    {
     "data": {
      "text/html": [
       "<div><div></div><div></div><div><strong>Installed Packages</strong><ul><li><span>Microsoft.Extensions.AI, 9.9.1</span></li></ul></div></div>"
      ]
     },
     "metadata": {},
     "output_type": "display_data"
    }
   ],
   "source": [
    "#r \"nuget: Microsoft.Extensions.AI, 9.9.1\""
   ]
  },
  {
   "cell_type": "code",
   "execution_count": 2,
   "id": "cb327e0b",
   "metadata": {
    "language_info": {
     "name": "polyglot-notebook"
    },
    "polyglot_notebook": {
     "kernelName": "csharp"
    }
   },
   "outputs": [
    {
     "data": {
      "text/html": [
       "<div><div></div><div></div><div><strong>Installed Packages</strong><ul><li><span>System.ClientModel, 1.6.1</span></li></ul></div></div>"
      ]
     },
     "metadata": {},
     "output_type": "display_data"
    }
   ],
   "source": [
    "#r \"nuget: System.ClientModel, 1.6.1.0\""
   ]
  },
  {
   "cell_type": "code",
   "execution_count": 3,
   "id": "394ce307",
   "metadata": {
    "language_info": {
     "name": "polyglot-notebook"
    },
    "polyglot_notebook": {
     "kernelName": "csharp"
    }
   },
   "outputs": [
    {
     "data": {
      "text/html": [
       "<div><div></div><div></div><div><strong>Installed Packages</strong><ul><li><span>Azure.Identity, 1.15.0</span></li><li><span>OpenTelemetry.Api, 1.0.1</span></li><li><span>System.Linq.Async, 6.0.3</span></li></ul></div></div>"
      ]
     },
     "metadata": {},
     "output_type": "display_data"
    }
   ],
   "source": [
    "#r \"nuget: Azure.Identity, 1.15.0\"\n",
    "#r \"nuget: System.Linq.Async, 6.0.3\"\n",
    "#r \"nuget: OpenTelemetry.Api, 1.0.0\""
   ]
  },
  {
   "cell_type": "code",
   "execution_count": 4,
   "id": "0a7c9e26",
   "metadata": {
    "language_info": {
     "name": "polyglot-notebook"
    },
    "polyglot_notebook": {
     "kernelName": "csharp"
    }
   },
   "outputs": [
    {
     "data": {
      "text/html": [
       "<div><div></div><div></div><div><strong>Installed Packages</strong><ul><li><span>Microsoft.Agents.AI.Workflows, 1.0.0-preview.251001.3</span></li></ul></div></div>"
      ]
     },
     "metadata": {},
     "output_type": "display_data"
    }
   ],
   "source": [
    "#r \"nuget: Microsoft.Agents.AI.Workflows, 1.0.0-preview.251001.3\""
   ]
  },
  {
   "cell_type": "code",
   "execution_count": null,
   "id": "a316aac6",
   "metadata": {
    "language_info": {
     "name": "polyglot-notebook"
    },
    "polyglot_notebook": {
     "kernelName": "csharp"
    }
   },
   "outputs": [
    {
     "data": {
      "text/html": [
       "<div><div></div><div></div><div><strong>Installed Packages</strong><ul><li><span>Microsoft.Agents.AI.OpenAI, 1.0.0-preview.251001.2</span></li></ul></div></div>"
      ]
     },
     "metadata": {},
     "output_type": "display_data"
    }
   ],
   "source": [
    "#r \"nuget: Microsoft.Agents.AI.OpenAI, 1.0.0-preview.251001.3\""
   ]
  },
  {
   "cell_type": "code",
   "execution_count": 6,
   "id": "25929636",
   "metadata": {
    "language_info": {
     "name": "polyglot-notebook"
    },
    "polyglot_notebook": {
     "kernelName": "csharp"
    }
   },
   "outputs": [
    {
     "data": {
      "text/html": [
       "<div><div></div><div></div><div><strong>Installed Packages</strong><ul><li><span>DotNetEnv, 3.1.1</span></li></ul></div></div>"
      ]
     },
     "metadata": {},
     "output_type": "display_data"
    }
   ],
   "source": [
    "#r \"nuget: DotNetEnv, 3.1.1\""
   ]
  },
  {
   "cell_type": "code",
   "execution_count": 7,
   "id": "a2e8c6e1",
   "metadata": {
    "language_info": {
     "name": "polyglot-notebook"
    },
    "polyglot_notebook": {
     "kernelName": "csharp"
    }
   },
   "outputs": [],
   "source": [
    "// #r \"nuget: Microsoft.Extensions.AI.OpenAI, 9.9.0-preview.1.25458.4\""
   ]
  },
  {
   "cell_type": "code",
   "execution_count": 8,
   "id": "423d09a3",
   "metadata": {
    "language_info": {
     "name": "polyglot-notebook"
    },
    "polyglot_notebook": {
     "kernelName": "csharp"
    }
   },
   "outputs": [],
   "source": [
    "using System;\n",
    "using System.ComponentModel;\n",
    "using System.ClientModel;\n",
    "using OpenAI;\n",
    "using Azure.Identity;\n",
    "using Microsoft.Extensions.AI;\n",
    "using Microsoft.Agents.AI;\n",
    "using Microsoft.Agents.AI.Workflows;\n",
    "using Microsoft.Agents.AI.Workflows.Reflection;"
   ]
  },
  {
   "cell_type": "code",
   "execution_count": 9,
   "id": "2fb52dd9",
   "metadata": {
    "language_info": {
     "name": "polyglot-notebook"
    },
    "polyglot_notebook": {
     "kernelName": "csharp"
    }
   },
   "outputs": [],
   "source": [
    " using DotNetEnv;"
   ]
  },
  {
   "cell_type": "code",
   "execution_count": 10,
   "id": "d8c58043",
   "metadata": {
    "language_info": {
     "name": "polyglot-notebook"
    },
    "polyglot_notebook": {
     "kernelName": "csharp"
    }
   },
   "outputs": [],
   "source": [
    "Env.Load(\"../../../.env\");"
   ]
  },
  {
   "cell_type": "code",
   "execution_count": 11,
   "id": "62168984",
   "metadata": {
    "language_info": {
     "name": "polyglot-notebook"
    },
    "polyglot_notebook": {
     "kernelName": "csharp"
    }
   },
   "outputs": [],
   "source": [
    "\n",
    "var github_endpoint = Environment.GetEnvironmentVariable(\"GITHUB_ENDPOINT\") ?? throw new InvalidOperationException(\"GITHUB_ENDPOINT is not set.\");\n",
    "var github_model_id =  \"gpt-4o\";\n",
    "var github_token = Environment.GetEnvironmentVariable(\"GITHUB_TOKEN\") ?? throw new InvalidOperationException(\"GITHUB_TOKEN is not set.\");\n"
   ]
  },
  {
   "cell_type": "code",
   "execution_count": 12,
   "id": "2884c117",
   "metadata": {
    "language_info": {
     "name": "polyglot-notebook"
    },
    "polyglot_notebook": {
     "kernelName": "csharp"
    }
   },
   "outputs": [],
   "source": [
    "var openAIOptions = new OpenAIClientOptions()\n",
    "{\n",
    "    Endpoint = new Uri(github_endpoint)\n",
    "};"
   ]
  },
  {
   "cell_type": "code",
   "execution_count": 13,
   "id": "cc7c9c13",
   "metadata": {
    "language_info": {
     "name": "polyglot-notebook"
    },
    "polyglot_notebook": {
     "kernelName": "csharp"
    }
   },
   "outputs": [],
   "source": [
    "var openAIClient = new OpenAIClient(new ApiKeyCredential(github_token), openAIOptions);"
   ]
  },
  {
   "cell_type": "code",
   "execution_count": 14,
   "id": "1136229d",
   "metadata": {
    "language_info": {
     "name": "polyglot-notebook"
    },
    "polyglot_notebook": {
     "kernelName": "csharp"
    }
   },
   "outputs": [],
   "source": [
    "const string ResearcherAgentName = \"Researcher-Agent\";\n",
    "const string ResearcherAgentInstructions = \"You are my travel researcher, working with me to analyze the destination, list relevant attractions, and make detailed plans for each attraction.\";"
   ]
  },
  {
   "cell_type": "code",
   "execution_count": 15,
   "id": "66463aa4",
   "metadata": {
    "language_info": {
     "name": "polyglot-notebook"
    },
    "polyglot_notebook": {
     "kernelName": "csharp"
    }
   },
   "outputs": [],
   "source": [
    "const string PlanAgentName = \"Plan-Agent\";\n",
    "const string PlanAgentInstructions = \"You are my travel planner, working with me to create a detailed travel plan based on the researcher's findings.\";"
   ]
  },
  {
   "cell_type": "code",
   "execution_count": 16,
   "id": "3a6f8f43",
   "metadata": {
    "language_info": {
     "name": "polyglot-notebook"
    },
    "polyglot_notebook": {
     "kernelName": "csharp"
    }
   },
   "outputs": [],
   "source": [
    "AIAgent researcherAgent = openAIClient.GetChatClient(github_model_id).CreateAIAgent(\n",
    "    name:ResearcherAgentName,instructions:ResearcherAgentInstructions);\n",
    "AIAgent plannerAgent  = openAIClient.GetChatClient(github_model_id).CreateAIAgent(\n",
    "    name:PlanAgentName,instructions:PlanAgentInstructions);"
   ]
  },
  {
   "cell_type": "code",
   "execution_count": 17,
   "id": "cf4d6cc5",
   "metadata": {
    "language_info": {
     "name": "polyglot-notebook"
    },
    "polyglot_notebook": {
     "kernelName": "csharp"
    }
   },
   "outputs": [],
   "source": [
    "\n",
    "public class ConcurrentStartExecutor() :\n",
    "    ReflectingExecutor<ConcurrentStartExecutor>(\"ConcurrentStartExecutor\"),\n",
    "    IMessageHandler<string>\n",
    "{\n",
    "    /// <summary>\n",
    "    /// Starts the concurrent processing by sending messages to the agents.\n",
    "    /// </summary>\n",
    "    /// <param name=\"message\">The user message to process</param>\n",
    "    /// <param name=\"context\">Workflow context for accessing workflow services and adding events</param>\n",
    "    /// <returns>A task representing the asynchronous operation</returns>\n",
    "    public async ValueTask HandleAsync(string message, IWorkflowContext context)\n",
    "    {\n",
    "        // Broadcast the message to all connected agents. Receiving agents will queue\n",
    "        // the message but will not start processing until they receive a turn token.\n",
    "        await context.SendMessageAsync(new ChatMessage(ChatRole.User, message));\n",
    "        // Broadcast the turn token to kick off the agents.\n",
    "        await context.SendMessageAsync(new TurnToken(emitEvents: true));\n",
    "    }\n",
    "}\n",
    "\n",
    "/// <summary>\n",
    "/// Executor that aggregates the results from the concurrent agents.\n",
    "/// </summary>\n",
    "public class ConcurrentAggregationExecutor() :\n",
    "    ReflectingExecutor<ConcurrentAggregationExecutor>(\"ConcurrentAggregationExecutor\"),\n",
    "    IMessageHandler<ChatMessage>\n",
    "{\n",
    "    private readonly List<ChatMessage> _messages = [];\n",
    "\n",
    "    /// <summary>\n",
    "    /// Handles incoming messages from the agents and aggregates their responses.\n",
    "    /// </summary>\n",
    "    /// <param name=\"message\">The message from the agent</param>\n",
    "    /// <param name=\"context\">Workflow context for accessing workflow services and adding events</param>\n",
    "    /// <returns>A task representing the asynchronous operation</returns>\n",
    "    public async ValueTask HandleAsync(ChatMessage message, IWorkflowContext context)\n",
    "    {\n",
    "        this._messages.Add(message);\n",
    "\n",
    "        if (this._messages.Count == 2)\n",
    "        {\n",
    "            var formattedMessages = string.Join(Environment.NewLine, this._messages.Select(m => $\"{m.AuthorName}: {m.Text}\"));\n",
    "            await context.YieldOutputAsync(formattedMessages);\n",
    "        }\n",
    "    }\n",
    "}"
   ]
  },
  {
   "cell_type": "code",
   "execution_count": 18,
   "id": "9f3d1627",
   "metadata": {
    "language_info": {
     "name": "polyglot-notebook"
    },
    "polyglot_notebook": {
     "kernelName": "csharp"
    }
   },
   "outputs": [],
   "source": [
    "var startExecutor = new ConcurrentStartExecutor();\n",
    "var aggregationExecutor = new ConcurrentAggregationExecutor();"
   ]
  },
  {
   "cell_type": "code",
   "execution_count": 19,
   "id": "8957f876",
   "metadata": {
    "language_info": {
     "name": "polyglot-notebook"
    },
    "polyglot_notebook": {
     "kernelName": "csharp"
    }
   },
   "outputs": [],
   "source": [
    "var workflow = new WorkflowBuilder(startExecutor)\n",
    "            .AddFanOutEdge(startExecutor, targets: [researcherAgent, plannerAgent])\n",
    "            .AddFanInEdge(aggregationExecutor, sources: [researcherAgent, plannerAgent])\n",
    "            .WithOutputFrom(aggregationExecutor)\n",
    "            .Build();"
   ]
  },
  {
   "cell_type": "code",
   "execution_count": 20,
   "id": "df71d4d2",
   "metadata": {
    "language_info": {
     "name": "polyglot-notebook"
    },
    "polyglot_notebook": {
     "kernelName": "csharp"
    }
   },
   "outputs": [
    {
     "name": "stdout",
     "output_type": "stream",
     "text": [
      "Workflow completed with results:\n",
      "Plan-Agent: December is a magical time to visit Seattle, as the city embraces the festive season with sparkling holiday lights, seasonal activities, cozy indoor attractions, and hearty cuisine. The weather will be chilly, often rainy, and occasionally snowy, so pack accordingly. Here's a detailed trip plan for your Seattle visit:\n",
      "\n",
      "---\n",
      "\n",
      "### **Travel Dates**  \n",
      "Suggested schedule: **3-5 days in Seattle (example: December 15–19)**  \n",
      "Adjust according to your preferences and availability.\n",
      "\n",
      "---\n",
      "\n",
      "### **Packing Essentials**  \n",
      "- Warm, waterproof coat  \n",
      "- Umbrella or rain jacket (Seattle has rainy winters)  \n",
      "- Waterproof boots or shoes  \n",
      "- Layers: sweaters, thermal tops, scarves, gloves, and hats  \n",
      "- Day backpack for exploring  \n",
      "- Travel charger and portable power bank  \n",
      "- Camera or phone for holiday photos  \n",
      "\n",
      "---\n",
      "\n",
      "### **Day 1: Arrival and Exploring Downtown**  \n",
      "**Morning**  \n",
      "- Arrive at **Seattle-Tacoma International Airport (SEA)**.  \n",
      "- Transfer to your accommodation (stay downtown for convenience). Options:  \n",
      "  - Luxury: **The Four Seasons Seattle**  \n",
      "  - Boutique: **The Hotel Andra**  \n",
      "  - Budget-friendly: **The Mediterranean Inn**  \n",
      "\n",
      "**Afternoon**  \n",
      "- Lunch at **Elliott’s Oyster House** near the waterfront for fresh seafood.  \n",
      "- Begin exploring **Pike Place Market**.  \n",
      "  - Shop artisan goods and seasonal items.  \n",
      "  - Watch the famous fishmongers toss fish.  \n",
      "  - Grab a cup of coffee from the original **Starbucks** store (if the line isn't too long).  \n",
      "\n",
      "**Evening**  \n",
      "- Stroll along the **Seattle Waterfront** and explore the festive lights in **Waterfront Park**.  \n",
      "- Enjoy dinner at **Canlis** for a fine dining experience or **Toulouse Petit** for flavorful Cajun/Creole cuisine.  \n",
      "\n",
      "---\n",
      "\n",
      "### **Day 2: Iconic Attractions and Holiday Cheer**  \n",
      "**Morning**  \n",
      "- Visit the **Space Needle** first thing for stunning views of the city and Mount Rainier (on clear days).  \n",
      "- Explore the **Chihuly Garden and Glass** exhibit nearby for mesmerizing art.  \n",
      "\n",
      "**Afternoon**  \n",
      "- Head to **Museum of Pop Culture (MoPOP)** for interactive exhibits covering music, gaming, sci-fi, and pop culture.  \n",
      "- Grab lunch at **The Pink Door**, an Italian-American restaurant with festive vibes.  \n",
      "\n",
      "**Evening**  \n",
      "- Discover the **Seattle Center Winterfest**. It features:  \n",
      "  - Ice skating  \n",
      "  - Holiday music performances  \n",
      "  - Winter-themed light displays  \n",
      "- Dinner at **Serious Pie** for wood-fired pizza or **Mashiko** if you're craving sushi.  \n",
      "\n",
      "---\n",
      "\n",
      "### **Day 3: Day Trips and Nature**  \n",
      "**Morning**  \n",
      "- Take a short day trip to **Snoqualmie Falls** (about 40 minutes east of downtown Seattle).  \n",
      "  - Walk the scenic observation trails for stunning views of the waterfalls amidst wintry landscapes.  \n",
      "\n",
      "**Afternoon**  \n",
      "- Return to Seattle and warm up with lunch at **Matt’s in the Market** (great views and hearty food downtown).  \n",
      "- Visit **Kerry Park** for postcard-worthy skyline views, especially during the holidays when lights sparkle across the city.  \n",
      "\n",
      "**Evening**  \n",
      "- Return to downtown and enjoy the holiday markets, such as **Downtown Holiday Lights & Market** (check for seasonal pop-ups).  \n",
      "- Dinner and drinks at **The Nest**, a rooftop bar offering panoramic views of the waterfront.  \n",
      "\n",
      "---\n",
      "\n",
      "### **Day 4: Unique Neighborhoods and Relaxing**  \n",
      "**Morning**  \n",
      "- Take a stroll through **Capitol Hill**, a trendy neighborhood.  \n",
      "  - Have brunch at **Tilikum Place Café** or **Tallulah’s**.  \n",
      "  - Explore local shops and bookstores like **Elliott Bay Book Company**.  \n",
      "\n",
      "**Afternoon**  \n",
      "- Take a relaxing afternoon ferry ride to **Bainbridge Island**.  \n",
      "  - Walk around charming boutiques and coffee shops.  \n",
      "  - Visit the scenic **Bloedel Reserve**, a stunning garden combining nature and holiday tranquility.  \n",
      "\n",
      "**Evening**  \n",
      "- Catch a live holiday-themed performance. Options include:  \n",
      "  - **The Nutcracker** by the Pacific Northwest Ballet  \n",
      "  - A Christmas show at **The Paramount Theatre**  \n",
      "\n",
      "Have your last dinner in Seattle at **Revolver Bar** or **Etta’s**, located near the waterfront.\n",
      "\n",
      "---\n",
      "\n",
      "### **Day 5: Departure**  \n",
      "**Morning**  \n",
      "- Stop at **Seattle Coffee Works** or **Café Ladro** for your last dose of Seattle coffee culture.  \n",
      "- Souvenir shopping at **Ye Olde Curiosity Shop** for unique keepsakes.  \n",
      "- Head to the airport for your flight home.  \n",
      "\n",
      "---\n",
      "\n",
      "### **Transportation**  \n",
      "- **Getting Around**:  \n",
      "  - Utilize Seattle’s excellent public transit system (Link Light Rail, buses, and streetcars).  \n",
      "  - Rideshare options like Uber/Lyft are readily available.  \n",
      "  - Rent a car only if planning day trips outside the city (e.g., Snoqualmie Falls).  \n",
      "\n",
      "---\n",
      "\n",
      "### **Budget Considerations**  \n",
      "- **Accommodations**: $150–$400 per night (depending on preferences)  \n",
      "- **Food**: $60–$100/day per person  \n",
      "- **Activities** (tickets): $50–$100/day  \n",
      "- **Transportation**: $10–$20/day for public transit/rideshares  \n",
      "\n",
      "---\n",
      "\n",
      "### **Extra Notes**\n",
      "- Make restaurant reservations for popular spots, especially during the holidays.  \n",
      "- Seattle weather can change rapidly, so keep an umbrella or raincoat with you at all times.  \n",
      "- Be mindful of the shorter daylight hours in December.  \n",
      "\n",
      "Enjoy the cozy vibes, festive activities, and breathtaking views that Seattle offers in December! Let me know if you'd like more suggestions.\r\n",
      "Researcher-Agent: Seattle in December is a wonderful destination with its mix of urban charm, holiday festivities, and nearby natural beauty. While the weather may be chilly (averaging 40°F–47°F with rain), the city’s attractions and seasonal events provide plenty to enjoy. Below, I’ll outline an itinerary and highlight key destinations to make the most of your trip. \n",
      "\n",
      "---\n",
      "\n",
      "### **Day 1: Downtown Seattle Exploration**\n",
      "1. **Pike Place Market**  \n",
      "   - **Why Visit?** Seattle’s iconic landmark, filled with local food vendors, artisanal goods, and street performers. Don’t miss the famous fish toss and the original Starbucks store.  \n",
      "   - **Things to Do**: Browse the market, enjoy lunch at Beecher’s Handmade Cheese or Piroshky Piroshky, and stop at the market’s waterfront for views of Elliott Bay.  \n",
      "   - **Seasonal Note**: Holiday decorations make this area festive! Look for vendors selling seasonal handicrafts.  \n",
      "\n",
      "2. **Seattle Aquarium**  \n",
      "   - **Why Visit?** Located nearby on the waterfront, the aquarium offers interactive exhibits about marine life from the Pacific Northwest.  \n",
      "   - **Things to Do**: Explore exhibits like the underwater dome, touch tanks with sea stars, and learn about marine conservation.  \n",
      "\n",
      "3. **Waterfront and Great Wheel**  \n",
      "   - **Why Visit?** The Seattle Great Wheel, one of the largest Ferris wheels on the West Coast, offers panoramic views of the city, Puget Sound, and mountains.  \n",
      "   - **Things to Do**: Take a ride on the Great Wheel (especially stunning at twilight), explore the waterfront area, and check out shops or restaurants such as Ivar’s Seafood Bar.  \n",
      "\n",
      "---\n",
      "\n",
      "### **Day 2: Iconic Landmarks & Museums**  \n",
      "1. **Space Needle**  \n",
      "   - **Why Visit?** This famous tower offers 360-degree views of Seattle, including Mt. Rainier, Puget Sound, and the Olympic and Cascade mountain ranges.  \n",
      "   - **Things to Do**: Visit the observation deck, take photos of the city skyline, and grab food at the café if desired.  \n",
      "   - **Seasonal Note**: The views may include snow-capped mountains if the weather is clear.  \n",
      "\n",
      "2. **Chihuly Garden and Glass**  \n",
      "   - **Why Visit?** A visually stunning museum featuring Dale Chihuly's unique glass sculptures.  \n",
      "   - **Things to Do**: Walk through the glasshouse, gardens, and indoor exhibits to marvel at the artistry of blown glass installations.  \n",
      "\n",
      "3. **Museum of Pop Culture (MoPOP)**  \n",
      "   - **Why Visit?** A vibrant museum on creativity and entertainment, perfect for pop culture enthusiasts.  \n",
      "   - **Things to Do**: Explore exhibits on music (like the Nirvana gallery), science fiction, film, gaming, and more.  \n",
      "\n",
      "4. **Holiday Festivities in Seattle Center**  \n",
      "   - **Why Visit?** Seattle Center often hosts holiday-themed events in December, like evening light shows and performances. Check out the Winterfest activities, including ice skating at the Seattle Center Armory.  \n",
      "\n",
      "---\n",
      "\n",
      "### **Day 3: Nature & Surrounding Areas**  \n",
      "1. **Discovery Park**  \n",
      "   - **Why Visit?** Seattle’s largest green space, offering tranquil beaches, forested trails, and stunning views of Puget Sound and the Olympic Mountains.  \n",
      "   - **Things to Do**: Hike the trails, walk to the West Point Lighthouse, and enjoy the fresh air with gorgeous coastal scenery.  \n",
      "\n",
      "2. **Fremont Neighborhood**  \n",
      "   - **Why Visit?** Known as the “Center of the Universe,” this quirky neighborhood offers boutique shops, great restaurants, art, and attractions.  \n",
      "   - **Things to Do**: See the Fremont Troll under the Aurora Bridge, shop local stores, and dine at neighborhood favorites like Revel or Joule.  \n",
      "\n",
      "3. **Gas Works Park**  \n",
      "   - **Why Visit?** A scenic spot for city skyline views. The historic gas plant structures make this park unique.  \n",
      "   - **Things to Do**: Take photos of the skyline at sunset, have a winter picnic, or simply enjoy the panoramic city-bay views.  \n",
      "\n",
      "---\n",
      "\n",
      "### **Day 4: Day Trip to Mount Rainier or Leavenworth**  \n",
      "1. **Option 1: Mount Rainier National Park**  \n",
      "   - **Why Visit?** Located about 2 hours from Seattle, this stunning national park offers winter scenery, snowshoeing, and peaceful landscapes.  \n",
      "   - **Things to Do**: Book a snowshoe tour, visit Paradise for picturesque winter views, and soak in the serenity of nature.  \n",
      "\n",
      "2. **Option 2: Leavenworth Christmas Village**  \n",
      "   - **Why Visit?** About 2.5 hours away, Leavenworth is an alpine-style Bavarian village that transforms into a winter wonderland in December.  \n",
      "   - **Things to Do**: Stroll through the Christmas-lit village, shop for holiday gifts, enjoy German-inspired food and drinks (like bratwurst and glühwein), and check out sleigh rides or sledding opportunities.  \n",
      "\n",
      "---\n",
      "\n",
      "### **Optional Activities (in case you extend your stay)**  \n",
      "- **Pacific Northwest Ballet: \"The Nutcracker\"**  \n",
      "   - Why Visit? A quintessential holiday favorite, performed beautifully in Seattle each December.  \n",
      "- **Woodinville Wine Country** (day trip)  \n",
      "   - Why Visit? Sip on world-class wines at charming wineries just 30 minutes northeast of Seattle.\n",
      "\n",
      "---\n",
      "\n",
      "### Packing Tips for December Seattle Visit:  \n",
      "1. **Clothing**: Waterproof jacket, warm layers, scarves, and comfortable walking shoes.  \n",
      "2. **Gear**: Umbrella or hooded raincoat (Seattle is rainy in December!), and a camera for capturing holiday decorations and scenic vistas.\n",
      "\n",
      "This itinerary blends Seattle’s iconic landmarks, holiday spirit, and nearby natural wonders for a memorable December trip! Let me know if you'd like me to refine or customize further.\r\n"
     ]
    }
   ],
   "source": [
    "\n",
    "        StreamingRun run = await InProcessExecution.StreamAsync(workflow, \"Plan a trip to Seattle in December\");\n",
    "        await foreach (WorkflowEvent evt in run.WatchStreamAsync().ConfigureAwait(false))\n",
    "        {\n",
    "            if (evt is WorkflowOutputEvent output)\n",
    "            {\n",
    "                Console.WriteLine($\"Workflow completed with results:\\n{output.Data}\");\n",
    "            }\n",
    "        }"
   ]
  },
  {
   "cell_type": "markdown",
   "metadata": {},
   "source": [
    "\n---\n\n**ਅਸਵੀਕਰਤੀ**:  \nਇਹ ਦਸਤਾਵੇਜ਼ AI ਅਨੁਵਾਦ ਸੇਵਾ [Co-op Translator](https://github.com/Azure/co-op-translator) ਦੀ ਵਰਤੋਂ ਕਰਕੇ ਅਨੁਵਾਦ ਕੀਤਾ ਗਿਆ ਹੈ। ਜਦੋਂ ਕਿ ਅਸੀਂ ਸਹੀ ਹੋਣ ਦੀ ਕੋਸ਼ਿਸ਼ ਕਰਦੇ ਹਾਂ, ਕਿਰਪਾ ਕਰਕੇ ਧਿਆਨ ਦਿਓ ਕਿ ਸਵੈਚਾਲਿਤ ਅਨੁਵਾਦਾਂ ਵਿੱਚ ਗਲਤੀਆਂ ਜਾਂ ਅਸੁਚੱਜੇਪਣ ਹੋ ਸਕਦੇ ਹਨ। ਇਸ ਦੀ ਮੂਲ ਭਾਸ਼ਾ ਵਿੱਚ ਮੌਜੂਦ ਅਸਲ ਦਸਤਾਵੇਜ਼ ਨੂੰ ਅਧਿਕਾਰਤ ਸਰੋਤ ਮੰਨਿਆ ਜਾਣਾ ਚਾਹੀਦਾ ਹੈ। ਮਹੱਤਵਪੂਰਨ ਜਾਣਕਾਰੀ ਲਈ, ਪੇਸ਼ੇਵਰ ਮਨੁੱਖੀ ਅਨੁਵਾਦ ਦੀ ਸਿਫਾਰਸ਼ ਕੀਤੀ ਜਾਂਦੀ ਹੈ। ਇਸ ਅਨੁਵਾਦ ਦੀ ਵਰਤੋਂ ਤੋਂ ਪੈਦਾ ਹੋਣ ਵਾਲੇ ਕਿਸੇ ਵੀ ਗਲਤਫਹਿਮੀ ਜਾਂ ਗਲਤ ਵਿਆਖਿਆ ਲਈ ਅਸੀਂ ਜ਼ਿੰਮੇਵਾਰ ਨਹੀਂ ਹਾਂ।\n"
   ]
  }
 ],
 "metadata": {
  "kernelspec": {
   "display_name": ".NET (C#)",
   "language": "C#",
   "name": ".net-csharp"
  },
  "language_info": {
   "name": "polyglot-notebook"
  },
  "polyglot_notebook": {
   "kernelInfo": {
    "defaultKernelName": "csharp",
    "items": [
     {
      "aliases": [],
      "name": "csharp"
     }
    ]
   }
  },
  "coopTranslator": {
   "original_hash": "793ebb45b14fe33451d213347f2be5d5",
   "translation_date": "2025-10-02T11:35:55+00:00",
   "source_file": "08-multi-agent/code_samples/workflows-agent-framework/dotNET/03.dotnet-agent-framework-workflow-ghmodel-concurrent.ipynb",
   "language_code": "pa"
  }
 },
 "nbformat": 4,
 "nbformat_minor": 5
}