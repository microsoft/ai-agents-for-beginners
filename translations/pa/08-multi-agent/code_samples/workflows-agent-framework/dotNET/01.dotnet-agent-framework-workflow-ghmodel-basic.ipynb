{
 "cells": [
  {
   "cell_type": "markdown",
   "id": "187780ba",
   "metadata": {},
   "source": [
    "# 🔄 GitHub ਮਾਡਲਾਂ ਨਾਲ ਬੇਸਿਕ ਏਜੰਟ ਵਰਕਫਲੋਜ਼ (.NET)\n",
    "\n",
    "## 📋 ਵਰਕਫਲੋ ਓਰਕੇਸਟਰੇਸ਼ਨ ਟਿਊਟੋਰਿਅਲ\n",
    "\n",
    "ਇਹ ਨੋਟਬੁੱਕ Microsoft Agent Framework ਲਈ .NET ਅਤੇ GitHub ਮਾਡਲਾਂ ਦੀ ਵਰਤੋਂ ਕਰਕੇ ਉੱਚ-ਸਤਹ ਦੇ **ਏਜੰਟ ਵਰਕਫਲੋਜ਼** ਬਣਾਉਣ ਦਾ ਤਰੀਕਾ ਦਿਖਾਉਂਦੀ ਹੈ। ਤੁਸੀਂ ਸਿੱਖੋਗੇ ਕਿ ਕਿਵੇਂ ਬਹੁ-ਕਦਮ ਕਾਰੋਬਾਰੀ ਪ੍ਰਕਿਰਿਆਵਾਂ ਬਣਾਈਆਂ ਜਾ ਸਕਦੀਆਂ ਹਨ ਜਿੱਥੇ AI ਏਜੰਟ ਸੰਗਠਿਤ ਢਾਂਚੇ ਦੇ ਜ਼ਰੀਏ ਜਟਿਲ ਕੰਮ ਪੂਰੇ ਕਰਨ ਲਈ ਸਹਿਯੋਗ ਕਰਦੇ ਹਨ।\n",
    "\n",
    "## 🎯 ਸਿੱਖਣ ਦੇ ਉਦੇਸ਼\n",
    "\n",
    "### 🏗️ **ਵਰਕਫਲੋ ਆਰਕੀਟੈਕਚਰ ਦੇ ਮੂਲ ਤੱਤ**\n",
    "- **ਵਰਕਫਲੋ ਬਿਲਡਰ**: ਜਟਿਲ ਬਹੁ-ਕਦਮ AI ਪ੍ਰਕਿਰਿਆਵਾਂ ਦੀ ਡਿਜ਼ਾਈਨ ਅਤੇ ਓਰਕੇਸਟਰ\n",
    "- **ਏਜੰਟ ਕੋਆਰਡੀਨੇਸ਼ਨ**: ਵਰਕਫਲੋਜ਼ ਵਿੱਚ ਕਈ ਵਿਸ਼ੇਸ਼ ਏਜੰਟਾਂ ਦਾ ਸਹਿ-ਸੰਚਾਲਨ\n",
    "- **GitHub ਮਾਡਲਾਂ ਦਾ ਇੰਟੀਗ੍ਰੇਸ਼ਨ**: ਵਰਕਫਲੋਜ਼ ਵਿੱਚ GitHub ਦੇ AI ਮਾਡਲ ਇੰਫਰੈਂਸ ਸੇਵਾ ਦੀ ਵਰਤੋਂ\n",
    "- **ਦ੍ਰਿਸ਼ਮਾਨ ਵਰਕਫਲੋ ਡਿਜ਼ਾਈਨ**: ਵਧੇਰੇ ਸਮਝ ਲਈ ਵਰਕਫਲੋ ਢਾਂਚੇ ਬਣਾਉਣਾ ਅਤੇ ਦਿਖਾਉਣਾ\n",
    "\n",
    "### 🔄 **ਪ੍ਰਕਿਰਿਆ ਓਰਕੇਸਟਰੇਸ਼ਨ ਪੈਟਰਨ**\n",
    "- **ਲਗਾਤਾਰ ਪ੍ਰਕਿਰਿਆ**: ਕਈ ਏਜੰਟ ਟਾਸਕਾਂ ਨੂੰ ਤਰਕਸੰਗਤ ਕ੍ਰਮ ਵਿੱਚ ਜੋੜਨਾ\n",
    "- **ਸਟੇਟ ਮੈਨੇਜਮੈਂਟ**: ਵਰਕਫਲੋ ਸਟੇਜਾਂ ਵਿੱਚ ਸੰਦਰਭ ਅਤੇ ਡਾਟਾ ਪ੍ਰਵਾਹ ਨੂੰ ਬਣਾਈ ਰੱਖਣਾ\n",
    "- **ਗਲਤੀ ਸੰਭਾਲ**: ਮਜ਼ਬੂਤ ਗਲਤੀ ਰਿਕਵਰੀ ਅਤੇ ਵਰਕਫਲੋ ਲਚਕਤਾ ਲਾਗੂ ਕਰਨਾ\n",
    "- **ਪ੍ਰਦਰਸ਼ਨ ਅਪਟਿਮਾਈਜ਼ੇਸ਼ਨ**: ਵਪਾਰ-ਪੱਧਰ ਦੇ ਸੰਚਾਲਨ ਲਈ ਕੁਸ਼ਲ ਵਰਕਫਲੋਜ਼ ਡਿਜ਼ਾਈਨ ਕਰਨਾ\n",
    "\n",
    "### 🏢 **ਕਾਰੋਬਾਰੀ ਵਰਕਫਲੋ ਐਪਲੀਕੇਸ਼ਨ**\n",
    "- **ਬਿਜ਼ਨਸ ਪ੍ਰਕਿਰਿਆ ਆਟੋਮੇਸ਼ਨ**: ਜਟਿਲ ਸੰਗਠਨਾਤਮਕ ਵਰਕਫਲੋਜ਼ ਨੂੰ ਆਟੋਮੇਟ ਕਰਨਾ\n",
    "- **ਸਮੱਗਰੀ ਉਤਪਾਦਨ ਪਾਈਪਲਾਈਨ**: ਸਮੀਖਿਆ ਅਤੇ ਮਨਜ਼ੂਰੀ ਸਟੇਜਾਂ ਵਾਲੇ ਸੰਪਾਦਕੀ ਵਰਕਫਲੋਜ਼\n",
    "- **ਗਾਹਕ ਸੇਵਾ ਆਟੋਮੇਸ਼ਨ**: ਬਹੁ-ਕਦਮ ਗਾਹਕ ਪੁੱਛਗਿੱਛ ਦਾ ਹੱਲ\n",
    "- **ਡਾਟਾ ਪ੍ਰਕਿਰਿਆ ਵਰਕਫਲੋਜ਼**: AI-ਚਾਲਤ ਰੂਪਾਂਤਰਨ ਨਾਲ ETL ਵਰਕਫਲੋਜ਼\n",
    "\n",
    "## ⚙️ ਪੂਰਵ ਸ਼ਰਤਾਂ ਅਤੇ ਸੈਟਅਪ\n",
    "\n",
    "### 📦 **ਲੋੜੀਂਦੇ NuGet ਪੈਕੇਜ**\n",
    "\n",
    "ਇਹ ਵਰਕਫਲੋ ਡੈਮੋ ਕਈ ਮੁੱਖ .NET ਪੈਕੇਜਾਂ ਦੀ ਵਰਤੋਂ ਕਰਦਾ ਹੈ:\n",
    "\n",
    "```xml\n",
    "<!-- Core AI Framework -->\n",
    "<PackageReference Include=\"Microsoft.Extensions.AI\" Version=\"9.9.0\" />\n",
    "\n",
    "<!-- Agent Framework (Local Development) -->\n",
    "<!-- Microsoft.Agents.AI.dll - Core agent abstractions -->\n",
    "<!-- Microsoft.Agents.AI.OpenAI.dll - OpenAI/GitHub Models integration -->\n",
    "\n",
    "<!-- Configuration and Environment -->\n",
    "<PackageReference Include=\"DotNetEnv\" Version=\"3.1.1\" />\n",
    "```\n",
    "\n",
    "### 🔑 **GitHub ਮਾਡਲਾਂ ਦੀ ਸੰਰਚਨਾ**\n",
    "\n",
    "**ਵਾਤਾਵਰਣ ਸੈਟਅਪ (.env ਫਾਈਲ):**\n",
    "```env\n",
    "GITHUB_TOKEN=your_github_personal_access_token\n",
    "GITHUB_ENDPOINT=https://models.inference.ai.azure.com\n",
    "GITHUB_MODEL_ID=gpt-4o-mini\n",
    "```\n",
    "\n",
    "**GitHub ਮਾਡਲਾਂ ਦੀ ਪਹੁੰਚ:**\n",
    "1. GitHub ਮਾਡਲਾਂ ਲਈ ਸਾਈਨ ਅੱਪ ਕਰੋ (ਵਰਤਮਾਨ ਵਿੱਚ ਪ੍ਰੀਵਿਊ ਵਿੱਚ)\n",
    "2. ਮਾਡਲ ਪਹੁੰਚ ਅਧਿਕਾਰਾਂ ਨਾਲ ਨਿੱਜੀ ਪਹੁੰਚ ਟੋਕਨ ਜਨਰੇਟ ਕਰੋ\n",
    "3. ਉਪਰੋਕਤ ਤਰੀਕੇ ਨਾਲ ਵਾਤਾਵਰਣ ਚਰਾਂ ਨੂੰ ਸੰਰਚਿਤ ਕਰੋ\n",
    "\n",
    "### 🏗️ **ਵਰਕਫਲੋ ਆਰਕੀਟੈਕਚਰ ਝਲਕ**\n",
    "\n",
    "```mermaid\n",
    "graph TD\n",
    "    A[Workflow Builder] --> B[Agent Registry]\n",
    "    B --> C[Workflow Execution Engine]\n",
    "    C --> D[Agent 1: Content Generator]\n",
    "    C --> E[Agent 2: Content Reviewer] \n",
    "    D --> F[Workflow Results]\n",
    "    E --> F\n",
    "    G[GitHub Models API] --> D\n",
    "    G --> E\n",
    "```\n",
    "\n",
    "**ਮੁੱਖ ਘਟਕ:**\n",
    "- **WorkflowBuilder**: ਵਰਕਫਲੋਜ਼ ਡਿਜ਼ਾਈਨ ਕਰਨ ਲਈ ਮੁੱਖ ਓਰਕੇਸਟਰ ਇੰਜਨ\n",
    "- **AIAgent**: ਵਿਸ਼ੇਸ਼ ਯੋਗਤਾਵਾਂ ਵਾਲੇ ਵਿਅਕਤੀਗਤ ਏਜੰਟ\n",
    "- **GitHub Models Client**: AI ਮਾਡਲ ਇੰਫਰੈਂਸ ਸੇਵਾ ਇੰਟੀਗ੍ਰੇਸ਼ਨ\n",
    "- **Execution Context**: ਵਰਕਫਲੋ ਸਟੇਜਾਂ ਵਿੱਚ ਸਟੇਟ ਅਤੇ ਡਾਟਾ ਪ੍ਰਵਾਹ ਦਾ ਪ੍ਰਬੰਧਨ\n",
    "\n",
    "## 🎨 **ਕਾਰੋਬਾਰੀ ਵਰਕਫਲੋ ਡਿਜ਼ਾਈਨ ਪੈਟਰਨ**\n",
    "\n",
    "### 📝 **ਸਮੱਗਰੀ ਉਤਪਾਦਨ ਵਰਕਫਲੋ**\n",
    "```\n",
    "User Request → Content Generation → Quality Review → Final Output\n",
    "```\n",
    "\n",
    "### 🔍 **ਦਸਤਾਵੇਜ਼ ਪ੍ਰਕਿਰਿਆ ਪਾਈਪਲਾਈਨ**\n",
    "```\n",
    "Document Input → Analysis → Extraction → Validation → Structured Output\n",
    "```\n",
    "\n",
    "### 💼 **ਬਿਜ਼ਨਸ ਇੰਟੈਲੀਜੈਂਸ ਵਰਕਫਲੋ**\n",
    "```\n",
    "Data Collection → Processing → Analysis → Report Generation → Distribution\n",
    "```\n",
    "\n",
    "### 🤝 **ਗਾਹਕ ਸੇਵਾ ਆਟੋਮੇਸ਼ਨ**\n",
    "```\n",
    "Customer Inquiry → Classification → Processing → Response Generation → Follow-up\n",
    "```\n",
    "\n",
    "## 🏢 **ਕਾਰੋਬਾਰੀ ਫਾਇਦੇ**\n",
    "\n",
    "### 🎯 **ਭਰੋਸੇਯੋਗਤਾ ਅਤੇ ਸਕੇਲਬਿਲਟੀ**\n",
    "- **ਡਿਟਰਮਿਨਿਸਟਿਕ ਐਗਜ਼ਿਕਿਊਸ਼ਨ**: ਸਥਿਰ, ਦੁਹਰਾਏ ਜਾ ਸਕਣ ਵਾਲੇ ਵਰਕਫਲੋ ਨਤੀਜੇ\n",
    "- **ਗਲਤੀ ਰਿਕਵਰੀ**: ਕਿਸੇ ਵੀ ਵਰਕਫਲੋ ਸਟੇਜ 'ਤੇ ਨਾਕਾਮੀ ਦਾ ਸੁਗਮ ਸੰਭਾਲ\n",
    "- **ਪ੍ਰਦਰਸ਼ਨ ਮਾਨੀਟਰਿੰਗ**: ਸੰਚਾਲਨ ਮੈਟ੍ਰਿਕਸ ਅਤੇ ਅਪਟਿਮਾਈਜ਼ੇਸ਼ਨ ਮੌਕਿਆਂ ਦੀ ਟ੍ਰੈਕਿੰਗ\n",
    "- **ਸੰਸਾਧਨ ਪ੍ਰਬੰਧਨ**: AI ਮਾਡਲ ਸੰਸਾਧਨਾਂ ਦੀ ਕੁਸ਼ਲ ਵਰਤੋਂ ਅਤੇ ਵੰਡ\n",
    "\n",
    "### 🔒 **ਸੁਰੱਖਿਆ ਅਤੇ ਅਨੁਕੂਲਤਾ**\n",
    "- **ਸੁਰੱਖਿਅਤ ਪ੍ਰਮਾਣਿਕਤਾ**: API ਪਹੁੰਚ ਲਈ GitHub ਟੋਕਨ-ਅਧਾਰਿਤ ਪ੍ਰਮਾਣਿਕਤਾ\n",
    "- **ਆਡਿਟ ਟ੍ਰੇਲਜ਼**: ਵਰਕਫਲੋ ਐਗਜ਼ਿਕਿਊਸ਼ਨ ਅਤੇ ਫੈਸਲੇ ਦੇ ਬਿੰਦੂਆਂ ਦੀ ਪੂਰੀ ਲਾਗਬੁੱਕ\n",
    "- **ਪਹੁੰਚ ਨਿਯੰਤਰਣ**: ਵਰਕਫਲੋ ਐਗਜ਼ਿਕਿਊਸ਼ਨ ਅਤੇ ਮਾਨੀਟਰਿੰਗ ਲਈ ਵਿਸਤ੍ਰਿਤ ਅਧਿਕਾਰ\n",
    "- **ਡਾਟਾ ਗੋਪਨੀਯਤਾ**: ਵਰਕਫਲੋਜ਼ ਵਿੱਚ ਸੰਵੇਦਨਸ਼ੀਲ ਜਾਣਕਾਰੀ ਦੀ ਸੁਰੱਖਿਅਤ ਸੰਭਾਲ\n",
    "\n",
    "### 📊 **ਦ੍ਰਿਸ਼ਮਾਨਤਾ ਅਤੇ ਪ੍ਰਬੰਧਨ**\n",
    "- **ਦ੍ਰਿਸ਼ਮਾਨ ਵਰਕਫਲੋ ਡਿਜ਼ਾਈਨ**: ਪ੍ਰਕਿਰਿਆ ਪ੍ਰਵਾਹ ਅਤੇ ਨਿਰਭਰਤਾਵਾਂ ਦੀ ਸਪਸ਼ਟ ਪ੍ਰਸਤੁਤੀ\n",
    "- **ਐਗਜ਼ਿਕਿਊਸ਼ਨ ਮਾਨੀਟਰਿੰਗ**: ਵਰਕਫਲੋ ਪ੍ਰਗਤੀ ਅਤੇ ਪ੍ਰਦਰਸ਼ਨ ਦੀ ਰੀਅਲ-ਟਾਈਮ ਟ੍ਰੈਕਿੰਗ\n",
    "- **ਗਲਤੀ ਰਿਪੋਰਟਿੰਗ**: ਵਿਸਤ੍ਰਿਤ ਗਲਤੀ ਵਿਸ਼ਲੇਸ਼ਣ ਅਤੇ ਡਿਬੱਗਿੰਗ ਯੋਗਤਾਵਾਂ\n",
    "- **ਪ੍ਰਦਰਸ਼ਨ ਵਿਸ਼ਲੇਸ਼ਣ**: ਅਪਟਿਮਾਈਜ਼ੇਸ਼ਨ ਅਤੇ ਸਮਰੱਥਾ ਯੋਜਨਾ ਲਈ ਮੈਟ੍ਰਿਕਸ\n",
    "\n",
    "ਆਓ ਆਪਣਾ ਪਹਿਲਾ ਕਾਰੋਬਾਰੀ-ਤਿਆਰ AI ਵਰਕਫਲੋ ਬਣਾਈਏ! 🚀\n"
   ]
  },
  {
   "cell_type": "code",
   "execution_count": 1,
   "id": "4152a00b",
   "metadata": {
    "language_info": {
     "name": "polyglot-notebook"
    },
    "polyglot_notebook": {
     "kernelName": "csharp"
    }
   },
   "outputs": [
    {
     "data": {
      "text/html": [
       "<div><div></div><div></div><div><strong>Installed Packages</strong><ul><li><span>Microsoft.Extensions.AI, 9.9.1</span></li></ul></div></div>"
      ]
     },
     "metadata": {},
     "output_type": "display_data"
    }
   ],
   "source": [
    "#r \"nuget: Microsoft.Extensions.AI, 9.9.1\""
   ]
  },
  {
   "cell_type": "code",
   "execution_count": 2,
   "id": "b431c4dc",
   "metadata": {
    "language_info": {
     "name": "polyglot-notebook"
    },
    "polyglot_notebook": {
     "kernelName": "csharp"
    }
   },
   "outputs": [
    {
     "data": {
      "text/html": [
       "<div><div></div><div></div><div><strong>Installed Packages</strong><ul><li><span>System.ClientModel, 1.6.1</span></li></ul></div></div>"
      ]
     },
     "metadata": {},
     "output_type": "display_data"
    }
   ],
   "source": [
    "#r \"nuget: System.ClientModel, 1.6.1.0\""
   ]
  },
  {
   "cell_type": "code",
   "execution_count": 3,
   "id": "ba48a4c7",
   "metadata": {
    "language_info": {
     "name": "polyglot-notebook"
    },
    "polyglot_notebook": {
     "kernelName": "csharp"
    }
   },
   "outputs": [
    {
     "data": {
      "text/html": [
       "<div><div></div><div></div><div><strong>Installed Packages</strong><ul><li><span>Azure.Identity, 1.15.0</span></li><li><span>OpenTelemetry.Api, 1.0.1</span></li><li><span>System.Linq.Async, 6.0.3</span></li></ul></div></div>"
      ]
     },
     "metadata": {},
     "output_type": "display_data"
    }
   ],
   "source": [
    "#r \"nuget: Azure.Identity, 1.15.0\"\n",
    "#r \"nuget: System.Linq.Async, 6.0.3\"\n",
    "#r \"nuget: OpenTelemetry.Api, 1.0.0\"\n",
    "#r \"nuget: OpenTelemetry.Api, 1.0.0\""
   ]
  },
  {
   "cell_type": "code",
   "execution_count": 4,
   "metadata": {
    "language_info": {
     "name": "polyglot-notebook"
    },
    "polyglot_notebook": {
     "kernelName": "csharp"
    }
   },
   "outputs": [],
   "source": []
  },
  {
   "cell_type": "code",
   "execution_count": 5,
   "id": "ed55fec8",
   "metadata": {
    "language_info": {
     "name": "polyglot-notebook"
    },
    "polyglot_notebook": {
     "kernelName": "csharp"
    }
   },
   "outputs": [
    {
     "data": {
      "text/html": [
       "<div><div></div><div></div><div><strong>Installed Packages</strong><ul><li><span>Microsoft.Agents.AI.Workflows, 1.0.0-preview.251001.3</span></li></ul></div></div>"
      ]
     },
     "metadata": {},
     "output_type": "display_data"
    }
   ],
   "source": [
    "\n",
    "#r \"nuget: Microsoft.Agents.AI.Workflows, 1.0.0-preview.251001.3\""
   ]
  },
  {
   "cell_type": "code",
   "execution_count": null,
   "id": "afaaa7d4",
   "metadata": {
    "language_info": {
     "name": "polyglot-notebook"
    },
    "polyglot_notebook": {
     "kernelName": "csharp"
    }
   },
   "outputs": [
    {
     "data": {
      "text/html": [
       "<div><div></div><div></div><div><strong>Installed Packages</strong><ul><li><span>Microsoft.Agents.AI.OpenAI, 1.0.0-preview.251001.2</span></li></ul></div></div>"
      ]
     },
     "metadata": {},
     "output_type": "display_data"
    }
   ],
   "source": [
    "\n",
    "#r \"nuget: Microsoft.Agents.AI.OpenAI, 1.0.0-preview.251001.3\""
   ]
  },
  {
   "cell_type": "code",
   "execution_count": 7,
   "id": "a7399950",
   "metadata": {
    "language_info": {
     "name": "polyglot-notebook"
    },
    "polyglot_notebook": {
     "kernelName": "csharp"
    }
   },
   "outputs": [
    {
     "data": {
      "text/html": [
       "<div><div></div><div></div><div><strong>Installed Packages</strong><ul><li><span>DotNetEnv, 3.1.1</span></li></ul></div></div>"
      ]
     },
     "metadata": {},
     "output_type": "display_data"
    }
   ],
   "source": [
    "#r \"nuget: DotNetEnv, 3.1.1\""
   ]
  },
  {
   "cell_type": "code",
   "execution_count": 8,
   "id": "1df9ac4c",
   "metadata": {
    "language_info": {
     "name": "polyglot-notebook"
    },
    "polyglot_notebook": {
     "kernelName": "csharp"
    }
   },
   "outputs": [],
   "source": [
    "// #r \"nuget: Microsoft.Extensions.AI.OpenAI, 9.9.0-preview.1.25458.4\""
   ]
  },
  {
   "cell_type": "code",
   "execution_count": 9,
   "id": "cf6ee6ed",
   "metadata": {
    "language_info": {
     "name": "polyglot-notebook"
    },
    "polyglot_notebook": {
     "kernelName": "csharp"
    }
   },
   "outputs": [],
   "source": [
    "using System;\n",
    "using System.ComponentModel;\n",
    "using System.ClientModel;\n",
    "using OpenAI;\n",
    "using Azure.Identity;\n",
    "using Microsoft.Extensions.AI;\n",
    "using Microsoft.Agents.AI;\n",
    "using Microsoft.Agents.AI.Workflows;"
   ]
  },
  {
   "cell_type": "code",
   "execution_count": 10,
   "id": "b4fc2d1b",
   "metadata": {
    "language_info": {
     "name": "polyglot-notebook"
    },
    "polyglot_notebook": {
     "kernelName": "csharp"
    }
   },
   "outputs": [],
   "source": [
    " using DotNetEnv;"
   ]
  },
  {
   "cell_type": "code",
   "execution_count": 11,
   "id": "0e7f69f7",
   "metadata": {
    "language_info": {
     "name": "polyglot-notebook"
    },
    "polyglot_notebook": {
     "kernelName": "csharp"
    }
   },
   "outputs": [],
   "source": [
    "Env.Load(\"../../../.env\");"
   ]
  },
  {
   "cell_type": "code",
   "execution_count": 12,
   "id": "2b62a30a",
   "metadata": {
    "language_info": {
     "name": "polyglot-notebook"
    },
    "polyglot_notebook": {
     "kernelName": "csharp"
    }
   },
   "outputs": [],
   "source": [
    "\n",
    "var github_endpoint = Environment.GetEnvironmentVariable(\"GITHUB_ENDPOINT\") ?? throw new InvalidOperationException(\"GITHUB_ENDPOINT is not set.\");\n",
    "var github_model_id = Environment.GetEnvironmentVariable(\"GITHUB_MODEL_ID\") ?? \"gpt-4o-mini\";\n",
    "var github_token = Environment.GetEnvironmentVariable(\"GITHUB_TOKEN\") ?? throw new InvalidOperationException(\"GITHUB_TOKEN is not set.\");"
   ]
  },
  {
   "cell_type": "code",
   "execution_count": 13,
   "id": "bb2a8730",
   "metadata": {
    "language_info": {
     "name": "polyglot-notebook"
    },
    "polyglot_notebook": {
     "kernelName": "csharp"
    }
   },
   "outputs": [],
   "source": [
    "var openAIOptions = new OpenAIClientOptions()\n",
    "{\n",
    "    Endpoint = new Uri(github_endpoint)\n",
    "};"
   ]
  },
  {
   "cell_type": "code",
   "execution_count": 14,
   "id": "c08bd38f",
   "metadata": {
    "language_info": {
     "name": "polyglot-notebook"
    },
    "polyglot_notebook": {
     "kernelName": "csharp"
    }
   },
   "outputs": [],
   "source": [
    "var openAIClient = new OpenAIClient(new ApiKeyCredential(github_token), openAIOptions);"
   ]
  },
  {
   "cell_type": "code",
   "execution_count": 15,
   "id": "408e8b23",
   "metadata": {
    "language_info": {
     "name": "polyglot-notebook"
    },
    "polyglot_notebook": {
     "kernelName": "csharp"
    }
   },
   "outputs": [],
   "source": [
    "const string ReviewerAgentName = \"Concierge\";\n",
    "const string ReviewerAgentInstructions = @\"\n",
    "    You are an are hotel concierge who has opinions about providing the most local and authentic experiences for travelers.\n",
    "    The goal is to determine if the front desk travel agent has recommended the best non-touristy experience for a traveler.\n",
    "    If so, state that it is approved.\n",
    "    If not, provide insight on how to refine the recommendation without using a specific example. \";"
   ]
  },
  {
   "cell_type": "code",
   "execution_count": 16,
   "id": "0a1ccf3e",
   "metadata": {
    "language_info": {
     "name": "polyglot-notebook"
    },
    "polyglot_notebook": {
     "kernelName": "csharp"
    }
   },
   "outputs": [],
   "source": [
    "const string FrontDeskAgentName = \"FrontDesk\";\n",
    "const string FrontDeskAgentInstructions = @\"\"\"\n",
    "    You are a Front Desk Travel Agent with ten years of experience and are known for brevity as you deal with many customers.\n",
    "    The goal is to provide the best activities and locations for a traveler to visit.\n",
    "    Only provide a single recommendation per response.\n",
    "    You're laser focused on the goal at hand.\n",
    "    Don't waste time with chit chat.\n",
    "    Consider suggestions when refining an idea.\n",
    "    \"\"\";"
   ]
  },
  {
   "cell_type": "code",
   "execution_count": 17,
   "id": "b9b975c6",
   "metadata": {
    "language_info": {
     "name": "polyglot-notebook"
    },
    "polyglot_notebook": {
     "kernelName": "csharp"
    }
   },
   "outputs": [],
   "source": [
    "AIAgent reviewerAgent = openAIClient.GetChatClient(github_model_id).CreateAIAgent(\n",
    "    name:ReviewerAgentName,instructions:ReviewerAgentInstructions);\n",
    "AIAgent frontDeskAgent  = openAIClient.GetChatClient(github_model_id).CreateAIAgent(\n",
    "    name:FrontDeskAgentName,instructions:FrontDeskAgentInstructions);"
   ]
  },
  {
   "cell_type": "code",
   "execution_count": 18,
   "id": "5edccde0",
   "metadata": {
    "language_info": {
     "name": "polyglot-notebook"
    },
    "polyglot_notebook": {
     "kernelName": "csharp"
    }
   },
   "outputs": [],
   "source": [
    "var workflow = new WorkflowBuilder(frontDeskAgent)\n",
    "            .AddEdge(frontDeskAgent, reviewerAgent)\n",
    "            .Build();"
   ]
  },
  {
   "cell_type": "code",
   "execution_count": 19,
   "id": "1fb93407",
   "metadata": {
    "language_info": {
     "name": "polyglot-notebook"
    },
    "polyglot_notebook": {
     "kernelName": "csharp"
    }
   },
   "outputs": [],
   "source": [
    "ChatMessage userMessage = new ChatMessage(ChatRole.User, [\n",
    "\tnew TextContent(\"I would like to go to Paris.\") \n",
    "]);"
   ]
  },
  {
   "cell_type": "code",
   "execution_count": 20,
   "id": "ec9afabc",
   "metadata": {
    "language_info": {
     "name": "polyglot-notebook"
    },
    "polyglot_notebook": {
     "kernelName": "csharp"
    }
   },
   "outputs": [],
   "source": [
    "StreamingRun run = await InProcessExecution.StreamAsync(workflow, userMessage);"
   ]
  },
  {
   "cell_type": "code",
   "execution_count": 21,
   "id": "6bea90c0",
   "metadata": {
    "language_info": {
     "name": "polyglot-notebook"
    },
    "polyglot_notebook": {
     "kernelName": "csharp"
    }
   },
   "outputs": [
    {
     "name": "stdout",
     "output_type": "stream",
     "text": [
      "Visit the Louvre Museum. It's a must-see for art enthusiasts and history lovers.That recommendation is quite popular and likely to attract many tourists. To refine it for a more local and authentic experience, consider suggesting an alternative that focuses on smaller, lesser-known art venues or galleries. Look for places where local artists exhibit or community spaces that host cultural events. This approach allows travelers to connect with the local art scene more intimately, away from the typical tourist routes.\r\n"
     ]
    }
   ],
   "source": [
    "await run.TrySendMessageAsync(new TurnToken(emitEvents: true));\n",
    "string id=\"\";\n",
    "string messageData=\"\";\n",
    "await foreach (WorkflowEvent evt in run.WatchStreamAsync().ConfigureAwait(false))\n",
    "{\n",
    "    if (evt is AgentRunUpdateEvent executorComplete)\n",
    "    {\n",
    "        if(id==\"\")\n",
    "        {\n",
    "            id=executorComplete.ExecutorId;\n",
    "        }\n",
    "        if(id==executorComplete.ExecutorId)\n",
    "        {\n",
    "            messageData+=executorComplete.Data.ToString();\n",
    "        }\n",
    "        else\n",
    "        {\n",
    "            id=executorComplete.ExecutorId;\n",
    "        }\n",
    "        // Console.WriteLine($\"{executorComplete.ExecutorId}: {executorComplete.Data}\");\n",
    "    }\n",
    "}\n",
    "\n",
    "Console.WriteLine(messageData);"
   ]
  },
  {
   "cell_type": "markdown",
   "metadata": {},
   "source": [
    "\n---\n\n**ਅਸਵੀਕਰਤਾ**:  \nਇਹ ਦਸਤਾਵੇਜ਼ AI ਅਨੁਵਾਦ ਸੇਵਾ [Co-op Translator](https://github.com/Azure/co-op-translator) ਦੀ ਵਰਤੋਂ ਕਰਕੇ ਅਨੁਵਾਦ ਕੀਤਾ ਗਿਆ ਹੈ। ਜਦੋਂ ਕਿ ਅਸੀਂ ਸਹੀ ਹੋਣ ਦੀ ਕੋਸ਼ਿਸ਼ ਕਰਦੇ ਹਾਂ, ਕਿਰਪਾ ਕਰਕੇ ਧਿਆਨ ਦਿਓ ਕਿ ਸਵੈਚਾਲਿਤ ਅਨੁਵਾਦਾਂ ਵਿੱਚ ਗਲਤੀਆਂ ਜਾਂ ਅਸੁਚੱਜੇਪਣ ਹੋ ਸਕਦੇ ਹਨ। ਇਸ ਦੀ ਮੂਲ ਭਾਸ਼ਾ ਵਿੱਚ ਮੂਲ ਦਸਤਾਵੇਜ਼ ਨੂੰ ਅਧਿਕਾਰਤ ਸਰੋਤ ਮੰਨਿਆ ਜਾਣਾ ਚਾਹੀਦਾ ਹੈ। ਮਹੱਤਵਪੂਰਨ ਜਾਣਕਾਰੀ ਲਈ, ਪੇਸ਼ੇਵਰ ਮਨੁੱਖੀ ਅਨੁਵਾਦ ਦੀ ਸਿਫਾਰਸ਼ ਕੀਤੀ ਜਾਂਦੀ ਹੈ। ਅਸੀਂ ਇਸ ਅਨੁਵਾਦ ਦੀ ਵਰਤੋਂ ਤੋਂ ਪੈਦਾ ਹੋਣ ਵਾਲੇ ਕਿਸੇ ਵੀ ਗਲਤਫਹਿਮੀ ਜਾਂ ਗਲਤ ਵਿਆਖਿਆ ਲਈ ਜ਼ਿੰਮੇਵਾਰ ਨਹੀਂ ਹਾਂ।\n"
   ]
  }
 ],
 "metadata": {
  "kernelspec": {
   "display_name": ".NET (C#)",
   "language": "C#",
   "name": ".net-csharp"
  },
  "language_info": {
   "name": "polyglot-notebook"
  },
  "polyglot_notebook": {
   "kernelInfo": {
    "defaultKernelName": "csharp",
    "items": [
     {
      "aliases": [],
      "name": "csharp"
     }
    ]
   }
  },
  "coopTranslator": {
   "original_hash": "0014f87b9c2a0eddf09e8de1bfd31b20",
   "translation_date": "2025-10-02T11:40:05+00:00",
   "source_file": "08-multi-agent/code_samples/workflows-agent-framework/dotNET/01.dotnet-agent-framework-workflow-ghmodel-basic.ipynb",
   "language_code": "pa"
  }
 },
 "nbformat": 4,
 "nbformat_minor": 5
}