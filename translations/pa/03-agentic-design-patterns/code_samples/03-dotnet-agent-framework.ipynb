{
 "cells": [
  {
   "cell_type": "markdown",
   "id": "d6058fa4",
   "metadata": {},
   "source": [
    "# 🎨 GitHub ਮਾਡਲਾਂ ਨਾਲ ਏਜੈਂਟਿਕ ਡਿਜ਼ਾਈਨ ਪੈਟਰਨ (.NET)\n",
    "\n",
    "## 📋 ਸਿੱਖਣ ਦੇ ਉਦੇਸ਼\n",
    "\n",
    "ਇਹ ਨੋਟਬੁੱਕ Microsoft Agent Framework ਨੂੰ .NET ਵਿੱਚ GitHub ਮਾਡਲਾਂ ਦੇ ਇੰਟੀਗ੍ਰੇਸ਼ਨ ਨਾਲ ਵਰਤ ਕੇ ਬੁੱਧੀਮਾਨ ਏਜੈਂਟ ਬਣਾਉਣ ਲਈ ਉੱਚ-ਪੱਧਰੀ ਡਿਜ਼ਾਈਨ ਪੈਟਰਨ ਦਿਖਾਉਂਦੀ ਹੈ। ਤੁਸੀਂ ਉਹ ਪੇਸ਼ੇਵਰ ਪੈਟਰਨ ਅਤੇ ਆਰਕੀਟੈਕਚਰਲ ਤਰੀਕੇ ਸਿੱਖੋਗੇ ਜੋ ਏਜੈਂਟਾਂ ਨੂੰ ਪ੍ਰੋਡਕਸ਼ਨ-ਤਿਆਰ, ਸੰਭਾਲਯੋਗ ਅਤੇ ਸਕੇਲਬਲ ਬਣਾਉਂਦੇ ਹਨ।\n",
    "\n",
    "**ਇੰਟਰਪ੍ਰਾਈਜ਼ ਡਿਜ਼ਾਈਨ ਪੈਟਰਨ:**\n",
    "- 🏭 **ਫੈਕਟਰੀ ਪੈਟਰਨ**: ਡਿਪੈਂਡੈਂਸੀ ਇੰਜੈਕਸ਼ਨ ਨਾਲ ਮਿਆਰੀ ਏਜੈਂਟ ਬਣਾਉਣ\n",
    "- 🔧 **ਬਿਲਡਰ ਪੈਟਰਨ**: ਫਲੂਐਂਟ ਏਜੈਂਟ ਸੰਰਚਨਾ ਅਤੇ ਸੈਟਅੱਪ\n",
    "- 🧵 **ਥ੍ਰੈਡ-ਸੇਫ ਪੈਟਰਨ**: ਸਮਕਾਲੀ ਗੱਲਬਾਤ ਪ੍ਰਬੰਧਨ\n",
    "- 📋 **ਰਿਪੋਜ਼ਿਟਰੀ ਪੈਟਰਨ**: ਸੰਗਠਿਤ ਟੂਲ ਅਤੇ ਸਮਰੱਥਾ ਪ੍ਰਬੰਧਨ\n",
    "\n",
    "## 🎯 .NET-ਵਿਸ਼ੇਸ਼ ਆਰਕੀਟੈਕਚਰਲ ਫਾਇਦੇ\n",
    "\n",
    "### ਇੰਟਰਪ੍ਰਾਈਜ਼ ਵਿਸ਼ੇਸ਼ਤਾਵਾਂ\n",
    "- **ਮਜ਼ਬੂਤ ਟਾਈਪਿੰਗ**: ਕੰਪਾਇਲ-ਟਾਈਮ ਵੈਰੀਫਿਕੇਸ਼ਨ ਅਤੇ IntelliSense ਸਹਾਇਤਾ\n",
    "- **ਡਿਪੈਂਡੈਂਸੀ ਇੰਜੈਕਸ਼ਨ**: ਬਿਲਟ-ਇਨ DI ਕੰਟੇਨਰ ਇੰਟੀਗ੍ਰੇਸ਼ਨ\n",
    "- **ਕੰਫਿਗਰੇਸ਼ਨ ਪ੍ਰਬੰਧਨ**: IConfiguration ਅਤੇ ਵਿਕਲਪ ਪੈਟਰਨ\n",
    "- **ਐਸਿੰਕ/ਅਵੇਟ**: ਪਹਿਲੀ-ਕਲਾਸ ਅਸਿੰਕ੍ਰੋਨਸ ਪ੍ਰੋਗਰਾਮਿੰਗ ਸਹਾਇਤਾ\n",
    "\n",
    "### ਪ੍ਰੋਡਕਸ਼ਨ-ਤਿਆਰ ਪੈਟਰਨ\n",
    "- **ਲੌਗਿੰਗ ਇੰਟੀਗ੍ਰੇਸ਼ਨ**: ILogger ਅਤੇ ਸਟ੍ਰਕਚਰਡ ਲੌਗਿੰਗ ਸਹਾਇਤਾ\n",
    "- **ਹੈਲਥ ਚੈਕਸ**: ਬਿਲਟ-ਇਨ ਮਾਨੀਟਰਿੰਗ ਅਤੇ ਡਾਇਗਨੋਸਟਿਕਸ\n",
    "- **ਕੰਫਿਗਰੇਸ਼ਨ ਵੈਰੀਫਿਕੇਸ਼ਨ**: ਡਾਟਾ ਐਨੋਟੇਸ਼ਨ ਨਾਲ ਮਜ਼ਬੂਤ ਟਾਈਪਿੰਗ\n",
    "- **ਗਲਤੀ ਸੰਭਾਲ**: ਸਟ੍ਰਕਚਰਡ ਐਕਸੈਪਸ਼ਨ ਪ੍ਰਬੰਧਨ\n",
    "\n",
    "## 🔧 ਤਕਨੀਕੀ ਆਰਕੀਟੈਕਚਰ\n",
    "\n",
    "### ਮੁੱਖ .NET ਕੰਪੋਨੈਂਟ\n",
    "- **Microsoft.Extensions.AI**: ਏਕਰੂਪ AI ਸੇਵਾ ਅਬਸਟਰੈਕਸ਼ਨ\n",
    "- **Microsoft.Agents.AI**: ਇੰਟਰਪ੍ਰਾਈਜ਼ ਏਜੈਂਟ ਆਰਕੇਸਟਰੇਸ਼ਨ ਫਰੇਮਵਰਕ\n",
    "- **GitHub ਮਾਡਲ ਇੰਟੀਗ੍ਰੇਸ਼ਨ**: ਉੱਚ-ਪ੍ਰਦਰਸ਼ਨ API ਕਲਾਇੰਟ ਪੈਟਰਨ\n",
    "- **ਕੰਫਿਗਰੇਸ਼ਨ ਸਿਸਟਮ**: appsettings.json ਅਤੇ ਵਾਤਾਵਰਣ ਇੰਟੀਗ੍ਰੇਸ਼ਨ\n",
    "\n",
    "### ਡਿਜ਼ਾਈਨ ਪੈਟਰਨ ਲਾਗੂ ਕਰਨਾ\n",
    "```csharp\n",
    "IServiceCollection → Agent Builder → Configuration → Tool Registry → AI Agent\n",
    "```\n",
    "\n",
    "## 🏗️ ਦਿਖਾਏ ਗਏ ਇੰਟਰਪ੍ਰਾਈਜ਼ ਪੈਟਰਨ\n",
    "\n",
    "### 1. **ਕ੍ਰੀਏਸ਼ਨਲ ਪੈਟਰਨ**\n",
    "- **ਏਜੈਂਟ ਫੈਕਟਰੀ**: ਸਥਿਰ ਸੰਰਚਨਾ ਨਾਲ ਕੇਂਦਰੀ ਏਜੈਂਟ ਬਣਾਉਣ\n",
    "- **ਬਿਲਡਰ ਪੈਟਰਨ**: ਜਟਿਲ ਏਜੈਂਟ ਸੰਰਚਨਾ ਲਈ ਫਲੂਐਂਟ API\n",
    "- **ਸਿੰਗਲਟਨ ਪੈਟਰਨ**: ਸਾਂਝੇ ਸਰੋਤ ਅਤੇ ਸੰਰਚਨਾ ਪ੍ਰਬੰਧਨ\n",
    "- **ਡਿਪੈਂਡੈਂਸੀ ਇੰਜੈਕਸ਼ਨ**: ਢਿੱਲੀ ਕਪਲਿੰਗ ਅਤੇ ਟੈਸਟ ਕਰਨ ਯੋਗਤਾ\n",
    "\n",
    "### 2. **ਬਿਹੇਵਿਅਰਲ ਪੈਟਰਨ**\n",
    "- **ਸਟ੍ਰੈਟਜੀ ਪੈਟਰਨ**: ਬਦਲਣਯੋਗ ਟੂਲ ਐਗਜ਼ਿਕਿਊਸ਼ਨ ਰਣਨੀਤੀਆਂ\n",
    "- **ਕਮਾਂਡ ਪੈਟਰਨ**: ਅੰਡੂ/ਰੀਡੂ ਦੇ ਨਾਲ ਏਜੈਂਟ ਕਾਰਵਾਈਆਂ ਨੂੰ ਐਨਕੈਪਸੂਲੇਟ ਕਰਨਾ\n",
    "- **ਆਬਜ਼ਰਵਰ ਪੈਟਰਨ**: ਇਵੈਂਟ-ਚਲਿਤ ਏਜੈਂਟ ਲਾਈਫਸਾਈਕਲ ਪ੍ਰਬੰਧਨ\n",
    "- **ਟੈਂਪਲੇਟ ਮੈਥਡ**: ਮਿਆਰੀ ਏਜੈਂਟ ਐਗਜ਼ਿਕਿਊਸ਼ਨ ਵਰਕਫਲੋਜ਼\n",
    "\n",
    "### 3. **ਸਟਰਕਚਰਲ ਪੈਟਰਨ**\n",
    "- **ਅਡਾਪਟਰ ਪੈਟਰਨ**: GitHub ਮਾਡਲ API ਇੰਟੀਗ੍ਰੇਸ਼ਨ ਲੇਅਰ\n",
    "- **ਡਿਕੋਰੇਟਰ ਪੈਟਰਨ**: ਏਜੈਂਟ ਸਮਰੱਥਾ ਵਧਾਉਣਾ\n",
    "- **ਫਸਾਡ ਪੈਟਰਨ**: ਸਰਲ ਏਜੈਂਟ ਇੰਟਰੈਕਸ਼ਨ ਇੰਟਰਫੇਸ\n",
    "- **ਪ੍ਰਾਕਸੀ ਪੈਟਰਨ**: ਪ੍ਰਦਰਸ਼ਨ ਲਈ ਲੇਜ਼ੀ ਲੋਡਿੰਗ ਅਤੇ ਕੈਸ਼ਿੰਗ\n",
    "\n",
    "## ⚙️ ਪੂਰਵ ਸ਼ਰਤਾਂ ਅਤੇ ਸੈਟਅੱਪ\n",
    "\n",
    "**ਡਿਵੈਲਪਮੈਂਟ ਵਾਤਾਵਰਣ:**\n",
    "- .NET 9.0 SDK ਜਾਂ ਇਸ ਤੋਂ ਉੱਚਾ\n",
    "- Visual Studio 2022 ਜਾਂ VS Code C# ਐਕਸਟੈਂਸ਼ਨ ਨਾਲ\n",
    "- GitHub ਮਾਡਲ API ਤੱਕ ਪਹੁੰਚ\n",
    "\n",
    "**NuGet ਡਿਪੈਂਡੈਂਸੀਜ਼:**\n",
    "```xml\n",
    "<PackageReference Include=\"Microsoft.Extensions.AI\" Version=\"9.9.0\" />\n",
    "<PackageReference Include=\"Microsoft.Extensions.AI.OpenAI\" Version=\"9.9.0-preview.1.25458.4\" />\n",
    "<PackageReference Include=\"DotNetEnv\" Version=\"3.1.1\" />\n",
    "```\n",
    "\n",
    "**ਕੰਫਿਗਰੇਸ਼ਨ (.env ਫਾਈਲ):**\n",
    "```env\n",
    "GITHUB_TOKEN=your_github_personal_access_token\n",
    "GITHUB_ENDPOINT=https://models.inference.ai.azure.com\n",
    "GITHUB_MODEL_ID=gpt-4o-mini\n",
    "```\n",
    "\n",
    "## 📚 .NET ਡਿਜ਼ਾਈਨ ਸਿਧਾਂਤ\n",
    "\n",
    "### SOLID ਸਿਧਾਂਤ\n",
    "- **ਸਿੰਗਲ ਰਿਸਪਾਂਸਬਿਲਿਟੀ**: ਹਰ ਕੰਪੋਨੈਂਟ ਦਾ ਇੱਕ ਸਪਸ਼ਟ ਉਦੇਸ਼\n",
    "- **ਓਪਨ/ਕਲੋਜ਼ਡ**: ਬਿਨਾਂ ਸੋਧ ਦੇ ਵਧਾਉਣਯੋਗ\n",
    "- **ਲਿਸਕੋਵ ਸਬਸਟੀਟਿਊਸ਼ਨ**: ਇੰਟਰਫੇਸ-ਅਧਾਰਿਤ ਟੂਲ ਲਾਗੂਆਂ\n",
    "- **ਇੰਟਰਫੇਸ ਸੈਗਰੇਗੇਸ਼ਨ**: ਕੇਂਦਰਿਤ, ਸੰਗਠਿਤ ਇੰਟਰਫੇਸ\n",
    "- **ਡਿਪੈਂਡੈਂਸੀ ਇਨਵਰਜ਼ਨ**: ਅਬਸਟਰੈਕਸ਼ਨ 'ਤੇ ਨਿਰਭਰ ਕਰੋ, ਨਾਂ ਕਿ ਕਨਕ੍ਰੀਸ਼ਨ 'ਤੇ\n",
    "\n",
    "### ਸਾਫ ਸਥਾਪਨਾ\n",
    "- **ਡੋਮੇਨ ਲੇਅਰ**: ਮੁੱਖ ਏਜੈਂਟ ਅਤੇ ਟੂਲ ਅਬਸਟਰੈਕਸ਼ਨ\n",
    "- **ਐਪਲੀਕੇਸ਼ਨ ਲੇਅਰ**: ਏਜੈਂਟ ਆਰਕੇਸਟਰੇਸ਼ਨ ਅਤੇ ਵਰਕਫਲੋਜ਼\n",
    "- **ਇੰਫਰਾਸਟਰਕਚਰ ਲੇਅਰ**: GitHub ਮਾਡਲ ਇੰਟੀਗ੍ਰੇਸ਼ਨ ਅਤੇ ਬਾਹਰੀ ਸੇਵਾਵਾਂ\n",
    "- **ਪ੍ਰਜ਼ੈਂਟੇਸ਼ਨ ਲੇਅਰ**: ਯੂਜ਼ਰ ਇੰਟਰੈਕਸ਼ਨ ਅਤੇ ਜਵਾਬ ਫਾਰਮੈਟਿੰਗ\n",
    "\n",
    "## 🔒 ਇੰਟਰਪ੍ਰਾਈਜ਼ ਵਿਚਾਰ\n",
    "\n",
    "### ਸੁਰੱਖਿਆ\n",
    "- **ਕ੍ਰਿਡੈਂਸ਼ਲ ਪ੍ਰਬੰਧਨ**: IConfiguration ਨਾਲ ਸੁਰੱਖਿਅਤ API ਕੁੰਜੀ ਸੰਭਾਲ\n",
    "- **ਇਨਪੁਟ ਵੈਰੀਫਿਕੇਸ਼ਨ**: ਮਜ਼ਬੂਤ ਟਾਈਪਿੰਗ ਅਤੇ ਡਾਟਾ ਐਨੋਟੇਸ਼ਨ ਵੈਰੀਡੇਸ਼ਨ\n",
    "- **ਆਉਟਪੁੱਟ ਸੈਨੀਟਾਈਜ਼ੇਸ਼ਨ**: ਸੁਰੱਖਿਅਤ ਜਵਾਬ ਪ੍ਰਕਿਰਿਆ ਅਤੇ ਫਿਲਟਰੀਂਗ\n",
    "- **ਆਡਿਟ ਲੌਗਿੰਗ**: ਵਿਸਤ੍ਰਿਤ ਕਾਰਵਾਈ ਟ੍ਰੈਕਿੰਗ\n",
    "\n",
    "### ਪ੍ਰਦਰਸ਼ਨ\n",
    "- **ਐਸਿੰਕ ਪੈਟਰਨ**: ਗੈਰ-ਅਵਰੋਧਕ I/O ਕਾਰਵਾਈਆਂ\n",
    "- **ਕਨੈਕਸ਼ਨ ਪੂਲਿੰਗ**: ਪ੍ਰਭਾਵਸ਼ਾਲੀ HTTP ਕਲਾਇੰਟ ਪ੍ਰਬੰਧਨ\n",
    "- **ਕੈਸ਼ਿੰਗ**: ਪ੍ਰਦਰਸ਼ਨ ਵਿੱਚ ਸੁਧਾਰ ਲਈ ਜਵਾਬ ਕੈਸ਼ਿੰਗ\n",
    "- **ਸਰੋਤ ਪ੍ਰਬੰਧਨ**: ਸਹੀ ਨਿਪਟਾਰਾ ਅਤੇ ਸਾਫ਼-ਸੁਥਰਾ ਪੈਟਰਨ\n",
    "\n",
    "### ਸਕੇਲਬਿਲਿਟੀ\n",
    "- **ਥ੍ਰੈਡ ਸੇਫਟੀ**: ਸਮਕਾਲੀ ਏਜੈਂਟ ਐਗਜ਼ਿਕਿਊਸ਼ਨ ਸਹਾਇਤਾ\n",
    "- **ਸਰੋਤ ਪੂਲਿੰਗ**: ਪ੍ਰਭਾਵਸ਼ਾਲੀ ਸਰੋਤ ਵਰਤੋਂ\n",
    "- **ਲੋਡ ਪ੍ਰਬੰਧਨ**: ਦਰ ਸੀਮਿਤੀ ਅਤੇ ਬੈਕਪ੍ਰੈਸ਼ਰ ਸੰਭਾਲ\n",
    "- **ਮਾਨੀਟਰਿੰਗ**: ਪ੍ਰਦਰਸ਼ਨ ਮੈਟ੍ਰਿਕਸ ਅਤੇ ਹੈਲਥ ਚੈਕਸ\n",
    "\n",
    "## 🚀 ਪ੍ਰੋਡਕਸ਼ਨ ਡਿਪਲੌਇਮੈਂਟ\n",
    "\n",
    "- **ਕੰਫਿਗਰੇਸ਼ਨ ਪ੍ਰਬੰਧਨ**: ਵਾਤਾਵਰਣ-ਵਿਸ਼ੇਸ਼ ਸੈਟਿੰਗਾਂ\n",
    "- **ਲੌਗਿੰਗ ਰਣਨੀਤੀ**: ਕੌਰਲੇਸ਼ਨ ID ਨਾਲ ਸਟ੍ਰਕਚਰਡ ਲੌਗਿੰਗ\n",
    "- **ਗਲਤੀ ਸੰਭਾਲ**: ਸਹੀ ਰਿਕਵਰੀ ਨਾਲ ਗਲੋਬਲ ਐਕਸੈਪਸ਼ਨ ਹੈਂਡਲਿੰਗ\n",
    "- **ਮਾਨੀਟਰਿੰਗ**: ਐਪਲੀਕੇਸ਼ਨ ਇਨਸਾਈਟਸ ਅਤੇ ਪ੍ਰਦਰਸ਼ਨ ਕਾਊਂਟਰ\n",
    "- **ਟੈਸਟਿੰਗ**: ਯੂਨਿਟ ਟੈਸਟ, ਇੰਟੀਗ੍ਰੇਸ਼ਨ ਟੈਸਟ, ਅਤੇ ਲੋਡ ਟੈਸਟ ਪੈਟਰਨ\n",
    "\n",
    "ਤਿਆਰ ਹੋ .NET ਨਾਲ ਇੰਟਰਪ੍ਰਾਈਜ਼-ਗ੍ਰੇਡ ਬੁੱਧੀਮਾਨ ਏਜੈਂਟ ਬਣਾਉਣ ਲਈ? ਆਓ ਕੁਝ ਮਜ਼ਬੂਤ ਆਰਕੀਟੈਕਚਰ ਬਣਾਈਏ! 🏢✨\n"
   ]
  },
  {
   "cell_type": "code",
   "execution_count": 1,
   "id": "2770ac5c",
   "metadata": {
    "language_info": {
     "name": "polyglot-notebook"
    },
    "polyglot_notebook": {
     "kernelName": "csharp"
    }
   },
   "outputs": [
    {
     "data": {
      "text/html": [
       "<div><div></div><div></div><div><strong>Installed Packages</strong><ul><li><span>Microsoft.Extensions.AI, 9.9.1</span></li></ul></div></div>"
      ]
     },
     "metadata": {},
     "output_type": "display_data"
    }
   ],
   "source": [
    "#r \"nuget: Microsoft.Extensions.AI, 9.9.1\""
   ]
  },
  {
   "cell_type": "code",
   "execution_count": null,
   "id": "984ff6cd",
   "metadata": {
    "language_info": {
     "name": "polyglot-notebook"
    },
    "polyglot_notebook": {
     "kernelName": "csharp"
    }
   },
   "outputs": [
    {
     "data": {
      "text/html": [
       "<div><div></div><div></div><div><strong>Installed Packages</strong><ul><li><span>Microsoft.Agents.AI.OpenAI, 1.0.0-preview.251001.2</span></li></ul></div></div>"
      ]
     },
     "metadata": {},
     "output_type": "display_data"
    }
   ],
   "source": [
    "#r \"nuget: Microsoft.Agents.AI.OpenAI, 1.0.0-preview.251001.3\""
   ]
  },
  {
   "cell_type": "code",
   "execution_count": null,
   "id": "0ab71360",
   "metadata": {
    "language_info": {
     "name": "polyglot-notebook"
    },
    "polyglot_notebook": {
     "kernelName": "csharp"
    }
   },
   "outputs": [
    {
     "data": {
      "text/html": [
       "<div><div></div><div></div><div><strong>Installed Packages</strong><ul><li><span>microsoft.agents.ai, 1.0.0-preview.251001.2</span></li></ul></div></div>"
      ]
     },
     "metadata": {},
     "output_type": "display_data"
    }
   ],
   "source": [
    "\n",
    "\n",
    "#r \"nuget: Microsoft.Agents.AI, 1.0.0-preview.251001.3\""
   ]
  },
  {
   "cell_type": "code",
   "execution_count": 4,
   "id": "4ab7b15d",
   "metadata": {
    "language_info": {
     "name": "polyglot-notebook"
    },
    "polyglot_notebook": {
     "kernelName": "csharp"
    }
   },
   "outputs": [],
   "source": [
    "// #r \"nuget: Microsoft.Extensions.AI.OpenAI, 9.9.0-preview.1.25458.4\""
   ]
  },
  {
   "cell_type": "code",
   "execution_count": 5,
   "id": "3fa8aa21",
   "metadata": {
    "language_info": {
     "name": "polyglot-notebook"
    },
    "polyglot_notebook": {
     "kernelName": "csharp"
    }
   },
   "outputs": [
    {
     "data": {
      "text/html": [
       "<div><div></div><div></div><div><strong>Installed Packages</strong><ul><li><span>DotNetEnv, 3.1.1</span></li></ul></div></div>"
      ]
     },
     "metadata": {},
     "output_type": "display_data"
    }
   ],
   "source": [
    "#r \"nuget: DotNetEnv, 3.1.1\""
   ]
  },
  {
   "cell_type": "code",
   "execution_count": 6,
   "id": "fc8ee8ea",
   "metadata": {
    "language_info": {
     "name": "polyglot-notebook"
    },
    "polyglot_notebook": {
     "kernelName": "csharp"
    }
   },
   "outputs": [],
   "source": [
    "using System;\n",
    "using System.ComponentModel;\n",
    "using System.ClientModel;\n",
    "\n",
    "using Microsoft.Extensions.AI;\n",
    "using Microsoft.Agents.AI;\n",
    "using OpenAI;"
   ]
  },
  {
   "cell_type": "code",
   "execution_count": 7,
   "id": "699b1c83",
   "metadata": {
    "language_info": {
     "name": "polyglot-notebook"
    },
    "polyglot_notebook": {
     "kernelName": "csharp"
    }
   },
   "outputs": [],
   "source": [
    " using DotNetEnv;"
   ]
  },
  {
   "cell_type": "code",
   "execution_count": 8,
   "id": "daa649a0",
   "metadata": {
    "language_info": {
     "name": "polyglot-notebook"
    },
    "polyglot_notebook": {
     "kernelName": "csharp"
    }
   },
   "outputs": [],
   "source": [
    "Env.Load(\"../../../.env\");"
   ]
  },
  {
   "cell_type": "code",
   "execution_count": 9,
   "id": "29661a90",
   "metadata": {
    "language_info": {
     "name": "polyglot-notebook"
    },
    "polyglot_notebook": {
     "kernelName": "csharp"
    }
   },
   "outputs": [],
   "source": [
    "[Description(\"Provides a random vacation destination.\")]\n",
    "static string GetRandomDestination()\n",
    "{\n",
    "    var destinations = new List<string>\n",
    "    {\n",
    "        \"Paris, France\",\n",
    "        \"Tokyo, Japan\",\n",
    "        \"New York City, USA\",\n",
    "        \"Sydney, Australia\",\n",
    "        \"Rome, Italy\",\n",
    "        \"Barcelona, Spain\",\n",
    "        \"Cape Town, South Africa\",\n",
    "        \"Rio de Janeiro, Brazil\",\n",
    "        \"Bangkok, Thailand\",\n",
    "        \"Vancouver, Canada\"\n",
    "    };\n",
    "\n",
    "    var random = new Random();\n",
    "    int index = random.Next(destinations.Count);\n",
    "    return destinations[index];\n",
    "}"
   ]
  },
  {
   "cell_type": "code",
   "execution_count": 10,
   "id": "d2ed1f8b",
   "metadata": {
    "language_info": {
     "name": "polyglot-notebook"
    },
    "polyglot_notebook": {
     "kernelName": "csharp"
    }
   },
   "outputs": [],
   "source": [
    "var github_endpoint = Environment.GetEnvironmentVariable(\"GITHUB_ENDPOINT\") ?? throw new InvalidOperationException(\"GITHUB_ENDPOINT is not set.\");\n",
    "var github_model_id = Environment.GetEnvironmentVariable(\"GITHUB_MODEL_ID\") ?? \"gpt-4o-mini\";\n",
    "var github_token = Environment.GetEnvironmentVariable(\"GITHUB_TOKEN\") ?? throw new InvalidOperationException(\"GITHUB_TOKEN is not set.\");"
   ]
  },
  {
   "cell_type": "code",
   "execution_count": 11,
   "id": "c36c73e1",
   "metadata": {
    "language_info": {
     "name": "polyglot-notebook"
    },
    "polyglot_notebook": {
     "kernelName": "csharp"
    }
   },
   "outputs": [],
   "source": [
    "var openAIOptions = new OpenAIClientOptions()\n",
    "{\n",
    "    Endpoint= new Uri(github_endpoint)\n",
    "};"
   ]
  },
  {
   "cell_type": "code",
   "execution_count": 12,
   "id": "6d94ff10",
   "metadata": {
    "language_info": {
     "name": "polyglot-notebook"
    },
    "polyglot_notebook": {
     "kernelName": "csharp"
    }
   },
   "outputs": [],
   "source": [
    "\n",
    "var openAIClient = new OpenAIClient(new ApiKeyCredential(github_token), openAIOptions);"
   ]
  },
  {
   "cell_type": "code",
   "execution_count": 13,
   "id": "fe32b57a",
   "metadata": {
    "language_info": {
     "name": "polyglot-notebook"
    },
    "polyglot_notebook": {
     "kernelName": "csharp"
    }
   },
   "outputs": [],
   "source": [
    "AIAgent agent = new OpenAIClient(new ApiKeyCredential(github_token), openAIOptions).GetChatClient(github_model_id).CreateAIAgent(\n",
    "    instructions:\"You are a helpful AI Agent that can help plan vacations for customers at random destinations\", tools: [AIFunctionFactory.Create((Func<string>)GetRandomDestination)]);"
   ]
  },
  {
   "cell_type": "code",
   "execution_count": 14,
   "metadata": {
    "language_info": {
     "name": "polyglot-notebook"
    },
    "polyglot_notebook": {
     "kernelName": "csharp"
    }
   },
   "outputs": [],
   "source": [
    "AgentThread thread = agent.GetNewThread();"
   ]
  },
  {
   "cell_type": "code",
   "execution_count": 15,
   "id": "5e455aff",
   "metadata": {
    "language_info": {
     "name": "polyglot-notebook"
    },
    "polyglot_notebook": {
     "kernelName": "csharp"
    }
   },
   "outputs": [
    {
     "name": "stdout",
     "output_type": "stream",
     "text": [
      "How about a day trip to Vancouver, Canada? Here's a suggested itinerary for your day:\n",
      "\n",
      "### Morning\n",
      "- **Breakfast at a Local Cafe**: Start your day with a delicious breakfast at a cozy café like **Jam Cafe** or **Cafe Medina**.\n",
      "- **Stanley Park**: After breakfast, head to Stanley Park. You can rent a bike and ride along the seawall, enjoying beautiful views of the city and the water.\n",
      "\n",
      "### Afternoon\n",
      "- **Lunch in Gastown**: Make your way to Gastown for lunch. Try a local favorite like **The Flying Pig** or **Noodle Box**.\n",
      "- **Explore Gastown**: After lunch, walk around Gastown to see the iconic Steam Clock and browse the unique shops and boutiques.\n",
      "\n",
      "### Late Afternoon\n",
      "- **Granville Island**: Visit Granville Island, where you can stroll through the public market, sample local foods, and enjoy artisan shops.\n",
      "- **False Creek**: Take a walk along False Creek and enjoy the waterfront views.\n",
      "\n",
      "### Evening\n",
      "- **Dinner at a Waterfront Restaurant**: End your day with dinner at a waterfront restaurant like **The Boathouse** or **Lift Bar Grill View** for great food and a view of the sunset.\n",
      "- **Optional: Sunset Cruise**: If you're up for it, consider taking a sunset cruise for a different perspective of the city.\n",
      "\n",
      "### Tips\n",
      "- Make sure to check the weather beforehand!\n",
      "- Consider public transport or ride-sharing to navigate the city easily.\n",
      "\n",
      "Enjoy your day trip to Vancouver!\r\n"
     ]
    }
   ],
   "source": [
    "Console.WriteLine(await agent.RunAsync(\"Plan me a day trip\",thread));"
   ]
  },
  {
   "cell_type": "code",
   "execution_count": 16,
   "id": "592ae1bb",
   "metadata": {
    "language_info": {
     "name": "polyglot-notebook"
    },
    "polyglot_notebook": {
     "kernelName": "csharp"
    }
   },
   "outputs": [
    {
     "name": "stdout",
     "output_type": "stream",
     "text": [
      "How about a vacation to New York City, USA? Here's a suggested itinerary for your trip:\n",
      "\n",
      "### Day 1: Arrival in New York City\n",
      "- **Check-In**: Arrive and check in to your hotel.\n",
      "- **Central Park**: Take a leisurely stroll through Central Park. Consider renting a bike or taking a carriage ride.\n",
      "- **Evening**: Enjoy dinner at a classic NYC restaurant, such as **Katz's Delicatessen** or **Carbone**.\n",
      "\n",
      "### Day 2: Iconic Landmarks\n",
      "- **Morning**: Breakfast at a local diner.\n",
      "- **Statue of Liberty & Ellis Island**: Take a ferry to visit these iconic landmarks.\n",
      "- **Afternoon**: Explore Wall Street and visit the 9/11 Memorial & Museum.\n",
      "- **Evening**: Dinner in the Financial District followed by a walk across the Brooklyn Bridge at sunset.\n",
      "\n",
      "### Day 3: Culture and Arts\n",
      "- **Morning**: Visit The Metropolitan Museum of Art (The Met) and spend a few hours exploring its vast collection.\n",
      "- **Afternoon**: Head to Times Square for lunch and the buzz of the city.\n",
      "- **Broadway Show**: Catch a Broadway show in the evening. Be sure to book tickets in advance!\n",
      "\n",
      "### Day 4: Explore Neighborhoods\n",
      "- **Morning**: Head to SoHo for brunch and shopping in its chic boutiques.\n",
      "- **Afternoon**: Explore Greenwich Village, known for its bohemian atmosphere and history.\n",
      "- **Evening**: Enjoy dinner in the West Village, perhaps at **Buvette** or **Minetta Tavern**.\n",
      "\n",
      "### Day 5: Departure\n",
      "- **Last-minute Shopping**: Spend your last morning shopping at Fifth Avenue or head to Chelsea Market for food and souvenirs.\n",
      "- **Check-Out**: Depart for your journey home.\n",
      "\n",
      "### Tips\n",
      "- Utilize the subway for efficient travel around the city.\n",
      "- Make reservations for popular restaurants and attractions ahead of time!\n",
      "\n",
      "Enjoy your trip to New York City!\r\n"
     ]
    }
   ],
   "source": [
    "Console.WriteLine(await agent.RunAsync(\"I don't like that destination. Plan me another vacation.\",thread));"
   ]
  },
  {
   "cell_type": "markdown",
   "metadata": {},
   "source": [
    "\n---\n\n**ਅਸਵੀਕਰਤੀ**:  \nਇਹ ਦਸਤਾਵੇਜ਼ AI ਅਨੁਵਾਦ ਸੇਵਾ [Co-op Translator](https://github.com/Azure/co-op-translator) ਦੀ ਵਰਤੋਂ ਕਰਕੇ ਅਨੁਵਾਦ ਕੀਤਾ ਗਿਆ ਹੈ। ਜਦੋਂ ਕਿ ਅਸੀਂ ਸਹੀ ਹੋਣ ਦਾ ਯਤਨ ਕਰਦੇ ਹਾਂ, ਕਿਰਪਾ ਕਰਕੇ ਧਿਆਨ ਦਿਓ ਕਿ ਸਵੈਚਾਲਿਤ ਅਨੁਵਾਦਾਂ ਵਿੱਚ ਗਲਤੀਆਂ ਜਾਂ ਅਸੁਚੱਜੇਪਣ ਹੋ ਸਕਦੇ ਹਨ। ਇਸ ਦੀ ਮੂਲ ਭਾਸ਼ਾ ਵਿੱਚ ਮੌਜੂਦ ਅਸਲ ਦਸਤਾਵੇਜ਼ ਨੂੰ ਅਧਿਕਾਰਤ ਸਰੋਤ ਮੰਨਿਆ ਜਾਣਾ ਚਾਹੀਦਾ ਹੈ। ਮਹੱਤਵਪੂਰਨ ਜਾਣਕਾਰੀ ਲਈ, ਪੇਸ਼ੇਵਰ ਮਨੁੱਖੀ ਅਨੁਵਾਦ ਦੀ ਸਿਫਾਰਸ਼ ਕੀਤੀ ਜਾਂਦੀ ਹੈ। ਇਸ ਅਨੁਵਾਦ ਦੀ ਵਰਤੋਂ ਤੋਂ ਪੈਦਾ ਹੋਣ ਵਾਲੇ ਕਿਸੇ ਵੀ ਗਲਤਫਹਿਮੀ ਜਾਂ ਗਲਤ ਵਿਆਖਿਆ ਲਈ ਅਸੀਂ ਜ਼ਿੰਮੇਵਾਰ ਨਹੀਂ ਹਾਂ।\n"
   ]
  }
 ],
 "metadata": {
  "kernelspec": {
   "display_name": ".NET (C#)",
   "language": "C#",
   "name": ".net-csharp"
  },
  "language_info": {
   "name": "polyglot-notebook"
  },
  "polyglot_notebook": {
   "kernelInfo": {
    "defaultKernelName": "csharp",
    "items": [
     {
      "aliases": [],
      "name": "csharp"
     }
    ]
   }
  },
  "coopTranslator": {
   "original_hash": "070c1d8985b3dc6e6d977f3e891037f1",
   "translation_date": "2025-10-02T11:52:23+00:00",
   "source_file": "03-agentic-design-patterns/code_samples/03-dotnet-agent-framework.ipynb",
   "language_code": "pa"
  }
 },
 "nbformat": 4,
 "nbformat_minor": 5
}