{
 "cells": [
  {
   "cell_type": "markdown",
   "id": "8744544f",
   "metadata": {},
   "source": [
    "# 🛠️ ਗਿਟਹੱਬ ਮਾਡਲਾਂ ਨਾਲ ਤਕਨੀਕੀ ਸੰਦਾਂ ਦੀ ਉੱਚ ਪੱਧਰੀ ਵਰਤੋਂ (ਪਾਇਥਨ)\n",
    "\n",
    "## 📋 ਸਿੱਖਣ ਦੇ ਉਦੇਸ਼\n",
    "\n",
    "ਇਸ ਨੋਟਬੁੱਕ ਵਿੱਚ ਮਾਈਕਰੋਸਾਫਟ ਏਜੰਟ ਫਰੇਮਵਰਕ ਨਾਲ ਗਿਟਹੱਬ ਮਾਡਲਾਂ ਦੀ ਵਰਤੋਂ ਕਰਕੇ ਤਕਨੀਕੀ ਸੰਦਾਂ ਦੇ ਉੱਚ ਪੱਧਰੀ ਇੰਟੀਗ੍ਰੇਸ਼ਨ ਪੈਟਰਨ ਦਿਖਾਏ ਗਏ ਹਨ। ਤੁਸੀਂ ਸਿੱਖੋਗੇ ਕਿ ਕਿਵੇਂ ਕਈ ਸੰਦ ਬਣਾਉਣੇ, ਪ੍ਰਬੰਧਿਤ ਕਰਨੇ ਅਤੇ ਉਨ੍ਹਾਂ ਨੂੰ ਸਹੀ ਢੰਗ ਨਾਲ ਚਲਾਉਣਾ ਹੈ ਤਾਂ ਜੋ ਏਜੰਟ ਦੀਆਂ ਸੁਧਾਰਿਤ ਯੋਗਤਾਵਾਂ ਵਿਕਸਿਤ ਕੀਤੀਆਂ ਜਾ ਸਕਣ।\n",
    "\n",
    "**ਤੁਸੀਂ ਜੋ ਕੁਝ ਸਿੱਖੋਗੇ:**\n",
    "- 🔧 **ਮਲਟੀ-ਟੂਲ ਆਰਕੀਟੈਕਚਰ**: ਕਈ ਵਿਸ਼ੇਸ਼ ਸੰਦਾਂ ਨਾਲ ਏਜੰਟ ਬਣਾਉਣਾ\n",
    "- 🎯 **ਸੰਦ ਚੋਣ ਲਾਜਿਕ**: ਕਿਵੇਂ ਏਜੰਟ ਹਰ ਕੰਮ ਲਈ ਸਹੀ ਸੰਦ ਚੁਣਦੇ ਹਨ\n",
    "- 📊 **ਡਾਟਾ ਪ੍ਰੋਸੈਸਿੰਗ ਸੰਦ**: ਵੱਖ-ਵੱਖ ਡਾਟਾ ਕਿਸਮਾਂ ਨੂੰ ਸੰਭਾਲਣ ਵਾਲੇ ਸੰਦ ਬਣਾਉਣਾ\n",
    "- 🔗 **ਸੰਦਾਂ ਦਾ ਸੰਯੋਜਨ**: ਜਟਿਲ ਵਰਕਫਲੋਜ਼ ਲਈ ਸੰਦਾਂ ਨੂੰ ਜੋੜਨਾ\n",
    "\n",
    "## 🎯 ਮੁੱਖ ਸੰਦ ਪੈਟਰਨ\n",
    "\n",
    "### ਸੰਦ ਡਿਜ਼ਾਈਨ ਦੇ ਸਿਧਾਂਤ\n",
    "- **ਇਕਲ ਜ਼ਿੰਮੇਵਾਰੀ**: ਹਰ ਸੰਦ ਦਾ ਸਪਸ਼ਟ ਅਤੇ ਕੇਂਦਰਤ ਉਦੇਸ਼ ਹੋਵੇ\n",
    "- **ਟਾਈਪ ਸੇਫਟੀ**: ਭਰੋਸੇਯੋਗ ਸੰਦ ਚਲਾਉਣ ਲਈ ਮਜ਼ਬੂਤ ਟਾਈਪਿੰਗ\n",
    "- **ਗਲਤੀ ਸੰਭਾਲਣਾ**: ਗਲਤੀਆਂ ਤੋਂ ਸੁਚੱਜੇ ਢੰਗ ਨਾਲ ਨਿਪਟਣਾ ਅਤੇ ਮੁੜ ਸਹੀ ਕਰਨਾ\n",
    "- **ਸੰਯੋਜਨਯੋਗਤਾ**: ਸੰਦ ਜੋ ਇਕੱਠੇ ਚੰਗੇ ਢੰਗ ਨਾਲ ਕੰਮ ਕਰਦੇ ਹਨ\n",
    "\n",
    "### ਤਕਨੀਕੀ ਸੰਦ ਵਿਸ਼ੇਸ਼ਤਾਵਾਂ\n",
    "- **ਸੰਦਰਭ ਜਾਗਰੂਕਤਾ**: ਸੰਦ ਜੋ ਗੱਲਬਾਤ ਦੇ ਸੰਦਰਭ ਨੂੰ ਸਮਝਦੇ ਹਨ\n",
    "- **ਡਾਟਾ ਵੈਧਤਾ**: ਇਨਪੁਟ ਦੀ ਸਫਾਈ ਅਤੇ ਆਉਟਪੁੱਟ ਦੀ ਜਾਂਚ\n",
    "- **ਕਾਰਗੁਜ਼ਾਰੀ ਦਾ ਸੁਧਾਰ**: ਕੁਸ਼ਲ ਸੰਦ ਚਲਾਉਣ ਦੇ ਪੈਟਰਨ\n",
    "- **ਵਿਸਤਾਰਯੋਗਤਾ**: ਨਵੇਂ ਸੰਦ ਦੀਆਂ ਯੋਗਤਾਵਾਂ ਨੂੰ ਆਸਾਨੀ ਨਾਲ ਸ਼ਾਮਲ ਕਰਨਾ\n",
    "\n",
    "## 🔧 ਤਕਨੀਕੀ ਆਰਕੀਟੈਕਚਰ\n",
    "\n",
    "### ਮੁੱਖ ਹਿੱਸੇ\n",
    "- **ਮਾਈਕਰੋਸਾਫਟ ਏਜੰਟ ਫਰੇਮਵਰਕ**: ਤਕਨੀਕੀ ਸੰਦਾਂ ਦੇ ਉੱਚ ਪੱਧਰੀ ਸਮਰਥਨ ਨਾਲ ਪਾਇਥਨ ਇੰਪਲੀਮੈਂਟੇਸ਼ਨ\n",
    "- **ਗਿਟਹੱਬ ਮਾਡਲਾਂ ਦਾ ਇੰਟੀਗ੍ਰੇਸ਼ਨ**: ਉੱਚ-ਕਾਰਗੁਜ਼ਾਰੀ ਭਾਸ਼ਾ ਮਾਡਲ ਤੱਕ ਪਹੁੰਚ\n",
    "- **ਸੰਦ ਰਜਿਸਟਰੀ ਪ੍ਰਣਾਲੀ**: ਏਜੰਟ ਦੀਆਂ ਯੋਗਤਾਵਾਂ ਦਾ ਸੰਗਠਿਤ ਪ੍ਰਬੰਧਨ\n",
    "- **ਗਲਤੀ ਮੁੜ ਪ੍ਰਾਪਤੀ ਪੈਟਰਨ**: ਸੰਦ ਚਲਾਉਣ ਦੀਆਂ ਗਲਤੀਆਂ ਨੂੰ ਮਜ਼ਬੂਤੀ ਨਾਲ ਸੰਭਾਲਣਾ\n",
    "\n",
    "### ਸੰਦ ਇੰਟੀਗ੍ਰੇਸ਼ਨ ਦਾ ਪ੍ਰਵਾਹ\n",
    "```python\n",
    "User Request → Agent Analysis → Tool Selection → Tool Execution → Response Synthesis\n",
    "```\n",
    "\n",
    "## 🛠️ ਦਿਖਾਏ ਗਏ ਸੰਦ ਸ਼੍ਰੇਣੀਆਂ\n",
    "\n",
    "### 1. **ਡਾਟਾ ਜਨਰੇਸ਼ਨ ਸੰਦ**\n",
    "- ਰੈਂਡਮ ਮੰਜ਼ਿਲ ਜਨਰੇਟਰ\n",
    "- ਮੌਸਮ ਜਾਣਕਾਰੀ ਪ੍ਰਦਾਤਾ  \n",
    "- ਯਾਤਰਾ ਖਰਚਾ ਕੈਲਕੁਲੇਟਰ\n",
    "- ਗਤੀਵਿਧੀ ਸਿਫਾਰਸ਼ੀ ਇੰਜਣ\n",
    "\n",
    "### 2. **ਪ੍ਰੋਸੈਸਿੰਗ ਸੰਦ**\n",
    "- ਪਾਠ ਫਾਰਮੈਟਿੰਗ ਅਤੇ ਵੈਧਤਾ\n",
    "- ਡਾਟਾ ਰੂਪਾਂਤਰਨ ਯੂਟਿਲਿਟੀਜ਼\n",
    "- ਸਮੱਗਰੀ ਵਿਸ਼ਲੇਸ਼ਣ ਫੰਕਸ਼ਨ\n",
    "- ਜਵਾਬ ਸੁਧਾਰ ਸੰਦ\n",
    "\n",
    "### 3. **ਇੰਟੀਗ੍ਰੇਸ਼ਨ ਸੰਦ**\n",
    "- ਬਾਹਰੀ API ਕਨੈਕਟਰ\n",
    "- ਫਾਈਲ ਸਿਸਟਮ ਕਾਰਵਾਈਆਂ\n",
    "- ਡਾਟਾਬੇਸ ਕਵੈਰੀ ਇੰਟਰਫੇਸ\n",
    "- ਵੈੱਬ ਸਕ੍ਰੈਪਿੰਗ ਯੂਟਿਲਿਟੀਜ਼\n",
    "\n",
    "## ⚙️ ਪੂਰਵ ਸ਼ਰਤਾਂ ਅਤੇ ਸੈਟਅੱਪ\n",
    "\n",
    "**ਲੋੜੀਂਦੇ ਡਿਪੈਂਡੈਂਸੀਜ਼:**\n",
    "```bash\n",
    "\n",
    "pip install agent-framework-core -U\n",
    "```\n",
    "\n",
    "**ਵਾਤਾਵਰਣ ਸੰਰਚਨਾ (.env ਫਾਈਲ):**\n",
    "```env\n",
    "GITHUB_TOKEN=your_github_personal_access_token\n",
    "GITHUB_ENDPOINT=https://models.inference.ai.azure.com\n",
    "GITHUB_MODEL_ID=gpt-4o-mini\n",
    "```\n",
    "\n",
    "**ਵਿਕਲਪਿਕ API:**\n",
    "- ਮੌਸਮ ਸੇਵਾ API ਕੁੰਜੀ (ਮੌਸਮ ਸੰਦਾਂ ਲਈ)\n",
    "- ਮੁਦਰਾ ਰੂਪਾਂਤਰਨ API ਪਹੁੰਚ\n",
    "- ਯਾਤਰਾ ਜਾਣਕਾਰੀ ਸੇਵਾ ਪ੍ਰਮਾਣ ਪੱਤਰ\n",
    "\n",
    "## 🎨 ਡਿਜ਼ਾਈਨ ਪੈਟਰਨ\n",
    "\n",
    "### ਸੰਦ ਫੈਕਟਰੀ ਪੈਟਰਨ\n",
    "- ਕੇਂਦਰਿਤ ਸੰਦ ਬਣਾਉਣ ਅਤੇ ਸੰਰਚਨਾ\n",
    "- ਸਥਿਰ ਸੰਦ ਇੰਟਰਫੇਸ ਡਿਜ਼ਾਈਨ\n",
    "- ਸੰਦ ਰਜਿਸਟ੍ਰੇਸ਼ਨ ਅਤੇ ਖੋਜ ਨੂੰ ਆਸਾਨ ਬਣਾਉਣਾ\n",
    "\n",
    "### ਕਮਾਂਡ ਪੈਟਰਨ\n",
    "- ਸੰਦ ਚਲਾਉਣ ਦੀ ਲਾਜਿਕ ਨੂੰ ਐਨਕੈਪਸੂਲੇਟ ਕਰਨਾ\n",
    "- ਜਟਿਲ ਕਾਰਵਾਈਆਂ ਲਈ ਅਣਡੂ/ਰੀਡੂ ਫੰਕਸ਼ਨਲਿਟੀ\n",
    "- ਸੰਦ ਵਰਤੋਂ ਲਈ ਆਡਿਟ ਲੌਗਿੰਗ\n",
    "\n",
    "### ਅਬਜ਼ਰਵਰ ਪੈਟਰਨ\n",
    "- ਸੰਦ ਚਲਾਉਣ ਦੀ ਨਿਗਰਾਨੀ\n",
    "- ਕਾਰਗੁਜ਼ਾਰੀ ਮੈਟ੍ਰਿਕਸ ਇਕੱਠੇ ਕਰਨਾ\n",
    "- ਗਲਤੀ ਦੀ ਰਿਪੋਰਟਿੰਗ ਅਤੇ ਚੇਤਾਵਨੀ\n",
    "\n",
    "## 🚀 ਸਭ ਤੋਂ ਵਧੀਆ ਅਭਿਆਸ\n",
    "\n",
    "- **ਸੰਦ ਦਸਤਾਵੇਜ਼ੀਕਰਨ**: ਏਜੰਟ ਦੀ ਸਮਝ ਲਈ ਸਪਸ਼ਟ ਵੇਰਵੇ\n",
    "- **ਇਨਪੁਟ ਵੈਧਤਾ**: ਮਜ਼ਬੂਤ ਪੈਰਾਮੀਟਰ ਜਾਂਚ ਅਤੇ ਸਫਾਈ\n",
    "- **ਆਉਟਪੁੱਟ ਫਾਰਮੈਟਿੰਗ**: ਸਥਿਰ, ਪਾਰਸ ਕਰਨ ਯੋਗ ਸੰਦ ਜਵਾਬ\n",
    "- **ਗਲਤੀ ਸੁਨੇਹੇ**: ਡਿਬੱਗ ਕਰਨ ਲਈ ਮਦਦਗਾਰ ਗਲਤੀ ਜਾਣਕਾਰੀ\n",
    "- **ਕਾਰਗੁਜ਼ਾਰੀ**: ਜਵਾਬਦੇਹੀ ਲਈ ਸੁਧਾਰਿਤ ਸੰਦ ਚਲਾਉਣਾ\n",
    "\n",
    "ਤਿਆਰ ਹੋ ਕੇ ਤਕਨੀਕੀ ਯੋਗਤਾਵਾਂ ਵਾਲੇ ਏਜੰਟ ਬਣਾਉਣ ਲਈ? ਆਓ ਕੁਝ ਸ਼ਾਨਦਾਰ ਬਣਾਈਏ! ⚡\n"
   ]
  },
  {
   "cell_type": "code",
   "execution_count": null,
   "id": "59c0feeb",
   "metadata": {},
   "outputs": [],
   "source": [
    "! pip install agent-framework-core -U"
   ]
  },
  {
   "cell_type": "code",
   "execution_count": null,
   "id": "c0df8a52",
   "metadata": {},
   "outputs": [],
   "source": [
    "# � Import core dependencies for Agent Framework and tool integration\n",
    "# This sets up the essential libraries for building intelligent agents with tool capabilities\n",
    "\n",
    "import asyncio\n",
    "import os\n",
    "import json\n",
    "\n",
    "from dotenv import load_dotenv  # For loading environment variables securely\n",
    "from random import randint\n",
    "\n",
    "# These are the core components for building tool-enabled agents\n",
    "from agent_framework import ChatAgent           # Main agent class\n",
    "from agent_framework.openai import OpenAIChatClient  # OpenAI-compatible client"
   ]
  },
  {
   "cell_type": "code",
   "execution_count": null,
   "id": "24c10eb0",
   "metadata": {},
   "outputs": [],
   "source": [
    "load_dotenv()"
   ]
  },
  {
   "cell_type": "code",
   "execution_count": null,
   "id": "151e0314",
   "metadata": {},
   "outputs": [],
   "source": [
    "# 🔑 Environment variables verification\n",
    "# Ensure all required GitHub Models credentials are properly configured\n",
    "print(\"GITHUB_ENDPOINT:\", os.environ.get(\"GITHUB_ENDPOINT\"))\n",
    "print(\"GITHUB_TOKEN:\", \"***\" if os.environ.get(\"GITHUB_TOKEN\") else \"Not set\")\n",
    "print(\"GITHUB_MODEL_ID:\", os.environ.get(\"GITHUB_MODEL_ID\"))"
   ]
  },
  {
   "cell_type": "code",
   "execution_count": null,
   "id": "a6141584",
   "metadata": {},
   "outputs": [],
   "source": [
    "# 🧪 Test GitHub Models connectivity\n",
    "openai_chat_client = OpenAIChatClient(base_url=os.environ.get(\"GITHUB_ENDPOINT\"), api_key=os.environ.get(\"GITHUB_TOKEN\"), model_id=os.environ.get(\"GITHUB_MODEL_ID\"))"
   ]
  },
  {
   "cell_type": "code",
   "execution_count": null,
   "id": "a6507f83",
   "metadata": {},
   "outputs": [],
   "source": [
    "# 🛠️ Define travel planning tools for agent integration\n",
    "# These functions provide specific capabilities that the agent can invoke dynamically\n",
    "\n",
    "def get_random_destination() -> str:\n",
    "    \"\"\"\n",
    "    🎲 Random destination generator tool\n",
    "    Returns a randomly selected travel destination from curated list\n",
    "    Useful when customers need inspiration for their next vacation\n",
    "    \"\"\"\n",
    "    destinations = [\n",
    "        \"Paris, France\",\n",
    "        \"Tokyo, Japan\", \n",
    "        \"New York City, USA\",\n",
    "        \"London, England\",\n",
    "        \"Rome, Italy\",\n",
    "        \"Sydney, Australia\",\n",
    "        \"Dubai, UAE\",\n",
    "        \"Barcelona, Spain\",\n",
    "        \"Bangkok, Thailand\",\n",
    "        \"Amsterdam, Netherlands\",\n",
    "        \"Istanbul, Turkey\",\n",
    "        \"Prague, Czech Republic\",\n",
    "        \"Santorini, Greece\",\n",
    "        \"Reykjavik, Iceland\",\n",
    "        \"Marrakech, Morocco\",\n",
    "        \"Cape Town, South Africa\",\n",
    "        \"Rio de Janeiro, Brazil\",\n",
    "        \"Bali, Indonesia\"\n",
    "    ]\n",
    "    # 🎯 Return random selection from the curated destination list\n",
    "    return destinations[randint(0, len(destinations) - 1)]"
   ]
  },
  {
   "cell_type": "code",
   "execution_count": null,
   "id": "5d4f0568",
   "metadata": {},
   "outputs": [],
   "source": [
    "# 🔗 Initialize GitHub Models chat client for agent communication\n",
    "# Creates the primary interface between the agent and the language model\n",
    "openai_chat_client = OpenAIChatClient(base_url=os.environ.get(\"GITHUB_ENDPOINT\"), api_key=os.environ.get(\"GITHUB_TOKEN\"), model_id=os.environ.get(\"GITHUB_MODEL_ID\"))"
   ]
  },
  {
   "cell_type": "code",
   "execution_count": null,
   "id": "751668c5",
   "metadata": {},
   "outputs": [],
   "source": [
    "# 🤖 Configure travel agent identity and behavioral instructions\n",
    "# Define the agent's personality, capabilities, and operational guidelines\n",
    "\n",
    "AGENT_NAME = \"TravelAgent\"\n",
    "\n",
    "AGENT_INSTRUCTIONS = \"\"\"You are a helpful AI Agent that can help plan vacations for customers at random destinations\n",
    "\"\"\""
   ]
  },
  {
   "cell_type": "code",
   "execution_count": null,
   "id": "be18ac4f",
   "metadata": {},
   "outputs": [],
   "source": [
    "agent = ChatAgent(\n",
    "        name = AGENT_NAME,\n",
    "        chat_client=openai_chat_client,\n",
    "        instructions=AGENT_INSTRUCTIONS,\n",
    "        tools=[get_random_destination]\n",
    ")"
   ]
  },
  {
   "cell_type": "code",
   "execution_count": null,
   "id": "772e9481",
   "metadata": {},
   "outputs": [],
   "source": [
    "thread = agent.get_new_thread()"
   ]
  },
  {
   "cell_type": "code",
   "execution_count": null,
   "id": "a731b547",
   "metadata": {},
   "outputs": [],
   "source": [
    "response1 = await agent.run(\"Plan me a day trip\",thread= thread)"
   ]
  },
  {
   "cell_type": "code",
   "execution_count": null,
   "id": "7d3fe00a",
   "metadata": {},
   "outputs": [],
   "source": [
    "\n",
    "last_message = response1.messages[-1]\n",
    "text_content = last_message.contents[0].text\n",
    "print(\"Travel plan:\")\n",
    "print(text_content)"
   ]
  },
  {
   "cell_type": "markdown",
   "metadata": {},
   "source": [
    "\n---\n\n**ਅਸਵੀਕਰਤੀ**:  \nਇਹ ਦਸਤਾਵੇਜ਼ AI ਅਨੁਵਾਦ ਸੇਵਾ [Co-op Translator](https://github.com/Azure/co-op-translator) ਦੀ ਵਰਤੋਂ ਕਰਕੇ ਅਨੁਵਾਦ ਕੀਤਾ ਗਿਆ ਹੈ। ਜਦੋਂ ਕਿ ਅਸੀਂ ਸਹੀ ਹੋਣ ਦੀ ਕੋਸ਼ਿਸ਼ ਕਰਦੇ ਹਾਂ, ਕਿਰਪਾ ਕਰਕੇ ਧਿਆਨ ਦਿਓ ਕਿ ਸਵੈਚਾਲਿਤ ਅਨੁਵਾਦਾਂ ਵਿੱਚ ਗਲਤੀਆਂ ਜਾਂ ਅਸੁਚੱਜੇਪਣ ਹੋ ਸਕਦੇ ਹਨ। ਇਸ ਦੀ ਮੂਲ ਭਾਸ਼ਾ ਵਿੱਚ ਮੂਲ ਦਸਤਾਵੇਜ਼ ਨੂੰ ਅਧਿਕਾਰਤ ਸਰੋਤ ਮੰਨਿਆ ਜਾਣਾ ਚਾਹੀਦਾ ਹੈ। ਮਹੱਤਵਪੂਰਨ ਜਾਣਕਾਰੀ ਲਈ, ਪੇਸ਼ੇਵਰ ਮਨੁੱਖੀ ਅਨੁਵਾਦ ਦੀ ਸਿਫਾਰਸ਼ ਕੀਤੀ ਜਾਂਦੀ ਹੈ। ਅਸੀਂ ਇਸ ਅਨੁਵਾਦ ਦੀ ਵਰਤੋਂ ਤੋਂ ਪੈਦਾ ਹੋਣ ਵਾਲੇ ਕਿਸੇ ਵੀ ਗਲਤਫਹਿਮੀ ਜਾਂ ਗਲਤ ਵਿਆਖਿਆ ਲਈ ਜ਼ਿੰਮੇਵਾਰ ਨਹੀਂ ਹਾਂ।\n"
   ]
  }
 ],
 "metadata": {
  "kernelspec": {
   "display_name": "agentenv",
   "language": "python",
   "name": "python3"
  },
  "language_info": {
   "codemirror_mode": {
    "name": "ipython",
    "version": 3
   },
   "file_extension": ".py",
   "mimetype": "text/x-python",
   "name": "python",
   "nbconvert_exporter": "python",
   "pygments_lexer": "ipython3",
   "version": "3.12.10"
  },
  "polyglot_notebook": {
   "kernelInfo": {
    "defaultKernelName": "csharp",
    "items": [
     {
      "aliases": [],
      "name": "csharp"
     }
    ]
   }
  },
  "coopTranslator": {
   "original_hash": "42966ddac53cebaf0ac1ce33b2ee7059",
   "translation_date": "2025-10-02T11:44:01+00:00",
   "source_file": "04-tool-use/code_samples/04-python-agent-framework.ipynb",
   "language_code": "pa"
  }
 },
 "nbformat": 4,
 "nbformat_minor": 5
}