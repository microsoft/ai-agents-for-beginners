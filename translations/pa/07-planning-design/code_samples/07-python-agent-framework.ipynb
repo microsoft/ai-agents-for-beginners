{
 "cells": [
  {
   "cell_type": "markdown",
   "id": "04b696ee",
   "metadata": {},
   "source": [
    "# 🎯 ਗਿਟਹੱਬ ਮਾਡਲਾਂ ਨਾਲ ਯੋਜਨਾ ਅਤੇ ਡਿਜ਼ਾਈਨ ਪੈਟਰਨ (ਪਾਇਥਨ)\n",
    "\n",
    "## 📋 ਸਿੱਖਣ ਦੇ ਉਦੇਸ਼\n",
    "\n",
    "ਇਹ ਨੋਟਬੁੱਕ ਮਾਈਕਰੋਸਾਫਟ ਏਜੰਟ ਫਰੇਮਵਰਕ ਨਾਲ ਗਿਟਹੱਬ ਮਾਡਲਾਂ ਦੀ ਵਰਤੋਂ ਕਰਕੇ ਬੁੱਧੀਮਾਨ ਏਜੰਟ ਬਣਾਉਣ ਲਈ ਉੱਚ-ਸਤਹ ਦੀ ਯੋਜਨਾ ਅਤੇ ਡਿਜ਼ਾਈਨ ਪੈਟਰਨ ਦਿਖਾਉਂਦੀ ਹੈ। ਤੁਸੀਂ ਸਿੱਖੋਗੇ ਕਿ ਕਿਵੇਂ ਏਜੰਟ ਬਣਾਉਣੇ ਹਨ ਜੋ ਜਟਿਲ ਸਮੱਸਿਆਵਾਂ ਨੂੰ ਵੱਖ-ਵੱਖ ਹਿੱਸਿਆਂ ਵਿੱਚ ਵੰਡ ਸਕਦੇ ਹਨ, ਬਹੁ-ਕਦਮ ਹੱਲਾਂ ਦੀ ਯੋਜਨਾ ਬਣਾਉਣਗੇ, ਅਤੇ ਸੁਧਾਰਤ ਵਰਕਫਲੋਜ਼ ਦਾ ਸਮਨੁਯੋ ਕਰ ਸਕਦੇ ਹਨ।\n",
    "\n",
    "**ਤੁਹਾਨੂੰ ਆਉਣ ਵਾਲੀਆਂ ਉੱਚ-ਸਤਹ ਦੀਆਂ ਯੋਗਤਾਵਾਂ:**\n",
    "- 🧠 **ਰਣਨੀਤਕ ਯੋਜਨਾ**: ਜਟਿਲ ਕੰਮਾਂ ਨੂੰ ਸੰਭਾਲਣ ਯੋਗ ਉਪ-ਕੰਮਾਂ ਵਿੱਚ ਵੰਡਣਾ\n",
    "- 🗺️ **ਬਹੁ-ਕਦਮ ਤਰਕ**: ਲਗਾਤਾਰ ਅਤੇ ਸਮਕਾਲੀ ਕੰਮਾਂ ਦੀ ਕਾਰਗੁਜ਼ਾਰੀ ਪੈਟਰਨ\n",
    "- 🎯 **ਲਕਸ਼-ਕੇਂਦਰਿਤ ਡਿਜ਼ਾਈਨ**: ਏਜੰਟ ਜੋ ਵਿਸ਼ੇਸ਼ ਉਦੇਸ਼ਾਂ ਵੱਲ ਕੰਮ ਕਰਦੇ ਹਨ\n",
    "- 🔄 **ਅਨੁਕੂਲ ਯੋਜਨਾ**: ਸੰਦਰਭ ਦੇ ਅਧਾਰ 'ਤੇ ਗਤੀਸ਼ੀਲ ਰਣਨੀਤੀ ਸਹੀ ਕਰਨਾ\n",
    "\n",
    "## 🎯 ਯੋਜਨਾ ਆਰਕੀਟੈਕਚਰ ਸੰਕਲਪ\n",
    "\n",
    "### ਮੁੱਖ ਯੋਜਨਾ ਦੇ ਘਟਕ\n",
    "- **ਕੰਮ ਵੰਡਣ**: ਜਟਿਲ ਸਮੱਸਿਆਵਾਂ ਨੂੰ ਛੋਟੇ, ਸੰਭਾਲਣ ਯੋਗ ਹਿੱਸਿਆਂ ਵਿੱਚ ਵੰਡਣਾ\n",
    "- **ਕਾਰਗੁਜ਼ਾਰੀ ਯੋਜਨਾ**: ਉਪ-ਕੰਮਾਂ ਲਈ ਵਧੀਆ ਕ੍ਰਮ ਅਤੇ ਨਿਰਭਰਤਾਵਾਂ ਨਿਰਧਾਰਤ ਕਰਨਾ\n",
    "- **ਸੰਸਾਧਨ ਪ੍ਰਬੰਧਨ**: ਸੰਦਾਂ ਅਤੇ ਯੋਗਤਾਵਾਂ ਨੂੰ ਕੁਸ਼ਲਤਾਪੂਰਵਕ ਵੰਡਣਾ\n",
    "- **ਪ੍ਰਗਤੀ ਦੀ ਨਿਗਰਾਨੀ**: ਪੂਰਨਤਾ ਨੂੰ ਟ੍ਰੈਕ ਕਰਨਾ ਅਤੇ ਬਦਲਾਅ ਦੇ ਅਨੁਕੂਲ ਹੋਣਾ\n",
    "\n",
    "### ਯੋਜਨਾ ਲਈ ਡਿਜ਼ਾਈਨ ਪੈਟਰਨ\n",
    "- **ਰਣਨੀਤੀ ਪੈਟਰਨ**: ਵੱਖ-ਵੱਖ ਦ੍ਰਿਸ਼ਾਂ ਲਈ ਕਈ ਯੋਜਨਾ ਪਹੁੰਚਾਂ\n",
    "- **ਚੇਨ ਆਫ ਰਿਸਪਾਂਸਬਿਲਿਟੀ**: ਲਗਾਤਾਰ ਪ੍ਰਕਿਰਿਆਵਾਂ ਨਾਲ ਫਾਲਬੈਕ ਵਿਕਲਪ\n",
    "- **ਕਮਾਂਡ ਪੈਟਰਨ**: ਕੰਮ ਦੀ ਕਾਰਗੁਜ਼ਾਰੀ ਨੂੰ ਐਨਕੈਪਸੂਲੇਟ ਕਰਨਾ, ਅਣਡੂ/ਰੀਡੂ ਯੋਗਤਾਵਾਂ ਨਾਲ\n",
    "- **ਓਬਜ਼ਰਵਰ ਪੈਟਰਨ**: ਪ੍ਰਗਤੀ ਟ੍ਰੈਕਿੰਗ ਅਤੇ ਘਟਨਾ-ਚਲਿਤ ਅਪਡੇਟ\n",
    "\n",
    "## 🏗️ ਤਕਨੀਕੀ ਆਰਕੀਟੈਕਚਰ\n",
    "\n",
    "### ਯੋਜਨਾ ਸਿਸਟਮ ਦੇ ਘਟਕ\n",
    "- **ਮਾਈਕਰੋਸਾਫਟ ਏਜੰਟ ਫਰੇਮਵਰਕ**: ਉੱਚ-ਯੋਜਨਾ ਸਮਰਥਨ ਨਾਲ ਪਾਇਥਨ ਇੰਪਲੀਮੈਂਟੇਸ਼ਨ\n",
    "- **ਗਿਟਹੱਬ ਮਾਡਲਾਂ ਇੰਟੀਗ੍ਰੇਸ਼ਨ**: ਉੱਚ-ਪ੍ਰਦਰਸ਼ਨ ਤਰਕ ਅਤੇ ਫੈਸਲੇ\n",
    "- **ਕੰਮ ਆਰਕਸਟਰੈਸ਼ਨ**: ਜਟਿਲ ਵਰਕਫਲੋਜ਼ ਦੀ ਸਮਨੁਯੋਤ ਕਾਰਗੁਜ਼ਾਰੀ  \n",
    "- **ਸਟੇਟ ਮੈਨੇਜਮੈਂਟ**: ਯੋਜਨਾ ਦੀ ਪ੍ਰਗਤੀ ਅਤੇ ਨਤੀਜਿਆਂ ਦੀ ਸਥਾਈ ਟ੍ਰੈਕਿੰਗ\n",
    "\n",
    "### ਯੋਜਨਾ ਪ੍ਰਕਿਰਿਆ ਦਾ ਪ੍ਰਵਾਹ\n",
    "```python\n",
    "Complex Goal → Task Analysis → Subtask Decomposition → Execution Planning\n",
    "                ↓                    ↓                    ↓\n",
    "         Priority Assessment → Resource Allocation → Sequential Execution\n",
    "                ↓                    ↓                    ↓\n",
    "         Progress Monitoring → Adaptive Replanning → Goal Achievement\n",
    "```\n",
    "\n",
    "## 🧠 ਯੋਜਨਾ ਵਿਧੀਆਂ\n",
    "\n",
    "### 1. **ਹਾਇਰਾਰਕੀਕਲ ਟਾਸਕ ਪਲੈਨਿੰਗ**\n",
    "- ਜਟਿਲ ਉਦੇਸ਼ਾਂ ਦੀ ਟੌਪ-ਡਾਊਨ ਵੰਡ\n",
    "- ਨੈਸਟਡ ਲਕਸ਼ਾਂ ਦੀ ਬਣਤਰ, ਨਿਰਭਰਤਾਵਾਂ ਨਾਲ\n",
    "- ਉਪ-ਉਦੇਸ਼ਾਂ ਲਈ ਦੁਹਰਾਈਯੋਗ ਯੋਜਨਾ\n",
    "- ਪੱਧਰਾਂ ਵਿੱਚ ਸੰਸਾਧਨਾਂ ਦੀ ਕੁਸ਼ਲ ਵੰਡ\n",
    "\n",
    "### 2. **ਲਗਾਤਾਰ ਯੋਜਨਾ**\n",
    "- ਸਪਸ਼ਟ ਨਿਰਭਰਤਾਵਾਂ ਨਾਲ ਕਦਮ-ਦਰ-ਕਦਮ ਕੰਮ ਦੀ ਕਾਰਗੁਜ਼ਾਰੀ\n",
    "- ਹਰ ਪੜਾਅ 'ਤੇ ਗਲਤੀ ਸੰਭਾਲ ਅਤੇ ਮੁੜ-ਪ੍ਰਾਪਤੀ\n",
    "- ਪ੍ਰਗਤੀ ਚੈਕਪੋਇੰਟ ਅਤੇ ਵੈਧਤਾ\n",
    "- ਫੇਲ੍ਹ ਕਦਮਾਂ ਲਈ ਰੋਲਬੈਕ ਯੋਗਤਾਵਾਂ\n",
    "\n",
    "### 3. **ਸਮਕਾਲੀ ਯੋਜਨਾ**\n",
    "- ਸਵਤੰਤਰ ਕੰਮਾਂ ਦੀ ਸਮਕਾਲੀ ਕਾਰਗੁਜ਼ਾਰੀ\n",
    "- ਸੰਸਾਧਨ ਸਮਰੂਪਤਾ ਅਤੇ ਟਕਰਾਅ ਦਾ ਹੱਲ\n",
    "- ਸਮਕਾਲੀਕਰਨ ਦੁਆਰਾ ਪ੍ਰਦਰਸ਼ਨ ਦਾ ਸੁਧਾਰ\n",
    "- ਸਮਨੁਯੋਤ ਪੂਰਨਤਾ ਅਤੇ ਨਤੀਜਿਆਂ ਦੀ ਸੰਕਲਪਨਾ\n",
    "\n",
    "## ⚙️ ਪੂਰਵ-ਆਵਸ਼ਕਤਾਵਾਂ ਅਤੇ ਸੈਟਅੱਪ\n",
    "\n",
    "\n",
    "**ਲੋੜੀਂਦੇ ਡਿਪੈਂਡੈਂਸੀਜ਼:**\n",
    "```bash\n",
    "\n",
    "pip install agent-framework-core -U\n",
    "```\n",
    "\n",
    "**ਵਾਤਾਵਰਣ ਸੰਰਚਨਾ (.env ਫਾਈਲ):**\n",
    "```env\n",
    "GITHUB_TOKEN=your_github_personal_access_token\n",
    "GITHUB_ENDPOINT=https://models.inference.ai.azure.com\n",
    "GITHUB_MODEL_ID=gpt-4o-mini\n",
    "```\n",
    "\n",
    "## 🎨 ਯੋਜਨਾ ਡਿਜ਼ਾਈਨ ਪੈਟਰਨ\n",
    "\n",
    "### ਲਕਸ਼-ਕੇਂਦਰਿਤ ਯੋਜਨਾ\n",
    "- **SMART ਲਕਸ਼**: ਵਿਸ਼ੇਸ਼, ਮਾਪਯੋਗ, ਪ੍ਰਾਪਤਯੋਗ, ਸਬੰਧਤ, ਸਮੇਂ-ਬੱਧ ਉਦੇਸ਼\n",
    "- **ਮਾਈਲਸਟੋਨ ਟ੍ਰੈਕਿੰਗ**: ਪ੍ਰਗਤੀ ਮਾਪ ਅਤੇ ਵੈਧਤਾ ਚੈਕਪੋਇੰਟ\n",
    "- **ਸਫਲਤਾ ਮਾਪਦੰਡ**: ਕੰਮ ਪੂਰਨਤਾ ਦੀ ਸਪਸ਼ਟ ਪਰਿਭਾਸ਼ਾ\n",
    "- **ਅਨੁਕੂਲ ਰਣਨੀਤੀਆਂ**: ਫੀਡਬੈਕ ਦੇ ਅਧਾਰ 'ਤੇ ਗਤੀਸ਼ੀਲ ਯੋਜਨਾ ਸਹੀ ਕਰਨਾ\n",
    "\n",
    "### ਸੰਸਾਧਨ-ਜਾਗਰੂਕ ਯੋਜਨਾ\n",
    "- **ਯੋਗਤਾ ਦਾ ਮੁਲਾਂਕਣ**: ਉਪਲਬਧ ਸੰਦਾਂ ਅਤੇ ਉਨ੍ਹਾਂ ਦੀਆਂ ਸੀਮਾਵਾਂ ਨੂੰ ਸਮਝਣਾ\n",
    "- **ਲੋਡ ਬੈਲੈਂਸਿੰਗ**: ਉਪਲਬਧ ਸੰਸਾਧਨਾਂ ਵਿੱਚ ਕੰਮਾਂ ਦੀ ਵਧੀਆ ਵੰਡ\n",
    "- **ਪਾਬੰਦੀ ਪ੍ਰਬੰਧਨ**: ਸਿਸਟਮ ਅਤੇ API ਸੀਮਾਵਾਂ ਦੇ ਅੰਦਰ ਕੰਮ ਕਰਨਾ\n",
    "- **ਪ੍ਰਦਰਸ਼ਨ ਸੁਧਾਰ**: ਕੁਸ਼ਲਤਾ ਵਧਾਉਣਾ ਅਤੇ ਲੈਟੈਂਸੀ ਘਟਾਉਣਾ\n",
    "\n",
    "### ਗਲਤੀ-ਸਹਿਣਸ਼ੀਲ ਯੋਜਨਾ\n",
    "- **ਫੇਲ੍ਹ ਹੋਣ ਦੀ ਪਛਾਣ**: ਯੋਜਨਾ ਜਾਂ ਕਾਰਗੁਜ਼ਾਰੀ ਸਮੱਸਿਆਵਾਂ ਦੀ ਜਲਦੀ ਪਛਾਣ\n",
    "- **ਮੁੜ-ਪ੍ਰਾਪਤੀ ਰਣਨੀਤੀਆਂ**: ਸਵੈਚਾਲਿਤ ਫਾਲਬੈਕ ਅਤੇ ਵਿਕਲਪਕ ਪਹੁੰਚਾਂ\n",
    "- **ਸਟੇਟ ਸੰਰਕਸ਼ਣ**: ਗਲਤੀ ਮੁੜ-ਪ੍ਰਾਪਤੀ ਦੌਰਾਨ ਪ੍ਰਗਤੀ ਨੂੰ ਸਥਿਰ ਰੱਖਣਾ\n",
    "- **ਗ੍ਰੇਸਫੁਲ ਡਿਗਰੇਡੇਸ਼ਨ**: ਜਦੋਂ ਪੂਰੀ ਪੂਰਨਤਾ ਸੰਭਵ ਨਹੀਂ ਹੁੰਦੀ, ਤਦ ਅੰਸ਼ਕ ਸਫਲਤਾ\n",
    "\n",
    "## 🚀 ਉੱਚ-ਸਤਹ ਦੀਆਂ ਯੋਜਨਾ ਵਿਸ਼ੇਸ਼ਤਾਵਾਂ\n",
    "\n",
    "- **ਮੈਟਾ-ਪਲੈਨਿੰਗ**: ਏਜੰਟ ਜੋ ਯੋਜਨਾ ਬਣਾਉਣ ਦੀ ਯੋਜਨਾ ਬਣਾਉਂਦੇ ਹਨ\n",
    "- **ਸਹਿਯੋਗੀ ਯੋਜਨਾ**: ਜਟਿਲ ਪ੍ਰਾਜੈਕਟਾਂ ਲਈ ਬਹੁ-ਏਜੰਟ ਸਮਨੁਯੋ\n",
    "- **ਅਨੁਭਵ ਤੋਂ ਸਿੱਖਣਾ**: ਸਮੇਂ ਦੇ ਨਾਲ ਯੋਜਨਾ ਰਣਨੀਤੀਆਂ ਵਿੱਚ ਸੁਧਾਰ\n",
    "- **ਵਾਸਤਵਿਕ-ਸਮੇਂ ਅਨੁਕੂਲਤਾ**: ਬਦਲਦੇ ਹਾਲਾਤਾਂ ਦੇ ਅਧਾਰ 'ਤੇ ਗਤੀਸ਼ੀਲ ਮੁੜ-ਯੋਜਨਾ\n",
    "\n",
    "## 📊 ਵਰਤੋਂ ਦੇ ਕੇਸ ਅਤੇ ਐਪਲੀਕੇਸ਼ਨ\n",
    "\n",
    "### ਵਪਾਰ ਪ੍ਰਕਿਰਿਆ ਆਟੋਮੇਸ਼ਨ\n",
    "- ਪ੍ਰਾਜੈਕਟ ਪ੍ਰਬੰਧਨ ਅਤੇ ਕੰਮ ਸ਼ਡਿਊਲਿੰਗ\n",
    "- ਵਰਕਫਲੋ ਸੁਧਾਰ ਅਤੇ ਸੰਸਾਧਨ ਵੰਡ\n",
    "- ਰਣਨੀਤਕ ਯੋਜਨਾ ਅਤੇ ਫੈਸਲੇ ਲਈ ਸਹਾਇਤਾ\n",
    "- ਪ੍ਰਕਿਰਿਆ ਸੁਧਾਰ ਅਤੇ ਆਟੋਮੇਸ਼ਨ\n",
    "\n",
    "### ਖੋਜ ਅਤੇ ਵਿਸ਼ਲੇਸ਼ਣ\n",
    "- ਸਾਹਿਤ ਸਮੀਖਿਆ ਅਤੇ ਸੰਕਲਨ\n",
    "- ਡਾਟਾ ਵਿਸ਼ਲੇਸ਼ਣ ਪਾਈਪਲਾਈਨ ਯੋਜਨਾ\n",
    "- ਪ੍ਰਯੋਗਾਤਮਕ ਡਿਜ਼ਾਈਨ ਅਤੇ ਕਾਰਗੁਜ਼ਾਰੀ\n",
    "- ਰਿਪੋਰਟ ਤਿਆਰ ਕਰਨਾ ਅਤੇ ਫਾਰਮੈਟਿੰਗ\n",
    "\n",
    "### ਰਚਨਾਤਮਕ ਪ੍ਰਾਜੈਕਟ\n",
    "- ਸਮੱਗਰੀ ਬਣਾਉਣ ਦੇ ਵਰਕਫਲੋਜ਼\n",
    "- ਮਲਟੀ-ਮੀਡੀਆ ਪ੍ਰਾਜੈਕਟ ਸਮਨੁਯੋ\n",
    "- ਮੁਹਿੰਮ ਦੀ ਯੋਜਨਾ ਅਤੇ ਕਾਰਗੁਜ਼ਾਰੀ\n",
    "- ਇਵੈਂਟ ਦਾ ਆਯੋਜਨ ਅਤੇ ਪ੍ਰਬੰਧਨ\n",
    "\n",
    "ਜਟਿਲ, ਬਹੁ-ਕਦਮ ਚੁਣੌਤੀਆਂ ਦਾ ਸਾਹਮਣਾ ਕਰਨ ਵਾਲੇ ਬੁੱਧੀਮਾਨ ਯੋਜਨਾ ਏਜੰਟ ਬਣਾਉਣ ਲਈ ਤਿਆਰ ਹੋ? ਆਓ ਕੁਝ ਸੁਧਾਰਤ ਸਮੱਸਿਆ-ਸੁਝਾਅ ਯੋਗਤਾਵਾਂ ਦੀ ਆਰਕੀਟੈਕਚਰ ਬਣਾਈਏ! 🧠✨\n"
   ]
  },
  {
   "cell_type": "code",
   "execution_count": 1,
   "id": "7d9d6188",
   "metadata": {},
   "outputs": [
    {
     "name": "stdout",
     "output_type": "stream",
     "text": [
      "Requirement already satisfied: agent-framework-core in c:\\users\\kinfeylo\\appdata\\local\\miniforge3\\envs\\agentenv\\lib\\site-packages (1.0.0b251001)\n",
      "Requirement already satisfied: openai>=1.99.0 in c:\\users\\kinfeylo\\appdata\\local\\miniforge3\\envs\\agentenv\\lib\\site-packages (from agent-framework-core) (1.106.1)\n",
      "Requirement already satisfied: pydantic<3,>=2 in c:\\users\\kinfeylo\\appdata\\local\\miniforge3\\envs\\agentenv\\lib\\site-packages (from agent-framework-core) (2.11.9)\n",
      "Requirement already satisfied: pydantic-settings<3,>=2 in c:\\users\\kinfeylo\\appdata\\local\\miniforge3\\envs\\agentenv\\lib\\site-packages (from agent-framework-core) (2.10.1)\n",
      "Requirement already satisfied: typing-extensions in c:\\users\\kinfeylo\\appdata\\local\\miniforge3\\envs\\agentenv\\lib\\site-packages (from agent-framework-core) (4.15.0)\n",
      "Requirement already satisfied: opentelemetry-api>=1.24 in c:\\users\\kinfeylo\\appdata\\local\\miniforge3\\envs\\agentenv\\lib\\site-packages (from agent-framework-core) (1.36.0)\n",
      "Requirement already satisfied: opentelemetry-sdk>=1.24 in c:\\users\\kinfeylo\\appdata\\local\\miniforge3\\envs\\agentenv\\lib\\site-packages (from agent-framework-core) (1.36.0)\n",
      "Requirement already satisfied: mcp>=1.13 in c:\\users\\kinfeylo\\appdata\\local\\miniforge3\\envs\\agentenv\\lib\\site-packages (from mcp[ws]>=1.13->agent-framework-core) (1.13.1)\n",
      "Requirement already satisfied: azure-monitor-opentelemetry>=1.7.0 in c:\\users\\kinfeylo\\appdata\\local\\miniforge3\\envs\\agentenv\\lib\\site-packages (from agent-framework-core) (1.8.0)\n",
      "Requirement already satisfied: azure-monitor-opentelemetry-exporter>=1.0.0b41 in c:\\users\\kinfeylo\\appdata\\local\\miniforge3\\envs\\agentenv\\lib\\site-packages (from agent-framework-core) (1.0.0b41)\n",
      "Requirement already satisfied: opentelemetry-exporter-otlp-proto-grpc>=1.36.0 in c:\\users\\kinfeylo\\appdata\\local\\miniforge3\\envs\\agentenv\\lib\\site-packages (from agent-framework-core) (1.36.0)\n",
      "Requirement already satisfied: opentelemetry-semantic-conventions-ai>=0.4.13 in c:\\users\\kinfeylo\\appdata\\local\\miniforge3\\envs\\agentenv\\lib\\site-packages (from agent-framework-core) (0.4.13)\n",
      "Requirement already satisfied: aiofiles>=24.1.0 in c:\\users\\kinfeylo\\appdata\\local\\miniforge3\\envs\\agentenv\\lib\\site-packages (from agent-framework-core) (24.1.0)\n",
      "Requirement already satisfied: azure-identity<2,>=1 in c:\\users\\kinfeylo\\appdata\\local\\miniforge3\\envs\\agentenv\\lib\\site-packages (from agent-framework-core) (1.24.0)\n",
      "Requirement already satisfied: azure-core>=1.31.0 in c:\\users\\kinfeylo\\appdata\\local\\miniforge3\\envs\\agentenv\\lib\\site-packages (from azure-identity<2,>=1->agent-framework-core) (1.35.0)\n",
      "Requirement already satisfied: cryptography>=2.5 in c:\\users\\kinfeylo\\appdata\\local\\miniforge3\\envs\\agentenv\\lib\\site-packages (from azure-identity<2,>=1->agent-framework-core) (45.0.7)\n",
      "Requirement already satisfied: msal>=1.30.0 in c:\\users\\kinfeylo\\appdata\\local\\miniforge3\\envs\\agentenv\\lib\\site-packages (from azure-identity<2,>=1->agent-framework-core) (1.33.0)\n",
      "Requirement already satisfied: msal-extensions>=1.2.0 in c:\\users\\kinfeylo\\appdata\\local\\miniforge3\\envs\\agentenv\\lib\\site-packages (from azure-identity<2,>=1->agent-framework-core) (1.3.1)\n",
      "Requirement already satisfied: annotated-types>=0.6.0 in c:\\users\\kinfeylo\\appdata\\local\\miniforge3\\envs\\agentenv\\lib\\site-packages (from pydantic<3,>=2->agent-framework-core) (0.7.0)\n",
      "Requirement already satisfied: pydantic-core==2.33.2 in c:\\users\\kinfeylo\\appdata\\local\\miniforge3\\envs\\agentenv\\lib\\site-packages (from pydantic<3,>=2->agent-framework-core) (2.33.2)\n",
      "Requirement already satisfied: typing-inspection>=0.4.0 in c:\\users\\kinfeylo\\appdata\\local\\miniforge3\\envs\\agentenv\\lib\\site-packages (from pydantic<3,>=2->agent-framework-core) (0.4.1)\n",
      "Requirement already satisfied: python-dotenv>=0.21.0 in c:\\users\\kinfeylo\\appdata\\local\\miniforge3\\envs\\agentenv\\lib\\site-packages (from pydantic-settings<3,>=2->agent-framework-core) (1.1.1)\n",
      "Requirement already satisfied: requests>=2.21.0 in c:\\users\\kinfeylo\\appdata\\local\\miniforge3\\envs\\agentenv\\lib\\site-packages (from azure-core>=1.31.0->azure-identity<2,>=1->agent-framework-core) (2.32.5)\n",
      "Requirement already satisfied: six>=1.11.0 in c:\\users\\kinfeylo\\appdata\\local\\miniforge3\\envs\\agentenv\\lib\\site-packages (from azure-core>=1.31.0->azure-identity<2,>=1->agent-framework-core) (1.17.0)\n",
      "Requirement already satisfied: azure-core-tracing-opentelemetry~=1.0.0b11 in c:\\users\\kinfeylo\\appdata\\local\\miniforge3\\envs\\agentenv\\lib\\site-packages (from azure-monitor-opentelemetry>=1.7.0->agent-framework-core) (1.0.0b12)\n",
      "Requirement already satisfied: opentelemetry-instrumentation-django~=0.57b0 in c:\\users\\kinfeylo\\appdata\\local\\miniforge3\\envs\\agentenv\\lib\\site-packages (from azure-monitor-opentelemetry>=1.7.0->agent-framework-core) (0.57b0)\n",
      "Requirement already satisfied: opentelemetry-instrumentation-fastapi~=0.57b0 in c:\\users\\kinfeylo\\appdata\\local\\miniforge3\\envs\\agentenv\\lib\\site-packages (from azure-monitor-opentelemetry>=1.7.0->agent-framework-core) (0.57b0)\n",
      "Requirement already satisfied: opentelemetry-instrumentation-flask~=0.57b0 in c:\\users\\kinfeylo\\appdata\\local\\miniforge3\\envs\\agentenv\\lib\\site-packages (from azure-monitor-opentelemetry>=1.7.0->agent-framework-core) (0.57b0)\n",
      "Requirement already satisfied: opentelemetry-instrumentation-psycopg2~=0.57b0 in c:\\users\\kinfeylo\\appdata\\local\\miniforge3\\envs\\agentenv\\lib\\site-packages (from azure-monitor-opentelemetry>=1.7.0->agent-framework-core) (0.57b0)\n",
      "Requirement already satisfied: opentelemetry-instrumentation-requests~=0.57b0 in c:\\users\\kinfeylo\\appdata\\local\\miniforge3\\envs\\agentenv\\lib\\site-packages (from azure-monitor-opentelemetry>=1.7.0->agent-framework-core) (0.57b0)\n",
      "Requirement already satisfied: opentelemetry-instrumentation-urllib~=0.57b0 in c:\\users\\kinfeylo\\appdata\\local\\miniforge3\\envs\\agentenv\\lib\\site-packages (from azure-monitor-opentelemetry>=1.7.0->agent-framework-core) (0.57b0)\n",
      "Requirement already satisfied: opentelemetry-instrumentation-urllib3~=0.57b0 in c:\\users\\kinfeylo\\appdata\\local\\miniforge3\\envs\\agentenv\\lib\\site-packages (from azure-monitor-opentelemetry>=1.7.0->agent-framework-core) (0.57b0)\n",
      "Requirement already satisfied: opentelemetry-resource-detector-azure~=0.1.5 in c:\\users\\kinfeylo\\appdata\\local\\miniforge3\\envs\\agentenv\\lib\\site-packages (from azure-monitor-opentelemetry>=1.7.0->agent-framework-core) (0.1.5)\n",
      "Requirement already satisfied: fixedint==0.1.6 in c:\\users\\kinfeylo\\appdata\\local\\miniforge3\\envs\\agentenv\\lib\\site-packages (from azure-monitor-opentelemetry-exporter>=1.0.0b41->agent-framework-core) (0.1.6)\n",
      "Requirement already satisfied: msrest>=0.6.10 in c:\\users\\kinfeylo\\appdata\\local\\miniforge3\\envs\\agentenv\\lib\\site-packages (from azure-monitor-opentelemetry-exporter>=1.0.0b41->agent-framework-core) (0.7.1)\n",
      "Requirement already satisfied: psutil<8,>=5.9 in c:\\users\\kinfeylo\\appdata\\local\\miniforge3\\envs\\agentenv\\lib\\site-packages (from azure-monitor-opentelemetry-exporter>=1.0.0b41->agent-framework-core) (7.0.0)\n",
      "Requirement already satisfied: importlib-metadata<8.8.0,>=6.0 in c:\\users\\kinfeylo\\appdata\\local\\miniforge3\\envs\\agentenv\\lib\\site-packages (from opentelemetry-api>=1.24->agent-framework-core) (8.7.0)\n",
      "Requirement already satisfied: zipp>=3.20 in c:\\users\\kinfeylo\\appdata\\local\\miniforge3\\envs\\agentenv\\lib\\site-packages (from importlib-metadata<8.8.0,>=6.0->opentelemetry-api>=1.24->agent-framework-core) (3.23.0)\n",
      "Requirement already satisfied: opentelemetry-instrumentation-wsgi==0.57b0 in c:\\users\\kinfeylo\\appdata\\local\\miniforge3\\envs\\agentenv\\lib\\site-packages (from opentelemetry-instrumentation-django~=0.57b0->azure-monitor-opentelemetry>=1.7.0->agent-framework-core) (0.57b0)\n",
      "Requirement already satisfied: opentelemetry-instrumentation==0.57b0 in c:\\users\\kinfeylo\\appdata\\local\\miniforge3\\envs\\agentenv\\lib\\site-packages (from opentelemetry-instrumentation-django~=0.57b0->azure-monitor-opentelemetry>=1.7.0->agent-framework-core) (0.57b0)\n",
      "Requirement already satisfied: opentelemetry-semantic-conventions==0.57b0 in c:\\users\\kinfeylo\\appdata\\local\\miniforge3\\envs\\agentenv\\lib\\site-packages (from opentelemetry-instrumentation-django~=0.57b0->azure-monitor-opentelemetry>=1.7.0->agent-framework-core) (0.57b0)\n",
      "Requirement already satisfied: opentelemetry-util-http==0.57b0 in c:\\users\\kinfeylo\\appdata\\local\\miniforge3\\envs\\agentenv\\lib\\site-packages (from opentelemetry-instrumentation-django~=0.57b0->azure-monitor-opentelemetry>=1.7.0->agent-framework-core) (0.57b0)\n",
      "Requirement already satisfied: packaging>=18.0 in c:\\users\\kinfeylo\\appdata\\local\\miniforge3\\envs\\agentenv\\lib\\site-packages (from opentelemetry-instrumentation==0.57b0->opentelemetry-instrumentation-django~=0.57b0->azure-monitor-opentelemetry>=1.7.0->agent-framework-core) (25.0)\n",
      "Requirement already satisfied: wrapt<2.0.0,>=1.0.0 in c:\\users\\kinfeylo\\appdata\\local\\miniforge3\\envs\\agentenv\\lib\\site-packages (from opentelemetry-instrumentation==0.57b0->opentelemetry-instrumentation-django~=0.57b0->azure-monitor-opentelemetry>=1.7.0->agent-framework-core) (1.17.3)\n",
      "Requirement already satisfied: opentelemetry-instrumentation-asgi==0.57b0 in c:\\users\\kinfeylo\\appdata\\local\\miniforge3\\envs\\agentenv\\lib\\site-packages (from opentelemetry-instrumentation-fastapi~=0.57b0->azure-monitor-opentelemetry>=1.7.0->agent-framework-core) (0.57b0)\n",
      "Requirement already satisfied: asgiref~=3.0 in c:\\users\\kinfeylo\\appdata\\local\\miniforge3\\envs\\agentenv\\lib\\site-packages (from opentelemetry-instrumentation-asgi==0.57b0->opentelemetry-instrumentation-fastapi~=0.57b0->azure-monitor-opentelemetry>=1.7.0->agent-framework-core) (3.9.1)\n",
      "Requirement already satisfied: opentelemetry-instrumentation-dbapi==0.57b0 in c:\\users\\kinfeylo\\appdata\\local\\miniforge3\\envs\\agentenv\\lib\\site-packages (from opentelemetry-instrumentation-psycopg2~=0.57b0->azure-monitor-opentelemetry>=1.7.0->agent-framework-core) (0.57b0)\n",
      "Requirement already satisfied: cffi>=1.14 in c:\\users\\kinfeylo\\appdata\\local\\miniforge3\\envs\\agentenv\\lib\\site-packages (from cryptography>=2.5->azure-identity<2,>=1->agent-framework-core) (1.17.1)\n",
      "Requirement already satisfied: pycparser in c:\\users\\kinfeylo\\appdata\\local\\miniforge3\\envs\\agentenv\\lib\\site-packages (from cffi>=1.14->cryptography>=2.5->azure-identity<2,>=1->agent-framework-core) (2.22)\n",
      "Requirement already satisfied: anyio>=4.5 in c:\\users\\kinfeylo\\appdata\\local\\miniforge3\\envs\\agentenv\\lib\\site-packages (from mcp>=1.13->mcp[ws]>=1.13->agent-framework-core) (4.10.0)\n",
      "Requirement already satisfied: httpx-sse>=0.4 in c:\\users\\kinfeylo\\appdata\\local\\miniforge3\\envs\\agentenv\\lib\\site-packages (from mcp>=1.13->mcp[ws]>=1.13->agent-framework-core) (0.4.1)\n",
      "Requirement already satisfied: httpx>=0.27.1 in c:\\users\\kinfeylo\\appdata\\local\\miniforge3\\envs\\agentenv\\lib\\site-packages (from mcp>=1.13->mcp[ws]>=1.13->agent-framework-core) (0.28.1)\n",
      "Requirement already satisfied: jsonschema>=4.20.0 in c:\\users\\kinfeylo\\appdata\\local\\miniforge3\\envs\\agentenv\\lib\\site-packages (from mcp>=1.13->mcp[ws]>=1.13->agent-framework-core) (4.25.1)\n",
      "Requirement already satisfied: python-multipart>=0.0.9 in c:\\users\\kinfeylo\\appdata\\local\\miniforge3\\envs\\agentenv\\lib\\site-packages (from mcp>=1.13->mcp[ws]>=1.13->agent-framework-core) (0.0.20)\n",
      "Requirement already satisfied: pywin32>=310 in c:\\users\\kinfeylo\\appdata\\local\\miniforge3\\envs\\agentenv\\lib\\site-packages (from mcp>=1.13->mcp[ws]>=1.13->agent-framework-core) (311)\n",
      "Requirement already satisfied: sse-starlette>=1.6.1 in c:\\users\\kinfeylo\\appdata\\local\\miniforge3\\envs\\agentenv\\lib\\site-packages (from mcp>=1.13->mcp[ws]>=1.13->agent-framework-core) (3.0.2)\n",
      "Requirement already satisfied: starlette>=0.27 in c:\\users\\kinfeylo\\appdata\\local\\miniforge3\\envs\\agentenv\\lib\\site-packages (from mcp>=1.13->mcp[ws]>=1.13->agent-framework-core) (0.47.3)\n",
      "Requirement already satisfied: uvicorn>=0.31.1 in c:\\users\\kinfeylo\\appdata\\local\\miniforge3\\envs\\agentenv\\lib\\site-packages (from mcp>=1.13->mcp[ws]>=1.13->agent-framework-core) (0.35.0)\n",
      "Requirement already satisfied: idna>=2.8 in c:\\users\\kinfeylo\\appdata\\local\\miniforge3\\envs\\agentenv\\lib\\site-packages (from anyio>=4.5->mcp>=1.13->mcp[ws]>=1.13->agent-framework-core) (3.10)\n",
      "Requirement already satisfied: sniffio>=1.1 in c:\\users\\kinfeylo\\appdata\\local\\miniforge3\\envs\\agentenv\\lib\\site-packages (from anyio>=4.5->mcp>=1.13->mcp[ws]>=1.13->agent-framework-core) (1.3.1)\n",
      "Requirement already satisfied: certifi in c:\\users\\kinfeylo\\appdata\\local\\miniforge3\\envs\\agentenv\\lib\\site-packages (from httpx>=0.27.1->mcp>=1.13->mcp[ws]>=1.13->agent-framework-core) (2025.8.3)\n",
      "Requirement already satisfied: httpcore==1.* in c:\\users\\kinfeylo\\appdata\\local\\miniforge3\\envs\\agentenv\\lib\\site-packages (from httpx>=0.27.1->mcp>=1.13->mcp[ws]>=1.13->agent-framework-core) (1.0.9)\n",
      "Requirement already satisfied: h11>=0.16 in c:\\users\\kinfeylo\\appdata\\local\\miniforge3\\envs\\agentenv\\lib\\site-packages (from httpcore==1.*->httpx>=0.27.1->mcp>=1.13->mcp[ws]>=1.13->agent-framework-core) (0.16.0)\n",
      "Requirement already satisfied: attrs>=22.2.0 in c:\\users\\kinfeylo\\appdata\\local\\miniforge3\\envs\\agentenv\\lib\\site-packages (from jsonschema>=4.20.0->mcp>=1.13->mcp[ws]>=1.13->agent-framework-core) (25.3.0)\n",
      "Requirement already satisfied: jsonschema-specifications>=2023.03.6 in c:\\users\\kinfeylo\\appdata\\local\\miniforge3\\envs\\agentenv\\lib\\site-packages (from jsonschema>=4.20.0->mcp>=1.13->mcp[ws]>=1.13->agent-framework-core) (2025.4.1)\n",
      "Requirement already satisfied: referencing>=0.28.4 in c:\\users\\kinfeylo\\appdata\\local\\miniforge3\\envs\\agentenv\\lib\\site-packages (from jsonschema>=4.20.0->mcp>=1.13->mcp[ws]>=1.13->agent-framework-core) (0.36.2)\n",
      "Requirement already satisfied: rpds-py>=0.7.1 in c:\\users\\kinfeylo\\appdata\\local\\miniforge3\\envs\\agentenv\\lib\\site-packages (from jsonschema>=4.20.0->mcp>=1.13->mcp[ws]>=1.13->agent-framework-core) (0.27.1)\n",
      "Requirement already satisfied: websockets>=15.0.1 in c:\\users\\kinfeylo\\appdata\\local\\miniforge3\\envs\\agentenv\\lib\\site-packages (from mcp[ws]>=1.13->agent-framework-core) (15.0.1)\n",
      "Requirement already satisfied: PyJWT<3,>=1.0.0 in c:\\users\\kinfeylo\\appdata\\local\\miniforge3\\envs\\agentenv\\lib\\site-packages (from PyJWT[crypto]<3,>=1.0.0->msal>=1.30.0->azure-identity<2,>=1->agent-framework-core) (2.10.1)\n",
      "Requirement already satisfied: charset_normalizer<4,>=2 in c:\\users\\kinfeylo\\appdata\\local\\miniforge3\\envs\\agentenv\\lib\\site-packages (from requests>=2.21.0->azure-core>=1.31.0->azure-identity<2,>=1->agent-framework-core) (3.4.3)\n",
      "Requirement already satisfied: urllib3<3,>=1.21.1 in c:\\users\\kinfeylo\\appdata\\local\\miniforge3\\envs\\agentenv\\lib\\site-packages (from requests>=2.21.0->azure-core>=1.31.0->azure-identity<2,>=1->agent-framework-core) (2.5.0)\n",
      "Requirement already satisfied: isodate>=0.6.0 in c:\\users\\kinfeylo\\appdata\\local\\miniforge3\\envs\\agentenv\\lib\\site-packages (from msrest>=0.6.10->azure-monitor-opentelemetry-exporter>=1.0.0b41->agent-framework-core) (0.7.2)\n",
      "Requirement already satisfied: requests-oauthlib>=0.5.0 in c:\\users\\kinfeylo\\appdata\\local\\miniforge3\\envs\\agentenv\\lib\\site-packages (from msrest>=0.6.10->azure-monitor-opentelemetry-exporter>=1.0.0b41->agent-framework-core) (2.0.0)\n",
      "Requirement already satisfied: distro<2,>=1.7.0 in c:\\users\\kinfeylo\\appdata\\local\\miniforge3\\envs\\agentenv\\lib\\site-packages (from openai>=1.99.0->agent-framework-core) (1.9.0)\n",
      "Requirement already satisfied: jiter<1,>=0.4.0 in c:\\users\\kinfeylo\\appdata\\local\\miniforge3\\envs\\agentenv\\lib\\site-packages (from openai>=1.99.0->agent-framework-core) (0.10.0)\n",
      "Requirement already satisfied: tqdm>4 in c:\\users\\kinfeylo\\appdata\\local\\miniforge3\\envs\\agentenv\\lib\\site-packages (from openai>=1.99.0->agent-framework-core) (4.67.1)\n",
      "Requirement already satisfied: googleapis-common-protos~=1.57 in c:\\users\\kinfeylo\\appdata\\local\\miniforge3\\envs\\agentenv\\lib\\site-packages (from opentelemetry-exporter-otlp-proto-grpc>=1.36.0->agent-framework-core) (1.70.0)\n",
      "Requirement already satisfied: grpcio<2.0.0,>=1.63.2 in c:\\users\\kinfeylo\\appdata\\local\\miniforge3\\envs\\agentenv\\lib\\site-packages (from opentelemetry-exporter-otlp-proto-grpc>=1.36.0->agent-framework-core) (1.74.0)\n",
      "Requirement already satisfied: opentelemetry-exporter-otlp-proto-common==1.36.0 in c:\\users\\kinfeylo\\appdata\\local\\miniforge3\\envs\\agentenv\\lib\\site-packages (from opentelemetry-exporter-otlp-proto-grpc>=1.36.0->agent-framework-core) (1.36.0)\n",
      "Requirement already satisfied: opentelemetry-proto==1.36.0 in c:\\users\\kinfeylo\\appdata\\local\\miniforge3\\envs\\agentenv\\lib\\site-packages (from opentelemetry-exporter-otlp-proto-grpc>=1.36.0->agent-framework-core) (1.36.0)\n",
      "Requirement already satisfied: protobuf<7.0,>=5.0 in c:\\users\\kinfeylo\\appdata\\local\\miniforge3\\envs\\agentenv\\lib\\site-packages (from opentelemetry-proto==1.36.0->opentelemetry-exporter-otlp-proto-grpc>=1.36.0->agent-framework-core) (5.29.5)\n",
      "Requirement already satisfied: oauthlib>=3.0.0 in c:\\users\\kinfeylo\\appdata\\local\\miniforge3\\envs\\agentenv\\lib\\site-packages (from requests-oauthlib>=0.5.0->msrest>=0.6.10->azure-monitor-opentelemetry-exporter>=1.0.0b41->agent-framework-core) (3.3.1)\n",
      "Requirement already satisfied: colorama in c:\\users\\kinfeylo\\appdata\\local\\miniforge3\\envs\\agentenv\\lib\\site-packages (from tqdm>4->openai>=1.99.0->agent-framework-core) (0.4.6)\n",
      "Requirement already satisfied: click>=7.0 in c:\\users\\kinfeylo\\appdata\\local\\miniforge3\\envs\\agentenv\\lib\\site-packages (from uvicorn>=0.31.1->mcp>=1.13->mcp[ws]>=1.13->agent-framework-core) (8.2.1)\n"
     ]
    }
   ],
   "source": [
    "\n",
    "! pip install agent-framework-core -U "
   ]
  },
  {
   "cell_type": "code",
   "execution_count": 2,
   "id": "b6280fda",
   "metadata": {},
   "outputs": [],
   "source": [
    "# 📦 Import Standard Libraries\n",
    "# os: For environment variable access\n",
    "# dotenv: For loading environment variables from .env file\n",
    "import os\n",
    "\n",
    "from dotenv import load_dotenv"
   ]
  },
  {
   "cell_type": "code",
   "execution_count": 3,
   "id": "3bd855d5",
   "metadata": {},
   "outputs": [],
   "source": [
    "# 📝 Import Data Modeling Libraries\n",
    "# Pydantic: For data validation and structured outputs\n",
    "# BaseModel: Base class for creating data models\n",
    "# Field: For adding metadata and validation to model fields\n",
    "# List: Type hint for list collections\n",
    "from pydantic import BaseModel, Field\n",
    "from typing import List"
   ]
  },
  {
   "cell_type": "code",
   "execution_count": 4,
   "id": "b63147e1",
   "metadata": {},
   "outputs": [],
   "source": [
    "# 🤖 Import Microsoft Agent Framework Components\n",
    "# ChatMessage: For creating structured chat messages\n",
    "# Role: Enum for message roles (user, assistant, system)\n",
    "# ChatOptions: Configuration options for chat interactions\n",
    "# OpenAIChatClient: Client for OpenAI-compatible APIs (GitHub Models)\n",
    "from agent_framework import ChatMessage, Role, ChatOptions\n",
    "from agent_framework.openai import OpenAIChatClient"
   ]
  },
  {
   "cell_type": "code",
   "execution_count": 5,
   "id": "d95ec338",
   "metadata": {},
   "outputs": [
    {
     "data": {
      "text/plain": [
       "True"
      ]
     },
     "execution_count": 5,
     "metadata": {},
     "output_type": "execute_result"
    }
   ],
   "source": [
    "# 🔧 Load Environment Variables\n",
    "# Load configuration from .env file\n",
    "# Required: GITHUB_ENDPOINT, GITHUB_TOKEN, GITHUB_MODEL_ID\n",
    "load_dotenv()"
   ]
  },
  {
   "cell_type": "code",
   "execution_count": 6,
   "id": "baeb5915",
   "metadata": {},
   "outputs": [],
   "source": [
    "# 🎯 Agent Configuration\n",
    "# Define the agent's name and role\n",
    "\n",
    "AGENT_NAME = \"TravelAgent\"\n",
    "\n",
    "# 📋 System Instructions for Planning Agent\n",
    "# This agent acts as a coordinator that decides which specialized agents to use\n",
    "AGENT_INSTRUCTIONS = \"\"\"You are a planner agent.\n",
    "    Your job is to decide which agents to run based on the user's request.\n",
    "    Below are the available agents specialized in different tasks:\n",
    "    - FlightBooking: For booking flights and providing flight information\n",
    "    - HotelBooking: For booking hotels and providing hotel information\n",
    "    - CarRental: For booking cars and providing car rental information\n",
    "    - ActivitiesBooking: For booking activities and providing activity information\n",
    "\"\"\"\n"
   ]
  },
  {
   "cell_type": "code",
   "execution_count": 7,
   "id": "556b40c1",
   "metadata": {},
   "outputs": [],
   "source": [
    "class SubTask(BaseModel):\n",
    "    assigned_agent: str = Field(\n",
    "        description=\"The specific agent assigned to handle this subtask\")\n",
    "    task_details: str = Field(\n",
    "        description=\"Detailed description of what needs to be done for this subtask\")\n",
    "\n",
    "\n",
    "class TravelPlan(BaseModel):\n",
    "    main_task: str = Field(\n",
    "        description=\"The overall travel request from the user\")\n",
    "    subtasks: List[SubTask] = Field(\n",
    "        description=\"List of subtasks broken down from the main task, each assigned to a specialized agent\")"
   ]
  },
  {
   "cell_type": "code",
   "execution_count": 8,
   "id": "3c16e0df",
   "metadata": {},
   "outputs": [],
   "source": [
    "options = ChatOptions(response_format=TravelPlan)"
   ]
  },
  {
   "cell_type": "code",
   "execution_count": 9,
   "id": "a312a074",
   "metadata": {},
   "outputs": [],
   "source": [
    "client = OpenAIChatClient(base_url=os.environ.get(\"GITHUB_ENDPOINT\"), api_key=os.environ.get(\"GITHUB_TOKEN\"), model_id=os.environ.get(\"GITHUB_MODEL_ID\"))"
   ]
  },
  {
   "cell_type": "code",
   "execution_count": 10,
   "id": "374e70ee",
   "metadata": {},
   "outputs": [],
   "source": [
    "agent =  client.create_agent(name= AGENT_NAME , instructions=AGENT_INSTRUCTIONS)"
   ]
  },
  {
   "cell_type": "code",
   "execution_count": 11,
   "id": "cde85093",
   "metadata": {},
   "outputs": [],
   "source": [
    "messages = [\n",
    "        ChatMessage(role=Role.USER, text=\"Create a travel plan for a family of 4, with 2 kids, from Singapore to Melbourne\")\n",
    "    ]"
   ]
  },
  {
   "cell_type": "code",
   "execution_count": 12,
   "id": "781c7c2a",
   "metadata": {},
   "outputs": [],
   "source": [
    "response = await agent.run(messages,response_format=TravelPlan)"
   ]
  },
  {
   "cell_type": "code",
   "execution_count": 13,
   "id": "25b44f81",
   "metadata": {},
   "outputs": [
    {
     "data": {
      "text/plain": [
       "'{\"main_task\":\"Plan a family trip from Singapore to Melbourne for 4 people, including 2 kids.\",\"subtasks\":[{\"assigned_agent\":\"FlightBooking\",\"task_details\":\"Book one round-trip flight from Singapore to Melbourne for a family of 4, considering family-friendly options.\"},{\"assigned_agent\":\"HotelBooking\",\"task_details\":\"Find and book a family-friendly hotel in Melbourne that can accommodate 4 people, including 2 kids.\"},{\"assigned_agent\":\"CarRental\",\"task_details\":\"Arrange a car rental in Melbourne for the family to facilitate travel around the city.\"},{\"assigned_agent\":\"ActivitiesBooking\",\"task_details\":\"Provide a list of kid-friendly activities and attractions in Melbourne for the family to enjoy.\"}]}'"
      ]
     },
     "execution_count": 13,
     "metadata": {},
     "output_type": "execute_result"
    }
   ],
   "source": [
    "response.messages[0].text"
   ]
  },
  {
   "cell_type": "markdown",
   "metadata": {},
   "source": [
    "\n---\n\n**ਅਸਵੀਕਰਤੀ**:  \nਇਹ ਦਸਤਾਵੇਜ਼ AI ਅਨੁਵਾਦ ਸੇਵਾ [Co-op Translator](https://github.com/Azure/co-op-translator) ਦੀ ਵਰਤੋਂ ਕਰਕੇ ਅਨੁਵਾਦ ਕੀਤਾ ਗਿਆ ਹੈ। ਜਦੋਂ ਕਿ ਅਸੀਂ ਸਹੀ ਹੋਣ ਦੀ ਕੋਸ਼ਿਸ਼ ਕਰਦੇ ਹਾਂ, ਕਿਰਪਾ ਕਰਕੇ ਧਿਆਨ ਦਿਓ ਕਿ ਸਵੈਚਾਲਿਤ ਅਨੁਵਾਦਾਂ ਵਿੱਚ ਗਲਤੀਆਂ ਜਾਂ ਅਸੁਣੀਕਤਾਵਾਂ ਹੋ ਸਕਦੀਆਂ ਹਨ। ਇਸ ਦੀ ਮੂਲ ਭਾਸ਼ਾ ਵਿੱਚ ਮੌਜੂਦ ਅਸਲ ਦਸਤਾਵੇਜ਼ ਨੂੰ ਅਧਿਕਾਰਤ ਸਰੋਤ ਮੰਨਿਆ ਜਾਣਾ ਚਾਹੀਦਾ ਹੈ। ਮਹੱਤਵਪੂਰਨ ਜਾਣਕਾਰੀ ਲਈ, ਪੇਸ਼ੇਵਰ ਮਨੁੱਖੀ ਅਨੁਵਾਦ ਦੀ ਸਿਫਾਰਸ਼ ਕੀਤੀ ਜਾਂਦੀ ਹੈ। ਇਸ ਅਨੁਵਾਦ ਦੀ ਵਰਤੋਂ ਤੋਂ ਪੈਦਾ ਹੋਣ ਵਾਲੇ ਕਿਸੇ ਵੀ ਗਲਤ ਫਹਿਮੀ ਜਾਂ ਗਲਤ ਵਿਆਖਿਆ ਲਈ ਅਸੀਂ ਜ਼ਿੰਮੇਵਾਰ ਨਹੀਂ ਹਾਂ।\n"
   ]
  }
 ],
 "metadata": {
  "kernelspec": {
   "display_name": "agentenv",
   "language": "python",
   "name": "python3"
  },
  "language_info": {
   "codemirror_mode": {
    "name": "ipython",
    "version": 3
   },
   "file_extension": ".py",
   "mimetype": "text/x-python",
   "name": "python",
   "nbconvert_exporter": "python",
   "pygments_lexer": "ipython3",
   "version": "3.12.10"
  },
  "coopTranslator": {
   "original_hash": "895219f8bd5ab87c5bd640a6fce58ff8",
   "translation_date": "2025-10-02T11:55:14+00:00",
   "source_file": "07-planning-design/code_samples/07-python-agent-framework.ipynb",
   "language_code": "pa"
  }
 },
 "nbformat": 4,
 "nbformat_minor": 5
}