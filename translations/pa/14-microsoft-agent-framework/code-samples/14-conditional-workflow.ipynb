{
 "cells": [
  {
   "cell_type": "code",
   "execution_count": 1,
   "id": "4b2cf5f5",
   "metadata": {},
   "outputs": [
    {
     "name": "stdout",
     "output_type": "stream",
     "text": [
      "✅ All imports successful!\n"
     ]
    }
   ],
   "source": [
    "import asyncio\n",
    "import json\n",
    "import os\n",
    "from typing import Annotated, Any, Never\n",
    "\n",
    "from agent_framework import (\n",
    "    AgentExecutor,\n",
    "    AgentExecutorRequest,\n",
    "    AgentExecutorResponse,\n",
    "    ChatMessage,\n",
    "    Role,\n",
    "    WorkflowBuilder,\n",
    "    WorkflowContext,\n",
    "    ai_function,\n",
    "    executor,\n",
    ")\n",
    "\n",
    "# 🤖 GitHub Models or OpenAI client integration\n",
    "from agent_framework.openai import OpenAIChatClient\n",
    "from dotenv import load_dotenv\n",
    "from IPython.display import HTML, display\n",
    "from pydantic import BaseModel\n",
    "\n",
    "print(\"✅ All imports successful!\")"
   ]
  },
  {
   "cell_type": "markdown",
   "id": "001c224e",
   "metadata": {},
   "source": [
    "## ਪਦਾਅ 1: ਸੰਰਚਿਤ ਨਤੀਜਿਆਂ ਲਈ Pydantic ਮਾਡਲਾਂ ਦੀ ਪਰਿਭਾਸ਼ਾ ਦਿਓ\n",
    "\n",
    "ਇਹ ਮਾਡਲ **schema** ਨੂੰ ਪਰਿਭਾਸ਼ਿਤ ਕਰਦੇ ਹਨ ਜੋ ਏਜੰਟ ਵਾਪਸ ਕਰਨਗੇ। Pydantic ਨਾਲ `response_format` ਦੀ ਵਰਤੋਂ ਕਰਨ ਨਾਲ ਇਹ ਯਕੀਨੀ ਬਣਦਾ ਹੈ:\n",
    "- ✅ ਟਾਈਪ-ਸੇਫ ਡਾਟਾ ਐਕਸਟ੍ਰੈਕਸ਼ਨ\n",
    "- ✅ ਸਵੈਚਾਲਿਤ ਵੈਰੀਫਿਕੇਸ਼ਨ\n",
    "- ✅ ਫ੍ਰੀ-ਟੈਕਸਟ ਜਵਾਬਾਂ ਤੋਂ ਕੋਈ ਪਾਰਸਿੰਗ ਗਲਤੀਆਂ ਨਹੀਂ\n",
    "- ✅ ਖੇਤਰਾਂ ਦੇ ਆਧਾਰ 'ਤੇ ਆਸਾਨ ਸ਼ਰਤੀ ਰੂਟਿੰਗ\n"
   ]
  },
  {
   "cell_type": "code",
   "execution_count": 2,
   "id": "6c2ef582",
   "metadata": {},
   "outputs": [
    {
     "name": "stdout",
     "output_type": "stream",
     "text": [
      "✅ Pydantic models defined:\n",
      "   - BookingCheckResult (availability check)\n",
      "   - AlternativeResult (alternative suggestion)\n",
      "   - BookingConfirmation (booking confirmation)\n"
     ]
    }
   ],
   "source": [
    "class BookingCheckResult(BaseModel):\n",
    "    \"\"\"Result from checking hotel availability at a destination.\"\"\"\n",
    "\n",
    "    destination: str\n",
    "    has_availability: bool\n",
    "    message: str\n",
    "\n",
    "\n",
    "class AlternativeResult(BaseModel):\n",
    "    \"\"\"Suggested alternative destination when no rooms available.\"\"\"\n",
    "\n",
    "    alternative_destination: str\n",
    "    reason: str\n",
    "\n",
    "\n",
    "class BookingConfirmation(BaseModel):\n",
    "    \"\"\"Booking suggestion when rooms are available.\"\"\"\n",
    "\n",
    "    destination: str\n",
    "    action: str\n",
    "    message: str\n",
    "\n",
    "\n",
    "print(\"✅ Pydantic models defined:\")\n",
    "print(\"   - BookingCheckResult (availability check)\")\n",
    "print(\"   - AlternativeResult (alternative suggestion)\")\n",
    "print(\"   - BookingConfirmation (booking confirmation)\")"
   ]
  },
  {
   "cell_type": "markdown",
   "id": "48423ecc",
   "metadata": {},
   "source": [
    "## ਕਦਮ 2: ਹੋਟਲ ਬੁਕਿੰਗ ਟੂਲ ਬਣਾਓ\n",
    "\n",
    "ਇਹ ਟੂਲ ਉਹ ਹੈ ਜਿਸਨੂੰ **availability_agent** ਕਮਰੇ ਉਪਲਬਧ ਹਨ ਜਾਂ ਨਹੀਂ, ਇਹ ਚੈੱਕ ਕਰਨ ਲਈ ਕਾਲ ਕਰੇਗਾ। ਅਸੀਂ `@ai_function` ਡੈਕੋਰੇਟਰ ਦੀ ਵਰਤੋਂ ਕਰਦੇ ਹਾਂ ਤਾਂ ਜੋ:\n",
    "- ਇੱਕ Python ਫੰਕਸ਼ਨ ਨੂੰ AI-ਕਾਲ ਕਰਨ ਯੋਗ ਟੂਲ ਵਿੱਚ ਬਦਲਿਆ ਜਾ ਸਕੇ\n",
    "- LLM ਲਈ JSON schema ਆਟੋਮੈਟਿਕ ਤੌਰ 'ਤੇ ਤਿਆਰ ਕੀਤਾ ਜਾਵੇ\n",
    "- ਪੈਰਾਮੀਟਰ ਵੈਲੀਡੇਸ਼ਨ ਨੂੰ ਹੈਂਡਲ ਕੀਤਾ ਜਾਵੇ\n",
    "- ਏਜੰਟਾਂ ਦੁਆਰਾ ਆਟੋਮੈਟਿਕ ਕਾਲਿੰਗ ਨੂੰ ਸਮਰਥਿਤ ਕੀਤਾ ਜਾਵੇ\n",
    "\n",
    "ਇਸ ਡੈਮੋ ਲਈ:\n",
    "- **ਸਟਾਕਹੋਮ, ਸੀਐਟਲ, ਟੋਕੀਓ, ਲੰਡਨ, ਐਮਸਟਰਡਮ** → ਕਮਰੇ ਉਪਲਬਧ ਹਨ ✅\n",
    "- **ਹੋਰ ਸਾਰੇ ਸ਼ਹਿਰ** → ਕਮਰੇ ਉਪਲਬਧ ਨਹੀਂ ❌\n"
   ]
  },
  {
   "cell_type": "code",
   "execution_count": 3,
   "id": "aad7e7ec",
   "metadata": {},
   "outputs": [
    {
     "name": "stdout",
     "output_type": "stream",
     "text": [
      "✅ hotel_booking tool created with @ai_function decorator\n"
     ]
    }
   ],
   "source": [
    "@ai_function(description=\"Check hotel room availability for a destination city\")\n",
    "def hotel_booking(destination: Annotated[str, \"The destination city to check for hotel rooms\"]) -> str:\n",
    "    \"\"\"\n",
    "    Simulates checking hotel room availability.\n",
    "    \n",
    "    Returns JSON string with availability status.\n",
    "    \"\"\"\n",
    "    display(\n",
    "        HTML(f\"\"\"\n",
    "        <div style='padding: 15px; background: #e3f2fd; border-left: 4px solid #2196f3; border-radius: 4px; margin: 10px 0;'>\n",
    "            <strong>🔍 Tool Invoked:</strong> hotel_booking(\"{destination}\")\n",
    "        </div>\n",
    "    \"\"\")\n",
    "    )\n",
    "\n",
    "    # Simulate availability check\n",
    "    cities_with_rooms = [\"stockholm\", \"seattle\", \"tokyo\", \"london\", \"amsterdam\"]\n",
    "    has_rooms = destination.lower() in cities_with_rooms\n",
    "\n",
    "    result = {\"has_availability\": has_rooms, \"destination\": destination}\n",
    "\n",
    "    return json.dumps(result)\n",
    "\n",
    "\n",
    "print(\"✅ hotel_booking tool created with @ai_function decorator\")"
   ]
  },
  {
   "cell_type": "markdown",
   "id": "134c54b0",
   "metadata": {},
   "source": [
    "## ਚਰਨ 3: ਰੂਟਿੰਗ ਲਈ ਸ਼ਰਤ ਫੰਕਸ਼ਨ ਪਰਿਭਾਸ਼ਿਤ ਕਰੋ\n",
    "\n",
    "ਇਹ ਫੰਕਸ਼ਨ ਏਜੰਟ ਦੇ ਜਵਾਬ ਦੀ ਜਾਂਚ ਕਰਦੇ ਹਨ ਅਤੇ ਵਰਕਫਲੋ ਵਿੱਚ ਕਿਹੜਾ ਰਾਹ ਲੈਣਾ ਹੈ ਇਹ ਨਿਰਧਾਰਤ ਕਰਦੇ ਹਨ।\n",
    "\n",
    "**ਮੁੱਖ ਪੈਟਰਨ:**\n",
    "1. ਜਾਂਚ ਕਰੋ ਕਿ ਸੁਨੇਹਾ `AgentExecutorResponse` ਹੈ\n",
    "2. ਸੰਰਚਿਤ ਆਉਟਪੁੱਟ (Pydantic ਮਾਡਲ) ਨੂੰ ਪਾਰਸ ਕਰੋ\n",
    "3. ਰੂਟਿੰਗ ਨੂੰ ਨਿਯੰਤਰਿਤ ਕਰਨ ਲਈ `True` ਜਾਂ `False` ਵਾਪਸ ਕਰੋ\n",
    "\n",
    "ਵਰਕਫਲੋ **edges** 'ਤੇ ਇਹ ਸ਼ਰਤਾਂ ਦਾ ਮੁਲਾਂਕਣ ਕਰੇਗਾ ਤਾਂ ਜੋ ਅਗਲੇ ਐਗਜ਼ਿਕਿਊਟਰ ਨੂੰ ਚੁਣਿਆ ਜਾ ਸਕੇ।\n"
   ]
  },
  {
   "cell_type": "code",
   "execution_count": 4,
   "id": "6960edd1",
   "metadata": {},
   "outputs": [
    {
     "name": "stdout",
     "output_type": "stream",
     "text": [
      "✅ Condition functions defined:\n",
      "   - has_availability_condition (routes when rooms exist)\n",
      "   - no_availability_condition (routes when no rooms)\n"
     ]
    }
   ],
   "source": [
    "def has_availability_condition(message: Any) -> bool:\n",
    "    \"\"\"\n",
    "    Condition for routing when hotels ARE available.\n",
    "    \n",
    "    Returns True if the destination has hotel rooms.\n",
    "    \"\"\"\n",
    "    if not isinstance(message, AgentExecutorResponse):\n",
    "        return True  # Default to True if unexpected type\n",
    "\n",
    "    try:\n",
    "        result = BookingCheckResult.model_validate_json(message.agent_run_response.text)\n",
    "\n",
    "        display(\n",
    "            HTML(f\"\"\"\n",
    "            <div style='padding: 12px; background: #c8e6c9; border-left: 4px solid #4caf50; border-radius: 4px; margin: 10px 0;'>\n",
    "                <strong>✅ Condition Check:</strong> has_availability = <strong>{result.has_availability}</strong> for {result.destination}\n",
    "            </div>\n",
    "        \"\"\")\n",
    "        )\n",
    "\n",
    "        return result.has_availability\n",
    "    except Exception as e:\n",
    "        display(\n",
    "            HTML(f\"\"\"\n",
    "            <div style='padding: 12px; background: #ffcdd2; border-left: 4px solid #f44336; border-radius: 4px; margin: 10px 0;'>\n",
    "                <strong>⚠️  Error:</strong> {str(e)}\n",
    "            </div>\n",
    "        \"\"\")\n",
    "        )\n",
    "        return False\n",
    "\n",
    "\n",
    "def no_availability_condition(message: Any) -> bool:\n",
    "    \"\"\"\n",
    "    Condition for routing when hotels are NOT available.\n",
    "    \n",
    "    Returns True if the destination has no hotel rooms.\n",
    "    \"\"\"\n",
    "    if not isinstance(message, AgentExecutorResponse):\n",
    "        return False\n",
    "\n",
    "    try:\n",
    "        result = BookingCheckResult.model_validate_json(message.agent_run_response.text)\n",
    "\n",
    "        display(\n",
    "            HTML(f\"\"\"\n",
    "            <div style='padding: 12px; background: #ffecb3; border-left: 4px solid #ff9800; border-radius: 4px; margin: 10px 0;'>\n",
    "                <strong>❌ Condition Check:</strong> no_availability for {result.destination}\n",
    "            </div>\n",
    "        \"\"\")\n",
    "        )\n",
    "\n",
    "        return not result.has_availability\n",
    "    except Exception as e:\n",
    "        return False\n",
    "\n",
    "\n",
    "print(\"✅ Condition functions defined:\")\n",
    "print(\"   - has_availability_condition (routes when rooms exist)\")\n",
    "print(\"   - no_availability_condition (routes when no rooms)\")"
   ]
  },
  {
   "cell_type": "markdown",
   "id": "9dc783ba",
   "metadata": {},
   "source": [
    "## ਚੌਥਾ ਕਦਮ: ਕਸਟਮ ਡਿਸਪਲੇ ਐਗਜ਼ਿਕਿਊਟਰ ਬਣਾਓ\n",
    "\n",
    "ਐਗਜ਼ਿਕਿਊਟਰ ਉਹ ਵਰਕਫਲੋ ਕੰਪੋਨੈਂਟ ਹਨ ਜੋ ਰੂਪਾਂਤਰਨ ਜਾਂ ਸਾਈਡ ਇਫੈਕਟਸ ਨੂੰ ਅੰਜਾਮ ਦਿੰਦੇ ਹਨ। ਅਸੀਂ `@executor` ਡੈਕੋਰੇਟਰ ਦੀ ਵਰਤੋਂ ਕਰਦੇ ਹਾਂ ਇੱਕ ਕਸਟਮ ਐਗਜ਼ਿਕਿਊਟਰ ਬਣਾਉਣ ਲਈ ਜੋ ਅੰਤਮ ਨਤੀਜਾ ਦਿਖਾਉਂਦਾ ਹੈ।\n",
    "\n",
    "**ਮੁੱਖ ਧਾਰਨਾਵਾਂ:**\n",
    "- `@executor(id=\"...\")` - ਇੱਕ ਫੰਕਸ਼ਨ ਨੂੰ ਵਰਕਫਲੋ ਐਗਜ਼ਿਕਿਊਟਰ ਵਜੋਂ ਰਜਿਸਟਰ ਕਰਦਾ ਹੈ\n",
    "- `WorkflowContext[Never, str]` - ਇਨਪੁਟ/ਆਉਟਪੁਟ ਲਈ ਟਾਈਪ ਹਿੰਟਸ\n",
    "- `ctx.yield_output(...)` - ਅੰਤਮ ਵਰਕਫਲੋ ਨਤੀਜੇ ਨੂੰ ਯੀਲਡ ਕਰਦਾ ਹੈ\n"
   ]
  },
  {
   "cell_type": "code",
   "execution_count": 5,
   "id": "c67f6b55",
   "metadata": {},
   "outputs": [
    {
     "name": "stdout",
     "output_type": "stream",
     "text": [
      "✅ display_result executor created with @executor decorator\n"
     ]
    }
   ],
   "source": [
    "@executor(id=\"display_result\")\n",
    "async def display_result(response: AgentExecutorResponse, ctx: WorkflowContext[Never, str]) -> None:\n",
    "    \"\"\"\n",
    "    Display the final result as workflow output.\n",
    "    \n",
    "    This executor receives the final agent response and yields it as the workflow output.\n",
    "    \"\"\"\n",
    "    display(\n",
    "        HTML(\"\"\"\n",
    "        <div style='padding: 15px; background: #f3e5f5; border-left: 4px solid #9c27b0; border-radius: 4px; margin: 10px 0;'>\n",
    "            <strong>📤 Display Executor:</strong> Yielding workflow output\n",
    "        </div>\n",
    "    \"\"\")\n",
    "    )\n",
    "\n",
    "    await ctx.yield_output(response.agent_run_response.text)\n",
    "\n",
    "\n",
    "print(\"✅ display_result executor created with @executor decorator\")"
   ]
  },
  {
   "cell_type": "markdown",
   "id": "7de6eb90",
   "metadata": {},
   "source": [
    "## ਕਦਮ 5: ਵਾਤਾਵਰਣ ਵੈਰੀਏਬਲ ਲੋਡ ਕਰੋ\n",
    "\n",
    "LLM ਕਲਾਇੰਟ ਨੂੰ ਕਨਫਿਗਰ ਕਰੋ। ਇਹ ਉਦਾਹਰਨ ਕੰਮ ਕਰਦੀ ਹੈ:\n",
    "- **GitHub ਮਾਡਲਸ** (GitHub ਟੋਕਨ ਨਾਲ ਮੁਫ਼ਤ ਪੱਧਰ)\n",
    "- **Azure OpenAI**\n",
    "- **OpenAI**\n"
   ]
  },
  {
   "cell_type": "code",
   "execution_count": 6,
   "id": "1e8f0d88",
   "metadata": {},
   "outputs": [],
   "source": [
    "# Load environment variables\n",
    "load_dotenv()\n",
    "\n",
    "# Check for GitHub Models or OpenAI\n",
    "chat_client = OpenAIChatClient(base_url=os.environ.get(\n",
    "    \"GITHUB_ENDPOINT\"), api_key=os.environ.get(\"GITHUB_TOKEN\"), model_id=\"gpt-4o\")"
   ]
  },
  {
   "cell_type": "markdown",
   "id": "3fc61fe7",
   "metadata": {},
   "source": [
    "## ਚਰਨ 6: ਸੰਰਚਿਤ ਨਤੀਜਿਆਂ ਨਾਲ AI ਏਜੰਟ ਬਣਾਓ\n",
    "\n",
    "ਅਸੀਂ **ਤਿੰਨ ਵਿਸ਼ੇਸ਼ ਏਜੰਟ** ਬਣਾਉਂਦੇ ਹਾਂ, ਹਰ ਇੱਕ ਨੂੰ `AgentExecutor` ਵਿੱਚ ਲਪੇਟਿਆ ਜਾਂਦਾ ਹੈ:\n",
    "\n",
    "1. **availability_agent** - ਟੂਲ ਦੀ ਵਰਤੋਂ ਕਰਕੇ ਹੋਟਲ ਦੀ ਉਪਲਬਧਤਾ ਦੀ ਜਾਂਚ ਕਰਦਾ ਹੈ\n",
    "2. **alternative_agent** - ਵਿਕਲਪਕ ਸ਼ਹਿਰਾਂ ਦੀ ਸਲਾਹ ਦਿੰਦਾ ਹੈ (ਜਦੋਂ ਕੋਈ ਕਮਰੇ ਨਹੀਂ ਹੁੰਦੇ)\n",
    "3. **booking_agent** - ਬੁਕਿੰਗ ਲਈ ਪ੍ਰੋਤਸਾਹਿਤ ਕਰਦਾ ਹੈ (ਜਦੋਂ ਕਮਰੇ ਉਪਲਬਧ ਹੁੰਦੇ ਹਨ)\n",
    "\n",
    "**ਮੁੱਖ ਵਿਸ਼ੇਸ਼ਤਾਵਾਂ:**\n",
    "- `tools=[hotel_booking]` - ਏਜੰਟ ਨੂੰ ਟੂਲ ਪ੍ਰਦਾਨ ਕਰਦਾ ਹੈ\n",
    "- `response_format=PydanticModel` - ਸੰਰਚਿਤ JSON ਨਤੀਜਾ ਦੇਣ ਲਈ ਮਜਬੂਰ ਕਰਦਾ ਹੈ\n",
    "- `AgentExecutor(..., id=\"...\")` - ਵਰਕਫਲੋ ਵਿੱਚ ਵਰਤੋਂ ਲਈ ਏਜੰਟ ਨੂੰ ਲਪੇਟਦਾ ਹੈ\n"
   ]
  },
  {
   "cell_type": "code",
   "execution_count": 7,
   "id": "66466dda",
   "metadata": {},
   "outputs": [
    {
     "data": {
      "text/html": [
       "\n",
       "    <div style='padding: 15px; background: #e3f2fd; border-left: 4px solid #2196f3; border-radius: 4px; margin: 10px 0;'>\n",
       "        <strong>✅ Created 3 Agents:</strong>\n",
       "        <ul style='margin: 10px 0 0 0;'>\n",
       "            <li><strong>availability_agent</strong> - Checks availability with hotel_booking tool</li>\n",
       "            <li><strong>alternative_agent</strong> - Suggests alternative cities</li>\n",
       "            <li><strong>booking_agent</strong> - Encourages booking</li>\n",
       "        </ul>\n",
       "    </div>\n"
      ],
      "text/plain": [
       "<IPython.core.display.HTML object>"
      ]
     },
     "metadata": {},
     "output_type": "display_data"
    }
   ],
   "source": [
    "# Agent 1: Check availability with tool\n",
    "availability_agent = AgentExecutor(\n",
    "    chat_client.create_agent(\n",
    "        instructions=(\n",
    "            \"You are a hotel booking assistant that checks room availability. \"\n",
    "            \"Use the hotel_booking tool to check if rooms are available at the destination. \"\n",
    "            \"Return JSON with fields: destination (string), has_availability (bool), and message (string). \"\n",
    "            \"The message should summarize the availability status.\"\n",
    "        ),\n",
    "        tools=[hotel_booking],\n",
    "        response_format=BookingCheckResult,\n",
    "    ),\n",
    "    id=\"availability_agent\",\n",
    ")\n",
    "\n",
    "# Agent 2: Suggest alternative (when no rooms)\n",
    "alternative_agent = AgentExecutor(\n",
    "    chat_client.create_agent(\n",
    "        instructions=(\n",
    "            \"You are a helpful travel assistant. When a user cannot find hotels in their requested city, \"\n",
    "            \"suggest an alternative nearby city that has availability. \"\n",
    "            \"Return JSON with fields: alternative_destination (string) and reason (string). \"\n",
    "            \"Make your suggestion sound appealing and helpful.\"\n",
    "        ),\n",
    "        response_format=AlternativeResult,\n",
    "    ),\n",
    "    id=\"alternative_agent\",\n",
    ")\n",
    "\n",
    "# Agent 3: Suggest booking (when rooms available)\n",
    "booking_agent = AgentExecutor(\n",
    "    chat_client.create_agent(\n",
    "        instructions=(\n",
    "            \"You are a booking assistant. The user has found available hotel rooms. \"\n",
    "            \"Encourage them to book by highlighting the destination's appeal. \"\n",
    "            \"Return JSON with fields: destination (string), action (string), and message (string). \"\n",
    "            \"The action should be 'book_now' and message should be encouraging.\"\n",
    "        ),\n",
    "        response_format=BookingConfirmation,\n",
    "    ),\n",
    "    id=\"booking_agent\",\n",
    ")\n",
    "\n",
    "display(\n",
    "    HTML(\"\"\"\n",
    "    <div style='padding: 15px; background: #e3f2fd; border-left: 4px solid #2196f3; border-radius: 4px; margin: 10px 0;'>\n",
    "        <strong>✅ Created 3 Agents:</strong>\n",
    "        <ul style='margin: 10px 0 0 0;'>\n",
    "            <li><strong>availability_agent</strong> - Checks availability with hotel_booking tool</li>\n",
    "            <li><strong>alternative_agent</strong> - Suggests alternative cities</li>\n",
    "            <li><strong>booking_agent</strong> - Encourages booking</li>\n",
    "        </ul>\n",
    "    </div>\n",
    "\"\"\")\n",
    ")"
   ]
  },
  {
   "cell_type": "markdown",
   "id": "7879a0cb",
   "metadata": {},
   "source": [
    "## ਕਦਮ 7: ਸ਼ਰਤੀ ਕਨੈਕਸ਼ਨਾਂ ਨਾਲ ਵਰਕਫਲੋ ਬਣਾਓ\n",
    "\n",
    "ਹੁਣ ਅਸੀਂ `WorkflowBuilder` ਦੀ ਵਰਤੋਂ ਕਰਕੇ ਸ਼ਰਤੀ ਰੂਟਿੰਗ ਨਾਲ ਗ੍ਰਾਫ ਬਣਾਉਂਦੇ ਹਾਂ:\n",
    "\n",
    "**ਵਰਕਫਲੋ ਸੰਰਚਨਾ:**\n",
    "```\n",
    "availability_agent (START)\n",
    "        ↓\n",
    "   Evaluate conditions\n",
    "        ↙         ↘\n",
    "[no_availability]  [has_availability]\n",
    "        ↓              ↓\n",
    "alternative_agent  booking_agent\n",
    "        ↓              ↓\n",
    "    display_result ←───┘\n",
    "```\n",
    "\n",
    "**ਮੁੱਖ ਤਰੀਕੇ:**\n",
    "- `.set_start_executor(...)` - ਪ੍ਰਵੇਸ਼ ਬਿੰਦੂ ਸੈੱਟ ਕਰਦਾ ਹੈ\n",
    "- `.add_edge(from, to, condition=...)` - ਸ਼ਰਤੀ ਕਨੈਕਸ਼ਨ ਜੋੜਦਾ ਹੈ\n",
    "- `.build()` - ਵਰਕਫਲੋ ਨੂੰ ਅੰਤਮ ਰੂਪ ਦਿੰਦਾ ਹੈ\n"
   ]
  },
  {
   "cell_type": "code",
   "execution_count": 8,
   "id": "90bb29dd",
   "metadata": {},
   "outputs": [
    {
     "data": {
      "text/html": [
       "\n",
       "    <div style='padding: 20px; background: linear-gradient(135deg, #667eea 0%, #764ba2 100%); color: white; border-radius: 8px; margin: 10px 0;'>\n",
       "        <h3 style='margin: 0 0 15px 0;'>✅ Workflow Built Successfully!</h3>\n",
       "        <p style='margin: 0; line-height: 1.6;'>\n",
       "            <strong>Conditional Routing:</strong><br>\n",
       "            • If <strong>NO availability</strong> → alternative_agent → display_result<br>\n",
       "            • If <strong>availability</strong> → booking_agent → display_result\n",
       "        </p>\n",
       "    </div>\n"
      ],
      "text/plain": [
       "<IPython.core.display.HTML object>"
      ]
     },
     "metadata": {},
     "output_type": "display_data"
    }
   ],
   "source": [
    "# Build the workflow with conditional routing\n",
    "workflow = (\n",
    "    WorkflowBuilder()\n",
    "    .set_start_executor(availability_agent)\n",
    "    # NO AVAILABILITY PATH\n",
    "    .add_edge(availability_agent, alternative_agent, condition=no_availability_condition)\n",
    "    .add_edge(alternative_agent, display_result)\n",
    "    # HAS AVAILABILITY PATH\n",
    "    .add_edge(availability_agent, booking_agent, condition=has_availability_condition)\n",
    "    .add_edge(booking_agent, display_result)\n",
    "    .build()\n",
    ")\n",
    "\n",
    "display(\n",
    "    HTML(\"\"\"\n",
    "    <div style='padding: 20px; background: linear-gradient(135deg, #667eea 0%, #764ba2 100%); color: white; border-radius: 8px; margin: 10px 0;'>\n",
    "        <h3 style='margin: 0 0 15px 0;'>✅ Workflow Built Successfully!</h3>\n",
    "        <p style='margin: 0; line-height: 1.6;'>\n",
    "            <strong>Conditional Routing:</strong><br>\n",
    "            • If <strong>NO availability</strong> → alternative_agent → display_result<br>\n",
    "            • If <strong>availability</strong> → booking_agent → display_result\n",
    "        </p>\n",
    "    </div>\n",
    "\"\"\")\n",
    ")"
   ]
  },
  {
   "cell_type": "markdown",
   "id": "0a3ad845",
   "metadata": {},
   "source": [
    "## ਚਰਣ 8: ਟੈਸਟ ਕੇਸ 1 ਚਲਾਓ - ਸ਼ਹਿਰ ਬਿਨਾਂ ਉਪਲਬਧਤਾ (ਪੈਰਿਸ)\n",
    "\n",
    "ਆਓ **ਕੋਈ ਉਪਲਬਧਤਾ ਨਹੀਂ** ਵਾਲੇ ਰਾਹ ਨੂੰ ਟੈਸਟ ਕਰੀਏ, ਪੈਰਿਸ ਵਿੱਚ ਹੋਟਲਾਂ ਦੀ ਬੇਨਤੀ ਕਰਕੇ (ਜਿਸ ਵਿੱਚ ਸਾਡੇ ਸਿਮੂਲੇਸ਼ਨ ਵਿੱਚ ਕੋਈ ਕਮਰੇ ਨਹੀਂ ਹਨ)।\n"
   ]
  },
  {
   "cell_type": "code",
   "execution_count": 9,
   "id": "af1538cd",
   "metadata": {},
   "outputs": [
    {
     "data": {
      "text/html": [
       "\n",
       "    <div style='padding: 20px; background: #fff3e0; border-left: 4px solid #ff9800; border-radius: 8px; margin: 20px 0;'>\n",
       "        <h3 style='margin: 0 0 10px 0; color: #e65100;'>🧪 TEST CASE 1: Paris (No Availability)</h3>\n",
       "        <p style='margin: 0;'>Expected workflow path: availability_agent → alternative_agent → display_result</p>\n",
       "    </div>\n"
      ],
      "text/plain": [
       "<IPython.core.display.HTML object>"
      ]
     },
     "metadata": {},
     "output_type": "display_data"
    },
    {
     "data": {
      "text/html": [
       "\n",
       "        <div style='padding: 15px; background: #e3f2fd; border-left: 4px solid #2196f3; border-radius: 4px; margin: 10px 0;'>\n",
       "            <strong>🔍 Tool Invoked:</strong> hotel_booking(\"Paris\")\n",
       "        </div>\n",
       "    "
      ],
      "text/plain": [
       "<IPython.core.display.HTML object>"
      ]
     },
     "metadata": {},
     "output_type": "display_data"
    },
    {
     "data": {
      "text/html": [
       "\n",
       "            <div style='padding: 12px; background: #ffecb3; border-left: 4px solid #ff9800; border-radius: 4px; margin: 10px 0;'>\n",
       "                <strong>❌ Condition Check:</strong> no_availability for Paris\n",
       "            </div>\n",
       "        "
      ],
      "text/plain": [
       "<IPython.core.display.HTML object>"
      ]
     },
     "metadata": {},
     "output_type": "display_data"
    },
    {
     "data": {
      "text/html": [
       "\n",
       "            <div style='padding: 12px; background: #c8e6c9; border-left: 4px solid #4caf50; border-radius: 4px; margin: 10px 0;'>\n",
       "                <strong>✅ Condition Check:</strong> has_availability = <strong>False</strong> for Paris\n",
       "            </div>\n",
       "        "
      ],
      "text/plain": [
       "<IPython.core.display.HTML object>"
      ]
     },
     "metadata": {},
     "output_type": "display_data"
    },
    {
     "data": {
      "text/html": [
       "\n",
       "        <div style='padding: 15px; background: #f3e5f5; border-left: 4px solid #9c27b0; border-radius: 4px; margin: 10px 0;'>\n",
       "            <strong>📤 Display Executor:</strong> Yielding workflow output\n",
       "        </div>\n",
       "    "
      ],
      "text/plain": [
       "<IPython.core.display.HTML object>"
      ]
     },
     "metadata": {},
     "output_type": "display_data"
    },
    {
     "data": {
      "text/html": [
       "\n",
       "        <div style='padding: 25px; background: linear-gradient(135deg, #FFD700 0%, #FFA500 100%); border-radius: 12px; box-shadow: 0 4px 12px rgba(255,165,0,0.3); margin: 20px 0;'>\n",
       "            <h3 style='margin: 0 0 15px 0; color: #333;'>🏆 WORKFLOW RESULT (Paris)</h3>\n",
       "            <div style='background: white; padding: 20px; border-radius: 8px;'>\n",
       "                <p style='margin: 0 0 10px 0; font-size: 16px;'><strong>Status:</strong> ❌ No rooms in Paris</p>\n",
       "                <p style='margin: 0 0 10px 0; font-size: 16px;'><strong>Alternative Suggestion:</strong> 🏨 Versailles</p>\n",
       "                <p style='margin: 0; font-size: 14px; color: #666;'><strong>Reason:</strong> Versailles is a charming city located near Paris, offering beautiful historic architecture and the renowned Palace of Versailles. It’s an excellent alternative destination to explore while staying close to the capital.</p>\n",
       "            </div>\n",
       "        </div>\n",
       "    "
      ],
      "text/plain": [
       "<IPython.core.display.HTML object>"
      ]
     },
     "metadata": {},
     "output_type": "display_data"
    }
   ],
   "source": [
    "display(\n",
    "    HTML(\"\"\"\n",
    "    <div style='padding: 20px; background: #fff3e0; border-left: 4px solid #ff9800; border-radius: 8px; margin: 20px 0;'>\n",
    "        <h3 style='margin: 0 0 10px 0; color: #e65100;'>🧪 TEST CASE 1: Paris (No Availability)</h3>\n",
    "        <p style='margin: 0;'>Expected workflow path: availability_agent → alternative_agent → display_result</p>\n",
    "    </div>\n",
    "\"\"\")\n",
    ")\n",
    "\n",
    "# Create request for Paris\n",
    "request_paris = AgentExecutorRequest(\n",
    "    messages=[ChatMessage(Role.USER, text=\"I want to book a hotel in Paris\")], should_respond=True\n",
    ")\n",
    "\n",
    "# Run the workflow\n",
    "events_paris = await workflow.run(request_paris)\n",
    "outputs_paris = events_paris.get_outputs()\n",
    "\n",
    "# Display results\n",
    "if outputs_paris:\n",
    "    result_paris = AlternativeResult.model_validate_json(outputs_paris[0])\n",
    "\n",
    "    display(\n",
    "        HTML(f\"\"\"\n",
    "        <div style='padding: 25px; background: linear-gradient(135deg, #FFD700 0%, #FFA500 100%); border-radius: 12px; box-shadow: 0 4px 12px rgba(255,165,0,0.3); margin: 20px 0;'>\n",
    "            <h3 style='margin: 0 0 15px 0; color: #333;'>🏆 WORKFLOW RESULT (Paris)</h3>\n",
    "            <div style='background: white; padding: 20px; border-radius: 8px;'>\n",
    "                <p style='margin: 0 0 10px 0; font-size: 16px;'><strong>Status:</strong> ❌ No rooms in Paris</p>\n",
    "                <p style='margin: 0 0 10px 0; font-size: 16px;'><strong>Alternative Suggestion:</strong> 🏨 {result_paris.alternative_destination}</p>\n",
    "                <p style='margin: 0; font-size: 14px; color: #666;'><strong>Reason:</strong> {result_paris.reason}</p>\n",
    "            </div>\n",
    "        </div>\n",
    "    \"\"\")\n",
    "    )"
   ]
  },
  {
   "cell_type": "markdown",
   "id": "408a3f60",
   "metadata": {},
   "source": [
    "## ਚਰਨ 9: ਟੈਸਟ ਕੇਸ 2 ਚਲਾਓ - ਸ਼ਹਿਰ ਜਿਸ ਵਿੱਚ ਉਪਲਬਧਤਾ ਹੈ (ਸਟਾਕਹੋਮ)\n",
    "\n",
    "ਹੁਣ ਆਓ **ਉਪਲਬਧਤਾ** ਦੇ ਰਾਹ ਨੂੰ ਟੈਸਟ ਕਰੀਏ, ਸਟਾਕਹੋਮ ਵਿੱਚ ਹੋਟਲਾਂ ਦੀ ਬੇਨਤੀ ਕਰਕੇ (ਜਿਸ ਵਿੱਚ ਸਾਡੇ ਸਿਮੂਲੇਸ਼ਨ ਵਿੱਚ ਕਮਰੇ ਹਨ)।\n"
   ]
  },
  {
   "cell_type": "code",
   "execution_count": 10,
   "id": "e1471000",
   "metadata": {},
   "outputs": [
    {
     "data": {
      "text/html": [
       "\n",
       "    <div style='padding: 20px; background: #e8f5e9; border-left: 4px solid #4caf50; border-radius: 8px; margin: 20px 0;'>\n",
       "        <h3 style='margin: 0 0 10px 0; color: #1b5e20;'>🧪 TEST CASE 2: Stockholm (Has Availability)</h3>\n",
       "        <p style='margin: 0;'>Expected workflow path: availability_agent → booking_agent → display_result</p>\n",
       "    </div>\n"
      ],
      "text/plain": [
       "<IPython.core.display.HTML object>"
      ]
     },
     "metadata": {},
     "output_type": "display_data"
    },
    {
     "data": {
      "text/html": [
       "\n",
       "        <div style='padding: 15px; background: #e3f2fd; border-left: 4px solid #2196f3; border-radius: 4px; margin: 10px 0;'>\n",
       "            <strong>🔍 Tool Invoked:</strong> hotel_booking(\"Stockholm\")\n",
       "        </div>\n",
       "    "
      ],
      "text/plain": [
       "<IPython.core.display.HTML object>"
      ]
     },
     "metadata": {},
     "output_type": "display_data"
    },
    {
     "data": {
      "text/html": [
       "\n",
       "            <div style='padding: 12px; background: #ffecb3; border-left: 4px solid #ff9800; border-radius: 4px; margin: 10px 0;'>\n",
       "                <strong>❌ Condition Check:</strong> no_availability for Stockholm\n",
       "            </div>\n",
       "        "
      ],
      "text/plain": [
       "<IPython.core.display.HTML object>"
      ]
     },
     "metadata": {},
     "output_type": "display_data"
    },
    {
     "data": {
      "text/html": [
       "\n",
       "            <div style='padding: 12px; background: #c8e6c9; border-left: 4px solid #4caf50; border-radius: 4px; margin: 10px 0;'>\n",
       "                <strong>✅ Condition Check:</strong> has_availability = <strong>True</strong> for Stockholm\n",
       "            </div>\n",
       "        "
      ],
      "text/plain": [
       "<IPython.core.display.HTML object>"
      ]
     },
     "metadata": {},
     "output_type": "display_data"
    },
    {
     "data": {
      "text/html": [
       "\n",
       "        <div style='padding: 15px; background: #f3e5f5; border-left: 4px solid #9c27b0; border-radius: 4px; margin: 10px 0;'>\n",
       "            <strong>📤 Display Executor:</strong> Yielding workflow output\n",
       "        </div>\n",
       "    "
      ],
      "text/plain": [
       "<IPython.core.display.HTML object>"
      ]
     },
     "metadata": {},
     "output_type": "display_data"
    },
    {
     "data": {
      "text/html": [
       "\n",
       "        <div style='padding: 25px; background: linear-gradient(135deg, #4caf50 0%, #8bc34a 100%); color: white; border-radius: 12px; box-shadow: 0 4px 12px rgba(76,175,80,0.3); margin: 20px 0;'>\n",
       "            <h3 style='margin: 0 0 15px 0;'>🏆 WORKFLOW RESULT (Stockholm)</h3>\n",
       "            <div style='background: white; color: #333; padding: 20px; border-radius: 8px;'>\n",
       "                <p style='margin: 0 0 10px 0; font-size: 16px;'><strong>Status:</strong> ✅ Rooms Available!</p>\n",
       "                <p style='margin: 0 0 10px 0; font-size: 16px;'><strong>Destination:</strong> 🏨 Stockholm</p>\n",
       "                <p style='margin: 0 0 10px 0; font-size: 16px;'><strong>Action:</strong> book_now</p>\n",
       "                <p style='margin: 0; font-size: 14px; color: #666;'><strong>Message:</strong> Stockholm is an enchanting city with striking architecture, rich history, and an incredible cultural scene. Book your hotel now to secure your stay in this captivating destination!</p>\n",
       "            </div>\n",
       "        </div>\n",
       "    "
      ],
      "text/plain": [
       "<IPython.core.display.HTML object>"
      ]
     },
     "metadata": {},
     "output_type": "display_data"
    }
   ],
   "source": [
    "display(\n",
    "    HTML(\"\"\"\n",
    "    <div style='padding: 20px; background: #e8f5e9; border-left: 4px solid #4caf50; border-radius: 8px; margin: 20px 0;'>\n",
    "        <h3 style='margin: 0 0 10px 0; color: #1b5e20;'>🧪 TEST CASE 2: Stockholm (Has Availability)</h3>\n",
    "        <p style='margin: 0;'>Expected workflow path: availability_agent → booking_agent → display_result</p>\n",
    "    </div>\n",
    "\"\"\")\n",
    ")\n",
    "\n",
    "# Create request for Stockholm\n",
    "request_stockholm = AgentExecutorRequest(\n",
    "    messages=[ChatMessage(Role.USER, text=\"I want to book a hotel in Stockholm\")], should_respond=True\n",
    ")\n",
    "\n",
    "# Run the workflow\n",
    "events_stockholm = await workflow.run(request_stockholm)\n",
    "outputs_stockholm = events_stockholm.get_outputs()\n",
    "\n",
    "# Display results\n",
    "if outputs_stockholm:\n",
    "    result_stockholm = BookingConfirmation.model_validate_json(outputs_stockholm[0])\n",
    "\n",
    "    display(\n",
    "        HTML(f\"\"\"\n",
    "        <div style='padding: 25px; background: linear-gradient(135deg, #4caf50 0%, #8bc34a 100%); color: white; border-radius: 12px; box-shadow: 0 4px 12px rgba(76,175,80,0.3); margin: 20px 0;'>\n",
    "            <h3 style='margin: 0 0 15px 0;'>🏆 WORKFLOW RESULT (Stockholm)</h3>\n",
    "            <div style='background: white; color: #333; padding: 20px; border-radius: 8px;'>\n",
    "                <p style='margin: 0 0 10px 0; font-size: 16px;'><strong>Status:</strong> ✅ Rooms Available!</p>\n",
    "                <p style='margin: 0 0 10px 0; font-size: 16px;'><strong>Destination:</strong> 🏨 {result_stockholm.destination}</p>\n",
    "                <p style='margin: 0 0 10px 0; font-size: 16px;'><strong>Action:</strong> {result_stockholm.action}</p>\n",
    "                <p style='margin: 0; font-size: 14px; color: #666;'><strong>Message:</strong> {result_stockholm.message}</p>\n",
    "            </div>\n",
    "        </div>\n",
    "    \"\"\")\n",
    "    )"
   ]
  },
  {
   "cell_type": "markdown",
   "id": "a415537c",
   "metadata": {},
   "source": [
    "## ਮੁੱਖ ਗੱਲਾਂ ਅਤੇ ਅਗਲੇ ਕਦਮ\n",
    "\n",
    "### ✅ ਤੁਸੀਂ ਕੀ ਸਿੱਖਿਆ:\n",
    "\n",
    "1. **WorkflowBuilder ਪੈਟਰਨ**\n",
    "   - ਐਂਟਰੀ ਪਾਇੰਟ ਨੂੰ ਪਰਿਭਾਸ਼ਿਤ ਕਰਨ ਲਈ `.set_start_executor()` ਵਰਤੋ\n",
    "   - ਸ਼ਰਤਾਂ ਦੇ ਅਧਾਰ 'ਤੇ ਰੂਟਿੰਗ ਲਈ `.add_edge(from, to, condition=...)` ਵਰਤੋ\n",
    "   - ਵਰਕਫਲੋ ਨੂੰ ਅੰਤਮ ਰੂਪ ਦੇਣ ਲਈ `.build()` ਕਾਲ ਕਰੋ\n",
    "\n",
    "2. **ਸ਼ਰਤਾਂ ਦੇ ਅਧਾਰ 'ਤੇ ਰੂਟਿੰਗ**\n",
    "   - ਸ਼ਰਤਾਂ ਵਾਲੇ ਫੰਕਸ਼ਨ `AgentExecutorResponse` ਦੀ ਜਾਂਚ ਕਰਦੇ ਹਨ\n",
    "   - ਰੂਟਿੰਗ ਫੈਸਲੇ ਕਰਨ ਲਈ ਸੰਰਚਿਤ ਆਉਟਪੁੱਟ ਨੂੰ ਪਾਰਸ ਕਰੋ\n",
    "   - ਐਜ ਨੂੰ ਐਕਟੀਵੇਟ ਕਰਨ ਲਈ `True` ਵਾਪਸ ਕਰੋ, ਇਸਨੂੰ ਛੱਡਣ ਲਈ `False`\n",
    "\n",
    "3. **ਟੂਲ ਇੰਟੀਗ੍ਰੇਸ਼ਨ**\n",
    "   - Python ਫੰਕਸ਼ਨ ਨੂੰ AI ਟੂਲ ਵਿੱਚ ਬਦਲਣ ਲਈ `@ai_function` ਵਰਤੋ\n",
    "   - ਏਜੰਟ ਜਦੋਂ ਲੋੜ ਹੋਵੇ ਤਾਂ ਟੂਲ ਨੂੰ ਆਪਣੇ ਆਪ ਕਾਲ ਕਰਦੇ ਹਨ\n",
    "   - ਟੂਲ JSON ਵਾਪਸ ਕਰਦੇ ਹਨ ਜਿਸਨੂੰ ਏਜੰਟ ਪਾਰਸ ਕਰ ਸਕਦੇ ਹਨ\n",
    "\n",
    "4. **ਸੰਰਚਿਤ ਆਉਟਪੁੱਟ**\n",
    "   - ਟਾਈਪ-ਸੇਫ ਡਾਟਾ ਐਕਸਟ੍ਰੈਕਸ਼ਨ ਲਈ Pydantic ਮਾਡਲ ਵਰਤੋ\n",
    "   - ਏਜੰਟ ਬਣਾਉਣ ਸਮੇਂ `response_format=MyModel` ਸੈਟ ਕਰੋ\n",
    "   - ਜਵਾਬਾਂ ਨੂੰ `Model.model_validate_json()` ਨਾਲ ਪਾਰਸ ਕਰੋ\n",
    "\n",
    "5. **ਕਸਟਮ ਐਗਜ਼ਿਕਿਊਟਰ**\n",
    "   - ਵਰਕਫਲੋ ਕੰਪੋਨੈਂਟ ਬਣਾਉਣ ਲਈ `@executor(id=\"...\")` ਵਰਤੋ\n",
    "   - ਐਗਜ਼ਿਕਿਊਟਰ ਡਾਟਾ ਨੂੰ ਬਦਲ ਸਕਦੇ ਹਨ ਜਾਂ ਸਾਈਡ ਇਫੈਕਟ ਕਰ ਸਕਦੇ ਹਨ\n",
    "   - ਵਰਕਫਲੋ ਨਤੀਜੇ ਪੈਦਾ ਕਰਨ ਲਈ `ctx.yield_output()` ਵਰਤੋ\n",
    "\n",
    "### 🚀 ਅਸਲ ਦੁਨੀਆ ਵਿੱਚ ਵਰਤੋਂ:\n",
    "\n",
    "- **ਟ੍ਰੈਵਲ ਬੁਕਿੰਗ**: ਉਪਲਬਧਤਾ ਦੀ ਜਾਂਚ ਕਰੋ, ਵਿਕਲਪ ਸੁਝਾਓ, ਵਿਕਲਪਾਂ ਦੀ ਤੁਲਨਾ ਕਰੋ\n",
    "- **ਕਸਟਮਰ ਸਰਵਿਸ**: ਮਾਮਲੇ ਦੀ ਕਿਸਮ, ਭਾਵਨਾ, ਤਰਜੀਹ ਦੇ ਅਧਾਰ 'ਤੇ ਰੂਟ ਕਰੋ\n",
    "- **ਈ-ਕਾਮਰਸ**: ਇਨਵੈਂਟਰੀ ਦੀ ਜਾਂਚ ਕਰੋ, ਵਿਕਲਪ ਸੁਝਾਓ, ਆਰਡਰ ਪ੍ਰੋਸੈਸ ਕਰੋ\n",
    "- **ਕੰਟੈਂਟ ਮੋਡਰੇਸ਼ਨ**: ਟੌਕਸਿਸਿਟੀ ਸਕੋਰ, ਯੂਜ਼ਰ ਫਲੈਗ ਦੇ ਅਧਾਰ 'ਤੇ ਰੂਟ ਕਰੋ\n",
    "- **ਅਪ੍ਰੂਵਲ ਵਰਕਫਲੋ**: ਰਕਮ, ਯੂਜ਼ਰ ਰੋਲ, ਰਿਸਕ ਲੈਵਲ ਦੇ ਅਧਾਰ 'ਤੇ ਰੂਟ ਕਰੋ\n",
    "- **ਮਲਟੀ-ਸਟੇਜ ਪ੍ਰੋਸੈਸਿੰਗ**: ਡਾਟਾ ਦੀ ਗੁਣਵੱਤਾ, ਪੂਰਨਤਾ ਦੇ ਅਧਾਰ 'ਤੇ ਰੂਟ ਕਰੋ\n",
    "\n",
    "### 📚 ਅਗਲੇ ਕਦਮ:\n",
    "\n",
    "- ਹੋਰ ਜਟਿਲ ਸ਼ਰਤਾਂ ਸ਼ਾਮਲ ਕਰੋ (ਕਈ ਮਾਪਦੰਡ)\n",
    "- ਵਰਕਫਲੋ ਸਟੇਟ ਮੈਨੇਜਮੈਂਟ ਨਾਲ ਲੂਪ ਲਾਗੂ ਕਰੋ\n",
    "- ਦੁਬਾਰਾ ਵਰਤਣਯੋਗ ਕੰਪੋਨੈਂਟ ਲਈ ਸਬ-ਵਰਕਫਲੋ ਸ਼ਾਮਲ ਕਰੋ\n",
    "- ਅਸਲ APIs (ਹੋਟਲ ਬੁਕਿੰਗ, ਇਨਵੈਂਟਰੀ ਸਿਸਟਮ) ਨਾਲ ਇੰਟੀਗ੍ਰੇਟ ਕਰੋ\n",
    "- ਐਰਰ ਹੈਂਡਲਿੰਗ ਅਤੇ ਫਾਲਬੈਕ ਪਾਥ ਸ਼ਾਮਲ ਕਰੋ\n",
    "- ਬਿਲਟ-ਇਨ ਵਿਜੁਅਲਾਈਜ਼ੇਸ਼ਨ ਟੂਲ ਨਾਲ ਵਰਕਫਲੋਜ਼ ਨੂੰ ਵਿਜੁਅਲਾਈਜ਼ ਕਰੋ\n"
   ]
  },
  {
   "cell_type": "markdown",
   "metadata": {},
   "source": [
    "\n---\n\n**ਅਸਵੀਕਰਤਾ**:  \nਇਹ ਦਸਤਾਵੇਜ਼ AI ਅਨੁਵਾਦ ਸੇਵਾ [Co-op Translator](https://github.com/Azure/co-op-translator) ਦੀ ਵਰਤੋਂ ਕਰਕੇ ਅਨੁਵਾਦ ਕੀਤਾ ਗਿਆ ਹੈ। ਹਾਲਾਂਕਿ ਅਸੀਂ ਸਹੀ ਹੋਣ ਦਾ ਯਤਨ ਕਰਦੇ ਹਾਂ, ਕਿਰਪਾ ਕਰਕੇ ਧਿਆਨ ਦਿਓ ਕਿ ਸਵੈਚਾਲਿਤ ਅਨੁਵਾਦਾਂ ਵਿੱਚ ਗਲਤੀਆਂ ਜਾਂ ਅਸੁਚੀਤਤਾਵਾਂ ਹੋ ਸਕਦੀਆਂ ਹਨ। ਇਸ ਦਸਤਾਵੇਜ਼ ਦੀ ਮੂਲ ਭਾਸ਼ਾ ਵਿੱਚ ਮੌਜੂਦ ਮੂਲ ਕਾਪੀ ਨੂੰ ਅਧਿਕਾਰਤ ਸਰੋਤ ਮੰਨਿਆ ਜਾਣਾ ਚਾਹੀਦਾ ਹੈ। ਮਹੱਤਵਪੂਰਨ ਜਾਣਕਾਰੀ ਲਈ, ਪੇਸ਼ੇਵਰ ਮਨੁੱਖੀ ਅਨੁਵਾਦ ਦੀ ਸਿਫਾਰਸ਼ ਕੀਤੀ ਜਾਂਦੀ ਹੈ। ਇਸ ਅਨੁਵਾਦ ਦੀ ਵਰਤੋਂ ਤੋਂ ਪੈਦਾ ਹੋਣ ਵਾਲੇ ਕਿਸੇ ਵੀ ਗਲਤਫਹਿਮੀ ਜਾਂ ਗਲਤ ਵਿਆਖਿਆ ਲਈ ਅਸੀਂ ਜ਼ਿੰਮੇਵਾਰ ਨਹੀਂ ਹਾਂ।\n"
   ]
  }
 ],
 "metadata": {
  "kernelspec": {
   "display_name": ".venv (3.12.11)",
   "language": "python",
   "name": "python3"
  },
  "language_info": {
   "codemirror_mode": {
    "name": "ipython",
    "version": 3
   },
   "file_extension": ".py",
   "mimetype": "text/x-python",
   "name": "python",
   "nbconvert_exporter": "python",
   "pygments_lexer": "ipython3",
   "version": "3.12.11"
  },
  "coopTranslator": {
   "original_hash": "30364214cfd3cead472540c147b60b02",
   "translation_date": "2025-10-09T19:43:18+00:00",
   "source_file": "14-microsoft-agent-framework/code-samples/14-conditional-workflow.ipynb",
   "language_code": "pa"
  }
 },
 "nbformat": 4,
 "nbformat_minor": 5
}