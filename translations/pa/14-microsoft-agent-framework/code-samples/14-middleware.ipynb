{
 "cells": [
  {
   "cell_type": "markdown",
   "id": "263ac938",
   "metadata": {},
   "source": [
    "# ਹੋਟਲ ਬੁਕਿੰਗ ਨਾਲ ਪ੍ਰਾਇਰਟੀ ਮੈਂਬਰ ਮਿਡਲਵੇਅਰ\n",
    "\n",
    "ਇਸ ਨੋਟਬੁੱਕ ਵਿੱਚ **ਫੰਕਸ਼ਨ-ਅਧਾਰਤ ਮਿਡਲਵੇਅਰ** ਦੀ ਵਰਤੋਂ ਦਿਖਾਈ ਗਈ ਹੈ ਜੋ ਮਾਈਕਰੋਸਾਫਟ ਏਜੰਟ ਫਰੇਮਵਰਕ ਦੀ ਵਰਤੋਂ ਕਰਦਾ ਹੈ। ਅਸੀਂ ਸ਼ਰਤਮੁਲਕ ਵਰਕਫਲੋ ਉਦਾਹਰਨ 'ਤੇ ਮਿਡਲਵੇਅਰ ਲੇਅਰ ਸ਼ਾਮਲ ਕਰਕੇ ਅੱਗੇ ਵਧਦੇ ਹਾਂ ਜੋ ਪ੍ਰਾਇਰਟੀ ਮੈਂਬਰਾਂ ਨੂੰ ਵਿਸ਼ੇਸ਼ ਸਹੂਲਤਾਂ ਦਿੰਦਾ ਹੈ।\n",
    "\n",
    "## ਤੁਸੀਂ ਕੀ ਸਿੱਖੋਗੇ:\n",
    "1. **ਫੰਕਸ਼ਨ-ਅਧਾਰਤ ਮਿਡਲਵੇਅਰ**: ਫੰਕਸ਼ਨ ਦੇ ਨਤੀਜੇ ਨੂੰ ਰੋਕਣਾ ਅਤੇ ਸੋਧਣਾ\n",
    "2. **ਕੰਟੈਕਸਟ ਤੱਕ ਪਹੁੰਚ**: `context.result` ਨੂੰ ਚਲਾਉਣ ਤੋਂ ਬਾਅਦ ਪੜ੍ਹਨਾ ਅਤੇ ਸੋਧਣਾ\n",
    "3. **ਵਪਾਰਕ ਤਰਕ ਦੀ ਅਮਲਵਾਰੀ**: ਪ੍ਰਾਇਰਟੀ ਮੈਂਬਰਾਂ ਦੇ ਫਾਇਦੇ\n",
    "4. **ਨਤੀਜਾ ਓਵਰਰਾਈਡ**: ਯੂਜ਼ਰ ਦੀ ਸਥਿਤੀ ਦੇ ਅਧਾਰ 'ਤੇ ਫੰਕਸ਼ਨ ਦੇ ਨਤੀਜੇ ਬਦਲਣਾ\n",
    "5. **ਇੱਕੋ ਵਰਕਫਲੋ, ਵੱਖ-ਵੱਖ ਨਤੀਜੇ**: ਮਿਡਲਵੇਅਰ-ਚਲਿਤ ਵਿਹਾਰ ਵਿੱਚ ਬਦਲਾਅ\n",
    "\n",
    "## ਮਿਡਲਵੇਅਰ ਨਾਲ ਵਰਕਫਲੋ ਆਰਕੀਟੈਕਚਰ:\n",
    "\n",
    "```\n",
    "User Input: \"I want to book a hotel in Paris\"\n",
    "                    ↓\n",
    "        [availability_agent]\n",
    "        - Calls hotel_booking tool\n",
    "        - 🌟 priority_check middleware intercepts\n",
    "        - Checks user membership status\n",
    "        - IF priority + no rooms → Override to available!\n",
    "        - Returns BookingCheckResult\n",
    "                    ↓\n",
    "        Conditional Routing\n",
    "           /                    \\\n",
    "    [has_availability]    [no_availability]\n",
    "          ↓                      ↓\n",
    "    [booking_agent]        [alternative_agent]\n",
    "    (Priority override!)   (Regular users)\n",
    "          ↓                      ↓\n",
    "       [display_result executor]\n",
    "```\n",
    "\n",
    "## ਸ਼ਰਤਮੁਲਕ ਵਰਕਫਲੋ ਨਾਲ ਮੁੱਖ ਅੰਤਰ:\n",
    "\n",
    "**ਮਿਡਲਵੇਅਰ ਤੋਂ ਬਿਨਾਂ** (14-conditional-workflow.ipynb):\n",
    "- ਪੈਰਿਸ ਵਿੱਚ ਕੋਈ ਕਮਰੇ ਨਹੀਂ → alternative_agent ਵੱਲ ਰੂਟ ਕਰੋ\n",
    "\n",
    "**ਮਿਡਲਵੇਅਰ ਨਾਲ** (ਇਸ ਨੋਟਬੁੱਕ):\n",
    "- ਆਮ ਯੂਜ਼ਰ + ਪੈਰਿਸ → ਕੋਈ ਕਮਰੇ ਨਹੀਂ → alternative_agent ਵੱਲ ਰੂਟ ਕਰੋ\n",
    "- ਪ੍ਰਾਇਰਟੀ ਯੂਜ਼ਰ + ਪੈਰਿਸ → 🌟 ਮਿਡਲਵੇਅਰ ਓਵਰਰਾਈਡ! → ਉਪਲਬਧ → booking_agent ਵੱਲ ਰੂਟ ਕਰੋ\n",
    "\n",
    "## ਪੂਰਵ ਸ਼ਰਤਾਂ:\n",
    "- ਮਾਈਕਰੋਸਾਫਟ ਏਜੰਟ ਫਰੇਮਵਰਕ ਇੰਸਟਾਲ ਕੀਤਾ ਹੋਇਆ\n",
    "- ਸ਼ਰਤਮੁਲਕ ਵਰਕਫਲੋ ਦੀ ਸਮਝ (14-conditional-workflow.ipynb ਵੇਖੋ)\n",
    "- GitHub ਟੋਕਨ ਜਾਂ OpenAI API ਕੁੰਜੀ\n",
    "- ਮਿਡਲਵੇਅਰ ਪੈਟਰਨ ਦੀ ਬੁਨਿਆਦੀ ਸਮਝ\n"
   ]
  },
  {
   "cell_type": "code",
   "execution_count": 2,
   "id": "ec6cafec",
   "metadata": {},
   "outputs": [
    {
     "name": "stdout",
     "output_type": "stream",
     "text": [
      "✅ All imports successful!\n"
     ]
    }
   ],
   "source": [
    "import asyncio\n",
    "import json\n",
    "import os\n",
    "from collections.abc import Awaitable, Callable\n",
    "from typing import Annotated, Any, Never\n",
    "\n",
    "from agent_framework import (\n",
    "    AgentExecutor,\n",
    "    AgentExecutorRequest,\n",
    "    AgentExecutorResponse,\n",
    "    ChatMessage,\n",
    "    FunctionInvocationContext,\n",
    "    Role,\n",
    "    WorkflowBuilder,\n",
    "    WorkflowContext,\n",
    "    ai_function,\n",
    "    executor,\n",
    ")\n",
    "\n",
    "# 🤖 GitHub Models or OpenAI client integration\n",
    "from agent_framework.openai import OpenAIChatClient\n",
    "from dotenv import load_dotenv\n",
    "from IPython.display import HTML, display\n",
    "from pydantic import BaseModel\n",
    "\n",
    "print(\"✅ All imports successful!\")"
   ]
  },
  {
   "cell_type": "markdown",
   "id": "4d67d9a1",
   "metadata": {},
   "source": [
    "## ਪਹਲਾ ਕਦਮ: ਸੰਰਚਿਤ ਨਤੀਜਿਆਂ ਲਈ Pydantic ਮਾਡਲ ਪਰਿਭਾਸ਼ਿਤ ਕਰੋ\n",
    "\n",
    "ਇਹ ਮਾਡਲ **schema** ਨੂੰ ਪਰਿਭਾਸ਼ਿਤ ਕਰਦੇ ਹਨ ਜੋ ਏਜੰਟ ਵਾਪਸ ਕਰਨਗੇ। ਅਸੀਂ `priority_override` ਫੀਲਡ ਸ਼ਾਮਲ ਕੀਤੀ ਹੈ ਤਾਂ ਜੋ ਮਿਡਲਵੇਅਰ ਦੁਆਰਾ ਉਪਲਬਧਤਾ ਨਤੀਜੇ ਵਿੱਚ ਕੀਤੇ ਗਏ ਬਦਲਾਅ ਨੂੰ ਟ੍ਰੈਕ ਕੀਤਾ ਜਾ ਸਕੇ।\n"
   ]
  },
  {
   "cell_type": "code",
   "execution_count": 3,
   "id": "9973ac54",
   "metadata": {},
   "outputs": [
    {
     "name": "stdout",
     "output_type": "stream",
     "text": [
      "✅ Pydantic models defined:\n",
      "   - BookingCheckResult (availability check with priority_override)\n",
      "   - AlternativeResult (alternative suggestion)\n",
      "   - BookingConfirmation (booking confirmation)\n"
     ]
    }
   ],
   "source": [
    "class BookingCheckResult(BaseModel):\n",
    "    \"\"\"Result from checking hotel availability at a destination.\"\"\"\n",
    "\n",
    "    destination: str\n",
    "    has_availability: bool\n",
    "    message: str\n",
    "    priority_override: bool = False  # 🆕 NEW! Tracks if middleware overrode the result\n",
    "\n",
    "\n",
    "class AlternativeResult(BaseModel):\n",
    "    \"\"\"Suggested alternative destination when no rooms available.\"\"\"\n",
    "\n",
    "    alternative_destination: str\n",
    "    reason: str\n",
    "\n",
    "\n",
    "class BookingConfirmation(BaseModel):\n",
    "    \"\"\"Booking suggestion when rooms are available.\"\"\"\n",
    "\n",
    "    destination: str\n",
    "    action: str\n",
    "    message: str\n",
    "\n",
    "\n",
    "print(\"✅ Pydantic models defined:\")\n",
    "print(\"   - BookingCheckResult (availability check with priority_override)\")\n",
    "print(\"   - AlternativeResult (alternative suggestion)\")\n",
    "print(\"   - BookingConfirmation (booking confirmation)\")"
   ]
  },
  {
   "cell_type": "markdown",
   "id": "8e3d0853",
   "metadata": {},
   "source": [
    "## ਪਦਾਅ 2: ਪ੍ਰਾਇਰਟੀ ਮੈਂਬਰਾਂ ਦਾ ਡੇਟਾਬੇਸ ਪਰਿਭਾਸ਼ਿਤ ਕਰੋ\n",
    "\n",
    "ਇਸ ਡੈਮੋ ਲਈ, ਅਸੀਂ ਪ੍ਰਾਇਰਟੀ ਮੈਂਬਰਸ਼ਿਪ ਡੇਟਾਬੇਸ ਦੀ ਨਕਲ ਕਰਾਂਗੇ। ਪ੍ਰੋਡਕਸ਼ਨ ਵਿੱਚ, ਇਹ ਇੱਕ ਅਸਲੀ ਡੇਟਾਬੇਸ ਜਾਂ API ਤੋਂ ਕੁਇਰੀ ਕਰੇਗਾ।\n",
    "\n",
    "**ਪ੍ਰਾਇਰਟੀ ਮੈਂਬਰ:**\n",
    "- `alice@example.com` - VIP ਮੈਂਬਰ\n",
    "- `bob@example.com` - ਪ੍ਰੀਮੀਅਮ ਮੈਂਬਰ  \n",
    "- `priority_user` - ਟੈਸਟ ਖਾਤਾ\n"
   ]
  },
  {
   "cell_type": "code",
   "execution_count": 4,
   "id": "c6fc0feb",
   "metadata": {},
   "outputs": [
    {
     "name": "stdout",
     "output_type": "stream",
     "text": [
      "✅ Priority members database created\n",
      "   Priority members: 3 users\n"
     ]
    }
   ],
   "source": [
    "# Simulated priority members database\n",
    "PRIORITY_MEMBERS = {\n",
    "    \"alice@example.com\",\n",
    "    \"bob@example.com\",\n",
    "    \"priority_user\",\n",
    "}\n",
    "\n",
    "# Global variable to track current user (in real app, use proper session management)\n",
    "current_user_id = \"regular_user\"  # Default: regular user\n",
    "\n",
    "\n",
    "def set_user(user_id: str):\n",
    "    \"\"\"Set the current user for the session.\"\"\"\n",
    "    global current_user_id\n",
    "    current_user_id = user_id\n",
    "    is_priority = user_id in PRIORITY_MEMBERS\n",
    "    status = \"🌟 PRIORITY MEMBER\" if is_priority else \"👤 Regular User\"\n",
    "\n",
    "    display(\n",
    "        HTML(f\"\"\"\n",
    "        <div style='padding: 15px; background: {\"linear-gradient(135deg, #FFD700 0%, #FFA500 100%)\" if is_priority else \"#e3f2fd\"}; \n",
    "                    border-left: 4px solid {\"#FF6B35\" if is_priority else \"#2196f3\"}; border-radius: 4px; margin: 10px 0;'>\n",
    "            <strong>👤 Current User Set:</strong> {user_id}<br>\n",
    "            <strong>Status:</strong> {status}\n",
    "        </div>\n",
    "    \"\"\")\n",
    "    )\n",
    "\n",
    "\n",
    "print(\"✅ Priority members database created\")\n",
    "print(f\"   Priority members: {len(PRIORITY_MEMBERS)} users\")"
   ]
  },
  {
   "cell_type": "markdown",
   "id": "1b503f57",
   "metadata": {},
   "source": [
    "## ਚਰਨ 3: ਹੋਟਲ ਬੁਕਿੰਗ ਟੂਲ ਬਣਾਓ\n",
    "\n",
    "ਸ਼ਰਤੀ ਵਰਕਫਲੋ ਦੀ ਤਰ੍ਹਾਂ ਹੀ, ਪਰ ਹੁਣ ਇਹ ਮਿਡਲਵੇਅਰ ਦੁਆਰਾ ਰੋਕਿਆ ਜਾਵੇਗਾ!\n"
   ]
  },
  {
   "cell_type": "code",
   "execution_count": 5,
   "id": "1e17f7f2",
   "metadata": {},
   "outputs": [
    {
     "name": "stdout",
     "output_type": "stream",
     "text": [
      "✅ hotel_booking tool created with @ai_function decorator\n"
     ]
    }
   ],
   "source": [
    "@ai_function(description=\"Check hotel room availability for a destination city\")\n",
    "def hotel_booking(destination: Annotated[str, \"The destination city to check for hotel rooms\"]) -> str:\n",
    "    \"\"\"\n",
    "    Simulates checking hotel room availability.\n",
    "    \n",
    "    Returns JSON string with availability status.\n",
    "    \"\"\"\n",
    "    display(\n",
    "        HTML(f\"\"\"\n",
    "        <div style='padding: 15px; background: #e3f2fd; border-left: 4px solid #2196f3; border-radius: 4px; margin: 10px 0;'>\n",
    "            <strong>🔍 Tool Invoked:</strong> hotel_booking(\"{destination}\")\n",
    "        </div>\n",
    "    \"\"\")\n",
    "    )\n",
    "\n",
    "    # Simulate availability check\n",
    "    cities_with_rooms = [\"stockholm\", \"seattle\", \"tokyo\", \"london\", \"amsterdam\"]\n",
    "    has_rooms = destination.lower() in cities_with_rooms\n",
    "\n",
    "    result = {\"has_availability\": has_rooms, \"destination\": destination}\n",
    "\n",
    "    return json.dumps(result)\n",
    "\n",
    "\n",
    "print(\"✅ hotel_booking tool created with @ai_function decorator\")"
   ]
  },
  {
   "cell_type": "markdown",
   "id": "88ffd637",
   "metadata": {},
   "source": [
    "## ਚੌਥਾ ਕਦਮ: 🌟 ਪ੍ਰਾਇਰਟੀ ਚੈੱਕ ਮਿਡਲਵੇਅਰ ਬਣਾਓ (ਮੁੱਖ ਫੀਚਰ!)\n",
    "\n",
    "ਇਹ ਨੋਟਬੁੱਕ ਦੀ **ਮੁੱਖ ਕਾਰਗੁਜ਼ਾਰੀ** ਹੈ। ਮਿਡਲਵੇਅਰ:\n",
    "\n",
    "1. **ਇੰਟਰਸੈਪਟ** ਕਰਦਾ ਹੈ hotel_booking ਫੰਕਸ਼ਨ ਕਾਲ ਨੂੰ\n",
    "2. **ਸਧਾਰਨ ਤੌਰ 'ਤੇ ਚਲਾਉਂਦਾ ਹੈ** ਫੰਕਸ਼ਨ ਨੂੰ `next(context)` ਕਾਲ ਕਰਕੇ\n",
    "3. **ਨਤੀਜੇ ਦੀ ਜਾਂਚ** ਕਰਦਾ ਹੈ `context.result` ਵਿੱਚ\n",
    "4. **ਨਤੀਜੇ ਨੂੰ ਓਵਰਰਾਈਡ** ਕਰਦਾ ਹੈ ਜੇਕਰ ਯੂਜ਼ਰ ਪ੍ਰਾਇਰਟੀ ਹੈ ਅਤੇ ਕੋਈ ਕਮਰੇ ਉਪਲਬਧ ਨਹੀਂ ਹਨ\n",
    "5. **ਸੋਧਿਆ ਹੋਇਆ ਨਤੀਜਾ** ਵਾਪਸ ਏਜੰਟ ਨੂੰ ਦੇਂਦਾ ਹੈ\n",
    "\n",
    "**ਮੁੱਖ ਪੈਟਰਨ:**\n",
    "```python\n",
    "async def my_middleware(context, next):\n",
    "    await next(context)  # Execute function\n",
    "    # Now context.result contains the function's output\n",
    "    if some_condition:\n",
    "        context.result = new_value  # Override!\n",
    "```\n"
   ]
  },
  {
   "cell_type": "code",
   "execution_count": 6,
   "id": "ba160f08",
   "metadata": {},
   "outputs": [
    {
     "name": "stdout",
     "output_type": "stream",
     "text": [
      "✅ priority_check_middleware created\n",
      "   - Intercepts hotel_booking function\n",
      "   - Overrides availability for priority members\n"
     ]
    }
   ],
   "source": [
    "async def priority_check_middleware(\n",
    "    context: FunctionInvocationContext,\n",
    "    next: Callable[[FunctionInvocationContext], Awaitable[None]],\n",
    ") -> None:\n",
    "    \"\"\"\n",
    "    Function middleware that overrides hotel_booking results for priority members.\n",
    "    \n",
    "    Workflow:\n",
    "    1. Let the function execute normally\n",
    "    2. Check if user is a priority member\n",
    "    3. If priority + no availability → Override to make rooms available!\n",
    "    4. Agent will then route to booking path instead of alternative path\n",
    "    \"\"\"\n",
    "    function_name = context.function.name\n",
    "\n",
    "    display(\n",
    "        HTML(f\"\"\"\n",
    "        <div style='padding: 12px; background: #fff3e0; border-left: 4px solid #ff9800; border-radius: 4px; margin: 10px 0;'>\n",
    "            <strong>🔄 Middleware:</strong> Intercepting {function_name}...\n",
    "        </div>\n",
    "    \"\"\")\n",
    "    )\n",
    "\n",
    "    # Execute the original function\n",
    "    await next(context)\n",
    "\n",
    "    # Now inspect and potentially modify the result\n",
    "    if context.result and function_name == \"hotel_booking\":\n",
    "        result_data = json.loads(context.result)\n",
    "        destination = result_data.get(\"destination\", \"\")\n",
    "        has_availability = result_data.get(\"has_availability\", False)\n",
    "\n",
    "        # Check if user is priority member\n",
    "        is_priority = current_user_id in PRIORITY_MEMBERS\n",
    "\n",
    "        # Override logic: Priority member + no availability → Make available!\n",
    "        if is_priority and not has_availability:\n",
    "            display(\n",
    "                HTML(f\"\"\"\n",
    "                <div style='padding: 20px; background: linear-gradient(135deg, #FFD700 0%, #FFA500 100%); \n",
    "                            border-radius: 8px; margin: 10px 0; box-shadow: 0 4px 12px rgba(255,165,0,0.4);'>\n",
    "                    <h3 style='margin: 0 0 10px 0; color: #333;'>🌟 PRIORITY OVERRIDE ACTIVATED! 🌟</h3>\n",
    "                    <p style='margin: 0; color: #555; line-height: 1.6;'>\n",
    "                        <strong>User:</strong> {current_user_id}<br>\n",
    "                        <strong>Status:</strong> VIP Priority Member<br>\n",
    "                        <strong>Action:</strong> Overriding \"No Availability\" for {destination}<br>\n",
    "                        <strong>Result:</strong> ✅ Rooms now available for priority booking!\n",
    "                    </p>\n",
    "                </div>\n",
    "            \"\"\")\n",
    "            )\n",
    "\n",
    "            # Override the result!\n",
    "            result_data[\"has_availability\"] = True\n",
    "            result_data[\"priority_override\"] = True\n",
    "            context.result = json.dumps(result_data)\n",
    "\n",
    "        elif not has_availability:\n",
    "            display(\n",
    "                HTML(f\"\"\"\n",
    "                <div style='padding: 12px; background: #ffebee; border-left: 4px solid #f44336; border-radius: 4px; margin: 10px 0;'>\n",
    "                    <strong>ℹ️ Middleware:</strong> No priority override (user: {current_user_id})\n",
    "                </div>\n",
    "            \"\"\")\n",
    "            )\n",
    "\n",
    "\n",
    "print(\"✅ priority_check_middleware created\")\n",
    "print(\"   - Intercepts hotel_booking function\")\n",
    "print(\"   - Overrides availability for priority members\")"
   ]
  },
  {
   "cell_type": "markdown",
   "id": "630b6c2b",
   "metadata": {},
   "source": [
    "## ਪਦਾਅਵ 5: ਰੂਟਿੰਗ ਲਈ ਸ਼ਰਤ ਫੰਕਸ਼ਨ ਪਰਿਭਾਸ਼ਿਤ ਕਰੋ\n",
    "\n",
    "ਉਹੀ ਸ਼ਰਤ ਫੰਕਸ਼ਨ ਜਿਵੇਂ ਕਿ ਸ਼ਰਤੀ ਵਰਕਫਲੋ - ਇਹ ਸੰਰਚਿਤ ਆਉਟਪੁੱਟ ਦੀ ਜਾਂਚ ਕਰਦੇ ਹਨ ਤਾਂ ਜੋ ਰੂਟਿੰਗ ਦਾ ਨਿਰਧਾਰਨ ਕੀਤਾ ਜਾ ਸਕੇ।\n"
   ]
  },
  {
   "cell_type": "code",
   "execution_count": 7,
   "id": "c82b0633",
   "metadata": {},
   "outputs": [
    {
     "name": "stdout",
     "output_type": "stream",
     "text": [
      "✅ Condition functions defined\n"
     ]
    }
   ],
   "source": [
    "def has_availability_condition(message: Any) -> bool:\n",
    "    \"\"\"Condition for routing when hotels ARE available (including priority overrides!).\"\"\"\n",
    "    if not isinstance(message, AgentExecutorResponse):\n",
    "        return True\n",
    "\n",
    "    try:\n",
    "        result = BookingCheckResult.model_validate_json(message.agent_run_response.text)\n",
    "\n",
    "        # Check if this was a priority override\n",
    "        override_indicator = \" 🌟\" if result.priority_override else \"\"\n",
    "\n",
    "        display(\n",
    "            HTML(f\"\"\"\n",
    "            <div style='padding: 12px; background: #c8e6c9; border-left: 4px solid #4caf50; border-radius: 4px; margin: 10px 0;'>\n",
    "                <strong>✅ Condition Check:</strong> has_availability = <strong>{result.has_availability}</strong> for {result.destination}{override_indicator}\n",
    "            </div>\n",
    "        \"\"\")\n",
    "        )\n",
    "\n",
    "        return result.has_availability\n",
    "    except Exception as e:\n",
    "        display(\n",
    "            HTML(f\"\"\"\n",
    "            <div style='padding: 12px; background: #ffcdd2; border-left: 4px solid #f44336; border-radius: 4px; margin: 10px 0;'>\n",
    "                <strong>⚠️  Error:</strong> {str(e)}\n",
    "            </div>\n",
    "        \"\"\")\n",
    "        )\n",
    "        return False\n",
    "\n",
    "\n",
    "def no_availability_condition(message: Any) -> bool:\n",
    "    \"\"\"Condition for routing when hotels are NOT available.\"\"\"\n",
    "    if not isinstance(message, AgentExecutorResponse):\n",
    "        return False\n",
    "\n",
    "    try:\n",
    "        result = BookingCheckResult.model_validate_json(message.agent_run_response.text)\n",
    "\n",
    "        display(\n",
    "            HTML(f\"\"\"\n",
    "            <div style='padding: 12px; background: #ffecb3; border-left: 4px solid #ff9800; border-radius: 4px; margin: 10px 0;'>\n",
    "                <strong>❌ Condition Check:</strong> no_availability for {result.destination}\n",
    "            </div>\n",
    "        \"\"\")\n",
    "        )\n",
    "\n",
    "        return not result.has_availability\n",
    "    except Exception:\n",
    "        return False\n",
    "\n",
    "\n",
    "print(\"✅ Condition functions defined\")"
   ]
  },
  {
   "cell_type": "markdown",
   "id": "2189c529",
   "metadata": {},
   "source": [
    "## ਕਦਮ 6: ਕਸਟਮ ਡਿਸਪਲੇ ਐਗਜ਼ਿਕਿਊਟਰ ਬਣਾਓ\n",
    "\n",
    "ਪਿਛਲੇ ਵਾਲੇ ਐਗਜ਼ਿਕਿਊਟਰ ਵਰਗਾ ਹੀ - ਅੰਤਿਮ ਵਰਕਫਲੋ ਆਉਟਪੁੱਟ ਦਿਖਾਉਂਦਾ ਹੈ।\n"
   ]
  },
  {
   "cell_type": "code",
   "execution_count": 8,
   "id": "a4cc88da",
   "metadata": {},
   "outputs": [
    {
     "name": "stdout",
     "output_type": "stream",
     "text": [
      "✅ display_result executor created\n"
     ]
    }
   ],
   "source": [
    "@executor(id=\"display_result\")\n",
    "async def display_result(response: AgentExecutorResponse, ctx: WorkflowContext[Never, str]) -> None:\n",
    "    \"\"\"Display the final result as workflow output.\"\"\"\n",
    "    display(\n",
    "        HTML(\"\"\"\n",
    "        <div style='padding: 15px; background: #f3e5f5; border-left: 4px solid #9c27b0; border-radius: 4px; margin: 10px 0;'>\n",
    "            <strong>📤 Display Executor:</strong> Yielding workflow output\n",
    "        </div>\n",
    "    \"\"\")\n",
    "    )\n",
    "\n",
    "    await ctx.yield_output(response.agent_run_response.text)\n",
    "\n",
    "\n",
    "print(\"✅ display_result executor created\")"
   ]
  },
  {
   "cell_type": "markdown",
   "id": "18b1857c",
   "metadata": {},
   "source": [
    "## ਪਦਾਅ 7: ਵਾਤਾਵਰਣ ਵੈਰੀਏਬਲ ਲੋਡ ਕਰੋ\n",
    "\n",
    "LLM ਕਲਾਇੰਟ (GitHub Models ਜਾਂ OpenAI) ਨੂੰ ਕਨਫਿਗਰ ਕਰੋ।\n"
   ]
  },
  {
   "cell_type": "code",
   "execution_count": 10,
   "id": "5e6584c2",
   "metadata": {},
   "outputs": [],
   "source": [
    "# Load environment variables\n",
    "load_dotenv()\n",
    "\n",
    "# Check for GitHub Models or OpenAI\n",
    "chat_client = OpenAIChatClient(base_url=os.environ.get(\n",
    "    \"GITHUB_ENDPOINT\"), api_key=os.environ.get(\"GITHUB_TOKEN\"), model_id=\"gpt-4o\")\n"
   ]
  },
  {
   "cell_type": "markdown",
   "id": "e4993e63",
   "metadata": {},
   "source": [
    "## ਚਰਨ 8: ਮਿਡਲਵੇਅਰ ਨਾਲ AI ਏਜੰਟ ਬਣਾਓ\n",
    "\n",
    "**ਮੁੱਖ ਅੰਤਰ:** ਜਦੋਂ availability_agent ਬਣਾਇਆ ਜਾਂਦਾ ਹੈ, ਅਸੀਂ `middleware` ਪੈਰਾਮੀਟਰ ਪਾਸ ਕਰਦੇ ਹਾਂ!\n",
    "\n",
    "ਇਸ ਤਰੀਕੇ ਨਾਲ ਅਸੀਂ priority_check_middleware ਨੂੰ ਏਜੰਟ ਦੇ ਫੰਕਸ਼ਨ ਕਾਲ ਪਾਈਪਲਾਈਨ ਵਿੱਚ ਸ਼ਾਮਲ ਕਰਦੇ ਹਾਂ।\n"
   ]
  },
  {
   "cell_type": "code",
   "execution_count": null,
   "id": "8218790d",
   "metadata": {},
   "outputs": [
    {
     "data": {
      "text/html": [
       "\n",
       "    <div style='padding: 15px; background: #e3f2fd; border-left: 4px solid #2196f3; border-radius: 4px; margin: 10px 0;'>\n",
       "        <strong>✅ Created 3 Agents:</strong>\n",
       "        <ul style='margin: 10px 0 0 0;'>\n",
       "            <li><strong>availability_agent</strong> - WITH priority_check_middleware 🌟</li>\n",
       "            <li><strong>alternative_agent</strong> - Suggests alternative cities</li>\n",
       "            <li><strong>booking_agent</strong> - Encourages booking</li>\n",
       "        </ul>\n",
       "    </div>\n"
      ],
      "text/plain": [
       "<IPython.core.display.HTML object>"
      ]
     },
     "metadata": {},
     "output_type": "display_data"
    }
   ],
   "source": [
    "# Agent 1: Check availability with tool + middleware\n",
    "availability_agent = AgentExecutor(\n",
    "    chat_client.create_agent(\n",
    "        instructions=(\n",
    "            \"You are a hotel booking assistant that checks room availability. \"\n",
    "            \"Use the hotel_booking tool to check if rooms are available at the destination. \"\n",
    "            \"Return JSON with fields: destination (string), has_availability (bool), message (string), \"\n",
    "            \"and priority_override (bool, true if priority member got special access). \"\n",
    "            \"The message should summarize the availability status and mention if priority override occurred.\"\n",
    "        ),\n",
    "        tools=[hotel_booking],\n",
    "        response_format=BookingCheckResult,\n",
    "        middleware=[priority_check_middleware],  # 🌟 MIDDLEWARE INJECTION!\n",
    "    ),\n",
    "    id=\"availability_agent\",\n",
    ")\n",
    "\n",
    "# Agent 2: Suggest alternative (when no rooms)\n",
    "alternative_agent = AgentExecutor(\n",
    "    chat_client.create_agent(\n",
    "        instructions=(\n",
    "            \"You are a helpful travel assistant. When a user cannot find hotels in their requested city, \"\n",
    "            \"suggest an alternative nearby city that has availability. \"\n",
    "            \"Return JSON with fields: alternative_destination (string) and reason (string). \"\n",
    "            \"Make your suggestion sound appealing and helpful.\"\n",
    "        ),\n",
    "        response_format=AlternativeResult,\n",
    "    ),\n",
    "    id=\"alternative_agent\",\n",
    ")\n",
    "\n",
    "# Agent 3: Suggest booking (when rooms available)\n",
    "booking_agent = AgentExecutor(\n",
    "    chat_client.create_agent(\n",
    "        instructions=(\n",
    "            \"You are a booking assistant. The user has found available hotel rooms. \"\n",
    "            \"Encourage them to book by highlighting the destination's appeal. \"\n",
    "            \"If priority_override is true in the input, mention that they received priority member access. \"\n",
    "            \"Return JSON with fields: destination (string), action (string), and message (string). \"\n",
    "            \"The action should be 'book_now' and message should be encouraging.\"\n",
    "        ),\n",
    "        response_format=BookingConfirmation,\n",
    "    ),\n",
    "    id=\"booking_agent\",\n",
    ")\n",
    "\n",
    "display(\n",
    "    HTML(\"\"\"\n",
    "    <div style='padding: 15px; background: #e3f2fd; border-left: 4px solid #2196f3; border-radius: 4px; margin: 10px 0;'>\n",
    "        <strong>✅ Created 3 Agents:</strong>\n",
    "        <ul style='margin: 10px 0 0 0;'>\n",
    "            <li><strong>availability_agent</strong> - WITH priority_check_middleware 🌟</li>\n",
    "            <li><strong>alternative_agent</strong> - Suggests alternative cities</li>\n",
    "            <li><strong>booking_agent</strong> - Encourages booking</li>\n",
    "        </ul>\n",
    "    </div>\n",
    "\"\"\")\n",
    ")"
   ]
  },
  {
   "cell_type": "markdown",
   "id": "c6c2ac90",
   "metadata": {},
   "source": [
    "## ਚਰਨ 9: ਵਰਕਫਲੋ ਬਣਾਓ\n",
    "\n",
    "ਪਿਛਲੇ ਵਰਕਫਲੋ ਦੀ ਹੀ ਰਚਨਾ - ਉਪਲਬਧਤਾ ਦੇ ਅਧਾਰ 'ਤੇ ਸ਼ਰਤੀ ਰੂਟਿੰਗ।\n"
   ]
  },
  {
   "cell_type": "code",
   "execution_count": 12,
   "id": "9cc9b853",
   "metadata": {},
   "outputs": [
    {
     "data": {
      "text/html": [
       "\n",
       "    <div style='padding: 20px; background: linear-gradient(135deg, #667eea 0%, #764ba2 100%); color: white; border-radius: 8px; margin: 10px 0;'>\n",
       "        <h3 style='margin: 0 0 15px 0;'>✅ Workflow Built Successfully!</h3>\n",
       "        <p style='margin: 0; line-height: 1.6;'>\n",
       "            <strong>Conditional Routing (Middleware-Aware):</strong><br>\n",
       "            • If <strong>NO availability</strong> → alternative_agent → display_result<br>\n",
       "            • If <strong>availability</strong> (or 🌟 <strong>priority override</strong>) → booking_agent → display_result\n",
       "        </p>\n",
       "    </div>\n"
      ],
      "text/plain": [
       "<IPython.core.display.HTML object>"
      ]
     },
     "metadata": {},
     "output_type": "display_data"
    }
   ],
   "source": [
    "# Build the workflow with conditional routing\n",
    "workflow = (\n",
    "    WorkflowBuilder()\n",
    "    .set_start_executor(availability_agent)\n",
    "    # NO AVAILABILITY PATH\n",
    "    .add_edge(availability_agent, alternative_agent, condition=no_availability_condition)\n",
    "    .add_edge(alternative_agent, display_result)\n",
    "    # HAS AVAILABILITY PATH (can be triggered by middleware override!)\n",
    "    .add_edge(availability_agent, booking_agent, condition=has_availability_condition)\n",
    "    .add_edge(booking_agent, display_result)\n",
    "    .build()\n",
    ")\n",
    "\n",
    "display(\n",
    "    HTML(\"\"\"\n",
    "    <div style='padding: 20px; background: linear-gradient(135deg, #667eea 0%, #764ba2 100%); color: white; border-radius: 8px; margin: 10px 0;'>\n",
    "        <h3 style='margin: 0 0 15px 0;'>✅ Workflow Built Successfully!</h3>\n",
    "        <p style='margin: 0; line-height: 1.6;'>\n",
    "            <strong>Conditional Routing (Middleware-Aware):</strong><br>\n",
    "            • If <strong>NO availability</strong> → alternative_agent → display_result<br>\n",
    "            • If <strong>availability</strong> (or 🌟 <strong>priority override</strong>) → booking_agent → display_result\n",
    "        </p>\n",
    "    </div>\n",
    "\"\"\")\n",
    ")"
   ]
  },
  {
   "cell_type": "markdown",
   "id": "56c53031",
   "metadata": {},
   "source": [
    "## ਚਰਨ 10: ਟੈਸਟ ਕੇਸ 1 - ਪੈਰਿਸ ਵਿੱਚ ਆਮ ਯੂਜ਼ਰ (ਕੋਈ ਓਵਰਰਾਈਡ ਨਹੀਂ)\n",
    "\n",
    "ਇੱਕ ਆਮ ਯੂਜ਼ਰ ਪੈਰਿਸ ਵਿੱਚ ਬੁਕ ਕਰਨ ਦੀ ਕੋਸ਼ਿਸ਼ ਕਰਦਾ ਹੈ → ਕੋਈ ਕਮਰੇ ਨਹੀਂ → ਬਦਲਵਾਂ ਏਜੰਟ ਵੱਲ ਰੂਟ ਕੀਤਾ ਜਾਂਦਾ ਹੈ\n"
   ]
  },
  {
   "cell_type": "code",
   "execution_count": 13,
   "id": "e8cf4e21",
   "metadata": {},
   "outputs": [
    {
     "data": {
      "text/html": [
       "\n",
       "        <div style='padding: 15px; background: #e3f2fd; \n",
       "                    border-left: 4px solid #2196f3; border-radius: 4px; margin: 10px 0;'>\n",
       "            <strong>👤 Current User Set:</strong> regular_user<br>\n",
       "            <strong>Status:</strong> 👤 Regular User\n",
       "        </div>\n",
       "    "
      ],
      "text/plain": [
       "<IPython.core.display.HTML object>"
      ]
     },
     "metadata": {},
     "output_type": "display_data"
    },
    {
     "data": {
      "text/html": [
       "\n",
       "    <div style='padding: 20px; background: #fff3e0; border-left: 4px solid #ff9800; border-radius: 8px; margin: 20px 0;'>\n",
       "        <h3 style='margin: 0 0 10px 0; color: #e65100;'>🧪 TEST CASE 1: Regular User + Paris</h3>\n",
       "        <p style='margin: 0;'><strong>Expected:</strong> No rooms → No middleware override → Alternative suggestion</p>\n",
       "    </div>\n"
      ],
      "text/plain": [
       "<IPython.core.display.HTML object>"
      ]
     },
     "metadata": {},
     "output_type": "display_data"
    },
    {
     "data": {
      "text/html": [
       "\n",
       "        <div style='padding: 12px; background: #fff3e0; border-left: 4px solid #ff9800; border-radius: 4px; margin: 10px 0;'>\n",
       "            <strong>🔄 Middleware:</strong> Intercepting hotel_booking...\n",
       "        </div>\n",
       "    "
      ],
      "text/plain": [
       "<IPython.core.display.HTML object>"
      ]
     },
     "metadata": {},
     "output_type": "display_data"
    },
    {
     "data": {
      "text/html": [
       "\n",
       "        <div style='padding: 15px; background: #e3f2fd; border-left: 4px solid #2196f3; border-radius: 4px; margin: 10px 0;'>\n",
       "            <strong>🔍 Tool Invoked:</strong> hotel_booking(\"Paris\")\n",
       "        </div>\n",
       "    "
      ],
      "text/plain": [
       "<IPython.core.display.HTML object>"
      ]
     },
     "metadata": {},
     "output_type": "display_data"
    },
    {
     "data": {
      "text/html": [
       "\n",
       "                <div style='padding: 12px; background: #ffebee; border-left: 4px solid #f44336; border-radius: 4px; margin: 10px 0;'>\n",
       "                    <strong>ℹ️ Middleware:</strong> No priority override (user: regular_user)\n",
       "                </div>\n",
       "            "
      ],
      "text/plain": [
       "<IPython.core.display.HTML object>"
      ]
     },
     "metadata": {},
     "output_type": "display_data"
    },
    {
     "data": {
      "text/html": [
       "\n",
       "            <div style='padding: 12px; background: #ffecb3; border-left: 4px solid #ff9800; border-radius: 4px; margin: 10px 0;'>\n",
       "                <strong>❌ Condition Check:</strong> no_availability for Paris\n",
       "            </div>\n",
       "        "
      ],
      "text/plain": [
       "<IPython.core.display.HTML object>"
      ]
     },
     "metadata": {},
     "output_type": "display_data"
    },
    {
     "data": {
      "text/html": [
       "\n",
       "            <div style='padding: 12px; background: #c8e6c9; border-left: 4px solid #4caf50; border-radius: 4px; margin: 10px 0;'>\n",
       "                <strong>✅ Condition Check:</strong> has_availability = <strong>False</strong> for Paris\n",
       "            </div>\n",
       "        "
      ],
      "text/plain": [
       "<IPython.core.display.HTML object>"
      ]
     },
     "metadata": {},
     "output_type": "display_data"
    },
    {
     "data": {
      "text/html": [
       "\n",
       "        <div style='padding: 15px; background: #f3e5f5; border-left: 4px solid #9c27b0; border-radius: 4px; margin: 10px 0;'>\n",
       "            <strong>📤 Display Executor:</strong> Yielding workflow output\n",
       "        </div>\n",
       "    "
      ],
      "text/plain": [
       "<IPython.core.display.HTML object>"
      ]
     },
     "metadata": {},
     "output_type": "display_data"
    },
    {
     "data": {
      "text/html": [
       "\n",
       "        <div style='padding: 25px; background: #fff; border: 2px solid #ff9800; border-radius: 12px; margin: 20px 0;'>\n",
       "            <h3 style='margin: 0 0 15px 0; color: #e65100;'>📊 RESULT (Regular User)</h3>\n",
       "            <div style='background: #fff3e0; padding: 20px; border-radius: 8px;'>\n",
       "                <p style='margin: 0 0 10px 0;'><strong>Status:</strong> ❌ No rooms in Paris</p>\n",
       "                <p style='margin: 0 0 10px 0;'><strong>Middleware:</strong> No priority override (regular user)</p>\n",
       "                <p style='margin: 0 0 10px 0;'><strong>Alternative:</strong> 🏨 London</p>\n",
       "                <p style='margin: 0;'><strong>Reason:</strong> Although there are no accommodations available in Paris at this time, you can explore London as an excellent alternative, known for its rich history, iconic landmarks, and vibrant cultural scene.</p>\n",
       "            </div>\n",
       "        </div>\n",
       "    "
      ],
      "text/plain": [
       "<IPython.core.display.HTML object>"
      ]
     },
     "metadata": {},
     "output_type": "display_data"
    }
   ],
   "source": [
    "# Set as regular user\n",
    "set_user(\"regular_user\")\n",
    "\n",
    "display(\n",
    "    HTML(\"\"\"\n",
    "    <div style='padding: 20px; background: #fff3e0; border-left: 4px solid #ff9800; border-radius: 8px; margin: 20px 0;'>\n",
    "        <h3 style='margin: 0 0 10px 0; color: #e65100;'>🧪 TEST CASE 1: Regular User + Paris</h3>\n",
    "        <p style='margin: 0;'><strong>Expected:</strong> No rooms → No middleware override → Alternative suggestion</p>\n",
    "    </div>\n",
    "\"\"\")\n",
    ")\n",
    "\n",
    "# Create request\n",
    "request_regular = AgentExecutorRequest(\n",
    "    messages=[ChatMessage(Role.USER, text=\"I want to book a hotel in Paris\")], should_respond=True\n",
    ")\n",
    "\n",
    "# Run workflow\n",
    "events_regular = await workflow.run(request_regular)\n",
    "outputs_regular = events_regular.get_outputs()\n",
    "\n",
    "# Display results\n",
    "if outputs_regular:\n",
    "    result_regular = AlternativeResult.model_validate_json(outputs_regular[0])\n",
    "\n",
    "    display(\n",
    "        HTML(f\"\"\"\n",
    "        <div style='padding: 25px; background: #fff; border: 2px solid #ff9800; border-radius: 12px; margin: 20px 0;'>\n",
    "            <h3 style='margin: 0 0 15px 0; color: #e65100;'>📊 RESULT (Regular User)</h3>\n",
    "            <div style='background: #fff3e0; padding: 20px; border-radius: 8px;'>\n",
    "                <p style='margin: 0 0 10px 0;'><strong>Status:</strong> ❌ No rooms in Paris</p>\n",
    "                <p style='margin: 0 0 10px 0;'><strong>Middleware:</strong> No priority override (regular user)</p>\n",
    "                <p style='margin: 0 0 10px 0;'><strong>Alternative:</strong> 🏨 {result_regular.alternative_destination}</p>\n",
    "                <p style='margin: 0;'><strong>Reason:</strong> {result_regular.reason}</p>\n",
    "            </div>\n",
    "        </div>\n",
    "    \"\"\")\n",
    "    )"
   ]
  },
  {
   "cell_type": "markdown",
   "id": "cea981b0",
   "metadata": {},
   "source": [
    "## ਚਰਣ 11: ਟੈਸਟ ਕੇਸ 2 - 🌟 ਪੈਰਿਸ ਵਿੱਚ ਪ੍ਰਾਇਰਟੀ ਯੂਜ਼ਰ (ਓਵਰਰਾਈਡ ਨਾਲ!)\n",
    "\n",
    "ਇੱਕ ਪ੍ਰਾਇਰਟੀ ਮੈਂਬਰ ਪੈਰਿਸ ਬੁੱਕ ਕਰਨ ਦੀ ਕੋਸ਼ਿਸ਼ ਕਰਦਾ ਹੈ → ਸ਼ੁਰੂ ਵਿੱਚ ਕੋਈ ਕਮਰੇ ਨਹੀਂ → 🌟 ਮਿਡਲਵੇਅਰ ਓਵਰਰਾਈਡ ਕਰਦਾ ਹੈ! → booking_agent ਵੱਲ ਰੂਟ ਕਰਦਾ ਹੈ\n",
    "\n",
    "**ਇਹ ਮਿਡਲਵੇਅਰ ਦੀ ਤਾਕਤ ਦਾ ਮੁੱਖ ਪ੍ਰਦਰਸ਼ਨ ਹੈ!**\n"
   ]
  },
  {
   "cell_type": "code",
   "execution_count": 14,
   "id": "d390f5ac",
   "metadata": {},
   "outputs": [
    {
     "data": {
      "text/html": [
       "\n",
       "        <div style='padding: 15px; background: linear-gradient(135deg, #FFD700 0%, #FFA500 100%); \n",
       "                    border-left: 4px solid #FF6B35; border-radius: 4px; margin: 10px 0;'>\n",
       "            <strong>👤 Current User Set:</strong> priority_user<br>\n",
       "            <strong>Status:</strong> 🌟 PRIORITY MEMBER\n",
       "        </div>\n",
       "    "
      ],
      "text/plain": [
       "<IPython.core.display.HTML object>"
      ]
     },
     "metadata": {},
     "output_type": "display_data"
    },
    {
     "data": {
      "text/html": [
       "\n",
       "    <div style='padding: 20px; background: linear-gradient(135deg, #FFD700 0%, #FFA500 100%); border-radius: 8px; margin: 20px 0;'>\n",
       "        <h3 style='margin: 0 0 10px 0; color: #333;'>🧪 TEST CASE 2: 🌟 Priority User + Paris</h3>\n",
       "        <p style='margin: 0; color: #555;'><strong>Expected:</strong> No rooms → 🌟 MIDDLEWARE OVERRIDE → Rooms available → Booking suggestion!</p>\n",
       "    </div>\n"
      ],
      "text/plain": [
       "<IPython.core.display.HTML object>"
      ]
     },
     "metadata": {},
     "output_type": "display_data"
    },
    {
     "data": {
      "text/html": [
       "\n",
       "        <div style='padding: 12px; background: #fff3e0; border-left: 4px solid #ff9800; border-radius: 4px; margin: 10px 0;'>\n",
       "            <strong>🔄 Middleware:</strong> Intercepting hotel_booking...\n",
       "        </div>\n",
       "    "
      ],
      "text/plain": [
       "<IPython.core.display.HTML object>"
      ]
     },
     "metadata": {},
     "output_type": "display_data"
    },
    {
     "data": {
      "text/html": [
       "\n",
       "        <div style='padding: 15px; background: #e3f2fd; border-left: 4px solid #2196f3; border-radius: 4px; margin: 10px 0;'>\n",
       "            <strong>🔍 Tool Invoked:</strong> hotel_booking(\"Paris\")\n",
       "        </div>\n",
       "    "
      ],
      "text/plain": [
       "<IPython.core.display.HTML object>"
      ]
     },
     "metadata": {},
     "output_type": "display_data"
    },
    {
     "data": {
      "text/html": [
       "\n",
       "                <div style='padding: 20px; background: linear-gradient(135deg, #FFD700 0%, #FFA500 100%); \n",
       "                            border-radius: 8px; margin: 10px 0; box-shadow: 0 4px 12px rgba(255,165,0,0.4);'>\n",
       "                    <h3 style='margin: 0 0 10px 0; color: #333;'>🌟 PRIORITY OVERRIDE ACTIVATED! 🌟</h3>\n",
       "                    <p style='margin: 0; color: #555; line-height: 1.6;'>\n",
       "                        <strong>User:</strong> priority_user<br>\n",
       "                        <strong>Status:</strong> VIP Priority Member<br>\n",
       "                        <strong>Action:</strong> Overriding \"No Availability\" for Paris<br>\n",
       "                        <strong>Result:</strong> ✅ Rooms now available for priority booking!\n",
       "                    </p>\n",
       "                </div>\n",
       "            "
      ],
      "text/plain": [
       "<IPython.core.display.HTML object>"
      ]
     },
     "metadata": {},
     "output_type": "display_data"
    },
    {
     "data": {
      "text/html": [
       "\n",
       "            <div style='padding: 12px; background: #ffecb3; border-left: 4px solid #ff9800; border-radius: 4px; margin: 10px 0;'>\n",
       "                <strong>❌ Condition Check:</strong> no_availability for Paris\n",
       "            </div>\n",
       "        "
      ],
      "text/plain": [
       "<IPython.core.display.HTML object>"
      ]
     },
     "metadata": {},
     "output_type": "display_data"
    },
    {
     "data": {
      "text/html": [
       "\n",
       "            <div style='padding: 12px; background: #c8e6c9; border-left: 4px solid #4caf50; border-radius: 4px; margin: 10px 0;'>\n",
       "                <strong>✅ Condition Check:</strong> has_availability = <strong>True</strong> for Paris 🌟\n",
       "            </div>\n",
       "        "
      ],
      "text/plain": [
       "<IPython.core.display.HTML object>"
      ]
     },
     "metadata": {},
     "output_type": "display_data"
    },
    {
     "data": {
      "text/html": [
       "\n",
       "        <div style='padding: 15px; background: #f3e5f5; border-left: 4px solid #9c27b0; border-radius: 4px; margin: 10px 0;'>\n",
       "            <strong>📤 Display Executor:</strong> Yielding workflow output\n",
       "        </div>\n",
       "    "
      ],
      "text/plain": [
       "<IPython.core.display.HTML object>"
      ]
     },
     "metadata": {},
     "output_type": "display_data"
    },
    {
     "data": {
      "text/html": [
       "\n",
       "        <div style='padding: 25px; background: linear-gradient(135deg, #FFD700 0%, #FFA500 100%); border-radius: 12px; \n",
       "                    box-shadow: 0 8px 16px rgba(255,165,0,0.4); margin: 20px 0;'>\n",
       "            <h3 style='margin: 0 0 15px 0; color: #333;'>🏆 RESULT (Priority Member) 🌟</h3>\n",
       "            <div style='background: white; padding: 20px; border-radius: 8px;'>\n",
       "                <p style='margin: 0 0 10px 0; font-size: 16px;'><strong>Status:</strong> ✅ Rooms Available (Priority Override!)</p>\n",
       "                <p style='margin: 0 0 10px 0; font-size: 16px;'><strong>Middleware:</strong> 🌟 OVERRIDE ACTIVATED!</p>\n",
       "                <p style='margin: 0 0 10px 0; font-size: 16px;'><strong>Destination:</strong> 🏨 Paris</p>\n",
       "                <p style='margin: 0 0 10px 0; font-size: 16px;'><strong>Action:</strong> book_now</p>\n",
       "                <p style='margin: 0; font-size: 14px; color: #666;'><strong>Message:</strong> Experience the timeless charm of Paris! Rooms are available now, and as a priority member, you have exclusive access. Secure your booking today!</p>\n",
       "                <div style='margin-top: 15px; padding: 15px; background: #fff3cd; border-radius: 6px; border-left: 4px solid #FF6B35;'>\n",
       "                    <strong>💡 What Just Happened:</strong><br>\n",
       "                    1. hotel_booking tool returned \"no availability\"<br>\n",
       "                    2. priority_check_middleware intercepted the result<br>\n",
       "                    3. Middleware checked user status: priority_user ✅<br>\n",
       "                    4. Middleware OVERRODE the result to \"available\"<br>\n",
       "                    5. Workflow routed to booking_agent instead of alternative_agent!\n",
       "                </div>\n",
       "            </div>\n",
       "        </div>\n",
       "    "
      ],
      "text/plain": [
       "<IPython.core.display.HTML object>"
      ]
     },
     "metadata": {},
     "output_type": "display_data"
    }
   ],
   "source": [
    "# Set as priority user\n",
    "set_user(\"priority_user\")\n",
    "\n",
    "display(\n",
    "    HTML(\"\"\"\n",
    "    <div style='padding: 20px; background: linear-gradient(135deg, #FFD700 0%, #FFA500 100%); border-radius: 8px; margin: 20px 0;'>\n",
    "        <h3 style='margin: 0 0 10px 0; color: #333;'>🧪 TEST CASE 2: 🌟 Priority User + Paris</h3>\n",
    "        <p style='margin: 0; color: #555;'><strong>Expected:</strong> No rooms → 🌟 MIDDLEWARE OVERRIDE → Rooms available → Booking suggestion!</p>\n",
    "    </div>\n",
    "\"\"\")\n",
    ")\n",
    "\n",
    "# Create request\n",
    "request_priority = AgentExecutorRequest(\n",
    "    messages=[ChatMessage(Role.USER, text=\"I want to book a hotel in Paris\")], should_respond=True\n",
    ")\n",
    "\n",
    "# Run workflow\n",
    "events_priority = await workflow.run(request_priority)\n",
    "outputs_priority = events_priority.get_outputs()\n",
    "\n",
    "# Display results\n",
    "if outputs_priority:\n",
    "    result_priority = BookingConfirmation.model_validate_json(outputs_priority[0])\n",
    "\n",
    "    display(\n",
    "        HTML(f\"\"\"\n",
    "        <div style='padding: 25px; background: linear-gradient(135deg, #FFD700 0%, #FFA500 100%); border-radius: 12px; \n",
    "                    box-shadow: 0 8px 16px rgba(255,165,0,0.4); margin: 20px 0;'>\n",
    "            <h3 style='margin: 0 0 15px 0; color: #333;'>🏆 RESULT (Priority Member) 🌟</h3>\n",
    "            <div style='background: white; padding: 20px; border-radius: 8px;'>\n",
    "                <p style='margin: 0 0 10px 0; font-size: 16px;'><strong>Status:</strong> ✅ Rooms Available (Priority Override!)</p>\n",
    "                <p style='margin: 0 0 10px 0; font-size: 16px;'><strong>Middleware:</strong> 🌟 OVERRIDE ACTIVATED!</p>\n",
    "                <p style='margin: 0 0 10px 0; font-size: 16px;'><strong>Destination:</strong> 🏨 {result_priority.destination}</p>\n",
    "                <p style='margin: 0 0 10px 0; font-size: 16px;'><strong>Action:</strong> {result_priority.action}</p>\n",
    "                <p style='margin: 0; font-size: 14px; color: #666;'><strong>Message:</strong> {result_priority.message}</p>\n",
    "                <div style='margin-top: 15px; padding: 15px; background: #fff3cd; border-radius: 6px; border-left: 4px solid #FF6B35;'>\n",
    "                    <strong>💡 What Just Happened:</strong><br>\n",
    "                    1. hotel_booking tool returned \"no availability\"<br>\n",
    "                    2. priority_check_middleware intercepted the result<br>\n",
    "                    3. Middleware checked user status: priority_user ✅<br>\n",
    "                    4. Middleware OVERRODE the result to \"available\"<br>\n",
    "                    5. Workflow routed to booking_agent instead of alternative_agent!\n",
    "                </div>\n",
    "            </div>\n",
    "        </div>\n",
    "    \"\"\")\n",
    "    )"
   ]
  },
  {
   "cell_type": "markdown",
   "id": "baab4b1a",
   "metadata": {},
   "source": [
    "## ਕਦਮ 12: ਟੈਸਟ ਕੇਸ 3 - ਸਟਾਕਹੋਮ ਵਿੱਚ ਪ੍ਰਾਇਰਟੀ ਯੂਜ਼ਰ (ਪਹਿਲਾਂ ਹੀ ਉਪਲਬਧ)\n",
    "\n",
    "ਪ੍ਰਾਇਰਟੀ ਯੂਜ਼ਰ ਸਟਾਕਹੋਮ ਦੀ ਕੋਸ਼ਿਸ਼ ਕਰਦਾ ਹੈ → ਕਮਰੇ ਉਪਲਬਧ ਹਨ → ਕੋਈ ਓਵਰਰਾਈਡ ਦੀ ਲੋੜ ਨਹੀਂ → ਬੁਕਿੰਗ ਏਜੰਟ ਵੱਲ ਰੂਟ ਹੁੰਦਾ ਹੈ\n",
    "\n",
    "ਇਹ ਦਿਖਾਉਂਦਾ ਹੈ ਕਿ ਮਿਡਲਵੇਅਰ ਸਿਰਫ਼ ਜਦੋਂ ਲੋੜ ਹੋਵੇ ਤਦ ਹੀ ਕੰਮ ਕਰਦਾ ਹੈ!\n"
   ]
  },
  {
   "cell_type": "code",
   "execution_count": 15,
   "id": "316a0d31",
   "metadata": {},
   "outputs": [
    {
     "data": {
      "text/html": [
       "\n",
       "    <div style='padding: 20px; background: #e8f5e9; border-left: 4px solid #4caf50; border-radius: 8px; margin: 20px 0;'>\n",
       "        <h3 style='margin: 0 0 10px 0; color: #1b5e20;'>🧪 TEST CASE 3: Priority User + Stockholm</h3>\n",
       "        <p style='margin: 0;'><strong>Expected:</strong> Rooms available → No override needed → Booking suggestion</p>\n",
       "    </div>\n"
      ],
      "text/plain": [
       "<IPython.core.display.HTML object>"
      ]
     },
     "metadata": {},
     "output_type": "display_data"
    },
    {
     "data": {
      "text/html": [
       "\n",
       "        <div style='padding: 12px; background: #fff3e0; border-left: 4px solid #ff9800; border-radius: 4px; margin: 10px 0;'>\n",
       "            <strong>🔄 Middleware:</strong> Intercepting hotel_booking...\n",
       "        </div>\n",
       "    "
      ],
      "text/plain": [
       "<IPython.core.display.HTML object>"
      ]
     },
     "metadata": {},
     "output_type": "display_data"
    },
    {
     "data": {
      "text/html": [
       "\n",
       "        <div style='padding: 15px; background: #e3f2fd; border-left: 4px solid #2196f3; border-radius: 4px; margin: 10px 0;'>\n",
       "            <strong>🔍 Tool Invoked:</strong> hotel_booking(\"Stockholm\")\n",
       "        </div>\n",
       "    "
      ],
      "text/plain": [
       "<IPython.core.display.HTML object>"
      ]
     },
     "metadata": {},
     "output_type": "display_data"
    },
    {
     "data": {
      "text/html": [
       "\n",
       "            <div style='padding: 12px; background: #ffecb3; border-left: 4px solid #ff9800; border-radius: 4px; margin: 10px 0;'>\n",
       "                <strong>❌ Condition Check:</strong> no_availability for Stockholm\n",
       "            </div>\n",
       "        "
      ],
      "text/plain": [
       "<IPython.core.display.HTML object>"
      ]
     },
     "metadata": {},
     "output_type": "display_data"
    },
    {
     "data": {
      "text/html": [
       "\n",
       "            <div style='padding: 12px; background: #c8e6c9; border-left: 4px solid #4caf50; border-radius: 4px; margin: 10px 0;'>\n",
       "                <strong>✅ Condition Check:</strong> has_availability = <strong>True</strong> for Stockholm\n",
       "            </div>\n",
       "        "
      ],
      "text/plain": [
       "<IPython.core.display.HTML object>"
      ]
     },
     "metadata": {},
     "output_type": "display_data"
    },
    {
     "data": {
      "text/html": [
       "\n",
       "        <div style='padding: 15px; background: #f3e5f5; border-left: 4px solid #9c27b0; border-radius: 4px; margin: 10px 0;'>\n",
       "            <strong>📤 Display Executor:</strong> Yielding workflow output\n",
       "        </div>\n",
       "    "
      ],
      "text/plain": [
       "<IPython.core.display.HTML object>"
      ]
     },
     "metadata": {},
     "output_type": "display_data"
    },
    {
     "data": {
      "text/html": [
       "\n",
       "        <div style='padding: 25px; background: linear-gradient(135deg, #4caf50 0%, #8bc34a 100%); color: white; border-radius: 12px; \n",
       "                    box-shadow: 0 4px 12px rgba(76,175,80,0.3); margin: 20px 0;'>\n",
       "            <h3 style='margin: 0 0 15px 0;'>🏆 RESULT (Priority User - No Override Needed)</h3>\n",
       "            <div style='background: white; color: #333; padding: 20px; border-radius: 8px;'>\n",
       "                <p style='margin: 0 0 10px 0; font-size: 16px;'><strong>Status:</strong> ✅ Rooms Available (Natural)</p>\n",
       "                <p style='margin: 0 0 10px 0; font-size: 16px;'><strong>Middleware:</strong> No override needed</p>\n",
       "                <p style='margin: 0 0 10px 0; font-size: 16px;'><strong>Destination:</strong> 🏨 Stockholm</p>\n",
       "                <p style='margin: 0 0 10px 0; font-size: 16px;'><strong>Action:</strong> book_now</p>\n",
       "                <p style='margin: 0; font-size: 14px; color: #666;'><strong>Message:</strong> Discover the beauty and history of Stockholm! Rooms are currently available, so don't miss the chance to secure your ideal stay.</p>\n",
       "                <div style='margin-top: 15px; padding: 15px; background: #e8f5e9; border-radius: 6px; border-left: 4px solid #4caf50;'>\n",
       "                    <strong>💡 Middleware Behavior:</strong><br>\n",
       "                    • hotel_booking returned \"available\" naturally<br>\n",
       "                    • Middleware saw available = true → No override needed<br>\n",
       "                    • Workflow proceeded normally to booking_agent\n",
       "                </div>\n",
       "            </div>\n",
       "        </div>\n",
       "    "
      ],
      "text/plain": [
       "<IPython.core.display.HTML object>"
      ]
     },
     "metadata": {},
     "output_type": "display_data"
    }
   ],
   "source": [
    "# Priority user is still set from previous test\n",
    "\n",
    "display(\n",
    "    HTML(\"\"\"\n",
    "    <div style='padding: 20px; background: #e8f5e9; border-left: 4px solid #4caf50; border-radius: 8px; margin: 20px 0;'>\n",
    "        <h3 style='margin: 0 0 10px 0; color: #1b5e20;'>🧪 TEST CASE 3: Priority User + Stockholm</h3>\n",
    "        <p style='margin: 0;'><strong>Expected:</strong> Rooms available → No override needed → Booking suggestion</p>\n",
    "    </div>\n",
    "\"\"\")\n",
    ")\n",
    "\n",
    "# Create request\n",
    "request_stockholm = AgentExecutorRequest(\n",
    "    messages=[ChatMessage(Role.USER, text=\"I want to book a hotel in Stockholm\")], should_respond=True\n",
    ")\n",
    "\n",
    "# Run workflow\n",
    "events_stockholm = await workflow.run(request_stockholm)\n",
    "outputs_stockholm = events_stockholm.get_outputs()\n",
    "\n",
    "# Display results\n",
    "if outputs_stockholm:\n",
    "    result_stockholm = BookingConfirmation.model_validate_json(outputs_stockholm[0])\n",
    "\n",
    "    display(\n",
    "        HTML(f\"\"\"\n",
    "        <div style='padding: 25px; background: linear-gradient(135deg, #4caf50 0%, #8bc34a 100%); color: white; border-radius: 12px; \n",
    "                    box-shadow: 0 4px 12px rgba(76,175,80,0.3); margin: 20px 0;'>\n",
    "            <h3 style='margin: 0 0 15px 0;'>🏆 RESULT (Priority User - No Override Needed)</h3>\n",
    "            <div style='background: white; color: #333; padding: 20px; border-radius: 8px;'>\n",
    "                <p style='margin: 0 0 10px 0; font-size: 16px;'><strong>Status:</strong> ✅ Rooms Available (Natural)</p>\n",
    "                <p style='margin: 0 0 10px 0; font-size: 16px;'><strong>Middleware:</strong> No override needed</p>\n",
    "                <p style='margin: 0 0 10px 0; font-size: 16px;'><strong>Destination:</strong> 🏨 {result_stockholm.destination}</p>\n",
    "                <p style='margin: 0 0 10px 0; font-size: 16px;'><strong>Action:</strong> {result_stockholm.action}</p>\n",
    "                <p style='margin: 0; font-size: 14px; color: #666;'><strong>Message:</strong> {result_stockholm.message}</p>\n",
    "                <div style='margin-top: 15px; padding: 15px; background: #e8f5e9; border-radius: 6px; border-left: 4px solid #4caf50;'>\n",
    "                    <strong>💡 Middleware Behavior:</strong><br>\n",
    "                    • hotel_booking returned \"available\" naturally<br>\n",
    "                    • Middleware saw available = true → No override needed<br>\n",
    "                    • Workflow proceeded normally to booking_agent\n",
    "                </div>\n",
    "            </div>\n",
    "        </div>\n",
    "    \"\"\")\n",
    "    )"
   ]
  },
  {
   "cell_type": "markdown",
   "id": "e498ee16",
   "metadata": {},
   "source": [
    "## ਮੁੱਖ ਨਕਤੇ ਅਤੇ ਮਿਡਲਵੇਅਰ ਸੰਕਲਪ\n",
    "\n",
    "### ✅ ਤੁਸੀਂ ਕੀ ਸਿੱਖਿਆ:\n",
    "\n",
    "#### **1. ਫੰਕਸ਼ਨ-ਅਧਾਰਿਤ ਮਿਡਲਵੇਅਰ ਪੈਟਰਨ**\n",
    "\n",
    "ਮਿਡਲਵੇਅਰ ਇੱਕ ਸਧਾਰਣ async ਫੰਕਸ਼ਨ ਦੀ ਵਰਤੋਂ ਕਰਕੇ ਫੰਕਸ਼ਨ ਕਾਲਾਂ ਨੂੰ ਰੋਕਦਾ ਹੈ:\n",
    "\n",
    "```python\n",
    "async def my_middleware(\n",
    "    context: FunctionInvocationContext,\n",
    "    next: Callable,\n",
    ") -> None:\n",
    "    # Before function execution\n",
    "    print(\"Intercepting...\")\n",
    "    \n",
    "    # Execute the function\n",
    "    await next(context)\n",
    "    \n",
    "    # After function execution - inspect result\n",
    "    if context.result:\n",
    "        # Modify result if needed\n",
    "        context.result = modified_value\n",
    "```\n",
    "\n",
    "#### **2. ਸੰਦਰਭ ਤੱਕ ਪਹੁੰਚ ਅਤੇ ਨਤੀਜੇ ਨੂੰ ਓਵਰਰਾਈਡ ਕਰਨਾ**\n",
    "\n",
    "- `context.function` - ਕਾਲ ਕੀਤੇ ਜਾ ਰਹੇ ਫੰਕਸ਼ਨ ਤੱਕ ਪਹੁੰਚੋ\n",
    "- `context.arguments` - ਫੰਕਸ਼ਨ ਦੇ ਆਰਗੂਮੈਂਟਸ ਨੂੰ ਪੜ੍ਹੋ\n",
    "- `context.kwargs` - ਵਾਧੂ ਪੈਰਾਮੀਟਰਾਂ ਤੱਕ ਪਹੁੰਚੋ\n",
    "- `await next(context)` - ਫੰਕਸ਼ਨ ਨੂੰ ਚਲਾਓ\n",
    "- `context.result` - ਫੰਕਸ਼ਨ ਦੇ ਨਤੀਜੇ ਨੂੰ ਪੜ੍ਹੋ/ਸੋਧੋ\n",
    "\n",
    "#### **3. ਬਿਜ਼ਨਸ ਲਾਜਿਕ ਦਾ ਲਾਗੂ ਕਰਨਾ**\n",
    "\n",
    "ਸਾਡਾ ਮਿਡਲਵੇਅਰ ਪ੍ਰਾਥਮਿਕ ਮੈਂਬਰ ਲਾਭਾਂ ਨੂੰ ਲਾਗੂ ਕਰਦਾ ਹੈ:\n",
    "- **ਆਮ ਯੂਜ਼ਰ**: ਕੋਈ ਸੋਧ ਨਹੀਂ, ਸਧਾਰਣ ਵਰਕਫਲੋ\n",
    "- **ਪ੍ਰਾਥਮਿਕ ਯੂਜ਼ਰ**: \"ਕੋਈ ਉਪਲਬਧਤਾ ਨਹੀਂ\" ਨੂੰ ਓਵਰਰਾਈਡ ਕਰਕੇ \"ਉਪਲਬਧ\" ਬਣਾਉਣਾ\n",
    "- **ਸ਼ਰਤੀ ਲਾਜਿਕ**: ਸਿਰਫ਼ ਜਦੋਂ ਲੋੜ ਹੋਵੇ ਤਾਂ ਹੀ ਓਵਰਰਾਈਡ ਕਰਦਾ ਹੈ\n",
    "\n",
    "#### **4. ਇੱਕੋ ਵਰਕਫਲੋ, ਵੱਖਰੇ ਨਤੀਜੇ**\n",
    "\n",
    "ਮਿਡਲਵੇਅਰ ਦੀ ਤਾਕਤ:\n",
    "- ✅ ਵਰਕਫਲੋ ਸਟ੍ਰਕਚਰ ਵਿੱਚ ਕੋਈ ਬਦਲਾਅ ਨਹੀਂ\n",
    "- ✅ ਟੂਲ ਫੰਕਸ਼ਨ ਵਿੱਚ ਕੋਈ ਬਦਲਾਅ ਨਹੀਂ\n",
    "- ✅ ਸ਼ਰਤੀ ਰੂਟਿੰਗ ਲਾਜਿਕ ਵਿੱਚ ਕੋਈ ਬਦਲਾਅ ਨਹੀਂ\n",
    "- ✅ ਸਿਰਫ਼ ਮਿਡਲਵੇਅਰ → ਵੱਖਰਾ ਵਿਹਾਰ!\n",
    "\n",
    "### 🚀 ਅਸਲ ਦੁਨੀਆ ਵਿੱਚ ਲਾਗੂ ਕਰਨ ਦੇ ਤਰੀਕੇ:\n",
    "\n",
    "1. **ਵੀਆਈਪੀ/ਪ੍ਰੀਮੀਅਮ ਫੀਚਰ**\n",
    "   - ਪ੍ਰੀਮੀਅਮ ਯੂਜ਼ਰਾਂ ਲਈ ਰੇਟ ਲਿਮਿਟਸ ਨੂੰ ਓਵਰਰਾਈਡ ਕਰੋ\n",
    "   - ਸਰੋਤਾਂ ਤੱਕ ਪ੍ਰਾਥਮਿਕ ਪਹੁੰਚ ਦਿਓ\n",
    "   - ਪ੍ਰੀਮੀਅਮ ਫੀਚਰਾਂ ਨੂੰ ਗਤੀਸ਼ੀਲ ਤੌਰ 'ਤੇ ਅਨਲੌਕ ਕਰੋ\n",
    "\n",
    "2. **ਏ/ਬੀ ਟੈਸਟਿੰਗ**\n",
    "   - ਯੂਜ਼ਰਾਂ ਨੂੰ ਵੱਖ-ਵੱਖ ਇੰਪਲੀਮੈਂਟੇਸ਼ਨ ਵੱਲ ਰੂਖ ਕਰਨਾ\n",
    "   - ਖਾਸ ਯੂਜ਼ਰਾਂ ਨਾਲ ਨਵੇਂ ਫੀਚਰਾਂ ਦੀ ਜਾਂਚ ਕਰੋ\n",
    "   - ਫੀਚਰਾਂ ਨੂੰ ਹੌਲੀ-ਹੌਲੀ ਰੋਲਆਉਟ ਕਰੋ\n",
    "\n",
    "3. **ਸੁਰੱਖਿਆ ਅਤੇ ਅਨੁਕੂਲਤਾ**\n",
    "   - ਫੰਕਸ਼ਨ ਕਾਲਾਂ ਦਾ ਆਡਿਟ ਕਰੋ\n",
    "   - ਸੰਵੇਦਨਸ਼ੀਲ ਕਾਰਵਾਈਆਂ ਨੂੰ ਰੋਕੋ\n",
    "   - ਬਿਜ਼ਨਸ ਨਿਯਮਾਂ ਨੂੰ ਲਾਗੂ ਕਰੋ\n",
    "\n",
    "4. **ਪ੍ਰਦਰਸ਼ਨ ਦਾ ਅਪਟਿਮਾਈਜ਼ੇਸ਼ਨ**\n",
    "   - ਖਾਸ ਯੂਜ਼ਰਾਂ ਲਈ ਨਤੀਜੇ ਕੈਸ਼ ਕਰੋ\n",
    "   - ਜਦੋਂ ਸੰਭਵ ਹੋਵੇ ਤਾਂ ਮਹਿੰਗੇ ਕਾਰਵਾਈਆਂ ਨੂੰ ਛੱਡੋ\n",
    "   - ਗਤੀਸ਼ੀਲ ਸਰੋਤਾਂ ਦਾ ਵੰਡ\n",
    "\n",
    "5. **ਗਲਤੀ ਸੰਭਾਲਣਾ ਅਤੇ ਦੁਬਾਰਾ ਕੋਸ਼ਿਸ਼**\n",
    "   - ਗਲਤੀਆਂ ਨੂੰ ਸੁਚੱਜੇ ਢੰਗ ਨਾਲ ਸੰਭਾਲੋ\n",
    "   - ਦੁਬਾਰਾ ਕੋਸ਼ਿਸ਼ ਕਰਨ ਦੀ ਲਾਜਿਕ ਲਾਗੂ ਕਰੋ\n",
    "   - ਵਿਕਲਪਿਕ ਇੰਪਲੀਮੈਂਟੇਸ਼ਨ ਵੱਲ ਵਾਪਸ ਜਾਓ\n",
    "\n",
    "6. **ਲਾਗਿੰਗ ਅਤੇ ਮਾਨੀਟਰਿੰਗ**\n",
    "   - ਫੰਕਸ਼ਨ ਦੇ ਕਾਰਜ ਸਮਿਆਂ ਨੂੰ ਟਰੈਕ ਕਰੋ\n",
    "   - ਪੈਰਾਮੀਟਰਾਂ ਅਤੇ ਨਤੀਜਿਆਂ ਨੂੰ ਲਾਗ ਕਰੋ\n",
    "   - ਵਰਤੋਂ ਦੇ ਪੈਟਰਨਾਂ ਦੀ ਨਿਗਰਾਨੀ ਕਰੋ\n",
    "\n",
    "### 🔑 ਡੇਕੋਰੇਟਰਾਂ ਨਾਲ ਮੁੱਖ ਅੰਤਰ:\n",
    "\n",
    "| ਵਿਸ਼ੇਸ਼ਤਾ | ਡੇਕੋਰੇਟਰ | ਮਿਡਲਵੇਅਰ |\n",
    "|----------|-----------|-----------|\n",
    "| **ਸਕੋਪ** | ਇੱਕ ਫੰਕਸ਼ਨ | ਏਜੰਟ ਦੇ ਸਾਰੇ ਫੰਕਸ਼ਨ |\n",
    "| **ਲਚੀਲਾਪਣ** | ਪਰਿਭਾਸ਼ਾ 'ਤੇ ਨਿਰਧਾਰਿਤ | ਰਨਟਾਈਮ 'ਤੇ ਗਤੀਸ਼ੀਲ |\n",
    "| **ਸੰਦਰਭ** | ਸੀਮਿਤ | ਪੂਰਾ ਏਜੰਟ ਸੰਦਰਭ |\n",
    "| **ਸੰਯੋਜਨ** | ਕਈ ਡੇਕੋਰੇਟਰ | ਮਿਡਲਵੇਅਰ ਪਾਈਪਲਾਈਨ |\n",
    "| **ਏਜੰਟ-ਅਵੇਅਰ** | ਨਹੀਂ | ਹਾਂ (ਏਜੰਟ ਸਟੇਟ ਤੱਕ ਪਹੁੰਚ) |\n",
    "\n",
    "### 📚 ਮਿਡਲਵੇਅਰ ਕਦੋਂ ਵਰਤਣਾ ਹੈ:\n",
    "\n",
    "✅ **ਮਿਡਲਵੇਅਰ ਤਦੋਂ ਵਰਤੋ ਜਦੋਂ:**\n",
    "- ਤੁਹਾਨੂੰ ਯੂਜ਼ਰ/ਸੈਸ਼ਨ ਸਟੇਟ ਦੇ ਆਧਾਰ 'ਤੇ ਵਿਹਾਰ ਨੂੰ ਸੋਧਣ ਦੀ ਲੋੜ ਹੋਵੇ\n",
    "- ਤੁਸੀਂ ਕਈ ਫੰਕਸ਼ਨਾਂ 'ਤੇ ਲਾਜਿਕ ਲਾਗੂ ਕਰਨਾ ਚਾਹੁੰਦੇ ਹੋ\n",
    "- ਤੁਹਾਨੂੰ ਏਜੰਟ-ਸਤਰ ਦੇ ਸੰਦਰਭ ਤੱਕ ਪਹੁੰਚ ਦੀ ਲੋੜ ਹੋਵੇ\n",
    "- ਤੁਸੀਂ ਕ੍ਰਾਸ-ਕਟਿੰਗ ਚਿੰਤਾਵਾਂ (ਲਾਗਿੰਗ, ਪ੍ਰਮਾਣਿਕਤਾ ਆਦਿ) ਲਾਗੂ ਕਰ ਰਹੇ ਹੋ\n",
    "\n",
    "❌ **ਮਿਡਲਵੇਅਰ ਨਾ ਵਰਤੋ ਜਦੋਂ:**\n",
    "- ਸਧਾਰਣ ਇਨਪੁਟ ਵੈਰੀਫਿਕੇਸ਼ਨ (Pydantic ਵਰਤੋ)\n",
    "- ਫੰਕਸ਼ਨ-ਵਿਸ਼ੇਸ਼ ਲਾਜਿਕ (ਫੰਕਸ਼ਨ ਵਿੱਚ ਹੀ ਰੱਖੋ)\n",
    "- ਇੱਕ ਵਾਰ ਦੀ ਸੋਧ (ਸਿਰਫ਼ ਫੰਕਸ਼ਨ ਬਦਲੋ)\n",
    "\n",
    "### 🎓 ਉੱਚ ਪੈਟਰਨ:\n",
    "\n",
    "```python\n",
    "# Multiple middleware (execution order matters!)\n",
    "middleware=[\n",
    "    logging_middleware,      # Logs first\n",
    "    auth_middleware,         # Then checks auth\n",
    "    cache_middleware,        # Then checks cache\n",
    "    rate_limit_middleware,   # Then rate limits\n",
    "    priority_check_middleware  # Finally priority check\n",
    "]\n",
    "\n",
    "# Conditional middleware execution\n",
    "async def conditional_middleware(context, next):\n",
    "    if should_execute(context):\n",
    "        await next(context)\n",
    "        # Modify result\n",
    "    else:\n",
    "        # Skip execution entirely\n",
    "        context.result = cached_value\n",
    "```\n",
    "\n",
    "### 🔗 ਸੰਬੰਧਿਤ ਸੰਕਲਪ:\n",
    "\n",
    "- **ਏਜੰਟ ਮਿਡਲਵੇਅਰ**: agent.run() ਕਾਲਾਂ ਨੂੰ ਰੋਕਦਾ ਹੈ\n",
    "- **ਫੰਕਸ਼ਨ ਮਿਡਲਵੇਅਰ**: ਟੂਲ ਫੰਕਸ਼ਨ ਕਾਲਾਂ ਨੂੰ ਰੋਕਦਾ ਹੈ (ਜੋ ਅਸੀਂ ਵਰਤਿਆ!)\n",
    "- **ਮਿਡਲਵੇਅਰ ਪਾਈਪਲਾਈਨ**: ਕ੍ਰਮਵਾਰ ਚੱਲਣ ਵਾਲੇ ਮਿਡਲਵੇਅਰ ਦੀ ਲੜੀ\n",
    "- **ਸੰਦਰਭ ਪ੍ਰਸਾਰਣ**: ਮਿਡਲਵੇਅਰ ਲੜੀ ਰਾਹੀਂ ਸਟੇਟ ਪਾਸ ਕਰੋ\n"
   ]
  },
  {
   "cell_type": "markdown",
   "metadata": {},
   "source": [
    "\n---\n\n**ਅਸਵੀਕਰਤਾ**:  \nਇਹ ਦਸਤਾਵੇਜ਼ AI ਅਨੁਵਾਦ ਸੇਵਾ [Co-op Translator](https://github.com/Azure/co-op-translator) ਦੀ ਵਰਤੋਂ ਕਰਕੇ ਅਨੁਵਾਦ ਕੀਤਾ ਗਿਆ ਹੈ। ਜਦੋਂ ਕਿ ਅਸੀਂ ਸਹੀ ਹੋਣ ਦੀ ਕੋਸ਼ਿਸ਼ ਕਰਦੇ ਹਾਂ, ਕਿਰਪਾ ਕਰਕੇ ਧਿਆਨ ਦਿਓ ਕਿ ਸਵੈਚਾਲਿਤ ਅਨੁਵਾਦਾਂ ਵਿੱਚ ਗਲਤੀਆਂ ਜਾਂ ਅਸੁਚੱਜੇਪਣ ਹੋ ਸਕਦੇ ਹਨ। ਇਸ ਦੀ ਮੂਲ ਭਾਸ਼ਾ ਵਿੱਚ ਮੌਜੂਦ ਅਸਲ ਦਸਤਾਵੇਜ਼ ਨੂੰ ਅਧਿਕਾਰਤ ਸਰੋਤ ਮੰਨਿਆ ਜਾਣਾ ਚਾਹੀਦਾ ਹੈ। ਮਹੱਤਵਪੂਰਨ ਜਾਣਕਾਰੀ ਲਈ, ਪੇਸ਼ੇਵਰ ਮਨੁੱਖੀ ਅਨੁਵਾਦ ਦੀ ਸਿਫਾਰਸ਼ ਕੀਤੀ ਜਾਂਦੀ ਹੈ। ਇਸ ਅਨੁਵਾਦ ਦੀ ਵਰਤੋਂ ਤੋਂ ਪੈਦਾ ਹੋਣ ਵਾਲੇ ਕਿਸੇ ਵੀ ਗਲਤਫਹਿਮੀ ਜਾਂ ਗਲਤ ਵਿਆਖਿਆ ਲਈ ਅਸੀਂ ਜ਼ਿੰਮੇਵਾਰ ਨਹੀਂ ਹਾਂ।\n"
   ]
  }
 ],
 "metadata": {
  "kernelspec": {
   "display_name": ".venv (3.12.11)",
   "language": "python",
   "name": "python3"
  },
  "language_info": {
   "codemirror_mode": {
    "name": "ipython",
    "version": 3
   },
   "file_extension": ".py",
   "mimetype": "text/x-python",
   "name": "python",
   "nbconvert_exporter": "python",
   "pygments_lexer": "ipython3",
   "version": "3.12.11"
  },
  "coopTranslator": {
   "original_hash": "cfefbf8368dc7fa2b8282495d79cbb48",
   "translation_date": "2025-10-09T19:13:16+00:00",
   "source_file": "14-microsoft-agent-framework/code-samples/14-middleware.ipynb",
   "language_code": "pa"
  }
 },
 "nbformat": 4,
 "nbformat_minor": 5
}