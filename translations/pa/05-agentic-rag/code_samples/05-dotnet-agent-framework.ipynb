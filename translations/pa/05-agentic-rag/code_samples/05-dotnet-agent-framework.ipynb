{
 "cells": [
  {
   "cell_type": "markdown",
   "id": "44b5899e",
   "metadata": {},
   "source": [
    "# 🔍 ਐਂਟਰਪ੍ਰਾਈਜ਼ RAG ਨਾਲ Azure AI Foundry (.NET)\n",
    "\n",
    "## 📋 ਸਿੱਖਣ ਦੇ ਉਦੇਸ਼\n",
    "\n",
    "ਇਹ ਨੋਟਬੁੱਕ ਦਿਖਾਉਂਦੀ ਹੈ ਕਿ Microsoft Agent Framework ਨੂੰ .NET ਅਤੇ Azure AI Foundry ਨਾਲ ਵਰਤ ਕੇ ਐਂਟਰਪ੍ਰਾਈਜ਼-ਗ੍ਰੇਡ Retrieval-Augmented Generation (RAG) ਸਿਸਟਮ ਕਿਵੇਂ ਬਣਾਉਣਾ ਹੈ। ਤੁਸੀਂ ਪ੍ਰੋਡਕਸ਼ਨ-ਤਿਆਰ ਏਜੰਟ ਬਣਾਉਣ ਸਿੱਖੋਗੇ ਜੋ ਦਸਤਾਵੇਜ਼ਾਂ ਦੀ ਖੋਜ ਕਰ ਸਕਦੇ ਹਨ ਅਤੇ ਸੁਰੱਖਿਆ ਅਤੇ ਸਕੇਲਬਿਲਟੀ ਦੇ ਨਾਲ ਸਹੀ, ਸੰਦਰਭ-ਜਾਣੂ ਜਵਾਬ ਦੇ ਸਕਦੇ ਹਨ।\n",
    "\n",
    "**ਤੁਹਾਨੂੰ ਬਣਾਉਣ ਵਾਲੀਆਂ ਐਂਟਰਪ੍ਰਾਈਜ਼ RAG ਸਮਰਥਤਾਵਾਂ:**\n",
    "- 📚 **ਦਸਤਾਵੇਜ਼ ਇੰਟੈਲੀਜੈਂਸ**: Azure AI ਸੇਵਾਵਾਂ ਨਾਲ ਉੱਨਤ ਦਸਤਾਵੇਜ਼ ਪ੍ਰੋਸੈਸਿੰਗ\n",
    "- 🔍 **ਸੈਮੈਂਟਿਕ ਖੋਜ**: ਐਂਟਰਪ੍ਰਾਈਜ਼ ਫੀਚਰਾਂ ਨਾਲ ਉੱਚ-ਪ੍ਰਦਰਸ਼ਨ ਵਾਲੀ ਵੈਕਟਰ ਖੋਜ\n",
    "- 🛡️ **ਸੁਰੱਖਿਆ ਇੰਟੀਗ੍ਰੇਸ਼ਨ**: ਰੋਲ-ਅਧਾਰਿਤ ਪਹੁੰਚ ਅਤੇ ਡਾਟਾ ਸੁਰੱਖਿਆ ਪੈਟਰਨ\n",
    "- 🏢 **ਸਕੇਲਬਲ ਆਰਕੀਟੈਕਚਰ**: ਮਾਨਟਰਿੰਗ ਨਾਲ ਪ੍ਰੋਡਕਸ਼ਨ-ਤਿਆਰ RAG ਸਿਸਟਮ\n",
    "\n",
    "## 🎯 ਐਂਟਰਪ੍ਰਾਈਜ਼ RAG ਆਰਕੀਟੈਕਚਰ\n",
    "\n",
    "### ਮੁੱਖ ਐਂਟਰਪ੍ਰਾਈਜ਼ ਕੰਪੋਨੈਂਟ\n",
    "- **Azure AI Foundry**: ਸੁਰੱਖਿਆ ਅਤੇ ਕੰਪਲਾਇੰਸ ਨਾਲ ਪ੍ਰਬੰਧਿਤ ਐਂਟਰਪ੍ਰਾਈਜ਼ AI ਪਲੇਟਫਾਰਮ\n",
    "- **Persistent Agents**: ਸਥਾਈ ਏਜੰਟ ਜਿਨ੍ਹਾਂ ਵਿੱਚ ਗੱਲਬਾਤ ਦਾ ਇਤਿਹਾਸ ਅਤੇ ਸੰਦਰਭ ਪ੍ਰਬੰਧਨ ਹੁੰਦਾ ਹੈ\n",
    "- **Vector Store Management**: ਐਂਟਰਪ੍ਰਾਈਜ਼-ਗ੍ਰੇਡ ਦਸਤਾਵੇਜ਼ ਇੰਡੈਕਸਿੰਗ ਅਤੇ ਰੀਟਰੀਵਲ\n",
    "- **Identity Integration**: Azure AD ਪ੍ਰਮਾਣਿਕਤਾ ਅਤੇ ਰੋਲ-ਅਧਾਰਿਤ ਪਹੁੰਚ ਨਿਯੰਤਰਣ\n",
    "\n",
    "### .NET ਐਂਟਰਪ੍ਰਾਈਜ਼ ਫਾਇਦੇ\n",
    "- **ਟਾਈਪ ਸੇਫਟੀ**: RAG ਕਾਰਵਾਈਆਂ ਅਤੇ ਡਾਟਾ ਸਟ੍ਰਕਚਰਾਂ ਲਈ ਕੰਪਾਇਲ-ਟਾਈਮ ਵੈਰੀਫਿਕੇਸ਼ਨ\n",
    "- **Async Performance**: ਦਸਤਾਵੇਜ਼ ਪ੍ਰੋਸੈਸਿੰਗ ਅਤੇ ਖੋਜ ਕਾਰਵਾਈਆਂ ਲਈ ਨਾਨ-ਬਲਾਕਿੰਗ\n",
    "- **Memory Management**: ਵੱਡੇ ਦਸਤਾਵੇਜ਼ ਸੰਗ੍ਰਹਿ ਲਈ ਕੁਸ਼ਲ ਸਰੋਤ ਉਪਯੋਗਤਾ\n",
    "- **Integration Patterns**: ਡਿਪੈਂਡੈਂਸੀ ਇੰਜੈਕਸ਼ਨ ਨਾਲ ਨੈਟਿਵ Azure ਸੇਵਾ ਇੰਟੀਗ੍ਰੇਸ਼ਨ\n",
    "\n",
    "## 🏗️ ਤਕਨੀਕੀ ਆਰਕੀਟੈਕਚਰ\n",
    "\n",
    "### ਐਂਟਰਪ੍ਰਾਈਜ਼ RAG ਪਾਈਪਲਾਈਨ\n",
    "```csharp\n",
    "Document Upload → Security Validation → Vector Processing → Index Creation\n",
    "                      ↓                    ↓                  ↓\n",
    "User Query → Authentication → Semantic Search → Context Ranking → AI Response\n",
    "```\n",
    "\n",
    "### ਮੁੱਖ .NET ਕੰਪੋਨੈਂਟ\n",
    "- **Azure.AI.Agents.Persistent**: ਸਥਾਈਤਾ ਨਾਲ ਐਂਟਰਪ੍ਰਾਈਜ਼ ਏਜੰਟ ਪ੍ਰਬੰਧਨ\n",
    "- **Azure.Identity**: ਸੁਰੱਖਿਅਤ Azure ਸੇਵਾ ਪਹੁੰਚ ਲਈ ਇੰਟੀਗ੍ਰੇਟਿਡ ਪ੍ਰਮਾਣਿਕਤਾ\n",
    "- **Microsoft.Agents.AI.AzureAI**: Azure-ਅਨੁਕੂਲਿਤ ਏਜੰਟ ਫਰੇਮਵਰਕ ਇੰਪਲੀਮੈਂਟੇਸ਼ਨ\n",
    "- **System.Linq.Async**: ਉੱਚ-ਪ੍ਰਦਰਸ਼ਨ ਵਾਲੀਆਂ ਅਸਿੰਕ੍ਰੋਨ LINQ ਕਾਰਵਾਈਆਂ\n",
    "\n",
    "## 🔧 ਐਂਟਰਪ੍ਰਾਈਜ਼ ਫੀਚਰ ਅਤੇ ਫਾਇਦੇ\n",
    "\n",
    "### ਸੁਰੱਖਿਆ ਅਤੇ ਕੰਪਲਾਇੰਸ\n",
    "- **Azure AD Integration**: ਐਂਟਰਪ੍ਰਾਈਜ਼ ਪਛਾਣ ਪ੍ਰਬੰਧਨ ਅਤੇ ਪ੍ਰਮਾਣਿਕਤਾ\n",
    "- **Role-Based Access**: ਦਸਤਾਵੇਜ਼ ਪਹੁੰਚ ਅਤੇ ਕਾਰਵਾਈਆਂ ਲਈ ਸੁਖਮ ਪਹੁੰਚ ਅਧਿਕਾਰ\n",
    "- **Data Protection**: ਸੰਵੇਦਨਸ਼ੀਲ ਦਸਤਾਵੇਜ਼ਾਂ ਲਈ ਰੈਸਟ ਅਤੇ ਟ੍ਰਾਂਜ਼ਿਟ ਵਿੱਚ ਇਨਕ੍ਰਿਪਸ਼ਨ\n",
    "- **Audit Logging**: ਕੰਪਲਾਇੰਸ ਦੀਆਂ ਜ਼ਰੂਰਤਾਂ ਲਈ ਵਿਸਤ੍ਰਿਤ ਗਤੀਵਿਧੀ ਟ੍ਰੈਕਿੰਗ\n",
    "\n",
    "### ਪ੍ਰਦਰਸ਼ਨ ਅਤੇ ਸਕੇਲਬਿਲਟੀ\n",
    "- **Connection Pooling**: ਕੁਸ਼ਲ Azure ਸੇਵਾ ਕਨੈਕਸ਼ਨ ਪ੍ਰਬੰਧਨ\n",
    "- **Async Processing**: ਉੱਚ-ਥਰੂਪੁੱਟ ਸਥਿਤੀਆਂ ਲਈ ਨਾਨ-ਬਲਾਕਿੰਗ ਕਾਰਵਾਈਆਂ\n",
    "- **Caching Strategies**: ਵਾਰ-ਵਾਰ ਪਹੁੰਚ ਕੀਤੇ ਦਸਤਾਵੇਜ਼ਾਂ ਲਈ ਸਮਰਥ ਕੈਸ਼ਿੰਗ\n",
    "- **Load Balancing**: ਵੱਡੇ ਪੈਮਾਨੇ ਦੀ ਤੈਨਾਤੀ ਲਈ ਵੰਡੇ ਪ੍ਰੋਸੈਸਿੰਗ\n",
    "\n",
    "### ਪ੍ਰਬੰਧਨ ਅਤੇ ਮਾਨਟਰਿੰਗ\n",
    "- **Health Checks**: RAG ਸਿਸਟਮ ਕੰਪੋਨੈਂਟਾਂ ਲਈ ਬਿਲਟ-ਇਨ ਮਾਨਟਰਿੰਗ\n",
    "- **Performance Metrics**: ਖੋਜ ਗੁਣਵੱਤਾ ਅਤੇ ਜਵਾਬ ਦੇ ਸਮੇਂ 'ਤੇ ਵਿਸਤ੍ਰਿਤ ਵਿਸ਼ਲੇਸ਼ਣ\n",
    "- **Error Handling**: ਰਿਟ੍ਰਾਈ ਨੀਤੀਆਂ ਨਾਲ ਵਿਸਤ੍ਰਿਤ ਐਕਸਪਸ਼ਨ ਪ੍ਰਬੰਧਨ\n",
    "- **Configuration Management**: ਵਾਤਾਵਰਣ-ਵਿਸ਼ੇਸ਼ ਸੈਟਿੰਗਾਂ ਨਾਲ ਵੈਰੀਫਿਕੇਸ਼ਨ\n",
    "\n",
    "## ⚙️ ਪੂਰਵ ਸ਼ਰਤਾਂ ਅਤੇ ਸੈਟਅਪ\n",
    "\n",
    "**ਡਿਵੈਲਪਮੈਂਟ ਵਾਤਾਵਰਣ:**\n",
    "- .NET 9.0 SDK ਜਾਂ ਇਸ ਤੋਂ ਉੱਚਾ\n",
    "- Visual Studio 2022 ਜਾਂ VS Code C# ਐਕਸਟੈਂਸ਼ਨ ਨਾਲ\n",
    "- Azure ਸਬਸਕ੍ਰਿਪਸ਼ਨ AI Foundry ਪਹੁੰਚ ਨਾਲ\n",
    "\n",
    "**ਲੋੜੀਂਦੇ NuGet ਪੈਕੇਜ:**\n",
    "```xml\n",
    "<PackageReference Include=\"Microsoft.Extensions.AI\" Version=\"9.9.0\" />\n",
    "<PackageReference Include=\"Azure.AI.Agents.Persistent\" Version=\"1.2.0-beta.5\" />\n",
    "<PackageReference Include=\"Azure.Identity\" Version=\"1.15.0\" />\n",
    "<PackageReference Include=\"System.Linq.Async\" Version=\"6.0.3\" />\n",
    "<PackageReference Include=\"DotNetEnv\" Version=\"3.1.1\" />\n",
    "```\n",
    "\n",
    "**Azure Authentication Setup:**\n",
    "```bash\n",
    "# Install Azure CLI and authenticate\n",
    "az login\n",
    "az account set --subscription \"your-subscription-id\"\n",
    "```\n",
    "\n",
    "**Environment Configuration (.env ਫਾਈਲ):**\n",
    "```env\n",
    "# Azure AI Foundry configuration (automatically handled via Azure CLI)\n",
    "# Ensure you're authenticated to the correct Azure subscription\n",
    "```\n",
    "\n",
    "## 📊 ਐਂਟਰਪ੍ਰਾਈਜ਼ RAG ਪੈਟਰਨ\n",
    "\n",
    "### ਦਸਤਾਵੇਜ਼ ਪ੍ਰਬੰਧਨ ਪੈਟਰਨ\n",
    "- **Bulk Upload**: ਵੱਡੇ ਦਸਤਾਵੇਜ਼ ਸੰਗ੍ਰਹਿ ਦੀ ਕੁਸ਼ਲ ਪ੍ਰੋਸੈਸਿੰਗ\n",
    "- **Incremental Updates**: ਰੀਅਲ-ਟਾਈਮ ਦਸਤਾਵੇਜ਼ ਸ਼ਾਮਲ ਕਰਨ ਅਤੇ ਸੋਧ\n",
    "- **Version Control**: ਦਸਤਾਵੇਜ਼ ਵਰਜਨਿੰਗ ਅਤੇ ਬਦਲਾਅ ਟ੍ਰੈਕਿੰਗ\n",
    "- **Metadata Management**: ਦਸਤਾਵੇਜ਼ ਗੁਣਾਂ ਅਤੇ ਟੈਕਸੋਨੋਮੀ\n",
    "\n",
    "### ਖੋਜ ਅਤੇ ਰੀਟਰੀਵਲ ਪੈਟਰਨ\n",
    "- **Hybrid Search**: ਸੈਮੈਂਟਿਕ ਅਤੇ ਕੀਵਰਡ ਖੋਜ ਨੂੰ ਮਿਲਾ ਕੇ ਵਧੀਆ ਨਤੀਜੇ\n",
    "- **Faceted Search**: ਬਹੁ-ਪੱਖੀ ਫਿਲਟਰੀਕਰਨ ਅਤੇ ਸ਼੍ਰੇਣੀਬੱਧਤਾ\n",
    "- **Relevance Tuning**: ਡੋਮੇਨ-ਵਿਸ਼ੇਸ਼ ਜ਼ਰੂਰਤਾਂ ਲਈ ਕਸਟਮ ਸਕੋਰਿੰਗ ਐਲਗੋਰਿਥਮ\n",
    "- **Result Ranking**: ਵਪਾਰਕ ਤਰਕ ਇੰਟੀਗ੍ਰੇਸ਼ਨ ਨਾਲ ਉੱਨਤ ਰੈਂਕਿੰਗ\n",
    "\n",
    "### ਸੁਰੱਖਿਆ ਪੈਟਰਨ\n",
    "- **Document-Level Security**: ਹਰ ਦਸਤਾਵੇਜ਼ ਲਈ ਸੁਖਮ ਪਹੁੰਚ ਨਿਯੰਤਰਣ\n",
    "- **Data Classification**: ਸਵੈਚਾਲਿਤ ਸੰਵੇਦਨਸ਼ੀਲਤਾ ਲੇਬਲਿੰਗ ਅਤੇ ਸੁਰੱਖਿਆ\n",
    "- **Audit Trails**: ਸਾਰੇ RAG ਕਾਰਵਾਈਆਂ ਦੀ ਵਿਸਤ੍ਰਿਤ ਲਾਗਿੰਗ\n",
    "- **Privacy Protection**: PII ਪਛਾਣ ਅਤੇ ਰੀਡੈਕਸ਼ਨ ਸਮਰਥਤਾਵਾਂ\n",
    "\n",
    "## 🔒 ਐਂਟਰਪ੍ਰਾਈਜ਼ ਸੁਰੱਖਿਆ ਫੀਚਰ\n",
    "\n",
    "### Authentication & Authorization\n",
    "```csharp\n",
    "// Azure AD integrated authentication\n",
    "var credential = new AzureCliCredential();\n",
    "var agentsClient = new PersistentAgentsClient(endpoint, credential);\n",
    "\n",
    "// Role-based access validation\n",
    "if (!await ValidateUserPermissions(user, documentId))\n",
    "{\n",
    "    throw new UnauthorizedAccessException(\"Insufficient permissions\");\n",
    "}\n",
    "```\n",
    "\n",
    "### Data Protection\n",
    "- **Encryption**: ਦਸਤਾਵੇਜ਼ਾਂ ਅਤੇ ਖੋਜ ਇੰਡੈਕਸਾਂ ਲਈ ਐਂਡ-ਟੂ-ਐਂਡ ਇਨਕ੍ਰਿਪਸ਼ਨ\n",
    "- **Access Controls**: ਯੂਜ਼ਰ ਅਤੇ ਗਰੁੱਪ ਅਧਿਕਾਰਾਂ ਲਈ Azure AD ਨਾਲ ਇੰਟੀਗ੍ਰੇਸ਼ਨ\n",
    "- **Data Residency**: ਕੰਪਲਾਇੰਸ ਲਈ ਭੂਗੋਲਿਕ ਡਾਟਾ ਸਥਾਨ ਨਿਯੰਤਰਣ\n",
    "- **Backup & Recovery**: ਸਵੈਚਾਲਿਤ ਬੈਕਅੱਪ ਅਤੇ ਡਿਜਾਸਟਰ ਰਿਕਵਰੀ ਸਮਰਥਤਾਵਾਂ\n",
    "\n",
    "## 📈 ਪ੍ਰਦਰਸ਼ਨ ਅਪਟਿਮਾਈਜ਼ੇਸ਼ਨ\n",
    "\n",
    "### Async Processing Patterns\n",
    "```csharp\n",
    "// Efficient async document processing\n",
    "await foreach (var document in documentStream.AsAsyncEnumerable())\n",
    "{\n",
    "    await ProcessDocumentAsync(document, cancellationToken);\n",
    "}\n",
    "```\n",
    "\n",
    "### Memory Management\n",
    "- **Streaming Processing**: ਵੱਡੇ ਦਸਤਾਵੇਜ਼ਾਂ ਨੂੰ ਯਾਦاشت ਸਮੱਸਿਆਵਾਂ ਤੋਂ ਬਿਨਾਂ ਸੰਭਾਲਣਾ\n",
    "- **Resource Pooling**: ਮਹਿੰਗੇ ਸਰੋਤਾਂ ਦੀ ਕੁਸ਼ਲ ਮੁੜ-ਵਰਤੋਂ\n",
    "- **Garbage Collection**: ਯਾਦاشت ਅਲੋਕੇਸ਼ਨ ਪੈਟਰਨਾਂ ਦਾ ਅਪਟਿਮਾਈਜ਼ੇਸ਼ਨ\n",
    "- **Connection Management**: ਸਹੀ Azure ਸੇਵਾ ਕਨੈਕਸ਼ਨ ਲਾਈਫਸਾਈਕਲ\n",
    "\n",
    "### Caching Strategies\n",
    "- **Query Caching**: ਵਾਰ-ਵਾਰ ਚਲਾਈਆਂ ਗਈਆਂ ਖੋਜਾਂ ਨੂੰ ਕੈਸ਼ ਕਰਨਾ\n",
    "- **Document Caching**: ਹੌਟ ਦਸਤਾਵੇਜ਼ਾਂ ਲਈ ਇਨ-ਮੈਮੋਰੀ ਕੈਸ਼ਿੰਗ\n",
    "- **Index Caching**: ਵੈਕਟਰ ਇੰਡੈਕਸ ਕੈਸ਼ਿੰਗ ਦਾ ਅਪਟਿਮਾਈਜ਼ੇਸ਼ਨ\n",
    "- **Result Caching**: ਜਨਰੇਟ ਕੀਤੇ ਜਵਾਬਾਂ ਦੀ ਸਮਰਥ ਕੈਸ਼ਿੰਗ\n",
    "\n",
    "## 📊 ਐਂਟਰਪ੍ਰਾਈਜ਼ ਵਰਤੋਂ ਦੇ ਕੇਸ\n",
    "\n",
    "### Knowledge Management\n",
    "- **Corporate Wiki**: ਕੰਪਨੀ ਦੇ ਨਾਲੇਜ ਬੇਸ 'ਤੇ ਸਮਰਥ ਖੋਜ\n",
    "- **Policy & Procedures**: ਸਵੈਚਾਲਿਤ ਕੰਪਲਾਇੰਸ ਅਤੇ ਪ੍ਰਕਿਰਿਆ ਮਾਰਗਦਰਸ਼ਨ\n",
    "- **Training Materials**: ਸਮਰਥ ਸਿੱਖਣ ਅਤੇ ਵਿਕਾਸ ਸਹਾਇਤਾ\n",
    "- **Research Databases**: ਅਕਾਦਮਿਕ ਅਤੇ ਰਿਸਰਚ ਪੇਪਰ ਵਿਸ਼ਲੇਸ਼ਣ ਸਿਸਟਮ\n",
    "\n",
    "### Customer Support\n",
    "- **Support Knowledge Base**: ਸਵੈਚਾਲਿਤ ਗਾਹਕ ਸੇਵਾ ਜਵਾਬ\n",
    "- **Product Documentation**: ਸਮਰਥਤ ਉਤਪਾਦ ਜਾਣਕਾਰੀ ਰੀਟਰੀਵਲ\n",
    "- **Troubleshooting Guides**: ਸੰਦਰਭ-ਜਾਣੂ ਸਮੱਸਿਆ-ਸੁਲਝਾਉਣ ਸਹਾਇਤਾ\n",
    "- **FAQ Systems**: ਦਸਤਾਵੇਜ਼ ਸੰਗ੍ਰਹਿ ਤੋਂ ਡਾਇਨਾਮਿਕ FAQ ਜਨਰੇਸ਼ਨ\n",
    "\n",
    "### Regulatory Compliance\n",
    "- **Legal Document Analysis**: ਕਾਨੂਨੀ ਦਸਤਾਵੇਜ਼ ਅਤੇ ਕਾਂਟ੍ਰੈਕਟ ਇੰਟੈਲੀਜੈਂਸ\n",
    "- **Compliance Monitoring**: ਸਵੈਚਾਲਿਤ ਨਿਯਮਾਂ ਦੀ ਪਾਲਣਾ ਜਾਂਚ\n",
    "- **Risk Assessment**: ਦਸਤਾਵੇਜ਼-ਅਧਾਰਿਤ ਜੋਖਮ ਵਿਸ਼ਲੇਸ਼ਣ ਅਤੇ ਰਿਪੋਰਟਿੰਗ\n",
    "- **Audit Support**: ਆਡਿਟ ਲਈ ਸਮਰਥ ਦਸਤਾਵੇਜ਼ ਖੋਜ\n",
    "\n",
    "## 🚀 ਪ੍ਰੋਡਕਸ਼ਨ ਤੈਨਾਤੀ\n",
    "\n",
    "### Monitoring & Observability\n",
    "- **Application Insights**: ਵਿਸਤ੍ਰਿਤ ਟੈਲੀਮੈਟਰੀ ਅਤੇ ਪ੍ਰਦਰਸ਼ਨ ਮਾਨਟਰਿੰਗ\n",
    "- **Custom Metrics**: ਵਪਾਰ-ਵਿਸ਼ੇਸ਼ KPI ਟ੍ਰੈਕਿੰਗ ਅਤੇ ਚੇਤਾਵਨੀ\n",
    "- **Distributed Tracing**: ਸੇਵਾਵਾਂ ਵਿੱਚ ਅੰਤ-ਤੱਕ ਦੀ ਬੇਨਤੀ ਟ੍ਰੈਕਿੰਗ\n",
    "- **Health Dashboards**: ਰੀਅਲ-ਟਾਈਮ ਸਿਸਟਮ ਸਿਹਤ ਅਤੇ ਪ੍ਰਦਰਸ਼ਨ ਵਿਜੁਅਲਾਈਜ਼ੇਸ਼ਨ\n",
    "\n",
    "### Scalability & Reliability\n",
    "- **Auto-Scaling**: ਲੋਡ ਅਤੇ ਪ੍ਰਦਰਸ਼ਨ ਮੈਟ੍ਰਿਕਸ ਦੇ ਅਧਾਰ 'ਤੇ ਸਵੈਚਾਲਿਤ ਸਕੇਲਿੰਗ\n",
    "- **High Availability**: ਫੇਲਓਵਰ ਸਮਰਥਤਾਵਾਂ ਨਾਲ ਮਲਟੀ-ਰੀਜਨ ਤੈਨਾਤੀ\n",
    "- **Load Testing**: ਐਂਟਰਪ੍ਰਾਈਜ਼ ਲੋਡ ਸਥਿਤੀਆਂ ਹੇਠ ਪ੍ਰਦਰਸ਼ਨ ਵੈਰੀਫਿਕੇਸ਼ਨ\n",
    "- **Disaster Recovery**: ਸਵੈਚਾਲਿਤ ਬੈਕਅੱਪ ਅਤੇ ਰਿਕਵਰੀ ਪ੍ਰਕਿਰਿਆਵਾਂ\n",
    "\n",
    "ਤਿਆਰ ਹੋ ਜਾਓ ਐਂਟਰਪ੍ਰਾਈਜ਼-ਗ੍ਰੇਡ RAG ਸਿਸਟਮ ਬਣਾਉਣ ਲਈ ਜੋ ਵੱਡੇ ਪੈਮਾਨੇ 'ਤੇ ਸੰਵੇਦਨਸ਼ੀਲ ਦਸਤਾਵੇਜ਼ਾਂ ਨੂੰ ਸੰਭਾਲ ਸਕਦੇ ਹਨ! 🏢📖✨\n"
   ]
  },
  {
   "cell_type": "code",
   "execution_count": 1,
   "metadata": {
    "language_info": {
     "name": "polyglot-notebook"
    },
    "polyglot_notebook": {
     "kernelName": "csharp"
    }
   },
   "outputs": [
    {
     "data": {
      "text/html": [
       "<div><div></div><div></div><div><strong>Installed Packages</strong><ul><li><span>Microsoft.Extensions.AI, 9.9.1</span></li></ul></div></div>"
      ]
     },
     "metadata": {},
     "output_type": "display_data"
    }
   ],
   "source": [
    "#r \"nuget: Microsoft.Extensions.AI, 9.9.1\""
   ]
  },
  {
   "cell_type": "code",
   "execution_count": 2,
   "id": "4ec1f0d1",
   "metadata": {
    "language_info": {
     "name": "polyglot-notebook"
    },
    "polyglot_notebook": {
     "kernelName": "csharp"
    }
   },
   "outputs": [
    {
     "data": {
      "text/html": [
       "<div><div></div><div></div><div><strong>Installed Packages</strong><ul><li><span>Azure.AI.Agents.Persistent, 1.2.0-beta.5</span></li><li><span>Azure.Identity, 1.15.0</span></li><li><span>System.Linq.Async, 6.0.3</span></li></ul></div></div>"
      ]
     },
     "metadata": {},
     "output_type": "display_data"
    }
   ],
   "source": [
    "#r \"nuget: Azure.AI.Agents.Persistent, 1.2.0-beta.5\"\n",
    "#r \"nuget: Azure.Identity, 1.15.0\"\n",
    "#r \"nuget: System.Linq.Async, 6.0.3\""
   ]
  },
  {
   "cell_type": "code",
   "execution_count": 3,
   "id": "2363ae07",
   "metadata": {
    "language_info": {
     "name": "polyglot-notebook"
    },
    "polyglot_notebook": {
     "kernelName": "csharp"
    }
   },
   "outputs": [],
   "source": []
  },
  {
   "cell_type": "code",
   "execution_count": null,
   "id": "d10cec9d",
   "metadata": {
    "language_info": {
     "name": "polyglot-notebook"
    },
    "polyglot_notebook": {
     "kernelName": "csharp"
    }
   },
   "outputs": [
    {
     "data": {
      "text/html": [
       "<div><div></div><div></div><div><strong>Installed Packages</strong><ul><li><span>Microsoft.Agents.AI.AzureAI, 1.0.0-preview.251001.2</span></li></ul></div></div>"
      ]
     },
     "metadata": {},
     "output_type": "display_data"
    }
   ],
   "source": [
    "#r \"nuget: Microsoft.Agents.AI.AzureAI, 1.0.0-preview.251001.3\""
   ]
  },
  {
   "cell_type": "code",
   "execution_count": null,
   "id": "78199d1c",
   "metadata": {
    "language_info": {
     "name": "polyglot-notebook"
    },
    "polyglot_notebook": {
     "kernelName": "csharp"
    }
   },
   "outputs": [
    {
     "data": {
      "text/html": [
       "<div><div></div><div></div><div><strong>Installed Packages</strong><ul><li><span>microsoft.agents.ai, 1.0.0-preview.251001.2</span></li></ul></div></div>"
      ]
     },
     "metadata": {},
     "output_type": "display_data"
    }
   ],
   "source": [
    "#r \"nuget: Microsoft.Agents.AI, 1.0.0-preview.251001.3\""
   ]
  },
  {
   "cell_type": "code",
   "execution_count": 6,
   "id": "7de4684a",
   "metadata": {
    "language_info": {
     "name": "polyglot-notebook"
    },
    "polyglot_notebook": {
     "kernelName": "csharp"
    }
   },
   "outputs": [
    {
     "data": {
      "text/html": [
       "<div><div></div><div></div><div><strong>Installed Packages</strong><ul><li><span>DotNetEnv, 3.1.1</span></li></ul></div></div>"
      ]
     },
     "metadata": {},
     "output_type": "display_data"
    }
   ],
   "source": [
    "#r \"nuget: DotNetEnv, 3.1.1\""
   ]
  },
  {
   "cell_type": "code",
   "execution_count": 7,
   "id": "251efd31",
   "metadata": {
    "language_info": {
     "name": "polyglot-notebook"
    },
    "polyglot_notebook": {
     "kernelName": "csharp"
    }
   },
   "outputs": [],
   "source": [
    "using System;\n",
    "using System.Linq;\n",
    "using Azure.AI.Agents.Persistent;\n",
    "using Azure.Identity;\n",
    "using Microsoft.Agents.AI;"
   ]
  },
  {
   "cell_type": "code",
   "execution_count": 8,
   "id": "a2e342f1",
   "metadata": {
    "language_info": {
     "name": "polyglot-notebook"
    },
    "polyglot_notebook": {
     "kernelName": "csharp"
    }
   },
   "outputs": [],
   "source": [
    " using DotNetEnv;"
   ]
  },
  {
   "cell_type": "code",
   "execution_count": 9,
   "id": "a7a01653",
   "metadata": {
    "language_info": {
     "name": "polyglot-notebook"
    },
    "polyglot_notebook": {
     "kernelName": "csharp"
    }
   },
   "outputs": [],
   "source": [
    "Env.Load(\"../../../.env\");"
   ]
  },
  {
   "cell_type": "code",
   "execution_count": 10,
   "id": "a42735d5",
   "metadata": {
    "language_info": {
     "name": "polyglot-notebook"
    },
    "polyglot_notebook": {
     "kernelName": "csharp"
    }
   },
   "outputs": [],
   "source": [
    "var azure_foundry_endpoint = Environment.GetEnvironmentVariable(\"AZURE_AI_PROJECT_ENDPOINT\") ?? throw new InvalidOperationException(\"AZURE_AI_PROJECT_ENDPOINT is not set.\");\n",
    "var azure_foundry_model_id = Environment.GetEnvironmentVariable(\"AZURE_AI_MODEL_DEPLOYMENT_NAME\") ?? \"gpt-4.1-mini\";"
   ]
  },
  {
   "cell_type": "code",
   "execution_count": 11,
   "id": "e29bdb58",
   "metadata": {
    "language_info": {
     "name": "polyglot-notebook"
    },
    "polyglot_notebook": {
     "kernelName": "csharp"
    }
   },
   "outputs": [],
   "source": [
    "string pdfPath = \"./document.md\";"
   ]
  },
  {
   "cell_type": "code",
   "execution_count": 12,
   "id": "7351e12d",
   "metadata": {
    "language_info": {
     "name": "polyglot-notebook"
    },
    "polyglot_notebook": {
     "kernelName": "csharp"
    }
   },
   "outputs": [],
   "source": [
    "using System.IO;\n",
    "\n",
    "async Task<Stream> OpenImageStreamAsync(string path)\n",
    "{\n",
    "\treturn await Task.Run(() => File.OpenRead(path));\n",
    "}\n",
    "\n",
    "var pdfStream = await OpenImageStreamAsync(pdfPath);"
   ]
  },
  {
   "cell_type": "code",
   "execution_count": 13,
   "id": "0b6bf484",
   "metadata": {
    "language_info": {
     "name": "polyglot-notebook"
    },
    "polyglot_notebook": {
     "kernelName": "csharp"
    }
   },
   "outputs": [],
   "source": [
    "var persistentAgentsClient = new PersistentAgentsClient(azure_foundry_endpoint, new AzureCliCredential());"
   ]
  },
  {
   "cell_type": "code",
   "execution_count": 14,
   "id": "81e0dddc",
   "metadata": {
    "language_info": {
     "name": "polyglot-notebook"
    },
    "polyglot_notebook": {
     "kernelName": "csharp"
    }
   },
   "outputs": [],
   "source": [
    "PersistentAgentFileInfo fileInfo = await persistentAgentsClient.Files.UploadFileAsync(pdfStream, PersistentAgentFilePurpose.Agents, \"demo.md\");"
   ]
  },
  {
   "cell_type": "code",
   "execution_count": 15,
   "id": "f0c75d80",
   "metadata": {
    "language_info": {
     "name": "polyglot-notebook"
    },
    "polyglot_notebook": {
     "kernelName": "csharp"
    }
   },
   "outputs": [],
   "source": [
    "PersistentAgentsVectorStore fileStore =\n",
    "            await persistentAgentsClient.VectorStores.CreateVectorStoreAsync(\n",
    "                [fileInfo.Id],\n",
    "                metadata: new Dictionary<string, string>() { { \"agentkey\", bool.TrueString } });"
   ]
  },
  {
   "cell_type": "code",
   "execution_count": 16,
   "id": "c77986c5",
   "metadata": {
    "language_info": {
     "name": "polyglot-notebook"
    },
    "polyglot_notebook": {
     "kernelName": "csharp"
    }
   },
   "outputs": [],
   "source": [
    "PersistentAgent agentModel = await persistentAgentsClient.Administration.CreateAgentAsync(\n",
    "            azure_foundry_model_id,\n",
    "            name: \"DotNetRAGAgent\",\n",
    "            tools: [new FileSearchToolDefinition()],\n",
    "            instructions: \"\"\"\n",
    "                You are an AI assistant designed to answer user questions using only the information retrieved from the provided document(s).\n",
    "\n",
    "                - If a user's question cannot be answered using the retrieved context, **you must clearly respond**: \n",
    "                \"I'm sorry, but the uploaded document does not contain the necessary information to answer that question.\"\n",
    "                - Do not answer from general knowledge or reasoning. Do not make assumptions or generate hypothetical explanations.\n",
    "                - Do not provide definitions, tutorials, or commentary that is not explicitly grounded in the content of the uploaded file(s).\n",
    "                - If a user asks a question like \"What is a Neural Network?\", and this is not discussed in the uploaded document, respond as instructed above.\n",
    "                - For questions that do have relevant content in the document (e.g., Contoso's travel insurance coverage), respond accurately, and cite the document explicitly.\n",
    "\n",
    "                You must behave as if you have no external knowledge beyond what is retrieved from the uploaded document.\n",
    "                \"\"\",\n",
    "            toolResources: new()\n",
    "            {\n",
    "                FileSearch = new()\n",
    "                {\n",
    "                    VectorStoreIds = { fileStore.Id },\n",
    "                }\n",
    "            },\n",
    "            metadata: new Dictionary<string, string>() { { \"agentkey\", bool.TrueString } });"
   ]
  },
  {
   "cell_type": "code",
   "execution_count": 17,
   "id": "282326cf",
   "metadata": {
    "language_info": {
     "name": "polyglot-notebook"
    },
    "polyglot_notebook": {
     "kernelName": "csharp"
    }
   },
   "outputs": [],
   "source": [
    "AIAgent agent = await persistentAgentsClient.GetAIAgentAsync(agentModel.Id);"
   ]
  },
  {
   "cell_type": "code",
   "execution_count": 18,
   "id": "2067d313",
   "metadata": {
    "language_info": {
     "name": "polyglot-notebook"
    },
    "polyglot_notebook": {
     "kernelName": "csharp"
    }
   },
   "outputs": [],
   "source": [
    "AgentThread thread = agent.GetNewThread();"
   ]
  },
  {
   "cell_type": "code",
   "execution_count": 19,
   "id": "454c4230",
   "metadata": {
    "language_info": {
     "name": "polyglot-notebook"
    },
    "polyglot_notebook": {
     "kernelName": "csharp"
    }
   },
   "outputs": [
    {
     "name": "stdout",
     "output_type": "stream",
     "text": [
      "Contoso's travel insurance coverage includes protection for medical emergencies, trip cancellations, and lost baggage. This ensures that travelers are supported in case of health-related issues during their trip, unforeseen cancellations, and the loss of their belongings while traveling【4:0†demo.md】.\r\n"
     ]
    }
   ],
   "source": [
    "Console.WriteLine(await agent.RunAsync(\"Can you explain Contoso's travel insurance coverage?\", thread));"
   ]
  },
  {
   "cell_type": "markdown",
   "metadata": {},
   "source": [
    "\n---\n\n**ਅਸਵੀਕਰਤਾ**:  \nਇਹ ਦਸਤਾਵੇਜ਼ AI ਅਨੁਵਾਦ ਸੇਵਾ [Co-op Translator](https://github.com/Azure/co-op-translator) ਦੀ ਵਰਤੋਂ ਕਰਕੇ ਅਨੁਵਾਦ ਕੀਤਾ ਗਿਆ ਹੈ। ਜਦੋਂ ਕਿ ਅਸੀਂ ਸਹੀ ਹੋਣ ਦਾ ਯਤਨ ਕਰਦੇ ਹਾਂ, ਕਿਰਪਾ ਕਰਕੇ ਧਿਆਨ ਦਿਓ ਕਿ ਸਵੈਚਾਲਿਤ ਅਨੁਵਾਦਾਂ ਵਿੱਚ ਗਲਤੀਆਂ ਜਾਂ ਅਸੁਚੀਤਤਾਵਾਂ ਹੋ ਸਕਦੀਆਂ ਹਨ। ਇਸ ਦੀ ਮੂਲ ਭਾਸ਼ਾ ਵਿੱਚ ਮੌਜੂਦ ਅਸਲ ਦਸਤਾਵੇਜ਼ ਨੂੰ ਅਧਿਕਾਰਤ ਸਰੋਤ ਮੰਨਿਆ ਜਾਣਾ ਚਾਹੀਦਾ ਹੈ। ਮਹੱਤਵਪੂਰਨ ਜਾਣਕਾਰੀ ਲਈ, ਪੇਸ਼ੇਵਰ ਮਨੁੱਖੀ ਅਨੁਵਾਦ ਦੀ ਸਿਫਾਰਸ਼ ਕੀਤੀ ਜਾਂਦੀ ਹੈ। ਇਸ ਅਨੁਵਾਦ ਦੀ ਵਰਤੋਂ ਤੋਂ ਪੈਦਾ ਹੋਣ ਵਾਲੇ ਕਿਸੇ ਵੀ ਗਲਤਫਹਿਮੀ ਜਾਂ ਗਲਤ ਵਿਆਖਿਆ ਲਈ ਅਸੀਂ ਜ਼ਿੰਮੇਵਾਰ ਨਹੀਂ ਹਾਂ।\n"
   ]
  }
 ],
 "metadata": {
  "kernelspec": {
   "display_name": ".NET (C#)",
   "language": "C#",
   "name": ".net-csharp"
  },
  "language_info": {
   "name": "polyglot-notebook"
  },
  "polyglot_notebook": {
   "kernelInfo": {
    "defaultKernelName": "csharp",
    "items": [
     {
      "aliases": [],
      "name": "csharp"
     }
    ]
   }
  },
  "coopTranslator": {
   "original_hash": "e4584fa31638009dc6fb665275de8fc2",
   "translation_date": "2025-10-02T11:21:22+00:00",
   "source_file": "05-agentic-rag/code_samples/05-dotnet-agent-framework.ipynb",
   "language_code": "pa"
  }
 },
 "nbformat": 4,
 "nbformat_minor": 5
}