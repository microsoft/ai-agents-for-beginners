{
 "cells": [
  {
   "cell_type": "markdown",
   "id": "44b5899e",
   "metadata": {},
   "source": [
    "# 🔍 Vállalati RAG az Azure AI Foundry-val (.NET)\n",
    "\n",
    "## 📋 Tanulási célok\n",
    "\n",
    "Ez a jegyzetfüzet bemutatja, hogyan lehet vállalati szintű Retrieval-Augmented Generation (RAG) rendszereket építeni a Microsoft Agent Framework segítségével .NET-ben az Azure AI Foundry-val. Megtanulhatod, hogyan hozz létre gyártásra kész ügynököket, amelyek dokumentumokban keresnek, és pontos, kontextusfüggő válaszokat adnak vállalati biztonsággal és skálázhatósággal.\n",
    "\n",
    "**A vállalati RAG képességek, amelyeket fejlesztesz:**\n",
    "- 📚 **Dokumentumintelligencia**: Fejlett dokumentumfeldolgozás az Azure AI szolgáltatásokkal\n",
    "- 🔍 **Szemantikus keresés**: Nagy teljesítményű vektorkeresés vállalati funkciókkal\n",
    "- 🛡️ **Biztonsági integráció**: Szerepkör-alapú hozzáférés és adatvédelmi minták\n",
    "- 🏢 **Skálázható architektúra**: Gyártásra kész RAG rendszerek monitorozással\n",
    "\n",
    "## 🎯 Vállalati RAG architektúra\n",
    "\n",
    "### Főbb vállalati komponensek\n",
    "- **Azure AI Foundry**: Kezelt vállalati AI platform biztonsággal és megfelelőséggel\n",
    "- **Állandó ügynökök**: Állapotmegőrző ügynökök beszélgetési előzményekkel és kontextuskezeléssel\n",
    "- **Vektortároló kezelés**: Vállalati szintű dokumentumindexelés és visszakeresés\n",
    "- **Identitás integráció**: Azure AD hitelesítés és szerepkör-alapú hozzáférés-vezérlés\n",
    "\n",
    "### .NET vállalati előnyök\n",
    "- **Típusbiztonság**: Fordítási időben történő validáció a RAG műveletekhez és adatstruktúrákhoz\n",
    "- **Aszinkron teljesítmény**: Nem blokkoló dokumentumfeldolgozás és keresési műveletek\n",
    "- **Memóriakezelés**: Hatékony erőforrás-felhasználás nagy dokumentumgyűjteményekhez\n",
    "- **Integrációs minták**: Natív Azure szolgáltatásintegráció függőséginjektálással\n",
    "\n",
    "## 🏗️ Technikai architektúra\n",
    "\n",
    "### Vállalati RAG folyamat\n",
    "```csharp\n",
    "Document Upload → Security Validation → Vector Processing → Index Creation\n",
    "                      ↓                    ↓                  ↓\n",
    "User Query → Authentication → Semantic Search → Context Ranking → AI Response\n",
    "```\n",
    "\n",
    "### Főbb .NET komponensek\n",
    "- **Azure.AI.Agents.Persistent**: Vállalati ügynökkezelés állapotmegőrzéssel\n",
    "- **Azure.Identity**: Integrált hitelesítés biztonságos Azure szolgáltatás-hozzáféréshez\n",
    "- **Microsoft.Agents.AI.AzureAI**: Azure-optimalizált ügynökkeretrendszer implementáció\n",
    "- **System.Linq.Async**: Nagy teljesítményű aszinkron LINQ műveletek\n",
    "\n",
    "## 🔧 Vállalati funkciók és előnyök\n",
    "\n",
    "### Biztonság és megfelelőség\n",
    "- **Azure AD integráció**: Vállalati identitáskezelés és hitelesítés\n",
    "- **Szerepkör-alapú hozzáférés**: Finomhangolt jogosultságok dokumentumhozzáféréshez és műveletekhez\n",
    "- **Adatvédelem**: Nyugalmi és átviteli titkosítás érzékeny dokumentumokhoz\n",
    "- **Audit naplózás**: Átfogó tevékenységkövetés megfelelőségi követelményekhez\n",
    "\n",
    "### Teljesítmény és skálázhatóság\n",
    "- **Kapcsolatpooling**: Hatékony Azure szolgáltatáskapcsolat-kezelés\n",
    "- **Aszinkron feldolgozás**: Nem blokkoló műveletek nagy áteresztőképességű forgatókönyvekhez\n",
    "- **Gyorsítótárazási stratégiák**: Intelligens gyorsítótárazás gyakran hozzáférhető dokumentumokhoz\n",
    "- **Terheléselosztás**: Elosztott feldolgozás nagy léptékű telepítésekhez\n",
    "\n",
    "### Kezelés és monitorozás\n",
    "- **Egészségellenőrzések**: Beépített monitorozás a RAG rendszerkomponensekhez\n",
    "- **Teljesítménymutatók**: Részletes elemzések a keresési minőségről és válaszidőkről\n",
    "- **Hibakezelés**: Átfogó kivételkezelés újrapróbálkozási szabályokkal\n",
    "- **Konfigurációkezelés**: Környezet-specifikus beállítások validációval\n",
    "\n",
    "## ⚙️ Előfeltételek és beállítás\n",
    "\n",
    "**Fejlesztési környezet:**\n",
    "- .NET 9.0 SDK vagy újabb\n",
    "- Visual Studio 2022 vagy VS Code C# kiterjesztéssel\n",
    "- Azure előfizetés AI Foundry hozzáféréssel\n",
    "\n",
    "**Szükséges NuGet csomagok:**\n",
    "```xml\n",
    "<PackageReference Include=\"Microsoft.Extensions.AI\" Version=\"9.9.0\" />\n",
    "<PackageReference Include=\"Azure.AI.Agents.Persistent\" Version=\"1.2.0-beta.5\" />\n",
    "<PackageReference Include=\"Azure.Identity\" Version=\"1.15.0\" />\n",
    "<PackageReference Include=\"System.Linq.Async\" Version=\"6.0.3\" />\n",
    "<PackageReference Include=\"DotNetEnv\" Version=\"3.1.1\" />\n",
    "```\n",
    "\n",
    "**Azure hitelesítési beállítás:**\n",
    "```bash\n",
    "# Install Azure CLI and authenticate\n",
    "az login\n",
    "az account set --subscription \"your-subscription-id\"\n",
    "```\n",
    "\n",
    "**Környezetkonfiguráció (.env fájl):**\n",
    "```env\n",
    "# Azure AI Foundry configuration (automatically handled via Azure CLI)\n",
    "# Ensure you're authenticated to the correct Azure subscription\n",
    "```\n",
    "\n",
    "## 📊 Vállalati RAG minták\n",
    "\n",
    "### Dokumentumkezelési minták\n",
    "- **Tömeges feltöltés**: Nagy dokumentumgyűjtemények hatékony feldolgozása\n",
    "- **Inkrementális frissítések**: Valós idejű dokumentumhozzáadás és módosítás\n",
    "- **Verziókezelés**: Dokumentumverziózás és változáskövetés\n",
    "- **Metaadat-kezelés**: Gazdag dokumentumattribútumok és taxonómia\n",
    "\n",
    "### Keresési és visszakeresési minták\n",
    "- **Hibrid keresés**: Szemantikus és kulcsszavas keresés kombinálása optimális eredményekért\n",
    "- **Facettált keresés**: Többdimenziós szűrés és kategorizálás\n",
    "- **Relevanciahangolás**: Egyedi pontozási algoritmusok domain-specifikus igényekhez\n",
    "- **Eredményrangsorolás**: Fejlett rangsorolás üzleti logika integrációval\n",
    "\n",
    "### Biztonsági minták\n",
    "- **Dokumentumszintű biztonság**: Finomhangolt hozzáférés-vezérlés dokumentumonként\n",
    "- **Adatosztályozás**: Automatikus érzékenységi címkézés és védelem\n",
    "- **Audit nyomvonalak**: Átfogó naplózás minden RAG műveletről\n",
    "- **Adatvédelem**: PII felismerés és kitakarási képességek\n",
    "\n",
    "## 🔒 Vállalati biztonsági funkciók\n",
    "\n",
    "### Hitelesítés és jogosultságkezelés\n",
    "```csharp\n",
    "// Azure AD integrated authentication\n",
    "var credential = new AzureCliCredential();\n",
    "var agentsClient = new PersistentAgentsClient(endpoint, credential);\n",
    "\n",
    "// Role-based access validation\n",
    "if (!await ValidateUserPermissions(user, documentId))\n",
    "{\n",
    "    throw new UnauthorizedAccessException(\"Insufficient permissions\");\n",
    "}\n",
    "```\n",
    "\n",
    "### Adatvédelem\n",
    "- **Titkosítás**: Végponttól végpontig tartó titkosítás dokumentumokhoz és keresési indexekhez\n",
    "- **Hozzáférés-vezérlés**: Integráció az Azure AD-vel felhasználói és csoportjogosultságokhoz\n",
    "- **Adatrezidencia**: Földrajzi adatlokáció-vezérlés megfelelőséghez\n",
    "- **Biztonsági mentés és helyreállítás**: Automatikus biztonsági mentés és katasztrófa-helyreállítási képességek\n",
    "\n",
    "## 📈 Teljesítményoptimalizálás\n",
    "\n",
    "### Aszinkron feldolgozási minták\n",
    "```csharp\n",
    "// Efficient async document processing\n",
    "await foreach (var document in documentStream.AsAsyncEnumerable())\n",
    "{\n",
    "    await ProcessDocumentAsync(document, cancellationToken);\n",
    "}\n",
    "```\n",
    "\n",
    "### Memóriakezelés\n",
    "- **Streameléses feldolgozás**: Nagy dokumentumok kezelése memória problémák nélkül\n",
    "- **Erőforráspooling**: Drága erőforrások hatékony újrafelhasználása\n",
    "- **Szemétgyűjtés**: Optimalizált memóriaallokációs minták\n",
    "- **Kapcsolatkezelés**: Megfelelő Azure szolgáltatáskapcsolat-életciklus\n",
    "\n",
    "### Gyorsítótárazási stratégiák\n",
    "- **Lekérdezés gyorsítótárazása**: Gyakran végrehajtott keresések gyorsítótárazása\n",
    "- **Dokumentum gyorsítótárazása**: Memóriában történő gyorsítótárazás népszerű dokumentumokhoz\n",
    "- **Index gyorsítótárazása**: Optimalizált vektorindex gyorsítótárazás\n",
    "- **Eredmény gyorsítótárazása**: Intelligens gyorsítótárazás generált válaszokhoz\n",
    "\n",
    "## 📊 Vállalati felhasználási esetek\n",
    "\n",
    "### Tudásmenedzsment\n",
    "- **Vállalati Wiki**: Intelligens keresés vállalati tudásbázisokban\n",
    "- **Irányelvek és eljárások**: Automatikus megfelelőség és eljárásirányítás\n",
    "- **Képzési anyagok**: Intelligens tanulási és fejlesztési támogatás\n",
    "- **Kutatási adatbázisok**: Akadémiai és kutatási dokumentumelemző rendszerek\n",
    "\n",
    "### Ügyfélszolgálat\n",
    "- **Támogatási tudásbázis**: Automatikus ügyfélszolgálati válaszok\n",
    "- **Termékdokumentáció**: Intelligens termékinformáció-visszakeresés\n",
    "- **Hibaelhárítási útmutatók**: Kontextusfüggő problémamegoldási támogatás\n",
    "- **GYIK rendszerek**: Dinamikus GYIK generálás dokumentumgyűjteményekből\n",
    "\n",
    "### Szabályozási megfelelőség\n",
    "- **Jogi dokumentumelemzés**: Szerződés- és jogi dokumentumintelligencia\n",
    "- **Megfelelőség monitorozása**: Automatikus szabályozási megfelelőség ellenőrzése\n",
    "- **Kockázatelemzés**: Dokumentum-alapú kockázatelemzés és jelentés\n",
    "- **Audit támogatás**: Intelligens dokumentumkeresés auditokhoz\n",
    "\n",
    "## 🚀 Gyártási telepítés\n",
    "\n",
    "### Monitorozás és megfigyelhetőség\n",
    "- **Application Insights**: Részletes telemetria és teljesítményfigyelés\n",
    "- **Egyedi mutatók**: Üzlet-specifikus KPI követés és riasztás\n",
    "- **Elosztott nyomkövetés**: Végponttól végpontig tartó kéréskövetés szolgáltatások között\n",
    "- **Egészségügyi irányítópultok**: Valós idejű rendszer-egészség és teljesítmény vizualizáció\n",
    "\n",
    "### Skálázhatóság és megbízhatóság\n",
    "- **Automatikus skálázás**: Automatikus skálázás terhelés és teljesítménymutatók alapján\n",
    "- **Magas rendelkezésre állás**: Több régiós telepítés átváltási képességekkel\n",
    "- **Terheléses tesztelés**: Teljesítmény validálása vállalati terhelési körülmények között\n",
    "- **Katasztrófa-helyreállítás**: Automatikus biztonsági mentés és helyreállítási eljárások\n",
    "\n",
    "Készen állsz arra, hogy vállalati szintű RAG rendszereket építs, amelyek érzékeny dokumentumokat kezelnek nagy léptékben? Építsünk intelligens tudásrendszereket a vállalat számára! 🏢📖✨\n"
   ]
  },
  {
   "cell_type": "code",
   "execution_count": 1,
   "metadata": {
    "language_info": {
     "name": "polyglot-notebook"
    },
    "polyglot_notebook": {
     "kernelName": "csharp"
    }
   },
   "outputs": [
    {
     "data": {
      "text/html": [
       "<div><div></div><div></div><div><strong>Installed Packages</strong><ul><li><span>Microsoft.Extensions.AI, 9.9.1</span></li></ul></div></div>"
      ]
     },
     "metadata": {},
     "output_type": "display_data"
    }
   ],
   "source": [
    "#r \"nuget: Microsoft.Extensions.AI, 9.9.1\""
   ]
  },
  {
   "cell_type": "code",
   "execution_count": 2,
   "id": "4ec1f0d1",
   "metadata": {
    "language_info": {
     "name": "polyglot-notebook"
    },
    "polyglot_notebook": {
     "kernelName": "csharp"
    }
   },
   "outputs": [
    {
     "data": {
      "text/html": [
       "<div><div></div><div></div><div><strong>Installed Packages</strong><ul><li><span>Azure.AI.Agents.Persistent, 1.2.0-beta.5</span></li><li><span>Azure.Identity, 1.15.0</span></li><li><span>System.Linq.Async, 6.0.3</span></li></ul></div></div>"
      ]
     },
     "metadata": {},
     "output_type": "display_data"
    }
   ],
   "source": [
    "#r \"nuget: Azure.AI.Agents.Persistent, 1.2.0-beta.5\"\n",
    "#r \"nuget: Azure.Identity, 1.15.0\"\n",
    "#r \"nuget: System.Linq.Async, 6.0.3\""
   ]
  },
  {
   "cell_type": "code",
   "execution_count": 3,
   "id": "2363ae07",
   "metadata": {
    "language_info": {
     "name": "polyglot-notebook"
    },
    "polyglot_notebook": {
     "kernelName": "csharp"
    }
   },
   "outputs": [],
   "source": []
  },
  {
   "cell_type": "code",
   "execution_count": null,
   "id": "d10cec9d",
   "metadata": {
    "language_info": {
     "name": "polyglot-notebook"
    },
    "polyglot_notebook": {
     "kernelName": "csharp"
    }
   },
   "outputs": [
    {
     "data": {
      "text/html": [
       "<div><div></div><div></div><div><strong>Installed Packages</strong><ul><li><span>Microsoft.Agents.AI.AzureAI, 1.0.0-preview.251001.2</span></li></ul></div></div>"
      ]
     },
     "metadata": {},
     "output_type": "display_data"
    }
   ],
   "source": [
    "#r \"nuget: Microsoft.Agents.AI.AzureAI, 1.0.0-preview.251001.3\""
   ]
  },
  {
   "cell_type": "code",
   "execution_count": null,
   "id": "78199d1c",
   "metadata": {
    "language_info": {
     "name": "polyglot-notebook"
    },
    "polyglot_notebook": {
     "kernelName": "csharp"
    }
   },
   "outputs": [
    {
     "data": {
      "text/html": [
       "<div><div></div><div></div><div><strong>Installed Packages</strong><ul><li><span>microsoft.agents.ai, 1.0.0-preview.251001.2</span></li></ul></div></div>"
      ]
     },
     "metadata": {},
     "output_type": "display_data"
    }
   ],
   "source": [
    "#r \"nuget: Microsoft.Agents.AI, 1.0.0-preview.251001.3\""
   ]
  },
  {
   "cell_type": "code",
   "execution_count": 6,
   "id": "7de4684a",
   "metadata": {
    "language_info": {
     "name": "polyglot-notebook"
    },
    "polyglot_notebook": {
     "kernelName": "csharp"
    }
   },
   "outputs": [
    {
     "data": {
      "text/html": [
       "<div><div></div><div></div><div><strong>Installed Packages</strong><ul><li><span>DotNetEnv, 3.1.1</span></li></ul></div></div>"
      ]
     },
     "metadata": {},
     "output_type": "display_data"
    }
   ],
   "source": [
    "#r \"nuget: DotNetEnv, 3.1.1\""
   ]
  },
  {
   "cell_type": "code",
   "execution_count": 7,
   "id": "251efd31",
   "metadata": {
    "language_info": {
     "name": "polyglot-notebook"
    },
    "polyglot_notebook": {
     "kernelName": "csharp"
    }
   },
   "outputs": [],
   "source": [
    "using System;\n",
    "using System.Linq;\n",
    "using Azure.AI.Agents.Persistent;\n",
    "using Azure.Identity;\n",
    "using Microsoft.Agents.AI;"
   ]
  },
  {
   "cell_type": "code",
   "execution_count": 8,
   "id": "a2e342f1",
   "metadata": {
    "language_info": {
     "name": "polyglot-notebook"
    },
    "polyglot_notebook": {
     "kernelName": "csharp"
    }
   },
   "outputs": [],
   "source": [
    " using DotNetEnv;"
   ]
  },
  {
   "cell_type": "code",
   "execution_count": 9,
   "id": "a7a01653",
   "metadata": {
    "language_info": {
     "name": "polyglot-notebook"
    },
    "polyglot_notebook": {
     "kernelName": "csharp"
    }
   },
   "outputs": [],
   "source": [
    "Env.Load(\"../../../.env\");"
   ]
  },
  {
   "cell_type": "code",
   "execution_count": 10,
   "id": "a42735d5",
   "metadata": {
    "language_info": {
     "name": "polyglot-notebook"
    },
    "polyglot_notebook": {
     "kernelName": "csharp"
    }
   },
   "outputs": [],
   "source": [
    "var azure_foundry_endpoint = Environment.GetEnvironmentVariable(\"AZURE_AI_PROJECT_ENDPOINT\") ?? throw new InvalidOperationException(\"AZURE_AI_PROJECT_ENDPOINT is not set.\");\n",
    "var azure_foundry_model_id = Environment.GetEnvironmentVariable(\"AZURE_AI_MODEL_DEPLOYMENT_NAME\") ?? \"gpt-4.1-mini\";"
   ]
  },
  {
   "cell_type": "code",
   "execution_count": 11,
   "id": "e29bdb58",
   "metadata": {
    "language_info": {
     "name": "polyglot-notebook"
    },
    "polyglot_notebook": {
     "kernelName": "csharp"
    }
   },
   "outputs": [],
   "source": [
    "string pdfPath = \"./document.md\";"
   ]
  },
  {
   "cell_type": "code",
   "execution_count": 12,
   "id": "7351e12d",
   "metadata": {
    "language_info": {
     "name": "polyglot-notebook"
    },
    "polyglot_notebook": {
     "kernelName": "csharp"
    }
   },
   "outputs": [],
   "source": [
    "using System.IO;\n",
    "\n",
    "async Task<Stream> OpenImageStreamAsync(string path)\n",
    "{\n",
    "\treturn await Task.Run(() => File.OpenRead(path));\n",
    "}\n",
    "\n",
    "var pdfStream = await OpenImageStreamAsync(pdfPath);"
   ]
  },
  {
   "cell_type": "code",
   "execution_count": 13,
   "id": "0b6bf484",
   "metadata": {
    "language_info": {
     "name": "polyglot-notebook"
    },
    "polyglot_notebook": {
     "kernelName": "csharp"
    }
   },
   "outputs": [],
   "source": [
    "var persistentAgentsClient = new PersistentAgentsClient(azure_foundry_endpoint, new AzureCliCredential());"
   ]
  },
  {
   "cell_type": "code",
   "execution_count": 14,
   "id": "81e0dddc",
   "metadata": {
    "language_info": {
     "name": "polyglot-notebook"
    },
    "polyglot_notebook": {
     "kernelName": "csharp"
    }
   },
   "outputs": [],
   "source": [
    "PersistentAgentFileInfo fileInfo = await persistentAgentsClient.Files.UploadFileAsync(pdfStream, PersistentAgentFilePurpose.Agents, \"demo.md\");"
   ]
  },
  {
   "cell_type": "code",
   "execution_count": 15,
   "id": "f0c75d80",
   "metadata": {
    "language_info": {
     "name": "polyglot-notebook"
    },
    "polyglot_notebook": {
     "kernelName": "csharp"
    }
   },
   "outputs": [],
   "source": [
    "PersistentAgentsVectorStore fileStore =\n",
    "            await persistentAgentsClient.VectorStores.CreateVectorStoreAsync(\n",
    "                [fileInfo.Id],\n",
    "                metadata: new Dictionary<string, string>() { { \"agentkey\", bool.TrueString } });"
   ]
  },
  {
   "cell_type": "code",
   "execution_count": 16,
   "id": "c77986c5",
   "metadata": {
    "language_info": {
     "name": "polyglot-notebook"
    },
    "polyglot_notebook": {
     "kernelName": "csharp"
    }
   },
   "outputs": [],
   "source": [
    "PersistentAgent agentModel = await persistentAgentsClient.Administration.CreateAgentAsync(\n",
    "            azure_foundry_model_id,\n",
    "            name: \"DotNetRAGAgent\",\n",
    "            tools: [new FileSearchToolDefinition()],\n",
    "            instructions: \"\"\"\n",
    "                You are an AI assistant designed to answer user questions using only the information retrieved from the provided document(s).\n",
    "\n",
    "                - If a user's question cannot be answered using the retrieved context, **you must clearly respond**: \n",
    "                \"I'm sorry, but the uploaded document does not contain the necessary information to answer that question.\"\n",
    "                - Do not answer from general knowledge or reasoning. Do not make assumptions or generate hypothetical explanations.\n",
    "                - Do not provide definitions, tutorials, or commentary that is not explicitly grounded in the content of the uploaded file(s).\n",
    "                - If a user asks a question like \"What is a Neural Network?\", and this is not discussed in the uploaded document, respond as instructed above.\n",
    "                - For questions that do have relevant content in the document (e.g., Contoso's travel insurance coverage), respond accurately, and cite the document explicitly.\n",
    "\n",
    "                You must behave as if you have no external knowledge beyond what is retrieved from the uploaded document.\n",
    "                \"\"\",\n",
    "            toolResources: new()\n",
    "            {\n",
    "                FileSearch = new()\n",
    "                {\n",
    "                    VectorStoreIds = { fileStore.Id },\n",
    "                }\n",
    "            },\n",
    "            metadata: new Dictionary<string, string>() { { \"agentkey\", bool.TrueString } });"
   ]
  },
  {
   "cell_type": "code",
   "execution_count": 17,
   "id": "282326cf",
   "metadata": {
    "language_info": {
     "name": "polyglot-notebook"
    },
    "polyglot_notebook": {
     "kernelName": "csharp"
    }
   },
   "outputs": [],
   "source": [
    "AIAgent agent = await persistentAgentsClient.GetAIAgentAsync(agentModel.Id);"
   ]
  },
  {
   "cell_type": "code",
   "execution_count": 18,
   "id": "2067d313",
   "metadata": {
    "language_info": {
     "name": "polyglot-notebook"
    },
    "polyglot_notebook": {
     "kernelName": "csharp"
    }
   },
   "outputs": [],
   "source": [
    "AgentThread thread = agent.GetNewThread();"
   ]
  },
  {
   "cell_type": "code",
   "execution_count": 19,
   "id": "454c4230",
   "metadata": {
    "language_info": {
     "name": "polyglot-notebook"
    },
    "polyglot_notebook": {
     "kernelName": "csharp"
    }
   },
   "outputs": [
    {
     "name": "stdout",
     "output_type": "stream",
     "text": [
      "Contoso's travel insurance coverage includes protection for medical emergencies, trip cancellations, and lost baggage. This ensures that travelers are supported in case of health-related issues during their trip, unforeseen cancellations, and the loss of their belongings while traveling【4:0†demo.md】.\r\n"
     ]
    }
   ],
   "source": [
    "Console.WriteLine(await agent.RunAsync(\"Can you explain Contoso's travel insurance coverage?\", thread));"
   ]
  },
  {
   "cell_type": "markdown",
   "metadata": {},
   "source": [
    "\n---\n\n**Felelősség kizárása**:  \nEz a dokumentum az [Co-op Translator](https://github.com/Azure/co-op-translator) AI fordítási szolgáltatás segítségével került lefordításra. Bár törekszünk a pontosságra, kérjük, vegye figyelembe, hogy az automatikus fordítások hibákat vagy pontatlanságokat tartalmazhatnak. Az eredeti dokumentum az eredeti nyelvén tekintendő hiteles forrásnak. Kritikus információk esetén javasolt professzionális emberi fordítást igénybe venni. Nem vállalunk felelősséget semmilyen félreértésért vagy téves értelmezésért, amely a fordítás használatából eredhet.\n"
   ]
  }
 ],
 "metadata": {
  "kernelspec": {
   "display_name": ".NET (C#)",
   "language": "C#",
   "name": ".net-csharp"
  },
  "language_info": {
   "name": "polyglot-notebook"
  },
  "polyglot_notebook": {
   "kernelInfo": {
    "defaultKernelName": "csharp",
    "items": [
     {
      "aliases": [],
      "name": "csharp"
     }
    ]
   }
  },
  "coopTranslator": {
   "original_hash": "e4584fa31638009dc6fb665275de8fc2",
   "translation_date": "2025-10-02T09:01:48+00:00",
   "source_file": "05-agentic-rag/code_samples/05-dotnet-agent-framework.ipynb",
   "language_code": "hu"
  }
 },
 "nbformat": 4,
 "nbformat_minor": 5
}