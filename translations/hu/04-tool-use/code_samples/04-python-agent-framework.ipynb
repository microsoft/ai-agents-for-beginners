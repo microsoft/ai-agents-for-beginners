{
 "cells": [
  {
   "cell_type": "markdown",
   "id": "8744544f",
   "metadata": {},
   "source": [
    "# 🛠️ Fejlett eszközhasználat GitHub modellekkel (Python)\n",
    "\n",
    "## 📋 Tanulási célok\n",
    "\n",
    "Ez a jegyzetfüzet bemutatja a Microsoft Agent Framework és a GitHub modellek használatával történő fejlett eszközintegrációs mintákat. Megtanulhatod, hogyan hozhatsz létre, kezelhetsz és irányíthatsz több eszközt, hogy kifinomult ügynöki képességeket építs.\n",
    "\n",
    "**Amit elsajátítasz:**\n",
    "- 🔧 **Többeszközös architektúra**: Ügynökök építése több specializált eszközzel\n",
    "- 🎯 **Eszközválasztási logika**: Hogyan választják ki az ügynökök a megfelelő eszközt az adott feladathoz\n",
    "- 📊 **Adatfeldolgozó eszközök**: Eszközök létrehozása különböző adatfajták kezelésére\n",
    "- 🔗 **Eszközök kombinálása**: Eszközök összekapcsolása összetett munkafolyamatokhoz\n",
    "\n",
    "## 🎯 Kulcsfontosságú eszközminták\n",
    "\n",
    "### Eszköztervezési alapelvek\n",
    "- **Egyetlen felelősség**: Minden eszköznek világos, fókuszált célja van\n",
    "- **Típusbiztonság**: Erős típusok a megbízható eszközvégrehajtáshoz\n",
    "- **Hibakezelés**: Kifinomult hibaelhárítási és helyreállítási minták\n",
    "- **Komponálhatóság**: Egymással jól működő eszközök\n",
    "\n",
    "### Fejlett eszközfunkciók\n",
    "- **Kontextusérzékenység**: Az eszközök megértik a beszélgetés kontextusát\n",
    "- **Adatellenőrzés**: Bemeneti tisztítás és kimeneti validáció\n",
    "- **Teljesítményoptimalizálás**: Hatékony eszközvégrehajtási minták\n",
    "- **Bővíthetőség**: Új eszközfunkciók egyszerű hozzáadása\n",
    "\n",
    "## 🔧 Technikai architektúra\n",
    "\n",
    "### Alapvető komponensek\n",
    "- **Microsoft Agent Framework**: Python implementáció fejlett eszköztámogatással\n",
    "- **GitHub modellek integrációja**: Nagy teljesítményű nyelvi modell hozzáférés\n",
    "- **Eszközregisztrációs rendszer**: Az ügynöki képességek szervezett kezelése\n",
    "- **Helyreállítási minták hibák esetén**: Robusztus hibaelhárítási mechanizmusok\n",
    "\n",
    "### Eszközintegrációs folyamat\n",
    "```python\n",
    "User Request → Agent Analysis → Tool Selection → Tool Execution → Response Synthesis\n",
    "```\n",
    "\n",
    "## 🛠️ Bemutatott eszközkategóriák\n",
    "\n",
    "### 1. **Adatgeneráló eszközök**\n",
    "- Véletlenszerű úti cél generátor\n",
    "- Időjárás-információ szolgáltató  \n",
    "- Utazási költség kalkulátor\n",
    "- Tevékenységajánló motor\n",
    "\n",
    "### 2. **Feldolgozó eszközök**\n",
    "- Szövegformázás és validáció\n",
    "- Adattranszformációs segédprogramok\n",
    "- Tartalomelemző funkciók\n",
    "- Válaszjavító eszközök\n",
    "\n",
    "### 3. **Integrációs eszközök**\n",
    "- Külső API csatlakozók\n",
    "- Fájlrendszer műveletek\n",
    "- Adatbázis-lekérdezési interfészek\n",
    "- Webes adatgyűjtő segédprogramok\n",
    "\n",
    "## ⚙️ Előfeltételek és beállítás\n",
    "\n",
    "**Szükséges függőségek:**\n",
    "```bash\n",
    "\n",
    "pip install agent-framework-core -U\n",
    "```\n",
    "\n",
    "**Környezetkonfiguráció (.env fájl):**\n",
    "```env\n",
    "GITHUB_TOKEN=your_github_personal_access_token\n",
    "GITHUB_ENDPOINT=https://models.inference.ai.azure.com\n",
    "GITHUB_MODEL_ID=gpt-4o-mini\n",
    "```\n",
    "\n",
    "**Opcionális API-k:**\n",
    "- Időjárási szolgáltatás API kulcs (időjárási eszközökhöz)\n",
    "- Valutaváltási API hozzáférés\n",
    "- Utazási információs szolgáltatás hitelesítő adatai\n",
    "\n",
    "## 🎨 Tervezési minták\n",
    "\n",
    "### Eszközgyár minta\n",
    "- Központosított eszközlétrehozás és konfiguráció\n",
    "- Egységes eszközfelület-tervezés\n",
    "- Egyszerű eszközregisztráció és felfedezés\n",
    "\n",
    "### Parancs minta\n",
    "- Eszközvégrehajtási logika kapszulázása\n",
    "- Visszavonás/újra végrehajtás funkció összetett műveletekhez\n",
    "- Eszközhasználati naplózás\n",
    "\n",
    "### Megfigyelő minta\n",
    "- Eszközvégrehajtás monitorozása\n",
    "- Teljesítménymetrikák gyűjtése\n",
    "- Hibajelentés és riasztás\n",
    "\n",
    "## 🚀 Legjobb gyakorlatok\n",
    "\n",
    "- **Eszközdokumentáció**: Világos leírások az ügynökök megértéséhez\n",
    "- **Bemeneti validáció**: Robusztus paraméterellenőrzés és tisztítás\n",
    "- **Kimeneti formázás**: Konzisztens, elemezhető eszközválaszok\n",
    "- **Hibaüzenetek**: Hasznos hibaüzenetek a hibakereséshez\n",
    "- **Teljesítmény**: Optimalizált eszközvégrehajtás a gyors válaszidő érdekében\n",
    "\n",
    "Készen állsz arra, hogy erőteljes eszközfunkciókkal rendelkező ügynököket építs? Hozzunk létre valami lenyűgözőt! ⚡\n"
   ]
  },
  {
   "cell_type": "code",
   "execution_count": null,
   "id": "59c0feeb",
   "metadata": {},
   "outputs": [],
   "source": [
    "! pip install agent-framework-core -U"
   ]
  },
  {
   "cell_type": "code",
   "execution_count": null,
   "id": "c0df8a52",
   "metadata": {},
   "outputs": [],
   "source": [
    "# � Import core dependencies for Agent Framework and tool integration\n",
    "# This sets up the essential libraries for building intelligent agents with tool capabilities\n",
    "\n",
    "import asyncio\n",
    "import os\n",
    "import json\n",
    "\n",
    "from dotenv import load_dotenv  # For loading environment variables securely\n",
    "from random import randint\n",
    "\n",
    "# These are the core components for building tool-enabled agents\n",
    "from agent_framework import ChatAgent           # Main agent class\n",
    "from agent_framework.openai import OpenAIChatClient  # OpenAI-compatible client"
   ]
  },
  {
   "cell_type": "code",
   "execution_count": null,
   "id": "24c10eb0",
   "metadata": {},
   "outputs": [],
   "source": [
    "load_dotenv()"
   ]
  },
  {
   "cell_type": "code",
   "execution_count": null,
   "id": "151e0314",
   "metadata": {},
   "outputs": [],
   "source": [
    "# 🔑 Environment variables verification\n",
    "# Ensure all required GitHub Models credentials are properly configured\n",
    "print(\"GITHUB_ENDPOINT:\", os.environ.get(\"GITHUB_ENDPOINT\"))\n",
    "print(\"GITHUB_TOKEN:\", \"***\" if os.environ.get(\"GITHUB_TOKEN\") else \"Not set\")\n",
    "print(\"GITHUB_MODEL_ID:\", os.environ.get(\"GITHUB_MODEL_ID\"))"
   ]
  },
  {
   "cell_type": "code",
   "execution_count": null,
   "id": "a6141584",
   "metadata": {},
   "outputs": [],
   "source": [
    "# 🧪 Test GitHub Models connectivity\n",
    "openai_chat_client = OpenAIChatClient(base_url=os.environ.get(\"GITHUB_ENDPOINT\"), api_key=os.environ.get(\"GITHUB_TOKEN\"), model_id=os.environ.get(\"GITHUB_MODEL_ID\"))"
   ]
  },
  {
   "cell_type": "code",
   "execution_count": null,
   "id": "a6507f83",
   "metadata": {},
   "outputs": [],
   "source": [
    "# 🛠️ Define travel planning tools for agent integration\n",
    "# These functions provide specific capabilities that the agent can invoke dynamically\n",
    "\n",
    "def get_random_destination() -> str:\n",
    "    \"\"\"\n",
    "    🎲 Random destination generator tool\n",
    "    Returns a randomly selected travel destination from curated list\n",
    "    Useful when customers need inspiration for their next vacation\n",
    "    \"\"\"\n",
    "    destinations = [\n",
    "        \"Paris, France\",\n",
    "        \"Tokyo, Japan\", \n",
    "        \"New York City, USA\",\n",
    "        \"London, England\",\n",
    "        \"Rome, Italy\",\n",
    "        \"Sydney, Australia\",\n",
    "        \"Dubai, UAE\",\n",
    "        \"Barcelona, Spain\",\n",
    "        \"Bangkok, Thailand\",\n",
    "        \"Amsterdam, Netherlands\",\n",
    "        \"Istanbul, Turkey\",\n",
    "        \"Prague, Czech Republic\",\n",
    "        \"Santorini, Greece\",\n",
    "        \"Reykjavik, Iceland\",\n",
    "        \"Marrakech, Morocco\",\n",
    "        \"Cape Town, South Africa\",\n",
    "        \"Rio de Janeiro, Brazil\",\n",
    "        \"Bali, Indonesia\"\n",
    "    ]\n",
    "    # 🎯 Return random selection from the curated destination list\n",
    "    return destinations[randint(0, len(destinations) - 1)]"
   ]
  },
  {
   "cell_type": "code",
   "execution_count": null,
   "id": "5d4f0568",
   "metadata": {},
   "outputs": [],
   "source": [
    "# 🔗 Initialize GitHub Models chat client for agent communication\n",
    "# Creates the primary interface between the agent and the language model\n",
    "openai_chat_client = OpenAIChatClient(base_url=os.environ.get(\"GITHUB_ENDPOINT\"), api_key=os.environ.get(\"GITHUB_TOKEN\"), model_id=os.environ.get(\"GITHUB_MODEL_ID\"))"
   ]
  },
  {
   "cell_type": "code",
   "execution_count": null,
   "id": "751668c5",
   "metadata": {},
   "outputs": [],
   "source": [
    "# 🤖 Configure travel agent identity and behavioral instructions\n",
    "# Define the agent's personality, capabilities, and operational guidelines\n",
    "\n",
    "AGENT_NAME = \"TravelAgent\"\n",
    "\n",
    "AGENT_INSTRUCTIONS = \"\"\"You are a helpful AI Agent that can help plan vacations for customers at random destinations\n",
    "\"\"\""
   ]
  },
  {
   "cell_type": "code",
   "execution_count": null,
   "id": "be18ac4f",
   "metadata": {},
   "outputs": [],
   "source": [
    "agent = ChatAgent(\n",
    "        name = AGENT_NAME,\n",
    "        chat_client=openai_chat_client,\n",
    "        instructions=AGENT_INSTRUCTIONS,\n",
    "        tools=[get_random_destination]\n",
    ")"
   ]
  },
  {
   "cell_type": "code",
   "execution_count": null,
   "id": "772e9481",
   "metadata": {},
   "outputs": [],
   "source": [
    "thread = agent.get_new_thread()"
   ]
  },
  {
   "cell_type": "code",
   "execution_count": null,
   "id": "a731b547",
   "metadata": {},
   "outputs": [],
   "source": [
    "response1 = await agent.run(\"Plan me a day trip\",thread= thread)"
   ]
  },
  {
   "cell_type": "code",
   "execution_count": null,
   "id": "7d3fe00a",
   "metadata": {},
   "outputs": [],
   "source": [
    "\n",
    "last_message = response1.messages[-1]\n",
    "text_content = last_message.contents[0].text\n",
    "print(\"Travel plan:\")\n",
    "print(text_content)"
   ]
  },
  {
   "cell_type": "markdown",
   "metadata": {},
   "source": [
    "\n---\n\n**Felelősségkizárás**:  \nEz a dokumentum az [Co-op Translator](https://github.com/Azure/co-op-translator) AI fordítószolgáltatás segítségével készült. Bár törekszünk a pontosságra, kérjük, vegye figyelembe, hogy az automatikus fordítások hibákat vagy pontatlanságokat tartalmazhatnak. Az eredeti dokumentum az eredeti nyelvén tekintendő hiteles forrásnak. Kritikus információk esetén javasolt a professzionális, emberi fordítás igénybevétele. Nem vállalunk felelősséget a fordítás használatából eredő félreértésekért vagy téves értelmezésekért.\n"
   ]
  }
 ],
 "metadata": {
  "kernelspec": {
   "display_name": "agentenv",
   "language": "python",
   "name": "python3"
  },
  "language_info": {
   "codemirror_mode": {
    "name": "ipython",
    "version": 3
   },
   "file_extension": ".py",
   "mimetype": "text/x-python",
   "name": "python",
   "nbconvert_exporter": "python",
   "pygments_lexer": "ipython3",
   "version": "3.12.10"
  },
  "polyglot_notebook": {
   "kernelInfo": {
    "defaultKernelName": "csharp",
    "items": [
     {
      "aliases": [],
      "name": "csharp"
     }
    ]
   }
  },
  "coopTranslator": {
   "original_hash": "42966ddac53cebaf0ac1ce33b2ee7059",
   "translation_date": "2025-10-02T09:13:35+00:00",
   "source_file": "04-tool-use/code_samples/04-python-agent-framework.ipynb",
   "language_code": "hu"
  }
 },
 "nbformat": 4,
 "nbformat_minor": 5
}