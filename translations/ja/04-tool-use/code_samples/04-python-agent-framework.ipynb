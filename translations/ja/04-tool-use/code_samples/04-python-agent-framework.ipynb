{
 "cells": [
  {
   "cell_type": "markdown",
   "id": "8744544f",
   "metadata": {},
   "source": [
    "# 🛠️ GitHubモデルを活用した高度なツール使用法 (Python)\n",
    "\n",
    "## 📋 学習目標\n",
    "\n",
    "このノートブックでは、Microsoft Agent Frameworkを使用してGitHubモデルと統合する高度なツールパターンを紹介します。複数のツールを作成、管理、調整して、洗練されたエージェント機能を構築する方法を学びます。\n",
    "\n",
    "**習得できる内容:**\n",
    "- 🔧 **マルチツールアーキテクチャ**: 専門的なツールを複数組み合わせたエージェントの構築\n",
    "- 🎯 **ツール選択ロジック**: エージェントがタスクに適したツールを選ぶ方法\n",
    "- 📊 **データ処理ツール**: 異なるデータタイプを扱うツールの作成\n",
    "- 🔗 **ツールの組み合わせ**: 複雑なワークフローを実現するツールの統合\n",
    "\n",
    "## 🎯 主要なツールパターン\n",
    "\n",
    "### ツール設計の原則\n",
    "- **単一責任**: 各ツールは明確で焦点を絞った目的を持つ\n",
    "- **型の安全性**: 信頼性の高いツール実行のための強い型付け\n",
    "- **エラーハンドリング**: 優雅な失敗と回復パターン\n",
    "- **組み合わせ可能性**: 他のツールと連携しやすい設計\n",
    "\n",
    "### 高度なツール機能\n",
    "- **コンテキスト認識**: 会話の文脈を理解するツール\n",
    "- **データ検証**: 入力の整合性チェックと出力の検証\n",
    "- **パフォーマンス最適化**: 効率的なツール実行パターン\n",
    "- **拡張性**: 新しいツール機能の簡単な追加\n",
    "\n",
    "## 🔧 技術アーキテクチャ\n",
    "\n",
    "### コアコンポーネント\n",
    "- **Microsoft Agent Framework**: 高度なツールサポートを備えたPython実装\n",
    "- **GitHubモデル統合**: 高性能な言語モデルアクセス\n",
    "- **ツール登録システム**: エージェント機能の体系的な管理\n",
    "- **エラー回復パターン**: ツール実行失敗の堅牢な処理\n",
    "\n",
    "### ツール統合フロー\n",
    "```python\n",
    "User Request → Agent Analysis → Tool Selection → Tool Execution → Response Synthesis\n",
    "```\n",
    "\n",
    "## 🛠️ デモンストレーションされるツールカテゴリ\n",
    "\n",
    "### 1. **データ生成ツール**\n",
    "- ランダムな目的地生成器\n",
    "- 天気情報提供ツール  \n",
    "- 旅行費用計算ツール\n",
    "- アクティビティ推奨エンジン\n",
    "\n",
    "### 2. **処理ツール**\n",
    "- テキストのフォーマットと検証\n",
    "- データ変換ユーティリティ\n",
    "- コンテンツ分析機能\n",
    "- 応答強化ツール\n",
    "\n",
    "### 3. **統合ツール**\n",
    "- 外部APIコネクタ\n",
    "- ファイルシステム操作\n",
    "- データベースクエリインターフェース\n",
    "- ウェブスクレイピングユーティリティ\n",
    "\n",
    "## ⚙️ 前提条件とセットアップ\n",
    "\n",
    "**必要な依存関係:**\n",
    "```bash\n",
    "\n",
    "pip install agent-framework-core -U\n",
    "```\n",
    "\n",
    "**環境設定 (.envファイル):**\n",
    "```env\n",
    "GITHUB_TOKEN=your_github_personal_access_token\n",
    "GITHUB_ENDPOINT=https://models.inference.ai.azure.com\n",
    "GITHUB_MODEL_ID=gpt-4o-mini\n",
    "```\n",
    "\n",
    "**オプションのAPI:**\n",
    "- 天気サービスAPIキー (天気ツール用)\n",
    "- 通貨換算APIアクセス\n",
    "- 旅行情報サービスの認証情報\n",
    "\n",
    "## 🎨 設計パターン\n",
    "\n",
    "### ツールファクトリーパターン\n",
    "- ツールの集中管理と設定\n",
    "- 一貫性のあるツールインターフェース設計\n",
    "- 簡単なツール登録と発見\n",
    "\n",
    "### コマンドパターン\n",
    "- ツール実行ロジックのカプセル化\n",
    "- 複雑な操作の元に戻す/やり直し機能\n",
    "- ツール使用の監査ログ\n",
    "\n",
    "### オブザーバーパターン\n",
    "- ツール実行の監視\n",
    "- パフォーマンス指標の収集\n",
    "- エラー報告とアラート\n",
    "\n",
    "## 🚀 ベストプラクティス\n",
    "\n",
    "- **ツールのドキュメント化**: エージェントが理解しやすい明確な説明\n",
    "- **入力検証**: パラメータの厳密なチェックと整合性\n",
    "- **出力フォーマット**: 一貫性があり解析可能なツール応答\n",
    "- **エラーメッセージ**: デバッグに役立つエラー情報\n",
    "- **パフォーマンス**: 応答性を高めるための最適化されたツール実行\n",
    "\n",
    "強力なツール機能を備えたエージェントを構築する準備はできましたか？素晴らしいものを作りましょう！⚡\n"
   ]
  },
  {
   "cell_type": "code",
   "execution_count": null,
   "id": "59c0feeb",
   "metadata": {},
   "outputs": [],
   "source": [
    "! pip install agent-framework-core -U"
   ]
  },
  {
   "cell_type": "code",
   "execution_count": null,
   "id": "c0df8a52",
   "metadata": {},
   "outputs": [],
   "source": [
    "# � Import core dependencies for Agent Framework and tool integration\n",
    "# This sets up the essential libraries for building intelligent agents with tool capabilities\n",
    "\n",
    "import asyncio\n",
    "import os\n",
    "import json\n",
    "\n",
    "from dotenv import load_dotenv  # For loading environment variables securely\n",
    "from random import randint\n",
    "\n",
    "# These are the core components for building tool-enabled agents\n",
    "from agent_framework import ChatAgent           # Main agent class\n",
    "from agent_framework.openai import OpenAIChatClient  # OpenAI-compatible client"
   ]
  },
  {
   "cell_type": "code",
   "execution_count": null,
   "id": "24c10eb0",
   "metadata": {},
   "outputs": [],
   "source": [
    "load_dotenv()"
   ]
  },
  {
   "cell_type": "code",
   "execution_count": null,
   "id": "151e0314",
   "metadata": {},
   "outputs": [],
   "source": [
    "# 🔑 Environment variables verification\n",
    "# Ensure all required GitHub Models credentials are properly configured\n",
    "print(\"GITHUB_ENDPOINT:\", os.environ.get(\"GITHUB_ENDPOINT\"))\n",
    "print(\"GITHUB_TOKEN:\", \"***\" if os.environ.get(\"GITHUB_TOKEN\") else \"Not set\")\n",
    "print(\"GITHUB_MODEL_ID:\", os.environ.get(\"GITHUB_MODEL_ID\"))"
   ]
  },
  {
   "cell_type": "code",
   "execution_count": null,
   "id": "a6141584",
   "metadata": {},
   "outputs": [],
   "source": [
    "# 🧪 Test GitHub Models connectivity\n",
    "openai_chat_client = OpenAIChatClient(base_url=os.environ.get(\"GITHUB_ENDPOINT\"), api_key=os.environ.get(\"GITHUB_TOKEN\"), model_id=os.environ.get(\"GITHUB_MODEL_ID\"))"
   ]
  },
  {
   "cell_type": "code",
   "execution_count": null,
   "id": "a6507f83",
   "metadata": {},
   "outputs": [],
   "source": [
    "# 🛠️ Define travel planning tools for agent integration\n",
    "# These functions provide specific capabilities that the agent can invoke dynamically\n",
    "\n",
    "def get_random_destination() -> str:\n",
    "    \"\"\"\n",
    "    🎲 Random destination generator tool\n",
    "    Returns a randomly selected travel destination from curated list\n",
    "    Useful when customers need inspiration for their next vacation\n",
    "    \"\"\"\n",
    "    destinations = [\n",
    "        \"Paris, France\",\n",
    "        \"Tokyo, Japan\", \n",
    "        \"New York City, USA\",\n",
    "        \"London, England\",\n",
    "        \"Rome, Italy\",\n",
    "        \"Sydney, Australia\",\n",
    "        \"Dubai, UAE\",\n",
    "        \"Barcelona, Spain\",\n",
    "        \"Bangkok, Thailand\",\n",
    "        \"Amsterdam, Netherlands\",\n",
    "        \"Istanbul, Turkey\",\n",
    "        \"Prague, Czech Republic\",\n",
    "        \"Santorini, Greece\",\n",
    "        \"Reykjavik, Iceland\",\n",
    "        \"Marrakech, Morocco\",\n",
    "        \"Cape Town, South Africa\",\n",
    "        \"Rio de Janeiro, Brazil\",\n",
    "        \"Bali, Indonesia\"\n",
    "    ]\n",
    "    # 🎯 Return random selection from the curated destination list\n",
    "    return destinations[randint(0, len(destinations) - 1)]"
   ]
  },
  {
   "cell_type": "code",
   "execution_count": null,
   "id": "5d4f0568",
   "metadata": {},
   "outputs": [],
   "source": [
    "# 🔗 Initialize GitHub Models chat client for agent communication\n",
    "# Creates the primary interface between the agent and the language model\n",
    "openai_chat_client = OpenAIChatClient(base_url=os.environ.get(\"GITHUB_ENDPOINT\"), api_key=os.environ.get(\"GITHUB_TOKEN\"), model_id=os.environ.get(\"GITHUB_MODEL_ID\"))"
   ]
  },
  {
   "cell_type": "code",
   "execution_count": null,
   "id": "751668c5",
   "metadata": {},
   "outputs": [],
   "source": [
    "# 🤖 Configure travel agent identity and behavioral instructions\n",
    "# Define the agent's personality, capabilities, and operational guidelines\n",
    "\n",
    "AGENT_NAME = \"TravelAgent\"\n",
    "\n",
    "AGENT_INSTRUCTIONS = \"\"\"You are a helpful AI Agent that can help plan vacations for customers at random destinations\n",
    "\"\"\""
   ]
  },
  {
   "cell_type": "code",
   "execution_count": null,
   "id": "be18ac4f",
   "metadata": {},
   "outputs": [],
   "source": [
    "agent = ChatAgent(\n",
    "        name = AGENT_NAME,\n",
    "        chat_client=openai_chat_client,\n",
    "        instructions=AGENT_INSTRUCTIONS,\n",
    "        tools=[get_random_destination]\n",
    ")"
   ]
  },
  {
   "cell_type": "code",
   "execution_count": null,
   "id": "772e9481",
   "metadata": {},
   "outputs": [],
   "source": [
    "thread = agent.get_new_thread()"
   ]
  },
  {
   "cell_type": "code",
   "execution_count": null,
   "id": "a731b547",
   "metadata": {},
   "outputs": [],
   "source": [
    "response1 = await agent.run(\"Plan me a day trip\",thread= thread)"
   ]
  },
  {
   "cell_type": "code",
   "execution_count": null,
   "id": "7d3fe00a",
   "metadata": {},
   "outputs": [],
   "source": [
    "\n",
    "last_message = response1.messages[-1]\n",
    "text_content = last_message.contents[0].text\n",
    "print(\"Travel plan:\")\n",
    "print(text_content)"
   ]
  },
  {
   "cell_type": "markdown",
   "metadata": {},
   "source": [
    "\n---\n\n**免責事項**:  \nこの文書は、AI翻訳サービス [Co-op Translator](https://github.com/Azure/co-op-translator) を使用して翻訳されています。正確性を追求しておりますが、自動翻訳には誤りや不正確な部分が含まれる可能性があることをご承知ください。元の言語で記載された文書が正式な情報源とみなされるべきです。重要な情報については、専門の人間による翻訳を推奨します。この翻訳の使用に起因する誤解や誤解釈について、当方は一切の責任を負いません。\n"
   ]
  }
 ],
 "metadata": {
  "kernelspec": {
   "display_name": "agentenv",
   "language": "python",
   "name": "python3"
  },
  "language_info": {
   "codemirror_mode": {
    "name": "ipython",
    "version": 3
   },
   "file_extension": ".py",
   "mimetype": "text/x-python",
   "name": "python",
   "nbconvert_exporter": "python",
   "pygments_lexer": "ipython3",
   "version": "3.12.10"
  },
  "polyglot_notebook": {
   "kernelInfo": {
    "defaultKernelName": "csharp",
    "items": [
     {
      "aliases": [],
      "name": "csharp"
     }
    ]
   }
  },
  "coopTranslator": {
   "original_hash": "42966ddac53cebaf0ac1ce33b2ee7059",
   "translation_date": "2025-10-02T06:20:30+00:00",
   "source_file": "04-tool-use/code_samples/04-python-agent-framework.ipynb",
   "language_code": "ja"
  }
 },
 "nbformat": 4,
 "nbformat_minor": 5
}