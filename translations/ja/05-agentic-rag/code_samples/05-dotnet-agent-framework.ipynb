{
 "cells": [
  {
   "cell_type": "markdown",
   "id": "44b5899e",
   "metadata": {},
   "source": [
    "# 🔍 Azure AI Foundry (.NET) を活用したエンタープライズRAG\n",
    "\n",
    "## 📋 学習目標\n",
    "\n",
    "このノートブックでは、Microsoft Agent Frameworkを使用してAzure AI Foundryでエンタープライズ向けのRetrieval-Augmented Generation (RAG) システムを構築する方法を紹介します。ドキュメントを検索し、正確でコンテキストに基づいた回答を提供する、セキュリティとスケーラビリティを備えたプロダクション対応のエージェントを作成する方法を学びます。\n",
    "\n",
    "**構築するエンタープライズRAGの機能:**\n",
    "- 📚 **ドキュメントインテリジェンス**: Azure AIサービスを活用した高度なドキュメント処理\n",
    "- 🔍 **セマンティック検索**: エンタープライズ機能を備えた高性能ベクトル検索\n",
    "- 🛡️ **セキュリティ統合**: ロールベースのアクセスとデータ保護パターン\n",
    "- 🏢 **スケーラブルなアーキテクチャ**: 監視機能を備えたプロダクション対応のRAGシステム\n",
    "\n",
    "## 🎯 エンタープライズRAGアーキテクチャ\n",
    "\n",
    "### エンタープライズの主要コンポーネント\n",
    "- **Azure AI Foundry**: セキュリティとコンプライアンスを備えた管理型エンタープライズAIプラットフォーム\n",
    "- **永続エージェント**: 会話履歴とコンテキスト管理を備えたステートフルエージェント\n",
    "- **ベクトルストア管理**: エンタープライズ向けのドキュメントインデックスと検索\n",
    "- **アイデンティティ統合**: Azure AD認証とロールベースのアクセス制御\n",
    "\n",
    "### .NETのエンタープライズメリット\n",
    "- **型安全性**: RAG操作とデータ構造のコンパイル時検証\n",
    "- **非同期パフォーマンス**: 非ブロッキングのドキュメント処理と検索操作\n",
    "- **メモリ管理**: 大規模なドキュメントコレクションに対する効率的なリソース利用\n",
    "- **統合パターン**: 依存性注入を活用したAzureサービスのネイティブ統合\n",
    "\n",
    "## 🏗️ 技術アーキテクチャ\n",
    "\n",
    "### エンタープライズRAGパイプライン\n",
    "```csharp\n",
    "Document Upload → Security Validation → Vector Processing → Index Creation\n",
    "                      ↓                    ↓                  ↓\n",
    "User Query → Authentication → Semantic Search → Context Ranking → AI Response\n",
    "```\n",
    "\n",
    "### .NETの主要コンポーネント\n",
    "- **Azure.AI.Agents.Persistent**: 状態の永続性を備えたエンタープライズエージェント管理\n",
    "- **Azure.Identity**: 安全なAzureサービスアクセスのための統合認証\n",
    "- **Microsoft.Agents.AI.AzureAI**: Azureに最適化されたエージェントフレームワークの実装\n",
    "- **System.Linq.Async**: 高性能な非同期LINQ操作\n",
    "\n",
    "## 🔧 エンタープライズ機能とメリット\n",
    "\n",
    "### セキュリティとコンプライアンス\n",
    "- **Azure AD統合**: エンタープライズアイデンティティ管理と認証\n",
    "- **ロールベースのアクセス**: ドキュメントアクセスと操作に対する詳細な権限設定\n",
    "- **データ保護**: 機密文書の保存時および転送時の暗号化\n",
    "- **監査ログ**: コンプライアンス要件に対応した包括的な活動追跡\n",
    "\n",
    "### パフォーマンスとスケーラビリティ\n",
    "- **接続プール**: 効率的なAzureサービス接続管理\n",
    "- **非同期処理**: 高スループットシナリオ向けの非ブロッキング操作\n",
    "- **キャッシュ戦略**: 頻繁にアクセスされるドキュメントのインテリジェントキャッシュ\n",
    "- **負荷分散**: 大規模展開向けの分散処理\n",
    "\n",
    "### 管理と監視\n",
    "- **ヘルスチェック**: RAGシステムコンポーネントの組み込み監視\n",
    "- **パフォーマンス指標**: 検索品質と応答時間に関する詳細な分析\n",
    "- **エラーハンドリング**: 再試行ポリシーを備えた包括的な例外管理\n",
    "- **構成管理**: 環境固有の設定と検証\n",
    "\n",
    "## ⚙️ 前提条件とセットアップ\n",
    "\n",
    "**開発環境:**\n",
    "- .NET 9.0 SDK以上\n",
    "- Visual Studio 2022またはC#拡張機能付きVS Code\n",
    "- Azure AI Foundryアクセスを含むAzureサブスクリプション\n",
    "\n",
    "**必要なNuGetパッケージ:**\n",
    "```xml\n",
    "<PackageReference Include=\"Microsoft.Extensions.AI\" Version=\"9.9.0\" />\n",
    "<PackageReference Include=\"Azure.AI.Agents.Persistent\" Version=\"1.2.0-beta.5\" />\n",
    "<PackageReference Include=\"Azure.Identity\" Version=\"1.15.0\" />\n",
    "<PackageReference Include=\"System.Linq.Async\" Version=\"6.0.3\" />\n",
    "<PackageReference Include=\"DotNetEnv\" Version=\"3.1.1\" />\n",
    "```\n",
    "\n",
    "**Azure認証設定:**\n",
    "```bash\n",
    "# Install Azure CLI and authenticate\n",
    "az login\n",
    "az account set --subscription \"your-subscription-id\"\n",
    "```\n",
    "\n",
    "**環境構成 (.envファイル):**\n",
    "```env\n",
    "# Azure AI Foundry configuration (automatically handled via Azure CLI)\n",
    "# Ensure you're authenticated to the correct Azure subscription\n",
    "```\n",
    "\n",
    "## 📊 エンタープライズRAGパターン\n",
    "\n",
    "### ドキュメント管理パターン\n",
    "- **一括アップロード**: 大規模なドキュメントコレクションの効率的な処理\n",
    "- **増分更新**: ドキュメントのリアルタイム追加と変更\n",
    "- **バージョン管理**: ドキュメントのバージョン管理と変更追跡\n",
    "- **メタデータ管理**: 豊富なドキュメント属性と分類体系\n",
    "\n",
    "### 検索と取得パターン\n",
    "- **ハイブリッド検索**: セマンティック検索とキーワード検索の組み合わせによる最適な結果\n",
    "- **ファセット検索**: 多次元フィルタリングと分類\n",
    "- **関連性調整**: ドメイン固有のニーズに対応したカスタムスコアリングアルゴリズム\n",
    "- **結果ランキング**: ビジネスロジック統合による高度なランキング\n",
    "\n",
    "### セキュリティパターン\n",
    "- **ドキュメントレベルのセキュリティ**: ドキュメントごとの詳細なアクセス制御\n",
    "- **データ分類**: 自動感度ラベル付けと保護\n",
    "- **監査トレイル**: すべてのRAG操作の包括的なログ記録\n",
    "- **プライバシー保護**: PII検出と編集機能\n",
    "\n",
    "## 🔒 エンタープライズセキュリティ機能\n",
    "\n",
    "### 認証と認可\n",
    "```csharp\n",
    "// Azure AD integrated authentication\n",
    "var credential = new AzureCliCredential();\n",
    "var agentsClient = new PersistentAgentsClient(endpoint, credential);\n",
    "\n",
    "// Role-based access validation\n",
    "if (!await ValidateUserPermissions(user, documentId))\n",
    "{\n",
    "    throw new UnauthorizedAccessException(\"Insufficient permissions\");\n",
    "}\n",
    "```\n",
    "\n",
    "### データ保護\n",
    "- **暗号化**: ドキュメントと検索インデックスのエンドツーエンド暗号化\n",
    "- **アクセス制御**: Azure ADとの統合によるユーザーとグループの権限設定\n",
    "- **データ所在地**: コンプライアンス対応の地理的データ配置制御\n",
    "- **バックアップと復旧**: 自動バックアップと災害復旧機能\n",
    "\n",
    "## 📈 パフォーマンス最適化\n",
    "\n",
    "### 非同期処理パターン\n",
    "```csharp\n",
    "// Efficient async document processing\n",
    "await foreach (var document in documentStream.AsAsyncEnumerable())\n",
    "{\n",
    "    await ProcessDocumentAsync(document, cancellationToken);\n",
    "}\n",
    "```\n",
    "\n",
    "### メモリ管理\n",
    "- **ストリーミング処理**: メモリ問題を回避しながら大規模ドキュメントを処理\n",
    "- **リソースプール**: 高価なリソースの効率的な再利用\n",
    "- **ガベージコレクション**: 最適化されたメモリ割り当てパターン\n",
    "- **接続管理**: 適切なAzureサービス接続ライフサイクル\n",
    "\n",
    "### キャッシュ戦略\n",
    "- **クエリキャッシュ**: 頻繁に実行される検索のキャッシュ\n",
    "- **ドキュメントキャッシュ**: ホットドキュメントのインメモリキャッシュ\n",
    "- **インデックスキャッシュ**: 最適化されたベクトルインデックスキャッシュ\n",
    "- **結果キャッシュ**: 生成された応答のインテリジェントキャッシュ\n",
    "\n",
    "## 📊 エンタープライズユースケース\n",
    "\n",
    "### ナレッジ管理\n",
    "- **企業Wiki**: 企業のナレッジベースを横断するインテリジェント検索\n",
    "- **ポリシーと手順**: 自動コンプライアンスと手順ガイダンス\n",
    "- **トレーニング資料**: インテリジェントな学習と開発支援\n",
    "- **研究データベース**: 学術論文や研究資料の分析システム\n",
    "\n",
    "### カスタマーサポート\n",
    "- **サポートナレッジベース**: 自動化されたカスタマーサービス応答\n",
    "- **製品ドキュメント**: インテリジェントな製品情報検索\n",
    "- **トラブルシューティングガイド**: コンテキストに基づいた問題解決支援\n",
    "- **FAQシステム**: ドキュメントコレクションから動的にFAQを生成\n",
    "\n",
    "### 規制コンプライアンス\n",
    "- **法的文書分析**: 契約書や法的文書のインテリジェンス\n",
    "- **コンプライアンス監視**: 自動化された規制コンプライアンスチェック\n",
    "- **リスク評価**: ドキュメントベースのリスク分析と報告\n",
    "- **監査支援**: 監査向けのインテリジェントなドキュメント検索\n",
    "\n",
    "## 🚀 プロダクション展開\n",
    "\n",
    "### 監視と可観測性\n",
    "- **Application Insights**: 詳細なテレメトリとパフォーマンス監視\n",
    "- **カスタム指標**: ビジネス固有のKPI追跡とアラート\n",
    "- **分散トレーシング**: サービス間のリクエストをエンドツーエンドで追跡\n",
    "- **ヘルスダッシュボード**: システムのリアルタイムの健康状態とパフォーマンスの可視化\n",
    "\n",
    "### スケーラビリティと信頼性\n",
    "- **自動スケーリング**: 負荷とパフォーマンス指標に基づく自動スケーリング\n",
    "- **高可用性**: フェイルオーバー機能を備えたマルチリージョン展開\n",
    "- **負荷テスト**: エンタープライズ負荷条件下でのパフォーマンス検証\n",
    "- **災害復旧**: 自動バックアップと復旧手順\n",
    "\n",
    "エンタープライズ規模で機密文書を扱えるRAGシステムを構築する準備はできていますか？インテリジェントなナレッジシステムをエンタープライズ向けに設計しましょう！ 🏢📖✨\n"
   ]
  },
  {
   "cell_type": "code",
   "execution_count": 1,
   "metadata": {
    "language_info": {
     "name": "polyglot-notebook"
    },
    "polyglot_notebook": {
     "kernelName": "csharp"
    }
   },
   "outputs": [
    {
     "data": {
      "text/html": [
       "<div><div></div><div></div><div><strong>Installed Packages</strong><ul><li><span>Microsoft.Extensions.AI, 9.9.1</span></li></ul></div></div>"
      ]
     },
     "metadata": {},
     "output_type": "display_data"
    }
   ],
   "source": [
    "#r \"nuget: Microsoft.Extensions.AI, 9.9.1\""
   ]
  },
  {
   "cell_type": "code",
   "execution_count": 2,
   "id": "4ec1f0d1",
   "metadata": {
    "language_info": {
     "name": "polyglot-notebook"
    },
    "polyglot_notebook": {
     "kernelName": "csharp"
    }
   },
   "outputs": [
    {
     "data": {
      "text/html": [
       "<div><div></div><div></div><div><strong>Installed Packages</strong><ul><li><span>Azure.AI.Agents.Persistent, 1.2.0-beta.5</span></li><li><span>Azure.Identity, 1.15.0</span></li><li><span>System.Linq.Async, 6.0.3</span></li></ul></div></div>"
      ]
     },
     "metadata": {},
     "output_type": "display_data"
    }
   ],
   "source": [
    "#r \"nuget: Azure.AI.Agents.Persistent, 1.2.0-beta.5\"\n",
    "#r \"nuget: Azure.Identity, 1.15.0\"\n",
    "#r \"nuget: System.Linq.Async, 6.0.3\""
   ]
  },
  {
   "cell_type": "code",
   "execution_count": 3,
   "id": "2363ae07",
   "metadata": {
    "language_info": {
     "name": "polyglot-notebook"
    },
    "polyglot_notebook": {
     "kernelName": "csharp"
    }
   },
   "outputs": [],
   "source": []
  },
  {
   "cell_type": "code",
   "execution_count": null,
   "id": "d10cec9d",
   "metadata": {
    "language_info": {
     "name": "polyglot-notebook"
    },
    "polyglot_notebook": {
     "kernelName": "csharp"
    }
   },
   "outputs": [
    {
     "data": {
      "text/html": [
       "<div><div></div><div></div><div><strong>Installed Packages</strong><ul><li><span>Microsoft.Agents.AI.AzureAI, 1.0.0-preview.251001.2</span></li></ul></div></div>"
      ]
     },
     "metadata": {},
     "output_type": "display_data"
    }
   ],
   "source": [
    "#r \"nuget: Microsoft.Agents.AI.AzureAI, 1.0.0-preview.251001.3\""
   ]
  },
  {
   "cell_type": "code",
   "execution_count": null,
   "id": "78199d1c",
   "metadata": {
    "language_info": {
     "name": "polyglot-notebook"
    },
    "polyglot_notebook": {
     "kernelName": "csharp"
    }
   },
   "outputs": [
    {
     "data": {
      "text/html": [
       "<div><div></div><div></div><div><strong>Installed Packages</strong><ul><li><span>microsoft.agents.ai, 1.0.0-preview.251001.2</span></li></ul></div></div>"
      ]
     },
     "metadata": {},
     "output_type": "display_data"
    }
   ],
   "source": [
    "#r \"nuget: Microsoft.Agents.AI, 1.0.0-preview.251001.3\""
   ]
  },
  {
   "cell_type": "code",
   "execution_count": 6,
   "id": "7de4684a",
   "metadata": {
    "language_info": {
     "name": "polyglot-notebook"
    },
    "polyglot_notebook": {
     "kernelName": "csharp"
    }
   },
   "outputs": [
    {
     "data": {
      "text/html": [
       "<div><div></div><div></div><div><strong>Installed Packages</strong><ul><li><span>DotNetEnv, 3.1.1</span></li></ul></div></div>"
      ]
     },
     "metadata": {},
     "output_type": "display_data"
    }
   ],
   "source": [
    "#r \"nuget: DotNetEnv, 3.1.1\""
   ]
  },
  {
   "cell_type": "code",
   "execution_count": 7,
   "id": "251efd31",
   "metadata": {
    "language_info": {
     "name": "polyglot-notebook"
    },
    "polyglot_notebook": {
     "kernelName": "csharp"
    }
   },
   "outputs": [],
   "source": [
    "using System;\n",
    "using System.Linq;\n",
    "using Azure.AI.Agents.Persistent;\n",
    "using Azure.Identity;\n",
    "using Microsoft.Agents.AI;"
   ]
  },
  {
   "cell_type": "code",
   "execution_count": 8,
   "id": "a2e342f1",
   "metadata": {
    "language_info": {
     "name": "polyglot-notebook"
    },
    "polyglot_notebook": {
     "kernelName": "csharp"
    }
   },
   "outputs": [],
   "source": [
    " using DotNetEnv;"
   ]
  },
  {
   "cell_type": "code",
   "execution_count": 9,
   "id": "a7a01653",
   "metadata": {
    "language_info": {
     "name": "polyglot-notebook"
    },
    "polyglot_notebook": {
     "kernelName": "csharp"
    }
   },
   "outputs": [],
   "source": [
    "Env.Load(\"../../../.env\");"
   ]
  },
  {
   "cell_type": "code",
   "execution_count": 10,
   "id": "a42735d5",
   "metadata": {
    "language_info": {
     "name": "polyglot-notebook"
    },
    "polyglot_notebook": {
     "kernelName": "csharp"
    }
   },
   "outputs": [],
   "source": [
    "var azure_foundry_endpoint = Environment.GetEnvironmentVariable(\"AZURE_AI_PROJECT_ENDPOINT\") ?? throw new InvalidOperationException(\"AZURE_AI_PROJECT_ENDPOINT is not set.\");\n",
    "var azure_foundry_model_id = Environment.GetEnvironmentVariable(\"AZURE_AI_MODEL_DEPLOYMENT_NAME\") ?? \"gpt-4.1-mini\";"
   ]
  },
  {
   "cell_type": "code",
   "execution_count": 11,
   "id": "e29bdb58",
   "metadata": {
    "language_info": {
     "name": "polyglot-notebook"
    },
    "polyglot_notebook": {
     "kernelName": "csharp"
    }
   },
   "outputs": [],
   "source": [
    "string pdfPath = \"./document.md\";"
   ]
  },
  {
   "cell_type": "code",
   "execution_count": 12,
   "id": "7351e12d",
   "metadata": {
    "language_info": {
     "name": "polyglot-notebook"
    },
    "polyglot_notebook": {
     "kernelName": "csharp"
    }
   },
   "outputs": [],
   "source": [
    "using System.IO;\n",
    "\n",
    "async Task<Stream> OpenImageStreamAsync(string path)\n",
    "{\n",
    "\treturn await Task.Run(() => File.OpenRead(path));\n",
    "}\n",
    "\n",
    "var pdfStream = await OpenImageStreamAsync(pdfPath);"
   ]
  },
  {
   "cell_type": "code",
   "execution_count": 13,
   "id": "0b6bf484",
   "metadata": {
    "language_info": {
     "name": "polyglot-notebook"
    },
    "polyglot_notebook": {
     "kernelName": "csharp"
    }
   },
   "outputs": [],
   "source": [
    "var persistentAgentsClient = new PersistentAgentsClient(azure_foundry_endpoint, new AzureCliCredential());"
   ]
  },
  {
   "cell_type": "code",
   "execution_count": 14,
   "id": "81e0dddc",
   "metadata": {
    "language_info": {
     "name": "polyglot-notebook"
    },
    "polyglot_notebook": {
     "kernelName": "csharp"
    }
   },
   "outputs": [],
   "source": [
    "PersistentAgentFileInfo fileInfo = await persistentAgentsClient.Files.UploadFileAsync(pdfStream, PersistentAgentFilePurpose.Agents, \"demo.md\");"
   ]
  },
  {
   "cell_type": "code",
   "execution_count": 15,
   "id": "f0c75d80",
   "metadata": {
    "language_info": {
     "name": "polyglot-notebook"
    },
    "polyglot_notebook": {
     "kernelName": "csharp"
    }
   },
   "outputs": [],
   "source": [
    "PersistentAgentsVectorStore fileStore =\n",
    "            await persistentAgentsClient.VectorStores.CreateVectorStoreAsync(\n",
    "                [fileInfo.Id],\n",
    "                metadata: new Dictionary<string, string>() { { \"agentkey\", bool.TrueString } });"
   ]
  },
  {
   "cell_type": "code",
   "execution_count": 16,
   "id": "c77986c5",
   "metadata": {
    "language_info": {
     "name": "polyglot-notebook"
    },
    "polyglot_notebook": {
     "kernelName": "csharp"
    }
   },
   "outputs": [],
   "source": [
    "PersistentAgent agentModel = await persistentAgentsClient.Administration.CreateAgentAsync(\n",
    "            azure_foundry_model_id,\n",
    "            name: \"DotNetRAGAgent\",\n",
    "            tools: [new FileSearchToolDefinition()],\n",
    "            instructions: \"\"\"\n",
    "                You are an AI assistant designed to answer user questions using only the information retrieved from the provided document(s).\n",
    "\n",
    "                - If a user's question cannot be answered using the retrieved context, **you must clearly respond**: \n",
    "                \"I'm sorry, but the uploaded document does not contain the necessary information to answer that question.\"\n",
    "                - Do not answer from general knowledge or reasoning. Do not make assumptions or generate hypothetical explanations.\n",
    "                - Do not provide definitions, tutorials, or commentary that is not explicitly grounded in the content of the uploaded file(s).\n",
    "                - If a user asks a question like \"What is a Neural Network?\", and this is not discussed in the uploaded document, respond as instructed above.\n",
    "                - For questions that do have relevant content in the document (e.g., Contoso's travel insurance coverage), respond accurately, and cite the document explicitly.\n",
    "\n",
    "                You must behave as if you have no external knowledge beyond what is retrieved from the uploaded document.\n",
    "                \"\"\",\n",
    "            toolResources: new()\n",
    "            {\n",
    "                FileSearch = new()\n",
    "                {\n",
    "                    VectorStoreIds = { fileStore.Id },\n",
    "                }\n",
    "            },\n",
    "            metadata: new Dictionary<string, string>() { { \"agentkey\", bool.TrueString } });"
   ]
  },
  {
   "cell_type": "code",
   "execution_count": 17,
   "id": "282326cf",
   "metadata": {
    "language_info": {
     "name": "polyglot-notebook"
    },
    "polyglot_notebook": {
     "kernelName": "csharp"
    }
   },
   "outputs": [],
   "source": [
    "AIAgent agent = await persistentAgentsClient.GetAIAgentAsync(agentModel.Id);"
   ]
  },
  {
   "cell_type": "code",
   "execution_count": 18,
   "id": "2067d313",
   "metadata": {
    "language_info": {
     "name": "polyglot-notebook"
    },
    "polyglot_notebook": {
     "kernelName": "csharp"
    }
   },
   "outputs": [],
   "source": [
    "AgentThread thread = agent.GetNewThread();"
   ]
  },
  {
   "cell_type": "code",
   "execution_count": 19,
   "id": "454c4230",
   "metadata": {
    "language_info": {
     "name": "polyglot-notebook"
    },
    "polyglot_notebook": {
     "kernelName": "csharp"
    }
   },
   "outputs": [
    {
     "name": "stdout",
     "output_type": "stream",
     "text": [
      "Contoso's travel insurance coverage includes protection for medical emergencies, trip cancellations, and lost baggage. This ensures that travelers are supported in case of health-related issues during their trip, unforeseen cancellations, and the loss of their belongings while traveling【4:0†demo.md】.\r\n"
     ]
    }
   ],
   "source": [
    "Console.WriteLine(await agent.RunAsync(\"Can you explain Contoso's travel insurance coverage?\", thread));"
   ]
  },
  {
   "cell_type": "markdown",
   "metadata": {},
   "source": [
    "\n---\n\n**免責事項**:  \nこの文書は、AI翻訳サービス[Co-op Translator](https://github.com/Azure/co-op-translator)を使用して翻訳されています。正確性を追求しておりますが、自動翻訳には誤りや不正確な部分が含まれる可能性があります。元の言語で記載された文書を正式な情報源としてお考えください。重要な情報については、専門の人間による翻訳を推奨します。この翻訳の使用に起因する誤解や誤解について、当社は責任を負いません。\n"
   ]
  }
 ],
 "metadata": {
  "kernelspec": {
   "display_name": ".NET (C#)",
   "language": "C#",
   "name": ".net-csharp"
  },
  "language_info": {
   "name": "polyglot-notebook"
  },
  "polyglot_notebook": {
   "kernelInfo": {
    "defaultKernelName": "csharp",
    "items": [
     {
      "aliases": [],
      "name": "csharp"
     }
    ]
   }
  },
  "coopTranslator": {
   "original_hash": "e4584fa31638009dc6fb665275de8fc2",
   "translation_date": "2025-10-02T06:07:51+00:00",
   "source_file": "05-agentic-rag/code_samples/05-dotnet-agent-framework.ipynb",
   "language_code": "ja"
  }
 },
 "nbformat": 4,
 "nbformat_minor": 5
}