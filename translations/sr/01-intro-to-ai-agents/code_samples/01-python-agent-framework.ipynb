{
 "cells": [
  {
   "cell_type": "markdown",
   "id": "f4cf9593",
   "metadata": {},
   "source": [
    "# 🐍 AI туристички агент са Microsoft Agent Framework (Python)\n",
    "\n",
    "## 📋 Преглед сценарија\n",
    "\n",
    "Овај нотебук демонстрира како да направите интелигентног агента за планирање путовања користећи Microsoft Agent Framework за Python. Агенат користи GitHub Models за аутоматско генерисање персонализованих дневних итинерера за насумичне дестинације широм света.\n",
    "\n",
    "**Кључне карактеристике:**\n",
    "- 🎲 **Паметан избор дестинације**: Прилагођена функција алата за насумично бирање дестинација\n",
    "- 🗺️ **Детаљно генерисање итинерера**: Планирање путовања уз препоруке засноване на вештачкој интелигенцији\n",
    "- 🔄 **Асинхрона обрада**: Користи asyncio за ефикасну комуникацију са API-јем\n",
    "- 🛠️ **Интеграција алата**: Демонстрација могућности позивања функција у AI агентима\n",
    "\n",
    "## 🏗️ Техничка имплементација\n",
    "\n",
    "### Основне компоненте\n",
    "- **Agent Framework**: Python имплементација Microsoft-овог система за оркестрацију агената\n",
    "- **GitHub Models API**: Приступ најсавременијим језичким моделима преко GitHub-овог сервиса за инференцију\n",
    "- **OpenAI компатибилност**: Користи OpenAI клијентске шаблоне са GitHub Models позадином\n",
    "- **Управљање окружењем**: Сигурно руковање акредитивима уз python-dotenv\n",
    "\n",
    "### Ток архитектуре\n",
    "```python\n",
    "User Request → ChatAgent → GitHub Models API ↔ get_random_destination()\n",
    "                     ↓\n",
    "              Travel Itinerary Response\n",
    "```\n",
    "\n",
    "### Кључне класе и методе\n",
    "- `ChatAgent`: Главни оркестратор конверзацијског агента\n",
    "- `OpenAIChatClient`: Обвезница за GitHub Models API клијент\n",
    "- `get_random_destination()`: Прилагођена функција алата за избор дестинације\n",
    "- Променљиве окружења: Сигурно управљање конфигурацијом API-ја\n",
    "\n",
    "## ⚙️ Предуслови и подешавање\n",
    "\n",
    "**Потребне зависности:**\n",
    "```bash\n",
    "\n",
    "pip install agent-framework-core -U\n",
    "```\n",
    "\n",
    "**Конфигурација окружења (.env датотека):**\n",
    "```env\n",
    "GITHUB_TOKEN=your_github_personal_access_token\n",
    "GITHUB_ENDPOINT=https://models.inference.ai.azure.com\n",
    "GITHUB_MODEL_ID=gpt-4o-mini\n",
    "```\n",
    "\n",
    "**Приступ GitHub Models:**\n",
    "1. Пријавите се за приступ GitHub Models\n",
    "2. Генеришите лични приступни токен\n",
    "3. Конфигуришите променљиве окружења као што је приказано изнад\n",
    "\n",
    "## 🚀 Упутства за коришћење\n",
    "\n",
    "Извршите ћелије испод редом да бисте:\n",
    "1. Увезли потребне библиотеке и учитали променљиве окружења\n",
    "2. Дефинисали алат за генерисање насумичних дестинација\n",
    "3. Направили и конфигурисали AI агента\n",
    "4. Покренули захтеве за планирање путовања и прегледали резултате\n",
    "\n",
    "Хајде да направимо интелигентног асистента за планирање путовања! 🌟\n"
   ]
  },
  {
   "cell_type": "code",
   "execution_count": null,
   "id": "fda5fa0a",
   "metadata": {},
   "outputs": [],
   "source": [
    "! pip install agent-framework-core -U"
   ]
  },
  {
   "cell_type": "code",
   "execution_count": null,
   "id": "c0df8a52",
   "metadata": {},
   "outputs": [],
   "source": [
    "# 📦 Import Required Libraries\n",
    "# Standard library imports for system operations and random number generation\n",
    "import os\n",
    "from random import randint\n",
    "\n",
    "# Third-party library for loading environment variables from .env file\n",
    "from dotenv import load_dotenv"
   ]
  },
  {
   "cell_type": "code",
   "execution_count": null,
   "id": "151e0314",
   "metadata": {},
   "outputs": [],
   "source": [
    "# 🤖 Import Microsoft Agent Framework Components\n",
    "# ChatAgent: The main agent class for conversational AI\n",
    "# OpenAIChatClient: Client for connecting to OpenAI-compatible APIs (including GitHub Models)\n",
    "from agent_framework import ChatAgent\n",
    "from agent_framework.openai import OpenAIChatClient"
   ]
  },
  {
   "cell_type": "code",
   "execution_count": null,
   "id": "a6141584",
   "metadata": {},
   "outputs": [],
   "source": [
    "# 🔧 Load Environment Variables\n",
    "# This loads configuration from a .env file in the project root\n",
    "# Required variables: GITHUB_ENDPOINT, GITHUB_TOKEN, GITHUB_MODEL_ID\n",
    "load_dotenv()"
   ]
  },
  {
   "cell_type": "code",
   "execution_count": null,
   "id": "a6507f83",
   "metadata": {},
   "outputs": [],
   "source": [
    "# 🎲 Tool Function: Random Destination Generator\n",
    "# This function will be available to the agent as a tool\n",
    "# The agent can call this function to get random vacation destinations\n",
    "def get_random_destination() -> str:\n",
    "    \"\"\"Get a random vacation destination.\n",
    "    \n",
    "    Returns:\n",
    "        str: A randomly selected destination from our predefined list\n",
    "    \"\"\"\n",
    "    # List of popular vacation destinations around the world\n",
    "    destinations = [\n",
    "        \"Barcelona, Spain\",\n",
    "        \"Paris, France\", \n",
    "        \"Berlin, Germany\",\n",
    "        \"Tokyo, Japan\",\n",
    "        \"Sydney, Australia\",\n",
    "        \"New York, USA\",\n",
    "        \"Cairo, Egypt\",\n",
    "        \"Cape Town, South Africa\",\n",
    "        \"Rio de Janeiro, Brazil\",\n",
    "        \"Bali, Indonesia\"\n",
    "    ]\n",
    "    # Return a random destination from the list\n",
    "    return destinations[randint(0, len(destinations) - 1)]"
   ]
  },
  {
   "cell_type": "code",
   "execution_count": null,
   "id": "5d4f0568",
   "metadata": {},
   "outputs": [],
   "source": [
    "# 🔗 Create OpenAI Chat Client for GitHub Models\n",
    "# This client connects to GitHub Models API (OpenAI-compatible endpoint)\n",
    "# Environment variables required:\n",
    "# - GITHUB_ENDPOINT: API endpoint URL (usually https://models.inference.ai.azure.com)\n",
    "# - GITHUB_TOKEN: Your GitHub personal access token\n",
    "# - GITHUB_MODEL_ID: Model to use (e.g., gpt-4o-mini, gpt-4o)\n",
    "openai_chat_client = OpenAIChatClient(\n",
    "    base_url=os.environ.get(\"GITHUB_ENDPOINT\"),\n",
    "    api_key=os.environ.get(\"GITHUB_TOKEN\"), \n",
    "    model_id=os.environ.get(\"GITHUB_MODEL_ID\")\n",
    ")"
   ]
  },
  {
   "cell_type": "code",
   "execution_count": null,
   "id": "cf5a4800",
   "metadata": {},
   "outputs": [],
   "source": [
    "# 🤖 Create the Travel Planning Agent\n",
    "# This creates a conversational AI agent with specific capabilities:\n",
    "# - chat_client: The AI model client for generating responses\n",
    "# - instructions: System prompt that defines the agent's personality and role\n",
    "# - tools: List of functions the agent can call to perform actions\n",
    "agent = ChatAgent(\n",
    "    chat_client=openai_chat_client,\n",
    "    instructions=\"You are a helpful AI Agent that can help plan vacations for customers at random destinations.\",\n",
    "    tools=[get_random_destination]  # Our random destination tool function\n",
    ")"
   ]
  },
  {
   "cell_type": "code",
   "execution_count": null,
   "id": "772e9481",
   "metadata": {},
   "outputs": [],
   "source": [
    "# 🚀 Run the Agent\n",
    "# Send a message to the agent and get a response\n",
    "# The agent will use its tools (get_random_destination) if needed\n",
    "response = await agent.run(\"Plan me a day trip\")"
   ]
  },
  {
   "cell_type": "code",
   "execution_count": null,
   "id": "93c114ea",
   "metadata": {},
   "outputs": [],
   "source": [
    "# 📋 View Raw Response Object\n",
    "# This shows the complete response structure including metadata\n",
    "# Useful for debugging and understanding the response format\n",
    "response"
   ]
  },
  {
   "cell_type": "code",
   "execution_count": null,
   "id": "a731b547",
   "metadata": {},
   "outputs": [],
   "source": [
    "# 📖 Extract and Display the Travel Plan\n",
    "# Get the last message from the conversation (agent's response)s\n",
    "last_message = response.messages[-1]\n",
    "# Extract the text content from the message\n",
    "text_content = last_message.contents[0].text\n",
    "# Display the formatted travel plan\n",
    "print(\"🏖️ Travel plan:\")\n",
    "print(text_content)"
   ]
  },
  {
   "cell_type": "markdown",
   "metadata": {},
   "source": [
    "\n---\n\n**Одрицање од одговорности**:  \nОвај документ је преведен коришћењем услуге за превођење помоћу вештачке интелигенције [Co-op Translator](https://github.com/Azure/co-op-translator). Иако се трудимо да обезбедимо тачност, молимо вас да имате у виду да аутоматски преводи могу садржати грешке или нетачности. Оригинални документ на његовом изворном језику треба сматрати меродавним извором. За критичне информације препоручује се професионални превод од стране људи. Не сносимо одговорност за било каква погрешна тумачења или неспоразуме који могу настати услед коришћења овог превода.\n"
   ]
  }
 ],
 "metadata": {
  "kernelspec": {
   "display_name": "agentframeworkenv",
   "language": "python",
   "name": "python3"
  },
  "language_info": {
   "codemirror_mode": {
    "name": "ipython",
    "version": 3
   },
   "file_extension": ".py",
   "mimetype": "text/x-python",
   "name": "python",
   "nbconvert_exporter": "python",
   "pygments_lexer": "ipython3",
   "version": "3.12.10"
  },
  "polyglot_notebook": {
   "kernelInfo": {
    "defaultKernelName": "csharp",
    "items": [
     {
      "aliases": [],
      "name": "csharp"
     }
    ]
   }
  },
  "coopTranslator": {
   "original_hash": "02d6b305971fe27448c9d46a4c91eaf3",
   "translation_date": "2025-10-02T07:03:11+00:00",
   "source_file": "01-intro-to-ai-agents/code_samples/01-python-agent-framework.ipynb",
   "language_code": "sr"
  }
 },
 "nbformat": 4,
 "nbformat_minor": 5
}