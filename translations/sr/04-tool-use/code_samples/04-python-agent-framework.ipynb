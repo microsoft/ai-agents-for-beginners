{
 "cells": [
  {
   "cell_type": "markdown",
   "id": "8744544f",
   "metadata": {},
   "source": [
    "# 🛠️ Напредно коришћење алата са GitHub моделима (Python)\n",
    "\n",
    "## 📋 Циљеви учења\n",
    "\n",
    "Овај нотебук демонстрира напредне обрасце интеграције алата користећи Microsoft Agent Framework са GitHub моделима. Научићете како да креирате, управљате и оркестрирате више алата за изградњу софистицираних могућности агента.\n",
    "\n",
    "**Шта ћете савладати:**\n",
    "- 🔧 **Архитектура са више алата**: Изградња агената са више специјализованих алата\n",
    "- 🎯 **Логика избора алата**: Како агенти бирају прави алат за сваки задатак\n",
    "- 📊 **Алатке за обраду података**: Креирање алата који обрађују различите типове података\n",
    "- 🔗 **Композиција алата**: Комбиновање алата за сложене радне токове\n",
    "\n",
    "## 🎯 Кључни обрасци алата\n",
    "\n",
    "### Принципи дизајна алата\n",
    "- **Једноставна одговорност**: Сваки алат има јасну, фокусирану сврху\n",
    "- **Типска сигурност**: Јака типизација за поуздано извршавање алата\n",
    "- **Руковање грешкама**: Обрасци за грациозан неуспех и опоравак\n",
    "- **Компоновање**: Алатке које добро сарађују\n",
    "\n",
    "### Напредне функције алата\n",
    "- **Свесност контекста**: Алатке које разумеју контекст разговора\n",
    "- **Валидација података**: Санитизација улазних података и валидација излазних\n",
    "- **Оптимизација перформанси**: Ефикасни обрасци извршавања алата\n",
    "- **Проширивост**: Лако додавање нових могућности алата\n",
    "\n",
    "## 🔧 Техничка архитектура\n",
    "\n",
    "### Основне компоненте\n",
    "- **Microsoft Agent Framework**: Python имплементација са подршком за напредне алате\n",
    "- **Интеграција GitHub модела**: Приступ моделима језика високих перформанси\n",
    "- **Систем регистрације алата**: Организовано управљање могућностима агента\n",
    "- **Обрасци за опоравак од грешака**: Робусно руковање неуспесима извршавања алата\n",
    "\n",
    "### Ток интеграције алата\n",
    "```python\n",
    "User Request → Agent Analysis → Tool Selection → Tool Execution → Response Synthesis\n",
    "```\n",
    "\n",
    "## 🛠️ Категорије алата које се демонстрирају\n",
    "\n",
    "### 1. **Алатке за генерисање података**\n",
    "- Генератор случајних дестинација\n",
    "- Провајдер информација о времену  \n",
    "- Калкулатор трошкова путовања\n",
    "- Мотор за препоруке активности\n",
    "\n",
    "### 2. **Алатке за обраду**\n",
    "- Форматирање и валидација текста\n",
    "- Утилити за трансформацију података\n",
    "- Функције за анализу садржаја\n",
    "- Алатке за побољшање одговора\n",
    "\n",
    "### 3. **Алатке за интеграцију**\n",
    "- Конектори за екстерне API-је\n",
    "- Операције на фајл систему\n",
    "- Интерфејси за упите базе података\n",
    "- Утилити за веб скрепинг\n",
    "\n",
    "## ⚙️ Предуслови и подешавање\n",
    "\n",
    "**Потребне зависности:**\n",
    "```bash\n",
    "\n",
    "pip install agent-framework-core -U\n",
    "```\n",
    "\n",
    "**Конфигурација окружења (.env фајл):**\n",
    "```env\n",
    "GITHUB_TOKEN=your_github_personal_access_token\n",
    "GITHUB_ENDPOINT=https://models.inference.ai.azure.com\n",
    "GITHUB_MODEL_ID=gpt-4o-mini\n",
    "```\n",
    "\n",
    "**Опциони API-ји:**\n",
    "- Кључ за API временске услуге (за алатке за време)\n",
    "- Приступ API-ју за конверзију валута\n",
    "- Акредитиви за услуге информација о путовањима\n",
    "\n",
    "## 🎨 Обрасци дизајна\n",
    "\n",
    "### Образац фабрике алата\n",
    "- Централизовано креирање и конфигурација алата\n",
    "- Конзистентан интерфејс алата\n",
    "- Лако регистровање и откривање алата\n",
    "\n",
    "### Образац команде\n",
    "- Инкапсулирана логика извршавања алата\n",
    "- Функционалност за поништавање/поновно извршавање сложених операција\n",
    "- Логовање употребе алата\n",
    "\n",
    "### Образац посматрача\n",
    "- Праћење извршавања алата\n",
    "- Прикупљање метрика перформанси\n",
    "- Извештавање о грешкама и упозорења\n",
    "\n",
    "## 🚀 Најбоље праксе\n",
    "\n",
    "- **Документација алата**: Јасни описи за разумевање агента\n",
    "- **Валидација улазних података**: Робусна провера параметара и санитизација\n",
    "- **Форматирање излазних података**: Конзистентни, парсабилни одговори алата\n",
    "- **Поруке о грешкама**: Корисне информације о грешкама за дебаговање\n",
    "- **Перформансе**: Оптимизовано извршавање алата за брз одзив\n",
    "\n",
    "Спремни да изградите агенте са моћним могућностима алата? Хајде да створимо нешто невероватно! ⚡\n"
   ]
  },
  {
   "cell_type": "code",
   "execution_count": null,
   "id": "59c0feeb",
   "metadata": {},
   "outputs": [],
   "source": [
    "! pip install agent-framework-core -U"
   ]
  },
  {
   "cell_type": "code",
   "execution_count": null,
   "id": "c0df8a52",
   "metadata": {},
   "outputs": [],
   "source": [
    "# � Import core dependencies for Agent Framework and tool integration\n",
    "# This sets up the essential libraries for building intelligent agents with tool capabilities\n",
    "\n",
    "import asyncio\n",
    "import os\n",
    "import json\n",
    "\n",
    "from dotenv import load_dotenv  # For loading environment variables securely\n",
    "from random import randint\n",
    "\n",
    "# These are the core components for building tool-enabled agents\n",
    "from agent_framework import ChatAgent           # Main agent class\n",
    "from agent_framework.openai import OpenAIChatClient  # OpenAI-compatible client"
   ]
  },
  {
   "cell_type": "code",
   "execution_count": null,
   "id": "24c10eb0",
   "metadata": {},
   "outputs": [],
   "source": [
    "load_dotenv()"
   ]
  },
  {
   "cell_type": "code",
   "execution_count": null,
   "id": "151e0314",
   "metadata": {},
   "outputs": [],
   "source": [
    "# 🔑 Environment variables verification\n",
    "# Ensure all required GitHub Models credentials are properly configured\n",
    "print(\"GITHUB_ENDPOINT:\", os.environ.get(\"GITHUB_ENDPOINT\"))\n",
    "print(\"GITHUB_TOKEN:\", \"***\" if os.environ.get(\"GITHUB_TOKEN\") else \"Not set\")\n",
    "print(\"GITHUB_MODEL_ID:\", os.environ.get(\"GITHUB_MODEL_ID\"))"
   ]
  },
  {
   "cell_type": "code",
   "execution_count": null,
   "id": "a6141584",
   "metadata": {},
   "outputs": [],
   "source": [
    "# 🧪 Test GitHub Models connectivity\n",
    "openai_chat_client = OpenAIChatClient(base_url=os.environ.get(\"GITHUB_ENDPOINT\"), api_key=os.environ.get(\"GITHUB_TOKEN\"), model_id=os.environ.get(\"GITHUB_MODEL_ID\"))"
   ]
  },
  {
   "cell_type": "code",
   "execution_count": null,
   "id": "a6507f83",
   "metadata": {},
   "outputs": [],
   "source": [
    "# 🛠️ Define travel planning tools for agent integration\n",
    "# These functions provide specific capabilities that the agent can invoke dynamically\n",
    "\n",
    "def get_random_destination() -> str:\n",
    "    \"\"\"\n",
    "    🎲 Random destination generator tool\n",
    "    Returns a randomly selected travel destination from curated list\n",
    "    Useful when customers need inspiration for their next vacation\n",
    "    \"\"\"\n",
    "    destinations = [\n",
    "        \"Paris, France\",\n",
    "        \"Tokyo, Japan\", \n",
    "        \"New York City, USA\",\n",
    "        \"London, England\",\n",
    "        \"Rome, Italy\",\n",
    "        \"Sydney, Australia\",\n",
    "        \"Dubai, UAE\",\n",
    "        \"Barcelona, Spain\",\n",
    "        \"Bangkok, Thailand\",\n",
    "        \"Amsterdam, Netherlands\",\n",
    "        \"Istanbul, Turkey\",\n",
    "        \"Prague, Czech Republic\",\n",
    "        \"Santorini, Greece\",\n",
    "        \"Reykjavik, Iceland\",\n",
    "        \"Marrakech, Morocco\",\n",
    "        \"Cape Town, South Africa\",\n",
    "        \"Rio de Janeiro, Brazil\",\n",
    "        \"Bali, Indonesia\"\n",
    "    ]\n",
    "    # 🎯 Return random selection from the curated destination list\n",
    "    return destinations[randint(0, len(destinations) - 1)]"
   ]
  },
  {
   "cell_type": "code",
   "execution_count": null,
   "id": "5d4f0568",
   "metadata": {},
   "outputs": [],
   "source": [
    "# 🔗 Initialize GitHub Models chat client for agent communication\n",
    "# Creates the primary interface between the agent and the language model\n",
    "openai_chat_client = OpenAIChatClient(base_url=os.environ.get(\"GITHUB_ENDPOINT\"), api_key=os.environ.get(\"GITHUB_TOKEN\"), model_id=os.environ.get(\"GITHUB_MODEL_ID\"))"
   ]
  },
  {
   "cell_type": "code",
   "execution_count": null,
   "id": "751668c5",
   "metadata": {},
   "outputs": [],
   "source": [
    "# 🤖 Configure travel agent identity and behavioral instructions\n",
    "# Define the agent's personality, capabilities, and operational guidelines\n",
    "\n",
    "AGENT_NAME = \"TravelAgent\"\n",
    "\n",
    "AGENT_INSTRUCTIONS = \"\"\"You are a helpful AI Agent that can help plan vacations for customers at random destinations\n",
    "\"\"\""
   ]
  },
  {
   "cell_type": "code",
   "execution_count": null,
   "id": "be18ac4f",
   "metadata": {},
   "outputs": [],
   "source": [
    "agent = ChatAgent(\n",
    "        name = AGENT_NAME,\n",
    "        chat_client=openai_chat_client,\n",
    "        instructions=AGENT_INSTRUCTIONS,\n",
    "        tools=[get_random_destination]\n",
    ")"
   ]
  },
  {
   "cell_type": "code",
   "execution_count": null,
   "id": "772e9481",
   "metadata": {},
   "outputs": [],
   "source": [
    "thread = agent.get_new_thread()"
   ]
  },
  {
   "cell_type": "code",
   "execution_count": null,
   "id": "a731b547",
   "metadata": {},
   "outputs": [],
   "source": [
    "response1 = await agent.run(\"Plan me a day trip\",thread= thread)"
   ]
  },
  {
   "cell_type": "code",
   "execution_count": null,
   "id": "7d3fe00a",
   "metadata": {},
   "outputs": [],
   "source": [
    "\n",
    "last_message = response1.messages[-1]\n",
    "text_content = last_message.contents[0].text\n",
    "print(\"Travel plan:\")\n",
    "print(text_content)"
   ]
  },
  {
   "cell_type": "markdown",
   "metadata": {},
   "source": [
    "\n---\n\n**Одрицање од одговорности**:  \nОвај документ је преведен коришћењем услуге за превођење помоћу вештачке интелигенције [Co-op Translator](https://github.com/Azure/co-op-translator). Иако се трудимо да обезбедимо тачност, молимо вас да имате у виду да аутоматски преводи могу садржати грешке или нетачности. Оригинални документ на његовом изворном језику треба сматрати ауторитативним извором. За критичне информације препоручује се професионални превод од стране људи. Не сносимо одговорност за било каква погрешна тумачења или неспоразуме који могу произаћи из коришћења овог превода.\n"
   ]
  }
 ],
 "metadata": {
  "kernelspec": {
   "display_name": "agentenv",
   "language": "python",
   "name": "python3"
  },
  "language_info": {
   "codemirror_mode": {
    "name": "ipython",
    "version": 3
   },
   "file_extension": ".py",
   "mimetype": "text/x-python",
   "name": "python",
   "nbconvert_exporter": "python",
   "pygments_lexer": "ipython3",
   "version": "3.12.10"
  },
  "polyglot_notebook": {
   "kernelInfo": {
    "defaultKernelName": "csharp",
    "items": [
     {
      "aliases": [],
      "name": "csharp"
     }
    ]
   }
  },
  "coopTranslator": {
   "original_hash": "42966ddac53cebaf0ac1ce33b2ee7059",
   "translation_date": "2025-10-02T07:04:29+00:00",
   "source_file": "04-tool-use/code_samples/04-python-agent-framework.ipynb",
   "language_code": "sr"
  }
 },
 "nbformat": 4,
 "nbformat_minor": 5
}