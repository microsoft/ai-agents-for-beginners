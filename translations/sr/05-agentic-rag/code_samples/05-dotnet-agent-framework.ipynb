{
 "cells": [
  {
   "cell_type": "markdown",
   "id": "44b5899e",
   "metadata": {},
   "source": [
    "# 🔍 Ентерпрајз RAG са Azure AI Foundry (.NET)\n",
    "\n",
    "## 📋 Циљеви учења\n",
    "\n",
    "Овај нотебук показује како изградити Retrieval-Augmented Generation (RAG) системе на нивоу предузећа користећи Microsoft Agent Framework у .NET-у са Azure AI Foundry. Научићете како да креирате агенте спремне за производњу који могу претраживати документе и пружати тачне, контекстуално свесне одговоре уз безбедност и скалабилност на нивоу предузећа.\n",
    "\n",
    "**Кључне могућности RAG система које ћете изградити:**\n",
    "- 📚 **Интелигенција докумената**: Напредна обрада докумената уз Azure AI услуге\n",
    "- 🔍 **Семантичка претрага**: Високоперформансна претрага уз функције за предузећа\n",
    "- 🛡️ **Интеграција безбедности**: Контрола приступа заснована на улогама и обрасци заштите података\n",
    "- 🏢 **Скалабилна архитектура**: RAG системи спремни за производњу уз праћење\n",
    "\n",
    "## 🎯 Архитектура RAG система за предузећа\n",
    "\n",
    "### Основне компоненте за предузећа\n",
    "- **Azure AI Foundry**: Управљана AI платформа за предузећа са безбедношћу и усклађеношћу\n",
    "- **Перзистентни агенти**: Агенти са историјом разговора и управљањем контекстом\n",
    "- **Управљање векторским складиштем**: Индексирање и преузимање докумената на нивоу предузећа\n",
    "- **Интеграција идентитета**: Аутентификација Azure AD и контрола приступа заснована на улогама\n",
    "\n",
    "### Предности .NET-а за предузећа\n",
    "- **Типска сигурност**: Валидација током компилације за RAG операције и структуре података\n",
    "- **Асинхрона перформанса**: Обрада докумената и операције претраге без блокирања\n",
    "- **Управљање меморијом**: Ефикасно коришћење ресурса за велике колекције докумената\n",
    "- **Шаблони интеграције**: Нативна интеграција Azure услуга уз dependency injection\n",
    "\n",
    "## 🏗️ Техничка архитектура\n",
    "\n",
    "### RAG Платформа за предузећа\n",
    "```csharp\n",
    "Document Upload → Security Validation → Vector Processing → Index Creation\n",
    "                      ↓                    ↓                  ↓\n",
    "User Query → Authentication → Semantic Search → Context Ranking → AI Response\n",
    "```\n",
    "\n",
    "### Основне .NET компоненте\n",
    "- **Azure.AI.Agents.Persistent**: Управљање агентима на нивоу предузећа уз перзистенцију стања\n",
    "- **Azure.Identity**: Интегрисана аутентификација за сигуран приступ Azure услугама\n",
    "- **Microsoft.Agents.AI.AzureAI**: Имплементација оквира агената оптимизована за Azure\n",
    "- **System.Linq.Async**: Високоперформансне асинхроне LINQ операције\n",
    "\n",
    "## 🔧 Карактеристике и предности за предузећа\n",
    "\n",
    "### Безбедност и усклађеност\n",
    "- **Интеграција Azure AD**: Управљање идентитетом и аутентификација на нивоу предузећа\n",
    "- **Контрола приступа заснована на улогама**: Детаљне дозволе за приступ документима и операцијама\n",
    "- **Заштита података**: Енкрипција у мировању и током преноса за осетљиве документе\n",
    "- **Логовање активности**: Комплетно праћење активности за потребе усклађености\n",
    "\n",
    "### Перформанса и скалабилност\n",
    "- **Управљање конекцијама**: Ефикасно управљање конекцијама Azure услуга\n",
    "- **Асинхрона обрада**: Операције без блокирања за сценарије са великим протоком\n",
    "- **Стратегије кеширања**: Интелигентно кеширање често приступаних докумената\n",
    "- **Баланс оптерећења**: Дистрибуирана обрада за велике системе\n",
    "\n",
    "### Управљање и праћење\n",
    "- **Провера здравља система**: Уграђено праћење компоненти RAG система\n",
    "- **Метрике перформанси**: Детаљна аналитика о квалитету претраге и времену одговора\n",
    "- **Управљање грешкама**: Комплетно управљање изузецима уз политике поновног покушаја\n",
    "- **Управљање конфигурацијом**: Поставке специфичне за окружење уз валидацију\n",
    "\n",
    "## ⚙️ Предуслови и подешавање\n",
    "\n",
    "**Развојно окружење:**\n",
    "- .NET 9.0 SDK или новији\n",
    "- Visual Studio 2022 или VS Code са C# екстензијом\n",
    "- Azure претплата са приступом AI Foundry\n",
    "\n",
    "**Потребни NuGet пакети:**\n",
    "```xml\n",
    "<PackageReference Include=\"Microsoft.Extensions.AI\" Version=\"9.9.0\" />\n",
    "<PackageReference Include=\"Azure.AI.Agents.Persistent\" Version=\"1.2.0-beta.5\" />\n",
    "<PackageReference Include=\"Azure.Identity\" Version=\"1.15.0\" />\n",
    "<PackageReference Include=\"System.Linq.Async\" Version=\"6.0.3\" />\n",
    "<PackageReference Include=\"DotNetEnv\" Version=\"3.1.1\" />\n",
    "```\n",
    "\n",
    "**Подешавање Azure аутентификације:**\n",
    "```bash\n",
    "# Install Azure CLI and authenticate\n",
    "az login\n",
    "az account set --subscription \"your-subscription-id\"\n",
    "```\n",
    "\n",
    "**Конфигурација окружења (.env фајл):**\n",
    "```env\n",
    "# Azure AI Foundry configuration (automatically handled via Azure CLI)\n",
    "# Ensure you're authenticated to the correct Azure subscription\n",
    "```\n",
    "\n",
    "## 📊 Шаблони RAG система за предузећа\n",
    "\n",
    "### Шаблони управљања документима\n",
    "- **Масовно отпремање**: Ефикасна обрада великих колекција докумената\n",
    "- **Инкременталне измене**: Додавање и модификација докумената у реалном времену\n",
    "- **Контрола верзија**: Верзионисање докумената и праћење промена\n",
    "- **Управљање метаподацима**: Богати атрибути докумената и таксономија\n",
    "\n",
    "### Шаблони претраге и преузимања\n",
    "- **Хибридна претрага**: Комбинација семантичке и кључне претраге за оптималне резултате\n",
    "- **Фацетирана претрага**: Вишедимензионално филтрирање и категоризација\n",
    "- **Подешавање релевантности**: Прилагођени алгоритми за бодовање за специфичне домене\n",
    "- **Рангирање резултата**: Напредно рангирање уз интеграцију пословне логике\n",
    "\n",
    "### Шаблони безбедности\n",
    "- **Безбедност на нивоу документа**: Детаљна контрола приступа по документу\n",
    "- **Класификација података**: Аутоматско означавање осетљивости и заштита\n",
    "- **Трагови ревизије**: Комплетно логовање свих RAG операција\n",
    "- **Заштита приватности**: Откривање и редакција PII података\n",
    "\n",
    "## 🔒 Карактеристике безбедности за предузећа\n",
    "\n",
    "### Аутентификација и ауторизација\n",
    "```csharp\n",
    "// Azure AD integrated authentication\n",
    "var credential = new AzureCliCredential();\n",
    "var agentsClient = new PersistentAgentsClient(endpoint, credential);\n",
    "\n",
    "// Role-based access validation\n",
    "if (!await ValidateUserPermissions(user, documentId))\n",
    "{\n",
    "    throw new UnauthorizedAccessException(\"Insufficient permissions\");\n",
    "}\n",
    "```\n",
    "\n",
    "### Заштита података\n",
    "- **Енкрипција**: Енкрипција од краја до краја за документе и индексе претраге\n",
    "- **Контрола приступа**: Интеграција са Azure AD за дозволе корисника и група\n",
    "- **Резиденција података**: Географска контрола локације података за усклађеност\n",
    "- **Резервне копије и опоравак**: Аутоматизоване резервне копије и процедуре опоравка\n",
    "\n",
    "## 📈 Оптимизација перформанси\n",
    "\n",
    "### Шаблони асинхроне обраде\n",
    "```csharp\n",
    "// Efficient async document processing\n",
    "await foreach (var document in documentStream.AsAsyncEnumerable())\n",
    "{\n",
    "    await ProcessDocumentAsync(document, cancellationToken);\n",
    "}\n",
    "```\n",
    "\n",
    "### Управљање меморијом\n",
    "- **Стриминг обрада**: Обрада великих докумената без проблема са меморијом\n",
    "- **Управљање ресурсима**: Ефикасно поновно коришћење скупих ресурса\n",
    "- **Сакупљање смећа**: Оптимизовани шаблони за алокацију меморије\n",
    "- **Управљање конекцијама**: Правилно управљање животним циклусом Azure конекција\n",
    "\n",
    "### Стратегије кеширања\n",
    "- **Кеширање упита**: Кеширање често извршаваних претрага\n",
    "- **Кеширање докумената**: Кеширање у меморији за \"вруће\" документе\n",
    "- **Кеширање индекса**: Оптимизовано кеширање векторских индекса\n",
    "- **Кеширање резултата**: Интелигентно кеширање генерисаних одговора\n",
    "\n",
    "## 📊 Корисни случајеви за предузећа\n",
    "\n",
    "### Управљање знањем\n",
    "- **Корпоративна вики платформа**: Интелигентна претрага кроз базе знања компаније\n",
    "- **Политике и процедуре**: Аутоматизовано вођење кроз усклађеност и процедуре\n",
    "- **Материјали за обуку**: Интелигентна помоћ у учењу и развоју\n",
    "- **Базе истраживања**: Анализа академских и истраживачких радова\n",
    "\n",
    "### Корисничка подршка\n",
    "- **База знања за подршку**: Аутоматизовани одговори за корисничку подршку\n",
    "- **Документација производа**: Интелигентно преузимање информација о производима\n",
    "- **Водичи за решавање проблема**: Контекстуална помоћ у решавању проблема\n",
    "- **Системи FAQ**: Динамичко генерисање FAQ-а из колекција докумената\n",
    "\n",
    "### Усклађеност са регулативама\n",
    "- **Анализа правних докумената**: Интелигенција за уговоре и правне документе\n",
    "- **Праћење усклађености**: Аутоматизована провера регулаторне усклађености\n",
    "- **Процена ризика**: Анализа ризика заснована на документима и извештавање\n",
    "- **Подршка за ревизију**: Интелигентно откривање докумената за ревизије\n",
    "\n",
    "## 🚀 Деплојмент у производњу\n",
    "\n",
    "### Праћење и видљивост\n",
    "- **Application Insights**: Детаљно праћење телеметрије и перформанси\n",
    "- **Прилагођене метрике**: Праћење и упозорења за специфичне пословне KPI-је\n",
    "- **Дистрибуирано праћење**: Праћење захтева од краја до краја кроз услуге\n",
    "- **Контролне табле здравља система**: Визуелизација здравља и перформанси система у реалном времену\n",
    "\n",
    "### Скалабилност и поузданост\n",
    "- **Ауто-скалинг**: Аутоматско скалирање на основу оптерећења и метрика перформанси\n",
    "- **Висока доступност**: Деплојмент у више региона са могућностима преусмеравања\n",
    "- **Тестирање оптерећења**: Валидација перформанси под оптерећењем на нивоу предузећа\n",
    "- **Опоравак од катастрофе**: Аутоматизоване процедуре резервних копија и опоравка\n",
    "\n",
    "Спремни да изградите RAG системе на нивоу предузећа који могу обрађивати осетљиве документе у великом обиму? Хајде да архитектурамо интелигентне системе знања за предузећа! 🏢📖✨\n"
   ]
  },
  {
   "cell_type": "code",
   "execution_count": 1,
   "metadata": {
    "language_info": {
     "name": "polyglot-notebook"
    },
    "polyglot_notebook": {
     "kernelName": "csharp"
    }
   },
   "outputs": [
    {
     "data": {
      "text/html": [
       "<div><div></div><div></div><div><strong>Installed Packages</strong><ul><li><span>Microsoft.Extensions.AI, 9.9.1</span></li></ul></div></div>"
      ]
     },
     "metadata": {},
     "output_type": "display_data"
    }
   ],
   "source": [
    "#r \"nuget: Microsoft.Extensions.AI, 9.9.1\""
   ]
  },
  {
   "cell_type": "code",
   "execution_count": 2,
   "id": "4ec1f0d1",
   "metadata": {
    "language_info": {
     "name": "polyglot-notebook"
    },
    "polyglot_notebook": {
     "kernelName": "csharp"
    }
   },
   "outputs": [
    {
     "data": {
      "text/html": [
       "<div><div></div><div></div><div><strong>Installed Packages</strong><ul><li><span>Azure.AI.Agents.Persistent, 1.2.0-beta.5</span></li><li><span>Azure.Identity, 1.15.0</span></li><li><span>System.Linq.Async, 6.0.3</span></li></ul></div></div>"
      ]
     },
     "metadata": {},
     "output_type": "display_data"
    }
   ],
   "source": [
    "#r \"nuget: Azure.AI.Agents.Persistent, 1.2.0-beta.5\"\n",
    "#r \"nuget: Azure.Identity, 1.15.0\"\n",
    "#r \"nuget: System.Linq.Async, 6.0.3\""
   ]
  },
  {
   "cell_type": "code",
   "execution_count": 3,
   "id": "2363ae07",
   "metadata": {
    "language_info": {
     "name": "polyglot-notebook"
    },
    "polyglot_notebook": {
     "kernelName": "csharp"
    }
   },
   "outputs": [],
   "source": []
  },
  {
   "cell_type": "code",
   "execution_count": null,
   "id": "d10cec9d",
   "metadata": {
    "language_info": {
     "name": "polyglot-notebook"
    },
    "polyglot_notebook": {
     "kernelName": "csharp"
    }
   },
   "outputs": [
    {
     "data": {
      "text/html": [
       "<div><div></div><div></div><div><strong>Installed Packages</strong><ul><li><span>Microsoft.Agents.AI.AzureAI, 1.0.0-preview.251001.2</span></li></ul></div></div>"
      ]
     },
     "metadata": {},
     "output_type": "display_data"
    }
   ],
   "source": [
    "#r \"nuget: Microsoft.Agents.AI.AzureAI, 1.0.0-preview.251001.3\""
   ]
  },
  {
   "cell_type": "code",
   "execution_count": null,
   "id": "78199d1c",
   "metadata": {
    "language_info": {
     "name": "polyglot-notebook"
    },
    "polyglot_notebook": {
     "kernelName": "csharp"
    }
   },
   "outputs": [
    {
     "data": {
      "text/html": [
       "<div><div></div><div></div><div><strong>Installed Packages</strong><ul><li><span>microsoft.agents.ai, 1.0.0-preview.251001.2</span></li></ul></div></div>"
      ]
     },
     "metadata": {},
     "output_type": "display_data"
    }
   ],
   "source": [
    "#r \"nuget: Microsoft.Agents.AI, 1.0.0-preview.251001.3\""
   ]
  },
  {
   "cell_type": "code",
   "execution_count": 6,
   "id": "7de4684a",
   "metadata": {
    "language_info": {
     "name": "polyglot-notebook"
    },
    "polyglot_notebook": {
     "kernelName": "csharp"
    }
   },
   "outputs": [
    {
     "data": {
      "text/html": [
       "<div><div></div><div></div><div><strong>Installed Packages</strong><ul><li><span>DotNetEnv, 3.1.1</span></li></ul></div></div>"
      ]
     },
     "metadata": {},
     "output_type": "display_data"
    }
   ],
   "source": [
    "#r \"nuget: DotNetEnv, 3.1.1\""
   ]
  },
  {
   "cell_type": "code",
   "execution_count": 7,
   "id": "251efd31",
   "metadata": {
    "language_info": {
     "name": "polyglot-notebook"
    },
    "polyglot_notebook": {
     "kernelName": "csharp"
    }
   },
   "outputs": [],
   "source": [
    "using System;\n",
    "using System.Linq;\n",
    "using Azure.AI.Agents.Persistent;\n",
    "using Azure.Identity;\n",
    "using Microsoft.Agents.AI;"
   ]
  },
  {
   "cell_type": "code",
   "execution_count": 8,
   "id": "a2e342f1",
   "metadata": {
    "language_info": {
     "name": "polyglot-notebook"
    },
    "polyglot_notebook": {
     "kernelName": "csharp"
    }
   },
   "outputs": [],
   "source": [
    " using DotNetEnv;"
   ]
  },
  {
   "cell_type": "code",
   "execution_count": 9,
   "id": "a7a01653",
   "metadata": {
    "language_info": {
     "name": "polyglot-notebook"
    },
    "polyglot_notebook": {
     "kernelName": "csharp"
    }
   },
   "outputs": [],
   "source": [
    "Env.Load(\"../../../.env\");"
   ]
  },
  {
   "cell_type": "code",
   "execution_count": 10,
   "id": "a42735d5",
   "metadata": {
    "language_info": {
     "name": "polyglot-notebook"
    },
    "polyglot_notebook": {
     "kernelName": "csharp"
    }
   },
   "outputs": [],
   "source": [
    "var azure_foundry_endpoint = Environment.GetEnvironmentVariable(\"AZURE_AI_PROJECT_ENDPOINT\") ?? throw new InvalidOperationException(\"AZURE_AI_PROJECT_ENDPOINT is not set.\");\n",
    "var azure_foundry_model_id = Environment.GetEnvironmentVariable(\"AZURE_AI_MODEL_DEPLOYMENT_NAME\") ?? \"gpt-4.1-mini\";"
   ]
  },
  {
   "cell_type": "code",
   "execution_count": 11,
   "id": "e29bdb58",
   "metadata": {
    "language_info": {
     "name": "polyglot-notebook"
    },
    "polyglot_notebook": {
     "kernelName": "csharp"
    }
   },
   "outputs": [],
   "source": [
    "string pdfPath = \"./document.md\";"
   ]
  },
  {
   "cell_type": "code",
   "execution_count": 12,
   "id": "7351e12d",
   "metadata": {
    "language_info": {
     "name": "polyglot-notebook"
    },
    "polyglot_notebook": {
     "kernelName": "csharp"
    }
   },
   "outputs": [],
   "source": [
    "using System.IO;\n",
    "\n",
    "async Task<Stream> OpenImageStreamAsync(string path)\n",
    "{\n",
    "\treturn await Task.Run(() => File.OpenRead(path));\n",
    "}\n",
    "\n",
    "var pdfStream = await OpenImageStreamAsync(pdfPath);"
   ]
  },
  {
   "cell_type": "code",
   "execution_count": 13,
   "id": "0b6bf484",
   "metadata": {
    "language_info": {
     "name": "polyglot-notebook"
    },
    "polyglot_notebook": {
     "kernelName": "csharp"
    }
   },
   "outputs": [],
   "source": [
    "var persistentAgentsClient = new PersistentAgentsClient(azure_foundry_endpoint, new AzureCliCredential());"
   ]
  },
  {
   "cell_type": "code",
   "execution_count": 14,
   "id": "81e0dddc",
   "metadata": {
    "language_info": {
     "name": "polyglot-notebook"
    },
    "polyglot_notebook": {
     "kernelName": "csharp"
    }
   },
   "outputs": [],
   "source": [
    "PersistentAgentFileInfo fileInfo = await persistentAgentsClient.Files.UploadFileAsync(pdfStream, PersistentAgentFilePurpose.Agents, \"demo.md\");"
   ]
  },
  {
   "cell_type": "code",
   "execution_count": 15,
   "id": "f0c75d80",
   "metadata": {
    "language_info": {
     "name": "polyglot-notebook"
    },
    "polyglot_notebook": {
     "kernelName": "csharp"
    }
   },
   "outputs": [],
   "source": [
    "PersistentAgentsVectorStore fileStore =\n",
    "            await persistentAgentsClient.VectorStores.CreateVectorStoreAsync(\n",
    "                [fileInfo.Id],\n",
    "                metadata: new Dictionary<string, string>() { { \"agentkey\", bool.TrueString } });"
   ]
  },
  {
   "cell_type": "code",
   "execution_count": 16,
   "id": "c77986c5",
   "metadata": {
    "language_info": {
     "name": "polyglot-notebook"
    },
    "polyglot_notebook": {
     "kernelName": "csharp"
    }
   },
   "outputs": [],
   "source": [
    "PersistentAgent agentModel = await persistentAgentsClient.Administration.CreateAgentAsync(\n",
    "            azure_foundry_model_id,\n",
    "            name: \"DotNetRAGAgent\",\n",
    "            tools: [new FileSearchToolDefinition()],\n",
    "            instructions: \"\"\"\n",
    "                You are an AI assistant designed to answer user questions using only the information retrieved from the provided document(s).\n",
    "\n",
    "                - If a user's question cannot be answered using the retrieved context, **you must clearly respond**: \n",
    "                \"I'm sorry, but the uploaded document does not contain the necessary information to answer that question.\"\n",
    "                - Do not answer from general knowledge or reasoning. Do not make assumptions or generate hypothetical explanations.\n",
    "                - Do not provide definitions, tutorials, or commentary that is not explicitly grounded in the content of the uploaded file(s).\n",
    "                - If a user asks a question like \"What is a Neural Network?\", and this is not discussed in the uploaded document, respond as instructed above.\n",
    "                - For questions that do have relevant content in the document (e.g., Contoso's travel insurance coverage), respond accurately, and cite the document explicitly.\n",
    "\n",
    "                You must behave as if you have no external knowledge beyond what is retrieved from the uploaded document.\n",
    "                \"\"\",\n",
    "            toolResources: new()\n",
    "            {\n",
    "                FileSearch = new()\n",
    "                {\n",
    "                    VectorStoreIds = { fileStore.Id },\n",
    "                }\n",
    "            },\n",
    "            metadata: new Dictionary<string, string>() { { \"agentkey\", bool.TrueString } });"
   ]
  },
  {
   "cell_type": "code",
   "execution_count": 17,
   "id": "282326cf",
   "metadata": {
    "language_info": {
     "name": "polyglot-notebook"
    },
    "polyglot_notebook": {
     "kernelName": "csharp"
    }
   },
   "outputs": [],
   "source": [
    "AIAgent agent = await persistentAgentsClient.GetAIAgentAsync(agentModel.Id);"
   ]
  },
  {
   "cell_type": "code",
   "execution_count": 18,
   "id": "2067d313",
   "metadata": {
    "language_info": {
     "name": "polyglot-notebook"
    },
    "polyglot_notebook": {
     "kernelName": "csharp"
    }
   },
   "outputs": [],
   "source": [
    "AgentThread thread = agent.GetNewThread();"
   ]
  },
  {
   "cell_type": "code",
   "execution_count": 19,
   "id": "454c4230",
   "metadata": {
    "language_info": {
     "name": "polyglot-notebook"
    },
    "polyglot_notebook": {
     "kernelName": "csharp"
    }
   },
   "outputs": [
    {
     "name": "stdout",
     "output_type": "stream",
     "text": [
      "Contoso's travel insurance coverage includes protection for medical emergencies, trip cancellations, and lost baggage. This ensures that travelers are supported in case of health-related issues during their trip, unforeseen cancellations, and the loss of their belongings while traveling【4:0†demo.md】.\r\n"
     ]
    }
   ],
   "source": [
    "Console.WriteLine(await agent.RunAsync(\"Can you explain Contoso's travel insurance coverage?\", thread));"
   ]
  },
  {
   "cell_type": "markdown",
   "metadata": {},
   "source": [
    "\n---\n\n**Одрицање од одговорности**:  \nОвај документ је преведен коришћењем услуге за превођење помоћу вештачке интелигенције [Co-op Translator](https://github.com/Azure/co-op-translator). Иако се трудимо да обезбедимо тачност, молимо вас да имате у виду да аутоматски преводи могу садржати грешке или нетачности. Оригинални документ на изворном језику треба сматрати меродавним извором. За критичне информације препоручује се професионални превод од стране људи. Не сносимо одговорност за било каква погрешна тумачења или неспоразуме који могу произаћи из коришћења овог превода.\n"
   ]
  }
 ],
 "metadata": {
  "kernelspec": {
   "display_name": ".NET (C#)",
   "language": "C#",
   "name": ".net-csharp"
  },
  "language_info": {
   "name": "polyglot-notebook"
  },
  "polyglot_notebook": {
   "kernelInfo": {
    "defaultKernelName": "csharp",
    "items": [
     {
      "aliases": [],
      "name": "csharp"
     }
    ]
   }
  },
  "coopTranslator": {
   "original_hash": "e4584fa31638009dc6fb665275de8fc2",
   "translation_date": "2025-10-02T06:52:20+00:00",
   "source_file": "05-agentic-rag/code_samples/05-dotnet-agent-framework.ipynb",
   "language_code": "sr"
  }
 },
 "nbformat": 4,
 "nbformat_minor": 5
}