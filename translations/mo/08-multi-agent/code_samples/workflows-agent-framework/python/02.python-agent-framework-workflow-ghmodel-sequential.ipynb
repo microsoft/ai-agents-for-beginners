{
 "cells": [
  {
   "cell_type": "markdown",
   "id": "0f298ce0",
   "metadata": {},
   "source": [
    "# ⏩ 使用 GitHub 模型進行順序代理工作流程 (Python)\n",
    "\n",
    "## 📋 高級順序處理教程\n",
    "\n",
    "此筆記本展示了使用 Microsoft Agent Framework 的**順序工作流程模式**。您將學習如何構建複雜的多步處理管道，讓代理按照特定順序執行，並在各階段之間傳遞數據和上下文。\n",
    "\n",
    "## 🎯 學習目標\n",
    "\n",
    "### 🔄 **順序處理模式**\n",
    "- **線性工作流程設計**：創建逐步處理管道\n",
    "- **數據流管理**：在順序代理之間傳遞信息\n",
    "- **階段檢查處理**：實現檢查點和驗證階段\n",
    "- **進度追蹤**：監控工作流程執行和中間結果\n",
    "\n",
    "### 🏗️ **企業管道架構**\n",
    "- **業務流程建模**：將真實業務流程映射到代理工作流程\n",
    "- **質量保證**：多階段驗證和審核流程\n",
    "- **文檔處理**：順序文檔分析和轉換\n",
    "- **內容製作**：包含審核和批准階段的編輯工作流程\n",
    "\n",
    "### 📊 **高級工作流程功能**\n",
    "- **上下文保留**：在工作流程階段中保持狀態\n",
    "- **錯誤傳播**：處理順序處理中的失敗\n",
    "- **性能優化**：高效的順序執行模式\n",
    "- **審計追蹤**：完整追蹤順序操作\n",
    "\n",
    "## ⚙️ 先決條件與設置\n",
    "\n",
    "### 📦 **依賴項**\n",
    "```bash\n",
    "pip install agent-framework-core -U\n",
    "```\n",
    "\n",
    "### 🔑 **配置**\n",
    "```env\n",
    "GITHUB_TOKEN=your_github_personal_access_token\n",
    "GITHUB_ENDPOINT=https://models.inference.ai.azure.com\n",
    "GITHUB_MODEL_ID=gpt-4o-mini\n",
    "```\n",
    "\n",
    "## 🏢 **企業順序工作流程使用案例**\n",
    "\n",
    "### 📝 **文檔處理管道**\n",
    "```\n",
    "Raw Document → Content Extraction → Analysis → Validation → Final Output\n",
    "```\n",
    "\n",
    "### 🔍 **質量保證工作流程** \n",
    "```\n",
    "Initial Review → Technical Validation → Compliance Check → Final Approval\n",
    "```\n",
    "\n",
    "### 📰 **內容製作管道**\n",
    "```\n",
    "Research → Writing → Editing → Review → Publishing\n",
    "```\n",
    "\n",
    "### 💼 **業務流程自動化**\n",
    "```\n",
    "Data Collection → Processing → Analysis → Report Generation → Distribution\n",
    "```\n",
    "\n",
    "## 🎨 **順序工作流程設計原則**\n",
    "\n",
    "- **🔗 線性進程**：每個階段依賴於前一階段的輸出\n",
    "- **📋 狀態管理**：在所有階段中保留上下文和數據\n",
    "- **🛡️ 錯誤處理**：在任何階段中實現平穩的故障管理\n",
    "- **📊 進度監控**：追蹤每個階段的完成情況和性能\n",
    "- **🔄 階段重用性**：設計可重用的工作流程組件\n",
    "\n",
    "讓我們一起構建複雜的順序處理工作流程吧！🚀\n"
   ]
  },
  {
   "cell_type": "code",
   "execution_count": 1,
   "id": "a3dc4927",
   "metadata": {},
   "outputs": [
    {
     "name": "stdout",
     "output_type": "stream",
     "text": [
      "Requirement already satisfied: agent-framework-core in c:\\users\\kinfeylo\\appdata\\local\\miniforge3\\envs\\agentenv\\lib\\site-packages (1.0.0b251001)\n",
      "Requirement already satisfied: openai>=1.99.0 in c:\\users\\kinfeylo\\appdata\\local\\miniforge3\\envs\\agentenv\\lib\\site-packages (from agent-framework-core) (1.106.1)\n",
      "Requirement already satisfied: pydantic<3,>=2 in c:\\users\\kinfeylo\\appdata\\local\\miniforge3\\envs\\agentenv\\lib\\site-packages (from agent-framework-core) (2.11.9)\n",
      "Requirement already satisfied: pydantic-settings<3,>=2 in c:\\users\\kinfeylo\\appdata\\local\\miniforge3\\envs\\agentenv\\lib\\site-packages (from agent-framework-core) (2.10.1)\n",
      "Requirement already satisfied: typing-extensions in c:\\users\\kinfeylo\\appdata\\local\\miniforge3\\envs\\agentenv\\lib\\site-packages (from agent-framework-core) (4.15.0)\n",
      "Requirement already satisfied: opentelemetry-api>=1.24 in c:\\users\\kinfeylo\\appdata\\local\\miniforge3\\envs\\agentenv\\lib\\site-packages (from agent-framework-core) (1.36.0)\n",
      "Requirement already satisfied: opentelemetry-sdk>=1.24 in c:\\users\\kinfeylo\\appdata\\local\\miniforge3\\envs\\agentenv\\lib\\site-packages (from agent-framework-core) (1.36.0)\n",
      "Requirement already satisfied: mcp>=1.13 in c:\\users\\kinfeylo\\appdata\\local\\miniforge3\\envs\\agentenv\\lib\\site-packages (from mcp[ws]>=1.13->agent-framework-core) (1.13.1)\n",
      "Requirement already satisfied: azure-monitor-opentelemetry>=1.7.0 in c:\\users\\kinfeylo\\appdata\\local\\miniforge3\\envs\\agentenv\\lib\\site-packages (from agent-framework-core) (1.8.0)\n",
      "Requirement already satisfied: azure-monitor-opentelemetry-exporter>=1.0.0b41 in c:\\users\\kinfeylo\\appdata\\local\\miniforge3\\envs\\agentenv\\lib\\site-packages (from agent-framework-core) (1.0.0b41)\n",
      "Requirement already satisfied: opentelemetry-exporter-otlp-proto-grpc>=1.36.0 in c:\\users\\kinfeylo\\appdata\\local\\miniforge3\\envs\\agentenv\\lib\\site-packages (from agent-framework-core) (1.36.0)\n",
      "Requirement already satisfied: opentelemetry-semantic-conventions-ai>=0.4.13 in c:\\users\\kinfeylo\\appdata\\local\\miniforge3\\envs\\agentenv\\lib\\site-packages (from agent-framework-core) (0.4.13)\n",
      "Requirement already satisfied: aiofiles>=24.1.0 in c:\\users\\kinfeylo\\appdata\\local\\miniforge3\\envs\\agentenv\\lib\\site-packages (from agent-framework-core) (24.1.0)\n",
      "Requirement already satisfied: azure-identity<2,>=1 in c:\\users\\kinfeylo\\appdata\\local\\miniforge3\\envs\\agentenv\\lib\\site-packages (from agent-framework-core) (1.24.0)\n",
      "Requirement already satisfied: azure-core>=1.31.0 in c:\\users\\kinfeylo\\appdata\\local\\miniforge3\\envs\\agentenv\\lib\\site-packages (from azure-identity<2,>=1->agent-framework-core) (1.35.0)\n",
      "Requirement already satisfied: cryptography>=2.5 in c:\\users\\kinfeylo\\appdata\\local\\miniforge3\\envs\\agentenv\\lib\\site-packages (from azure-identity<2,>=1->agent-framework-core) (45.0.7)\n",
      "Requirement already satisfied: msal>=1.30.0 in c:\\users\\kinfeylo\\appdata\\local\\miniforge3\\envs\\agentenv\\lib\\site-packages (from azure-identity<2,>=1->agent-framework-core) (1.33.0)\n",
      "Requirement already satisfied: msal-extensions>=1.2.0 in c:\\users\\kinfeylo\\appdata\\local\\miniforge3\\envs\\agentenv\\lib\\site-packages (from azure-identity<2,>=1->agent-framework-core) (1.3.1)\n",
      "Requirement already satisfied: annotated-types>=0.6.0 in c:\\users\\kinfeylo\\appdata\\local\\miniforge3\\envs\\agentenv\\lib\\site-packages (from pydantic<3,>=2->agent-framework-core) (0.7.0)\n",
      "Requirement already satisfied: pydantic-core==2.33.2 in c:\\users\\kinfeylo\\appdata\\local\\miniforge3\\envs\\agentenv\\lib\\site-packages (from pydantic<3,>=2->agent-framework-core) (2.33.2)\n",
      "Requirement already satisfied: typing-inspection>=0.4.0 in c:\\users\\kinfeylo\\appdata\\local\\miniforge3\\envs\\agentenv\\lib\\site-packages (from pydantic<3,>=2->agent-framework-core) (0.4.1)\n",
      "Requirement already satisfied: python-dotenv>=0.21.0 in c:\\users\\kinfeylo\\appdata\\local\\miniforge3\\envs\\agentenv\\lib\\site-packages (from pydantic-settings<3,>=2->agent-framework-core) (1.1.1)\n",
      "Requirement already satisfied: requests>=2.21.0 in c:\\users\\kinfeylo\\appdata\\local\\miniforge3\\envs\\agentenv\\lib\\site-packages (from azure-core>=1.31.0->azure-identity<2,>=1->agent-framework-core) (2.32.5)\n",
      "Requirement already satisfied: six>=1.11.0 in c:\\users\\kinfeylo\\appdata\\local\\miniforge3\\envs\\agentenv\\lib\\site-packages (from azure-core>=1.31.0->azure-identity<2,>=1->agent-framework-core) (1.17.0)\n",
      "Requirement already satisfied: azure-core-tracing-opentelemetry~=1.0.0b11 in c:\\users\\kinfeylo\\appdata\\local\\miniforge3\\envs\\agentenv\\lib\\site-packages (from azure-monitor-opentelemetry>=1.7.0->agent-framework-core) (1.0.0b12)\n",
      "Requirement already satisfied: opentelemetry-instrumentation-django~=0.57b0 in c:\\users\\kinfeylo\\appdata\\local\\miniforge3\\envs\\agentenv\\lib\\site-packages (from azure-monitor-opentelemetry>=1.7.0->agent-framework-core) (0.57b0)\n",
      "Requirement already satisfied: opentelemetry-instrumentation-fastapi~=0.57b0 in c:\\users\\kinfeylo\\appdata\\local\\miniforge3\\envs\\agentenv\\lib\\site-packages (from azure-monitor-opentelemetry>=1.7.0->agent-framework-core) (0.57b0)\n",
      "Requirement already satisfied: opentelemetry-instrumentation-flask~=0.57b0 in c:\\users\\kinfeylo\\appdata\\local\\miniforge3\\envs\\agentenv\\lib\\site-packages (from azure-monitor-opentelemetry>=1.7.0->agent-framework-core) (0.57b0)\n",
      "Requirement already satisfied: opentelemetry-instrumentation-psycopg2~=0.57b0 in c:\\users\\kinfeylo\\appdata\\local\\miniforge3\\envs\\agentenv\\lib\\site-packages (from azure-monitor-opentelemetry>=1.7.0->agent-framework-core) (0.57b0)\n",
      "Requirement already satisfied: opentelemetry-instrumentation-requests~=0.57b0 in c:\\users\\kinfeylo\\appdata\\local\\miniforge3\\envs\\agentenv\\lib\\site-packages (from azure-monitor-opentelemetry>=1.7.0->agent-framework-core) (0.57b0)\n",
      "Requirement already satisfied: opentelemetry-instrumentation-urllib~=0.57b0 in c:\\users\\kinfeylo\\appdata\\local\\miniforge3\\envs\\agentenv\\lib\\site-packages (from azure-monitor-opentelemetry>=1.7.0->agent-framework-core) (0.57b0)\n",
      "Requirement already satisfied: opentelemetry-instrumentation-urllib3~=0.57b0 in c:\\users\\kinfeylo\\appdata\\local\\miniforge3\\envs\\agentenv\\lib\\site-packages (from azure-monitor-opentelemetry>=1.7.0->agent-framework-core) (0.57b0)\n",
      "Requirement already satisfied: opentelemetry-resource-detector-azure~=0.1.5 in c:\\users\\kinfeylo\\appdata\\local\\miniforge3\\envs\\agentenv\\lib\\site-packages (from azure-monitor-opentelemetry>=1.7.0->agent-framework-core) (0.1.5)\n",
      "Requirement already satisfied: fixedint==0.1.6 in c:\\users\\kinfeylo\\appdata\\local\\miniforge3\\envs\\agentenv\\lib\\site-packages (from azure-monitor-opentelemetry-exporter>=1.0.0b41->agent-framework-core) (0.1.6)\n",
      "Requirement already satisfied: msrest>=0.6.10 in c:\\users\\kinfeylo\\appdata\\local\\miniforge3\\envs\\agentenv\\lib\\site-packages (from azure-monitor-opentelemetry-exporter>=1.0.0b41->agent-framework-core) (0.7.1)\n",
      "Requirement already satisfied: psutil<8,>=5.9 in c:\\users\\kinfeylo\\appdata\\local\\miniforge3\\envs\\agentenv\\lib\\site-packages (from azure-monitor-opentelemetry-exporter>=1.0.0b41->agent-framework-core) (7.0.0)\n",
      "Requirement already satisfied: importlib-metadata<8.8.0,>=6.0 in c:\\users\\kinfeylo\\appdata\\local\\miniforge3\\envs\\agentenv\\lib\\site-packages (from opentelemetry-api>=1.24->agent-framework-core) (8.7.0)\n",
      "Requirement already satisfied: zipp>=3.20 in c:\\users\\kinfeylo\\appdata\\local\\miniforge3\\envs\\agentenv\\lib\\site-packages (from importlib-metadata<8.8.0,>=6.0->opentelemetry-api>=1.24->agent-framework-core) (3.23.0)\n",
      "Requirement already satisfied: opentelemetry-instrumentation-wsgi==0.57b0 in c:\\users\\kinfeylo\\appdata\\local\\miniforge3\\envs\\agentenv\\lib\\site-packages (from opentelemetry-instrumentation-django~=0.57b0->azure-monitor-opentelemetry>=1.7.0->agent-framework-core) (0.57b0)\n",
      "Requirement already satisfied: opentelemetry-instrumentation==0.57b0 in c:\\users\\kinfeylo\\appdata\\local\\miniforge3\\envs\\agentenv\\lib\\site-packages (from opentelemetry-instrumentation-django~=0.57b0->azure-monitor-opentelemetry>=1.7.0->agent-framework-core) (0.57b0)\n",
      "Requirement already satisfied: opentelemetry-semantic-conventions==0.57b0 in c:\\users\\kinfeylo\\appdata\\local\\miniforge3\\envs\\agentenv\\lib\\site-packages (from opentelemetry-instrumentation-django~=0.57b0->azure-monitor-opentelemetry>=1.7.0->agent-framework-core) (0.57b0)\n",
      "Requirement already satisfied: opentelemetry-util-http==0.57b0 in c:\\users\\kinfeylo\\appdata\\local\\miniforge3\\envs\\agentenv\\lib\\site-packages (from opentelemetry-instrumentation-django~=0.57b0->azure-monitor-opentelemetry>=1.7.0->agent-framework-core) (0.57b0)\n",
      "Requirement already satisfied: packaging>=18.0 in c:\\users\\kinfeylo\\appdata\\local\\miniforge3\\envs\\agentenv\\lib\\site-packages (from opentelemetry-instrumentation==0.57b0->opentelemetry-instrumentation-django~=0.57b0->azure-monitor-opentelemetry>=1.7.0->agent-framework-core) (25.0)\n",
      "Requirement already satisfied: wrapt<2.0.0,>=1.0.0 in c:\\users\\kinfeylo\\appdata\\local\\miniforge3\\envs\\agentenv\\lib\\site-packages (from opentelemetry-instrumentation==0.57b0->opentelemetry-instrumentation-django~=0.57b0->azure-monitor-opentelemetry>=1.7.0->agent-framework-core) (1.17.3)\n",
      "Requirement already satisfied: opentelemetry-instrumentation-asgi==0.57b0 in c:\\users\\kinfeylo\\appdata\\local\\miniforge3\\envs\\agentenv\\lib\\site-packages (from opentelemetry-instrumentation-fastapi~=0.57b0->azure-monitor-opentelemetry>=1.7.0->agent-framework-core) (0.57b0)\n",
      "Requirement already satisfied: asgiref~=3.0 in c:\\users\\kinfeylo\\appdata\\local\\miniforge3\\envs\\agentenv\\lib\\site-packages (from opentelemetry-instrumentation-asgi==0.57b0->opentelemetry-instrumentation-fastapi~=0.57b0->azure-monitor-opentelemetry>=1.7.0->agent-framework-core) (3.9.1)\n",
      "Requirement already satisfied: opentelemetry-instrumentation-dbapi==0.57b0 in c:\\users\\kinfeylo\\appdata\\local\\miniforge3\\envs\\agentenv\\lib\\site-packages (from opentelemetry-instrumentation-psycopg2~=0.57b0->azure-monitor-opentelemetry>=1.7.0->agent-framework-core) (0.57b0)\n",
      "Requirement already satisfied: cffi>=1.14 in c:\\users\\kinfeylo\\appdata\\local\\miniforge3\\envs\\agentenv\\lib\\site-packages (from cryptography>=2.5->azure-identity<2,>=1->agent-framework-core) (1.17.1)\n",
      "Requirement already satisfied: pycparser in c:\\users\\kinfeylo\\appdata\\local\\miniforge3\\envs\\agentenv\\lib\\site-packages (from cffi>=1.14->cryptography>=2.5->azure-identity<2,>=1->agent-framework-core) (2.22)\n",
      "Requirement already satisfied: anyio>=4.5 in c:\\users\\kinfeylo\\appdata\\local\\miniforge3\\envs\\agentenv\\lib\\site-packages (from mcp>=1.13->mcp[ws]>=1.13->agent-framework-core) (4.10.0)\n",
      "Requirement already satisfied: httpx-sse>=0.4 in c:\\users\\kinfeylo\\appdata\\local\\miniforge3\\envs\\agentenv\\lib\\site-packages (from mcp>=1.13->mcp[ws]>=1.13->agent-framework-core) (0.4.1)\n",
      "Requirement already satisfied: httpx>=0.27.1 in c:\\users\\kinfeylo\\appdata\\local\\miniforge3\\envs\\agentenv\\lib\\site-packages (from mcp>=1.13->mcp[ws]>=1.13->agent-framework-core) (0.28.1)\n",
      "Requirement already satisfied: jsonschema>=4.20.0 in c:\\users\\kinfeylo\\appdata\\local\\miniforge3\\envs\\agentenv\\lib\\site-packages (from mcp>=1.13->mcp[ws]>=1.13->agent-framework-core) (4.25.1)\n",
      "Requirement already satisfied: python-multipart>=0.0.9 in c:\\users\\kinfeylo\\appdata\\local\\miniforge3\\envs\\agentenv\\lib\\site-packages (from mcp>=1.13->mcp[ws]>=1.13->agent-framework-core) (0.0.20)\n",
      "Requirement already satisfied: pywin32>=310 in c:\\users\\kinfeylo\\appdata\\local\\miniforge3\\envs\\agentenv\\lib\\site-packages (from mcp>=1.13->mcp[ws]>=1.13->agent-framework-core) (311)\n",
      "Requirement already satisfied: sse-starlette>=1.6.1 in c:\\users\\kinfeylo\\appdata\\local\\miniforge3\\envs\\agentenv\\lib\\site-packages (from mcp>=1.13->mcp[ws]>=1.13->agent-framework-core) (3.0.2)\n",
      "Requirement already satisfied: starlette>=0.27 in c:\\users\\kinfeylo\\appdata\\local\\miniforge3\\envs\\agentenv\\lib\\site-packages (from mcp>=1.13->mcp[ws]>=1.13->agent-framework-core) (0.47.3)\n",
      "Requirement already satisfied: uvicorn>=0.31.1 in c:\\users\\kinfeylo\\appdata\\local\\miniforge3\\envs\\agentenv\\lib\\site-packages (from mcp>=1.13->mcp[ws]>=1.13->agent-framework-core) (0.35.0)\n",
      "Requirement already satisfied: idna>=2.8 in c:\\users\\kinfeylo\\appdata\\local\\miniforge3\\envs\\agentenv\\lib\\site-packages (from anyio>=4.5->mcp>=1.13->mcp[ws]>=1.13->agent-framework-core) (3.10)\n",
      "Requirement already satisfied: sniffio>=1.1 in c:\\users\\kinfeylo\\appdata\\local\\miniforge3\\envs\\agentenv\\lib\\site-packages (from anyio>=4.5->mcp>=1.13->mcp[ws]>=1.13->agent-framework-core) (1.3.1)\n",
      "Requirement already satisfied: certifi in c:\\users\\kinfeylo\\appdata\\local\\miniforge3\\envs\\agentenv\\lib\\site-packages (from httpx>=0.27.1->mcp>=1.13->mcp[ws]>=1.13->agent-framework-core) (2025.8.3)\n",
      "Requirement already satisfied: httpcore==1.* in c:\\users\\kinfeylo\\appdata\\local\\miniforge3\\envs\\agentenv\\lib\\site-packages (from httpx>=0.27.1->mcp>=1.13->mcp[ws]>=1.13->agent-framework-core) (1.0.9)\n",
      "Requirement already satisfied: h11>=0.16 in c:\\users\\kinfeylo\\appdata\\local\\miniforge3\\envs\\agentenv\\lib\\site-packages (from httpcore==1.*->httpx>=0.27.1->mcp>=1.13->mcp[ws]>=1.13->agent-framework-core) (0.16.0)\n",
      "Requirement already satisfied: attrs>=22.2.0 in c:\\users\\kinfeylo\\appdata\\local\\miniforge3\\envs\\agentenv\\lib\\site-packages (from jsonschema>=4.20.0->mcp>=1.13->mcp[ws]>=1.13->agent-framework-core) (25.3.0)\n",
      "Requirement already satisfied: jsonschema-specifications>=2023.03.6 in c:\\users\\kinfeylo\\appdata\\local\\miniforge3\\envs\\agentenv\\lib\\site-packages (from jsonschema>=4.20.0->mcp>=1.13->mcp[ws]>=1.13->agent-framework-core) (2025.4.1)\n",
      "Requirement already satisfied: referencing>=0.28.4 in c:\\users\\kinfeylo\\appdata\\local\\miniforge3\\envs\\agentenv\\lib\\site-packages (from jsonschema>=4.20.0->mcp>=1.13->mcp[ws]>=1.13->agent-framework-core) (0.36.2)\n",
      "Requirement already satisfied: rpds-py>=0.7.1 in c:\\users\\kinfeylo\\appdata\\local\\miniforge3\\envs\\agentenv\\lib\\site-packages (from jsonschema>=4.20.0->mcp>=1.13->mcp[ws]>=1.13->agent-framework-core) (0.27.1)\n",
      "Requirement already satisfied: websockets>=15.0.1 in c:\\users\\kinfeylo\\appdata\\local\\miniforge3\\envs\\agentenv\\lib\\site-packages (from mcp[ws]>=1.13->agent-framework-core) (15.0.1)\n",
      "Requirement already satisfied: PyJWT<3,>=1.0.0 in c:\\users\\kinfeylo\\appdata\\local\\miniforge3\\envs\\agentenv\\lib\\site-packages (from PyJWT[crypto]<3,>=1.0.0->msal>=1.30.0->azure-identity<2,>=1->agent-framework-core) (2.10.1)\n",
      "Requirement already satisfied: charset_normalizer<4,>=2 in c:\\users\\kinfeylo\\appdata\\local\\miniforge3\\envs\\agentenv\\lib\\site-packages (from requests>=2.21.0->azure-core>=1.31.0->azure-identity<2,>=1->agent-framework-core) (3.4.3)\n",
      "Requirement already satisfied: urllib3<3,>=1.21.1 in c:\\users\\kinfeylo\\appdata\\local\\miniforge3\\envs\\agentenv\\lib\\site-packages (from requests>=2.21.0->azure-core>=1.31.0->azure-identity<2,>=1->agent-framework-core) (2.5.0)\n",
      "Requirement already satisfied: isodate>=0.6.0 in c:\\users\\kinfeylo\\appdata\\local\\miniforge3\\envs\\agentenv\\lib\\site-packages (from msrest>=0.6.10->azure-monitor-opentelemetry-exporter>=1.0.0b41->agent-framework-core) (0.7.2)\n",
      "Requirement already satisfied: requests-oauthlib>=0.5.0 in c:\\users\\kinfeylo\\appdata\\local\\miniforge3\\envs\\agentenv\\lib\\site-packages (from msrest>=0.6.10->azure-monitor-opentelemetry-exporter>=1.0.0b41->agent-framework-core) (2.0.0)\n",
      "Requirement already satisfied: distro<2,>=1.7.0 in c:\\users\\kinfeylo\\appdata\\local\\miniforge3\\envs\\agentenv\\lib\\site-packages (from openai>=1.99.0->agent-framework-core) (1.9.0)\n",
      "Requirement already satisfied: jiter<1,>=0.4.0 in c:\\users\\kinfeylo\\appdata\\local\\miniforge3\\envs\\agentenv\\lib\\site-packages (from openai>=1.99.0->agent-framework-core) (0.10.0)\n",
      "Requirement already satisfied: tqdm>4 in c:\\users\\kinfeylo\\appdata\\local\\miniforge3\\envs\\agentenv\\lib\\site-packages (from openai>=1.99.0->agent-framework-core) (4.67.1)\n",
      "Requirement already satisfied: googleapis-common-protos~=1.57 in c:\\users\\kinfeylo\\appdata\\local\\miniforge3\\envs\\agentenv\\lib\\site-packages (from opentelemetry-exporter-otlp-proto-grpc>=1.36.0->agent-framework-core) (1.70.0)\n",
      "Requirement already satisfied: grpcio<2.0.0,>=1.63.2 in c:\\users\\kinfeylo\\appdata\\local\\miniforge3\\envs\\agentenv\\lib\\site-packages (from opentelemetry-exporter-otlp-proto-grpc>=1.36.0->agent-framework-core) (1.74.0)\n",
      "Requirement already satisfied: opentelemetry-exporter-otlp-proto-common==1.36.0 in c:\\users\\kinfeylo\\appdata\\local\\miniforge3\\envs\\agentenv\\lib\\site-packages (from opentelemetry-exporter-otlp-proto-grpc>=1.36.0->agent-framework-core) (1.36.0)\n",
      "Requirement already satisfied: opentelemetry-proto==1.36.0 in c:\\users\\kinfeylo\\appdata\\local\\miniforge3\\envs\\agentenv\\lib\\site-packages (from opentelemetry-exporter-otlp-proto-grpc>=1.36.0->agent-framework-core) (1.36.0)\n",
      "Requirement already satisfied: protobuf<7.0,>=5.0 in c:\\users\\kinfeylo\\appdata\\local\\miniforge3\\envs\\agentenv\\lib\\site-packages (from opentelemetry-proto==1.36.0->opentelemetry-exporter-otlp-proto-grpc>=1.36.0->agent-framework-core) (5.29.5)\n",
      "Requirement already satisfied: oauthlib>=3.0.0 in c:\\users\\kinfeylo\\appdata\\local\\miniforge3\\envs\\agentenv\\lib\\site-packages (from requests-oauthlib>=0.5.0->msrest>=0.6.10->azure-monitor-opentelemetry-exporter>=1.0.0b41->agent-framework-core) (3.3.1)\n",
      "Requirement already satisfied: colorama in c:\\users\\kinfeylo\\appdata\\local\\miniforge3\\envs\\agentenv\\lib\\site-packages (from tqdm>4->openai>=1.99.0->agent-framework-core) (0.4.6)\n",
      "Requirement already satisfied: click>=7.0 in c:\\users\\kinfeylo\\appdata\\local\\miniforge3\\envs\\agentenv\\lib\\site-packages (from uvicorn>=0.31.1->mcp>=1.13->mcp[ws]>=1.13->agent-framework-core) (8.2.1)\n"
     ]
    }
   ],
   "source": [
    "! pip install agent-framework-core -U"
   ]
  },
  {
   "cell_type": "code",
   "execution_count": 2,
   "id": "fec2cf19",
   "metadata": {},
   "outputs": [],
   "source": [
    "from agent_framework.openai import OpenAIChatClient\n",
    "from agent_framework import ChatMessage, DataContent, Role, TextContent,WorkflowBuilder,  WorkflowEvent,WorkflowViz"
   ]
  },
  {
   "cell_type": "code",
   "execution_count": 3,
   "id": "5d1a0590",
   "metadata": {},
   "outputs": [],
   "source": [
    "\n",
    "import os\n",
    "import base64\n",
    "from dotenv import load_dotenv"
   ]
  },
  {
   "cell_type": "code",
   "execution_count": 4,
   "id": "cbbeaf06",
   "metadata": {},
   "outputs": [
    {
     "data": {
      "text/plain": [
       "True"
      ]
     },
     "execution_count": 4,
     "metadata": {},
     "output_type": "execute_result"
    }
   ],
   "source": [
    "load_dotenv()"
   ]
  },
  {
   "cell_type": "code",
   "execution_count": 5,
   "id": "b1ff1a7b",
   "metadata": {},
   "outputs": [],
   "source": [
    "chat_client = OpenAIChatClient(base_url=os.environ.get(\"GITHUB_ENDPOINT\"), api_key=os.environ.get(\"GITHUB_TOKEN\"), model_id=\"gpt-4o\" )"
   ]
  },
  {
   "cell_type": "code",
   "execution_count": 6,
   "id": "0d64a0a0",
   "metadata": {},
   "outputs": [],
   "source": [
    "SalesAgentName = \"Sales-Agent\"\n",
    "SalesAgentInstructions = \"You are my furniture sales consultant, you can find different furniture elements from the pictures and give me a purchase suggestion\""
   ]
  },
  {
   "cell_type": "code",
   "execution_count": 7,
   "id": "26b38cbf",
   "metadata": {},
   "outputs": [],
   "source": [
    "PriceAgentName = \"Price-Agent\"\n",
    "PriceAgentInstructions = \"\"\"You are a furniture pricing specialist and budget consultant. Your responsibilities include:\n",
    "        1. Analyze furniture items and provide realistic price ranges based on quality, brand, and market standards\n",
    "        2. Break down pricing by individual furniture pieces\n",
    "        3. Provide budget-friendly alternatives and premium options\n",
    "        4. Consider different price tiers (budget, mid-range, premium)\n",
    "        5. Include estimated total costs for room setups\n",
    "        6. Suggest where to find the best deals and shopping recommendations\n",
    "        7. Factor in additional costs like delivery, assembly, and accessories\n",
    "        8. Provide seasonal pricing insights and best times to buy\n",
    "        Always format your response with clear price breakdowns and explanations for the pricing rationale.\"\"\""
   ]
  },
  {
   "cell_type": "code",
   "execution_count": 8,
   "id": "8dad49b7",
   "metadata": {},
   "outputs": [],
   "source": [
    "QuoteAgentName = \"Quote-Agent\"\n",
    "QuoteAgentInstructions = \"\"\"You are a assistant that create a quote for furniture purchase.\n",
    "        1. Create a well-structured quote document that includes:\n",
    "        2. A title page with the document title, date, and client name\n",
    "        3. An introduction summarizing the purpose of the document\n",
    "        4. A summary section with total estimated costs and recommendations\n",
    "        5. Use clear headings, bullet points, and tables for easy readability\n",
    "        6. All quotes are presented in markdown form\"\"\""
   ]
  },
  {
   "cell_type": "code",
   "execution_count": 9,
   "id": "c9a55d69",
   "metadata": {},
   "outputs": [],
   "source": [
    "sales_agent   = chat_client.create_agent(\n",
    "        instructions=(\n",
    "           SalesAgentInstructions\n",
    "        ),\n",
    "        name=SalesAgentName,\n",
    "    )\n",
    "\n",
    "price_agent = chat_client.create_agent(\n",
    "        instructions=(\n",
    "            PriceAgentInstructions\n",
    "        ),\n",
    "        name=PriceAgentName,\n",
    "    )\n",
    "\n",
    "quote_agent = chat_client.create_agent(\n",
    "        instructions=(\n",
    "            QuoteAgentInstructions\n",
    "        ),\n",
    "        name=QuoteAgentName,\n",
    "    )\n"
   ]
  },
  {
   "cell_type": "code",
   "execution_count": 10,
   "id": "b3ac64f0",
   "metadata": {},
   "outputs": [],
   "source": [
    "workflow = WorkflowBuilder().set_start_executor(sales_agent).add_edge(sales_agent, price_agent).add_edge(price_agent, quote_agent).build()"
   ]
  },
  {
   "cell_type": "code",
   "execution_count": 11,
   "id": "12eb6379",
   "metadata": {},
   "outputs": [
    {
     "name": "stdout",
     "output_type": "stream",
     "text": [
      "Generating workflow visualization...\n",
      "Mermaid string: \n",
      "=======\n",
      "flowchart TD\n",
      "  Sales_Agent[\"Sales-Agent (Start)\"];\n",
      "  Price_Agent[\"Price-Agent\"];\n",
      "  Quote_Agent[\"Quote-Agent\"];\n",
      "  Sales_Agent --> Price_Agent;\n",
      "  Price_Agent --> Quote_Agent;\n",
      "=======\n",
      "DiGraph string: \n",
      "=======\n",
      "digraph Workflow {\n",
      "  rankdir=TD;\n",
      "  node [shape=box, style=filled, fillcolor=lightblue];\n",
      "  edge [color=black, arrowhead=vee];\n",
      "\n",
      "  \"Sales-Agent\" [fillcolor=lightgreen, label=\"Sales-Agent\\n(Start)\"];\n",
      "  \"Price-Agent\" [label=\"Price-Agent\"];\n",
      "  \"Quote-Agent\" [label=\"Quote-Agent\"];\n",
      "  \"Sales-Agent\" -> \"Price-Agent\";\n",
      "  \"Price-Agent\" -> \"Quote-Agent\";\n",
      "}\n",
      "=======\n",
      "SVG file saved to: C:\\Users\\kinfeylo\\AppData\\Local\\Temp\\tmpu6dtvyds.svg\n"
     ]
    }
   ],
   "source": [
    "print(\"Generating workflow visualization...\")\n",
    "viz = WorkflowViz(workflow)\n",
    "# Print out the mermaid string.\n",
    "print(\"Mermaid string: \\n=======\")\n",
    "print(viz.to_mermaid())\n",
    "print(\"=======\")\n",
    "# Print out the DiGraph string.\n",
    "print(\"DiGraph string: \\n=======\")\n",
    "print(viz.to_digraph())\n",
    "print(\"=======\")\n",
    "svg_file = viz.export(format=\"svg\")\n",
    "print(f\"SVG file saved to: {svg_file}\")"
   ]
  },
  {
   "cell_type": "code",
   "execution_count": 12,
   "id": "57b86a4e",
   "metadata": {},
   "outputs": [],
   "source": [
    "class DatabaseEvent(WorkflowEvent): ..."
   ]
  },
  {
   "cell_type": "code",
   "execution_count": 13,
   "id": "466f110e",
   "metadata": {},
   "outputs": [
    {
     "name": "stdout",
     "output_type": "stream",
     "text": [
      "Attempting to display SVG file at: C:\\Users\\kinfeylo\\AppData\\Local\\Temp\\tmpu6dtvyds.svg\n"
     ]
    },
    {
     "data": {
      "image/svg+xml": [
       "<svg xmlns=\"http://www.w3.org/2000/svg\" xmlns:xlink=\"http://www.w3.org/1999/xlink\" width=\"95pt\" height=\"193pt\" viewBox=\"0.00 0.00 95.00 193.00\">\n",
       "<g id=\"graph0\" class=\"graph\" transform=\"scale(1 1) rotate(0) translate(4 189)\">\n",
       "<title>Workflow</title>\n",
       "<polygon fill=\"white\" stroke=\"none\" points=\"-4,4 -4,-189 90.5,-189 90.5,4 -4,4\"/>\n",
       "<!-- Sales&#45;Agent -->\n",
       "<g id=\"node1\" class=\"node\">\n",
       "<title>Sales-Agent</title>\n",
       "<polygon fill=\"lightgreen\" stroke=\"black\" points=\"84.25,-185 2.25,-185 2.25,-144 84.25,-144 84.25,-185\"/>\n",
       "<text xml:space=\"preserve\" text-anchor=\"middle\" x=\"43.25\" y=\"-167.7\" font-family=\"Times New Roman,serif\" font-size=\"14.00\">Sales-Agent</text>\n",
       "<text xml:space=\"preserve\" text-anchor=\"middle\" x=\"43.25\" y=\"-151.2\" font-family=\"Times New Roman,serif\" font-size=\"14.00\">(Start)</text>\n",
       "</g>\n",
       "<!-- Price&#45;Agent -->\n",
       "<g id=\"node2\" class=\"node\">\n",
       "<title>Price-Agent</title>\n",
       "<polygon fill=\"lightblue\" stroke=\"black\" points=\"83.88,-108 2.62,-108 2.62,-72 83.88,-72 83.88,-108\"/>\n",
       "<text xml:space=\"preserve\" text-anchor=\"middle\" x=\"43.25\" y=\"-84.95\" font-family=\"Times New Roman,serif\" font-size=\"14.00\">Price-Agent</text>\n",
       "</g>\n",
       "<!-- Sales&#45;Agent&#45;&gt;Price&#45;Agent -->\n",
       "<g id=\"edge1\" class=\"edge\">\n",
       "<title>Sales-Agent-&gt;Price-Agent</title>\n",
       "<path fill=\"none\" stroke=\"black\" d=\"M43.25,-143.69C43.25,-136.17 43.25,-127.44 43.25,-119.29\"/>\n",
       "<polygon fill=\"black\" stroke=\"black\" points=\"43.25,-109.54 47.75,-119.54 43.25,-113.32 43.25,-119.54 43.25,-119.54 43.25,-119.54 43.25,-113.32 38.75,-119.54 43.25,-109.54\"/>\n",
       "</g>\n",
       "<!-- Quote&#45;Agent -->\n",
       "<g id=\"node3\" class=\"node\">\n",
       "<title>Quote-Agent</title>\n",
       "<polygon fill=\"lightblue\" stroke=\"black\" points=\"86.5,-36 0,-36 0,0 86.5,0 86.5,-36\"/>\n",
       "<text xml:space=\"preserve\" text-anchor=\"middle\" x=\"43.25\" y=\"-12.95\" font-family=\"Times New Roman,serif\" font-size=\"14.00\">Quote-Agent</text>\n",
       "</g>\n",
       "<!-- Price&#45;Agent&#45;&gt;Quote&#45;Agent -->\n",
       "<g id=\"edge2\" class=\"edge\">\n",
       "<title>Price-Agent-&gt;Quote-Agent</title>\n",
       "<path fill=\"none\" stroke=\"black\" d=\"M43.25,-71.7C43.25,-64.32 43.25,-55.52 43.25,-47.25\"/>\n",
       "<polygon fill=\"black\" stroke=\"black\" points=\"43.25,-37.32 47.75,-47.32 43.25,-41.1 43.25,-47.32 43.25,-47.32 43.25,-47.32 43.25,-41.1 38.75,-47.32 43.25,-37.32\"/>\n",
       "</g>\n",
       "</g>\n",
       "</svg>"
      ],
      "text/plain": [
       "<IPython.core.display.SVG object>"
      ]
     },
     "metadata": {},
     "output_type": "display_data"
    }
   ],
   "source": [
    "# Display the exported workflow SVG inline in the notebook\n",
    "\n",
    "from IPython.display import SVG, display, HTML\n",
    "import os\n",
    "\n",
    "print(f\"Attempting to display SVG file at: {svg_file}\")\n",
    "\n",
    "if svg_file and os.path.exists(svg_file):\n",
    "    try:\n",
    "        # Preferred: direct SVG rendering\n",
    "        display(SVG(filename=svg_file))\n",
    "    except Exception as e:\n",
    "        print(f\"⚠️ Direct SVG render failed: {e}. Falling back to raw HTML.\")\n",
    "        try:\n",
    "            with open(svg_file, \"r\", encoding=\"utf-8\") as f:\n",
    "                svg_text = f.read()\n",
    "            display(HTML(svg_text))\n",
    "        except Exception as inner:\n",
    "            print(f\"❌ Fallback HTML render also failed: {inner}\")\n",
    "else:\n",
    "    print(\"❌ SVG file not found. Ensure viz.export(format='svg') ran successfully.\")"
   ]
  },
  {
   "cell_type": "code",
   "execution_count": 14,
   "id": "e0c32e98",
   "metadata": {},
   "outputs": [],
   "source": [
    "image_path = \"../imgs/home.png\"\n",
    "with open(image_path, \"rb\") as image_file:\n",
    "    image_b64 = base64.b64encode(image_file.read()).decode()\n",
    "image_uri = f\"data:image/png;base64,{image_b64}\"\n"
   ]
  },
  {
   "cell_type": "code",
   "execution_count": 15,
   "id": "417e237d",
   "metadata": {},
   "outputs": [],
   "source": [
    "message = ChatMessage(\n",
    "        role=Role.USER,\n",
    "        contents=[\n",
    "            TextContent(text=\"Please find the relevant furniture according to the image and give the corresponding price for each piece of furniture\"),\n",
    "            DataContent(uri=image_uri, media_type=\"image/png\")\n",
    "        ]\n",
    ")"
   ]
  },
  {
   "cell_type": "code",
   "execution_count": 16,
   "id": "bb76bba5",
   "metadata": {},
   "outputs": [],
   "source": [
    "result=''\n",
    "async for event in workflow.run_stream(message):\n",
    "    if isinstance(event, DatabaseEvent):\n",
    "        print(f\"{event}\")\n",
    "    if isinstance(event, WorkflowEvent):\n",
    "        result += str(event.data)"
   ]
  },
  {
   "cell_type": "code",
   "execution_count": 17,
   "id": "a8db5dbb",
   "metadata": {},
   "outputs": [
    {
     "data": {
      "text/plain": [
       "'Here is a breakdown of the furniture and decor elements in the room with suggestions and approximate prices:\\n\\n1. **Sofa (White Modern Style)**  \\n   - **Suggestion**: A 3-seater contemporary fabric sofa with cushions.  \\n   - **Estimated Price**: $800 - $1,200  \\n\\n2. **Accent Chair (Dark Blue)**  \\n   - **Suggestion**: A high-back navy blue velvet lounge chair.  \\n   - **Estimated Price**: $300 - $500  \\n\\n3. **Coffee Table (Oval, White Marble Top with Wooden Base)**  \\n   - **Suggestion**: Oval-shaped coffee table with a faux marble top and wooden legs.  \\n   - **Estimated Price**: $250 - $400  \\n\\n4. **TV Console (Light Wood Finish)**  \\n   - **Suggestion**: A sleek modern TV stand with storage drawers.  \\n   - **Estimated Price**: $300 - $600  \\n\\n5. **Lighting (Ceiling Chandelier - Black with Glass Globes)**  \\n   - **Suggestion**: Black contemporary chandelier with multiple glass globes.  \\n   - **Estimated Price**: $200 - $400  \\n\\n6. **Side Table with Decorative Elements (Near the Lamp)**  \\n   - **Suggestion**: Simple silver console or end table.  \\n   - **Estimated Price**: $100 - $200  \\n\\n7. **Curtains (Grey and Sheer White Combo)**  \\n   - **Suggestion**: Two-layer curtain set (grey blackout curtain with sheer white voile lining).  \\n   - **Estimated Price**: $150 - $250  \\n\\n8. **Throw Pillows (Various Shades of Blue/White)**  \\n   - **Suggestion**: Set of decorative throw pillows in mixed patterns and textures.  \\n   - **Estimated Price**: $15 - $30 per piece or $80 for a set of 5.  \\n\\n9. **Wall Art (Deer Print)**  \\n   - **Suggestion**: Minimalistic framed wall art print with animal motif.  \\n   - **Estimated Price**: $50 - $100  \\n\\n10. **Floor Lamp (Near Accent Chair)**  \\n    - **Suggestion**: Modern tripod floor lamp with a spherical lampshade.  \\n    - **Estimated Price**: $120 - $200  \\n\\n### Suggested Total Cost:  \\n$2,300 - $4,180 depending on quality and materials.\\n\\nWould you like assistance finding stores or brands to purchase these items?### Price Breakdown with Tier Options:\\n\\nBelow is an easy-to-follow breakdown of the furniture pieces in the image with **Budget**, **Mid-Range**, and **Premium Options**.\\n\\n---\\n\\n### 1. **Sofa (White Modern Style)**  \\n   - *Budget*: $300 - $600 (Polyester-blend fabric, basic cushioning, found at IKEA or Wayfair).  \\n   - *Mid-Range*: $800 - $1,200 (Durable fabric or linen, quality build, brands like Article or West Elm).  \\n   - *Premium*: $2,000 - $3,000 (High-grade upholstery, feather cushions, from companies such as Restoration Hardware or Crate & Barrel).  \\n   - **Recommendation**: Mid-range option from Article for both style and durability.  \\n\\n---\\n\\n### 2. **Accent Chair (Dark Blue)**  \\n   - *Budget*: $120 - $200 (Basic velvet or polyester blend, smaller seat, Wayfair or Walmart).  \\n   - *Mid-Range*: $300 - $500 (Stylish designs with velvet/linen fabric, brands like CB2 or Joybird).  \\n   - *Premium*: $700+ (High-grade velvet, sculptural design, brands like Room & Board or Anthropologie).  \\n   - **Recommendation**: Mid-range option in stores like CB2 for a balance of style and comfort.  \\n\\n---\\n\\n### 3. **Coffee Table (Oval)**  \\n   - *Budget*: $80 - $150 (Faux wood or laminate finish, simple design, IKEA).  \\n   - *Mid-Range*: $250 - $400 (Marble laminate or sturdy wood, brands like Wayfair or Article).  \\n   - *Premium*: $800+ (Real marble top, designer frames, Restoration Hardware or West Elm).  \\n   - **Recommendation**: Mid-range marble laminate options for affordability and aesthetic.  \\n\\n---\\n\\n### 4. **TV Console (Light Wood Finish)**  \\n   - *Budget*: $150 - $250 (MDF or particleboard, closer to IKEA or Amazon finds).  \\n   - *Mid-Range*: $300 - $600 (Solid wood built, storage features, West Elm or Article).  \\n   - *Premium*: $1,000+ (Designer console, solid hardwood, Crate & Barrel or Pottery Barn).  \\n   - **Recommendation**: Mid-range option from West Elm for durability and style.  \\n\\n---\\n\\n### 5. **Lighting (Chandelier - Black with Glass)**  \\n   - *Budget*: $80 - $150 (Modern-style chandelier, basic build, Wayfair or Amazon).  \\n   - *Mid-Range*: $250 - $400 (Sleek designs with glass globes, CB2 or West Elm).  \\n   - *Premium*: $800+ (Designer LED chandeliers from brand partnerships at high-end stores).  \\n   - **Recommendation**: Mid-range option from West Elm for style and quality.  \\n\\n---\\n\\n### 6. **Side Table (Metal Frame & Glass Top)**  \\n   - *Budget*: $50 - $80 (Basic metal/glass designs, Amazon or IKEA).  \\n   - *Mid-Range*: $150 - $200 (Stylish minimalist designs, brands like CB2).  \\n   - *Premium*: $400+ (Designer tables with unique materials, West Elm or Crate & Barrel).  \\n   - **Recommendation**: Budget designs are often sufficient for this item as it’s a decorative element.  \\n\\n---\\n\\n### 7. **Curtains (Grey and White Layers)**  \\n   - *Budget*: $50 - $100 (Synthetic fabrics, basic designs, easily available at Walmart or IKEA).  \\n   - *Mid-Range*: $150 - $250 (High-quality blackout curtain and linen sheer, Bed Bath & Beyond or Pottery Barn).  \\n   - *Premium*: $500+ (Custom designs and fabrics, specialized brands).  \\n   - **Recommendation**: Mid-range works best for appearance and blackout functionality.  \\n\\n---\\n\\n### 8. **Throw Pillows (Decorative)**  \\n   - *Budget*: $50-$80 (Polyester filling, vibrant colors, Wayfair or Amazon).  \\n   - *Mid-Range*: $100 - $200 (Quality fabric with inserts, West Elm or Crate & Barrel).  \\n   - *Premium*: $300+ (Designer pieces made of natural materials like silk, Anthropologie or Restoration Hardware).  \\n   - **Recommendation**: Mid-range pillows to ensure comfort and design harmony.  \\n\\n---\\n\\n### 9. **Wall Art (Deer Print)**  \\n   - *Budget*: $20 - $50 (Prints with frames, easily found at Walmart or Amazon).  \\n   - *Mid-Range*: $80 - $150 (Curated art prints from brands like Society6 or Minted).  \\n   - *Premium*: $300+ (Hand-painted or custom works, design stores like West Elm).  \\n   - **Recommendation**: Mid-range option for striking visuals without high costs.  \\n\\n---\\n\\n### 10. **Floor Lamp (Near Accent Chair)**  \\n   - *Budget*: $50 - $80 (Basic functional lamps, Amazon or Target).  \\n   - *Mid-Range*: $120 - $200 (Stylish modern tripod lamps, CB2 or Article).  \\n   - *Premium*: $500+ (Designer statement lamps, Crate & Barrel or Artemide).  \\n   - **Recommendation**: Mid-range for style consistency while keeping costs reasonable.\\n\\n---\\n\\n### **Total Room Setup:**\\n- **Budget**: $1,200 - $2,200  \\n- **Mid-Range**: $3,000 - $4,500  \\n- **Premium**: $7,500+  \\n\\n---\\n\\n### **Seasonal Pricing Insights**:\\n- **Best Times to Buy**:  \\n  - **January and July**: Clearance sales for older models, especially around furniture retailers like IKEA, Wayfair, and Ashley Furniture.  \\n  - **Holiday Sales**: Black Friday, Cyber Monday, and Labor Day sales offer significant discounts.  \\n  - **End-of-Season Clearance**: Look for discounts at West Elm or Crate & Barrel for $300 - $1,000 savings.\\n\\n---\\n\\n### **Shopping Recommendations**:  \\n1. **Budget-Friendly**: IKEA, Wayfair, Walmart, or Target.  \\n2. **Mid-Range**: Article, West Elm, CB2, Bed Bath & Beyond.  \\n3. **Premium**: Restoration Hardware, Crate & Barrel, Anthropologie.  \\n4. **Online**: Check Amazon, Overstock, or Wayfair for deals on similar designs.  \\n5. **Delivery and Assembly Costs**: Budget around $50-$100 per piece depending on store policies, or opt for free delivery during seasonal promotions.\\n\\nLet me know if you need customized recommendations or guidance!```markdown\\n# Furniture Purchase Quote\\n\\n---\\n\\n## **Living Room Furniture Quote**\\n### **Date**: [Insert Date]  \\n### **Client Name**: [Insert Client Name]  \\n\\n---\\n\\n## **Introduction**  \\nThis document outlines the recommended furniture pieces for the living room, inspired by the given image. Each item has been carefully selected to match the style and aesthetic, with pricing options categorized as Budget, Mid-Range, and Premium to accommodate various preferences and budgets.  \\n\\n---\\n\\n## **Furniture Breakdown and Pricing**\\n\\n| **Item**                    | **Details**                                           | **Budget** | **Mid-Range** | **Premium** |\\n|-----------------------------|-------------------------------------------------------|------------|---------------|-------------|\\n| **Sofa (White Modern)**     | 3-seater fabric sofa, durable upholstery.             | $300-$600  | $800-$1,200   | $2,000-$3,000 |\\n| **Accent Chair (Blue)**     | Navy blue velvet lounge chair, modern design.         | $120-$200  | $300-$500     | $700+        |\\n| **Coffee Table (Oval Top)** | Marble laminate table, wood base.                     | $80-$150   | $250-$400     | $800+        |\\n| **TV Console**              | Light wood finish, sleek with storage drawers.        | $150-$250  | $300-$600     | $1,000+      |\\n| **Chandelier (Black/Glass)**| Contemporary lighting fixture with glass globes.      | $80-$150   | $250-$400     | $800+        |\\n| **Side Table (Glass Top)**  | Metal frame, glass top, decorative element.           | $50-$80    | $150-$200     | $400+        |\\n| **Curtains (Grey/White)**   | Blackout curtains paired with sheer voile.            | $50-$100   | $150-$250     | $500+        |\\n| **Throw Pillows**           | Decorative pillows, mixed textures and shades.       | $50-$80    | $100-$200     | $300+        |\\n| **Wall Art (Deer Print)**   | Framed print, minimalistic design.                    | $20-$50    | $80-$150      | $300+        |\\n| **Floor Lamp**              | Tripod lamp with spherical lampshade.                 | $50-$80    | $120-$200     | $500+        |\\n\\n---\\n\\n### **Total Estimated Costs**  \\n#### **Budget-Friendly Option**: $1,200 - $2,200  \\n#### **Mid-Range Option**: $3,000 - $4,500  \\n#### **Premium Option**: $7,500+  \\n\\n---\\n\\n## **Recommendations**\\n1. Opt for **Mid-Range Options** to balance price and quality. Brands like Article, West Elm, and CB2 offer excellent choices matching the living room aesthetic.  \\n2. Purchase during **seasonal sales** (e.g. Black Friday, January clearances) to reduce costs by 10-30%.  \\n3. Look for **free delivery options** and inquire about warranties for long-term durability.  \\n4. If combining items from different categories (e.g., Budget coffee table but Mid-Range sofa), expect total costs around $2,500-$3,000.\\n\\n---\\n\\n## **Next Steps**\\n- **Review and Approve Quote**: Let us know the preferred budget tier.  \\n- **Store Selection**: Assistance with brand and store selection can be provided.  \\n- **Delivery Coordination**: We can arrange delivery and assembly services.\\n\\nThank you for trusting us with your living room furniture design. We look forward to assisting you!\\n\\n---\\n**Prepared By**: [Your Name]  \\n**Contact Information**: [Your Email | Phone Number]  \\n``````markdown\\n# Furniture Purchase Quote\\n\\n---\\n\\n## **Living Room Furniture Quote**\\n### **Date**: [Insert Date]  \\n### **Client Name**: [Insert Client Name]  \\n\\n---\\n\\n## **Introduction**  \\nThis document outlines the recommended furniture pieces for the living room, inspired by the given image. Each item has been carefully selected to match the style and aesthetic, with pricing options categorized as Budget, Mid-Range, and Premium to accommodate various preferences and budgets.  \\n\\n---\\n\\n## **Furniture Breakdown and Pricing**\\n\\n| **Item**                    | **Details**                                           | **Budget** | **Mid-Range** | **Premium** |\\n|-----------------------------|-------------------------------------------------------|------------|---------------|-------------|\\n| **Sofa (White Modern)**     | 3-seater fabric sofa, durable upholstery.             | $300-$600  | $800-$1,200   | $2,000-$3,000 |\\n| **Accent Chair (Blue)**     | Navy blue velvet lounge chair, modern design.         | $120-$200  | $300-$500     | $700+        |\\n| **Coffee Table (Oval Top)** | Marble laminate table, wood base.                     | $80-$150   | $250-$400     | $800+        |\\n| **TV Console**              | Light wood finish, sleek with storage drawers.        | $150-$250  | $300-$600     | $1,000+      |\\n| **Chandelier (Black/Glass)**| Contemporary lighting fixture with glass globes.      | $80-$150   | $250-$400     | $800+        |\\n| **Side Table (Glass Top)**  | Metal frame, glass top, decorative element.           | $50-$80    | $150-$200     | $400+        |\\n| **Curtains (Grey/White)**   | Blackout curtains paired with sheer voile.            | $50-$100   | $150-$250     | $500+        |\\n| **Throw Pillows**           | Decorative pillows, mixed textures and shades.       | $50-$80    | $100-$200     | $300+        |\\n| **Wall Art (Deer Print)**   | Framed print, minimalistic design.                    | $20-$50    | $80-$150      | $300+        |\\n| **Floor Lamp**              | Tripod lamp with spherical lampshade.                 | $50-$80    | $120-$200     | $500+        |\\n\\n---\\n\\n### **Total Estimated Costs**  \\n#### **Budget-Friendly Option**: $1,200 - $2,200  \\n#### **Mid-Range Option**: $3,000 - $4,500  \\n#### **Premium Option**: $7,500+  \\n\\n---\\n\\n## **Recommendations**\\n1. Opt for **Mid-Range Options** to balance price and quality. Brands like Article, West Elm, and CB2 offer excellent choices matching the living room aesthetic.  \\n2. Purchase during **seasonal sales** (e.g. Black Friday, January clearances) to reduce costs by 10-30%.  \\n3. Look for **free delivery options** and inquire about warranties for long-term durability.  \\n4. If combining items from different categories (e.g., Budget coffee table but Mid-Range sofa), expect total costs around $2,500-$3,000.\\n\\n---\\n\\n## **Next Steps**\\n- **Review and Approve Quote**: Let us know the preferred budget tier.  \\n- **Store Selection**: Assistance with brand and store selection can be provided.  \\n- **Delivery Coordination**: We can arrange delivery and assembly services.\\n\\nThank you for trusting us with your living room furniture design. We look forward to assisting you!\\n\\n---\\n**Prepared By**: [Your Name]  \\n**Contact Information**: [Your Email | Phone Number]  \\n```'"
      ]
     },
     "execution_count": 17,
     "metadata": {},
     "output_type": "execute_result"
    }
   ],
   "source": [
    "result.replace(\"None\", \"\")"
   ]
  },
  {
   "cell_type": "markdown",
   "metadata": {},
   "source": [
    "\n---\n\n**免責聲明**：  \n本文件已使用 AI 翻譯服務 [Co-op Translator](https://github.com/Azure/co-op-translator) 進行翻譯。儘管我們努力確保翻譯的準確性，但請注意，自動翻譯可能包含錯誤或不準確之處。原始文件的母語版本應被視為權威來源。對於關鍵資訊，建議使用專業人工翻譯。我們對因使用此翻譯而引起的任何誤解或誤釋不承擔責任。\n"
   ]
  }
 ],
 "metadata": {
  "kernelspec": {
   "display_name": "agentenv",
   "language": "python",
   "name": "python3"
  },
  "language_info": {
   "codemirror_mode": {
    "name": "ipython",
    "version": 3
   },
   "file_extension": ".py",
   "mimetype": "text/x-python",
   "name": "python",
   "nbconvert_exporter": "python",
   "pygments_lexer": "ipython3",
   "version": "3.12.10"
  },
  "coopTranslator": {
   "original_hash": "ac827abdacc3dd6cd215c08f178161df",
   "translation_date": "2025-10-02T14:17:08+00:00",
   "source_file": "08-multi-agent/code_samples/workflows-agent-framework/python/02.python-agent-framework-workflow-ghmodel-sequential.ipynb",
   "language_code": "mo"
  }
 },
 "nbformat": 4,
 "nbformat_minor": 5
}