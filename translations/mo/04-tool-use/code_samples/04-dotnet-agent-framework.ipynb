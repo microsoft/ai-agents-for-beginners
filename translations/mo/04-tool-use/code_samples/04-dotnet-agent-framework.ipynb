{
 "cells": [
  {
   "cell_type": "markdown",
   "id": "c898efd9",
   "metadata": {},
   "source": [
    "# 🛠️ 使用 GitHub 模型進行高級工具操作 (.NET)\n",
    "\n",
    "## 📋 學習目標\n",
    "\n",
    "此筆記本展示了使用 Microsoft Agent Framework 和 GitHub 模型在 .NET 中進行企業級工具整合的模式。您將學習如何構建具有多種專業工具的高級代理，充分利用 C# 的強類型和 .NET 的企業功能。\n",
    "\n",
    "**您將掌握的高級工具功能：**\n",
    "- 🔧 **多工具架構**：構建具有多種專業能力的代理\n",
    "- 🎯 **類型安全的工具執行**：利用 C# 的編譯時驗證\n",
    "- 📊 **企業工具模式**：生產級工具設計和錯誤處理\n",
    "- 🔗 **工具組合**：結合工具以實現複雜的業務工作流程\n",
    "\n",
    "## 🎯 .NET 工具架構的優勢\n",
    "\n",
    "### 企業工具特性\n",
    "- **編譯時驗證**：強類型確保工具參數的正確性\n",
    "- **依賴注入**：IoC 容器整合以管理工具\n",
    "- **Async/Await 模式**：非阻塞工具執行並妥善管理資源\n",
    "- **結構化日誌**：內建日誌整合以監控工具執行\n",
    "\n",
    "### 生產級模式\n",
    "- **異常處理**：全面的錯誤管理，支持類型化異常\n",
    "- **資源管理**：正確的資源釋放模式和內存管理\n",
    "- **性能監控**：內建指標和性能計數器\n",
    "- **配置管理**：類型安全的配置並進行驗證\n",
    "\n",
    "## 🔧 技術架構\n",
    "\n",
    "### 核心 .NET 工具組件\n",
    "- **Microsoft.Extensions.AI**：統一的工具抽象層\n",
    "- **Microsoft.Agents.AI**：企業級工具編排\n",
    "- **GitHub 模型整合**：高性能 API 客戶端，支持連接池\n",
    "\n",
    "### 工具執行管道\n",
    "```csharp\n",
    "User Request → Agent Analysis → Tool Selection → Type Validation\n",
    "                 ↓               ↓              ↓\n",
    "         Parameter Binding → Tool Execution → Result Processing → Response\n",
    "```\n",
    "\n",
    "## 🛠️ 工具類別與模式\n",
    "\n",
    "### 1. **數據處理工具**\n",
    "- **輸入驗證**：使用數據註解進行強類型驗證\n",
    "- **轉換操作**：類型安全的數據轉換和格式化\n",
    "- **業務邏輯**：特定領域的計算和分析工具\n",
    "- **輸出格式化**：生成結構化的響應\n",
    "\n",
    "### 2. **整合工具**\n",
    "- **API 連接器**：使用 HttpClient 進行 RESTful 服務整合\n",
    "- **數據庫工具**：使用 Entity Framework 進行數據訪問\n",
    "- **文件操作**：安全的文件系統操作並進行驗證\n",
    "- **外部服務**：第三方服務整合模式\n",
    "\n",
    "### 3. **實用工具**\n",
    "- **文本處理**：字符串操作和格式化工具\n",
    "- **日期/時間操作**：支持文化差異的日期/時間計算\n",
    "- **數學工具**：精確計算和統計操作\n",
    "- **驗證工具**：業務規則驗證和數據核查\n",
    "\n",
    "## ⚙️ 前置條件與設置\n",
    "\n",
    "**開發環境：**\n",
    "- .NET 9.0 SDK 或更高版本\n",
    "- Visual Studio 2022 或帶有 C# 擴展的 VS Code\n",
    "- GitHub 模型 API 訪問權限\n",
    "\n",
    "**所需的 NuGet 套件：**\n",
    "```xml\n",
    "<PackageReference Include=\"Microsoft.Extensions.AI\" Version=\"9.9.0\" />\n",
    "<PackageReference Include=\"Microsoft.Extensions.AI.OpenAI\" Version=\"9.9.0-preview.1.25458.4\" />\n",
    "<PackageReference Include=\"DotNetEnv\" Version=\"3.1.1\" />\n",
    "```\n",
    "\n",
    "**環境配置 (.env 文件)：**\n",
    "```env\n",
    "GITHUB_TOKEN=your_github_personal_access_token\n",
    "GITHUB_ENDPOINT=https://models.inference.ai.azure.com\n",
    "GITHUB_MODEL_ID=gpt-4o-mini\n",
    "```\n",
    "\n",
    "準備好在 .NET 中構建具有強大類型安全工具功能的企業級代理了嗎？讓我們一起設計專業級解決方案吧！ 🏢⚡\n"
   ]
  },
  {
   "cell_type": "code",
   "execution_count": 1,
   "id": "2770ac5c",
   "metadata": {
    "language_info": {
     "name": "polyglot-notebook"
    },
    "polyglot_notebook": {
     "kernelName": "csharp"
    }
   },
   "outputs": [
    {
     "data": {
      "text/html": [
       "<div><div></div><div></div><div><strong>Installed Packages</strong><ul><li><span>Microsoft.Extensions.AI, 9.9.1</span></li></ul></div></div>"
      ]
     },
     "metadata": {},
     "output_type": "display_data"
    }
   ],
   "source": [
    "#r \"nuget: Microsoft.Extensions.AI, 9.9.1\""
   ]
  },
  {
   "cell_type": "code",
   "execution_count": null,
   "id": "984ff6cd",
   "metadata": {
    "language_info": {
     "name": "polyglot-notebook"
    },
    "polyglot_notebook": {
     "kernelName": "csharp"
    }
   },
   "outputs": [
    {
     "data": {
      "text/html": [
       "<div><div></div><div></div><div><strong>Installed Packages</strong><ul><li><span>Microsoft.Agents.AI.OpenAI, 1.0.0-preview.251001.2</span></li></ul></div></div>"
      ]
     },
     "metadata": {},
     "output_type": "display_data"
    }
   ],
   "source": [
    "#r \"nuget: Microsoft.Agents.AI.OpenAI, 1.0.0-preview.251001.3\""
   ]
  },
  {
   "cell_type": "code",
   "execution_count": null,
   "id": "0ab71360",
   "metadata": {
    "language_info": {
     "name": "polyglot-notebook"
    },
    "polyglot_notebook": {
     "kernelName": "csharp"
    }
   },
   "outputs": [
    {
     "data": {
      "text/html": [
       "<div><div></div><div></div><div><strong>Installed Packages</strong><ul><li><span>microsoft.agents.ai, 1.0.0-preview.251001.2</span></li></ul></div></div>"
      ]
     },
     "metadata": {},
     "output_type": "display_data"
    }
   ],
   "source": [
    "#r \"nuget: Microsoft.Agents.AI, 1.0.0-preview.251001.3\""
   ]
  },
  {
   "cell_type": "code",
   "execution_count": 4,
   "id": "4ab7b15d",
   "metadata": {
    "language_info": {
     "name": "polyglot-notebook"
    },
    "polyglot_notebook": {
     "kernelName": "csharp"
    }
   },
   "outputs": [],
   "source": [
    "// #r \"nuget: Microsoft.Extensions.AI.OpenAI, 9.9.0-preview.1.25458.4\""
   ]
  },
  {
   "cell_type": "code",
   "execution_count": 5,
   "id": "3fa8aa21",
   "metadata": {
    "language_info": {
     "name": "polyglot-notebook"
    },
    "polyglot_notebook": {
     "kernelName": "csharp"
    }
   },
   "outputs": [
    {
     "data": {
      "text/html": [
       "<div><div></div><div></div><div><strong>Installed Packages</strong><ul><li><span>DotNetEnv, 3.1.1</span></li></ul></div></div>"
      ]
     },
     "metadata": {},
     "output_type": "display_data"
    }
   ],
   "source": [
    "#r \"nuget: DotNetEnv, 3.1.1\""
   ]
  },
  {
   "cell_type": "code",
   "execution_count": 6,
   "id": "fc8ee8ea",
   "metadata": {
    "language_info": {
     "name": "polyglot-notebook"
    },
    "polyglot_notebook": {
     "kernelName": "csharp"
    }
   },
   "outputs": [],
   "source": [
    "using System;\n",
    "using System.ComponentModel;\n",
    "using System.ClientModel;\n",
    "\n",
    "using Microsoft.Extensions.AI;\n",
    "using Microsoft.Agents.AI;\n",
    "using OpenAI;"
   ]
  },
  {
   "cell_type": "code",
   "execution_count": 7,
   "id": "699b1c83",
   "metadata": {
    "language_info": {
     "name": "polyglot-notebook"
    },
    "polyglot_notebook": {
     "kernelName": "csharp"
    }
   },
   "outputs": [],
   "source": [
    " using DotNetEnv;"
   ]
  },
  {
   "cell_type": "code",
   "execution_count": 8,
   "id": "daa649a0",
   "metadata": {
    "language_info": {
     "name": "polyglot-notebook"
    },
    "polyglot_notebook": {
     "kernelName": "csharp"
    }
   },
   "outputs": [],
   "source": [
    "Env.Load(\"../../../.env\");"
   ]
  },
  {
   "cell_type": "code",
   "execution_count": 9,
   "id": "29661a90",
   "metadata": {
    "language_info": {
     "name": "polyglot-notebook"
    },
    "polyglot_notebook": {
     "kernelName": "csharp"
    }
   },
   "outputs": [],
   "source": [
    "[Description(\"Provides a random vacation destination.\")]\n",
    "static string GetRandomDestination()\n",
    "{\n",
    "    var destinations = new List<string>\n",
    "    {\n",
    "        \"Paris, France\",\n",
    "        \"Tokyo, Japan\",\n",
    "        \"New York City, USA\",\n",
    "        \"Sydney, Australia\",\n",
    "        \"Rome, Italy\",\n",
    "        \"Barcelona, Spain\",\n",
    "        \"Cape Town, South Africa\",\n",
    "        \"Rio de Janeiro, Brazil\",\n",
    "        \"Bangkok, Thailand\",\n",
    "        \"Vancouver, Canada\"\n",
    "    };\n",
    "\n",
    "    var random = new Random();\n",
    "    int index = random.Next(destinations.Count);\n",
    "    return destinations[index];\n",
    "}"
   ]
  },
  {
   "cell_type": "code",
   "execution_count": 10,
   "id": "d2ed1f8b",
   "metadata": {
    "language_info": {
     "name": "polyglot-notebook"
    },
    "polyglot_notebook": {
     "kernelName": "csharp"
    }
   },
   "outputs": [],
   "source": [
    "var github_endpoint = Environment.GetEnvironmentVariable(\"GITHUB_ENDPOINT\") ?? throw new InvalidOperationException(\"GITHUB_ENDPOINT is not set.\");\n",
    "var github_model_id = Environment.GetEnvironmentVariable(\"GITHUB_MODEL_ID\") ?? \"gpt-4o-mini\";\n",
    "var github_token = Environment.GetEnvironmentVariable(\"GITHUB_TOKEN\") ?? throw new InvalidOperationException(\"GITHUB_TOKEN is not set.\");"
   ]
  },
  {
   "cell_type": "code",
   "execution_count": 11,
   "id": "c36c73e1",
   "metadata": {
    "language_info": {
     "name": "polyglot-notebook"
    },
    "polyglot_notebook": {
     "kernelName": "csharp"
    }
   },
   "outputs": [],
   "source": [
    "var openAIOptions = new OpenAIClientOptions()\n",
    "{\n",
    "    Endpoint= new Uri(github_endpoint)\n",
    "};"
   ]
  },
  {
   "cell_type": "code",
   "execution_count": 12,
   "id": "6d94ff10",
   "metadata": {
    "language_info": {
     "name": "polyglot-notebook"
    },
    "polyglot_notebook": {
     "kernelName": "csharp"
    }
   },
   "outputs": [],
   "source": [
    "\n",
    "var openAIClient = new OpenAIClient(new ApiKeyCredential(github_token), openAIOptions);"
   ]
  },
  {
   "cell_type": "code",
   "execution_count": 13,
   "id": "fe32b57a",
   "metadata": {
    "language_info": {
     "name": "polyglot-notebook"
    },
    "polyglot_notebook": {
     "kernelName": "csharp"
    }
   },
   "outputs": [],
   "source": [
    "AIAgent agent = new OpenAIClient(new ApiKeyCredential(github_token), openAIOptions).GetChatClient(github_model_id).CreateAIAgent(\n",
    "    instructions:\"You are a helpful AI Agent that can help plan vacations for customers at random destinations\", tools: [AIFunctionFactory.Create((Func<string>)GetRandomDestination)]);"
   ]
  },
  {
   "cell_type": "code",
   "execution_count": 14,
   "metadata": {
    "language_info": {
     "name": "polyglot-notebook"
    },
    "polyglot_notebook": {
     "kernelName": "csharp"
    }
   },
   "outputs": [],
   "source": [
    "AgentThread thread = agent.GetNewThread();"
   ]
  },
  {
   "cell_type": "code",
   "execution_count": 15,
   "id": "5e455aff",
   "metadata": {
    "language_info": {
     "name": "polyglot-notebook"
    },
    "polyglot_notebook": {
     "kernelName": "csharp"
    }
   },
   "outputs": [
    {
     "name": "stdout",
     "output_type": "stream",
     "text": [
      "Your day trip will be in Paris, France! Here's a proposed itinerary for your day:\n",
      "\n",
      "### Morning\n",
      "- **Breakfast at a Local Café**: Start your day with a traditional French breakfast. Try a croissant and café au lait at a local café.\n",
      "- **Visit the Eiffel Tower**: Arrive early to beat the crowds. Enjoy the stunning views of the city from the top.\n",
      "\n",
      "### Late Morning\n",
      "- **Stroll Along the Seine**: Take a leisurely walk along the Seine River and enjoy the picturesque views.\n",
      "- **Visit Notre-Dame Cathedral**: Explore this iconic Gothic cathedral and its stunning architecture.\n",
      "\n",
      "### Lunch\n",
      "- **Lunch at a Bistro**: Treat yourself to a classic French lunch at a nearby bistro. Consider trying coq au vin or a delicious quiche.\n",
      "\n",
      "### Afternoon\n",
      "- **Explore the Louvre**: Spend your afternoon at the Louvre Museum. While you may not see everything, be sure to check out the Mona Lisa and other famous artworks.\n",
      "- **Walk Through the Tuileries Garden**: After the museum, relax in the beautiful Tuileries Garden.\n",
      "\n",
      "### Evening\n",
      "- **Dinner in Montmartre**: Head to Montmartre for dinner. Enjoy the atmosphere, and consider trying some French specialties at a local restaurant.\n",
      "- **Visit Sacré-Cœur Basilica**: After dinner, walk up to the Basilica for a stunning view of Paris at sunset.\n",
      "\n",
      "### Night\n",
      "- **Seine River Cruise**: End your day with a relaxing cruise on the Seine River, taking in the beautifully illuminated city sights.\n",
      "\n",
      "Make sure to check the opening hours of attractions and make reservations where necessary. Enjoy your day trip in Paris!\r\n"
     ]
    }
   ],
   "source": [
    "Console.WriteLine(await agent.RunAsync(\"Plan me a day trip\",thread));"
   ]
  },
  {
   "cell_type": "code",
   "execution_count": 16,
   "id": "592ae1bb",
   "metadata": {
    "language_info": {
     "name": "polyglot-notebook"
    },
    "polyglot_notebook": {
     "kernelName": "csharp"
    }
   },
   "outputs": [
    {
     "name": "stdout",
     "output_type": "stream",
     "text": [
      "Your new vacation destination is Rio de Janeiro, Brazil! Here's a proposed itinerary for your trip:\n",
      "\n",
      "### Day 1: Arrival in Rio\n",
      "- **Check-in**: Arrive and settle into your accommodation.\n",
      "- **Evening at Copacabana Beach**: Stroll along the famous Copacabana Beach. Enjoy the vibrant atmosphere and watch the sunset.\n",
      "\n",
      "### Day 2: Exploring the City\n",
      "- **Visit Christ the Redeemer**: Start your day with a visit to the iconic Christ the Redeemer statue. Take the train up to the top for breathtaking views.\n",
      "- **Explore Santa Teresa**: Wander through the charming streets of Santa Teresa, known for its colonial-style houses, art studios, and local shops.\n",
      "- **Lunch at a Local Restaurant**: Enjoy traditional Brazilian cuisine, such as feijoada (black bean stew).\n",
      "- **Afternoon at Sugarloaf Mountain**: Take a cable car ride to Sugarloaf Mountain for panoramic views of the city and coastline.\n",
      "\n",
      "### Day 3: Cultural Experience\n",
      "- **Visit the Selarón Steps**: Walk up the colorful Selarón Steps, an iconic mosaic staircase.\n",
      "- **Museum Visit**: Explore the Museum of Tomorrow (Museu do Amanhã) or the National Museum of Fine Arts.\n",
      "- **Lunch at a Churrascaria** (Brazilian BBQ): Treat yourself to a delicious barbecue lunch at a local churrascaria.\n",
      "- **Explore the Markets**: Check out a local market for souvenirs and to experience the local culture.\n",
      "\n",
      "### Day 4: Outdoor Adventures\n",
      "- **Hiking in Tijuca National Park**: Spend a day hiking in Tijuca National Park, one of the largest urban rainforests in the world. Enjoy the lush greenery and waterfalls.\n",
      "- **Dinner at a Beachfront Restaurant**: End your day with a delicious dinner at a beachfront restaurant with fresh seafood.\n",
      "\n",
      "### Day 5: Relaxation and Departure\n",
      "- **Relax at Ipanema Beach**: Spend your last morning relaxing at Ipanema Beach, soaking up the sun.\n",
      "- **Last-minute Shopping**: Do some last-minute shopping at local boutiques.\n",
      "- **Departure**: Head to the airport for your flight home.\n",
      "\n",
      "Make sure to enjoy the vibrant culture, beautiful landscapes, and amazing food that Rio de Janeiro has to offer!\r\n"
     ]
    }
   ],
   "source": [
    "Console.WriteLine(await agent.RunAsync(\"I don't like that destination. Plan me another vacation.\",thread));"
   ]
  },
  {
   "cell_type": "markdown",
   "metadata": {},
   "source": [
    "\n---\n\n**免責聲明**：  \n本文件已使用 AI 翻譯服務 [Co-op Translator](https://github.com/Azure/co-op-translator) 進行翻譯。儘管我們努力確保翻譯的準確性，但請注意，自動翻譯可能包含錯誤或不準確之處。原始文件的母語版本應被視為權威來源。對於關鍵資訊，建議使用專業人工翻譯。我們對因使用此翻譯而產生的任何誤解或錯誤解釋不承擔責任。\n"
   ]
  }
 ],
 "metadata": {
  "kernelspec": {
   "display_name": ".NET (C#)",
   "language": "C#",
   "name": ".net-csharp"
  },
  "language_info": {
   "name": "polyglot-notebook"
  },
  "polyglot_notebook": {
   "kernelInfo": {
    "defaultKernelName": "csharp",
    "items": [
     {
      "aliases": [],
      "name": "csharp"
     }
    ]
   }
  },
  "coopTranslator": {
   "original_hash": "4afb07fc78332203123745f403bbc314",
   "translation_date": "2025-10-02T14:32:07+00:00",
   "source_file": "04-tool-use/code_samples/04-dotnet-agent-framework.ipynb",
   "language_code": "mo"
  }
 },
 "nbformat": 4,
 "nbformat_minor": 5
}