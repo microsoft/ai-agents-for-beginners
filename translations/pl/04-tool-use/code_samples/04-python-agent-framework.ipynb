{
 "cells": [
  {
   "cell_type": "markdown",
   "id": "8744544f",
   "metadata": {},
   "source": [
    "# 🛠️ Zaawansowane użycie narzędzi z modelami GitHub (Python)\n",
    "\n",
    "## 📋 Cele nauki\n",
    "\n",
    "Ten notebook pokazuje zaawansowane wzorce integracji narzędzi z wykorzystaniem Microsoft Agent Framework i modeli GitHub. Nauczysz się tworzyć, zarządzać i orkiestracją wielu narzędzi, aby budować zaawansowane możliwości agentów.\n",
    "\n",
    "**Czego się nauczysz:**\n",
    "- 🔧 **Architektura wielonarzędziowa**: Tworzenie agentów z wieloma wyspecjalizowanymi narzędziami\n",
    "- 🎯 **Logika wyboru narzędzi**: Jak agenci wybierają odpowiednie narzędzie do każdego zadania\n",
    "- 📊 **Narzędzia do przetwarzania danych**: Tworzenie narzędzi obsługujących różne typy danych\n",
    "- 🔗 **Kompozycja narzędzi**: Łączenie narzędzi w celu realizacji złożonych przepływów pracy\n",
    "\n",
    "## 🎯 Kluczowe wzorce narzędziowe\n",
    "\n",
    "### Zasady projektowania narzędzi\n",
    "- **Jedna odpowiedzialność**: Każde narzędzie ma jasno określony, skoncentrowany cel\n",
    "- **Bezpieczeństwo typów**: Silne typowanie dla niezawodnego wykonywania narzędzi\n",
    "- **Obsługa błędów**: Łagodne awarie i wzorce odzyskiwania\n",
    "- **Kompozycyjność**: Narzędzia, które dobrze współpracują ze sobą\n",
    "\n",
    "### Zaawansowane funkcje narzędzi\n",
    "- **Świadomość kontekstu**: Narzędzia rozumiejące kontekst rozmowy\n",
    "- **Walidacja danych**: Sanitacja danych wejściowych i walidacja wyników\n",
    "- **Optymalizacja wydajności**: Wydajne wzorce wykonywania narzędzi\n",
    "- **Rozszerzalność**: Łatwe dodawanie nowych funkcji narzędziowych\n",
    "\n",
    "## 🔧 Architektura techniczna\n",
    "\n",
    "### Główne komponenty\n",
    "- **Microsoft Agent Framework**: Implementacja w Pythonie z zaawansowanym wsparciem narzędzi\n",
    "- **Integracja modeli GitHub**: Dostęp do wysokowydajnych modeli językowych\n",
    "- **System rejestracji narzędzi**: Zorganizowane zarządzanie możliwościami agentów\n",
    "- **Wzorce odzyskiwania błędów**: Solidna obsługa awarii podczas wykonywania narzędzi\n",
    "\n",
    "### Przepływ integracji narzędzi\n",
    "```python\n",
    "User Request → Agent Analysis → Tool Selection → Tool Execution → Response Synthesis\n",
    "```\n",
    "\n",
    "## 🛠️ Kategorie narzędzi przedstawione\n",
    "\n",
    "### 1. **Narzędzia generujące dane**\n",
    "- Generator losowych destynacji\n",
    "- Dostawca informacji o pogodzie  \n",
    "- Kalkulator kosztów podróży\n",
    "- Silnik rekomendacji aktywności\n",
    "\n",
    "### 2. **Narzędzia przetwarzające**\n",
    "- Formatowanie i walidacja tekstu\n",
    "- Narzędzia do transformacji danych\n",
    "- Funkcje analizy treści\n",
    "- Narzędzia ulepszające odpowiedzi\n",
    "\n",
    "### 3. **Narzędzia integracyjne**\n",
    "- Złącza API zewnętrznych\n",
    "- Operacje na systemie plików\n",
    "- Interfejsy zapytań do baz danych\n",
    "- Narzędzia do skrobania stron internetowych\n",
    "\n",
    "## ⚙️ Wymagania wstępne i konfiguracja\n",
    "\n",
    "\n",
    "**Wymagane zależności:**\n",
    "```bash\n",
    "\n",
    "pip install agent-framework-core -U\n",
    "```\n",
    "\n",
    "**Konfiguracja środowiska (plik .env):**\n",
    "```env\n",
    "GITHUB_TOKEN=your_github_personal_access_token\n",
    "GITHUB_ENDPOINT=https://models.inference.ai.azure.com\n",
    "GITHUB_MODEL_ID=gpt-4o-mini\n",
    "```\n",
    "\n",
    "**Opcjonalne API:**\n",
    "- Klucz API usługi pogodowej (dla narzędzi pogodowych)\n",
    "- Dostęp do API konwersji walut\n",
    "- Dane uwierzytelniające usługi informacji o podróżach\n",
    "\n",
    "## 🎨 Wzorce projektowe\n",
    "\n",
    "### Wzorzec fabryki narzędzi\n",
    "- Centralne tworzenie i konfiguracja narzędzi\n",
    "- Spójny projekt interfejsu narzędzi\n",
    "- Łatwa rejestracja i odkrywanie narzędzi\n",
    "\n",
    "### Wzorzec polecenia\n",
    "- Enkapsulacja logiki wykonywania narzędzi\n",
    "- Funkcjonalność cofania/powtarzania dla złożonych operacji\n",
    "- Logowanie audytowe użycia narzędzi\n",
    "\n",
    "### Wzorzec obserwatora\n",
    "- Monitorowanie wykonywania narzędzi\n",
    "- Zbieranie metryk wydajności\n",
    "- Raportowanie błędów i alerty\n",
    "\n",
    "## 🚀 Najlepsze praktyki\n",
    "\n",
    "- **Dokumentacja narzędzi**: Jasne opisy dla zrozumienia przez agenta\n",
    "- **Walidacja danych wejściowych**: Solidne sprawdzanie parametrów i sanitacja\n",
    "- **Formatowanie wyników**: Spójne, łatwe do analizy odpowiedzi narzędzi\n",
    "- **Komunikaty o błędach**: Pomocne informacje o błędach dla debugowania\n",
    "- **Wydajność**: Optymalizacja wykonywania narzędzi dla szybkości reakcji\n",
    "\n",
    "Gotowy, aby budować agentów z potężnymi możliwościami narzędziowymi? Stwórzmy coś niesamowitego! ⚡\n"
   ]
  },
  {
   "cell_type": "code",
   "execution_count": null,
   "id": "59c0feeb",
   "metadata": {},
   "outputs": [],
   "source": [
    "! pip install agent-framework-core -U"
   ]
  },
  {
   "cell_type": "code",
   "execution_count": null,
   "id": "c0df8a52",
   "metadata": {},
   "outputs": [],
   "source": [
    "# � Import core dependencies for Agent Framework and tool integration\n",
    "# This sets up the essential libraries for building intelligent agents with tool capabilities\n",
    "\n",
    "import asyncio\n",
    "import os\n",
    "import json\n",
    "\n",
    "from dotenv import load_dotenv  # For loading environment variables securely\n",
    "from random import randint\n",
    "\n",
    "# These are the core components for building tool-enabled agents\n",
    "from agent_framework import ChatAgent           # Main agent class\n",
    "from agent_framework.openai import OpenAIChatClient  # OpenAI-compatible client"
   ]
  },
  {
   "cell_type": "code",
   "execution_count": null,
   "id": "24c10eb0",
   "metadata": {},
   "outputs": [],
   "source": [
    "load_dotenv()"
   ]
  },
  {
   "cell_type": "code",
   "execution_count": null,
   "id": "151e0314",
   "metadata": {},
   "outputs": [],
   "source": [
    "# 🔑 Environment variables verification\n",
    "# Ensure all required GitHub Models credentials are properly configured\n",
    "print(\"GITHUB_ENDPOINT:\", os.environ.get(\"GITHUB_ENDPOINT\"))\n",
    "print(\"GITHUB_TOKEN:\", \"***\" if os.environ.get(\"GITHUB_TOKEN\") else \"Not set\")\n",
    "print(\"GITHUB_MODEL_ID:\", os.environ.get(\"GITHUB_MODEL_ID\"))"
   ]
  },
  {
   "cell_type": "code",
   "execution_count": null,
   "id": "a6141584",
   "metadata": {},
   "outputs": [],
   "source": [
    "# 🧪 Test GitHub Models connectivity\n",
    "openai_chat_client = OpenAIChatClient(base_url=os.environ.get(\"GITHUB_ENDPOINT\"), api_key=os.environ.get(\"GITHUB_TOKEN\"), model_id=os.environ.get(\"GITHUB_MODEL_ID\"))"
   ]
  },
  {
   "cell_type": "code",
   "execution_count": null,
   "id": "a6507f83",
   "metadata": {},
   "outputs": [],
   "source": [
    "# 🛠️ Define travel planning tools for agent integration\n",
    "# These functions provide specific capabilities that the agent can invoke dynamically\n",
    "\n",
    "def get_random_destination() -> str:\n",
    "    \"\"\"\n",
    "    🎲 Random destination generator tool\n",
    "    Returns a randomly selected travel destination from curated list\n",
    "    Useful when customers need inspiration for their next vacation\n",
    "    \"\"\"\n",
    "    destinations = [\n",
    "        \"Paris, France\",\n",
    "        \"Tokyo, Japan\", \n",
    "        \"New York City, USA\",\n",
    "        \"London, England\",\n",
    "        \"Rome, Italy\",\n",
    "        \"Sydney, Australia\",\n",
    "        \"Dubai, UAE\",\n",
    "        \"Barcelona, Spain\",\n",
    "        \"Bangkok, Thailand\",\n",
    "        \"Amsterdam, Netherlands\",\n",
    "        \"Istanbul, Turkey\",\n",
    "        \"Prague, Czech Republic\",\n",
    "        \"Santorini, Greece\",\n",
    "        \"Reykjavik, Iceland\",\n",
    "        \"Marrakech, Morocco\",\n",
    "        \"Cape Town, South Africa\",\n",
    "        \"Rio de Janeiro, Brazil\",\n",
    "        \"Bali, Indonesia\"\n",
    "    ]\n",
    "    # 🎯 Return random selection from the curated destination list\n",
    "    return destinations[randint(0, len(destinations) - 1)]"
   ]
  },
  {
   "cell_type": "code",
   "execution_count": null,
   "id": "5d4f0568",
   "metadata": {},
   "outputs": [],
   "source": [
    "# 🔗 Initialize GitHub Models chat client for agent communication\n",
    "# Creates the primary interface between the agent and the language model\n",
    "openai_chat_client = OpenAIChatClient(base_url=os.environ.get(\"GITHUB_ENDPOINT\"), api_key=os.environ.get(\"GITHUB_TOKEN\"), model_id=os.environ.get(\"GITHUB_MODEL_ID\"))"
   ]
  },
  {
   "cell_type": "code",
   "execution_count": null,
   "id": "751668c5",
   "metadata": {},
   "outputs": [],
   "source": [
    "# 🤖 Configure travel agent identity and behavioral instructions\n",
    "# Define the agent's personality, capabilities, and operational guidelines\n",
    "\n",
    "AGENT_NAME = \"TravelAgent\"\n",
    "\n",
    "AGENT_INSTRUCTIONS = \"\"\"You are a helpful AI Agent that can help plan vacations for customers at random destinations\n",
    "\"\"\""
   ]
  },
  {
   "cell_type": "code",
   "execution_count": null,
   "id": "be18ac4f",
   "metadata": {},
   "outputs": [],
   "source": [
    "agent = ChatAgent(\n",
    "        name = AGENT_NAME,\n",
    "        chat_client=openai_chat_client,\n",
    "        instructions=AGENT_INSTRUCTIONS,\n",
    "        tools=[get_random_destination]\n",
    ")"
   ]
  },
  {
   "cell_type": "code",
   "execution_count": null,
   "id": "772e9481",
   "metadata": {},
   "outputs": [],
   "source": [
    "thread = agent.get_new_thread()"
   ]
  },
  {
   "cell_type": "code",
   "execution_count": null,
   "id": "a731b547",
   "metadata": {},
   "outputs": [],
   "source": [
    "response1 = await agent.run(\"Plan me a day trip\",thread= thread)"
   ]
  },
  {
   "cell_type": "code",
   "execution_count": null,
   "id": "7d3fe00a",
   "metadata": {},
   "outputs": [],
   "source": [
    "\n",
    "last_message = response1.messages[-1]\n",
    "text_content = last_message.contents[0].text\n",
    "print(\"Travel plan:\")\n",
    "print(text_content)"
   ]
  },
  {
   "cell_type": "markdown",
   "metadata": {},
   "source": [
    "\n---\n\n**Zastrzeżenie**:  \nTen dokument został przetłumaczony za pomocą usługi tłumaczenia AI [Co-op Translator](https://github.com/Azure/co-op-translator). Chociaż dokładamy wszelkich starań, aby tłumaczenie było precyzyjne, prosimy pamiętać, że automatyczne tłumaczenia mogą zawierać błędy lub nieścisłości. Oryginalny dokument w jego języku źródłowym powinien być uznawany za wiarygodne źródło. W przypadku informacji krytycznych zaleca się skorzystanie z profesjonalnego tłumaczenia przez człowieka. Nie ponosimy odpowiedzialności za jakiekolwiek nieporozumienia lub błędne interpretacje wynikające z użycia tego tłumaczenia.\n"
   ]
  }
 ],
 "metadata": {
  "kernelspec": {
   "display_name": "agentenv",
   "language": "python",
   "name": "python3"
  },
  "language_info": {
   "codemirror_mode": {
    "name": "ipython",
    "version": 3
   },
   "file_extension": ".py",
   "mimetype": "text/x-python",
   "name": "python",
   "nbconvert_exporter": "python",
   "pygments_lexer": "ipython3",
   "version": "3.12.10"
  },
  "polyglot_notebook": {
   "kernelInfo": {
    "defaultKernelName": "csharp",
    "items": [
     {
      "aliases": [],
      "name": "csharp"
     }
    ]
   }
  },
  "coopTranslator": {
   "original_hash": "42966ddac53cebaf0ac1ce33b2ee7059",
   "translation_date": "2025-10-01T21:04:00+00:00",
   "source_file": "04-tool-use/code_samples/04-python-agent-framework.ipynb",
   "language_code": "pl"
  }
 },
 "nbformat": 4,
 "nbformat_minor": 5
}