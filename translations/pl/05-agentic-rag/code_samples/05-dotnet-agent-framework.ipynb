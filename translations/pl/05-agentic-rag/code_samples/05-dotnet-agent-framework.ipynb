{
 "cells": [
  {
   "cell_type": "markdown",
   "id": "44b5899e",
   "metadata": {},
   "source": [
    "# 🔍 Enterprise RAG z Azure AI Foundry (.NET)\n",
    "\n",
    "## 📋 Cele nauki\n",
    "\n",
    "Ten notebook pokazuje, jak budować systemy Retrieval-Augmented Generation (RAG) na poziomie korporacyjnym, korzystając z Microsoft Agent Framework w .NET z Azure AI Foundry. Nauczysz się tworzyć gotowe do produkcji agenty, które potrafią przeszukiwać dokumenty i dostarczać precyzyjne, kontekstowe odpowiedzi z zachowaniem bezpieczeństwa i skalowalności na poziomie korporacyjnym.\n",
    "\n",
    "**Funkcje Enterprise RAG, które zbudujesz:**\n",
    "- 📚 **Inteligencja dokumentów**: Zaawansowane przetwarzanie dokumentów z usługami Azure AI\n",
    "- 🔍 **Wyszukiwanie semantyczne**: Wydajne wyszukiwanie wektorowe z funkcjami korporacyjnymi\n",
    "- 🛡️ **Integracja bezpieczeństwa**: Dostęp oparty na rolach i wzorce ochrony danych\n",
    "- 🏢 **Skalowalna architektura**: Systemy RAG gotowe do produkcji z monitoringiem\n",
    "\n",
    "## 🎯 Architektura Enterprise RAG\n",
    "\n",
    "### Kluczowe komponenty korporacyjne\n",
    "- **Azure AI Foundry**: Zarządzana platforma AI dla przedsiębiorstw z bezpieczeństwem i zgodnością\n",
    "- **Agenty trwałe**: Agenty z zachowaniem historii rozmów i zarządzaniem kontekstem\n",
    "- **Zarządzanie magazynem wektorów**: Indeksowanie i wyszukiwanie dokumentów na poziomie korporacyjnym\n",
    "- **Integracja tożsamości**: Uwierzytelnianie Azure AD i kontrola dostępu oparta na rolach\n",
    "\n",
    "### Korzyści z .NET dla przedsiębiorstw\n",
    "- **Bezpieczeństwo typów**: Walidacja operacji RAG i struktur danych na etapie kompilacji\n",
    "- **Wydajność asynchroniczna**: Nieblokujące przetwarzanie dokumentów i operacje wyszukiwania\n",
    "- **Zarządzanie pamięcią**: Efektywne wykorzystanie zasobów dla dużych kolekcji dokumentów\n",
    "- **Wzorce integracji**: Natywna integracja z usługami Azure z wykorzystaniem wstrzykiwania zależności\n",
    "\n",
    "## 🏗️ Architektura techniczna\n",
    "\n",
    "### Pipeline Enterprise RAG\n",
    "```csharp\n",
    "Document Upload → Security Validation → Vector Processing → Index Creation\n",
    "                      ↓                    ↓                  ↓\n",
    "User Query → Authentication → Semantic Search → Context Ranking → AI Response\n",
    "```\n",
    "\n",
    "### Kluczowe komponenty .NET\n",
    "- **Azure.AI.Agents.Persistent**: Zarządzanie agentami korporacyjnymi z zachowaniem stanu\n",
    "- **Azure.Identity**: Zintegrowane uwierzytelnianie dla bezpiecznego dostępu do usług Azure\n",
    "- **Microsoft.Agents.AI.AzureAI**: Implementacja frameworku agentów zoptymalizowana dla Azure\n",
    "- **System.Linq.Async**: Wydajne operacje LINQ asynchroniczne\n",
    "\n",
    "## 🔧 Funkcje i korzyści dla przedsiębiorstw\n",
    "\n",
    "### Bezpieczeństwo i zgodność\n",
    "- **Integracja Azure AD**: Zarządzanie tożsamością i uwierzytelnianie na poziomie korporacyjnym\n",
    "- **Dostęp oparty na rolach**: Precyzyjne uprawnienia do dostępu do dokumentów i operacji\n",
    "- **Ochrona danych**: Szyfrowanie danych w spoczynku i w tranzycie dla dokumentów wrażliwych\n",
    "- **Rejestrowanie audytowe**: Kompleksowe śledzenie aktywności dla wymagań zgodności\n",
    "\n",
    "### Wydajność i skalowalność\n",
    "- **Pooling połączeń**: Efektywne zarządzanie połączeniami z usługami Azure\n",
    "- **Przetwarzanie asynchroniczne**: Operacje nieblokujące dla scenariuszy o dużej przepustowości\n",
    "- **Strategie buforowania**: Inteligentne buforowanie dla często używanych dokumentów\n",
    "- **Równoważenie obciążenia**: Rozproszone przetwarzanie dla wdrożeń na dużą skalę\n",
    "\n",
    "### Zarządzanie i monitoring\n",
    "- **Kontrole zdrowia**: Wbudowany monitoring komponentów systemu RAG\n",
    "- **Metryki wydajności**: Szczegółowa analiza jakości wyszukiwania i czasów odpowiedzi\n",
    "- **Obsługa błędów**: Kompleksowe zarządzanie wyjątkami z politykami ponawiania\n",
    "- **Zarządzanie konfiguracją**: Ustawienia specyficzne dla środowiska z walidacją\n",
    "\n",
    "## ⚙️ Wymagania wstępne i konfiguracja\n",
    "\n",
    "**Środowisko deweloperskie:**\n",
    "- .NET 9.0 SDK lub wyższy\n",
    "- Visual Studio 2022 lub VS Code z rozszerzeniem C#\n",
    "- Subskrypcja Azure z dostępem do AI Foundry\n",
    "\n",
    "**Wymagane pakiety NuGet:**\n",
    "```xml\n",
    "<PackageReference Include=\"Microsoft.Extensions.AI\" Version=\"9.9.0\" />\n",
    "<PackageReference Include=\"Azure.AI.Agents.Persistent\" Version=\"1.2.0-beta.5\" />\n",
    "<PackageReference Include=\"Azure.Identity\" Version=\"1.15.0\" />\n",
    "<PackageReference Include=\"System.Linq.Async\" Version=\"6.0.3\" />\n",
    "<PackageReference Include=\"DotNetEnv\" Version=\"3.1.1\" />\n",
    "```\n",
    "\n",
    "**Konfiguracja uwierzytelniania Azure:**\n",
    "```bash\n",
    "# Install Azure CLI and authenticate\n",
    "az login\n",
    "az account set --subscription \"your-subscription-id\"\n",
    "```\n",
    "\n",
    "**Konfiguracja środowiska (.env file):**\n",
    "```env\n",
    "# Azure AI Foundry configuration (automatically handled via Azure CLI)\n",
    "# Ensure you're authenticated to the correct Azure subscription\n",
    "```\n",
    "\n",
    "## 📊 Wzorce Enterprise RAG\n",
    "\n",
    "### Wzorce zarządzania dokumentami\n",
    "- **Masowe przesyłanie**: Wydajne przetwarzanie dużych kolekcji dokumentów\n",
    "- **Aktualizacje przyrostowe**: Dodawanie i modyfikacja dokumentów w czasie rzeczywistym\n",
    "- **Kontrola wersji**: Wersjonowanie dokumentów i śledzenie zmian\n",
    "- **Zarządzanie metadanymi**: Bogate atrybuty dokumentów i taksonomia\n",
    "\n",
    "### Wzorce wyszukiwania i pobierania\n",
    "- **Wyszukiwanie hybrydowe**: Łączenie wyszukiwania semantycznego i słownego dla optymalnych wyników\n",
    "- **Wyszukiwanie fasetowe**: Wielowymiarowe filtrowanie i kategoryzacja\n",
    "- **Dostrajanie trafności**: Niestandardowe algorytmy scoringowe dla specyficznych potrzeb domeny\n",
    "- **Ranking wyników**: Zaawansowane rankingi z integracją logiki biznesowej\n",
    "\n",
    "### Wzorce bezpieczeństwa\n",
    "- **Bezpieczeństwo na poziomie dokumentu**: Precyzyjna kontrola dostępu dla każdego dokumentu\n",
    "- **Klasyfikacja danych**: Automatyczne etykietowanie wrażliwości i ochrona\n",
    "- **Ścieżki audytowe**: Kompleksowe rejestrowanie wszystkich operacji RAG\n",
    "- **Ochrona prywatności**: Wykrywanie i redakcja danych osobowych (PII)\n",
    "\n",
    "## 🔒 Funkcje bezpieczeństwa korporacyjnego\n",
    "\n",
    "### Uwierzytelnianie i autoryzacja\n",
    "```csharp\n",
    "// Azure AD integrated authentication\n",
    "var credential = new AzureCliCredential();\n",
    "var agentsClient = new PersistentAgentsClient(endpoint, credential);\n",
    "\n",
    "// Role-based access validation\n",
    "if (!await ValidateUserPermissions(user, documentId))\n",
    "{\n",
    "    throw new UnauthorizedAccessException(\"Insufficient permissions\");\n",
    "}\n",
    "```\n",
    "\n",
    "### Ochrona danych\n",
    "- **Szyfrowanie**: Szyfrowanie end-to-end dla dokumentów i indeksów wyszukiwania\n",
    "- **Kontrole dostępu**: Integracja z Azure AD dla uprawnień użytkowników i grup\n",
    "- **Rezydencja danych**: Kontrola lokalizacji danych dla zgodności\n",
    "- **Kopia zapasowa i odzyskiwanie**: Automatyczne kopie zapasowe i procedury odzyskiwania danych\n",
    "\n",
    "## 📈 Optymalizacja wydajności\n",
    "\n",
    "### Wzorce przetwarzania asynchronicznego\n",
    "```csharp\n",
    "// Efficient async document processing\n",
    "await foreach (var document in documentStream.AsAsyncEnumerable())\n",
    "{\n",
    "    await ProcessDocumentAsync(document, cancellationToken);\n",
    "}\n",
    "```\n",
    "\n",
    "### Zarządzanie pamięcią\n",
    "- **Przetwarzanie strumieniowe**: Obsługa dużych dokumentów bez problemów z pamięcią\n",
    "- **Pooling zasobów**: Efektywne ponowne wykorzystanie kosztownych zasobów\n",
    "- **Zbieranie śmieci**: Optymalizacja wzorców alokacji pamięci\n",
    "- **Zarządzanie połączeniami**: Prawidłowy cykl życia połączeń z usługami Azure\n",
    "\n",
    "### Strategie buforowania\n",
    "- **Buforowanie zapytań**: Buforowanie często wykonywanych wyszukiwań\n",
    "- **Buforowanie dokumentów**: Buforowanie w pamięci dla \"gorących\" dokumentów\n",
    "- **Buforowanie indeksów**: Optymalizacja buforowania indeksów wektorowych\n",
    "- **Buforowanie wyników**: Inteligentne buforowanie wygenerowanych odpowiedzi\n",
    "\n",
    "## 📊 Przypadki użycia w przedsiębiorstwie\n",
    "\n",
    "### Zarządzanie wiedzą\n",
    "- **Wiki korporacyjne**: Inteligentne wyszukiwanie w bazach wiedzy firmy\n",
    "- **Polityki i procedury**: Automatyczne wskazówki dotyczące zgodności i procedur\n",
    "- **Materiały szkoleniowe**: Inteligentna pomoc w nauce i rozwoju\n",
    "- **Bazy danych badawczych**: Systemy analizy prac akademickich i badawczych\n",
    "\n",
    "### Obsługa klienta\n",
    "- **Baza wiedzy wsparcia**: Automatyczne odpowiedzi na zapytania klientów\n",
    "- **Dokumentacja produktów**: Inteligentne wyszukiwanie informacji o produktach\n",
    "- **Przewodniki rozwiązywania problemów**: Kontekstowa pomoc w rozwiązywaniu problemów\n",
    "- **Systemy FAQ**: Dynamiczne generowanie FAQ z kolekcji dokumentów\n",
    "\n",
    "### Zgodność regulacyjna\n",
    "- **Analiza dokumentów prawnych**: Inteligencja kontraktów i dokumentów prawnych\n",
    "- **Monitorowanie zgodności**: Automatyczne sprawdzanie zgodności regulacyjnej\n",
    "- **Ocena ryzyka**: Analiza ryzyka na podstawie dokumentów i raportowanie\n",
    "- **Wsparcie audytowe**: Inteligentne wyszukiwanie dokumentów na potrzeby audytów\n",
    "\n",
    "## 🚀 Wdrożenie produkcyjne\n",
    "\n",
    "### Monitoring i obserwowalność\n",
    "- **Application Insights**: Szczegółowa telemetria i monitoring wydajności\n",
    "- **Metryki niestandardowe**: Śledzenie i alerty dla specyficznych KPI biznesowych\n",
    "- **Śledzenie rozproszone**: Śledzenie żądań end-to-end w różnych usługach\n",
    "- **Pulpity zdrowia**: Wizualizacja zdrowia systemu i wydajności w czasie rzeczywistym\n",
    "\n",
    "### Skalowalność i niezawodność\n",
    "- **Auto-skalowanie**: Automatyczne skalowanie na podstawie obciążenia i metryk wydajności\n",
    "- **Wysoka dostępność**: Wdrożenie wieloregionowe z funkcjami przełączania awaryjnego\n",
    "- **Testy obciążeniowe**: Walidacja wydajności pod obciążeniem korporacyjnym\n",
    "- **Odzyskiwanie po awarii**: Automatyczne procedury kopii zapasowych i odzyskiwania\n",
    "\n",
    "Gotowy, aby zbudować systemy RAG na poziomie korporacyjnym, które mogą obsługiwać wrażliwe dokumenty na dużą skalę? Zaprojektujmy inteligentne systemy wiedzy dla przedsiębiorstw! 🏢📖✨\n"
   ]
  },
  {
   "cell_type": "code",
   "execution_count": 1,
   "metadata": {
    "language_info": {
     "name": "polyglot-notebook"
    },
    "polyglot_notebook": {
     "kernelName": "csharp"
    }
   },
   "outputs": [
    {
     "data": {
      "text/html": [
       "<div><div></div><div></div><div><strong>Installed Packages</strong><ul><li><span>Microsoft.Extensions.AI, 9.9.1</span></li></ul></div></div>"
      ]
     },
     "metadata": {},
     "output_type": "display_data"
    }
   ],
   "source": [
    "#r \"nuget: Microsoft.Extensions.AI, 9.9.1\""
   ]
  },
  {
   "cell_type": "code",
   "execution_count": 2,
   "id": "4ec1f0d1",
   "metadata": {
    "language_info": {
     "name": "polyglot-notebook"
    },
    "polyglot_notebook": {
     "kernelName": "csharp"
    }
   },
   "outputs": [
    {
     "data": {
      "text/html": [
       "<div><div></div><div></div><div><strong>Installed Packages</strong><ul><li><span>Azure.AI.Agents.Persistent, 1.2.0-beta.5</span></li><li><span>Azure.Identity, 1.15.0</span></li><li><span>System.Linq.Async, 6.0.3</span></li></ul></div></div>"
      ]
     },
     "metadata": {},
     "output_type": "display_data"
    }
   ],
   "source": [
    "#r \"nuget: Azure.AI.Agents.Persistent, 1.2.0-beta.5\"\n",
    "#r \"nuget: Azure.Identity, 1.15.0\"\n",
    "#r \"nuget: System.Linq.Async, 6.0.3\""
   ]
  },
  {
   "cell_type": "code",
   "execution_count": 3,
   "id": "2363ae07",
   "metadata": {
    "language_info": {
     "name": "polyglot-notebook"
    },
    "polyglot_notebook": {
     "kernelName": "csharp"
    }
   },
   "outputs": [],
   "source": []
  },
  {
   "cell_type": "code",
   "execution_count": null,
   "id": "d10cec9d",
   "metadata": {
    "language_info": {
     "name": "polyglot-notebook"
    },
    "polyglot_notebook": {
     "kernelName": "csharp"
    }
   },
   "outputs": [
    {
     "data": {
      "text/html": [
       "<div><div></div><div></div><div><strong>Installed Packages</strong><ul><li><span>Microsoft.Agents.AI.AzureAI, 1.0.0-preview.251001.2</span></li></ul></div></div>"
      ]
     },
     "metadata": {},
     "output_type": "display_data"
    }
   ],
   "source": [
    "#r \"nuget: Microsoft.Agents.AI.AzureAI, 1.0.0-preview.251001.3\""
   ]
  },
  {
   "cell_type": "code",
   "execution_count": null,
   "id": "78199d1c",
   "metadata": {
    "language_info": {
     "name": "polyglot-notebook"
    },
    "polyglot_notebook": {
     "kernelName": "csharp"
    }
   },
   "outputs": [
    {
     "data": {
      "text/html": [
       "<div><div></div><div></div><div><strong>Installed Packages</strong><ul><li><span>microsoft.agents.ai, 1.0.0-preview.251001.2</span></li></ul></div></div>"
      ]
     },
     "metadata": {},
     "output_type": "display_data"
    }
   ],
   "source": [
    "#r \"nuget: Microsoft.Agents.AI, 1.0.0-preview.251001.3\""
   ]
  },
  {
   "cell_type": "code",
   "execution_count": 6,
   "id": "7de4684a",
   "metadata": {
    "language_info": {
     "name": "polyglot-notebook"
    },
    "polyglot_notebook": {
     "kernelName": "csharp"
    }
   },
   "outputs": [
    {
     "data": {
      "text/html": [
       "<div><div></div><div></div><div><strong>Installed Packages</strong><ul><li><span>DotNetEnv, 3.1.1</span></li></ul></div></div>"
      ]
     },
     "metadata": {},
     "output_type": "display_data"
    }
   ],
   "source": [
    "#r \"nuget: DotNetEnv, 3.1.1\""
   ]
  },
  {
   "cell_type": "code",
   "execution_count": 7,
   "id": "251efd31",
   "metadata": {
    "language_info": {
     "name": "polyglot-notebook"
    },
    "polyglot_notebook": {
     "kernelName": "csharp"
    }
   },
   "outputs": [],
   "source": [
    "using System;\n",
    "using System.Linq;\n",
    "using Azure.AI.Agents.Persistent;\n",
    "using Azure.Identity;\n",
    "using Microsoft.Agents.AI;"
   ]
  },
  {
   "cell_type": "code",
   "execution_count": 8,
   "id": "a2e342f1",
   "metadata": {
    "language_info": {
     "name": "polyglot-notebook"
    },
    "polyglot_notebook": {
     "kernelName": "csharp"
    }
   },
   "outputs": [],
   "source": [
    " using DotNetEnv;"
   ]
  },
  {
   "cell_type": "code",
   "execution_count": 9,
   "id": "a7a01653",
   "metadata": {
    "language_info": {
     "name": "polyglot-notebook"
    },
    "polyglot_notebook": {
     "kernelName": "csharp"
    }
   },
   "outputs": [],
   "source": [
    "Env.Load(\"../../../.env\");"
   ]
  },
  {
   "cell_type": "code",
   "execution_count": 10,
   "id": "a42735d5",
   "metadata": {
    "language_info": {
     "name": "polyglot-notebook"
    },
    "polyglot_notebook": {
     "kernelName": "csharp"
    }
   },
   "outputs": [],
   "source": [
    "var azure_foundry_endpoint = Environment.GetEnvironmentVariable(\"AZURE_AI_PROJECT_ENDPOINT\") ?? throw new InvalidOperationException(\"AZURE_AI_PROJECT_ENDPOINT is not set.\");\n",
    "var azure_foundry_model_id = Environment.GetEnvironmentVariable(\"AZURE_AI_MODEL_DEPLOYMENT_NAME\") ?? \"gpt-4.1-mini\";"
   ]
  },
  {
   "cell_type": "code",
   "execution_count": 11,
   "id": "e29bdb58",
   "metadata": {
    "language_info": {
     "name": "polyglot-notebook"
    },
    "polyglot_notebook": {
     "kernelName": "csharp"
    }
   },
   "outputs": [],
   "source": [
    "string pdfPath = \"./document.md\";"
   ]
  },
  {
   "cell_type": "code",
   "execution_count": 12,
   "id": "7351e12d",
   "metadata": {
    "language_info": {
     "name": "polyglot-notebook"
    },
    "polyglot_notebook": {
     "kernelName": "csharp"
    }
   },
   "outputs": [],
   "source": [
    "using System.IO;\n",
    "\n",
    "async Task<Stream> OpenImageStreamAsync(string path)\n",
    "{\n",
    "\treturn await Task.Run(() => File.OpenRead(path));\n",
    "}\n",
    "\n",
    "var pdfStream = await OpenImageStreamAsync(pdfPath);"
   ]
  },
  {
   "cell_type": "code",
   "execution_count": 13,
   "id": "0b6bf484",
   "metadata": {
    "language_info": {
     "name": "polyglot-notebook"
    },
    "polyglot_notebook": {
     "kernelName": "csharp"
    }
   },
   "outputs": [],
   "source": [
    "var persistentAgentsClient = new PersistentAgentsClient(azure_foundry_endpoint, new AzureCliCredential());"
   ]
  },
  {
   "cell_type": "code",
   "execution_count": 14,
   "id": "81e0dddc",
   "metadata": {
    "language_info": {
     "name": "polyglot-notebook"
    },
    "polyglot_notebook": {
     "kernelName": "csharp"
    }
   },
   "outputs": [],
   "source": [
    "PersistentAgentFileInfo fileInfo = await persistentAgentsClient.Files.UploadFileAsync(pdfStream, PersistentAgentFilePurpose.Agents, \"demo.md\");"
   ]
  },
  {
   "cell_type": "code",
   "execution_count": 15,
   "id": "f0c75d80",
   "metadata": {
    "language_info": {
     "name": "polyglot-notebook"
    },
    "polyglot_notebook": {
     "kernelName": "csharp"
    }
   },
   "outputs": [],
   "source": [
    "PersistentAgentsVectorStore fileStore =\n",
    "            await persistentAgentsClient.VectorStores.CreateVectorStoreAsync(\n",
    "                [fileInfo.Id],\n",
    "                metadata: new Dictionary<string, string>() { { \"agentkey\", bool.TrueString } });"
   ]
  },
  {
   "cell_type": "code",
   "execution_count": 16,
   "id": "c77986c5",
   "metadata": {
    "language_info": {
     "name": "polyglot-notebook"
    },
    "polyglot_notebook": {
     "kernelName": "csharp"
    }
   },
   "outputs": [],
   "source": [
    "PersistentAgent agentModel = await persistentAgentsClient.Administration.CreateAgentAsync(\n",
    "            azure_foundry_model_id,\n",
    "            name: \"DotNetRAGAgent\",\n",
    "            tools: [new FileSearchToolDefinition()],\n",
    "            instructions: \"\"\"\n",
    "                You are an AI assistant designed to answer user questions using only the information retrieved from the provided document(s).\n",
    "\n",
    "                - If a user's question cannot be answered using the retrieved context, **you must clearly respond**: \n",
    "                \"I'm sorry, but the uploaded document does not contain the necessary information to answer that question.\"\n",
    "                - Do not answer from general knowledge or reasoning. Do not make assumptions or generate hypothetical explanations.\n",
    "                - Do not provide definitions, tutorials, or commentary that is not explicitly grounded in the content of the uploaded file(s).\n",
    "                - If a user asks a question like \"What is a Neural Network?\", and this is not discussed in the uploaded document, respond as instructed above.\n",
    "                - For questions that do have relevant content in the document (e.g., Contoso's travel insurance coverage), respond accurately, and cite the document explicitly.\n",
    "\n",
    "                You must behave as if you have no external knowledge beyond what is retrieved from the uploaded document.\n",
    "                \"\"\",\n",
    "            toolResources: new()\n",
    "            {\n",
    "                FileSearch = new()\n",
    "                {\n",
    "                    VectorStoreIds = { fileStore.Id },\n",
    "                }\n",
    "            },\n",
    "            metadata: new Dictionary<string, string>() { { \"agentkey\", bool.TrueString } });"
   ]
  },
  {
   "cell_type": "code",
   "execution_count": 17,
   "id": "282326cf",
   "metadata": {
    "language_info": {
     "name": "polyglot-notebook"
    },
    "polyglot_notebook": {
     "kernelName": "csharp"
    }
   },
   "outputs": [],
   "source": [
    "AIAgent agent = await persistentAgentsClient.GetAIAgentAsync(agentModel.Id);"
   ]
  },
  {
   "cell_type": "code",
   "execution_count": 18,
   "id": "2067d313",
   "metadata": {
    "language_info": {
     "name": "polyglot-notebook"
    },
    "polyglot_notebook": {
     "kernelName": "csharp"
    }
   },
   "outputs": [],
   "source": [
    "AgentThread thread = agent.GetNewThread();"
   ]
  },
  {
   "cell_type": "code",
   "execution_count": 19,
   "id": "454c4230",
   "metadata": {
    "language_info": {
     "name": "polyglot-notebook"
    },
    "polyglot_notebook": {
     "kernelName": "csharp"
    }
   },
   "outputs": [
    {
     "name": "stdout",
     "output_type": "stream",
     "text": [
      "Contoso's travel insurance coverage includes protection for medical emergencies, trip cancellations, and lost baggage. This ensures that travelers are supported in case of health-related issues during their trip, unforeseen cancellations, and the loss of their belongings while traveling【4:0†demo.md】.\r\n"
     ]
    }
   ],
   "source": [
    "Console.WriteLine(await agent.RunAsync(\"Can you explain Contoso's travel insurance coverage?\", thread));"
   ]
  },
  {
   "cell_type": "markdown",
   "metadata": {},
   "source": [
    "\n---\n\n**Zastrzeżenie**:  \nTen dokument został przetłumaczony za pomocą usługi tłumaczenia AI [Co-op Translator](https://github.com/Azure/co-op-translator). Chociaż staramy się zapewnić dokładność, prosimy pamiętać, że automatyczne tłumaczenia mogą zawierać błędy lub nieścisłości. Oryginalny dokument w jego rodzimym języku powinien być uznawany za autorytatywne źródło. W przypadku informacji krytycznych zaleca się skorzystanie z profesjonalnego tłumaczenia przez człowieka. Nie ponosimy odpowiedzialności za jakiekolwiek nieporozumienia lub błędne interpretacje wynikające z użycia tego tłumaczenia.\n"
   ]
  }
 ],
 "metadata": {
  "kernelspec": {
   "display_name": ".NET (C#)",
   "language": "C#",
   "name": ".net-csharp"
  },
  "language_info": {
   "name": "polyglot-notebook"
  },
  "polyglot_notebook": {
   "kernelInfo": {
    "defaultKernelName": "csharp",
    "items": [
     {
      "aliases": [],
      "name": "csharp"
     }
    ]
   }
  },
  "coopTranslator": {
   "original_hash": "e4584fa31638009dc6fb665275de8fc2",
   "translation_date": "2025-10-01T20:42:29+00:00",
   "source_file": "05-agentic-rag/code_samples/05-dotnet-agent-framework.ipynb",
   "language_code": "pl"
  }
 },
 "nbformat": 4,
 "nbformat_minor": 5
}