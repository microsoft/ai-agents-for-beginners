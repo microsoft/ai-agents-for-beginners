{
 "cells": [
  {
   "cell_type": "markdown",
   "id": "d6058fa4",
   "metadata": {},
   "source": [
    "# 🎨 Wzorce projektowe agentów z modelami GitHub (.NET)\n",
    "\n",
    "## 📋 Cele nauki\n",
    "\n",
    "Ten notebook przedstawia wzorce projektowe klasy korporacyjnej do budowy inteligentnych agentów przy użyciu Microsoft Agent Framework w .NET z integracją modeli GitHub. Nauczysz się profesjonalnych wzorców i podejść architektonicznych, które sprawiają, że agenci są gotowi do produkcji, łatwi w utrzymaniu i skalowalni.\n",
    "\n",
    "**Wzorce projektowe klasy korporacyjnej:**\n",
    "- 🏭 **Wzorzec fabryki**: Standaryzowane tworzenie agentów z wykorzystaniem wstrzykiwania zależności\n",
    "- 🔧 **Wzorzec budowniczego**: Płynna konfiguracja i ustawienia agentów\n",
    "- 🧵 **Wzorce bezpieczne dla wątków**: Zarządzanie równoczesnymi rozmowami\n",
    "- 📋 **Wzorzec repozytorium**: Zorganizowane zarządzanie narzędziami i możliwościami\n",
    "\n",
    "## 🎯 Korzyści architektoniczne specyficzne dla .NET\n",
    "\n",
    "### Funkcje korporacyjne\n",
    "- **Silne typowanie**: Walidacja w czasie kompilacji i wsparcie IntelliSense\n",
    "- **Wstrzykiwanie zależności**: Wbudowana integracja kontenera DI\n",
    "- **Zarządzanie konfiguracją**: Wzorce IConfiguration i Options\n",
    "- **Async/Await**: Pierwszorzędne wsparcie dla programowania asynchronicznego\n",
    "\n",
    "### Wzorce gotowe do produkcji\n",
    "- **Integracja logowania**: ILogger i wsparcie dla strukturalnego logowania\n",
    "- **Kontrole zdrowia**: Wbudowane monitorowanie i diagnostyka\n",
    "- **Walidacja konfiguracji**: Silne typowanie z adnotacjami danych\n",
    "- **Obsługa błędów**: Strukturalne zarządzanie wyjątkami\n",
    "\n",
    "## 🔧 Architektura techniczna\n",
    "\n",
    "### Kluczowe komponenty .NET\n",
    "- **Microsoft.Extensions.AI**: Ujednolicone abstrakcje usług AI\n",
    "- **Microsoft.Agents.AI**: Framework orkiestracji agentów klasy korporacyjnej\n",
    "- **Integracja modeli GitHub**: Wzorce klienta API o wysokiej wydajności\n",
    "- **System konfiguracji**: Integracja appsettings.json i środowiska\n",
    "\n",
    "### Implementacja wzorców projektowych\n",
    "```csharp\n",
    "IServiceCollection → Agent Builder → Configuration → Tool Registry → AI Agent\n",
    "```\n",
    "\n",
    "## 🏗️ Przedstawione wzorce korporacyjne\n",
    "\n",
    "### 1. **Wzorce kreacyjne**\n",
    "- **Fabryka agentów**: Centralne tworzenie agentów z jednolitą konfiguracją\n",
    "- **Wzorzec budowniczego**: Płynne API do złożonej konfiguracji agentów\n",
    "- **Wzorzec singletona**: Zarządzanie zasobami i konfiguracją\n",
    "- **Wstrzykiwanie zależności**: Luźne powiązania i możliwość testowania\n",
    "\n",
    "### 2. **Wzorce behawioralne**\n",
    "- **Wzorzec strategii**: Wymienne strategie wykonywania narzędzi\n",
    "- **Wzorzec polecenia**: Enkapsulacja operacji agenta z funkcjami cofnij/ponów\n",
    "- **Wzorzec obserwatora**: Zarządzanie cyklem życia agenta oparte na zdarzeniach\n",
    "- **Wzorzec metody szablonowej**: Standaryzowane przepływy wykonywania agenta\n",
    "\n",
    "### 3. **Wzorce strukturalne**\n",
    "- **Wzorzec adaptera**: Warstwa integracji API modeli GitHub\n",
    "- **Wzorzec dekoratora**: Rozszerzenie możliwości agenta\n",
    "- **Wzorzec fasady**: Uproszczone interfejsy interakcji z agentem\n",
    "- **Wzorzec proxy**: Lazy loading i caching dla wydajności\n",
    "\n",
    "## ⚙️ Wymagania wstępne i konfiguracja\n",
    "\n",
    "**Środowisko deweloperskie:**\n",
    "- .NET 9.0 SDK lub wyższy\n",
    "- Visual Studio 2022 lub VS Code z rozszerzeniem C#\n",
    "- Dostęp do API modeli GitHub\n",
    "\n",
    "**Zależności NuGet:**\n",
    "```xml\n",
    "<PackageReference Include=\"Microsoft.Extensions.AI\" Version=\"9.9.0\" />\n",
    "<PackageReference Include=\"Microsoft.Extensions.AI.OpenAI\" Version=\"9.9.0-preview.1.25458.4\" />\n",
    "<PackageReference Include=\"DotNetEnv\" Version=\"3.1.1\" />\n",
    "```\n",
    "\n",
    "**Konfiguracja (.env file):**\n",
    "```env\n",
    "GITHUB_TOKEN=your_github_personal_access_token\n",
    "GITHUB_ENDPOINT=https://models.inference.ai.azure.com\n",
    "GITHUB_MODEL_ID=gpt-4o-mini\n",
    "```\n",
    "\n",
    "## 📚 Zasady projektowania w .NET\n",
    "\n",
    "### Zasady SOLID\n",
    "- **Jedna odpowiedzialność**: Każdy komponent ma jedno jasno określone zadanie\n",
    "- **Otwarte/Zamknięte**: Możliwość rozszerzania bez modyfikacji\n",
    "- **Podstawienie Liskov**: Implementacje narzędzi oparte na interfejsach\n",
    "- **Segregacja interfejsów**: Skupione, spójne interfejsy\n",
    "- **Odwrócenie zależności**: Zależność od abstrakcji, a nie konkretów\n",
    "\n",
    "### Czysta architektura\n",
    "- **Warstwa domeny**: Podstawowe abstrakcje agentów i narzędzi\n",
    "- **Warstwa aplikacji**: Orkiestracja agentów i przepływy pracy\n",
    "- **Warstwa infrastruktury**: Integracja modeli GitHub i usługi zewnętrzne\n",
    "- **Warstwa prezentacji**: Interakcja z użytkownikiem i formatowanie odpowiedzi\n",
    "\n",
    "## 🔒 Rozważania korporacyjne\n",
    "\n",
    "### Bezpieczeństwo\n",
    "- **Zarządzanie poświadczeniami**: Bezpieczne obsługiwanie kluczy API z IConfiguration\n",
    "- **Walidacja wejścia**: Silne typowanie i walidacja z adnotacjami danych\n",
    "- **Sanityzacja wyjścia**: Bezpieczne przetwarzanie i filtrowanie odpowiedzi\n",
    "- **Logowanie audytowe**: Kompleksowe śledzenie operacji\n",
    "\n",
    "### Wydajność\n",
    "- **Wzorce asynchroniczne**: Operacje I/O bez blokowania\n",
    "- **Pula połączeń**: Efektywne zarządzanie klientem HTTP\n",
    "- **Caching**: Buforowanie odpowiedzi dla poprawy wydajności\n",
    "- **Zarządzanie zasobami**: Odpowiednie zwalnianie i czyszczenie zasobów\n",
    "\n",
    "### Skalowalność\n",
    "- **Bezpieczeństwo wątków**: Wsparcie dla równoczesnego wykonywania agentów\n",
    "- **Pula zasobów**: Efektywne wykorzystanie zasobów\n",
    "- **Zarządzanie obciążeniem**: Ograniczanie szybkości i obsługa przeciążenia\n",
    "- **Monitorowanie**: Metryki wydajności i kontrole zdrowia\n",
    "\n",
    "## 🚀 Wdrożenie produkcyjne\n",
    "\n",
    "- **Zarządzanie konfiguracją**: Ustawienia specyficzne dla środowiska\n",
    "- **Strategia logowania**: Strukturalne logowanie z identyfikatorami korelacji\n",
    "- **Obsługa błędów**: Globalna obsługa wyjątków z odpowiednim odzyskiwaniem\n",
    "- **Monitorowanie**: Application Insights i liczniki wydajności\n",
    "- **Testowanie**: Testy jednostkowe, integracyjne i wzorce testowania obciążenia\n",
    "\n",
    "Gotowy, aby budować inteligentnych agentów klasy korporacyjnej z .NET? Zbudujmy coś solidnego! 🏢✨\n"
   ]
  },
  {
   "cell_type": "code",
   "execution_count": 1,
   "id": "2770ac5c",
   "metadata": {
    "language_info": {
     "name": "polyglot-notebook"
    },
    "polyglot_notebook": {
     "kernelName": "csharp"
    }
   },
   "outputs": [
    {
     "data": {
      "text/html": [
       "<div><div></div><div></div><div><strong>Installed Packages</strong><ul><li><span>Microsoft.Extensions.AI, 9.9.1</span></li></ul></div></div>"
      ]
     },
     "metadata": {},
     "output_type": "display_data"
    }
   ],
   "source": [
    "#r \"nuget: Microsoft.Extensions.AI, 9.9.1\""
   ]
  },
  {
   "cell_type": "code",
   "execution_count": null,
   "id": "984ff6cd",
   "metadata": {
    "language_info": {
     "name": "polyglot-notebook"
    },
    "polyglot_notebook": {
     "kernelName": "csharp"
    }
   },
   "outputs": [
    {
     "data": {
      "text/html": [
       "<div><div></div><div></div><div><strong>Installed Packages</strong><ul><li><span>Microsoft.Agents.AI.OpenAI, 1.0.0-preview.251001.2</span></li></ul></div></div>"
      ]
     },
     "metadata": {},
     "output_type": "display_data"
    }
   ],
   "source": [
    "#r \"nuget: Microsoft.Agents.AI.OpenAI, 1.0.0-preview.251001.3\""
   ]
  },
  {
   "cell_type": "code",
   "execution_count": null,
   "id": "0ab71360",
   "metadata": {
    "language_info": {
     "name": "polyglot-notebook"
    },
    "polyglot_notebook": {
     "kernelName": "csharp"
    }
   },
   "outputs": [
    {
     "data": {
      "text/html": [
       "<div><div></div><div></div><div><strong>Installed Packages</strong><ul><li><span>microsoft.agents.ai, 1.0.0-preview.251001.2</span></li></ul></div></div>"
      ]
     },
     "metadata": {},
     "output_type": "display_data"
    }
   ],
   "source": [
    "\n",
    "\n",
    "#r \"nuget: Microsoft.Agents.AI, 1.0.0-preview.251001.3\""
   ]
  },
  {
   "cell_type": "code",
   "execution_count": 4,
   "id": "4ab7b15d",
   "metadata": {
    "language_info": {
     "name": "polyglot-notebook"
    },
    "polyglot_notebook": {
     "kernelName": "csharp"
    }
   },
   "outputs": [],
   "source": [
    "// #r \"nuget: Microsoft.Extensions.AI.OpenAI, 9.9.0-preview.1.25458.4\""
   ]
  },
  {
   "cell_type": "code",
   "execution_count": 5,
   "id": "3fa8aa21",
   "metadata": {
    "language_info": {
     "name": "polyglot-notebook"
    },
    "polyglot_notebook": {
     "kernelName": "csharp"
    }
   },
   "outputs": [
    {
     "data": {
      "text/html": [
       "<div><div></div><div></div><div><strong>Installed Packages</strong><ul><li><span>DotNetEnv, 3.1.1</span></li></ul></div></div>"
      ]
     },
     "metadata": {},
     "output_type": "display_data"
    }
   ],
   "source": [
    "#r \"nuget: DotNetEnv, 3.1.1\""
   ]
  },
  {
   "cell_type": "code",
   "execution_count": 6,
   "id": "fc8ee8ea",
   "metadata": {
    "language_info": {
     "name": "polyglot-notebook"
    },
    "polyglot_notebook": {
     "kernelName": "csharp"
    }
   },
   "outputs": [],
   "source": [
    "using System;\n",
    "using System.ComponentModel;\n",
    "using System.ClientModel;\n",
    "\n",
    "using Microsoft.Extensions.AI;\n",
    "using Microsoft.Agents.AI;\n",
    "using OpenAI;"
   ]
  },
  {
   "cell_type": "code",
   "execution_count": 7,
   "id": "699b1c83",
   "metadata": {
    "language_info": {
     "name": "polyglot-notebook"
    },
    "polyglot_notebook": {
     "kernelName": "csharp"
    }
   },
   "outputs": [],
   "source": [
    " using DotNetEnv;"
   ]
  },
  {
   "cell_type": "code",
   "execution_count": 8,
   "id": "daa649a0",
   "metadata": {
    "language_info": {
     "name": "polyglot-notebook"
    },
    "polyglot_notebook": {
     "kernelName": "csharp"
    }
   },
   "outputs": [],
   "source": [
    "Env.Load(\"../../../.env\");"
   ]
  },
  {
   "cell_type": "code",
   "execution_count": 9,
   "id": "29661a90",
   "metadata": {
    "language_info": {
     "name": "polyglot-notebook"
    },
    "polyglot_notebook": {
     "kernelName": "csharp"
    }
   },
   "outputs": [],
   "source": [
    "[Description(\"Provides a random vacation destination.\")]\n",
    "static string GetRandomDestination()\n",
    "{\n",
    "    var destinations = new List<string>\n",
    "    {\n",
    "        \"Paris, France\",\n",
    "        \"Tokyo, Japan\",\n",
    "        \"New York City, USA\",\n",
    "        \"Sydney, Australia\",\n",
    "        \"Rome, Italy\",\n",
    "        \"Barcelona, Spain\",\n",
    "        \"Cape Town, South Africa\",\n",
    "        \"Rio de Janeiro, Brazil\",\n",
    "        \"Bangkok, Thailand\",\n",
    "        \"Vancouver, Canada\"\n",
    "    };\n",
    "\n",
    "    var random = new Random();\n",
    "    int index = random.Next(destinations.Count);\n",
    "    return destinations[index];\n",
    "}"
   ]
  },
  {
   "cell_type": "code",
   "execution_count": 10,
   "id": "d2ed1f8b",
   "metadata": {
    "language_info": {
     "name": "polyglot-notebook"
    },
    "polyglot_notebook": {
     "kernelName": "csharp"
    }
   },
   "outputs": [],
   "source": [
    "var github_endpoint = Environment.GetEnvironmentVariable(\"GITHUB_ENDPOINT\") ?? throw new InvalidOperationException(\"GITHUB_ENDPOINT is not set.\");\n",
    "var github_model_id = Environment.GetEnvironmentVariable(\"GITHUB_MODEL_ID\") ?? \"gpt-4o-mini\";\n",
    "var github_token = Environment.GetEnvironmentVariable(\"GITHUB_TOKEN\") ?? throw new InvalidOperationException(\"GITHUB_TOKEN is not set.\");"
   ]
  },
  {
   "cell_type": "code",
   "execution_count": 11,
   "id": "c36c73e1",
   "metadata": {
    "language_info": {
     "name": "polyglot-notebook"
    },
    "polyglot_notebook": {
     "kernelName": "csharp"
    }
   },
   "outputs": [],
   "source": [
    "var openAIOptions = new OpenAIClientOptions()\n",
    "{\n",
    "    Endpoint= new Uri(github_endpoint)\n",
    "};"
   ]
  },
  {
   "cell_type": "code",
   "execution_count": 12,
   "id": "6d94ff10",
   "metadata": {
    "language_info": {
     "name": "polyglot-notebook"
    },
    "polyglot_notebook": {
     "kernelName": "csharp"
    }
   },
   "outputs": [],
   "source": [
    "\n",
    "var openAIClient = new OpenAIClient(new ApiKeyCredential(github_token), openAIOptions);"
   ]
  },
  {
   "cell_type": "code",
   "execution_count": 13,
   "id": "fe32b57a",
   "metadata": {
    "language_info": {
     "name": "polyglot-notebook"
    },
    "polyglot_notebook": {
     "kernelName": "csharp"
    }
   },
   "outputs": [],
   "source": [
    "AIAgent agent = new OpenAIClient(new ApiKeyCredential(github_token), openAIOptions).GetChatClient(github_model_id).CreateAIAgent(\n",
    "    instructions:\"You are a helpful AI Agent that can help plan vacations for customers at random destinations\", tools: [AIFunctionFactory.Create((Func<string>)GetRandomDestination)]);"
   ]
  },
  {
   "cell_type": "code",
   "execution_count": 14,
   "metadata": {
    "language_info": {
     "name": "polyglot-notebook"
    },
    "polyglot_notebook": {
     "kernelName": "csharp"
    }
   },
   "outputs": [],
   "source": [
    "AgentThread thread = agent.GetNewThread();"
   ]
  },
  {
   "cell_type": "code",
   "execution_count": 15,
   "id": "5e455aff",
   "metadata": {
    "language_info": {
     "name": "polyglot-notebook"
    },
    "polyglot_notebook": {
     "kernelName": "csharp"
    }
   },
   "outputs": [
    {
     "name": "stdout",
     "output_type": "stream",
     "text": [
      "How about a day trip to Vancouver, Canada? Here's a suggested itinerary for your day:\n",
      "\n",
      "### Morning\n",
      "- **Breakfast at a Local Cafe**: Start your day with a delicious breakfast at a cozy café like **Jam Cafe** or **Cafe Medina**.\n",
      "- **Stanley Park**: After breakfast, head to Stanley Park. You can rent a bike and ride along the seawall, enjoying beautiful views of the city and the water.\n",
      "\n",
      "### Afternoon\n",
      "- **Lunch in Gastown**: Make your way to Gastown for lunch. Try a local favorite like **The Flying Pig** or **Noodle Box**.\n",
      "- **Explore Gastown**: After lunch, walk around Gastown to see the iconic Steam Clock and browse the unique shops and boutiques.\n",
      "\n",
      "### Late Afternoon\n",
      "- **Granville Island**: Visit Granville Island, where you can stroll through the public market, sample local foods, and enjoy artisan shops.\n",
      "- **False Creek**: Take a walk along False Creek and enjoy the waterfront views.\n",
      "\n",
      "### Evening\n",
      "- **Dinner at a Waterfront Restaurant**: End your day with dinner at a waterfront restaurant like **The Boathouse** or **Lift Bar Grill View** for great food and a view of the sunset.\n",
      "- **Optional: Sunset Cruise**: If you're up for it, consider taking a sunset cruise for a different perspective of the city.\n",
      "\n",
      "### Tips\n",
      "- Make sure to check the weather beforehand!\n",
      "- Consider public transport or ride-sharing to navigate the city easily.\n",
      "\n",
      "Enjoy your day trip to Vancouver!\r\n"
     ]
    }
   ],
   "source": [
    "Console.WriteLine(await agent.RunAsync(\"Plan me a day trip\",thread));"
   ]
  },
  {
   "cell_type": "code",
   "execution_count": 16,
   "id": "592ae1bb",
   "metadata": {
    "language_info": {
     "name": "polyglot-notebook"
    },
    "polyglot_notebook": {
     "kernelName": "csharp"
    }
   },
   "outputs": [
    {
     "name": "stdout",
     "output_type": "stream",
     "text": [
      "How about a vacation to New York City, USA? Here's a suggested itinerary for your trip:\n",
      "\n",
      "### Day 1: Arrival in New York City\n",
      "- **Check-In**: Arrive and check in to your hotel.\n",
      "- **Central Park**: Take a leisurely stroll through Central Park. Consider renting a bike or taking a carriage ride.\n",
      "- **Evening**: Enjoy dinner at a classic NYC restaurant, such as **Katz's Delicatessen** or **Carbone**.\n",
      "\n",
      "### Day 2: Iconic Landmarks\n",
      "- **Morning**: Breakfast at a local diner.\n",
      "- **Statue of Liberty & Ellis Island**: Take a ferry to visit these iconic landmarks.\n",
      "- **Afternoon**: Explore Wall Street and visit the 9/11 Memorial & Museum.\n",
      "- **Evening**: Dinner in the Financial District followed by a walk across the Brooklyn Bridge at sunset.\n",
      "\n",
      "### Day 3: Culture and Arts\n",
      "- **Morning**: Visit The Metropolitan Museum of Art (The Met) and spend a few hours exploring its vast collection.\n",
      "- **Afternoon**: Head to Times Square for lunch and the buzz of the city.\n",
      "- **Broadway Show**: Catch a Broadway show in the evening. Be sure to book tickets in advance!\n",
      "\n",
      "### Day 4: Explore Neighborhoods\n",
      "- **Morning**: Head to SoHo for brunch and shopping in its chic boutiques.\n",
      "- **Afternoon**: Explore Greenwich Village, known for its bohemian atmosphere and history.\n",
      "- **Evening**: Enjoy dinner in the West Village, perhaps at **Buvette** or **Minetta Tavern**.\n",
      "\n",
      "### Day 5: Departure\n",
      "- **Last-minute Shopping**: Spend your last morning shopping at Fifth Avenue or head to Chelsea Market for food and souvenirs.\n",
      "- **Check-Out**: Depart for your journey home.\n",
      "\n",
      "### Tips\n",
      "- Utilize the subway for efficient travel around the city.\n",
      "- Make reservations for popular restaurants and attractions ahead of time!\n",
      "\n",
      "Enjoy your trip to New York City!\r\n"
     ]
    }
   ],
   "source": [
    "Console.WriteLine(await agent.RunAsync(\"I don't like that destination. Plan me another vacation.\",thread));"
   ]
  },
  {
   "cell_type": "markdown",
   "metadata": {},
   "source": [
    "\n---\n\n**Zastrzeżenie**:  \nTen dokument został przetłumaczony za pomocą usługi tłumaczenia AI [Co-op Translator](https://github.com/Azure/co-op-translator). Chociaż dokładamy wszelkich starań, aby tłumaczenie było precyzyjne, prosimy pamiętać, że automatyczne tłumaczenia mogą zawierać błędy lub nieścisłości. Oryginalny dokument w jego rodzimym języku powinien być uznawany za źródło autorytatywne. W przypadku informacji krytycznych zaleca się skorzystanie z profesjonalnego tłumaczenia przez człowieka. Nie ponosimy odpowiedzialności za jakiekolwiek nieporozumienia lub błędne interpretacje wynikające z użycia tego tłumaczenia.\n"
   ]
  }
 ],
 "metadata": {
  "kernelspec": {
   "display_name": ".NET (C#)",
   "language": "C#",
   "name": ".net-csharp"
  },
  "language_info": {
   "name": "polyglot-notebook"
  },
  "polyglot_notebook": {
   "kernelInfo": {
    "defaultKernelName": "csharp",
    "items": [
     {
      "aliases": [],
      "name": "csharp"
     }
    ]
   }
  },
  "coopTranslator": {
   "original_hash": "070c1d8985b3dc6e6d977f3e891037f1",
   "translation_date": "2025-10-01T21:11:04+00:00",
   "source_file": "03-agentic-design-patterns/code_samples/03-dotnet-agent-framework.ipynb",
   "language_code": "pl"
  }
 },
 "nbformat": 4,
 "nbformat_minor": 5
}