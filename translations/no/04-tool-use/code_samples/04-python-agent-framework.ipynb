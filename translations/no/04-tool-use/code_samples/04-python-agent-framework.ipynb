{
 "cells": [
  {
   "cell_type": "markdown",
   "id": "8744544f",
   "metadata": {},
   "source": [
    "# 🛠️ Avansert Verktøybruk med GitHub-modeller (Python)\n",
    "\n",
    "## 📋 Læringsmål\n",
    "\n",
    "Denne notatboken viser avanserte mønstre for verktøyintegrasjon ved bruk av Microsoft Agent Framework med GitHub-modeller. Du vil lære hvordan du oppretter, administrerer og orkestrerer flere verktøy for å bygge sofistikerte agentfunksjoner.\n",
    "\n",
    "**Hva du vil mestre:**\n",
    "- 🔧 **Multi-verktøy-arkitektur**: Bygge agenter med flere spesialiserte verktøy\n",
    "- 🎯 **Logikk for verktøyvalg**: Hvordan agenter velger riktig verktøy for hver oppgave\n",
    "- 📊 **Databehandlingsverktøy**: Lage verktøy som håndterer ulike datatyper\n",
    "- 🔗 **Verktøysammensetning**: Kombinere verktøy for komplekse arbeidsflyter\n",
    "\n",
    "## 🎯 Nøkkelmønstre for verktøy\n",
    "\n",
    "### Prinsipper for verktøydesign\n",
    "- **Enkel ansvarlighet**: Hvert verktøy har et klart og fokusert formål\n",
    "- **Type-sikkerhet**: Sterk typifisering for pålitelig verktøyutførelse\n",
    "- **Feilhåndtering**: Smidig feiling og gjenopprettingsmønstre\n",
    "- **Sammensetningsevne**: Verktøy som fungerer godt sammen\n",
    "\n",
    "### Avanserte verktøyfunksjoner\n",
    "- **Kontekstbevissthet**: Verktøy som forstår samtalekontekst\n",
    "- **Datavalidering**: Rensing av inndata og validering av utdata\n",
    "- **Ytelsesoptimalisering**: Effektive mønstre for verktøyutførelse\n",
    "- **Utvidbarhet**: Enkel tillegg av nye verktøyfunksjoner\n",
    "\n",
    "## 🔧 Teknisk arkitektur\n",
    "\n",
    "### Kjernekomponenter\n",
    "- **Microsoft Agent Framework**: Python-implementasjon med avansert verktøystøtte\n",
    "- **GitHub-modeller integrasjon**: Høyytelses tilgang til språkmodeller\n",
    "- **Verktøyregistersystem**: Organisert administrasjon av agentens funksjoner\n",
    "- **Mønstre for feilgjenoppretting**: Robust håndtering av feil i verktøyutførelse\n",
    "\n",
    "### Flyt for verktøyintegrasjon\n",
    "```python\n",
    "User Request → Agent Analysis → Tool Selection → Tool Execution → Response Synthesis\n",
    "```\n",
    "\n",
    "## 🛠️ Demonstrerte verktøykategorier\n",
    "\n",
    "### 1. **Datagenereringsverktøy**\n",
    "- Tilfeldig destinasjonsgenerator\n",
    "- Værinformasjonsleverandør  \n",
    "- Reisekostnadskalkulator\n",
    "- Aktivitetsanbefalingsmotor\n",
    "\n",
    "### 2. **Behandlingsverktøy**\n",
    "- Tekstformatering og validering\n",
    "- Datatransformasjonsverktøy\n",
    "- Funksjoner for innholdsanalyse\n",
    "- Verktøy for forbedring av svar\n",
    "\n",
    "### 3. **Integrasjonsverktøy**\n",
    "- Eksterne API-koblinger\n",
    "- Filoperasjoner\n",
    "- Grensesnitt for databaseforespørsler\n",
    "- Verktøy for nettskraping\n",
    "\n",
    "## ⚙️ Forutsetninger og oppsett\n",
    "\n",
    "**Nødvendige avhengigheter:**\n",
    "```bash\n",
    "\n",
    "pip install agent-framework-core -U\n",
    "```\n",
    "\n",
    "**Miljøkonfigurasjon (.env-fil):**\n",
    "```env\n",
    "GITHUB_TOKEN=your_github_personal_access_token\n",
    "GITHUB_ENDPOINT=https://models.inference.ai.azure.com\n",
    "GITHUB_MODEL_ID=gpt-4o-mini\n",
    "```\n",
    "\n",
    "**Valgfrie API-er:**\n",
    "- API-nøkkel for værservice (for værverktøy)\n",
    "- Tilgang til valutakonverterings-API\n",
    "- Legitimasjon for reiseinformasjonsservice\n",
    "\n",
    "## 🎨 Designmønstre\n",
    "\n",
    "### Verktøyfabrikkmønster\n",
    "- Sentralisert opprettelse og konfigurasjon av verktøy\n",
    "- Konsistent grensesnittdesign for verktøy\n",
    "- Enkel registrering og oppdagelse av verktøy\n",
    "\n",
    "### Kommandomønster\n",
    "- Innkapslet logikk for verktøyutførelse\n",
    "- Angre/gjenta-funksjonalitet for komplekse operasjoner\n",
    "- Revisorlogging for verktøybruk\n",
    "\n",
    "### Observatørmønster\n",
    "- Overvåking av verktøyutførelse\n",
    "- Innsamling av ytelsesmetrikker\n",
    "- Feilrapportering og varsling\n",
    "\n",
    "## 🚀 Beste praksis\n",
    "\n",
    "- **Verktøydokumentasjon**: Klare beskrivelser for agentforståelse\n",
    "- **Inndatavalidering**: Robust parameterkontroll og rensing\n",
    "- **Utdataformatering**: Konsistente, analyserbare verktøysvar\n",
    "- **Feilmeldinger**: Nyttig feilinformasjon for feilsøking\n",
    "- **Ytelse**: Optimalisert verktøyutførelse for responsivitet\n",
    "\n",
    "Klar til å bygge agenter med kraftige verktøyfunksjoner? La oss skape noe fantastisk! ⚡\n"
   ]
  },
  {
   "cell_type": "code",
   "execution_count": null,
   "id": "59c0feeb",
   "metadata": {},
   "outputs": [],
   "source": [
    "! pip install agent-framework-core -U"
   ]
  },
  {
   "cell_type": "code",
   "execution_count": null,
   "id": "c0df8a52",
   "metadata": {},
   "outputs": [],
   "source": [
    "# � Import core dependencies for Agent Framework and tool integration\n",
    "# This sets up the essential libraries for building intelligent agents with tool capabilities\n",
    "\n",
    "import asyncio\n",
    "import os\n",
    "import json\n",
    "\n",
    "from dotenv import load_dotenv  # For loading environment variables securely\n",
    "from random import randint\n",
    "\n",
    "# These are the core components for building tool-enabled agents\n",
    "from agent_framework import ChatAgent           # Main agent class\n",
    "from agent_framework.openai import OpenAIChatClient  # OpenAI-compatible client"
   ]
  },
  {
   "cell_type": "code",
   "execution_count": null,
   "id": "24c10eb0",
   "metadata": {},
   "outputs": [],
   "source": [
    "load_dotenv()"
   ]
  },
  {
   "cell_type": "code",
   "execution_count": null,
   "id": "151e0314",
   "metadata": {},
   "outputs": [],
   "source": [
    "# 🔑 Environment variables verification\n",
    "# Ensure all required GitHub Models credentials are properly configured\n",
    "print(\"GITHUB_ENDPOINT:\", os.environ.get(\"GITHUB_ENDPOINT\"))\n",
    "print(\"GITHUB_TOKEN:\", \"***\" if os.environ.get(\"GITHUB_TOKEN\") else \"Not set\")\n",
    "print(\"GITHUB_MODEL_ID:\", os.environ.get(\"GITHUB_MODEL_ID\"))"
   ]
  },
  {
   "cell_type": "code",
   "execution_count": null,
   "id": "a6141584",
   "metadata": {},
   "outputs": [],
   "source": [
    "# 🧪 Test GitHub Models connectivity\n",
    "openai_chat_client = OpenAIChatClient(base_url=os.environ.get(\"GITHUB_ENDPOINT\"), api_key=os.environ.get(\"GITHUB_TOKEN\"), model_id=os.environ.get(\"GITHUB_MODEL_ID\"))"
   ]
  },
  {
   "cell_type": "code",
   "execution_count": null,
   "id": "a6507f83",
   "metadata": {},
   "outputs": [],
   "source": [
    "# 🛠️ Define travel planning tools for agent integration\n",
    "# These functions provide specific capabilities that the agent can invoke dynamically\n",
    "\n",
    "def get_random_destination() -> str:\n",
    "    \"\"\"\n",
    "    🎲 Random destination generator tool\n",
    "    Returns a randomly selected travel destination from curated list\n",
    "    Useful when customers need inspiration for their next vacation\n",
    "    \"\"\"\n",
    "    destinations = [\n",
    "        \"Paris, France\",\n",
    "        \"Tokyo, Japan\", \n",
    "        \"New York City, USA\",\n",
    "        \"London, England\",\n",
    "        \"Rome, Italy\",\n",
    "        \"Sydney, Australia\",\n",
    "        \"Dubai, UAE\",\n",
    "        \"Barcelona, Spain\",\n",
    "        \"Bangkok, Thailand\",\n",
    "        \"Amsterdam, Netherlands\",\n",
    "        \"Istanbul, Turkey\",\n",
    "        \"Prague, Czech Republic\",\n",
    "        \"Santorini, Greece\",\n",
    "        \"Reykjavik, Iceland\",\n",
    "        \"Marrakech, Morocco\",\n",
    "        \"Cape Town, South Africa\",\n",
    "        \"Rio de Janeiro, Brazil\",\n",
    "        \"Bali, Indonesia\"\n",
    "    ]\n",
    "    # 🎯 Return random selection from the curated destination list\n",
    "    return destinations[randint(0, len(destinations) - 1)]"
   ]
  },
  {
   "cell_type": "code",
   "execution_count": null,
   "id": "5d4f0568",
   "metadata": {},
   "outputs": [],
   "source": [
    "# 🔗 Initialize GitHub Models chat client for agent communication\n",
    "# Creates the primary interface between the agent and the language model\n",
    "openai_chat_client = OpenAIChatClient(base_url=os.environ.get(\"GITHUB_ENDPOINT\"), api_key=os.environ.get(\"GITHUB_TOKEN\"), model_id=os.environ.get(\"GITHUB_MODEL_ID\"))"
   ]
  },
  {
   "cell_type": "code",
   "execution_count": null,
   "id": "751668c5",
   "metadata": {},
   "outputs": [],
   "source": [
    "# 🤖 Configure travel agent identity and behavioral instructions\n",
    "# Define the agent's personality, capabilities, and operational guidelines\n",
    "\n",
    "AGENT_NAME = \"TravelAgent\"\n",
    "\n",
    "AGENT_INSTRUCTIONS = \"\"\"You are a helpful AI Agent that can help plan vacations for customers at random destinations\n",
    "\"\"\""
   ]
  },
  {
   "cell_type": "code",
   "execution_count": null,
   "id": "be18ac4f",
   "metadata": {},
   "outputs": [],
   "source": [
    "agent = ChatAgent(\n",
    "        name = AGENT_NAME,\n",
    "        chat_client=openai_chat_client,\n",
    "        instructions=AGENT_INSTRUCTIONS,\n",
    "        tools=[get_random_destination]\n",
    ")"
   ]
  },
  {
   "cell_type": "code",
   "execution_count": null,
   "id": "772e9481",
   "metadata": {},
   "outputs": [],
   "source": [
    "thread = agent.get_new_thread()"
   ]
  },
  {
   "cell_type": "code",
   "execution_count": null,
   "id": "a731b547",
   "metadata": {},
   "outputs": [],
   "source": [
    "response1 = await agent.run(\"Plan me a day trip\",thread= thread)"
   ]
  },
  {
   "cell_type": "code",
   "execution_count": null,
   "id": "7d3fe00a",
   "metadata": {},
   "outputs": [],
   "source": [
    "\n",
    "last_message = response1.messages[-1]\n",
    "text_content = last_message.contents[0].text\n",
    "print(\"Travel plan:\")\n",
    "print(text_content)"
   ]
  },
  {
   "cell_type": "markdown",
   "metadata": {},
   "source": [
    "\n---\n\n**Ansvarsfraskrivelse**:  \nDette dokumentet er oversatt ved hjelp av AI-oversettelsestjenesten [Co-op Translator](https://github.com/Azure/co-op-translator). Selv om vi tilstreber nøyaktighet, vær oppmerksom på at automatiserte oversettelser kan inneholde feil eller unøyaktigheter. Det originale dokumentet på sitt opprinnelige språk bør anses som den autoritative kilden. For kritisk informasjon anbefales profesjonell menneskelig oversettelse. Vi er ikke ansvarlige for misforståelser eller feiltolkninger som oppstår ved bruk av denne oversettelsen.\n"
   ]
  }
 ],
 "metadata": {
  "kernelspec": {
   "display_name": "agentenv",
   "language": "python",
   "name": "python3"
  },
  "language_info": {
   "codemirror_mode": {
    "name": "ipython",
    "version": 3
   },
   "file_extension": ".py",
   "mimetype": "text/x-python",
   "name": "python",
   "nbconvert_exporter": "python",
   "pygments_lexer": "ipython3",
   "version": "3.12.10"
  },
  "polyglot_notebook": {
   "kernelInfo": {
    "defaultKernelName": "csharp",
    "items": [
     {
      "aliases": [],
      "name": "csharp"
     }
    ]
   }
  },
  "coopTranslator": {
   "original_hash": "42966ddac53cebaf0ac1ce33b2ee7059",
   "translation_date": "2025-10-02T16:09:29+00:00",
   "source_file": "04-tool-use/code_samples/04-python-agent-framework.ipynb",
   "language_code": "no"
  }
 },
 "nbformat": 4,
 "nbformat_minor": 5
}