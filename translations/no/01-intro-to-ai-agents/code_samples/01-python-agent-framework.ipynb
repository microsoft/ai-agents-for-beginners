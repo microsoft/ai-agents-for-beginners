{
 "cells": [
  {
   "cell_type": "markdown",
   "id": "f4cf9593",
   "metadata": {},
   "source": [
    "# 🐍 AI Reiseagent med Microsoft Agent Framework (Python)\n",
    "\n",
    "## 📋 Scenariooversikt\n",
    "\n",
    "Denne notatboken viser hvordan man kan bygge en intelligent reiseplanleggingsagent ved hjelp av Microsoft Agent Framework for Python. Agenten bruker GitHub Models til automatisk å generere personlige dagsplaner for tilfeldige destinasjoner verden rundt.\n",
    "\n",
    "**Hovedfunksjoner:**\n",
    "- 🎲 **Smart destinasjonsvalg**: Egendefinert verktøyfunksjon for tilfeldig valg av destinasjoner\n",
    "- 🗺️ **Detaljert reiseplanlegging**: AI-drevet reiseplanlegging med lokale anbefalinger\n",
    "- 🔄 **Asynkron behandling**: Bruker asyncio for effektiv API-kommunikasjon\n",
    "- 🛠️ **Verktøyintegrasjon**: Demonstrerer funksjonskall i AI-agenter\n",
    "\n",
    "## 🏗️ Teknisk implementering\n",
    "\n",
    "### Kjernekomponenter\n",
    "- **Agent Framework**: Python-implementering av Microsofts system for agentorkestrering\n",
    "- **GitHub Models API**: Tilgang til toppmoderne språkmodeller via GitHubs inferenstjeneste\n",
    "- **OpenAI-kompatibilitet**: Bruker OpenAI-klientmønstre med GitHub Models backend\n",
    "- **Miljøhåndtering**: Sikker håndtering av legitimasjon med python-dotenv\n",
    "\n",
    "### Arkitekturflyt\n",
    "```python\n",
    "User Request → ChatAgent → GitHub Models API ↔ get_random_destination()\n",
    "                     ↓\n",
    "              Travel Itinerary Response\n",
    "```\n",
    "\n",
    "### Viktige klasser og metoder\n",
    "- `ChatAgent`: Hovedorkestratoren for samtaleagenten\n",
    "- `OpenAIChatClient`: GitHub Models API-klientinnpakning\n",
    "- `get_random_destination()`: Egendefinert verktøyfunksjon for valg av destinasjoner\n",
    "- Miljøvariabler: Sikker konfigurasjon av API-innstillinger\n",
    "\n",
    "## ⚙️ Forutsetninger og oppsett\n",
    "\n",
    "**Nødvendige avhengigheter:**\n",
    "```bash\n",
    "\n",
    "pip install agent-framework-core -U\n",
    "```\n",
    "\n",
    "**Miljøkonfigurasjon (.env-fil):**\n",
    "```env\n",
    "GITHUB_TOKEN=your_github_personal_access_token\n",
    "GITHUB_ENDPOINT=https://models.inference.ai.azure.com\n",
    "GITHUB_MODEL_ID=gpt-4o-mini\n",
    "```\n",
    "\n",
    "**GitHub Models-tilgang:**\n",
    "1. Registrer deg for tilgang til GitHub Models\n",
    "2. Generer et personlig tilgangstoken\n",
    "3. Konfigurer miljøvariabler som vist ovenfor\n",
    "\n",
    "## 🚀 Bruksanvisning\n",
    "\n",
    "Kjør cellene nedenfor i rekkefølge for å:\n",
    "1. Importere nødvendige biblioteker og laste inn miljøvariabler\n",
    "2. Definere verktøyet for tilfeldig destinasjonsgenerator\n",
    "3. Opprette og konfigurere AI-agenten\n",
    "4. Utføre reiseplanleggingsforespørsler og vise resultater\n",
    "\n",
    "La oss bygge en intelligent reiseplanleggingsassistent! 🌟\n"
   ]
  },
  {
   "cell_type": "code",
   "execution_count": null,
   "id": "fda5fa0a",
   "metadata": {},
   "outputs": [],
   "source": [
    "! pip install agent-framework-core -U"
   ]
  },
  {
   "cell_type": "code",
   "execution_count": null,
   "id": "c0df8a52",
   "metadata": {},
   "outputs": [],
   "source": [
    "# 📦 Import Required Libraries\n",
    "# Standard library imports for system operations and random number generation\n",
    "import os\n",
    "from random import randint\n",
    "\n",
    "# Third-party library for loading environment variables from .env file\n",
    "from dotenv import load_dotenv"
   ]
  },
  {
   "cell_type": "code",
   "execution_count": null,
   "id": "151e0314",
   "metadata": {},
   "outputs": [],
   "source": [
    "# 🤖 Import Microsoft Agent Framework Components\n",
    "# ChatAgent: The main agent class for conversational AI\n",
    "# OpenAIChatClient: Client for connecting to OpenAI-compatible APIs (including GitHub Models)\n",
    "from agent_framework import ChatAgent\n",
    "from agent_framework.openai import OpenAIChatClient"
   ]
  },
  {
   "cell_type": "code",
   "execution_count": null,
   "id": "a6141584",
   "metadata": {},
   "outputs": [],
   "source": [
    "# 🔧 Load Environment Variables\n",
    "# This loads configuration from a .env file in the project root\n",
    "# Required variables: GITHUB_ENDPOINT, GITHUB_TOKEN, GITHUB_MODEL_ID\n",
    "load_dotenv()"
   ]
  },
  {
   "cell_type": "code",
   "execution_count": null,
   "id": "a6507f83",
   "metadata": {},
   "outputs": [],
   "source": [
    "# 🎲 Tool Function: Random Destination Generator\n",
    "# This function will be available to the agent as a tool\n",
    "# The agent can call this function to get random vacation destinations\n",
    "def get_random_destination() -> str:\n",
    "    \"\"\"Get a random vacation destination.\n",
    "    \n",
    "    Returns:\n",
    "        str: A randomly selected destination from our predefined list\n",
    "    \"\"\"\n",
    "    # List of popular vacation destinations around the world\n",
    "    destinations = [\n",
    "        \"Barcelona, Spain\",\n",
    "        \"Paris, France\", \n",
    "        \"Berlin, Germany\",\n",
    "        \"Tokyo, Japan\",\n",
    "        \"Sydney, Australia\",\n",
    "        \"New York, USA\",\n",
    "        \"Cairo, Egypt\",\n",
    "        \"Cape Town, South Africa\",\n",
    "        \"Rio de Janeiro, Brazil\",\n",
    "        \"Bali, Indonesia\"\n",
    "    ]\n",
    "    # Return a random destination from the list\n",
    "    return destinations[randint(0, len(destinations) - 1)]"
   ]
  },
  {
   "cell_type": "code",
   "execution_count": null,
   "id": "5d4f0568",
   "metadata": {},
   "outputs": [],
   "source": [
    "# 🔗 Create OpenAI Chat Client for GitHub Models\n",
    "# This client connects to GitHub Models API (OpenAI-compatible endpoint)\n",
    "# Environment variables required:\n",
    "# - GITHUB_ENDPOINT: API endpoint URL (usually https://models.inference.ai.azure.com)\n",
    "# - GITHUB_TOKEN: Your GitHub personal access token\n",
    "# - GITHUB_MODEL_ID: Model to use (e.g., gpt-4o-mini, gpt-4o)\n",
    "openai_chat_client = OpenAIChatClient(\n",
    "    base_url=os.environ.get(\"GITHUB_ENDPOINT\"),\n",
    "    api_key=os.environ.get(\"GITHUB_TOKEN\"), \n",
    "    model_id=os.environ.get(\"GITHUB_MODEL_ID\")\n",
    ")"
   ]
  },
  {
   "cell_type": "code",
   "execution_count": null,
   "id": "cf5a4800",
   "metadata": {},
   "outputs": [],
   "source": [
    "# 🤖 Create the Travel Planning Agent\n",
    "# This creates a conversational AI agent with specific capabilities:\n",
    "# - chat_client: The AI model client for generating responses\n",
    "# - instructions: System prompt that defines the agent's personality and role\n",
    "# - tools: List of functions the agent can call to perform actions\n",
    "agent = ChatAgent(\n",
    "    chat_client=openai_chat_client,\n",
    "    instructions=\"You are a helpful AI Agent that can help plan vacations for customers at random destinations.\",\n",
    "    tools=[get_random_destination]  # Our random destination tool function\n",
    ")"
   ]
  },
  {
   "cell_type": "code",
   "execution_count": null,
   "id": "772e9481",
   "metadata": {},
   "outputs": [],
   "source": [
    "# 🚀 Run the Agent\n",
    "# Send a message to the agent and get a response\n",
    "# The agent will use its tools (get_random_destination) if needed\n",
    "response = await agent.run(\"Plan me a day trip\")"
   ]
  },
  {
   "cell_type": "code",
   "execution_count": null,
   "id": "93c114ea",
   "metadata": {},
   "outputs": [],
   "source": [
    "# 📋 View Raw Response Object\n",
    "# This shows the complete response structure including metadata\n",
    "# Useful for debugging and understanding the response format\n",
    "response"
   ]
  },
  {
   "cell_type": "code",
   "execution_count": null,
   "id": "a731b547",
   "metadata": {},
   "outputs": [],
   "source": [
    "# 📖 Extract and Display the Travel Plan\n",
    "# Get the last message from the conversation (agent's response)s\n",
    "last_message = response.messages[-1]\n",
    "# Extract the text content from the message\n",
    "text_content = last_message.contents[0].text\n",
    "# Display the formatted travel plan\n",
    "print(\"🏖️ Travel plan:\")\n",
    "print(text_content)"
   ]
  },
  {
   "cell_type": "markdown",
   "metadata": {},
   "source": [
    "\n---\n\n**Ansvarsfraskrivelse**:  \nDette dokumentet er oversatt ved hjelp av AI-oversettelsestjenesten [Co-op Translator](https://github.com/Azure/co-op-translator). Selv om vi tilstreber nøyaktighet, vær oppmerksom på at automatiserte oversettelser kan inneholde feil eller unøyaktigheter. Det originale dokumentet på sitt opprinnelige språk bør anses som den autoritative kilden. For kritisk informasjon anbefales profesjonell menneskelig oversettelse. Vi er ikke ansvarlige for misforståelser eller feiltolkninger som oppstår ved bruk av denne oversettelsen.\n"
   ]
  }
 ],
 "metadata": {
  "kernelspec": {
   "display_name": "agentframeworkenv",
   "language": "python",
   "name": "python3"
  },
  "language_info": {
   "codemirror_mode": {
    "name": "ipython",
    "version": 3
   },
   "file_extension": ".py",
   "mimetype": "text/x-python",
   "name": "python",
   "nbconvert_exporter": "python",
   "pygments_lexer": "ipython3",
   "version": "3.12.10"
  },
  "polyglot_notebook": {
   "kernelInfo": {
    "defaultKernelName": "csharp",
    "items": [
     {
      "aliases": [],
      "name": "csharp"
     }
    ]
   }
  },
  "coopTranslator": {
   "original_hash": "02d6b305971fe27448c9d46a4c91eaf3",
   "translation_date": "2025-10-02T16:06:35+00:00",
   "source_file": "01-intro-to-ai-agents/code_samples/01-python-agent-framework.ipynb",
   "language_code": "no"
  }
 },
 "nbformat": 4,
 "nbformat_minor": 5
}