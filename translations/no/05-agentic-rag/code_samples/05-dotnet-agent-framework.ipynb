{
 "cells": [
  {
   "cell_type": "markdown",
   "id": "44b5899e",
   "metadata": {},
   "source": [
    "# 🔍 Enterprise RAG med Azure AI Foundry (.NET)\n",
    "\n",
    "## 📋 Læringsmål\n",
    "\n",
    "Denne notatboken viser hvordan du kan bygge bedriftsklare Retrieval-Augmented Generation (RAG)-systemer ved hjelp av Microsoft Agent Framework i .NET med Azure AI Foundry. Du vil lære å lage produksjonsklare agenter som kan søke gjennom dokumenter og gi nøyaktige, kontekstbevisste svar med bedriftssikkerhet og skalerbarhet.\n",
    "\n",
    "**Enterprise RAG-funksjoner du vil bygge:**\n",
    "- 📚 **Dokumentintelligens**: Avansert dokumentbehandling med Azure AI-tjenester\n",
    "- 🔍 **Semantisk søk**: Høyytelses vektorsøk med bedriftsfunksjoner\n",
    "- 🛡️ **Sikkerhetsintegrasjon**: Rollebasert tilgang og mønstre for databeskyttelse\n",
    "- 🏢 **Skalerbar arkitektur**: Produksjonsklare RAG-systemer med overvåking\n",
    "\n",
    "## 🎯 Enterprise RAG-arkitektur\n",
    "\n",
    "### Kjernekomponenter for bedrifter\n",
    "- **Azure AI Foundry**: Administrert AI-plattform for bedrifter med sikkerhet og samsvar\n",
    "- **Vedvarende agenter**: Tilstandsfulle agenter med samtalehistorikk og kontekststyring\n",
    "- **Håndtering av vektorlagring**: Bedriftsklare dokumentindeksering og gjenfinning\n",
    "- **Identitetsintegrasjon**: Azure AD-autentisering og rollebasert tilgangskontroll\n",
    "\n",
    "### Fordeler med .NET for bedrifter\n",
    "- **Type-sikkerhet**: Validering av RAG-operasjoner og datastrukturer ved kompilering\n",
    "- **Asynkron ytelse**: Ikke-blokkerende dokumentbehandling og søkeoperasjoner\n",
    "- **Minnehåndtering**: Effektiv ressursutnyttelse for store dokumentmengder\n",
    "- **Integrasjonsmønstre**: Naturlig integrasjon med Azure-tjenester via avhengighetsinjeksjon\n",
    "\n",
    "## 🏗️ Teknisk arkitektur\n",
    "\n",
    "### Enterprise RAG-pipeline\n",
    "```csharp\n",
    "Document Upload → Security Validation → Vector Processing → Index Creation\n",
    "                      ↓                    ↓                  ↓\n",
    "User Query → Authentication → Semantic Search → Context Ranking → AI Response\n",
    "```\n",
    "\n",
    "### Kjernekomponenter i .NET\n",
    "- **Azure.AI.Agents.Persistent**: Administrasjon av bedriftsagenter med tilstandspersistens\n",
    "- **Azure.Identity**: Integrert autentisering for sikker tilgang til Azure-tjenester\n",
    "- **Microsoft.Agents.AI.AzureAI**: Azure-optimalisert implementering av agentrammeverket\n",
    "- **System.Linq.Async**: Høyytelses asynkrone LINQ-operasjoner\n",
    "\n",
    "## 🔧 Enterprise-funksjoner og fordeler\n",
    "\n",
    "### Sikkerhet og samsvar\n",
    "- **Azure AD-integrasjon**: Administrasjon av identitet og autentisering for bedrifter\n",
    "- **Rollebasert tilgang**: Finkornet tillatelse for dokumenttilgang og operasjoner\n",
    "- **Databeskyttelse**: Kryptering i ro og under transport for sensitive dokumenter\n",
    "- **Revisjonslogging**: Omfattende aktivitetslogging for samsvarskrav\n",
    "\n",
    "### Ytelse og skalerbarhet\n",
    "- **Tilkoblingspooling**: Effektiv administrasjon av Azure-tjenestetilkoblinger\n",
    "- **Asynkron behandling**: Ikke-blokkerende operasjoner for høy gjennomstrømning\n",
    "- **Cache-strategier**: Intelligent caching for ofte brukte dokumenter\n",
    "- **Lastbalansering**: Distribuert behandling for storskala distribusjoner\n",
    "\n",
    "### Administrasjon og overvåking\n",
    "- **Helsetester**: Innebygd overvåking av RAG-systemkomponenter\n",
    "- **Ytelsesmetrikker**: Detaljert analyse av søkekvalitet og responstider\n",
    "- **Feilhåndtering**: Omfattende unntakshåndtering med gjenopprykkingspolitikk\n",
    "- **Konfigurasjonsadministrasjon**: Miljøspesifikke innstillinger med validering\n",
    "\n",
    "## ⚙️ Forutsetninger og oppsett\n",
    "\n",
    "**Utviklingsmiljø:**\n",
    "- .NET 9.0 SDK eller nyere\n",
    "- Visual Studio 2022 eller VS Code med C#-utvidelse\n",
    "- Azure-abonnement med tilgang til AI Foundry\n",
    "\n",
    "**Nødvendige NuGet-pakker:**\n",
    "```xml\n",
    "<PackageReference Include=\"Microsoft.Extensions.AI\" Version=\"9.9.0\" />\n",
    "<PackageReference Include=\"Azure.AI.Agents.Persistent\" Version=\"1.2.0-beta.5\" />\n",
    "<PackageReference Include=\"Azure.Identity\" Version=\"1.15.0\" />\n",
    "<PackageReference Include=\"System.Linq.Async\" Version=\"6.0.3\" />\n",
    "<PackageReference Include=\"DotNetEnv\" Version=\"3.1.1\" />\n",
    "```\n",
    "\n",
    "**Azure-autentiseringsoppsett:**\n",
    "```bash\n",
    "# Install Azure CLI and authenticate\n",
    "az login\n",
    "az account set --subscription \"your-subscription-id\"\n",
    "```\n",
    "\n",
    "**Miljøkonfigurasjon (.env-fil):**\n",
    "```env\n",
    "# Azure AI Foundry configuration (automatically handled via Azure CLI)\n",
    "# Ensure you're authenticated to the correct Azure subscription\n",
    "```\n",
    "\n",
    "## 📊 Enterprise RAG-mønstre\n",
    "\n",
    "### Dokumenthåndteringsmønstre\n",
    "- **Bulkopplasting**: Effektiv behandling av store dokumentmengder\n",
    "- **Inkrementelle oppdateringer**: Sanntids tillegg og modifikasjon av dokumenter\n",
    "- **Versjonskontroll**: Dokumentversjonering og endringssporing\n",
    "- **Metadataadministrasjon**: Rike dokumentattributter og taksonomi\n",
    "\n",
    "### Søke- og gjenfinningsmønstre\n",
    "- **Hybrid søk**: Kombinering av semantisk og nøkkelordssøk for optimale resultater\n",
    "- **Fasettert søk**: Multidimensjonal filtrering og kategorisering\n",
    "- **Relevansjustering**: Tilpassede rangeringsalgoritmer for spesifikke domener\n",
    "- **Resultatrangering**: Avansert rangering med integrasjon av forretningslogikk\n",
    "\n",
    "### Sikkerhetsmønstre\n",
    "- **Dokumentnivå-sikkerhet**: Finkornet tilgangskontroll per dokument\n",
    "- **Dataklassifisering**: Automatisk sensitivitetsetikettering og beskyttelse\n",
    "- **Revisjonsspor**: Omfattende logging av alle RAG-operasjoner\n",
    "- **Personvern**: Identifikasjon og fjerning av personopplysninger (PII)\n",
    "\n",
    "## 🔒 Enterprise-sikkerhetsfunksjoner\n",
    "\n",
    "### Autentisering og autorisasjon\n",
    "```csharp\n",
    "// Azure AD integrated authentication\n",
    "var credential = new AzureCliCredential();\n",
    "var agentsClient = new PersistentAgentsClient(endpoint, credential);\n",
    "\n",
    "// Role-based access validation\n",
    "if (!await ValidateUserPermissions(user, documentId))\n",
    "{\n",
    "    throw new UnauthorizedAccessException(\"Insufficient permissions\");\n",
    "}\n",
    "```\n",
    "\n",
    "### Databeskyttelse\n",
    "- **Kryptering**: Ende-til-ende kryptering for dokumenter og søkeindekser\n",
    "- **Tilgangskontroller**: Integrasjon med Azure AD for bruker- og gruppeautorisasjon\n",
    "- **Dataresidens**: Geografisk datalokasjonskontroll for samsvar\n",
    "- **Backup og gjenoppretting**: Automatiserte backup- og katastrofegjenopprettingsfunksjoner\n",
    "\n",
    "## 📈 Ytelsesoptimalisering\n",
    "\n",
    "### Asynkrone behandlingsmønstre\n",
    "```csharp\n",
    "// Efficient async document processing\n",
    "await foreach (var document in documentStream.AsAsyncEnumerable())\n",
    "{\n",
    "    await ProcessDocumentAsync(document, cancellationToken);\n",
    "}\n",
    "```\n",
    "\n",
    "### Minnehåndtering\n",
    "- **Strømmebehandling**: Håndtering av store dokumenter uten minneproblemer\n",
    "- **Ressurspooling**: Effektiv gjenbruk av kostbare ressurser\n",
    "- **Søppelsamling**: Optimaliserte mønstre for minneallokering\n",
    "- **Tilkoblingsadministrasjon**: Riktig livssyklus for Azure-tjenestetilkoblinger\n",
    "\n",
    "### Cache-strategier\n",
    "- **Spørringscache**: Cache ofte utførte søk\n",
    "- **Dokumentcache**: Minnebasert caching for populære dokumenter\n",
    "- **Indekscache**: Optimalisert caching av vektorindekser\n",
    "- **Resultatcache**: Intelligent caching av genererte svar\n",
    "\n",
    "## 📊 Enterprise-brukstilfeller\n",
    "\n",
    "### Kunnskapsadministrasjon\n",
    "- **Bedriftswiki**: Intelligent søk i bedriftens kunnskapsbaser\n",
    "- **Policyer og prosedyrer**: Automatisert veiledning for samsvar og prosedyrer\n",
    "- **Opplæringsmateriale**: Intelligent lærings- og utviklingsassistanse\n",
    "- **Forskningsdatabaser**: Analyse av akademiske og forskningsartikler\n",
    "\n",
    "### Kundestøtte\n",
    "- **Støttekunnskapsbase**: Automatiserte kundeserviceresponser\n",
    "- **Produktdokumentasjon**: Intelligent gjenfinning av produktinformasjon\n",
    "- **Feilsøkingsveiledninger**: Kontekstuell problemløsningsassistanse\n",
    "- **FAQ-systemer**: Dynamisk generering av FAQ fra dokumentmengder\n",
    "\n",
    "### Regulatorisk samsvar\n",
    "- **Analyse av juridiske dokumenter**: Intelligens for kontrakter og juridiske dokumenter\n",
    "- **Samsvarsovervåking**: Automatisert kontroll av regulatorisk samsvar\n",
    "- **Risikovurdering**: Dokumentbasert risikoanalyse og rapportering\n",
    "- **Revisjonsstøtte**: Intelligent dokumentgjenfinning for revisjoner\n",
    "\n",
    "## 🚀 Produksjonsdistribusjon\n",
    "\n",
    "### Overvåking og observasjon\n",
    "- **Application Insights**: Detaljert telemetri og ytelsesovervåking\n",
    "- **Egendefinerte metrikker**: Spesifikke KPI-sporing og varsling\n",
    "- **Distribuert sporing**: Ende-til-ende sporing av forespørsler på tvers av tjenester\n",
    "- **Helsetavler**: Sanntidsvisualisering av systemhelse og ytelse\n",
    "\n",
    "### Skalerbarhet og pålitelighet\n",
    "- **Auto-skalering**: Automatisk skalering basert på belastning og ytelsesmetrikker\n",
    "- **Høy tilgjengelighet**: Distribusjon på tvers av regioner med failover-funksjoner\n",
    "- **Lasttesting**: Ytelsesvalidering under bedriftsbelastning\n",
    "- **Katastrofegjenoppretting**: Automatiserte backup- og gjenopprettingsprosedyrer\n",
    "\n",
    "Klar til å bygge bedriftsklare RAG-systemer som kan håndtere sensitive dokumenter i stor skala? La oss arkitektere intelligente kunnskapssystemer for bedriften! 🏢📖✨\n"
   ]
  },
  {
   "cell_type": "code",
   "execution_count": 1,
   "metadata": {
    "language_info": {
     "name": "polyglot-notebook"
    },
    "polyglot_notebook": {
     "kernelName": "csharp"
    }
   },
   "outputs": [
    {
     "data": {
      "text/html": [
       "<div><div></div><div></div><div><strong>Installed Packages</strong><ul><li><span>Microsoft.Extensions.AI, 9.9.1</span></li></ul></div></div>"
      ]
     },
     "metadata": {},
     "output_type": "display_data"
    }
   ],
   "source": [
    "#r \"nuget: Microsoft.Extensions.AI, 9.9.1\""
   ]
  },
  {
   "cell_type": "code",
   "execution_count": 2,
   "id": "4ec1f0d1",
   "metadata": {
    "language_info": {
     "name": "polyglot-notebook"
    },
    "polyglot_notebook": {
     "kernelName": "csharp"
    }
   },
   "outputs": [
    {
     "data": {
      "text/html": [
       "<div><div></div><div></div><div><strong>Installed Packages</strong><ul><li><span>Azure.AI.Agents.Persistent, 1.2.0-beta.5</span></li><li><span>Azure.Identity, 1.15.0</span></li><li><span>System.Linq.Async, 6.0.3</span></li></ul></div></div>"
      ]
     },
     "metadata": {},
     "output_type": "display_data"
    }
   ],
   "source": [
    "#r \"nuget: Azure.AI.Agents.Persistent, 1.2.0-beta.5\"\n",
    "#r \"nuget: Azure.Identity, 1.15.0\"\n",
    "#r \"nuget: System.Linq.Async, 6.0.3\""
   ]
  },
  {
   "cell_type": "code",
   "execution_count": 3,
   "id": "2363ae07",
   "metadata": {
    "language_info": {
     "name": "polyglot-notebook"
    },
    "polyglot_notebook": {
     "kernelName": "csharp"
    }
   },
   "outputs": [],
   "source": []
  },
  {
   "cell_type": "code",
   "execution_count": null,
   "id": "d10cec9d",
   "metadata": {
    "language_info": {
     "name": "polyglot-notebook"
    },
    "polyglot_notebook": {
     "kernelName": "csharp"
    }
   },
   "outputs": [
    {
     "data": {
      "text/html": [
       "<div><div></div><div></div><div><strong>Installed Packages</strong><ul><li><span>Microsoft.Agents.AI.AzureAI, 1.0.0-preview.251001.2</span></li></ul></div></div>"
      ]
     },
     "metadata": {},
     "output_type": "display_data"
    }
   ],
   "source": [
    "#r \"nuget: Microsoft.Agents.AI.AzureAI, 1.0.0-preview.251001.3\""
   ]
  },
  {
   "cell_type": "code",
   "execution_count": null,
   "id": "78199d1c",
   "metadata": {
    "language_info": {
     "name": "polyglot-notebook"
    },
    "polyglot_notebook": {
     "kernelName": "csharp"
    }
   },
   "outputs": [
    {
     "data": {
      "text/html": [
       "<div><div></div><div></div><div><strong>Installed Packages</strong><ul><li><span>microsoft.agents.ai, 1.0.0-preview.251001.2</span></li></ul></div></div>"
      ]
     },
     "metadata": {},
     "output_type": "display_data"
    }
   ],
   "source": [
    "#r \"nuget: Microsoft.Agents.AI, 1.0.0-preview.251001.3\""
   ]
  },
  {
   "cell_type": "code",
   "execution_count": 6,
   "id": "7de4684a",
   "metadata": {
    "language_info": {
     "name": "polyglot-notebook"
    },
    "polyglot_notebook": {
     "kernelName": "csharp"
    }
   },
   "outputs": [
    {
     "data": {
      "text/html": [
       "<div><div></div><div></div><div><strong>Installed Packages</strong><ul><li><span>DotNetEnv, 3.1.1</span></li></ul></div></div>"
      ]
     },
     "metadata": {},
     "output_type": "display_data"
    }
   ],
   "source": [
    "#r \"nuget: DotNetEnv, 3.1.1\""
   ]
  },
  {
   "cell_type": "code",
   "execution_count": 7,
   "id": "251efd31",
   "metadata": {
    "language_info": {
     "name": "polyglot-notebook"
    },
    "polyglot_notebook": {
     "kernelName": "csharp"
    }
   },
   "outputs": [],
   "source": [
    "using System;\n",
    "using System.Linq;\n",
    "using Azure.AI.Agents.Persistent;\n",
    "using Azure.Identity;\n",
    "using Microsoft.Agents.AI;"
   ]
  },
  {
   "cell_type": "code",
   "execution_count": 8,
   "id": "a2e342f1",
   "metadata": {
    "language_info": {
     "name": "polyglot-notebook"
    },
    "polyglot_notebook": {
     "kernelName": "csharp"
    }
   },
   "outputs": [],
   "source": [
    " using DotNetEnv;"
   ]
  },
  {
   "cell_type": "code",
   "execution_count": 9,
   "id": "a7a01653",
   "metadata": {
    "language_info": {
     "name": "polyglot-notebook"
    },
    "polyglot_notebook": {
     "kernelName": "csharp"
    }
   },
   "outputs": [],
   "source": [
    "Env.Load(\"../../../.env\");"
   ]
  },
  {
   "cell_type": "code",
   "execution_count": 10,
   "id": "a42735d5",
   "metadata": {
    "language_info": {
     "name": "polyglot-notebook"
    },
    "polyglot_notebook": {
     "kernelName": "csharp"
    }
   },
   "outputs": [],
   "source": [
    "var azure_foundry_endpoint = Environment.GetEnvironmentVariable(\"AZURE_AI_PROJECT_ENDPOINT\") ?? throw new InvalidOperationException(\"AZURE_AI_PROJECT_ENDPOINT is not set.\");\n",
    "var azure_foundry_model_id = Environment.GetEnvironmentVariable(\"AZURE_AI_MODEL_DEPLOYMENT_NAME\") ?? \"gpt-4.1-mini\";"
   ]
  },
  {
   "cell_type": "code",
   "execution_count": 11,
   "id": "e29bdb58",
   "metadata": {
    "language_info": {
     "name": "polyglot-notebook"
    },
    "polyglot_notebook": {
     "kernelName": "csharp"
    }
   },
   "outputs": [],
   "source": [
    "string pdfPath = \"./document.md\";"
   ]
  },
  {
   "cell_type": "code",
   "execution_count": 12,
   "id": "7351e12d",
   "metadata": {
    "language_info": {
     "name": "polyglot-notebook"
    },
    "polyglot_notebook": {
     "kernelName": "csharp"
    }
   },
   "outputs": [],
   "source": [
    "using System.IO;\n",
    "\n",
    "async Task<Stream> OpenImageStreamAsync(string path)\n",
    "{\n",
    "\treturn await Task.Run(() => File.OpenRead(path));\n",
    "}\n",
    "\n",
    "var pdfStream = await OpenImageStreamAsync(pdfPath);"
   ]
  },
  {
   "cell_type": "code",
   "execution_count": 13,
   "id": "0b6bf484",
   "metadata": {
    "language_info": {
     "name": "polyglot-notebook"
    },
    "polyglot_notebook": {
     "kernelName": "csharp"
    }
   },
   "outputs": [],
   "source": [
    "var persistentAgentsClient = new PersistentAgentsClient(azure_foundry_endpoint, new AzureCliCredential());"
   ]
  },
  {
   "cell_type": "code",
   "execution_count": 14,
   "id": "81e0dddc",
   "metadata": {
    "language_info": {
     "name": "polyglot-notebook"
    },
    "polyglot_notebook": {
     "kernelName": "csharp"
    }
   },
   "outputs": [],
   "source": [
    "PersistentAgentFileInfo fileInfo = await persistentAgentsClient.Files.UploadFileAsync(pdfStream, PersistentAgentFilePurpose.Agents, \"demo.md\");"
   ]
  },
  {
   "cell_type": "code",
   "execution_count": 15,
   "id": "f0c75d80",
   "metadata": {
    "language_info": {
     "name": "polyglot-notebook"
    },
    "polyglot_notebook": {
     "kernelName": "csharp"
    }
   },
   "outputs": [],
   "source": [
    "PersistentAgentsVectorStore fileStore =\n",
    "            await persistentAgentsClient.VectorStores.CreateVectorStoreAsync(\n",
    "                [fileInfo.Id],\n",
    "                metadata: new Dictionary<string, string>() { { \"agentkey\", bool.TrueString } });"
   ]
  },
  {
   "cell_type": "code",
   "execution_count": 16,
   "id": "c77986c5",
   "metadata": {
    "language_info": {
     "name": "polyglot-notebook"
    },
    "polyglot_notebook": {
     "kernelName": "csharp"
    }
   },
   "outputs": [],
   "source": [
    "PersistentAgent agentModel = await persistentAgentsClient.Administration.CreateAgentAsync(\n",
    "            azure_foundry_model_id,\n",
    "            name: \"DotNetRAGAgent\",\n",
    "            tools: [new FileSearchToolDefinition()],\n",
    "            instructions: \"\"\"\n",
    "                You are an AI assistant designed to answer user questions using only the information retrieved from the provided document(s).\n",
    "\n",
    "                - If a user's question cannot be answered using the retrieved context, **you must clearly respond**: \n",
    "                \"I'm sorry, but the uploaded document does not contain the necessary information to answer that question.\"\n",
    "                - Do not answer from general knowledge or reasoning. Do not make assumptions or generate hypothetical explanations.\n",
    "                - Do not provide definitions, tutorials, or commentary that is not explicitly grounded in the content of the uploaded file(s).\n",
    "                - If a user asks a question like \"What is a Neural Network?\", and this is not discussed in the uploaded document, respond as instructed above.\n",
    "                - For questions that do have relevant content in the document (e.g., Contoso's travel insurance coverage), respond accurately, and cite the document explicitly.\n",
    "\n",
    "                You must behave as if you have no external knowledge beyond what is retrieved from the uploaded document.\n",
    "                \"\"\",\n",
    "            toolResources: new()\n",
    "            {\n",
    "                FileSearch = new()\n",
    "                {\n",
    "                    VectorStoreIds = { fileStore.Id },\n",
    "                }\n",
    "            },\n",
    "            metadata: new Dictionary<string, string>() { { \"agentkey\", bool.TrueString } });"
   ]
  },
  {
   "cell_type": "code",
   "execution_count": 17,
   "id": "282326cf",
   "metadata": {
    "language_info": {
     "name": "polyglot-notebook"
    },
    "polyglot_notebook": {
     "kernelName": "csharp"
    }
   },
   "outputs": [],
   "source": [
    "AIAgent agent = await persistentAgentsClient.GetAIAgentAsync(agentModel.Id);"
   ]
  },
  {
   "cell_type": "code",
   "execution_count": 18,
   "id": "2067d313",
   "metadata": {
    "language_info": {
     "name": "polyglot-notebook"
    },
    "polyglot_notebook": {
     "kernelName": "csharp"
    }
   },
   "outputs": [],
   "source": [
    "AgentThread thread = agent.GetNewThread();"
   ]
  },
  {
   "cell_type": "code",
   "execution_count": 19,
   "id": "454c4230",
   "metadata": {
    "language_info": {
     "name": "polyglot-notebook"
    },
    "polyglot_notebook": {
     "kernelName": "csharp"
    }
   },
   "outputs": [
    {
     "name": "stdout",
     "output_type": "stream",
     "text": [
      "Contoso's travel insurance coverage includes protection for medical emergencies, trip cancellations, and lost baggage. This ensures that travelers are supported in case of health-related issues during their trip, unforeseen cancellations, and the loss of their belongings while traveling【4:0†demo.md】.\r\n"
     ]
    }
   ],
   "source": [
    "Console.WriteLine(await agent.RunAsync(\"Can you explain Contoso's travel insurance coverage?\", thread));"
   ]
  },
  {
   "cell_type": "markdown",
   "metadata": {},
   "source": [
    "\n---\n\n**Ansvarsfraskrivelse**:  \nDette dokumentet er oversatt ved hjelp av AI-oversettelsestjenesten [Co-op Translator](https://github.com/Azure/co-op-translator). Selv om vi tilstreber nøyaktighet, vær oppmerksom på at automatiserte oversettelser kan inneholde feil eller unøyaktigheter. Det originale dokumentet på sitt opprinnelige språk bør anses som den autoritative kilden. For kritisk informasjon anbefales profesjonell menneskelig oversettelse. Vi er ikke ansvarlige for eventuelle misforståelser eller feiltolkninger som oppstår ved bruk av denne oversettelsen.\n"
   ]
  }
 ],
 "metadata": {
  "kernelspec": {
   "display_name": ".NET (C#)",
   "language": "C#",
   "name": ".net-csharp"
  },
  "language_info": {
   "name": "polyglot-notebook"
  },
  "polyglot_notebook": {
   "kernelInfo": {
    "defaultKernelName": "csharp",
    "items": [
     {
      "aliases": [],
      "name": "csharp"
     }
    ]
   }
  },
  "coopTranslator": {
   "original_hash": "e4584fa31638009dc6fb665275de8fc2",
   "translation_date": "2025-10-02T15:48:18+00:00",
   "source_file": "05-agentic-rag/code_samples/05-dotnet-agent-framework.ipynb",
   "language_code": "no"
  }
 },
 "nbformat": 4,
 "nbformat_minor": 5
}