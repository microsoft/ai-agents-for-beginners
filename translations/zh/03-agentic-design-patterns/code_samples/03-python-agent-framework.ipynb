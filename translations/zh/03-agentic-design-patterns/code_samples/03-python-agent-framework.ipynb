{
 "cells": [
  {
   "cell_type": "markdown",
   "id": "2012ea09",
   "metadata": {},
   "source": [
    "# 🎨 使用 GitHub 模型的智能代理设计模式 (Python)\n",
    "\n",
    "## 📋 学习目标\n",
    "\n",
    "本笔记本展示了使用 Microsoft Agent Framework 与 GitHub Models 集成构建智能代理的核心设计模式。您将学习经过验证的模式和架构方法，使代理更加健壮、可维护且高效。\n",
    "\n",
    "**涵盖的核心设计模式：**\n",
    "- 🏗️ **代理工厂模式**：标准化的代理创建和配置\n",
    "- 🔧 **工具注册模式**：管理代理功能的有序方法\n",
    "- 🧵 **对话管理**：多轮交互的有效模式\n",
    "- 🔄 **响应处理**：处理代理输出的最佳实践\n",
    "\n",
    "## 🎯 关键架构概念\n",
    "\n",
    "### 设计原则\n",
    "- **关注点分离**：代理逻辑、工具和配置之间的明确界限\n",
    "- **可组合性**：通过可重用组件构建复杂代理\n",
    "- **可扩展性**：允许轻松添加新功能的模式\n",
    "- **可测试性**：设计易于单元测试和验证\n",
    "\n",
    "### GitHub 模型集成\n",
    "- **API 兼容性**：利用与 OpenAI 兼容的端点\n",
    "- **模型选择**：根据不同用例选择合适的模型\n",
    "- **速率限制**：优雅地处理 API 限制\n",
    "- **错误恢复**：健壮的错误处理和重试模式\n",
    "\n",
    "## 🔧 技术架构\n",
    "\n",
    "### 核心组件\n",
    "- **Microsoft Agent Framework**：支持 GitHub Models 的 Python 实现\n",
    "- **GitHub Models API**：访问最先进的语言模型\n",
    "- **OpenAI 客户端模式**：标准化的 API 交互模式\n",
    "- **环境配置**：安全且灵活的配置管理\n",
    "\n",
    "### 设计模式的优势\n",
    "- **可维护性**：清晰的代码组织和结构\n",
    "- **可扩展性**：适应应用需求的模式\n",
    "- **可靠性**：处理边界情况的验证方法\n",
    "- **性能**：高效的资源利用和 API 使用\n",
    "\n",
    "## ⚙️ 前置条件与设置\n",
    "\n",
    "**所需依赖项：**\n",
    "```bash\n",
    "\n",
    "pip install agent-framework-core  -U\n",
    "\n",
    "```\n",
    "\n",
    "**环境配置 (.env 文件)：**\n",
    "```env\n",
    "GITHUB_TOKEN=your_github_personal_access_token\n",
    "GITHUB_ENDPOINT=https://models.inference.ai.azure.com\n",
    "GITHUB_MODEL_ID=gpt-4o-mini\n",
    "```\n",
    "\n",
    "**GitHub 模型访问：**\n",
    "- 拥有模型访问权限的 GitHub 账户\n",
    "- 具有适当权限的个人访问令牌\n",
    "- 了解速率限制和使用模式\n",
    "\n",
    "## 📚 设计模式类别\n",
    "\n",
    "### 1. **创建型模式**\n",
    "- 代理工厂和构建器模式\n",
    "- 配置管理模式\n",
    "- 代理服务的依赖注入\n",
    "\n",
    "### 2. **行为型模式**\n",
    "- 工具执行与编排\n",
    "- 对话流程管理  \n",
    "- 响应处理与格式化\n",
    "\n",
    "### 3. **集成模式**\n",
    "- GitHub Models API 集成\n",
    "- 错误处理与重试逻辑\n",
    "- 资源管理与清理\n",
    "\n",
    "## 🚀 展示的最佳实践\n",
    "\n",
    "- **清晰架构**：分层设计，职责明确\n",
    "- **错误处理**：全面的异常管理\n",
    "- **配置管理**：基于环境的设置，适应不同环境\n",
    "- **测试**：支持有效单元测试和集成测试的模式\n",
    "- **文档**：自解释代码，意图清晰\n",
    "\n",
    "准备好探索专业的代理设计模式了吗？让我们构建一些强大的东西吧！ 🌟\n"
   ]
  },
  {
   "cell_type": "code",
   "execution_count": 1,
   "id": "d9feb817",
   "metadata": {},
   "outputs": [
    {
     "name": "stdout",
     "output_type": "stream",
     "text": [
      "Requirement already satisfied: agent-framework-core in c:\\users\\kinfeylo\\appdata\\local\\miniforge3\\envs\\agentenv\\lib\\site-packages (1.0.0b251001)\n",
      "Requirement already satisfied: openai>=1.99.0 in c:\\users\\kinfeylo\\appdata\\local\\miniforge3\\envs\\agentenv\\lib\\site-packages (from agent-framework-core) (1.106.1)\n",
      "Requirement already satisfied: pydantic<3,>=2 in c:\\users\\kinfeylo\\appdata\\local\\miniforge3\\envs\\agentenv\\lib\\site-packages (from agent-framework-core) (2.11.9)\n",
      "Requirement already satisfied: pydantic-settings<3,>=2 in c:\\users\\kinfeylo\\appdata\\local\\miniforge3\\envs\\agentenv\\lib\\site-packages (from agent-framework-core) (2.10.1)\n",
      "Requirement already satisfied: typing-extensions in c:\\users\\kinfeylo\\appdata\\local\\miniforge3\\envs\\agentenv\\lib\\site-packages (from agent-framework-core) (4.15.0)\n",
      "Requirement already satisfied: opentelemetry-api>=1.24 in c:\\users\\kinfeylo\\appdata\\local\\miniforge3\\envs\\agentenv\\lib\\site-packages (from agent-framework-core) (1.36.0)\n",
      "Requirement already satisfied: opentelemetry-sdk>=1.24 in c:\\users\\kinfeylo\\appdata\\local\\miniforge3\\envs\\agentenv\\lib\\site-packages (from agent-framework-core) (1.36.0)\n",
      "Requirement already satisfied: mcp>=1.13 in c:\\users\\kinfeylo\\appdata\\local\\miniforge3\\envs\\agentenv\\lib\\site-packages (from mcp[ws]>=1.13->agent-framework-core) (1.13.1)\n",
      "Requirement already satisfied: azure-monitor-opentelemetry>=1.7.0 in c:\\users\\kinfeylo\\appdata\\local\\miniforge3\\envs\\agentenv\\lib\\site-packages (from agent-framework-core) (1.8.0)\n",
      "Requirement already satisfied: azure-monitor-opentelemetry-exporter>=1.0.0b41 in c:\\users\\kinfeylo\\appdata\\local\\miniforge3\\envs\\agentenv\\lib\\site-packages (from agent-framework-core) (1.0.0b41)\n",
      "Requirement already satisfied: opentelemetry-exporter-otlp-proto-grpc>=1.36.0 in c:\\users\\kinfeylo\\appdata\\local\\miniforge3\\envs\\agentenv\\lib\\site-packages (from agent-framework-core) (1.36.0)\n",
      "Requirement already satisfied: opentelemetry-semantic-conventions-ai>=0.4.13 in c:\\users\\kinfeylo\\appdata\\local\\miniforge3\\envs\\agentenv\\lib\\site-packages (from agent-framework-core) (0.4.13)\n",
      "Requirement already satisfied: aiofiles>=24.1.0 in c:\\users\\kinfeylo\\appdata\\local\\miniforge3\\envs\\agentenv\\lib\\site-packages (from agent-framework-core) (24.1.0)\n",
      "Requirement already satisfied: azure-identity<2,>=1 in c:\\users\\kinfeylo\\appdata\\local\\miniforge3\\envs\\agentenv\\lib\\site-packages (from agent-framework-core) (1.24.0)\n",
      "Requirement already satisfied: azure-core>=1.31.0 in c:\\users\\kinfeylo\\appdata\\local\\miniforge3\\envs\\agentenv\\lib\\site-packages (from azure-identity<2,>=1->agent-framework-core) (1.35.0)\n",
      "Requirement already satisfied: cryptography>=2.5 in c:\\users\\kinfeylo\\appdata\\local\\miniforge3\\envs\\agentenv\\lib\\site-packages (from azure-identity<2,>=1->agent-framework-core) (45.0.7)\n",
      "Requirement already satisfied: msal>=1.30.0 in c:\\users\\kinfeylo\\appdata\\local\\miniforge3\\envs\\agentenv\\lib\\site-packages (from azure-identity<2,>=1->agent-framework-core) (1.33.0)\n",
      "Requirement already satisfied: msal-extensions>=1.2.0 in c:\\users\\kinfeylo\\appdata\\local\\miniforge3\\envs\\agentenv\\lib\\site-packages (from azure-identity<2,>=1->agent-framework-core) (1.3.1)\n",
      "Requirement already satisfied: annotated-types>=0.6.0 in c:\\users\\kinfeylo\\appdata\\local\\miniforge3\\envs\\agentenv\\lib\\site-packages (from pydantic<3,>=2->agent-framework-core) (0.7.0)\n",
      "Requirement already satisfied: pydantic-core==2.33.2 in c:\\users\\kinfeylo\\appdata\\local\\miniforge3\\envs\\agentenv\\lib\\site-packages (from pydantic<3,>=2->agent-framework-core) (2.33.2)\n",
      "Requirement already satisfied: typing-inspection>=0.4.0 in c:\\users\\kinfeylo\\appdata\\local\\miniforge3\\envs\\agentenv\\lib\\site-packages (from pydantic<3,>=2->agent-framework-core) (0.4.1)\n",
      "Requirement already satisfied: python-dotenv>=0.21.0 in c:\\users\\kinfeylo\\appdata\\local\\miniforge3\\envs\\agentenv\\lib\\site-packages (from pydantic-settings<3,>=2->agent-framework-core) (1.1.1)\n",
      "Requirement already satisfied: requests>=2.21.0 in c:\\users\\kinfeylo\\appdata\\local\\miniforge3\\envs\\agentenv\\lib\\site-packages (from azure-core>=1.31.0->azure-identity<2,>=1->agent-framework-core) (2.32.5)\n",
      "Requirement already satisfied: six>=1.11.0 in c:\\users\\kinfeylo\\appdata\\local\\miniforge3\\envs\\agentenv\\lib\\site-packages (from azure-core>=1.31.0->azure-identity<2,>=1->agent-framework-core) (1.17.0)\n",
      "Requirement already satisfied: azure-core-tracing-opentelemetry~=1.0.0b11 in c:\\users\\kinfeylo\\appdata\\local\\miniforge3\\envs\\agentenv\\lib\\site-packages (from azure-monitor-opentelemetry>=1.7.0->agent-framework-core) (1.0.0b12)\n",
      "Requirement already satisfied: opentelemetry-instrumentation-django~=0.57b0 in c:\\users\\kinfeylo\\appdata\\local\\miniforge3\\envs\\agentenv\\lib\\site-packages (from azure-monitor-opentelemetry>=1.7.0->agent-framework-core) (0.57b0)\n",
      "Requirement already satisfied: opentelemetry-instrumentation-fastapi~=0.57b0 in c:\\users\\kinfeylo\\appdata\\local\\miniforge3\\envs\\agentenv\\lib\\site-packages (from azure-monitor-opentelemetry>=1.7.0->agent-framework-core) (0.57b0)\n",
      "Requirement already satisfied: opentelemetry-instrumentation-flask~=0.57b0 in c:\\users\\kinfeylo\\appdata\\local\\miniforge3\\envs\\agentenv\\lib\\site-packages (from azure-monitor-opentelemetry>=1.7.0->agent-framework-core) (0.57b0)\n",
      "Requirement already satisfied: opentelemetry-instrumentation-psycopg2~=0.57b0 in c:\\users\\kinfeylo\\appdata\\local\\miniforge3\\envs\\agentenv\\lib\\site-packages (from azure-monitor-opentelemetry>=1.7.0->agent-framework-core) (0.57b0)\n",
      "Requirement already satisfied: opentelemetry-instrumentation-requests~=0.57b0 in c:\\users\\kinfeylo\\appdata\\local\\miniforge3\\envs\\agentenv\\lib\\site-packages (from azure-monitor-opentelemetry>=1.7.0->agent-framework-core) (0.57b0)\n",
      "Requirement already satisfied: opentelemetry-instrumentation-urllib~=0.57b0 in c:\\users\\kinfeylo\\appdata\\local\\miniforge3\\envs\\agentenv\\lib\\site-packages (from azure-monitor-opentelemetry>=1.7.0->agent-framework-core) (0.57b0)\n",
      "Requirement already satisfied: opentelemetry-instrumentation-urllib3~=0.57b0 in c:\\users\\kinfeylo\\appdata\\local\\miniforge3\\envs\\agentenv\\lib\\site-packages (from azure-monitor-opentelemetry>=1.7.0->agent-framework-core) (0.57b0)\n",
      "Requirement already satisfied: opentelemetry-resource-detector-azure~=0.1.5 in c:\\users\\kinfeylo\\appdata\\local\\miniforge3\\envs\\agentenv\\lib\\site-packages (from azure-monitor-opentelemetry>=1.7.0->agent-framework-core) (0.1.5)\n",
      "Requirement already satisfied: fixedint==0.1.6 in c:\\users\\kinfeylo\\appdata\\local\\miniforge3\\envs\\agentenv\\lib\\site-packages (from azure-monitor-opentelemetry-exporter>=1.0.0b41->agent-framework-core) (0.1.6)\n",
      "Requirement already satisfied: msrest>=0.6.10 in c:\\users\\kinfeylo\\appdata\\local\\miniforge3\\envs\\agentenv\\lib\\site-packages (from azure-monitor-opentelemetry-exporter>=1.0.0b41->agent-framework-core) (0.7.1)\n",
      "Requirement already satisfied: psutil<8,>=5.9 in c:\\users\\kinfeylo\\appdata\\local\\miniforge3\\envs\\agentenv\\lib\\site-packages (from azure-monitor-opentelemetry-exporter>=1.0.0b41->agent-framework-core) (7.0.0)\n",
      "Requirement already satisfied: importlib-metadata<8.8.0,>=6.0 in c:\\users\\kinfeylo\\appdata\\local\\miniforge3\\envs\\agentenv\\lib\\site-packages (from opentelemetry-api>=1.24->agent-framework-core) (8.7.0)\n",
      "Requirement already satisfied: zipp>=3.20 in c:\\users\\kinfeylo\\appdata\\local\\miniforge3\\envs\\agentenv\\lib\\site-packages (from importlib-metadata<8.8.0,>=6.0->opentelemetry-api>=1.24->agent-framework-core) (3.23.0)\n",
      "Requirement already satisfied: opentelemetry-instrumentation-wsgi==0.57b0 in c:\\users\\kinfeylo\\appdata\\local\\miniforge3\\envs\\agentenv\\lib\\site-packages (from opentelemetry-instrumentation-django~=0.57b0->azure-monitor-opentelemetry>=1.7.0->agent-framework-core) (0.57b0)\n",
      "Requirement already satisfied: opentelemetry-instrumentation==0.57b0 in c:\\users\\kinfeylo\\appdata\\local\\miniforge3\\envs\\agentenv\\lib\\site-packages (from opentelemetry-instrumentation-django~=0.57b0->azure-monitor-opentelemetry>=1.7.0->agent-framework-core) (0.57b0)\n",
      "Requirement already satisfied: opentelemetry-semantic-conventions==0.57b0 in c:\\users\\kinfeylo\\appdata\\local\\miniforge3\\envs\\agentenv\\lib\\site-packages (from opentelemetry-instrumentation-django~=0.57b0->azure-monitor-opentelemetry>=1.7.0->agent-framework-core) (0.57b0)\n",
      "Requirement already satisfied: opentelemetry-util-http==0.57b0 in c:\\users\\kinfeylo\\appdata\\local\\miniforge3\\envs\\agentenv\\lib\\site-packages (from opentelemetry-instrumentation-django~=0.57b0->azure-monitor-opentelemetry>=1.7.0->agent-framework-core) (0.57b0)\n",
      "Requirement already satisfied: packaging>=18.0 in c:\\users\\kinfeylo\\appdata\\local\\miniforge3\\envs\\agentenv\\lib\\site-packages (from opentelemetry-instrumentation==0.57b0->opentelemetry-instrumentation-django~=0.57b0->azure-monitor-opentelemetry>=1.7.0->agent-framework-core) (25.0)\n",
      "Requirement already satisfied: wrapt<2.0.0,>=1.0.0 in c:\\users\\kinfeylo\\appdata\\local\\miniforge3\\envs\\agentenv\\lib\\site-packages (from opentelemetry-instrumentation==0.57b0->opentelemetry-instrumentation-django~=0.57b0->azure-monitor-opentelemetry>=1.7.0->agent-framework-core) (1.17.3)\n",
      "Requirement already satisfied: opentelemetry-instrumentation-asgi==0.57b0 in c:\\users\\kinfeylo\\appdata\\local\\miniforge3\\envs\\agentenv\\lib\\site-packages (from opentelemetry-instrumentation-fastapi~=0.57b0->azure-monitor-opentelemetry>=1.7.0->agent-framework-core) (0.57b0)\n",
      "Requirement already satisfied: asgiref~=3.0 in c:\\users\\kinfeylo\\appdata\\local\\miniforge3\\envs\\agentenv\\lib\\site-packages (from opentelemetry-instrumentation-asgi==0.57b0->opentelemetry-instrumentation-fastapi~=0.57b0->azure-monitor-opentelemetry>=1.7.0->agent-framework-core) (3.9.1)\n",
      "Requirement already satisfied: opentelemetry-instrumentation-dbapi==0.57b0 in c:\\users\\kinfeylo\\appdata\\local\\miniforge3\\envs\\agentenv\\lib\\site-packages (from opentelemetry-instrumentation-psycopg2~=0.57b0->azure-monitor-opentelemetry>=1.7.0->agent-framework-core) (0.57b0)\n",
      "Requirement already satisfied: cffi>=1.14 in c:\\users\\kinfeylo\\appdata\\local\\miniforge3\\envs\\agentenv\\lib\\site-packages (from cryptography>=2.5->azure-identity<2,>=1->agent-framework-core) (1.17.1)\n",
      "Requirement already satisfied: pycparser in c:\\users\\kinfeylo\\appdata\\local\\miniforge3\\envs\\agentenv\\lib\\site-packages (from cffi>=1.14->cryptography>=2.5->azure-identity<2,>=1->agent-framework-core) (2.22)\n",
      "Requirement already satisfied: anyio>=4.5 in c:\\users\\kinfeylo\\appdata\\local\\miniforge3\\envs\\agentenv\\lib\\site-packages (from mcp>=1.13->mcp[ws]>=1.13->agent-framework-core) (4.10.0)\n",
      "Requirement already satisfied: httpx-sse>=0.4 in c:\\users\\kinfeylo\\appdata\\local\\miniforge3\\envs\\agentenv\\lib\\site-packages (from mcp>=1.13->mcp[ws]>=1.13->agent-framework-core) (0.4.1)\n",
      "Requirement already satisfied: httpx>=0.27.1 in c:\\users\\kinfeylo\\appdata\\local\\miniforge3\\envs\\agentenv\\lib\\site-packages (from mcp>=1.13->mcp[ws]>=1.13->agent-framework-core) (0.28.1)\n",
      "Requirement already satisfied: jsonschema>=4.20.0 in c:\\users\\kinfeylo\\appdata\\local\\miniforge3\\envs\\agentenv\\lib\\site-packages (from mcp>=1.13->mcp[ws]>=1.13->agent-framework-core) (4.25.1)\n",
      "Requirement already satisfied: python-multipart>=0.0.9 in c:\\users\\kinfeylo\\appdata\\local\\miniforge3\\envs\\agentenv\\lib\\site-packages (from mcp>=1.13->mcp[ws]>=1.13->agent-framework-core) (0.0.20)\n",
      "Requirement already satisfied: pywin32>=310 in c:\\users\\kinfeylo\\appdata\\local\\miniforge3\\envs\\agentenv\\lib\\site-packages (from mcp>=1.13->mcp[ws]>=1.13->agent-framework-core) (311)\n",
      "Requirement already satisfied: sse-starlette>=1.6.1 in c:\\users\\kinfeylo\\appdata\\local\\miniforge3\\envs\\agentenv\\lib\\site-packages (from mcp>=1.13->mcp[ws]>=1.13->agent-framework-core) (3.0.2)\n",
      "Requirement already satisfied: starlette>=0.27 in c:\\users\\kinfeylo\\appdata\\local\\miniforge3\\envs\\agentenv\\lib\\site-packages (from mcp>=1.13->mcp[ws]>=1.13->agent-framework-core) (0.47.3)\n",
      "Requirement already satisfied: uvicorn>=0.31.1 in c:\\users\\kinfeylo\\appdata\\local\\miniforge3\\envs\\agentenv\\lib\\site-packages (from mcp>=1.13->mcp[ws]>=1.13->agent-framework-core) (0.35.0)\n",
      "Requirement already satisfied: idna>=2.8 in c:\\users\\kinfeylo\\appdata\\local\\miniforge3\\envs\\agentenv\\lib\\site-packages (from anyio>=4.5->mcp>=1.13->mcp[ws]>=1.13->agent-framework-core) (3.10)\n",
      "Requirement already satisfied: sniffio>=1.1 in c:\\users\\kinfeylo\\appdata\\local\\miniforge3\\envs\\agentenv\\lib\\site-packages (from anyio>=4.5->mcp>=1.13->mcp[ws]>=1.13->agent-framework-core) (1.3.1)\n",
      "Requirement already satisfied: certifi in c:\\users\\kinfeylo\\appdata\\local\\miniforge3\\envs\\agentenv\\lib\\site-packages (from httpx>=0.27.1->mcp>=1.13->mcp[ws]>=1.13->agent-framework-core) (2025.8.3)\n",
      "Requirement already satisfied: httpcore==1.* in c:\\users\\kinfeylo\\appdata\\local\\miniforge3\\envs\\agentenv\\lib\\site-packages (from httpx>=0.27.1->mcp>=1.13->mcp[ws]>=1.13->agent-framework-core) (1.0.9)\n",
      "Requirement already satisfied: h11>=0.16 in c:\\users\\kinfeylo\\appdata\\local\\miniforge3\\envs\\agentenv\\lib\\site-packages (from httpcore==1.*->httpx>=0.27.1->mcp>=1.13->mcp[ws]>=1.13->agent-framework-core) (0.16.0)\n",
      "Requirement already satisfied: attrs>=22.2.0 in c:\\users\\kinfeylo\\appdata\\local\\miniforge3\\envs\\agentenv\\lib\\site-packages (from jsonschema>=4.20.0->mcp>=1.13->mcp[ws]>=1.13->agent-framework-core) (25.3.0)\n",
      "Requirement already satisfied: jsonschema-specifications>=2023.03.6 in c:\\users\\kinfeylo\\appdata\\local\\miniforge3\\envs\\agentenv\\lib\\site-packages (from jsonschema>=4.20.0->mcp>=1.13->mcp[ws]>=1.13->agent-framework-core) (2025.4.1)\n",
      "Requirement already satisfied: referencing>=0.28.4 in c:\\users\\kinfeylo\\appdata\\local\\miniforge3\\envs\\agentenv\\lib\\site-packages (from jsonschema>=4.20.0->mcp>=1.13->mcp[ws]>=1.13->agent-framework-core) (0.36.2)\n",
      "Requirement already satisfied: rpds-py>=0.7.1 in c:\\users\\kinfeylo\\appdata\\local\\miniforge3\\envs\\agentenv\\lib\\site-packages (from jsonschema>=4.20.0->mcp>=1.13->mcp[ws]>=1.13->agent-framework-core) (0.27.1)\n",
      "Requirement already satisfied: websockets>=15.0.1 in c:\\users\\kinfeylo\\appdata\\local\\miniforge3\\envs\\agentenv\\lib\\site-packages (from mcp[ws]>=1.13->agent-framework-core) (15.0.1)\n",
      "Requirement already satisfied: PyJWT<3,>=1.0.0 in c:\\users\\kinfeylo\\appdata\\local\\miniforge3\\envs\\agentenv\\lib\\site-packages (from PyJWT[crypto]<3,>=1.0.0->msal>=1.30.0->azure-identity<2,>=1->agent-framework-core) (2.10.1)\n",
      "Requirement already satisfied: charset_normalizer<4,>=2 in c:\\users\\kinfeylo\\appdata\\local\\miniforge3\\envs\\agentenv\\lib\\site-packages (from requests>=2.21.0->azure-core>=1.31.0->azure-identity<2,>=1->agent-framework-core) (3.4.3)\n",
      "Requirement already satisfied: urllib3<3,>=1.21.1 in c:\\users\\kinfeylo\\appdata\\local\\miniforge3\\envs\\agentenv\\lib\\site-packages (from requests>=2.21.0->azure-core>=1.31.0->azure-identity<2,>=1->agent-framework-core) (2.5.0)\n",
      "Requirement already satisfied: isodate>=0.6.0 in c:\\users\\kinfeylo\\appdata\\local\\miniforge3\\envs\\agentenv\\lib\\site-packages (from msrest>=0.6.10->azure-monitor-opentelemetry-exporter>=1.0.0b41->agent-framework-core) (0.7.2)\n",
      "Requirement already satisfied: requests-oauthlib>=0.5.0 in c:\\users\\kinfeylo\\appdata\\local\\miniforge3\\envs\\agentenv\\lib\\site-packages (from msrest>=0.6.10->azure-monitor-opentelemetry-exporter>=1.0.0b41->agent-framework-core) (2.0.0)\n",
      "Requirement already satisfied: distro<2,>=1.7.0 in c:\\users\\kinfeylo\\appdata\\local\\miniforge3\\envs\\agentenv\\lib\\site-packages (from openai>=1.99.0->agent-framework-core) (1.9.0)\n",
      "Requirement already satisfied: jiter<1,>=0.4.0 in c:\\users\\kinfeylo\\appdata\\local\\miniforge3\\envs\\agentenv\\lib\\site-packages (from openai>=1.99.0->agent-framework-core) (0.10.0)\n",
      "Requirement already satisfied: tqdm>4 in c:\\users\\kinfeylo\\appdata\\local\\miniforge3\\envs\\agentenv\\lib\\site-packages (from openai>=1.99.0->agent-framework-core) (4.67.1)\n",
      "Requirement already satisfied: googleapis-common-protos~=1.57 in c:\\users\\kinfeylo\\appdata\\local\\miniforge3\\envs\\agentenv\\lib\\site-packages (from opentelemetry-exporter-otlp-proto-grpc>=1.36.0->agent-framework-core) (1.70.0)\n",
      "Requirement already satisfied: grpcio<2.0.0,>=1.63.2 in c:\\users\\kinfeylo\\appdata\\local\\miniforge3\\envs\\agentenv\\lib\\site-packages (from opentelemetry-exporter-otlp-proto-grpc>=1.36.0->agent-framework-core) (1.74.0)\n",
      "Requirement already satisfied: opentelemetry-exporter-otlp-proto-common==1.36.0 in c:\\users\\kinfeylo\\appdata\\local\\miniforge3\\envs\\agentenv\\lib\\site-packages (from opentelemetry-exporter-otlp-proto-grpc>=1.36.0->agent-framework-core) (1.36.0)\n",
      "Requirement already satisfied: opentelemetry-proto==1.36.0 in c:\\users\\kinfeylo\\appdata\\local\\miniforge3\\envs\\agentenv\\lib\\site-packages (from opentelemetry-exporter-otlp-proto-grpc>=1.36.0->agent-framework-core) (1.36.0)\n",
      "Requirement already satisfied: protobuf<7.0,>=5.0 in c:\\users\\kinfeylo\\appdata\\local\\miniforge3\\envs\\agentenv\\lib\\site-packages (from opentelemetry-proto==1.36.0->opentelemetry-exporter-otlp-proto-grpc>=1.36.0->agent-framework-core) (5.29.5)\n",
      "Requirement already satisfied: oauthlib>=3.0.0 in c:\\users\\kinfeylo\\appdata\\local\\miniforge3\\envs\\agentenv\\lib\\site-packages (from requests-oauthlib>=0.5.0->msrest>=0.6.10->azure-monitor-opentelemetry-exporter>=1.0.0b41->agent-framework-core) (3.3.1)\n",
      "Requirement already satisfied: colorama in c:\\users\\kinfeylo\\appdata\\local\\miniforge3\\envs\\agentenv\\lib\\site-packages (from tqdm>4->openai>=1.99.0->agent-framework-core) (0.4.6)\n",
      "Requirement already satisfied: click>=7.0 in c:\\users\\kinfeylo\\appdata\\local\\miniforge3\\envs\\agentenv\\lib\\site-packages (from uvicorn>=0.31.1->mcp>=1.13->mcp[ws]>=1.13->agent-framework-core) (8.2.1)\n"
     ]
    }
   ],
   "source": [
    "! pip install agent-framework-core  -U"
   ]
  },
  {
   "cell_type": "code",
   "execution_count": 2,
   "id": "c0df8a52",
   "metadata": {},
   "outputs": [],
   "source": [
    "# 📦 Import Core Libraries for Agent Design Patterns\n",
    "import os                     # Environment variable access for configuration management\n",
    "from random import randint    # Random selection utilities for tool functionality\n",
    "\n",
    "from dotenv import load_dotenv  # Secure environment configuration loading"
   ]
  },
  {
   "cell_type": "code",
   "execution_count": 3,
   "id": "151e0314",
   "metadata": {},
   "outputs": [],
   "source": [
    "# 🤖 Import Microsoft Agent Framework Components  \n",
    "# ChatAgent: Core agent orchestration class following factory pattern\n",
    "# OpenAIChatClient: GitHub Models integration following adapter pattern\n",
    "from agent_framework import ChatAgent\n",
    "from agent_framework.openai import OpenAIChatClient"
   ]
  },
  {
   "cell_type": "code",
   "execution_count": 4,
   "id": "a6141584",
   "metadata": {},
   "outputs": [
    {
     "data": {
      "text/plain": [
       "True"
      ]
     },
     "execution_count": 4,
     "metadata": {},
     "output_type": "execute_result"
    }
   ],
   "source": [
    "# 🔧 Configuration Loading Pattern\n",
    "# Implement configuration management pattern for secure credential handling\n",
    "# This follows the external configuration principle for cloud-native applications\n",
    "load_dotenv()"
   ]
  },
  {
   "cell_type": "code",
   "execution_count": 5,
   "id": "a6507f83",
   "metadata": {},
   "outputs": [],
   "source": [
    "# 🛠️ Tool Function Design Pattern\n",
    "# Implements the Strategy Pattern for pluggable agent capabilities\n",
    "# This demonstrates clean separation of business logic from agent orchestration\n",
    "def get_random_destination() -> str:\n",
    "    \"\"\"Get a random vacation destination using Repository Pattern.\n",
    "    \n",
    "    This function exemplifies several design patterns:\n",
    "    - Strategy Pattern: Interchangeable algorithm for destination selection\n",
    "    - Repository Pattern: Encapsulates data access logic\n",
    "    - Factory Method: Creates destination objects on demand\n",
    "    \n",
    "    Returns:\n",
    "        str: A randomly selected destination following consistent format\n",
    "    \"\"\"\n",
    "    # Data Repository Pattern: Centralized destination data management\n",
    "    destinations = [\n",
    "        \"Barcelona, Spain\",      # Mediterranean cultural hub\n",
    "        \"Paris, France\",         # European artistic center\n",
    "        \"Berlin, Germany\",       # Historical European capital\n",
    "        \"Tokyo, Japan\",          # Asian technology metropolis\n",
    "        \"Sydney, Australia\",     # Oceanic coastal city\n",
    "        \"New York, USA\",         # American urban center\n",
    "        \"Cairo, Egypt\",          # African historical capital\n",
    "        \"Cape Town, South Africa\", # African scenic destination\n",
    "        \"Rio de Janeiro, Brazil\",  # South American beach city\n",
    "        \"Bali, Indonesia\"          # Southeast Asian island paradise\n",
    "    ]\n",
    "    \n",
    "    # Factory Method Pattern: Create destination selection on demand\n",
    "    return destinations[randint(0, len(destinations) - 1)]"
   ]
  },
  {
   "cell_type": "code",
   "execution_count": 6,
   "id": "5d4f0568",
   "metadata": {},
   "outputs": [],
   "source": [
    "openai_chat_client = OpenAIChatClient(base_url=os.environ.get(\"GITHUB_ENDPOINT\"), api_key=os.environ.get(\"GITHUB_TOKEN\"), model_id=os.environ.get(\"GITHUB_MODEL_ID\"))"
   ]
  },
  {
   "cell_type": "code",
   "execution_count": 7,
   "id": "751668c5",
   "metadata": {},
   "outputs": [],
   "source": [
    "AGENT_NAME =\"TravelAgent\"\n",
    "\n",
    "AGENT_INSTRUCTIONS = \"\"\"You are a helpful AI Agent that can help plan vacations for customers.\n",
    "\n",
    "Important: When users specify a destination, always plan for that location. Only suggest random destinations when the user hasn't specified a preference.\n",
    "\n",
    "When the conversation begins, introduce yourself with this message:\n",
    "\"Hello! I'm your TravelAgent assistant. I can help plan vacations and suggest interesting destinations for you. Here are some things you can ask me:\n",
    "1. Plan a day trip to a specific location\n",
    "2. Suggest a random vacation destination\n",
    "3. Find destinations with specific features (beaches, mountains, historical sites, etc.)\n",
    "4. Plan an alternative trip if you don't like my first suggestion\n",
    "\n",
    "What kind of trip would you like me to help you plan today?\"\n",
    "\n",
    "Always prioritize user preferences. If they mention a specific destination like \"Bali\" or \"Paris,\" focus your planning on that location rather than suggesting alternatives.\n",
    "\"\"\""
   ]
  },
  {
   "cell_type": "code",
   "execution_count": 8,
   "id": "cf5a4800",
   "metadata": {},
   "outputs": [],
   "source": [
    "agent = ChatAgent(\n",
    "        name = AGENT_NAME,\n",
    "        chat_client=openai_chat_client,\n",
    "        instructions=AGENT_INSTRUCTIONS,\n",
    "        tools=[get_random_destination]\n",
    ")"
   ]
  },
  {
   "cell_type": "code",
   "execution_count": 9,
   "id": "be18ac4f",
   "metadata": {},
   "outputs": [],
   "source": [
    "thread = agent.get_new_thread()"
   ]
  },
  {
   "cell_type": "code",
   "execution_count": 10,
   "id": "772e9481",
   "metadata": {},
   "outputs": [],
   "source": [
    "response1 = await agent.run(\"Plan me a day trip\",thread= thread)"
   ]
  },
  {
   "cell_type": "code",
   "execution_count": 11,
   "id": "a731b547",
   "metadata": {},
   "outputs": [
    {
     "name": "stdout",
     "output_type": "stream",
     "text": [
      "Travel plan:\n",
      "Hello! I'm your TravelAgent assistant. I can help plan vacations and suggest interesting destinations for you. Here are some things you can ask me:\n",
      "1. Plan a day trip to a specific location\n",
      "2. Suggest a random vacation destination\n",
      "3. Find destinations with specific features (beaches, mountains, historical sites, etc.)\n",
      "4. Plan an alternative trip if you don't like my first suggestion\n",
      "\n",
      "What kind of trip would you like me to help you plan today? Could you please specify a destination for your day trip?\n"
     ]
    }
   ],
   "source": [
    "\n",
    "last_message = response1.messages[-1]\n",
    "text_content = last_message.contents[0].text\n",
    "print(\"Travel plan:\")\n",
    "print(text_content)"
   ]
  },
  {
   "cell_type": "code",
   "execution_count": 12,
   "id": "7d3fe00a",
   "metadata": {},
   "outputs": [],
   "source": [
    "response2 = await agent.run(\"I don't like that destination. Plan me another vacation.\",thread= thread)"
   ]
  },
  {
   "cell_type": "code",
   "execution_count": 13,
   "id": "ba50c92d",
   "metadata": {},
   "outputs": [
    {
     "name": "stdout",
     "output_type": "stream",
     "text": [
      "Change plan:\n",
      "Could you please specify a location or type of vacation you're interested in? This will help me find the perfect place for you!\n"
     ]
    }
   ],
   "source": [
    "last_message = response2.messages[-1]\n",
    "text_content = last_message.contents[0].text\n",
    "print(\"Change plan:\")\n",
    "print(text_content)"
   ]
  },
  {
   "cell_type": "markdown",
   "metadata": {},
   "source": [
    "\n---\n\n**免责声明**：  \n本文档使用AI翻译服务 [Co-op Translator](https://github.com/Azure/co-op-translator) 进行翻译。尽管我们努力确保翻译的准确性，但请注意，自动翻译可能包含错误或不准确之处。原始语言的文档应被视为权威来源。对于关键信息，建议使用专业人工翻译。我们对因使用此翻译而产生的任何误解或误读不承担责任。\n"
   ]
  }
 ],
 "metadata": {
  "kernelspec": {
   "display_name": "agentenv",
   "language": "python",
   "name": "python3"
  },
  "language_info": {
   "codemirror_mode": {
    "name": "ipython",
    "version": 3
   },
   "file_extension": ".py",
   "mimetype": "text/x-python",
   "name": "python",
   "nbconvert_exporter": "python",
   "pygments_lexer": "ipython3",
   "version": "3.12.10"
  },
  "polyglot_notebook": {
   "kernelInfo": {
    "defaultKernelName": "csharp",
    "items": [
     {
      "aliases": [],
      "name": "csharp"
     }
    ]
   }
  },
  "coopTranslator": {
   "original_hash": "ab13fd3214255aabb9867a23a1db3704",
   "translation_date": "2025-10-01T21:09:57+00:00",
   "source_file": "03-agentic-design-patterns/code_samples/03-python-agent-framework.ipynb",
   "language_code": "zh"
  }
 },
 "nbformat": 4,
 "nbformat_minor": 5
}