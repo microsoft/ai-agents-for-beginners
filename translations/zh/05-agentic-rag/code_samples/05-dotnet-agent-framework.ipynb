{
 "cells": [
  {
   "cell_type": "markdown",
   "id": "44b5899e",
   "metadata": {},
   "source": [
    "# 🔍 使用 Azure AI Foundry 构建企业级 RAG (.NET)\n",
    "\n",
    "## 📋 学习目标\n",
    "\n",
    "本笔记本展示了如何使用 Microsoft Agent Framework 和 Azure AI Foundry 在 .NET 中构建企业级的检索增强生成 (RAG) 系统。您将学习如何创建生产级代理，这些代理能够搜索文档并提供准确、上下文相关的响应，同时具备企业级的安全性和可扩展性。\n",
    "\n",
    "**您将构建的企业级 RAG 功能：**\n",
    "- 📚 **文档智能**：通过 Azure AI 服务进行高级文档处理\n",
    "- 🔍 **语义搜索**：具有企业功能的高性能向量搜索\n",
    "- 🛡️ **安全集成**：基于角色的访问和数据保护模式\n",
    "- 🏢 **可扩展架构**：具有监控功能的生产级 RAG 系统\n",
    "\n",
    "## 🎯 企业级 RAG 架构\n",
    "\n",
    "### 核心企业组件\n",
    "- **Azure AI Foundry**：具有安全性和合规性的托管企业 AI 平台\n",
    "- **持久化代理**：具有会话历史和上下文管理的有状态代理\n",
    "- **向量存储管理**：企业级文档索引和检索\n",
    "- **身份集成**：Azure AD 身份验证和基于角色的访问控制\n",
    "\n",
    "### .NET 企业优势\n",
    "- **类型安全**：对 RAG 操作和数据结构进行编译时验证\n",
    "- **异步性能**：非阻塞的文档处理和搜索操作\n",
    "- **内存管理**：针对大型文档集合的高效资源利用\n",
    "- **集成模式**：与 Azure 服务的原生集成，支持依赖注入\n",
    "\n",
    "## 🏗️ 技术架构\n",
    "\n",
    "### 企业级 RAG 流程\n",
    "```csharp\n",
    "Document Upload → Security Validation → Vector Processing → Index Creation\n",
    "                      ↓                    ↓                  ↓\n",
    "User Query → Authentication → Semantic Search → Context Ranking → AI Response\n",
    "```\n",
    "\n",
    "### 核心 .NET 组件\n",
    "- **Azure.AI.Agents.Persistent**：具有状态持久性的企业代理管理\n",
    "- **Azure.Identity**：集成身份验证以安全访问 Azure 服务\n",
    "- **Microsoft.Agents.AI.AzureAI**：优化 Azure 的代理框架实现\n",
    "- **System.Linq.Async**：高性能异步 LINQ 操作\n",
    "\n",
    "## 🔧 企业功能与优势\n",
    "\n",
    "### 安全性与合规性\n",
    "- **Azure AD 集成**：企业身份管理和身份验证\n",
    "- **基于角色的访问**：对文档访问和操作的细粒度权限控制\n",
    "- **数据保护**：对敏感文档进行静态和传输加密\n",
    "- **审计日志**：全面的活动跟踪以满足合规要求\n",
    "\n",
    "### 性能与可扩展性\n",
    "- **连接池**：高效的 Azure 服务连接管理\n",
    "- **异步处理**：适用于高吞吐量场景的非阻塞操作\n",
    "- **缓存策略**：针对频繁访问的文档进行智能缓存\n",
    "- **负载均衡**：适用于大规模部署的分布式处理\n",
    "\n",
    "### 管理与监控\n",
    "- **健康检查**：内置的 RAG 系统组件监控\n",
    "- **性能指标**：关于搜索质量和响应时间的详细分析\n",
    "- **错误处理**：全面的异常管理和重试策略\n",
    "- **配置管理**：具有验证功能的环境特定设置\n",
    "\n",
    "## ⚙️ 前提条件与设置\n",
    "\n",
    "**开发环境：**\n",
    "- .NET 9.0 SDK 或更高版本\n",
    "- Visual Studio 2022 或安装了 C# 扩展的 VS Code\n",
    "- 具有 AI Foundry 访问权限的 Azure 订阅\n",
    "\n",
    "**所需的 NuGet 包：**\n",
    "```xml\n",
    "<PackageReference Include=\"Microsoft.Extensions.AI\" Version=\"9.9.0\" />\n",
    "<PackageReference Include=\"Azure.AI.Agents.Persistent\" Version=\"1.2.0-beta.5\" />\n",
    "<PackageReference Include=\"Azure.Identity\" Version=\"1.15.0\" />\n",
    "<PackageReference Include=\"System.Linq.Async\" Version=\"6.0.3\" />\n",
    "<PackageReference Include=\"DotNetEnv\" Version=\"3.1.1\" />\n",
    "```\n",
    "\n",
    "**Azure 身份验证设置：**\n",
    "```bash\n",
    "# Install Azure CLI and authenticate\n",
    "az login\n",
    "az account set --subscription \"your-subscription-id\"\n",
    "```\n",
    "\n",
    "**环境配置 (.env 文件)：**\n",
    "```env\n",
    "# Azure AI Foundry configuration (automatically handled via Azure CLI)\n",
    "# Ensure you're authenticated to the correct Azure subscription\n",
    "```\n",
    "\n",
    "## 📊 企业级 RAG 模式\n",
    "\n",
    "### 文档管理模式\n",
    "- **批量上传**：高效处理大型文档集合\n",
    "- **增量更新**：实时添加和修改文档\n",
    "- **版本控制**：文档版本管理和变更跟踪\n",
    "- **元数据管理**：丰富的文档属性和分类体系\n",
    "\n",
    "### 搜索与检索模式\n",
    "- **混合搜索**：结合语义和关键词搜索以获得最佳结果\n",
    "- **分面搜索**：多维过滤和分类\n",
    "- **相关性调优**：针对特定领域需求的自定义评分算法\n",
    "- **结果排序**：结合业务逻辑的高级排序\n",
    "\n",
    "### 安全模式\n",
    "- **文档级安全**：每个文档的细粒度访问控制\n",
    "- **数据分类**：自动敏感性标记和保护\n",
    "- **审计跟踪**：所有 RAG 操作的全面日志记录\n",
    "- **隐私保护**：PII 检测和数据脱敏功能\n",
    "\n",
    "## 🔒 企业安全功能\n",
    "\n",
    "### 身份验证与授权\n",
    "```csharp\n",
    "// Azure AD integrated authentication\n",
    "var credential = new AzureCliCredential();\n",
    "var agentsClient = new PersistentAgentsClient(endpoint, credential);\n",
    "\n",
    "// Role-based access validation\n",
    "if (!await ValidateUserPermissions(user, documentId))\n",
    "{\n",
    "    throw new UnauthorizedAccessException(\"Insufficient permissions\");\n",
    "}\n",
    "```\n",
    "\n",
    "### 数据保护\n",
    "- **加密**：文档和搜索索引的端到端加密\n",
    "- **访问控制**：与 Azure AD 集成的用户和组权限管理\n",
    "- **数据驻留**：符合合规要求的地理数据位置控制\n",
    "- **备份与恢复**：自动化备份和灾难恢复功能\n",
    "\n",
    "## 📈 性能优化\n",
    "\n",
    "### 异步处理模式\n",
    "```csharp\n",
    "// Efficient async document processing\n",
    "await foreach (var document in documentStream.AsAsyncEnumerable())\n",
    "{\n",
    "    await ProcessDocumentAsync(document, cancellationToken);\n",
    "}\n",
    "```\n",
    "\n",
    "### 内存管理\n",
    "- **流式处理**：处理大型文档而不会出现内存问题\n",
    "- **资源池化**：高效重用昂贵资源\n",
    "- **垃圾回收**：优化的内存分配模式\n",
    "- **连接管理**：正确的 Azure 服务连接生命周期\n",
    "\n",
    "### 缓存策略\n",
    "- **查询缓存**：缓存频繁执行的搜索\n",
    "- **文档缓存**：针对热点文档的内存缓存\n",
    "- **索引缓存**：优化的向量索引缓存\n",
    "- **结果缓存**：智能缓存生成的响应\n",
    "\n",
    "## 📊 企业应用场景\n",
    "\n",
    "### 知识管理\n",
    "- **企业 Wiki**：智能搜索公司知识库\n",
    "- **政策与流程**：自动化合规和流程指导\n",
    "- **培训材料**：智能学习与发展辅助\n",
    "- **研究数据库**：学术和研究论文分析系统\n",
    "\n",
    "### 客户支持\n",
    "- **支持知识库**：自动化客户服务响应\n",
    "- **产品文档**：智能产品信息检索\n",
    "- **故障排除指南**：上下文相关的问题解决辅助\n",
    "- **FAQ 系统**：从文档集合动态生成 FAQ\n",
    "\n",
    "### 合规监管\n",
    "- **法律文档分析**：合同和法律文档智能处理\n",
    "- **合规监控**：自动化监管合规检查\n",
    "- **风险评估**：基于文档的风险分析和报告\n",
    "- **审计支持**：智能文档发现以支持审计\n",
    "\n",
    "## 🚀 生产部署\n",
    "\n",
    "### 监控与可观察性\n",
    "- **应用洞察**：详细的遥测和性能监控\n",
    "- **自定义指标**：业务特定的 KPI 跟踪和警报\n",
    "- **分布式追踪**：跨服务的端到端请求跟踪\n",
    "- **健康仪表板**：实时系统健康和性能可视化\n",
    "\n",
    "### 可扩展性与可靠性\n",
    "- **自动扩展**：基于负载和性能指标的自动扩展\n",
    "- **高可用性**：具有故障转移功能的多区域部署\n",
    "- **负载测试**：在企业负载条件下进行性能验证\n",
    "- **灾难恢复**：自动化备份和恢复程序\n",
    "\n",
    "准备好构建能够处理敏感文档的企业级 RAG 系统了吗？让我们为企业架构智能知识系统吧！ 🏢📖✨\n"
   ]
  },
  {
   "cell_type": "code",
   "execution_count": 1,
   "metadata": {
    "language_info": {
     "name": "polyglot-notebook"
    },
    "polyglot_notebook": {
     "kernelName": "csharp"
    }
   },
   "outputs": [
    {
     "data": {
      "text/html": [
       "<div><div></div><div></div><div><strong>Installed Packages</strong><ul><li><span>Microsoft.Extensions.AI, 9.9.1</span></li></ul></div></div>"
      ]
     },
     "metadata": {},
     "output_type": "display_data"
    }
   ],
   "source": [
    "#r \"nuget: Microsoft.Extensions.AI, 9.9.1\""
   ]
  },
  {
   "cell_type": "code",
   "execution_count": 2,
   "id": "4ec1f0d1",
   "metadata": {
    "language_info": {
     "name": "polyglot-notebook"
    },
    "polyglot_notebook": {
     "kernelName": "csharp"
    }
   },
   "outputs": [
    {
     "data": {
      "text/html": [
       "<div><div></div><div></div><div><strong>Installed Packages</strong><ul><li><span>Azure.AI.Agents.Persistent, 1.2.0-beta.5</span></li><li><span>Azure.Identity, 1.15.0</span></li><li><span>System.Linq.Async, 6.0.3</span></li></ul></div></div>"
      ]
     },
     "metadata": {},
     "output_type": "display_data"
    }
   ],
   "source": [
    "#r \"nuget: Azure.AI.Agents.Persistent, 1.2.0-beta.5\"\n",
    "#r \"nuget: Azure.Identity, 1.15.0\"\n",
    "#r \"nuget: System.Linq.Async, 6.0.3\""
   ]
  },
  {
   "cell_type": "code",
   "execution_count": 3,
   "id": "2363ae07",
   "metadata": {
    "language_info": {
     "name": "polyglot-notebook"
    },
    "polyglot_notebook": {
     "kernelName": "csharp"
    }
   },
   "outputs": [],
   "source": []
  },
  {
   "cell_type": "code",
   "execution_count": null,
   "id": "d10cec9d",
   "metadata": {
    "language_info": {
     "name": "polyglot-notebook"
    },
    "polyglot_notebook": {
     "kernelName": "csharp"
    }
   },
   "outputs": [
    {
     "data": {
      "text/html": [
       "<div><div></div><div></div><div><strong>Installed Packages</strong><ul><li><span>Microsoft.Agents.AI.AzureAI, 1.0.0-preview.251001.2</span></li></ul></div></div>"
      ]
     },
     "metadata": {},
     "output_type": "display_data"
    }
   ],
   "source": [
    "#r \"nuget: Microsoft.Agents.AI.AzureAI, 1.0.0-preview.251001.3\""
   ]
  },
  {
   "cell_type": "code",
   "execution_count": null,
   "id": "78199d1c",
   "metadata": {
    "language_info": {
     "name": "polyglot-notebook"
    },
    "polyglot_notebook": {
     "kernelName": "csharp"
    }
   },
   "outputs": [
    {
     "data": {
      "text/html": [
       "<div><div></div><div></div><div><strong>Installed Packages</strong><ul><li><span>microsoft.agents.ai, 1.0.0-preview.251001.2</span></li></ul></div></div>"
      ]
     },
     "metadata": {},
     "output_type": "display_data"
    }
   ],
   "source": [
    "#r \"nuget: Microsoft.Agents.AI, 1.0.0-preview.251001.3\""
   ]
  },
  {
   "cell_type": "code",
   "execution_count": 6,
   "id": "7de4684a",
   "metadata": {
    "language_info": {
     "name": "polyglot-notebook"
    },
    "polyglot_notebook": {
     "kernelName": "csharp"
    }
   },
   "outputs": [
    {
     "data": {
      "text/html": [
       "<div><div></div><div></div><div><strong>Installed Packages</strong><ul><li><span>DotNetEnv, 3.1.1</span></li></ul></div></div>"
      ]
     },
     "metadata": {},
     "output_type": "display_data"
    }
   ],
   "source": [
    "#r \"nuget: DotNetEnv, 3.1.1\""
   ]
  },
  {
   "cell_type": "code",
   "execution_count": 7,
   "id": "251efd31",
   "metadata": {
    "language_info": {
     "name": "polyglot-notebook"
    },
    "polyglot_notebook": {
     "kernelName": "csharp"
    }
   },
   "outputs": [],
   "source": [
    "using System;\n",
    "using System.Linq;\n",
    "using Azure.AI.Agents.Persistent;\n",
    "using Azure.Identity;\n",
    "using Microsoft.Agents.AI;"
   ]
  },
  {
   "cell_type": "code",
   "execution_count": 8,
   "id": "a2e342f1",
   "metadata": {
    "language_info": {
     "name": "polyglot-notebook"
    },
    "polyglot_notebook": {
     "kernelName": "csharp"
    }
   },
   "outputs": [],
   "source": [
    " using DotNetEnv;"
   ]
  },
  {
   "cell_type": "code",
   "execution_count": 9,
   "id": "a7a01653",
   "metadata": {
    "language_info": {
     "name": "polyglot-notebook"
    },
    "polyglot_notebook": {
     "kernelName": "csharp"
    }
   },
   "outputs": [],
   "source": [
    "Env.Load(\"../../../.env\");"
   ]
  },
  {
   "cell_type": "code",
   "execution_count": 10,
   "id": "a42735d5",
   "metadata": {
    "language_info": {
     "name": "polyglot-notebook"
    },
    "polyglot_notebook": {
     "kernelName": "csharp"
    }
   },
   "outputs": [],
   "source": [
    "var azure_foundry_endpoint = Environment.GetEnvironmentVariable(\"AZURE_AI_PROJECT_ENDPOINT\") ?? throw new InvalidOperationException(\"AZURE_AI_PROJECT_ENDPOINT is not set.\");\n",
    "var azure_foundry_model_id = Environment.GetEnvironmentVariable(\"AZURE_AI_MODEL_DEPLOYMENT_NAME\") ?? \"gpt-4.1-mini\";"
   ]
  },
  {
   "cell_type": "code",
   "execution_count": 11,
   "id": "e29bdb58",
   "metadata": {
    "language_info": {
     "name": "polyglot-notebook"
    },
    "polyglot_notebook": {
     "kernelName": "csharp"
    }
   },
   "outputs": [],
   "source": [
    "string pdfPath = \"./document.md\";"
   ]
  },
  {
   "cell_type": "code",
   "execution_count": 12,
   "id": "7351e12d",
   "metadata": {
    "language_info": {
     "name": "polyglot-notebook"
    },
    "polyglot_notebook": {
     "kernelName": "csharp"
    }
   },
   "outputs": [],
   "source": [
    "using System.IO;\n",
    "\n",
    "async Task<Stream> OpenImageStreamAsync(string path)\n",
    "{\n",
    "\treturn await Task.Run(() => File.OpenRead(path));\n",
    "}\n",
    "\n",
    "var pdfStream = await OpenImageStreamAsync(pdfPath);"
   ]
  },
  {
   "cell_type": "code",
   "execution_count": 13,
   "id": "0b6bf484",
   "metadata": {
    "language_info": {
     "name": "polyglot-notebook"
    },
    "polyglot_notebook": {
     "kernelName": "csharp"
    }
   },
   "outputs": [],
   "source": [
    "var persistentAgentsClient = new PersistentAgentsClient(azure_foundry_endpoint, new AzureCliCredential());"
   ]
  },
  {
   "cell_type": "code",
   "execution_count": 14,
   "id": "81e0dddc",
   "metadata": {
    "language_info": {
     "name": "polyglot-notebook"
    },
    "polyglot_notebook": {
     "kernelName": "csharp"
    }
   },
   "outputs": [],
   "source": [
    "PersistentAgentFileInfo fileInfo = await persistentAgentsClient.Files.UploadFileAsync(pdfStream, PersistentAgentFilePurpose.Agents, \"demo.md\");"
   ]
  },
  {
   "cell_type": "code",
   "execution_count": 15,
   "id": "f0c75d80",
   "metadata": {
    "language_info": {
     "name": "polyglot-notebook"
    },
    "polyglot_notebook": {
     "kernelName": "csharp"
    }
   },
   "outputs": [],
   "source": [
    "PersistentAgentsVectorStore fileStore =\n",
    "            await persistentAgentsClient.VectorStores.CreateVectorStoreAsync(\n",
    "                [fileInfo.Id],\n",
    "                metadata: new Dictionary<string, string>() { { \"agentkey\", bool.TrueString } });"
   ]
  },
  {
   "cell_type": "code",
   "execution_count": 16,
   "id": "c77986c5",
   "metadata": {
    "language_info": {
     "name": "polyglot-notebook"
    },
    "polyglot_notebook": {
     "kernelName": "csharp"
    }
   },
   "outputs": [],
   "source": [
    "PersistentAgent agentModel = await persistentAgentsClient.Administration.CreateAgentAsync(\n",
    "            azure_foundry_model_id,\n",
    "            name: \"DotNetRAGAgent\",\n",
    "            tools: [new FileSearchToolDefinition()],\n",
    "            instructions: \"\"\"\n",
    "                You are an AI assistant designed to answer user questions using only the information retrieved from the provided document(s).\n",
    "\n",
    "                - If a user's question cannot be answered using the retrieved context, **you must clearly respond**: \n",
    "                \"I'm sorry, but the uploaded document does not contain the necessary information to answer that question.\"\n",
    "                - Do not answer from general knowledge or reasoning. Do not make assumptions or generate hypothetical explanations.\n",
    "                - Do not provide definitions, tutorials, or commentary that is not explicitly grounded in the content of the uploaded file(s).\n",
    "                - If a user asks a question like \"What is a Neural Network?\", and this is not discussed in the uploaded document, respond as instructed above.\n",
    "                - For questions that do have relevant content in the document (e.g., Contoso's travel insurance coverage), respond accurately, and cite the document explicitly.\n",
    "\n",
    "                You must behave as if you have no external knowledge beyond what is retrieved from the uploaded document.\n",
    "                \"\"\",\n",
    "            toolResources: new()\n",
    "            {\n",
    "                FileSearch = new()\n",
    "                {\n",
    "                    VectorStoreIds = { fileStore.Id },\n",
    "                }\n",
    "            },\n",
    "            metadata: new Dictionary<string, string>() { { \"agentkey\", bool.TrueString } });"
   ]
  },
  {
   "cell_type": "code",
   "execution_count": 17,
   "id": "282326cf",
   "metadata": {
    "language_info": {
     "name": "polyglot-notebook"
    },
    "polyglot_notebook": {
     "kernelName": "csharp"
    }
   },
   "outputs": [],
   "source": [
    "AIAgent agent = await persistentAgentsClient.GetAIAgentAsync(agentModel.Id);"
   ]
  },
  {
   "cell_type": "code",
   "execution_count": 18,
   "id": "2067d313",
   "metadata": {
    "language_info": {
     "name": "polyglot-notebook"
    },
    "polyglot_notebook": {
     "kernelName": "csharp"
    }
   },
   "outputs": [],
   "source": [
    "AgentThread thread = agent.GetNewThread();"
   ]
  },
  {
   "cell_type": "code",
   "execution_count": 19,
   "id": "454c4230",
   "metadata": {
    "language_info": {
     "name": "polyglot-notebook"
    },
    "polyglot_notebook": {
     "kernelName": "csharp"
    }
   },
   "outputs": [
    {
     "name": "stdout",
     "output_type": "stream",
     "text": [
      "Contoso's travel insurance coverage includes protection for medical emergencies, trip cancellations, and lost baggage. This ensures that travelers are supported in case of health-related issues during their trip, unforeseen cancellations, and the loss of their belongings while traveling【4:0†demo.md】.\r\n"
     ]
    }
   ],
   "source": [
    "Console.WriteLine(await agent.RunAsync(\"Can you explain Contoso's travel insurance coverage?\", thread));"
   ]
  },
  {
   "cell_type": "markdown",
   "metadata": {},
   "source": [
    "\n---\n\n**免责声明**：  \n本文档使用AI翻译服务 [Co-op Translator](https://github.com/Azure/co-op-translator) 进行翻译。尽管我们努力确保翻译的准确性，但请注意，自动翻译可能包含错误或不准确之处。原始语言的文档应被视为权威来源。对于关键信息，建议使用专业人工翻译。因使用本翻译而引起的任何误解或误读，我们概不负责。\n"
   ]
  }
 ],
 "metadata": {
  "kernelspec": {
   "display_name": ".NET (C#)",
   "language": "C#",
   "name": ".net-csharp"
  },
  "language_info": {
   "name": "polyglot-notebook"
  },
  "polyglot_notebook": {
   "kernelInfo": {
    "defaultKernelName": "csharp",
    "items": [
     {
      "aliases": [],
      "name": "csharp"
     }
    ]
   }
  },
  "coopTranslator": {
   "original_hash": "e4584fa31638009dc6fb665275de8fc2",
   "translation_date": "2025-10-01T20:43:18+00:00",
   "source_file": "05-agentic-rag/code_samples/05-dotnet-agent-framework.ipynb",
   "language_code": "zh"
  }
 },
 "nbformat": 4,
 "nbformat_minor": 5
}