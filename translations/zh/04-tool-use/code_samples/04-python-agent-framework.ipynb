{
 "cells": [
  {
   "cell_type": "markdown",
   "id": "8744544f",
   "metadata": {},
   "source": [
    "# 🛠️ 使用 GitHub 模型进行高级工具操作（Python）\n",
    "\n",
    "## 📋 学习目标\n",
    "\n",
    "本笔记本展示了使用 Microsoft Agent Framework 和 GitHub 模型进行高级工具集成的模式。您将学习如何创建、管理和协调多个工具，以构建复杂的代理功能。\n",
    "\n",
    "**您将掌握的内容：**\n",
    "- 🔧 **多工具架构**：构建具有多个专用工具的代理\n",
    "- 🎯 **工具选择逻辑**：代理如何为每项任务选择合适的工具\n",
    "- 📊 **数据处理工具**：创建处理不同数据类型的工具\n",
    "- 🔗 **工具组合**：将工具结合起来实现复杂的工作流\n",
    "\n",
    "## 🎯 关键工具模式\n",
    "\n",
    "### 工具设计原则\n",
    "- **单一职责**：每个工具都有明确且专注的用途\n",
    "- **类型安全**：强类型以确保工具执行的可靠性\n",
    "- **错误处理**：优雅的失败和恢复模式\n",
    "- **可组合性**：工具能够很好地协同工作\n",
    "\n",
    "### 高级工具功能\n",
    "- **上下文感知**：能够理解对话上下文的工具\n",
    "- **数据验证**：输入清理和输出验证\n",
    "- **性能优化**：高效的工具执行模式\n",
    "- **可扩展性**：轻松添加新工具功能\n",
    "\n",
    "## 🔧 技术架构\n",
    "\n",
    "### 核心组件\n",
    "- **Microsoft Agent Framework**：支持高级工具的 Python 实现\n",
    "- **GitHub 模型集成**：高性能语言模型访问\n",
    "- **工具注册系统**：有序管理代理功能\n",
    "- **错误恢复模式**：稳健处理工具执行失败\n",
    "\n",
    "### 工具集成流程\n",
    "```python\n",
    "User Request → Agent Analysis → Tool Selection → Tool Execution → Response Synthesis\n",
    "```\n",
    "\n",
    "## 🛠️ 展示的工具类别\n",
    "\n",
    "### 1. **数据生成工具**\n",
    "- 随机目的地生成器\n",
    "- 天气信息提供器  \n",
    "- 旅行费用计算器\n",
    "- 活动推荐引擎\n",
    "\n",
    "### 2. **处理工具**\n",
    "- 文本格式化和验证\n",
    "- 数据转换工具\n",
    "- 内容分析功能\n",
    "- 响应增强工具\n",
    "\n",
    "### 3. **集成工具**\n",
    "- 外部 API 连接器\n",
    "- 文件系统操作\n",
    "- 数据库查询接口\n",
    "- 网络爬取工具\n",
    "\n",
    "## ⚙️ 前提条件与设置\n",
    "\n",
    "**所需依赖项：**\n",
    "```bash\n",
    "\n",
    "pip install agent-framework-core -U\n",
    "```\n",
    "\n",
    "**环境配置（.env 文件）：**\n",
    "```env\n",
    "GITHUB_TOKEN=your_github_personal_access_token\n",
    "GITHUB_ENDPOINT=https://models.inference.ai.azure.com\n",
    "GITHUB_MODEL_ID=gpt-4o-mini\n",
    "```\n",
    "\n",
    "**可选 API：**\n",
    "- 天气服务 API 密钥（用于天气工具）\n",
    "- 货币转换 API 访问权限\n",
    "- 旅行信息服务凭证\n",
    "\n",
    "## 🎨 设计模式\n",
    "\n",
    "### 工具工厂模式\n",
    "- 集中化的工具创建和配置\n",
    "- 一致的工具接口设计\n",
    "- 轻松的工具注册和发现\n",
    "\n",
    "### 命令模式\n",
    "- 封装的工具执行逻辑\n",
    "- 复杂操作的撤销/重做功能\n",
    "- 工具使用的审计日志记录\n",
    "\n",
    "### 观察者模式\n",
    "- 工具执行监控\n",
    "- 性能指标收集\n",
    "- 错误报告和警报\n",
    "\n",
    "## 🚀 最佳实践\n",
    "\n",
    "- **工具文档**：为代理提供清晰的描述\n",
    "- **输入验证**：强大的参数检查和清理\n",
    "- **输出格式化**：一致且可解析的工具响应\n",
    "- **错误信息**：提供有帮助的错误信息以便调试\n",
    "- **性能优化**：优化工具执行以提高响应速度\n",
    "\n",
    "准备好构建具有强大工具功能的代理了吗？让我们一起创造奇迹吧！⚡\n"
   ]
  },
  {
   "cell_type": "code",
   "execution_count": null,
   "id": "59c0feeb",
   "metadata": {},
   "outputs": [],
   "source": [
    "! pip install agent-framework-core -U"
   ]
  },
  {
   "cell_type": "code",
   "execution_count": null,
   "id": "c0df8a52",
   "metadata": {},
   "outputs": [],
   "source": [
    "# � Import core dependencies for Agent Framework and tool integration\n",
    "# This sets up the essential libraries for building intelligent agents with tool capabilities\n",
    "\n",
    "import asyncio\n",
    "import os\n",
    "import json\n",
    "\n",
    "from dotenv import load_dotenv  # For loading environment variables securely\n",
    "from random import randint\n",
    "\n",
    "# These are the core components for building tool-enabled agents\n",
    "from agent_framework import ChatAgent           # Main agent class\n",
    "from agent_framework.openai import OpenAIChatClient  # OpenAI-compatible client"
   ]
  },
  {
   "cell_type": "code",
   "execution_count": null,
   "id": "24c10eb0",
   "metadata": {},
   "outputs": [],
   "source": [
    "load_dotenv()"
   ]
  },
  {
   "cell_type": "code",
   "execution_count": null,
   "id": "151e0314",
   "metadata": {},
   "outputs": [],
   "source": [
    "# 🔑 Environment variables verification\n",
    "# Ensure all required GitHub Models credentials are properly configured\n",
    "print(\"GITHUB_ENDPOINT:\", os.environ.get(\"GITHUB_ENDPOINT\"))\n",
    "print(\"GITHUB_TOKEN:\", \"***\" if os.environ.get(\"GITHUB_TOKEN\") else \"Not set\")\n",
    "print(\"GITHUB_MODEL_ID:\", os.environ.get(\"GITHUB_MODEL_ID\"))"
   ]
  },
  {
   "cell_type": "code",
   "execution_count": null,
   "id": "a6141584",
   "metadata": {},
   "outputs": [],
   "source": [
    "# 🧪 Test GitHub Models connectivity\n",
    "openai_chat_client = OpenAIChatClient(base_url=os.environ.get(\"GITHUB_ENDPOINT\"), api_key=os.environ.get(\"GITHUB_TOKEN\"), model_id=os.environ.get(\"GITHUB_MODEL_ID\"))"
   ]
  },
  {
   "cell_type": "code",
   "execution_count": null,
   "id": "a6507f83",
   "metadata": {},
   "outputs": [],
   "source": [
    "# 🛠️ Define travel planning tools for agent integration\n",
    "# These functions provide specific capabilities that the agent can invoke dynamically\n",
    "\n",
    "def get_random_destination() -> str:\n",
    "    \"\"\"\n",
    "    🎲 Random destination generator tool\n",
    "    Returns a randomly selected travel destination from curated list\n",
    "    Useful when customers need inspiration for their next vacation\n",
    "    \"\"\"\n",
    "    destinations = [\n",
    "        \"Paris, France\",\n",
    "        \"Tokyo, Japan\", \n",
    "        \"New York City, USA\",\n",
    "        \"London, England\",\n",
    "        \"Rome, Italy\",\n",
    "        \"Sydney, Australia\",\n",
    "        \"Dubai, UAE\",\n",
    "        \"Barcelona, Spain\",\n",
    "        \"Bangkok, Thailand\",\n",
    "        \"Amsterdam, Netherlands\",\n",
    "        \"Istanbul, Turkey\",\n",
    "        \"Prague, Czech Republic\",\n",
    "        \"Santorini, Greece\",\n",
    "        \"Reykjavik, Iceland\",\n",
    "        \"Marrakech, Morocco\",\n",
    "        \"Cape Town, South Africa\",\n",
    "        \"Rio de Janeiro, Brazil\",\n",
    "        \"Bali, Indonesia\"\n",
    "    ]\n",
    "    # 🎯 Return random selection from the curated destination list\n",
    "    return destinations[randint(0, len(destinations) - 1)]"
   ]
  },
  {
   "cell_type": "code",
   "execution_count": null,
   "id": "5d4f0568",
   "metadata": {},
   "outputs": [],
   "source": [
    "# 🔗 Initialize GitHub Models chat client for agent communication\n",
    "# Creates the primary interface between the agent and the language model\n",
    "openai_chat_client = OpenAIChatClient(base_url=os.environ.get(\"GITHUB_ENDPOINT\"), api_key=os.environ.get(\"GITHUB_TOKEN\"), model_id=os.environ.get(\"GITHUB_MODEL_ID\"))"
   ]
  },
  {
   "cell_type": "code",
   "execution_count": null,
   "id": "751668c5",
   "metadata": {},
   "outputs": [],
   "source": [
    "# 🤖 Configure travel agent identity and behavioral instructions\n",
    "# Define the agent's personality, capabilities, and operational guidelines\n",
    "\n",
    "AGENT_NAME = \"TravelAgent\"\n",
    "\n",
    "AGENT_INSTRUCTIONS = \"\"\"You are a helpful AI Agent that can help plan vacations for customers at random destinations\n",
    "\"\"\""
   ]
  },
  {
   "cell_type": "code",
   "execution_count": null,
   "id": "be18ac4f",
   "metadata": {},
   "outputs": [],
   "source": [
    "agent = ChatAgent(\n",
    "        name = AGENT_NAME,\n",
    "        chat_client=openai_chat_client,\n",
    "        instructions=AGENT_INSTRUCTIONS,\n",
    "        tools=[get_random_destination]\n",
    ")"
   ]
  },
  {
   "cell_type": "code",
   "execution_count": null,
   "id": "772e9481",
   "metadata": {},
   "outputs": [],
   "source": [
    "thread = agent.get_new_thread()"
   ]
  },
  {
   "cell_type": "code",
   "execution_count": null,
   "id": "a731b547",
   "metadata": {},
   "outputs": [],
   "source": [
    "response1 = await agent.run(\"Plan me a day trip\",thread= thread)"
   ]
  },
  {
   "cell_type": "code",
   "execution_count": null,
   "id": "7d3fe00a",
   "metadata": {},
   "outputs": [],
   "source": [
    "\n",
    "last_message = response1.messages[-1]\n",
    "text_content = last_message.contents[0].text\n",
    "print(\"Travel plan:\")\n",
    "print(text_content)"
   ]
  },
  {
   "cell_type": "markdown",
   "metadata": {},
   "source": [
    "\n---\n\n**免责声明**：  \n本文档使用AI翻译服务 [Co-op Translator](https://github.com/Azure/co-op-translator) 进行翻译。尽管我们努力确保翻译的准确性，但请注意，自动翻译可能包含错误或不准确之处。原始语言的文档应被视为权威来源。对于关键信息，建议使用专业人工翻译。我们对因使用此翻译而产生的任何误解或误读不承担责任。\n"
   ]
  }
 ],
 "metadata": {
  "kernelspec": {
   "display_name": "agentenv",
   "language": "python",
   "name": "python3"
  },
  "language_info": {
   "codemirror_mode": {
    "name": "ipython",
    "version": 3
   },
   "file_extension": ".py",
   "mimetype": "text/x-python",
   "name": "python",
   "nbconvert_exporter": "python",
   "pygments_lexer": "ipython3",
   "version": "3.12.10"
  },
  "polyglot_notebook": {
   "kernelInfo": {
    "defaultKernelName": "csharp",
    "items": [
     {
      "aliases": [],
      "name": "csharp"
     }
    ]
   }
  },
  "coopTranslator": {
   "original_hash": "42966ddac53cebaf0ac1ce33b2ee7059",
   "translation_date": "2025-10-01T21:04:28+00:00",
   "source_file": "04-tool-use/code_samples/04-python-agent-framework.ipynb",
   "language_code": "zh"
  }
 },
 "nbformat": 4,
 "nbformat_minor": 5
}