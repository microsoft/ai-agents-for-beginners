{
 "cells": [
  {
   "cell_type": "markdown",
   "id": "263ac938",
   "metadata": {},
   "source": [
    "# 酒店预订与优先会员中间件\n",
    "\n",
    "本笔记本演示了使用 Microsoft Agent Framework 的**基于函数的中间件**。我们在条件工作流示例的基础上，添加了一个中间件层，为优先会员提供特殊权益。\n",
    "\n",
    "## 你将学到：\n",
    "1. **基于函数的中间件**：拦截并修改函数结果\n",
    "2. **上下文访问**：在执行后读取和修改 `context.result`\n",
    "3. **业务逻辑实现**：优先会员权益\n",
    "4. **结果覆盖**：根据用户状态更改函数结果\n",
    "5. **相同工作流，不同结果**：通过中间件驱动的行为变化\n",
    "\n",
    "## 带中间件的工作流架构：\n",
    "\n",
    "```\n",
    "User Input: \"I want to book a hotel in Paris\"\n",
    "                    ↓\n",
    "        [availability_agent]\n",
    "        - Calls hotel_booking tool\n",
    "        - 🌟 priority_check middleware intercepts\n",
    "        - Checks user membership status\n",
    "        - IF priority + no rooms → Override to available!\n",
    "        - Returns BookingCheckResult\n",
    "                    ↓\n",
    "        Conditional Routing\n",
    "           /                    \\\n",
    "    [has_availability]    [no_availability]\n",
    "          ↓                      ↓\n",
    "    [booking_agent]        [alternative_agent]\n",
    "    (Priority override!)   (Regular users)\n",
    "          ↓                      ↓\n",
    "       [display_result executor]\n",
    "```\n",
    "\n",
    "## 与条件工作流的主要区别：\n",
    "\n",
    "**没有中间件**（14-conditional-workflow.ipynb）：\n",
    "- 巴黎无房间 → 路由到 alternative_agent\n",
    "\n",
    "**有中间件**（本笔记本）：\n",
    "- 普通用户 + 巴黎 → 无房间 → 路由到 alternative_agent\n",
    "- 优先用户 + 巴黎 → 🌟 中间件覆盖！→ 有房间 → 路由到 booking_agent\n",
    "\n",
    "## 前置条件：\n",
    "- 已安装 Microsoft Agent Framework\n",
    "- 理解条件工作流（参见 14-conditional-workflow.ipynb）\n",
    "- GitHub token 或 OpenAI API 密钥\n",
    "- 对中间件模式的基本理解\n"
   ]
  },
  {
   "cell_type": "code",
   "execution_count": 2,
   "id": "ec6cafec",
   "metadata": {},
   "outputs": [
    {
     "name": "stdout",
     "output_type": "stream",
     "text": [
      "✅ All imports successful!\n"
     ]
    }
   ],
   "source": [
    "import asyncio\n",
    "import json\n",
    "import os\n",
    "from collections.abc import Awaitable, Callable\n",
    "from typing import Annotated, Any, Never\n",
    "\n",
    "from agent_framework import (\n",
    "    AgentExecutor,\n",
    "    AgentExecutorRequest,\n",
    "    AgentExecutorResponse,\n",
    "    ChatMessage,\n",
    "    FunctionInvocationContext,\n",
    "    Role,\n",
    "    WorkflowBuilder,\n",
    "    WorkflowContext,\n",
    "    ai_function,\n",
    "    executor,\n",
    ")\n",
    "\n",
    "# 🤖 GitHub Models or OpenAI client integration\n",
    "from agent_framework.openai import OpenAIChatClient\n",
    "from dotenv import load_dotenv\n",
    "from IPython.display import HTML, display\n",
    "from pydantic import BaseModel\n",
    "\n",
    "print(\"✅ All imports successful!\")"
   ]
  },
  {
   "cell_type": "markdown",
   "id": "4d67d9a1",
   "metadata": {},
   "source": [
    "## 第一步：定义用于结构化输出的 Pydantic 模型\n",
    "\n",
    "这些模型定义了代理将返回的**模式**。我们添加了一个 `priority_override` 字段，用于跟踪中间件修改可用性结果的情况。\n"
   ]
  },
  {
   "cell_type": "code",
   "execution_count": 3,
   "id": "9973ac54",
   "metadata": {},
   "outputs": [
    {
     "name": "stdout",
     "output_type": "stream",
     "text": [
      "✅ Pydantic models defined:\n",
      "   - BookingCheckResult (availability check with priority_override)\n",
      "   - AlternativeResult (alternative suggestion)\n",
      "   - BookingConfirmation (booking confirmation)\n"
     ]
    }
   ],
   "source": [
    "class BookingCheckResult(BaseModel):\n",
    "    \"\"\"Result from checking hotel availability at a destination.\"\"\"\n",
    "\n",
    "    destination: str\n",
    "    has_availability: bool\n",
    "    message: str\n",
    "    priority_override: bool = False  # 🆕 NEW! Tracks if middleware overrode the result\n",
    "\n",
    "\n",
    "class AlternativeResult(BaseModel):\n",
    "    \"\"\"Suggested alternative destination when no rooms available.\"\"\"\n",
    "\n",
    "    alternative_destination: str\n",
    "    reason: str\n",
    "\n",
    "\n",
    "class BookingConfirmation(BaseModel):\n",
    "    \"\"\"Booking suggestion when rooms are available.\"\"\"\n",
    "\n",
    "    destination: str\n",
    "    action: str\n",
    "    message: str\n",
    "\n",
    "\n",
    "print(\"✅ Pydantic models defined:\")\n",
    "print(\"   - BookingCheckResult (availability check with priority_override)\")\n",
    "print(\"   - AlternativeResult (alternative suggestion)\")\n",
    "print(\"   - BookingConfirmation (booking confirmation)\")"
   ]
  },
  {
   "cell_type": "markdown",
   "id": "8e3d0853",
   "metadata": {},
   "source": [
    "## 第2步：定义优先会员数据库\n",
    "\n",
    "在本演示中，我们将模拟一个优先会员数据库。在生产环境中，这将查询真实的数据库或API。\n",
    "\n",
    "**优先会员：**\n",
    "- `alice@example.com` - VIP会员\n",
    "- `bob@example.com` - 高级会员  \n",
    "- `priority_user` - 测试账户\n"
   ]
  },
  {
   "cell_type": "code",
   "execution_count": 4,
   "id": "c6fc0feb",
   "metadata": {},
   "outputs": [
    {
     "name": "stdout",
     "output_type": "stream",
     "text": [
      "✅ Priority members database created\n",
      "   Priority members: 3 users\n"
     ]
    }
   ],
   "source": [
    "# Simulated priority members database\n",
    "PRIORITY_MEMBERS = {\n",
    "    \"alice@example.com\",\n",
    "    \"bob@example.com\",\n",
    "    \"priority_user\",\n",
    "}\n",
    "\n",
    "# Global variable to track current user (in real app, use proper session management)\n",
    "current_user_id = \"regular_user\"  # Default: regular user\n",
    "\n",
    "\n",
    "def set_user(user_id: str):\n",
    "    \"\"\"Set the current user for the session.\"\"\"\n",
    "    global current_user_id\n",
    "    current_user_id = user_id\n",
    "    is_priority = user_id in PRIORITY_MEMBERS\n",
    "    status = \"🌟 PRIORITY MEMBER\" if is_priority else \"👤 Regular User\"\n",
    "\n",
    "    display(\n",
    "        HTML(f\"\"\"\n",
    "        <div style='padding: 15px; background: {\"linear-gradient(135deg, #FFD700 0%, #FFA500 100%)\" if is_priority else \"#e3f2fd\"}; \n",
    "                    border-left: 4px solid {\"#FF6B35\" if is_priority else \"#2196f3\"}; border-radius: 4px; margin: 10px 0;'>\n",
    "            <strong>👤 Current User Set:</strong> {user_id}<br>\n",
    "            <strong>Status:</strong> {status}\n",
    "        </div>\n",
    "    \"\"\")\n",
    "    )\n",
    "\n",
    "\n",
    "print(\"✅ Priority members database created\")\n",
    "print(f\"   Priority members: {len(PRIORITY_MEMBERS)} users\")"
   ]
  },
  {
   "cell_type": "markdown",
   "id": "1b503f57",
   "metadata": {},
   "source": [
    "## 第三步：创建酒店预订工具\n",
    "\n",
    "与条件工作流相同，但现在它将被中间件拦截！\n"
   ]
  },
  {
   "cell_type": "code",
   "execution_count": 5,
   "id": "1e17f7f2",
   "metadata": {},
   "outputs": [
    {
     "name": "stdout",
     "output_type": "stream",
     "text": [
      "✅ hotel_booking tool created with @ai_function decorator\n"
     ]
    }
   ],
   "source": [
    "@ai_function(description=\"Check hotel room availability for a destination city\")\n",
    "def hotel_booking(destination: Annotated[str, \"The destination city to check for hotel rooms\"]) -> str:\n",
    "    \"\"\"\n",
    "    Simulates checking hotel room availability.\n",
    "    \n",
    "    Returns JSON string with availability status.\n",
    "    \"\"\"\n",
    "    display(\n",
    "        HTML(f\"\"\"\n",
    "        <div style='padding: 15px; background: #e3f2fd; border-left: 4px solid #2196f3; border-radius: 4px; margin: 10px 0;'>\n",
    "            <strong>🔍 Tool Invoked:</strong> hotel_booking(\"{destination}\")\n",
    "        </div>\n",
    "    \"\"\")\n",
    "    )\n",
    "\n",
    "    # Simulate availability check\n",
    "    cities_with_rooms = [\"stockholm\", \"seattle\", \"tokyo\", \"london\", \"amsterdam\"]\n",
    "    has_rooms = destination.lower() in cities_with_rooms\n",
    "\n",
    "    result = {\"has_availability\": has_rooms, \"destination\": destination}\n",
    "\n",
    "    return json.dumps(result)\n",
    "\n",
    "\n",
    "print(\"✅ hotel_booking tool created with @ai_function decorator\")"
   ]
  },
  {
   "cell_type": "markdown",
   "id": "88ffd637",
   "metadata": {},
   "source": [
    "## 第四步：🌟 创建优先级检查中间件（核心功能！）\n",
    "\n",
    "这是本笔记本的**核心功能**。该中间件：\n",
    "\n",
    "1. **拦截** hotel_booking 函数调用\n",
    "2. 通过调用 `next(context)` **正常执行**函数\n",
    "3. **检查** `context.result` 中的结果\n",
    "4. 如果用户是优先级用户且没有可用房间，则**覆盖**结果\n",
    "5. **返回**修改后的结果给代理\n",
    "\n",
    "**关键模式：**\n",
    "```python\n",
    "async def my_middleware(context, next):\n",
    "    await next(context)  # Execute function\n",
    "    # Now context.result contains the function's output\n",
    "    if some_condition:\n",
    "        context.result = new_value  # Override!\n",
    "```\n"
   ]
  },
  {
   "cell_type": "code",
   "execution_count": 6,
   "id": "ba160f08",
   "metadata": {},
   "outputs": [
    {
     "name": "stdout",
     "output_type": "stream",
     "text": [
      "✅ priority_check_middleware created\n",
      "   - Intercepts hotel_booking function\n",
      "   - Overrides availability for priority members\n"
     ]
    }
   ],
   "source": [
    "async def priority_check_middleware(\n",
    "    context: FunctionInvocationContext,\n",
    "    next: Callable[[FunctionInvocationContext], Awaitable[None]],\n",
    ") -> None:\n",
    "    \"\"\"\n",
    "    Function middleware that overrides hotel_booking results for priority members.\n",
    "    \n",
    "    Workflow:\n",
    "    1. Let the function execute normally\n",
    "    2. Check if user is a priority member\n",
    "    3. If priority + no availability → Override to make rooms available!\n",
    "    4. Agent will then route to booking path instead of alternative path\n",
    "    \"\"\"\n",
    "    function_name = context.function.name\n",
    "\n",
    "    display(\n",
    "        HTML(f\"\"\"\n",
    "        <div style='padding: 12px; background: #fff3e0; border-left: 4px solid #ff9800; border-radius: 4px; margin: 10px 0;'>\n",
    "            <strong>🔄 Middleware:</strong> Intercepting {function_name}...\n",
    "        </div>\n",
    "    \"\"\")\n",
    "    )\n",
    "\n",
    "    # Execute the original function\n",
    "    await next(context)\n",
    "\n",
    "    # Now inspect and potentially modify the result\n",
    "    if context.result and function_name == \"hotel_booking\":\n",
    "        result_data = json.loads(context.result)\n",
    "        destination = result_data.get(\"destination\", \"\")\n",
    "        has_availability = result_data.get(\"has_availability\", False)\n",
    "\n",
    "        # Check if user is priority member\n",
    "        is_priority = current_user_id in PRIORITY_MEMBERS\n",
    "\n",
    "        # Override logic: Priority member + no availability → Make available!\n",
    "        if is_priority and not has_availability:\n",
    "            display(\n",
    "                HTML(f\"\"\"\n",
    "                <div style='padding: 20px; background: linear-gradient(135deg, #FFD700 0%, #FFA500 100%); \n",
    "                            border-radius: 8px; margin: 10px 0; box-shadow: 0 4px 12px rgba(255,165,0,0.4);'>\n",
    "                    <h3 style='margin: 0 0 10px 0; color: #333;'>🌟 PRIORITY OVERRIDE ACTIVATED! 🌟</h3>\n",
    "                    <p style='margin: 0; color: #555; line-height: 1.6;'>\n",
    "                        <strong>User:</strong> {current_user_id}<br>\n",
    "                        <strong>Status:</strong> VIP Priority Member<br>\n",
    "                        <strong>Action:</strong> Overriding \"No Availability\" for {destination}<br>\n",
    "                        <strong>Result:</strong> ✅ Rooms now available for priority booking!\n",
    "                    </p>\n",
    "                </div>\n",
    "            \"\"\")\n",
    "            )\n",
    "\n",
    "            # Override the result!\n",
    "            result_data[\"has_availability\"] = True\n",
    "            result_data[\"priority_override\"] = True\n",
    "            context.result = json.dumps(result_data)\n",
    "\n",
    "        elif not has_availability:\n",
    "            display(\n",
    "                HTML(f\"\"\"\n",
    "                <div style='padding: 12px; background: #ffebee; border-left: 4px solid #f44336; border-radius: 4px; margin: 10px 0;'>\n",
    "                    <strong>ℹ️ Middleware:</strong> No priority override (user: {current_user_id})\n",
    "                </div>\n",
    "            \"\"\")\n",
    "            )\n",
    "\n",
    "\n",
    "print(\"✅ priority_check_middleware created\")\n",
    "print(\"   - Intercepts hotel_booking function\")\n",
    "print(\"   - Overrides availability for priority members\")"
   ]
  },
  {
   "cell_type": "markdown",
   "id": "630b6c2b",
   "metadata": {},
   "source": [
    "## 第五步：定义路由的条件函数\n",
    "\n",
    "与条件工作流中的条件函数相同——它们检查结构化输出以确定路由。\n"
   ]
  },
  {
   "cell_type": "code",
   "execution_count": 7,
   "id": "c82b0633",
   "metadata": {},
   "outputs": [
    {
     "name": "stdout",
     "output_type": "stream",
     "text": [
      "✅ Condition functions defined\n"
     ]
    }
   ],
   "source": [
    "def has_availability_condition(message: Any) -> bool:\n",
    "    \"\"\"Condition for routing when hotels ARE available (including priority overrides!).\"\"\"\n",
    "    if not isinstance(message, AgentExecutorResponse):\n",
    "        return True\n",
    "\n",
    "    try:\n",
    "        result = BookingCheckResult.model_validate_json(message.agent_run_response.text)\n",
    "\n",
    "        # Check if this was a priority override\n",
    "        override_indicator = \" 🌟\" if result.priority_override else \"\"\n",
    "\n",
    "        display(\n",
    "            HTML(f\"\"\"\n",
    "            <div style='padding: 12px; background: #c8e6c9; border-left: 4px solid #4caf50; border-radius: 4px; margin: 10px 0;'>\n",
    "                <strong>✅ Condition Check:</strong> has_availability = <strong>{result.has_availability}</strong> for {result.destination}{override_indicator}\n",
    "            </div>\n",
    "        \"\"\")\n",
    "        )\n",
    "\n",
    "        return result.has_availability\n",
    "    except Exception as e:\n",
    "        display(\n",
    "            HTML(f\"\"\"\n",
    "            <div style='padding: 12px; background: #ffcdd2; border-left: 4px solid #f44336; border-radius: 4px; margin: 10px 0;'>\n",
    "                <strong>⚠️  Error:</strong> {str(e)}\n",
    "            </div>\n",
    "        \"\"\")\n",
    "        )\n",
    "        return False\n",
    "\n",
    "\n",
    "def no_availability_condition(message: Any) -> bool:\n",
    "    \"\"\"Condition for routing when hotels are NOT available.\"\"\"\n",
    "    if not isinstance(message, AgentExecutorResponse):\n",
    "        return False\n",
    "\n",
    "    try:\n",
    "        result = BookingCheckResult.model_validate_json(message.agent_run_response.text)\n",
    "\n",
    "        display(\n",
    "            HTML(f\"\"\"\n",
    "            <div style='padding: 12px; background: #ffecb3; border-left: 4px solid #ff9800; border-radius: 4px; margin: 10px 0;'>\n",
    "                <strong>❌ Condition Check:</strong> no_availability for {result.destination}\n",
    "            </div>\n",
    "        \"\"\")\n",
    "        )\n",
    "\n",
    "        return not result.has_availability\n",
    "    except Exception:\n",
    "        return False\n",
    "\n",
    "\n",
    "print(\"✅ Condition functions defined\")"
   ]
  },
  {
   "cell_type": "markdown",
   "id": "2189c529",
   "metadata": {},
   "source": [
    "## 第六步：创建自定义显示执行器\n",
    "\n",
    "与之前的执行器相同 - 显示最终的工作流输出。\n"
   ]
  },
  {
   "cell_type": "code",
   "execution_count": 8,
   "id": "a4cc88da",
   "metadata": {},
   "outputs": [
    {
     "name": "stdout",
     "output_type": "stream",
     "text": [
      "✅ display_result executor created\n"
     ]
    }
   ],
   "source": [
    "@executor(id=\"display_result\")\n",
    "async def display_result(response: AgentExecutorResponse, ctx: WorkflowContext[Never, str]) -> None:\n",
    "    \"\"\"Display the final result as workflow output.\"\"\"\n",
    "    display(\n",
    "        HTML(\"\"\"\n",
    "        <div style='padding: 15px; background: #f3e5f5; border-left: 4px solid #9c27b0; border-radius: 4px; margin: 10px 0;'>\n",
    "            <strong>📤 Display Executor:</strong> Yielding workflow output\n",
    "        </div>\n",
    "    \"\"\")\n",
    "    )\n",
    "\n",
    "    await ctx.yield_output(response.agent_run_response.text)\n",
    "\n",
    "\n",
    "print(\"✅ display_result executor created\")"
   ]
  },
  {
   "cell_type": "markdown",
   "id": "18b1857c",
   "metadata": {},
   "source": [
    "## 第七步：加载环境变量\n",
    "\n",
    "配置 LLM 客户端（GitHub Models 或 OpenAI）。\n"
   ]
  },
  {
   "cell_type": "code",
   "execution_count": 10,
   "id": "5e6584c2",
   "metadata": {},
   "outputs": [],
   "source": [
    "# Load environment variables\n",
    "load_dotenv()\n",
    "\n",
    "# Check for GitHub Models or OpenAI\n",
    "chat_client = OpenAIChatClient(base_url=os.environ.get(\n",
    "    \"GITHUB_ENDPOINT\"), api_key=os.environ.get(\"GITHUB_TOKEN\"), model_id=\"gpt-4o\")\n"
   ]
  },
  {
   "cell_type": "markdown",
   "id": "e4993e63",
   "metadata": {},
   "source": [
    "## 第8步：使用中间件创建AI代理\n",
    "\n",
    "**关键区别：** 在创建availability_agent时，我们传递了`middleware`参数！\n",
    "\n",
    "这就是我们将priority_check_middleware注入到代理函数调用流程中的方式。\n"
   ]
  },
  {
   "cell_type": "code",
   "execution_count": null,
   "id": "8218790d",
   "metadata": {},
   "outputs": [
    {
     "data": {
      "text/html": [
       "\n",
       "    <div style='padding: 15px; background: #e3f2fd; border-left: 4px solid #2196f3; border-radius: 4px; margin: 10px 0;'>\n",
       "        <strong>✅ Created 3 Agents:</strong>\n",
       "        <ul style='margin: 10px 0 0 0;'>\n",
       "            <li><strong>availability_agent</strong> - WITH priority_check_middleware 🌟</li>\n",
       "            <li><strong>alternative_agent</strong> - Suggests alternative cities</li>\n",
       "            <li><strong>booking_agent</strong> - Encourages booking</li>\n",
       "        </ul>\n",
       "    </div>\n"
      ],
      "text/plain": [
       "<IPython.core.display.HTML object>"
      ]
     },
     "metadata": {},
     "output_type": "display_data"
    }
   ],
   "source": [
    "# Agent 1: Check availability with tool + middleware\n",
    "availability_agent = AgentExecutor(\n",
    "    chat_client.create_agent(\n",
    "        instructions=(\n",
    "            \"You are a hotel booking assistant that checks room availability. \"\n",
    "            \"Use the hotel_booking tool to check if rooms are available at the destination. \"\n",
    "            \"Return JSON with fields: destination (string), has_availability (bool), message (string), \"\n",
    "            \"and priority_override (bool, true if priority member got special access). \"\n",
    "            \"The message should summarize the availability status and mention if priority override occurred.\"\n",
    "        ),\n",
    "        tools=[hotel_booking],\n",
    "        response_format=BookingCheckResult,\n",
    "        middleware=[priority_check_middleware],  # 🌟 MIDDLEWARE INJECTION!\n",
    "    ),\n",
    "    id=\"availability_agent\",\n",
    ")\n",
    "\n",
    "# Agent 2: Suggest alternative (when no rooms)\n",
    "alternative_agent = AgentExecutor(\n",
    "    chat_client.create_agent(\n",
    "        instructions=(\n",
    "            \"You are a helpful travel assistant. When a user cannot find hotels in their requested city, \"\n",
    "            \"suggest an alternative nearby city that has availability. \"\n",
    "            \"Return JSON with fields: alternative_destination (string) and reason (string). \"\n",
    "            \"Make your suggestion sound appealing and helpful.\"\n",
    "        ),\n",
    "        response_format=AlternativeResult,\n",
    "    ),\n",
    "    id=\"alternative_agent\",\n",
    ")\n",
    "\n",
    "# Agent 3: Suggest booking (when rooms available)\n",
    "booking_agent = AgentExecutor(\n",
    "    chat_client.create_agent(\n",
    "        instructions=(\n",
    "            \"You are a booking assistant. The user has found available hotel rooms. \"\n",
    "            \"Encourage them to book by highlighting the destination's appeal. \"\n",
    "            \"If priority_override is true in the input, mention that they received priority member access. \"\n",
    "            \"Return JSON with fields: destination (string), action (string), and message (string). \"\n",
    "            \"The action should be 'book_now' and message should be encouraging.\"\n",
    "        ),\n",
    "        response_format=BookingConfirmation,\n",
    "    ),\n",
    "    id=\"booking_agent\",\n",
    ")\n",
    "\n",
    "display(\n",
    "    HTML(\"\"\"\n",
    "    <div style='padding: 15px; background: #e3f2fd; border-left: 4px solid #2196f3; border-radius: 4px; margin: 10px 0;'>\n",
    "        <strong>✅ Created 3 Agents:</strong>\n",
    "        <ul style='margin: 10px 0 0 0;'>\n",
    "            <li><strong>availability_agent</strong> - WITH priority_check_middleware 🌟</li>\n",
    "            <li><strong>alternative_agent</strong> - Suggests alternative cities</li>\n",
    "            <li><strong>booking_agent</strong> - Encourages booking</li>\n",
    "        </ul>\n",
    "    </div>\n",
    "\"\"\")\n",
    ")"
   ]
  },
  {
   "cell_type": "markdown",
   "id": "c6c2ac90",
   "metadata": {},
   "source": [
    "## 第九步：构建工作流程\n",
    "\n",
    "与之前相同的工作流程结构——基于可用性进行条件路由。\n"
   ]
  },
  {
   "cell_type": "code",
   "execution_count": 12,
   "id": "9cc9b853",
   "metadata": {},
   "outputs": [
    {
     "data": {
      "text/html": [
       "\n",
       "    <div style='padding: 20px; background: linear-gradient(135deg, #667eea 0%, #764ba2 100%); color: white; border-radius: 8px; margin: 10px 0;'>\n",
       "        <h3 style='margin: 0 0 15px 0;'>✅ Workflow Built Successfully!</h3>\n",
       "        <p style='margin: 0; line-height: 1.6;'>\n",
       "            <strong>Conditional Routing (Middleware-Aware):</strong><br>\n",
       "            • If <strong>NO availability</strong> → alternative_agent → display_result<br>\n",
       "            • If <strong>availability</strong> (or 🌟 <strong>priority override</strong>) → booking_agent → display_result\n",
       "        </p>\n",
       "    </div>\n"
      ],
      "text/plain": [
       "<IPython.core.display.HTML object>"
      ]
     },
     "metadata": {},
     "output_type": "display_data"
    }
   ],
   "source": [
    "# Build the workflow with conditional routing\n",
    "workflow = (\n",
    "    WorkflowBuilder()\n",
    "    .set_start_executor(availability_agent)\n",
    "    # NO AVAILABILITY PATH\n",
    "    .add_edge(availability_agent, alternative_agent, condition=no_availability_condition)\n",
    "    .add_edge(alternative_agent, display_result)\n",
    "    # HAS AVAILABILITY PATH (can be triggered by middleware override!)\n",
    "    .add_edge(availability_agent, booking_agent, condition=has_availability_condition)\n",
    "    .add_edge(booking_agent, display_result)\n",
    "    .build()\n",
    ")\n",
    "\n",
    "display(\n",
    "    HTML(\"\"\"\n",
    "    <div style='padding: 20px; background: linear-gradient(135deg, #667eea 0%, #764ba2 100%); color: white; border-radius: 8px; margin: 10px 0;'>\n",
    "        <h3 style='margin: 0 0 15px 0;'>✅ Workflow Built Successfully!</h3>\n",
    "        <p style='margin: 0; line-height: 1.6;'>\n",
    "            <strong>Conditional Routing (Middleware-Aware):</strong><br>\n",
    "            • If <strong>NO availability</strong> → alternative_agent → display_result<br>\n",
    "            • If <strong>availability</strong> (or 🌟 <strong>priority override</strong>) → booking_agent → display_result\n",
    "        </p>\n",
    "    </div>\n",
    "\"\"\")\n",
    ")"
   ]
  },
  {
   "cell_type": "markdown",
   "id": "56c53031",
   "metadata": {},
   "source": [
    "## 第10步：测试用例1 - 普通用户在巴黎（无覆盖）\n",
    "\n",
    "普通用户尝试预订巴黎 → 无房间 → 路由到 alternative_agent\n"
   ]
  },
  {
   "cell_type": "code",
   "execution_count": 13,
   "id": "e8cf4e21",
   "metadata": {},
   "outputs": [
    {
     "data": {
      "text/html": [
       "\n",
       "        <div style='padding: 15px; background: #e3f2fd; \n",
       "                    border-left: 4px solid #2196f3; border-radius: 4px; margin: 10px 0;'>\n",
       "            <strong>👤 Current User Set:</strong> regular_user<br>\n",
       "            <strong>Status:</strong> 👤 Regular User\n",
       "        </div>\n",
       "    "
      ],
      "text/plain": [
       "<IPython.core.display.HTML object>"
      ]
     },
     "metadata": {},
     "output_type": "display_data"
    },
    {
     "data": {
      "text/html": [
       "\n",
       "    <div style='padding: 20px; background: #fff3e0; border-left: 4px solid #ff9800; border-radius: 8px; margin: 20px 0;'>\n",
       "        <h3 style='margin: 0 0 10px 0; color: #e65100;'>🧪 TEST CASE 1: Regular User + Paris</h3>\n",
       "        <p style='margin: 0;'><strong>Expected:</strong> No rooms → No middleware override → Alternative suggestion</p>\n",
       "    </div>\n"
      ],
      "text/plain": [
       "<IPython.core.display.HTML object>"
      ]
     },
     "metadata": {},
     "output_type": "display_data"
    },
    {
     "data": {
      "text/html": [
       "\n",
       "        <div style='padding: 12px; background: #fff3e0; border-left: 4px solid #ff9800; border-radius: 4px; margin: 10px 0;'>\n",
       "            <strong>🔄 Middleware:</strong> Intercepting hotel_booking...\n",
       "        </div>\n",
       "    "
      ],
      "text/plain": [
       "<IPython.core.display.HTML object>"
      ]
     },
     "metadata": {},
     "output_type": "display_data"
    },
    {
     "data": {
      "text/html": [
       "\n",
       "        <div style='padding: 15px; background: #e3f2fd; border-left: 4px solid #2196f3; border-radius: 4px; margin: 10px 0;'>\n",
       "            <strong>🔍 Tool Invoked:</strong> hotel_booking(\"Paris\")\n",
       "        </div>\n",
       "    "
      ],
      "text/plain": [
       "<IPython.core.display.HTML object>"
      ]
     },
     "metadata": {},
     "output_type": "display_data"
    },
    {
     "data": {
      "text/html": [
       "\n",
       "                <div style='padding: 12px; background: #ffebee; border-left: 4px solid #f44336; border-radius: 4px; margin: 10px 0;'>\n",
       "                    <strong>ℹ️ Middleware:</strong> No priority override (user: regular_user)\n",
       "                </div>\n",
       "            "
      ],
      "text/plain": [
       "<IPython.core.display.HTML object>"
      ]
     },
     "metadata": {},
     "output_type": "display_data"
    },
    {
     "data": {
      "text/html": [
       "\n",
       "            <div style='padding: 12px; background: #ffecb3; border-left: 4px solid #ff9800; border-radius: 4px; margin: 10px 0;'>\n",
       "                <strong>❌ Condition Check:</strong> no_availability for Paris\n",
       "            </div>\n",
       "        "
      ],
      "text/plain": [
       "<IPython.core.display.HTML object>"
      ]
     },
     "metadata": {},
     "output_type": "display_data"
    },
    {
     "data": {
      "text/html": [
       "\n",
       "            <div style='padding: 12px; background: #c8e6c9; border-left: 4px solid #4caf50; border-radius: 4px; margin: 10px 0;'>\n",
       "                <strong>✅ Condition Check:</strong> has_availability = <strong>False</strong> for Paris\n",
       "            </div>\n",
       "        "
      ],
      "text/plain": [
       "<IPython.core.display.HTML object>"
      ]
     },
     "metadata": {},
     "output_type": "display_data"
    },
    {
     "data": {
      "text/html": [
       "\n",
       "        <div style='padding: 15px; background: #f3e5f5; border-left: 4px solid #9c27b0; border-radius: 4px; margin: 10px 0;'>\n",
       "            <strong>📤 Display Executor:</strong> Yielding workflow output\n",
       "        </div>\n",
       "    "
      ],
      "text/plain": [
       "<IPython.core.display.HTML object>"
      ]
     },
     "metadata": {},
     "output_type": "display_data"
    },
    {
     "data": {
      "text/html": [
       "\n",
       "        <div style='padding: 25px; background: #fff; border: 2px solid #ff9800; border-radius: 12px; margin: 20px 0;'>\n",
       "            <h3 style='margin: 0 0 15px 0; color: #e65100;'>📊 RESULT (Regular User)</h3>\n",
       "            <div style='background: #fff3e0; padding: 20px; border-radius: 8px;'>\n",
       "                <p style='margin: 0 0 10px 0;'><strong>Status:</strong> ❌ No rooms in Paris</p>\n",
       "                <p style='margin: 0 0 10px 0;'><strong>Middleware:</strong> No priority override (regular user)</p>\n",
       "                <p style='margin: 0 0 10px 0;'><strong>Alternative:</strong> 🏨 London</p>\n",
       "                <p style='margin: 0;'><strong>Reason:</strong> Although there are no accommodations available in Paris at this time, you can explore London as an excellent alternative, known for its rich history, iconic landmarks, and vibrant cultural scene.</p>\n",
       "            </div>\n",
       "        </div>\n",
       "    "
      ],
      "text/plain": [
       "<IPython.core.display.HTML object>"
      ]
     },
     "metadata": {},
     "output_type": "display_data"
    }
   ],
   "source": [
    "# Set as regular user\n",
    "set_user(\"regular_user\")\n",
    "\n",
    "display(\n",
    "    HTML(\"\"\"\n",
    "    <div style='padding: 20px; background: #fff3e0; border-left: 4px solid #ff9800; border-radius: 8px; margin: 20px 0;'>\n",
    "        <h3 style='margin: 0 0 10px 0; color: #e65100;'>🧪 TEST CASE 1: Regular User + Paris</h3>\n",
    "        <p style='margin: 0;'><strong>Expected:</strong> No rooms → No middleware override → Alternative suggestion</p>\n",
    "    </div>\n",
    "\"\"\")\n",
    ")\n",
    "\n",
    "# Create request\n",
    "request_regular = AgentExecutorRequest(\n",
    "    messages=[ChatMessage(Role.USER, text=\"I want to book a hotel in Paris\")], should_respond=True\n",
    ")\n",
    "\n",
    "# Run workflow\n",
    "events_regular = await workflow.run(request_regular)\n",
    "outputs_regular = events_regular.get_outputs()\n",
    "\n",
    "# Display results\n",
    "if outputs_regular:\n",
    "    result_regular = AlternativeResult.model_validate_json(outputs_regular[0])\n",
    "\n",
    "    display(\n",
    "        HTML(f\"\"\"\n",
    "        <div style='padding: 25px; background: #fff; border: 2px solid #ff9800; border-radius: 12px; margin: 20px 0;'>\n",
    "            <h3 style='margin: 0 0 15px 0; color: #e65100;'>📊 RESULT (Regular User)</h3>\n",
    "            <div style='background: #fff3e0; padding: 20px; border-radius: 8px;'>\n",
    "                <p style='margin: 0 0 10px 0;'><strong>Status:</strong> ❌ No rooms in Paris</p>\n",
    "                <p style='margin: 0 0 10px 0;'><strong>Middleware:</strong> No priority override (regular user)</p>\n",
    "                <p style='margin: 0 0 10px 0;'><strong>Alternative:</strong> 🏨 {result_regular.alternative_destination}</p>\n",
    "                <p style='margin: 0;'><strong>Reason:</strong> {result_regular.reason}</p>\n",
    "            </div>\n",
    "        </div>\n",
    "    \"\"\")\n",
    "    )"
   ]
  },
  {
   "cell_type": "markdown",
   "id": "cea981b0",
   "metadata": {},
   "source": [
    "## 第11步：测试用例2 - 🌟 巴黎的优先用户（带覆盖功能！）\n",
    "\n",
    "一位优先会员尝试预订巴黎 → 初始无房间 → 🌟 中间件覆盖！→ 路由到 booking_agent\n",
    "\n",
    "**这是中间件强大功能的关键展示！**\n"
   ]
  },
  {
   "cell_type": "code",
   "execution_count": 14,
   "id": "d390f5ac",
   "metadata": {},
   "outputs": [
    {
     "data": {
      "text/html": [
       "\n",
       "        <div style='padding: 15px; background: linear-gradient(135deg, #FFD700 0%, #FFA500 100%); \n",
       "                    border-left: 4px solid #FF6B35; border-radius: 4px; margin: 10px 0;'>\n",
       "            <strong>👤 Current User Set:</strong> priority_user<br>\n",
       "            <strong>Status:</strong> 🌟 PRIORITY MEMBER\n",
       "        </div>\n",
       "    "
      ],
      "text/plain": [
       "<IPython.core.display.HTML object>"
      ]
     },
     "metadata": {},
     "output_type": "display_data"
    },
    {
     "data": {
      "text/html": [
       "\n",
       "    <div style='padding: 20px; background: linear-gradient(135deg, #FFD700 0%, #FFA500 100%); border-radius: 8px; margin: 20px 0;'>\n",
       "        <h3 style='margin: 0 0 10px 0; color: #333;'>🧪 TEST CASE 2: 🌟 Priority User + Paris</h3>\n",
       "        <p style='margin: 0; color: #555;'><strong>Expected:</strong> No rooms → 🌟 MIDDLEWARE OVERRIDE → Rooms available → Booking suggestion!</p>\n",
       "    </div>\n"
      ],
      "text/plain": [
       "<IPython.core.display.HTML object>"
      ]
     },
     "metadata": {},
     "output_type": "display_data"
    },
    {
     "data": {
      "text/html": [
       "\n",
       "        <div style='padding: 12px; background: #fff3e0; border-left: 4px solid #ff9800; border-radius: 4px; margin: 10px 0;'>\n",
       "            <strong>🔄 Middleware:</strong> Intercepting hotel_booking...\n",
       "        </div>\n",
       "    "
      ],
      "text/plain": [
       "<IPython.core.display.HTML object>"
      ]
     },
     "metadata": {},
     "output_type": "display_data"
    },
    {
     "data": {
      "text/html": [
       "\n",
       "        <div style='padding: 15px; background: #e3f2fd; border-left: 4px solid #2196f3; border-radius: 4px; margin: 10px 0;'>\n",
       "            <strong>🔍 Tool Invoked:</strong> hotel_booking(\"Paris\")\n",
       "        </div>\n",
       "    "
      ],
      "text/plain": [
       "<IPython.core.display.HTML object>"
      ]
     },
     "metadata": {},
     "output_type": "display_data"
    },
    {
     "data": {
      "text/html": [
       "\n",
       "                <div style='padding: 20px; background: linear-gradient(135deg, #FFD700 0%, #FFA500 100%); \n",
       "                            border-radius: 8px; margin: 10px 0; box-shadow: 0 4px 12px rgba(255,165,0,0.4);'>\n",
       "                    <h3 style='margin: 0 0 10px 0; color: #333;'>🌟 PRIORITY OVERRIDE ACTIVATED! 🌟</h3>\n",
       "                    <p style='margin: 0; color: #555; line-height: 1.6;'>\n",
       "                        <strong>User:</strong> priority_user<br>\n",
       "                        <strong>Status:</strong> VIP Priority Member<br>\n",
       "                        <strong>Action:</strong> Overriding \"No Availability\" for Paris<br>\n",
       "                        <strong>Result:</strong> ✅ Rooms now available for priority booking!\n",
       "                    </p>\n",
       "                </div>\n",
       "            "
      ],
      "text/plain": [
       "<IPython.core.display.HTML object>"
      ]
     },
     "metadata": {},
     "output_type": "display_data"
    },
    {
     "data": {
      "text/html": [
       "\n",
       "            <div style='padding: 12px; background: #ffecb3; border-left: 4px solid #ff9800; border-radius: 4px; margin: 10px 0;'>\n",
       "                <strong>❌ Condition Check:</strong> no_availability for Paris\n",
       "            </div>\n",
       "        "
      ],
      "text/plain": [
       "<IPython.core.display.HTML object>"
      ]
     },
     "metadata": {},
     "output_type": "display_data"
    },
    {
     "data": {
      "text/html": [
       "\n",
       "            <div style='padding: 12px; background: #c8e6c9; border-left: 4px solid #4caf50; border-radius: 4px; margin: 10px 0;'>\n",
       "                <strong>✅ Condition Check:</strong> has_availability = <strong>True</strong> for Paris 🌟\n",
       "            </div>\n",
       "        "
      ],
      "text/plain": [
       "<IPython.core.display.HTML object>"
      ]
     },
     "metadata": {},
     "output_type": "display_data"
    },
    {
     "data": {
      "text/html": [
       "\n",
       "        <div style='padding: 15px; background: #f3e5f5; border-left: 4px solid #9c27b0; border-radius: 4px; margin: 10px 0;'>\n",
       "            <strong>📤 Display Executor:</strong> Yielding workflow output\n",
       "        </div>\n",
       "    "
      ],
      "text/plain": [
       "<IPython.core.display.HTML object>"
      ]
     },
     "metadata": {},
     "output_type": "display_data"
    },
    {
     "data": {
      "text/html": [
       "\n",
       "        <div style='padding: 25px; background: linear-gradient(135deg, #FFD700 0%, #FFA500 100%); border-radius: 12px; \n",
       "                    box-shadow: 0 8px 16px rgba(255,165,0,0.4); margin: 20px 0;'>\n",
       "            <h3 style='margin: 0 0 15px 0; color: #333;'>🏆 RESULT (Priority Member) 🌟</h3>\n",
       "            <div style='background: white; padding: 20px; border-radius: 8px;'>\n",
       "                <p style='margin: 0 0 10px 0; font-size: 16px;'><strong>Status:</strong> ✅ Rooms Available (Priority Override!)</p>\n",
       "                <p style='margin: 0 0 10px 0; font-size: 16px;'><strong>Middleware:</strong> 🌟 OVERRIDE ACTIVATED!</p>\n",
       "                <p style='margin: 0 0 10px 0; font-size: 16px;'><strong>Destination:</strong> 🏨 Paris</p>\n",
       "                <p style='margin: 0 0 10px 0; font-size: 16px;'><strong>Action:</strong> book_now</p>\n",
       "                <p style='margin: 0; font-size: 14px; color: #666;'><strong>Message:</strong> Experience the timeless charm of Paris! Rooms are available now, and as a priority member, you have exclusive access. Secure your booking today!</p>\n",
       "                <div style='margin-top: 15px; padding: 15px; background: #fff3cd; border-radius: 6px; border-left: 4px solid #FF6B35;'>\n",
       "                    <strong>💡 What Just Happened:</strong><br>\n",
       "                    1. hotel_booking tool returned \"no availability\"<br>\n",
       "                    2. priority_check_middleware intercepted the result<br>\n",
       "                    3. Middleware checked user status: priority_user ✅<br>\n",
       "                    4. Middleware OVERRODE the result to \"available\"<br>\n",
       "                    5. Workflow routed to booking_agent instead of alternative_agent!\n",
       "                </div>\n",
       "            </div>\n",
       "        </div>\n",
       "    "
      ],
      "text/plain": [
       "<IPython.core.display.HTML object>"
      ]
     },
     "metadata": {},
     "output_type": "display_data"
    }
   ],
   "source": [
    "# Set as priority user\n",
    "set_user(\"priority_user\")\n",
    "\n",
    "display(\n",
    "    HTML(\"\"\"\n",
    "    <div style='padding: 20px; background: linear-gradient(135deg, #FFD700 0%, #FFA500 100%); border-radius: 8px; margin: 20px 0;'>\n",
    "        <h3 style='margin: 0 0 10px 0; color: #333;'>🧪 TEST CASE 2: 🌟 Priority User + Paris</h3>\n",
    "        <p style='margin: 0; color: #555;'><strong>Expected:</strong> No rooms → 🌟 MIDDLEWARE OVERRIDE → Rooms available → Booking suggestion!</p>\n",
    "    </div>\n",
    "\"\"\")\n",
    ")\n",
    "\n",
    "# Create request\n",
    "request_priority = AgentExecutorRequest(\n",
    "    messages=[ChatMessage(Role.USER, text=\"I want to book a hotel in Paris\")], should_respond=True\n",
    ")\n",
    "\n",
    "# Run workflow\n",
    "events_priority = await workflow.run(request_priority)\n",
    "outputs_priority = events_priority.get_outputs()\n",
    "\n",
    "# Display results\n",
    "if outputs_priority:\n",
    "    result_priority = BookingConfirmation.model_validate_json(outputs_priority[0])\n",
    "\n",
    "    display(\n",
    "        HTML(f\"\"\"\n",
    "        <div style='padding: 25px; background: linear-gradient(135deg, #FFD700 0%, #FFA500 100%); border-radius: 12px; \n",
    "                    box-shadow: 0 8px 16px rgba(255,165,0,0.4); margin: 20px 0;'>\n",
    "            <h3 style='margin: 0 0 15px 0; color: #333;'>🏆 RESULT (Priority Member) 🌟</h3>\n",
    "            <div style='background: white; padding: 20px; border-radius: 8px;'>\n",
    "                <p style='margin: 0 0 10px 0; font-size: 16px;'><strong>Status:</strong> ✅ Rooms Available (Priority Override!)</p>\n",
    "                <p style='margin: 0 0 10px 0; font-size: 16px;'><strong>Middleware:</strong> 🌟 OVERRIDE ACTIVATED!</p>\n",
    "                <p style='margin: 0 0 10px 0; font-size: 16px;'><strong>Destination:</strong> 🏨 {result_priority.destination}</p>\n",
    "                <p style='margin: 0 0 10px 0; font-size: 16px;'><strong>Action:</strong> {result_priority.action}</p>\n",
    "                <p style='margin: 0; font-size: 14px; color: #666;'><strong>Message:</strong> {result_priority.message}</p>\n",
    "                <div style='margin-top: 15px; padding: 15px; background: #fff3cd; border-radius: 6px; border-left: 4px solid #FF6B35;'>\n",
    "                    <strong>💡 What Just Happened:</strong><br>\n",
    "                    1. hotel_booking tool returned \"no availability\"<br>\n",
    "                    2. priority_check_middleware intercepted the result<br>\n",
    "                    3. Middleware checked user status: priority_user ✅<br>\n",
    "                    4. Middleware OVERRODE the result to \"available\"<br>\n",
    "                    5. Workflow routed to booking_agent instead of alternative_agent!\n",
    "                </div>\n",
    "            </div>\n",
    "        </div>\n",
    "    \"\"\")\n",
    "    )"
   ]
  },
  {
   "cell_type": "markdown",
   "id": "baab4b1a",
   "metadata": {},
   "source": [
    "## 第12步：测试用例3 - 斯德哥尔摩的优先用户（已可用）\n",
    "\n",
    "优先用户尝试斯德哥尔摩 → 房间可用 → 无需覆盖 → 路由到 booking_agent\n",
    "\n",
    "这表明中间件仅在需要时才会起作用！\n"
   ]
  },
  {
   "cell_type": "code",
   "execution_count": 15,
   "id": "316a0d31",
   "metadata": {},
   "outputs": [
    {
     "data": {
      "text/html": [
       "\n",
       "    <div style='padding: 20px; background: #e8f5e9; border-left: 4px solid #4caf50; border-radius: 8px; margin: 20px 0;'>\n",
       "        <h3 style='margin: 0 0 10px 0; color: #1b5e20;'>🧪 TEST CASE 3: Priority User + Stockholm</h3>\n",
       "        <p style='margin: 0;'><strong>Expected:</strong> Rooms available → No override needed → Booking suggestion</p>\n",
       "    </div>\n"
      ],
      "text/plain": [
       "<IPython.core.display.HTML object>"
      ]
     },
     "metadata": {},
     "output_type": "display_data"
    },
    {
     "data": {
      "text/html": [
       "\n",
       "        <div style='padding: 12px; background: #fff3e0; border-left: 4px solid #ff9800; border-radius: 4px; margin: 10px 0;'>\n",
       "            <strong>🔄 Middleware:</strong> Intercepting hotel_booking...\n",
       "        </div>\n",
       "    "
      ],
      "text/plain": [
       "<IPython.core.display.HTML object>"
      ]
     },
     "metadata": {},
     "output_type": "display_data"
    },
    {
     "data": {
      "text/html": [
       "\n",
       "        <div style='padding: 15px; background: #e3f2fd; border-left: 4px solid #2196f3; border-radius: 4px; margin: 10px 0;'>\n",
       "            <strong>🔍 Tool Invoked:</strong> hotel_booking(\"Stockholm\")\n",
       "        </div>\n",
       "    "
      ],
      "text/plain": [
       "<IPython.core.display.HTML object>"
      ]
     },
     "metadata": {},
     "output_type": "display_data"
    },
    {
     "data": {
      "text/html": [
       "\n",
       "            <div style='padding: 12px; background: #ffecb3; border-left: 4px solid #ff9800; border-radius: 4px; margin: 10px 0;'>\n",
       "                <strong>❌ Condition Check:</strong> no_availability for Stockholm\n",
       "            </div>\n",
       "        "
      ],
      "text/plain": [
       "<IPython.core.display.HTML object>"
      ]
     },
     "metadata": {},
     "output_type": "display_data"
    },
    {
     "data": {
      "text/html": [
       "\n",
       "            <div style='padding: 12px; background: #c8e6c9; border-left: 4px solid #4caf50; border-radius: 4px; margin: 10px 0;'>\n",
       "                <strong>✅ Condition Check:</strong> has_availability = <strong>True</strong> for Stockholm\n",
       "            </div>\n",
       "        "
      ],
      "text/plain": [
       "<IPython.core.display.HTML object>"
      ]
     },
     "metadata": {},
     "output_type": "display_data"
    },
    {
     "data": {
      "text/html": [
       "\n",
       "        <div style='padding: 15px; background: #f3e5f5; border-left: 4px solid #9c27b0; border-radius: 4px; margin: 10px 0;'>\n",
       "            <strong>📤 Display Executor:</strong> Yielding workflow output\n",
       "        </div>\n",
       "    "
      ],
      "text/plain": [
       "<IPython.core.display.HTML object>"
      ]
     },
     "metadata": {},
     "output_type": "display_data"
    },
    {
     "data": {
      "text/html": [
       "\n",
       "        <div style='padding: 25px; background: linear-gradient(135deg, #4caf50 0%, #8bc34a 100%); color: white; border-radius: 12px; \n",
       "                    box-shadow: 0 4px 12px rgba(76,175,80,0.3); margin: 20px 0;'>\n",
       "            <h3 style='margin: 0 0 15px 0;'>🏆 RESULT (Priority User - No Override Needed)</h3>\n",
       "            <div style='background: white; color: #333; padding: 20px; border-radius: 8px;'>\n",
       "                <p style='margin: 0 0 10px 0; font-size: 16px;'><strong>Status:</strong> ✅ Rooms Available (Natural)</p>\n",
       "                <p style='margin: 0 0 10px 0; font-size: 16px;'><strong>Middleware:</strong> No override needed</p>\n",
       "                <p style='margin: 0 0 10px 0; font-size: 16px;'><strong>Destination:</strong> 🏨 Stockholm</p>\n",
       "                <p style='margin: 0 0 10px 0; font-size: 16px;'><strong>Action:</strong> book_now</p>\n",
       "                <p style='margin: 0; font-size: 14px; color: #666;'><strong>Message:</strong> Discover the beauty and history of Stockholm! Rooms are currently available, so don't miss the chance to secure your ideal stay.</p>\n",
       "                <div style='margin-top: 15px; padding: 15px; background: #e8f5e9; border-radius: 6px; border-left: 4px solid #4caf50;'>\n",
       "                    <strong>💡 Middleware Behavior:</strong><br>\n",
       "                    • hotel_booking returned \"available\" naturally<br>\n",
       "                    • Middleware saw available = true → No override needed<br>\n",
       "                    • Workflow proceeded normally to booking_agent\n",
       "                </div>\n",
       "            </div>\n",
       "        </div>\n",
       "    "
      ],
      "text/plain": [
       "<IPython.core.display.HTML object>"
      ]
     },
     "metadata": {},
     "output_type": "display_data"
    }
   ],
   "source": [
    "# Priority user is still set from previous test\n",
    "\n",
    "display(\n",
    "    HTML(\"\"\"\n",
    "    <div style='padding: 20px; background: #e8f5e9; border-left: 4px solid #4caf50; border-radius: 8px; margin: 20px 0;'>\n",
    "        <h3 style='margin: 0 0 10px 0; color: #1b5e20;'>🧪 TEST CASE 3: Priority User + Stockholm</h3>\n",
    "        <p style='margin: 0;'><strong>Expected:</strong> Rooms available → No override needed → Booking suggestion</p>\n",
    "    </div>\n",
    "\"\"\")\n",
    ")\n",
    "\n",
    "# Create request\n",
    "request_stockholm = AgentExecutorRequest(\n",
    "    messages=[ChatMessage(Role.USER, text=\"I want to book a hotel in Stockholm\")], should_respond=True\n",
    ")\n",
    "\n",
    "# Run workflow\n",
    "events_stockholm = await workflow.run(request_stockholm)\n",
    "outputs_stockholm = events_stockholm.get_outputs()\n",
    "\n",
    "# Display results\n",
    "if outputs_stockholm:\n",
    "    result_stockholm = BookingConfirmation.model_validate_json(outputs_stockholm[0])\n",
    "\n",
    "    display(\n",
    "        HTML(f\"\"\"\n",
    "        <div style='padding: 25px; background: linear-gradient(135deg, #4caf50 0%, #8bc34a 100%); color: white; border-radius: 12px; \n",
    "                    box-shadow: 0 4px 12px rgba(76,175,80,0.3); margin: 20px 0;'>\n",
    "            <h3 style='margin: 0 0 15px 0;'>🏆 RESULT (Priority User - No Override Needed)</h3>\n",
    "            <div style='background: white; color: #333; padding: 20px; border-radius: 8px;'>\n",
    "                <p style='margin: 0 0 10px 0; font-size: 16px;'><strong>Status:</strong> ✅ Rooms Available (Natural)</p>\n",
    "                <p style='margin: 0 0 10px 0; font-size: 16px;'><strong>Middleware:</strong> No override needed</p>\n",
    "                <p style='margin: 0 0 10px 0; font-size: 16px;'><strong>Destination:</strong> 🏨 {result_stockholm.destination}</p>\n",
    "                <p style='margin: 0 0 10px 0; font-size: 16px;'><strong>Action:</strong> {result_stockholm.action}</p>\n",
    "                <p style='margin: 0; font-size: 14px; color: #666;'><strong>Message:</strong> {result_stockholm.message}</p>\n",
    "                <div style='margin-top: 15px; padding: 15px; background: #e8f5e9; border-radius: 6px; border-left: 4px solid #4caf50;'>\n",
    "                    <strong>💡 Middleware Behavior:</strong><br>\n",
    "                    • hotel_booking returned \"available\" naturally<br>\n",
    "                    • Middleware saw available = true → No override needed<br>\n",
    "                    • Workflow proceeded normally to booking_agent\n",
    "                </div>\n",
    "            </div>\n",
    "        </div>\n",
    "    \"\"\")\n",
    "    )"
   ]
  },
  {
   "cell_type": "markdown",
   "id": "e498ee16",
   "metadata": {},
   "source": [
    "## 关键要点与中间件概念\n",
    "\n",
    "### ✅ 您学到了什么：\n",
    "\n",
    "#### **1. 基于函数的中间件模式**\n",
    "\n",
    "中间件通过一个简单的异步函数拦截函数调用：\n",
    "\n",
    "```python\n",
    "async def my_middleware(\n",
    "    context: FunctionInvocationContext,\n",
    "    next: Callable,\n",
    ") -> None:\n",
    "    # Before function execution\n",
    "    print(\"Intercepting...\")\n",
    "    \n",
    "    # Execute the function\n",
    "    await next(context)\n",
    "    \n",
    "    # After function execution - inspect result\n",
    "    if context.result:\n",
    "        # Modify result if needed\n",
    "        context.result = modified_value\n",
    "```\n",
    "\n",
    "#### **2. 上下文访问与结果覆盖**\n",
    "\n",
    "- `context.function` - 访问被调用的函数\n",
    "- `context.arguments` - 读取函数参数\n",
    "- `context.kwargs` - 访问额外的参数\n",
    "- `await next(context)` - 执行函数\n",
    "- `context.result` - 读取/修改函数的输出\n",
    "\n",
    "#### **3. 业务逻辑实现**\n",
    "\n",
    "我们的中间件实现了优先会员权益：\n",
    "- **普通用户**：无修改，标准工作流程\n",
    "- **优先用户**：将“无可用性”覆盖为“可用”\n",
    "- **条件逻辑**：仅在需要时进行覆盖\n",
    "\n",
    "#### **4. 相同的工作流程，不同的结果**\n",
    "\n",
    "中间件的强大之处：\n",
    "- ✅ 不改变工作流程结构\n",
    "- ✅ 不改变工具函数\n",
    "- ✅ 不改变条件路由逻辑\n",
    "- ✅ 仅通过中间件 → 实现不同的行为！\n",
    "\n",
    "### 🚀 实际应用场景：\n",
    "\n",
    "1. **VIP/高级功能**\n",
    "   - 为高级用户覆盖速率限制\n",
    "   - 提供资源的优先访问\n",
    "   - 动态解锁高级功能\n",
    "\n",
    "2. **A/B 测试**\n",
    "   - 将用户路由到不同的实现\n",
    "   - 针对特定用户测试新功能\n",
    "   - 渐进式功能发布\n",
    "\n",
    "3. **安全与合规**\n",
    "   - 审计函数调用\n",
    "   - 阻止敏感操作\n",
    "   - 强制执行业务规则\n",
    "\n",
    "4. **性能优化**\n",
    "   - 为特定用户缓存结果\n",
    "   - 在可能时跳过耗时操作\n",
    "   - 动态资源分配\n",
    "\n",
    "5. **错误处理与重试**\n",
    "   - 优雅地捕获和处理错误\n",
    "   - 实现重试逻辑\n",
    "   - 回退到替代实现\n",
    "\n",
    "6. **日志记录与监控**\n",
    "   - 跟踪函数执行时间\n",
    "   - 记录参数和结果\n",
    "   - 监控使用模式\n",
    "\n",
    "### 🔑 与装饰器的关键区别：\n",
    "\n",
    "| 特性         | 装饰器         | 中间件         |\n",
    "|--------------|----------------|----------------|\n",
    "| **范围**     | 单个函数       | 代理中的所有函数 |\n",
    "| **灵活性**   | 定义时固定     | 运行时动态     |\n",
    "| **上下文**   | 有限           | 完整的代理上下文 |\n",
    "| **组合**     | 多个装饰器     | 中间件管道     |\n",
    "| **代理感知** | 否             | 是（可访问代理状态） |\n",
    "\n",
    "### 📚 何时使用中间件：\n",
    "\n",
    "✅ **使用中间件当：**\n",
    "- 您需要根据用户/会话状态修改行为\n",
    "- 您希望对多个函数应用逻辑\n",
    "- 您需要访问代理级别的上下文\n",
    "- 您正在实现跨领域关注点（日志记录、认证等）\n",
    "\n",
    "❌ **不要使用中间件当：**\n",
    "- 简单的输入验证（使用 Pydantic）\n",
    "- 特定函数的逻辑（保留在函数中）\n",
    "- 一次性修改（直接修改函数）\n",
    "\n",
    "### 🎓 高级模式：\n",
    "\n",
    "```python\n",
    "# Multiple middleware (execution order matters!)\n",
    "middleware=[\n",
    "    logging_middleware,      # Logs first\n",
    "    auth_middleware,         # Then checks auth\n",
    "    cache_middleware,        # Then checks cache\n",
    "    rate_limit_middleware,   # Then rate limits\n",
    "    priority_check_middleware  # Finally priority check\n",
    "]\n",
    "\n",
    "# Conditional middleware execution\n",
    "async def conditional_middleware(context, next):\n",
    "    if should_execute(context):\n",
    "        await next(context)\n",
    "        # Modify result\n",
    "    else:\n",
    "        # Skip execution entirely\n",
    "        context.result = cached_value\n",
    "```\n",
    "\n",
    "### 🔗 相关概念：\n",
    "\n",
    "- **代理中间件**：拦截 agent.run() 调用\n",
    "- **函数中间件**：拦截工具函数调用（我们使用的方式！）\n",
    "- **中间件管道**：按顺序执行的中间件链\n",
    "- **上下文传播**：通过中间件链传递状态\n"
   ]
  },
  {
   "cell_type": "markdown",
   "metadata": {},
   "source": [
    "\n---\n\n**免责声明**：  \n本文档使用AI翻译服务 [Co-op Translator](https://github.com/Azure/co-op-translator) 进行翻译。尽管我们努力确保翻译的准确性，但请注意，自动翻译可能包含错误或不准确之处。原始语言的文档应被视为权威来源。对于关键信息，建议使用专业人工翻译。我们不对因使用此翻译而产生的任何误解或误读承担责任。\n"
   ]
  }
 ],
 "metadata": {
  "kernelspec": {
   "display_name": ".venv (3.12.11)",
   "language": "python",
   "name": "python3"
  },
  "language_info": {
   "codemirror_mode": {
    "name": "ipython",
    "version": 3
   },
   "file_extension": ".py",
   "mimetype": "text/x-python",
   "name": "python",
   "nbconvert_exporter": "python",
   "pygments_lexer": "ipython3",
   "version": "3.12.11"
  },
  "coopTranslator": {
   "original_hash": "cfefbf8368dc7fa2b8282495d79cbb48",
   "translation_date": "2025-10-09T19:05:58+00:00",
   "source_file": "14-microsoft-agent-framework/code-samples/14-middleware.ipynb",
   "language_code": "zh"
  }
 },
 "nbformat": 4,
 "nbformat_minor": 5
}