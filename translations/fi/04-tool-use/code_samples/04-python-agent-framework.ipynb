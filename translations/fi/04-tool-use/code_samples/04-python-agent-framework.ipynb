{
 "cells": [
  {
   "cell_type": "markdown",
   "id": "8744544f",
   "metadata": {},
   "source": [
    "# 🛠️ Edistynyt työkalujen käyttö GitHub-mallien kanssa (Python)\n",
    "\n",
    "## 📋 Oppimistavoitteet\n",
    "\n",
    "Tämä muistikirja esittelee edistyneitä työkalujen integrointimalleja Microsoft Agent Frameworkin avulla GitHub-mallien kanssa. Opit luomaan, hallitsemaan ja orkestroimaan useita työkaluja rakentaaksesi kehittyneitä agenttitoimintoja.\n",
    "\n",
    "**Mitä opit hallitsemaan:**\n",
    "- 🔧 **Monityökaluarkkitehtuuri**: Agenttien rakentaminen useilla erikoistuneilla työkaluilla\n",
    "- 🎯 **Työkalujen valintalogiikka**: Kuinka agentit valitsevat oikean työkalun jokaiseen tehtävään\n",
    "- 📊 **Datan käsittelytyökalut**: Työkalujen luominen eri datatyypeille\n",
    "- 🔗 **Työkalujen yhdistäminen**: Työkalujen yhdistäminen monimutkaisiin työnkulkuihin\n",
    "\n",
    "## 🎯 Keskeiset työkalumallit\n",
    "\n",
    "### Työkalujen suunnitteluperiaatteet\n",
    "- **Yksi vastuualue**: Jokaisella työkalulla on selkeä ja keskittynyt tarkoitus\n",
    "- **Tyyppiturvallisuus**: Vahva tyypitys luotettavaa työkalujen suorittamista varten\n",
    "- **Virheenkäsittely**: Sulava epäonnistuminen ja palautumismallit\n",
    "- **Yhdistettävyys**: Työkalut, jotka toimivat hyvin yhdessä\n",
    "\n",
    "### Edistyneet työkalutoiminnot\n",
    "- **Kontekstin ymmärtäminen**: Työkalut, jotka ymmärtävät keskustelun kontekstin\n",
    "- **Datan validointi**: Syötteen puhdistus ja tulosten tarkistus\n",
    "- **Suorituskyvyn optimointi**: Tehokkaat työkalujen suoritusmallit\n",
    "- **Laajennettavuus**: Uusien työkalutoimintojen helppo lisäys\n",
    "\n",
    "## 🔧 Tekninen arkkitehtuuri\n",
    "\n",
    "### Keskeiset komponentit\n",
    "- **Microsoft Agent Framework**: Python-toteutus edistyneellä työkalutuella\n",
    "- **GitHub-mallien integrointi**: Korkean suorituskyvyn kielimallien käyttö\n",
    "- **Työkalujen rekisteröintijärjestelmä**: Agenttitoimintojen järjestelmällinen hallinta\n",
    "- **Virheiden palautumismallit**: Työkalujen suoritusvirheiden vankka käsittely\n",
    "\n",
    "### Työkalujen integrointivirtaus\n",
    "```python\n",
    "User Request → Agent Analysis → Tool Selection → Tool Execution → Response Synthesis\n",
    "```\n",
    "\n",
    "## 🛠️ Esitellyt työkalukategoriat\n",
    "\n",
    "### 1. **Datan generointityökalut**\n",
    "- Satunnaisen kohteen generaattori\n",
    "- Sääinformaation tarjoaja  \n",
    "- Matkakustannuslaskuri\n",
    "- Aktiviteettisuositusmoottori\n",
    "\n",
    "### 2. **Käsittelytyökalut**\n",
    "- Tekstin muotoilu ja validointi\n",
    "- Datan muunnostyökalut\n",
    "- Sisällön analysointitoiminnot\n",
    "- Vastausten parannustyökalut\n",
    "\n",
    "### 3. **Integrointityökalut**\n",
    "- Ulkoisten API-yhteyksien luojat\n",
    "- Tiedostojärjestelmäoperaatiot\n",
    "- Tietokantakyselyrajapinnat\n",
    "- Verkkosivujen tietojen keräystyökalut\n",
    "\n",
    "## ⚙️ Esivaatimukset ja asennus\n",
    "\n",
    "**Vaaditut riippuvuudet:**\n",
    "```bash\n",
    "\n",
    "pip install agent-framework-core -U\n",
    "```\n",
    "\n",
    "**Ympäristön konfigurointi (.env-tiedosto):**\n",
    "```env\n",
    "GITHUB_TOKEN=your_github_personal_access_token\n",
    "GITHUB_ENDPOINT=https://models.inference.ai.azure.com\n",
    "GITHUB_MODEL_ID=gpt-4o-mini\n",
    "```\n",
    "\n",
    "**Valinnaiset API:t:**\n",
    "- Sääpalvelun API-avain (säätyökaluille)\n",
    "- Valuuttamuunnospalvelun käyttöoikeus\n",
    "- Matkatietopalvelun tunnukset\n",
    "\n",
    "## 🎨 Suunnittelumallit\n",
    "\n",
    "### Työkalutehdasmalli\n",
    "- Keskitetty työkalujen luonti ja konfigurointi\n",
    "- Johdonmukainen työkalujen käyttöliittymäsuunnittelu\n",
    "- Helppo työkalujen rekisteröinti ja löytäminen\n",
    "\n",
    "### Komentomalli\n",
    "- Työkalujen suorituslogiikan kapselointi\n",
    "- Kumoa/tee uudelleen -toiminnallisuus monimutkaisille operaatioille\n",
    "- Työkalujen käytön auditointiloki\n",
    "\n",
    "### Tarkkailijamalli\n",
    "- Työkalujen suoritusvalvonta\n",
    "- Suorituskykymetriikoiden kerääminen\n",
    "- Virheraportointi ja hälytykset\n",
    "\n",
    "## 🚀 Parhaat käytännöt\n",
    "\n",
    "- **Työkalujen dokumentointi**: Selkeät kuvaukset agentin ymmärtämiseksi\n",
    "- **Syötteen validointi**: Vahva parametrien tarkistus ja puhdistus\n",
    "- **Tulosten muotoilu**: Johdonmukaiset, jäsennettävät työkaluvastaukset\n",
    "- **Virheilmoitukset**: Hyödyllistä virhetietoa vianmääritykseen\n",
    "- **Suorituskyky**: Optimoitu työkalujen suorituskyky reagoivuuden varmistamiseksi\n",
    "\n",
    "Valmis rakentamaan agentteja tehokkailla työkalutoiminnoilla? Luodaan jotain upeaa! ⚡\n"
   ]
  },
  {
   "cell_type": "code",
   "execution_count": null,
   "id": "59c0feeb",
   "metadata": {},
   "outputs": [],
   "source": [
    "! pip install agent-framework-core -U"
   ]
  },
  {
   "cell_type": "code",
   "execution_count": null,
   "id": "c0df8a52",
   "metadata": {},
   "outputs": [],
   "source": [
    "# � Import core dependencies for Agent Framework and tool integration\n",
    "# This sets up the essential libraries for building intelligent agents with tool capabilities\n",
    "\n",
    "import asyncio\n",
    "import os\n",
    "import json\n",
    "\n",
    "from dotenv import load_dotenv  # For loading environment variables securely\n",
    "from random import randint\n",
    "\n",
    "# These are the core components for building tool-enabled agents\n",
    "from agent_framework import ChatAgent           # Main agent class\n",
    "from agent_framework.openai import OpenAIChatClient  # OpenAI-compatible client"
   ]
  },
  {
   "cell_type": "code",
   "execution_count": null,
   "id": "24c10eb0",
   "metadata": {},
   "outputs": [],
   "source": [
    "load_dotenv()"
   ]
  },
  {
   "cell_type": "code",
   "execution_count": null,
   "id": "151e0314",
   "metadata": {},
   "outputs": [],
   "source": [
    "# 🔑 Environment variables verification\n",
    "# Ensure all required GitHub Models credentials are properly configured\n",
    "print(\"GITHUB_ENDPOINT:\", os.environ.get(\"GITHUB_ENDPOINT\"))\n",
    "print(\"GITHUB_TOKEN:\", \"***\" if os.environ.get(\"GITHUB_TOKEN\") else \"Not set\")\n",
    "print(\"GITHUB_MODEL_ID:\", os.environ.get(\"GITHUB_MODEL_ID\"))"
   ]
  },
  {
   "cell_type": "code",
   "execution_count": null,
   "id": "a6141584",
   "metadata": {},
   "outputs": [],
   "source": [
    "# 🧪 Test GitHub Models connectivity\n",
    "openai_chat_client = OpenAIChatClient(base_url=os.environ.get(\"GITHUB_ENDPOINT\"), api_key=os.environ.get(\"GITHUB_TOKEN\"), model_id=os.environ.get(\"GITHUB_MODEL_ID\"))"
   ]
  },
  {
   "cell_type": "code",
   "execution_count": null,
   "id": "a6507f83",
   "metadata": {},
   "outputs": [],
   "source": [
    "# 🛠️ Define travel planning tools for agent integration\n",
    "# These functions provide specific capabilities that the agent can invoke dynamically\n",
    "\n",
    "def get_random_destination() -> str:\n",
    "    \"\"\"\n",
    "    🎲 Random destination generator tool\n",
    "    Returns a randomly selected travel destination from curated list\n",
    "    Useful when customers need inspiration for their next vacation\n",
    "    \"\"\"\n",
    "    destinations = [\n",
    "        \"Paris, France\",\n",
    "        \"Tokyo, Japan\", \n",
    "        \"New York City, USA\",\n",
    "        \"London, England\",\n",
    "        \"Rome, Italy\",\n",
    "        \"Sydney, Australia\",\n",
    "        \"Dubai, UAE\",\n",
    "        \"Barcelona, Spain\",\n",
    "        \"Bangkok, Thailand\",\n",
    "        \"Amsterdam, Netherlands\",\n",
    "        \"Istanbul, Turkey\",\n",
    "        \"Prague, Czech Republic\",\n",
    "        \"Santorini, Greece\",\n",
    "        \"Reykjavik, Iceland\",\n",
    "        \"Marrakech, Morocco\",\n",
    "        \"Cape Town, South Africa\",\n",
    "        \"Rio de Janeiro, Brazil\",\n",
    "        \"Bali, Indonesia\"\n",
    "    ]\n",
    "    # 🎯 Return random selection from the curated destination list\n",
    "    return destinations[randint(0, len(destinations) - 1)]"
   ]
  },
  {
   "cell_type": "code",
   "execution_count": null,
   "id": "5d4f0568",
   "metadata": {},
   "outputs": [],
   "source": [
    "# 🔗 Initialize GitHub Models chat client for agent communication\n",
    "# Creates the primary interface between the agent and the language model\n",
    "openai_chat_client = OpenAIChatClient(base_url=os.environ.get(\"GITHUB_ENDPOINT\"), api_key=os.environ.get(\"GITHUB_TOKEN\"), model_id=os.environ.get(\"GITHUB_MODEL_ID\"))"
   ]
  },
  {
   "cell_type": "code",
   "execution_count": null,
   "id": "751668c5",
   "metadata": {},
   "outputs": [],
   "source": [
    "# 🤖 Configure travel agent identity and behavioral instructions\n",
    "# Define the agent's personality, capabilities, and operational guidelines\n",
    "\n",
    "AGENT_NAME = \"TravelAgent\"\n",
    "\n",
    "AGENT_INSTRUCTIONS = \"\"\"You are a helpful AI Agent that can help plan vacations for customers at random destinations\n",
    "\"\"\""
   ]
  },
  {
   "cell_type": "code",
   "execution_count": null,
   "id": "be18ac4f",
   "metadata": {},
   "outputs": [],
   "source": [
    "agent = ChatAgent(\n",
    "        name = AGENT_NAME,\n",
    "        chat_client=openai_chat_client,\n",
    "        instructions=AGENT_INSTRUCTIONS,\n",
    "        tools=[get_random_destination]\n",
    ")"
   ]
  },
  {
   "cell_type": "code",
   "execution_count": null,
   "id": "772e9481",
   "metadata": {},
   "outputs": [],
   "source": [
    "thread = agent.get_new_thread()"
   ]
  },
  {
   "cell_type": "code",
   "execution_count": null,
   "id": "a731b547",
   "metadata": {},
   "outputs": [],
   "source": [
    "response1 = await agent.run(\"Plan me a day trip\",thread= thread)"
   ]
  },
  {
   "cell_type": "code",
   "execution_count": null,
   "id": "7d3fe00a",
   "metadata": {},
   "outputs": [],
   "source": [
    "\n",
    "last_message = response1.messages[-1]\n",
    "text_content = last_message.contents[0].text\n",
    "print(\"Travel plan:\")\n",
    "print(text_content)"
   ]
  },
  {
   "cell_type": "markdown",
   "metadata": {},
   "source": [
    "\n---\n\n**Vastuuvapauslauseke**:  \nTämä asiakirja on käännetty käyttämällä tekoälypohjaista käännöspalvelua [Co-op Translator](https://github.com/Azure/co-op-translator). Vaikka pyrimme tarkkuuteen, huomioithan, että automaattiset käännökset voivat sisältää virheitä tai epätarkkuuksia. Alkuperäistä asiakirjaa sen alkuperäisellä kielellä tulisi pitää ensisijaisena lähteenä. Kriittisen tiedon osalta suositellaan ammattimaista ihmiskäännöstä. Emme ole vastuussa väärinkäsityksistä tai virhetulkinnoista, jotka johtuvat tämän käännöksen käytöstä.\n"
   ]
  }
 ],
 "metadata": {
  "kernelspec": {
   "display_name": "agentenv",
   "language": "python",
   "name": "python3"
  },
  "language_info": {
   "codemirror_mode": {
    "name": "ipython",
    "version": 3
   },
   "file_extension": ".py",
   "mimetype": "text/x-python",
   "name": "python",
   "nbconvert_exporter": "python",
   "pygments_lexer": "ipython3",
   "version": "3.12.10"
  },
  "polyglot_notebook": {
   "kernelInfo": {
    "defaultKernelName": "csharp",
    "items": [
     {
      "aliases": [],
      "name": "csharp"
     }
    ]
   }
  },
  "coopTranslator": {
   "original_hash": "42966ddac53cebaf0ac1ce33b2ee7059",
   "translation_date": "2025-10-02T17:53:08+00:00",
   "source_file": "04-tool-use/code_samples/04-python-agent-framework.ipynb",
   "language_code": "fi"
  }
 },
 "nbformat": 4,
 "nbformat_minor": 5
}