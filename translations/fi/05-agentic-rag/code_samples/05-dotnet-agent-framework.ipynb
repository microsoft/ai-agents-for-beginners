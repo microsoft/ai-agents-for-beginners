{
 "cells": [
  {
   "cell_type": "markdown",
   "id": "44b5899e",
   "metadata": {},
   "source": [
    "# 🔍 Yritystason RAG Azure AI Foundrylla (.NET)\n",
    "\n",
    "## 📋 Oppimistavoitteet\n",
    "\n",
    "Tämä notebook esittelee, kuinka rakentaa yritystason Retrieval-Augmented Generation (RAG) -järjestelmiä Microsoft Agent Frameworkin avulla .NET:ssä ja Azure AI Foundryssa. Opit luomaan tuotantovalmiita agentteja, jotka voivat etsiä dokumentteja ja tarjota tarkkoja, kontekstitietoisia vastauksia yritystason turvallisuudella ja skaalautuvuudella.\n",
    "\n",
    "**Yritystason RAG-ominaisuudet, joita rakennat:**\n",
    "- 📚 **Dokumenttien älykkyys**: Kehittynyt dokumenttien käsittely Azure AI -palveluilla\n",
    "- 🔍 **Semanttinen haku**: Suorituskykyinen vektorihaku yritysominaisuuksilla\n",
    "- 🛡️ **Turvallisuusintegraatio**: Roolipohjainen pääsy ja tietosuojamallit\n",
    "- 🏢 **Skaalautuva arkkitehtuuri**: Tuotantovalmiit RAG-järjestelmät valvonnalla\n",
    "\n",
    "## 🎯 Yritystason RAG-arkkitehtuuri\n",
    "\n",
    "### Keskeiset yrityskomponentit\n",
    "- **Azure AI Foundry**: Hallinnoitu yritystason AI-alusta turvallisuudella ja vaatimustenmukaisuudella\n",
    "- **Pysyvät agentit**: Tilalliset agentit keskusteluhistorian ja kontekstinhallinnan kanssa\n",
    "- **Vektorivaraston hallinta**: Yritystason dokumenttien indeksointi ja haku\n",
    "- **Identiteetti-integraatio**: Azure AD -autentikointi ja roolipohjainen pääsynhallinta\n",
    "\n",
    "### .NET-yrityshyödyt\n",
    "- **Tyyppiturvallisuus**: Kääntöaikainen validointi RAG-toiminnoille ja tietorakenteille\n",
    "- **Asynkroninen suorituskyky**: Ei-blokkaava dokumenttien käsittely ja hakutoiminnot\n",
    "- **Muistinhallinta**: Tehokas resurssien käyttö suurille dokumenttikokoelmille\n",
    "- **Integraatiomallit**: Natiivisti Azure-palveluihin integroituminen riippuvuuksien injektiolla\n",
    "\n",
    "## 🏗️ Tekninen arkkitehtuuri\n",
    "\n",
    "### Yritystason RAG-putkisto\n",
    "```csharp\n",
    "Document Upload → Security Validation → Vector Processing → Index Creation\n",
    "                      ↓                    ↓                  ↓\n",
    "User Query → Authentication → Semantic Search → Context Ranking → AI Response\n",
    "```\n",
    "\n",
    "### Keskeiset .NET-komponentit\n",
    "- **Azure.AI.Agents.Persistent**: Yritysagenttien hallinta tilan pysyvyydellä\n",
    "- **Azure.Identity**: Integroitu autentikointi turvalliseen Azure-palveluiden käyttöön\n",
    "- **Microsoft.Agents.AI.AzureAI**: Azure-optimoitu agenttikehys\n",
    "- **System.Linq.Async**: Suorituskykyiset asynkroniset LINQ-toiminnot\n",
    "\n",
    "## 🔧 Yritystason ominaisuudet ja hyödyt\n",
    "\n",
    "### Turvallisuus ja vaatimustenmukaisuus\n",
    "- **Azure AD -integraatio**: Yrityksen identiteetinhallinta ja autentikointi\n",
    "- **Roolipohjainen pääsy**: Tarkat käyttöoikeudet dokumenttien käyttöön ja toimintoihin\n",
    "- **Tietosuoja**: Salaus levossa ja siirrossa arkaluontoisille dokumenteille\n",
    "- **Auditointilokit**: Kattava toiminnan seuranta vaatimustenmukaisuuden varmistamiseksi\n",
    "\n",
    "### Suorituskyky ja skaalautuvuus\n",
    "- **Yhteyspoolaus**: Tehokas Azure-palveluiden yhteyksien hallinta\n",
    "- **Asynkroninen käsittely**: Ei-blokkaavat toiminnot korkean läpimenon skenaarioihin\n",
    "- **Välimuististrategiat**: Älykäs välimuisti usein käytetyille dokumenteille\n",
    "- **Kuormantasapainotus**: Hajautettu käsittely suurten järjestelmien käyttöönottoon\n",
    "\n",
    "### Hallinta ja valvonta\n",
    "- **Terveystarkistukset**: Sisäänrakennettu valvonta RAG-järjestelmän komponenteille\n",
    "- **Suorituskykymittarit**: Yksityiskohtainen analytiikka hakulaadusta ja vasteajoista\n",
    "- **Virheenkäsittely**: Kattava poikkeusten hallinta ja uudelleenyrittämiskäytännöt\n",
    "- **Konfiguraation hallinta**: Ympäristökohtaiset asetukset validoinnilla\n",
    "\n",
    "## ⚙️ Esivaatimukset ja asennus\n",
    "\n",
    "**Kehitysympäristö:**\n",
    "- .NET 9.0 SDK tai uudempi\n",
    "- Visual Studio 2022 tai VS Code C#-laajennuksella\n",
    "- Azure-tilaus AI Foundry -pääsyllä\n",
    "\n",
    "**Vaaditut NuGet-paketit:**\n",
    "```xml\n",
    "<PackageReference Include=\"Microsoft.Extensions.AI\" Version=\"9.9.0\" />\n",
    "<PackageReference Include=\"Azure.AI.Agents.Persistent\" Version=\"1.2.0-beta.5\" />\n",
    "<PackageReference Include=\"Azure.Identity\" Version=\"1.15.0\" />\n",
    "<PackageReference Include=\"System.Linq.Async\" Version=\"6.0.3\" />\n",
    "<PackageReference Include=\"DotNetEnv\" Version=\"3.1.1\" />\n",
    "```\n",
    "\n",
    "**Azure-autentikoinnin asennus:**\n",
    "```bash\n",
    "# Install Azure CLI and authenticate\n",
    "az login\n",
    "az account set --subscription \"your-subscription-id\"\n",
    "```\n",
    "\n",
    "**Ympäristön konfiguraatio (.env-tiedosto):**\n",
    "```env\n",
    "# Azure AI Foundry configuration (automatically handled via Azure CLI)\n",
    "# Ensure you're authenticated to the correct Azure subscription\n",
    "```\n",
    "\n",
    "## 📊 Yritystason RAG-mallit\n",
    "\n",
    "### Dokumenttien hallintamallit\n",
    "- **Massalataus**: Tehokas suurten dokumenttikokoelmien käsittely\n",
    "- **Inkrementaaliset päivitykset**: Reaaliaikainen dokumenttien lisäys ja muokkaus\n",
    "- **Versiohallinta**: Dokumenttien versiointi ja muutosten seuranta\n",
    "- **Metatietojen hallinta**: Rikkaat dokumenttiattribuutit ja taksonomia\n",
    "\n",
    "### Haku- ja hakumallit\n",
    "- **Hybridihaku**: Semanttisen ja avainsanahaun yhdistäminen optimaalisiin tuloksiin\n",
    "- **Fasettihaku**: Moniulotteinen suodatus ja kategorisointi\n",
    "- **Relevanssin säätö**: Mukautetut pisteytysalgoritmit toimialakohtaisiin tarpeisiin\n",
    "- **Tulosten järjestäminen**: Kehittynyt järjestäminen liiketoimintalogiikan integroinnilla\n",
    "\n",
    "### Turvallisuusmallit\n",
    "- **Dokumenttikohtainen turvallisuus**: Tarkat käyttöoikeudet dokumenttikohtaisesti\n",
    "- **Tietojen luokittelu**: Automaattinen arkaluontoisuuden merkintä ja suojaus\n",
    "- **Auditointijäljet**: Kattava lokitus kaikille RAG-toiminnoille\n",
    "- **Yksityisyyden suoja**: PII-tunnistus ja peittokäsittely\n",
    "\n",
    "## 🔒 Yritystason turvallisuusominaisuudet\n",
    "\n",
    "### Autentikointi ja valtuutus\n",
    "```csharp\n",
    "// Azure AD integrated authentication\n",
    "var credential = new AzureCliCredential();\n",
    "var agentsClient = new PersistentAgentsClient(endpoint, credential);\n",
    "\n",
    "// Role-based access validation\n",
    "if (!await ValidateUserPermissions(user, documentId))\n",
    "{\n",
    "    throw new UnauthorizedAccessException(\"Insufficient permissions\");\n",
    "}\n",
    "```\n",
    "\n",
    "### Tietosuoja\n",
    "- **Salaus**: Päästä päähän -salaus dokumenteille ja hakemistoille\n",
    "- **Käyttöoikeudet**: Integraatio Azure AD:n käyttäjä- ja ryhmäoikeuksiin\n",
    "- **Tietojen sijainti**: Maantieteellinen tietojen sijainnin hallinta vaatimustenmukaisuuden vuoksi\n",
    "- **Varmuuskopiointi ja palautus**: Automaattiset varmuuskopiointi- ja katastrofipalautuskäytännöt\n",
    "\n",
    "## 📈 Suorituskyvyn optimointi\n",
    "\n",
    "### Asynkroniset käsittelymallit\n",
    "```csharp\n",
    "// Efficient async document processing\n",
    "await foreach (var document in documentStream.AsAsyncEnumerable())\n",
    "{\n",
    "    await ProcessDocumentAsync(document, cancellationToken);\n",
    "}\n",
    "```\n",
    "\n",
    "### Muistinhallinta\n",
    "- **Suoratoistokäsittely**: Suurten dokumenttien käsittely ilman muistiongelmia\n",
    "- **Resurssien poolaus**: Kalliiden resurssien tehokas uudelleenkäyttö\n",
    "- **Roskankeruu**: Optimoidut muistiallokointimallit\n",
    "- **Yhteydenhallinta**: Oikea Azure-palveluyhteyksien elinkaaren hallinta\n",
    "\n",
    "### Välimuististrategiat\n",
    "- **Hakuvälimuisti**: Usein suoritettujen hakujen välimuisti\n",
    "- **Dokumenttivälimuisti**: Kuumien dokumenttien välimuisti muistissa\n",
    "- **Indeksivälimuisti**: Optimoitu vektorihakemiston välimuisti\n",
    "- **Tulosten välimuisti**: Älykäs välimuisti generoituja vastauksia varten\n",
    "\n",
    "## 📊 Yritystason käyttötapaukset\n",
    "\n",
    "### Tiedonhallinta\n",
    "- **Yrityksen wiki**: Älykäs haku yrityksen tietokannoissa\n",
    "- **Politiikat ja menettelytavat**: Automaattinen vaatimustenmukaisuus ja ohjeistus\n",
    "- **Koulutusmateriaalit**: Älykäs oppimisen ja kehityksen tuki\n",
    "- **Tutkimustietokannat**: Akateemisten ja tutkimuspapereiden analyysijärjestelmät\n",
    "\n",
    "### Asiakastuki\n",
    "- **Tukitietokanta**: Automaattiset asiakaspalveluvastaukset\n",
    "- **Tuotedokumentaatio**: Älykäs tuotetiedon haku\n",
    "- **Vianetsintäoppaat**: Kontekstuaalinen ongelmanratkaisun tuki\n",
    "- **FAQ-järjestelmät**: Dynaaminen FAQ:n luominen dokumenttikokoelmista\n",
    "\n",
    "### Sääntelyn vaatimustenmukaisuus\n",
    "- **Oikeudellisten dokumenttien analyysi**: Sopimusten ja oikeudellisten dokumenttien älykkyys\n",
    "- **Vaatimustenmukaisuuden seuranta**: Automaattinen sääntelyn vaatimustenmukaisuuden tarkistus\n",
    "- **Riskien arviointi**: Dokumenttipohjainen riskianalyysi ja raportointi\n",
    "- **Auditointituki**: Älykäs dokumenttien etsintä auditointeihin\n",
    "\n",
    "## 🚀 Tuotantokäyttöönotto\n",
    "\n",
    "### Valvonta ja havainnointi\n",
    "- **Application Insights**: Yksityiskohtainen telemetria ja suorituskyvyn valvonta\n",
    "- **Mukautetut mittarit**: Liiketoimintakohtainen KPI-seuranta ja hälytykset\n",
    "- **Hajautettu jäljitys**: Pyyntöjen end-to-end-seuranta palveluiden välillä\n",
    "- **Terveysnäkymät**: Reaaliaikainen järjestelmän terveyden ja suorituskyvyn visualisointi\n",
    "\n",
    "### Skaalautuvuus ja luotettavuus\n",
    "- **Automaattinen skaalautuminen**: Automaattinen skaalautuminen kuorman ja suorituskykymittareiden perusteella\n",
    "- **Korkea käytettävyys**: Monialueinen käyttöönotto varajärjestelmillä\n",
    "- **Kuormitustestaus**: Suorituskyvyn validointi yritystason kuormituksessa\n",
    "- **Katastrofipalautus**: Automaattiset varmuuskopiointi- ja palautuskäytännöt\n",
    "\n",
    "Valmiina rakentamaan yritystason RAG-järjestelmiä, jotka käsittelevät arkaluontoisia dokumentteja skaalautuvasti? Suunnitellaan älykkäitä tietojärjestelmiä yrityksille! 🏢📖✨\n"
   ]
  },
  {
   "cell_type": "code",
   "execution_count": 1,
   "metadata": {
    "language_info": {
     "name": "polyglot-notebook"
    },
    "polyglot_notebook": {
     "kernelName": "csharp"
    }
   },
   "outputs": [
    {
     "data": {
      "text/html": [
       "<div><div></div><div></div><div><strong>Installed Packages</strong><ul><li><span>Microsoft.Extensions.AI, 9.9.1</span></li></ul></div></div>"
      ]
     },
     "metadata": {},
     "output_type": "display_data"
    }
   ],
   "source": [
    "#r \"nuget: Microsoft.Extensions.AI, 9.9.1\""
   ]
  },
  {
   "cell_type": "code",
   "execution_count": 2,
   "id": "4ec1f0d1",
   "metadata": {
    "language_info": {
     "name": "polyglot-notebook"
    },
    "polyglot_notebook": {
     "kernelName": "csharp"
    }
   },
   "outputs": [
    {
     "data": {
      "text/html": [
       "<div><div></div><div></div><div><strong>Installed Packages</strong><ul><li><span>Azure.AI.Agents.Persistent, 1.2.0-beta.5</span></li><li><span>Azure.Identity, 1.15.0</span></li><li><span>System.Linq.Async, 6.0.3</span></li></ul></div></div>"
      ]
     },
     "metadata": {},
     "output_type": "display_data"
    }
   ],
   "source": [
    "#r \"nuget: Azure.AI.Agents.Persistent, 1.2.0-beta.5\"\n",
    "#r \"nuget: Azure.Identity, 1.15.0\"\n",
    "#r \"nuget: System.Linq.Async, 6.0.3\""
   ]
  },
  {
   "cell_type": "code",
   "execution_count": 3,
   "id": "2363ae07",
   "metadata": {
    "language_info": {
     "name": "polyglot-notebook"
    },
    "polyglot_notebook": {
     "kernelName": "csharp"
    }
   },
   "outputs": [],
   "source": []
  },
  {
   "cell_type": "code",
   "execution_count": null,
   "id": "d10cec9d",
   "metadata": {
    "language_info": {
     "name": "polyglot-notebook"
    },
    "polyglot_notebook": {
     "kernelName": "csharp"
    }
   },
   "outputs": [
    {
     "data": {
      "text/html": [
       "<div><div></div><div></div><div><strong>Installed Packages</strong><ul><li><span>Microsoft.Agents.AI.AzureAI, 1.0.0-preview.251001.2</span></li></ul></div></div>"
      ]
     },
     "metadata": {},
     "output_type": "display_data"
    }
   ],
   "source": [
    "#r \"nuget: Microsoft.Agents.AI.AzureAI, 1.0.0-preview.251001.3\""
   ]
  },
  {
   "cell_type": "code",
   "execution_count": null,
   "id": "78199d1c",
   "metadata": {
    "language_info": {
     "name": "polyglot-notebook"
    },
    "polyglot_notebook": {
     "kernelName": "csharp"
    }
   },
   "outputs": [
    {
     "data": {
      "text/html": [
       "<div><div></div><div></div><div><strong>Installed Packages</strong><ul><li><span>microsoft.agents.ai, 1.0.0-preview.251001.2</span></li></ul></div></div>"
      ]
     },
     "metadata": {},
     "output_type": "display_data"
    }
   ],
   "source": [
    "#r \"nuget: Microsoft.Agents.AI, 1.0.0-preview.251001.3\""
   ]
  },
  {
   "cell_type": "code",
   "execution_count": 6,
   "id": "7de4684a",
   "metadata": {
    "language_info": {
     "name": "polyglot-notebook"
    },
    "polyglot_notebook": {
     "kernelName": "csharp"
    }
   },
   "outputs": [
    {
     "data": {
      "text/html": [
       "<div><div></div><div></div><div><strong>Installed Packages</strong><ul><li><span>DotNetEnv, 3.1.1</span></li></ul></div></div>"
      ]
     },
     "metadata": {},
     "output_type": "display_data"
    }
   ],
   "source": [
    "#r \"nuget: DotNetEnv, 3.1.1\""
   ]
  },
  {
   "cell_type": "code",
   "execution_count": 7,
   "id": "251efd31",
   "metadata": {
    "language_info": {
     "name": "polyglot-notebook"
    },
    "polyglot_notebook": {
     "kernelName": "csharp"
    }
   },
   "outputs": [],
   "source": [
    "using System;\n",
    "using System.Linq;\n",
    "using Azure.AI.Agents.Persistent;\n",
    "using Azure.Identity;\n",
    "using Microsoft.Agents.AI;"
   ]
  },
  {
   "cell_type": "code",
   "execution_count": 8,
   "id": "a2e342f1",
   "metadata": {
    "language_info": {
     "name": "polyglot-notebook"
    },
    "polyglot_notebook": {
     "kernelName": "csharp"
    }
   },
   "outputs": [],
   "source": [
    " using DotNetEnv;"
   ]
  },
  {
   "cell_type": "code",
   "execution_count": 9,
   "id": "a7a01653",
   "metadata": {
    "language_info": {
     "name": "polyglot-notebook"
    },
    "polyglot_notebook": {
     "kernelName": "csharp"
    }
   },
   "outputs": [],
   "source": [
    "Env.Load(\"../../../.env\");"
   ]
  },
  {
   "cell_type": "code",
   "execution_count": 10,
   "id": "a42735d5",
   "metadata": {
    "language_info": {
     "name": "polyglot-notebook"
    },
    "polyglot_notebook": {
     "kernelName": "csharp"
    }
   },
   "outputs": [],
   "source": [
    "var azure_foundry_endpoint = Environment.GetEnvironmentVariable(\"AZURE_AI_PROJECT_ENDPOINT\") ?? throw new InvalidOperationException(\"AZURE_AI_PROJECT_ENDPOINT is not set.\");\n",
    "var azure_foundry_model_id = Environment.GetEnvironmentVariable(\"AZURE_AI_MODEL_DEPLOYMENT_NAME\") ?? \"gpt-4.1-mini\";"
   ]
  },
  {
   "cell_type": "code",
   "execution_count": 11,
   "id": "e29bdb58",
   "metadata": {
    "language_info": {
     "name": "polyglot-notebook"
    },
    "polyglot_notebook": {
     "kernelName": "csharp"
    }
   },
   "outputs": [],
   "source": [
    "string pdfPath = \"./document.md\";"
   ]
  },
  {
   "cell_type": "code",
   "execution_count": 12,
   "id": "7351e12d",
   "metadata": {
    "language_info": {
     "name": "polyglot-notebook"
    },
    "polyglot_notebook": {
     "kernelName": "csharp"
    }
   },
   "outputs": [],
   "source": [
    "using System.IO;\n",
    "\n",
    "async Task<Stream> OpenImageStreamAsync(string path)\n",
    "{\n",
    "\treturn await Task.Run(() => File.OpenRead(path));\n",
    "}\n",
    "\n",
    "var pdfStream = await OpenImageStreamAsync(pdfPath);"
   ]
  },
  {
   "cell_type": "code",
   "execution_count": 13,
   "id": "0b6bf484",
   "metadata": {
    "language_info": {
     "name": "polyglot-notebook"
    },
    "polyglot_notebook": {
     "kernelName": "csharp"
    }
   },
   "outputs": [],
   "source": [
    "var persistentAgentsClient = new PersistentAgentsClient(azure_foundry_endpoint, new AzureCliCredential());"
   ]
  },
  {
   "cell_type": "code",
   "execution_count": 14,
   "id": "81e0dddc",
   "metadata": {
    "language_info": {
     "name": "polyglot-notebook"
    },
    "polyglot_notebook": {
     "kernelName": "csharp"
    }
   },
   "outputs": [],
   "source": [
    "PersistentAgentFileInfo fileInfo = await persistentAgentsClient.Files.UploadFileAsync(pdfStream, PersistentAgentFilePurpose.Agents, \"demo.md\");"
   ]
  },
  {
   "cell_type": "code",
   "execution_count": 15,
   "id": "f0c75d80",
   "metadata": {
    "language_info": {
     "name": "polyglot-notebook"
    },
    "polyglot_notebook": {
     "kernelName": "csharp"
    }
   },
   "outputs": [],
   "source": [
    "PersistentAgentsVectorStore fileStore =\n",
    "            await persistentAgentsClient.VectorStores.CreateVectorStoreAsync(\n",
    "                [fileInfo.Id],\n",
    "                metadata: new Dictionary<string, string>() { { \"agentkey\", bool.TrueString } });"
   ]
  },
  {
   "cell_type": "code",
   "execution_count": 16,
   "id": "c77986c5",
   "metadata": {
    "language_info": {
     "name": "polyglot-notebook"
    },
    "polyglot_notebook": {
     "kernelName": "csharp"
    }
   },
   "outputs": [],
   "source": [
    "PersistentAgent agentModel = await persistentAgentsClient.Administration.CreateAgentAsync(\n",
    "            azure_foundry_model_id,\n",
    "            name: \"DotNetRAGAgent\",\n",
    "            tools: [new FileSearchToolDefinition()],\n",
    "            instructions: \"\"\"\n",
    "                You are an AI assistant designed to answer user questions using only the information retrieved from the provided document(s).\n",
    "\n",
    "                - If a user's question cannot be answered using the retrieved context, **you must clearly respond**: \n",
    "                \"I'm sorry, but the uploaded document does not contain the necessary information to answer that question.\"\n",
    "                - Do not answer from general knowledge or reasoning. Do not make assumptions or generate hypothetical explanations.\n",
    "                - Do not provide definitions, tutorials, or commentary that is not explicitly grounded in the content of the uploaded file(s).\n",
    "                - If a user asks a question like \"What is a Neural Network?\", and this is not discussed in the uploaded document, respond as instructed above.\n",
    "                - For questions that do have relevant content in the document (e.g., Contoso's travel insurance coverage), respond accurately, and cite the document explicitly.\n",
    "\n",
    "                You must behave as if you have no external knowledge beyond what is retrieved from the uploaded document.\n",
    "                \"\"\",\n",
    "            toolResources: new()\n",
    "            {\n",
    "                FileSearch = new()\n",
    "                {\n",
    "                    VectorStoreIds = { fileStore.Id },\n",
    "                }\n",
    "            },\n",
    "            metadata: new Dictionary<string, string>() { { \"agentkey\", bool.TrueString } });"
   ]
  },
  {
   "cell_type": "code",
   "execution_count": 17,
   "id": "282326cf",
   "metadata": {
    "language_info": {
     "name": "polyglot-notebook"
    },
    "polyglot_notebook": {
     "kernelName": "csharp"
    }
   },
   "outputs": [],
   "source": [
    "AIAgent agent = await persistentAgentsClient.GetAIAgentAsync(agentModel.Id);"
   ]
  },
  {
   "cell_type": "code",
   "execution_count": 18,
   "id": "2067d313",
   "metadata": {
    "language_info": {
     "name": "polyglot-notebook"
    },
    "polyglot_notebook": {
     "kernelName": "csharp"
    }
   },
   "outputs": [],
   "source": [
    "AgentThread thread = agent.GetNewThread();"
   ]
  },
  {
   "cell_type": "code",
   "execution_count": 19,
   "id": "454c4230",
   "metadata": {
    "language_info": {
     "name": "polyglot-notebook"
    },
    "polyglot_notebook": {
     "kernelName": "csharp"
    }
   },
   "outputs": [
    {
     "name": "stdout",
     "output_type": "stream",
     "text": [
      "Contoso's travel insurance coverage includes protection for medical emergencies, trip cancellations, and lost baggage. This ensures that travelers are supported in case of health-related issues during their trip, unforeseen cancellations, and the loss of their belongings while traveling【4:0†demo.md】.\r\n"
     ]
    }
   ],
   "source": [
    "Console.WriteLine(await agent.RunAsync(\"Can you explain Contoso's travel insurance coverage?\", thread));"
   ]
  },
  {
   "cell_type": "markdown",
   "metadata": {},
   "source": [
    "\n---\n\n**Vastuuvapauslauseke**:  \nTämä asiakirja on käännetty käyttämällä tekoälypohjaista käännöspalvelua [Co-op Translator](https://github.com/Azure/co-op-translator). Vaikka pyrimme tarkkuuteen, huomioithan, että automaattiset käännökset voivat sisältää virheitä tai epätarkkuuksia. Alkuperäinen asiakirja sen alkuperäisellä kielellä tulisi pitää ensisijaisena lähteenä. Kriittisen tiedon osalta suositellaan ammattimaista ihmiskäännöstä. Emme ole vastuussa väärinkäsityksistä tai virhetulkinnoista, jotka johtuvat tämän käännöksen käytöstä.\n"
   ]
  }
 ],
 "metadata": {
  "kernelspec": {
   "display_name": ".NET (C#)",
   "language": "C#",
   "name": ".net-csharp"
  },
  "language_info": {
   "name": "polyglot-notebook"
  },
  "polyglot_notebook": {
   "kernelInfo": {
    "defaultKernelName": "csharp",
    "items": [
     {
      "aliases": [],
      "name": "csharp"
     }
    ]
   }
  },
  "coopTranslator": {
   "original_hash": "e4584fa31638009dc6fb665275de8fc2",
   "translation_date": "2025-10-02T17:30:02+00:00",
   "source_file": "05-agentic-rag/code_samples/05-dotnet-agent-framework.ipynb",
   "language_code": "fi"
  }
 },
 "nbformat": 4,
 "nbformat_minor": 5
}