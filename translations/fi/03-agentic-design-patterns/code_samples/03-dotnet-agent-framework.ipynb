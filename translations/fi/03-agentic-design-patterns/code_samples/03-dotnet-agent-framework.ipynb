{
 "cells": [
  {
   "cell_type": "markdown",
   "id": "d6058fa4",
   "metadata": {},
   "source": [
    "# 🎨 Agenttiset suunnittelumallit GitHub-mallien kanssa (.NET)\n",
    "\n",
    "## 📋 Oppimistavoitteet\n",
    "\n",
    "Tämä muistikirja esittelee yritystason suunnittelumalleja älykkäiden agenttien rakentamiseen Microsoft Agent Frameworkin avulla .NET-ympäristössä, integroituna GitHub-malleihin. Opit ammattimaisia malleja ja arkkitehtonisia lähestymistapoja, jotka tekevät agenteista tuotantovalmiita, ylläpidettäviä ja skaalautuvia.\n",
    "\n",
    "**Yritystason suunnittelumallit:**\n",
    "- 🏭 **Tehdasmalli**: Vakioitu agenttien luonti riippuvuuksien injektoinnilla\n",
    "- 🔧 **Rakentajamalli**: Sujuva agenttien konfigurointi ja asennus\n",
    "- 🧵 **Lankaturvalliset mallit**: Samanaikainen keskustelunhallinta\n",
    "- 📋 **Repositoriomalli**: Järjestelmällinen työkalujen ja kyvykkyyksien hallinta\n",
    "\n",
    "## 🎯 .NET-spesifiset arkkitehtuuriedut\n",
    "\n",
    "### Yritysominaisuudet\n",
    "- **Vahva tyypitys**: Kääntöaikainen validointi ja IntelliSense-tuki\n",
    "- **Riippuvuuksien injektointi**: Sisäänrakennettu DI-kontainerin integrointi\n",
    "- **Konfiguraation hallinta**: IConfiguration- ja Options-mallit\n",
    "- **Async/Await**: Ensiluokkainen asynkroninen ohjelmointituki\n",
    "\n",
    "### Tuotantovalmiit mallit\n",
    "- **Lokitusintegraatio**: ILogger ja rakenteellinen lokitustuki\n",
    "- **Terveystarkastukset**: Sisäänrakennettu seuranta ja diagnostiikka\n",
    "- **Konfiguraation validointi**: Vahva tyypitys ja dataannotaatiot\n",
    "- **Virheenkäsittely**: Rakenteellinen poikkeusten hallinta\n",
    "\n",
    "## 🔧 Tekninen arkkitehtuuri\n",
    "\n",
    "### Keskeiset .NET-komponentit\n",
    "- **Microsoft.Extensions.AI**: Yhtenäiset AI-palvelujen abstraktiot\n",
    "- **Microsoft.Agents.AI**: Yritystason agenttien orkestrointikehys\n",
    "- **GitHub-mallien integrointi**: Suorituskykyiset API-asiakasmallit\n",
    "- **Konfiguraatiojärjestelmä**: appsettings.json ja ympäristöintegraatio\n",
    "\n",
    "### Suunnittelumallien toteutus\n",
    "```csharp\n",
    "IServiceCollection → Agent Builder → Configuration → Tool Registry → AI Agent\n",
    "```\n",
    "\n",
    "## 🏗️ Esitellyt yritystason mallit\n",
    "\n",
    "### 1. **Luontimallit**\n",
    "- **Agenttitehdas**: Keskitetty agenttien luonti johdonmukaisella konfiguraatiolla\n",
    "- **Rakentajamalli**: Sujuva API monimutkaiseen agenttien konfigurointiin\n",
    "- **Singleton-malli**: Jaettujen resurssien ja konfiguraation hallinta\n",
    "- **Riippuvuuksien injektointi**: Löyhä kytkentä ja testattavuus\n",
    "\n",
    "### 2. **Käyttäytymismallit**\n",
    "- **Strategiamalli**: Vaihdettavat työkalujen suoritusstrategiat\n",
    "- **Komento-malli**: Kapseloidut agenttitoiminnot undo/redo-toiminnolla\n",
    "- **Havainnoijamalli**: Tapahtumapohjainen agentin elinkaaren hallinta\n",
    "- **Template Method**: Vakioidut agenttien suoritusprosessit\n",
    "\n",
    "### 3. **Rakenteelliset mallit**\n",
    "- **Adapterimalli**: GitHub-mallien API-integraatiokerros\n",
    "- **Dekoraattorimalli**: Agenttien kyvykkyyksien parantaminen\n",
    "- **Fasadi-malli**: Yksinkertaistetut agenttien vuorovaikutusrajapinnat\n",
    "- **Proxymalli**: Viivästetty lataus ja välimuisti suorituskyvyn parantamiseksi\n",
    "\n",
    "## ⚙️ Esivaatimukset ja asennus\n",
    "\n",
    "**Kehitysympäristö:**\n",
    "- .NET 9.0 SDK tai uudempi\n",
    "- Visual Studio 2022 tai VS Code C#-laajennuksella\n",
    "- GitHub-mallien API-pääsy\n",
    "\n",
    "**NuGet-riippuvuudet:**\n",
    "```xml\n",
    "<PackageReference Include=\"Microsoft.Extensions.AI\" Version=\"9.9.0\" />\n",
    "<PackageReference Include=\"Microsoft.Extensions.AI.OpenAI\" Version=\"9.9.0-preview.1.25458.4\" />\n",
    "<PackageReference Include=\"DotNetEnv\" Version=\"3.1.1\" />\n",
    "```\n",
    "\n",
    "**Konfiguraatio (.env-tiedosto):**\n",
    "```env\n",
    "GITHUB_TOKEN=your_github_personal_access_token\n",
    "GITHUB_ENDPOINT=https://models.inference.ai.azure.com\n",
    "GITHUB_MODEL_ID=gpt-4o-mini\n",
    "```\n",
    "\n",
    "## 📚 .NET-suunnitteluperiaatteet\n",
    "\n",
    "### SOLID-periaatteet\n",
    "- **Yhden vastuun periaate**: Jokaisella komponentilla on yksi selkeä tarkoitus\n",
    "- **Avoin/Suljettu**: Laajennettavissa ilman muutoksia\n",
    "- **Liskovin korvausperiaate**: Rajapintapohjaiset työkalutoteutukset\n",
    "- **Rajapinnan erottelu**: Keskittyneet, yhtenäiset rajapinnat\n",
    "- **Riippuvuuksien inversio**: Riippuvuus abstraktioista, ei konkreettisista toteutuksista\n",
    "\n",
    "### Puhdas arkkitehtuuri\n",
    "- **Domain-kerros**: Keskeiset agentti- ja työkaluabstraktiot\n",
    "- **Sovelluskerros**: Agenttien orkestrointi ja työnkulut\n",
    "- **Infrastruktuurikerros**: GitHub-mallien integrointi ja ulkoiset palvelut\n",
    "- **Esityskerros**: Käyttäjän vuorovaikutus ja vastausten muotoilu\n",
    "\n",
    "## 🔒 Yritystason näkökohdat\n",
    "\n",
    "### Turvallisuus\n",
    "- **Tunnusten hallinta**: API-avainten turvallinen käsittely IConfigurationin avulla\n",
    "- **Syötteen validointi**: Vahva tyypitys ja dataannotaatioiden validointi\n",
    "- **Tulosteen puhdistus**: Turvallinen vastausten käsittely ja suodatus\n",
    "- **Auditointi**: Kattava toimintojen seuranta\n",
    "\n",
    "### Suorituskyky\n",
    "- **Asynkroniset mallit**: Ei-blokkaavat I/O-toiminnot\n",
    "- **Yhteyspoolaus**: Tehokas HTTP-asiakashallinta\n",
    "- **Välimuisti**: Vastausten välimuisti suorituskyvyn parantamiseksi\n",
    "- **Resurssien hallinta**: Asianmukaiset hävitys- ja siivousmallit\n",
    "\n",
    "### Skaalautuvuus\n",
    "- **Lankaturvallisuus**: Samanaikainen agenttien suorituskyky\n",
    "- **Resurssipoolaus**: Tehokas resurssien hyödyntäminen\n",
    "- **Kuormanhallinta**: Nopeuden rajoittaminen ja paineenhallinta\n",
    "- **Seuranta**: Suorituskykymittarit ja terveystarkastukset\n",
    "\n",
    "## 🚀 Tuotantokäyttöön ottaminen\n",
    "\n",
    "- **Konfiguraation hallinta**: Ympäristökohtaiset asetukset\n",
    "- **Lokitusstrategia**: Rakenteellinen lokitus korrelaatio-ID:illä\n",
    "- **Virheenkäsittely**: Globaalit poikkeusten käsittelyt ja asianmukainen palautus\n",
    "- **Seuranta**: Sovellustiedot ja suorituskykylaskurit\n",
    "- **Testaus**: Yksikkötestit, integraatiotestit ja kuormitustestauksen mallit\n",
    "\n",
    "Valmis rakentamaan yritystason älykkäitä agentteja .NET-ympäristössä? Suunnitellaan jotain kestävää! 🏢✨\n"
   ]
  },
  {
   "cell_type": "code",
   "execution_count": 1,
   "id": "2770ac5c",
   "metadata": {
    "language_info": {
     "name": "polyglot-notebook"
    },
    "polyglot_notebook": {
     "kernelName": "csharp"
    }
   },
   "outputs": [
    {
     "data": {
      "text/html": [
       "<div><div></div><div></div><div><strong>Installed Packages</strong><ul><li><span>Microsoft.Extensions.AI, 9.9.1</span></li></ul></div></div>"
      ]
     },
     "metadata": {},
     "output_type": "display_data"
    }
   ],
   "source": [
    "#r \"nuget: Microsoft.Extensions.AI, 9.9.1\""
   ]
  },
  {
   "cell_type": "code",
   "execution_count": null,
   "id": "984ff6cd",
   "metadata": {
    "language_info": {
     "name": "polyglot-notebook"
    },
    "polyglot_notebook": {
     "kernelName": "csharp"
    }
   },
   "outputs": [
    {
     "data": {
      "text/html": [
       "<div><div></div><div></div><div><strong>Installed Packages</strong><ul><li><span>Microsoft.Agents.AI.OpenAI, 1.0.0-preview.251001.2</span></li></ul></div></div>"
      ]
     },
     "metadata": {},
     "output_type": "display_data"
    }
   ],
   "source": [
    "#r \"nuget: Microsoft.Agents.AI.OpenAI, 1.0.0-preview.251001.3\""
   ]
  },
  {
   "cell_type": "code",
   "execution_count": null,
   "id": "0ab71360",
   "metadata": {
    "language_info": {
     "name": "polyglot-notebook"
    },
    "polyglot_notebook": {
     "kernelName": "csharp"
    }
   },
   "outputs": [
    {
     "data": {
      "text/html": [
       "<div><div></div><div></div><div><strong>Installed Packages</strong><ul><li><span>microsoft.agents.ai, 1.0.0-preview.251001.2</span></li></ul></div></div>"
      ]
     },
     "metadata": {},
     "output_type": "display_data"
    }
   ],
   "source": [
    "\n",
    "\n",
    "#r \"nuget: Microsoft.Agents.AI, 1.0.0-preview.251001.3\""
   ]
  },
  {
   "cell_type": "code",
   "execution_count": 4,
   "id": "4ab7b15d",
   "metadata": {
    "language_info": {
     "name": "polyglot-notebook"
    },
    "polyglot_notebook": {
     "kernelName": "csharp"
    }
   },
   "outputs": [],
   "source": [
    "// #r \"nuget: Microsoft.Extensions.AI.OpenAI, 9.9.0-preview.1.25458.4\""
   ]
  },
  {
   "cell_type": "code",
   "execution_count": 5,
   "id": "3fa8aa21",
   "metadata": {
    "language_info": {
     "name": "polyglot-notebook"
    },
    "polyglot_notebook": {
     "kernelName": "csharp"
    }
   },
   "outputs": [
    {
     "data": {
      "text/html": [
       "<div><div></div><div></div><div><strong>Installed Packages</strong><ul><li><span>DotNetEnv, 3.1.1</span></li></ul></div></div>"
      ]
     },
     "metadata": {},
     "output_type": "display_data"
    }
   ],
   "source": [
    "#r \"nuget: DotNetEnv, 3.1.1\""
   ]
  },
  {
   "cell_type": "code",
   "execution_count": 6,
   "id": "fc8ee8ea",
   "metadata": {
    "language_info": {
     "name": "polyglot-notebook"
    },
    "polyglot_notebook": {
     "kernelName": "csharp"
    }
   },
   "outputs": [],
   "source": [
    "using System;\n",
    "using System.ComponentModel;\n",
    "using System.ClientModel;\n",
    "\n",
    "using Microsoft.Extensions.AI;\n",
    "using Microsoft.Agents.AI;\n",
    "using OpenAI;"
   ]
  },
  {
   "cell_type": "code",
   "execution_count": 7,
   "id": "699b1c83",
   "metadata": {
    "language_info": {
     "name": "polyglot-notebook"
    },
    "polyglot_notebook": {
     "kernelName": "csharp"
    }
   },
   "outputs": [],
   "source": [
    " using DotNetEnv;"
   ]
  },
  {
   "cell_type": "code",
   "execution_count": 8,
   "id": "daa649a0",
   "metadata": {
    "language_info": {
     "name": "polyglot-notebook"
    },
    "polyglot_notebook": {
     "kernelName": "csharp"
    }
   },
   "outputs": [],
   "source": [
    "Env.Load(\"../../../.env\");"
   ]
  },
  {
   "cell_type": "code",
   "execution_count": 9,
   "id": "29661a90",
   "metadata": {
    "language_info": {
     "name": "polyglot-notebook"
    },
    "polyglot_notebook": {
     "kernelName": "csharp"
    }
   },
   "outputs": [],
   "source": [
    "[Description(\"Provides a random vacation destination.\")]\n",
    "static string GetRandomDestination()\n",
    "{\n",
    "    var destinations = new List<string>\n",
    "    {\n",
    "        \"Paris, France\",\n",
    "        \"Tokyo, Japan\",\n",
    "        \"New York City, USA\",\n",
    "        \"Sydney, Australia\",\n",
    "        \"Rome, Italy\",\n",
    "        \"Barcelona, Spain\",\n",
    "        \"Cape Town, South Africa\",\n",
    "        \"Rio de Janeiro, Brazil\",\n",
    "        \"Bangkok, Thailand\",\n",
    "        \"Vancouver, Canada\"\n",
    "    };\n",
    "\n",
    "    var random = new Random();\n",
    "    int index = random.Next(destinations.Count);\n",
    "    return destinations[index];\n",
    "}"
   ]
  },
  {
   "cell_type": "code",
   "execution_count": 10,
   "id": "d2ed1f8b",
   "metadata": {
    "language_info": {
     "name": "polyglot-notebook"
    },
    "polyglot_notebook": {
     "kernelName": "csharp"
    }
   },
   "outputs": [],
   "source": [
    "var github_endpoint = Environment.GetEnvironmentVariable(\"GITHUB_ENDPOINT\") ?? throw new InvalidOperationException(\"GITHUB_ENDPOINT is not set.\");\n",
    "var github_model_id = Environment.GetEnvironmentVariable(\"GITHUB_MODEL_ID\") ?? \"gpt-4o-mini\";\n",
    "var github_token = Environment.GetEnvironmentVariable(\"GITHUB_TOKEN\") ?? throw new InvalidOperationException(\"GITHUB_TOKEN is not set.\");"
   ]
  },
  {
   "cell_type": "code",
   "execution_count": 11,
   "id": "c36c73e1",
   "metadata": {
    "language_info": {
     "name": "polyglot-notebook"
    },
    "polyglot_notebook": {
     "kernelName": "csharp"
    }
   },
   "outputs": [],
   "source": [
    "var openAIOptions = new OpenAIClientOptions()\n",
    "{\n",
    "    Endpoint= new Uri(github_endpoint)\n",
    "};"
   ]
  },
  {
   "cell_type": "code",
   "execution_count": 12,
   "id": "6d94ff10",
   "metadata": {
    "language_info": {
     "name": "polyglot-notebook"
    },
    "polyglot_notebook": {
     "kernelName": "csharp"
    }
   },
   "outputs": [],
   "source": [
    "\n",
    "var openAIClient = new OpenAIClient(new ApiKeyCredential(github_token), openAIOptions);"
   ]
  },
  {
   "cell_type": "code",
   "execution_count": 13,
   "id": "fe32b57a",
   "metadata": {
    "language_info": {
     "name": "polyglot-notebook"
    },
    "polyglot_notebook": {
     "kernelName": "csharp"
    }
   },
   "outputs": [],
   "source": [
    "AIAgent agent = new OpenAIClient(new ApiKeyCredential(github_token), openAIOptions).GetChatClient(github_model_id).CreateAIAgent(\n",
    "    instructions:\"You are a helpful AI Agent that can help plan vacations for customers at random destinations\", tools: [AIFunctionFactory.Create((Func<string>)GetRandomDestination)]);"
   ]
  },
  {
   "cell_type": "code",
   "execution_count": 14,
   "metadata": {
    "language_info": {
     "name": "polyglot-notebook"
    },
    "polyglot_notebook": {
     "kernelName": "csharp"
    }
   },
   "outputs": [],
   "source": [
    "AgentThread thread = agent.GetNewThread();"
   ]
  },
  {
   "cell_type": "code",
   "execution_count": 15,
   "id": "5e455aff",
   "metadata": {
    "language_info": {
     "name": "polyglot-notebook"
    },
    "polyglot_notebook": {
     "kernelName": "csharp"
    }
   },
   "outputs": [
    {
     "name": "stdout",
     "output_type": "stream",
     "text": [
      "How about a day trip to Vancouver, Canada? Here's a suggested itinerary for your day:\n",
      "\n",
      "### Morning\n",
      "- **Breakfast at a Local Cafe**: Start your day with a delicious breakfast at a cozy café like **Jam Cafe** or **Cafe Medina**.\n",
      "- **Stanley Park**: After breakfast, head to Stanley Park. You can rent a bike and ride along the seawall, enjoying beautiful views of the city and the water.\n",
      "\n",
      "### Afternoon\n",
      "- **Lunch in Gastown**: Make your way to Gastown for lunch. Try a local favorite like **The Flying Pig** or **Noodle Box**.\n",
      "- **Explore Gastown**: After lunch, walk around Gastown to see the iconic Steam Clock and browse the unique shops and boutiques.\n",
      "\n",
      "### Late Afternoon\n",
      "- **Granville Island**: Visit Granville Island, where you can stroll through the public market, sample local foods, and enjoy artisan shops.\n",
      "- **False Creek**: Take a walk along False Creek and enjoy the waterfront views.\n",
      "\n",
      "### Evening\n",
      "- **Dinner at a Waterfront Restaurant**: End your day with dinner at a waterfront restaurant like **The Boathouse** or **Lift Bar Grill View** for great food and a view of the sunset.\n",
      "- **Optional: Sunset Cruise**: If you're up for it, consider taking a sunset cruise for a different perspective of the city.\n",
      "\n",
      "### Tips\n",
      "- Make sure to check the weather beforehand!\n",
      "- Consider public transport or ride-sharing to navigate the city easily.\n",
      "\n",
      "Enjoy your day trip to Vancouver!\r\n"
     ]
    }
   ],
   "source": [
    "Console.WriteLine(await agent.RunAsync(\"Plan me a day trip\",thread));"
   ]
  },
  {
   "cell_type": "code",
   "execution_count": 16,
   "id": "592ae1bb",
   "metadata": {
    "language_info": {
     "name": "polyglot-notebook"
    },
    "polyglot_notebook": {
     "kernelName": "csharp"
    }
   },
   "outputs": [
    {
     "name": "stdout",
     "output_type": "stream",
     "text": [
      "How about a vacation to New York City, USA? Here's a suggested itinerary for your trip:\n",
      "\n",
      "### Day 1: Arrival in New York City\n",
      "- **Check-In**: Arrive and check in to your hotel.\n",
      "- **Central Park**: Take a leisurely stroll through Central Park. Consider renting a bike or taking a carriage ride.\n",
      "- **Evening**: Enjoy dinner at a classic NYC restaurant, such as **Katz's Delicatessen** or **Carbone**.\n",
      "\n",
      "### Day 2: Iconic Landmarks\n",
      "- **Morning**: Breakfast at a local diner.\n",
      "- **Statue of Liberty & Ellis Island**: Take a ferry to visit these iconic landmarks.\n",
      "- **Afternoon**: Explore Wall Street and visit the 9/11 Memorial & Museum.\n",
      "- **Evening**: Dinner in the Financial District followed by a walk across the Brooklyn Bridge at sunset.\n",
      "\n",
      "### Day 3: Culture and Arts\n",
      "- **Morning**: Visit The Metropolitan Museum of Art (The Met) and spend a few hours exploring its vast collection.\n",
      "- **Afternoon**: Head to Times Square for lunch and the buzz of the city.\n",
      "- **Broadway Show**: Catch a Broadway show in the evening. Be sure to book tickets in advance!\n",
      "\n",
      "### Day 4: Explore Neighborhoods\n",
      "- **Morning**: Head to SoHo for brunch and shopping in its chic boutiques.\n",
      "- **Afternoon**: Explore Greenwich Village, known for its bohemian atmosphere and history.\n",
      "- **Evening**: Enjoy dinner in the West Village, perhaps at **Buvette** or **Minetta Tavern**.\n",
      "\n",
      "### Day 5: Departure\n",
      "- **Last-minute Shopping**: Spend your last morning shopping at Fifth Avenue or head to Chelsea Market for food and souvenirs.\n",
      "- **Check-Out**: Depart for your journey home.\n",
      "\n",
      "### Tips\n",
      "- Utilize the subway for efficient travel around the city.\n",
      "- Make reservations for popular restaurants and attractions ahead of time!\n",
      "\n",
      "Enjoy your trip to New York City!\r\n"
     ]
    }
   ],
   "source": [
    "Console.WriteLine(await agent.RunAsync(\"I don't like that destination. Plan me another vacation.\",thread));"
   ]
  },
  {
   "cell_type": "markdown",
   "metadata": {},
   "source": [
    "\n---\n\n**Vastuuvapauslauseke**:  \nTämä asiakirja on käännetty käyttämällä tekoälypohjaista käännöspalvelua [Co-op Translator](https://github.com/Azure/co-op-translator). Vaikka pyrimme tarkkuuteen, huomioithan, että automaattiset käännökset voivat sisältää virheitä tai epätarkkuuksia. Alkuperäinen asiakirja sen alkuperäisellä kielellä tulisi pitää ensisijaisena lähteenä. Kriittisen tiedon osalta suositellaan ammattimaista ihmiskäännöstä. Emme ole vastuussa väärinkäsityksistä tai virhetulkinnoista, jotka johtuvat tämän käännöksen käytöstä.\n"
   ]
  }
 ],
 "metadata": {
  "kernelspec": {
   "display_name": ".NET (C#)",
   "language": "C#",
   "name": ".net-csharp"
  },
  "language_info": {
   "name": "polyglot-notebook"
  },
  "polyglot_notebook": {
   "kernelInfo": {
    "defaultKernelName": "csharp",
    "items": [
     {
      "aliases": [],
      "name": "csharp"
     }
    ]
   }
  },
  "coopTranslator": {
   "original_hash": "070c1d8985b3dc6e6d977f3e891037f1",
   "translation_date": "2025-10-02T18:00:39+00:00",
   "source_file": "03-agentic-design-patterns/code_samples/03-dotnet-agent-framework.ipynb",
   "language_code": "fi"
  }
 },
 "nbformat": 4,
 "nbformat_minor": 5
}