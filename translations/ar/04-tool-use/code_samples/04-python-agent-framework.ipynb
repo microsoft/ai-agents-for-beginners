{
 "cells": [
  {
   "cell_type": "markdown",
   "id": "8744544f",
   "metadata": {},
   "source": [
    "# 🛠️ استخدام الأدوات المتقدمة مع نماذج GitHub (Python)\n",
    "\n",
    "## 📋 أهداف التعلم\n",
    "\n",
    "يستعرض هذا الدفتر أنماط دمج الأدوات المتقدمة باستخدام إطار عمل Microsoft Agent مع نماذج GitHub. ستتعلم كيفية إنشاء وإدارة وتنسيق أدوات متعددة لبناء قدرات وكيلة متطورة.\n",
    "\n",
    "**ما ستتقنه:**\n",
    "- 🔧 **هيكلية الأدوات المتعددة**: بناء وكلاء بأدوات متخصصة متعددة\n",
    "- 🎯 **منطق اختيار الأدوات**: كيفية اختيار الوكلاء للأداة المناسبة لكل مهمة\n",
    "- 📊 **أدوات معالجة البيانات**: إنشاء أدوات تتعامل مع أنواع بيانات مختلفة\n",
    "- 🔗 **تركيب الأدوات**: دمج الأدوات لإنشاء سير عمل معقد\n",
    "\n",
    "## 🎯 أنماط الأدوات الرئيسية\n",
    "\n",
    "### مبادئ تصميم الأدوات\n",
    "- **مسؤولية واحدة**: لكل أداة هدف واضح ومحدد\n",
    "- **سلامة النوع**: استخدام أنواع قوية لضمان تنفيذ موثوق للأدوات\n",
    "- **معالجة الأخطاء**: أنماط فشل واسترداد سلسة\n",
    "- **قابلية التركيب**: أدوات تعمل بشكل جيد مع بعضها البعض\n",
    "\n",
    "### ميزات الأدوات المتقدمة\n",
    "- **وعي بالسياق**: أدوات تفهم سياق المحادثة\n",
    "- **التحقق من البيانات**: تنظيف المدخلات والتحقق من صحة المخرجات\n",
    "- **تحسين الأداء**: أنماط تنفيذ أدوات فعالة\n",
    "- **قابلية التوسع**: إضافة قدرات جديدة للأدوات بسهولة\n",
    "\n",
    "## 🔧 الهيكلية التقنية\n",
    "\n",
    "### المكونات الأساسية\n",
    "- **إطار عمل Microsoft Agent**: تنفيذ Python مع دعم أدوات متقدمة\n",
    "- **دمج نماذج GitHub**: الوصول إلى نماذج لغوية عالية الأداء\n",
    "- **نظام تسجيل الأدوات**: إدارة منظمة لقدرات الوكيل\n",
    "- **أنماط استرداد الأخطاء**: معالجة قوية لفشل تنفيذ الأدوات\n",
    "\n",
    "### تدفق دمج الأدوات\n",
    "```python\n",
    "User Request → Agent Analysis → Tool Selection → Tool Execution → Response Synthesis\n",
    "```\n",
    "\n",
    "## 🛠️ فئات الأدوات المعروضة\n",
    "\n",
    "### 1. **أدوات توليد البيانات**\n",
    "- مولد وجهات عشوائية\n",
    "- مزود معلومات الطقس  \n",
    "- حاسبة تكاليف السفر\n",
    "- محرك توصيات الأنشطة\n",
    "\n",
    "### 2. **أدوات المعالجة**\n",
    "- تنسيق النصوص والتحقق منها\n",
    "- أدوات تحويل البيانات\n",
    "- وظائف تحليل المحتوى\n",
    "- أدوات تحسين الردود\n",
    "\n",
    "### 3. **أدوات التكامل**\n",
    "- موصلات API الخارجية\n",
    "- عمليات نظام الملفات\n",
    "- واجهات استعلام قواعد البيانات\n",
    "- أدوات استخراج البيانات من الويب\n",
    "\n",
    "## ⚙️ المتطلبات والإعداد\n",
    "\n",
    "**التبعيات المطلوبة:**\n",
    "```bash\n",
    "\n",
    "pip install agent-framework-core -U\n",
    "```\n",
    "\n",
    "**تكوين البيئة (.env file):**\n",
    "```env\n",
    "GITHUB_TOKEN=your_github_personal_access_token\n",
    "GITHUB_ENDPOINT=https://models.inference.ai.azure.com\n",
    "GITHUB_MODEL_ID=gpt-4o-mini\n",
    "```\n",
    "\n",
    "**واجهات برمجية اختيارية:**\n",
    "- مفتاح API لخدمة الطقس (لأدوات الطقس)\n",
    "- الوصول إلى تحويل العملات API\n",
    "- بيانات اعتماد خدمة معلومات السفر\n",
    "\n",
    "## 🎨 أنماط التصميم\n",
    "\n",
    "### نمط مصنع الأدوات\n",
    "- إنشاء وتكوين الأدوات بشكل مركزي\n",
    "- تصميم واجهة أدوات متسقة\n",
    "- تسجيل واكتشاف الأدوات بسهولة\n",
    "\n",
    "### نمط الأوامر\n",
    "- منطق تنفيذ الأدوات مغلف\n",
    "- وظيفة التراجع/الإعادة للعمليات المعقدة\n",
    "- تسجيل استخدام الأدوات\n",
    "\n",
    "### نمط المراقب\n",
    "- مراقبة تنفيذ الأدوات\n",
    "- جمع مقاييس الأداء\n",
    "- الإبلاغ عن الأخطاء والتنبيه\n",
    "\n",
    "## 🚀 أفضل الممارسات\n",
    "\n",
    "- **توثيق الأدوات**: وصف واضح لفهم الوكيل\n",
    "- **التحقق من المدخلات**: فحص قوي للمعلمات وتنظيفها\n",
    "- **تنسيق المخرجات**: استجابات أدوات متسقة وقابلة للتحليل\n",
    "- **رسائل الأخطاء**: معلومات مفيدة لتصحيح الأخطاء\n",
    "- **الأداء**: تنفيذ أدوات محسّن للاستجابة السريعة\n",
    "\n",
    "جاهز لبناء وكلاء بقدرات أدوات قوية؟ لنبدأ في إنشاء شيء مذهل! ⚡\n"
   ]
  },
  {
   "cell_type": "code",
   "execution_count": null,
   "id": "59c0feeb",
   "metadata": {},
   "outputs": [],
   "source": [
    "! pip install agent-framework-core -U"
   ]
  },
  {
   "cell_type": "code",
   "execution_count": null,
   "id": "c0df8a52",
   "metadata": {},
   "outputs": [],
   "source": [
    "# � Import core dependencies for Agent Framework and tool integration\n",
    "# This sets up the essential libraries for building intelligent agents with tool capabilities\n",
    "\n",
    "import asyncio\n",
    "import os\n",
    "import json\n",
    "\n",
    "from dotenv import load_dotenv  # For loading environment variables securely\n",
    "from random import randint\n",
    "\n",
    "# These are the core components for building tool-enabled agents\n",
    "from agent_framework import ChatAgent           # Main agent class\n",
    "from agent_framework.openai import OpenAIChatClient  # OpenAI-compatible client"
   ]
  },
  {
   "cell_type": "code",
   "execution_count": null,
   "id": "24c10eb0",
   "metadata": {},
   "outputs": [],
   "source": [
    "load_dotenv()"
   ]
  },
  {
   "cell_type": "code",
   "execution_count": null,
   "id": "151e0314",
   "metadata": {},
   "outputs": [],
   "source": [
    "# 🔑 Environment variables verification\n",
    "# Ensure all required GitHub Models credentials are properly configured\n",
    "print(\"GITHUB_ENDPOINT:\", os.environ.get(\"GITHUB_ENDPOINT\"))\n",
    "print(\"GITHUB_TOKEN:\", \"***\" if os.environ.get(\"GITHUB_TOKEN\") else \"Not set\")\n",
    "print(\"GITHUB_MODEL_ID:\", os.environ.get(\"GITHUB_MODEL_ID\"))"
   ]
  },
  {
   "cell_type": "code",
   "execution_count": null,
   "id": "a6141584",
   "metadata": {},
   "outputs": [],
   "source": [
    "# 🧪 Test GitHub Models connectivity\n",
    "openai_chat_client = OpenAIChatClient(base_url=os.environ.get(\"GITHUB_ENDPOINT\"), api_key=os.environ.get(\"GITHUB_TOKEN\"), model_id=os.environ.get(\"GITHUB_MODEL_ID\"))"
   ]
  },
  {
   "cell_type": "code",
   "execution_count": null,
   "id": "a6507f83",
   "metadata": {},
   "outputs": [],
   "source": [
    "# 🛠️ Define travel planning tools for agent integration\n",
    "# These functions provide specific capabilities that the agent can invoke dynamically\n",
    "\n",
    "def get_random_destination() -> str:\n",
    "    \"\"\"\n",
    "    🎲 Random destination generator tool\n",
    "    Returns a randomly selected travel destination from curated list\n",
    "    Useful when customers need inspiration for their next vacation\n",
    "    \"\"\"\n",
    "    destinations = [\n",
    "        \"Paris, France\",\n",
    "        \"Tokyo, Japan\", \n",
    "        \"New York City, USA\",\n",
    "        \"London, England\",\n",
    "        \"Rome, Italy\",\n",
    "        \"Sydney, Australia\",\n",
    "        \"Dubai, UAE\",\n",
    "        \"Barcelona, Spain\",\n",
    "        \"Bangkok, Thailand\",\n",
    "        \"Amsterdam, Netherlands\",\n",
    "        \"Istanbul, Turkey\",\n",
    "        \"Prague, Czech Republic\",\n",
    "        \"Santorini, Greece\",\n",
    "        \"Reykjavik, Iceland\",\n",
    "        \"Marrakech, Morocco\",\n",
    "        \"Cape Town, South Africa\",\n",
    "        \"Rio de Janeiro, Brazil\",\n",
    "        \"Bali, Indonesia\"\n",
    "    ]\n",
    "    # 🎯 Return random selection from the curated destination list\n",
    "    return destinations[randint(0, len(destinations) - 1)]"
   ]
  },
  {
   "cell_type": "code",
   "execution_count": null,
   "id": "5d4f0568",
   "metadata": {},
   "outputs": [],
   "source": [
    "# 🔗 Initialize GitHub Models chat client for agent communication\n",
    "# Creates the primary interface between the agent and the language model\n",
    "openai_chat_client = OpenAIChatClient(base_url=os.environ.get(\"GITHUB_ENDPOINT\"), api_key=os.environ.get(\"GITHUB_TOKEN\"), model_id=os.environ.get(\"GITHUB_MODEL_ID\"))"
   ]
  },
  {
   "cell_type": "code",
   "execution_count": null,
   "id": "751668c5",
   "metadata": {},
   "outputs": [],
   "source": [
    "# 🤖 Configure travel agent identity and behavioral instructions\n",
    "# Define the agent's personality, capabilities, and operational guidelines\n",
    "\n",
    "AGENT_NAME = \"TravelAgent\"\n",
    "\n",
    "AGENT_INSTRUCTIONS = \"\"\"You are a helpful AI Agent that can help plan vacations for customers at random destinations\n",
    "\"\"\""
   ]
  },
  {
   "cell_type": "code",
   "execution_count": null,
   "id": "be18ac4f",
   "metadata": {},
   "outputs": [],
   "source": [
    "agent = ChatAgent(\n",
    "        name = AGENT_NAME,\n",
    "        chat_client=openai_chat_client,\n",
    "        instructions=AGENT_INSTRUCTIONS,\n",
    "        tools=[get_random_destination]\n",
    ")"
   ]
  },
  {
   "cell_type": "code",
   "execution_count": null,
   "id": "772e9481",
   "metadata": {},
   "outputs": [],
   "source": [
    "thread = agent.get_new_thread()"
   ]
  },
  {
   "cell_type": "code",
   "execution_count": null,
   "id": "a731b547",
   "metadata": {},
   "outputs": [],
   "source": [
    "response1 = await agent.run(\"Plan me a day trip\",thread= thread)"
   ]
  },
  {
   "cell_type": "code",
   "execution_count": null,
   "id": "7d3fe00a",
   "metadata": {},
   "outputs": [],
   "source": [
    "\n",
    "last_message = response1.messages[-1]\n",
    "text_content = last_message.contents[0].text\n",
    "print(\"Travel plan:\")\n",
    "print(text_content)"
   ]
  },
  {
   "cell_type": "markdown",
   "metadata": {},
   "source": [
    "\n---\n\n**إخلاء المسؤولية**:  \nتم ترجمة هذا المستند باستخدام خدمة الترجمة بالذكاء الاصطناعي [Co-op Translator](https://github.com/Azure/co-op-translator). بينما نسعى لتحقيق الدقة، يرجى العلم أن الترجمات الآلية قد تحتوي على أخطاء أو عدم دقة. يجب اعتبار المستند الأصلي بلغته الأصلية المصدر الرسمي. للحصول على معلومات حاسمة، يُوصى بالترجمة البشرية الاحترافية. نحن غير مسؤولين عن أي سوء فهم أو تفسيرات خاطئة ناتجة عن استخدام هذه الترجمة.\n"
   ]
  }
 ],
 "metadata": {
  "kernelspec": {
   "display_name": "agentenv",
   "language": "python",
   "name": "python3"
  },
  "language_info": {
   "codemirror_mode": {
    "name": "ipython",
    "version": 3
   },
   "file_extension": ".py",
   "mimetype": "text/x-python",
   "name": "python",
   "nbconvert_exporter": "python",
   "pygments_lexer": "ipython3",
   "version": "3.12.10"
  },
  "polyglot_notebook": {
   "kernelInfo": {
    "defaultKernelName": "csharp",
    "items": [
     {
      "aliases": [],
      "name": "csharp"
     }
    ]
   }
  },
  "coopTranslator": {
   "original_hash": "42966ddac53cebaf0ac1ce33b2ee7059",
   "translation_date": "2025-10-02T11:42:40+00:00",
   "source_file": "04-tool-use/code_samples/04-python-agent-framework.ipynb",
   "language_code": "ar"
  }
 },
 "nbformat": 4,
 "nbformat_minor": 5
}