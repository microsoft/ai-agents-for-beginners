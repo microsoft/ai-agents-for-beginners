{
 "cells": [
  {
   "cell_type": "markdown",
   "id": "44b5899e",
   "metadata": {},
   "source": [
    "# 🔍 نظام RAG للمؤسسات باستخدام Azure AI Foundry (.NET)\n",
    "\n",
    "## 📋 أهداف التعلم\n",
    "\n",
    "يستعرض هذا الدليل كيفية بناء أنظمة استرجاع معززة بالتوليد (RAG) على مستوى المؤسسات باستخدام إطار عمل Microsoft Agent في .NET مع Azure AI Foundry. ستتعلم كيفية إنشاء وكلاء جاهزين للإنتاج يمكنهم البحث في المستندات وتقديم إجابات دقيقة وواعية بالسياق مع ضمان الأمان وقابلية التوسع على مستوى المؤسسات.\n",
    "\n",
    "**قدرات RAG للمؤسسات التي ستتعلمها:**\n",
    "- 📚 **ذكاء المستندات**: معالجة متقدمة للمستندات باستخدام خدمات Azure AI\n",
    "- 🔍 **البحث الدلالي**: بحث متجه عالي الأداء مع ميزات المؤسسات\n",
    "- 🛡️ **تكامل الأمان**: أنماط الوصول المستندة إلى الأدوار وحماية البيانات\n",
    "- 🏢 **هيكلية قابلة للتوسع**: أنظمة RAG جاهزة للإنتاج مع المراقبة\n",
    "\n",
    "## 🎯 هيكلية RAG للمؤسسات\n",
    "\n",
    "### المكونات الأساسية للمؤسسات\n",
    "- **Azure AI Foundry**: منصة AI مُدارة للمؤسسات مع الأمان والامتثال\n",
    "- **الوكلاء الدائمون**: وكلاء يحتفظون بسجل المحادثات وإدارة السياق\n",
    "- **إدارة مخزن المتجهات**: فهرسة واسترجاع المستندات على مستوى المؤسسات\n",
    "- **تكامل الهوية**: مصادقة Azure AD والتحكم في الوصول المستند إلى الأدوار\n",
    "\n",
    "### فوائد .NET للمؤسسات\n",
    "- **سلامة الأنواع**: التحقق من صحة العمليات والهياكل في وقت الترجمة\n",
    "- **أداء غير متزامن**: معالجة المستندات والبحث دون حظر العمليات\n",
    "- **إدارة الذاكرة**: استخدام الموارد بكفاءة لمجموعات المستندات الكبيرة\n",
    "- **أنماط التكامل**: تكامل أصلي مع خدمات Azure باستخدام حقن التبعيات\n",
    "\n",
    "## 🏗️ الهيكلية التقنية\n",
    "\n",
    "### خط أنابيب RAG للمؤسسات\n",
    "```csharp\n",
    "Document Upload → Security Validation → Vector Processing → Index Creation\n",
    "                      ↓                    ↓                  ↓\n",
    "User Query → Authentication → Semantic Search → Context Ranking → AI Response\n",
    "```\n",
    "\n",
    "### المكونات الأساسية لـ .NET\n",
    "- **Azure.AI.Agents.Persistent**: إدارة الوكلاء مع الاحتفاظ بالحالة\n",
    "- **Azure.Identity**: مصادقة متكاملة للوصول الآمن إلى خدمات Azure\n",
    "- **Microsoft.Agents.AI.AzureAI**: تنفيذ إطار عمل الوكلاء الأمثل لـ Azure\n",
    "- **System.Linq.Async**: عمليات LINQ غير متزامنة عالية الأداء\n",
    "\n",
    "## 🔧 ميزات وفوائد المؤسسات\n",
    "\n",
    "### الأمان والامتثال\n",
    "- **تكامل Azure AD**: إدارة الهوية والمصادقة على مستوى المؤسسات\n",
    "- **الوصول المستند إلى الأدوار**: أذونات دقيقة للوصول إلى المستندات والعمليات\n",
    "- **حماية البيانات**: تشفير البيانات أثناء الراحة وفي النقل للمستندات الحساسة\n",
    "- **تسجيل التدقيق**: تتبع شامل للنشاط لتلبية متطلبات الامتثال\n",
    "\n",
    "### الأداء وقابلية التوسع\n",
    "- **تجميع الاتصالات**: إدارة فعالة لاتصالات خدمات Azure\n",
    "- **المعالجة غير المتزامنة**: عمليات غير حظرية لسيناريوهات الإنتاجية العالية\n",
    "- **استراتيجيات التخزين المؤقت**: تخزين ذكي للمستندات التي يتم الوصول إليها بشكل متكرر\n",
    "- **توزيع الحمل**: معالجة موزعة للنشر على نطاق واسع\n",
    "\n",
    "### الإدارة والمراقبة\n",
    "- **فحوصات الصحة**: مراقبة مدمجة لمكونات نظام RAG\n",
    "- **مقاييس الأداء**: تحليلات مفصلة لجودة البحث وأوقات الاستجابة\n",
    "- **معالجة الأخطاء**: إدارة شاملة للاستثناءات مع سياسات إعادة المحاولة\n",
    "- **إدارة التكوين**: إعدادات خاصة بالبيئة مع التحقق من الصحة\n",
    "\n",
    "## ⚙️ المتطلبات والإعداد\n",
    "\n",
    "**بيئة التطوير:**\n",
    "- .NET 9.0 SDK أو أعلى\n",
    "- Visual Studio 2022 أو VS Code مع إضافة C#\n",
    "- اشتراك Azure مع الوصول إلى AI Foundry\n",
    "\n",
    "**حزم NuGet المطلوبة:**\n",
    "```xml\n",
    "<PackageReference Include=\"Microsoft.Extensions.AI\" Version=\"9.9.0\" />\n",
    "<PackageReference Include=\"Azure.AI.Agents.Persistent\" Version=\"1.2.0-beta.5\" />\n",
    "<PackageReference Include=\"Azure.Identity\" Version=\"1.15.0\" />\n",
    "<PackageReference Include=\"System.Linq.Async\" Version=\"6.0.3\" />\n",
    "<PackageReference Include=\"DotNetEnv\" Version=\"3.1.1\" />\n",
    "```\n",
    "\n",
    "**إعداد مصادقة Azure:**\n",
    "```bash\n",
    "# Install Azure CLI and authenticate\n",
    "az login\n",
    "az account set --subscription \"your-subscription-id\"\n",
    "```\n",
    "\n",
    "**تكوين البيئة (.env file):**\n",
    "```env\n",
    "# Azure AI Foundry configuration (automatically handled via Azure CLI)\n",
    "# Ensure you're authenticated to the correct Azure subscription\n",
    "```\n",
    "\n",
    "## 📊 أنماط RAG للمؤسسات\n",
    "\n",
    "### أنماط إدارة المستندات\n",
    "- **التحميل بالجملة**: معالجة فعالة لمجموعات المستندات الكبيرة\n",
    "- **التحديثات التدريجية**: إضافة وتعديل المستندات في الوقت الفعلي\n",
    "- **التحكم في الإصدارات**: تتبع التغييرات وإصدارات المستندات\n",
    "- **إدارة البيانات الوصفية**: سمات غنية وتصنيف للمستندات\n",
    "\n",
    "### أنماط البحث والاسترجاع\n",
    "- **البحث الهجين**: الجمع بين البحث الدلالي والكلمات المفتاحية للحصول على أفضل النتائج\n",
    "- **البحث الموجه**: تصفية وتصنيف متعدد الأبعاد\n",
    "- **ضبط الصلة**: خوارزميات تسجيل مخصصة لاحتياجات المجال\n",
    "- **ترتيب النتائج**: ترتيب متقدم مع تكامل منطق الأعمال\n",
    "\n",
    "### أنماط الأمان\n",
    "- **أمان على مستوى المستند**: التحكم الدقيق في الوصول لكل مستند\n",
    "- **تصنيف البيانات**: وضع علامات تلقائية للحساسية وحماية البيانات\n",
    "- **مسارات التدقيق**: تسجيل شامل لجميع عمليات RAG\n",
    "- **حماية الخصوصية**: اكتشاف وحجب المعلومات الشخصية الحساسة\n",
    "\n",
    "## 🔒 ميزات الأمان للمؤسسات\n",
    "\n",
    "### المصادقة والتفويض\n",
    "```csharp\n",
    "// Azure AD integrated authentication\n",
    "var credential = new AzureCliCredential();\n",
    "var agentsClient = new PersistentAgentsClient(endpoint, credential);\n",
    "\n",
    "// Role-based access validation\n",
    "if (!await ValidateUserPermissions(user, documentId))\n",
    "{\n",
    "    throw new UnauthorizedAccessException(\"Insufficient permissions\");\n",
    "}\n",
    "```\n",
    "\n",
    "### حماية البيانات\n",
    "- **التشفير**: تشفير شامل للمستندات ومؤشرات البحث\n",
    "- **التحكم في الوصول**: تكامل مع Azure AD لإدارة المستخدمين والمجموعات\n",
    "- **إقامة البيانات**: التحكم في موقع البيانات الجغرافي للامتثال\n",
    "- **النسخ الاحتياطي والاسترداد**: إجراءات النسخ الاحتياطي والتعافي من الكوارث تلقائيًا\n",
    "\n",
    "## 📈 تحسين الأداء\n",
    "\n",
    "### أنماط المعالجة غير المتزامنة\n",
    "```csharp\n",
    "// Efficient async document processing\n",
    "await foreach (var document in documentStream.AsAsyncEnumerable())\n",
    "{\n",
    "    await ProcessDocumentAsync(document, cancellationToken);\n",
    "}\n",
    "```\n",
    "\n",
    "### إدارة الذاكرة\n",
    "- **المعالجة المتدفقة**: التعامل مع المستندات الكبيرة دون مشاكل الذاكرة\n",
    "- **تجميع الموارد**: إعادة استخدام الموارد المكلفة بكفاءة\n",
    "- **جمع القمامة**: أنماط تخصيص ذاكرة محسنة\n",
    "- **إدارة الاتصالات**: دورة حياة اتصال خدمات Azure بشكل صحيح\n",
    "\n",
    "### استراتيجيات التخزين المؤقت\n",
    "- **تخزين مؤقت للاستعلامات**: تخزين الاستعلامات التي يتم تنفيذها بشكل متكرر\n",
    "- **تخزين مؤقت للمستندات**: تخزين في الذاكرة للمستندات الأكثر استخدامًا\n",
    "- **تخزين مؤقت للفهرس**: تحسين تخزين مؤشرات المتجهات\n",
    "- **تخزين مؤقت للنتائج**: تخزين ذكي للاستجابات المُولدة\n",
    "\n",
    "## 📊 حالات استخدام المؤسسات\n",
    "\n",
    "### إدارة المعرفة\n",
    "- **ويكي الشركة**: بحث ذكي عبر قواعد المعرفة الخاصة بالشركة\n",
    "- **السياسات والإجراءات**: إرشادات تلقائية للامتثال والإجراءات\n",
    "- **مواد التدريب**: مساعدة ذكية للتعلم والتطوير\n",
    "- **قواعد بيانات البحث**: أنظمة تحليل الأوراق الأكاديمية والبحثية\n",
    "\n",
    "### دعم العملاء\n",
    "- **قاعدة معرفة الدعم**: استجابات تلقائية لخدمة العملاء\n",
    "- **وثائق المنتجات**: استرجاع ذكي لمعلومات المنتجات\n",
    "- **أدلة حل المشكلات**: مساعدة سياقية لحل المشكلات\n",
    "- **أنظمة الأسئلة الشائعة**: إنشاء ديناميكي للأسئلة الشائعة من مجموعات المستندات\n",
    "\n",
    "### الامتثال التنظيمي\n",
    "- **تحليل المستندات القانونية**: ذكاء العقود والمستندات القانونية\n",
    "- **مراقبة الامتثال**: التحقق التلقائي من الامتثال التنظيمي\n",
    "- **تقييم المخاطر**: تحليل المخاطر المستند إلى المستندات والتقارير\n",
    "- **دعم التدقيق**: اكتشاف ذكي للمستندات أثناء عمليات التدقيق\n",
    "\n",
    "## 🚀 النشر في الإنتاج\n",
    "\n",
    "### المراقبة والملاحظة\n",
    "- **Application Insights**: مراقبة تفصيلية للأداء والقياسات\n",
    "- **مقاييس مخصصة**: تتبع مؤشرات الأداء الرئيسية الخاصة بالأعمال والتنبيه\n",
    "- **التتبع الموزع**: تتبع الطلبات من البداية إلى النهاية عبر الخدمات\n",
    "- **لوحات التحكم الصحية**: تصور الصحة والأداء للنظام في الوقت الفعلي\n",
    "\n",
    "### قابلية التوسع والموثوقية\n",
    "- **التوسع التلقائي**: التوسع التلقائي بناءً على الحمل ومقاييس الأداء\n",
    "- **التوافر العالي**: نشر متعدد المناطق مع إمكانيات الفشل\n",
    "- **اختبار التحميل**: التحقق من الأداء تحت ظروف الحمل المؤسسي\n",
    "- **التعافي من الكوارث**: إجراءات النسخ الاحتياطي والاسترداد تلقائيًا\n",
    "\n",
    "هل أنت جاهز لبناء أنظمة RAG على مستوى المؤسسات يمكنها التعامل مع المستندات الحساسة على نطاق واسع؟ دعنا نبدأ في تصميم أنظمة معرفة ذكية للمؤسسات! 🏢📖✨\n"
   ]
  },
  {
   "cell_type": "code",
   "execution_count": 1,
   "metadata": {
    "language_info": {
     "name": "polyglot-notebook"
    },
    "polyglot_notebook": {
     "kernelName": "csharp"
    }
   },
   "outputs": [
    {
     "data": {
      "text/html": [
       "<div><div></div><div></div><div><strong>Installed Packages</strong><ul><li><span>Microsoft.Extensions.AI, 9.9.1</span></li></ul></div></div>"
      ]
     },
     "metadata": {},
     "output_type": "display_data"
    }
   ],
   "source": [
    "#r \"nuget: Microsoft.Extensions.AI, 9.9.1\""
   ]
  },
  {
   "cell_type": "code",
   "execution_count": 2,
   "id": "4ec1f0d1",
   "metadata": {
    "language_info": {
     "name": "polyglot-notebook"
    },
    "polyglot_notebook": {
     "kernelName": "csharp"
    }
   },
   "outputs": [
    {
     "data": {
      "text/html": [
       "<div><div></div><div></div><div><strong>Installed Packages</strong><ul><li><span>Azure.AI.Agents.Persistent, 1.2.0-beta.5</span></li><li><span>Azure.Identity, 1.15.0</span></li><li><span>System.Linq.Async, 6.0.3</span></li></ul></div></div>"
      ]
     },
     "metadata": {},
     "output_type": "display_data"
    }
   ],
   "source": [
    "#r \"nuget: Azure.AI.Agents.Persistent, 1.2.0-beta.5\"\n",
    "#r \"nuget: Azure.Identity, 1.15.0\"\n",
    "#r \"nuget: System.Linq.Async, 6.0.3\""
   ]
  },
  {
   "cell_type": "code",
   "execution_count": 3,
   "id": "2363ae07",
   "metadata": {
    "language_info": {
     "name": "polyglot-notebook"
    },
    "polyglot_notebook": {
     "kernelName": "csharp"
    }
   },
   "outputs": [],
   "source": []
  },
  {
   "cell_type": "code",
   "execution_count": null,
   "id": "d10cec9d",
   "metadata": {
    "language_info": {
     "name": "polyglot-notebook"
    },
    "polyglot_notebook": {
     "kernelName": "csharp"
    }
   },
   "outputs": [
    {
     "data": {
      "text/html": [
       "<div><div></div><div></div><div><strong>Installed Packages</strong><ul><li><span>Microsoft.Agents.AI.AzureAI, 1.0.0-preview.251001.2</span></li></ul></div></div>"
      ]
     },
     "metadata": {},
     "output_type": "display_data"
    }
   ],
   "source": [
    "#r \"nuget: Microsoft.Agents.AI.AzureAI, 1.0.0-preview.251001.3\""
   ]
  },
  {
   "cell_type": "code",
   "execution_count": null,
   "id": "78199d1c",
   "metadata": {
    "language_info": {
     "name": "polyglot-notebook"
    },
    "polyglot_notebook": {
     "kernelName": "csharp"
    }
   },
   "outputs": [
    {
     "data": {
      "text/html": [
       "<div><div></div><div></div><div><strong>Installed Packages</strong><ul><li><span>microsoft.agents.ai, 1.0.0-preview.251001.2</span></li></ul></div></div>"
      ]
     },
     "metadata": {},
     "output_type": "display_data"
    }
   ],
   "source": [
    "#r \"nuget: Microsoft.Agents.AI, 1.0.0-preview.251001.3\""
   ]
  },
  {
   "cell_type": "code",
   "execution_count": 6,
   "id": "7de4684a",
   "metadata": {
    "language_info": {
     "name": "polyglot-notebook"
    },
    "polyglot_notebook": {
     "kernelName": "csharp"
    }
   },
   "outputs": [
    {
     "data": {
      "text/html": [
       "<div><div></div><div></div><div><strong>Installed Packages</strong><ul><li><span>DotNetEnv, 3.1.1</span></li></ul></div></div>"
      ]
     },
     "metadata": {},
     "output_type": "display_data"
    }
   ],
   "source": [
    "#r \"nuget: DotNetEnv, 3.1.1\""
   ]
  },
  {
   "cell_type": "code",
   "execution_count": 7,
   "id": "251efd31",
   "metadata": {
    "language_info": {
     "name": "polyglot-notebook"
    },
    "polyglot_notebook": {
     "kernelName": "csharp"
    }
   },
   "outputs": [],
   "source": [
    "using System;\n",
    "using System.Linq;\n",
    "using Azure.AI.Agents.Persistent;\n",
    "using Azure.Identity;\n",
    "using Microsoft.Agents.AI;"
   ]
  },
  {
   "cell_type": "code",
   "execution_count": 8,
   "id": "a2e342f1",
   "metadata": {
    "language_info": {
     "name": "polyglot-notebook"
    },
    "polyglot_notebook": {
     "kernelName": "csharp"
    }
   },
   "outputs": [],
   "source": [
    " using DotNetEnv;"
   ]
  },
  {
   "cell_type": "code",
   "execution_count": 9,
   "id": "a7a01653",
   "metadata": {
    "language_info": {
     "name": "polyglot-notebook"
    },
    "polyglot_notebook": {
     "kernelName": "csharp"
    }
   },
   "outputs": [],
   "source": [
    "Env.Load(\"../../../.env\");"
   ]
  },
  {
   "cell_type": "code",
   "execution_count": 10,
   "id": "a42735d5",
   "metadata": {
    "language_info": {
     "name": "polyglot-notebook"
    },
    "polyglot_notebook": {
     "kernelName": "csharp"
    }
   },
   "outputs": [],
   "source": [
    "var azure_foundry_endpoint = Environment.GetEnvironmentVariable(\"AZURE_AI_PROJECT_ENDPOINT\") ?? throw new InvalidOperationException(\"AZURE_AI_PROJECT_ENDPOINT is not set.\");\n",
    "var azure_foundry_model_id = Environment.GetEnvironmentVariable(\"AZURE_AI_MODEL_DEPLOYMENT_NAME\") ?? \"gpt-4.1-mini\";"
   ]
  },
  {
   "cell_type": "code",
   "execution_count": 11,
   "id": "e29bdb58",
   "metadata": {
    "language_info": {
     "name": "polyglot-notebook"
    },
    "polyglot_notebook": {
     "kernelName": "csharp"
    }
   },
   "outputs": [],
   "source": [
    "string pdfPath = \"./document.md\";"
   ]
  },
  {
   "cell_type": "code",
   "execution_count": 12,
   "id": "7351e12d",
   "metadata": {
    "language_info": {
     "name": "polyglot-notebook"
    },
    "polyglot_notebook": {
     "kernelName": "csharp"
    }
   },
   "outputs": [],
   "source": [
    "using System.IO;\n",
    "\n",
    "async Task<Stream> OpenImageStreamAsync(string path)\n",
    "{\n",
    "\treturn await Task.Run(() => File.OpenRead(path));\n",
    "}\n",
    "\n",
    "var pdfStream = await OpenImageStreamAsync(pdfPath);"
   ]
  },
  {
   "cell_type": "code",
   "execution_count": 13,
   "id": "0b6bf484",
   "metadata": {
    "language_info": {
     "name": "polyglot-notebook"
    },
    "polyglot_notebook": {
     "kernelName": "csharp"
    }
   },
   "outputs": [],
   "source": [
    "var persistentAgentsClient = new PersistentAgentsClient(azure_foundry_endpoint, new AzureCliCredential());"
   ]
  },
  {
   "cell_type": "code",
   "execution_count": 14,
   "id": "81e0dddc",
   "metadata": {
    "language_info": {
     "name": "polyglot-notebook"
    },
    "polyglot_notebook": {
     "kernelName": "csharp"
    }
   },
   "outputs": [],
   "source": [
    "PersistentAgentFileInfo fileInfo = await persistentAgentsClient.Files.UploadFileAsync(pdfStream, PersistentAgentFilePurpose.Agents, \"demo.md\");"
   ]
  },
  {
   "cell_type": "code",
   "execution_count": 15,
   "id": "f0c75d80",
   "metadata": {
    "language_info": {
     "name": "polyglot-notebook"
    },
    "polyglot_notebook": {
     "kernelName": "csharp"
    }
   },
   "outputs": [],
   "source": [
    "PersistentAgentsVectorStore fileStore =\n",
    "            await persistentAgentsClient.VectorStores.CreateVectorStoreAsync(\n",
    "                [fileInfo.Id],\n",
    "                metadata: new Dictionary<string, string>() { { \"agentkey\", bool.TrueString } });"
   ]
  },
  {
   "cell_type": "code",
   "execution_count": 16,
   "id": "c77986c5",
   "metadata": {
    "language_info": {
     "name": "polyglot-notebook"
    },
    "polyglot_notebook": {
     "kernelName": "csharp"
    }
   },
   "outputs": [],
   "source": [
    "PersistentAgent agentModel = await persistentAgentsClient.Administration.CreateAgentAsync(\n",
    "            azure_foundry_model_id,\n",
    "            name: \"DotNetRAGAgent\",\n",
    "            tools: [new FileSearchToolDefinition()],\n",
    "            instructions: \"\"\"\n",
    "                You are an AI assistant designed to answer user questions using only the information retrieved from the provided document(s).\n",
    "\n",
    "                - If a user's question cannot be answered using the retrieved context, **you must clearly respond**: \n",
    "                \"I'm sorry, but the uploaded document does not contain the necessary information to answer that question.\"\n",
    "                - Do not answer from general knowledge or reasoning. Do not make assumptions or generate hypothetical explanations.\n",
    "                - Do not provide definitions, tutorials, or commentary that is not explicitly grounded in the content of the uploaded file(s).\n",
    "                - If a user asks a question like \"What is a Neural Network?\", and this is not discussed in the uploaded document, respond as instructed above.\n",
    "                - For questions that do have relevant content in the document (e.g., Contoso's travel insurance coverage), respond accurately, and cite the document explicitly.\n",
    "\n",
    "                You must behave as if you have no external knowledge beyond what is retrieved from the uploaded document.\n",
    "                \"\"\",\n",
    "            toolResources: new()\n",
    "            {\n",
    "                FileSearch = new()\n",
    "                {\n",
    "                    VectorStoreIds = { fileStore.Id },\n",
    "                }\n",
    "            },\n",
    "            metadata: new Dictionary<string, string>() { { \"agentkey\", bool.TrueString } });"
   ]
  },
  {
   "cell_type": "code",
   "execution_count": 17,
   "id": "282326cf",
   "metadata": {
    "language_info": {
     "name": "polyglot-notebook"
    },
    "polyglot_notebook": {
     "kernelName": "csharp"
    }
   },
   "outputs": [],
   "source": [
    "AIAgent agent = await persistentAgentsClient.GetAIAgentAsync(agentModel.Id);"
   ]
  },
  {
   "cell_type": "code",
   "execution_count": 18,
   "id": "2067d313",
   "metadata": {
    "language_info": {
     "name": "polyglot-notebook"
    },
    "polyglot_notebook": {
     "kernelName": "csharp"
    }
   },
   "outputs": [],
   "source": [
    "AgentThread thread = agent.GetNewThread();"
   ]
  },
  {
   "cell_type": "code",
   "execution_count": 19,
   "id": "454c4230",
   "metadata": {
    "language_info": {
     "name": "polyglot-notebook"
    },
    "polyglot_notebook": {
     "kernelName": "csharp"
    }
   },
   "outputs": [
    {
     "name": "stdout",
     "output_type": "stream",
     "text": [
      "Contoso's travel insurance coverage includes protection for medical emergencies, trip cancellations, and lost baggage. This ensures that travelers are supported in case of health-related issues during their trip, unforeseen cancellations, and the loss of their belongings while traveling【4:0†demo.md】.\r\n"
     ]
    }
   ],
   "source": [
    "Console.WriteLine(await agent.RunAsync(\"Can you explain Contoso's travel insurance coverage?\", thread));"
   ]
  },
  {
   "cell_type": "markdown",
   "metadata": {},
   "source": [
    "\n---\n\n**إخلاء المسؤولية**:  \nتمت ترجمة هذا المستند باستخدام خدمة الترجمة الآلية [Co-op Translator](https://github.com/Azure/co-op-translator). بينما نسعى لتحقيق الدقة، يرجى العلم أن الترجمات الآلية قد تحتوي على أخطاء أو عدم دقة. يجب اعتبار المستند الأصلي بلغته الأصلية هو المصدر الموثوق. للحصول على معلومات حساسة، يُوصى بالاستعانة بترجمة بشرية احترافية. نحن غير مسؤولين عن أي سوء فهم أو تفسيرات خاطئة ناتجة عن استخدام هذه الترجمة.\n"
   ]
  }
 ],
 "metadata": {
  "kernelspec": {
   "display_name": ".NET (C#)",
   "language": "C#",
   "name": ".net-csharp"
  },
  "language_info": {
   "name": "polyglot-notebook"
  },
  "polyglot_notebook": {
   "kernelInfo": {
    "defaultKernelName": "csharp",
    "items": [
     {
      "aliases": [],
      "name": "csharp"
     }
    ]
   }
  },
  "coopTranslator": {
   "original_hash": "e4584fa31638009dc6fb665275de8fc2",
   "translation_date": "2025-10-02T11:18:57+00:00",
   "source_file": "05-agentic-rag/code_samples/05-dotnet-agent-framework.ipynb",
   "language_code": "ar"
  }
 },
 "nbformat": 4,
 "nbformat_minor": 5
}