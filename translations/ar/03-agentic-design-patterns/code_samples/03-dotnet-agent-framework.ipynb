{
 "cells": [
  {
   "cell_type": "markdown",
   "id": "d6058fa4",
   "metadata": {},
   "source": [
    "# 🎨 أنماط تصميم الوكلاء مع نماذج GitHub (.NET)\n",
    "\n",
    "## 📋 أهداف التعلم\n",
    "\n",
    "يستعرض هذا الدفتر أنماط تصميم على مستوى المؤسسات لبناء وكلاء ذكيين باستخدام إطار عمل Microsoft Agent في .NET مع تكامل نماذج GitHub. ستتعلم أنماطًا احترافية ونهجًا معماريًا يجعل الوكلاء جاهزين للإنتاج، وقابلين للصيانة، وقابلين للتوسع.\n",
    "\n",
    "**أنماط تصميم المؤسسات:**\n",
    "- 🏭 **نمط المصنع**: إنشاء وكلاء موحد مع حقن التبعيات\n",
    "- 🔧 **نمط البناء**: إعداد وتكوين الوكلاء بطريقة سلسة\n",
    "- 🧵 **أنماط آمنة للخيوط**: إدارة المحادثات المتزامنة\n",
    "- 📋 **نمط المستودع**: إدارة الأدوات والقدرات بشكل منظم\n",
    "\n",
    "## 🎯 فوائد معمارية خاصة بـ .NET\n",
    "\n",
    "### ميزات المؤسسات\n",
    "- **الكتابة القوية**: التحقق أثناء وقت الترجمة ودعم IntelliSense\n",
    "- **حقن التبعيات**: تكامل مع حاوية DI المدمجة\n",
    "- **إدارة التكوين**: أنماط IConfiguration وOptions\n",
    "- **Async/Await**: دعم البرمجة غير المتزامنة من الدرجة الأولى\n",
    "\n",
    "### أنماط جاهزة للإنتاج\n",
    "- **تكامل التسجيل**: دعم ILogger والتسجيل الهيكلي\n",
    "- **فحوصات الصحة**: مراقبة وتشخيص مدمج\n",
    "- **التحقق من التكوين**: كتابة قوية مع تعليقات البيانات\n",
    "- **معالجة الأخطاء**: إدارة استثناءات منظمة\n",
    "\n",
    "## 🔧 الهندسة التقنية\n",
    "\n",
    "### مكونات .NET الأساسية\n",
    "- **Microsoft.Extensions.AI**: تجريدات خدمات الذكاء الاصطناعي الموحدة\n",
    "- **Microsoft.Agents.AI**: إطار عمل تنظيم الوكلاء على مستوى المؤسسات\n",
    "- **تكامل نماذج GitHub**: أنماط عميل API عالية الأداء\n",
    "- **نظام التكوين**: تكامل appsettings.json والبيئة\n",
    "\n",
    "### تنفيذ أنماط التصميم\n",
    "```csharp\n",
    "IServiceCollection → Agent Builder → Configuration → Tool Registry → AI Agent\n",
    "```\n",
    "\n",
    "## 🏗️ أنماط المؤسسات المعروضة\n",
    "\n",
    "### 1. **أنماط الإنشاء**\n",
    "- **مصنع الوكلاء**: إنشاء وكلاء مركزي مع تكوين متسق\n",
    "- **نمط البناء**: واجهة برمجة تطبيقات سلسة لتكوين الوكلاء المعقد\n",
    "- **نمط Singleton**: إدارة الموارد والتكوين المشتركة\n",
    "- **حقن التبعيات**: فصل مرن وقابلية الاختبار\n",
    "\n",
    "### 2. **أنماط السلوك**\n",
    "- **نمط الاستراتيجية**: استراتيجيات تنفيذ الأدوات القابلة للتبديل\n",
    "- **نمط الأمر**: عمليات الوكلاء المغلفة مع التراجع/الإعادة\n",
    "- **نمط المراقب**: إدارة دورة حياة الوكلاء المدفوعة بالأحداث\n",
    "- **نمط الطريقة النموذجية**: تدفقات تنفيذ الوكلاء الموحدة\n",
    "\n",
    "### 3. **أنماط الهيكل**\n",
    "- **نمط المحول**: طبقة تكامل API لنماذج GitHub\n",
    "- **نمط الزخرفة**: تعزيز قدرات الوكلاء\n",
    "- **نمط الواجهة**: واجهات تفاعل الوكلاء المبسطة\n",
    "- **نمط الوكيل**: التحميل الكسول والتخزين المؤقت لتحسين الأداء\n",
    "\n",
    "## ⚙️ المتطلبات والإعداد\n",
    "\n",
    "**بيئة التطوير:**\n",
    "- .NET 9.0 SDK أو أعلى\n",
    "- Visual Studio 2022 أو VS Code مع امتداد C#\n",
    "- الوصول إلى API لنماذج GitHub\n",
    "\n",
    "**اعتماديات NuGet:**\n",
    "```xml\n",
    "<PackageReference Include=\"Microsoft.Extensions.AI\" Version=\"9.9.0\" />\n",
    "<PackageReference Include=\"Microsoft.Extensions.AI.OpenAI\" Version=\"9.9.0-preview.1.25458.4\" />\n",
    "<PackageReference Include=\"DotNetEnv\" Version=\"3.1.1\" />\n",
    "```\n",
    "\n",
    "**التكوين (ملف .env):**\n",
    "```env\n",
    "GITHUB_TOKEN=your_github_personal_access_token\n",
    "GITHUB_ENDPOINT=https://models.inference.ai.azure.com\n",
    "GITHUB_MODEL_ID=gpt-4o-mini\n",
    "```\n",
    "\n",
    "## 📚 مبادئ تصميم .NET\n",
    "\n",
    "### مبادئ SOLID\n",
    "- **المسؤولية الفردية**: لكل مكون هدف واضح\n",
    "- **مفتوح/مغلق**: قابل للتوسيع دون تعديل\n",
    "- **استبدال Liskov**: تنفيذ الأدوات المستندة إلى الواجهة\n",
    "- **فصل الواجهة**: واجهات مركزة ومتجانسة\n",
    "- **عكس التبعيات**: الاعتماد على التجريدات وليس التفاصيل\n",
    "\n",
    "### الهندسة النظيفة\n",
    "- **طبقة المجال**: تجريدات الوكلاء والأدوات الأساسية\n",
    "- **طبقة التطبيق**: تنظيم الوكلاء وتدفقات العمل\n",
    "- **طبقة البنية التحتية**: تكامل نماذج GitHub والخدمات الخارجية\n",
    "- **طبقة العرض**: تفاعل المستخدم وتنسيق الردود\n",
    "\n",
    "## 🔒 اعتبارات المؤسسات\n",
    "\n",
    "### الأمان\n",
    "- **إدارة بيانات الاعتماد**: التعامل الآمن مع مفاتيح API باستخدام IConfiguration\n",
    "- **التحقق من المدخلات**: كتابة قوية والتحقق من تعليقات البيانات\n",
    "- **تنقية المخرجات**: معالجة الردود بشكل آمن وتصفيتها\n",
    "- **تسجيل التدقيق**: تتبع شامل للعمليات\n",
    "\n",
    "### الأداء\n",
    "- **أنماط غير متزامنة**: عمليات الإدخال/الإخراج غير المحظورة\n",
    "- **تجميع الاتصالات**: إدارة فعالة لعميل HTTP\n",
    "- **التخزين المؤقت**: تخزين الردود المؤقت لتحسين الأداء\n",
    "- **إدارة الموارد**: أنماط التخلص والتنظيف المناسبة\n",
    "\n",
    "### القابلية للتوسع\n",
    "- **أمان الخيوط**: دعم تنفيذ الوكلاء المتزامن\n",
    "- **تجميع الموارد**: استخدام الموارد بكفاءة\n",
    "- **إدارة التحميل**: تحديد المعدل ومعالجة الضغط الخلفي\n",
    "- **المراقبة**: مقاييس الأداء وفحوصات الصحة\n",
    "\n",
    "## 🚀 نشر الإنتاج\n",
    "\n",
    "- **إدارة التكوين**: إعدادات خاصة بالبيئة\n",
    "- **استراتيجية التسجيل**: تسجيل هيكلي مع معرفات الارتباط\n",
    "- **معالجة الأخطاء**: معالجة استثناءات عالمية مع استرداد مناسب\n",
    "- **المراقبة**: رؤى التطبيق ومؤشرات الأداء\n",
    "- **الاختبار**: أنماط الاختبارات الوحدوية، واختبارات التكامل، واختبارات التحميل\n",
    "\n",
    "جاهز لبناء وكلاء ذكيين على مستوى المؤسسات باستخدام .NET؟ لنقم بتصميم شيء قوي! 🏢✨\n"
   ]
  },
  {
   "cell_type": "code",
   "execution_count": 1,
   "id": "2770ac5c",
   "metadata": {
    "language_info": {
     "name": "polyglot-notebook"
    },
    "polyglot_notebook": {
     "kernelName": "csharp"
    }
   },
   "outputs": [
    {
     "data": {
      "text/html": [
       "<div><div></div><div></div><div><strong>Installed Packages</strong><ul><li><span>Microsoft.Extensions.AI, 9.9.1</span></li></ul></div></div>"
      ]
     },
     "metadata": {},
     "output_type": "display_data"
    }
   ],
   "source": [
    "#r \"nuget: Microsoft.Extensions.AI, 9.9.1\""
   ]
  },
  {
   "cell_type": "code",
   "execution_count": null,
   "id": "984ff6cd",
   "metadata": {
    "language_info": {
     "name": "polyglot-notebook"
    },
    "polyglot_notebook": {
     "kernelName": "csharp"
    }
   },
   "outputs": [
    {
     "data": {
      "text/html": [
       "<div><div></div><div></div><div><strong>Installed Packages</strong><ul><li><span>Microsoft.Agents.AI.OpenAI, 1.0.0-preview.251001.2</span></li></ul></div></div>"
      ]
     },
     "metadata": {},
     "output_type": "display_data"
    }
   ],
   "source": [
    "#r \"nuget: Microsoft.Agents.AI.OpenAI, 1.0.0-preview.251001.3\""
   ]
  },
  {
   "cell_type": "code",
   "execution_count": null,
   "id": "0ab71360",
   "metadata": {
    "language_info": {
     "name": "polyglot-notebook"
    },
    "polyglot_notebook": {
     "kernelName": "csharp"
    }
   },
   "outputs": [
    {
     "data": {
      "text/html": [
       "<div><div></div><div></div><div><strong>Installed Packages</strong><ul><li><span>microsoft.agents.ai, 1.0.0-preview.251001.2</span></li></ul></div></div>"
      ]
     },
     "metadata": {},
     "output_type": "display_data"
    }
   ],
   "source": [
    "\n",
    "\n",
    "#r \"nuget: Microsoft.Agents.AI, 1.0.0-preview.251001.3\""
   ]
  },
  {
   "cell_type": "code",
   "execution_count": 4,
   "id": "4ab7b15d",
   "metadata": {
    "language_info": {
     "name": "polyglot-notebook"
    },
    "polyglot_notebook": {
     "kernelName": "csharp"
    }
   },
   "outputs": [],
   "source": [
    "// #r \"nuget: Microsoft.Extensions.AI.OpenAI, 9.9.0-preview.1.25458.4\""
   ]
  },
  {
   "cell_type": "code",
   "execution_count": 5,
   "id": "3fa8aa21",
   "metadata": {
    "language_info": {
     "name": "polyglot-notebook"
    },
    "polyglot_notebook": {
     "kernelName": "csharp"
    }
   },
   "outputs": [
    {
     "data": {
      "text/html": [
       "<div><div></div><div></div><div><strong>Installed Packages</strong><ul><li><span>DotNetEnv, 3.1.1</span></li></ul></div></div>"
      ]
     },
     "metadata": {},
     "output_type": "display_data"
    }
   ],
   "source": [
    "#r \"nuget: DotNetEnv, 3.1.1\""
   ]
  },
  {
   "cell_type": "code",
   "execution_count": 6,
   "id": "fc8ee8ea",
   "metadata": {
    "language_info": {
     "name": "polyglot-notebook"
    },
    "polyglot_notebook": {
     "kernelName": "csharp"
    }
   },
   "outputs": [],
   "source": [
    "using System;\n",
    "using System.ComponentModel;\n",
    "using System.ClientModel;\n",
    "\n",
    "using Microsoft.Extensions.AI;\n",
    "using Microsoft.Agents.AI;\n",
    "using OpenAI;"
   ]
  },
  {
   "cell_type": "code",
   "execution_count": 7,
   "id": "699b1c83",
   "metadata": {
    "language_info": {
     "name": "polyglot-notebook"
    },
    "polyglot_notebook": {
     "kernelName": "csharp"
    }
   },
   "outputs": [],
   "source": [
    " using DotNetEnv;"
   ]
  },
  {
   "cell_type": "code",
   "execution_count": 8,
   "id": "daa649a0",
   "metadata": {
    "language_info": {
     "name": "polyglot-notebook"
    },
    "polyglot_notebook": {
     "kernelName": "csharp"
    }
   },
   "outputs": [],
   "source": [
    "Env.Load(\"../../../.env\");"
   ]
  },
  {
   "cell_type": "code",
   "execution_count": 9,
   "id": "29661a90",
   "metadata": {
    "language_info": {
     "name": "polyglot-notebook"
    },
    "polyglot_notebook": {
     "kernelName": "csharp"
    }
   },
   "outputs": [],
   "source": [
    "[Description(\"Provides a random vacation destination.\")]\n",
    "static string GetRandomDestination()\n",
    "{\n",
    "    var destinations = new List<string>\n",
    "    {\n",
    "        \"Paris, France\",\n",
    "        \"Tokyo, Japan\",\n",
    "        \"New York City, USA\",\n",
    "        \"Sydney, Australia\",\n",
    "        \"Rome, Italy\",\n",
    "        \"Barcelona, Spain\",\n",
    "        \"Cape Town, South Africa\",\n",
    "        \"Rio de Janeiro, Brazil\",\n",
    "        \"Bangkok, Thailand\",\n",
    "        \"Vancouver, Canada\"\n",
    "    };\n",
    "\n",
    "    var random = new Random();\n",
    "    int index = random.Next(destinations.Count);\n",
    "    return destinations[index];\n",
    "}"
   ]
  },
  {
   "cell_type": "code",
   "execution_count": 10,
   "id": "d2ed1f8b",
   "metadata": {
    "language_info": {
     "name": "polyglot-notebook"
    },
    "polyglot_notebook": {
     "kernelName": "csharp"
    }
   },
   "outputs": [],
   "source": [
    "var github_endpoint = Environment.GetEnvironmentVariable(\"GITHUB_ENDPOINT\") ?? throw new InvalidOperationException(\"GITHUB_ENDPOINT is not set.\");\n",
    "var github_model_id = Environment.GetEnvironmentVariable(\"GITHUB_MODEL_ID\") ?? \"gpt-4o-mini\";\n",
    "var github_token = Environment.GetEnvironmentVariable(\"GITHUB_TOKEN\") ?? throw new InvalidOperationException(\"GITHUB_TOKEN is not set.\");"
   ]
  },
  {
   "cell_type": "code",
   "execution_count": 11,
   "id": "c36c73e1",
   "metadata": {
    "language_info": {
     "name": "polyglot-notebook"
    },
    "polyglot_notebook": {
     "kernelName": "csharp"
    }
   },
   "outputs": [],
   "source": [
    "var openAIOptions = new OpenAIClientOptions()\n",
    "{\n",
    "    Endpoint= new Uri(github_endpoint)\n",
    "};"
   ]
  },
  {
   "cell_type": "code",
   "execution_count": 12,
   "id": "6d94ff10",
   "metadata": {
    "language_info": {
     "name": "polyglot-notebook"
    },
    "polyglot_notebook": {
     "kernelName": "csharp"
    }
   },
   "outputs": [],
   "source": [
    "\n",
    "var openAIClient = new OpenAIClient(new ApiKeyCredential(github_token), openAIOptions);"
   ]
  },
  {
   "cell_type": "code",
   "execution_count": 13,
   "id": "fe32b57a",
   "metadata": {
    "language_info": {
     "name": "polyglot-notebook"
    },
    "polyglot_notebook": {
     "kernelName": "csharp"
    }
   },
   "outputs": [],
   "source": [
    "AIAgent agent = new OpenAIClient(new ApiKeyCredential(github_token), openAIOptions).GetChatClient(github_model_id).CreateAIAgent(\n",
    "    instructions:\"You are a helpful AI Agent that can help plan vacations for customers at random destinations\", tools: [AIFunctionFactory.Create((Func<string>)GetRandomDestination)]);"
   ]
  },
  {
   "cell_type": "code",
   "execution_count": 14,
   "metadata": {
    "language_info": {
     "name": "polyglot-notebook"
    },
    "polyglot_notebook": {
     "kernelName": "csharp"
    }
   },
   "outputs": [],
   "source": [
    "AgentThread thread = agent.GetNewThread();"
   ]
  },
  {
   "cell_type": "code",
   "execution_count": 15,
   "id": "5e455aff",
   "metadata": {
    "language_info": {
     "name": "polyglot-notebook"
    },
    "polyglot_notebook": {
     "kernelName": "csharp"
    }
   },
   "outputs": [
    {
     "name": "stdout",
     "output_type": "stream",
     "text": [
      "How about a day trip to Vancouver, Canada? Here's a suggested itinerary for your day:\n",
      "\n",
      "### Morning\n",
      "- **Breakfast at a Local Cafe**: Start your day with a delicious breakfast at a cozy café like **Jam Cafe** or **Cafe Medina**.\n",
      "- **Stanley Park**: After breakfast, head to Stanley Park. You can rent a bike and ride along the seawall, enjoying beautiful views of the city and the water.\n",
      "\n",
      "### Afternoon\n",
      "- **Lunch in Gastown**: Make your way to Gastown for lunch. Try a local favorite like **The Flying Pig** or **Noodle Box**.\n",
      "- **Explore Gastown**: After lunch, walk around Gastown to see the iconic Steam Clock and browse the unique shops and boutiques.\n",
      "\n",
      "### Late Afternoon\n",
      "- **Granville Island**: Visit Granville Island, where you can stroll through the public market, sample local foods, and enjoy artisan shops.\n",
      "- **False Creek**: Take a walk along False Creek and enjoy the waterfront views.\n",
      "\n",
      "### Evening\n",
      "- **Dinner at a Waterfront Restaurant**: End your day with dinner at a waterfront restaurant like **The Boathouse** or **Lift Bar Grill View** for great food and a view of the sunset.\n",
      "- **Optional: Sunset Cruise**: If you're up for it, consider taking a sunset cruise for a different perspective of the city.\n",
      "\n",
      "### Tips\n",
      "- Make sure to check the weather beforehand!\n",
      "- Consider public transport or ride-sharing to navigate the city easily.\n",
      "\n",
      "Enjoy your day trip to Vancouver!\r\n"
     ]
    }
   ],
   "source": [
    "Console.WriteLine(await agent.RunAsync(\"Plan me a day trip\",thread));"
   ]
  },
  {
   "cell_type": "code",
   "execution_count": 16,
   "id": "592ae1bb",
   "metadata": {
    "language_info": {
     "name": "polyglot-notebook"
    },
    "polyglot_notebook": {
     "kernelName": "csharp"
    }
   },
   "outputs": [
    {
     "name": "stdout",
     "output_type": "stream",
     "text": [
      "How about a vacation to New York City, USA? Here's a suggested itinerary for your trip:\n",
      "\n",
      "### Day 1: Arrival in New York City\n",
      "- **Check-In**: Arrive and check in to your hotel.\n",
      "- **Central Park**: Take a leisurely stroll through Central Park. Consider renting a bike or taking a carriage ride.\n",
      "- **Evening**: Enjoy dinner at a classic NYC restaurant, such as **Katz's Delicatessen** or **Carbone**.\n",
      "\n",
      "### Day 2: Iconic Landmarks\n",
      "- **Morning**: Breakfast at a local diner.\n",
      "- **Statue of Liberty & Ellis Island**: Take a ferry to visit these iconic landmarks.\n",
      "- **Afternoon**: Explore Wall Street and visit the 9/11 Memorial & Museum.\n",
      "- **Evening**: Dinner in the Financial District followed by a walk across the Brooklyn Bridge at sunset.\n",
      "\n",
      "### Day 3: Culture and Arts\n",
      "- **Morning**: Visit The Metropolitan Museum of Art (The Met) and spend a few hours exploring its vast collection.\n",
      "- **Afternoon**: Head to Times Square for lunch and the buzz of the city.\n",
      "- **Broadway Show**: Catch a Broadway show in the evening. Be sure to book tickets in advance!\n",
      "\n",
      "### Day 4: Explore Neighborhoods\n",
      "- **Morning**: Head to SoHo for brunch and shopping in its chic boutiques.\n",
      "- **Afternoon**: Explore Greenwich Village, known for its bohemian atmosphere and history.\n",
      "- **Evening**: Enjoy dinner in the West Village, perhaps at **Buvette** or **Minetta Tavern**.\n",
      "\n",
      "### Day 5: Departure\n",
      "- **Last-minute Shopping**: Spend your last morning shopping at Fifth Avenue or head to Chelsea Market for food and souvenirs.\n",
      "- **Check-Out**: Depart for your journey home.\n",
      "\n",
      "### Tips\n",
      "- Utilize the subway for efficient travel around the city.\n",
      "- Make reservations for popular restaurants and attractions ahead of time!\n",
      "\n",
      "Enjoy your trip to New York City!\r\n"
     ]
    }
   ],
   "source": [
    "Console.WriteLine(await agent.RunAsync(\"I don't like that destination. Plan me another vacation.\",thread));"
   ]
  },
  {
   "cell_type": "markdown",
   "metadata": {},
   "source": [
    "\n---\n\n**إخلاء المسؤولية**:  \nتم ترجمة هذا المستند باستخدام خدمة الترجمة بالذكاء الاصطناعي [Co-op Translator](https://github.com/Azure/co-op-translator). بينما نسعى لتحقيق الدقة، يرجى العلم أن الترجمات الآلية قد تحتوي على أخطاء أو عدم دقة. يجب اعتبار المستند الأصلي بلغته الأصلية المصدر الرسمي. للحصول على معلومات حاسمة، يُوصى بالاستعانة بترجمة بشرية احترافية. نحن غير مسؤولين عن أي سوء فهم أو تفسيرات خاطئة ناتجة عن استخدام هذه الترجمة.\n"
   ]
  }
 ],
 "metadata": {
  "kernelspec": {
   "display_name": ".NET (C#)",
   "language": "C#",
   "name": ".net-csharp"
  },
  "language_info": {
   "name": "polyglot-notebook"
  },
  "polyglot_notebook": {
   "kernelInfo": {
    "defaultKernelName": "csharp",
    "items": [
     {
      "aliases": [],
      "name": "csharp"
     }
    ]
   }
  },
  "coopTranslator": {
   "original_hash": "070c1d8985b3dc6e6d977f3e891037f1",
   "translation_date": "2025-10-02T11:50:28+00:00",
   "source_file": "03-agentic-design-patterns/code_samples/03-dotnet-agent-framework.ipynb",
   "language_code": "ar"
  }
 },
 "nbformat": 4,
 "nbformat_minor": 5
}