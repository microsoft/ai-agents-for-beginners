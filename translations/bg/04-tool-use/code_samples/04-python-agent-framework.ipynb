{
 "cells": [
  {
   "cell_type": "markdown",
   "id": "8744544f",
   "metadata": {},
   "source": [
    "# 🛠️ Разширено използване на инструменти с GitHub модели (Python)\n",
    "\n",
    "## 📋 Цели на обучението\n",
    "\n",
    "Този тетрадка демонстрира модели за интеграция на инструменти, използвайки Microsoft Agent Framework с GitHub модели. Ще научите как да създавате, управлявате и координирате множество инструменти за изграждане на сложни възможности за агенти.\n",
    "\n",
    "**Какво ще овладеете:**\n",
    "- 🔧 **Архитектура с множество инструменти**: Създаване на агенти с множество специализирани инструменти\n",
    "- 🎯 **Логика за избор на инструменти**: Как агентите избират правилния инструмент за всяка задача\n",
    "- 📊 **Инструменти за обработка на данни**: Създаване на инструменти, които обработват различни типове данни\n",
    "- 🔗 **Композиция на инструменти**: Комбиниране на инструменти за сложни работни потоци\n",
    "\n",
    "## 🎯 Основни модели за инструменти\n",
    "\n",
    "### Принципи на проектиране на инструменти\n",
    "- **Единична отговорност**: Всеки инструмент има ясна и фокусирана цел\n",
    "- **Типова безопасност**: Силно типизиране за надеждно изпълнение на инструменти\n",
    "- **Обработка на грешки**: Грациозно справяне с неуспехи и модели за възстановяване\n",
    "- **Композиционност**: Инструменти, които работят добре заедно\n",
    "\n",
    "### Разширени функции на инструменти\n",
    "- **Осъзнаване на контекста**: Инструменти, които разбират контекста на разговора\n",
    "- **Валидиране на данни**: Санитизация на входа и валидиране на изхода\n",
    "- **Оптимизация на производителността**: Ефективни модели за изпълнение на инструменти\n",
    "- **Разширяемост**: Лесно добавяне на нови възможности за инструменти\n",
    "\n",
    "## 🔧 Техническа архитектура\n",
    "\n",
    "### Основни компоненти\n",
    "- **Microsoft Agent Framework**: Python имплементация с поддръжка на разширени инструменти\n",
    "- **Интеграция с GitHub модели**: Достъп до високопроизводителни езикови модели\n",
    "- **Система за регистриране на инструменти**: Организирано управление на възможностите на агента\n",
    "- **Модели за възстановяване от грешки**: Надеждно справяне с неуспехи при изпълнение на инструменти\n",
    "\n",
    "### Поток на интеграция на инструменти\n",
    "```python\n",
    "User Request → Agent Analysis → Tool Selection → Tool Execution → Response Synthesis\n",
    "```\n",
    "\n",
    "## 🛠️ Категории инструменти, демонстрирани\n",
    "\n",
    "### 1. **Инструменти за генериране на данни**\n",
    "- Генератор на случайни дестинации\n",
    "- Доставчик на информация за времето  \n",
    "- Калкулатор на разходи за пътуване\n",
    "- Енджин за препоръки за дейности\n",
    "\n",
    "### 2. **Инструменти за обработка**\n",
    "- Форматиране и валидиране на текст\n",
    "- Утилити за трансформация на данни\n",
    "- Функции за анализ на съдържание\n",
    "- Инструменти за подобряване на отговори\n",
    "\n",
    "### 3. **Интеграционни инструменти**\n",
    "- Конектори за външни API\n",
    "- Операции с файловата система\n",
    "- Интерфейси за заявки към бази данни\n",
    "- Утилити за уеб скрапинг\n",
    "\n",
    "## ⚙️ Предварителни изисквания и настройка\n",
    "\n",
    "**Необходими зависимости:**\n",
    "```bash\n",
    "\n",
    "pip install agent-framework-core -U\n",
    "```\n",
    "\n",
    "**Конфигурация на средата (.env файл):**\n",
    "```env\n",
    "GITHUB_TOKEN=your_github_personal_access_token\n",
    "GITHUB_ENDPOINT=https://models.inference.ai.azure.com\n",
    "GITHUB_MODEL_ID=gpt-4o-mini\n",
    "```\n",
    "\n",
    "**Опционални API:**\n",
    "- Ключ за достъп до API за времето (за инструменти за времето)\n",
    "- Достъп до API за конвертиране на валута\n",
    "- Удостоверения за услуги за информация за пътувания\n",
    "\n",
    "## 🎨 Модели на проектиране\n",
    "\n",
    "### Модел на фабрика за инструменти\n",
    "- Централизирано създаване и конфигуриране на инструменти\n",
    "- Консистентен дизайн на интерфейса на инструменти\n",
    "- Лесна регистрация и откриване на инструменти\n",
    "\n",
    "### Модел на команда\n",
    "- Инкапсулирана логика за изпълнение на инструменти\n",
    "- Функционалност за отменяне/повторение на сложни операции\n",
    "- Логване за одит на използването на инструменти\n",
    "\n",
    "### Модел на наблюдател\n",
    "- Мониторинг на изпълнението на инструменти\n",
    "- Събиране на метрики за производителност\n",
    "- Докладване на грешки и известия\n",
    "\n",
    "## 🚀 Най-добри практики\n",
    "\n",
    "- **Документация на инструменти**: Ясни описания за разбиране от агента\n",
    "- **Валидиране на входа**: Надеждна проверка и санитизация на параметрите\n",
    "- **Форматиране на изхода**: Консистентни, лесни за парсване отговори на инструменти\n",
    "- **Съобщения за грешки**: Полезна информация за грешки за дебъгване\n",
    "- **Производителност**: Оптимизирано изпълнение на инструменти за бързина\n",
    "\n",
    "Готови ли сте да изградите агенти с мощни възможности за инструменти? Нека създадем нещо невероятно! ⚡\n"
   ]
  },
  {
   "cell_type": "code",
   "execution_count": null,
   "id": "59c0feeb",
   "metadata": {},
   "outputs": [],
   "source": [
    "! pip install agent-framework-core -U"
   ]
  },
  {
   "cell_type": "code",
   "execution_count": null,
   "id": "c0df8a52",
   "metadata": {},
   "outputs": [],
   "source": [
    "# � Import core dependencies for Agent Framework and tool integration\n",
    "# This sets up the essential libraries for building intelligent agents with tool capabilities\n",
    "\n",
    "import asyncio\n",
    "import os\n",
    "import json\n",
    "\n",
    "from dotenv import load_dotenv  # For loading environment variables securely\n",
    "from random import randint\n",
    "\n",
    "# These are the core components for building tool-enabled agents\n",
    "from agent_framework import ChatAgent           # Main agent class\n",
    "from agent_framework.openai import OpenAIChatClient  # OpenAI-compatible client"
   ]
  },
  {
   "cell_type": "code",
   "execution_count": null,
   "id": "24c10eb0",
   "metadata": {},
   "outputs": [],
   "source": [
    "load_dotenv()"
   ]
  },
  {
   "cell_type": "code",
   "execution_count": null,
   "id": "151e0314",
   "metadata": {},
   "outputs": [],
   "source": [
    "# 🔑 Environment variables verification\n",
    "# Ensure all required GitHub Models credentials are properly configured\n",
    "print(\"GITHUB_ENDPOINT:\", os.environ.get(\"GITHUB_ENDPOINT\"))\n",
    "print(\"GITHUB_TOKEN:\", \"***\" if os.environ.get(\"GITHUB_TOKEN\") else \"Not set\")\n",
    "print(\"GITHUB_MODEL_ID:\", os.environ.get(\"GITHUB_MODEL_ID\"))"
   ]
  },
  {
   "cell_type": "code",
   "execution_count": null,
   "id": "a6141584",
   "metadata": {},
   "outputs": [],
   "source": [
    "# 🧪 Test GitHub Models connectivity\n",
    "openai_chat_client = OpenAIChatClient(base_url=os.environ.get(\"GITHUB_ENDPOINT\"), api_key=os.environ.get(\"GITHUB_TOKEN\"), model_id=os.environ.get(\"GITHUB_MODEL_ID\"))"
   ]
  },
  {
   "cell_type": "code",
   "execution_count": null,
   "id": "a6507f83",
   "metadata": {},
   "outputs": [],
   "source": [
    "# 🛠️ Define travel planning tools for agent integration\n",
    "# These functions provide specific capabilities that the agent can invoke dynamically\n",
    "\n",
    "def get_random_destination() -> str:\n",
    "    \"\"\"\n",
    "    🎲 Random destination generator tool\n",
    "    Returns a randomly selected travel destination from curated list\n",
    "    Useful when customers need inspiration for their next vacation\n",
    "    \"\"\"\n",
    "    destinations = [\n",
    "        \"Paris, France\",\n",
    "        \"Tokyo, Japan\", \n",
    "        \"New York City, USA\",\n",
    "        \"London, England\",\n",
    "        \"Rome, Italy\",\n",
    "        \"Sydney, Australia\",\n",
    "        \"Dubai, UAE\",\n",
    "        \"Barcelona, Spain\",\n",
    "        \"Bangkok, Thailand\",\n",
    "        \"Amsterdam, Netherlands\",\n",
    "        \"Istanbul, Turkey\",\n",
    "        \"Prague, Czech Republic\",\n",
    "        \"Santorini, Greece\",\n",
    "        \"Reykjavik, Iceland\",\n",
    "        \"Marrakech, Morocco\",\n",
    "        \"Cape Town, South Africa\",\n",
    "        \"Rio de Janeiro, Brazil\",\n",
    "        \"Bali, Indonesia\"\n",
    "    ]\n",
    "    # 🎯 Return random selection from the curated destination list\n",
    "    return destinations[randint(0, len(destinations) - 1)]"
   ]
  },
  {
   "cell_type": "code",
   "execution_count": null,
   "id": "5d4f0568",
   "metadata": {},
   "outputs": [],
   "source": [
    "# 🔗 Initialize GitHub Models chat client for agent communication\n",
    "# Creates the primary interface between the agent and the language model\n",
    "openai_chat_client = OpenAIChatClient(base_url=os.environ.get(\"GITHUB_ENDPOINT\"), api_key=os.environ.get(\"GITHUB_TOKEN\"), model_id=os.environ.get(\"GITHUB_MODEL_ID\"))"
   ]
  },
  {
   "cell_type": "code",
   "execution_count": null,
   "id": "751668c5",
   "metadata": {},
   "outputs": [],
   "source": [
    "# 🤖 Configure travel agent identity and behavioral instructions\n",
    "# Define the agent's personality, capabilities, and operational guidelines\n",
    "\n",
    "AGENT_NAME = \"TravelAgent\"\n",
    "\n",
    "AGENT_INSTRUCTIONS = \"\"\"You are a helpful AI Agent that can help plan vacations for customers at random destinations\n",
    "\"\"\""
   ]
  },
  {
   "cell_type": "code",
   "execution_count": null,
   "id": "be18ac4f",
   "metadata": {},
   "outputs": [],
   "source": [
    "agent = ChatAgent(\n",
    "        name = AGENT_NAME,\n",
    "        chat_client=openai_chat_client,\n",
    "        instructions=AGENT_INSTRUCTIONS,\n",
    "        tools=[get_random_destination]\n",
    ")"
   ]
  },
  {
   "cell_type": "code",
   "execution_count": null,
   "id": "772e9481",
   "metadata": {},
   "outputs": [],
   "source": [
    "thread = agent.get_new_thread()"
   ]
  },
  {
   "cell_type": "code",
   "execution_count": null,
   "id": "a731b547",
   "metadata": {},
   "outputs": [],
   "source": [
    "response1 = await agent.run(\"Plan me a day trip\",thread= thread)"
   ]
  },
  {
   "cell_type": "code",
   "execution_count": null,
   "id": "7d3fe00a",
   "metadata": {},
   "outputs": [],
   "source": [
    "\n",
    "last_message = response1.messages[-1]\n",
    "text_content = last_message.contents[0].text\n",
    "print(\"Travel plan:\")\n",
    "print(text_content)"
   ]
  },
  {
   "cell_type": "markdown",
   "metadata": {},
   "source": [
    "\n---\n\n**Отказ от отговорност**:  \nТози документ е преведен с помощта на AI услуга за превод [Co-op Translator](https://github.com/Azure/co-op-translator). Въпреки че се стремим към точност, моля, имайте предвид, че автоматизираните преводи може да съдържат грешки или неточности. Оригиналният документ на неговия изходен език трябва да се счита за авторитетен източник. За критична информация се препоръчва професионален човешки превод. Ние не носим отговорност за каквито и да е недоразумения или погрешни интерпретации, произтичащи от използването на този превод.\n"
   ]
  }
 ],
 "metadata": {
  "kernelspec": {
   "display_name": "agentenv",
   "language": "python",
   "name": "python3"
  },
  "language_info": {
   "codemirror_mode": {
    "name": "ipython",
    "version": 3
   },
   "file_extension": ".py",
   "mimetype": "text/x-python",
   "name": "python",
   "nbconvert_exporter": "python",
   "pygments_lexer": "ipython3",
   "version": "3.12.10"
  },
  "polyglot_notebook": {
   "kernelInfo": {
    "defaultKernelName": "csharp",
    "items": [
     {
      "aliases": [],
      "name": "csharp"
     }
    ]
   }
  },
  "coopTranslator": {
   "original_hash": "42966ddac53cebaf0ac1ce33b2ee7059",
   "translation_date": "2025-10-02T08:27:04+00:00",
   "source_file": "04-tool-use/code_samples/04-python-agent-framework.ipynb",
   "language_code": "bg"
  }
 },
 "nbformat": 4,
 "nbformat_minor": 5
}