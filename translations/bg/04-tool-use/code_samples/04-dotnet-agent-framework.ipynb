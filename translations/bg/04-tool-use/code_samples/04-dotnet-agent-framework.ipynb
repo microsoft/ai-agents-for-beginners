{
 "cells": [
  {
   "cell_type": "markdown",
   "id": "c898efd9",
   "metadata": {},
   "source": [
    "# 🛠️ Разширено използване на инструменти с GitHub модели (.NET)\n",
    "\n",
    "## 📋 Цели на обучението\n",
    "\n",
    "Тази тетрадка демонстрира модели за интеграция на инструменти от корпоративен клас, използвайки Microsoft Agent Framework в .NET с GitHub модели. Ще научите как да изграждате сложни агенти с множество специализирани инструменти, като се възползвате от силната типизация на C# и корпоративните функции на .NET.\n",
    "\n",
    "**Разширени възможности на инструментите, които ще овладеете:**\n",
    "- 🔧 **Архитектура с множество инструменти**: Създаване на агенти с множество специализирани възможности\n",
    "- 🎯 **Типово безопасно изпълнение на инструменти**: Използване на проверка по време на компилация в C#\n",
    "- 📊 **Корпоративни модели за инструменти**: Дизайн на инструменти, готови за производство, и управление на грешки\n",
    "- 🔗 **Композиция на инструменти**: Комбиниране на инструменти за сложни бизнес процеси\n",
    "\n",
    "## 🎯 Ползи от архитектурата на инструменти в .NET\n",
    "\n",
    "### Характеристики на корпоративните инструменти\n",
    "- **Проверка по време на компилация**: Силната типизация гарантира коректност на параметрите на инструментите\n",
    "- **Внедряване на зависимости**: Интеграция на IoC контейнер за управление на инструменти\n",
    "- **Async/Await модели**: Неблокиращо изпълнение на инструменти с правилно управление на ресурсите\n",
    "- **Структурирано логване**: Вградена интеграция за мониторинг на изпълнението на инструменти\n",
    "\n",
    "### Модели, готови за производство\n",
    "- **Управление на изключения**: Цялостно управление на грешки с типизирани изключения\n",
    "- **Управление на ресурси**: Правилни модели за освобождаване и управление на паметта\n",
    "- **Мониторинг на производителността**: Вградени метрики и броячи за производителност\n",
    "- **Управление на конфигурацията**: Типово безопасна конфигурация с валидиране\n",
    "\n",
    "## 🔧 Техническа архитектура\n",
    "\n",
    "### Основни компоненти на инструментите в .NET\n",
    "- **Microsoft.Extensions.AI**: Унифициран слой за абстракция на инструменти\n",
    "- **Microsoft.Agents.AI**: Оркестрация на инструменти от корпоративен клас\n",
    "- **Интеграция с GitHub модели**: Високопроизводителен API клиент с пул за връзки\n",
    "\n",
    "### Тръбопровод за изпълнение на инструменти\n",
    "```csharp\n",
    "User Request → Agent Analysis → Tool Selection → Type Validation\n",
    "                 ↓               ↓              ↓\n",
    "         Parameter Binding → Tool Execution → Result Processing → Response\n",
    "```\n",
    "\n",
    "## 🛠️ Категории и модели на инструменти\n",
    "\n",
    "### 1. **Инструменти за обработка на данни**\n",
    "- **Валидиране на входни данни**: Силна типизация с анотации на данни\n",
    "- **Операции за трансформация**: Типово безопасно преобразуване и форматиране на данни\n",
    "- **Бизнес логика**: Инструменти за специфични за домейна изчисления и анализи\n",
    "- **Форматиране на изхода**: Генериране на структурирани отговори\n",
    "\n",
    "### 2. **Интеграционни инструменти**\n",
    "- **API конектори**: Интеграция на RESTful услуги с HttpClient\n",
    "- **Инструменти за бази данни**: Интеграция с Entity Framework за достъп до данни\n",
    "- **Операции с файлове**: Сигурни операции с файловата система с валидиране\n",
    "- **Външни услуги**: Модели за интеграция на услуги от трети страни\n",
    "\n",
    "### 3. **Помощни инструменти**\n",
    "- **Обработка на текст**: Утилити за манипулация и форматиране на низове\n",
    "- **Операции с дата/час**: Изчисления на дата/час, съобразени с културата\n",
    "- **Математически инструменти**: Прецизни изчисления и статистически операции\n",
    "- **Инструменти за валидиране**: Валидиране на бизнес правила и проверка на данни\n",
    "\n",
    "## ⚙️ Предварителни изисквания и настройка\n",
    "\n",
    "**Среда за разработка:**\n",
    "- .NET 9.0 SDK или по-нова версия\n",
    "- Visual Studio 2022 или VS Code с разширение за C#\n",
    "- Достъп до GitHub Models API\n",
    "\n",
    "**Необходими NuGet пакети:**\n",
    "```xml\n",
    "<PackageReference Include=\"Microsoft.Extensions.AI\" Version=\"9.9.0\" />\n",
    "<PackageReference Include=\"Microsoft.Extensions.AI.OpenAI\" Version=\"9.9.0-preview.1.25458.4\" />\n",
    "<PackageReference Include=\"DotNetEnv\" Version=\"3.1.1\" />\n",
    "```\n",
    "\n",
    "**Конфигурация на средата (.env файл):**\n",
    "```env\n",
    "GITHUB_TOKEN=your_github_personal_access_token\n",
    "GITHUB_ENDPOINT=https://models.inference.ai.azure.com\n",
    "GITHUB_MODEL_ID=gpt-4o-mini\n",
    "```\n",
    "\n",
    "Готови ли сте да изградите агенти от корпоративен клас с мощни, типово безопасни възможности за инструменти в .NET? Нека създадем професионални решения! 🏢⚡\n"
   ]
  },
  {
   "cell_type": "code",
   "execution_count": 1,
   "id": "2770ac5c",
   "metadata": {
    "language_info": {
     "name": "polyglot-notebook"
    },
    "polyglot_notebook": {
     "kernelName": "csharp"
    }
   },
   "outputs": [
    {
     "data": {
      "text/html": [
       "<div><div></div><div></div><div><strong>Installed Packages</strong><ul><li><span>Microsoft.Extensions.AI, 9.9.1</span></li></ul></div></div>"
      ]
     },
     "metadata": {},
     "output_type": "display_data"
    }
   ],
   "source": [
    "#r \"nuget: Microsoft.Extensions.AI, 9.9.1\""
   ]
  },
  {
   "cell_type": "code",
   "execution_count": null,
   "id": "984ff6cd",
   "metadata": {
    "language_info": {
     "name": "polyglot-notebook"
    },
    "polyglot_notebook": {
     "kernelName": "csharp"
    }
   },
   "outputs": [
    {
     "data": {
      "text/html": [
       "<div><div></div><div></div><div><strong>Installed Packages</strong><ul><li><span>Microsoft.Agents.AI.OpenAI, 1.0.0-preview.251001.2</span></li></ul></div></div>"
      ]
     },
     "metadata": {},
     "output_type": "display_data"
    }
   ],
   "source": [
    "#r \"nuget: Microsoft.Agents.AI.OpenAI, 1.0.0-preview.251001.3\""
   ]
  },
  {
   "cell_type": "code",
   "execution_count": null,
   "id": "0ab71360",
   "metadata": {
    "language_info": {
     "name": "polyglot-notebook"
    },
    "polyglot_notebook": {
     "kernelName": "csharp"
    }
   },
   "outputs": [
    {
     "data": {
      "text/html": [
       "<div><div></div><div></div><div><strong>Installed Packages</strong><ul><li><span>microsoft.agents.ai, 1.0.0-preview.251001.2</span></li></ul></div></div>"
      ]
     },
     "metadata": {},
     "output_type": "display_data"
    }
   ],
   "source": [
    "#r \"nuget: Microsoft.Agents.AI, 1.0.0-preview.251001.3\""
   ]
  },
  {
   "cell_type": "code",
   "execution_count": 4,
   "id": "4ab7b15d",
   "metadata": {
    "language_info": {
     "name": "polyglot-notebook"
    },
    "polyglot_notebook": {
     "kernelName": "csharp"
    }
   },
   "outputs": [],
   "source": [
    "// #r \"nuget: Microsoft.Extensions.AI.OpenAI, 9.9.0-preview.1.25458.4\""
   ]
  },
  {
   "cell_type": "code",
   "execution_count": 5,
   "id": "3fa8aa21",
   "metadata": {
    "language_info": {
     "name": "polyglot-notebook"
    },
    "polyglot_notebook": {
     "kernelName": "csharp"
    }
   },
   "outputs": [
    {
     "data": {
      "text/html": [
       "<div><div></div><div></div><div><strong>Installed Packages</strong><ul><li><span>DotNetEnv, 3.1.1</span></li></ul></div></div>"
      ]
     },
     "metadata": {},
     "output_type": "display_data"
    }
   ],
   "source": [
    "#r \"nuget: DotNetEnv, 3.1.1\""
   ]
  },
  {
   "cell_type": "code",
   "execution_count": 6,
   "id": "fc8ee8ea",
   "metadata": {
    "language_info": {
     "name": "polyglot-notebook"
    },
    "polyglot_notebook": {
     "kernelName": "csharp"
    }
   },
   "outputs": [],
   "source": [
    "using System;\n",
    "using System.ComponentModel;\n",
    "using System.ClientModel;\n",
    "\n",
    "using Microsoft.Extensions.AI;\n",
    "using Microsoft.Agents.AI;\n",
    "using OpenAI;"
   ]
  },
  {
   "cell_type": "code",
   "execution_count": 7,
   "id": "699b1c83",
   "metadata": {
    "language_info": {
     "name": "polyglot-notebook"
    },
    "polyglot_notebook": {
     "kernelName": "csharp"
    }
   },
   "outputs": [],
   "source": [
    " using DotNetEnv;"
   ]
  },
  {
   "cell_type": "code",
   "execution_count": 8,
   "id": "daa649a0",
   "metadata": {
    "language_info": {
     "name": "polyglot-notebook"
    },
    "polyglot_notebook": {
     "kernelName": "csharp"
    }
   },
   "outputs": [],
   "source": [
    "Env.Load(\"../../../.env\");"
   ]
  },
  {
   "cell_type": "code",
   "execution_count": 9,
   "id": "29661a90",
   "metadata": {
    "language_info": {
     "name": "polyglot-notebook"
    },
    "polyglot_notebook": {
     "kernelName": "csharp"
    }
   },
   "outputs": [],
   "source": [
    "[Description(\"Provides a random vacation destination.\")]\n",
    "static string GetRandomDestination()\n",
    "{\n",
    "    var destinations = new List<string>\n",
    "    {\n",
    "        \"Paris, France\",\n",
    "        \"Tokyo, Japan\",\n",
    "        \"New York City, USA\",\n",
    "        \"Sydney, Australia\",\n",
    "        \"Rome, Italy\",\n",
    "        \"Barcelona, Spain\",\n",
    "        \"Cape Town, South Africa\",\n",
    "        \"Rio de Janeiro, Brazil\",\n",
    "        \"Bangkok, Thailand\",\n",
    "        \"Vancouver, Canada\"\n",
    "    };\n",
    "\n",
    "    var random = new Random();\n",
    "    int index = random.Next(destinations.Count);\n",
    "    return destinations[index];\n",
    "}"
   ]
  },
  {
   "cell_type": "code",
   "execution_count": 10,
   "id": "d2ed1f8b",
   "metadata": {
    "language_info": {
     "name": "polyglot-notebook"
    },
    "polyglot_notebook": {
     "kernelName": "csharp"
    }
   },
   "outputs": [],
   "source": [
    "var github_endpoint = Environment.GetEnvironmentVariable(\"GITHUB_ENDPOINT\") ?? throw new InvalidOperationException(\"GITHUB_ENDPOINT is not set.\");\n",
    "var github_model_id = Environment.GetEnvironmentVariable(\"GITHUB_MODEL_ID\") ?? \"gpt-4o-mini\";\n",
    "var github_token = Environment.GetEnvironmentVariable(\"GITHUB_TOKEN\") ?? throw new InvalidOperationException(\"GITHUB_TOKEN is not set.\");"
   ]
  },
  {
   "cell_type": "code",
   "execution_count": 11,
   "id": "c36c73e1",
   "metadata": {
    "language_info": {
     "name": "polyglot-notebook"
    },
    "polyglot_notebook": {
     "kernelName": "csharp"
    }
   },
   "outputs": [],
   "source": [
    "var openAIOptions = new OpenAIClientOptions()\n",
    "{\n",
    "    Endpoint= new Uri(github_endpoint)\n",
    "};"
   ]
  },
  {
   "cell_type": "code",
   "execution_count": 12,
   "id": "6d94ff10",
   "metadata": {
    "language_info": {
     "name": "polyglot-notebook"
    },
    "polyglot_notebook": {
     "kernelName": "csharp"
    }
   },
   "outputs": [],
   "source": [
    "\n",
    "var openAIClient = new OpenAIClient(new ApiKeyCredential(github_token), openAIOptions);"
   ]
  },
  {
   "cell_type": "code",
   "execution_count": 13,
   "id": "fe32b57a",
   "metadata": {
    "language_info": {
     "name": "polyglot-notebook"
    },
    "polyglot_notebook": {
     "kernelName": "csharp"
    }
   },
   "outputs": [],
   "source": [
    "AIAgent agent = new OpenAIClient(new ApiKeyCredential(github_token), openAIOptions).GetChatClient(github_model_id).CreateAIAgent(\n",
    "    instructions:\"You are a helpful AI Agent that can help plan vacations for customers at random destinations\", tools: [AIFunctionFactory.Create((Func<string>)GetRandomDestination)]);"
   ]
  },
  {
   "cell_type": "code",
   "execution_count": 14,
   "metadata": {
    "language_info": {
     "name": "polyglot-notebook"
    },
    "polyglot_notebook": {
     "kernelName": "csharp"
    }
   },
   "outputs": [],
   "source": [
    "AgentThread thread = agent.GetNewThread();"
   ]
  },
  {
   "cell_type": "code",
   "execution_count": 15,
   "id": "5e455aff",
   "metadata": {
    "language_info": {
     "name": "polyglot-notebook"
    },
    "polyglot_notebook": {
     "kernelName": "csharp"
    }
   },
   "outputs": [
    {
     "name": "stdout",
     "output_type": "stream",
     "text": [
      "Your day trip will be in Paris, France! Here's a proposed itinerary for your day:\n",
      "\n",
      "### Morning\n",
      "- **Breakfast at a Local Café**: Start your day with a traditional French breakfast. Try a croissant and café au lait at a local café.\n",
      "- **Visit the Eiffel Tower**: Arrive early to beat the crowds. Enjoy the stunning views of the city from the top.\n",
      "\n",
      "### Late Morning\n",
      "- **Stroll Along the Seine**: Take a leisurely walk along the Seine River and enjoy the picturesque views.\n",
      "- **Visit Notre-Dame Cathedral**: Explore this iconic Gothic cathedral and its stunning architecture.\n",
      "\n",
      "### Lunch\n",
      "- **Lunch at a Bistro**: Treat yourself to a classic French lunch at a nearby bistro. Consider trying coq au vin or a delicious quiche.\n",
      "\n",
      "### Afternoon\n",
      "- **Explore the Louvre**: Spend your afternoon at the Louvre Museum. While you may not see everything, be sure to check out the Mona Lisa and other famous artworks.\n",
      "- **Walk Through the Tuileries Garden**: After the museum, relax in the beautiful Tuileries Garden.\n",
      "\n",
      "### Evening\n",
      "- **Dinner in Montmartre**: Head to Montmartre for dinner. Enjoy the atmosphere, and consider trying some French specialties at a local restaurant.\n",
      "- **Visit Sacré-Cœur Basilica**: After dinner, walk up to the Basilica for a stunning view of Paris at sunset.\n",
      "\n",
      "### Night\n",
      "- **Seine River Cruise**: End your day with a relaxing cruise on the Seine River, taking in the beautifully illuminated city sights.\n",
      "\n",
      "Make sure to check the opening hours of attractions and make reservations where necessary. Enjoy your day trip in Paris!\r\n"
     ]
    }
   ],
   "source": [
    "Console.WriteLine(await agent.RunAsync(\"Plan me a day trip\",thread));"
   ]
  },
  {
   "cell_type": "code",
   "execution_count": 16,
   "id": "592ae1bb",
   "metadata": {
    "language_info": {
     "name": "polyglot-notebook"
    },
    "polyglot_notebook": {
     "kernelName": "csharp"
    }
   },
   "outputs": [
    {
     "name": "stdout",
     "output_type": "stream",
     "text": [
      "Your new vacation destination is Rio de Janeiro, Brazil! Here's a proposed itinerary for your trip:\n",
      "\n",
      "### Day 1: Arrival in Rio\n",
      "- **Check-in**: Arrive and settle into your accommodation.\n",
      "- **Evening at Copacabana Beach**: Stroll along the famous Copacabana Beach. Enjoy the vibrant atmosphere and watch the sunset.\n",
      "\n",
      "### Day 2: Exploring the City\n",
      "- **Visit Christ the Redeemer**: Start your day with a visit to the iconic Christ the Redeemer statue. Take the train up to the top for breathtaking views.\n",
      "- **Explore Santa Teresa**: Wander through the charming streets of Santa Teresa, known for its colonial-style houses, art studios, and local shops.\n",
      "- **Lunch at a Local Restaurant**: Enjoy traditional Brazilian cuisine, such as feijoada (black bean stew).\n",
      "- **Afternoon at Sugarloaf Mountain**: Take a cable car ride to Sugarloaf Mountain for panoramic views of the city and coastline.\n",
      "\n",
      "### Day 3: Cultural Experience\n",
      "- **Visit the Selarón Steps**: Walk up the colorful Selarón Steps, an iconic mosaic staircase.\n",
      "- **Museum Visit**: Explore the Museum of Tomorrow (Museu do Amanhã) or the National Museum of Fine Arts.\n",
      "- **Lunch at a Churrascaria** (Brazilian BBQ): Treat yourself to a delicious barbecue lunch at a local churrascaria.\n",
      "- **Explore the Markets**: Check out a local market for souvenirs and to experience the local culture.\n",
      "\n",
      "### Day 4: Outdoor Adventures\n",
      "- **Hiking in Tijuca National Park**: Spend a day hiking in Tijuca National Park, one of the largest urban rainforests in the world. Enjoy the lush greenery and waterfalls.\n",
      "- **Dinner at a Beachfront Restaurant**: End your day with a delicious dinner at a beachfront restaurant with fresh seafood.\n",
      "\n",
      "### Day 5: Relaxation and Departure\n",
      "- **Relax at Ipanema Beach**: Spend your last morning relaxing at Ipanema Beach, soaking up the sun.\n",
      "- **Last-minute Shopping**: Do some last-minute shopping at local boutiques.\n",
      "- **Departure**: Head to the airport for your flight home.\n",
      "\n",
      "Make sure to enjoy the vibrant culture, beautiful landscapes, and amazing food that Rio de Janeiro has to offer!\r\n"
     ]
    }
   ],
   "source": [
    "Console.WriteLine(await agent.RunAsync(\"I don't like that destination. Plan me another vacation.\",thread));"
   ]
  },
  {
   "cell_type": "markdown",
   "metadata": {},
   "source": [
    "\n---\n\n**Отказ от отговорност**:  \nТози документ е преведен с помощта на AI услуга за превод [Co-op Translator](https://github.com/Azure/co-op-translator). Въпреки че се стремим към точност, моля, имайте предвид, че автоматичните преводи може да съдържат грешки или неточности. Оригиналният документ на неговия изходен език трябва да се счита за авторитетен източник. За критична информация се препоръчва професионален превод от човек. Ние не носим отговорност за каквито и да било недоразумения или погрешни интерпретации, произтичащи от използването на този превод.\n"
   ]
  }
 ],
 "metadata": {
  "kernelspec": {
   "display_name": ".NET (C#)",
   "language": "C#",
   "name": ".net-csharp"
  },
  "language_info": {
   "name": "polyglot-notebook"
  },
  "polyglot_notebook": {
   "kernelInfo": {
    "defaultKernelName": "csharp",
    "items": [
     {
      "aliases": [],
      "name": "csharp"
     }
    ]
   }
  },
  "coopTranslator": {
   "original_hash": "4afb07fc78332203123745f403bbc314",
   "translation_date": "2025-10-02T08:28:01+00:00",
   "source_file": "04-tool-use/code_samples/04-dotnet-agent-framework.ipynb",
   "language_code": "bg"
  }
 },
 "nbformat": 4,
 "nbformat_minor": 5
}