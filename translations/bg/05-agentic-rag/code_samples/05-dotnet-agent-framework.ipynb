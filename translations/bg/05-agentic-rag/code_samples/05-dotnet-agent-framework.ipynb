{
 "cells": [
  {
   "cell_type": "markdown",
   "id": "44b5899e",
   "metadata": {},
   "source": [
    "# 🔍 Enterprise RAG с Azure AI Foundry (.NET)\n",
    "\n",
    "## 📋 Цели на обучението\n",
    "\n",
    "Тази тетрадка демонстрира как да изградите системи за извличане с допълнително генериране (RAG) на корпоративно ниво, използвайки Microsoft Agent Framework в .NET с Azure AI Foundry. Ще научите как да създавате агенти, готови за производство, които могат да търсят в документи и да предоставят точни, контекстуално осведомени отговори с корпоративна сигурност и мащабируемост.\n",
    "\n",
    "**Възможности на Enterprise RAG, които ще изградите:**\n",
    "- 📚 **Интелигентност на документи**: Разширена обработка на документи с Azure AI услуги\n",
    "- 🔍 **Семантично търсене**: Високопроизводително векторно търсене с корпоративни функции\n",
    "- 🛡️ **Интеграция на сигурността**: Ролева достъпност и модели за защита на данни\n",
    "- 🏢 **Мащабируема архитектура**: RAG системи, готови за производство, с мониторинг\n",
    "\n",
    "## 🎯 Архитектура на Enterprise RAG\n",
    "\n",
    "### Основни корпоративни компоненти\n",
    "- **Azure AI Foundry**: Управлявана корпоративна AI платформа със сигурност и съответствие\n",
    "- **Постоянни агенти**: Агенти с история на разговорите и управление на контекста\n",
    "- **Управление на векторни хранилища**: Индексиране и извличане на документи на корпоративно ниво\n",
    "- **Интеграция на идентичност**: Автентикация с Azure AD и контрол на достъпа на базата на роли\n",
    "\n",
    "### Предимства на .NET за корпоративни приложения\n",
    "- **Типова безопасност**: Валидация по време на компилация за операции и структури на данни в RAG\n",
    "- **Асинхронна производителност**: Неблокираща обработка на документи и операции за търсене\n",
    "- **Управление на паметта**: Ефективно използване на ресурси за големи колекции от документи\n",
    "- **Модели за интеграция**: Нативна интеграция с Azure услуги чрез dependency injection\n",
    "\n",
    "## 🏗️ Техническа архитектура\n",
    "\n",
    "### Enterprise RAG Pipeline\n",
    "```csharp\n",
    "Document Upload → Security Validation → Vector Processing → Index Creation\n",
    "                      ↓                    ↓                  ↓\n",
    "User Query → Authentication → Semantic Search → Context Ranking → AI Response\n",
    "```\n",
    "\n",
    "### Основни .NET компоненти\n",
    "- **Azure.AI.Agents.Persistent**: Управление на корпоративни агенти с постоянство на състоянието\n",
    "- **Azure.Identity**: Интегрирана автентикация за сигурен достъп до Azure услуги\n",
    "- **Microsoft.Agents.AI.AzureAI**: Оптимизирана за Azure рамка за агенти\n",
    "- **System.Linq.Async**: Високопроизводителни асинхронни LINQ операции\n",
    "\n",
    "## 🔧 Корпоративни функции и предимства\n",
    "\n",
    "### Сигурност и съответствие\n",
    "- **Интеграция с Azure AD**: Управление на корпоративна идентичност и автентикация\n",
    "- **Контрол на достъпа на базата на роли**: Прецизни разрешения за достъп до документи и операции\n",
    "- **Защита на данни**: Шифроване при съхранение и пренос за чувствителни документи\n",
    "- **Логове за одит**: Подробно проследяване на активността за изисквания за съответствие\n",
    "\n",
    "### Производителност и мащабируемост\n",
    "- **Управление на връзките**: Ефективно управление на връзките с Azure услуги\n",
    "- **Асинхронна обработка**: Неблокиращи операции за сценарии с висока пропускателна способност\n",
    "- **Стратегии за кеширане**: Интелигентно кеширане за често достъпвани документи\n",
    "- **Баланс на натоварването**: Разпределена обработка за мащабни внедрения\n",
    "\n",
    "### Управление и мониторинг\n",
    "- **Проверки на здравето**: Вграден мониторинг на компонентите на RAG системата\n",
    "- **Метрики за производителност**: Подробна аналитика за качеството на търсене и времето за отговор\n",
    "- **Управление на грешки**: Комплексно управление на изключения с политики за повторение\n",
    "- **Управление на конфигурацията**: Настройки, специфични за средата, с валидация\n",
    "\n",
    "## ⚙️ Предварителни условия и настройка\n",
    "\n",
    "**Среда за разработка:**\n",
    "- .NET 9.0 SDK или по-нова версия\n",
    "- Visual Studio 2022 или VS Code с разширение за C#\n",
    "- Абонамент за Azure с достъп до AI Foundry\n",
    "\n",
    "**Необходими NuGet пакети:**\n",
    "```xml\n",
    "<PackageReference Include=\"Microsoft.Extensions.AI\" Version=\"9.9.0\" />\n",
    "<PackageReference Include=\"Azure.AI.Agents.Persistent\" Version=\"1.2.0-beta.5\" />\n",
    "<PackageReference Include=\"Azure.Identity\" Version=\"1.15.0\" />\n",
    "<PackageReference Include=\"System.Linq.Async\" Version=\"6.0.3\" />\n",
    "<PackageReference Include=\"DotNetEnv\" Version=\"3.1.1\" />\n",
    "```\n",
    "\n",
    "**Настройка на автентикация в Azure:**\n",
    "```bash\n",
    "# Install Azure CLI and authenticate\n",
    "az login\n",
    "az account set --subscription \"your-subscription-id\"\n",
    "```\n",
    "\n",
    "**Конфигурация на средата (.env файл):**\n",
    "```env\n",
    "# Azure AI Foundry configuration (automatically handled via Azure CLI)\n",
    "# Ensure you're authenticated to the correct Azure subscription\n",
    "```\n",
    "\n",
    "## 📊 Модели на Enterprise RAG\n",
    "\n",
    "### Модели за управление на документи\n",
    "- **Масово качване**: Ефективна обработка на големи колекции от документи\n",
    "- **Инкрементални актуализации**: Добавяне и модификация на документи в реално време\n",
    "- **Контрол на версиите**: Версиониране на документи и проследяване на промените\n",
    "- **Управление на метаданни**: Богати атрибути и таксономия на документи\n",
    "\n",
    "### Модели за търсене и извличане\n",
    "- **Хибридно търсене**: Комбиниране на семантично и ключово търсене за оптимални резултати\n",
    "- **Фасетно търсене**: Многомерно филтриране и категоризация\n",
    "- **Настройка на релевантността**: Персонализирани алгоритми за оценка за специфични домейни\n",
    "- **Ранжиране на резултати**: Разширено ранжиране с интеграция на бизнес логика\n",
    "\n",
    "### Модели за сигурност\n",
    "- **Сигурност на ниво документ**: Прецизен контрол на достъпа за всеки документ\n",
    "- **Класификация на данни**: Автоматично етикетиране на чувствителност и защита\n",
    "- **Одитни следи**: Подробно логване на всички операции в RAG\n",
    "- **Защита на личните данни**: Откриване и редактиране на PII\n",
    "\n",
    "## 🔒 Корпоративни функции за сигурност\n",
    "\n",
    "### Автентикация и авторизация\n",
    "```csharp\n",
    "// Azure AD integrated authentication\n",
    "var credential = new AzureCliCredential();\n",
    "var agentsClient = new PersistentAgentsClient(endpoint, credential);\n",
    "\n",
    "// Role-based access validation\n",
    "if (!await ValidateUserPermissions(user, documentId))\n",
    "{\n",
    "    throw new UnauthorizedAccessException(\"Insufficient permissions\");\n",
    "}\n",
    "```\n",
    "\n",
    "### Защита на данни\n",
    "- **Шифроване**: Крайно шифроване за документи и индекси за търсене\n",
    "- **Контроли за достъп**: Интеграция с Azure AD за разрешения на потребители и групи\n",
    "- **Местоположение на данни**: Географски контрол на местоположението на данни за съответствие\n",
    "- **Резервно копиране и възстановяване**: Автоматизирани процедури за резервно копиране и възстановяване при бедствия\n",
    "\n",
    "## 📈 Оптимизация на производителността\n",
    "\n",
    "### Модели за асинхронна обработка\n",
    "```csharp\n",
    "// Efficient async document processing\n",
    "await foreach (var document in documentStream.AsAsyncEnumerable())\n",
    "{\n",
    "    await ProcessDocumentAsync(document, cancellationToken);\n",
    "}\n",
    "```\n",
    "\n",
    "### Управление на паметта\n",
    "- **Потокова обработка**: Обработка на големи документи без проблеми с паметта\n",
    "- **Управление на ресурси**: Ефективно повторно използване на скъпи ресурси\n",
    "- **Събиране на боклук**: Оптимизирани модели за разпределение на паметта\n",
    "- **Управление на връзките**: Правилен жизнен цикъл на връзките с Azure услуги\n",
    "\n",
    "### Стратегии за кеширане\n",
    "- **Кеширане на заявки**: Кеширане на често изпълнявани търсения\n",
    "- **Кеширане на документи**: Кеширане в паметта за \"горещи\" документи\n",
    "- **Кеширане на индекси**: Оптимизирано кеширане на векторни индекси\n",
    "- **Кеширане на резултати**: Интелигентно кеширане на генерирани отговори\n",
    "\n",
    "## 📊 Корпоративни случаи на употреба\n",
    "\n",
    "### Управление на знания\n",
    "- **Корпоративна уики**: Интелигентно търсене в бази от знания на компанията\n",
    "- **Политики и процедури**: Автоматизирано ръководство за съответствие и процедури\n",
    "- **Учебни материали**: Интелигентна помощ за обучение и развитие\n",
    "- **Изследователски бази данни**: Системи за анализ на академични и изследователски документи\n",
    "\n",
    "### Обслужване на клиенти\n",
    "- **База знания за поддръжка**: Автоматизирани отговори за обслужване на клиенти\n",
    "- **Документация за продукти**: Интелигентно извличане на информация за продукти\n",
    "- **Ръководства за отстраняване на проблеми**: Контекстуална помощ за решаване на проблеми\n",
    "- **Системи за често задавани въпроси**: Динамично генериране на FAQ от колекции документи\n",
    "\n",
    "### Съответствие с регулации\n",
    "- **Анализ на правни документи**: Интелигентност за договори и правни документи\n",
    "- **Мониторинг на съответствието**: Автоматизирана проверка за регулаторно съответствие\n",
    "- **Оценка на риска**: Анализ и докладване на рискове, базирани на документи\n",
    "- **Поддръжка за одит**: Интелигентно откриване на документи за одити\n",
    "\n",
    "## 🚀 Внедряване в производство\n",
    "\n",
    "### Мониторинг и наблюдение\n",
    "- **Application Insights**: Подробен мониторинг на телеметрията и производителността\n",
    "- **Персонализирани метрики**: Проследяване и предупреждения за специфични KPI на бизнеса\n",
    "- **Разпределено проследяване**: Проследяване на заявки от край до край между услуги\n",
    "- **Табла за здраве**: Визуализация в реално време на здравето и производителността на системата\n",
    "\n",
    "### Мащабируемост и надеждност\n",
    "- **Автоматично мащабиране**: Автоматично мащабиране според натоварването и метриките за производителност\n",
    "- **Висока наличност**: Мултирегионално внедряване с възможности за превключване при отказ\n",
    "- **Тестове за натоварване**: Валидация на производителността при корпоративно натоварване\n",
    "- **Възстановяване при бедствия**: Автоматизирани процедури за резервно копиране и възстановяване\n",
    "\n",
    "Готови ли сте да изградите RAG системи на корпоративно ниво, които могат да обработват чувствителни документи в мащаб? Нека архитектурираме интелигентни системи за знания за бизнеса! 🏢📖✨\n"
   ]
  },
  {
   "cell_type": "code",
   "execution_count": 1,
   "metadata": {
    "language_info": {
     "name": "polyglot-notebook"
    },
    "polyglot_notebook": {
     "kernelName": "csharp"
    }
   },
   "outputs": [
    {
     "data": {
      "text/html": [
       "<div><div></div><div></div><div><strong>Installed Packages</strong><ul><li><span>Microsoft.Extensions.AI, 9.9.1</span></li></ul></div></div>"
      ]
     },
     "metadata": {},
     "output_type": "display_data"
    }
   ],
   "source": [
    "#r \"nuget: Microsoft.Extensions.AI, 9.9.1\""
   ]
  },
  {
   "cell_type": "code",
   "execution_count": 2,
   "id": "4ec1f0d1",
   "metadata": {
    "language_info": {
     "name": "polyglot-notebook"
    },
    "polyglot_notebook": {
     "kernelName": "csharp"
    }
   },
   "outputs": [
    {
     "data": {
      "text/html": [
       "<div><div></div><div></div><div><strong>Installed Packages</strong><ul><li><span>Azure.AI.Agents.Persistent, 1.2.0-beta.5</span></li><li><span>Azure.Identity, 1.15.0</span></li><li><span>System.Linq.Async, 6.0.3</span></li></ul></div></div>"
      ]
     },
     "metadata": {},
     "output_type": "display_data"
    }
   ],
   "source": [
    "#r \"nuget: Azure.AI.Agents.Persistent, 1.2.0-beta.5\"\n",
    "#r \"nuget: Azure.Identity, 1.15.0\"\n",
    "#r \"nuget: System.Linq.Async, 6.0.3\""
   ]
  },
  {
   "cell_type": "code",
   "execution_count": 3,
   "id": "2363ae07",
   "metadata": {
    "language_info": {
     "name": "polyglot-notebook"
    },
    "polyglot_notebook": {
     "kernelName": "csharp"
    }
   },
   "outputs": [],
   "source": []
  },
  {
   "cell_type": "code",
   "execution_count": null,
   "id": "d10cec9d",
   "metadata": {
    "language_info": {
     "name": "polyglot-notebook"
    },
    "polyglot_notebook": {
     "kernelName": "csharp"
    }
   },
   "outputs": [
    {
     "data": {
      "text/html": [
       "<div><div></div><div></div><div><strong>Installed Packages</strong><ul><li><span>Microsoft.Agents.AI.AzureAI, 1.0.0-preview.251001.2</span></li></ul></div></div>"
      ]
     },
     "metadata": {},
     "output_type": "display_data"
    }
   ],
   "source": [
    "#r \"nuget: Microsoft.Agents.AI.AzureAI, 1.0.0-preview.251001.3\""
   ]
  },
  {
   "cell_type": "code",
   "execution_count": null,
   "id": "78199d1c",
   "metadata": {
    "language_info": {
     "name": "polyglot-notebook"
    },
    "polyglot_notebook": {
     "kernelName": "csharp"
    }
   },
   "outputs": [
    {
     "data": {
      "text/html": [
       "<div><div></div><div></div><div><strong>Installed Packages</strong><ul><li><span>microsoft.agents.ai, 1.0.0-preview.251001.2</span></li></ul></div></div>"
      ]
     },
     "metadata": {},
     "output_type": "display_data"
    }
   ],
   "source": [
    "#r \"nuget: Microsoft.Agents.AI, 1.0.0-preview.251001.3\""
   ]
  },
  {
   "cell_type": "code",
   "execution_count": 6,
   "id": "7de4684a",
   "metadata": {
    "language_info": {
     "name": "polyglot-notebook"
    },
    "polyglot_notebook": {
     "kernelName": "csharp"
    }
   },
   "outputs": [
    {
     "data": {
      "text/html": [
       "<div><div></div><div></div><div><strong>Installed Packages</strong><ul><li><span>DotNetEnv, 3.1.1</span></li></ul></div></div>"
      ]
     },
     "metadata": {},
     "output_type": "display_data"
    }
   ],
   "source": [
    "#r \"nuget: DotNetEnv, 3.1.1\""
   ]
  },
  {
   "cell_type": "code",
   "execution_count": 7,
   "id": "251efd31",
   "metadata": {
    "language_info": {
     "name": "polyglot-notebook"
    },
    "polyglot_notebook": {
     "kernelName": "csharp"
    }
   },
   "outputs": [],
   "source": [
    "using System;\n",
    "using System.Linq;\n",
    "using Azure.AI.Agents.Persistent;\n",
    "using Azure.Identity;\n",
    "using Microsoft.Agents.AI;"
   ]
  },
  {
   "cell_type": "code",
   "execution_count": 8,
   "id": "a2e342f1",
   "metadata": {
    "language_info": {
     "name": "polyglot-notebook"
    },
    "polyglot_notebook": {
     "kernelName": "csharp"
    }
   },
   "outputs": [],
   "source": [
    " using DotNetEnv;"
   ]
  },
  {
   "cell_type": "code",
   "execution_count": 9,
   "id": "a7a01653",
   "metadata": {
    "language_info": {
     "name": "polyglot-notebook"
    },
    "polyglot_notebook": {
     "kernelName": "csharp"
    }
   },
   "outputs": [],
   "source": [
    "Env.Load(\"../../../.env\");"
   ]
  },
  {
   "cell_type": "code",
   "execution_count": 10,
   "id": "a42735d5",
   "metadata": {
    "language_info": {
     "name": "polyglot-notebook"
    },
    "polyglot_notebook": {
     "kernelName": "csharp"
    }
   },
   "outputs": [],
   "source": [
    "var azure_foundry_endpoint = Environment.GetEnvironmentVariable(\"AZURE_AI_PROJECT_ENDPOINT\") ?? throw new InvalidOperationException(\"AZURE_AI_PROJECT_ENDPOINT is not set.\");\n",
    "var azure_foundry_model_id = Environment.GetEnvironmentVariable(\"AZURE_AI_MODEL_DEPLOYMENT_NAME\") ?? \"gpt-4.1-mini\";"
   ]
  },
  {
   "cell_type": "code",
   "execution_count": 11,
   "id": "e29bdb58",
   "metadata": {
    "language_info": {
     "name": "polyglot-notebook"
    },
    "polyglot_notebook": {
     "kernelName": "csharp"
    }
   },
   "outputs": [],
   "source": [
    "string pdfPath = \"./document.md\";"
   ]
  },
  {
   "cell_type": "code",
   "execution_count": 12,
   "id": "7351e12d",
   "metadata": {
    "language_info": {
     "name": "polyglot-notebook"
    },
    "polyglot_notebook": {
     "kernelName": "csharp"
    }
   },
   "outputs": [],
   "source": [
    "using System.IO;\n",
    "\n",
    "async Task<Stream> OpenImageStreamAsync(string path)\n",
    "{\n",
    "\treturn await Task.Run(() => File.OpenRead(path));\n",
    "}\n",
    "\n",
    "var pdfStream = await OpenImageStreamAsync(pdfPath);"
   ]
  },
  {
   "cell_type": "code",
   "execution_count": 13,
   "id": "0b6bf484",
   "metadata": {
    "language_info": {
     "name": "polyglot-notebook"
    },
    "polyglot_notebook": {
     "kernelName": "csharp"
    }
   },
   "outputs": [],
   "source": [
    "var persistentAgentsClient = new PersistentAgentsClient(azure_foundry_endpoint, new AzureCliCredential());"
   ]
  },
  {
   "cell_type": "code",
   "execution_count": 14,
   "id": "81e0dddc",
   "metadata": {
    "language_info": {
     "name": "polyglot-notebook"
    },
    "polyglot_notebook": {
     "kernelName": "csharp"
    }
   },
   "outputs": [],
   "source": [
    "PersistentAgentFileInfo fileInfo = await persistentAgentsClient.Files.UploadFileAsync(pdfStream, PersistentAgentFilePurpose.Agents, \"demo.md\");"
   ]
  },
  {
   "cell_type": "code",
   "execution_count": 15,
   "id": "f0c75d80",
   "metadata": {
    "language_info": {
     "name": "polyglot-notebook"
    },
    "polyglot_notebook": {
     "kernelName": "csharp"
    }
   },
   "outputs": [],
   "source": [
    "PersistentAgentsVectorStore fileStore =\n",
    "            await persistentAgentsClient.VectorStores.CreateVectorStoreAsync(\n",
    "                [fileInfo.Id],\n",
    "                metadata: new Dictionary<string, string>() { { \"agentkey\", bool.TrueString } });"
   ]
  },
  {
   "cell_type": "code",
   "execution_count": 16,
   "id": "c77986c5",
   "metadata": {
    "language_info": {
     "name": "polyglot-notebook"
    },
    "polyglot_notebook": {
     "kernelName": "csharp"
    }
   },
   "outputs": [],
   "source": [
    "PersistentAgent agentModel = await persistentAgentsClient.Administration.CreateAgentAsync(\n",
    "            azure_foundry_model_id,\n",
    "            name: \"DotNetRAGAgent\",\n",
    "            tools: [new FileSearchToolDefinition()],\n",
    "            instructions: \"\"\"\n",
    "                You are an AI assistant designed to answer user questions using only the information retrieved from the provided document(s).\n",
    "\n",
    "                - If a user's question cannot be answered using the retrieved context, **you must clearly respond**: \n",
    "                \"I'm sorry, but the uploaded document does not contain the necessary information to answer that question.\"\n",
    "                - Do not answer from general knowledge or reasoning. Do not make assumptions or generate hypothetical explanations.\n",
    "                - Do not provide definitions, tutorials, or commentary that is not explicitly grounded in the content of the uploaded file(s).\n",
    "                - If a user asks a question like \"What is a Neural Network?\", and this is not discussed in the uploaded document, respond as instructed above.\n",
    "                - For questions that do have relevant content in the document (e.g., Contoso's travel insurance coverage), respond accurately, and cite the document explicitly.\n",
    "\n",
    "                You must behave as if you have no external knowledge beyond what is retrieved from the uploaded document.\n",
    "                \"\"\",\n",
    "            toolResources: new()\n",
    "            {\n",
    "                FileSearch = new()\n",
    "                {\n",
    "                    VectorStoreIds = { fileStore.Id },\n",
    "                }\n",
    "            },\n",
    "            metadata: new Dictionary<string, string>() { { \"agentkey\", bool.TrueString } });"
   ]
  },
  {
   "cell_type": "code",
   "execution_count": 17,
   "id": "282326cf",
   "metadata": {
    "language_info": {
     "name": "polyglot-notebook"
    },
    "polyglot_notebook": {
     "kernelName": "csharp"
    }
   },
   "outputs": [],
   "source": [
    "AIAgent agent = await persistentAgentsClient.GetAIAgentAsync(agentModel.Id);"
   ]
  },
  {
   "cell_type": "code",
   "execution_count": 18,
   "id": "2067d313",
   "metadata": {
    "language_info": {
     "name": "polyglot-notebook"
    },
    "polyglot_notebook": {
     "kernelName": "csharp"
    }
   },
   "outputs": [],
   "source": [
    "AgentThread thread = agent.GetNewThread();"
   ]
  },
  {
   "cell_type": "code",
   "execution_count": 19,
   "id": "454c4230",
   "metadata": {
    "language_info": {
     "name": "polyglot-notebook"
    },
    "polyglot_notebook": {
     "kernelName": "csharp"
    }
   },
   "outputs": [
    {
     "name": "stdout",
     "output_type": "stream",
     "text": [
      "Contoso's travel insurance coverage includes protection for medical emergencies, trip cancellations, and lost baggage. This ensures that travelers are supported in case of health-related issues during their trip, unforeseen cancellations, and the loss of their belongings while traveling【4:0†demo.md】.\r\n"
     ]
    }
   ],
   "source": [
    "Console.WriteLine(await agent.RunAsync(\"Can you explain Contoso's travel insurance coverage?\", thread));"
   ]
  },
  {
   "cell_type": "markdown",
   "metadata": {},
   "source": [
    "\n---\n\n**Отказ от отговорност**:  \nТози документ е преведен с помощта на AI услуга за превод [Co-op Translator](https://github.com/Azure/co-op-translator). Въпреки че се стремим към точност, моля, имайте предвид, че автоматизираните преводи може да съдържат грешки или неточности. Оригиналният документ на неговия изходен език трябва да се счита за авторитетен източник. За критична информация се препоръчва професионален човешки превод. Не носим отговорност за каквито и да е недоразумения или погрешни интерпретации, произтичащи от използването на този превод.\n"
   ]
  }
 ],
 "metadata": {
  "kernelspec": {
   "display_name": ".NET (C#)",
   "language": "C#",
   "name": ".net-csharp"
  },
  "language_info": {
   "name": "polyglot-notebook"
  },
  "polyglot_notebook": {
   "kernelInfo": {
    "defaultKernelName": "csharp",
    "items": [
     {
      "aliases": [],
      "name": "csharp"
     }
    ]
   }
  },
  "coopTranslator": {
   "original_hash": "e4584fa31638009dc6fb665275de8fc2",
   "translation_date": "2025-10-02T08:15:38+00:00",
   "source_file": "05-agentic-rag/code_samples/05-dotnet-agent-framework.ipynb",
   "language_code": "bg"
  }
 },
 "nbformat": 4,
 "nbformat_minor": 5
}