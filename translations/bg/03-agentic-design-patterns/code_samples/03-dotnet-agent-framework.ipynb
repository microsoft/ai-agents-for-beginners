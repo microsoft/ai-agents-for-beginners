{
 "cells": [
  {
   "cell_type": "markdown",
   "id": "d6058fa4",
   "metadata": {},
   "source": [
    "# 🎨 Агентски дизайнерски шаблони с GitHub модели (.NET)\n",
    "\n",
    "## 📋 Цели на обучението\n",
    "\n",
    "Тази тетрадка демонстрира дизайнерски шаблони на корпоративно ниво за изграждане на интелигентни агенти, използвайки Microsoft Agent Framework в .NET с интеграция на GitHub модели. Ще научите професионални шаблони и архитектурни подходи, които правят агентите готови за производство, лесни за поддръжка и мащабируеми.\n",
    "\n",
    "**Корпоративни дизайнерски шаблони:**\n",
    "- 🏭 **Шаблон \"Фабрика\"**: Стандартизирано създаване на агенти с внедряване на зависимости\n",
    "- 🔧 **Шаблон \"Строител\"**: Лесна конфигурация и настройка на агенти\n",
    "- 🧵 **Шаблони за безопасност на нишките**: Управление на разговори в конкурентна среда\n",
    "- 📋 **Шаблон \"Репозитори\"**: Организирано управление на инструменти и възможности\n",
    "\n",
    "## 🎯 Архитектурни предимства на .NET\n",
    "\n",
    "### Корпоративни функции\n",
    "- **Силно типизиране**: Валидация по време на компилация и поддръжка на IntelliSense\n",
    "- **Внедряване на зависимости**: Вградена интеграция на DI контейнер\n",
    "- **Управление на конфигурацията**: IConfiguration и шаблони за опции\n",
    "- **Async/Await**: Първокласна поддръжка за асинхронно програмиране\n",
    "\n",
    "### Шаблони, готови за производство\n",
    "- **Интеграция на логове**: ILogger и поддръжка за структурирано логване\n",
    "- **Проверки на здравето**: Вградени инструменти за мониторинг и диагностика\n",
    "- **Валидация на конфигурацията**: Силно типизиране с анотации на данни\n",
    "- **Управление на грешки**: Структурирано управление на изключения\n",
    "\n",
    "## 🔧 Техническа архитектура\n",
    "\n",
    "### Основни компоненти на .NET\n",
    "- **Microsoft.Extensions.AI**: Унифицирани абстракции за AI услуги\n",
    "- **Microsoft.Agents.AI**: Корпоративна рамка за оркестрация на агенти\n",
    "- **Интеграция на GitHub модели**: Високопроизводителни шаблони за API клиенти\n",
    "- **Система за конфигурация**: appsettings.json и интеграция с околната среда\n",
    "\n",
    "### Имплементация на дизайнерски шаблони\n",
    "```csharp\n",
    "IServiceCollection → Agent Builder → Configuration → Tool Registry → AI Agent\n",
    "```\n",
    "\n",
    "## 🏗️ Демонстрирани корпоративни шаблони\n",
    "\n",
    "### 1. **Шаблони за създаване**\n",
    "- **Фабрика за агенти**: Централизирано създаване на агенти с последователна конфигурация\n",
    "- **Шаблон \"Строител\"**: Лесен API за сложна конфигурация на агенти\n",
    "- **Шаблон \"Сингълтон\"**: Управление на споделени ресурси и конфигурация\n",
    "- **Внедряване на зависимости**: Слабо свързване и възможност за тестване\n",
    "\n",
    "### 2. **Поведенчески шаблони**\n",
    "- **Шаблон \"Стратегия\"**: Заменяеми стратегии за изпълнение на инструменти\n",
    "- **Шаблон \"Команда\"**: Инкапсулирани операции на агенти с undo/redo\n",
    "- **Шаблон \"Наблюдател\"**: Управление на жизнения цикъл на агента, базирано на събития\n",
    "- **Шаблон \"Шаблонен метод\"**: Стандартизирани работни потоци за изпълнение на агенти\n",
    "\n",
    "### 3. **Структурни шаблони**\n",
    "- **Шаблон \"Адаптер\"**: Слой за интеграция на GitHub Models API\n",
    "- **Шаблон \"Декоратор\"**: Подобряване на възможностите на агента\n",
    "- **Шаблон \"Фасада\"**: Опростени интерфейси за взаимодействие с агенти\n",
    "- **Шаблон \"Прокси\"**: Лениво зареждане и кеширане за производителност\n",
    "\n",
    "## ⚙️ Предварителни условия и настройка\n",
    "\n",
    "**Среда за разработка:**\n",
    "- .NET 9.0 SDK или по-нова версия\n",
    "- Visual Studio 2022 или VS Code с разширение за C#\n",
    "- Достъп до GitHub Models API\n",
    "\n",
    "**NuGet зависимости:**\n",
    "```xml\n",
    "<PackageReference Include=\"Microsoft.Extensions.AI\" Version=\"9.9.0\" />\n",
    "<PackageReference Include=\"Microsoft.Extensions.AI.OpenAI\" Version=\"9.9.0-preview.1.25458.4\" />\n",
    "<PackageReference Include=\"DotNetEnv\" Version=\"3.1.1\" />\n",
    "```\n",
    "\n",
    "**Конфигурация (.env файл):**\n",
    "```env\n",
    "GITHUB_TOKEN=your_github_personal_access_token\n",
    "GITHUB_ENDPOINT=https://models.inference.ai.azure.com\n",
    "GITHUB_MODEL_ID=gpt-4o-mini\n",
    "```\n",
    "\n",
    "## 📚 Принципи на дизайна в .NET\n",
    "\n",
    "### SOLID принципи\n",
    "- **Единична отговорност**: Всеки компонент има една ясна цел\n",
    "- **Отворен/Затворен**: Разширяемост без модификация\n",
    "- **Заместимост на Лисков**: Имплементации на инструменти, базирани на интерфейси\n",
    "- **Разделяне на интерфейси**: Фокусирани, сплотени интерфейси\n",
    "- **Инверсия на зависимости**: Зависимост от абстракции, а не от конкретни реализации\n",
    "\n",
    "### Чиста архитектура\n",
    "- **Слой на домейна**: Основни абстракции за агенти и инструменти\n",
    "- **Слой на приложението**: Оркестрация на агенти и работни потоци\n",
    "- **Слой на инфраструктурата**: Интеграция на GitHub модели и външни услуги\n",
    "- **Слой на представянето**: Взаимодействие с потребителя и форматиране на отговори\n",
    "\n",
    "## 🔒 Корпоративни съображения\n",
    "\n",
    "### Сигурност\n",
    "- **Управление на идентификационни данни**: Сигурно обработване на API ключове с IConfiguration\n",
    "- **Валидация на входа**: Силно типизиране и валидация с анотации на данни\n",
    "- **Санитизация на изхода**: Сигурна обработка и филтриране на отговори\n",
    "- **Логване за одит**: Пълно проследяване на операции\n",
    "\n",
    "### Производителност\n",
    "- **Асинхронни шаблони**: Неблокиращи I/O операции\n",
    "- **Пул на връзки**: Ефективно управление на HTTP клиенти\n",
    "- **Кеширане**: Кеширане на отговори за подобрена производителност\n",
    "- **Управление на ресурси**: Правилно освобождаване и модели за почистване\n",
    "\n",
    "### Мащабируемост\n",
    "- **Безопасност на нишките**: Поддръжка за конкурентно изпълнение на агенти\n",
    "- **Пул на ресурси**: Ефективно използване на ресурси\n",
    "- **Управление на натоварването**: Ограничаване на скоростта и обработка на натоварване\n",
    "- **Мониторинг**: Метрики за производителност и проверки на здравето\n",
    "\n",
    "## 🚀 Деплоймент в производство\n",
    "\n",
    "- **Управление на конфигурацията**: Настройки, специфични за средата\n",
    "- **Стратегия за логване**: Структурирано логване с корелационни идентификатори\n",
    "- **Управление на грешки**: Глобално управление на изключения с подходящо възстановяване\n",
    "- **Мониторинг**: Application Insights и броячи за производителност\n",
    "- **Тестване**: Шаблони за модулни тестове, интеграционни тестове и тестове за натоварване\n",
    "\n",
    "Готови ли сте да изградите интелигентни агенти на корпоративно ниво с .NET? Нека създадем нещо стабилно! 🏢✨\n"
   ]
  },
  {
   "cell_type": "code",
   "execution_count": 1,
   "id": "2770ac5c",
   "metadata": {
    "language_info": {
     "name": "polyglot-notebook"
    },
    "polyglot_notebook": {
     "kernelName": "csharp"
    }
   },
   "outputs": [
    {
     "data": {
      "text/html": [
       "<div><div></div><div></div><div><strong>Installed Packages</strong><ul><li><span>Microsoft.Extensions.AI, 9.9.1</span></li></ul></div></div>"
      ]
     },
     "metadata": {},
     "output_type": "display_data"
    }
   ],
   "source": [
    "#r \"nuget: Microsoft.Extensions.AI, 9.9.1\""
   ]
  },
  {
   "cell_type": "code",
   "execution_count": null,
   "id": "984ff6cd",
   "metadata": {
    "language_info": {
     "name": "polyglot-notebook"
    },
    "polyglot_notebook": {
     "kernelName": "csharp"
    }
   },
   "outputs": [
    {
     "data": {
      "text/html": [
       "<div><div></div><div></div><div><strong>Installed Packages</strong><ul><li><span>Microsoft.Agents.AI.OpenAI, 1.0.0-preview.251001.2</span></li></ul></div></div>"
      ]
     },
     "metadata": {},
     "output_type": "display_data"
    }
   ],
   "source": [
    "#r \"nuget: Microsoft.Agents.AI.OpenAI, 1.0.0-preview.251001.3\""
   ]
  },
  {
   "cell_type": "code",
   "execution_count": null,
   "id": "0ab71360",
   "metadata": {
    "language_info": {
     "name": "polyglot-notebook"
    },
    "polyglot_notebook": {
     "kernelName": "csharp"
    }
   },
   "outputs": [
    {
     "data": {
      "text/html": [
       "<div><div></div><div></div><div><strong>Installed Packages</strong><ul><li><span>microsoft.agents.ai, 1.0.0-preview.251001.2</span></li></ul></div></div>"
      ]
     },
     "metadata": {},
     "output_type": "display_data"
    }
   ],
   "source": [
    "\n",
    "\n",
    "#r \"nuget: Microsoft.Agents.AI, 1.0.0-preview.251001.3\""
   ]
  },
  {
   "cell_type": "code",
   "execution_count": 4,
   "id": "4ab7b15d",
   "metadata": {
    "language_info": {
     "name": "polyglot-notebook"
    },
    "polyglot_notebook": {
     "kernelName": "csharp"
    }
   },
   "outputs": [],
   "source": [
    "// #r \"nuget: Microsoft.Extensions.AI.OpenAI, 9.9.0-preview.1.25458.4\""
   ]
  },
  {
   "cell_type": "code",
   "execution_count": 5,
   "id": "3fa8aa21",
   "metadata": {
    "language_info": {
     "name": "polyglot-notebook"
    },
    "polyglot_notebook": {
     "kernelName": "csharp"
    }
   },
   "outputs": [
    {
     "data": {
      "text/html": [
       "<div><div></div><div></div><div><strong>Installed Packages</strong><ul><li><span>DotNetEnv, 3.1.1</span></li></ul></div></div>"
      ]
     },
     "metadata": {},
     "output_type": "display_data"
    }
   ],
   "source": [
    "#r \"nuget: DotNetEnv, 3.1.1\""
   ]
  },
  {
   "cell_type": "code",
   "execution_count": 6,
   "id": "fc8ee8ea",
   "metadata": {
    "language_info": {
     "name": "polyglot-notebook"
    },
    "polyglot_notebook": {
     "kernelName": "csharp"
    }
   },
   "outputs": [],
   "source": [
    "using System;\n",
    "using System.ComponentModel;\n",
    "using System.ClientModel;\n",
    "\n",
    "using Microsoft.Extensions.AI;\n",
    "using Microsoft.Agents.AI;\n",
    "using OpenAI;"
   ]
  },
  {
   "cell_type": "code",
   "execution_count": 7,
   "id": "699b1c83",
   "metadata": {
    "language_info": {
     "name": "polyglot-notebook"
    },
    "polyglot_notebook": {
     "kernelName": "csharp"
    }
   },
   "outputs": [],
   "source": [
    " using DotNetEnv;"
   ]
  },
  {
   "cell_type": "code",
   "execution_count": 8,
   "id": "daa649a0",
   "metadata": {
    "language_info": {
     "name": "polyglot-notebook"
    },
    "polyglot_notebook": {
     "kernelName": "csharp"
    }
   },
   "outputs": [],
   "source": [
    "Env.Load(\"../../../.env\");"
   ]
  },
  {
   "cell_type": "code",
   "execution_count": 9,
   "id": "29661a90",
   "metadata": {
    "language_info": {
     "name": "polyglot-notebook"
    },
    "polyglot_notebook": {
     "kernelName": "csharp"
    }
   },
   "outputs": [],
   "source": [
    "[Description(\"Provides a random vacation destination.\")]\n",
    "static string GetRandomDestination()\n",
    "{\n",
    "    var destinations = new List<string>\n",
    "    {\n",
    "        \"Paris, France\",\n",
    "        \"Tokyo, Japan\",\n",
    "        \"New York City, USA\",\n",
    "        \"Sydney, Australia\",\n",
    "        \"Rome, Italy\",\n",
    "        \"Barcelona, Spain\",\n",
    "        \"Cape Town, South Africa\",\n",
    "        \"Rio de Janeiro, Brazil\",\n",
    "        \"Bangkok, Thailand\",\n",
    "        \"Vancouver, Canada\"\n",
    "    };\n",
    "\n",
    "    var random = new Random();\n",
    "    int index = random.Next(destinations.Count);\n",
    "    return destinations[index];\n",
    "}"
   ]
  },
  {
   "cell_type": "code",
   "execution_count": 10,
   "id": "d2ed1f8b",
   "metadata": {
    "language_info": {
     "name": "polyglot-notebook"
    },
    "polyglot_notebook": {
     "kernelName": "csharp"
    }
   },
   "outputs": [],
   "source": [
    "var github_endpoint = Environment.GetEnvironmentVariable(\"GITHUB_ENDPOINT\") ?? throw new InvalidOperationException(\"GITHUB_ENDPOINT is not set.\");\n",
    "var github_model_id = Environment.GetEnvironmentVariable(\"GITHUB_MODEL_ID\") ?? \"gpt-4o-mini\";\n",
    "var github_token = Environment.GetEnvironmentVariable(\"GITHUB_TOKEN\") ?? throw new InvalidOperationException(\"GITHUB_TOKEN is not set.\");"
   ]
  },
  {
   "cell_type": "code",
   "execution_count": 11,
   "id": "c36c73e1",
   "metadata": {
    "language_info": {
     "name": "polyglot-notebook"
    },
    "polyglot_notebook": {
     "kernelName": "csharp"
    }
   },
   "outputs": [],
   "source": [
    "var openAIOptions = new OpenAIClientOptions()\n",
    "{\n",
    "    Endpoint= new Uri(github_endpoint)\n",
    "};"
   ]
  },
  {
   "cell_type": "code",
   "execution_count": 12,
   "id": "6d94ff10",
   "metadata": {
    "language_info": {
     "name": "polyglot-notebook"
    },
    "polyglot_notebook": {
     "kernelName": "csharp"
    }
   },
   "outputs": [],
   "source": [
    "\n",
    "var openAIClient = new OpenAIClient(new ApiKeyCredential(github_token), openAIOptions);"
   ]
  },
  {
   "cell_type": "code",
   "execution_count": 13,
   "id": "fe32b57a",
   "metadata": {
    "language_info": {
     "name": "polyglot-notebook"
    },
    "polyglot_notebook": {
     "kernelName": "csharp"
    }
   },
   "outputs": [],
   "source": [
    "AIAgent agent = new OpenAIClient(new ApiKeyCredential(github_token), openAIOptions).GetChatClient(github_model_id).CreateAIAgent(\n",
    "    instructions:\"You are a helpful AI Agent that can help plan vacations for customers at random destinations\", tools: [AIFunctionFactory.Create((Func<string>)GetRandomDestination)]);"
   ]
  },
  {
   "cell_type": "code",
   "execution_count": 14,
   "metadata": {
    "language_info": {
     "name": "polyglot-notebook"
    },
    "polyglot_notebook": {
     "kernelName": "csharp"
    }
   },
   "outputs": [],
   "source": [
    "AgentThread thread = agent.GetNewThread();"
   ]
  },
  {
   "cell_type": "code",
   "execution_count": 15,
   "id": "5e455aff",
   "metadata": {
    "language_info": {
     "name": "polyglot-notebook"
    },
    "polyglot_notebook": {
     "kernelName": "csharp"
    }
   },
   "outputs": [
    {
     "name": "stdout",
     "output_type": "stream",
     "text": [
      "How about a day trip to Vancouver, Canada? Here's a suggested itinerary for your day:\n",
      "\n",
      "### Morning\n",
      "- **Breakfast at a Local Cafe**: Start your day with a delicious breakfast at a cozy café like **Jam Cafe** or **Cafe Medina**.\n",
      "- **Stanley Park**: After breakfast, head to Stanley Park. You can rent a bike and ride along the seawall, enjoying beautiful views of the city and the water.\n",
      "\n",
      "### Afternoon\n",
      "- **Lunch in Gastown**: Make your way to Gastown for lunch. Try a local favorite like **The Flying Pig** or **Noodle Box**.\n",
      "- **Explore Gastown**: After lunch, walk around Gastown to see the iconic Steam Clock and browse the unique shops and boutiques.\n",
      "\n",
      "### Late Afternoon\n",
      "- **Granville Island**: Visit Granville Island, where you can stroll through the public market, sample local foods, and enjoy artisan shops.\n",
      "- **False Creek**: Take a walk along False Creek and enjoy the waterfront views.\n",
      "\n",
      "### Evening\n",
      "- **Dinner at a Waterfront Restaurant**: End your day with dinner at a waterfront restaurant like **The Boathouse** or **Lift Bar Grill View** for great food and a view of the sunset.\n",
      "- **Optional: Sunset Cruise**: If you're up for it, consider taking a sunset cruise for a different perspective of the city.\n",
      "\n",
      "### Tips\n",
      "- Make sure to check the weather beforehand!\n",
      "- Consider public transport or ride-sharing to navigate the city easily.\n",
      "\n",
      "Enjoy your day trip to Vancouver!\r\n"
     ]
    }
   ],
   "source": [
    "Console.WriteLine(await agent.RunAsync(\"Plan me a day trip\",thread));"
   ]
  },
  {
   "cell_type": "code",
   "execution_count": 16,
   "id": "592ae1bb",
   "metadata": {
    "language_info": {
     "name": "polyglot-notebook"
    },
    "polyglot_notebook": {
     "kernelName": "csharp"
    }
   },
   "outputs": [
    {
     "name": "stdout",
     "output_type": "stream",
     "text": [
      "How about a vacation to New York City, USA? Here's a suggested itinerary for your trip:\n",
      "\n",
      "### Day 1: Arrival in New York City\n",
      "- **Check-In**: Arrive and check in to your hotel.\n",
      "- **Central Park**: Take a leisurely stroll through Central Park. Consider renting a bike or taking a carriage ride.\n",
      "- **Evening**: Enjoy dinner at a classic NYC restaurant, such as **Katz's Delicatessen** or **Carbone**.\n",
      "\n",
      "### Day 2: Iconic Landmarks\n",
      "- **Morning**: Breakfast at a local diner.\n",
      "- **Statue of Liberty & Ellis Island**: Take a ferry to visit these iconic landmarks.\n",
      "- **Afternoon**: Explore Wall Street and visit the 9/11 Memorial & Museum.\n",
      "- **Evening**: Dinner in the Financial District followed by a walk across the Brooklyn Bridge at sunset.\n",
      "\n",
      "### Day 3: Culture and Arts\n",
      "- **Morning**: Visit The Metropolitan Museum of Art (The Met) and spend a few hours exploring its vast collection.\n",
      "- **Afternoon**: Head to Times Square for lunch and the buzz of the city.\n",
      "- **Broadway Show**: Catch a Broadway show in the evening. Be sure to book tickets in advance!\n",
      "\n",
      "### Day 4: Explore Neighborhoods\n",
      "- **Morning**: Head to SoHo for brunch and shopping in its chic boutiques.\n",
      "- **Afternoon**: Explore Greenwich Village, known for its bohemian atmosphere and history.\n",
      "- **Evening**: Enjoy dinner in the West Village, perhaps at **Buvette** or **Minetta Tavern**.\n",
      "\n",
      "### Day 5: Departure\n",
      "- **Last-minute Shopping**: Spend your last morning shopping at Fifth Avenue or head to Chelsea Market for food and souvenirs.\n",
      "- **Check-Out**: Depart for your journey home.\n",
      "\n",
      "### Tips\n",
      "- Utilize the subway for efficient travel around the city.\n",
      "- Make reservations for popular restaurants and attractions ahead of time!\n",
      "\n",
      "Enjoy your trip to New York City!\r\n"
     ]
    }
   ],
   "source": [
    "Console.WriteLine(await agent.RunAsync(\"I don't like that destination. Plan me another vacation.\",thread));"
   ]
  },
  {
   "cell_type": "markdown",
   "metadata": {},
   "source": [
    "\n---\n\n**Отказ от отговорност**:  \nТози документ е преведен с помощта на AI услуга за превод [Co-op Translator](https://github.com/Azure/co-op-translator). Въпреки че се стремим към точност, моля, имайте предвид, че автоматизираните преводи може да съдържат грешки или неточности. Оригиналният документ на неговия изходен език трябва да се счита за авторитетен източник. За критична информация се препоръчва професионален превод от човек. Не носим отговорност за каквито и да е недоразумения или погрешни интерпретации, произтичащи от използването на този превод.\n"
   ]
  }
 ],
 "metadata": {
  "kernelspec": {
   "display_name": ".NET (C#)",
   "language": "C#",
   "name": ".net-csharp"
  },
  "language_info": {
   "name": "polyglot-notebook"
  },
  "polyglot_notebook": {
   "kernelInfo": {
    "defaultKernelName": "csharp",
    "items": [
     {
      "aliases": [],
      "name": "csharp"
     }
    ]
   }
  },
  "coopTranslator": {
   "original_hash": "070c1d8985b3dc6e6d977f3e891037f1",
   "translation_date": "2025-10-02T08:31:17+00:00",
   "source_file": "03-agentic-design-patterns/code_samples/03-dotnet-agent-framework.ipynb",
   "language_code": "bg"
  }
 },
 "nbformat": 4,
 "nbformat_minor": 5
}