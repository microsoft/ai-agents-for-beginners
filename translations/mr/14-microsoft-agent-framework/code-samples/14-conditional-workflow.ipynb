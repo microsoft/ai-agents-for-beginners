{
 "cells": [
  {
   "cell_type": "code",
   "execution_count": 1,
   "id": "4b2cf5f5",
   "metadata": {},
   "outputs": [
    {
     "name": "stdout",
     "output_type": "stream",
     "text": [
      "✅ All imports successful!\n"
     ]
    }
   ],
   "source": [
    "import asyncio\n",
    "import json\n",
    "import os\n",
    "from typing import Annotated, Any, Never\n",
    "\n",
    "from agent_framework import (\n",
    "    AgentExecutor,\n",
    "    AgentExecutorRequest,\n",
    "    AgentExecutorResponse,\n",
    "    ChatMessage,\n",
    "    Role,\n",
    "    WorkflowBuilder,\n",
    "    WorkflowContext,\n",
    "    ai_function,\n",
    "    executor,\n",
    ")\n",
    "\n",
    "# 🤖 GitHub Models or OpenAI client integration\n",
    "from agent_framework.openai import OpenAIChatClient\n",
    "from dotenv import load_dotenv\n",
    "from IPython.display import HTML, display\n",
    "from pydantic import BaseModel\n",
    "\n",
    "print(\"✅ All imports successful!\")"
   ]
  },
  {
   "cell_type": "markdown",
   "id": "001c224e",
   "metadata": {},
   "source": [
    "## चरण 1: संरचित आउटपुटसाठी Pydantic मॉडेल्स परिभाषित करा\n",
    "\n",
    "हे मॉडेल्स एजंट्स परत करणार्‍या **स्कीमा** परिभाषित करतात. Pydantic सह `response_format` वापरण्याचे फायदे:\n",
    "- ✅ प्रकार-सुरक्षित डेटा काढणे\n",
    "- ✅ स्वयंचलित सत्यापन\n",
    "- ✅ मुक्त-पाठ प्रतिसादांमधून कोणतेही पार्सिंग त्रुटी नाहीत\n",
    "- ✅ फील्ड्सवर आधारित सोपे सशर्त रूटिंग\n"
   ]
  },
  {
   "cell_type": "code",
   "execution_count": 2,
   "id": "6c2ef582",
   "metadata": {},
   "outputs": [
    {
     "name": "stdout",
     "output_type": "stream",
     "text": [
      "✅ Pydantic models defined:\n",
      "   - BookingCheckResult (availability check)\n",
      "   - AlternativeResult (alternative suggestion)\n",
      "   - BookingConfirmation (booking confirmation)\n"
     ]
    }
   ],
   "source": [
    "class BookingCheckResult(BaseModel):\n",
    "    \"\"\"Result from checking hotel availability at a destination.\"\"\"\n",
    "\n",
    "    destination: str\n",
    "    has_availability: bool\n",
    "    message: str\n",
    "\n",
    "\n",
    "class AlternativeResult(BaseModel):\n",
    "    \"\"\"Suggested alternative destination when no rooms available.\"\"\"\n",
    "\n",
    "    alternative_destination: str\n",
    "    reason: str\n",
    "\n",
    "\n",
    "class BookingConfirmation(BaseModel):\n",
    "    \"\"\"Booking suggestion when rooms are available.\"\"\"\n",
    "\n",
    "    destination: str\n",
    "    action: str\n",
    "    message: str\n",
    "\n",
    "\n",
    "print(\"✅ Pydantic models defined:\")\n",
    "print(\"   - BookingCheckResult (availability check)\")\n",
    "print(\"   - AlternativeResult (alternative suggestion)\")\n",
    "print(\"   - BookingConfirmation (booking confirmation)\")"
   ]
  },
  {
   "cell_type": "markdown",
   "id": "48423ecc",
   "metadata": {},
   "source": [
    "## चरण 2: हॉटेल बुकिंग साधन तयार करा\n",
    "\n",
    "हे साधन **availability_agent** वापरून तपासेल की खोल्या उपलब्ध आहेत का. आम्ही `@ai_function` डेकोरेटर वापरतो:\n",
    "- Python फंक्शनला AI-कॉल करण्यायोग्य साधनात रूपांतरित करण्यासाठी\n",
    "- LLM साठी स्वयंचलित JSON स्कीमा तयार करण्यासाठी\n",
    "- पॅरामीटरची पडताळणी हाताळण्यासाठी\n",
    "- एजंटद्वारे स्वयंचलित कॉलिंग सक्षम करण्यासाठी\n",
    "\n",
    "या डेमोसाठी:\n",
    "- **स्टॉकहोम, सिएटल, टोकियो, लंडन, अॅमस्टरडॅम** → खोल्या उपलब्ध आहेत ✅\n",
    "- **इतर सर्व शहरं** → खोल्या उपलब्ध नाहीत ❌\n"
   ]
  },
  {
   "cell_type": "code",
   "execution_count": 3,
   "id": "aad7e7ec",
   "metadata": {},
   "outputs": [
    {
     "name": "stdout",
     "output_type": "stream",
     "text": [
      "✅ hotel_booking tool created with @ai_function decorator\n"
     ]
    }
   ],
   "source": [
    "@ai_function(description=\"Check hotel room availability for a destination city\")\n",
    "def hotel_booking(destination: Annotated[str, \"The destination city to check for hotel rooms\"]) -> str:\n",
    "    \"\"\"\n",
    "    Simulates checking hotel room availability.\n",
    "    \n",
    "    Returns JSON string with availability status.\n",
    "    \"\"\"\n",
    "    display(\n",
    "        HTML(f\"\"\"\n",
    "        <div style='padding: 15px; background: #e3f2fd; border-left: 4px solid #2196f3; border-radius: 4px; margin: 10px 0;'>\n",
    "            <strong>🔍 Tool Invoked:</strong> hotel_booking(\"{destination}\")\n",
    "        </div>\n",
    "    \"\"\")\n",
    "    )\n",
    "\n",
    "    # Simulate availability check\n",
    "    cities_with_rooms = [\"stockholm\", \"seattle\", \"tokyo\", \"london\", \"amsterdam\"]\n",
    "    has_rooms = destination.lower() in cities_with_rooms\n",
    "\n",
    "    result = {\"has_availability\": has_rooms, \"destination\": destination}\n",
    "\n",
    "    return json.dumps(result)\n",
    "\n",
    "\n",
    "print(\"✅ hotel_booking tool created with @ai_function decorator\")"
   ]
  },
  {
   "cell_type": "markdown",
   "id": "134c54b0",
   "metadata": {},
   "source": [
    "## चरण ३: रूटिंगसाठी अटींच्या फंक्शन्सची व्याख्या करा\n",
    "\n",
    "हे फंक्शन्स एजंटच्या प्रतिसादाचे निरीक्षण करतात आणि कार्यप्रवाहात कोणता मार्ग निवडायचा ते ठरवतात.\n",
    "\n",
    "**महत्त्वाचा नमुना:**\n",
    "1. तपासा की संदेश `AgentExecutorResponse` आहे\n",
    "2. संरचित आउटपुट (Pydantic मॉडेल) पार्स करा\n",
    "3. रूटिंग नियंत्रित करण्यासाठी `True` किंवा `False` परत करा\n",
    "\n",
    "कार्यप्रवाह **एजेस** वर या अटींचे मूल्यांकन करेल, पुढे कोणता एक्झिक्युटर वापरायचा ते ठरवण्यासाठी.\n"
   ]
  },
  {
   "cell_type": "code",
   "execution_count": 4,
   "id": "6960edd1",
   "metadata": {},
   "outputs": [
    {
     "name": "stdout",
     "output_type": "stream",
     "text": [
      "✅ Condition functions defined:\n",
      "   - has_availability_condition (routes when rooms exist)\n",
      "   - no_availability_condition (routes when no rooms)\n"
     ]
    }
   ],
   "source": [
    "def has_availability_condition(message: Any) -> bool:\n",
    "    \"\"\"\n",
    "    Condition for routing when hotels ARE available.\n",
    "    \n",
    "    Returns True if the destination has hotel rooms.\n",
    "    \"\"\"\n",
    "    if not isinstance(message, AgentExecutorResponse):\n",
    "        return True  # Default to True if unexpected type\n",
    "\n",
    "    try:\n",
    "        result = BookingCheckResult.model_validate_json(message.agent_run_response.text)\n",
    "\n",
    "        display(\n",
    "            HTML(f\"\"\"\n",
    "            <div style='padding: 12px; background: #c8e6c9; border-left: 4px solid #4caf50; border-radius: 4px; margin: 10px 0;'>\n",
    "                <strong>✅ Condition Check:</strong> has_availability = <strong>{result.has_availability}</strong> for {result.destination}\n",
    "            </div>\n",
    "        \"\"\")\n",
    "        )\n",
    "\n",
    "        return result.has_availability\n",
    "    except Exception as e:\n",
    "        display(\n",
    "            HTML(f\"\"\"\n",
    "            <div style='padding: 12px; background: #ffcdd2; border-left: 4px solid #f44336; border-radius: 4px; margin: 10px 0;'>\n",
    "                <strong>⚠️  Error:</strong> {str(e)}\n",
    "            </div>\n",
    "        \"\"\")\n",
    "        )\n",
    "        return False\n",
    "\n",
    "\n",
    "def no_availability_condition(message: Any) -> bool:\n",
    "    \"\"\"\n",
    "    Condition for routing when hotels are NOT available.\n",
    "    \n",
    "    Returns True if the destination has no hotel rooms.\n",
    "    \"\"\"\n",
    "    if not isinstance(message, AgentExecutorResponse):\n",
    "        return False\n",
    "\n",
    "    try:\n",
    "        result = BookingCheckResult.model_validate_json(message.agent_run_response.text)\n",
    "\n",
    "        display(\n",
    "            HTML(f\"\"\"\n",
    "            <div style='padding: 12px; background: #ffecb3; border-left: 4px solid #ff9800; border-radius: 4px; margin: 10px 0;'>\n",
    "                <strong>❌ Condition Check:</strong> no_availability for {result.destination}\n",
    "            </div>\n",
    "        \"\"\")\n",
    "        )\n",
    "\n",
    "        return not result.has_availability\n",
    "    except Exception as e:\n",
    "        return False\n",
    "\n",
    "\n",
    "print(\"✅ Condition functions defined:\")\n",
    "print(\"   - has_availability_condition (routes when rooms exist)\")\n",
    "print(\"   - no_availability_condition (routes when no rooms)\")"
   ]
  },
  {
   "cell_type": "markdown",
   "id": "9dc783ba",
   "metadata": {},
   "source": [
    "## चरण 4: कस्टम डिस्प्ले एक्झिक्युटर तयार करा\n",
    "\n",
    "एक्झिक्युटर्स हे वर्कफ्लो घटक आहेत जे रूपांतरणे किंवा साइड इफेक्ट्स करतात. अंतिम परिणाम दाखवण्यासाठी आम्ही `@executor` डेकोरेटर वापरून कस्टम एक्झिक्युटर तयार करतो.\n",
    "\n",
    "**महत्त्वाचे संकल्पना:**\n",
    "- `@executor(id=\"...\")` - एखाद्या फंक्शनला वर्कफ्लो एक्झिक्युटर म्हणून नोंदवते\n",
    "- `WorkflowContext[Never, str]` - इनपुट/आउटपुटसाठी टाइप हिंट्स\n",
    "- `ctx.yield_output(...)` - अंतिम वर्कफ्लो परिणाम प्रदान करते\n"
   ]
  },
  {
   "cell_type": "code",
   "execution_count": 5,
   "id": "c67f6b55",
   "metadata": {},
   "outputs": [
    {
     "name": "stdout",
     "output_type": "stream",
     "text": [
      "✅ display_result executor created with @executor decorator\n"
     ]
    }
   ],
   "source": [
    "@executor(id=\"display_result\")\n",
    "async def display_result(response: AgentExecutorResponse, ctx: WorkflowContext[Never, str]) -> None:\n",
    "    \"\"\"\n",
    "    Display the final result as workflow output.\n",
    "    \n",
    "    This executor receives the final agent response and yields it as the workflow output.\n",
    "    \"\"\"\n",
    "    display(\n",
    "        HTML(\"\"\"\n",
    "        <div style='padding: 15px; background: #f3e5f5; border-left: 4px solid #9c27b0; border-radius: 4px; margin: 10px 0;'>\n",
    "            <strong>📤 Display Executor:</strong> Yielding workflow output\n",
    "        </div>\n",
    "    \"\"\")\n",
    "    )\n",
    "\n",
    "    await ctx.yield_output(response.agent_run_response.text)\n",
    "\n",
    "\n",
    "print(\"✅ display_result executor created with @executor decorator\")"
   ]
  },
  {
   "cell_type": "markdown",
   "id": "7de6eb90",
   "metadata": {},
   "source": [
    "## चरण ५: पर्यावरणीय व्हेरिएबल्स लोड करा\n",
    "\n",
    "LLM क्लायंट कॉन्फिगर करा. हा उदाहरण खालीलसाठी कार्य करतो:\n",
    "- **GitHub Models** (GitHub टोकनसह मोफत स्तर)\n",
    "- **Azure OpenAI**\n",
    "- **OpenAI**\n"
   ]
  },
  {
   "cell_type": "code",
   "execution_count": 6,
   "id": "1e8f0d88",
   "metadata": {},
   "outputs": [],
   "source": [
    "# Load environment variables\n",
    "load_dotenv()\n",
    "\n",
    "# Check for GitHub Models or OpenAI\n",
    "chat_client = OpenAIChatClient(base_url=os.environ.get(\n",
    "    \"GITHUB_ENDPOINT\"), api_key=os.environ.get(\"GITHUB_TOKEN\"), model_id=\"gpt-4o\")"
   ]
  },
  {
   "cell_type": "markdown",
   "id": "3fc61fe7",
   "metadata": {},
   "source": [
    "## चरण 6: संरचित आउटपुटसह AI एजंट तयार करा\n",
    "\n",
    "आम्ही **तीन विशेष एजंट** तयार करतो, प्रत्येकाला `AgentExecutor` मध्ये गुंडाळले जाते:\n",
    "\n",
    "1. **availability_agent** - साधन वापरून हॉटेलची उपलब्धता तपासतो\n",
    "2. **alternative_agent** - पर्यायी शहरांची शिफारस करतो (जेव्हा खोल्या उपलब्ध नसतात)\n",
    "3. **booking_agent** - बुकिंगसाठी प्रोत्साहन देतो (जेव्हा खोल्या उपलब्ध असतात)\n",
    "\n",
    "**महत्त्वाच्या वैशिष्ट्ये:**\n",
    "- `tools=[hotel_booking]` - एजंटला साधन उपलब्ध करून देते\n",
    "- `response_format=PydanticModel` - संरचित JSON आउटपुट अनिवार्य करते\n",
    "- `AgentExecutor(..., id=\"...\")` - कार्यप्रवाहासाठी एजंटला गुंडाळते\n"
   ]
  },
  {
   "cell_type": "code",
   "execution_count": 7,
   "id": "66466dda",
   "metadata": {},
   "outputs": [
    {
     "data": {
      "text/html": [
       "\n",
       "    <div style='padding: 15px; background: #e3f2fd; border-left: 4px solid #2196f3; border-radius: 4px; margin: 10px 0;'>\n",
       "        <strong>✅ Created 3 Agents:</strong>\n",
       "        <ul style='margin: 10px 0 0 0;'>\n",
       "            <li><strong>availability_agent</strong> - Checks availability with hotel_booking tool</li>\n",
       "            <li><strong>alternative_agent</strong> - Suggests alternative cities</li>\n",
       "            <li><strong>booking_agent</strong> - Encourages booking</li>\n",
       "        </ul>\n",
       "    </div>\n"
      ],
      "text/plain": [
       "<IPython.core.display.HTML object>"
      ]
     },
     "metadata": {},
     "output_type": "display_data"
    }
   ],
   "source": [
    "# Agent 1: Check availability with tool\n",
    "availability_agent = AgentExecutor(\n",
    "    chat_client.create_agent(\n",
    "        instructions=(\n",
    "            \"You are a hotel booking assistant that checks room availability. \"\n",
    "            \"Use the hotel_booking tool to check if rooms are available at the destination. \"\n",
    "            \"Return JSON with fields: destination (string), has_availability (bool), and message (string). \"\n",
    "            \"The message should summarize the availability status.\"\n",
    "        ),\n",
    "        tools=[hotel_booking],\n",
    "        response_format=BookingCheckResult,\n",
    "    ),\n",
    "    id=\"availability_agent\",\n",
    ")\n",
    "\n",
    "# Agent 2: Suggest alternative (when no rooms)\n",
    "alternative_agent = AgentExecutor(\n",
    "    chat_client.create_agent(\n",
    "        instructions=(\n",
    "            \"You are a helpful travel assistant. When a user cannot find hotels in their requested city, \"\n",
    "            \"suggest an alternative nearby city that has availability. \"\n",
    "            \"Return JSON with fields: alternative_destination (string) and reason (string). \"\n",
    "            \"Make your suggestion sound appealing and helpful.\"\n",
    "        ),\n",
    "        response_format=AlternativeResult,\n",
    "    ),\n",
    "    id=\"alternative_agent\",\n",
    ")\n",
    "\n",
    "# Agent 3: Suggest booking (when rooms available)\n",
    "booking_agent = AgentExecutor(\n",
    "    chat_client.create_agent(\n",
    "        instructions=(\n",
    "            \"You are a booking assistant. The user has found available hotel rooms. \"\n",
    "            \"Encourage them to book by highlighting the destination's appeal. \"\n",
    "            \"Return JSON with fields: destination (string), action (string), and message (string). \"\n",
    "            \"The action should be 'book_now' and message should be encouraging.\"\n",
    "        ),\n",
    "        response_format=BookingConfirmation,\n",
    "    ),\n",
    "    id=\"booking_agent\",\n",
    ")\n",
    "\n",
    "display(\n",
    "    HTML(\"\"\"\n",
    "    <div style='padding: 15px; background: #e3f2fd; border-left: 4px solid #2196f3; border-radius: 4px; margin: 10px 0;'>\n",
    "        <strong>✅ Created 3 Agents:</strong>\n",
    "        <ul style='margin: 10px 0 0 0;'>\n",
    "            <li><strong>availability_agent</strong> - Checks availability with hotel_booking tool</li>\n",
    "            <li><strong>alternative_agent</strong> - Suggests alternative cities</li>\n",
    "            <li><strong>booking_agent</strong> - Encourages booking</li>\n",
    "        </ul>\n",
    "    </div>\n",
    "\"\"\")\n",
    ")"
   ]
  },
  {
   "cell_type": "markdown",
   "id": "7879a0cb",
   "metadata": {},
   "source": [
    "## चरण 7: अटींनुसार मार्गक्रमणासह कार्यप्रवाह तयार करा\n",
    "\n",
    "आता आपण `WorkflowBuilder` वापरून अटींनुसार मार्गक्रमणासह ग्राफ तयार करतो:\n",
    "\n",
    "**कार्यप्रवाह संरचना:**\n",
    "```\n",
    "availability_agent (START)\n",
    "        ↓\n",
    "   Evaluate conditions\n",
    "        ↙         ↘\n",
    "[no_availability]  [has_availability]\n",
    "        ↓              ↓\n",
    "alternative_agent  booking_agent\n",
    "        ↓              ↓\n",
    "    display_result ←───┘\n",
    "```\n",
    "\n",
    "**महत्त्वाच्या पद्धती:**\n",
    "- `.set_start_executor(...)` - प्रारंभ बिंदू सेट करते\n",
    "- `.add_edge(from, to, condition=...)` - अटींनुसार मार्ग जोडते\n",
    "- `.build()` - कार्यप्रवाह अंतिम रूप देते\n"
   ]
  },
  {
   "cell_type": "code",
   "execution_count": 8,
   "id": "90bb29dd",
   "metadata": {},
   "outputs": [
    {
     "data": {
      "text/html": [
       "\n",
       "    <div style='padding: 20px; background: linear-gradient(135deg, #667eea 0%, #764ba2 100%); color: white; border-radius: 8px; margin: 10px 0;'>\n",
       "        <h3 style='margin: 0 0 15px 0;'>✅ Workflow Built Successfully!</h3>\n",
       "        <p style='margin: 0; line-height: 1.6;'>\n",
       "            <strong>Conditional Routing:</strong><br>\n",
       "            • If <strong>NO availability</strong> → alternative_agent → display_result<br>\n",
       "            • If <strong>availability</strong> → booking_agent → display_result\n",
       "        </p>\n",
       "    </div>\n"
      ],
      "text/plain": [
       "<IPython.core.display.HTML object>"
      ]
     },
     "metadata": {},
     "output_type": "display_data"
    }
   ],
   "source": [
    "# Build the workflow with conditional routing\n",
    "workflow = (\n",
    "    WorkflowBuilder()\n",
    "    .set_start_executor(availability_agent)\n",
    "    # NO AVAILABILITY PATH\n",
    "    .add_edge(availability_agent, alternative_agent, condition=no_availability_condition)\n",
    "    .add_edge(alternative_agent, display_result)\n",
    "    # HAS AVAILABILITY PATH\n",
    "    .add_edge(availability_agent, booking_agent, condition=has_availability_condition)\n",
    "    .add_edge(booking_agent, display_result)\n",
    "    .build()\n",
    ")\n",
    "\n",
    "display(\n",
    "    HTML(\"\"\"\n",
    "    <div style='padding: 20px; background: linear-gradient(135deg, #667eea 0%, #764ba2 100%); color: white; border-radius: 8px; margin: 10px 0;'>\n",
    "        <h3 style='margin: 0 0 15px 0;'>✅ Workflow Built Successfully!</h3>\n",
    "        <p style='margin: 0; line-height: 1.6;'>\n",
    "            <strong>Conditional Routing:</strong><br>\n",
    "            • If <strong>NO availability</strong> → alternative_agent → display_result<br>\n",
    "            • If <strong>availability</strong> → booking_agent → display_result\n",
    "        </p>\n",
    "    </div>\n",
    "\"\"\")\n",
    ")"
   ]
  },
  {
   "cell_type": "markdown",
   "id": "0a3ad845",
   "metadata": {},
   "source": [
    "## चरण 8: चाचणी प्रकरण 1 चालवा - उपलब्धता नसलेले शहर (पॅरिस)\n",
    "\n",
    "चला **उपलब्धता नसलेला** मार्ग तपासूया, पॅरिसमधील हॉटेल्सची विनंती करून (ज्यांच्याकडे आपल्या सिम्युलेशनमध्ये कोणतीही खोली नाही).\n"
   ]
  },
  {
   "cell_type": "code",
   "execution_count": 9,
   "id": "af1538cd",
   "metadata": {},
   "outputs": [
    {
     "data": {
      "text/html": [
       "\n",
       "    <div style='padding: 20px; background: #fff3e0; border-left: 4px solid #ff9800; border-radius: 8px; margin: 20px 0;'>\n",
       "        <h3 style='margin: 0 0 10px 0; color: #e65100;'>🧪 TEST CASE 1: Paris (No Availability)</h3>\n",
       "        <p style='margin: 0;'>Expected workflow path: availability_agent → alternative_agent → display_result</p>\n",
       "    </div>\n"
      ],
      "text/plain": [
       "<IPython.core.display.HTML object>"
      ]
     },
     "metadata": {},
     "output_type": "display_data"
    },
    {
     "data": {
      "text/html": [
       "\n",
       "        <div style='padding: 15px; background: #e3f2fd; border-left: 4px solid #2196f3; border-radius: 4px; margin: 10px 0;'>\n",
       "            <strong>🔍 Tool Invoked:</strong> hotel_booking(\"Paris\")\n",
       "        </div>\n",
       "    "
      ],
      "text/plain": [
       "<IPython.core.display.HTML object>"
      ]
     },
     "metadata": {},
     "output_type": "display_data"
    },
    {
     "data": {
      "text/html": [
       "\n",
       "            <div style='padding: 12px; background: #ffecb3; border-left: 4px solid #ff9800; border-radius: 4px; margin: 10px 0;'>\n",
       "                <strong>❌ Condition Check:</strong> no_availability for Paris\n",
       "            </div>\n",
       "        "
      ],
      "text/plain": [
       "<IPython.core.display.HTML object>"
      ]
     },
     "metadata": {},
     "output_type": "display_data"
    },
    {
     "data": {
      "text/html": [
       "\n",
       "            <div style='padding: 12px; background: #c8e6c9; border-left: 4px solid #4caf50; border-radius: 4px; margin: 10px 0;'>\n",
       "                <strong>✅ Condition Check:</strong> has_availability = <strong>False</strong> for Paris\n",
       "            </div>\n",
       "        "
      ],
      "text/plain": [
       "<IPython.core.display.HTML object>"
      ]
     },
     "metadata": {},
     "output_type": "display_data"
    },
    {
     "data": {
      "text/html": [
       "\n",
       "        <div style='padding: 15px; background: #f3e5f5; border-left: 4px solid #9c27b0; border-radius: 4px; margin: 10px 0;'>\n",
       "            <strong>📤 Display Executor:</strong> Yielding workflow output\n",
       "        </div>\n",
       "    "
      ],
      "text/plain": [
       "<IPython.core.display.HTML object>"
      ]
     },
     "metadata": {},
     "output_type": "display_data"
    },
    {
     "data": {
      "text/html": [
       "\n",
       "        <div style='padding: 25px; background: linear-gradient(135deg, #FFD700 0%, #FFA500 100%); border-radius: 12px; box-shadow: 0 4px 12px rgba(255,165,0,0.3); margin: 20px 0;'>\n",
       "            <h3 style='margin: 0 0 15px 0; color: #333;'>🏆 WORKFLOW RESULT (Paris)</h3>\n",
       "            <div style='background: white; padding: 20px; border-radius: 8px;'>\n",
       "                <p style='margin: 0 0 10px 0; font-size: 16px;'><strong>Status:</strong> ❌ No rooms in Paris</p>\n",
       "                <p style='margin: 0 0 10px 0; font-size: 16px;'><strong>Alternative Suggestion:</strong> 🏨 Versailles</p>\n",
       "                <p style='margin: 0; font-size: 14px; color: #666;'><strong>Reason:</strong> Versailles is a charming city located near Paris, offering beautiful historic architecture and the renowned Palace of Versailles. It’s an excellent alternative destination to explore while staying close to the capital.</p>\n",
       "            </div>\n",
       "        </div>\n",
       "    "
      ],
      "text/plain": [
       "<IPython.core.display.HTML object>"
      ]
     },
     "metadata": {},
     "output_type": "display_data"
    }
   ],
   "source": [
    "display(\n",
    "    HTML(\"\"\"\n",
    "    <div style='padding: 20px; background: #fff3e0; border-left: 4px solid #ff9800; border-radius: 8px; margin: 20px 0;'>\n",
    "        <h3 style='margin: 0 0 10px 0; color: #e65100;'>🧪 TEST CASE 1: Paris (No Availability)</h3>\n",
    "        <p style='margin: 0;'>Expected workflow path: availability_agent → alternative_agent → display_result</p>\n",
    "    </div>\n",
    "\"\"\")\n",
    ")\n",
    "\n",
    "# Create request for Paris\n",
    "request_paris = AgentExecutorRequest(\n",
    "    messages=[ChatMessage(Role.USER, text=\"I want to book a hotel in Paris\")], should_respond=True\n",
    ")\n",
    "\n",
    "# Run the workflow\n",
    "events_paris = await workflow.run(request_paris)\n",
    "outputs_paris = events_paris.get_outputs()\n",
    "\n",
    "# Display results\n",
    "if outputs_paris:\n",
    "    result_paris = AlternativeResult.model_validate_json(outputs_paris[0])\n",
    "\n",
    "    display(\n",
    "        HTML(f\"\"\"\n",
    "        <div style='padding: 25px; background: linear-gradient(135deg, #FFD700 0%, #FFA500 100%); border-radius: 12px; box-shadow: 0 4px 12px rgba(255,165,0,0.3); margin: 20px 0;'>\n",
    "            <h3 style='margin: 0 0 15px 0; color: #333;'>🏆 WORKFLOW RESULT (Paris)</h3>\n",
    "            <div style='background: white; padding: 20px; border-radius: 8px;'>\n",
    "                <p style='margin: 0 0 10px 0; font-size: 16px;'><strong>Status:</strong> ❌ No rooms in Paris</p>\n",
    "                <p style='margin: 0 0 10px 0; font-size: 16px;'><strong>Alternative Suggestion:</strong> 🏨 {result_paris.alternative_destination}</p>\n",
    "                <p style='margin: 0; font-size: 14px; color: #666;'><strong>Reason:</strong> {result_paris.reason}</p>\n",
    "            </div>\n",
    "        </div>\n",
    "    \"\"\")\n",
    "    )"
   ]
  },
  {
   "cell_type": "markdown",
   "id": "408a3f60",
   "metadata": {},
   "source": [
    "## चरण 9: चाचणी प्रकरण 2 चालवा - उपलब्धता असलेले शहर (स्टॉकहोम)\n",
    "\n",
    "आता स्टॉकहोममधील हॉटेल्सची विनंती करून **उपलब्धता** मार्गाची चाचणी करूया (ज्यामध्ये आमच्या सिम्युलेशनमध्ये खोल्या आहेत).\n"
   ]
  },
  {
   "cell_type": "code",
   "execution_count": 10,
   "id": "e1471000",
   "metadata": {},
   "outputs": [
    {
     "data": {
      "text/html": [
       "\n",
       "    <div style='padding: 20px; background: #e8f5e9; border-left: 4px solid #4caf50; border-radius: 8px; margin: 20px 0;'>\n",
       "        <h3 style='margin: 0 0 10px 0; color: #1b5e20;'>🧪 TEST CASE 2: Stockholm (Has Availability)</h3>\n",
       "        <p style='margin: 0;'>Expected workflow path: availability_agent → booking_agent → display_result</p>\n",
       "    </div>\n"
      ],
      "text/plain": [
       "<IPython.core.display.HTML object>"
      ]
     },
     "metadata": {},
     "output_type": "display_data"
    },
    {
     "data": {
      "text/html": [
       "\n",
       "        <div style='padding: 15px; background: #e3f2fd; border-left: 4px solid #2196f3; border-radius: 4px; margin: 10px 0;'>\n",
       "            <strong>🔍 Tool Invoked:</strong> hotel_booking(\"Stockholm\")\n",
       "        </div>\n",
       "    "
      ],
      "text/plain": [
       "<IPython.core.display.HTML object>"
      ]
     },
     "metadata": {},
     "output_type": "display_data"
    },
    {
     "data": {
      "text/html": [
       "\n",
       "            <div style='padding: 12px; background: #ffecb3; border-left: 4px solid #ff9800; border-radius: 4px; margin: 10px 0;'>\n",
       "                <strong>❌ Condition Check:</strong> no_availability for Stockholm\n",
       "            </div>\n",
       "        "
      ],
      "text/plain": [
       "<IPython.core.display.HTML object>"
      ]
     },
     "metadata": {},
     "output_type": "display_data"
    },
    {
     "data": {
      "text/html": [
       "\n",
       "            <div style='padding: 12px; background: #c8e6c9; border-left: 4px solid #4caf50; border-radius: 4px; margin: 10px 0;'>\n",
       "                <strong>✅ Condition Check:</strong> has_availability = <strong>True</strong> for Stockholm\n",
       "            </div>\n",
       "        "
      ],
      "text/plain": [
       "<IPython.core.display.HTML object>"
      ]
     },
     "metadata": {},
     "output_type": "display_data"
    },
    {
     "data": {
      "text/html": [
       "\n",
       "        <div style='padding: 15px; background: #f3e5f5; border-left: 4px solid #9c27b0; border-radius: 4px; margin: 10px 0;'>\n",
       "            <strong>📤 Display Executor:</strong> Yielding workflow output\n",
       "        </div>\n",
       "    "
      ],
      "text/plain": [
       "<IPython.core.display.HTML object>"
      ]
     },
     "metadata": {},
     "output_type": "display_data"
    },
    {
     "data": {
      "text/html": [
       "\n",
       "        <div style='padding: 25px; background: linear-gradient(135deg, #4caf50 0%, #8bc34a 100%); color: white; border-radius: 12px; box-shadow: 0 4px 12px rgba(76,175,80,0.3); margin: 20px 0;'>\n",
       "            <h3 style='margin: 0 0 15px 0;'>🏆 WORKFLOW RESULT (Stockholm)</h3>\n",
       "            <div style='background: white; color: #333; padding: 20px; border-radius: 8px;'>\n",
       "                <p style='margin: 0 0 10px 0; font-size: 16px;'><strong>Status:</strong> ✅ Rooms Available!</p>\n",
       "                <p style='margin: 0 0 10px 0; font-size: 16px;'><strong>Destination:</strong> 🏨 Stockholm</p>\n",
       "                <p style='margin: 0 0 10px 0; font-size: 16px;'><strong>Action:</strong> book_now</p>\n",
       "                <p style='margin: 0; font-size: 14px; color: #666;'><strong>Message:</strong> Stockholm is an enchanting city with striking architecture, rich history, and an incredible cultural scene. Book your hotel now to secure your stay in this captivating destination!</p>\n",
       "            </div>\n",
       "        </div>\n",
       "    "
      ],
      "text/plain": [
       "<IPython.core.display.HTML object>"
      ]
     },
     "metadata": {},
     "output_type": "display_data"
    }
   ],
   "source": [
    "display(\n",
    "    HTML(\"\"\"\n",
    "    <div style='padding: 20px; background: #e8f5e9; border-left: 4px solid #4caf50; border-radius: 8px; margin: 20px 0;'>\n",
    "        <h3 style='margin: 0 0 10px 0; color: #1b5e20;'>🧪 TEST CASE 2: Stockholm (Has Availability)</h3>\n",
    "        <p style='margin: 0;'>Expected workflow path: availability_agent → booking_agent → display_result</p>\n",
    "    </div>\n",
    "\"\"\")\n",
    ")\n",
    "\n",
    "# Create request for Stockholm\n",
    "request_stockholm = AgentExecutorRequest(\n",
    "    messages=[ChatMessage(Role.USER, text=\"I want to book a hotel in Stockholm\")], should_respond=True\n",
    ")\n",
    "\n",
    "# Run the workflow\n",
    "events_stockholm = await workflow.run(request_stockholm)\n",
    "outputs_stockholm = events_stockholm.get_outputs()\n",
    "\n",
    "# Display results\n",
    "if outputs_stockholm:\n",
    "    result_stockholm = BookingConfirmation.model_validate_json(outputs_stockholm[0])\n",
    "\n",
    "    display(\n",
    "        HTML(f\"\"\"\n",
    "        <div style='padding: 25px; background: linear-gradient(135deg, #4caf50 0%, #8bc34a 100%); color: white; border-radius: 12px; box-shadow: 0 4px 12px rgba(76,175,80,0.3); margin: 20px 0;'>\n",
    "            <h3 style='margin: 0 0 15px 0;'>🏆 WORKFLOW RESULT (Stockholm)</h3>\n",
    "            <div style='background: white; color: #333; padding: 20px; border-radius: 8px;'>\n",
    "                <p style='margin: 0 0 10px 0; font-size: 16px;'><strong>Status:</strong> ✅ Rooms Available!</p>\n",
    "                <p style='margin: 0 0 10px 0; font-size: 16px;'><strong>Destination:</strong> 🏨 {result_stockholm.destination}</p>\n",
    "                <p style='margin: 0 0 10px 0; font-size: 16px;'><strong>Action:</strong> {result_stockholm.action}</p>\n",
    "                <p style='margin: 0; font-size: 14px; color: #666;'><strong>Message:</strong> {result_stockholm.message}</p>\n",
    "            </div>\n",
    "        </div>\n",
    "    \"\"\")\n",
    "    )"
   ]
  },
  {
   "cell_type": "markdown",
   "id": "a415537c",
   "metadata": {},
   "source": [
    "## मुख्य मुद्दे आणि पुढील पावले\n",
    "\n",
    "### ✅ तुम्ही काय शिकलात:\n",
    "\n",
    "1. **WorkflowBuilder पॅटर्न**\n",
    "   - प्रवेश बिंदू परिभाषित करण्यासाठी `.set_start_executor()` वापरा\n",
    "   - सशर्त रूटिंगसाठी `.add_edge(from, to, condition=...)` वापरा\n",
    "   - वर्कफ्लो अंतिम रूप देण्यासाठी `.build()` कॉल करा\n",
    "\n",
    "2. **सशर्त रूटिंग**\n",
    "   - Condition फंक्शन्स `AgentExecutorResponse` तपासतात\n",
    "   - रूटिंग निर्णय घेण्यासाठी संरचित आउटपुट्स पार्स करा\n",
    "   - एखाद्या एज सक्रिय करण्यासाठी `True` परत करा, ते टाळण्यासाठी `False` परत करा\n",
    "\n",
    "3. **टूल इंटिग्रेशन**\n",
    "   - Python फंक्शन्स AI टूल्समध्ये रूपांतरित करण्यासाठी `@ai_function` वापरा\n",
    "   - एजंट्स आवश्यकतेनुसार टूल्स आपोआप कॉल करतात\n",
    "   - टूल्स JSON परत करतात ज्याचा एजंट्स पार्स करू शकतात\n",
    "\n",
    "4. **संरचित आउटपुट्स**\n",
    "   - प्रकार-सुरक्षित डेटा एक्स्ट्रॅक्शनसाठी Pydantic मॉडेल्स वापरा\n",
    "   - एजंट्स तयार करताना `response_format=MyModel` सेट करा\n",
    "   - `Model.model_validate_json()` वापरून प्रतिसाद पार्स करा\n",
    "\n",
    "5. **कस्टम Executors**\n",
    "   - वर्कफ्लो घटक तयार करण्यासाठी `@executor(id=\"...\")` वापरा\n",
    "   - Executors डेटा रूपांतरित करू शकतात किंवा साइड इफेक्ट्स करू शकतात\n",
    "   - वर्कफ्लो परिणाम तयार करण्यासाठी `ctx.yield_output()` वापरा\n",
    "\n",
    "### 🚀 वास्तविक-जगातील उपयोग:\n",
    "\n",
    "- **प्रवास बुकिंग**: उपलब्धता तपासा, पर्याय सुचवा, तुलना करा\n",
    "- **ग्राहक सेवा**: समस्या प्रकार, भावना, प्राधान्य यावर आधारित रूटिंग\n",
    "- **ई-कॉमर्स**: इन्व्हेंटरी तपासा, पर्याय सुचवा, ऑर्डर प्रक्रिया करा\n",
    "- **कंटेंट मॉडरेशन**: विषारी स्कोर्स, वापरकर्ता फ्लॅग्सवर आधारित रूटिंग\n",
    "- **मंजुरी वर्कफ्लो**: रक्कम, वापरकर्ता भूमिका, जोखीम स्तरावर आधारित रूटिंग\n",
    "- **मल्टी-स्टेज प्रक्रिया**: डेटा गुणवत्ता, पूर्णतेवर आधारित रूटिंग\n",
    "\n",
    "### 📚 पुढील पावले:\n",
    "\n",
    "- अधिक जटिल अटी जोडा (एकाधिक निकष)\n",
    "- वर्कफ्लो स्टेट मॅनेजमेंटसह लूप्स अंमलात आणा\n",
    "- पुनर्वापरयोग्य घटकांसाठी उप-वर्कफ्लो जोडा\n",
    "- वास्तविक APIs (हॉटेल बुकिंग, इन्व्हेंटरी सिस्टम्स) सह एकत्रित करा\n",
    "- त्रुटी हाताळणी आणि फॉलबॅक पथ जोडा\n",
    "- अंगभूत व्हिज्युअलायझेशन टूल्ससह वर्कफ्लो व्हिज्युअल करा\n"
   ]
  },
  {
   "cell_type": "markdown",
   "metadata": {},
   "source": [
    "\n---\n\n**अस्वीकरण**:  \nहा दस्तऐवज AI भाषांतर सेवा [Co-op Translator](https://github.com/Azure/co-op-translator) वापरून भाषांतरित करण्यात आला आहे. आम्ही अचूकतेसाठी प्रयत्नशील असलो तरी कृपया लक्षात ठेवा की स्वयंचलित भाषांतरांमध्ये त्रुटी किंवा अचूकतेचा अभाव असू शकतो. मूळ भाषेतील दस्तऐवज हा अधिकृत स्रोत मानला जावा. महत्त्वाच्या माहितीसाठी व्यावसायिक मानवी भाषांतराची शिफारस केली जाते. या भाषांतराचा वापर करून निर्माण होणाऱ्या कोणत्याही गैरसमज किंवा चुकीच्या अर्थासाठी आम्ही जबाबदार राहणार नाही.\n"
   ]
  }
 ],
 "metadata": {
  "kernelspec": {
   "display_name": ".venv (3.12.11)",
   "language": "python",
   "name": "python3"
  },
  "language_info": {
   "codemirror_mode": {
    "name": "ipython",
    "version": 3
   },
   "file_extension": ".py",
   "mimetype": "text/x-python",
   "name": "python",
   "nbconvert_exporter": "python",
   "pygments_lexer": "ipython3",
   "version": "3.12.11"
  },
  "coopTranslator": {
   "original_hash": "30364214cfd3cead472540c147b60b02",
   "translation_date": "2025-10-09T19:42:06+00:00",
   "source_file": "14-microsoft-agent-framework/code-samples/14-conditional-workflow.ipynb",
   "language_code": "mr"
  }
 },
 "nbformat": 4,
 "nbformat_minor": 5
}