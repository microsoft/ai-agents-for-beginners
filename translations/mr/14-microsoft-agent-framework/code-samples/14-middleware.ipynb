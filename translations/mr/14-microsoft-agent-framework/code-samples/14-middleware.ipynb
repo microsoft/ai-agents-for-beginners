{
 "cells": [
  {
   "cell_type": "markdown",
   "id": "263ac938",
   "metadata": {},
   "source": [
    "# हॉटेल बुकिंगसाठी प्राधान्य सदस्य मिडलवेअर\n",
    "\n",
    "या नोटबुकमध्ये Microsoft Agent Framework वापरून **फंक्शन-आधारित मिडलवेअर** कसे कार्य करते ते दाखवले आहे. आम्ही अटींवर आधारित कार्यप्रवाहाच्या उदाहरणावर आधारित काम करत आहोत आणि प्राधान्य सदस्यांना विशेष सुविधा देणारी मिडलवेअर स्तर जोडत आहोत.\n",
    "\n",
    "## तुम्ही काय शिकाल:\n",
    "1. **फंक्शन-आधारित मिडलवेअर**: फंक्शनचे परिणाम अडवणे आणि बदलणे\n",
    "2. **कंटेक्स्ट ऍक्सेस**: `context.result` वाचणे आणि अंमलबजावणीनंतर बदलणे\n",
    "3. **व्यवसाय तर्काची अंमलबजावणी**: प्राधान्य सदस्य लाभ\n",
    "4. **परिणाम ओव्हरराइड**: वापरकर्त्याच्या स्थितीनुसार फंक्शनचे परिणाम बदलणे\n",
    "5. **समान कार्यप्रवाह, वेगवेगळे परिणाम**: मिडलवेअरद्वारे वर्तन बदल\n",
    "\n",
    "## मिडलवेअरसह कार्यप्रवाहाची रचना:\n",
    "\n",
    "```\n",
    "User Input: \"I want to book a hotel in Paris\"\n",
    "                    ↓\n",
    "        [availability_agent]\n",
    "        - Calls hotel_booking tool\n",
    "        - 🌟 priority_check middleware intercepts\n",
    "        - Checks user membership status\n",
    "        - IF priority + no rooms → Override to available!\n",
    "        - Returns BookingCheckResult\n",
    "                    ↓\n",
    "        Conditional Routing\n",
    "           /                    \\\n",
    "    [has_availability]    [no_availability]\n",
    "          ↓                      ↓\n",
    "    [booking_agent]        [alternative_agent]\n",
    "    (Priority override!)   (Regular users)\n",
    "          ↓                      ↓\n",
    "       [display_result executor]\n",
    "```\n",
    "\n",
    "## अटींवर आधारित कार्यप्रवाहापेक्षा मुख्य फरक:\n",
    "\n",
    "**मिडलवेअरशिवाय** (14-conditional-workflow.ipynb):\n",
    "- पॅरिसमध्ये खोल्या नाहीत → alternative_agent कडे रूट करा\n",
    "\n",
    "**मिडलवेअर सह** (या नोटबुकमध्ये):\n",
    "- नियमित वापरकर्ता + पॅरिस → खोल्या नाहीत → alternative_agent कडे रूट करा\n",
    "- प्राधान्य वापरकर्ता + पॅरिस → 🌟 मिडलवेअर ओव्हरराइड! → उपलब्ध → booking_agent कडे रूट करा\n",
    "\n",
    "## पूर्वअट:\n",
    "- Microsoft Agent Framework स्थापित केलेला असणे\n",
    "- अटींवर आधारित कार्यप्रवाह समजणे (14-conditional-workflow.ipynb पहा)\n",
    "- GitHub टोकन किंवा OpenAI API की\n",
    "- मिडलवेअर पॅटर्न्सची मूलभूत समज\n"
   ]
  },
  {
   "cell_type": "code",
   "execution_count": 2,
   "id": "ec6cafec",
   "metadata": {},
   "outputs": [
    {
     "name": "stdout",
     "output_type": "stream",
     "text": [
      "✅ All imports successful!\n"
     ]
    }
   ],
   "source": [
    "import asyncio\n",
    "import json\n",
    "import os\n",
    "from collections.abc import Awaitable, Callable\n",
    "from typing import Annotated, Any, Never\n",
    "\n",
    "from agent_framework import (\n",
    "    AgentExecutor,\n",
    "    AgentExecutorRequest,\n",
    "    AgentExecutorResponse,\n",
    "    ChatMessage,\n",
    "    FunctionInvocationContext,\n",
    "    Role,\n",
    "    WorkflowBuilder,\n",
    "    WorkflowContext,\n",
    "    ai_function,\n",
    "    executor,\n",
    ")\n",
    "\n",
    "# 🤖 GitHub Models or OpenAI client integration\n",
    "from agent_framework.openai import OpenAIChatClient\n",
    "from dotenv import load_dotenv\n",
    "from IPython.display import HTML, display\n",
    "from pydantic import BaseModel\n",
    "\n",
    "print(\"✅ All imports successful!\")"
   ]
  },
  {
   "cell_type": "markdown",
   "id": "4d67d9a1",
   "metadata": {},
   "source": [
    "## चरण 1: संरचित आउटपुटसाठी Pydantic मॉडेल्स परिभाषित करा\n",
    "\n",
    "हे मॉडेल्स एजंट्स परत करणार असलेल्या **स्कीमा** परिभाषित करतात. आम्ही `priority_override` फील्ड जोडली आहे जेव्हा मिडलवेअर उपलब्धता परिणाम बदलते तेव्हा त्याचा मागोवा ठेवण्यासाठी.\n"
   ]
  },
  {
   "cell_type": "code",
   "execution_count": 3,
   "id": "9973ac54",
   "metadata": {},
   "outputs": [
    {
     "name": "stdout",
     "output_type": "stream",
     "text": [
      "✅ Pydantic models defined:\n",
      "   - BookingCheckResult (availability check with priority_override)\n",
      "   - AlternativeResult (alternative suggestion)\n",
      "   - BookingConfirmation (booking confirmation)\n"
     ]
    }
   ],
   "source": [
    "class BookingCheckResult(BaseModel):\n",
    "    \"\"\"Result from checking hotel availability at a destination.\"\"\"\n",
    "\n",
    "    destination: str\n",
    "    has_availability: bool\n",
    "    message: str\n",
    "    priority_override: bool = False  # 🆕 NEW! Tracks if middleware overrode the result\n",
    "\n",
    "\n",
    "class AlternativeResult(BaseModel):\n",
    "    \"\"\"Suggested alternative destination when no rooms available.\"\"\"\n",
    "\n",
    "    alternative_destination: str\n",
    "    reason: str\n",
    "\n",
    "\n",
    "class BookingConfirmation(BaseModel):\n",
    "    \"\"\"Booking suggestion when rooms are available.\"\"\"\n",
    "\n",
    "    destination: str\n",
    "    action: str\n",
    "    message: str\n",
    "\n",
    "\n",
    "print(\"✅ Pydantic models defined:\")\n",
    "print(\"   - BookingCheckResult (availability check with priority_override)\")\n",
    "print(\"   - AlternativeResult (alternative suggestion)\")\n",
    "print(\"   - BookingConfirmation (booking confirmation)\")"
   ]
  },
  {
   "cell_type": "markdown",
   "id": "8e3d0853",
   "metadata": {},
   "source": [
    "## चरण 2: प्राधान्य सदस्य डेटाबेस परिभाषित करा\n",
    "\n",
    "या डेमोसाठी, आपण प्राधान्य सदस्यत्व डेटाबेसची नक्कल करणार आहोत. उत्पादनामध्ये, हे वास्तविक डेटाबेस किंवा API क्वेरी करेल.\n",
    "\n",
    "**प्राधान्य सदस्य:**\n",
    "- `alice@example.com` - व्हीआयपी सदस्य\n",
    "- `bob@example.com` - प्रीमियम सदस्य  \n",
    "- `priority_user` - चाचणी खाते\n"
   ]
  },
  {
   "cell_type": "code",
   "execution_count": 4,
   "id": "c6fc0feb",
   "metadata": {},
   "outputs": [
    {
     "name": "stdout",
     "output_type": "stream",
     "text": [
      "✅ Priority members database created\n",
      "   Priority members: 3 users\n"
     ]
    }
   ],
   "source": [
    "# Simulated priority members database\n",
    "PRIORITY_MEMBERS = {\n",
    "    \"alice@example.com\",\n",
    "    \"bob@example.com\",\n",
    "    \"priority_user\",\n",
    "}\n",
    "\n",
    "# Global variable to track current user (in real app, use proper session management)\n",
    "current_user_id = \"regular_user\"  # Default: regular user\n",
    "\n",
    "\n",
    "def set_user(user_id: str):\n",
    "    \"\"\"Set the current user for the session.\"\"\"\n",
    "    global current_user_id\n",
    "    current_user_id = user_id\n",
    "    is_priority = user_id in PRIORITY_MEMBERS\n",
    "    status = \"🌟 PRIORITY MEMBER\" if is_priority else \"👤 Regular User\"\n",
    "\n",
    "    display(\n",
    "        HTML(f\"\"\"\n",
    "        <div style='padding: 15px; background: {\"linear-gradient(135deg, #FFD700 0%, #FFA500 100%)\" if is_priority else \"#e3f2fd\"}; \n",
    "                    border-left: 4px solid {\"#FF6B35\" if is_priority else \"#2196f3\"}; border-radius: 4px; margin: 10px 0;'>\n",
    "            <strong>👤 Current User Set:</strong> {user_id}<br>\n",
    "            <strong>Status:</strong> {status}\n",
    "        </div>\n",
    "    \"\"\")\n",
    "    )\n",
    "\n",
    "\n",
    "print(\"✅ Priority members database created\")\n",
    "print(f\"   Priority members: {len(PRIORITY_MEMBERS)} users\")"
   ]
  },
  {
   "cell_type": "markdown",
   "id": "1b503f57",
   "metadata": {},
   "source": [
    "## चरण 3: हॉटेल बुकिंग टूल तयार करा\n",
    "\n",
    "पूर्वीच्या अटींवर आधारित कार्यप्रवाहासारखेच, परंतु आता ते मिडलवेअरद्वारे अडवले जाईल!\n"
   ]
  },
  {
   "cell_type": "code",
   "execution_count": 5,
   "id": "1e17f7f2",
   "metadata": {},
   "outputs": [
    {
     "name": "stdout",
     "output_type": "stream",
     "text": [
      "✅ hotel_booking tool created with @ai_function decorator\n"
     ]
    }
   ],
   "source": [
    "@ai_function(description=\"Check hotel room availability for a destination city\")\n",
    "def hotel_booking(destination: Annotated[str, \"The destination city to check for hotel rooms\"]) -> str:\n",
    "    \"\"\"\n",
    "    Simulates checking hotel room availability.\n",
    "    \n",
    "    Returns JSON string with availability status.\n",
    "    \"\"\"\n",
    "    display(\n",
    "        HTML(f\"\"\"\n",
    "        <div style='padding: 15px; background: #e3f2fd; border-left: 4px solid #2196f3; border-radius: 4px; margin: 10px 0;'>\n",
    "            <strong>🔍 Tool Invoked:</strong> hotel_booking(\"{destination}\")\n",
    "        </div>\n",
    "    \"\"\")\n",
    "    )\n",
    "\n",
    "    # Simulate availability check\n",
    "    cities_with_rooms = [\"stockholm\", \"seattle\", \"tokyo\", \"london\", \"amsterdam\"]\n",
    "    has_rooms = destination.lower() in cities_with_rooms\n",
    "\n",
    "    result = {\"has_availability\": has_rooms, \"destination\": destination}\n",
    "\n",
    "    return json.dumps(result)\n",
    "\n",
    "\n",
    "print(\"✅ hotel_booking tool created with @ai_function decorator\")"
   ]
  },
  {
   "cell_type": "markdown",
   "id": "88ffd637",
   "metadata": {},
   "source": [
    "## चरण 4: 🌟 प्राधान्य तपासणी मिडलवेअर तयार करा (मुख्य वैशिष्ट्य!)\n",
    "\n",
    "हे या नोटबुकचे **मुख्य कार्य** आहे. मिडलवेअर:\n",
    "\n",
    "1. **हॉटेल बुकिंग फंक्शन कॉल अडवते**\n",
    "2. `next(context)` कॉल करून फंक्शन सामान्यपणे **अंमलात आणते**\n",
    "3. `context.result` मधील निकाल **तपासते**\n",
    "4. जर वापरकर्ता प्राधान्य असलेला असेल आणि उपलब्ध खोल्या नसतील तर निकाल **ओव्हरराइड करते**\n",
    "5. **सुधारित निकाल एजंटला परत देते**\n",
    "\n",
    "**महत्त्वाचा नमुना:**\n",
    "```python\n",
    "async def my_middleware(context, next):\n",
    "    await next(context)  # Execute function\n",
    "    # Now context.result contains the function's output\n",
    "    if some_condition:\n",
    "        context.result = new_value  # Override!\n",
    "```\n"
   ]
  },
  {
   "cell_type": "code",
   "execution_count": 6,
   "id": "ba160f08",
   "metadata": {},
   "outputs": [
    {
     "name": "stdout",
     "output_type": "stream",
     "text": [
      "✅ priority_check_middleware created\n",
      "   - Intercepts hotel_booking function\n",
      "   - Overrides availability for priority members\n"
     ]
    }
   ],
   "source": [
    "async def priority_check_middleware(\n",
    "    context: FunctionInvocationContext,\n",
    "    next: Callable[[FunctionInvocationContext], Awaitable[None]],\n",
    ") -> None:\n",
    "    \"\"\"\n",
    "    Function middleware that overrides hotel_booking results for priority members.\n",
    "    \n",
    "    Workflow:\n",
    "    1. Let the function execute normally\n",
    "    2. Check if user is a priority member\n",
    "    3. If priority + no availability → Override to make rooms available!\n",
    "    4. Agent will then route to booking path instead of alternative path\n",
    "    \"\"\"\n",
    "    function_name = context.function.name\n",
    "\n",
    "    display(\n",
    "        HTML(f\"\"\"\n",
    "        <div style='padding: 12px; background: #fff3e0; border-left: 4px solid #ff9800; border-radius: 4px; margin: 10px 0;'>\n",
    "            <strong>🔄 Middleware:</strong> Intercepting {function_name}...\n",
    "        </div>\n",
    "    \"\"\")\n",
    "    )\n",
    "\n",
    "    # Execute the original function\n",
    "    await next(context)\n",
    "\n",
    "    # Now inspect and potentially modify the result\n",
    "    if context.result and function_name == \"hotel_booking\":\n",
    "        result_data = json.loads(context.result)\n",
    "        destination = result_data.get(\"destination\", \"\")\n",
    "        has_availability = result_data.get(\"has_availability\", False)\n",
    "\n",
    "        # Check if user is priority member\n",
    "        is_priority = current_user_id in PRIORITY_MEMBERS\n",
    "\n",
    "        # Override logic: Priority member + no availability → Make available!\n",
    "        if is_priority and not has_availability:\n",
    "            display(\n",
    "                HTML(f\"\"\"\n",
    "                <div style='padding: 20px; background: linear-gradient(135deg, #FFD700 0%, #FFA500 100%); \n",
    "                            border-radius: 8px; margin: 10px 0; box-shadow: 0 4px 12px rgba(255,165,0,0.4);'>\n",
    "                    <h3 style='margin: 0 0 10px 0; color: #333;'>🌟 PRIORITY OVERRIDE ACTIVATED! 🌟</h3>\n",
    "                    <p style='margin: 0; color: #555; line-height: 1.6;'>\n",
    "                        <strong>User:</strong> {current_user_id}<br>\n",
    "                        <strong>Status:</strong> VIP Priority Member<br>\n",
    "                        <strong>Action:</strong> Overriding \"No Availability\" for {destination}<br>\n",
    "                        <strong>Result:</strong> ✅ Rooms now available for priority booking!\n",
    "                    </p>\n",
    "                </div>\n",
    "            \"\"\")\n",
    "            )\n",
    "\n",
    "            # Override the result!\n",
    "            result_data[\"has_availability\"] = True\n",
    "            result_data[\"priority_override\"] = True\n",
    "            context.result = json.dumps(result_data)\n",
    "\n",
    "        elif not has_availability:\n",
    "            display(\n",
    "                HTML(f\"\"\"\n",
    "                <div style='padding: 12px; background: #ffebee; border-left: 4px solid #f44336; border-radius: 4px; margin: 10px 0;'>\n",
    "                    <strong>ℹ️ Middleware:</strong> No priority override (user: {current_user_id})\n",
    "                </div>\n",
    "            \"\"\")\n",
    "            )\n",
    "\n",
    "\n",
    "print(\"✅ priority_check_middleware created\")\n",
    "print(\"   - Intercepts hotel_booking function\")\n",
    "print(\"   - Overrides availability for priority members\")"
   ]
  },
  {
   "cell_type": "markdown",
   "id": "630b6c2b",
   "metadata": {},
   "source": [
    "## चरण ५: रूटिंगसाठी अटींच्या फंक्शन्स परिभाषित करा\n",
    "\n",
    "सशर्त कार्यप्रवाहासारख्या अटींच्या फंक्शन्स - ते संरचित आउटपुट तपासून रूटिंग निश्चित करतात.\n"
   ]
  },
  {
   "cell_type": "code",
   "execution_count": 7,
   "id": "c82b0633",
   "metadata": {},
   "outputs": [
    {
     "name": "stdout",
     "output_type": "stream",
     "text": [
      "✅ Condition functions defined\n"
     ]
    }
   ],
   "source": [
    "def has_availability_condition(message: Any) -> bool:\n",
    "    \"\"\"Condition for routing when hotels ARE available (including priority overrides!).\"\"\"\n",
    "    if not isinstance(message, AgentExecutorResponse):\n",
    "        return True\n",
    "\n",
    "    try:\n",
    "        result = BookingCheckResult.model_validate_json(message.agent_run_response.text)\n",
    "\n",
    "        # Check if this was a priority override\n",
    "        override_indicator = \" 🌟\" if result.priority_override else \"\"\n",
    "\n",
    "        display(\n",
    "            HTML(f\"\"\"\n",
    "            <div style='padding: 12px; background: #c8e6c9; border-left: 4px solid #4caf50; border-radius: 4px; margin: 10px 0;'>\n",
    "                <strong>✅ Condition Check:</strong> has_availability = <strong>{result.has_availability}</strong> for {result.destination}{override_indicator}\n",
    "            </div>\n",
    "        \"\"\")\n",
    "        )\n",
    "\n",
    "        return result.has_availability\n",
    "    except Exception as e:\n",
    "        display(\n",
    "            HTML(f\"\"\"\n",
    "            <div style='padding: 12px; background: #ffcdd2; border-left: 4px solid #f44336; border-radius: 4px; margin: 10px 0;'>\n",
    "                <strong>⚠️  Error:</strong> {str(e)}\n",
    "            </div>\n",
    "        \"\"\")\n",
    "        )\n",
    "        return False\n",
    "\n",
    "\n",
    "def no_availability_condition(message: Any) -> bool:\n",
    "    \"\"\"Condition for routing when hotels are NOT available.\"\"\"\n",
    "    if not isinstance(message, AgentExecutorResponse):\n",
    "        return False\n",
    "\n",
    "    try:\n",
    "        result = BookingCheckResult.model_validate_json(message.agent_run_response.text)\n",
    "\n",
    "        display(\n",
    "            HTML(f\"\"\"\n",
    "            <div style='padding: 12px; background: #ffecb3; border-left: 4px solid #ff9800; border-radius: 4px; margin: 10px 0;'>\n",
    "                <strong>❌ Condition Check:</strong> no_availability for {result.destination}\n",
    "            </div>\n",
    "        \"\"\")\n",
    "        )\n",
    "\n",
    "        return not result.has_availability\n",
    "    except Exception:\n",
    "        return False\n",
    "\n",
    "\n",
    "print(\"✅ Condition functions defined\")"
   ]
  },
  {
   "cell_type": "markdown",
   "id": "2189c529",
   "metadata": {},
   "source": [
    "## चरण 6: कस्टम डिस्प्ले एक्झिक्युटर तयार करा\n",
    "\n",
    "पूर्वीप्रमाणेच एक्झिक्युटर - अंतिम वर्कफ्लो आउटपुट दर्शवतो.\n"
   ]
  },
  {
   "cell_type": "code",
   "execution_count": 8,
   "id": "a4cc88da",
   "metadata": {},
   "outputs": [
    {
     "name": "stdout",
     "output_type": "stream",
     "text": [
      "✅ display_result executor created\n"
     ]
    }
   ],
   "source": [
    "@executor(id=\"display_result\")\n",
    "async def display_result(response: AgentExecutorResponse, ctx: WorkflowContext[Never, str]) -> None:\n",
    "    \"\"\"Display the final result as workflow output.\"\"\"\n",
    "    display(\n",
    "        HTML(\"\"\"\n",
    "        <div style='padding: 15px; background: #f3e5f5; border-left: 4px solid #9c27b0; border-radius: 4px; margin: 10px 0;'>\n",
    "            <strong>📤 Display Executor:</strong> Yielding workflow output\n",
    "        </div>\n",
    "    \"\"\")\n",
    "    )\n",
    "\n",
    "    await ctx.yield_output(response.agent_run_response.text)\n",
    "\n",
    "\n",
    "print(\"✅ display_result executor created\")"
   ]
  },
  {
   "cell_type": "markdown",
   "id": "18b1857c",
   "metadata": {},
   "source": [
    "## चरण ७: पर्यावरणीय चल (Environment Variables) लोड करा\n",
    "\n",
    "LLM क्लायंट (GitHub Models किंवा OpenAI) कॉन्फिगर करा.\n"
   ]
  },
  {
   "cell_type": "code",
   "execution_count": 10,
   "id": "5e6584c2",
   "metadata": {},
   "outputs": [],
   "source": [
    "# Load environment variables\n",
    "load_dotenv()\n",
    "\n",
    "# Check for GitHub Models or OpenAI\n",
    "chat_client = OpenAIChatClient(base_url=os.environ.get(\n",
    "    \"GITHUB_ENDPOINT\"), api_key=os.environ.get(\"GITHUB_TOKEN\"), model_id=\"gpt-4o\")\n"
   ]
  },
  {
   "cell_type": "markdown",
   "id": "e4993e63",
   "metadata": {},
   "source": [
    "## चरण 8: मिडलवेअरसह AI एजंट तयार करा\n",
    "\n",
    "**महत्त्वाचा फरक:** उपलब्धता_agent तयार करताना, आम्ही `middleware` पॅरामीटर पास करतो!\n",
    "\n",
    "याद्वारेच आम्ही priority_check_middleware एजंटच्या फंक्शन कॉल पाईपलाइनमध्ये समाविष्ट करतो.\n"
   ]
  },
  {
   "cell_type": "code",
   "execution_count": null,
   "id": "8218790d",
   "metadata": {},
   "outputs": [
    {
     "data": {
      "text/html": [
       "\n",
       "    <div style='padding: 15px; background: #e3f2fd; border-left: 4px solid #2196f3; border-radius: 4px; margin: 10px 0;'>\n",
       "        <strong>✅ Created 3 Agents:</strong>\n",
       "        <ul style='margin: 10px 0 0 0;'>\n",
       "            <li><strong>availability_agent</strong> - WITH priority_check_middleware 🌟</li>\n",
       "            <li><strong>alternative_agent</strong> - Suggests alternative cities</li>\n",
       "            <li><strong>booking_agent</strong> - Encourages booking</li>\n",
       "        </ul>\n",
       "    </div>\n"
      ],
      "text/plain": [
       "<IPython.core.display.HTML object>"
      ]
     },
     "metadata": {},
     "output_type": "display_data"
    }
   ],
   "source": [
    "# Agent 1: Check availability with tool + middleware\n",
    "availability_agent = AgentExecutor(\n",
    "    chat_client.create_agent(\n",
    "        instructions=(\n",
    "            \"You are a hotel booking assistant that checks room availability. \"\n",
    "            \"Use the hotel_booking tool to check if rooms are available at the destination. \"\n",
    "            \"Return JSON with fields: destination (string), has_availability (bool), message (string), \"\n",
    "            \"and priority_override (bool, true if priority member got special access). \"\n",
    "            \"The message should summarize the availability status and mention if priority override occurred.\"\n",
    "        ),\n",
    "        tools=[hotel_booking],\n",
    "        response_format=BookingCheckResult,\n",
    "        middleware=[priority_check_middleware],  # 🌟 MIDDLEWARE INJECTION!\n",
    "    ),\n",
    "    id=\"availability_agent\",\n",
    ")\n",
    "\n",
    "# Agent 2: Suggest alternative (when no rooms)\n",
    "alternative_agent = AgentExecutor(\n",
    "    chat_client.create_agent(\n",
    "        instructions=(\n",
    "            \"You are a helpful travel assistant. When a user cannot find hotels in their requested city, \"\n",
    "            \"suggest an alternative nearby city that has availability. \"\n",
    "            \"Return JSON with fields: alternative_destination (string) and reason (string). \"\n",
    "            \"Make your suggestion sound appealing and helpful.\"\n",
    "        ),\n",
    "        response_format=AlternativeResult,\n",
    "    ),\n",
    "    id=\"alternative_agent\",\n",
    ")\n",
    "\n",
    "# Agent 3: Suggest booking (when rooms available)\n",
    "booking_agent = AgentExecutor(\n",
    "    chat_client.create_agent(\n",
    "        instructions=(\n",
    "            \"You are a booking assistant. The user has found available hotel rooms. \"\n",
    "            \"Encourage them to book by highlighting the destination's appeal. \"\n",
    "            \"If priority_override is true in the input, mention that they received priority member access. \"\n",
    "            \"Return JSON with fields: destination (string), action (string), and message (string). \"\n",
    "            \"The action should be 'book_now' and message should be encouraging.\"\n",
    "        ),\n",
    "        response_format=BookingConfirmation,\n",
    "    ),\n",
    "    id=\"booking_agent\",\n",
    ")\n",
    "\n",
    "display(\n",
    "    HTML(\"\"\"\n",
    "    <div style='padding: 15px; background: #e3f2fd; border-left: 4px solid #2196f3; border-radius: 4px; margin: 10px 0;'>\n",
    "        <strong>✅ Created 3 Agents:</strong>\n",
    "        <ul style='margin: 10px 0 0 0;'>\n",
    "            <li><strong>availability_agent</strong> - WITH priority_check_middleware 🌟</li>\n",
    "            <li><strong>alternative_agent</strong> - Suggests alternative cities</li>\n",
    "            <li><strong>booking_agent</strong> - Encourages booking</li>\n",
    "        </ul>\n",
    "    </div>\n",
    "\"\"\")\n",
    ")"
   ]
  },
  {
   "cell_type": "markdown",
   "id": "c6c2ac90",
   "metadata": {},
   "source": [
    "## चरण 9: कार्यप्रवाह तयार करा\n",
    "\n",
    "पूर्वीप्रमाणेच कार्यप्रवाहाची रचना - उपलब्धतेवर आधारित सशर्त मार्गक्रमण.\n"
   ]
  },
  {
   "cell_type": "code",
   "execution_count": 12,
   "id": "9cc9b853",
   "metadata": {},
   "outputs": [
    {
     "data": {
      "text/html": [
       "\n",
       "    <div style='padding: 20px; background: linear-gradient(135deg, #667eea 0%, #764ba2 100%); color: white; border-radius: 8px; margin: 10px 0;'>\n",
       "        <h3 style='margin: 0 0 15px 0;'>✅ Workflow Built Successfully!</h3>\n",
       "        <p style='margin: 0; line-height: 1.6;'>\n",
       "            <strong>Conditional Routing (Middleware-Aware):</strong><br>\n",
       "            • If <strong>NO availability</strong> → alternative_agent → display_result<br>\n",
       "            • If <strong>availability</strong> (or 🌟 <strong>priority override</strong>) → booking_agent → display_result\n",
       "        </p>\n",
       "    </div>\n"
      ],
      "text/plain": [
       "<IPython.core.display.HTML object>"
      ]
     },
     "metadata": {},
     "output_type": "display_data"
    }
   ],
   "source": [
    "# Build the workflow with conditional routing\n",
    "workflow = (\n",
    "    WorkflowBuilder()\n",
    "    .set_start_executor(availability_agent)\n",
    "    # NO AVAILABILITY PATH\n",
    "    .add_edge(availability_agent, alternative_agent, condition=no_availability_condition)\n",
    "    .add_edge(alternative_agent, display_result)\n",
    "    # HAS AVAILABILITY PATH (can be triggered by middleware override!)\n",
    "    .add_edge(availability_agent, booking_agent, condition=has_availability_condition)\n",
    "    .add_edge(booking_agent, display_result)\n",
    "    .build()\n",
    ")\n",
    "\n",
    "display(\n",
    "    HTML(\"\"\"\n",
    "    <div style='padding: 20px; background: linear-gradient(135deg, #667eea 0%, #764ba2 100%); color: white; border-radius: 8px; margin: 10px 0;'>\n",
    "        <h3 style='margin: 0 0 15px 0;'>✅ Workflow Built Successfully!</h3>\n",
    "        <p style='margin: 0; line-height: 1.6;'>\n",
    "            <strong>Conditional Routing (Middleware-Aware):</strong><br>\n",
    "            • If <strong>NO availability</strong> → alternative_agent → display_result<br>\n",
    "            • If <strong>availability</strong> (or 🌟 <strong>priority override</strong>) → booking_agent → display_result\n",
    "        </p>\n",
    "    </div>\n",
    "\"\"\")\n",
    ")"
   ]
  },
  {
   "cell_type": "markdown",
   "id": "56c53031",
   "metadata": {},
   "source": [
    "## चरण 10: चाचणी प्रकरण 1 - पॅरिसमधील नियमित वापरकर्ता (कोणताही ओव्हरराइड नाही)\n",
    "\n",
    "एक नियमित वापरकर्ता पॅरिस बुक करण्याचा प्रयत्न करतो → कोणतीही खोली उपलब्ध नाही → पर्यायी एजंटकडे मार्गक्रमण\n"
   ]
  },
  {
   "cell_type": "code",
   "execution_count": 13,
   "id": "e8cf4e21",
   "metadata": {},
   "outputs": [
    {
     "data": {
      "text/html": [
       "\n",
       "        <div style='padding: 15px; background: #e3f2fd; \n",
       "                    border-left: 4px solid #2196f3; border-radius: 4px; margin: 10px 0;'>\n",
       "            <strong>👤 Current User Set:</strong> regular_user<br>\n",
       "            <strong>Status:</strong> 👤 Regular User\n",
       "        </div>\n",
       "    "
      ],
      "text/plain": [
       "<IPython.core.display.HTML object>"
      ]
     },
     "metadata": {},
     "output_type": "display_data"
    },
    {
     "data": {
      "text/html": [
       "\n",
       "    <div style='padding: 20px; background: #fff3e0; border-left: 4px solid #ff9800; border-radius: 8px; margin: 20px 0;'>\n",
       "        <h3 style='margin: 0 0 10px 0; color: #e65100;'>🧪 TEST CASE 1: Regular User + Paris</h3>\n",
       "        <p style='margin: 0;'><strong>Expected:</strong> No rooms → No middleware override → Alternative suggestion</p>\n",
       "    </div>\n"
      ],
      "text/plain": [
       "<IPython.core.display.HTML object>"
      ]
     },
     "metadata": {},
     "output_type": "display_data"
    },
    {
     "data": {
      "text/html": [
       "\n",
       "        <div style='padding: 12px; background: #fff3e0; border-left: 4px solid #ff9800; border-radius: 4px; margin: 10px 0;'>\n",
       "            <strong>🔄 Middleware:</strong> Intercepting hotel_booking...\n",
       "        </div>\n",
       "    "
      ],
      "text/plain": [
       "<IPython.core.display.HTML object>"
      ]
     },
     "metadata": {},
     "output_type": "display_data"
    },
    {
     "data": {
      "text/html": [
       "\n",
       "        <div style='padding: 15px; background: #e3f2fd; border-left: 4px solid #2196f3; border-radius: 4px; margin: 10px 0;'>\n",
       "            <strong>🔍 Tool Invoked:</strong> hotel_booking(\"Paris\")\n",
       "        </div>\n",
       "    "
      ],
      "text/plain": [
       "<IPython.core.display.HTML object>"
      ]
     },
     "metadata": {},
     "output_type": "display_data"
    },
    {
     "data": {
      "text/html": [
       "\n",
       "                <div style='padding: 12px; background: #ffebee; border-left: 4px solid #f44336; border-radius: 4px; margin: 10px 0;'>\n",
       "                    <strong>ℹ️ Middleware:</strong> No priority override (user: regular_user)\n",
       "                </div>\n",
       "            "
      ],
      "text/plain": [
       "<IPython.core.display.HTML object>"
      ]
     },
     "metadata": {},
     "output_type": "display_data"
    },
    {
     "data": {
      "text/html": [
       "\n",
       "            <div style='padding: 12px; background: #ffecb3; border-left: 4px solid #ff9800; border-radius: 4px; margin: 10px 0;'>\n",
       "                <strong>❌ Condition Check:</strong> no_availability for Paris\n",
       "            </div>\n",
       "        "
      ],
      "text/plain": [
       "<IPython.core.display.HTML object>"
      ]
     },
     "metadata": {},
     "output_type": "display_data"
    },
    {
     "data": {
      "text/html": [
       "\n",
       "            <div style='padding: 12px; background: #c8e6c9; border-left: 4px solid #4caf50; border-radius: 4px; margin: 10px 0;'>\n",
       "                <strong>✅ Condition Check:</strong> has_availability = <strong>False</strong> for Paris\n",
       "            </div>\n",
       "        "
      ],
      "text/plain": [
       "<IPython.core.display.HTML object>"
      ]
     },
     "metadata": {},
     "output_type": "display_data"
    },
    {
     "data": {
      "text/html": [
       "\n",
       "        <div style='padding: 15px; background: #f3e5f5; border-left: 4px solid #9c27b0; border-radius: 4px; margin: 10px 0;'>\n",
       "            <strong>📤 Display Executor:</strong> Yielding workflow output\n",
       "        </div>\n",
       "    "
      ],
      "text/plain": [
       "<IPython.core.display.HTML object>"
      ]
     },
     "metadata": {},
     "output_type": "display_data"
    },
    {
     "data": {
      "text/html": [
       "\n",
       "        <div style='padding: 25px; background: #fff; border: 2px solid #ff9800; border-radius: 12px; margin: 20px 0;'>\n",
       "            <h3 style='margin: 0 0 15px 0; color: #e65100;'>📊 RESULT (Regular User)</h3>\n",
       "            <div style='background: #fff3e0; padding: 20px; border-radius: 8px;'>\n",
       "                <p style='margin: 0 0 10px 0;'><strong>Status:</strong> ❌ No rooms in Paris</p>\n",
       "                <p style='margin: 0 0 10px 0;'><strong>Middleware:</strong> No priority override (regular user)</p>\n",
       "                <p style='margin: 0 0 10px 0;'><strong>Alternative:</strong> 🏨 London</p>\n",
       "                <p style='margin: 0;'><strong>Reason:</strong> Although there are no accommodations available in Paris at this time, you can explore London as an excellent alternative, known for its rich history, iconic landmarks, and vibrant cultural scene.</p>\n",
       "            </div>\n",
       "        </div>\n",
       "    "
      ],
      "text/plain": [
       "<IPython.core.display.HTML object>"
      ]
     },
     "metadata": {},
     "output_type": "display_data"
    }
   ],
   "source": [
    "# Set as regular user\n",
    "set_user(\"regular_user\")\n",
    "\n",
    "display(\n",
    "    HTML(\"\"\"\n",
    "    <div style='padding: 20px; background: #fff3e0; border-left: 4px solid #ff9800; border-radius: 8px; margin: 20px 0;'>\n",
    "        <h3 style='margin: 0 0 10px 0; color: #e65100;'>🧪 TEST CASE 1: Regular User + Paris</h3>\n",
    "        <p style='margin: 0;'><strong>Expected:</strong> No rooms → No middleware override → Alternative suggestion</p>\n",
    "    </div>\n",
    "\"\"\")\n",
    ")\n",
    "\n",
    "# Create request\n",
    "request_regular = AgentExecutorRequest(\n",
    "    messages=[ChatMessage(Role.USER, text=\"I want to book a hotel in Paris\")], should_respond=True\n",
    ")\n",
    "\n",
    "# Run workflow\n",
    "events_regular = await workflow.run(request_regular)\n",
    "outputs_regular = events_regular.get_outputs()\n",
    "\n",
    "# Display results\n",
    "if outputs_regular:\n",
    "    result_regular = AlternativeResult.model_validate_json(outputs_regular[0])\n",
    "\n",
    "    display(\n",
    "        HTML(f\"\"\"\n",
    "        <div style='padding: 25px; background: #fff; border: 2px solid #ff9800; border-radius: 12px; margin: 20px 0;'>\n",
    "            <h3 style='margin: 0 0 15px 0; color: #e65100;'>📊 RESULT (Regular User)</h3>\n",
    "            <div style='background: #fff3e0; padding: 20px; border-radius: 8px;'>\n",
    "                <p style='margin: 0 0 10px 0;'><strong>Status:</strong> ❌ No rooms in Paris</p>\n",
    "                <p style='margin: 0 0 10px 0;'><strong>Middleware:</strong> No priority override (regular user)</p>\n",
    "                <p style='margin: 0 0 10px 0;'><strong>Alternative:</strong> 🏨 {result_regular.alternative_destination}</p>\n",
    "                <p style='margin: 0;'><strong>Reason:</strong> {result_regular.reason}</p>\n",
    "            </div>\n",
    "        </div>\n",
    "    \"\"\")\n",
    "    )"
   ]
  },
  {
   "cell_type": "markdown",
   "id": "cea981b0",
   "metadata": {},
   "source": [
    "## चरण 11: चाचणी प्रकरण 2 - 🌟 प्राधान्य वापरकर्ता पॅरिसमध्ये (ओव्हरराइडसह!)\n",
    "\n",
    "एक प्राधान्य सदस्य पॅरिस बुक करण्याचा प्रयत्न करतो → सुरुवातीला कोणतीही खोली उपलब्ध नाही → 🌟 मिडलवेअर ओव्हरराइड करते! → booking_agent कडे रूट होते\n",
    "\n",
    "**हे मिडलवेअरच्या सामर्थ्याचे मुख्य प्रदर्शन आहे!**\n"
   ]
  },
  {
   "cell_type": "code",
   "execution_count": 14,
   "id": "d390f5ac",
   "metadata": {},
   "outputs": [
    {
     "data": {
      "text/html": [
       "\n",
       "        <div style='padding: 15px; background: linear-gradient(135deg, #FFD700 0%, #FFA500 100%); \n",
       "                    border-left: 4px solid #FF6B35; border-radius: 4px; margin: 10px 0;'>\n",
       "            <strong>👤 Current User Set:</strong> priority_user<br>\n",
       "            <strong>Status:</strong> 🌟 PRIORITY MEMBER\n",
       "        </div>\n",
       "    "
      ],
      "text/plain": [
       "<IPython.core.display.HTML object>"
      ]
     },
     "metadata": {},
     "output_type": "display_data"
    },
    {
     "data": {
      "text/html": [
       "\n",
       "    <div style='padding: 20px; background: linear-gradient(135deg, #FFD700 0%, #FFA500 100%); border-radius: 8px; margin: 20px 0;'>\n",
       "        <h3 style='margin: 0 0 10px 0; color: #333;'>🧪 TEST CASE 2: 🌟 Priority User + Paris</h3>\n",
       "        <p style='margin: 0; color: #555;'><strong>Expected:</strong> No rooms → 🌟 MIDDLEWARE OVERRIDE → Rooms available → Booking suggestion!</p>\n",
       "    </div>\n"
      ],
      "text/plain": [
       "<IPython.core.display.HTML object>"
      ]
     },
     "metadata": {},
     "output_type": "display_data"
    },
    {
     "data": {
      "text/html": [
       "\n",
       "        <div style='padding: 12px; background: #fff3e0; border-left: 4px solid #ff9800; border-radius: 4px; margin: 10px 0;'>\n",
       "            <strong>🔄 Middleware:</strong> Intercepting hotel_booking...\n",
       "        </div>\n",
       "    "
      ],
      "text/plain": [
       "<IPython.core.display.HTML object>"
      ]
     },
     "metadata": {},
     "output_type": "display_data"
    },
    {
     "data": {
      "text/html": [
       "\n",
       "        <div style='padding: 15px; background: #e3f2fd; border-left: 4px solid #2196f3; border-radius: 4px; margin: 10px 0;'>\n",
       "            <strong>🔍 Tool Invoked:</strong> hotel_booking(\"Paris\")\n",
       "        </div>\n",
       "    "
      ],
      "text/plain": [
       "<IPython.core.display.HTML object>"
      ]
     },
     "metadata": {},
     "output_type": "display_data"
    },
    {
     "data": {
      "text/html": [
       "\n",
       "                <div style='padding: 20px; background: linear-gradient(135deg, #FFD700 0%, #FFA500 100%); \n",
       "                            border-radius: 8px; margin: 10px 0; box-shadow: 0 4px 12px rgba(255,165,0,0.4);'>\n",
       "                    <h3 style='margin: 0 0 10px 0; color: #333;'>🌟 PRIORITY OVERRIDE ACTIVATED! 🌟</h3>\n",
       "                    <p style='margin: 0; color: #555; line-height: 1.6;'>\n",
       "                        <strong>User:</strong> priority_user<br>\n",
       "                        <strong>Status:</strong> VIP Priority Member<br>\n",
       "                        <strong>Action:</strong> Overriding \"No Availability\" for Paris<br>\n",
       "                        <strong>Result:</strong> ✅ Rooms now available for priority booking!\n",
       "                    </p>\n",
       "                </div>\n",
       "            "
      ],
      "text/plain": [
       "<IPython.core.display.HTML object>"
      ]
     },
     "metadata": {},
     "output_type": "display_data"
    },
    {
     "data": {
      "text/html": [
       "\n",
       "            <div style='padding: 12px; background: #ffecb3; border-left: 4px solid #ff9800; border-radius: 4px; margin: 10px 0;'>\n",
       "                <strong>❌ Condition Check:</strong> no_availability for Paris\n",
       "            </div>\n",
       "        "
      ],
      "text/plain": [
       "<IPython.core.display.HTML object>"
      ]
     },
     "metadata": {},
     "output_type": "display_data"
    },
    {
     "data": {
      "text/html": [
       "\n",
       "            <div style='padding: 12px; background: #c8e6c9; border-left: 4px solid #4caf50; border-radius: 4px; margin: 10px 0;'>\n",
       "                <strong>✅ Condition Check:</strong> has_availability = <strong>True</strong> for Paris 🌟\n",
       "            </div>\n",
       "        "
      ],
      "text/plain": [
       "<IPython.core.display.HTML object>"
      ]
     },
     "metadata": {},
     "output_type": "display_data"
    },
    {
     "data": {
      "text/html": [
       "\n",
       "        <div style='padding: 15px; background: #f3e5f5; border-left: 4px solid #9c27b0; border-radius: 4px; margin: 10px 0;'>\n",
       "            <strong>📤 Display Executor:</strong> Yielding workflow output\n",
       "        </div>\n",
       "    "
      ],
      "text/plain": [
       "<IPython.core.display.HTML object>"
      ]
     },
     "metadata": {},
     "output_type": "display_data"
    },
    {
     "data": {
      "text/html": [
       "\n",
       "        <div style='padding: 25px; background: linear-gradient(135deg, #FFD700 0%, #FFA500 100%); border-radius: 12px; \n",
       "                    box-shadow: 0 8px 16px rgba(255,165,0,0.4); margin: 20px 0;'>\n",
       "            <h3 style='margin: 0 0 15px 0; color: #333;'>🏆 RESULT (Priority Member) 🌟</h3>\n",
       "            <div style='background: white; padding: 20px; border-radius: 8px;'>\n",
       "                <p style='margin: 0 0 10px 0; font-size: 16px;'><strong>Status:</strong> ✅ Rooms Available (Priority Override!)</p>\n",
       "                <p style='margin: 0 0 10px 0; font-size: 16px;'><strong>Middleware:</strong> 🌟 OVERRIDE ACTIVATED!</p>\n",
       "                <p style='margin: 0 0 10px 0; font-size: 16px;'><strong>Destination:</strong> 🏨 Paris</p>\n",
       "                <p style='margin: 0 0 10px 0; font-size: 16px;'><strong>Action:</strong> book_now</p>\n",
       "                <p style='margin: 0; font-size: 14px; color: #666;'><strong>Message:</strong> Experience the timeless charm of Paris! Rooms are available now, and as a priority member, you have exclusive access. Secure your booking today!</p>\n",
       "                <div style='margin-top: 15px; padding: 15px; background: #fff3cd; border-radius: 6px; border-left: 4px solid #FF6B35;'>\n",
       "                    <strong>💡 What Just Happened:</strong><br>\n",
       "                    1. hotel_booking tool returned \"no availability\"<br>\n",
       "                    2. priority_check_middleware intercepted the result<br>\n",
       "                    3. Middleware checked user status: priority_user ✅<br>\n",
       "                    4. Middleware OVERRODE the result to \"available\"<br>\n",
       "                    5. Workflow routed to booking_agent instead of alternative_agent!\n",
       "                </div>\n",
       "            </div>\n",
       "        </div>\n",
       "    "
      ],
      "text/plain": [
       "<IPython.core.display.HTML object>"
      ]
     },
     "metadata": {},
     "output_type": "display_data"
    }
   ],
   "source": [
    "# Set as priority user\n",
    "set_user(\"priority_user\")\n",
    "\n",
    "display(\n",
    "    HTML(\"\"\"\n",
    "    <div style='padding: 20px; background: linear-gradient(135deg, #FFD700 0%, #FFA500 100%); border-radius: 8px; margin: 20px 0;'>\n",
    "        <h3 style='margin: 0 0 10px 0; color: #333;'>🧪 TEST CASE 2: 🌟 Priority User + Paris</h3>\n",
    "        <p style='margin: 0; color: #555;'><strong>Expected:</strong> No rooms → 🌟 MIDDLEWARE OVERRIDE → Rooms available → Booking suggestion!</p>\n",
    "    </div>\n",
    "\"\"\")\n",
    ")\n",
    "\n",
    "# Create request\n",
    "request_priority = AgentExecutorRequest(\n",
    "    messages=[ChatMessage(Role.USER, text=\"I want to book a hotel in Paris\")], should_respond=True\n",
    ")\n",
    "\n",
    "# Run workflow\n",
    "events_priority = await workflow.run(request_priority)\n",
    "outputs_priority = events_priority.get_outputs()\n",
    "\n",
    "# Display results\n",
    "if outputs_priority:\n",
    "    result_priority = BookingConfirmation.model_validate_json(outputs_priority[0])\n",
    "\n",
    "    display(\n",
    "        HTML(f\"\"\"\n",
    "        <div style='padding: 25px; background: linear-gradient(135deg, #FFD700 0%, #FFA500 100%); border-radius: 12px; \n",
    "                    box-shadow: 0 8px 16px rgba(255,165,0,0.4); margin: 20px 0;'>\n",
    "            <h3 style='margin: 0 0 15px 0; color: #333;'>🏆 RESULT (Priority Member) 🌟</h3>\n",
    "            <div style='background: white; padding: 20px; border-radius: 8px;'>\n",
    "                <p style='margin: 0 0 10px 0; font-size: 16px;'><strong>Status:</strong> ✅ Rooms Available (Priority Override!)</p>\n",
    "                <p style='margin: 0 0 10px 0; font-size: 16px;'><strong>Middleware:</strong> 🌟 OVERRIDE ACTIVATED!</p>\n",
    "                <p style='margin: 0 0 10px 0; font-size: 16px;'><strong>Destination:</strong> 🏨 {result_priority.destination}</p>\n",
    "                <p style='margin: 0 0 10px 0; font-size: 16px;'><strong>Action:</strong> {result_priority.action}</p>\n",
    "                <p style='margin: 0; font-size: 14px; color: #666;'><strong>Message:</strong> {result_priority.message}</p>\n",
    "                <div style='margin-top: 15px; padding: 15px; background: #fff3cd; border-radius: 6px; border-left: 4px solid #FF6B35;'>\n",
    "                    <strong>💡 What Just Happened:</strong><br>\n",
    "                    1. hotel_booking tool returned \"no availability\"<br>\n",
    "                    2. priority_check_middleware intercepted the result<br>\n",
    "                    3. Middleware checked user status: priority_user ✅<br>\n",
    "                    4. Middleware OVERRODE the result to \"available\"<br>\n",
    "                    5. Workflow routed to booking_agent instead of alternative_agent!\n",
    "                </div>\n",
    "            </div>\n",
    "        </div>\n",
    "    \"\"\")\n",
    "    )"
   ]
  },
  {
   "cell_type": "markdown",
   "id": "baab4b1a",
   "metadata": {},
   "source": [
    "## चरण 12: चाचणी प्रकरण 3 - स्टॉकहोममधील प्राधान्य वापरकर्ता (आधीपासून उपलब्ध)\n",
    "\n",
    "प्राधान्य वापरकर्ता स्टॉकहोम प्रयत्न करतो → खोल्या उपलब्ध आहेत → कोणत्याही ओव्हरराइडची गरज नाही → booking_agent कडे रूट होते\n",
    "\n",
    "हे दाखवते की middleware फक्त आवश्यक असल्यावरच कार्य करते!\n"
   ]
  },
  {
   "cell_type": "code",
   "execution_count": 15,
   "id": "316a0d31",
   "metadata": {},
   "outputs": [
    {
     "data": {
      "text/html": [
       "\n",
       "    <div style='padding: 20px; background: #e8f5e9; border-left: 4px solid #4caf50; border-radius: 8px; margin: 20px 0;'>\n",
       "        <h3 style='margin: 0 0 10px 0; color: #1b5e20;'>🧪 TEST CASE 3: Priority User + Stockholm</h3>\n",
       "        <p style='margin: 0;'><strong>Expected:</strong> Rooms available → No override needed → Booking suggestion</p>\n",
       "    </div>\n"
      ],
      "text/plain": [
       "<IPython.core.display.HTML object>"
      ]
     },
     "metadata": {},
     "output_type": "display_data"
    },
    {
     "data": {
      "text/html": [
       "\n",
       "        <div style='padding: 12px; background: #fff3e0; border-left: 4px solid #ff9800; border-radius: 4px; margin: 10px 0;'>\n",
       "            <strong>🔄 Middleware:</strong> Intercepting hotel_booking...\n",
       "        </div>\n",
       "    "
      ],
      "text/plain": [
       "<IPython.core.display.HTML object>"
      ]
     },
     "metadata": {},
     "output_type": "display_data"
    },
    {
     "data": {
      "text/html": [
       "\n",
       "        <div style='padding: 15px; background: #e3f2fd; border-left: 4px solid #2196f3; border-radius: 4px; margin: 10px 0;'>\n",
       "            <strong>🔍 Tool Invoked:</strong> hotel_booking(\"Stockholm\")\n",
       "        </div>\n",
       "    "
      ],
      "text/plain": [
       "<IPython.core.display.HTML object>"
      ]
     },
     "metadata": {},
     "output_type": "display_data"
    },
    {
     "data": {
      "text/html": [
       "\n",
       "            <div style='padding: 12px; background: #ffecb3; border-left: 4px solid #ff9800; border-radius: 4px; margin: 10px 0;'>\n",
       "                <strong>❌ Condition Check:</strong> no_availability for Stockholm\n",
       "            </div>\n",
       "        "
      ],
      "text/plain": [
       "<IPython.core.display.HTML object>"
      ]
     },
     "metadata": {},
     "output_type": "display_data"
    },
    {
     "data": {
      "text/html": [
       "\n",
       "            <div style='padding: 12px; background: #c8e6c9; border-left: 4px solid #4caf50; border-radius: 4px; margin: 10px 0;'>\n",
       "                <strong>✅ Condition Check:</strong> has_availability = <strong>True</strong> for Stockholm\n",
       "            </div>\n",
       "        "
      ],
      "text/plain": [
       "<IPython.core.display.HTML object>"
      ]
     },
     "metadata": {},
     "output_type": "display_data"
    },
    {
     "data": {
      "text/html": [
       "\n",
       "        <div style='padding: 15px; background: #f3e5f5; border-left: 4px solid #9c27b0; border-radius: 4px; margin: 10px 0;'>\n",
       "            <strong>📤 Display Executor:</strong> Yielding workflow output\n",
       "        </div>\n",
       "    "
      ],
      "text/plain": [
       "<IPython.core.display.HTML object>"
      ]
     },
     "metadata": {},
     "output_type": "display_data"
    },
    {
     "data": {
      "text/html": [
       "\n",
       "        <div style='padding: 25px; background: linear-gradient(135deg, #4caf50 0%, #8bc34a 100%); color: white; border-radius: 12px; \n",
       "                    box-shadow: 0 4px 12px rgba(76,175,80,0.3); margin: 20px 0;'>\n",
       "            <h3 style='margin: 0 0 15px 0;'>🏆 RESULT (Priority User - No Override Needed)</h3>\n",
       "            <div style='background: white; color: #333; padding: 20px; border-radius: 8px;'>\n",
       "                <p style='margin: 0 0 10px 0; font-size: 16px;'><strong>Status:</strong> ✅ Rooms Available (Natural)</p>\n",
       "                <p style='margin: 0 0 10px 0; font-size: 16px;'><strong>Middleware:</strong> No override needed</p>\n",
       "                <p style='margin: 0 0 10px 0; font-size: 16px;'><strong>Destination:</strong> 🏨 Stockholm</p>\n",
       "                <p style='margin: 0 0 10px 0; font-size: 16px;'><strong>Action:</strong> book_now</p>\n",
       "                <p style='margin: 0; font-size: 14px; color: #666;'><strong>Message:</strong> Discover the beauty and history of Stockholm! Rooms are currently available, so don't miss the chance to secure your ideal stay.</p>\n",
       "                <div style='margin-top: 15px; padding: 15px; background: #e8f5e9; border-radius: 6px; border-left: 4px solid #4caf50;'>\n",
       "                    <strong>💡 Middleware Behavior:</strong><br>\n",
       "                    • hotel_booking returned \"available\" naturally<br>\n",
       "                    • Middleware saw available = true → No override needed<br>\n",
       "                    • Workflow proceeded normally to booking_agent\n",
       "                </div>\n",
       "            </div>\n",
       "        </div>\n",
       "    "
      ],
      "text/plain": [
       "<IPython.core.display.HTML object>"
      ]
     },
     "metadata": {},
     "output_type": "display_data"
    }
   ],
   "source": [
    "# Priority user is still set from previous test\n",
    "\n",
    "display(\n",
    "    HTML(\"\"\"\n",
    "    <div style='padding: 20px; background: #e8f5e9; border-left: 4px solid #4caf50; border-radius: 8px; margin: 20px 0;'>\n",
    "        <h3 style='margin: 0 0 10px 0; color: #1b5e20;'>🧪 TEST CASE 3: Priority User + Stockholm</h3>\n",
    "        <p style='margin: 0;'><strong>Expected:</strong> Rooms available → No override needed → Booking suggestion</p>\n",
    "    </div>\n",
    "\"\"\")\n",
    ")\n",
    "\n",
    "# Create request\n",
    "request_stockholm = AgentExecutorRequest(\n",
    "    messages=[ChatMessage(Role.USER, text=\"I want to book a hotel in Stockholm\")], should_respond=True\n",
    ")\n",
    "\n",
    "# Run workflow\n",
    "events_stockholm = await workflow.run(request_stockholm)\n",
    "outputs_stockholm = events_stockholm.get_outputs()\n",
    "\n",
    "# Display results\n",
    "if outputs_stockholm:\n",
    "    result_stockholm = BookingConfirmation.model_validate_json(outputs_stockholm[0])\n",
    "\n",
    "    display(\n",
    "        HTML(f\"\"\"\n",
    "        <div style='padding: 25px; background: linear-gradient(135deg, #4caf50 0%, #8bc34a 100%); color: white; border-radius: 12px; \n",
    "                    box-shadow: 0 4px 12px rgba(76,175,80,0.3); margin: 20px 0;'>\n",
    "            <h3 style='margin: 0 0 15px 0;'>🏆 RESULT (Priority User - No Override Needed)</h3>\n",
    "            <div style='background: white; color: #333; padding: 20px; border-radius: 8px;'>\n",
    "                <p style='margin: 0 0 10px 0; font-size: 16px;'><strong>Status:</strong> ✅ Rooms Available (Natural)</p>\n",
    "                <p style='margin: 0 0 10px 0; font-size: 16px;'><strong>Middleware:</strong> No override needed</p>\n",
    "                <p style='margin: 0 0 10px 0; font-size: 16px;'><strong>Destination:</strong> 🏨 {result_stockholm.destination}</p>\n",
    "                <p style='margin: 0 0 10px 0; font-size: 16px;'><strong>Action:</strong> {result_stockholm.action}</p>\n",
    "                <p style='margin: 0; font-size: 14px; color: #666;'><strong>Message:</strong> {result_stockholm.message}</p>\n",
    "                <div style='margin-top: 15px; padding: 15px; background: #e8f5e9; border-radius: 6px; border-left: 4px solid #4caf50;'>\n",
    "                    <strong>💡 Middleware Behavior:</strong><br>\n",
    "                    • hotel_booking returned \"available\" naturally<br>\n",
    "                    • Middleware saw available = true → No override needed<br>\n",
    "                    • Workflow proceeded normally to booking_agent\n",
    "                </div>\n",
    "            </div>\n",
    "        </div>\n",
    "    \"\"\")\n",
    "    )"
   ]
  },
  {
   "cell_type": "markdown",
   "id": "e498ee16",
   "metadata": {},
   "source": [
    "## मुख्य मुद्दे आणि मिडलवेअर संकल्पना\n",
    "\n",
    "### ✅ तुम्ही काय शिकलात:\n",
    "\n",
    "#### **1. फंक्शन-आधारित मिडलवेअर पॅटर्न**\n",
    "\n",
    "मिडलवेअर एक साधी असिंक्रोनस फंक्शन वापरून फंक्शन कॉल अडवते:\n",
    "\n",
    "```python\n",
    "async def my_middleware(\n",
    "    context: FunctionInvocationContext,\n",
    "    next: Callable,\n",
    ") -> None:\n",
    "    # Before function execution\n",
    "    print(\"Intercepting...\")\n",
    "    \n",
    "    # Execute the function\n",
    "    await next(context)\n",
    "    \n",
    "    # After function execution - inspect result\n",
    "    if context.result:\n",
    "        # Modify result if needed\n",
    "        context.result = modified_value\n",
    "```\n",
    "\n",
    "#### **2. कॉन्टेक्स्ट ऍक्सेस आणि परिणाम ओव्हरराइड**\n",
    "\n",
    "- `context.function` - कॉल केलेल्या फंक्शनला ऍक्सेस करा\n",
    "- `context.arguments` - फंक्शनचे आर्ग्युमेंट्स वाचा\n",
    "- `context.kwargs` - अतिरिक्त पॅरामीटर्स ऍक्सेस करा\n",
    "- `await next(context)` - फंक्शन कार्यान्वित करा\n",
    "- `context.result` - फंक्शनचा आउटपुट वाचा/सुधारा\n",
    "\n",
    "#### **3. व्यवसायिक लॉजिक अंमलबजावणी**\n",
    "\n",
    "आमचे मिडलवेअर प्राधान्य सदस्य लाभ अंमलात आणते:\n",
    "- **सामान्य वापरकर्ते**: कोणतेही बदल नाहीत, सामान्य कार्यप्रवाह\n",
    "- **प्राधान्य वापरकर्ते**: \"कोणतीही उपलब्धता नाही\" → \"उपलब्ध\" असे ओव्हरराइड करा\n",
    "- **शर्ती आधारित लॉजिक**: फक्त आवश्यक असल्यास ओव्हरराइड करते\n",
    "\n",
    "#### **4. समान कार्यप्रवाह, वेगवेगळे परिणाम**\n",
    "\n",
    "मिडलवेअरची ताकद:\n",
    "- ✅ कार्यप्रवाह संरचनेत कोणतेही बदल नाहीत\n",
    "- ✅ टूल फंक्शनमध्ये कोणतेही बदल नाहीत\n",
    "- ✅ शर्ती आधारित रूटिंग लॉजिकमध्ये कोणतेही बदल नाहीत\n",
    "- ✅ फक्त मिडलवेअर → वेगळा वर्तन!\n",
    "\n",
    "### 🚀 वास्तविक-जगातील उपयोग:\n",
    "\n",
    "1. **VIP/प्रिमियम वैशिष्ट्ये**\n",
    "   - प्रिमियम वापरकर्त्यांसाठी दर मर्यादा ओव्हरराइड करा\n",
    "   - संसाधनांवर प्राधान्य ऍक्सेस प्रदान करा\n",
    "   - प्रिमियम वैशिष्ट्ये डायनॅमिकरी अनलॉक करा\n",
    "\n",
    "2. **A/B टेस्टिंग**\n",
    "   - वापरकर्त्यांना वेगवेगळ्या अंमलबजावणीकडे रूट करा\n",
    "   - विशिष्ट वापरकर्त्यांसह नवीन वैशिष्ट्ये चाचणी करा\n",
    "   - वैशिष्ट्ये हळूहळू रोल आउट करा\n",
    "\n",
    "3. **सुरक्षा आणि अनुपालन**\n",
    "   - फंक्शन कॉल्सचे ऑडिट करा\n",
    "   - संवेदनशील ऑपरेशन्स ब्लॉक करा\n",
    "   - व्यवसाय नियम लागू करा\n",
    "\n",
    "4. **कामगिरी ऑप्टिमायझेशन**\n",
    "   - विशिष्ट वापरकर्त्यांसाठी परिणाम कॅश करा\n",
    "   - शक्य असल्यास महागड्या ऑपरेशन्स टाळा\n",
    "   - डायनॅमिक संसाधन वाटप करा\n",
    "\n",
    "5. **त्रुटी हाताळणी आणि पुन्हा प्रयत्न**\n",
    "   - त्रुटी सौम्यपणे पकडा आणि हाताळा\n",
    "   - पुन्हा प्रयत्न करण्याचे लॉजिक अंमलात आणा\n",
    "   - पर्यायी अंमलबजावणीवर फॉलबॅक करा\n",
    "\n",
    "6. **लॉगिंग आणि मॉनिटरिंग**\n",
    "   - फंक्शन कार्यान्वयन वेळा ट्रॅक करा\n",
    "   - पॅरामीटर्स आणि परिणाम लॉग करा\n",
    "   - वापर पॅटर्न मॉनिटर करा\n",
    "\n",
    "### 🔑 डेकोरेटर्सशी मुख्य फरक:\n",
    "\n",
    "| वैशिष्ट्य | डेकोरेटर | मिडलवेअर |\n",
    "|-----------|-----------|------------|\n",
    "| **व्याप्ती** | एकल फंक्शन | एजंटमधील सर्व फंक्शन्स |\n",
    "| **लवचिकता** | परिभाषेवर निश्चित | रनटाइमवर डायनॅमिक |\n",
    "| **कॉन्टेक्स्ट** | मर्यादित | पूर्ण एजंट कॉन्टेक्स्ट |\n",
    "| **संयोजन** | एकाधिक डेकोरेटर्स | मिडलवेअर पाइपलाइन |\n",
    "| **एजंट-जाणीव** | नाही | होय (एजंट स्टेट ऍक्सेस करा) |\n",
    "\n",
    "### 📚 मिडलवेअर कधी वापरावे:\n",
    "\n",
    "✅ **मिडलवेअर वापरा जेव्हा:**\n",
    "- तुम्हाला वापरकर्ता/सेशन स्टेटवर आधारित वर्तन बदलायचे आहे\n",
    "- तुम्हाला अनेक फंक्शन्सवर लॉजिक लागू करायचे आहे\n",
    "- तुम्हाला एजंट-स्तरीय कॉन्टेक्स्ट ऍक्सेस करायचा आहे\n",
    "- तुम्ही क्रॉस-कटिंग चिंता (लॉगिंग, ऑथ, इ.) अंमलात आणत आहात\n",
    "\n",
    "❌ **मिडलवेअर वापरू नका जेव्हा:**\n",
    "- साधी इनपुट व्हॅलिडेशन (Pydantic वापरा)\n",
    "- फंक्शन-विशिष्ट लॉजिक (फंक्शनमध्ये ठेवा)\n",
    "- एक-वेळ बदल (फक्त फंक्शन बदला)\n",
    "\n",
    "### 🎓 प्रगत पॅटर्न:\n",
    "\n",
    "```python\n",
    "# Multiple middleware (execution order matters!)\n",
    "middleware=[\n",
    "    logging_middleware,      # Logs first\n",
    "    auth_middleware,         # Then checks auth\n",
    "    cache_middleware,        # Then checks cache\n",
    "    rate_limit_middleware,   # Then rate limits\n",
    "    priority_check_middleware  # Finally priority check\n",
    "]\n",
    "\n",
    "# Conditional middleware execution\n",
    "async def conditional_middleware(context, next):\n",
    "    if should_execute(context):\n",
    "        await next(context)\n",
    "        # Modify result\n",
    "    else:\n",
    "        # Skip execution entirely\n",
    "        context.result = cached_value\n",
    "```\n",
    "\n",
    "### 🔗 संबंधित संकल्पना:\n",
    "\n",
    "- **एजंट मिडलवेअर**: agent.run() कॉल्स अडवते\n",
    "- **फंक्शन मिडलवेअर**: टूल फंक्शन कॉल्स अडवते (आम्ही वापरलेले!)\n",
    "- **मिडलवेअर पाइपलाइन**: क्रमाने कार्यान्वित होणाऱ्या मिडलवेअरची साखळी\n",
    "- **कॉन्टेक्स्ट प्रोपगेशन**: मिडलवेअर साखळीमधून स्टेट पास करा\n"
   ]
  },
  {
   "cell_type": "markdown",
   "metadata": {},
   "source": [
    "\n---\n\n**अस्वीकरण**:  \nहा दस्तऐवज AI भाषांतर सेवा [Co-op Translator](https://github.com/Azure/co-op-translator) चा वापर करून भाषांतरित करण्यात आला आहे. आम्ही अचूकतेसाठी प्रयत्नशील असलो तरी कृपया लक्षात ठेवा की स्वयंचलित भाषांतरे त्रुटी किंवा अचूकतेच्या अभावाने युक्त असू शकतात. मूळ भाषेतील दस्तऐवज हा अधिकृत स्रोत मानला जावा. महत्त्वाच्या माहितीसाठी व्यावसायिक मानवी भाषांतराची शिफारस केली जाते. या भाषांतराचा वापर करून उद्भवलेल्या कोणत्याही गैरसमज किंवा चुकीच्या अर्थासाठी आम्ही जबाबदार राहणार नाही.\n"
   ]
  }
 ],
 "metadata": {
  "kernelspec": {
   "display_name": ".venv (3.12.11)",
   "language": "python",
   "name": "python3"
  },
  "language_info": {
   "codemirror_mode": {
    "name": "ipython",
    "version": 3
   },
   "file_extension": ".py",
   "mimetype": "text/x-python",
   "name": "python",
   "nbconvert_exporter": "python",
   "pygments_lexer": "ipython3",
   "version": "3.12.11"
  },
  "coopTranslator": {
   "original_hash": "cfefbf8368dc7fa2b8282495d79cbb48",
   "translation_date": "2025-10-09T19:11:41+00:00",
   "source_file": "14-microsoft-agent-framework/code-samples/14-middleware.ipynb",
   "language_code": "mr"
  }
 },
 "nbformat": 4,
 "nbformat_minor": 5
}