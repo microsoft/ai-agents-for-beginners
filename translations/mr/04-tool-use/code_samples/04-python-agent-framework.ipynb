{
 "cells": [
  {
   "cell_type": "markdown",
   "id": "8744544f",
   "metadata": {},
   "source": [
    "# 🛠️ GitHub मॉडेल्ससह प्रगत साधन वापर (Python)\n",
    "\n",
    "## 📋 शिकण्याची उद्दिष्टे\n",
    "\n",
    "या नोटबुकमध्ये Microsoft Agent Framework वापरून GitHub मॉडेल्ससह प्रगत साधन एकत्रीकरण नमुने दाखवले आहेत. तुम्ही अनेक साधने तयार करणे, व्यवस्थापित करणे आणि समन्वय साधणे शिकाल जेणेकरून प्रगत एजंट क्षमता निर्माण करता येतील.\n",
    "\n",
    "**तुम्ही काय आत्मसात कराल:**\n",
    "- 🔧 **मल्टी-टूल आर्किटेक्चर**: अनेक विशेष साधनांसह एजंट तयार करणे\n",
    "- 🎯 **साधन निवड युक्तिविचार**: एजंट प्रत्येक कार्यासाठी योग्य साधन कसे निवडतात\n",
    "- 📊 **डेटा प्रक्रिया साधने**: विविध डेटा प्रकार हाताळणारी साधने तयार करणे\n",
    "- 🔗 **साधन संयोजन**: जटिल कार्यप्रवाहांसाठी साधने एकत्र करणे\n",
    "\n",
    "## 🎯 मुख्य साधन नमुने\n",
    "\n",
    "### साधन डिझाइन तत्त्वे\n",
    "- **सिंगल रिस्पॉन्सिबिलिटी**: प्रत्येक साधनाचे स्पष्ट, केंद्रित उद्दिष्ट असते\n",
    "- **टाइप सेफ्टी**: विश्वासार्ह साधन अंमलबजावणीसाठी मजबूत टायपिंग\n",
    "- **त्रुटी हाताळणी**: त्रुटींचा सौम्य अपयश आणि पुनर्प्राप्ती नमुने\n",
    "- **संयोजकता**: एकत्र चांगले कार्य करणारी साधने\n",
    "\n",
    "### प्रगत साधन वैशिष्ट्ये\n",
    "- **संदर्भ जागरूकता**: संभाषण संदर्भ समजणारी साधने\n",
    "- **डेटा सत्यापन**: इनपुट स्वच्छता आणि आउटपुट सत्यापन\n",
    "- **कामगिरी ऑप्टिमायझेशन**: कार्यक्षम साधन अंमलबजावणी नमुने\n",
    "- **विस्तारक्षमता**: नवीन साधन क्षमता सहजपणे जोडणे\n",
    "\n",
    "## 🔧 तांत्रिक आर्किटेक्चर\n",
    "\n",
    "### मुख्य घटक\n",
    "- **Microsoft Agent Framework**: प्रगत साधन समर्थनासह Python अंमलबजावणी\n",
    "- **GitHub मॉडेल्स एकत्रीकरण**: उच्च-कार्यक्षमता भाषा मॉडेल प्रवेश\n",
    "- **साधन नोंदणी प्रणाली**: एजंट क्षमतांचे व्यवस्थित व्यवस्थापन\n",
    "- **त्रुटी पुनर्प्राप्ती नमुने**: साधन अंमलबजावणी अपयशांचे मजबूत हाताळणी\n",
    "\n",
    "### साधन एकत्रीकरण प्रवाह\n",
    "```python\n",
    "User Request → Agent Analysis → Tool Selection → Tool Execution → Response Synthesis\n",
    "```\n",
    "\n",
    "## 🛠️ साधन श्रेणी दाखवली\n",
    "\n",
    "### 1. **डेटा निर्मिती साधने**\n",
    "- रँडम गंतव्य जनरेटर\n",
    "- हवामान माहिती प्रदाता  \n",
    "- प्रवास खर्च कॅल्क्युलेटर\n",
    "- क्रियाकलाप शिफारस इंजिन\n",
    "\n",
    "### 2. **प्रक्रिया साधने**\n",
    "- मजकूर स्वरूपन आणि सत्यापन\n",
    "- डेटा परिवर्तन उपयोगिता\n",
    "- सामग्री विश्लेषण कार्ये\n",
    "- प्रतिसाद सुधारणा साधने\n",
    "\n",
    "### 3. **एकत्रीकरण साधने**\n",
    "- बाह्य API कनेक्टर्स\n",
    "- फाइल सिस्टम ऑपरेशन्स\n",
    "- डेटाबेस क्वेरी इंटरफेस\n",
    "- वेब स्क्रॅपिंग उपयोगिता\n",
    "\n",
    "## ⚙️ पूर्वअटी आणि सेटअप\n",
    "\n",
    "**आवश्यक अवलंबित्व:**\n",
    "```bash\n",
    "\n",
    "pip install agent-framework-core -U\n",
    "```\n",
    "\n",
    "**पर्यावरण कॉन्फिगरेशन (.env फाइल):**\n",
    "```env\n",
    "GITHUB_TOKEN=your_github_personal_access_token\n",
    "GITHUB_ENDPOINT=https://models.inference.ai.azure.com\n",
    "GITHUB_MODEL_ID=gpt-4o-mini\n",
    "```\n",
    "\n",
    "**ऐच्छिक API:**\n",
    "- हवामान सेवा API की (हवामान साधनांसाठी)\n",
    "- चलन रूपांतरण API प्रवेश\n",
    "- प्रवास माहिती सेवा क्रेडेन्शियल्स\n",
    "\n",
    "## 🎨 डिझाइन नमुने\n",
    "\n",
    "### टूल फॅक्टरी नमुना\n",
    "- केंद्रीकृत साधन निर्मिती आणि कॉन्फिगरेशन\n",
    "- सुसंगत साधन इंटरफेस डिझाइन\n",
    "- साधन नोंदणी आणि शोध सुलभ\n",
    "\n",
    "### कमांड नमुना\n",
    "- साधन अंमलबजावणी तर्कशास्त्र संलग्न\n",
    "- जटिल ऑपरेशन्ससाठी Undo/Redo कार्यक्षमता\n",
    "- साधन वापरासाठी ऑडिट लॉगिंग\n",
    "\n",
    "### ऑब्झर्वर नमुना\n",
    "- साधन अंमलबजावणी निरीक्षण\n",
    "- कामगिरी मेट्रिक्स संग्रह\n",
    "- त्रुटी अहवाल आणि सतर्कता\n",
    "\n",
    "## 🚀 सर्वोत्तम पद्धती\n",
    "\n",
    "- **साधन दस्तऐवजीकरण**: एजंट समजण्यासाठी स्पष्ट वर्णने\n",
    "- **इनपुट सत्यापन**: मजबूत पॅरामीटर तपासणी आणि स्वच्छता\n",
    "- **आउटपुट स्वरूपन**: सुसंगत, पार्स करण्यायोग्य साधन प्रतिसाद\n",
    "- **त्रुटी संदेश**: डीबगिंगसाठी उपयुक्त त्रुटी माहिती\n",
    "- **कामगिरी**: प्रतिसादक्षमतेसाठी ऑप्टिमाइझ केलेली साधन अंमलबजावणी\n",
    "\n",
    "शक्तिशाली साधन क्षमतांसह एजंट तयार करण्यासाठी तयार आहात? चला काहीतरी अद्भुत तयार करूया! ⚡\n"
   ]
  },
  {
   "cell_type": "code",
   "execution_count": null,
   "id": "59c0feeb",
   "metadata": {},
   "outputs": [],
   "source": [
    "! pip install agent-framework-core -U"
   ]
  },
  {
   "cell_type": "code",
   "execution_count": null,
   "id": "c0df8a52",
   "metadata": {},
   "outputs": [],
   "source": [
    "# � Import core dependencies for Agent Framework and tool integration\n",
    "# This sets up the essential libraries for building intelligent agents with tool capabilities\n",
    "\n",
    "import asyncio\n",
    "import os\n",
    "import json\n",
    "\n",
    "from dotenv import load_dotenv  # For loading environment variables securely\n",
    "from random import randint\n",
    "\n",
    "# These are the core components for building tool-enabled agents\n",
    "from agent_framework import ChatAgent           # Main agent class\n",
    "from agent_framework.openai import OpenAIChatClient  # OpenAI-compatible client"
   ]
  },
  {
   "cell_type": "code",
   "execution_count": null,
   "id": "24c10eb0",
   "metadata": {},
   "outputs": [],
   "source": [
    "load_dotenv()"
   ]
  },
  {
   "cell_type": "code",
   "execution_count": null,
   "id": "151e0314",
   "metadata": {},
   "outputs": [],
   "source": [
    "# 🔑 Environment variables verification\n",
    "# Ensure all required GitHub Models credentials are properly configured\n",
    "print(\"GITHUB_ENDPOINT:\", os.environ.get(\"GITHUB_ENDPOINT\"))\n",
    "print(\"GITHUB_TOKEN:\", \"***\" if os.environ.get(\"GITHUB_TOKEN\") else \"Not set\")\n",
    "print(\"GITHUB_MODEL_ID:\", os.environ.get(\"GITHUB_MODEL_ID\"))"
   ]
  },
  {
   "cell_type": "code",
   "execution_count": null,
   "id": "a6141584",
   "metadata": {},
   "outputs": [],
   "source": [
    "# 🧪 Test GitHub Models connectivity\n",
    "openai_chat_client = OpenAIChatClient(base_url=os.environ.get(\"GITHUB_ENDPOINT\"), api_key=os.environ.get(\"GITHUB_TOKEN\"), model_id=os.environ.get(\"GITHUB_MODEL_ID\"))"
   ]
  },
  {
   "cell_type": "code",
   "execution_count": null,
   "id": "a6507f83",
   "metadata": {},
   "outputs": [],
   "source": [
    "# 🛠️ Define travel planning tools for agent integration\n",
    "# These functions provide specific capabilities that the agent can invoke dynamically\n",
    "\n",
    "def get_random_destination() -> str:\n",
    "    \"\"\"\n",
    "    🎲 Random destination generator tool\n",
    "    Returns a randomly selected travel destination from curated list\n",
    "    Useful when customers need inspiration for their next vacation\n",
    "    \"\"\"\n",
    "    destinations = [\n",
    "        \"Paris, France\",\n",
    "        \"Tokyo, Japan\", \n",
    "        \"New York City, USA\",\n",
    "        \"London, England\",\n",
    "        \"Rome, Italy\",\n",
    "        \"Sydney, Australia\",\n",
    "        \"Dubai, UAE\",\n",
    "        \"Barcelona, Spain\",\n",
    "        \"Bangkok, Thailand\",\n",
    "        \"Amsterdam, Netherlands\",\n",
    "        \"Istanbul, Turkey\",\n",
    "        \"Prague, Czech Republic\",\n",
    "        \"Santorini, Greece\",\n",
    "        \"Reykjavik, Iceland\",\n",
    "        \"Marrakech, Morocco\",\n",
    "        \"Cape Town, South Africa\",\n",
    "        \"Rio de Janeiro, Brazil\",\n",
    "        \"Bali, Indonesia\"\n",
    "    ]\n",
    "    # 🎯 Return random selection from the curated destination list\n",
    "    return destinations[randint(0, len(destinations) - 1)]"
   ]
  },
  {
   "cell_type": "code",
   "execution_count": null,
   "id": "5d4f0568",
   "metadata": {},
   "outputs": [],
   "source": [
    "# 🔗 Initialize GitHub Models chat client for agent communication\n",
    "# Creates the primary interface between the agent and the language model\n",
    "openai_chat_client = OpenAIChatClient(base_url=os.environ.get(\"GITHUB_ENDPOINT\"), api_key=os.environ.get(\"GITHUB_TOKEN\"), model_id=os.environ.get(\"GITHUB_MODEL_ID\"))"
   ]
  },
  {
   "cell_type": "code",
   "execution_count": null,
   "id": "751668c5",
   "metadata": {},
   "outputs": [],
   "source": [
    "# 🤖 Configure travel agent identity and behavioral instructions\n",
    "# Define the agent's personality, capabilities, and operational guidelines\n",
    "\n",
    "AGENT_NAME = \"TravelAgent\"\n",
    "\n",
    "AGENT_INSTRUCTIONS = \"\"\"You are a helpful AI Agent that can help plan vacations for customers at random destinations\n",
    "\"\"\""
   ]
  },
  {
   "cell_type": "code",
   "execution_count": null,
   "id": "be18ac4f",
   "metadata": {},
   "outputs": [],
   "source": [
    "agent = ChatAgent(\n",
    "        name = AGENT_NAME,\n",
    "        chat_client=openai_chat_client,\n",
    "        instructions=AGENT_INSTRUCTIONS,\n",
    "        tools=[get_random_destination]\n",
    ")"
   ]
  },
  {
   "cell_type": "code",
   "execution_count": null,
   "id": "772e9481",
   "metadata": {},
   "outputs": [],
   "source": [
    "thread = agent.get_new_thread()"
   ]
  },
  {
   "cell_type": "code",
   "execution_count": null,
   "id": "a731b547",
   "metadata": {},
   "outputs": [],
   "source": [
    "response1 = await agent.run(\"Plan me a day trip\",thread= thread)"
   ]
  },
  {
   "cell_type": "code",
   "execution_count": null,
   "id": "7d3fe00a",
   "metadata": {},
   "outputs": [],
   "source": [
    "\n",
    "last_message = response1.messages[-1]\n",
    "text_content = last_message.contents[0].text\n",
    "print(\"Travel plan:\")\n",
    "print(text_content)"
   ]
  },
  {
   "cell_type": "markdown",
   "metadata": {},
   "source": [
    "\n---\n\n**अस्वीकरण**:  \nहा दस्तऐवज AI भाषांतर सेवा [Co-op Translator](https://github.com/Azure/co-op-translator) चा वापर करून भाषांतरित करण्यात आला आहे. आम्ही अचूकतेसाठी प्रयत्नशील असलो तरी, कृपया लक्षात ठेवा की स्वयंचलित भाषांतरे त्रुटी किंवा अचूकतेच्या अभावाने युक्त असू शकतात. मूळ भाषेतील दस्तऐवज हा अधिकृत स्रोत मानला जावा. महत्त्वाच्या माहितीसाठी, व्यावसायिक मानवी भाषांतराची शिफारस केली जाते. या भाषांतराचा वापर करून उद्भवलेल्या कोणत्याही गैरसमज किंवा चुकीच्या अर्थासाठी आम्ही जबाबदार राहणार नाही.\n"
   ]
  }
 ],
 "metadata": {
  "kernelspec": {
   "display_name": "agentenv",
   "language": "python",
   "name": "python3"
  },
  "language_info": {
   "codemirror_mode": {
    "name": "ipython",
    "version": 3
   },
   "file_extension": ".py",
   "mimetype": "text/x-python",
   "name": "python",
   "nbconvert_exporter": "python",
   "pygments_lexer": "ipython3",
   "version": "3.12.10"
  },
  "polyglot_notebook": {
   "kernelInfo": {
    "defaultKernelName": "csharp",
    "items": [
     {
      "aliases": [],
      "name": "csharp"
     }
    ]
   }
  },
  "coopTranslator": {
   "original_hash": "42966ddac53cebaf0ac1ce33b2ee7059",
   "translation_date": "2025-10-02T11:43:25+00:00",
   "source_file": "04-tool-use/code_samples/04-python-agent-framework.ipynb",
   "language_code": "mr"
  }
 },
 "nbformat": 4,
 "nbformat_minor": 5
}