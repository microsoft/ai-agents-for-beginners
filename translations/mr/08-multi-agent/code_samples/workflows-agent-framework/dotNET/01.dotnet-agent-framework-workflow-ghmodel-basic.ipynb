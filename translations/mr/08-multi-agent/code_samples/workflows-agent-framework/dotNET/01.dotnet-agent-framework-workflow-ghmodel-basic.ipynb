{
 "cells": [
  {
   "cell_type": "markdown",
   "id": "187780ba",
   "metadata": {},
   "source": [
    "# 🔄 GitHub मॉडेल्स (.NET) सह मूलभूत एजंट कार्यप्रवाह\n",
    "\n",
    "## 📋 कार्यप्रवाह ऑर्केस्ट्रेशन ट्यूटोरियल\n",
    "\n",
    "या नोटबुकमध्ये Microsoft Agent Framework for .NET आणि GitHub मॉडेल्स वापरून प्रगत **एजंट कार्यप्रवाह** तयार करण्याचे प्रदर्शन केले आहे. तुम्ही अशा बहु-चरणीय व्यवसाय प्रक्रियांचे निर्माण करणे शिकाल जिथे AI एजंट्स एकत्र काम करून संरचित ऑर्केस्ट्रेशन पद्धतींमधून जटिल कार्ये पूर्ण करतात.\n",
    "\n",
    "## 🎯 शिकण्याची उद्दिष्टे\n",
    "\n",
    "### 🏗️ **कार्यप्रवाह आर्किटेक्चर मूलभूत गोष्टी**\n",
    "- **Workflow Builder**: जटिल बहु-चरणीय AI प्रक्रिया डिझाइन आणि ऑर्केस्ट्रेट करा\n",
    "- **Agent Coordination**: कार्यप्रवाहांमध्ये अनेक विशेष एजंट्स समन्वयित करा\n",
    "- **GitHub Models Integration**: कार्यप्रवाहांमध्ये GitHub च्या AI मॉडेल इनफरन्स सेवा वापरा\n",
    "- **Visual Workflow Design**: चांगल्या समजासाठी कार्यप्रवाह संरचना तयार करा आणि व्हिज्युअल करा\n",
    "\n",
    "### 🔄 **प्रक्रिया ऑर्केस्ट्रेशन पद्धती**\n",
    "- **Sequential Processing**: अनेक एजंट कार्ये तर्कसंगत क्रमाने साखळीबद्ध करा\n",
    "- **State Management**: कार्यप्रवाह टप्प्यांमध्ये संदर्भ आणि डेटा प्रवाह राखा\n",
    "- **Error Handling**: मजबूत त्रुटी पुनर्प्राप्ती आणि कार्यप्रवाह लवचिकता अंमलात आणा\n",
    "- **Performance Optimization**: एंटरप्राइझ-स्केल ऑपरेशन्ससाठी कार्यक्षम कार्यप्रवाह डिझाइन करा\n",
    "\n",
    "### 🏢 **एंटरप्राइझ कार्यप्रवाह अनुप्रयोग**\n",
    "- **Business Process Automation**: जटिल संस्थात्मक कार्यप्रवाह स्वयंचलित करा\n",
    "- **Content Production Pipeline**: पुनरावलोकन आणि मंजुरी टप्प्यांसह संपादकीय कार्यप्रवाह\n",
    "- **Customer Service Automation**: बहु-चरणीय ग्राहक चौकशी निराकरण\n",
    "- **Data Processing Workflows**: AI-सक्षम रूपांतरणासह ETL कार्यप्रवाह\n",
    "\n",
    "## ⚙️ पूर्वापेक्षा आणि सेटअप\n",
    "\n",
    "### 📦 **आवश्यक NuGet पॅकेजेस**\n",
    "\n",
    "या कार्यप्रवाह प्रदर्शनात अनेक प्रमुख .NET पॅकेजेस वापरले जातात:\n",
    "\n",
    "```xml\n",
    "<!-- Core AI Framework -->\n",
    "<PackageReference Include=\"Microsoft.Extensions.AI\" Version=\"9.9.0\" />\n",
    "\n",
    "<!-- Agent Framework (Local Development) -->\n",
    "<!-- Microsoft.Agents.AI.dll - Core agent abstractions -->\n",
    "<!-- Microsoft.Agents.AI.OpenAI.dll - OpenAI/GitHub Models integration -->\n",
    "\n",
    "<!-- Configuration and Environment -->\n",
    "<PackageReference Include=\"DotNetEnv\" Version=\"3.1.1\" />\n",
    "```\n",
    "\n",
    "### 🔑 **GitHub मॉडेल्स कॉन्फिगरेशन**\n",
    "\n",
    "**पर्यावरण सेटअप (.env फाइल):**\n",
    "```env\n",
    "GITHUB_TOKEN=your_github_personal_access_token\n",
    "GITHUB_ENDPOINT=https://models.inference.ai.azure.com\n",
    "GITHUB_MODEL_ID=gpt-4o-mini\n",
    "```\n",
    "\n",
    "**GitHub मॉडेल्स प्रवेश:**\n",
    "1. GitHub मॉडेल्ससाठी साइन अप करा (सध्या प्रीव्ह्यूमध्ये)\n",
    "2. मॉडेल प्रवेश परवानग्यांसह वैयक्तिक प्रवेश टोकन तयार करा\n",
    "3. वरीलप्रमाणे पर्यावरणीय व्हेरिएबल्स कॉन्फिगर करा\n",
    "\n",
    "### 🏗️ **कार्यप्रवाह आर्किटेक्चर विहंगावलोकन**\n",
    "\n",
    "```mermaid\n",
    "graph TD\n",
    "    A[Workflow Builder] --> B[Agent Registry]\n",
    "    B --> C[Workflow Execution Engine]\n",
    "    C --> D[Agent 1: Content Generator]\n",
    "    C --> E[Agent 2: Content Reviewer] \n",
    "    D --> F[Workflow Results]\n",
    "    E --> F\n",
    "    G[GitHub Models API] --> D\n",
    "    G --> E\n",
    "```\n",
    "\n",
    "**मुख्य घटक:**\n",
    "- **WorkflowBuilder**: कार्यप्रवाह डिझाइनसाठी मुख्य ऑर्केस्ट्रेशन इंजिन\n",
    "- **AIAgent**: विशिष्ट क्षमतांसह वैयक्तिक विशेष एजंट्स\n",
    "- **GitHub Models Client**: AI मॉडेल इनफरन्स सेवा एकत्रीकरण\n",
    "- **Execution Context**: कार्यप्रवाह टप्प्यांमधील स्थिती आणि डेटा प्रवाह व्यवस्थापित करते\n",
    "\n",
    "## 🎨 **एंटरप्राइझ कार्यप्रवाह डिझाइन पद्धती**\n",
    "\n",
    "### 📝 **सामग्री उत्पादन कार्यप्रवाह**\n",
    "```\n",
    "User Request → Content Generation → Quality Review → Final Output\n",
    "```\n",
    "\n",
    "### 🔍 **दस्तऐवज प्रक्रिया पाइपलाइन**\n",
    "```\n",
    "Document Input → Analysis → Extraction → Validation → Structured Output\n",
    "```\n",
    "\n",
    "### 💼 **व्यवसाय बुद्धिमत्ता कार्यप्रवाह**\n",
    "```\n",
    "Data Collection → Processing → Analysis → Report Generation → Distribution\n",
    "```\n",
    "\n",
    "### 🤝 **ग्राहक सेवा स्वयंचलन**\n",
    "```\n",
    "Customer Inquiry → Classification → Processing → Response Generation → Follow-up\n",
    "```\n",
    "\n",
    "## 🏢 **एंटरप्राइझ फायदे**\n",
    "\n",
    "### 🎯 **विश्वसनीयता आणि स्केलेबिलिटी**\n",
    "- **Deterministic Execution**: सुसंगत, पुनरावृत्ती करण्यायोग्य कार्यप्रवाह परिणाम\n",
    "- **Error Recovery**: कोणत्याही कार्यप्रवाह टप्प्यावर अपयशाचे सौम्य हाताळणी\n",
    "- **Performance Monitoring**: कार्यप्रवाह कार्यप्रदर्शन आणि ऑप्टिमायझेशन संधींचे ट्रॅकिंग\n",
    "- **Resource Management**: AI मॉडेल संसाधनांचे कार्यक्षम वाटप आणि उपयोग\n",
    "\n",
    "### 🔒 **सुरक्षा आणि अनुपालन**\n",
    "- **Secure Authentication**: API प्रवेशासाठी GitHub टोकन-आधारित प्रमाणीकरण\n",
    "- **Audit Trails**: कार्यप्रवाह अंमलबजावणी आणि निर्णय बिंदूंची संपूर्ण लॉगिंग\n",
    "- **Access Control**: कार्यप्रवाह अंमलबजावणी आणि निरीक्षणासाठी सूक्ष्म परवानग्या\n",
    "- **Data Privacy**: कार्यप्रवाहांमध्ये संवेदनशील माहितीचे सुरक्षित हाताळणी\n",
    "\n",
    "### 📊 **ऑब्झर्व्हेबिलिटी आणि व्यवस्थापन**\n",
    "- **Visual Workflow Design**: प्रक्रिया प्रवाह आणि अवलंबित्वांचे स्पष्ट प्रतिनिधित्व\n",
    "- **Execution Monitoring**: कार्यप्रवाह प्रगती आणि कार्यप्रदर्शनाचे रिअल-टाइम ट्रॅकिंग\n",
    "- **Error Reporting**: तपशीलवार त्रुटी विश्लेषण आणि डीबगिंग क्षमता\n",
    "- **Performance Analytics**: ऑप्टिमायझेशन आणि क्षमता नियोजनासाठी मेट्रिक्स\n",
    "\n",
    "तुमचा पहिला एंटरप्राइझ-रेडी AI कार्यप्रवाह तयार करूया! 🚀\n"
   ]
  },
  {
   "cell_type": "code",
   "execution_count": 1,
   "id": "4152a00b",
   "metadata": {
    "language_info": {
     "name": "polyglot-notebook"
    },
    "polyglot_notebook": {
     "kernelName": "csharp"
    }
   },
   "outputs": [
    {
     "data": {
      "text/html": [
       "<div><div></div><div></div><div><strong>Installed Packages</strong><ul><li><span>Microsoft.Extensions.AI, 9.9.1</span></li></ul></div></div>"
      ]
     },
     "metadata": {},
     "output_type": "display_data"
    }
   ],
   "source": [
    "#r \"nuget: Microsoft.Extensions.AI, 9.9.1\""
   ]
  },
  {
   "cell_type": "code",
   "execution_count": 2,
   "id": "b431c4dc",
   "metadata": {
    "language_info": {
     "name": "polyglot-notebook"
    },
    "polyglot_notebook": {
     "kernelName": "csharp"
    }
   },
   "outputs": [
    {
     "data": {
      "text/html": [
       "<div><div></div><div></div><div><strong>Installed Packages</strong><ul><li><span>System.ClientModel, 1.6.1</span></li></ul></div></div>"
      ]
     },
     "metadata": {},
     "output_type": "display_data"
    }
   ],
   "source": [
    "#r \"nuget: System.ClientModel, 1.6.1.0\""
   ]
  },
  {
   "cell_type": "code",
   "execution_count": 3,
   "id": "ba48a4c7",
   "metadata": {
    "language_info": {
     "name": "polyglot-notebook"
    },
    "polyglot_notebook": {
     "kernelName": "csharp"
    }
   },
   "outputs": [
    {
     "data": {
      "text/html": [
       "<div><div></div><div></div><div><strong>Installed Packages</strong><ul><li><span>Azure.Identity, 1.15.0</span></li><li><span>OpenTelemetry.Api, 1.0.1</span></li><li><span>System.Linq.Async, 6.0.3</span></li></ul></div></div>"
      ]
     },
     "metadata": {},
     "output_type": "display_data"
    }
   ],
   "source": [
    "#r \"nuget: Azure.Identity, 1.15.0\"\n",
    "#r \"nuget: System.Linq.Async, 6.0.3\"\n",
    "#r \"nuget: OpenTelemetry.Api, 1.0.0\"\n",
    "#r \"nuget: OpenTelemetry.Api, 1.0.0\""
   ]
  },
  {
   "cell_type": "code",
   "execution_count": 4,
   "metadata": {
    "language_info": {
     "name": "polyglot-notebook"
    },
    "polyglot_notebook": {
     "kernelName": "csharp"
    }
   },
   "outputs": [],
   "source": []
  },
  {
   "cell_type": "code",
   "execution_count": 5,
   "id": "ed55fec8",
   "metadata": {
    "language_info": {
     "name": "polyglot-notebook"
    },
    "polyglot_notebook": {
     "kernelName": "csharp"
    }
   },
   "outputs": [
    {
     "data": {
      "text/html": [
       "<div><div></div><div></div><div><strong>Installed Packages</strong><ul><li><span>Microsoft.Agents.AI.Workflows, 1.0.0-preview.251001.3</span></li></ul></div></div>"
      ]
     },
     "metadata": {},
     "output_type": "display_data"
    }
   ],
   "source": [
    "\n",
    "#r \"nuget: Microsoft.Agents.AI.Workflows, 1.0.0-preview.251001.3\""
   ]
  },
  {
   "cell_type": "code",
   "execution_count": null,
   "id": "afaaa7d4",
   "metadata": {
    "language_info": {
     "name": "polyglot-notebook"
    },
    "polyglot_notebook": {
     "kernelName": "csharp"
    }
   },
   "outputs": [
    {
     "data": {
      "text/html": [
       "<div><div></div><div></div><div><strong>Installed Packages</strong><ul><li><span>Microsoft.Agents.AI.OpenAI, 1.0.0-preview.251001.2</span></li></ul></div></div>"
      ]
     },
     "metadata": {},
     "output_type": "display_data"
    }
   ],
   "source": [
    "\n",
    "#r \"nuget: Microsoft.Agents.AI.OpenAI, 1.0.0-preview.251001.3\""
   ]
  },
  {
   "cell_type": "code",
   "execution_count": 7,
   "id": "a7399950",
   "metadata": {
    "language_info": {
     "name": "polyglot-notebook"
    },
    "polyglot_notebook": {
     "kernelName": "csharp"
    }
   },
   "outputs": [
    {
     "data": {
      "text/html": [
       "<div><div></div><div></div><div><strong>Installed Packages</strong><ul><li><span>DotNetEnv, 3.1.1</span></li></ul></div></div>"
      ]
     },
     "metadata": {},
     "output_type": "display_data"
    }
   ],
   "source": [
    "#r \"nuget: DotNetEnv, 3.1.1\""
   ]
  },
  {
   "cell_type": "code",
   "execution_count": 8,
   "id": "1df9ac4c",
   "metadata": {
    "language_info": {
     "name": "polyglot-notebook"
    },
    "polyglot_notebook": {
     "kernelName": "csharp"
    }
   },
   "outputs": [],
   "source": [
    "// #r \"nuget: Microsoft.Extensions.AI.OpenAI, 9.9.0-preview.1.25458.4\""
   ]
  },
  {
   "cell_type": "code",
   "execution_count": 9,
   "id": "cf6ee6ed",
   "metadata": {
    "language_info": {
     "name": "polyglot-notebook"
    },
    "polyglot_notebook": {
     "kernelName": "csharp"
    }
   },
   "outputs": [],
   "source": [
    "using System;\n",
    "using System.ComponentModel;\n",
    "using System.ClientModel;\n",
    "using OpenAI;\n",
    "using Azure.Identity;\n",
    "using Microsoft.Extensions.AI;\n",
    "using Microsoft.Agents.AI;\n",
    "using Microsoft.Agents.AI.Workflows;"
   ]
  },
  {
   "cell_type": "code",
   "execution_count": 10,
   "id": "b4fc2d1b",
   "metadata": {
    "language_info": {
     "name": "polyglot-notebook"
    },
    "polyglot_notebook": {
     "kernelName": "csharp"
    }
   },
   "outputs": [],
   "source": [
    " using DotNetEnv;"
   ]
  },
  {
   "cell_type": "code",
   "execution_count": 11,
   "id": "0e7f69f7",
   "metadata": {
    "language_info": {
     "name": "polyglot-notebook"
    },
    "polyglot_notebook": {
     "kernelName": "csharp"
    }
   },
   "outputs": [],
   "source": [
    "Env.Load(\"../../../.env\");"
   ]
  },
  {
   "cell_type": "code",
   "execution_count": 12,
   "id": "2b62a30a",
   "metadata": {
    "language_info": {
     "name": "polyglot-notebook"
    },
    "polyglot_notebook": {
     "kernelName": "csharp"
    }
   },
   "outputs": [],
   "source": [
    "\n",
    "var github_endpoint = Environment.GetEnvironmentVariable(\"GITHUB_ENDPOINT\") ?? throw new InvalidOperationException(\"GITHUB_ENDPOINT is not set.\");\n",
    "var github_model_id = Environment.GetEnvironmentVariable(\"GITHUB_MODEL_ID\") ?? \"gpt-4o-mini\";\n",
    "var github_token = Environment.GetEnvironmentVariable(\"GITHUB_TOKEN\") ?? throw new InvalidOperationException(\"GITHUB_TOKEN is not set.\");"
   ]
  },
  {
   "cell_type": "code",
   "execution_count": 13,
   "id": "bb2a8730",
   "metadata": {
    "language_info": {
     "name": "polyglot-notebook"
    },
    "polyglot_notebook": {
     "kernelName": "csharp"
    }
   },
   "outputs": [],
   "source": [
    "var openAIOptions = new OpenAIClientOptions()\n",
    "{\n",
    "    Endpoint = new Uri(github_endpoint)\n",
    "};"
   ]
  },
  {
   "cell_type": "code",
   "execution_count": 14,
   "id": "c08bd38f",
   "metadata": {
    "language_info": {
     "name": "polyglot-notebook"
    },
    "polyglot_notebook": {
     "kernelName": "csharp"
    }
   },
   "outputs": [],
   "source": [
    "var openAIClient = new OpenAIClient(new ApiKeyCredential(github_token), openAIOptions);"
   ]
  },
  {
   "cell_type": "code",
   "execution_count": 15,
   "id": "408e8b23",
   "metadata": {
    "language_info": {
     "name": "polyglot-notebook"
    },
    "polyglot_notebook": {
     "kernelName": "csharp"
    }
   },
   "outputs": [],
   "source": [
    "const string ReviewerAgentName = \"Concierge\";\n",
    "const string ReviewerAgentInstructions = @\"\n",
    "    You are an are hotel concierge who has opinions about providing the most local and authentic experiences for travelers.\n",
    "    The goal is to determine if the front desk travel agent has recommended the best non-touristy experience for a traveler.\n",
    "    If so, state that it is approved.\n",
    "    If not, provide insight on how to refine the recommendation without using a specific example. \";"
   ]
  },
  {
   "cell_type": "code",
   "execution_count": 16,
   "id": "0a1ccf3e",
   "metadata": {
    "language_info": {
     "name": "polyglot-notebook"
    },
    "polyglot_notebook": {
     "kernelName": "csharp"
    }
   },
   "outputs": [],
   "source": [
    "const string FrontDeskAgentName = \"FrontDesk\";\n",
    "const string FrontDeskAgentInstructions = @\"\"\"\n",
    "    You are a Front Desk Travel Agent with ten years of experience and are known for brevity as you deal with many customers.\n",
    "    The goal is to provide the best activities and locations for a traveler to visit.\n",
    "    Only provide a single recommendation per response.\n",
    "    You're laser focused on the goal at hand.\n",
    "    Don't waste time with chit chat.\n",
    "    Consider suggestions when refining an idea.\n",
    "    \"\"\";"
   ]
  },
  {
   "cell_type": "code",
   "execution_count": 17,
   "id": "b9b975c6",
   "metadata": {
    "language_info": {
     "name": "polyglot-notebook"
    },
    "polyglot_notebook": {
     "kernelName": "csharp"
    }
   },
   "outputs": [],
   "source": [
    "AIAgent reviewerAgent = openAIClient.GetChatClient(github_model_id).CreateAIAgent(\n",
    "    name:ReviewerAgentName,instructions:ReviewerAgentInstructions);\n",
    "AIAgent frontDeskAgent  = openAIClient.GetChatClient(github_model_id).CreateAIAgent(\n",
    "    name:FrontDeskAgentName,instructions:FrontDeskAgentInstructions);"
   ]
  },
  {
   "cell_type": "code",
   "execution_count": 18,
   "id": "5edccde0",
   "metadata": {
    "language_info": {
     "name": "polyglot-notebook"
    },
    "polyglot_notebook": {
     "kernelName": "csharp"
    }
   },
   "outputs": [],
   "source": [
    "var workflow = new WorkflowBuilder(frontDeskAgent)\n",
    "            .AddEdge(frontDeskAgent, reviewerAgent)\n",
    "            .Build();"
   ]
  },
  {
   "cell_type": "code",
   "execution_count": 19,
   "id": "1fb93407",
   "metadata": {
    "language_info": {
     "name": "polyglot-notebook"
    },
    "polyglot_notebook": {
     "kernelName": "csharp"
    }
   },
   "outputs": [],
   "source": [
    "ChatMessage userMessage = new ChatMessage(ChatRole.User, [\n",
    "\tnew TextContent(\"I would like to go to Paris.\") \n",
    "]);"
   ]
  },
  {
   "cell_type": "code",
   "execution_count": 20,
   "id": "ec9afabc",
   "metadata": {
    "language_info": {
     "name": "polyglot-notebook"
    },
    "polyglot_notebook": {
     "kernelName": "csharp"
    }
   },
   "outputs": [],
   "source": [
    "StreamingRun run = await InProcessExecution.StreamAsync(workflow, userMessage);"
   ]
  },
  {
   "cell_type": "code",
   "execution_count": 21,
   "id": "6bea90c0",
   "metadata": {
    "language_info": {
     "name": "polyglot-notebook"
    },
    "polyglot_notebook": {
     "kernelName": "csharp"
    }
   },
   "outputs": [
    {
     "name": "stdout",
     "output_type": "stream",
     "text": [
      "Visit the Louvre Museum. It's a must-see for art enthusiasts and history lovers.That recommendation is quite popular and likely to attract many tourists. To refine it for a more local and authentic experience, consider suggesting an alternative that focuses on smaller, lesser-known art venues or galleries. Look for places where local artists exhibit or community spaces that host cultural events. This approach allows travelers to connect with the local art scene more intimately, away from the typical tourist routes.\r\n"
     ]
    }
   ],
   "source": [
    "await run.TrySendMessageAsync(new TurnToken(emitEvents: true));\n",
    "string id=\"\";\n",
    "string messageData=\"\";\n",
    "await foreach (WorkflowEvent evt in run.WatchStreamAsync().ConfigureAwait(false))\n",
    "{\n",
    "    if (evt is AgentRunUpdateEvent executorComplete)\n",
    "    {\n",
    "        if(id==\"\")\n",
    "        {\n",
    "            id=executorComplete.ExecutorId;\n",
    "        }\n",
    "        if(id==executorComplete.ExecutorId)\n",
    "        {\n",
    "            messageData+=executorComplete.Data.ToString();\n",
    "        }\n",
    "        else\n",
    "        {\n",
    "            id=executorComplete.ExecutorId;\n",
    "        }\n",
    "        // Console.WriteLine($\"{executorComplete.ExecutorId}: {executorComplete.Data}\");\n",
    "    }\n",
    "}\n",
    "\n",
    "Console.WriteLine(messageData);"
   ]
  },
  {
   "cell_type": "markdown",
   "metadata": {},
   "source": [
    "\n---\n\n**अस्वीकरण**:  \nहा दस्तऐवज [Co-op Translator](https://github.com/Azure/co-op-translator) या एआय भाषांतर सेवेचा वापर करून भाषांतरित करण्यात आला आहे. आम्ही अचूकतेसाठी प्रयत्नशील असलो तरी कृपया लक्षात घ्या की स्वयंचलित भाषांतरांमध्ये त्रुटी किंवा अचूकतेचा अभाव असू शकतो. मूळ भाषेतील दस्तऐवज हा अधिकृत स्रोत मानला जावा. महत्त्वाच्या माहितीसाठी व्यावसायिक मानवी भाषांतराची शिफारस केली जाते. या भाषांतराचा वापर केल्यामुळे उद्भवणाऱ्या कोणत्याही गैरसमजांसाठी किंवा चुकीच्या अर्थ लावण्यास आम्ही जबाबदार राहणार नाही.\n"
   ]
  }
 ],
 "metadata": {
  "kernelspec": {
   "display_name": ".NET (C#)",
   "language": "C#",
   "name": ".net-csharp"
  },
  "language_info": {
   "name": "polyglot-notebook"
  },
  "polyglot_notebook": {
   "kernelInfo": {
    "defaultKernelName": "csharp",
    "items": [
     {
      "aliases": [],
      "name": "csharp"
     }
    ]
   }
  },
  "coopTranslator": {
   "original_hash": "0014f87b9c2a0eddf09e8de1bfd31b20",
   "translation_date": "2025-10-02T11:39:25+00:00",
   "source_file": "08-multi-agent/code_samples/workflows-agent-framework/dotNET/01.dotnet-agent-framework-workflow-ghmodel-basic.ipynb",
   "language_code": "mr"
  }
 },
 "nbformat": 4,
 "nbformat_minor": 5
}