{
 "cells": [
  {
   "cell_type": "markdown",
   "id": "3afc7f5e",
   "metadata": {},
   "source": [
    "# ⏩ GitHub मॉडेल्स (.NET) सह अनुक्रमिक एजंट वर्कफ्लो\n",
    "\n",
    "## 📋 प्रगत अनुक्रमिक प्रक्रिया ट्यूटोरियल\n",
    "\n",
    "या नोटबुकमध्ये Microsoft Agent Framework for .NET आणि GitHub मॉडेल्स वापरून **अनुक्रमिक वर्कफ्लो पॅटर्न्स** कसे तयार करायचे याचे प्रदर्शन केले आहे. तुम्ही एजंट्स विशिष्ट क्रमाने कसे अंमलात आणायचे, प्रत्येक टप्पा मागील टप्प्याच्या निकालांवर आधारित कसा असतो, यासह प्रगत, टप्प्याटप्प्याने प्रक्रिया पाइपलाइन तयार करणे शिकाल.\n",
    "\n",
    "## 🎯 शिकण्याची उद्दिष्टे\n",
    "\n",
    "### 🔄 **अनुक्रमिक प्रक्रिया आर्किटेक्चर**\n",
    "- **रेखीय वर्कफ्लो डिझाइन**: स्पष्ट अवलंबित्वांसह टप्प्याटप्प्याने प्रक्रिया पाइपलाइन तयार करा\n",
    "- **स्थिती व्यवस्थापन**: अनुक्रमिक वर्कफ्लो टप्प्यांमध्ये संदर्भ आणि डेटा प्रवाह टिकवून ठेवा\n",
    "- **GitHub मॉडेल्स एकत्रीकरण**: GitHub च्या AI मॉडेल्सचा बहु-टप्प्याच्या .NET वर्कफ्लोमध्ये लाभ घ्या\n",
    "- **एंटरप्राइझ पाइपलाइन पॅटर्न्स**: उत्पादनासाठी तयार अनुक्रमिक प्रक्रिया प्रणाली तयार करा\n",
    "\n",
    "### 🏗️ **प्रगत अनुक्रमिक पॅटर्न्स**\n",
    "- **स्टेज-गेट प्रक्रिया**: वर्कफ्लो टप्प्यांमधील पडताळणी तपासणी अंमलात आणा\n",
    "- **संदर्भ टिकवून ठेवणे**: सर्व टप्प्यांमध्ये स्थिती आणि जमा झालेले ज्ञान टिकवून ठेवा\n",
    "- **त्रुटी प्रसार**: अनुक्रमिक प्रक्रिया साखळ्यांमध्ये अपयशांचा सौम्यपणे सामना करा\n",
    "- **कामगिरीची ऑप्टिमायझेशन**: किमान ओव्हरहेडसह कार्यक्षम अनुक्रमिक अंमलबजावणी\n",
    "\n",
    "### 🏢 **एंटरप्राइझ अनुक्रमिक अनुप्रयोग**\n",
    "- **दस्तऐवज प्रक्रिया पाइपलाइन**: बहु-टप्प्याची दस्तऐवज विश्लेषण, रूपांतरण आणि पडताळणी\n",
    "- **गुणवत्ता आश्वासन वर्कफ्लो**: अनुक्रमिक पुनरावलोकन, पडताळणी आणि मंजुरी प्रक्रिया\n",
    "- **सामग्री उत्पादन पाइपलाइन**: संशोधन → लेखन → संपादन → पुनरावलोकन → प्रकाशन\n",
    "- **व्यवसाय प्रक्रिया ऑटोमेशन**: स्पष्ट टप्प्याच्या अवलंबित्वांसह बहु-चरण व्यवसाय वर्कफ्लो\n",
    "\n",
    "## ⚙️ पूर्वतयारी आणि सेटअप\n",
    "\n",
    "### 📦 **आवश्यक NuGet पॅकेजेस**\n",
    "\n",
    ".NET अनुक्रमिक वर्कफ्लोसाठी आवश्यक पॅकेजेस:\n",
    "\n",
    "```xml\n",
    "<!-- Core AI Framework -->\n",
    "<PackageReference Include=\"Microsoft.Extensions.AI\" Version=\"9.9.0\" />\n",
    "\n",
    "<!-- Client Model Abstractions -->\n",
    "<PackageReference Include=\"System.ClientModel\" Version=\"1.6.1.0\" />\n",
    "\n",
    "<!-- Azure Identity and Async LINQ Support -->\n",
    "<PackageReference Include=\"Azure.Identity\" Version=\"1.15.0\" />\n",
    "<PackageReference Include=\"System.Linq.Async\" Version=\"6.0.3\" />\n",
    "\n",
    "<!-- Local Agent Framework References -->\n",
    "<!-- Microsoft.Agents.AI.dll - Core agent abstractions -->\n",
    "<!-- Microsoft.Agents.AI.OpenAI.dll - GitHub Models integration -->\n",
    "```\n",
    "\n",
    "### 🔑 **GitHub मॉडेल्स कॉन्फिगरेशन**\n",
    "\n",
    "**पर्यावरण सेटअप (.env फाइल):**\n",
    "```env\n",
    "GITHUB_TOKEN=your_github_personal_access_token\n",
    "GITHUB_ENDPOINT=https://models.inference.ai.azure.com\n",
    "GITHUB_MODEL_ID=gpt-4o-mini\n",
    "```\n",
    "\n",
    "**कॉन्फिगरेशन व्यवस्थापन:**\n",
    "```csharp\n",
    "// Load environment variables securely\n",
    "Env.Load(\"../../../.env\");\n",
    "var githubToken = Environment.GetEnvironmentVariable(\"GITHUB_TOKEN\");\n",
    "var githubEndpoint = Environment.GetEnvironmentVariable(\"GITHUB_ENDPOINT\");\n",
    "var modelId = Environment.GetEnvironmentVariable(\"GITHUB_MODEL_ID\");\n",
    "```\n",
    "\n",
    "### 🏗️ **अनुक्रमिक वर्कफ्लो आर्किटेक्चर**\n",
    "\n",
    "```mermaid\n",
    "graph TD\n",
    "    A[Initial Input] --> B[Stage 1: Analysis Agent]\n",
    "    B --> C[Checkpoint 1]\n",
    "    C --> D[Stage 2: Processing Agent]\n",
    "    D --> E[Checkpoint 2]\n",
    "    E --> F[Stage 3: Validation Agent]\n",
    "    F --> G[Final Output]\n",
    "    \n",
    "    H[State Context] --> B\n",
    "    H --> D\n",
    "    H --> F\n",
    "    \n",
    "    I[GitHub Models API] --> B\n",
    "    I --> D\n",
    "    I --> F\n",
    "```\n",
    "\n",
    "**महत्त्वाचे घटक:**\n",
    "- **अनुक्रमिक एजंट्स**: प्रत्येक प्रक्रिया टप्प्यासाठी विशेष एजंट्स\n",
    "- **स्थिती संदर्भ**: टप्प्यांमध्ये जमा झालेला डेटा आणि निर्णय टिकवून ठेवतो\n",
    "- **तपासणी बिंदू**: प्रत्येक टप्प्यात गुणवत्ता आणि सुसंगतता सुनिश्चित करण्यासाठी पडताळणी बिंदू\n",
    "- **GitHub मॉडेल्स क्लायंट**: सर्व वर्कफ्लो टप्प्यांमध्ये AI मॉडेल्सचा सुसंगत प्रवेश\n",
    "\n",
    "## 🎨 **अनुक्रमिक वर्कफ्लो डिझाइन पॅटर्न्स**\n",
    "\n",
    "### 📝 **दस्तऐवज प्रक्रिया पाइपलाइन**\n",
    "```\n",
    "Raw Document → Content Extraction → Analysis → Validation → Structured Output\n",
    "```\n",
    "\n",
    "### 🎯 **सामग्री निर्मिती वर्कफ्लो**\n",
    "```\n",
    "Brief/Requirements → Research → Content Creation → Review → Final Polish\n",
    "```\n",
    "\n",
    "### 🔍 **गुणवत्ता आश्वासन पाइपलाइन**\n",
    "```\n",
    "Initial Review → Technical Validation → Compliance Check → Final Approval\n",
    "```\n",
    "\n",
    "### 💼 **व्यवसाय बुद्धिमत्ता वर्कफ्लो**\n",
    "```\n",
    "Data Collection → Processing → Analysis → Report Generation → Distribution\n",
    "```\n",
    "\n",
    "## 🏢 **एंटरप्राइझ अनुक्रमिक फायदे**\n",
    "\n",
    "### 🎯 **विश्वसनीयता आणि गुणवत्ता**\n",
    "- **निश्चित प्रक्रिया**: संरचित टप्प्यांद्वारे सुसंगत, पुनरावृत्ती होणारे परिणाम\n",
    "- **गुणवत्ता गेट्स**: प्रत्येक टप्प्यात पडताळणी बिंदू गुणवत्ता सुनिश्चित करतात\n",
    "- **त्रुटी वेगळे करणे**: एका टप्प्यातील समस्या पुढील टप्प्यांमध्ये प्रसारित होत नाहीत\n",
    "- **ऑडिट ट्रेल्स**: प्रत्येक टप्प्यातील निर्णय आणि रूपांतरणांचे संपूर्ण ट्रॅकिंग\n",
    "\n",
    "### 📈 **स्केलेबिलिटी आणि कामगिरी**\n",
    "- **मॉड्युलर डिझाइन**: प्रत्येक टप्पा स्वतंत्रपणे ऑप्टिमाइझ केला जाऊ शकतो\n",
    "- **संसाधन व्यवस्थापन**: टप्प्यांमध्ये AI मॉडेल संसाधनांचे कार्यक्षम वाटप\n",
    "- **स्थिती ऑप्टिमायझेशन**: टप्प्यांमध्ये किमान स्थिती हस्तांतरणासाठी कार्यक्षम कामगिरी\n",
    "- **पॅरलल स्टेज ग्रुप्स**: अनेक अनुक्रमिक वर्कफ्लो समांतर चालवता येतात\n",
    "\n",
    "### 🔒 **सुरक्षा आणि अनुपालन**\n",
    "- **टप्पा-स्तरीय सुरक्षा**: वेगवेगळ्या प्रक्रिया टप्प्यांसाठी वेगवेगळ्या सुरक्षा धोरणे\n",
    "- **डेटा पडताळणी**: प्रत्येक तपासणी बिंदूवर डेटा अखंडता आणि अनुपालन सुनिश्चित करा\n",
    "- **प्रवेश नियंत्रण**: वेगवेगळ्या वर्कफ्लो टप्प्यांसाठी सूक्ष्म परवानग्या\n",
    "- **नियामक अनुपालन**: संरचित प्रक्रियेद्वारे नियामक आवश्यकता पूर्ण करा\n",
    "\n",
    "### 📊 **मॉनिटरिंग आणि विश्लेषण**\n",
    "- **टप्पा-स्तरीय मेट्रिक्स**: प्रत्येक वर्कफ्लो टप्प्यासाठी कामगिरीचे निरीक्षण\n",
    "- **बॉटलनेक ओळख**: संथ टप्पे ओळखून ऑप्टिमाइझ करा\n",
    "- **गुणवत्ता मेट्रिक्स**: प्रत्येक टप्प्यात गुणवत्ता आणि यश दर ट्रॅक करा\n",
    "- **प्रक्रिया ऑप्टिमायझेशन**: टप्पा-स्तरीय विश्लेषणावर आधारित सतत सुधारणा\n",
    "\n",
    "चला मजबूत अनुक्रमिक AI प्रक्रिया पाइपलाइन तयार करूया! 🚀\n"
   ]
  },
  {
   "cell_type": "code",
   "execution_count": 1,
   "id": "00da9b8b",
   "metadata": {
    "language_info": {
     "name": "polyglot-notebook"
    },
    "polyglot_notebook": {
     "kernelName": "csharp"
    }
   },
   "outputs": [
    {
     "data": {
      "text/html": [
       "<div><div></div><div></div><div><strong>Installed Packages</strong><ul><li><span>Microsoft.Extensions.AI, 9.9.1</span></li></ul></div></div>"
      ]
     },
     "metadata": {},
     "output_type": "display_data"
    }
   ],
   "source": [
    "#r \"nuget: Microsoft.Extensions.AI, 9.9.1\""
   ]
  },
  {
   "cell_type": "code",
   "execution_count": 2,
   "id": "b5bb8d4a",
   "metadata": {
    "language_info": {
     "name": "polyglot-notebook"
    },
    "polyglot_notebook": {
     "kernelName": "csharp"
    }
   },
   "outputs": [
    {
     "data": {
      "text/html": [
       "<div><div></div><div></div><div><strong>Installed Packages</strong><ul><li><span>System.ClientModel, 1.6.1</span></li></ul></div></div>"
      ]
     },
     "metadata": {},
     "output_type": "display_data"
    }
   ],
   "source": [
    "#r \"nuget: System.ClientModel, 1.6.1.0\""
   ]
  },
  {
   "cell_type": "code",
   "execution_count": 3,
   "id": "ab1e7fc6",
   "metadata": {
    "language_info": {
     "name": "polyglot-notebook"
    },
    "polyglot_notebook": {
     "kernelName": "csharp"
    }
   },
   "outputs": [
    {
     "data": {
      "text/html": [
       "<div><div></div><div></div><div><strong>Installed Packages</strong><ul><li><span>Azure.Identity, 1.15.0</span></li><li><span>OpenTelemetry.Api, 1.0.1</span></li><li><span>System.Linq.Async, 6.0.3</span></li></ul></div></div>"
      ]
     },
     "metadata": {},
     "output_type": "display_data"
    }
   ],
   "source": [
    "#r \"nuget: Azure.Identity, 1.15.0\"\n",
    "#r \"nuget: System.Linq.Async, 6.0.3\"\n",
    "#r \"nuget: OpenTelemetry.Api, 1.0.0\""
   ]
  },
  {
   "cell_type": "code",
   "execution_count": 4,
   "id": "bcaac0dc",
   "metadata": {
    "language_info": {
     "name": "polyglot-notebook"
    },
    "polyglot_notebook": {
     "kernelName": "csharp"
    }
   },
   "outputs": [
    {
     "data": {
      "text/html": [
       "<div><div></div><div></div><div><strong>Installed Packages</strong><ul><li><span>Microsoft.Agents.AI.Workflows, 1.0.0-preview.251001.3</span></li></ul></div></div>"
      ]
     },
     "metadata": {},
     "output_type": "display_data"
    }
   ],
   "source": [
    "#r \"nuget: Microsoft.Agents.AI.Workflows, 1.0.0-preview.251001.3\""
   ]
  },
  {
   "cell_type": "code",
   "execution_count": null,
   "id": "67b833a2",
   "metadata": {
    "language_info": {
     "name": "polyglot-notebook"
    },
    "polyglot_notebook": {
     "kernelName": "csharp"
    }
   },
   "outputs": [
    {
     "data": {
      "text/html": [
       "<div><div></div><div></div><div><strong>Installed Packages</strong><ul><li><span>Microsoft.Agents.AI.OpenAI, 1.0.0-preview.251001.2</span></li></ul></div></div>"
      ]
     },
     "metadata": {},
     "output_type": "display_data"
    }
   ],
   "source": [
    "#r \"nuget: Microsoft.Agents.AI.OpenAI, 1.0.0-preview.251001.3\""
   ]
  },
  {
   "cell_type": "code",
   "execution_count": 6,
   "id": "87360b4b",
   "metadata": {
    "language_info": {
     "name": "polyglot-notebook"
    },
    "polyglot_notebook": {
     "kernelName": "csharp"
    }
   },
   "outputs": [
    {
     "data": {
      "text/html": [
       "<div><div></div><div></div><div><strong>Installed Packages</strong><ul><li><span>DotNetEnv, 3.1.1</span></li></ul></div></div>"
      ]
     },
     "metadata": {},
     "output_type": "display_data"
    }
   ],
   "source": [
    "#r \"nuget: DotNetEnv, 3.1.1\""
   ]
  },
  {
   "cell_type": "code",
   "execution_count": 7,
   "id": "d138d9d8",
   "metadata": {
    "language_info": {
     "name": "polyglot-notebook"
    },
    "polyglot_notebook": {
     "kernelName": "csharp"
    }
   },
   "outputs": [],
   "source": [
    "// #r \"nuget: Microsoft.Extensions.AI.OpenAI, 9.9.0-preview.1.25458.4\""
   ]
  },
  {
   "cell_type": "code",
   "execution_count": 8,
   "id": "8c41aa03",
   "metadata": {
    "language_info": {
     "name": "polyglot-notebook"
    },
    "polyglot_notebook": {
     "kernelName": "csharp"
    }
   },
   "outputs": [],
   "source": [
    "using System;\n",
    "using System.ComponentModel;\n",
    "using System.ClientModel;\n",
    "using OpenAI;\n",
    "using Azure.Identity;\n",
    "using Microsoft.Extensions.AI;\n",
    "using Microsoft.Agents.AI;\n",
    "using Microsoft.Agents.AI.Workflows;"
   ]
  },
  {
   "cell_type": "code",
   "execution_count": 9,
   "id": "1e4716e1",
   "metadata": {
    "language_info": {
     "name": "polyglot-notebook"
    },
    "polyglot_notebook": {
     "kernelName": "csharp"
    }
   },
   "outputs": [],
   "source": [
    " using DotNetEnv;"
   ]
  },
  {
   "cell_type": "code",
   "execution_count": 10,
   "id": "4af5524b",
   "metadata": {
    "language_info": {
     "name": "polyglot-notebook"
    },
    "polyglot_notebook": {
     "kernelName": "csharp"
    }
   },
   "outputs": [],
   "source": [
    "Env.Load(\"../../../.env\");"
   ]
  },
  {
   "cell_type": "code",
   "execution_count": 11,
   "id": "c605fbae",
   "metadata": {
    "language_info": {
     "name": "polyglot-notebook"
    },
    "polyglot_notebook": {
     "kernelName": "csharp"
    }
   },
   "outputs": [],
   "source": [
    "\n",
    "var github_endpoint = Environment.GetEnvironmentVariable(\"GITHUB_ENDPOINT\") ?? throw new InvalidOperationException(\"GITHUB_ENDPOINT is not set.\");\n",
    "var github_model_id =  \"gpt-4o\";\n",
    "var github_token = Environment.GetEnvironmentVariable(\"GITHUB_TOKEN\") ?? throw new InvalidOperationException(\"GITHUB_TOKEN is not set.\");\n",
    "\n",
    "var imgPath =\"../imgs/home.png\";"
   ]
  },
  {
   "cell_type": "code",
   "execution_count": 12,
   "id": "2ca431fb",
   "metadata": {
    "language_info": {
     "name": "polyglot-notebook"
    },
    "polyglot_notebook": {
     "kernelName": "csharp"
    }
   },
   "outputs": [],
   "source": [
    "var openAIOptions = new OpenAIClientOptions()\n",
    "{\n",
    "    Endpoint = new Uri(github_endpoint)\n",
    "};"
   ]
  },
  {
   "cell_type": "code",
   "execution_count": 13,
   "id": "9cb1047b",
   "metadata": {
    "language_info": {
     "name": "polyglot-notebook"
    },
    "polyglot_notebook": {
     "kernelName": "csharp"
    }
   },
   "outputs": [],
   "source": [
    "\n",
    "var openAIClient = new OpenAIClient(new ApiKeyCredential(github_token), openAIOptions);"
   ]
  },
  {
   "cell_type": "code",
   "execution_count": 14,
   "id": "e2b4d1da",
   "metadata": {
    "language_info": {
     "name": "polyglot-notebook"
    },
    "polyglot_notebook": {
     "kernelName": "csharp"
    }
   },
   "outputs": [],
   "source": [
    "const string SalesAgentName = \"Sales-Agent\";\n",
    "const string SalesAgentInstructions = \"You are my furniture sales consultant, you can find different furniture elements from the pictures and give me a purchase suggestion\";"
   ]
  },
  {
   "cell_type": "code",
   "execution_count": 15,
   "id": "a13e8e60",
   "metadata": {
    "language_info": {
     "name": "polyglot-notebook"
    },
    "polyglot_notebook": {
     "kernelName": "csharp"
    }
   },
   "outputs": [],
   "source": [
    "const string PriceAgentName = \"Price-Agent\";\n",
    "const string PriceAgentInstructions = @\"You are a furniture pricing specialist and budget consultant. Your responsibilities include:\n",
    "        1. Analyze furniture items and provide realistic price ranges based on quality, brand, and market standards\n",
    "        2. Break down pricing by individual furniture pieces\n",
    "        3. Provide budget-friendly alternatives and premium options\n",
    "        4. Consider different price tiers (budget, mid-range, premium)\n",
    "        5. Include estimated total costs for room setups\n",
    "        6. Suggest where to find the best deals and shopping recommendations\n",
    "        7. Factor in additional costs like delivery, assembly, and accessories\n",
    "        8. Provide seasonal pricing insights and best times to buy\n",
    "        Always format your response with clear price breakdowns and explanations for the pricing rationale.\";"
   ]
  },
  {
   "cell_type": "code",
   "execution_count": 16,
   "id": "9c7f2e6b",
   "metadata": {
    "language_info": {
     "name": "polyglot-notebook"
    },
    "polyglot_notebook": {
     "kernelName": "csharp"
    }
   },
   "outputs": [],
   "source": [
    "const string QuoteAgentName = \"Quote-Agent\";\n",
    "const string QuoteAgentInstructions = @\"You are a assistant that create a quote for furniture purchase.\n",
    "        1. Create a well-structured quote document that includes:\n",
    "        2. A title page with the document title, date, and client name\n",
    "        3. An introduction summarizing the purpose of the document\n",
    "        4. A summary section with total estimated costs and recommendations\n",
    "        5. Use clear headings, bullet points, and tables for easy readability\n",
    "        6. All quotes are presented in markdown form\";"
   ]
  },
  {
   "cell_type": "code",
   "execution_count": 17,
   "id": "9913eb2d",
   "metadata": {
    "language_info": {
     "name": "polyglot-notebook"
    },
    "polyglot_notebook": {
     "kernelName": "csharp"
    }
   },
   "outputs": [],
   "source": [
    "using System.IO;\n",
    "\n",
    "async Task<byte[]> OpenImageBytesAsync(string path)\n",
    "{\n",
    "\treturn await File.ReadAllBytesAsync(path);\n",
    "}\n",
    "\n",
    "var imageBytes = await OpenImageBytesAsync(imgPath);"
   ]
  },
  {
   "cell_type": "code",
   "execution_count": 18,
   "id": "18cfe533",
   "metadata": {
    "language_info": {
     "name": "polyglot-notebook"
    },
    "polyglot_notebook": {
     "kernelName": "csharp"
    }
   },
   "outputs": [
    {
     "data": {
      "text/html": [
       "<div class=\"dni-plaintext\"><pre>[ 137, 80, 78, 71, 13, 10, 26, 10, 0, 0, 0, 13, 73, 72, 68, 82, 0, 0, 3, 142 ... (823194 more) ]</pre></div><style>\r\n",
       ".dni-code-hint {\r\n",
       "    font-style: italic;\r\n",
       "    overflow: hidden;\r\n",
       "    white-space: nowrap;\r\n",
       "}\r\n",
       ".dni-treeview {\r\n",
       "    white-space: nowrap;\r\n",
       "}\r\n",
       ".dni-treeview td {\r\n",
       "    vertical-align: top;\r\n",
       "    text-align: start;\r\n",
       "}\r\n",
       "details.dni-treeview {\r\n",
       "    padding-left: 1em;\r\n",
       "}\r\n",
       "table td {\r\n",
       "    text-align: start;\r\n",
       "}\r\n",
       "table tr { \r\n",
       "    vertical-align: top; \r\n",
       "    margin: 0em 0px;\r\n",
       "}\r\n",
       "table tr td pre \r\n",
       "{ \r\n",
       "    vertical-align: top !important; \r\n",
       "    margin: 0em 0px !important;\r\n",
       "} \r\n",
       "table th {\r\n",
       "    text-align: start;\r\n",
       "}\r\n",
       "</style>"
      ]
     },
     "metadata": {},
     "output_type": "display_data"
    }
   ],
   "source": [
    "imageBytes"
   ]
  },
  {
   "cell_type": "code",
   "execution_count": 19,
   "id": "15309ab7",
   "metadata": {
    "language_info": {
     "name": "polyglot-notebook"
    },
    "polyglot_notebook": {
     "kernelName": "csharp"
    }
   },
   "outputs": [],
   "source": [
    "AIAgent salesagent = openAIClient.GetChatClient(github_model_id).CreateAIAgent(\n",
    "    name:SalesAgentName,instructions:SalesAgentInstructions);\n",
    "AIAgent priceagent  = openAIClient.GetChatClient(github_model_id).CreateAIAgent(\n",
    "    name:PriceAgentName,instructions:PriceAgentInstructions);\n",
    "AIAgent quoteagent = openAIClient.GetChatClient(github_model_id).CreateAIAgent(\n",
    "    name:QuoteAgentName,instructions:QuoteAgentInstructions);"
   ]
  },
  {
   "cell_type": "code",
   "execution_count": 20,
   "id": "5758b83b",
   "metadata": {
    "language_info": {
     "name": "polyglot-notebook"
    },
    "polyglot_notebook": {
     "kernelName": "csharp"
    }
   },
   "outputs": [],
   "source": [
    "var workflow = new WorkflowBuilder(salesagent)\n",
    "            .AddEdge(salesagent,priceagent)\n",
    "            .AddEdge(priceagent, quoteagent)\n",
    "            .Build();"
   ]
  },
  {
   "cell_type": "code",
   "execution_count": 21,
   "id": "fa922e4e",
   "metadata": {
    "language_info": {
     "name": "polyglot-notebook"
    },
    "polyglot_notebook": {
     "kernelName": "csharp"
    }
   },
   "outputs": [],
   "source": [
    "ChatMessage userMessage = new ChatMessage(ChatRole.User, [\n",
    "\tnew DataContent(imageBytes, \"image/png\"),new TextContent(\"Please find the relevant furniture according to the image and give the corresponding price for each piece of furniture.Finally Output generates a quotation\") \n",
    "]);"
   ]
  },
  {
   "cell_type": "code",
   "execution_count": 22,
   "id": "5b3381c9",
   "metadata": {
    "language_info": {
     "name": "polyglot-notebook"
    },
    "polyglot_notebook": {
     "kernelName": "csharp"
    }
   },
   "outputs": [],
   "source": [
    "StreamingRun run = await InProcessExecution.StreamAsync(workflow, userMessage);"
   ]
  },
  {
   "cell_type": "code",
   "execution_count": 23,
   "id": "80b81d1e",
   "metadata": {
    "language_info": {
     "name": "polyglot-notebook"
    },
    "polyglot_notebook": {
     "kernelName": "csharp"
    }
   },
   "outputs": [
    {
     "name": "stdout",
     "output_type": "stream",
     "text": [
      "Here are the furniture pieces identified in the image along with estimated prices based on typical market rates for similar items. The prices may vary depending on the retailer or brand.\n",
      "\n",
      "### Furniture Elements:\n",
      "1. **Modern TV Console:**\n",
      "   - Description: A mid-century-style wooden TV console with ample storage and a sleek design.\n",
      "   - Estimated Price: $350\n",
      "\n",
      "2. **Flat Screen TV (optional):**\n",
      "   - Description: A wall-mounted flat screen TV as shown.\n",
      "   - Estimated Price: $400 (optional add-on)\n",
      "\n",
      "3. **Armchair (Blue Accent Chair):**\n",
      "   - Description: A modern navy-blue armchair with a curved back and comfortable seating.\n",
      "   - Estimated Price: $250\n",
      "\n",
      "4. **Minimalist Coffee Table:**\n",
      "   - Description: A white, slightly oval coffee table with a wooden base for a modern look.\n",
      "   - Estimated Price: $150\n",
      "\n",
      "5. **Neutral Fabric Sofa:**\n",
      "   - Description: A long, white upholstered sofa with cushions in varying tones of blue and gray.\n",
      "   - Estimated Price: $700\n",
      "\n",
      "6. **Throw Pillows Assortment:**\n",
      "   - Description: Blue and patterned throw pillows to complement the sofa design.\n",
      "   - Estimated Price: $25 each (6 pillows total: $150)\n",
      "\n",
      "7. **End Tables (2x, beside sofa and armchair):**\n",
      "   - Description: Compact square tables with metal frames and neutral tabletops.\n",
      "   - Estimated Price: $100 each ($200 total)\n",
      "\n",
      "8. **Pendant Lights (2x):**\n",
      "   - Description: Unique modern pendant lights with spherical bulbs near the corner lamp table.\n",
      "   - Estimated Price: $75 each ($150 total)\n",
      "\n",
      "9. **Chandelier Lighting Fixture:**\n",
      "   - Description: Black modern chandelier with spherical glass bulbs.\n",
      "   - Estimated Price: $180\n",
      "\n",
      "10. **Curtains (Floor-to-Ceiling):**\n",
      "    - Description: Dual-layer curtains in gray and white sheers for an elegant touch.\n",
      "    - Estimated Price: $150\n",
      "\n",
      "11. **Side Table with Decorative Items/Vase:**\n",
      "    - Description: A slim, metal-legged side table with a vase and minimalist décor.\n",
      "    - Estimated Price: $120\n",
      "\n",
      "12. **Wall Art Frame (Deer Illustration):**\n",
      "    - Description: Framed wall art with modern deer illustration.\n",
      "    - Estimated Price: $50\n",
      "\n",
      "---\n",
      "\n",
      "### **Quotation**:\n",
      "1. Modern TV Console - $350  \n",
      "2. Flat Screen TV (Optional) - $400  \n",
      "3. Armchair (Blue Accent Chair) - $250  \n",
      "4. Minimalist Coffee Table - $150  \n",
      "5. Neutral Fabric Sofa - $700  \n",
      "6. Throw Pillows (6x) - $150  \n",
      "7. End Tables (2x) - $200  \n",
      "8. Pendant Lights (2x) - $150  \n",
      "9. Chandelier Lighting Fixture - $180  \n",
      "10. Curtains (Floor-to-Ceiling) - $150  \n",
      "11. Side Table with Decorative Items/Vase - $120  \n",
      "12. Wall Art Frame (Deer Illustration) - $50  \n",
      "\n",
      "---\n",
      "\n",
      "**Total Price Estimate: $2,930**  \n",
      "(Note: Excludes optional TV. Add $400 if included.)Below is a detailed furniture pricing analysis and recommendations for furnishing your living room setup: \n",
      "\n",
      "---\n",
      "\n",
      "### Price Breakdown and Rationale\n",
      "\n",
      "1. **TV Console**  \n",
      "   - Budget: $150–$250 for basic styles in MDF or particleboard materials.  \n",
      "   - Mid-Range: $300–$500 for solid wood or modern styles with extra storage.  \n",
      "   - Premium: $600–$1,000 for designer brands or consoles with built-in cable management systems.  \n",
      "\n",
      "   **Recommendation:** A stylish mid-century modern option at $350 offers both design aesthetics and functionality without breaking the bank.\n",
      "\n",
      "---\n",
      "\n",
      "2. **Flat Screen TV** (Optional)  \n",
      "   - Budget: $200–$400 for basic HD options under 50 inches.  \n",
      "   - Mid-Range: $500–$800 for 4K quality screens.  \n",
      "   - Premium: $1,000+ for OLED technology or large 65-75 inch screens.  \n",
      "\n",
      "   **Recommendation:** At $400, this provides a reasonable option at mid-range pricing for smaller living rooms, perfect for casual viewing.\n",
      "\n",
      "---\n",
      "\n",
      "3. **Armchair (Accent Chair)**  \n",
      "   - Budget: $100–$200 for basic upholstered options.  \n",
      "   - Mid-Range: $250–$400 for ergonomic and well-designed fabric chairs.  \n",
      "   - Premium: $500–$800 for branded or designer luxury chairs.  \n",
      "\n",
      "   **Recommendation:** The armchair selection at $250 offers comfort and style for a reasonable price in the mid-tier range.\n",
      "\n",
      "---\n",
      "\n",
      "4. **Coffee Table**  \n",
      "   - Budget: $50–$150 for simple MDF designs or second-hand options.  \n",
      "   - Mid-Range: $200–$400 for solid wood or glass-top tables.  \n",
      "   - Premium: $500–$800 for marble or custom designer styles.  \n",
      "\n",
      "   **Recommendation:** The $150 table is a lightweight, budget-friendly choice with modern aesthetics, suitable for small spaces.\n",
      "\n",
      "---\n",
      "\n",
      "5. **Neutral Fabric Sofa**  \n",
      "   - Budget: $300–$600 for basic polyester or cotton upholstery with foam cushions.  \n",
      "   - Mid-Range: $700–$1,200 for durable performance fabrics like microfiber or linen.  \n",
      "   - Premium: $1,500+ for leather, velvet, or designer-branded sofas.  \n",
      "\n",
      "   **Recommendation:** At $700, this mid-range upholstered sofa fits well into stylish setups requiring comfort and durability.\n",
      "\n",
      "---\n",
      "\n",
      "6. **Throw Pillows (6 Pillows)**  \n",
      "   - Budget: $10–$20 each for standard poly-filled pillows.  \n",
      "   - Mid-Range: $25–$40 each for pillows with decorative designs and quality materials.  \n",
      "   - Premium: $50–$100+ each for designer or hand-sewn pillows.  \n",
      "\n",
      "   **Recommendation:** At $150 for six total pillows, this balances quality and affordability for color-coordinated accents.\n",
      "\n",
      "---\n",
      "\n",
      "7. **End Tables**  \n",
      "   - Budget: $50–$100 each for basic designs with MDF surfaces.  \n",
      "   - Mid-Range: $120–$250 for solid wood or metal-framed options.  \n",
      "   - Premium: $300–$500 for custom shapes or designer brands.  \n",
      "\n",
      "   **Recommendation:** The choice at $100 each gives you sturdy, stylish tables without excess costs.\n",
      "\n",
      "---\n",
      "\n",
      "8. **Pendant Lights**  \n",
      "   - Budget: $30–$75 each for basic pendant fixtures.  \n",
      "   - Mid-Range: $100–$200 each for modern, decorative designs.  \n",
      "   - Premium: $250+ for artisan-crafted or smart-home technology lighting.  \n",
      "\n",
      "   **Recommendation:** At $75 each, these pendant lights offer a great balance of utility and design for the price.\n",
      "\n",
      "---\n",
      "\n",
      "9. **Chandelier Lighting Fixture**  \n",
      "   - Budget: $100–$200 for simple yet modern chandelier designs.  \n",
      "   - Mid-Range: $200–$500 for high-quality, multi-light fixtures with glass components.  \n",
      "   - Premium: $600+ for luxury lighting sets or custom designs.  \n",
      "\n",
      "   **Recommendation:** The $180 fixture is affordable and adds elegance without exceeding mid-range pricing.\n",
      "\n",
      "---\n",
      "\n",
      "10. **Curtains**  \n",
      "    - Budget: $50–$100 for polyester or cotton panels with standard lengths.  \n",
      "    - Mid-Range: $120–$250 for dual-layer block-out curtains or linen sheers.  \n",
      "    - Premium: $300+ for motorized curtains or designer prints.  \n",
      "\n",
      "    **Recommendation:** At $150, these dual-layer curtains ensure style, privacy, and light control at a reasonable cost.\n",
      "\n",
      "---\n",
      "\n",
      "11. **Side Table and Vase**  \n",
      "    - Budget: $50–$100 for basic end tables with simple designs.  \n",
      "    - Mid-Range: $120–$300 for tables with decorative accents or durable materials.  \n",
      "    - Premium: $400+ for rare wood or branded designs paired with luxury décor pieces.  \n",
      "\n",
      "    **Recommendation:** A chic metal-leg table with complementary décor at $120 is a solid mid-range choice.\n",
      "\n",
      "---\n",
      "\n",
      "12. **Wall Art Frame**  \n",
      "    - Budget: $20–$40 for printed artwork or poster frames.  \n",
      "    - Mid-Range: $50–$100 for custom prints or canvas designs.  \n",
      "    - Premium: $150+ for unique artwork or branded galleries.  \n",
      "\n",
      "    **Recommendation:** At $50, this modern deer illustration adds personality without breaking the budget.\n",
      "\n",
      "---\n",
      "\n",
      "### **Estimated Total Living Room Setup Costs**  \n",
      "\n",
      "**Budget Tier (low cost):** $1,500–$2,000  \n",
      "**Mid-Range Tier:** $2,500–$3,500  \n",
      "**Premium Tier:** $5,000+  \n",
      "\n",
      "Your quoted total ($2,930) places this setup firmly in the **mid-range tier.**\n",
      "\n",
      "---\n",
      "\n",
      "### Budget-Friendly Alternatives  \n",
      "- Look for second-hand or outlet stores like **Facebook Marketplace**, **Craigslist**, or **Habitat for Humanity ReStores**.  \n",
      "- Retailers like **IKEA** or **Walmart** have affordable consoles, coffee tables, and sofas.  \n",
      "- Online clearance sales on sites like **Wayfair** or **Amazon** help reduce costs on lighting and décor.  \n",
      "\n",
      "---\n",
      "\n",
      "### Premium Options  \n",
      "- Check out brands like **West Elm**, **Pottery Barn**, or **Crate & Barrel** for luxurious designs.  \n",
      "- Explore high-end finishes for armchairs and lighting at specialized stores like **Arhaus** or **RH (Restoration Hardware)**.  \n",
      "\n",
      "---\n",
      "\n",
      "### Seasonal Pricing Insights  \n",
      "- **Best Time to Buy Furniture:**  \n",
      "  - January and July (clearance sales).  \n",
      "  - Holiday weekends (like Labor Day and Memorial Day).  \n",
      "  - Black Friday/Cyber Monday (Mid-to-Premium Tier Deals).  \n",
      "\n",
      "- **Delivery and Assembly Costs:**  \n",
      "  - Budget: $50–$100 delivery fee (free for budget options).  \n",
      "  - Mid-Range/Premium: $150–$300 (varies by retailer).  \n",
      "  - Assembly: $50–$150 depending on complexity.  \n",
      "\n",
      "Make sure to calculate delivery and assembly costs when finalizing the purchase.\n",
      "\n",
      "---\n",
      "\n",
      "Let me know if you'd like further breakdowns or recommendations!```markdown\n",
      "# Furniture Purchase Quote\n",
      "\n",
      "**Date:** October 31, 2023  \n",
      "**Client Name:** [Client's Full Name]\n",
      "\n",
      "---\n",
      "\n",
      "## Introduction  \n",
      "The purpose of this document is to provide a comprehensive quote for the purchase of furniture for your living space. This quote includes an estimated breakdown of costs, a brief description of each proposed item, and recommendations to suit your design preferences and budget. The goal is to ensure you get high-quality furniture that meets your aesthetic and functional needs.\n",
      "\n",
      "---\n",
      "\n",
      "## Summary of Total Estimated Costs and Recommendations:  \n",
      "\n",
      "| Item                        | Quantity | Unit Price (USD) | Total Price (USD) | Recommendation                                                   |\n",
      "|-----------------------------|----------|------------------|-------------------|-------------------------------------------------------------------|\n",
      "| TV Console                 | 1        | $350             | $350              | Modern mid-century console offering storage and durability.      |\n",
      "| Flat Screen TV (Optional)  | 1        | $400             | $400              | Mid-range 4K TV suitable for small living rooms (optional).       |\n",
      "| Armchair (Accent Chair)    | 1        | $250             | $250              | Comfortable and stylish option for reading or relaxation.        |\n",
      "| Coffee Table               | 1        | $150             | $150              | Budget-friendly design with modern aesthetics.                   |\n",
      "| Fabric Sofa                | 1        | $700             | $700              | Mid-range upholstered sofa combining durability and comfort.      |\n",
      "| Throw Pillows              | 6        | $25              | $150              | A blend of decorative and functional pillows in a neutral tone.  |\n",
      "| End Tables                 | 2        | $100             | $200              | Practical and sturdy end tables at an affordable price.           |\n",
      "| Pendant Lights             | 2        | $75              | $150              | Modern-looking pendant lighting to enhance ambience.             |\n",
      "| Chandelier Lighting Fixture| 1        | $180             | $180              | Elegant chandelier to elevate the room’s lighting aesthetics.     |\n",
      "| Curtains                   | 1 Set    | $150             | $150              | Functional dual-layer curtains for privacy and light control.     |\n",
      "| Side Table and Vase        | 1 Set    | $120             | $120              | Chic metal-leg table paired with a complementary modern vase.    |\n",
      "| Wall Art Frame             | 1        | $50              | $50               | Minimal, modern wall décor to add character to the room.         |\n",
      "\n",
      "### Total Estimated Cost: **$2,930**\n",
      "\n",
      "---\n",
      "\n",
      "## Detailed Recommendations  \n",
      "\n",
      "### Budget-Friendly Options:\n",
      "- For cost savings, explore retailers like **IKEA**, **Amazon**, or **Walmart** for similar-quality items at a reduced price.\n",
      "- Consider second-hand or lightly-used items from platforms such as **Facebook Marketplace** or **Craigslist**.\n",
      "- Take advantage of seasonal sales on holiday weekends or clearance sections for discounts.\n",
      "\n",
      "### Premium Suggestions:\n",
      "- Upgrade to furniture from **West Elm**, **Crate & Barrel**, or **Pottery Barn** for higher-end designs and materials.\n",
      "- Opt for more luxurious lighting fixtures like those from **RH (Restoration Hardware)** or designer stores.\n",
      "\n",
      "---\n",
      "\n",
      "## Seasonal and Delivery Insights:\n",
      "- **Best Purchase Times:** January, July (clearance sales) or Black Friday/Cyber Monday.  \n",
      "- **Delivery Costs:** Estimated $50–$150 for mid-range furniture. Premium items may cost up to $300 for delivery.  \n",
      "- **Assembly Fees:** Optional assembly services, approx. $50–$150.\n",
      "\n",
      "---\n",
      "\n",
      "Should you need further refinement or alternative options for any of the items, please let us know! We’re happy to work with you to ensure your living space is both functional and beautiful.\n",
      "\n",
      "**Thank you for choosing us for your furniture needs!**\n",
      "```\r\n"
     ]
    }
   ],
   "source": [
    "await run.TrySendMessageAsync(new TurnToken(emitEvents: true));\n",
    "string id=\"\";\n",
    "string messageData=\"\";\n",
    "await foreach (WorkflowEvent evt in run.WatchStreamAsync().ConfigureAwait(false))\n",
    "{\n",
    "    if (evt is AgentRunUpdateEvent executorComplete)\n",
    "    {\n",
    "        if(id==\"\")\n",
    "        {\n",
    "            id=executorComplete.ExecutorId;\n",
    "        }\n",
    "        if(id==executorComplete.ExecutorId)\n",
    "        {\n",
    "            messageData+=executorComplete.Data.ToString();\n",
    "        }\n",
    "        else\n",
    "        {\n",
    "            id=executorComplete.ExecutorId;\n",
    "        }\n",
    "        // Console.WriteLine($\"{executorComplete.ExecutorId}: {executorComplete.Data}\");\n",
    "    }\n",
    "}\n",
    "\n",
    "Console.WriteLine(messageData);"
   ]
  },
  {
   "cell_type": "markdown",
   "metadata": {},
   "source": [
    "\n---\n\n**अस्वीकरण**:  \nहा दस्तऐवज AI भाषांतर सेवा [Co-op Translator](https://github.com/Azure/co-op-translator) चा वापर करून भाषांतरित करण्यात आला आहे. आम्ही अचूकतेसाठी प्रयत्नशील असलो तरी कृपया लक्षात ठेवा की स्वयंचलित भाषांतरे त्रुटी किंवा अचूकतेच्या अभावाने युक्त असू शकतात. मूळ भाषेतील दस्तऐवज हा अधिकृत स्रोत मानला जावा. महत्त्वाच्या माहितीसाठी व्यावसायिक मानवी भाषांतराची शिफारस केली जाते. या भाषांतराचा वापर करून उद्भवलेल्या कोणत्याही गैरसमज किंवा चुकीच्या अर्थासाठी आम्ही जबाबदार राहणार नाही.\n"
   ]
  }
 ],
 "metadata": {
  "kernelspec": {
   "display_name": ".NET (C#)",
   "language": "C#",
   "name": ".net-csharp"
  },
  "language_info": {
   "name": "polyglot-notebook"
  },
  "polyglot_notebook": {
   "kernelInfo": {
    "defaultKernelName": "csharp",
    "items": [
     {
      "aliases": [],
      "name": "csharp"
     }
    ]
   }
  },
  "coopTranslator": {
   "original_hash": "cf3c8ed83cd1954b8ad6432a41fdf78f",
   "translation_date": "2025-10-02T11:33:02+00:00",
   "source_file": "08-multi-agent/code_samples/workflows-agent-framework/dotNET/02.dotnet-agent-framework-workflow-ghmodel-sequential.ipynb",
   "language_code": "mr"
  }
 },
 "nbformat": 4,
 "nbformat_minor": 5
}