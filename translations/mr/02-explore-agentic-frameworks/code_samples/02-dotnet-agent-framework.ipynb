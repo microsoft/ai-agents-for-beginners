{
 "cells": [
  {
   "cell_type": "markdown",
   "id": "e480f8dc",
   "metadata": {},
   "source": [
    "# 🔍 एजेंटिक फ्रेमवर्क्सचा अभ्यास - बेसिक एजेंट (.NET)\n",
    "\n",
    "## 📋 शिकण्याची उद्दिष्टे\n",
    "\n",
    "या नोटबुकमध्ये Microsoft Agent Framework च्या मूलभूत संकल्पनांचा अभ्यास .NET मधील बेसिक एजेंटच्या अंमलबजावणीद्वारे केला जातो. तुम्ही मुख्य एजेंटिक पॅटर्न्स शिकाल आणि C# आणि .NET इकोसिस्टम वापरून बुद्धिमान एजेंट कसे कार्य करतात हे समजून घ्याल.\n",
    "\n",
    "**तुम्ही काय शोधाल:**\n",
    "- 🏗️ **एजेंट आर्किटेक्चर**: .NET मधील AI एजेंट्सची मूलभूत रचना समजून घेणे\n",
    "- 🛠️ **टूल इंटिग्रेशन**: एजेंट्स कसे बाह्य फंक्शन्स वापरून क्षमता वाढवतात  \n",
    "- 💬 **संवाद प्रवाह**: मल्टी-टर्न संवाद आणि थ्रेड व्यवस्थापनासह संदर्भ व्यवस्थापन\n",
    "- 🔧 **कॉन्फिगरेशन पॅटर्न्स**: .NET मध्ये एजेंट सेटअप आणि व्यवस्थापनासाठी सर्वोत्तम पद्धती\n",
    "\n",
    "## 🎯 मुख्य संकल्पना\n",
    "\n",
    "### एजेंटिक फ्रेमवर्कचे तत्त्व\n",
    "- **स्वायत्तता**: .NET AI अब्स्ट्रॅक्शन्स वापरून एजेंट्स स्वतंत्र निर्णय कसे घेतात\n",
    "- **प्रतिक्रियाशीलता**: पर्यावरणातील बदल आणि वापरकर्त्याच्या इनपुट्सला प्रतिसाद देणे\n",
    "- **प्रोएक्टिव्हिटी**: उद्दिष्टे आणि संदर्भाच्या आधारे पुढाकार घेणे\n",
    "- **सामाजिक क्षमता**: संवाद थ्रेड्ससह नैसर्गिक भाषेत संवाद साधणे\n",
    "\n",
    "### तांत्रिक घटक\n",
    "- **AIAgent**: मुख्य एजेंट ऑर्केस्ट्रेशन आणि संवाद व्यवस्थापन (.NET)\n",
    "- **टूल फंक्शन्स**: C# मेथड्स आणि अॅट्रिब्युट्ससह एजेंट क्षमता वाढवणे\n",
    "- **OpenAI इंटिग्रेशन**: मानक .NET APIs द्वारे भाषा मॉडेल्सचा लाभ घेणे\n",
    "- **पर्यावरण व्यवस्थापन**: DotNetEnv सह सुरक्षित कॉन्फिगरेशन आणि क्रेडेन्शियल हाताळणी\n",
    "\n",
    "## ⚙️ पूर्वतयारी आणि सेटअप\n",
    "\n",
    "**आवश्यक डिपेंडन्सीज:**\n",
    "- .NET 9.0 SDK किंवा त्याहून अधिक\n",
    "- Visual Studio 2022 किंवा C# एक्स्टेंशनसह VS Code\n",
    "\n",
    "**NuGet पॅकेजेस:**\n",
    "- `Microsoft.Extensions.AI` - मुख्य AI अब्स्ट्रॅक्शन्स\n",
    "- `Microsoft.Extensions.AI.OpenAI` - OpenAI इंटिग्रेशन (प्रिव्ह्यू)\n",
    "- `DotNetEnv` - पर्यावरण व्हेरिएबल व्यवस्थापन\n",
    "\n",
    "**पर्यावरण कॉन्फिगरेशन (.env फाइल):**\n",
    "```env\n",
    "GITHUB_TOKEN=your_github_personal_access_token\n",
    "GITHUB_ENDPOINT=https://models.inference.ai.azure.com\n",
    "GITHUB_MODEL_ID=gpt-4o-mini\n",
    "```\n",
    "\n",
    "## 🔧 तांत्रिक स्टॅक\n",
    "\n",
    "**मुख्य तंत्रज्ञान:**\n",
    "- Microsoft Agent Framework (.NET)\n",
    "- GitHub Models API इंटिग्रेशन\n",
    "- OpenAI-सुसंगत क्लायंट पॅटर्न्स\n",
    "- DotNetEnv सह पर्यावरण-आधारित कॉन्फिगरेशन\n",
    "\n",
    "**एजेंट क्षमता:**\n",
    "- नैसर्गिक भाषा समज आणि निर्मिती\n",
    "- C# अॅट्रिब्युट्ससह फंक्शन कॉलिंग आणि टूल वापर\n",
    "- संवाद थ्रेड्ससह संदर्भ-जाणिवा प्रतिसाद\n",
    "- डिपेंडन्सी इंजेक्शन पॅटर्न्ससह विस्तारक्षम आर्किटेक्चर\n",
    "\n",
    "## 📚 फ्रेमवर्क तुलना\n",
    "\n",
    "हे उदाहरण .NET मधील Microsoft Agent Framework चा दृष्टिकोन इतर प्लॅटफॉर्म्सशी तुलना करते:\n",
    "\n",
    "| वैशिष्ट्य | .NET Agent Framework | Python समकक्ष |\n",
    "|-----------|---------------------|----------------|\n",
    "| **टाइप सेफ्टी** | C# सह मजबूत टायपिंग | डायनॅमिक टायपिंग |\n",
    "| **इंटिग्रेशन** | नेटिव्ह .NET इकोसिस्टम | विविध सुसंगतता |\n",
    "| **कामगिरी** | संकलित कोड कामगिरी | इंटरप्रेटेड अंमलबजावणी |\n",
    "| **एंटरप्राइझ रेडी** | उत्पादन .NET अॅप्ससाठी तयार | फ्रेमवर्कनुसार बदलते |\n",
    "| **टूलिंग** | Visual Studio इंटिग्रेशन | IDE-आधारित |\n",
    "\n",
    "## 🚀 सुरुवात करा\n",
    "\n",
    "खालील सेल्सचे अनुसरण करा आणि .NET मध्ये तुमचा पहिला बेसिक एजेंट तयार करा तसेच मूलभूत एजेंटिक संकल्पना समजून घ्या!\n"
   ]
  },
  {
   "cell_type": "code",
   "execution_count": 1,
   "id": "2770ac5c",
   "metadata": {
    "language_info": {
     "name": "polyglot-notebook"
    },
    "polyglot_notebook": {
     "kernelName": "csharp"
    }
   },
   "outputs": [
    {
     "data": {
      "text/html": [
       "<div><div></div><div></div><div><strong>Installed Packages</strong><ul><li><span>Microsoft.Extensions.AI, 9.9.1</span></li></ul></div></div>"
      ]
     },
     "metadata": {},
     "output_type": "display_data"
    }
   ],
   "source": [
    "// 📦 NuGet Package Reference: Microsoft Extensions AI\n",
    "// Core AI abstraction layer for .NET applications\n",
    "// Provides standardized interfaces for AI services and agent development\n",
    "// Essential foundation for building intelligent agents in .NET\n",
    "#r \"nuget: Microsoft.Extensions.AI, 9.9.1\""
   ]
  },
  {
   "cell_type": "code",
   "execution_count": null,
   "id": "984ff6cd",
   "metadata": {
    "language_info": {
     "name": "polyglot-notebook"
    },
    "polyglot_notebook": {
     "kernelName": "csharp"
    }
   },
   "outputs": [
    {
     "data": {
      "text/html": [
       "<div><div></div><div></div><div><strong>Installed Packages</strong><ul><li><span>Microsoft.Agents.AI.OpenAI, 1.0.0-preview.251001.2</span></li></ul></div></div>"
      ]
     },
     "metadata": {},
     "output_type": "display_data"
    }
   ],
   "source": [
    "// 🔗 Local Assembly Reference: Microsoft Agents AI OpenAI\n",
    "// References the local build of the Microsoft Agent Framework OpenAI integration\n",
    "// Contains OpenAI-specific implementations and GitHub Models compatibility\n",
    "// This enables agents to connect to OpenAI-compatible APIs including GitHub Models\n",
    "\n",
    "#r \"nuget: Microsoft.Agents.AI.OpenAI, 1.0.0-preview.251001.3\""
   ]
  },
  {
   "cell_type": "code",
   "execution_count": null,
   "id": "0ab71360",
   "metadata": {
    "language_info": {
     "name": "polyglot-notebook"
    },
    "polyglot_notebook": {
     "kernelName": "csharp"
    }
   },
   "outputs": [
    {
     "data": {
      "text/html": [
       "<div><div></div><div></div><div><strong>Installed Packages</strong><ul><li><span>microsoft.agents.ai, 1.0.0-preview.251001.2</span></li></ul></div></div>"
      ]
     },
     "metadata": {},
     "output_type": "display_data"
    }
   ],
   "source": [
    "// 🤖 Local Assembly Reference: Core Microsoft Agents AI\n",
    "// References the core Microsoft Agent Framework library\n",
    "// Provides fundamental agent abstractions, orchestration, and management capabilities\n",
    "// Essential for creating and configuring AI agents in .NET applications\n",
    "\n",
    "#r \"nuget: Microsoft.Agents.AI, 1.0.0-preview.251001.3\""
   ]
  },
  {
   "cell_type": "code",
   "execution_count": 4,
   "id": "4ab7b15d",
   "metadata": {
    "language_info": {
     "name": "polyglot-notebook"
    },
    "polyglot_notebook": {
     "kernelName": "csharp"
    }
   },
   "outputs": [],
   "source": [
    "// 🔌 NuGet Package Reference: OpenAI Integration (Preview)\n",
    "// Preview version of Microsoft Extensions AI OpenAI integration\n",
    "// Provides OpenAI client and service implementations for .NET\n",
    "// Enables communication with OpenAI API and GitHub Models service\n",
    "// #r \"nuget: Microsoft.Extensions.AI.OpenAI, 9.9.0-preview.1.25458.4\""
   ]
  },
  {
   "cell_type": "code",
   "execution_count": 5,
   "id": "3fa8aa21",
   "metadata": {
    "language_info": {
     "name": "polyglot-notebook"
    },
    "polyglot_notebook": {
     "kernelName": "csharp"
    }
   },
   "outputs": [
    {
     "data": {
      "text/html": [
       "<div><div></div><div></div><div><strong>Installed Packages</strong><ul><li><span>DotNetEnv, 3.1.1</span></li></ul></div></div>"
      ]
     },
     "metadata": {},
     "output_type": "display_data"
    }
   ],
   "source": [
    "// 🔧 NuGet Package Reference: Environment Variable Management\n",
    "// DotNetEnv allows loading environment variables from .env files in .NET\n",
    "// Essential for secure API key and configuration management\n",
    "// Keeps sensitive information out of source code and enables environment-based config\n",
    "#r \"nuget: DotNetEnv, 3.1.1\""
   ]
  },
  {
   "cell_type": "code",
   "execution_count": 6,
   "id": "fc8ee8ea",
   "metadata": {
    "language_info": {
     "name": "polyglot-notebook"
    },
    "polyglot_notebook": {
     "kernelName": "csharp"
    }
   },
   "outputs": [],
   "source": [
    "// 📚 Import Essential Namespaces for Agent Development\n",
    "using System;                          // Core system types and functionality\n",
    "using System.ComponentModel;           // For Description attributes on agent tool methods\n",
    "using System.ClientModel;             // Client model abstractions for API interactions\n",
    "\n",
    "using Microsoft.Extensions.AI;        // Core AI service abstractions and interfaces\n",
    "using Microsoft.Agents.AI;           // Agent framework classes and orchestration system\n",
    "using OpenAI;                         // OpenAI client library for GitHub Models integration"
   ]
  },
  {
   "cell_type": "code",
   "execution_count": 7,
   "id": "699b1c83",
   "metadata": {
    "language_info": {
     "name": "polyglot-notebook"
    },
    "polyglot_notebook": {
     "kernelName": "csharp"
    }
   },
   "outputs": [],
   "source": [
    "// 🔧 Import Environment Variable Loading Namespace\n",
    "// DotNetEnv namespace for loading .env files in .NET applications\n",
    "// Enables secure configuration management from external files\n",
    "// Essential for keeping API keys and sensitive data out of source code\n",
    "using DotNetEnv;"
   ]
  },
  {
   "cell_type": "code",
   "execution_count": 8,
   "id": "daa649a0",
   "metadata": {
    "language_info": {
     "name": "polyglot-notebook"
    },
    "polyglot_notebook": {
     "kernelName": "csharp"
    }
   },
   "outputs": [],
   "source": [
    "// 🔧 Load Environment Configuration from .env File\n",
    "// Load configuration from a .env file located 3 directories up from current location\n",
    "// This loads: GITHUB_ENDPOINT, GITHUB_TOKEN, GITHUB_MODEL_ID\n",
    "// Ensures secure handling of API credentials and configuration settings\n",
    "Env.Load(\"../../../.env\");"
   ]
  },
  {
   "cell_type": "code",
   "execution_count": 9,
   "id": "29661a90",
   "metadata": {
    "language_info": {
     "name": "polyglot-notebook"
    },
    "polyglot_notebook": {
     "kernelName": "csharp"
    }
   },
   "outputs": [],
   "source": [
    "// 🎲 Tool Function: Random Destination Generator (.NET Implementation)\n",
    "// This static method demonstrates how to create tools for agents in .NET\n",
    "// The [Description] attribute helps the AI understand when and how to use this function\n",
    "// This showcases the .NET approach to extending agent capabilities with custom tools\n",
    "[Description(\"Provides a random vacation destination.\")]\n",
    "static string GetRandomDestination()\n",
    "{\n",
    "    // Curated list of popular vacation destinations worldwide\n",
    "    // The agent will randomly select from these options when users need destination suggestions\n",
    "    var destinations = new List<string>\n",
    "    {\n",
    "        \"Paris, France\",         // European cultural capital\n",
    "        \"Tokyo, Japan\",          // Asian modern metropolis  \n",
    "        \"New York City, USA\",    // American urban experience\n",
    "        \"Sydney, Australia\",     // Oceanic coastal beauty\n",
    "        \"Rome, Italy\",           // Historical European city\n",
    "        \"Barcelona, Spain\",      // Mediterranean cultural hub\n",
    "        \"Cape Town, South Africa\", // African scenic destination\n",
    "        \"Rio de Janeiro, Brazil\",  // South American beach city\n",
    "        \"Bangkok, Thailand\",        // Southeast Asian cultural center\n",
    "        \"Vancouver, Canada\"         // North American natural beauty\n",
    "    };\n",
    "\n",
    "    // Generate random index using System.Random and return selected destination\n",
    "    // This demonstrates simple random selection in .NET\n",
    "    var random = new Random();\n",
    "    int index = random.Next(destinations.Count);\n",
    "    return destinations[index];\n",
    "}"
   ]
  },
  {
   "cell_type": "code",
   "execution_count": 10,
   "id": "d2ed1f8b",
   "metadata": {
    "language_info": {
     "name": "polyglot-notebook"
    },
    "polyglot_notebook": {
     "kernelName": "csharp"
    }
   },
   "outputs": [],
   "source": [
    "// 🔑 Extract and Validate Configuration from Environment Variables\n",
    "// Retrieve GitHub Models API endpoint - throws exception if not configured\n",
    "var github_endpoint = Environment.GetEnvironmentVariable(\"GITHUB_ENDPOINT\") ?? throw new InvalidOperationException(\"GITHUB_ENDPOINT is not set.\");\n",
    "// Get the AI model ID - defaults to gpt-4o-mini if not specified\n",
    "var github_model_id = Environment.GetEnvironmentVariable(\"GITHUB_MODEL_ID\") ?? \"gpt-4o-mini\";\n",
    "// Retrieve GitHub authentication token - throws exception if missing\n",
    "var github_token = Environment.GetEnvironmentVariable(\"GITHUB_TOKEN\") ?? throw new InvalidOperationException(\"GITHUB_TOKEN is not set.\");"
   ]
  },
  {
   "cell_type": "code",
   "execution_count": 11,
   "id": "c36c73e1",
   "metadata": {
    "language_info": {
     "name": "polyglot-notebook"
    },
    "polyglot_notebook": {
     "kernelName": "csharp"
    }
   },
   "outputs": [],
   "source": [
    "// ⚙️ Configure OpenAI Client Options for GitHub Models Integration\n",
    "// Create configuration options to redirect OpenAI client calls to GitHub Models endpoint\n",
    "// This enables using OpenAI-compatible APIs with GitHub's model inference service\n",
    "var openAIOptions = new OpenAIClientOptions()\n",
    "{\n",
    "    Endpoint= new Uri(github_endpoint)  // Set custom endpoint for GitHub Models API\n",
    "};"
   ]
  },
  {
   "cell_type": "code",
   "execution_count": 12,
   "id": "6d94ff10",
   "metadata": {
    "language_info": {
     "name": "polyglot-notebook"
    },
    "polyglot_notebook": {
     "kernelName": "csharp"
    }
   },
   "outputs": [],
   "source": [
    "// 🔌 Initialize OpenAI Client with GitHub Models Configuration\n",
    "// Create OpenAI client instance using GitHub token for authentication\n",
    "// Configure it to use GitHub Models endpoint instead of OpenAI directly\n",
    "// This client will handle all communication with the AI model\n",
    "var openAIClient = new OpenAIClient(new ApiKeyCredential(github_token), openAIOptions);"
   ]
  },
  {
   "cell_type": "code",
   "execution_count": 13,
   "metadata": {
    "language_info": {
     "name": "polyglot-notebook"
    },
    "polyglot_notebook": {
     "kernelName": "csharp"
    }
   },
   "outputs": [],
   "source": [
    "// 🤖 Define Agent Identity and Comprehensive Instructions\n",
    "// Agent name for identification and logging purposes\n",
    "const string AGENT_NAME =\"TravelAgent\";\n",
    "\n",
    "// Detailed instructions that define the agent's personality, capabilities, and behavior\n",
    "// This system prompt shapes how the agent responds and interacts with users\n",
    "const string AGENT_INSTRUCTIONS = @\"You are a helpful AI Agent that can help plan vacations for customers.\n",
    "\n",
    "Important: When users specify a destination, always plan for that location. Only suggest random destinations when the user hasn't specified a preference.\n",
    "\n",
    "When the conversation begins, introduce yourself with this message:\n",
    "\"\"Hello! I'm your TravelAgent assistant. I can help plan vacations and suggest interesting destinations for you. Here are some things you can ask me:\n",
    "1. Plan a day trip to a specific location\n",
    "2. Suggest a random vacation destination\n",
    "3. Find destinations with specific features (beaches, mountains, historical sites, etc.)\n",
    "4. Plan an alternative trip if you don't like my first suggestion\n",
    "\n",
    "What kind of trip would you like me to help you plan today?\"\"\n",
    "\n",
    "Always prioritize user preferences. If they mention a specific destination like \"\"Bali\"\" or \"\"Paris,\"\" focus your planning on that location rather than suggesting alternatives.\n",
    "\";"
   ]
  },
  {
   "cell_type": "code",
   "execution_count": 14,
   "id": "fe32b57a",
   "metadata": {
    "language_info": {
     "name": "polyglot-notebook"
    },
    "polyglot_notebook": {
     "kernelName": "csharp"
    }
   },
   "outputs": [],
   "source": [
    "// 🤖 Create AI Agent with Advanced Travel Planning Capabilities\n",
    "// Initialize complete agent pipeline: OpenAI client → Chat client → AI agent\n",
    "// Configure agent with name, detailed instructions, and available tools\n",
    "// This demonstrates the .NET agent creation pattern with full configuration\n",
    "AIAgent agent = new OpenAIClient(new ApiKeyCredential(github_token), openAIOptions)\n",
    "    .GetChatClient(github_model_id)  // Get chat client for the specified AI model\n",
    "    .CreateAIAgent(\n",
    "        name:AGENT_NAME,             // Set agent identifier for logging and tracking\n",
    "        instructions:AGENT_INSTRUCTIONS,  // Comprehensive behavior and personality instructions\n",
    "        tools: [AIFunctionFactory.Create((Func<string>)GetRandomDestination)]  // Register tool functions\n",
    "    );"
   ]
  },
  {
   "cell_type": "code",
   "execution_count": 15,
   "metadata": {
    "language_info": {
     "name": "polyglot-notebook"
    },
    "polyglot_notebook": {
     "kernelName": "csharp"
    }
   },
   "outputs": [],
   "source": [
    "// 🧵 Create New Conversation Thread for Context Management\n",
    "// Initialize a new conversation thread to maintain context across multiple interactions\n",
    "// Threads enable the agent to remember previous exchanges and maintain conversational state\n",
    "// This is essential for multi-turn conversations and contextual understanding\n",
    "AgentThread thread = agent.GetNewThread();"
   ]
  },
  {
   "cell_type": "code",
   "execution_count": 16,
   "id": "5e455aff",
   "metadata": {
    "language_info": {
     "name": "polyglot-notebook"
    },
    "polyglot_notebook": {
     "kernelName": "csharp"
    }
   },
   "outputs": [
    {
     "name": "stdout",
     "output_type": "stream",
     "text": [
      "Sure! Can you please specify the destination you'd like to visit for your day trip?\r\n"
     ]
    }
   ],
   "source": [
    "// 🚀 Execute Agent: First Travel Planning Request\n",
    "// Run the agent with an initial request that will likely trigger the random destination tool\n",
    "// The agent will analyze the request, use the GetRandomDestination tool, and create an itinerary\n",
    "// Using the thread parameter maintains conversation context for subsequent interactions\n",
    "Console.WriteLine(await agent.RunAsync(\"Plan me a day trip\",thread));"
   ]
  },
  {
   "cell_type": "code",
   "execution_count": 17,
   "id": "592ae1bb",
   "metadata": {
    "language_info": {
     "name": "polyglot-notebook"
    },
    "polyglot_notebook": {
     "kernelName": "csharp"
    }
   },
   "outputs": [
    {
     "name": "stdout",
     "output_type": "stream",
     "text": [
      "How about a vacation in Vancouver, Canada? It's a beautiful city known for its stunning natural landscapes, cultural diversity, and outdoor activities. Here are some highlights you can explore during your trip:\n",
      "\n",
      "1. **Stanley Park**: A massive urban park offering walking and biking trails, gardens, and stunning views of the city skyline.\n",
      "2. **Granville Island**: A vibrant area featuring local artisans, markets, and eateries – perfect for foodies and art lovers.\n",
      "3. **Capilano Suspension Bridge Park**: Experience breathtaking views from the suspension bridge and explore treetop walkways.\n",
      "4. **Gastown**: Vancouver's oldest neighborhood, known for its historic buildings, trendy shops, and the famous Gastown Steam Clock.\n",
      "5. **Whale Watching Tour**: Take a boat tour to see orcas, humpback whales, and other marine life in their natural habitat.\n",
      "\n",
      "Would you like more details on any specific activities or places?\r\n"
     ]
    }
   ],
   "source": [
    "// 🔄 Execute Agent: Follow-up Request with Context Awareness\n",
    "// Demonstrate contextual conversation by referencing the previous response\n",
    "// The agent remembers the previous destination suggestion and will provide an alternative\n",
    "// This showcases the power of conversation threads and contextual understanding in .NET agents\n",
    "Console.WriteLine(await agent.RunAsync(\"I don't like that destination. Plan me another vacation.\",thread));"
   ]
  },
  {
   "cell_type": "markdown",
   "metadata": {},
   "source": [
    "\n---\n\n**अस्वीकरण**:  \nहा दस्तऐवज [Co-op Translator](https://github.com/Azure/co-op-translator) या एआय भाषांतर सेवेचा वापर करून भाषांतरित करण्यात आला आहे. आम्ही अचूकतेसाठी प्रयत्नशील असलो तरी कृपया लक्षात घ्या की स्वयंचलित भाषांतरांमध्ये त्रुटी किंवा अचूकतेचा अभाव असू शकतो. मूळ भाषेतील दस्तऐवज हा अधिकृत स्रोत मानला जावा. महत्त्वाच्या माहितीसाठी व्यावसायिक मानवी भाषांतराची शिफारस केली जाते. या भाषांतराचा वापर केल्यामुळे उद्भवणाऱ्या कोणत्याही गैरसमज किंवा चुकीच्या अर्थासाठी आम्ही जबाबदार राहणार नाही.\n"
   ]
  }
 ],
 "metadata": {
  "kernelspec": {
   "display_name": ".NET (C#)",
   "language": "C#",
   "name": ".net-csharp"
  },
  "language_info": {
   "name": "polyglot-notebook"
  },
  "polyglot_notebook": {
   "kernelInfo": {
    "defaultKernelName": "csharp",
    "items": [
     {
      "aliases": [],
      "name": "csharp"
     }
    ]
   }
  },
  "coopTranslator": {
   "original_hash": "1dbb37bc1491e0a8c40e72a2664a4a46",
   "translation_date": "2025-10-02T11:47:58+00:00",
   "source_file": "02-explore-agentic-frameworks/code_samples/02-dotnet-agent-framework.ipynb",
   "language_code": "mr"
  }
 },
 "nbformat": 4,
 "nbformat_minor": 5
}