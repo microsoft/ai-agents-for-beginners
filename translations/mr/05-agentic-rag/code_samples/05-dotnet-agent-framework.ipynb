{
 "cells": [
  {
   "cell_type": "markdown",
   "id": "44b5899e",
   "metadata": {},
   "source": [
    "# 🔍 Azure AI Foundry (.NET) सह एंटरप्राइझ RAG\n",
    "\n",
    "## 📋 शिकण्याची उद्दिष्टे\n",
    "\n",
    "या नोटबुकमध्ये Microsoft Agent Framework वापरून Azure AI Foundry सह एंटरप्राइझ-ग्रेड Retrieval-Augmented Generation (RAG) प्रणाली कशा तयार करायच्या हे दाखवले आहे. तुम्ही उत्पादनासाठी तयार एजंट तयार करायला शिकाल जे दस्तऐवज शोधू शकतात आणि एंटरप्राइझ सुरक्षा आणि स्केलेबिलिटीसह अचूक, संदर्भ-जाणकार प्रतिसाद देऊ शकतात.\n",
    "\n",
    "**तुम्ही तयार कराल अशा एंटरप्राइझ RAG क्षमता:**\n",
    "- 📚 **डॉक्युमेंट इंटेलिजन्स**: Azure AI सेवांसह प्रगत दस्तऐवज प्रक्रिया\n",
    "- 🔍 **सिमॅंटिक सर्च**: एंटरप्राइझ वैशिष्ट्यांसह उच्च-प्रदर्शन वेक्टर शोध\n",
    "- 🛡️ **सुरक्षा एकत्रीकरण**: भूमिका-आधारित प्रवेश आणि डेटा संरक्षण पद्धती\n",
    "- 🏢 **स्केलेबल आर्किटेक्चर**: मॉनिटरिंगसह उत्पादन-तयार RAG प्रणाली\n",
    "\n",
    "## 🎯 एंटरप्राइझ RAG आर्किटेक्चर\n",
    "\n",
    "### मुख्य एंटरप्राइझ घटक\n",
    "- **Azure AI Foundry**: सुरक्षा आणि अनुपालनासह व्यवस्थापित एंटरप्राइझ AI प्लॅटफॉर्म\n",
    "- **Persistent Agents**: संभाषण इतिहास आणि संदर्भ व्यवस्थापनासह स्थिर एजंट\n",
    "- **Vector Store Management**: एंटरप्राइझ-ग्रेड दस्तऐवज अनुक्रमणिका आणि पुनर्प्राप्ती\n",
    "- **Identity Integration**: Azure AD प्रमाणीकरण आणि भूमिका-आधारित प्रवेश नियंत्रण\n",
    "\n",
    "### .NET एंटरप्राइझ फायदे\n",
    "- **Type Safety**: RAG ऑपरेशन्स आणि डेटा संरचनांसाठी संकलन-वेळ सत्यापन\n",
    "- **Async Performance**: नॉन-ब्लॉकिंग दस्तऐवज प्रक्रिया आणि शोध ऑपरेशन्स\n",
    "- **Memory Management**: मोठ्या दस्तऐवज संग्रहांसाठी कार्यक्षम संसाधन वापर\n",
    "- **Integration Patterns**: डिपेंडन्सी इंजेक्शनसह नेटिव्ह Azure सेवा एकत्रीकरण\n",
    "\n",
    "## 🏗️ तांत्रिक आर्किटेक्चर\n",
    "\n",
    "### एंटरप्राइझ RAG पाइपलाइन\n",
    "```csharp\n",
    "Document Upload → Security Validation → Vector Processing → Index Creation\n",
    "                      ↓                    ↓                  ↓\n",
    "User Query → Authentication → Semantic Search → Context Ranking → AI Response\n",
    "```\n",
    "\n",
    "### मुख्य .NET घटक\n",
    "- **Azure.AI.Agents.Persistent**: राज्य टिकवून ठेवण्यासह एंटरप्राइझ एजंट व्यवस्थापन\n",
    "- **Azure.Identity**: सुरक्षित Azure सेवा प्रवेशासाठी एकत्रित प्रमाणीकरण\n",
    "- **Microsoft.Agents.AI.AzureAI**: Azure-ऑप्टिमाइझ्ड एजंट फ्रेमवर्क अंमलबजावणी\n",
    "- **System.Linq.Async**: उच्च-प्रदर्शन असिंक्रोनस LINQ ऑपरेशन्स\n",
    "\n",
    "## 🔧 एंटरप्राइझ वैशिष्ट्ये आणि फायदे\n",
    "\n",
    "### सुरक्षा आणि अनुपालन\n",
    "- **Azure AD Integration**: एंटरप्राइझ ओळख व्यवस्थापन आणि प्रमाणीकरण\n",
    "- **Role-Based Access**: दस्तऐवज प्रवेश आणि ऑपरेशन्ससाठी सूक्ष्म परवानग्या\n",
    "- **Data Protection**: संवेदनशील दस्तऐवजांसाठी विश्रांती आणि ट्रान्झिटमध्ये एन्क्रिप्शन\n",
    "- **Audit Logging**: अनुपालन आवश्यकताांसाठी सर्वसमावेशक क्रियाकलाप ट्रॅकिंग\n",
    "\n",
    "### कार्यक्षमता आणि स्केलेबिलिटी\n",
    "- **Connection Pooling**: कार्यक्षम Azure सेवा कनेक्शन व्यवस्थापन\n",
    "- **Async Processing**: उच्च-थ्रूपुट परिस्थितीसाठी नॉन-ब्लॉकिंग ऑपरेशन्स\n",
    "- **Caching Strategies**: वारंवार प्रवेश केलेल्या दस्तऐवजांसाठी बुद्धिमान कॅशिंग\n",
    "- **Load Balancing**: मोठ्या प्रमाणावर तैनातीसाठी वितरित प्रक्रिया\n",
    "\n",
    "### व्यवस्थापन आणि मॉनिटरिंग\n",
    "- **Health Checks**: RAG प्रणाली घटकांसाठी अंगभूत मॉनिटरिंग\n",
    "- **Performance Metrics**: शोध गुणवत्ता आणि प्रतिसाद वेळांवरील तपशीलवार विश्लेषण\n",
    "- **Error Handling**: पुनर्प्रयत्न धोरणांसह सर्वसमावेशक अपवाद व्यवस्थापन\n",
    "- **Configuration Management**: सत्यापनासह पर्यावरण-विशिष्ट सेटिंग्ज\n",
    "\n",
    "## ⚙️ पूर्वतयारी आणि सेटअप\n",
    "\n",
    "**विकसन वातावरण:**\n",
    "- .NET 9.0 SDK किंवा त्याहून अधिक\n",
    "- Visual Studio 2022 किंवा VS Code C# विस्तारासह\n",
    "- Azure सदस्यता AI Foundry प्रवेशासह\n",
    "\n",
    "**आवश्यक NuGet पॅकेजेस:**\n",
    "```xml\n",
    "<PackageReference Include=\"Microsoft.Extensions.AI\" Version=\"9.9.0\" />\n",
    "<PackageReference Include=\"Azure.AI.Agents.Persistent\" Version=\"1.2.0-beta.5\" />\n",
    "<PackageReference Include=\"Azure.Identity\" Version=\"1.15.0\" />\n",
    "<PackageReference Include=\"System.Linq.Async\" Version=\"6.0.3\" />\n",
    "<PackageReference Include=\"DotNetEnv\" Version=\"3.1.1\" />\n",
    "```\n",
    "\n",
    "**Azure प्रमाणीकरण सेटअप:**\n",
    "```bash\n",
    "# Install Azure CLI and authenticate\n",
    "az login\n",
    "az account set --subscription \"your-subscription-id\"\n",
    "```\n",
    "\n",
    "**पर्यावरण कॉन्फिगरेशन (.env फाइल):**\n",
    "```env\n",
    "# Azure AI Foundry configuration (automatically handled via Azure CLI)\n",
    "# Ensure you're authenticated to the correct Azure subscription\n",
    "```\n",
    "\n",
    "## 📊 एंटरप्राइझ RAG पॅटर्न्स\n",
    "\n",
    "### दस्तऐवज व्यवस्थापन पॅटर्न्स\n",
    "- **Bulk Upload**: मोठ्या दस्तऐवज संग्रहांची कार्यक्षम प्रक्रिया\n",
    "- **Incremental Updates**: वास्तविक-वेळ दस्तऐवज जोडणी आणि सुधारणा\n",
    "- **Version Control**: दस्तऐवज आवृत्तीकरण आणि बदल ट्रॅकिंग\n",
    "- **Metadata Management**: समृद्ध दस्तऐवज गुणधर्म आणि वर्गीकरण\n",
    "\n",
    "### शोध आणि पुनर्प्राप्ती पॅटर्न्स\n",
    "- **Hybrid Search**: सर्वोत्तम परिणामांसाठी सिमॅंटिक आणि कीवर्ड शोध एकत्र करणे\n",
    "- **Faceted Search**: बहु-आयामी फिल्टरिंग आणि वर्गीकरण\n",
    "- **Relevance Tuning**: डोमेन-विशिष्ट गरजांसाठी सानुकूल स्कोअरिंग अल्गोरिदम\n",
    "- **Result Ranking**: व्यवसाय लॉजिक एकत्रीकरणासह प्रगत रँकिंग\n",
    "\n",
    "### सुरक्षा पॅटर्न्स\n",
    "- **Document-Level Security**: प्रत्येक दस्तऐवजासाठी सूक्ष्म प्रवेश नियंत्रण\n",
    "- **Data Classification**: स्वयंचलित संवेदनशीलता लेबलिंग आणि संरक्षण\n",
    "- **Audit Trails**: सर्व RAG ऑपरेशन्सचे सर्वसमावेशक लॉगिंग\n",
    "- **Privacy Protection**: PII शोध आणि संपादन क्षमता\n",
    "\n",
    "## 🔒 एंटरप्राइझ सुरक्षा वैशिष्ट्ये\n",
    "\n",
    "### प्रमाणीकरण आणि अधिकृतता\n",
    "```csharp\n",
    "// Azure AD integrated authentication\n",
    "var credential = new AzureCliCredential();\n",
    "var agentsClient = new PersistentAgentsClient(endpoint, credential);\n",
    "\n",
    "// Role-based access validation\n",
    "if (!await ValidateUserPermissions(user, documentId))\n",
    "{\n",
    "    throw new UnauthorizedAccessException(\"Insufficient permissions\");\n",
    "}\n",
    "```\n",
    "\n",
    "### डेटा संरक्षण\n",
    "- **Encryption**: दस्तऐवज आणि शोध अनुक्रमणिकांसाठी एंड-टू-एंड एन्क्रिप्शन\n",
    "- **Access Controls**: वापरकर्ता आणि गट परवानग्यांसाठी Azure AD सह एकत्रीकरण\n",
    "- **Data Residency**: अनुपालनासाठी भौगोलिक डेटा स्थान नियंत्रण\n",
    "- **Backup & Recovery**: स्वयंचलित बॅकअप आणि आपत्ती पुनर्प्राप्ती क्षमता\n",
    "\n",
    "## 📈 कार्यक्षमता ऑप्टिमायझेशन\n",
    "\n",
    "### असिंक्रोनस प्रक्रिया पॅटर्न्स\n",
    "```csharp\n",
    "// Efficient async document processing\n",
    "await foreach (var document in documentStream.AsAsyncEnumerable())\n",
    "{\n",
    "    await ProcessDocumentAsync(document, cancellationToken);\n",
    "}\n",
    "```\n",
    "\n",
    "### मेमरी व्यवस्थापन\n",
    "- **Streaming Processing**: मोठ्या दस्तऐवजांवर मेमरी समस्यांशिवाय प्रक्रिया करा\n",
    "- **Resource Pooling**: महागड्या संसाधनांचा कार्यक्षम पुनर्वापर\n",
    "- **Garbage Collection**: ऑप्टिमाइझ्ड मेमरी वाटप पॅटर्न्स\n",
    "- **Connection Management**: योग्य Azure सेवा कनेक्शन जीवनचक्र\n",
    "\n",
    "### कॅशिंग धोरणे\n",
    "- **Query Caching**: वारंवार चालवलेले शोध कॅश करा\n",
    "- **Document Caching**: गरम दस्तऐवजांसाठी इन-मेमरी कॅशिंग\n",
    "- **Index Caching**: ऑप्टिमाइझ्ड वेक्टर अनुक्रमणिका कॅशिंग\n",
    "- **Result Caching**: तयार केलेल्या प्रतिसादांचे बुद्धिमान कॅशिंग\n",
    "\n",
    "## 📊 एंटरप्राइझ उपयोग प्रकरणे\n",
    "\n",
    "### ज्ञान व्यवस्थापन\n",
    "- **Corporate Wiki**: कंपनी ज्ञान तळांवर बुद्धिमान शोध\n",
    "- **Policy & Procedures**: स्वयंचलित अनुपालन आणि प्रक्रिया मार्गदर्शन\n",
    "- **Training Materials**: बुद्धिमान शिक्षण आणि विकास सहाय्य\n",
    "- **Research Databases**: शैक्षणिक आणि संशोधन पेपर विश्लेषण प्रणाली\n",
    "\n",
    "### ग्राहक समर्थन\n",
    "- **Support Knowledge Base**: स्वयंचलित ग्राहक सेवा प्रतिसाद\n",
    "- **Product Documentation**: बुद्धिमान उत्पादन माहिती पुनर्प्राप्ती\n",
    "- **Troubleshooting Guides**: संदर्भात्मक समस्या सोडवण्याचे सहाय्य\n",
    "- **FAQ Systems**: दस्तऐवज संग्रहांमधून डायनॅमिक FAQ निर्मिती\n",
    "\n",
    "### नियामक अनुपालन\n",
    "- **Legal Document Analysis**: करार आणि कायदेशीर दस्तऐवज बुद्धिमत्ता\n",
    "- **Compliance Monitoring**: स्वयंचलित नियामक अनुपालन तपासणी\n",
    "- **Risk Assessment**: दस्तऐवज-आधारित जोखीम विश्लेषण आणि अहवाल\n",
    "- **Audit Support**: ऑडिटसाठी बुद्धिमान दस्तऐवज शोध\n",
    "\n",
    "## 🚀 उत्पादन तैनाती\n",
    "\n",
    "### मॉनिटरिंग आणि निरीक्षण\n",
    "- **Application Insights**: तपशीलवार टेलीमेट्री आणि कार्यक्षमता मॉनिटरिंग\n",
    "- **Custom Metrics**: व्यवसाय-विशिष्ट KPI ट्रॅकिंग आणि अलर्टिंग\n",
    "- **Distributed Tracing**: सेवांमधील एंड-टू-एंड विनंती ट्रॅकिंग\n",
    "- **Health Dashboards**: वास्तविक-वेळ प्रणाली आरोग्य आणि कार्यक्षमता व्हिज्युअलायझेशन\n",
    "\n",
    "### स्केलेबिलिटी आणि विश्वसनीयता\n",
    "- **Auto-Scaling**: लोड आणि कार्यक्षमता मेट्रिक्सवर आधारित स्वयंचलित स्केलिंग\n",
    "- **High Availability**: मल्टी-रीजन तैनातीसह फेलओव्हर क्षमता\n",
    "- **Load Testing**: एंटरप्राइझ लोड परिस्थिती अंतर्गत कार्यक्षमता सत्यापन\n",
    "- **Disaster Recovery**: स्वयंचलित बॅकअप आणि पुनर्प्राप्ती प्रक्रिया\n",
    "\n",
    "तयार आहात एंटरप्राइझ-ग्रेड RAG प्रणाली तयार करण्यासाठी जी संवेदनशील दस्तऐवज मोठ्या प्रमाणावर हाताळू शकते? चला एंटरप्राइझसाठी बुद्धिमान ज्ञान प्रणालींचे आर्किटेक्चर तयार करूया! 🏢📖✨\n"
   ]
  },
  {
   "cell_type": "code",
   "execution_count": 1,
   "metadata": {
    "language_info": {
     "name": "polyglot-notebook"
    },
    "polyglot_notebook": {
     "kernelName": "csharp"
    }
   },
   "outputs": [
    {
     "data": {
      "text/html": [
       "<div><div></div><div></div><div><strong>Installed Packages</strong><ul><li><span>Microsoft.Extensions.AI, 9.9.1</span></li></ul></div></div>"
      ]
     },
     "metadata": {},
     "output_type": "display_data"
    }
   ],
   "source": [
    "#r \"nuget: Microsoft.Extensions.AI, 9.9.1\""
   ]
  },
  {
   "cell_type": "code",
   "execution_count": 2,
   "id": "4ec1f0d1",
   "metadata": {
    "language_info": {
     "name": "polyglot-notebook"
    },
    "polyglot_notebook": {
     "kernelName": "csharp"
    }
   },
   "outputs": [
    {
     "data": {
      "text/html": [
       "<div><div></div><div></div><div><strong>Installed Packages</strong><ul><li><span>Azure.AI.Agents.Persistent, 1.2.0-beta.5</span></li><li><span>Azure.Identity, 1.15.0</span></li><li><span>System.Linq.Async, 6.0.3</span></li></ul></div></div>"
      ]
     },
     "metadata": {},
     "output_type": "display_data"
    }
   ],
   "source": [
    "#r \"nuget: Azure.AI.Agents.Persistent, 1.2.0-beta.5\"\n",
    "#r \"nuget: Azure.Identity, 1.15.0\"\n",
    "#r \"nuget: System.Linq.Async, 6.0.3\""
   ]
  },
  {
   "cell_type": "code",
   "execution_count": 3,
   "id": "2363ae07",
   "metadata": {
    "language_info": {
     "name": "polyglot-notebook"
    },
    "polyglot_notebook": {
     "kernelName": "csharp"
    }
   },
   "outputs": [],
   "source": []
  },
  {
   "cell_type": "code",
   "execution_count": null,
   "id": "d10cec9d",
   "metadata": {
    "language_info": {
     "name": "polyglot-notebook"
    },
    "polyglot_notebook": {
     "kernelName": "csharp"
    }
   },
   "outputs": [
    {
     "data": {
      "text/html": [
       "<div><div></div><div></div><div><strong>Installed Packages</strong><ul><li><span>Microsoft.Agents.AI.AzureAI, 1.0.0-preview.251001.2</span></li></ul></div></div>"
      ]
     },
     "metadata": {},
     "output_type": "display_data"
    }
   ],
   "source": [
    "#r \"nuget: Microsoft.Agents.AI.AzureAI, 1.0.0-preview.251001.3\""
   ]
  },
  {
   "cell_type": "code",
   "execution_count": null,
   "id": "78199d1c",
   "metadata": {
    "language_info": {
     "name": "polyglot-notebook"
    },
    "polyglot_notebook": {
     "kernelName": "csharp"
    }
   },
   "outputs": [
    {
     "data": {
      "text/html": [
       "<div><div></div><div></div><div><strong>Installed Packages</strong><ul><li><span>microsoft.agents.ai, 1.0.0-preview.251001.2</span></li></ul></div></div>"
      ]
     },
     "metadata": {},
     "output_type": "display_data"
    }
   ],
   "source": [
    "#r \"nuget: Microsoft.Agents.AI, 1.0.0-preview.251001.3\""
   ]
  },
  {
   "cell_type": "code",
   "execution_count": 6,
   "id": "7de4684a",
   "metadata": {
    "language_info": {
     "name": "polyglot-notebook"
    },
    "polyglot_notebook": {
     "kernelName": "csharp"
    }
   },
   "outputs": [
    {
     "data": {
      "text/html": [
       "<div><div></div><div></div><div><strong>Installed Packages</strong><ul><li><span>DotNetEnv, 3.1.1</span></li></ul></div></div>"
      ]
     },
     "metadata": {},
     "output_type": "display_data"
    }
   ],
   "source": [
    "#r \"nuget: DotNetEnv, 3.1.1\""
   ]
  },
  {
   "cell_type": "code",
   "execution_count": 7,
   "id": "251efd31",
   "metadata": {
    "language_info": {
     "name": "polyglot-notebook"
    },
    "polyglot_notebook": {
     "kernelName": "csharp"
    }
   },
   "outputs": [],
   "source": [
    "using System;\n",
    "using System.Linq;\n",
    "using Azure.AI.Agents.Persistent;\n",
    "using Azure.Identity;\n",
    "using Microsoft.Agents.AI;"
   ]
  },
  {
   "cell_type": "code",
   "execution_count": 8,
   "id": "a2e342f1",
   "metadata": {
    "language_info": {
     "name": "polyglot-notebook"
    },
    "polyglot_notebook": {
     "kernelName": "csharp"
    }
   },
   "outputs": [],
   "source": [
    " using DotNetEnv;"
   ]
  },
  {
   "cell_type": "code",
   "execution_count": 9,
   "id": "a7a01653",
   "metadata": {
    "language_info": {
     "name": "polyglot-notebook"
    },
    "polyglot_notebook": {
     "kernelName": "csharp"
    }
   },
   "outputs": [],
   "source": [
    "Env.Load(\"../../../.env\");"
   ]
  },
  {
   "cell_type": "code",
   "execution_count": 10,
   "id": "a42735d5",
   "metadata": {
    "language_info": {
     "name": "polyglot-notebook"
    },
    "polyglot_notebook": {
     "kernelName": "csharp"
    }
   },
   "outputs": [],
   "source": [
    "var azure_foundry_endpoint = Environment.GetEnvironmentVariable(\"AZURE_AI_PROJECT_ENDPOINT\") ?? throw new InvalidOperationException(\"AZURE_AI_PROJECT_ENDPOINT is not set.\");\n",
    "var azure_foundry_model_id = Environment.GetEnvironmentVariable(\"AZURE_AI_MODEL_DEPLOYMENT_NAME\") ?? \"gpt-4.1-mini\";"
   ]
  },
  {
   "cell_type": "code",
   "execution_count": 11,
   "id": "e29bdb58",
   "metadata": {
    "language_info": {
     "name": "polyglot-notebook"
    },
    "polyglot_notebook": {
     "kernelName": "csharp"
    }
   },
   "outputs": [],
   "source": [
    "string pdfPath = \"./document.md\";"
   ]
  },
  {
   "cell_type": "code",
   "execution_count": 12,
   "id": "7351e12d",
   "metadata": {
    "language_info": {
     "name": "polyglot-notebook"
    },
    "polyglot_notebook": {
     "kernelName": "csharp"
    }
   },
   "outputs": [],
   "source": [
    "using System.IO;\n",
    "\n",
    "async Task<Stream> OpenImageStreamAsync(string path)\n",
    "{\n",
    "\treturn await Task.Run(() => File.OpenRead(path));\n",
    "}\n",
    "\n",
    "var pdfStream = await OpenImageStreamAsync(pdfPath);"
   ]
  },
  {
   "cell_type": "code",
   "execution_count": 13,
   "id": "0b6bf484",
   "metadata": {
    "language_info": {
     "name": "polyglot-notebook"
    },
    "polyglot_notebook": {
     "kernelName": "csharp"
    }
   },
   "outputs": [],
   "source": [
    "var persistentAgentsClient = new PersistentAgentsClient(azure_foundry_endpoint, new AzureCliCredential());"
   ]
  },
  {
   "cell_type": "code",
   "execution_count": 14,
   "id": "81e0dddc",
   "metadata": {
    "language_info": {
     "name": "polyglot-notebook"
    },
    "polyglot_notebook": {
     "kernelName": "csharp"
    }
   },
   "outputs": [],
   "source": [
    "PersistentAgentFileInfo fileInfo = await persistentAgentsClient.Files.UploadFileAsync(pdfStream, PersistentAgentFilePurpose.Agents, \"demo.md\");"
   ]
  },
  {
   "cell_type": "code",
   "execution_count": 15,
   "id": "f0c75d80",
   "metadata": {
    "language_info": {
     "name": "polyglot-notebook"
    },
    "polyglot_notebook": {
     "kernelName": "csharp"
    }
   },
   "outputs": [],
   "source": [
    "PersistentAgentsVectorStore fileStore =\n",
    "            await persistentAgentsClient.VectorStores.CreateVectorStoreAsync(\n",
    "                [fileInfo.Id],\n",
    "                metadata: new Dictionary<string, string>() { { \"agentkey\", bool.TrueString } });"
   ]
  },
  {
   "cell_type": "code",
   "execution_count": 16,
   "id": "c77986c5",
   "metadata": {
    "language_info": {
     "name": "polyglot-notebook"
    },
    "polyglot_notebook": {
     "kernelName": "csharp"
    }
   },
   "outputs": [],
   "source": [
    "PersistentAgent agentModel = await persistentAgentsClient.Administration.CreateAgentAsync(\n",
    "            azure_foundry_model_id,\n",
    "            name: \"DotNetRAGAgent\",\n",
    "            tools: [new FileSearchToolDefinition()],\n",
    "            instructions: \"\"\"\n",
    "                You are an AI assistant designed to answer user questions using only the information retrieved from the provided document(s).\n",
    "\n",
    "                - If a user's question cannot be answered using the retrieved context, **you must clearly respond**: \n",
    "                \"I'm sorry, but the uploaded document does not contain the necessary information to answer that question.\"\n",
    "                - Do not answer from general knowledge or reasoning. Do not make assumptions or generate hypothetical explanations.\n",
    "                - Do not provide definitions, tutorials, or commentary that is not explicitly grounded in the content of the uploaded file(s).\n",
    "                - If a user asks a question like \"What is a Neural Network?\", and this is not discussed in the uploaded document, respond as instructed above.\n",
    "                - For questions that do have relevant content in the document (e.g., Contoso's travel insurance coverage), respond accurately, and cite the document explicitly.\n",
    "\n",
    "                You must behave as if you have no external knowledge beyond what is retrieved from the uploaded document.\n",
    "                \"\"\",\n",
    "            toolResources: new()\n",
    "            {\n",
    "                FileSearch = new()\n",
    "                {\n",
    "                    VectorStoreIds = { fileStore.Id },\n",
    "                }\n",
    "            },\n",
    "            metadata: new Dictionary<string, string>() { { \"agentkey\", bool.TrueString } });"
   ]
  },
  {
   "cell_type": "code",
   "execution_count": 17,
   "id": "282326cf",
   "metadata": {
    "language_info": {
     "name": "polyglot-notebook"
    },
    "polyglot_notebook": {
     "kernelName": "csharp"
    }
   },
   "outputs": [],
   "source": [
    "AIAgent agent = await persistentAgentsClient.GetAIAgentAsync(agentModel.Id);"
   ]
  },
  {
   "cell_type": "code",
   "execution_count": 18,
   "id": "2067d313",
   "metadata": {
    "language_info": {
     "name": "polyglot-notebook"
    },
    "polyglot_notebook": {
     "kernelName": "csharp"
    }
   },
   "outputs": [],
   "source": [
    "AgentThread thread = agent.GetNewThread();"
   ]
  },
  {
   "cell_type": "code",
   "execution_count": 19,
   "id": "454c4230",
   "metadata": {
    "language_info": {
     "name": "polyglot-notebook"
    },
    "polyglot_notebook": {
     "kernelName": "csharp"
    }
   },
   "outputs": [
    {
     "name": "stdout",
     "output_type": "stream",
     "text": [
      "Contoso's travel insurance coverage includes protection for medical emergencies, trip cancellations, and lost baggage. This ensures that travelers are supported in case of health-related issues during their trip, unforeseen cancellations, and the loss of their belongings while traveling【4:0†demo.md】.\r\n"
     ]
    }
   ],
   "source": [
    "Console.WriteLine(await agent.RunAsync(\"Can you explain Contoso's travel insurance coverage?\", thread));"
   ]
  },
  {
   "cell_type": "markdown",
   "metadata": {},
   "source": [
    "\n---\n\n**अस्वीकरण**:  \nहा दस्तऐवज AI भाषांतर सेवा [Co-op Translator](https://github.com/Azure/co-op-translator) वापरून भाषांतरित करण्यात आला आहे. आम्ही अचूकतेसाठी प्रयत्नशील असलो तरी, कृपया लक्षात ठेवा की स्वयंचलित भाषांतरांमध्ये त्रुटी किंवा अचूकतेचा अभाव असू शकतो. मूळ भाषेतील दस्तऐवज हा अधिकृत स्रोत मानला जावा. महत्त्वाच्या माहितीसाठी व्यावसायिक मानवी भाषांतराची शिफारस केली जाते. या भाषांतराचा वापर करून उद्भवलेल्या कोणत्याही गैरसमज किंवा चुकीच्या अर्थासाठी आम्ही जबाबदार राहणार नाही.\n"
   ]
  }
 ],
 "metadata": {
  "kernelspec": {
   "display_name": ".NET (C#)",
   "language": "C#",
   "name": ".net-csharp"
  },
  "language_info": {
   "name": "polyglot-notebook"
  },
  "polyglot_notebook": {
   "kernelInfo": {
    "defaultKernelName": "csharp",
    "items": [
     {
      "aliases": [],
      "name": "csharp"
     }
    ]
   }
  },
  "coopTranslator": {
   "original_hash": "e4584fa31638009dc6fb665275de8fc2",
   "translation_date": "2025-10-02T11:20:19+00:00",
   "source_file": "05-agentic-rag/code_samples/05-dotnet-agent-framework.ipynb",
   "language_code": "mr"
  }
 },
 "nbformat": 4,
 "nbformat_minor": 5
}