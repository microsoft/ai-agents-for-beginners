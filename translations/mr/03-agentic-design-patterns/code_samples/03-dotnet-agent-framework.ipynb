{
 "cells": [
  {
   "cell_type": "markdown",
   "id": "d6058fa4",
   "metadata": {},
   "source": [
    "# 🎨 GitHub मॉडेल्स (.NET) सह Agentic डिझाइन पॅटर्न\n",
    "\n",
    "## 📋 शिकण्याची उद्दिष्टे\n",
    "\n",
    "हे नोटबुक Microsoft Agent Framework वापरून GitHub मॉडेल्ससह बुद्धिमान एजंट तयार करण्यासाठी एंटरप्राइझ-ग्रेड डिझाइन पॅटर्न प्रदर्शित करते. तुम्ही एजंट्स उत्पादनासाठी तयार, देखभालक्षम आणि स्केलेबल बनवण्यासाठी व्यावसायिक पॅटर्न आणि आर्किटेक्चरल दृष्टिकोन शिकाल.\n",
    "\n",
    "**एंटरप्राइझ डिझाइन पॅटर्न्स:**\n",
    "- 🏭 **फॅक्टरी पॅटर्न**: डिपेंडन्सी इंजेक्शनसह मानक एजंट निर्मिती\n",
    "- 🔧 **बिल्डर पॅटर्न**: फ्लुएंट एजंट कॉन्फिगरेशन आणि सेटअप\n",
    "- 🧵 **थ्रेड-सुरक्षित पॅटर्न्स**: समांतर संभाषण व्यवस्थापन\n",
    "- 📋 **रिपॉझिटरी पॅटर्न**: साधन आणि क्षमता व्यवस्थापनाचे आयोजन\n",
    "\n",
    "## 🎯 .NET-विशिष्ट आर्किटेक्चरल फायदे\n",
    "\n",
    "### एंटरप्राइझ वैशिष्ट्ये\n",
    "- **स्ट्रॉंग टायपिंग**: संकलन-वेळ सत्यापन आणि IntelliSense समर्थन\n",
    "- **डिपेंडन्सी इंजेक्शन**: अंगभूत DI कंटेनर एकत्रीकरण\n",
    "- **कॉन्फिगरेशन व्यवस्थापन**: IConfiguration आणि Options पॅटर्न्स\n",
    "- **Async/Await**: प्रथम-श्रेणी असिंक्रोनस प्रोग्रामिंग समर्थन\n",
    "\n",
    "### उत्पादनासाठी तयार पॅटर्न्स\n",
    "- **लॉगिंग इंटिग्रेशन**: ILogger आणि संरचित लॉगिंग समर्थन\n",
    "- **हेल्थ चेक्स**: अंगभूत मॉनिटरिंग आणि डायग्नोस्टिक्स\n",
    "- **कॉन्फिगरेशन सत्यापन**: डेटा अ‍ॅनोटेशनसह स्ट्रॉंग टायपिंग\n",
    "- **त्रुटी हाताळणी**: संरचित अपवाद व्यवस्थापन\n",
    "\n",
    "## 🔧 तांत्रिक आर्किटेक्चर\n",
    "\n",
    "### मुख्य .NET घटक\n",
    "- **Microsoft.Extensions.AI**: एकत्रित AI सेवा अब्स्ट्रॅक्शन\n",
    "- **Microsoft.Agents.AI**: एंटरप्राइझ एजंट ऑर्केस्ट्रेशन फ्रेमवर्क\n",
    "- **GitHub मॉडेल्स इंटिग्रेशन**: उच्च-प्रदर्शन API क्लायंट पॅटर्न्स\n",
    "- **कॉन्फिगरेशन सिस्टम**: appsettings.json आणि पर्यावरण एकत्रीकरण\n",
    "\n",
    "### डिझाइन पॅटर्न अंमलबजावणी\n",
    "```csharp\n",
    "IServiceCollection → Agent Builder → Configuration → Tool Registry → AI Agent\n",
    "```\n",
    "\n",
    "## 🏗️ एंटरप्राइझ पॅटर्न्स प्रदर्शित\n",
    "\n",
    "### 1. **निर्मिती पॅटर्न्स**\n",
    "- **एजंट फॅक्टरी**: सुसंगत कॉन्फिगरेशनसह केंद्रीकृत एजंट निर्मिती\n",
    "- **बिल्डर पॅटर्न**: जटिल एजंट कॉन्फिगरेशनसाठी फ्लुएंट API\n",
    "- **सिंगलटन पॅटर्न**: सामायिक संसाधने आणि कॉन्फिगरेशन व्यवस्थापन\n",
    "- **डिपेंडन्सी इंजेक्शन**: सैल कपलिंग आणि चाचणी क्षमता\n",
    "\n",
    "### 2. **वर्तनात्मक पॅटर्न्स**\n",
    "- **स्टॅटेजी पॅटर्न**: बदलण्यायोग्य साधन अंमलबजावणी धोरणे\n",
    "- **कमांड पॅटर्न**: एजंट ऑपरेशन्सचे इनकॅप्सुलेशन, अंडू/रीडूसह\n",
    "- **ऑब्झर्व्हर पॅटर्न**: इव्हेंट-ड्रिव्हन एजंट जीवनचक्र व्यवस्थापन\n",
    "- **टेम्पलेट मेथड**: मानक एजंट अंमलबजावणी कार्यप्रवाह\n",
    "\n",
    "### 3. **स्ट्रक्चरल पॅटर्न्स**\n",
    "- **अडॅप्टर पॅटर्न**: GitHub मॉडेल्स API इंटिग्रेशन लेयर\n",
    "- **डेकोरेटर पॅटर्न**: एजंट क्षमता वाढवणे\n",
    "- **फॅसाड पॅटर्न**: सरलीकृत एजंट संवाद इंटरफेस\n",
    "- **प्रॉक्सी पॅटर्न**: कार्यक्षमतेसाठी लेझी लोडिंग आणि कॅशिंग\n",
    "\n",
    "## ⚙️ पूर्वतयारी आणि सेटअप\n",
    "\n",
    "**विकसनशील वातावरण:**\n",
    "- .NET 9.0 SDK किंवा त्याहून अधिक\n",
    "- Visual Studio 2022 किंवा VS Code C# एक्सटेंशनसह\n",
    "- GitHub मॉडेल्स API प्रवेश\n",
    "\n",
    "**NuGet Dependencies:**\n",
    "```xml\n",
    "<PackageReference Include=\"Microsoft.Extensions.AI\" Version=\"9.9.0\" />\n",
    "<PackageReference Include=\"Microsoft.Extensions.AI.OpenAI\" Version=\"9.9.0-preview.1.25458.4\" />\n",
    "<PackageReference Include=\"DotNetEnv\" Version=\"3.1.1\" />\n",
    "```\n",
    "\n",
    "**कॉन्फिगरेशन (.env फाइल):**\n",
    "```env\n",
    "GITHUB_TOKEN=your_github_personal_access_token\n",
    "GITHUB_ENDPOINT=https://models.inference.ai.azure.com\n",
    "GITHUB_MODEL_ID=gpt-4o-mini\n",
    "```\n",
    "\n",
    "## 📚 .NET डिझाइन तत्त्वे\n",
    "\n",
    "### SOLID तत्त्वे\n",
    "- **सिंगल रिस्पॉन्सिबिलिटी**: प्रत्येक घटकाचे एक स्पष्ट उद्दिष्ट\n",
    "- **ओपन/क्लोज्ड**: बदल न करता विस्तारक्षम\n",
    "- **लिस्कॉव सब्स्टिट्यूशन**: इंटरफेस-आधारित साधन अंमलबजावणी\n",
    "- **इंटरफेस सेग्रिगेशन**: लक्ष केंद्रित, सुसंगत इंटरफेस\n",
    "- **डिपेंडन्सी इनव्हर्शन**: ठोस गोष्टींवर अवलंबून न राहता अब्स्ट्रॅक्शनवर अवलंबून राहणे\n",
    "\n",
    "### क्लीन आर्किटेक्चर\n",
    "- **डोमेन लेयर**: मुख्य एजंट आणि साधन अब्स्ट्रॅक्शन\n",
    "- **अ‍ॅप्लिकेशन लेयर**: एजंट ऑर्केस्ट्रेशन आणि कार्यप्रवाह\n",
    "- **इन्फ्रास्ट्रक्चर लेयर**: GitHub मॉडेल्स इंटिग्रेशन आणि बाह्य सेवा\n",
    "- **प्रेझेंटेशन लेयर**: वापरकर्ता संवाद आणि प्रतिसाद स्वरूपन\n",
    "\n",
    "## 🔒 एंटरप्राइझ विचार\n",
    "\n",
    "### सुरक्षा\n",
    "- **क्रेडेन्शियल व्यवस्थापन**: IConfiguration सह सुरक्षित API की हाताळणी\n",
    "- **इनपुट सत्यापन**: स्ट्रॉंग टायपिंग आणि डेटा अ‍ॅनोटेशन सत्यापन\n",
    "- **आउटपुट सॅनिटायझेशन**: सुरक्षित प्रतिसाद प्रक्रिया आणि फिल्टरिंग\n",
    "- **ऑडिट लॉगिंग**: व्यापक ऑपरेशन ट्रॅकिंग\n",
    "\n",
    "### कार्यक्षमता\n",
    "- **Async पॅटर्न्स**: नॉन-ब्लॉकिंग I/O ऑपरेशन्स\n",
    "- **कनेक्शन पूलिंग**: कार्यक्षम HTTP क्लायंट व्यवस्थापन\n",
    "- **कॅशिंग**: कार्यक्षमता सुधारण्यासाठी प्रतिसाद कॅशिंग\n",
    "- **संसाधन व्यवस्थापन**: योग्य डिस्पोजल आणि क्लीनअप पॅटर्न्स\n",
    "\n",
    "### स्केलेबिलिटी\n",
    "- **थ्रेड सेफ्टी**: समांतर एजंट अंमलबजावणी समर्थन\n",
    "- **संसाधन पूलिंग**: कार्यक्षम संसाधन वापर\n",
    "- **लोड व्यवस्थापन**: दर मर्यादित करणे आणि बॅकप्रेशर हाताळणे\n",
    "- **मॉनिटरिंग**: कार्यक्षमता मेट्रिक्स आणि हेल्थ चेक्स\n",
    "\n",
    "## 🚀 उत्पादन तैनाती\n",
    "\n",
    "- **कॉन्फिगरेशन व्यवस्थापन**: पर्यावरण-विशिष्ट सेटिंग्ज\n",
    "- **लॉगिंग स्ट्रॅटेजी**: संरचित लॉगिंगसह कोरिलेशन IDs\n",
    "- **त्रुटी हाताळणी**: योग्य पुनर्प्राप्तीसह जागतिक अपवाद हाताळणी\n",
    "- **मॉनिटरिंग**: अ‍ॅप्लिकेशन इनसाइट्स आणि कार्यक्षमता काउंटर्स\n",
    "- **चाचणी**: युनिट चाचण्या, इंटिग्रेशन चाचण्या आणि लोड चाचणी पॅटर्न्स\n",
    "\n",
    ".NET सह एंटरप्राइझ-ग्रेड बुद्धिमान एजंट तयार करण्यासाठी तयार आहात? चला काहीतरी मजबूत आर्किटेक्ट करूया! 🏢✨\n"
   ]
  },
  {
   "cell_type": "code",
   "execution_count": 1,
   "id": "2770ac5c",
   "metadata": {
    "language_info": {
     "name": "polyglot-notebook"
    },
    "polyglot_notebook": {
     "kernelName": "csharp"
    }
   },
   "outputs": [
    {
     "data": {
      "text/html": [
       "<div><div></div><div></div><div><strong>Installed Packages</strong><ul><li><span>Microsoft.Extensions.AI, 9.9.1</span></li></ul></div></div>"
      ]
     },
     "metadata": {},
     "output_type": "display_data"
    }
   ],
   "source": [
    "#r \"nuget: Microsoft.Extensions.AI, 9.9.1\""
   ]
  },
  {
   "cell_type": "code",
   "execution_count": null,
   "id": "984ff6cd",
   "metadata": {
    "language_info": {
     "name": "polyglot-notebook"
    },
    "polyglot_notebook": {
     "kernelName": "csharp"
    }
   },
   "outputs": [
    {
     "data": {
      "text/html": [
       "<div><div></div><div></div><div><strong>Installed Packages</strong><ul><li><span>Microsoft.Agents.AI.OpenAI, 1.0.0-preview.251001.2</span></li></ul></div></div>"
      ]
     },
     "metadata": {},
     "output_type": "display_data"
    }
   ],
   "source": [
    "#r \"nuget: Microsoft.Agents.AI.OpenAI, 1.0.0-preview.251001.3\""
   ]
  },
  {
   "cell_type": "code",
   "execution_count": null,
   "id": "0ab71360",
   "metadata": {
    "language_info": {
     "name": "polyglot-notebook"
    },
    "polyglot_notebook": {
     "kernelName": "csharp"
    }
   },
   "outputs": [
    {
     "data": {
      "text/html": [
       "<div><div></div><div></div><div><strong>Installed Packages</strong><ul><li><span>microsoft.agents.ai, 1.0.0-preview.251001.2</span></li></ul></div></div>"
      ]
     },
     "metadata": {},
     "output_type": "display_data"
    }
   ],
   "source": [
    "\n",
    "\n",
    "#r \"nuget: Microsoft.Agents.AI, 1.0.0-preview.251001.3\""
   ]
  },
  {
   "cell_type": "code",
   "execution_count": 4,
   "id": "4ab7b15d",
   "metadata": {
    "language_info": {
     "name": "polyglot-notebook"
    },
    "polyglot_notebook": {
     "kernelName": "csharp"
    }
   },
   "outputs": [],
   "source": [
    "// #r \"nuget: Microsoft.Extensions.AI.OpenAI, 9.9.0-preview.1.25458.4\""
   ]
  },
  {
   "cell_type": "code",
   "execution_count": 5,
   "id": "3fa8aa21",
   "metadata": {
    "language_info": {
     "name": "polyglot-notebook"
    },
    "polyglot_notebook": {
     "kernelName": "csharp"
    }
   },
   "outputs": [
    {
     "data": {
      "text/html": [
       "<div><div></div><div></div><div><strong>Installed Packages</strong><ul><li><span>DotNetEnv, 3.1.1</span></li></ul></div></div>"
      ]
     },
     "metadata": {},
     "output_type": "display_data"
    }
   ],
   "source": [
    "#r \"nuget: DotNetEnv, 3.1.1\""
   ]
  },
  {
   "cell_type": "code",
   "execution_count": 6,
   "id": "fc8ee8ea",
   "metadata": {
    "language_info": {
     "name": "polyglot-notebook"
    },
    "polyglot_notebook": {
     "kernelName": "csharp"
    }
   },
   "outputs": [],
   "source": [
    "using System;\n",
    "using System.ComponentModel;\n",
    "using System.ClientModel;\n",
    "\n",
    "using Microsoft.Extensions.AI;\n",
    "using Microsoft.Agents.AI;\n",
    "using OpenAI;"
   ]
  },
  {
   "cell_type": "code",
   "execution_count": 7,
   "id": "699b1c83",
   "metadata": {
    "language_info": {
     "name": "polyglot-notebook"
    },
    "polyglot_notebook": {
     "kernelName": "csharp"
    }
   },
   "outputs": [],
   "source": [
    " using DotNetEnv;"
   ]
  },
  {
   "cell_type": "code",
   "execution_count": 8,
   "id": "daa649a0",
   "metadata": {
    "language_info": {
     "name": "polyglot-notebook"
    },
    "polyglot_notebook": {
     "kernelName": "csharp"
    }
   },
   "outputs": [],
   "source": [
    "Env.Load(\"../../../.env\");"
   ]
  },
  {
   "cell_type": "code",
   "execution_count": 9,
   "id": "29661a90",
   "metadata": {
    "language_info": {
     "name": "polyglot-notebook"
    },
    "polyglot_notebook": {
     "kernelName": "csharp"
    }
   },
   "outputs": [],
   "source": [
    "[Description(\"Provides a random vacation destination.\")]\n",
    "static string GetRandomDestination()\n",
    "{\n",
    "    var destinations = new List<string>\n",
    "    {\n",
    "        \"Paris, France\",\n",
    "        \"Tokyo, Japan\",\n",
    "        \"New York City, USA\",\n",
    "        \"Sydney, Australia\",\n",
    "        \"Rome, Italy\",\n",
    "        \"Barcelona, Spain\",\n",
    "        \"Cape Town, South Africa\",\n",
    "        \"Rio de Janeiro, Brazil\",\n",
    "        \"Bangkok, Thailand\",\n",
    "        \"Vancouver, Canada\"\n",
    "    };\n",
    "\n",
    "    var random = new Random();\n",
    "    int index = random.Next(destinations.Count);\n",
    "    return destinations[index];\n",
    "}"
   ]
  },
  {
   "cell_type": "code",
   "execution_count": 10,
   "id": "d2ed1f8b",
   "metadata": {
    "language_info": {
     "name": "polyglot-notebook"
    },
    "polyglot_notebook": {
     "kernelName": "csharp"
    }
   },
   "outputs": [],
   "source": [
    "var github_endpoint = Environment.GetEnvironmentVariable(\"GITHUB_ENDPOINT\") ?? throw new InvalidOperationException(\"GITHUB_ENDPOINT is not set.\");\n",
    "var github_model_id = Environment.GetEnvironmentVariable(\"GITHUB_MODEL_ID\") ?? \"gpt-4o-mini\";\n",
    "var github_token = Environment.GetEnvironmentVariable(\"GITHUB_TOKEN\") ?? throw new InvalidOperationException(\"GITHUB_TOKEN is not set.\");"
   ]
  },
  {
   "cell_type": "code",
   "execution_count": 11,
   "id": "c36c73e1",
   "metadata": {
    "language_info": {
     "name": "polyglot-notebook"
    },
    "polyglot_notebook": {
     "kernelName": "csharp"
    }
   },
   "outputs": [],
   "source": [
    "var openAIOptions = new OpenAIClientOptions()\n",
    "{\n",
    "    Endpoint= new Uri(github_endpoint)\n",
    "};"
   ]
  },
  {
   "cell_type": "code",
   "execution_count": 12,
   "id": "6d94ff10",
   "metadata": {
    "language_info": {
     "name": "polyglot-notebook"
    },
    "polyglot_notebook": {
     "kernelName": "csharp"
    }
   },
   "outputs": [],
   "source": [
    "\n",
    "var openAIClient = new OpenAIClient(new ApiKeyCredential(github_token), openAIOptions);"
   ]
  },
  {
   "cell_type": "code",
   "execution_count": 13,
   "id": "fe32b57a",
   "metadata": {
    "language_info": {
     "name": "polyglot-notebook"
    },
    "polyglot_notebook": {
     "kernelName": "csharp"
    }
   },
   "outputs": [],
   "source": [
    "AIAgent agent = new OpenAIClient(new ApiKeyCredential(github_token), openAIOptions).GetChatClient(github_model_id).CreateAIAgent(\n",
    "    instructions:\"You are a helpful AI Agent that can help plan vacations for customers at random destinations\", tools: [AIFunctionFactory.Create((Func<string>)GetRandomDestination)]);"
   ]
  },
  {
   "cell_type": "code",
   "execution_count": 14,
   "metadata": {
    "language_info": {
     "name": "polyglot-notebook"
    },
    "polyglot_notebook": {
     "kernelName": "csharp"
    }
   },
   "outputs": [],
   "source": [
    "AgentThread thread = agent.GetNewThread();"
   ]
  },
  {
   "cell_type": "code",
   "execution_count": 15,
   "id": "5e455aff",
   "metadata": {
    "language_info": {
     "name": "polyglot-notebook"
    },
    "polyglot_notebook": {
     "kernelName": "csharp"
    }
   },
   "outputs": [
    {
     "name": "stdout",
     "output_type": "stream",
     "text": [
      "How about a day trip to Vancouver, Canada? Here's a suggested itinerary for your day:\n",
      "\n",
      "### Morning\n",
      "- **Breakfast at a Local Cafe**: Start your day with a delicious breakfast at a cozy café like **Jam Cafe** or **Cafe Medina**.\n",
      "- **Stanley Park**: After breakfast, head to Stanley Park. You can rent a bike and ride along the seawall, enjoying beautiful views of the city and the water.\n",
      "\n",
      "### Afternoon\n",
      "- **Lunch in Gastown**: Make your way to Gastown for lunch. Try a local favorite like **The Flying Pig** or **Noodle Box**.\n",
      "- **Explore Gastown**: After lunch, walk around Gastown to see the iconic Steam Clock and browse the unique shops and boutiques.\n",
      "\n",
      "### Late Afternoon\n",
      "- **Granville Island**: Visit Granville Island, where you can stroll through the public market, sample local foods, and enjoy artisan shops.\n",
      "- **False Creek**: Take a walk along False Creek and enjoy the waterfront views.\n",
      "\n",
      "### Evening\n",
      "- **Dinner at a Waterfront Restaurant**: End your day with dinner at a waterfront restaurant like **The Boathouse** or **Lift Bar Grill View** for great food and a view of the sunset.\n",
      "- **Optional: Sunset Cruise**: If you're up for it, consider taking a sunset cruise for a different perspective of the city.\n",
      "\n",
      "### Tips\n",
      "- Make sure to check the weather beforehand!\n",
      "- Consider public transport or ride-sharing to navigate the city easily.\n",
      "\n",
      "Enjoy your day trip to Vancouver!\r\n"
     ]
    }
   ],
   "source": [
    "Console.WriteLine(await agent.RunAsync(\"Plan me a day trip\",thread));"
   ]
  },
  {
   "cell_type": "code",
   "execution_count": 16,
   "id": "592ae1bb",
   "metadata": {
    "language_info": {
     "name": "polyglot-notebook"
    },
    "polyglot_notebook": {
     "kernelName": "csharp"
    }
   },
   "outputs": [
    {
     "name": "stdout",
     "output_type": "stream",
     "text": [
      "How about a vacation to New York City, USA? Here's a suggested itinerary for your trip:\n",
      "\n",
      "### Day 1: Arrival in New York City\n",
      "- **Check-In**: Arrive and check in to your hotel.\n",
      "- **Central Park**: Take a leisurely stroll through Central Park. Consider renting a bike or taking a carriage ride.\n",
      "- **Evening**: Enjoy dinner at a classic NYC restaurant, such as **Katz's Delicatessen** or **Carbone**.\n",
      "\n",
      "### Day 2: Iconic Landmarks\n",
      "- **Morning**: Breakfast at a local diner.\n",
      "- **Statue of Liberty & Ellis Island**: Take a ferry to visit these iconic landmarks.\n",
      "- **Afternoon**: Explore Wall Street and visit the 9/11 Memorial & Museum.\n",
      "- **Evening**: Dinner in the Financial District followed by a walk across the Brooklyn Bridge at sunset.\n",
      "\n",
      "### Day 3: Culture and Arts\n",
      "- **Morning**: Visit The Metropolitan Museum of Art (The Met) and spend a few hours exploring its vast collection.\n",
      "- **Afternoon**: Head to Times Square for lunch and the buzz of the city.\n",
      "- **Broadway Show**: Catch a Broadway show in the evening. Be sure to book tickets in advance!\n",
      "\n",
      "### Day 4: Explore Neighborhoods\n",
      "- **Morning**: Head to SoHo for brunch and shopping in its chic boutiques.\n",
      "- **Afternoon**: Explore Greenwich Village, known for its bohemian atmosphere and history.\n",
      "- **Evening**: Enjoy dinner in the West Village, perhaps at **Buvette** or **Minetta Tavern**.\n",
      "\n",
      "### Day 5: Departure\n",
      "- **Last-minute Shopping**: Spend your last morning shopping at Fifth Avenue or head to Chelsea Market for food and souvenirs.\n",
      "- **Check-Out**: Depart for your journey home.\n",
      "\n",
      "### Tips\n",
      "- Utilize the subway for efficient travel around the city.\n",
      "- Make reservations for popular restaurants and attractions ahead of time!\n",
      "\n",
      "Enjoy your trip to New York City!\r\n"
     ]
    }
   ],
   "source": [
    "Console.WriteLine(await agent.RunAsync(\"I don't like that destination. Plan me another vacation.\",thread));"
   ]
  },
  {
   "cell_type": "markdown",
   "metadata": {},
   "source": [
    "\n---\n\n**अस्वीकरण**:  \nहा दस्तऐवज AI भाषांतर सेवा [Co-op Translator](https://github.com/Azure/co-op-translator) वापरून भाषांतरित करण्यात आला आहे. आम्ही अचूकतेसाठी प्रयत्नशील असलो तरी कृपया लक्षात ठेवा की स्वयंचलित भाषांतरांमध्ये त्रुटी किंवा अचूकतेचा अभाव असू शकतो. मूळ भाषेतील दस्तऐवज हा अधिकृत स्रोत मानला जावा. महत्त्वाच्या माहितीसाठी व्यावसायिक मानवी भाषांतराची शिफारस केली जाते. या भाषांतराचा वापर करून निर्माण होणाऱ्या कोणत्याही गैरसमज किंवा चुकीच्या अर्थासाठी आम्ही जबाबदार राहणार नाही.\n"
   ]
  }
 ],
 "metadata": {
  "kernelspec": {
   "display_name": ".NET (C#)",
   "language": "C#",
   "name": ".net-csharp"
  },
  "language_info": {
   "name": "polyglot-notebook"
  },
  "polyglot_notebook": {
   "kernelInfo": {
    "defaultKernelName": "csharp",
    "items": [
     {
      "aliases": [],
      "name": "csharp"
     }
    ]
   }
  },
  "coopTranslator": {
   "original_hash": "070c1d8985b3dc6e6d977f3e891037f1",
   "translation_date": "2025-10-02T11:51:30+00:00",
   "source_file": "03-agentic-design-patterns/code_samples/03-dotnet-agent-framework.ipynb",
   "language_code": "mr"
  }
 },
 "nbformat": 4,
 "nbformat_minor": 5
}