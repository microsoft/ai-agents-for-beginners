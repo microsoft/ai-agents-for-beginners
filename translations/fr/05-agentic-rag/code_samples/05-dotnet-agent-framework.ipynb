{
 "cells": [
  {
   "cell_type": "markdown",
   "id": "44b5899e",
   "metadata": {},
   "source": [
    "# 🔍 RAG d'entreprise avec Azure AI Foundry (.NET)\n",
    "\n",
    "## 📋 Objectifs d'apprentissage\n",
    "\n",
    "Ce notebook montre comment créer des systèmes RAG (Retrieval-Augmented Generation) de niveau entreprise en utilisant le Microsoft Agent Framework en .NET avec Azure AI Foundry. Vous apprendrez à concevoir des agents prêts pour la production capables de rechercher dans des documents et de fournir des réponses précises et contextuelles, tout en garantissant la sécurité et la scalabilité propres aux entreprises.\n",
    "\n",
    "**Fonctionnalités RAG d'entreprise que vous allez développer :**\n",
    "- 📚 **Intelligence documentaire** : Traitement avancé des documents avec les services Azure AI\n",
    "- 🔍 **Recherche sémantique** : Recherche vectorielle haute performance avec des fonctionnalités d'entreprise\n",
    "- 🛡️ **Intégration de la sécurité** : Contrôle d'accès basé sur les rôles et modèles de protection des données\n",
    "- 🏢 **Architecture évolutive** : Systèmes RAG prêts pour la production avec surveillance intégrée\n",
    "\n",
    "## 🎯 Architecture RAG d'entreprise\n",
    "\n",
    "### Composants principaux d'entreprise\n",
    "- **Azure AI Foundry** : Plateforme AI gérée pour les entreprises avec sécurité et conformité\n",
    "- **Agents persistants** : Agents avec gestion de l'historique des conversations et du contexte\n",
    "- **Gestion des magasins vectoriels** : Indexation et récupération de documents de niveau entreprise\n",
    "- **Intégration d'identité** : Authentification Azure AD et contrôle d'accès basé sur les rôles\n",
    "\n",
    "### Avantages de .NET pour les entreprises\n",
    "- **Sécurité des types** : Validation au moment de la compilation pour les opérations RAG et les structures de données\n",
    "- **Performance asynchrone** : Traitement non bloquant des documents et des opérations de recherche\n",
    "- **Gestion de la mémoire** : Utilisation efficace des ressources pour les grandes collections de documents\n",
    "- **Modèles d'intégration** : Intégration native des services Azure avec injection de dépendances\n",
    "\n",
    "## 🏗️ Architecture technique\n",
    "\n",
    "### Pipeline RAG d'entreprise\n",
    "```csharp\n",
    "Document Upload → Security Validation → Vector Processing → Index Creation\n",
    "                      ↓                    ↓                  ↓\n",
    "User Query → Authentication → Semantic Search → Context Ranking → AI Response\n",
    "```\n",
    "\n",
    "### Composants principaux de .NET\n",
    "- **Azure.AI.Agents.Persistent** : Gestion des agents d'entreprise avec persistance de l'état\n",
    "- **Azure.Identity** : Authentification intégrée pour un accès sécurisé aux services Azure\n",
    "- **Microsoft.Agents.AI.AzureAI** : Implémentation du framework d'agents optimisé pour Azure\n",
    "- **System.Linq.Async** : Opérations LINQ asynchrones haute performance\n",
    "\n",
    "## 🔧 Fonctionnalités et avantages d'entreprise\n",
    "\n",
    "### Sécurité et conformité\n",
    "- **Intégration Azure AD** : Gestion des identités et authentification d'entreprise\n",
    "- **Accès basé sur les rôles** : Permissions granulaires pour l'accès aux documents et aux opérations\n",
    "- **Protection des données** : Cryptage des données au repos et en transit pour les documents sensibles\n",
    "- **Journalisation des audits** : Suivi complet des activités pour répondre aux exigences de conformité\n",
    "\n",
    "### Performance et scalabilité\n",
    "- **Pooling de connexions** : Gestion efficace des connexions aux services Azure\n",
    "- **Traitement asynchrone** : Opérations non bloquantes pour des scénarios à haut débit\n",
    "- **Stratégies de mise en cache** : Mise en cache intelligente pour les documents fréquemment consultés\n",
    "- **Répartition de charge** : Traitement distribué pour les déploiements à grande échelle\n",
    "\n",
    "### Gestion et surveillance\n",
    "- **Vérifications de santé** : Surveillance intégrée des composants du système RAG\n",
    "- **Métriques de performance** : Analyses détaillées sur la qualité des recherches et les temps de réponse\n",
    "- **Gestion des erreurs** : Gestion complète des exceptions avec des politiques de reprise\n",
    "- **Gestion de la configuration** : Paramètres spécifiques à l'environnement avec validation\n",
    "\n",
    "## ⚙️ Prérequis et configuration\n",
    "\n",
    "**Environnement de développement :**\n",
    "- SDK .NET 9.0 ou supérieur\n",
    "- Visual Studio 2022 ou VS Code avec extension C#\n",
    "- Abonnement Azure avec accès à AI Foundry\n",
    "\n",
    "**Packages NuGet requis :**\n",
    "```xml\n",
    "<PackageReference Include=\"Microsoft.Extensions.AI\" Version=\"9.9.0\" />\n",
    "<PackageReference Include=\"Azure.AI.Agents.Persistent\" Version=\"1.2.0-beta.5\" />\n",
    "<PackageReference Include=\"Azure.Identity\" Version=\"1.15.0\" />\n",
    "<PackageReference Include=\"System.Linq.Async\" Version=\"6.0.3\" />\n",
    "<PackageReference Include=\"DotNetEnv\" Version=\"3.1.1\" />\n",
    "```\n",
    "\n",
    "**Configuration d'authentification Azure :**\n",
    "```bash\n",
    "# Install Azure CLI and authenticate\n",
    "az login\n",
    "az account set --subscription \"your-subscription-id\"\n",
    "```\n",
    "\n",
    "**Configuration de l'environnement (.env file) :**\n",
    "```env\n",
    "# Azure AI Foundry configuration (automatically handled via Azure CLI)\n",
    "# Ensure you're authenticated to the correct Azure subscription\n",
    "```\n",
    "\n",
    "## 📊 Modèles RAG d'entreprise\n",
    "\n",
    "### Modèles de gestion des documents\n",
    "- **Téléchargement en masse** : Traitement efficace de grandes collections de documents\n",
    "- **Mises à jour incrémentielles** : Ajout et modification de documents en temps réel\n",
    "- **Contrôle de version** : Gestion des versions et suivi des modifications des documents\n",
    "- **Gestion des métadonnées** : Attributs riches et taxonomie des documents\n",
    "\n",
    "### Modèles de recherche et de récupération\n",
    "- **Recherche hybride** : Combinaison de recherche sémantique et par mots-clés pour des résultats optimaux\n",
    "- **Recherche facettée** : Filtrage multidimensionnel et catégorisation\n",
    "- **Ajustement de pertinence** : Algorithmes de scoring personnalisés pour des besoins spécifiques au domaine\n",
    "- **Classement des résultats** : Classement avancé avec intégration de logique métier\n",
    "\n",
    "### Modèles de sécurité\n",
    "- **Sécurité au niveau des documents** : Contrôle d'accès granulaire par document\n",
    "- **Classification des données** : Étiquetage automatique de sensibilité et protection\n",
    "- **Trails d'audit** : Journalisation complète de toutes les opérations RAG\n",
    "- **Protection de la vie privée** : Détection et masquage des informations personnelles identifiables (PII)\n",
    "\n",
    "## 🔒 Fonctionnalités de sécurité d'entreprise\n",
    "\n",
    "### Authentification et autorisation\n",
    "```csharp\n",
    "// Azure AD integrated authentication\n",
    "var credential = new AzureCliCredential();\n",
    "var agentsClient = new PersistentAgentsClient(endpoint, credential);\n",
    "\n",
    "// Role-based access validation\n",
    "if (!await ValidateUserPermissions(user, documentId))\n",
    "{\n",
    "    throw new UnauthorizedAccessException(\"Insufficient permissions\");\n",
    "}\n",
    "```\n",
    "\n",
    "### Protection des données\n",
    "- **Cryptage** : Cryptage de bout en bout pour les documents et les indices de recherche\n",
    "- **Contrôles d'accès** : Intégration avec Azure AD pour les permissions utilisateur et groupe\n",
    "- **Résidence des données** : Contrôles de localisation géographique des données pour la conformité\n",
    "- **Sauvegarde et récupération** : Sauvegarde automatisée et capacités de récupération en cas de sinistre\n",
    "\n",
    "## 📈 Optimisation des performances\n",
    "\n",
    "### Modèles de traitement asynchrone\n",
    "```csharp\n",
    "// Efficient async document processing\n",
    "await foreach (var document in documentStream.AsAsyncEnumerable())\n",
    "{\n",
    "    await ProcessDocumentAsync(document, cancellationToken);\n",
    "}\n",
    "```\n",
    "\n",
    "### Gestion de la mémoire\n",
    "- **Traitement en streaming** : Gestion des grands documents sans problèmes de mémoire\n",
    "- **Pooling des ressources** : Réutilisation efficace des ressources coûteuses\n",
    "- **Collecte des déchets** : Modèles optimisés d'allocation de mémoire\n",
    "- **Gestion des connexions** : Cycle de vie approprié des connexions aux services Azure\n",
    "\n",
    "### Stratégies de mise en cache\n",
    "- **Mise en cache des requêtes** : Mise en cache des recherches fréquemment exécutées\n",
    "- **Mise en cache des documents** : Mise en cache en mémoire pour les documents populaires\n",
    "- **Mise en cache des indices** : Optimisation de la mise en cache des indices vectoriels\n",
    "- **Mise en cache des résultats** : Mise en cache intelligente des réponses générées\n",
    "\n",
    "## 📊 Cas d'utilisation d'entreprise\n",
    "\n",
    "### Gestion des connaissances\n",
    "- **Wiki d'entreprise** : Recherche intelligente dans les bases de connaissances de l'entreprise\n",
    "- **Politiques et procédures** : Assistance automatisée pour la conformité et les procédures\n",
    "- **Matériaux de formation** : Assistance intelligente pour l'apprentissage et le développement\n",
    "- **Bases de données de recherche** : Systèmes d'analyse de documents académiques et de recherche\n",
    "\n",
    "### Support client\n",
    "- **Base de connaissances de support** : Réponses automatisées pour le service client\n",
    "- **Documentation produit** : Recherche intelligente d'informations sur les produits\n",
    "- **Guides de dépannage** : Assistance contextuelle pour résoudre les problèmes\n",
    "- **Systèmes de FAQ** : Génération dynamique de FAQ à partir de collections de documents\n",
    "\n",
    "### Conformité réglementaire\n",
    "- **Analyse de documents juridiques** : Intelligence pour les contrats et documents juridiques\n",
    "- **Surveillance de la conformité** : Vérification automatisée de la conformité réglementaire\n",
    "- **Évaluation des risques** : Analyse et reporting des risques basés sur les documents\n",
    "- **Support d'audit** : Découverte intelligente de documents pour les audits\n",
    "\n",
    "## 🚀 Déploiement en production\n",
    "\n",
    "### Surveillance et observabilité\n",
    "- **Application Insights** : Télémetrie détaillée et surveillance des performances\n",
    "- **Métriques personnalisées** : Suivi et alertes des indicateurs clés de performance spécifiques à l'entreprise\n",
    "- **Traçage distribué** : Suivi de bout en bout des requêtes à travers les services\n",
    "- **Tableaux de bord de santé** : Visualisation en temps réel de la santé et des performances du système\n",
    "\n",
    "### Scalabilité et fiabilité\n",
    "- **Auto-scaling** : Scalabilité automatique basée sur la charge et les métriques de performance\n",
    "- **Haute disponibilité** : Déploiement multi-régions avec capacités de basculement\n",
    "- **Tests de charge** : Validation des performances sous des conditions de charge d'entreprise\n",
    "- **Récupération après sinistre** : Procédures automatisées de sauvegarde et de récupération\n",
    "\n",
    "Prêt à concevoir des systèmes RAG de niveau entreprise capables de gérer des documents sensibles à grande échelle ? Construisons des systèmes de connaissances intelligents pour les entreprises ! 🏢📖✨\n"
   ]
  },
  {
   "cell_type": "code",
   "execution_count": 1,
   "metadata": {
    "language_info": {
     "name": "polyglot-notebook"
    },
    "polyglot_notebook": {
     "kernelName": "csharp"
    }
   },
   "outputs": [
    {
     "data": {
      "text/html": [
       "<div><div></div><div></div><div><strong>Installed Packages</strong><ul><li><span>Microsoft.Extensions.AI, 9.9.1</span></li></ul></div></div>"
      ]
     },
     "metadata": {},
     "output_type": "display_data"
    }
   ],
   "source": [
    "#r \"nuget: Microsoft.Extensions.AI, 9.9.1\""
   ]
  },
  {
   "cell_type": "code",
   "execution_count": 2,
   "id": "4ec1f0d1",
   "metadata": {
    "language_info": {
     "name": "polyglot-notebook"
    },
    "polyglot_notebook": {
     "kernelName": "csharp"
    }
   },
   "outputs": [
    {
     "data": {
      "text/html": [
       "<div><div></div><div></div><div><strong>Installed Packages</strong><ul><li><span>Azure.AI.Agents.Persistent, 1.2.0-beta.5</span></li><li><span>Azure.Identity, 1.15.0</span></li><li><span>System.Linq.Async, 6.0.3</span></li></ul></div></div>"
      ]
     },
     "metadata": {},
     "output_type": "display_data"
    }
   ],
   "source": [
    "#r \"nuget: Azure.AI.Agents.Persistent, 1.2.0-beta.5\"\n",
    "#r \"nuget: Azure.Identity, 1.15.0\"\n",
    "#r \"nuget: System.Linq.Async, 6.0.3\""
   ]
  },
  {
   "cell_type": "code",
   "execution_count": 3,
   "id": "2363ae07",
   "metadata": {
    "language_info": {
     "name": "polyglot-notebook"
    },
    "polyglot_notebook": {
     "kernelName": "csharp"
    }
   },
   "outputs": [],
   "source": []
  },
  {
   "cell_type": "code",
   "execution_count": null,
   "id": "d10cec9d",
   "metadata": {
    "language_info": {
     "name": "polyglot-notebook"
    },
    "polyglot_notebook": {
     "kernelName": "csharp"
    }
   },
   "outputs": [
    {
     "data": {
      "text/html": [
       "<div><div></div><div></div><div><strong>Installed Packages</strong><ul><li><span>Microsoft.Agents.AI.AzureAI, 1.0.0-preview.251001.2</span></li></ul></div></div>"
      ]
     },
     "metadata": {},
     "output_type": "display_data"
    }
   ],
   "source": [
    "#r \"nuget: Microsoft.Agents.AI.AzureAI, 1.0.0-preview.251001.3\""
   ]
  },
  {
   "cell_type": "code",
   "execution_count": null,
   "id": "78199d1c",
   "metadata": {
    "language_info": {
     "name": "polyglot-notebook"
    },
    "polyglot_notebook": {
     "kernelName": "csharp"
    }
   },
   "outputs": [
    {
     "data": {
      "text/html": [
       "<div><div></div><div></div><div><strong>Installed Packages</strong><ul><li><span>microsoft.agents.ai, 1.0.0-preview.251001.2</span></li></ul></div></div>"
      ]
     },
     "metadata": {},
     "output_type": "display_data"
    }
   ],
   "source": [
    "#r \"nuget: Microsoft.Agents.AI, 1.0.0-preview.251001.3\""
   ]
  },
  {
   "cell_type": "code",
   "execution_count": 6,
   "id": "7de4684a",
   "metadata": {
    "language_info": {
     "name": "polyglot-notebook"
    },
    "polyglot_notebook": {
     "kernelName": "csharp"
    }
   },
   "outputs": [
    {
     "data": {
      "text/html": [
       "<div><div></div><div></div><div><strong>Installed Packages</strong><ul><li><span>DotNetEnv, 3.1.1</span></li></ul></div></div>"
      ]
     },
     "metadata": {},
     "output_type": "display_data"
    }
   ],
   "source": [
    "#r \"nuget: DotNetEnv, 3.1.1\""
   ]
  },
  {
   "cell_type": "code",
   "execution_count": 7,
   "id": "251efd31",
   "metadata": {
    "language_info": {
     "name": "polyglot-notebook"
    },
    "polyglot_notebook": {
     "kernelName": "csharp"
    }
   },
   "outputs": [],
   "source": [
    "using System;\n",
    "using System.Linq;\n",
    "using Azure.AI.Agents.Persistent;\n",
    "using Azure.Identity;\n",
    "using Microsoft.Agents.AI;"
   ]
  },
  {
   "cell_type": "code",
   "execution_count": 8,
   "id": "a2e342f1",
   "metadata": {
    "language_info": {
     "name": "polyglot-notebook"
    },
    "polyglot_notebook": {
     "kernelName": "csharp"
    }
   },
   "outputs": [],
   "source": [
    " using DotNetEnv;"
   ]
  },
  {
   "cell_type": "code",
   "execution_count": 9,
   "id": "a7a01653",
   "metadata": {
    "language_info": {
     "name": "polyglot-notebook"
    },
    "polyglot_notebook": {
     "kernelName": "csharp"
    }
   },
   "outputs": [],
   "source": [
    "Env.Load(\"../../../.env\");"
   ]
  },
  {
   "cell_type": "code",
   "execution_count": 10,
   "id": "a42735d5",
   "metadata": {
    "language_info": {
     "name": "polyglot-notebook"
    },
    "polyglot_notebook": {
     "kernelName": "csharp"
    }
   },
   "outputs": [],
   "source": [
    "var azure_foundry_endpoint = Environment.GetEnvironmentVariable(\"AZURE_AI_PROJECT_ENDPOINT\") ?? throw new InvalidOperationException(\"AZURE_AI_PROJECT_ENDPOINT is not set.\");\n",
    "var azure_foundry_model_id = Environment.GetEnvironmentVariable(\"AZURE_AI_MODEL_DEPLOYMENT_NAME\") ?? \"gpt-4.1-mini\";"
   ]
  },
  {
   "cell_type": "code",
   "execution_count": 11,
   "id": "e29bdb58",
   "metadata": {
    "language_info": {
     "name": "polyglot-notebook"
    },
    "polyglot_notebook": {
     "kernelName": "csharp"
    }
   },
   "outputs": [],
   "source": [
    "string pdfPath = \"./document.md\";"
   ]
  },
  {
   "cell_type": "code",
   "execution_count": 12,
   "id": "7351e12d",
   "metadata": {
    "language_info": {
     "name": "polyglot-notebook"
    },
    "polyglot_notebook": {
     "kernelName": "csharp"
    }
   },
   "outputs": [],
   "source": [
    "using System.IO;\n",
    "\n",
    "async Task<Stream> OpenImageStreamAsync(string path)\n",
    "{\n",
    "\treturn await Task.Run(() => File.OpenRead(path));\n",
    "}\n",
    "\n",
    "var pdfStream = await OpenImageStreamAsync(pdfPath);"
   ]
  },
  {
   "cell_type": "code",
   "execution_count": 13,
   "id": "0b6bf484",
   "metadata": {
    "language_info": {
     "name": "polyglot-notebook"
    },
    "polyglot_notebook": {
     "kernelName": "csharp"
    }
   },
   "outputs": [],
   "source": [
    "var persistentAgentsClient = new PersistentAgentsClient(azure_foundry_endpoint, new AzureCliCredential());"
   ]
  },
  {
   "cell_type": "code",
   "execution_count": 14,
   "id": "81e0dddc",
   "metadata": {
    "language_info": {
     "name": "polyglot-notebook"
    },
    "polyglot_notebook": {
     "kernelName": "csharp"
    }
   },
   "outputs": [],
   "source": [
    "PersistentAgentFileInfo fileInfo = await persistentAgentsClient.Files.UploadFileAsync(pdfStream, PersistentAgentFilePurpose.Agents, \"demo.md\");"
   ]
  },
  {
   "cell_type": "code",
   "execution_count": 15,
   "id": "f0c75d80",
   "metadata": {
    "language_info": {
     "name": "polyglot-notebook"
    },
    "polyglot_notebook": {
     "kernelName": "csharp"
    }
   },
   "outputs": [],
   "source": [
    "PersistentAgentsVectorStore fileStore =\n",
    "            await persistentAgentsClient.VectorStores.CreateVectorStoreAsync(\n",
    "                [fileInfo.Id],\n",
    "                metadata: new Dictionary<string, string>() { { \"agentkey\", bool.TrueString } });"
   ]
  },
  {
   "cell_type": "code",
   "execution_count": 16,
   "id": "c77986c5",
   "metadata": {
    "language_info": {
     "name": "polyglot-notebook"
    },
    "polyglot_notebook": {
     "kernelName": "csharp"
    }
   },
   "outputs": [],
   "source": [
    "PersistentAgent agentModel = await persistentAgentsClient.Administration.CreateAgentAsync(\n",
    "            azure_foundry_model_id,\n",
    "            name: \"DotNetRAGAgent\",\n",
    "            tools: [new FileSearchToolDefinition()],\n",
    "            instructions: \"\"\"\n",
    "                You are an AI assistant designed to answer user questions using only the information retrieved from the provided document(s).\n",
    "\n",
    "                - If a user's question cannot be answered using the retrieved context, **you must clearly respond**: \n",
    "                \"I'm sorry, but the uploaded document does not contain the necessary information to answer that question.\"\n",
    "                - Do not answer from general knowledge or reasoning. Do not make assumptions or generate hypothetical explanations.\n",
    "                - Do not provide definitions, tutorials, or commentary that is not explicitly grounded in the content of the uploaded file(s).\n",
    "                - If a user asks a question like \"What is a Neural Network?\", and this is not discussed in the uploaded document, respond as instructed above.\n",
    "                - For questions that do have relevant content in the document (e.g., Contoso's travel insurance coverage), respond accurately, and cite the document explicitly.\n",
    "\n",
    "                You must behave as if you have no external knowledge beyond what is retrieved from the uploaded document.\n",
    "                \"\"\",\n",
    "            toolResources: new()\n",
    "            {\n",
    "                FileSearch = new()\n",
    "                {\n",
    "                    VectorStoreIds = { fileStore.Id },\n",
    "                }\n",
    "            },\n",
    "            metadata: new Dictionary<string, string>() { { \"agentkey\", bool.TrueString } });"
   ]
  },
  {
   "cell_type": "code",
   "execution_count": 17,
   "id": "282326cf",
   "metadata": {
    "language_info": {
     "name": "polyglot-notebook"
    },
    "polyglot_notebook": {
     "kernelName": "csharp"
    }
   },
   "outputs": [],
   "source": [
    "AIAgent agent = await persistentAgentsClient.GetAIAgentAsync(agentModel.Id);"
   ]
  },
  {
   "cell_type": "code",
   "execution_count": 18,
   "id": "2067d313",
   "metadata": {
    "language_info": {
     "name": "polyglot-notebook"
    },
    "polyglot_notebook": {
     "kernelName": "csharp"
    }
   },
   "outputs": [],
   "source": [
    "AgentThread thread = agent.GetNewThread();"
   ]
  },
  {
   "cell_type": "code",
   "execution_count": 19,
   "id": "454c4230",
   "metadata": {
    "language_info": {
     "name": "polyglot-notebook"
    },
    "polyglot_notebook": {
     "kernelName": "csharp"
    }
   },
   "outputs": [
    {
     "name": "stdout",
     "output_type": "stream",
     "text": [
      "Contoso's travel insurance coverage includes protection for medical emergencies, trip cancellations, and lost baggage. This ensures that travelers are supported in case of health-related issues during their trip, unforeseen cancellations, and the loss of their belongings while traveling【4:0†demo.md】.\r\n"
     ]
    }
   ],
   "source": [
    "Console.WriteLine(await agent.RunAsync(\"Can you explain Contoso's travel insurance coverage?\", thread));"
   ]
  },
  {
   "cell_type": "markdown",
   "metadata": {},
   "source": [
    "\n---\n\n**Avertissement** :  \nCe document a été traduit à l'aide du service de traduction automatique [Co-op Translator](https://github.com/Azure/co-op-translator). Bien que nous nous efforcions d'assurer l'exactitude, veuillez noter que les traductions automatisées peuvent contenir des erreurs ou des inexactitudes. Le document original dans sa langue d'origine doit être considéré comme la source faisant autorité. Pour des informations critiques, il est recommandé de recourir à une traduction humaine professionnelle. Nous déclinons toute responsabilité en cas de malentendus ou d'interprétations erronées résultant de l'utilisation de cette traduction.\n"
   ]
  }
 ],
 "metadata": {
  "kernelspec": {
   "display_name": ".NET (C#)",
   "language": "C#",
   "name": ".net-csharp"
  },
  "language_info": {
   "name": "polyglot-notebook"
  },
  "polyglot_notebook": {
   "kernelInfo": {
    "defaultKernelName": "csharp",
    "items": [
     {
      "aliases": [],
      "name": "csharp"
     }
    ]
   }
  },
  "coopTranslator": {
   "original_hash": "e4584fa31638009dc6fb665275de8fc2",
   "translation_date": "2025-10-01T21:47:19+00:00",
   "source_file": "05-agentic-rag/code_samples/05-dotnet-agent-framework.ipynb",
   "language_code": "fr"
  }
 },
 "nbformat": 4,
 "nbformat_minor": 5
}