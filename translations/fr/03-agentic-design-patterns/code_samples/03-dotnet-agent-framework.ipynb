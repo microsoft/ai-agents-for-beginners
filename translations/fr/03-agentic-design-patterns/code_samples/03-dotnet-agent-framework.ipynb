{
 "cells": [
  {
   "cell_type": "markdown",
   "id": "d6058fa4",
   "metadata": {},
   "source": [
    "# 🎨 Modèles de conception agentique avec GitHub Models (.NET)\n",
    "\n",
    "## 📋 Objectifs d'apprentissage\n",
    "\n",
    "Ce notebook présente des modèles de conception de niveau entreprise pour créer des agents intelligents en utilisant le Microsoft Agent Framework en .NET avec l'intégration de GitHub Models. Vous apprendrez des modèles professionnels et des approches architecturales qui rendent les agents prêts pour la production, faciles à maintenir et évolutifs.\n",
    "\n",
    "**Modèles de conception d'entreprise :**\n",
    "- 🏭 **Modèle Factory** : Création standardisée d'agents avec injection de dépendances\n",
    "- 🔧 **Modèle Builder** : Configuration et mise en place fluide des agents\n",
    "- 🧵 **Modèles thread-safe** : Gestion concurrente des conversations\n",
    "- 📋 **Modèle Repository** : Gestion organisée des outils et des capacités\n",
    "\n",
    "## 🎯 Avantages architecturaux spécifiques à .NET\n",
    "\n",
    "### Fonctionnalités d'entreprise\n",
    "- **Typage fort** : Validation à la compilation et support IntelliSense\n",
    "- **Injection de dépendances** : Intégration native du conteneur DI\n",
    "- **Gestion de la configuration** : Modèles IConfiguration et Options\n",
    "- **Async/Await** : Support de premier ordre pour la programmation asynchrone\n",
    "\n",
    "### Modèles prêts pour la production\n",
    "- **Intégration de la journalisation** : Support ILogger et journalisation structurée\n",
    "- **Vérifications de santé** : Surveillance et diagnostics intégrés\n",
    "- **Validation de la configuration** : Typage fort avec annotations de données\n",
    "- **Gestion des erreurs** : Gestion structurée des exceptions\n",
    "\n",
    "## 🔧 Architecture technique\n",
    "\n",
    "### Composants principaux de .NET\n",
    "- **Microsoft.Extensions.AI** : Abstractions de services IA unifiées\n",
    "- **Microsoft.Agents.AI** : Framework d'orchestration d'agents d'entreprise\n",
    "- **Intégration GitHub Models** : Modèles de client API haute performance\n",
    "- **Système de configuration** : Intégration appsettings.json et environnement\n",
    "\n",
    "### Implémentation des modèles de conception\n",
    "```csharp\n",
    "IServiceCollection → Agent Builder → Configuration → Tool Registry → AI Agent\n",
    "```\n",
    "\n",
    "## 🏗️ Modèles d'entreprise démontrés\n",
    "\n",
    "### 1. **Modèles de création**\n",
    "- **Agent Factory** : Création centralisée d'agents avec configuration cohérente\n",
    "- **Modèle Builder** : API fluide pour une configuration complexe des agents\n",
    "- **Modèle Singleton** : Gestion des ressources partagées et de la configuration\n",
    "- **Injection de dépendances** : Couplage lâche et testabilité\n",
    "\n",
    "### 2. **Modèles comportementaux**\n",
    "- **Modèle Strategy** : Stratégies d'exécution d'outils interchangeables\n",
    "- **Modèle Command** : Opérations d'agents encapsulées avec annulation/rétablissement\n",
    "- **Modèle Observer** : Gestion du cycle de vie des agents basée sur les événements\n",
    "- **Modèle Template Method** : Flux de travail standardisés pour l'exécution des agents\n",
    "\n",
    "### 3. **Modèles structurels**\n",
    "- **Modèle Adapter** : Couche d'intégration API GitHub Models\n",
    "- **Modèle Decorator** : Amélioration des capacités des agents\n",
    "- **Modèle Facade** : Interfaces simplifiées pour l'interaction avec les agents\n",
    "- **Modèle Proxy** : Chargement paresseux et mise en cache pour la performance\n",
    "\n",
    "## ⚙️ Prérequis et configuration\n",
    "\n",
    "**Environnement de développement :**\n",
    "- SDK .NET 9.0 ou supérieur\n",
    "- Visual Studio 2022 ou VS Code avec extension C#\n",
    "- Accès à l'API GitHub Models\n",
    "\n",
    "**Dépendances NuGet :**\n",
    "```xml\n",
    "<PackageReference Include=\"Microsoft.Extensions.AI\" Version=\"9.9.0\" />\n",
    "<PackageReference Include=\"Microsoft.Extensions.AI.OpenAI\" Version=\"9.9.0-preview.1.25458.4\" />\n",
    "<PackageReference Include=\"DotNetEnv\" Version=\"3.1.1\" />\n",
    "```\n",
    "\n",
    "**Configuration (fichier .env) :**\n",
    "```env\n",
    "GITHUB_TOKEN=your_github_personal_access_token\n",
    "GITHUB_ENDPOINT=https://models.inference.ai.azure.com\n",
    "GITHUB_MODEL_ID=gpt-4o-mini\n",
    "```\n",
    "\n",
    "## 📚 Principes de conception .NET\n",
    "\n",
    "### Principes SOLID\n",
    "- **Responsabilité unique** : Chaque composant a un objectif clair\n",
    "- **Ouvert/Fermé** : Extensible sans modification\n",
    "- **Substitution de Liskov** : Implémentations d'outils basées sur des interfaces\n",
    "- **Segregation des interfaces** : Interfaces ciblées et cohérentes\n",
    "- **Inversion des dépendances** : Dépendre des abstractions, pas des concrétions\n",
    "\n",
    "### Architecture propre\n",
    "- **Couche Domaine** : Abstractions principales des agents et outils\n",
    "- **Couche Application** : Orchestration des agents et flux de travail\n",
    "- **Couche Infrastructure** : Intégration GitHub Models et services externes\n",
    "- **Couche Présentation** : Interaction utilisateur et formatage des réponses\n",
    "\n",
    "## 🔒 Considérations d'entreprise\n",
    "\n",
    "### Sécurité\n",
    "- **Gestion des identifiants** : Gestion sécurisée des clés API avec IConfiguration\n",
    "- **Validation des entrées** : Typage fort et validation par annotations de données\n",
    "- **Sanitisation des sorties** : Traitement et filtrage sécurisés des réponses\n",
    "- **Journalisation des audits** : Suivi complet des opérations\n",
    "\n",
    "### Performance\n",
    "- **Modèles asynchrones** : Opérations d'E/S non bloquantes\n",
    "- **Pooling de connexions** : Gestion efficace des clients HTTP\n",
    "- **Mise en cache** : Mise en cache des réponses pour améliorer la performance\n",
    "- **Gestion des ressources** : Modèles de nettoyage et de disposition appropriés\n",
    "\n",
    "### Scalabilité\n",
    "- **Sécurité des threads** : Support de l'exécution concurrente des agents\n",
    "- **Pooling des ressources** : Utilisation efficace des ressources\n",
    "- **Gestion de la charge** : Limitation de débit et gestion de la pression\n",
    "- **Surveillance** : Métriques de performance et vérifications de santé\n",
    "\n",
    "## 🚀 Déploiement en production\n",
    "\n",
    "- **Gestion de la configuration** : Paramètres spécifiques à l'environnement\n",
    "- **Stratégie de journalisation** : Journalisation structurée avec ID de corrélation\n",
    "- **Gestion des erreurs** : Gestion globale des exceptions avec récupération appropriée\n",
    "- **Surveillance** : Insights applicatifs et compteurs de performance\n",
    "- **Tests** : Tests unitaires, tests d'intégration et modèles de tests de charge\n",
    "\n",
    "Prêt à créer des agents intelligents de niveau entreprise avec .NET ? Architecturons quelque chose de robuste ! 🏢✨\n"
   ]
  },
  {
   "cell_type": "code",
   "execution_count": 1,
   "id": "2770ac5c",
   "metadata": {
    "language_info": {
     "name": "polyglot-notebook"
    },
    "polyglot_notebook": {
     "kernelName": "csharp"
    }
   },
   "outputs": [
    {
     "data": {
      "text/html": [
       "<div><div></div><div></div><div><strong>Installed Packages</strong><ul><li><span>Microsoft.Extensions.AI, 9.9.1</span></li></ul></div></div>"
      ]
     },
     "metadata": {},
     "output_type": "display_data"
    }
   ],
   "source": [
    "#r \"nuget: Microsoft.Extensions.AI, 9.9.1\""
   ]
  },
  {
   "cell_type": "code",
   "execution_count": null,
   "id": "984ff6cd",
   "metadata": {
    "language_info": {
     "name": "polyglot-notebook"
    },
    "polyglot_notebook": {
     "kernelName": "csharp"
    }
   },
   "outputs": [
    {
     "data": {
      "text/html": [
       "<div><div></div><div></div><div><strong>Installed Packages</strong><ul><li><span>Microsoft.Agents.AI.OpenAI, 1.0.0-preview.251001.2</span></li></ul></div></div>"
      ]
     },
     "metadata": {},
     "output_type": "display_data"
    }
   ],
   "source": [
    "#r \"nuget: Microsoft.Agents.AI.OpenAI, 1.0.0-preview.251001.3\""
   ]
  },
  {
   "cell_type": "code",
   "execution_count": null,
   "id": "0ab71360",
   "metadata": {
    "language_info": {
     "name": "polyglot-notebook"
    },
    "polyglot_notebook": {
     "kernelName": "csharp"
    }
   },
   "outputs": [
    {
     "data": {
      "text/html": [
       "<div><div></div><div></div><div><strong>Installed Packages</strong><ul><li><span>microsoft.agents.ai, 1.0.0-preview.251001.2</span></li></ul></div></div>"
      ]
     },
     "metadata": {},
     "output_type": "display_data"
    }
   ],
   "source": [
    "\n",
    "\n",
    "#r \"nuget: Microsoft.Agents.AI, 1.0.0-preview.251001.3\""
   ]
  },
  {
   "cell_type": "code",
   "execution_count": 4,
   "id": "4ab7b15d",
   "metadata": {
    "language_info": {
     "name": "polyglot-notebook"
    },
    "polyglot_notebook": {
     "kernelName": "csharp"
    }
   },
   "outputs": [],
   "source": [
    "// #r \"nuget: Microsoft.Extensions.AI.OpenAI, 9.9.0-preview.1.25458.4\""
   ]
  },
  {
   "cell_type": "code",
   "execution_count": 5,
   "id": "3fa8aa21",
   "metadata": {
    "language_info": {
     "name": "polyglot-notebook"
    },
    "polyglot_notebook": {
     "kernelName": "csharp"
    }
   },
   "outputs": [
    {
     "data": {
      "text/html": [
       "<div><div></div><div></div><div><strong>Installed Packages</strong><ul><li><span>DotNetEnv, 3.1.1</span></li></ul></div></div>"
      ]
     },
     "metadata": {},
     "output_type": "display_data"
    }
   ],
   "source": [
    "#r \"nuget: DotNetEnv, 3.1.1\""
   ]
  },
  {
   "cell_type": "code",
   "execution_count": 6,
   "id": "fc8ee8ea",
   "metadata": {
    "language_info": {
     "name": "polyglot-notebook"
    },
    "polyglot_notebook": {
     "kernelName": "csharp"
    }
   },
   "outputs": [],
   "source": [
    "using System;\n",
    "using System.ComponentModel;\n",
    "using System.ClientModel;\n",
    "\n",
    "using Microsoft.Extensions.AI;\n",
    "using Microsoft.Agents.AI;\n",
    "using OpenAI;"
   ]
  },
  {
   "cell_type": "code",
   "execution_count": 7,
   "id": "699b1c83",
   "metadata": {
    "language_info": {
     "name": "polyglot-notebook"
    },
    "polyglot_notebook": {
     "kernelName": "csharp"
    }
   },
   "outputs": [],
   "source": [
    " using DotNetEnv;"
   ]
  },
  {
   "cell_type": "code",
   "execution_count": 8,
   "id": "daa649a0",
   "metadata": {
    "language_info": {
     "name": "polyglot-notebook"
    },
    "polyglot_notebook": {
     "kernelName": "csharp"
    }
   },
   "outputs": [],
   "source": [
    "Env.Load(\"../../../.env\");"
   ]
  },
  {
   "cell_type": "code",
   "execution_count": 9,
   "id": "29661a90",
   "metadata": {
    "language_info": {
     "name": "polyglot-notebook"
    },
    "polyglot_notebook": {
     "kernelName": "csharp"
    }
   },
   "outputs": [],
   "source": [
    "[Description(\"Provides a random vacation destination.\")]\n",
    "static string GetRandomDestination()\n",
    "{\n",
    "    var destinations = new List<string>\n",
    "    {\n",
    "        \"Paris, France\",\n",
    "        \"Tokyo, Japan\",\n",
    "        \"New York City, USA\",\n",
    "        \"Sydney, Australia\",\n",
    "        \"Rome, Italy\",\n",
    "        \"Barcelona, Spain\",\n",
    "        \"Cape Town, South Africa\",\n",
    "        \"Rio de Janeiro, Brazil\",\n",
    "        \"Bangkok, Thailand\",\n",
    "        \"Vancouver, Canada\"\n",
    "    };\n",
    "\n",
    "    var random = new Random();\n",
    "    int index = random.Next(destinations.Count);\n",
    "    return destinations[index];\n",
    "}"
   ]
  },
  {
   "cell_type": "code",
   "execution_count": 10,
   "id": "d2ed1f8b",
   "metadata": {
    "language_info": {
     "name": "polyglot-notebook"
    },
    "polyglot_notebook": {
     "kernelName": "csharp"
    }
   },
   "outputs": [],
   "source": [
    "var github_endpoint = Environment.GetEnvironmentVariable(\"GITHUB_ENDPOINT\") ?? throw new InvalidOperationException(\"GITHUB_ENDPOINT is not set.\");\n",
    "var github_model_id = Environment.GetEnvironmentVariable(\"GITHUB_MODEL_ID\") ?? \"gpt-4o-mini\";\n",
    "var github_token = Environment.GetEnvironmentVariable(\"GITHUB_TOKEN\") ?? throw new InvalidOperationException(\"GITHUB_TOKEN is not set.\");"
   ]
  },
  {
   "cell_type": "code",
   "execution_count": 11,
   "id": "c36c73e1",
   "metadata": {
    "language_info": {
     "name": "polyglot-notebook"
    },
    "polyglot_notebook": {
     "kernelName": "csharp"
    }
   },
   "outputs": [],
   "source": [
    "var openAIOptions = new OpenAIClientOptions()\n",
    "{\n",
    "    Endpoint= new Uri(github_endpoint)\n",
    "};"
   ]
  },
  {
   "cell_type": "code",
   "execution_count": 12,
   "id": "6d94ff10",
   "metadata": {
    "language_info": {
     "name": "polyglot-notebook"
    },
    "polyglot_notebook": {
     "kernelName": "csharp"
    }
   },
   "outputs": [],
   "source": [
    "\n",
    "var openAIClient = new OpenAIClient(new ApiKeyCredential(github_token), openAIOptions);"
   ]
  },
  {
   "cell_type": "code",
   "execution_count": 13,
   "id": "fe32b57a",
   "metadata": {
    "language_info": {
     "name": "polyglot-notebook"
    },
    "polyglot_notebook": {
     "kernelName": "csharp"
    }
   },
   "outputs": [],
   "source": [
    "AIAgent agent = new OpenAIClient(new ApiKeyCredential(github_token), openAIOptions).GetChatClient(github_model_id).CreateAIAgent(\n",
    "    instructions:\"You are a helpful AI Agent that can help plan vacations for customers at random destinations\", tools: [AIFunctionFactory.Create((Func<string>)GetRandomDestination)]);"
   ]
  },
  {
   "cell_type": "code",
   "execution_count": 14,
   "metadata": {
    "language_info": {
     "name": "polyglot-notebook"
    },
    "polyglot_notebook": {
     "kernelName": "csharp"
    }
   },
   "outputs": [],
   "source": [
    "AgentThread thread = agent.GetNewThread();"
   ]
  },
  {
   "cell_type": "code",
   "execution_count": 15,
   "id": "5e455aff",
   "metadata": {
    "language_info": {
     "name": "polyglot-notebook"
    },
    "polyglot_notebook": {
     "kernelName": "csharp"
    }
   },
   "outputs": [
    {
     "name": "stdout",
     "output_type": "stream",
     "text": [
      "How about a day trip to Vancouver, Canada? Here's a suggested itinerary for your day:\n",
      "\n",
      "### Morning\n",
      "- **Breakfast at a Local Cafe**: Start your day with a delicious breakfast at a cozy café like **Jam Cafe** or **Cafe Medina**.\n",
      "- **Stanley Park**: After breakfast, head to Stanley Park. You can rent a bike and ride along the seawall, enjoying beautiful views of the city and the water.\n",
      "\n",
      "### Afternoon\n",
      "- **Lunch in Gastown**: Make your way to Gastown for lunch. Try a local favorite like **The Flying Pig** or **Noodle Box**.\n",
      "- **Explore Gastown**: After lunch, walk around Gastown to see the iconic Steam Clock and browse the unique shops and boutiques.\n",
      "\n",
      "### Late Afternoon\n",
      "- **Granville Island**: Visit Granville Island, where you can stroll through the public market, sample local foods, and enjoy artisan shops.\n",
      "- **False Creek**: Take a walk along False Creek and enjoy the waterfront views.\n",
      "\n",
      "### Evening\n",
      "- **Dinner at a Waterfront Restaurant**: End your day with dinner at a waterfront restaurant like **The Boathouse** or **Lift Bar Grill View** for great food and a view of the sunset.\n",
      "- **Optional: Sunset Cruise**: If you're up for it, consider taking a sunset cruise for a different perspective of the city.\n",
      "\n",
      "### Tips\n",
      "- Make sure to check the weather beforehand!\n",
      "- Consider public transport or ride-sharing to navigate the city easily.\n",
      "\n",
      "Enjoy your day trip to Vancouver!\r\n"
     ]
    }
   ],
   "source": [
    "Console.WriteLine(await agent.RunAsync(\"Plan me a day trip\",thread));"
   ]
  },
  {
   "cell_type": "code",
   "execution_count": 16,
   "id": "592ae1bb",
   "metadata": {
    "language_info": {
     "name": "polyglot-notebook"
    },
    "polyglot_notebook": {
     "kernelName": "csharp"
    }
   },
   "outputs": [
    {
     "name": "stdout",
     "output_type": "stream",
     "text": [
      "How about a vacation to New York City, USA? Here's a suggested itinerary for your trip:\n",
      "\n",
      "### Day 1: Arrival in New York City\n",
      "- **Check-In**: Arrive and check in to your hotel.\n",
      "- **Central Park**: Take a leisurely stroll through Central Park. Consider renting a bike or taking a carriage ride.\n",
      "- **Evening**: Enjoy dinner at a classic NYC restaurant, such as **Katz's Delicatessen** or **Carbone**.\n",
      "\n",
      "### Day 2: Iconic Landmarks\n",
      "- **Morning**: Breakfast at a local diner.\n",
      "- **Statue of Liberty & Ellis Island**: Take a ferry to visit these iconic landmarks.\n",
      "- **Afternoon**: Explore Wall Street and visit the 9/11 Memorial & Museum.\n",
      "- **Evening**: Dinner in the Financial District followed by a walk across the Brooklyn Bridge at sunset.\n",
      "\n",
      "### Day 3: Culture and Arts\n",
      "- **Morning**: Visit The Metropolitan Museum of Art (The Met) and spend a few hours exploring its vast collection.\n",
      "- **Afternoon**: Head to Times Square for lunch and the buzz of the city.\n",
      "- **Broadway Show**: Catch a Broadway show in the evening. Be sure to book tickets in advance!\n",
      "\n",
      "### Day 4: Explore Neighborhoods\n",
      "- **Morning**: Head to SoHo for brunch and shopping in its chic boutiques.\n",
      "- **Afternoon**: Explore Greenwich Village, known for its bohemian atmosphere and history.\n",
      "- **Evening**: Enjoy dinner in the West Village, perhaps at **Buvette** or **Minetta Tavern**.\n",
      "\n",
      "### Day 5: Departure\n",
      "- **Last-minute Shopping**: Spend your last morning shopping at Fifth Avenue or head to Chelsea Market for food and souvenirs.\n",
      "- **Check-Out**: Depart for your journey home.\n",
      "\n",
      "### Tips\n",
      "- Utilize the subway for efficient travel around the city.\n",
      "- Make reservations for popular restaurants and attractions ahead of time!\n",
      "\n",
      "Enjoy your trip to New York City!\r\n"
     ]
    }
   ],
   "source": [
    "Console.WriteLine(await agent.RunAsync(\"I don't like that destination. Plan me another vacation.\",thread));"
   ]
  },
  {
   "cell_type": "markdown",
   "metadata": {},
   "source": [
    "\n---\n\n**Avertissement** :  \nCe document a été traduit à l'aide du service de traduction automatique [Co-op Translator](https://github.com/Azure/co-op-translator). Bien que nous nous efforcions d'assurer l'exactitude, veuillez noter que les traductions automatisées peuvent contenir des erreurs ou des inexactitudes. Le document original dans sa langue d'origine doit être considéré comme la source faisant autorité. Pour des informations critiques, il est recommandé de recourir à une traduction humaine professionnelle. Nous déclinons toute responsabilité en cas de malentendus ou d'interprétations erronées résultant de l'utilisation de cette traduction.\n"
   ]
  }
 ],
 "metadata": {
  "kernelspec": {
   "display_name": ".NET (C#)",
   "language": "C#",
   "name": ".net-csharp"
  },
  "language_info": {
   "name": "polyglot-notebook"
  },
  "polyglot_notebook": {
   "kernelInfo": {
    "defaultKernelName": "csharp",
    "items": [
     {
      "aliases": [],
      "name": "csharp"
     }
    ]
   }
  },
  "coopTranslator": {
   "original_hash": "070c1d8985b3dc6e6d977f3e891037f1",
   "translation_date": "2025-10-01T22:14:18+00:00",
   "source_file": "03-agentic-design-patterns/code_samples/03-dotnet-agent-framework.ipynb",
   "language_code": "fr"
  }
 },
 "nbformat": 4,
 "nbformat_minor": 5
}