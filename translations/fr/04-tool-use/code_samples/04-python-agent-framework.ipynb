{
 "cells": [
  {
   "cell_type": "markdown",
   "id": "8744544f",
   "metadata": {},
   "source": [
    "# 🛠️ Utilisation avancée des outils avec les modèles GitHub (Python)\n",
    "\n",
    "## 📋 Objectifs d'apprentissage\n",
    "\n",
    "Ce notebook illustre des modèles avancés d'intégration d'outils en utilisant le Microsoft Agent Framework avec les modèles GitHub. Vous apprendrez à créer, gérer et orchestrer plusieurs outils pour développer des capacités sophistiquées pour les agents.\n",
    "\n",
    "**Ce que vous maîtriserez :**\n",
    "- 🔧 **Architecture multi-outils** : Construire des agents avec plusieurs outils spécialisés\n",
    "- 🎯 **Logique de sélection des outils** : Comment les agents choisissent le bon outil pour chaque tâche\n",
    "- 📊 **Outils de traitement des données** : Créer des outils qui gèrent différents types de données\n",
    "- 🔗 **Composition des outils** : Combiner des outils pour des workflows complexes\n",
    "\n",
    "## 🎯 Modèles clés d'outils\n",
    "\n",
    "### Principes de conception des outils\n",
    "- **Responsabilité unique** : Chaque outil a un objectif clair et précis\n",
    "- **Sécurité des types** : Typage strict pour une exécution fiable des outils\n",
    "- **Gestion des erreurs** : Modèles de défaillance et de récupération élégants\n",
    "- **Composabilité** : Outils qui fonctionnent bien ensemble\n",
    "\n",
    "### Fonctionnalités avancées des outils\n",
    "- **Conscience du contexte** : Outils qui comprennent le contexte de la conversation\n",
    "- **Validation des données** : Assainissement des entrées et validation des sorties\n",
    "- **Optimisation des performances** : Modèles d'exécution efficaces des outils\n",
    "- **Extensibilité** : Ajout facile de nouvelles capacités aux outils\n",
    "\n",
    "## 🔧 Architecture technique\n",
    "\n",
    "### Composants principaux\n",
    "- **Microsoft Agent Framework** : Implémentation Python avec support avancé des outils\n",
    "- **Intégration des modèles GitHub** : Accès à des modèles linguistiques haute performance\n",
    "- **Système de registre des outils** : Gestion organisée des capacités des agents\n",
    "- **Modèles de récupération des erreurs** : Gestion robuste des échecs d'exécution des outils\n",
    "\n",
    "### Flux d'intégration des outils\n",
    "```python\n",
    "User Request → Agent Analysis → Tool Selection → Tool Execution → Response Synthesis\n",
    "```\n",
    "\n",
    "## 🛠️ Catégories d'outils démontrées\n",
    "\n",
    "### 1. **Outils de génération de données**\n",
    "- Générateur aléatoire de destinations\n",
    "- Fournisseur d'informations météorologiques  \n",
    "- Calculateur de coûts de voyage\n",
    "- Moteur de recommandation d'activités\n",
    "\n",
    "### 2. **Outils de traitement**\n",
    "- Formatage et validation de texte\n",
    "- Utilitaires de transformation de données\n",
    "- Fonctions d'analyse de contenu\n",
    "- Outils d'amélioration des réponses\n",
    "\n",
    "### 3. **Outils d'intégration**\n",
    "- Connecteurs d'API externes\n",
    "- Opérations sur le système de fichiers\n",
    "- Interfaces de requêtes de base de données\n",
    "- Utilitaires de scraping web\n",
    "\n",
    "## ⚙️ Prérequis et configuration\n",
    "\n",
    "\n",
    "**Dépendances requises :**\n",
    "```bash\n",
    "\n",
    "pip install agent-framework-core -U\n",
    "```\n",
    "\n",
    "**Configuration de l'environnement (fichier .env) :**\n",
    "```env\n",
    "GITHUB_TOKEN=your_github_personal_access_token\n",
    "GITHUB_ENDPOINT=https://models.inference.ai.azure.com\n",
    "GITHUB_MODEL_ID=gpt-4o-mini\n",
    "```\n",
    "\n",
    "**APIs optionnelles :**\n",
    "- Clé API du service météo (pour les outils météorologiques)\n",
    "- Accès à l'API de conversion de devises\n",
    "- Identifiants du service d'informations de voyage\n",
    "\n",
    "## 🎨 Modèles de conception\n",
    "\n",
    "### Modèle de fabrique d'outils\n",
    "- Création et configuration centralisées des outils\n",
    "- Conception d'interface cohérente pour les outils\n",
    "- Enregistrement et découverte faciles des outils\n",
    "\n",
    "### Modèle de commande\n",
    "- Logique d'exécution des outils encapsulée\n",
    "- Fonctionnalité d'annulation/rétablissement pour les opérations complexes\n",
    "- Journalisation des audits pour l'utilisation des outils\n",
    "\n",
    "### Modèle observateur\n",
    "- Surveillance de l'exécution des outils\n",
    "- Collecte de métriques de performance\n",
    "- Signalement des erreurs et alertes\n",
    "\n",
    "## 🚀 Bonnes pratiques\n",
    "\n",
    "- **Documentation des outils** : Descriptions claires pour la compréhension des agents\n",
    "- **Validation des entrées** : Vérification et assainissement robustes des paramètres\n",
    "- **Formatage des sorties** : Réponses des outils cohérentes et analysables\n",
    "- **Messages d'erreur** : Informations utiles pour le débogage\n",
    "- **Performance** : Exécution optimisée des outils pour une réactivité accrue\n",
    "\n",
    "Prêt à construire des agents avec des capacités d'outils puissantes ? Créons quelque chose d'extraordinaire ! ⚡\n"
   ]
  },
  {
   "cell_type": "code",
   "execution_count": null,
   "id": "59c0feeb",
   "metadata": {},
   "outputs": [],
   "source": [
    "! pip install agent-framework-core -U"
   ]
  },
  {
   "cell_type": "code",
   "execution_count": null,
   "id": "c0df8a52",
   "metadata": {},
   "outputs": [],
   "source": [
    "# � Import core dependencies for Agent Framework and tool integration\n",
    "# This sets up the essential libraries for building intelligent agents with tool capabilities\n",
    "\n",
    "import asyncio\n",
    "import os\n",
    "import json\n",
    "\n",
    "from dotenv import load_dotenv  # For loading environment variables securely\n",
    "from random import randint\n",
    "\n",
    "# These are the core components for building tool-enabled agents\n",
    "from agent_framework import ChatAgent           # Main agent class\n",
    "from agent_framework.openai import OpenAIChatClient  # OpenAI-compatible client"
   ]
  },
  {
   "cell_type": "code",
   "execution_count": null,
   "id": "24c10eb0",
   "metadata": {},
   "outputs": [],
   "source": [
    "load_dotenv()"
   ]
  },
  {
   "cell_type": "code",
   "execution_count": null,
   "id": "151e0314",
   "metadata": {},
   "outputs": [],
   "source": [
    "# 🔑 Environment variables verification\n",
    "# Ensure all required GitHub Models credentials are properly configured\n",
    "print(\"GITHUB_ENDPOINT:\", os.environ.get(\"GITHUB_ENDPOINT\"))\n",
    "print(\"GITHUB_TOKEN:\", \"***\" if os.environ.get(\"GITHUB_TOKEN\") else \"Not set\")\n",
    "print(\"GITHUB_MODEL_ID:\", os.environ.get(\"GITHUB_MODEL_ID\"))"
   ]
  },
  {
   "cell_type": "code",
   "execution_count": null,
   "id": "a6141584",
   "metadata": {},
   "outputs": [],
   "source": [
    "# 🧪 Test GitHub Models connectivity\n",
    "openai_chat_client = OpenAIChatClient(base_url=os.environ.get(\"GITHUB_ENDPOINT\"), api_key=os.environ.get(\"GITHUB_TOKEN\"), model_id=os.environ.get(\"GITHUB_MODEL_ID\"))"
   ]
  },
  {
   "cell_type": "code",
   "execution_count": null,
   "id": "a6507f83",
   "metadata": {},
   "outputs": [],
   "source": [
    "# 🛠️ Define travel planning tools for agent integration\n",
    "# These functions provide specific capabilities that the agent can invoke dynamically\n",
    "\n",
    "def get_random_destination() -> str:\n",
    "    \"\"\"\n",
    "    🎲 Random destination generator tool\n",
    "    Returns a randomly selected travel destination from curated list\n",
    "    Useful when customers need inspiration for their next vacation\n",
    "    \"\"\"\n",
    "    destinations = [\n",
    "        \"Paris, France\",\n",
    "        \"Tokyo, Japan\", \n",
    "        \"New York City, USA\",\n",
    "        \"London, England\",\n",
    "        \"Rome, Italy\",\n",
    "        \"Sydney, Australia\",\n",
    "        \"Dubai, UAE\",\n",
    "        \"Barcelona, Spain\",\n",
    "        \"Bangkok, Thailand\",\n",
    "        \"Amsterdam, Netherlands\",\n",
    "        \"Istanbul, Turkey\",\n",
    "        \"Prague, Czech Republic\",\n",
    "        \"Santorini, Greece\",\n",
    "        \"Reykjavik, Iceland\",\n",
    "        \"Marrakech, Morocco\",\n",
    "        \"Cape Town, South Africa\",\n",
    "        \"Rio de Janeiro, Brazil\",\n",
    "        \"Bali, Indonesia\"\n",
    "    ]\n",
    "    # 🎯 Return random selection from the curated destination list\n",
    "    return destinations[randint(0, len(destinations) - 1)]"
   ]
  },
  {
   "cell_type": "code",
   "execution_count": null,
   "id": "5d4f0568",
   "metadata": {},
   "outputs": [],
   "source": [
    "# 🔗 Initialize GitHub Models chat client for agent communication\n",
    "# Creates the primary interface between the agent and the language model\n",
    "openai_chat_client = OpenAIChatClient(base_url=os.environ.get(\"GITHUB_ENDPOINT\"), api_key=os.environ.get(\"GITHUB_TOKEN\"), model_id=os.environ.get(\"GITHUB_MODEL_ID\"))"
   ]
  },
  {
   "cell_type": "code",
   "execution_count": null,
   "id": "751668c5",
   "metadata": {},
   "outputs": [],
   "source": [
    "# 🤖 Configure travel agent identity and behavioral instructions\n",
    "# Define the agent's personality, capabilities, and operational guidelines\n",
    "\n",
    "AGENT_NAME = \"TravelAgent\"\n",
    "\n",
    "AGENT_INSTRUCTIONS = \"\"\"You are a helpful AI Agent that can help plan vacations for customers at random destinations\n",
    "\"\"\""
   ]
  },
  {
   "cell_type": "code",
   "execution_count": null,
   "id": "be18ac4f",
   "metadata": {},
   "outputs": [],
   "source": [
    "agent = ChatAgent(\n",
    "        name = AGENT_NAME,\n",
    "        chat_client=openai_chat_client,\n",
    "        instructions=AGENT_INSTRUCTIONS,\n",
    "        tools=[get_random_destination]\n",
    ")"
   ]
  },
  {
   "cell_type": "code",
   "execution_count": null,
   "id": "772e9481",
   "metadata": {},
   "outputs": [],
   "source": [
    "thread = agent.get_new_thread()"
   ]
  },
  {
   "cell_type": "code",
   "execution_count": null,
   "id": "a731b547",
   "metadata": {},
   "outputs": [],
   "source": [
    "response1 = await agent.run(\"Plan me a day trip\",thread= thread)"
   ]
  },
  {
   "cell_type": "code",
   "execution_count": null,
   "id": "7d3fe00a",
   "metadata": {},
   "outputs": [],
   "source": [
    "\n",
    "last_message = response1.messages[-1]\n",
    "text_content = last_message.contents[0].text\n",
    "print(\"Travel plan:\")\n",
    "print(text_content)"
   ]
  },
  {
   "cell_type": "markdown",
   "metadata": {},
   "source": [
    "\n---\n\n**Avertissement** :  \nCe document a été traduit à l'aide du service de traduction automatique [Co-op Translator](https://github.com/Azure/co-op-translator). Bien que nous nous efforcions d'assurer l'exactitude, veuillez noter que les traductions automatisées peuvent contenir des erreurs ou des inexactitudes. Le document original dans sa langue d'origine doit être considéré comme la source faisant autorité. Pour des informations critiques, il est recommandé de recourir à une traduction humaine professionnelle. Nous déclinons toute responsabilité en cas de malentendus ou d'interprétations erronées résultant de l'utilisation de cette traduction.\n"
   ]
  }
 ],
 "metadata": {
  "kernelspec": {
   "display_name": "agentenv",
   "language": "python",
   "name": "python3"
  },
  "language_info": {
   "codemirror_mode": {
    "name": "ipython",
    "version": 3
   },
   "file_extension": ".py",
   "mimetype": "text/x-python",
   "name": "python",
   "nbconvert_exporter": "python",
   "pygments_lexer": "ipython3",
   "version": "3.12.10"
  },
  "polyglot_notebook": {
   "kernelInfo": {
    "defaultKernelName": "csharp",
    "items": [
     {
      "aliases": [],
      "name": "csharp"
     }
    ]
   }
  },
  "coopTranslator": {
   "original_hash": "42966ddac53cebaf0ac1ce33b2ee7059",
   "translation_date": "2025-10-01T22:07:18+00:00",
   "source_file": "04-tool-use/code_samples/04-python-agent-framework.ipynb",
   "language_code": "fr"
  }
 },
 "nbformat": 4,
 "nbformat_minor": 5
}