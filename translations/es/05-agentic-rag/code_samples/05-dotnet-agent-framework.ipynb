{
 "cells": [
  {
   "cell_type": "markdown",
   "id": "44b5899e",
   "metadata": {},
   "source": [
    "# 🔍 RAG Empresarial con Azure AI Foundry (.NET)\n",
    "\n",
    "## 📋 Objetivos de Aprendizaje\n",
    "\n",
    "Este cuaderno demuestra cómo construir sistemas RAG (Generación Aumentada por Recuperación) de nivel empresarial utilizando el Microsoft Agent Framework en .NET con Azure AI Foundry. Aprenderás a crear agentes listos para producción que puedan buscar en documentos y proporcionar respuestas precisas y contextuales con seguridad y escalabilidad empresarial.\n",
    "\n",
    "**Capacidades Empresariales de RAG que Desarrollarás:**\n",
    "- 📚 **Inteligencia Documental**: Procesamiento avanzado de documentos con servicios de Azure AI\n",
    "- 🔍 **Búsqueda Semántica**: Búsqueda vectorial de alto rendimiento con características empresariales\n",
    "- 🛡️ **Integración de Seguridad**: Acceso basado en roles y patrones de protección de datos\n",
    "- 🏢 **Arquitectura Escalable**: Sistemas RAG listos para producción con monitoreo\n",
    "\n",
    "## 🎯 Arquitectura Empresarial de RAG\n",
    "\n",
    "### Componentes Empresariales Clave\n",
    "- **Azure AI Foundry**: Plataforma de IA empresarial gestionada con seguridad y cumplimiento\n",
    "- **Agentes Persistentes**: Agentes con historial de conversación y gestión de contexto\n",
    "- **Gestión de Almacén Vectorial**: Indexación y recuperación de documentos de nivel empresarial\n",
    "- **Integración de Identidad**: Autenticación con Azure AD y control de acceso basado en roles\n",
    "\n",
    "### Beneficios Empresariales de .NET\n",
    "- **Seguridad de Tipos**: Validación en tiempo de compilación para operaciones RAG y estructuras de datos\n",
    "- **Rendimiento Asíncrono**: Procesamiento de documentos y operaciones de búsqueda sin bloqueo\n",
    "- **Gestión de Memoria**: Uso eficiente de recursos para colecciones de documentos grandes\n",
    "- **Patrones de Integración**: Integración nativa con servicios de Azure mediante inyección de dependencias\n",
    "\n",
    "## 🏗️ Arquitectura Técnica\n",
    "\n",
    "### Pipeline Empresarial de RAG\n",
    "```csharp\n",
    "Document Upload → Security Validation → Vector Processing → Index Creation\n",
    "                      ↓                    ↓                  ↓\n",
    "User Query → Authentication → Semantic Search → Context Ranking → AI Response\n",
    "```\n",
    "\n",
    "### Componentes Clave de .NET\n",
    "- **Azure.AI.Agents.Persistent**: Gestión de agentes empresariales con persistencia de estado\n",
    "- **Azure.Identity**: Autenticación integrada para acceso seguro a servicios de Azure\n",
    "- **Microsoft.Agents.AI.AzureAI**: Implementación del marco de agentes optimizado para Azure\n",
    "- **System.Linq.Async**: Operaciones LINQ asíncronas de alto rendimiento\n",
    "\n",
    "## 🔧 Características y Beneficios Empresariales\n",
    "\n",
    "### Seguridad y Cumplimiento\n",
    "- **Integración con Azure AD**: Gestión de identidad empresarial y autenticación\n",
    "- **Acceso Basado en Roles**: Permisos detallados para acceso y operaciones en documentos\n",
    "- **Protección de Datos**: Cifrado en reposo y en tránsito para documentos sensibles\n",
    "- **Registro de Auditoría**: Seguimiento completo de actividades para requisitos de cumplimiento\n",
    "\n",
    "### Rendimiento y Escalabilidad\n",
    "- **Agrupación de Conexiones**: Gestión eficiente de conexiones a servicios de Azure\n",
    "- **Procesamiento Asíncrono**: Operaciones sin bloqueo para escenarios de alto rendimiento\n",
    "- **Estrategias de Caché**: Caché inteligente para documentos de acceso frecuente\n",
    "- **Balanceo de Carga**: Procesamiento distribuido para implementaciones a gran escala\n",
    "\n",
    "### Gestión y Monitoreo\n",
    "- **Verificaciones de Salud**: Monitoreo integrado para componentes del sistema RAG\n",
    "- **Métricas de Rendimiento**: Análisis detallado sobre calidad de búsqueda y tiempos de respuesta\n",
    "- **Gestión de Errores**: Manejo completo de excepciones con políticas de reintento\n",
    "- **Gestión de Configuración**: Configuraciones específicas del entorno con validación\n",
    "\n",
    "## ⚙️ Prerrequisitos y Configuración\n",
    "\n",
    "**Entorno de Desarrollo:**\n",
    "- SDK de .NET 9.0 o superior\n",
    "- Visual Studio 2022 o VS Code con extensión de C#\n",
    "- Suscripción a Azure con acceso a AI Foundry\n",
    "\n",
    "**Paquetes NuGet Requeridos:**\n",
    "```xml\n",
    "<PackageReference Include=\"Microsoft.Extensions.AI\" Version=\"9.9.0\" />\n",
    "<PackageReference Include=\"Azure.AI.Agents.Persistent\" Version=\"1.2.0-beta.5\" />\n",
    "<PackageReference Include=\"Azure.Identity\" Version=\"1.15.0\" />\n",
    "<PackageReference Include=\"System.Linq.Async\" Version=\"6.0.3\" />\n",
    "<PackageReference Include=\"DotNetEnv\" Version=\"3.1.1\" />\n",
    "```\n",
    "\n",
    "**Configuración de Autenticación en Azure:**\n",
    "```bash\n",
    "# Install Azure CLI and authenticate\n",
    "az login\n",
    "az account set --subscription \"your-subscription-id\"\n",
    "```\n",
    "\n",
    "**Configuración de Entorno (.env file):**\n",
    "```env\n",
    "# Azure AI Foundry configuration (automatically handled via Azure CLI)\n",
    "# Ensure you're authenticated to the correct Azure subscription\n",
    "```\n",
    "\n",
    "## 📊 Patrones Empresariales de RAG\n",
    "\n",
    "### Patrones de Gestión Documental\n",
    "- **Carga Masiva**: Procesamiento eficiente de colecciones grandes de documentos\n",
    "- **Actualizaciones Incrementales**: Adición y modificación de documentos en tiempo real\n",
    "- **Control de Versiones**: Versionado de documentos y seguimiento de cambios\n",
    "- **Gestión de Metadatos**: Atributos ricos y taxonomía para documentos\n",
    "\n",
    "### Patrones de Búsqueda y Recuperación\n",
    "- **Búsqueda Híbrida**: Combinación de búsqueda semántica y por palabras clave para resultados óptimos\n",
    "- **Búsqueda Facetada**: Filtrado y categorización multidimensional\n",
    "- **Ajuste de Relevancia**: Algoritmos de puntuación personalizados para necesidades específicas del dominio\n",
    "- **Clasificación de Resultados**: Clasificación avanzada con integración de lógica empresarial\n",
    "\n",
    "### Patrones de Seguridad\n",
    "- **Seguridad a Nivel de Documento**: Control de acceso detallado por documento\n",
    "- **Clasificación de Datos**: Etiquetado automático de sensibilidad y protección\n",
    "- **Rastros de Auditoría**: Registro completo de todas las operaciones RAG\n",
    "- **Protección de Privacidad**: Detección y redacción de información personal identificable (PII)\n",
    "\n",
    "## 🔒 Características de Seguridad Empresarial\n",
    "\n",
    "### Autenticación y Autorización\n",
    "```csharp\n",
    "// Azure AD integrated authentication\n",
    "var credential = new AzureCliCredential();\n",
    "var agentsClient = new PersistentAgentsClient(endpoint, credential);\n",
    "\n",
    "// Role-based access validation\n",
    "if (!await ValidateUserPermissions(user, documentId))\n",
    "{\n",
    "    throw new UnauthorizedAccessException(\"Insufficient permissions\");\n",
    "}\n",
    "```\n",
    "\n",
    "### Protección de Datos\n",
    "- **Cifrado**: Cifrado de extremo a extremo para documentos e índices de búsqueda\n",
    "- **Controles de Acceso**: Integración con Azure AD para permisos de usuarios y grupos\n",
    "- **Residencia de Datos**: Controles de ubicación geográfica de datos para cumplimiento\n",
    "- **Respaldo y Recuperación**: Capacidades automatizadas de respaldo y recuperación ante desastres\n",
    "\n",
    "## 📈 Optimización de Rendimiento\n",
    "\n",
    "### Patrones de Procesamiento Asíncrono\n",
    "```csharp\n",
    "// Efficient async document processing\n",
    "await foreach (var document in documentStream.AsAsyncEnumerable())\n",
    "{\n",
    "    await ProcessDocumentAsync(document, cancellationToken);\n",
    "}\n",
    "```\n",
    "\n",
    "### Gestión de Memoria\n",
    "- **Procesamiento en Streaming**: Manejo de documentos grandes sin problemas de memoria\n",
    "- **Agrupación de Recursos**: Reutilización eficiente de recursos costosos\n",
    "- **Recolección de Basura**: Patrones optimizados de asignación de memoria\n",
    "- **Gestión de Conexiones**: Ciclo de vida adecuado de conexiones a servicios de Azure\n",
    "\n",
    "### Estrategias de Caché\n",
    "- **Caché de Consultas**: Caché de búsquedas ejecutadas con frecuencia\n",
    "- **Caché de Documentos**: Caché en memoria para documentos más utilizados\n",
    "- **Caché de Índices**: Caché optimizado de índices vectoriales\n",
    "- **Caché de Resultados**: Caché inteligente de respuestas generadas\n",
    "\n",
    "## 📊 Casos de Uso Empresariales\n",
    "\n",
    "### Gestión del Conocimiento\n",
    "- **Wiki Corporativo**: Búsqueda inteligente en bases de conocimiento de la empresa\n",
    "- **Políticas y Procedimientos**: Orientación automatizada sobre cumplimiento y procedimientos\n",
    "- **Materiales de Capacitación**: Asistencia inteligente para aprendizaje y desarrollo\n",
    "- **Bases de Datos de Investigación**: Sistemas de análisis de artículos académicos y de investigación\n",
    "\n",
    "### Atención al Cliente\n",
    "- **Base de Conocimiento de Soporte**: Respuestas automatizadas para servicio al cliente\n",
    "- **Documentación de Productos**: Recuperación inteligente de información sobre productos\n",
    "- **Guías de Solución de Problemas**: Asistencia contextual para resolver problemas\n",
    "- **Sistemas de Preguntas Frecuentes**: Generación dinámica de FAQs a partir de colecciones de documentos\n",
    "\n",
    "### Cumplimiento Normativo\n",
    "- **Análisis de Documentos Legales**: Inteligencia en contratos y documentos legales\n",
    "- **Monitoreo de Cumplimiento**: Verificación automatizada de cumplimiento normativo\n",
    "- **Evaluación de Riesgos**: Análisis y reporte de riesgos basados en documentos\n",
    "- **Soporte de Auditoría**: Descubrimiento inteligente de documentos para auditorías\n",
    "\n",
    "## 🚀 Despliegue en Producción\n",
    "\n",
    "### Monitoreo y Observabilidad\n",
    "- **Application Insights**: Telemetría detallada y monitoreo de rendimiento\n",
    "- **Métricas Personalizadas**: Seguimiento y alertas de KPI específicos del negocio\n",
    "- **Rastreo Distribuido**: Seguimiento de solicitudes de extremo a extremo entre servicios\n",
    "- **Tableros de Salud**: Visualización en tiempo real de la salud y rendimiento del sistema\n",
    "\n",
    "### Escalabilidad y Confiabilidad\n",
    "- **Autoescalado**: Escalado automático basado en carga y métricas de rendimiento\n",
    "- **Alta Disponibilidad**: Despliegue en múltiples regiones con capacidades de conmutación por error\n",
    "- **Pruebas de Carga**: Validación de rendimiento bajo condiciones de carga empresarial\n",
    "- **Recuperación ante Desastres**: Procedimientos automatizados de respaldo y recuperación\n",
    "\n",
    "¿Listo para construir sistemas RAG de nivel empresarial que puedan manejar documentos sensibles a gran escala? ¡Vamos a diseñar sistemas inteligentes de conocimiento para la empresa! 🏢📖✨\n"
   ]
  },
  {
   "cell_type": "code",
   "execution_count": 1,
   "metadata": {
    "language_info": {
     "name": "polyglot-notebook"
    },
    "polyglot_notebook": {
     "kernelName": "csharp"
    }
   },
   "outputs": [
    {
     "data": {
      "text/html": [
       "<div><div></div><div></div><div><strong>Installed Packages</strong><ul><li><span>Microsoft.Extensions.AI, 9.9.1</span></li></ul></div></div>"
      ]
     },
     "metadata": {},
     "output_type": "display_data"
    }
   ],
   "source": [
    "#r \"nuget: Microsoft.Extensions.AI, 9.9.1\""
   ]
  },
  {
   "cell_type": "code",
   "execution_count": 2,
   "id": "4ec1f0d1",
   "metadata": {
    "language_info": {
     "name": "polyglot-notebook"
    },
    "polyglot_notebook": {
     "kernelName": "csharp"
    }
   },
   "outputs": [
    {
     "data": {
      "text/html": [
       "<div><div></div><div></div><div><strong>Installed Packages</strong><ul><li><span>Azure.AI.Agents.Persistent, 1.2.0-beta.5</span></li><li><span>Azure.Identity, 1.15.0</span></li><li><span>System.Linq.Async, 6.0.3</span></li></ul></div></div>"
      ]
     },
     "metadata": {},
     "output_type": "display_data"
    }
   ],
   "source": [
    "#r \"nuget: Azure.AI.Agents.Persistent, 1.2.0-beta.5\"\n",
    "#r \"nuget: Azure.Identity, 1.15.0\"\n",
    "#r \"nuget: System.Linq.Async, 6.0.3\""
   ]
  },
  {
   "cell_type": "code",
   "execution_count": 3,
   "id": "2363ae07",
   "metadata": {
    "language_info": {
     "name": "polyglot-notebook"
    },
    "polyglot_notebook": {
     "kernelName": "csharp"
    }
   },
   "outputs": [],
   "source": []
  },
  {
   "cell_type": "code",
   "execution_count": null,
   "id": "d10cec9d",
   "metadata": {
    "language_info": {
     "name": "polyglot-notebook"
    },
    "polyglot_notebook": {
     "kernelName": "csharp"
    }
   },
   "outputs": [
    {
     "data": {
      "text/html": [
       "<div><div></div><div></div><div><strong>Installed Packages</strong><ul><li><span>Microsoft.Agents.AI.AzureAI, 1.0.0-preview.251001.2</span></li></ul></div></div>"
      ]
     },
     "metadata": {},
     "output_type": "display_data"
    }
   ],
   "source": [
    "#r \"nuget: Microsoft.Agents.AI.AzureAI, 1.0.0-preview.251001.3\""
   ]
  },
  {
   "cell_type": "code",
   "execution_count": null,
   "id": "78199d1c",
   "metadata": {
    "language_info": {
     "name": "polyglot-notebook"
    },
    "polyglot_notebook": {
     "kernelName": "csharp"
    }
   },
   "outputs": [
    {
     "data": {
      "text/html": [
       "<div><div></div><div></div><div><strong>Installed Packages</strong><ul><li><span>microsoft.agents.ai, 1.0.0-preview.251001.2</span></li></ul></div></div>"
      ]
     },
     "metadata": {},
     "output_type": "display_data"
    }
   ],
   "source": [
    "#r \"nuget: Microsoft.Agents.AI, 1.0.0-preview.251001.3\""
   ]
  },
  {
   "cell_type": "code",
   "execution_count": 6,
   "id": "7de4684a",
   "metadata": {
    "language_info": {
     "name": "polyglot-notebook"
    },
    "polyglot_notebook": {
     "kernelName": "csharp"
    }
   },
   "outputs": [
    {
     "data": {
      "text/html": [
       "<div><div></div><div></div><div><strong>Installed Packages</strong><ul><li><span>DotNetEnv, 3.1.1</span></li></ul></div></div>"
      ]
     },
     "metadata": {},
     "output_type": "display_data"
    }
   ],
   "source": [
    "#r \"nuget: DotNetEnv, 3.1.1\""
   ]
  },
  {
   "cell_type": "code",
   "execution_count": 7,
   "id": "251efd31",
   "metadata": {
    "language_info": {
     "name": "polyglot-notebook"
    },
    "polyglot_notebook": {
     "kernelName": "csharp"
    }
   },
   "outputs": [],
   "source": [
    "using System;\n",
    "using System.Linq;\n",
    "using Azure.AI.Agents.Persistent;\n",
    "using Azure.Identity;\n",
    "using Microsoft.Agents.AI;"
   ]
  },
  {
   "cell_type": "code",
   "execution_count": 8,
   "id": "a2e342f1",
   "metadata": {
    "language_info": {
     "name": "polyglot-notebook"
    },
    "polyglot_notebook": {
     "kernelName": "csharp"
    }
   },
   "outputs": [],
   "source": [
    " using DotNetEnv;"
   ]
  },
  {
   "cell_type": "code",
   "execution_count": 9,
   "id": "a7a01653",
   "metadata": {
    "language_info": {
     "name": "polyglot-notebook"
    },
    "polyglot_notebook": {
     "kernelName": "csharp"
    }
   },
   "outputs": [],
   "source": [
    "Env.Load(\"../../../.env\");"
   ]
  },
  {
   "cell_type": "code",
   "execution_count": 10,
   "id": "a42735d5",
   "metadata": {
    "language_info": {
     "name": "polyglot-notebook"
    },
    "polyglot_notebook": {
     "kernelName": "csharp"
    }
   },
   "outputs": [],
   "source": [
    "var azure_foundry_endpoint = Environment.GetEnvironmentVariable(\"AZURE_AI_PROJECT_ENDPOINT\") ?? throw new InvalidOperationException(\"AZURE_AI_PROJECT_ENDPOINT is not set.\");\n",
    "var azure_foundry_model_id = Environment.GetEnvironmentVariable(\"AZURE_AI_MODEL_DEPLOYMENT_NAME\") ?? \"gpt-4.1-mini\";"
   ]
  },
  {
   "cell_type": "code",
   "execution_count": 11,
   "id": "e29bdb58",
   "metadata": {
    "language_info": {
     "name": "polyglot-notebook"
    },
    "polyglot_notebook": {
     "kernelName": "csharp"
    }
   },
   "outputs": [],
   "source": [
    "string pdfPath = \"./document.md\";"
   ]
  },
  {
   "cell_type": "code",
   "execution_count": 12,
   "id": "7351e12d",
   "metadata": {
    "language_info": {
     "name": "polyglot-notebook"
    },
    "polyglot_notebook": {
     "kernelName": "csharp"
    }
   },
   "outputs": [],
   "source": [
    "using System.IO;\n",
    "\n",
    "async Task<Stream> OpenImageStreamAsync(string path)\n",
    "{\n",
    "\treturn await Task.Run(() => File.OpenRead(path));\n",
    "}\n",
    "\n",
    "var pdfStream = await OpenImageStreamAsync(pdfPath);"
   ]
  },
  {
   "cell_type": "code",
   "execution_count": 13,
   "id": "0b6bf484",
   "metadata": {
    "language_info": {
     "name": "polyglot-notebook"
    },
    "polyglot_notebook": {
     "kernelName": "csharp"
    }
   },
   "outputs": [],
   "source": [
    "var persistentAgentsClient = new PersistentAgentsClient(azure_foundry_endpoint, new AzureCliCredential());"
   ]
  },
  {
   "cell_type": "code",
   "execution_count": 14,
   "id": "81e0dddc",
   "metadata": {
    "language_info": {
     "name": "polyglot-notebook"
    },
    "polyglot_notebook": {
     "kernelName": "csharp"
    }
   },
   "outputs": [],
   "source": [
    "PersistentAgentFileInfo fileInfo = await persistentAgentsClient.Files.UploadFileAsync(pdfStream, PersistentAgentFilePurpose.Agents, \"demo.md\");"
   ]
  },
  {
   "cell_type": "code",
   "execution_count": 15,
   "id": "f0c75d80",
   "metadata": {
    "language_info": {
     "name": "polyglot-notebook"
    },
    "polyglot_notebook": {
     "kernelName": "csharp"
    }
   },
   "outputs": [],
   "source": [
    "PersistentAgentsVectorStore fileStore =\n",
    "            await persistentAgentsClient.VectorStores.CreateVectorStoreAsync(\n",
    "                [fileInfo.Id],\n",
    "                metadata: new Dictionary<string, string>() { { \"agentkey\", bool.TrueString } });"
   ]
  },
  {
   "cell_type": "code",
   "execution_count": 16,
   "id": "c77986c5",
   "metadata": {
    "language_info": {
     "name": "polyglot-notebook"
    },
    "polyglot_notebook": {
     "kernelName": "csharp"
    }
   },
   "outputs": [],
   "source": [
    "PersistentAgent agentModel = await persistentAgentsClient.Administration.CreateAgentAsync(\n",
    "            azure_foundry_model_id,\n",
    "            name: \"DotNetRAGAgent\",\n",
    "            tools: [new FileSearchToolDefinition()],\n",
    "            instructions: \"\"\"\n",
    "                You are an AI assistant designed to answer user questions using only the information retrieved from the provided document(s).\n",
    "\n",
    "                - If a user's question cannot be answered using the retrieved context, **you must clearly respond**: \n",
    "                \"I'm sorry, but the uploaded document does not contain the necessary information to answer that question.\"\n",
    "                - Do not answer from general knowledge or reasoning. Do not make assumptions or generate hypothetical explanations.\n",
    "                - Do not provide definitions, tutorials, or commentary that is not explicitly grounded in the content of the uploaded file(s).\n",
    "                - If a user asks a question like \"What is a Neural Network?\", and this is not discussed in the uploaded document, respond as instructed above.\n",
    "                - For questions that do have relevant content in the document (e.g., Contoso's travel insurance coverage), respond accurately, and cite the document explicitly.\n",
    "\n",
    "                You must behave as if you have no external knowledge beyond what is retrieved from the uploaded document.\n",
    "                \"\"\",\n",
    "            toolResources: new()\n",
    "            {\n",
    "                FileSearch = new()\n",
    "                {\n",
    "                    VectorStoreIds = { fileStore.Id },\n",
    "                }\n",
    "            },\n",
    "            metadata: new Dictionary<string, string>() { { \"agentkey\", bool.TrueString } });"
   ]
  },
  {
   "cell_type": "code",
   "execution_count": 17,
   "id": "282326cf",
   "metadata": {
    "language_info": {
     "name": "polyglot-notebook"
    },
    "polyglot_notebook": {
     "kernelName": "csharp"
    }
   },
   "outputs": [],
   "source": [
    "AIAgent agent = await persistentAgentsClient.GetAIAgentAsync(agentModel.Id);"
   ]
  },
  {
   "cell_type": "code",
   "execution_count": 18,
   "id": "2067d313",
   "metadata": {
    "language_info": {
     "name": "polyglot-notebook"
    },
    "polyglot_notebook": {
     "kernelName": "csharp"
    }
   },
   "outputs": [],
   "source": [
    "AgentThread thread = agent.GetNewThread();"
   ]
  },
  {
   "cell_type": "code",
   "execution_count": 19,
   "id": "454c4230",
   "metadata": {
    "language_info": {
     "name": "polyglot-notebook"
    },
    "polyglot_notebook": {
     "kernelName": "csharp"
    }
   },
   "outputs": [
    {
     "name": "stdout",
     "output_type": "stream",
     "text": [
      "Contoso's travel insurance coverage includes protection for medical emergencies, trip cancellations, and lost baggage. This ensures that travelers are supported in case of health-related issues during their trip, unforeseen cancellations, and the loss of their belongings while traveling【4:0†demo.md】.\r\n"
     ]
    }
   ],
   "source": [
    "Console.WriteLine(await agent.RunAsync(\"Can you explain Contoso's travel insurance coverage?\", thread));"
   ]
  },
  {
   "cell_type": "markdown",
   "metadata": {},
   "source": [
    "\n---\n\n**Descargo de responsabilidad**:  \nEste documento ha sido traducido utilizando el servicio de traducción automática [Co-op Translator](https://github.com/Azure/co-op-translator). Aunque nos esforzamos por garantizar la precisión, tenga en cuenta que las traducciones automatizadas pueden contener errores o imprecisiones. El documento original en su idioma nativo debe considerarse como la fuente autorizada. Para información crítica, se recomienda una traducción profesional realizada por humanos. No nos hacemos responsables de malentendidos o interpretaciones erróneas que puedan surgir del uso de esta traducción.\n"
   ]
  }
 ],
 "metadata": {
  "kernelspec": {
   "display_name": ".NET (C#)",
   "language": "C#",
   "name": ".net-csharp"
  },
  "language_info": {
   "name": "polyglot-notebook"
  },
  "polyglot_notebook": {
   "kernelInfo": {
    "defaultKernelName": "csharp",
    "items": [
     {
      "aliases": [],
      "name": "csharp"
     }
    ]
   }
  },
  "coopTranslator": {
   "original_hash": "e4584fa31638009dc6fb665275de8fc2",
   "translation_date": "2025-10-01T21:46:23+00:00",
   "source_file": "05-agentic-rag/code_samples/05-dotnet-agent-framework.ipynb",
   "language_code": "es"
  }
 },
 "nbformat": 4,
 "nbformat_minor": 5
}