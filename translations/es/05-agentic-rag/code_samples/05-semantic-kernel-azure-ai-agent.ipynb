{
 "cells": [
  {
   "cell_type": "markdown",
   "metadata": {},
   "source": [
    "# RAG Usando el Servicio de Agente de Azure AI y Semantic Kernel\n",
    "\n",
    "Este fragmento de código demuestra cómo crear y gestionar un agente de Azure AI para generación aumentada por recuperación (RAG) utilizando el `Azure AI Agent Service` y `Semantic Kernel`. El agente procesa las consultas de los usuarios basándose en el contexto recuperado y proporciona respuestas precisas en consecuencia.\n"
   ]
  },
  {
   "cell_type": "markdown",
   "metadata": {},
   "source": []
  },
  {
   "cell_type": "markdown",
   "metadata": {},
   "source": [
    "Corrección de la versión de SQLite  \n",
    "Si encuentras el error:  \n",
    "```\n",
    "RuntimeError: Your system has an unsupported version of sqlite3. Chroma requires sqlite3 >= 3.35.0\n",
    "```  \n",
    "\n",
    "Descomenta este bloque de código al inicio de tu cuaderno:  \n"
   ]
  },
  {
   "cell_type": "code",
   "execution_count": null,
   "metadata": {},
   "outputs": [],
   "source": [
    "# %pip install pysqlite3-binary\n",
    "# __import__('pysqlite3')\n",
    "# import sys\n",
    "# sys.modules['sqlite3'] = sys.modules.pop('pysqlite3')"
   ]
  },
  {
   "cell_type": "markdown",
   "metadata": {},
   "source": [
    "### Importar paquetes\n",
    "El siguiente código importa los paquetes necesarios:\n"
   ]
  },
  {
   "cell_type": "code",
   "execution_count": null,
   "metadata": {},
   "outputs": [],
   "source": [
    "# Azure imports for project client and credentials\n",
    "from azure.ai.projects.models import FileSearchTool, OpenAIFile, VectorStore\n",
    "from azure.identity.aio import DefaultAzureCredential\n",
    "\n",
    "# Semantic Kernel imports\n",
    "from semantic_kernel.agents import AzureAIAgent, AzureAIAgentThread"
   ]
  },
  {
   "cell_type": "markdown",
   "metadata": {},
   "source": [
    "# Generación Aumentada por Recuperación con Semantic Kernel y Azure AI Agent Service\n",
    "\n",
    "Este ejemplo demuestra cómo utilizar el **Azure AI Agent Service** para realizar **Generación Aumentada por Recuperación (RAG)** combinando un modelo de lenguaje con contexto específico de un dominio a partir de un documento cargado.\n",
    "\n",
    "### Cómo Funciona\n",
    "\n",
    "1. **Carga de Documento**: Se sube un archivo markdown (document.md) que contiene información (la póliza de seguro de viaje de Contoso) al servicio de agentes.\n",
    "\n",
    "2. **Creación de Almacén Vectorial**: El documento se indexa en un almacén vectorial para habilitar la búsqueda semántica sobre su contenido.\n",
    "\n",
    "3. **Configuración del Agente**: Se instancia un agente utilizando el modelo `gpt-4o` con las siguientes instrucciones estrictas:\n",
    "   - Responder únicamente preguntas basadas en el contenido recuperado del documento.\n",
    "   - Negarse a responder si la pregunta está fuera del alcance.\n",
    "\n",
    "4. **Integración de la Herramienta de Búsqueda de Archivos**: Se registra la `FileSearchTool` con el agente, permitiendo que el modelo busque y recupere fragmentos relevantes del documento indexado durante la inferencia.\n",
    "\n",
    "5. **Interacción con el Usuario**: Los usuarios pueden hacer preguntas. Si se encuentra información relevante en el documento, el agente genera una respuesta fundamentada.  \n",
    "   Si no, el agente responde explícitamente que el documento no contiene información suficiente.\n"
   ]
  },
  {
   "cell_type": "markdown",
   "metadata": {},
   "source": [
    "### Función Principal\n",
    "\n",
    "La función principal es el punto de entrada de tu aplicación. Es donde comienza la ejecución del programa y generalmente contiene la lógica principal.\n",
    "\n",
    "[!NOTE] Asegúrate de que la función principal sea clara y fácil de entender.\n",
    "\n",
    "#### Ejemplo de código\n",
    "\n",
    "```python\n",
    "def main():\n",
    "    print(\"¡Hola, mundo!\")\n",
    "```\n",
    "\n",
    "#### Comentarios\n",
    "\n",
    "- Utiliza la función principal para organizar tu código.\n",
    "- Mantén el código dentro de la función principal lo más limpio posible.\n",
    "- Llama a otras funciones desde la función principal para dividir tareas complejas.\n",
    "\n",
    "[!TIP] Es una buena práctica incluir una verificación como `if __name__ == \"__main__\":` para asegurarte de que el código solo se ejecute cuando el archivo se ejecuta directamente.\n",
    "\n",
    "#### Estructura recomendada\n",
    "\n",
    "```python\n",
    "def main():\n",
    "    # Lógica principal aquí\n",
    "    pass\n",
    "\n",
    "if __name__ == \"__main__\":\n",
    "    main()\n",
    "```\n",
    "\n",
    "[!IMPORTANT] Siempre prueba tu función principal para asegurarte de que el programa se comporta como se espera.\n"
   ]
  },
  {
   "cell_type": "markdown",
   "metadata": {},
   "source": [
    "Asegúrate de ejecutar primero `az login` utilizando la CLI de Azure para que se proporcione el contexto de autenticación adecuado al usar `DefaultAzureCredential`. El servicio Azure AI Agent no utiliza claves de API.\n"
   ]
  },
  {
   "cell_type": "code",
   "execution_count": null,
   "metadata": {},
   "outputs": [],
   "source": [
    "async def main():\n",
    "    async with (\n",
    "        DefaultAzureCredential() as creds,\n",
    "        AzureAIAgent.create_client(credential=creds) as client,\n",
    "    ):\n",
    "        file: OpenAIFile = await client.agents.upload_file_and_poll(file_path=\"document.md\", purpose=\"assistants\")\n",
    "        vector_store: VectorStore = await client.agents.create_vector_store_and_poll(\n",
    "            file_ids=[file.id], name=\"my_vectorstore\"\n",
    "        )\n",
    "\n",
    "        # Define agent name and instructions tailored for RAG.\n",
    "        AGENT_NAME = \"RAGAgent\"\n",
    "        AGENT_INSTRUCTIONS = \"\"\"\n",
    "        You are an AI assistant designed to answer user questions using only the information retrieved from the provided document(s).\n",
    "\n",
    "        - If a user's question cannot be answered using the retrieved context, **you must clearly respond**: \n",
    "        \"I'm sorry, but the uploaded document does not contain the necessary information to answer that question.\"\n",
    "        - Do not answer from general knowledge or reasoning. Do not make assumptions or generate hypothetical explanations.\n",
    "        - Do not provide definitions, tutorials, or commentary that is not explicitly grounded in the content of the uploaded file(s).\n",
    "        - If a user asks a question like \"What is a Neural Network?\", and this is not discussed in the uploaded document, respond as instructed above.\n",
    "        - For questions that do have relevant content in the document (e.g., Contoso's travel insurance coverage), respond accurately, and cite the document explicitly.\n",
    "\n",
    "        You must behave as if you have no external knowledge beyond what is retrieved from the uploaded document.\n",
    "        \"\"\"\n",
    "\n",
    "        \n",
    "        # Create file search tool with uploaded resources\n",
    "        file_search = FileSearchTool(vector_store_ids=[vector_store.id])\n",
    "\n",
    "        # 3. Create an agent on the Azure AI agent service with the file search tool\n",
    "        agent_definition = await client.agents.create_agent(\n",
    "            model=\"gpt-4o\",  # This model should match your Azure OpenAI deployment.\n",
    "            name=AGENT_NAME,\n",
    "            instructions=AGENT_INSTRUCTIONS,\n",
    "            tools=file_search.definitions,\n",
    "            tool_resources=file_search.resources,\n",
    "        )\n",
    "        \n",
    "        # Create the Azure AI Agent using the client and definition.\n",
    "        agent = AzureAIAgent(\n",
    "            client=client,\n",
    "            definition=agent_definition,\n",
    "        )\n",
    "        \n",
    "        # Create a thread to hold the conversation\n",
    "        # If no thread is provided, a new thread will be\n",
    "        # created and returned with the initial response\n",
    "        thread: AzureAIAgentThread | None = None\n",
    "        \n",
    "        # Example user queries.\n",
    "        user_inputs = [\n",
    "            \"Can you explain Contoso's travel insurance coverage?\",  # Relevant context.\n",
    "            \"What is a Neural Network?\"  # No relevant context from the document. Will not contain a source annotation.\n",
    "        ]\n",
    "        \n",
    "        try:\n",
    "            for user_input in user_inputs:\n",
    "                print(f\"# User: '{user_input}'\")\n",
    "                # Invoke the agent for the specified thread for response\n",
    "                async for response in agent.invoke(messages=user_input, thread=thread):\n",
    "                    print(f\"# {response.name}: {response}\")\n",
    "                    thread = response.thread\n",
    "        finally:\n",
    "            # Clean up resources.\n",
    "            await thread.delete() if thread else None\n",
    "            await client.agents.delete_vector_store(vector_store.id)\n",
    "            await client.agents.delete_file(file.id)\n",
    "            await client.agents.delete_agent(agent.id)\n",
    "            print(\"\\nCleaned up agent, thread, file, and vector store.\")\n",
    "\n",
    "await main()"
   ]
  },
  {
   "cell_type": "markdown",
   "metadata": {},
   "source": [
    "Entendido, por favor proporciona el archivo Markdown que deseas traducir.\n"
   ]
  },
  {
   "cell_type": "markdown",
   "metadata": {},
   "source": [
    "\n---\n\n**Descargo de responsabilidad**:  \nEste documento ha sido traducido utilizando el servicio de traducción automática [Co-op Translator](https://github.com/Azure/co-op-translator). Si bien nos esforzamos por garantizar la precisión, tenga en cuenta que las traducciones automatizadas pueden contener errores o imprecisiones. El documento original en su idioma nativo debe considerarse la fuente autorizada. Para información crítica, se recomienda una traducción profesional realizada por humanos. No nos hacemos responsables de malentendidos o interpretaciones erróneas que puedan surgir del uso de esta traducción.\n"
   ]
  }
 ],
 "metadata": {
  "kernelspec": {
   "display_name": ".venv",
   "language": "python",
   "name": "python3"
  },
  "language_info": {
   "codemirror_mode": {
    "name": "ipython",
    "version": 3
   },
   "file_extension": ".py",
   "mimetype": "text/x-python",
   "name": "python",
   "nbconvert_exporter": "python",
   "pygments_lexer": "ipython3",
   "version": "3.11.11"
  },
  "coopTranslator": {
   "original_hash": "a86c3ddfbe35024993bbf563588aad48",
   "translation_date": "2025-08-30T12:20:18+00:00",
   "source_file": "05-agentic-rag/code_samples/05-semantic-kernel-azure-ai-agent.ipynb",
   "language_code": "es"
  }
 },
 "nbformat": 4,
 "nbformat_minor": 2
}