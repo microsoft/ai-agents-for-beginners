{
 "cells": [
  {
   "cell_type": "markdown",
   "id": "8744544f",
   "metadata": {},
   "source": [
    "# 🛠️ Uso Avanzado de Herramientas con Modelos de GitHub (Python)\n",
    "\n",
    "## 📋 Objetivos de Aprendizaje\n",
    "\n",
    "Este cuaderno demuestra patrones avanzados de integración de herramientas utilizando el Marco de Agentes de Microsoft con Modelos de GitHub. Aprenderás a crear, gestionar y orquestar múltiples herramientas para construir capacidades sofisticadas en agentes.\n",
    "\n",
    "**Lo que dominarás:**\n",
    "- 🔧 **Arquitectura Multi-Herramienta**: Construcción de agentes con múltiples herramientas especializadas\n",
    "- 🎯 **Lógica de Selección de Herramientas**: Cómo los agentes eligen la herramienta adecuada para cada tarea\n",
    "- 📊 **Herramientas de Procesamiento de Datos**: Creación de herramientas que manejan diferentes tipos de datos\n",
    "- 🔗 **Composición de Herramientas**: Combinación de herramientas para flujos de trabajo complejos\n",
    "\n",
    "## 🎯 Patrones Clave de Herramientas\n",
    "\n",
    "### Principios de Diseño de Herramientas\n",
    "- **Responsabilidad Única**: Cada herramienta tiene un propósito claro y enfocado\n",
    "- **Seguridad de Tipos**: Tipificación fuerte para una ejecución confiable de herramientas\n",
    "- **Manejo de Errores**: Patrones de fallo y recuperación elegantes\n",
    "- **Composibilidad**: Herramientas que funcionan bien juntas\n",
    "\n",
    "### Características Avanzadas de Herramientas\n",
    "- **Conciencia de Contexto**: Herramientas que entienden el contexto de la conversación\n",
    "- **Validación de Datos**: Sanitización de entradas y validación de salidas\n",
    "- **Optimización de Rendimiento**: Patrones eficientes de ejecución de herramientas\n",
    "- **Extensibilidad**: Adición sencilla de nuevas capacidades de herramientas\n",
    "\n",
    "## 🔧 Arquitectura Técnica\n",
    "\n",
    "### Componentes Principales\n",
    "- **Marco de Agentes de Microsoft**: Implementación en Python con soporte avanzado para herramientas\n",
    "- **Integración con Modelos de GitHub**: Acceso a modelos de lenguaje de alto rendimiento\n",
    "- **Sistema de Registro de Herramientas**: Gestión organizada de capacidades de agentes\n",
    "- **Patrones de Recuperación de Errores**: Manejo robusto de fallos en la ejecución de herramientas\n",
    "\n",
    "### Flujo de Integración de Herramientas\n",
    "```python\n",
    "User Request → Agent Analysis → Tool Selection → Tool Execution → Response Synthesis\n",
    "```\n",
    "\n",
    "## 🛠️ Categorías de Herramientas Demostradas\n",
    "\n",
    "### 1. **Herramientas de Generación de Datos**\n",
    "- Generador aleatorio de destinos\n",
    "- Proveedor de información meteorológica  \n",
    "- Calculadora de costos de viaje\n",
    "- Motor de recomendación de actividades\n",
    "\n",
    "### 2. **Herramientas de Procesamiento**\n",
    "- Formateo y validación de texto\n",
    "- Utilidades de transformación de datos\n",
    "- Funciones de análisis de contenido\n",
    "- Herramientas de mejora de respuestas\n",
    "\n",
    "### 3. **Herramientas de Integración**\n",
    "- Conectores de API externas\n",
    "- Operaciones en el sistema de archivos\n",
    "- Interfaces de consulta de bases de datos\n",
    "- Utilidades de scraping web\n",
    "\n",
    "## ⚙️ Requisitos Previos y Configuración\n",
    "\n",
    "**Dependencias Requeridas:**\n",
    "```bash\n",
    "\n",
    "pip install agent-framework-core -U\n",
    "```\n",
    "\n",
    "**Configuración del Entorno (archivo .env):**\n",
    "```env\n",
    "GITHUB_TOKEN=your_github_personal_access_token\n",
    "GITHUB_ENDPOINT=https://models.inference.ai.azure.com\n",
    "GITHUB_MODEL_ID=gpt-4o-mini\n",
    "```\n",
    "\n",
    "**APIs Opcionales:**\n",
    "- Clave de API de servicio meteorológico (para herramientas de clima)\n",
    "- Acceso a API de conversión de moneda\n",
    "- Credenciales de servicio de información de viajes\n",
    "\n",
    "## 🎨 Patrones de Diseño\n",
    "\n",
    "### Patrón de Fábrica de Herramientas\n",
    "- Creación y configuración centralizada de herramientas\n",
    "- Diseño consistente de interfaces de herramientas\n",
    "- Registro y descubrimiento sencillo de herramientas\n",
    "\n",
    "### Patrón de Comando\n",
    "- Lógica encapsulada de ejecución de herramientas\n",
    "- Funcionalidad de deshacer/rehacer para operaciones complejas\n",
    "- Registro de auditoría para el uso de herramientas\n",
    "\n",
    "### Patrón de Observador\n",
    "- Monitoreo de ejecución de herramientas\n",
    "- Recopilación de métricas de rendimiento\n",
    "- Reporte de errores y alertas\n",
    "\n",
    "## 🚀 Mejores Prácticas\n",
    "\n",
    "- **Documentación de Herramientas**: Descripciones claras para la comprensión del agente\n",
    "- **Validación de Entradas**: Comprobación robusta de parámetros y sanitización\n",
    "- **Formateo de Salidas**: Respuestas consistentes y analizables de las herramientas\n",
    "- **Mensajes de Error**: Información útil de errores para depuración\n",
    "- **Rendimiento**: Ejecución optimizada de herramientas para mayor capacidad de respuesta\n",
    "\n",
    "¿Listo para construir agentes con capacidades poderosas de herramientas? ¡Vamos a crear algo increíble! ⚡\n"
   ]
  },
  {
   "cell_type": "code",
   "execution_count": null,
   "id": "59c0feeb",
   "metadata": {},
   "outputs": [],
   "source": [
    "! pip install agent-framework-core -U"
   ]
  },
  {
   "cell_type": "code",
   "execution_count": null,
   "id": "c0df8a52",
   "metadata": {},
   "outputs": [],
   "source": [
    "# � Import core dependencies for Agent Framework and tool integration\n",
    "# This sets up the essential libraries for building intelligent agents with tool capabilities\n",
    "\n",
    "import asyncio\n",
    "import os\n",
    "import json\n",
    "\n",
    "from dotenv import load_dotenv  # For loading environment variables securely\n",
    "from random import randint\n",
    "\n",
    "# These are the core components for building tool-enabled agents\n",
    "from agent_framework import ChatAgent           # Main agent class\n",
    "from agent_framework.openai import OpenAIChatClient  # OpenAI-compatible client"
   ]
  },
  {
   "cell_type": "code",
   "execution_count": null,
   "id": "24c10eb0",
   "metadata": {},
   "outputs": [],
   "source": [
    "load_dotenv()"
   ]
  },
  {
   "cell_type": "code",
   "execution_count": null,
   "id": "151e0314",
   "metadata": {},
   "outputs": [],
   "source": [
    "# 🔑 Environment variables verification\n",
    "# Ensure all required GitHub Models credentials are properly configured\n",
    "print(\"GITHUB_ENDPOINT:\", os.environ.get(\"GITHUB_ENDPOINT\"))\n",
    "print(\"GITHUB_TOKEN:\", \"***\" if os.environ.get(\"GITHUB_TOKEN\") else \"Not set\")\n",
    "print(\"GITHUB_MODEL_ID:\", os.environ.get(\"GITHUB_MODEL_ID\"))"
   ]
  },
  {
   "cell_type": "code",
   "execution_count": null,
   "id": "a6141584",
   "metadata": {},
   "outputs": [],
   "source": [
    "# 🧪 Test GitHub Models connectivity\n",
    "openai_chat_client = OpenAIChatClient(base_url=os.environ.get(\"GITHUB_ENDPOINT\"), api_key=os.environ.get(\"GITHUB_TOKEN\"), model_id=os.environ.get(\"GITHUB_MODEL_ID\"))"
   ]
  },
  {
   "cell_type": "code",
   "execution_count": null,
   "id": "a6507f83",
   "metadata": {},
   "outputs": [],
   "source": [
    "# 🛠️ Define travel planning tools for agent integration\n",
    "# These functions provide specific capabilities that the agent can invoke dynamically\n",
    "\n",
    "def get_random_destination() -> str:\n",
    "    \"\"\"\n",
    "    🎲 Random destination generator tool\n",
    "    Returns a randomly selected travel destination from curated list\n",
    "    Useful when customers need inspiration for their next vacation\n",
    "    \"\"\"\n",
    "    destinations = [\n",
    "        \"Paris, France\",\n",
    "        \"Tokyo, Japan\", \n",
    "        \"New York City, USA\",\n",
    "        \"London, England\",\n",
    "        \"Rome, Italy\",\n",
    "        \"Sydney, Australia\",\n",
    "        \"Dubai, UAE\",\n",
    "        \"Barcelona, Spain\",\n",
    "        \"Bangkok, Thailand\",\n",
    "        \"Amsterdam, Netherlands\",\n",
    "        \"Istanbul, Turkey\",\n",
    "        \"Prague, Czech Republic\",\n",
    "        \"Santorini, Greece\",\n",
    "        \"Reykjavik, Iceland\",\n",
    "        \"Marrakech, Morocco\",\n",
    "        \"Cape Town, South Africa\",\n",
    "        \"Rio de Janeiro, Brazil\",\n",
    "        \"Bali, Indonesia\"\n",
    "    ]\n",
    "    # 🎯 Return random selection from the curated destination list\n",
    "    return destinations[randint(0, len(destinations) - 1)]"
   ]
  },
  {
   "cell_type": "code",
   "execution_count": null,
   "id": "5d4f0568",
   "metadata": {},
   "outputs": [],
   "source": [
    "# 🔗 Initialize GitHub Models chat client for agent communication\n",
    "# Creates the primary interface between the agent and the language model\n",
    "openai_chat_client = OpenAIChatClient(base_url=os.environ.get(\"GITHUB_ENDPOINT\"), api_key=os.environ.get(\"GITHUB_TOKEN\"), model_id=os.environ.get(\"GITHUB_MODEL_ID\"))"
   ]
  },
  {
   "cell_type": "code",
   "execution_count": null,
   "id": "751668c5",
   "metadata": {},
   "outputs": [],
   "source": [
    "# 🤖 Configure travel agent identity and behavioral instructions\n",
    "# Define the agent's personality, capabilities, and operational guidelines\n",
    "\n",
    "AGENT_NAME = \"TravelAgent\"\n",
    "\n",
    "AGENT_INSTRUCTIONS = \"\"\"You are a helpful AI Agent that can help plan vacations for customers at random destinations\n",
    "\"\"\""
   ]
  },
  {
   "cell_type": "code",
   "execution_count": null,
   "id": "be18ac4f",
   "metadata": {},
   "outputs": [],
   "source": [
    "agent = ChatAgent(\n",
    "        name = AGENT_NAME,\n",
    "        chat_client=openai_chat_client,\n",
    "        instructions=AGENT_INSTRUCTIONS,\n",
    "        tools=[get_random_destination]\n",
    ")"
   ]
  },
  {
   "cell_type": "code",
   "execution_count": null,
   "id": "772e9481",
   "metadata": {},
   "outputs": [],
   "source": [
    "thread = agent.get_new_thread()"
   ]
  },
  {
   "cell_type": "code",
   "execution_count": null,
   "id": "a731b547",
   "metadata": {},
   "outputs": [],
   "source": [
    "response1 = await agent.run(\"Plan me a day trip\",thread= thread)"
   ]
  },
  {
   "cell_type": "code",
   "execution_count": null,
   "id": "7d3fe00a",
   "metadata": {},
   "outputs": [],
   "source": [
    "\n",
    "last_message = response1.messages[-1]\n",
    "text_content = last_message.contents[0].text\n",
    "print(\"Travel plan:\")\n",
    "print(text_content)"
   ]
  },
  {
   "cell_type": "markdown",
   "metadata": {},
   "source": [
    "\n---\n\n**Descargo de responsabilidad**:  \nEste documento ha sido traducido utilizando el servicio de traducción automática [Co-op Translator](https://github.com/Azure/co-op-translator). Aunque nos esforzamos por garantizar la precisión, tenga en cuenta que las traducciones automatizadas pueden contener errores o imprecisiones. El documento original en su idioma nativo debe considerarse como la fuente autorizada. Para información crítica, se recomienda una traducción profesional realizada por humanos. No nos hacemos responsables de malentendidos o interpretaciones erróneas que puedan surgir del uso de esta traducción.\n"
   ]
  }
 ],
 "metadata": {
  "kernelspec": {
   "display_name": "agentenv",
   "language": "python",
   "name": "python3"
  },
  "language_info": {
   "codemirror_mode": {
    "name": "ipython",
    "version": 3
   },
   "file_extension": ".py",
   "mimetype": "text/x-python",
   "name": "python",
   "nbconvert_exporter": "python",
   "pygments_lexer": "ipython3",
   "version": "3.12.10"
  },
  "polyglot_notebook": {
   "kernelInfo": {
    "defaultKernelName": "csharp",
    "items": [
     {
      "aliases": [],
      "name": "csharp"
     }
    ]
   }
  },
  "coopTranslator": {
   "original_hash": "42966ddac53cebaf0ac1ce33b2ee7059",
   "translation_date": "2025-10-01T22:06:51+00:00",
   "source_file": "04-tool-use/code_samples/04-python-agent-framework.ipynb",
   "language_code": "es"
  }
 },
 "nbformat": 4,
 "nbformat_minor": 5
}