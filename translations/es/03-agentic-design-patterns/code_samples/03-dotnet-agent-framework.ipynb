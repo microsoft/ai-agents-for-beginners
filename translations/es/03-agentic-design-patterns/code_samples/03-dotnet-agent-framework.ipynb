{
 "cells": [
  {
   "cell_type": "markdown",
   "id": "d6058fa4",
   "metadata": {},
   "source": [
    "# 🎨 Patrones de Diseño Agentes con Modelos de GitHub (.NET)\n",
    "\n",
    "## 📋 Objetivos de Aprendizaje\n",
    "\n",
    "Este cuaderno demuestra patrones de diseño de nivel empresarial para construir agentes inteligentes utilizando el Microsoft Agent Framework en .NET con integración de Modelos de GitHub. Aprenderás patrones profesionales y enfoques arquitectónicos que hacen que los agentes sean listos para producción, mantenibles y escalables.\n",
    "\n",
    "**Patrones de Diseño Empresariales:**\n",
    "- 🏭 **Patrón Factory**: Creación estandarizada de agentes con inyección de dependencias\n",
    "- 🔧 **Patrón Builder**: Configuración y preparación fluida de agentes\n",
    "- 🧵 **Patrones Seguros para Hilos**: Gestión concurrente de conversaciones\n",
    "- 📋 **Patrón Repository**: Gestión organizada de herramientas y capacidades\n",
    "\n",
    "## 🎯 Beneficios Arquitectónicos Específicos de .NET\n",
    "\n",
    "### Características Empresariales\n",
    "- **Tipado Fuerte**: Validación en tiempo de compilación y soporte IntelliSense\n",
    "- **Inyección de Dependencias**: Integración con contenedor DI incorporado\n",
    "- **Gestión de Configuración**: Patrones de IConfiguration y Options\n",
    "- **Async/Await**: Soporte de programación asincrónica de primera clase\n",
    "\n",
    "### Patrones Listos para Producción\n",
    "- **Integración de Registro**: ILogger y soporte de registro estructurado\n",
    "- **Verificaciones de Salud**: Monitoreo y diagnóstico integrados\n",
    "- **Validación de Configuración**: Tipado fuerte con anotaciones de datos\n",
    "- **Gestión de Errores**: Manejo estructurado de excepciones\n",
    "\n",
    "## 🔧 Arquitectura Técnica\n",
    "\n",
    "### Componentes Principales de .NET\n",
    "- **Microsoft.Extensions.AI**: Abstracciones unificadas de servicios de IA\n",
    "- **Microsoft.Agents.AI**: Marco de orquestación de agentes empresariales\n",
    "- **Integración de Modelos de GitHub**: Patrones de cliente API de alto rendimiento\n",
    "- **Sistema de Configuración**: Integración de appsettings.json y entorno\n",
    "\n",
    "### Implementación de Patrones de Diseño\n",
    "```csharp\n",
    "IServiceCollection → Agent Builder → Configuration → Tool Registry → AI Agent\n",
    "```\n",
    "\n",
    "## 🏗️ Patrones Empresariales Demostrados\n",
    "\n",
    "### 1. **Patrones Creacionales**\n",
    "- **Factory de Agentes**: Creación centralizada de agentes con configuración consistente\n",
    "- **Patrón Builder**: API fluida para configuración compleja de agentes\n",
    "- **Patrón Singleton**: Gestión de recursos y configuración compartida\n",
    "- **Inyección de Dependencias**: Acoplamiento flexible y capacidad de prueba\n",
    "\n",
    "### 2. **Patrones de Comportamiento**\n",
    "- **Patrón Strategy**: Estrategias intercambiables de ejecución de herramientas\n",
    "- **Patrón Command**: Operaciones encapsuladas de agentes con deshacer/rehacer\n",
    "- **Patrón Observer**: Gestión del ciclo de vida de agentes basada en eventos\n",
    "- **Método Template**: Flujos de trabajo de ejecución de agentes estandarizados\n",
    "\n",
    "### 3. **Patrones Estructurales**\n",
    "- **Patrón Adapter**: Capa de integración de API de Modelos de GitHub\n",
    "- **Patrón Decorator**: Mejora de capacidades de agentes\n",
    "- **Patrón Facade**: Interfaces simplificadas de interacción con agentes\n",
    "- **Patrón Proxy**: Carga diferida y almacenamiento en caché para rendimiento\n",
    "\n",
    "## ⚙️ Requisitos Previos y Configuración\n",
    "\n",
    "**Entorno de Desarrollo:**\n",
    "- SDK de .NET 9.0 o superior\n",
    "- Visual Studio 2022 o VS Code con extensión de C#\n",
    "- Acceso a la API de Modelos de GitHub\n",
    "\n",
    "**Dependencias de NuGet:**\n",
    "```xml\n",
    "<PackageReference Include=\"Microsoft.Extensions.AI\" Version=\"9.9.0\" />\n",
    "<PackageReference Include=\"Microsoft.Extensions.AI.OpenAI\" Version=\"9.9.0-preview.1.25458.4\" />\n",
    "<PackageReference Include=\"DotNetEnv\" Version=\"3.1.1\" />\n",
    "```\n",
    "\n",
    "**Configuración (archivo .env):**\n",
    "```env\n",
    "GITHUB_TOKEN=your_github_personal_access_token\n",
    "GITHUB_ENDPOINT=https://models.inference.ai.azure.com\n",
    "GITHUB_MODEL_ID=gpt-4o-mini\n",
    "```\n",
    "\n",
    "## 📚 Principios de Diseño en .NET\n",
    "\n",
    "### Principios SOLID\n",
    "- **Responsabilidad Única**: Cada componente tiene un propósito claro\n",
    "- **Abierto/Cerrado**: Extensible sin modificaciones\n",
    "- **Sustitución de Liskov**: Implementaciones de herramientas basadas en interfaces\n",
    "- **Segregación de Interfaces**: Interfaces enfocadas y cohesivas\n",
    "- **Inversión de Dependencias**: Dependencia de abstracciones, no concreciones\n",
    "\n",
    "### Arquitectura Limpia\n",
    "- **Capa de Dominio**: Abstracciones principales de agentes y herramientas\n",
    "- **Capa de Aplicación**: Orquestación de agentes y flujos de trabajo\n",
    "- **Capa de Infraestructura**: Integración de Modelos de GitHub y servicios externos\n",
    "- **Capa de Presentación**: Interacción con el usuario y formato de respuestas\n",
    "\n",
    "## 🔒 Consideraciones Empresariales\n",
    "\n",
    "### Seguridad\n",
    "- **Gestión de Credenciales**: Manejo seguro de claves API con IConfiguration\n",
    "- **Validación de Entradas**: Tipado fuerte y validación con anotaciones de datos\n",
    "- **Sanitización de Salidas**: Procesamiento y filtrado seguro de respuestas\n",
    "- **Registro de Auditoría**: Seguimiento completo de operaciones\n",
    "\n",
    "### Rendimiento\n",
    "- **Patrones Asíncronos**: Operaciones de E/S no bloqueantes\n",
    "- **Pooling de Conexiones**: Gestión eficiente de clientes HTTP\n",
    "- **Caché**: Almacenamiento en caché de respuestas para mejorar el rendimiento\n",
    "- **Gestión de Recursos**: Patrones adecuados de eliminación y limpieza\n",
    "\n",
    "### Escalabilidad\n",
    "- **Seguridad en Hilos**: Soporte para ejecución concurrente de agentes\n",
    "- **Pooling de Recursos**: Utilización eficiente de recursos\n",
    "- **Gestión de Carga**: Limitación de tasa y manejo de contrapresión\n",
    "- **Monitoreo**: Métricas de rendimiento y verificaciones de salud\n",
    "\n",
    "## 🚀 Despliegue en Producción\n",
    "\n",
    "- **Gestión de Configuración**: Configuraciones específicas del entorno\n",
    "- **Estrategia de Registro**: Registro estructurado con IDs de correlación\n",
    "- **Gestión de Errores**: Manejo global de excepciones con recuperación adecuada\n",
    "- **Monitoreo**: Insights de aplicación y contadores de rendimiento\n",
    "- **Pruebas**: Patrones de pruebas unitarias, de integración y de carga\n",
    "\n",
    "¿Listo para construir agentes inteligentes de nivel empresarial con .NET? ¡Vamos a diseñar algo robusto! 🏢✨\n"
   ]
  },
  {
   "cell_type": "code",
   "execution_count": 1,
   "id": "2770ac5c",
   "metadata": {
    "language_info": {
     "name": "polyglot-notebook"
    },
    "polyglot_notebook": {
     "kernelName": "csharp"
    }
   },
   "outputs": [
    {
     "data": {
      "text/html": [
       "<div><div></div><div></div><div><strong>Installed Packages</strong><ul><li><span>Microsoft.Extensions.AI, 9.9.1</span></li></ul></div></div>"
      ]
     },
     "metadata": {},
     "output_type": "display_data"
    }
   ],
   "source": [
    "#r \"nuget: Microsoft.Extensions.AI, 9.9.1\""
   ]
  },
  {
   "cell_type": "code",
   "execution_count": null,
   "id": "984ff6cd",
   "metadata": {
    "language_info": {
     "name": "polyglot-notebook"
    },
    "polyglot_notebook": {
     "kernelName": "csharp"
    }
   },
   "outputs": [
    {
     "data": {
      "text/html": [
       "<div><div></div><div></div><div><strong>Installed Packages</strong><ul><li><span>Microsoft.Agents.AI.OpenAI, 1.0.0-preview.251001.2</span></li></ul></div></div>"
      ]
     },
     "metadata": {},
     "output_type": "display_data"
    }
   ],
   "source": [
    "#r \"nuget: Microsoft.Agents.AI.OpenAI, 1.0.0-preview.251001.3\""
   ]
  },
  {
   "cell_type": "code",
   "execution_count": null,
   "id": "0ab71360",
   "metadata": {
    "language_info": {
     "name": "polyglot-notebook"
    },
    "polyglot_notebook": {
     "kernelName": "csharp"
    }
   },
   "outputs": [
    {
     "data": {
      "text/html": [
       "<div><div></div><div></div><div><strong>Installed Packages</strong><ul><li><span>microsoft.agents.ai, 1.0.0-preview.251001.2</span></li></ul></div></div>"
      ]
     },
     "metadata": {},
     "output_type": "display_data"
    }
   ],
   "source": [
    "\n",
    "\n",
    "#r \"nuget: Microsoft.Agents.AI, 1.0.0-preview.251001.3\""
   ]
  },
  {
   "cell_type": "code",
   "execution_count": 4,
   "id": "4ab7b15d",
   "metadata": {
    "language_info": {
     "name": "polyglot-notebook"
    },
    "polyglot_notebook": {
     "kernelName": "csharp"
    }
   },
   "outputs": [],
   "source": [
    "// #r \"nuget: Microsoft.Extensions.AI.OpenAI, 9.9.0-preview.1.25458.4\""
   ]
  },
  {
   "cell_type": "code",
   "execution_count": 5,
   "id": "3fa8aa21",
   "metadata": {
    "language_info": {
     "name": "polyglot-notebook"
    },
    "polyglot_notebook": {
     "kernelName": "csharp"
    }
   },
   "outputs": [
    {
     "data": {
      "text/html": [
       "<div><div></div><div></div><div><strong>Installed Packages</strong><ul><li><span>DotNetEnv, 3.1.1</span></li></ul></div></div>"
      ]
     },
     "metadata": {},
     "output_type": "display_data"
    }
   ],
   "source": [
    "#r \"nuget: DotNetEnv, 3.1.1\""
   ]
  },
  {
   "cell_type": "code",
   "execution_count": 6,
   "id": "fc8ee8ea",
   "metadata": {
    "language_info": {
     "name": "polyglot-notebook"
    },
    "polyglot_notebook": {
     "kernelName": "csharp"
    }
   },
   "outputs": [],
   "source": [
    "using System;\n",
    "using System.ComponentModel;\n",
    "using System.ClientModel;\n",
    "\n",
    "using Microsoft.Extensions.AI;\n",
    "using Microsoft.Agents.AI;\n",
    "using OpenAI;"
   ]
  },
  {
   "cell_type": "code",
   "execution_count": 7,
   "id": "699b1c83",
   "metadata": {
    "language_info": {
     "name": "polyglot-notebook"
    },
    "polyglot_notebook": {
     "kernelName": "csharp"
    }
   },
   "outputs": [],
   "source": [
    " using DotNetEnv;"
   ]
  },
  {
   "cell_type": "code",
   "execution_count": 8,
   "id": "daa649a0",
   "metadata": {
    "language_info": {
     "name": "polyglot-notebook"
    },
    "polyglot_notebook": {
     "kernelName": "csharp"
    }
   },
   "outputs": [],
   "source": [
    "Env.Load(\"../../../.env\");"
   ]
  },
  {
   "cell_type": "code",
   "execution_count": 9,
   "id": "29661a90",
   "metadata": {
    "language_info": {
     "name": "polyglot-notebook"
    },
    "polyglot_notebook": {
     "kernelName": "csharp"
    }
   },
   "outputs": [],
   "source": [
    "[Description(\"Provides a random vacation destination.\")]\n",
    "static string GetRandomDestination()\n",
    "{\n",
    "    var destinations = new List<string>\n",
    "    {\n",
    "        \"Paris, France\",\n",
    "        \"Tokyo, Japan\",\n",
    "        \"New York City, USA\",\n",
    "        \"Sydney, Australia\",\n",
    "        \"Rome, Italy\",\n",
    "        \"Barcelona, Spain\",\n",
    "        \"Cape Town, South Africa\",\n",
    "        \"Rio de Janeiro, Brazil\",\n",
    "        \"Bangkok, Thailand\",\n",
    "        \"Vancouver, Canada\"\n",
    "    };\n",
    "\n",
    "    var random = new Random();\n",
    "    int index = random.Next(destinations.Count);\n",
    "    return destinations[index];\n",
    "}"
   ]
  },
  {
   "cell_type": "code",
   "execution_count": 10,
   "id": "d2ed1f8b",
   "metadata": {
    "language_info": {
     "name": "polyglot-notebook"
    },
    "polyglot_notebook": {
     "kernelName": "csharp"
    }
   },
   "outputs": [],
   "source": [
    "var github_endpoint = Environment.GetEnvironmentVariable(\"GITHUB_ENDPOINT\") ?? throw new InvalidOperationException(\"GITHUB_ENDPOINT is not set.\");\n",
    "var github_model_id = Environment.GetEnvironmentVariable(\"GITHUB_MODEL_ID\") ?? \"gpt-4o-mini\";\n",
    "var github_token = Environment.GetEnvironmentVariable(\"GITHUB_TOKEN\") ?? throw new InvalidOperationException(\"GITHUB_TOKEN is not set.\");"
   ]
  },
  {
   "cell_type": "code",
   "execution_count": 11,
   "id": "c36c73e1",
   "metadata": {
    "language_info": {
     "name": "polyglot-notebook"
    },
    "polyglot_notebook": {
     "kernelName": "csharp"
    }
   },
   "outputs": [],
   "source": [
    "var openAIOptions = new OpenAIClientOptions()\n",
    "{\n",
    "    Endpoint= new Uri(github_endpoint)\n",
    "};"
   ]
  },
  {
   "cell_type": "code",
   "execution_count": 12,
   "id": "6d94ff10",
   "metadata": {
    "language_info": {
     "name": "polyglot-notebook"
    },
    "polyglot_notebook": {
     "kernelName": "csharp"
    }
   },
   "outputs": [],
   "source": [
    "\n",
    "var openAIClient = new OpenAIClient(new ApiKeyCredential(github_token), openAIOptions);"
   ]
  },
  {
   "cell_type": "code",
   "execution_count": 13,
   "id": "fe32b57a",
   "metadata": {
    "language_info": {
     "name": "polyglot-notebook"
    },
    "polyglot_notebook": {
     "kernelName": "csharp"
    }
   },
   "outputs": [],
   "source": [
    "AIAgent agent = new OpenAIClient(new ApiKeyCredential(github_token), openAIOptions).GetChatClient(github_model_id).CreateAIAgent(\n",
    "    instructions:\"You are a helpful AI Agent that can help plan vacations for customers at random destinations\", tools: [AIFunctionFactory.Create((Func<string>)GetRandomDestination)]);"
   ]
  },
  {
   "cell_type": "code",
   "execution_count": 14,
   "metadata": {
    "language_info": {
     "name": "polyglot-notebook"
    },
    "polyglot_notebook": {
     "kernelName": "csharp"
    }
   },
   "outputs": [],
   "source": [
    "AgentThread thread = agent.GetNewThread();"
   ]
  },
  {
   "cell_type": "code",
   "execution_count": 15,
   "id": "5e455aff",
   "metadata": {
    "language_info": {
     "name": "polyglot-notebook"
    },
    "polyglot_notebook": {
     "kernelName": "csharp"
    }
   },
   "outputs": [
    {
     "name": "stdout",
     "output_type": "stream",
     "text": [
      "How about a day trip to Vancouver, Canada? Here's a suggested itinerary for your day:\n",
      "\n",
      "### Morning\n",
      "- **Breakfast at a Local Cafe**: Start your day with a delicious breakfast at a cozy café like **Jam Cafe** or **Cafe Medina**.\n",
      "- **Stanley Park**: After breakfast, head to Stanley Park. You can rent a bike and ride along the seawall, enjoying beautiful views of the city and the water.\n",
      "\n",
      "### Afternoon\n",
      "- **Lunch in Gastown**: Make your way to Gastown for lunch. Try a local favorite like **The Flying Pig** or **Noodle Box**.\n",
      "- **Explore Gastown**: After lunch, walk around Gastown to see the iconic Steam Clock and browse the unique shops and boutiques.\n",
      "\n",
      "### Late Afternoon\n",
      "- **Granville Island**: Visit Granville Island, where you can stroll through the public market, sample local foods, and enjoy artisan shops.\n",
      "- **False Creek**: Take a walk along False Creek and enjoy the waterfront views.\n",
      "\n",
      "### Evening\n",
      "- **Dinner at a Waterfront Restaurant**: End your day with dinner at a waterfront restaurant like **The Boathouse** or **Lift Bar Grill View** for great food and a view of the sunset.\n",
      "- **Optional: Sunset Cruise**: If you're up for it, consider taking a sunset cruise for a different perspective of the city.\n",
      "\n",
      "### Tips\n",
      "- Make sure to check the weather beforehand!\n",
      "- Consider public transport or ride-sharing to navigate the city easily.\n",
      "\n",
      "Enjoy your day trip to Vancouver!\r\n"
     ]
    }
   ],
   "source": [
    "Console.WriteLine(await agent.RunAsync(\"Plan me a day trip\",thread));"
   ]
  },
  {
   "cell_type": "code",
   "execution_count": 16,
   "id": "592ae1bb",
   "metadata": {
    "language_info": {
     "name": "polyglot-notebook"
    },
    "polyglot_notebook": {
     "kernelName": "csharp"
    }
   },
   "outputs": [
    {
     "name": "stdout",
     "output_type": "stream",
     "text": [
      "How about a vacation to New York City, USA? Here's a suggested itinerary for your trip:\n",
      "\n",
      "### Day 1: Arrival in New York City\n",
      "- **Check-In**: Arrive and check in to your hotel.\n",
      "- **Central Park**: Take a leisurely stroll through Central Park. Consider renting a bike or taking a carriage ride.\n",
      "- **Evening**: Enjoy dinner at a classic NYC restaurant, such as **Katz's Delicatessen** or **Carbone**.\n",
      "\n",
      "### Day 2: Iconic Landmarks\n",
      "- **Morning**: Breakfast at a local diner.\n",
      "- **Statue of Liberty & Ellis Island**: Take a ferry to visit these iconic landmarks.\n",
      "- **Afternoon**: Explore Wall Street and visit the 9/11 Memorial & Museum.\n",
      "- **Evening**: Dinner in the Financial District followed by a walk across the Brooklyn Bridge at sunset.\n",
      "\n",
      "### Day 3: Culture and Arts\n",
      "- **Morning**: Visit The Metropolitan Museum of Art (The Met) and spend a few hours exploring its vast collection.\n",
      "- **Afternoon**: Head to Times Square for lunch and the buzz of the city.\n",
      "- **Broadway Show**: Catch a Broadway show in the evening. Be sure to book tickets in advance!\n",
      "\n",
      "### Day 4: Explore Neighborhoods\n",
      "- **Morning**: Head to SoHo for brunch and shopping in its chic boutiques.\n",
      "- **Afternoon**: Explore Greenwich Village, known for its bohemian atmosphere and history.\n",
      "- **Evening**: Enjoy dinner in the West Village, perhaps at **Buvette** or **Minetta Tavern**.\n",
      "\n",
      "### Day 5: Departure\n",
      "- **Last-minute Shopping**: Spend your last morning shopping at Fifth Avenue or head to Chelsea Market for food and souvenirs.\n",
      "- **Check-Out**: Depart for your journey home.\n",
      "\n",
      "### Tips\n",
      "- Utilize the subway for efficient travel around the city.\n",
      "- Make reservations for popular restaurants and attractions ahead of time!\n",
      "\n",
      "Enjoy your trip to New York City!\r\n"
     ]
    }
   ],
   "source": [
    "Console.WriteLine(await agent.RunAsync(\"I don't like that destination. Plan me another vacation.\",thread));"
   ]
  },
  {
   "cell_type": "markdown",
   "metadata": {},
   "source": [
    "\n---\n\n**Descargo de responsabilidad**:  \nEste documento ha sido traducido utilizando el servicio de traducción automática [Co-op Translator](https://github.com/Azure/co-op-translator). Aunque nos esforzamos por garantizar la precisión, tenga en cuenta que las traducciones automatizadas pueden contener errores o imprecisiones. El documento original en su idioma nativo debe considerarse como la fuente autorizada. Para información crítica, se recomienda una traducción profesional realizada por humanos. No nos hacemos responsables de malentendidos o interpretaciones erróneas que puedan surgir del uso de esta traducción.\n"
   ]
  }
 ],
 "metadata": {
  "kernelspec": {
   "display_name": ".NET (C#)",
   "language": "C#",
   "name": ".net-csharp"
  },
  "language_info": {
   "name": "polyglot-notebook"
  },
  "polyglot_notebook": {
   "kernelInfo": {
    "defaultKernelName": "csharp",
    "items": [
     {
      "aliases": [],
      "name": "csharp"
     }
    ]
   }
  },
  "coopTranslator": {
   "original_hash": "070c1d8985b3dc6e6d977f3e891037f1",
   "translation_date": "2025-10-01T22:13:41+00:00",
   "source_file": "03-agentic-design-patterns/code_samples/03-dotnet-agent-framework.ipynb",
   "language_code": "es"
  }
 },
 "nbformat": 4,
 "nbformat_minor": 5
}