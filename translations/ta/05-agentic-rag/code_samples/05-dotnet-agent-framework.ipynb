{
 "cells": [
  {
   "cell_type": "markdown",
   "id": "44b5899e",
   "metadata": {},
   "source": [
    "# 🔍 Azure AI Foundry (.NET) உடன் நிறுவன RAG\n",
    "\n",
    "## 📋 கற்றல் நோக்கங்கள்\n",
    "\n",
    "இந்த நோட்புக் மூலம் Microsoft Agent Framework மற்றும் Azure AI Foundry-ஐ பயன்படுத்தி நிறுவன தர Retrieval-Augmented Generation (RAG) அமைப்புகளை உருவாக்குவது எப்படி என்பதை நீங்கள் கற்றுக்கொள்வீர்கள். ஆவணங்களைத் தேடி, சரியான மற்றும் சூழ்நிலை உணர்வு கொண்ட பதில்களை வழங்கும் உற்பத்தி-தகுதி வாய்ந்த முகவர்களை உருவாக்குவது எப்படி என்பதையும் நீங்கள் கற்றுக்கொள்வீர்கள்.\n",
    "\n",
    "**நீங்கள் உருவாக்கும் நிறுவன RAG திறன்கள்:**\n",
    "- 📚 **ஆவண நுண்ணறிவு**: Azure AI சேவைகளுடன் மேம்பட்ட ஆவண செயலாக்கம்\n",
    "- 🔍 **அர்த்தமுள்ள தேடல்**: நிறுவன அம்சங்களுடன் கூடிய உயர் செயல்திறன் கொண்ட வெக்டர் தேடல்\n",
    "- 🛡️ **பாதுகாப்பு ஒருங்கிணைவு**: பங்கு அடிப்படையிலான அணுகல் மற்றும் தரவுப் பாதுகாப்பு முறை\n",
    "- 🏢 **அளவீட்டு கட்டமைப்பு**: கண்காணிப்புடன் கூடிய உற்பத்தி-தகுதி வாய்ந்த RAG அமைப்புகள்\n",
    "\n",
    "## 🎯 நிறுவன RAG கட்டமைப்பு\n",
    "\n",
    "### முக்கிய நிறுவன கூறுகள்\n",
    "- **Azure AI Foundry**: பாதுகாப்பு மற்றும் இணக்கத்துடன் கூடிய நிர்வகிக்கப்படும் நிறுவன AI தளம்\n",
    "- **நிலையான முகவர்கள்**: உரையாடல் வரலாறு மற்றும் சூழ்நிலை மேலாண்மையுடன் கூடிய நிலையான முகவர்கள்\n",
    "- **வெக்டர் சேமிப்பு மேலாண்மை**: நிறுவன தர ஆவண குறியீட்டும் மீட்பும்\n",
    "- **அடையாள ஒருங்கிணைவு**: Azure AD அங்கீகாரம் மற்றும் பங்கு அடிப்படையிலான அணுகல் கட்டுப்பாடு\n",
    "\n",
    "### .NET நிறுவன நன்மைகள்\n",
    "- **வகை பாதுகாப்பு**: RAG செயல்பாடுகள் மற்றும் தரவமைப்புகளுக்கான தொகுப்பு நேர சரிபார்ப்பு\n",
    "- **அசிங்க்ரோனஸ் செயல்திறன்**: தடை இல்லாத ஆவண செயலாக்கம் மற்றும் தேடல் செயல்பாடுகள்\n",
    "- **நினைவக மேலாண்மை**: பெரிய ஆவணத் தொகுப்புகளுக்கான திறமையான வள பயன்பாடு\n",
    "- **ஒருங்கிணைப்பு முறை**: சார்பு செருகலுடன் Azure சேவைகளின் சொந்த ஒருங்கிணைப்பு\n",
    "\n",
    "## 🏗️ தொழில்நுட்ப கட்டமைப்பு\n",
    "\n",
    "### நிறுவன RAG குழாய்\n",
    "```csharp\n",
    "Document Upload → Security Validation → Vector Processing → Index Creation\n",
    "                      ↓                    ↓                  ↓\n",
    "User Query → Authentication → Semantic Search → Context Ranking → AI Response\n",
    "```\n",
    "\n",
    "### முக்கிய .NET கூறுகள்\n",
    "- **Azure.AI.Agents.Persistent**: நிலையான முகவர் மேலாண்மை\n",
    "- **Azure.Identity**: பாதுகாப்பான Azure சேவை அணுகலுக்கான ஒருங்கிணைந்த அங்கீகாரம்\n",
    "- **Microsoft.Agents.AI.AzureAI**: Azure-க்கு உகந்த முகவர் கட்டமைப்பு செயலாக்கம்\n",
    "- **System.Linq.Async**: உயர் செயல்திறன் கொண்ட அசிங்க்ரோனஸ் LINQ செயல்பாடுகள்\n",
    "\n",
    "## 🔧 நிறுவன அம்சங்கள் மற்றும் நன்மைகள்\n",
    "\n",
    "### பாதுகாப்பு மற்றும் இணக்கம்\n",
    "- **Azure AD ஒருங்கிணைவு**: நிறுவன அடையாள மேலாண்மை மற்றும் அங்கீகாரம்\n",
    "- **பங்கு அடிப்படையிலான அணுகல்**: ஆவண அணுகல் மற்றும் செயல்பாடுகளுக்கான நுணுக்கமான அனுமதிகள்\n",
    "- **தரவு பாதுகாப்பு**: நுண்ணறிவு ஆவணங்களுக்கான குறியாக்கம்\n",
    "- **ஆடிட் பதிவு**: இணக்கத்திற்கான விரிவான செயல்பாட்டு கண்காணிப்பு\n",
    "\n",
    "### செயல்திறன் மற்றும் அளவீடு\n",
    "- **கணிணி இணைப்பு பகிர்வு**: திறமையான Azure சேவை இணைப்பு மேலாண்மை\n",
    "- **அசிங்க்ரோனஸ் செயலாக்கம்**: உயர் திறன் சூழல்களுக்கு தடை இல்லாத செயல்பாடுகள்\n",
    "- **கேஷிங் உத்திகள்**: அடிக்கடி அணுகப்படும் ஆவணங்களுக்கு புத்திசாலித்தனமான கேஷிங்\n",
    "- **சுமை சமநிலை**: பெரிய அளவிலான பிரச்சாரங்களுக்கு பகிர்ந்த செயலாக்கம்\n",
    "\n",
    "### மேலாண்மை மற்றும் கண்காணிப்பு\n",
    "- **ஆரோக்கிய சோதனைகள்**: RAG அமைப்பு கூறுகளுக்கான உள்ளமைக்கப்பட்ட கண்காணிப்பு\n",
    "- **செயல்திறன் அளவுகோல்கள்**: தேடல் தரம் மற்றும் பதில் நேரங்கள் பற்றிய விரிவான பகுப்பாய்வு\n",
    "- **பிழை கையாளுதல்**: மீண்டும் முயற்சி கொள்கைகளுடன் கூடிய விரிவான தவறு மேலாண்மை\n",
    "- **கட்டமைப்பு மேலாண்மை**: சூழல்-சிறப்பு அமைப்புகள் மற்றும் சரிபார்ப்பு\n",
    "\n",
    "## ⚙️ முன்னோட்டம் மற்றும் அமைப்பு\n",
    "\n",
    "**மேம்பாட்டு சூழல்:**\n",
    "- .NET 9.0 SDK அல்லது அதற்கு மேல்\n",
    "- Visual Studio 2022 அல்லது VS Code (C# நீட்டிப்புடன்)\n",
    "- Azure சந்தா (AI Foundry அணுகலுடன்)\n",
    "\n",
    "**தேவையான NuGet தொகுப்புகள்:**\n",
    "```xml\n",
    "<PackageReference Include=\"Microsoft.Extensions.AI\" Version=\"9.9.0\" />\n",
    "<PackageReference Include=\"Azure.AI.Agents.Persistent\" Version=\"1.2.0-beta.5\" />\n",
    "<PackageReference Include=\"Azure.Identity\" Version=\"1.15.0\" />\n",
    "<PackageReference Include=\"System.Linq.Async\" Version=\"6.0.3\" />\n",
    "<PackageReference Include=\"DotNetEnv\" Version=\"3.1.1\" />\n",
    "```\n",
    "\n",
    "**Azure அங்கீகார அமைப்பு:**\n",
    "```bash\n",
    "# Install Azure CLI and authenticate\n",
    "az login\n",
    "az account set --subscription \"your-subscription-id\"\n",
    "```\n",
    "\n",
    "**சூழல் கட்டமைப்பு (.env கோப்பு):**\n",
    "```env\n",
    "# Azure AI Foundry configuration (automatically handled via Azure CLI)\n",
    "# Ensure you're authenticated to the correct Azure subscription\n",
    "```\n",
    "\n",
    "## 📊 நிறுவன RAG முறைமைகள்\n",
    "\n",
    "### ஆவண மேலாண்மை முறைமைகள்\n",
    "- **மொத்த பதிவேற்றம்**: பெரிய ஆவணத் தொகுப்புகளை திறமையாக செயலாக்குதல்\n",
    "- **தொடர்ச்சியான புதுப்பிப்புகள்**: நேரடி ஆவண சேர்க்கை மற்றும் மாற்றம்\n",
    "- **பதிப்பு கட்டுப்பாடு**: ஆவண பதிப்பு மற்றும் மாற்ற கண்காணிப்பு\n",
    "- **மெட்டாடேட்டா மேலாண்மை**: செறிவூட்டப்பட்ட ஆவண பண்புகள் மற்றும் வர்க்கம்\n",
    "\n",
    "### தேடல் மற்றும் மீட்பு முறைமைகள்\n",
    "- **கலப்பு தேடல்**: அர்த்தமுள்ள மற்றும் முக்கிய வார்த்தை தேடலின் சேர்க்கை\n",
    "- **பகுப்பாய்வு தேடல்**: பல பரிமாண வடிகட்டி மற்றும் வகைப்படுத்தல்\n",
    "- **தகுதி அமைத்தல்**: துறைக்கு உகந்த மதிப்பீட்டு க்கான தனிப்பயன் மதிப்பீட்டு க்குறியீடுகள்\n",
    "- **முடிவுகள் தரவரிசை**: வணிக தர்க்க ஒருங்கிணைப்புடன் மேம்பட்ட தரவரிசை\n",
    "\n",
    "### பாதுகாப்பு முறைமைகள்\n",
    "- **ஆவண நில பாதுகாப்பு**: ஒவ்வொரு ஆவணத்திற்கும் நுணுக்கமான அணுகல் கட்டுப்பாடு\n",
    "- **தரவு வகைப்படுத்தல்**: தானியங்கி உணர்திறன் லேபிளிங் மற்றும் பாதுகாப்பு\n",
    "- **ஆடிட் தடங்கள்**: அனைத்து RAG செயல்பாடுகளின் விரிவான பதிவு\n",
    "- **தனியுரிமை பாதுகாப்பு**: PII கண்டறிதல் மற்றும் மறைப்பு திறன்கள்\n",
    "\n",
    "## 🔒 நிறுவன பாதுகாப்பு அம்சங்கள்\n",
    "\n",
    "### அங்கீகாரம் மற்றும் அனுமதி\n",
    "```csharp\n",
    "// Azure AD integrated authentication\n",
    "var credential = new AzureCliCredential();\n",
    "var agentsClient = new PersistentAgentsClient(endpoint, credential);\n",
    "\n",
    "// Role-based access validation\n",
    "if (!await ValidateUserPermissions(user, documentId))\n",
    "{\n",
    "    throw new UnauthorizedAccessException(\"Insufficient permissions\");\n",
    "}\n",
    "```\n",
    "\n",
    "### தரவு பாதுகாப்பு\n",
    "- **குறியாக்கம்**: ஆவணங்கள் மற்றும் தேடல் குறியீடுகளுக்கான முழுமையான குறியாக்கம்\n",
    "- **அணுகல் கட்டுப்பாடுகள்**: பயனர் மற்றும் குழு அனுமதிகளுக்கான Azure AD ஒருங்கிணைவு\n",
    "- **தரவு இருப்பிடங்கள்**: இணக்கத்திற்கான புவியியல் தரவிடமாற்று கட்டுப்பாடுகள்\n",
    "- **காப்புப்பிரதி மற்றும் மீட்பு**: தானியங்கி காப்புப்பிரதி மற்றும் பேரழிவு மீட்பு திறன்கள்\n",
    "\n",
    "## 📈 செயல்திறன் மேம்பாடு\n",
    "\n",
    "### அசிங்க்ரோனஸ் செயலாக்க முறைமைகள்\n",
    "```csharp\n",
    "// Efficient async document processing\n",
    "await foreach (var document in documentStream.AsAsyncEnumerable())\n",
    "{\n",
    "    await ProcessDocumentAsync(document, cancellationToken);\n",
    "}\n",
    "```\n",
    "\n",
    "### நினைவக மேலாண்மை\n",
    "- **ஸ்ட்ரீமிங் செயலாக்கம்**: நினைவக சிக்கலின்றி பெரிய ஆவணங்களை கையாளுதல்\n",
    "- **வள பகிர்வு**: செலவான வளங்களை திறமையாக மீண்டும் பயன்படுத்துதல்\n",
    "- **கார்பேஜ் சேகரிப்பு**: மேம்பட்ட நினைவக ஒதுக்கீடு முறைமைகள்\n",
    "- **இணைப்பு மேலாண்மை**: சரியான Azure சேவை இணைப்பு வாழ்க்கைச் சுழற்சி\n",
    "\n",
    "### கேஷிங் உத்திகள்\n",
    "- **வினா கேஷிங்**: அடிக்கடி செயல்படுத்தப்படும் தேடல்களை கேஷ் செய்யவும்\n",
    "- **ஆவண கேஷிங்**: அதிகமாக அணுகப்படும் ஆவணங்களுக்கு நினைவக கேஷிங்\n",
    "- **குறியீட்டு கேஷிங்**: மேம்பட்ட வெக்டர் குறியீட்டு கேஷிங்\n",
    "- **முடிவு கேஷிங்**: உருவாக்கப்பட்ட பதில்களின் புத்திசாலித்தனமான கேஷிங்\n",
    "\n",
    "## 📊 நிறுவன பயன்பாடுகள்\n",
    "\n",
    "### அறிவு மேலாண்மை\n",
    "- **நிறுவன விக்கி**: நிறுவன அறிவு அடுக்குகளுக்கு மேல் நுண்ணறிவு தேடல்\n",
    "- **கொள்கை மற்றும் நடைமுறைகள்**: தானியங்கி இணக்கம் மற்றும் நடைமுறை வழிகாட்டுதல்\n",
    "- **பயிற்சி பொருட்கள்**: நுண்ணறிவு கற்றல் மற்றும் மேம்பாட்டு உதவி\n",
    "- **ஆராய்ச்சி தரவுத்தொகுப்புகள்**: கல்வி மற்றும் ஆராய்ச்சி ஆவண பகுப்பாய்வு அமைப்புகள்\n",
    "\n",
    "### வாடிக்கையாளர் ஆதரவு\n",
    "- **ஆதரவு அறிவு அடுக்குகள்**: தானியங்கி வாடிக்கையாளர் சேவை பதில்கள்\n",
    "- **தயாரிப்பு ஆவணங்கள்**: தயாரிப்பு தகவல் நுண்ணறிவு மீட்பு\n",
    "- **பிரச்சினை தீர்வு வழிகாட்டிகள்**: சூழ்நிலை பிரச்சினை தீர்வு உதவி\n",
    "- **FAQ அமைப்புகள்**: ஆவணத் தொகுப்புகளிலிருந்து மாறும் FAQ உருவாக்கம்\n",
    "\n",
    "### ஒழுங்குமுறை இணக்கம்\n",
    "- **சட்ட ஆவண பகுப்பாய்வு**: ஒப்பந்தம் மற்றும் சட்ட ஆவண நுண்ணறிவு\n",
    "- **இணக்கத்தன்மை கண்காணிப்பு**: தானியங்கி ஒழுங்குமுறை இணக்கம் சரிபார்ப்பு\n",
    "- **ஆபத்து மதிப்பீடு**: ஆவண அடிப்படையிலான ஆபத்து பகுப்பாய்வு மற்றும் அறிக்கை\n",
    "- **ஆடிட் ஆதரவு**: ஆடிட்களுக்கான நுண்ணறிவு ஆவண கண்டுபிடிப்பு\n",
    "\n",
    "## 🚀 உற்பத்தி நிறைவேற்றம்\n",
    "\n",
    "### கண்காணிப்பு மற்றும் பார்வையிடல்\n",
    "- **ஆபரேஷன் இன்சைட்ஸ்**: விரிவான தொலைநோக்கு மற்றும் செயல்திறன் கண்காணிப்பு\n",
    "- **தனிப்பயன் அளவுகோல்கள்**: வணிக-சிறப்பு KPI கண்காணிப்பு மற்றும் எச்சரிக்கை\n",
    "- **விநியோகித்த தடயங்கள்**: சேவைகளின் முழு கோரிக்கை கண்காணிப்பு\n",
    "- **ஆரோக்கிய டாஷ்போர்டுகள்**: நேரடி அமைப்பு ஆரோக்கியம் மற்றும் செயல்திறன் காட்சிப்படுத்தல்\n",
    "\n",
    "### அளவீடு மற்றும் நம்பகத்தன்மை\n",
    "- **தானியங்கி அளவீடு**: சுமை மற்றும் செயல்திறன் அளவுகோல்களின் அடிப்படையில் தானியங்கி அளவீடு\n",
    "- **உயர் கிடைக்கும் தன்மை**: பல பிராந்திய அமைப்புடன் தோல்வி மீட்பு திறன்கள்\n",
    "- **சுமை சோதனை**: நிறுவன சுமை நிலைகளின் கீழ் செயல்திறன் சரிபார்ப்பு\n",
    "- **பேரழிவு மீட்பு**: தானியங்கி காப்புப்பிரதி மற்றும் மீட்பு நடைமுறைகள்\n",
    "\n",
    "நிறுவன அளவிலான RAG அமைப்புகளை உருவாக்க தயாரா? உணர்திறன் வாய்ந்த அறிவு அமைப்புகளை உருவாக்குவோம்! 🏢📖✨\n"
   ]
  },
  {
   "cell_type": "code",
   "execution_count": 1,
   "metadata": {
    "language_info": {
     "name": "polyglot-notebook"
    },
    "polyglot_notebook": {
     "kernelName": "csharp"
    }
   },
   "outputs": [
    {
     "data": {
      "text/html": [
       "<div><div></div><div></div><div><strong>Installed Packages</strong><ul><li><span>Microsoft.Extensions.AI, 9.9.1</span></li></ul></div></div>"
      ]
     },
     "metadata": {},
     "output_type": "display_data"
    }
   ],
   "source": [
    "#r \"nuget: Microsoft.Extensions.AI, 9.9.1\""
   ]
  },
  {
   "cell_type": "code",
   "execution_count": 2,
   "id": "4ec1f0d1",
   "metadata": {
    "language_info": {
     "name": "polyglot-notebook"
    },
    "polyglot_notebook": {
     "kernelName": "csharp"
    }
   },
   "outputs": [
    {
     "data": {
      "text/html": [
       "<div><div></div><div></div><div><strong>Installed Packages</strong><ul><li><span>Azure.AI.Agents.Persistent, 1.2.0-beta.5</span></li><li><span>Azure.Identity, 1.15.0</span></li><li><span>System.Linq.Async, 6.0.3</span></li></ul></div></div>"
      ]
     },
     "metadata": {},
     "output_type": "display_data"
    }
   ],
   "source": [
    "#r \"nuget: Azure.AI.Agents.Persistent, 1.2.0-beta.5\"\n",
    "#r \"nuget: Azure.Identity, 1.15.0\"\n",
    "#r \"nuget: System.Linq.Async, 6.0.3\""
   ]
  },
  {
   "cell_type": "code",
   "execution_count": 3,
   "id": "2363ae07",
   "metadata": {
    "language_info": {
     "name": "polyglot-notebook"
    },
    "polyglot_notebook": {
     "kernelName": "csharp"
    }
   },
   "outputs": [],
   "source": []
  },
  {
   "cell_type": "code",
   "execution_count": null,
   "id": "d10cec9d",
   "metadata": {
    "language_info": {
     "name": "polyglot-notebook"
    },
    "polyglot_notebook": {
     "kernelName": "csharp"
    }
   },
   "outputs": [
    {
     "data": {
      "text/html": [
       "<div><div></div><div></div><div><strong>Installed Packages</strong><ul><li><span>Microsoft.Agents.AI.AzureAI, 1.0.0-preview.251001.2</span></li></ul></div></div>"
      ]
     },
     "metadata": {},
     "output_type": "display_data"
    }
   ],
   "source": [
    "#r \"nuget: Microsoft.Agents.AI.AzureAI, 1.0.0-preview.251001.3\""
   ]
  },
  {
   "cell_type": "code",
   "execution_count": null,
   "id": "78199d1c",
   "metadata": {
    "language_info": {
     "name": "polyglot-notebook"
    },
    "polyglot_notebook": {
     "kernelName": "csharp"
    }
   },
   "outputs": [
    {
     "data": {
      "text/html": [
       "<div><div></div><div></div><div><strong>Installed Packages</strong><ul><li><span>microsoft.agents.ai, 1.0.0-preview.251001.2</span></li></ul></div></div>"
      ]
     },
     "metadata": {},
     "output_type": "display_data"
    }
   ],
   "source": [
    "#r \"nuget: Microsoft.Agents.AI, 1.0.0-preview.251001.3\""
   ]
  },
  {
   "cell_type": "code",
   "execution_count": 6,
   "id": "7de4684a",
   "metadata": {
    "language_info": {
     "name": "polyglot-notebook"
    },
    "polyglot_notebook": {
     "kernelName": "csharp"
    }
   },
   "outputs": [
    {
     "data": {
      "text/html": [
       "<div><div></div><div></div><div><strong>Installed Packages</strong><ul><li><span>DotNetEnv, 3.1.1</span></li></ul></div></div>"
      ]
     },
     "metadata": {},
     "output_type": "display_data"
    }
   ],
   "source": [
    "#r \"nuget: DotNetEnv, 3.1.1\""
   ]
  },
  {
   "cell_type": "code",
   "execution_count": 7,
   "id": "251efd31",
   "metadata": {
    "language_info": {
     "name": "polyglot-notebook"
    },
    "polyglot_notebook": {
     "kernelName": "csharp"
    }
   },
   "outputs": [],
   "source": [
    "using System;\n",
    "using System.Linq;\n",
    "using Azure.AI.Agents.Persistent;\n",
    "using Azure.Identity;\n",
    "using Microsoft.Agents.AI;"
   ]
  },
  {
   "cell_type": "code",
   "execution_count": 8,
   "id": "a2e342f1",
   "metadata": {
    "language_info": {
     "name": "polyglot-notebook"
    },
    "polyglot_notebook": {
     "kernelName": "csharp"
    }
   },
   "outputs": [],
   "source": [
    " using DotNetEnv;"
   ]
  },
  {
   "cell_type": "code",
   "execution_count": 9,
   "id": "a7a01653",
   "metadata": {
    "language_info": {
     "name": "polyglot-notebook"
    },
    "polyglot_notebook": {
     "kernelName": "csharp"
    }
   },
   "outputs": [],
   "source": [
    "Env.Load(\"../../../.env\");"
   ]
  },
  {
   "cell_type": "code",
   "execution_count": 10,
   "id": "a42735d5",
   "metadata": {
    "language_info": {
     "name": "polyglot-notebook"
    },
    "polyglot_notebook": {
     "kernelName": "csharp"
    }
   },
   "outputs": [],
   "source": [
    "var azure_foundry_endpoint = Environment.GetEnvironmentVariable(\"AZURE_AI_PROJECT_ENDPOINT\") ?? throw new InvalidOperationException(\"AZURE_AI_PROJECT_ENDPOINT is not set.\");\n",
    "var azure_foundry_model_id = Environment.GetEnvironmentVariable(\"AZURE_AI_MODEL_DEPLOYMENT_NAME\") ?? \"gpt-4.1-mini\";"
   ]
  },
  {
   "cell_type": "code",
   "execution_count": 11,
   "id": "e29bdb58",
   "metadata": {
    "language_info": {
     "name": "polyglot-notebook"
    },
    "polyglot_notebook": {
     "kernelName": "csharp"
    }
   },
   "outputs": [],
   "source": [
    "string pdfPath = \"./document.md\";"
   ]
  },
  {
   "cell_type": "code",
   "execution_count": 12,
   "id": "7351e12d",
   "metadata": {
    "language_info": {
     "name": "polyglot-notebook"
    },
    "polyglot_notebook": {
     "kernelName": "csharp"
    }
   },
   "outputs": [],
   "source": [
    "using System.IO;\n",
    "\n",
    "async Task<Stream> OpenImageStreamAsync(string path)\n",
    "{\n",
    "\treturn await Task.Run(() => File.OpenRead(path));\n",
    "}\n",
    "\n",
    "var pdfStream = await OpenImageStreamAsync(pdfPath);"
   ]
  },
  {
   "cell_type": "code",
   "execution_count": 13,
   "id": "0b6bf484",
   "metadata": {
    "language_info": {
     "name": "polyglot-notebook"
    },
    "polyglot_notebook": {
     "kernelName": "csharp"
    }
   },
   "outputs": [],
   "source": [
    "var persistentAgentsClient = new PersistentAgentsClient(azure_foundry_endpoint, new AzureCliCredential());"
   ]
  },
  {
   "cell_type": "code",
   "execution_count": 14,
   "id": "81e0dddc",
   "metadata": {
    "language_info": {
     "name": "polyglot-notebook"
    },
    "polyglot_notebook": {
     "kernelName": "csharp"
    }
   },
   "outputs": [],
   "source": [
    "PersistentAgentFileInfo fileInfo = await persistentAgentsClient.Files.UploadFileAsync(pdfStream, PersistentAgentFilePurpose.Agents, \"demo.md\");"
   ]
  },
  {
   "cell_type": "code",
   "execution_count": 15,
   "id": "f0c75d80",
   "metadata": {
    "language_info": {
     "name": "polyglot-notebook"
    },
    "polyglot_notebook": {
     "kernelName": "csharp"
    }
   },
   "outputs": [],
   "source": [
    "PersistentAgentsVectorStore fileStore =\n",
    "            await persistentAgentsClient.VectorStores.CreateVectorStoreAsync(\n",
    "                [fileInfo.Id],\n",
    "                metadata: new Dictionary<string, string>() { { \"agentkey\", bool.TrueString } });"
   ]
  },
  {
   "cell_type": "code",
   "execution_count": 16,
   "id": "c77986c5",
   "metadata": {
    "language_info": {
     "name": "polyglot-notebook"
    },
    "polyglot_notebook": {
     "kernelName": "csharp"
    }
   },
   "outputs": [],
   "source": [
    "PersistentAgent agentModel = await persistentAgentsClient.Administration.CreateAgentAsync(\n",
    "            azure_foundry_model_id,\n",
    "            name: \"DotNetRAGAgent\",\n",
    "            tools: [new FileSearchToolDefinition()],\n",
    "            instructions: \"\"\"\n",
    "                You are an AI assistant designed to answer user questions using only the information retrieved from the provided document(s).\n",
    "\n",
    "                - If a user's question cannot be answered using the retrieved context, **you must clearly respond**: \n",
    "                \"I'm sorry, but the uploaded document does not contain the necessary information to answer that question.\"\n",
    "                - Do not answer from general knowledge or reasoning. Do not make assumptions or generate hypothetical explanations.\n",
    "                - Do not provide definitions, tutorials, or commentary that is not explicitly grounded in the content of the uploaded file(s).\n",
    "                - If a user asks a question like \"What is a Neural Network?\", and this is not discussed in the uploaded document, respond as instructed above.\n",
    "                - For questions that do have relevant content in the document (e.g., Contoso's travel insurance coverage), respond accurately, and cite the document explicitly.\n",
    "\n",
    "                You must behave as if you have no external knowledge beyond what is retrieved from the uploaded document.\n",
    "                \"\"\",\n",
    "            toolResources: new()\n",
    "            {\n",
    "                FileSearch = new()\n",
    "                {\n",
    "                    VectorStoreIds = { fileStore.Id },\n",
    "                }\n",
    "            },\n",
    "            metadata: new Dictionary<string, string>() { { \"agentkey\", bool.TrueString } });"
   ]
  },
  {
   "cell_type": "code",
   "execution_count": 17,
   "id": "282326cf",
   "metadata": {
    "language_info": {
     "name": "polyglot-notebook"
    },
    "polyglot_notebook": {
     "kernelName": "csharp"
    }
   },
   "outputs": [],
   "source": [
    "AIAgent agent = await persistentAgentsClient.GetAIAgentAsync(agentModel.Id);"
   ]
  },
  {
   "cell_type": "code",
   "execution_count": 18,
   "id": "2067d313",
   "metadata": {
    "language_info": {
     "name": "polyglot-notebook"
    },
    "polyglot_notebook": {
     "kernelName": "csharp"
    }
   },
   "outputs": [],
   "source": [
    "AgentThread thread = agent.GetNewThread();"
   ]
  },
  {
   "cell_type": "code",
   "execution_count": 19,
   "id": "454c4230",
   "metadata": {
    "language_info": {
     "name": "polyglot-notebook"
    },
    "polyglot_notebook": {
     "kernelName": "csharp"
    }
   },
   "outputs": [
    {
     "name": "stdout",
     "output_type": "stream",
     "text": [
      "Contoso's travel insurance coverage includes protection for medical emergencies, trip cancellations, and lost baggage. This ensures that travelers are supported in case of health-related issues during their trip, unforeseen cancellations, and the loss of their belongings while traveling【4:0†demo.md】.\r\n"
     ]
    }
   ],
   "source": [
    "Console.WriteLine(await agent.RunAsync(\"Can you explain Contoso's travel insurance coverage?\", thread));"
   ]
  },
  {
   "cell_type": "markdown",
   "metadata": {},
   "source": [
    "\n---\n\n**குறிப்பு**:  \nஇந்த ஆவணம் [Co-op Translator](https://github.com/Azure/co-op-translator) என்ற AI மொழிபெயர்ப்பு சேவையைப் பயன்படுத்தி மொழிபெயர்க்கப்பட்டுள்ளது. நாங்கள் துல்லியத்திற்காக முயற்சிக்கின்றோம், ஆனால் தானியங்கி மொழிபெயர்ப்புகளில் பிழைகள் அல்லது தவறான தகவல்கள் இருக்கக்கூடும் என்பதை தயவுசெய்து கவனத்தில் கொள்ளுங்கள். அதன் தாய்மொழியில் உள்ள மூல ஆவணம் அதிகாரப்பூர்வ ஆதாரமாக கருதப்பட வேண்டும். முக்கியமான தகவல்களுக்கு, தொழில்முறை மனித மொழிபெயர்ப்பு பரிந்துரைக்கப்படுகிறது. இந்த மொழிபெயர்ப்பைப் பயன்படுத்துவதால் ஏற்படும் எந்த தவறான புரிதல்கள் அல்லது தவறான விளக்கங்களுக்கு நாங்கள் பொறுப்பல்ல.\n"
   ]
  }
 ],
 "metadata": {
  "kernelspec": {
   "display_name": ".NET (C#)",
   "language": "C#",
   "name": ".net-csharp"
  },
  "language_info": {
   "name": "polyglot-notebook"
  },
  "polyglot_notebook": {
   "kernelInfo": {
    "defaultKernelName": "csharp",
    "items": [
     {
      "aliases": [],
      "name": "csharp"
     }
    ]
   }
  },
  "coopTranslator": {
   "original_hash": "e4584fa31638009dc6fb665275de8fc2",
   "translation_date": "2025-10-11T11:35:05+00:00",
   "source_file": "05-agentic-rag/code_samples/05-dotnet-agent-framework.ipynb",
   "language_code": "ta"
  }
 },
 "nbformat": 4,
 "nbformat_minor": 5
}