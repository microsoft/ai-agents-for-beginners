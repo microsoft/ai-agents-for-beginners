{
 "cells": [
  {
   "cell_type": "markdown",
   "metadata": {},
   "source": [
    "# செலவுக் கோரிக்கை பகுப்பாய்வு\n",
    "\n",
    "இந்த நோட்புக் ஒரு பயண செலவுகளை உள்ளூர் ரசீது படங்களிலிருந்து செயலாக்க, செலவுக் கோரிக்கை மின்னஞ்சலை உருவாக்க, மற்றும் செலவுக் தரவுகளை ஒரு வட்ட диаграмம் மூலம் காட்சிப்படுத்த பிளகின்களைப் பயன்படுத்தும் முகவர்களை உருவாக்குவது எப்படி என்பதை விளக்குகிறது. முகவர்கள் பணியின் சூழ்நிலைக்கு ஏற்ப செயல்பாடுகளை தானாகத் தேர்ந்தெடுக்கின்றன.\n",
    "\n",
    "படிகள்:\n",
    "1. OCR முகவர் உள்ளூர் ரசீது படத்தை செயலாக்கி பயண செலவுத் தரவுகளை எடுக்கிறது.\n",
    "2. மின்னஞ்சல் முகவர் செலவுக் கோரிக்கை மின்னஞ்சலை உருவாக்குகிறது.\n",
    "\n",
    "### ஒரு பயண செலவுத் சூழ்நிலையின் உதாரணம்:\n",
    "நீங்கள் ஒரு ஊழியராக மற்றொரு நகரத்தில் வணிகக் கூட்டத்திற்காக பயணம் செய்கிறீர்கள் என்று கற்பனை செய்யுங்கள். உங்கள் நிறுவனம் அனைத்து நியாயமான பயண தொடர்பான செலவுகளை ஈடு செய்யும் கொள்கையை கொண்டுள்ளது. இங்கே சாத்தியமான பயண செலவுகளின் விவரக்குறிப்பு உள்ளது:\n",
    "- **போக்குவரத்து:**\n",
    "உங்கள் வீட்டுப் நகரத்திலிருந்து இலக்கு நகரத்திற்கு சுற்றுப்பயண விமானக் கட்டணம்.\n",
    "விமான நிலையத்திற்கும், விமான நிலையத்திலிருந்து டாக்ஸி அல்லது ரைடு-ஹெய்லிங் சேவைகள்.\n",
    "இலக்கு நகரத்தில் உள்ள உள்ளூர் போக்குவரத்து (பொது போக்குவரத்து, வாடகை கார்கள், அல்லது டாக்ஸிகள் போன்றவை).\n",
    "\n",
    "- **வசதி:**\n",
    "கூட்டம் நடைபெறும் இடத்திற்கு அருகிலுள்ள நடுத்தர வர்க்க வணிக ஹோட்டலில் மூன்று இரவுகள் தங்கும் செலவு.\n",
    "\n",
    "- **உணவு:**\n",
    "நிறுவனத்தின் தினசரி உணவுக்கான கொள்கையின் அடிப்படையில் காலை உணவு, மதிய உணவு, மற்றும் இரவு உணவுக்கான தினசரி அனுமதி.\n",
    "\n",
    "- **பொது செலவுகள்:**\n",
    "விமான நிலையத்தில் பார்க்கிங் கட்டணங்கள்.\n",
    "ஹோட்டலில் இணைய அணுகல் கட்டணங்கள்.\n",
    "உதவிக்கட்டணங்கள் அல்லது சிறிய சேவை கட்டணங்கள்.\n",
    "\n",
    "- **ஆவணங்கள்:**\n",
    "நீங்கள் அனைத்து ரசீதுகளை (விமானங்கள், டாக்ஸிகள், ஹோட்டல், உணவுகள், போன்றவை) மற்றும் பூர்த்தி செய்யப்பட்ட செலவுக் அறிக்கையை ஈடுசெய்ய சமர்ப்பிக்கிறீர்கள்.\n"
   ]
  },
  {
   "cell_type": "markdown",
   "metadata": {},
   "source": [
    "## தேவையான நூலகங்களை இறக்குமதி செய்யவும்\n",
    "\n",
    "நூட்ட்புக்கிற்கான தேவையான நூலகங்கள் மற்றும் தொகுதிகளை இறக்குமதி செய்யவும்.\n"
   ]
  },
  {
   "cell_type": "code",
   "execution_count": 1,
   "metadata": {},
   "outputs": [
    {
     "data": {
      "text/plain": [
       "True"
      ]
     },
     "execution_count": 1,
     "metadata": {},
     "output_type": "execute_result"
    }
   ],
   "source": [
    "import os\n",
    "from dotenv import load_dotenv\n",
    "from azure.ai.inference import ChatCompletionsClient\n",
    "from azure.core.credentials import AzureKeyCredential\n",
    "from semantic_kernel.kernel import Kernel\n",
    "from semantic_kernel.agents import AgentGroupChat\n",
    "from openai import AsyncOpenAI\n",
    "from semantic_kernel.agents import ChatCompletionAgent, AgentGroupChat\n",
    "\n",
    "\n",
    "from semantic_kernel.contents.utils.author_role import AuthorRole\n",
    "from semantic_kernel.agents.strategies import SequentialSelectionStrategy, DefaultTerminationStrategy\n",
    "from semantic_kernel.contents.chat_message_content import ChatMessageContent\n",
    "from semantic_kernel.contents import ImageContent, TextContent\n",
    "from semantic_kernel.connectors.ai.open_ai import OpenAIChatCompletion, OpenAIChatPromptExecutionSettings\n",
    "\n",
    "from semantic_kernel.functions import kernel_function, KernelArguments\n",
    "from pydantic import BaseModel, Field\n",
    "from typing import List\n",
    "from azure.ai.inference.models import SystemMessage, UserMessage, TextContentItem, ImageContentItem, ImageUrl, ImageDetailLevel\n",
    "\n",
    "load_dotenv()"
   ]
  },
  {
   "cell_type": "code",
   "execution_count": 2,
   "metadata": {},
   "outputs": [],
   "source": [
    "def _create_kernel_with_chat_completion(service_id: str) -> Kernel:\n",
    "    kernel = Kernel()\n",
    "   \n",
    "    client = AsyncOpenAI(\n",
    "    api_key=os.environ[\"GITHUB_TOKEN\"], base_url=\"https://models.inference.ai.azure.com/\")\n",
    "    kernel.add_service(\n",
    "        OpenAIChatCompletion(\n",
    "            ai_model_id=\"gpt-4o-mini\",\n",
    "            async_client=client,\n",
    "            service_id=\"open_ai\"\n",
    "        )\n",
    "    )\n",
    "\n",
    "    kernel.add_service(\n",
    "        OpenAIChatCompletion(\n",
    "            ai_model_id=\"gpt-4o\",\n",
    "            async_client=client,\n",
    "            service_id=\"gpt-4o\"\n",
    "        )\n",
    "    )\n",
    "\n",
    "    return kernel"
   ]
  },
  {
   "cell_type": "markdown",
   "metadata": {},
   "source": [
    "## செலவுக் மாதிரிகளை வரையறுக்கவும்\n",
    "\n",
    "தனிப்பட்ட செலவுகளுக்கான Pydantic மாதிரியை உருவாக்கவும் மற்றும் பயனர் கேள்வியை அமைவான செலவுத் தரவாக மாற்ற ExpenseFormatter வகுப்பை உருவாக்கவும்.\n",
    "\n",
    "ஒவ்வொரு செலவும் கீழே உள்ள வடிவத்தில் பிரதிநிதித்துவம் செய்யப்படும்:\n",
    "`{'date': '07-Mar-2025', 'description': 'destination-க்கு விமானம்', 'amount': 675.99, 'category': 'Transportation'}`\n"
   ]
  },
  {
   "cell_type": "code",
   "execution_count": 3,
   "metadata": {},
   "outputs": [],
   "source": [
    "class Expense(BaseModel):\n",
    "    date: str = Field(..., description=\"Date of expense in dd-MMM-yyyy format\")\n",
    "    description: str = Field(..., description=\"Expense description\")\n",
    "    amount: float = Field(..., description=\"Expense amount\")\n",
    "    category: str = Field(..., description=\"Expense category (e.g., Transportation, Meals, Accommodation, Miscellaneous)\")\n",
    "\n",
    "class ExpenseFormatter(BaseModel):\n",
    "    raw_query: str = Field(..., description=\"Raw query input containing expense details\")\n",
    "    \n",
    "    def parse_expenses(self) -> List[Expense]:\n",
    "        \"\"\"\n",
    "        Parses the raw query into a list of Expense objects.\n",
    "        Expected format: \"date|description|amount|category\" separated by semicolons.\n",
    "        \"\"\"\n",
    "        expense_list = []\n",
    "        for expense_str in self.raw_query.split(\";\"):\n",
    "            if expense_str.strip():\n",
    "                parts = expense_str.strip().split(\"|\")\n",
    "                if len(parts) == 4:\n",
    "                    date, description, amount, category = parts\n",
    "                    try:\n",
    "                        expense = Expense(\n",
    "                            date=date.strip(),\n",
    "                            description=description.strip(),\n",
    "                            amount=float(amount.strip()),\n",
    "                            category=category.strip()\n",
    "                        )\n",
    "                        expense_list.append(expense)\n",
    "                    except ValueError as e:\n",
    "                        print(f\"[LOG] Parse Error: Invalid data in '{expense_str}': {e}\")\n",
    "        return expense_list"
   ]
  },
  {
   "cell_type": "markdown",
   "metadata": {},
   "source": [
    "## முகவரிகளை வரையறுத்தல் - மின்னஞ்சலை உருவாக்குதல்\n",
    "\n",
    "செலவுக் கோரிக்கையை சமர்ப்பிக்க மின்னஞ்சல் உருவாக்க ஒரு முகவர் வகுப்பை உருவாக்குங்கள்.\n",
    "- இந்த முகவர் `kernel_function` அலங்காரத்தை பயன்படுத்தி செலவுக் கோரிக்கையை சமர்ப்பிக்க மின்னஞ்சல் உருவாக்கும் ஒரு செயல்பாட்டை வரையறுக்கிறது.\n",
    "- இது செலவுகளின் மொத்த தொகையை கணக்கிடுகிறது மற்றும் விவரங்களை மின்னஞ்சல் உடலாக வடிவமைக்கிறது.\n"
   ]
  },
  {
   "cell_type": "code",
   "execution_count": 4,
   "metadata": {},
   "outputs": [],
   "source": [
    "class ExpenseEmailAgent:\n",
    "\n",
    "    @kernel_function(description=\"Generate an email to submit an expense claim to the Finance Team\")\n",
    "    async def generate_expense_email(expenses):\n",
    "        total_amount = sum(expense['amount'] for expense in expenses)\n",
    "        email_body = \"Dear Finance Team,\\n\\n\"\n",
    "        email_body += \"Please find below the details of my expense claim:\\n\\n\"\n",
    "        for expense in expenses:\n",
    "            email_body += f\"- {expense['description']}: ${expense['amount']}\\n\"\n",
    "        email_body += f\"\\nTotal Amount: ${total_amount}\\n\\n\"\n",
    "        email_body += \"Receipts for all expenses are attached for your reference.\\n\\n\"\n",
    "        email_body += \"Thank you,\\n[Your Name]\"\n",
    "        return email_body"
   ]
  },
  {
   "cell_type": "markdown",
   "metadata": {},
   "source": [
    "# ரசீது படங்களிலிருந்து பயண செலவுகளை எடுக்க ஒரு முகவர்\n",
    "\n",
    "ரசீது படங்களிலிருந்து பயண செலவுகளை எடுக்க ஒரு முகவர் வகுப்பை உருவாக்கவும்.\n",
    "- இந்த முகவர் `kernel_function` அலங்காரத்தை பயன்படுத்தி ரசீது படங்களிலிருந்து பயண செலவுகளை எடுக்கும் ஒரு செயல்பாட்டை வரையறுக்கிறது.\n",
    "- ரசீது படத்தை OCR (ஒளியியல் எழுத்து அங்கீகாரம்) மூலம் உரையாக மாற்றி, தேதி, விளக்கம், தொகை மற்றும் வகை போன்ற தொடர்புடைய தகவல்களை எடுக்கவும்.\n"
   ]
  },
  {
   "cell_type": "code",
   "execution_count": 5,
   "metadata": {},
   "outputs": [],
   "source": [
    "class OCRAgentPlugin:\n",
    "    def __init__(self):\n",
    "        self.client = ChatCompletionsClient(\n",
    "            endpoint=\"https://models.inference.ai.azure.com/\",\n",
    "            credential=AzureKeyCredential(os.environ.get(\"GITHUB_TOKEN\")),\n",
    "        )\n",
    "        self.model_name = \"gpt-4o\"\n",
    "\n",
    "    @kernel_function(description=\"Extract structured travel expense data from receipt.jpg using gpt-4o-model\")\n",
    "    def extract_text(self, image_path: str = \"receipt.jpg\") -> str:\n",
    "        try:\n",
    "            image_url_str = str(ImageUrl.load(image_file=image_path, image_format=\"jpg\", detail=ImageDetailLevel.HIGH))\n",
    "\n",
    "            prompt = (\n",
    "                \"You are an expert OCR assistant specialized in extracting structured data from receipt images. \"\n",
    "                \"Analyze the provided receipt image and extract travel-related expense details in the format: \"\n",
    "                \"'date|description|amount|category' separated by semicolons. \"\n",
    "                \"Follow these rules: \"\n",
    "                \"- Date: Convert dates (e.g., '4/4/22') to 'dd-MMM-yyyy' (e.g., '04-Apr-2022'). \"\n",
    "                \"- Description: Extract item names (e.g., 'Carlson's Drylawn', 'Peigs transaction Probiotics'). \"\n",
    "                \"- Amount: Use numeric values (e.g., '4.50' from '$4.50' or '4.50 dollars'). \"\n",
    "                \"- Category: Infer from context (e.g., 'Meals' for food, 'Transportation' for travel, 'Accommodation' for lodging, 'Miscellaneous' otherwise). \"\n",
    "                \"Ignore totals, subtotals, or service charges unless they are itemized expenses. \"\n",
    "                \"If no expenses are found, return 'No expenses detected'. \"\n",
    "                \"Return only the structured data, no additional text.\"\n",
    "            )\n",
    "            response = self.client.complete(\n",
    "                messages=[\n",
    "                    SystemMessage(content=prompt),\n",
    "                    UserMessage(content=[\n",
    "                        TextContentItem(text=\"Extract travel expenses from this receipt image.\"),\n",
    "                        ImageContentItem(image_url=ImageUrl(url=image_url_str))\n",
    "                    ])\n",
    "                ],\n",
    "                model=self.model_name,\n",
    "                temperature=0.1,\n",
    "                max_tokens=2048\n",
    "            )\n",
    "            extracted_text = response.choices[0].message.content\n",
    "            return extracted_text\n",
    "        except Exception as e:\n",
    "            error_msg = f\"[LOG] OCR Plugin: Error processing image: {str(e)}\"\n",
    "            print(error_msg)\n",
    "            return error_msg"
   ]
  },
  {
   "cell_type": "markdown",
   "metadata": {},
   "source": [
    "## செலவுகளை செயலாக்குதல்\n",
    "\n",
    "செலவுகளை செயலாக்க தேவையான முகவர்களை உருவாக்கி பதிவு செய்து, பின்னர் அவற்றை அழைக்கும் ஒரு அசிங்க்ரோனஸ் செயல்பாட்டை வரையறுக்கவும்.\n",
    "- இந்த செயல்பாடு செலவுகளை செயலாக்குவதற்கு சூழல் மாறிகளை ஏற்றுகிறது, தேவையான முகவர்களை உருவாக்குகிறது மற்றும் அவற்றை பிளகின்களாக பதிவு செய்கிறது.\n",
    "- இது இரண்டு முகவர்களுடன் ஒரு குழு உரையாடலை உருவாக்கி, செலவுகள் தரவின் அடிப்படையில் மின்னஞ்சல் மற்றும் பை சார்ட் உருவாக்க ஒரு உந்துதல் செய்தியை அனுப்புகிறது.\n",
    "- உரையாடல் அழைப்பின் போது ஏற்படும் எந்தவொரு பிழைகளையும் கையாளுகிறது மற்றும் முகவர்களின் சரியான சுத்தமாக்கலை உறுதிப்படுத்துகிறது.\n"
   ]
  },
  {
   "cell_type": "code",
   "execution_count": 6,
   "metadata": {},
   "outputs": [],
   "source": [
    "async def process_expenses():\n",
    "    load_dotenv()\n",
    "    settings_slm = OpenAIChatPromptExecutionSettings(service_id=\"gpt-4o\")\n",
    "    settings_llm = OpenAIChatPromptExecutionSettings(service_id=\"open_ai\")  # Fixed typo in service_id\n",
    "    \n",
    "    ocr_agent = ChatCompletionAgent(\n",
    "        kernel=_create_kernel_with_chat_completion(\"ocrAgent\"),\n",
    "        name=\"ocr_agent\",\n",
    "        instructions=\"Extract travel expense data from the receipt image in the prompt using the 'extract_text' function from the 'ocrAgent' plugin. Return the data in the format 'date|description|amount|category' separated by semicolons.\",\n",
    "        arguments=KernelArguments(settings=settings_slm)\n",
    "    )\n",
    "    \n",
    "       \n",
    "    email_agent = ChatCompletionAgent(\n",
    "            kernel=_create_kernel_with_chat_completion(\"expenseEmailAgent\"),\n",
    "            name=\"email_agent\",\n",
    "            instructions=\"Take the travel expense data from the previous agent and generate a professional expense claim email using the 'generate_expense_email' function from the 'expenseEmailAgent' plugin, then pass the data forward.\",\n",
    "            arguments=KernelArguments(\n",
    "                settings=settings_llm)\n",
    "        )\n",
    "\n",
    "\n",
    "    kernel = Kernel()\n",
    "\n",
    "    # Use fixed path to receipt.jpg in the same folder\n",
    "    image_path = \"./receipt.jpg\"\n",
    "    \n",
    "    # Create a structured message with text and image content for OCR processing\n",
    "    image_url_str = f\"file://{image_path}\"\n",
    "    \n",
    "    # Using the correct format for multi-modal content\n",
    "    user_message = ChatMessageContent(\n",
    "        role=AuthorRole.USER,\n",
    "        items=[\n",
    "            TextContent(text=\"\"\"\n",
    "            Please extract the raw text from this receipt image, focusing on travel expenses like dates, descriptions, amounts, and categories (e.g., Transportation, Accommodation, Meals, Miscellaneous).\n",
    "            Then generate a professional expense claim email.\n",
    "                        \"\"\"),\n",
    "            ImageContent.from_image_file(path=image_path)\n",
    "        ]\n",
    "    )\n",
    "\n",
    "    # Register plugins with the kernel\n",
    "    kernel.add_plugin(OCRAgentPlugin(), plugin_name=\"ocrAgent\")\n",
    "    kernel.add_plugin(ExpenseEmailAgent(), plugin_name=\"expenseEmailAgent\")\n",
    "\n",
    "    # Create group chat\n",
    "    chat = AgentGroupChat(\n",
    "        agents=[ocr_agent, email_agent],\n",
    "        selection_strategy=SequentialSelectionStrategy(initial_agent=ocr_agent),\n",
    "        termination_strategy=DefaultTerminationStrategy(maximum_iterations=1)\n",
    "    )\n",
    "\n",
    "    # Add user message with prompt\n",
    "    await chat.add_chat_message(user_message)\n",
    "    print(f\"# User message added to chat with receipt image\")\n",
    "\n",
    "    async for content in chat.invoke():\n",
    "        print(f\"# Agent - {content.name or '*'}: '{content.content}'\")\n"
   ]
  },
  {
   "cell_type": "markdown",
   "metadata": {},
   "source": [
    "## முக்கிய செயல்பாடு\n",
    "\n",
    "முக்கிய செயல்பாட்டை வரையறுக்கவும், இது கன்சோலை அழித்து, `process_expenses` செயல்பாட்டை அசிங்கமாக இயக்கும்.\n"
   ]
  },
  {
   "cell_type": "code",
   "execution_count": 9,
   "metadata": {},
   "outputs": [
    {
     "name": "stdout",
     "output_type": "stream",
     "text": [
      "# User message added to chat with receipt image\n",
      "# Agent - ocr_agent: 'The receipt primarily seems to capture costs for meals and beverages. Below is the extracted travel expense data:\n",
      "\n",
      "**Travel Expense Data:**  \n",
      "`2 May '22|Meals at restaurant|75.15|Meals`\n",
      "\n",
      "---\n",
      "\n",
      "**Professional Expense Claim Email Draft:**  \n",
      "\n",
      "**Subject:** Expense Claim for Meals – 2 May 2022  \n",
      "\n",
      "Dear [Recipient's Name],  \n",
      "\n",
      "I am submitting an expense claim for a meal incurred during a business-related trip. Below are the details:  \n",
      "\n",
      "- **Date:** 2 May 2022  \n",
      "- **Expense Description:** Meals at a restaurant  \n",
      "- **Amount:** $75.15  \n",
      "- **Category:** Meals  \n",
      "\n",
      "Please find the attached receipt for your reference. Kindly process the reimbursement at your earliest convenience. Let me know if you require additional information.  \n",
      "\n",
      "Thank you for your assistance.  \n",
      "\n",
      "Best regards,  \n",
      "[Your Name]  \n",
      "[Your Contact Information]  \n",
      "\n",
      "Let me know if you need further revisions or additional details!'\n"
     ]
    }
   ],
   "source": [
    "async def main():\n",
    "    # Clear the console\n",
    "    os.system('cls' if os.name=='nt' else 'clear')\n",
    "\n",
    "    # Run the async agent code\n",
    "    await process_expenses()\n",
    "\n",
    "await main()"
   ]
  },
  {
   "cell_type": "code",
   "execution_count": null,
   "metadata": {},
   "outputs": [],
   "source": []
  },
  {
   "cell_type": "markdown",
   "metadata": {},
   "source": [
    "\n---\n\n**குறிப்பு**:  \nஇந்த ஆவணம் [Co-op Translator](https://github.com/Azure/co-op-translator) என்ற AI மொழிபெயர்ப்பு சேவையைப் பயன்படுத்தி மொழிபெயர்க்கப்பட்டுள்ளது. நாங்கள் துல்லியத்திற்காக முயற்சிக்கின்றோம், ஆனால் தானியங்கி மொழிபெயர்ப்புகளில் பிழைகள் அல்லது தவறான தகவல்கள் இருக்கக்கூடும் என்பதை தயவுசெய்து கவனத்தில் கொள்ளுங்கள். அதன் தாய்மொழியில் உள்ள மூல ஆவணம் அதிகாரப்பூர்வ ஆதாரமாக கருதப்பட வேண்டும். முக்கியமான தகவல்களுக்கு, தொழில்முறை மனித மொழிபெயர்ப்பு பரிந்துரைக்கப்படுகிறது. இந்த மொழிபெயர்ப்பைப் பயன்படுத்துவதால் ஏற்படும் எந்த தவறான புரிதல்கள் அல்லது தவறான விளக்கங்களுக்கு நாங்கள் பொறுப்பல்ல.\n"
   ]
  }
 ],
 "metadata": {
  "kernelspec": {
   "display_name": "venv",
   "language": "python",
   "name": "python3"
  },
  "language_info": {
   "codemirror_mode": {
    "name": "ipython",
    "version": 3
   },
   "file_extension": ".py",
   "mimetype": "text/x-python",
   "name": "python",
   "nbconvert_exporter": "python",
   "pygments_lexer": "ipython3",
   "version": "3.12.4"
  },
  "coopTranslator": {
   "original_hash": "6ffd20126d1786605b28cf9ca22ed62b",
   "translation_date": "2025-10-11T11:51:42+00:00",
   "source_file": "10-ai-agents-production/code_samples/10-expense_claim-demo.ipynb",
   "language_code": "ta"
  }
 },
 "nbformat": 4,
 "nbformat_minor": 2
}