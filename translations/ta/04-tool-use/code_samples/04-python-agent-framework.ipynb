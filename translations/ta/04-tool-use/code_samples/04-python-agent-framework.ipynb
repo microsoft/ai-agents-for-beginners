{
 "cells": [
  {
   "cell_type": "markdown",
   "id": "8744544f",
   "metadata": {},
   "source": [
    "# 🛠️ GitHub மாடல்களுடன் மேம்பட்ட கருவி பயன்பாடு (Python)\n",
    "\n",
    "## 📋 கற்றல் நோக்கங்கள்\n",
    "\n",
    "இந்த நோட்புக் Microsoft Agent Framework மற்றும் GitHub மாடல்களுடன் மேம்பட்ட கருவி ஒருங்கிணைப்பு முறைகளை விளக்குகிறது. பல்வேறு கருவிகளை உருவாக்கி, நிர்வகித்து, ஒருங்கிணைத்து, சிக்கலான முகவர் திறன்களை உருவாக்குவது எப்படி என்பதை நீங்கள் கற்றுக்கொள்வீர்கள்.\n",
    "\n",
    "**நீங்கள் கற்றுக்கொள்ளப்போகிறீர்கள்:**\n",
    "- 🔧 **பல கருவி கட்டமைப்பு**: பல சிறப்பு கருவிகளுடன் முகவர்களை உருவாக்குதல்\n",
    "- 🎯 **கருவி தேர்வு தார்மீகங்கள்**: ஒவ்வொரு பணிக்குமான சரியான கருவியை முகவர்கள் எப்படி தேர்வு செய்கிறார்கள்\n",
    "- 📊 **தரவு செயலாக்க கருவிகள்**: வெவ்வேறு தரவுகளை கையாளும் கருவிகளை உருவாக்குதல்\n",
    "- 🔗 **கருவி இணைப்பு**: சிக்கலான பணிச்சூழல்களுக்கு கருவிகளை இணைத்தல்\n",
    "\n",
    "## 🎯 முக்கிய கருவி முறைகள்\n",
    "\n",
    "### கருவி வடிவமைப்பு கொள்கைகள்\n",
    "- **ஒற்றை பொறுப்பு**: ஒவ்வொரு கருவிக்கும் தெளிவான, மையப்படுத்தப்பட்ட நோக்கம்\n",
    "- **வகை பாதுகாப்பு**: நம்பகமான கருவி செயல்பாட்டிற்கான வலுவான வகை அமைப்பு\n",
    "- **பிழை கையாளுதல்**: சீரான தோல்வி மற்றும் மீட்பு முறைகள்\n",
    "- **இணைப்பு திறன்**: ஒருங்கிணைந்த செயல்பாட்டிற்கான கருவிகள்\n",
    "\n",
    "### மேம்பட்ட கருவி அம்சங்கள்\n",
    "- **சூழல் விழிப்புணர்வு**: உரையாடல் சூழலை புரிந்துகொள்ளும் கருவிகள்\n",
    "- **தரவு சரிபார்ப்பு**: உள்ளீடு சுத்திகரிப்பு மற்றும் வெளியீடு சரிபார்ப்பு\n",
    "- **செயல்திறன் மேம்பாடு**: திறமையான கருவி செயல்பாட்டு முறைகள்\n",
    "- **விரிவாக்கம்**: புதிய கருவி திறன்களை எளிதாக சேர்த்தல்\n",
    "\n",
    "## 🔧 தொழில்நுட்ப கட்டமைப்பு\n",
    "\n",
    "### முக்கிய கூறுகள்\n",
    "- **Microsoft Agent Framework**: மேம்பட்ட கருவி ஆதரவு கொண்ட Python செயல்பாடு\n",
    "- **GitHub மாடல்களுடன் ஒருங்கிணைப்பு**: உயர் செயல்திறன் மொழி மாடல் அணுகல்\n",
    "- **கருவி பதிவு அமைப்பு**: முகவர் திறன்களை ஒழுங்குபடுத்தி நிர்வகித்தல்\n",
    "- **பிழை மீட்பு முறைகள்**: கருவி செயல்பாட்டு தோல்விகளை வலுவாக கையாளுதல்\n",
    "\n",
    "### கருவி ஒருங்கிணைப்பு ஓட்டம்\n",
    "```python\n",
    "User Request → Agent Analysis → Tool Selection → Tool Execution → Response Synthesis\n",
    "```\n",
    "\n",
    "## 🛠️ காட்டப்படும் கருவி வகைகள்\n",
    "\n",
    "### 1. **தரவு உருவாக்கும் கருவிகள்**\n",
    "- சீரற்ற இடம் உருவாக்கி\n",
    "- வானிலை தகவல் வழங்கி  \n",
    "- பயண செலவு கணக்கீடு\n",
    "- செயல்பாட்டு பரிந்துரை இயந்திரம்\n",
    "\n",
    "### 2. **செயலாக்க கருவிகள்**\n",
    "- உரை வடிவமைப்பு மற்றும் சரிபார்ப்பு\n",
    "- தரவு மாற்றம் பயன்பாடுகள்\n",
    "- உள்ளடக்க பகுப்பாய்வு செயல்பாடுகள்\n",
    "- பதில் மேம்பாட்டு கருவிகள்\n",
    "\n",
    "### 3. **ஒருங்கிணைப்பு கருவிகள்**\n",
    "- வெளிப்புற API இணைப்புகள்\n",
    "- கோப்பு அமைப்பு செயல்பாடுகள்\n",
    "- தரவுத்தொகுப்பு கேள்வி இடைமுகங்கள்\n",
    "- வலைத் தேடல் பயன்பாடுகள்\n",
    "\n",
    "## ⚙️ முன்பதிவுகள் மற்றும் அமைப்பு\n",
    "\n",
    "**தேவையான சார்புகள்:**\n",
    "```bash\n",
    "\n",
    "pip install agent-framework-core -U\n",
    "```\n",
    "\n",
    "**சூழல் அமைப்பு (.env கோப்பு):**\n",
    "```env\n",
    "GITHUB_TOKEN=your_github_personal_access_token\n",
    "GITHUB_ENDPOINT=https://models.inference.ai.azure.com\n",
    "GITHUB_MODEL_ID=gpt-4o-mini\n",
    "```\n",
    "\n",
    "**விருப்பமான APIகள்:**\n",
    "- வானிலை சேவை API விசை (வானிலை கருவிகளுக்கு)\n",
    "- நாணய மாற்ற API அணுகல்\n",
    "- பயண தகவல் சேவை சான்றுகள்\n",
    "\n",
    "## 🎨 வடிவமைப்பு முறைகள்\n",
    "\n",
    "### கருவி தொழிற்சாலை முறை\n",
    "- மையப்படுத்தப்பட்ட கருவி உருவாக்கம் மற்றும் அமைப்பு\n",
    "- ஒரே மாதிரியான கருவி இடைமுக வடிவமைப்பு\n",
    "- எளிய கருவி பதிவு மற்றும் கண்டறிதல்\n",
    "\n",
    "### கட்டளை முறை\n",
    "- கருவி செயல்பாட்டு தார்மீகங்களை மூடுதல்\n",
    "- சிக்கலான செயல்பாடுகளுக்கு Undo/Redo செயல்பாடு\n",
    "- கருவி பயன்பாட்டிற்கான ஆடிட்டிங் பதிவு\n",
    "\n",
    "### பார்வையாளர் முறை\n",
    "- கருவி செயல்பாட்டு கண்காணிப்பு\n",
    "- செயல்திறன் அளவீடு சேகரிப்பு\n",
    "- பிழை அறிக்கை மற்றும் எச்சரிக்கை\n",
    "\n",
    "## 🚀 சிறந்த நடைமுறைகள்\n",
    "\n",
    "- **கருவி ஆவணங்கள்**: முகவர்களுக்கு தெளிவான விளக்கங்கள்\n",
    "- **உள்ளீடு சரிபார்ப்பு**: வலுவான அளவுரு சரிபார்ப்பு மற்றும் சுத்திகரிப்பு\n",
    "- **வெளியீடு வடிவமைப்பு**: ஒரே மாதிரியான, பகுப்பாய்வு செய்யக்கூடிய கருவி பதில்கள்\n",
    "- **பிழை தகவல்கள்**: பிழை தீர்க்க உதவக்கூடிய தகவல்கள்\n",
    "- **செயல்திறன்**: பதிலளிக்க திறமையான கருவி செயல்பாடு\n",
    "\n",
    "சிறந்த கருவி திறன்களுடன் முகவர்களை உருவாக்க தயாரா? அற்புதமான ஒன்றை உருவாக்குவோம்! ⚡\n"
   ]
  },
  {
   "cell_type": "code",
   "execution_count": null,
   "id": "59c0feeb",
   "metadata": {},
   "outputs": [],
   "source": [
    "! pip install agent-framework-core -U"
   ]
  },
  {
   "cell_type": "code",
   "execution_count": null,
   "id": "c0df8a52",
   "metadata": {},
   "outputs": [],
   "source": [
    "# � Import core dependencies for Agent Framework and tool integration\n",
    "# This sets up the essential libraries for building intelligent agents with tool capabilities\n",
    "\n",
    "import asyncio\n",
    "import os\n",
    "import json\n",
    "\n",
    "from dotenv import load_dotenv  # For loading environment variables securely\n",
    "from random import randint\n",
    "\n",
    "# These are the core components for building tool-enabled agents\n",
    "from agent_framework import ChatAgent           # Main agent class\n",
    "from agent_framework.openai import OpenAIChatClient  # OpenAI-compatible client"
   ]
  },
  {
   "cell_type": "code",
   "execution_count": null,
   "id": "24c10eb0",
   "metadata": {},
   "outputs": [],
   "source": [
    "load_dotenv()"
   ]
  },
  {
   "cell_type": "code",
   "execution_count": null,
   "id": "151e0314",
   "metadata": {},
   "outputs": [],
   "source": [
    "# 🔑 Environment variables verification\n",
    "# Ensure all required GitHub Models credentials are properly configured\n",
    "print(\"GITHUB_ENDPOINT:\", os.environ.get(\"GITHUB_ENDPOINT\"))\n",
    "print(\"GITHUB_TOKEN:\", \"***\" if os.environ.get(\"GITHUB_TOKEN\") else \"Not set\")\n",
    "print(\"GITHUB_MODEL_ID:\", os.environ.get(\"GITHUB_MODEL_ID\"))"
   ]
  },
  {
   "cell_type": "code",
   "execution_count": null,
   "id": "a6141584",
   "metadata": {},
   "outputs": [],
   "source": [
    "# 🧪 Test GitHub Models connectivity\n",
    "openai_chat_client = OpenAIChatClient(base_url=os.environ.get(\"GITHUB_ENDPOINT\"), api_key=os.environ.get(\"GITHUB_TOKEN\"), model_id=os.environ.get(\"GITHUB_MODEL_ID\"))"
   ]
  },
  {
   "cell_type": "code",
   "execution_count": null,
   "id": "a6507f83",
   "metadata": {},
   "outputs": [],
   "source": [
    "# 🛠️ Define travel planning tools for agent integration\n",
    "# These functions provide specific capabilities that the agent can invoke dynamically\n",
    "\n",
    "def get_random_destination() -> str:\n",
    "    \"\"\"\n",
    "    🎲 Random destination generator tool\n",
    "    Returns a randomly selected travel destination from curated list\n",
    "    Useful when customers need inspiration for their next vacation\n",
    "    \"\"\"\n",
    "    destinations = [\n",
    "        \"Paris, France\",\n",
    "        \"Tokyo, Japan\", \n",
    "        \"New York City, USA\",\n",
    "        \"London, England\",\n",
    "        \"Rome, Italy\",\n",
    "        \"Sydney, Australia\",\n",
    "        \"Dubai, UAE\",\n",
    "        \"Barcelona, Spain\",\n",
    "        \"Bangkok, Thailand\",\n",
    "        \"Amsterdam, Netherlands\",\n",
    "        \"Istanbul, Turkey\",\n",
    "        \"Prague, Czech Republic\",\n",
    "        \"Santorini, Greece\",\n",
    "        \"Reykjavik, Iceland\",\n",
    "        \"Marrakech, Morocco\",\n",
    "        \"Cape Town, South Africa\",\n",
    "        \"Rio de Janeiro, Brazil\",\n",
    "        \"Bali, Indonesia\"\n",
    "    ]\n",
    "    # 🎯 Return random selection from the curated destination list\n",
    "    return destinations[randint(0, len(destinations) - 1)]"
   ]
  },
  {
   "cell_type": "code",
   "execution_count": null,
   "id": "5d4f0568",
   "metadata": {},
   "outputs": [],
   "source": [
    "# 🔗 Initialize GitHub Models chat client for agent communication\n",
    "# Creates the primary interface between the agent and the language model\n",
    "openai_chat_client = OpenAIChatClient(base_url=os.environ.get(\"GITHUB_ENDPOINT\"), api_key=os.environ.get(\"GITHUB_TOKEN\"), model_id=os.environ.get(\"GITHUB_MODEL_ID\"))"
   ]
  },
  {
   "cell_type": "code",
   "execution_count": null,
   "id": "751668c5",
   "metadata": {},
   "outputs": [],
   "source": [
    "# 🤖 Configure travel agent identity and behavioral instructions\n",
    "# Define the agent's personality, capabilities, and operational guidelines\n",
    "\n",
    "AGENT_NAME = \"TravelAgent\"\n",
    "\n",
    "AGENT_INSTRUCTIONS = \"\"\"You are a helpful AI Agent that can help plan vacations for customers at random destinations\n",
    "\"\"\""
   ]
  },
  {
   "cell_type": "code",
   "execution_count": null,
   "id": "be18ac4f",
   "metadata": {},
   "outputs": [],
   "source": [
    "agent = ChatAgent(\n",
    "        name = AGENT_NAME,\n",
    "        chat_client=openai_chat_client,\n",
    "        instructions=AGENT_INSTRUCTIONS,\n",
    "        tools=[get_random_destination]\n",
    ")"
   ]
  },
  {
   "cell_type": "code",
   "execution_count": null,
   "id": "772e9481",
   "metadata": {},
   "outputs": [],
   "source": [
    "thread = agent.get_new_thread()"
   ]
  },
  {
   "cell_type": "code",
   "execution_count": null,
   "id": "a731b547",
   "metadata": {},
   "outputs": [],
   "source": [
    "response1 = await agent.run(\"Plan me a day trip\",thread= thread)"
   ]
  },
  {
   "cell_type": "code",
   "execution_count": null,
   "id": "7d3fe00a",
   "metadata": {},
   "outputs": [],
   "source": [
    "\n",
    "last_message = response1.messages[-1]\n",
    "text_content = last_message.contents[0].text\n",
    "print(\"Travel plan:\")\n",
    "print(text_content)"
   ]
  },
  {
   "cell_type": "markdown",
   "metadata": {},
   "source": [
    "\n---\n\n**குறிப்பு**:  \nஇந்த ஆவணம் [Co-op Translator](https://github.com/Azure/co-op-translator) என்ற AI மொழிபெயர்ப்பு சேவையைப் பயன்படுத்தி மொழிபெயர்க்கப்பட்டுள்ளது. நாங்கள் துல்லியத்திற்காக முயற்சிக்கின்றோம், ஆனால் தானியக்க மொழிபெயர்ப்புகளில் பிழைகள் அல்லது தவறான தகவல்கள் இருக்கக்கூடும் என்பதை தயவுசெய்து கவனத்தில் கொள்ளுங்கள். அதன் தாய்மொழியில் உள்ள மூல ஆவணம் அதிகாரப்பூர்வ ஆதாரமாக கருதப்பட வேண்டும். முக்கியமான தகவல்களுக்கு, தொழில்முறை மனித மொழிபெயர்ப்பு பரிந்துரைக்கப்படுகிறது. இந்த மொழிபெயர்ப்பைப் பயன்படுத்துவதால் ஏற்படும் எந்தவொரு தவறான புரிதல்கள் அல்லது தவறான விளக்கங்களுக்கு நாங்கள் பொறுப்பல்ல.\n"
   ]
  }
 ],
 "metadata": {
  "kernelspec": {
   "display_name": "agentenv",
   "language": "python",
   "name": "python3"
  },
  "language_info": {
   "codemirror_mode": {
    "name": "ipython",
    "version": 3
   },
   "file_extension": ".py",
   "mimetype": "text/x-python",
   "name": "python",
   "nbconvert_exporter": "python",
   "pygments_lexer": "ipython3",
   "version": "3.12.10"
  },
  "polyglot_notebook": {
   "kernelInfo": {
    "defaultKernelName": "csharp",
    "items": [
     {
      "aliases": [],
      "name": "csharp"
     }
    ]
   }
  },
  "coopTranslator": {
   "original_hash": "42966ddac53cebaf0ac1ce33b2ee7059",
   "translation_date": "2025-10-11T11:53:18+00:00",
   "source_file": "04-tool-use/code_samples/04-python-agent-framework.ipynb",
   "language_code": "ta"
  }
 },
 "nbformat": 4,
 "nbformat_minor": 5
}