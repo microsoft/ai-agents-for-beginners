{
 "cells": [
  {
   "cell_type": "markdown",
   "metadata": {},
   "source": [
    "# ஆட்டோஜென் கருவி பயன்பாட்டு உதாரணம்\n"
   ]
  },
  {
   "cell_type": "markdown",
   "metadata": {},
   "source": [
    "## தேவையான தொகுப்புகளை இறக்குமதி செய்யவும்\n"
   ]
  },
  {
   "cell_type": "code",
   "execution_count": null,
   "metadata": {},
   "outputs": [],
   "source": [
    "import os\n",
    "import json\n",
    "\n",
    "import requests\n",
    "from autogen_agentchat.agents import AssistantAgent\n",
    "from autogen_core.models import UserMessage\n",
    "from autogen_ext.models.azure import AzureAIChatCompletionClient\n",
    "from azure.core.credentials import AzureKeyCredential\n",
    "from autogen_core import CancellationToken\n",
    "from autogen_core.tools import FunctionTool\n",
    "from autogen_agentchat.messages import TextMessage\n",
    "from autogen_agentchat.ui import Console\n",
    "from typing import Any, Callable, Set, Dict, List, Optional"
   ]
  },
  {
   "cell_type": "markdown",
   "metadata": {},
   "source": [
    "## கிளையன்ட் உருவாக்குதல்\n",
    "\n",
    "இந்த மாதிரியில், LLM-ஐ அணுக [GitHub Models](https://aka.ms/ai-agents-beginners/github-models) பயன்படுத்தப்படும்.\n",
    "\n",
    "`model` `gpt-4o-mini` என வரையறுக்கப்பட்டுள்ளது. GitHub Models சந்தையில் கிடைக்கும் மற்றொரு மாடலுக்கு மாறி, வெவ்வேறு முடிவுகளைப் பார்க்க முயற்சிக்கவும்.\n",
    "\n",
    "ஒரு விரைவான சோதனையாக, நாம் ஒரு எளிய கேள்வியை இயக்குவோம் - `What is the capital of France`.\n"
   ]
  },
  {
   "cell_type": "code",
   "execution_count": null,
   "metadata": {},
   "outputs": [],
   "source": [
    "client = AzureAIChatCompletionClient(\n",
    "    model=\"gpt-4o-mini\",\n",
    "    endpoint=\"https://models.inference.ai.azure.com\",\n",
    "    # To authenticate with the model you will need to generate a personal access token (PAT) in your GitHub settings.\n",
    "    # Create your PAT token by following instructions here: https://docs.github.com/en/authentication/keeping-your-account-and-data-secure/managing-your-personal-access-tokens\n",
    "    credential=AzureKeyCredential(os.environ[\"GITHUB_TOKEN\"]),\n",
    "    model_info={\n",
    "        \"json_output\": True,\n",
    "        \"function_calling\": True,\n",
    "        \"vision\": True,\n",
    "        \"family\": \"unknown\",\n",
    "    },\n",
    ")\n",
    "\n",
    "result = await client.create([UserMessage(content=\"What is the capital of France?\", source=\"user\")])\n",
    "print(result)"
   ]
  },
  {
   "cell_type": "markdown",
   "metadata": {},
   "source": [
    "## செயல்பாடுகளை வரையறுத்தல்\n",
    "\n",
    "இந்த எடுத்துக்காட்டில், முகவருக்கு கிடைக்கும் விடுமுறை இடங்களின் பட்டியல் மற்றும் அவற்றின் கிடைப்புகளை கொண்ட ஒரு செயல்பாட்டை ஒரு கருவியாக அணுக அனுமதி வழங்கப்படும்.\n",
    "\n",
    "இதை ஒரு பயண முகவர், உதாரணமாக, ஒரு பயண தரவுத்தொகுப்பை அணுகும் சூழல் எனக் கருதலாம்.\n",
    "\n",
    "இந்த மாதிரியைப் பார்வையிடும் போது, முகவர் அழைக்கக்கூடிய புதிய செயல்பாடுகள் மற்றும் கருவிகளை வரையறுக்க முயற்சிக்கலாம்.\n"
   ]
  },
  {
   "cell_type": "code",
   "execution_count": null,
   "metadata": {},
   "outputs": [],
   "source": [
    "from typing import Dict, List, Optional\n",
    "\n",
    "\n",
    "def vacation_destinations(city: str) -> tuple[str, str]:\n",
    "    \"\"\"\n",
    "    Checks if a specific vacation destination is available\n",
    "    \n",
    "    Args:\n",
    "        city (str): Name of the city to check\n",
    "        \n",
    "    Returns:\n",
    "        tuple: Contains city name and availability status ('Available' or 'Unavailable')\n",
    "    \"\"\"\n",
    "    destinations = {\n",
    "        \"Barcelona\": \"Available\",\n",
    "        \"Tokyo\": \"Unavailable\",\n",
    "        \"Cape Town\": \"Available\",\n",
    "        \"Vancouver\": \"Available\",\n",
    "        \"Dubai\": \"Unavailable\",\n",
    "    }\n",
    "\n",
    "    if city in destinations:\n",
    "        return city, destinations[city]\n",
    "    else:\n",
    "        return city, \"City not found\"\n",
    "\n",
    "# Example usage:\n",
    "# city, status = vacation_destinations(\"Barcelona\")\n",
    "# print(f\"How about visiting {city}? It's currently {status} there!\")"
   ]
  },
  {
   "cell_type": "markdown",
   "metadata": {},
   "source": [
    "## செயல்பாட்டு கருவியை வரையறுத்தல்  \n",
    "`vacation_destinations` ஐ `FunctionTool` ஆக பயன்படுத்துவதற்கு, அதை ஒன்றாக வரையறுக்க வேண்டும்.  \n",
    "\n",
    "மேலும், பயனர் கேட்டுள்ள பணிக்கான தொடர்பில் அந்த கருவி எதற்காக பயன்படுத்தப்படுகிறது என்பதை முகவர் அடையாளம் காண உதவியாக, கருவியின் விளக்கத்தையும் வழங்குவோம்.  \n"
   ]
  },
  {
   "cell_type": "code",
   "execution_count": null,
   "metadata": {},
   "outputs": [],
   "source": [
    "get_vacations = FunctionTool(\n",
    "    vacation_destinations, description=\"Search for vacation destinations and if they are available or not.\"\n",
    ")"
   ]
  },
  {
   "cell_type": "markdown",
   "metadata": {},
   "source": [
    "## ஏஜென்டை வரையறுத்தல்\n",
    "\n",
    "இப்போது கீழே உள்ள குறியீட்டில் ஏஜென்டை உருவாக்கலாம். பயண இடங்களை கண்டறிய பயனர்களுக்கு உதவ ஏஜென்டுக்கு வழிகாட்டுதல்களை வழங்க `system_message`-ஐ வரையறுக்கிறோம்.\n",
    "\n",
    "மேலும், `reflect_on_tool_use` அளவுருவை true ஆக அமைக்கிறோம். இது கருவி அழைப்பின் பதிலை LLM மூலம் எடுத்துக்கொண்டு இயற்கை மொழியில் பதிலை அனுப்ப உதவுகிறது.\n",
    "\n",
    "இந்த அளவுருவை false ஆக அமைத்து வித்தியாசத்தை பார்க்கலாம்.\n"
   ]
  },
  {
   "cell_type": "code",
   "execution_count": null,
   "metadata": {},
   "outputs": [],
   "source": [
    "agent = AssistantAgent(\n",
    "    name=\"assistant\",\n",
    "    model_client=client,\n",
    "    tools=[get_vacations],\n",
    "    system_message=\"You are a travel agent that helps users find vacation destinations.\",\n",
    "    reflect_on_tool_use=True,\n",
    ")"
   ]
  },
  {
   "cell_type": "markdown",
   "metadata": {},
   "source": [
    "## ஏஜென்டை இயக்குதல்\n",
    "\n",
    "இப்போது, டோக்கியோக்கு பயணம் செய்ய வேண்டும் என்று தொடக்க பயனர் செய்தியுடன் ஏஜென்டை இயக்கலாம்.\n",
    "\n",
    "நீங்கள் இந்த நகர இலக்கை மாற்றி, அந்த நகரத்தின் கிடைக்கும் நிலைமைக்கு ஏஜென்டின் பதிலை எப்படி இருக்கிறது என்பதை பார்க்கலாம்.\n"
   ]
  },
  {
   "cell_type": "code",
   "execution_count": null,
   "metadata": {},
   "outputs": [],
   "source": [
    "async def assistant_run() -> None:\n",
    "    response = await agent.on_messages(\n",
    "        [TextMessage(content=\"I would like to take a trip to Tokyo\", source=\"user\")],\n",
    "        cancellation_token=CancellationToken(),\n",
    "    )\n",
    "    print(response.inner_messages)\n",
    "    print(response.chat_message)\n",
    "\n",
    "\n",
    "# Use asyncio.run(assistant_run()) when running in a script.\n",
    "await assistant_run()"
   ]
  },
  {
   "cell_type": "markdown",
   "metadata": {},
   "source": [
    "\n---\n\n**குறிப்பு**:  \nஇந்த ஆவணம் [Co-op Translator](https://github.com/Azure/co-op-translator) என்ற AI மொழிபெயர்ப்பு சேவையைப் பயன்படுத்தி மொழிபெயர்க்கப்பட்டுள்ளது. நாங்கள் துல்லியத்திற்காக முயற்சிக்கின்றோம், ஆனால் தானியங்கி மொழிபெயர்ப்புகளில் பிழைகள் அல்லது தவறான தகவல்கள் இருக்கக்கூடும் என்பதை கவனத்தில் கொள்ளவும். அதன் தாய்மொழியில் உள்ள மூல ஆவணம் அதிகாரப்பூர்வ ஆதாரமாக கருதப்பட வேண்டும். முக்கியமான தகவல்களுக்கு, தொழில்முறை மனித மொழிபெயர்ப்பு பரிந்துரைக்கப்படுகிறது. இந்த மொழிபெயர்ப்பைப் பயன்படுத்துவதால் ஏற்படும் எந்த தவறான புரிதல்கள் அல்லது தவறான விளக்கங்களுக்கு நாங்கள் பொறுப்பல்ல.\n"
   ]
  }
 ],
 "metadata": {
  "kernelspec": {
   "display_name": ".venv",
   "language": "python",
   "name": "python3"
  },
  "language_info": {
   "codemirror_mode": {
    "name": "ipython",
    "version": 3
   },
   "file_extension": ".py",
   "mimetype": "text/x-python",
   "name": "python",
   "nbconvert_exporter": "python",
   "pygments_lexer": "ipython3",
   "version": "3.13.1"
  },
  "coopTranslator": {
   "original_hash": "3ab7ffbff609b601fcdfeb749af44e43",
   "translation_date": "2025-10-11T11:52:18+00:00",
   "source_file": "04-tool-use/code_samples/04-autogen.ipynb",
   "language_code": "ta"
  }
 },
 "nbformat": 4,
 "nbformat_minor": 2
}