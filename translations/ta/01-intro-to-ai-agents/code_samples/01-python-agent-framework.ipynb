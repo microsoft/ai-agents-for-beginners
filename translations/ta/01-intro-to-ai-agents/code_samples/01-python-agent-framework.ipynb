{
 "cells": [
  {
   "cell_type": "markdown",
   "id": "f4cf9593",
   "metadata": {},
   "source": [
    "# 🐍 Microsoft Agent Framework (Python) மூலம் AI பயண முகவர்\n",
    "\n",
    "## 📋 சூழல் கண்ணோட்டம்\n",
    "\n",
    "இந்த நோட்புக் Microsoft Agent Framework-ஐ Python-க்கு பயன்படுத்தி புத்திசாலியான பயண திட்டமிடும் முகவரை உருவாக்குவது எப்படி என்பதை விளக்குகிறது. இந்த முகவர் GitHub Models-ஐ பயன்படுத்தி உலகம் முழுவதும் சீரற்ற இடங்களுக்கு தனிப்பயன் நாள் பயண திட்டங்களை தானாக உருவாக்குகிறது.\n",
    "\n",
    "**முக்கிய அம்சங்கள்:**\n",
    "- 🎲 **புத்திசாலியான இடத் தேர்வு**: சீரற்ற இடத் தேர்வுக்கான தனிப்பயன் கருவி செயல்பாடு\n",
    "- 🗺️ **விரிவான திட்டமிடல்**: உள்ளூர் பரிந்துரைகளுடன் AI-இயங்கும் பயண திட்டமிடல்\n",
    "- 🔄 **அசிங்க்ரோனஸ் செயலாக்கம்**: API தொடர்புக்கு திறமையான asyncio பயன்பாடு\n",
    "- 🛠️ **கருவி ஒருங்கிணைப்பு**: AI முகவர்களில் செயல்பாட்டு அழைப்புகளை விளக்குகிறது\n",
    "\n",
    "## 🏗️ தொழில்நுட்ப அமலாக்கம்\n",
    "\n",
    "### முக்கிய கூறுகள்\n",
    "- **Agent Framework**: Microsoft-இன் முகவர் ஒருங்கிணைப்பு அமைப்பின் Python செயல்பாடு\n",
    "- **GitHub Models API**: GitHub-இன் முன்னணி மொழி மாதிரிகள் மூலம் அணுகல்\n",
    "- **OpenAI இணக்கத்தன்மை**: GitHub Models பின்புலத்துடன் OpenAI கிளையன்ட் முறைபாடுகளைப் பயன்படுத்துகிறது\n",
    "- **சுற்றுச்சூழல் மேலாண்மை**: python-dotenv மூலம் பாதுகாப்பான சான்றுகள் கையாளுதல்\n",
    "\n",
    "### கட்டமைப்பு ஓட்டம்\n",
    "```python\n",
    "User Request → ChatAgent → GitHub Models API ↔ get_random_destination()\n",
    "                     ↓\n",
    "              Travel Itinerary Response\n",
    "```\n",
    "\n",
    "### முக்கிய வகுப்புகள் மற்றும் முறைகள்\n",
    "- `ChatAgent`: முக்கிய உரையாடல் முகவர் ஒருங்கிணைப்பாளர்\n",
    "- `OpenAIChatClient`: GitHub Models API கிளையன்ட் ராப்பர்\n",
    "- `get_random_destination()`: இடத் தேர்வுக்கான தனிப்பயன் கருவி செயல்பாடு\n",
    "- சுற்றுச்சூழல் மாறிகள்: API அமைப்புகளை பாதுகாப்பாக நிர்வகித்தல்\n",
    "\n",
    "## ⚙️ முன்பதிவுகள் மற்றும் அமைப்பு\n",
    "\n",
    "**தேவையான சார்புகள்:**\n",
    "```bash\n",
    "\n",
    "pip install agent-framework-core -U\n",
    "```\n",
    "\n",
    "**சுற்றுச்சூழல் அமைப்பு (.env கோப்பு):**\n",
    "```env\n",
    "GITHUB_TOKEN=your_github_personal_access_token\n",
    "GITHUB_ENDPOINT=https://models.inference.ai.azure.com\n",
    "GITHUB_MODEL_ID=gpt-4o-mini\n",
    "```\n",
    "\n",
    "**GitHub Models அணுகல்:**\n",
    "1. GitHub Models அணுகலுக்கு பதிவு செய்யவும்\n",
    "2. தனிப்பட்ட அணுகல் டோக்கனை உருவாக்கவும்\n",
    "3. மேலே காட்டப்பட்டபடி சுற்றுச்சூழல் மாறிகளை அமைக்கவும்\n",
    "\n",
    "## 🚀 பயன்பாட்டு வழிமுறைகள்\n",
    "\n",
    "கீழே உள்ள செல்களை வரிசையாக இயக்கவும்:\n",
    "1. தேவையான நூலகங்களை இறக்குமதி செய்து சுற்றுச்சூழல் மாறிகளை ஏற்றவும்\n",
    "2. சீரற்ற இடத் தேர்வு கருவியை வரையறுக்கவும்\n",
    "3. AI முகவரை உருவாக்கி அமைக்கவும்\n",
    "4. பயண திட்டமிடல் கோரிக்கைகளை இயக்கி முடிவுகளைப் பார்க்கவும்\n",
    "\n",
    "நாம் ஒரு புத்திசாலியான பயண திட்டமிடும் உதவியாளரை உருவாக்குவோம்! 🌟\n"
   ]
  },
  {
   "cell_type": "code",
   "execution_count": null,
   "id": "fda5fa0a",
   "metadata": {},
   "outputs": [],
   "source": [
    "! pip install agent-framework-core -U"
   ]
  },
  {
   "cell_type": "code",
   "execution_count": null,
   "id": "c0df8a52",
   "metadata": {},
   "outputs": [],
   "source": [
    "# 📦 Import Required Libraries\n",
    "# Standard library imports for system operations and random number generation\n",
    "import os\n",
    "from random import randint\n",
    "\n",
    "# Third-party library for loading environment variables from .env file\n",
    "from dotenv import load_dotenv"
   ]
  },
  {
   "cell_type": "code",
   "execution_count": null,
   "id": "151e0314",
   "metadata": {},
   "outputs": [],
   "source": [
    "# 🤖 Import Microsoft Agent Framework Components\n",
    "# ChatAgent: The main agent class for conversational AI\n",
    "# OpenAIChatClient: Client for connecting to OpenAI-compatible APIs (including GitHub Models)\n",
    "from agent_framework import ChatAgent\n",
    "from agent_framework.openai import OpenAIChatClient"
   ]
  },
  {
   "cell_type": "code",
   "execution_count": null,
   "id": "a6141584",
   "metadata": {},
   "outputs": [],
   "source": [
    "# 🔧 Load Environment Variables\n",
    "# This loads configuration from a .env file in the project root\n",
    "# Required variables: GITHUB_ENDPOINT, GITHUB_TOKEN, GITHUB_MODEL_ID\n",
    "load_dotenv()"
   ]
  },
  {
   "cell_type": "code",
   "execution_count": null,
   "id": "a6507f83",
   "metadata": {},
   "outputs": [],
   "source": [
    "# 🎲 Tool Function: Random Destination Generator\n",
    "# This function will be available to the agent as a tool\n",
    "# The agent can call this function to get random vacation destinations\n",
    "def get_random_destination() -> str:\n",
    "    \"\"\"Get a random vacation destination.\n",
    "    \n",
    "    Returns:\n",
    "        str: A randomly selected destination from our predefined list\n",
    "    \"\"\"\n",
    "    # List of popular vacation destinations around the world\n",
    "    destinations = [\n",
    "        \"Barcelona, Spain\",\n",
    "        \"Paris, France\", \n",
    "        \"Berlin, Germany\",\n",
    "        \"Tokyo, Japan\",\n",
    "        \"Sydney, Australia\",\n",
    "        \"New York, USA\",\n",
    "        \"Cairo, Egypt\",\n",
    "        \"Cape Town, South Africa\",\n",
    "        \"Rio de Janeiro, Brazil\",\n",
    "        \"Bali, Indonesia\"\n",
    "    ]\n",
    "    # Return a random destination from the list\n",
    "    return destinations[randint(0, len(destinations) - 1)]"
   ]
  },
  {
   "cell_type": "code",
   "execution_count": null,
   "id": "5d4f0568",
   "metadata": {},
   "outputs": [],
   "source": [
    "# 🔗 Create OpenAI Chat Client for GitHub Models\n",
    "# This client connects to GitHub Models API (OpenAI-compatible endpoint)\n",
    "# Environment variables required:\n",
    "# - GITHUB_ENDPOINT: API endpoint URL (usually https://models.inference.ai.azure.com)\n",
    "# - GITHUB_TOKEN: Your GitHub personal access token\n",
    "# - GITHUB_MODEL_ID: Model to use (e.g., gpt-4o-mini, gpt-4o)\n",
    "openai_chat_client = OpenAIChatClient(\n",
    "    base_url=os.environ.get(\"GITHUB_ENDPOINT\"),\n",
    "    api_key=os.environ.get(\"GITHUB_TOKEN\"), \n",
    "    model_id=os.environ.get(\"GITHUB_MODEL_ID\")\n",
    ")"
   ]
  },
  {
   "cell_type": "code",
   "execution_count": null,
   "id": "cf5a4800",
   "metadata": {},
   "outputs": [],
   "source": [
    "# 🤖 Create the Travel Planning Agent\n",
    "# This creates a conversational AI agent with specific capabilities:\n",
    "# - chat_client: The AI model client for generating responses\n",
    "# - instructions: System prompt that defines the agent's personality and role\n",
    "# - tools: List of functions the agent can call to perform actions\n",
    "agent = ChatAgent(\n",
    "    chat_client=openai_chat_client,\n",
    "    instructions=\"You are a helpful AI Agent that can help plan vacations for customers at random destinations.\",\n",
    "    tools=[get_random_destination]  # Our random destination tool function\n",
    ")"
   ]
  },
  {
   "cell_type": "code",
   "execution_count": null,
   "id": "772e9481",
   "metadata": {},
   "outputs": [],
   "source": [
    "# 🚀 Run the Agent\n",
    "# Send a message to the agent and get a response\n",
    "# The agent will use its tools (get_random_destination) if needed\n",
    "response = await agent.run(\"Plan me a day trip\")"
   ]
  },
  {
   "cell_type": "code",
   "execution_count": null,
   "id": "93c114ea",
   "metadata": {},
   "outputs": [],
   "source": [
    "# 📋 View Raw Response Object\n",
    "# This shows the complete response structure including metadata\n",
    "# Useful for debugging and understanding the response format\n",
    "response"
   ]
  },
  {
   "cell_type": "code",
   "execution_count": null,
   "id": "a731b547",
   "metadata": {},
   "outputs": [],
   "source": [
    "# 📖 Extract and Display the Travel Plan\n",
    "# Get the last message from the conversation (agent's response)s\n",
    "last_message = response.messages[-1]\n",
    "# Extract the text content from the message\n",
    "text_content = last_message.contents[0].text\n",
    "# Display the formatted travel plan\n",
    "print(\"🏖️ Travel plan:\")\n",
    "print(text_content)"
   ]
  },
  {
   "cell_type": "markdown",
   "metadata": {},
   "source": [
    "\n---\n\n**குறிப்பு**:  \nஇந்த ஆவணம் [Co-op Translator](https://github.com/Azure/co-op-translator) என்ற AI மொழிபெயர்ப்பு சேவையை பயன்படுத்தி மொழிபெயர்க்கப்பட்டுள்ளது. எங்களது துல்லியத்திற்கான முயற்சிகள் இருந்தாலும், தானியங்கி மொழிபெயர்ப்புகளில் பிழைகள் அல்லது தவறுகள் இருக்கக்கூடும் என்பதை தயவுசெய்து கவனத்தில் கொள்ளவும். அதன் தாய்மொழியில் உள்ள மூல ஆவணம் அதிகாரப்பூர்வ ஆதாரமாக கருதப்பட வேண்டும். முக்கியமான தகவல்களுக்கு, தொழில்முறை மனித மொழிபெயர்ப்பு பரிந்துரைக்கப்படுகிறது. இந்த மொழிபெயர்ப்பைப் பயன்படுத்துவதால் ஏற்படும் எந்த தவறான புரிதல்கள் அல்லது தவறான விளக்கங்களுக்கு நாங்கள் பொறுப்பல்ல.\n"
   ]
  }
 ],
 "metadata": {
  "kernelspec": {
   "display_name": "agentframeworkenv",
   "language": "python",
   "name": "python3"
  },
  "language_info": {
   "codemirror_mode": {
    "name": "ipython",
    "version": 3
   },
   "file_extension": ".py",
   "mimetype": "text/x-python",
   "name": "python",
   "nbconvert_exporter": "python",
   "pygments_lexer": "ipython3",
   "version": "3.12.10"
  },
  "polyglot_notebook": {
   "kernelInfo": {
    "defaultKernelName": "csharp",
    "items": [
     {
      "aliases": [],
      "name": "csharp"
     }
    ]
   }
  },
  "coopTranslator": {
   "original_hash": "02d6b305971fe27448c9d46a4c91eaf3",
   "translation_date": "2025-10-11T11:47:15+00:00",
   "source_file": "01-intro-to-ai-agents/code_samples/01-python-agent-framework.ipynb",
   "language_code": "ta"
  }
 },
 "nbformat": 4,
 "nbformat_minor": 5
}