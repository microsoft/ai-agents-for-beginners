{
 "cells": [
  {
   "cell_type": "code",
   "execution_count": 1,
   "id": "4b2cf5f5",
   "metadata": {},
   "outputs": [
    {
     "name": "stdout",
     "output_type": "stream",
     "text": [
      "✅ All imports successful!\n"
     ]
    }
   ],
   "source": [
    "import asyncio\n",
    "import json\n",
    "import os\n",
    "from typing import Annotated, Any, Never\n",
    "\n",
    "from agent_framework import (\n",
    "    AgentExecutor,\n",
    "    AgentExecutorRequest,\n",
    "    AgentExecutorResponse,\n",
    "    ChatMessage,\n",
    "    Role,\n",
    "    WorkflowBuilder,\n",
    "    WorkflowContext,\n",
    "    ai_function,\n",
    "    executor,\n",
    ")\n",
    "\n",
    "# 🤖 GitHub Models or OpenAI client integration\n",
    "from agent_framework.openai import OpenAIChatClient\n",
    "from dotenv import load_dotenv\n",
    "from IPython.display import HTML, display\n",
    "from pydantic import BaseModel\n",
    "\n",
    "print(\"✅ All imports successful!\")"
   ]
  },
  {
   "cell_type": "markdown",
   "id": "001c224e",
   "metadata": {},
   "source": [
    "## படி 1: கட்டமைக்கப்பட்ட வெளியீடுகளுக்கான Pydantic மாதிரிகளை வரையறுக்கவும்\n",
    "\n",
    "இந்த மாதிரிகள் ஏஜென்ட்கள் திருப்பி அளிக்கும் **schema**-ஐ வரையறுக்கின்றன. Pydantic உடன் `response_format`-ஐ பயன்படுத்துவதால் கிடைக்கும் நன்மைகள்:\n",
    "- ✅ வகை-பாதுகாப்பான தரவுகளை எளிதாக எடுக்க முடியும்\n",
    "- ✅ தானியங்கச் சரிபார்ப்பு\n",
    "- ✅ இலவச உரை பதில்களில் பிழைகள் இல்லாமல்\n",
    "- ✅ புலங்களின் அடிப்படையில் எளிதான நிபந்தனை வழிமுறைகள்\n"
   ]
  },
  {
   "cell_type": "code",
   "execution_count": 2,
   "id": "6c2ef582",
   "metadata": {},
   "outputs": [
    {
     "name": "stdout",
     "output_type": "stream",
     "text": [
      "✅ Pydantic models defined:\n",
      "   - BookingCheckResult (availability check)\n",
      "   - AlternativeResult (alternative suggestion)\n",
      "   - BookingConfirmation (booking confirmation)\n"
     ]
    }
   ],
   "source": [
    "class BookingCheckResult(BaseModel):\n",
    "    \"\"\"Result from checking hotel availability at a destination.\"\"\"\n",
    "\n",
    "    destination: str\n",
    "    has_availability: bool\n",
    "    message: str\n",
    "\n",
    "\n",
    "class AlternativeResult(BaseModel):\n",
    "    \"\"\"Suggested alternative destination when no rooms available.\"\"\"\n",
    "\n",
    "    alternative_destination: str\n",
    "    reason: str\n",
    "\n",
    "\n",
    "class BookingConfirmation(BaseModel):\n",
    "    \"\"\"Booking suggestion when rooms are available.\"\"\"\n",
    "\n",
    "    destination: str\n",
    "    action: str\n",
    "    message: str\n",
    "\n",
    "\n",
    "print(\"✅ Pydantic models defined:\")\n",
    "print(\"   - BookingCheckResult (availability check)\")\n",
    "print(\"   - AlternativeResult (alternative suggestion)\")\n",
    "print(\"   - BookingConfirmation (booking confirmation)\")"
   ]
  },
  {
   "cell_type": "markdown",
   "id": "48423ecc",
   "metadata": {},
   "source": [
    "## படி 2: ஹோட்டல் முன்பதிவு கருவியை உருவாக்கவும்\n",
    "\n",
    "இந்த கருவி **availability_agent** மூலம் அறைகள் கிடைக்கிறதா என்பதை சரிபார்க்க அழைக்கப்படும். `@ai_function` அலங்காரத்தை பயன்படுத்தி:\n",
    "- Python செயல்பாட்டை AI அழைக்கக்கூடிய கருவியாக மாற்றவும்\n",
    "- LLM க்கான JSON schema ஐ தானாக உருவாக்கவும்\n",
    "- அளவுரு சரிபார்ப்பை கையாளவும்\n",
    "- முகவர்களால் தானாக அழைக்கப்படுவதற்கு அனுமதிக்கவும்\n",
    "\n",
    "இந்த டெமோவிற்காக:\n",
    "- **ஸ்டாக்ஹோம், சீட்டில், டோக்கியோ, லண்டன், ஆம்ஸ்டர்டாம்** → அறைகள் உள்ளன ✅\n",
    "- **மற்ற அனைத்து நகரங்கள்** → அறைகள் இல்லை ❌\n"
   ]
  },
  {
   "cell_type": "code",
   "execution_count": 3,
   "id": "aad7e7ec",
   "metadata": {},
   "outputs": [
    {
     "name": "stdout",
     "output_type": "stream",
     "text": [
      "✅ hotel_booking tool created with @ai_function decorator\n"
     ]
    }
   ],
   "source": [
    "@ai_function(description=\"Check hotel room availability for a destination city\")\n",
    "def hotel_booking(destination: Annotated[str, \"The destination city to check for hotel rooms\"]) -> str:\n",
    "    \"\"\"\n",
    "    Simulates checking hotel room availability.\n",
    "    \n",
    "    Returns JSON string with availability status.\n",
    "    \"\"\"\n",
    "    display(\n",
    "        HTML(f\"\"\"\n",
    "        <div style='padding: 15px; background: #e3f2fd; border-left: 4px solid #2196f3; border-radius: 4px; margin: 10px 0;'>\n",
    "            <strong>🔍 Tool Invoked:</strong> hotel_booking(\"{destination}\")\n",
    "        </div>\n",
    "    \"\"\")\n",
    "    )\n",
    "\n",
    "    # Simulate availability check\n",
    "    cities_with_rooms = [\"stockholm\", \"seattle\", \"tokyo\", \"london\", \"amsterdam\"]\n",
    "    has_rooms = destination.lower() in cities_with_rooms\n",
    "\n",
    "    result = {\"has_availability\": has_rooms, \"destination\": destination}\n",
    "\n",
    "    return json.dumps(result)\n",
    "\n",
    "\n",
    "print(\"✅ hotel_booking tool created with @ai_function decorator\")"
   ]
  },
  {
   "cell_type": "markdown",
   "id": "134c54b0",
   "metadata": {},
   "source": [
    "## படி 3: வழிமாற்றத்திற்கான நிலைமைகள் செயல்பாடுகளை வரையறுக்கவும்\n",
    "\n",
    "இந்த செயல்பாடுகள் முகவரின் பதிலை ஆய்வு செய்து, வேலைப்பாடில் எந்த பாதையை எடுத்துச் செல்ல வேண்டும் என்பதை தீர்மானிக்கின்றன.\n",
    "\n",
    "**முக்கிய முறை:**\n",
    "1. செய்தி `AgentExecutorResponse` ஆக உள்ளதா என்பதை சரிபார்க்கவும்\n",
    "2. அமைந்த வெளியீட்டை (Pydantic மாதிரி) பகுப்பாய்வு செய்யவும்\n",
    "3. வழிமாற்றத்தை கட்டுப்படுத்த `True` அல்லது `False` ஐ திருப்பவும்\n",
    "\n",
    "வேலைப்பாடு **எட்ஜ்களில்** இந்த நிலைமைகளை மதிப்பீடு செய்து, அடுத்ததாக எந்த செயல்பாட்டாளரை அழைக்க வேண்டும் என்பதை தீர்மானிக்கும்.\n"
   ]
  },
  {
   "cell_type": "code",
   "execution_count": 4,
   "id": "6960edd1",
   "metadata": {},
   "outputs": [
    {
     "name": "stdout",
     "output_type": "stream",
     "text": [
      "✅ Condition functions defined:\n",
      "   - has_availability_condition (routes when rooms exist)\n",
      "   - no_availability_condition (routes when no rooms)\n"
     ]
    }
   ],
   "source": [
    "def has_availability_condition(message: Any) -> bool:\n",
    "    \"\"\"\n",
    "    Condition for routing when hotels ARE available.\n",
    "    \n",
    "    Returns True if the destination has hotel rooms.\n",
    "    \"\"\"\n",
    "    if not isinstance(message, AgentExecutorResponse):\n",
    "        return True  # Default to True if unexpected type\n",
    "\n",
    "    try:\n",
    "        result = BookingCheckResult.model_validate_json(message.agent_run_response.text)\n",
    "\n",
    "        display(\n",
    "            HTML(f\"\"\"\n",
    "            <div style='padding: 12px; background: #c8e6c9; border-left: 4px solid #4caf50; border-radius: 4px; margin: 10px 0;'>\n",
    "                <strong>✅ Condition Check:</strong> has_availability = <strong>{result.has_availability}</strong> for {result.destination}\n",
    "            </div>\n",
    "        \"\"\")\n",
    "        )\n",
    "\n",
    "        return result.has_availability\n",
    "    except Exception as e:\n",
    "        display(\n",
    "            HTML(f\"\"\"\n",
    "            <div style='padding: 12px; background: #ffcdd2; border-left: 4px solid #f44336; border-radius: 4px; margin: 10px 0;'>\n",
    "                <strong>⚠️  Error:</strong> {str(e)}\n",
    "            </div>\n",
    "        \"\"\")\n",
    "        )\n",
    "        return False\n",
    "\n",
    "\n",
    "def no_availability_condition(message: Any) -> bool:\n",
    "    \"\"\"\n",
    "    Condition for routing when hotels are NOT available.\n",
    "    \n",
    "    Returns True if the destination has no hotel rooms.\n",
    "    \"\"\"\n",
    "    if not isinstance(message, AgentExecutorResponse):\n",
    "        return False\n",
    "\n",
    "    try:\n",
    "        result = BookingCheckResult.model_validate_json(message.agent_run_response.text)\n",
    "\n",
    "        display(\n",
    "            HTML(f\"\"\"\n",
    "            <div style='padding: 12px; background: #ffecb3; border-left: 4px solid #ff9800; border-radius: 4px; margin: 10px 0;'>\n",
    "                <strong>❌ Condition Check:</strong> no_availability for {result.destination}\n",
    "            </div>\n",
    "        \"\"\")\n",
    "        )\n",
    "\n",
    "        return not result.has_availability\n",
    "    except Exception as e:\n",
    "        return False\n",
    "\n",
    "\n",
    "print(\"✅ Condition functions defined:\")\n",
    "print(\"   - has_availability_condition (routes when rooms exist)\")\n",
    "print(\"   - no_availability_condition (routes when no rooms)\")"
   ]
  },
  {
   "cell_type": "markdown",
   "id": "9dc783ba",
   "metadata": {},
   "source": [
    "## படி 4: தனிப்பயன் காட்சி செயல்படுத்தியை உருவாக்கவும்\n",
    "\n",
    "செயல்படுத்திகள் என்பது மாற்றங்கள் அல்லது பக்க விளைவுகளைச் செய்யும் வேலைப்பாடுகளின் கூறுகள். இறுதி முடிவை காட்டும் தனிப்பயன் செயல்படுத்தியை உருவாக்க `@executor` அலங்காரத்தை பயன்படுத்துகிறோம்.\n",
    "\n",
    "**முக்கிய கருத்துக்கள்:**\n",
    "- `@executor(id=\"...\")` - ஒரு செயல்பாட்டை வேலைப்பாடுச் செயல்படுத்தியாக பதிவு செய்கிறது\n",
    "- `WorkflowContext[Never, str]` - உள்ளீடு/வெளியீட்டுக்கான வகை குறிப்புகள்\n",
    "- `ctx.yield_output(...)` - இறுதி வேலைப்பாடின் முடிவை வழங்குகிறது\n"
   ]
  },
  {
   "cell_type": "code",
   "execution_count": 5,
   "id": "c67f6b55",
   "metadata": {},
   "outputs": [
    {
     "name": "stdout",
     "output_type": "stream",
     "text": [
      "✅ display_result executor created with @executor decorator\n"
     ]
    }
   ],
   "source": [
    "@executor(id=\"display_result\")\n",
    "async def display_result(response: AgentExecutorResponse, ctx: WorkflowContext[Never, str]) -> None:\n",
    "    \"\"\"\n",
    "    Display the final result as workflow output.\n",
    "    \n",
    "    This executor receives the final agent response and yields it as the workflow output.\n",
    "    \"\"\"\n",
    "    display(\n",
    "        HTML(\"\"\"\n",
    "        <div style='padding: 15px; background: #f3e5f5; border-left: 4px solid #9c27b0; border-radius: 4px; margin: 10px 0;'>\n",
    "            <strong>📤 Display Executor:</strong> Yielding workflow output\n",
    "        </div>\n",
    "    \"\"\")\n",
    "    )\n",
    "\n",
    "    await ctx.yield_output(response.agent_run_response.text)\n",
    "\n",
    "\n",
    "print(\"✅ display_result executor created with @executor decorator\")"
   ]
  },
  {
   "cell_type": "markdown",
   "id": "7de6eb90",
   "metadata": {},
   "source": [
    "## படி 5: சூழல் மாறிகள் ஏற்றவும்\n",
    "\n",
    "LLM கிளையண்டை அமைக்கவும். இந்த எடுத்துக்காட்டு கீழ்வரும்வற்றுடன் வேலை செய்கிறது:\n",
    "- **GitHub மாடல்கள்** (GitHub டோக்கனுடன் இலவச நிலை)\n",
    "- **Azure OpenAI**\n",
    "- **OpenAI**\n"
   ]
  },
  {
   "cell_type": "code",
   "execution_count": 6,
   "id": "1e8f0d88",
   "metadata": {},
   "outputs": [],
   "source": [
    "# Load environment variables\n",
    "load_dotenv()\n",
    "\n",
    "# Check for GitHub Models or OpenAI\n",
    "chat_client = OpenAIChatClient(base_url=os.environ.get(\n",
    "    \"GITHUB_ENDPOINT\"), api_key=os.environ.get(\"GITHUB_TOKEN\"), model_id=\"gpt-4o\")"
   ]
  },
  {
   "cell_type": "markdown",
   "id": "3fc61fe7",
   "metadata": {},
   "source": [
    "## படி 6: அமைப்பான வெளியீடுகளுடன் AI முகவர்களை உருவாக்குதல்\n",
    "\n",
    "நாம் **மூன்று சிறப்பு முகவர்களை** உருவாக்குகிறோம், ஒவ்வொன்றும் `AgentExecutor` மூலம் மூடப்பட்டுள்ளன:\n",
    "\n",
    "1. **availability_agent** - ஹோட்டல் கிடைக்குமா என்பதை கருவியைப் பயன்படுத்தி சரிபார்க்கிறது\n",
    "2. **alternative_agent** - மாற்று நகரங்களை பரிந்துரைக்கிறது (அறைகள் இல்லாதபோது)\n",
    "3. **booking_agent** - முன்பதிவை ஊக்குவிக்கிறது (அறைகள் கிடைக்கும் போது)\n",
    "\n",
    "**முக்கிய அம்சங்கள்:**\n",
    "- `tools=[hotel_booking]` - முகவருக்கு கருவியை வழங்குகிறது\n",
    "- `response_format=PydanticModel` - அமைப்பான JSON வெளியீட்டை கட்டாயமாக்குகிறது\n",
    "- `AgentExecutor(..., id=\"...\")` - வேலைப்பாடுகளில் பயன்படுத்த முகவரை மூடுகிறது\n"
   ]
  },
  {
   "cell_type": "code",
   "execution_count": 7,
   "id": "66466dda",
   "metadata": {},
   "outputs": [
    {
     "data": {
      "text/html": [
       "\n",
       "    <div style='padding: 15px; background: #e3f2fd; border-left: 4px solid #2196f3; border-radius: 4px; margin: 10px 0;'>\n",
       "        <strong>✅ Created 3 Agents:</strong>\n",
       "        <ul style='margin: 10px 0 0 0;'>\n",
       "            <li><strong>availability_agent</strong> - Checks availability with hotel_booking tool</li>\n",
       "            <li><strong>alternative_agent</strong> - Suggests alternative cities</li>\n",
       "            <li><strong>booking_agent</strong> - Encourages booking</li>\n",
       "        </ul>\n",
       "    </div>\n"
      ],
      "text/plain": [
       "<IPython.core.display.HTML object>"
      ]
     },
     "metadata": {},
     "output_type": "display_data"
    }
   ],
   "source": [
    "# Agent 1: Check availability with tool\n",
    "availability_agent = AgentExecutor(\n",
    "    chat_client.create_agent(\n",
    "        instructions=(\n",
    "            \"You are a hotel booking assistant that checks room availability. \"\n",
    "            \"Use the hotel_booking tool to check if rooms are available at the destination. \"\n",
    "            \"Return JSON with fields: destination (string), has_availability (bool), and message (string). \"\n",
    "            \"The message should summarize the availability status.\"\n",
    "        ),\n",
    "        tools=[hotel_booking],\n",
    "        response_format=BookingCheckResult,\n",
    "    ),\n",
    "    id=\"availability_agent\",\n",
    ")\n",
    "\n",
    "# Agent 2: Suggest alternative (when no rooms)\n",
    "alternative_agent = AgentExecutor(\n",
    "    chat_client.create_agent(\n",
    "        instructions=(\n",
    "            \"You are a helpful travel assistant. When a user cannot find hotels in their requested city, \"\n",
    "            \"suggest an alternative nearby city that has availability. \"\n",
    "            \"Return JSON with fields: alternative_destination (string) and reason (string). \"\n",
    "            \"Make your suggestion sound appealing and helpful.\"\n",
    "        ),\n",
    "        response_format=AlternativeResult,\n",
    "    ),\n",
    "    id=\"alternative_agent\",\n",
    ")\n",
    "\n",
    "# Agent 3: Suggest booking (when rooms available)\n",
    "booking_agent = AgentExecutor(\n",
    "    chat_client.create_agent(\n",
    "        instructions=(\n",
    "            \"You are a booking assistant. The user has found available hotel rooms. \"\n",
    "            \"Encourage them to book by highlighting the destination's appeal. \"\n",
    "            \"Return JSON with fields: destination (string), action (string), and message (string). \"\n",
    "            \"The action should be 'book_now' and message should be encouraging.\"\n",
    "        ),\n",
    "        response_format=BookingConfirmation,\n",
    "    ),\n",
    "    id=\"booking_agent\",\n",
    ")\n",
    "\n",
    "display(\n",
    "    HTML(\"\"\"\n",
    "    <div style='padding: 15px; background: #e3f2fd; border-left: 4px solid #2196f3; border-radius: 4px; margin: 10px 0;'>\n",
    "        <strong>✅ Created 3 Agents:</strong>\n",
    "        <ul style='margin: 10px 0 0 0;'>\n",
    "            <li><strong>availability_agent</strong> - Checks availability with hotel_booking tool</li>\n",
    "            <li><strong>alternative_agent</strong> - Suggests alternative cities</li>\n",
    "            <li><strong>booking_agent</strong> - Encourages booking</li>\n",
    "        </ul>\n",
    "    </div>\n",
    "\"\"\")\n",
    ")"
   ]
  },
  {
   "cell_type": "markdown",
   "id": "7879a0cb",
   "metadata": {},
   "source": [
    "## படி 7: நிபந்தனை விளிம்புகளுடன் பணிச்சூழலை உருவாக்கவும்\n",
    "\n",
    "இப்போது நிபந்தனை வழிமுறைகளுடன் வரைபடத்தை உருவாக்க `WorkflowBuilder` ஐ பயன்படுத்துகிறோம்:\n",
    "\n",
    "**பணிச்சூழல் அமைப்பு:**\n",
    "```\n",
    "availability_agent (START)\n",
    "        ↓\n",
    "   Evaluate conditions\n",
    "        ↙         ↘\n",
    "[no_availability]  [has_availability]\n",
    "        ↓              ↓\n",
    "alternative_agent  booking_agent\n",
    "        ↓              ↓\n",
    "    display_result ←───┘\n",
    "```\n",
    "\n",
    "**முக்கிய முறைகள்:**\n",
    "- `.set_start_executor(...)` - தொடக்க புள்ளியை அமைக்கிறது\n",
    "- `.add_edge(from, to, condition=...)` - நிபந்தனை விளிம்பை சேர்க்கிறது\n",
    "- `.build()` - பணிச்சூழலை இறுதியாக முடிக்கிறது\n"
   ]
  },
  {
   "cell_type": "code",
   "execution_count": 8,
   "id": "90bb29dd",
   "metadata": {},
   "outputs": [
    {
     "data": {
      "text/html": [
       "\n",
       "    <div style='padding: 20px; background: linear-gradient(135deg, #667eea 0%, #764ba2 100%); color: white; border-radius: 8px; margin: 10px 0;'>\n",
       "        <h3 style='margin: 0 0 15px 0;'>✅ Workflow Built Successfully!</h3>\n",
       "        <p style='margin: 0; line-height: 1.6;'>\n",
       "            <strong>Conditional Routing:</strong><br>\n",
       "            • If <strong>NO availability</strong> → alternative_agent → display_result<br>\n",
       "            • If <strong>availability</strong> → booking_agent → display_result\n",
       "        </p>\n",
       "    </div>\n"
      ],
      "text/plain": [
       "<IPython.core.display.HTML object>"
      ]
     },
     "metadata": {},
     "output_type": "display_data"
    }
   ],
   "source": [
    "# Build the workflow with conditional routing\n",
    "workflow = (\n",
    "    WorkflowBuilder()\n",
    "    .set_start_executor(availability_agent)\n",
    "    # NO AVAILABILITY PATH\n",
    "    .add_edge(availability_agent, alternative_agent, condition=no_availability_condition)\n",
    "    .add_edge(alternative_agent, display_result)\n",
    "    # HAS AVAILABILITY PATH\n",
    "    .add_edge(availability_agent, booking_agent, condition=has_availability_condition)\n",
    "    .add_edge(booking_agent, display_result)\n",
    "    .build()\n",
    ")\n",
    "\n",
    "display(\n",
    "    HTML(\"\"\"\n",
    "    <div style='padding: 20px; background: linear-gradient(135deg, #667eea 0%, #764ba2 100%); color: white; border-radius: 8px; margin: 10px 0;'>\n",
    "        <h3 style='margin: 0 0 15px 0;'>✅ Workflow Built Successfully!</h3>\n",
    "        <p style='margin: 0; line-height: 1.6;'>\n",
    "            <strong>Conditional Routing:</strong><br>\n",
    "            • If <strong>NO availability</strong> → alternative_agent → display_result<br>\n",
    "            • If <strong>availability</strong> → booking_agent → display_result\n",
    "        </p>\n",
    "    </div>\n",
    "\"\"\")\n",
    ")"
   ]
  },
  {
   "cell_type": "markdown",
   "id": "0a3ad845",
   "metadata": {},
   "source": [
    "## படி 8: சோதனை வழக்கு 1 - கிடைக்காத நகரம் (பாரிஸ்)\n",
    "\n",
    "கிடைக்காத பாதையை சோதிக்க பாரிஸில் ஹோட்டல்களை கோருவோம் (எங்கள் சிமுலேஷனில் எந்த அறைகளும் இல்லை).\n"
   ]
  },
  {
   "cell_type": "code",
   "execution_count": 9,
   "id": "af1538cd",
   "metadata": {},
   "outputs": [
    {
     "data": {
      "text/html": [
       "\n",
       "    <div style='padding: 20px; background: #fff3e0; border-left: 4px solid #ff9800; border-radius: 8px; margin: 20px 0;'>\n",
       "        <h3 style='margin: 0 0 10px 0; color: #e65100;'>🧪 TEST CASE 1: Paris (No Availability)</h3>\n",
       "        <p style='margin: 0;'>Expected workflow path: availability_agent → alternative_agent → display_result</p>\n",
       "    </div>\n"
      ],
      "text/plain": [
       "<IPython.core.display.HTML object>"
      ]
     },
     "metadata": {},
     "output_type": "display_data"
    },
    {
     "data": {
      "text/html": [
       "\n",
       "        <div style='padding: 15px; background: #e3f2fd; border-left: 4px solid #2196f3; border-radius: 4px; margin: 10px 0;'>\n",
       "            <strong>🔍 Tool Invoked:</strong> hotel_booking(\"Paris\")\n",
       "        </div>\n",
       "    "
      ],
      "text/plain": [
       "<IPython.core.display.HTML object>"
      ]
     },
     "metadata": {},
     "output_type": "display_data"
    },
    {
     "data": {
      "text/html": [
       "\n",
       "            <div style='padding: 12px; background: #ffecb3; border-left: 4px solid #ff9800; border-radius: 4px; margin: 10px 0;'>\n",
       "                <strong>❌ Condition Check:</strong> no_availability for Paris\n",
       "            </div>\n",
       "        "
      ],
      "text/plain": [
       "<IPython.core.display.HTML object>"
      ]
     },
     "metadata": {},
     "output_type": "display_data"
    },
    {
     "data": {
      "text/html": [
       "\n",
       "            <div style='padding: 12px; background: #c8e6c9; border-left: 4px solid #4caf50; border-radius: 4px; margin: 10px 0;'>\n",
       "                <strong>✅ Condition Check:</strong> has_availability = <strong>False</strong> for Paris\n",
       "            </div>\n",
       "        "
      ],
      "text/plain": [
       "<IPython.core.display.HTML object>"
      ]
     },
     "metadata": {},
     "output_type": "display_data"
    },
    {
     "data": {
      "text/html": [
       "\n",
       "        <div style='padding: 15px; background: #f3e5f5; border-left: 4px solid #9c27b0; border-radius: 4px; margin: 10px 0;'>\n",
       "            <strong>📤 Display Executor:</strong> Yielding workflow output\n",
       "        </div>\n",
       "    "
      ],
      "text/plain": [
       "<IPython.core.display.HTML object>"
      ]
     },
     "metadata": {},
     "output_type": "display_data"
    },
    {
     "data": {
      "text/html": [
       "\n",
       "        <div style='padding: 25px; background: linear-gradient(135deg, #FFD700 0%, #FFA500 100%); border-radius: 12px; box-shadow: 0 4px 12px rgba(255,165,0,0.3); margin: 20px 0;'>\n",
       "            <h3 style='margin: 0 0 15px 0; color: #333;'>🏆 WORKFLOW RESULT (Paris)</h3>\n",
       "            <div style='background: white; padding: 20px; border-radius: 8px;'>\n",
       "                <p style='margin: 0 0 10px 0; font-size: 16px;'><strong>Status:</strong> ❌ No rooms in Paris</p>\n",
       "                <p style='margin: 0 0 10px 0; font-size: 16px;'><strong>Alternative Suggestion:</strong> 🏨 Versailles</p>\n",
       "                <p style='margin: 0; font-size: 14px; color: #666;'><strong>Reason:</strong> Versailles is a charming city located near Paris, offering beautiful historic architecture and the renowned Palace of Versailles. It’s an excellent alternative destination to explore while staying close to the capital.</p>\n",
       "            </div>\n",
       "        </div>\n",
       "    "
      ],
      "text/plain": [
       "<IPython.core.display.HTML object>"
      ]
     },
     "metadata": {},
     "output_type": "display_data"
    }
   ],
   "source": [
    "display(\n",
    "    HTML(\"\"\"\n",
    "    <div style='padding: 20px; background: #fff3e0; border-left: 4px solid #ff9800; border-radius: 8px; margin: 20px 0;'>\n",
    "        <h3 style='margin: 0 0 10px 0; color: #e65100;'>🧪 TEST CASE 1: Paris (No Availability)</h3>\n",
    "        <p style='margin: 0;'>Expected workflow path: availability_agent → alternative_agent → display_result</p>\n",
    "    </div>\n",
    "\"\"\")\n",
    ")\n",
    "\n",
    "# Create request for Paris\n",
    "request_paris = AgentExecutorRequest(\n",
    "    messages=[ChatMessage(Role.USER, text=\"I want to book a hotel in Paris\")], should_respond=True\n",
    ")\n",
    "\n",
    "# Run the workflow\n",
    "events_paris = await workflow.run(request_paris)\n",
    "outputs_paris = events_paris.get_outputs()\n",
    "\n",
    "# Display results\n",
    "if outputs_paris:\n",
    "    result_paris = AlternativeResult.model_validate_json(outputs_paris[0])\n",
    "\n",
    "    display(\n",
    "        HTML(f\"\"\"\n",
    "        <div style='padding: 25px; background: linear-gradient(135deg, #FFD700 0%, #FFA500 100%); border-radius: 12px; box-shadow: 0 4px 12px rgba(255,165,0,0.3); margin: 20px 0;'>\n",
    "            <h3 style='margin: 0 0 15px 0; color: #333;'>🏆 WORKFLOW RESULT (Paris)</h3>\n",
    "            <div style='background: white; padding: 20px; border-radius: 8px;'>\n",
    "                <p style='margin: 0 0 10px 0; font-size: 16px;'><strong>Status:</strong> ❌ No rooms in Paris</p>\n",
    "                <p style='margin: 0 0 10px 0; font-size: 16px;'><strong>Alternative Suggestion:</strong> 🏨 {result_paris.alternative_destination}</p>\n",
    "                <p style='margin: 0; font-size: 14px; color: #666;'><strong>Reason:</strong> {result_paris.reason}</p>\n",
    "            </div>\n",
    "        </div>\n",
    "    \"\"\")\n",
    "    )"
   ]
  },
  {
   "cell_type": "markdown",
   "id": "408a3f60",
   "metadata": {},
   "source": [
    "## படி 9: சோதனை வழக்கு 2 - கிடைக்குமிடம் உள்ள நகரம் (ஸ்டாக்ஹோம்)\n",
    "\n",
    "இப்போது ஸ்டாக்ஹோம் நகரத்தில் (எங்கள் சிமுலேஷனில் அறைகள் உள்ள நகரம்) ஹோட்டல்களை கோருவதன் மூலம் **கிடைக்குமிடம்** பாதையை சோதிப்போம்.\n"
   ]
  },
  {
   "cell_type": "code",
   "execution_count": 10,
   "id": "e1471000",
   "metadata": {},
   "outputs": [
    {
     "data": {
      "text/html": [
       "\n",
       "    <div style='padding: 20px; background: #e8f5e9; border-left: 4px solid #4caf50; border-radius: 8px; margin: 20px 0;'>\n",
       "        <h3 style='margin: 0 0 10px 0; color: #1b5e20;'>🧪 TEST CASE 2: Stockholm (Has Availability)</h3>\n",
       "        <p style='margin: 0;'>Expected workflow path: availability_agent → booking_agent → display_result</p>\n",
       "    </div>\n"
      ],
      "text/plain": [
       "<IPython.core.display.HTML object>"
      ]
     },
     "metadata": {},
     "output_type": "display_data"
    },
    {
     "data": {
      "text/html": [
       "\n",
       "        <div style='padding: 15px; background: #e3f2fd; border-left: 4px solid #2196f3; border-radius: 4px; margin: 10px 0;'>\n",
       "            <strong>🔍 Tool Invoked:</strong> hotel_booking(\"Stockholm\")\n",
       "        </div>\n",
       "    "
      ],
      "text/plain": [
       "<IPython.core.display.HTML object>"
      ]
     },
     "metadata": {},
     "output_type": "display_data"
    },
    {
     "data": {
      "text/html": [
       "\n",
       "            <div style='padding: 12px; background: #ffecb3; border-left: 4px solid #ff9800; border-radius: 4px; margin: 10px 0;'>\n",
       "                <strong>❌ Condition Check:</strong> no_availability for Stockholm\n",
       "            </div>\n",
       "        "
      ],
      "text/plain": [
       "<IPython.core.display.HTML object>"
      ]
     },
     "metadata": {},
     "output_type": "display_data"
    },
    {
     "data": {
      "text/html": [
       "\n",
       "            <div style='padding: 12px; background: #c8e6c9; border-left: 4px solid #4caf50; border-radius: 4px; margin: 10px 0;'>\n",
       "                <strong>✅ Condition Check:</strong> has_availability = <strong>True</strong> for Stockholm\n",
       "            </div>\n",
       "        "
      ],
      "text/plain": [
       "<IPython.core.display.HTML object>"
      ]
     },
     "metadata": {},
     "output_type": "display_data"
    },
    {
     "data": {
      "text/html": [
       "\n",
       "        <div style='padding: 15px; background: #f3e5f5; border-left: 4px solid #9c27b0; border-radius: 4px; margin: 10px 0;'>\n",
       "            <strong>📤 Display Executor:</strong> Yielding workflow output\n",
       "        </div>\n",
       "    "
      ],
      "text/plain": [
       "<IPython.core.display.HTML object>"
      ]
     },
     "metadata": {},
     "output_type": "display_data"
    },
    {
     "data": {
      "text/html": [
       "\n",
       "        <div style='padding: 25px; background: linear-gradient(135deg, #4caf50 0%, #8bc34a 100%); color: white; border-radius: 12px; box-shadow: 0 4px 12px rgba(76,175,80,0.3); margin: 20px 0;'>\n",
       "            <h3 style='margin: 0 0 15px 0;'>🏆 WORKFLOW RESULT (Stockholm)</h3>\n",
       "            <div style='background: white; color: #333; padding: 20px; border-radius: 8px;'>\n",
       "                <p style='margin: 0 0 10px 0; font-size: 16px;'><strong>Status:</strong> ✅ Rooms Available!</p>\n",
       "                <p style='margin: 0 0 10px 0; font-size: 16px;'><strong>Destination:</strong> 🏨 Stockholm</p>\n",
       "                <p style='margin: 0 0 10px 0; font-size: 16px;'><strong>Action:</strong> book_now</p>\n",
       "                <p style='margin: 0; font-size: 14px; color: #666;'><strong>Message:</strong> Stockholm is an enchanting city with striking architecture, rich history, and an incredible cultural scene. Book your hotel now to secure your stay in this captivating destination!</p>\n",
       "            </div>\n",
       "        </div>\n",
       "    "
      ],
      "text/plain": [
       "<IPython.core.display.HTML object>"
      ]
     },
     "metadata": {},
     "output_type": "display_data"
    }
   ],
   "source": [
    "display(\n",
    "    HTML(\"\"\"\n",
    "    <div style='padding: 20px; background: #e8f5e9; border-left: 4px solid #4caf50; border-radius: 8px; margin: 20px 0;'>\n",
    "        <h3 style='margin: 0 0 10px 0; color: #1b5e20;'>🧪 TEST CASE 2: Stockholm (Has Availability)</h3>\n",
    "        <p style='margin: 0;'>Expected workflow path: availability_agent → booking_agent → display_result</p>\n",
    "    </div>\n",
    "\"\"\")\n",
    ")\n",
    "\n",
    "# Create request for Stockholm\n",
    "request_stockholm = AgentExecutorRequest(\n",
    "    messages=[ChatMessage(Role.USER, text=\"I want to book a hotel in Stockholm\")], should_respond=True\n",
    ")\n",
    "\n",
    "# Run the workflow\n",
    "events_stockholm = await workflow.run(request_stockholm)\n",
    "outputs_stockholm = events_stockholm.get_outputs()\n",
    "\n",
    "# Display results\n",
    "if outputs_stockholm:\n",
    "    result_stockholm = BookingConfirmation.model_validate_json(outputs_stockholm[0])\n",
    "\n",
    "    display(\n",
    "        HTML(f\"\"\"\n",
    "        <div style='padding: 25px; background: linear-gradient(135deg, #4caf50 0%, #8bc34a 100%); color: white; border-radius: 12px; box-shadow: 0 4px 12px rgba(76,175,80,0.3); margin: 20px 0;'>\n",
    "            <h3 style='margin: 0 0 15px 0;'>🏆 WORKFLOW RESULT (Stockholm)</h3>\n",
    "            <div style='background: white; color: #333; padding: 20px; border-radius: 8px;'>\n",
    "                <p style='margin: 0 0 10px 0; font-size: 16px;'><strong>Status:</strong> ✅ Rooms Available!</p>\n",
    "                <p style='margin: 0 0 10px 0; font-size: 16px;'><strong>Destination:</strong> 🏨 {result_stockholm.destination}</p>\n",
    "                <p style='margin: 0 0 10px 0; font-size: 16px;'><strong>Action:</strong> {result_stockholm.action}</p>\n",
    "                <p style='margin: 0; font-size: 14px; color: #666;'><strong>Message:</strong> {result_stockholm.message}</p>\n",
    "            </div>\n",
    "        </div>\n",
    "    \"\"\")\n",
    "    )"
   ]
  },
  {
   "cell_type": "markdown",
   "id": "a415537c",
   "metadata": {},
   "source": [
    "## முக்கிய குறிப்புகள் மற்றும் அடுத்த படிகள்\n",
    "\n",
    "### ✅ நீங்கள் கற்றுக்கொண்டவை:\n",
    "\n",
    "1. **WorkflowBuilder முறை**\n",
    "   - `.set_start_executor()` பயன்படுத்தி தொடக்க புள்ளியை வரையறுக்கவும்\n",
    "   - `.add_edge(from, to, condition=...)` மூலம் நிபந்தனை வழிமுறையை அமைக்கவும்\n",
    "   - `.build()` அழைத்து வேலைப்பாட்டை இறுதிப்படுத்தவும்\n",
    "\n",
    "2. **நிபந்தனை வழிமுறை**\n",
    "   - நிபந்தனை செயல்பாடுகள் `AgentExecutorResponse` ஐ ஆய்வு செய்கின்றன\n",
    "   - அமைப்பான வெளியீடுகளை பகுத்து வழிமுறைகளை தீர்மானிக்கவும்\n",
    "   - ஒரு வழியை செயல்படுத்த `True` ஐ திருப்பவும், தவிர்க்க `False` ஐ திருப்பவும்\n",
    "\n",
    "3. **கருவி ஒருங்கிணைப்பு**\n",
    "   - Python செயல்பாடுகளை AI கருவிகளாக மாற்ற `@ai_function` பயன்படுத்தவும்\n",
    "   - ஏஜென்ட்கள் தேவையான போது கருவிகளை தானாக அழைக்கின்றன\n",
    "   - கருவிகள் JSON ஐ திருப்புகின்றன, அதை ஏஜென்ட்கள் பகுத்தறிய முடியும்\n",
    "\n",
    "4. **அமைப்பான வெளியீடுகள்**\n",
    "   - தரவுகளை பாதுகாப்பாக எடுக்க Pydantic மாதிரிகளை பயன்படுத்தவும்\n",
    "   - ஏஜென்ட்களை உருவாக்கும்போது `response_format=MyModel` அமைக்கவும்\n",
    "   - பதில்களை `Model.model_validate_json()` மூலம் பகுத்தறியவும்\n",
    "\n",
    "5. **தனிப்பயன் செயல்படுத்திகள்**\n",
    "   - `@executor(id=\"...\")` பயன்படுத்தி வேலைப்பாட்டு கூறுகளை உருவாக்கவும்\n",
    "   - செயல்படுத்திகள் தரவுகளை மாற்றவோ அல்லது பக்க விளைவுகளை உருவாக்கவோ முடியும்\n",
    "   - `ctx.yield_output()` பயன்படுத்தி வேலைப்பாட்டு முடிவுகளை உருவாக்கவும்\n",
    "\n",
    "### 🚀 உண்மையான உலக பயன்பாடுகள்:\n",
    "\n",
    "- **பயண முன்பதிவு**: கிடைக்குமா என சரிபார்க்கவும், மாற்று வழிகளை பரிந்துரைக்கவும், விருப்பங்களை ஒப்பிடவும்\n",
    "- **வாடிக்கையாளர் சேவை**: பிரச்சினை வகை, மனநிலை, முன்னுரிமை அடிப்படையில் வழிமாற்றம் செய்யவும்\n",
    "- **மின்வணிகம்**: கையிருப்பை சரிபார்க்கவும், மாற்று வழிகளை பரிந்துரைக்கவும், ஆர்டர்களை செயல்படுத்தவும்\n",
    "- **உள்ளடக்க மிதமாக்கல்**: நச்சுத்தன்மை மதிப்பீடுகள், பயனர் குறியீடுகள் அடிப்படையில் வழிமாற்றம் செய்யவும்\n",
    "- **அனுமதி வேலைப்பாடுகள்**: தொகை, பயனர் பங்கு, அபாய நிலை அடிப்படையில் வழிமாற்றம் செய்யவும்\n",
    "- **பல நிலை செயலாக்கம்**: தரவின் தரம், முழுமை அடிப்படையில் வழிமாற்றம் செய்யவும்\n",
    "\n",
    "### 📚 அடுத்த படிகள்:\n",
    "\n",
    "- மேலும் சிக்கலான நிபந்தனைகளை சேர்க்கவும் (பல அளவுகோல்கள்)\n",
    "- வேலைப்பாட்டு நிலை மேலாண்மையுடன் மடக்கங்களை செயல்படுத்தவும்\n",
    "- மீண்டும் பயன்படுத்தக்கூடிய கூறுகளுக்கான துணை வேலைப்பாடுகளை சேர்க்கவும்\n",
    "- உண்மையான APIகளுடன் ஒருங்கிணைக்கவும் (ஹோட்டல் முன்பதிவு, கையிருப்பு அமைப்புகள்)\n",
    "- பிழை கையாளுதல் மற்றும் மாற்று வழிகளை சேர்க்கவும்\n",
    "- உள்ளமைக்கப்பட்ட காட்சிப்படுத்தல் கருவிகளுடன் வேலைப்பாடுகளை காட்சிப்படுத்தவும்\n"
   ]
  },
  {
   "cell_type": "markdown",
   "metadata": {},
   "source": [
    "\n---\n\n**குறிப்பு**:  \nஇந்த ஆவணம் [Co-op Translator](https://github.com/Azure/co-op-translator) என்ற AI மொழிபெயர்ப்பு சேவையை பயன்படுத்தி மொழிபெயர்க்கப்பட்டுள்ளது. எங்கள் தரச்செயல்முறையை உறுதிப்படுத்த முயற்சிக்கிறோம், ஆனால் தானியக்க மொழிபெயர்ப்புகளில் பிழைகள் அல்லது தவறான தகவல்கள் இருக்கக்கூடும் என்பதை தயவுசெய்து கவனத்தில் கொள்ளவும். அதன் தாய்மொழியில் உள்ள மூல ஆவணம் அதிகாரப்பூர்வ ஆதாரமாக கருதப்பட வேண்டும். முக்கியமான தகவல்களுக்கு, தொழில்முறை மனித மொழிபெயர்ப்பு பரிந்துரைக்கப்படுகிறது. இந்த மொழிபெயர்ப்பைப் பயன்படுத்துவதால் ஏற்படும் எந்த தவறான புரிதல்கள் அல்லது தவறான விளக்கங்களுக்கு நாங்கள் பொறுப்பல்ல.\n"
   ]
  }
 ],
 "metadata": {
  "kernelspec": {
   "display_name": ".venv (3.12.11)",
   "language": "python",
   "name": "python3"
  },
  "language_info": {
   "codemirror_mode": {
    "name": "ipython",
    "version": 3
   },
   "file_extension": ".py",
   "mimetype": "text/x-python",
   "name": "python",
   "nbconvert_exporter": "python",
   "pygments_lexer": "ipython3",
   "version": "3.12.11"
  },
  "coopTranslator": {
   "original_hash": "30364214cfd3cead472540c147b60b02",
   "translation_date": "2025-10-11T11:46:34+00:00",
   "source_file": "14-microsoft-agent-framework/code-samples/14-conditional-workflow.ipynb",
   "language_code": "ta"
  }
 },
 "nbformat": 4,
 "nbformat_minor": 5
}