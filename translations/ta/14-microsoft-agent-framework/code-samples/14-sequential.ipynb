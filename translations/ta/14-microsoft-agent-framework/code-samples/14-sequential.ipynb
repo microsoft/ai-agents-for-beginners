{
 "cells": [
  {
   "cell_type": "markdown",
   "id": "2b91961c",
   "metadata": {},
   "source": [
    "## இரண்டு தொடர்ச்சியான முகவர்கள்:\n",
    "\n",
    "1. **முன்பகுதி முகவர்**: நகரத்திற்கு முதன்மை ஈர்ப்புகளை பரிந்துரைக்கிறார்  \n",
    "2. **கான்சியர்ஜ் முகவர்**: முன்பகுதி பரிந்துரையை பிரபலத்தன்மையின் அடிப்படையில் மதிப்பீடு செய்து தரமளிக்கிறார்  \n",
    "\n",
    "## தொடர்ச்சியான ஒர்கெஸ்ட்ரேஷனின் முக்கிய நன்மைகள்:\n",
    "\n",
    "- **மீண்டும் திருத்தம்**: இரண்டாவது முகவர் முதல் முகவரின் பணியை மேம்படுத்துகிறார்  \n",
    "- **சிறப்பு திறன்**: ஒவ்வொரு முகவருக்கும் செயல்முறையில் தனித்துவமான பங்கு உள்ளது  \n",
    "- **தரக் கட்டுப்பாடு**: உள்ளமைக்கப்பட்ட மதிப்பீடு மற்றும் சரிபார்ப்பு படிநிலை  \n",
    "- **தகவல் ஓட்டம் தெளிவு**: முகவர்களுக்கிடையேயான அமைப்பான ஒப்படைப்பு  \n",
    "\n",
    "## முன்பைத் தேவைகள்:\n",
    "- Microsoft Agent Framework நிறுவப்பட்டிருக்க வேண்டும்  \n",
    "- GitHub token அல்லது OpenAI API key அமைக்கப்பட்டிருக்க வேண்டும்  \n",
    "- அடிப்படை முகவர் கருத்துகளைப் புரிந்துகொள்ள வேண்டும்  \n"
   ]
  },
  {
   "cell_type": "code",
   "execution_count": 1,
   "id": "0981c0bb",
   "metadata": {},
   "outputs": [
    {
     "name": "stdout",
     "output_type": "stream",
     "text": [
      "All imports successful!\n"
     ]
    }
   ],
   "source": [
    "import asyncio\n",
    "import json\n",
    "import os\n",
    "from typing import Any, cast\n",
    "\n",
    "from agent_framework import (\n",
    "    ChatMessage,\n",
    "    SequentialBuilder,\n",
    "    WorkflowOutputEvent,\n",
    ")\n",
    "\n",
    "# GitHub Models or OpenAI client integration\n",
    "from agent_framework.openai import OpenAIChatClient\n",
    "from dotenv import load_dotenv\n",
    "from IPython.display import HTML, display\n",
    "from pydantic import BaseModel\n",
    "\n",
    "print(\"All imports successful!\")"
   ]
  },
  {
   "cell_type": "markdown",
   "id": "790b74bd",
   "metadata": {},
   "source": [
    "## படி 1: கட்டமைக்கப்பட்ட வெளியீடுகளுக்கான Pydantic மாதிரிகளை வரையறுக்கவும்\n",
    "\n",
    "இந்த மாதிரிகள் ஒவ்வொரு முகவரும் திருப்பி வழங்கும் திட்டத்தை வரையறுக்கின்றன. முன்பகுதி முகவர் பரிந்துரை வழங்குகிறார், மற்றும் உதவியாளர் முகவர் மதிப்பீடு மற்றும் மதிப்பீட்டையும் வழங்குகிறார்.\n"
   ]
  },
  {
   "cell_type": "code",
   "execution_count": 2,
   "id": "3436dc8d",
   "metadata": {},
   "outputs": [],
   "source": [
    "class AttractionRecommendation(BaseModel):\n",
    "    \"\"\"Attraction recommendation from the front desk agent.\"\"\"\n",
    "\n",
    "    city: str\n",
    "    attraction_name: str\n",
    "    description: str\n",
    "    category: str  # e.g., \"museum\", \"landmark\", \"park\", \"entertainment\"\n",
    "    recommended_duration: str  # e.g., \"2-3 hours\", \"half day\"\n",
    "    why_recommended: str\n",
    "    best_time_to_visit: str\n",
    "\n",
    "\n",
    "class AttractionReview(BaseModel):\n",
    "    \"\"\"Expert review and rating from the concierge agent.\"\"\"\n",
    "\n",
    "    attraction_name: str\n",
    "    city: str\n",
    "    popularity_score: int  # 1-10 scale\n",
    "    popularity_reasoning: str\n",
    "    visitor_rating: float  # 1.0-5.0 scale\n",
    "    pros: list[str]\n",
    "    cons: list[str]\n",
    "    concierge_recommendation: str\n",
    "    alternative_suggestions: list[str]"
   ]
  },
  {
   "cell_type": "markdown",
   "id": "f4269b29",
   "metadata": {},
   "source": [
    "## படி 2: சூழல் மாறிகளை ஏற்றவும்\n",
    "\n",
    "LLM கிளையண்டை (GitHub Models அல்லது OpenAI) ஒரே மாதிரியான நோட்புக் மாதிரியைப் பின்பற்றி அமைக்கவும்.\n"
   ]
  },
  {
   "cell_type": "code",
   "execution_count": 3,
   "id": "2152c7d3",
   "metadata": {},
   "outputs": [
    {
     "name": "stdout",
     "output_type": "stream",
     "text": [
      "Chat client configured successfully!\n"
     ]
    }
   ],
   "source": [
    "# Load environment variables\n",
    "load_dotenv()\n",
    "\n",
    "# Check for GitHub Models or OpenAI\n",
    "chat_client = OpenAIChatClient(\n",
    "    base_url=os.environ.get(\"GITHUB_ENDPOINT\"),\n",
    "    api_key=os.environ.get(\"GITHUB_TOKEN\"),\n",
    "    model_id=\"gpt-4o\"\n",
    ")\n",
    "\n",
    "print(\"Chat client configured successfully!\")"
   ]
  },
  {
   "cell_type": "markdown",
   "id": "e63c63dd",
   "metadata": {},
   "source": [
    "## படி 3: இரண்டு தொடர்ச்சியான முகவர்களை உருவாக்கவும்\n",
    "\n",
    "ஒவ்வொரு முகவருக்கும் தொடர்ச்சியான பணியாளரின் ஒரு குறிப்பிட்ட பங்கு உள்ளது. முன்பகுதி முகவர் பரிந்துரைகளை வழங்குகிறார், மற்றும் உதவியாளர் முகவர் அவற்றை மதிப்பீடு செய்து மதிப்பிடுகிறார்.\n"
   ]
  },
  {
   "cell_type": "code",
   "execution_count": 4,
   "id": "3f862eee",
   "metadata": {},
   "outputs": [],
   "source": [
    "# Agent 1: Front Desk Agent (Makes initial recommendations)\n",
    "front_desk_agent = chat_client.create_agent(\n",
    "    instructions=(\n",
    "        \"You are a knowledgeable hotel front desk agent who specializes in local attractions. \"\n",
    "        \"When a guest asks about attractions in a city, provide a single, well-researched recommendation \"\n",
    "        \"for a popular tourist attraction. Focus on giving practical information including what makes \"\n",
    "        \"this attraction special, how long to spend there, and the best time to visit. \"\n",
    "        \"Be helpful and enthusiastic about your recommendation. \"\n",
    "        \"Return structured JSON with the specified fields.\"\n",
    "    ),\n",
    "    name=\"front_desk_agent\",\n",
    "    response_format=AttractionRecommendation,\n",
    ")\n",
    "\n",
    "# Agent 2: Concierge Agent (Reviews and rates recommendations)\n",
    "concierge_agent = chat_client.create_agent(\n",
    "    instructions=(\n",
    "        \"You are an expert concierge with extensive knowledge of tourist attractions worldwide. \"\n",
    "        \"You will receive an attraction recommendation and must provide an expert review and rating. \"\n",
    "        \"Evaluate the recommendation based on the attraction's popularity, visitor satisfaction, \"\n",
    "        \"and overall quality. Provide a popularity score (1-10), visitor rating (1.0-5.0), \"\n",
    "        \"list pros and cons, and give your professional assessment. \"\n",
    "        \"Also suggest alternative attractions if appropriate. \"\n",
    "        \"Return structured JSON with the specified fields.\"\n",
    "    ),\n",
    "    name=\"concierge_agent\",\n",
    "    response_format=AttractionReview,\n",
    ")\n",
    "\n"
   ]
  },
  {
   "cell_type": "markdown",
   "id": "0afa99f5",
   "metadata": {},
   "source": [
    "## படி 4: தொடர்ச்சியான வேலைப்போக்கை உருவாக்கவும்\n",
    "\n",
    "SequentialBuilder ஒரு வேலைப்போக்கை உருவாக்குகிறது, இதில்:\n",
    "1. **முன்பகுதி முகவர்** பயனர் உள்ளீட்டை பெறுகிறார் மற்றும் பரிந்துரை செய்கிறார்\n",
    "2. **சங்கம முகவர்** முன்பகுதி பரிந்துரையை பெறுகிறார் மற்றும் நிபுணர் மதிப்பீட்டை வழங்குகிறார்\n",
    "3. **வெளியீடு** முதன்மை பரிந்துரை மற்றும் நிபுணர் மதிப்பீட்டை இரண்டையும் கொண்டுள்ளது\n"
   ]
  },
  {
   "cell_type": "code",
   "execution_count": 5,
   "id": "d76c5b11",
   "metadata": {},
   "outputs": [
    {
     "data": {
      "text/html": [
       "\n",
       "<div style='padding: 20px; background: linear-gradient(135deg, #ff7043 0%, #ff5722 100%); color: white; border-radius: 8px; margin: 10px 0;'>\n",
       "    <h3 style='margin: 0 0 15px 0;'>Sequential Workflow Built Successfully!</h3>\n",
       "    <p style='margin: 0; line-height: 1.6;'>\n",
       "        <strong>Flow:</strong><br>\n",
       "        • User Input → <strong>Front Desk Agent</strong> (recommendation)<br>\n",
       "        • Front Desk Output → <strong>Concierge Agent</strong> (review & rating)<br>\n",
       "        • Final Output → Combined recommendation + expert review\n",
       "    </p>\n",
       "</div>\n"
      ],
      "text/plain": [
       "<IPython.core.display.HTML object>"
      ]
     },
     "metadata": {},
     "output_type": "display_data"
    }
   ],
   "source": [
    "# Build the sequential workflow using SequentialBuilder\n",
    "workflow = (\n",
    "    SequentialBuilder()\n",
    "    .participants([front_desk_agent, concierge_agent])\n",
    "    .build()\n",
    ")\n",
    "\n",
    "display(HTML(\"\"\"\n",
    "<div style='padding: 20px; background: linear-gradient(135deg, #ff7043 0%, #ff5722 100%); color: white; border-radius: 8px; margin: 10px 0;'>\n",
    "    <h3 style='margin: 0 0 15px 0;'>Sequential Workflow Built Successfully!</h3>\n",
    "    <p style='margin: 0; line-height: 1.6;'>\n",
    "        <strong>Flow:</strong><br>\n",
    "        • User Input → <strong>Front Desk Agent</strong> (recommendation)<br>\n",
    "        • Front Desk Output → <strong>Concierge Agent</strong> (review & rating)<br>\n",
    "        • Final Output → Combined recommendation + expert review\n",
    "    </p>\n",
    "</div>\n",
    "\"\"\"))"
   ]
  },
  {
   "cell_type": "code",
   "execution_count": 6,
   "id": "27a52679",
   "metadata": {},
   "outputs": [
    {
     "data": {
      "text/html": [
       "\n",
       "    <div style='padding: 20px; background: #fff3e0; border-left: 4px solid #ff9800; border-radius: 8px; margin: 20px 0;'>\n",
       "        <h3 style='margin: 0 0 10px 0; color: #e65100;'>Processing Attraction Recommendation for Stockholm</h3>\n",
       "        <p style='margin: 0;'><strong>Status:</strong> Running sequential workflow...</p>\n",
       "    </div>\n",
       "    "
      ],
      "text/plain": [
       "<IPython.core.display.HTML object>"
      ]
     },
     "metadata": {},
     "output_type": "display_data"
    },
    {
     "data": {
      "text/html": [
       "\n",
       "        <div style='padding: 25px; background: linear-gradient(135deg, #4caf50 0%, #8bc34a 100%); color: white; border-radius: 12px; \n",
       "                    box-shadow: 0 4px 12px rgba(76,175,80,0.3); margin: 20px 0;'>\n",
       "            <h2 style='margin: 0 0 20px 0;'>Attraction Recommendation for Stockholm</h2>\n",
       "            <p style='margin: 0; font-size: 14px; opacity: 0.9;'>Generated by sequential agent workflow</p>\n",
       "        </div>\n",
       "        "
      ],
      "text/plain": [
       "<IPython.core.display.HTML object>"
      ]
     },
     "metadata": {},
     "output_type": "display_data"
    },
    {
     "data": {
      "text/html": [
       "\n",
       "    <div style='padding: 20px; background: #e3f2fd; border-radius: 8px; margin: 15px 0; border-left: 4px solid #2196f3;'>\n",
       "        <h3 style='margin: 0 0 15px 0; color: #1976d2;'>🏨 Front Desk Recommendation</h3>\n",
       "        <div style='margin-bottom: 15px;'>\n",
       "            <h4 style='margin: 0 0 8px 0; color: #333;'>Vasa Museum</h4>\n",
       "            <span style='background: #2196f3; color: white; padding: 4px 8px; border-radius: 12px; font-size: 12px;'>Historical museum</span>\n",
       "        </div>\n",
       "        <div style='margin-bottom: 15px;'>\n",
       "            <strong style='color: #333;'>Description:</strong> The Vasa Museum features the preserved 17th-century ship 'Vasa', which sank in 1628 and was salvaged in the 20th century.\n",
       "        </div>\n",
       "        <div style='margin-bottom: 10px;'>\n",
       "            <strong style='color: #333;'>Why Recommended:</strong> The museum is renowned for showcasing one of the best-preserved historical ships in the world and offers insight into Swedish maritime history.\n",
       "        </div>\n",
       "        <div style='margin-bottom: 10px;'>\n",
       "            <strong style='color: #333;'>Recommended Duration:</strong> 2-3 hours\n",
       "        </div>\n",
       "        <div>\n",
       "            <strong style='color: #333;'>Best Time to Visit:</strong> Late morning to early afternoon\n",
       "        </div>\n",
       "    </div>\n",
       "    "
      ],
      "text/plain": [
       "<IPython.core.display.HTML object>"
      ]
     },
     "metadata": {},
     "output_type": "display_data"
    },
    {
     "data": {
      "text/html": [
       "\n",
       "    <div style='padding: 20px; background: #fff3e0; border-radius: 8px; margin: 15px 0; border-left: 4px solid #ff9800;'>\n",
       "        <h3 style='margin: 0 0 15px 0; color: #f57c00;'>🎩 Concierge Expert Review</h3>\n",
       "\n",
       "        <div style='display: grid; grid-template-columns: 1fr 1fr; gap: 20px; margin-bottom: 20px;'>\n",
       "            <div style='background: rgba(255,152,0,0.1); padding: 15px; border-radius: 8px;'>\n",
       "                <h4 style='margin: 0 0 8px 0; color: #333;'>Popularity Score</h4>\n",
       "                <div style='font-size: 24px; font-weight: bold; color: #f57c00;'>9/10</div>\n",
       "                <div style='font-size: 12px; margin-top: 5px;'>🟩🟩🟩🟩🟩🟩🟩🟩🟩⬜</div>\n",
       "            </div>\n",
       "            <div style='background: rgba(255,152,0,0.1); padding: 15px; border-radius: 8px;'>\n",
       "                <h4 style='margin: 0 0 8px 0; color: #333;'>Visitor Rating</h4>\n",
       "                <div style='font-size: 20px; font-weight: bold; color: #f57c00;'>4.8/5.0</div>\n",
       "                <div style='font-size: 16px; margin-top: 5px;'>⭐⭐⭐⭐☆</div>\n",
       "            </div>\n",
       "        </div>\n",
       "\n",
       "        <div style='margin-bottom: 15px;'>\n",
       "            <strong style='color: #333;'>Popularity Reasoning:</strong> The preservation of the Vasa ship attracts global history enthusiasts, making the museum a standout location.\n",
       "        </div>\n",
       "\n",
       "        <div style='display: grid; grid-template-columns: 1fr 1fr; gap: 20px; margin-bottom: 15px;'>\n",
       "            <div>\n",
       "                <h4 style='margin: 0 0 8px 0; color: #333;'>Pros:</h4>\n",
       "                <ul style='margin: 0; padding-left: 20px;'><li style='color: #4caf50;'>✓ Unique, meticulously restored 17th-century ship as the focal exhibit.</li><li style='color: #4caf50;'>✓ Engaging multimedia presentations and comprehensive information.</li><li style='color: #4caf50;'>✓ Located in the pleasant Djurgården area, surrounded by other attractions.</li></ul>\n",
       "            </div>\n",
       "            <div>\n",
       "                <h4 style='margin: 0 0 8px 0; color: #333;'>Cons:</h4>\n",
       "                <ul style='margin: 0; padding-left: 20px;'><li style='color: #f44336;'>✗ High visitor turnout can lead to crowding.</li><li style='color: #f44336;'>✗ Limited focus on other historical aspects outside maritime themes.</li></ul>\n",
       "            </div>\n",
       "        </div>\n",
       "        <div style='margin-bottom: 15px;'>\n",
       "            <strong style='color: #333;'>Concierge Recommendation:</strong> The Vasa Museum is a premier cultural and historical attraction in Stockholm, offering a remarkable glimpse into the maritime history of Sweden.\n",
       "        </div>\n",
       "\n",
       "        <div>\n",
       "            <h4 style='margin: 0 0 8px 0; color: #333;'>Alternative Suggestions:</h4>\n",
       "            <ul style='margin: 0; padding-left: 20px; color: #555;'><li>Stadshuset (Stockholm City Hall)</li><li>Skansen Open-Air Museum</li><li>ABBA The Museum</li></ul>\n",
       "        </div>\n",
       "    </div>\n",
       "    "
      ],
      "text/plain": [
       "<IPython.core.display.HTML object>"
      ]
     },
     "metadata": {},
     "output_type": "display_data"
    }
   ],
   "source": [
    "async def display_attraction_recommendation(city: str):\n",
    "    \"\"\"Run the sequential workflow and display formatted results.\"\"\"\n",
    "\n",
    "    display(HTML(f\"\"\"\n",
    "    <div style='padding: 20px; background: #fff3e0; border-left: 4px solid #ff9800; border-radius: 8px; margin: 20px 0;'>\n",
    "        <h3 style='margin: 0 0 10px 0; color: #e65100;'>Processing Attraction Recommendation for {city}</h3>\n",
    "        <p style='margin: 0;'><strong>Status:</strong> Running sequential workflow...</p>\n",
    "    </div>\n",
    "    \"\"\"))\n",
    "\n",
    "    # Run the workflow\n",
    "    events = await workflow.run(f\"I want to visit an attraction in {city}\")\n",
    "    outputs = events.get_outputs()\n",
    "\n",
    "    if outputs:\n",
    "        # Get the final conversation from both agents\n",
    "        messages: list[ChatMessage] = outputs[0]\n",
    "\n",
    "        # Find front desk and concierge responses\n",
    "        front_desk_response = None\n",
    "        concierge_response = None\n",
    "\n",
    "        for msg in messages:\n",
    "            if msg.author_name == \"front_desk_agent\":\n",
    "                front_desk_response = msg.text\n",
    "            elif msg.author_name == \"concierge_agent\":\n",
    "                concierge_response = msg.text\n",
    "# Display results\n",
    "        display(HTML(f\"\"\"\n",
    "        <div style='padding: 25px; background: linear-gradient(135deg, #4caf50 0%, #8bc34a 100%); color: white; border-radius: 12px; \n",
    "                    box-shadow: 0 4px 12px rgba(76,175,80,0.3); margin: 20px 0;'>\n",
    "            <h2 style='margin: 0 0 20px 0;'>Attraction Recommendation for {city}</h2>\n",
    "            <p style='margin: 0; font-size: 14px; opacity: 0.9;'>Generated by sequential agent workflow</p>\n",
    "        </div>\n",
    "        \"\"\"))\n",
    "        \n",
    "        # Process and display responses\n",
    "        if front_desk_response:\n",
    "            try:\n",
    "                recommendation_data = AttractionRecommendation.model_validate_json(front_desk_response)\n",
    "                display_front_desk_section(recommendation_data)\n",
    "            except Exception as e:\n",
    "                display(HTML(f\"\"\"\n",
    "                <div style='padding: 15px; background: #ffcdd2; border-left: 4px solid #f44336; border-radius: 4px; margin: 10px 0;'>\n",
    "                    <strong>Error parsing front desk response:</strong> {str(e)}\n",
    "                    <details><summary>Raw response</summary>{front_desk_response}</details>\n",
    "                </div>\n",
    "                 \"\"\"))\n",
    "        \n",
    "        if concierge_response:\n",
    "            try:\n",
    "                review_data = AttractionReview.model_validate_json(concierge_response)\n",
    "                display_concierge_section(review_data)\n",
    "            except Exception as e:\n",
    "                display(HTML(f\"\"\"\n",
    "                <div style='padding: 15px; background: #ffcdd2; border-left: 4px solid #f44336; border-radius: 4px; margin: 10px 0;'>\n",
    "                    <strong>Error parsing concierge response:</strong> {str(e)}\n",
    "                    <details><summary>Raw response</summary>{concierge_response}</details>\n",
    "                </div>\n",
    "                \"\"\"))\n",
    "\n",
    "\n",
    "def display_front_desk_section(data: AttractionRecommendation):\n",
    "    \"\"\"Display front desk recommendation in a formatted section.\"\"\"\n",
    "    \n",
    "    display(HTML(f\"\"\"\n",
    "    <div style='padding: 20px; background: #e3f2fd; border-radius: 8px; margin: 15px 0; border-left: 4px solid #2196f3;'>\n",
    "        <h3 style='margin: 0 0 15px 0; color: #1976d2;'>🏨 Front Desk Recommendation</h3>\n",
    "        <div style='margin-bottom: 15px;'>\n",
    "            <h4 style='margin: 0 0 8px 0; color: #333;'>{data.attraction_name}</h4>\n",
    "            <span style='background: #2196f3; color: white; padding: 4px 8px; border-radius: 12px; font-size: 12px;'>{data.category}</span>\n",
    "        </div>\n",
    "        <div style='margin-bottom: 15px;'>\n",
    "            <strong style='color: #333;'>Description:</strong> {data.description}\n",
    "        </div>\n",
    "        <div style='margin-bottom: 10px;'>\n",
    "            <strong style='color: #333;'>Why Recommended:</strong> {data.why_recommended}\n",
    "        </div>\n",
    "        <div style='margin-bottom: 10px;'>\n",
    "            <strong style='color: #333;'>Recommended Duration:</strong> {data.recommended_duration}\n",
    "        </div>\n",
    "        <div>\n",
    "            <strong style='color: #333;'>Best Time to Visit:</strong> {data.best_time_to_visit}\n",
    "        </div>\n",
    "    </div>\n",
    "    \"\"\"))\n",
    "def display_concierge_section(data: AttractionReview):\n",
    "    \"\"\"Display concierge review in a formatted section.\"\"\"\n",
    "    \n",
    "    # Create star rating display\n",
    "    star_rating = \"⭐\" * int(data.visitor_rating) + \"☆\" * (5 - int(data.visitor_rating))\n",
    "    \n",
    "    # Create popularity bar\n",
    "    popularity_bar = \"🟩\" * data.popularity_score + \"⬜\" * (10 - data.popularity_score)\n",
    "    \n",
    "    pros_list = \"\".join([f\"<li style='color: #4caf50;'>✓ {pro}</li>\" for pro in data.pros])\n",
    "    cons_list = \"\".join([f\"<li style='color: #f44336;'>✗ {con}</li>\" for con in data.cons])\n",
    "    alternatives_list = \"\".join([f\"<li>{alt}</li>\" for alt in data.alternative_suggestions])\n",
    "    \n",
    "    display(HTML(f\"\"\"\n",
    "    <div style='padding: 20px; background: #fff3e0; border-radius: 8px; margin: 15px 0; border-left: 4px solid #ff9800;'>\n",
    "        <h3 style='margin: 0 0 15px 0; color: #f57c00;'>🎩 Concierge Expert Review</h3>\n",
    "        \n",
    "        <div style='display: grid; grid-template-columns: 1fr 1fr; gap: 20px; margin-bottom: 20px;'>\n",
    "            <div style='background: rgba(255,152,0,0.1); padding: 15px; border-radius: 8px;'>\n",
    "                <h4 style='margin: 0 0 8px 0; color: #333;'>Popularity Score</h4>\n",
    "                <div style='font-size: 24px; font-weight: bold; color: #f57c00;'>{data.popularity_score}/10</div>\n",
    "                <div style='font-size: 12px; margin-top: 5px;'>{popularity_bar}</div>\n",
    "            </div>\n",
    "            <div style='background: rgba(255,152,0,0.1); padding: 15px; border-radius: 8px;'>\n",
    "                <h4 style='margin: 0 0 8px 0; color: #333;'>Visitor Rating</h4>\n",
    "                <div style='font-size: 20px; font-weight: bold; color: #f57c00;'>{data.visitor_rating}/5.0</div>\n",
    "                <div style='font-size: 16px; margin-top: 5px;'>{star_rating}</div>\n",
    "            </div>\n",
    "        </div>\n",
    "        \n",
    "        <div style='margin-bottom: 15px;'>\n",
    "            <strong style='color: #333;'>Popularity Reasoning:</strong> {data.popularity_reasoning}\n",
    "        </div>\n",
    "        \n",
    "        <div style='display: grid; grid-template-columns: 1fr 1fr; gap: 20px; margin-bottom: 15px;'>\n",
    "            <div>\n",
    "                <h4 style='margin: 0 0 8px 0; color: #333;'>Pros:</h4>\n",
    "                <ul style='margin: 0; padding-left: 20px;'>{pros_list}</ul>\n",
    "            </div>\n",
    "            <div>\n",
    "                <h4 style='margin: 0 0 8px 0; color: #333;'>Cons:</h4>\n",
    "                <ul style='margin: 0; padding-left: 20px;'>{cons_list}</ul>\n",
    "            </div>\n",
    "        </div>\n",
    "        <div style='margin-bottom: 15px;'>\n",
    "            <strong style='color: #333;'>Concierge Recommendation:</strong> {data.concierge_recommendation}\n",
    "        </div>\n",
    "        \n",
    "        <div>\n",
    "            <h4 style='margin: 0 0 8px 0; color: #333;'>Alternative Suggestions:</h4>\n",
    "            <ul style='margin: 0; padding-left: 20px; color: #555;'>{alternatives_list}</ul>\n",
    "        </div>\n",
    "    </div>\n",
    "    \"\"\"))\n",
    "    # Test with Paris\n",
    "await display_attraction_recommendation(\"Stockholm\")\n"
   ]
  },
  {
   "cell_type": "markdown",
   "id": "1840d000",
   "metadata": {},
   "source": [
    "## படி 8: வேலைநிலை பகுப்பாய்வு - தொடர்ச்சியான ஓட்டத்தை புரிந்துகொள்வது\n",
    "\n",
    "முகவர்களுக்கிடையில் தகவல் எப்படி ஓடுகிறது என்பதை ஆராய்ந்து, உரையாடல் வரலாற்றை பகுப்பாய்வு செய்வோம்.\n"
   ]
  },
  {
   "cell_type": "code",
   "execution_count": 7,
   "id": "86e1bcc3",
   "metadata": {},
   "outputs": [
    {
     "data": {
      "text/html": [
       "\n",
       "    <div style='padding: 20px; background: #f3e5f5; border-left: 4px solid #9c27b0; border-radius: 8px; margin: 20px 0;'>\n",
       "        <h3 style='margin: 0 0 10px 0; color: #7b1fa2;'>Sequential Flow Analysis for Barcelona</h3>\n",
       "        <p style='margin: 0;'>Examining agent interactions and information handoff...</p>\n",
       "    </div>\n",
       "    "
      ],
      "text/plain": [
       "<IPython.core.display.HTML object>"
      ]
     },
     "metadata": {},
     "output_type": "display_data"
    },
    {
     "data": {
      "text/html": [
       "\n",
       "        <div style='padding: 25px; background: #f3e5f5; border-radius: 12px; margin: 20px 0;'>\n",
       "            <h2 style='margin: 0 0 20px 0; color: #7b1fa2;'>Conversation Flow Analysis</h2>\n",
       "        </div>\n",
       "        "
      ],
      "text/plain": [
       "<IPython.core.display.HTML object>"
      ]
     },
     "metadata": {},
     "output_type": "display_data"
    },
    {
     "data": {
      "text/html": [
       "\n",
       "            <div style='padding: 15px; background: white; border-left: 4px solid #2196f3; border-radius: 4px; margin: 10px 0; box-shadow: 0 2px 4px rgba(0,0,0,0.1);'>\n",
       "                <div style='display: flex; align-items: center; margin-bottom: 10px;'>\n",
       "                    <span style='font-weight: bold; color: #2196f3; margin-right: 10px;'>Step 1:</span>\n",
       "                    <span style='font-weight: bold; color: #2196f3;'>👤 User</span>\n",
       "                </div>\n",
       "                <div style='color: #555; font-size: 14px; line-height: 1.4;'>\n",
       "                    I want to visit an attraction in Barcelona\n",
       "                </div>\n",
       "            </div>\n",
       "            "
      ],
      "text/plain": [
       "<IPython.core.display.HTML object>"
      ]
     },
     "metadata": {},
     "output_type": "display_data"
    },
    {
     "data": {
      "text/html": [
       "\n",
       "            <div style='padding: 15px; background: white; border-left: 4px solid #4caf50; border-radius: 4px; margin: 10px 0; box-shadow: 0 2px 4px rgba(0,0,0,0.1);'>\n",
       "                <div style='display: flex; align-items: center; margin-bottom: 10px;'>\n",
       "                    <span style='font-weight: bold; color: #4caf50; margin-right: 10px;'>Step 2:</span>\n",
       "                    <span style='font-weight: bold; color: #4caf50;'>🏨 Front Desk Agent</span>\n",
       "                </div>\n",
       "                <div style='color: #555; font-size: 14px; line-height: 1.4;'>\n",
       "                    {\"attraction_name\":\"Sagrada Família\",\"best_time_to_visit\":\"Morning hours\",\"category\":\"Architectural landmark\",\"city\":\"Barcelona\",\"description\":\"The Sagrada Família is an iconic basilica designed by th...\n",
       "                </div>\n",
       "            </div>\n",
       "            "
      ],
      "text/plain": [
       "<IPython.core.display.HTML object>"
      ]
     },
     "metadata": {},
     "output_type": "display_data"
    },
    {
     "data": {
      "text/html": [
       "\n",
       "            <div style='padding: 15px; background: white; border-left: 4px solid #ff9800; border-radius: 4px; margin: 10px 0; box-shadow: 0 2px 4px rgba(0,0,0,0.1);'>\n",
       "                <div style='display: flex; align-items: center; margin-bottom: 10px;'>\n",
       "                    <span style='font-weight: bold; color: #ff9800; margin-right: 10px;'>Step 3:</span>\n",
       "                    <span style='font-weight: bold; color: #ff9800;'>🎩 Concierge Agent</span>\n",
       "                </div>\n",
       "                <div style='color: #555; font-size: 14px; line-height: 1.4;'>\n",
       "                    {\"alternative_suggestions\":[\"Park Güell\",\"Casa Batlló\",\"Gothic Quarter\"],\"attraction_name\":\"Sagrada Família\",\"city\":\"Barcelona\",\"concierge_recommendation\":\"The Sagrada Família is an essential landmark...\n",
       "                </div>\n",
       "            </div>\n",
       "            "
      ],
      "text/plain": [
       "<IPython.core.display.HTML object>"
      ]
     },
     "metadata": {},
     "output_type": "display_data"
    },
    {
     "data": {
      "text/html": [
       "\n",
       "        <div style='padding: 20px; background: linear-gradient(135deg, #9c27b0 0%, #673ab7 100%); color: white; border-radius: 8px; margin: 20px 0;'>\n",
       "            <h3 style='margin: 0 0 15px 0;'>Flow Analysis Summary</h3>\n",
       "            <ul style='margin: 0; padding-left: 20px; line-height: 1.6;'>\n",
       "                <li><strong>Total Messages:</strong> 3</li>\n",
       "                <li><strong>Agents Involved:</strong> 2 (Front Desk + Concierge)</li>\n",
       "                <li><strong>Flow Pattern:</strong> Linear sequential (User → Agent 1 → Agent 2)</li>\n",
       "                <li><strong>Information Handoff:</strong> Front desk recommendation becomes concierge input</li>\n",
       "                <li><strong>Output Quality:</strong> Enhanced through expert review and rating</li>\n",
       "            </ul>\n",
       "        </div>\n",
       "        "
      ],
      "text/plain": [
       "<IPython.core.display.HTML object>"
      ]
     },
     "metadata": {},
     "output_type": "display_data"
    }
   ],
   "source": [
    "async def analyze_sequential_flow(city: str):\n",
    "    \"\"\"Analyze the sequential flow between agents.\"\"\"\n",
    "\n",
    "    display(HTML(f\"\"\"\n",
    "    <div style='padding: 20px; background: #f3e5f5; border-left: 4px solid #9c27b0; border-radius: 8px; margin: 20px 0;'>\n",
    "        <h3 style='margin: 0 0 10px 0; color: #7b1fa2;'>Sequential Flow Analysis for {city}</h3>\n",
    "        <p style='margin: 0;'>Examining agent interactions and information handoff...</p>\n",
    "    </div>\n",
    "    \"\"\"))\n",
    "\n",
    "    # Run the workflow\n",
    "    events = await workflow.run(f\"I want to visit an attraction in {city}\")\n",
    "    outputs = events.get_outputs()\n",
    "\n",
    "    if outputs:\n",
    "        messages: list[ChatMessage] = outputs[0]\n",
    "        display(HTML(f\"\"\"\n",
    "        <div style='padding: 25px; background: #f3e5f5; border-radius: 12px; margin: 20px 0;'>\n",
    "            <h2 style='margin: 0 0 20px 0; color: #7b1fa2;'>Conversation Flow Analysis</h2>\n",
    "        </div>\n",
    "        \"\"\"))\n",
    "\n",
    "        # Display each message in the sequence\n",
    "        for i, msg in enumerate(messages, 1):\n",
    "            role_color = {\n",
    "                \"user\": \"#2196f3\",\n",
    "                \"front_desk_agent\": \"#4caf50\",\n",
    "                \"concierge_agent\": \"#ff9800\"\n",
    "            }.get(msg.author_name or \"user\", \"#666666\")\n",
    "\n",
    "            role_name = {\n",
    "                \"user\": \"👤 User\",\n",
    "                \"front_desk_agent\": \"🏨 Front Desk Agent\",\n",
    "                \"concierge_agent\": \"🎩 Concierge Agent\"\n",
    "            }.get(msg.author_name or \"user\", \"Unknown\")\n",
    "\n",
    "            # Truncate long messages for flow analysis\n",
    "            content_preview = msg.text[:200] + \\\n",
    "                \"...\" if len(msg.text) > 200 else msg.text\n",
    "            display(HTML(f\"\"\"\n",
    "            <div style='padding: 15px; background: white; border-left: 4px solid {role_color}; border-radius: 4px; margin: 10px 0; box-shadow: 0 2px 4px rgba(0,0,0,0.1);'>\n",
    "                <div style='display: flex; align-items: center; margin-bottom: 10px;'>\n",
    "                    <span style='font-weight: bold; color: {role_color}; margin-right: 10px;'>Step {i}:</span>\n",
    "                    <span style='font-weight: bold; color: {role_color};'>{role_name}</span>\n",
    "                </div>\n",
    "                <div style='color: #555; font-size: 14px; line-height: 1.4;'>\n",
    "                    {content_preview}\n",
    "                </div>\n",
    "            </div>\n",
    "            \"\"\"))\n",
    "\n",
    "        # Analyze the flow\n",
    "        display(HTML(f\"\"\"\n",
    "        <div style='padding: 20px; background: linear-gradient(135deg, #9c27b0 0%, #673ab7 100%); color: white; border-radius: 8px; margin: 20px 0;'>\n",
    "            <h3 style='margin: 0 0 15px 0;'>Flow Analysis Summary</h3>\n",
    "            <ul style='margin: 0; padding-left: 20px; line-height: 1.6;'>\n",
    "                <li><strong>Total Messages:</strong> {len(messages)}</li>\n",
    "                <li><strong>Agents Involved:</strong> 2 (Front Desk + Concierge)</li>\n",
    "                <li><strong>Flow Pattern:</strong> Linear sequential (User → Agent 1 → Agent 2)</li>\n",
    "                <li><strong>Information Handoff:</strong> Front desk recommendation becomes concierge input</li>\n",
    "                <li><strong>Output Quality:</strong> Enhanced through expert review and rating</li>\n",
    "            </ul>\n",
    "        </div>\n",
    "        \"\"\"))\n",
    "\n",
    "        # Analyze the flow for Barcelona\n",
    "await analyze_sequential_flow(\"Barcelona\")\n",
    "            "
   ]
  },
  {
   "cell_type": "markdown",
   "metadata": {},
   "source": [
    "\n---\n\n**குறிப்பு**:  \nஇந்த ஆவணம் AI மொழிபெயர்ப்பு சேவை [Co-op Translator](https://github.com/Azure/co-op-translator) பயன்படுத்தி மொழிபெயர்க்கப்பட்டுள்ளது. நாங்கள் துல்லியத்திற்காக முயற்சிக்கிறோம், ஆனால் தானியங்கி மொழிபெயர்ப்புகளில் பிழைகள் அல்லது தவறுகள் இருக்கக்கூடும் என்பதை கவனத்தில் கொள்ளவும். அதன் தாய்மொழியில் உள்ள மூல ஆவணம் அதிகாரப்பூர்வ ஆதாரமாக கருதப்பட வேண்டும். முக்கியமான தகவல்களுக்கு, தொழில்முறை மனித மொழிபெயர்ப்பு பரிந்துரைக்கப்படுகிறது. இந்த மொழிபெயர்ப்பைப் பயன்படுத்துவதால் ஏற்படும் எந்த தவறான புரிதல்கள் அல்லது தவறான விளக்கங்களுக்கு நாங்கள் பொறுப்பல்ல.\n"
   ]
  }
 ],
 "metadata": {
  "kernelspec": {
   "display_name": ".venv (3.12.12)",
   "language": "python",
   "name": "python3"
  },
  "language_info": {
   "codemirror_mode": {
    "name": "ipython",
    "version": 3
   },
   "file_extension": ".py",
   "mimetype": "text/x-python",
   "name": "python",
   "nbconvert_exporter": "python",
   "pygments_lexer": "ipython3",
   "version": "3.12.12"
  },
  "coopTranslator": {
   "original_hash": "1590f9d36059513cfcbb3a7b6cf39b57",
   "translation_date": "2025-10-23T13:56:06+00:00",
   "source_file": "14-microsoft-agent-framework/code-samples/14-sequential.ipynb",
   "language_code": "ta"
  }
 },
 "nbformat": 4,
 "nbformat_minor": 5
}