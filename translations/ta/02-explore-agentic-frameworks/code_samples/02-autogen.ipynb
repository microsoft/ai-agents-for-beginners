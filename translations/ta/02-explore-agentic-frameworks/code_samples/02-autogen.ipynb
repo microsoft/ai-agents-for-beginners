{
 "cells": [
  {
   "cell_type": "markdown",
   "metadata": {},
   "source": [
    "# AutoGen அடிப்படை மாதிரி\n",
    "\n",
    "இந்த குறியீட்டு மாதிரியில், [AutoGen](https://aka.ms/ai-agents/autogen) AI Framework-ஐ பயன்படுத்தி ஒரு அடிப்படை முகவரியை உருவாக்குவீர்கள்.\n",
    "\n",
    "இந்த மாதிரியின் நோக்கம், பின்னர் வேறு முகவரியின் வடிவங்களை செயல்படுத்தும் போது பயன்படுத்தப்படும் படிகளை உங்களுக்குக் காட்டுவது.\n"
   ]
  },
  {
   "cell_type": "markdown",
   "metadata": {},
   "source": [
    "## தேவையான பைதான் தொகுப்புகளை இறக்குமதி செய்யவும்\n"
   ]
  },
  {
   "cell_type": "code",
   "execution_count": null,
   "metadata": {},
   "outputs": [],
   "source": [
    "import os\n",
    "from dotenv import load_dotenv\n",
    "\n",
    "from autogen_agentchat.agents import AssistantAgent\n",
    "from autogen_core.models import UserMessage\n",
    "from autogen_ext.models.azure import AzureAIChatCompletionClient\n",
    "from azure.core.credentials import AzureKeyCredential\n",
    "from autogen_core import CancellationToken\n",
    "\n",
    "from autogen_agentchat.messages import TextMessage\n",
    "from autogen_agentchat.ui import Console\n"
   ]
  },
  {
   "cell_type": "markdown",
   "metadata": {},
   "source": [
    "## கிளையன்ட் உருவாக்கம்\n",
    "\n",
    "இந்த உதாரணத்தில், LLM-ஐ அணுக [GitHub Models](https://aka.ms/ai-agents-beginners/github-models) பயன்படுத்தப்படும்.\n",
    "\n",
    "`model` என்பது `gpt-4o-mini` என வரையறுக்கப்பட்டுள்ளது. GitHub Models சந்தையில் கிடைக்கும் மற்றொரு மாடலுக்கு மாறி, வெவ்வேறு முடிவுகளைப் பார்க்க முயற்சிக்கவும்.\n",
    "\n",
    "ஒரு விரைவான சோதனையாக, நாம் ஒரு எளிய கேள்வியை இயக்கப் போகிறோம் - `பிரான்சின் தலைநகரம் என்ன`.\n"
   ]
  },
  {
   "cell_type": "code",
   "execution_count": null,
   "metadata": {},
   "outputs": [],
   "source": [
    "load_dotenv()\n",
    "client = AzureAIChatCompletionClient(\n",
    "    model=\"gpt-4o-mini\",\n",
    "    endpoint=\"https://models.inference.ai.azure.com\",\n",
    "    # To authenticate with the model you will need to generate a personal access token (PAT) in your GitHub settings.\n",
    "    # Create your PAT token by following instructions here: https://docs.github.com/en/authentication/keeping-your-account-and-data-secure/managing-your-personal-access-tokens\n",
    "    credential=AzureKeyCredential(os.getenv(\"GITHUB_TOKEN\")),\n",
    "    model_info={\n",
    "        \"json_output\": True,\n",
    "        \"function_calling\": True,\n",
    "        \"vision\": True,\n",
    "        \"family\": \"unknown\",\n",
    "    },\n",
    ")\n",
    "\n",
    "result = await client.create([UserMessage(content=\"What is the capital of France?\", source=\"user\")])\n",
    "print(result)"
   ]
  },
  {
   "cell_type": "markdown",
   "metadata": {},
   "source": [
    "## ஏஜென்டை வரையறுப்பது\n",
    "\n",
    "இப்போது `client` அமைக்கப்பட்டு, அது செயல்படுகிறது என்பதை உறுதிப்படுத்திய பிறகு, `AssistantAgent` உருவாக்குவோம். ஒவ்வொரு ஏஜென்டுக்கும் கீழ்கண்டவைகளை ஒதுக்கலாம்:  \n",
    "**name** - பல ஏஜென்ட்களின் செயல்பாடுகளில் இதை குறிப்பிடுவதற்கு உதவும் சுருக்கமான பெயர்.  \n",
    "**model_client** - நீங்கள் முந்தைய படியில் உருவாக்கிய client.  \n",
    "**tools** - ஏஜென்டு ஒரு பணியை முடிக்க பயன்படுத்தக்கூடிய கருவிகள்.  \n",
    "**system_message** - LLM-இன் பணியை, நடத்தை மற்றும் குரலை வரையறுக்கும் metaprompt.  \n",
    "\n",
    "LLM எப்படி பதிலளிக்கிறது என்பதைப் பார்க்க system message-ஐ மாற்றலாம். `tools` பற்றி நான்காவது பாடத்தில் விரிவாகக் காண்போம்.\n"
   ]
  },
  {
   "cell_type": "code",
   "execution_count": null,
   "metadata": {},
   "outputs": [],
   "source": [
    "agent = AssistantAgent(\n",
    "    name=\"assistant\",\n",
    "    model_client=client,\n",
    "    tools=[],\n",
    "    system_message=\"You are a travel agent that plans great vacations\",\n",
    ")"
   ]
  },
  {
   "cell_type": "markdown",
   "metadata": {},
   "source": [
    "## ஏஜென்டை இயக்கவும்\n",
    "\n",
    "கீழே உள்ள செயல்பாடு ஏஜென்டை இயக்கும். புதிய செய்தியுடன் ஏஜென்டின் நிலையை புதுப்பிக்க `on_message` முறைமையை பயன்படுத்துகிறோம்.\n",
    "\n",
    "இந்தக் கட்டத்தில், பயனரிடமிருந்து புதிய செய்தியுடன் நிலையை புதுப்பிக்கிறோம், அது `\"Plan me a great sunny vacation\"`.\n",
    "\n",
    "LLM எப்படி வேறுபடுகிறதென்று பார்க்க, செய்தி உள்ளடக்கத்தை மாற்றலாம்.\n"
   ]
  },
  {
   "cell_type": "code",
   "execution_count": null,
   "metadata": {},
   "outputs": [],
   "source": [
    "from IPython.display import display, HTML\n",
    "\n",
    "\n",
    "async def assistant_run():\n",
    "    # Define the query\n",
    "    user_query = \"Plan me a great sunny vacation\"\n",
    "\n",
    "    # Start building HTML output\n",
    "    html_output = \"<div style='margin-bottom:10px'>\"\n",
    "    html_output += \"<div style='font-weight:bold'>User:</div>\"\n",
    "    html_output += f\"<div style='margin-left:20px'>{user_query}</div>\"\n",
    "    html_output += \"</div>\"\n",
    "\n",
    "    # Execute the agent response\n",
    "    response = await agent.on_messages(\n",
    "        [TextMessage(content=user_query, source=\"user\")],\n",
    "        cancellation_token=CancellationToken(),\n",
    "    )\n",
    "\n",
    "    # Add agent response to HTML\n",
    "    html_output += \"<div style='margin-bottom:20px'>\"\n",
    "    html_output += \"<div style='font-weight:bold'>Assistant:</div>\"\n",
    "    html_output += f\"<div style='margin-left:20px; white-space:pre-wrap'>{response.chat_message.content}</div>\"\n",
    "    html_output += \"</div>\"\n",
    "\n",
    "    # Display formatted HTML\n",
    "    display(HTML(html_output))\n",
    "\n",
    "# Run the function\n",
    "await assistant_run()"
   ]
  },
  {
   "cell_type": "markdown",
   "metadata": {},
   "source": [
    "\n---\n\n**குறிப்பு**:  \nஇந்த ஆவணம் [Co-op Translator](https://github.com/Azure/co-op-translator) என்ற AI மொழிபெயர்ப்பு சேவையை பயன்படுத்தி மொழிபெயர்க்கப்பட்டுள்ளது. எங்கள் தரச்சிறப்பிற்காக முயற்சி செய்தாலும், தானியங்கி மொழிபெயர்ப்புகளில் பிழைகள் அல்லது தவறுகள் இருக்கக்கூடும் என்பதை தயவுசெய்து கவனத்தில் கொள்ளவும். அதன் தாய்மொழியில் உள்ள மூல ஆவணம் அதிகாரப்பூர்வ ஆதாரமாக கருதப்பட வேண்டும். முக்கியமான தகவல்களுக்கு, தொழில்முறை மனித மொழிபெயர்ப்பு பரிந்துரைக்கப்படுகிறது. இந்த மொழிபெயர்ப்பைப் பயன்படுத்துவதால் ஏற்படும் எந்த தவறான புரிதல்கள் அல்லது தவறான விளக்கங்களுக்கு நாங்கள் பொறுப்பல்ல.\n"
   ]
  }
 ],
 "metadata": {
  "kernelspec": {
   "display_name": ".venv (3.12.11)",
   "language": "python",
   "name": "python3"
  },
  "language_info": {
   "codemirror_mode": {
    "name": "ipython",
    "version": 3
   },
   "file_extension": ".py",
   "mimetype": "text/x-python",
   "name": "python",
   "nbconvert_exporter": "python",
   "pygments_lexer": "ipython3",
   "version": "3.12.11"
  },
  "coopTranslator": {
   "original_hash": "aef8b2779015ef9099d6ee3cdacbb35d",
   "translation_date": "2025-10-11T11:55:36+00:00",
   "source_file": "02-explore-agentic-frameworks/code_samples/02-autogen.ipynb",
   "language_code": "ta"
  }
 },
 "nbformat": 4,
 "nbformat_minor": 2
}