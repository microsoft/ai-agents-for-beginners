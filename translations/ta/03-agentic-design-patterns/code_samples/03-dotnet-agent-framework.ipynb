{
 "cells": [
  {
   "cell_type": "markdown",
   "id": "d6058fa4",
   "metadata": {},
   "source": [
    "# 🎨 GitHub மாடல்களுடன் (.NET) Agentic வடிவமைப்பு முறை\n",
    "\n",
    "## 📋 கற்றல் நோக்கங்கள்\n",
    "\n",
    "இந்த நோட்புக் Microsoft Agent Framework-ஐ .NET-இல் GitHub மாடல்களுடன் ஒருங்கிணைத்து நுண்ணறிவு முகவர்களை உருவாக்குவதற்கான நிறுவன தரமான வடிவமைப்பு முறைகளை விளக்குகிறது. உற்பத்தி-தகுதி, பராமரிப்பு மற்றும் அளவீட்டத்திற்கான தொழில்முறை முறைகள் மற்றும் கட்டமைப்புகளை நீங்கள் கற்றுக்கொள்வீர்கள்.\n",
    "\n",
    "**நிறுவன வடிவமைப்பு முறைகள்:**\n",
    "- 🏭 **Factory Pattern**: சார்பு ஊடுருவலுடன் தரநிலை முகவர் உருவாக்கம்\n",
    "- 🔧 **Builder Pattern**: Fluent முகவர் அமைப்பு மற்றும் அமைப்பு\n",
    "- 🧵 **Thread-Safe Patterns**: ஒரே நேரத்தில் உரையாடல் மேலாண்மை\n",
    "- 📋 **Repository Pattern**: கருவி மற்றும் திறன் மேலாண்மையின் ஒழுங்கமைப்பு\n",
    "\n",
    "## 🎯 .NET-இன் குறிப்பிட்ட கட்டமைப்பு நன்மைகள்\n",
    "\n",
    "### நிறுவன அம்சங்கள்\n",
    "- **Strong Typing**: தொகுப்பு நேர சரிபார்ப்பு மற்றும் IntelliSense ஆதரவு\n",
    "- **Dependency Injection**: உள்ளமைக்கப்பட்ட DI கெண்டைனர் ஒருங்கிணைப்பு\n",
    "- **Configuration Management**: IConfiguration மற்றும் Options முறைகள்\n",
    "- **Async/Await**: முதன்மை அசிங்க்ரோனஸ் நிரலாக்க ஆதரவு\n",
    "\n",
    "### உற்பத்தி-தகுதி முறைகள்\n",
    "- **Logging Integration**: ILogger மற்றும் கட்டமைக்கப்பட்ட பதிவு ஆதரவு\n",
    "- **Health Checks**: உள்ளமைக்கப்பட்ட கண்காணிப்பு மற்றும் நோயறிதல்\n",
    "- **Configuration Validation**: தர typing மற்றும் தரவுக் குறிப்பு\n",
    "- **Error Handling**: கட்டமைக்கப்பட்ட தவறுகள் மேலாண்மை\n",
    "\n",
    "## 🔧 தொழில்நுட்ப கட்டமைப்பு\n",
    "\n",
    "### முக்கிய .NET கூறுகள்\n",
    "- **Microsoft.Extensions.AI**: ஒருங்கிணைந்த AI சேவை சுருக்கங்கள்\n",
    "- **Microsoft.Agents.AI**: நிறுவன முகவர் ஒருங்கிணைப்பு கட்டமைப்பு\n",
    "- **GitHub Models Integration**: உயர் செயல்திறன் API கிளையன்ட் முறைகள்\n",
    "- **Configuration System**: appsettings.json மற்றும் சூழல் ஒருங்கிணைப்பு\n",
    "\n",
    "### வடிவமைப்பு முறை செயல்பாடு\n",
    "```csharp\n",
    "IServiceCollection → Agent Builder → Configuration → Tool Registry → AI Agent\n",
    "```\n",
    "\n",
    "## 🏗️ நிறுவனம் தரமான முறைகள்\n",
    "\n",
    "### 1. **Creational Patterns**\n",
    "- **Agent Factory**: ஒரே மாதிரியான அமைப்புடன் மைய முகவர் உருவாக்கம்\n",
    "- **Builder Pattern**: சிக்கலான முகவர் அமைப்புக்கான Fluent API\n",
    "- **Singleton Pattern**: பகிர்ந்த வளங்கள் மற்றும் அமைப்பு மேலாண்மை\n",
    "- **Dependency Injection**: தளர்ந்த இணைப்பு மற்றும் சோதனை திறன்\n",
    "\n",
    "### 2. **Behavioral Patterns**\n",
    "- **Strategy Pattern**: மாற்றக்கூடிய கருவி செயல்பாட்டு உத்திகள்\n",
    "- **Command Pattern**: Undo/Redo உடன் மூடப்பட்ட முகவர் செயல்பாடுகள்\n",
    "- **Observer Pattern**: நிகழ்வு சார்ந்த முகவர் வாழ்க்கைச் சுழற்சி மேலாண்மை\n",
    "- **Template Method**: தரநிலை முகவர் செயல்பாட்டு வேலைகள்\n",
    "\n",
    "### 3. **Structural Patterns**\n",
    "- **Adapter Pattern**: GitHub Models API ஒருங்கிணைப்பு அடுக்கு\n",
    "- **Decorator Pattern**: முகவர் திறன் மேம்பாடு\n",
    "- **Facade Pattern**: எளிமையான முகவர் தொடர்பு இடைமுகங்கள்\n",
    "- **Proxy Pattern**: Lazy loading மற்றும் செயல்திறனுக்கான caching\n",
    "\n",
    "## ⚙️ முன் தேவைகள் மற்றும் அமைப்பு\n",
    "\n",
    "**உருவாக்க சூழல்:**\n",
    "- .NET 9.0 SDK அல்லது அதற்கு மேல்\n",
    "- Visual Studio 2022 அல்லது VS Code C# நீட்டிப்புடன்\n",
    "- GitHub Models API அணுகல்\n",
    "\n",
    "**NuGet சார்புகள்:**\n",
    "```xml\n",
    "<PackageReference Include=\"Microsoft.Extensions.AI\" Version=\"9.9.0\" />\n",
    "<PackageReference Include=\"Microsoft.Extensions.AI.OpenAI\" Version=\"9.9.0-preview.1.25458.4\" />\n",
    "<PackageReference Include=\"DotNetEnv\" Version=\"3.1.1\" />\n",
    "```\n",
    "\n",
    "**Configuration (.env கோப்பு):**\n",
    "```env\n",
    "GITHUB_TOKEN=your_github_personal_access_token\n",
    "GITHUB_ENDPOINT=https://models.inference.ai.azure.com\n",
    "GITHUB_MODEL_ID=gpt-4o-mini\n",
    "```\n",
    "\n",
    "## 📚 .NET வடிவமைப்பு கொள்கைகள்\n",
    "\n",
    "### SOLID கொள்கைகள்\n",
    "- **Single Responsibility**: ஒவ்வொரு கூறும் ஒரு தெளிவான நோக்கத்துடன்\n",
    "- **Open/Closed**: மாற்றமின்றி விரிவாக்கத்திற்கான திறன்\n",
    "- **Liskov Substitution**: இடைமுக அடிப்படையிலான கருவி செயல்பாடுகள்\n",
    "- **Interface Segregation**: கவனம் செலுத்திய, ஒற்றுமையான இடைமுகங்கள்\n",
    "- **Dependency Inversion**: கான்கிரீஷன்களுக்குப் பதிலாக சுருக்கங்களை நம்புங்கள்\n",
    "\n",
    "### சுத்தமான கட்டமைப்பு\n",
    "- **Domain Layer**: முக்கிய முகவர் மற்றும் கருவி சுருக்கங்கள்\n",
    "- **Application Layer**: முகவர் ஒருங்கிணைப்பு மற்றும் வேலைகள்\n",
    "- **Infrastructure Layer**: GitHub Models ஒருங்கிணைப்பு மற்றும் வெளிப்புற சேவைகள்\n",
    "- **Presentation Layer**: பயனர் தொடர்பு மற்றும் பதில் வடிவமைப்பு\n",
    "\n",
    "## 🔒 நிறுவன கவனிக்க வேண்டியவை\n",
    "\n",
    "### பாதுகாப்பு\n",
    "- **Credential Management**: IConfiguration உடன் API விசை பாதுகாப்பான கையாளுதல்\n",
    "- **Input Validation**: தர typing மற்றும் தரவுக் குறிப்பு சரிபார்ப்பு\n",
    "- **Output Sanitization**: பாதுகாப்பான பதில் செயலாக்கம் மற்றும் வடிகட்டி\n",
    "- **Audit Logging**: விரிவான செயல்பாட்டு கண்காணிப்பு\n",
    "\n",
    "### செயல்திறன்\n",
    "- **Async Patterns**: Non-blocking I/O செயல்பாடுகள்\n",
    "- **Connection Pooling**: திறமையான HTTP கிளையன்ட் மேலாண்மை\n",
    "- **Caching**: செயல்திறனை மேம்படுத்த பதில் caching\n",
    "- **Resource Management**: சரியான அகற்றம் மற்றும் சுத்தம் செய்யும் முறைகள்\n",
    "\n",
    "### அளவீடு\n",
    "- **Thread Safety**: ஒரே நேரத்தில் முகவர் செயல்பாட்டு ஆதரவு\n",
    "- **Resource Pooling**: திறமையான வள பயன்பாடு\n",
    "- **Load Management**: விகித வரையறை மற்றும் பின்செலுத்தல் கையாளுதல்\n",
    "- **Monitoring**: செயல்திறன் அளவீடுகள் மற்றும் ஆரோக்கிய சோதனைகள்\n",
    "\n",
    "## 🚀 உற்பத்தி வெளியீடு\n",
    "\n",
    "- **Configuration Management**: சூழல்-குறிப்பிட்ட அமைப்புகள்\n",
    "- **Logging Strategy**: தொடர்பு ஐடிகளுடன் கட்டமைக்கப்பட்ட பதிவு\n",
    "- **Error Handling**: சரியான மீட்புடன் உலகளாவிய தவறுகள் கையாளுதல்\n",
    "- **Monitoring**: Application insights மற்றும் செயல்திறன் கவுண்டர்கள்\n",
    "- **Testing**: Unit tests, integration tests மற்றும் load testing முறைகள்\n",
    "\n",
    "நிறுவன தரமான நுண்ணறிவு முகவர்களை .NET-இல் உருவாக்க தயாரா? வலுவான ஒன்றை வடிவமைக்கலாம்! 🏢✨\n"
   ]
  },
  {
   "cell_type": "code",
   "execution_count": 1,
   "id": "2770ac5c",
   "metadata": {
    "language_info": {
     "name": "polyglot-notebook"
    },
    "polyglot_notebook": {
     "kernelName": "csharp"
    }
   },
   "outputs": [
    {
     "data": {
      "text/html": [
       "<div><div></div><div></div><div><strong>Installed Packages</strong><ul><li><span>Microsoft.Extensions.AI, 9.9.1</span></li></ul></div></div>"
      ]
     },
     "metadata": {},
     "output_type": "display_data"
    }
   ],
   "source": [
    "#r \"nuget: Microsoft.Extensions.AI, 9.9.1\""
   ]
  },
  {
   "cell_type": "code",
   "execution_count": null,
   "id": "984ff6cd",
   "metadata": {
    "language_info": {
     "name": "polyglot-notebook"
    },
    "polyglot_notebook": {
     "kernelName": "csharp"
    }
   },
   "outputs": [
    {
     "data": {
      "text/html": [
       "<div><div></div><div></div><div><strong>Installed Packages</strong><ul><li><span>Microsoft.Agents.AI.OpenAI, 1.0.0-preview.251001.2</span></li></ul></div></div>"
      ]
     },
     "metadata": {},
     "output_type": "display_data"
    }
   ],
   "source": [
    "#r \"nuget: Microsoft.Agents.AI.OpenAI, 1.0.0-preview.251001.3\""
   ]
  },
  {
   "cell_type": "code",
   "execution_count": null,
   "id": "0ab71360",
   "metadata": {
    "language_info": {
     "name": "polyglot-notebook"
    },
    "polyglot_notebook": {
     "kernelName": "csharp"
    }
   },
   "outputs": [
    {
     "data": {
      "text/html": [
       "<div><div></div><div></div><div><strong>Installed Packages</strong><ul><li><span>microsoft.agents.ai, 1.0.0-preview.251001.2</span></li></ul></div></div>"
      ]
     },
     "metadata": {},
     "output_type": "display_data"
    }
   ],
   "source": [
    "\n",
    "\n",
    "#r \"nuget: Microsoft.Agents.AI, 1.0.0-preview.251001.3\""
   ]
  },
  {
   "cell_type": "code",
   "execution_count": 4,
   "id": "4ab7b15d",
   "metadata": {
    "language_info": {
     "name": "polyglot-notebook"
    },
    "polyglot_notebook": {
     "kernelName": "csharp"
    }
   },
   "outputs": [],
   "source": [
    "// #r \"nuget: Microsoft.Extensions.AI.OpenAI, 9.9.0-preview.1.25458.4\""
   ]
  },
  {
   "cell_type": "code",
   "execution_count": 5,
   "id": "3fa8aa21",
   "metadata": {
    "language_info": {
     "name": "polyglot-notebook"
    },
    "polyglot_notebook": {
     "kernelName": "csharp"
    }
   },
   "outputs": [
    {
     "data": {
      "text/html": [
       "<div><div></div><div></div><div><strong>Installed Packages</strong><ul><li><span>DotNetEnv, 3.1.1</span></li></ul></div></div>"
      ]
     },
     "metadata": {},
     "output_type": "display_data"
    }
   ],
   "source": [
    "#r \"nuget: DotNetEnv, 3.1.1\""
   ]
  },
  {
   "cell_type": "code",
   "execution_count": 6,
   "id": "fc8ee8ea",
   "metadata": {
    "language_info": {
     "name": "polyglot-notebook"
    },
    "polyglot_notebook": {
     "kernelName": "csharp"
    }
   },
   "outputs": [],
   "source": [
    "using System;\n",
    "using System.ComponentModel;\n",
    "using System.ClientModel;\n",
    "\n",
    "using Microsoft.Extensions.AI;\n",
    "using Microsoft.Agents.AI;\n",
    "using OpenAI;"
   ]
  },
  {
   "cell_type": "code",
   "execution_count": 7,
   "id": "699b1c83",
   "metadata": {
    "language_info": {
     "name": "polyglot-notebook"
    },
    "polyglot_notebook": {
     "kernelName": "csharp"
    }
   },
   "outputs": [],
   "source": [
    " using DotNetEnv;"
   ]
  },
  {
   "cell_type": "code",
   "execution_count": 8,
   "id": "daa649a0",
   "metadata": {
    "language_info": {
     "name": "polyglot-notebook"
    },
    "polyglot_notebook": {
     "kernelName": "csharp"
    }
   },
   "outputs": [],
   "source": [
    "Env.Load(\"../../../.env\");"
   ]
  },
  {
   "cell_type": "code",
   "execution_count": 9,
   "id": "29661a90",
   "metadata": {
    "language_info": {
     "name": "polyglot-notebook"
    },
    "polyglot_notebook": {
     "kernelName": "csharp"
    }
   },
   "outputs": [],
   "source": [
    "[Description(\"Provides a random vacation destination.\")]\n",
    "static string GetRandomDestination()\n",
    "{\n",
    "    var destinations = new List<string>\n",
    "    {\n",
    "        \"Paris, France\",\n",
    "        \"Tokyo, Japan\",\n",
    "        \"New York City, USA\",\n",
    "        \"Sydney, Australia\",\n",
    "        \"Rome, Italy\",\n",
    "        \"Barcelona, Spain\",\n",
    "        \"Cape Town, South Africa\",\n",
    "        \"Rio de Janeiro, Brazil\",\n",
    "        \"Bangkok, Thailand\",\n",
    "        \"Vancouver, Canada\"\n",
    "    };\n",
    "\n",
    "    var random = new Random();\n",
    "    int index = random.Next(destinations.Count);\n",
    "    return destinations[index];\n",
    "}"
   ]
  },
  {
   "cell_type": "code",
   "execution_count": 10,
   "id": "d2ed1f8b",
   "metadata": {
    "language_info": {
     "name": "polyglot-notebook"
    },
    "polyglot_notebook": {
     "kernelName": "csharp"
    }
   },
   "outputs": [],
   "source": [
    "var github_endpoint = Environment.GetEnvironmentVariable(\"GITHUB_ENDPOINT\") ?? throw new InvalidOperationException(\"GITHUB_ENDPOINT is not set.\");\n",
    "var github_model_id = Environment.GetEnvironmentVariable(\"GITHUB_MODEL_ID\") ?? \"gpt-4o-mini\";\n",
    "var github_token = Environment.GetEnvironmentVariable(\"GITHUB_TOKEN\") ?? throw new InvalidOperationException(\"GITHUB_TOKEN is not set.\");"
   ]
  },
  {
   "cell_type": "code",
   "execution_count": 11,
   "id": "c36c73e1",
   "metadata": {
    "language_info": {
     "name": "polyglot-notebook"
    },
    "polyglot_notebook": {
     "kernelName": "csharp"
    }
   },
   "outputs": [],
   "source": [
    "var openAIOptions = new OpenAIClientOptions()\n",
    "{\n",
    "    Endpoint= new Uri(github_endpoint)\n",
    "};"
   ]
  },
  {
   "cell_type": "code",
   "execution_count": 12,
   "id": "6d94ff10",
   "metadata": {
    "language_info": {
     "name": "polyglot-notebook"
    },
    "polyglot_notebook": {
     "kernelName": "csharp"
    }
   },
   "outputs": [],
   "source": [
    "\n",
    "var openAIClient = new OpenAIClient(new ApiKeyCredential(github_token), openAIOptions);"
   ]
  },
  {
   "cell_type": "code",
   "execution_count": 13,
   "id": "fe32b57a",
   "metadata": {
    "language_info": {
     "name": "polyglot-notebook"
    },
    "polyglot_notebook": {
     "kernelName": "csharp"
    }
   },
   "outputs": [],
   "source": [
    "AIAgent agent = new OpenAIClient(new ApiKeyCredential(github_token), openAIOptions).GetChatClient(github_model_id).CreateAIAgent(\n",
    "    instructions:\"You are a helpful AI Agent that can help plan vacations for customers at random destinations\", tools: [AIFunctionFactory.Create((Func<string>)GetRandomDestination)]);"
   ]
  },
  {
   "cell_type": "code",
   "execution_count": 14,
   "metadata": {
    "language_info": {
     "name": "polyglot-notebook"
    },
    "polyglot_notebook": {
     "kernelName": "csharp"
    }
   },
   "outputs": [],
   "source": [
    "AgentThread thread = agent.GetNewThread();"
   ]
  },
  {
   "cell_type": "code",
   "execution_count": 15,
   "id": "5e455aff",
   "metadata": {
    "language_info": {
     "name": "polyglot-notebook"
    },
    "polyglot_notebook": {
     "kernelName": "csharp"
    }
   },
   "outputs": [
    {
     "name": "stdout",
     "output_type": "stream",
     "text": [
      "How about a day trip to Vancouver, Canada? Here's a suggested itinerary for your day:\n",
      "\n",
      "### Morning\n",
      "- **Breakfast at a Local Cafe**: Start your day with a delicious breakfast at a cozy café like **Jam Cafe** or **Cafe Medina**.\n",
      "- **Stanley Park**: After breakfast, head to Stanley Park. You can rent a bike and ride along the seawall, enjoying beautiful views of the city and the water.\n",
      "\n",
      "### Afternoon\n",
      "- **Lunch in Gastown**: Make your way to Gastown for lunch. Try a local favorite like **The Flying Pig** or **Noodle Box**.\n",
      "- **Explore Gastown**: After lunch, walk around Gastown to see the iconic Steam Clock and browse the unique shops and boutiques.\n",
      "\n",
      "### Late Afternoon\n",
      "- **Granville Island**: Visit Granville Island, where you can stroll through the public market, sample local foods, and enjoy artisan shops.\n",
      "- **False Creek**: Take a walk along False Creek and enjoy the waterfront views.\n",
      "\n",
      "### Evening\n",
      "- **Dinner at a Waterfront Restaurant**: End your day with dinner at a waterfront restaurant like **The Boathouse** or **Lift Bar Grill View** for great food and a view of the sunset.\n",
      "- **Optional: Sunset Cruise**: If you're up for it, consider taking a sunset cruise for a different perspective of the city.\n",
      "\n",
      "### Tips\n",
      "- Make sure to check the weather beforehand!\n",
      "- Consider public transport or ride-sharing to navigate the city easily.\n",
      "\n",
      "Enjoy your day trip to Vancouver!\r\n"
     ]
    }
   ],
   "source": [
    "Console.WriteLine(await agent.RunAsync(\"Plan me a day trip\",thread));"
   ]
  },
  {
   "cell_type": "code",
   "execution_count": 16,
   "id": "592ae1bb",
   "metadata": {
    "language_info": {
     "name": "polyglot-notebook"
    },
    "polyglot_notebook": {
     "kernelName": "csharp"
    }
   },
   "outputs": [
    {
     "name": "stdout",
     "output_type": "stream",
     "text": [
      "How about a vacation to New York City, USA? Here's a suggested itinerary for your trip:\n",
      "\n",
      "### Day 1: Arrival in New York City\n",
      "- **Check-In**: Arrive and check in to your hotel.\n",
      "- **Central Park**: Take a leisurely stroll through Central Park. Consider renting a bike or taking a carriage ride.\n",
      "- **Evening**: Enjoy dinner at a classic NYC restaurant, such as **Katz's Delicatessen** or **Carbone**.\n",
      "\n",
      "### Day 2: Iconic Landmarks\n",
      "- **Morning**: Breakfast at a local diner.\n",
      "- **Statue of Liberty & Ellis Island**: Take a ferry to visit these iconic landmarks.\n",
      "- **Afternoon**: Explore Wall Street and visit the 9/11 Memorial & Museum.\n",
      "- **Evening**: Dinner in the Financial District followed by a walk across the Brooklyn Bridge at sunset.\n",
      "\n",
      "### Day 3: Culture and Arts\n",
      "- **Morning**: Visit The Metropolitan Museum of Art (The Met) and spend a few hours exploring its vast collection.\n",
      "- **Afternoon**: Head to Times Square for lunch and the buzz of the city.\n",
      "- **Broadway Show**: Catch a Broadway show in the evening. Be sure to book tickets in advance!\n",
      "\n",
      "### Day 4: Explore Neighborhoods\n",
      "- **Morning**: Head to SoHo for brunch and shopping in its chic boutiques.\n",
      "- **Afternoon**: Explore Greenwich Village, known for its bohemian atmosphere and history.\n",
      "- **Evening**: Enjoy dinner in the West Village, perhaps at **Buvette** or **Minetta Tavern**.\n",
      "\n",
      "### Day 5: Departure\n",
      "- **Last-minute Shopping**: Spend your last morning shopping at Fifth Avenue or head to Chelsea Market for food and souvenirs.\n",
      "- **Check-Out**: Depart for your journey home.\n",
      "\n",
      "### Tips\n",
      "- Utilize the subway for efficient travel around the city.\n",
      "- Make reservations for popular restaurants and attractions ahead of time!\n",
      "\n",
      "Enjoy your trip to New York City!\r\n"
     ]
    }
   ],
   "source": [
    "Console.WriteLine(await agent.RunAsync(\"I don't like that destination. Plan me another vacation.\",thread));"
   ]
  },
  {
   "cell_type": "markdown",
   "metadata": {},
   "source": [
    "\n---\n\n**குறிப்பு**:  \nஇந்த ஆவணம் [Co-op Translator](https://github.com/Azure/co-op-translator) என்ற AI மொழிபெயர்ப்பு சேவையைப் பயன்படுத்தி மொழிபெயர்க்கப்பட்டுள்ளது. எங்கள் தரச்செயல்முறைகளுக்கு நாங்கள் முயற்சிக்கிறோம், ஆனால் தானியக்க மொழிபெயர்ப்புகளில் பிழைகள் அல்லது தவறான தகவல்கள் இருக்கக்கூடும் என்பதை தயவுசெய்து கவனத்தில் கொள்ளுங்கள். அதன் தாய்மொழியில் உள்ள மூல ஆவணம் அதிகாரப்பூர்வ ஆதாரமாக கருதப்பட வேண்டும். முக்கியமான தகவல்களுக்கு, தொழில்முறை மனித மொழிபெயர்ப்பு பரிந்துரைக்கப்படுகிறது. இந்த மொழிபெயர்ப்பைப் பயன்படுத்துவதால் ஏற்படும் எந்த தவறான புரிதல்கள் அல்லது தவறான விளக்கங்களுக்கு நாங்கள் பொறுப்பல்ல.\n"
   ]
  }
 ],
 "metadata": {
  "kernelspec": {
   "display_name": ".NET (C#)",
   "language": "C#",
   "name": ".net-csharp"
  },
  "language_info": {
   "name": "polyglot-notebook"
  },
  "polyglot_notebook": {
   "kernelInfo": {
    "defaultKernelName": "csharp",
    "items": [
     {
      "aliases": [],
      "name": "csharp"
     }
    ]
   }
  },
  "coopTranslator": {
   "original_hash": "070c1d8985b3dc6e6d977f3e891037f1",
   "translation_date": "2025-10-11T11:57:48+00:00",
   "source_file": "03-agentic-design-patterns/code_samples/03-dotnet-agent-framework.ipynb",
   "language_code": "ta"
  }
 },
 "nbformat": 4,
 "nbformat_minor": 5
}