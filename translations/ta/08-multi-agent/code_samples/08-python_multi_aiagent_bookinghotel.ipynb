{
 "cells": [
  {
   "cell_type": "markdown",
   "metadata": {},
   "source": [
    "## **மாதிரிகள்: ஹோட்டல் முன்பதிவுக்கான பல AI முகவர்கள்**\n",
    "\n",
    "இன்றைய வேகமான உலகில், ஒரு வணிகப் பயணத்தை திட்டமிடுவது என்பது விமான டிக்கெட் மற்றும் ஹோட்டல் அறை முன்பதிவு செய்வதற்கும் மேலானது. இது ஒருங்கிணைப்பு மற்றும் திறமையை தேவைப்படுத்துகிறது, அதை அடைவது சவாலாக இருக்கலாம். இதைச் சமாளிக்க Multi-AI முகவர்கள் உதவுகின்றனர், எங்கள் பயண தேவைகளை நிர்வகிக்கும் முறையை மாற்றி அமைக்கின்றனர்.\n",
    "\n",
    "உங்கள் பயணத்தின் ஒவ்வொரு அம்சத்தையும் துல்லியத்துடன் மற்றும் எளிதாக கையாள ஒரு புத்திசாலி முகவர்களின் குழுவை உங்கள் வசத்தில் வைத்திருப்பதை கற்பனை செய்யுங்கள். எங்கள் மேம்பட்ட AI தொழில்நுட்பத்துடன், முன்பதிவு சேவைகள் மற்றும் பயண திட்டமிடல் ஏற்பாடுகளுக்கான சிறப்பு முகவர்களை உருவாக்கியுள்ளோம், இது ஒரு சீரான மற்றும் மனஅழுத்தமற்ற பயண அனுபவத்தை உறுதிசெய்கிறது.\n",
    "\n",
    "இது ஒரு அடிப்படை சூழல். ஒரு வணிகப் பயணத்தை திட்டமிடும்போது, விமான டிக்கெட் தகவல், ஹோட்டல் தகவல் போன்றவற்றைப் பெற வணிகப் பயண முகவருடன் ஆலோசிக்க வேண்டும். AI முகவர்களின் மூலம், முன்பதிவு சேவைகளுக்கான முகவர்கள் மற்றும் பயண திட்டமிடல் ஏற்பாடுகளுக்கான முகவர்களை உருவாக்கி, ஒத்துழைத்து புத்திசாலித்தன்மையின் அளவை மேம்படுத்தலாம்.\n"
   ]
  },
  {
   "cell_type": "markdown",
   "metadata": {},
   "source": [
    "# Azure AI ஏஜென்ட் சேவையை தொடங்கவும் மற்றும் **.env** இலிருந்து கட்டமைப்பு தகவல்களை பெறவும்\n",
    "\n",
    "### **.env**\n",
    "\n",
    "ஒரு .env கோப்பை உருவாக்கவும்\n",
    "\n",
    "**.env** என்பது Azure AI ஏஜென்ட் சேவையின் இணைப்பு சரம், AOAI பயன்படுத்தும் மாதிரி மற்றும் அதற்கேற்ப Google API தேடல் சேவையின் API, ENDPOINT போன்றவற்றை கொண்டுள்ளது.\n",
    "\n",
    "- **AZURE_AI_AGENT_MODEL_DEPLOYMENT_NAME** = \"உங்கள் Azure AI ஏஜென்ட் சேவை மாதிரி பிரிப்பு பெயர்\"\n",
    "\n",
    "[**NOTE**] உங்களுக்கு 100,000 ரேட் லிமிட் (நிமிடத்திற்கு டோக்கன்கள்) மற்றும் 600 ரேட் லிமிட் (நிமிடத்திற்கு கோரிக்கைகள்) கொண்ட ஒரு மாதிரி தேவைப்படும்.\n",
    "\n",
    "  நீங்கள் Azure AI Foundry - Model மற்றும் Endpoint இல் மாதிரியைப் பெறலாம்.\n",
    "\n",
    "- **AZURE_AI_AGENT_PROJECT_CONNECTION_STRING** = \"உங்கள் Azure AI ஏஜென்ட் சேவை திட்ட இணைப்பு சரம்\"\n",
    "\n",
    "  நீங்கள் AI Foundry Portal திரையில் உங்கள் திட்டத்தின் மேற்பார்வையில் திட்ட இணைப்பு சரத்தைப் பெறலாம்.\n",
    "\n",
    "- **SERPAPI_SEARCH_API_KEY** = \"உங்கள் SERPAPI தேடல் API KEY\"\n",
    "- **SERPAPI_SEARCH_ENDPOINT** = \"உங்கள் SERPAPI தேடல் ENDPOINT\"\n",
    "\n",
    "Azure AI ஏஜென்ட் சேவையின் மாதிரி பிரிப்பு பெயர் மற்றும் திட்ட இணைப்பு சரத்தைப் பெற, நீங்கள் Azure AI ஏஜென்ட் சேவையை உருவாக்க வேண்டும். இதை நேரடியாக உருவாக்க [இந்த டெம்ப்ளேட்டை](https://portal.azure.com/#create/Microsoft.Template/uri/https%3A%2F%2Fraw.githubusercontent.com%2Ffosteramanda%2Fazure-agent-quickstart-templates%2Frefs%2Fheads%2Fmaster%2Fquickstarts%2Fmicrosoft.azure-ai-agent-service%2Fstandard-agent%2Fazuredeploy.json) பயன்படுத்த பரிந்துரைக்கப்படுகிறது （***குறிப்பு:*** Azure AI ஏஜென்ட் சேவை தற்போது ஒரு வரையறுக்கப்பட்ட பிராந்தியத்தில் அமைக்கப்பட்டுள்ளது. பிராந்தியத்தை அமைக்க [இந்த இணைப்பை](https://learn.microsoft.com/en-us/azure/ai-services/agents/concepts/model-region-support) பார்க்க பரிந்துரைக்கப்படுகிறது)\n",
    "\n",
    "ஏஜென்ட் SERPAPI ஐ அணுக வேண்டும். [இந்த இணைப்பை](https://serpapi.com/searches) பயன்படுத்தி பதிவு செய்ய பரிந்துரைக்கப்படுகிறது. பதிவு செய்த பிறகு, நீங்கள் ஒரு தனிப்பட்ட API KEY மற்றும் ENDPOINT ஐப் பெறலாம்.\n"
   ]
  },
  {
   "cell_type": "markdown",
   "metadata": {},
   "source": [
    "# Azure-க்கு உள்நுழையவும்\n",
    "\n",
    "இப்போது Azure-க்கு உள்நுழைய வேண்டும். VScode-ல் ஒரு டெர்மினலை திறந்து `az login` கட்டளையை இயக்கவும்.\n"
   ]
  },
  {
   "cell_type": "markdown",
   "metadata": {},
   "source": [
    "# அமைப்பு\n",
    "\n",
    "இந்த நோட்புக் இயக்க, நீங்கள் பின்வரும் நூலகங்களை நிறுவ வேண்டும். தேவையான நூலகங்களின் பட்டியல் மற்றும் தொடர்புடைய `pip install` கட்டளைகள் இங்கே:\n",
    "\n",
    "azure-identity: Azure அங்கீகாரம் செய்ய.\n",
    "requests: HTTP கோரிக்கைகளை செய்ய.\n",
    "semantic-kernel: செமாண்டிக் கேர்னல் கட்டமைப்புக்காக (இது தனிப்பட்ட அல்லது குறிப்பிட்ட நூலகமாக இருந்தால், நீங்கள் அதை குறிப்பிட்ட மூலத்திலிருந்து அல்லது களஞ்சியத்திலிருந்து நிறுவ வேண்டியிருக்கலாம்).\n"
   ]
  },
  {
   "cell_type": "code",
   "execution_count": null,
   "metadata": {},
   "outputs": [],
   "source": [
    "!pip install azure-identity\n",
    "!pip install requests\n",
    "!pip install semantic-kernel\n",
    "!pip install --upgrade semantic_kernel\n",
    "!pip install azure-cli"
   ]
  },
  {
   "cell_type": "markdown",
   "metadata": {},
   "source": [
    "# விளக்கம்: \n",
    "import asyncio: இது asyncio மாட்யூலை இறக்குமதி செய்கிறது, இது Python-இல் அசிங்கமான நிரலாக்கத்திற்கு ஆதரவு வழங்குகிறது. async மற்றும் await சின்டாக்ஸைப் பயன்படுத்தி ஒரே நேரத்தில் செயல்படும் குறியீட்டை எழுத அனுமதிக்கிறது.  \n",
    "from typing: Annotated: இது typing மாட்யூலிலிருந்து Annotated வகையை இறக்குமதி செய்கிறது. Annotated என்பது வகை குறிப்புகளுக்கு மேலதிக தகவல்களைச் சேர்க்க பயன்படுத்தப்படுகிறது, இது சரிபார்ப்பு, ஆவணங்கள் அல்லது கருவிகள் போன்ற பல நோக்கங்களுக்குப் பயனுள்ளதாக இருக்கலாம்.\n"
   ]
  },
  {
   "cell_type": "code",
   "execution_count": null,
   "metadata": {
    "dotnet_interactive": {
     "language": "csharp"
    },
    "polyglot_notebook": {
     "kernelName": "csharp"
    }
   },
   "outputs": [],
   "source": [
    "import asyncio,os\n",
    "from typing import Annotated"
   ]
  },
  {
   "cell_type": "markdown",
   "metadata": {},
   "source": [
    "# விளக்கம்:\n",
    "`from dotenv import load_dotenv` மற்றும் `load_dotenv()` பயன்படுத்துவதன் மூலம், .env கோப்பில் உள்ள கட்டமைப்பு அமைப்புகள் மற்றும் நுண்ணறிவு தகவல்களை (API கீக்கள் மற்றும் தரவுத்தொகுப்பு URLs போன்றவை) எளிதாக நிர்வகிக்கலாம். இதனால் அவை உங்கள் மூலக் குறியீட்டிலிருந்து தனியாக இருக்கும், உங்கள் பயன்பாட்டை மேலும் பாதுகாப்பாகவும், அமைப்பதற்கு எளிதாகவும் மாற்றும்.\n"
   ]
  },
  {
   "cell_type": "code",
   "execution_count": null,
   "metadata": {},
   "outputs": [],
   "source": [
    "import os\n",
    "from dotenv import load_dotenv\n",
    "\n",
    "# Load environment variables from .env file\n",
    "load_dotenv()"
   ]
  },
  {
   "cell_type": "markdown",
   "metadata": {},
   "source": [
    "# விளக்கம்:\n",
    "\n",
    "Import Statement: from azure.identity.aio import DefaultAzureCredential: இது azure.identity.aio மாடியுலிலிருந்து DefaultAzureCredential வகுப்பை இறக்குமதி செய்கிறது. மாடியுலின் பெயரில் உள்ள aio என்பது இது அசிங்க்ரோனஸ் செயல்பாடுகளுக்காக வடிவமைக்கப்பட்டதைக் குறிக்கிறது.\n",
    "\n",
    "DefaultAzureCredential-ன் நோக்கம்: DefaultAzureCredential வகுப்பு Azure SDK for Python-இன் ஒரு பகுதியாகும். இது Azure சேவைகளுடன் அங்கீகாரம் பெறுவதற்கான ஒரு இயல்பான முறையை வழங்குகிறது. இது சூழல் மாறிகள், நிர்வகிக்கப்பட்ட அடையாளம், மற்றும் Azure CLI அங்கீகாரங்கள் போன்ற பல முறைகளை ஒரு குறிப்பிட்ட வரிசையில் முயற்சிக்கிறது.\n",
    "\n",
    "அசிங்க்ரோனஸ் செயல்பாடுகள்: aio மாடியுல் DefaultAzureCredential வகுப்பு அசிங்க்ரோனஸ் செயல்பாடுகளை ஆதரிக்கிறது என்பதை குறிக்கிறது. இதன் மூலம், நீங்கள் asyncio உடன் இணைந்து non-blocking அங்கீகார கோரிக்கைகளை செய்யலாம்.\n"
   ]
  },
  {
   "cell_type": "code",
   "execution_count": null,
   "metadata": {
    "dotnet_interactive": {
     "language": "csharp"
    },
    "polyglot_notebook": {
     "kernelName": "csharp"
    }
   },
   "outputs": [],
   "source": [
    "from azure.identity.aio import DefaultAzureCredential"
   ]
  },
  {
   "cell_type": "markdown",
   "metadata": {},
   "source": [
    "# விளக்கம்:\n",
    "semantic_kernel தொகுப்பிலிருந்து பல மாட்யூல்கள் மற்றும் வகுப்புகளை இறக்குமதி செய்கிறது. ஒவ்வொரு இறக்குமதியின் விவரங்களை கீழே கொடுக்கப்பட்டுள்ளது:\n",
    "\n",
    "semantic_kernel.agents இல் AgentGroupChat: AI ஏஜென்டுகளுக்கான குழு உரையாடல் தொடர்பான செயல்பாடுகளை நிர்வகிக்க இந்த வகுப்பு பயன்படுத்தப்படுகிறது. semantic_kernel.agents.azure_ai இல் AzureAIAgent மற்றும் AzureAIAgentSettings:\n",
    "\n",
    "AzureAIAgent: Azure AI சேவைகளை பயன்படுத்தும் AI ஏஜென்டுகளை உருவாக்கவும் நிர்வகிக்கவும் இந்த வகுப்பு பயன்படுகிறது.\n",
    "\n",
    "AzureAIAgentSettings: AzureAIAgent-க்கு அமைப்புகளை கட்டமைக்க இந்த வகுப்பு பயன்படுகிறது. semantic_kernel.agents.strategies.termination.termination_strategy இல் TerminationStrategy:\n",
    "\n",
    "AI ஏஜென்ட்களின் செயல்பாடுகளை குறிப்பிட்ட சூழ்நிலைகளில் நிறுத்துவதற்கான உத்திகளை இந்த வகுப்பு வரையறுக்கிறது. semantic_kernel.contents.chat_message_content இல் ChatMessageContent:\n",
    "\n",
    "உரையாடல் செய்திகளின் உள்ளடக்கத்தை நிர்வகிக்க இந்த வகுப்பு பயன்படுகிறது. semantic_kernel.contents.utils.author_role இல் AuthorRole:\n",
    "\n",
    "உரையாடல் செய்திகளின் சூழலில் எழுத்தாளர்களுக்கான பல்வேறு பங்களிப்புகளை இந்த வகுப்பு வரையறுக்கிறது.\n",
    "\n",
    "semantic_kernel.functions.kernel_function_decorator இல் kernel_function: semantic kernel கட்டமைப்பில் செயல்படுத்தக்கூடிய kernel functions-ஐ வரையறுக்க இந்த டெகரேட்டர் பயன்படுத்தப்படுகிறது.\n",
    "\n",
    "இந்த இறக்குமதிகள், குழு உரையாடல் சூழலில் தொடர்பு கொள்ளக்கூடிய AI ஏஜென்டுகளை உருவாக்கவும் நிர்வகிக்கவும் தேவையான கூறுகளை அமைக்கின்றன, இது ஹோட்டல் முன்பதிவு போன்ற செயல்பாடுகளுக்காக இருக்கக்கூடும்.\n"
   ]
  },
  {
   "cell_type": "code",
   "execution_count": null,
   "metadata": {
    "dotnet_interactive": {
     "language": "csharp"
    },
    "polyglot_notebook": {
     "kernelName": "csharp"
    }
   },
   "outputs": [],
   "source": [
    "from semantic_kernel.agents import AgentGroupChat\n",
    "from semantic_kernel.agents import AzureAIAgent, AzureAIAgentSettings\n",
    "from semantic_kernel.agents.strategies.termination.termination_strategy import TerminationStrategy\n",
    "from semantic_kernel.contents import ChatMessageContent\n",
    "from semantic_kernel.contents import AuthorRole\n",
    "from semantic_kernel.functions.kernel_function_decorator import kernel_function"
   ]
  },
  {
   "cell_type": "markdown",
   "metadata": {},
   "source": [
    "# விளக்கம்:\n",
    "அடுத்ததாக, azure.ai.projects.models மாடுலிலிருந்து CodeInterpreterTool வகுப்பை இறக்குமதி செய்கிறோம்.\n",
    "\n",
    "CodeInterpreterTool: இந்த வகுப்பு Azure AI SDK இன் ஒரு பகுதியாகும் மற்றும் AI திட்டங்களின் சூழலில் குறியீட்டை புரிந்து கொண்டு செயல்படுத்த பயன்படுத்தப்படுகிறது. இது குறியீட்டு துணுக்குகளை இயக்குதல், குறியீட்டை பகுப்பாய்வு செய்தல் அல்லது AI வேலைப்பாடுகளில் குறியீட்டு செயல்பாட்டை ஒருங்கிணைத்தல் போன்ற செயல்பாடுகளை வழங்குகிறது.  \n",
    "இந்த இறக்குமதி உங்கள் திட்டத்தில் CodeInterpreterTool ஐ பயன்படுத்த தேவையான கூறுகளை அமைக்கிறது, இது குறியீட்டை தன்னியக்கமாக புரிந்து கொண்டு செயல்படுத்துதல் போன்ற பணிகளுக்கு உதவியாக இருக்கலாம்.\n"
   ]
  },
  {
   "cell_type": "code",
   "execution_count": null,
   "metadata": {
    "dotnet_interactive": {
     "language": "csharp"
    },
    "polyglot_notebook": {
     "kernelName": "csharp"
    }
   },
   "outputs": [],
   "source": [
    "from azure.ai.projects.models import CodeInterpreterTool"
   ]
  },
  {
   "cell_type": "markdown",
   "metadata": {},
   "source": [
    "# விளக்கம்: \n",
    "ApprovalTerminationStrategy வகுப்பு AI முகவரின் செயல்பாட்டை நிறுத்துவதற்கான ஒரு குறிப்பிட்ட உத்தியை வழங்குகிறது. அதன் தொடர்பு வரலாற்றில் உள்ள கடைசி செய்தியில் \"saved\" என்ற வார்த்தை இருந்தால், முகவர் நிறுத்தப்படும். இது முகவரின் பணியை \"saved\" என்று உறுதிப்படுத்தும் தகவலைப் பெறும் போது முடிந்ததாகக் கருதப்படும் சூழல்களில் பயனுள்ளதாக இருக்கலாம். தொடர்பு முறைமையை வரையறுக்கவும். முன்பதிவு திட்டம் சேமிக்கப்பட்ட பிறகு, \"saved\" சிக்னலைப் பெறும் போது அதை நிறுத்தலாம்.\n"
   ]
  },
  {
   "cell_type": "code",
   "execution_count": null,
   "metadata": {
    "dotnet_interactive": {
     "language": "csharp"
    },
    "polyglot_notebook": {
     "kernelName": "csharp"
    }
   },
   "outputs": [],
   "source": [
    "class ApprovalTerminationStrategy(TerminationStrategy):\n",
    "    \"\"\"A strategy for determining when an agent should terminate.\"\"\"\n",
    "\n",
    "    async def should_agent_terminate(self, agent, history):\n",
    "        \"\"\"Check if the agent should terminate.\"\"\"\n",
    "        return \"saved\" in history[-1].content.lower()"
   ]
  },
  {
   "cell_type": "markdown",
   "metadata": {},
   "source": [
    "# விளக்கம்:\n",
    "\n",
    "இந்த கோடு வரி create() முறைவைக் கூப்பிட்டு, இயல்பான அல்லது முன்கூட்டியே வரையறுக்கப்பட்ட அமைப்புகளுடன் AzureAIAgentSettings பொருளை தொடங்குகிறது. இந்த அமைப்புப் பொருள் (ai_agent_settings) பின்னர் AzureAIAgent instance-ஐ அமைக்கவும் மேலாண்மை செய்யவும் பயன்படுத்தப்படலாம்.\n"
   ]
  },
  {
   "cell_type": "code",
   "execution_count": null,
   "metadata": {
    "dotnet_interactive": {
     "language": "csharp"
    },
    "polyglot_notebook": {
     "kernelName": "csharp"
    }
   },
   "outputs": [],
   "source": [
    "ai_agent_settings = AzureAIAgentSettings.create()"
   ]
  },
  {
   "cell_type": "markdown",
   "metadata": {},
   "source": [
    "# விளக்கம்:\n",
    "requests நூலகத்தை இறக்குமதி செய்வதன் மூலம், Python குறியீட்டில் HTTP கோரிக்கைகளை எளிதாக செய்யவும், வலை சேவைகளுடன் தொடர்பு கொள்ளவும் முடியும்.\n"
   ]
  },
  {
   "cell_type": "code",
   "execution_count": null,
   "metadata": {
    "dotnet_interactive": {
     "language": "csharp"
    },
    "polyglot_notebook": {
     "kernelName": "csharp"
    }
   },
   "outputs": [],
   "source": [
    "import requests"
   ]
  },
  {
   "cell_type": "markdown",
   "metadata": {},
   "source": [
    "# விளக்கம்:\n",
    "இது ஒரு மாறி, SERP (Search Engine Results Page) API சேவையை அணுக API key-ஐ சேமிக்க பயன்படுத்தப்படுகிறது. API key என்பது உங்கள் கணக்குடன் தொடர்புடைய கோரிக்கைகளை அங்கீகரிக்க பயன்படுத்தப்படும் தனிப்பட்ட அடையாளம்.\n",
    "\n",
    "'GOOGLE_SEARCH_API_KEY': இது ஒரு placeholder string ஆகும். 'GOOGLE_SEARCH_API_KEY' ஐ உங்கள் உண்மையான SERP API key-யுடன் மாற்ற வேண்டும்.\n",
    "\n",
    "நோக்கம்: இந்த வரியின் நோக்கம் API key-ஐ ஒரு மாறியில் சேமித்து, SERP API சேவைக்கு கோரிக்கைகளை அங்கீகரிக்க பயன்படுத்துவதற்காக உள்ளது. API key சேவையை அணுகவும், தேடல்களை செய்யவும் தேவையானது.\n",
    "\n",
    "SERP API Key-ஐ பெறுவது எப்படி: SERP API key-ஐ பெற, https://serpapi.com-ல் கீழ்க்காணும் பொதுவான படிகளை பின்பற்றவும் (நீங்கள் பயன்படுத்தும் குறிப்பிட்ட SERP API சேவையின் அடிப்படையில் துல்லியமான படிகள் மாறுபடலாம்):\n",
    "\n",
    "SERP API சேவையை தேர்வு செய்யவும்: பல SERP API சேவைகள் உள்ளன, உதாரணமாக SerpAPI, Google Custom Search JSON API மற்றும் பிறவை. உங்கள் தேவைகளுக்கு சிறந்ததாக இருக்கும் ஒன்றை தேர்வு செய்யவும்.\n",
    "\n",
    "கணக்கிற்கு பதிவு செய்யவும்:\n",
    "\n",
    "தேர்ந்தெடுத்த SERP API சேவையின் இணையதளத்திற்கு https://www.serpapi.com சென்று கணக்கிற்கு பதிவு செய்யவும். சில அடிப்படை தகவல்களை வழங்கவும், உங்கள் மின்னஞ்சல் முகவரியை சரிபார்க்கவும் தேவையாக இருக்கலாம்.\n",
    "\n",
    "API Key உருவாக்கவும்:\n",
    "\n",
    "பதிவு செய்த பிறகு, உங்கள் கணக்கில் உள்நுழைந்து API பிரிவு அல்லது டாஷ்போர்டுக்கு செல்லவும். புதிய API key உருவாக்க அல்லது உருவாக்குவதற்கான விருப்பத்தை தேடவும்.\n",
    "API Key-ஐ நகலெடுக்கவும்:\n",
    "\n",
    "API key உருவாக்கப்பட்ட பிறகு, அதை நகலெடுக்கவும். இந்த key-ஐ SERP API சேவைக்கு உங்கள் கோரிக்கைகளை அங்கீகரிக்க பயன்படுத்த வேண்டும்.\n",
    "Placeholder-ஐ மாற்றவும்:\n",
    "\n",
    "உங்கள் .env கோப்பில் உள்ள placeholder-ஐ மாற்றவும்.\n"
   ]
  },
  {
   "cell_type": "code",
   "execution_count": null,
   "metadata": {
    "dotnet_interactive": {
     "language": "csharp"
    },
    "polyglot_notebook": {
     "kernelName": "csharp"
    }
   },
   "outputs": [],
   "source": [
    "SERPAPI_SEARCH_API_KEY=os.getenv('SERPAPI_SEARCH_API_KEY')"
   ]
  },
  {
   "cell_type": "code",
   "execution_count": null,
   "metadata": {
    "dotnet_interactive": {
     "language": "csharp"
    },
    "polyglot_notebook": {
     "kernelName": "csharp"
    }
   },
   "outputs": [],
   "source": [
    "SERPAPI_SEARCH_ENDPOINT = os.getenv('SERPAPI_SEARCH_ENDPOINT')"
   ]
  },
  {
   "cell_type": "markdown",
   "metadata": {},
   "source": [
    "# விளக்கம்:\n",
    "BookingPlugin வகுப்பு Serpapi.com Google Search API-யைப் பயன்படுத்தி ஹோட்டல்கள் மற்றும் விமானங்களை பதிவு செய்யும் முறைகளை வழங்குகிறது. இது தேவையான அளவுருக்களை உருவாக்கி, API கோரிக்கைகளை அனுப்பி, பதில்களை செயல்படுத்தி தொடர்புடைய பதிவு தகவல்களை திருப்பி அனுப்புகிறது. API விசை (SERPAPI_SEARCH_API_KEY) மற்றும் இறுதிப்புள்ளி (SERPAPI_SEARCH_ENDPOINT) Google Search API-யுடன் அங்கீகரித்து கோரிக்கைகளை அனுப்ப பயன்படுத்தப்படுகிறது.\n"
   ]
  },
  {
   "cell_type": "code",
   "execution_count": null,
   "metadata": {
    "dotnet_interactive": {
     "language": "csharp"
    },
    "polyglot_notebook": {
     "kernelName": "csharp"
    }
   },
   "outputs": [],
   "source": [
    "# Define Booking Plugin\n",
    "class BookingPlugin:\n",
    "    \"\"\"Booking Plugin for customers\"\"\"\n",
    "    @kernel_function(description=\"booking hotel\")\n",
    "    def booking_hotel(self,query: Annotated[str, \"The name of the city\"], check_in_date: Annotated[str, \"Hotel Check-in Time\"], check_out_date: Annotated[str, \"Hotel Check-in Time\"])-> Annotated[str, \"Return the result of booking hotel infomation\"]:\n",
    "\n",
    "        params = {\n",
    "            \"engine\": \"google_hotels\",\n",
    "            \"q\": query,\n",
    "            \"check_in_date\": check_in_date,\n",
    "            \"check_out_date\": check_out_date,\n",
    "            \"adults\": \"2\",\n",
    "            \"currency\": \"USD\",\n",
    "            \"gl\": \"us\",\n",
    "            \"hl\": \"en\",\n",
    "            \"api_key\": SERPAPI_SEARCH_API_KEY\n",
    "        }\n",
    "\n",
    "        response = requests.get(SERPAPI_SEARCH_ENDPOINT, params=params)\n",
    "        if response.status_code == 200:\n",
    "            response = response.json()\n",
    "            return response[\"properties\"]\n",
    "        else:\n",
    "            return None\n",
    "\n",
    "    \n",
    "    @kernel_function(description=\"booking fight\")\n",
    "    def  booking_fight(self,origin: Annotated[str, \"The name of Departure\"], destination: Annotated[str, \"The name of Destination\"], outbound_date: Annotated[str, \"The date of outbound\"], return_date: Annotated[str, \"The date of Return_date\"])-> Annotated[str, \"Return the result of booking fight infomation\"]:\n",
    "        \n",
    "        go_params = {\n",
    "            \"engine\": \"google_flights\",   \n",
    "            \"departure_id\": origin,\n",
    "            \"arrival_id\": destination,\n",
    "            \"outbound_date\": outbound_date,\n",
    "            \"return_date\": return_date,  \n",
    "            \"currency\": \"USD\",\n",
    "            \"hl\": \"en\",\n",
    "            \"api_key\": SERPAPI_SEARCH_API_KEY  \n",
    "        }\n",
    "\n",
    "        print(go_params)\n",
    "\n",
    "        go_response = requests.get(SERPAPI_SEARCH_ENDPOINT, params=go_params)\n",
    "\n",
    "\n",
    "        result = ''\n",
    "\n",
    "        if go_response.status_code == 200:\n",
    "            response = go_response.json()\n",
    "\n",
    "            result += \"# outbound \\n \" + str(response)\n",
    "        else:\n",
    "            print('error!!!')\n",
    "            # return None\n",
    "\n",
    "        \n",
    "        back_params = {\n",
    "            \"engine\": \"google_flights\",   \n",
    "            \"departure_id\": destination,\n",
    "            \"arrival_id\": origin,\n",
    "            \"outbound_date\": return_date,\n",
    "            \"return_date\": return_date,  \n",
    "            \"currency\": \"USD\",\n",
    "            \"hl\": \"en\",\n",
    "            \"api_key\": SERPAPI_SEARCH_API_KEY  \n",
    "        }\n",
    "\n",
    "\n",
    "        print(back_params)\n",
    "\n",
    "\n",
    "        back_response = requests.get(SERPAPI_SEARCH_ENDPOINT, params=back_params)\n",
    "\n",
    "\n",
    "\n",
    "        if back_response.status_code == 200:\n",
    "            response = back_response.json()\n",
    "\n",
    "            result += \"\\n # return \\n\"  + str(response)\n",
    "\n",
    "        else:\n",
    "            print('error!!!')\n",
    "            # return None\n",
    "        \n",
    "        print(result)\n",
    "\n",
    "        return result\n",
    "\n",
    "        \n"
   ]
  },
  {
   "cell_type": "markdown",
   "metadata": {},
   "source": [
    "# விளக்கம்:\n",
    "SavePlugin வகுப்பு Azure AI சேவைகளைப் பயன்படுத்தி பயணத் திட்டங்களைச் சேமிக்க ஒரு saving_plan முறை வழங்குகிறது. இது Azure சான்றிதழ்களை அமைக்கிறது, ஒரு AI முகவரை உருவாக்குகிறது, பயனர் உள்ளீடுகளை செயலாக்கி பயணத் திட்ட உள்ளடக்கத்தை உருவாக்கி சேமிக்கிறது, மற்றும் கோப்பு சேமிப்பு மற்றும் சுத்தம் செய்யும் செயல்பாடுகளை கையாள்கிறது. முறை வெற்றிகரமாக முடிவடைந்தால் \"Saved\" என்பதை திரும்ப அளிக்கிறது.\n"
   ]
  },
  {
   "cell_type": "code",
   "execution_count": null,
   "metadata": {
    "dotnet_interactive": {
     "language": "csharp"
    },
    "polyglot_notebook": {
     "kernelName": "csharp"
    }
   },
   "outputs": [],
   "source": [
    "class SavePlugin:\n",
    "    \"\"\"Save Plugin for customers\"\"\"\n",
    "    @kernel_function(description=\"saving plan\")\n",
    "    async def saving_plan(self,tripplan: Annotated[str, \"The content of trip plan\"])-> Annotated[str, \"Return status of save content\"]:\n",
    "\n",
    "        async with (\n",
    "            DefaultAzureCredential() as creds,\n",
    "            AzureAIAgent.create_client(\n",
    "                credential=creds,\n",
    "                conn_str=ai_agent_settings.project_connection_string.get_secret_value(),\n",
    "            ) as client,\n",
    "        ):\n",
    "\n",
    "            code_interpreter = CodeInterpreterTool()\n",
    "            \n",
    "            agent_definition = await client.agents.create_agent(\n",
    "                model=ai_agent_settings.model_deployment_name,\n",
    "                tools=code_interpreter.definitions,\n",
    "                tool_resources=code_interpreter.resources,\n",
    "            )\n",
    "\n",
    "\n",
    "            agent = AzureAIAgent(\n",
    "                client=client,\n",
    "                definition=agent_definition,\n",
    "            )\n",
    "\n",
    "            thread = await client.agents.create_thread()\n",
    "\n",
    "\n",
    "            user_inputs = [\n",
    "                \"\"\"\n",
    "            \n",
    "                        You are my Python programming assistant. Generate code,save \"\"\"+ tripplan +\n",
    "                        \n",
    "                    \"\"\"    \n",
    "                        and execute it according to the following requirements\n",
    "\n",
    "                        1. Save blog content to trip-{YYMMDDHHMMSS}.md\n",
    "\n",
    "                        2. give me the download this file link\n",
    "                    \"\"\"\n",
    "            ]\n",
    "\n",
    "\n",
    "\n",
    "            try:\n",
    "                for user_input in user_inputs:\n",
    "                    # Add the user input as a chat message\n",
    "                    await agent.add_chat_message(\n",
    "                        thread_id=thread.id, message=ChatMessageContent(role=AuthorRole.USER, content=user_input)\n",
    "                    )\n",
    "                    print(f\"# User: '{user_input}'\")\n",
    "                    # Invoke the agent for the specified thread\n",
    "                    async for content in agent.invoke(thread_id=thread.id):\n",
    "                        if content.role != AuthorRole.TOOL:\n",
    "                            print(f\"# Agent: {content.content}\")\n",
    "\n",
    "                    \n",
    "                    messages = await client.agents.list_messages(thread_id=thread.id)\n",
    "\n",
    "                    # OpenAIPageableListOfThreadMessage\n",
    "                    # OpenAIPageableListOfThreadMessage\n",
    "\n",
    "\n",
    "                    for file_path_annotation in messages.file_path_annotations:\n",
    "\n",
    "                            file_name = os.path.basename(file_path_annotation.text)\n",
    "\n",
    "                            await client.agents.save_file(file_id=file_path_annotation.file_path.file_id, file_name=file_name,target_dir=\"./trip\")\n",
    "\n",
    "                    \n",
    "            finally:\n",
    "                await client.agents.delete_thread(thread.id)\n",
    "                await client.agents.delete_agent(agent.id)\n",
    "\n",
    "\n",
    "        return \"Saved\""
   ]
  },
  {
   "cell_type": "markdown",
   "metadata": {},
   "source": [
    "# விளக்கம்:\n",
    "இந்த குறியீடு Azure AI ஏஜென்டுகளை விமானங்கள் மற்றும் ஹோட்டல்கள் முன்பதிவு செய்யவும், பயண திட்டங்களை பயனர் உள்ளீடுகளின் அடிப்படையில் சேமிக்கவும் அமைக்கிறது. இது Azure சான்றுகளை பயன்படுத்தி ஏஜென்டுகளை உருவாக்கி அமைக்கிறது, பயனர் உள்ளீடுகளை குழு உரையாடல் மூலம் செயலாக்குகிறது, மற்றும் பணிகள் முடிந்த பிறகு சரியான சுத்தம் செய்யப்படுவதை உறுதிப்படுத்துகிறது. ஏஜென்டுகள் தங்களது தொடர்புடைய பணிகளைச் செய்ய குறிப்பிட்ட பிளகின்களை (BookingPlugin மற்றும் SavePlugin) பயன்படுத்துகின்றன.\n"
   ]
  },
  {
   "cell_type": "code",
   "execution_count": null,
   "metadata": {
    "dotnet_interactive": {
     "language": "csharp"
    },
    "polyglot_notebook": {
     "kernelName": "csharp"
    }
   },
   "outputs": [],
   "source": [
    "async with (\n",
    "    DefaultAzureCredential() as creds,\n",
    "    AzureAIAgent.create_client(\n",
    "        credential=creds,\n",
    "        conn_str=ai_agent_settings.project_connection_string.get_secret_value(),\n",
    "    ) as client,\n",
    "):\n",
    "    BOOKING_AGENT_NAME = \"BookingAgent\"\n",
    "    BOOKING_AGENT_INSTRUCTIONS = \"\"\"\n",
    "    You are a booking agent. Help me book flights or hotels.\n",
    "\n",
    "    Thought: Please understand the user's intention and confirm whether to use the reservation system to complete the task.\n",
    "\n",
    "    Actions:\n",
    "    - For flight bookings, convert the departure and destination names into airport codes.\n",
    "    - Use the appropriate API for hotel or flight bookings. Verify that all necessary parameters are available. If any parameters are missing, ask the user to provide them. If all parameters are complete, call the corresponding function.\n",
    "    - If the task is not related to hotel or flight booking, respond with the final answer only.\n",
    "    - Output the results using a markdown table:\n",
    "      - For flight bookings, output separate outbound and return contents in the order of:\n",
    "        Departure Airport | Airline | Flight Number | Departure Time | Arrival Airport | Arrival Time | Duration | Airplane | Travel Class | Price (USD) | Legroom | Extensions | Carbon Emissions (kg).\n",
    "      - For hotel bookings, output in the order of:\n",
    "        Property Name | Property Description | Check-in Time | Check-out Time | Prices | Nearby Places | Hotel Class | GPS Coordinates.\n",
    "    \"\"\"\n",
    "\n",
    "    SAVE_AGENT_NAME = \"SaveAgent\"\n",
    "    SAVE_AGENT_INSTRUCTIONS = \"\"\"\n",
    "    You are a save tool agent. Help me to save the trip plan.\n",
    "    \"\"\"\n",
    "\n",
    "    # Create agent definition\n",
    "    booking_agent_definition = await client.agents.create_agent(\n",
    "        model=ai_agent_settings.model_deployment_name,\n",
    "        name=BOOKING_AGENT_NAME,\n",
    "        instructions=BOOKING_AGENT_INSTRUCTIONS,\n",
    "    )\n",
    "\n",
    "    # Create the AzureAI Agent\n",
    "    booking_agent = AzureAIAgent(\n",
    "        client=client,\n",
    "        definition=booking_agent_definition,\n",
    "        # Optionally configure polling options\n",
    "        # polling_options=RunPollingOptions(run_polling_interval=timedelta(seconds=1)),\n",
    "    )\n",
    "\n",
    "    # Add the sample plugin to the kernel\n",
    "    booking_agent.kernel.add_plugin(BookingPlugin(), plugin_name=\"booking\")\n",
    "\n",
    "    # Create agent definition\n",
    "    save_agent_definition = await client.agents.create_agent(\n",
    "        model=ai_agent_settings.model_deployment_name,\n",
    "        name=SAVE_AGENT_NAME,\n",
    "        instructions=SAVE_AGENT_INSTRUCTIONS\n",
    "    )\n",
    "\n",
    "    # Create the AzureAI Agent\n",
    "    save_agent = AzureAIAgent(\n",
    "        client=client,\n",
    "        definition=save_agent_definition,\n",
    "    )\n",
    "\n",
    "    save_agent.kernel.add_plugin(SavePlugin(), plugin_name=\"saving\")\n",
    "\n",
    "    user_inputs = [\n",
    "        \"I have a business trip from London to New York in Feb 20 2025 to Feb 27 2025 ,help me to book a hotel and fight tickets and save it\"\n",
    "    ]\n",
    "\n",
    "    chat = AgentGroupChat(\n",
    "        agents=[booking_agent, save_agent],\n",
    "        termination_strategy=ApprovalTerminationStrategy(agents=[save_agent], maximum_iterations=10),\n",
    "    )\n",
    "\n",
    "    try:\n",
    "        for user_input in user_inputs:\n",
    "            # Add the user input as a chat message\n",
    "            await chat.add_chat_message(\n",
    "                ChatMessageContent(role=AuthorRole.USER, content=user_input)\n",
    "            )\n",
    "            print(f\"# User: '{user_input}'\")\n",
    "\n",
    "            async for content in chat.invoke():\n",
    "                print(f\"# {content.role} - {content.name or '*'}: '{content.content}'\")\n",
    "\n",
    "            print(f\"# IS COMPLETE: {chat.is_complete}\")\n",
    "\n",
    "            print(\"*\" * 60)\n",
    "            print(\"Chat History (In Descending Order):\\n\")\n",
    "            async for message in chat.get_chat_messages(agent=save_agent):\n",
    "                print(f\"# {message.role} - {message.name or '*'}: '{message.content}'\")\n",
    "    finally:\n",
    "        await chat.reset()\n",
    "        await client.agents.delete_agent(save_agent.id)\n",
    "        await client.agents.delete_agent(booking_agent.id)\n"
   ]
  },
  {
   "cell_type": "markdown",
   "metadata": {},
   "source": [
    "\n---\n\n**குறிப்பு**:  \nஇந்த ஆவணம் [Co-op Translator](https://github.com/Azure/co-op-translator) என்ற AI மொழிபெயர்ப்பு சேவையைப் பயன்படுத்தி மொழிபெயர்க்கப்பட்டுள்ளது. நாங்கள் துல்லியத்திற்காக முயற்சிக்கின்றோம், ஆனால் தானியங்கி மொழிபெயர்ப்புகளில் பிழைகள் அல்லது தவறான தகவல்கள் இருக்கக்கூடும் என்பதை தயவுசெய்து கவனத்தில் கொள்ளவும். அதன் தாய்மொழியில் உள்ள மூல ஆவணம் அதிகாரப்பூர்வ ஆதாரமாக கருதப்பட வேண்டும். முக்கியமான தகவல்களுக்கு, தொழில்முறை மனித மொழிபெயர்ப்பு பரிந்துரைக்கப்படுகிறது. இந்த மொழிபெயர்ப்பைப் பயன்படுத்துவதால் ஏற்படும் எந்த தவறான புரிதல்கள் அல்லது தவறான விளக்கங்களுக்கு நாங்கள் பொறுப்பல்ல.\n"
   ]
  }
 ],
 "metadata": {
  "kernelspec": {
   "display_name": "3.12.1",
   "language": "python",
   "name": "python3"
  },
  "language_info": {
   "codemirror_mode": {
    "name": "ipython",
    "version": 3
   },
   "file_extension": ".py",
   "mimetype": "text/x-python",
   "name": "python",
   "nbconvert_exporter": "python",
   "pygments_lexer": "ipython3",
   "version": "3.12.1"
  },
  "polyglot_notebook": {
   "kernelInfo": {
    "defaultKernelName": "csharp",
    "items": [
     {
      "aliases": [],
      "name": "csharp"
     }
    ]
   }
  },
  "coopTranslator": {
   "original_hash": "1baa60020a95eda27b7e9ecfda99965b",
   "translation_date": "2025-10-11T11:37:37+00:00",
   "source_file": "08-multi-agent/code_samples/08-python_multi_aiagent_bookinghotel.ipynb",
   "language_code": "ta"
  }
 },
 "nbformat": 4,
 "nbformat_minor": 2
}