{
 "cells": [
  {
   "cell_type": "markdown",
   "id": "6bb5f2b3",
   "metadata": {},
   "source": [
    "# ⚡ GitHub மாடல்களுடன் ஒரே நேரத்தில் செயல்படும் ஏஜென்ட் வேலைகள் (.NET)\n",
    "\n",
    "## 📋 உயர் செயல்திறன் கொண்ட ஒரே நேர செயலாக்க டியூட்டோரியல்\n",
    "\n",
    "இந்த நோட்புக் Microsoft Agent Framework for .NET மற்றும் GitHub மாடல்களைப் பயன்படுத்தி **ஒரே நேர செயல்பாட்டு வேலைகள்** மாதிரிகளை விளக்குகிறது. பல AI ஏஜென்ட்களை ஒரே நேரத்தில் இயக்குவதன் மூலம் அதிக செயல்திறனைப் பெறுவதற்கான உயர் செயல்திறன், ஒரே நேர செயலாக்க வேலைகளை உருவாக்குவது எப்படி என்பதை நீங்கள் கற்றுக்கொள்வீர்கள், அதே நேரத்தில் ஒருங்கிணைப்பு மற்றும் தரவின் நிலைத்தன்மையை பராமரிக்கவும்.\n",
    "\n",
    "## 🎯 கற்றல் நோக்கங்கள்\n",
    "\n",
    "### 🚀 **ஒரே நேர செயலாக்க அடிப்படைகள்**\n",
    "- **ஏஜென்ட் ஒரே நேர செயல்பாடு**: அதிக செயல்திறனுக்காக பல AI ஏஜென்ட்களை ஒரே நேரத்தில் இயக்கவும்\n",
    "- **Async/Await மாதிரிகள்**: .NET இன் async நிரலாக்க மாடலைப் பயன்படுத்தி திறமையான ஒரே நேர செயலாக்கத்தைப் பெறவும்\n",
    "- **GitHub மாடல்களின் ஒருங்கிணைப்பு**: GitHub இன் AI மாடல் தீர்மான சேவைக்கு பல ஒரே நேர அழைப்புகளை ஒருங்கிணைக்கவும்\n",
    "- **வள மேலாண்மை**: ஒரே நேர செயல்பாடுகளுக்கு AI மாடல் வளங்களை திறமையாக நிர்வகிக்கவும்\n",
    "\n",
    "### 🏗️ **மேம்பட்ட ஒரே நேர செயலாக்க கட்டமைப்பு**\n",
    "- **Task-Based Parallelism**: .NET Task Parallel Library ஐப் பயன்படுத்தி சிறந்த ஒரே நேர செயல்பாட்டை உருவாக்கவும்\n",
    "- **ஒத்திசைவு மாதிரிகள்**: ஏஜென்ட்களை ஒரே நேரத்தில் ஒருங்கிணைத்து, race condition-களைத் தவிர்க்கவும்\n",
    "- **Load Balancing**: கிடைக்கக்கூடிய ஒரே நேர செயலாக்க திறனுக்கு வேலைகளை திறமையாகப் பகிரவும்\n",
    "- **Fault Tolerance**: முழு வேலைகளை நிறுத்தாமல் தனிப்பட்ட ஏஜென்ட் தோல்விகளை கையாளவும்\n",
    "\n",
    "### 🏢 **நிறுவன ஒரே நேர செயல்பாட்டு பயன்பாடுகள்**\n",
    "- **உயர் அளவிலான ஆவண செயலாக்கம்**: பல ஆவணங்களை ஒரே நேரத்தில் செயலாக்கவும்\n",
    "- **உடனடி உள்ளடக்க பகுப்பாய்வு**: வரும் தரவின் ஓடுகளை ஒரே நேரத்தில் பகுப்பாய்வு செய்யவும்\n",
    "- **Batch Processing Optimization**: பெரிய அளவிலான தரவின் செயலாக்கத்தை அதிகரிக்கவும்\n",
    "- **Multi-Modal Analysis**: பல்வேறு உள்ளடக்க வகைகள் மற்றும் வடிவங்களை ஒரே நேரத்தில் செயலாக்கவும்\n",
    "\n",
    "## ⚙️ முன் தேவைகள் மற்றும் அமைப்பு\n",
    "\n",
    "### 📦 **தேவையான NuGet தொகுப்புகள்**\n",
    "\n",
    "உயர் செயல்திறன் கொண்ட ஒரே நேர செயலாக்க வேலைகளுக்கான முக்கிய தொகுப்புகள்:\n",
    "\n",
    "```xml\n",
    "<!-- Core AI Framework with Async Support -->\n",
    "<PackageReference Include=\"Microsoft.Extensions.AI\" Version=\"9.9.0\" />\n",
    "\n",
    "<!-- Client Model Abstractions for API Communication -->\n",
    "<PackageReference Include=\"System.ClientModel\" Version=\"1.6.1.0\" />\n",
    "\n",
    "<!-- Azure Identity and Async LINQ for Advanced Operations -->\n",
    "<PackageReference Include=\"Azure.Identity\" Version=\"1.15.0\" />\n",
    "<PackageReference Include=\"System.Linq.Async\" Version=\"6.0.3\" />\n",
    "\n",
    "<!-- Local Agent Framework References -->\n",
    "<!-- Microsoft.Agents.AI.dll - Core agent abstractions with async support -->\n",
    "<!-- Microsoft.Agents.AI.OpenAI.dll - GitHub Models integration with concurrency -->\n",
    "```\n",
    "\n",
    "### 🔑 **GitHub மாடல் அமைப்பு**\n",
    "\n",
    "**சுற்றுச்சூழல் அமைப்பு (.env கோப்பு):**\n",
    "```env\n",
    "GITHUB_TOKEN=your_github_personal_access_token\n",
    "GITHUB_ENDPOINT=https://models.inference.ai.azure.com\n",
    "GITHUB_MODEL_ID=gpt-4o-mini\n",
    "```\n",
    "\n",
    "**ஒரே நேர செயலாக்க கருத்துக்கள்:**\n",
    "```csharp\n",
    "// Configure for concurrent operations\n",
    "var clientOptions = new OpenAIClientOptions()\n",
    "{\n",
    "    Endpoint = new Uri(githubEndpoint),\n",
    "    // Configure connection pooling for concurrent requests\n",
    "    NetworkTimeout = TimeSpan.FromMinutes(5)\n",
    "};\n",
    "```\n",
    "\n",
    "### 🏗️ **ஒரே நேர செயலாக்க கட்டமைப்பு**\n",
    "\n",
    "```mermaid\n",
    "graph TD\n",
    "    A[Workflow Input] --> B[Task Distribution]\n",
    "    B --> C[Concurrent Agent Pool]\n",
    "    C --> D[Agent Task 1]\n",
    "    C --> E[Agent Task 2]\n",
    "    C --> F[Agent Task 3]\n",
    "    C --> G[Agent Task N]\n",
    "    \n",
    "    D --> H[Result Aggregation]\n",
    "    E --> H\n",
    "    F --> H\n",
    "    G --> H\n",
    "    \n",
    "    H --> I[Synchronized Output]\n",
    "    \n",
    "    J[GitHub Models API] --> D\n",
    "    J --> E\n",
    "    J --> F\n",
    "    J --> G\n",
    "    \n",
    "    K[.NET Task Scheduler] --> C\n",
    "```\n",
    "\n",
    "**முக்கிய கூறுகள்:**\n",
    "- **Task Parallel Library**: .NET இன் ஒரே நேர செயல்பாடுகளுக்கான உள்ளமைவு ஆதரவு\n",
    "- **Agent Pool**: ஒரே நேர செயலாக்கத்திற்கான பல ஏஜென்ட் நிகழ்வுகள்\n",
    "- **Result Aggregation**: ஒரே நேர செயல்பாட்டு ஏஜென்ட்களின் முடிவுகளை ஒருங்கிணைத்து இணைத்தல்\n",
    "- **Synchronization Points**: ஒரே நேர செயல்பாடுகளில் தரவின் நிலைத்தன்மையை உறுதிப்படுத்தவும்\n",
    "\n",
    "## 🎨 **ஒரே நேர செயலாக்க வடிவமைப்பு மாதிரிகள்**\n",
    "\n",
    "### 🔍 **ஒரே நேர ஆராய்ச்சி மற்றும் பகுப்பாய்வு**\n",
    "```\n",
    "Research Topic → Concurrent Research Agents → Result Synthesis → Final Report\n",
    "```\n",
    "\n",
    "### 📊 **பல மூலதரவு செயலாக்கம்**\n",
    "```\n",
    "Data Sources → Parallel Processing Agents → Data Integration → Unified Output\n",
    "```\n",
    "\n",
    "### 🎭 **உள்ளடக்க உருவாக்க குழாய்**\n",
    "```\n",
    "Content Requirements → Concurrent Content Generators → Quality Review → Final Content\n",
    "```\n",
    "\n",
    "### 🔄 **Fan-Out/Fan-In செயலாக்கம்**\n",
    "```\n",
    "Single Input → Multiple Concurrent Processors → Result Aggregation → Single Output\n",
    "```\n",
    "\n",
    "## 🏢 **நிறுவன செயல்திறன் நன்மைகள்**\n",
    "\n",
    "### ⚡ **திறன் மற்றும் அளவீடு**\n",
    "- **நேரியல் செயல்திறன் அளவீடு**: செயல்திறனை அதிகரிக்க மேலும் பல ஒரே நேர ஏஜென்ட்களைச் சேர்க்கவும்\n",
    "- **வள பயன்பாடு**: கிடைக்கக்கூடிய AI மாடல் திறனின் அதிகபட்ச திறமையைப் பெறவும்\n",
    "- **செயலாக்க நேரத்தை குறைப்பு**: ஒரே நேர செயல்பாட்டின் மூலம் நேரத்தை கணிசமாக குறைக்கவும்\n",
    "- **Elastic Scaling**: வேலைச்சுமைக்கு ஏற்ப ஒரே நேர ஏஜென்ட்களின் எண்ணிக்கையை தானாக சரிசெய்யவும்\n",
    "\n",
    "### 🛡️ **நம்பகத்தன்மை மற்றும் மாறுபாடு**\n",
    "- **Fault Isolation**: தனிப்பட்ட ஏஜென்ட் தோல்விகள் மற்ற ஒரே நேர செயல்பாடுகளை பாதிக்காது\n",
    "- **Graceful Degradation**: ஏஜென்ட் திறன் குறைந்தாலும் அமைப்பு செயல்பட தொடரும்\n",
    "- **Error Recovery**: தோல்வியடைந்த ஒரே நேர செயல்பாடுகளுக்கான தானியங்கி மீளமைப்பு முறை\n",
    "- **Load Distribution**: கிடைக்கக்கூடிய ஏஜென்ட்களுக்கு வேலைகளை சமமாகப் பகிரவும்\n",
    "\n",
    "### 📊 **செயல்திறன் கண்காணிப்பு**\n",
    "- **ஒரே நேர செயல்பாட்டு அளவீடுகள்**: அனைத்து ஒரே நேர செயல்பாடுகளின் செயல்திறனை கண்காணிக்கவும்\n",
    "- **வள பயன்பாட்டு பகுப்பாய்வு**: CPU, memory, மற்றும் network பயன்பாட்டை கண்காணிக்கவும்\n",
    "- **திறன் பகுப்பாய்வு**: ஒரே நேர செயலாக்கத்தால் கிடைக்கும் திறன் முன்னேற்றங்களை அளவிடவும்\n",
    "- **Bottleneck Detection**: செயல்திறன் கட்டுப்பாடுகளை கண்டறிந்து தீர்க்கவும்\n",
    "\n",
    "### 🔧 **உருவாக்கம் மற்றும் செயல்பாடுகள்**\n",
    "- **Async Programming Model**: .NET இன் முதிர்ந்த async/await மாதிரிகளைப் பயன்படுத்தவும்\n",
    "- **Task Coordination**: ஒரே நேர செயல்பாடுகளுக்கான உள்ளமைவு task மேலாண்மை மற்றும் ஒருங்கிணைப்பு திறன்கள்\n",
    "- **Exception Handling**: ஒரே நேர செயல்பாடுகளுக்கான விரிவான பிழை கையாளுதல்\n",
    "- **Debugging Support**: ஒரே நேர வேலைகளுக்கான Visual Studio debugging கருவிகள்\n",
    "\n",
    ".NET உடன் உயர் செயல்திறன் கொண்ட ஒரே நேர AI வேலைகளை உருவாக்குவோம்! 🚀\n"
   ]
  },
  {
   "cell_type": "code",
   "execution_count": 1,
   "id": "4675c79f",
   "metadata": {
    "language_info": {
     "name": "polyglot-notebook"
    },
    "polyglot_notebook": {
     "kernelName": "csharp"
    }
   },
   "outputs": [
    {
     "data": {
      "text/html": [
       "<div><div></div><div></div><div><strong>Installed Packages</strong><ul><li><span>Microsoft.Extensions.AI, 9.9.1</span></li></ul></div></div>"
      ]
     },
     "metadata": {},
     "output_type": "display_data"
    }
   ],
   "source": [
    "#r \"nuget: Microsoft.Extensions.AI, 9.9.1\""
   ]
  },
  {
   "cell_type": "code",
   "execution_count": 2,
   "id": "cb327e0b",
   "metadata": {
    "language_info": {
     "name": "polyglot-notebook"
    },
    "polyglot_notebook": {
     "kernelName": "csharp"
    }
   },
   "outputs": [
    {
     "data": {
      "text/html": [
       "<div><div></div><div></div><div><strong>Installed Packages</strong><ul><li><span>System.ClientModel, 1.6.1</span></li></ul></div></div>"
      ]
     },
     "metadata": {},
     "output_type": "display_data"
    }
   ],
   "source": [
    "#r \"nuget: System.ClientModel, 1.6.1.0\""
   ]
  },
  {
   "cell_type": "code",
   "execution_count": 3,
   "id": "394ce307",
   "metadata": {
    "language_info": {
     "name": "polyglot-notebook"
    },
    "polyglot_notebook": {
     "kernelName": "csharp"
    }
   },
   "outputs": [
    {
     "data": {
      "text/html": [
       "<div><div></div><div></div><div><strong>Installed Packages</strong><ul><li><span>Azure.Identity, 1.15.0</span></li><li><span>OpenTelemetry.Api, 1.0.1</span></li><li><span>System.Linq.Async, 6.0.3</span></li></ul></div></div>"
      ]
     },
     "metadata": {},
     "output_type": "display_data"
    }
   ],
   "source": [
    "#r \"nuget: Azure.Identity, 1.15.0\"\n",
    "#r \"nuget: System.Linq.Async, 6.0.3\"\n",
    "#r \"nuget: OpenTelemetry.Api, 1.0.0\""
   ]
  },
  {
   "cell_type": "code",
   "execution_count": 4,
   "id": "0a7c9e26",
   "metadata": {
    "language_info": {
     "name": "polyglot-notebook"
    },
    "polyglot_notebook": {
     "kernelName": "csharp"
    }
   },
   "outputs": [
    {
     "data": {
      "text/html": [
       "<div><div></div><div></div><div><strong>Installed Packages</strong><ul><li><span>Microsoft.Agents.AI.Workflows, 1.0.0-preview.251001.3</span></li></ul></div></div>"
      ]
     },
     "metadata": {},
     "output_type": "display_data"
    }
   ],
   "source": [
    "#r \"nuget: Microsoft.Agents.AI.Workflows, 1.0.0-preview.251001.3\""
   ]
  },
  {
   "cell_type": "code",
   "execution_count": null,
   "id": "a316aac6",
   "metadata": {
    "language_info": {
     "name": "polyglot-notebook"
    },
    "polyglot_notebook": {
     "kernelName": "csharp"
    }
   },
   "outputs": [
    {
     "data": {
      "text/html": [
       "<div><div></div><div></div><div><strong>Installed Packages</strong><ul><li><span>Microsoft.Agents.AI.OpenAI, 1.0.0-preview.251001.2</span></li></ul></div></div>"
      ]
     },
     "metadata": {},
     "output_type": "display_data"
    }
   ],
   "source": [
    "#r \"nuget: Microsoft.Agents.AI.OpenAI, 1.0.0-preview.251001.3\""
   ]
  },
  {
   "cell_type": "code",
   "execution_count": 6,
   "id": "25929636",
   "metadata": {
    "language_info": {
     "name": "polyglot-notebook"
    },
    "polyglot_notebook": {
     "kernelName": "csharp"
    }
   },
   "outputs": [
    {
     "data": {
      "text/html": [
       "<div><div></div><div></div><div><strong>Installed Packages</strong><ul><li><span>DotNetEnv, 3.1.1</span></li></ul></div></div>"
      ]
     },
     "metadata": {},
     "output_type": "display_data"
    }
   ],
   "source": [
    "#r \"nuget: DotNetEnv, 3.1.1\""
   ]
  },
  {
   "cell_type": "code",
   "execution_count": 7,
   "id": "a2e8c6e1",
   "metadata": {
    "language_info": {
     "name": "polyglot-notebook"
    },
    "polyglot_notebook": {
     "kernelName": "csharp"
    }
   },
   "outputs": [],
   "source": [
    "// #r \"nuget: Microsoft.Extensions.AI.OpenAI, 9.9.0-preview.1.25458.4\""
   ]
  },
  {
   "cell_type": "code",
   "execution_count": 8,
   "id": "423d09a3",
   "metadata": {
    "language_info": {
     "name": "polyglot-notebook"
    },
    "polyglot_notebook": {
     "kernelName": "csharp"
    }
   },
   "outputs": [],
   "source": [
    "using System;\n",
    "using System.ComponentModel;\n",
    "using System.ClientModel;\n",
    "using OpenAI;\n",
    "using Azure.Identity;\n",
    "using Microsoft.Extensions.AI;\n",
    "using Microsoft.Agents.AI;\n",
    "using Microsoft.Agents.AI.Workflows;\n",
    "using Microsoft.Agents.AI.Workflows.Reflection;"
   ]
  },
  {
   "cell_type": "code",
   "execution_count": 9,
   "id": "2fb52dd9",
   "metadata": {
    "language_info": {
     "name": "polyglot-notebook"
    },
    "polyglot_notebook": {
     "kernelName": "csharp"
    }
   },
   "outputs": [],
   "source": [
    " using DotNetEnv;"
   ]
  },
  {
   "cell_type": "code",
   "execution_count": 10,
   "id": "d8c58043",
   "metadata": {
    "language_info": {
     "name": "polyglot-notebook"
    },
    "polyglot_notebook": {
     "kernelName": "csharp"
    }
   },
   "outputs": [],
   "source": [
    "Env.Load(\"../../../.env\");"
   ]
  },
  {
   "cell_type": "code",
   "execution_count": 11,
   "id": "62168984",
   "metadata": {
    "language_info": {
     "name": "polyglot-notebook"
    },
    "polyglot_notebook": {
     "kernelName": "csharp"
    }
   },
   "outputs": [],
   "source": [
    "\n",
    "var github_endpoint = Environment.GetEnvironmentVariable(\"GITHUB_ENDPOINT\") ?? throw new InvalidOperationException(\"GITHUB_ENDPOINT is not set.\");\n",
    "var github_model_id =  \"gpt-4o\";\n",
    "var github_token = Environment.GetEnvironmentVariable(\"GITHUB_TOKEN\") ?? throw new InvalidOperationException(\"GITHUB_TOKEN is not set.\");\n"
   ]
  },
  {
   "cell_type": "code",
   "execution_count": 12,
   "id": "2884c117",
   "metadata": {
    "language_info": {
     "name": "polyglot-notebook"
    },
    "polyglot_notebook": {
     "kernelName": "csharp"
    }
   },
   "outputs": [],
   "source": [
    "var openAIOptions = new OpenAIClientOptions()\n",
    "{\n",
    "    Endpoint = new Uri(github_endpoint)\n",
    "};"
   ]
  },
  {
   "cell_type": "code",
   "execution_count": 13,
   "id": "cc7c9c13",
   "metadata": {
    "language_info": {
     "name": "polyglot-notebook"
    },
    "polyglot_notebook": {
     "kernelName": "csharp"
    }
   },
   "outputs": [],
   "source": [
    "var openAIClient = new OpenAIClient(new ApiKeyCredential(github_token), openAIOptions);"
   ]
  },
  {
   "cell_type": "code",
   "execution_count": 14,
   "id": "1136229d",
   "metadata": {
    "language_info": {
     "name": "polyglot-notebook"
    },
    "polyglot_notebook": {
     "kernelName": "csharp"
    }
   },
   "outputs": [],
   "source": [
    "const string ResearcherAgentName = \"Researcher-Agent\";\n",
    "const string ResearcherAgentInstructions = \"You are my travel researcher, working with me to analyze the destination, list relevant attractions, and make detailed plans for each attraction.\";"
   ]
  },
  {
   "cell_type": "code",
   "execution_count": 15,
   "id": "66463aa4",
   "metadata": {
    "language_info": {
     "name": "polyglot-notebook"
    },
    "polyglot_notebook": {
     "kernelName": "csharp"
    }
   },
   "outputs": [],
   "source": [
    "const string PlanAgentName = \"Plan-Agent\";\n",
    "const string PlanAgentInstructions = \"You are my travel planner, working with me to create a detailed travel plan based on the researcher's findings.\";"
   ]
  },
  {
   "cell_type": "code",
   "execution_count": 16,
   "id": "3a6f8f43",
   "metadata": {
    "language_info": {
     "name": "polyglot-notebook"
    },
    "polyglot_notebook": {
     "kernelName": "csharp"
    }
   },
   "outputs": [],
   "source": [
    "AIAgent researcherAgent = openAIClient.GetChatClient(github_model_id).CreateAIAgent(\n",
    "    name:ResearcherAgentName,instructions:ResearcherAgentInstructions);\n",
    "AIAgent plannerAgent  = openAIClient.GetChatClient(github_model_id).CreateAIAgent(\n",
    "    name:PlanAgentName,instructions:PlanAgentInstructions);"
   ]
  },
  {
   "cell_type": "code",
   "execution_count": 17,
   "id": "cf4d6cc5",
   "metadata": {
    "language_info": {
     "name": "polyglot-notebook"
    },
    "polyglot_notebook": {
     "kernelName": "csharp"
    }
   },
   "outputs": [],
   "source": [
    "\n",
    "public class ConcurrentStartExecutor() :\n",
    "    ReflectingExecutor<ConcurrentStartExecutor>(\"ConcurrentStartExecutor\"),\n",
    "    IMessageHandler<string>\n",
    "{\n",
    "    /// <summary>\n",
    "    /// Starts the concurrent processing by sending messages to the agents.\n",
    "    /// </summary>\n",
    "    /// <param name=\"message\">The user message to process</param>\n",
    "    /// <param name=\"context\">Workflow context for accessing workflow services and adding events</param>\n",
    "    /// <returns>A task representing the asynchronous operation</returns>\n",
    "    public async ValueTask HandleAsync(string message, IWorkflowContext context)\n",
    "    {\n",
    "        // Broadcast the message to all connected agents. Receiving agents will queue\n",
    "        // the message but will not start processing until they receive a turn token.\n",
    "        await context.SendMessageAsync(new ChatMessage(ChatRole.User, message));\n",
    "        // Broadcast the turn token to kick off the agents.\n",
    "        await context.SendMessageAsync(new TurnToken(emitEvents: true));\n",
    "    }\n",
    "}\n",
    "\n",
    "/// <summary>\n",
    "/// Executor that aggregates the results from the concurrent agents.\n",
    "/// </summary>\n",
    "public class ConcurrentAggregationExecutor() :\n",
    "    ReflectingExecutor<ConcurrentAggregationExecutor>(\"ConcurrentAggregationExecutor\"),\n",
    "    IMessageHandler<ChatMessage>\n",
    "{\n",
    "    private readonly List<ChatMessage> _messages = [];\n",
    "\n",
    "    /// <summary>\n",
    "    /// Handles incoming messages from the agents and aggregates their responses.\n",
    "    /// </summary>\n",
    "    /// <param name=\"message\">The message from the agent</param>\n",
    "    /// <param name=\"context\">Workflow context for accessing workflow services and adding events</param>\n",
    "    /// <returns>A task representing the asynchronous operation</returns>\n",
    "    public async ValueTask HandleAsync(ChatMessage message, IWorkflowContext context)\n",
    "    {\n",
    "        this._messages.Add(message);\n",
    "\n",
    "        if (this._messages.Count == 2)\n",
    "        {\n",
    "            var formattedMessages = string.Join(Environment.NewLine, this._messages.Select(m => $\"{m.AuthorName}: {m.Text}\"));\n",
    "            await context.YieldOutputAsync(formattedMessages);\n",
    "        }\n",
    "    }\n",
    "}"
   ]
  },
  {
   "cell_type": "code",
   "execution_count": 18,
   "id": "9f3d1627",
   "metadata": {
    "language_info": {
     "name": "polyglot-notebook"
    },
    "polyglot_notebook": {
     "kernelName": "csharp"
    }
   },
   "outputs": [],
   "source": [
    "var startExecutor = new ConcurrentStartExecutor();\n",
    "var aggregationExecutor = new ConcurrentAggregationExecutor();"
   ]
  },
  {
   "cell_type": "code",
   "execution_count": 19,
   "id": "8957f876",
   "metadata": {
    "language_info": {
     "name": "polyglot-notebook"
    },
    "polyglot_notebook": {
     "kernelName": "csharp"
    }
   },
   "outputs": [],
   "source": [
    "var workflow = new WorkflowBuilder(startExecutor)\n",
    "            .AddFanOutEdge(startExecutor, targets: [researcherAgent, plannerAgent])\n",
    "            .AddFanInEdge(aggregationExecutor, sources: [researcherAgent, plannerAgent])\n",
    "            .WithOutputFrom(aggregationExecutor)\n",
    "            .Build();"
   ]
  },
  {
   "cell_type": "code",
   "execution_count": 20,
   "id": "df71d4d2",
   "metadata": {
    "language_info": {
     "name": "polyglot-notebook"
    },
    "polyglot_notebook": {
     "kernelName": "csharp"
    }
   },
   "outputs": [
    {
     "name": "stdout",
     "output_type": "stream",
     "text": [
      "Workflow completed with results:\n",
      "Plan-Agent: December is a magical time to visit Seattle, as the city embraces the festive season with sparkling holiday lights, seasonal activities, cozy indoor attractions, and hearty cuisine. The weather will be chilly, often rainy, and occasionally snowy, so pack accordingly. Here's a detailed trip plan for your Seattle visit:\n",
      "\n",
      "---\n",
      "\n",
      "### **Travel Dates**  \n",
      "Suggested schedule: **3-5 days in Seattle (example: December 15–19)**  \n",
      "Adjust according to your preferences and availability.\n",
      "\n",
      "---\n",
      "\n",
      "### **Packing Essentials**  \n",
      "- Warm, waterproof coat  \n",
      "- Umbrella or rain jacket (Seattle has rainy winters)  \n",
      "- Waterproof boots or shoes  \n",
      "- Layers: sweaters, thermal tops, scarves, gloves, and hats  \n",
      "- Day backpack for exploring  \n",
      "- Travel charger and portable power bank  \n",
      "- Camera or phone for holiday photos  \n",
      "\n",
      "---\n",
      "\n",
      "### **Day 1: Arrival and Exploring Downtown**  \n",
      "**Morning**  \n",
      "- Arrive at **Seattle-Tacoma International Airport (SEA)**.  \n",
      "- Transfer to your accommodation (stay downtown for convenience). Options:  \n",
      "  - Luxury: **The Four Seasons Seattle**  \n",
      "  - Boutique: **The Hotel Andra**  \n",
      "  - Budget-friendly: **The Mediterranean Inn**  \n",
      "\n",
      "**Afternoon**  \n",
      "- Lunch at **Elliott’s Oyster House** near the waterfront for fresh seafood.  \n",
      "- Begin exploring **Pike Place Market**.  \n",
      "  - Shop artisan goods and seasonal items.  \n",
      "  - Watch the famous fishmongers toss fish.  \n",
      "  - Grab a cup of coffee from the original **Starbucks** store (if the line isn't too long).  \n",
      "\n",
      "**Evening**  \n",
      "- Stroll along the **Seattle Waterfront** and explore the festive lights in **Waterfront Park**.  \n",
      "- Enjoy dinner at **Canlis** for a fine dining experience or **Toulouse Petit** for flavorful Cajun/Creole cuisine.  \n",
      "\n",
      "---\n",
      "\n",
      "### **Day 2: Iconic Attractions and Holiday Cheer**  \n",
      "**Morning**  \n",
      "- Visit the **Space Needle** first thing for stunning views of the city and Mount Rainier (on clear days).  \n",
      "- Explore the **Chihuly Garden and Glass** exhibit nearby for mesmerizing art.  \n",
      "\n",
      "**Afternoon**  \n",
      "- Head to **Museum of Pop Culture (MoPOP)** for interactive exhibits covering music, gaming, sci-fi, and pop culture.  \n",
      "- Grab lunch at **The Pink Door**, an Italian-American restaurant with festive vibes.  \n",
      "\n",
      "**Evening**  \n",
      "- Discover the **Seattle Center Winterfest**. It features:  \n",
      "  - Ice skating  \n",
      "  - Holiday music performances  \n",
      "  - Winter-themed light displays  \n",
      "- Dinner at **Serious Pie** for wood-fired pizza or **Mashiko** if you're craving sushi.  \n",
      "\n",
      "---\n",
      "\n",
      "### **Day 3: Day Trips and Nature**  \n",
      "**Morning**  \n",
      "- Take a short day trip to **Snoqualmie Falls** (about 40 minutes east of downtown Seattle).  \n",
      "  - Walk the scenic observation trails for stunning views of the waterfalls amidst wintry landscapes.  \n",
      "\n",
      "**Afternoon**  \n",
      "- Return to Seattle and warm up with lunch at **Matt’s in the Market** (great views and hearty food downtown).  \n",
      "- Visit **Kerry Park** for postcard-worthy skyline views, especially during the holidays when lights sparkle across the city.  \n",
      "\n",
      "**Evening**  \n",
      "- Return to downtown and enjoy the holiday markets, such as **Downtown Holiday Lights & Market** (check for seasonal pop-ups).  \n",
      "- Dinner and drinks at **The Nest**, a rooftop bar offering panoramic views of the waterfront.  \n",
      "\n",
      "---\n",
      "\n",
      "### **Day 4: Unique Neighborhoods and Relaxing**  \n",
      "**Morning**  \n",
      "- Take a stroll through **Capitol Hill**, a trendy neighborhood.  \n",
      "  - Have brunch at **Tilikum Place Café** or **Tallulah’s**.  \n",
      "  - Explore local shops and bookstores like **Elliott Bay Book Company**.  \n",
      "\n",
      "**Afternoon**  \n",
      "- Take a relaxing afternoon ferry ride to **Bainbridge Island**.  \n",
      "  - Walk around charming boutiques and coffee shops.  \n",
      "  - Visit the scenic **Bloedel Reserve**, a stunning garden combining nature and holiday tranquility.  \n",
      "\n",
      "**Evening**  \n",
      "- Catch a live holiday-themed performance. Options include:  \n",
      "  - **The Nutcracker** by the Pacific Northwest Ballet  \n",
      "  - A Christmas show at **The Paramount Theatre**  \n",
      "\n",
      "Have your last dinner in Seattle at **Revolver Bar** or **Etta’s**, located near the waterfront.\n",
      "\n",
      "---\n",
      "\n",
      "### **Day 5: Departure**  \n",
      "**Morning**  \n",
      "- Stop at **Seattle Coffee Works** or **Café Ladro** for your last dose of Seattle coffee culture.  \n",
      "- Souvenir shopping at **Ye Olde Curiosity Shop** for unique keepsakes.  \n",
      "- Head to the airport for your flight home.  \n",
      "\n",
      "---\n",
      "\n",
      "### **Transportation**  \n",
      "- **Getting Around**:  \n",
      "  - Utilize Seattle’s excellent public transit system (Link Light Rail, buses, and streetcars).  \n",
      "  - Rideshare options like Uber/Lyft are readily available.  \n",
      "  - Rent a car only if planning day trips outside the city (e.g., Snoqualmie Falls).  \n",
      "\n",
      "---\n",
      "\n",
      "### **Budget Considerations**  \n",
      "- **Accommodations**: $150–$400 per night (depending on preferences)  \n",
      "- **Food**: $60–$100/day per person  \n",
      "- **Activities** (tickets): $50–$100/day  \n",
      "- **Transportation**: $10–$20/day for public transit/rideshares  \n",
      "\n",
      "---\n",
      "\n",
      "### **Extra Notes**\n",
      "- Make restaurant reservations for popular spots, especially during the holidays.  \n",
      "- Seattle weather can change rapidly, so keep an umbrella or raincoat with you at all times.  \n",
      "- Be mindful of the shorter daylight hours in December.  \n",
      "\n",
      "Enjoy the cozy vibes, festive activities, and breathtaking views that Seattle offers in December! Let me know if you'd like more suggestions.\r\n",
      "Researcher-Agent: Seattle in December is a wonderful destination with its mix of urban charm, holiday festivities, and nearby natural beauty. While the weather may be chilly (averaging 40°F–47°F with rain), the city’s attractions and seasonal events provide plenty to enjoy. Below, I’ll outline an itinerary and highlight key destinations to make the most of your trip. \n",
      "\n",
      "---\n",
      "\n",
      "### **Day 1: Downtown Seattle Exploration**\n",
      "1. **Pike Place Market**  \n",
      "   - **Why Visit?** Seattle’s iconic landmark, filled with local food vendors, artisanal goods, and street performers. Don’t miss the famous fish toss and the original Starbucks store.  \n",
      "   - **Things to Do**: Browse the market, enjoy lunch at Beecher’s Handmade Cheese or Piroshky Piroshky, and stop at the market’s waterfront for views of Elliott Bay.  \n",
      "   - **Seasonal Note**: Holiday decorations make this area festive! Look for vendors selling seasonal handicrafts.  \n",
      "\n",
      "2. **Seattle Aquarium**  \n",
      "   - **Why Visit?** Located nearby on the waterfront, the aquarium offers interactive exhibits about marine life from the Pacific Northwest.  \n",
      "   - **Things to Do**: Explore exhibits like the underwater dome, touch tanks with sea stars, and learn about marine conservation.  \n",
      "\n",
      "3. **Waterfront and Great Wheel**  \n",
      "   - **Why Visit?** The Seattle Great Wheel, one of the largest Ferris wheels on the West Coast, offers panoramic views of the city, Puget Sound, and mountains.  \n",
      "   - **Things to Do**: Take a ride on the Great Wheel (especially stunning at twilight), explore the waterfront area, and check out shops or restaurants such as Ivar’s Seafood Bar.  \n",
      "\n",
      "---\n",
      "\n",
      "### **Day 2: Iconic Landmarks & Museums**  \n",
      "1. **Space Needle**  \n",
      "   - **Why Visit?** This famous tower offers 360-degree views of Seattle, including Mt. Rainier, Puget Sound, and the Olympic and Cascade mountain ranges.  \n",
      "   - **Things to Do**: Visit the observation deck, take photos of the city skyline, and grab food at the café if desired.  \n",
      "   - **Seasonal Note**: The views may include snow-capped mountains if the weather is clear.  \n",
      "\n",
      "2. **Chihuly Garden and Glass**  \n",
      "   - **Why Visit?** A visually stunning museum featuring Dale Chihuly's unique glass sculptures.  \n",
      "   - **Things to Do**: Walk through the glasshouse, gardens, and indoor exhibits to marvel at the artistry of blown glass installations.  \n",
      "\n",
      "3. **Museum of Pop Culture (MoPOP)**  \n",
      "   - **Why Visit?** A vibrant museum on creativity and entertainment, perfect for pop culture enthusiasts.  \n",
      "   - **Things to Do**: Explore exhibits on music (like the Nirvana gallery), science fiction, film, gaming, and more.  \n",
      "\n",
      "4. **Holiday Festivities in Seattle Center**  \n",
      "   - **Why Visit?** Seattle Center often hosts holiday-themed events in December, like evening light shows and performances. Check out the Winterfest activities, including ice skating at the Seattle Center Armory.  \n",
      "\n",
      "---\n",
      "\n",
      "### **Day 3: Nature & Surrounding Areas**  \n",
      "1. **Discovery Park**  \n",
      "   - **Why Visit?** Seattle’s largest green space, offering tranquil beaches, forested trails, and stunning views of Puget Sound and the Olympic Mountains.  \n",
      "   - **Things to Do**: Hike the trails, walk to the West Point Lighthouse, and enjoy the fresh air with gorgeous coastal scenery.  \n",
      "\n",
      "2. **Fremont Neighborhood**  \n",
      "   - **Why Visit?** Known as the “Center of the Universe,” this quirky neighborhood offers boutique shops, great restaurants, art, and attractions.  \n",
      "   - **Things to Do**: See the Fremont Troll under the Aurora Bridge, shop local stores, and dine at neighborhood favorites like Revel or Joule.  \n",
      "\n",
      "3. **Gas Works Park**  \n",
      "   - **Why Visit?** A scenic spot for city skyline views. The historic gas plant structures make this park unique.  \n",
      "   - **Things to Do**: Take photos of the skyline at sunset, have a winter picnic, or simply enjoy the panoramic city-bay views.  \n",
      "\n",
      "---\n",
      "\n",
      "### **Day 4: Day Trip to Mount Rainier or Leavenworth**  \n",
      "1. **Option 1: Mount Rainier National Park**  \n",
      "   - **Why Visit?** Located about 2 hours from Seattle, this stunning national park offers winter scenery, snowshoeing, and peaceful landscapes.  \n",
      "   - **Things to Do**: Book a snowshoe tour, visit Paradise for picturesque winter views, and soak in the serenity of nature.  \n",
      "\n",
      "2. **Option 2: Leavenworth Christmas Village**  \n",
      "   - **Why Visit?** About 2.5 hours away, Leavenworth is an alpine-style Bavarian village that transforms into a winter wonderland in December.  \n",
      "   - **Things to Do**: Stroll through the Christmas-lit village, shop for holiday gifts, enjoy German-inspired food and drinks (like bratwurst and glühwein), and check out sleigh rides or sledding opportunities.  \n",
      "\n",
      "---\n",
      "\n",
      "### **Optional Activities (in case you extend your stay)**  \n",
      "- **Pacific Northwest Ballet: \"The Nutcracker\"**  \n",
      "   - Why Visit? A quintessential holiday favorite, performed beautifully in Seattle each December.  \n",
      "- **Woodinville Wine Country** (day trip)  \n",
      "   - Why Visit? Sip on world-class wines at charming wineries just 30 minutes northeast of Seattle.\n",
      "\n",
      "---\n",
      "\n",
      "### Packing Tips for December Seattle Visit:  \n",
      "1. **Clothing**: Waterproof jacket, warm layers, scarves, and comfortable walking shoes.  \n",
      "2. **Gear**: Umbrella or hooded raincoat (Seattle is rainy in December!), and a camera for capturing holiday decorations and scenic vistas.\n",
      "\n",
      "This itinerary blends Seattle’s iconic landmarks, holiday spirit, and nearby natural wonders for a memorable December trip! Let me know if you'd like me to refine or customize further.\r\n"
     ]
    }
   ],
   "source": [
    "\n",
    "        StreamingRun run = await InProcessExecution.StreamAsync(workflow, \"Plan a trip to Seattle in December\");\n",
    "        await foreach (WorkflowEvent evt in run.WatchStreamAsync().ConfigureAwait(false))\n",
    "        {\n",
    "            if (evt is WorkflowOutputEvent output)\n",
    "            {\n",
    "                Console.WriteLine($\"Workflow completed with results:\\n{output.Data}\");\n",
    "            }\n",
    "        }"
   ]
  },
  {
   "cell_type": "markdown",
   "metadata": {},
   "source": [
    "\n---\n\n**குறிப்பு**:  \nஇந்த ஆவணம் [Co-op Translator](https://github.com/Azure/co-op-translator) என்ற AI மொழிபெயர்ப்பு சேவையைப் பயன்படுத்தி மொழிபெயர்க்கப்பட்டுள்ளது. நாங்கள் துல்லியத்திற்காக முயற்சிக்கின்றோம், ஆனால் தானியங்கி மொழிபெயர்ப்புகளில் பிழைகள் அல்லது தவறான தகவல்கள் இருக்கக்கூடும் என்பதை கவனத்தில் கொள்ளவும். அதன் தாய்மொழியில் உள்ள மூல ஆவணம் அதிகாரப்பூர்வ ஆதாரமாக கருதப்பட வேண்டும். முக்கியமான தகவல்களுக்கு, தொழில்முறை மனித மொழிபெயர்ப்பு பரிந்துரைக்கப்படுகிறது. இந்த மொழிபெயர்ப்பைப் பயன்படுத்துவதால் ஏற்படும் எந்த தவறான புரிதல்கள் அல்லது தவறான விளக்கங்களுக்கு நாங்கள் பொறுப்பல்ல.\n"
   ]
  }
 ],
 "metadata": {
  "kernelspec": {
   "display_name": ".NET (C#)",
   "language": "C#",
   "name": ".net-csharp"
  },
  "language_info": {
   "name": "polyglot-notebook"
  },
  "polyglot_notebook": {
   "kernelInfo": {
    "defaultKernelName": "csharp",
    "items": [
     {
      "aliases": [],
      "name": "csharp"
     }
    ]
   }
  },
  "coopTranslator": {
   "original_hash": "793ebb45b14fe33451d213347f2be5d5",
   "translation_date": "2025-10-11T11:41:14+00:00",
   "source_file": "08-multi-agent/code_samples/workflows-agent-framework/dotNET/03.dotnet-agent-framework-workflow-ghmodel-concurrent.ipynb",
   "language_code": "ta"
  }
 },
 "nbformat": 4,
 "nbformat_minor": 5
}