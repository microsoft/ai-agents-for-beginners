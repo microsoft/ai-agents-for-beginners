{
 "cells": [
  {
   "cell_type": "markdown",
   "id": "187780ba",
   "metadata": {},
   "source": [
    "# 🔄 Základné pracovné postupy agentov s GitHub modelmi (.NET)\n",
    "\n",
    "## 📋 Návod na orchestráciu pracovných postupov\n",
    "\n",
    "Tento notebook ukazuje, ako vytvárať sofistikované **pracovné postupy agentov** pomocou Microsoft Agent Framework pre .NET a GitHub modelov. Naučíte sa vytvárať viacstupňové obchodné procesy, kde AI agenti spolupracujú na dosiahnutí komplexných úloh prostredníctvom štruktúrovaných vzorcov orchestrácie.\n",
    "\n",
    "## 🎯 Ciele učenia\n",
    "\n",
    "### 🏗️ **Základy architektúry pracovných postupov**\n",
    "- **Workflow Builder**: Navrhovanie a orchestrácia komplexných viacstupňových AI procesov\n",
    "- **Koordinácia agentov**: Koordinácia viacerých špecializovaných agentov v rámci pracovných postupov\n",
    "- **Integrácia GitHub modelov**: Využitie služby inferencie AI modelov od GitHubu v pracovných postupoch\n",
    "- **Vizualizácia pracovných postupov**: Tvorba a vizualizácia štruktúr pracovných postupov pre lepšie pochopenie\n",
    "\n",
    "### 🔄 **Vzorce orchestrácie procesov**\n",
    "- **Sekvenčné spracovanie**: Prepojenie viacerých úloh agentov v logickom poradí\n",
    "- **Správa stavu**: Udržiavanie kontextu a toku dát medzi fázami pracovného postupu\n",
    "- **Riešenie chýb**: Implementácia odolného zotavenia z chýb a odolnosti pracovného postupu\n",
    "- **Optimalizácia výkonu**: Návrh efektívnych pracovných postupov pre operácie v podnikovej škále\n",
    "\n",
    "### 🏢 **Podnikové aplikácie pracovných postupov**\n",
    "- **Automatizácia obchodných procesov**: Automatizácia komplexných organizačných pracovných postupov\n",
    "- **Pipeline produkcie obsahu**: Redakčné pracovné postupy s fázami kontroly a schvaľovania\n",
    "- **Automatizácia zákazníckeho servisu**: Viacstupňové riešenie zákazníckych dopytov\n",
    "- **Pracovné postupy spracovania dát**: ETL pracovné postupy s AI-poháňanou transformáciou\n",
    "\n",
    "## ⚙️ Predpoklady a nastavenie\n",
    "\n",
    "### 📦 **Požadované NuGet balíčky**\n",
    "\n",
    "Táto ukážka pracovného postupu využíva niekoľko kľúčových .NET balíčkov:\n",
    "\n",
    "```xml\n",
    "<!-- Core AI Framework -->\n",
    "<PackageReference Include=\"Microsoft.Extensions.AI\" Version=\"9.9.0\" />\n",
    "\n",
    "<!-- Agent Framework (Local Development) -->\n",
    "<!-- Microsoft.Agents.AI.dll - Core agent abstractions -->\n",
    "<!-- Microsoft.Agents.AI.OpenAI.dll - OpenAI/GitHub Models integration -->\n",
    "\n",
    "<!-- Configuration and Environment -->\n",
    "<PackageReference Include=\"DotNetEnv\" Version=\"3.1.1\" />\n",
    "```\n",
    "\n",
    "### 🔑 **Konfigurácia GitHub modelov**\n",
    "\n",
    "**Nastavenie prostredia (.env súbor):**\n",
    "```env\n",
    "GITHUB_TOKEN=your_github_personal_access_token\n",
    "GITHUB_ENDPOINT=https://models.inference.ai.azure.com\n",
    "GITHUB_MODEL_ID=gpt-4o-mini\n",
    "```\n",
    "\n",
    "**Prístup k GitHub modelom:**\n",
    "1. Zaregistrujte sa na GitHub Models (momentálne v náhľade)\n",
    "2. Vygenerujte osobný prístupový token s povoleniami na prístup k modelom\n",
    "3. Konfigurujte premenné prostredia, ako je uvedené vyššie\n",
    "\n",
    "### 🏗️ **Prehľad architektúry pracovného postupu**\n",
    "\n",
    "```mermaid\n",
    "graph TD\n",
    "    A[Workflow Builder] --> B[Agent Registry]\n",
    "    B --> C[Workflow Execution Engine]\n",
    "    C --> D[Agent 1: Content Generator]\n",
    "    C --> E[Agent 2: Content Reviewer] \n",
    "    D --> F[Workflow Results]\n",
    "    E --> F\n",
    "    G[GitHub Models API] --> D\n",
    "    G --> E\n",
    "```\n",
    "\n",
    "**Kľúčové komponenty:**\n",
    "- **WorkflowBuilder**: Hlavný orchestrátor na navrhovanie pracovných postupov\n",
    "- **AIAgent**: Individuálni špecializovaní agenti s konkrétnymi schopnosťami\n",
    "- **GitHub Models Client**: Integrácia služby inferencie AI modelov\n",
    "- **Execution Context**: Správa stavu a toku dát medzi fázami pracovného postupu\n",
    "\n",
    "## 🎨 **Vzorce návrhu podnikových pracovných postupov**\n",
    "\n",
    "### 📝 **Pracovný postup produkcie obsahu**\n",
    "```\n",
    "User Request → Content Generation → Quality Review → Final Output\n",
    "```\n",
    "\n",
    "### 🔍 **Pipeline spracovania dokumentov**\n",
    "```\n",
    "Document Input → Analysis → Extraction → Validation → Structured Output\n",
    "```\n",
    "\n",
    "### 💼 **Pracovný postup business intelligence**\n",
    "```\n",
    "Data Collection → Processing → Analysis → Report Generation → Distribution\n",
    "```\n",
    "\n",
    "### 🤝 **Automatizácia zákazníckeho servisu**\n",
    "```\n",
    "Customer Inquiry → Classification → Processing → Response Generation → Follow-up\n",
    "```\n",
    "\n",
    "## 🏢 **Podnikové výhody**\n",
    "\n",
    "### 🎯 **Spoľahlivosť a škálovateľnosť**\n",
    "- **Deterministické vykonávanie**: Konzistentné, opakovateľné výsledky pracovných postupov\n",
    "- **Zotavenie z chýb**: Elegantné riešenie zlyhaní v akejkoľvek fáze pracovného postupu\n",
    "- **Monitorovanie výkonu**: Sledovanie metrík vykonávania a príležitostí na optimalizáciu\n",
    "- **Správa zdrojov**: Efektívne prideľovanie a využívanie zdrojov AI modelov\n",
    "\n",
    "### 🔒 **Bezpečnosť a súlad**\n",
    "- **Bezpečné overovanie**: Overovanie na základe tokenov GitHubu pre prístup k API\n",
    "- **Auditné stopy**: Kompletné logovanie vykonávania pracovných postupov a rozhodovacích bodov\n",
    "- **Riadenie prístupu**: Granulárne povolenia na vykonávanie a monitorovanie pracovných postupov\n",
    "- **Ochrana údajov**: Bezpečné spracovanie citlivých informácií v rámci pracovných postupov\n",
    "\n",
    "### 📊 **Pozorovateľnosť a správa**\n",
    "- **Vizualizácia pracovných postupov**: Jasné zobrazenie tokov procesov a závislostí\n",
    "- **Monitorovanie vykonávania**: Sledovanie pokroku a výkonu pracovných postupov v reálnom čase\n",
    "- **Hlásenie chýb**: Podrobná analýza chýb a možnosti ladenia\n",
    "- **Analýza výkonu**: Metriky na optimalizáciu a plánovanie kapacít\n",
    "\n",
    "Poďme vytvoriť váš prvý podnikový AI pracovný postup! 🚀\n"
   ]
  },
  {
   "cell_type": "code",
   "execution_count": 1,
   "id": "4152a00b",
   "metadata": {
    "language_info": {
     "name": "polyglot-notebook"
    },
    "polyglot_notebook": {
     "kernelName": "csharp"
    }
   },
   "outputs": [
    {
     "data": {
      "text/html": [
       "<div><div></div><div></div><div><strong>Installed Packages</strong><ul><li><span>Microsoft.Extensions.AI, 9.9.1</span></li></ul></div></div>"
      ]
     },
     "metadata": {},
     "output_type": "display_data"
    }
   ],
   "source": [
    "#r \"nuget: Microsoft.Extensions.AI, 9.9.1\""
   ]
  },
  {
   "cell_type": "code",
   "execution_count": 2,
   "id": "b431c4dc",
   "metadata": {
    "language_info": {
     "name": "polyglot-notebook"
    },
    "polyglot_notebook": {
     "kernelName": "csharp"
    }
   },
   "outputs": [
    {
     "data": {
      "text/html": [
       "<div><div></div><div></div><div><strong>Installed Packages</strong><ul><li><span>System.ClientModel, 1.6.1</span></li></ul></div></div>"
      ]
     },
     "metadata": {},
     "output_type": "display_data"
    }
   ],
   "source": [
    "#r \"nuget: System.ClientModel, 1.6.1.0\""
   ]
  },
  {
   "cell_type": "code",
   "execution_count": 3,
   "id": "ba48a4c7",
   "metadata": {
    "language_info": {
     "name": "polyglot-notebook"
    },
    "polyglot_notebook": {
     "kernelName": "csharp"
    }
   },
   "outputs": [
    {
     "data": {
      "text/html": [
       "<div><div></div><div></div><div><strong>Installed Packages</strong><ul><li><span>Azure.Identity, 1.15.0</span></li><li><span>OpenTelemetry.Api, 1.0.1</span></li><li><span>System.Linq.Async, 6.0.3</span></li></ul></div></div>"
      ]
     },
     "metadata": {},
     "output_type": "display_data"
    }
   ],
   "source": [
    "#r \"nuget: Azure.Identity, 1.15.0\"\n",
    "#r \"nuget: System.Linq.Async, 6.0.3\"\n",
    "#r \"nuget: OpenTelemetry.Api, 1.0.0\"\n",
    "#r \"nuget: OpenTelemetry.Api, 1.0.0\""
   ]
  },
  {
   "cell_type": "code",
   "execution_count": 4,
   "metadata": {
    "language_info": {
     "name": "polyglot-notebook"
    },
    "polyglot_notebook": {
     "kernelName": "csharp"
    }
   },
   "outputs": [],
   "source": []
  },
  {
   "cell_type": "code",
   "execution_count": 5,
   "id": "ed55fec8",
   "metadata": {
    "language_info": {
     "name": "polyglot-notebook"
    },
    "polyglot_notebook": {
     "kernelName": "csharp"
    }
   },
   "outputs": [
    {
     "data": {
      "text/html": [
       "<div><div></div><div></div><div><strong>Installed Packages</strong><ul><li><span>Microsoft.Agents.AI.Workflows, 1.0.0-preview.251001.3</span></li></ul></div></div>"
      ]
     },
     "metadata": {},
     "output_type": "display_data"
    }
   ],
   "source": [
    "\n",
    "#r \"nuget: Microsoft.Agents.AI.Workflows, 1.0.0-preview.251001.3\""
   ]
  },
  {
   "cell_type": "code",
   "execution_count": null,
   "id": "afaaa7d4",
   "metadata": {
    "language_info": {
     "name": "polyglot-notebook"
    },
    "polyglot_notebook": {
     "kernelName": "csharp"
    }
   },
   "outputs": [
    {
     "data": {
      "text/html": [
       "<div><div></div><div></div><div><strong>Installed Packages</strong><ul><li><span>Microsoft.Agents.AI.OpenAI, 1.0.0-preview.251001.2</span></li></ul></div></div>"
      ]
     },
     "metadata": {},
     "output_type": "display_data"
    }
   ],
   "source": [
    "\n",
    "#r \"nuget: Microsoft.Agents.AI.OpenAI, 1.0.0-preview.251001.3\""
   ]
  },
  {
   "cell_type": "code",
   "execution_count": 7,
   "id": "a7399950",
   "metadata": {
    "language_info": {
     "name": "polyglot-notebook"
    },
    "polyglot_notebook": {
     "kernelName": "csharp"
    }
   },
   "outputs": [
    {
     "data": {
      "text/html": [
       "<div><div></div><div></div><div><strong>Installed Packages</strong><ul><li><span>DotNetEnv, 3.1.1</span></li></ul></div></div>"
      ]
     },
     "metadata": {},
     "output_type": "display_data"
    }
   ],
   "source": [
    "#r \"nuget: DotNetEnv, 3.1.1\""
   ]
  },
  {
   "cell_type": "code",
   "execution_count": 8,
   "id": "1df9ac4c",
   "metadata": {
    "language_info": {
     "name": "polyglot-notebook"
    },
    "polyglot_notebook": {
     "kernelName": "csharp"
    }
   },
   "outputs": [],
   "source": [
    "// #r \"nuget: Microsoft.Extensions.AI.OpenAI, 9.9.0-preview.1.25458.4\""
   ]
  },
  {
   "cell_type": "code",
   "execution_count": 9,
   "id": "cf6ee6ed",
   "metadata": {
    "language_info": {
     "name": "polyglot-notebook"
    },
    "polyglot_notebook": {
     "kernelName": "csharp"
    }
   },
   "outputs": [],
   "source": [
    "using System;\n",
    "using System.ComponentModel;\n",
    "using System.ClientModel;\n",
    "using OpenAI;\n",
    "using Azure.Identity;\n",
    "using Microsoft.Extensions.AI;\n",
    "using Microsoft.Agents.AI;\n",
    "using Microsoft.Agents.AI.Workflows;"
   ]
  },
  {
   "cell_type": "code",
   "execution_count": 10,
   "id": "b4fc2d1b",
   "metadata": {
    "language_info": {
     "name": "polyglot-notebook"
    },
    "polyglot_notebook": {
     "kernelName": "csharp"
    }
   },
   "outputs": [],
   "source": [
    " using DotNetEnv;"
   ]
  },
  {
   "cell_type": "code",
   "execution_count": 11,
   "id": "0e7f69f7",
   "metadata": {
    "language_info": {
     "name": "polyglot-notebook"
    },
    "polyglot_notebook": {
     "kernelName": "csharp"
    }
   },
   "outputs": [],
   "source": [
    "Env.Load(\"../../../.env\");"
   ]
  },
  {
   "cell_type": "code",
   "execution_count": 12,
   "id": "2b62a30a",
   "metadata": {
    "language_info": {
     "name": "polyglot-notebook"
    },
    "polyglot_notebook": {
     "kernelName": "csharp"
    }
   },
   "outputs": [],
   "source": [
    "\n",
    "var github_endpoint = Environment.GetEnvironmentVariable(\"GITHUB_ENDPOINT\") ?? throw new InvalidOperationException(\"GITHUB_ENDPOINT is not set.\");\n",
    "var github_model_id = Environment.GetEnvironmentVariable(\"GITHUB_MODEL_ID\") ?? \"gpt-4o-mini\";\n",
    "var github_token = Environment.GetEnvironmentVariable(\"GITHUB_TOKEN\") ?? throw new InvalidOperationException(\"GITHUB_TOKEN is not set.\");"
   ]
  },
  {
   "cell_type": "code",
   "execution_count": 13,
   "id": "bb2a8730",
   "metadata": {
    "language_info": {
     "name": "polyglot-notebook"
    },
    "polyglot_notebook": {
     "kernelName": "csharp"
    }
   },
   "outputs": [],
   "source": [
    "var openAIOptions = new OpenAIClientOptions()\n",
    "{\n",
    "    Endpoint = new Uri(github_endpoint)\n",
    "};"
   ]
  },
  {
   "cell_type": "code",
   "execution_count": 14,
   "id": "c08bd38f",
   "metadata": {
    "language_info": {
     "name": "polyglot-notebook"
    },
    "polyglot_notebook": {
     "kernelName": "csharp"
    }
   },
   "outputs": [],
   "source": [
    "var openAIClient = new OpenAIClient(new ApiKeyCredential(github_token), openAIOptions);"
   ]
  },
  {
   "cell_type": "code",
   "execution_count": 15,
   "id": "408e8b23",
   "metadata": {
    "language_info": {
     "name": "polyglot-notebook"
    },
    "polyglot_notebook": {
     "kernelName": "csharp"
    }
   },
   "outputs": [],
   "source": [
    "const string ReviewerAgentName = \"Concierge\";\n",
    "const string ReviewerAgentInstructions = @\"\n",
    "    You are an are hotel concierge who has opinions about providing the most local and authentic experiences for travelers.\n",
    "    The goal is to determine if the front desk travel agent has recommended the best non-touristy experience for a traveler.\n",
    "    If so, state that it is approved.\n",
    "    If not, provide insight on how to refine the recommendation without using a specific example. \";"
   ]
  },
  {
   "cell_type": "code",
   "execution_count": 16,
   "id": "0a1ccf3e",
   "metadata": {
    "language_info": {
     "name": "polyglot-notebook"
    },
    "polyglot_notebook": {
     "kernelName": "csharp"
    }
   },
   "outputs": [],
   "source": [
    "const string FrontDeskAgentName = \"FrontDesk\";\n",
    "const string FrontDeskAgentInstructions = @\"\"\"\n",
    "    You are a Front Desk Travel Agent with ten years of experience and are known for brevity as you deal with many customers.\n",
    "    The goal is to provide the best activities and locations for a traveler to visit.\n",
    "    Only provide a single recommendation per response.\n",
    "    You're laser focused on the goal at hand.\n",
    "    Don't waste time with chit chat.\n",
    "    Consider suggestions when refining an idea.\n",
    "    \"\"\";"
   ]
  },
  {
   "cell_type": "code",
   "execution_count": 17,
   "id": "b9b975c6",
   "metadata": {
    "language_info": {
     "name": "polyglot-notebook"
    },
    "polyglot_notebook": {
     "kernelName": "csharp"
    }
   },
   "outputs": [],
   "source": [
    "AIAgent reviewerAgent = openAIClient.GetChatClient(github_model_id).CreateAIAgent(\n",
    "    name:ReviewerAgentName,instructions:ReviewerAgentInstructions);\n",
    "AIAgent frontDeskAgent  = openAIClient.GetChatClient(github_model_id).CreateAIAgent(\n",
    "    name:FrontDeskAgentName,instructions:FrontDeskAgentInstructions);"
   ]
  },
  {
   "cell_type": "code",
   "execution_count": 18,
   "id": "5edccde0",
   "metadata": {
    "language_info": {
     "name": "polyglot-notebook"
    },
    "polyglot_notebook": {
     "kernelName": "csharp"
    }
   },
   "outputs": [],
   "source": [
    "var workflow = new WorkflowBuilder(frontDeskAgent)\n",
    "            .AddEdge(frontDeskAgent, reviewerAgent)\n",
    "            .Build();"
   ]
  },
  {
   "cell_type": "code",
   "execution_count": 19,
   "id": "1fb93407",
   "metadata": {
    "language_info": {
     "name": "polyglot-notebook"
    },
    "polyglot_notebook": {
     "kernelName": "csharp"
    }
   },
   "outputs": [],
   "source": [
    "ChatMessage userMessage = new ChatMessage(ChatRole.User, [\n",
    "\tnew TextContent(\"I would like to go to Paris.\") \n",
    "]);"
   ]
  },
  {
   "cell_type": "code",
   "execution_count": 20,
   "id": "ec9afabc",
   "metadata": {
    "language_info": {
     "name": "polyglot-notebook"
    },
    "polyglot_notebook": {
     "kernelName": "csharp"
    }
   },
   "outputs": [],
   "source": [
    "StreamingRun run = await InProcessExecution.StreamAsync(workflow, userMessage);"
   ]
  },
  {
   "cell_type": "code",
   "execution_count": 21,
   "id": "6bea90c0",
   "metadata": {
    "language_info": {
     "name": "polyglot-notebook"
    },
    "polyglot_notebook": {
     "kernelName": "csharp"
    }
   },
   "outputs": [
    {
     "name": "stdout",
     "output_type": "stream",
     "text": [
      "Visit the Louvre Museum. It's a must-see for art enthusiasts and history lovers.That recommendation is quite popular and likely to attract many tourists. To refine it for a more local and authentic experience, consider suggesting an alternative that focuses on smaller, lesser-known art venues or galleries. Look for places where local artists exhibit or community spaces that host cultural events. This approach allows travelers to connect with the local art scene more intimately, away from the typical tourist routes.\r\n"
     ]
    }
   ],
   "source": [
    "await run.TrySendMessageAsync(new TurnToken(emitEvents: true));\n",
    "string id=\"\";\n",
    "string messageData=\"\";\n",
    "await foreach (WorkflowEvent evt in run.WatchStreamAsync().ConfigureAwait(false))\n",
    "{\n",
    "    if (evt is AgentRunUpdateEvent executorComplete)\n",
    "    {\n",
    "        if(id==\"\")\n",
    "        {\n",
    "            id=executorComplete.ExecutorId;\n",
    "        }\n",
    "        if(id==executorComplete.ExecutorId)\n",
    "        {\n",
    "            messageData+=executorComplete.Data.ToString();\n",
    "        }\n",
    "        else\n",
    "        {\n",
    "            id=executorComplete.ExecutorId;\n",
    "        }\n",
    "        // Console.WriteLine($\"{executorComplete.ExecutorId}: {executorComplete.Data}\");\n",
    "    }\n",
    "}\n",
    "\n",
    "Console.WriteLine(messageData);"
   ]
  },
  {
   "cell_type": "markdown",
   "metadata": {},
   "source": [
    "\n---\n\n**Upozornenie**:  \nTento dokument bol preložený pomocou služby AI prekladu [Co-op Translator](https://github.com/Azure/co-op-translator). Aj keď sa snažíme o presnosť, upozorňujeme, že automatizované preklady môžu obsahovať chyby alebo nepresnosti. Pôvodný dokument v jeho pôvodnom jazyku by mal byť považovaný za autoritatívny zdroj. Pre kritické informácie sa odporúča profesionálny ľudský preklad. Nezodpovedáme za akékoľvek nedorozumenia alebo nesprávne interpretácie vyplývajúce z použitia tohto prekladu.\n"
   ]
  }
 ],
 "metadata": {
  "kernelspec": {
   "display_name": ".NET (C#)",
   "language": "C#",
   "name": ".net-csharp"
  },
  "language_info": {
   "name": "polyglot-notebook"
  },
  "polyglot_notebook": {
   "kernelInfo": {
    "defaultKernelName": "csharp",
    "items": [
     {
      "aliases": [],
      "name": "csharp"
     }
    ]
   }
  },
  "coopTranslator": {
   "original_hash": "0014f87b9c2a0eddf09e8de1bfd31b20",
   "translation_date": "2025-10-02T08:24:36+00:00",
   "source_file": "08-multi-agent/code_samples/workflows-agent-framework/dotNET/01.dotnet-agent-framework-workflow-ghmodel-basic.ipynb",
   "language_code": "sk"
  }
 },
 "nbformat": 4,
 "nbformat_minor": 5
}