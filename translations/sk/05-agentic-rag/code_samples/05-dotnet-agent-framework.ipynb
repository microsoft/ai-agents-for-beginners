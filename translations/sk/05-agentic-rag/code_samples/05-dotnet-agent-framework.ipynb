{
 "cells": [
  {
   "cell_type": "markdown",
   "id": "44b5899e",
   "metadata": {},
   "source": [
    "# 🔍 Enterprise RAG s Azure AI Foundry (.NET)\n",
    "\n",
    "## 📋 Ciele učenia\n",
    "\n",
    "Tento notebook ukazuje, ako vytvoriť systémy Retrieval-Augmented Generation (RAG) na podnikovej úrovni pomocou Microsoft Agent Framework v .NET s Azure AI Foundry. Naučíte sa vytvárať produkčne pripravených agentov, ktorí dokážu vyhľadávať v dokumentoch a poskytovať presné, kontextovo relevantné odpovede s podnikovou bezpečnosťou a škálovateľnosťou.\n",
    "\n",
    "**Funkcie Enterprise RAG, ktoré vytvoríte:**\n",
    "- 📚 **Inteligencia dokumentov**: Pokročilé spracovanie dokumentov pomocou služieb Azure AI\n",
    "- 🔍 **Semantické vyhľadávanie**: Vysoko výkonné vektorové vyhľadávanie s podnikovými funkciami\n",
    "- 🛡️ **Integrácia bezpečnosti**: Riadenie prístupu na základe rolí a vzory ochrany údajov\n",
    "- 🏢 **Škálovateľná architektúra**: Produkčne pripravené RAG systémy s monitorovaním\n",
    "\n",
    "## 🎯 Architektúra Enterprise RAG\n",
    "\n",
    "### Kľúčové podnikové komponenty\n",
    "- **Azure AI Foundry**: Spravovaná podniková AI platforma s bezpečnosťou a súladom\n",
    "- **Persistentní agenti**: Stavoví agenti s históriou konverzácií a správou kontextu\n",
    "- **Správa vektorového úložiska**: Podnikové indexovanie a vyhľadávanie dokumentov\n",
    "- **Integrácia identity**: Autentifikácia Azure AD a riadenie prístupu na základe rolí\n",
    "\n",
    "### Výhody .NET pre podniky\n",
    "- **Typová bezpečnosť**: Validácia operácií RAG a dátových štruktúr počas kompilácie\n",
    "- **Asynchrónny výkon**: Nezablokované spracovanie dokumentov a vyhľadávacie operácie\n",
    "- **Správa pamäte**: Efektívne využívanie zdrojov pre veľké kolekcie dokumentov\n",
    "- **Vzory integrácie**: Natívna integrácia služieb Azure s injekciou závislostí\n",
    "\n",
    "## 🏗️ Technická architektúra\n",
    "\n",
    "### Pipeline Enterprise RAG\n",
    "```csharp\n",
    "Document Upload → Security Validation → Vector Processing → Index Creation\n",
    "                      ↓                    ↓                  ↓\n",
    "User Query → Authentication → Semantic Search → Context Ranking → AI Response\n",
    "```\n",
    "\n",
    "### Kľúčové komponenty .NET\n",
    "- **Azure.AI.Agents.Persistent**: Správa podnikových agentov s perzistenciou stavu\n",
    "- **Azure.Identity**: Integrovaná autentifikácia pre bezpečný prístup k službám Azure\n",
    "- **Microsoft.Agents.AI.AzureAI**: Implementácia optimalizovaného agentového rámca pre Azure\n",
    "- **System.Linq.Async**: Vysoko výkonné asynchrónne operácie LINQ\n",
    "\n",
    "## 🔧 Funkcie a výhody pre podniky\n",
    "\n",
    "### Bezpečnosť a súlad\n",
    "- **Integrácia Azure AD**: Správa podnikovej identity a autentifikácie\n",
    "- **Riadenie prístupu na základe rolí**: Jemne zrnité povolenia pre prístup k dokumentom a operáciám\n",
    "- **Ochrana údajov**: Šifrovanie v pokoji a počas prenosu pre citlivé dokumenty\n",
    "- **Auditné logovanie**: Komplexné sledovanie aktivít pre požiadavky na súlad\n",
    "\n",
    "### Výkon a škálovateľnosť\n",
    "- **Pooling pripojení**: Efektívna správa pripojení k službám Azure\n",
    "- **Asynchrónne spracovanie**: Nezablokované operácie pre scenáre s vysokou priepustnosťou\n",
    "- **Stratégie cache**: Inteligentné cache pre často prístupné dokumenty\n",
    "- **Vyvažovanie záťaže**: Distribuované spracovanie pre veľké nasadenia\n",
    "\n",
    "### Správa a monitorovanie\n",
    "- **Kontroly zdravia**: Zabudované monitorovanie komponentov systému RAG\n",
    "- **Výkonnostné metriky**: Podrobné analýzy kvality vyhľadávania a časov odozvy\n",
    "- **Správa chýb**: Komplexné riadenie výnimiek s politikami opakovania\n",
    "- **Správa konfigurácie**: Nastavenia špecifické pre prostredie s validáciou\n",
    "\n",
    "## ⚙️ Predpoklady a nastavenie\n",
    "\n",
    "**Vývojové prostredie:**\n",
    "- .NET 9.0 SDK alebo vyšší\n",
    "- Visual Studio 2022 alebo VS Code s rozšírením C#\n",
    "- Predplatné Azure s prístupom k AI Foundry\n",
    "\n",
    "**Požadované balíky NuGet:**\n",
    "```xml\n",
    "<PackageReference Include=\"Microsoft.Extensions.AI\" Version=\"9.9.0\" />\n",
    "<PackageReference Include=\"Azure.AI.Agents.Persistent\" Version=\"1.2.0-beta.5\" />\n",
    "<PackageReference Include=\"Azure.Identity\" Version=\"1.15.0\" />\n",
    "<PackageReference Include=\"System.Linq.Async\" Version=\"6.0.3\" />\n",
    "<PackageReference Include=\"DotNetEnv\" Version=\"3.1.1\" />\n",
    "```\n",
    "\n",
    "**Nastavenie autentifikácie Azure:**\n",
    "```bash\n",
    "# Install Azure CLI and authenticate\n",
    "az login\n",
    "az account set --subscription \"your-subscription-id\"\n",
    "```\n",
    "\n",
    "**Konfigurácia prostredia (.env súbor):**\n",
    "```env\n",
    "# Azure AI Foundry configuration (automatically handled via Azure CLI)\n",
    "# Ensure you're authenticated to the correct Azure subscription\n",
    "```\n",
    "\n",
    "## 📊 Vzory Enterprise RAG\n",
    "\n",
    "### Vzory správy dokumentov\n",
    "- **Hromadné nahrávanie**: Efektívne spracovanie veľkých kolekcií dokumentov\n",
    "- **Postupné aktualizácie**: Pridávanie a úprava dokumentov v reálnom čase\n",
    "- **Riadenie verzií**: Verziovanie dokumentov a sledovanie zmien\n",
    "- **Správa metadát**: Bohaté atribúty dokumentov a taxonómia\n",
    "\n",
    "### Vzory vyhľadávania a získavania\n",
    "- **Hybridné vyhľadávanie**: Kombinácia semantického a kľúčového vyhľadávania pre optimálne výsledky\n",
    "- **Fasetové vyhľadávanie**: Viacrozmerné filtrovanie a kategorizácia\n",
    "- **Ladenie relevantnosti**: Vlastné algoritmy skórovania pre špecifické potreby domény\n",
    "- **Hodnotenie výsledkov**: Pokročilé hodnotenie s integráciou obchodnej logiky\n",
    "\n",
    "### Vzory bezpečnosti\n",
    "- **Bezpečnosť na úrovni dokumentov**: Jemne zrnitá kontrola prístupu na úrovni dokumentov\n",
    "- **Klasifikácia údajov**: Automatické označovanie citlivosti a ochrana\n",
    "- **Auditné stopy**: Komplexné logovanie všetkých operácií RAG\n",
    "- **Ochrana súkromia**: Detekcia a redakcia PII\n",
    "\n",
    "## 🔒 Funkcie bezpečnosti pre podniky\n",
    "\n",
    "### Autentifikácia a autorizácia\n",
    "```csharp\n",
    "// Azure AD integrated authentication\n",
    "var credential = new AzureCliCredential();\n",
    "var agentsClient = new PersistentAgentsClient(endpoint, credential);\n",
    "\n",
    "// Role-based access validation\n",
    "if (!await ValidateUserPermissions(user, documentId))\n",
    "{\n",
    "    throw new UnauthorizedAccessException(\"Insufficient permissions\");\n",
    "}\n",
    "```\n",
    "\n",
    "### Ochrana údajov\n",
    "- **Šifrovanie**: End-to-end šifrovanie pre dokumenty a vyhľadávacie indexy\n",
    "- **Kontroly prístupu**: Integrácia s Azure AD pre povolenia používateľov a skupín\n",
    "- **Rezidencia údajov**: Geografické kontroly umiestnenia údajov pre súlad\n",
    "- **Zálohovanie a obnova**: Automatizované zálohovanie a postupy obnovy po havárii\n",
    "\n",
    "## 📈 Optimalizácia výkonu\n",
    "\n",
    "### Vzory asynchrónneho spracovania\n",
    "```csharp\n",
    "// Efficient async document processing\n",
    "await foreach (var document in documentStream.AsAsyncEnumerable())\n",
    "{\n",
    "    await ProcessDocumentAsync(document, cancellationToken);\n",
    "}\n",
    "```\n",
    "\n",
    "### Správa pamäte\n",
    "- **Streamové spracovanie**: Spracovanie veľkých dokumentov bez problémov s pamäťou\n",
    "- **Pooling zdrojov**: Efektívne opätovné použitie nákladných zdrojov\n",
    "- **Zber odpadu**: Optimalizované vzory alokácie pamäte\n",
    "- **Správa pripojení**: Správny životný cyklus pripojení k službám Azure\n",
    "\n",
    "### Stratégie cache\n",
    "- **Cache dotazov**: Cache často vykonávaných vyhľadávaní\n",
    "- **Cache dokumentov**: Cache v pamäti pre často používané dokumenty\n",
    "- **Cache indexov**: Optimalizovaná cache vektorových indexov\n",
    "- **Cache výsledkov**: Inteligentná cache generovaných odpovedí\n",
    "\n",
    "## 📊 Podnikové prípady použitia\n",
    "\n",
    "### Správa znalostí\n",
    "- **Firemná wiki**: Inteligentné vyhľadávanie v znalostných databázach spoločnosti\n",
    "- **Politiky a postupy**: Automatizované usmernenia pre súlad a postupy\n",
    "- **Školiace materiály**: Inteligentná pomoc pri vzdelávaní a rozvoji\n",
    "- **Výskumné databázy**: Systémy analýzy akademických a výskumných prác\n",
    "\n",
    "### Zákaznícka podpora\n",
    "- **Znalostná báza podpory**: Automatizované odpovede zákazníckej podpory\n",
    "- **Dokumentácia produktov**: Inteligentné vyhľadávanie informácií o produktoch\n",
    "- **Príručky na riešenie problémov**: Kontextová pomoc pri riešení problémov\n",
    "- **Systémy FAQ**: Dynamické generovanie FAQ z kolekcií dokumentov\n",
    "\n",
    "### Regulačný súlad\n",
    "- **Analýza právnych dokumentov**: Inteligencia zmlúv a právnych dokumentov\n",
    "- **Monitorovanie súladu**: Automatizované kontroly regulačného súladu\n",
    "- **Hodnotenie rizík**: Analýza rizík na základe dokumentov a reportovanie\n",
    "- **Podpora auditu**: Inteligentné vyhľadávanie dokumentov pre audity\n",
    "\n",
    "## 🚀 Produkčné nasadenie\n",
    "\n",
    "### Monitorovanie a pozorovateľnosť\n",
    "- **Application Insights**: Podrobné telemetrie a monitorovanie výkonu\n",
    "- **Vlastné metriky**: Sledovanie a upozorňovanie na špecifické KPI\n",
    "- **Distribuované sledovanie**: Sledovanie požiadaviek od začiatku do konca medzi službami\n",
    "- **Dashboardy zdravia**: Vizualizácia zdravia systému a výkonu v reálnom čase\n",
    "\n",
    "### Škálovateľnosť a spoľahlivosť\n",
    "- **Automatické škálovanie**: Automatické škálovanie na základe záťaže a výkonnostných metrík\n",
    "- **Vysoká dostupnosť**: Nasadenie vo viacerých regiónoch s možnosťou preklopenia\n",
    "- **Testovanie záťaže**: Validácia výkonu pri podnikovej záťaži\n",
    "- **Obnova po havárii**: Automatizované postupy zálohovania a obnovy\n",
    "\n",
    "Pripravení vytvoriť systémy RAG na podnikovej úrovni, ktoré zvládnu citlivé dokumenty vo veľkom rozsahu? Poďme navrhnúť inteligentné systémy znalostí pre podniky! 🏢📖✨\n"
   ]
  },
  {
   "cell_type": "code",
   "execution_count": 1,
   "metadata": {
    "language_info": {
     "name": "polyglot-notebook"
    },
    "polyglot_notebook": {
     "kernelName": "csharp"
    }
   },
   "outputs": [
    {
     "data": {
      "text/html": [
       "<div><div></div><div></div><div><strong>Installed Packages</strong><ul><li><span>Microsoft.Extensions.AI, 9.9.1</span></li></ul></div></div>"
      ]
     },
     "metadata": {},
     "output_type": "display_data"
    }
   ],
   "source": [
    "#r \"nuget: Microsoft.Extensions.AI, 9.9.1\""
   ]
  },
  {
   "cell_type": "code",
   "execution_count": 2,
   "id": "4ec1f0d1",
   "metadata": {
    "language_info": {
     "name": "polyglot-notebook"
    },
    "polyglot_notebook": {
     "kernelName": "csharp"
    }
   },
   "outputs": [
    {
     "data": {
      "text/html": [
       "<div><div></div><div></div><div><strong>Installed Packages</strong><ul><li><span>Azure.AI.Agents.Persistent, 1.2.0-beta.5</span></li><li><span>Azure.Identity, 1.15.0</span></li><li><span>System.Linq.Async, 6.0.3</span></li></ul></div></div>"
      ]
     },
     "metadata": {},
     "output_type": "display_data"
    }
   ],
   "source": [
    "#r \"nuget: Azure.AI.Agents.Persistent, 1.2.0-beta.5\"\n",
    "#r \"nuget: Azure.Identity, 1.15.0\"\n",
    "#r \"nuget: System.Linq.Async, 6.0.3\""
   ]
  },
  {
   "cell_type": "code",
   "execution_count": 3,
   "id": "2363ae07",
   "metadata": {
    "language_info": {
     "name": "polyglot-notebook"
    },
    "polyglot_notebook": {
     "kernelName": "csharp"
    }
   },
   "outputs": [],
   "source": []
  },
  {
   "cell_type": "code",
   "execution_count": null,
   "id": "d10cec9d",
   "metadata": {
    "language_info": {
     "name": "polyglot-notebook"
    },
    "polyglot_notebook": {
     "kernelName": "csharp"
    }
   },
   "outputs": [
    {
     "data": {
      "text/html": [
       "<div><div></div><div></div><div><strong>Installed Packages</strong><ul><li><span>Microsoft.Agents.AI.AzureAI, 1.0.0-preview.251001.2</span></li></ul></div></div>"
      ]
     },
     "metadata": {},
     "output_type": "display_data"
    }
   ],
   "source": [
    "#r \"nuget: Microsoft.Agents.AI.AzureAI, 1.0.0-preview.251001.3\""
   ]
  },
  {
   "cell_type": "code",
   "execution_count": null,
   "id": "78199d1c",
   "metadata": {
    "language_info": {
     "name": "polyglot-notebook"
    },
    "polyglot_notebook": {
     "kernelName": "csharp"
    }
   },
   "outputs": [
    {
     "data": {
      "text/html": [
       "<div><div></div><div></div><div><strong>Installed Packages</strong><ul><li><span>microsoft.agents.ai, 1.0.0-preview.251001.2</span></li></ul></div></div>"
      ]
     },
     "metadata": {},
     "output_type": "display_data"
    }
   ],
   "source": [
    "#r \"nuget: Microsoft.Agents.AI, 1.0.0-preview.251001.3\""
   ]
  },
  {
   "cell_type": "code",
   "execution_count": 6,
   "id": "7de4684a",
   "metadata": {
    "language_info": {
     "name": "polyglot-notebook"
    },
    "polyglot_notebook": {
     "kernelName": "csharp"
    }
   },
   "outputs": [
    {
     "data": {
      "text/html": [
       "<div><div></div><div></div><div><strong>Installed Packages</strong><ul><li><span>DotNetEnv, 3.1.1</span></li></ul></div></div>"
      ]
     },
     "metadata": {},
     "output_type": "display_data"
    }
   ],
   "source": [
    "#r \"nuget: DotNetEnv, 3.1.1\""
   ]
  },
  {
   "cell_type": "code",
   "execution_count": 7,
   "id": "251efd31",
   "metadata": {
    "language_info": {
     "name": "polyglot-notebook"
    },
    "polyglot_notebook": {
     "kernelName": "csharp"
    }
   },
   "outputs": [],
   "source": [
    "using System;\n",
    "using System.Linq;\n",
    "using Azure.AI.Agents.Persistent;\n",
    "using Azure.Identity;\n",
    "using Microsoft.Agents.AI;"
   ]
  },
  {
   "cell_type": "code",
   "execution_count": 8,
   "id": "a2e342f1",
   "metadata": {
    "language_info": {
     "name": "polyglot-notebook"
    },
    "polyglot_notebook": {
     "kernelName": "csharp"
    }
   },
   "outputs": [],
   "source": [
    " using DotNetEnv;"
   ]
  },
  {
   "cell_type": "code",
   "execution_count": 9,
   "id": "a7a01653",
   "metadata": {
    "language_info": {
     "name": "polyglot-notebook"
    },
    "polyglot_notebook": {
     "kernelName": "csharp"
    }
   },
   "outputs": [],
   "source": [
    "Env.Load(\"../../../.env\");"
   ]
  },
  {
   "cell_type": "code",
   "execution_count": 10,
   "id": "a42735d5",
   "metadata": {
    "language_info": {
     "name": "polyglot-notebook"
    },
    "polyglot_notebook": {
     "kernelName": "csharp"
    }
   },
   "outputs": [],
   "source": [
    "var azure_foundry_endpoint = Environment.GetEnvironmentVariable(\"AZURE_AI_PROJECT_ENDPOINT\") ?? throw new InvalidOperationException(\"AZURE_AI_PROJECT_ENDPOINT is not set.\");\n",
    "var azure_foundry_model_id = Environment.GetEnvironmentVariable(\"AZURE_AI_MODEL_DEPLOYMENT_NAME\") ?? \"gpt-4.1-mini\";"
   ]
  },
  {
   "cell_type": "code",
   "execution_count": 11,
   "id": "e29bdb58",
   "metadata": {
    "language_info": {
     "name": "polyglot-notebook"
    },
    "polyglot_notebook": {
     "kernelName": "csharp"
    }
   },
   "outputs": [],
   "source": [
    "string pdfPath = \"./document.md\";"
   ]
  },
  {
   "cell_type": "code",
   "execution_count": 12,
   "id": "7351e12d",
   "metadata": {
    "language_info": {
     "name": "polyglot-notebook"
    },
    "polyglot_notebook": {
     "kernelName": "csharp"
    }
   },
   "outputs": [],
   "source": [
    "using System.IO;\n",
    "\n",
    "async Task<Stream> OpenImageStreamAsync(string path)\n",
    "{\n",
    "\treturn await Task.Run(() => File.OpenRead(path));\n",
    "}\n",
    "\n",
    "var pdfStream = await OpenImageStreamAsync(pdfPath);"
   ]
  },
  {
   "cell_type": "code",
   "execution_count": 13,
   "id": "0b6bf484",
   "metadata": {
    "language_info": {
     "name": "polyglot-notebook"
    },
    "polyglot_notebook": {
     "kernelName": "csharp"
    }
   },
   "outputs": [],
   "source": [
    "var persistentAgentsClient = new PersistentAgentsClient(azure_foundry_endpoint, new AzureCliCredential());"
   ]
  },
  {
   "cell_type": "code",
   "execution_count": 14,
   "id": "81e0dddc",
   "metadata": {
    "language_info": {
     "name": "polyglot-notebook"
    },
    "polyglot_notebook": {
     "kernelName": "csharp"
    }
   },
   "outputs": [],
   "source": [
    "PersistentAgentFileInfo fileInfo = await persistentAgentsClient.Files.UploadFileAsync(pdfStream, PersistentAgentFilePurpose.Agents, \"demo.md\");"
   ]
  },
  {
   "cell_type": "code",
   "execution_count": 15,
   "id": "f0c75d80",
   "metadata": {
    "language_info": {
     "name": "polyglot-notebook"
    },
    "polyglot_notebook": {
     "kernelName": "csharp"
    }
   },
   "outputs": [],
   "source": [
    "PersistentAgentsVectorStore fileStore =\n",
    "            await persistentAgentsClient.VectorStores.CreateVectorStoreAsync(\n",
    "                [fileInfo.Id],\n",
    "                metadata: new Dictionary<string, string>() { { \"agentkey\", bool.TrueString } });"
   ]
  },
  {
   "cell_type": "code",
   "execution_count": 16,
   "id": "c77986c5",
   "metadata": {
    "language_info": {
     "name": "polyglot-notebook"
    },
    "polyglot_notebook": {
     "kernelName": "csharp"
    }
   },
   "outputs": [],
   "source": [
    "PersistentAgent agentModel = await persistentAgentsClient.Administration.CreateAgentAsync(\n",
    "            azure_foundry_model_id,\n",
    "            name: \"DotNetRAGAgent\",\n",
    "            tools: [new FileSearchToolDefinition()],\n",
    "            instructions: \"\"\"\n",
    "                You are an AI assistant designed to answer user questions using only the information retrieved from the provided document(s).\n",
    "\n",
    "                - If a user's question cannot be answered using the retrieved context, **you must clearly respond**: \n",
    "                \"I'm sorry, but the uploaded document does not contain the necessary information to answer that question.\"\n",
    "                - Do not answer from general knowledge or reasoning. Do not make assumptions or generate hypothetical explanations.\n",
    "                - Do not provide definitions, tutorials, or commentary that is not explicitly grounded in the content of the uploaded file(s).\n",
    "                - If a user asks a question like \"What is a Neural Network?\", and this is not discussed in the uploaded document, respond as instructed above.\n",
    "                - For questions that do have relevant content in the document (e.g., Contoso's travel insurance coverage), respond accurately, and cite the document explicitly.\n",
    "\n",
    "                You must behave as if you have no external knowledge beyond what is retrieved from the uploaded document.\n",
    "                \"\"\",\n",
    "            toolResources: new()\n",
    "            {\n",
    "                FileSearch = new()\n",
    "                {\n",
    "                    VectorStoreIds = { fileStore.Id },\n",
    "                }\n",
    "            },\n",
    "            metadata: new Dictionary<string, string>() { { \"agentkey\", bool.TrueString } });"
   ]
  },
  {
   "cell_type": "code",
   "execution_count": 17,
   "id": "282326cf",
   "metadata": {
    "language_info": {
     "name": "polyglot-notebook"
    },
    "polyglot_notebook": {
     "kernelName": "csharp"
    }
   },
   "outputs": [],
   "source": [
    "AIAgent agent = await persistentAgentsClient.GetAIAgentAsync(agentModel.Id);"
   ]
  },
  {
   "cell_type": "code",
   "execution_count": 18,
   "id": "2067d313",
   "metadata": {
    "language_info": {
     "name": "polyglot-notebook"
    },
    "polyglot_notebook": {
     "kernelName": "csharp"
    }
   },
   "outputs": [],
   "source": [
    "AgentThread thread = agent.GetNewThread();"
   ]
  },
  {
   "cell_type": "code",
   "execution_count": 19,
   "id": "454c4230",
   "metadata": {
    "language_info": {
     "name": "polyglot-notebook"
    },
    "polyglot_notebook": {
     "kernelName": "csharp"
    }
   },
   "outputs": [
    {
     "name": "stdout",
     "output_type": "stream",
     "text": [
      "Contoso's travel insurance coverage includes protection for medical emergencies, trip cancellations, and lost baggage. This ensures that travelers are supported in case of health-related issues during their trip, unforeseen cancellations, and the loss of their belongings while traveling【4:0†demo.md】.\r\n"
     ]
    }
   ],
   "source": [
    "Console.WriteLine(await agent.RunAsync(\"Can you explain Contoso's travel insurance coverage?\", thread));"
   ]
  },
  {
   "cell_type": "markdown",
   "metadata": {},
   "source": [
    "\n---\n\n**Upozornenie**:  \nTento dokument bol preložený pomocou služby AI prekladu [Co-op Translator](https://github.com/Azure/co-op-translator). Aj keď sa snažíme o presnosť, upozorňujeme, že automatické preklady môžu obsahovať chyby alebo nepresnosti. Pôvodný dokument v jeho pôvodnom jazyku by mal byť považovaný za autoritatívny zdroj. Pre kritické informácie sa odporúča profesionálny ľudský preklad. Nezodpovedáme za žiadne nedorozumenia alebo nesprávne interpretácie vyplývajúce z použitia tohto prekladu.\n"
   ]
  }
 ],
 "metadata": {
  "kernelspec": {
   "display_name": ".NET (C#)",
   "language": "C#",
   "name": ".net-csharp"
  },
  "language_info": {
   "name": "polyglot-notebook"
  },
  "polyglot_notebook": {
   "kernelInfo": {
    "defaultKernelName": "csharp",
    "items": [
     {
      "aliases": [],
      "name": "csharp"
     }
    ]
   }
  },
  "coopTranslator": {
   "original_hash": "e4584fa31638009dc6fb665275de8fc2",
   "translation_date": "2025-10-02T08:14:41+00:00",
   "source_file": "05-agentic-rag/code_samples/05-dotnet-agent-framework.ipynb",
   "language_code": "sk"
  }
 },
 "nbformat": 4,
 "nbformat_minor": 5
}