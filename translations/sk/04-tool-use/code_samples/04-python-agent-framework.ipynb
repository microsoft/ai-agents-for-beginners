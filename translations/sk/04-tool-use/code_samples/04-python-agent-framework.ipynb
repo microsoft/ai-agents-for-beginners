{
 "cells": [
  {
   "cell_type": "markdown",
   "id": "8744544f",
   "metadata": {},
   "source": [
    "# 🛠️ Pokročilé používanie nástrojov s modelmi GitHub (Python)\n",
    "\n",
    "## 📋 Ciele učenia\n",
    "\n",
    "Tento notebook demonštruje pokročilé vzory integrácie nástrojov pomocou Microsoft Agent Framework s modelmi GitHub. Naučíte sa, ako vytvárať, spravovať a orchestrálne kombinovať viaceré nástroje na budovanie sofistikovaných schopností agentov.\n",
    "\n",
    "**Čo zvládnete:**\n",
    "- 🔧 **Architektúra viacerých nástrojov**: Budovanie agentov s viacerými špecializovanými nástrojmi\n",
    "- 🎯 **Logika výberu nástrojov**: Ako agenti vyberajú správny nástroj pre každú úlohu\n",
    "- 📊 **Nástroje na spracovanie dát**: Tvorba nástrojov na prácu s rôznymi typmi dát\n",
    "- 🔗 **Kombinácia nástrojov**: Spájanie nástrojov pre komplexné pracovné postupy\n",
    "\n",
    "## 🎯 Kľúčové vzory nástrojov\n",
    "\n",
    "### Zásady návrhu nástrojov\n",
    "- **Jednoduchá zodpovednosť**: Každý nástroj má jasný, zameraný účel\n",
    "- **Typová bezpečnosť**: Silné typovanie pre spoľahlivé vykonávanie nástrojov\n",
    "- **Spracovanie chýb**: Elegantné zlyhanie a vzory obnovy\n",
    "- **Komponovateľnosť**: Nástroje, ktoré dobre spolupracujú\n",
    "\n",
    "### Pokročilé funkcie nástrojov\n",
    "- **Povedomie o kontexte**: Nástroje, ktoré rozumejú kontextu konverzácie\n",
    "- **Validácia dát**: Sanitácia vstupov a validácia výstupov\n",
    "- **Optimalizácia výkonu**: Efektívne vzory vykonávania nástrojov\n",
    "- **Rozšíriteľnosť**: Jednoduché pridávanie nových schopností nástrojov\n",
    "\n",
    "## 🔧 Technická architektúra\n",
    "\n",
    "### Základné komponenty\n",
    "- **Microsoft Agent Framework**: Implementácia v Pythone s podporou pokročilých nástrojov\n",
    "- **Integrácia modelov GitHub**: Prístup k vysokovýkonným jazykovým modelom\n",
    "- **Systém registrácie nástrojov**: Organizované spravovanie schopností agentov\n",
    "- **Vzory obnovy chýb**: Robustné spracovanie zlyhaní pri vykonávaní nástrojov\n",
    "\n",
    "### Tok integrácie nástrojov\n",
    "```python\n",
    "User Request → Agent Analysis → Tool Selection → Tool Execution → Response Synthesis\n",
    "```\n",
    "\n",
    "## 🛠️ Demonštrované kategórie nástrojov\n",
    "\n",
    "### 1. **Nástroje na generovanie dát**\n",
    "- Generátor náhodných destinácií\n",
    "- Poskytovateľ informácií o počasí  \n",
    "- Kalkulačka cestovných nákladov\n",
    "- Motor na odporúčanie aktivít\n",
    "\n",
    "### 2. **Nástroje na spracovanie**\n",
    "- Formátovanie a validácia textu\n",
    "- Nástroje na transformáciu dát\n",
    "- Funkcie na analýzu obsahu\n",
    "- Nástroje na zlepšenie odpovedí\n",
    "\n",
    "### 3. **Nástroje na integráciu**\n",
    "- Konektory externých API\n",
    "- Operácie so súborovým systémom\n",
    "- Rozhrania na dotazovanie databáz\n",
    "- Nástroje na web scraping\n",
    "\n",
    "## ⚙️ Predpoklady a nastavenie\n",
    "\n",
    "**Požadované závislosti:**\n",
    "```bash\n",
    "\n",
    "pip install agent-framework-core -U\n",
    "```\n",
    "\n",
    "**Konfigurácia prostredia (.env súbor):**\n",
    "```env\n",
    "GITHUB_TOKEN=your_github_personal_access_token\n",
    "GITHUB_ENDPOINT=https://models.inference.ai.azure.com\n",
    "GITHUB_MODEL_ID=gpt-4o-mini\n",
    "```\n",
    "\n",
    "**Voliteľné API:**\n",
    "- API kľúč služby počasia (pre nástroje na počasie)\n",
    "- Prístup k API na konverziu mien\n",
    "- Kredity na služby cestovných informácií\n",
    "\n",
    "## 🎨 Návrhové vzory\n",
    "\n",
    "### Vzor továrne na nástroje\n",
    "- Centralizovaná tvorba a konfigurácia nástrojov\n",
    "- Konzistentný návrh rozhrania nástrojov\n",
    "- Jednoduchá registrácia a objavovanie nástrojov\n",
    "\n",
    "### Vzor príkazu\n",
    "- Zapuzdrená logika vykonávania nástrojov\n",
    "- Funkcionalita undo/redo pre komplexné operácie\n",
    "- Auditovanie používania nástrojov\n",
    "\n",
    "### Vzor pozorovateľa\n",
    "- Monitorovanie vykonávania nástrojov\n",
    "- Zber metrik výkonu\n",
    "- Hlásenie chýb a upozornenia\n",
    "\n",
    "## 🚀 Najlepšie postupy\n",
    "\n",
    "- **Dokumentácia nástrojov**: Jasné popisy pre pochopenie agentom\n",
    "- **Validácia vstupov**: Robustná kontrola a sanitácia parametrov\n",
    "- **Formátovanie výstupov**: Konzistentné, parsovateľné odpovede nástrojov\n",
    "- **Chybové správy**: Užitočné informácie o chybách na ladenie\n",
    "- **Výkon**: Optimalizované vykonávanie nástrojov pre rýchlu odozvu\n",
    "\n",
    "Pripravení vytvárať agentov s výkonnými schopnosťami nástrojov? Poďme vytvoriť niečo úžasné! ⚡\n"
   ]
  },
  {
   "cell_type": "code",
   "execution_count": null,
   "id": "59c0feeb",
   "metadata": {},
   "outputs": [],
   "source": [
    "! pip install agent-framework-core -U"
   ]
  },
  {
   "cell_type": "code",
   "execution_count": null,
   "id": "c0df8a52",
   "metadata": {},
   "outputs": [],
   "source": [
    "# � Import core dependencies for Agent Framework and tool integration\n",
    "# This sets up the essential libraries for building intelligent agents with tool capabilities\n",
    "\n",
    "import asyncio\n",
    "import os\n",
    "import json\n",
    "\n",
    "from dotenv import load_dotenv  # For loading environment variables securely\n",
    "from random import randint\n",
    "\n",
    "# These are the core components for building tool-enabled agents\n",
    "from agent_framework import ChatAgent           # Main agent class\n",
    "from agent_framework.openai import OpenAIChatClient  # OpenAI-compatible client"
   ]
  },
  {
   "cell_type": "code",
   "execution_count": null,
   "id": "24c10eb0",
   "metadata": {},
   "outputs": [],
   "source": [
    "load_dotenv()"
   ]
  },
  {
   "cell_type": "code",
   "execution_count": null,
   "id": "151e0314",
   "metadata": {},
   "outputs": [],
   "source": [
    "# 🔑 Environment variables verification\n",
    "# Ensure all required GitHub Models credentials are properly configured\n",
    "print(\"GITHUB_ENDPOINT:\", os.environ.get(\"GITHUB_ENDPOINT\"))\n",
    "print(\"GITHUB_TOKEN:\", \"***\" if os.environ.get(\"GITHUB_TOKEN\") else \"Not set\")\n",
    "print(\"GITHUB_MODEL_ID:\", os.environ.get(\"GITHUB_MODEL_ID\"))"
   ]
  },
  {
   "cell_type": "code",
   "execution_count": null,
   "id": "a6141584",
   "metadata": {},
   "outputs": [],
   "source": [
    "# 🧪 Test GitHub Models connectivity\n",
    "openai_chat_client = OpenAIChatClient(base_url=os.environ.get(\"GITHUB_ENDPOINT\"), api_key=os.environ.get(\"GITHUB_TOKEN\"), model_id=os.environ.get(\"GITHUB_MODEL_ID\"))"
   ]
  },
  {
   "cell_type": "code",
   "execution_count": null,
   "id": "a6507f83",
   "metadata": {},
   "outputs": [],
   "source": [
    "# 🛠️ Define travel planning tools for agent integration\n",
    "# These functions provide specific capabilities that the agent can invoke dynamically\n",
    "\n",
    "def get_random_destination() -> str:\n",
    "    \"\"\"\n",
    "    🎲 Random destination generator tool\n",
    "    Returns a randomly selected travel destination from curated list\n",
    "    Useful when customers need inspiration for their next vacation\n",
    "    \"\"\"\n",
    "    destinations = [\n",
    "        \"Paris, France\",\n",
    "        \"Tokyo, Japan\", \n",
    "        \"New York City, USA\",\n",
    "        \"London, England\",\n",
    "        \"Rome, Italy\",\n",
    "        \"Sydney, Australia\",\n",
    "        \"Dubai, UAE\",\n",
    "        \"Barcelona, Spain\",\n",
    "        \"Bangkok, Thailand\",\n",
    "        \"Amsterdam, Netherlands\",\n",
    "        \"Istanbul, Turkey\",\n",
    "        \"Prague, Czech Republic\",\n",
    "        \"Santorini, Greece\",\n",
    "        \"Reykjavik, Iceland\",\n",
    "        \"Marrakech, Morocco\",\n",
    "        \"Cape Town, South Africa\",\n",
    "        \"Rio de Janeiro, Brazil\",\n",
    "        \"Bali, Indonesia\"\n",
    "    ]\n",
    "    # 🎯 Return random selection from the curated destination list\n",
    "    return destinations[randint(0, len(destinations) - 1)]"
   ]
  },
  {
   "cell_type": "code",
   "execution_count": null,
   "id": "5d4f0568",
   "metadata": {},
   "outputs": [],
   "source": [
    "# 🔗 Initialize GitHub Models chat client for agent communication\n",
    "# Creates the primary interface between the agent and the language model\n",
    "openai_chat_client = OpenAIChatClient(base_url=os.environ.get(\"GITHUB_ENDPOINT\"), api_key=os.environ.get(\"GITHUB_TOKEN\"), model_id=os.environ.get(\"GITHUB_MODEL_ID\"))"
   ]
  },
  {
   "cell_type": "code",
   "execution_count": null,
   "id": "751668c5",
   "metadata": {},
   "outputs": [],
   "source": [
    "# 🤖 Configure travel agent identity and behavioral instructions\n",
    "# Define the agent's personality, capabilities, and operational guidelines\n",
    "\n",
    "AGENT_NAME = \"TravelAgent\"\n",
    "\n",
    "AGENT_INSTRUCTIONS = \"\"\"You are a helpful AI Agent that can help plan vacations for customers at random destinations\n",
    "\"\"\""
   ]
  },
  {
   "cell_type": "code",
   "execution_count": null,
   "id": "be18ac4f",
   "metadata": {},
   "outputs": [],
   "source": [
    "agent = ChatAgent(\n",
    "        name = AGENT_NAME,\n",
    "        chat_client=openai_chat_client,\n",
    "        instructions=AGENT_INSTRUCTIONS,\n",
    "        tools=[get_random_destination]\n",
    ")"
   ]
  },
  {
   "cell_type": "code",
   "execution_count": null,
   "id": "772e9481",
   "metadata": {},
   "outputs": [],
   "source": [
    "thread = agent.get_new_thread()"
   ]
  },
  {
   "cell_type": "code",
   "execution_count": null,
   "id": "a731b547",
   "metadata": {},
   "outputs": [],
   "source": [
    "response1 = await agent.run(\"Plan me a day trip\",thread= thread)"
   ]
  },
  {
   "cell_type": "code",
   "execution_count": null,
   "id": "7d3fe00a",
   "metadata": {},
   "outputs": [],
   "source": [
    "\n",
    "last_message = response1.messages[-1]\n",
    "text_content = last_message.contents[0].text\n",
    "print(\"Travel plan:\")\n",
    "print(text_content)"
   ]
  },
  {
   "cell_type": "markdown",
   "metadata": {},
   "source": [
    "\n---\n\n**Upozornenie**:  \nTento dokument bol preložený pomocou služby AI prekladu [Co-op Translator](https://github.com/Azure/co-op-translator). Hoci sa snažíme o presnosť, prosím, berte na vedomie, že automatizované preklady môžu obsahovať chyby alebo nepresnosti. Pôvodný dokument v jeho rodnom jazyku by mal byť považovaný za autoritatívny zdroj. Pre kritické informácie sa odporúča profesionálny ľudský preklad. Nenesieme zodpovednosť za akékoľvek nedorozumenia alebo nesprávne interpretácie vyplývajúce z použitia tohto prekladu.\n"
   ]
  }
 ],
 "metadata": {
  "kernelspec": {
   "display_name": "agentenv",
   "language": "python",
   "name": "python3"
  },
  "language_info": {
   "codemirror_mode": {
    "name": "ipython",
    "version": 3
   },
   "file_extension": ".py",
   "mimetype": "text/x-python",
   "name": "python",
   "nbconvert_exporter": "python",
   "pygments_lexer": "ipython3",
   "version": "3.12.10"
  },
  "polyglot_notebook": {
   "kernelInfo": {
    "defaultKernelName": "csharp",
    "items": [
     {
      "aliases": [],
      "name": "csharp"
     }
    ]
   }
  },
  "coopTranslator": {
   "original_hash": "42966ddac53cebaf0ac1ce33b2ee7059",
   "translation_date": "2025-10-02T08:26:32+00:00",
   "source_file": "04-tool-use/code_samples/04-python-agent-framework.ipynb",
   "language_code": "sk"
  }
 },
 "nbformat": 4,
 "nbformat_minor": 5
}