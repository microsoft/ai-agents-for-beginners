{
 "cells": [
  {
   "cell_type": "markdown",
   "id": "f4cf9593",
   "metadata": {},
   "source": [
    "# 🐍 مائیکروسافٹ ایجنٹ فریم ورک کے ساتھ AI ٹریول ایجنٹ (پائتھون)\n",
    "\n",
    "## 📋 منظر نامہ کا جائزہ\n",
    "\n",
    "یہ نوٹ بک مائیکروسافٹ ایجنٹ فریم ورک کے ذریعے ایک ذہین سفر منصوبہ بندی ایجنٹ بنانے کا طریقہ دکھاتی ہے۔ یہ ایجنٹ GitHub Models کا استعمال کرتے ہوئے دنیا بھر کے مختلف مقامات کے لیے ذاتی دن کے سفر کے منصوبے خود بخود تیار کرتا ہے۔\n",
    "\n",
    "**اہم خصوصیات:**\n",
    "- 🎲 **سمارٹ منزل کا انتخاب**: مقامات کو بے ترتیب منتخب کرنے کے لیے حسب ضرورت ٹول فنکشن\n",
    "- 🗺️ **تفصیلی منصوبہ بندی**: مقامی سفارشات کے ساتھ AI سے چلنے والی سفر کی منصوبہ بندی\n",
    "- 🔄 **ایسنک پروسیسنگ**: API کمیونیکیشن کے لیے asyncio کا مؤثر استعمال\n",
    "- 🛠️ **ٹول انٹیگریشن**: AI ایجنٹس میں فنکشن کالنگ کی صلاحیتوں کا مظاہرہ\n",
    "\n",
    "## 🏗️ تکنیکی عمل درآمد\n",
    "\n",
    "### بنیادی اجزاء\n",
    "- **ایجنٹ فریم ورک**: مائیکروسافٹ کے ایجنٹ آرکیسٹریشن سسٹم کا پائتھون نفاذ\n",
    "- **GitHub Models API**: GitHub کے انفرنس سروس کے ذریعے جدید ترین لینگویج ماڈلز تک رسائی\n",
    "- **OpenAI مطابقت**: GitHub Models بیک اینڈ کے ساتھ OpenAI کلائنٹ پیٹرنز کا استعمال\n",
    "- **ماحولیاتی انتظام**: python-dotenv کے ذریعے محفوظ اسناد کا انتظام\n",
    "\n",
    "### آرکیٹیکچر فلو\n",
    "```python\n",
    "User Request → ChatAgent → GitHub Models API ↔ get_random_destination()\n",
    "                     ↓\n",
    "              Travel Itinerary Response\n",
    "```\n",
    "\n",
    "### اہم کلاسز اور طریقے\n",
    "- `ChatAgent`: مرکزی گفتگو ایجنٹ آرکیسٹریٹر\n",
    "- `OpenAIChatClient`: GitHub Models API کلائنٹ ریپر\n",
    "- `get_random_destination()`: منزل کے انتخاب کے لیے حسب ضرورت ٹول فنکشن\n",
    "- ماحولیاتی متغیرات: محفوظ API کنفیگریشن کا انتظام\n",
    "\n",
    "## ⚙️ ضروریات اور سیٹ اپ\n",
    "\n",
    "**ضروری انحصارات:**\n",
    "```bash\n",
    "\n",
    "pip install agent-framework-core -U\n",
    "```\n",
    "\n",
    "**ماحولیاتی کنفیگریشن (.env فائل):**\n",
    "```env\n",
    "GITHUB_TOKEN=your_github_personal_access_token\n",
    "GITHUB_ENDPOINT=https://models.inference.ai.azure.com\n",
    "GITHUB_MODEL_ID=gpt-4o-mini\n",
    "```\n",
    "\n",
    "**GitHub Models تک رسائی:**\n",
    "1. GitHub Models تک رسائی کے لیے سائن اپ کریں\n",
    "2. ایک ذاتی رسائی ٹوکن تیار کریں\n",
    "3. اوپر دکھائے گئے طریقے کے مطابق ماحولیاتی متغیرات کو ترتیب دیں\n",
    "\n",
    "## 🚀 استعمال کی ہدایات\n",
    "\n",
    "نیچے دیے گئے سیلز کو ترتیب وار چلائیں تاکہ:\n",
    "1. مطلوبہ لائبریریاں درآمد کریں اور ماحولیاتی متغیرات لوڈ کریں\n",
    "2. بے ترتیب منزل جنریٹر ٹول کی تعریف کریں\n",
    "3. AI ایجنٹ بنائیں اور ترتیب دیں\n",
    "4. سفر کی منصوبہ بندی کی درخواستیں چلائیں اور نتائج دیکھیں\n",
    "\n",
    "چلیں ایک ذہین سفر منصوبہ بندی معاون بناتے ہیں! 🌟\n"
   ]
  },
  {
   "cell_type": "code",
   "execution_count": null,
   "id": "fda5fa0a",
   "metadata": {},
   "outputs": [],
   "source": [
    "! pip install agent-framework-core -U"
   ]
  },
  {
   "cell_type": "code",
   "execution_count": null,
   "id": "c0df8a52",
   "metadata": {},
   "outputs": [],
   "source": [
    "# 📦 Import Required Libraries\n",
    "# Standard library imports for system operations and random number generation\n",
    "import os\n",
    "from random import randint\n",
    "\n",
    "# Third-party library for loading environment variables from .env file\n",
    "from dotenv import load_dotenv"
   ]
  },
  {
   "cell_type": "code",
   "execution_count": null,
   "id": "151e0314",
   "metadata": {},
   "outputs": [],
   "source": [
    "# 🤖 Import Microsoft Agent Framework Components\n",
    "# ChatAgent: The main agent class for conversational AI\n",
    "# OpenAIChatClient: Client for connecting to OpenAI-compatible APIs (including GitHub Models)\n",
    "from agent_framework import ChatAgent\n",
    "from agent_framework.openai import OpenAIChatClient"
   ]
  },
  {
   "cell_type": "code",
   "execution_count": null,
   "id": "a6141584",
   "metadata": {},
   "outputs": [],
   "source": [
    "# 🔧 Load Environment Variables\n",
    "# This loads configuration from a .env file in the project root\n",
    "# Required variables: GITHUB_ENDPOINT, GITHUB_TOKEN, GITHUB_MODEL_ID\n",
    "load_dotenv()"
   ]
  },
  {
   "cell_type": "code",
   "execution_count": null,
   "id": "a6507f83",
   "metadata": {},
   "outputs": [],
   "source": [
    "# 🎲 Tool Function: Random Destination Generator\n",
    "# This function will be available to the agent as a tool\n",
    "# The agent can call this function to get random vacation destinations\n",
    "def get_random_destination() -> str:\n",
    "    \"\"\"Get a random vacation destination.\n",
    "    \n",
    "    Returns:\n",
    "        str: A randomly selected destination from our predefined list\n",
    "    \"\"\"\n",
    "    # List of popular vacation destinations around the world\n",
    "    destinations = [\n",
    "        \"Barcelona, Spain\",\n",
    "        \"Paris, France\", \n",
    "        \"Berlin, Germany\",\n",
    "        \"Tokyo, Japan\",\n",
    "        \"Sydney, Australia\",\n",
    "        \"New York, USA\",\n",
    "        \"Cairo, Egypt\",\n",
    "        \"Cape Town, South Africa\",\n",
    "        \"Rio de Janeiro, Brazil\",\n",
    "        \"Bali, Indonesia\"\n",
    "    ]\n",
    "    # Return a random destination from the list\n",
    "    return destinations[randint(0, len(destinations) - 1)]"
   ]
  },
  {
   "cell_type": "code",
   "execution_count": null,
   "id": "5d4f0568",
   "metadata": {},
   "outputs": [],
   "source": [
    "# 🔗 Create OpenAI Chat Client for GitHub Models\n",
    "# This client connects to GitHub Models API (OpenAI-compatible endpoint)\n",
    "# Environment variables required:\n",
    "# - GITHUB_ENDPOINT: API endpoint URL (usually https://models.inference.ai.azure.com)\n",
    "# - GITHUB_TOKEN: Your GitHub personal access token\n",
    "# - GITHUB_MODEL_ID: Model to use (e.g., gpt-4o-mini, gpt-4o)\n",
    "openai_chat_client = OpenAIChatClient(\n",
    "    base_url=os.environ.get(\"GITHUB_ENDPOINT\"),\n",
    "    api_key=os.environ.get(\"GITHUB_TOKEN\"), \n",
    "    model_id=os.environ.get(\"GITHUB_MODEL_ID\")\n",
    ")"
   ]
  },
  {
   "cell_type": "code",
   "execution_count": null,
   "id": "cf5a4800",
   "metadata": {},
   "outputs": [],
   "source": [
    "# 🤖 Create the Travel Planning Agent\n",
    "# This creates a conversational AI agent with specific capabilities:\n",
    "# - chat_client: The AI model client for generating responses\n",
    "# - instructions: System prompt that defines the agent's personality and role\n",
    "# - tools: List of functions the agent can call to perform actions\n",
    "agent = ChatAgent(\n",
    "    chat_client=openai_chat_client,\n",
    "    instructions=\"You are a helpful AI Agent that can help plan vacations for customers at random destinations.\",\n",
    "    tools=[get_random_destination]  # Our random destination tool function\n",
    ")"
   ]
  },
  {
   "cell_type": "code",
   "execution_count": null,
   "id": "772e9481",
   "metadata": {},
   "outputs": [],
   "source": [
    "# 🚀 Run the Agent\n",
    "# Send a message to the agent and get a response\n",
    "# The agent will use its tools (get_random_destination) if needed\n",
    "response = await agent.run(\"Plan me a day trip\")"
   ]
  },
  {
   "cell_type": "code",
   "execution_count": null,
   "id": "93c114ea",
   "metadata": {},
   "outputs": [],
   "source": [
    "# 📋 View Raw Response Object\n",
    "# This shows the complete response structure including metadata\n",
    "# Useful for debugging and understanding the response format\n",
    "response"
   ]
  },
  {
   "cell_type": "code",
   "execution_count": null,
   "id": "a731b547",
   "metadata": {},
   "outputs": [],
   "source": [
    "# 📖 Extract and Display the Travel Plan\n",
    "# Get the last message from the conversation (agent's response)s\n",
    "last_message = response.messages[-1]\n",
    "# Extract the text content from the message\n",
    "text_content = last_message.contents[0].text\n",
    "# Display the formatted travel plan\n",
    "print(\"🏖️ Travel plan:\")\n",
    "print(text_content)"
   ]
  },
  {
   "cell_type": "markdown",
   "metadata": {},
   "source": [
    "\n---\n\n**ڈسکلیمر**:  \nیہ دستاویز AI ترجمہ سروس [Co-op Translator](https://github.com/Azure/co-op-translator) کا استعمال کرتے ہوئے ترجمہ کی گئی ہے۔ ہم درستگی کے لیے کوشش کرتے ہیں، لیکن براہ کرم آگاہ رہیں کہ خودکار ترجمے میں غلطیاں یا غیر درستیاں ہو سکتی ہیں۔ اصل دستاویز کو اس کی اصل زبان میں مستند ذریعہ سمجھا جانا چاہیے۔ اہم معلومات کے لیے، پیشہ ور انسانی ترجمہ کی سفارش کی جاتی ہے۔ ہم اس ترجمے کے استعمال سے پیدا ہونے والی کسی بھی غلط فہمی یا غلط تشریح کے ذمہ دار نہیں ہیں۔\n"
   ]
  }
 ],
 "metadata": {
  "kernelspec": {
   "display_name": "agentframeworkenv",
   "language": "python",
   "name": "python3"
  },
  "language_info": {
   "codemirror_mode": {
    "name": "ipython",
    "version": 3
   },
   "file_extension": ".py",
   "mimetype": "text/x-python",
   "name": "python",
   "nbconvert_exporter": "python",
   "pygments_lexer": "ipython3",
   "version": "3.12.10"
  },
  "polyglot_notebook": {
   "kernelInfo": {
    "defaultKernelName": "csharp",
    "items": [
     {
      "aliases": [],
      "name": "csharp"
     }
    ]
   }
  },
  "coopTranslator": {
   "original_hash": "02d6b305971fe27448c9d46a4c91eaf3",
   "translation_date": "2025-10-02T11:40:30+00:00",
   "source_file": "01-intro-to-ai-agents/code_samples/01-python-agent-framework.ipynb",
   "language_code": "ur"
  }
 },
 "nbformat": 4,
 "nbformat_minor": 5
}