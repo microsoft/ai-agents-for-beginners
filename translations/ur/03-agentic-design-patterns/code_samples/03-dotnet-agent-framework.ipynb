{
 "cells": [
  {
   "cell_type": "markdown",
   "id": "d6058fa4",
   "metadata": {},
   "source": [
    "# 🎨 ایجنٹک ڈیزائن پیٹرنز کے ساتھ GitHub ماڈلز (.NET)\n",
    "\n",
    "## 📋 سیکھنے کے مقاصد\n",
    "\n",
    "یہ نوٹ بک Microsoft Agent Framework کو .NET میں GitHub ماڈلز کے انضمام کے ساتھ استعمال کرتے ہوئے ذہین ایجنٹس بنانے کے لیے انٹرپرائز گریڈ ڈیزائن پیٹرنز کا مظاہرہ کرتی ہے۔ آپ پیشہ ورانہ پیٹرنز اور آرکیٹیکچرل طریقے سیکھیں گے جو ایجنٹس کو پروڈکشن کے لیے تیار، قابلِ دیکھ بھال، اور قابلِ توسیع بناتے ہیں۔\n",
    "\n",
    "**انٹرپرائز ڈیزائن پیٹرنز:**\n",
    "- 🏭 **فیکٹری پیٹرن**: ایجنٹ کی معیاری تخلیق کے لیے ڈیپینڈنسی انجیکشن\n",
    "- 🔧 **بلڈر پیٹرن**: ایجنٹ کی روانی ترتیب اور سیٹ اپ\n",
    "- 🧵 **تھریڈ-سیف پیٹرنز**: ہم وقتی گفتگو کا انتظام\n",
    "- 📋 **ریپوزیٹری پیٹرن**: ٹولز اور صلاحیتوں کا منظم انتظام\n",
    "\n",
    "## 🎯 .NET کے مخصوص آرکیٹیکچرل فوائد\n",
    "\n",
    "### انٹرپرائز خصوصیات\n",
    "- **مضبوط ٹائپنگ**: کمپائل ٹائم ویلیڈیشن اور IntelliSense سپورٹ\n",
    "- **ڈیپینڈنسی انجیکشن**: بلٹ ان DI کنٹینر انضمام\n",
    "- **کنفیگریشن مینجمنٹ**: IConfiguration اور Options پیٹرنز\n",
    "- **Async/Await**: غیر ہم وقتی پروگرامنگ کی فرسٹ کلاس سپورٹ\n",
    "\n",
    "### پروڈکشن کے لیے تیار پیٹرنز\n",
    "- **لاگنگ انضمام**: ILogger اور ساختی لاگنگ سپورٹ\n",
    "- **ہیلتھ چیکس**: بلٹ ان مانیٹرنگ اور تشخیص\n",
    "- **کنفیگریشن ویلیڈیشن**: مضبوط ٹائپنگ کے ساتھ ڈیٹا اینوٹیشنز\n",
    "- **ایرر ہینڈلنگ**: ساختی استثنائی انتظام\n",
    "\n",
    "## 🔧 تکنیکی آرکیٹیکچر\n",
    "\n",
    "### بنیادی .NET اجزاء\n",
    "- **Microsoft.Extensions.AI**: متحد AI سروس ایبسٹریکشنز\n",
    "- **Microsoft.Agents.AI**: انٹرپرائز ایجنٹ آرکیسٹریشن فریم ورک\n",
    "- **GitHub ماڈلز انضمام**: اعلیٰ کارکردگی API کلائنٹ پیٹرنز\n",
    "- **کنفیگریشن سسٹم**: appsettings.json اور ماحولیات کا انضمام\n",
    "\n",
    "### ڈیزائن پیٹرن کا نفاذ\n",
    "```csharp\n",
    "IServiceCollection → Agent Builder → Configuration → Tool Registry → AI Agent\n",
    "```\n",
    "\n",
    "## 🏗️ انٹرپرائز پیٹرنز کا مظاہرہ\n",
    "\n",
    "### 1. **تخلیقی پیٹرنز**\n",
    "- **ایجنٹ فیکٹری**: مستقل کنفیگریشن کے ساتھ مرکزی ایجنٹ تخلیق\n",
    "- **بلڈر پیٹرن**: پیچیدہ ایجنٹ کنفیگریشن کے لیے روانی API\n",
    "- **سنگلٹن پیٹرن**: مشترکہ وسائل اور کنفیگریشن مینجمنٹ\n",
    "- **ڈیپینڈنسی انجیکشن**: ڈھیلا جوڑ اور ٹیسٹ کی صلاحیت\n",
    "\n",
    "### 2. **رویے کے پیٹرنز**\n",
    "- **اسٹریٹیجی پیٹرن**: قابلِ تبادلہ ٹولز کے نفاذ کی حکمت عملی\n",
    "- **کمانڈ پیٹرن**: ایجنٹ کے آپریشنز کو انکیپسولیٹ کرنا، ساتھ ہی انڈو/ریڈو\n",
    "- **آبزرور پیٹرن**: ایونٹ ڈرائیو ایجنٹ لائف سائیکل مینجمنٹ\n",
    "- **ٹیمپلیٹ میتھڈ**: ایجنٹ کے نفاذ کے معیاری ورک فلو\n",
    "\n",
    "### 3. **ساختی پیٹرنز**\n",
    "- **ایڈاپٹر پیٹرن**: GitHub ماڈلز API انضمام کی تہہ\n",
    "- **ڈیکوریٹر پیٹرن**: ایجنٹ کی صلاحیتوں میں اضافہ\n",
    "- **فیساد پیٹرن**: ایجنٹ کے تعامل کے آسان انٹرفیس\n",
    "- **پراکسی پیٹرن**: کارکردگی کے لیے سست لوڈنگ اور کیشنگ\n",
    "\n",
    "## ⚙️ ضروریات اور سیٹ اپ\n",
    "\n",
    "**ترقیاتی ماحول:**\n",
    "- .NET 9.0 SDK یا اس سے زیادہ\n",
    "- Visual Studio 2022 یا VS Code کے ساتھ C# ایکسٹینشن\n",
    "- GitHub ماڈلز API تک رسائی\n",
    "\n",
    "**NuGet ڈیپینڈنسیز:**\n",
    "```xml\n",
    "<PackageReference Include=\"Microsoft.Extensions.AI\" Version=\"9.9.0\" />\n",
    "<PackageReference Include=\"Microsoft.Extensions.AI.OpenAI\" Version=\"9.9.0-preview.1.25458.4\" />\n",
    "<PackageReference Include=\"DotNetEnv\" Version=\"3.1.1\" />\n",
    "```\n",
    "\n",
    "**کنفیگریشن (.env فائل):**\n",
    "```env\n",
    "GITHUB_TOKEN=your_github_personal_access_token\n",
    "GITHUB_ENDPOINT=https://models.inference.ai.azure.com\n",
    "GITHUB_MODEL_ID=gpt-4o-mini\n",
    "```\n",
    "\n",
    "## 📚 .NET ڈیزائن اصول\n",
    "\n",
    "### SOLID اصول\n",
    "- **سنگل ریسپانسبلٹی**: ہر جزو کا ایک واضح مقصد\n",
    "- **اوپن/کلوزڈ**: ترمیم کے بغیر توسیع پذیر\n",
    "- **لسکوف سبسٹیٹیوشن**: انٹرفیس پر مبنی ٹولز کے نفاذ\n",
    "- **انٹرفیس سیگریگیشن**: مرکوز، ہم آہنگ انٹرفیس\n",
    "- **ڈیپینڈنسی انورژن**: تجریدات پر انحصار، ٹھوس چیزوں پر نہیں\n",
    "\n",
    "### کلین آرکیٹیکچر\n",
    "- **ڈومین لیئر**: بنیادی ایجنٹ اور ٹول ایبسٹریکشنز\n",
    "- **ایپلیکیشن لیئر**: ایجنٹ آرکیسٹریشن اور ورک فلو\n",
    "- **انفراسٹرکچر لیئر**: GitHub ماڈلز انضمام اور بیرونی خدمات\n",
    "- **پریزنٹیشن لیئر**: صارف کے تعامل اور ردعمل کی فارمیٹنگ\n",
    "\n",
    "## 🔒 انٹرپرائز تحفظات\n",
    "\n",
    "### سیکیورٹی\n",
    "- **کریڈینشل مینجمنٹ**: IConfiguration کے ساتھ محفوظ API کلید کا انتظام\n",
    "- **ان پٹ ویلیڈیشن**: مضبوط ٹائپنگ اور ڈیٹا اینوٹیشن ویلیڈیشن\n",
    "- **آؤٹ پٹ سینٹائزیشن**: محفوظ ردعمل کی پروسیسنگ اور فلٹرنگ\n",
    "- **آڈٹ لاگنگ**: جامع آپریشن ٹریکنگ\n",
    "\n",
    "### کارکردگی\n",
    "- **غیر ہم وقتی پیٹرنز**: بلاک نہ کرنے والے I/O آپریشنز\n",
    "- **کنکشن پولنگ**: موثر HTTP کلائنٹ مینجمنٹ\n",
    "- **کیشنگ**: کارکردگی کو بہتر بنانے کے لیے ردعمل کیشنگ\n",
    "- **وسائل کا انتظام**: مناسب ڈسپوزل اور صفائی کے پیٹرنز\n",
    "\n",
    "### توسیع پذیری\n",
    "- **تھریڈ سیفٹی**: ہم وقتی ایجنٹ کے نفاذ کی حمایت\n",
    "- **وسائل پولنگ**: وسائل کا موثر استعمال\n",
    "- **لوڈ مینجمنٹ**: ریٹ لمیٹنگ اور بیک پریشر ہینڈلنگ\n",
    "- **مانیٹرنگ**: کارکردگی کے میٹرکس اور ہیلتھ چیکس\n",
    "\n",
    "## 🚀 پروڈکشن ڈیپلائمنٹ\n",
    "\n",
    "- **کنفیگریشن مینجمنٹ**: ماحولیات کے مطابق سیٹنگز\n",
    "- **لاگنگ اسٹریٹیجی**: ساختی لاگنگ کے ساتھ تعلقاتی IDs\n",
    "- **ایرر ہینڈلنگ**: عالمی استثنائی ہینڈلنگ کے ساتھ مناسب بحالی\n",
    "- **مانیٹرنگ**: ایپلیکیشن انسائٹس اور کارکردگی کاؤنٹرز\n",
    "- **ٹیسٹنگ**: یونٹ ٹیسٹس، انٹیگریشن ٹیسٹس، اور لوڈ ٹیسٹنگ پیٹرنز\n",
    "\n",
    ".NET کے ساتھ انٹرپرائز گریڈ ذہین ایجنٹس بنانے کے لیے تیار ہیں؟ آئیے کچھ مضبوط آرکیٹیکچر بنائیں! 🏢✨\n"
   ]
  },
  {
   "cell_type": "code",
   "execution_count": 1,
   "id": "2770ac5c",
   "metadata": {
    "language_info": {
     "name": "polyglot-notebook"
    },
    "polyglot_notebook": {
     "kernelName": "csharp"
    }
   },
   "outputs": [
    {
     "data": {
      "text/html": [
       "<div><div></div><div></div><div><strong>Installed Packages</strong><ul><li><span>Microsoft.Extensions.AI, 9.9.1</span></li></ul></div></div>"
      ]
     },
     "metadata": {},
     "output_type": "display_data"
    }
   ],
   "source": [
    "#r \"nuget: Microsoft.Extensions.AI, 9.9.1\""
   ]
  },
  {
   "cell_type": "code",
   "execution_count": null,
   "id": "984ff6cd",
   "metadata": {
    "language_info": {
     "name": "polyglot-notebook"
    },
    "polyglot_notebook": {
     "kernelName": "csharp"
    }
   },
   "outputs": [
    {
     "data": {
      "text/html": [
       "<div><div></div><div></div><div><strong>Installed Packages</strong><ul><li><span>Microsoft.Agents.AI.OpenAI, 1.0.0-preview.251001.2</span></li></ul></div></div>"
      ]
     },
     "metadata": {},
     "output_type": "display_data"
    }
   ],
   "source": [
    "#r \"nuget: Microsoft.Agents.AI.OpenAI, 1.0.0-preview.251001.3\""
   ]
  },
  {
   "cell_type": "code",
   "execution_count": null,
   "id": "0ab71360",
   "metadata": {
    "language_info": {
     "name": "polyglot-notebook"
    },
    "polyglot_notebook": {
     "kernelName": "csharp"
    }
   },
   "outputs": [
    {
     "data": {
      "text/html": [
       "<div><div></div><div></div><div><strong>Installed Packages</strong><ul><li><span>microsoft.agents.ai, 1.0.0-preview.251001.2</span></li></ul></div></div>"
      ]
     },
     "metadata": {},
     "output_type": "display_data"
    }
   ],
   "source": [
    "\n",
    "\n",
    "#r \"nuget: Microsoft.Agents.AI, 1.0.0-preview.251001.3\""
   ]
  },
  {
   "cell_type": "code",
   "execution_count": 4,
   "id": "4ab7b15d",
   "metadata": {
    "language_info": {
     "name": "polyglot-notebook"
    },
    "polyglot_notebook": {
     "kernelName": "csharp"
    }
   },
   "outputs": [],
   "source": [
    "// #r \"nuget: Microsoft.Extensions.AI.OpenAI, 9.9.0-preview.1.25458.4\""
   ]
  },
  {
   "cell_type": "code",
   "execution_count": 5,
   "id": "3fa8aa21",
   "metadata": {
    "language_info": {
     "name": "polyglot-notebook"
    },
    "polyglot_notebook": {
     "kernelName": "csharp"
    }
   },
   "outputs": [
    {
     "data": {
      "text/html": [
       "<div><div></div><div></div><div><strong>Installed Packages</strong><ul><li><span>DotNetEnv, 3.1.1</span></li></ul></div></div>"
      ]
     },
     "metadata": {},
     "output_type": "display_data"
    }
   ],
   "source": [
    "#r \"nuget: DotNetEnv, 3.1.1\""
   ]
  },
  {
   "cell_type": "code",
   "execution_count": 6,
   "id": "fc8ee8ea",
   "metadata": {
    "language_info": {
     "name": "polyglot-notebook"
    },
    "polyglot_notebook": {
     "kernelName": "csharp"
    }
   },
   "outputs": [],
   "source": [
    "using System;\n",
    "using System.ComponentModel;\n",
    "using System.ClientModel;\n",
    "\n",
    "using Microsoft.Extensions.AI;\n",
    "using Microsoft.Agents.AI;\n",
    "using OpenAI;"
   ]
  },
  {
   "cell_type": "code",
   "execution_count": 7,
   "id": "699b1c83",
   "metadata": {
    "language_info": {
     "name": "polyglot-notebook"
    },
    "polyglot_notebook": {
     "kernelName": "csharp"
    }
   },
   "outputs": [],
   "source": [
    " using DotNetEnv;"
   ]
  },
  {
   "cell_type": "code",
   "execution_count": 8,
   "id": "daa649a0",
   "metadata": {
    "language_info": {
     "name": "polyglot-notebook"
    },
    "polyglot_notebook": {
     "kernelName": "csharp"
    }
   },
   "outputs": [],
   "source": [
    "Env.Load(\"../../../.env\");"
   ]
  },
  {
   "cell_type": "code",
   "execution_count": 9,
   "id": "29661a90",
   "metadata": {
    "language_info": {
     "name": "polyglot-notebook"
    },
    "polyglot_notebook": {
     "kernelName": "csharp"
    }
   },
   "outputs": [],
   "source": [
    "[Description(\"Provides a random vacation destination.\")]\n",
    "static string GetRandomDestination()\n",
    "{\n",
    "    var destinations = new List<string>\n",
    "    {\n",
    "        \"Paris, France\",\n",
    "        \"Tokyo, Japan\",\n",
    "        \"New York City, USA\",\n",
    "        \"Sydney, Australia\",\n",
    "        \"Rome, Italy\",\n",
    "        \"Barcelona, Spain\",\n",
    "        \"Cape Town, South Africa\",\n",
    "        \"Rio de Janeiro, Brazil\",\n",
    "        \"Bangkok, Thailand\",\n",
    "        \"Vancouver, Canada\"\n",
    "    };\n",
    "\n",
    "    var random = new Random();\n",
    "    int index = random.Next(destinations.Count);\n",
    "    return destinations[index];\n",
    "}"
   ]
  },
  {
   "cell_type": "code",
   "execution_count": 10,
   "id": "d2ed1f8b",
   "metadata": {
    "language_info": {
     "name": "polyglot-notebook"
    },
    "polyglot_notebook": {
     "kernelName": "csharp"
    }
   },
   "outputs": [],
   "source": [
    "var github_endpoint = Environment.GetEnvironmentVariable(\"GITHUB_ENDPOINT\") ?? throw new InvalidOperationException(\"GITHUB_ENDPOINT is not set.\");\n",
    "var github_model_id = Environment.GetEnvironmentVariable(\"GITHUB_MODEL_ID\") ?? \"gpt-4o-mini\";\n",
    "var github_token = Environment.GetEnvironmentVariable(\"GITHUB_TOKEN\") ?? throw new InvalidOperationException(\"GITHUB_TOKEN is not set.\");"
   ]
  },
  {
   "cell_type": "code",
   "execution_count": 11,
   "id": "c36c73e1",
   "metadata": {
    "language_info": {
     "name": "polyglot-notebook"
    },
    "polyglot_notebook": {
     "kernelName": "csharp"
    }
   },
   "outputs": [],
   "source": [
    "var openAIOptions = new OpenAIClientOptions()\n",
    "{\n",
    "    Endpoint= new Uri(github_endpoint)\n",
    "};"
   ]
  },
  {
   "cell_type": "code",
   "execution_count": 12,
   "id": "6d94ff10",
   "metadata": {
    "language_info": {
     "name": "polyglot-notebook"
    },
    "polyglot_notebook": {
     "kernelName": "csharp"
    }
   },
   "outputs": [],
   "source": [
    "\n",
    "var openAIClient = new OpenAIClient(new ApiKeyCredential(github_token), openAIOptions);"
   ]
  },
  {
   "cell_type": "code",
   "execution_count": 13,
   "id": "fe32b57a",
   "metadata": {
    "language_info": {
     "name": "polyglot-notebook"
    },
    "polyglot_notebook": {
     "kernelName": "csharp"
    }
   },
   "outputs": [],
   "source": [
    "AIAgent agent = new OpenAIClient(new ApiKeyCredential(github_token), openAIOptions).GetChatClient(github_model_id).CreateAIAgent(\n",
    "    instructions:\"You are a helpful AI Agent that can help plan vacations for customers at random destinations\", tools: [AIFunctionFactory.Create((Func<string>)GetRandomDestination)]);"
   ]
  },
  {
   "cell_type": "code",
   "execution_count": 14,
   "metadata": {
    "language_info": {
     "name": "polyglot-notebook"
    },
    "polyglot_notebook": {
     "kernelName": "csharp"
    }
   },
   "outputs": [],
   "source": [
    "AgentThread thread = agent.GetNewThread();"
   ]
  },
  {
   "cell_type": "code",
   "execution_count": 15,
   "id": "5e455aff",
   "metadata": {
    "language_info": {
     "name": "polyglot-notebook"
    },
    "polyglot_notebook": {
     "kernelName": "csharp"
    }
   },
   "outputs": [
    {
     "name": "stdout",
     "output_type": "stream",
     "text": [
      "How about a day trip to Vancouver, Canada? Here's a suggested itinerary for your day:\n",
      "\n",
      "### Morning\n",
      "- **Breakfast at a Local Cafe**: Start your day with a delicious breakfast at a cozy café like **Jam Cafe** or **Cafe Medina**.\n",
      "- **Stanley Park**: After breakfast, head to Stanley Park. You can rent a bike and ride along the seawall, enjoying beautiful views of the city and the water.\n",
      "\n",
      "### Afternoon\n",
      "- **Lunch in Gastown**: Make your way to Gastown for lunch. Try a local favorite like **The Flying Pig** or **Noodle Box**.\n",
      "- **Explore Gastown**: After lunch, walk around Gastown to see the iconic Steam Clock and browse the unique shops and boutiques.\n",
      "\n",
      "### Late Afternoon\n",
      "- **Granville Island**: Visit Granville Island, where you can stroll through the public market, sample local foods, and enjoy artisan shops.\n",
      "- **False Creek**: Take a walk along False Creek and enjoy the waterfront views.\n",
      "\n",
      "### Evening\n",
      "- **Dinner at a Waterfront Restaurant**: End your day with dinner at a waterfront restaurant like **The Boathouse** or **Lift Bar Grill View** for great food and a view of the sunset.\n",
      "- **Optional: Sunset Cruise**: If you're up for it, consider taking a sunset cruise for a different perspective of the city.\n",
      "\n",
      "### Tips\n",
      "- Make sure to check the weather beforehand!\n",
      "- Consider public transport or ride-sharing to navigate the city easily.\n",
      "\n",
      "Enjoy your day trip to Vancouver!\r\n"
     ]
    }
   ],
   "source": [
    "Console.WriteLine(await agent.RunAsync(\"Plan me a day trip\",thread));"
   ]
  },
  {
   "cell_type": "code",
   "execution_count": 16,
   "id": "592ae1bb",
   "metadata": {
    "language_info": {
     "name": "polyglot-notebook"
    },
    "polyglot_notebook": {
     "kernelName": "csharp"
    }
   },
   "outputs": [
    {
     "name": "stdout",
     "output_type": "stream",
     "text": [
      "How about a vacation to New York City, USA? Here's a suggested itinerary for your trip:\n",
      "\n",
      "### Day 1: Arrival in New York City\n",
      "- **Check-In**: Arrive and check in to your hotel.\n",
      "- **Central Park**: Take a leisurely stroll through Central Park. Consider renting a bike or taking a carriage ride.\n",
      "- **Evening**: Enjoy dinner at a classic NYC restaurant, such as **Katz's Delicatessen** or **Carbone**.\n",
      "\n",
      "### Day 2: Iconic Landmarks\n",
      "- **Morning**: Breakfast at a local diner.\n",
      "- **Statue of Liberty & Ellis Island**: Take a ferry to visit these iconic landmarks.\n",
      "- **Afternoon**: Explore Wall Street and visit the 9/11 Memorial & Museum.\n",
      "- **Evening**: Dinner in the Financial District followed by a walk across the Brooklyn Bridge at sunset.\n",
      "\n",
      "### Day 3: Culture and Arts\n",
      "- **Morning**: Visit The Metropolitan Museum of Art (The Met) and spend a few hours exploring its vast collection.\n",
      "- **Afternoon**: Head to Times Square for lunch and the buzz of the city.\n",
      "- **Broadway Show**: Catch a Broadway show in the evening. Be sure to book tickets in advance!\n",
      "\n",
      "### Day 4: Explore Neighborhoods\n",
      "- **Morning**: Head to SoHo for brunch and shopping in its chic boutiques.\n",
      "- **Afternoon**: Explore Greenwich Village, known for its bohemian atmosphere and history.\n",
      "- **Evening**: Enjoy dinner in the West Village, perhaps at **Buvette** or **Minetta Tavern**.\n",
      "\n",
      "### Day 5: Departure\n",
      "- **Last-minute Shopping**: Spend your last morning shopping at Fifth Avenue or head to Chelsea Market for food and souvenirs.\n",
      "- **Check-Out**: Depart for your journey home.\n",
      "\n",
      "### Tips\n",
      "- Utilize the subway for efficient travel around the city.\n",
      "- Make reservations for popular restaurants and attractions ahead of time!\n",
      "\n",
      "Enjoy your trip to New York City!\r\n"
     ]
    }
   ],
   "source": [
    "Console.WriteLine(await agent.RunAsync(\"I don't like that destination. Plan me another vacation.\",thread));"
   ]
  },
  {
   "cell_type": "markdown",
   "metadata": {},
   "source": [
    "\n---\n\n**ڈسکلیمر**:  \nیہ دستاویز AI ترجمہ سروس [Co-op Translator](https://github.com/Azure/co-op-translator) کا استعمال کرتے ہوئے ترجمہ کی گئی ہے۔ ہم درستگی کے لیے کوشش کرتے ہیں، لیکن براہ کرم آگاہ رہیں کہ خودکار ترجمے میں غلطیاں یا غیر درستیاں ہو سکتی ہیں۔ اصل دستاویز کو اس کی اصل زبان میں مستند ذریعہ سمجھا جانا چاہیے۔ اہم معلومات کے لیے، پیشہ ور انسانی ترجمہ کی سفارش کی جاتی ہے۔ اس ترجمے کے استعمال سے پیدا ہونے والی کسی بھی غلط فہمی یا غلط تشریح کے لیے ہم ذمہ دار نہیں ہیں۔\n"
   ]
  }
 ],
 "metadata": {
  "kernelspec": {
   "display_name": ".NET (C#)",
   "language": "C#",
   "name": ".net-csharp"
  },
  "language_info": {
   "name": "polyglot-notebook"
  },
  "polyglot_notebook": {
   "kernelInfo": {
    "defaultKernelName": "csharp",
    "items": [
     {
      "aliases": [],
      "name": "csharp"
     }
    ]
   }
  },
  "coopTranslator": {
   "original_hash": "070c1d8985b3dc6e6d977f3e891037f1",
   "translation_date": "2025-10-02T11:50:50+00:00",
   "source_file": "03-agentic-design-patterns/code_samples/03-dotnet-agent-framework.ipynb",
   "language_code": "ur"
  }
 },
 "nbformat": 4,
 "nbformat_minor": 5
}