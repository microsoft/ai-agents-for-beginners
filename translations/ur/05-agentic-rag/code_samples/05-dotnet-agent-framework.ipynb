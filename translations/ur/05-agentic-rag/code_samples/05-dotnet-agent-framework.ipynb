{
 "cells": [
  {
   "cell_type": "markdown",
   "id": "44b5899e",
   "metadata": {},
   "source": [
    "# 🔍 Azure AI Foundry (.NET) کے ساتھ انٹرپرائز RAG\n",
    "\n",
    "## 📋 سیکھنے کے مقاصد\n",
    "\n",
    "یہ نوٹ بک Microsoft Agent Framework کو .NET میں Azure AI Foundry کے ساتھ استعمال کرتے ہوئے انٹرپرائز گریڈ Retrieval-Augmented Generation (RAG) سسٹمز بنانے کا طریقہ دکھاتی ہے۔ آپ پروڈکشن کے لیے تیار ایجنٹس بنانا سیکھیں گے جو دستاویزات میں تلاش کر سکتے ہیں اور درست، سیاق و سباق سے آگاہ جوابات فراہم کر سکتے ہیں، انٹرپرائز سیکیورٹی اور اسکیل ایبلٹی کے ساتھ۔\n",
    "\n",
    "**انٹرپرائز RAG کی صلاحیتیں جو آپ بنائیں گے:**\n",
    "- 📚 **دستاویز کی ذہانت**: Azure AI خدمات کے ساتھ جدید دستاویز پروسیسنگ\n",
    "- 🔍 **سیمینٹک سرچ**: انٹرپرائز خصوصیات کے ساتھ اعلی کارکردگی والی ویکٹر سرچ\n",
    "- 🛡️ **سیکیورٹی انٹیگریشن**: رول پر مبنی رسائی اور ڈیٹا پروٹیکشن کے پیٹرنز\n",
    "- 🏢 **اسکیل ایبل آرکیٹیکچر**: مانیٹرنگ کے ساتھ پروڈکشن کے لیے تیار RAG سسٹمز\n",
    "\n",
    "## 🎯 انٹرپرائز RAG آرکیٹیکچر\n",
    "\n",
    "### بنیادی انٹرپرائز اجزاء\n",
    "- **Azure AI Foundry**: سیکیورٹی اور تعمیل کے ساتھ منظم انٹرپرائز AI پلیٹ فارم\n",
    "- **Persistent Agents**: گفتگو کی تاریخ اور سیاق و سباق کے انتظام کے ساتھ اسٹیٹ فل ایجنٹس\n",
    "- **Vector Store Management**: انٹرپرائز گریڈ دستاویز انڈیکسنگ اور بازیافت\n",
    "- **Identity Integration**: Azure AD کی توثیق اور رول پر مبنی رسائی کنٹرول\n",
    "\n",
    "### .NET انٹرپرائز فوائد\n",
    "- **ٹائپ سیفٹی**: RAG آپریشنز اور ڈیٹا اسٹرکچرز کے لیے کمپائل ٹائم توثیق\n",
    "- **ایسنک پرفارمنس**: غیر مسدود دستاویز پروسیسنگ اور سرچ آپریشنز\n",
    "- **میموری مینجمنٹ**: بڑی دستاویزات کے مجموعوں کے لیے موثر وسائل کا استعمال\n",
    "- **انٹیگریشن پیٹرنز**: ڈیپینڈنسی انجیکشن کے ساتھ Azure سروسز کا مقامی انضمام\n",
    "\n",
    "## 🏗️ تکنیکی آرکیٹیکچر\n",
    "\n",
    "### انٹرپرائز RAG پائپ لائن\n",
    "```csharp\n",
    "Document Upload → Security Validation → Vector Processing → Index Creation\n",
    "                      ↓                    ↓                  ↓\n",
    "User Query → Authentication → Semantic Search → Context Ranking → AI Response\n",
    "```\n",
    "\n",
    "### بنیادی .NET اجزاء\n",
    "- **Azure.AI.Agents.Persistent**: اسٹیٹ پرسیسٹنس کے ساتھ انٹرپرائز ایجنٹ مینجمنٹ\n",
    "- **Azure.Identity**: محفوظ Azure سروس تک رسائی کے لیے مربوط توثیق\n",
    "- **Microsoft.Agents.AI.AzureAI**: Azure کے لیے بہتر ایجنٹ فریم ورک کا نفاذ\n",
    "- **System.Linq.Async**: اعلی کارکردگی والے غیر مسدود LINQ آپریشنز\n",
    "\n",
    "## 🔧 انٹرپرائز خصوصیات اور فوائد\n",
    "\n",
    "### سیکیورٹی اور تعمیل\n",
    "- **Azure AD انٹیگریشن**: انٹرپرائز شناختی انتظام اور توثیق\n",
    "- **رول پر مبنی رسائی**: دستاویز تک رسائی اور آپریشنز کے لیے باریک بینی سے اجازتیں\n",
    "- **ڈیٹا پروٹیکشن**: حساس دستاویزات کے لیے آرام اور ٹرانزٹ میں انکرپشن\n",
    "- **آڈٹ لاگنگ**: تعمیل کی ضروریات کے لیے جامع سرگرمی کا سراغ لگانا\n",
    "\n",
    "### کارکردگی اور اسکیل ایبلٹی\n",
    "- **کنکشن پولنگ**: موثر Azure سروس کنکشن مینجمنٹ\n",
    "- **ایسنک پروسیسنگ**: اعلی throughput کے منظرناموں کے لیے غیر مسدود آپریشنز\n",
    "- **کیچنگ اسٹریٹجیز**: اکثر رسائی حاصل کی جانے والی دستاویزات کے لیے ذہین کیچنگ\n",
    "- **لوڈ بیلنسنگ**: بڑے پیمانے پر تعیناتیوں کے لیے تقسیم شدہ پروسیسنگ\n",
    "\n",
    "### مینجمنٹ اور مانیٹرنگ\n",
    "- **ہیلتھ چیکس**: RAG سسٹم کے اجزاء کے لیے بلٹ ان مانیٹرنگ\n",
    "- **پرفارمنس میٹرکس**: سرچ کے معیار اور جواب کے اوقات پر تفصیلی تجزیات\n",
    "- **ایرر ہینڈلنگ**: ریٹری پالیسیوں کے ساتھ جامع استثنائی انتظام\n",
    "- **کنفیگریشن مینجمنٹ**: ماحول کے مخصوص ترتیبات کے ساتھ توثیق\n",
    "\n",
    "## ⚙️ ضروریات اور سیٹ اپ\n",
    "\n",
    "**ڈیولپمنٹ ماحول:**\n",
    "- .NET 9.0 SDK یا اس سے زیادہ\n",
    "- Visual Studio 2022 یا VS Code کے ساتھ C# ایکسٹینشن\n",
    "- Azure سبسکرپشن کے ساتھ AI Foundry تک رسائی\n",
    "\n",
    "**ضروری NuGet پیکجز:**\n",
    "```xml\n",
    "<PackageReference Include=\"Microsoft.Extensions.AI\" Version=\"9.9.0\" />\n",
    "<PackageReference Include=\"Azure.AI.Agents.Persistent\" Version=\"1.2.0-beta.5\" />\n",
    "<PackageReference Include=\"Azure.Identity\" Version=\"1.15.0\" />\n",
    "<PackageReference Include=\"System.Linq.Async\" Version=\"6.0.3\" />\n",
    "<PackageReference Include=\"DotNetEnv\" Version=\"3.1.1\" />\n",
    "```\n",
    "\n",
    "**Azure توثیق سیٹ اپ:**\n",
    "```bash\n",
    "# Install Azure CLI and authenticate\n",
    "az login\n",
    "az account set --subscription \"your-subscription-id\"\n",
    "```\n",
    "\n",
    "**ماحول کی ترتیب (.env فائل):**\n",
    "```env\n",
    "# Azure AI Foundry configuration (automatically handled via Azure CLI)\n",
    "# Ensure you're authenticated to the correct Azure subscription\n",
    "```\n",
    "\n",
    "## 📊 انٹرپرائز RAG پیٹرنز\n",
    "\n",
    "### دستاویز مینجمنٹ پیٹرنز\n",
    "- **بلک اپلوڈ**: بڑی دستاویزات کے مجموعوں کی موثر پروسیسنگ\n",
    "- **انکریمنٹل اپڈیٹس**: حقیقی وقت میں دستاویزات کا اضافہ اور ترمیم\n",
    "- **ورژن کنٹرول**: دستاویزات کی ورژننگ اور تبدیلی کا سراغ لگانا\n",
    "- **میٹا ڈیٹا مینجمنٹ**: دستاویزات کی بھرپور خصوصیات اور ٹیکسونومی\n",
    "\n",
    "### سرچ اور بازیافت کے پیٹرنز\n",
    "- **ہائبرڈ سرچ**: بہترین نتائج کے لیے سیمینٹک اور کی ورڈ سرچ کا امتزاج\n",
    "- **فیسٹڈ سرچ**: کثیر جہتی فلٹرنگ اور زمرہ بندی\n",
    "- **ریلیونس ٹیوننگ**: ڈومین مخصوص ضروریات کے لیے کسٹم اسکورنگ الگورتھمز\n",
    "- **نتائج کی درجہ بندی**: کاروباری منطق کے انضمام کے ساتھ اعلی درجے کی درجہ بندی\n",
    "\n",
    "### سیکیورٹی پیٹرنز\n",
    "- **دستاویز کی سطح کی سیکیورٹی**: ہر دستاویز کے لیے باریک بینی سے رسائی کنٹرول\n",
    "- **ڈیٹا کی درجہ بندی**: خودکار حساسیت کی لیبلنگ اور تحفظ\n",
    "- **آڈٹ ٹریلز**: تمام RAG آپریشنز کا جامع لاگنگ\n",
    "- **پرائیویسی پروٹیکشن**: PII کی شناخت اور ریڈیکشن کی صلاحیتیں\n",
    "\n",
    "## 🔒 انٹرپرائز سیکیورٹی خصوصیات\n",
    "\n",
    "### توثیق اور اجازت\n",
    "```csharp\n",
    "// Azure AD integrated authentication\n",
    "var credential = new AzureCliCredential();\n",
    "var agentsClient = new PersistentAgentsClient(endpoint, credential);\n",
    "\n",
    "// Role-based access validation\n",
    "if (!await ValidateUserPermissions(user, documentId))\n",
    "{\n",
    "    throw new UnauthorizedAccessException(\"Insufficient permissions\");\n",
    "}\n",
    "```\n",
    "\n",
    "### ڈیٹا پروٹیکشن\n",
    "- **انکرپشن**: دستاویزات اور سرچ انڈیکسز کے لیے اختتام سے اختتام تک انکرپشن\n",
    "- **رسائی کنٹرولز**: صارف اور گروپ کی اجازتوں کے لیے Azure AD کے ساتھ انضمام\n",
    "- **ڈیٹا ریزیڈنسی**: تعمیل کے لیے جغرافیائی ڈیٹا مقام کے کنٹرولز\n",
    "- **بیک اپ اور ریکوری**: خودکار بیک اپ اور آفت سے بحالی کی صلاحیتیں\n",
    "\n",
    "## 📈 کارکردگی کی اصلاح\n",
    "\n",
    "### ایسنک پروسیسنگ پیٹرنز\n",
    "```csharp\n",
    "// Efficient async document processing\n",
    "await foreach (var document in documentStream.AsAsyncEnumerable())\n",
    "{\n",
    "    await ProcessDocumentAsync(document, cancellationToken);\n",
    "}\n",
    "```\n",
    "\n",
    "### میموری مینجمنٹ\n",
    "- **اسٹریمنگ پروسیسنگ**: بڑی دستاویزات کو میموری کے مسائل کے بغیر ہینڈل کریں\n",
    "- **وسائل کی پولنگ**: مہنگے وسائل کا موثر دوبارہ استعمال\n",
    "- **گاربیج کلیکشن**: میموری مختص کرنے کے بہتر پیٹرنز\n",
    "- **کنکشن مینجمنٹ**: Azure سروس کنکشن کے مناسب لائف سائیکل\n",
    "\n",
    "### کیچنگ اسٹریٹجیز\n",
    "- **کوئری کیچنگ**: اکثر چلائی جانے والی تلاشوں کو کیچ کریں\n",
    "- **دستاویز کیچنگ**: گرم دستاویزات کے لیے ان میموری کیچنگ\n",
    "- **انڈیکس کیچنگ**: بہتر ویکٹر انڈیکس کیچنگ\n",
    "- **نتائج کیچنگ**: پیدا شدہ جوابات کی ذہین کیچنگ\n",
    "\n",
    "## 📊 انٹرپرائز استعمال کے کیسز\n",
    "\n",
    "### علم کا انتظام\n",
    "- **کارپوریٹ وکی**: کمپنی کے نالج بیسز میں ذہین تلاش\n",
    "- **پالیسی اور طریقہ کار**: خودکار تعمیل اور طریقہ کار کی رہنمائی\n",
    "- **تربیتی مواد**: ذہین سیکھنے اور ترقی کی معاونت\n",
    "- **ریسرچ ڈیٹا بیسز**: تعلیمی اور تحقیقی مقالوں کے تجزیاتی نظام\n",
    "\n",
    "### کسٹمر سپورٹ\n",
    "- **سپورٹ نالج بیس**: خودکار کسٹمر سروس کے جوابات\n",
    "- **پروڈکٹ دستاویزات**: ذہین پروڈکٹ معلومات کی بازیافت\n",
    "- **ٹربل شوٹنگ گائیڈز**: سیاق و سباق سے متعلق مسئلہ حل کرنے کی معاونت\n",
    "- **FAQ سسٹمز**: دستاویزات کے مجموعوں سے متحرک FAQ جنریشن\n",
    "\n",
    "### ریگولیٹری تعمیل\n",
    "- **قانونی دستاویزات کا تجزیہ**: معاہدہ اور قانونی دستاویزات کی ذہانت\n",
    "- **تعمیل کی نگرانی**: خودکار ریگولیٹری تعمیل کی جانچ\n",
    "- **خطرے کی تشخیص**: دستاویز پر مبنی خطرے کا تجزیہ اور رپورٹنگ\n",
    "- **آڈٹ سپورٹ**: آڈٹس کے لیے ذہین دستاویز کی دریافت\n",
    "\n",
    "## 🚀 پروڈکشن تعیناتی\n",
    "\n",
    "### مانیٹرنگ اور مشاہدہ\n",
    "- **ایپلیکیشن انسائٹس**: تفصیلی ٹیلیمیٹری اور کارکردگی کی نگرانی\n",
    "- **کسٹم میٹرکس**: کاروباری مخصوص KPI ٹریکنگ اور الرٹنگ\n",
    "- **ڈسٹریبیوٹڈ ٹریسنگ**: سروسز کے درمیان درخواست کا اختتام سے اختتام تک ٹریکنگ\n",
    "- **ہیلتھ ڈیش بورڈز**: حقیقی وقت میں سسٹم کی صحت اور کارکردگی کی بصریات\n",
    "\n",
    "### اسکیل ایبلٹی اور قابل اعتماد\n",
    "- **آٹو اسکیلنگ**: لوڈ اور کارکردگی کے میٹرکس کی بنیاد پر خودکار اسکیلنگ\n",
    "- **ہائی ایویلیبیلٹی**: ملٹی ریجن تعیناتی کے ساتھ فیل اوور کی صلاحیتیں\n",
    "- **لوڈ ٹیسٹنگ**: انٹرپرائز لوڈ کے حالات کے تحت کارکردگی کی توثیق\n",
    "- **ڈیزاسٹر ریکوری**: خودکار بیک اپ اور بحالی کے طریقہ کار\n",
    "\n",
    "تیار ہیں انٹرپرائز گریڈ RAG سسٹمز بنانے کے لیے جو حساس دستاویزات کو بڑے پیمانے پر ہینڈل کر سکیں؟ آئیے انٹرپرائز کے لیے ذہین نالج سسٹمز کی تعمیر کریں! 🏢📖✨\n"
   ]
  },
  {
   "cell_type": "code",
   "execution_count": 1,
   "metadata": {
    "language_info": {
     "name": "polyglot-notebook"
    },
    "polyglot_notebook": {
     "kernelName": "csharp"
    }
   },
   "outputs": [
    {
     "data": {
      "text/html": [
       "<div><div></div><div></div><div><strong>Installed Packages</strong><ul><li><span>Microsoft.Extensions.AI, 9.9.1</span></li></ul></div></div>"
      ]
     },
     "metadata": {},
     "output_type": "display_data"
    }
   ],
   "source": [
    "#r \"nuget: Microsoft.Extensions.AI, 9.9.1\""
   ]
  },
  {
   "cell_type": "code",
   "execution_count": 2,
   "id": "4ec1f0d1",
   "metadata": {
    "language_info": {
     "name": "polyglot-notebook"
    },
    "polyglot_notebook": {
     "kernelName": "csharp"
    }
   },
   "outputs": [
    {
     "data": {
      "text/html": [
       "<div><div></div><div></div><div><strong>Installed Packages</strong><ul><li><span>Azure.AI.Agents.Persistent, 1.2.0-beta.5</span></li><li><span>Azure.Identity, 1.15.0</span></li><li><span>System.Linq.Async, 6.0.3</span></li></ul></div></div>"
      ]
     },
     "metadata": {},
     "output_type": "display_data"
    }
   ],
   "source": [
    "#r \"nuget: Azure.AI.Agents.Persistent, 1.2.0-beta.5\"\n",
    "#r \"nuget: Azure.Identity, 1.15.0\"\n",
    "#r \"nuget: System.Linq.Async, 6.0.3\""
   ]
  },
  {
   "cell_type": "code",
   "execution_count": 3,
   "id": "2363ae07",
   "metadata": {
    "language_info": {
     "name": "polyglot-notebook"
    },
    "polyglot_notebook": {
     "kernelName": "csharp"
    }
   },
   "outputs": [],
   "source": []
  },
  {
   "cell_type": "code",
   "execution_count": null,
   "id": "d10cec9d",
   "metadata": {
    "language_info": {
     "name": "polyglot-notebook"
    },
    "polyglot_notebook": {
     "kernelName": "csharp"
    }
   },
   "outputs": [
    {
     "data": {
      "text/html": [
       "<div><div></div><div></div><div><strong>Installed Packages</strong><ul><li><span>Microsoft.Agents.AI.AzureAI, 1.0.0-preview.251001.2</span></li></ul></div></div>"
      ]
     },
     "metadata": {},
     "output_type": "display_data"
    }
   ],
   "source": [
    "#r \"nuget: Microsoft.Agents.AI.AzureAI, 1.0.0-preview.251001.3\""
   ]
  },
  {
   "cell_type": "code",
   "execution_count": null,
   "id": "78199d1c",
   "metadata": {
    "language_info": {
     "name": "polyglot-notebook"
    },
    "polyglot_notebook": {
     "kernelName": "csharp"
    }
   },
   "outputs": [
    {
     "data": {
      "text/html": [
       "<div><div></div><div></div><div><strong>Installed Packages</strong><ul><li><span>microsoft.agents.ai, 1.0.0-preview.251001.2</span></li></ul></div></div>"
      ]
     },
     "metadata": {},
     "output_type": "display_data"
    }
   ],
   "source": [
    "#r \"nuget: Microsoft.Agents.AI, 1.0.0-preview.251001.3\""
   ]
  },
  {
   "cell_type": "code",
   "execution_count": 6,
   "id": "7de4684a",
   "metadata": {
    "language_info": {
     "name": "polyglot-notebook"
    },
    "polyglot_notebook": {
     "kernelName": "csharp"
    }
   },
   "outputs": [
    {
     "data": {
      "text/html": [
       "<div><div></div><div></div><div><strong>Installed Packages</strong><ul><li><span>DotNetEnv, 3.1.1</span></li></ul></div></div>"
      ]
     },
     "metadata": {},
     "output_type": "display_data"
    }
   ],
   "source": [
    "#r \"nuget: DotNetEnv, 3.1.1\""
   ]
  },
  {
   "cell_type": "code",
   "execution_count": 7,
   "id": "251efd31",
   "metadata": {
    "language_info": {
     "name": "polyglot-notebook"
    },
    "polyglot_notebook": {
     "kernelName": "csharp"
    }
   },
   "outputs": [],
   "source": [
    "using System;\n",
    "using System.Linq;\n",
    "using Azure.AI.Agents.Persistent;\n",
    "using Azure.Identity;\n",
    "using Microsoft.Agents.AI;"
   ]
  },
  {
   "cell_type": "code",
   "execution_count": 8,
   "id": "a2e342f1",
   "metadata": {
    "language_info": {
     "name": "polyglot-notebook"
    },
    "polyglot_notebook": {
     "kernelName": "csharp"
    }
   },
   "outputs": [],
   "source": [
    " using DotNetEnv;"
   ]
  },
  {
   "cell_type": "code",
   "execution_count": 9,
   "id": "a7a01653",
   "metadata": {
    "language_info": {
     "name": "polyglot-notebook"
    },
    "polyglot_notebook": {
     "kernelName": "csharp"
    }
   },
   "outputs": [],
   "source": [
    "Env.Load(\"../../../.env\");"
   ]
  },
  {
   "cell_type": "code",
   "execution_count": 10,
   "id": "a42735d5",
   "metadata": {
    "language_info": {
     "name": "polyglot-notebook"
    },
    "polyglot_notebook": {
     "kernelName": "csharp"
    }
   },
   "outputs": [],
   "source": [
    "var azure_foundry_endpoint = Environment.GetEnvironmentVariable(\"AZURE_AI_PROJECT_ENDPOINT\") ?? throw new InvalidOperationException(\"AZURE_AI_PROJECT_ENDPOINT is not set.\");\n",
    "var azure_foundry_model_id = Environment.GetEnvironmentVariable(\"AZURE_AI_MODEL_DEPLOYMENT_NAME\") ?? \"gpt-4.1-mini\";"
   ]
  },
  {
   "cell_type": "code",
   "execution_count": 11,
   "id": "e29bdb58",
   "metadata": {
    "language_info": {
     "name": "polyglot-notebook"
    },
    "polyglot_notebook": {
     "kernelName": "csharp"
    }
   },
   "outputs": [],
   "source": [
    "string pdfPath = \"./document.md\";"
   ]
  },
  {
   "cell_type": "code",
   "execution_count": 12,
   "id": "7351e12d",
   "metadata": {
    "language_info": {
     "name": "polyglot-notebook"
    },
    "polyglot_notebook": {
     "kernelName": "csharp"
    }
   },
   "outputs": [],
   "source": [
    "using System.IO;\n",
    "\n",
    "async Task<Stream> OpenImageStreamAsync(string path)\n",
    "{\n",
    "\treturn await Task.Run(() => File.OpenRead(path));\n",
    "}\n",
    "\n",
    "var pdfStream = await OpenImageStreamAsync(pdfPath);"
   ]
  },
  {
   "cell_type": "code",
   "execution_count": 13,
   "id": "0b6bf484",
   "metadata": {
    "language_info": {
     "name": "polyglot-notebook"
    },
    "polyglot_notebook": {
     "kernelName": "csharp"
    }
   },
   "outputs": [],
   "source": [
    "var persistentAgentsClient = new PersistentAgentsClient(azure_foundry_endpoint, new AzureCliCredential());"
   ]
  },
  {
   "cell_type": "code",
   "execution_count": 14,
   "id": "81e0dddc",
   "metadata": {
    "language_info": {
     "name": "polyglot-notebook"
    },
    "polyglot_notebook": {
     "kernelName": "csharp"
    }
   },
   "outputs": [],
   "source": [
    "PersistentAgentFileInfo fileInfo = await persistentAgentsClient.Files.UploadFileAsync(pdfStream, PersistentAgentFilePurpose.Agents, \"demo.md\");"
   ]
  },
  {
   "cell_type": "code",
   "execution_count": 15,
   "id": "f0c75d80",
   "metadata": {
    "language_info": {
     "name": "polyglot-notebook"
    },
    "polyglot_notebook": {
     "kernelName": "csharp"
    }
   },
   "outputs": [],
   "source": [
    "PersistentAgentsVectorStore fileStore =\n",
    "            await persistentAgentsClient.VectorStores.CreateVectorStoreAsync(\n",
    "                [fileInfo.Id],\n",
    "                metadata: new Dictionary<string, string>() { { \"agentkey\", bool.TrueString } });"
   ]
  },
  {
   "cell_type": "code",
   "execution_count": 16,
   "id": "c77986c5",
   "metadata": {
    "language_info": {
     "name": "polyglot-notebook"
    },
    "polyglot_notebook": {
     "kernelName": "csharp"
    }
   },
   "outputs": [],
   "source": [
    "PersistentAgent agentModel = await persistentAgentsClient.Administration.CreateAgentAsync(\n",
    "            azure_foundry_model_id,\n",
    "            name: \"DotNetRAGAgent\",\n",
    "            tools: [new FileSearchToolDefinition()],\n",
    "            instructions: \"\"\"\n",
    "                You are an AI assistant designed to answer user questions using only the information retrieved from the provided document(s).\n",
    "\n",
    "                - If a user's question cannot be answered using the retrieved context, **you must clearly respond**: \n",
    "                \"I'm sorry, but the uploaded document does not contain the necessary information to answer that question.\"\n",
    "                - Do not answer from general knowledge or reasoning. Do not make assumptions or generate hypothetical explanations.\n",
    "                - Do not provide definitions, tutorials, or commentary that is not explicitly grounded in the content of the uploaded file(s).\n",
    "                - If a user asks a question like \"What is a Neural Network?\", and this is not discussed in the uploaded document, respond as instructed above.\n",
    "                - For questions that do have relevant content in the document (e.g., Contoso's travel insurance coverage), respond accurately, and cite the document explicitly.\n",
    "\n",
    "                You must behave as if you have no external knowledge beyond what is retrieved from the uploaded document.\n",
    "                \"\"\",\n",
    "            toolResources: new()\n",
    "            {\n",
    "                FileSearch = new()\n",
    "                {\n",
    "                    VectorStoreIds = { fileStore.Id },\n",
    "                }\n",
    "            },\n",
    "            metadata: new Dictionary<string, string>() { { \"agentkey\", bool.TrueString } });"
   ]
  },
  {
   "cell_type": "code",
   "execution_count": 17,
   "id": "282326cf",
   "metadata": {
    "language_info": {
     "name": "polyglot-notebook"
    },
    "polyglot_notebook": {
     "kernelName": "csharp"
    }
   },
   "outputs": [],
   "source": [
    "AIAgent agent = await persistentAgentsClient.GetAIAgentAsync(agentModel.Id);"
   ]
  },
  {
   "cell_type": "code",
   "execution_count": 18,
   "id": "2067d313",
   "metadata": {
    "language_info": {
     "name": "polyglot-notebook"
    },
    "polyglot_notebook": {
     "kernelName": "csharp"
    }
   },
   "outputs": [],
   "source": [
    "AgentThread thread = agent.GetNewThread();"
   ]
  },
  {
   "cell_type": "code",
   "execution_count": 19,
   "id": "454c4230",
   "metadata": {
    "language_info": {
     "name": "polyglot-notebook"
    },
    "polyglot_notebook": {
     "kernelName": "csharp"
    }
   },
   "outputs": [
    {
     "name": "stdout",
     "output_type": "stream",
     "text": [
      "Contoso's travel insurance coverage includes protection for medical emergencies, trip cancellations, and lost baggage. This ensures that travelers are supported in case of health-related issues during their trip, unforeseen cancellations, and the loss of their belongings while traveling【4:0†demo.md】.\r\n"
     ]
    }
   ],
   "source": [
    "Console.WriteLine(await agent.RunAsync(\"Can you explain Contoso's travel insurance coverage?\", thread));"
   ]
  },
  {
   "cell_type": "markdown",
   "metadata": {},
   "source": [
    "\n---\n\n**اعلانِ لاتعلقی**:  \nیہ دستاویز AI ترجمہ سروس [Co-op Translator](https://github.com/Azure/co-op-translator) کا استعمال کرتے ہوئے ترجمہ کی گئی ہے۔ ہم درستگی کے لیے کوشش کرتے ہیں، لیکن براہ کرم آگاہ رہیں کہ خودکار ترجمے میں غلطیاں یا عدم درستگی ہو سکتی ہیں۔ اصل دستاویز کو اس کی اصل زبان میں مستند ذریعہ سمجھا جانا چاہیے۔ اہم معلومات کے لیے، پیشہ ور انسانی ترجمہ کی سفارش کی جاتی ہے۔ اس ترجمے کے استعمال سے پیدا ہونے والی کسی بھی غلط فہمی یا غلط تشریح کے لیے ہم ذمہ دار نہیں ہیں۔\n"
   ]
  }
 ],
 "metadata": {
  "kernelspec": {
   "display_name": ".NET (C#)",
   "language": "C#",
   "name": ".net-csharp"
  },
  "language_info": {
   "name": "polyglot-notebook"
  },
  "polyglot_notebook": {
   "kernelInfo": {
    "defaultKernelName": "csharp",
    "items": [
     {
      "aliases": [],
      "name": "csharp"
     }
    ]
   }
  },
  "coopTranslator": {
   "original_hash": "e4584fa31638009dc6fb665275de8fc2",
   "translation_date": "2025-10-02T11:19:26+00:00",
   "source_file": "05-agentic-rag/code_samples/05-dotnet-agent-framework.ipynb",
   "language_code": "ur"
  }
 },
 "nbformat": 4,
 "nbformat_minor": 5
}