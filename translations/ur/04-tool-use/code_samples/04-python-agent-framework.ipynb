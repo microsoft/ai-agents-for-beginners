{
 "cells": [
  {
   "cell_type": "markdown",
   "id": "8744544f",
   "metadata": {},
   "source": [
    "# 🛠️ GitHub ماڈلز کے ساتھ جدید ٹول استعمال (Python)\n",
    "\n",
    "## 📋 سیکھنے کے مقاصد\n",
    "\n",
    "یہ نوٹ بک Microsoft Agent Framework کے ساتھ GitHub ماڈلز کا استعمال کرتے ہوئے جدید ٹول انضمام کے نمونے پیش کرتی ہے۔ آپ سیکھیں گے کہ متعدد ٹولز کو کیسے بنانا، منظم کرنا اور ان کے ذریعے پیچیدہ ایجنٹ صلاحیتیں تیار کرنا ہے۔\n",
    "\n",
    "**آپ کیا سیکھیں گے:**\n",
    "- 🔧 **ملٹی ٹول آرکیٹیکچر**: متعدد مخصوص ٹولز کے ساتھ ایجنٹس بنانا\n",
    "- 🎯 **ٹول انتخاب کی منطق**: ایجنٹس ہر کام کے لیے صحیح ٹول کا انتخاب کیسے کرتے ہیں\n",
    "- 📊 **ڈیٹا پروسیسنگ ٹولز**: مختلف ڈیٹا اقسام کو سنبھالنے والے ٹولز بنانا\n",
    "- 🔗 **ٹول کمپوزیشن**: پیچیدہ ورک فلو کے لیے ٹولز کو یکجا کرنا\n",
    "\n",
    "## 🎯 کلیدی ٹول نمونے\n",
    "\n",
    "### ٹول ڈیزائن اصول\n",
    "- **سنگل ذمہ داری**: ہر ٹول کا واضح اور مرکوز مقصد ہونا چاہیے\n",
    "- **ٹائپ سیفٹی**: قابل اعتماد ٹول عمل درآمد کے لیے مضبوط ٹائپنگ\n",
    "- **غلطی سے نمٹنا**: ناکامی اور بحالی کے نمونے\n",
    "- **کمپوزیبلٹی**: ایسے ٹولز جو ایک دوسرے کے ساتھ اچھے سے کام کریں\n",
    "\n",
    "### جدید ٹول خصوصیات\n",
    "- **سیاق و سباق کی آگاہی**: ایسے ٹولز جو گفتگو کے سیاق و سباق کو سمجھتے ہیں\n",
    "- **ڈیٹا کی توثیق**: ان پٹ کی صفائی اور آؤٹ پٹ کی توثیق\n",
    "- **کارکردگی کی اصلاح**: مؤثر ٹول عمل درآمد کے نمونے\n",
    "- **توسیع پذیری**: نئے ٹول صلاحیتوں کا آسان اضافہ\n",
    "\n",
    "## 🔧 تکنیکی آرکیٹیکچر\n",
    "\n",
    "### بنیادی اجزاء\n",
    "- **Microsoft Agent Framework**: Python میں جدید ٹول سپورٹ کے ساتھ عمل درآمد\n",
    "- **GitHub Models Integration**: اعلی کارکردگی والے لینگویج ماڈل تک رسائی\n",
    "- **ٹول رجسٹری سسٹم**: ایجنٹ صلاحیتوں کا منظم انتظام\n",
    "- **غلطی سے بحالی کے نمونے**: ٹول عمل درآمد کی ناکامیوں کا مضبوط انتظام\n",
    "\n",
    "### ٹول انضمام کا بہاؤ\n",
    "```python\n",
    "User Request → Agent Analysis → Tool Selection → Tool Execution → Response Synthesis\n",
    "```\n",
    "\n",
    "## 🛠️ دکھائے گئے ٹول کیٹیگریز\n",
    "\n",
    "### 1. **ڈیٹا جنریشن ٹولز**\n",
    "- رینڈم منزل جنریٹر\n",
    "- موسم کی معلومات فراہم کرنے والا  \n",
    "- سفر کی لاگت کا حساب لگانے والا\n",
    "- سرگرمی کی سفارش کرنے والا انجن\n",
    "\n",
    "### 2. **پروسیسنگ ٹولز**\n",
    "- متن کی فارمیٹنگ اور توثیق\n",
    "- ڈیٹا کی تبدیلی کے آلات\n",
    "- مواد کے تجزیہ کے افعال\n",
    "- جواب کو بہتر بنانے والے ٹولز\n",
    "\n",
    "### 3. **انضمام کے ٹولز**\n",
    "- بیرونی API کنیکٹرز\n",
    "- فائل سسٹم آپریشنز\n",
    "- ڈیٹا بیس کوئری انٹرفیس\n",
    "- ویب اسکریپنگ کے آلات\n",
    "\n",
    "## ⚙️ ضروریات اور سیٹ اپ\n",
    "\n",
    "**ضروری ڈپینڈنسز:**\n",
    "```bash\n",
    "\n",
    "pip install agent-framework-core -U\n",
    "```\n",
    "\n",
    "**ماحول کی ترتیب (.env فائل):**\n",
    "```env\n",
    "GITHUB_TOKEN=your_github_personal_access_token\n",
    "GITHUB_ENDPOINT=https://models.inference.ai.azure.com\n",
    "GITHUB_MODEL_ID=gpt-4o-mini\n",
    "```\n",
    "\n",
    "**اختیاری APIs:**\n",
    "- موسم سروس API کی (موسم کے ٹولز کے لیے)\n",
    "- کرنسی تبدیلی API تک رسائی\n",
    "- سفر کی معلومات سروس کی اسناد\n",
    "\n",
    "## 🎨 ڈیزائن نمونے\n",
    "\n",
    "### ٹول فیکٹری پیٹرن\n",
    "- ٹول کی تخلیق اور ترتیب کا مرکزی انتظام\n",
    "- مستقل ٹول انٹرفیس ڈیزائن\n",
    "- ٹول رجسٹریشن اور دریافت میں آسانی\n",
    "\n",
    "### کمانڈ پیٹرن\n",
    "- ٹول عمل درآمد کی منطق کو انکیپسولیٹ کرنا\n",
    "- پیچیدہ آپریشنز کے لیے انڈو/ریڈو کی فعالیت\n",
    "- ٹول استعمال کے لیے آڈٹ لاگنگ\n",
    "\n",
    "### آبزرور پیٹرن\n",
    "- ٹول عمل درآمد کی نگرانی\n",
    "- کارکردگی میٹرکس کا جمع کرنا\n",
    "- غلطی کی رپورٹنگ اور الرٹنگ\n",
    "\n",
    "## 🚀 بہترین طریقے\n",
    "\n",
    "- **ٹول دستاویزات**: ایجنٹ کی سمجھ کے لیے واضح وضاحتیں\n",
    "- **ان پٹ کی توثیق**: مضبوط پیرامیٹر چیکنگ اور صفائی\n",
    "- **آؤٹ پٹ فارمیٹنگ**: مستقل اور قابل تجزیہ ٹول جوابات\n",
    "- **غلطی کے پیغامات**: ڈیبگنگ کے لیے مددگار غلطی کی معلومات\n",
    "- **کارکردگی**: جوابدہی کے لیے بہتر ٹول عمل درآمد\n",
    "\n",
    "طاقتور ٹول صلاحیتوں کے ساتھ ایجنٹس بنانے کے لیے تیار ہیں؟ آئیے کچھ حیرت انگیز تخلیق کریں! ⚡\n"
   ]
  },
  {
   "cell_type": "code",
   "execution_count": null,
   "id": "59c0feeb",
   "metadata": {},
   "outputs": [],
   "source": [
    "! pip install agent-framework-core -U"
   ]
  },
  {
   "cell_type": "code",
   "execution_count": null,
   "id": "c0df8a52",
   "metadata": {},
   "outputs": [],
   "source": [
    "# � Import core dependencies for Agent Framework and tool integration\n",
    "# This sets up the essential libraries for building intelligent agents with tool capabilities\n",
    "\n",
    "import asyncio\n",
    "import os\n",
    "import json\n",
    "\n",
    "from dotenv import load_dotenv  # For loading environment variables securely\n",
    "from random import randint\n",
    "\n",
    "# These are the core components for building tool-enabled agents\n",
    "from agent_framework import ChatAgent           # Main agent class\n",
    "from agent_framework.openai import OpenAIChatClient  # OpenAI-compatible client"
   ]
  },
  {
   "cell_type": "code",
   "execution_count": null,
   "id": "24c10eb0",
   "metadata": {},
   "outputs": [],
   "source": [
    "load_dotenv()"
   ]
  },
  {
   "cell_type": "code",
   "execution_count": null,
   "id": "151e0314",
   "metadata": {},
   "outputs": [],
   "source": [
    "# 🔑 Environment variables verification\n",
    "# Ensure all required GitHub Models credentials are properly configured\n",
    "print(\"GITHUB_ENDPOINT:\", os.environ.get(\"GITHUB_ENDPOINT\"))\n",
    "print(\"GITHUB_TOKEN:\", \"***\" if os.environ.get(\"GITHUB_TOKEN\") else \"Not set\")\n",
    "print(\"GITHUB_MODEL_ID:\", os.environ.get(\"GITHUB_MODEL_ID\"))"
   ]
  },
  {
   "cell_type": "code",
   "execution_count": null,
   "id": "a6141584",
   "metadata": {},
   "outputs": [],
   "source": [
    "# 🧪 Test GitHub Models connectivity\n",
    "openai_chat_client = OpenAIChatClient(base_url=os.environ.get(\"GITHUB_ENDPOINT\"), api_key=os.environ.get(\"GITHUB_TOKEN\"), model_id=os.environ.get(\"GITHUB_MODEL_ID\"))"
   ]
  },
  {
   "cell_type": "code",
   "execution_count": null,
   "id": "a6507f83",
   "metadata": {},
   "outputs": [],
   "source": [
    "# 🛠️ Define travel planning tools for agent integration\n",
    "# These functions provide specific capabilities that the agent can invoke dynamically\n",
    "\n",
    "def get_random_destination() -> str:\n",
    "    \"\"\"\n",
    "    🎲 Random destination generator tool\n",
    "    Returns a randomly selected travel destination from curated list\n",
    "    Useful when customers need inspiration for their next vacation\n",
    "    \"\"\"\n",
    "    destinations = [\n",
    "        \"Paris, France\",\n",
    "        \"Tokyo, Japan\", \n",
    "        \"New York City, USA\",\n",
    "        \"London, England\",\n",
    "        \"Rome, Italy\",\n",
    "        \"Sydney, Australia\",\n",
    "        \"Dubai, UAE\",\n",
    "        \"Barcelona, Spain\",\n",
    "        \"Bangkok, Thailand\",\n",
    "        \"Amsterdam, Netherlands\",\n",
    "        \"Istanbul, Turkey\",\n",
    "        \"Prague, Czech Republic\",\n",
    "        \"Santorini, Greece\",\n",
    "        \"Reykjavik, Iceland\",\n",
    "        \"Marrakech, Morocco\",\n",
    "        \"Cape Town, South Africa\",\n",
    "        \"Rio de Janeiro, Brazil\",\n",
    "        \"Bali, Indonesia\"\n",
    "    ]\n",
    "    # 🎯 Return random selection from the curated destination list\n",
    "    return destinations[randint(0, len(destinations) - 1)]"
   ]
  },
  {
   "cell_type": "code",
   "execution_count": null,
   "id": "5d4f0568",
   "metadata": {},
   "outputs": [],
   "source": [
    "# 🔗 Initialize GitHub Models chat client for agent communication\n",
    "# Creates the primary interface between the agent and the language model\n",
    "openai_chat_client = OpenAIChatClient(base_url=os.environ.get(\"GITHUB_ENDPOINT\"), api_key=os.environ.get(\"GITHUB_TOKEN\"), model_id=os.environ.get(\"GITHUB_MODEL_ID\"))"
   ]
  },
  {
   "cell_type": "code",
   "execution_count": null,
   "id": "751668c5",
   "metadata": {},
   "outputs": [],
   "source": [
    "# 🤖 Configure travel agent identity and behavioral instructions\n",
    "# Define the agent's personality, capabilities, and operational guidelines\n",
    "\n",
    "AGENT_NAME = \"TravelAgent\"\n",
    "\n",
    "AGENT_INSTRUCTIONS = \"\"\"You are a helpful AI Agent that can help plan vacations for customers at random destinations\n",
    "\"\"\""
   ]
  },
  {
   "cell_type": "code",
   "execution_count": null,
   "id": "be18ac4f",
   "metadata": {},
   "outputs": [],
   "source": [
    "agent = ChatAgent(\n",
    "        name = AGENT_NAME,\n",
    "        chat_client=openai_chat_client,\n",
    "        instructions=AGENT_INSTRUCTIONS,\n",
    "        tools=[get_random_destination]\n",
    ")"
   ]
  },
  {
   "cell_type": "code",
   "execution_count": null,
   "id": "772e9481",
   "metadata": {},
   "outputs": [],
   "source": [
    "thread = agent.get_new_thread()"
   ]
  },
  {
   "cell_type": "code",
   "execution_count": null,
   "id": "a731b547",
   "metadata": {},
   "outputs": [],
   "source": [
    "response1 = await agent.run(\"Plan me a day trip\",thread= thread)"
   ]
  },
  {
   "cell_type": "code",
   "execution_count": null,
   "id": "7d3fe00a",
   "metadata": {},
   "outputs": [],
   "source": [
    "\n",
    "last_message = response1.messages[-1]\n",
    "text_content = last_message.contents[0].text\n",
    "print(\"Travel plan:\")\n",
    "print(text_content)"
   ]
  },
  {
   "cell_type": "markdown",
   "metadata": {},
   "source": [
    "\n---\n\n**ڈسکلیمر**:  \nیہ دستاویز AI ترجمہ سروس [Co-op Translator](https://github.com/Azure/co-op-translator) کا استعمال کرتے ہوئے ترجمہ کی گئی ہے۔ ہم درستگی کے لیے کوشش کرتے ہیں، لیکن براہ کرم آگاہ رہیں کہ خودکار ترجمے میں غلطیاں یا غیر درستیاں ہو سکتی ہیں۔ اصل دستاویز کو اس کی اصل زبان میں مستند ذریعہ سمجھا جانا چاہیے۔ اہم معلومات کے لیے، پیشہ ور انسانی ترجمہ کی سفارش کی جاتی ہے۔ ہم اس ترجمے کے استعمال سے پیدا ہونے والی کسی بھی غلط فہمی یا غلط تشریح کے ذمہ دار نہیں ہیں۔\n"
   ]
  }
 ],
 "metadata": {
  "kernelspec": {
   "display_name": "agentenv",
   "language": "python",
   "name": "python3"
  },
  "language_info": {
   "codemirror_mode": {
    "name": "ipython",
    "version": 3
   },
   "file_extension": ".py",
   "mimetype": "text/x-python",
   "name": "python",
   "nbconvert_exporter": "python",
   "pygments_lexer": "ipython3",
   "version": "3.12.10"
  },
  "polyglot_notebook": {
   "kernelInfo": {
    "defaultKernelName": "csharp",
    "items": [
     {
      "aliases": [],
      "name": "csharp"
     }
    ]
   }
  },
  "coopTranslator": {
   "original_hash": "42966ddac53cebaf0ac1ce33b2ee7059",
   "translation_date": "2025-10-02T11:42:55+00:00",
   "source_file": "04-tool-use/code_samples/04-python-agent-framework.ipynb",
   "language_code": "ur"
  }
 },
 "nbformat": 4,
 "nbformat_minor": 5
}