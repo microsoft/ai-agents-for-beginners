{
 "cells": [
  {
   "cell_type": "markdown",
   "id": "8744544f",
   "metadata": {},
   "source": [
    "# 🛠️ Napredno korištenje alata s GitHub modelima (Python)\n",
    "\n",
    "## 📋 Ciljevi učenja\n",
    "\n",
    "Ovaj notebook prikazuje napredne obrasce integracije alata koristeći Microsoft Agent Framework s GitHub modelima. Naučit ćete kako kreirati, upravljati i orkestrirati više alata za izgradnju sofisticiranih mogućnosti agenata.\n",
    "\n",
    "**Što ćete savladati:**\n",
    "- 🔧 **Arhitektura s više alata**: Izgradnja agenata s više specijaliziranih alata\n",
    "- 🎯 **Logika odabira alata**: Kako agenti biraju pravi alat za svaki zadatak\n",
    "- 📊 **Alati za obradu podataka**: Kreiranje alata koji obrađuju različite vrste podataka\n",
    "- 🔗 **Kombinacija alata**: Spajanje alata za složene radne procese\n",
    "\n",
    "## 🎯 Ključni obrasci alata\n",
    "\n",
    "### Principi dizajna alata\n",
    "- **Jednostavna odgovornost**: Svaki alat ima jasnu, fokusiranu svrhu\n",
    "- **Sigurnost tipova**: Snažno tipiziranje za pouzdano izvršavanje alata\n",
    "- **Rukovanje greškama**: Elegantni obrasci za neuspjeh i oporavak\n",
    "- **Složivost**: Alati koji dobro surađuju\n",
    "\n",
    "### Napredne značajke alata\n",
    "- **Svjesnost konteksta**: Alati koji razumiju kontekst razgovora\n",
    "- **Validacija podataka**: Sanitizacija ulaza i validacija izlaza\n",
    "- **Optimizacija performansi**: Učinkoviti obrasci izvršavanja alata\n",
    "- **Proširivost**: Jednostavno dodavanje novih mogućnosti alata\n",
    "\n",
    "## 🔧 Tehnička arhitektura\n",
    "\n",
    "### Osnovne komponente\n",
    "- **Microsoft Agent Framework**: Python implementacija s podrškom za napredne alate\n",
    "- **Integracija GitHub modela**: Pristup modelima jezika visokih performansi\n",
    "- **Sustav registracije alata**: Organizirano upravljanje mogućnostima agenata\n",
    "- **Obrasci oporavka od grešaka**: Robusno rukovanje neuspjesima izvršavanja alata\n",
    "\n",
    "### Tok integracije alata\n",
    "```python\n",
    "User Request → Agent Analysis → Tool Selection → Tool Execution → Response Synthesis\n",
    "```\n",
    "\n",
    "## 🛠️ Kategorije alata prikazane\n",
    "\n",
    "### 1. **Alati za generiranje podataka**\n",
    "- Generator nasumičnih destinacija\n",
    "- Pružatelj informacija o vremenu  \n",
    "- Kalkulator troškova putovanja\n",
    "- Preporučitelj aktivnosti\n",
    "\n",
    "### 2. **Alati za obradu**\n",
    "- Formatiranje i validacija teksta\n",
    "- Alati za transformaciju podataka\n",
    "- Funkcije za analizu sadržaja\n",
    "- Alati za poboljšanje odgovora\n",
    "\n",
    "### 3. **Alati za integraciju**\n",
    "- Poveznici za vanjske API-je\n",
    "- Operacije datotečnog sustava\n",
    "- Sučelja za upite baze podataka\n",
    "- Alati za web scraping\n",
    "\n",
    "## ⚙️ Preduvjeti i postavljanje\n",
    "\n",
    "\n",
    "**Potrebne ovisnosti:**\n",
    "```bash\n",
    "\n",
    "pip install agent-framework-core -U\n",
    "```\n",
    "\n",
    "**Konfiguracija okruženja (.env datoteka):**\n",
    "```env\n",
    "GITHUB_TOKEN=your_github_personal_access_token\n",
    "GITHUB_ENDPOINT=https://models.inference.ai.azure.com\n",
    "GITHUB_MODEL_ID=gpt-4o-mini\n",
    "```\n",
    "\n",
    "**Opcionalni API-ji:**\n",
    "- API ključ za vremensku prognozu (za alate za vremenske informacije)\n",
    "- Pristup API-ju za konverziju valuta\n",
    "- Podaci za prijavu na servis za informacije o putovanjima\n",
    "\n",
    "## 🎨 Obrasci dizajna\n",
    "\n",
    "### Obrazac tvornice alata\n",
    "- Centralizirano kreiranje i konfiguracija alata\n",
    "- Dosljedan dizajn sučelja alata\n",
    "- Jednostavna registracija i otkrivanje alata\n",
    "\n",
    "### Obrazac naredbe\n",
    "- Logika izvršavanja alata enkapsulirana\n",
    "- Funkcionalnost poništavanja/ponovnog izvršavanja za složene operacije\n",
    "- Evidencija korištenja alata\n",
    "\n",
    "### Obrazac promatrača\n",
    "- Praćenje izvršavanja alata\n",
    "- Prikupljanje metrika performansi\n",
    "- Izvještavanje o greškama i upozorenja\n",
    "\n",
    "## 🚀 Najbolje prakse\n",
    "\n",
    "- **Dokumentacija alata**: Jasni opisi za razumijevanje agenata\n",
    "- **Validacija ulaza**: Robusna provjera parametara i sanitizacija\n",
    "- **Formatiranje izlaza**: Dosljedni, parsabilni odgovori alata\n",
    "- **Poruke o greškama**: Korisne informacije o greškama za otklanjanje problema\n",
    "- **Performanse**: Optimizirano izvršavanje alata za brzi odziv\n",
    "\n",
    "Spremni za izgradnju agenata s moćnim mogućnostima alata? Stvorimo nešto nevjerojatno! ⚡\n"
   ]
  },
  {
   "cell_type": "code",
   "execution_count": null,
   "id": "59c0feeb",
   "metadata": {},
   "outputs": [],
   "source": [
    "! pip install agent-framework-core -U"
   ]
  },
  {
   "cell_type": "code",
   "execution_count": null,
   "id": "c0df8a52",
   "metadata": {},
   "outputs": [],
   "source": [
    "# � Import core dependencies for Agent Framework and tool integration\n",
    "# This sets up the essential libraries for building intelligent agents with tool capabilities\n",
    "\n",
    "import asyncio\n",
    "import os\n",
    "import json\n",
    "\n",
    "from dotenv import load_dotenv  # For loading environment variables securely\n",
    "from random import randint\n",
    "\n",
    "# These are the core components for building tool-enabled agents\n",
    "from agent_framework import ChatAgent           # Main agent class\n",
    "from agent_framework.openai import OpenAIChatClient  # OpenAI-compatible client"
   ]
  },
  {
   "cell_type": "code",
   "execution_count": null,
   "id": "24c10eb0",
   "metadata": {},
   "outputs": [],
   "source": [
    "load_dotenv()"
   ]
  },
  {
   "cell_type": "code",
   "execution_count": null,
   "id": "151e0314",
   "metadata": {},
   "outputs": [],
   "source": [
    "# 🔑 Environment variables verification\n",
    "# Ensure all required GitHub Models credentials are properly configured\n",
    "print(\"GITHUB_ENDPOINT:\", os.environ.get(\"GITHUB_ENDPOINT\"))\n",
    "print(\"GITHUB_TOKEN:\", \"***\" if os.environ.get(\"GITHUB_TOKEN\") else \"Not set\")\n",
    "print(\"GITHUB_MODEL_ID:\", os.environ.get(\"GITHUB_MODEL_ID\"))"
   ]
  },
  {
   "cell_type": "code",
   "execution_count": null,
   "id": "a6141584",
   "metadata": {},
   "outputs": [],
   "source": [
    "# 🧪 Test GitHub Models connectivity\n",
    "openai_chat_client = OpenAIChatClient(base_url=os.environ.get(\"GITHUB_ENDPOINT\"), api_key=os.environ.get(\"GITHUB_TOKEN\"), model_id=os.environ.get(\"GITHUB_MODEL_ID\"))"
   ]
  },
  {
   "cell_type": "code",
   "execution_count": null,
   "id": "a6507f83",
   "metadata": {},
   "outputs": [],
   "source": [
    "# 🛠️ Define travel planning tools for agent integration\n",
    "# These functions provide specific capabilities that the agent can invoke dynamically\n",
    "\n",
    "def get_random_destination() -> str:\n",
    "    \"\"\"\n",
    "    🎲 Random destination generator tool\n",
    "    Returns a randomly selected travel destination from curated list\n",
    "    Useful when customers need inspiration for their next vacation\n",
    "    \"\"\"\n",
    "    destinations = [\n",
    "        \"Paris, France\",\n",
    "        \"Tokyo, Japan\", \n",
    "        \"New York City, USA\",\n",
    "        \"London, England\",\n",
    "        \"Rome, Italy\",\n",
    "        \"Sydney, Australia\",\n",
    "        \"Dubai, UAE\",\n",
    "        \"Barcelona, Spain\",\n",
    "        \"Bangkok, Thailand\",\n",
    "        \"Amsterdam, Netherlands\",\n",
    "        \"Istanbul, Turkey\",\n",
    "        \"Prague, Czech Republic\",\n",
    "        \"Santorini, Greece\",\n",
    "        \"Reykjavik, Iceland\",\n",
    "        \"Marrakech, Morocco\",\n",
    "        \"Cape Town, South Africa\",\n",
    "        \"Rio de Janeiro, Brazil\",\n",
    "        \"Bali, Indonesia\"\n",
    "    ]\n",
    "    # 🎯 Return random selection from the curated destination list\n",
    "    return destinations[randint(0, len(destinations) - 1)]"
   ]
  },
  {
   "cell_type": "code",
   "execution_count": null,
   "id": "5d4f0568",
   "metadata": {},
   "outputs": [],
   "source": [
    "# 🔗 Initialize GitHub Models chat client for agent communication\n",
    "# Creates the primary interface between the agent and the language model\n",
    "openai_chat_client = OpenAIChatClient(base_url=os.environ.get(\"GITHUB_ENDPOINT\"), api_key=os.environ.get(\"GITHUB_TOKEN\"), model_id=os.environ.get(\"GITHUB_MODEL_ID\"))"
   ]
  },
  {
   "cell_type": "code",
   "execution_count": null,
   "id": "751668c5",
   "metadata": {},
   "outputs": [],
   "source": [
    "# 🤖 Configure travel agent identity and behavioral instructions\n",
    "# Define the agent's personality, capabilities, and operational guidelines\n",
    "\n",
    "AGENT_NAME = \"TravelAgent\"\n",
    "\n",
    "AGENT_INSTRUCTIONS = \"\"\"You are a helpful AI Agent that can help plan vacations for customers at random destinations\n",
    "\"\"\""
   ]
  },
  {
   "cell_type": "code",
   "execution_count": null,
   "id": "be18ac4f",
   "metadata": {},
   "outputs": [],
   "source": [
    "agent = ChatAgent(\n",
    "        name = AGENT_NAME,\n",
    "        chat_client=openai_chat_client,\n",
    "        instructions=AGENT_INSTRUCTIONS,\n",
    "        tools=[get_random_destination]\n",
    ")"
   ]
  },
  {
   "cell_type": "code",
   "execution_count": null,
   "id": "772e9481",
   "metadata": {},
   "outputs": [],
   "source": [
    "thread = agent.get_new_thread()"
   ]
  },
  {
   "cell_type": "code",
   "execution_count": null,
   "id": "a731b547",
   "metadata": {},
   "outputs": [],
   "source": [
    "response1 = await agent.run(\"Plan me a day trip\",thread= thread)"
   ]
  },
  {
   "cell_type": "code",
   "execution_count": null,
   "id": "7d3fe00a",
   "metadata": {},
   "outputs": [],
   "source": [
    "\n",
    "last_message = response1.messages[-1]\n",
    "text_content = last_message.contents[0].text\n",
    "print(\"Travel plan:\")\n",
    "print(text_content)"
   ]
  },
  {
   "cell_type": "markdown",
   "metadata": {},
   "source": [
    "\n---\n\n**Odricanje od odgovornosti**:  \nOvaj dokument je preveden pomoću AI usluge za prevođenje [Co-op Translator](https://github.com/Azure/co-op-translator). Iako nastojimo osigurati točnost, imajte na umu da automatski prijevodi mogu sadržavati pogreške ili netočnosti. Izvorni dokument na izvornom jeziku treba smatrati autoritativnim izvorom. Za ključne informacije preporučuje se profesionalni prijevod od strane čovjeka. Ne preuzimamo odgovornost za nesporazume ili pogrešna tumačenja koja mogu proizaći iz korištenja ovog prijevoda.\n"
   ]
  }
 ],
 "metadata": {
  "kernelspec": {
   "display_name": "agentenv",
   "language": "python",
   "name": "python3"
  },
  "language_info": {
   "codemirror_mode": {
    "name": "ipython",
    "version": 3
   },
   "file_extension": ".py",
   "mimetype": "text/x-python",
   "name": "python",
   "nbconvert_exporter": "python",
   "pygments_lexer": "ipython3",
   "version": "3.12.10"
  },
  "polyglot_notebook": {
   "kernelInfo": {
    "defaultKernelName": "csharp",
    "items": [
     {
      "aliases": [],
      "name": "csharp"
     }
    ]
   }
  },
  "coopTranslator": {
   "original_hash": "42966ddac53cebaf0ac1ce33b2ee7059",
   "translation_date": "2025-10-02T07:04:45+00:00",
   "source_file": "04-tool-use/code_samples/04-python-agent-framework.ipynb",
   "language_code": "hr"
  }
 },
 "nbformat": 4,
 "nbformat_minor": 5
}