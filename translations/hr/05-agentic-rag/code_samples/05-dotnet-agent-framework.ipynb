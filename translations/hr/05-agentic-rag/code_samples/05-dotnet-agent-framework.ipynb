{
 "cells": [
  {
   "cell_type": "markdown",
   "id": "44b5899e",
   "metadata": {},
   "source": [
    "# 🔍 Enterprise RAG s Azure AI Foundry (.NET)\n",
    "\n",
    "## 📋 Ciljevi učenja\n",
    "\n",
    "Ovaj notebook pokazuje kako izgraditi sustave za dohvat i generiranje (RAG) na razini poduzeća koristeći Microsoft Agent Framework u .NET-u s Azure AI Foundry. Naučit ćete kako kreirati agente spremne za produkciju koji mogu pretraživati dokumente i pružati točne, kontekstualno svjesne odgovore uz sigurnost i skalabilnost na razini poduzeća.\n",
    "\n",
    "**Sposobnosti Enterprise RAG-a koje ćete razviti:**\n",
    "- 📚 **Inteligencija dokumenata**: Napredno procesiranje dokumenata uz Azure AI usluge\n",
    "- 🔍 **Semantičko pretraživanje**: Visokoučinkovito pretraživanje vektora s funkcijama za poduzeća\n",
    "- 🛡️ **Integracija sigurnosti**: Pristup temeljen na ulogama i obrasci zaštite podataka\n",
    "- 🏢 **Skalabilna arhitektura**: Sustavi RAG spremni za produkciju s praćenjem\n",
    "\n",
    "## 🎯 Arhitektura Enterprise RAG-a\n",
    "\n",
    "### Ključne komponente za poduzeća\n",
    "- **Azure AI Foundry**: Upravljana AI platforma za poduzeća sa sigurnošću i usklađenošću\n",
    "- **Persistentni agenti**: Agenti sa stanjem koji čuvaju povijest razgovora i upravljanje kontekstom\n",
    "- **Upravljanje vektorskom pohranom**: Indeksiranje i dohvat dokumenata na razini poduzeća\n",
    "- **Integracija identiteta**: Autentifikacija putem Azure AD-a i kontrola pristupa temeljenog na ulogama\n",
    "\n",
    "### Prednosti .NET-a za poduzeća\n",
    "- **Sigurnost tipova**: Provjera valjanosti operacija RAG-a i struktura podataka tijekom kompajliranja\n",
    "- **Asinkrona izvedba**: Neblokirajuće procesiranje dokumenata i operacije pretraživanja\n",
    "- **Upravljanje memorijom**: Učinkovito korištenje resursa za velike kolekcije dokumenata\n",
    "- **Integracijski obrasci**: Izvorna integracija Azure usluga s ubrizgavanjem ovisnosti\n",
    "\n",
    "## 🏗️ Tehnička arhitektura\n",
    "\n",
    "### Enterprise RAG cjevovod\n",
    "```csharp\n",
    "Document Upload → Security Validation → Vector Processing → Index Creation\n",
    "                      ↓                    ↓                  ↓\n",
    "User Query → Authentication → Semantic Search → Context Ranking → AI Response\n",
    "```\n",
    "\n",
    "### Ključne .NET komponente\n",
    "- **Azure.AI.Agents.Persistent**: Upravljanje agentima za poduzeća s očuvanjem stanja\n",
    "- **Azure.Identity**: Integrirana autentifikacija za siguran pristup Azure uslugama\n",
    "- **Microsoft.Agents.AI.AzureAI**: Implementacija okvira za agente optimizirana za Azure\n",
    "- **System.Linq.Async**: Visokoučinkovite asinkrone LINQ operacije\n",
    "\n",
    "## 🔧 Značajke i prednosti za poduzeća\n",
    "\n",
    "### Sigurnost i usklađenost\n",
    "- **Integracija s Azure AD-om**: Upravljanje identitetima i autentifikacija na razini poduzeća\n",
    "- **Pristup temeljen na ulogama**: Precizne dozvole za pristup dokumentima i operacijama\n",
    "- **Zaštita podataka**: Šifriranje u mirovanju i tijekom prijenosa za osjetljive dokumente\n",
    "- **Dnevnik aktivnosti**: Sveobuhvatno praćenje aktivnosti za zahtjeve usklađenosti\n",
    "\n",
    "### Izvedba i skalabilnost\n",
    "- **Upravljanje vezama**: Učinkovito upravljanje vezama s Azure uslugama\n",
    "- **Asinkrono procesiranje**: Neblokirajuće operacije za scenarije visokog protoka\n",
    "- **Strategije predmemoriranja**: Inteligentno predmemoriranje često pristupanih dokumenata\n",
    "- **Ravnoteža opterećenja**: Distribuirano procesiranje za implementacije velikih razmjera\n",
    "\n",
    "### Upravljanje i praćenje\n",
    "- **Provjera zdravlja**: Ugrađeno praćenje komponenti sustava RAG\n",
    "- **Metričke izvedbe**: Detaljna analitika kvalitete pretraživanja i vremena odgovora\n",
    "- **Upravljanje greškama**: Sveobuhvatno upravljanje iznimkama s politikama ponovnog pokušaja\n",
    "- **Upravljanje konfiguracijom**: Postavke specifične za okruženje s provjerom valjanosti\n",
    "\n",
    "## ⚙️ Preduvjeti i postavljanje\n",
    "\n",
    "**Razvojno okruženje:**\n",
    "- .NET 9.0 SDK ili noviji\n",
    "- Visual Studio 2022 ili VS Code s C# ekstenzijom\n",
    "- Azure pretplata s pristupom AI Foundry\n",
    "\n",
    "**Potrebni NuGet paketi:**\n",
    "```xml\n",
    "<PackageReference Include=\"Microsoft.Extensions.AI\" Version=\"9.9.0\" />\n",
    "<PackageReference Include=\"Azure.AI.Agents.Persistent\" Version=\"1.2.0-beta.5\" />\n",
    "<PackageReference Include=\"Azure.Identity\" Version=\"1.15.0\" />\n",
    "<PackageReference Include=\"System.Linq.Async\" Version=\"6.0.3\" />\n",
    "<PackageReference Include=\"DotNetEnv\" Version=\"3.1.1\" />\n",
    "```\n",
    "\n",
    "**Postavljanje autentifikacije za Azure:**\n",
    "```bash\n",
    "# Install Azure CLI and authenticate\n",
    "az login\n",
    "az account set --subscription \"your-subscription-id\"\n",
    "```\n",
    "\n",
    "**Konfiguracija okruženja (.env datoteka):**\n",
    "```env\n",
    "# Azure AI Foundry configuration (automatically handled via Azure CLI)\n",
    "# Ensure you're authenticated to the correct Azure subscription\n",
    "```\n",
    "\n",
    "## 📊 Obrasci Enterprise RAG-a\n",
    "\n",
    "### Obrasci upravljanja dokumentima\n",
    "- **Masovno učitavanje**: Učinkovito procesiranje velikih kolekcija dokumenata\n",
    "- **Inkrementalna ažuriranja**: Dodavanje i izmjena dokumenata u stvarnom vremenu\n",
    "- **Kontrola verzija**: Verzioniranje dokumenata i praćenje promjena\n",
    "- **Upravljanje metapodacima**: Bogati atributi dokumenata i taksonomija\n",
    "\n",
    "### Obrasci pretraživanja i dohvaćanja\n",
    "- **Hibridno pretraživanje**: Kombinacija semantičkog i ključnog pretraživanja za optimalne rezultate\n",
    "- **Pretraživanje s fasetama**: Višedimenzionalno filtriranje i kategorizacija\n",
    "- **Podešavanje relevantnosti**: Prilagođeni algoritmi bodovanja za specifične domene\n",
    "- **Rangiranje rezultata**: Napredno rangiranje s integracijom poslovne logike\n",
    "\n",
    "### Obrasci sigurnosti\n",
    "- **Sigurnost na razini dokumenta**: Precizna kontrola pristupa po dokumentu\n",
    "- **Klasifikacija podataka**: Automatsko označavanje osjetljivosti i zaštita\n",
    "- **Dnevnik aktivnosti**: Sveobuhvatno bilježenje svih operacija RAG-a\n",
    "- **Zaštita privatnosti**: Otkrivanje i redakcija osobnih podataka (PII)\n",
    "\n",
    "## 🔒 Značajke sigurnosti za poduzeća\n",
    "\n",
    "### Autentifikacija i autorizacija\n",
    "```csharp\n",
    "// Azure AD integrated authentication\n",
    "var credential = new AzureCliCredential();\n",
    "var agentsClient = new PersistentAgentsClient(endpoint, credential);\n",
    "\n",
    "// Role-based access validation\n",
    "if (!await ValidateUserPermissions(user, documentId))\n",
    "{\n",
    "    throw new UnauthorizedAccessException(\"Insufficient permissions\");\n",
    "}\n",
    "```\n",
    "\n",
    "### Zaštita podataka\n",
    "- **Šifriranje**: Šifriranje od kraja do kraja za dokumente i indekse pretraživanja\n",
    "- **Kontrole pristupa**: Integracija s Azure AD-om za dozvole korisnika i grupa\n",
    "- **Rezidencija podataka**: Kontrole lokacije podataka za usklađenost\n",
    "- **Sigurnosne kopije i oporavak**: Automatizirane sigurnosne kopije i postupci oporavka\n",
    "\n",
    "## 📈 Optimizacija izvedbe\n",
    "\n",
    "### Obrasci asinkronog procesiranja\n",
    "```csharp\n",
    "// Efficient async document processing\n",
    "await foreach (var document in documentStream.AsAsyncEnumerable())\n",
    "{\n",
    "    await ProcessDocumentAsync(document, cancellationToken);\n",
    "}\n",
    "```\n",
    "\n",
    "### Upravljanje memorijom\n",
    "- **Procesiranje u strujama**: Obrada velikih dokumenata bez problema s memorijom\n",
    "- **Upravljanje resursima**: Učinkovito ponovno korištenje skupih resursa\n",
    "- **Sakupljanje smeća**: Optimizirani obrasci dodjele memorije\n",
    "- **Upravljanje vezama**: Pravilno upravljanje životnim ciklusom veze s Azure uslugama\n",
    "\n",
    "### Strategije predmemoriranja\n",
    "- **Predmemoriranje upita**: Predmemoriranje često izvršenih pretraživanja\n",
    "- **Predmemoriranje dokumenata**: Predmemoriranje u memoriji za \"vruće\" dokumente\n",
    "- **Predmemoriranje indeksa**: Optimizirano predmemoriranje vektorskih indeksa\n",
    "- **Predmemoriranje rezultata**: Inteligentno predmemoriranje generiranih odgovora\n",
    "\n",
    "## 📊 Primjene za poduzeća\n",
    "\n",
    "### Upravljanje znanjem\n",
    "- **Korporativni wiki**: Inteligentno pretraživanje kroz baze znanja tvrtke\n",
    "- **Politike i procedure**: Automatizirano usmjeravanje za usklađenost i procedure\n",
    "- **Materijali za obuku**: Inteligentna pomoć u učenju i razvoju\n",
    "- **Baze podataka za istraživanje**: Sustavi za analizu akademskih i istraživačkih radova\n",
    "\n",
    "### Korisnička podrška\n",
    "- **Baza znanja za podršku**: Automatizirani odgovori za korisničku podršku\n",
    "- **Dokumentacija proizvoda**: Inteligentno dohvaćanje informacija o proizvodima\n",
    "- **Vodiči za rješavanje problema**: Kontekstualna pomoć u rješavanju problema\n",
    "- **Sustavi FAQ-a**: Dinamičko generiranje FAQ-a iz kolekcija dokumenata\n",
    "\n",
    "### Usklađenost s propisima\n",
    "- **Analiza pravnih dokumenata**: Inteligencija za ugovore i pravne dokumente\n",
    "- **Praćenje usklađenosti**: Automatizirano provjeravanje usklađenosti s propisima\n",
    "- **Procjena rizika**: Analiza i izvještavanje o rizicima temeljenim na dokumentima\n",
    "- **Podrška za revizije**: Inteligentno otkrivanje dokumenata za revizije\n",
    "\n",
    "## 🚀 Produkcijska implementacija\n",
    "\n",
    "### Praćenje i preglednost\n",
    "- **Application Insights**: Detaljno praćenje telemetrije i izvedbe\n",
    "- **Prilagođene metrike**: Praćenje i upozorenja za poslovne KPI-jeve\n",
    "- **Distribuirano praćenje**: Praćenje zahtjeva od kraja do kraja kroz usluge\n",
    "- **Nadzorne ploče zdravlja**: Vizualizacija zdravlja sustava i izvedbe u stvarnom vremenu\n",
    "\n",
    "### Skalabilnost i pouzdanost\n",
    "- **Automatsko skaliranje**: Automatsko skaliranje na temelju opterećenja i metrika izvedbe\n",
    "- **Visoka dostupnost**: Implementacija u više regija s mogućnostima prebacivanja\n",
    "- **Testiranje opterećenja**: Validacija izvedbe pod opterećenjem na razini poduzeća\n",
    "- **Oporavak od katastrofe**: Automatizirane sigurnosne kopije i postupci oporavka\n",
    "\n",
    "Spremni za izgradnju RAG sustava na razini poduzeća koji mogu obrađivati osjetljive dokumente u velikom opsegu? Idemo arhitektirati inteligentne sustave znanja za poduzeća! 🏢📖✨\n"
   ]
  },
  {
   "cell_type": "code",
   "execution_count": 1,
   "metadata": {
    "language_info": {
     "name": "polyglot-notebook"
    },
    "polyglot_notebook": {
     "kernelName": "csharp"
    }
   },
   "outputs": [
    {
     "data": {
      "text/html": [
       "<div><div></div><div></div><div><strong>Installed Packages</strong><ul><li><span>Microsoft.Extensions.AI, 9.9.1</span></li></ul></div></div>"
      ]
     },
     "metadata": {},
     "output_type": "display_data"
    }
   ],
   "source": [
    "#r \"nuget: Microsoft.Extensions.AI, 9.9.1\""
   ]
  },
  {
   "cell_type": "code",
   "execution_count": 2,
   "id": "4ec1f0d1",
   "metadata": {
    "language_info": {
     "name": "polyglot-notebook"
    },
    "polyglot_notebook": {
     "kernelName": "csharp"
    }
   },
   "outputs": [
    {
     "data": {
      "text/html": [
       "<div><div></div><div></div><div><strong>Installed Packages</strong><ul><li><span>Azure.AI.Agents.Persistent, 1.2.0-beta.5</span></li><li><span>Azure.Identity, 1.15.0</span></li><li><span>System.Linq.Async, 6.0.3</span></li></ul></div></div>"
      ]
     },
     "metadata": {},
     "output_type": "display_data"
    }
   ],
   "source": [
    "#r \"nuget: Azure.AI.Agents.Persistent, 1.2.0-beta.5\"\n",
    "#r \"nuget: Azure.Identity, 1.15.0\"\n",
    "#r \"nuget: System.Linq.Async, 6.0.3\""
   ]
  },
  {
   "cell_type": "code",
   "execution_count": 3,
   "id": "2363ae07",
   "metadata": {
    "language_info": {
     "name": "polyglot-notebook"
    },
    "polyglot_notebook": {
     "kernelName": "csharp"
    }
   },
   "outputs": [],
   "source": []
  },
  {
   "cell_type": "code",
   "execution_count": null,
   "id": "d10cec9d",
   "metadata": {
    "language_info": {
     "name": "polyglot-notebook"
    },
    "polyglot_notebook": {
     "kernelName": "csharp"
    }
   },
   "outputs": [
    {
     "data": {
      "text/html": [
       "<div><div></div><div></div><div><strong>Installed Packages</strong><ul><li><span>Microsoft.Agents.AI.AzureAI, 1.0.0-preview.251001.2</span></li></ul></div></div>"
      ]
     },
     "metadata": {},
     "output_type": "display_data"
    }
   ],
   "source": [
    "#r \"nuget: Microsoft.Agents.AI.AzureAI, 1.0.0-preview.251001.3\""
   ]
  },
  {
   "cell_type": "code",
   "execution_count": null,
   "id": "78199d1c",
   "metadata": {
    "language_info": {
     "name": "polyglot-notebook"
    },
    "polyglot_notebook": {
     "kernelName": "csharp"
    }
   },
   "outputs": [
    {
     "data": {
      "text/html": [
       "<div><div></div><div></div><div><strong>Installed Packages</strong><ul><li><span>microsoft.agents.ai, 1.0.0-preview.251001.2</span></li></ul></div></div>"
      ]
     },
     "metadata": {},
     "output_type": "display_data"
    }
   ],
   "source": [
    "#r \"nuget: Microsoft.Agents.AI, 1.0.0-preview.251001.3\""
   ]
  },
  {
   "cell_type": "code",
   "execution_count": 6,
   "id": "7de4684a",
   "metadata": {
    "language_info": {
     "name": "polyglot-notebook"
    },
    "polyglot_notebook": {
     "kernelName": "csharp"
    }
   },
   "outputs": [
    {
     "data": {
      "text/html": [
       "<div><div></div><div></div><div><strong>Installed Packages</strong><ul><li><span>DotNetEnv, 3.1.1</span></li></ul></div></div>"
      ]
     },
     "metadata": {},
     "output_type": "display_data"
    }
   ],
   "source": [
    "#r \"nuget: DotNetEnv, 3.1.1\""
   ]
  },
  {
   "cell_type": "code",
   "execution_count": 7,
   "id": "251efd31",
   "metadata": {
    "language_info": {
     "name": "polyglot-notebook"
    },
    "polyglot_notebook": {
     "kernelName": "csharp"
    }
   },
   "outputs": [],
   "source": [
    "using System;\n",
    "using System.Linq;\n",
    "using Azure.AI.Agents.Persistent;\n",
    "using Azure.Identity;\n",
    "using Microsoft.Agents.AI;"
   ]
  },
  {
   "cell_type": "code",
   "execution_count": 8,
   "id": "a2e342f1",
   "metadata": {
    "language_info": {
     "name": "polyglot-notebook"
    },
    "polyglot_notebook": {
     "kernelName": "csharp"
    }
   },
   "outputs": [],
   "source": [
    " using DotNetEnv;"
   ]
  },
  {
   "cell_type": "code",
   "execution_count": 9,
   "id": "a7a01653",
   "metadata": {
    "language_info": {
     "name": "polyglot-notebook"
    },
    "polyglot_notebook": {
     "kernelName": "csharp"
    }
   },
   "outputs": [],
   "source": [
    "Env.Load(\"../../../.env\");"
   ]
  },
  {
   "cell_type": "code",
   "execution_count": 10,
   "id": "a42735d5",
   "metadata": {
    "language_info": {
     "name": "polyglot-notebook"
    },
    "polyglot_notebook": {
     "kernelName": "csharp"
    }
   },
   "outputs": [],
   "source": [
    "var azure_foundry_endpoint = Environment.GetEnvironmentVariable(\"AZURE_AI_PROJECT_ENDPOINT\") ?? throw new InvalidOperationException(\"AZURE_AI_PROJECT_ENDPOINT is not set.\");\n",
    "var azure_foundry_model_id = Environment.GetEnvironmentVariable(\"AZURE_AI_MODEL_DEPLOYMENT_NAME\") ?? \"gpt-4.1-mini\";"
   ]
  },
  {
   "cell_type": "code",
   "execution_count": 11,
   "id": "e29bdb58",
   "metadata": {
    "language_info": {
     "name": "polyglot-notebook"
    },
    "polyglot_notebook": {
     "kernelName": "csharp"
    }
   },
   "outputs": [],
   "source": [
    "string pdfPath = \"./document.md\";"
   ]
  },
  {
   "cell_type": "code",
   "execution_count": 12,
   "id": "7351e12d",
   "metadata": {
    "language_info": {
     "name": "polyglot-notebook"
    },
    "polyglot_notebook": {
     "kernelName": "csharp"
    }
   },
   "outputs": [],
   "source": [
    "using System.IO;\n",
    "\n",
    "async Task<Stream> OpenImageStreamAsync(string path)\n",
    "{\n",
    "\treturn await Task.Run(() => File.OpenRead(path));\n",
    "}\n",
    "\n",
    "var pdfStream = await OpenImageStreamAsync(pdfPath);"
   ]
  },
  {
   "cell_type": "code",
   "execution_count": 13,
   "id": "0b6bf484",
   "metadata": {
    "language_info": {
     "name": "polyglot-notebook"
    },
    "polyglot_notebook": {
     "kernelName": "csharp"
    }
   },
   "outputs": [],
   "source": [
    "var persistentAgentsClient = new PersistentAgentsClient(azure_foundry_endpoint, new AzureCliCredential());"
   ]
  },
  {
   "cell_type": "code",
   "execution_count": 14,
   "id": "81e0dddc",
   "metadata": {
    "language_info": {
     "name": "polyglot-notebook"
    },
    "polyglot_notebook": {
     "kernelName": "csharp"
    }
   },
   "outputs": [],
   "source": [
    "PersistentAgentFileInfo fileInfo = await persistentAgentsClient.Files.UploadFileAsync(pdfStream, PersistentAgentFilePurpose.Agents, \"demo.md\");"
   ]
  },
  {
   "cell_type": "code",
   "execution_count": 15,
   "id": "f0c75d80",
   "metadata": {
    "language_info": {
     "name": "polyglot-notebook"
    },
    "polyglot_notebook": {
     "kernelName": "csharp"
    }
   },
   "outputs": [],
   "source": [
    "PersistentAgentsVectorStore fileStore =\n",
    "            await persistentAgentsClient.VectorStores.CreateVectorStoreAsync(\n",
    "                [fileInfo.Id],\n",
    "                metadata: new Dictionary<string, string>() { { \"agentkey\", bool.TrueString } });"
   ]
  },
  {
   "cell_type": "code",
   "execution_count": 16,
   "id": "c77986c5",
   "metadata": {
    "language_info": {
     "name": "polyglot-notebook"
    },
    "polyglot_notebook": {
     "kernelName": "csharp"
    }
   },
   "outputs": [],
   "source": [
    "PersistentAgent agentModel = await persistentAgentsClient.Administration.CreateAgentAsync(\n",
    "            azure_foundry_model_id,\n",
    "            name: \"DotNetRAGAgent\",\n",
    "            tools: [new FileSearchToolDefinition()],\n",
    "            instructions: \"\"\"\n",
    "                You are an AI assistant designed to answer user questions using only the information retrieved from the provided document(s).\n",
    "\n",
    "                - If a user's question cannot be answered using the retrieved context, **you must clearly respond**: \n",
    "                \"I'm sorry, but the uploaded document does not contain the necessary information to answer that question.\"\n",
    "                - Do not answer from general knowledge or reasoning. Do not make assumptions or generate hypothetical explanations.\n",
    "                - Do not provide definitions, tutorials, or commentary that is not explicitly grounded in the content of the uploaded file(s).\n",
    "                - If a user asks a question like \"What is a Neural Network?\", and this is not discussed in the uploaded document, respond as instructed above.\n",
    "                - For questions that do have relevant content in the document (e.g., Contoso's travel insurance coverage), respond accurately, and cite the document explicitly.\n",
    "\n",
    "                You must behave as if you have no external knowledge beyond what is retrieved from the uploaded document.\n",
    "                \"\"\",\n",
    "            toolResources: new()\n",
    "            {\n",
    "                FileSearch = new()\n",
    "                {\n",
    "                    VectorStoreIds = { fileStore.Id },\n",
    "                }\n",
    "            },\n",
    "            metadata: new Dictionary<string, string>() { { \"agentkey\", bool.TrueString } });"
   ]
  },
  {
   "cell_type": "code",
   "execution_count": 17,
   "id": "282326cf",
   "metadata": {
    "language_info": {
     "name": "polyglot-notebook"
    },
    "polyglot_notebook": {
     "kernelName": "csharp"
    }
   },
   "outputs": [],
   "source": [
    "AIAgent agent = await persistentAgentsClient.GetAIAgentAsync(agentModel.Id);"
   ]
  },
  {
   "cell_type": "code",
   "execution_count": 18,
   "id": "2067d313",
   "metadata": {
    "language_info": {
     "name": "polyglot-notebook"
    },
    "polyglot_notebook": {
     "kernelName": "csharp"
    }
   },
   "outputs": [],
   "source": [
    "AgentThread thread = agent.GetNewThread();"
   ]
  },
  {
   "cell_type": "code",
   "execution_count": 19,
   "id": "454c4230",
   "metadata": {
    "language_info": {
     "name": "polyglot-notebook"
    },
    "polyglot_notebook": {
     "kernelName": "csharp"
    }
   },
   "outputs": [
    {
     "name": "stdout",
     "output_type": "stream",
     "text": [
      "Contoso's travel insurance coverage includes protection for medical emergencies, trip cancellations, and lost baggage. This ensures that travelers are supported in case of health-related issues during their trip, unforeseen cancellations, and the loss of their belongings while traveling【4:0†demo.md】.\r\n"
     ]
    }
   ],
   "source": [
    "Console.WriteLine(await agent.RunAsync(\"Can you explain Contoso's travel insurance coverage?\", thread));"
   ]
  },
  {
   "cell_type": "markdown",
   "metadata": {},
   "source": [
    "\n---\n\n**Izjava o odricanju odgovornosti**:  \nOvaj dokument je preveden pomoću AI usluge za prevođenje [Co-op Translator](https://github.com/Azure/co-op-translator). Iako nastojimo osigurati točnost, imajte na umu da automatski prijevodi mogu sadržavati pogreške ili netočnosti. Izvorni dokument na izvornom jeziku treba smatrati autoritativnim izvorom. Za ključne informacije preporučuje se profesionalni prijevod od strane stručnjaka. Ne preuzimamo odgovornost za nesporazume ili pogrešna tumačenja koja mogu proizaći iz korištenja ovog prijevoda.\n"
   ]
  }
 ],
 "metadata": {
  "kernelspec": {
   "display_name": ".NET (C#)",
   "language": "C#",
   "name": ".net-csharp"
  },
  "language_info": {
   "name": "polyglot-notebook"
  },
  "polyglot_notebook": {
   "kernelInfo": {
    "defaultKernelName": "csharp",
    "items": [
     {
      "aliases": [],
      "name": "csharp"
     }
    ]
   }
  },
  "coopTranslator": {
   "original_hash": "e4584fa31638009dc6fb665275de8fc2",
   "translation_date": "2025-10-02T06:52:53+00:00",
   "source_file": "05-agentic-rag/code_samples/05-dotnet-agent-framework.ipynb",
   "language_code": "hr"
  }
 },
 "nbformat": 4,
 "nbformat_minor": 5
}