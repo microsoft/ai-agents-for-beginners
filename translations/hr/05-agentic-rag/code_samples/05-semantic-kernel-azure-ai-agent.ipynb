{
 "cells": [
  {
   "cell_type": "markdown",
   "metadata": {},
   "source": [
    "# RAG Korištenjem Azure AI Agent Service i Semantic Kernel\n",
    "\n",
    "Ovaj isječak koda pokazuje kako stvoriti i upravljati Azure AI agentom za generiranje uz prošireno dohvaćanje (RAG) koristeći `Azure AI Agent Service` i `Semantic Kernel`. Agent obrađuje korisničke upite na temelju dohvaćenog konteksta i pruža točne odgovore u skladu s tim.\n"
   ]
  },
  {
   "cell_type": "markdown",
   "metadata": {},
   "source": []
  },
  {
   "cell_type": "markdown",
   "metadata": {},
   "source": [
    "Popravak verzije SQLite  \n",
    "Ako naiđete na pogrešku:  \n",
    "```\n",
    "RuntimeError: Your system has an unsupported version of sqlite3. Chroma requires sqlite3 >= 3.35.0\n",
    "```  \n",
    "\n",
    "Otkomentirajte ovaj blok koda na početku svoje bilježnice:  \n"
   ]
  },
  {
   "cell_type": "code",
   "execution_count": null,
   "metadata": {},
   "outputs": [],
   "source": [
    "# %pip install pysqlite3-binary\n",
    "# __import__('pysqlite3')\n",
    "# import sys\n",
    "# sys.modules['sqlite3'] = sys.modules.pop('pysqlite3')"
   ]
  },
  {
   "cell_type": "markdown",
   "metadata": {},
   "source": [
    "### Uvoz paketa\n",
    "Sljedeći kod uvozi potrebne pakete:\n"
   ]
  },
  {
   "cell_type": "code",
   "execution_count": null,
   "metadata": {},
   "outputs": [],
   "source": [
    "# Azure imports for project client and credentials\n",
    "from azure.ai.projects.models import FileSearchTool, OpenAIFile, VectorStore\n",
    "from azure.identity.aio import DefaultAzureCredential\n",
    "\n",
    "# Semantic Kernel imports\n",
    "from semantic_kernel.agents import AzureAIAgent, AzureAIAgentThread"
   ]
  },
  {
   "cell_type": "markdown",
   "metadata": {},
   "source": [
    "# Generacija uz pomoć pretraživanja s Semantic Kernelom i Azure AI Agent Serviceom\n",
    "\n",
    "Ovaj primjer pokazuje kako koristiti **Azure AI Agent Service** za izvođenje **Generacije uz pomoć pretraživanja (RAG)** kombiniranjem jezičnog modela s kontekstom specifičnim za domenu iz prenesenog dokumenta.\n",
    "\n",
    "### Kako Funkcionira\n",
    "\n",
    "1. **Prenos dokumenta**: Markdown datoteka (document.md) koja sadrži informacije (Contosova politika putnog osiguranja) prenosi se u agent servis.\n",
    "\n",
    "2. **Stvaranje vektorske pohrane**: Dokument se indeksira u vektorsku pohranu kako bi se omogućilo semantičko pretraživanje njegovog sadržaja.\n",
    "\n",
    "3. **Konfiguracija agenta**: Agent se postavlja koristeći model `gpt-4o` s sljedećim strogim uputama:\n",
    "   - Odgovarati samo na pitanja temeljem sadržaja pronađenog u dokumentu.\n",
    "   - Odbiti odgovoriti ako je pitanje izvan opsega.\n",
    "\n",
    "4. **Integracija alata za pretraživanje datoteka**: `FileSearchTool` se registrira s agentom, omogućujući modelu da tijekom inferencije pretražuje i dohvaća relevantne dijelove iz indeksiranog dokumenta.\n",
    "\n",
    "5. **Interakcija s korisnikom**: Korisnici mogu postavljati pitanja. Ako se pronađu relevantne informacije u dokumentu, agent generira utemeljen odgovor.  \n",
    "   Ako ne, agent eksplicitno odgovara da dokument ne sadrži dovoljno informacija.\n"
   ]
  },
  {
   "cell_type": "markdown",
   "metadata": {},
   "source": [
    "### Glavna Funkcija\n",
    "\n",
    "```python\n",
    "# Ova funkcija je glavni ulaz u aplikaciju\n",
    "def main():\n",
    "    print(\"Dobrodošli u naš program!\")  # Ispisuje poruku dobrodošlice\n",
    "    user_input = input(\"Unesite svoje ime: \")  # Traži od korisnika da unese svoje ime\n",
    "    print(f\"Pozdrav, {user_input}!\")  # Prikazuje personaliziranu poruku dobrodošlice\n",
    "```\n",
    "\n",
    "### Pomoćne Funkcije\n",
    "\n",
    "```python\n",
    "# Ova funkcija provjerava je li broj paran\n",
    "def is_even(number):\n",
    "    return number % 2 == 0  # Vraća True ako je broj paran, inače False\n",
    "\n",
    "# Ova funkcija provjerava je li broj neparan\n",
    "def is_odd(number):\n",
    "    return number % 2 != 0  # Vraća True ako je broj neparan, inače False\n",
    "```\n",
    "\n",
    "### Upute za Korištenje\n",
    "\n",
    "1. Pokrenite datoteku koristeći Python.\n",
    "2. Slijedite upute na ekranu.\n",
    "3. Unesite svoje ime kada se to od vas zatraži.\n",
    "4. Koristite funkcije `is_even` i `is_odd` za provjeru parnosti brojeva.\n",
    "\n",
    "[!NOTE] Ovaj program je namijenjen za edukativne svrhe.\n",
    "\n",
    "### Primjeri Korištenja\n",
    "\n",
    "```python\n",
    "# Provjera parnosti broja\n",
    "number = 4\n",
    "if is_even(number):\n",
    "    print(f\"{number} je paran broj.\")  # Ispisuje ako je broj paran\n",
    "else:\n",
    "    print(f\"{number} je neparan broj.\")  # Ispisuje ako je broj neparan\n",
    "```\n",
    "\n",
    "[!TIP] Isprobajte različite brojeve kako biste testirali funkcije.\n"
   ]
  },
  {
   "cell_type": "markdown",
   "metadata": {},
   "source": [
    "Provjerite da ste prvo pokrenuli `az login` koristeći Azure CLI kako bi se osigurao odgovarajući kontekst autentifikacije prilikom korištenja `DefaultAzureCredential`. Azure AI Agent Service ne koristi API ključeve.\n"
   ]
  },
  {
   "cell_type": "code",
   "execution_count": null,
   "metadata": {},
   "outputs": [],
   "source": [
    "async def main():\n",
    "    async with (\n",
    "        DefaultAzureCredential() as creds,\n",
    "        AzureAIAgent.create_client(credential=creds) as client,\n",
    "    ):\n",
    "        file: OpenAIFile = await client.agents.upload_file_and_poll(file_path=\"document.md\", purpose=\"assistants\")\n",
    "        vector_store: VectorStore = await client.agents.create_vector_store_and_poll(\n",
    "            file_ids=[file.id], name=\"my_vectorstore\"\n",
    "        )\n",
    "\n",
    "        # Define agent name and instructions tailored for RAG.\n",
    "        AGENT_NAME = \"RAGAgent\"\n",
    "        AGENT_INSTRUCTIONS = \"\"\"\n",
    "        You are an AI assistant designed to answer user questions using only the information retrieved from the provided document(s).\n",
    "\n",
    "        - If a user's question cannot be answered using the retrieved context, **you must clearly respond**: \n",
    "        \"I'm sorry, but the uploaded document does not contain the necessary information to answer that question.\"\n",
    "        - Do not answer from general knowledge or reasoning. Do not make assumptions or generate hypothetical explanations.\n",
    "        - Do not provide definitions, tutorials, or commentary that is not explicitly grounded in the content of the uploaded file(s).\n",
    "        - If a user asks a question like \"What is a Neural Network?\", and this is not discussed in the uploaded document, respond as instructed above.\n",
    "        - For questions that do have relevant content in the document (e.g., Contoso's travel insurance coverage), respond accurately, and cite the document explicitly.\n",
    "\n",
    "        You must behave as if you have no external knowledge beyond what is retrieved from the uploaded document.\n",
    "        \"\"\"\n",
    "\n",
    "        \n",
    "        # Create file search tool with uploaded resources\n",
    "        file_search = FileSearchTool(vector_store_ids=[vector_store.id])\n",
    "\n",
    "        # 3. Create an agent on the Azure AI agent service with the file search tool\n",
    "        agent_definition = await client.agents.create_agent(\n",
    "            model=\"gpt-4o\",  # This model should match your Azure OpenAI deployment.\n",
    "            name=AGENT_NAME,\n",
    "            instructions=AGENT_INSTRUCTIONS,\n",
    "            tools=file_search.definitions,\n",
    "            tool_resources=file_search.resources,\n",
    "        )\n",
    "        \n",
    "        # Create the Azure AI Agent using the client and definition.\n",
    "        agent = AzureAIAgent(\n",
    "            client=client,\n",
    "            definition=agent_definition,\n",
    "        )\n",
    "        \n",
    "        # Create a thread to hold the conversation\n",
    "        # If no thread is provided, a new thread will be\n",
    "        # created and returned with the initial response\n",
    "        thread: AzureAIAgentThread | None = None\n",
    "        \n",
    "        # Example user queries.\n",
    "        user_inputs = [\n",
    "            \"Can you explain Contoso's travel insurance coverage?\",  # Relevant context.\n",
    "            \"What is a Neural Network?\"  # No relevant context from the document. Will not contain a source annotation.\n",
    "        ]\n",
    "        \n",
    "        try:\n",
    "            for user_input in user_inputs:\n",
    "                print(f\"# User: '{user_input}'\")\n",
    "                # Invoke the agent for the specified thread for response\n",
    "                async for response in agent.invoke(messages=user_input, thread=thread):\n",
    "                    print(f\"# {response.name}: {response}\")\n",
    "                    thread = response.thread\n",
    "        finally:\n",
    "            # Clean up resources.\n",
    "            await thread.delete() if thread else None\n",
    "            await client.agents.delete_vector_store(vector_store.id)\n",
    "            await client.agents.delete_file(file.id)\n",
    "            await client.agents.delete_agent(agent.id)\n",
    "            print(\"\\nCleaned up agent, thread, file, and vector store.\")\n",
    "\n",
    "await main()"
   ]
  },
  {
   "cell_type": "markdown",
   "metadata": {},
   "source": [
    "Naravno! Molim vas da mi dostavite sadržaj datoteke kako bih je mogao prevesti na hrvatski.\n"
   ]
  },
  {
   "cell_type": "markdown",
   "metadata": {},
   "source": [
    "\n---\n\n**Odricanje od odgovornosti**:  \nOvaj dokument je preveden pomoću AI usluge za prevođenje [Co-op Translator](https://github.com/Azure/co-op-translator). Iako nastojimo osigurati točnost, imajte na umu da automatski prijevodi mogu sadržavati pogreške ili netočnosti. Izvorni dokument na izvornom jeziku treba smatrati autoritativnim izvorom. Za ključne informacije preporučuje se profesionalni prijevod od strane ljudskog prevoditelja. Ne preuzimamo odgovornost za bilo kakve nesporazume ili pogrešne interpretacije koje proizlaze iz korištenja ovog prijevoda.\n"
   ]
  }
 ],
 "metadata": {
  "kernelspec": {
   "display_name": ".venv",
   "language": "python",
   "name": "python3"
  },
  "language_info": {
   "codemirror_mode": {
    "name": "ipython",
    "version": 3
   },
   "file_extension": ".py",
   "mimetype": "text/x-python",
   "name": "python",
   "nbconvert_exporter": "python",
   "pygments_lexer": "ipython3",
   "version": "3.11.11"
  },
  "coopTranslator": {
   "original_hash": "a86c3ddfbe35024993bbf563588aad48",
   "translation_date": "2025-08-30T12:23:23+00:00",
   "source_file": "05-agentic-rag/code_samples/05-semantic-kernel-azure-ai-agent.ipynb",
   "language_code": "hr"
  }
 },
 "nbformat": 4,
 "nbformat_minor": 2
}