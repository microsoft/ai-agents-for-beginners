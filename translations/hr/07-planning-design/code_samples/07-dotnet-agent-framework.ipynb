{
 "cells": [
  {
   "cell_type": "markdown",
   "id": "2e47efbb",
   "metadata": {},
   "source": [
    "# 🎯 Planiranje i dizajnerski obrasci s GitHub modelima (.NET)\n",
    "\n",
    "## 📋 Ciljevi učenja\n",
    "\n",
    "Ovaj priručnik prikazuje planiranje i dizajnerske obrasce na razini poduzeća za izradu inteligentnih agenata koristeći Microsoft Agent Framework u .NET-u s GitHub modelima. Naučit ćete kako kreirati agente koji mogu razložiti složene probleme, planirati rješenja u više koraka i izvršavati sofisticirane tijekove rada koristeći značajke .NET-a na razini poduzeća.\n",
    "\n",
    "## ⚙️ Preduvjeti i postavljanje\n",
    "\n",
    "**Razvojno okruženje:**\n",
    "- .NET 9.0 SDK ili noviji\n",
    "- Visual Studio 2022 ili VS Code s C# ekstenzijom\n",
    "- Pristup GitHub Models API-ju\n",
    "\n",
    "**Potrebne ovisnosti:**\n",
    "```xml\n",
    "<PackageReference Include=\"Microsoft.Extensions.AI\" Version=\"9.9.0\" />\n",
    "<PackageReference Include=\"Microsoft.Extensions.AI.OpenAI\" Version=\"9.9.0-preview.1.25458.4\" />\n",
    "<PackageReference Include=\"DotNetEnv\" Version=\"3.1.1\" />\n",
    "```\n",
    "\n",
    "**Konfiguracija okruženja (.env datoteka):**\n",
    "```env\n",
    "GITHUB_TOKEN=your_github_personal_access_token\n",
    "GITHUB_ENDPOINT=https://models.inference.ai.azure.com\n",
    "GITHUB_MODEL_ID=gpt-4o-mini\n",
    "```\n"
   ]
  },
  {
   "cell_type": "code",
   "execution_count": 1,
   "id": "f2670b38",
   "metadata": {
    "language_info": {
     "name": "polyglot-notebook"
    },
    "polyglot_notebook": {
     "kernelName": "csharp"
    }
   },
   "outputs": [
    {
     "data": {
      "text/html": [
       "<div><div></div><div></div><div><strong>Installed Packages</strong><ul><li><span>Microsoft.Extensions.AI, 9.9.0</span></li></ul></div></div>"
      ]
     },
     "metadata": {},
     "output_type": "display_data"
    }
   ],
   "source": [
    "#r \"nuget: Microsoft.Extensions.AI, 9.9.0\""
   ]
  },
  {
   "cell_type": "code",
   "execution_count": 2,
   "id": "647b4ee4",
   "metadata": {
    "language_info": {
     "name": "polyglot-notebook"
    },
    "polyglot_notebook": {
     "kernelName": "csharp"
    }
   },
   "outputs": [],
   "source": [
    "// #r \"nuget: OpenAI, 2.4.0\""
   ]
  },
  {
   "cell_type": "code",
   "execution_count": 3,
   "id": "7590754d",
   "metadata": {
    "language_info": {
     "name": "polyglot-notebook"
    },
    "polyglot_notebook": {
     "kernelName": "csharp"
    }
   },
   "outputs": [],
   "source": [
    "#r \"C:\\Users\\kinfeylo\\Documents\\Agent\\agent-framework\\dotnet\\src\\Microsoft.Agents.AI.OpenAI\\bin\\Debug\\net9.0/Microsoft.Agents.AI.OpenAI.dll\""
   ]
  },
  {
   "cell_type": "code",
   "execution_count": 4,
   "id": "47b56957",
   "metadata": {
    "language_info": {
     "name": "polyglot-notebook"
    },
    "polyglot_notebook": {
     "kernelName": "csharp"
    }
   },
   "outputs": [],
   "source": [
    "#r \"C:\\Users\\kinfeylo\\Documents\\Agent\\agent-framework\\dotnet\\src\\Microsoft.Agents.AI\\bin\\Debug\\net9.0\\Microsoft.Agents.AI.dll\""
   ]
  },
  {
   "cell_type": "code",
   "execution_count": 5,
   "id": "53ccded1",
   "metadata": {
    "language_info": {
     "name": "polyglot-notebook"
    },
    "polyglot_notebook": {
     "kernelName": "csharp"
    }
   },
   "outputs": [
    {
     "data": {
      "text/html": [
       "<div><div></div><div></div><div><strong>Installed Packages</strong><ul><li><span>Microsoft.Extensions.AI.OpenAI, 9.9.0-preview.1.25458.4</span></li></ul></div></div>"
      ]
     },
     "metadata": {},
     "output_type": "display_data"
    }
   ],
   "source": [
    "#r \"nuget: Microsoft.Extensions.AI.OpenAI, 9.9.0-preview.1.25458.4\""
   ]
  },
  {
   "cell_type": "code",
   "execution_count": 6,
   "id": "4df04054",
   "metadata": {
    "language_info": {
     "name": "polyglot-notebook"
    },
    "polyglot_notebook": {
     "kernelName": "csharp"
    }
   },
   "outputs": [
    {
     "data": {
      "text/html": [
       "<div><div></div><div></div><div><strong>Installed Packages</strong><ul><li><span>DotNetEnv, 3.1.1</span></li></ul></div></div>"
      ]
     },
     "metadata": {},
     "output_type": "display_data"
    }
   ],
   "source": [
    "#r \"nuget: DotNetEnv, 3.1.1\""
   ]
  },
  {
   "cell_type": "code",
   "execution_count": 7,
   "id": "43a7b15f",
   "metadata": {
    "language_info": {
     "name": "polyglot-notebook"
    },
    "polyglot_notebook": {
     "kernelName": "csharp"
    }
   },
   "outputs": [],
   "source": [
    "using System;\n",
    "using System.ClientModel;\n",
    "using System.Text.Json;\n",
    "using System.Text.Json.Serialization;\n",
    "using Microsoft.Extensions.AI;\n",
    "using Microsoft.Agents.AI;\n",
    "using OpenAI;\n"
   ]
  },
  {
   "cell_type": "code",
   "execution_count": 8,
   "id": "c592a31f",
   "metadata": {
    "language_info": {
     "name": "polyglot-notebook"
    },
    "polyglot_notebook": {
     "kernelName": "csharp"
    }
   },
   "outputs": [],
   "source": [
    " using DotNetEnv;"
   ]
  },
  {
   "cell_type": "code",
   "execution_count": 9,
   "id": "f439a209",
   "metadata": {
    "language_info": {
     "name": "polyglot-notebook"
    },
    "polyglot_notebook": {
     "kernelName": "csharp"
    }
   },
   "outputs": [],
   "source": [
    "Env.Load(\"../../../.env\");"
   ]
  },
  {
   "cell_type": "code",
   "execution_count": 10,
   "id": "9777a270",
   "metadata": {
    "language_info": {
     "name": "polyglot-notebook"
    },
    "polyglot_notebook": {
     "kernelName": "csharp"
    }
   },
   "outputs": [],
   "source": [
    "System.Environment.GetEnvironmentVariable(\"GITHUB_ENDPOINT\");"
   ]
  },
  {
   "cell_type": "code",
   "execution_count": 11,
   "id": "2e47a3e9",
   "metadata": {
    "language_info": {
     "name": "polyglot-notebook"
    },
    "polyglot_notebook": {
     "kernelName": "csharp"
    }
   },
   "outputs": [],
   "source": [
    "var github_endpoint = Environment.GetEnvironmentVariable(\"GITHUB_ENDPOINT\") ?? throw new InvalidOperationException(\"GITHUB_ENDPOINT is not set.\");\n",
    "var github_model_id = Environment.GetEnvironmentVariable(\"GITHUB_MODEL_ID\") ?? \"gpt-4o-mini\";\n",
    "var github_token = Environment.GetEnvironmentVariable(\"GITHUB_TOKEN\") ?? throw new InvalidOperationException(\"GITHUB_TOKEN is not set.\");"
   ]
  },
  {
   "cell_type": "code",
   "execution_count": 12,
   "id": "83fb5727",
   "metadata": {
    "language_info": {
     "name": "polyglot-notebook"
    },
    "polyglot_notebook": {
     "kernelName": "csharp"
    }
   },
   "outputs": [],
   "source": [
    "var openAIOptions = new OpenAIClientOptions()\n",
    "{\n",
    "    Endpoint= new Uri(github_endpoint)\n",
    "};"
   ]
  },
  {
   "cell_type": "code",
   "execution_count": 13,
   "id": "32813dd5",
   "metadata": {
    "language_info": {
     "name": "polyglot-notebook"
    },
    "polyglot_notebook": {
     "kernelName": "csharp"
    }
   },
   "outputs": [],
   "source": [
    "\n",
    "\n",
    "var openAIClient = new OpenAIClient(new ApiKeyCredential(github_token), openAIOptions);"
   ]
  },
  {
   "cell_type": "code",
   "execution_count": 14,
   "id": "6c586480",
   "metadata": {
    "language_info": {
     "name": "polyglot-notebook"
    },
    "polyglot_notebook": {
     "kernelName": "csharp"
    }
   },
   "outputs": [],
   "source": [
    "const string AGENT_NAME =\"TravelPlanAgent\";\n",
    "\n",
    "const string AGENT_INSTRUCTIONS = @\"You are an planner agent.\n",
    "    Your job is to decide which agents to run based on the user's request.\n",
    "    Below are the available agents specialised in different tasks:\n",
    "    - FlightBooking: For booking flights and providing flight information\n",
    "    - HotelBooking: For booking hotels and providing hotel information\n",
    "    - CarRental: For booking cars and providing car rental information\n",
    "    - ActivitiesBooking: For booking activities and providing activity information\n",
    "    - DestinationInfo: For providing information about destinations\n",
    "    - DefaultAgent: For handling general request\";"
   ]
  },
  {
   "cell_type": "code",
   "execution_count": 15,
   "id": "29da0a3b",
   "metadata": {
    "language_info": {
     "name": "polyglot-notebook"
    },
    "polyglot_notebook": {
     "kernelName": "csharp"
    }
   },
   "outputs": [],
   "source": [
    "\n",
    "    public class Plan\n",
    "    {\n",
    "        [JsonPropertyName(\"assigned_agent\")]\n",
    "        public string? Assigned_agent { get; set; }\n",
    "\n",
    "        [JsonPropertyName(\"task_details\")]\n",
    "        public string? Task_details { get; set; }\n",
    "    }"
   ]
  },
  {
   "cell_type": "code",
   "execution_count": 16,
   "id": "4ebcbd7f",
   "metadata": {
    "language_info": {
     "name": "polyglot-notebook"
    },
    "polyglot_notebook": {
     "kernelName": "csharp"
    }
   },
   "outputs": [],
   "source": [
    "\n",
    "    public class TravelPlan\n",
    "    {\n",
    "        [JsonPropertyName(\"main_task\")]\n",
    "        public string? Main_task { get; set; }\n",
    "\n",
    "        [JsonPropertyName(\"subtasks\")]\n",
    "        public IList<Plan> Subtasks { get; set; }\n",
    "\n",
    "    }"
   ]
  },
  {
   "cell_type": "code",
   "execution_count": 17,
   "id": "60f013b6",
   "metadata": {
    "language_info": {
     "name": "polyglot-notebook"
    },
    "polyglot_notebook": {
     "kernelName": "csharp"
    }
   },
   "outputs": [],
   "source": [
    "\n",
    "ChatClientAgentOptions agentOptions = new(name: AGENT_NAME, instructions: AGENT_INSTRUCTIONS)\n",
    "{\n",
    "    ChatOptions = new()\n",
    "    {\n",
    "        ResponseFormat = ChatResponseFormatJson.ForJsonSchema(\n",
    "            schema: AIJsonUtilities.CreateJsonSchema(typeof(TravelPlan)),\n",
    "            schemaName: \"TravelPlan\",\n",
    "            schemaDescription: \"Travel Plan with main_task and subtasks\")\n",
    "    }\n",
    "};"
   ]
  },
  {
   "cell_type": "code",
   "execution_count": 18,
   "id": "3a503aa6",
   "metadata": {
    "language_info": {
     "name": "polyglot-notebook"
    },
    "polyglot_notebook": {
     "kernelName": "csharp"
    }
   },
   "outputs": [],
   "source": [
    "AIAgent agent = new OpenAIClient(new ApiKeyCredential(github_token), openAIOptions).GetChatClient(github_model_id).CreateAIAgent(\n",
    "    agentOptions);"
   ]
  },
  {
   "cell_type": "code",
   "execution_count": 19,
   "id": "a4682cd7",
   "metadata": {
    "language_info": {
     "name": "polyglot-notebook"
    },
    "polyglot_notebook": {
     "kernelName": "csharp"
    }
   },
   "outputs": [
    {
     "name": "stdout",
     "output_type": "stream",
     "text": [
      "{\"main_task\":\"Plan a family trip from Singapore to Melbourne\",\"subtasks\":[{\"assigned_agent\":\"FlightBooking\",\"task_details\":\"Find and book flights from Singapore to Melbourne for a family of 4.\"},{\"assigned_agent\":\"HotelBooking\",\"task_details\":\"Find and book a family-friendly hotel in Melbourne.\"},{\"assigned_agent\":\"CarRental\",\"task_details\":\"Arrange car rental in Melbourne for local transportation.\"},{\"assigned_agent\":\"ActivitiesBooking\",\"task_details\":\"Book family-friendly activities and attractions in Melbourne.\"},{\"assigned_agent\":\"DestinationInfo\",\"task_details\":\"Provide information about Melbourne, including dining and family-friendly areas.\"}]}\r\n"
     ]
    }
   ],
   "source": [
    "\n",
    "Console.WriteLine(await agent.RunAsync(\"Create a travel plan for a family of 4, with 2 kids, from Singapore to Melbourne\"));"
   ]
  },
  {
   "cell_type": "markdown",
   "metadata": {},
   "source": [
    "\n---\n\n**Izjava o odricanju odgovornosti**:  \nOvaj dokument je preveden pomoću AI usluge za prevođenje [Co-op Translator](https://github.com/Azure/co-op-translator). Iako nastojimo osigurati točnost, imajte na umu da automatski prijevodi mogu sadržavati pogreške ili netočnosti. Izvorni dokument na izvornom jeziku treba smatrati mjerodavnim izvorom. Za ključne informacije preporučuje se profesionalni prijevod od strane ljudskog prevoditelja. Ne preuzimamo odgovornost za nesporazume ili pogrešna tumačenja koja mogu proizaći iz korištenja ovog prijevoda.\n"
   ]
  }
 ],
 "metadata": {
  "kernelspec": {
   "display_name": ".NET (C#)",
   "language": "C#",
   "name": ".net-csharp"
  },
  "language_info": {
   "name": "polyglot-notebook"
  },
  "polyglot_notebook": {
   "kernelInfo": {
    "defaultKernelName": "csharp",
    "items": [
     {
      "aliases": [],
      "name": "csharp"
     }
    ]
   }
  },
  "coopTranslator": {
   "original_hash": "4e930adc2b1103a3ea6380ef338d7e9b",
   "translation_date": "2025-10-02T07:09:43+00:00",
   "source_file": "07-planning-design/code_samples/07-dotnet-agent-framework.ipynb",
   "language_code": "hr"
  }
 },
 "nbformat": 4,
 "nbformat_minor": 5
}