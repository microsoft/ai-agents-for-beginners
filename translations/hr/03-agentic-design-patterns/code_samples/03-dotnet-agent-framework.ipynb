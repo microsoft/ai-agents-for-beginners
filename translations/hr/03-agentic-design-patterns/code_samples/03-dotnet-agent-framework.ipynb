{
 "cells": [
  {
   "cell_type": "markdown",
   "id": "d6058fa4",
   "metadata": {},
   "source": [
    "# 🎨 Agentni dizajnerski obrasci s GitHub modelima (.NET)\n",
    "\n",
    "## 📋 Ciljevi učenja\n",
    "\n",
    "Ovaj priručnik prikazuje dizajnerske obrasce na razini poduzeća za izradu inteligentnih agenata koristeći Microsoft Agent Framework u .NET-u s integracijom GitHub modela. Naučit ćete profesionalne obrasce i arhitektonske pristupe koji čine agente spremnima za produkciju, održivima i skalabilnima.\n",
    "\n",
    "**Dizajnerski obrasci za poduzeća:**\n",
    "- 🏭 **Obrazac tvornice**: Standardizirano stvaranje agenata uz injekciju ovisnosti\n",
    "- 🔧 **Obrazac graditelja**: Fluentna konfiguracija i postavljanje agenata\n",
    "- 🧵 **Obrasci sigurni za niti**: Upravljanje razgovorima u više niti\n",
    "- 📋 **Obrazac repozitorija**: Organizirano upravljanje alatima i sposobnostima\n",
    "\n",
    "## 🎯 Arhitektonske prednosti specifične za .NET\n",
    "\n",
    "### Značajke za poduzeća\n",
    "- **Jako tipiziranje**: Provjera valjanosti u vrijeme kompajliranja i podrška za IntelliSense\n",
    "- **Injekcija ovisnosti**: Integracija ugrađenog DI spremnika\n",
    "- **Upravljanje konfiguracijom**: Obrasci IConfiguration i Options\n",
    "- **Async/Await**: Prvoklasna podrška za asinkrono programiranje\n",
    "\n",
    "### Obrasci spremni za produkciju\n",
    "- **Integracija zapisivanja**: Podrška za ILogger i strukturirano zapisivanje\n",
    "- **Provjere zdravlja**: Ugrađeno praćenje i dijagnostika\n",
    "- **Provjera konfiguracije**: Jako tipiziranje s validacijom podataka\n",
    "- **Upravljanje pogreškama**: Strukturirano upravljanje iznimkama\n",
    "\n",
    "## 🔧 Tehnička arhitektura\n",
    "\n",
    "### Osnovne .NET komponente\n",
    "- **Microsoft.Extensions.AI**: Ujednačene apstrakcije AI usluga\n",
    "- **Microsoft.Agents.AI**: Okvir za orkestraciju agenata na razini poduzeća\n",
    "- **Integracija GitHub modela**: Obrasci klijenata API-ja visokih performansi\n",
    "- **Sustav konfiguracije**: Integracija appsettings.json i okruženja\n",
    "\n",
    "### Implementacija dizajnerskih obrazaca\n",
    "```csharp\n",
    "IServiceCollection → Agent Builder → Configuration → Tool Registry → AI Agent\n",
    "```\n",
    "\n",
    "## 🏗️ Prikazani obrasci za poduzeća\n",
    "\n",
    "### 1. **Obrasci stvaranja**\n",
    "- **Tvornica agenata**: Centralizirano stvaranje agenata s dosljednom konfiguracijom\n",
    "- **Obrazac graditelja**: Fluentni API za složenu konfiguraciju agenata\n",
    "- **Obrazac singletona**: Upravljanje zajedničkim resursima i konfiguracijom\n",
    "- **Injekcija ovisnosti**: Slabo povezivanje i testabilnost\n",
    "\n",
    "### 2. **Obrasci ponašanja**\n",
    "- **Obrazac strategije**: Zamjenjive strategije izvršavanja alata\n",
    "- **Obrazac naredbe**: Inkapsulirane operacije agenata s undo/redo funkcionalnošću\n",
    "- **Obrazac promatrača**: Upravljanje životnim ciklusom agenata vođeno događajima\n",
    "- **Obrazac metode predloška**: Standardizirani tijekovi izvršavanja agenata\n",
    "\n",
    "### 3. **Strukturni obrasci**\n",
    "- **Obrazac adaptera**: Integracijski sloj za GitHub Models API\n",
    "- **Obrazac dekoratora**: Poboljšanje sposobnosti agenata\n",
    "- **Obrazac fasade**: Pojednostavljeni sučelji za interakciju s agentima\n",
    "- **Obrazac proxyja**: Lijeno učitavanje i predmemoriranje za performanse\n",
    "\n",
    "## ⚙️ Preduvjeti i postavljanje\n",
    "\n",
    "**Razvojno okruženje:**\n",
    "- .NET 9.0 SDK ili noviji\n",
    "- Visual Studio 2022 ili VS Code s C# ekstenzijom\n",
    "- Pristup GitHub Models API-ju\n",
    "\n",
    "**NuGet ovisnosti:**\n",
    "```xml\n",
    "<PackageReference Include=\"Microsoft.Extensions.AI\" Version=\"9.9.0\" />\n",
    "<PackageReference Include=\"Microsoft.Extensions.AI.OpenAI\" Version=\"9.9.0-preview.1.25458.4\" />\n",
    "<PackageReference Include=\"DotNetEnv\" Version=\"3.1.1\" />\n",
    "```\n",
    "\n",
    "**Konfiguracija (.env datoteka):**\n",
    "```env\n",
    "GITHUB_TOKEN=your_github_personal_access_token\n",
    "GITHUB_ENDPOINT=https://models.inference.ai.azure.com\n",
    "GITHUB_MODEL_ID=gpt-4o-mini\n",
    "```\n",
    "\n",
    "## 📚 Dizajnerska načela .NET-a\n",
    "\n",
    "### SOLID načela\n",
    "- **Jedinstvena odgovornost**: Svaka komponenta ima jednu jasnu svrhu\n",
    "- **Otvoreno/Zatvoreno**: Proširivo bez modifikacije\n",
    "- **Liskovljeva zamjena**: Implementacije alata temeljene na sučeljima\n",
    "- **Segregacija sučelja**: Fokusirana, kohezivna sučelja\n",
    "- **Inverzija ovisnosti**: Oslanjanje na apstrakcije, ne na konkretne implementacije\n",
    "\n",
    "### Čista arhitektura\n",
    "- **Domena**: Osnovne apstrakcije agenata i alata\n",
    "- **Aplikacijski sloj**: Orkestracija agenata i tijekovi rada\n",
    "- **Infrastrukturni sloj**: Integracija GitHub modela i vanjskih usluga\n",
    "- **Prezentacijski sloj**: Interakcija s korisnicima i formatiranje odgovora\n",
    "\n",
    "## 🔒 Razmatranja za poduzeća\n",
    "\n",
    "### Sigurnost\n",
    "- **Upravljanje vjerodajnicama**: Sigurno rukovanje API ključevima uz IConfiguration\n",
    "- **Validacija unosa**: Jako tipiziranje i validacija podataka\n",
    "- **Sanitizacija izlaza**: Sigurno procesiranje i filtriranje odgovora\n",
    "- **Zapisivanje revizije**: Sveobuhvatno praćenje operacija\n",
    "\n",
    "### Performanse\n",
    "- **Asinkroni obrasci**: Operacije koje ne blokiraju I/O\n",
    "- **Pooliranje veza**: Učinkovito upravljanje HTTP klijentima\n",
    "- **Predmemoriranje**: Predmemoriranje odgovora za poboljšane performanse\n",
    "- **Upravljanje resursima**: Pravilno odlaganje i obrasci čišćenja\n",
    "\n",
    "### Skalabilnost\n",
    "- **Sigurnost za niti**: Podrška za istovremeno izvršavanje agenata\n",
    "- **Pooliranje resursa**: Učinkovito korištenje resursa\n",
    "- **Upravljanje opterećenjem**: Ograničavanje brzine i rukovanje povratnim pritiskom\n",
    "- **Praćenje**: Metrike performansi i provjere zdravlja\n",
    "\n",
    "## 🚀 Produkcijsko postavljanje\n",
    "\n",
    "- **Upravljanje konfiguracijom**: Postavke specifične za okruženje\n",
    "- **Strategija zapisivanja**: Strukturirano zapisivanje s ID-ovima za korelaciju\n",
    "- **Upravljanje pogreškama**: Globalno rukovanje iznimkama s pravilnim oporavkom\n",
    "- **Praćenje**: Application Insights i brojači performansi\n",
    "- **Testiranje**: Obrasci za jedinično testiranje, integracijsko testiranje i testiranje opterećenja\n",
    "\n",
    "Spremni za izradu inteligentnih agenata na razini poduzeća s .NET-om? Idemo arhitektirati nešto robusno! 🏢✨\n"
   ]
  },
  {
   "cell_type": "code",
   "execution_count": 1,
   "id": "2770ac5c",
   "metadata": {
    "language_info": {
     "name": "polyglot-notebook"
    },
    "polyglot_notebook": {
     "kernelName": "csharp"
    }
   },
   "outputs": [
    {
     "data": {
      "text/html": [
       "<div><div></div><div></div><div><strong>Installed Packages</strong><ul><li><span>Microsoft.Extensions.AI, 9.9.1</span></li></ul></div></div>"
      ]
     },
     "metadata": {},
     "output_type": "display_data"
    }
   ],
   "source": [
    "#r \"nuget: Microsoft.Extensions.AI, 9.9.1\""
   ]
  },
  {
   "cell_type": "code",
   "execution_count": null,
   "id": "984ff6cd",
   "metadata": {
    "language_info": {
     "name": "polyglot-notebook"
    },
    "polyglot_notebook": {
     "kernelName": "csharp"
    }
   },
   "outputs": [
    {
     "data": {
      "text/html": [
       "<div><div></div><div></div><div><strong>Installed Packages</strong><ul><li><span>Microsoft.Agents.AI.OpenAI, 1.0.0-preview.251001.2</span></li></ul></div></div>"
      ]
     },
     "metadata": {},
     "output_type": "display_data"
    }
   ],
   "source": [
    "#r \"nuget: Microsoft.Agents.AI.OpenAI, 1.0.0-preview.251001.3\""
   ]
  },
  {
   "cell_type": "code",
   "execution_count": null,
   "id": "0ab71360",
   "metadata": {
    "language_info": {
     "name": "polyglot-notebook"
    },
    "polyglot_notebook": {
     "kernelName": "csharp"
    }
   },
   "outputs": [
    {
     "data": {
      "text/html": [
       "<div><div></div><div></div><div><strong>Installed Packages</strong><ul><li><span>microsoft.agents.ai, 1.0.0-preview.251001.2</span></li></ul></div></div>"
      ]
     },
     "metadata": {},
     "output_type": "display_data"
    }
   ],
   "source": [
    "\n",
    "\n",
    "#r \"nuget: Microsoft.Agents.AI, 1.0.0-preview.251001.3\""
   ]
  },
  {
   "cell_type": "code",
   "execution_count": 4,
   "id": "4ab7b15d",
   "metadata": {
    "language_info": {
     "name": "polyglot-notebook"
    },
    "polyglot_notebook": {
     "kernelName": "csharp"
    }
   },
   "outputs": [],
   "source": [
    "// #r \"nuget: Microsoft.Extensions.AI.OpenAI, 9.9.0-preview.1.25458.4\""
   ]
  },
  {
   "cell_type": "code",
   "execution_count": 5,
   "id": "3fa8aa21",
   "metadata": {
    "language_info": {
     "name": "polyglot-notebook"
    },
    "polyglot_notebook": {
     "kernelName": "csharp"
    }
   },
   "outputs": [
    {
     "data": {
      "text/html": [
       "<div><div></div><div></div><div><strong>Installed Packages</strong><ul><li><span>DotNetEnv, 3.1.1</span></li></ul></div></div>"
      ]
     },
     "metadata": {},
     "output_type": "display_data"
    }
   ],
   "source": [
    "#r \"nuget: DotNetEnv, 3.1.1\""
   ]
  },
  {
   "cell_type": "code",
   "execution_count": 6,
   "id": "fc8ee8ea",
   "metadata": {
    "language_info": {
     "name": "polyglot-notebook"
    },
    "polyglot_notebook": {
     "kernelName": "csharp"
    }
   },
   "outputs": [],
   "source": [
    "using System;\n",
    "using System.ComponentModel;\n",
    "using System.ClientModel;\n",
    "\n",
    "using Microsoft.Extensions.AI;\n",
    "using Microsoft.Agents.AI;\n",
    "using OpenAI;"
   ]
  },
  {
   "cell_type": "code",
   "execution_count": 7,
   "id": "699b1c83",
   "metadata": {
    "language_info": {
     "name": "polyglot-notebook"
    },
    "polyglot_notebook": {
     "kernelName": "csharp"
    }
   },
   "outputs": [],
   "source": [
    " using DotNetEnv;"
   ]
  },
  {
   "cell_type": "code",
   "execution_count": 8,
   "id": "daa649a0",
   "metadata": {
    "language_info": {
     "name": "polyglot-notebook"
    },
    "polyglot_notebook": {
     "kernelName": "csharp"
    }
   },
   "outputs": [],
   "source": [
    "Env.Load(\"../../../.env\");"
   ]
  },
  {
   "cell_type": "code",
   "execution_count": 9,
   "id": "29661a90",
   "metadata": {
    "language_info": {
     "name": "polyglot-notebook"
    },
    "polyglot_notebook": {
     "kernelName": "csharp"
    }
   },
   "outputs": [],
   "source": [
    "[Description(\"Provides a random vacation destination.\")]\n",
    "static string GetRandomDestination()\n",
    "{\n",
    "    var destinations = new List<string>\n",
    "    {\n",
    "        \"Paris, France\",\n",
    "        \"Tokyo, Japan\",\n",
    "        \"New York City, USA\",\n",
    "        \"Sydney, Australia\",\n",
    "        \"Rome, Italy\",\n",
    "        \"Barcelona, Spain\",\n",
    "        \"Cape Town, South Africa\",\n",
    "        \"Rio de Janeiro, Brazil\",\n",
    "        \"Bangkok, Thailand\",\n",
    "        \"Vancouver, Canada\"\n",
    "    };\n",
    "\n",
    "    var random = new Random();\n",
    "    int index = random.Next(destinations.Count);\n",
    "    return destinations[index];\n",
    "}"
   ]
  },
  {
   "cell_type": "code",
   "execution_count": 10,
   "id": "d2ed1f8b",
   "metadata": {
    "language_info": {
     "name": "polyglot-notebook"
    },
    "polyglot_notebook": {
     "kernelName": "csharp"
    }
   },
   "outputs": [],
   "source": [
    "var github_endpoint = Environment.GetEnvironmentVariable(\"GITHUB_ENDPOINT\") ?? throw new InvalidOperationException(\"GITHUB_ENDPOINT is not set.\");\n",
    "var github_model_id = Environment.GetEnvironmentVariable(\"GITHUB_MODEL_ID\") ?? \"gpt-4o-mini\";\n",
    "var github_token = Environment.GetEnvironmentVariable(\"GITHUB_TOKEN\") ?? throw new InvalidOperationException(\"GITHUB_TOKEN is not set.\");"
   ]
  },
  {
   "cell_type": "code",
   "execution_count": 11,
   "id": "c36c73e1",
   "metadata": {
    "language_info": {
     "name": "polyglot-notebook"
    },
    "polyglot_notebook": {
     "kernelName": "csharp"
    }
   },
   "outputs": [],
   "source": [
    "var openAIOptions = new OpenAIClientOptions()\n",
    "{\n",
    "    Endpoint= new Uri(github_endpoint)\n",
    "};"
   ]
  },
  {
   "cell_type": "code",
   "execution_count": 12,
   "id": "6d94ff10",
   "metadata": {
    "language_info": {
     "name": "polyglot-notebook"
    },
    "polyglot_notebook": {
     "kernelName": "csharp"
    }
   },
   "outputs": [],
   "source": [
    "\n",
    "var openAIClient = new OpenAIClient(new ApiKeyCredential(github_token), openAIOptions);"
   ]
  },
  {
   "cell_type": "code",
   "execution_count": 13,
   "id": "fe32b57a",
   "metadata": {
    "language_info": {
     "name": "polyglot-notebook"
    },
    "polyglot_notebook": {
     "kernelName": "csharp"
    }
   },
   "outputs": [],
   "source": [
    "AIAgent agent = new OpenAIClient(new ApiKeyCredential(github_token), openAIOptions).GetChatClient(github_model_id).CreateAIAgent(\n",
    "    instructions:\"You are a helpful AI Agent that can help plan vacations for customers at random destinations\", tools: [AIFunctionFactory.Create((Func<string>)GetRandomDestination)]);"
   ]
  },
  {
   "cell_type": "code",
   "execution_count": 14,
   "metadata": {
    "language_info": {
     "name": "polyglot-notebook"
    },
    "polyglot_notebook": {
     "kernelName": "csharp"
    }
   },
   "outputs": [],
   "source": [
    "AgentThread thread = agent.GetNewThread();"
   ]
  },
  {
   "cell_type": "code",
   "execution_count": 15,
   "id": "5e455aff",
   "metadata": {
    "language_info": {
     "name": "polyglot-notebook"
    },
    "polyglot_notebook": {
     "kernelName": "csharp"
    }
   },
   "outputs": [
    {
     "name": "stdout",
     "output_type": "stream",
     "text": [
      "How about a day trip to Vancouver, Canada? Here's a suggested itinerary for your day:\n",
      "\n",
      "### Morning\n",
      "- **Breakfast at a Local Cafe**: Start your day with a delicious breakfast at a cozy café like **Jam Cafe** or **Cafe Medina**.\n",
      "- **Stanley Park**: After breakfast, head to Stanley Park. You can rent a bike and ride along the seawall, enjoying beautiful views of the city and the water.\n",
      "\n",
      "### Afternoon\n",
      "- **Lunch in Gastown**: Make your way to Gastown for lunch. Try a local favorite like **The Flying Pig** or **Noodle Box**.\n",
      "- **Explore Gastown**: After lunch, walk around Gastown to see the iconic Steam Clock and browse the unique shops and boutiques.\n",
      "\n",
      "### Late Afternoon\n",
      "- **Granville Island**: Visit Granville Island, where you can stroll through the public market, sample local foods, and enjoy artisan shops.\n",
      "- **False Creek**: Take a walk along False Creek and enjoy the waterfront views.\n",
      "\n",
      "### Evening\n",
      "- **Dinner at a Waterfront Restaurant**: End your day with dinner at a waterfront restaurant like **The Boathouse** or **Lift Bar Grill View** for great food and a view of the sunset.\n",
      "- **Optional: Sunset Cruise**: If you're up for it, consider taking a sunset cruise for a different perspective of the city.\n",
      "\n",
      "### Tips\n",
      "- Make sure to check the weather beforehand!\n",
      "- Consider public transport or ride-sharing to navigate the city easily.\n",
      "\n",
      "Enjoy your day trip to Vancouver!\r\n"
     ]
    }
   ],
   "source": [
    "Console.WriteLine(await agent.RunAsync(\"Plan me a day trip\",thread));"
   ]
  },
  {
   "cell_type": "code",
   "execution_count": 16,
   "id": "592ae1bb",
   "metadata": {
    "language_info": {
     "name": "polyglot-notebook"
    },
    "polyglot_notebook": {
     "kernelName": "csharp"
    }
   },
   "outputs": [
    {
     "name": "stdout",
     "output_type": "stream",
     "text": [
      "How about a vacation to New York City, USA? Here's a suggested itinerary for your trip:\n",
      "\n",
      "### Day 1: Arrival in New York City\n",
      "- **Check-In**: Arrive and check in to your hotel.\n",
      "- **Central Park**: Take a leisurely stroll through Central Park. Consider renting a bike or taking a carriage ride.\n",
      "- **Evening**: Enjoy dinner at a classic NYC restaurant, such as **Katz's Delicatessen** or **Carbone**.\n",
      "\n",
      "### Day 2: Iconic Landmarks\n",
      "- **Morning**: Breakfast at a local diner.\n",
      "- **Statue of Liberty & Ellis Island**: Take a ferry to visit these iconic landmarks.\n",
      "- **Afternoon**: Explore Wall Street and visit the 9/11 Memorial & Museum.\n",
      "- **Evening**: Dinner in the Financial District followed by a walk across the Brooklyn Bridge at sunset.\n",
      "\n",
      "### Day 3: Culture and Arts\n",
      "- **Morning**: Visit The Metropolitan Museum of Art (The Met) and spend a few hours exploring its vast collection.\n",
      "- **Afternoon**: Head to Times Square for lunch and the buzz of the city.\n",
      "- **Broadway Show**: Catch a Broadway show in the evening. Be sure to book tickets in advance!\n",
      "\n",
      "### Day 4: Explore Neighborhoods\n",
      "- **Morning**: Head to SoHo for brunch and shopping in its chic boutiques.\n",
      "- **Afternoon**: Explore Greenwich Village, known for its bohemian atmosphere and history.\n",
      "- **Evening**: Enjoy dinner in the West Village, perhaps at **Buvette** or **Minetta Tavern**.\n",
      "\n",
      "### Day 5: Departure\n",
      "- **Last-minute Shopping**: Spend your last morning shopping at Fifth Avenue or head to Chelsea Market for food and souvenirs.\n",
      "- **Check-Out**: Depart for your journey home.\n",
      "\n",
      "### Tips\n",
      "- Utilize the subway for efficient travel around the city.\n",
      "- Make reservations for popular restaurants and attractions ahead of time!\n",
      "\n",
      "Enjoy your trip to New York City!\r\n"
     ]
    }
   ],
   "source": [
    "Console.WriteLine(await agent.RunAsync(\"I don't like that destination. Plan me another vacation.\",thread));"
   ]
  },
  {
   "cell_type": "markdown",
   "metadata": {},
   "source": [
    "\n---\n\n**Izjava o odricanju odgovornosti**:  \nOvaj dokument je preveden pomoću AI usluge za prevođenje [Co-op Translator](https://github.com/Azure/co-op-translator). Iako nastojimo osigurati točnost, imajte na umu da automatski prijevodi mogu sadržavati pogreške ili netočnosti. Izvorni dokument na izvornom jeziku treba smatrati autoritativnim izvorom. Za ključne informacije preporučuje se profesionalni prijevod od strane ljudskog prevoditelja. Ne preuzimamo odgovornost za nesporazume ili pogrešne interpretacije koje proizlaze iz korištenja ovog prijevoda.\n"
   ]
  }
 ],
 "metadata": {
  "kernelspec": {
   "display_name": ".NET (C#)",
   "language": "C#",
   "name": ".net-csharp"
  },
  "language_info": {
   "name": "polyglot-notebook"
  },
  "polyglot_notebook": {
   "kernelInfo": {
    "defaultKernelName": "csharp",
    "items": [
     {
      "aliases": [],
      "name": "csharp"
     }
    ]
   }
  },
  "coopTranslator": {
   "original_hash": "070c1d8985b3dc6e6d977f3e891037f1",
   "translation_date": "2025-10-02T07:09:06+00:00",
   "source_file": "03-agentic-design-patterns/code_samples/03-dotnet-agent-framework.ipynb",
   "language_code": "hr"
  }
 },
 "nbformat": 4,
 "nbformat_minor": 5
}