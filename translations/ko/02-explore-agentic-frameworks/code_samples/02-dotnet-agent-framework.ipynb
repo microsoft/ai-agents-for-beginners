{
 "cells": [
  {
   "cell_type": "markdown",
   "id": "e480f8dc",
   "metadata": {},
   "source": [
    "# 🔍 에이전트 프레임워크 탐구 - 기본 에이전트 (.NET)\n",
    "\n",
    "## 📋 학습 목표\n",
    "\n",
    "이 노트북은 .NET에서 기본 에이전트 구현을 통해 Microsoft 에이전트 프레임워크의 기본 개념을 탐구합니다. C#과 .NET 생태계를 활용하여 지능형 에이전트가 내부적으로 어떻게 작동하는지 이해하고 핵심 에이전트 패턴을 배울 수 있습니다.\n",
    "\n",
    "**학습 내용:**\n",
    "- 🏗️ **에이전트 아키텍처**: .NET에서 AI 에이전트의 기본 구조 이해\n",
    "- 🛠️ **도구 통합**: 에이전트가 외부 기능을 사용하여 능력을 확장하는 방법  \n",
    "- 💬 **대화 흐름**: 스레드 관리를 통해 다중 턴 대화와 컨텍스트 관리\n",
    "- 🔧 **구성 패턴**: .NET에서 에이전트 설정 및 관리에 대한 모범 사례\n",
    "\n",
    "## 🎯 주요 개념\n",
    "\n",
    "### 에이전트 프레임워크 원칙\n",
    "- **자율성**: .NET AI 추상화를 사용하여 에이전트가 독립적으로 결정을 내리는 방법\n",
    "- **반응성**: 환경 변화와 사용자 입력에 대응하는 능력\n",
    "- **능동성**: 목표와 컨텍스트를 기반으로 주도적으로 행동하는 능력\n",
    "- **사회적 능력**: 대화 스레드를 통해 자연어로 상호작용\n",
    "\n",
    "### 기술 구성 요소\n",
    "- **AIAgent**: 에이전트 오케스트레이션 및 대화 관리 (.NET)\n",
    "- **도구 함수**: C# 메서드와 속성을 사용하여 에이전트 기능 확장\n",
    "- **OpenAI 통합**: 표준화된 .NET API를 통해 언어 모델 활용\n",
    "- **환경 관리**: DotNetEnv를 사용한 안전한 구성 및 자격 증명 처리\n",
    "\n",
    "## ⚙️ 사전 준비 및 설정\n",
    "\n",
    "**필수 종속성:**\n",
    "- .NET 9.0 SDK 이상\n",
    "- Visual Studio 2022 또는 C# 확장이 포함된 VS Code\n",
    "\n",
    "**NuGet 패키지:**\n",
    "- `Microsoft.Extensions.AI` - 핵심 AI 추상화\n",
    "- `Microsoft.Extensions.AI.OpenAI` - OpenAI 통합 (미리보기)\n",
    "- `DotNetEnv` - 환경 변수 관리\n",
    "\n",
    "**환경 구성 (.env 파일):**\n",
    "```env\n",
    "GITHUB_TOKEN=your_github_personal_access_token\n",
    "GITHUB_ENDPOINT=https://models.inference.ai.azure.com\n",
    "GITHUB_MODEL_ID=gpt-4o-mini\n",
    "```\n",
    "\n",
    "## 🔧 기술 스택\n",
    "\n",
    "**핵심 기술:**\n",
    "- Microsoft 에이전트 프레임워크 (.NET)\n",
    "- GitHub Models API 통합\n",
    "- OpenAI 호환 클라이언트 패턴\n",
    "- DotNetEnv를 사용한 환경 기반 구성\n",
    "\n",
    "**에이전트 기능:**\n",
    "- 자연어 이해 및 생성\n",
    "- C# 속성을 사용한 함수 호출 및 도구 사용\n",
    "- 대화 스레드를 통한 컨텍스트 인식 응답\n",
    "- 종속성 주입 패턴을 활용한 확장 가능한 아키텍처\n",
    "\n",
    "## 📚 프레임워크 비교\n",
    "\n",
    "이 예제는 .NET에서 Microsoft 에이전트 프레임워크 접근 방식을 다른 플랫폼과 비교하여 보여줍니다:\n",
    "\n",
    "| 기능 | .NET 에이전트 프레임워크 | Python 동등 프레임워크 |\n",
    "|------|-----------------------|---------------------|\n",
    "| **타입 안정성** | C#의 강력한 타입 | 동적 타입 |\n",
    "| **통합** | 네이티브 .NET 생태계 | 다양한 호환성 |\n",
    "| **성능** | 컴파일된 코드 성능 | 인터프리터 실행 |\n",
    "| **엔터프라이즈 준비** | 프로덕션 .NET 앱에 적합 | 프레임워크에 따라 다름 |\n",
    "| **도구** | Visual Studio 통합 | IDE에 따라 다름 |\n",
    "\n",
    "## 🚀 시작하기\n",
    "\n",
    "아래 셀을 따라가며 .NET에서 첫 번째 기본 에이전트를 구축하고 에이전트의 기본 개념을 이해해 보세요!\n"
   ]
  },
  {
   "cell_type": "code",
   "execution_count": 1,
   "id": "2770ac5c",
   "metadata": {
    "language_info": {
     "name": "polyglot-notebook"
    },
    "polyglot_notebook": {
     "kernelName": "csharp"
    }
   },
   "outputs": [
    {
     "data": {
      "text/html": [
       "<div><div></div><div></div><div><strong>Installed Packages</strong><ul><li><span>Microsoft.Extensions.AI, 9.9.1</span></li></ul></div></div>"
      ]
     },
     "metadata": {},
     "output_type": "display_data"
    }
   ],
   "source": [
    "// 📦 NuGet Package Reference: Microsoft Extensions AI\n",
    "// Core AI abstraction layer for .NET applications\n",
    "// Provides standardized interfaces for AI services and agent development\n",
    "// Essential foundation for building intelligent agents in .NET\n",
    "#r \"nuget: Microsoft.Extensions.AI, 9.9.1\""
   ]
  },
  {
   "cell_type": "code",
   "execution_count": null,
   "id": "984ff6cd",
   "metadata": {
    "language_info": {
     "name": "polyglot-notebook"
    },
    "polyglot_notebook": {
     "kernelName": "csharp"
    }
   },
   "outputs": [
    {
     "data": {
      "text/html": [
       "<div><div></div><div></div><div><strong>Installed Packages</strong><ul><li><span>Microsoft.Agents.AI.OpenAI, 1.0.0-preview.251001.2</span></li></ul></div></div>"
      ]
     },
     "metadata": {},
     "output_type": "display_data"
    }
   ],
   "source": [
    "// 🔗 Local Assembly Reference: Microsoft Agents AI OpenAI\n",
    "// References the local build of the Microsoft Agent Framework OpenAI integration\n",
    "// Contains OpenAI-specific implementations and GitHub Models compatibility\n",
    "// This enables agents to connect to OpenAI-compatible APIs including GitHub Models\n",
    "\n",
    "#r \"nuget: Microsoft.Agents.AI.OpenAI, 1.0.0-preview.251001.3\""
   ]
  },
  {
   "cell_type": "code",
   "execution_count": null,
   "id": "0ab71360",
   "metadata": {
    "language_info": {
     "name": "polyglot-notebook"
    },
    "polyglot_notebook": {
     "kernelName": "csharp"
    }
   },
   "outputs": [
    {
     "data": {
      "text/html": [
       "<div><div></div><div></div><div><strong>Installed Packages</strong><ul><li><span>microsoft.agents.ai, 1.0.0-preview.251001.2</span></li></ul></div></div>"
      ]
     },
     "metadata": {},
     "output_type": "display_data"
    }
   ],
   "source": [
    "// 🤖 Local Assembly Reference: Core Microsoft Agents AI\n",
    "// References the core Microsoft Agent Framework library\n",
    "// Provides fundamental agent abstractions, orchestration, and management capabilities\n",
    "// Essential for creating and configuring AI agents in .NET applications\n",
    "\n",
    "#r \"nuget: Microsoft.Agents.AI, 1.0.0-preview.251001.3\""
   ]
  },
  {
   "cell_type": "code",
   "execution_count": 4,
   "id": "4ab7b15d",
   "metadata": {
    "language_info": {
     "name": "polyglot-notebook"
    },
    "polyglot_notebook": {
     "kernelName": "csharp"
    }
   },
   "outputs": [],
   "source": [
    "// 🔌 NuGet Package Reference: OpenAI Integration (Preview)\n",
    "// Preview version of Microsoft Extensions AI OpenAI integration\n",
    "// Provides OpenAI client and service implementations for .NET\n",
    "// Enables communication with OpenAI API and GitHub Models service\n",
    "// #r \"nuget: Microsoft.Extensions.AI.OpenAI, 9.9.0-preview.1.25458.4\""
   ]
  },
  {
   "cell_type": "code",
   "execution_count": 5,
   "id": "3fa8aa21",
   "metadata": {
    "language_info": {
     "name": "polyglot-notebook"
    },
    "polyglot_notebook": {
     "kernelName": "csharp"
    }
   },
   "outputs": [
    {
     "data": {
      "text/html": [
       "<div><div></div><div></div><div><strong>Installed Packages</strong><ul><li><span>DotNetEnv, 3.1.1</span></li></ul></div></div>"
      ]
     },
     "metadata": {},
     "output_type": "display_data"
    }
   ],
   "source": [
    "// 🔧 NuGet Package Reference: Environment Variable Management\n",
    "// DotNetEnv allows loading environment variables from .env files in .NET\n",
    "// Essential for secure API key and configuration management\n",
    "// Keeps sensitive information out of source code and enables environment-based config\n",
    "#r \"nuget: DotNetEnv, 3.1.1\""
   ]
  },
  {
   "cell_type": "code",
   "execution_count": 6,
   "id": "fc8ee8ea",
   "metadata": {
    "language_info": {
     "name": "polyglot-notebook"
    },
    "polyglot_notebook": {
     "kernelName": "csharp"
    }
   },
   "outputs": [],
   "source": [
    "// 📚 Import Essential Namespaces for Agent Development\n",
    "using System;                          // Core system types and functionality\n",
    "using System.ComponentModel;           // For Description attributes on agent tool methods\n",
    "using System.ClientModel;             // Client model abstractions for API interactions\n",
    "\n",
    "using Microsoft.Extensions.AI;        // Core AI service abstractions and interfaces\n",
    "using Microsoft.Agents.AI;           // Agent framework classes and orchestration system\n",
    "using OpenAI;                         // OpenAI client library for GitHub Models integration"
   ]
  },
  {
   "cell_type": "code",
   "execution_count": 7,
   "id": "699b1c83",
   "metadata": {
    "language_info": {
     "name": "polyglot-notebook"
    },
    "polyglot_notebook": {
     "kernelName": "csharp"
    }
   },
   "outputs": [],
   "source": [
    "// 🔧 Import Environment Variable Loading Namespace\n",
    "// DotNetEnv namespace for loading .env files in .NET applications\n",
    "// Enables secure configuration management from external files\n",
    "// Essential for keeping API keys and sensitive data out of source code\n",
    "using DotNetEnv;"
   ]
  },
  {
   "cell_type": "code",
   "execution_count": 8,
   "id": "daa649a0",
   "metadata": {
    "language_info": {
     "name": "polyglot-notebook"
    },
    "polyglot_notebook": {
     "kernelName": "csharp"
    }
   },
   "outputs": [],
   "source": [
    "// 🔧 Load Environment Configuration from .env File\n",
    "// Load configuration from a .env file located 3 directories up from current location\n",
    "// This loads: GITHUB_ENDPOINT, GITHUB_TOKEN, GITHUB_MODEL_ID\n",
    "// Ensures secure handling of API credentials and configuration settings\n",
    "Env.Load(\"../../../.env\");"
   ]
  },
  {
   "cell_type": "code",
   "execution_count": 9,
   "id": "29661a90",
   "metadata": {
    "language_info": {
     "name": "polyglot-notebook"
    },
    "polyglot_notebook": {
     "kernelName": "csharp"
    }
   },
   "outputs": [],
   "source": [
    "// 🎲 Tool Function: Random Destination Generator (.NET Implementation)\n",
    "// This static method demonstrates how to create tools for agents in .NET\n",
    "// The [Description] attribute helps the AI understand when and how to use this function\n",
    "// This showcases the .NET approach to extending agent capabilities with custom tools\n",
    "[Description(\"Provides a random vacation destination.\")]\n",
    "static string GetRandomDestination()\n",
    "{\n",
    "    // Curated list of popular vacation destinations worldwide\n",
    "    // The agent will randomly select from these options when users need destination suggestions\n",
    "    var destinations = new List<string>\n",
    "    {\n",
    "        \"Paris, France\",         // European cultural capital\n",
    "        \"Tokyo, Japan\",          // Asian modern metropolis  \n",
    "        \"New York City, USA\",    // American urban experience\n",
    "        \"Sydney, Australia\",     // Oceanic coastal beauty\n",
    "        \"Rome, Italy\",           // Historical European city\n",
    "        \"Barcelona, Spain\",      // Mediterranean cultural hub\n",
    "        \"Cape Town, South Africa\", // African scenic destination\n",
    "        \"Rio de Janeiro, Brazil\",  // South American beach city\n",
    "        \"Bangkok, Thailand\",        // Southeast Asian cultural center\n",
    "        \"Vancouver, Canada\"         // North American natural beauty\n",
    "    };\n",
    "\n",
    "    // Generate random index using System.Random and return selected destination\n",
    "    // This demonstrates simple random selection in .NET\n",
    "    var random = new Random();\n",
    "    int index = random.Next(destinations.Count);\n",
    "    return destinations[index];\n",
    "}"
   ]
  },
  {
   "cell_type": "code",
   "execution_count": 10,
   "id": "d2ed1f8b",
   "metadata": {
    "language_info": {
     "name": "polyglot-notebook"
    },
    "polyglot_notebook": {
     "kernelName": "csharp"
    }
   },
   "outputs": [],
   "source": [
    "// 🔑 Extract and Validate Configuration from Environment Variables\n",
    "// Retrieve GitHub Models API endpoint - throws exception if not configured\n",
    "var github_endpoint = Environment.GetEnvironmentVariable(\"GITHUB_ENDPOINT\") ?? throw new InvalidOperationException(\"GITHUB_ENDPOINT is not set.\");\n",
    "// Get the AI model ID - defaults to gpt-4o-mini if not specified\n",
    "var github_model_id = Environment.GetEnvironmentVariable(\"GITHUB_MODEL_ID\") ?? \"gpt-4o-mini\";\n",
    "// Retrieve GitHub authentication token - throws exception if missing\n",
    "var github_token = Environment.GetEnvironmentVariable(\"GITHUB_TOKEN\") ?? throw new InvalidOperationException(\"GITHUB_TOKEN is not set.\");"
   ]
  },
  {
   "cell_type": "code",
   "execution_count": 11,
   "id": "c36c73e1",
   "metadata": {
    "language_info": {
     "name": "polyglot-notebook"
    },
    "polyglot_notebook": {
     "kernelName": "csharp"
    }
   },
   "outputs": [],
   "source": [
    "// ⚙️ Configure OpenAI Client Options for GitHub Models Integration\n",
    "// Create configuration options to redirect OpenAI client calls to GitHub Models endpoint\n",
    "// This enables using OpenAI-compatible APIs with GitHub's model inference service\n",
    "var openAIOptions = new OpenAIClientOptions()\n",
    "{\n",
    "    Endpoint= new Uri(github_endpoint)  // Set custom endpoint for GitHub Models API\n",
    "};"
   ]
  },
  {
   "cell_type": "code",
   "execution_count": 12,
   "id": "6d94ff10",
   "metadata": {
    "language_info": {
     "name": "polyglot-notebook"
    },
    "polyglot_notebook": {
     "kernelName": "csharp"
    }
   },
   "outputs": [],
   "source": [
    "// 🔌 Initialize OpenAI Client with GitHub Models Configuration\n",
    "// Create OpenAI client instance using GitHub token for authentication\n",
    "// Configure it to use GitHub Models endpoint instead of OpenAI directly\n",
    "// This client will handle all communication with the AI model\n",
    "var openAIClient = new OpenAIClient(new ApiKeyCredential(github_token), openAIOptions);"
   ]
  },
  {
   "cell_type": "code",
   "execution_count": 13,
   "metadata": {
    "language_info": {
     "name": "polyglot-notebook"
    },
    "polyglot_notebook": {
     "kernelName": "csharp"
    }
   },
   "outputs": [],
   "source": [
    "// 🤖 Define Agent Identity and Comprehensive Instructions\n",
    "// Agent name for identification and logging purposes\n",
    "const string AGENT_NAME =\"TravelAgent\";\n",
    "\n",
    "// Detailed instructions that define the agent's personality, capabilities, and behavior\n",
    "// This system prompt shapes how the agent responds and interacts with users\n",
    "const string AGENT_INSTRUCTIONS = @\"You are a helpful AI Agent that can help plan vacations for customers.\n",
    "\n",
    "Important: When users specify a destination, always plan for that location. Only suggest random destinations when the user hasn't specified a preference.\n",
    "\n",
    "When the conversation begins, introduce yourself with this message:\n",
    "\"\"Hello! I'm your TravelAgent assistant. I can help plan vacations and suggest interesting destinations for you. Here are some things you can ask me:\n",
    "1. Plan a day trip to a specific location\n",
    "2. Suggest a random vacation destination\n",
    "3. Find destinations with specific features (beaches, mountains, historical sites, etc.)\n",
    "4. Plan an alternative trip if you don't like my first suggestion\n",
    "\n",
    "What kind of trip would you like me to help you plan today?\"\"\n",
    "\n",
    "Always prioritize user preferences. If they mention a specific destination like \"\"Bali\"\" or \"\"Paris,\"\" focus your planning on that location rather than suggesting alternatives.\n",
    "\";"
   ]
  },
  {
   "cell_type": "code",
   "execution_count": 14,
   "id": "fe32b57a",
   "metadata": {
    "language_info": {
     "name": "polyglot-notebook"
    },
    "polyglot_notebook": {
     "kernelName": "csharp"
    }
   },
   "outputs": [],
   "source": [
    "// 🤖 Create AI Agent with Advanced Travel Planning Capabilities\n",
    "// Initialize complete agent pipeline: OpenAI client → Chat client → AI agent\n",
    "// Configure agent with name, detailed instructions, and available tools\n",
    "// This demonstrates the .NET agent creation pattern with full configuration\n",
    "AIAgent agent = new OpenAIClient(new ApiKeyCredential(github_token), openAIOptions)\n",
    "    .GetChatClient(github_model_id)  // Get chat client for the specified AI model\n",
    "    .CreateAIAgent(\n",
    "        name:AGENT_NAME,             // Set agent identifier for logging and tracking\n",
    "        instructions:AGENT_INSTRUCTIONS,  // Comprehensive behavior and personality instructions\n",
    "        tools: [AIFunctionFactory.Create((Func<string>)GetRandomDestination)]  // Register tool functions\n",
    "    );"
   ]
  },
  {
   "cell_type": "code",
   "execution_count": 15,
   "metadata": {
    "language_info": {
     "name": "polyglot-notebook"
    },
    "polyglot_notebook": {
     "kernelName": "csharp"
    }
   },
   "outputs": [],
   "source": [
    "// 🧵 Create New Conversation Thread for Context Management\n",
    "// Initialize a new conversation thread to maintain context across multiple interactions\n",
    "// Threads enable the agent to remember previous exchanges and maintain conversational state\n",
    "// This is essential for multi-turn conversations and contextual understanding\n",
    "AgentThread thread = agent.GetNewThread();"
   ]
  },
  {
   "cell_type": "code",
   "execution_count": 16,
   "id": "5e455aff",
   "metadata": {
    "language_info": {
     "name": "polyglot-notebook"
    },
    "polyglot_notebook": {
     "kernelName": "csharp"
    }
   },
   "outputs": [
    {
     "name": "stdout",
     "output_type": "stream",
     "text": [
      "Sure! Can you please specify the destination you'd like to visit for your day trip?\r\n"
     ]
    }
   ],
   "source": [
    "// 🚀 Execute Agent: First Travel Planning Request\n",
    "// Run the agent with an initial request that will likely trigger the random destination tool\n",
    "// The agent will analyze the request, use the GetRandomDestination tool, and create an itinerary\n",
    "// Using the thread parameter maintains conversation context for subsequent interactions\n",
    "Console.WriteLine(await agent.RunAsync(\"Plan me a day trip\",thread));"
   ]
  },
  {
   "cell_type": "code",
   "execution_count": 17,
   "id": "592ae1bb",
   "metadata": {
    "language_info": {
     "name": "polyglot-notebook"
    },
    "polyglot_notebook": {
     "kernelName": "csharp"
    }
   },
   "outputs": [
    {
     "name": "stdout",
     "output_type": "stream",
     "text": [
      "How about a vacation in Vancouver, Canada? It's a beautiful city known for its stunning natural landscapes, cultural diversity, and outdoor activities. Here are some highlights you can explore during your trip:\n",
      "\n",
      "1. **Stanley Park**: A massive urban park offering walking and biking trails, gardens, and stunning views of the city skyline.\n",
      "2. **Granville Island**: A vibrant area featuring local artisans, markets, and eateries – perfect for foodies and art lovers.\n",
      "3. **Capilano Suspension Bridge Park**: Experience breathtaking views from the suspension bridge and explore treetop walkways.\n",
      "4. **Gastown**: Vancouver's oldest neighborhood, known for its historic buildings, trendy shops, and the famous Gastown Steam Clock.\n",
      "5. **Whale Watching Tour**: Take a boat tour to see orcas, humpback whales, and other marine life in their natural habitat.\n",
      "\n",
      "Would you like more details on any specific activities or places?\r\n"
     ]
    }
   ],
   "source": [
    "// 🔄 Execute Agent: Follow-up Request with Context Awareness\n",
    "// Demonstrate contextual conversation by referencing the previous response\n",
    "// The agent remembers the previous destination suggestion and will provide an alternative\n",
    "// This showcases the power of conversation threads and contextual understanding in .NET agents\n",
    "Console.WriteLine(await agent.RunAsync(\"I don't like that destination. Plan me another vacation.\",thread));"
   ]
  },
  {
   "cell_type": "markdown",
   "metadata": {},
   "source": [
    "\n---\n\n**면책 조항**:  \n이 문서는 AI 번역 서비스 [Co-op Translator](https://github.com/Azure/co-op-translator)를 사용하여 번역되었습니다. 정확성을 위해 최선을 다하고 있으나, 자동 번역에는 오류나 부정확성이 포함될 수 있습니다. 원본 문서의 원어 버전이 권위 있는 출처로 간주되어야 합니다. 중요한 정보의 경우, 전문적인 인간 번역을 권장합니다. 이 번역 사용으로 인해 발생하는 오해나 잘못된 해석에 대해 당사는 책임을 지지 않습니다.\n"
   ]
  }
 ],
 "metadata": {
  "kernelspec": {
   "display_name": ".NET (C#)",
   "language": "C#",
   "name": ".net-csharp"
  },
  "language_info": {
   "name": "polyglot-notebook"
  },
  "polyglot_notebook": {
   "kernelInfo": {
    "defaultKernelName": "csharp",
    "items": [
     {
      "aliases": [],
      "name": "csharp"
     }
    ]
   }
  },
  "coopTranslator": {
   "original_hash": "1dbb37bc1491e0a8c40e72a2664a4a46",
   "translation_date": "2025-10-01T22:11:47+00:00",
   "source_file": "02-explore-agentic-frameworks/code_samples/02-dotnet-agent-framework.ipynb",
   "language_code": "ko"
  }
 },
 "nbformat": 4,
 "nbformat_minor": 5
}