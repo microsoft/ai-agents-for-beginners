{
 "cells": [
  {
   "cell_type": "markdown",
   "id": "44b5899e",
   "metadata": {},
   "source": [
    "# 🔍 Azure AI Foundry (.NET)을 활용한 엔터프라이즈 RAG\n",
    "\n",
    "## 📋 학습 목표\n",
    "\n",
    "이 노트북은 Microsoft Agent Framework을 사용하여 Azure AI Foundry에서 엔터프라이즈급 검색-증강 생성(RAG) 시스템을 구축하는 방법을 보여줍니다. 문서를 검색하고 정확하고 상황에 맞는 응답을 제공하며 엔터프라이즈 보안과 확장성을 갖춘 프로덕션 준비 에이전트를 만드는 방법을 배우게 됩니다.\n",
    "\n",
    "**구축할 엔터프라이즈 RAG 기능:**\n",
    "- 📚 **문서 인텔리전스**: Azure AI 서비스를 활용한 고급 문서 처리\n",
    "- 🔍 **시맨틱 검색**: 엔터프라이즈 기능을 갖춘 고성능 벡터 검색\n",
    "- 🛡️ **보안 통합**: 역할 기반 접근 및 데이터 보호 패턴\n",
    "- 🏢 **확장 가능한 아키텍처**: 모니터링 기능을 갖춘 프로덕션 준비 RAG 시스템\n",
    "\n",
    "## 🎯 엔터프라이즈 RAG 아키텍처\n",
    "\n",
    "### 핵심 엔터프라이즈 구성 요소\n",
    "- **Azure AI Foundry**: 보안 및 규정을 준수하는 관리형 엔터프라이즈 AI 플랫폼\n",
    "- **Persistent Agents**: 대화 기록 및 컨텍스트 관리를 지원하는 상태 유지 에이전트\n",
    "- **벡터 저장소 관리**: 엔터프라이즈급 문서 인덱싱 및 검색\n",
    "- **ID 통합**: Azure AD 인증 및 역할 기반 접근 제어\n",
    "\n",
    "### .NET 엔터프라이즈 혜택\n",
    "- **타입 안전성**: RAG 작업 및 데이터 구조에 대한 컴파일 타임 검증\n",
    "- **비동기 성능**: 비차단 문서 처리 및 검색 작업\n",
    "- **메모리 관리**: 대규모 문서 컬렉션을 위한 효율적인 리소스 활용\n",
    "- **통합 패턴**: 종속성 주입을 활용한 네이티브 Azure 서비스 통합\n",
    "\n",
    "## 🏗️ 기술 아키텍처\n",
    "\n",
    "### 엔터프라이즈 RAG 파이프라인\n",
    "```csharp\n",
    "Document Upload → Security Validation → Vector Processing → Index Creation\n",
    "                      ↓                    ↓                  ↓\n",
    "User Query → Authentication → Semantic Search → Context Ranking → AI Response\n",
    "```\n",
    "\n",
    "### 핵심 .NET 구성 요소\n",
    "- **Azure.AI.Agents.Persistent**: 상태 지속성을 갖춘 엔터프라이즈 에이전트 관리\n",
    "- **Azure.Identity**: 안전한 Azure 서비스 접근을 위한 통합 인증\n",
    "- **Microsoft.Agents.AI.AzureAI**: Azure 최적화 에이전트 프레임워크 구현\n",
    "- **System.Linq.Async**: 고성능 비동기 LINQ 작업\n",
    "\n",
    "## 🔧 엔터프라이즈 기능 및 혜택\n",
    "\n",
    "### 보안 및 규정 준수\n",
    "- **Azure AD 통합**: 엔터프라이즈 ID 관리 및 인증\n",
    "- **역할 기반 접근**: 문서 접근 및 작업에 대한 세분화된 권한\n",
    "- **데이터 보호**: 민감한 문서에 대한 저장 및 전송 중 암호화\n",
    "- **감사 로그**: 규정 준수를 위한 포괄적인 활동 추적\n",
    "\n",
    "### 성능 및 확장성\n",
    "- **연결 풀링**: 효율적인 Azure 서비스 연결 관리\n",
    "- **비동기 처리**: 고처리량 시나리오를 위한 비차단 작업\n",
    "- **캐싱 전략**: 자주 접근하는 문서에 대한 지능형 캐싱\n",
    "- **로드 밸런싱**: 대규모 배포를 위한 분산 처리\n",
    "\n",
    "### 관리 및 모니터링\n",
    "- **상태 점검**: RAG 시스템 구성 요소에 대한 내장 모니터링\n",
    "- **성능 지표**: 검색 품질 및 응답 시간에 대한 상세 분석\n",
    "- **오류 처리**: 재시도 정책을 포함한 포괄적인 예외 관리\n",
    "- **구성 관리**: 환경별 설정 및 검증\n",
    "\n",
    "## ⚙️ 사전 준비 및 설정\n",
    "\n",
    "**개발 환경:**\n",
    "- .NET 9.0 SDK 이상\n",
    "- Visual Studio 2022 또는 C# 확장이 포함된 VS Code\n",
    "- Azure AI Foundry 접근 권한이 있는 Azure 구독\n",
    "\n",
    "**필수 NuGet 패키지:**\n",
    "```xml\n",
    "<PackageReference Include=\"Microsoft.Extensions.AI\" Version=\"9.9.0\" />\n",
    "<PackageReference Include=\"Azure.AI.Agents.Persistent\" Version=\"1.2.0-beta.5\" />\n",
    "<PackageReference Include=\"Azure.Identity\" Version=\"1.15.0\" />\n",
    "<PackageReference Include=\"System.Linq.Async\" Version=\"6.0.3\" />\n",
    "<PackageReference Include=\"DotNetEnv\" Version=\"3.1.1\" />\n",
    "```\n",
    "\n",
    "**Azure 인증 설정:**\n",
    "```bash\n",
    "# Install Azure CLI and authenticate\n",
    "az login\n",
    "az account set --subscription \"your-subscription-id\"\n",
    "```\n",
    "\n",
    "**환경 구성 (.env 파일):**\n",
    "```env\n",
    "# Azure AI Foundry configuration (automatically handled via Azure CLI)\n",
    "# Ensure you're authenticated to the correct Azure subscription\n",
    "```\n",
    "\n",
    "## 📊 엔터프라이즈 RAG 패턴\n",
    "\n",
    "### 문서 관리 패턴\n",
    "- **대량 업로드**: 대규모 문서 컬렉션의 효율적인 처리\n",
    "- **점진적 업데이트**: 실시간 문서 추가 및 수정\n",
    "- **버전 관리**: 문서 버전 관리 및 변경 추적\n",
    "- **메타데이터 관리**: 풍부한 문서 속성과 분류 체계\n",
    "\n",
    "### 검색 및 검색 패턴\n",
    "- **하이브리드 검색**: 시맨틱 및 키워드 검색을 결합하여 최적의 결과 제공\n",
    "- **패싯 검색**: 다차원 필터링 및 분류\n",
    "- **관련성 조정**: 도메인별 요구에 맞춘 사용자 정의 점수 알고리즘\n",
    "- **결과 순위**: 비즈니스 논리를 통합한 고급 순위 지정\n",
    "\n",
    "### 보안 패턴\n",
    "- **문서 수준 보안**: 문서별 세분화된 접근 제어\n",
    "- **데이터 분류**: 자동 민감도 라벨링 및 보호\n",
    "- **감사 추적**: 모든 RAG 작업에 대한 포괄적인 로깅\n",
    "- **개인정보 보호**: PII 감지 및 수정 기능\n",
    "\n",
    "## 🔒 엔터프라이즈 보안 기능\n",
    "\n",
    "### 인증 및 권한 부여\n",
    "```csharp\n",
    "// Azure AD integrated authentication\n",
    "var credential = new AzureCliCredential();\n",
    "var agentsClient = new PersistentAgentsClient(endpoint, credential);\n",
    "\n",
    "// Role-based access validation\n",
    "if (!await ValidateUserPermissions(user, documentId))\n",
    "{\n",
    "    throw new UnauthorizedAccessException(\"Insufficient permissions\");\n",
    "}\n",
    "```\n",
    "\n",
    "### 데이터 보호\n",
    "- **암호화**: 문서 및 검색 인덱스에 대한 종단 간 암호화\n",
    "- **접근 제어**: 사용자 및 그룹 권한을 위한 Azure AD 통합\n",
    "- **데이터 거주지**: 규정을 준수하기 위한 지리적 데이터 위치 제어\n",
    "- **백업 및 복구**: 자동 백업 및 재해 복구 기능\n",
    "\n",
    "## 📈 성능 최적화\n",
    "\n",
    "### 비동기 처리 패턴\n",
    "```csharp\n",
    "// Efficient async document processing\n",
    "await foreach (var document in documentStream.AsAsyncEnumerable())\n",
    "{\n",
    "    await ProcessDocumentAsync(document, cancellationToken);\n",
    "}\n",
    "```\n",
    "\n",
    "### 메모리 관리\n",
    "- **스트리밍 처리**: 메모리 문제 없이 대규모 문서 처리\n",
    "- **리소스 풀링**: 고비용 리소스의 효율적인 재사용\n",
    "- **가비지 컬렉션**: 최적화된 메모리 할당 패턴\n",
    "- **연결 관리**: 적절한 Azure 서비스 연결 수명 주기\n",
    "\n",
    "### 캐싱 전략\n",
    "- **쿼리 캐싱**: 자주 실행되는 검색 캐싱\n",
    "- **문서 캐싱**: 핫 문서에 대한 메모리 내 캐싱\n",
    "- **인덱스 캐싱**: 최적화된 벡터 인덱스 캐싱\n",
    "- **결과 캐싱**: 생성된 응답의 지능형 캐싱\n",
    "\n",
    "## 📊 엔터프라이즈 사용 사례\n",
    "\n",
    "### 지식 관리\n",
    "- **기업 위키**: 회사 지식 기반에 대한 지능형 검색\n",
    "- **정책 및 절차**: 자동화된 규정 준수 및 절차 안내\n",
    "- **교육 자료**: 지능형 학습 및 개발 지원\n",
    "- **연구 데이터베이스**: 학술 및 연구 논문 분석 시스템\n",
    "\n",
    "### 고객 지원\n",
    "- **지원 지식 기반**: 자동화된 고객 서비스 응답\n",
    "- **제품 문서**: 지능형 제품 정보 검색\n",
    "- **문제 해결 가이드**: 상황에 맞는 문제 해결 지원\n",
    "- **FAQ 시스템**: 문서 컬렉션에서 동적 FAQ 생성\n",
    "\n",
    "### 규정 준수\n",
    "- **법률 문서 분석**: 계약 및 법률 문서 인텔리전스\n",
    "- **규정 준수 모니터링**: 자동화된 규정 준수 확인\n",
    "- **위험 평가**: 문서를 기반으로 한 위험 분석 및 보고\n",
    "- **감사 지원**: 감사용 지능형 문서 검색\n",
    "\n",
    "## 🚀 프로덕션 배포\n",
    "\n",
    "### 모니터링 및 관찰성\n",
    "- **Application Insights**: 상세한 원격 분석 및 성능 모니터링\n",
    "- **사용자 정의 지표**: 비즈니스별 KPI 추적 및 경고\n",
    "- **분산 추적**: 서비스 간 요청의 종단 간 추적\n",
    "- **상태 대시보드**: 실시간 시스템 상태 및 성능 시각화\n",
    "\n",
    "### 확장성 및 신뢰성\n",
    "- **자동 확장**: 부하 및 성능 지표에 따른 자동 확장\n",
    "- **고가용성**: 장애 조치 기능을 갖춘 다중 지역 배포\n",
    "- **로드 테스트**: 엔터프라이즈 부하 조건에서의 성능 검증\n",
    "- **재해 복구**: 자동 백업 및 복구 절차\n",
    "\n",
    "민감한 문서를 대규모로 처리할 수 있는 엔터프라이즈급 RAG 시스템을 구축할 준비가 되셨나요? 엔터프라이즈를 위한 지능형 지식 시스템을 설계해 봅시다! 🏢📖✨\n"
   ]
  },
  {
   "cell_type": "code",
   "execution_count": 1,
   "metadata": {
    "language_info": {
     "name": "polyglot-notebook"
    },
    "polyglot_notebook": {
     "kernelName": "csharp"
    }
   },
   "outputs": [
    {
     "data": {
      "text/html": [
       "<div><div></div><div></div><div><strong>Installed Packages</strong><ul><li><span>Microsoft.Extensions.AI, 9.9.1</span></li></ul></div></div>"
      ]
     },
     "metadata": {},
     "output_type": "display_data"
    }
   ],
   "source": [
    "#r \"nuget: Microsoft.Extensions.AI, 9.9.1\""
   ]
  },
  {
   "cell_type": "code",
   "execution_count": 2,
   "id": "4ec1f0d1",
   "metadata": {
    "language_info": {
     "name": "polyglot-notebook"
    },
    "polyglot_notebook": {
     "kernelName": "csharp"
    }
   },
   "outputs": [
    {
     "data": {
      "text/html": [
       "<div><div></div><div></div><div><strong>Installed Packages</strong><ul><li><span>Azure.AI.Agents.Persistent, 1.2.0-beta.5</span></li><li><span>Azure.Identity, 1.15.0</span></li><li><span>System.Linq.Async, 6.0.3</span></li></ul></div></div>"
      ]
     },
     "metadata": {},
     "output_type": "display_data"
    }
   ],
   "source": [
    "#r \"nuget: Azure.AI.Agents.Persistent, 1.2.0-beta.5\"\n",
    "#r \"nuget: Azure.Identity, 1.15.0\"\n",
    "#r \"nuget: System.Linq.Async, 6.0.3\""
   ]
  },
  {
   "cell_type": "code",
   "execution_count": 3,
   "id": "2363ae07",
   "metadata": {
    "language_info": {
     "name": "polyglot-notebook"
    },
    "polyglot_notebook": {
     "kernelName": "csharp"
    }
   },
   "outputs": [],
   "source": []
  },
  {
   "cell_type": "code",
   "execution_count": null,
   "id": "d10cec9d",
   "metadata": {
    "language_info": {
     "name": "polyglot-notebook"
    },
    "polyglot_notebook": {
     "kernelName": "csharp"
    }
   },
   "outputs": [
    {
     "data": {
      "text/html": [
       "<div><div></div><div></div><div><strong>Installed Packages</strong><ul><li><span>Microsoft.Agents.AI.AzureAI, 1.0.0-preview.251001.2</span></li></ul></div></div>"
      ]
     },
     "metadata": {},
     "output_type": "display_data"
    }
   ],
   "source": [
    "#r \"nuget: Microsoft.Agents.AI.AzureAI, 1.0.0-preview.251001.3\""
   ]
  },
  {
   "cell_type": "code",
   "execution_count": null,
   "id": "78199d1c",
   "metadata": {
    "language_info": {
     "name": "polyglot-notebook"
    },
    "polyglot_notebook": {
     "kernelName": "csharp"
    }
   },
   "outputs": [
    {
     "data": {
      "text/html": [
       "<div><div></div><div></div><div><strong>Installed Packages</strong><ul><li><span>microsoft.agents.ai, 1.0.0-preview.251001.2</span></li></ul></div></div>"
      ]
     },
     "metadata": {},
     "output_type": "display_data"
    }
   ],
   "source": [
    "#r \"nuget: Microsoft.Agents.AI, 1.0.0-preview.251001.3\""
   ]
  },
  {
   "cell_type": "code",
   "execution_count": 6,
   "id": "7de4684a",
   "metadata": {
    "language_info": {
     "name": "polyglot-notebook"
    },
    "polyglot_notebook": {
     "kernelName": "csharp"
    }
   },
   "outputs": [
    {
     "data": {
      "text/html": [
       "<div><div></div><div></div><div><strong>Installed Packages</strong><ul><li><span>DotNetEnv, 3.1.1</span></li></ul></div></div>"
      ]
     },
     "metadata": {},
     "output_type": "display_data"
    }
   ],
   "source": [
    "#r \"nuget: DotNetEnv, 3.1.1\""
   ]
  },
  {
   "cell_type": "code",
   "execution_count": 7,
   "id": "251efd31",
   "metadata": {
    "language_info": {
     "name": "polyglot-notebook"
    },
    "polyglot_notebook": {
     "kernelName": "csharp"
    }
   },
   "outputs": [],
   "source": [
    "using System;\n",
    "using System.Linq;\n",
    "using Azure.AI.Agents.Persistent;\n",
    "using Azure.Identity;\n",
    "using Microsoft.Agents.AI;"
   ]
  },
  {
   "cell_type": "code",
   "execution_count": 8,
   "id": "a2e342f1",
   "metadata": {
    "language_info": {
     "name": "polyglot-notebook"
    },
    "polyglot_notebook": {
     "kernelName": "csharp"
    }
   },
   "outputs": [],
   "source": [
    " using DotNetEnv;"
   ]
  },
  {
   "cell_type": "code",
   "execution_count": 9,
   "id": "a7a01653",
   "metadata": {
    "language_info": {
     "name": "polyglot-notebook"
    },
    "polyglot_notebook": {
     "kernelName": "csharp"
    }
   },
   "outputs": [],
   "source": [
    "Env.Load(\"../../../.env\");"
   ]
  },
  {
   "cell_type": "code",
   "execution_count": 10,
   "id": "a42735d5",
   "metadata": {
    "language_info": {
     "name": "polyglot-notebook"
    },
    "polyglot_notebook": {
     "kernelName": "csharp"
    }
   },
   "outputs": [],
   "source": [
    "var azure_foundry_endpoint = Environment.GetEnvironmentVariable(\"AZURE_AI_PROJECT_ENDPOINT\") ?? throw new InvalidOperationException(\"AZURE_AI_PROJECT_ENDPOINT is not set.\");\n",
    "var azure_foundry_model_id = Environment.GetEnvironmentVariable(\"AZURE_AI_MODEL_DEPLOYMENT_NAME\") ?? \"gpt-4.1-mini\";"
   ]
  },
  {
   "cell_type": "code",
   "execution_count": 11,
   "id": "e29bdb58",
   "metadata": {
    "language_info": {
     "name": "polyglot-notebook"
    },
    "polyglot_notebook": {
     "kernelName": "csharp"
    }
   },
   "outputs": [],
   "source": [
    "string pdfPath = \"./document.md\";"
   ]
  },
  {
   "cell_type": "code",
   "execution_count": 12,
   "id": "7351e12d",
   "metadata": {
    "language_info": {
     "name": "polyglot-notebook"
    },
    "polyglot_notebook": {
     "kernelName": "csharp"
    }
   },
   "outputs": [],
   "source": [
    "using System.IO;\n",
    "\n",
    "async Task<Stream> OpenImageStreamAsync(string path)\n",
    "{\n",
    "\treturn await Task.Run(() => File.OpenRead(path));\n",
    "}\n",
    "\n",
    "var pdfStream = await OpenImageStreamAsync(pdfPath);"
   ]
  },
  {
   "cell_type": "code",
   "execution_count": 13,
   "id": "0b6bf484",
   "metadata": {
    "language_info": {
     "name": "polyglot-notebook"
    },
    "polyglot_notebook": {
     "kernelName": "csharp"
    }
   },
   "outputs": [],
   "source": [
    "var persistentAgentsClient = new PersistentAgentsClient(azure_foundry_endpoint, new AzureCliCredential());"
   ]
  },
  {
   "cell_type": "code",
   "execution_count": 14,
   "id": "81e0dddc",
   "metadata": {
    "language_info": {
     "name": "polyglot-notebook"
    },
    "polyglot_notebook": {
     "kernelName": "csharp"
    }
   },
   "outputs": [],
   "source": [
    "PersistentAgentFileInfo fileInfo = await persistentAgentsClient.Files.UploadFileAsync(pdfStream, PersistentAgentFilePurpose.Agents, \"demo.md\");"
   ]
  },
  {
   "cell_type": "code",
   "execution_count": 15,
   "id": "f0c75d80",
   "metadata": {
    "language_info": {
     "name": "polyglot-notebook"
    },
    "polyglot_notebook": {
     "kernelName": "csharp"
    }
   },
   "outputs": [],
   "source": [
    "PersistentAgentsVectorStore fileStore =\n",
    "            await persistentAgentsClient.VectorStores.CreateVectorStoreAsync(\n",
    "                [fileInfo.Id],\n",
    "                metadata: new Dictionary<string, string>() { { \"agentkey\", bool.TrueString } });"
   ]
  },
  {
   "cell_type": "code",
   "execution_count": 16,
   "id": "c77986c5",
   "metadata": {
    "language_info": {
     "name": "polyglot-notebook"
    },
    "polyglot_notebook": {
     "kernelName": "csharp"
    }
   },
   "outputs": [],
   "source": [
    "PersistentAgent agentModel = await persistentAgentsClient.Administration.CreateAgentAsync(\n",
    "            azure_foundry_model_id,\n",
    "            name: \"DotNetRAGAgent\",\n",
    "            tools: [new FileSearchToolDefinition()],\n",
    "            instructions: \"\"\"\n",
    "                You are an AI assistant designed to answer user questions using only the information retrieved from the provided document(s).\n",
    "\n",
    "                - If a user's question cannot be answered using the retrieved context, **you must clearly respond**: \n",
    "                \"I'm sorry, but the uploaded document does not contain the necessary information to answer that question.\"\n",
    "                - Do not answer from general knowledge or reasoning. Do not make assumptions or generate hypothetical explanations.\n",
    "                - Do not provide definitions, tutorials, or commentary that is not explicitly grounded in the content of the uploaded file(s).\n",
    "                - If a user asks a question like \"What is a Neural Network?\", and this is not discussed in the uploaded document, respond as instructed above.\n",
    "                - For questions that do have relevant content in the document (e.g., Contoso's travel insurance coverage), respond accurately, and cite the document explicitly.\n",
    "\n",
    "                You must behave as if you have no external knowledge beyond what is retrieved from the uploaded document.\n",
    "                \"\"\",\n",
    "            toolResources: new()\n",
    "            {\n",
    "                FileSearch = new()\n",
    "                {\n",
    "                    VectorStoreIds = { fileStore.Id },\n",
    "                }\n",
    "            },\n",
    "            metadata: new Dictionary<string, string>() { { \"agentkey\", bool.TrueString } });"
   ]
  },
  {
   "cell_type": "code",
   "execution_count": 17,
   "id": "282326cf",
   "metadata": {
    "language_info": {
     "name": "polyglot-notebook"
    },
    "polyglot_notebook": {
     "kernelName": "csharp"
    }
   },
   "outputs": [],
   "source": [
    "AIAgent agent = await persistentAgentsClient.GetAIAgentAsync(agentModel.Id);"
   ]
  },
  {
   "cell_type": "code",
   "execution_count": 18,
   "id": "2067d313",
   "metadata": {
    "language_info": {
     "name": "polyglot-notebook"
    },
    "polyglot_notebook": {
     "kernelName": "csharp"
    }
   },
   "outputs": [],
   "source": [
    "AgentThread thread = agent.GetNewThread();"
   ]
  },
  {
   "cell_type": "code",
   "execution_count": 19,
   "id": "454c4230",
   "metadata": {
    "language_info": {
     "name": "polyglot-notebook"
    },
    "polyglot_notebook": {
     "kernelName": "csharp"
    }
   },
   "outputs": [
    {
     "name": "stdout",
     "output_type": "stream",
     "text": [
      "Contoso's travel insurance coverage includes protection for medical emergencies, trip cancellations, and lost baggage. This ensures that travelers are supported in case of health-related issues during their trip, unforeseen cancellations, and the loss of their belongings while traveling【4:0†demo.md】.\r\n"
     ]
    }
   ],
   "source": [
    "Console.WriteLine(await agent.RunAsync(\"Can you explain Contoso's travel insurance coverage?\", thread));"
   ]
  },
  {
   "cell_type": "markdown",
   "metadata": {},
   "source": [
    "\n---\n\n**면책 조항**:  \n이 문서는 AI 번역 서비스 [Co-op Translator](https://github.com/Azure/co-op-translator)를 사용하여 번역되었습니다. 정확성을 위해 최선을 다하고 있으나, 자동 번역에는 오류나 부정확성이 포함될 수 있습니다. 원본 문서의 원어 버전을 권위 있는 자료로 간주해야 합니다. 중요한 정보의 경우, 전문적인 인간 번역을 권장합니다. 이 번역 사용으로 인해 발생하는 오해나 잘못된 해석에 대해 당사는 책임을 지지 않습니다.\n"
   ]
  }
 ],
 "metadata": {
  "kernelspec": {
   "display_name": ".NET (C#)",
   "language": "C#",
   "name": ".net-csharp"
  },
  "language_info": {
   "name": "polyglot-notebook"
  },
  "polyglot_notebook": {
   "kernelInfo": {
    "defaultKernelName": "csharp",
    "items": [
     {
      "aliases": [],
      "name": "csharp"
     }
    ]
   }
  },
  "coopTranslator": {
   "original_hash": "e4584fa31638009dc6fb665275de8fc2",
   "translation_date": "2025-10-01T21:48:16+00:00",
   "source_file": "05-agentic-rag/code_samples/05-dotnet-agent-framework.ipynb",
   "language_code": "ko"
  }
 },
 "nbformat": 4,
 "nbformat_minor": 5
}