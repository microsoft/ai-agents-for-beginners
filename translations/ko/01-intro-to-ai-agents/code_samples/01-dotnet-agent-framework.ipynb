{
 "cells": [
  {
   "cell_type": "markdown",
   "id": "7220b21d",
   "metadata": {},
   "source": [
    "# 🌍 Microsoft Agent Framework (.NET)을 활용한 AI 여행 에이전트\n",
    "\n",
    "## 📋 시나리오 개요\n",
    "\n",
    "이 노트북은 Microsoft Agent Framework for .NET을 사용하여 지능형 여행 계획 에이전트를 구축하는 방법을 보여줍니다. 에이전트는 전 세계의 랜덤 목적지를 기반으로 개인화된 당일 여행 일정을 자동으로 생성할 수 있습니다.\n",
    "\n",
    "**주요 기능:**\n",
    "- 🎲 **랜덤 목적지 선택**: 휴양지를 선택하는 맞춤형 도구 사용\n",
    "- 🗺️ **지능형 여행 계획**: 상세한 일별 일정 생성\n",
    "- 🔄 **실시간 스트리밍**: 즉각적인 응답과 스트리밍 응답 지원\n",
    "- 🛠️ **맞춤형 도구 통합**: 에이전트 기능 확장 방법 시연\n",
    "\n",
    "## 🔧 기술 아키텍처\n",
    "\n",
    "### 핵심 기술\n",
    "- **Microsoft Agent Framework**: AI 에이전트 개발을 위한 최신 .NET 구현\n",
    "- **GitHub Models 통합**: GitHub의 AI 모델 추론 서비스 사용\n",
    "- **OpenAI API 호환성**: 맞춤형 엔드포인트를 활용한 OpenAI 클라이언트 라이브러리 사용\n",
    "- **안전한 구성**: 환경 기반 API 키 관리\n",
    "\n",
    "### 주요 구성 요소\n",
    "1. **AIAgent**: 대화 흐름을 처리하는 주요 에이전트 오케스트레이터\n",
    "2. **맞춤형 도구**: 에이전트가 사용할 수 있는 `GetRandomDestination()` 함수\n",
    "3. **채팅 클라이언트**: GitHub Models 기반 대화 인터페이스\n",
    "4. **스트리밍 지원**: 실시간 응답 생성 기능\n",
    "\n",
    "### 통합 패턴\n",
    "```mermaid\n",
    "graph LR\n",
    "    A[User Request] --> B[AI Agent]\n",
    "    B --> C[GitHub Models API]\n",
    "    B --> D[GetRandomDestination Tool]\n",
    "    C --> E[Travel Itinerary]\n",
    "    D --> E\n",
    "```\n",
    "\n",
    "## 🚀 시작하기\n",
    "\n",
    "**필수 조건:**\n",
    "- .NET 9.0 이상\n",
    "- GitHub Models API 액세스 토큰\n",
    "- `.env` 파일에 환경 변수 구성\n",
    "\n",
    "**필요한 환경 변수:**\n",
    "```env\n",
    "GITHUB_TOKEN=your_github_token\n",
    "GITHUB_ENDPOINT=https://models.inference.ai.azure.com\n",
    "GITHUB_MODEL_ID=gpt-4o-mini\n",
    "```\n",
    "\n",
    "아래 셀을 순서대로 실행하여 여행 에이전트의 작동을 확인하세요!\n"
   ]
  },
  {
   "cell_type": "code",
   "execution_count": 1,
   "id": "2770ac5c",
   "metadata": {
    "language_info": {
     "name": "polyglot-notebook"
    },
    "polyglot_notebook": {
     "kernelName": "csharp"
    }
   },
   "outputs": [
    {
     "data": {
      "text/html": [
       "<div><div></div><div></div><div><strong>Installed Packages</strong><ul><li><span>Microsoft.Extensions.AI, 9.9.1</span></li></ul></div></div>"
      ]
     },
     "metadata": {},
     "output_type": "display_data"
    }
   ],
   "source": [
    "// 📦 NuGet Package Reference: Microsoft Extensions AI\n",
    "// This provides the core AI abstraction layer for .NET applications\n",
    "// Essential for building AI agents with standardized interfaces\n",
    "#r \"nuget: Microsoft.Extensions.AI, 9.9.1\""
   ]
  },
  {
   "cell_type": "code",
   "execution_count": null,
   "id": "984ff6cd",
   "metadata": {
    "language_info": {
     "name": "polyglot-notebook"
    },
    "polyglot_notebook": {
     "kernelName": "csharp"
    }
   },
   "outputs": [
    {
     "data": {
      "text/html": [
       "<div><div></div><div></div><div><strong>Installed Packages</strong><ul><li><span>Microsoft.Agents.AI.OpenAI, 1.0.0-preview.251001.2</span></li></ul></div></div>"
      ]
     },
     "metadata": {},
     "output_type": "display_data"
    }
   ],
   "source": [
    "// 🔗 Local Reference: OpenAI Agent Extensions\n",
    "// This references the local build of the Microsoft Extensions AI Agents OpenAI library\n",
    "// Contains OpenAI-specific implementations for the agent framework\n",
    "// Required for integrating with OpenAI models and GitHub Models\n",
    "#r \"nuget: Microsoft.Agents.AI.OpenAI, 1.0.0-preview.251001.3\""
   ]
  },
  {
   "cell_type": "code",
   "execution_count": null,
   "id": "2b4090be",
   "metadata": {
    "language_info": {
     "name": "polyglot-notebook"
    },
    "polyglot_notebook": {
     "kernelName": "csharp"
    }
   },
   "outputs": [
    {
     "data": {
      "text/html": [
       "<div><div></div><div></div><div><strong>Installed Packages</strong><ul><li><span>microsoft.agents.ai, 1.0.0-preview.251001.2</span></li></ul></div></div>"
      ]
     },
     "metadata": {},
     "output_type": "display_data"
    }
   ],
   "source": [
    "\n",
    "#r \"nuget: Microsoft.Agents.AI, 1.0.0-preview.251001.3\""
   ]
  },
  {
   "cell_type": "code",
   "execution_count": 4,
   "id": "4ab7b15d",
   "metadata": {
    "language_info": {
     "name": "polyglot-notebook"
    },
    "polyglot_notebook": {
     "kernelName": "csharp"
    }
   },
   "outputs": [],
   "source": [
    "// 🔌 NuGet Package Reference: OpenAI Integration\n",
    "// Preview version of Microsoft Extensions AI OpenAI integration\n",
    "// Provides OpenAI client and service implementations\n",
    "// Enables communication with OpenAI API and GitHub Models\n",
    "// #r \"nuget: Microsoft.Extensions.AI.OpenAI, 9.9.1-preview.1.25474.6\""
   ]
  },
  {
   "cell_type": "code",
   "execution_count": 5,
   "id": "3fa8aa21",
   "metadata": {
    "language_info": {
     "name": "polyglot-notebook"
    },
    "polyglot_notebook": {
     "kernelName": "csharp"
    }
   },
   "outputs": [
    {
     "data": {
      "text/html": [
       "<div><div></div><div></div><div><strong>Installed Packages</strong><ul><li><span>DotNetEnv, 3.1.1</span></li></ul></div></div>"
      ]
     },
     "metadata": {},
     "output_type": "display_data"
    }
   ],
   "source": [
    "// 🔧 NuGet Package Reference: Environment Variables\n",
    "// DotNetEnv allows loading environment variables from .env files\n",
    "// Essential for managing API keys and configuration securely\n",
    "// Helps keep sensitive information out of source code\n",
    "#r \"nuget: DotNetEnv, 3.1.1\""
   ]
  },
  {
   "cell_type": "code",
   "execution_count": 6,
   "id": "fc8ee8ea",
   "metadata": {
    "language_info": {
     "name": "polyglot-notebook"
    },
    "polyglot_notebook": {
     "kernelName": "csharp"
    }
   },
   "outputs": [],
   "source": [
    "// 📚 Import Required Namespaces\n",
    "using System;                          // Core system functionality and base types\n",
    "using System.ComponentModel;           // For Description attributes on tool functions\n",
    "using System.ClientModel;             // Client model abstractions for API interactions\n",
    "\n",
    "using Microsoft.Extensions.AI;        // Core AI abstractions and interfaces\n",
    "using Microsoft.Agents.AI;           // Agent framework classes and interfaces\n",
    "using OpenAI;                         // OpenAI client library for API communication"
   ]
  },
  {
   "cell_type": "code",
   "execution_count": 7,
   "id": "699b1c83",
   "metadata": {
    "language_info": {
     "name": "polyglot-notebook"
    },
    "polyglot_notebook": {
     "kernelName": "csharp"
    }
   },
   "outputs": [],
   "source": [
    "// 🔧 Import Environment Variable Loading\n",
    "// DotNetEnv namespace for loading .env files\n",
    "// Enables secure configuration management from external files\n",
    "using DotNetEnv;"
   ]
  },
  {
   "cell_type": "code",
   "execution_count": 8,
   "id": "daa649a0",
   "metadata": {
    "language_info": {
     "name": "polyglot-notebook"
    },
    "polyglot_notebook": {
     "kernelName": "csharp"
    }
   },
   "outputs": [],
   "source": [
    "// 🔧 Load Environment Variables from .env File\n",
    "// This loads configuration from a .env file located 3 directories up\n",
    "// Required variables: GITHUB_ENDPOINT, GITHUB_TOKEN, GITHUB_MODEL_ID\n",
    "// Ensures secure handling of API credentials and configuration\n",
    "Env.Load(\"../../../.env\");"
   ]
  },
  {
   "cell_type": "code",
   "execution_count": 9,
   "id": "29661a90",
   "metadata": {
    "language_info": {
     "name": "polyglot-notebook"
    },
    "polyglot_notebook": {
     "kernelName": "csharp"
    }
   },
   "outputs": [],
   "source": [
    "// 🎲 Tool Function: Random Destination Generator\n",
    "// This static method will be available to the agent as a callable tool\n",
    "// The [Description] attribute helps the AI understand when to use this function\n",
    "// This demonstrates how to create custom tools for AI agents\n",
    "[Description(\"Provides a random vacation destination.\")]\n",
    "static string GetRandomDestination()\n",
    "{\n",
    "    // List of popular vacation destinations around the world\n",
    "    // The agent will randomly select from these options\n",
    "    var destinations = new List<string>\n",
    "    {\n",
    "        \"Paris, France\",         // European cultural capital\n",
    "        \"Tokyo, Japan\",          // Asian modern metropolis\n",
    "        \"New York City, USA\",    // American urban experience\n",
    "        \"Sydney, Australia\",     // Oceanic coastal beauty\n",
    "        \"Rome, Italy\",           // Historical European city\n",
    "        \"Barcelona, Spain\",      // Mediterranean cultural hub\n",
    "        \"Cape Town, South Africa\", // African scenic destination\n",
    "        \"Rio de Janeiro, Brazil\",  // South American beach city\n",
    "        \"Bangkok, Thailand\",        // Southeast Asian cultural center\n",
    "        \"Vancouver, Canada\"         // North American natural beauty\n",
    "    };\n",
    "\n",
    "    // Generate random index and return selected destination\n",
    "    // Uses System.Random for simple random selection\n",
    "    var random = new Random();\n",
    "    int index = random.Next(destinations.Count);\n",
    "    return destinations[index];\n",
    "}"
   ]
  },
  {
   "cell_type": "code",
   "execution_count": 10,
   "id": "d2ed1f8b",
   "metadata": {
    "language_info": {
     "name": "polyglot-notebook"
    },
    "polyglot_notebook": {
     "kernelName": "csharp"
    }
   },
   "outputs": [],
   "source": [
    "// 🔑 Extract Configuration from Environment Variables\n",
    "// Retrieve GitHub Models API endpoint, throws exception if not set\n",
    "var github_endpoint = Environment.GetEnvironmentVariable(\"GITHUB_ENDPOINT\") ?? throw new InvalidOperationException(\"GITHUB_ENDPOINT is not set.\");\n",
    "// Get the model ID, defaults to gpt-4o-mini if not specified\n",
    "var github_model_id = Environment.GetEnvironmentVariable(\"GITHUB_MODEL_ID\") ?? \"gpt-4o-mini\";\n",
    "// Retrieve GitHub token for authentication, throws exception if not set\n",
    "var github_token = Environment.GetEnvironmentVariable(\"GITHUB_TOKEN\") ?? throw new InvalidOperationException(\"GITHUB_TOKEN is not set.\");"
   ]
  },
  {
   "cell_type": "code",
   "execution_count": 11,
   "id": "c36c73e1",
   "metadata": {
    "language_info": {
     "name": "polyglot-notebook"
    },
    "polyglot_notebook": {
     "kernelName": "csharp"
    }
   },
   "outputs": [],
   "source": [
    "// ⚙️ Configure OpenAI Client Options\n",
    "// Create configuration options to point to GitHub Models endpoint\n",
    "// This redirects OpenAI client calls to GitHub's model inference service\n",
    "var openAIOptions = new OpenAIClientOptions()\n",
    "{\n",
    "    Endpoint= new Uri(github_endpoint)  // Set custom endpoint for GitHub Models\n",
    "};"
   ]
  },
  {
   "cell_type": "code",
   "execution_count": 12,
   "id": "6d94ff10",
   "metadata": {
    "language_info": {
     "name": "polyglot-notebook"
    },
    "polyglot_notebook": {
     "kernelName": "csharp"
    }
   },
   "outputs": [],
   "source": [
    "// 🔌 Initialize OpenAI Client with GitHub Models Configuration\n",
    "// Create OpenAI client using GitHub token for authentication\n",
    "// Configure it to use GitHub Models endpoint instead of OpenAI directly\n",
    "var openAIClient = new OpenAIClient(new ApiKeyCredential(github_token), openAIOptions);"
   ]
  },
  {
   "cell_type": "code",
   "execution_count": 13,
   "id": "fe32b57a",
   "metadata": {
    "language_info": {
     "name": "polyglot-notebook"
    },
    "polyglot_notebook": {
     "kernelName": "csharp"
    }
   },
   "outputs": [],
   "source": [
    "// 🤖 Create AI Agent with Travel Planning Capabilities\n",
    "// Initialize OpenAI client, get chat client for specified model, and create AI agent\n",
    "// Configure agent with travel planning instructions and random destination tool\n",
    "// The agent can now plan trips using the GetRandomDestination function\n",
    "AIAgent agent = new OpenAIClient(new ApiKeyCredential(github_token), openAIOptions)\n",
    "    .GetChatClient(github_model_id)  // Get chat client for the specified model\n",
    "    .CreateAIAgent(\n",
    "        instructions:\"You are a helpful AI Agent that can help plan vacations for customers at random destinations\", \n",
    "        tools: [AIFunctionFactory.Create((Func<string>)GetRandomDestination)]  // Register the tool function\n",
    "    );"
   ]
  },
  {
   "cell_type": "code",
   "execution_count": 14,
   "id": "5e455aff",
   "metadata": {
    "language_info": {
     "name": "polyglot-notebook"
    },
    "polyglot_notebook": {
     "kernelName": "csharp"
    }
   },
   "outputs": [
    {
     "name": "stdout",
     "output_type": "stream",
     "text": [
      "For your day trip to Tokyo, Japan, here's a suggested itinerary:\n",
      "\n",
      "### Morning\n",
      "- **Breakfast**: Start your day with a traditional Japanese breakfast. You can try grilled fish, rice, and miso soup at a local restaurant or enjoy a quick meal at a convenience store.\n",
      "- **Visit Senso-ji Temple**: Head to Asakusa and visit Tokyo's oldest temple, Senso-ji. Explore the Nakamise shopping street leading up to the temple for snacks and souvenirs.\n",
      "\n",
      "### Mid-Morning\n",
      "- **Explore Ueno Park**: After Senso-ji, take a short train ride to Ueno Park. Stroll through the park, visit the Ueno Zoo, or check out one of the many museums like the Tokyo National Museum.\n",
      "\n",
      "### Lunch\n",
      "- **Try Sushi**: For lunch, indulge in fresh sushi at a conveyor belt sushi restaurant or a well-reviewed local sushi place in the area.\n",
      "\n",
      "### Afternoon\n",
      "- **Visit Akihabara**: Spend your afternoon exploring Akihabara, a district famous for electronics and otaku culture. Visit some anime and manga stores, or check out a themed cafe.\n",
      "- **Explore Shibuya Crossing**: Head to Shibuya and experience the famous Shibuya Crossing. Enjoy the hustle and bustle of this iconic spot.\n",
      "\n",
      "### Evening\n",
      "- **Dinner in Shinjuku**: Have dinner at one of the izakayas (Japanese pubs) in Shinjuku, where you can try various Japanese dishes and drinks.\n",
      "- **Tokyo Metropolitan Government Building**: End your day with a visit to the Tokyo Metropolitan Government Building. You can go up to the observation deck for a stunning view of the Tokyo skyline, especially during sunset.\n",
      "\n",
      "### Tips\n",
      "- Purchase a Day Pass for the metro to make traveling around the city easier.\n",
      "- Stay hydrated and try to sample different street foods as you explore!\n",
      "\n",
      "Enjoy your day trip to Tokyo!\r\n"
     ]
    }
   ],
   "source": [
    "// 🚀 Execute Agent: Plan a Day Trip (Non-Streaming)\n",
    "// Run the agent with a travel planning request\n",
    "// The agent will use the GetRandomDestination tool and create a complete itinerary\n",
    "// Returns the full response once processing is complete\n",
    "Console.WriteLine(await agent.RunAsync(\"Plan me a day trip\"));"
   ]
  },
  {
   "cell_type": "code",
   "execution_count": 15,
   "id": "592ae1bb",
   "metadata": {
    "language_info": {
     "name": "polyglot-notebook"
    },
    "polyglot_notebook": {
     "kernelName": "csharp"
    }
   },
   "outputs": [
    {
     "name": "stdout",
     "output_type": "stream",
     "text": [
      "How about a day trip to Vancouver, Canada? Here’s a suggested itinerary for your day:\n",
      "\n",
      "### Morning:\n",
      "- **Breakfast at a Local Café**: Start your day at a cozy café in Gastown. Try the famous Canadian pancakes or a classic bagel with smoked salmon.\n",
      "- **Stanley Park**: After breakfast, head to Stanley Park. Enjoy a walk or rent a bike to explore the scenic seawall, lush gardens, and totem poles.\n",
      "\n",
      "### Afternoon:\n",
      "- **Granville Island**: Visit Granville Island for lunch. Explore the public market, artisan shops, and try some delicious local food from the various food stalls.\n",
      "- **Aquabus Ride**: Take an Aquabus ride across False Creek to enjoy stunning views of the city and the North Shore mountains.\n",
      "\n",
      "### Evening:\n",
      "- **Capilano Suspension Bridge**: After lunch, visit the Capilano Suspension Bridge Park. Walk across the bridge and enjoy the beautiful forest scenery.\n",
      "- **Dinner at a Waterfront Restaurant**: Finish the day with dinner at a waterfront restaurant, where you can enjoy fresh seafood and beautiful sunset views.\n",
      "\n",
      "### Optional Activities:\n",
      "- Visit the Vancouver Aquarium or take a stroll through the vibrant neighborhoods of Yaletown or Kitsilano.\n",
      "\n",
      "This itinerary offers a mix of outdoor activities, local culture, and great food. Enjoy your trip!"
     ]
    }
   ],
   "source": [
    "// 🌊 Execute Agent: Plan a Day Trip (Streaming Response)\n",
    "// Run the agent with streaming enabled for real-time response display\n",
    "// Shows the agent's thinking and response as it generates the content\n",
    "// Provides better user experience with immediate feedback\n",
    "await foreach (var update in agent.RunStreamingAsync(\"Plan me a day trip\"))\n",
    "{\n",
    "    Console.Write(update);  // Display each part of the response as it arrives\n",
    "}"
   ]
  },
  {
   "cell_type": "markdown",
   "metadata": {},
   "source": [
    "\n---\n\n**면책 조항**:  \n이 문서는 AI 번역 서비스 [Co-op Translator](https://github.com/Azure/co-op-translator)를 사용하여 번역되었습니다. 정확성을 위해 최선을 다하고 있으나, 자동 번역에는 오류나 부정확한 내용이 포함될 수 있습니다. 원본 문서의 원어 버전을 권위 있는 자료로 간주해야 합니다. 중요한 정보의 경우, 전문적인 인간 번역을 권장합니다. 이 번역 사용으로 인해 발생하는 오해나 잘못된 해석에 대해 당사는 책임을 지지 않습니다.\n"
   ]
  }
 ],
 "metadata": {
  "kernelspec": {
   "display_name": ".NET (C#)",
   "language": "C#",
   "name": ".net-csharp"
  },
  "language_info": {
   "name": "polyglot-notebook"
  },
  "polyglot_notebook": {
   "kernelInfo": {
    "defaultKernelName": "csharp",
    "items": [
     {
      "aliases": [],
      "name": "csharp"
     }
    ]
   }
  },
  "coopTranslator": {
   "original_hash": "6db30f4b25a7a6a59115eb952565693c",
   "translation_date": "2025-10-01T22:06:23+00:00",
   "source_file": "01-intro-to-ai-agents/code_samples/01-dotnet-agent-framework.ipynb",
   "language_code": "ko"
  }
 },
 "nbformat": 4,
 "nbformat_minor": 5
}