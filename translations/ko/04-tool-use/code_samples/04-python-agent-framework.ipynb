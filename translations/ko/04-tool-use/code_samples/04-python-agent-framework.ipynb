{
 "cells": [
  {
   "cell_type": "markdown",
   "id": "8744544f",
   "metadata": {},
   "source": [
    "# 🛠️ GitHub 모델을 활용한 고급 도구 사용 (Python)\n",
    "\n",
    "## 📋 학습 목표\n",
    "\n",
    "이 노트북은 Microsoft Agent Framework와 GitHub 모델을 사용하여 고급 도구 통합 패턴을 보여줍니다. 여러 도구를 생성, 관리, 조율하여 정교한 에이전트 기능을 구축하는 방법을 배울 수 있습니다.\n",
    "\n",
    "**학습 내용:**\n",
    "- 🔧 **다중 도구 아키텍처**: 여러 전문 도구를 활용한 에이전트 구축\n",
    "- 🎯 **도구 선택 로직**: 에이전트가 각 작업에 적합한 도구를 선택하는 방법\n",
    "- 📊 **데이터 처리 도구**: 다양한 데이터 유형을 처리하는 도구 생성\n",
    "- 🔗 **도구 구성**: 복잡한 워크플로를 위한 도구 결합\n",
    "\n",
    "## 🎯 주요 도구 패턴\n",
    "\n",
    "### 도구 설계 원칙\n",
    "- **단일 책임**: 각 도구는 명확하고 집중된 목적을 가짐\n",
    "- **타입 안정성**: 신뢰할 수 있는 도구 실행을 위한 강력한 타입 지정\n",
    "- **오류 처리**: 우아한 실패 및 복구 패턴\n",
    "- **구성 가능성**: 서로 잘 작동하는 도구\n",
    "\n",
    "### 고급 도구 기능\n",
    "- **컨텍스트 인식**: 대화 컨텍스트를 이해하는 도구\n",
    "- **데이터 검증**: 입력 정리 및 출력 검증\n",
    "- **성능 최적화**: 효율적인 도구 실행 패턴\n",
    "- **확장성**: 새로운 도구 기능을 쉽게 추가\n",
    "\n",
    "## 🔧 기술 아키텍처\n",
    "\n",
    "### 핵심 구성 요소\n",
    "- **Microsoft Agent Framework**: 고급 도구 지원을 갖춘 Python 구현\n",
    "- **GitHub 모델 통합**: 고성능 언어 모델 접근\n",
    "- **도구 레지스트리 시스템**: 에이전트 기능의 체계적인 관리\n",
    "- **오류 복구 패턴**: 도구 실행 실패에 대한 견고한 처리\n",
    "\n",
    "### 도구 통합 흐름\n",
    "```python\n",
    "User Request → Agent Analysis → Tool Selection → Tool Execution → Response Synthesis\n",
    "```\n",
    "\n",
    "## 🛠️ 데모 도구 카테고리\n",
    "\n",
    "### 1. **데이터 생성 도구**\n",
    "- 랜덤 목적지 생성기\n",
    "- 날씨 정보 제공자  \n",
    "- 여행 비용 계산기\n",
    "- 활동 추천 엔진\n",
    "\n",
    "### 2. **처리 도구**\n",
    "- 텍스트 포맷팅 및 검증\n",
    "- 데이터 변환 유틸리티\n",
    "- 콘텐츠 분석 기능\n",
    "- 응답 향상 도구\n",
    "\n",
    "### 3. **통합 도구**\n",
    "- 외부 API 연결기\n",
    "- 파일 시스템 작업\n",
    "- 데이터베이스 쿼리 인터페이스\n",
    "- 웹 스크래핑 유틸리티\n",
    "\n",
    "## ⚙️ 사전 준비 및 설정\n",
    "\n",
    "**필수 종속성:**\n",
    "```bash\n",
    "\n",
    "pip install agent-framework-core -U\n",
    "```\n",
    "\n",
    "**환경 구성 (.env 파일):**\n",
    "```env\n",
    "GITHUB_TOKEN=your_github_personal_access_token\n",
    "GITHUB_ENDPOINT=https://models.inference.ai.azure.com\n",
    "GITHUB_MODEL_ID=gpt-4o-mini\n",
    "```\n",
    "\n",
    "**선택적 API:**\n",
    "- 날씨 서비스 API 키 (날씨 도구용)\n",
    "- 통화 변환 API 접근\n",
    "- 여행 정보 서비스 자격 증명\n",
    "\n",
    "## 🎨 설계 패턴\n",
    "\n",
    "### 도구 팩토리 패턴\n",
    "- 중앙 집중식 도구 생성 및 구성\n",
    "- 일관된 도구 인터페이스 설계\n",
    "- 도구 등록 및 검색 용이\n",
    "\n",
    "### 커맨드 패턴\n",
    "- 캡슐화된 도구 실행 로직\n",
    "- 복잡한 작업을 위한 실행 취소/재실행 기능\n",
    "- 도구 사용에 대한 감사 로그\n",
    "\n",
    "### 옵저버 패턴\n",
    "- 도구 실행 모니터링\n",
    "- 성능 메트릭 수집\n",
    "- 오류 보고 및 경고\n",
    "\n",
    "## 🚀 모범 사례\n",
    "\n",
    "- **도구 문서화**: 에이전트가 이해할 수 있는 명확한 설명\n",
    "- **입력 검증**: 강력한 매개변수 확인 및 정리\n",
    "- **출력 포맷팅**: 일관되고 분석 가능한 도구 응답\n",
    "- **오류 메시지**: 디버깅을 위한 유용한 오류 정보\n",
    "- **성능**: 응답성을 위한 최적화된 도구 실행\n",
    "\n",
    "강력한 도구 기능을 갖춘 에이전트를 구축할 준비가 되셨나요? 놀라운 것을 함께 만들어 봅시다! ⚡\n"
   ]
  },
  {
   "cell_type": "code",
   "execution_count": null,
   "id": "59c0feeb",
   "metadata": {},
   "outputs": [],
   "source": [
    "! pip install agent-framework-core -U"
   ]
  },
  {
   "cell_type": "code",
   "execution_count": null,
   "id": "c0df8a52",
   "metadata": {},
   "outputs": [],
   "source": [
    "# � Import core dependencies for Agent Framework and tool integration\n",
    "# This sets up the essential libraries for building intelligent agents with tool capabilities\n",
    "\n",
    "import asyncio\n",
    "import os\n",
    "import json\n",
    "\n",
    "from dotenv import load_dotenv  # For loading environment variables securely\n",
    "from random import randint\n",
    "\n",
    "# These are the core components for building tool-enabled agents\n",
    "from agent_framework import ChatAgent           # Main agent class\n",
    "from agent_framework.openai import OpenAIChatClient  # OpenAI-compatible client"
   ]
  },
  {
   "cell_type": "code",
   "execution_count": null,
   "id": "24c10eb0",
   "metadata": {},
   "outputs": [],
   "source": [
    "load_dotenv()"
   ]
  },
  {
   "cell_type": "code",
   "execution_count": null,
   "id": "151e0314",
   "metadata": {},
   "outputs": [],
   "source": [
    "# 🔑 Environment variables verification\n",
    "# Ensure all required GitHub Models credentials are properly configured\n",
    "print(\"GITHUB_ENDPOINT:\", os.environ.get(\"GITHUB_ENDPOINT\"))\n",
    "print(\"GITHUB_TOKEN:\", \"***\" if os.environ.get(\"GITHUB_TOKEN\") else \"Not set\")\n",
    "print(\"GITHUB_MODEL_ID:\", os.environ.get(\"GITHUB_MODEL_ID\"))"
   ]
  },
  {
   "cell_type": "code",
   "execution_count": null,
   "id": "a6141584",
   "metadata": {},
   "outputs": [],
   "source": [
    "# 🧪 Test GitHub Models connectivity\n",
    "openai_chat_client = OpenAIChatClient(base_url=os.environ.get(\"GITHUB_ENDPOINT\"), api_key=os.environ.get(\"GITHUB_TOKEN\"), model_id=os.environ.get(\"GITHUB_MODEL_ID\"))"
   ]
  },
  {
   "cell_type": "code",
   "execution_count": null,
   "id": "a6507f83",
   "metadata": {},
   "outputs": [],
   "source": [
    "# 🛠️ Define travel planning tools for agent integration\n",
    "# These functions provide specific capabilities that the agent can invoke dynamically\n",
    "\n",
    "def get_random_destination() -> str:\n",
    "    \"\"\"\n",
    "    🎲 Random destination generator tool\n",
    "    Returns a randomly selected travel destination from curated list\n",
    "    Useful when customers need inspiration for their next vacation\n",
    "    \"\"\"\n",
    "    destinations = [\n",
    "        \"Paris, France\",\n",
    "        \"Tokyo, Japan\", \n",
    "        \"New York City, USA\",\n",
    "        \"London, England\",\n",
    "        \"Rome, Italy\",\n",
    "        \"Sydney, Australia\",\n",
    "        \"Dubai, UAE\",\n",
    "        \"Barcelona, Spain\",\n",
    "        \"Bangkok, Thailand\",\n",
    "        \"Amsterdam, Netherlands\",\n",
    "        \"Istanbul, Turkey\",\n",
    "        \"Prague, Czech Republic\",\n",
    "        \"Santorini, Greece\",\n",
    "        \"Reykjavik, Iceland\",\n",
    "        \"Marrakech, Morocco\",\n",
    "        \"Cape Town, South Africa\",\n",
    "        \"Rio de Janeiro, Brazil\",\n",
    "        \"Bali, Indonesia\"\n",
    "    ]\n",
    "    # 🎯 Return random selection from the curated destination list\n",
    "    return destinations[randint(0, len(destinations) - 1)]"
   ]
  },
  {
   "cell_type": "code",
   "execution_count": null,
   "id": "5d4f0568",
   "metadata": {},
   "outputs": [],
   "source": [
    "# 🔗 Initialize GitHub Models chat client for agent communication\n",
    "# Creates the primary interface between the agent and the language model\n",
    "openai_chat_client = OpenAIChatClient(base_url=os.environ.get(\"GITHUB_ENDPOINT\"), api_key=os.environ.get(\"GITHUB_TOKEN\"), model_id=os.environ.get(\"GITHUB_MODEL_ID\"))"
   ]
  },
  {
   "cell_type": "code",
   "execution_count": null,
   "id": "751668c5",
   "metadata": {},
   "outputs": [],
   "source": [
    "# 🤖 Configure travel agent identity and behavioral instructions\n",
    "# Define the agent's personality, capabilities, and operational guidelines\n",
    "\n",
    "AGENT_NAME = \"TravelAgent\"\n",
    "\n",
    "AGENT_INSTRUCTIONS = \"\"\"You are a helpful AI Agent that can help plan vacations for customers at random destinations\n",
    "\"\"\""
   ]
  },
  {
   "cell_type": "code",
   "execution_count": null,
   "id": "be18ac4f",
   "metadata": {},
   "outputs": [],
   "source": [
    "agent = ChatAgent(\n",
    "        name = AGENT_NAME,\n",
    "        chat_client=openai_chat_client,\n",
    "        instructions=AGENT_INSTRUCTIONS,\n",
    "        tools=[get_random_destination]\n",
    ")"
   ]
  },
  {
   "cell_type": "code",
   "execution_count": null,
   "id": "772e9481",
   "metadata": {},
   "outputs": [],
   "source": [
    "thread = agent.get_new_thread()"
   ]
  },
  {
   "cell_type": "code",
   "execution_count": null,
   "id": "a731b547",
   "metadata": {},
   "outputs": [],
   "source": [
    "response1 = await agent.run(\"Plan me a day trip\",thread= thread)"
   ]
  },
  {
   "cell_type": "code",
   "execution_count": null,
   "id": "7d3fe00a",
   "metadata": {},
   "outputs": [],
   "source": [
    "\n",
    "last_message = response1.messages[-1]\n",
    "text_content = last_message.contents[0].text\n",
    "print(\"Travel plan:\")\n",
    "print(text_content)"
   ]
  },
  {
   "cell_type": "markdown",
   "metadata": {},
   "source": [
    "\n---\n\n**면책 조항**:  \n이 문서는 AI 번역 서비스 [Co-op Translator](https://github.com/Azure/co-op-translator)를 사용하여 번역되었습니다. 정확성을 위해 최선을 다하고 있으나, 자동 번역에는 오류나 부정확성이 포함될 수 있습니다. 원본 문서의 원어 버전이 권위 있는 출처로 간주되어야 합니다. 중요한 정보의 경우, 전문적인 인간 번역을 권장합니다. 이 번역 사용으로 인해 발생하는 오해나 잘못된 해석에 대해 당사는 책임을 지지 않습니다.\n"
   ]
  }
 ],
 "metadata": {
  "kernelspec": {
   "display_name": "agentenv",
   "language": "python",
   "name": "python3"
  },
  "language_info": {
   "codemirror_mode": {
    "name": "ipython",
    "version": 3
   },
   "file_extension": ".py",
   "mimetype": "text/x-python",
   "name": "python",
   "nbconvert_exporter": "python",
   "pygments_lexer": "ipython3",
   "version": "3.12.10"
  },
  "polyglot_notebook": {
   "kernelInfo": {
    "defaultKernelName": "csharp",
    "items": [
     {
      "aliases": [],
      "name": "csharp"
     }
    ]
   }
  },
  "coopTranslator": {
   "original_hash": "42966ddac53cebaf0ac1ce33b2ee7059",
   "translation_date": "2025-10-01T22:07:48+00:00",
   "source_file": "04-tool-use/code_samples/04-python-agent-framework.ipynb",
   "language_code": "ko"
  }
 },
 "nbformat": 4,
 "nbformat_minor": 5
}