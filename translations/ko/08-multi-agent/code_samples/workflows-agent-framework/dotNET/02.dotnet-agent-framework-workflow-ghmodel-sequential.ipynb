{
 "cells": [
  {
   "cell_type": "markdown",
   "id": "3afc7f5e",
   "metadata": {},
   "source": [
    "# ⏩ GitHub 모델(.NET)을 활용한 순차적 에이전트 워크플로우\n",
    "\n",
    "## 📋 고급 순차 처리 튜토리얼\n",
    "\n",
    "이 노트북은 Microsoft Agent Framework for .NET과 GitHub 모델을 사용하여 **순차적 워크플로우 패턴**을 구현하는 방법을 보여줍니다. 에이전트가 특정 순서로 실행되며 각 단계가 이전 단계의 결과를 기반으로 하는 정교한 단계별 처리 파이프라인을 구축하는 방법을 배울 수 있습니다.\n",
    "\n",
    "## 🎯 학습 목표\n",
    "\n",
    "### 🔄 **순차 처리 아키텍처**\n",
    "- **선형 워크플로우 설계**: 명확한 의존성을 가진 단계별 처리 파이프라인 생성\n",
    "- **상태 관리**: 순차적 워크플로우 단계 간의 컨텍스트와 데이터 흐름 유지\n",
    "- **GitHub 모델 통합**: GitHub의 AI 모델을 다단계 .NET 워크플로우에서 활용\n",
    "- **엔터프라이즈 파이프라인 패턴**: 실무에 적합한 순차 처리 시스템 구축\n",
    "\n",
    "### 🏗️ **고급 순차 패턴**\n",
    "- **단계 게이트 처리**: 워크플로우 단계 간의 검증 체크포인트 구현\n",
    "- **컨텍스트 유지**: 모든 단계에서 상태와 축적된 지식 유지\n",
    "- **오류 전파**: 순차 처리 체인에서 실패를 우아하게 처리\n",
    "- **성능 최적화**: 최소한의 오버헤드로 효율적인 순차 실행\n",
    "\n",
    "### 🏢 **엔터프라이즈 순차 애플리케이션**\n",
    "- **문서 처리 파이프라인**: 다단계 문서 분석, 변환 및 검증\n",
    "- **품질 보증 워크플로우**: 순차적 검토, 검증 및 승인 프로세스\n",
    "- **콘텐츠 제작 파이프라인**: 연구 → 작성 → 편집 → 검토 → 게시\n",
    "- **비즈니스 프로세스 자동화**: 명확한 단계 의존성을 가진 다단계 비즈니스 워크플로우\n",
    "\n",
    "## ⚙️ 사전 준비 및 설정\n",
    "\n",
    "### 📦 **필수 NuGet 패키지**\n",
    "\n",
    ".NET 순차 워크플로우에 필요한 필수 패키지:\n",
    "\n",
    "```xml\n",
    "<!-- Core AI Framework -->\n",
    "<PackageReference Include=\"Microsoft.Extensions.AI\" Version=\"9.9.0\" />\n",
    "\n",
    "<!-- Client Model Abstractions -->\n",
    "<PackageReference Include=\"System.ClientModel\" Version=\"1.6.1.0\" />\n",
    "\n",
    "<!-- Azure Identity and Async LINQ Support -->\n",
    "<PackageReference Include=\"Azure.Identity\" Version=\"1.15.0\" />\n",
    "<PackageReference Include=\"System.Linq.Async\" Version=\"6.0.3\" />\n",
    "\n",
    "<!-- Local Agent Framework References -->\n",
    "<!-- Microsoft.Agents.AI.dll - Core agent abstractions -->\n",
    "<!-- Microsoft.Agents.AI.OpenAI.dll - GitHub Models integration -->\n",
    "```\n",
    "\n",
    "### 🔑 **GitHub 모델 설정**\n",
    "\n",
    "**환경 설정 (.env 파일):**\n",
    "```env\n",
    "GITHUB_TOKEN=your_github_personal_access_token\n",
    "GITHUB_ENDPOINT=https://models.inference.ai.azure.com\n",
    "GITHUB_MODEL_ID=gpt-4o-mini\n",
    "```\n",
    "\n",
    "**구성 관리:**\n",
    "```csharp\n",
    "// Load environment variables securely\n",
    "Env.Load(\"../../../.env\");\n",
    "var githubToken = Environment.GetEnvironmentVariable(\"GITHUB_TOKEN\");\n",
    "var githubEndpoint = Environment.GetEnvironmentVariable(\"GITHUB_ENDPOINT\");\n",
    "var modelId = Environment.GetEnvironmentVariable(\"GITHUB_MODEL_ID\");\n",
    "```\n",
    "\n",
    "### 🏗️ **순차 워크플로우 아키텍처**\n",
    "\n",
    "```mermaid\n",
    "graph TD\n",
    "    A[Initial Input] --> B[Stage 1: Analysis Agent]\n",
    "    B --> C[Checkpoint 1]\n",
    "    C --> D[Stage 2: Processing Agent]\n",
    "    D --> E[Checkpoint 2]\n",
    "    E --> F[Stage 3: Validation Agent]\n",
    "    F --> G[Final Output]\n",
    "    \n",
    "    H[State Context] --> B\n",
    "    H --> D\n",
    "    H --> F\n",
    "    \n",
    "    I[GitHub Models API] --> B\n",
    "    I --> D\n",
    "    I --> F\n",
    "```\n",
    "\n",
    "**핵심 구성 요소:**\n",
    "- **순차 에이전트**: 각 처리 단계에 특화된 에이전트\n",
    "- **상태 컨텍스트**: 단계 간 축적된 데이터와 결정을 유지\n",
    "- **체크포인트**: 각 단계 간 품질과 일관성을 보장하는 검증 지점\n",
    "- **GitHub 모델 클라이언트**: 모든 워크플로우 단계에서 일관된 AI 모델 접근\n",
    "\n",
    "## 🎨 **순차 워크플로우 설계 패턴**\n",
    "\n",
    "### 📝 **문서 처리 파이프라인**\n",
    "```\n",
    "Raw Document → Content Extraction → Analysis → Validation → Structured Output\n",
    "```\n",
    "\n",
    "### 🎯 **콘텐츠 제작 워크플로우**\n",
    "```\n",
    "Brief/Requirements → Research → Content Creation → Review → Final Polish\n",
    "```\n",
    "\n",
    "### 🔍 **품질 보증 파이프라인**\n",
    "```\n",
    "Initial Review → Technical Validation → Compliance Check → Final Approval\n",
    "```\n",
    "\n",
    "### 💼 **비즈니스 인텔리전스 워크플로우**\n",
    "```\n",
    "Data Collection → Processing → Analysis → Report Generation → Distribution\n",
    "```\n",
    "\n",
    "## 🏢 **엔터프라이즈 순차적 이점**\n",
    "\n",
    "### 🎯 **신뢰성과 품질**\n",
    "- **결정론적 처리**: 구조화된 단계별로 일관되고 반복 가능한 결과 제공\n",
    "- **품질 게이트**: 각 단계에서 품질을 보장하는 검증 체크포인트\n",
    "- **오류 격리**: 한 단계의 문제가 후속 단계로 전파되지 않음\n",
    "- **감사 추적**: 각 단계에서의 결정과 변환을 완벽히 추적\n",
    "\n",
    "### 📈 **확장성 및 성능**\n",
    "- **모듈식 설계**: 각 단계를 독립적으로 최적화 가능\n",
    "- **자원 관리**: 각 단계에서 AI 모델 자원을 효율적으로 할당\n",
    "- **상태 최적화**: 최적의 성능을 위해 단계 간 최소 상태 전송\n",
    "- **병렬 단계 그룹**: 여러 순차 워크플로우를 병렬로 실행 가능\n",
    "\n",
    "### 🔒 **보안 및 준수**\n",
    "- **단계별 보안**: 각 처리 단계에 다른 보안 정책 적용\n",
    "- **데이터 검증**: 각 체크포인트에서 데이터 무결성과 준수 보장\n",
    "- **접근 제어**: 각 워크플로우 단계에 대한 세분화된 권한 설정\n",
    "- **규제 준수**: 구조화된 처리로 규제 요구사항 충족\n",
    "\n",
    "### 📊 **모니터링 및 분석**\n",
    "- **단계별 메트릭**: 각 워크플로우 단계의 성능 모니터링\n",
    "- **병목 현상 식별**: 느린 단계를 식별하고 최적화\n",
    "- **품질 메트릭**: 각 단계에서 품질과 성공률 추적\n",
    "- **프로세스 최적화**: 단계별 분석을 기반으로 지속적인 개선\n",
    "\n",
    "이제 강력한 순차적 AI 처리 파이프라인을 구축해봅시다! 🚀\n"
   ]
  },
  {
   "cell_type": "code",
   "execution_count": 1,
   "id": "00da9b8b",
   "metadata": {
    "language_info": {
     "name": "polyglot-notebook"
    },
    "polyglot_notebook": {
     "kernelName": "csharp"
    }
   },
   "outputs": [
    {
     "data": {
      "text/html": [
       "<div><div></div><div></div><div><strong>Installed Packages</strong><ul><li><span>Microsoft.Extensions.AI, 9.9.1</span></li></ul></div></div>"
      ]
     },
     "metadata": {},
     "output_type": "display_data"
    }
   ],
   "source": [
    "#r \"nuget: Microsoft.Extensions.AI, 9.9.1\""
   ]
  },
  {
   "cell_type": "code",
   "execution_count": 2,
   "id": "b5bb8d4a",
   "metadata": {
    "language_info": {
     "name": "polyglot-notebook"
    },
    "polyglot_notebook": {
     "kernelName": "csharp"
    }
   },
   "outputs": [
    {
     "data": {
      "text/html": [
       "<div><div></div><div></div><div><strong>Installed Packages</strong><ul><li><span>System.ClientModel, 1.6.1</span></li></ul></div></div>"
      ]
     },
     "metadata": {},
     "output_type": "display_data"
    }
   ],
   "source": [
    "#r \"nuget: System.ClientModel, 1.6.1.0\""
   ]
  },
  {
   "cell_type": "code",
   "execution_count": 3,
   "id": "ab1e7fc6",
   "metadata": {
    "language_info": {
     "name": "polyglot-notebook"
    },
    "polyglot_notebook": {
     "kernelName": "csharp"
    }
   },
   "outputs": [
    {
     "data": {
      "text/html": [
       "<div><div></div><div></div><div><strong>Installed Packages</strong><ul><li><span>Azure.Identity, 1.15.0</span></li><li><span>OpenTelemetry.Api, 1.0.1</span></li><li><span>System.Linq.Async, 6.0.3</span></li></ul></div></div>"
      ]
     },
     "metadata": {},
     "output_type": "display_data"
    }
   ],
   "source": [
    "#r \"nuget: Azure.Identity, 1.15.0\"\n",
    "#r \"nuget: System.Linq.Async, 6.0.3\"\n",
    "#r \"nuget: OpenTelemetry.Api, 1.0.0\""
   ]
  },
  {
   "cell_type": "code",
   "execution_count": 4,
   "id": "bcaac0dc",
   "metadata": {
    "language_info": {
     "name": "polyglot-notebook"
    },
    "polyglot_notebook": {
     "kernelName": "csharp"
    }
   },
   "outputs": [
    {
     "data": {
      "text/html": [
       "<div><div></div><div></div><div><strong>Installed Packages</strong><ul><li><span>Microsoft.Agents.AI.Workflows, 1.0.0-preview.251001.3</span></li></ul></div></div>"
      ]
     },
     "metadata": {},
     "output_type": "display_data"
    }
   ],
   "source": [
    "#r \"nuget: Microsoft.Agents.AI.Workflows, 1.0.0-preview.251001.3\""
   ]
  },
  {
   "cell_type": "code",
   "execution_count": null,
   "id": "67b833a2",
   "metadata": {
    "language_info": {
     "name": "polyglot-notebook"
    },
    "polyglot_notebook": {
     "kernelName": "csharp"
    }
   },
   "outputs": [
    {
     "data": {
      "text/html": [
       "<div><div></div><div></div><div><strong>Installed Packages</strong><ul><li><span>Microsoft.Agents.AI.OpenAI, 1.0.0-preview.251001.2</span></li></ul></div></div>"
      ]
     },
     "metadata": {},
     "output_type": "display_data"
    }
   ],
   "source": [
    "#r \"nuget: Microsoft.Agents.AI.OpenAI, 1.0.0-preview.251001.3\""
   ]
  },
  {
   "cell_type": "code",
   "execution_count": 6,
   "id": "87360b4b",
   "metadata": {
    "language_info": {
     "name": "polyglot-notebook"
    },
    "polyglot_notebook": {
     "kernelName": "csharp"
    }
   },
   "outputs": [
    {
     "data": {
      "text/html": [
       "<div><div></div><div></div><div><strong>Installed Packages</strong><ul><li><span>DotNetEnv, 3.1.1</span></li></ul></div></div>"
      ]
     },
     "metadata": {},
     "output_type": "display_data"
    }
   ],
   "source": [
    "#r \"nuget: DotNetEnv, 3.1.1\""
   ]
  },
  {
   "cell_type": "code",
   "execution_count": 7,
   "id": "d138d9d8",
   "metadata": {
    "language_info": {
     "name": "polyglot-notebook"
    },
    "polyglot_notebook": {
     "kernelName": "csharp"
    }
   },
   "outputs": [],
   "source": [
    "// #r \"nuget: Microsoft.Extensions.AI.OpenAI, 9.9.0-preview.1.25458.4\""
   ]
  },
  {
   "cell_type": "code",
   "execution_count": 8,
   "id": "8c41aa03",
   "metadata": {
    "language_info": {
     "name": "polyglot-notebook"
    },
    "polyglot_notebook": {
     "kernelName": "csharp"
    }
   },
   "outputs": [],
   "source": [
    "using System;\n",
    "using System.ComponentModel;\n",
    "using System.ClientModel;\n",
    "using OpenAI;\n",
    "using Azure.Identity;\n",
    "using Microsoft.Extensions.AI;\n",
    "using Microsoft.Agents.AI;\n",
    "using Microsoft.Agents.AI.Workflows;"
   ]
  },
  {
   "cell_type": "code",
   "execution_count": 9,
   "id": "1e4716e1",
   "metadata": {
    "language_info": {
     "name": "polyglot-notebook"
    },
    "polyglot_notebook": {
     "kernelName": "csharp"
    }
   },
   "outputs": [],
   "source": [
    " using DotNetEnv;"
   ]
  },
  {
   "cell_type": "code",
   "execution_count": 10,
   "id": "4af5524b",
   "metadata": {
    "language_info": {
     "name": "polyglot-notebook"
    },
    "polyglot_notebook": {
     "kernelName": "csharp"
    }
   },
   "outputs": [],
   "source": [
    "Env.Load(\"../../../.env\");"
   ]
  },
  {
   "cell_type": "code",
   "execution_count": 11,
   "id": "c605fbae",
   "metadata": {
    "language_info": {
     "name": "polyglot-notebook"
    },
    "polyglot_notebook": {
     "kernelName": "csharp"
    }
   },
   "outputs": [],
   "source": [
    "\n",
    "var github_endpoint = Environment.GetEnvironmentVariable(\"GITHUB_ENDPOINT\") ?? throw new InvalidOperationException(\"GITHUB_ENDPOINT is not set.\");\n",
    "var github_model_id =  \"gpt-4o\";\n",
    "var github_token = Environment.GetEnvironmentVariable(\"GITHUB_TOKEN\") ?? throw new InvalidOperationException(\"GITHUB_TOKEN is not set.\");\n",
    "\n",
    "var imgPath =\"../imgs/home.png\";"
   ]
  },
  {
   "cell_type": "code",
   "execution_count": 12,
   "id": "2ca431fb",
   "metadata": {
    "language_info": {
     "name": "polyglot-notebook"
    },
    "polyglot_notebook": {
     "kernelName": "csharp"
    }
   },
   "outputs": [],
   "source": [
    "var openAIOptions = new OpenAIClientOptions()\n",
    "{\n",
    "    Endpoint = new Uri(github_endpoint)\n",
    "};"
   ]
  },
  {
   "cell_type": "code",
   "execution_count": 13,
   "id": "9cb1047b",
   "metadata": {
    "language_info": {
     "name": "polyglot-notebook"
    },
    "polyglot_notebook": {
     "kernelName": "csharp"
    }
   },
   "outputs": [],
   "source": [
    "\n",
    "var openAIClient = new OpenAIClient(new ApiKeyCredential(github_token), openAIOptions);"
   ]
  },
  {
   "cell_type": "code",
   "execution_count": 14,
   "id": "e2b4d1da",
   "metadata": {
    "language_info": {
     "name": "polyglot-notebook"
    },
    "polyglot_notebook": {
     "kernelName": "csharp"
    }
   },
   "outputs": [],
   "source": [
    "const string SalesAgentName = \"Sales-Agent\";\n",
    "const string SalesAgentInstructions = \"You are my furniture sales consultant, you can find different furniture elements from the pictures and give me a purchase suggestion\";"
   ]
  },
  {
   "cell_type": "code",
   "execution_count": 15,
   "id": "a13e8e60",
   "metadata": {
    "language_info": {
     "name": "polyglot-notebook"
    },
    "polyglot_notebook": {
     "kernelName": "csharp"
    }
   },
   "outputs": [],
   "source": [
    "const string PriceAgentName = \"Price-Agent\";\n",
    "const string PriceAgentInstructions = @\"You are a furniture pricing specialist and budget consultant. Your responsibilities include:\n",
    "        1. Analyze furniture items and provide realistic price ranges based on quality, brand, and market standards\n",
    "        2. Break down pricing by individual furniture pieces\n",
    "        3. Provide budget-friendly alternatives and premium options\n",
    "        4. Consider different price tiers (budget, mid-range, premium)\n",
    "        5. Include estimated total costs for room setups\n",
    "        6. Suggest where to find the best deals and shopping recommendations\n",
    "        7. Factor in additional costs like delivery, assembly, and accessories\n",
    "        8. Provide seasonal pricing insights and best times to buy\n",
    "        Always format your response with clear price breakdowns and explanations for the pricing rationale.\";"
   ]
  },
  {
   "cell_type": "code",
   "execution_count": 16,
   "id": "9c7f2e6b",
   "metadata": {
    "language_info": {
     "name": "polyglot-notebook"
    },
    "polyglot_notebook": {
     "kernelName": "csharp"
    }
   },
   "outputs": [],
   "source": [
    "const string QuoteAgentName = \"Quote-Agent\";\n",
    "const string QuoteAgentInstructions = @\"You are a assistant that create a quote for furniture purchase.\n",
    "        1. Create a well-structured quote document that includes:\n",
    "        2. A title page with the document title, date, and client name\n",
    "        3. An introduction summarizing the purpose of the document\n",
    "        4. A summary section with total estimated costs and recommendations\n",
    "        5. Use clear headings, bullet points, and tables for easy readability\n",
    "        6. All quotes are presented in markdown form\";"
   ]
  },
  {
   "cell_type": "code",
   "execution_count": 17,
   "id": "9913eb2d",
   "metadata": {
    "language_info": {
     "name": "polyglot-notebook"
    },
    "polyglot_notebook": {
     "kernelName": "csharp"
    }
   },
   "outputs": [],
   "source": [
    "using System.IO;\n",
    "\n",
    "async Task<byte[]> OpenImageBytesAsync(string path)\n",
    "{\n",
    "\treturn await File.ReadAllBytesAsync(path);\n",
    "}\n",
    "\n",
    "var imageBytes = await OpenImageBytesAsync(imgPath);"
   ]
  },
  {
   "cell_type": "code",
   "execution_count": 18,
   "id": "18cfe533",
   "metadata": {
    "language_info": {
     "name": "polyglot-notebook"
    },
    "polyglot_notebook": {
     "kernelName": "csharp"
    }
   },
   "outputs": [
    {
     "data": {
      "text/html": [
       "<div class=\"dni-plaintext\"><pre>[ 137, 80, 78, 71, 13, 10, 26, 10, 0, 0, 0, 13, 73, 72, 68, 82, 0, 0, 3, 142 ... (823194 more) ]</pre></div><style>\r\n",
       ".dni-code-hint {\r\n",
       "    font-style: italic;\r\n",
       "    overflow: hidden;\r\n",
       "    white-space: nowrap;\r\n",
       "}\r\n",
       ".dni-treeview {\r\n",
       "    white-space: nowrap;\r\n",
       "}\r\n",
       ".dni-treeview td {\r\n",
       "    vertical-align: top;\r\n",
       "    text-align: start;\r\n",
       "}\r\n",
       "details.dni-treeview {\r\n",
       "    padding-left: 1em;\r\n",
       "}\r\n",
       "table td {\r\n",
       "    text-align: start;\r\n",
       "}\r\n",
       "table tr { \r\n",
       "    vertical-align: top; \r\n",
       "    margin: 0em 0px;\r\n",
       "}\r\n",
       "table tr td pre \r\n",
       "{ \r\n",
       "    vertical-align: top !important; \r\n",
       "    margin: 0em 0px !important;\r\n",
       "} \r\n",
       "table th {\r\n",
       "    text-align: start;\r\n",
       "}\r\n",
       "</style>"
      ]
     },
     "metadata": {},
     "output_type": "display_data"
    }
   ],
   "source": [
    "imageBytes"
   ]
  },
  {
   "cell_type": "code",
   "execution_count": 19,
   "id": "15309ab7",
   "metadata": {
    "language_info": {
     "name": "polyglot-notebook"
    },
    "polyglot_notebook": {
     "kernelName": "csharp"
    }
   },
   "outputs": [],
   "source": [
    "AIAgent salesagent = openAIClient.GetChatClient(github_model_id).CreateAIAgent(\n",
    "    name:SalesAgentName,instructions:SalesAgentInstructions);\n",
    "AIAgent priceagent  = openAIClient.GetChatClient(github_model_id).CreateAIAgent(\n",
    "    name:PriceAgentName,instructions:PriceAgentInstructions);\n",
    "AIAgent quoteagent = openAIClient.GetChatClient(github_model_id).CreateAIAgent(\n",
    "    name:QuoteAgentName,instructions:QuoteAgentInstructions);"
   ]
  },
  {
   "cell_type": "code",
   "execution_count": 20,
   "id": "5758b83b",
   "metadata": {
    "language_info": {
     "name": "polyglot-notebook"
    },
    "polyglot_notebook": {
     "kernelName": "csharp"
    }
   },
   "outputs": [],
   "source": [
    "var workflow = new WorkflowBuilder(salesagent)\n",
    "            .AddEdge(salesagent,priceagent)\n",
    "            .AddEdge(priceagent, quoteagent)\n",
    "            .Build();"
   ]
  },
  {
   "cell_type": "code",
   "execution_count": 21,
   "id": "fa922e4e",
   "metadata": {
    "language_info": {
     "name": "polyglot-notebook"
    },
    "polyglot_notebook": {
     "kernelName": "csharp"
    }
   },
   "outputs": [],
   "source": [
    "ChatMessage userMessage = new ChatMessage(ChatRole.User, [\n",
    "\tnew DataContent(imageBytes, \"image/png\"),new TextContent(\"Please find the relevant furniture according to the image and give the corresponding price for each piece of furniture.Finally Output generates a quotation\") \n",
    "]);"
   ]
  },
  {
   "cell_type": "code",
   "execution_count": 22,
   "id": "5b3381c9",
   "metadata": {
    "language_info": {
     "name": "polyglot-notebook"
    },
    "polyglot_notebook": {
     "kernelName": "csharp"
    }
   },
   "outputs": [],
   "source": [
    "StreamingRun run = await InProcessExecution.StreamAsync(workflow, userMessage);"
   ]
  },
  {
   "cell_type": "code",
   "execution_count": 23,
   "id": "80b81d1e",
   "metadata": {
    "language_info": {
     "name": "polyglot-notebook"
    },
    "polyglot_notebook": {
     "kernelName": "csharp"
    }
   },
   "outputs": [
    {
     "name": "stdout",
     "output_type": "stream",
     "text": [
      "Here are the furniture pieces identified in the image along with estimated prices based on typical market rates for similar items. The prices may vary depending on the retailer or brand.\n",
      "\n",
      "### Furniture Elements:\n",
      "1. **Modern TV Console:**\n",
      "   - Description: A mid-century-style wooden TV console with ample storage and a sleek design.\n",
      "   - Estimated Price: $350\n",
      "\n",
      "2. **Flat Screen TV (optional):**\n",
      "   - Description: A wall-mounted flat screen TV as shown.\n",
      "   - Estimated Price: $400 (optional add-on)\n",
      "\n",
      "3. **Armchair (Blue Accent Chair):**\n",
      "   - Description: A modern navy-blue armchair with a curved back and comfortable seating.\n",
      "   - Estimated Price: $250\n",
      "\n",
      "4. **Minimalist Coffee Table:**\n",
      "   - Description: A white, slightly oval coffee table with a wooden base for a modern look.\n",
      "   - Estimated Price: $150\n",
      "\n",
      "5. **Neutral Fabric Sofa:**\n",
      "   - Description: A long, white upholstered sofa with cushions in varying tones of blue and gray.\n",
      "   - Estimated Price: $700\n",
      "\n",
      "6. **Throw Pillows Assortment:**\n",
      "   - Description: Blue and patterned throw pillows to complement the sofa design.\n",
      "   - Estimated Price: $25 each (6 pillows total: $150)\n",
      "\n",
      "7. **End Tables (2x, beside sofa and armchair):**\n",
      "   - Description: Compact square tables with metal frames and neutral tabletops.\n",
      "   - Estimated Price: $100 each ($200 total)\n",
      "\n",
      "8. **Pendant Lights (2x):**\n",
      "   - Description: Unique modern pendant lights with spherical bulbs near the corner lamp table.\n",
      "   - Estimated Price: $75 each ($150 total)\n",
      "\n",
      "9. **Chandelier Lighting Fixture:**\n",
      "   - Description: Black modern chandelier with spherical glass bulbs.\n",
      "   - Estimated Price: $180\n",
      "\n",
      "10. **Curtains (Floor-to-Ceiling):**\n",
      "    - Description: Dual-layer curtains in gray and white sheers for an elegant touch.\n",
      "    - Estimated Price: $150\n",
      "\n",
      "11. **Side Table with Decorative Items/Vase:**\n",
      "    - Description: A slim, metal-legged side table with a vase and minimalist décor.\n",
      "    - Estimated Price: $120\n",
      "\n",
      "12. **Wall Art Frame (Deer Illustration):**\n",
      "    - Description: Framed wall art with modern deer illustration.\n",
      "    - Estimated Price: $50\n",
      "\n",
      "---\n",
      "\n",
      "### **Quotation**:\n",
      "1. Modern TV Console - $350  \n",
      "2. Flat Screen TV (Optional) - $400  \n",
      "3. Armchair (Blue Accent Chair) - $250  \n",
      "4. Minimalist Coffee Table - $150  \n",
      "5. Neutral Fabric Sofa - $700  \n",
      "6. Throw Pillows (6x) - $150  \n",
      "7. End Tables (2x) - $200  \n",
      "8. Pendant Lights (2x) - $150  \n",
      "9. Chandelier Lighting Fixture - $180  \n",
      "10. Curtains (Floor-to-Ceiling) - $150  \n",
      "11. Side Table with Decorative Items/Vase - $120  \n",
      "12. Wall Art Frame (Deer Illustration) - $50  \n",
      "\n",
      "---\n",
      "\n",
      "**Total Price Estimate: $2,930**  \n",
      "(Note: Excludes optional TV. Add $400 if included.)Below is a detailed furniture pricing analysis and recommendations for furnishing your living room setup: \n",
      "\n",
      "---\n",
      "\n",
      "### Price Breakdown and Rationale\n",
      "\n",
      "1. **TV Console**  \n",
      "   - Budget: $150–$250 for basic styles in MDF or particleboard materials.  \n",
      "   - Mid-Range: $300–$500 for solid wood or modern styles with extra storage.  \n",
      "   - Premium: $600–$1,000 for designer brands or consoles with built-in cable management systems.  \n",
      "\n",
      "   **Recommendation:** A stylish mid-century modern option at $350 offers both design aesthetics and functionality without breaking the bank.\n",
      "\n",
      "---\n",
      "\n",
      "2. **Flat Screen TV** (Optional)  \n",
      "   - Budget: $200–$400 for basic HD options under 50 inches.  \n",
      "   - Mid-Range: $500–$800 for 4K quality screens.  \n",
      "   - Premium: $1,000+ for OLED technology or large 65-75 inch screens.  \n",
      "\n",
      "   **Recommendation:** At $400, this provides a reasonable option at mid-range pricing for smaller living rooms, perfect for casual viewing.\n",
      "\n",
      "---\n",
      "\n",
      "3. **Armchair (Accent Chair)**  \n",
      "   - Budget: $100–$200 for basic upholstered options.  \n",
      "   - Mid-Range: $250–$400 for ergonomic and well-designed fabric chairs.  \n",
      "   - Premium: $500–$800 for branded or designer luxury chairs.  \n",
      "\n",
      "   **Recommendation:** The armchair selection at $250 offers comfort and style for a reasonable price in the mid-tier range.\n",
      "\n",
      "---\n",
      "\n",
      "4. **Coffee Table**  \n",
      "   - Budget: $50–$150 for simple MDF designs or second-hand options.  \n",
      "   - Mid-Range: $200–$400 for solid wood or glass-top tables.  \n",
      "   - Premium: $500–$800 for marble or custom designer styles.  \n",
      "\n",
      "   **Recommendation:** The $150 table is a lightweight, budget-friendly choice with modern aesthetics, suitable for small spaces.\n",
      "\n",
      "---\n",
      "\n",
      "5. **Neutral Fabric Sofa**  \n",
      "   - Budget: $300–$600 for basic polyester or cotton upholstery with foam cushions.  \n",
      "   - Mid-Range: $700–$1,200 for durable performance fabrics like microfiber or linen.  \n",
      "   - Premium: $1,500+ for leather, velvet, or designer-branded sofas.  \n",
      "\n",
      "   **Recommendation:** At $700, this mid-range upholstered sofa fits well into stylish setups requiring comfort and durability.\n",
      "\n",
      "---\n",
      "\n",
      "6. **Throw Pillows (6 Pillows)**  \n",
      "   - Budget: $10–$20 each for standard poly-filled pillows.  \n",
      "   - Mid-Range: $25–$40 each for pillows with decorative designs and quality materials.  \n",
      "   - Premium: $50–$100+ each for designer or hand-sewn pillows.  \n",
      "\n",
      "   **Recommendation:** At $150 for six total pillows, this balances quality and affordability for color-coordinated accents.\n",
      "\n",
      "---\n",
      "\n",
      "7. **End Tables**  \n",
      "   - Budget: $50–$100 each for basic designs with MDF surfaces.  \n",
      "   - Mid-Range: $120–$250 for solid wood or metal-framed options.  \n",
      "   - Premium: $300–$500 for custom shapes or designer brands.  \n",
      "\n",
      "   **Recommendation:** The choice at $100 each gives you sturdy, stylish tables without excess costs.\n",
      "\n",
      "---\n",
      "\n",
      "8. **Pendant Lights**  \n",
      "   - Budget: $30–$75 each for basic pendant fixtures.  \n",
      "   - Mid-Range: $100–$200 each for modern, decorative designs.  \n",
      "   - Premium: $250+ for artisan-crafted or smart-home technology lighting.  \n",
      "\n",
      "   **Recommendation:** At $75 each, these pendant lights offer a great balance of utility and design for the price.\n",
      "\n",
      "---\n",
      "\n",
      "9. **Chandelier Lighting Fixture**  \n",
      "   - Budget: $100–$200 for simple yet modern chandelier designs.  \n",
      "   - Mid-Range: $200–$500 for high-quality, multi-light fixtures with glass components.  \n",
      "   - Premium: $600+ for luxury lighting sets or custom designs.  \n",
      "\n",
      "   **Recommendation:** The $180 fixture is affordable and adds elegance without exceeding mid-range pricing.\n",
      "\n",
      "---\n",
      "\n",
      "10. **Curtains**  \n",
      "    - Budget: $50–$100 for polyester or cotton panels with standard lengths.  \n",
      "    - Mid-Range: $120–$250 for dual-layer block-out curtains or linen sheers.  \n",
      "    - Premium: $300+ for motorized curtains or designer prints.  \n",
      "\n",
      "    **Recommendation:** At $150, these dual-layer curtains ensure style, privacy, and light control at a reasonable cost.\n",
      "\n",
      "---\n",
      "\n",
      "11. **Side Table and Vase**  \n",
      "    - Budget: $50–$100 for basic end tables with simple designs.  \n",
      "    - Mid-Range: $120–$300 for tables with decorative accents or durable materials.  \n",
      "    - Premium: $400+ for rare wood or branded designs paired with luxury décor pieces.  \n",
      "\n",
      "    **Recommendation:** A chic metal-leg table with complementary décor at $120 is a solid mid-range choice.\n",
      "\n",
      "---\n",
      "\n",
      "12. **Wall Art Frame**  \n",
      "    - Budget: $20–$40 for printed artwork or poster frames.  \n",
      "    - Mid-Range: $50–$100 for custom prints or canvas designs.  \n",
      "    - Premium: $150+ for unique artwork or branded galleries.  \n",
      "\n",
      "    **Recommendation:** At $50, this modern deer illustration adds personality without breaking the budget.\n",
      "\n",
      "---\n",
      "\n",
      "### **Estimated Total Living Room Setup Costs**  \n",
      "\n",
      "**Budget Tier (low cost):** $1,500–$2,000  \n",
      "**Mid-Range Tier:** $2,500–$3,500  \n",
      "**Premium Tier:** $5,000+  \n",
      "\n",
      "Your quoted total ($2,930) places this setup firmly in the **mid-range tier.**\n",
      "\n",
      "---\n",
      "\n",
      "### Budget-Friendly Alternatives  \n",
      "- Look for second-hand or outlet stores like **Facebook Marketplace**, **Craigslist**, or **Habitat for Humanity ReStores**.  \n",
      "- Retailers like **IKEA** or **Walmart** have affordable consoles, coffee tables, and sofas.  \n",
      "- Online clearance sales on sites like **Wayfair** or **Amazon** help reduce costs on lighting and décor.  \n",
      "\n",
      "---\n",
      "\n",
      "### Premium Options  \n",
      "- Check out brands like **West Elm**, **Pottery Barn**, or **Crate & Barrel** for luxurious designs.  \n",
      "- Explore high-end finishes for armchairs and lighting at specialized stores like **Arhaus** or **RH (Restoration Hardware)**.  \n",
      "\n",
      "---\n",
      "\n",
      "### Seasonal Pricing Insights  \n",
      "- **Best Time to Buy Furniture:**  \n",
      "  - January and July (clearance sales).  \n",
      "  - Holiday weekends (like Labor Day and Memorial Day).  \n",
      "  - Black Friday/Cyber Monday (Mid-to-Premium Tier Deals).  \n",
      "\n",
      "- **Delivery and Assembly Costs:**  \n",
      "  - Budget: $50–$100 delivery fee (free for budget options).  \n",
      "  - Mid-Range/Premium: $150–$300 (varies by retailer).  \n",
      "  - Assembly: $50–$150 depending on complexity.  \n",
      "\n",
      "Make sure to calculate delivery and assembly costs when finalizing the purchase.\n",
      "\n",
      "---\n",
      "\n",
      "Let me know if you'd like further breakdowns or recommendations!```markdown\n",
      "# Furniture Purchase Quote\n",
      "\n",
      "**Date:** October 31, 2023  \n",
      "**Client Name:** [Client's Full Name]\n",
      "\n",
      "---\n",
      "\n",
      "## Introduction  \n",
      "The purpose of this document is to provide a comprehensive quote for the purchase of furniture for your living space. This quote includes an estimated breakdown of costs, a brief description of each proposed item, and recommendations to suit your design preferences and budget. The goal is to ensure you get high-quality furniture that meets your aesthetic and functional needs.\n",
      "\n",
      "---\n",
      "\n",
      "## Summary of Total Estimated Costs and Recommendations:  \n",
      "\n",
      "| Item                        | Quantity | Unit Price (USD) | Total Price (USD) | Recommendation                                                   |\n",
      "|-----------------------------|----------|------------------|-------------------|-------------------------------------------------------------------|\n",
      "| TV Console                 | 1        | $350             | $350              | Modern mid-century console offering storage and durability.      |\n",
      "| Flat Screen TV (Optional)  | 1        | $400             | $400              | Mid-range 4K TV suitable for small living rooms (optional).       |\n",
      "| Armchair (Accent Chair)    | 1        | $250             | $250              | Comfortable and stylish option for reading or relaxation.        |\n",
      "| Coffee Table               | 1        | $150             | $150              | Budget-friendly design with modern aesthetics.                   |\n",
      "| Fabric Sofa                | 1        | $700             | $700              | Mid-range upholstered sofa combining durability and comfort.      |\n",
      "| Throw Pillows              | 6        | $25              | $150              | A blend of decorative and functional pillows in a neutral tone.  |\n",
      "| End Tables                 | 2        | $100             | $200              | Practical and sturdy end tables at an affordable price.           |\n",
      "| Pendant Lights             | 2        | $75              | $150              | Modern-looking pendant lighting to enhance ambience.             |\n",
      "| Chandelier Lighting Fixture| 1        | $180             | $180              | Elegant chandelier to elevate the room’s lighting aesthetics.     |\n",
      "| Curtains                   | 1 Set    | $150             | $150              | Functional dual-layer curtains for privacy and light control.     |\n",
      "| Side Table and Vase        | 1 Set    | $120             | $120              | Chic metal-leg table paired with a complementary modern vase.    |\n",
      "| Wall Art Frame             | 1        | $50              | $50               | Minimal, modern wall décor to add character to the room.         |\n",
      "\n",
      "### Total Estimated Cost: **$2,930**\n",
      "\n",
      "---\n",
      "\n",
      "## Detailed Recommendations  \n",
      "\n",
      "### Budget-Friendly Options:\n",
      "- For cost savings, explore retailers like **IKEA**, **Amazon**, or **Walmart** for similar-quality items at a reduced price.\n",
      "- Consider second-hand or lightly-used items from platforms such as **Facebook Marketplace** or **Craigslist**.\n",
      "- Take advantage of seasonal sales on holiday weekends or clearance sections for discounts.\n",
      "\n",
      "### Premium Suggestions:\n",
      "- Upgrade to furniture from **West Elm**, **Crate & Barrel**, or **Pottery Barn** for higher-end designs and materials.\n",
      "- Opt for more luxurious lighting fixtures like those from **RH (Restoration Hardware)** or designer stores.\n",
      "\n",
      "---\n",
      "\n",
      "## Seasonal and Delivery Insights:\n",
      "- **Best Purchase Times:** January, July (clearance sales) or Black Friday/Cyber Monday.  \n",
      "- **Delivery Costs:** Estimated $50–$150 for mid-range furniture. Premium items may cost up to $300 for delivery.  \n",
      "- **Assembly Fees:** Optional assembly services, approx. $50–$150.\n",
      "\n",
      "---\n",
      "\n",
      "Should you need further refinement or alternative options for any of the items, please let us know! We’re happy to work with you to ensure your living space is both functional and beautiful.\n",
      "\n",
      "**Thank you for choosing us for your furniture needs!**\n",
      "```\r\n"
     ]
    }
   ],
   "source": [
    "await run.TrySendMessageAsync(new TurnToken(emitEvents: true));\n",
    "string id=\"\";\n",
    "string messageData=\"\";\n",
    "await foreach (WorkflowEvent evt in run.WatchStreamAsync().ConfigureAwait(false))\n",
    "{\n",
    "    if (evt is AgentRunUpdateEvent executorComplete)\n",
    "    {\n",
    "        if(id==\"\")\n",
    "        {\n",
    "            id=executorComplete.ExecutorId;\n",
    "        }\n",
    "        if(id==executorComplete.ExecutorId)\n",
    "        {\n",
    "            messageData+=executorComplete.Data.ToString();\n",
    "        }\n",
    "        else\n",
    "        {\n",
    "            id=executorComplete.ExecutorId;\n",
    "        }\n",
    "        // Console.WriteLine($\"{executorComplete.ExecutorId}: {executorComplete.Data}\");\n",
    "    }\n",
    "}\n",
    "\n",
    "Console.WriteLine(messageData);"
   ]
  },
  {
   "cell_type": "markdown",
   "metadata": {},
   "source": [
    "\n---\n\n**면책 조항**:  \n이 문서는 AI 번역 서비스 [Co-op Translator](https://github.com/Azure/co-op-translator)를 사용하여 번역되었습니다. 정확성을 위해 최선을 다하고 있으나, 자동 번역에는 오류나 부정확성이 포함될 수 있습니다. 원본 문서의 원어 버전을 권위 있는 자료로 간주해야 합니다. 중요한 정보의 경우, 전문적인 인간 번역을 권장합니다. 이 번역 사용으로 인해 발생하는 오해나 잘못된 해석에 대해 당사는 책임을 지지 않습니다.\n"
   ]
  }
 ],
 "metadata": {
  "kernelspec": {
   "display_name": ".NET (C#)",
   "language": "C#",
   "name": ".net-csharp"
  },
  "language_info": {
   "name": "polyglot-notebook"
  },
  "polyglot_notebook": {
   "kernelInfo": {
    "defaultKernelName": "csharp",
    "items": [
     {
      "aliases": [],
      "name": "csharp"
     }
    ]
   }
  },
  "coopTranslator": {
   "original_hash": "cf3c8ed83cd1954b8ad6432a41fdf78f",
   "translation_date": "2025-10-01T21:59:04+00:00",
   "source_file": "08-multi-agent/code_samples/workflows-agent-framework/dotNET/02.dotnet-agent-framework-workflow-ghmodel-sequential.ipynb",
   "language_code": "ko"
  }
 },
 "nbformat": 4,
 "nbformat_minor": 5
}