{
 "cells": [
  {
   "cell_type": "markdown",
   "id": "d6058fa4",
   "metadata": {},
   "source": [
    "# 🎨 GitHub 모델과 함께하는 에이전트 디자인 패턴 (.NET)\n",
    "\n",
    "## 📋 학습 목표\n",
    "\n",
    "이 노트북은 Microsoft Agent Framework를 사용하여 GitHub 모델을 통합한 지능형 에이전트를 구축하기 위한 엔터프라이즈급 디자인 패턴을 보여줍니다. 프로덕션 준비가 된 유지 가능하고 확장 가능한 에이전트를 만드는 전문적인 패턴과 아키텍처 접근 방식을 배울 수 있습니다.\n",
    "\n",
    "**엔터프라이즈 디자인 패턴:**\n",
    "- 🏭 **팩토리 패턴**: 의존성 주입을 통한 표준화된 에이전트 생성\n",
    "- 🔧 **빌더 패턴**: 유창한 에이전트 구성 및 설정\n",
    "- 🧵 **스레드 안전 패턴**: 동시 대화 관리\n",
    "- 📋 **리포지토리 패턴**: 도구 및 기능 관리의 체계화\n",
    "\n",
    "## 🎯 .NET 특화 아키텍처 이점\n",
    "\n",
    "### 엔터프라이즈 기능\n",
    "- **강력한 타입**: 컴파일 시 유효성 검사 및 IntelliSense 지원\n",
    "- **의존성 주입**: 내장 DI 컨테이너 통합\n",
    "- **구성 관리**: IConfiguration 및 Options 패턴\n",
    "- **Async/Await**: 일급 비동기 프로그래밍 지원\n",
    "\n",
    "### 프로덕션 준비 패턴\n",
    "- **로깅 통합**: ILogger 및 구조화된 로깅 지원\n",
    "- **헬스 체크**: 내장 모니터링 및 진단\n",
    "- **구성 유효성 검사**: 데이터 주석을 활용한 강력한 타입\n",
    "- **오류 처리**: 구조화된 예외 관리\n",
    "\n",
    "## 🔧 기술 아키텍처\n",
    "\n",
    "### 핵심 .NET 구성 요소\n",
    "- **Microsoft.Extensions.AI**: 통합된 AI 서비스 추상화\n",
    "- **Microsoft.Agents.AI**: 엔터프라이즈 에이전트 오케스트레이션 프레임워크\n",
    "- **GitHub 모델 통합**: 고성능 API 클라이언트 패턴\n",
    "- **구성 시스템**: appsettings.json 및 환경 통합\n",
    "\n",
    "### 디자인 패턴 구현\n",
    "```csharp\n",
    "IServiceCollection → Agent Builder → Configuration → Tool Registry → AI Agent\n",
    "```\n",
    "\n",
    "## 🏗️ 구현된 엔터프라이즈 패턴\n",
    "\n",
    "### 1. **생성 패턴**\n",
    "- **에이전트 팩토리**: 일관된 구성으로 중앙 집중화된 에이전트 생성\n",
    "- **빌더 패턴**: 복잡한 에이전트 구성을 위한 유창한 API\n",
    "- **싱글톤 패턴**: 공유 리소스 및 구성 관리\n",
    "- **의존성 주입**: 느슨한 결합 및 테스트 가능성\n",
    "\n",
    "### 2. **행위 패턴**\n",
    "- **전략 패턴**: 교체 가능한 도구 실행 전략\n",
    "- **커맨드 패턴**: 실행 취소/재실행이 가능한 에이전트 작업 캡슐화\n",
    "- **옵저버 패턴**: 이벤트 기반 에이전트 라이프사이클 관리\n",
    "- **템플릿 메서드**: 표준화된 에이전트 실행 워크플로\n",
    "\n",
    "### 3. **구조 패턴**\n",
    "- **어댑터 패턴**: GitHub 모델 API 통합 레이어\n",
    "- **데코레이터 패턴**: 에이전트 기능 강화\n",
    "- **퍼사드 패턴**: 간소화된 에이전트 상호작용 인터페이스\n",
    "- **프록시 패턴**: 성능을 위한 지연 로딩 및 캐싱\n",
    "\n",
    "## ⚙️ 사전 요구사항 및 설정\n",
    "\n",
    "**개발 환경:**\n",
    "- .NET 9.0 SDK 이상\n",
    "- Visual Studio 2022 또는 VS Code (C# 확장 포함)\n",
    "- GitHub 모델 API 접근 권한\n",
    "\n",
    "**NuGet 종속성:**\n",
    "```xml\n",
    "<PackageReference Include=\"Microsoft.Extensions.AI\" Version=\"9.9.0\" />\n",
    "<PackageReference Include=\"Microsoft.Extensions.AI.OpenAI\" Version=\"9.9.0-preview.1.25458.4\" />\n",
    "<PackageReference Include=\"DotNetEnv\" Version=\"3.1.1\" />\n",
    "```\n",
    "\n",
    "**구성 (.env 파일):**\n",
    "```env\n",
    "GITHUB_TOKEN=your_github_personal_access_token\n",
    "GITHUB_ENDPOINT=https://models.inference.ai.azure.com\n",
    "GITHUB_MODEL_ID=gpt-4o-mini\n",
    "```\n",
    "\n",
    "## 📚 .NET 디자인 원칙\n",
    "\n",
    "### SOLID 원칙\n",
    "- **단일 책임**: 각 구성 요소는 명확한 목적을 가짐\n",
    "- **개방/폐쇄**: 수정 없이 확장 가능\n",
    "- **리스코프 치환**: 인터페이스 기반 도구 구현\n",
    "- **인터페이스 분리**: 집중적이고 응집력 있는 인터페이스\n",
    "- **의존성 역전**: 구체적인 것보다 추상적인 것에 의존\n",
    "\n",
    "### 클린 아키텍처\n",
    "- **도메인 레이어**: 핵심 에이전트 및 도구 추상화\n",
    "- **애플리케이션 레이어**: 에이전트 오케스트레이션 및 워크플로\n",
    "- **인프라 레이어**: GitHub 모델 통합 및 외부 서비스\n",
    "- **프레젠테이션 레이어**: 사용자 상호작용 및 응답 포맷팅\n",
    "\n",
    "## 🔒 엔터프라이즈 고려사항\n",
    "\n",
    "### 보안\n",
    "- **자격 증명 관리**: IConfiguration을 활용한 안전한 API 키 처리\n",
    "- **입력 유효성 검사**: 강력한 타입 및 데이터 주석 유효성 검사\n",
    "- **출력 정제**: 안전한 응답 처리 및 필터링\n",
    "- **감사 로깅**: 포괄적인 작업 추적\n",
    "\n",
    "### 성능\n",
    "- **비동기 패턴**: 비차단 I/O 작업\n",
    "- **연결 풀링**: 효율적인 HTTP 클라이언트 관리\n",
    "- **캐싱**: 성능 향상을 위한 응답 캐싱\n",
    "- **리소스 관리**: 적절한 폐기 및 정리 패턴\n",
    "\n",
    "### 확장성\n",
    "- **스레드 안전**: 동시 에이전트 실행 지원\n",
    "- **리소스 풀링**: 효율적인 리소스 활용\n",
    "- **로드 관리**: 속도 제한 및 백프레셔 처리\n",
    "- **모니터링**: 성능 메트릭 및 헬스 체크\n",
    "\n",
    "## 🚀 프로덕션 배포\n",
    "\n",
    "- **구성 관리**: 환경별 설정\n",
    "- **로깅 전략**: 상관 ID를 활용한 구조화된 로깅\n",
    "- **오류 처리**: 적절한 복구를 포함한 글로벌 예외 처리\n",
    "- **모니터링**: 애플리케이션 인사이트 및 성능 카운터\n",
    "- **테스트**: 단위 테스트, 통합 테스트 및 부하 테스트 패턴\n",
    "\n",
    ".NET으로 엔터프라이즈급 지능형 에이전트를 구축할 준비가 되셨나요? 견고한 아키텍처를 설계해 봅시다! 🏢✨\n"
   ]
  },
  {
   "cell_type": "code",
   "execution_count": 1,
   "id": "2770ac5c",
   "metadata": {
    "language_info": {
     "name": "polyglot-notebook"
    },
    "polyglot_notebook": {
     "kernelName": "csharp"
    }
   },
   "outputs": [
    {
     "data": {
      "text/html": [
       "<div><div></div><div></div><div><strong>Installed Packages</strong><ul><li><span>Microsoft.Extensions.AI, 9.9.1</span></li></ul></div></div>"
      ]
     },
     "metadata": {},
     "output_type": "display_data"
    }
   ],
   "source": [
    "#r \"nuget: Microsoft.Extensions.AI, 9.9.1\""
   ]
  },
  {
   "cell_type": "code",
   "execution_count": null,
   "id": "984ff6cd",
   "metadata": {
    "language_info": {
     "name": "polyglot-notebook"
    },
    "polyglot_notebook": {
     "kernelName": "csharp"
    }
   },
   "outputs": [
    {
     "data": {
      "text/html": [
       "<div><div></div><div></div><div><strong>Installed Packages</strong><ul><li><span>Microsoft.Agents.AI.OpenAI, 1.0.0-preview.251001.2</span></li></ul></div></div>"
      ]
     },
     "metadata": {},
     "output_type": "display_data"
    }
   ],
   "source": [
    "#r \"nuget: Microsoft.Agents.AI.OpenAI, 1.0.0-preview.251001.3\""
   ]
  },
  {
   "cell_type": "code",
   "execution_count": null,
   "id": "0ab71360",
   "metadata": {
    "language_info": {
     "name": "polyglot-notebook"
    },
    "polyglot_notebook": {
     "kernelName": "csharp"
    }
   },
   "outputs": [
    {
     "data": {
      "text/html": [
       "<div><div></div><div></div><div><strong>Installed Packages</strong><ul><li><span>microsoft.agents.ai, 1.0.0-preview.251001.2</span></li></ul></div></div>"
      ]
     },
     "metadata": {},
     "output_type": "display_data"
    }
   ],
   "source": [
    "\n",
    "\n",
    "#r \"nuget: Microsoft.Agents.AI, 1.0.0-preview.251001.3\""
   ]
  },
  {
   "cell_type": "code",
   "execution_count": 4,
   "id": "4ab7b15d",
   "metadata": {
    "language_info": {
     "name": "polyglot-notebook"
    },
    "polyglot_notebook": {
     "kernelName": "csharp"
    }
   },
   "outputs": [],
   "source": [
    "// #r \"nuget: Microsoft.Extensions.AI.OpenAI, 9.9.0-preview.1.25458.4\""
   ]
  },
  {
   "cell_type": "code",
   "execution_count": 5,
   "id": "3fa8aa21",
   "metadata": {
    "language_info": {
     "name": "polyglot-notebook"
    },
    "polyglot_notebook": {
     "kernelName": "csharp"
    }
   },
   "outputs": [
    {
     "data": {
      "text/html": [
       "<div><div></div><div></div><div><strong>Installed Packages</strong><ul><li><span>DotNetEnv, 3.1.1</span></li></ul></div></div>"
      ]
     },
     "metadata": {},
     "output_type": "display_data"
    }
   ],
   "source": [
    "#r \"nuget: DotNetEnv, 3.1.1\""
   ]
  },
  {
   "cell_type": "code",
   "execution_count": 6,
   "id": "fc8ee8ea",
   "metadata": {
    "language_info": {
     "name": "polyglot-notebook"
    },
    "polyglot_notebook": {
     "kernelName": "csharp"
    }
   },
   "outputs": [],
   "source": [
    "using System;\n",
    "using System.ComponentModel;\n",
    "using System.ClientModel;\n",
    "\n",
    "using Microsoft.Extensions.AI;\n",
    "using Microsoft.Agents.AI;\n",
    "using OpenAI;"
   ]
  },
  {
   "cell_type": "code",
   "execution_count": 7,
   "id": "699b1c83",
   "metadata": {
    "language_info": {
     "name": "polyglot-notebook"
    },
    "polyglot_notebook": {
     "kernelName": "csharp"
    }
   },
   "outputs": [],
   "source": [
    " using DotNetEnv;"
   ]
  },
  {
   "cell_type": "code",
   "execution_count": 8,
   "id": "daa649a0",
   "metadata": {
    "language_info": {
     "name": "polyglot-notebook"
    },
    "polyglot_notebook": {
     "kernelName": "csharp"
    }
   },
   "outputs": [],
   "source": [
    "Env.Load(\"../../../.env\");"
   ]
  },
  {
   "cell_type": "code",
   "execution_count": 9,
   "id": "29661a90",
   "metadata": {
    "language_info": {
     "name": "polyglot-notebook"
    },
    "polyglot_notebook": {
     "kernelName": "csharp"
    }
   },
   "outputs": [],
   "source": [
    "[Description(\"Provides a random vacation destination.\")]\n",
    "static string GetRandomDestination()\n",
    "{\n",
    "    var destinations = new List<string>\n",
    "    {\n",
    "        \"Paris, France\",\n",
    "        \"Tokyo, Japan\",\n",
    "        \"New York City, USA\",\n",
    "        \"Sydney, Australia\",\n",
    "        \"Rome, Italy\",\n",
    "        \"Barcelona, Spain\",\n",
    "        \"Cape Town, South Africa\",\n",
    "        \"Rio de Janeiro, Brazil\",\n",
    "        \"Bangkok, Thailand\",\n",
    "        \"Vancouver, Canada\"\n",
    "    };\n",
    "\n",
    "    var random = new Random();\n",
    "    int index = random.Next(destinations.Count);\n",
    "    return destinations[index];\n",
    "}"
   ]
  },
  {
   "cell_type": "code",
   "execution_count": 10,
   "id": "d2ed1f8b",
   "metadata": {
    "language_info": {
     "name": "polyglot-notebook"
    },
    "polyglot_notebook": {
     "kernelName": "csharp"
    }
   },
   "outputs": [],
   "source": [
    "var github_endpoint = Environment.GetEnvironmentVariable(\"GITHUB_ENDPOINT\") ?? throw new InvalidOperationException(\"GITHUB_ENDPOINT is not set.\");\n",
    "var github_model_id = Environment.GetEnvironmentVariable(\"GITHUB_MODEL_ID\") ?? \"gpt-4o-mini\";\n",
    "var github_token = Environment.GetEnvironmentVariable(\"GITHUB_TOKEN\") ?? throw new InvalidOperationException(\"GITHUB_TOKEN is not set.\");"
   ]
  },
  {
   "cell_type": "code",
   "execution_count": 11,
   "id": "c36c73e1",
   "metadata": {
    "language_info": {
     "name": "polyglot-notebook"
    },
    "polyglot_notebook": {
     "kernelName": "csharp"
    }
   },
   "outputs": [],
   "source": [
    "var openAIOptions = new OpenAIClientOptions()\n",
    "{\n",
    "    Endpoint= new Uri(github_endpoint)\n",
    "};"
   ]
  },
  {
   "cell_type": "code",
   "execution_count": 12,
   "id": "6d94ff10",
   "metadata": {
    "language_info": {
     "name": "polyglot-notebook"
    },
    "polyglot_notebook": {
     "kernelName": "csharp"
    }
   },
   "outputs": [],
   "source": [
    "\n",
    "var openAIClient = new OpenAIClient(new ApiKeyCredential(github_token), openAIOptions);"
   ]
  },
  {
   "cell_type": "code",
   "execution_count": 13,
   "id": "fe32b57a",
   "metadata": {
    "language_info": {
     "name": "polyglot-notebook"
    },
    "polyglot_notebook": {
     "kernelName": "csharp"
    }
   },
   "outputs": [],
   "source": [
    "AIAgent agent = new OpenAIClient(new ApiKeyCredential(github_token), openAIOptions).GetChatClient(github_model_id).CreateAIAgent(\n",
    "    instructions:\"You are a helpful AI Agent that can help plan vacations for customers at random destinations\", tools: [AIFunctionFactory.Create((Func<string>)GetRandomDestination)]);"
   ]
  },
  {
   "cell_type": "code",
   "execution_count": 14,
   "metadata": {
    "language_info": {
     "name": "polyglot-notebook"
    },
    "polyglot_notebook": {
     "kernelName": "csharp"
    }
   },
   "outputs": [],
   "source": [
    "AgentThread thread = agent.GetNewThread();"
   ]
  },
  {
   "cell_type": "code",
   "execution_count": 15,
   "id": "5e455aff",
   "metadata": {
    "language_info": {
     "name": "polyglot-notebook"
    },
    "polyglot_notebook": {
     "kernelName": "csharp"
    }
   },
   "outputs": [
    {
     "name": "stdout",
     "output_type": "stream",
     "text": [
      "How about a day trip to Vancouver, Canada? Here's a suggested itinerary for your day:\n",
      "\n",
      "### Morning\n",
      "- **Breakfast at a Local Cafe**: Start your day with a delicious breakfast at a cozy café like **Jam Cafe** or **Cafe Medina**.\n",
      "- **Stanley Park**: After breakfast, head to Stanley Park. You can rent a bike and ride along the seawall, enjoying beautiful views of the city and the water.\n",
      "\n",
      "### Afternoon\n",
      "- **Lunch in Gastown**: Make your way to Gastown for lunch. Try a local favorite like **The Flying Pig** or **Noodle Box**.\n",
      "- **Explore Gastown**: After lunch, walk around Gastown to see the iconic Steam Clock and browse the unique shops and boutiques.\n",
      "\n",
      "### Late Afternoon\n",
      "- **Granville Island**: Visit Granville Island, where you can stroll through the public market, sample local foods, and enjoy artisan shops.\n",
      "- **False Creek**: Take a walk along False Creek and enjoy the waterfront views.\n",
      "\n",
      "### Evening\n",
      "- **Dinner at a Waterfront Restaurant**: End your day with dinner at a waterfront restaurant like **The Boathouse** or **Lift Bar Grill View** for great food and a view of the sunset.\n",
      "- **Optional: Sunset Cruise**: If you're up for it, consider taking a sunset cruise for a different perspective of the city.\n",
      "\n",
      "### Tips\n",
      "- Make sure to check the weather beforehand!\n",
      "- Consider public transport or ride-sharing to navigate the city easily.\n",
      "\n",
      "Enjoy your day trip to Vancouver!\r\n"
     ]
    }
   ],
   "source": [
    "Console.WriteLine(await agent.RunAsync(\"Plan me a day trip\",thread));"
   ]
  },
  {
   "cell_type": "code",
   "execution_count": 16,
   "id": "592ae1bb",
   "metadata": {
    "language_info": {
     "name": "polyglot-notebook"
    },
    "polyglot_notebook": {
     "kernelName": "csharp"
    }
   },
   "outputs": [
    {
     "name": "stdout",
     "output_type": "stream",
     "text": [
      "How about a vacation to New York City, USA? Here's a suggested itinerary for your trip:\n",
      "\n",
      "### Day 1: Arrival in New York City\n",
      "- **Check-In**: Arrive and check in to your hotel.\n",
      "- **Central Park**: Take a leisurely stroll through Central Park. Consider renting a bike or taking a carriage ride.\n",
      "- **Evening**: Enjoy dinner at a classic NYC restaurant, such as **Katz's Delicatessen** or **Carbone**.\n",
      "\n",
      "### Day 2: Iconic Landmarks\n",
      "- **Morning**: Breakfast at a local diner.\n",
      "- **Statue of Liberty & Ellis Island**: Take a ferry to visit these iconic landmarks.\n",
      "- **Afternoon**: Explore Wall Street and visit the 9/11 Memorial & Museum.\n",
      "- **Evening**: Dinner in the Financial District followed by a walk across the Brooklyn Bridge at sunset.\n",
      "\n",
      "### Day 3: Culture and Arts\n",
      "- **Morning**: Visit The Metropolitan Museum of Art (The Met) and spend a few hours exploring its vast collection.\n",
      "- **Afternoon**: Head to Times Square for lunch and the buzz of the city.\n",
      "- **Broadway Show**: Catch a Broadway show in the evening. Be sure to book tickets in advance!\n",
      "\n",
      "### Day 4: Explore Neighborhoods\n",
      "- **Morning**: Head to SoHo for brunch and shopping in its chic boutiques.\n",
      "- **Afternoon**: Explore Greenwich Village, known for its bohemian atmosphere and history.\n",
      "- **Evening**: Enjoy dinner in the West Village, perhaps at **Buvette** or **Minetta Tavern**.\n",
      "\n",
      "### Day 5: Departure\n",
      "- **Last-minute Shopping**: Spend your last morning shopping at Fifth Avenue or head to Chelsea Market for food and souvenirs.\n",
      "- **Check-Out**: Depart for your journey home.\n",
      "\n",
      "### Tips\n",
      "- Utilize the subway for efficient travel around the city.\n",
      "- Make reservations for popular restaurants and attractions ahead of time!\n",
      "\n",
      "Enjoy your trip to New York City!\r\n"
     ]
    }
   ],
   "source": [
    "Console.WriteLine(await agent.RunAsync(\"I don't like that destination. Plan me another vacation.\",thread));"
   ]
  },
  {
   "cell_type": "markdown",
   "metadata": {},
   "source": [
    "\n---\n\n**면책 조항**:  \n이 문서는 AI 번역 서비스 [Co-op Translator](https://github.com/Azure/co-op-translator)를 사용하여 번역되었습니다. 정확성을 위해 최선을 다하고 있으나, 자동 번역에는 오류나 부정확성이 포함될 수 있습니다. 원본 문서의 원어 버전을 권위 있는 자료로 간주해야 합니다. 중요한 정보의 경우, 전문적인 인간 번역을 권장합니다. 이 번역 사용으로 인해 발생하는 오해나 잘못된 해석에 대해 당사는 책임을 지지 않습니다.\n"
   ]
  }
 ],
 "metadata": {
  "kernelspec": {
   "display_name": ".NET (C#)",
   "language": "C#",
   "name": ".net-csharp"
  },
  "language_info": {
   "name": "polyglot-notebook"
  },
  "polyglot_notebook": {
   "kernelInfo": {
    "defaultKernelName": "csharp",
    "items": [
     {
      "aliases": [],
      "name": "csharp"
     }
    ]
   }
  },
  "coopTranslator": {
   "original_hash": "070c1d8985b3dc6e6d977f3e891037f1",
   "translation_date": "2025-10-01T22:14:58+00:00",
   "source_file": "03-agentic-design-patterns/code_samples/03-dotnet-agent-framework.ipynb",
   "language_code": "ko"
  }
 },
 "nbformat": 4,
 "nbformat_minor": 5
}