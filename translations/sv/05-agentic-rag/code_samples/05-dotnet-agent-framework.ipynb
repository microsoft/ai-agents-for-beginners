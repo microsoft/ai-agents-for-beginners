{
 "cells": [
  {
   "cell_type": "markdown",
   "id": "44b5899e",
   "metadata": {},
   "source": [
    "# 🔍 Enterprise RAG med Azure AI Foundry (.NET)\n",
    "\n",
    "## 📋 Inlärningsmål\n",
    "\n",
    "Den här notebooken visar hur man bygger företagsklassade Retrieval-Augmented Generation (RAG)-system med Microsoft Agent Framework i .NET och Azure AI Foundry. Du kommer att lära dig att skapa produktionsklara agenter som kan söka igenom dokument och ge korrekta, kontextmedvetna svar med företagsmässig säkerhet och skalbarhet.\n",
    "\n",
    "**Funktioner för Enterprise RAG som du kommer att bygga:**\n",
    "- 📚 **Dokumentintelligens**: Avancerad dokumentbearbetning med Azure AI-tjänster\n",
    "- 🔍 **Semantisk sökning**: Högpresterande vektorsökning med företagsfunktioner\n",
    "- 🛡️ **Säkerhetsintegration**: Rollbaserad åtkomst och dataskyddsmönster\n",
    "- 🏢 **Skalbar arkitektur**: Produktionsklara RAG-system med övervakning\n",
    "\n",
    "## 🎯 Arkitektur för Enterprise RAG\n",
    "\n",
    "### Kärnkomponenter för företag\n",
    "- **Azure AI Foundry**: Hanterad AI-plattform för företag med säkerhet och efterlevnad\n",
    "- **Persistenta agenter**: Tillståndsbaserade agenter med konversationshistorik och kontexthantering\n",
    "- **Hantering av vektorlagring**: Företagsklassad dokumentindexering och hämtning\n",
    "- **Identitetsintegration**: Azure AD-autentisering och rollbaserad åtkomstkontroll\n",
    "\n",
    "### Fördelar med .NET för företag\n",
    "- **Typkontroll**: Validering vid kompilering för RAG-operationer och datastrukturer\n",
    "- **Asynkron prestanda**: Icke-blockerande dokumentbearbetning och sökoperationer\n",
    "- **Minneshantering**: Effektiv resursanvändning för stora dokumentkollektioner\n",
    "- **Integrationsmönster**: Inbyggd integration med Azure-tjänster och beroendeinjektion\n",
    "\n",
    "## 🏗️ Teknisk arkitektur\n",
    "\n",
    "### Enterprise RAG-pipeline\n",
    "```csharp\n",
    "Document Upload → Security Validation → Vector Processing → Index Creation\n",
    "                      ↓                    ↓                  ↓\n",
    "User Query → Authentication → Semantic Search → Context Ranking → AI Response\n",
    "```\n",
    "\n",
    "### Kärnkomponenter i .NET\n",
    "- **Azure.AI.Agents.Persistent**: Hantering av företagsagenter med tillståndsbevarande\n",
    "- **Azure.Identity**: Integrerad autentisering för säker åtkomst till Azure-tjänster\n",
    "- **Microsoft.Agents.AI.AzureAI**: Azure-optimerad implementering av agentramverket\n",
    "- **System.Linq.Async**: Högpresterande asynkrona LINQ-operationer\n",
    "\n",
    "## 🔧 Funktioner och fördelar för företag\n",
    "\n",
    "### Säkerhet och efterlevnad\n",
    "- **Azure AD-integration**: Hantering av företagsidentitet och autentisering\n",
    "- **Rollbaserad åtkomst**: Finkorniga behörigheter för dokumentåtkomst och operationer\n",
    "- **Dataskydd**: Kryptering vid lagring och överföring för känsliga dokument\n",
    "- **Revisionsloggning**: Omfattande aktivitetsövervakning för efterlevnadskrav\n",
    "\n",
    "### Prestanda och skalbarhet\n",
    "- **Anslutningspoolning**: Effektiv hantering av anslutningar till Azure-tjänster\n",
    "- **Asynkron bearbetning**: Icke-blockerande operationer för scenarier med hög genomströmning\n",
    "- **Cache-strategier**: Intelligent caching för ofta åtkomna dokument\n",
    "- **Lastbalansering**: Distribuerad bearbetning för storskaliga distributioner\n",
    "\n",
    "### Hantering och övervakning\n",
    "- **Hälsokontroller**: Inbyggd övervakning av RAG-systemkomponenter\n",
    "- **Prestandamått**: Detaljerad analys av sökkvalitet och svarstider\n",
    "- **Felkorrigering**: Omfattande undantagshantering med återförsökspolicyer\n",
    "- **Konfigurationshantering**: Miljöspecifika inställningar med validering\n",
    "\n",
    "## ⚙️ Förutsättningar och installation\n",
    "\n",
    "**Utvecklingsmiljö:**\n",
    "- .NET 9.0 SDK eller högre\n",
    "- Visual Studio 2022 eller VS Code med C#-tillägg\n",
    "- Azure-prenumeration med åtkomst till AI Foundry\n",
    "\n",
    "**Nödvändiga NuGet-paket:**\n",
    "```xml\n",
    "<PackageReference Include=\"Microsoft.Extensions.AI\" Version=\"9.9.0\" />\n",
    "<PackageReference Include=\"Azure.AI.Agents.Persistent\" Version=\"1.2.0-beta.5\" />\n",
    "<PackageReference Include=\"Azure.Identity\" Version=\"1.15.0\" />\n",
    "<PackageReference Include=\"System.Linq.Async\" Version=\"6.0.3\" />\n",
    "<PackageReference Include=\"DotNetEnv\" Version=\"3.1.1\" />\n",
    "```\n",
    "\n",
    "**Azure-autentiseringsinställningar:**\n",
    "```bash\n",
    "# Install Azure CLI and authenticate\n",
    "az login\n",
    "az account set --subscription \"your-subscription-id\"\n",
    "```\n",
    "\n",
    "**Miljökonfiguration (.env-fil):**\n",
    "```env\n",
    "# Azure AI Foundry configuration (automatically handled via Azure CLI)\n",
    "# Ensure you're authenticated to the correct Azure subscription\n",
    "```\n",
    "\n",
    "## 📊 Mönster för Enterprise RAG\n",
    "\n",
    "### Mönster för dokumenthantering\n",
    "- **Massuppladdning**: Effektiv bearbetning av stora dokumentkollektioner\n",
    "- **Inkrementella uppdateringar**: Realtidsaddition och modifiering av dokument\n",
    "- **Versionskontroll**: Versionshantering och spårning av ändringar i dokument\n",
    "- **Metadatahantering**: Rika dokumentattribut och taxonomi\n",
    "\n",
    "### Mönster för sökning och hämtning\n",
    "- **Hybrid sökning**: Kombination av semantisk och nyckelordssökning för optimala resultat\n",
    "- **Facetterad sökning**: Multidimensionell filtrering och kategorisering\n",
    "- **Relevansjustering**: Anpassade poängalgoritmer för domänspecifika behov\n",
    "- **Resultatrangering**: Avancerad rangordning med affärslogikintegration\n",
    "\n",
    "### Säkerhetsmönster\n",
    "- **Dokumentnivåsäkerhet**: Finkornig åtkomstkontroll per dokument\n",
    "- **Dataklassificering**: Automatisk känslighetsmärkning och skydd\n",
    "- **Revisionsspår**: Omfattande loggning av alla RAG-operationer\n",
    "- **Integritetsskydd**: Identifiering och redigering av PII (personligt identifierbar information)\n",
    "\n",
    "## 🔒 Säkerhetsfunktioner för företag\n",
    "\n",
    "### Autentisering och auktorisering\n",
    "```csharp\n",
    "// Azure AD integrated authentication\n",
    "var credential = new AzureCliCredential();\n",
    "var agentsClient = new PersistentAgentsClient(endpoint, credential);\n",
    "\n",
    "// Role-based access validation\n",
    "if (!await ValidateUserPermissions(user, documentId))\n",
    "{\n",
    "    throw new UnauthorizedAccessException(\"Insufficient permissions\");\n",
    "}\n",
    "```\n",
    "\n",
    "### Dataskydd\n",
    "- **Kryptering**: Kryptering från början till slut för dokument och sökindex\n",
    "- **Åtkomstkontroller**: Integration med Azure AD för användar- och gruppbehörigheter\n",
    "- **Dataresidens**: Geografiska dataplatskontroller för efterlevnad\n",
    "- **Backup och återställning**: Automatiserade backup- och katastrofåterställningsfunktioner\n",
    "\n",
    "## 📈 Prestandaoptimering\n",
    "\n",
    "### Mönster för asynkron bearbetning\n",
    "```csharp\n",
    "// Efficient async document processing\n",
    "await foreach (var document in documentStream.AsAsyncEnumerable())\n",
    "{\n",
    "    await ProcessDocumentAsync(document, cancellationToken);\n",
    "}\n",
    "```\n",
    "\n",
    "### Minneshantering\n",
    "- **Strömningsbearbetning**: Hantera stora dokument utan minnesproblem\n",
    "- **Resurspoolning**: Effektiv återanvändning av dyra resurser\n",
    "- **Skräpsamling**: Optimerade mönster för minnesallokering\n",
    "- **Anslutningshantering**: Korrekt livscykelhantering för anslutningar till Azure-tjänster\n",
    "\n",
    "### Cache-strategier\n",
    "- **Frågecache**: Cache för ofta utförda sökningar\n",
    "- **Dokumentcache**: Cache i minnet för \"heta\" dokument\n",
    "- **Indexcache**: Optimerad cache för vektorindex\n",
    "- **Resultatcache**: Intelligent cache för genererade svar\n",
    "\n",
    "## 📊 Användningsfall för företag\n",
    "\n",
    "### Kunskapshantering\n",
    "- **Företagswiki**: Intelligent sökning i företags kunskapsbaser\n",
    "- **Policyer och procedurer**: Automatiserad efterlevnad och vägledning för procedurer\n",
    "- **Utbildningsmaterial**: Intelligent hjälp för lärande och utveckling\n",
    "- **Forskningsdatabaser**: System för analys av akademiska och forskningsartiklar\n",
    "\n",
    "### Kundsupport\n",
    "- **Supportkunskapsbas**: Automatiserade svar för kundservice\n",
    "- **Produktdokumentation**: Intelligent hämtning av produktinformation\n",
    "- **Felsökningsguider**: Kontextbaserad problemlösningshjälp\n",
    "- **FAQ-system**: Dynamisk FAQ-generering från dokumentkollektioner\n",
    "\n",
    "### Regelverksefterlevnad\n",
    "- **Analys av juridiska dokument**: Intelligens för kontrakt och juridiska dokument\n",
    "- **Efterlevnadsövervakning**: Automatiserad kontroll av regelverksefterlevnad\n",
    "- **Riskbedömning**: Riskanalys och rapportering baserad på dokument\n",
    "- **Revisionsstöd**: Intelligent dokumentupptäckt för revisioner\n",
    "\n",
    "## 🚀 Produktionsdistribution\n",
    "\n",
    "### Övervakning och insyn\n",
    "- **Application Insights**: Detaljerad telemetri och prestandaövervakning\n",
    "- **Anpassade mått**: Spårning och varningar för affärsspecifika KPI:er\n",
    "- **Distribuerad spårning**: Spårning av begäran från början till slut över tjänster\n",
    "- **Hälsodashboards**: Visualisering i realtid av systemhälsa och prestanda\n",
    "\n",
    "### Skalbarhet och tillförlitlighet\n",
    "- **Autoskalning**: Automatisk skalning baserat på belastning och prestandamått\n",
    "- **Hög tillgänglighet**: Multiregional distribution med failover-funktioner\n",
    "- **Lasttestning**: Prestandavalidering under företagsbelastning\n",
    "- **Katastrofåterställning**: Automatiserade backup- och återställningsprocedurer\n",
    "\n",
    "Redo att bygga företagsklassade RAG-system som kan hantera känsliga dokument i stor skala? Låt oss designa intelligenta kunskapssystem för företag! 🏢📖✨\n"
   ]
  },
  {
   "cell_type": "code",
   "execution_count": 1,
   "metadata": {
    "language_info": {
     "name": "polyglot-notebook"
    },
    "polyglot_notebook": {
     "kernelName": "csharp"
    }
   },
   "outputs": [
    {
     "data": {
      "text/html": [
       "<div><div></div><div></div><div><strong>Installed Packages</strong><ul><li><span>Microsoft.Extensions.AI, 9.9.1</span></li></ul></div></div>"
      ]
     },
     "metadata": {},
     "output_type": "display_data"
    }
   ],
   "source": [
    "#r \"nuget: Microsoft.Extensions.AI, 9.9.1\""
   ]
  },
  {
   "cell_type": "code",
   "execution_count": 2,
   "id": "4ec1f0d1",
   "metadata": {
    "language_info": {
     "name": "polyglot-notebook"
    },
    "polyglot_notebook": {
     "kernelName": "csharp"
    }
   },
   "outputs": [
    {
     "data": {
      "text/html": [
       "<div><div></div><div></div><div><strong>Installed Packages</strong><ul><li><span>Azure.AI.Agents.Persistent, 1.2.0-beta.5</span></li><li><span>Azure.Identity, 1.15.0</span></li><li><span>System.Linq.Async, 6.0.3</span></li></ul></div></div>"
      ]
     },
     "metadata": {},
     "output_type": "display_data"
    }
   ],
   "source": [
    "#r \"nuget: Azure.AI.Agents.Persistent, 1.2.0-beta.5\"\n",
    "#r \"nuget: Azure.Identity, 1.15.0\"\n",
    "#r \"nuget: System.Linq.Async, 6.0.3\""
   ]
  },
  {
   "cell_type": "code",
   "execution_count": 3,
   "id": "2363ae07",
   "metadata": {
    "language_info": {
     "name": "polyglot-notebook"
    },
    "polyglot_notebook": {
     "kernelName": "csharp"
    }
   },
   "outputs": [],
   "source": []
  },
  {
   "cell_type": "code",
   "execution_count": null,
   "id": "d10cec9d",
   "metadata": {
    "language_info": {
     "name": "polyglot-notebook"
    },
    "polyglot_notebook": {
     "kernelName": "csharp"
    }
   },
   "outputs": [
    {
     "data": {
      "text/html": [
       "<div><div></div><div></div><div><strong>Installed Packages</strong><ul><li><span>Microsoft.Agents.AI.AzureAI, 1.0.0-preview.251001.2</span></li></ul></div></div>"
      ]
     },
     "metadata": {},
     "output_type": "display_data"
    }
   ],
   "source": [
    "#r \"nuget: Microsoft.Agents.AI.AzureAI, 1.0.0-preview.251001.3\""
   ]
  },
  {
   "cell_type": "code",
   "execution_count": null,
   "id": "78199d1c",
   "metadata": {
    "language_info": {
     "name": "polyglot-notebook"
    },
    "polyglot_notebook": {
     "kernelName": "csharp"
    }
   },
   "outputs": [
    {
     "data": {
      "text/html": [
       "<div><div></div><div></div><div><strong>Installed Packages</strong><ul><li><span>microsoft.agents.ai, 1.0.0-preview.251001.2</span></li></ul></div></div>"
      ]
     },
     "metadata": {},
     "output_type": "display_data"
    }
   ],
   "source": [
    "#r \"nuget: Microsoft.Agents.AI, 1.0.0-preview.251001.3\""
   ]
  },
  {
   "cell_type": "code",
   "execution_count": 6,
   "id": "7de4684a",
   "metadata": {
    "language_info": {
     "name": "polyglot-notebook"
    },
    "polyglot_notebook": {
     "kernelName": "csharp"
    }
   },
   "outputs": [
    {
     "data": {
      "text/html": [
       "<div><div></div><div></div><div><strong>Installed Packages</strong><ul><li><span>DotNetEnv, 3.1.1</span></li></ul></div></div>"
      ]
     },
     "metadata": {},
     "output_type": "display_data"
    }
   ],
   "source": [
    "#r \"nuget: DotNetEnv, 3.1.1\""
   ]
  },
  {
   "cell_type": "code",
   "execution_count": 7,
   "id": "251efd31",
   "metadata": {
    "language_info": {
     "name": "polyglot-notebook"
    },
    "polyglot_notebook": {
     "kernelName": "csharp"
    }
   },
   "outputs": [],
   "source": [
    "using System;\n",
    "using System.Linq;\n",
    "using Azure.AI.Agents.Persistent;\n",
    "using Azure.Identity;\n",
    "using Microsoft.Agents.AI;"
   ]
  },
  {
   "cell_type": "code",
   "execution_count": 8,
   "id": "a2e342f1",
   "metadata": {
    "language_info": {
     "name": "polyglot-notebook"
    },
    "polyglot_notebook": {
     "kernelName": "csharp"
    }
   },
   "outputs": [],
   "source": [
    " using DotNetEnv;"
   ]
  },
  {
   "cell_type": "code",
   "execution_count": 9,
   "id": "a7a01653",
   "metadata": {
    "language_info": {
     "name": "polyglot-notebook"
    },
    "polyglot_notebook": {
     "kernelName": "csharp"
    }
   },
   "outputs": [],
   "source": [
    "Env.Load(\"../../../.env\");"
   ]
  },
  {
   "cell_type": "code",
   "execution_count": 10,
   "id": "a42735d5",
   "metadata": {
    "language_info": {
     "name": "polyglot-notebook"
    },
    "polyglot_notebook": {
     "kernelName": "csharp"
    }
   },
   "outputs": [],
   "source": [
    "var azure_foundry_endpoint = Environment.GetEnvironmentVariable(\"AZURE_AI_PROJECT_ENDPOINT\") ?? throw new InvalidOperationException(\"AZURE_AI_PROJECT_ENDPOINT is not set.\");\n",
    "var azure_foundry_model_id = Environment.GetEnvironmentVariable(\"AZURE_AI_MODEL_DEPLOYMENT_NAME\") ?? \"gpt-4.1-mini\";"
   ]
  },
  {
   "cell_type": "code",
   "execution_count": 11,
   "id": "e29bdb58",
   "metadata": {
    "language_info": {
     "name": "polyglot-notebook"
    },
    "polyglot_notebook": {
     "kernelName": "csharp"
    }
   },
   "outputs": [],
   "source": [
    "string pdfPath = \"./document.md\";"
   ]
  },
  {
   "cell_type": "code",
   "execution_count": 12,
   "id": "7351e12d",
   "metadata": {
    "language_info": {
     "name": "polyglot-notebook"
    },
    "polyglot_notebook": {
     "kernelName": "csharp"
    }
   },
   "outputs": [],
   "source": [
    "using System.IO;\n",
    "\n",
    "async Task<Stream> OpenImageStreamAsync(string path)\n",
    "{\n",
    "\treturn await Task.Run(() => File.OpenRead(path));\n",
    "}\n",
    "\n",
    "var pdfStream = await OpenImageStreamAsync(pdfPath);"
   ]
  },
  {
   "cell_type": "code",
   "execution_count": 13,
   "id": "0b6bf484",
   "metadata": {
    "language_info": {
     "name": "polyglot-notebook"
    },
    "polyglot_notebook": {
     "kernelName": "csharp"
    }
   },
   "outputs": [],
   "source": [
    "var persistentAgentsClient = new PersistentAgentsClient(azure_foundry_endpoint, new AzureCliCredential());"
   ]
  },
  {
   "cell_type": "code",
   "execution_count": 14,
   "id": "81e0dddc",
   "metadata": {
    "language_info": {
     "name": "polyglot-notebook"
    },
    "polyglot_notebook": {
     "kernelName": "csharp"
    }
   },
   "outputs": [],
   "source": [
    "PersistentAgentFileInfo fileInfo = await persistentAgentsClient.Files.UploadFileAsync(pdfStream, PersistentAgentFilePurpose.Agents, \"demo.md\");"
   ]
  },
  {
   "cell_type": "code",
   "execution_count": 15,
   "id": "f0c75d80",
   "metadata": {
    "language_info": {
     "name": "polyglot-notebook"
    },
    "polyglot_notebook": {
     "kernelName": "csharp"
    }
   },
   "outputs": [],
   "source": [
    "PersistentAgentsVectorStore fileStore =\n",
    "            await persistentAgentsClient.VectorStores.CreateVectorStoreAsync(\n",
    "                [fileInfo.Id],\n",
    "                metadata: new Dictionary<string, string>() { { \"agentkey\", bool.TrueString } });"
   ]
  },
  {
   "cell_type": "code",
   "execution_count": 16,
   "id": "c77986c5",
   "metadata": {
    "language_info": {
     "name": "polyglot-notebook"
    },
    "polyglot_notebook": {
     "kernelName": "csharp"
    }
   },
   "outputs": [],
   "source": [
    "PersistentAgent agentModel = await persistentAgentsClient.Administration.CreateAgentAsync(\n",
    "            azure_foundry_model_id,\n",
    "            name: \"DotNetRAGAgent\",\n",
    "            tools: [new FileSearchToolDefinition()],\n",
    "            instructions: \"\"\"\n",
    "                You are an AI assistant designed to answer user questions using only the information retrieved from the provided document(s).\n",
    "\n",
    "                - If a user's question cannot be answered using the retrieved context, **you must clearly respond**: \n",
    "                \"I'm sorry, but the uploaded document does not contain the necessary information to answer that question.\"\n",
    "                - Do not answer from general knowledge or reasoning. Do not make assumptions or generate hypothetical explanations.\n",
    "                - Do not provide definitions, tutorials, or commentary that is not explicitly grounded in the content of the uploaded file(s).\n",
    "                - If a user asks a question like \"What is a Neural Network?\", and this is not discussed in the uploaded document, respond as instructed above.\n",
    "                - For questions that do have relevant content in the document (e.g., Contoso's travel insurance coverage), respond accurately, and cite the document explicitly.\n",
    "\n",
    "                You must behave as if you have no external knowledge beyond what is retrieved from the uploaded document.\n",
    "                \"\"\",\n",
    "            toolResources: new()\n",
    "            {\n",
    "                FileSearch = new()\n",
    "                {\n",
    "                    VectorStoreIds = { fileStore.Id },\n",
    "                }\n",
    "            },\n",
    "            metadata: new Dictionary<string, string>() { { \"agentkey\", bool.TrueString } });"
   ]
  },
  {
   "cell_type": "code",
   "execution_count": 17,
   "id": "282326cf",
   "metadata": {
    "language_info": {
     "name": "polyglot-notebook"
    },
    "polyglot_notebook": {
     "kernelName": "csharp"
    }
   },
   "outputs": [],
   "source": [
    "AIAgent agent = await persistentAgentsClient.GetAIAgentAsync(agentModel.Id);"
   ]
  },
  {
   "cell_type": "code",
   "execution_count": 18,
   "id": "2067d313",
   "metadata": {
    "language_info": {
     "name": "polyglot-notebook"
    },
    "polyglot_notebook": {
     "kernelName": "csharp"
    }
   },
   "outputs": [],
   "source": [
    "AgentThread thread = agent.GetNewThread();"
   ]
  },
  {
   "cell_type": "code",
   "execution_count": 19,
   "id": "454c4230",
   "metadata": {
    "language_info": {
     "name": "polyglot-notebook"
    },
    "polyglot_notebook": {
     "kernelName": "csharp"
    }
   },
   "outputs": [
    {
     "name": "stdout",
     "output_type": "stream",
     "text": [
      "Contoso's travel insurance coverage includes protection for medical emergencies, trip cancellations, and lost baggage. This ensures that travelers are supported in case of health-related issues during their trip, unforeseen cancellations, and the loss of their belongings while traveling【4:0†demo.md】.\r\n"
     ]
    }
   ],
   "source": [
    "Console.WriteLine(await agent.RunAsync(\"Can you explain Contoso's travel insurance coverage?\", thread));"
   ]
  },
  {
   "cell_type": "markdown",
   "metadata": {},
   "source": [
    "\n---\n\n**Ansvarsfriskrivning**:  \nDetta dokument har översatts med hjälp av AI-översättningstjänsten [Co-op Translator](https://github.com/Azure/co-op-translator). Även om vi strävar efter noggrannhet, bör det noteras att automatiserade översättningar kan innehålla fel eller brister. Det ursprungliga dokumentet på dess originalspråk bör betraktas som den auktoritativa källan. För kritisk information rekommenderas professionell mänsklig översättning. Vi ansvarar inte för eventuella missförstånd eller feltolkningar som kan uppstå vid användning av denna översättning.\n"
   ]
  }
 ],
 "metadata": {
  "kernelspec": {
   "display_name": ".NET (C#)",
   "language": "C#",
   "name": ".net-csharp"
  },
  "language_info": {
   "name": "polyglot-notebook"
  },
  "polyglot_notebook": {
   "kernelInfo": {
    "defaultKernelName": "csharp",
    "items": [
     {
      "aliases": [],
      "name": "csharp"
     }
    ]
   }
  },
  "coopTranslator": {
   "original_hash": "e4584fa31638009dc6fb665275de8fc2",
   "translation_date": "2025-10-02T15:47:18+00:00",
   "source_file": "05-agentic-rag/code_samples/05-dotnet-agent-framework.ipynb",
   "language_code": "sv"
  }
 },
 "nbformat": 4,
 "nbformat_minor": 5
}