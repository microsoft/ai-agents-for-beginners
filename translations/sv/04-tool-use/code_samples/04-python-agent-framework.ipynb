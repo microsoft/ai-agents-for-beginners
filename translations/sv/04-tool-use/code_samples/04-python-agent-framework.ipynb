{
 "cells": [
  {
   "cell_type": "markdown",
   "id": "8744544f",
   "metadata": {},
   "source": [
    "# 🛠️ Avancerad Verktygsanvändning med GitHub-modeller (Python)\n",
    "\n",
    "## 📋 Inlärningsmål\n",
    "\n",
    "Den här notebooken demonstrerar avancerade mönster för verktygsintegration med Microsoft Agent Framework och GitHub-modeller. Du kommer att lära dig hur man skapar, hanterar och orkestrerar flera verktyg för att bygga sofistikerade agentfunktioner.\n",
    "\n",
    "**Vad du kommer att bemästra:**\n",
    "- 🔧 **Multi-verktygsarkitektur**: Bygga agenter med flera specialiserade verktyg\n",
    "- 🎯 **Logik för verktygsval**: Hur agenter väljer rätt verktyg för varje uppgift\n",
    "- 📊 **Verktyg för databehandling**: Skapa verktyg som hanterar olika datatyper\n",
    "- 🔗 **Verktygskomposition**: Kombinera verktyg för komplexa arbetsflöden\n",
    "\n",
    "## 🎯 Nyckelmönster för verktyg\n",
    "\n",
    "### Principer för verktygsdesign\n",
    "- **Enkel ansvarsfördelning**: Varje verktyg har ett tydligt och fokuserat syfte\n",
    "- **Typ-säkerhet**: Starka typer för pålitlig verktygsanvändning\n",
    "- **Felfunktion**: Smidiga felhanterings- och återhämtningsmönster\n",
    "- **Komposibilitet**: Verktyg som fungerar bra tillsammans\n",
    "\n",
    "### Avancerade verktygsfunktioner\n",
    "- **Kontextmedvetenhet**: Verktyg som förstår samtalskontext\n",
    "- **Datavalidering**: Sanering av indata och validering av utdata\n",
    "- **Prestandaoptimering**: Effektiva mönster för verktygsanvändning\n",
    "- **Utbyggbarhet**: Enkel tilläggning av nya verktygsfunktioner\n",
    "\n",
    "## 🔧 Teknisk arkitektur\n",
    "\n",
    "### Kärnkomponenter\n",
    "- **Microsoft Agent Framework**: Python-implementation med stöd för avancerade verktyg\n",
    "- **GitHub-modeller integration**: Högpresterande språkmodellsåtkomst\n",
    "- **Verktygsregistersystem**: Organiserad hantering av agentfunktioner\n",
    "- **Mönster för felåterhämtning**: Robust hantering av verktygsfel\n",
    "\n",
    "### Flöde för verktygsintegration\n",
    "```python\n",
    "User Request → Agent Analysis → Tool Selection → Tool Execution → Response Synthesis\n",
    "```\n",
    "\n",
    "## 🛠️ Demonstrerade verktygskategorier\n",
    "\n",
    "### 1. **Verktyg för datagenerering**\n",
    "- Slumpmässig destinationsgenerator\n",
    "- Väderinformationsleverantör  \n",
    "- Resekostnadskalkylator\n",
    "- Aktivitetsrekommendationsmotor\n",
    "\n",
    "### 2. **Bearbetningsverktyg**\n",
    "- Textformatering och validering\n",
    "- Verktyg för datatransformation\n",
    "- Funktioner för innehållsanalys\n",
    "- Verktyg för förbättring av svar\n",
    "\n",
    "### 3. **Integrationsverktyg**\n",
    "- Externa API-anslutningar\n",
    "- Filoperativsystem\n",
    "- Gränssnitt för databasfrågor\n",
    "- Verktyg för webbscraping\n",
    "\n",
    "## ⚙️ Förutsättningar och installation\n",
    "\n",
    "**Nödvändiga beroenden:**\n",
    "```bash\n",
    "\n",
    "pip install agent-framework-core -U\n",
    "```\n",
    "\n",
    "**Miljökonfiguration (.env-fil):**\n",
    "```env\n",
    "GITHUB_TOKEN=your_github_personal_access_token\n",
    "GITHUB_ENDPOINT=https://models.inference.ai.azure.com\n",
    "GITHUB_MODEL_ID=gpt-4o-mini\n",
    "```\n",
    "\n",
    "**Valfria API:er:**\n",
    "- API-nyckel för vädertjänst (för väderverktyg)\n",
    "- Åtkomst till valutakonverterings-API\n",
    "- Inloggningsuppgifter för reseinformationstjänst\n",
    "\n",
    "## 🎨 Designmönster\n",
    "\n",
    "### Verktygsfabriksmönster\n",
    "- Centraliserad skapande och konfiguration av verktyg\n",
    "- Enhetlig design av verktygsgränssnitt\n",
    "- Enkel registrering och upptäckt av verktyg\n",
    "\n",
    "### Kommandomönster\n",
    "- Inkapslad logik för verktygsanvändning\n",
    "- Ångra/gör om-funktionalitet för komplexa operationer\n",
    "- Revisionsloggning för verktygsanvändning\n",
    "\n",
    "### Observatörsmönster\n",
    "- Övervakning av verktygsanvändning\n",
    "- Insamling av prestandamått\n",
    "- Felrapportering och varningar\n",
    "\n",
    "## 🚀 Bästa praxis\n",
    "\n",
    "- **Verktygsdokumentation**: Tydliga beskrivningar för agentens förståelse\n",
    "- **Indatavalidering**: Robust kontroll och sanering av parametrar\n",
    "- **Utdataformatering**: Konsekventa och analyserbara verktygssvar\n",
    "- **Felmeddelanden**: Hjälpsam felinformation för felsökning\n",
    "- **Prestanda**: Optimerad verktygsanvändning för snabb respons\n",
    "\n",
    "Redo att bygga agenter med kraftfulla verktygsfunktioner? Låt oss skapa något fantastiskt! ⚡\n"
   ]
  },
  {
   "cell_type": "code",
   "execution_count": null,
   "id": "59c0feeb",
   "metadata": {},
   "outputs": [],
   "source": [
    "! pip install agent-framework-core -U"
   ]
  },
  {
   "cell_type": "code",
   "execution_count": null,
   "id": "c0df8a52",
   "metadata": {},
   "outputs": [],
   "source": [
    "# � Import core dependencies for Agent Framework and tool integration\n",
    "# This sets up the essential libraries for building intelligent agents with tool capabilities\n",
    "\n",
    "import asyncio\n",
    "import os\n",
    "import json\n",
    "\n",
    "from dotenv import load_dotenv  # For loading environment variables securely\n",
    "from random import randint\n",
    "\n",
    "# These are the core components for building tool-enabled agents\n",
    "from agent_framework import ChatAgent           # Main agent class\n",
    "from agent_framework.openai import OpenAIChatClient  # OpenAI-compatible client"
   ]
  },
  {
   "cell_type": "code",
   "execution_count": null,
   "id": "24c10eb0",
   "metadata": {},
   "outputs": [],
   "source": [
    "load_dotenv()"
   ]
  },
  {
   "cell_type": "code",
   "execution_count": null,
   "id": "151e0314",
   "metadata": {},
   "outputs": [],
   "source": [
    "# 🔑 Environment variables verification\n",
    "# Ensure all required GitHub Models credentials are properly configured\n",
    "print(\"GITHUB_ENDPOINT:\", os.environ.get(\"GITHUB_ENDPOINT\"))\n",
    "print(\"GITHUB_TOKEN:\", \"***\" if os.environ.get(\"GITHUB_TOKEN\") else \"Not set\")\n",
    "print(\"GITHUB_MODEL_ID:\", os.environ.get(\"GITHUB_MODEL_ID\"))"
   ]
  },
  {
   "cell_type": "code",
   "execution_count": null,
   "id": "a6141584",
   "metadata": {},
   "outputs": [],
   "source": [
    "# 🧪 Test GitHub Models connectivity\n",
    "openai_chat_client = OpenAIChatClient(base_url=os.environ.get(\"GITHUB_ENDPOINT\"), api_key=os.environ.get(\"GITHUB_TOKEN\"), model_id=os.environ.get(\"GITHUB_MODEL_ID\"))"
   ]
  },
  {
   "cell_type": "code",
   "execution_count": null,
   "id": "a6507f83",
   "metadata": {},
   "outputs": [],
   "source": [
    "# 🛠️ Define travel planning tools for agent integration\n",
    "# These functions provide specific capabilities that the agent can invoke dynamically\n",
    "\n",
    "def get_random_destination() -> str:\n",
    "    \"\"\"\n",
    "    🎲 Random destination generator tool\n",
    "    Returns a randomly selected travel destination from curated list\n",
    "    Useful when customers need inspiration for their next vacation\n",
    "    \"\"\"\n",
    "    destinations = [\n",
    "        \"Paris, France\",\n",
    "        \"Tokyo, Japan\", \n",
    "        \"New York City, USA\",\n",
    "        \"London, England\",\n",
    "        \"Rome, Italy\",\n",
    "        \"Sydney, Australia\",\n",
    "        \"Dubai, UAE\",\n",
    "        \"Barcelona, Spain\",\n",
    "        \"Bangkok, Thailand\",\n",
    "        \"Amsterdam, Netherlands\",\n",
    "        \"Istanbul, Turkey\",\n",
    "        \"Prague, Czech Republic\",\n",
    "        \"Santorini, Greece\",\n",
    "        \"Reykjavik, Iceland\",\n",
    "        \"Marrakech, Morocco\",\n",
    "        \"Cape Town, South Africa\",\n",
    "        \"Rio de Janeiro, Brazil\",\n",
    "        \"Bali, Indonesia\"\n",
    "    ]\n",
    "    # 🎯 Return random selection from the curated destination list\n",
    "    return destinations[randint(0, len(destinations) - 1)]"
   ]
  },
  {
   "cell_type": "code",
   "execution_count": null,
   "id": "5d4f0568",
   "metadata": {},
   "outputs": [],
   "source": [
    "# 🔗 Initialize GitHub Models chat client for agent communication\n",
    "# Creates the primary interface between the agent and the language model\n",
    "openai_chat_client = OpenAIChatClient(base_url=os.environ.get(\"GITHUB_ENDPOINT\"), api_key=os.environ.get(\"GITHUB_TOKEN\"), model_id=os.environ.get(\"GITHUB_MODEL_ID\"))"
   ]
  },
  {
   "cell_type": "code",
   "execution_count": null,
   "id": "751668c5",
   "metadata": {},
   "outputs": [],
   "source": [
    "# 🤖 Configure travel agent identity and behavioral instructions\n",
    "# Define the agent's personality, capabilities, and operational guidelines\n",
    "\n",
    "AGENT_NAME = \"TravelAgent\"\n",
    "\n",
    "AGENT_INSTRUCTIONS = \"\"\"You are a helpful AI Agent that can help plan vacations for customers at random destinations\n",
    "\"\"\""
   ]
  },
  {
   "cell_type": "code",
   "execution_count": null,
   "id": "be18ac4f",
   "metadata": {},
   "outputs": [],
   "source": [
    "agent = ChatAgent(\n",
    "        name = AGENT_NAME,\n",
    "        chat_client=openai_chat_client,\n",
    "        instructions=AGENT_INSTRUCTIONS,\n",
    "        tools=[get_random_destination]\n",
    ")"
   ]
  },
  {
   "cell_type": "code",
   "execution_count": null,
   "id": "772e9481",
   "metadata": {},
   "outputs": [],
   "source": [
    "thread = agent.get_new_thread()"
   ]
  },
  {
   "cell_type": "code",
   "execution_count": null,
   "id": "a731b547",
   "metadata": {},
   "outputs": [],
   "source": [
    "response1 = await agent.run(\"Plan me a day trip\",thread= thread)"
   ]
  },
  {
   "cell_type": "code",
   "execution_count": null,
   "id": "7d3fe00a",
   "metadata": {},
   "outputs": [],
   "source": [
    "\n",
    "last_message = response1.messages[-1]\n",
    "text_content = last_message.contents[0].text\n",
    "print(\"Travel plan:\")\n",
    "print(text_content)"
   ]
  },
  {
   "cell_type": "markdown",
   "metadata": {},
   "source": [
    "\n---\n\n**Ansvarsfriskrivning**:  \nDetta dokument har översatts med hjälp av AI-översättningstjänsten [Co-op Translator](https://github.com/Azure/co-op-translator). Även om vi strävar efter noggrannhet, bör det noteras att automatiserade översättningar kan innehålla fel eller felaktigheter. Det ursprungliga dokumentet på dess originalspråk bör betraktas som den auktoritativa källan. För kritisk information rekommenderas professionell mänsklig översättning. Vi ansvarar inte för eventuella missförstånd eller feltolkningar som uppstår vid användning av denna översättning.\n"
   ]
  }
 ],
 "metadata": {
  "kernelspec": {
   "display_name": "agentenv",
   "language": "python",
   "name": "python3"
  },
  "language_info": {
   "codemirror_mode": {
    "name": "ipython",
    "version": 3
   },
   "file_extension": ".py",
   "mimetype": "text/x-python",
   "name": "python",
   "nbconvert_exporter": "python",
   "pygments_lexer": "ipython3",
   "version": "3.12.10"
  },
  "polyglot_notebook": {
   "kernelInfo": {
    "defaultKernelName": "csharp",
    "items": [
     {
      "aliases": [],
      "name": "csharp"
     }
    ]
   }
  },
  "coopTranslator": {
   "original_hash": "42966ddac53cebaf0ac1ce33b2ee7059",
   "translation_date": "2025-10-02T16:08:46+00:00",
   "source_file": "04-tool-use/code_samples/04-python-agent-framework.ipynb",
   "language_code": "sv"
  }
 },
 "nbformat": 4,
 "nbformat_minor": 5
}