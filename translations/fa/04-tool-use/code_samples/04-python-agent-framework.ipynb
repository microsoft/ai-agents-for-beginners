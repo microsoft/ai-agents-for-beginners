{
 "cells": [
  {
   "cell_type": "markdown",
   "id": "8744544f",
   "metadata": {},
   "source": [
    "# 🛠️ استفاده پیشرفته از ابزارها با مدل‌های GitHub (پایتون)\n",
    "\n",
    "## 📋 اهداف یادگیری\n",
    "\n",
    "این نوت‌بوک الگوهای پیشرفته یکپارچه‌سازی ابزارها را با استفاده از Microsoft Agent Framework و مدل‌های GitHub نشان می‌دهد. شما یاد خواهید گرفت که چگونه ابزارهای متعدد را ایجاد، مدیریت و هماهنگ کنید تا قابلیت‌های پیچیده‌ای برای عامل‌ها بسازید.\n",
    "\n",
    "**آنچه خواهید آموخت:**\n",
    "- 🔧 **معماری چندابزاری**: ساخت عامل‌ها با ابزارهای تخصصی متعدد\n",
    "- 🎯 **منطق انتخاب ابزار**: نحوه انتخاب ابزار مناسب برای هر وظیفه توسط عامل‌ها\n",
    "- 📊 **ابزارهای پردازش داده**: ایجاد ابزارهایی که انواع مختلف داده را مدیریت می‌کنند\n",
    "- 🔗 **ترکیب ابزارها**: ترکیب ابزارها برای جریان‌های کاری پیچیده\n",
    "\n",
    "## 🎯 الگوهای کلیدی ابزار\n",
    "\n",
    "### اصول طراحی ابزار\n",
    "- **مسئولیت واحد**: هر ابزار دارای هدفی واضح و متمرکز است\n",
    "- **ایمنی نوع**: تایپ قوی برای اجرای قابل اعتماد ابزار\n",
    "- **مدیریت خطا**: الگوهای شکست و بازیابی مناسب\n",
    "- **ترکیب‌پذیری**: ابزارهایی که به خوبی با یکدیگر کار می‌کنند\n",
    "\n",
    "### ویژگی‌های پیشرفته ابزار\n",
    "- **آگاهی از زمینه**: ابزارهایی که زمینه مکالمه را درک می‌کنند\n",
    "- **اعتبارسنجی داده‌ها**: پاکسازی ورودی و اعتبارسنجی خروجی\n",
    "- **بهینه‌سازی عملکرد**: الگوهای اجرای ابزار کارآمد\n",
    "- **قابلیت گسترش**: افزودن آسان قابلیت‌های جدید به ابزارها\n",
    "\n",
    "## 🔧 معماری فنی\n",
    "\n",
    "### اجزای اصلی\n",
    "- **Microsoft Agent Framework**: پیاده‌سازی پایتون با پشتیبانی پیشرفته از ابزارها\n",
    "- **یکپارچه‌سازی مدل‌های GitHub**: دسترسی به مدل‌های زبان با عملکرد بالا\n",
    "- **سیستم ثبت ابزار**: مدیریت سازمان‌یافته قابلیت‌های عامل\n",
    "- **الگوهای بازیابی خطا**: مدیریت قوی شکست‌های اجرای ابزار\n",
    "\n",
    "### جریان یکپارچه‌سازی ابزار\n",
    "```python\n",
    "User Request → Agent Analysis → Tool Selection → Tool Execution → Response Synthesis\n",
    "```\n",
    "\n",
    "## 🛠️ دسته‌بندی ابزارهای نشان داده شده\n",
    "\n",
    "### 1. **ابزارهای تولید داده**\n",
    "- تولیدکننده مقصد تصادفی\n",
    "- ارائه‌دهنده اطلاعات آب‌وهوا  \n",
    "- محاسبه‌گر هزینه سفر\n",
    "- موتور توصیه فعالیت‌ها\n",
    "\n",
    "### 2. **ابزارهای پردازش**\n",
    "- قالب‌بندی و اعتبارسنجی متن\n",
    "- ابزارهای تبدیل داده\n",
    "- توابع تحلیل محتوا\n",
    "- ابزارهای بهبود پاسخ\n",
    "\n",
    "### 3. **ابزارهای یکپارچه‌سازی**\n",
    "- اتصال‌دهنده‌های API خارجی\n",
    "- عملیات سیستم فایل\n",
    "- رابط‌های پرس‌وجوی پایگاه داده\n",
    "- ابزارهای استخراج اطلاعات از وب\n",
    "\n",
    "## ⚙️ پیش‌نیازها و تنظیمات\n",
    "\n",
    "**وابستگی‌های مورد نیاز:**\n",
    "```bash\n",
    "\n",
    "pip install agent-framework-core -U\n",
    "```\n",
    "\n",
    "**پیکربندی محیط (.env file):**\n",
    "```env\n",
    "GITHUB_TOKEN=your_github_personal_access_token\n",
    "GITHUB_ENDPOINT=https://models.inference.ai.azure.com\n",
    "GITHUB_MODEL_ID=gpt-4o-mini\n",
    "```\n",
    "\n",
    "**API‌های اختیاری:**\n",
    "- کلید API سرویس آب‌وهوا (برای ابزارهای آب‌وهوا)\n",
    "- دسترسی به API تبدیل ارز\n",
    "- اعتبارنامه‌های سرویس اطلاعات سفر\n",
    "\n",
    "## 🎨 الگوهای طراحی\n",
    "\n",
    "### الگوی کارخانه ابزار\n",
    "- ایجاد و پیکربندی متمرکز ابزارها\n",
    "- طراحی رابط ابزار سازگار\n",
    "- ثبت و کشف آسان ابزارها\n",
    "\n",
    "### الگوی فرمان\n",
    "- منطق اجرای ابزار کپسوله‌شده\n",
    "- قابلیت Undo/Redo برای عملیات پیچیده\n",
    "- ثبت گزارش استفاده از ابزار\n",
    "\n",
    "### الگوی مشاهده‌گر\n",
    "- نظارت بر اجرای ابزار\n",
    "- جمع‌آوری معیارهای عملکرد\n",
    "- گزارش‌دهی خطا و هشدارها\n",
    "\n",
    "## 🚀 بهترین شیوه‌ها\n",
    "\n",
    "- **مستندسازی ابزار**: توضیحات واضح برای درک عامل\n",
    "- **اعتبارسنجی ورودی**: بررسی و پاکسازی پارامترها\n",
    "- **قالب‌بندی خروجی**: پاسخ‌های ابزار سازگار و قابل تجزیه\n",
    "- **پیام‌های خطا**: اطلاعات خطای مفید برای اشکال‌زدایی\n",
    "- **عملکرد**: اجرای بهینه ابزار برای پاسخگویی سریع\n",
    "\n",
    "آماده‌اید تا عامل‌هایی با قابلیت‌های قدرتمند ابزار بسازید؟ بیایید چیزی شگفت‌انگیز خلق کنیم! ⚡\n"
   ]
  },
  {
   "cell_type": "code",
   "execution_count": null,
   "id": "59c0feeb",
   "metadata": {},
   "outputs": [],
   "source": [
    "! pip install agent-framework-core -U"
   ]
  },
  {
   "cell_type": "code",
   "execution_count": null,
   "id": "c0df8a52",
   "metadata": {},
   "outputs": [],
   "source": [
    "# � Import core dependencies for Agent Framework and tool integration\n",
    "# This sets up the essential libraries for building intelligent agents with tool capabilities\n",
    "\n",
    "import asyncio\n",
    "import os\n",
    "import json\n",
    "\n",
    "from dotenv import load_dotenv  # For loading environment variables securely\n",
    "from random import randint\n",
    "\n",
    "# These are the core components for building tool-enabled agents\n",
    "from agent_framework import ChatAgent           # Main agent class\n",
    "from agent_framework.openai import OpenAIChatClient  # OpenAI-compatible client"
   ]
  },
  {
   "cell_type": "code",
   "execution_count": null,
   "id": "24c10eb0",
   "metadata": {},
   "outputs": [],
   "source": [
    "load_dotenv()"
   ]
  },
  {
   "cell_type": "code",
   "execution_count": null,
   "id": "151e0314",
   "metadata": {},
   "outputs": [],
   "source": [
    "# 🔑 Environment variables verification\n",
    "# Ensure all required GitHub Models credentials are properly configured\n",
    "print(\"GITHUB_ENDPOINT:\", os.environ.get(\"GITHUB_ENDPOINT\"))\n",
    "print(\"GITHUB_TOKEN:\", \"***\" if os.environ.get(\"GITHUB_TOKEN\") else \"Not set\")\n",
    "print(\"GITHUB_MODEL_ID:\", os.environ.get(\"GITHUB_MODEL_ID\"))"
   ]
  },
  {
   "cell_type": "code",
   "execution_count": null,
   "id": "a6141584",
   "metadata": {},
   "outputs": [],
   "source": [
    "# 🧪 Test GitHub Models connectivity\n",
    "openai_chat_client = OpenAIChatClient(base_url=os.environ.get(\"GITHUB_ENDPOINT\"), api_key=os.environ.get(\"GITHUB_TOKEN\"), model_id=os.environ.get(\"GITHUB_MODEL_ID\"))"
   ]
  },
  {
   "cell_type": "code",
   "execution_count": null,
   "id": "a6507f83",
   "metadata": {},
   "outputs": [],
   "source": [
    "# 🛠️ Define travel planning tools for agent integration\n",
    "# These functions provide specific capabilities that the agent can invoke dynamically\n",
    "\n",
    "def get_random_destination() -> str:\n",
    "    \"\"\"\n",
    "    🎲 Random destination generator tool\n",
    "    Returns a randomly selected travel destination from curated list\n",
    "    Useful when customers need inspiration for their next vacation\n",
    "    \"\"\"\n",
    "    destinations = [\n",
    "        \"Paris, France\",\n",
    "        \"Tokyo, Japan\", \n",
    "        \"New York City, USA\",\n",
    "        \"London, England\",\n",
    "        \"Rome, Italy\",\n",
    "        \"Sydney, Australia\",\n",
    "        \"Dubai, UAE\",\n",
    "        \"Barcelona, Spain\",\n",
    "        \"Bangkok, Thailand\",\n",
    "        \"Amsterdam, Netherlands\",\n",
    "        \"Istanbul, Turkey\",\n",
    "        \"Prague, Czech Republic\",\n",
    "        \"Santorini, Greece\",\n",
    "        \"Reykjavik, Iceland\",\n",
    "        \"Marrakech, Morocco\",\n",
    "        \"Cape Town, South Africa\",\n",
    "        \"Rio de Janeiro, Brazil\",\n",
    "        \"Bali, Indonesia\"\n",
    "    ]\n",
    "    # 🎯 Return random selection from the curated destination list\n",
    "    return destinations[randint(0, len(destinations) - 1)]"
   ]
  },
  {
   "cell_type": "code",
   "execution_count": null,
   "id": "5d4f0568",
   "metadata": {},
   "outputs": [],
   "source": [
    "# 🔗 Initialize GitHub Models chat client for agent communication\n",
    "# Creates the primary interface between the agent and the language model\n",
    "openai_chat_client = OpenAIChatClient(base_url=os.environ.get(\"GITHUB_ENDPOINT\"), api_key=os.environ.get(\"GITHUB_TOKEN\"), model_id=os.environ.get(\"GITHUB_MODEL_ID\"))"
   ]
  },
  {
   "cell_type": "code",
   "execution_count": null,
   "id": "751668c5",
   "metadata": {},
   "outputs": [],
   "source": [
    "# 🤖 Configure travel agent identity and behavioral instructions\n",
    "# Define the agent's personality, capabilities, and operational guidelines\n",
    "\n",
    "AGENT_NAME = \"TravelAgent\"\n",
    "\n",
    "AGENT_INSTRUCTIONS = \"\"\"You are a helpful AI Agent that can help plan vacations for customers at random destinations\n",
    "\"\"\""
   ]
  },
  {
   "cell_type": "code",
   "execution_count": null,
   "id": "be18ac4f",
   "metadata": {},
   "outputs": [],
   "source": [
    "agent = ChatAgent(\n",
    "        name = AGENT_NAME,\n",
    "        chat_client=openai_chat_client,\n",
    "        instructions=AGENT_INSTRUCTIONS,\n",
    "        tools=[get_random_destination]\n",
    ")"
   ]
  },
  {
   "cell_type": "code",
   "execution_count": null,
   "id": "772e9481",
   "metadata": {},
   "outputs": [],
   "source": [
    "thread = agent.get_new_thread()"
   ]
  },
  {
   "cell_type": "code",
   "execution_count": null,
   "id": "a731b547",
   "metadata": {},
   "outputs": [],
   "source": [
    "response1 = await agent.run(\"Plan me a day trip\",thread= thread)"
   ]
  },
  {
   "cell_type": "code",
   "execution_count": null,
   "id": "7d3fe00a",
   "metadata": {},
   "outputs": [],
   "source": [
    "\n",
    "last_message = response1.messages[-1]\n",
    "text_content = last_message.contents[0].text\n",
    "print(\"Travel plan:\")\n",
    "print(text_content)"
   ]
  },
  {
   "cell_type": "markdown",
   "metadata": {},
   "source": [
    "\n---\n\n**سلب مسئولیت**:  \nاین سند با استفاده از سرویس ترجمه هوش مصنوعی [Co-op Translator](https://github.com/Azure/co-op-translator) ترجمه شده است. در حالی که ما تلاش می‌کنیم ترجمه‌ها دقیق باشند، لطفاً توجه داشته باشید که ترجمه‌های خودکار ممکن است شامل خطاها یا نادرستی‌ها باشند. سند اصلی به زبان مادری باید به عنوان منبع معتبر در نظر گرفته شود. برای اطلاعات حساس، توصیه می‌شود از ترجمه انسانی حرفه‌ای استفاده کنید. ما هیچ مسئولیتی در قبال سوء تفاهم‌ها یا تفسیرهای نادرست ناشی از استفاده از این ترجمه نداریم.\n"
   ]
  }
 ],
 "metadata": {
  "kernelspec": {
   "display_name": "agentenv",
   "language": "python",
   "name": "python3"
  },
  "language_info": {
   "codemirror_mode": {
    "name": "ipython",
    "version": 3
   },
   "file_extension": ".py",
   "mimetype": "text/x-python",
   "name": "python",
   "nbconvert_exporter": "python",
   "pygments_lexer": "ipython3",
   "version": "3.12.10"
  },
  "polyglot_notebook": {
   "kernelInfo": {
    "defaultKernelName": "csharp",
    "items": [
     {
      "aliases": [],
      "name": "csharp"
     }
    ]
   }
  },
  "coopTranslator": {
   "original_hash": "42966ddac53cebaf0ac1ce33b2ee7059",
   "translation_date": "2025-10-01T22:07:06+00:00",
   "source_file": "04-tool-use/code_samples/04-python-agent-framework.ipynb",
   "language_code": "fa"
  }
 },
 "nbformat": 4,
 "nbformat_minor": 5
}