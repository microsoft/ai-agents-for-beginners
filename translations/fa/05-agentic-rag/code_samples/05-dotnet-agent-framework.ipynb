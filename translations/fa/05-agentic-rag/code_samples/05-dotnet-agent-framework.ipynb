{
 "cells": [
  {
   "cell_type": "markdown",
   "id": "44b5899e",
   "metadata": {},
   "source": [
    "# 🔍 سیستم RAG سازمانی با Azure AI Foundry (.NET)\n",
    "\n",
    "## 📋 اهداف آموزشی\n",
    "\n",
    "این دفترچه نحوه ساخت سیستم‌های Retrieval-Augmented Generation (RAG) در سطح سازمانی را با استفاده از Microsoft Agent Framework در .NET و Azure AI Foundry نشان می‌دهد. شما یاد خواهید گرفت که عوامل تولیدی آماده‌ای ایجاد کنید که بتوانند در میان اسناد جستجو کنند و پاسخ‌های دقیق و متناسب با زمینه ارائه دهند، همراه با امنیت و مقیاس‌پذیری سازمانی.\n",
    "\n",
    "**قابلیت‌های RAG سازمانی که خواهید ساخت:**\n",
    "- 📚 **هوش اسنادی**: پردازش پیشرفته اسناد با خدمات Azure AI\n",
    "- 🔍 **جستجوی معنایی**: جستجوی برداری با عملکرد بالا و ویژگی‌های سازمانی\n",
    "- 🛡️ **یکپارچگی امنیتی**: دسترسی مبتنی بر نقش و الگوهای حفاظت از داده‌ها\n",
    "- 🏢 **معماری مقیاس‌پذیر**: سیستم‌های RAG آماده تولید با نظارت\n",
    "\n",
    "## 🎯 معماری RAG سازمانی\n",
    "\n",
    "### اجزای اصلی سازمانی\n",
    "- **Azure AI Foundry**: پلتفرم مدیریت شده هوش مصنوعی سازمانی با امنیت و انطباق\n",
    "- **عوامل پایدار**: عوامل دارای حالت با تاریخچه مکالمه و مدیریت زمینه\n",
    "- **مدیریت ذخیره‌سازی برداری**: ایندکس‌گذاری و بازیابی اسناد در سطح سازمانی\n",
    "- **یکپارچگی هویت**: احراز هویت Azure AD و کنترل دسترسی مبتنی بر نقش\n",
    "\n",
    "### مزایای .NET سازمانی\n",
    "- **ایمنی نوع**: اعتبارسنجی در زمان کامپایل برای عملیات RAG و ساختارهای داده\n",
    "- **عملکرد غیرهمزمان**: پردازش اسناد و عملیات جستجو بدون انسداد\n",
    "- **مدیریت حافظه**: استفاده بهینه از منابع برای مجموعه‌های بزرگ اسناد\n",
    "- **الگوهای یکپارچگی**: یکپارچگی بومی خدمات Azure با تزریق وابستگی\n",
    "\n",
    "## 🏗️ معماری فنی\n",
    "\n",
    "### خط لوله RAG سازمانی\n",
    "```csharp\n",
    "Document Upload → Security Validation → Vector Processing → Index Creation\n",
    "                      ↓                    ↓                  ↓\n",
    "User Query → Authentication → Semantic Search → Context Ranking → AI Response\n",
    "```\n",
    "\n",
    "### اجزای اصلی .NET\n",
    "- **Azure.AI.Agents.Persistent**: مدیریت عوامل سازمانی با پایداری حالت\n",
    "- **Azure.Identity**: احراز هویت یکپارچه برای دسترسی امن به خدمات Azure\n",
    "- **Microsoft.Agents.AI.AzureAI**: پیاده‌سازی چارچوب عامل بهینه شده برای Azure\n",
    "- **System.Linq.Async**: عملیات LINQ غیرهمزمان با عملکرد بالا\n",
    "\n",
    "## 🔧 ویژگی‌ها و مزایای سازمانی\n",
    "\n",
    "### امنیت و انطباق\n",
    "- **یکپارچگی Azure AD**: مدیریت هویت سازمانی و احراز هویت\n",
    "- **دسترسی مبتنی بر نقش**: مجوزهای دقیق برای دسترسی به اسناد و عملیات\n",
    "- **حفاظت از داده‌ها**: رمزگذاری در حالت استراحت و انتقال برای اسناد حساس\n",
    "- **ثبت گزارشات**: ردیابی جامع فعالیت‌ها برای الزامات انطباق\n",
    "\n",
    "### عملکرد و مقیاس‌پذیری\n",
    "- **مدیریت اتصال**: مدیریت کارآمد اتصال به خدمات Azure\n",
    "- **پردازش غیرهمزمان**: عملیات بدون انسداد برای سناریوهای با توان بالا\n",
    "- **استراتژی‌های کش**: کش هوشمند برای اسناد پرکاربرد\n",
    "- **تعادل بار**: پردازش توزیع شده برای استقرارهای بزرگ‌مقیاس\n",
    "\n",
    "### مدیریت و نظارت\n",
    "- **بررسی سلامت**: نظارت داخلی برای اجزای سیستم RAG\n",
    "- **معیارهای عملکرد**: تحلیل دقیق کیفیت جستجو و زمان پاسخ‌دهی\n",
    "- **مدیریت خطا**: مدیریت جامع استثناها با سیاست‌های تکرار\n",
    "- **مدیریت پیکربندی**: تنظیمات خاص محیط با اعتبارسنجی\n",
    "\n",
    "## ⚙️ پیش‌نیازها و تنظیمات\n",
    "\n",
    "**محیط توسعه:**\n",
    "- .NET 9.0 SDK یا بالاتر\n",
    "- Visual Studio 2022 یا VS Code با افزونه C#\n",
    "- اشتراک Azure با دسترسی به AI Foundry\n",
    "\n",
    "**پکیج‌های مورد نیاز NuGet:**\n",
    "```xml\n",
    "<PackageReference Include=\"Microsoft.Extensions.AI\" Version=\"9.9.0\" />\n",
    "<PackageReference Include=\"Azure.AI.Agents.Persistent\" Version=\"1.2.0-beta.5\" />\n",
    "<PackageReference Include=\"Azure.Identity\" Version=\"1.15.0\" />\n",
    "<PackageReference Include=\"System.Linq.Async\" Version=\"6.0.3\" />\n",
    "<PackageReference Include=\"DotNetEnv\" Version=\"3.1.1\" />\n",
    "```\n",
    "\n",
    "**تنظیمات احراز هویت Azure:**\n",
    "```bash\n",
    "# Install Azure CLI and authenticate\n",
    "az login\n",
    "az account set --subscription \"your-subscription-id\"\n",
    "```\n",
    "\n",
    "**پیکربندی محیط (.env file):**\n",
    "```env\n",
    "# Azure AI Foundry configuration (automatically handled via Azure CLI)\n",
    "# Ensure you're authenticated to the correct Azure subscription\n",
    "```\n",
    "\n",
    "## 📊 الگوهای RAG سازمانی\n",
    "\n",
    "### الگوهای مدیریت اسناد\n",
    "- **آپلود دسته‌ای**: پردازش کارآمد مجموعه‌های بزرگ اسناد\n",
    "- **به‌روزرسانی‌های افزایشی**: افزودن و اصلاح اسناد در زمان واقعی\n",
    "- **کنترل نسخه**: نسخه‌بندی اسناد و ردیابی تغییرات\n",
    "- **مدیریت متاداده**: ویژگی‌های غنی اسناد و طبقه‌بندی\n",
    "\n",
    "### الگوهای جستجو و بازیابی\n",
    "- **جستجوی ترکیبی**: ترکیب جستجوی معنایی و کلیدواژه برای نتایج بهینه\n",
    "- **جستجوی فاست**: فیلتر و دسته‌بندی چندبعدی\n",
    "- **تنظیم ارتباط**: الگوریتم‌های امتیازدهی سفارشی برای نیازهای خاص دامنه\n",
    "- **رتبه‌بندی نتایج**: رتبه‌بندی پیشرفته با یکپارچگی منطق کسب‌وکار\n",
    "\n",
    "### الگوهای امنیتی\n",
    "- **امنیت سطح سند**: کنترل دسترسی دقیق برای هر سند\n",
    "- **طبقه‌بندی داده‌ها**: برچسب‌گذاری خودکار حساسیت و حفاظت\n",
    "- **ردیابی حسابرسی**: ثبت جامع تمام عملیات RAG\n",
    "- **حفاظت از حریم خصوصی**: قابلیت‌های شناسایی و حذف اطلاعات شخصی\n",
    "\n",
    "## 🔒 ویژگی‌های امنیتی سازمانی\n",
    "\n",
    "### احراز هویت و مجوز\n",
    "```csharp\n",
    "// Azure AD integrated authentication\n",
    "var credential = new AzureCliCredential();\n",
    "var agentsClient = new PersistentAgentsClient(endpoint, credential);\n",
    "\n",
    "// Role-based access validation\n",
    "if (!await ValidateUserPermissions(user, documentId))\n",
    "{\n",
    "    throw new UnauthorizedAccessException(\"Insufficient permissions\");\n",
    "}\n",
    "```\n",
    "\n",
    "### حفاظت از داده‌ها\n",
    "- **رمزگذاری**: رمزگذاری انتها به انتها برای اسناد و شاخص‌های جستجو\n",
    "- **کنترل‌های دسترسی**: یکپارچگی با Azure AD برای مجوزهای کاربران و گروه‌ها\n",
    "- **اقامت داده‌ها**: کنترل مکان جغرافیایی داده‌ها برای انطباق\n",
    "- **پشتیبان‌گیری و بازیابی**: قابلیت‌های پشتیبان‌گیری و بازیابی خودکار\n",
    "\n",
    "## 📈 بهینه‌سازی عملکرد\n",
    "\n",
    "### الگوهای پردازش غیرهمزمان\n",
    "```csharp\n",
    "// Efficient async document processing\n",
    "await foreach (var document in documentStream.AsAsyncEnumerable())\n",
    "{\n",
    "    await ProcessDocumentAsync(document, cancellationToken);\n",
    "}\n",
    "```\n",
    "\n",
    "### مدیریت حافظه\n",
    "- **پردازش جریانی**: مدیریت اسناد بزرگ بدون مشکلات حافظه\n",
    "- **تجمع منابع**: استفاده کارآمد از منابع گران‌قیمت\n",
    "- **جمع‌آوری زباله**: الگوهای تخصیص حافظه بهینه\n",
    "- **مدیریت اتصال**: چرخه عمر مناسب اتصال به خدمات Azure\n",
    "\n",
    "### استراتژی‌های کش\n",
    "- **کش جستجو**: کش جستجوهای پر اجرا\n",
    "- **کش اسناد**: کش در حافظه برای اسناد پرکاربرد\n",
    "- **کش شاخص**: کش بهینه شاخص‌های برداری\n",
    "- **کش نتایج**: کش هوشمند پاسخ‌های تولید شده\n",
    "\n",
    "## 📊 موارد استفاده سازمانی\n",
    "\n",
    "### مدیریت دانش\n",
    "- **ویکی شرکتی**: جستجوی هوشمند در پایگاه‌های دانش شرکت\n",
    "- **سیاست‌ها و رویه‌ها**: راهنمایی خودکار انطباق و رویه‌ها\n",
    "- **مواد آموزشی**: کمک هوشمند به یادگیری و توسعه\n",
    "- **پایگاه‌های داده تحقیقاتی**: سیستم‌های تحلیل مقالات علمی و تحقیقاتی\n",
    "\n",
    "### پشتیبانی مشتری\n",
    "- **پایگاه دانش پشتیبانی**: پاسخ‌های خودکار خدمات مشتری\n",
    "- **مستندات محصول**: بازیابی اطلاعات هوشمند محصول\n",
    "- **راهنماهای عیب‌یابی**: کمک به حل مشکلات متناسب با زمینه\n",
    "- **سیستم‌های پرسش‌های متداول**: تولید پویا پرسش‌های متداول از مجموعه اسناد\n",
    "\n",
    "### انطباق قانونی\n",
    "- **تحلیل اسناد قانونی**: هوش قراردادها و اسناد قانونی\n",
    "- **نظارت بر انطباق**: بررسی خودکار انطباق‌های قانونی\n",
    "- **ارزیابی ریسک**: تحلیل و گزارش ریسک مبتنی بر اسناد\n",
    "- **پشتیبانی حسابرسی**: کشف هوشمند اسناد برای حسابرسی‌ها\n",
    "\n",
    "## 🚀 استقرار تولیدی\n",
    "\n",
    "### نظارت و مشاهده‌پذیری\n",
    "- **Application Insights**: نظارت دقیق بر عملکرد و تله‌متری\n",
    "- **معیارهای سفارشی**: ردیابی و هشدار KPI‌های خاص کسب‌وکار\n",
    "- **ردیابی توزیع‌شده**: ردیابی درخواست‌ها از ابتدا تا انتها در خدمات\n",
    "- **داشبوردهای سلامت**: تجسم سلامت و عملکرد سیستم در زمان واقعی\n",
    "\n",
    "### مقیاس‌پذیری و قابلیت اطمینان\n",
    "- **مقیاس‌گذاری خودکار**: مقیاس‌گذاری خودکار بر اساس بار و معیارهای عملکرد\n",
    "- **دسترس‌پذیری بالا**: استقرار چند منطقه‌ای با قابلیت‌های بازیابی\n",
    "- **آزمون بار**: اعتبارسنجی عملکرد تحت بار سازمانی\n",
    "- **بازیابی از فاجعه**: رویه‌های پشتیبان‌گیری و بازیابی خودکار\n",
    "\n",
    "آماده ساخت سیستم‌های RAG سازمانی هستید که بتوانند اسناد حساس را در مقیاس مدیریت کنند؟ بیایید سیستم‌های دانش هوشمند برای سازمان بسازیم! 🏢📖✨\n"
   ]
  },
  {
   "cell_type": "code",
   "execution_count": 1,
   "metadata": {
    "language_info": {
     "name": "polyglot-notebook"
    },
    "polyglot_notebook": {
     "kernelName": "csharp"
    }
   },
   "outputs": [
    {
     "data": {
      "text/html": [
       "<div><div></div><div></div><div><strong>Installed Packages</strong><ul><li><span>Microsoft.Extensions.AI, 9.9.1</span></li></ul></div></div>"
      ]
     },
     "metadata": {},
     "output_type": "display_data"
    }
   ],
   "source": [
    "#r \"nuget: Microsoft.Extensions.AI, 9.9.1\""
   ]
  },
  {
   "cell_type": "code",
   "execution_count": 2,
   "id": "4ec1f0d1",
   "metadata": {
    "language_info": {
     "name": "polyglot-notebook"
    },
    "polyglot_notebook": {
     "kernelName": "csharp"
    }
   },
   "outputs": [
    {
     "data": {
      "text/html": [
       "<div><div></div><div></div><div><strong>Installed Packages</strong><ul><li><span>Azure.AI.Agents.Persistent, 1.2.0-beta.5</span></li><li><span>Azure.Identity, 1.15.0</span></li><li><span>System.Linq.Async, 6.0.3</span></li></ul></div></div>"
      ]
     },
     "metadata": {},
     "output_type": "display_data"
    }
   ],
   "source": [
    "#r \"nuget: Azure.AI.Agents.Persistent, 1.2.0-beta.5\"\n",
    "#r \"nuget: Azure.Identity, 1.15.0\"\n",
    "#r \"nuget: System.Linq.Async, 6.0.3\""
   ]
  },
  {
   "cell_type": "code",
   "execution_count": 3,
   "id": "2363ae07",
   "metadata": {
    "language_info": {
     "name": "polyglot-notebook"
    },
    "polyglot_notebook": {
     "kernelName": "csharp"
    }
   },
   "outputs": [],
   "source": []
  },
  {
   "cell_type": "code",
   "execution_count": null,
   "id": "d10cec9d",
   "metadata": {
    "language_info": {
     "name": "polyglot-notebook"
    },
    "polyglot_notebook": {
     "kernelName": "csharp"
    }
   },
   "outputs": [
    {
     "data": {
      "text/html": [
       "<div><div></div><div></div><div><strong>Installed Packages</strong><ul><li><span>Microsoft.Agents.AI.AzureAI, 1.0.0-preview.251001.2</span></li></ul></div></div>"
      ]
     },
     "metadata": {},
     "output_type": "display_data"
    }
   ],
   "source": [
    "#r \"nuget: Microsoft.Agents.AI.AzureAI, 1.0.0-preview.251001.3\""
   ]
  },
  {
   "cell_type": "code",
   "execution_count": null,
   "id": "78199d1c",
   "metadata": {
    "language_info": {
     "name": "polyglot-notebook"
    },
    "polyglot_notebook": {
     "kernelName": "csharp"
    }
   },
   "outputs": [
    {
     "data": {
      "text/html": [
       "<div><div></div><div></div><div><strong>Installed Packages</strong><ul><li><span>microsoft.agents.ai, 1.0.0-preview.251001.2</span></li></ul></div></div>"
      ]
     },
     "metadata": {},
     "output_type": "display_data"
    }
   ],
   "source": [
    "#r \"nuget: Microsoft.Agents.AI, 1.0.0-preview.251001.3\""
   ]
  },
  {
   "cell_type": "code",
   "execution_count": 6,
   "id": "7de4684a",
   "metadata": {
    "language_info": {
     "name": "polyglot-notebook"
    },
    "polyglot_notebook": {
     "kernelName": "csharp"
    }
   },
   "outputs": [
    {
     "data": {
      "text/html": [
       "<div><div></div><div></div><div><strong>Installed Packages</strong><ul><li><span>DotNetEnv, 3.1.1</span></li></ul></div></div>"
      ]
     },
     "metadata": {},
     "output_type": "display_data"
    }
   ],
   "source": [
    "#r \"nuget: DotNetEnv, 3.1.1\""
   ]
  },
  {
   "cell_type": "code",
   "execution_count": 7,
   "id": "251efd31",
   "metadata": {
    "language_info": {
     "name": "polyglot-notebook"
    },
    "polyglot_notebook": {
     "kernelName": "csharp"
    }
   },
   "outputs": [],
   "source": [
    "using System;\n",
    "using System.Linq;\n",
    "using Azure.AI.Agents.Persistent;\n",
    "using Azure.Identity;\n",
    "using Microsoft.Agents.AI;"
   ]
  },
  {
   "cell_type": "code",
   "execution_count": 8,
   "id": "a2e342f1",
   "metadata": {
    "language_info": {
     "name": "polyglot-notebook"
    },
    "polyglot_notebook": {
     "kernelName": "csharp"
    }
   },
   "outputs": [],
   "source": [
    " using DotNetEnv;"
   ]
  },
  {
   "cell_type": "code",
   "execution_count": 9,
   "id": "a7a01653",
   "metadata": {
    "language_info": {
     "name": "polyglot-notebook"
    },
    "polyglot_notebook": {
     "kernelName": "csharp"
    }
   },
   "outputs": [],
   "source": [
    "Env.Load(\"../../../.env\");"
   ]
  },
  {
   "cell_type": "code",
   "execution_count": 10,
   "id": "a42735d5",
   "metadata": {
    "language_info": {
     "name": "polyglot-notebook"
    },
    "polyglot_notebook": {
     "kernelName": "csharp"
    }
   },
   "outputs": [],
   "source": [
    "var azure_foundry_endpoint = Environment.GetEnvironmentVariable(\"AZURE_AI_PROJECT_ENDPOINT\") ?? throw new InvalidOperationException(\"AZURE_AI_PROJECT_ENDPOINT is not set.\");\n",
    "var azure_foundry_model_id = Environment.GetEnvironmentVariable(\"AZURE_AI_MODEL_DEPLOYMENT_NAME\") ?? \"gpt-4.1-mini\";"
   ]
  },
  {
   "cell_type": "code",
   "execution_count": 11,
   "id": "e29bdb58",
   "metadata": {
    "language_info": {
     "name": "polyglot-notebook"
    },
    "polyglot_notebook": {
     "kernelName": "csharp"
    }
   },
   "outputs": [],
   "source": [
    "string pdfPath = \"./document.md\";"
   ]
  },
  {
   "cell_type": "code",
   "execution_count": 12,
   "id": "7351e12d",
   "metadata": {
    "language_info": {
     "name": "polyglot-notebook"
    },
    "polyglot_notebook": {
     "kernelName": "csharp"
    }
   },
   "outputs": [],
   "source": [
    "using System.IO;\n",
    "\n",
    "async Task<Stream> OpenImageStreamAsync(string path)\n",
    "{\n",
    "\treturn await Task.Run(() => File.OpenRead(path));\n",
    "}\n",
    "\n",
    "var pdfStream = await OpenImageStreamAsync(pdfPath);"
   ]
  },
  {
   "cell_type": "code",
   "execution_count": 13,
   "id": "0b6bf484",
   "metadata": {
    "language_info": {
     "name": "polyglot-notebook"
    },
    "polyglot_notebook": {
     "kernelName": "csharp"
    }
   },
   "outputs": [],
   "source": [
    "var persistentAgentsClient = new PersistentAgentsClient(azure_foundry_endpoint, new AzureCliCredential());"
   ]
  },
  {
   "cell_type": "code",
   "execution_count": 14,
   "id": "81e0dddc",
   "metadata": {
    "language_info": {
     "name": "polyglot-notebook"
    },
    "polyglot_notebook": {
     "kernelName": "csharp"
    }
   },
   "outputs": [],
   "source": [
    "PersistentAgentFileInfo fileInfo = await persistentAgentsClient.Files.UploadFileAsync(pdfStream, PersistentAgentFilePurpose.Agents, \"demo.md\");"
   ]
  },
  {
   "cell_type": "code",
   "execution_count": 15,
   "id": "f0c75d80",
   "metadata": {
    "language_info": {
     "name": "polyglot-notebook"
    },
    "polyglot_notebook": {
     "kernelName": "csharp"
    }
   },
   "outputs": [],
   "source": [
    "PersistentAgentsVectorStore fileStore =\n",
    "            await persistentAgentsClient.VectorStores.CreateVectorStoreAsync(\n",
    "                [fileInfo.Id],\n",
    "                metadata: new Dictionary<string, string>() { { \"agentkey\", bool.TrueString } });"
   ]
  },
  {
   "cell_type": "code",
   "execution_count": 16,
   "id": "c77986c5",
   "metadata": {
    "language_info": {
     "name": "polyglot-notebook"
    },
    "polyglot_notebook": {
     "kernelName": "csharp"
    }
   },
   "outputs": [],
   "source": [
    "PersistentAgent agentModel = await persistentAgentsClient.Administration.CreateAgentAsync(\n",
    "            azure_foundry_model_id,\n",
    "            name: \"DotNetRAGAgent\",\n",
    "            tools: [new FileSearchToolDefinition()],\n",
    "            instructions: \"\"\"\n",
    "                You are an AI assistant designed to answer user questions using only the information retrieved from the provided document(s).\n",
    "\n",
    "                - If a user's question cannot be answered using the retrieved context, **you must clearly respond**: \n",
    "                \"I'm sorry, but the uploaded document does not contain the necessary information to answer that question.\"\n",
    "                - Do not answer from general knowledge or reasoning. Do not make assumptions or generate hypothetical explanations.\n",
    "                - Do not provide definitions, tutorials, or commentary that is not explicitly grounded in the content of the uploaded file(s).\n",
    "                - If a user asks a question like \"What is a Neural Network?\", and this is not discussed in the uploaded document, respond as instructed above.\n",
    "                - For questions that do have relevant content in the document (e.g., Contoso's travel insurance coverage), respond accurately, and cite the document explicitly.\n",
    "\n",
    "                You must behave as if you have no external knowledge beyond what is retrieved from the uploaded document.\n",
    "                \"\"\",\n",
    "            toolResources: new()\n",
    "            {\n",
    "                FileSearch = new()\n",
    "                {\n",
    "                    VectorStoreIds = { fileStore.Id },\n",
    "                }\n",
    "            },\n",
    "            metadata: new Dictionary<string, string>() { { \"agentkey\", bool.TrueString } });"
   ]
  },
  {
   "cell_type": "code",
   "execution_count": 17,
   "id": "282326cf",
   "metadata": {
    "language_info": {
     "name": "polyglot-notebook"
    },
    "polyglot_notebook": {
     "kernelName": "csharp"
    }
   },
   "outputs": [],
   "source": [
    "AIAgent agent = await persistentAgentsClient.GetAIAgentAsync(agentModel.Id);"
   ]
  },
  {
   "cell_type": "code",
   "execution_count": 18,
   "id": "2067d313",
   "metadata": {
    "language_info": {
     "name": "polyglot-notebook"
    },
    "polyglot_notebook": {
     "kernelName": "csharp"
    }
   },
   "outputs": [],
   "source": [
    "AgentThread thread = agent.GetNewThread();"
   ]
  },
  {
   "cell_type": "code",
   "execution_count": 19,
   "id": "454c4230",
   "metadata": {
    "language_info": {
     "name": "polyglot-notebook"
    },
    "polyglot_notebook": {
     "kernelName": "csharp"
    }
   },
   "outputs": [
    {
     "name": "stdout",
     "output_type": "stream",
     "text": [
      "Contoso's travel insurance coverage includes protection for medical emergencies, trip cancellations, and lost baggage. This ensures that travelers are supported in case of health-related issues during their trip, unforeseen cancellations, and the loss of their belongings while traveling【4:0†demo.md】.\r\n"
     ]
    }
   ],
   "source": [
    "Console.WriteLine(await agent.RunAsync(\"Can you explain Contoso's travel insurance coverage?\", thread));"
   ]
  },
  {
   "cell_type": "markdown",
   "metadata": {},
   "source": [
    "\n---\n\n**سلب مسئولیت**:  \nاین سند با استفاده از سرویس ترجمه هوش مصنوعی [Co-op Translator](https://github.com/Azure/co-op-translator) ترجمه شده است. در حالی که ما تلاش می‌کنیم ترجمه‌ها دقیق باشند، لطفاً توجه داشته باشید که ترجمه‌های خودکار ممکن است شامل خطاها یا نادرستی‌ها باشند. سند اصلی به زبان اصلی آن باید به عنوان منبع معتبر در نظر گرفته شود. برای اطلاعات حساس، توصیه می‌شود از ترجمه انسانی حرفه‌ای استفاده کنید. ما مسئولیتی در قبال سوء تفاهم‌ها یا تفسیرهای نادرست ناشی از استفاده از این ترجمه نداریم.\n"
   ]
  }
 ],
 "metadata": {
  "kernelspec": {
   "display_name": ".NET (C#)",
   "language": "C#",
   "name": ".net-csharp"
  },
  "language_info": {
   "name": "polyglot-notebook"
  },
  "polyglot_notebook": {
   "kernelInfo": {
    "defaultKernelName": "csharp",
    "items": [
     {
      "aliases": [],
      "name": "csharp"
     }
    ]
   }
  },
  "coopTranslator": {
   "original_hash": "e4584fa31638009dc6fb665275de8fc2",
   "translation_date": "2025-10-01T21:46:54+00:00",
   "source_file": "05-agentic-rag/code_samples/05-dotnet-agent-framework.ipynb",
   "language_code": "fa"
  }
 },
 "nbformat": 4,
 "nbformat_minor": 5
}