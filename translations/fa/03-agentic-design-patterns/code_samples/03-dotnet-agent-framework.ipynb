{
 "cells": [
  {
   "cell_type": "markdown",
   "id": "d6058fa4",
   "metadata": {},
   "source": [
    "# 🎨 الگوهای طراحی عامل با مدل‌های GitHub (.NET)\n",
    "\n",
    "## 📋 اهداف یادگیری\n",
    "\n",
    "این دفترچه الگوهای طراحی در سطح سازمانی برای ساخت عوامل هوشمند با استفاده از Microsoft Agent Framework در .NET و یکپارچه‌سازی مدل‌های GitHub را نشان می‌دهد. شما الگوهای حرفه‌ای و رویکردهای معماری را یاد خواهید گرفت که عوامل را آماده تولید، قابل نگهداری و مقیاس‌پذیر می‌کنند.\n",
    "\n",
    "**الگوهای طراحی سازمانی:**\n",
    "- 🏭 **الگوی کارخانه**: ایجاد استاندارد عوامل با تزریق وابستگی\n",
    "- 🔧 **الگوی سازنده**: پیکربندی و تنظیم عوامل به صورت روان\n",
    "- 🧵 **الگوهای ایمن در برابر رشته‌ها**: مدیریت مکالمات همزمان\n",
    "- 📋 **الگوی مخزن**: مدیریت ابزارها و قابلیت‌ها به صورت سازمان‌یافته\n",
    "\n",
    "## 🎯 مزایای معماری خاص .NET\n",
    "\n",
    "### ویژگی‌های سازمانی\n",
    "- **نوع‌دهی قوی**: اعتبارسنجی در زمان کامپایل و پشتیبانی IntelliSense\n",
    "- **تزریق وابستگی**: یکپارچه‌سازی با کانتینر DI داخلی\n",
    "- **مدیریت پیکربندی**: الگوهای IConfiguration و Options\n",
    "- **Async/Await**: پشتیبانی از برنامه‌نویسی غیرهمزمان به صورت درجه یک\n",
    "\n",
    "### الگوهای آماده تولید\n",
    "- **یکپارچه‌سازی لاگ‌ها**: پشتیبانی از ILogger و لاگ‌گذاری ساختاریافته\n",
    "- **بررسی سلامت**: نظارت و تشخیص داخلی\n",
    "- **اعتبارسنجی پیکربندی**: نوع‌دهی قوی با حاشیه‌نویسی داده‌ها\n",
    "- **مدیریت خطا**: مدیریت استثناهای ساختاریافته\n",
    "\n",
    "## 🔧 معماری فنی\n",
    "\n",
    "### اجزای اصلی .NET\n",
    "- **Microsoft.Extensions.AI**: انتزاعات خدمات AI یکپارچه\n",
    "- **Microsoft.Agents.AI**: چارچوب سازمانی برای هماهنگی عوامل\n",
    "- **یکپارچه‌سازی مدل‌های GitHub**: الگوهای مشتری API با عملکرد بالا\n",
    "- **سیستم پیکربندی**: یکپارچه‌سازی appsettings.json و محیط\n",
    "\n",
    "### پیاده‌سازی الگوهای طراحی\n",
    "```csharp\n",
    "IServiceCollection → Agent Builder → Configuration → Tool Registry → AI Agent\n",
    "```\n",
    "\n",
    "## 🏗️ الگوهای سازمانی نشان داده شده\n",
    "\n",
    "### 1. **الگوهای ساختاری**\n",
    "- **کارخانه عامل**: ایجاد متمرکز عوامل با پیکربندی سازگار\n",
    "- **الگوی سازنده**: API روان برای پیکربندی پیچیده عوامل\n",
    "- **الگوی تک‌نمونه‌ای**: مدیریت منابع و پیکربندی مشترک\n",
    "- **تزریق وابستگی**: اتصال آزاد و قابلیت تست\n",
    "\n",
    "### 2. **الگوهای رفتاری**\n",
    "- **الگوی استراتژی**: استراتژی‌های اجرای ابزار قابل تعویض\n",
    "- **الگوی فرمان**: عملیات عامل کپسوله شده با قابلیت بازگشت\n",
    "- **الگوی ناظر**: مدیریت چرخه عمر عامل به صورت رویدادمحور\n",
    "- **الگوی روش قالب**: جریان‌های کاری اجرای عامل استاندارد شده\n",
    "\n",
    "### 3. **الگوهای ساختاری**\n",
    "- **الگوی آداپتور**: لایه یکپارچه‌سازی API مدل‌های GitHub\n",
    "- **الگوی تزئین‌کننده**: افزایش قابلیت‌های عامل\n",
    "- **الگوی نما**: رابط‌های تعامل ساده‌شده عامل\n",
    "- **الگوی پروکسی**: بارگذاری تنبل و کش برای عملکرد بهتر\n",
    "\n",
    "## ⚙️ پیش‌نیازها و تنظیمات\n",
    "\n",
    "**محیط توسعه:**\n",
    "- .NET 9.0 SDK یا بالاتر\n",
    "- Visual Studio 2022 یا VS Code با افزونه C#\n",
    "- دسترسی به API مدل‌های GitHub\n",
    "\n",
    "**وابستگی‌های NuGet:**\n",
    "```xml\n",
    "<PackageReference Include=\"Microsoft.Extensions.AI\" Version=\"9.9.0\" />\n",
    "<PackageReference Include=\"Microsoft.Extensions.AI.OpenAI\" Version=\"9.9.0-preview.1.25458.4\" />\n",
    "<PackageReference Include=\"DotNetEnv\" Version=\"3.1.1\" />\n",
    "```\n",
    "\n",
    "**پیکربندی (فایل .env):**\n",
    "```env\n",
    "GITHUB_TOKEN=your_github_personal_access_token\n",
    "GITHUB_ENDPOINT=https://models.inference.ai.azure.com\n",
    "GITHUB_MODEL_ID=gpt-4o-mini\n",
    "```\n",
    "\n",
    "## 📚 اصول طراحی .NET\n",
    "\n",
    "### اصول SOLID\n",
    "- **مسئولیت واحد**: هر جزء یک هدف واضح دارد\n",
    "- **باز/بسته**: قابل گسترش بدون تغییر\n",
    "- **جایگزینی لیسکوف**: پیاده‌سازی ابزار مبتنی بر رابط\n",
    "- **جداسازی رابط**: رابط‌های متمرکز و منسجم\n",
    "- **وارونگی وابستگی**: وابستگی به انتزاعات، نه موارد خاص\n",
    "\n",
    "### معماری پاک\n",
    "- **لایه دامنه**: انتزاعات اصلی عامل و ابزار\n",
    "- **لایه برنامه**: هماهنگی عوامل و جریان‌های کاری\n",
    "- **لایه زیرساخت**: یکپارچه‌سازی مدل‌های GitHub و خدمات خارجی\n",
    "- **لایه ارائه**: تعامل کاربر و قالب‌بندی پاسخ\n",
    "\n",
    "## 🔒 ملاحظات سازمانی\n",
    "\n",
    "### امنیت\n",
    "- **مدیریت اعتبارنامه**: مدیریت امن کلیدهای API با IConfiguration\n",
    "- **اعتبارسنجی ورودی**: نوع‌دهی قوی و اعتبارسنجی حاشیه‌نویسی داده‌ها\n",
    "- **پاک‌سازی خروجی**: پردازش و فیلتر کردن پاسخ‌های امن\n",
    "- **لاگ‌گذاری حسابرسی**: ردیابی جامع عملیات\n",
    "\n",
    "### عملکرد\n",
    "- **الگوهای غیرهمزمان**: عملیات I/O غیرمسدودکننده\n",
    "- **مدیریت اتصال**: مدیریت کارآمد مشتری HTTP\n",
    "- **کش**: کش پاسخ برای بهبود عملکرد\n",
    "- **مدیریت منابع**: الگوهای دفع و پاک‌سازی مناسب\n",
    "\n",
    "### مقیاس‌پذیری\n",
    "- **ایمنی رشته‌ها**: پشتیبانی از اجرای همزمان عوامل\n",
    "- **تجمع منابع**: استفاده کارآمد از منابع\n",
    "- **مدیریت بار**: محدود کردن نرخ و مدیریت فشار برگشتی\n",
    "- **نظارت**: معیارهای عملکرد و بررسی سلامت\n",
    "\n",
    "## 🚀 استقرار تولید\n",
    "\n",
    "- **مدیریت پیکربندی**: تنظیمات خاص محیط\n",
    "- **استراتژی لاگ‌گذاری**: لاگ‌گذاری ساختاریافته با شناسه‌های همبستگی\n",
    "- **مدیریت خطا**: مدیریت استثناهای جهانی با بازیابی مناسب\n",
    "- **نظارت**: بینش‌های برنامه و شمارنده‌های عملکرد\n",
    "- **تست**: الگوهای تست واحد، تست یکپارچه‌سازی و تست بار\n",
    "\n",
    "آماده ساخت عوامل هوشمند در سطح سازمانی با .NET هستید؟ بیایید چیزی قدرتمند طراحی کنیم! 🏢✨\n"
   ]
  },
  {
   "cell_type": "code",
   "execution_count": 1,
   "id": "2770ac5c",
   "metadata": {
    "language_info": {
     "name": "polyglot-notebook"
    },
    "polyglot_notebook": {
     "kernelName": "csharp"
    }
   },
   "outputs": [
    {
     "data": {
      "text/html": [
       "<div><div></div><div></div><div><strong>Installed Packages</strong><ul><li><span>Microsoft.Extensions.AI, 9.9.1</span></li></ul></div></div>"
      ]
     },
     "metadata": {},
     "output_type": "display_data"
    }
   ],
   "source": [
    "#r \"nuget: Microsoft.Extensions.AI, 9.9.1\""
   ]
  },
  {
   "cell_type": "code",
   "execution_count": null,
   "id": "984ff6cd",
   "metadata": {
    "language_info": {
     "name": "polyglot-notebook"
    },
    "polyglot_notebook": {
     "kernelName": "csharp"
    }
   },
   "outputs": [
    {
     "data": {
      "text/html": [
       "<div><div></div><div></div><div><strong>Installed Packages</strong><ul><li><span>Microsoft.Agents.AI.OpenAI, 1.0.0-preview.251001.2</span></li></ul></div></div>"
      ]
     },
     "metadata": {},
     "output_type": "display_data"
    }
   ],
   "source": [
    "#r \"nuget: Microsoft.Agents.AI.OpenAI, 1.0.0-preview.251001.3\""
   ]
  },
  {
   "cell_type": "code",
   "execution_count": null,
   "id": "0ab71360",
   "metadata": {
    "language_info": {
     "name": "polyglot-notebook"
    },
    "polyglot_notebook": {
     "kernelName": "csharp"
    }
   },
   "outputs": [
    {
     "data": {
      "text/html": [
       "<div><div></div><div></div><div><strong>Installed Packages</strong><ul><li><span>microsoft.agents.ai, 1.0.0-preview.251001.2</span></li></ul></div></div>"
      ]
     },
     "metadata": {},
     "output_type": "display_data"
    }
   ],
   "source": [
    "\n",
    "\n",
    "#r \"nuget: Microsoft.Agents.AI, 1.0.0-preview.251001.3\""
   ]
  },
  {
   "cell_type": "code",
   "execution_count": 4,
   "id": "4ab7b15d",
   "metadata": {
    "language_info": {
     "name": "polyglot-notebook"
    },
    "polyglot_notebook": {
     "kernelName": "csharp"
    }
   },
   "outputs": [],
   "source": [
    "// #r \"nuget: Microsoft.Extensions.AI.OpenAI, 9.9.0-preview.1.25458.4\""
   ]
  },
  {
   "cell_type": "code",
   "execution_count": 5,
   "id": "3fa8aa21",
   "metadata": {
    "language_info": {
     "name": "polyglot-notebook"
    },
    "polyglot_notebook": {
     "kernelName": "csharp"
    }
   },
   "outputs": [
    {
     "data": {
      "text/html": [
       "<div><div></div><div></div><div><strong>Installed Packages</strong><ul><li><span>DotNetEnv, 3.1.1</span></li></ul></div></div>"
      ]
     },
     "metadata": {},
     "output_type": "display_data"
    }
   ],
   "source": [
    "#r \"nuget: DotNetEnv, 3.1.1\""
   ]
  },
  {
   "cell_type": "code",
   "execution_count": 6,
   "id": "fc8ee8ea",
   "metadata": {
    "language_info": {
     "name": "polyglot-notebook"
    },
    "polyglot_notebook": {
     "kernelName": "csharp"
    }
   },
   "outputs": [],
   "source": [
    "using System;\n",
    "using System.ComponentModel;\n",
    "using System.ClientModel;\n",
    "\n",
    "using Microsoft.Extensions.AI;\n",
    "using Microsoft.Agents.AI;\n",
    "using OpenAI;"
   ]
  },
  {
   "cell_type": "code",
   "execution_count": 7,
   "id": "699b1c83",
   "metadata": {
    "language_info": {
     "name": "polyglot-notebook"
    },
    "polyglot_notebook": {
     "kernelName": "csharp"
    }
   },
   "outputs": [],
   "source": [
    " using DotNetEnv;"
   ]
  },
  {
   "cell_type": "code",
   "execution_count": 8,
   "id": "daa649a0",
   "metadata": {
    "language_info": {
     "name": "polyglot-notebook"
    },
    "polyglot_notebook": {
     "kernelName": "csharp"
    }
   },
   "outputs": [],
   "source": [
    "Env.Load(\"../../../.env\");"
   ]
  },
  {
   "cell_type": "code",
   "execution_count": 9,
   "id": "29661a90",
   "metadata": {
    "language_info": {
     "name": "polyglot-notebook"
    },
    "polyglot_notebook": {
     "kernelName": "csharp"
    }
   },
   "outputs": [],
   "source": [
    "[Description(\"Provides a random vacation destination.\")]\n",
    "static string GetRandomDestination()\n",
    "{\n",
    "    var destinations = new List<string>\n",
    "    {\n",
    "        \"Paris, France\",\n",
    "        \"Tokyo, Japan\",\n",
    "        \"New York City, USA\",\n",
    "        \"Sydney, Australia\",\n",
    "        \"Rome, Italy\",\n",
    "        \"Barcelona, Spain\",\n",
    "        \"Cape Town, South Africa\",\n",
    "        \"Rio de Janeiro, Brazil\",\n",
    "        \"Bangkok, Thailand\",\n",
    "        \"Vancouver, Canada\"\n",
    "    };\n",
    "\n",
    "    var random = new Random();\n",
    "    int index = random.Next(destinations.Count);\n",
    "    return destinations[index];\n",
    "}"
   ]
  },
  {
   "cell_type": "code",
   "execution_count": 10,
   "id": "d2ed1f8b",
   "metadata": {
    "language_info": {
     "name": "polyglot-notebook"
    },
    "polyglot_notebook": {
     "kernelName": "csharp"
    }
   },
   "outputs": [],
   "source": [
    "var github_endpoint = Environment.GetEnvironmentVariable(\"GITHUB_ENDPOINT\") ?? throw new InvalidOperationException(\"GITHUB_ENDPOINT is not set.\");\n",
    "var github_model_id = Environment.GetEnvironmentVariable(\"GITHUB_MODEL_ID\") ?? \"gpt-4o-mini\";\n",
    "var github_token = Environment.GetEnvironmentVariable(\"GITHUB_TOKEN\") ?? throw new InvalidOperationException(\"GITHUB_TOKEN is not set.\");"
   ]
  },
  {
   "cell_type": "code",
   "execution_count": 11,
   "id": "c36c73e1",
   "metadata": {
    "language_info": {
     "name": "polyglot-notebook"
    },
    "polyglot_notebook": {
     "kernelName": "csharp"
    }
   },
   "outputs": [],
   "source": [
    "var openAIOptions = new OpenAIClientOptions()\n",
    "{\n",
    "    Endpoint= new Uri(github_endpoint)\n",
    "};"
   ]
  },
  {
   "cell_type": "code",
   "execution_count": 12,
   "id": "6d94ff10",
   "metadata": {
    "language_info": {
     "name": "polyglot-notebook"
    },
    "polyglot_notebook": {
     "kernelName": "csharp"
    }
   },
   "outputs": [],
   "source": [
    "\n",
    "var openAIClient = new OpenAIClient(new ApiKeyCredential(github_token), openAIOptions);"
   ]
  },
  {
   "cell_type": "code",
   "execution_count": 13,
   "id": "fe32b57a",
   "metadata": {
    "language_info": {
     "name": "polyglot-notebook"
    },
    "polyglot_notebook": {
     "kernelName": "csharp"
    }
   },
   "outputs": [],
   "source": [
    "AIAgent agent = new OpenAIClient(new ApiKeyCredential(github_token), openAIOptions).GetChatClient(github_model_id).CreateAIAgent(\n",
    "    instructions:\"You are a helpful AI Agent that can help plan vacations for customers at random destinations\", tools: [AIFunctionFactory.Create((Func<string>)GetRandomDestination)]);"
   ]
  },
  {
   "cell_type": "code",
   "execution_count": 14,
   "metadata": {
    "language_info": {
     "name": "polyglot-notebook"
    },
    "polyglot_notebook": {
     "kernelName": "csharp"
    }
   },
   "outputs": [],
   "source": [
    "AgentThread thread = agent.GetNewThread();"
   ]
  },
  {
   "cell_type": "code",
   "execution_count": 15,
   "id": "5e455aff",
   "metadata": {
    "language_info": {
     "name": "polyglot-notebook"
    },
    "polyglot_notebook": {
     "kernelName": "csharp"
    }
   },
   "outputs": [
    {
     "name": "stdout",
     "output_type": "stream",
     "text": [
      "How about a day trip to Vancouver, Canada? Here's a suggested itinerary for your day:\n",
      "\n",
      "### Morning\n",
      "- **Breakfast at a Local Cafe**: Start your day with a delicious breakfast at a cozy café like **Jam Cafe** or **Cafe Medina**.\n",
      "- **Stanley Park**: After breakfast, head to Stanley Park. You can rent a bike and ride along the seawall, enjoying beautiful views of the city and the water.\n",
      "\n",
      "### Afternoon\n",
      "- **Lunch in Gastown**: Make your way to Gastown for lunch. Try a local favorite like **The Flying Pig** or **Noodle Box**.\n",
      "- **Explore Gastown**: After lunch, walk around Gastown to see the iconic Steam Clock and browse the unique shops and boutiques.\n",
      "\n",
      "### Late Afternoon\n",
      "- **Granville Island**: Visit Granville Island, where you can stroll through the public market, sample local foods, and enjoy artisan shops.\n",
      "- **False Creek**: Take a walk along False Creek and enjoy the waterfront views.\n",
      "\n",
      "### Evening\n",
      "- **Dinner at a Waterfront Restaurant**: End your day with dinner at a waterfront restaurant like **The Boathouse** or **Lift Bar Grill View** for great food and a view of the sunset.\n",
      "- **Optional: Sunset Cruise**: If you're up for it, consider taking a sunset cruise for a different perspective of the city.\n",
      "\n",
      "### Tips\n",
      "- Make sure to check the weather beforehand!\n",
      "- Consider public transport or ride-sharing to navigate the city easily.\n",
      "\n",
      "Enjoy your day trip to Vancouver!\r\n"
     ]
    }
   ],
   "source": [
    "Console.WriteLine(await agent.RunAsync(\"Plan me a day trip\",thread));"
   ]
  },
  {
   "cell_type": "code",
   "execution_count": 16,
   "id": "592ae1bb",
   "metadata": {
    "language_info": {
     "name": "polyglot-notebook"
    },
    "polyglot_notebook": {
     "kernelName": "csharp"
    }
   },
   "outputs": [
    {
     "name": "stdout",
     "output_type": "stream",
     "text": [
      "How about a vacation to New York City, USA? Here's a suggested itinerary for your trip:\n",
      "\n",
      "### Day 1: Arrival in New York City\n",
      "- **Check-In**: Arrive and check in to your hotel.\n",
      "- **Central Park**: Take a leisurely stroll through Central Park. Consider renting a bike or taking a carriage ride.\n",
      "- **Evening**: Enjoy dinner at a classic NYC restaurant, such as **Katz's Delicatessen** or **Carbone**.\n",
      "\n",
      "### Day 2: Iconic Landmarks\n",
      "- **Morning**: Breakfast at a local diner.\n",
      "- **Statue of Liberty & Ellis Island**: Take a ferry to visit these iconic landmarks.\n",
      "- **Afternoon**: Explore Wall Street and visit the 9/11 Memorial & Museum.\n",
      "- **Evening**: Dinner in the Financial District followed by a walk across the Brooklyn Bridge at sunset.\n",
      "\n",
      "### Day 3: Culture and Arts\n",
      "- **Morning**: Visit The Metropolitan Museum of Art (The Met) and spend a few hours exploring its vast collection.\n",
      "- **Afternoon**: Head to Times Square for lunch and the buzz of the city.\n",
      "- **Broadway Show**: Catch a Broadway show in the evening. Be sure to book tickets in advance!\n",
      "\n",
      "### Day 4: Explore Neighborhoods\n",
      "- **Morning**: Head to SoHo for brunch and shopping in its chic boutiques.\n",
      "- **Afternoon**: Explore Greenwich Village, known for its bohemian atmosphere and history.\n",
      "- **Evening**: Enjoy dinner in the West Village, perhaps at **Buvette** or **Minetta Tavern**.\n",
      "\n",
      "### Day 5: Departure\n",
      "- **Last-minute Shopping**: Spend your last morning shopping at Fifth Avenue or head to Chelsea Market for food and souvenirs.\n",
      "- **Check-Out**: Depart for your journey home.\n",
      "\n",
      "### Tips\n",
      "- Utilize the subway for efficient travel around the city.\n",
      "- Make reservations for popular restaurants and attractions ahead of time!\n",
      "\n",
      "Enjoy your trip to New York City!\r\n"
     ]
    }
   ],
   "source": [
    "Console.WriteLine(await agent.RunAsync(\"I don't like that destination. Plan me another vacation.\",thread));"
   ]
  },
  {
   "cell_type": "markdown",
   "metadata": {},
   "source": [
    "\n---\n\n**سلب مسئولیت**:  \nاین سند با استفاده از سرویس ترجمه هوش مصنوعی [Co-op Translator](https://github.com/Azure/co-op-translator) ترجمه شده است. در حالی که ما تلاش می‌کنیم ترجمه‌ها دقیق باشند، لطفاً توجه داشته باشید که ترجمه‌های خودکار ممکن است شامل خطاها یا نادرستی‌ها باشند. سند اصلی به زبان اصلی آن باید به عنوان منبع معتبر در نظر گرفته شود. برای اطلاعات حساس، توصیه می‌شود از ترجمه انسانی حرفه‌ای استفاده کنید. ما هیچ مسئولیتی در قبال سوء تفاهم‌ها یا تفسیرهای نادرست ناشی از استفاده از این ترجمه نداریم.\n"
   ]
  }
 ],
 "metadata": {
  "kernelspec": {
   "display_name": ".NET (C#)",
   "language": "C#",
   "name": ".net-csharp"
  },
  "language_info": {
   "name": "polyglot-notebook"
  },
  "polyglot_notebook": {
   "kernelInfo": {
    "defaultKernelName": "csharp",
    "items": [
     {
      "aliases": [],
      "name": "csharp"
     }
    ]
   }
  },
  "coopTranslator": {
   "original_hash": "070c1d8985b3dc6e6d977f3e891037f1",
   "translation_date": "2025-10-01T22:14:02+00:00",
   "source_file": "03-agentic-design-patterns/code_samples/03-dotnet-agent-framework.ipynb",
   "language_code": "fa"
  }
 },
 "nbformat": 4,
 "nbformat_minor": 5
}