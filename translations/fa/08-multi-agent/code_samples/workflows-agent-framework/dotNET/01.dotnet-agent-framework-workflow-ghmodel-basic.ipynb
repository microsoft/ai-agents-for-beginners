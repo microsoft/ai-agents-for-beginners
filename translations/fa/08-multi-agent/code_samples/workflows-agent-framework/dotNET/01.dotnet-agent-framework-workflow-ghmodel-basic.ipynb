{
 "cells": [
  {
   "cell_type": "markdown",
   "id": "187780ba",
   "metadata": {},
   "source": [
    "# 🔄 جریان‌های کاری پایه‌ای عامل‌ها با مدل‌های GitHub (.NET)\n",
    "\n",
    "## 📋 آموزش هماهنگی جریان کاری\n",
    "\n",
    "این دفترچه نحوه ساخت جریان‌های کاری پیچیده **عامل‌ها** را با استفاده از چارچوب عامل مایکروسافت برای .NET و مدل‌های GitHub نشان می‌دهد. شما یاد خواهید گرفت که فرآیندهای چندمرحله‌ای کسب‌وکار ایجاد کنید که در آن عامل‌های هوش مصنوعی با همکاری یکدیگر وظایف پیچیده را از طریق الگوهای هماهنگی ساختاری انجام دهند.\n",
    "\n",
    "## 🎯 اهداف یادگیری\n",
    "\n",
    "### 🏗️ **مبانی معماری جریان کاری**\n",
    "- **سازنده جریان کاری**: طراحی و هماهنگی فرآیندهای پیچیده چندمرحله‌ای هوش مصنوعی\n",
    "- **هماهنگی عامل‌ها**: هماهنگی چندین عامل تخصصی در جریان‌های کاری\n",
    "- **ادغام مدل‌های GitHub**: استفاده از سرویس استنتاج مدل‌های هوش مصنوعی GitHub در جریان‌های کاری\n",
    "- **طراحی بصری جریان کاری**: ایجاد و تجسم ساختارهای جریان کاری برای درک بهتر\n",
    "\n",
    "### 🔄 **الگوهای هماهنگی فرآیند**\n",
    "- **پردازش ترتیبی**: زنجیره‌ای کردن وظایف عامل‌ها به ترتیب منطقی\n",
    "- **مدیریت وضعیت**: حفظ زمینه و جریان داده در مراحل مختلف جریان کاری\n",
    "- **مدیریت خطا**: پیاده‌سازی بازیابی خطا و مقاومت جریان کاری\n",
    "- **بهینه‌سازی عملکرد**: طراحی جریان‌های کاری کارآمد برای عملیات در مقیاس سازمانی\n",
    "\n",
    "### 🏢 **کاربردهای جریان کاری سازمانی**\n",
    "- **اتوماسیون فرآیندهای کسب‌وکار**: خودکارسازی جریان‌های کاری پیچیده سازمانی\n",
    "- **خط تولید محتوا**: جریان‌های کاری ویرایشی با مراحل بررسی و تأیید\n",
    "- **اتوماسیون خدمات مشتری**: حل چندمرحله‌ای درخواست‌های مشتری\n",
    "- **جریان‌های کاری پردازش داده**: جریان‌های ETL با تبدیل‌های مبتنی بر هوش مصنوعی\n",
    "\n",
    "## ⚙️ پیش‌نیازها و تنظیمات\n",
    "\n",
    "### 📦 **بسته‌های ضروری NuGet**\n",
    "\n",
    "این نمایش جریان کاری از چندین بسته کلیدی .NET استفاده می‌کند:\n",
    "\n",
    "```xml\n",
    "<!-- Core AI Framework -->\n",
    "<PackageReference Include=\"Microsoft.Extensions.AI\" Version=\"9.9.0\" />\n",
    "\n",
    "<!-- Agent Framework (Local Development) -->\n",
    "<!-- Microsoft.Agents.AI.dll - Core agent abstractions -->\n",
    "<!-- Microsoft.Agents.AI.OpenAI.dll - OpenAI/GitHub Models integration -->\n",
    "\n",
    "<!-- Configuration and Environment -->\n",
    "<PackageReference Include=\"DotNetEnv\" Version=\"3.1.1\" />\n",
    "```\n",
    "\n",
    "### 🔑 **پیکربندی مدل‌های GitHub**\n",
    "\n",
    "**تنظیم محیط (.env file):**\n",
    "```env\n",
    "GITHUB_TOKEN=your_github_personal_access_token\n",
    "GITHUB_ENDPOINT=https://models.inference.ai.azure.com\n",
    "GITHUB_MODEL_ID=gpt-4o-mini\n",
    "```\n",
    "\n",
    "**دسترسی به مدل‌های GitHub:**\n",
    "1. ثبت‌نام در مدل‌های GitHub (در حال حاضر در پیش‌نمایش)\n",
    "2. تولید یک توکن دسترسی شخصی با مجوزهای دسترسی به مدل\n",
    "3. پیکربندی متغیرهای محیطی همان‌طور که در بالا نشان داده شده است\n",
    "\n",
    "### 🏗️ **نمای کلی معماری جریان کاری**\n",
    "\n",
    "```mermaid\n",
    "graph TD\n",
    "    A[Workflow Builder] --> B[Agent Registry]\n",
    "    B --> C[Workflow Execution Engine]\n",
    "    C --> D[Agent 1: Content Generator]\n",
    "    C --> E[Agent 2: Content Reviewer] \n",
    "    D --> F[Workflow Results]\n",
    "    E --> F\n",
    "    G[GitHub Models API] --> D\n",
    "    G --> E\n",
    "```\n",
    "\n",
    "**اجزای کلیدی:**\n",
    "- **WorkflowBuilder**: موتور اصلی هماهنگی برای طراحی جریان‌های کاری\n",
    "- **AIAgent**: عامل‌های تخصصی فردی با قابلیت‌های خاص\n",
    "- **GitHub Models Client**: ادغام سرویس استنتاج مدل‌های هوش مصنوعی\n",
    "- **Execution Context**: مدیریت وضعیت و جریان داده بین مراحل جریان کاری\n",
    "\n",
    "## 🎨 **الگوهای طراحی جریان کاری سازمانی**\n",
    "\n",
    "### 📝 **جریان کاری تولید محتوا**\n",
    "```\n",
    "User Request → Content Generation → Quality Review → Final Output\n",
    "```\n",
    "\n",
    "### 🔍 **خط پردازش اسناد**\n",
    "```\n",
    "Document Input → Analysis → Extraction → Validation → Structured Output\n",
    "```\n",
    "\n",
    "### 💼 **جریان کاری هوش تجاری**\n",
    "```\n",
    "Data Collection → Processing → Analysis → Report Generation → Distribution\n",
    "```\n",
    "\n",
    "### 🤝 **اتوماسیون خدمات مشتری**\n",
    "```\n",
    "Customer Inquiry → Classification → Processing → Response Generation → Follow-up\n",
    "```\n",
    "\n",
    "## 🏢 **مزایای سازمانی**\n",
    "\n",
    "### 🎯 **قابلیت اطمینان و مقیاس‌پذیری**\n",
    "- **اجرای تعیین‌کننده**: نتایج جریان کاری ثابت و قابل تکرار\n",
    "- **بازیابی خطا**: مدیریت مناسب شکست‌ها در هر مرحله از جریان کاری\n",
    "- **نظارت بر عملکرد**: ردیابی معیارهای اجرا و فرصت‌های بهینه‌سازی\n",
    "- **مدیریت منابع**: تخصیص و استفاده کارآمد از منابع مدل‌های هوش مصنوعی\n",
    "\n",
    "### 🔒 **امنیت و انطباق**\n",
    "- **احراز هویت امن**: احراز هویت مبتنی بر توکن GitHub برای دسترسی به API\n",
    "- **ردیابی حسابرسی**: ثبت کامل اجرای جریان کاری و نقاط تصمیم‌گیری\n",
    "- **کنترل دسترسی**: مجوزهای دقیق برای اجرای جریان کاری و نظارت\n",
    "- **حریم خصوصی داده‌ها**: مدیریت امن اطلاعات حساس در طول جریان‌های کاری\n",
    "\n",
    "### 📊 **مشاهده‌پذیری و مدیریت**\n",
    "- **طراحی بصری جریان کاری**: نمایش واضح جریان‌های فرآیند و وابستگی‌ها\n",
    "- **نظارت بر اجرا**: ردیابی لحظه‌ای پیشرفت و عملکرد جریان کاری\n",
    "- **گزارش خطا**: تحلیل دقیق خطاها و قابلیت‌های اشکال‌زدایی\n",
    "- **تحلیل عملکرد**: معیارهایی برای بهینه‌سازی و برنامه‌ریزی ظرفیت\n",
    "\n",
    "بیایید اولین جریان کاری هوش مصنوعی آماده سازمان خود را بسازیم! 🚀\n"
   ]
  },
  {
   "cell_type": "code",
   "execution_count": 1,
   "id": "4152a00b",
   "metadata": {
    "language_info": {
     "name": "polyglot-notebook"
    },
    "polyglot_notebook": {
     "kernelName": "csharp"
    }
   },
   "outputs": [
    {
     "data": {
      "text/html": [
       "<div><div></div><div></div><div><strong>Installed Packages</strong><ul><li><span>Microsoft.Extensions.AI, 9.9.1</span></li></ul></div></div>"
      ]
     },
     "metadata": {},
     "output_type": "display_data"
    }
   ],
   "source": [
    "#r \"nuget: Microsoft.Extensions.AI, 9.9.1\""
   ]
  },
  {
   "cell_type": "code",
   "execution_count": 2,
   "id": "b431c4dc",
   "metadata": {
    "language_info": {
     "name": "polyglot-notebook"
    },
    "polyglot_notebook": {
     "kernelName": "csharp"
    }
   },
   "outputs": [
    {
     "data": {
      "text/html": [
       "<div><div></div><div></div><div><strong>Installed Packages</strong><ul><li><span>System.ClientModel, 1.6.1</span></li></ul></div></div>"
      ]
     },
     "metadata": {},
     "output_type": "display_data"
    }
   ],
   "source": [
    "#r \"nuget: System.ClientModel, 1.6.1.0\""
   ]
  },
  {
   "cell_type": "code",
   "execution_count": 3,
   "id": "ba48a4c7",
   "metadata": {
    "language_info": {
     "name": "polyglot-notebook"
    },
    "polyglot_notebook": {
     "kernelName": "csharp"
    }
   },
   "outputs": [
    {
     "data": {
      "text/html": [
       "<div><div></div><div></div><div><strong>Installed Packages</strong><ul><li><span>Azure.Identity, 1.15.0</span></li><li><span>OpenTelemetry.Api, 1.0.1</span></li><li><span>System.Linq.Async, 6.0.3</span></li></ul></div></div>"
      ]
     },
     "metadata": {},
     "output_type": "display_data"
    }
   ],
   "source": [
    "#r \"nuget: Azure.Identity, 1.15.0\"\n",
    "#r \"nuget: System.Linq.Async, 6.0.3\"\n",
    "#r \"nuget: OpenTelemetry.Api, 1.0.0\"\n",
    "#r \"nuget: OpenTelemetry.Api, 1.0.0\""
   ]
  },
  {
   "cell_type": "code",
   "execution_count": 4,
   "metadata": {
    "language_info": {
     "name": "polyglot-notebook"
    },
    "polyglot_notebook": {
     "kernelName": "csharp"
    }
   },
   "outputs": [],
   "source": []
  },
  {
   "cell_type": "code",
   "execution_count": 5,
   "id": "ed55fec8",
   "metadata": {
    "language_info": {
     "name": "polyglot-notebook"
    },
    "polyglot_notebook": {
     "kernelName": "csharp"
    }
   },
   "outputs": [
    {
     "data": {
      "text/html": [
       "<div><div></div><div></div><div><strong>Installed Packages</strong><ul><li><span>Microsoft.Agents.AI.Workflows, 1.0.0-preview.251001.3</span></li></ul></div></div>"
      ]
     },
     "metadata": {},
     "output_type": "display_data"
    }
   ],
   "source": [
    "\n",
    "#r \"nuget: Microsoft.Agents.AI.Workflows, 1.0.0-preview.251001.3\""
   ]
  },
  {
   "cell_type": "code",
   "execution_count": null,
   "id": "afaaa7d4",
   "metadata": {
    "language_info": {
     "name": "polyglot-notebook"
    },
    "polyglot_notebook": {
     "kernelName": "csharp"
    }
   },
   "outputs": [
    {
     "data": {
      "text/html": [
       "<div><div></div><div></div><div><strong>Installed Packages</strong><ul><li><span>Microsoft.Agents.AI.OpenAI, 1.0.0-preview.251001.2</span></li></ul></div></div>"
      ]
     },
     "metadata": {},
     "output_type": "display_data"
    }
   ],
   "source": [
    "\n",
    "#r \"nuget: Microsoft.Agents.AI.OpenAI, 1.0.0-preview.251001.3\""
   ]
  },
  {
   "cell_type": "code",
   "execution_count": 7,
   "id": "a7399950",
   "metadata": {
    "language_info": {
     "name": "polyglot-notebook"
    },
    "polyglot_notebook": {
     "kernelName": "csharp"
    }
   },
   "outputs": [
    {
     "data": {
      "text/html": [
       "<div><div></div><div></div><div><strong>Installed Packages</strong><ul><li><span>DotNetEnv, 3.1.1</span></li></ul></div></div>"
      ]
     },
     "metadata": {},
     "output_type": "display_data"
    }
   ],
   "source": [
    "#r \"nuget: DotNetEnv, 3.1.1\""
   ]
  },
  {
   "cell_type": "code",
   "execution_count": 8,
   "id": "1df9ac4c",
   "metadata": {
    "language_info": {
     "name": "polyglot-notebook"
    },
    "polyglot_notebook": {
     "kernelName": "csharp"
    }
   },
   "outputs": [],
   "source": [
    "// #r \"nuget: Microsoft.Extensions.AI.OpenAI, 9.9.0-preview.1.25458.4\""
   ]
  },
  {
   "cell_type": "code",
   "execution_count": 9,
   "id": "cf6ee6ed",
   "metadata": {
    "language_info": {
     "name": "polyglot-notebook"
    },
    "polyglot_notebook": {
     "kernelName": "csharp"
    }
   },
   "outputs": [],
   "source": [
    "using System;\n",
    "using System.ComponentModel;\n",
    "using System.ClientModel;\n",
    "using OpenAI;\n",
    "using Azure.Identity;\n",
    "using Microsoft.Extensions.AI;\n",
    "using Microsoft.Agents.AI;\n",
    "using Microsoft.Agents.AI.Workflows;"
   ]
  },
  {
   "cell_type": "code",
   "execution_count": 10,
   "id": "b4fc2d1b",
   "metadata": {
    "language_info": {
     "name": "polyglot-notebook"
    },
    "polyglot_notebook": {
     "kernelName": "csharp"
    }
   },
   "outputs": [],
   "source": [
    " using DotNetEnv;"
   ]
  },
  {
   "cell_type": "code",
   "execution_count": 11,
   "id": "0e7f69f7",
   "metadata": {
    "language_info": {
     "name": "polyglot-notebook"
    },
    "polyglot_notebook": {
     "kernelName": "csharp"
    }
   },
   "outputs": [],
   "source": [
    "Env.Load(\"../../../.env\");"
   ]
  },
  {
   "cell_type": "code",
   "execution_count": 12,
   "id": "2b62a30a",
   "metadata": {
    "language_info": {
     "name": "polyglot-notebook"
    },
    "polyglot_notebook": {
     "kernelName": "csharp"
    }
   },
   "outputs": [],
   "source": [
    "\n",
    "var github_endpoint = Environment.GetEnvironmentVariable(\"GITHUB_ENDPOINT\") ?? throw new InvalidOperationException(\"GITHUB_ENDPOINT is not set.\");\n",
    "var github_model_id = Environment.GetEnvironmentVariable(\"GITHUB_MODEL_ID\") ?? \"gpt-4o-mini\";\n",
    "var github_token = Environment.GetEnvironmentVariable(\"GITHUB_TOKEN\") ?? throw new InvalidOperationException(\"GITHUB_TOKEN is not set.\");"
   ]
  },
  {
   "cell_type": "code",
   "execution_count": 13,
   "id": "bb2a8730",
   "metadata": {
    "language_info": {
     "name": "polyglot-notebook"
    },
    "polyglot_notebook": {
     "kernelName": "csharp"
    }
   },
   "outputs": [],
   "source": [
    "var openAIOptions = new OpenAIClientOptions()\n",
    "{\n",
    "    Endpoint = new Uri(github_endpoint)\n",
    "};"
   ]
  },
  {
   "cell_type": "code",
   "execution_count": 14,
   "id": "c08bd38f",
   "metadata": {
    "language_info": {
     "name": "polyglot-notebook"
    },
    "polyglot_notebook": {
     "kernelName": "csharp"
    }
   },
   "outputs": [],
   "source": [
    "var openAIClient = new OpenAIClient(new ApiKeyCredential(github_token), openAIOptions);"
   ]
  },
  {
   "cell_type": "code",
   "execution_count": 15,
   "id": "408e8b23",
   "metadata": {
    "language_info": {
     "name": "polyglot-notebook"
    },
    "polyglot_notebook": {
     "kernelName": "csharp"
    }
   },
   "outputs": [],
   "source": [
    "const string ReviewerAgentName = \"Concierge\";\n",
    "const string ReviewerAgentInstructions = @\"\n",
    "    You are an are hotel concierge who has opinions about providing the most local and authentic experiences for travelers.\n",
    "    The goal is to determine if the front desk travel agent has recommended the best non-touristy experience for a traveler.\n",
    "    If so, state that it is approved.\n",
    "    If not, provide insight on how to refine the recommendation without using a specific example. \";"
   ]
  },
  {
   "cell_type": "code",
   "execution_count": 16,
   "id": "0a1ccf3e",
   "metadata": {
    "language_info": {
     "name": "polyglot-notebook"
    },
    "polyglot_notebook": {
     "kernelName": "csharp"
    }
   },
   "outputs": [],
   "source": [
    "const string FrontDeskAgentName = \"FrontDesk\";\n",
    "const string FrontDeskAgentInstructions = @\"\"\"\n",
    "    You are a Front Desk Travel Agent with ten years of experience and are known for brevity as you deal with many customers.\n",
    "    The goal is to provide the best activities and locations for a traveler to visit.\n",
    "    Only provide a single recommendation per response.\n",
    "    You're laser focused on the goal at hand.\n",
    "    Don't waste time with chit chat.\n",
    "    Consider suggestions when refining an idea.\n",
    "    \"\"\";"
   ]
  },
  {
   "cell_type": "code",
   "execution_count": 17,
   "id": "b9b975c6",
   "metadata": {
    "language_info": {
     "name": "polyglot-notebook"
    },
    "polyglot_notebook": {
     "kernelName": "csharp"
    }
   },
   "outputs": [],
   "source": [
    "AIAgent reviewerAgent = openAIClient.GetChatClient(github_model_id).CreateAIAgent(\n",
    "    name:ReviewerAgentName,instructions:ReviewerAgentInstructions);\n",
    "AIAgent frontDeskAgent  = openAIClient.GetChatClient(github_model_id).CreateAIAgent(\n",
    "    name:FrontDeskAgentName,instructions:FrontDeskAgentInstructions);"
   ]
  },
  {
   "cell_type": "code",
   "execution_count": 18,
   "id": "5edccde0",
   "metadata": {
    "language_info": {
     "name": "polyglot-notebook"
    },
    "polyglot_notebook": {
     "kernelName": "csharp"
    }
   },
   "outputs": [],
   "source": [
    "var workflow = new WorkflowBuilder(frontDeskAgent)\n",
    "            .AddEdge(frontDeskAgent, reviewerAgent)\n",
    "            .Build();"
   ]
  },
  {
   "cell_type": "code",
   "execution_count": 19,
   "id": "1fb93407",
   "metadata": {
    "language_info": {
     "name": "polyglot-notebook"
    },
    "polyglot_notebook": {
     "kernelName": "csharp"
    }
   },
   "outputs": [],
   "source": [
    "ChatMessage userMessage = new ChatMessage(ChatRole.User, [\n",
    "\tnew TextContent(\"I would like to go to Paris.\") \n",
    "]);"
   ]
  },
  {
   "cell_type": "code",
   "execution_count": 20,
   "id": "ec9afabc",
   "metadata": {
    "language_info": {
     "name": "polyglot-notebook"
    },
    "polyglot_notebook": {
     "kernelName": "csharp"
    }
   },
   "outputs": [],
   "source": [
    "StreamingRun run = await InProcessExecution.StreamAsync(workflow, userMessage);"
   ]
  },
  {
   "cell_type": "code",
   "execution_count": 21,
   "id": "6bea90c0",
   "metadata": {
    "language_info": {
     "name": "polyglot-notebook"
    },
    "polyglot_notebook": {
     "kernelName": "csharp"
    }
   },
   "outputs": [
    {
     "name": "stdout",
     "output_type": "stream",
     "text": [
      "Visit the Louvre Museum. It's a must-see for art enthusiasts and history lovers.That recommendation is quite popular and likely to attract many tourists. To refine it for a more local and authentic experience, consider suggesting an alternative that focuses on smaller, lesser-known art venues or galleries. Look for places where local artists exhibit or community spaces that host cultural events. This approach allows travelers to connect with the local art scene more intimately, away from the typical tourist routes.\r\n"
     ]
    }
   ],
   "source": [
    "await run.TrySendMessageAsync(new TurnToken(emitEvents: true));\n",
    "string id=\"\";\n",
    "string messageData=\"\";\n",
    "await foreach (WorkflowEvent evt in run.WatchStreamAsync().ConfigureAwait(false))\n",
    "{\n",
    "    if (evt is AgentRunUpdateEvent executorComplete)\n",
    "    {\n",
    "        if(id==\"\")\n",
    "        {\n",
    "            id=executorComplete.ExecutorId;\n",
    "        }\n",
    "        if(id==executorComplete.ExecutorId)\n",
    "        {\n",
    "            messageData+=executorComplete.Data.ToString();\n",
    "        }\n",
    "        else\n",
    "        {\n",
    "            id=executorComplete.ExecutorId;\n",
    "        }\n",
    "        // Console.WriteLine($\"{executorComplete.ExecutorId}: {executorComplete.Data}\");\n",
    "    }\n",
    "}\n",
    "\n",
    "Console.WriteLine(messageData);"
   ]
  },
  {
   "cell_type": "markdown",
   "metadata": {},
   "source": [
    "\n---\n\n**سلب مسئولیت**:  \nاین سند با استفاده از سرویس ترجمه هوش مصنوعی [Co-op Translator](https://github.com/Azure/co-op-translator) ترجمه شده است. در حالی که ما تلاش می‌کنیم دقت را حفظ کنیم، لطفاً توجه داشته باشید که ترجمه‌های خودکار ممکن است شامل خطاها یا نادرستی‌ها باشند. سند اصلی به زبان اصلی آن باید به عنوان منبع معتبر در نظر گرفته شود. برای اطلاعات حساس، ترجمه حرفه‌ای انسانی توصیه می‌شود. ما مسئولیتی در قبال سوء تفاهم‌ها یا تفسیرهای نادرست ناشی از استفاده از این ترجمه نداریم.\n"
   ]
  }
 ],
 "metadata": {
  "kernelspec": {
   "display_name": ".NET (C#)",
   "language": "C#",
   "name": ".net-csharp"
  },
  "language_info": {
   "name": "polyglot-notebook"
  },
  "polyglot_notebook": {
   "kernelInfo": {
    "defaultKernelName": "csharp",
    "items": [
     {
      "aliases": [],
      "name": "csharp"
     }
    ]
   }
  },
  "coopTranslator": {
   "original_hash": "0014f87b9c2a0eddf09e8de1bfd31b20",
   "translation_date": "2025-10-01T22:03:32+00:00",
   "source_file": "08-multi-agent/code_samples/workflows-agent-framework/dotNET/01.dotnet-agent-framework-workflow-ghmodel-basic.ipynb",
   "language_code": "fa"
  }
 },
 "nbformat": 4,
 "nbformat_minor": 5
}