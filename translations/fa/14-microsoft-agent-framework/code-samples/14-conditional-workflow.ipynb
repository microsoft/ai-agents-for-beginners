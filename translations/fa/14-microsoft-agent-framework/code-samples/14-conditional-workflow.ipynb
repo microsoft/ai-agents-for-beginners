{
 "cells": [
  {
   "cell_type": "code",
   "execution_count": 1,
   "id": "4b2cf5f5",
   "metadata": {},
   "outputs": [
    {
     "name": "stdout",
     "output_type": "stream",
     "text": [
      "✅ All imports successful!\n"
     ]
    }
   ],
   "source": [
    "import asyncio\n",
    "import json\n",
    "import os\n",
    "from typing import Annotated, Any, Never\n",
    "\n",
    "from agent_framework import (\n",
    "    AgentExecutor,\n",
    "    AgentExecutorRequest,\n",
    "    AgentExecutorResponse,\n",
    "    ChatMessage,\n",
    "    Role,\n",
    "    WorkflowBuilder,\n",
    "    WorkflowContext,\n",
    "    ai_function,\n",
    "    executor,\n",
    ")\n",
    "\n",
    "# 🤖 GitHub Models or OpenAI client integration\n",
    "from agent_framework.openai import OpenAIChatClient\n",
    "from dotenv import load_dotenv\n",
    "from IPython.display import HTML, display\n",
    "from pydantic import BaseModel\n",
    "\n",
    "print(\"✅ All imports successful!\")"
   ]
  },
  {
   "cell_type": "markdown",
   "id": "001c224e",
   "metadata": {},
   "source": [
    "## مرحله ۱: تعریف مدل‌های Pydantic برای خروجی‌های ساختاریافته\n",
    "\n",
    "این مدل‌ها **طرح**ی را تعریف می‌کنند که عوامل بازمی‌گردانند. استفاده از `response_format` با Pydantic تضمین می‌کند:\n",
    "- ✅ استخراج داده ایمن از نظر نوع\n",
    "- ✅ اعتبارسنجی خودکار\n",
    "- ✅ بدون خطاهای تجزیه از پاسخ‌های متن آزاد\n",
    "- ✅ مسیریابی آسان شرطی بر اساس فیلدها\n"
   ]
  },
  {
   "cell_type": "code",
   "execution_count": 2,
   "id": "6c2ef582",
   "metadata": {},
   "outputs": [
    {
     "name": "stdout",
     "output_type": "stream",
     "text": [
      "✅ Pydantic models defined:\n",
      "   - BookingCheckResult (availability check)\n",
      "   - AlternativeResult (alternative suggestion)\n",
      "   - BookingConfirmation (booking confirmation)\n"
     ]
    }
   ],
   "source": [
    "class BookingCheckResult(BaseModel):\n",
    "    \"\"\"Result from checking hotel availability at a destination.\"\"\"\n",
    "\n",
    "    destination: str\n",
    "    has_availability: bool\n",
    "    message: str\n",
    "\n",
    "\n",
    "class AlternativeResult(BaseModel):\n",
    "    \"\"\"Suggested alternative destination when no rooms available.\"\"\"\n",
    "\n",
    "    alternative_destination: str\n",
    "    reason: str\n",
    "\n",
    "\n",
    "class BookingConfirmation(BaseModel):\n",
    "    \"\"\"Booking suggestion when rooms are available.\"\"\"\n",
    "\n",
    "    destination: str\n",
    "    action: str\n",
    "    message: str\n",
    "\n",
    "\n",
    "print(\"✅ Pydantic models defined:\")\n",
    "print(\"   - BookingCheckResult (availability check)\")\n",
    "print(\"   - AlternativeResult (alternative suggestion)\")\n",
    "print(\"   - BookingConfirmation (booking confirmation)\")"
   ]
  },
  {
   "cell_type": "markdown",
   "id": "48423ecc",
   "metadata": {},
   "source": [
    "## مرحله ۲: ایجاد ابزار رزرو هتل\n",
    "\n",
    "این ابزار همان چیزی است که **availability_agent** برای بررسی موجود بودن اتاق‌ها فراخوانی می‌کند. ما از تزئین‌کننده `@ai_function` استفاده می‌کنیم تا:\n",
    "- یک تابع پایتون را به ابزاری قابل فراخوانی توسط هوش مصنوعی تبدیل کنیم\n",
    "- به‌طور خودکار JSON schema برای LLM تولید کنیم\n",
    "- اعتبارسنجی پارامترها را مدیریت کنیم\n",
    "- امکان فراخوانی خودکار توسط عوامل را فراهم کنیم\n",
    "\n",
    "برای این دمو:\n",
    "- **استکهلم، سیاتل، توکیو، لندن، آمستردام** → اتاق موجود است ✅\n",
    "- **تمام شهرهای دیگر** → اتاق موجود نیست ❌\n"
   ]
  },
  {
   "cell_type": "code",
   "execution_count": 3,
   "id": "aad7e7ec",
   "metadata": {},
   "outputs": [
    {
     "name": "stdout",
     "output_type": "stream",
     "text": [
      "✅ hotel_booking tool created with @ai_function decorator\n"
     ]
    }
   ],
   "source": [
    "@ai_function(description=\"Check hotel room availability for a destination city\")\n",
    "def hotel_booking(destination: Annotated[str, \"The destination city to check for hotel rooms\"]) -> str:\n",
    "    \"\"\"\n",
    "    Simulates checking hotel room availability.\n",
    "    \n",
    "    Returns JSON string with availability status.\n",
    "    \"\"\"\n",
    "    display(\n",
    "        HTML(f\"\"\"\n",
    "        <div style='padding: 15px; background: #e3f2fd; border-left: 4px solid #2196f3; border-radius: 4px; margin: 10px 0;'>\n",
    "            <strong>🔍 Tool Invoked:</strong> hotel_booking(\"{destination}\")\n",
    "        </div>\n",
    "    \"\"\")\n",
    "    )\n",
    "\n",
    "    # Simulate availability check\n",
    "    cities_with_rooms = [\"stockholm\", \"seattle\", \"tokyo\", \"london\", \"amsterdam\"]\n",
    "    has_rooms = destination.lower() in cities_with_rooms\n",
    "\n",
    "    result = {\"has_availability\": has_rooms, \"destination\": destination}\n",
    "\n",
    "    return json.dumps(result)\n",
    "\n",
    "\n",
    "print(\"✅ hotel_booking tool created with @ai_function decorator\")"
   ]
  },
  {
   "cell_type": "markdown",
   "id": "134c54b0",
   "metadata": {},
   "source": [
    "## مرحله ۳: تعریف توابع شرطی برای مسیریابی\n",
    "\n",
    "این توابع پاسخ عامل را بررسی کرده و تعیین می‌کنند که کدام مسیر در جریان کاری دنبال شود.\n",
    "\n",
    "**الگوی کلیدی:**\n",
    "1. بررسی کنید که آیا پیام `AgentExecutorResponse` است\n",
    "2. خروجی ساختاریافته (مدل Pydantic) را تجزیه کنید\n",
    "3. مقدار `True` یا `False` را برای کنترل مسیریابی بازگردانید\n",
    "\n",
    "جریان کاری این شرایط را روی **لبه‌ها** ارزیابی می‌کند تا تصمیم بگیرد کدام اجراکننده را در مرحله بعد فراخوانی کند.\n"
   ]
  },
  {
   "cell_type": "code",
   "execution_count": 4,
   "id": "6960edd1",
   "metadata": {},
   "outputs": [
    {
     "name": "stdout",
     "output_type": "stream",
     "text": [
      "✅ Condition functions defined:\n",
      "   - has_availability_condition (routes when rooms exist)\n",
      "   - no_availability_condition (routes when no rooms)\n"
     ]
    }
   ],
   "source": [
    "def has_availability_condition(message: Any) -> bool:\n",
    "    \"\"\"\n",
    "    Condition for routing when hotels ARE available.\n",
    "    \n",
    "    Returns True if the destination has hotel rooms.\n",
    "    \"\"\"\n",
    "    if not isinstance(message, AgentExecutorResponse):\n",
    "        return True  # Default to True if unexpected type\n",
    "\n",
    "    try:\n",
    "        result = BookingCheckResult.model_validate_json(message.agent_run_response.text)\n",
    "\n",
    "        display(\n",
    "            HTML(f\"\"\"\n",
    "            <div style='padding: 12px; background: #c8e6c9; border-left: 4px solid #4caf50; border-radius: 4px; margin: 10px 0;'>\n",
    "                <strong>✅ Condition Check:</strong> has_availability = <strong>{result.has_availability}</strong> for {result.destination}\n",
    "            </div>\n",
    "        \"\"\")\n",
    "        )\n",
    "\n",
    "        return result.has_availability\n",
    "    except Exception as e:\n",
    "        display(\n",
    "            HTML(f\"\"\"\n",
    "            <div style='padding: 12px; background: #ffcdd2; border-left: 4px solid #f44336; border-radius: 4px; margin: 10px 0;'>\n",
    "                <strong>⚠️  Error:</strong> {str(e)}\n",
    "            </div>\n",
    "        \"\"\")\n",
    "        )\n",
    "        return False\n",
    "\n",
    "\n",
    "def no_availability_condition(message: Any) -> bool:\n",
    "    \"\"\"\n",
    "    Condition for routing when hotels are NOT available.\n",
    "    \n",
    "    Returns True if the destination has no hotel rooms.\n",
    "    \"\"\"\n",
    "    if not isinstance(message, AgentExecutorResponse):\n",
    "        return False\n",
    "\n",
    "    try:\n",
    "        result = BookingCheckResult.model_validate_json(message.agent_run_response.text)\n",
    "\n",
    "        display(\n",
    "            HTML(f\"\"\"\n",
    "            <div style='padding: 12px; background: #ffecb3; border-left: 4px solid #ff9800; border-radius: 4px; margin: 10px 0;'>\n",
    "                <strong>❌ Condition Check:</strong> no_availability for {result.destination}\n",
    "            </div>\n",
    "        \"\"\")\n",
    "        )\n",
    "\n",
    "        return not result.has_availability\n",
    "    except Exception as e:\n",
    "        return False\n",
    "\n",
    "\n",
    "print(\"✅ Condition functions defined:\")\n",
    "print(\"   - has_availability_condition (routes when rooms exist)\")\n",
    "print(\"   - no_availability_condition (routes when no rooms)\")"
   ]
  },
  {
   "cell_type": "markdown",
   "id": "9dc783ba",
   "metadata": {},
   "source": [
    "## مرحله ۴: ایجاد اجراکننده نمایش سفارشی\n",
    "\n",
    "اجراکننده‌ها اجزای جریان کاری هستند که تبدیل‌ها یا اثرات جانبی را انجام می‌دهند. ما از تزئین‌کننده `@executor` برای ایجاد یک اجراکننده سفارشی که نتیجه نهایی را نمایش می‌دهد استفاده می‌کنیم.\n",
    "\n",
    "**مفاهیم کلیدی:**\n",
    "- `@executor(id=\"...\")` - یک تابع را به عنوان اجراکننده جریان کاری ثبت می‌کند\n",
    "- `WorkflowContext[Never, str]` - اشاره‌های نوع برای ورودی/خروجی\n",
    "- `ctx.yield_output(...)` - نتیجه نهایی جریان کاری را ارائه می‌دهد\n"
   ]
  },
  {
   "cell_type": "code",
   "execution_count": 5,
   "id": "c67f6b55",
   "metadata": {},
   "outputs": [
    {
     "name": "stdout",
     "output_type": "stream",
     "text": [
      "✅ display_result executor created with @executor decorator\n"
     ]
    }
   ],
   "source": [
    "@executor(id=\"display_result\")\n",
    "async def display_result(response: AgentExecutorResponse, ctx: WorkflowContext[Never, str]) -> None:\n",
    "    \"\"\"\n",
    "    Display the final result as workflow output.\n",
    "    \n",
    "    This executor receives the final agent response and yields it as the workflow output.\n",
    "    \"\"\"\n",
    "    display(\n",
    "        HTML(\"\"\"\n",
    "        <div style='padding: 15px; background: #f3e5f5; border-left: 4px solid #9c27b0; border-radius: 4px; margin: 10px 0;'>\n",
    "            <strong>📤 Display Executor:</strong> Yielding workflow output\n",
    "        </div>\n",
    "    \"\"\")\n",
    "    )\n",
    "\n",
    "    await ctx.yield_output(response.agent_run_response.text)\n",
    "\n",
    "\n",
    "print(\"✅ display_result executor created with @executor decorator\")"
   ]
  },
  {
   "cell_type": "markdown",
   "id": "7de6eb90",
   "metadata": {},
   "source": [
    "## مرحله ۵: بارگذاری متغیرهای محیطی\n",
    "\n",
    "پیکربندی کلاینت LLM. این مثال با موارد زیر کار می‌کند:\n",
    "- **مدل‌های GitHub** (سطح رایگان با توکن GitHub)\n",
    "- **Azure OpenAI**\n",
    "- **OpenAI**\n"
   ]
  },
  {
   "cell_type": "code",
   "execution_count": 6,
   "id": "1e8f0d88",
   "metadata": {},
   "outputs": [],
   "source": [
    "# Load environment variables\n",
    "load_dotenv()\n",
    "\n",
    "# Check for GitHub Models or OpenAI\n",
    "chat_client = OpenAIChatClient(base_url=os.environ.get(\n",
    "    \"GITHUB_ENDPOINT\"), api_key=os.environ.get(\"GITHUB_TOKEN\"), model_id=\"gpt-4o\")"
   ]
  },
  {
   "cell_type": "markdown",
   "id": "3fc61fe7",
   "metadata": {},
   "source": [
    "## مرحله ۶: ایجاد عوامل هوش مصنوعی با خروجی‌های ساختاریافته\n",
    "\n",
    "ما **سه عامل تخصصی** ایجاد می‌کنیم که هر کدام در یک `AgentExecutor` قرار داده شده‌اند:\n",
    "\n",
    "1. **availability_agent** - بررسی موجودی هتل با استفاده از ابزار\n",
    "2. **alternative_agent** - پیشنهاد شهرهای جایگزین (در صورت نبود اتاق)\n",
    "3. **booking_agent** - تشویق به رزرو (در صورت موجود بودن اتاق‌ها)\n",
    "\n",
    "**ویژگی‌های کلیدی:**\n",
    "- `tools=[hotel_booking]` - ابزار را در اختیار عامل قرار می‌دهد\n",
    "- `response_format=PydanticModel` - خروجی JSON ساختاریافته را الزام می‌کند\n",
    "- `AgentExecutor(..., id=\"...\")` - عامل را برای استفاده در جریان کار بسته‌بندی می‌کند\n"
   ]
  },
  {
   "cell_type": "code",
   "execution_count": 7,
   "id": "66466dda",
   "metadata": {},
   "outputs": [
    {
     "data": {
      "text/html": [
       "\n",
       "    <div style='padding: 15px; background: #e3f2fd; border-left: 4px solid #2196f3; border-radius: 4px; margin: 10px 0;'>\n",
       "        <strong>✅ Created 3 Agents:</strong>\n",
       "        <ul style='margin: 10px 0 0 0;'>\n",
       "            <li><strong>availability_agent</strong> - Checks availability with hotel_booking tool</li>\n",
       "            <li><strong>alternative_agent</strong> - Suggests alternative cities</li>\n",
       "            <li><strong>booking_agent</strong> - Encourages booking</li>\n",
       "        </ul>\n",
       "    </div>\n"
      ],
      "text/plain": [
       "<IPython.core.display.HTML object>"
      ]
     },
     "metadata": {},
     "output_type": "display_data"
    }
   ],
   "source": [
    "# Agent 1: Check availability with tool\n",
    "availability_agent = AgentExecutor(\n",
    "    chat_client.create_agent(\n",
    "        instructions=(\n",
    "            \"You are a hotel booking assistant that checks room availability. \"\n",
    "            \"Use the hotel_booking tool to check if rooms are available at the destination. \"\n",
    "            \"Return JSON with fields: destination (string), has_availability (bool), and message (string). \"\n",
    "            \"The message should summarize the availability status.\"\n",
    "        ),\n",
    "        tools=[hotel_booking],\n",
    "        response_format=BookingCheckResult,\n",
    "    ),\n",
    "    id=\"availability_agent\",\n",
    ")\n",
    "\n",
    "# Agent 2: Suggest alternative (when no rooms)\n",
    "alternative_agent = AgentExecutor(\n",
    "    chat_client.create_agent(\n",
    "        instructions=(\n",
    "            \"You are a helpful travel assistant. When a user cannot find hotels in their requested city, \"\n",
    "            \"suggest an alternative nearby city that has availability. \"\n",
    "            \"Return JSON with fields: alternative_destination (string) and reason (string). \"\n",
    "            \"Make your suggestion sound appealing and helpful.\"\n",
    "        ),\n",
    "        response_format=AlternativeResult,\n",
    "    ),\n",
    "    id=\"alternative_agent\",\n",
    ")\n",
    "\n",
    "# Agent 3: Suggest booking (when rooms available)\n",
    "booking_agent = AgentExecutor(\n",
    "    chat_client.create_agent(\n",
    "        instructions=(\n",
    "            \"You are a booking assistant. The user has found available hotel rooms. \"\n",
    "            \"Encourage them to book by highlighting the destination's appeal. \"\n",
    "            \"Return JSON with fields: destination (string), action (string), and message (string). \"\n",
    "            \"The action should be 'book_now' and message should be encouraging.\"\n",
    "        ),\n",
    "        response_format=BookingConfirmation,\n",
    "    ),\n",
    "    id=\"booking_agent\",\n",
    ")\n",
    "\n",
    "display(\n",
    "    HTML(\"\"\"\n",
    "    <div style='padding: 15px; background: #e3f2fd; border-left: 4px solid #2196f3; border-radius: 4px; margin: 10px 0;'>\n",
    "        <strong>✅ Created 3 Agents:</strong>\n",
    "        <ul style='margin: 10px 0 0 0;'>\n",
    "            <li><strong>availability_agent</strong> - Checks availability with hotel_booking tool</li>\n",
    "            <li><strong>alternative_agent</strong> - Suggests alternative cities</li>\n",
    "            <li><strong>booking_agent</strong> - Encourages booking</li>\n",
    "        </ul>\n",
    "    </div>\n",
    "\"\"\")\n",
    ")"
   ]
  },
  {
   "cell_type": "markdown",
   "id": "7879a0cb",
   "metadata": {},
   "source": [
    "## مرحله ۷: ساخت جریان کاری با مسیرهای شرطی\n",
    "\n",
    "اکنون از `WorkflowBuilder` برای ساخت نمودار با مسیرهای شرطی استفاده می‌کنیم:\n",
    "\n",
    "**ساختار جریان کاری:**\n",
    "```\n",
    "availability_agent (START)\n",
    "        ↓\n",
    "   Evaluate conditions\n",
    "        ↙         ↘\n",
    "[no_availability]  [has_availability]\n",
    "        ↓              ↓\n",
    "alternative_agent  booking_agent\n",
    "        ↓              ↓\n",
    "    display_result ←───┘\n",
    "```\n",
    "\n",
    "**روش‌های کلیدی:**\n",
    "- `.set_start_executor(...)` - نقطه ورود را تنظیم می‌کند\n",
    "- `.add_edge(from, to, condition=...)` - مسیر شرطی اضافه می‌کند\n",
    "- `.build()` - جریان کاری را نهایی می‌کند\n"
   ]
  },
  {
   "cell_type": "code",
   "execution_count": 8,
   "id": "90bb29dd",
   "metadata": {},
   "outputs": [
    {
     "data": {
      "text/html": [
       "\n",
       "    <div style='padding: 20px; background: linear-gradient(135deg, #667eea 0%, #764ba2 100%); color: white; border-radius: 8px; margin: 10px 0;'>\n",
       "        <h3 style='margin: 0 0 15px 0;'>✅ Workflow Built Successfully!</h3>\n",
       "        <p style='margin: 0; line-height: 1.6;'>\n",
       "            <strong>Conditional Routing:</strong><br>\n",
       "            • If <strong>NO availability</strong> → alternative_agent → display_result<br>\n",
       "            • If <strong>availability</strong> → booking_agent → display_result\n",
       "        </p>\n",
       "    </div>\n"
      ],
      "text/plain": [
       "<IPython.core.display.HTML object>"
      ]
     },
     "metadata": {},
     "output_type": "display_data"
    }
   ],
   "source": [
    "# Build the workflow with conditional routing\n",
    "workflow = (\n",
    "    WorkflowBuilder()\n",
    "    .set_start_executor(availability_agent)\n",
    "    # NO AVAILABILITY PATH\n",
    "    .add_edge(availability_agent, alternative_agent, condition=no_availability_condition)\n",
    "    .add_edge(alternative_agent, display_result)\n",
    "    # HAS AVAILABILITY PATH\n",
    "    .add_edge(availability_agent, booking_agent, condition=has_availability_condition)\n",
    "    .add_edge(booking_agent, display_result)\n",
    "    .build()\n",
    ")\n",
    "\n",
    "display(\n",
    "    HTML(\"\"\"\n",
    "    <div style='padding: 20px; background: linear-gradient(135deg, #667eea 0%, #764ba2 100%); color: white; border-radius: 8px; margin: 10px 0;'>\n",
    "        <h3 style='margin: 0 0 15px 0;'>✅ Workflow Built Successfully!</h3>\n",
    "        <p style='margin: 0; line-height: 1.6;'>\n",
    "            <strong>Conditional Routing:</strong><br>\n",
    "            • If <strong>NO availability</strong> → alternative_agent → display_result<br>\n",
    "            • If <strong>availability</strong> → booking_agent → display_result\n",
    "        </p>\n",
    "    </div>\n",
    "\"\"\")\n",
    ")"
   ]
  },
  {
   "cell_type": "markdown",
   "id": "0a3ad845",
   "metadata": {},
   "source": [
    "## مرحله ۸: اجرای مورد آزمایشی ۱ - شهر بدون موجودی (پاریس)\n",
    "\n",
    "بیایید مسیر **بدون موجودی** را با درخواست هتل‌ها در پاریس (که در شبیه‌سازی ما اتاقی ندارد) آزمایش کنیم.\n"
   ]
  },
  {
   "cell_type": "code",
   "execution_count": 9,
   "id": "af1538cd",
   "metadata": {},
   "outputs": [
    {
     "data": {
      "text/html": [
       "\n",
       "    <div style='padding: 20px; background: #fff3e0; border-left: 4px solid #ff9800; border-radius: 8px; margin: 20px 0;'>\n",
       "        <h3 style='margin: 0 0 10px 0; color: #e65100;'>🧪 TEST CASE 1: Paris (No Availability)</h3>\n",
       "        <p style='margin: 0;'>Expected workflow path: availability_agent → alternative_agent → display_result</p>\n",
       "    </div>\n"
      ],
      "text/plain": [
       "<IPython.core.display.HTML object>"
      ]
     },
     "metadata": {},
     "output_type": "display_data"
    },
    {
     "data": {
      "text/html": [
       "\n",
       "        <div style='padding: 15px; background: #e3f2fd; border-left: 4px solid #2196f3; border-radius: 4px; margin: 10px 0;'>\n",
       "            <strong>🔍 Tool Invoked:</strong> hotel_booking(\"Paris\")\n",
       "        </div>\n",
       "    "
      ],
      "text/plain": [
       "<IPython.core.display.HTML object>"
      ]
     },
     "metadata": {},
     "output_type": "display_data"
    },
    {
     "data": {
      "text/html": [
       "\n",
       "            <div style='padding: 12px; background: #ffecb3; border-left: 4px solid #ff9800; border-radius: 4px; margin: 10px 0;'>\n",
       "                <strong>❌ Condition Check:</strong> no_availability for Paris\n",
       "            </div>\n",
       "        "
      ],
      "text/plain": [
       "<IPython.core.display.HTML object>"
      ]
     },
     "metadata": {},
     "output_type": "display_data"
    },
    {
     "data": {
      "text/html": [
       "\n",
       "            <div style='padding: 12px; background: #c8e6c9; border-left: 4px solid #4caf50; border-radius: 4px; margin: 10px 0;'>\n",
       "                <strong>✅ Condition Check:</strong> has_availability = <strong>False</strong> for Paris\n",
       "            </div>\n",
       "        "
      ],
      "text/plain": [
       "<IPython.core.display.HTML object>"
      ]
     },
     "metadata": {},
     "output_type": "display_data"
    },
    {
     "data": {
      "text/html": [
       "\n",
       "        <div style='padding: 15px; background: #f3e5f5; border-left: 4px solid #9c27b0; border-radius: 4px; margin: 10px 0;'>\n",
       "            <strong>📤 Display Executor:</strong> Yielding workflow output\n",
       "        </div>\n",
       "    "
      ],
      "text/plain": [
       "<IPython.core.display.HTML object>"
      ]
     },
     "metadata": {},
     "output_type": "display_data"
    },
    {
     "data": {
      "text/html": [
       "\n",
       "        <div style='padding: 25px; background: linear-gradient(135deg, #FFD700 0%, #FFA500 100%); border-radius: 12px; box-shadow: 0 4px 12px rgba(255,165,0,0.3); margin: 20px 0;'>\n",
       "            <h3 style='margin: 0 0 15px 0; color: #333;'>🏆 WORKFLOW RESULT (Paris)</h3>\n",
       "            <div style='background: white; padding: 20px; border-radius: 8px;'>\n",
       "                <p style='margin: 0 0 10px 0; font-size: 16px;'><strong>Status:</strong> ❌ No rooms in Paris</p>\n",
       "                <p style='margin: 0 0 10px 0; font-size: 16px;'><strong>Alternative Suggestion:</strong> 🏨 Versailles</p>\n",
       "                <p style='margin: 0; font-size: 14px; color: #666;'><strong>Reason:</strong> Versailles is a charming city located near Paris, offering beautiful historic architecture and the renowned Palace of Versailles. It’s an excellent alternative destination to explore while staying close to the capital.</p>\n",
       "            </div>\n",
       "        </div>\n",
       "    "
      ],
      "text/plain": [
       "<IPython.core.display.HTML object>"
      ]
     },
     "metadata": {},
     "output_type": "display_data"
    }
   ],
   "source": [
    "display(\n",
    "    HTML(\"\"\"\n",
    "    <div style='padding: 20px; background: #fff3e0; border-left: 4px solid #ff9800; border-radius: 8px; margin: 20px 0;'>\n",
    "        <h3 style='margin: 0 0 10px 0; color: #e65100;'>🧪 TEST CASE 1: Paris (No Availability)</h3>\n",
    "        <p style='margin: 0;'>Expected workflow path: availability_agent → alternative_agent → display_result</p>\n",
    "    </div>\n",
    "\"\"\")\n",
    ")\n",
    "\n",
    "# Create request for Paris\n",
    "request_paris = AgentExecutorRequest(\n",
    "    messages=[ChatMessage(Role.USER, text=\"I want to book a hotel in Paris\")], should_respond=True\n",
    ")\n",
    "\n",
    "# Run the workflow\n",
    "events_paris = await workflow.run(request_paris)\n",
    "outputs_paris = events_paris.get_outputs()\n",
    "\n",
    "# Display results\n",
    "if outputs_paris:\n",
    "    result_paris = AlternativeResult.model_validate_json(outputs_paris[0])\n",
    "\n",
    "    display(\n",
    "        HTML(f\"\"\"\n",
    "        <div style='padding: 25px; background: linear-gradient(135deg, #FFD700 0%, #FFA500 100%); border-radius: 12px; box-shadow: 0 4px 12px rgba(255,165,0,0.3); margin: 20px 0;'>\n",
    "            <h3 style='margin: 0 0 15px 0; color: #333;'>🏆 WORKFLOW RESULT (Paris)</h3>\n",
    "            <div style='background: white; padding: 20px; border-radius: 8px;'>\n",
    "                <p style='margin: 0 0 10px 0; font-size: 16px;'><strong>Status:</strong> ❌ No rooms in Paris</p>\n",
    "                <p style='margin: 0 0 10px 0; font-size: 16px;'><strong>Alternative Suggestion:</strong> 🏨 {result_paris.alternative_destination}</p>\n",
    "                <p style='margin: 0; font-size: 14px; color: #666;'><strong>Reason:</strong> {result_paris.reason}</p>\n",
    "            </div>\n",
    "        </div>\n",
    "    \"\"\")\n",
    "    )"
   ]
  },
  {
   "cell_type": "markdown",
   "id": "408a3f60",
   "metadata": {},
   "source": [
    "## مرحله ۹: اجرای مورد آزمایشی ۲ - شهر با موجودی (استکهلم)\n",
    "\n",
    "حالا مسیر **موجودی** را با درخواست هتل‌ها در استکهلم (که در شبیه‌سازی ما اتاق دارد) آزمایش کنیم.\n"
   ]
  },
  {
   "cell_type": "code",
   "execution_count": 10,
   "id": "e1471000",
   "metadata": {},
   "outputs": [
    {
     "data": {
      "text/html": [
       "\n",
       "    <div style='padding: 20px; background: #e8f5e9; border-left: 4px solid #4caf50; border-radius: 8px; margin: 20px 0;'>\n",
       "        <h3 style='margin: 0 0 10px 0; color: #1b5e20;'>🧪 TEST CASE 2: Stockholm (Has Availability)</h3>\n",
       "        <p style='margin: 0;'>Expected workflow path: availability_agent → booking_agent → display_result</p>\n",
       "    </div>\n"
      ],
      "text/plain": [
       "<IPython.core.display.HTML object>"
      ]
     },
     "metadata": {},
     "output_type": "display_data"
    },
    {
     "data": {
      "text/html": [
       "\n",
       "        <div style='padding: 15px; background: #e3f2fd; border-left: 4px solid #2196f3; border-radius: 4px; margin: 10px 0;'>\n",
       "            <strong>🔍 Tool Invoked:</strong> hotel_booking(\"Stockholm\")\n",
       "        </div>\n",
       "    "
      ],
      "text/plain": [
       "<IPython.core.display.HTML object>"
      ]
     },
     "metadata": {},
     "output_type": "display_data"
    },
    {
     "data": {
      "text/html": [
       "\n",
       "            <div style='padding: 12px; background: #ffecb3; border-left: 4px solid #ff9800; border-radius: 4px; margin: 10px 0;'>\n",
       "                <strong>❌ Condition Check:</strong> no_availability for Stockholm\n",
       "            </div>\n",
       "        "
      ],
      "text/plain": [
       "<IPython.core.display.HTML object>"
      ]
     },
     "metadata": {},
     "output_type": "display_data"
    },
    {
     "data": {
      "text/html": [
       "\n",
       "            <div style='padding: 12px; background: #c8e6c9; border-left: 4px solid #4caf50; border-radius: 4px; margin: 10px 0;'>\n",
       "                <strong>✅ Condition Check:</strong> has_availability = <strong>True</strong> for Stockholm\n",
       "            </div>\n",
       "        "
      ],
      "text/plain": [
       "<IPython.core.display.HTML object>"
      ]
     },
     "metadata": {},
     "output_type": "display_data"
    },
    {
     "data": {
      "text/html": [
       "\n",
       "        <div style='padding: 15px; background: #f3e5f5; border-left: 4px solid #9c27b0; border-radius: 4px; margin: 10px 0;'>\n",
       "            <strong>📤 Display Executor:</strong> Yielding workflow output\n",
       "        </div>\n",
       "    "
      ],
      "text/plain": [
       "<IPython.core.display.HTML object>"
      ]
     },
     "metadata": {},
     "output_type": "display_data"
    },
    {
     "data": {
      "text/html": [
       "\n",
       "        <div style='padding: 25px; background: linear-gradient(135deg, #4caf50 0%, #8bc34a 100%); color: white; border-radius: 12px; box-shadow: 0 4px 12px rgba(76,175,80,0.3); margin: 20px 0;'>\n",
       "            <h3 style='margin: 0 0 15px 0;'>🏆 WORKFLOW RESULT (Stockholm)</h3>\n",
       "            <div style='background: white; color: #333; padding: 20px; border-radius: 8px;'>\n",
       "                <p style='margin: 0 0 10px 0; font-size: 16px;'><strong>Status:</strong> ✅ Rooms Available!</p>\n",
       "                <p style='margin: 0 0 10px 0; font-size: 16px;'><strong>Destination:</strong> 🏨 Stockholm</p>\n",
       "                <p style='margin: 0 0 10px 0; font-size: 16px;'><strong>Action:</strong> book_now</p>\n",
       "                <p style='margin: 0; font-size: 14px; color: #666;'><strong>Message:</strong> Stockholm is an enchanting city with striking architecture, rich history, and an incredible cultural scene. Book your hotel now to secure your stay in this captivating destination!</p>\n",
       "            </div>\n",
       "        </div>\n",
       "    "
      ],
      "text/plain": [
       "<IPython.core.display.HTML object>"
      ]
     },
     "metadata": {},
     "output_type": "display_data"
    }
   ],
   "source": [
    "display(\n",
    "    HTML(\"\"\"\n",
    "    <div style='padding: 20px; background: #e8f5e9; border-left: 4px solid #4caf50; border-radius: 8px; margin: 20px 0;'>\n",
    "        <h3 style='margin: 0 0 10px 0; color: #1b5e20;'>🧪 TEST CASE 2: Stockholm (Has Availability)</h3>\n",
    "        <p style='margin: 0;'>Expected workflow path: availability_agent → booking_agent → display_result</p>\n",
    "    </div>\n",
    "\"\"\")\n",
    ")\n",
    "\n",
    "# Create request for Stockholm\n",
    "request_stockholm = AgentExecutorRequest(\n",
    "    messages=[ChatMessage(Role.USER, text=\"I want to book a hotel in Stockholm\")], should_respond=True\n",
    ")\n",
    "\n",
    "# Run the workflow\n",
    "events_stockholm = await workflow.run(request_stockholm)\n",
    "outputs_stockholm = events_stockholm.get_outputs()\n",
    "\n",
    "# Display results\n",
    "if outputs_stockholm:\n",
    "    result_stockholm = BookingConfirmation.model_validate_json(outputs_stockholm[0])\n",
    "\n",
    "    display(\n",
    "        HTML(f\"\"\"\n",
    "        <div style='padding: 25px; background: linear-gradient(135deg, #4caf50 0%, #8bc34a 100%); color: white; border-radius: 12px; box-shadow: 0 4px 12px rgba(76,175,80,0.3); margin: 20px 0;'>\n",
    "            <h3 style='margin: 0 0 15px 0;'>🏆 WORKFLOW RESULT (Stockholm)</h3>\n",
    "            <div style='background: white; color: #333; padding: 20px; border-radius: 8px;'>\n",
    "                <p style='margin: 0 0 10px 0; font-size: 16px;'><strong>Status:</strong> ✅ Rooms Available!</p>\n",
    "                <p style='margin: 0 0 10px 0; font-size: 16px;'><strong>Destination:</strong> 🏨 {result_stockholm.destination}</p>\n",
    "                <p style='margin: 0 0 10px 0; font-size: 16px;'><strong>Action:</strong> {result_stockholm.action}</p>\n",
    "                <p style='margin: 0; font-size: 14px; color: #666;'><strong>Message:</strong> {result_stockholm.message}</p>\n",
    "            </div>\n",
    "        </div>\n",
    "    \"\"\")\n",
    "    )"
   ]
  },
  {
   "cell_type": "markdown",
   "id": "a415537c",
   "metadata": {},
   "source": [
    "## نکات کلیدی و مراحل بعدی\n",
    "\n",
    "### ✅ آنچه آموخته‌اید:\n",
    "\n",
    "1. **الگوی WorkflowBuilder**\n",
    "   - از `.set_start_executor()` برای تعریف نقطه شروع استفاده کنید\n",
    "   - از `.add_edge(from, to, condition=...)` برای مسیریابی شرطی استفاده کنید\n",
    "   - با فراخوانی `.build()` جریان کاری را نهایی کنید\n",
    "\n",
    "2. **مسیریابی شرطی**\n",
    "   - توابع شرطی `AgentExecutorResponse` را بررسی می‌کنند\n",
    "   - خروجی‌های ساختاریافته را برای تصمیم‌گیری در مسیریابی تجزیه کنید\n",
    "   - با بازگرداندن `True` یک مسیر فعال می‌شود و با `False` از آن عبور می‌شود\n",
    "\n",
    "3. **ادغام ابزارها**\n",
    "   - از `@ai_function` برای تبدیل توابع پایتون به ابزارهای هوش مصنوعی استفاده کنید\n",
    "   - عوامل به طور خودکار ابزارها را در صورت نیاز فراخوانی می‌کنند\n",
    "   - ابزارها JSON تولید می‌کنند که عوامل می‌توانند آن را تجزیه کنند\n",
    "\n",
    "4. **خروجی‌های ساختاریافته**\n",
    "   - از مدل‌های Pydantic برای استخراج داده‌های نوع‌دار استفاده کنید\n",
    "   - هنگام ایجاد عوامل، `response_format=MyModel` را تنظیم کنید\n",
    "   - پاسخ‌ها را با `Model.model_validate_json()` تجزیه کنید\n",
    "\n",
    "5. **اجراکننده‌های سفارشی**\n",
    "   - از `@executor(id=\"...\")` برای ایجاد اجزای جریان کاری استفاده کنید\n",
    "   - اجراکننده‌ها می‌توانند داده‌ها را تغییر دهند یا اثرات جانبی ایجاد کنند\n",
    "   - از `ctx.yield_output()` برای تولید نتایج جریان کاری استفاده کنید\n",
    "\n",
    "### 🚀 کاربردهای واقعی:\n",
    "\n",
    "- **رزرو سفر**: بررسی موجودی، پیشنهاد جایگزین‌ها، مقایسه گزینه‌ها\n",
    "- **خدمات مشتری**: مسیریابی بر اساس نوع مشکل، احساسات، اولویت\n",
    "- **تجارت الکترونیک**: بررسی موجودی، پیشنهاد جایگزین‌ها، پردازش سفارش‌ها\n",
    "- **مدیریت محتوا**: مسیریابی بر اساس امتیازهای سمی، گزارش‌های کاربران\n",
    "- **جریان‌های تأیید**: مسیریابی بر اساس مقدار، نقش کاربر، سطح ریسک\n",
    "- **پردازش چندمرحله‌ای**: مسیریابی بر اساس کیفیت داده‌ها، کامل بودن\n",
    "\n",
    "### 📚 مراحل بعدی:\n",
    "\n",
    "- افزودن شرایط پیچیده‌تر (معیارهای چندگانه)\n",
    "- پیاده‌سازی حلقه‌ها با مدیریت وضعیت جریان کاری\n",
    "- افزودن زیرجریان‌ها برای اجزای قابل استفاده مجدد\n",
    "- ادغام با API‌های واقعی (رزرو هتل، سیستم‌های موجودی)\n",
    "- افزودن مدیریت خطا و مسیرهای جایگزین\n",
    "- تصویری کردن جریان‌های کاری با ابزارهای تصویری داخلی\n"
   ]
  },
  {
   "cell_type": "markdown",
   "metadata": {},
   "source": [
    "\n---\n\n**سلب مسئولیت**:  \nاین سند با استفاده از سرویس ترجمه هوش مصنوعی [Co-op Translator](https://github.com/Azure/co-op-translator) ترجمه شده است. در حالی که ما تلاش می‌کنیم دقت را حفظ کنیم، لطفاً توجه داشته باشید که ترجمه‌های خودکار ممکن است شامل خطاها یا نادرستی‌ها باشند. سند اصلی به زبان اصلی آن باید به عنوان منبع معتبر در نظر گرفته شود. برای اطلاعات حساس، توصیه می‌شود از ترجمه حرفه‌ای انسانی استفاده کنید. ما مسئولیتی در قبال سوء تفاهم‌ها یا تفسیرهای نادرست ناشی از استفاده از این ترجمه نداریم.\n"
   ]
  }
 ],
 "metadata": {
  "kernelspec": {
   "display_name": ".venv (3.12.11)",
   "language": "python",
   "name": "python3"
  },
  "language_info": {
   "codemirror_mode": {
    "name": "ipython",
    "version": 3
   },
   "file_extension": ".py",
   "mimetype": "text/x-python",
   "name": "python",
   "nbconvert_exporter": "python",
   "pygments_lexer": "ipython3",
   "version": "3.12.11"
  },
  "coopTranslator": {
   "original_hash": "30364214cfd3cead472540c147b60b02",
   "translation_date": "2025-10-09T19:37:02+00:00",
   "source_file": "14-microsoft-agent-framework/code-samples/14-conditional-workflow.ipynb",
   "language_code": "fa"
  }
 },
 "nbformat": 4,
 "nbformat_minor": 5
}