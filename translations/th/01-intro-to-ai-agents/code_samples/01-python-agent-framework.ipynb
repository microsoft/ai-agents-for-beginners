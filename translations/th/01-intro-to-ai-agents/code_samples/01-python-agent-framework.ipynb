{
 "cells": [
  {
   "cell_type": "markdown",
   "id": "f4cf9593",
   "metadata": {},
   "source": [
    "# 🐍 ตัวแทนการเดินทาง AI ด้วย Microsoft Agent Framework (Python)\n",
    "\n",
    "## 📋 ภาพรวมของสถานการณ์\n",
    "\n",
    "โน้ตบุ๊กนี้แสดงวิธีการสร้างตัวแทนวางแผนการเดินทางที่ชาญฉลาดโดยใช้ Microsoft Agent Framework สำหรับ Python ตัวแทนนี้ใช้ GitHub Models เพื่อสร้างแผนการเดินทางแบบวันเดียวที่ปรับแต่งเฉพาะสำหรับจุดหมายปลายทางแบบสุ่มทั่วโลกโดยอัตโนมัติ\n",
    "\n",
    "**คุณสมบัติเด่น:**\n",
    "- 🎲 **การเลือกจุดหมายปลายทางอัจฉริยะ**: ฟังก์ชันเครื่องมือที่กำหนดเองสำหรับการเลือกจุดหมายปลายทางแบบสุ่ม\n",
    "- 🗺️ **การสร้างแผนการเดินทางอย่างละเอียด**: การวางแผนการเดินทางด้วย AI พร้อมคำแนะนำในพื้นที่\n",
    "- 🔄 **การประมวลผลแบบ Async**: ใช้ asyncio เพื่อการสื่อสาร API ที่มีประสิทธิภาพ\n",
    "- 🛠️ **การผสานรวมเครื่องมือ**: แสดงความสามารถในการเรียกใช้ฟังก์ชันในตัวแทน AI\n",
    "\n",
    "## 🏗️ การดำเนินการทางเทคนิค\n",
    "\n",
    "### ส่วนประกอบหลัก\n",
    "- **Agent Framework**: การใช้งานระบบการจัดการตัวแทนของ Microsoft ด้วย Python\n",
    "- **GitHub Models API**: การเข้าถึงโมเดลภาษาที่ล้ำสมัยผ่านบริการการอนุมานของ GitHub\n",
    "- **OpenAI Compatibility**: ใช้รูปแบบไคลเอนต์ OpenAI กับ GitHub Models backend\n",
    "- **การจัดการสภาพแวดล้อม**: การจัดการข้อมูลรับรองอย่างปลอดภัยด้วย python-dotenv\n",
    "\n",
    "### การไหลของสถาปัตยกรรม\n",
    "```python\n",
    "User Request → ChatAgent → GitHub Models API ↔ get_random_destination()\n",
    "                     ↓\n",
    "              Travel Itinerary Response\n",
    "```\n",
    "\n",
    "### คลาสและเมธอดสำคัญ\n",
    "- `ChatAgent`: ตัวจัดการตัวแทนสนทนาหลัก\n",
    "- `OpenAIChatClient`: ตัวห่อไคลเอนต์ API ของ GitHub Models\n",
    "- `get_random_destination()`: ฟังก์ชันเครื่องมือที่กำหนดเองสำหรับการเลือกจุดหมายปลายทาง\n",
    "- ตัวแปรสภาพแวดล้อม: การจัดการการกำหนดค่าของ API อย่างปลอดภัย\n",
    "\n",
    "## ⚙️ ข้อกำหนดเบื้องต้นและการตั้งค่า\n",
    "\n",
    "**การพึ่งพาที่จำเป็น:**\n",
    "```bash\n",
    "\n",
    "pip install agent-framework-core -U\n",
    "```\n",
    "\n",
    "**การกำหนดค่าของสภาพแวดล้อม (.env file):**\n",
    "```env\n",
    "GITHUB_TOKEN=your_github_personal_access_token\n",
    "GITHUB_ENDPOINT=https://models.inference.ai.azure.com\n",
    "GITHUB_MODEL_ID=gpt-4o-mini\n",
    "```\n",
    "\n",
    "**การเข้าถึง GitHub Models:**\n",
    "1. ลงทะเบียนเพื่อเข้าถึง GitHub Models\n",
    "2. สร้างโทเค็นการเข้าถึงส่วนบุคคล\n",
    "3. กำหนดค่าตัวแปรสภาพแวดล้อมตามที่แสดงด้านบน\n",
    "\n",
    "## 🚀 คำแนะนำการใช้งาน\n",
    "\n",
    "ดำเนินการเซลล์ด้านล่างตามลำดับเพื่อ:\n",
    "1. นำเข้าห้องสมุดที่จำเป็นและโหลดตัวแปรสภาพแวดล้อม\n",
    "2. กำหนดเครื่องมือสร้างจุดหมายปลายทางแบบสุ่ม\n",
    "3. สร้างและกำหนดค่าตัวแทน AI\n",
    "4. เรียกใช้คำขอวางแผนการเดินทางและดูผลลัพธ์\n",
    "\n",
    "มาสร้างผู้ช่วยวางแผนการเดินทางที่ชาญฉลาดกันเถอะ! 🌟\n"
   ]
  },
  {
   "cell_type": "code",
   "execution_count": null,
   "id": "fda5fa0a",
   "metadata": {},
   "outputs": [],
   "source": [
    "! pip install agent-framework-core -U"
   ]
  },
  {
   "cell_type": "code",
   "execution_count": null,
   "id": "c0df8a52",
   "metadata": {},
   "outputs": [],
   "source": [
    "# 📦 Import Required Libraries\n",
    "# Standard library imports for system operations and random number generation\n",
    "import os\n",
    "from random import randint\n",
    "\n",
    "# Third-party library for loading environment variables from .env file\n",
    "from dotenv import load_dotenv"
   ]
  },
  {
   "cell_type": "code",
   "execution_count": null,
   "id": "151e0314",
   "metadata": {},
   "outputs": [],
   "source": [
    "# 🤖 Import Microsoft Agent Framework Components\n",
    "# ChatAgent: The main agent class for conversational AI\n",
    "# OpenAIChatClient: Client for connecting to OpenAI-compatible APIs (including GitHub Models)\n",
    "from agent_framework import ChatAgent\n",
    "from agent_framework.openai import OpenAIChatClient"
   ]
  },
  {
   "cell_type": "code",
   "execution_count": null,
   "id": "a6141584",
   "metadata": {},
   "outputs": [],
   "source": [
    "# 🔧 Load Environment Variables\n",
    "# This loads configuration from a .env file in the project root\n",
    "# Required variables: GITHUB_ENDPOINT, GITHUB_TOKEN, GITHUB_MODEL_ID\n",
    "load_dotenv()"
   ]
  },
  {
   "cell_type": "code",
   "execution_count": null,
   "id": "a6507f83",
   "metadata": {},
   "outputs": [],
   "source": [
    "# 🎲 Tool Function: Random Destination Generator\n",
    "# This function will be available to the agent as a tool\n",
    "# The agent can call this function to get random vacation destinations\n",
    "def get_random_destination() -> str:\n",
    "    \"\"\"Get a random vacation destination.\n",
    "    \n",
    "    Returns:\n",
    "        str: A randomly selected destination from our predefined list\n",
    "    \"\"\"\n",
    "    # List of popular vacation destinations around the world\n",
    "    destinations = [\n",
    "        \"Barcelona, Spain\",\n",
    "        \"Paris, France\", \n",
    "        \"Berlin, Germany\",\n",
    "        \"Tokyo, Japan\",\n",
    "        \"Sydney, Australia\",\n",
    "        \"New York, USA\",\n",
    "        \"Cairo, Egypt\",\n",
    "        \"Cape Town, South Africa\",\n",
    "        \"Rio de Janeiro, Brazil\",\n",
    "        \"Bali, Indonesia\"\n",
    "    ]\n",
    "    # Return a random destination from the list\n",
    "    return destinations[randint(0, len(destinations) - 1)]"
   ]
  },
  {
   "cell_type": "code",
   "execution_count": null,
   "id": "5d4f0568",
   "metadata": {},
   "outputs": [],
   "source": [
    "# 🔗 Create OpenAI Chat Client for GitHub Models\n",
    "# This client connects to GitHub Models API (OpenAI-compatible endpoint)\n",
    "# Environment variables required:\n",
    "# - GITHUB_ENDPOINT: API endpoint URL (usually https://models.inference.ai.azure.com)\n",
    "# - GITHUB_TOKEN: Your GitHub personal access token\n",
    "# - GITHUB_MODEL_ID: Model to use (e.g., gpt-4o-mini, gpt-4o)\n",
    "openai_chat_client = OpenAIChatClient(\n",
    "    base_url=os.environ.get(\"GITHUB_ENDPOINT\"),\n",
    "    api_key=os.environ.get(\"GITHUB_TOKEN\"), \n",
    "    model_id=os.environ.get(\"GITHUB_MODEL_ID\")\n",
    ")"
   ]
  },
  {
   "cell_type": "code",
   "execution_count": null,
   "id": "cf5a4800",
   "metadata": {},
   "outputs": [],
   "source": [
    "# 🤖 Create the Travel Planning Agent\n",
    "# This creates a conversational AI agent with specific capabilities:\n",
    "# - chat_client: The AI model client for generating responses\n",
    "# - instructions: System prompt that defines the agent's personality and role\n",
    "# - tools: List of functions the agent can call to perform actions\n",
    "agent = ChatAgent(\n",
    "    chat_client=openai_chat_client,\n",
    "    instructions=\"You are a helpful AI Agent that can help plan vacations for customers at random destinations.\",\n",
    "    tools=[get_random_destination]  # Our random destination tool function\n",
    ")"
   ]
  },
  {
   "cell_type": "code",
   "execution_count": null,
   "id": "772e9481",
   "metadata": {},
   "outputs": [],
   "source": [
    "# 🚀 Run the Agent\n",
    "# Send a message to the agent and get a response\n",
    "# The agent will use its tools (get_random_destination) if needed\n",
    "response = await agent.run(\"Plan me a day trip\")"
   ]
  },
  {
   "cell_type": "code",
   "execution_count": null,
   "id": "93c114ea",
   "metadata": {},
   "outputs": [],
   "source": [
    "# 📋 View Raw Response Object\n",
    "# This shows the complete response structure including metadata\n",
    "# Useful for debugging and understanding the response format\n",
    "response"
   ]
  },
  {
   "cell_type": "code",
   "execution_count": null,
   "id": "a731b547",
   "metadata": {},
   "outputs": [],
   "source": [
    "# 📖 Extract and Display the Travel Plan\n",
    "# Get the last message from the conversation (agent's response)s\n",
    "last_message = response.messages[-1]\n",
    "# Extract the text content from the message\n",
    "text_content = last_message.contents[0].text\n",
    "# Display the formatted travel plan\n",
    "print(\"🏖️ Travel plan:\")\n",
    "print(text_content)"
   ]
  },
  {
   "cell_type": "markdown",
   "metadata": {},
   "source": [
    "\n---\n\n**ข้อจำกัดความรับผิดชอบ**:  \nเอกสารนี้ได้รับการแปลโดยใช้บริการแปลภาษา AI [Co-op Translator](https://github.com/Azure/co-op-translator) แม้ว่าเราจะพยายามให้การแปลมีความถูกต้อง แต่โปรดทราบว่าการแปลอัตโนมัติอาจมีข้อผิดพลาดหรือความไม่ถูกต้อง เอกสารต้นฉบับในภาษาดั้งเดิมควรถือเป็นแหล่งข้อมูลที่เชื่อถือได้ สำหรับข้อมูลที่สำคัญ ขอแนะนำให้ใช้บริการแปลภาษามนุษย์ที่มีความเชี่ยวชาญ เราไม่รับผิดชอบต่อความเข้าใจผิดหรือการตีความผิดที่เกิดจากการใช้การแปลนี้\n"
   ]
  }
 ],
 "metadata": {
  "kernelspec": {
   "display_name": "agentframeworkenv",
   "language": "python",
   "name": "python3"
  },
  "language_info": {
   "codemirror_mode": {
    "name": "ipython",
    "version": 3
   },
   "file_extension": ".py",
   "mimetype": "text/x-python",
   "name": "python",
   "nbconvert_exporter": "python",
   "pygments_lexer": "ipython3",
   "version": "3.12.10"
  },
  "polyglot_notebook": {
   "kernelInfo": {
    "defaultKernelName": "csharp",
    "items": [
     {
      "aliases": [],
      "name": "csharp"
     }
    ]
   }
  },
  "coopTranslator": {
   "original_hash": "02d6b305971fe27448c9d46a4c91eaf3",
   "translation_date": "2025-10-02T16:05:59+00:00",
   "source_file": "01-intro-to-ai-agents/code_samples/01-python-agent-framework.ipynb",
   "language_code": "th"
  }
 },
 "nbformat": 4,
 "nbformat_minor": 5
}