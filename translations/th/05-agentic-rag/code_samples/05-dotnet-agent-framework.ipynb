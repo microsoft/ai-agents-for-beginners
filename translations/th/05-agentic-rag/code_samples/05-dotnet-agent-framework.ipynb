{
 "cells": [
  {
   "cell_type": "markdown",
   "id": "44b5899e",
   "metadata": {},
   "source": [
    "# 🔍 Enterprise RAG กับ Azure AI Foundry (.NET)\n",
    "\n",
    "## 📋 วัตถุประสงค์การเรียนรู้\n",
    "\n",
    "โน้ตบุ๊กนี้แสดงวิธีการสร้างระบบ Retrieval-Augmented Generation (RAG) ระดับองค์กรโดยใช้ Microsoft Agent Framework ใน .NET กับ Azure AI Foundry คุณจะได้เรียนรู้การสร้างเอเจนต์ที่พร้อมใช้งานในระดับการผลิต ซึ่งสามารถค้นหาเอกสารและให้คำตอบที่แม่นยำและมีบริบท พร้อมด้วยความปลอดภัยและความสามารถในการขยายตัวในระดับองค์กร\n",
    "\n",
    "**ความสามารถของ Enterprise RAG ที่คุณจะสร้าง:**\n",
    "- 📚 **Document Intelligence**: การประมวลผลเอกสารขั้นสูงด้วยบริการ Azure AI\n",
    "- 🔍 **Semantic Search**: การค้นหาเวกเตอร์ประสิทธิภาพสูงพร้อมฟีเจอร์ระดับองค์กร\n",
    "- 🛡️ **Security Integration**: การเข้าถึงตามบทบาทและรูปแบบการปกป้องข้อมูล\n",
    "- 🏢 **Scalable Architecture**: ระบบ RAG ที่พร้อมใช้งานในระดับการผลิตพร้อมการตรวจสอบ\n",
    "\n",
    "## 🎯 สถาปัตยกรรม Enterprise RAG\n",
    "\n",
    "### องค์ประกอบหลักในระดับองค์กร\n",
    "- **Azure AI Foundry**: แพลตฟอร์ม AI ระดับองค์กรที่มีการจัดการพร้อมความปลอดภัยและการปฏิบัติตามข้อกำหนด\n",
    "- **Persistent Agents**: เอเจนต์ที่มีสถานะคงที่พร้อมประวัติการสนทนาและการจัดการบริบท\n",
    "- **Vector Store Management**: การจัดทำดัชนีเอกสารและการดึงข้อมูลระดับองค์กร\n",
    "- **Identity Integration**: การรับรองความถูกต้องด้วย Azure AD และการควบคุมการเข้าถึงตามบทบาท\n",
    "\n",
    "### ประโยชน์ของ .NET ในระดับองค์กร\n",
    "- **Type Safety**: การตรวจสอบความถูกต้องในเวลาคอมไพล์สำหรับการดำเนินการ RAG และโครงสร้างข้อมูล\n",
    "- **Async Performance**: การประมวลผลเอกสารและการค้นหาแบบไม่บล็อก\n",
    "- **Memory Management**: การใช้ทรัพยากรอย่างมีประสิทธิภาพสำหรับคอลเลกชันเอกสารขนาดใหญ่\n",
    "- **Integration Patterns**: การผสานบริการ Azure แบบเนทีฟด้วย dependency injection\n",
    "\n",
    "## 🏗️ สถาปัตยกรรมทางเทคนิค\n",
    "\n",
    "### ท่อส่งข้อมูล Enterprise RAG\n",
    "```csharp\n",
    "Document Upload → Security Validation → Vector Processing → Index Creation\n",
    "                      ↓                    ↓                  ↓\n",
    "User Query → Authentication → Semantic Search → Context Ranking → AI Response\n",
    "```\n",
    "\n",
    "### องค์ประกอบหลักของ .NET\n",
    "- **Azure.AI.Agents.Persistent**: การจัดการเอเจนต์ระดับองค์กรพร้อมการคงสถานะ\n",
    "- **Azure.Identity**: การรับรองความถูกต้องแบบบูรณาการสำหรับการเข้าถึงบริการ Azure อย่างปลอดภัย\n",
    "- **Microsoft.Agents.AI.AzureAI**: การใช้งานเฟรมเวิร์กเอเจนต์ที่ปรับแต่งสำหรับ Azure\n",
    "- **System.Linq.Async**: การดำเนินการ LINQ แบบอะซิงโครนัสที่มีประสิทธิภาพสูง\n",
    "\n",
    "## 🔧 ฟีเจอร์และประโยชน์ในระดับองค์กร\n",
    "\n",
    "### ความปลอดภัยและการปฏิบัติตามข้อกำหนด\n",
    "- **Azure AD Integration**: การจัดการตัวตนและการรับรองความถูกต้องในระดับองค์กร\n",
    "- **Role-Based Access**: การอนุญาตแบบละเอียดสำหรับการเข้าถึงเอกสารและการดำเนินการ\n",
    "- **Data Protection**: การเข้ารหัสข้อมูลทั้งขณะพักและขณะส่งสำหรับเอกสารที่สำคัญ\n",
    "- **Audit Logging**: การติดตามกิจกรรมอย่างครอบคลุมสำหรับข้อกำหนดการปฏิบัติตาม\n",
    "\n",
    "### ประสิทธิภาพและความสามารถในการขยายตัว\n",
    "- **Connection Pooling**: การจัดการการเชื่อมต่อบริการ Azure อย่างมีประสิทธิภาพ\n",
    "- **Async Processing**: การดำเนินการแบบไม่บล็อกสำหรับสถานการณ์ที่มีปริมาณงานสูง\n",
    "- **Caching Strategies**: การแคชอัจฉริยะสำหรับเอกสารที่เข้าถึงบ่อย\n",
    "- **Load Balancing**: การประมวลผลแบบกระจายสำหรับการใช้งานขนาดใหญ่\n",
    "\n",
    "### การจัดการและการตรวจสอบ\n",
    "- **Health Checks**: การตรวจสอบในตัวสำหรับองค์ประกอบระบบ RAG\n",
    "- **Performance Metrics**: การวิเคราะห์รายละเอียดเกี่ยวกับคุณภาพการค้นหาและเวลาตอบสนอง\n",
    "- **Error Handling**: การจัดการข้อผิดพลาดอย่างครอบคลุมพร้อมนโยบายการลองใหม่\n",
    "- **Configuration Management**: การตั้งค่าที่เฉพาะเจาะจงสำหรับแต่ละสภาพแวดล้อมพร้อมการตรวจสอบความถูกต้อง\n",
    "\n",
    "## ⚙️ ข้อกำหนดเบื้องต้นและการตั้งค่า\n",
    "\n",
    "**สภาพแวดล้อมการพัฒนา:**\n",
    "- .NET 9.0 SDK หรือสูงกว่า\n",
    "- Visual Studio 2022 หรือ VS Code พร้อมส่วนขยาย C#\n",
    "- การสมัครใช้งาน Azure พร้อมการเข้าถึง AI Foundry\n",
    "\n",
    "**แพ็กเกจ NuGet ที่จำเป็น:**\n",
    "```xml\n",
    "<PackageReference Include=\"Microsoft.Extensions.AI\" Version=\"9.9.0\" />\n",
    "<PackageReference Include=\"Azure.AI.Agents.Persistent\" Version=\"1.2.0-beta.5\" />\n",
    "<PackageReference Include=\"Azure.Identity\" Version=\"1.15.0\" />\n",
    "<PackageReference Include=\"System.Linq.Async\" Version=\"6.0.3\" />\n",
    "<PackageReference Include=\"DotNetEnv\" Version=\"3.1.1\" />\n",
    "```\n",
    "\n",
    "**การตั้งค่าการรับรองความถูกต้องของ Azure:**\n",
    "```bash\n",
    "# Install Azure CLI and authenticate\n",
    "az login\n",
    "az account set --subscription \"your-subscription-id\"\n",
    "```\n",
    "\n",
    "**การกำหนดค่าของสภาพแวดล้อม (.env file):**\n",
    "```env\n",
    "# Azure AI Foundry configuration (automatically handled via Azure CLI)\n",
    "# Ensure you're authenticated to the correct Azure subscription\n",
    "```\n",
    "\n",
    "## 📊 รูปแบบ RAG ในระดับองค์กร\n",
    "\n",
    "### รูปแบบการจัดการเอกสาร\n",
    "- **Bulk Upload**: การประมวลผลคอลเลกชันเอกสารขนาดใหญ่ได้อย่างมีประสิทธิภาพ\n",
    "- **Incremental Updates**: การเพิ่มและแก้ไขเอกสารแบบเรียลไทม์\n",
    "- **Version Control**: การจัดการเวอร์ชันเอกสารและการติดตามการเปลี่ยนแปลง\n",
    "- **Metadata Management**: คุณลักษณะเอกสารที่หลากหลายและการจัดหมวดหมู่\n",
    "\n",
    "### รูปแบบการค้นหาและการดึงข้อมูล\n",
    "- **Hybrid Search**: การรวมการค้นหาแบบ semantic และ keyword เพื่อผลลัพธ์ที่ดีที่สุด\n",
    "- **Faceted Search**: การกรองและการจัดหมวดหมู่แบบหลายมิติ\n",
    "- **Relevance Tuning**: อัลกอริทึมการให้คะแนนแบบกำหนดเองสำหรับความต้องการเฉพาะด้าน\n",
    "- **Result Ranking**: การจัดอันดับขั้นสูงพร้อมการผสานตรรกะทางธุรกิจ\n",
    "\n",
    "### รูปแบบความปลอดภัย\n",
    "- **Document-Level Security**: การควบคุมการเข้าถึงแบบละเอียดสำหรับแต่ละเอกสาร\n",
    "- **Data Classification**: การติดฉลากความอ่อนไหวและการปกป้องข้อมูลอัตโนมัติ\n",
    "- **Audit Trails**: การบันทึกการดำเนินการ RAG อย่างครอบคลุม\n",
    "- **Privacy Protection**: ความสามารถในการตรวจจับและลบข้อมูลส่วนบุคคล (PII)\n",
    "\n",
    "## 🔒 ฟีเจอร์ความปลอดภัยในระดับองค์กร\n",
    "\n",
    "### การรับรองความถูกต้องและการอนุญาต\n",
    "```csharp\n",
    "// Azure AD integrated authentication\n",
    "var credential = new AzureCliCredential();\n",
    "var agentsClient = new PersistentAgentsClient(endpoint, credential);\n",
    "\n",
    "// Role-based access validation\n",
    "if (!await ValidateUserPermissions(user, documentId))\n",
    "{\n",
    "    throw new UnauthorizedAccessException(\"Insufficient permissions\");\n",
    "}\n",
    "```\n",
    "\n",
    "### การปกป้องข้อมูล\n",
    "- **Encryption**: การเข้ารหัสแบบ end-to-end สำหรับเอกสารและดัชนีการค้นหา\n",
    "- **Access Controls**: การผสานกับ Azure AD สำหรับการอนุญาตผู้ใช้และกลุ่ม\n",
    "- **Data Residency**: การควบคุมตำแหน่งข้อมูลทางภูมิศาสตร์เพื่อการปฏิบัติตามข้อกำหนด\n",
    "- **Backup & Recovery**: ความสามารถในการสำรองข้อมูลและกู้คืนอัตโนมัติ\n",
    "\n",
    "## 📈 การปรับปรุงประสิทธิภาพ\n",
    "\n",
    "### รูปแบบการประมวลผลแบบอะซิงโครนัส\n",
    "```csharp\n",
    "// Efficient async document processing\n",
    "await foreach (var document in documentStream.AsAsyncEnumerable())\n",
    "{\n",
    "    await ProcessDocumentAsync(document, cancellationToken);\n",
    "}\n",
    "```\n",
    "\n",
    "### การจัดการหน่วยความจำ\n",
    "- **Streaming Processing**: การจัดการเอกสารขนาดใหญ่โดยไม่เกิดปัญหาหน่วยความจำ\n",
    "- **Resource Pooling**: การใช้ทรัพยากรที่มีค่าอย่างมีประสิทธิภาพ\n",
    "- **Garbage Collection**: รูปแบบการจัดสรรหน่วยความจำที่ปรับแต่ง\n",
    "- **Connection Management**: วงจรการเชื่อมต่อบริการ Azure ที่เหมาะสม\n",
    "\n",
    "### กลยุทธ์การแคช\n",
    "- **Query Caching**: การแคชการค้นหาที่ดำเนินการบ่อย\n",
    "- **Document Caching**: การแคชในหน่วยความจำสำหรับเอกสารที่มีการใช้งานบ่อย\n",
    "- **Index Caching**: การแคชดัชนีเวกเตอร์ที่ปรับแต่ง\n",
    "- **Result Caching**: การแคชคำตอบที่สร้างขึ้นอย่างชาญฉลาด\n",
    "\n",
    "## 📊 กรณีการใช้งานในระดับองค์กร\n",
    "\n",
    "### การจัดการความรู้\n",
    "- **Corporate Wiki**: การค้นหาอัจฉริยะในฐานข้อมูลความรู้ของบริษัท\n",
    "- **Policy & Procedures**: คำแนะนำเกี่ยวกับการปฏิบัติตามข้อกำหนดและขั้นตอนอัตโนมัติ\n",
    "- **Training Materials**: การช่วยเหลือด้านการเรียนรู้และการพัฒนาที่ชาญฉลาด\n",
    "- **Research Databases**: ระบบวิเคราะห์เอกสารวิชาการและงานวิจัย\n",
    "\n",
    "### การสนับสนุนลูกค้า\n",
    "- **Support Knowledge Base**: การตอบคำถามลูกค้าอัตโนมัติ\n",
    "- **Product Documentation**: การดึงข้อมูลผลิตภัณฑ์อย่างชาญฉลาด\n",
    "- **Troubleshooting Guides**: การช่วยแก้ปัญหาเชิงบริบท\n",
    "- **FAQ Systems**: การสร้าง FAQ แบบไดนามิกจากคอลเลกชันเอกสาร\n",
    "\n",
    "### การปฏิบัติตามข้อกำหนด\n",
    "- **Legal Document Analysis**: ความฉลาดในเอกสารสัญญาและกฎหมาย\n",
    "- **Compliance Monitoring**: การตรวจสอบการปฏิบัติตามข้อกำหนดอัตโนมัติ\n",
    "- **Risk Assessment**: การวิเคราะห์และรายงานความเสี่ยงจากเอกสาร\n",
    "- **Audit Support**: การค้นพบเอกสารอัจฉริยะสำหรับการตรวจสอบ\n",
    "\n",
    "## 🚀 การปรับใช้ในระดับการผลิต\n",
    "\n",
    "### การตรวจสอบและการสังเกตการณ์\n",
    "- **Application Insights**: การตรวจสอบรายละเอียดและประสิทธิภาพ\n",
    "- **Custom Metrics**: การติดตาม KPI เฉพาะธุรกิจและการแจ้งเตือน\n",
    "- **Distributed Tracing**: การติดตามคำขอแบบ end-to-end ระหว่างบริการ\n",
    "- **Health Dashboards**: การแสดงภาพสุขภาพและประสิทธิภาพของระบบแบบเรียลไทม์\n",
    "\n",
    "### ความสามารถในการขยายตัวและความน่าเชื่อถือ\n",
    "- **Auto-Scaling**: การปรับขนาดอัตโนมัติตามโหลดและเมตริกประสิทธิภาพ\n",
    "- **High Availability**: การปรับใช้หลายภูมิภาคพร้อมความสามารถในการสำรองข้อมูล\n",
    "- **Load Testing**: การตรวจสอบประสิทธิภาพภายใต้โหลดระดับองค์กร\n",
    "- **Disaster Recovery**: ขั้นตอนการสำรองข้อมูลและกู้คืนอัตโนมัติ\n",
    "\n",
    "พร้อมที่จะสร้างระบบ RAG ระดับองค์กรที่สามารถจัดการเอกสารที่สำคัญในระดับใหญ่ได้แล้วหรือยัง? มาออกแบบระบบความรู้ที่ชาญฉลาดสำหรับองค์กรกันเถอะ! 🏢📖✨\n"
   ]
  },
  {
   "cell_type": "code",
   "execution_count": 1,
   "metadata": {
    "language_info": {
     "name": "polyglot-notebook"
    },
    "polyglot_notebook": {
     "kernelName": "csharp"
    }
   },
   "outputs": [
    {
     "data": {
      "text/html": [
       "<div><div></div><div></div><div><strong>Installed Packages</strong><ul><li><span>Microsoft.Extensions.AI, 9.9.1</span></li></ul></div></div>"
      ]
     },
     "metadata": {},
     "output_type": "display_data"
    }
   ],
   "source": [
    "#r \"nuget: Microsoft.Extensions.AI, 9.9.1\""
   ]
  },
  {
   "cell_type": "code",
   "execution_count": 2,
   "id": "4ec1f0d1",
   "metadata": {
    "language_info": {
     "name": "polyglot-notebook"
    },
    "polyglot_notebook": {
     "kernelName": "csharp"
    }
   },
   "outputs": [
    {
     "data": {
      "text/html": [
       "<div><div></div><div></div><div><strong>Installed Packages</strong><ul><li><span>Azure.AI.Agents.Persistent, 1.2.0-beta.5</span></li><li><span>Azure.Identity, 1.15.0</span></li><li><span>System.Linq.Async, 6.0.3</span></li></ul></div></div>"
      ]
     },
     "metadata": {},
     "output_type": "display_data"
    }
   ],
   "source": [
    "#r \"nuget: Azure.AI.Agents.Persistent, 1.2.0-beta.5\"\n",
    "#r \"nuget: Azure.Identity, 1.15.0\"\n",
    "#r \"nuget: System.Linq.Async, 6.0.3\""
   ]
  },
  {
   "cell_type": "code",
   "execution_count": 3,
   "id": "2363ae07",
   "metadata": {
    "language_info": {
     "name": "polyglot-notebook"
    },
    "polyglot_notebook": {
     "kernelName": "csharp"
    }
   },
   "outputs": [],
   "source": []
  },
  {
   "cell_type": "code",
   "execution_count": null,
   "id": "d10cec9d",
   "metadata": {
    "language_info": {
     "name": "polyglot-notebook"
    },
    "polyglot_notebook": {
     "kernelName": "csharp"
    }
   },
   "outputs": [
    {
     "data": {
      "text/html": [
       "<div><div></div><div></div><div><strong>Installed Packages</strong><ul><li><span>Microsoft.Agents.AI.AzureAI, 1.0.0-preview.251001.2</span></li></ul></div></div>"
      ]
     },
     "metadata": {},
     "output_type": "display_data"
    }
   ],
   "source": [
    "#r \"nuget: Microsoft.Agents.AI.AzureAI, 1.0.0-preview.251001.3\""
   ]
  },
  {
   "cell_type": "code",
   "execution_count": null,
   "id": "78199d1c",
   "metadata": {
    "language_info": {
     "name": "polyglot-notebook"
    },
    "polyglot_notebook": {
     "kernelName": "csharp"
    }
   },
   "outputs": [
    {
     "data": {
      "text/html": [
       "<div><div></div><div></div><div><strong>Installed Packages</strong><ul><li><span>microsoft.agents.ai, 1.0.0-preview.251001.2</span></li></ul></div></div>"
      ]
     },
     "metadata": {},
     "output_type": "display_data"
    }
   ],
   "source": [
    "#r \"nuget: Microsoft.Agents.AI, 1.0.0-preview.251001.3\""
   ]
  },
  {
   "cell_type": "code",
   "execution_count": 6,
   "id": "7de4684a",
   "metadata": {
    "language_info": {
     "name": "polyglot-notebook"
    },
    "polyglot_notebook": {
     "kernelName": "csharp"
    }
   },
   "outputs": [
    {
     "data": {
      "text/html": [
       "<div><div></div><div></div><div><strong>Installed Packages</strong><ul><li><span>DotNetEnv, 3.1.1</span></li></ul></div></div>"
      ]
     },
     "metadata": {},
     "output_type": "display_data"
    }
   ],
   "source": [
    "#r \"nuget: DotNetEnv, 3.1.1\""
   ]
  },
  {
   "cell_type": "code",
   "execution_count": 7,
   "id": "251efd31",
   "metadata": {
    "language_info": {
     "name": "polyglot-notebook"
    },
    "polyglot_notebook": {
     "kernelName": "csharp"
    }
   },
   "outputs": [],
   "source": [
    "using System;\n",
    "using System.Linq;\n",
    "using Azure.AI.Agents.Persistent;\n",
    "using Azure.Identity;\n",
    "using Microsoft.Agents.AI;"
   ]
  },
  {
   "cell_type": "code",
   "execution_count": 8,
   "id": "a2e342f1",
   "metadata": {
    "language_info": {
     "name": "polyglot-notebook"
    },
    "polyglot_notebook": {
     "kernelName": "csharp"
    }
   },
   "outputs": [],
   "source": [
    " using DotNetEnv;"
   ]
  },
  {
   "cell_type": "code",
   "execution_count": 9,
   "id": "a7a01653",
   "metadata": {
    "language_info": {
     "name": "polyglot-notebook"
    },
    "polyglot_notebook": {
     "kernelName": "csharp"
    }
   },
   "outputs": [],
   "source": [
    "Env.Load(\"../../../.env\");"
   ]
  },
  {
   "cell_type": "code",
   "execution_count": 10,
   "id": "a42735d5",
   "metadata": {
    "language_info": {
     "name": "polyglot-notebook"
    },
    "polyglot_notebook": {
     "kernelName": "csharp"
    }
   },
   "outputs": [],
   "source": [
    "var azure_foundry_endpoint = Environment.GetEnvironmentVariable(\"AZURE_AI_PROJECT_ENDPOINT\") ?? throw new InvalidOperationException(\"AZURE_AI_PROJECT_ENDPOINT is not set.\");\n",
    "var azure_foundry_model_id = Environment.GetEnvironmentVariable(\"AZURE_AI_MODEL_DEPLOYMENT_NAME\") ?? \"gpt-4.1-mini\";"
   ]
  },
  {
   "cell_type": "code",
   "execution_count": 11,
   "id": "e29bdb58",
   "metadata": {
    "language_info": {
     "name": "polyglot-notebook"
    },
    "polyglot_notebook": {
     "kernelName": "csharp"
    }
   },
   "outputs": [],
   "source": [
    "string pdfPath = \"./document.md\";"
   ]
  },
  {
   "cell_type": "code",
   "execution_count": 12,
   "id": "7351e12d",
   "metadata": {
    "language_info": {
     "name": "polyglot-notebook"
    },
    "polyglot_notebook": {
     "kernelName": "csharp"
    }
   },
   "outputs": [],
   "source": [
    "using System.IO;\n",
    "\n",
    "async Task<Stream> OpenImageStreamAsync(string path)\n",
    "{\n",
    "\treturn await Task.Run(() => File.OpenRead(path));\n",
    "}\n",
    "\n",
    "var pdfStream = await OpenImageStreamAsync(pdfPath);"
   ]
  },
  {
   "cell_type": "code",
   "execution_count": 13,
   "id": "0b6bf484",
   "metadata": {
    "language_info": {
     "name": "polyglot-notebook"
    },
    "polyglot_notebook": {
     "kernelName": "csharp"
    }
   },
   "outputs": [],
   "source": [
    "var persistentAgentsClient = new PersistentAgentsClient(azure_foundry_endpoint, new AzureCliCredential());"
   ]
  },
  {
   "cell_type": "code",
   "execution_count": 14,
   "id": "81e0dddc",
   "metadata": {
    "language_info": {
     "name": "polyglot-notebook"
    },
    "polyglot_notebook": {
     "kernelName": "csharp"
    }
   },
   "outputs": [],
   "source": [
    "PersistentAgentFileInfo fileInfo = await persistentAgentsClient.Files.UploadFileAsync(pdfStream, PersistentAgentFilePurpose.Agents, \"demo.md\");"
   ]
  },
  {
   "cell_type": "code",
   "execution_count": 15,
   "id": "f0c75d80",
   "metadata": {
    "language_info": {
     "name": "polyglot-notebook"
    },
    "polyglot_notebook": {
     "kernelName": "csharp"
    }
   },
   "outputs": [],
   "source": [
    "PersistentAgentsVectorStore fileStore =\n",
    "            await persistentAgentsClient.VectorStores.CreateVectorStoreAsync(\n",
    "                [fileInfo.Id],\n",
    "                metadata: new Dictionary<string, string>() { { \"agentkey\", bool.TrueString } });"
   ]
  },
  {
   "cell_type": "code",
   "execution_count": 16,
   "id": "c77986c5",
   "metadata": {
    "language_info": {
     "name": "polyglot-notebook"
    },
    "polyglot_notebook": {
     "kernelName": "csharp"
    }
   },
   "outputs": [],
   "source": [
    "PersistentAgent agentModel = await persistentAgentsClient.Administration.CreateAgentAsync(\n",
    "            azure_foundry_model_id,\n",
    "            name: \"DotNetRAGAgent\",\n",
    "            tools: [new FileSearchToolDefinition()],\n",
    "            instructions: \"\"\"\n",
    "                You are an AI assistant designed to answer user questions using only the information retrieved from the provided document(s).\n",
    "\n",
    "                - If a user's question cannot be answered using the retrieved context, **you must clearly respond**: \n",
    "                \"I'm sorry, but the uploaded document does not contain the necessary information to answer that question.\"\n",
    "                - Do not answer from general knowledge or reasoning. Do not make assumptions or generate hypothetical explanations.\n",
    "                - Do not provide definitions, tutorials, or commentary that is not explicitly grounded in the content of the uploaded file(s).\n",
    "                - If a user asks a question like \"What is a Neural Network?\", and this is not discussed in the uploaded document, respond as instructed above.\n",
    "                - For questions that do have relevant content in the document (e.g., Contoso's travel insurance coverage), respond accurately, and cite the document explicitly.\n",
    "\n",
    "                You must behave as if you have no external knowledge beyond what is retrieved from the uploaded document.\n",
    "                \"\"\",\n",
    "            toolResources: new()\n",
    "            {\n",
    "                FileSearch = new()\n",
    "                {\n",
    "                    VectorStoreIds = { fileStore.Id },\n",
    "                }\n",
    "            },\n",
    "            metadata: new Dictionary<string, string>() { { \"agentkey\", bool.TrueString } });"
   ]
  },
  {
   "cell_type": "code",
   "execution_count": 17,
   "id": "282326cf",
   "metadata": {
    "language_info": {
     "name": "polyglot-notebook"
    },
    "polyglot_notebook": {
     "kernelName": "csharp"
    }
   },
   "outputs": [],
   "source": [
    "AIAgent agent = await persistentAgentsClient.GetAIAgentAsync(agentModel.Id);"
   ]
  },
  {
   "cell_type": "code",
   "execution_count": 18,
   "id": "2067d313",
   "metadata": {
    "language_info": {
     "name": "polyglot-notebook"
    },
    "polyglot_notebook": {
     "kernelName": "csharp"
    }
   },
   "outputs": [],
   "source": [
    "AgentThread thread = agent.GetNewThread();"
   ]
  },
  {
   "cell_type": "code",
   "execution_count": 19,
   "id": "454c4230",
   "metadata": {
    "language_info": {
     "name": "polyglot-notebook"
    },
    "polyglot_notebook": {
     "kernelName": "csharp"
    }
   },
   "outputs": [
    {
     "name": "stdout",
     "output_type": "stream",
     "text": [
      "Contoso's travel insurance coverage includes protection for medical emergencies, trip cancellations, and lost baggage. This ensures that travelers are supported in case of health-related issues during their trip, unforeseen cancellations, and the loss of their belongings while traveling【4:0†demo.md】.\r\n"
     ]
    }
   ],
   "source": [
    "Console.WriteLine(await agent.RunAsync(\"Can you explain Contoso's travel insurance coverage?\", thread));"
   ]
  },
  {
   "cell_type": "markdown",
   "metadata": {},
   "source": [
    "\n---\n\n**ข้อจำกัดความรับผิดชอบ**:  \nเอกสารนี้ได้รับการแปลโดยใช้บริการแปลภาษา AI [Co-op Translator](https://github.com/Azure/co-op-translator) แม้ว่าเราจะพยายามให้การแปลมีความถูกต้อง แต่โปรดทราบว่าการแปลอัตโนมัติอาจมีข้อผิดพลาดหรือความไม่ถูกต้อง เอกสารต้นฉบับในภาษาดั้งเดิมควรถือเป็นแหล่งข้อมูลที่เชื่อถือได้ สำหรับข้อมูลที่สำคัญ ขอแนะนำให้ใช้บริการแปลภาษามนุษย์ที่มีความเชี่ยวชาญ เราไม่รับผิดชอบต่อความเข้าใจผิดหรือการตีความผิดที่เกิดจากการใช้การแปลนี้\n"
   ]
  }
 ],
 "metadata": {
  "kernelspec": {
   "display_name": ".NET (C#)",
   "language": "C#",
   "name": ".net-csharp"
  },
  "language_info": {
   "name": "polyglot-notebook"
  },
  "polyglot_notebook": {
   "kernelInfo": {
    "defaultKernelName": "csharp",
    "items": [
     {
      "aliases": [],
      "name": "csharp"
     }
    ]
   }
  },
  "coopTranslator": {
   "original_hash": "e4584fa31638009dc6fb665275de8fc2",
   "translation_date": "2025-10-02T15:46:50+00:00",
   "source_file": "05-agentic-rag/code_samples/05-dotnet-agent-framework.ipynb",
   "language_code": "th"
  }
 },
 "nbformat": 4,
 "nbformat_minor": 5
}