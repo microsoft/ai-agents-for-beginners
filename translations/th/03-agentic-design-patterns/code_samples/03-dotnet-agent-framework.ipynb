{
 "cells": [
  {
   "cell_type": "markdown",
   "id": "d6058fa4",
   "metadata": {},
   "source": [
    "# 🎨 รูปแบบการออกแบบ Agentic ด้วย GitHub Models (.NET)\n",
    "\n",
    "## 📋 วัตถุประสงค์การเรียนรู้\n",
    "\n",
    "โน้ตบุ๊กนี้แสดงรูปแบบการออกแบบระดับองค์กรสำหรับการสร้างตัวแทนอัจฉริยะโดยใช้ Microsoft Agent Framework ใน .NET พร้อมการผสานรวม GitHub Models คุณจะได้เรียนรู้รูปแบบและแนวทางสถาปัตยกรรมระดับมืออาชีพที่ทำให้ตัวแทนพร้อมใช้งานในระดับการผลิต ดูแลรักษาได้ และขยายได้\n",
    "\n",
    "**รูปแบบการออกแบบระดับองค์กร:**\n",
    "- 🏭 **Factory Pattern**: การสร้างตัวแทนมาตรฐานด้วย dependency injection\n",
    "- 🔧 **Builder Pattern**: การตั้งค่าและกำหนดค่าตัวแทนแบบ fluent\n",
    "- 🧵 **Thread-Safe Patterns**: การจัดการการสนทนาแบบ concurrent\n",
    "- 📋 **Repository Pattern**: การจัดการเครื่องมือและความสามารถอย่างเป็นระบบ\n",
    "\n",
    "## 🎯 ประโยชน์ทางสถาปัตยกรรมเฉพาะ .NET\n",
    "\n",
    "### คุณสมบัติระดับองค์กร\n",
    "- **Strong Typing**: การตรวจสอบความถูกต้องในเวลา compile และการสนับสนุน IntelliSense\n",
    "- **Dependency Injection**: การผสานรวม DI container ในตัว\n",
    "- **Configuration Management**: รูปแบบ IConfiguration และ Options\n",
    "- **Async/Await**: การสนับสนุนการเขียนโปรแกรมแบบ asynchronous ระดับสูง\n",
    "\n",
    "### รูปแบบที่พร้อมใช้งานในระดับการผลิต\n",
    "- **Logging Integration**: การสนับสนุน ILogger และการบันทึกแบบมีโครงสร้าง\n",
    "- **Health Checks**: การตรวจสอบและวินิจฉัยในตัว\n",
    "- **Configuration Validation**: การตรวจสอบความถูกต้องด้วย strong typing และ data annotations\n",
    "- **Error Handling**: การจัดการข้อผิดพลาดแบบมีโครงสร้าง\n",
    "\n",
    "## 🔧 สถาปัตยกรรมทางเทคนิค\n",
    "\n",
    "### ส่วนประกอบหลักของ .NET\n",
    "- **Microsoft.Extensions.AI**: การย่อส่วนบริการ AI แบบ unified\n",
    "- **Microsoft.Agents.AI**: เฟรมเวิร์กการจัดการตัวแทนระดับองค์กร\n",
    "- **GitHub Models Integration**: รูปแบบ API client ที่มีประสิทธิภาพสูง\n",
    "- **Configuration System**: การผสานรวม appsettings.json และ environment\n",
    "\n",
    "### การนำรูปแบบการออกแบบไปใช้\n",
    "```csharp\n",
    "IServiceCollection → Agent Builder → Configuration → Tool Registry → AI Agent\n",
    "```\n",
    "\n",
    "## 🏗️ รูปแบบองค์กรที่แสดงให้เห็น\n",
    "\n",
    "### 1. **Creational Patterns**\n",
    "- **Agent Factory**: การสร้างตัวแทนแบบ centralized ด้วยการกำหนดค่าที่สอดคล้องกัน\n",
    "- **Builder Pattern**: API แบบ fluent สำหรับการกำหนดค่าตัวแทนที่ซับซ้อน\n",
    "- **Singleton Pattern**: การจัดการทรัพยากรและการกำหนดค่าที่ใช้ร่วมกัน\n",
    "- **Dependency Injection**: การลดการเชื่อมโยงและการทดสอบได้ง่าย\n",
    "\n",
    "### 2. **Behavioral Patterns**\n",
    "- **Strategy Pattern**: กลยุทธ์การดำเนินการเครื่องมือที่เปลี่ยนแปลงได้\n",
    "- **Command Pattern**: การดำเนินการตัวแทนที่ encapsulated พร้อม undo/redo\n",
    "- **Observer Pattern**: การจัดการวงจรชีวิตตัวแทนแบบ event-driven\n",
    "- **Template Method**: เวิร์กโฟลว์การดำเนินการตัวแทนที่ได้มาตรฐาน\n",
    "\n",
    "### 3. **Structural Patterns**\n",
    "- **Adapter Pattern**: ชั้นการผสานรวม API ของ GitHub Models\n",
    "- **Decorator Pattern**: การเพิ่มความสามารถของตัวแทน\n",
    "- **Facade Pattern**: อินเทอร์เฟซการโต้ตอบตัวแทนที่เรียบง่าย\n",
    "- **Proxy Pattern**: การโหลดแบบ lazy และการแคชเพื่อประสิทธิภาพ\n",
    "\n",
    "## ⚙️ ข้อกำหนดเบื้องต้นและการตั้งค่า\n",
    "\n",
    "**สภาพแวดล้อมการพัฒนา:**\n",
    "- .NET 9.0 SDK หรือสูงกว่า\n",
    "- Visual Studio 2022 หรือ VS Code พร้อมส่วนขยาย C#\n",
    "- การเข้าถึง API ของ GitHub Models\n",
    "\n",
    "**NuGet Dependencies:**\n",
    "```xml\n",
    "<PackageReference Include=\"Microsoft.Extensions.AI\" Version=\"9.9.0\" />\n",
    "<PackageReference Include=\"Microsoft.Extensions.AI.OpenAI\" Version=\"9.9.0-preview.1.25458.4\" />\n",
    "<PackageReference Include=\"DotNetEnv\" Version=\"3.1.1\" />\n",
    "```\n",
    "\n",
    "**Configuration (.env file):**\n",
    "```env\n",
    "GITHUB_TOKEN=your_github_personal_access_token\n",
    "GITHUB_ENDPOINT=https://models.inference.ai.azure.com\n",
    "GITHUB_MODEL_ID=gpt-4o-mini\n",
    "```\n",
    "\n",
    "## 📚 หลักการออกแบบ .NET\n",
    "\n",
    "### หลักการ SOLID\n",
    "- **Single Responsibility**: แต่ละส่วนประกอบมีวัตถุประสงค์ที่ชัดเจน\n",
    "- **Open/Closed**: ขยายได้โดยไม่ต้องแก้ไข\n",
    "- **Liskov Substitution**: การใช้งานเครื่องมือที่อิงตาม interface\n",
    "- **Interface Segregation**: อินเทอร์เฟซที่มุ่งเน้นและ cohesive\n",
    "- **Dependency Inversion**: พึ่งพาการย่อส่วน ไม่ใช่การย่อขยาย\n",
    "\n",
    "### สถาปัตยกรรมแบบ Clean\n",
    "- **Domain Layer**: การย่อส่วนตัวแทนและเครื่องมือหลัก\n",
    "- **Application Layer**: การจัดการตัวแทนและเวิร์กโฟลว์\n",
    "- **Infrastructure Layer**: การผสานรวม GitHub Models และบริการภายนอก\n",
    "- **Presentation Layer**: การโต้ตอบกับผู้ใช้และการจัดรูปแบบการตอบกลับ\n",
    "\n",
    "## 🔒 การพิจารณาระดับองค์กร\n",
    "\n",
    "### ความปลอดภัย\n",
    "- **Credential Management**: การจัดการ API key อย่างปลอดภัยด้วย IConfiguration\n",
    "- **Input Validation**: การตรวจสอบความถูกต้องด้วย strong typing และ data annotation\n",
    "- **Output Sanitization**: การประมวลผลและกรองการตอบกลับอย่างปลอดภัย\n",
    "- **Audit Logging**: การติดตามการดำเนินการอย่างครอบคลุม\n",
    "\n",
    "### ประสิทธิภาพ\n",
    "- **Async Patterns**: การดำเนินการ I/O แบบ non-blocking\n",
    "- **Connection Pooling**: การจัดการ HTTP client อย่างมีประสิทธิภาพ\n",
    "- **Caching**: การแคชการตอบกลับเพื่อปรับปรุงประสิทธิภาพ\n",
    "- **Resource Management**: รูปแบบการกำจัดและการทำความสะอาดที่เหมาะสม\n",
    "\n",
    "### ความสามารถในการขยาย\n",
    "- **Thread Safety**: การสนับสนุนการดำเนินการตัวแทนแบบ concurrent\n",
    "- **Resource Pooling**: การใช้ทรัพยากรอย่างมีประสิทธิภาพ\n",
    "- **Load Management**: การจำกัดอัตราและการจัดการ backpressure\n",
    "- **Monitoring**: เมตริกประสิทธิภาพและการตรวจสอบสุขภาพ\n",
    "\n",
    "## 🚀 การปรับใช้ในระดับการผลิต\n",
    "\n",
    "- **Configuration Management**: การตั้งค่าที่เฉพาะเจาะจงสำหรับ environment\n",
    "- **Logging Strategy**: การบันทึกแบบมีโครงสร้างพร้อม correlation IDs\n",
    "- **Error Handling**: การจัดการข้อผิดพลาดทั่วโลกพร้อมการกู้คืนที่เหมาะสม\n",
    "- **Monitoring**: Application insights และ performance counters\n",
    "- **Testing**: รูปแบบการทดสอบหน่วย การทดสอบการผสานรวม และการทดสอบโหลด\n",
    "\n",
    "พร้อมที่จะสร้างตัวแทนอัจฉริยะระดับองค์กรด้วย .NET แล้วหรือยัง? มาออกแบบสิ่งที่แข็งแกร่งกันเถอะ! 🏢✨\n"
   ]
  },
  {
   "cell_type": "code",
   "execution_count": 1,
   "id": "2770ac5c",
   "metadata": {
    "language_info": {
     "name": "polyglot-notebook"
    },
    "polyglot_notebook": {
     "kernelName": "csharp"
    }
   },
   "outputs": [
    {
     "data": {
      "text/html": [
       "<div><div></div><div></div><div><strong>Installed Packages</strong><ul><li><span>Microsoft.Extensions.AI, 9.9.1</span></li></ul></div></div>"
      ]
     },
     "metadata": {},
     "output_type": "display_data"
    }
   ],
   "source": [
    "#r \"nuget: Microsoft.Extensions.AI, 9.9.1\""
   ]
  },
  {
   "cell_type": "code",
   "execution_count": null,
   "id": "984ff6cd",
   "metadata": {
    "language_info": {
     "name": "polyglot-notebook"
    },
    "polyglot_notebook": {
     "kernelName": "csharp"
    }
   },
   "outputs": [
    {
     "data": {
      "text/html": [
       "<div><div></div><div></div><div><strong>Installed Packages</strong><ul><li><span>Microsoft.Agents.AI.OpenAI, 1.0.0-preview.251001.2</span></li></ul></div></div>"
      ]
     },
     "metadata": {},
     "output_type": "display_data"
    }
   ],
   "source": [
    "#r \"nuget: Microsoft.Agents.AI.OpenAI, 1.0.0-preview.251001.3\""
   ]
  },
  {
   "cell_type": "code",
   "execution_count": null,
   "id": "0ab71360",
   "metadata": {
    "language_info": {
     "name": "polyglot-notebook"
    },
    "polyglot_notebook": {
     "kernelName": "csharp"
    }
   },
   "outputs": [
    {
     "data": {
      "text/html": [
       "<div><div></div><div></div><div><strong>Installed Packages</strong><ul><li><span>microsoft.agents.ai, 1.0.0-preview.251001.2</span></li></ul></div></div>"
      ]
     },
     "metadata": {},
     "output_type": "display_data"
    }
   ],
   "source": [
    "\n",
    "\n",
    "#r \"nuget: Microsoft.Agents.AI, 1.0.0-preview.251001.3\""
   ]
  },
  {
   "cell_type": "code",
   "execution_count": 4,
   "id": "4ab7b15d",
   "metadata": {
    "language_info": {
     "name": "polyglot-notebook"
    },
    "polyglot_notebook": {
     "kernelName": "csharp"
    }
   },
   "outputs": [],
   "source": [
    "// #r \"nuget: Microsoft.Extensions.AI.OpenAI, 9.9.0-preview.1.25458.4\""
   ]
  },
  {
   "cell_type": "code",
   "execution_count": 5,
   "id": "3fa8aa21",
   "metadata": {
    "language_info": {
     "name": "polyglot-notebook"
    },
    "polyglot_notebook": {
     "kernelName": "csharp"
    }
   },
   "outputs": [
    {
     "data": {
      "text/html": [
       "<div><div></div><div></div><div><strong>Installed Packages</strong><ul><li><span>DotNetEnv, 3.1.1</span></li></ul></div></div>"
      ]
     },
     "metadata": {},
     "output_type": "display_data"
    }
   ],
   "source": [
    "#r \"nuget: DotNetEnv, 3.1.1\""
   ]
  },
  {
   "cell_type": "code",
   "execution_count": 6,
   "id": "fc8ee8ea",
   "metadata": {
    "language_info": {
     "name": "polyglot-notebook"
    },
    "polyglot_notebook": {
     "kernelName": "csharp"
    }
   },
   "outputs": [],
   "source": [
    "using System;\n",
    "using System.ComponentModel;\n",
    "using System.ClientModel;\n",
    "\n",
    "using Microsoft.Extensions.AI;\n",
    "using Microsoft.Agents.AI;\n",
    "using OpenAI;"
   ]
  },
  {
   "cell_type": "code",
   "execution_count": 7,
   "id": "699b1c83",
   "metadata": {
    "language_info": {
     "name": "polyglot-notebook"
    },
    "polyglot_notebook": {
     "kernelName": "csharp"
    }
   },
   "outputs": [],
   "source": [
    " using DotNetEnv;"
   ]
  },
  {
   "cell_type": "code",
   "execution_count": 8,
   "id": "daa649a0",
   "metadata": {
    "language_info": {
     "name": "polyglot-notebook"
    },
    "polyglot_notebook": {
     "kernelName": "csharp"
    }
   },
   "outputs": [],
   "source": [
    "Env.Load(\"../../../.env\");"
   ]
  },
  {
   "cell_type": "code",
   "execution_count": 9,
   "id": "29661a90",
   "metadata": {
    "language_info": {
     "name": "polyglot-notebook"
    },
    "polyglot_notebook": {
     "kernelName": "csharp"
    }
   },
   "outputs": [],
   "source": [
    "[Description(\"Provides a random vacation destination.\")]\n",
    "static string GetRandomDestination()\n",
    "{\n",
    "    var destinations = new List<string>\n",
    "    {\n",
    "        \"Paris, France\",\n",
    "        \"Tokyo, Japan\",\n",
    "        \"New York City, USA\",\n",
    "        \"Sydney, Australia\",\n",
    "        \"Rome, Italy\",\n",
    "        \"Barcelona, Spain\",\n",
    "        \"Cape Town, South Africa\",\n",
    "        \"Rio de Janeiro, Brazil\",\n",
    "        \"Bangkok, Thailand\",\n",
    "        \"Vancouver, Canada\"\n",
    "    };\n",
    "\n",
    "    var random = new Random();\n",
    "    int index = random.Next(destinations.Count);\n",
    "    return destinations[index];\n",
    "}"
   ]
  },
  {
   "cell_type": "code",
   "execution_count": 10,
   "id": "d2ed1f8b",
   "metadata": {
    "language_info": {
     "name": "polyglot-notebook"
    },
    "polyglot_notebook": {
     "kernelName": "csharp"
    }
   },
   "outputs": [],
   "source": [
    "var github_endpoint = Environment.GetEnvironmentVariable(\"GITHUB_ENDPOINT\") ?? throw new InvalidOperationException(\"GITHUB_ENDPOINT is not set.\");\n",
    "var github_model_id = Environment.GetEnvironmentVariable(\"GITHUB_MODEL_ID\") ?? \"gpt-4o-mini\";\n",
    "var github_token = Environment.GetEnvironmentVariable(\"GITHUB_TOKEN\") ?? throw new InvalidOperationException(\"GITHUB_TOKEN is not set.\");"
   ]
  },
  {
   "cell_type": "code",
   "execution_count": 11,
   "id": "c36c73e1",
   "metadata": {
    "language_info": {
     "name": "polyglot-notebook"
    },
    "polyglot_notebook": {
     "kernelName": "csharp"
    }
   },
   "outputs": [],
   "source": [
    "var openAIOptions = new OpenAIClientOptions()\n",
    "{\n",
    "    Endpoint= new Uri(github_endpoint)\n",
    "};"
   ]
  },
  {
   "cell_type": "code",
   "execution_count": 12,
   "id": "6d94ff10",
   "metadata": {
    "language_info": {
     "name": "polyglot-notebook"
    },
    "polyglot_notebook": {
     "kernelName": "csharp"
    }
   },
   "outputs": [],
   "source": [
    "\n",
    "var openAIClient = new OpenAIClient(new ApiKeyCredential(github_token), openAIOptions);"
   ]
  },
  {
   "cell_type": "code",
   "execution_count": 13,
   "id": "fe32b57a",
   "metadata": {
    "language_info": {
     "name": "polyglot-notebook"
    },
    "polyglot_notebook": {
     "kernelName": "csharp"
    }
   },
   "outputs": [],
   "source": [
    "AIAgent agent = new OpenAIClient(new ApiKeyCredential(github_token), openAIOptions).GetChatClient(github_model_id).CreateAIAgent(\n",
    "    instructions:\"You are a helpful AI Agent that can help plan vacations for customers at random destinations\", tools: [AIFunctionFactory.Create((Func<string>)GetRandomDestination)]);"
   ]
  },
  {
   "cell_type": "code",
   "execution_count": 14,
   "metadata": {
    "language_info": {
     "name": "polyglot-notebook"
    },
    "polyglot_notebook": {
     "kernelName": "csharp"
    }
   },
   "outputs": [],
   "source": [
    "AgentThread thread = agent.GetNewThread();"
   ]
  },
  {
   "cell_type": "code",
   "execution_count": 15,
   "id": "5e455aff",
   "metadata": {
    "language_info": {
     "name": "polyglot-notebook"
    },
    "polyglot_notebook": {
     "kernelName": "csharp"
    }
   },
   "outputs": [
    {
     "name": "stdout",
     "output_type": "stream",
     "text": [
      "How about a day trip to Vancouver, Canada? Here's a suggested itinerary for your day:\n",
      "\n",
      "### Morning\n",
      "- **Breakfast at a Local Cafe**: Start your day with a delicious breakfast at a cozy café like **Jam Cafe** or **Cafe Medina**.\n",
      "- **Stanley Park**: After breakfast, head to Stanley Park. You can rent a bike and ride along the seawall, enjoying beautiful views of the city and the water.\n",
      "\n",
      "### Afternoon\n",
      "- **Lunch in Gastown**: Make your way to Gastown for lunch. Try a local favorite like **The Flying Pig** or **Noodle Box**.\n",
      "- **Explore Gastown**: After lunch, walk around Gastown to see the iconic Steam Clock and browse the unique shops and boutiques.\n",
      "\n",
      "### Late Afternoon\n",
      "- **Granville Island**: Visit Granville Island, where you can stroll through the public market, sample local foods, and enjoy artisan shops.\n",
      "- **False Creek**: Take a walk along False Creek and enjoy the waterfront views.\n",
      "\n",
      "### Evening\n",
      "- **Dinner at a Waterfront Restaurant**: End your day with dinner at a waterfront restaurant like **The Boathouse** or **Lift Bar Grill View** for great food and a view of the sunset.\n",
      "- **Optional: Sunset Cruise**: If you're up for it, consider taking a sunset cruise for a different perspective of the city.\n",
      "\n",
      "### Tips\n",
      "- Make sure to check the weather beforehand!\n",
      "- Consider public transport or ride-sharing to navigate the city easily.\n",
      "\n",
      "Enjoy your day trip to Vancouver!\r\n"
     ]
    }
   ],
   "source": [
    "Console.WriteLine(await agent.RunAsync(\"Plan me a day trip\",thread));"
   ]
  },
  {
   "cell_type": "code",
   "execution_count": 16,
   "id": "592ae1bb",
   "metadata": {
    "language_info": {
     "name": "polyglot-notebook"
    },
    "polyglot_notebook": {
     "kernelName": "csharp"
    }
   },
   "outputs": [
    {
     "name": "stdout",
     "output_type": "stream",
     "text": [
      "How about a vacation to New York City, USA? Here's a suggested itinerary for your trip:\n",
      "\n",
      "### Day 1: Arrival in New York City\n",
      "- **Check-In**: Arrive and check in to your hotel.\n",
      "- **Central Park**: Take a leisurely stroll through Central Park. Consider renting a bike or taking a carriage ride.\n",
      "- **Evening**: Enjoy dinner at a classic NYC restaurant, such as **Katz's Delicatessen** or **Carbone**.\n",
      "\n",
      "### Day 2: Iconic Landmarks\n",
      "- **Morning**: Breakfast at a local diner.\n",
      "- **Statue of Liberty & Ellis Island**: Take a ferry to visit these iconic landmarks.\n",
      "- **Afternoon**: Explore Wall Street and visit the 9/11 Memorial & Museum.\n",
      "- **Evening**: Dinner in the Financial District followed by a walk across the Brooklyn Bridge at sunset.\n",
      "\n",
      "### Day 3: Culture and Arts\n",
      "- **Morning**: Visit The Metropolitan Museum of Art (The Met) and spend a few hours exploring its vast collection.\n",
      "- **Afternoon**: Head to Times Square for lunch and the buzz of the city.\n",
      "- **Broadway Show**: Catch a Broadway show in the evening. Be sure to book tickets in advance!\n",
      "\n",
      "### Day 4: Explore Neighborhoods\n",
      "- **Morning**: Head to SoHo for brunch and shopping in its chic boutiques.\n",
      "- **Afternoon**: Explore Greenwich Village, known for its bohemian atmosphere and history.\n",
      "- **Evening**: Enjoy dinner in the West Village, perhaps at **Buvette** or **Minetta Tavern**.\n",
      "\n",
      "### Day 5: Departure\n",
      "- **Last-minute Shopping**: Spend your last morning shopping at Fifth Avenue or head to Chelsea Market for food and souvenirs.\n",
      "- **Check-Out**: Depart for your journey home.\n",
      "\n",
      "### Tips\n",
      "- Utilize the subway for efficient travel around the city.\n",
      "- Make reservations for popular restaurants and attractions ahead of time!\n",
      "\n",
      "Enjoy your trip to New York City!\r\n"
     ]
    }
   ],
   "source": [
    "Console.WriteLine(await agent.RunAsync(\"I don't like that destination. Plan me another vacation.\",thread));"
   ]
  },
  {
   "cell_type": "markdown",
   "metadata": {},
   "source": [
    "\n---\n\n**ข้อจำกัดความรับผิดชอบ**:  \nเอกสารนี้ได้รับการแปลโดยใช้บริการแปลภาษา AI [Co-op Translator](https://github.com/Azure/co-op-translator) แม้ว่าเราจะพยายามให้การแปลมีความถูกต้องมากที่สุด แต่โปรดทราบว่าการแปลอัตโนมัติอาจมีข้อผิดพลาดหรือความไม่ถูกต้อง เอกสารต้นฉบับในภาษาดั้งเดิมควรถือเป็นแหล่งข้อมูลที่เชื่อถือได้ สำหรับข้อมูลที่สำคัญ ขอแนะนำให้ใช้บริการแปลภาษามืออาชีพ เราไม่รับผิดชอบต่อความเข้าใจผิดหรือการตีความผิดที่เกิดจากการใช้การแปลนี้\n"
   ]
  }
 ],
 "metadata": {
  "kernelspec": {
   "display_name": ".NET (C#)",
   "language": "C#",
   "name": ".net-csharp"
  },
  "language_info": {
   "name": "polyglot-notebook"
  },
  "polyglot_notebook": {
   "kernelInfo": {
    "defaultKernelName": "csharp",
    "items": [
     {
      "aliases": [],
      "name": "csharp"
     }
    ]
   }
  },
  "coopTranslator": {
   "original_hash": "070c1d8985b3dc6e6d977f3e891037f1",
   "translation_date": "2025-10-02T16:16:14+00:00",
   "source_file": "03-agentic-design-patterns/code_samples/03-dotnet-agent-framework.ipynb",
   "language_code": "th"
  }
 },
 "nbformat": 4,
 "nbformat_minor": 5
}