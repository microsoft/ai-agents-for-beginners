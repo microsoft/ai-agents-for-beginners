{
 "cells": [
  {
   "cell_type": "markdown",
   "id": "8744544f",
   "metadata": {},
   "source": [
    "# 🛠️ การใช้งานเครื่องมือขั้นสูงกับ GitHub Models (Python)\n",
    "\n",
    "## 📋 วัตถุประสงค์การเรียนรู้\n",
    "\n",
    "โน้ตบุ๊กนี้แสดงรูปแบบการผสานรวมเครื่องมือขั้นสูงโดยใช้ Microsoft Agent Framework กับ GitHub Models คุณจะได้เรียนรู้วิธีสร้าง จัดการ และประสานงานเครื่องมือหลายตัวเพื่อสร้างความสามารถของเอเจนต์ที่ซับซ้อน\n",
    "\n",
    "**สิ่งที่คุณจะเชี่ยวชาญ:**\n",
    "- 🔧 **สถาปัตยกรรมหลายเครื่องมือ**: สร้างเอเจนต์ด้วยเครื่องมือเฉพาะทางหลายตัว\n",
    "- 🎯 **ตรรกะการเลือกเครื่องมือ**: วิธีที่เอเจนต์เลือกเครื่องมือที่เหมาะสมสำหรับแต่ละงาน\n",
    "- 📊 **เครื่องมือประมวลผลข้อมูล**: สร้างเครื่องมือที่จัดการประเภทข้อมูลต่างๆ\n",
    "- 🔗 **การผสมผสานเครื่องมือ**: รวมเครื่องมือเพื่อเวิร์กโฟลว์ที่ซับซ้อน\n",
    "\n",
    "## 🎯 รูปแบบเครื่องมือสำคัญ\n",
    "\n",
    "### หลักการออกแบบเครื่องมือ\n",
    "- **ความรับผิดชอบเดียว**: แต่ละเครื่องมือมีวัตถุประสงค์ที่ชัดเจนและมุ่งเน้น\n",
    "- **ความปลอดภัยของประเภท**: การกำหนดประเภทที่แข็งแกร่งเพื่อการดำเนินการเครื่องมือที่เชื่อถือได้\n",
    "- **การจัดการข้อผิดพลาด**: รูปแบบการล้มเหลวและการกู้คืนที่ราบรื่น\n",
    "- **ความสามารถในการผสมผสาน**: เครื่องมือที่ทำงานร่วมกันได้ดี\n",
    "\n",
    "### คุณสมบัติขั้นสูงของเครื่องมือ\n",
    "- **การรับรู้บริบท**: เครื่องมือที่เข้าใจบริบทของการสนทนา\n",
    "- **การตรวจสอบข้อมูล**: การทำความสะอาดข้อมูลนำเข้าและการตรวจสอบผลลัพธ์\n",
    "- **การเพิ่มประสิทธิภาพ**: รูปแบบการดำเนินการเครื่องมือที่มีประสิทธิภาพ\n",
    "- **ความสามารถในการขยาย**: การเพิ่มความสามารถของเครื่องมือใหม่ได้ง่าย\n",
    "\n",
    "## 🔧 สถาปัตยกรรมทางเทคนิค\n",
    "\n",
    "### ส่วนประกอบหลัก\n",
    "- **Microsoft Agent Framework**: การใช้งาน Python พร้อมการสนับสนุนเครื่องมือขั้นสูง\n",
    "- **การผสานรวม GitHub Models**: การเข้าถึงโมเดลภาษาประสิทธิภาพสูง\n",
    "- **ระบบลงทะเบียนเครื่องมือ**: การจัดการความสามารถของเอเจนต์อย่างเป็นระเบียบ\n",
    "- **รูปแบบการกู้คืนข้อผิดพลาด**: การจัดการข้อผิดพลาดในการดำเนินการเครื่องมืออย่างแข็งแกร่ง\n",
    "\n",
    "### กระบวนการผสานรวมเครื่องมือ\n",
    "```python\n",
    "User Request → Agent Analysis → Tool Selection → Tool Execution → Response Synthesis\n",
    "```\n",
    "\n",
    "## 🛠️ หมวดหมู่เครื่องมือที่แสดง\n",
    "\n",
    "### 1. **เครื่องมือสร้างข้อมูล**\n",
    "- ตัวสร้างจุดหมายปลายทางแบบสุ่ม\n",
    "- ผู้ให้ข้อมูลสภาพอากาศ  \n",
    "- เครื่องคำนวณค่าใช้จ่ายในการเดินทาง\n",
    "- เครื่องมือแนะนำกิจกรรม\n",
    "\n",
    "### 2. **เครื่องมือประมวลผล**\n",
    "- การจัดรูปแบบและการตรวจสอบข้อความ\n",
    "- เครื่องมือแปลงข้อมูล\n",
    "- ฟังก์ชันวิเคราะห์เนื้อหา\n",
    "- เครื่องมือเพิ่มประสิทธิภาพการตอบกลับ\n",
    "\n",
    "### 3. **เครื่องมือผสานรวม**\n",
    "- ตัวเชื่อมต่อ API ภายนอก\n",
    "- การดำเนินการระบบไฟล์\n",
    "- อินเทอร์เฟซการสืบค้นฐานข้อมูล\n",
    "- เครื่องมือดึงข้อมูลจากเว็บ\n",
    "\n",
    "## ⚙️ ข้อกำหนดเบื้องต้นและการตั้งค่า\n",
    "\n",
    "**การพึ่งพาที่จำเป็น:**\n",
    "```bash\n",
    "\n",
    "pip install agent-framework-core -U\n",
    "```\n",
    "\n",
    "**การกำหนดค่าของสภาพแวดล้อม (.env file):**\n",
    "```env\n",
    "GITHUB_TOKEN=your_github_personal_access_token\n",
    "GITHUB_ENDPOINT=https://models.inference.ai.azure.com\n",
    "GITHUB_MODEL_ID=gpt-4o-mini\n",
    "```\n",
    "\n",
    "**API ที่เป็นตัวเลือก:**\n",
    "- คีย์ API บริการสภาพอากาศ (สำหรับเครื่องมือสภาพอากาศ)\n",
    "- การเข้าถึง API การแปลงสกุลเงิน\n",
    "- ข้อมูลรับรองบริการข้อมูลการเดินทาง\n",
    "\n",
    "## 🎨 รูปแบบการออกแบบ\n",
    "\n",
    "### รูปแบบโรงงานเครื่องมือ\n",
    "- การสร้างและการกำหนดค่าเครื่องมือแบบรวมศูนย์\n",
    "- การออกแบบอินเทอร์เฟซเครื่องมือที่สอดคล้องกัน\n",
    "- การลงทะเบียนและการค้นหาเครื่องมือที่ง่ายดาย\n",
    "\n",
    "### รูปแบบคำสั่ง\n",
    "- ตรรกะการดำเนินการเครื่องมือที่ถูกห่อหุ้ม\n",
    "- ฟังก์ชัน Undo/Redo สำหรับการดำเนินการที่ซับซ้อน\n",
    "- การบันทึกการใช้งานเครื่องมือเพื่อการตรวจสอบ\n",
    "\n",
    "### รูปแบบผู้สังเกตการณ์\n",
    "- การติดตามการดำเนินการเครื่องมือ\n",
    "- การรวบรวมเมตริกประสิทธิภาพ\n",
    "- การรายงานข้อผิดพลาดและการแจ้งเตือน\n",
    "\n",
    "## 🚀 แนวปฏิบัติที่ดีที่สุด\n",
    "\n",
    "- **เอกสารประกอบเครื่องมือ**: คำอธิบายที่ชัดเจนเพื่อให้เอเจนต์เข้าใจ\n",
    "- **การตรวจสอบข้อมูลนำเข้า**: การตรวจสอบและการทำความสะอาดพารามิเตอร์ที่แข็งแกร่ง\n",
    "- **การจัดรูปแบบผลลัพธ์**: การตอบกลับเครื่องมือที่สอดคล้องและสามารถวิเคราะห์ได้\n",
    "- **ข้อความข้อผิดพลาด**: ข้อมูลข้อผิดพลาดที่เป็นประโยชน์สำหรับการแก้ไขปัญหา\n",
    "- **ประสิทธิภาพ**: การดำเนินการเครื่องมือที่ปรับให้เหมาะสมเพื่อการตอบสนองที่รวดเร็ว\n",
    "\n",
    "พร้อมที่จะสร้างเอเจนต์ที่มีความสามารถเครื่องมือทรงพลังแล้วหรือยัง? มาสร้างสิ่งที่น่าทึ่งกันเถอะ! ⚡\n"
   ]
  },
  {
   "cell_type": "code",
   "execution_count": null,
   "id": "59c0feeb",
   "metadata": {},
   "outputs": [],
   "source": [
    "! pip install agent-framework-core -U"
   ]
  },
  {
   "cell_type": "code",
   "execution_count": null,
   "id": "c0df8a52",
   "metadata": {},
   "outputs": [],
   "source": [
    "# � Import core dependencies for Agent Framework and tool integration\n",
    "# This sets up the essential libraries for building intelligent agents with tool capabilities\n",
    "\n",
    "import asyncio\n",
    "import os\n",
    "import json\n",
    "\n",
    "from dotenv import load_dotenv  # For loading environment variables securely\n",
    "from random import randint\n",
    "\n",
    "# These are the core components for building tool-enabled agents\n",
    "from agent_framework import ChatAgent           # Main agent class\n",
    "from agent_framework.openai import OpenAIChatClient  # OpenAI-compatible client"
   ]
  },
  {
   "cell_type": "code",
   "execution_count": null,
   "id": "24c10eb0",
   "metadata": {},
   "outputs": [],
   "source": [
    "load_dotenv()"
   ]
  },
  {
   "cell_type": "code",
   "execution_count": null,
   "id": "151e0314",
   "metadata": {},
   "outputs": [],
   "source": [
    "# 🔑 Environment variables verification\n",
    "# Ensure all required GitHub Models credentials are properly configured\n",
    "print(\"GITHUB_ENDPOINT:\", os.environ.get(\"GITHUB_ENDPOINT\"))\n",
    "print(\"GITHUB_TOKEN:\", \"***\" if os.environ.get(\"GITHUB_TOKEN\") else \"Not set\")\n",
    "print(\"GITHUB_MODEL_ID:\", os.environ.get(\"GITHUB_MODEL_ID\"))"
   ]
  },
  {
   "cell_type": "code",
   "execution_count": null,
   "id": "a6141584",
   "metadata": {},
   "outputs": [],
   "source": [
    "# 🧪 Test GitHub Models connectivity\n",
    "openai_chat_client = OpenAIChatClient(base_url=os.environ.get(\"GITHUB_ENDPOINT\"), api_key=os.environ.get(\"GITHUB_TOKEN\"), model_id=os.environ.get(\"GITHUB_MODEL_ID\"))"
   ]
  },
  {
   "cell_type": "code",
   "execution_count": null,
   "id": "a6507f83",
   "metadata": {},
   "outputs": [],
   "source": [
    "# 🛠️ Define travel planning tools for agent integration\n",
    "# These functions provide specific capabilities that the agent can invoke dynamically\n",
    "\n",
    "def get_random_destination() -> str:\n",
    "    \"\"\"\n",
    "    🎲 Random destination generator tool\n",
    "    Returns a randomly selected travel destination from curated list\n",
    "    Useful when customers need inspiration for their next vacation\n",
    "    \"\"\"\n",
    "    destinations = [\n",
    "        \"Paris, France\",\n",
    "        \"Tokyo, Japan\", \n",
    "        \"New York City, USA\",\n",
    "        \"London, England\",\n",
    "        \"Rome, Italy\",\n",
    "        \"Sydney, Australia\",\n",
    "        \"Dubai, UAE\",\n",
    "        \"Barcelona, Spain\",\n",
    "        \"Bangkok, Thailand\",\n",
    "        \"Amsterdam, Netherlands\",\n",
    "        \"Istanbul, Turkey\",\n",
    "        \"Prague, Czech Republic\",\n",
    "        \"Santorini, Greece\",\n",
    "        \"Reykjavik, Iceland\",\n",
    "        \"Marrakech, Morocco\",\n",
    "        \"Cape Town, South Africa\",\n",
    "        \"Rio de Janeiro, Brazil\",\n",
    "        \"Bali, Indonesia\"\n",
    "    ]\n",
    "    # 🎯 Return random selection from the curated destination list\n",
    "    return destinations[randint(0, len(destinations) - 1)]"
   ]
  },
  {
   "cell_type": "code",
   "execution_count": null,
   "id": "5d4f0568",
   "metadata": {},
   "outputs": [],
   "source": [
    "# 🔗 Initialize GitHub Models chat client for agent communication\n",
    "# Creates the primary interface between the agent and the language model\n",
    "openai_chat_client = OpenAIChatClient(base_url=os.environ.get(\"GITHUB_ENDPOINT\"), api_key=os.environ.get(\"GITHUB_TOKEN\"), model_id=os.environ.get(\"GITHUB_MODEL_ID\"))"
   ]
  },
  {
   "cell_type": "code",
   "execution_count": null,
   "id": "751668c5",
   "metadata": {},
   "outputs": [],
   "source": [
    "# 🤖 Configure travel agent identity and behavioral instructions\n",
    "# Define the agent's personality, capabilities, and operational guidelines\n",
    "\n",
    "AGENT_NAME = \"TravelAgent\"\n",
    "\n",
    "AGENT_INSTRUCTIONS = \"\"\"You are a helpful AI Agent that can help plan vacations for customers at random destinations\n",
    "\"\"\""
   ]
  },
  {
   "cell_type": "code",
   "execution_count": null,
   "id": "be18ac4f",
   "metadata": {},
   "outputs": [],
   "source": [
    "agent = ChatAgent(\n",
    "        name = AGENT_NAME,\n",
    "        chat_client=openai_chat_client,\n",
    "        instructions=AGENT_INSTRUCTIONS,\n",
    "        tools=[get_random_destination]\n",
    ")"
   ]
  },
  {
   "cell_type": "code",
   "execution_count": null,
   "id": "772e9481",
   "metadata": {},
   "outputs": [],
   "source": [
    "thread = agent.get_new_thread()"
   ]
  },
  {
   "cell_type": "code",
   "execution_count": null,
   "id": "a731b547",
   "metadata": {},
   "outputs": [],
   "source": [
    "response1 = await agent.run(\"Plan me a day trip\",thread= thread)"
   ]
  },
  {
   "cell_type": "code",
   "execution_count": null,
   "id": "7d3fe00a",
   "metadata": {},
   "outputs": [],
   "source": [
    "\n",
    "last_message = response1.messages[-1]\n",
    "text_content = last_message.contents[0].text\n",
    "print(\"Travel plan:\")\n",
    "print(text_content)"
   ]
  },
  {
   "cell_type": "markdown",
   "metadata": {},
   "source": [
    "\n---\n\n**ข้อจำกัดความรับผิดชอบ**:  \nเอกสารนี้ได้รับการแปลโดยใช้บริการแปลภาษา AI [Co-op Translator](https://github.com/Azure/co-op-translator) แม้ว่าเราจะพยายามให้การแปลมีความถูกต้องมากที่สุด แต่โปรดทราบว่าการแปลโดยอัตโนมัติอาจมีข้อผิดพลาดหรือความไม่ถูกต้อง เอกสารต้นฉบับในภาษาดั้งเดิมควรถือเป็นแหล่งข้อมูลที่เชื่อถือได้ สำหรับข้อมูลที่สำคัญ ขอแนะนำให้ใช้บริการแปลภาษามนุษย์ที่มีความเชี่ยวชาญ เราไม่รับผิดชอบต่อความเข้าใจผิดหรือการตีความผิดที่เกิดจากการใช้การแปลนี้\n"
   ]
  }
 ],
 "metadata": {
  "kernelspec": {
   "display_name": "agentenv",
   "language": "python",
   "name": "python3"
  },
  "language_info": {
   "codemirror_mode": {
    "name": "ipython",
    "version": 3
   },
   "file_extension": ".py",
   "mimetype": "text/x-python",
   "name": "python",
   "nbconvert_exporter": "python",
   "pygments_lexer": "ipython3",
   "version": "3.12.10"
  },
  "polyglot_notebook": {
   "kernelInfo": {
    "defaultKernelName": "csharp",
    "items": [
     {
      "aliases": [],
      "name": "csharp"
     }
    ]
   }
  },
  "coopTranslator": {
   "original_hash": "42966ddac53cebaf0ac1ce33b2ee7059",
   "translation_date": "2025-10-02T16:08:25+00:00",
   "source_file": "04-tool-use/code_samples/04-python-agent-framework.ipynb",
   "language_code": "th"
  }
 },
 "nbformat": 4,
 "nbformat_minor": 5
}