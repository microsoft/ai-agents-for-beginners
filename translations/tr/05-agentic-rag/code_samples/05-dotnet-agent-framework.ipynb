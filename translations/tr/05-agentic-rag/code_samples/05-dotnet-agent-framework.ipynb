{
 "cells": [
  {
   "cell_type": "markdown",
   "id": "44b5899e",
   "metadata": {},
   "source": [
    "# 🔍 Azure AI Foundry ile Kurumsal RAG (.NET)\n",
    "\n",
    "## 📋 Öğrenme Hedefleri\n",
    "\n",
    "Bu not defteri, Microsoft Agent Framework'ü kullanarak Azure AI Foundry ile kurumsal düzeyde Retrieval-Augmented Generation (RAG) sistemleri oluşturmayı gösterir. Belgeler arasında arama yapabilen ve doğru, bağlama duyarlı yanıtlar sağlayabilen, üretime hazır ajanlar oluşturmayı öğreneceksiniz. Ayrıca, kurumsal güvenlik ve ölçeklenebilirlik özelliklerini de keşfedeceksiniz.\n",
    "\n",
    "**Oluşturacağınız Kurumsal RAG Özellikleri:**\n",
    "- 📚 **Belge Zekası**: Azure AI hizmetleri ile gelişmiş belge işleme\n",
    "- 🔍 **Semantik Arama**: Kurumsal özelliklere sahip yüksek performanslı vektör arama\n",
    "- 🛡️ **Güvenlik Entegrasyonu**: Rol tabanlı erişim ve veri koruma modelleri\n",
    "- 🏢 **Ölçeklenebilir Mimari**: İzleme özellikleriyle üretime hazır RAG sistemleri\n",
    "\n",
    "## 🎯 Kurumsal RAG Mimarisi\n",
    "\n",
    "### Temel Kurumsal Bileşenler\n",
    "- **Azure AI Foundry**: Güvenlik ve uyumluluk özelliklerine sahip yönetilen kurumsal AI platformu\n",
    "- **Kalıcı Ajanlar**: Konuşma geçmişi ve bağlam yönetimi ile durum bilgisi olan ajanlar\n",
    "- **Vektör Deposu Yönetimi**: Kurumsal düzeyde belge indeksleme ve geri çağırma\n",
    "- **Kimlik Entegrasyonu**: Azure AD kimlik doğrulama ve rol tabanlı erişim kontrolü\n",
    "\n",
    "### .NET Kurumsal Avantajları\n",
    "- **Tip Güvenliği**: RAG işlemleri ve veri yapıları için derleme zamanı doğrulama\n",
    "- **Asenkron Performans**: Engellemeyen belge işleme ve arama işlemleri\n",
    "- **Bellek Yönetimi**: Büyük belge koleksiyonları için verimli kaynak kullanımı\n",
    "- **Entegrasyon Modelleri**: Bağımlılık enjeksiyonu ile yerel Azure hizmet entegrasyonu\n",
    "\n",
    "## 🏗️ Teknik Mimari\n",
    "\n",
    "### Kurumsal RAG Boru Hattı\n",
    "```csharp\n",
    "Document Upload → Security Validation → Vector Processing → Index Creation\n",
    "                      ↓                    ↓                  ↓\n",
    "User Query → Authentication → Semantic Search → Context Ranking → AI Response\n",
    "```\n",
    "\n",
    "### Temel .NET Bileşenleri\n",
    "- **Azure.AI.Agents.Persistent**: Durum kalıcılığı ile kurumsal ajan yönetimi\n",
    "- **Azure.Identity**: Güvenli Azure hizmet erişimi için entegre kimlik doğrulama\n",
    "- **Microsoft.Agents.AI.AzureAI**: Azure'a optimize edilmiş ajan çerçevesi uygulaması\n",
    "- **System.Linq.Async**: Yüksek performanslı asenkron LINQ işlemleri\n",
    "\n",
    "## 🔧 Kurumsal Özellikler ve Faydalar\n",
    "\n",
    "### Güvenlik ve Uyumluluk\n",
    "- **Azure AD Entegrasyonu**: Kurumsal kimlik yönetimi ve kimlik doğrulama\n",
    "- **Rol Tabanlı Erişim**: Belge erişimi ve işlemleri için ince ayarlı izinler\n",
    "- **Veri Koruma**: Hassas belgeler için dinlenme ve aktarım sırasında şifreleme\n",
    "- **Denetim Günlüğü**: Uyumluluk gereksinimleri için kapsamlı etkinlik takibi\n",
    "\n",
    "### Performans ve Ölçeklenebilirlik\n",
    "- **Bağlantı Havuzu**: Verimli Azure hizmet bağlantı yönetimi\n",
    "- **Asenkron İşleme**: Yüksek verim senaryoları için engellemeyen işlemler\n",
    "- **Önbellek Stratejileri**: Sık erişilen belgeler için akıllı önbellekleme\n",
    "- **Yük Dengeleme**: Büyük ölçekli dağıtımlar için dağıtılmış işleme\n",
    "\n",
    "### Yönetim ve İzleme\n",
    "- **Sağlık Kontrolleri**: RAG sistem bileşenleri için yerleşik izleme\n",
    "- **Performans Metrikleri**: Arama kalitesi ve yanıt süreleri hakkında ayrıntılı analizler\n",
    "- **Hata Yönetimi**: Yeniden deneme politikaları ile kapsamlı istisna yönetimi\n",
    "- **Yapılandırma Yönetimi**: Doğrulama ile ortam spesifik ayarlar\n",
    "\n",
    "## ⚙️ Ön Koşullar ve Kurulum\n",
    "\n",
    "**Geliştirme Ortamı:**\n",
    "- .NET 9.0 SDK veya üstü\n",
    "- Visual Studio 2022 veya C# uzantılı VS Code\n",
    "- Azure AI Foundry erişimi olan Azure aboneliği\n",
    "\n",
    "**Gerekli NuGet Paketleri:**\n",
    "```xml\n",
    "<PackageReference Include=\"Microsoft.Extensions.AI\" Version=\"9.9.0\" />\n",
    "<PackageReference Include=\"Azure.AI.Agents.Persistent\" Version=\"1.2.0-beta.5\" />\n",
    "<PackageReference Include=\"Azure.Identity\" Version=\"1.15.0\" />\n",
    "<PackageReference Include=\"System.Linq.Async\" Version=\"6.0.3\" />\n",
    "<PackageReference Include=\"DotNetEnv\" Version=\"3.1.1\" />\n",
    "```\n",
    "\n",
    "**Azure Kimlik Doğrulama Ayarları:**\n",
    "```bash\n",
    "# Install Azure CLI and authenticate\n",
    "az login\n",
    "az account set --subscription \"your-subscription-id\"\n",
    "```\n",
    "\n",
    "**Ortam Yapılandırması (.env dosyası):**\n",
    "```env\n",
    "# Azure AI Foundry configuration (automatically handled via Azure CLI)\n",
    "# Ensure you're authenticated to the correct Azure subscription\n",
    "```\n",
    "\n",
    "## 📊 Kurumsal RAG Modelleri\n",
    "\n",
    "### Belge Yönetimi Modelleri\n",
    "- **Toplu Yükleme**: Büyük belge koleksiyonlarının verimli işlenmesi\n",
    "- **Artımlı Güncellemeler**: Gerçek zamanlı belge ekleme ve değiştirme\n",
    "- **Sürüm Kontrolü**: Belge sürümlendirme ve değişiklik takibi\n",
    "- **Meta Veri Yönetimi**: Zengin belge özellikleri ve taksonomi\n",
    "\n",
    "### Arama ve Geri Çağırma Modelleri\n",
    "- **Hibrit Arama**: Semantik ve anahtar kelime aramasını birleştirerek optimal sonuçlar\n",
    "- **Fasetsel Arama**: Çok boyutlu filtreleme ve kategorilendirme\n",
    "- **Alaka Ayarı**: Alan spesifik ihtiyaçlar için özel puanlama algoritmaları\n",
    "- **Sonuç Sıralama**: İş mantığı entegrasyonu ile gelişmiş sıralama\n",
    "\n",
    "### Güvenlik Modelleri\n",
    "- **Belge Düzeyinde Güvenlik**: Belge başına ince ayarlı erişim kontrolü\n",
    "- **Veri Sınıflandırması**: Otomatik hassasiyet etiketleme ve koruma\n",
    "- **Denetim İzleri**: Tüm RAG işlemlerinin kapsamlı günlüğü\n",
    "- **Gizlilik Koruması**: Kişisel bilgilerin algılanması ve gizlenmesi\n",
    "\n",
    "## 🔒 Kurumsal Güvenlik Özellikleri\n",
    "\n",
    "### Kimlik Doğrulama ve Yetkilendirme\n",
    "```csharp\n",
    "// Azure AD integrated authentication\n",
    "var credential = new AzureCliCredential();\n",
    "var agentsClient = new PersistentAgentsClient(endpoint, credential);\n",
    "\n",
    "// Role-based access validation\n",
    "if (!await ValidateUserPermissions(user, documentId))\n",
    "{\n",
    "    throw new UnauthorizedAccessException(\"Insufficient permissions\");\n",
    "}\n",
    "```\n",
    "\n",
    "### Veri Koruma\n",
    "- **Şifreleme**: Belgeler ve arama indeksleri için uçtan uca şifreleme\n",
    "- **Erişim Kontrolleri**: Kullanıcı ve grup izinleri için Azure AD entegrasyonu\n",
    "- **Veri Yerleşimi**: Uyumluluk için coğrafi veri konumu kontrolleri\n",
    "- **Yedekleme ve Kurtarma**: Otomatik yedekleme ve felaket kurtarma yetenekleri\n",
    "\n",
    "## 📈 Performans Optimizasyonu\n",
    "\n",
    "### Asenkron İşleme Modelleri\n",
    "```csharp\n",
    "// Efficient async document processing\n",
    "await foreach (var document in documentStream.AsAsyncEnumerable())\n",
    "{\n",
    "    await ProcessDocumentAsync(document, cancellationToken);\n",
    "}\n",
    "```\n",
    "\n",
    "### Bellek Yönetimi\n",
    "- **Akış İşleme**: Büyük belgeleri bellek sorunları olmadan işleme\n",
    "- **Kaynak Havuzu**: Pahalı kaynakların verimli yeniden kullanımı\n",
    "- **Çöp Toplama**: Optimize edilmiş bellek tahsis modelleri\n",
    "- **Bağlantı Yönetimi**: Azure hizmet bağlantı yaşam döngüsü yönetimi\n",
    "\n",
    "### Önbellek Stratejileri\n",
    "- **Sorgu Önbelleği**: Sıkça yapılan aramaları önbelleğe alma\n",
    "- **Belge Önbelleği**: Sık erişilen belgeler için bellek içi önbellekleme\n",
    "- **İndeks Önbelleği**: Optimize edilmiş vektör indeks önbellekleme\n",
    "- **Sonuç Önbelleği**: Oluşturulan yanıtların akıllı önbelleklemesi\n",
    "\n",
    "## 📊 Kurumsal Kullanım Senaryoları\n",
    "\n",
    "### Bilgi Yönetimi\n",
    "- **Kurumsal Wiki**: Şirket bilgi tabanlarında akıllı arama\n",
    "- **Politika ve Prosedürler**: Otomatik uyumluluk ve prosedür rehberliği\n",
    "- **Eğitim Materyalleri**: Akıllı öğrenme ve geliştirme yardımı\n",
    "- **Araştırma Veritabanları**: Akademik ve araştırma makalesi analiz sistemleri\n",
    "\n",
    "### Müşteri Desteği\n",
    "- **Destek Bilgi Tabanı**: Otomatik müşteri hizmetleri yanıtları\n",
    "- **Ürün Belgeleri**: Akıllı ürün bilgisi erişimi\n",
    "- **Sorun Giderme Kılavuzları**: Bağlama duyarlı problem çözme yardımı\n",
    "- **SSS Sistemleri**: Belge koleksiyonlarından dinamik SSS oluşturma\n",
    "\n",
    "### Düzenleyici Uyumluluk\n",
    "- **Hukuki Belge Analizi**: Sözleşme ve hukuki belge zekası\n",
    "- **Uyumluluk İzleme**: Otomatik düzenleyici uyumluluk kontrolü\n",
    "- **Risk Değerlendirme**: Belge tabanlı risk analizi ve raporlama\n",
    "- **Denetim Desteği**: Denetimler için akıllı belge keşfi\n",
    "\n",
    "## 🚀 Üretim Dağıtımı\n",
    "\n",
    "### İzleme ve Görünürlük\n",
    "- **Application Insights**: Ayrıntılı telemetri ve performans izleme\n",
    "- **Özel Metrikler**: İş spesifik KPI takibi ve uyarılar\n",
    "- **Dağıtılmış İzleme**: Hizmetler arasında uçtan uca istek takibi\n",
    "- **Sağlık Panoları**: Gerçek zamanlı sistem sağlığı ve performans görselleştirme\n",
    "\n",
    "### Ölçeklenebilirlik ve Güvenilirlik\n",
    "- **Otomatik Ölçeklendirme**: Yük ve performans metriklerine göre otomatik ölçeklendirme\n",
    "- **Yüksek Erişilebilirlik**: Çok bölgeli dağıtım ve hata toleransı\n",
    "- **Yük Testi**: Kurumsal yük koşulları altında performans doğrulama\n",
    "- **Felaket Kurtarma**: Otomatik yedekleme ve kurtarma prosedürleri\n",
    "\n",
    "Hassas belgeleri ölçekli bir şekilde işleyebilecek kurumsal düzeyde RAG sistemleri oluşturmaya hazır mısınız? Haydi, kurumsal için akıllı bilgi sistemleri tasarlayalım! 🏢📖✨\n"
   ]
  },
  {
   "cell_type": "code",
   "execution_count": 1,
   "metadata": {
    "language_info": {
     "name": "polyglot-notebook"
    },
    "polyglot_notebook": {
     "kernelName": "csharp"
    }
   },
   "outputs": [
    {
     "data": {
      "text/html": [
       "<div><div></div><div></div><div><strong>Installed Packages</strong><ul><li><span>Microsoft.Extensions.AI, 9.9.1</span></li></ul></div></div>"
      ]
     },
     "metadata": {},
     "output_type": "display_data"
    }
   ],
   "source": [
    "#r \"nuget: Microsoft.Extensions.AI, 9.9.1\""
   ]
  },
  {
   "cell_type": "code",
   "execution_count": 2,
   "id": "4ec1f0d1",
   "metadata": {
    "language_info": {
     "name": "polyglot-notebook"
    },
    "polyglot_notebook": {
     "kernelName": "csharp"
    }
   },
   "outputs": [
    {
     "data": {
      "text/html": [
       "<div><div></div><div></div><div><strong>Installed Packages</strong><ul><li><span>Azure.AI.Agents.Persistent, 1.2.0-beta.5</span></li><li><span>Azure.Identity, 1.15.0</span></li><li><span>System.Linq.Async, 6.0.3</span></li></ul></div></div>"
      ]
     },
     "metadata": {},
     "output_type": "display_data"
    }
   ],
   "source": [
    "#r \"nuget: Azure.AI.Agents.Persistent, 1.2.0-beta.5\"\n",
    "#r \"nuget: Azure.Identity, 1.15.0\"\n",
    "#r \"nuget: System.Linq.Async, 6.0.3\""
   ]
  },
  {
   "cell_type": "code",
   "execution_count": 3,
   "id": "2363ae07",
   "metadata": {
    "language_info": {
     "name": "polyglot-notebook"
    },
    "polyglot_notebook": {
     "kernelName": "csharp"
    }
   },
   "outputs": [],
   "source": []
  },
  {
   "cell_type": "code",
   "execution_count": null,
   "id": "d10cec9d",
   "metadata": {
    "language_info": {
     "name": "polyglot-notebook"
    },
    "polyglot_notebook": {
     "kernelName": "csharp"
    }
   },
   "outputs": [
    {
     "data": {
      "text/html": [
       "<div><div></div><div></div><div><strong>Installed Packages</strong><ul><li><span>Microsoft.Agents.AI.AzureAI, 1.0.0-preview.251001.2</span></li></ul></div></div>"
      ]
     },
     "metadata": {},
     "output_type": "display_data"
    }
   ],
   "source": [
    "#r \"nuget: Microsoft.Agents.AI.AzureAI, 1.0.0-preview.251001.3\""
   ]
  },
  {
   "cell_type": "code",
   "execution_count": null,
   "id": "78199d1c",
   "metadata": {
    "language_info": {
     "name": "polyglot-notebook"
    },
    "polyglot_notebook": {
     "kernelName": "csharp"
    }
   },
   "outputs": [
    {
     "data": {
      "text/html": [
       "<div><div></div><div></div><div><strong>Installed Packages</strong><ul><li><span>microsoft.agents.ai, 1.0.0-preview.251001.2</span></li></ul></div></div>"
      ]
     },
     "metadata": {},
     "output_type": "display_data"
    }
   ],
   "source": [
    "#r \"nuget: Microsoft.Agents.AI, 1.0.0-preview.251001.3\""
   ]
  },
  {
   "cell_type": "code",
   "execution_count": 6,
   "id": "7de4684a",
   "metadata": {
    "language_info": {
     "name": "polyglot-notebook"
    },
    "polyglot_notebook": {
     "kernelName": "csharp"
    }
   },
   "outputs": [
    {
     "data": {
      "text/html": [
       "<div><div></div><div></div><div><strong>Installed Packages</strong><ul><li><span>DotNetEnv, 3.1.1</span></li></ul></div></div>"
      ]
     },
     "metadata": {},
     "output_type": "display_data"
    }
   ],
   "source": [
    "#r \"nuget: DotNetEnv, 3.1.1\""
   ]
  },
  {
   "cell_type": "code",
   "execution_count": 7,
   "id": "251efd31",
   "metadata": {
    "language_info": {
     "name": "polyglot-notebook"
    },
    "polyglot_notebook": {
     "kernelName": "csharp"
    }
   },
   "outputs": [],
   "source": [
    "using System;\n",
    "using System.Linq;\n",
    "using Azure.AI.Agents.Persistent;\n",
    "using Azure.Identity;\n",
    "using Microsoft.Agents.AI;"
   ]
  },
  {
   "cell_type": "code",
   "execution_count": 8,
   "id": "a2e342f1",
   "metadata": {
    "language_info": {
     "name": "polyglot-notebook"
    },
    "polyglot_notebook": {
     "kernelName": "csharp"
    }
   },
   "outputs": [],
   "source": [
    " using DotNetEnv;"
   ]
  },
  {
   "cell_type": "code",
   "execution_count": 9,
   "id": "a7a01653",
   "metadata": {
    "language_info": {
     "name": "polyglot-notebook"
    },
    "polyglot_notebook": {
     "kernelName": "csharp"
    }
   },
   "outputs": [],
   "source": [
    "Env.Load(\"../../../.env\");"
   ]
  },
  {
   "cell_type": "code",
   "execution_count": 10,
   "id": "a42735d5",
   "metadata": {
    "language_info": {
     "name": "polyglot-notebook"
    },
    "polyglot_notebook": {
     "kernelName": "csharp"
    }
   },
   "outputs": [],
   "source": [
    "var azure_foundry_endpoint = Environment.GetEnvironmentVariable(\"AZURE_AI_PROJECT_ENDPOINT\") ?? throw new InvalidOperationException(\"AZURE_AI_PROJECT_ENDPOINT is not set.\");\n",
    "var azure_foundry_model_id = Environment.GetEnvironmentVariable(\"AZURE_AI_MODEL_DEPLOYMENT_NAME\") ?? \"gpt-4.1-mini\";"
   ]
  },
  {
   "cell_type": "code",
   "execution_count": 11,
   "id": "e29bdb58",
   "metadata": {
    "language_info": {
     "name": "polyglot-notebook"
    },
    "polyglot_notebook": {
     "kernelName": "csharp"
    }
   },
   "outputs": [],
   "source": [
    "string pdfPath = \"./document.md\";"
   ]
  },
  {
   "cell_type": "code",
   "execution_count": 12,
   "id": "7351e12d",
   "metadata": {
    "language_info": {
     "name": "polyglot-notebook"
    },
    "polyglot_notebook": {
     "kernelName": "csharp"
    }
   },
   "outputs": [],
   "source": [
    "using System.IO;\n",
    "\n",
    "async Task<Stream> OpenImageStreamAsync(string path)\n",
    "{\n",
    "\treturn await Task.Run(() => File.OpenRead(path));\n",
    "}\n",
    "\n",
    "var pdfStream = await OpenImageStreamAsync(pdfPath);"
   ]
  },
  {
   "cell_type": "code",
   "execution_count": 13,
   "id": "0b6bf484",
   "metadata": {
    "language_info": {
     "name": "polyglot-notebook"
    },
    "polyglot_notebook": {
     "kernelName": "csharp"
    }
   },
   "outputs": [],
   "source": [
    "var persistentAgentsClient = new PersistentAgentsClient(azure_foundry_endpoint, new AzureCliCredential());"
   ]
  },
  {
   "cell_type": "code",
   "execution_count": 14,
   "id": "81e0dddc",
   "metadata": {
    "language_info": {
     "name": "polyglot-notebook"
    },
    "polyglot_notebook": {
     "kernelName": "csharp"
    }
   },
   "outputs": [],
   "source": [
    "PersistentAgentFileInfo fileInfo = await persistentAgentsClient.Files.UploadFileAsync(pdfStream, PersistentAgentFilePurpose.Agents, \"demo.md\");"
   ]
  },
  {
   "cell_type": "code",
   "execution_count": 15,
   "id": "f0c75d80",
   "metadata": {
    "language_info": {
     "name": "polyglot-notebook"
    },
    "polyglot_notebook": {
     "kernelName": "csharp"
    }
   },
   "outputs": [],
   "source": [
    "PersistentAgentsVectorStore fileStore =\n",
    "            await persistentAgentsClient.VectorStores.CreateVectorStoreAsync(\n",
    "                [fileInfo.Id],\n",
    "                metadata: new Dictionary<string, string>() { { \"agentkey\", bool.TrueString } });"
   ]
  },
  {
   "cell_type": "code",
   "execution_count": 16,
   "id": "c77986c5",
   "metadata": {
    "language_info": {
     "name": "polyglot-notebook"
    },
    "polyglot_notebook": {
     "kernelName": "csharp"
    }
   },
   "outputs": [],
   "source": [
    "PersistentAgent agentModel = await persistentAgentsClient.Administration.CreateAgentAsync(\n",
    "            azure_foundry_model_id,\n",
    "            name: \"DotNetRAGAgent\",\n",
    "            tools: [new FileSearchToolDefinition()],\n",
    "            instructions: \"\"\"\n",
    "                You are an AI assistant designed to answer user questions using only the information retrieved from the provided document(s).\n",
    "\n",
    "                - If a user's question cannot be answered using the retrieved context, **you must clearly respond**: \n",
    "                \"I'm sorry, but the uploaded document does not contain the necessary information to answer that question.\"\n",
    "                - Do not answer from general knowledge or reasoning. Do not make assumptions or generate hypothetical explanations.\n",
    "                - Do not provide definitions, tutorials, or commentary that is not explicitly grounded in the content of the uploaded file(s).\n",
    "                - If a user asks a question like \"What is a Neural Network?\", and this is not discussed in the uploaded document, respond as instructed above.\n",
    "                - For questions that do have relevant content in the document (e.g., Contoso's travel insurance coverage), respond accurately, and cite the document explicitly.\n",
    "\n",
    "                You must behave as if you have no external knowledge beyond what is retrieved from the uploaded document.\n",
    "                \"\"\",\n",
    "            toolResources: new()\n",
    "            {\n",
    "                FileSearch = new()\n",
    "                {\n",
    "                    VectorStoreIds = { fileStore.Id },\n",
    "                }\n",
    "            },\n",
    "            metadata: new Dictionary<string, string>() { { \"agentkey\", bool.TrueString } });"
   ]
  },
  {
   "cell_type": "code",
   "execution_count": 17,
   "id": "282326cf",
   "metadata": {
    "language_info": {
     "name": "polyglot-notebook"
    },
    "polyglot_notebook": {
     "kernelName": "csharp"
    }
   },
   "outputs": [],
   "source": [
    "AIAgent agent = await persistentAgentsClient.GetAIAgentAsync(agentModel.Id);"
   ]
  },
  {
   "cell_type": "code",
   "execution_count": 18,
   "id": "2067d313",
   "metadata": {
    "language_info": {
     "name": "polyglot-notebook"
    },
    "polyglot_notebook": {
     "kernelName": "csharp"
    }
   },
   "outputs": [],
   "source": [
    "AgentThread thread = agent.GetNewThread();"
   ]
  },
  {
   "cell_type": "code",
   "execution_count": 19,
   "id": "454c4230",
   "metadata": {
    "language_info": {
     "name": "polyglot-notebook"
    },
    "polyglot_notebook": {
     "kernelName": "csharp"
    }
   },
   "outputs": [
    {
     "name": "stdout",
     "output_type": "stream",
     "text": [
      "Contoso's travel insurance coverage includes protection for medical emergencies, trip cancellations, and lost baggage. This ensures that travelers are supported in case of health-related issues during their trip, unforeseen cancellations, and the loss of their belongings while traveling【4:0†demo.md】.\r\n"
     ]
    }
   ],
   "source": [
    "Console.WriteLine(await agent.RunAsync(\"Can you explain Contoso's travel insurance coverage?\", thread));"
   ]
  },
  {
   "cell_type": "markdown",
   "metadata": {},
   "source": [
    "\n---\n\n**Feragatname**:  \nBu belge, AI çeviri hizmeti [Co-op Translator](https://github.com/Azure/co-op-translator) kullanılarak çevrilmiştir. Doğruluğu sağlamak için çaba göstersek de, otomatik çevirilerin hata veya yanlışlıklar içerebileceğini lütfen unutmayın. Belgenin orijinal dili, yetkili kaynak olarak kabul edilmelidir. Kritik bilgiler için profesyonel insan çevirisi önerilir. Bu çevirinin kullanımından kaynaklanan yanlış anlamalar veya yanlış yorumlamalar için sorumluluk kabul etmiyoruz.\n"
   ]
  }
 ],
 "metadata": {
  "kernelspec": {
   "display_name": ".NET (C#)",
   "language": "C#",
   "name": ".net-csharp"
  },
  "language_info": {
   "name": "polyglot-notebook"
  },
  "polyglot_notebook": {
   "kernelInfo": {
    "defaultKernelName": "csharp",
    "items": [
     {
      "aliases": [],
      "name": "csharp"
     }
    ]
   }
  },
  "coopTranslator": {
   "original_hash": "e4584fa31638009dc6fb665275de8fc2",
   "translation_date": "2025-10-02T14:09:21+00:00",
   "source_file": "05-agentic-rag/code_samples/05-dotnet-agent-framework.ipynb",
   "language_code": "tr"
  }
 },
 "nbformat": 4,
 "nbformat_minor": 5
}