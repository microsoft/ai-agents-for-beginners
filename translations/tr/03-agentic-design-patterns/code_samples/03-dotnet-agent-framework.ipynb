{
 "cells": [
  {
   "cell_type": "markdown",
   "id": "d6058fa4",
   "metadata": {},
   "source": [
    "# 🎨 GitHub Modelleri ile Agentik Tasarım Kalıpları (.NET)\n",
    "\n",
    "## 📋 Öğrenme Hedefleri\n",
    "\n",
    "Bu not defteri, Microsoft Agent Framework'ü kullanarak GitHub Modelleri entegrasyonu ile akıllı ajanlar oluşturmak için kurumsal düzeyde tasarım kalıplarını gösterir. Üretime hazır, sürdürülebilir ve ölçeklenebilir ajanlar oluşturmayı sağlayan profesyonel kalıpları ve mimari yaklaşımları öğreneceksiniz.\n",
    "\n",
    "**Kurumsal Tasarım Kalıpları:**\n",
    "- 🏭 **Factory Pattern**: Bağımlılık enjeksiyonu ile standartlaştırılmış ajan oluşturma\n",
    "- 🔧 **Builder Pattern**: Akıcı ajan yapılandırma ve kurulum\n",
    "- 🧵 **Thread-Safe Patterns**: Eşzamanlı konuşma yönetimi\n",
    "- 📋 **Repository Pattern**: Düzenli araç ve yetenek yönetimi\n",
    "\n",
    "## 🎯 .NET'e Özgü Mimari Avantajlar\n",
    "\n",
    "### Kurumsal Özellikler\n",
    "- **Güçlü Tipleme**: Derleme zamanı doğrulama ve IntelliSense desteği\n",
    "- **Bağımlılık Enjeksiyonu**: Dahili DI konteyner entegrasyonu\n",
    "- **Yapılandırma Yönetimi**: IConfiguration ve Options kalıpları\n",
    "- **Async/Await**: Birinci sınıf asenkron programlama desteği\n",
    "\n",
    "### Üretime Hazır Kalıplar\n",
    "- **Günlükleme Entegrasyonu**: ILogger ve yapılandırılmış günlükleme desteği\n",
    "- **Sağlık Kontrolleri**: Dahili izleme ve tanılama\n",
    "- **Yapılandırma Doğrulama**: Veri açıklamaları ile güçlü tipleme\n",
    "- **Hata Yönetimi**: Yapılandırılmış istisna yönetimi\n",
    "\n",
    "## 🔧 Teknik Mimari\n",
    "\n",
    "### Temel .NET Bileşenleri\n",
    "- **Microsoft.Extensions.AI**: Birleşik AI hizmet soyutlamaları\n",
    "- **Microsoft.Agents.AI**: Kurumsal ajan orkestrasyon çerçevesi\n",
    "- **GitHub Modelleri Entegrasyonu**: Yüksek performanslı API istemci kalıpları\n",
    "- **Yapılandırma Sistemi**: appsettings.json ve ortam entegrasyonu\n",
    "\n",
    "### Tasarım Kalıbı Uygulaması\n",
    "```csharp\n",
    "IServiceCollection → Agent Builder → Configuration → Tool Registry → AI Agent\n",
    "```\n",
    "\n",
    "## 🏗️ Gösterilen Kurumsal Kalıplar\n",
    "\n",
    "### 1. **Oluşturma Kalıpları**\n",
    "- **Agent Factory**: Tutarlı yapılandırma ile merkezi ajan oluşturma\n",
    "- **Builder Pattern**: Karmaşık ajan yapılandırması için akıcı API\n",
    "- **Singleton Pattern**: Paylaşılan kaynaklar ve yapılandırma yönetimi\n",
    "- **Bağımlılık Enjeksiyonu**: Gevşek bağlama ve test edilebilirlik\n",
    "\n",
    "### 2. **Davranışsal Kalıplar**\n",
    "- **Strategy Pattern**: Değiştirilebilir araç yürütme stratejileri\n",
    "- **Command Pattern**: Geri alma/yeniden yapma ile kapsüllenmiş ajan işlemleri\n",
    "- **Observer Pattern**: Olay odaklı ajan yaşam döngüsü yönetimi\n",
    "- **Template Method**: Standartlaştırılmış ajan yürütme iş akışları\n",
    "\n",
    "### 3. **Yapısal Kalıplar**\n",
    "- **Adapter Pattern**: GitHub Modelleri API entegrasyon katmanı\n",
    "- **Decorator Pattern**: Ajan yeteneklerini geliştirme\n",
    "- **Facade Pattern**: Basitleştirilmiş ajan etkileşim arayüzleri\n",
    "- **Proxy Pattern**: Performans için tembel yükleme ve önbellekleme\n",
    "\n",
    "## ⚙️ Ön Koşullar ve Kurulum\n",
    "\n",
    "**Geliştirme Ortamı:**\n",
    "- .NET 9.0 SDK veya üstü\n",
    "- Visual Studio 2022 veya C# uzantılı VS Code\n",
    "- GitHub Modelleri API erişimi\n",
    "\n",
    "**NuGet Bağımlılıkları:**\n",
    "```xml\n",
    "<PackageReference Include=\"Microsoft.Extensions.AI\" Version=\"9.9.0\" />\n",
    "<PackageReference Include=\"Microsoft.Extensions.AI.OpenAI\" Version=\"9.9.0-preview.1.25458.4\" />\n",
    "<PackageReference Include=\"DotNetEnv\" Version=\"3.1.1\" />\n",
    "```\n",
    "\n",
    "**Yapılandırma (.env dosyası):**\n",
    "```env\n",
    "GITHUB_TOKEN=your_github_personal_access_token\n",
    "GITHUB_ENDPOINT=https://models.inference.ai.azure.com\n",
    "GITHUB_MODEL_ID=gpt-4o-mini\n",
    "```\n",
    "\n",
    "## 📚 .NET Tasarım İlkeleri\n",
    "\n",
    "### SOLID İlkeleri\n",
    "- **Tek Sorumluluk**: Her bileşenin net bir amacı var\n",
    "- **Açık/Kapalı**: Değiştirilmeden genişletilebilir\n",
    "- **Liskov Yerine Geçme**: Arayüz tabanlı araç uygulamaları\n",
    "- **Arayüz Ayrımı**: Odaklanmış, uyumlu arayüzler\n",
    "- **Bağımlılık Ters Çevirme**: Somutlamalara değil soyutlamalara bağımlılık\n",
    "\n",
    "### Temiz Mimari\n",
    "- **Domain Katmanı**: Temel ajan ve araç soyutlamaları\n",
    "- **Uygulama Katmanı**: Ajan orkestrasyonu ve iş akışları\n",
    "- **Altyapı Katmanı**: GitHub Modelleri entegrasyonu ve harici hizmetler\n",
    "- **Sunum Katmanı**: Kullanıcı etkileşimi ve yanıt biçimlendirme\n",
    "\n",
    "## 🔒 Kurumsal Hususlar\n",
    "\n",
    "### Güvenlik\n",
    "- **Kimlik Bilgisi Yönetimi**: IConfiguration ile güvenli API anahtarı işleme\n",
    "- **Girdi Doğrulama**: Güçlü tipleme ve veri açıklaması doğrulama\n",
    "- **Çıktı Temizleme**: Güvenli yanıt işleme ve filtreleme\n",
    "- **Denetim Günlükleme**: Kapsamlı işlem takibi\n",
    "\n",
    "### Performans\n",
    "- **Async Kalıpları**: Engellemeyen I/O işlemleri\n",
    "- **Bağlantı Havuzu**: Verimli HTTP istemci yönetimi\n",
    "- **Önbellekleme**: Performansı artırmak için yanıt önbellekleme\n",
    "- **Kaynak Yönetimi**: Uygun imha ve temizlik kalıpları\n",
    "\n",
    "### Ölçeklenebilirlik\n",
    "- **Thread Safety**: Eşzamanlı ajan yürütme desteği\n",
    "- **Kaynak Havuzu**: Verimli kaynak kullanımı\n",
    "- **Yük Yönetimi**: Hız sınırlama ve geri basınç işleme\n",
    "- **İzleme**: Performans metrikleri ve sağlık kontrolleri\n",
    "\n",
    "## 🚀 Üretim Dağıtımı\n",
    "\n",
    "- **Yapılandırma Yönetimi**: Ortama özgü ayarlar\n",
    "- **Günlükleme Stratejisi**: Korelasyon kimlikleri ile yapılandırılmış günlükleme\n",
    "- **Hata Yönetimi**: Uygun kurtarma ile global istisna yönetimi\n",
    "- **İzleme**: Uygulama içgörüleri ve performans sayaçları\n",
    "- **Test**: Birim testleri, entegrasyon testleri ve yük testi kalıpları\n",
    "\n",
    ".NET ile kurumsal düzeyde akıllı ajanlar oluşturmaya hazır mısınız? Hadi sağlam bir mimari tasarlayalım! 🏢✨\n"
   ]
  },
  {
   "cell_type": "code",
   "execution_count": 1,
   "id": "2770ac5c",
   "metadata": {
    "language_info": {
     "name": "polyglot-notebook"
    },
    "polyglot_notebook": {
     "kernelName": "csharp"
    }
   },
   "outputs": [
    {
     "data": {
      "text/html": [
       "<div><div></div><div></div><div><strong>Installed Packages</strong><ul><li><span>Microsoft.Extensions.AI, 9.9.1</span></li></ul></div></div>"
      ]
     },
     "metadata": {},
     "output_type": "display_data"
    }
   ],
   "source": [
    "#r \"nuget: Microsoft.Extensions.AI, 9.9.1\""
   ]
  },
  {
   "cell_type": "code",
   "execution_count": null,
   "id": "984ff6cd",
   "metadata": {
    "language_info": {
     "name": "polyglot-notebook"
    },
    "polyglot_notebook": {
     "kernelName": "csharp"
    }
   },
   "outputs": [
    {
     "data": {
      "text/html": [
       "<div><div></div><div></div><div><strong>Installed Packages</strong><ul><li><span>Microsoft.Agents.AI.OpenAI, 1.0.0-preview.251001.2</span></li></ul></div></div>"
      ]
     },
     "metadata": {},
     "output_type": "display_data"
    }
   ],
   "source": [
    "#r \"nuget: Microsoft.Agents.AI.OpenAI, 1.0.0-preview.251001.3\""
   ]
  },
  {
   "cell_type": "code",
   "execution_count": null,
   "id": "0ab71360",
   "metadata": {
    "language_info": {
     "name": "polyglot-notebook"
    },
    "polyglot_notebook": {
     "kernelName": "csharp"
    }
   },
   "outputs": [
    {
     "data": {
      "text/html": [
       "<div><div></div><div></div><div><strong>Installed Packages</strong><ul><li><span>microsoft.agents.ai, 1.0.0-preview.251001.2</span></li></ul></div></div>"
      ]
     },
     "metadata": {},
     "output_type": "display_data"
    }
   ],
   "source": [
    "\n",
    "\n",
    "#r \"nuget: Microsoft.Agents.AI, 1.0.0-preview.251001.3\""
   ]
  },
  {
   "cell_type": "code",
   "execution_count": 4,
   "id": "4ab7b15d",
   "metadata": {
    "language_info": {
     "name": "polyglot-notebook"
    },
    "polyglot_notebook": {
     "kernelName": "csharp"
    }
   },
   "outputs": [],
   "source": [
    "// #r \"nuget: Microsoft.Extensions.AI.OpenAI, 9.9.0-preview.1.25458.4\""
   ]
  },
  {
   "cell_type": "code",
   "execution_count": 5,
   "id": "3fa8aa21",
   "metadata": {
    "language_info": {
     "name": "polyglot-notebook"
    },
    "polyglot_notebook": {
     "kernelName": "csharp"
    }
   },
   "outputs": [
    {
     "data": {
      "text/html": [
       "<div><div></div><div></div><div><strong>Installed Packages</strong><ul><li><span>DotNetEnv, 3.1.1</span></li></ul></div></div>"
      ]
     },
     "metadata": {},
     "output_type": "display_data"
    }
   ],
   "source": [
    "#r \"nuget: DotNetEnv, 3.1.1\""
   ]
  },
  {
   "cell_type": "code",
   "execution_count": 6,
   "id": "fc8ee8ea",
   "metadata": {
    "language_info": {
     "name": "polyglot-notebook"
    },
    "polyglot_notebook": {
     "kernelName": "csharp"
    }
   },
   "outputs": [],
   "source": [
    "using System;\n",
    "using System.ComponentModel;\n",
    "using System.ClientModel;\n",
    "\n",
    "using Microsoft.Extensions.AI;\n",
    "using Microsoft.Agents.AI;\n",
    "using OpenAI;"
   ]
  },
  {
   "cell_type": "code",
   "execution_count": 7,
   "id": "699b1c83",
   "metadata": {
    "language_info": {
     "name": "polyglot-notebook"
    },
    "polyglot_notebook": {
     "kernelName": "csharp"
    }
   },
   "outputs": [],
   "source": [
    " using DotNetEnv;"
   ]
  },
  {
   "cell_type": "code",
   "execution_count": 8,
   "id": "daa649a0",
   "metadata": {
    "language_info": {
     "name": "polyglot-notebook"
    },
    "polyglot_notebook": {
     "kernelName": "csharp"
    }
   },
   "outputs": [],
   "source": [
    "Env.Load(\"../../../.env\");"
   ]
  },
  {
   "cell_type": "code",
   "execution_count": 9,
   "id": "29661a90",
   "metadata": {
    "language_info": {
     "name": "polyglot-notebook"
    },
    "polyglot_notebook": {
     "kernelName": "csharp"
    }
   },
   "outputs": [],
   "source": [
    "[Description(\"Provides a random vacation destination.\")]\n",
    "static string GetRandomDestination()\n",
    "{\n",
    "    var destinations = new List<string>\n",
    "    {\n",
    "        \"Paris, France\",\n",
    "        \"Tokyo, Japan\",\n",
    "        \"New York City, USA\",\n",
    "        \"Sydney, Australia\",\n",
    "        \"Rome, Italy\",\n",
    "        \"Barcelona, Spain\",\n",
    "        \"Cape Town, South Africa\",\n",
    "        \"Rio de Janeiro, Brazil\",\n",
    "        \"Bangkok, Thailand\",\n",
    "        \"Vancouver, Canada\"\n",
    "    };\n",
    "\n",
    "    var random = new Random();\n",
    "    int index = random.Next(destinations.Count);\n",
    "    return destinations[index];\n",
    "}"
   ]
  },
  {
   "cell_type": "code",
   "execution_count": 10,
   "id": "d2ed1f8b",
   "metadata": {
    "language_info": {
     "name": "polyglot-notebook"
    },
    "polyglot_notebook": {
     "kernelName": "csharp"
    }
   },
   "outputs": [],
   "source": [
    "var github_endpoint = Environment.GetEnvironmentVariable(\"GITHUB_ENDPOINT\") ?? throw new InvalidOperationException(\"GITHUB_ENDPOINT is not set.\");\n",
    "var github_model_id = Environment.GetEnvironmentVariable(\"GITHUB_MODEL_ID\") ?? \"gpt-4o-mini\";\n",
    "var github_token = Environment.GetEnvironmentVariable(\"GITHUB_TOKEN\") ?? throw new InvalidOperationException(\"GITHUB_TOKEN is not set.\");"
   ]
  },
  {
   "cell_type": "code",
   "execution_count": 11,
   "id": "c36c73e1",
   "metadata": {
    "language_info": {
     "name": "polyglot-notebook"
    },
    "polyglot_notebook": {
     "kernelName": "csharp"
    }
   },
   "outputs": [],
   "source": [
    "var openAIOptions = new OpenAIClientOptions()\n",
    "{\n",
    "    Endpoint= new Uri(github_endpoint)\n",
    "};"
   ]
  },
  {
   "cell_type": "code",
   "execution_count": 12,
   "id": "6d94ff10",
   "metadata": {
    "language_info": {
     "name": "polyglot-notebook"
    },
    "polyglot_notebook": {
     "kernelName": "csharp"
    }
   },
   "outputs": [],
   "source": [
    "\n",
    "var openAIClient = new OpenAIClient(new ApiKeyCredential(github_token), openAIOptions);"
   ]
  },
  {
   "cell_type": "code",
   "execution_count": 13,
   "id": "fe32b57a",
   "metadata": {
    "language_info": {
     "name": "polyglot-notebook"
    },
    "polyglot_notebook": {
     "kernelName": "csharp"
    }
   },
   "outputs": [],
   "source": [
    "AIAgent agent = new OpenAIClient(new ApiKeyCredential(github_token), openAIOptions).GetChatClient(github_model_id).CreateAIAgent(\n",
    "    instructions:\"You are a helpful AI Agent that can help plan vacations for customers at random destinations\", tools: [AIFunctionFactory.Create((Func<string>)GetRandomDestination)]);"
   ]
  },
  {
   "cell_type": "code",
   "execution_count": 14,
   "metadata": {
    "language_info": {
     "name": "polyglot-notebook"
    },
    "polyglot_notebook": {
     "kernelName": "csharp"
    }
   },
   "outputs": [],
   "source": [
    "AgentThread thread = agent.GetNewThread();"
   ]
  },
  {
   "cell_type": "code",
   "execution_count": 15,
   "id": "5e455aff",
   "metadata": {
    "language_info": {
     "name": "polyglot-notebook"
    },
    "polyglot_notebook": {
     "kernelName": "csharp"
    }
   },
   "outputs": [
    {
     "name": "stdout",
     "output_type": "stream",
     "text": [
      "How about a day trip to Vancouver, Canada? Here's a suggested itinerary for your day:\n",
      "\n",
      "### Morning\n",
      "- **Breakfast at a Local Cafe**: Start your day with a delicious breakfast at a cozy café like **Jam Cafe** or **Cafe Medina**.\n",
      "- **Stanley Park**: After breakfast, head to Stanley Park. You can rent a bike and ride along the seawall, enjoying beautiful views of the city and the water.\n",
      "\n",
      "### Afternoon\n",
      "- **Lunch in Gastown**: Make your way to Gastown for lunch. Try a local favorite like **The Flying Pig** or **Noodle Box**.\n",
      "- **Explore Gastown**: After lunch, walk around Gastown to see the iconic Steam Clock and browse the unique shops and boutiques.\n",
      "\n",
      "### Late Afternoon\n",
      "- **Granville Island**: Visit Granville Island, where you can stroll through the public market, sample local foods, and enjoy artisan shops.\n",
      "- **False Creek**: Take a walk along False Creek and enjoy the waterfront views.\n",
      "\n",
      "### Evening\n",
      "- **Dinner at a Waterfront Restaurant**: End your day with dinner at a waterfront restaurant like **The Boathouse** or **Lift Bar Grill View** for great food and a view of the sunset.\n",
      "- **Optional: Sunset Cruise**: If you're up for it, consider taking a sunset cruise for a different perspective of the city.\n",
      "\n",
      "### Tips\n",
      "- Make sure to check the weather beforehand!\n",
      "- Consider public transport or ride-sharing to navigate the city easily.\n",
      "\n",
      "Enjoy your day trip to Vancouver!\r\n"
     ]
    }
   ],
   "source": [
    "Console.WriteLine(await agent.RunAsync(\"Plan me a day trip\",thread));"
   ]
  },
  {
   "cell_type": "code",
   "execution_count": 16,
   "id": "592ae1bb",
   "metadata": {
    "language_info": {
     "name": "polyglot-notebook"
    },
    "polyglot_notebook": {
     "kernelName": "csharp"
    }
   },
   "outputs": [
    {
     "name": "stdout",
     "output_type": "stream",
     "text": [
      "How about a vacation to New York City, USA? Here's a suggested itinerary for your trip:\n",
      "\n",
      "### Day 1: Arrival in New York City\n",
      "- **Check-In**: Arrive and check in to your hotel.\n",
      "- **Central Park**: Take a leisurely stroll through Central Park. Consider renting a bike or taking a carriage ride.\n",
      "- **Evening**: Enjoy dinner at a classic NYC restaurant, such as **Katz's Delicatessen** or **Carbone**.\n",
      "\n",
      "### Day 2: Iconic Landmarks\n",
      "- **Morning**: Breakfast at a local diner.\n",
      "- **Statue of Liberty & Ellis Island**: Take a ferry to visit these iconic landmarks.\n",
      "- **Afternoon**: Explore Wall Street and visit the 9/11 Memorial & Museum.\n",
      "- **Evening**: Dinner in the Financial District followed by a walk across the Brooklyn Bridge at sunset.\n",
      "\n",
      "### Day 3: Culture and Arts\n",
      "- **Morning**: Visit The Metropolitan Museum of Art (The Met) and spend a few hours exploring its vast collection.\n",
      "- **Afternoon**: Head to Times Square for lunch and the buzz of the city.\n",
      "- **Broadway Show**: Catch a Broadway show in the evening. Be sure to book tickets in advance!\n",
      "\n",
      "### Day 4: Explore Neighborhoods\n",
      "- **Morning**: Head to SoHo for brunch and shopping in its chic boutiques.\n",
      "- **Afternoon**: Explore Greenwich Village, known for its bohemian atmosphere and history.\n",
      "- **Evening**: Enjoy dinner in the West Village, perhaps at **Buvette** or **Minetta Tavern**.\n",
      "\n",
      "### Day 5: Departure\n",
      "- **Last-minute Shopping**: Spend your last morning shopping at Fifth Avenue or head to Chelsea Market for food and souvenirs.\n",
      "- **Check-Out**: Depart for your journey home.\n",
      "\n",
      "### Tips\n",
      "- Utilize the subway for efficient travel around the city.\n",
      "- Make reservations for popular restaurants and attractions ahead of time!\n",
      "\n",
      "Enjoy your trip to New York City!\r\n"
     ]
    }
   ],
   "source": [
    "Console.WriteLine(await agent.RunAsync(\"I don't like that destination. Plan me another vacation.\",thread));"
   ]
  },
  {
   "cell_type": "markdown",
   "metadata": {},
   "source": [
    "\n---\n\n**Feragatname**:  \nBu belge, AI çeviri hizmeti [Co-op Translator](https://github.com/Azure/co-op-translator) kullanılarak çevrilmiştir. Doğruluk için çaba göstersek de, otomatik çevirilerin hata veya yanlışlık içerebileceğini lütfen unutmayın. Belgenin orijinal dili, yetkili kaynak olarak kabul edilmelidir. Kritik bilgiler için profesyonel insan çevirisi önerilir. Bu çevirinin kullanımından kaynaklanan yanlış anlamalar veya yanlış yorumlamalar için sorumluluk kabul etmiyoruz.\n"
   ]
  }
 ],
 "metadata": {
  "kernelspec": {
   "display_name": ".NET (C#)",
   "language": "C#",
   "name": ".net-csharp"
  },
  "language_info": {
   "name": "polyglot-notebook"
  },
  "polyglot_notebook": {
   "kernelInfo": {
    "defaultKernelName": "csharp",
    "items": [
     {
      "aliases": [],
      "name": "csharp"
     }
    ]
   }
  },
  "coopTranslator": {
   "original_hash": "070c1d8985b3dc6e6d977f3e891037f1",
   "translation_date": "2025-10-02T14:39:57+00:00",
   "source_file": "03-agentic-design-patterns/code_samples/03-dotnet-agent-framework.ipynb",
   "language_code": "tr"
  }
 },
 "nbformat": 4,
 "nbformat_minor": 5
}