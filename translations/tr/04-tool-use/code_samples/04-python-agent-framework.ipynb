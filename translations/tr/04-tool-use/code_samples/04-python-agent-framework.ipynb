{
 "cells": [
  {
   "cell_type": "markdown",
   "id": "8744544f",
   "metadata": {},
   "source": [
    "# 🛠️ GitHub Modelleri ile İleri Düzey Araç Kullanımı (Python)\n",
    "\n",
    "## 📋 Öğrenme Hedefleri\n",
    "\n",
    "Bu not defteri, Microsoft Agent Framework kullanarak GitHub Modelleri ile gelişmiş araç entegrasyon desenlerini gösterir. Birden fazla aracı nasıl oluşturacağınızı, yöneteceğinizi ve birleştireceğinizi öğrenerek sofistike ajan yetenekleri geliştireceksiniz.\n",
    "\n",
    "**Neler Öğreneceksiniz:**\n",
    "- 🔧 **Çoklu Araç Mimarisi**: Birden fazla özel araçla ajanlar oluşturma\n",
    "- 🎯 **Araç Seçim Mantığı**: Ajanların her görev için doğru aracı nasıl seçtiği\n",
    "- 📊 **Veri İşleme Araçları**: Farklı veri türlerini işleyen araçlar oluşturma\n",
    "- 🔗 **Araç Bileşimi**: Karmaşık iş akışları için araçları birleştirme\n",
    "\n",
    "## 🎯 Temel Araç Desenleri\n",
    "\n",
    "### Araç Tasarım İlkeleri\n",
    "- **Tek Sorumluluk**: Her aracın net ve odaklanmış bir amacı vardır\n",
    "- **Tip Güvenliği**: Güvenilir araç çalıştırma için güçlü tip kullanımı\n",
    "- **Hata Yönetimi**: Zarif hata ve kurtarma desenleri\n",
    "- **Bileşenlik**: Birlikte iyi çalışan araçlar\n",
    "\n",
    "### Gelişmiş Araç Özellikleri\n",
    "- **Bağlam Farkındalığı**: Konuşma bağlamını anlayan araçlar\n",
    "- **Veri Doğrulama**: Girdi temizliği ve çıktı doğrulama\n",
    "- **Performans Optimizasyonu**: Verimli araç çalıştırma desenleri\n",
    "- **Genişletilebilirlik**: Yeni araç yeteneklerinin kolay eklenmesi\n",
    "\n",
    "## 🔧 Teknik Mimari\n",
    "\n",
    "### Temel Bileşenler\n",
    "- **Microsoft Agent Framework**: Gelişmiş araç desteği ile Python uygulaması\n",
    "- **GitHub Modelleri Entegrasyonu**: Yüksek performanslı dil modeli erişimi\n",
    "- **Araç Kayıt Sistemi**: Ajan yeteneklerinin düzenli yönetimi\n",
    "- **Hata Kurtarma Desenleri**: Araç çalıştırma hatalarının sağlam şekilde ele alınması\n",
    "\n",
    "### Araç Entegrasyon Akışı\n",
    "```python\n",
    "User Request → Agent Analysis → Tool Selection → Tool Execution → Response Synthesis\n",
    "```\n",
    "\n",
    "## 🛠️ Gösterilen Araç Kategorileri\n",
    "\n",
    "### 1. **Veri Üretim Araçları**\n",
    "- Rastgele hedef oluşturucu\n",
    "- Hava durumu bilgisi sağlayıcı  \n",
    "- Seyahat maliyeti hesaplayıcı\n",
    "- Aktivite öneri motoru\n",
    "\n",
    "### 2. **İşleme Araçları**\n",
    "- Metin biçimlendirme ve doğrulama\n",
    "- Veri dönüşüm araçları\n",
    "- İçerik analiz işlevleri\n",
    "- Yanıt geliştirme araçları\n",
    "\n",
    "### 3. **Entegrasyon Araçları**\n",
    "- Harici API bağlayıcılar\n",
    "- Dosya sistemi işlemleri\n",
    "- Veritabanı sorgu arayüzleri\n",
    "- Web kazıma araçları\n",
    "\n",
    "## ⚙️ Ön Koşullar ve Kurulum\n",
    "\n",
    "**Gerekli Bağımlılıklar:**\n",
    "```bash\n",
    "\n",
    "pip install agent-framework-core -U\n",
    "```\n",
    "\n",
    "**Ortam Yapılandırması (.env dosyası):**\n",
    "```env\n",
    "GITHUB_TOKEN=your_github_personal_access_token\n",
    "GITHUB_ENDPOINT=https://models.inference.ai.azure.com\n",
    "GITHUB_MODEL_ID=gpt-4o-mini\n",
    "```\n",
    "\n",
    "**Opsiyonel API'ler:**\n",
    "- Hava durumu araçları için hava durumu hizmeti API anahtarı\n",
    "- Döviz dönüşüm API erişimi\n",
    "- Seyahat bilgisi hizmeti kimlik bilgileri\n",
    "\n",
    "## 🎨 Tasarım Desenleri\n",
    "\n",
    "### Araç Fabrikası Deseni\n",
    "- Merkezi araç oluşturma ve yapılandırma\n",
    "- Tutarlı araç arayüz tasarımı\n",
    "- Kolay araç kaydı ve keşfi\n",
    "\n",
    "### Komut Deseni\n",
    "- Kapsüllenmiş araç çalıştırma mantığı\n",
    "- Karmaşık işlemler için geri alma/yeniden yapma işlevselliği\n",
    "- Araç kullanımı için denetim kaydı\n",
    "\n",
    "### Gözlemci Deseni\n",
    "- Araç çalıştırma izleme\n",
    "- Performans metrikleri toplama\n",
    "- Hata raporlama ve uyarı verme\n",
    "\n",
    "## 🚀 En İyi Uygulamalar\n",
    "\n",
    "- **Araç Dokümantasyonu**: Ajanın anlaması için net açıklamalar\n",
    "- **Girdi Doğrulama**: Sağlam parametre kontrolü ve temizliği\n",
    "- **Çıktı Biçimlendirme**: Tutarlı, ayrıştırılabilir araç yanıtları\n",
    "- **Hata Mesajları**: Hata ayıklama için yardımcı hata bilgileri\n",
    "- **Performans**: Yanıt verebilirlik için optimize edilmiş araç çalıştırma\n",
    "\n",
    "Güçlü araç yeteneklerine sahip ajanlar oluşturmaya hazır mısınız? Haydi harika bir şeyler yaratalım! ⚡\n"
   ]
  },
  {
   "cell_type": "code",
   "execution_count": null,
   "id": "59c0feeb",
   "metadata": {},
   "outputs": [],
   "source": [
    "! pip install agent-framework-core -U"
   ]
  },
  {
   "cell_type": "code",
   "execution_count": null,
   "id": "c0df8a52",
   "metadata": {},
   "outputs": [],
   "source": [
    "# � Import core dependencies for Agent Framework and tool integration\n",
    "# This sets up the essential libraries for building intelligent agents with tool capabilities\n",
    "\n",
    "import asyncio\n",
    "import os\n",
    "import json\n",
    "\n",
    "from dotenv import load_dotenv  # For loading environment variables securely\n",
    "from random import randint\n",
    "\n",
    "# These are the core components for building tool-enabled agents\n",
    "from agent_framework import ChatAgent           # Main agent class\n",
    "from agent_framework.openai import OpenAIChatClient  # OpenAI-compatible client"
   ]
  },
  {
   "cell_type": "code",
   "execution_count": null,
   "id": "24c10eb0",
   "metadata": {},
   "outputs": [],
   "source": [
    "load_dotenv()"
   ]
  },
  {
   "cell_type": "code",
   "execution_count": null,
   "id": "151e0314",
   "metadata": {},
   "outputs": [],
   "source": [
    "# 🔑 Environment variables verification\n",
    "# Ensure all required GitHub Models credentials are properly configured\n",
    "print(\"GITHUB_ENDPOINT:\", os.environ.get(\"GITHUB_ENDPOINT\"))\n",
    "print(\"GITHUB_TOKEN:\", \"***\" if os.environ.get(\"GITHUB_TOKEN\") else \"Not set\")\n",
    "print(\"GITHUB_MODEL_ID:\", os.environ.get(\"GITHUB_MODEL_ID\"))"
   ]
  },
  {
   "cell_type": "code",
   "execution_count": null,
   "id": "a6141584",
   "metadata": {},
   "outputs": [],
   "source": [
    "# 🧪 Test GitHub Models connectivity\n",
    "openai_chat_client = OpenAIChatClient(base_url=os.environ.get(\"GITHUB_ENDPOINT\"), api_key=os.environ.get(\"GITHUB_TOKEN\"), model_id=os.environ.get(\"GITHUB_MODEL_ID\"))"
   ]
  },
  {
   "cell_type": "code",
   "execution_count": null,
   "id": "a6507f83",
   "metadata": {},
   "outputs": [],
   "source": [
    "# 🛠️ Define travel planning tools for agent integration\n",
    "# These functions provide specific capabilities that the agent can invoke dynamically\n",
    "\n",
    "def get_random_destination() -> str:\n",
    "    \"\"\"\n",
    "    🎲 Random destination generator tool\n",
    "    Returns a randomly selected travel destination from curated list\n",
    "    Useful when customers need inspiration for their next vacation\n",
    "    \"\"\"\n",
    "    destinations = [\n",
    "        \"Paris, France\",\n",
    "        \"Tokyo, Japan\", \n",
    "        \"New York City, USA\",\n",
    "        \"London, England\",\n",
    "        \"Rome, Italy\",\n",
    "        \"Sydney, Australia\",\n",
    "        \"Dubai, UAE\",\n",
    "        \"Barcelona, Spain\",\n",
    "        \"Bangkok, Thailand\",\n",
    "        \"Amsterdam, Netherlands\",\n",
    "        \"Istanbul, Turkey\",\n",
    "        \"Prague, Czech Republic\",\n",
    "        \"Santorini, Greece\",\n",
    "        \"Reykjavik, Iceland\",\n",
    "        \"Marrakech, Morocco\",\n",
    "        \"Cape Town, South Africa\",\n",
    "        \"Rio de Janeiro, Brazil\",\n",
    "        \"Bali, Indonesia\"\n",
    "    ]\n",
    "    # 🎯 Return random selection from the curated destination list\n",
    "    return destinations[randint(0, len(destinations) - 1)]"
   ]
  },
  {
   "cell_type": "code",
   "execution_count": null,
   "id": "5d4f0568",
   "metadata": {},
   "outputs": [],
   "source": [
    "# 🔗 Initialize GitHub Models chat client for agent communication\n",
    "# Creates the primary interface between the agent and the language model\n",
    "openai_chat_client = OpenAIChatClient(base_url=os.environ.get(\"GITHUB_ENDPOINT\"), api_key=os.environ.get(\"GITHUB_TOKEN\"), model_id=os.environ.get(\"GITHUB_MODEL_ID\"))"
   ]
  },
  {
   "cell_type": "code",
   "execution_count": null,
   "id": "751668c5",
   "metadata": {},
   "outputs": [],
   "source": [
    "# 🤖 Configure travel agent identity and behavioral instructions\n",
    "# Define the agent's personality, capabilities, and operational guidelines\n",
    "\n",
    "AGENT_NAME = \"TravelAgent\"\n",
    "\n",
    "AGENT_INSTRUCTIONS = \"\"\"You are a helpful AI Agent that can help plan vacations for customers at random destinations\n",
    "\"\"\""
   ]
  },
  {
   "cell_type": "code",
   "execution_count": null,
   "id": "be18ac4f",
   "metadata": {},
   "outputs": [],
   "source": [
    "agent = ChatAgent(\n",
    "        name = AGENT_NAME,\n",
    "        chat_client=openai_chat_client,\n",
    "        instructions=AGENT_INSTRUCTIONS,\n",
    "        tools=[get_random_destination]\n",
    ")"
   ]
  },
  {
   "cell_type": "code",
   "execution_count": null,
   "id": "772e9481",
   "metadata": {},
   "outputs": [],
   "source": [
    "thread = agent.get_new_thread()"
   ]
  },
  {
   "cell_type": "code",
   "execution_count": null,
   "id": "a731b547",
   "metadata": {},
   "outputs": [],
   "source": [
    "response1 = await agent.run(\"Plan me a day trip\",thread= thread)"
   ]
  },
  {
   "cell_type": "code",
   "execution_count": null,
   "id": "7d3fe00a",
   "metadata": {},
   "outputs": [],
   "source": [
    "\n",
    "last_message = response1.messages[-1]\n",
    "text_content = last_message.contents[0].text\n",
    "print(\"Travel plan:\")\n",
    "print(text_content)"
   ]
  },
  {
   "cell_type": "markdown",
   "metadata": {},
   "source": [
    "\n---\n\n**Feragatname**:  \nBu belge, AI çeviri hizmeti [Co-op Translator](https://github.com/Azure/co-op-translator) kullanılarak çevrilmiştir. Doğruluk için çaba göstersek de, otomatik çevirilerin hata veya yanlışlık içerebileceğini lütfen unutmayın. Belgenin orijinal dili, yetkili kaynak olarak kabul edilmelidir. Kritik bilgiler için profesyonel insan çevirisi önerilir. Bu çevirinin kullanımından kaynaklanan yanlış anlamalar veya yanlış yorumlamalar için sorumluluk kabul etmiyoruz.\n"
   ]
  }
 ],
 "metadata": {
  "kernelspec": {
   "display_name": "agentenv",
   "language": "python",
   "name": "python3"
  },
  "language_info": {
   "codemirror_mode": {
    "name": "ipython",
    "version": 3
   },
   "file_extension": ".py",
   "mimetype": "text/x-python",
   "name": "python",
   "nbconvert_exporter": "python",
   "pygments_lexer": "ipython3",
   "version": "3.12.10"
  },
  "polyglot_notebook": {
   "kernelInfo": {
    "defaultKernelName": "csharp",
    "items": [
     {
      "aliases": [],
      "name": "csharp"
     }
    ]
   }
  },
  "coopTranslator": {
   "original_hash": "42966ddac53cebaf0ac1ce33b2ee7059",
   "translation_date": "2025-10-02T14:31:18+00:00",
   "source_file": "04-tool-use/code_samples/04-python-agent-framework.ipynb",
   "language_code": "tr"
  }
 },
 "nbformat": 4,
 "nbformat_minor": 5
}