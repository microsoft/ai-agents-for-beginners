{
 "cells": [
  {
   "cell_type": "markdown",
   "id": "d6058fa4",
   "metadata": {},
   "source": [
    "# 🎨 Агентные шаблоны проектирования с моделями GitHub (.NET)\n",
    "\n",
    "## 📋 Цели обучения\n",
    "\n",
    "Этот блокнот демонстрирует шаблоны проектирования корпоративного уровня для создания интеллектуальных агентов с использованием Microsoft Agent Framework в .NET с интеграцией моделей GitHub. Вы узнаете профессиональные подходы и архитектурные решения, которые делают агентов готовыми к производству, удобными для сопровождения и масштабируемыми.\n",
    "\n",
    "**Корпоративные шаблоны проектирования:**\n",
    "- 🏭 **Шаблон фабрики**: Стандартизированное создание агентов с внедрением зависимостей\n",
    "- 🔧 **Шаблон строителя**: Гибкая конфигурация и настройка агентов\n",
    "- 🧵 **Потокобезопасные шаблоны**: Управление параллельными беседами\n",
    "- 📋 **Шаблон репозитория**: Организованное управление инструментами и возможностями\n",
    "\n",
    "## 🎯 Архитектурные преимущества .NET\n",
    "\n",
    "### Корпоративные возможности\n",
    "- **Строгая типизация**: Проверка на этапе компиляции и поддержка IntelliSense\n",
    "- **Внедрение зависимостей**: Встроенная интеграция контейнера DI\n",
    "- **Управление конфигурацией**: Шаблоны IConfiguration и Options\n",
    "- **Async/Await**: Поддержка асинхронного программирования на высшем уровне\n",
    "\n",
    "### Шаблоны, готовые к производству\n",
    "- **Интеграция логирования**: Поддержка ILogger и структурированного логирования\n",
    "- **Проверка состояния**: Встроенный мониторинг и диагностика\n",
    "- **Проверка конфигурации**: Строгая типизация с аннотациями данных\n",
    "- **Обработка ошибок**: Структурированное управление исключениями\n",
    "\n",
    "## 🔧 Техническая архитектура\n",
    "\n",
    "### Основные компоненты .NET\n",
    "- **Microsoft.Extensions.AI**: Унифицированные абстракции AI-сервисов\n",
    "- **Microsoft.Agents.AI**: Корпоративный фреймворк оркестрации агентов\n",
    "- **Интеграция моделей GitHub**: Высокопроизводительные шаблоны API-клиентов\n",
    "- **Система конфигурации**: appsettings.json и интеграция с окружением\n",
    "\n",
    "### Реализация шаблонов проектирования\n",
    "```csharp\n",
    "IServiceCollection → Agent Builder → Configuration → Tool Registry → AI Agent\n",
    "```\n",
    "\n",
    "## 🏗️ Демонстрация корпоративных шаблонов\n",
    "\n",
    "### 1. **Шаблоны создания**\n",
    "- **Фабрика агентов**: Централизованное создание агентов с согласованной конфигурацией\n",
    "- **Шаблон строителя**: Гибкий API для сложной конфигурации агентов\n",
    "- **Шаблон одиночки**: Управление общими ресурсами и конфигурацией\n",
    "- **Внедрение зависимостей**: Слабая связанность и тестируемость\n",
    "\n",
    "### 2. **Поведенческие шаблоны**\n",
    "- **Шаблон стратегии**: Взаимозаменяемые стратегии выполнения инструментов\n",
    "- **Шаблон команды**: Инкапсуляция операций агентов с функциями отмены/повтора\n",
    "- **Шаблон наблюдателя**: Управление жизненным циклом агентов на основе событий\n",
    "- **Шаблон метода шаблона**: Стандартизированные рабочие процессы выполнения агентов\n",
    "\n",
    "### 3. **Структурные шаблоны**\n",
    "- **Шаблон адаптера**: Слой интеграции API моделей GitHub\n",
    "- **Шаблон декоратора**: Расширение возможностей агентов\n",
    "- **Шаблон фасада**: Упрощенные интерфейсы взаимодействия с агентами\n",
    "- **Шаблон прокси**: Ленивое выполнение и кэширование для повышения производительности\n",
    "\n",
    "## ⚙️ Предварительные требования и настройка\n",
    "\n",
    "**Среда разработки:**\n",
    "- .NET 9.0 SDK или выше\n",
    "- Visual Studio 2022 или VS Code с расширением C#\n",
    "- Доступ к API моделей GitHub\n",
    "\n",
    "**Зависимости NuGet:**\n",
    "```xml\n",
    "<PackageReference Include=\"Microsoft.Extensions.AI\" Version=\"9.9.0\" />\n",
    "<PackageReference Include=\"Microsoft.Extensions.AI.OpenAI\" Version=\"9.9.0-preview.1.25458.4\" />\n",
    "<PackageReference Include=\"DotNetEnv\" Version=\"3.1.1\" />\n",
    "```\n",
    "\n",
    "**Конфигурация (.env файл):**\n",
    "```env\n",
    "GITHUB_TOKEN=your_github_personal_access_token\n",
    "GITHUB_ENDPOINT=https://models.inference.ai.azure.com\n",
    "GITHUB_MODEL_ID=gpt-4o-mini\n",
    "```\n",
    "\n",
    "## 📚 Принципы проектирования в .NET\n",
    "\n",
    "### Принципы SOLID\n",
    "- **Единая ответственность**: Каждый компонент имеет одну четкую цель\n",
    "- **Открытость/закрытость**: Расширяемость без модификации\n",
    "- **Замещение Лисков**: Реализация инструментов на основе интерфейсов\n",
    "- **Разделение интерфейсов**: Сфокусированные, согласованные интерфейсы\n",
    "- **Инверсия зависимостей**: Зависимость от абстракций, а не от конкретных реализаций\n",
    "\n",
    "### Чистая архитектура\n",
    "- **Слой домена**: Основные абстракции агентов и инструментов\n",
    "- **Слой приложения**: Оркестрация агентов и рабочие процессы\n",
    "- **Слой инфраструктуры**: Интеграция моделей GitHub и внешних сервисов\n",
    "- **Слой представления**: Взаимодействие с пользователем и форматирование ответов\n",
    "\n",
    "## 🔒 Корпоративные аспекты\n",
    "\n",
    "### Безопасность\n",
    "- **Управление учетными данными**: Безопасное хранение ключей API с использованием IConfiguration\n",
    "- **Валидация ввода**: Строгая типизация и проверка с аннотациями данных\n",
    "- **Очистка вывода**: Безопасная обработка и фильтрация ответов\n",
    "- **Логирование аудита**: Полное отслеживание операций\n",
    "\n",
    "### Производительность\n",
    "- **Асинхронные шаблоны**: Неблокирующие операции ввода-вывода\n",
    "- **Пул соединений**: Эффективное управление HTTP-клиентами\n",
    "- **Кэширование**: Кэширование ответов для повышения производительности\n",
    "- **Управление ресурсами**: Правильное освобождение и очистка ресурсов\n",
    "\n",
    "### Масштабируемость\n",
    "- **Потокобезопасность**: Поддержка параллельного выполнения агентов\n",
    "- **Пул ресурсов**: Эффективное использование ресурсов\n",
    "- **Управление нагрузкой**: Ограничение скорости и обработка обратного давления\n",
    "- **Мониторинг**: Метрики производительности и проверки состояния\n",
    "\n",
    "## 🚀 Развертывание в производственной среде\n",
    "\n",
    "- **Управление конфигурацией**: Настройки, специфичные для окружения\n",
    "- **Стратегия логирования**: Структурированное логирование с идентификаторами корреляции\n",
    "- **Обработка ошибок**: Глобальная обработка исключений с правильным восстановлением\n",
    "- **Мониторинг**: Application Insights и счетчики производительности\n",
    "- **Тестирование**: Шаблоны модульного, интеграционного и нагрузочного тестирования\n",
    "\n",
    "Готовы создавать интеллектуальных агентов корпоративного уровня с .NET? Давайте спроектируем что-то надежное! 🏢✨\n"
   ]
  },
  {
   "cell_type": "code",
   "execution_count": 1,
   "id": "2770ac5c",
   "metadata": {
    "language_info": {
     "name": "polyglot-notebook"
    },
    "polyglot_notebook": {
     "kernelName": "csharp"
    }
   },
   "outputs": [
    {
     "data": {
      "text/html": [
       "<div><div></div><div></div><div><strong>Installed Packages</strong><ul><li><span>Microsoft.Extensions.AI, 9.9.1</span></li></ul></div></div>"
      ]
     },
     "metadata": {},
     "output_type": "display_data"
    }
   ],
   "source": [
    "#r \"nuget: Microsoft.Extensions.AI, 9.9.1\""
   ]
  },
  {
   "cell_type": "code",
   "execution_count": null,
   "id": "984ff6cd",
   "metadata": {
    "language_info": {
     "name": "polyglot-notebook"
    },
    "polyglot_notebook": {
     "kernelName": "csharp"
    }
   },
   "outputs": [
    {
     "data": {
      "text/html": [
       "<div><div></div><div></div><div><strong>Installed Packages</strong><ul><li><span>Microsoft.Agents.AI.OpenAI, 1.0.0-preview.251001.2</span></li></ul></div></div>"
      ]
     },
     "metadata": {},
     "output_type": "display_data"
    }
   ],
   "source": [
    "#r \"nuget: Microsoft.Agents.AI.OpenAI, 1.0.0-preview.251001.3\""
   ]
  },
  {
   "cell_type": "code",
   "execution_count": null,
   "id": "0ab71360",
   "metadata": {
    "language_info": {
     "name": "polyglot-notebook"
    },
    "polyglot_notebook": {
     "kernelName": "csharp"
    }
   },
   "outputs": [
    {
     "data": {
      "text/html": [
       "<div><div></div><div></div><div><strong>Installed Packages</strong><ul><li><span>microsoft.agents.ai, 1.0.0-preview.251001.2</span></li></ul></div></div>"
      ]
     },
     "metadata": {},
     "output_type": "display_data"
    }
   ],
   "source": [
    "\n",
    "\n",
    "#r \"nuget: Microsoft.Agents.AI, 1.0.0-preview.251001.3\""
   ]
  },
  {
   "cell_type": "code",
   "execution_count": 4,
   "id": "4ab7b15d",
   "metadata": {
    "language_info": {
     "name": "polyglot-notebook"
    },
    "polyglot_notebook": {
     "kernelName": "csharp"
    }
   },
   "outputs": [],
   "source": [
    "// #r \"nuget: Microsoft.Extensions.AI.OpenAI, 9.9.0-preview.1.25458.4\""
   ]
  },
  {
   "cell_type": "code",
   "execution_count": 5,
   "id": "3fa8aa21",
   "metadata": {
    "language_info": {
     "name": "polyglot-notebook"
    },
    "polyglot_notebook": {
     "kernelName": "csharp"
    }
   },
   "outputs": [
    {
     "data": {
      "text/html": [
       "<div><div></div><div></div><div><strong>Installed Packages</strong><ul><li><span>DotNetEnv, 3.1.1</span></li></ul></div></div>"
      ]
     },
     "metadata": {},
     "output_type": "display_data"
    }
   ],
   "source": [
    "#r \"nuget: DotNetEnv, 3.1.1\""
   ]
  },
  {
   "cell_type": "code",
   "execution_count": 6,
   "id": "fc8ee8ea",
   "metadata": {
    "language_info": {
     "name": "polyglot-notebook"
    },
    "polyglot_notebook": {
     "kernelName": "csharp"
    }
   },
   "outputs": [],
   "source": [
    "using System;\n",
    "using System.ComponentModel;\n",
    "using System.ClientModel;\n",
    "\n",
    "using Microsoft.Extensions.AI;\n",
    "using Microsoft.Agents.AI;\n",
    "using OpenAI;"
   ]
  },
  {
   "cell_type": "code",
   "execution_count": 7,
   "id": "699b1c83",
   "metadata": {
    "language_info": {
     "name": "polyglot-notebook"
    },
    "polyglot_notebook": {
     "kernelName": "csharp"
    }
   },
   "outputs": [],
   "source": [
    " using DotNetEnv;"
   ]
  },
  {
   "cell_type": "code",
   "execution_count": 8,
   "id": "daa649a0",
   "metadata": {
    "language_info": {
     "name": "polyglot-notebook"
    },
    "polyglot_notebook": {
     "kernelName": "csharp"
    }
   },
   "outputs": [],
   "source": [
    "Env.Load(\"../../../.env\");"
   ]
  },
  {
   "cell_type": "code",
   "execution_count": 9,
   "id": "29661a90",
   "metadata": {
    "language_info": {
     "name": "polyglot-notebook"
    },
    "polyglot_notebook": {
     "kernelName": "csharp"
    }
   },
   "outputs": [],
   "source": [
    "[Description(\"Provides a random vacation destination.\")]\n",
    "static string GetRandomDestination()\n",
    "{\n",
    "    var destinations = new List<string>\n",
    "    {\n",
    "        \"Paris, France\",\n",
    "        \"Tokyo, Japan\",\n",
    "        \"New York City, USA\",\n",
    "        \"Sydney, Australia\",\n",
    "        \"Rome, Italy\",\n",
    "        \"Barcelona, Spain\",\n",
    "        \"Cape Town, South Africa\",\n",
    "        \"Rio de Janeiro, Brazil\",\n",
    "        \"Bangkok, Thailand\",\n",
    "        \"Vancouver, Canada\"\n",
    "    };\n",
    "\n",
    "    var random = new Random();\n",
    "    int index = random.Next(destinations.Count);\n",
    "    return destinations[index];\n",
    "}"
   ]
  },
  {
   "cell_type": "code",
   "execution_count": 10,
   "id": "d2ed1f8b",
   "metadata": {
    "language_info": {
     "name": "polyglot-notebook"
    },
    "polyglot_notebook": {
     "kernelName": "csharp"
    }
   },
   "outputs": [],
   "source": [
    "var github_endpoint = Environment.GetEnvironmentVariable(\"GITHUB_ENDPOINT\") ?? throw new InvalidOperationException(\"GITHUB_ENDPOINT is not set.\");\n",
    "var github_model_id = Environment.GetEnvironmentVariable(\"GITHUB_MODEL_ID\") ?? \"gpt-4o-mini\";\n",
    "var github_token = Environment.GetEnvironmentVariable(\"GITHUB_TOKEN\") ?? throw new InvalidOperationException(\"GITHUB_TOKEN is not set.\");"
   ]
  },
  {
   "cell_type": "code",
   "execution_count": 11,
   "id": "c36c73e1",
   "metadata": {
    "language_info": {
     "name": "polyglot-notebook"
    },
    "polyglot_notebook": {
     "kernelName": "csharp"
    }
   },
   "outputs": [],
   "source": [
    "var openAIOptions = new OpenAIClientOptions()\n",
    "{\n",
    "    Endpoint= new Uri(github_endpoint)\n",
    "};"
   ]
  },
  {
   "cell_type": "code",
   "execution_count": 12,
   "id": "6d94ff10",
   "metadata": {
    "language_info": {
     "name": "polyglot-notebook"
    },
    "polyglot_notebook": {
     "kernelName": "csharp"
    }
   },
   "outputs": [],
   "source": [
    "\n",
    "var openAIClient = new OpenAIClient(new ApiKeyCredential(github_token), openAIOptions);"
   ]
  },
  {
   "cell_type": "code",
   "execution_count": 13,
   "id": "fe32b57a",
   "metadata": {
    "language_info": {
     "name": "polyglot-notebook"
    },
    "polyglot_notebook": {
     "kernelName": "csharp"
    }
   },
   "outputs": [],
   "source": [
    "AIAgent agent = new OpenAIClient(new ApiKeyCredential(github_token), openAIOptions).GetChatClient(github_model_id).CreateAIAgent(\n",
    "    instructions:\"You are a helpful AI Agent that can help plan vacations for customers at random destinations\", tools: [AIFunctionFactory.Create((Func<string>)GetRandomDestination)]);"
   ]
  },
  {
   "cell_type": "code",
   "execution_count": 14,
   "metadata": {
    "language_info": {
     "name": "polyglot-notebook"
    },
    "polyglot_notebook": {
     "kernelName": "csharp"
    }
   },
   "outputs": [],
   "source": [
    "AgentThread thread = agent.GetNewThread();"
   ]
  },
  {
   "cell_type": "code",
   "execution_count": 15,
   "id": "5e455aff",
   "metadata": {
    "language_info": {
     "name": "polyglot-notebook"
    },
    "polyglot_notebook": {
     "kernelName": "csharp"
    }
   },
   "outputs": [
    {
     "name": "stdout",
     "output_type": "stream",
     "text": [
      "How about a day trip to Vancouver, Canada? Here's a suggested itinerary for your day:\n",
      "\n",
      "### Morning\n",
      "- **Breakfast at a Local Cafe**: Start your day with a delicious breakfast at a cozy café like **Jam Cafe** or **Cafe Medina**.\n",
      "- **Stanley Park**: After breakfast, head to Stanley Park. You can rent a bike and ride along the seawall, enjoying beautiful views of the city and the water.\n",
      "\n",
      "### Afternoon\n",
      "- **Lunch in Gastown**: Make your way to Gastown for lunch. Try a local favorite like **The Flying Pig** or **Noodle Box**.\n",
      "- **Explore Gastown**: After lunch, walk around Gastown to see the iconic Steam Clock and browse the unique shops and boutiques.\n",
      "\n",
      "### Late Afternoon\n",
      "- **Granville Island**: Visit Granville Island, where you can stroll through the public market, sample local foods, and enjoy artisan shops.\n",
      "- **False Creek**: Take a walk along False Creek and enjoy the waterfront views.\n",
      "\n",
      "### Evening\n",
      "- **Dinner at a Waterfront Restaurant**: End your day with dinner at a waterfront restaurant like **The Boathouse** or **Lift Bar Grill View** for great food and a view of the sunset.\n",
      "- **Optional: Sunset Cruise**: If you're up for it, consider taking a sunset cruise for a different perspective of the city.\n",
      "\n",
      "### Tips\n",
      "- Make sure to check the weather beforehand!\n",
      "- Consider public transport or ride-sharing to navigate the city easily.\n",
      "\n",
      "Enjoy your day trip to Vancouver!\r\n"
     ]
    }
   ],
   "source": [
    "Console.WriteLine(await agent.RunAsync(\"Plan me a day trip\",thread));"
   ]
  },
  {
   "cell_type": "code",
   "execution_count": 16,
   "id": "592ae1bb",
   "metadata": {
    "language_info": {
     "name": "polyglot-notebook"
    },
    "polyglot_notebook": {
     "kernelName": "csharp"
    }
   },
   "outputs": [
    {
     "name": "stdout",
     "output_type": "stream",
     "text": [
      "How about a vacation to New York City, USA? Here's a suggested itinerary for your trip:\n",
      "\n",
      "### Day 1: Arrival in New York City\n",
      "- **Check-In**: Arrive and check in to your hotel.\n",
      "- **Central Park**: Take a leisurely stroll through Central Park. Consider renting a bike or taking a carriage ride.\n",
      "- **Evening**: Enjoy dinner at a classic NYC restaurant, such as **Katz's Delicatessen** or **Carbone**.\n",
      "\n",
      "### Day 2: Iconic Landmarks\n",
      "- **Morning**: Breakfast at a local diner.\n",
      "- **Statue of Liberty & Ellis Island**: Take a ferry to visit these iconic landmarks.\n",
      "- **Afternoon**: Explore Wall Street and visit the 9/11 Memorial & Museum.\n",
      "- **Evening**: Dinner in the Financial District followed by a walk across the Brooklyn Bridge at sunset.\n",
      "\n",
      "### Day 3: Culture and Arts\n",
      "- **Morning**: Visit The Metropolitan Museum of Art (The Met) and spend a few hours exploring its vast collection.\n",
      "- **Afternoon**: Head to Times Square for lunch and the buzz of the city.\n",
      "- **Broadway Show**: Catch a Broadway show in the evening. Be sure to book tickets in advance!\n",
      "\n",
      "### Day 4: Explore Neighborhoods\n",
      "- **Morning**: Head to SoHo for brunch and shopping in its chic boutiques.\n",
      "- **Afternoon**: Explore Greenwich Village, known for its bohemian atmosphere and history.\n",
      "- **Evening**: Enjoy dinner in the West Village, perhaps at **Buvette** or **Minetta Tavern**.\n",
      "\n",
      "### Day 5: Departure\n",
      "- **Last-minute Shopping**: Spend your last morning shopping at Fifth Avenue or head to Chelsea Market for food and souvenirs.\n",
      "- **Check-Out**: Depart for your journey home.\n",
      "\n",
      "### Tips\n",
      "- Utilize the subway for efficient travel around the city.\n",
      "- Make reservations for popular restaurants and attractions ahead of time!\n",
      "\n",
      "Enjoy your trip to New York City!\r\n"
     ]
    }
   ],
   "source": [
    "Console.WriteLine(await agent.RunAsync(\"I don't like that destination. Plan me another vacation.\",thread));"
   ]
  },
  {
   "cell_type": "markdown",
   "metadata": {},
   "source": [
    "\n---\n\n**Отказ от ответственности**:  \nЭтот документ был переведен с помощью сервиса автоматического перевода [Co-op Translator](https://github.com/Azure/co-op-translator). Несмотря на наши усилия обеспечить точность, автоматические переводы могут содержать ошибки или неточности. Оригинальный документ на его родном языке следует считать авторитетным источником. Для получения критически важной информации рекомендуется профессиональный перевод человеком. Мы не несем ответственности за любые недоразумения или неправильные интерпретации, возникшие в результате использования данного перевода.\n"
   ]
  }
 ],
 "metadata": {
  "kernelspec": {
   "display_name": ".NET (C#)",
   "language": "C#",
   "name": ".net-csharp"
  },
  "language_info": {
   "name": "polyglot-notebook"
  },
  "polyglot_notebook": {
   "kernelInfo": {
    "defaultKernelName": "csharp",
    "items": [
     {
      "aliases": [],
      "name": "csharp"
     }
    ]
   }
  },
  "coopTranslator": {
   "original_hash": "070c1d8985b3dc6e6d977f3e891037f1",
   "translation_date": "2025-10-02T14:38:32+00:00",
   "source_file": "03-agentic-design-patterns/code_samples/03-dotnet-agent-framework.ipynb",
   "language_code": "ru"
  }
 },
 "nbformat": 4,
 "nbformat_minor": 5
}