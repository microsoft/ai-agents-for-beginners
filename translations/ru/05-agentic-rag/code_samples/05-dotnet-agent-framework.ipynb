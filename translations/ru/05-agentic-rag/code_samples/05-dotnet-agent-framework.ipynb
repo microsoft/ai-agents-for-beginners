{
 "cells": [
  {
   "cell_type": "markdown",
   "id": "44b5899e",
   "metadata": {},
   "source": [
    "# 🔍 Enterprise RAG с Azure AI Foundry (.NET)\n",
    "\n",
    "## 📋 Цели обучения\n",
    "\n",
    "Этот ноутбук демонстрирует, как создавать системы Retrieval-Augmented Generation (RAG) корпоративного уровня с использованием Microsoft Agent Framework в .NET и Azure AI Foundry. Вы научитесь создавать готовых к производству агентов, которые могут искать документы и предоставлять точные, контекстно-осведомленные ответы с учетом корпоративной безопасности и масштабируемости.\n",
    "\n",
    "**Функции Enterprise RAG, которые вы создадите:**\n",
    "- 📚 **Интеллектуальная обработка документов**: Продвинутая обработка документов с использованием сервисов Azure AI\n",
    "- 🔍 **Семантический поиск**: Высокопроизводительный векторный поиск с корпоративными функциями\n",
    "- 🛡️ **Интеграция безопасности**: Ролевой доступ и шаблоны защиты данных\n",
    "- 🏢 **Масштабируемая архитектура**: Системы RAG, готовые к производству, с мониторингом\n",
    "\n",
    "## 🎯 Архитектура Enterprise RAG\n",
    "\n",
    "### Основные корпоративные компоненты\n",
    "- **Azure AI Foundry**: Управляемая корпоративная платформа AI с безопасностью и соответствием требованиям\n",
    "- **Постоянные агенты**: Агенты с сохранением состояния, историей разговоров и управлением контекстом\n",
    "- **Управление векторным хранилищем**: Индексация и поиск документов корпоративного уровня\n",
    "- **Интеграция идентификации**: Аутентификация Azure AD и управление доступом на основе ролей\n",
    "\n",
    "### Преимущества .NET для корпоративных решений\n",
    "- **Типобезопасность**: Проверка операций RAG и структур данных на этапе компиляции\n",
    "- **Асинхронная производительность**: Неблокирующая обработка документов и операций поиска\n",
    "- **Управление памятью**: Эффективное использование ресурсов для больших коллекций документов\n",
    "- **Шаблоны интеграции**: Нативная интеграция сервисов Azure с внедрением зависимостей\n",
    "\n",
    "## 🏗️ Техническая архитектура\n",
    "\n",
    "### Конвейер Enterprise RAG\n",
    "```csharp\n",
    "Document Upload → Security Validation → Vector Processing → Index Creation\n",
    "                      ↓                    ↓                  ↓\n",
    "User Query → Authentication → Semantic Search → Context Ranking → AI Response\n",
    "```\n",
    "\n",
    "### Основные компоненты .NET\n",
    "- **Azure.AI.Agents.Persistent**: Управление корпоративными агентами с сохранением состояния\n",
    "- **Azure.Identity**: Интегрированная аутентификация для безопасного доступа к сервисам Azure\n",
    "- **Microsoft.Agents.AI.AzureAI**: Оптимизированная для Azure реализация фреймворка агентов\n",
    "- **System.Linq.Async**: Высокопроизводительные асинхронные операции LINQ\n",
    "\n",
    "## 🔧 Функции и преимущества Enterprise\n",
    "\n",
    "### Безопасность и соответствие требованиям\n",
    "- **Интеграция Azure AD**: Управление корпоративной идентификацией и аутентификацией\n",
    "- **Доступ на основе ролей**: Тонкая настройка разрешений для доступа к документам и операциям\n",
    "- **Защита данных**: Шифрование в состоянии покоя и при передаче для конфиденциальных документов\n",
    "- **Журналирование аудита**: Полное отслеживание активности для соблюдения требований\n",
    "\n",
    "### Производительность и масштабируемость\n",
    "- **Пул соединений**: Эффективное управление соединениями с сервисами Azure\n",
    "- **Асинхронная обработка**: Неблокирующие операции для сценариев с высокой пропускной способностью\n",
    "- **Стратегии кэширования**: Интеллектуальное кэширование часто запрашиваемых документов\n",
    "- **Балансировка нагрузки**: Распределенная обработка для крупномасштабных развертываний\n",
    "\n",
    "### Управление и мониторинг\n",
    "- **Проверка состояния**: Встроенный мониторинг компонентов системы RAG\n",
    "- **Метрики производительности**: Подробная аналитика качества поиска и времени ответа\n",
    "- **Обработка ошибок**: Полное управление исключениями с политиками повторных попыток\n",
    "- **Управление конфигурацией**: Настройки, специфичные для среды, с проверкой\n",
    "\n",
    "## ⚙️ Предварительные требования и настройка\n",
    "\n",
    "**Среда разработки:**\n",
    "- .NET 9.0 SDK или выше\n",
    "- Visual Studio 2022 или VS Code с расширением C#\n",
    "- Подписка Azure с доступом к AI Foundry\n",
    "\n",
    "**Необходимые пакеты NuGet:**\n",
    "```xml\n",
    "<PackageReference Include=\"Microsoft.Extensions.AI\" Version=\"9.9.0\" />\n",
    "<PackageReference Include=\"Azure.AI.Agents.Persistent\" Version=\"1.2.0-beta.5\" />\n",
    "<PackageReference Include=\"Azure.Identity\" Version=\"1.15.0\" />\n",
    "<PackageReference Include=\"System.Linq.Async\" Version=\"6.0.3\" />\n",
    "<PackageReference Include=\"DotNetEnv\" Version=\"3.1.1\" />\n",
    "```\n",
    "\n",
    "**Настройка аутентификации Azure:**\n",
    "```bash\n",
    "# Install Azure CLI and authenticate\n",
    "az login\n",
    "az account set --subscription \"your-subscription-id\"\n",
    "```\n",
    "\n",
    "**Конфигурация среды (.env файл):**\n",
    "```env\n",
    "# Azure AI Foundry configuration (automatically handled via Azure CLI)\n",
    "# Ensure you're authenticated to the correct Azure subscription\n",
    "```\n",
    "\n",
    "## 📊 Шаблоны Enterprise RAG\n",
    "\n",
    "### Шаблоны управления документами\n",
    "- **Массовая загрузка**: Эффективная обработка больших коллекций документов\n",
    "- **Инкрементные обновления**: Добавление и изменение документов в реальном времени\n",
    "- **Контроль версий**: Версионирование документов и отслеживание изменений\n",
    "- **Управление метаданными**: Богатые атрибуты документов и таксономия\n",
    "\n",
    "### Шаблоны поиска и извлечения\n",
    "- **Гибридный поиск**: Сочетание семантического и ключевого поиска для оптимальных результатов\n",
    "- **Фасетный поиск**: Многомерная фильтрация и категоризация\n",
    "- **Настройка релевантности**: Пользовательские алгоритмы оценки для специфических доменов\n",
    "- **Ранжирование результатов**: Продвинутое ранжирование с интеграцией бизнес-логики\n",
    "\n",
    "### Шаблоны безопасности\n",
    "- **Безопасность на уровне документа**: Тонкая настройка доступа к каждому документу\n",
    "- **Классификация данных**: Автоматическая маркировка чувствительности и защита\n",
    "- **Журналы аудита**: Полное логирование всех операций RAG\n",
    "- **Защита конфиденциальности**: Обнаружение и редактирование PII\n",
    "\n",
    "## 🔒 Функции корпоративной безопасности\n",
    "\n",
    "### Аутентификация и авторизация\n",
    "```csharp\n",
    "// Azure AD integrated authentication\n",
    "var credential = new AzureCliCredential();\n",
    "var agentsClient = new PersistentAgentsClient(endpoint, credential);\n",
    "\n",
    "// Role-based access validation\n",
    "if (!await ValidateUserPermissions(user, documentId))\n",
    "{\n",
    "    throw new UnauthorizedAccessException(\"Insufficient permissions\");\n",
    "}\n",
    "```\n",
    "\n",
    "### Защита данных\n",
    "- **Шифрование**: Сквозное шифрование документов и индексов поиска\n",
    "- **Контроль доступа**: Интеграция с Azure AD для разрешений пользователей и групп\n",
    "- **Резиденция данных**: Географический контроль местоположения данных для соблюдения требований\n",
    "- **Резервное копирование и восстановление**: Автоматическое резервное копирование и процедуры восстановления\n",
    "\n",
    "## 📈 Оптимизация производительности\n",
    "\n",
    "### Шаблоны асинхронной обработки\n",
    "```csharp\n",
    "// Efficient async document processing\n",
    "await foreach (var document in documentStream.AsAsyncEnumerable())\n",
    "{\n",
    "    await ProcessDocumentAsync(document, cancellationToken);\n",
    "}\n",
    "```\n",
    "\n",
    "### Управление памятью\n",
    "- **Потоковая обработка**: Обработка больших документов без проблем с памятью\n",
    "- **Пул ресурсов**: Эффективное повторное использование дорогостоящих ресурсов\n",
    "- **Сборка мусора**: Оптимизированные шаблоны выделения памяти\n",
    "- **Управление соединениями**: Правильный жизненный цикл соединений с сервисами Azure\n",
    "\n",
    "### Стратегии кэширования\n",
    "- **Кэширование запросов**: Кэширование часто выполняемых поисков\n",
    "- **Кэширование документов**: Кэширование в памяти для часто используемых документов\n",
    "- **Кэширование индексов**: Оптимизированное кэширование векторных индексов\n",
    "- **Кэширование результатов**: Интеллектуальное кэширование сгенерированных ответов\n",
    "\n",
    "## 📊 Корпоративные сценарии использования\n",
    "\n",
    "### Управление знаниями\n",
    "- **Корпоративная вики**: Интеллектуальный поиск по базам знаний компании\n",
    "- **Политики и процедуры**: Автоматизированное соблюдение требований и руководство по процедурам\n",
    "- **Учебные материалы**: Интеллектуальная помощь в обучении и развитии\n",
    "- **Исследовательские базы данных**: Системы анализа академических и научных статей\n",
    "\n",
    "### Поддержка клиентов\n",
    "- **База знаний поддержки**: Автоматизированные ответы службы поддержки\n",
    "- **Документация по продукту**: Интеллектуальный поиск информации о продукте\n",
    "- **Руководства по устранению неполадок**: Контекстная помощь в решении проблем\n",
    "- **Системы FAQ**: Динамическое создание FAQ из коллекций документов\n",
    "\n",
    "### Соблюдение нормативных требований\n",
    "- **Анализ юридических документов**: Интеллектуальная обработка контрактов и юридических документов\n",
    "- **Мониторинг соответствия требованиям**: Автоматизированная проверка нормативного соответствия\n",
    "- **Оценка рисков**: Анализ и отчетность о рисках на основе документов\n",
    "- **Поддержка аудита**: Интеллектуальное обнаружение документов для аудитов\n",
    "\n",
    "## 🚀 Развертывание в производственной среде\n",
    "\n",
    "### Мониторинг и наблюдаемость\n",
    "- **Application Insights**: Подробная телеметрия и мониторинг производительности\n",
    "- **Пользовательские метрики**: Отслеживание и оповещение по бизнес-специфическим KPI\n",
    "- **Распределенное трассирование**: Отслеживание запросов от начала до конца между сервисами\n",
    "- **Панели состояния**: Визуализация состояния системы и производительности в реальном времени\n",
    "\n",
    "### Масштабируемость и надежность\n",
    "- **Автоматическое масштабирование**: Автоматическое увеличение масштабов на основе нагрузки и метрик производительности\n",
    "- **Высокая доступность**: Развертывание в нескольких регионах с возможностями резервирования\n",
    "- **Тестирование нагрузки**: Проверка производительности в условиях корпоративной нагрузки\n",
    "- **Восстановление после сбоев**: Автоматическое резервное копирование и процедуры восстановления\n",
    "\n",
    "Готовы создавать системы RAG корпоративного уровня, способные обрабатывать конфиденциальные документы в масштабе? Давайте спроектируем интеллектуальные системы управления знаниями для бизнеса! 🏢📖✨\n"
   ]
  },
  {
   "cell_type": "code",
   "execution_count": 1,
   "metadata": {
    "language_info": {
     "name": "polyglot-notebook"
    },
    "polyglot_notebook": {
     "kernelName": "csharp"
    }
   },
   "outputs": [
    {
     "data": {
      "text/html": [
       "<div><div></div><div></div><div><strong>Installed Packages</strong><ul><li><span>Microsoft.Extensions.AI, 9.9.1</span></li></ul></div></div>"
      ]
     },
     "metadata": {},
     "output_type": "display_data"
    }
   ],
   "source": [
    "#r \"nuget: Microsoft.Extensions.AI, 9.9.1\""
   ]
  },
  {
   "cell_type": "code",
   "execution_count": 2,
   "id": "4ec1f0d1",
   "metadata": {
    "language_info": {
     "name": "polyglot-notebook"
    },
    "polyglot_notebook": {
     "kernelName": "csharp"
    }
   },
   "outputs": [
    {
     "data": {
      "text/html": [
       "<div><div></div><div></div><div><strong>Installed Packages</strong><ul><li><span>Azure.AI.Agents.Persistent, 1.2.0-beta.5</span></li><li><span>Azure.Identity, 1.15.0</span></li><li><span>System.Linq.Async, 6.0.3</span></li></ul></div></div>"
      ]
     },
     "metadata": {},
     "output_type": "display_data"
    }
   ],
   "source": [
    "#r \"nuget: Azure.AI.Agents.Persistent, 1.2.0-beta.5\"\n",
    "#r \"nuget: Azure.Identity, 1.15.0\"\n",
    "#r \"nuget: System.Linq.Async, 6.0.3\""
   ]
  },
  {
   "cell_type": "code",
   "execution_count": 3,
   "id": "2363ae07",
   "metadata": {
    "language_info": {
     "name": "polyglot-notebook"
    },
    "polyglot_notebook": {
     "kernelName": "csharp"
    }
   },
   "outputs": [],
   "source": []
  },
  {
   "cell_type": "code",
   "execution_count": null,
   "id": "d10cec9d",
   "metadata": {
    "language_info": {
     "name": "polyglot-notebook"
    },
    "polyglot_notebook": {
     "kernelName": "csharp"
    }
   },
   "outputs": [
    {
     "data": {
      "text/html": [
       "<div><div></div><div></div><div><strong>Installed Packages</strong><ul><li><span>Microsoft.Agents.AI.AzureAI, 1.0.0-preview.251001.2</span></li></ul></div></div>"
      ]
     },
     "metadata": {},
     "output_type": "display_data"
    }
   ],
   "source": [
    "#r \"nuget: Microsoft.Agents.AI.AzureAI, 1.0.0-preview.251001.3\""
   ]
  },
  {
   "cell_type": "code",
   "execution_count": null,
   "id": "78199d1c",
   "metadata": {
    "language_info": {
     "name": "polyglot-notebook"
    },
    "polyglot_notebook": {
     "kernelName": "csharp"
    }
   },
   "outputs": [
    {
     "data": {
      "text/html": [
       "<div><div></div><div></div><div><strong>Installed Packages</strong><ul><li><span>microsoft.agents.ai, 1.0.0-preview.251001.2</span></li></ul></div></div>"
      ]
     },
     "metadata": {},
     "output_type": "display_data"
    }
   ],
   "source": [
    "#r \"nuget: Microsoft.Agents.AI, 1.0.0-preview.251001.3\""
   ]
  },
  {
   "cell_type": "code",
   "execution_count": 6,
   "id": "7de4684a",
   "metadata": {
    "language_info": {
     "name": "polyglot-notebook"
    },
    "polyglot_notebook": {
     "kernelName": "csharp"
    }
   },
   "outputs": [
    {
     "data": {
      "text/html": [
       "<div><div></div><div></div><div><strong>Installed Packages</strong><ul><li><span>DotNetEnv, 3.1.1</span></li></ul></div></div>"
      ]
     },
     "metadata": {},
     "output_type": "display_data"
    }
   ],
   "source": [
    "#r \"nuget: DotNetEnv, 3.1.1\""
   ]
  },
  {
   "cell_type": "code",
   "execution_count": 7,
   "id": "251efd31",
   "metadata": {
    "language_info": {
     "name": "polyglot-notebook"
    },
    "polyglot_notebook": {
     "kernelName": "csharp"
    }
   },
   "outputs": [],
   "source": [
    "using System;\n",
    "using System.Linq;\n",
    "using Azure.AI.Agents.Persistent;\n",
    "using Azure.Identity;\n",
    "using Microsoft.Agents.AI;"
   ]
  },
  {
   "cell_type": "code",
   "execution_count": 8,
   "id": "a2e342f1",
   "metadata": {
    "language_info": {
     "name": "polyglot-notebook"
    },
    "polyglot_notebook": {
     "kernelName": "csharp"
    }
   },
   "outputs": [],
   "source": [
    " using DotNetEnv;"
   ]
  },
  {
   "cell_type": "code",
   "execution_count": 9,
   "id": "a7a01653",
   "metadata": {
    "language_info": {
     "name": "polyglot-notebook"
    },
    "polyglot_notebook": {
     "kernelName": "csharp"
    }
   },
   "outputs": [],
   "source": [
    "Env.Load(\"../../../.env\");"
   ]
  },
  {
   "cell_type": "code",
   "execution_count": 10,
   "id": "a42735d5",
   "metadata": {
    "language_info": {
     "name": "polyglot-notebook"
    },
    "polyglot_notebook": {
     "kernelName": "csharp"
    }
   },
   "outputs": [],
   "source": [
    "var azure_foundry_endpoint = Environment.GetEnvironmentVariable(\"AZURE_AI_PROJECT_ENDPOINT\") ?? throw new InvalidOperationException(\"AZURE_AI_PROJECT_ENDPOINT is not set.\");\n",
    "var azure_foundry_model_id = Environment.GetEnvironmentVariable(\"AZURE_AI_MODEL_DEPLOYMENT_NAME\") ?? \"gpt-4.1-mini\";"
   ]
  },
  {
   "cell_type": "code",
   "execution_count": 11,
   "id": "e29bdb58",
   "metadata": {
    "language_info": {
     "name": "polyglot-notebook"
    },
    "polyglot_notebook": {
     "kernelName": "csharp"
    }
   },
   "outputs": [],
   "source": [
    "string pdfPath = \"./document.md\";"
   ]
  },
  {
   "cell_type": "code",
   "execution_count": 12,
   "id": "7351e12d",
   "metadata": {
    "language_info": {
     "name": "polyglot-notebook"
    },
    "polyglot_notebook": {
     "kernelName": "csharp"
    }
   },
   "outputs": [],
   "source": [
    "using System.IO;\n",
    "\n",
    "async Task<Stream> OpenImageStreamAsync(string path)\n",
    "{\n",
    "\treturn await Task.Run(() => File.OpenRead(path));\n",
    "}\n",
    "\n",
    "var pdfStream = await OpenImageStreamAsync(pdfPath);"
   ]
  },
  {
   "cell_type": "code",
   "execution_count": 13,
   "id": "0b6bf484",
   "metadata": {
    "language_info": {
     "name": "polyglot-notebook"
    },
    "polyglot_notebook": {
     "kernelName": "csharp"
    }
   },
   "outputs": [],
   "source": [
    "var persistentAgentsClient = new PersistentAgentsClient(azure_foundry_endpoint, new AzureCliCredential());"
   ]
  },
  {
   "cell_type": "code",
   "execution_count": 14,
   "id": "81e0dddc",
   "metadata": {
    "language_info": {
     "name": "polyglot-notebook"
    },
    "polyglot_notebook": {
     "kernelName": "csharp"
    }
   },
   "outputs": [],
   "source": [
    "PersistentAgentFileInfo fileInfo = await persistentAgentsClient.Files.UploadFileAsync(pdfStream, PersistentAgentFilePurpose.Agents, \"demo.md\");"
   ]
  },
  {
   "cell_type": "code",
   "execution_count": 15,
   "id": "f0c75d80",
   "metadata": {
    "language_info": {
     "name": "polyglot-notebook"
    },
    "polyglot_notebook": {
     "kernelName": "csharp"
    }
   },
   "outputs": [],
   "source": [
    "PersistentAgentsVectorStore fileStore =\n",
    "            await persistentAgentsClient.VectorStores.CreateVectorStoreAsync(\n",
    "                [fileInfo.Id],\n",
    "                metadata: new Dictionary<string, string>() { { \"agentkey\", bool.TrueString } });"
   ]
  },
  {
   "cell_type": "code",
   "execution_count": 16,
   "id": "c77986c5",
   "metadata": {
    "language_info": {
     "name": "polyglot-notebook"
    },
    "polyglot_notebook": {
     "kernelName": "csharp"
    }
   },
   "outputs": [],
   "source": [
    "PersistentAgent agentModel = await persistentAgentsClient.Administration.CreateAgentAsync(\n",
    "            azure_foundry_model_id,\n",
    "            name: \"DotNetRAGAgent\",\n",
    "            tools: [new FileSearchToolDefinition()],\n",
    "            instructions: \"\"\"\n",
    "                You are an AI assistant designed to answer user questions using only the information retrieved from the provided document(s).\n",
    "\n",
    "                - If a user's question cannot be answered using the retrieved context, **you must clearly respond**: \n",
    "                \"I'm sorry, but the uploaded document does not contain the necessary information to answer that question.\"\n",
    "                - Do not answer from general knowledge or reasoning. Do not make assumptions or generate hypothetical explanations.\n",
    "                - Do not provide definitions, tutorials, or commentary that is not explicitly grounded in the content of the uploaded file(s).\n",
    "                - If a user asks a question like \"What is a Neural Network?\", and this is not discussed in the uploaded document, respond as instructed above.\n",
    "                - For questions that do have relevant content in the document (e.g., Contoso's travel insurance coverage), respond accurately, and cite the document explicitly.\n",
    "\n",
    "                You must behave as if you have no external knowledge beyond what is retrieved from the uploaded document.\n",
    "                \"\"\",\n",
    "            toolResources: new()\n",
    "            {\n",
    "                FileSearch = new()\n",
    "                {\n",
    "                    VectorStoreIds = { fileStore.Id },\n",
    "                }\n",
    "            },\n",
    "            metadata: new Dictionary<string, string>() { { \"agentkey\", bool.TrueString } });"
   ]
  },
  {
   "cell_type": "code",
   "execution_count": 17,
   "id": "282326cf",
   "metadata": {
    "language_info": {
     "name": "polyglot-notebook"
    },
    "polyglot_notebook": {
     "kernelName": "csharp"
    }
   },
   "outputs": [],
   "source": [
    "AIAgent agent = await persistentAgentsClient.GetAIAgentAsync(agentModel.Id);"
   ]
  },
  {
   "cell_type": "code",
   "execution_count": 18,
   "id": "2067d313",
   "metadata": {
    "language_info": {
     "name": "polyglot-notebook"
    },
    "polyglot_notebook": {
     "kernelName": "csharp"
    }
   },
   "outputs": [],
   "source": [
    "AgentThread thread = agent.GetNewThread();"
   ]
  },
  {
   "cell_type": "code",
   "execution_count": 19,
   "id": "454c4230",
   "metadata": {
    "language_info": {
     "name": "polyglot-notebook"
    },
    "polyglot_notebook": {
     "kernelName": "csharp"
    }
   },
   "outputs": [
    {
     "name": "stdout",
     "output_type": "stream",
     "text": [
      "Contoso's travel insurance coverage includes protection for medical emergencies, trip cancellations, and lost baggage. This ensures that travelers are supported in case of health-related issues during their trip, unforeseen cancellations, and the loss of their belongings while traveling【4:0†demo.md】.\r\n"
     ]
    }
   ],
   "source": [
    "Console.WriteLine(await agent.RunAsync(\"Can you explain Contoso's travel insurance coverage?\", thread));"
   ]
  },
  {
   "cell_type": "markdown",
   "metadata": {},
   "source": [
    "\n---\n\n**Отказ от ответственности**:  \nЭтот документ был переведен с использованием сервиса автоматического перевода [Co-op Translator](https://github.com/Azure/co-op-translator). Несмотря на наши усилия обеспечить точность, автоматические переводы могут содержать ошибки или неточности. Оригинальный документ на его родном языке следует считать авторитетным источником. Для получения критически важной информации рекомендуется профессиональный перевод человеком. Мы не несем ответственности за любые недоразумения или неправильные интерпретации, возникшие в результате использования данного перевода.\n"
   ]
  }
 ],
 "metadata": {
  "kernelspec": {
   "display_name": ".NET (C#)",
   "language": "C#",
   "name": ".net-csharp"
  },
  "language_info": {
   "name": "polyglot-notebook"
  },
  "polyglot_notebook": {
   "kernelInfo": {
    "defaultKernelName": "csharp",
    "items": [
     {
      "aliases": [],
      "name": "csharp"
     }
    ]
   }
  },
  "coopTranslator": {
   "original_hash": "e4584fa31638009dc6fb665275de8fc2",
   "translation_date": "2025-10-02T14:07:38+00:00",
   "source_file": "05-agentic-rag/code_samples/05-dotnet-agent-framework.ipynb",
   "language_code": "ru"
  }
 },
 "nbformat": 4,
 "nbformat_minor": 5
}