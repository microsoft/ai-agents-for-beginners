{
 "cells": [
  {
   "cell_type": "markdown",
   "id": "8744544f",
   "metadata": {},
   "source": [
    "# 🛠️ Продвинутое использование инструментов с моделями GitHub (Python)\n",
    "\n",
    "## 📋 Цели обучения\n",
    "\n",
    "Этот ноутбук демонстрирует продвинутые шаблоны интеграции инструментов с использованием Microsoft Agent Framework и моделей GitHub. Вы узнаете, как создавать, управлять и организовывать работу нескольких инструментов для построения сложных возможностей агентов.\n",
    "\n",
    "**Чему вы научитесь:**\n",
    "- 🔧 **Архитектура с несколькими инструментами**: Создание агентов с несколькими специализированными инструментами\n",
    "- 🎯 **Логика выбора инструмента**: Как агенты выбирают подходящий инструмент для каждой задачи\n",
    "- 📊 **Инструменты обработки данных**: Создание инструментов для работы с различными типами данных\n",
    "- 🔗 **Композиция инструментов**: Объединение инструментов для сложных рабочих процессов\n",
    "\n",
    "## 🎯 Основные шаблоны инструментов\n",
    "\n",
    "### Принципы проектирования инструментов\n",
    "- **Единая ответственность**: Каждый инструмент имеет четкую и узконаправленную цель\n",
    "- **Типобезопасность**: Строгая типизация для надежного выполнения инструментов\n",
    "- **Обработка ошибок**: Плавное управление сбоями и восстановление\n",
    "- **Композиционность**: Инструменты, которые хорошо работают вместе\n",
    "\n",
    "### Расширенные функции инструментов\n",
    "- **Осведомленность о контексте**: Инструменты, которые понимают контекст разговора\n",
    "- **Валидация данных**: Очистка входных данных и проверка выходных\n",
    "- **Оптимизация производительности**: Эффективные шаблоны выполнения инструментов\n",
    "- **Расширяемость**: Легкое добавление новых возможностей инструментов\n",
    "\n",
    "## 🔧 Техническая архитектура\n",
    "\n",
    "### Основные компоненты\n",
    "- **Microsoft Agent Framework**: Реализация на Python с поддержкой продвинутых инструментов\n",
    "- **Интеграция моделей GitHub**: Доступ к высокопроизводительным языковым моделям\n",
    "- **Система реестра инструментов**: Организованное управление возможностями агентов\n",
    "- **Шаблоны восстановления после ошибок**: Надежное управление сбоями выполнения инструментов\n",
    "\n",
    "### Поток интеграции инструментов\n",
    "```python\n",
    "User Request → Agent Analysis → Tool Selection → Tool Execution → Response Synthesis\n",
    "```\n",
    "\n",
    "## 🛠️ Категории инструментов, представленные в примерах\n",
    "\n",
    "### 1. **Инструменты генерации данных**\n",
    "- Генератор случайных направлений\n",
    "- Провайдер информации о погоде  \n",
    "- Калькулятор стоимости путешествий\n",
    "- Движок рекомендаций активности\n",
    "\n",
    "### 2. **Инструменты обработки**\n",
    "- Форматирование и проверка текста\n",
    "- Утилиты преобразования данных\n",
    "- Функции анализа контента\n",
    "- Инструменты улучшения ответов\n",
    "\n",
    "### 3. **Интеграционные инструменты**\n",
    "- Коннекторы внешних API\n",
    "- Операции с файловой системой\n",
    "- Интерфейсы запросов к базе данных\n",
    "- Утилиты для веб-скрейпинга\n",
    "\n",
    "## ⚙️ Предварительные требования и настройка\n",
    "\n",
    "\n",
    "**Необходимые зависимости:**\n",
    "```bash\n",
    "\n",
    "pip install agent-framework-core -U\n",
    "```\n",
    "\n",
    "**Конфигурация окружения (.env файл):**\n",
    "```env\n",
    "GITHUB_TOKEN=your_github_personal_access_token\n",
    "GITHUB_ENDPOINT=https://models.inference.ai.azure.com\n",
    "GITHUB_MODEL_ID=gpt-4o-mini\n",
    "```\n",
    "\n",
    "**Необязательные API:**\n",
    "- Ключ API сервиса погоды (для инструментов погоды)\n",
    "- Доступ к API конвертации валют\n",
    "- Учетные данные сервиса информации о путешествиях\n",
    "\n",
    "## 🎨 Шаблоны проектирования\n",
    "\n",
    "### Шаблон фабрики инструментов\n",
    "- Централизованное создание и настройка инструментов\n",
    "- Единый дизайн интерфейса инструментов\n",
    "- Удобная регистрация и обнаружение инструментов\n",
    "\n",
    "### Шаблон команды\n",
    "- Инкапсулированная логика выполнения инструментов\n",
    "- Функциональность отмены/повтора для сложных операций\n",
    "- Ведение журнала использования инструментов\n",
    "\n",
    "### Шаблон наблюдателя\n",
    "- Мониторинг выполнения инструментов\n",
    "- Сбор метрик производительности\n",
    "- Отчет об ошибках и оповещения\n",
    "\n",
    "## 🚀 Лучшие практики\n",
    "\n",
    "- **Документация инструментов**: Четкие описания для понимания агентом\n",
    "- **Валидация входных данных**: Надежная проверка параметров и их очистка\n",
    "- **Форматирование выходных данных**: Последовательные и удобные для анализа ответы инструментов\n",
    "- **Сообщения об ошибках**: Полезная информация для отладки\n",
    "- **Производительность**: Оптимизированное выполнение инструментов для быстродействия\n",
    "\n",
    "Готовы создавать агентов с мощными возможностями инструментов? Давайте создадим что-то удивительное! ⚡\n"
   ]
  },
  {
   "cell_type": "code",
   "execution_count": null,
   "id": "59c0feeb",
   "metadata": {},
   "outputs": [],
   "source": [
    "! pip install agent-framework-core -U"
   ]
  },
  {
   "cell_type": "code",
   "execution_count": null,
   "id": "c0df8a52",
   "metadata": {},
   "outputs": [],
   "source": [
    "# � Import core dependencies for Agent Framework and tool integration\n",
    "# This sets up the essential libraries for building intelligent agents with tool capabilities\n",
    "\n",
    "import asyncio\n",
    "import os\n",
    "import json\n",
    "\n",
    "from dotenv import load_dotenv  # For loading environment variables securely\n",
    "from random import randint\n",
    "\n",
    "# These are the core components for building tool-enabled agents\n",
    "from agent_framework import ChatAgent           # Main agent class\n",
    "from agent_framework.openai import OpenAIChatClient  # OpenAI-compatible client"
   ]
  },
  {
   "cell_type": "code",
   "execution_count": null,
   "id": "24c10eb0",
   "metadata": {},
   "outputs": [],
   "source": [
    "load_dotenv()"
   ]
  },
  {
   "cell_type": "code",
   "execution_count": null,
   "id": "151e0314",
   "metadata": {},
   "outputs": [],
   "source": [
    "# 🔑 Environment variables verification\n",
    "# Ensure all required GitHub Models credentials are properly configured\n",
    "print(\"GITHUB_ENDPOINT:\", os.environ.get(\"GITHUB_ENDPOINT\"))\n",
    "print(\"GITHUB_TOKEN:\", \"***\" if os.environ.get(\"GITHUB_TOKEN\") else \"Not set\")\n",
    "print(\"GITHUB_MODEL_ID:\", os.environ.get(\"GITHUB_MODEL_ID\"))"
   ]
  },
  {
   "cell_type": "code",
   "execution_count": null,
   "id": "a6141584",
   "metadata": {},
   "outputs": [],
   "source": [
    "# 🧪 Test GitHub Models connectivity\n",
    "openai_chat_client = OpenAIChatClient(base_url=os.environ.get(\"GITHUB_ENDPOINT\"), api_key=os.environ.get(\"GITHUB_TOKEN\"), model_id=os.environ.get(\"GITHUB_MODEL_ID\"))"
   ]
  },
  {
   "cell_type": "code",
   "execution_count": null,
   "id": "a6507f83",
   "metadata": {},
   "outputs": [],
   "source": [
    "# 🛠️ Define travel planning tools for agent integration\n",
    "# These functions provide specific capabilities that the agent can invoke dynamically\n",
    "\n",
    "def get_random_destination() -> str:\n",
    "    \"\"\"\n",
    "    🎲 Random destination generator tool\n",
    "    Returns a randomly selected travel destination from curated list\n",
    "    Useful when customers need inspiration for their next vacation\n",
    "    \"\"\"\n",
    "    destinations = [\n",
    "        \"Paris, France\",\n",
    "        \"Tokyo, Japan\", \n",
    "        \"New York City, USA\",\n",
    "        \"London, England\",\n",
    "        \"Rome, Italy\",\n",
    "        \"Sydney, Australia\",\n",
    "        \"Dubai, UAE\",\n",
    "        \"Barcelona, Spain\",\n",
    "        \"Bangkok, Thailand\",\n",
    "        \"Amsterdam, Netherlands\",\n",
    "        \"Istanbul, Turkey\",\n",
    "        \"Prague, Czech Republic\",\n",
    "        \"Santorini, Greece\",\n",
    "        \"Reykjavik, Iceland\",\n",
    "        \"Marrakech, Morocco\",\n",
    "        \"Cape Town, South Africa\",\n",
    "        \"Rio de Janeiro, Brazil\",\n",
    "        \"Bali, Indonesia\"\n",
    "    ]\n",
    "    # 🎯 Return random selection from the curated destination list\n",
    "    return destinations[randint(0, len(destinations) - 1)]"
   ]
  },
  {
   "cell_type": "code",
   "execution_count": null,
   "id": "5d4f0568",
   "metadata": {},
   "outputs": [],
   "source": [
    "# 🔗 Initialize GitHub Models chat client for agent communication\n",
    "# Creates the primary interface between the agent and the language model\n",
    "openai_chat_client = OpenAIChatClient(base_url=os.environ.get(\"GITHUB_ENDPOINT\"), api_key=os.environ.get(\"GITHUB_TOKEN\"), model_id=os.environ.get(\"GITHUB_MODEL_ID\"))"
   ]
  },
  {
   "cell_type": "code",
   "execution_count": null,
   "id": "751668c5",
   "metadata": {},
   "outputs": [],
   "source": [
    "# 🤖 Configure travel agent identity and behavioral instructions\n",
    "# Define the agent's personality, capabilities, and operational guidelines\n",
    "\n",
    "AGENT_NAME = \"TravelAgent\"\n",
    "\n",
    "AGENT_INSTRUCTIONS = \"\"\"You are a helpful AI Agent that can help plan vacations for customers at random destinations\n",
    "\"\"\""
   ]
  },
  {
   "cell_type": "code",
   "execution_count": null,
   "id": "be18ac4f",
   "metadata": {},
   "outputs": [],
   "source": [
    "agent = ChatAgent(\n",
    "        name = AGENT_NAME,\n",
    "        chat_client=openai_chat_client,\n",
    "        instructions=AGENT_INSTRUCTIONS,\n",
    "        tools=[get_random_destination]\n",
    ")"
   ]
  },
  {
   "cell_type": "code",
   "execution_count": null,
   "id": "772e9481",
   "metadata": {},
   "outputs": [],
   "source": [
    "thread = agent.get_new_thread()"
   ]
  },
  {
   "cell_type": "code",
   "execution_count": null,
   "id": "a731b547",
   "metadata": {},
   "outputs": [],
   "source": [
    "response1 = await agent.run(\"Plan me a day trip\",thread= thread)"
   ]
  },
  {
   "cell_type": "code",
   "execution_count": null,
   "id": "7d3fe00a",
   "metadata": {},
   "outputs": [],
   "source": [
    "\n",
    "last_message = response1.messages[-1]\n",
    "text_content = last_message.contents[0].text\n",
    "print(\"Travel plan:\")\n",
    "print(text_content)"
   ]
  },
  {
   "cell_type": "markdown",
   "metadata": {},
   "source": [
    "\n---\n\n**Отказ от ответственности**:  \nЭтот документ был переведен с помощью сервиса автоматического перевода [Co-op Translator](https://github.com/Azure/co-op-translator). Несмотря на наши усилия обеспечить точность, автоматические переводы могут содержать ошибки или неточности. Оригинальный документ на его родном языке следует считать авторитетным источником. Для получения критически важной информации рекомендуется профессиональный перевод человеком. Мы не несем ответственности за любые недоразумения или неправильные интерпретации, возникшие в результате использования данного перевода.\n"
   ]
  }
 ],
 "metadata": {
  "kernelspec": {
   "display_name": "agentenv",
   "language": "python",
   "name": "python3"
  },
  "language_info": {
   "codemirror_mode": {
    "name": "ipython",
    "version": 3
   },
   "file_extension": ".py",
   "mimetype": "text/x-python",
   "name": "python",
   "nbconvert_exporter": "python",
   "pygments_lexer": "ipython3",
   "version": "3.12.10"
  },
  "polyglot_notebook": {
   "kernelInfo": {
    "defaultKernelName": "csharp",
    "items": [
     {
      "aliases": [],
      "name": "csharp"
     }
    ]
   }
  },
  "coopTranslator": {
   "original_hash": "42966ddac53cebaf0ac1ce33b2ee7059",
   "translation_date": "2025-10-02T14:30:15+00:00",
   "source_file": "04-tool-use/code_samples/04-python-agent-framework.ipynb",
   "language_code": "ru"
  }
 },
 "nbformat": 4,
 "nbformat_minor": 5
}