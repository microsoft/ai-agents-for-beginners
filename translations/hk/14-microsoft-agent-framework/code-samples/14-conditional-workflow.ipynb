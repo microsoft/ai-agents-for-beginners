{
 "cells": [
  {
   "cell_type": "code",
   "execution_count": 1,
   "id": "4b2cf5f5",
   "metadata": {},
   "outputs": [
    {
     "name": "stdout",
     "output_type": "stream",
     "text": [
      "✅ All imports successful!\n"
     ]
    }
   ],
   "source": [
    "import asyncio\n",
    "import json\n",
    "import os\n",
    "from typing import Annotated, Any, Never\n",
    "\n",
    "from agent_framework import (\n",
    "    AgentExecutor,\n",
    "    AgentExecutorRequest,\n",
    "    AgentExecutorResponse,\n",
    "    ChatMessage,\n",
    "    Role,\n",
    "    WorkflowBuilder,\n",
    "    WorkflowContext,\n",
    "    ai_function,\n",
    "    executor,\n",
    ")\n",
    "\n",
    "# 🤖 GitHub Models or OpenAI client integration\n",
    "from agent_framework.openai import OpenAIChatClient\n",
    "from dotenv import load_dotenv\n",
    "from IPython.display import HTML, display\n",
    "from pydantic import BaseModel\n",
    "\n",
    "print(\"✅ All imports successful!\")"
   ]
  },
  {
   "cell_type": "markdown",
   "id": "001c224e",
   "metadata": {},
   "source": [
    "## 第一步：定義 Pydantic 模型以生成結構化輸出\n",
    "\n",
    "這些模型定義了代理將返回的**結構**。使用 `response_format` 搭配 Pydantic 可確保：\n",
    "- ✅ 類型安全的數據提取\n",
    "- ✅ 自動驗證\n",
    "- ✅ 無需從自由文本回應中解析錯誤\n",
    "- ✅ 根據字段進行簡易的條件路由\n"
   ]
  },
  {
   "cell_type": "code",
   "execution_count": 2,
   "id": "6c2ef582",
   "metadata": {},
   "outputs": [
    {
     "name": "stdout",
     "output_type": "stream",
     "text": [
      "✅ Pydantic models defined:\n",
      "   - BookingCheckResult (availability check)\n",
      "   - AlternativeResult (alternative suggestion)\n",
      "   - BookingConfirmation (booking confirmation)\n"
     ]
    }
   ],
   "source": [
    "class BookingCheckResult(BaseModel):\n",
    "    \"\"\"Result from checking hotel availability at a destination.\"\"\"\n",
    "\n",
    "    destination: str\n",
    "    has_availability: bool\n",
    "    message: str\n",
    "\n",
    "\n",
    "class AlternativeResult(BaseModel):\n",
    "    \"\"\"Suggested alternative destination when no rooms available.\"\"\"\n",
    "\n",
    "    alternative_destination: str\n",
    "    reason: str\n",
    "\n",
    "\n",
    "class BookingConfirmation(BaseModel):\n",
    "    \"\"\"Booking suggestion when rooms are available.\"\"\"\n",
    "\n",
    "    destination: str\n",
    "    action: str\n",
    "    message: str\n",
    "\n",
    "\n",
    "print(\"✅ Pydantic models defined:\")\n",
    "print(\"   - BookingCheckResult (availability check)\")\n",
    "print(\"   - AlternativeResult (alternative suggestion)\")\n",
    "print(\"   - BookingConfirmation (booking confirmation)\")"
   ]
  },
  {
   "cell_type": "markdown",
   "id": "48423ecc",
   "metadata": {},
   "source": [
    "## 步驟 2：建立酒店預訂工具\n",
    "\n",
    "這個工具是 **availability_agent** 用來檢查房間是否可用的。我們使用 `@ai_function` 裝飾器來：\n",
    "- 將 Python 函數轉換為 AI 可調用的工具\n",
    "- 自動生成 LLM 的 JSON schema\n",
    "- 處理參數驗證\n",
    "- 使代理能自動調用\n",
    "\n",
    "在這個示範中：\n",
    "- **斯德哥爾摩、西雅圖、東京、倫敦、阿姆斯特丹** → 有房間 ✅\n",
    "- **其他所有城市** → 沒有房間 ❌\n"
   ]
  },
  {
   "cell_type": "code",
   "execution_count": 3,
   "id": "aad7e7ec",
   "metadata": {},
   "outputs": [
    {
     "name": "stdout",
     "output_type": "stream",
     "text": [
      "✅ hotel_booking tool created with @ai_function decorator\n"
     ]
    }
   ],
   "source": [
    "@ai_function(description=\"Check hotel room availability for a destination city\")\n",
    "def hotel_booking(destination: Annotated[str, \"The destination city to check for hotel rooms\"]) -> str:\n",
    "    \"\"\"\n",
    "    Simulates checking hotel room availability.\n",
    "    \n",
    "    Returns JSON string with availability status.\n",
    "    \"\"\"\n",
    "    display(\n",
    "        HTML(f\"\"\"\n",
    "        <div style='padding: 15px; background: #e3f2fd; border-left: 4px solid #2196f3; border-radius: 4px; margin: 10px 0;'>\n",
    "            <strong>🔍 Tool Invoked:</strong> hotel_booking(\"{destination}\")\n",
    "        </div>\n",
    "    \"\"\")\n",
    "    )\n",
    "\n",
    "    # Simulate availability check\n",
    "    cities_with_rooms = [\"stockholm\", \"seattle\", \"tokyo\", \"london\", \"amsterdam\"]\n",
    "    has_rooms = destination.lower() in cities_with_rooms\n",
    "\n",
    "    result = {\"has_availability\": has_rooms, \"destination\": destination}\n",
    "\n",
    "    return json.dumps(result)\n",
    "\n",
    "\n",
    "print(\"✅ hotel_booking tool created with @ai_function decorator\")"
   ]
  },
  {
   "cell_type": "markdown",
   "id": "134c54b0",
   "metadata": {},
   "source": [
    "## 第三步：定義路由的條件函數\n",
    "\n",
    "這些函數會檢查代理的回應，並決定在工作流程中應採取哪條路徑。\n",
    "\n",
    "**關鍵模式：**\n",
    "1. 檢查消息是否為 `AgentExecutorResponse`\n",
    "2. 解析結構化輸出（Pydantic 模型）\n",
    "3. 返回 `True` 或 `False` 以控制路由\n",
    "\n",
    "工作流程會在**邊緣**上評估這些條件，以決定下一步要調用哪個執行器。\n"
   ]
  },
  {
   "cell_type": "code",
   "execution_count": 4,
   "id": "6960edd1",
   "metadata": {},
   "outputs": [
    {
     "name": "stdout",
     "output_type": "stream",
     "text": [
      "✅ Condition functions defined:\n",
      "   - has_availability_condition (routes when rooms exist)\n",
      "   - no_availability_condition (routes when no rooms)\n"
     ]
    }
   ],
   "source": [
    "def has_availability_condition(message: Any) -> bool:\n",
    "    \"\"\"\n",
    "    Condition for routing when hotels ARE available.\n",
    "    \n",
    "    Returns True if the destination has hotel rooms.\n",
    "    \"\"\"\n",
    "    if not isinstance(message, AgentExecutorResponse):\n",
    "        return True  # Default to True if unexpected type\n",
    "\n",
    "    try:\n",
    "        result = BookingCheckResult.model_validate_json(message.agent_run_response.text)\n",
    "\n",
    "        display(\n",
    "            HTML(f\"\"\"\n",
    "            <div style='padding: 12px; background: #c8e6c9; border-left: 4px solid #4caf50; border-radius: 4px; margin: 10px 0;'>\n",
    "                <strong>✅ Condition Check:</strong> has_availability = <strong>{result.has_availability}</strong> for {result.destination}\n",
    "            </div>\n",
    "        \"\"\")\n",
    "        )\n",
    "\n",
    "        return result.has_availability\n",
    "    except Exception as e:\n",
    "        display(\n",
    "            HTML(f\"\"\"\n",
    "            <div style='padding: 12px; background: #ffcdd2; border-left: 4px solid #f44336; border-radius: 4px; margin: 10px 0;'>\n",
    "                <strong>⚠️  Error:</strong> {str(e)}\n",
    "            </div>\n",
    "        \"\"\")\n",
    "        )\n",
    "        return False\n",
    "\n",
    "\n",
    "def no_availability_condition(message: Any) -> bool:\n",
    "    \"\"\"\n",
    "    Condition for routing when hotels are NOT available.\n",
    "    \n",
    "    Returns True if the destination has no hotel rooms.\n",
    "    \"\"\"\n",
    "    if not isinstance(message, AgentExecutorResponse):\n",
    "        return False\n",
    "\n",
    "    try:\n",
    "        result = BookingCheckResult.model_validate_json(message.agent_run_response.text)\n",
    "\n",
    "        display(\n",
    "            HTML(f\"\"\"\n",
    "            <div style='padding: 12px; background: #ffecb3; border-left: 4px solid #ff9800; border-radius: 4px; margin: 10px 0;'>\n",
    "                <strong>❌ Condition Check:</strong> no_availability for {result.destination}\n",
    "            </div>\n",
    "        \"\"\")\n",
    "        )\n",
    "\n",
    "        return not result.has_availability\n",
    "    except Exception as e:\n",
    "        return False\n",
    "\n",
    "\n",
    "print(\"✅ Condition functions defined:\")\n",
    "print(\"   - has_availability_condition (routes when rooms exist)\")\n",
    "print(\"   - no_availability_condition (routes when no rooms)\")"
   ]
  },
  {
   "cell_type": "markdown",
   "id": "9dc783ba",
   "metadata": {},
   "source": [
    "## 第四步：建立自訂顯示執行器\n",
    "\n",
    "執行器是執行工作流程中轉換或副作用的元件。我們使用 `@executor` 裝飾器來建立一個自訂執行器，用於顯示最終結果。\n",
    "\n",
    "**主要概念：**\n",
    "- `@executor(id=\"...\")` - 將函數註冊為工作流程執行器\n",
    "- `WorkflowContext[Never, str]` - 輸入/輸出的型別提示\n",
    "- `ctx.yield_output(...)` - 產生工作流程的最終結果\n"
   ]
  },
  {
   "cell_type": "code",
   "execution_count": 5,
   "id": "c67f6b55",
   "metadata": {},
   "outputs": [
    {
     "name": "stdout",
     "output_type": "stream",
     "text": [
      "✅ display_result executor created with @executor decorator\n"
     ]
    }
   ],
   "source": [
    "@executor(id=\"display_result\")\n",
    "async def display_result(response: AgentExecutorResponse, ctx: WorkflowContext[Never, str]) -> None:\n",
    "    \"\"\"\n",
    "    Display the final result as workflow output.\n",
    "    \n",
    "    This executor receives the final agent response and yields it as the workflow output.\n",
    "    \"\"\"\n",
    "    display(\n",
    "        HTML(\"\"\"\n",
    "        <div style='padding: 15px; background: #f3e5f5; border-left: 4px solid #9c27b0; border-radius: 4px; margin: 10px 0;'>\n",
    "            <strong>📤 Display Executor:</strong> Yielding workflow output\n",
    "        </div>\n",
    "    \"\"\")\n",
    "    )\n",
    "\n",
    "    await ctx.yield_output(response.agent_run_response.text)\n",
    "\n",
    "\n",
    "print(\"✅ display_result executor created with @executor decorator\")"
   ]
  },
  {
   "cell_type": "markdown",
   "id": "7de6eb90",
   "metadata": {},
   "source": [
    "## 第五步：載入環境變數\n",
    "\n",
    "配置 LLM 客戶端。本示例適用於：\n",
    "- **GitHub 模型**（使用 GitHub token 的免費方案）\n",
    "- **Azure OpenAI**\n",
    "- **OpenAI**\n"
   ]
  },
  {
   "cell_type": "code",
   "execution_count": 6,
   "id": "1e8f0d88",
   "metadata": {},
   "outputs": [],
   "source": [
    "# Load environment variables\n",
    "load_dotenv()\n",
    "\n",
    "# Check for GitHub Models or OpenAI\n",
    "chat_client = OpenAIChatClient(base_url=os.environ.get(\n",
    "    \"GITHUB_ENDPOINT\"), api_key=os.environ.get(\"GITHUB_TOKEN\"), model_id=\"gpt-4o\")"
   ]
  },
  {
   "cell_type": "markdown",
   "id": "3fc61fe7",
   "metadata": {},
   "source": [
    "## 第六步：建立具結構化輸出的 AI 代理\n",
    "\n",
    "我們建立了**三個專門的代理**，每個代理都包裹在 `AgentExecutor` 中：\n",
    "\n",
    "1. **availability_agent** - 使用工具檢查酒店的可用性\n",
    "2. **alternative_agent** - 建議替代城市（當無房間時）\n",
    "3. **booking_agent** - 鼓勵預訂（當有房間時）\n",
    "\n",
    "**主要特點：**\n",
    "- `tools=[hotel_booking]` - 為代理提供工具\n",
    "- `response_format=PydanticModel` - 強制生成結構化的 JSON 輸出\n",
    "- `AgentExecutor(..., id=\"...\")` - 包裹代理以供工作流程使用\n"
   ]
  },
  {
   "cell_type": "code",
   "execution_count": 7,
   "id": "66466dda",
   "metadata": {},
   "outputs": [
    {
     "data": {
      "text/html": [
       "\n",
       "    <div style='padding: 15px; background: #e3f2fd; border-left: 4px solid #2196f3; border-radius: 4px; margin: 10px 0;'>\n",
       "        <strong>✅ Created 3 Agents:</strong>\n",
       "        <ul style='margin: 10px 0 0 0;'>\n",
       "            <li><strong>availability_agent</strong> - Checks availability with hotel_booking tool</li>\n",
       "            <li><strong>alternative_agent</strong> - Suggests alternative cities</li>\n",
       "            <li><strong>booking_agent</strong> - Encourages booking</li>\n",
       "        </ul>\n",
       "    </div>\n"
      ],
      "text/plain": [
       "<IPython.core.display.HTML object>"
      ]
     },
     "metadata": {},
     "output_type": "display_data"
    }
   ],
   "source": [
    "# Agent 1: Check availability with tool\n",
    "availability_agent = AgentExecutor(\n",
    "    chat_client.create_agent(\n",
    "        instructions=(\n",
    "            \"You are a hotel booking assistant that checks room availability. \"\n",
    "            \"Use the hotel_booking tool to check if rooms are available at the destination. \"\n",
    "            \"Return JSON with fields: destination (string), has_availability (bool), and message (string). \"\n",
    "            \"The message should summarize the availability status.\"\n",
    "        ),\n",
    "        tools=[hotel_booking],\n",
    "        response_format=BookingCheckResult,\n",
    "    ),\n",
    "    id=\"availability_agent\",\n",
    ")\n",
    "\n",
    "# Agent 2: Suggest alternative (when no rooms)\n",
    "alternative_agent = AgentExecutor(\n",
    "    chat_client.create_agent(\n",
    "        instructions=(\n",
    "            \"You are a helpful travel assistant. When a user cannot find hotels in their requested city, \"\n",
    "            \"suggest an alternative nearby city that has availability. \"\n",
    "            \"Return JSON with fields: alternative_destination (string) and reason (string). \"\n",
    "            \"Make your suggestion sound appealing and helpful.\"\n",
    "        ),\n",
    "        response_format=AlternativeResult,\n",
    "    ),\n",
    "    id=\"alternative_agent\",\n",
    ")\n",
    "\n",
    "# Agent 3: Suggest booking (when rooms available)\n",
    "booking_agent = AgentExecutor(\n",
    "    chat_client.create_agent(\n",
    "        instructions=(\n",
    "            \"You are a booking assistant. The user has found available hotel rooms. \"\n",
    "            \"Encourage them to book by highlighting the destination's appeal. \"\n",
    "            \"Return JSON with fields: destination (string), action (string), and message (string). \"\n",
    "            \"The action should be 'book_now' and message should be encouraging.\"\n",
    "        ),\n",
    "        response_format=BookingConfirmation,\n",
    "    ),\n",
    "    id=\"booking_agent\",\n",
    ")\n",
    "\n",
    "display(\n",
    "    HTML(\"\"\"\n",
    "    <div style='padding: 15px; background: #e3f2fd; border-left: 4px solid #2196f3; border-radius: 4px; margin: 10px 0;'>\n",
    "        <strong>✅ Created 3 Agents:</strong>\n",
    "        <ul style='margin: 10px 0 0 0;'>\n",
    "            <li><strong>availability_agent</strong> - Checks availability with hotel_booking tool</li>\n",
    "            <li><strong>alternative_agent</strong> - Suggests alternative cities</li>\n",
    "            <li><strong>booking_agent</strong> - Encourages booking</li>\n",
    "        </ul>\n",
    "    </div>\n",
    "\"\"\")\n",
    ")"
   ]
  },
  {
   "cell_type": "markdown",
   "id": "7879a0cb",
   "metadata": {},
   "source": [
    "## 第七步：使用條件邊建立工作流程\n",
    "\n",
    "現在我們使用 `WorkflowBuilder` 來構建具有條件路由的圖表：\n",
    "\n",
    "**工作流程結構：**\n",
    "```\n",
    "availability_agent (START)\n",
    "        ↓\n",
    "   Evaluate conditions\n",
    "        ↙         ↘\n",
    "[no_availability]  [has_availability]\n",
    "        ↓              ↓\n",
    "alternative_agent  booking_agent\n",
    "        ↓              ↓\n",
    "    display_result ←───┘\n",
    "```\n",
    "\n",
    "**主要方法：**\n",
    "- `.set_start_executor(...)` - 設定入口點\n",
    "- `.add_edge(from, to, condition=...)` - 添加條件邊\n",
    "- `.build()` - 完成工作流程構建\n"
   ]
  },
  {
   "cell_type": "code",
   "execution_count": 8,
   "id": "90bb29dd",
   "metadata": {},
   "outputs": [
    {
     "data": {
      "text/html": [
       "\n",
       "    <div style='padding: 20px; background: linear-gradient(135deg, #667eea 0%, #764ba2 100%); color: white; border-radius: 8px; margin: 10px 0;'>\n",
       "        <h3 style='margin: 0 0 15px 0;'>✅ Workflow Built Successfully!</h3>\n",
       "        <p style='margin: 0; line-height: 1.6;'>\n",
       "            <strong>Conditional Routing:</strong><br>\n",
       "            • If <strong>NO availability</strong> → alternative_agent → display_result<br>\n",
       "            • If <strong>availability</strong> → booking_agent → display_result\n",
       "        </p>\n",
       "    </div>\n"
      ],
      "text/plain": [
       "<IPython.core.display.HTML object>"
      ]
     },
     "metadata": {},
     "output_type": "display_data"
    }
   ],
   "source": [
    "# Build the workflow with conditional routing\n",
    "workflow = (\n",
    "    WorkflowBuilder()\n",
    "    .set_start_executor(availability_agent)\n",
    "    # NO AVAILABILITY PATH\n",
    "    .add_edge(availability_agent, alternative_agent, condition=no_availability_condition)\n",
    "    .add_edge(alternative_agent, display_result)\n",
    "    # HAS AVAILABILITY PATH\n",
    "    .add_edge(availability_agent, booking_agent, condition=has_availability_condition)\n",
    "    .add_edge(booking_agent, display_result)\n",
    "    .build()\n",
    ")\n",
    "\n",
    "display(\n",
    "    HTML(\"\"\"\n",
    "    <div style='padding: 20px; background: linear-gradient(135deg, #667eea 0%, #764ba2 100%); color: white; border-radius: 8px; margin: 10px 0;'>\n",
    "        <h3 style='margin: 0 0 15px 0;'>✅ Workflow Built Successfully!</h3>\n",
    "        <p style='margin: 0; line-height: 1.6;'>\n",
    "            <strong>Conditional Routing:</strong><br>\n",
    "            • If <strong>NO availability</strong> → alternative_agent → display_result<br>\n",
    "            • If <strong>availability</strong> → booking_agent → display_result\n",
    "        </p>\n",
    "    </div>\n",
    "\"\"\")\n",
    ")"
   ]
  },
  {
   "cell_type": "markdown",
   "id": "0a3ad845",
   "metadata": {},
   "source": [
    "## 第 8 步：執行測試案例 1 - 沒有可用房間的城市（巴黎）\n",
    "\n",
    "讓我們測試**沒有可用房間**的情況，請求巴黎的酒店（在我們的模擬中，巴黎沒有房間）。\n"
   ]
  },
  {
   "cell_type": "code",
   "execution_count": 9,
   "id": "af1538cd",
   "metadata": {},
   "outputs": [
    {
     "data": {
      "text/html": [
       "\n",
       "    <div style='padding: 20px; background: #fff3e0; border-left: 4px solid #ff9800; border-radius: 8px; margin: 20px 0;'>\n",
       "        <h3 style='margin: 0 0 10px 0; color: #e65100;'>🧪 TEST CASE 1: Paris (No Availability)</h3>\n",
       "        <p style='margin: 0;'>Expected workflow path: availability_agent → alternative_agent → display_result</p>\n",
       "    </div>\n"
      ],
      "text/plain": [
       "<IPython.core.display.HTML object>"
      ]
     },
     "metadata": {},
     "output_type": "display_data"
    },
    {
     "data": {
      "text/html": [
       "\n",
       "        <div style='padding: 15px; background: #e3f2fd; border-left: 4px solid #2196f3; border-radius: 4px; margin: 10px 0;'>\n",
       "            <strong>🔍 Tool Invoked:</strong> hotel_booking(\"Paris\")\n",
       "        </div>\n",
       "    "
      ],
      "text/plain": [
       "<IPython.core.display.HTML object>"
      ]
     },
     "metadata": {},
     "output_type": "display_data"
    },
    {
     "data": {
      "text/html": [
       "\n",
       "            <div style='padding: 12px; background: #ffecb3; border-left: 4px solid #ff9800; border-radius: 4px; margin: 10px 0;'>\n",
       "                <strong>❌ Condition Check:</strong> no_availability for Paris\n",
       "            </div>\n",
       "        "
      ],
      "text/plain": [
       "<IPython.core.display.HTML object>"
      ]
     },
     "metadata": {},
     "output_type": "display_data"
    },
    {
     "data": {
      "text/html": [
       "\n",
       "            <div style='padding: 12px; background: #c8e6c9; border-left: 4px solid #4caf50; border-radius: 4px; margin: 10px 0;'>\n",
       "                <strong>✅ Condition Check:</strong> has_availability = <strong>False</strong> for Paris\n",
       "            </div>\n",
       "        "
      ],
      "text/plain": [
       "<IPython.core.display.HTML object>"
      ]
     },
     "metadata": {},
     "output_type": "display_data"
    },
    {
     "data": {
      "text/html": [
       "\n",
       "        <div style='padding: 15px; background: #f3e5f5; border-left: 4px solid #9c27b0; border-radius: 4px; margin: 10px 0;'>\n",
       "            <strong>📤 Display Executor:</strong> Yielding workflow output\n",
       "        </div>\n",
       "    "
      ],
      "text/plain": [
       "<IPython.core.display.HTML object>"
      ]
     },
     "metadata": {},
     "output_type": "display_data"
    },
    {
     "data": {
      "text/html": [
       "\n",
       "        <div style='padding: 25px; background: linear-gradient(135deg, #FFD700 0%, #FFA500 100%); border-radius: 12px; box-shadow: 0 4px 12px rgba(255,165,0,0.3); margin: 20px 0;'>\n",
       "            <h3 style='margin: 0 0 15px 0; color: #333;'>🏆 WORKFLOW RESULT (Paris)</h3>\n",
       "            <div style='background: white; padding: 20px; border-radius: 8px;'>\n",
       "                <p style='margin: 0 0 10px 0; font-size: 16px;'><strong>Status:</strong> ❌ No rooms in Paris</p>\n",
       "                <p style='margin: 0 0 10px 0; font-size: 16px;'><strong>Alternative Suggestion:</strong> 🏨 Versailles</p>\n",
       "                <p style='margin: 0; font-size: 14px; color: #666;'><strong>Reason:</strong> Versailles is a charming city located near Paris, offering beautiful historic architecture and the renowned Palace of Versailles. It’s an excellent alternative destination to explore while staying close to the capital.</p>\n",
       "            </div>\n",
       "        </div>\n",
       "    "
      ],
      "text/plain": [
       "<IPython.core.display.HTML object>"
      ]
     },
     "metadata": {},
     "output_type": "display_data"
    }
   ],
   "source": [
    "display(\n",
    "    HTML(\"\"\"\n",
    "    <div style='padding: 20px; background: #fff3e0; border-left: 4px solid #ff9800; border-radius: 8px; margin: 20px 0;'>\n",
    "        <h3 style='margin: 0 0 10px 0; color: #e65100;'>🧪 TEST CASE 1: Paris (No Availability)</h3>\n",
    "        <p style='margin: 0;'>Expected workflow path: availability_agent → alternative_agent → display_result</p>\n",
    "    </div>\n",
    "\"\"\")\n",
    ")\n",
    "\n",
    "# Create request for Paris\n",
    "request_paris = AgentExecutorRequest(\n",
    "    messages=[ChatMessage(Role.USER, text=\"I want to book a hotel in Paris\")], should_respond=True\n",
    ")\n",
    "\n",
    "# Run the workflow\n",
    "events_paris = await workflow.run(request_paris)\n",
    "outputs_paris = events_paris.get_outputs()\n",
    "\n",
    "# Display results\n",
    "if outputs_paris:\n",
    "    result_paris = AlternativeResult.model_validate_json(outputs_paris[0])\n",
    "\n",
    "    display(\n",
    "        HTML(f\"\"\"\n",
    "        <div style='padding: 25px; background: linear-gradient(135deg, #FFD700 0%, #FFA500 100%); border-radius: 12px; box-shadow: 0 4px 12px rgba(255,165,0,0.3); margin: 20px 0;'>\n",
    "            <h3 style='margin: 0 0 15px 0; color: #333;'>🏆 WORKFLOW RESULT (Paris)</h3>\n",
    "            <div style='background: white; padding: 20px; border-radius: 8px;'>\n",
    "                <p style='margin: 0 0 10px 0; font-size: 16px;'><strong>Status:</strong> ❌ No rooms in Paris</p>\n",
    "                <p style='margin: 0 0 10px 0; font-size: 16px;'><strong>Alternative Suggestion:</strong> 🏨 {result_paris.alternative_destination}</p>\n",
    "                <p style='margin: 0; font-size: 14px; color: #666;'><strong>Reason:</strong> {result_paris.reason}</p>\n",
    "            </div>\n",
    "        </div>\n",
    "    \"\"\")\n",
    "    )"
   ]
  },
  {
   "cell_type": "markdown",
   "id": "408a3f60",
   "metadata": {},
   "source": [
    "## 第九步：執行測試案例 2 - 有可用房間的城市（斯德哥爾摩）\n",
    "\n",
    "現在讓我們測試**可用性**路徑，通過請求斯德哥爾摩的酒店（在我們的模擬中有房間）。\n"
   ]
  },
  {
   "cell_type": "code",
   "execution_count": 10,
   "id": "e1471000",
   "metadata": {},
   "outputs": [
    {
     "data": {
      "text/html": [
       "\n",
       "    <div style='padding: 20px; background: #e8f5e9; border-left: 4px solid #4caf50; border-radius: 8px; margin: 20px 0;'>\n",
       "        <h3 style='margin: 0 0 10px 0; color: #1b5e20;'>🧪 TEST CASE 2: Stockholm (Has Availability)</h3>\n",
       "        <p style='margin: 0;'>Expected workflow path: availability_agent → booking_agent → display_result</p>\n",
       "    </div>\n"
      ],
      "text/plain": [
       "<IPython.core.display.HTML object>"
      ]
     },
     "metadata": {},
     "output_type": "display_data"
    },
    {
     "data": {
      "text/html": [
       "\n",
       "        <div style='padding: 15px; background: #e3f2fd; border-left: 4px solid #2196f3; border-radius: 4px; margin: 10px 0;'>\n",
       "            <strong>🔍 Tool Invoked:</strong> hotel_booking(\"Stockholm\")\n",
       "        </div>\n",
       "    "
      ],
      "text/plain": [
       "<IPython.core.display.HTML object>"
      ]
     },
     "metadata": {},
     "output_type": "display_data"
    },
    {
     "data": {
      "text/html": [
       "\n",
       "            <div style='padding: 12px; background: #ffecb3; border-left: 4px solid #ff9800; border-radius: 4px; margin: 10px 0;'>\n",
       "                <strong>❌ Condition Check:</strong> no_availability for Stockholm\n",
       "            </div>\n",
       "        "
      ],
      "text/plain": [
       "<IPython.core.display.HTML object>"
      ]
     },
     "metadata": {},
     "output_type": "display_data"
    },
    {
     "data": {
      "text/html": [
       "\n",
       "            <div style='padding: 12px; background: #c8e6c9; border-left: 4px solid #4caf50; border-radius: 4px; margin: 10px 0;'>\n",
       "                <strong>✅ Condition Check:</strong> has_availability = <strong>True</strong> for Stockholm\n",
       "            </div>\n",
       "        "
      ],
      "text/plain": [
       "<IPython.core.display.HTML object>"
      ]
     },
     "metadata": {},
     "output_type": "display_data"
    },
    {
     "data": {
      "text/html": [
       "\n",
       "        <div style='padding: 15px; background: #f3e5f5; border-left: 4px solid #9c27b0; border-radius: 4px; margin: 10px 0;'>\n",
       "            <strong>📤 Display Executor:</strong> Yielding workflow output\n",
       "        </div>\n",
       "    "
      ],
      "text/plain": [
       "<IPython.core.display.HTML object>"
      ]
     },
     "metadata": {},
     "output_type": "display_data"
    },
    {
     "data": {
      "text/html": [
       "\n",
       "        <div style='padding: 25px; background: linear-gradient(135deg, #4caf50 0%, #8bc34a 100%); color: white; border-radius: 12px; box-shadow: 0 4px 12px rgba(76,175,80,0.3); margin: 20px 0;'>\n",
       "            <h3 style='margin: 0 0 15px 0;'>🏆 WORKFLOW RESULT (Stockholm)</h3>\n",
       "            <div style='background: white; color: #333; padding: 20px; border-radius: 8px;'>\n",
       "                <p style='margin: 0 0 10px 0; font-size: 16px;'><strong>Status:</strong> ✅ Rooms Available!</p>\n",
       "                <p style='margin: 0 0 10px 0; font-size: 16px;'><strong>Destination:</strong> 🏨 Stockholm</p>\n",
       "                <p style='margin: 0 0 10px 0; font-size: 16px;'><strong>Action:</strong> book_now</p>\n",
       "                <p style='margin: 0; font-size: 14px; color: #666;'><strong>Message:</strong> Stockholm is an enchanting city with striking architecture, rich history, and an incredible cultural scene. Book your hotel now to secure your stay in this captivating destination!</p>\n",
       "            </div>\n",
       "        </div>\n",
       "    "
      ],
      "text/plain": [
       "<IPython.core.display.HTML object>"
      ]
     },
     "metadata": {},
     "output_type": "display_data"
    }
   ],
   "source": [
    "display(\n",
    "    HTML(\"\"\"\n",
    "    <div style='padding: 20px; background: #e8f5e9; border-left: 4px solid #4caf50; border-radius: 8px; margin: 20px 0;'>\n",
    "        <h3 style='margin: 0 0 10px 0; color: #1b5e20;'>🧪 TEST CASE 2: Stockholm (Has Availability)</h3>\n",
    "        <p style='margin: 0;'>Expected workflow path: availability_agent → booking_agent → display_result</p>\n",
    "    </div>\n",
    "\"\"\")\n",
    ")\n",
    "\n",
    "# Create request for Stockholm\n",
    "request_stockholm = AgentExecutorRequest(\n",
    "    messages=[ChatMessage(Role.USER, text=\"I want to book a hotel in Stockholm\")], should_respond=True\n",
    ")\n",
    "\n",
    "# Run the workflow\n",
    "events_stockholm = await workflow.run(request_stockholm)\n",
    "outputs_stockholm = events_stockholm.get_outputs()\n",
    "\n",
    "# Display results\n",
    "if outputs_stockholm:\n",
    "    result_stockholm = BookingConfirmation.model_validate_json(outputs_stockholm[0])\n",
    "\n",
    "    display(\n",
    "        HTML(f\"\"\"\n",
    "        <div style='padding: 25px; background: linear-gradient(135deg, #4caf50 0%, #8bc34a 100%); color: white; border-radius: 12px; box-shadow: 0 4px 12px rgba(76,175,80,0.3); margin: 20px 0;'>\n",
    "            <h3 style='margin: 0 0 15px 0;'>🏆 WORKFLOW RESULT (Stockholm)</h3>\n",
    "            <div style='background: white; color: #333; padding: 20px; border-radius: 8px;'>\n",
    "                <p style='margin: 0 0 10px 0; font-size: 16px;'><strong>Status:</strong> ✅ Rooms Available!</p>\n",
    "                <p style='margin: 0 0 10px 0; font-size: 16px;'><strong>Destination:</strong> 🏨 {result_stockholm.destination}</p>\n",
    "                <p style='margin: 0 0 10px 0; font-size: 16px;'><strong>Action:</strong> {result_stockholm.action}</p>\n",
    "                <p style='margin: 0; font-size: 14px; color: #666;'><strong>Message:</strong> {result_stockholm.message}</p>\n",
    "            </div>\n",
    "        </div>\n",
    "    \"\"\")\n",
    "    )"
   ]
  },
  {
   "cell_type": "markdown",
   "id": "a415537c",
   "metadata": {},
   "source": [
    "## 關鍵要點及下一步\n",
    "\n",
    "### ✅ 您已學到的內容：\n",
    "\n",
    "1. **WorkflowBuilder 模式**\n",
    "   - 使用 `.set_start_executor()` 定義入口點\n",
    "   - 使用 `.add_edge(from, to, condition=...)` 進行條件路由\n",
    "   - 呼叫 `.build()` 完成工作流程\n",
    "\n",
    "2. **條件路由**\n",
    "   - 條件函數檢查 `AgentExecutorResponse`\n",
    "   - 解析結構化輸出以進行路由決策\n",
    "   - 返回 `True` 啟動邊，返回 `False` 跳過邊\n",
    "\n",
    "3. **工具整合**\n",
    "   - 使用 `@ai_function` 將 Python 函數轉換為 AI 工具\n",
    "   - Agent 在需要時自動調用工具\n",
    "   - 工具返回 JSON，供 Agent 解析\n",
    "\n",
    "4. **結構化輸出**\n",
    "   - 使用 Pydantic 模型進行類型安全的數據提取\n",
    "   - 創建 Agent 時設置 `response_format=MyModel`\n",
    "   - 使用 `Model.model_validate_json()` 解析響應\n",
    "\n",
    "5. **自定義執行器**\n",
    "   - 使用 `@executor(id=\"...\")` 創建工作流程組件\n",
    "   - 執行器可轉換數據或執行副作用\n",
    "   - 使用 `ctx.yield_output()` 生成工作流程結果\n",
    "\n",
    "### 🚀 實際應用：\n",
    "\n",
    "- **旅遊預訂**：檢查可用性、建議替代方案、比較選項\n",
    "- **客戶服務**：根據問題類型、情緒、優先級進行路由\n",
    "- **電子商務**：檢查庫存、建議替代方案、處理訂單\n",
    "- **內容審核**：根據毒性分數、用戶標記進行路由\n",
    "- **審批工作流程**：根據金額、用戶角色、風險級別進行路由\n",
    "- **多階段處理**：根據數據質量、完整性進行路由\n",
    "\n",
    "### 📚 下一步：\n",
    "\n",
    "- 添加更複雜的條件（多重標準）\n",
    "- 使用工作流程狀態管理實現循環\n",
    "- 添加子工作流程以重複使用組件\n",
    "- 與真實 API 整合（如酒店預訂、庫存系統）\n",
    "- 添加錯誤處理和備援路徑\n",
    "- 使用內建的可視化工具來視覺化工作流程\n"
   ]
  },
  {
   "cell_type": "markdown",
   "metadata": {},
   "source": [
    "\n---\n\n**免責聲明**：  \n本文件已使用 AI 翻譯服務 [Co-op Translator](https://github.com/Azure/co-op-translator) 進行翻譯。儘管我們致力於提供準確的翻譯，請注意自動翻譯可能包含錯誤或不準確之處。原始文件的母語版本應被視為權威來源。對於關鍵資訊，建議使用專業人工翻譯。我們不對因使用此翻譯而引起的任何誤解或錯誤解釋負責。\n"
   ]
  }
 ],
 "metadata": {
  "kernelspec": {
   "display_name": ".venv (3.12.11)",
   "language": "python",
   "name": "python3"
  },
  "language_info": {
   "codemirror_mode": {
    "name": "ipython",
    "version": 3
   },
   "file_extension": ".py",
   "mimetype": "text/x-python",
   "name": "python",
   "nbconvert_exporter": "python",
   "pygments_lexer": "ipython3",
   "version": "3.12.11"
  },
  "coopTranslator": {
   "original_hash": "30364214cfd3cead472540c147b60b02",
   "translation_date": "2025-10-09T19:38:57+00:00",
   "source_file": "14-microsoft-agent-framework/code-samples/14-conditional-workflow.ipynb",
   "language_code": "hk"
  }
 },
 "nbformat": 4,
 "nbformat_minor": 5
}