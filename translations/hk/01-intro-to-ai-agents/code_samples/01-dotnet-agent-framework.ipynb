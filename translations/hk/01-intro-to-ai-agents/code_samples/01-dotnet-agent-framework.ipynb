{
 "cells": [
  {
   "cell_type": "markdown",
   "id": "7220b21d",
   "metadata": {},
   "source": [
    "# 🌍 使用 Microsoft Agent Framework (.NET) 的 AI 旅行代理\n",
    "\n",
    "## 📋 情景概述\n",
    "\n",
    "此筆記本展示如何使用 Microsoft Agent Framework for .NET 建立一個智能旅行規劃代理。該代理可以自動生成針對全球隨機目的地的個性化一日遊行程。\n",
    "\n",
    "**主要功能：**\n",
    "- 🎲 **隨機目的地選擇**：使用自定義工具選擇度假地點\n",
    "- 🗺️ **智能旅行規劃**：創建詳細的每日行程\n",
    "- 🔄 **即時流式響應**：支持即時和流式響應\n",
    "- 🛠️ **自定義工具整合**：展示如何擴展代理功能\n",
    "\n",
    "## 🔧 技術架構\n",
    "\n",
    "### 核心技術\n",
    "- **Microsoft Agent Framework**：最新的 .NET 實現，用於 AI 代理開發\n",
    "- **GitHub 模型整合**：使用 GitHub 的 AI 模型推理服務\n",
    "- **OpenAI API 兼容性**：利用 OpenAI 客戶端庫與自定義端點\n",
    "- **安全配置**：基於環境的 API 密鑰管理\n",
    "\n",
    "### 主要組件\n",
    "1. **AIAgent**：主要的代理協調器，負責處理對話流程\n",
    "2. **自定義工具**：代理可用的 `GetRandomDestination()` 函數\n",
    "3. **聊天客戶端**：基於 GitHub 模型的對話界面\n",
    "4. **流式支持**：即時響應生成功能\n",
    "\n",
    "### 整合模式\n",
    "```mermaid\n",
    "graph LR\n",
    "    A[User Request] --> B[AI Agent]\n",
    "    B --> C[GitHub Models API]\n",
    "    B --> D[GetRandomDestination Tool]\n",
    "    C --> E[Travel Itinerary]\n",
    "    D --> E\n",
    "```\n",
    "\n",
    "## 🚀 快速入門\n",
    "\n",
    "**先決條件：**\n",
    "- .NET 9.0 或更高版本\n",
    "- GitHub Models API 訪問令牌\n",
    "- 在 `.env` 文件中配置的環境變量\n",
    "\n",
    "**所需環境變量：**\n",
    "```env\n",
    "GITHUB_TOKEN=your_github_token\n",
    "GITHUB_ENDPOINT=https://models.inference.ai.azure.com\n",
    "GITHUB_MODEL_ID=gpt-4o-mini\n",
    "```\n",
    "\n",
    "按順序運行以下單元格，查看旅行代理的運行效果！\n"
   ]
  },
  {
   "cell_type": "code",
   "execution_count": 1,
   "id": "2770ac5c",
   "metadata": {
    "language_info": {
     "name": "polyglot-notebook"
    },
    "polyglot_notebook": {
     "kernelName": "csharp"
    }
   },
   "outputs": [
    {
     "data": {
      "text/html": [
       "<div><div></div><div></div><div><strong>Installed Packages</strong><ul><li><span>Microsoft.Extensions.AI, 9.9.1</span></li></ul></div></div>"
      ]
     },
     "metadata": {},
     "output_type": "display_data"
    }
   ],
   "source": [
    "// 📦 NuGet Package Reference: Microsoft Extensions AI\n",
    "// This provides the core AI abstraction layer for .NET applications\n",
    "// Essential for building AI agents with standardized interfaces\n",
    "#r \"nuget: Microsoft.Extensions.AI, 9.9.1\""
   ]
  },
  {
   "cell_type": "code",
   "execution_count": null,
   "id": "984ff6cd",
   "metadata": {
    "language_info": {
     "name": "polyglot-notebook"
    },
    "polyglot_notebook": {
     "kernelName": "csharp"
    }
   },
   "outputs": [
    {
     "data": {
      "text/html": [
       "<div><div></div><div></div><div><strong>Installed Packages</strong><ul><li><span>Microsoft.Agents.AI.OpenAI, 1.0.0-preview.251001.2</span></li></ul></div></div>"
      ]
     },
     "metadata": {},
     "output_type": "display_data"
    }
   ],
   "source": [
    "// 🔗 Local Reference: OpenAI Agent Extensions\n",
    "// This references the local build of the Microsoft Extensions AI Agents OpenAI library\n",
    "// Contains OpenAI-specific implementations for the agent framework\n",
    "// Required for integrating with OpenAI models and GitHub Models\n",
    "#r \"nuget: Microsoft.Agents.AI.OpenAI, 1.0.0-preview.251001.3\""
   ]
  },
  {
   "cell_type": "code",
   "execution_count": null,
   "id": "2b4090be",
   "metadata": {
    "language_info": {
     "name": "polyglot-notebook"
    },
    "polyglot_notebook": {
     "kernelName": "csharp"
    }
   },
   "outputs": [
    {
     "data": {
      "text/html": [
       "<div><div></div><div></div><div><strong>Installed Packages</strong><ul><li><span>microsoft.agents.ai, 1.0.0-preview.251001.2</span></li></ul></div></div>"
      ]
     },
     "metadata": {},
     "output_type": "display_data"
    }
   ],
   "source": [
    "\n",
    "#r \"nuget: Microsoft.Agents.AI, 1.0.0-preview.251001.3\""
   ]
  },
  {
   "cell_type": "code",
   "execution_count": 4,
   "id": "4ab7b15d",
   "metadata": {
    "language_info": {
     "name": "polyglot-notebook"
    },
    "polyglot_notebook": {
     "kernelName": "csharp"
    }
   },
   "outputs": [],
   "source": [
    "// 🔌 NuGet Package Reference: OpenAI Integration\n",
    "// Preview version of Microsoft Extensions AI OpenAI integration\n",
    "// Provides OpenAI client and service implementations\n",
    "// Enables communication with OpenAI API and GitHub Models\n",
    "// #r \"nuget: Microsoft.Extensions.AI.OpenAI, 9.9.1-preview.1.25474.6\""
   ]
  },
  {
   "cell_type": "code",
   "execution_count": 5,
   "id": "3fa8aa21",
   "metadata": {
    "language_info": {
     "name": "polyglot-notebook"
    },
    "polyglot_notebook": {
     "kernelName": "csharp"
    }
   },
   "outputs": [
    {
     "data": {
      "text/html": [
       "<div><div></div><div></div><div><strong>Installed Packages</strong><ul><li><span>DotNetEnv, 3.1.1</span></li></ul></div></div>"
      ]
     },
     "metadata": {},
     "output_type": "display_data"
    }
   ],
   "source": [
    "// 🔧 NuGet Package Reference: Environment Variables\n",
    "// DotNetEnv allows loading environment variables from .env files\n",
    "// Essential for managing API keys and configuration securely\n",
    "// Helps keep sensitive information out of source code\n",
    "#r \"nuget: DotNetEnv, 3.1.1\""
   ]
  },
  {
   "cell_type": "code",
   "execution_count": 6,
   "id": "fc8ee8ea",
   "metadata": {
    "language_info": {
     "name": "polyglot-notebook"
    },
    "polyglot_notebook": {
     "kernelName": "csharp"
    }
   },
   "outputs": [],
   "source": [
    "// 📚 Import Required Namespaces\n",
    "using System;                          // Core system functionality and base types\n",
    "using System.ComponentModel;           // For Description attributes on tool functions\n",
    "using System.ClientModel;             // Client model abstractions for API interactions\n",
    "\n",
    "using Microsoft.Extensions.AI;        // Core AI abstractions and interfaces\n",
    "using Microsoft.Agents.AI;           // Agent framework classes and interfaces\n",
    "using OpenAI;                         // OpenAI client library for API communication"
   ]
  },
  {
   "cell_type": "code",
   "execution_count": 7,
   "id": "699b1c83",
   "metadata": {
    "language_info": {
     "name": "polyglot-notebook"
    },
    "polyglot_notebook": {
     "kernelName": "csharp"
    }
   },
   "outputs": [],
   "source": [
    "// 🔧 Import Environment Variable Loading\n",
    "// DotNetEnv namespace for loading .env files\n",
    "// Enables secure configuration management from external files\n",
    "using DotNetEnv;"
   ]
  },
  {
   "cell_type": "code",
   "execution_count": 8,
   "id": "daa649a0",
   "metadata": {
    "language_info": {
     "name": "polyglot-notebook"
    },
    "polyglot_notebook": {
     "kernelName": "csharp"
    }
   },
   "outputs": [],
   "source": [
    "// 🔧 Load Environment Variables from .env File\n",
    "// This loads configuration from a .env file located 3 directories up\n",
    "// Required variables: GITHUB_ENDPOINT, GITHUB_TOKEN, GITHUB_MODEL_ID\n",
    "// Ensures secure handling of API credentials and configuration\n",
    "Env.Load(\"../../../.env\");"
   ]
  },
  {
   "cell_type": "code",
   "execution_count": 9,
   "id": "29661a90",
   "metadata": {
    "language_info": {
     "name": "polyglot-notebook"
    },
    "polyglot_notebook": {
     "kernelName": "csharp"
    }
   },
   "outputs": [],
   "source": [
    "// 🎲 Tool Function: Random Destination Generator\n",
    "// This static method will be available to the agent as a callable tool\n",
    "// The [Description] attribute helps the AI understand when to use this function\n",
    "// This demonstrates how to create custom tools for AI agents\n",
    "[Description(\"Provides a random vacation destination.\")]\n",
    "static string GetRandomDestination()\n",
    "{\n",
    "    // List of popular vacation destinations around the world\n",
    "    // The agent will randomly select from these options\n",
    "    var destinations = new List<string>\n",
    "    {\n",
    "        \"Paris, France\",         // European cultural capital\n",
    "        \"Tokyo, Japan\",          // Asian modern metropolis\n",
    "        \"New York City, USA\",    // American urban experience\n",
    "        \"Sydney, Australia\",     // Oceanic coastal beauty\n",
    "        \"Rome, Italy\",           // Historical European city\n",
    "        \"Barcelona, Spain\",      // Mediterranean cultural hub\n",
    "        \"Cape Town, South Africa\", // African scenic destination\n",
    "        \"Rio de Janeiro, Brazil\",  // South American beach city\n",
    "        \"Bangkok, Thailand\",        // Southeast Asian cultural center\n",
    "        \"Vancouver, Canada\"         // North American natural beauty\n",
    "    };\n",
    "\n",
    "    // Generate random index and return selected destination\n",
    "    // Uses System.Random for simple random selection\n",
    "    var random = new Random();\n",
    "    int index = random.Next(destinations.Count);\n",
    "    return destinations[index];\n",
    "}"
   ]
  },
  {
   "cell_type": "code",
   "execution_count": 10,
   "id": "d2ed1f8b",
   "metadata": {
    "language_info": {
     "name": "polyglot-notebook"
    },
    "polyglot_notebook": {
     "kernelName": "csharp"
    }
   },
   "outputs": [],
   "source": [
    "// 🔑 Extract Configuration from Environment Variables\n",
    "// Retrieve GitHub Models API endpoint, throws exception if not set\n",
    "var github_endpoint = Environment.GetEnvironmentVariable(\"GITHUB_ENDPOINT\") ?? throw new InvalidOperationException(\"GITHUB_ENDPOINT is not set.\");\n",
    "// Get the model ID, defaults to gpt-4o-mini if not specified\n",
    "var github_model_id = Environment.GetEnvironmentVariable(\"GITHUB_MODEL_ID\") ?? \"gpt-4o-mini\";\n",
    "// Retrieve GitHub token for authentication, throws exception if not set\n",
    "var github_token = Environment.GetEnvironmentVariable(\"GITHUB_TOKEN\") ?? throw new InvalidOperationException(\"GITHUB_TOKEN is not set.\");"
   ]
  },
  {
   "cell_type": "code",
   "execution_count": 11,
   "id": "c36c73e1",
   "metadata": {
    "language_info": {
     "name": "polyglot-notebook"
    },
    "polyglot_notebook": {
     "kernelName": "csharp"
    }
   },
   "outputs": [],
   "source": [
    "// ⚙️ Configure OpenAI Client Options\n",
    "// Create configuration options to point to GitHub Models endpoint\n",
    "// This redirects OpenAI client calls to GitHub's model inference service\n",
    "var openAIOptions = new OpenAIClientOptions()\n",
    "{\n",
    "    Endpoint= new Uri(github_endpoint)  // Set custom endpoint for GitHub Models\n",
    "};"
   ]
  },
  {
   "cell_type": "code",
   "execution_count": 12,
   "id": "6d94ff10",
   "metadata": {
    "language_info": {
     "name": "polyglot-notebook"
    },
    "polyglot_notebook": {
     "kernelName": "csharp"
    }
   },
   "outputs": [],
   "source": [
    "// 🔌 Initialize OpenAI Client with GitHub Models Configuration\n",
    "// Create OpenAI client using GitHub token for authentication\n",
    "// Configure it to use GitHub Models endpoint instead of OpenAI directly\n",
    "var openAIClient = new OpenAIClient(new ApiKeyCredential(github_token), openAIOptions);"
   ]
  },
  {
   "cell_type": "code",
   "execution_count": 13,
   "id": "fe32b57a",
   "metadata": {
    "language_info": {
     "name": "polyglot-notebook"
    },
    "polyglot_notebook": {
     "kernelName": "csharp"
    }
   },
   "outputs": [],
   "source": [
    "// 🤖 Create AI Agent with Travel Planning Capabilities\n",
    "// Initialize OpenAI client, get chat client for specified model, and create AI agent\n",
    "// Configure agent with travel planning instructions and random destination tool\n",
    "// The agent can now plan trips using the GetRandomDestination function\n",
    "AIAgent agent = new OpenAIClient(new ApiKeyCredential(github_token), openAIOptions)\n",
    "    .GetChatClient(github_model_id)  // Get chat client for the specified model\n",
    "    .CreateAIAgent(\n",
    "        instructions:\"You are a helpful AI Agent that can help plan vacations for customers at random destinations\", \n",
    "        tools: [AIFunctionFactory.Create((Func<string>)GetRandomDestination)]  // Register the tool function\n",
    "    );"
   ]
  },
  {
   "cell_type": "code",
   "execution_count": 14,
   "id": "5e455aff",
   "metadata": {
    "language_info": {
     "name": "polyglot-notebook"
    },
    "polyglot_notebook": {
     "kernelName": "csharp"
    }
   },
   "outputs": [
    {
     "name": "stdout",
     "output_type": "stream",
     "text": [
      "For your day trip to Tokyo, Japan, here's a suggested itinerary:\n",
      "\n",
      "### Morning\n",
      "- **Breakfast**: Start your day with a traditional Japanese breakfast. You can try grilled fish, rice, and miso soup at a local restaurant or enjoy a quick meal at a convenience store.\n",
      "- **Visit Senso-ji Temple**: Head to Asakusa and visit Tokyo's oldest temple, Senso-ji. Explore the Nakamise shopping street leading up to the temple for snacks and souvenirs.\n",
      "\n",
      "### Mid-Morning\n",
      "- **Explore Ueno Park**: After Senso-ji, take a short train ride to Ueno Park. Stroll through the park, visit the Ueno Zoo, or check out one of the many museums like the Tokyo National Museum.\n",
      "\n",
      "### Lunch\n",
      "- **Try Sushi**: For lunch, indulge in fresh sushi at a conveyor belt sushi restaurant or a well-reviewed local sushi place in the area.\n",
      "\n",
      "### Afternoon\n",
      "- **Visit Akihabara**: Spend your afternoon exploring Akihabara, a district famous for electronics and otaku culture. Visit some anime and manga stores, or check out a themed cafe.\n",
      "- **Explore Shibuya Crossing**: Head to Shibuya and experience the famous Shibuya Crossing. Enjoy the hustle and bustle of this iconic spot.\n",
      "\n",
      "### Evening\n",
      "- **Dinner in Shinjuku**: Have dinner at one of the izakayas (Japanese pubs) in Shinjuku, where you can try various Japanese dishes and drinks.\n",
      "- **Tokyo Metropolitan Government Building**: End your day with a visit to the Tokyo Metropolitan Government Building. You can go up to the observation deck for a stunning view of the Tokyo skyline, especially during sunset.\n",
      "\n",
      "### Tips\n",
      "- Purchase a Day Pass for the metro to make traveling around the city easier.\n",
      "- Stay hydrated and try to sample different street foods as you explore!\n",
      "\n",
      "Enjoy your day trip to Tokyo!\r\n"
     ]
    }
   ],
   "source": [
    "// 🚀 Execute Agent: Plan a Day Trip (Non-Streaming)\n",
    "// Run the agent with a travel planning request\n",
    "// The agent will use the GetRandomDestination tool and create a complete itinerary\n",
    "// Returns the full response once processing is complete\n",
    "Console.WriteLine(await agent.RunAsync(\"Plan me a day trip\"));"
   ]
  },
  {
   "cell_type": "code",
   "execution_count": 15,
   "id": "592ae1bb",
   "metadata": {
    "language_info": {
     "name": "polyglot-notebook"
    },
    "polyglot_notebook": {
     "kernelName": "csharp"
    }
   },
   "outputs": [
    {
     "name": "stdout",
     "output_type": "stream",
     "text": [
      "How about a day trip to Vancouver, Canada? Here’s a suggested itinerary for your day:\n",
      "\n",
      "### Morning:\n",
      "- **Breakfast at a Local Café**: Start your day at a cozy café in Gastown. Try the famous Canadian pancakes or a classic bagel with smoked salmon.\n",
      "- **Stanley Park**: After breakfast, head to Stanley Park. Enjoy a walk or rent a bike to explore the scenic seawall, lush gardens, and totem poles.\n",
      "\n",
      "### Afternoon:\n",
      "- **Granville Island**: Visit Granville Island for lunch. Explore the public market, artisan shops, and try some delicious local food from the various food stalls.\n",
      "- **Aquabus Ride**: Take an Aquabus ride across False Creek to enjoy stunning views of the city and the North Shore mountains.\n",
      "\n",
      "### Evening:\n",
      "- **Capilano Suspension Bridge**: After lunch, visit the Capilano Suspension Bridge Park. Walk across the bridge and enjoy the beautiful forest scenery.\n",
      "- **Dinner at a Waterfront Restaurant**: Finish the day with dinner at a waterfront restaurant, where you can enjoy fresh seafood and beautiful sunset views.\n",
      "\n",
      "### Optional Activities:\n",
      "- Visit the Vancouver Aquarium or take a stroll through the vibrant neighborhoods of Yaletown or Kitsilano.\n",
      "\n",
      "This itinerary offers a mix of outdoor activities, local culture, and great food. Enjoy your trip!"
     ]
    }
   ],
   "source": [
    "// 🌊 Execute Agent: Plan a Day Trip (Streaming Response)\n",
    "// Run the agent with streaming enabled for real-time response display\n",
    "// Shows the agent's thinking and response as it generates the content\n",
    "// Provides better user experience with immediate feedback\n",
    "await foreach (var update in agent.RunStreamingAsync(\"Plan me a day trip\"))\n",
    "{\n",
    "    Console.Write(update);  // Display each part of the response as it arrives\n",
    "}"
   ]
  },
  {
   "cell_type": "markdown",
   "metadata": {},
   "source": [
    "\n---\n\n**免責聲明**：  \n本文件已使用 AI 翻譯服務 [Co-op Translator](https://github.com/Azure/co-op-translator) 進行翻譯。儘管我們致力於提供準確的翻譯，請注意自動翻譯可能包含錯誤或不準確之處。原始文件的母語版本應被視為權威來源。對於重要資訊，建議使用專業人工翻譯。我們對因使用此翻譯而引起的任何誤解或錯誤解釋概不負責。\n"
   ]
  }
 ],
 "metadata": {
  "kernelspec": {
   "display_name": ".NET (C#)",
   "language": "C#",
   "name": ".net-csharp"
  },
  "language_info": {
   "name": "polyglot-notebook"
  },
  "polyglot_notebook": {
   "kernelInfo": {
    "defaultKernelName": "csharp",
    "items": [
     {
      "aliases": [],
      "name": "csharp"
     }
    ]
   }
  },
  "coopTranslator": {
   "original_hash": "6db30f4b25a7a6a59115eb952565693c",
   "translation_date": "2025-10-01T21:03:14+00:00",
   "source_file": "01-intro-to-ai-agents/code_samples/01-dotnet-agent-framework.ipynb",
   "language_code": "hk"
  }
 },
 "nbformat": 4,
 "nbformat_minor": 5
}