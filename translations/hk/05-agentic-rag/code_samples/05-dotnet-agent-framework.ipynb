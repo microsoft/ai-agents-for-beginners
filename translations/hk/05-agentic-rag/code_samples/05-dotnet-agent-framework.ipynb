{
 "cells": [
  {
   "cell_type": "markdown",
   "id": "44b5899e",
   "metadata": {},
   "source": [
    "# 🔍 使用 Azure AI Foundry (.NET) 建立企業級 RAG 系統\n",
    "\n",
    "## 📋 學習目標\n",
    "\n",
    "此筆記本展示如何使用 Microsoft Agent Framework 和 Azure AI Foundry 在 .NET 中建立企業級的檢索增強生成 (RAG) 系統。您將學習如何建立可投入生產的代理，能夠搜索文件並提供準確且具上下文的回應，同時具備企業級的安全性和可擴展性。\n",
    "\n",
    "**您將建立的企業級 RAG 功能：**\n",
    "- 📚 **文件智能**：利用 Azure AI 服務進行高級文件處理\n",
    "- 🔍 **語義搜索**：具備企業功能的高效向量搜索\n",
    "- 🛡️ **安全整合**：基於角色的訪問控制和數據保護模式\n",
    "- 🏢 **可擴展架構**：具備監控功能的生產級 RAG 系統\n",
    "\n",
    "## 🎯 企業級 RAG 架構\n",
    "\n",
    "### 核心企業組件\n",
    "- **Azure AI Foundry**：具備安全性和合規性的托管企業 AI 平台\n",
    "- **持久代理**：具有對話歷史和上下文管理的有狀態代理\n",
    "- **向量存儲管理**：企業級文件索引和檢索\n",
    "- **身份整合**：Azure AD 身份驗證和基於角色的訪問控制\n",
    "\n",
    "### .NET 企業優勢\n",
    "- **類型安全**：針對 RAG 操作和數據結構的編譯時驗證\n",
    "- **異步性能**：非阻塞的文件處理和搜索操作\n",
    "- **內存管理**：高效利用資源處理大型文件集合\n",
    "- **整合模式**：與 Azure 服務的原生整合及依賴注入\n",
    "\n",
    "## 🏗️ 技術架構\n",
    "\n",
    "### 企業級 RAG 管道\n",
    "```csharp\n",
    "Document Upload → Security Validation → Vector Processing → Index Creation\n",
    "                      ↓                    ↓                  ↓\n",
    "User Query → Authentication → Semantic Search → Context Ranking → AI Response\n",
    "```\n",
    "\n",
    "### 核心 .NET 組件\n",
    "- **Azure.AI.Agents.Persistent**：具有狀態持久性的企業代理管理\n",
    "- **Azure.Identity**：安全訪問 Azure 服務的集成身份驗證\n",
    "- **Microsoft.Agents.AI.AzureAI**：針對 Azure 優化的代理框架實現\n",
    "- **System.Linq.Async**：高效的異步 LINQ 操作\n",
    "\n",
    "## 🔧 企業功能與優勢\n",
    "\n",
    "### 安全性與合規性\n",
    "- **Azure AD 整合**：企業身份管理和身份驗證\n",
    "- **基於角色的訪問**：針對文件訪問和操作的細粒度權限\n",
    "- **數據保護**：針對敏感文件的靜態和傳輸加密\n",
    "- **審計日誌**：滿足合規要求的全面活動追蹤\n",
    "\n",
    "### 性能與可擴展性\n",
    "- **連接池**：高效的 Azure 服務連接管理\n",
    "- **異步處理**：適用於高吞吐量場景的非阻塞操作\n",
    "- **緩存策略**：針對頻繁訪問的文件進行智能緩存\n",
    "- **負載均衡**：適用於大規模部署的分佈式處理\n",
    "\n",
    "### 管理與監控\n",
    "- **健康檢查**：內建的 RAG 系統組件監控\n",
    "- **性能指標**：搜索質量和回應時間的詳細分析\n",
    "- **錯誤處理**：全面的異常管理和重試策略\n",
    "- **配置管理**：具有驗證功能的環境特定設置\n",
    "\n",
    "## ⚙️ 先決條件與設置\n",
    "\n",
    "**開發環境：**\n",
    "- .NET 9.0 SDK 或更高版本\n",
    "- Visual Studio 2022 或安裝 C# 擴展的 VS Code\n",
    "- 擁有 Azure AI Foundry 訪問權限的 Azure 訂閱\n",
    "\n",
    "**所需的 NuGet 套件：**\n",
    "```xml\n",
    "<PackageReference Include=\"Microsoft.Extensions.AI\" Version=\"9.9.0\" />\n",
    "<PackageReference Include=\"Azure.AI.Agents.Persistent\" Version=\"1.2.0-beta.5\" />\n",
    "<PackageReference Include=\"Azure.Identity\" Version=\"1.15.0\" />\n",
    "<PackageReference Include=\"System.Linq.Async\" Version=\"6.0.3\" />\n",
    "<PackageReference Include=\"DotNetEnv\" Version=\"3.1.1\" />\n",
    "```\n",
    "\n",
    "**Azure 身份驗證設置：**\n",
    "```bash\n",
    "# Install Azure CLI and authenticate\n",
    "az login\n",
    "az account set --subscription \"your-subscription-id\"\n",
    "```\n",
    "\n",
    "**環境配置 (.env 文件)：**\n",
    "```env\n",
    "# Azure AI Foundry configuration (automatically handled via Azure CLI)\n",
    "# Ensure you're authenticated to the correct Azure subscription\n",
    "```\n",
    "\n",
    "## 📊 企業級 RAG 模式\n",
    "\n",
    "### 文件管理模式\n",
    "- **批量上傳**：高效處理大型文件集合\n",
    "- **增量更新**：實時文件添加和修改\n",
    "- **版本控制**：文件版本管理和變更追蹤\n",
    "- **元數據管理**：豐富的文件屬性和分類法\n",
    "\n",
    "### 搜索與檢索模式\n",
    "- **混合搜索**：結合語義和關鍵字搜索以獲得最佳結果\n",
    "- **分面搜索**：多維度篩選和分類\n",
    "- **相關性調整**：針對特定領域需求的自定義評分算法\n",
    "- **結果排序**：結合業務邏輯的高級排序\n",
    "\n",
    "### 安全模式\n",
    "- **文件級安全性**：針對每個文件的細粒度訪問控制\n",
    "- **數據分類**：自動敏感性標籤和保護\n",
    "- **審計追蹤**：所有 RAG 操作的全面日誌記錄\n",
    "- **隱私保護**：PII 檢測和遮蔽功能\n",
    "\n",
    "## 🔒 企業安全功能\n",
    "\n",
    "### 身份驗證與授權\n",
    "```csharp\n",
    "// Azure AD integrated authentication\n",
    "var credential = new AzureCliCredential();\n",
    "var agentsClient = new PersistentAgentsClient(endpoint, credential);\n",
    "\n",
    "// Role-based access validation\n",
    "if (!await ValidateUserPermissions(user, documentId))\n",
    "{\n",
    "    throw new UnauthorizedAccessException(\"Insufficient permissions\");\n",
    "}\n",
    "```\n",
    "\n",
    "### 數據保護\n",
    "- **加密**：針對文件和搜索索引的端到端加密\n",
    "- **訪問控制**：與 Azure AD 整合的用戶和群組權限\n",
    "- **數據駐留**：針對合規的地理數據位置控制\n",
    "- **備份與恢復**：自動化備份和災難恢復功能\n",
    "\n",
    "## 📈 性能優化\n",
    "\n",
    "### 異步處理模式\n",
    "```csharp\n",
    "// Efficient async document processing\n",
    "await foreach (var document in documentStream.AsAsyncEnumerable())\n",
    "{\n",
    "    await ProcessDocumentAsync(document, cancellationToken);\n",
    "}\n",
    "```\n",
    "\n",
    "### 內存管理\n",
    "- **流式處理**：處理大型文件而不會出現內存問題\n",
    "- **資源池化**：高效重用昂貴資源\n",
    "- **垃圾回收**：優化的內存分配模式\n",
    "- **連接管理**：正確的 Azure 服務連接生命周期\n",
    "\n",
    "### 緩存策略\n",
    "- **查詢緩存**：緩存頻繁執行的搜索\n",
    "- **文件緩存**：針對熱門文件的內存緩存\n",
    "- **索引緩存**：優化的向量索引緩存\n",
    "- **結果緩存**：智能緩存生成的回應\n",
    "\n",
    "## 📊 企業應用場景\n",
    "\n",
    "### 知識管理\n",
    "- **企業維基**：智能搜索公司知識庫\n",
    "- **政策與程序**：自動化合規和程序指導\n",
    "- **培訓材料**：智能學習與發展輔助\n",
    "- **研究數據庫**：學術和研究論文分析系統\n",
    "\n",
    "### 客戶支持\n",
    "- **支持知識庫**：自動化客戶服務回應\n",
    "- **產品文檔**：智能產品信息檢索\n",
    "- **故障排除指南**：上下文問題解決輔助\n",
    "- **常見問題系統**：從文件集合動態生成常見問題\n",
    "\n",
    "### 法規合規\n",
    "- **法律文件分析**：合同和法律文件智能\n",
    "- **合規監控**：自動化法規合規檢查\n",
    "- **風險評估**：基於文件的風險分析和報告\n",
    "- **審計支持**：智能文件發現以支持審計\n",
    "\n",
    "## 🚀 生產部署\n",
    "\n",
    "### 監控與可觀察性\n",
    "- **Application Insights**：詳細的遙測和性能監控\n",
    "- **自定義指標**：業務特定的 KPI 跟蹤和警報\n",
    "- **分佈式追蹤**：跨服務的端到端請求追蹤\n",
    "- **健康儀表板**：實時系統健康和性能可視化\n",
    "\n",
    "### 可擴展性與可靠性\n",
    "- **自動擴展**：基於負載和性能指標的自動擴展\n",
    "- **高可用性**：具備故障切換功能的多區域部署\n",
    "- **負載測試**：在企業負載條件下進行性能驗證\n",
    "- **災難恢復**：自動化備份和恢復程序\n",
    "\n",
    "準備好建立能夠處理敏感文件的企業級 RAG 系統了嗎？讓我們一起為企業架構智能知識系統吧！ 🏢📖✨\n"
   ]
  },
  {
   "cell_type": "code",
   "execution_count": 1,
   "metadata": {
    "language_info": {
     "name": "polyglot-notebook"
    },
    "polyglot_notebook": {
     "kernelName": "csharp"
    }
   },
   "outputs": [
    {
     "data": {
      "text/html": [
       "<div><div></div><div></div><div><strong>Installed Packages</strong><ul><li><span>Microsoft.Extensions.AI, 9.9.1</span></li></ul></div></div>"
      ]
     },
     "metadata": {},
     "output_type": "display_data"
    }
   ],
   "source": [
    "#r \"nuget: Microsoft.Extensions.AI, 9.9.1\""
   ]
  },
  {
   "cell_type": "code",
   "execution_count": 2,
   "id": "4ec1f0d1",
   "metadata": {
    "language_info": {
     "name": "polyglot-notebook"
    },
    "polyglot_notebook": {
     "kernelName": "csharp"
    }
   },
   "outputs": [
    {
     "data": {
      "text/html": [
       "<div><div></div><div></div><div><strong>Installed Packages</strong><ul><li><span>Azure.AI.Agents.Persistent, 1.2.0-beta.5</span></li><li><span>Azure.Identity, 1.15.0</span></li><li><span>System.Linq.Async, 6.0.3</span></li></ul></div></div>"
      ]
     },
     "metadata": {},
     "output_type": "display_data"
    }
   ],
   "source": [
    "#r \"nuget: Azure.AI.Agents.Persistent, 1.2.0-beta.5\"\n",
    "#r \"nuget: Azure.Identity, 1.15.0\"\n",
    "#r \"nuget: System.Linq.Async, 6.0.3\""
   ]
  },
  {
   "cell_type": "code",
   "execution_count": 3,
   "id": "2363ae07",
   "metadata": {
    "language_info": {
     "name": "polyglot-notebook"
    },
    "polyglot_notebook": {
     "kernelName": "csharp"
    }
   },
   "outputs": [],
   "source": []
  },
  {
   "cell_type": "code",
   "execution_count": null,
   "id": "d10cec9d",
   "metadata": {
    "language_info": {
     "name": "polyglot-notebook"
    },
    "polyglot_notebook": {
     "kernelName": "csharp"
    }
   },
   "outputs": [
    {
     "data": {
      "text/html": [
       "<div><div></div><div></div><div><strong>Installed Packages</strong><ul><li><span>Microsoft.Agents.AI.AzureAI, 1.0.0-preview.251001.2</span></li></ul></div></div>"
      ]
     },
     "metadata": {},
     "output_type": "display_data"
    }
   ],
   "source": [
    "#r \"nuget: Microsoft.Agents.AI.AzureAI, 1.0.0-preview.251001.3\""
   ]
  },
  {
   "cell_type": "code",
   "execution_count": null,
   "id": "78199d1c",
   "metadata": {
    "language_info": {
     "name": "polyglot-notebook"
    },
    "polyglot_notebook": {
     "kernelName": "csharp"
    }
   },
   "outputs": [
    {
     "data": {
      "text/html": [
       "<div><div></div><div></div><div><strong>Installed Packages</strong><ul><li><span>microsoft.agents.ai, 1.0.0-preview.251001.2</span></li></ul></div></div>"
      ]
     },
     "metadata": {},
     "output_type": "display_data"
    }
   ],
   "source": [
    "#r \"nuget: Microsoft.Agents.AI, 1.0.0-preview.251001.3\""
   ]
  },
  {
   "cell_type": "code",
   "execution_count": 6,
   "id": "7de4684a",
   "metadata": {
    "language_info": {
     "name": "polyglot-notebook"
    },
    "polyglot_notebook": {
     "kernelName": "csharp"
    }
   },
   "outputs": [
    {
     "data": {
      "text/html": [
       "<div><div></div><div></div><div><strong>Installed Packages</strong><ul><li><span>DotNetEnv, 3.1.1</span></li></ul></div></div>"
      ]
     },
     "metadata": {},
     "output_type": "display_data"
    }
   ],
   "source": [
    "#r \"nuget: DotNetEnv, 3.1.1\""
   ]
  },
  {
   "cell_type": "code",
   "execution_count": 7,
   "id": "251efd31",
   "metadata": {
    "language_info": {
     "name": "polyglot-notebook"
    },
    "polyglot_notebook": {
     "kernelName": "csharp"
    }
   },
   "outputs": [],
   "source": [
    "using System;\n",
    "using System.Linq;\n",
    "using Azure.AI.Agents.Persistent;\n",
    "using Azure.Identity;\n",
    "using Microsoft.Agents.AI;"
   ]
  },
  {
   "cell_type": "code",
   "execution_count": 8,
   "id": "a2e342f1",
   "metadata": {
    "language_info": {
     "name": "polyglot-notebook"
    },
    "polyglot_notebook": {
     "kernelName": "csharp"
    }
   },
   "outputs": [],
   "source": [
    " using DotNetEnv;"
   ]
  },
  {
   "cell_type": "code",
   "execution_count": 9,
   "id": "a7a01653",
   "metadata": {
    "language_info": {
     "name": "polyglot-notebook"
    },
    "polyglot_notebook": {
     "kernelName": "csharp"
    }
   },
   "outputs": [],
   "source": [
    "Env.Load(\"../../../.env\");"
   ]
  },
  {
   "cell_type": "code",
   "execution_count": 10,
   "id": "a42735d5",
   "metadata": {
    "language_info": {
     "name": "polyglot-notebook"
    },
    "polyglot_notebook": {
     "kernelName": "csharp"
    }
   },
   "outputs": [],
   "source": [
    "var azure_foundry_endpoint = Environment.GetEnvironmentVariable(\"AZURE_AI_PROJECT_ENDPOINT\") ?? throw new InvalidOperationException(\"AZURE_AI_PROJECT_ENDPOINT is not set.\");\n",
    "var azure_foundry_model_id = Environment.GetEnvironmentVariable(\"AZURE_AI_MODEL_DEPLOYMENT_NAME\") ?? \"gpt-4.1-mini\";"
   ]
  },
  {
   "cell_type": "code",
   "execution_count": 11,
   "id": "e29bdb58",
   "metadata": {
    "language_info": {
     "name": "polyglot-notebook"
    },
    "polyglot_notebook": {
     "kernelName": "csharp"
    }
   },
   "outputs": [],
   "source": [
    "string pdfPath = \"./document.md\";"
   ]
  },
  {
   "cell_type": "code",
   "execution_count": 12,
   "id": "7351e12d",
   "metadata": {
    "language_info": {
     "name": "polyglot-notebook"
    },
    "polyglot_notebook": {
     "kernelName": "csharp"
    }
   },
   "outputs": [],
   "source": [
    "using System.IO;\n",
    "\n",
    "async Task<Stream> OpenImageStreamAsync(string path)\n",
    "{\n",
    "\treturn await Task.Run(() => File.OpenRead(path));\n",
    "}\n",
    "\n",
    "var pdfStream = await OpenImageStreamAsync(pdfPath);"
   ]
  },
  {
   "cell_type": "code",
   "execution_count": 13,
   "id": "0b6bf484",
   "metadata": {
    "language_info": {
     "name": "polyglot-notebook"
    },
    "polyglot_notebook": {
     "kernelName": "csharp"
    }
   },
   "outputs": [],
   "source": [
    "var persistentAgentsClient = new PersistentAgentsClient(azure_foundry_endpoint, new AzureCliCredential());"
   ]
  },
  {
   "cell_type": "code",
   "execution_count": 14,
   "id": "81e0dddc",
   "metadata": {
    "language_info": {
     "name": "polyglot-notebook"
    },
    "polyglot_notebook": {
     "kernelName": "csharp"
    }
   },
   "outputs": [],
   "source": [
    "PersistentAgentFileInfo fileInfo = await persistentAgentsClient.Files.UploadFileAsync(pdfStream, PersistentAgentFilePurpose.Agents, \"demo.md\");"
   ]
  },
  {
   "cell_type": "code",
   "execution_count": 15,
   "id": "f0c75d80",
   "metadata": {
    "language_info": {
     "name": "polyglot-notebook"
    },
    "polyglot_notebook": {
     "kernelName": "csharp"
    }
   },
   "outputs": [],
   "source": [
    "PersistentAgentsVectorStore fileStore =\n",
    "            await persistentAgentsClient.VectorStores.CreateVectorStoreAsync(\n",
    "                [fileInfo.Id],\n",
    "                metadata: new Dictionary<string, string>() { { \"agentkey\", bool.TrueString } });"
   ]
  },
  {
   "cell_type": "code",
   "execution_count": 16,
   "id": "c77986c5",
   "metadata": {
    "language_info": {
     "name": "polyglot-notebook"
    },
    "polyglot_notebook": {
     "kernelName": "csharp"
    }
   },
   "outputs": [],
   "source": [
    "PersistentAgent agentModel = await persistentAgentsClient.Administration.CreateAgentAsync(\n",
    "            azure_foundry_model_id,\n",
    "            name: \"DotNetRAGAgent\",\n",
    "            tools: [new FileSearchToolDefinition()],\n",
    "            instructions: \"\"\"\n",
    "                You are an AI assistant designed to answer user questions using only the information retrieved from the provided document(s).\n",
    "\n",
    "                - If a user's question cannot be answered using the retrieved context, **you must clearly respond**: \n",
    "                \"I'm sorry, but the uploaded document does not contain the necessary information to answer that question.\"\n",
    "                - Do not answer from general knowledge or reasoning. Do not make assumptions or generate hypothetical explanations.\n",
    "                - Do not provide definitions, tutorials, or commentary that is not explicitly grounded in the content of the uploaded file(s).\n",
    "                - If a user asks a question like \"What is a Neural Network?\", and this is not discussed in the uploaded document, respond as instructed above.\n",
    "                - For questions that do have relevant content in the document (e.g., Contoso's travel insurance coverage), respond accurately, and cite the document explicitly.\n",
    "\n",
    "                You must behave as if you have no external knowledge beyond what is retrieved from the uploaded document.\n",
    "                \"\"\",\n",
    "            toolResources: new()\n",
    "            {\n",
    "                FileSearch = new()\n",
    "                {\n",
    "                    VectorStoreIds = { fileStore.Id },\n",
    "                }\n",
    "            },\n",
    "            metadata: new Dictionary<string, string>() { { \"agentkey\", bool.TrueString } });"
   ]
  },
  {
   "cell_type": "code",
   "execution_count": 17,
   "id": "282326cf",
   "metadata": {
    "language_info": {
     "name": "polyglot-notebook"
    },
    "polyglot_notebook": {
     "kernelName": "csharp"
    }
   },
   "outputs": [],
   "source": [
    "AIAgent agent = await persistentAgentsClient.GetAIAgentAsync(agentModel.Id);"
   ]
  },
  {
   "cell_type": "code",
   "execution_count": 18,
   "id": "2067d313",
   "metadata": {
    "language_info": {
     "name": "polyglot-notebook"
    },
    "polyglot_notebook": {
     "kernelName": "csharp"
    }
   },
   "outputs": [],
   "source": [
    "AgentThread thread = agent.GetNewThread();"
   ]
  },
  {
   "cell_type": "code",
   "execution_count": 19,
   "id": "454c4230",
   "metadata": {
    "language_info": {
     "name": "polyglot-notebook"
    },
    "polyglot_notebook": {
     "kernelName": "csharp"
    }
   },
   "outputs": [
    {
     "name": "stdout",
     "output_type": "stream",
     "text": [
      "Contoso's travel insurance coverage includes protection for medical emergencies, trip cancellations, and lost baggage. This ensures that travelers are supported in case of health-related issues during their trip, unforeseen cancellations, and the loss of their belongings while traveling【4:0†demo.md】.\r\n"
     ]
    }
   ],
   "source": [
    "Console.WriteLine(await agent.RunAsync(\"Can you explain Contoso's travel insurance coverage?\", thread));"
   ]
  },
  {
   "cell_type": "markdown",
   "metadata": {},
   "source": [
    "\n---\n\n**免責聲明**：  \n本文件已使用人工智能翻譯服務 [Co-op Translator](https://github.com/Azure/co-op-translator) 進行翻譯。儘管我們致力於提供準確的翻譯，請注意自動翻譯可能包含錯誤或不準確之處。原始文件的母語版本應被視為權威來源。對於重要信息，建議使用專業人工翻譯。我們對因使用此翻譯而引起的任何誤解或錯誤解釋概不負責。\n"
   ]
  }
 ],
 "metadata": {
  "kernelspec": {
   "display_name": ".NET (C#)",
   "language": "C#",
   "name": ".net-csharp"
  },
  "language_info": {
   "name": "polyglot-notebook"
  },
  "polyglot_notebook": {
   "kernelInfo": {
    "defaultKernelName": "csharp",
    "items": [
     {
      "aliases": [],
      "name": "csharp"
     }
    ]
   }
  },
  "coopTranslator": {
   "original_hash": "e4584fa31638009dc6fb665275de8fc2",
   "translation_date": "2025-10-01T20:43:46+00:00",
   "source_file": "05-agentic-rag/code_samples/05-dotnet-agent-framework.ipynb",
   "language_code": "hk"
  }
 },
 "nbformat": 4,
 "nbformat_minor": 5
}