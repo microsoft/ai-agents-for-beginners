{
 "cells": [
  {
   "cell_type": "markdown",
   "id": "d6058fa4",
   "metadata": {},
   "source": [
    "# 🎨 Agentische Ontwerppatronen met GitHub-modellen (.NET)\n",
    "\n",
    "## 📋 Leerdoelen\n",
    "\n",
    "Deze notebook demonstreert ontwerpprincipes van ondernemingsniveau voor het bouwen van intelligente agents met behulp van het Microsoft Agent Framework in .NET, geïntegreerd met GitHub-modellen. Je leert professionele patronen en architecturale benaderingen die agents productie-klaar, onderhoudbaar en schaalbaar maken.\n",
    "\n",
    "**Ontwerppatronen voor ondernemingen:**\n",
    "- 🏭 **Factory Pattern**: Gestandaardiseerde agentcreatie met dependency injection\n",
    "- 🔧 **Builder Pattern**: Vloeiende configuratie en setup van agents\n",
    "- 🧵 **Thread-Safe Patterns**: Beheer van gelijktijdige gesprekken\n",
    "- 📋 **Repository Pattern**: Georganiseerd beheer van tools en mogelijkheden\n",
    "\n",
    "## 🎯 .NET-specifieke architecturale voordelen\n",
    "\n",
    "### Kenmerken voor ondernemingen\n",
    "- **Sterke Typing**: Validatie tijdens compilatie en ondersteuning voor IntelliSense\n",
    "- **Dependency Injection**: Ingebouwde DI-containerintegratie\n",
    "- **Configuratiebeheer**: IConfiguration en Options-patronen\n",
    "- **Async/Await**: Ondersteuning voor asynchrone programmering van topniveau\n",
    "\n",
    "### Productieklaar ontwerp\n",
    "- **Logging-integratie**: ILogger en gestructureerde loggingondersteuning\n",
    "- **Gezondheidscontroles**: Ingebouwde monitoring en diagnostiek\n",
    "- **Configuratievalidatie**: Sterke typing met data-annotaties\n",
    "- **Foutafhandeling**: Gestructureerd beheer van uitzonderingen\n",
    "\n",
    "## 🔧 Technische architectuur\n",
    "\n",
    "### Kerncomponenten van .NET\n",
    "- **Microsoft.Extensions.AI**: Geünificeerde AI-service-abstracties\n",
    "- **Microsoft.Agents.AI**: Framework voor agentorkestratie op ondernemingsniveau\n",
    "- **GitHub Models Integration**: API-clientpatronen met hoge prestaties\n",
    "- **Configuratiesysteem**: Integratie van appsettings.json en omgevingen\n",
    "\n",
    "### Implementatie van ontwerppatronen\n",
    "```csharp\n",
    "IServiceCollection → Agent Builder → Configuration → Tool Registry → AI Agent\n",
    "```\n",
    "\n",
    "## 🏗️ Gedemonstreerde ondernemingspatronen\n",
    "\n",
    "### 1. **Creational Patterns**\n",
    "- **Agent Factory**: Gecentraliseerde agentcreatie met consistente configuratie\n",
    "- **Builder Pattern**: Vloeiende API voor complexe agentconfiguratie\n",
    "- **Singleton Pattern**: Beheer van gedeelde bronnen en configuratie\n",
    "- **Dependency Injection**: Losse koppeling en testbaarheid\n",
    "\n",
    "### 2. **Behavioral Patterns**\n",
    "- **Strategy Pattern**: Verwisselbare uitvoeringsstrategieën voor tools\n",
    "- **Command Pattern**: Geïntegreerde agentoperaties met undo/redo\n",
    "- **Observer Pattern**: Gebeurtenisgestuurd beheer van de levenscyclus van agents\n",
    "- **Template Method**: Gestandaardiseerde workflows voor agentuitvoering\n",
    "\n",
    "### 3. **Structural Patterns**\n",
    "- **Adapter Pattern**: Integratielaag voor GitHub Models API\n",
    "- **Decorator Pattern**: Verbetering van agentmogelijkheden\n",
    "- **Facade Pattern**: Vereenvoudigde interfaces voor agentinteractie\n",
    "- **Proxy Pattern**: Lazy loading en caching voor betere prestaties\n",
    "\n",
    "## ⚙️ Vereisten & Setup\n",
    "\n",
    "**Ontwikkelomgeving:**\n",
    "- .NET 9.0 SDK of hoger\n",
    "- Visual Studio 2022 of VS Code met C#-extensie\n",
    "- Toegang tot GitHub Models API\n",
    "\n",
    "**NuGet-afhankelijkheden:**\n",
    "```xml\n",
    "<PackageReference Include=\"Microsoft.Extensions.AI\" Version=\"9.9.0\" />\n",
    "<PackageReference Include=\"Microsoft.Extensions.AI.OpenAI\" Version=\"9.9.0-preview.1.25458.4\" />\n",
    "<PackageReference Include=\"DotNetEnv\" Version=\"3.1.1\" />\n",
    "```\n",
    "\n",
    "**Configuratie (.env-bestand):**\n",
    "```env\n",
    "GITHUB_TOKEN=your_github_personal_access_token\n",
    "GITHUB_ENDPOINT=https://models.inference.ai.azure.com\n",
    "GITHUB_MODEL_ID=gpt-4o-mini\n",
    "```\n",
    "\n",
    "## 📚 .NET Ontwerpprincipes\n",
    "\n",
    "### SOLID-principes\n",
    "- **Single Responsibility**: Elk onderdeel heeft één duidelijke functie\n",
    "- **Open/Closed**: Uitbreidbaar zonder aanpassing\n",
    "- **Liskov Substitution**: Implementaties van tools op basis van interfaces\n",
    "- **Interface Segregation**: Gericht en samenhangend gebruik van interfaces\n",
    "- **Dependency Inversion**: Afhankelijkheid van abstracties, niet van concreties\n",
    "\n",
    "### Clean Architecture\n",
    "- **Domeinlaag**: Kernabstracties voor agents en tools\n",
    "- **Applicatielaag**: Orkestratie en workflows van agents\n",
    "- **Infrastructuurlaag**: Integratie van GitHub Models en externe services\n",
    "- **Presentatielaag**: Gebruikersinteractie en responsformattering\n",
    "\n",
    "## 🔒 Overwegingen voor ondernemingen\n",
    "\n",
    "### Veiligheid\n",
    "- **Beheer van referenties**: Veilige verwerking van API-sleutels met IConfiguration\n",
    "- **Validatie van invoer**: Sterke typing en validatie met data-annotaties\n",
    "- **Sanitatie van uitvoer**: Veilige verwerking en filtering van responsen\n",
    "- **Audit Logging**: Uitgebreide tracking van operaties\n",
    "\n",
    "### Prestaties\n",
    "- **Async-patronen**: Niet-blokkerende I/O-operaties\n",
    "- **Connection Pooling**: Efficiënt beheer van HTTP-clients\n",
    "- **Caching**: Responscaching voor betere prestaties\n",
    "- **Beheer van bronnen**: Correcte verwijdering en opruimingspatronen\n",
    "\n",
    "### Schaalbaarheid\n",
    "- **Thread Safety**: Ondersteuning voor gelijktijdige uitvoering van agents\n",
    "- **Resource Pooling**: Efficiënt gebruik van bronnen\n",
    "- **Load Management**: Rate limiting en backpressure handling\n",
    "- **Monitoring**: Prestatiestatistieken en gezondheidscontroles\n",
    "\n",
    "## 🚀 Productie-implementatie\n",
    "\n",
    "- **Configuratiebeheer**: Omgevingsspecifieke instellingen\n",
    "- **Loggingstrategie**: Gestructureerde logging met correlatie-ID's\n",
    "- **Foutafhandeling**: Globale foutafhandeling met correcte herstelmethoden\n",
    "- **Monitoring**: Application Insights en prestatietellers\n",
    "- **Testen**: Unit tests, integratietests en load testing patronen\n",
    "\n",
    "Klaar om intelligente agents van ondernemingsniveau te bouwen met .NET? Laten we iets robuusts ontwerpen! 🏢✨\n"
   ]
  },
  {
   "cell_type": "code",
   "execution_count": 1,
   "id": "2770ac5c",
   "metadata": {
    "language_info": {
     "name": "polyglot-notebook"
    },
    "polyglot_notebook": {
     "kernelName": "csharp"
    }
   },
   "outputs": [
    {
     "data": {
      "text/html": [
       "<div><div></div><div></div><div><strong>Installed Packages</strong><ul><li><span>Microsoft.Extensions.AI, 9.9.1</span></li></ul></div></div>"
      ]
     },
     "metadata": {},
     "output_type": "display_data"
    }
   ],
   "source": [
    "#r \"nuget: Microsoft.Extensions.AI, 9.9.1\""
   ]
  },
  {
   "cell_type": "code",
   "execution_count": null,
   "id": "984ff6cd",
   "metadata": {
    "language_info": {
     "name": "polyglot-notebook"
    },
    "polyglot_notebook": {
     "kernelName": "csharp"
    }
   },
   "outputs": [
    {
     "data": {
      "text/html": [
       "<div><div></div><div></div><div><strong>Installed Packages</strong><ul><li><span>Microsoft.Agents.AI.OpenAI, 1.0.0-preview.251001.2</span></li></ul></div></div>"
      ]
     },
     "metadata": {},
     "output_type": "display_data"
    }
   ],
   "source": [
    "#r \"nuget: Microsoft.Agents.AI.OpenAI, 1.0.0-preview.251001.3\""
   ]
  },
  {
   "cell_type": "code",
   "execution_count": null,
   "id": "0ab71360",
   "metadata": {
    "language_info": {
     "name": "polyglot-notebook"
    },
    "polyglot_notebook": {
     "kernelName": "csharp"
    }
   },
   "outputs": [
    {
     "data": {
      "text/html": [
       "<div><div></div><div></div><div><strong>Installed Packages</strong><ul><li><span>microsoft.agents.ai, 1.0.0-preview.251001.2</span></li></ul></div></div>"
      ]
     },
     "metadata": {},
     "output_type": "display_data"
    }
   ],
   "source": [
    "\n",
    "\n",
    "#r \"nuget: Microsoft.Agents.AI, 1.0.0-preview.251001.3\""
   ]
  },
  {
   "cell_type": "code",
   "execution_count": 4,
   "id": "4ab7b15d",
   "metadata": {
    "language_info": {
     "name": "polyglot-notebook"
    },
    "polyglot_notebook": {
     "kernelName": "csharp"
    }
   },
   "outputs": [],
   "source": [
    "// #r \"nuget: Microsoft.Extensions.AI.OpenAI, 9.9.0-preview.1.25458.4\""
   ]
  },
  {
   "cell_type": "code",
   "execution_count": 5,
   "id": "3fa8aa21",
   "metadata": {
    "language_info": {
     "name": "polyglot-notebook"
    },
    "polyglot_notebook": {
     "kernelName": "csharp"
    }
   },
   "outputs": [
    {
     "data": {
      "text/html": [
       "<div><div></div><div></div><div><strong>Installed Packages</strong><ul><li><span>DotNetEnv, 3.1.1</span></li></ul></div></div>"
      ]
     },
     "metadata": {},
     "output_type": "display_data"
    }
   ],
   "source": [
    "#r \"nuget: DotNetEnv, 3.1.1\""
   ]
  },
  {
   "cell_type": "code",
   "execution_count": 6,
   "id": "fc8ee8ea",
   "metadata": {
    "language_info": {
     "name": "polyglot-notebook"
    },
    "polyglot_notebook": {
     "kernelName": "csharp"
    }
   },
   "outputs": [],
   "source": [
    "using System;\n",
    "using System.ComponentModel;\n",
    "using System.ClientModel;\n",
    "\n",
    "using Microsoft.Extensions.AI;\n",
    "using Microsoft.Agents.AI;\n",
    "using OpenAI;"
   ]
  },
  {
   "cell_type": "code",
   "execution_count": 7,
   "id": "699b1c83",
   "metadata": {
    "language_info": {
     "name": "polyglot-notebook"
    },
    "polyglot_notebook": {
     "kernelName": "csharp"
    }
   },
   "outputs": [],
   "source": [
    " using DotNetEnv;"
   ]
  },
  {
   "cell_type": "code",
   "execution_count": 8,
   "id": "daa649a0",
   "metadata": {
    "language_info": {
     "name": "polyglot-notebook"
    },
    "polyglot_notebook": {
     "kernelName": "csharp"
    }
   },
   "outputs": [],
   "source": [
    "Env.Load(\"../../../.env\");"
   ]
  },
  {
   "cell_type": "code",
   "execution_count": 9,
   "id": "29661a90",
   "metadata": {
    "language_info": {
     "name": "polyglot-notebook"
    },
    "polyglot_notebook": {
     "kernelName": "csharp"
    }
   },
   "outputs": [],
   "source": [
    "[Description(\"Provides a random vacation destination.\")]\n",
    "static string GetRandomDestination()\n",
    "{\n",
    "    var destinations = new List<string>\n",
    "    {\n",
    "        \"Paris, France\",\n",
    "        \"Tokyo, Japan\",\n",
    "        \"New York City, USA\",\n",
    "        \"Sydney, Australia\",\n",
    "        \"Rome, Italy\",\n",
    "        \"Barcelona, Spain\",\n",
    "        \"Cape Town, South Africa\",\n",
    "        \"Rio de Janeiro, Brazil\",\n",
    "        \"Bangkok, Thailand\",\n",
    "        \"Vancouver, Canada\"\n",
    "    };\n",
    "\n",
    "    var random = new Random();\n",
    "    int index = random.Next(destinations.Count);\n",
    "    return destinations[index];\n",
    "}"
   ]
  },
  {
   "cell_type": "code",
   "execution_count": 10,
   "id": "d2ed1f8b",
   "metadata": {
    "language_info": {
     "name": "polyglot-notebook"
    },
    "polyglot_notebook": {
     "kernelName": "csharp"
    }
   },
   "outputs": [],
   "source": [
    "var github_endpoint = Environment.GetEnvironmentVariable(\"GITHUB_ENDPOINT\") ?? throw new InvalidOperationException(\"GITHUB_ENDPOINT is not set.\");\n",
    "var github_model_id = Environment.GetEnvironmentVariable(\"GITHUB_MODEL_ID\") ?? \"gpt-4o-mini\";\n",
    "var github_token = Environment.GetEnvironmentVariable(\"GITHUB_TOKEN\") ?? throw new InvalidOperationException(\"GITHUB_TOKEN is not set.\");"
   ]
  },
  {
   "cell_type": "code",
   "execution_count": 11,
   "id": "c36c73e1",
   "metadata": {
    "language_info": {
     "name": "polyglot-notebook"
    },
    "polyglot_notebook": {
     "kernelName": "csharp"
    }
   },
   "outputs": [],
   "source": [
    "var openAIOptions = new OpenAIClientOptions()\n",
    "{\n",
    "    Endpoint= new Uri(github_endpoint)\n",
    "};"
   ]
  },
  {
   "cell_type": "code",
   "execution_count": 12,
   "id": "6d94ff10",
   "metadata": {
    "language_info": {
     "name": "polyglot-notebook"
    },
    "polyglot_notebook": {
     "kernelName": "csharp"
    }
   },
   "outputs": [],
   "source": [
    "\n",
    "var openAIClient = new OpenAIClient(new ApiKeyCredential(github_token), openAIOptions);"
   ]
  },
  {
   "cell_type": "code",
   "execution_count": 13,
   "id": "fe32b57a",
   "metadata": {
    "language_info": {
     "name": "polyglot-notebook"
    },
    "polyglot_notebook": {
     "kernelName": "csharp"
    }
   },
   "outputs": [],
   "source": [
    "AIAgent agent = new OpenAIClient(new ApiKeyCredential(github_token), openAIOptions).GetChatClient(github_model_id).CreateAIAgent(\n",
    "    instructions:\"You are a helpful AI Agent that can help plan vacations for customers at random destinations\", tools: [AIFunctionFactory.Create((Func<string>)GetRandomDestination)]);"
   ]
  },
  {
   "cell_type": "code",
   "execution_count": 14,
   "metadata": {
    "language_info": {
     "name": "polyglot-notebook"
    },
    "polyglot_notebook": {
     "kernelName": "csharp"
    }
   },
   "outputs": [],
   "source": [
    "AgentThread thread = agent.GetNewThread();"
   ]
  },
  {
   "cell_type": "code",
   "execution_count": 15,
   "id": "5e455aff",
   "metadata": {
    "language_info": {
     "name": "polyglot-notebook"
    },
    "polyglot_notebook": {
     "kernelName": "csharp"
    }
   },
   "outputs": [
    {
     "name": "stdout",
     "output_type": "stream",
     "text": [
      "How about a day trip to Vancouver, Canada? Here's a suggested itinerary for your day:\n",
      "\n",
      "### Morning\n",
      "- **Breakfast at a Local Cafe**: Start your day with a delicious breakfast at a cozy café like **Jam Cafe** or **Cafe Medina**.\n",
      "- **Stanley Park**: After breakfast, head to Stanley Park. You can rent a bike and ride along the seawall, enjoying beautiful views of the city and the water.\n",
      "\n",
      "### Afternoon\n",
      "- **Lunch in Gastown**: Make your way to Gastown for lunch. Try a local favorite like **The Flying Pig** or **Noodle Box**.\n",
      "- **Explore Gastown**: After lunch, walk around Gastown to see the iconic Steam Clock and browse the unique shops and boutiques.\n",
      "\n",
      "### Late Afternoon\n",
      "- **Granville Island**: Visit Granville Island, where you can stroll through the public market, sample local foods, and enjoy artisan shops.\n",
      "- **False Creek**: Take a walk along False Creek and enjoy the waterfront views.\n",
      "\n",
      "### Evening\n",
      "- **Dinner at a Waterfront Restaurant**: End your day with dinner at a waterfront restaurant like **The Boathouse** or **Lift Bar Grill View** for great food and a view of the sunset.\n",
      "- **Optional: Sunset Cruise**: If you're up for it, consider taking a sunset cruise for a different perspective of the city.\n",
      "\n",
      "### Tips\n",
      "- Make sure to check the weather beforehand!\n",
      "- Consider public transport or ride-sharing to navigate the city easily.\n",
      "\n",
      "Enjoy your day trip to Vancouver!\r\n"
     ]
    }
   ],
   "source": [
    "Console.WriteLine(await agent.RunAsync(\"Plan me a day trip\",thread));"
   ]
  },
  {
   "cell_type": "code",
   "execution_count": 16,
   "id": "592ae1bb",
   "metadata": {
    "language_info": {
     "name": "polyglot-notebook"
    },
    "polyglot_notebook": {
     "kernelName": "csharp"
    }
   },
   "outputs": [
    {
     "name": "stdout",
     "output_type": "stream",
     "text": [
      "How about a vacation to New York City, USA? Here's a suggested itinerary for your trip:\n",
      "\n",
      "### Day 1: Arrival in New York City\n",
      "- **Check-In**: Arrive and check in to your hotel.\n",
      "- **Central Park**: Take a leisurely stroll through Central Park. Consider renting a bike or taking a carriage ride.\n",
      "- **Evening**: Enjoy dinner at a classic NYC restaurant, such as **Katz's Delicatessen** or **Carbone**.\n",
      "\n",
      "### Day 2: Iconic Landmarks\n",
      "- **Morning**: Breakfast at a local diner.\n",
      "- **Statue of Liberty & Ellis Island**: Take a ferry to visit these iconic landmarks.\n",
      "- **Afternoon**: Explore Wall Street and visit the 9/11 Memorial & Museum.\n",
      "- **Evening**: Dinner in the Financial District followed by a walk across the Brooklyn Bridge at sunset.\n",
      "\n",
      "### Day 3: Culture and Arts\n",
      "- **Morning**: Visit The Metropolitan Museum of Art (The Met) and spend a few hours exploring its vast collection.\n",
      "- **Afternoon**: Head to Times Square for lunch and the buzz of the city.\n",
      "- **Broadway Show**: Catch a Broadway show in the evening. Be sure to book tickets in advance!\n",
      "\n",
      "### Day 4: Explore Neighborhoods\n",
      "- **Morning**: Head to SoHo for brunch and shopping in its chic boutiques.\n",
      "- **Afternoon**: Explore Greenwich Village, known for its bohemian atmosphere and history.\n",
      "- **Evening**: Enjoy dinner in the West Village, perhaps at **Buvette** or **Minetta Tavern**.\n",
      "\n",
      "### Day 5: Departure\n",
      "- **Last-minute Shopping**: Spend your last morning shopping at Fifth Avenue or head to Chelsea Market for food and souvenirs.\n",
      "- **Check-Out**: Depart for your journey home.\n",
      "\n",
      "### Tips\n",
      "- Utilize the subway for efficient travel around the city.\n",
      "- Make reservations for popular restaurants and attractions ahead of time!\n",
      "\n",
      "Enjoy your trip to New York City!\r\n"
     ]
    }
   ],
   "source": [
    "Console.WriteLine(await agent.RunAsync(\"I don't like that destination. Plan me another vacation.\",thread));"
   ]
  },
  {
   "cell_type": "markdown",
   "metadata": {},
   "source": [
    "\n---\n\n**Disclaimer**:  \nDit document is vertaald met behulp van de AI-vertalingsservice [Co-op Translator](https://github.com/Azure/co-op-translator). Hoewel we streven naar nauwkeurigheid, dient u zich ervan bewust te zijn dat geautomatiseerde vertalingen fouten of onnauwkeurigheden kunnen bevatten. Het originele document in de oorspronkelijke taal moet worden beschouwd als de gezaghebbende bron. Voor cruciale informatie wordt professionele menselijke vertaling aanbevolen. Wij zijn niet aansprakelijk voor misverstanden of verkeerde interpretaties die voortvloeien uit het gebruik van deze vertaling.\n"
   ]
  }
 ],
 "metadata": {
  "kernelspec": {
   "display_name": ".NET (C#)",
   "language": "C#",
   "name": ".net-csharp"
  },
  "language_info": {
   "name": "polyglot-notebook"
  },
  "polyglot_notebook": {
   "kernelInfo": {
    "defaultKernelName": "csharp",
    "items": [
     {
      "aliases": [],
      "name": "csharp"
     }
    ]
   }
  },
  "coopTranslator": {
   "original_hash": "070c1d8985b3dc6e6d977f3e891037f1",
   "translation_date": "2025-10-02T18:00:57+00:00",
   "source_file": "03-agentic-design-patterns/code_samples/03-dotnet-agent-framework.ipynb",
   "language_code": "nl"
  }
 },
 "nbformat": 4,
 "nbformat_minor": 5
}