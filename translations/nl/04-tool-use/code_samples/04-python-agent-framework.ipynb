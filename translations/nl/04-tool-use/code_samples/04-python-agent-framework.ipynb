{
 "cells": [
  {
   "cell_type": "markdown",
   "id": "8744544f",
   "metadata": {},
   "source": [
    "# 🛠️ Geavanceerd Gebruik van Tools met GitHub Modellen (Python)\n",
    "\n",
    "## 📋 Leerdoelen\n",
    "\n",
    "Deze notebook demonstreert geavanceerde integratiepatronen van tools met behulp van het Microsoft Agent Framework en GitHub Modellen. Je leert hoe je meerdere tools kunt creëren, beheren en orkestreren om geavanceerde agentmogelijkheden te ontwikkelen.\n",
    "\n",
    "**Wat je zult beheersen:**\n",
    "- 🔧 **Multi-Tool Architectuur**: Agents bouwen met meerdere gespecialiseerde tools\n",
    "- 🎯 **Tool Selectielogica**: Hoe agents de juiste tool kiezen voor elke taak\n",
    "- 📊 **Data Verwerkingstools**: Tools maken die verschillende datatypes verwerken\n",
    "- 🔗 **Tool Compositie**: Tools combineren voor complexe workflows\n",
    "\n",
    "## 🎯 Belangrijke Tool Patronen\n",
    "\n",
    "### Ontwerpprincipes voor Tools\n",
    "- **Enkele Verantwoordelijkheid**: Elke tool heeft een duidelijke, gerichte functie\n",
    "- **Typeveiligheid**: Sterke typing voor betrouwbare uitvoering van tools\n",
    "- **Foutafhandeling**: Gracieus falen en herstelpatronen\n",
    "- **Samenstelbaarheid**: Tools die goed samenwerken\n",
    "\n",
    "### Geavanceerde Toolfuncties\n",
    "- **Contextbewustzijn**: Tools die de context van gesprekken begrijpen\n",
    "- **Datavalidatie**: Inputsanitatie en outputvalidatie\n",
    "- **Prestatieoptimalisatie**: Efficiënte uitvoeringspatronen voor tools\n",
    "- **Uitbreidbaarheid**: Gemakkelijke toevoeging van nieuwe toolmogelijkheden\n",
    "\n",
    "## 🔧 Technische Architectuur\n",
    "\n",
    "### Kerncomponenten\n",
    "- **Microsoft Agent Framework**: Python-implementatie met ondersteuning voor geavanceerde tools\n",
    "- **GitHub Modellen Integratie**: Toegang tot krachtige taalmodellen\n",
    "- **Tool Registratiesysteem**: Georganiseerd beheer van agentmogelijkheden\n",
    "- **Foutherstelpatronen**: Robuuste afhandeling van fouten bij tooluitvoering\n",
    "\n",
    "### Tool Integratie Flow\n",
    "```python\n",
    "User Request → Agent Analysis → Tool Selection → Tool Execution → Response Synthesis\n",
    "```\n",
    "\n",
    "## 🛠️ Gedemonstreerde Toolcategorieën\n",
    "\n",
    "### 1. **Data Generatie Tools**\n",
    "- Willekeurige bestemmingsgenerator\n",
    "- Weerinformatieverstrekker  \n",
    "- Reisprijsberekenaar\n",
    "- Activiteitenaanbevelingsengine\n",
    "\n",
    "### 2. **Verwerkingstools**\n",
    "- Tekstformatering en validatie\n",
    "- Datatransformatiehulpmiddelen\n",
    "- Functies voor inhoudsanalyse\n",
    "- Tools voor responsverbetering\n",
    "\n",
    "### 3. **Integratietools**\n",
    "- Externe API-connectoren\n",
    "- Bestandsbewerkingen\n",
    "- Databasequeryinterfaces\n",
    "- Webscrapinghulpmiddelen\n",
    "\n",
    "## ⚙️ Vereisten & Setup\n",
    "\n",
    "**Benodigde afhankelijkheden:**\n",
    "```bash\n",
    "\n",
    "pip install agent-framework-core -U\n",
    "```\n",
    "\n",
    "**Omgevingsconfiguratie (.env-bestand):**\n",
    "```env\n",
    "GITHUB_TOKEN=your_github_personal_access_token\n",
    "GITHUB_ENDPOINT=https://models.inference.ai.azure.com\n",
    "GITHUB_MODEL_ID=gpt-4o-mini\n",
    "```\n",
    "\n",
    "**Optionele API's:**\n",
    "- API-sleutel voor weerservice (voor weertools)\n",
    "- Toegang tot valutaomrekenings-API\n",
    "- Inloggegevens voor reisinformatieservice\n",
    "\n",
    "## 🎨 Ontwerppatronen\n",
    "\n",
    "### Tool Factory Pattern\n",
    "- Gecentraliseerde creatie en configuratie van tools\n",
    "- Consistent ontwerp van toolinterfaces\n",
    "- Gemakkelijke registratie en ontdekking van tools\n",
    "\n",
    "### Command Pattern\n",
    "- Ingekapselde uitvoeringslogica van tools\n",
    "- Undo/redo-functionaliteit voor complexe operaties\n",
    "- Auditlogging voor toolgebruik\n",
    "\n",
    "### Observer Pattern\n",
    "- Monitoring van tooluitvoering\n",
    "- Verzameling van prestatietracking\n",
    "- Foutrapportage en waarschuwingen\n",
    "\n",
    "## 🚀 Beste Praktijken\n",
    "\n",
    "- **Tooldocumentatie**: Duidelijke beschrijvingen voor begrip door de agent\n",
    "- **Inputvalidatie**: Robuuste controle en sanitatie van parameters\n",
    "- **Outputformattering**: Consistente, parseerbare toolresponsen\n",
    "- **Foutmeldingen**: Nuttige foutinformatie voor debugging\n",
    "- **Prestaties**: Geoptimaliseerde uitvoering van tools voor responsiviteit\n",
    "\n",
    "Klaar om agents te bouwen met krachtige toolmogelijkheden? Laten we iets geweldigs creëren! ⚡\n"
   ]
  },
  {
   "cell_type": "code",
   "execution_count": null,
   "id": "59c0feeb",
   "metadata": {},
   "outputs": [],
   "source": [
    "! pip install agent-framework-core -U"
   ]
  },
  {
   "cell_type": "code",
   "execution_count": null,
   "id": "c0df8a52",
   "metadata": {},
   "outputs": [],
   "source": [
    "# � Import core dependencies for Agent Framework and tool integration\n",
    "# This sets up the essential libraries for building intelligent agents with tool capabilities\n",
    "\n",
    "import asyncio\n",
    "import os\n",
    "import json\n",
    "\n",
    "from dotenv import load_dotenv  # For loading environment variables securely\n",
    "from random import randint\n",
    "\n",
    "# These are the core components for building tool-enabled agents\n",
    "from agent_framework import ChatAgent           # Main agent class\n",
    "from agent_framework.openai import OpenAIChatClient  # OpenAI-compatible client"
   ]
  },
  {
   "cell_type": "code",
   "execution_count": null,
   "id": "24c10eb0",
   "metadata": {},
   "outputs": [],
   "source": [
    "load_dotenv()"
   ]
  },
  {
   "cell_type": "code",
   "execution_count": null,
   "id": "151e0314",
   "metadata": {},
   "outputs": [],
   "source": [
    "# 🔑 Environment variables verification\n",
    "# Ensure all required GitHub Models credentials are properly configured\n",
    "print(\"GITHUB_ENDPOINT:\", os.environ.get(\"GITHUB_ENDPOINT\"))\n",
    "print(\"GITHUB_TOKEN:\", \"***\" if os.environ.get(\"GITHUB_TOKEN\") else \"Not set\")\n",
    "print(\"GITHUB_MODEL_ID:\", os.environ.get(\"GITHUB_MODEL_ID\"))"
   ]
  },
  {
   "cell_type": "code",
   "execution_count": null,
   "id": "a6141584",
   "metadata": {},
   "outputs": [],
   "source": [
    "# 🧪 Test GitHub Models connectivity\n",
    "openai_chat_client = OpenAIChatClient(base_url=os.environ.get(\"GITHUB_ENDPOINT\"), api_key=os.environ.get(\"GITHUB_TOKEN\"), model_id=os.environ.get(\"GITHUB_MODEL_ID\"))"
   ]
  },
  {
   "cell_type": "code",
   "execution_count": null,
   "id": "a6507f83",
   "metadata": {},
   "outputs": [],
   "source": [
    "# 🛠️ Define travel planning tools for agent integration\n",
    "# These functions provide specific capabilities that the agent can invoke dynamically\n",
    "\n",
    "def get_random_destination() -> str:\n",
    "    \"\"\"\n",
    "    🎲 Random destination generator tool\n",
    "    Returns a randomly selected travel destination from curated list\n",
    "    Useful when customers need inspiration for their next vacation\n",
    "    \"\"\"\n",
    "    destinations = [\n",
    "        \"Paris, France\",\n",
    "        \"Tokyo, Japan\", \n",
    "        \"New York City, USA\",\n",
    "        \"London, England\",\n",
    "        \"Rome, Italy\",\n",
    "        \"Sydney, Australia\",\n",
    "        \"Dubai, UAE\",\n",
    "        \"Barcelona, Spain\",\n",
    "        \"Bangkok, Thailand\",\n",
    "        \"Amsterdam, Netherlands\",\n",
    "        \"Istanbul, Turkey\",\n",
    "        \"Prague, Czech Republic\",\n",
    "        \"Santorini, Greece\",\n",
    "        \"Reykjavik, Iceland\",\n",
    "        \"Marrakech, Morocco\",\n",
    "        \"Cape Town, South Africa\",\n",
    "        \"Rio de Janeiro, Brazil\",\n",
    "        \"Bali, Indonesia\"\n",
    "    ]\n",
    "    # 🎯 Return random selection from the curated destination list\n",
    "    return destinations[randint(0, len(destinations) - 1)]"
   ]
  },
  {
   "cell_type": "code",
   "execution_count": null,
   "id": "5d4f0568",
   "metadata": {},
   "outputs": [],
   "source": [
    "# 🔗 Initialize GitHub Models chat client for agent communication\n",
    "# Creates the primary interface between the agent and the language model\n",
    "openai_chat_client = OpenAIChatClient(base_url=os.environ.get(\"GITHUB_ENDPOINT\"), api_key=os.environ.get(\"GITHUB_TOKEN\"), model_id=os.environ.get(\"GITHUB_MODEL_ID\"))"
   ]
  },
  {
   "cell_type": "code",
   "execution_count": null,
   "id": "751668c5",
   "metadata": {},
   "outputs": [],
   "source": [
    "# 🤖 Configure travel agent identity and behavioral instructions\n",
    "# Define the agent's personality, capabilities, and operational guidelines\n",
    "\n",
    "AGENT_NAME = \"TravelAgent\"\n",
    "\n",
    "AGENT_INSTRUCTIONS = \"\"\"You are a helpful AI Agent that can help plan vacations for customers at random destinations\n",
    "\"\"\""
   ]
  },
  {
   "cell_type": "code",
   "execution_count": null,
   "id": "be18ac4f",
   "metadata": {},
   "outputs": [],
   "source": [
    "agent = ChatAgent(\n",
    "        name = AGENT_NAME,\n",
    "        chat_client=openai_chat_client,\n",
    "        instructions=AGENT_INSTRUCTIONS,\n",
    "        tools=[get_random_destination]\n",
    ")"
   ]
  },
  {
   "cell_type": "code",
   "execution_count": null,
   "id": "772e9481",
   "metadata": {},
   "outputs": [],
   "source": [
    "thread = agent.get_new_thread()"
   ]
  },
  {
   "cell_type": "code",
   "execution_count": null,
   "id": "a731b547",
   "metadata": {},
   "outputs": [],
   "source": [
    "response1 = await agent.run(\"Plan me a day trip\",thread= thread)"
   ]
  },
  {
   "cell_type": "code",
   "execution_count": null,
   "id": "7d3fe00a",
   "metadata": {},
   "outputs": [],
   "source": [
    "\n",
    "last_message = response1.messages[-1]\n",
    "text_content = last_message.contents[0].text\n",
    "print(\"Travel plan:\")\n",
    "print(text_content)"
   ]
  },
  {
   "cell_type": "markdown",
   "metadata": {},
   "source": [
    "\n---\n\n**Disclaimer**:  \nDit document is vertaald met behulp van de AI-vertalingsservice [Co-op Translator](https://github.com/Azure/co-op-translator). Hoewel we streven naar nauwkeurigheid, dient u zich ervan bewust te zijn dat geautomatiseerde vertalingen fouten of onnauwkeurigheden kunnen bevatten. Het originele document in de oorspronkelijke taal moet worden beschouwd als de gezaghebbende bron. Voor cruciale informatie wordt professionele menselijke vertaling aanbevolen. Wij zijn niet aansprakelijk voor misverstanden of verkeerde interpretaties die voortvloeien uit het gebruik van deze vertaling.\n"
   ]
  }
 ],
 "metadata": {
  "kernelspec": {
   "display_name": "agentenv",
   "language": "python",
   "name": "python3"
  },
  "language_info": {
   "codemirror_mode": {
    "name": "ipython",
    "version": 3
   },
   "file_extension": ".py",
   "mimetype": "text/x-python",
   "name": "python",
   "nbconvert_exporter": "python",
   "pygments_lexer": "ipython3",
   "version": "3.12.10"
  },
  "polyglot_notebook": {
   "kernelInfo": {
    "defaultKernelName": "csharp",
    "items": [
     {
      "aliases": [],
      "name": "csharp"
     }
    ]
   }
  },
  "coopTranslator": {
   "original_hash": "42966ddac53cebaf0ac1ce33b2ee7059",
   "translation_date": "2025-10-02T17:53:21+00:00",
   "source_file": "04-tool-use/code_samples/04-python-agent-framework.ipynb",
   "language_code": "nl"
  }
 },
 "nbformat": 4,
 "nbformat_minor": 5
}