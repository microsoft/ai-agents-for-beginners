{
 "cells": [
  {
   "cell_type": "markdown",
   "id": "44b5899e",
   "metadata": {},
   "source": [
    "# 🔍 Enterprise RAG met Azure AI Foundry (.NET)\n",
    "\n",
    "## 📋 Leerdoelen\n",
    "\n",
    "Deze notebook laat zien hoe je systemen voor Retrieval-Augmented Generation (RAG) van ondernemingsniveau kunt bouwen met het Microsoft Agent Framework in .NET en Azure AI Foundry. Je leert productieklare agents te maken die door documenten kunnen zoeken en nauwkeurige, contextbewuste antwoorden kunnen geven met ondernemingsbeveiliging en schaalbaarheid.\n",
    "\n",
    "**Enterprise RAG-mogelijkheden die je zult bouwen:**\n",
    "- 📚 **Documentintelligentie**: Geavanceerde documentverwerking met Azure AI-services\n",
    "- 🔍 **Semantisch zoeken**: Hoogwaardige vectorzoekfunctie met ondernemingsfuncties\n",
    "- 🛡️ **Beveiligingsintegratie**: Rolgebaseerde toegang en gegevensbeschermingspatronen\n",
    "- 🏢 **Schaalbare architectuur**: Productieklaar RAG-systeem met monitoring\n",
    "\n",
    "## 🎯 Enterprise RAG-architectuur\n",
    "\n",
    "### Kerncomponenten voor ondernemingen\n",
    "- **Azure AI Foundry**: Beheerd AI-platform voor ondernemingen met beveiliging en compliance\n",
    "- **Persistente agents**: Stateful agents met gespreksgeschiedenis en contextbeheer\n",
    "- **Vectorstorebeheer**: Documentindexering en -ophaling van ondernemingsniveau\n",
    "- **Identiteitsintegratie**: Azure AD-authenticatie en rolgebaseerde toegangscontrole\n",
    "\n",
    "### Voordelen van .NET voor ondernemingen\n",
    "- **Typeveiligheid**: Validatie tijdens compilatie voor RAG-bewerkingen en datastructuren\n",
    "- **Asynchrone prestaties**: Niet-blokkerende documentverwerking en zoekbewerkingen\n",
    "- **Geheugenbeheer**: Efficiënt gebruik van middelen voor grote documentcollecties\n",
    "- **Integratiepatronen**: Native integratie van Azure-services met dependency injection\n",
    "\n",
    "## 🏗️ Technische architectuur\n",
    "\n",
    "### Enterprise RAG-pijplijn\n",
    "```csharp\n",
    "Document Upload → Security Validation → Vector Processing → Index Creation\n",
    "                      ↓                    ↓                  ↓\n",
    "User Query → Authentication → Semantic Search → Context Ranking → AI Response\n",
    "```\n",
    "\n",
    "### Kerncomponenten van .NET\n",
    "- **Azure.AI.Agents.Persistent**: Beheer van ondernemingsagents met statuspersistentie\n",
    "- **Azure.Identity**: Geïntegreerde authenticatie voor veilige toegang tot Azure-services\n",
    "- **Microsoft.Agents.AI.AzureAI**: Azure-geoptimaliseerde implementatie van het agentframework\n",
    "- **System.Linq.Async**: Hoogwaardige asynchrone LINQ-bewerkingen\n",
    "\n",
    "## 🔧 Enterprise-functies en voordelen\n",
    "\n",
    "### Beveiliging en compliance\n",
    "- **Azure AD-integratie**: Identiteitsbeheer en authenticatie voor ondernemingen\n",
    "- **Rolgebaseerde toegang**: Gedetailleerde machtigingen voor documenttoegang en -bewerkingen\n",
    "- **Gegevensbescherming**: Versleuteling in rust en tijdens transport voor gevoelige documenten\n",
    "- **Auditlogging**: Uitgebreide activiteitstracering voor compliancevereisten\n",
    "\n",
    "### Prestaties en schaalbaarheid\n",
    "- **Connectiepooling**: Efficiënt beheer van Azure-serviceverbindingen\n",
    "- **Asynchrone verwerking**: Niet-blokkerende bewerkingen voor scenario's met hoge doorvoer\n",
    "- **Cachingstrategieën**: Slimme caching voor vaak geraadpleegde documenten\n",
    "- **Loadbalancing**: Gedistribueerde verwerking voor grootschalige implementaties\n",
    "\n",
    "### Beheer en monitoring\n",
    "- **Gezondheidscontroles**: Ingebouwde monitoring voor RAG-systeemcomponenten\n",
    "- **Prestatiestatistieken**: Gedetailleerde analyses van zoekkwaliteit en responstijden\n",
    "- **Foutafhandeling**: Uitgebreid uitzonderingsbeheer met retry-beleid\n",
    "- **Configuratiebeheer**: Omgevingsspecifieke instellingen met validatie\n",
    "\n",
    "## ⚙️ Vereisten en installatie\n",
    "\n",
    "**Ontwikkelomgeving:**\n",
    "- .NET 9.0 SDK of hoger\n",
    "- Visual Studio 2022 of VS Code met C#-extensie\n",
    "- Azure-abonnement met toegang tot AI Foundry\n",
    "\n",
    "**Vereiste NuGet-pakketten:**\n",
    "```xml\n",
    "<PackageReference Include=\"Microsoft.Extensions.AI\" Version=\"9.9.0\" />\n",
    "<PackageReference Include=\"Azure.AI.Agents.Persistent\" Version=\"1.2.0-beta.5\" />\n",
    "<PackageReference Include=\"Azure.Identity\" Version=\"1.15.0\" />\n",
    "<PackageReference Include=\"System.Linq.Async\" Version=\"6.0.3\" />\n",
    "<PackageReference Include=\"DotNetEnv\" Version=\"3.1.1\" />\n",
    "```\n",
    "\n",
    "**Azure-authenticatie-instelling:**\n",
    "```bash\n",
    "# Install Azure CLI and authenticate\n",
    "az login\n",
    "az account set --subscription \"your-subscription-id\"\n",
    "```\n",
    "\n",
    "**Omgevingsconfiguratie (.env-bestand):**\n",
    "```env\n",
    "# Azure AI Foundry configuration (automatically handled via Azure CLI)\n",
    "# Ensure you're authenticated to the correct Azure subscription\n",
    "```\n",
    "\n",
    "## 📊 Enterprise RAG-patronen\n",
    "\n",
    "### Documentbeheerpatronen\n",
    "- **Bulkupload**: Efficiënte verwerking van grote documentcollecties\n",
    "- **Incrementele updates**: Realtime toevoeging en wijziging van documenten\n",
    "- **Versiebeheer**: Versiebeheer en wijzigingstracering van documenten\n",
    "- **Metadatabeheer**: Rijke documentkenmerken en taxonomie\n",
    "\n",
    "### Zoek- en ophaalpatronen\n",
    "- **Hybride zoeken**: Combinatie van semantisch en trefwoordzoeken voor optimale resultaten\n",
    "- **Gefacetteerd zoeken**: Multidimensionale filtering en categorisatie\n",
    "- **Relevantieafstemming**: Aangepaste scoringsalgoritmen voor domeinspecifieke behoeften\n",
    "- **Resultaatrangschikking**: Geavanceerde rangschikking met bedrijfslogica-integratie\n",
    "\n",
    "### Beveiligingspatronen\n",
    "- **Documentniveau beveiliging**: Gedetailleerde toegangscontrole per document\n",
    "- **Gegevensclassificatie**: Automatische gevoeligheidslabeling en bescherming\n",
    "- **Audittrails**: Uitgebreide logging van alle RAG-bewerkingen\n",
    "- **Privacybescherming**: Detectie en redactie van PII (persoonlijk identificeerbare informatie)\n",
    "\n",
    "## 🔒 Beveiligingsfuncties voor ondernemingen\n",
    "\n",
    "### Authenticatie en autorisatie\n",
    "```csharp\n",
    "// Azure AD integrated authentication\n",
    "var credential = new AzureCliCredential();\n",
    "var agentsClient = new PersistentAgentsClient(endpoint, credential);\n",
    "\n",
    "// Role-based access validation\n",
    "if (!await ValidateUserPermissions(user, documentId))\n",
    "{\n",
    "    throw new UnauthorizedAccessException(\"Insufficient permissions\");\n",
    "}\n",
    "```\n",
    "\n",
    "### Gegevensbescherming\n",
    "- **Versleuteling**: End-to-end versleuteling voor documenten en zoekindexen\n",
    "- **Toegangscontrole**: Integratie met Azure AD voor gebruikers- en groepsmachtigingen\n",
    "- **Gegevenslocatie**: Geografische gegevenslocatiecontrole voor compliance\n",
    "- **Back-up en herstel**: Geautomatiseerde back-up en procedures voor herstel bij rampen\n",
    "\n",
    "## 📈 Prestatieoptimalisatie\n",
    "\n",
    "### Asynchrone verwerkingspatronen\n",
    "```csharp\n",
    "// Efficient async document processing\n",
    "await foreach (var document in documentStream.AsAsyncEnumerable())\n",
    "{\n",
    "    await ProcessDocumentAsync(document, cancellationToken);\n",
    "}\n",
    "```\n",
    "\n",
    "### Geheugenbeheer\n",
    "- **Streamingverwerking**: Grote documenten verwerken zonder geheugenproblemen\n",
    "- **Resourcepooling**: Efficiënt hergebruik van dure middelen\n",
    "- **Garbage collection**: Geoptimaliseerde patronen voor geheugentoewijzing\n",
    "- **Connectiebeheer**: Correcte levenscyclus van Azure-serviceverbindingen\n",
    "\n",
    "### Cachingstrategieën\n",
    "- **Querycaching**: Cache vaak uitgevoerde zoekopdrachten\n",
    "- **Documentcaching**: In-memory caching voor veelgebruikte documenten\n",
    "- **Indexcaching**: Geoptimaliseerde vectorindexcaching\n",
    "- **Resultaatcaching**: Slimme caching van gegenereerde antwoorden\n",
    "\n",
    "## 📊 Enterprise-toepassingen\n",
    "\n",
    "### Kennisbeheer\n",
    "- **Bedrijfswiki**: Slim zoeken in kennisbanken van bedrijven\n",
    "- **Beleid en procedures**: Geautomatiseerde compliance en procedurebegeleiding\n",
    "- **Trainingsmateriaal**: Intelligente ondersteuning bij leren en ontwikkeling\n",
    "- **Onderzoeksdatabases**: Analyse van academische en onderzoeksdocumenten\n",
    "\n",
    "### Klantenservice\n",
    "- **Ondersteuningskennisbank**: Geautomatiseerde klantenserviceantwoorden\n",
    "- **Productdocumentatie**: Slimme informatieophaling over producten\n",
    "- **Probleemoplossingsgidsen**: Contextuele hulp bij probleemoplossing\n",
    "- **FAQ-systemen**: Dynamische FAQ-generatie uit documentcollecties\n",
    "\n",
    "### Regelgeving en compliance\n",
    "- **Analyse van juridische documenten**: Intelligentie voor contracten en juridische documenten\n",
    "- **Compliance monitoring**: Geautomatiseerde controle op naleving van regelgeving\n",
    "- **Risicobeoordeling**: Documentgebaseerde risicoanalyse en rapportage\n",
    "- **Auditondersteuning**: Slimme documentophaling voor audits\n",
    "\n",
    "## 🚀 Productie-implementatie\n",
    "\n",
    "### Monitoring en observatie\n",
    "- **Application Insights**: Gedetailleerde telemetrie en prestatiemonitoring\n",
    "- **Aangepaste statistieken**: KPI-tracking en waarschuwingen specifiek voor bedrijven\n",
    "- **Gedistribueerde tracing**: End-to-end tracering van verzoeken tussen services\n",
    "- **Gezondheidsdashboards**: Realtime visualisatie van systeemgezondheid en prestaties\n",
    "\n",
    "### Schaalbaarheid en betrouwbaarheid\n",
    "- **Autoscaling**: Automatische schaalvergroting op basis van belasting en prestatiestatistieken\n",
    "- **Hoge beschikbaarheid**: Multi-regio implementatie met failovermogelijkheden\n",
    "- **Loadtesten**: Prestatievalidatie onder ondernemingsbelasting\n",
    "- **Herstel bij rampen**: Geautomatiseerde back-up en herstelprocedures\n",
    "\n",
    "Klaar om RAG-systemen van ondernemingsniveau te bouwen die gevoelige documenten op schaal kunnen verwerken? Laten we intelligente kennissystemen voor bedrijven ontwerpen! 🏢📖✨\n"
   ]
  },
  {
   "cell_type": "code",
   "execution_count": 1,
   "metadata": {
    "language_info": {
     "name": "polyglot-notebook"
    },
    "polyglot_notebook": {
     "kernelName": "csharp"
    }
   },
   "outputs": [
    {
     "data": {
      "text/html": [
       "<div><div></div><div></div><div><strong>Installed Packages</strong><ul><li><span>Microsoft.Extensions.AI, 9.9.1</span></li></ul></div></div>"
      ]
     },
     "metadata": {},
     "output_type": "display_data"
    }
   ],
   "source": [
    "#r \"nuget: Microsoft.Extensions.AI, 9.9.1\""
   ]
  },
  {
   "cell_type": "code",
   "execution_count": 2,
   "id": "4ec1f0d1",
   "metadata": {
    "language_info": {
     "name": "polyglot-notebook"
    },
    "polyglot_notebook": {
     "kernelName": "csharp"
    }
   },
   "outputs": [
    {
     "data": {
      "text/html": [
       "<div><div></div><div></div><div><strong>Installed Packages</strong><ul><li><span>Azure.AI.Agents.Persistent, 1.2.0-beta.5</span></li><li><span>Azure.Identity, 1.15.0</span></li><li><span>System.Linq.Async, 6.0.3</span></li></ul></div></div>"
      ]
     },
     "metadata": {},
     "output_type": "display_data"
    }
   ],
   "source": [
    "#r \"nuget: Azure.AI.Agents.Persistent, 1.2.0-beta.5\"\n",
    "#r \"nuget: Azure.Identity, 1.15.0\"\n",
    "#r \"nuget: System.Linq.Async, 6.0.3\""
   ]
  },
  {
   "cell_type": "code",
   "execution_count": 3,
   "id": "2363ae07",
   "metadata": {
    "language_info": {
     "name": "polyglot-notebook"
    },
    "polyglot_notebook": {
     "kernelName": "csharp"
    }
   },
   "outputs": [],
   "source": []
  },
  {
   "cell_type": "code",
   "execution_count": null,
   "id": "d10cec9d",
   "metadata": {
    "language_info": {
     "name": "polyglot-notebook"
    },
    "polyglot_notebook": {
     "kernelName": "csharp"
    }
   },
   "outputs": [
    {
     "data": {
      "text/html": [
       "<div><div></div><div></div><div><strong>Installed Packages</strong><ul><li><span>Microsoft.Agents.AI.AzureAI, 1.0.0-preview.251001.2</span></li></ul></div></div>"
      ]
     },
     "metadata": {},
     "output_type": "display_data"
    }
   ],
   "source": [
    "#r \"nuget: Microsoft.Agents.AI.AzureAI, 1.0.0-preview.251001.3\""
   ]
  },
  {
   "cell_type": "code",
   "execution_count": null,
   "id": "78199d1c",
   "metadata": {
    "language_info": {
     "name": "polyglot-notebook"
    },
    "polyglot_notebook": {
     "kernelName": "csharp"
    }
   },
   "outputs": [
    {
     "data": {
      "text/html": [
       "<div><div></div><div></div><div><strong>Installed Packages</strong><ul><li><span>microsoft.agents.ai, 1.0.0-preview.251001.2</span></li></ul></div></div>"
      ]
     },
     "metadata": {},
     "output_type": "display_data"
    }
   ],
   "source": [
    "#r \"nuget: Microsoft.Agents.AI, 1.0.0-preview.251001.3\""
   ]
  },
  {
   "cell_type": "code",
   "execution_count": 6,
   "id": "7de4684a",
   "metadata": {
    "language_info": {
     "name": "polyglot-notebook"
    },
    "polyglot_notebook": {
     "kernelName": "csharp"
    }
   },
   "outputs": [
    {
     "data": {
      "text/html": [
       "<div><div></div><div></div><div><strong>Installed Packages</strong><ul><li><span>DotNetEnv, 3.1.1</span></li></ul></div></div>"
      ]
     },
     "metadata": {},
     "output_type": "display_data"
    }
   ],
   "source": [
    "#r \"nuget: DotNetEnv, 3.1.1\""
   ]
  },
  {
   "cell_type": "code",
   "execution_count": 7,
   "id": "251efd31",
   "metadata": {
    "language_info": {
     "name": "polyglot-notebook"
    },
    "polyglot_notebook": {
     "kernelName": "csharp"
    }
   },
   "outputs": [],
   "source": [
    "using System;\n",
    "using System.Linq;\n",
    "using Azure.AI.Agents.Persistent;\n",
    "using Azure.Identity;\n",
    "using Microsoft.Agents.AI;"
   ]
  },
  {
   "cell_type": "code",
   "execution_count": 8,
   "id": "a2e342f1",
   "metadata": {
    "language_info": {
     "name": "polyglot-notebook"
    },
    "polyglot_notebook": {
     "kernelName": "csharp"
    }
   },
   "outputs": [],
   "source": [
    " using DotNetEnv;"
   ]
  },
  {
   "cell_type": "code",
   "execution_count": 9,
   "id": "a7a01653",
   "metadata": {
    "language_info": {
     "name": "polyglot-notebook"
    },
    "polyglot_notebook": {
     "kernelName": "csharp"
    }
   },
   "outputs": [],
   "source": [
    "Env.Load(\"../../../.env\");"
   ]
  },
  {
   "cell_type": "code",
   "execution_count": 10,
   "id": "a42735d5",
   "metadata": {
    "language_info": {
     "name": "polyglot-notebook"
    },
    "polyglot_notebook": {
     "kernelName": "csharp"
    }
   },
   "outputs": [],
   "source": [
    "var azure_foundry_endpoint = Environment.GetEnvironmentVariable(\"AZURE_AI_PROJECT_ENDPOINT\") ?? throw new InvalidOperationException(\"AZURE_AI_PROJECT_ENDPOINT is not set.\");\n",
    "var azure_foundry_model_id = Environment.GetEnvironmentVariable(\"AZURE_AI_MODEL_DEPLOYMENT_NAME\") ?? \"gpt-4.1-mini\";"
   ]
  },
  {
   "cell_type": "code",
   "execution_count": 11,
   "id": "e29bdb58",
   "metadata": {
    "language_info": {
     "name": "polyglot-notebook"
    },
    "polyglot_notebook": {
     "kernelName": "csharp"
    }
   },
   "outputs": [],
   "source": [
    "string pdfPath = \"./document.md\";"
   ]
  },
  {
   "cell_type": "code",
   "execution_count": 12,
   "id": "7351e12d",
   "metadata": {
    "language_info": {
     "name": "polyglot-notebook"
    },
    "polyglot_notebook": {
     "kernelName": "csharp"
    }
   },
   "outputs": [],
   "source": [
    "using System.IO;\n",
    "\n",
    "async Task<Stream> OpenImageStreamAsync(string path)\n",
    "{\n",
    "\treturn await Task.Run(() => File.OpenRead(path));\n",
    "}\n",
    "\n",
    "var pdfStream = await OpenImageStreamAsync(pdfPath);"
   ]
  },
  {
   "cell_type": "code",
   "execution_count": 13,
   "id": "0b6bf484",
   "metadata": {
    "language_info": {
     "name": "polyglot-notebook"
    },
    "polyglot_notebook": {
     "kernelName": "csharp"
    }
   },
   "outputs": [],
   "source": [
    "var persistentAgentsClient = new PersistentAgentsClient(azure_foundry_endpoint, new AzureCliCredential());"
   ]
  },
  {
   "cell_type": "code",
   "execution_count": 14,
   "id": "81e0dddc",
   "metadata": {
    "language_info": {
     "name": "polyglot-notebook"
    },
    "polyglot_notebook": {
     "kernelName": "csharp"
    }
   },
   "outputs": [],
   "source": [
    "PersistentAgentFileInfo fileInfo = await persistentAgentsClient.Files.UploadFileAsync(pdfStream, PersistentAgentFilePurpose.Agents, \"demo.md\");"
   ]
  },
  {
   "cell_type": "code",
   "execution_count": 15,
   "id": "f0c75d80",
   "metadata": {
    "language_info": {
     "name": "polyglot-notebook"
    },
    "polyglot_notebook": {
     "kernelName": "csharp"
    }
   },
   "outputs": [],
   "source": [
    "PersistentAgentsVectorStore fileStore =\n",
    "            await persistentAgentsClient.VectorStores.CreateVectorStoreAsync(\n",
    "                [fileInfo.Id],\n",
    "                metadata: new Dictionary<string, string>() { { \"agentkey\", bool.TrueString } });"
   ]
  },
  {
   "cell_type": "code",
   "execution_count": 16,
   "id": "c77986c5",
   "metadata": {
    "language_info": {
     "name": "polyglot-notebook"
    },
    "polyglot_notebook": {
     "kernelName": "csharp"
    }
   },
   "outputs": [],
   "source": [
    "PersistentAgent agentModel = await persistentAgentsClient.Administration.CreateAgentAsync(\n",
    "            azure_foundry_model_id,\n",
    "            name: \"DotNetRAGAgent\",\n",
    "            tools: [new FileSearchToolDefinition()],\n",
    "            instructions: \"\"\"\n",
    "                You are an AI assistant designed to answer user questions using only the information retrieved from the provided document(s).\n",
    "\n",
    "                - If a user's question cannot be answered using the retrieved context, **you must clearly respond**: \n",
    "                \"I'm sorry, but the uploaded document does not contain the necessary information to answer that question.\"\n",
    "                - Do not answer from general knowledge or reasoning. Do not make assumptions or generate hypothetical explanations.\n",
    "                - Do not provide definitions, tutorials, or commentary that is not explicitly grounded in the content of the uploaded file(s).\n",
    "                - If a user asks a question like \"What is a Neural Network?\", and this is not discussed in the uploaded document, respond as instructed above.\n",
    "                - For questions that do have relevant content in the document (e.g., Contoso's travel insurance coverage), respond accurately, and cite the document explicitly.\n",
    "\n",
    "                You must behave as if you have no external knowledge beyond what is retrieved from the uploaded document.\n",
    "                \"\"\",\n",
    "            toolResources: new()\n",
    "            {\n",
    "                FileSearch = new()\n",
    "                {\n",
    "                    VectorStoreIds = { fileStore.Id },\n",
    "                }\n",
    "            },\n",
    "            metadata: new Dictionary<string, string>() { { \"agentkey\", bool.TrueString } });"
   ]
  },
  {
   "cell_type": "code",
   "execution_count": 17,
   "id": "282326cf",
   "metadata": {
    "language_info": {
     "name": "polyglot-notebook"
    },
    "polyglot_notebook": {
     "kernelName": "csharp"
    }
   },
   "outputs": [],
   "source": [
    "AIAgent agent = await persistentAgentsClient.GetAIAgentAsync(agentModel.Id);"
   ]
  },
  {
   "cell_type": "code",
   "execution_count": 18,
   "id": "2067d313",
   "metadata": {
    "language_info": {
     "name": "polyglot-notebook"
    },
    "polyglot_notebook": {
     "kernelName": "csharp"
    }
   },
   "outputs": [],
   "source": [
    "AgentThread thread = agent.GetNewThread();"
   ]
  },
  {
   "cell_type": "code",
   "execution_count": 19,
   "id": "454c4230",
   "metadata": {
    "language_info": {
     "name": "polyglot-notebook"
    },
    "polyglot_notebook": {
     "kernelName": "csharp"
    }
   },
   "outputs": [
    {
     "name": "stdout",
     "output_type": "stream",
     "text": [
      "Contoso's travel insurance coverage includes protection for medical emergencies, trip cancellations, and lost baggage. This ensures that travelers are supported in case of health-related issues during their trip, unforeseen cancellations, and the loss of their belongings while traveling【4:0†demo.md】.\r\n"
     ]
    }
   ],
   "source": [
    "Console.WriteLine(await agent.RunAsync(\"Can you explain Contoso's travel insurance coverage?\", thread));"
   ]
  },
  {
   "cell_type": "markdown",
   "metadata": {},
   "source": [
    "\n---\n\n**Disclaimer**:  \nDit document is vertaald met behulp van de AI-vertalingsservice [Co-op Translator](https://github.com/Azure/co-op-translator). Hoewel we streven naar nauwkeurigheid, dient u zich ervan bewust te zijn dat geautomatiseerde vertalingen fouten of onnauwkeurigheden kunnen bevatten. Het originele document in de oorspronkelijke taal moet worden beschouwd als de gezaghebbende bron. Voor cruciale informatie wordt professionele menselijke vertaling aanbevolen. Wij zijn niet aansprakelijk voor misverstanden of verkeerde interpretaties die voortvloeien uit het gebruik van deze vertaling.\n"
   ]
  }
 ],
 "metadata": {
  "kernelspec": {
   "display_name": ".NET (C#)",
   "language": "C#",
   "name": ".net-csharp"
  },
  "language_info": {
   "name": "polyglot-notebook"
  },
  "polyglot_notebook": {
   "kernelInfo": {
    "defaultKernelName": "csharp",
    "items": [
     {
      "aliases": [],
      "name": "csharp"
     }
    ]
   }
  },
  "coopTranslator": {
   "original_hash": "e4584fa31638009dc6fb665275de8fc2",
   "translation_date": "2025-10-02T17:30:28+00:00",
   "source_file": "05-agentic-rag/code_samples/05-dotnet-agent-framework.ipynb",
   "language_code": "nl"
  }
 },
 "nbformat": 4,
 "nbformat_minor": 5
}