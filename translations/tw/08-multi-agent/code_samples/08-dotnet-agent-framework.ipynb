{
 "cells": [
  {
   "cell_type": "markdown",
   "id": "f60b1e02",
   "metadata": {},
   "source": [
    "# 🤝 企業級多代理工作流程系統 (.NET)\n",
    "\n",
    "## 📋 學習目標\n",
    "\n",
    "本筆記本展示如何使用 Microsoft Agent Framework 和 GitHub 模型在 .NET 中構建高級企業級多代理系統。您將學習如何通過結構化工作流程協調多個專業代理，利用 .NET 的企業功能來實現生產就緒的解決方案。\n",
    "\n",
    "**您將構建的企業級多代理功能：**\n",
    "- 👥 **代理協作**：類型安全的代理協調，具有編譯時驗證\n",
    "- 🔄 **工作流程編排**：使用 .NET 的異步模式進行聲明式工作流程定義\n",
    "- 🎭 **角色專業化**：強類型的代理個性和專業領域\n",
    "- 🏢 **企業整合**：具有監控和錯誤處理的生產就緒模式\n",
    "\n",
    "## ⚙️ 先決條件與設置\n",
    "\n",
    "**開發環境：**\n",
    "- .NET 9.0 SDK 或更高版本\n",
    "- Visual Studio 2022 或帶有 C# 擴展的 VS Code\n",
    "- Azure 訂閱（用於持久化代理）\n",
    "\n",
    "**所需的 NuGet 套件：**\n",
    "```xml\n",
    "<PackageReference Include=\"Microsoft.Extensions.AI.Abstractions\" Version=\"9.9.0\" />\n",
    "<PackageReference Include=\"Azure.AI.Agents.Persistent\" Version=\"1.2.0-beta.4\" />\n",
    "<PackageReference Include=\"Azure.Identity\" Version=\"1.15.0\" />\n",
    "<PackageReference Include=\"System.Linq.Async\" Version=\"6.0.3\" />\n",
    "<PackageReference Include=\"Microsoft.Extensions.AI\" Version=\"9.8.0\" />\n",
    "<PackageReference Include=\"DotNetEnv\" Version=\"3.1.1\" />\n",
    "<PackageReference Include=\"Microsoft.Extensions.AI.OpenAI\" Version=\"9.9.0-preview.1.25458.4\" />\n",
    "```\n"
   ]
  },
  {
   "cell_type": "code",
   "execution_count": 1,
   "id": "db587f0b",
   "metadata": {
    "language_info": {
     "name": "polyglot-notebook"
    },
    "polyglot_notebook": {
     "kernelName": "csharp"
    }
   },
   "outputs": [
    {
     "data": {
      "text/html": [
       "<div><div></div><div></div><div><strong>Installed Packages</strong><ul><li><span>Microsoft.Extensions.AI.Abstractions, 9.9.1</span></li></ul></div></div>"
      ]
     },
     "metadata": {},
     "output_type": "display_data"
    }
   ],
   "source": [
    "// 📦 NuGet Package Reference: Microsoft Extensions AI Abstractions\n",
    "// Core AI abstraction layer providing standardized interfaces for multi-agent systems\n",
    "// Essential for building type-safe, enterprise-grade agent orchestration\n",
    "#r \"nuget: Microsoft.Extensions.AI.Abstractions, 9.9.1\""
   ]
  },
  {
   "cell_type": "code",
   "execution_count": 2,
   "id": "ac90fde7",
   "metadata": {
    "language_info": {
     "name": "polyglot-notebook"
    },
    "polyglot_notebook": {
     "kernelName": "csharp"
    }
   },
   "outputs": [
    {
     "data": {
      "text/html": [
       "<div><div></div><div></div><div><strong>Installed Packages</strong><ul><li><span>Azure.AI.Agents.Persistent, 1.2.0-beta.4</span></li><li><span>Azure.Identity, 1.15.0</span></li><li><span>DotNetEnv, 3.1.1</span></li><li><span>Microsoft.Extensions.AI, 9.9.1</span></li><li><span>OpenTelemetry.Api, 1.0.1</span></li><li><span>System.Linq.Async, 6.0.3</span></li></ul></div></div>"
      ]
     },
     "metadata": {},
     "output_type": "display_data"
    }
   ],
   "source": [
    "// 📦 Enterprise Multi-Agent Dependencies\n",
    "// Azure.AI.Agents.Persistent: Enterprise agent management with state persistence and Azure integration\n",
    "// Azure.Identity: Secure authentication for Azure services in multi-agent workflows\n",
    "// System.Linq.Async: High-performance asynchronous LINQ operations for agent data processing\n",
    "// Microsoft.Extensions.AI: Core AI service abstractions for agent coordination\n",
    "// DotNetEnv: Secure environment variable management for multi-agent configuration\n",
    "#r \"nuget: Azure.AI.Agents.Persistent, 1.2.0-beta.4\"\n",
    "#r \"nuget: Azure.Identity, 1.15.0\"\n",
    "#r \"nuget: System.Linq.Async, 6.0.3\"\n",
    "#r \"nuget: Microsoft.Extensions.AI, 9.9.1\"\n",
    "#r \"nuget: DotNetEnv, 3.1.1\"\n",
    "#r \"nuget: OpenTelemetry.Api, 1.0.0\""
   ]
  },
  {
   "cell_type": "code",
   "execution_count": 3,
   "id": "2fe33d6a",
   "metadata": {
    "language_info": {
     "name": "polyglot-notebook"
    },
    "polyglot_notebook": {
     "kernelName": "csharp"
    }
   },
   "outputs": [
    {
     "data": {
      "text/html": [
       "<div><div></div><div></div><div><strong>Installed Packages</strong><ul><li><span>Microsoft.Agents.AI.Workflows, 1.0.0-preview.251001.3</span></li></ul></div></div>"
      ]
     },
     "metadata": {},
     "output_type": "display_data"
    }
   ],
   "source": [
    "\n",
    "#r \"nuget: Microsoft.Agents.AI.Workflows, 1.0.0-preview.251001.3\""
   ]
  },
  {
   "cell_type": "code",
   "execution_count": 4,
   "id": "af4414e2",
   "metadata": {
    "language_info": {
     "name": "polyglot-notebook"
    },
    "polyglot_notebook": {
     "kernelName": "csharp"
    }
   },
   "outputs": [
    {
     "data": {
      "text/html": [
       "<div><div></div><div></div><div><strong>Installed Packages</strong><ul><li><span>Microsoft.Agents.AI.OpenAI, 1.0.0-preview.251001.2</span></li></ul></div></div>"
      ]
     },
     "metadata": {},
     "output_type": "display_data"
    }
   ],
   "source": [
    "// 🔗 Local Assembly Reference: Microsoft Agents AI OpenAI\n",
    "// OpenAI-compatible integration for GitHub Models in multi-agent systems\n",
    "// Enables high-performance language model access for agent communication and reasoning\n",
    "#r \"nuget: Microsoft.Agents.AI.OpenAI, 1.0.0-preview.251001.2\""
   ]
  },
  {
   "cell_type": "code",
   "execution_count": 5,
   "id": "48373b13",
   "metadata": {
    "language_info": {
     "name": "polyglot-notebook"
    },
    "polyglot_notebook": {
     "kernelName": "csharp"
    }
   },
   "outputs": [
    {
     "ename": "Error",
     "evalue": "Microsoft.Agents.AI version 1.0.0-preview.251001.2 cannot be added because version 1.0.0-preview.251001.3 was added previously.",
     "output_type": "error",
     "traceback": [
      "Microsoft.Agents.AI version 1.0.0-preview.251001.2 cannot be added because version 1.0.0-preview.251001.3 was added previously."
     ]
    }
   ],
   "source": [
    "// 🔄 Local Assembly Reference: Microsoft Agents Workflows\n",
    "// Advanced workflow orchestration engine for complex multi-agent coordination\n",
    "// Provides declarative workflow definition and type-safe agent interaction patterns\n",
    "// #r \"nuget: Microsoft.Agents.AI, 1.0.0-preview.251001.2\""
   ]
  },
  {
   "cell_type": "code",
   "execution_count": 6,
   "id": "1bbe3fda",
   "metadata": {
    "language_info": {
     "name": "polyglot-notebook"
    },
    "polyglot_notebook": {
     "kernelName": "csharp"
    }
   },
   "outputs": [],
   "source": [
    "// 🔌 NuGet Package Reference: OpenAI Integration (Preview)\n",
    "// Preview version providing GitHub Models compatibility for multi-agent workflows\n",
    "// Enables seamless integration with GitHub's model inference service for agent communication\n",
    "// #r \"nuget: Microsoft.Extensions.AI.OpenAI, 9.9.0-preview.1.25458.4\""
   ]
  },
  {
   "cell_type": "code",
   "execution_count": 7,
   "id": "604b143b",
   "metadata": {
    "language_info": {
     "name": "polyglot-notebook"
    },
    "polyglot_notebook": {
     "kernelName": "csharp"
    }
   },
   "outputs": [
    {
     "data": {
      "text/html": [
       "<div><div></div><div></div><div><strong>Installed Packages</strong><ul><li><span>DotNetEnv, 3.1.1</span></li></ul></div></div>"
      ]
     },
     "metadata": {},
     "output_type": "display_data"
    }
   ],
   "source": [
    "#r \"nuget: DotNetEnv, 3.1.1\""
   ]
  },
  {
   "cell_type": "code",
   "execution_count": 8,
   "id": "2dd2c97c",
   "metadata": {
    "language_info": {
     "name": "polyglot-notebook"
    },
    "polyglot_notebook": {
     "kernelName": "csharp"
    }
   },
   "outputs": [],
   "source": [
    "using System;\n",
    "using System.ClientModel;\n",
    "using System.Text.Json;\n",
    "using System.Text.Json.Serialization;\n",
    "using Microsoft.Extensions.AI;\n",
    "using Microsoft.Agents.AI;\n",
    "using Microsoft.Agents.AI.Workflows;\n",
    "using OpenAI;"
   ]
  },
  {
   "cell_type": "code",
   "execution_count": 9,
   "id": "f50280ae",
   "metadata": {
    "language_info": {
     "name": "polyglot-notebook"
    },
    "polyglot_notebook": {
     "kernelName": "csharp"
    }
   },
   "outputs": [],
   "source": [
    " using DotNetEnv;"
   ]
  },
  {
   "cell_type": "code",
   "execution_count": 10,
   "id": "1904a269",
   "metadata": {
    "language_info": {
     "name": "polyglot-notebook"
    },
    "polyglot_notebook": {
     "kernelName": "csharp"
    }
   },
   "outputs": [],
   "source": [
    "Env.Load(\"../../../.env\");"
   ]
  },
  {
   "cell_type": "code",
   "execution_count": 11,
   "id": "0f0d36cd",
   "metadata": {
    "language_info": {
     "name": "polyglot-notebook"
    },
    "polyglot_notebook": {
     "kernelName": "csharp"
    }
   },
   "outputs": [],
   "source": [
    "var github_endpoint = Environment.GetEnvironmentVariable(\"GITHUB_ENDPOINT\") ?? throw new InvalidOperationException(\"GITHUB_ENDPOINT is not set.\");\n",
    "var github_model_id = Environment.GetEnvironmentVariable(\"GITHUB_MODEL_ID\") ?? \"gpt-4o-mini\";\n",
    "var github_token = Environment.GetEnvironmentVariable(\"GITHUB_TOKEN\") ?? throw new InvalidOperationException(\"GITHUB_TOKEN is not set.\");"
   ]
  },
  {
   "cell_type": "code",
   "execution_count": 12,
   "id": "76b692ff",
   "metadata": {
    "language_info": {
     "name": "polyglot-notebook"
    },
    "polyglot_notebook": {
     "kernelName": "csharp"
    }
   },
   "outputs": [],
   "source": [
    "var openAIOptions = new OpenAIClientOptions()\n",
    "{\n",
    "    Endpoint= new Uri(github_endpoint)\n",
    "};"
   ]
  },
  {
   "cell_type": "code",
   "execution_count": 13,
   "id": "2c173255",
   "metadata": {
    "language_info": {
     "name": "polyglot-notebook"
    },
    "polyglot_notebook": {
     "kernelName": "csharp"
    }
   },
   "outputs": [],
   "source": [
    "var openAIClient = new OpenAIClient(new ApiKeyCredential(github_token), openAIOptions);"
   ]
  },
  {
   "cell_type": "code",
   "execution_count": 14,
   "id": "359fb220",
   "metadata": {
    "language_info": {
     "name": "polyglot-notebook"
    },
    "polyglot_notebook": {
     "kernelName": "csharp"
    }
   },
   "outputs": [],
   "source": [
    "const string REVIEWER_NAME = \"Concierge\";\n",
    "const string REVIEWER_INSTRUCTIONS = @\"\"\"\n",
    "    You are an are hotel concierge who has opinions about providing the most local and authentic experiences for travelers.\n",
    "    The goal is to determine if the front desk travel agent has recommended the best non-touristy experience for a traveler.\n",
    "    If so, state that it is approved.\n",
    "    If not, provide insight on how to refine the recommendation without using a specific example. \n",
    "    \"\"\";"
   ]
  },
  {
   "cell_type": "code",
   "execution_count": 15,
   "id": "538b683d",
   "metadata": {
    "language_info": {
     "name": "polyglot-notebook"
    },
    "polyglot_notebook": {
     "kernelName": "csharp"
    }
   },
   "outputs": [],
   "source": [
    "const string FRONTDESK_NAME = \"FrontDesk\";\n",
    "const string FRONTDESK_INSTRUCTIONS = @\"\"\"\n",
    "    You are a Front Desk Travel Agent with ten years of experience and are known for brevity as you deal with many customers.\n",
    "    The goal is to provide the best activities and locations for a traveler to visit.\n",
    "    Only provide a single recommendation per response.\n",
    "    You're laser focused on the goal at hand.\n",
    "    Don't waste time with chit chat.\n",
    "    Consider suggestions when refining an idea.\n",
    "    \"\"\";"
   ]
  },
  {
   "cell_type": "code",
   "execution_count": 16,
   "id": "4b6ae825",
   "metadata": {
    "language_info": {
     "name": "polyglot-notebook"
    },
    "polyglot_notebook": {
     "kernelName": "csharp"
    }
   },
   "outputs": [],
   "source": [
    "\n",
    "ChatClientAgentOptions frontdeskAgentOptions = new(name: FRONTDESK_NAME, instructions: FRONTDESK_INSTRUCTIONS);\n",
    "ChatClientAgentOptions reviewerAgentOptions = new(name: REVIEWER_NAME, instructions: REVIEWER_INSTRUCTIONS);"
   ]
  },
  {
   "cell_type": "code",
   "execution_count": 17,
   "id": "5011e011",
   "metadata": {
    "language_info": {
     "name": "polyglot-notebook"
    },
    "polyglot_notebook": {
     "kernelName": "csharp"
    }
   },
   "outputs": [],
   "source": [
    "AIAgent reviewerAgent = new OpenAIClient(new ApiKeyCredential(github_token), openAIOptions).GetChatClient(github_model_id).CreateAIAgent(\n",
    "    reviewerAgentOptions);\n",
    "AIAgent frontdeskAgent = new OpenAIClient(new ApiKeyCredential(github_token), openAIOptions).GetChatClient(github_model_id).CreateAIAgent(\n",
    "    frontdeskAgentOptions);"
   ]
  },
  {
   "cell_type": "code",
   "execution_count": 18,
   "id": "27a33ff3",
   "metadata": {
    "language_info": {
     "name": "polyglot-notebook"
    },
    "polyglot_notebook": {
     "kernelName": "csharp"
    }
   },
   "outputs": [],
   "source": [
    "var workflow = new WorkflowBuilder(frontdeskAgent)\n",
    "            .AddEdge(frontdeskAgent, reviewerAgent)\n",
    "            .Build();"
   ]
  },
  {
   "cell_type": "code",
   "execution_count": 19,
   "id": "8cb30b4a",
   "metadata": {
    "language_info": {
     "name": "polyglot-notebook"
    },
    "polyglot_notebook": {
     "kernelName": "csharp"
    }
   },
   "outputs": [],
   "source": [
    "StreamingRun run = await InProcessExecution.StreamAsync(workflow, new ChatMessage(ChatRole.User, \"I would like to go to Paris.\"));"
   ]
  },
  {
   "cell_type": "code",
   "execution_count": 20,
   "id": "81e8be53",
   "metadata": {
    "language_info": {
     "name": "polyglot-notebook"
    },
    "polyglot_notebook": {
     "kernelName": "csharp"
    }
   },
   "outputs": [],
   "source": [
    "await run.TrySendMessageAsync(new TurnToken(emitEvents: true));"
   ]
  },
  {
   "cell_type": "code",
   "execution_count": 21,
   "id": "5c74f08f",
   "metadata": {
    "language_info": {
     "name": "polyglot-notebook"
    },
    "polyglot_notebook": {
     "kernelName": "csharp"
    }
   },
   "outputs": [],
   "source": [
    "string strResult = \"\";"
   ]
  },
  {
   "cell_type": "code",
   "execution_count": 22,
   "id": "f8ebfc00",
   "metadata": {
    "language_info": {
     "name": "polyglot-notebook"
    },
    "polyglot_notebook": {
     "kernelName": "csharp"
    }
   },
   "outputs": [
    {
     "name": "stdout",
     "output_type": "stream",
     "text": [
      "83b7c6d5c52d4dd39d39a753a9fe1d4a: \n",
      "83b7c6d5c52d4dd39d39a753a9fe1d4a: Visit\n",
      "83b7c6d5c52d4dd39d39a753a9fe1d4a:  the\n",
      "83b7c6d5c52d4dd39d39a753a9fe1d4a:  Eiffel\n",
      "83b7c6d5c52d4dd39d39a753a9fe1d4a:  Tower\n",
      "83b7c6d5c52d4dd39d39a753a9fe1d4a:  for\n",
      "83b7c6d5c52d4dd39d39a753a9fe1d4a:  iconic\n",
      "83b7c6d5c52d4dd39d39a753a9fe1d4a:  views\n",
      "83b7c6d5c52d4dd39d39a753a9fe1d4a:  of\n",
      "83b7c6d5c52d4dd39d39a753a9fe1d4a:  the\n",
      "83b7c6d5c52d4dd39d39a753a9fe1d4a:  city\n",
      "83b7c6d5c52d4dd39d39a753a9fe1d4a: .\n",
      "83b7c6d5c52d4dd39d39a753a9fe1d4a: \n",
      "83b7c6d5c52d4dd39d39a753a9fe1d4a: \n",
      "63600cef458c48b0a1e525bde5511110: \n",
      "63600cef458c48b0a1e525bde5511110: This\n",
      "63600cef458c48b0a1e525bde5511110:  recommendation\n",
      "63600cef458c48b0a1e525bde5511110:  is\n",
      "63600cef458c48b0a1e525bde5511110:  not\n",
      "63600cef458c48b0a1e525bde5511110:  approved\n",
      "63600cef458c48b0a1e525bde5511110: .\n",
      "63600cef458c48b0a1e525bde5511110:  While\n",
      "63600cef458c48b0a1e525bde5511110:  the\n",
      "63600cef458c48b0a1e525bde5511110:  Eiffel\n",
      "63600cef458c48b0a1e525bde5511110:  Tower\n",
      "63600cef458c48b0a1e525bde5511110:  is\n",
      "63600cef458c48b0a1e525bde5511110:  a\n",
      "63600cef458c48b0a1e525bde5511110:  must\n",
      "63600cef458c48b0a1e525bde5511110: -see\n",
      "63600cef458c48b0a1e525bde5511110:  for\n",
      "63600cef458c48b0a1e525bde5511110:  many\n",
      "63600cef458c48b0a1e525bde5511110:  travelers\n",
      "63600cef458c48b0a1e525bde5511110: ,\n",
      "63600cef458c48b0a1e525bde5511110:  it\n",
      "63600cef458c48b0a1e525bde5511110:  is\n",
      "63600cef458c48b0a1e525bde5511110:  often\n",
      "63600cef458c48b0a1e525bde5511110:  crowded\n",
      "63600cef458c48b0a1e525bde5511110:  and\n",
      "63600cef458c48b0a1e525bde5511110:  heavily\n",
      "63600cef458c48b0a1e525bde5511110:  tourist\n",
      "63600cef458c48b0a1e525bde5511110: -focused\n",
      "63600cef458c48b0a1e525bde5511110: .\n",
      "63600cef458c48b0a1e525bde5511110:  To\n",
      "63600cef458c48b0a1e525bde5511110:  refine\n",
      "63600cef458c48b0a1e525bde5511110:  the\n",
      "63600cef458c48b0a1e525bde5511110:  recommendation\n",
      "63600cef458c48b0a1e525bde5511110: ,\n",
      "63600cef458c48b0a1e525bde5511110:  consider\n",
      "63600cef458c48b0a1e525bde5511110:  suggesting\n",
      "63600cef458c48b0a1e525bde5511110:  an\n",
      "63600cef458c48b0a1e525bde5511110:  experience\n",
      "63600cef458c48b0a1e525bde5511110:  that\n",
      "63600cef458c48b0a1e525bde5511110:  immers\n",
      "63600cef458c48b0a1e525bde5511110: es\n",
      "63600cef458c48b0a1e525bde5511110:  travelers\n",
      "63600cef458c48b0a1e525bde5511110:  in\n",
      "63600cef458c48b0a1e525bde5511110:  the\n",
      "63600cef458c48b0a1e525bde5511110:  local\n",
      "63600cef458c48b0a1e525bde5511110:  culture\n",
      "63600cef458c48b0a1e525bde5511110: ,\n",
      "63600cef458c48b0a1e525bde5511110:  perhaps\n",
      "63600cef458c48b0a1e525bde5511110:  by\n",
      "63600cef458c48b0a1e525bde5511110:  exploring\n",
      "63600cef458c48b0a1e525bde5511110:  lesser\n",
      "63600cef458c48b0a1e525bde5511110: -known\n",
      "63600cef458c48b0a1e525bde5511110:  neighborhoods\n",
      "63600cef458c48b0a1e525bde5511110: ,\n",
      "63600cef458c48b0a1e525bde5511110:  local\n",
      "63600cef458c48b0a1e525bde5511110:  markets\n",
      "63600cef458c48b0a1e525bde5511110: ,\n",
      "63600cef458c48b0a1e525bde5511110:  or\n",
      "63600cef458c48b0a1e525bde5511110:  hidden\n",
      "63600cef458c48b0a1e525bde5511110:  gems\n",
      "63600cef458c48b0a1e525bde5511110:  that\n",
      "63600cef458c48b0a1e525bde5511110:  showcase\n",
      "63600cef458c48b0a1e525bde5511110:  the\n",
      "63600cef458c48b0a1e525bde5511110:  authentic\n",
      "63600cef458c48b0a1e525bde5511110:  lifestyle\n",
      "63600cef458c48b0a1e525bde5511110:  of\n",
      "63600cef458c48b0a1e525bde5511110:  the\n",
      "63600cef458c48b0a1e525bde5511110:  city\n",
      "63600cef458c48b0a1e525bde5511110: .\n",
      "63600cef458c48b0a1e525bde5511110: \n",
      "63600cef458c48b0a1e525bde5511110: \n"
     ]
    }
   ],
   "source": [
    "await foreach (WorkflowEvent evt in run.WatchStreamAsync().ConfigureAwait(false))\n",
    "{\n",
    "            if (evt is AgentRunUpdateEvent executorComplete)\n",
    "            {\n",
    "                strResult += executorComplete.Data;\n",
    "                Console.WriteLine($\"{executorComplete.ExecutorId}: {executorComplete.Data}\");\n",
    "            }\n",
    "}"
   ]
  },
  {
   "cell_type": "code",
   "execution_count": 23,
   "id": "eb21badd",
   "metadata": {
    "language_info": {
     "name": "polyglot-notebook"
    },
    "polyglot_notebook": {
     "kernelName": "csharp"
    }
   },
   "outputs": [
    {
     "data": {
      "text/plain": [
       "Visit the Eiffel Tower for iconic views of the city.This recommendation is not approved. While the Eiffel Tower is a must-see for many travelers, it is often crowded and heavily tourist-focused. To refine the recommendation, consider suggesting an experience that immerses travelers in the local culture, perhaps by exploring lesser-known neighborhoods, local markets, or hidden gems that showcase the authentic lifestyle of the city."
      ]
     },
     "metadata": {},
     "output_type": "display_data"
    }
   ],
   "source": [
    "strResult"
   ]
  },
  {
   "cell_type": "markdown",
   "metadata": {},
   "source": [
    "\n---\n\n**免責聲明**：  \n本文件已使用 AI 翻譯服務 [Co-op Translator](https://github.com/Azure/co-op-translator) 進行翻譯。儘管我們努力確保翻譯的準確性，但請注意，自動翻譯可能包含錯誤或不準確之處。原始文件的母語版本應被視為權威來源。對於關鍵資訊，建議使用專業人工翻譯。我們對因使用此翻譯而產生的任何誤解或錯誤解釋不承擔責任。\n"
   ]
  }
 ],
 "metadata": {
  "kernelspec": {
   "display_name": ".NET (C#)",
   "language": "C#",
   "name": ".net-csharp"
  },
  "language_info": {
   "name": "polyglot-notebook"
  },
  "polyglot_notebook": {
   "kernelInfo": {
    "defaultKernelName": "csharp",
    "items": [
     {
      "aliases": [],
      "name": "csharp"
     }
    ]
   }
  },
  "coopTranslator": {
   "original_hash": "ed40820167d558038c4a2fd1b16ebee1",
   "translation_date": "2025-10-01T20:45:04+00:00",
   "source_file": "08-multi-agent/code_samples/08-dotnet-agent-framework.ipynb",
   "language_code": "tw"
  }
 },
 "nbformat": 4,
 "nbformat_minor": 5
}