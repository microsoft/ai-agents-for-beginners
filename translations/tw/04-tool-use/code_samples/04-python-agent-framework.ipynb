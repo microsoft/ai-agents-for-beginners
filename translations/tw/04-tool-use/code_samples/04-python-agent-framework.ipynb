{
 "cells": [
  {
   "cell_type": "markdown",
   "id": "8744544f",
   "metadata": {},
   "source": [
    "# 🛠️ 使用 GitHub 模型進行進階工具操作 (Python)\n",
    "\n",
    "## 📋 學習目標\n",
    "\n",
    "此筆記本展示了使用 Microsoft Agent Framework 與 GitHub 模型進行進階工具整合的模式。您將學習如何創建、管理和協調多個工具，以構建複雜的代理功能。\n",
    "\n",
    "**您將掌握的內容：**\n",
    "- 🔧 **多工具架構**：使用多個專業工具構建代理\n",
    "- 🎯 **工具選擇邏輯**：代理如何為每項任務選擇合適的工具\n",
    "- 📊 **數據處理工具**：創建處理不同數據類型的工具\n",
    "- 🔗 **工具組合**：結合工具以完成複雜工作流程\n",
    "\n",
    "## 🎯 關鍵工具模式\n",
    "\n",
    "### 工具設計原則\n",
    "- **單一職責**：每個工具都有明確且專注的用途\n",
    "- **類型安全**：強類型以確保工具執行可靠\n",
    "- **錯誤處理**：優雅的失敗和恢復模式\n",
    "- **可組合性**：工具能夠良好地協同工作\n",
    "\n",
    "### 進階工具功能\n",
    "- **上下文感知**：工具能理解對話上下文\n",
    "- **數據驗證**：輸入清理和輸出驗證\n",
    "- **性能優化**：高效的工具執行模式\n",
    "- **可擴展性**：輕鬆添加新工具功能\n",
    "\n",
    "## 🔧 技術架構\n",
    "\n",
    "### 核心組件\n",
    "- **Microsoft Agent Framework**：具有進階工具支持的 Python 實現\n",
    "- **GitHub 模型整合**：高性能語言模型訪問\n",
    "- **工具註冊系統**：有組織地管理代理功能\n",
    "- **錯誤恢復模式**：穩健的工具執行失敗處理\n",
    "\n",
    "### 工具整合流程\n",
    "```python\n",
    "User Request → Agent Analysis → Tool Selection → Tool Execution → Response Synthesis\n",
    "```\n",
    "\n",
    "## 🛠️ 展示的工具類別\n",
    "\n",
    "### 1. **數據生成工具**\n",
    "- 隨機目的地生成器\n",
    "- 天氣信息提供者  \n",
    "- 旅行成本計算器\n",
    "- 活動推薦引擎\n",
    "\n",
    "### 2. **處理工具**\n",
    "- 文本格式化和驗證\n",
    "- 數據轉換工具\n",
    "- 內容分析功能\n",
    "- 回應增強工具\n",
    "\n",
    "### 3. **整合工具**\n",
    "- 外部 API 連接器\n",
    "- 文件系統操作\n",
    "- 資料庫查詢介面\n",
    "- 網頁抓取工具\n",
    "\n",
    "## ⚙️ 先決條件與設置\n",
    "\n",
    "**所需依賴項：**\n",
    "```bash\n",
    "\n",
    "pip install agent-framework-core -U\n",
    "```\n",
    "\n",
    "**環境配置 (.env 文件)：**\n",
    "```env\n",
    "GITHUB_TOKEN=your_github_personal_access_token\n",
    "GITHUB_ENDPOINT=https://models.inference.ai.azure.com\n",
    "GITHUB_MODEL_ID=gpt-4o-mini\n",
    "```\n",
    "\n",
    "**可選 API：**\n",
    "- 天氣服務 API 密鑰（用於天氣工具）\n",
    "- 貨幣轉換 API 訪問\n",
    "- 旅行信息服務憑證\n",
    "\n",
    "## 🎨 設計模式\n",
    "\n",
    "### 工具工廠模式\n",
    "- 集中化的工具創建和配置\n",
    "- 一致的工具介面設計\n",
    "- 輕鬆的工具註冊和發現\n",
    "\n",
    "### 命令模式\n",
    "- 封裝的工具執行邏輯\n",
    "- 複雜操作的撤銷/重做功能\n",
    "- 工具使用的審計記錄\n",
    "\n",
    "### 觀察者模式\n",
    "- 工具執行監控\n",
    "- 性能指標收集\n",
    "- 錯誤報告和警示\n",
    "\n",
    "## 🚀 最佳實踐\n",
    "\n",
    "- **工具文檔**：清晰的描述以便代理理解\n",
    "- **輸入驗證**：強大的參數檢查和清理\n",
    "- **輸出格式化**：一致且可解析的工具回應\n",
    "- **錯誤信息**：有助於調試的錯誤信息\n",
    "- **性能**：優化工具執行以提高響應速度\n",
    "\n",
    "準備好使用強大的工具功能構建代理了嗎？讓我們一起創造驚人的成果吧！⚡\n"
   ]
  },
  {
   "cell_type": "code",
   "execution_count": null,
   "id": "59c0feeb",
   "metadata": {},
   "outputs": [],
   "source": [
    "! pip install agent-framework-core -U"
   ]
  },
  {
   "cell_type": "code",
   "execution_count": null,
   "id": "c0df8a52",
   "metadata": {},
   "outputs": [],
   "source": [
    "# � Import core dependencies for Agent Framework and tool integration\n",
    "# This sets up the essential libraries for building intelligent agents with tool capabilities\n",
    "\n",
    "import asyncio\n",
    "import os\n",
    "import json\n",
    "\n",
    "from dotenv import load_dotenv  # For loading environment variables securely\n",
    "from random import randint\n",
    "\n",
    "# These are the core components for building tool-enabled agents\n",
    "from agent_framework import ChatAgent           # Main agent class\n",
    "from agent_framework.openai import OpenAIChatClient  # OpenAI-compatible client"
   ]
  },
  {
   "cell_type": "code",
   "execution_count": null,
   "id": "24c10eb0",
   "metadata": {},
   "outputs": [],
   "source": [
    "load_dotenv()"
   ]
  },
  {
   "cell_type": "code",
   "execution_count": null,
   "id": "151e0314",
   "metadata": {},
   "outputs": [],
   "source": [
    "# 🔑 Environment variables verification\n",
    "# Ensure all required GitHub Models credentials are properly configured\n",
    "print(\"GITHUB_ENDPOINT:\", os.environ.get(\"GITHUB_ENDPOINT\"))\n",
    "print(\"GITHUB_TOKEN:\", \"***\" if os.environ.get(\"GITHUB_TOKEN\") else \"Not set\")\n",
    "print(\"GITHUB_MODEL_ID:\", os.environ.get(\"GITHUB_MODEL_ID\"))"
   ]
  },
  {
   "cell_type": "code",
   "execution_count": null,
   "id": "a6141584",
   "metadata": {},
   "outputs": [],
   "source": [
    "# 🧪 Test GitHub Models connectivity\n",
    "openai_chat_client = OpenAIChatClient(base_url=os.environ.get(\"GITHUB_ENDPOINT\"), api_key=os.environ.get(\"GITHUB_TOKEN\"), model_id=os.environ.get(\"GITHUB_MODEL_ID\"))"
   ]
  },
  {
   "cell_type": "code",
   "execution_count": null,
   "id": "a6507f83",
   "metadata": {},
   "outputs": [],
   "source": [
    "# 🛠️ Define travel planning tools for agent integration\n",
    "# These functions provide specific capabilities that the agent can invoke dynamically\n",
    "\n",
    "def get_random_destination() -> str:\n",
    "    \"\"\"\n",
    "    🎲 Random destination generator tool\n",
    "    Returns a randomly selected travel destination from curated list\n",
    "    Useful when customers need inspiration for their next vacation\n",
    "    \"\"\"\n",
    "    destinations = [\n",
    "        \"Paris, France\",\n",
    "        \"Tokyo, Japan\", \n",
    "        \"New York City, USA\",\n",
    "        \"London, England\",\n",
    "        \"Rome, Italy\",\n",
    "        \"Sydney, Australia\",\n",
    "        \"Dubai, UAE\",\n",
    "        \"Barcelona, Spain\",\n",
    "        \"Bangkok, Thailand\",\n",
    "        \"Amsterdam, Netherlands\",\n",
    "        \"Istanbul, Turkey\",\n",
    "        \"Prague, Czech Republic\",\n",
    "        \"Santorini, Greece\",\n",
    "        \"Reykjavik, Iceland\",\n",
    "        \"Marrakech, Morocco\",\n",
    "        \"Cape Town, South Africa\",\n",
    "        \"Rio de Janeiro, Brazil\",\n",
    "        \"Bali, Indonesia\"\n",
    "    ]\n",
    "    # 🎯 Return random selection from the curated destination list\n",
    "    return destinations[randint(0, len(destinations) - 1)]"
   ]
  },
  {
   "cell_type": "code",
   "execution_count": null,
   "id": "5d4f0568",
   "metadata": {},
   "outputs": [],
   "source": [
    "# 🔗 Initialize GitHub Models chat client for agent communication\n",
    "# Creates the primary interface between the agent and the language model\n",
    "openai_chat_client = OpenAIChatClient(base_url=os.environ.get(\"GITHUB_ENDPOINT\"), api_key=os.environ.get(\"GITHUB_TOKEN\"), model_id=os.environ.get(\"GITHUB_MODEL_ID\"))"
   ]
  },
  {
   "cell_type": "code",
   "execution_count": null,
   "id": "751668c5",
   "metadata": {},
   "outputs": [],
   "source": [
    "# 🤖 Configure travel agent identity and behavioral instructions\n",
    "# Define the agent's personality, capabilities, and operational guidelines\n",
    "\n",
    "AGENT_NAME = \"TravelAgent\"\n",
    "\n",
    "AGENT_INSTRUCTIONS = \"\"\"You are a helpful AI Agent that can help plan vacations for customers at random destinations\n",
    "\"\"\""
   ]
  },
  {
   "cell_type": "code",
   "execution_count": null,
   "id": "be18ac4f",
   "metadata": {},
   "outputs": [],
   "source": [
    "agent = ChatAgent(\n",
    "        name = AGENT_NAME,\n",
    "        chat_client=openai_chat_client,\n",
    "        instructions=AGENT_INSTRUCTIONS,\n",
    "        tools=[get_random_destination]\n",
    ")"
   ]
  },
  {
   "cell_type": "code",
   "execution_count": null,
   "id": "772e9481",
   "metadata": {},
   "outputs": [],
   "source": [
    "thread = agent.get_new_thread()"
   ]
  },
  {
   "cell_type": "code",
   "execution_count": null,
   "id": "a731b547",
   "metadata": {},
   "outputs": [],
   "source": [
    "response1 = await agent.run(\"Plan me a day trip\",thread= thread)"
   ]
  },
  {
   "cell_type": "code",
   "execution_count": null,
   "id": "7d3fe00a",
   "metadata": {},
   "outputs": [],
   "source": [
    "\n",
    "last_message = response1.messages[-1]\n",
    "text_content = last_message.contents[0].text\n",
    "print(\"Travel plan:\")\n",
    "print(text_content)"
   ]
  },
  {
   "cell_type": "markdown",
   "metadata": {},
   "source": [
    "\n---\n\n**免責聲明**：  \n本文件使用 AI 翻譯服務 [Co-op Translator](https://github.com/Azure/co-op-translator) 進行翻譯。儘管我們努力確保翻譯的準確性，但請注意，自動翻譯可能包含錯誤或不準確之處。原始文件的母語版本應被視為權威來源。對於關鍵信息，建議使用專業人工翻譯。我們對因使用此翻譯而引起的任何誤解或誤釋不承擔責任。\n"
   ]
  }
 ],
 "metadata": {
  "kernelspec": {
   "display_name": "agentenv",
   "language": "python",
   "name": "python3"
  },
  "language_info": {
   "codemirror_mode": {
    "name": "ipython",
    "version": 3
   },
   "file_extension": ".py",
   "mimetype": "text/x-python",
   "name": "python",
   "nbconvert_exporter": "python",
   "pygments_lexer": "ipython3",
   "version": "3.12.10"
  },
  "polyglot_notebook": {
   "kernelInfo": {
    "defaultKernelName": "csharp",
    "items": [
     {
      "aliases": [],
      "name": "csharp"
     }
    ]
   }
  },
  "coopTranslator": {
   "original_hash": "42966ddac53cebaf0ac1ce33b2ee7059",
   "translation_date": "2025-10-01T21:04:57+00:00",
   "source_file": "04-tool-use/code_samples/04-python-agent-framework.ipynb",
   "language_code": "tw"
  }
 },
 "nbformat": 4,
 "nbformat_minor": 5
}