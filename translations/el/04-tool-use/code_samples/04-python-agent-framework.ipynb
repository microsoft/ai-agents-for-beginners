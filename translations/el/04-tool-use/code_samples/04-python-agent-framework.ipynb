{
 "cells": [
  {
   "cell_type": "markdown",
   "id": "8744544f",
   "metadata": {},
   "source": [
    "# 🛠️ Προχωρημένη Χρήση Εργαλείων με Μοντέλα GitHub (Python)\n",
    "\n",
    "## 📋 Στόχοι Μάθησης\n",
    "\n",
    "Αυτό το σημειωματάριο παρουσιάζει προχωρημένα μοτίβα ενσωμάτωσης εργαλείων χρησιμοποιώντας το Microsoft Agent Framework με Μοντέλα GitHub. Θα μάθετε πώς να δημιουργείτε, να διαχειρίζεστε και να ενορχηστρώνετε πολλαπλά εργαλεία για να κατασκευάσετε προηγμένες δυνατότητες πρακτόρων.\n",
    "\n",
    "**Τι θα Μάθετε:**\n",
    "- 🔧 **Αρχιτεκτονική Πολλαπλών Εργαλείων**: Δημιουργία πρακτόρων με πολλαπλά εξειδικευμένα εργαλεία\n",
    "- 🎯 **Λογική Επιλογής Εργαλείων**: Πώς οι πράκτορες επιλέγουν το κατάλληλο εργαλείο για κάθε εργασία\n",
    "- 📊 **Εργαλεία Επεξεργασίας Δεδομένων**: Δημιουργία εργαλείων που χειρίζονται διαφορετικούς τύπους δεδομένων\n",
    "- 🔗 **Σύνθεση Εργαλείων**: Συνδυασμός εργαλείων για σύνθετες ροές εργασίας\n",
    "\n",
    "## 🎯 Βασικά Μοτίβα Εργαλείων\n",
    "\n",
    "### Αρχές Σχεδιασμού Εργαλείων\n",
    "- **Μοναδική Ευθύνη**: Κάθε εργαλείο έχει έναν σαφή, εστιασμένο σκοπό\n",
    "- **Ασφάλεια Τύπου**: Ισχυρή τυποποίηση για αξιόπιστη εκτέλεση εργαλείων\n",
    "- **Διαχείριση Σφαλμάτων**: Ομαλή αποτυχία και μοτίβα ανάκαμψης\n",
    "- **Συνθεσιμότητα**: Εργαλεία που συνεργάζονται καλά μεταξύ τους\n",
    "\n",
    "### Προχωρημένα Χαρακτηριστικά Εργαλείων\n",
    "- **Επίγνωση Πλαισίου**: Εργαλεία που κατανοούν το πλαίσιο της συνομιλίας\n",
    "- **Επικύρωση Δεδομένων**: Καθαρισμός εισόδου και επικύρωση εξόδου\n",
    "- **Βελτιστοποίηση Απόδοσης**: Αποτελεσματικά μοτίβα εκτέλεσης εργαλείων\n",
    "- **Επεκτασιμότητα**: Εύκολη προσθήκη νέων δυνατοτήτων εργαλείων\n",
    "\n",
    "## 🔧 Τεχνική Αρχιτεκτονική\n",
    "\n",
    "### Βασικά Συστατικά\n",
    "- **Microsoft Agent Framework**: Υλοποίηση Python με υποστήριξη προηγμένων εργαλείων\n",
    "- **Ενσωμάτωση Μοντέλων GitHub**: Πρόσβαση σε μοντέλα γλώσσας υψηλής απόδοσης\n",
    "- **Σύστημα Καταχώρησης Εργαλείων**: Οργανωμένη διαχείριση δυνατοτήτων πρακτόρων\n",
    "- **Μοτίβα Ανάκαμψης Σφαλμάτων**: Ανθεκτική διαχείριση αποτυχιών εκτέλεσης εργαλείων\n",
    "\n",
    "### Ροή Ενσωμάτωσης Εργαλείων\n",
    "```python\n",
    "User Request → Agent Analysis → Tool Selection → Tool Execution → Response Synthesis\n",
    "```\n",
    "\n",
    "## 🛠️ Κατηγορίες Εργαλείων που Παρουσιάζονται\n",
    "\n",
    "### 1. **Εργαλεία Δημιουργίας Δεδομένων**\n",
    "- Δημιουργός τυχαίων προορισμών\n",
    "- Παροχέας πληροφοριών καιρού  \n",
    "- Υπολογιστής κόστους ταξιδιού\n",
    "- Μηχανή προτάσεων δραστηριοτήτων\n",
    "\n",
    "### 2. **Εργαλεία Επεξεργασίας**\n",
    "- Μορφοποίηση και επικύρωση κειμένου\n",
    "- Εργαλεία μετασχηματισμού δεδομένων\n",
    "- Λειτουργίες ανάλυσης περιεχομένου\n",
    "- Εργαλεία βελτίωσης απαντήσεων\n",
    "\n",
    "### 3. **Εργαλεία Ενσωμάτωσης**\n",
    "- Συνδέσεις εξωτερικών API\n",
    "- Λειτουργίες συστήματος αρχείων\n",
    "- Διεπαφές ερωτημάτων βάσεων δεδομένων\n",
    "- Εργαλεία εξόρυξης δεδομένων από ιστό\n",
    "\n",
    "## ⚙️ Προαπαιτούμενα & Ρύθμιση\n",
    "\n",
    "\n",
    "**Απαιτούμενες Εξαρτήσεις:**\n",
    "```bash\n",
    "\n",
    "pip install agent-framework-core -U\n",
    "```\n",
    "\n",
    "**Ρύθμιση Περιβάλλοντος (.env αρχείο):**\n",
    "```env\n",
    "GITHUB_TOKEN=your_github_personal_access_token\n",
    "GITHUB_ENDPOINT=https://models.inference.ai.azure.com\n",
    "GITHUB_MODEL_ID=gpt-4o-mini\n",
    "```\n",
    "\n",
    "**Προαιρετικά APIs:**\n",
    "- Κλειδί API υπηρεσίας καιρού (για εργαλεία καιρού)\n",
    "- Πρόσβαση API μετατροπής νομισμάτων\n",
    "- Διαπιστευτήρια υπηρεσίας πληροφοριών ταξιδιού\n",
    "\n",
    "## 🎨 Μοτίβα Σχεδιασμού\n",
    "\n",
    "### Μοτίβο Εργοστασίου Εργαλείων\n",
    "- Κεντρική δημιουργία και διαμόρφωση εργαλείων\n",
    "- Συνεπής σχεδίαση διεπαφής εργαλείων\n",
    "- Εύκολη καταχώρηση και ανακάλυψη εργαλείων\n",
    "\n",
    "### Μοτίβο Εντολής\n",
    "- Ενσωματωμένη λογική εκτέλεσης εργαλείων\n",
    "- Λειτουργικότητα αναίρεσης/επανάληψης για σύνθετες λειτουργίες\n",
    "- Καταγραφή ελέγχου για χρήση εργαλείων\n",
    "\n",
    "### Μοτίβο Παρατηρητή\n",
    "- Παρακολούθηση εκτέλεσης εργαλείων\n",
    "- Συλλογή μετρήσεων απόδοσης\n",
    "- Αναφορά σφαλμάτων και ειδοποιήσεις\n",
    "\n",
    "## 🚀 Βέλτιστες Πρακτικές\n",
    "\n",
    "- **Τεκμηρίωση Εργαλείων**: Σαφείς περιγραφές για την κατανόηση από τον πράκτορα\n",
    "- **Επικύρωση Εισόδου**: Ισχυρός έλεγχος και καθαρισμός παραμέτρων\n",
    "- **Μορφοποίηση Εξόδου**: Συνεπείς, αναγνώσιμες απαντήσεις εργαλείων\n",
    "- **Μηνύματα Σφαλμάτων**: Χρήσιμες πληροφορίες σφαλμάτων για αποσφαλμάτωση\n",
    "- **Απόδοση**: Βελτιστοποιημένη εκτέλεση εργαλείων για γρήγορη ανταπόκριση\n",
    "\n",
    "Έτοιμοι να δημιουργήσετε πράκτορες με ισχυρές δυνατότητες εργαλείων; Ας φτιάξουμε κάτι εκπληκτικό! ⚡\n"
   ]
  },
  {
   "cell_type": "code",
   "execution_count": null,
   "id": "59c0feeb",
   "metadata": {},
   "outputs": [],
   "source": [
    "! pip install agent-framework-core -U"
   ]
  },
  {
   "cell_type": "code",
   "execution_count": null,
   "id": "c0df8a52",
   "metadata": {},
   "outputs": [],
   "source": [
    "# � Import core dependencies for Agent Framework and tool integration\n",
    "# This sets up the essential libraries for building intelligent agents with tool capabilities\n",
    "\n",
    "import asyncio\n",
    "import os\n",
    "import json\n",
    "\n",
    "from dotenv import load_dotenv  # For loading environment variables securely\n",
    "from random import randint\n",
    "\n",
    "# These are the core components for building tool-enabled agents\n",
    "from agent_framework import ChatAgent           # Main agent class\n",
    "from agent_framework.openai import OpenAIChatClient  # OpenAI-compatible client"
   ]
  },
  {
   "cell_type": "code",
   "execution_count": null,
   "id": "24c10eb0",
   "metadata": {},
   "outputs": [],
   "source": [
    "load_dotenv()"
   ]
  },
  {
   "cell_type": "code",
   "execution_count": null,
   "id": "151e0314",
   "metadata": {},
   "outputs": [],
   "source": [
    "# 🔑 Environment variables verification\n",
    "# Ensure all required GitHub Models credentials are properly configured\n",
    "print(\"GITHUB_ENDPOINT:\", os.environ.get(\"GITHUB_ENDPOINT\"))\n",
    "print(\"GITHUB_TOKEN:\", \"***\" if os.environ.get(\"GITHUB_TOKEN\") else \"Not set\")\n",
    "print(\"GITHUB_MODEL_ID:\", os.environ.get(\"GITHUB_MODEL_ID\"))"
   ]
  },
  {
   "cell_type": "code",
   "execution_count": null,
   "id": "a6141584",
   "metadata": {},
   "outputs": [],
   "source": [
    "# 🧪 Test GitHub Models connectivity\n",
    "openai_chat_client = OpenAIChatClient(base_url=os.environ.get(\"GITHUB_ENDPOINT\"), api_key=os.environ.get(\"GITHUB_TOKEN\"), model_id=os.environ.get(\"GITHUB_MODEL_ID\"))"
   ]
  },
  {
   "cell_type": "code",
   "execution_count": null,
   "id": "a6507f83",
   "metadata": {},
   "outputs": [],
   "source": [
    "# 🛠️ Define travel planning tools for agent integration\n",
    "# These functions provide specific capabilities that the agent can invoke dynamically\n",
    "\n",
    "def get_random_destination() -> str:\n",
    "    \"\"\"\n",
    "    🎲 Random destination generator tool\n",
    "    Returns a randomly selected travel destination from curated list\n",
    "    Useful when customers need inspiration for their next vacation\n",
    "    \"\"\"\n",
    "    destinations = [\n",
    "        \"Paris, France\",\n",
    "        \"Tokyo, Japan\", \n",
    "        \"New York City, USA\",\n",
    "        \"London, England\",\n",
    "        \"Rome, Italy\",\n",
    "        \"Sydney, Australia\",\n",
    "        \"Dubai, UAE\",\n",
    "        \"Barcelona, Spain\",\n",
    "        \"Bangkok, Thailand\",\n",
    "        \"Amsterdam, Netherlands\",\n",
    "        \"Istanbul, Turkey\",\n",
    "        \"Prague, Czech Republic\",\n",
    "        \"Santorini, Greece\",\n",
    "        \"Reykjavik, Iceland\",\n",
    "        \"Marrakech, Morocco\",\n",
    "        \"Cape Town, South Africa\",\n",
    "        \"Rio de Janeiro, Brazil\",\n",
    "        \"Bali, Indonesia\"\n",
    "    ]\n",
    "    # 🎯 Return random selection from the curated destination list\n",
    "    return destinations[randint(0, len(destinations) - 1)]"
   ]
  },
  {
   "cell_type": "code",
   "execution_count": null,
   "id": "5d4f0568",
   "metadata": {},
   "outputs": [],
   "source": [
    "# 🔗 Initialize GitHub Models chat client for agent communication\n",
    "# Creates the primary interface between the agent and the language model\n",
    "openai_chat_client = OpenAIChatClient(base_url=os.environ.get(\"GITHUB_ENDPOINT\"), api_key=os.environ.get(\"GITHUB_TOKEN\"), model_id=os.environ.get(\"GITHUB_MODEL_ID\"))"
   ]
  },
  {
   "cell_type": "code",
   "execution_count": null,
   "id": "751668c5",
   "metadata": {},
   "outputs": [],
   "source": [
    "# 🤖 Configure travel agent identity and behavioral instructions\n",
    "# Define the agent's personality, capabilities, and operational guidelines\n",
    "\n",
    "AGENT_NAME = \"TravelAgent\"\n",
    "\n",
    "AGENT_INSTRUCTIONS = \"\"\"You are a helpful AI Agent that can help plan vacations for customers at random destinations\n",
    "\"\"\""
   ]
  },
  {
   "cell_type": "code",
   "execution_count": null,
   "id": "be18ac4f",
   "metadata": {},
   "outputs": [],
   "source": [
    "agent = ChatAgent(\n",
    "        name = AGENT_NAME,\n",
    "        chat_client=openai_chat_client,\n",
    "        instructions=AGENT_INSTRUCTIONS,\n",
    "        tools=[get_random_destination]\n",
    ")"
   ]
  },
  {
   "cell_type": "code",
   "execution_count": null,
   "id": "772e9481",
   "metadata": {},
   "outputs": [],
   "source": [
    "thread = agent.get_new_thread()"
   ]
  },
  {
   "cell_type": "code",
   "execution_count": null,
   "id": "a731b547",
   "metadata": {},
   "outputs": [],
   "source": [
    "response1 = await agent.run(\"Plan me a day trip\",thread= thread)"
   ]
  },
  {
   "cell_type": "code",
   "execution_count": null,
   "id": "7d3fe00a",
   "metadata": {},
   "outputs": [],
   "source": [
    "\n",
    "last_message = response1.messages[-1]\n",
    "text_content = last_message.contents[0].text\n",
    "print(\"Travel plan:\")\n",
    "print(text_content)"
   ]
  },
  {
   "cell_type": "markdown",
   "metadata": {},
   "source": [
    "\n---\n\n**Αποποίηση ευθύνης**:  \nΑυτό το έγγραφο έχει μεταφραστεί χρησιμοποιώντας την υπηρεσία μετάφρασης AI [Co-op Translator](https://github.com/Azure/co-op-translator). Παρόλο που καταβάλλουμε προσπάθειες για ακρίβεια, παρακαλούμε να έχετε υπόψη ότι οι αυτοματοποιημένες μεταφράσεις ενδέχεται να περιέχουν σφάλματα ή ανακρίβειες. Το πρωτότυπο έγγραφο στη μητρική του γλώσσα θα πρέπει να θεωρείται η αυθεντική πηγή. Για κρίσιμες πληροφορίες, συνιστάται επαγγελματική ανθρώπινη μετάφραση. Δεν φέρουμε ευθύνη για τυχόν παρεξηγήσεις ή εσφαλμένες ερμηνείες που προκύπτουν από τη χρήση αυτής της μετάφρασης.\n"
   ]
  }
 ],
 "metadata": {
  "kernelspec": {
   "display_name": "agentenv",
   "language": "python",
   "name": "python3"
  },
  "language_info": {
   "codemirror_mode": {
    "name": "ipython",
    "version": 3
   },
   "file_extension": ".py",
   "mimetype": "text/x-python",
   "name": "python",
   "nbconvert_exporter": "python",
   "pygments_lexer": "ipython3",
   "version": "3.12.10"
  },
  "polyglot_notebook": {
   "kernelInfo": {
    "defaultKernelName": "csharp",
    "items": [
     {
      "aliases": [],
      "name": "csharp"
     }
    ]
   }
  },
  "coopTranslator": {
   "original_hash": "42966ddac53cebaf0ac1ce33b2ee7059",
   "translation_date": "2025-10-02T16:08:09+00:00",
   "source_file": "04-tool-use/code_samples/04-python-agent-framework.ipynb",
   "language_code": "el"
  }
 },
 "nbformat": 4,
 "nbformat_minor": 5
}