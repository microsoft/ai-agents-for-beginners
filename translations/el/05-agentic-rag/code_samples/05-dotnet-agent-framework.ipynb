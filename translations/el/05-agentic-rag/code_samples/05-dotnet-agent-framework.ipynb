{
 "cells": [
  {
   "cell_type": "markdown",
   "id": "44b5899e",
   "metadata": {},
   "source": [
    "# 🔍 Επιχειρηματικό RAG με Azure AI Foundry (.NET)\n",
    "\n",
    "## 📋 Στόχοι Μάθησης\n",
    "\n",
    "Αυτό το σημειωματάριο δείχνει πώς να δημιουργήσετε συστήματα Retrieval-Augmented Generation (RAG) επιχειρηματικής κλάσης χρησιμοποιώντας το Microsoft Agent Framework σε .NET με το Azure AI Foundry. Θα μάθετε να δημιουργείτε πράκτορες έτοιμους για παραγωγή που μπορούν να αναζητούν έγγραφα και να παρέχουν ακριβείς, προσαρμοσμένες απαντήσεις με ασφάλεια και κλιμακωσιμότητα για επιχειρήσεις.\n",
    "\n",
    "**Δυνατότητες Επιχειρηματικού RAG που θα Δημιουργήσετε:**\n",
    "- 📚 **Ευφυΐα Εγγράφων**: Προηγμένη επεξεργασία εγγράφων με τις υπηρεσίες Azure AI\n",
    "- 🔍 **Σημασιολογική Αναζήτηση**: Υψηλής απόδοσης αναζήτηση με χαρακτηριστικά για επιχειρήσεις\n",
    "- 🛡️ **Ενσωμάτωση Ασφαλείας**: Πρόσβαση βάσει ρόλων και πρότυπα προστασίας δεδομένων\n",
    "- 🏢 **Κλιμακούμενη Αρχιτεκτονική**: Συστήματα RAG έτοιμα για παραγωγή με παρακολούθηση\n",
    "\n",
    "## 🎯 Αρχιτεκτονική Επιχειρηματικού RAG\n",
    "\n",
    "### Βασικά Στοιχεία Επιχειρηματικής Κλάσης\n",
    "- **Azure AI Foundry**: Διαχειριζόμενη πλατφόρμα AI για επιχειρήσεις με ασφάλεια και συμμόρφωση\n",
    "- **Μόνιμοι Πράκτορες**: Πράκτορες με διατήρηση ιστορικού συνομιλιών και διαχείριση πλαισίου\n",
    "- **Διαχείριση Vector Store**: Επαγγελματική ευρετηρίαση και ανάκτηση εγγράφων\n",
    "- **Ενσωμάτωση Ταυτότητας**: Πιστοποίηση Azure AD και έλεγχος πρόσβασης βάσει ρόλων\n",
    "\n",
    "### Πλεονεκτήματα .NET για Επιχειρήσεις\n",
    "- **Ασφάλεια Τύπων**: Επικύρωση κατά τη μεταγλώττιση για λειτουργίες RAG και δομές δεδομένων\n",
    "- **Απόδοση Async**: Μη μπλοκαριστική επεξεργασία εγγράφων και λειτουργίες αναζήτησης\n",
    "- **Διαχείριση Μνήμης**: Αποδοτική χρήση πόρων για μεγάλες συλλογές εγγράφων\n",
    "- **Πρότυπα Ενσωμάτωσης**: Εγγενής ενσωμάτωση υπηρεσιών Azure με dependency injection\n",
    "\n",
    "## 🏗️ Τεχνική Αρχιτεκτονική\n",
    "\n",
    "### Pipeline Επιχειρηματικού RAG\n",
    "```csharp\n",
    "Document Upload → Security Validation → Vector Processing → Index Creation\n",
    "                      ↓                    ↓                  ↓\n",
    "User Query → Authentication → Semantic Search → Context Ranking → AI Response\n",
    "```\n",
    "\n",
    "### Βασικά Στοιχεία .NET\n",
    "- **Azure.AI.Agents.Persistent**: Διαχείριση πρακτόρων με διατήρηση κατάστασης\n",
    "- **Azure.Identity**: Ενσωματωμένη πιστοποίηση για ασφαλή πρόσβαση στις υπηρεσίες Azure\n",
    "- **Microsoft.Agents.AI.AzureAI**: Υλοποίηση πλαισίου πρακτόρων βελτιστοποιημένη για Azure\n",
    "- **System.Linq.Async**: Υψηλής απόδοσης ασύγχρονες λειτουργίες LINQ\n",
    "\n",
    "## 🔧 Δυνατότητες & Πλεονεκτήματα Επιχειρηματικής Κλάσης\n",
    "\n",
    "### Ασφάλεια & Συμμόρφωση\n",
    "- **Ενσωμάτωση Azure AD**: Διαχείριση ταυτότητας και πιστοποίησης για επιχειρήσεις\n",
    "- **Πρόσβαση Βάσει Ρόλων**: Λεπτομερής έλεγχος δικαιωμάτων για πρόσβαση σε έγγραφα και λειτουργίες\n",
    "- **Προστασία Δεδομένων**: Κρυπτογράφηση σε κατάσταση ηρεμίας και κατά τη μεταφορά για ευαίσθητα έγγραφα\n",
    "- **Καταγραφή Ελέγχου**: Πλήρης παρακολούθηση δραστηριοτήτων για απαιτήσεις συμμόρφωσης\n",
    "\n",
    "### Απόδοση & Κλιμακωσιμότητα\n",
    "- **Διαχείριση Συνδέσεων**: Αποδοτική διαχείριση συνδέσεων υπηρεσιών Azure\n",
    "- **Ασύγχρονη Επεξεργασία**: Μη μπλοκαριστικές λειτουργίες για σενάρια υψηλής απόδοσης\n",
    "- **Στρατηγικές Caching**: Έξυπνη προσωρινή αποθήκευση για συχνά προσπελάσιμα έγγραφα\n",
    "- **Εξισορρόπηση Φορτίου**: Κατανεμημένη επεξεργασία για μεγάλης κλίμακας εγκαταστάσεις\n",
    "\n",
    "### Διαχείριση & Παρακολούθηση\n",
    "- **Έλεγχοι Υγείας**: Ενσωματωμένη παρακολούθηση για στοιχεία συστήματος RAG\n",
    "- **Μετρήσεις Απόδοσης**: Λεπτομερής ανάλυση ποιότητας αναζήτησης και χρόνων απόκρισης\n",
    "- **Διαχείριση Σφαλμάτων**: Πλήρης διαχείριση εξαιρέσεων με πολιτικές επαναπροσπάθειας\n",
    "- **Διαχείριση Ρυθμίσεων**: Ρυθμίσεις ανά περιβάλλον με επικύρωση\n",
    "\n",
    "## ⚙️ Προαπαιτούμενα & Ρύθμιση\n",
    "\n",
    "**Περιβάλλον Ανάπτυξης:**\n",
    "- .NET 9.0 SDK ή νεότερο\n",
    "- Visual Studio 2022 ή VS Code με επέκταση C#\n",
    "- Συνδρομή Azure με πρόσβαση στο AI Foundry\n",
    "\n",
    "**Απαιτούμενα Πακέτα NuGet:**\n",
    "```xml\n",
    "<PackageReference Include=\"Microsoft.Extensions.AI\" Version=\"9.9.0\" />\n",
    "<PackageReference Include=\"Azure.AI.Agents.Persistent\" Version=\"1.2.0-beta.5\" />\n",
    "<PackageReference Include=\"Azure.Identity\" Version=\"1.15.0\" />\n",
    "<PackageReference Include=\"System.Linq.Async\" Version=\"6.0.3\" />\n",
    "<PackageReference Include=\"DotNetEnv\" Version=\"3.1.1\" />\n",
    "```\n",
    "\n",
    "**Ρύθμιση Πιστοποίησης Azure:**\n",
    "```bash\n",
    "# Install Azure CLI and authenticate\n",
    "az login\n",
    "az account set --subscription \"your-subscription-id\"\n",
    "```\n",
    "\n",
    "**Ρύθμιση Περιβάλλοντος (.env αρχείο):**\n",
    "```env\n",
    "# Azure AI Foundry configuration (automatically handled via Azure CLI)\n",
    "# Ensure you're authenticated to the correct Azure subscription\n",
    "```\n",
    "\n",
    "## 📊 Πρότυπα Επιχειρηματικού RAG\n",
    "\n",
    "### Πρότυπα Διαχείρισης Εγγράφων\n",
    "- **Μαζική Μεταφόρτωση**: Αποδοτική επεξεργασία μεγάλων συλλογών εγγράφων\n",
    "- **Σταδιακές Ενημερώσεις**: Προσθήκη και τροποποίηση εγγράφων σε πραγματικό χρόνο\n",
    "- **Έλεγχος Εκδόσεων**: Έκδοση εγγράφων και παρακολούθηση αλλαγών\n",
    "- **Διαχείριση Μεταδεδομένων**: Πλούσια χαρακτηριστικά εγγράφων και ταξινομία\n",
    "\n",
    "### Πρότυπα Αναζήτησης & Ανάκτησης\n",
    "- **Υβριδική Αναζήτηση**: Συνδυασμός σημασιολογικής και αναζήτησης λέξεων-κλειδιών για βέλτιστα αποτελέσματα\n",
    "- **Αναζήτηση με Όψεις**: Φιλτράρισμα και κατηγοριοποίηση πολλών διαστάσεων\n",
    "- **Ρύθμιση Σχετικότητας**: Προσαρμοσμένοι αλγόριθμοι βαθμολόγησης για ειδικές ανάγκες\n",
    "- **Κατάταξη Αποτελεσμάτων**: Προηγμένη κατάταξη με ενσωμάτωση επιχειρηματικής λογικής\n",
    "\n",
    "### Πρότυπα Ασφαλείας\n",
    "- **Ασφάλεια σε Επίπεδο Εγγράφου**: Λεπτομερής έλεγχος πρόσβασης ανά έγγραφο\n",
    "- **Ταξινόμηση Δεδομένων**: Αυτόματη επισήμανση ευαισθησίας και προστασία\n",
    "- **Καταγραφή Ελέγχου**: Πλήρης καταγραφή όλων των λειτουργιών RAG\n",
    "- **Προστασία Ιδιωτικότητας**: Ανίχνευση και απόκρυψη προσωπικών δεδομένων (PII)\n",
    "\n",
    "## 🔒 Δυνατότητες Ασφαλείας για Επιχειρήσεις\n",
    "\n",
    "### Πιστοποίηση & Εξουσιοδότηση\n",
    "```csharp\n",
    "// Azure AD integrated authentication\n",
    "var credential = new AzureCliCredential();\n",
    "var agentsClient = new PersistentAgentsClient(endpoint, credential);\n",
    "\n",
    "// Role-based access validation\n",
    "if (!await ValidateUserPermissions(user, documentId))\n",
    "{\n",
    "    throw new UnauthorizedAccessException(\"Insufficient permissions\");\n",
    "}\n",
    "```\n",
    "\n",
    "### Προστασία Δεδομένων\n",
    "- **Κρυπτογράφηση**: Κρυπτογράφηση από άκρο σε άκρο για έγγραφα και ευρετήρια αναζήτησης\n",
    "- **Έλεγχοι Πρόσβασης**: Ενσωμάτωση με Azure AD για δικαιώματα χρηστών και ομάδων\n",
    "- **Τοποθεσία Δεδομένων**: Γεωγραφικός έλεγχος τοποθεσίας δεδομένων για συμμόρφωση\n",
    "- **Αντίγραφα Ασφαλείας & Ανάκτηση**: Αυτοματοποιημένα αντίγραφα ασφαλείας και δυνατότητες ανάκτησης\n",
    "\n",
    "## 📈 Βελτιστοποίηση Απόδοσης\n",
    "\n",
    "### Πρότυπα Ασύγχρονης Επεξεργασίας\n",
    "```csharp\n",
    "// Efficient async document processing\n",
    "await foreach (var document in documentStream.AsAsyncEnumerable())\n",
    "{\n",
    "    await ProcessDocumentAsync(document, cancellationToken);\n",
    "}\n",
    "```\n",
    "\n",
    "### Διαχείριση Μνήμης\n",
    "- **Ροή Επεξεργασίας**: Επεξεργασία μεγάλων εγγράφων χωρίς προβλήματα μνήμης\n",
    "- **Δεξαμενές Πόρων**: Αποδοτική επαναχρησιμοποίηση ακριβών πόρων\n",
    "- **Συλλογή Αχρήστων**: Βελτιστοποιημένα πρότυπα κατανομής μνήμης\n",
    "- **Διαχείριση Συνδέσεων**: Σωστή διάρκεια ζωής συνδέσεων υπηρεσιών Azure\n",
    "\n",
    "### Στρατηγικές Caching\n",
    "- **Caching Ερωτημάτων**: Προσωρινή αποθήκευση συχνά εκτελούμενων αναζητήσεων\n",
    "- **Caching Εγγράφων**: Προσωρινή αποθήκευση στη μνήμη για \"καυτά\" έγγραφα\n",
    "- **Caching Ευρετηρίων**: Βελτιστοποιημένη προσωρινή αποθήκευση ευρετηρίων vector\n",
    "- **Caching Αποτελεσμάτων**: Έξυπνη προσωρινή αποθήκευση παραγόμενων απαντήσεων\n",
    "\n",
    "## 📊 Επιχειρηματικές Χρήσεις\n",
    "\n",
    "### Διαχείριση Γνώσης\n",
    "- **Εταιρική Wiki**: Έξυπνη αναζήτηση σε βάσεις γνώσεων της εταιρείας\n",
    "- **Πολιτικές & Διαδικασίες**: Αυτοματοποιημένη καθοδήγηση συμμόρφωσης και διαδικασιών\n",
    "- **Εκπαιδευτικό Υλικό**: Έξυπνη βοήθεια μάθησης και ανάπτυξης\n",
    "- **Βάσεις Δεδομένων Έρευνας**: Συστήματα ανάλυσης ακαδημαϊκών και ερευνητικών εγγράφων\n",
    "\n",
    "### Υποστήριξη Πελατών\n",
    "- **Βάση Γνώσεων Υποστήριξης**: Αυτοματοποιημένες απαντήσεις εξυπηρέτησης πελατών\n",
    "- **Τεκμηρίωση Προϊόντων**: Έξυπνη ανάκτηση πληροφοριών προϊόντων\n",
    "- **Οδηγοί Αντιμετώπισης Προβλημάτων**: Βοήθεια επίλυσης προβλημάτων με βάση το πλαίσιο\n",
    "- **Συστήματα FAQ**: Δυναμική δημιουργία FAQ από συλλογές εγγράφων\n",
    "\n",
    "### Συμμόρφωση Κανονισμών\n",
    "- **Ανάλυση Νομικών Εγγράφων**: Ευφυΐα σε συμβόλαια και νομικά έγγραφα\n",
    "- **Παρακολούθηση Συμμόρφωσης**: Αυτοματοποιημένος έλεγχος συμμόρφωσης κανονισμών\n",
    "- **Αξιολόγηση Κινδύνου**: Ανάλυση και αναφορά κινδύνων βάσει εγγράφων\n",
    "- **Υποστήριξη Ελέγχων**: Έξυπνη ανακάλυψη εγγράφων για ελέγχους\n",
    "\n",
    "## 🚀 Εγκατάσταση σε Παραγωγή\n",
    "\n",
    "### Παρακολούθηση & Παρατηρησιμότητα\n",
    "- **Application Insights**: Λεπτομερής τηλεμετρία και παρακολούθηση απόδοσης\n",
    "- **Προσαρμοσμένες Μετρήσεις**: Παρακολούθηση και ειδοποίηση KPI ειδικών για την επιχείρηση\n",
    "- **Κατανεμημένη Ιχνηλάτηση**: Παρακολούθηση αιτημάτων από άκρο σε άκρο μεταξύ υπηρεσιών\n",
    "- **Πίνακες Υγείας**: Οπτικοποίηση υγείας και απόδοσης συστήματος σε πραγματικό χρόνο\n",
    "\n",
    "### Κλιμακωσιμότητα & Αξιοπιστία\n",
    "- **Αυτόματη Κλιμάκωση**: Αυτόματη κλιμάκωση βάσει φορτίου και μετρήσεων απόδοσης\n",
    "- **Υψηλή Διαθεσιμότητα**: Εγκατάσταση σε πολλαπλές περιοχές με δυνατότητες failover\n",
    "- **Δοκιμές Φορτίου**: Επικύρωση απόδοσης υπό συνθήκες επιχειρηματικού φορτίου\n",
    "- **Ανάκτηση από Καταστροφή**: Αυτοματοποιημένες διαδικασίες αντιγράφων ασφαλείας και ανάκτησης\n",
    "\n",
    "Έτοιμοι να δημιουργήσετε συστήματα RAG επιχειρηματικής κλάσης που μπορούν να χειριστούν ευαίσθητα έγγραφα σε μεγάλη κλίμακα; Ας σχεδιάσουμε ευφυή συστήματα γνώσης για επιχειρήσεις! 🏢📖✨\n"
   ]
  },
  {
   "cell_type": "code",
   "execution_count": 1,
   "metadata": {
    "language_info": {
     "name": "polyglot-notebook"
    },
    "polyglot_notebook": {
     "kernelName": "csharp"
    }
   },
   "outputs": [
    {
     "data": {
      "text/html": [
       "<div><div></div><div></div><div><strong>Installed Packages</strong><ul><li><span>Microsoft.Extensions.AI, 9.9.1</span></li></ul></div></div>"
      ]
     },
     "metadata": {},
     "output_type": "display_data"
    }
   ],
   "source": [
    "#r \"nuget: Microsoft.Extensions.AI, 9.9.1\""
   ]
  },
  {
   "cell_type": "code",
   "execution_count": 2,
   "id": "4ec1f0d1",
   "metadata": {
    "language_info": {
     "name": "polyglot-notebook"
    },
    "polyglot_notebook": {
     "kernelName": "csharp"
    }
   },
   "outputs": [
    {
     "data": {
      "text/html": [
       "<div><div></div><div></div><div><strong>Installed Packages</strong><ul><li><span>Azure.AI.Agents.Persistent, 1.2.0-beta.5</span></li><li><span>Azure.Identity, 1.15.0</span></li><li><span>System.Linq.Async, 6.0.3</span></li></ul></div></div>"
      ]
     },
     "metadata": {},
     "output_type": "display_data"
    }
   ],
   "source": [
    "#r \"nuget: Azure.AI.Agents.Persistent, 1.2.0-beta.5\"\n",
    "#r \"nuget: Azure.Identity, 1.15.0\"\n",
    "#r \"nuget: System.Linq.Async, 6.0.3\""
   ]
  },
  {
   "cell_type": "code",
   "execution_count": 3,
   "id": "2363ae07",
   "metadata": {
    "language_info": {
     "name": "polyglot-notebook"
    },
    "polyglot_notebook": {
     "kernelName": "csharp"
    }
   },
   "outputs": [],
   "source": []
  },
  {
   "cell_type": "code",
   "execution_count": null,
   "id": "d10cec9d",
   "metadata": {
    "language_info": {
     "name": "polyglot-notebook"
    },
    "polyglot_notebook": {
     "kernelName": "csharp"
    }
   },
   "outputs": [
    {
     "data": {
      "text/html": [
       "<div><div></div><div></div><div><strong>Installed Packages</strong><ul><li><span>Microsoft.Agents.AI.AzureAI, 1.0.0-preview.251001.2</span></li></ul></div></div>"
      ]
     },
     "metadata": {},
     "output_type": "display_data"
    }
   ],
   "source": [
    "#r \"nuget: Microsoft.Agents.AI.AzureAI, 1.0.0-preview.251001.3\""
   ]
  },
  {
   "cell_type": "code",
   "execution_count": null,
   "id": "78199d1c",
   "metadata": {
    "language_info": {
     "name": "polyglot-notebook"
    },
    "polyglot_notebook": {
     "kernelName": "csharp"
    }
   },
   "outputs": [
    {
     "data": {
      "text/html": [
       "<div><div></div><div></div><div><strong>Installed Packages</strong><ul><li><span>microsoft.agents.ai, 1.0.0-preview.251001.2</span></li></ul></div></div>"
      ]
     },
     "metadata": {},
     "output_type": "display_data"
    }
   ],
   "source": [
    "#r \"nuget: Microsoft.Agents.AI, 1.0.0-preview.251001.3\""
   ]
  },
  {
   "cell_type": "code",
   "execution_count": 6,
   "id": "7de4684a",
   "metadata": {
    "language_info": {
     "name": "polyglot-notebook"
    },
    "polyglot_notebook": {
     "kernelName": "csharp"
    }
   },
   "outputs": [
    {
     "data": {
      "text/html": [
       "<div><div></div><div></div><div><strong>Installed Packages</strong><ul><li><span>DotNetEnv, 3.1.1</span></li></ul></div></div>"
      ]
     },
     "metadata": {},
     "output_type": "display_data"
    }
   ],
   "source": [
    "#r \"nuget: DotNetEnv, 3.1.1\""
   ]
  },
  {
   "cell_type": "code",
   "execution_count": 7,
   "id": "251efd31",
   "metadata": {
    "language_info": {
     "name": "polyglot-notebook"
    },
    "polyglot_notebook": {
     "kernelName": "csharp"
    }
   },
   "outputs": [],
   "source": [
    "using System;\n",
    "using System.Linq;\n",
    "using Azure.AI.Agents.Persistent;\n",
    "using Azure.Identity;\n",
    "using Microsoft.Agents.AI;"
   ]
  },
  {
   "cell_type": "code",
   "execution_count": 8,
   "id": "a2e342f1",
   "metadata": {
    "language_info": {
     "name": "polyglot-notebook"
    },
    "polyglot_notebook": {
     "kernelName": "csharp"
    }
   },
   "outputs": [],
   "source": [
    " using DotNetEnv;"
   ]
  },
  {
   "cell_type": "code",
   "execution_count": 9,
   "id": "a7a01653",
   "metadata": {
    "language_info": {
     "name": "polyglot-notebook"
    },
    "polyglot_notebook": {
     "kernelName": "csharp"
    }
   },
   "outputs": [],
   "source": [
    "Env.Load(\"../../../.env\");"
   ]
  },
  {
   "cell_type": "code",
   "execution_count": 10,
   "id": "a42735d5",
   "metadata": {
    "language_info": {
     "name": "polyglot-notebook"
    },
    "polyglot_notebook": {
     "kernelName": "csharp"
    }
   },
   "outputs": [],
   "source": [
    "var azure_foundry_endpoint = Environment.GetEnvironmentVariable(\"AZURE_AI_PROJECT_ENDPOINT\") ?? throw new InvalidOperationException(\"AZURE_AI_PROJECT_ENDPOINT is not set.\");\n",
    "var azure_foundry_model_id = Environment.GetEnvironmentVariable(\"AZURE_AI_MODEL_DEPLOYMENT_NAME\") ?? \"gpt-4.1-mini\";"
   ]
  },
  {
   "cell_type": "code",
   "execution_count": 11,
   "id": "e29bdb58",
   "metadata": {
    "language_info": {
     "name": "polyglot-notebook"
    },
    "polyglot_notebook": {
     "kernelName": "csharp"
    }
   },
   "outputs": [],
   "source": [
    "string pdfPath = \"./document.md\";"
   ]
  },
  {
   "cell_type": "code",
   "execution_count": 12,
   "id": "7351e12d",
   "metadata": {
    "language_info": {
     "name": "polyglot-notebook"
    },
    "polyglot_notebook": {
     "kernelName": "csharp"
    }
   },
   "outputs": [],
   "source": [
    "using System.IO;\n",
    "\n",
    "async Task<Stream> OpenImageStreamAsync(string path)\n",
    "{\n",
    "\treturn await Task.Run(() => File.OpenRead(path));\n",
    "}\n",
    "\n",
    "var pdfStream = await OpenImageStreamAsync(pdfPath);"
   ]
  },
  {
   "cell_type": "code",
   "execution_count": 13,
   "id": "0b6bf484",
   "metadata": {
    "language_info": {
     "name": "polyglot-notebook"
    },
    "polyglot_notebook": {
     "kernelName": "csharp"
    }
   },
   "outputs": [],
   "source": [
    "var persistentAgentsClient = new PersistentAgentsClient(azure_foundry_endpoint, new AzureCliCredential());"
   ]
  },
  {
   "cell_type": "code",
   "execution_count": 14,
   "id": "81e0dddc",
   "metadata": {
    "language_info": {
     "name": "polyglot-notebook"
    },
    "polyglot_notebook": {
     "kernelName": "csharp"
    }
   },
   "outputs": [],
   "source": [
    "PersistentAgentFileInfo fileInfo = await persistentAgentsClient.Files.UploadFileAsync(pdfStream, PersistentAgentFilePurpose.Agents, \"demo.md\");"
   ]
  },
  {
   "cell_type": "code",
   "execution_count": 15,
   "id": "f0c75d80",
   "metadata": {
    "language_info": {
     "name": "polyglot-notebook"
    },
    "polyglot_notebook": {
     "kernelName": "csharp"
    }
   },
   "outputs": [],
   "source": [
    "PersistentAgentsVectorStore fileStore =\n",
    "            await persistentAgentsClient.VectorStores.CreateVectorStoreAsync(\n",
    "                [fileInfo.Id],\n",
    "                metadata: new Dictionary<string, string>() { { \"agentkey\", bool.TrueString } });"
   ]
  },
  {
   "cell_type": "code",
   "execution_count": 16,
   "id": "c77986c5",
   "metadata": {
    "language_info": {
     "name": "polyglot-notebook"
    },
    "polyglot_notebook": {
     "kernelName": "csharp"
    }
   },
   "outputs": [],
   "source": [
    "PersistentAgent agentModel = await persistentAgentsClient.Administration.CreateAgentAsync(\n",
    "            azure_foundry_model_id,\n",
    "            name: \"DotNetRAGAgent\",\n",
    "            tools: [new FileSearchToolDefinition()],\n",
    "            instructions: \"\"\"\n",
    "                You are an AI assistant designed to answer user questions using only the information retrieved from the provided document(s).\n",
    "\n",
    "                - If a user's question cannot be answered using the retrieved context, **you must clearly respond**: \n",
    "                \"I'm sorry, but the uploaded document does not contain the necessary information to answer that question.\"\n",
    "                - Do not answer from general knowledge or reasoning. Do not make assumptions or generate hypothetical explanations.\n",
    "                - Do not provide definitions, tutorials, or commentary that is not explicitly grounded in the content of the uploaded file(s).\n",
    "                - If a user asks a question like \"What is a Neural Network?\", and this is not discussed in the uploaded document, respond as instructed above.\n",
    "                - For questions that do have relevant content in the document (e.g., Contoso's travel insurance coverage), respond accurately, and cite the document explicitly.\n",
    "\n",
    "                You must behave as if you have no external knowledge beyond what is retrieved from the uploaded document.\n",
    "                \"\"\",\n",
    "            toolResources: new()\n",
    "            {\n",
    "                FileSearch = new()\n",
    "                {\n",
    "                    VectorStoreIds = { fileStore.Id },\n",
    "                }\n",
    "            },\n",
    "            metadata: new Dictionary<string, string>() { { \"agentkey\", bool.TrueString } });"
   ]
  },
  {
   "cell_type": "code",
   "execution_count": 17,
   "id": "282326cf",
   "metadata": {
    "language_info": {
     "name": "polyglot-notebook"
    },
    "polyglot_notebook": {
     "kernelName": "csharp"
    }
   },
   "outputs": [],
   "source": [
    "AIAgent agent = await persistentAgentsClient.GetAIAgentAsync(agentModel.Id);"
   ]
  },
  {
   "cell_type": "code",
   "execution_count": 18,
   "id": "2067d313",
   "metadata": {
    "language_info": {
     "name": "polyglot-notebook"
    },
    "polyglot_notebook": {
     "kernelName": "csharp"
    }
   },
   "outputs": [],
   "source": [
    "AgentThread thread = agent.GetNewThread();"
   ]
  },
  {
   "cell_type": "code",
   "execution_count": 19,
   "id": "454c4230",
   "metadata": {
    "language_info": {
     "name": "polyglot-notebook"
    },
    "polyglot_notebook": {
     "kernelName": "csharp"
    }
   },
   "outputs": [
    {
     "name": "stdout",
     "output_type": "stream",
     "text": [
      "Contoso's travel insurance coverage includes protection for medical emergencies, trip cancellations, and lost baggage. This ensures that travelers are supported in case of health-related issues during their trip, unforeseen cancellations, and the loss of their belongings while traveling【4:0†demo.md】.\r\n"
     ]
    }
   ],
   "source": [
    "Console.WriteLine(await agent.RunAsync(\"Can you explain Contoso's travel insurance coverage?\", thread));"
   ]
  },
  {
   "cell_type": "markdown",
   "metadata": {},
   "source": [
    "\n---\n\n**Αποποίηση ευθύνης**:  \nΑυτό το έγγραφο έχει μεταφραστεί χρησιμοποιώντας την υπηρεσία αυτόματης μετάφρασης [Co-op Translator](https://github.com/Azure/co-op-translator). Παρόλο που καταβάλλουμε προσπάθειες για ακρίβεια, παρακαλούμε να έχετε υπόψη ότι οι αυτόματες μεταφράσεις ενδέχεται να περιέχουν σφάλματα ή ανακρίβειες. Το πρωτότυπο έγγραφο στη μητρική του γλώσσα θα πρέπει να θεωρείται η αυθεντική πηγή. Για κρίσιμες πληροφορίες, συνιστάται επαγγελματική ανθρώπινη μετάφραση. Δεν φέρουμε ευθύνη για τυχόν παρεξηγήσεις ή εσφαλμένες ερμηνείες που προκύπτουν από τη χρήση αυτής της μετάφρασης.\n"
   ]
  }
 ],
 "metadata": {
  "kernelspec": {
   "display_name": ".NET (C#)",
   "language": "C#",
   "name": ".net-csharp"
  },
  "language_info": {
   "name": "polyglot-notebook"
  },
  "polyglot_notebook": {
   "kernelInfo": {
    "defaultKernelName": "csharp",
    "items": [
     {
      "aliases": [],
      "name": "csharp"
     }
    ]
   }
  },
  "coopTranslator": {
   "original_hash": "e4584fa31638009dc6fb665275de8fc2",
   "translation_date": "2025-10-02T15:46:13+00:00",
   "source_file": "05-agentic-rag/code_samples/05-dotnet-agent-framework.ipynb",
   "language_code": "el"
  }
 },
 "nbformat": 4,
 "nbformat_minor": 5
}