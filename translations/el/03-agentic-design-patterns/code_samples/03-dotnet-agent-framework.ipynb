{
 "cells": [
  {
   "cell_type": "markdown",
   "id": "d6058fa4",
   "metadata": {},
   "source": [
    "# 🎨 Σχεδιαστικά Πρότυπα Πρακτόρων με Μοντέλα GitHub (.NET)\n",
    "\n",
    "## 📋 Στόχοι Μάθησης\n",
    "\n",
    "Αυτό το σημειωματάριο παρουσιάζει σχεδιαστικά πρότυπα επιπέδου επιχείρησης για τη δημιουργία έξυπνων πρακτόρων χρησιμοποιώντας το Microsoft Agent Framework στο .NET με ενσωμάτωση Μοντέλων GitHub. Θα μάθετε επαγγελματικά πρότυπα και αρχιτεκτονικές προσεγγίσεις που καθιστούν τους πράκτορες έτοιμους για παραγωγή, εύκολους στη συντήρηση και επεκτάσιμους.\n",
    "\n",
    "**Σχεδιαστικά Πρότυπα Επιπέδου Επιχείρησης:**\n",
    "- 🏭 **Πρότυπο Εργοστασίου**: Τυποποιημένη δημιουργία πρακτόρων με injection εξαρτήσεων\n",
    "- 🔧 **Πρότυπο Κατασκευαστή**: Ευέλικτη διαμόρφωση και ρύθμιση πρακτόρων\n",
    "- 🧵 **Πρότυπα Ασφαλή για Νήματα**: Διαχείριση συνομιλιών με ταυτόχρονη εκτέλεση\n",
    "- 📋 **Πρότυπο Αποθετηρίου**: Οργανωμένη διαχείριση εργαλείων και δυνατοτήτων\n",
    "\n",
    "## 🎯 Αρχιτεκτονικά Οφέλη του .NET\n",
    "\n",
    "### Χαρακτηριστικά Επιπέδου Επιχείρησης\n",
    "- **Ισχυρή Τυποποίηση**: Επικύρωση κατά τη μεταγλώττιση και υποστήριξη IntelliSense\n",
    "- **Injection Εξαρτήσεων**: Ενσωμάτωση ενσωματωμένου DI container\n",
    "- **Διαχείριση Ρυθμίσεων**: Πρότυπα IConfiguration και Options\n",
    "- **Async/Await**: Υποστήριξη ασύγχρονου προγραμματισμού πρώτης τάξης\n",
    "\n",
    "### Πρότυπα Έτοιμα για Παραγωγή\n",
    "- **Ενσωμάτωση Καταγραφής**: Υποστήριξη ILogger και δομημένης καταγραφής\n",
    "- **Έλεγχοι Υγείας**: Ενσωματωμένη παρακολούθηση και διαγνωστικά\n",
    "- **Επικύρωση Ρυθμίσεων**: Ισχυρή τυποποίηση με σχολιασμούς δεδομένων\n",
    "- **Διαχείριση Σφαλμάτων**: Δομημένη διαχείριση εξαιρέσεων\n",
    "\n",
    "## 🔧 Τεχνική Αρχιτεκτονική\n",
    "\n",
    "### Βασικά Στοιχεία του .NET\n",
    "- **Microsoft.Extensions.AI**: Ενιαίες αφαιρέσεις υπηρεσιών AI\n",
    "- **Microsoft.Agents.AI**: Πλαίσιο οργάνωσης πρακτόρων επιπέδου επιχείρησης\n",
    "- **Ενσωμάτωση Μοντέλων GitHub**: Πρότυπα API πελάτη υψηλής απόδοσης\n",
    "- **Σύστημα Ρυθμίσεων**: Ενσωμάτωση appsettings.json και περιβάλλοντος\n",
    "\n",
    "### Υλοποίηση Σχεδιαστικών Προτύπων\n",
    "```csharp\n",
    "IServiceCollection → Agent Builder → Configuration → Tool Registry → AI Agent\n",
    "```\n",
    "\n",
    "## 🏗️ Επιδεικνυόμενα Πρότυπα Επιπέδου Επιχείρησης\n",
    "\n",
    "### 1. **Πρότυπα Δημιουργίας**\n",
    "- **Εργοστάσιο Πρακτόρων**: Κεντρική δημιουργία πρακτόρων με συνεπή διαμόρφωση\n",
    "- **Πρότυπο Κατασκευαστή**: Ευέλικτο API για σύνθετη διαμόρφωση πρακτόρων\n",
    "- **Πρότυπο Μοναδικού Αντικειμένου**: Διαχείριση κοινών πόρων και ρυθμίσεων\n",
    "- **Injection Εξαρτήσεων**: Χαλαρή σύζευξη και δυνατότητα δοκιμών\n",
    "\n",
    "### 2. **Πρότυπα Συμπεριφοράς**\n",
    "- **Πρότυπο Στρατηγικής**: Εναλλάξιμες στρατηγικές εκτέλεσης εργαλείων\n",
    "- **Πρότυπο Εντολής**: Ενθυλακωμένες λειτουργίες πρακτόρων με undo/redo\n",
    "- **Πρότυπο Παρατηρητή**: Διαχείριση κύκλου ζωής πρακτόρων με βάση γεγονότα\n",
    "- **Πρότυπο Μεθόδου Προτύπου**: Τυποποιημένες ροές εργασίας εκτέλεσης πρακτόρων\n",
    "\n",
    "### 3. **Δομικά Πρότυπα**\n",
    "- **Πρότυπο Προσαρμογέα**: Επίπεδο ενσωμάτωσης API Μοντέλων GitHub\n",
    "- **Πρότυπο Διακοσμητή**: Ενίσχυση δυνατοτήτων πρακτόρων\n",
    "- **Πρότυπο Πρόσοψης**: Απλοποιημένες διεπαφές αλληλεπίδρασης πρακτόρων\n",
    "- **Πρότυπο Αντιπροσώπου**: Lazy loading και caching για απόδοση\n",
    "\n",
    "## ⚙️ Προαπαιτούμενα & Ρύθμιση\n",
    "\n",
    "**Περιβάλλον Ανάπτυξης:**\n",
    "- .NET 9.0 SDK ή νεότερο\n",
    "- Visual Studio 2022 ή VS Code με επέκταση C#\n",
    "- Πρόσβαση στο API Μοντέλων GitHub\n",
    "\n",
    "**Εξαρτήσεις NuGet:**\n",
    "```xml\n",
    "<PackageReference Include=\"Microsoft.Extensions.AI\" Version=\"9.9.0\" />\n",
    "<PackageReference Include=\"Microsoft.Extensions.AI.OpenAI\" Version=\"9.9.0-preview.1.25458.4\" />\n",
    "<PackageReference Include=\"DotNetEnv\" Version=\"3.1.1\" />\n",
    "```\n",
    "\n",
    "**Ρύθμιση (.env αρχείο):**\n",
    "```env\n",
    "GITHUB_TOKEN=your_github_personal_access_token\n",
    "GITHUB_ENDPOINT=https://models.inference.ai.azure.com\n",
    "GITHUB_MODEL_ID=gpt-4o-mini\n",
    "```\n",
    "\n",
    "## 📚 Αρχές Σχεδιασμού του .NET\n",
    "\n",
    "### Αρχές SOLID\n",
    "- **Μοναδική Ευθύνη**: Κάθε στοιχείο έχει έναν σαφή σκοπό\n",
    "- **Ανοιχτό/Κλειστό**: Επεκτάσιμο χωρίς τροποποίηση\n",
    "- **Υποκατάσταση Liskov**: Υλοποιήσεις εργαλείων βασισμένες σε διεπαφές\n",
    "- **Διαχωρισμός Διεπαφών**: Εστιασμένες, συνεκτικές διεπαφές\n",
    "- **Αντιστροφή Εξαρτήσεων**: Εξάρτηση από αφαιρέσεις, όχι από συγκεκριμένα αντικείμενα\n",
    "\n",
    "### Καθαρή Αρχιτεκτονική\n",
    "- **Επίπεδο Τομέα**: Βασικές αφαιρέσεις πρακτόρων και εργαλείων\n",
    "- **Επίπεδο Εφαρμογής**: Οργάνωση πρακτόρων και ροές εργασίας\n",
    "- **Επίπεδο Υποδομής**: Ενσωμάτωση Μοντέλων GitHub και εξωτερικών υπηρεσιών\n",
    "- **Επίπεδο Παρουσίασης**: Αλληλεπίδραση χρήστη και μορφοποίηση απαντήσεων\n",
    "\n",
    "## 🔒 Επιχειρησιακές Σκέψεις\n",
    "\n",
    "### Ασφάλεια\n",
    "- **Διαχείριση Διαπιστευτηρίων**: Ασφαλής χειρισμός κλειδιών API με IConfiguration\n",
    "- **Επικύρωση Εισόδου**: Ισχυρή τυποποίηση και επικύρωση σχολιασμών δεδομένων\n",
    "- **Καθαρισμός Εξόδου**: Ασφαλής επεξεργασία και φιλτράρισμα απαντήσεων\n",
    "- **Καταγραφή Ελέγχου**: Συνολική παρακολούθηση λειτουργιών\n",
    "\n",
    "### Απόδοση\n",
    "- **Πρότυπα Async**: Μη μπλοκαρισμένες λειτουργίες I/O\n",
    "- **Pooling Συνδέσεων**: Αποτελεσματική διαχείριση HTTP πελάτη\n",
    "- **Caching**: Κρυφή μνήμη απαντήσεων για βελτιωμένη απόδοση\n",
    "- **Διαχείριση Πόρων**: Σωστή διάθεση και καθαρισμός πόρων\n",
    "\n",
    "### Επεκτασιμότητα\n",
    "- **Ασφάλεια Νημάτων**: Υποστήριξη ταυτόχρονης εκτέλεσης πρακτόρων\n",
    "- **Pooling Πόρων**: Αποτελεσματική χρήση πόρων\n",
    "- **Διαχείριση Φορτίου**: Περιορισμός ρυθμού και χειρισμός πίεσης\n",
    "- **Παρακολούθηση**: Μετρήσεις απόδοσης και έλεγχοι υγείας\n",
    "\n",
    "## 🚀 Ανάπτυξη σε Παραγωγή\n",
    "\n",
    "- **Διαχείριση Ρυθμίσεων**: Ρυθμίσεις ειδικές για το περιβάλλον\n",
    "- **Στρατηγική Καταγραφής**: Δομημένη καταγραφή με αναγνωριστικά συσχέτισης\n",
    "- **Διαχείριση Σφαλμάτων**: Παγκόσμια διαχείριση εξαιρέσεων με σωστή ανάκτηση\n",
    "- **Παρακολούθηση**: Application insights και μετρητές απόδοσης\n",
    "- **Δοκιμές**: Πρότυπα μονάδων, ολοκλήρωσης και δοκιμών φορτίου\n",
    "\n",
    "Έτοιμοι να δημιουργήσετε έξυπνους πράκτορες επιπέδου επιχείρησης με .NET; Ας σχεδιάσουμε κάτι ισχυρό! 🏢✨\n"
   ]
  },
  {
   "cell_type": "code",
   "execution_count": 1,
   "id": "2770ac5c",
   "metadata": {
    "language_info": {
     "name": "polyglot-notebook"
    },
    "polyglot_notebook": {
     "kernelName": "csharp"
    }
   },
   "outputs": [
    {
     "data": {
      "text/html": [
       "<div><div></div><div></div><div><strong>Installed Packages</strong><ul><li><span>Microsoft.Extensions.AI, 9.9.1</span></li></ul></div></div>"
      ]
     },
     "metadata": {},
     "output_type": "display_data"
    }
   ],
   "source": [
    "#r \"nuget: Microsoft.Extensions.AI, 9.9.1\""
   ]
  },
  {
   "cell_type": "code",
   "execution_count": null,
   "id": "984ff6cd",
   "metadata": {
    "language_info": {
     "name": "polyglot-notebook"
    },
    "polyglot_notebook": {
     "kernelName": "csharp"
    }
   },
   "outputs": [
    {
     "data": {
      "text/html": [
       "<div><div></div><div></div><div><strong>Installed Packages</strong><ul><li><span>Microsoft.Agents.AI.OpenAI, 1.0.0-preview.251001.2</span></li></ul></div></div>"
      ]
     },
     "metadata": {},
     "output_type": "display_data"
    }
   ],
   "source": [
    "#r \"nuget: Microsoft.Agents.AI.OpenAI, 1.0.0-preview.251001.3\""
   ]
  },
  {
   "cell_type": "code",
   "execution_count": null,
   "id": "0ab71360",
   "metadata": {
    "language_info": {
     "name": "polyglot-notebook"
    },
    "polyglot_notebook": {
     "kernelName": "csharp"
    }
   },
   "outputs": [
    {
     "data": {
      "text/html": [
       "<div><div></div><div></div><div><strong>Installed Packages</strong><ul><li><span>microsoft.agents.ai, 1.0.0-preview.251001.2</span></li></ul></div></div>"
      ]
     },
     "metadata": {},
     "output_type": "display_data"
    }
   ],
   "source": [
    "\n",
    "\n",
    "#r \"nuget: Microsoft.Agents.AI, 1.0.0-preview.251001.3\""
   ]
  },
  {
   "cell_type": "code",
   "execution_count": 4,
   "id": "4ab7b15d",
   "metadata": {
    "language_info": {
     "name": "polyglot-notebook"
    },
    "polyglot_notebook": {
     "kernelName": "csharp"
    }
   },
   "outputs": [],
   "source": [
    "// #r \"nuget: Microsoft.Extensions.AI.OpenAI, 9.9.0-preview.1.25458.4\""
   ]
  },
  {
   "cell_type": "code",
   "execution_count": 5,
   "id": "3fa8aa21",
   "metadata": {
    "language_info": {
     "name": "polyglot-notebook"
    },
    "polyglot_notebook": {
     "kernelName": "csharp"
    }
   },
   "outputs": [
    {
     "data": {
      "text/html": [
       "<div><div></div><div></div><div><strong>Installed Packages</strong><ul><li><span>DotNetEnv, 3.1.1</span></li></ul></div></div>"
      ]
     },
     "metadata": {},
     "output_type": "display_data"
    }
   ],
   "source": [
    "#r \"nuget: DotNetEnv, 3.1.1\""
   ]
  },
  {
   "cell_type": "code",
   "execution_count": 6,
   "id": "fc8ee8ea",
   "metadata": {
    "language_info": {
     "name": "polyglot-notebook"
    },
    "polyglot_notebook": {
     "kernelName": "csharp"
    }
   },
   "outputs": [],
   "source": [
    "using System;\n",
    "using System.ComponentModel;\n",
    "using System.ClientModel;\n",
    "\n",
    "using Microsoft.Extensions.AI;\n",
    "using Microsoft.Agents.AI;\n",
    "using OpenAI;"
   ]
  },
  {
   "cell_type": "code",
   "execution_count": 7,
   "id": "699b1c83",
   "metadata": {
    "language_info": {
     "name": "polyglot-notebook"
    },
    "polyglot_notebook": {
     "kernelName": "csharp"
    }
   },
   "outputs": [],
   "source": [
    " using DotNetEnv;"
   ]
  },
  {
   "cell_type": "code",
   "execution_count": 8,
   "id": "daa649a0",
   "metadata": {
    "language_info": {
     "name": "polyglot-notebook"
    },
    "polyglot_notebook": {
     "kernelName": "csharp"
    }
   },
   "outputs": [],
   "source": [
    "Env.Load(\"../../../.env\");"
   ]
  },
  {
   "cell_type": "code",
   "execution_count": 9,
   "id": "29661a90",
   "metadata": {
    "language_info": {
     "name": "polyglot-notebook"
    },
    "polyglot_notebook": {
     "kernelName": "csharp"
    }
   },
   "outputs": [],
   "source": [
    "[Description(\"Provides a random vacation destination.\")]\n",
    "static string GetRandomDestination()\n",
    "{\n",
    "    var destinations = new List<string>\n",
    "    {\n",
    "        \"Paris, France\",\n",
    "        \"Tokyo, Japan\",\n",
    "        \"New York City, USA\",\n",
    "        \"Sydney, Australia\",\n",
    "        \"Rome, Italy\",\n",
    "        \"Barcelona, Spain\",\n",
    "        \"Cape Town, South Africa\",\n",
    "        \"Rio de Janeiro, Brazil\",\n",
    "        \"Bangkok, Thailand\",\n",
    "        \"Vancouver, Canada\"\n",
    "    };\n",
    "\n",
    "    var random = new Random();\n",
    "    int index = random.Next(destinations.Count);\n",
    "    return destinations[index];\n",
    "}"
   ]
  },
  {
   "cell_type": "code",
   "execution_count": 10,
   "id": "d2ed1f8b",
   "metadata": {
    "language_info": {
     "name": "polyglot-notebook"
    },
    "polyglot_notebook": {
     "kernelName": "csharp"
    }
   },
   "outputs": [],
   "source": [
    "var github_endpoint = Environment.GetEnvironmentVariable(\"GITHUB_ENDPOINT\") ?? throw new InvalidOperationException(\"GITHUB_ENDPOINT is not set.\");\n",
    "var github_model_id = Environment.GetEnvironmentVariable(\"GITHUB_MODEL_ID\") ?? \"gpt-4o-mini\";\n",
    "var github_token = Environment.GetEnvironmentVariable(\"GITHUB_TOKEN\") ?? throw new InvalidOperationException(\"GITHUB_TOKEN is not set.\");"
   ]
  },
  {
   "cell_type": "code",
   "execution_count": 11,
   "id": "c36c73e1",
   "metadata": {
    "language_info": {
     "name": "polyglot-notebook"
    },
    "polyglot_notebook": {
     "kernelName": "csharp"
    }
   },
   "outputs": [],
   "source": [
    "var openAIOptions = new OpenAIClientOptions()\n",
    "{\n",
    "    Endpoint= new Uri(github_endpoint)\n",
    "};"
   ]
  },
  {
   "cell_type": "code",
   "execution_count": 12,
   "id": "6d94ff10",
   "metadata": {
    "language_info": {
     "name": "polyglot-notebook"
    },
    "polyglot_notebook": {
     "kernelName": "csharp"
    }
   },
   "outputs": [],
   "source": [
    "\n",
    "var openAIClient = new OpenAIClient(new ApiKeyCredential(github_token), openAIOptions);"
   ]
  },
  {
   "cell_type": "code",
   "execution_count": 13,
   "id": "fe32b57a",
   "metadata": {
    "language_info": {
     "name": "polyglot-notebook"
    },
    "polyglot_notebook": {
     "kernelName": "csharp"
    }
   },
   "outputs": [],
   "source": [
    "AIAgent agent = new OpenAIClient(new ApiKeyCredential(github_token), openAIOptions).GetChatClient(github_model_id).CreateAIAgent(\n",
    "    instructions:\"You are a helpful AI Agent that can help plan vacations for customers at random destinations\", tools: [AIFunctionFactory.Create((Func<string>)GetRandomDestination)]);"
   ]
  },
  {
   "cell_type": "code",
   "execution_count": 14,
   "metadata": {
    "language_info": {
     "name": "polyglot-notebook"
    },
    "polyglot_notebook": {
     "kernelName": "csharp"
    }
   },
   "outputs": [],
   "source": [
    "AgentThread thread = agent.GetNewThread();"
   ]
  },
  {
   "cell_type": "code",
   "execution_count": 15,
   "id": "5e455aff",
   "metadata": {
    "language_info": {
     "name": "polyglot-notebook"
    },
    "polyglot_notebook": {
     "kernelName": "csharp"
    }
   },
   "outputs": [
    {
     "name": "stdout",
     "output_type": "stream",
     "text": [
      "How about a day trip to Vancouver, Canada? Here's a suggested itinerary for your day:\n",
      "\n",
      "### Morning\n",
      "- **Breakfast at a Local Cafe**: Start your day with a delicious breakfast at a cozy café like **Jam Cafe** or **Cafe Medina**.\n",
      "- **Stanley Park**: After breakfast, head to Stanley Park. You can rent a bike and ride along the seawall, enjoying beautiful views of the city and the water.\n",
      "\n",
      "### Afternoon\n",
      "- **Lunch in Gastown**: Make your way to Gastown for lunch. Try a local favorite like **The Flying Pig** or **Noodle Box**.\n",
      "- **Explore Gastown**: After lunch, walk around Gastown to see the iconic Steam Clock and browse the unique shops and boutiques.\n",
      "\n",
      "### Late Afternoon\n",
      "- **Granville Island**: Visit Granville Island, where you can stroll through the public market, sample local foods, and enjoy artisan shops.\n",
      "- **False Creek**: Take a walk along False Creek and enjoy the waterfront views.\n",
      "\n",
      "### Evening\n",
      "- **Dinner at a Waterfront Restaurant**: End your day with dinner at a waterfront restaurant like **The Boathouse** or **Lift Bar Grill View** for great food and a view of the sunset.\n",
      "- **Optional: Sunset Cruise**: If you're up for it, consider taking a sunset cruise for a different perspective of the city.\n",
      "\n",
      "### Tips\n",
      "- Make sure to check the weather beforehand!\n",
      "- Consider public transport or ride-sharing to navigate the city easily.\n",
      "\n",
      "Enjoy your day trip to Vancouver!\r\n"
     ]
    }
   ],
   "source": [
    "Console.WriteLine(await agent.RunAsync(\"Plan me a day trip\",thread));"
   ]
  },
  {
   "cell_type": "code",
   "execution_count": 16,
   "id": "592ae1bb",
   "metadata": {
    "language_info": {
     "name": "polyglot-notebook"
    },
    "polyglot_notebook": {
     "kernelName": "csharp"
    }
   },
   "outputs": [
    {
     "name": "stdout",
     "output_type": "stream",
     "text": [
      "How about a vacation to New York City, USA? Here's a suggested itinerary for your trip:\n",
      "\n",
      "### Day 1: Arrival in New York City\n",
      "- **Check-In**: Arrive and check in to your hotel.\n",
      "- **Central Park**: Take a leisurely stroll through Central Park. Consider renting a bike or taking a carriage ride.\n",
      "- **Evening**: Enjoy dinner at a classic NYC restaurant, such as **Katz's Delicatessen** or **Carbone**.\n",
      "\n",
      "### Day 2: Iconic Landmarks\n",
      "- **Morning**: Breakfast at a local diner.\n",
      "- **Statue of Liberty & Ellis Island**: Take a ferry to visit these iconic landmarks.\n",
      "- **Afternoon**: Explore Wall Street and visit the 9/11 Memorial & Museum.\n",
      "- **Evening**: Dinner in the Financial District followed by a walk across the Brooklyn Bridge at sunset.\n",
      "\n",
      "### Day 3: Culture and Arts\n",
      "- **Morning**: Visit The Metropolitan Museum of Art (The Met) and spend a few hours exploring its vast collection.\n",
      "- **Afternoon**: Head to Times Square for lunch and the buzz of the city.\n",
      "- **Broadway Show**: Catch a Broadway show in the evening. Be sure to book tickets in advance!\n",
      "\n",
      "### Day 4: Explore Neighborhoods\n",
      "- **Morning**: Head to SoHo for brunch and shopping in its chic boutiques.\n",
      "- **Afternoon**: Explore Greenwich Village, known for its bohemian atmosphere and history.\n",
      "- **Evening**: Enjoy dinner in the West Village, perhaps at **Buvette** or **Minetta Tavern**.\n",
      "\n",
      "### Day 5: Departure\n",
      "- **Last-minute Shopping**: Spend your last morning shopping at Fifth Avenue or head to Chelsea Market for food and souvenirs.\n",
      "- **Check-Out**: Depart for your journey home.\n",
      "\n",
      "### Tips\n",
      "- Utilize the subway for efficient travel around the city.\n",
      "- Make reservations for popular restaurants and attractions ahead of time!\n",
      "\n",
      "Enjoy your trip to New York City!\r\n"
     ]
    }
   ],
   "source": [
    "Console.WriteLine(await agent.RunAsync(\"I don't like that destination. Plan me another vacation.\",thread));"
   ]
  },
  {
   "cell_type": "markdown",
   "metadata": {},
   "source": [
    "\n---\n\n**Αποποίηση ευθύνης**:  \nΑυτό το έγγραφο έχει μεταφραστεί χρησιμοποιώντας την υπηρεσία αυτόματης μετάφρασης [Co-op Translator](https://github.com/Azure/co-op-translator). Παρόλο που καταβάλλουμε προσπάθειες για ακρίβεια, παρακαλούμε να έχετε υπόψη ότι οι αυτοματοποιημένες μεταφράσεις ενδέχεται να περιέχουν λάθη ή ανακρίβειες. Το πρωτότυπο έγγραφο στη μητρική του γλώσσα θα πρέπει να θεωρείται η αυθεντική πηγή. Για κρίσιμες πληροφορίες, συνιστάται επαγγελματική ανθρώπινη μετάφραση. Δεν φέρουμε ευθύνη για τυχόν παρεξηγήσεις ή εσφαλμένες ερμηνείες που προκύπτουν από τη χρήση αυτής της μετάφρασης.\n"
   ]
  }
 ],
 "metadata": {
  "kernelspec": {
   "display_name": ".NET (C#)",
   "language": "C#",
   "name": ".net-csharp"
  },
  "language_info": {
   "name": "polyglot-notebook"
  },
  "polyglot_notebook": {
   "kernelInfo": {
    "defaultKernelName": "csharp",
    "items": [
     {
      "aliases": [],
      "name": "csharp"
     }
    ]
   }
  },
  "coopTranslator": {
   "original_hash": "070c1d8985b3dc6e6d977f3e891037f1",
   "translation_date": "2025-10-02T16:15:52+00:00",
   "source_file": "03-agentic-design-patterns/code_samples/03-dotnet-agent-framework.ipynb",
   "language_code": "el"
  }
 },
 "nbformat": 4,
 "nbformat_minor": 5
}