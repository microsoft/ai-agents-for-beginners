{
 "cells": [
  {
   "cell_type": "markdown",
   "id": "44b5899e",
   "metadata": {},
   "source": [
    "# 🔍 RAG ארגוני עם Azure AI Foundry (.NET)\n",
    "\n",
    "## 📋 מטרות למידה\n",
    "\n",
    "המדריך הזה מדגים כיצד לבנות מערכות RAG (Retrieval-Augmented Generation) ברמה ארגונית באמצעות Microsoft Agent Framework ב-.NET עם Azure AI Foundry. תלמדו ליצור סוכנים מוכנים לייצור שיכולים לחפש במסמכים ולספק תשובות מדויקות ומודעות להקשר עם אבטחה ויכולת הרחבה ארגונית.\n",
    "\n",
    "**יכולות RAG ארגוניות שתבנו:**\n",
    "- 📚 **אינטליגנציה למסמכים**: עיבוד מסמכים מתקדם עם שירותי Azure AI\n",
    "- 🔍 **חיפוש סמנטי**: חיפוש וקטורי בעל ביצועים גבוהים עם תכונות ארגוניות\n",
    "- 🛡️ **אינטגרציית אבטחה**: גישה מבוססת תפקידים ודפוסי הגנה על נתונים\n",
    "- 🏢 **ארכיטקטורה ניתנת להרחבה**: מערכות RAG מוכנות לייצור עם ניטור\n",
    "\n",
    "## 🎯 ארכיטקטורת RAG ארגונית\n",
    "\n",
    "### רכיבים ארגוניים מרכזיים\n",
    "- **Azure AI Foundry**: פלטפורמת AI מנוהלת עם אבטחה וציות ארגוני\n",
    "- **סוכנים מתמשכים**: סוכנים עם היסטוריית שיחה וניהול הקשר\n",
    "- **ניהול חנות וקטורים**: אינדוקס ושליפה של מסמכים ברמה ארגונית\n",
    "- **אינטגרציית זהות**: אימות Azure AD ובקרת גישה מבוססת תפקידים\n",
    "\n",
    "### יתרונות .NET ארגוניים\n",
    "- **בטיחות סוגים**: אימות בזמן קומפילציה לפעולות RAG ומבני נתונים\n",
    "- **ביצועים אסינכרוניים**: עיבוד מסמכים וחיפושים ללא חסימה\n",
    "- **ניהול זיכרון**: ניצול משאבים יעיל עבור אוספי מסמכים גדולים\n",
    "- **דפוסי אינטגרציה**: אינטגרציה טבעית עם שירותי Azure באמצעות הזרקת תלות\n",
    "\n",
    "## 🏗️ ארכיטקטורה טכנית\n",
    "\n",
    "### צינור RAG ארגוני\n",
    "```csharp\n",
    "Document Upload → Security Validation → Vector Processing → Index Creation\n",
    "                      ↓                    ↓                  ↓\n",
    "User Query → Authentication → Semantic Search → Context Ranking → AI Response\n",
    "```\n",
    "\n",
    "### רכיבי .NET מרכזיים\n",
    "- **Azure.AI.Agents.Persistent**: ניהול סוכנים ארגוניים עם שימור מצב\n",
    "- **Azure.Identity**: אימות משולב לגישה מאובטחת לשירותי Azure\n",
    "- **Microsoft.Agents.AI.AzureAI**: יישום מסגרת סוכנים מותאם ל-Azure\n",
    "- **System.Linq.Async**: פעולות LINQ אסינכרוניות בעלות ביצועים גבוהים\n",
    "\n",
    "## 🔧 תכונות ויתרונות ארגוניים\n",
    "\n",
    "### אבטחה וציות\n",
    "- **אינטגרציית Azure AD**: ניהול זהות ואימות ארגוני\n",
    "- **גישה מבוססת תפקידים**: הרשאות מדויקות לגישה למסמכים ולפעולות\n",
    "- **הגנת נתונים**: הצפנה במנוחה ובמעבר עבור מסמכים רגישים\n",
    "- **רישום ביקורת**: מעקב פעילות מקיף לדרישות ציות\n",
    "\n",
    "### ביצועים ויכולת הרחבה\n",
    "- **Pooling חיבורים**: ניהול יעיל של חיבורי שירותי Azure\n",
    "- **עיבוד אסינכרוני**: פעולות ללא חסימה לתרחישים בעלי תפוקה גבוהה\n",
    "- **אסטרטגיות מטמון**: מטמון חכם למסמכים שניגשים אליהם לעיתים קרובות\n",
    "- **איזון עומסים**: עיבוד מבוזר לפריסות בקנה מידה גדול\n",
    "\n",
    "### ניהול וניטור\n",
    "- **בדיקות בריאות**: ניטור מובנה לרכיבי מערכת RAG\n",
    "- **מדדי ביצועים**: ניתוח מפורט על איכות החיפוש וזמני תגובה\n",
    "- **טיפול בשגיאות**: ניהול חריגים מקיף עם מדיניות ניסיונות חוזרים\n",
    "- **ניהול תצורה**: הגדרות ספציפיות לסביבה עם אימות\n",
    "\n",
    "## ⚙️ דרישות והגדרות\n",
    "\n",
    "**סביבת פיתוח:**\n",
    "- .NET 9.0 SDK או גרסה גבוהה יותר\n",
    "- Visual Studio 2022 או VS Code עם הרחבת C#\n",
    "- מנוי Azure עם גישה ל-AI Foundry\n",
    "\n",
    "**חבילות NuGet נדרשות:**\n",
    "```xml\n",
    "<PackageReference Include=\"Microsoft.Extensions.AI\" Version=\"9.9.0\" />\n",
    "<PackageReference Include=\"Azure.AI.Agents.Persistent\" Version=\"1.2.0-beta.5\" />\n",
    "<PackageReference Include=\"Azure.Identity\" Version=\"1.15.0\" />\n",
    "<PackageReference Include=\"System.Linq.Async\" Version=\"6.0.3\" />\n",
    "<PackageReference Include=\"DotNetEnv\" Version=\"3.1.1\" />\n",
    "```\n",
    "\n",
    "**הגדרת אימות Azure:**\n",
    "```bash\n",
    "# Install Azure CLI and authenticate\n",
    "az login\n",
    "az account set --subscription \"your-subscription-id\"\n",
    "```\n",
    "\n",
    "**תצורת סביבה (קובץ .env):**\n",
    "```env\n",
    "# Azure AI Foundry configuration (automatically handled via Azure CLI)\n",
    "# Ensure you're authenticated to the correct Azure subscription\n",
    "```\n",
    "\n",
    "## 📊 דפוסי RAG ארגוניים\n",
    "\n",
    "### דפוסי ניהול מסמכים\n",
    "- **העלאה בכמות גדולה**: עיבוד יעיל של אוספי מסמכים גדולים\n",
    "- **עדכונים הדרגתיים**: הוספה ושינוי מסמכים בזמן אמת\n",
    "- **שליטה בגרסאות**: גרסאות מסמכים ומעקב אחר שינויים\n",
    "- **ניהול מטא-נתונים**: תכונות עשירות למסמכים וטקסונומיה\n",
    "\n",
    "### דפוסי חיפוש ושליפה\n",
    "- **חיפוש היברידי**: שילוב חיפוש סמנטי ומילות מפתח לתוצאות מיטביות\n",
    "- **חיפוש ממוקד**: סינון וריבוד רב-ממדי\n",
    "- **כיוונון רלוונטיות**: אלגוריתמי ניקוד מותאמים לצרכים ספציפיים\n",
    "- **דירוג תוצאות**: דירוג מתקדם עם אינטגרציה של לוגיקה עסקית\n",
    "\n",
    "### דפוסי אבטחה\n",
    "- **אבטחה ברמת המסמך**: בקרת גישה מדויקת לכל מסמך\n",
    "- **סיווג נתונים**: תיוג אוטומטי של רגישות והגנה\n",
    "- **רישומי ביקורת**: רישום מקיף של כל פעולות RAG\n",
    "- **הגנת פרטיות**: זיהוי והסתרת מידע אישי (PII)\n",
    "\n",
    "## 🔒 תכונות אבטחה ארגוניות\n",
    "\n",
    "### אימות והרשאה\n",
    "```csharp\n",
    "// Azure AD integrated authentication\n",
    "var credential = new AzureCliCredential();\n",
    "var agentsClient = new PersistentAgentsClient(endpoint, credential);\n",
    "\n",
    "// Role-based access validation\n",
    "if (!await ValidateUserPermissions(user, documentId))\n",
    "{\n",
    "    throw new UnauthorizedAccessException(\"Insufficient permissions\");\n",
    "}\n",
    "```\n",
    "\n",
    "### הגנת נתונים\n",
    "- **הצפנה**: הצפנה מקצה לקצה למסמכים ואינדקסי חיפוש\n",
    "- **בקרות גישה**: אינטגרציה עם Azure AD להרשאות משתמשים וקבוצות\n",
    "- **מיקום נתונים**: בקרות מיקום גיאוגרפי של נתונים לציות\n",
    "- **גיבוי ושחזור**: יכולות גיבוי ושחזור אוטומטיות\n",
    "\n",
    "## 📈 אופטימיזציית ביצועים\n",
    "\n",
    "### דפוסי עיבוד אסינכרוני\n",
    "```csharp\n",
    "// Efficient async document processing\n",
    "await foreach (var document in documentStream.AsAsyncEnumerable())\n",
    "{\n",
    "    await ProcessDocumentAsync(document, cancellationToken);\n",
    "}\n",
    "```\n",
    "\n",
    "### ניהול זיכרון\n",
    "- **עיבוד זרימה**: טיפול במסמכים גדולים ללא בעיות זיכרון\n",
    "- **Pooling משאבים**: שימוש חוזר יעיל במשאבים יקרים\n",
    "- **איסוף זבל**: דפוסי הקצאת זיכרון אופטימליים\n",
    "- **ניהול חיבורים**: מחזור חיים נכון של חיבורי שירותי Azure\n",
    "\n",
    "### אסטרטגיות מטמון\n",
    "- **מטמון שאילתות**: מטמון חיפושים שמבוצעים לעיתים קרובות\n",
    "- **מטמון מסמכים**: מטמון בזיכרון למסמכים חמים\n",
    "- **מטמון אינדקסים**: מטמון אינדקס וקטורי אופטימלי\n",
    "- **מטמון תוצאות**: מטמון חכם של תגובות שנוצרו\n",
    "\n",
    "## 📊 שימושים ארגוניים\n",
    "\n",
    "### ניהול ידע\n",
    "- **ויקי ארגוני**: חיפוש חכם בבסיסי ידע של החברה\n",
    "- **מדיניות ונהלים**: הדרכה אוטומטית לציות ונהלים\n",
    "- **חומרי הדרכה**: עזרה חכמה בלמידה ופיתוח\n",
    "- **מאגרי מחקר**: מערכות ניתוח למאמרים אקדמיים ומחקריים\n",
    "\n",
    "### תמיכת לקוחות\n",
    "- **בסיס ידע לתמיכה**: תגובות אוטומטיות לשירות לקוחות\n",
    "- **תיעוד מוצרים**: שליפת מידע חכמה על מוצרים\n",
    "- **מדריכי פתרון בעיות**: עזרה בהקשר לפתרון בעיות\n",
    "- **מערכות שאלות נפוצות**: יצירת שאלות נפוצות דינמית מאוספי מסמכים\n",
    "\n",
    "### ציות רגולטורי\n",
    "- **ניתוח מסמכים משפטיים**: אינטליגנציה לחוזים ומסמכים משפטיים\n",
    "- **ניטור ציות**: בדיקת ציות רגולטורי אוטומטית\n",
    "- **הערכת סיכונים**: ניתוח סיכונים מבוסס מסמכים ודיווח\n",
    "- **תמיכה בביקורת**: גילוי מסמכים חכם לביקורות\n",
    "\n",
    "## 🚀 פריסה לייצור\n",
    "\n",
    "### ניטור ותצפית\n",
    "- **Application Insights**: טלמטריה מפורטת וניטור ביצועים\n",
    "- **מדדים מותאמים אישית**: מעקב והתראה על KPI עסקיים\n",
    "- **מעקב מבוזר**: מעקב אחר בקשות מקצה לקצה בין שירותים\n",
    "- **לוחות מחוונים בריאותיים**: ויזואליזציה בזמן אמת של בריאות המערכת וביצועיה\n",
    "\n",
    "### יכולת הרחבה ואמינות\n",
    "- **הרחבה אוטומטית**: הרחבה אוטומטית על בסיס עומס ומדדי ביצועים\n",
    "- **זמינות גבוהה**: פריסה רב-אזורית עם יכולות מעבר לגיבוי\n",
    "- **בדיקות עומס**: אימות ביצועים תחת עומס ארגוני\n",
    "- **התאוששות מאסון**: נהלי גיבוי ושחזור אוטומטיים\n",
    "\n",
    "מוכנים לבנות מערכות RAG ארגוניות שיכולות להתמודד עם מסמכים רגישים בקנה מידה? בואו נבנה מערכות ידע חכמות לארגון! 🏢📖✨\n"
   ]
  },
  {
   "cell_type": "code",
   "execution_count": 1,
   "metadata": {
    "language_info": {
     "name": "polyglot-notebook"
    },
    "polyglot_notebook": {
     "kernelName": "csharp"
    }
   },
   "outputs": [
    {
     "data": {
      "text/html": [
       "<div><div></div><div></div><div><strong>Installed Packages</strong><ul><li><span>Microsoft.Extensions.AI, 9.9.1</span></li></ul></div></div>"
      ]
     },
     "metadata": {},
     "output_type": "display_data"
    }
   ],
   "source": [
    "#r \"nuget: Microsoft.Extensions.AI, 9.9.1\""
   ]
  },
  {
   "cell_type": "code",
   "execution_count": 2,
   "id": "4ec1f0d1",
   "metadata": {
    "language_info": {
     "name": "polyglot-notebook"
    },
    "polyglot_notebook": {
     "kernelName": "csharp"
    }
   },
   "outputs": [
    {
     "data": {
      "text/html": [
       "<div><div></div><div></div><div><strong>Installed Packages</strong><ul><li><span>Azure.AI.Agents.Persistent, 1.2.0-beta.5</span></li><li><span>Azure.Identity, 1.15.0</span></li><li><span>System.Linq.Async, 6.0.3</span></li></ul></div></div>"
      ]
     },
     "metadata": {},
     "output_type": "display_data"
    }
   ],
   "source": [
    "#r \"nuget: Azure.AI.Agents.Persistent, 1.2.0-beta.5\"\n",
    "#r \"nuget: Azure.Identity, 1.15.0\"\n",
    "#r \"nuget: System.Linq.Async, 6.0.3\""
   ]
  },
  {
   "cell_type": "code",
   "execution_count": 3,
   "id": "2363ae07",
   "metadata": {
    "language_info": {
     "name": "polyglot-notebook"
    },
    "polyglot_notebook": {
     "kernelName": "csharp"
    }
   },
   "outputs": [],
   "source": []
  },
  {
   "cell_type": "code",
   "execution_count": null,
   "id": "d10cec9d",
   "metadata": {
    "language_info": {
     "name": "polyglot-notebook"
    },
    "polyglot_notebook": {
     "kernelName": "csharp"
    }
   },
   "outputs": [
    {
     "data": {
      "text/html": [
       "<div><div></div><div></div><div><strong>Installed Packages</strong><ul><li><span>Microsoft.Agents.AI.AzureAI, 1.0.0-preview.251001.2</span></li></ul></div></div>"
      ]
     },
     "metadata": {},
     "output_type": "display_data"
    }
   ],
   "source": [
    "#r \"nuget: Microsoft.Agents.AI.AzureAI, 1.0.0-preview.251001.3\""
   ]
  },
  {
   "cell_type": "code",
   "execution_count": null,
   "id": "78199d1c",
   "metadata": {
    "language_info": {
     "name": "polyglot-notebook"
    },
    "polyglot_notebook": {
     "kernelName": "csharp"
    }
   },
   "outputs": [
    {
     "data": {
      "text/html": [
       "<div><div></div><div></div><div><strong>Installed Packages</strong><ul><li><span>microsoft.agents.ai, 1.0.0-preview.251001.2</span></li></ul></div></div>"
      ]
     },
     "metadata": {},
     "output_type": "display_data"
    }
   ],
   "source": [
    "#r \"nuget: Microsoft.Agents.AI, 1.0.0-preview.251001.3\""
   ]
  },
  {
   "cell_type": "code",
   "execution_count": 6,
   "id": "7de4684a",
   "metadata": {
    "language_info": {
     "name": "polyglot-notebook"
    },
    "polyglot_notebook": {
     "kernelName": "csharp"
    }
   },
   "outputs": [
    {
     "data": {
      "text/html": [
       "<div><div></div><div></div><div><strong>Installed Packages</strong><ul><li><span>DotNetEnv, 3.1.1</span></li></ul></div></div>"
      ]
     },
     "metadata": {},
     "output_type": "display_data"
    }
   ],
   "source": [
    "#r \"nuget: DotNetEnv, 3.1.1\""
   ]
  },
  {
   "cell_type": "code",
   "execution_count": 7,
   "id": "251efd31",
   "metadata": {
    "language_info": {
     "name": "polyglot-notebook"
    },
    "polyglot_notebook": {
     "kernelName": "csharp"
    }
   },
   "outputs": [],
   "source": [
    "using System;\n",
    "using System.Linq;\n",
    "using Azure.AI.Agents.Persistent;\n",
    "using Azure.Identity;\n",
    "using Microsoft.Agents.AI;"
   ]
  },
  {
   "cell_type": "code",
   "execution_count": 8,
   "id": "a2e342f1",
   "metadata": {
    "language_info": {
     "name": "polyglot-notebook"
    },
    "polyglot_notebook": {
     "kernelName": "csharp"
    }
   },
   "outputs": [],
   "source": [
    " using DotNetEnv;"
   ]
  },
  {
   "cell_type": "code",
   "execution_count": 9,
   "id": "a7a01653",
   "metadata": {
    "language_info": {
     "name": "polyglot-notebook"
    },
    "polyglot_notebook": {
     "kernelName": "csharp"
    }
   },
   "outputs": [],
   "source": [
    "Env.Load(\"../../../.env\");"
   ]
  },
  {
   "cell_type": "code",
   "execution_count": 10,
   "id": "a42735d5",
   "metadata": {
    "language_info": {
     "name": "polyglot-notebook"
    },
    "polyglot_notebook": {
     "kernelName": "csharp"
    }
   },
   "outputs": [],
   "source": [
    "var azure_foundry_endpoint = Environment.GetEnvironmentVariable(\"AZURE_AI_PROJECT_ENDPOINT\") ?? throw new InvalidOperationException(\"AZURE_AI_PROJECT_ENDPOINT is not set.\");\n",
    "var azure_foundry_model_id = Environment.GetEnvironmentVariable(\"AZURE_AI_MODEL_DEPLOYMENT_NAME\") ?? \"gpt-4.1-mini\";"
   ]
  },
  {
   "cell_type": "code",
   "execution_count": 11,
   "id": "e29bdb58",
   "metadata": {
    "language_info": {
     "name": "polyglot-notebook"
    },
    "polyglot_notebook": {
     "kernelName": "csharp"
    }
   },
   "outputs": [],
   "source": [
    "string pdfPath = \"./document.md\";"
   ]
  },
  {
   "cell_type": "code",
   "execution_count": 12,
   "id": "7351e12d",
   "metadata": {
    "language_info": {
     "name": "polyglot-notebook"
    },
    "polyglot_notebook": {
     "kernelName": "csharp"
    }
   },
   "outputs": [],
   "source": [
    "using System.IO;\n",
    "\n",
    "async Task<Stream> OpenImageStreamAsync(string path)\n",
    "{\n",
    "\treturn await Task.Run(() => File.OpenRead(path));\n",
    "}\n",
    "\n",
    "var pdfStream = await OpenImageStreamAsync(pdfPath);"
   ]
  },
  {
   "cell_type": "code",
   "execution_count": 13,
   "id": "0b6bf484",
   "metadata": {
    "language_info": {
     "name": "polyglot-notebook"
    },
    "polyglot_notebook": {
     "kernelName": "csharp"
    }
   },
   "outputs": [],
   "source": [
    "var persistentAgentsClient = new PersistentAgentsClient(azure_foundry_endpoint, new AzureCliCredential());"
   ]
  },
  {
   "cell_type": "code",
   "execution_count": 14,
   "id": "81e0dddc",
   "metadata": {
    "language_info": {
     "name": "polyglot-notebook"
    },
    "polyglot_notebook": {
     "kernelName": "csharp"
    }
   },
   "outputs": [],
   "source": [
    "PersistentAgentFileInfo fileInfo = await persistentAgentsClient.Files.UploadFileAsync(pdfStream, PersistentAgentFilePurpose.Agents, \"demo.md\");"
   ]
  },
  {
   "cell_type": "code",
   "execution_count": 15,
   "id": "f0c75d80",
   "metadata": {
    "language_info": {
     "name": "polyglot-notebook"
    },
    "polyglot_notebook": {
     "kernelName": "csharp"
    }
   },
   "outputs": [],
   "source": [
    "PersistentAgentsVectorStore fileStore =\n",
    "            await persistentAgentsClient.VectorStores.CreateVectorStoreAsync(\n",
    "                [fileInfo.Id],\n",
    "                metadata: new Dictionary<string, string>() { { \"agentkey\", bool.TrueString } });"
   ]
  },
  {
   "cell_type": "code",
   "execution_count": 16,
   "id": "c77986c5",
   "metadata": {
    "language_info": {
     "name": "polyglot-notebook"
    },
    "polyglot_notebook": {
     "kernelName": "csharp"
    }
   },
   "outputs": [],
   "source": [
    "PersistentAgent agentModel = await persistentAgentsClient.Administration.CreateAgentAsync(\n",
    "            azure_foundry_model_id,\n",
    "            name: \"DotNetRAGAgent\",\n",
    "            tools: [new FileSearchToolDefinition()],\n",
    "            instructions: \"\"\"\n",
    "                You are an AI assistant designed to answer user questions using only the information retrieved from the provided document(s).\n",
    "\n",
    "                - If a user's question cannot be answered using the retrieved context, **you must clearly respond**: \n",
    "                \"I'm sorry, but the uploaded document does not contain the necessary information to answer that question.\"\n",
    "                - Do not answer from general knowledge or reasoning. Do not make assumptions or generate hypothetical explanations.\n",
    "                - Do not provide definitions, tutorials, or commentary that is not explicitly grounded in the content of the uploaded file(s).\n",
    "                - If a user asks a question like \"What is a Neural Network?\", and this is not discussed in the uploaded document, respond as instructed above.\n",
    "                - For questions that do have relevant content in the document (e.g., Contoso's travel insurance coverage), respond accurately, and cite the document explicitly.\n",
    "\n",
    "                You must behave as if you have no external knowledge beyond what is retrieved from the uploaded document.\n",
    "                \"\"\",\n",
    "            toolResources: new()\n",
    "            {\n",
    "                FileSearch = new()\n",
    "                {\n",
    "                    VectorStoreIds = { fileStore.Id },\n",
    "                }\n",
    "            },\n",
    "            metadata: new Dictionary<string, string>() { { \"agentkey\", bool.TrueString } });"
   ]
  },
  {
   "cell_type": "code",
   "execution_count": 17,
   "id": "282326cf",
   "metadata": {
    "language_info": {
     "name": "polyglot-notebook"
    },
    "polyglot_notebook": {
     "kernelName": "csharp"
    }
   },
   "outputs": [],
   "source": [
    "AIAgent agent = await persistentAgentsClient.GetAIAgentAsync(agentModel.Id);"
   ]
  },
  {
   "cell_type": "code",
   "execution_count": 18,
   "id": "2067d313",
   "metadata": {
    "language_info": {
     "name": "polyglot-notebook"
    },
    "polyglot_notebook": {
     "kernelName": "csharp"
    }
   },
   "outputs": [],
   "source": [
    "AgentThread thread = agent.GetNewThread();"
   ]
  },
  {
   "cell_type": "code",
   "execution_count": 19,
   "id": "454c4230",
   "metadata": {
    "language_info": {
     "name": "polyglot-notebook"
    },
    "polyglot_notebook": {
     "kernelName": "csharp"
    }
   },
   "outputs": [
    {
     "name": "stdout",
     "output_type": "stream",
     "text": [
      "Contoso's travel insurance coverage includes protection for medical emergencies, trip cancellations, and lost baggage. This ensures that travelers are supported in case of health-related issues during their trip, unforeseen cancellations, and the loss of their belongings while traveling【4:0†demo.md】.\r\n"
     ]
    }
   ],
   "source": [
    "Console.WriteLine(await agent.RunAsync(\"Can you explain Contoso's travel insurance coverage?\", thread));"
   ]
  },
  {
   "cell_type": "markdown",
   "metadata": {},
   "source": [
    "\n---\n\n**כתב ויתור**:  \nמסמך זה תורגם באמצעות שירות תרגום מבוסס בינה מלאכותית [Co-op Translator](https://github.com/Azure/co-op-translator). למרות שאנו שואפים לדיוק, יש לקחת בחשבון שתרגומים אוטומטיים עשויים להכיל שגיאות או אי דיוקים. המסמך המקורי בשפתו המקורית צריך להיחשב כמקור סמכותי. עבור מידע קריטי, מומלץ להשתמש בתרגום מקצועי על ידי אדם. איננו נושאים באחריות לאי הבנות או לפרשנויות שגויות הנובעות משימוש בתרגום זה.\n"
   ]
  }
 ],
 "metadata": {
  "kernelspec": {
   "display_name": ".NET (C#)",
   "language": "C#",
   "name": ".net-csharp"
  },
  "language_info": {
   "name": "polyglot-notebook"
  },
  "polyglot_notebook": {
   "kernelInfo": {
    "defaultKernelName": "csharp",
    "items": [
     {
      "aliases": [],
      "name": "csharp"
     }
    ]
   }
  },
  "coopTranslator": {
   "original_hash": "e4584fa31638009dc6fb665275de8fc2",
   "translation_date": "2025-10-02T17:30:54+00:00",
   "source_file": "05-agentic-rag/code_samples/05-dotnet-agent-framework.ipynb",
   "language_code": "he"
  }
 },
 "nbformat": 4,
 "nbformat_minor": 5
}