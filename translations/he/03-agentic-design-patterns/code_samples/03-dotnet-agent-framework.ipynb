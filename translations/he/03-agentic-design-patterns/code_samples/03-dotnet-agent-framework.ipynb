{
 "cells": [
  {
   "cell_type": "markdown",
   "id": "d6058fa4",
   "metadata": {},
   "source": [
    "# 🎨 דפוסי עיצוב סוכנים עם מודלים של GitHub (.NET)\n",
    "\n",
    "## 📋 מטרות למידה\n",
    "\n",
    "מחברת זו מציגה דפוסי עיצוב ברמה ארגונית לבניית סוכנים חכמים באמצעות מסגרת הסוכנים של Microsoft ב-.NET עם אינטגרציה למודלים של GitHub. תלמדו דפוסי עבודה מקצועיים וגישות ארכיטקטוניות שהופכות סוכנים למוכנים לייצור, ניתנים לתחזוקה ולמדרגיים.\n",
    "\n",
    "**דפוסי עיצוב ארגוניים:**\n",
    "- 🏭 **דפוס מפעל**: יצירת סוכנים סטנדרטית עם הזרקת תלות\n",
    "- 🔧 **דפוס בונה**: הגדרה ותצורה שוטפת של סוכנים\n",
    "- 🧵 **דפוסים בטוחים לשרשור**: ניהול שיחות מקבילי\n",
    "- 📋 **דפוס מאגר**: ניהול כלים ויכולות בצורה מאורגנת\n",
    "\n",
    "## 🎯 יתרונות ארכיטקטוניים ספציפיים ל-.NET\n",
    "\n",
    "### תכונות ארגוניות\n",
    "- **הקלדה חזקה**: אימות בזמן קומפילציה ותמיכה ב-IntelliSense\n",
    "- **הזרקת תלות**: אינטגרציה מובנית עם מיכל DI\n",
    "- **ניהול תצורה**: דפוסי IConfiguration ו-Options\n",
    "- **Async/Await**: תמיכה מלאה בתכנות אסינכרוני\n",
    "\n",
    "### דפוסים מוכנים לייצור\n",
    "- **אינטגרציית לוגים**: תמיכה ב-ILogger ולוגים מובנים\n",
    "- **בדיקות בריאות**: ניטור ואבחון מובנים\n",
    "- **אימות תצורה**: הקלדה חזקה עם הערות נתונים\n",
    "- **טיפול בשגיאות**: ניהול חריגים מובנה\n",
    "\n",
    "## 🔧 ארכיטקטורה טכנית\n",
    "\n",
    "### רכיבי ליבה של .NET\n",
    "- **Microsoft.Extensions.AI**: הפשטות שירותי AI מאוחדים\n",
    "- **Microsoft.Agents.AI**: מסגרת תזמור סוכנים ארגונית\n",
    "- **אינטגרציה עם מודלים של GitHub**: דפוסי לקוח API בעלי ביצועים גבוהים\n",
    "- **מערכת תצורה**: אינטגרציה עם appsettings.json וסביבה\n",
    "\n",
    "### יישום דפוסי עיצוב\n",
    "```csharp\n",
    "IServiceCollection → Agent Builder → Configuration → Tool Registry → AI Agent\n",
    "```\n",
    "\n",
    "## 🏗️ דפוסים ארגוניים מוצגים\n",
    "\n",
    "### 1. **דפוסי יצירה**\n",
    "- **מפעל סוכנים**: יצירת סוכנים מרכזית עם תצורה עקבית\n",
    "- **דפוס בונה**: API שוטף לתצורה מורכבת של סוכנים\n",
    "- **דפוס סינגלטון**: ניהול משאבים ותצורה משותפים\n",
    "- **הזרקת תלות**: צימוד רופף ויכולת בדיקה\n",
    "\n",
    "### 2. **דפוסי התנהגות**\n",
    "- **דפוס אסטרטגיה**: אסטרטגיות ביצוע כלים ניתנות להחלפה\n",
    "- **דפוס פקודה**: פעולות סוכן מקופסות עם ביטול/חזרה\n",
    "- **דפוס משקיף**: ניהול מחזור חיים של סוכן מונע אירועים\n",
    "- **דפוס שיטת תבנית**: זרימות עבודה סטנדרטיות לביצוע סוכן\n",
    "\n",
    "### 3. **דפוסים מבניים**\n",
    "- **דפוס מתאם**: שכבת אינטגרציה עם API של מודלים של GitHub\n",
    "- **דפוס דקורטור**: שיפור יכולות הסוכן\n",
    "- **דפוס חזית**: ממשקי אינטראקציה פשוטים עם סוכן\n",
    "- **דפוס פרוקסי**: טעינה עצלה ו-caching לשיפור ביצועים\n",
    "\n",
    "## ⚙️ דרישות מוקדמות והגדרות\n",
    "\n",
    "**סביבת פיתוח:**\n",
    "- .NET 9.0 SDK או גרסה גבוהה יותר\n",
    "- Visual Studio 2022 או VS Code עם הרחבת C#\n",
    "- גישה ל-API של מודלים של GitHub\n",
    "\n",
    "**תלויות NuGet:**\n",
    "```xml\n",
    "<PackageReference Include=\"Microsoft.Extensions.AI\" Version=\"9.9.0\" />\n",
    "<PackageReference Include=\"Microsoft.Extensions.AI.OpenAI\" Version=\"9.9.0-preview.1.25458.4\" />\n",
    "<PackageReference Include=\"DotNetEnv\" Version=\"3.1.1\" />\n",
    "```\n",
    "\n",
    "**תצורה (קובץ .env):**\n",
    "```env\n",
    "GITHUB_TOKEN=your_github_personal_access_token\n",
    "GITHUB_ENDPOINT=https://models.inference.ai.azure.com\n",
    "GITHUB_MODEL_ID=gpt-4o-mini\n",
    "```\n",
    "\n",
    "## 📚 עקרונות עיצוב ב-.NET\n",
    "\n",
    "### עקרונות SOLID\n",
    "- **אחריות יחידה**: לכל רכיב יש מטרה ברורה אחת\n",
    "- **פתוח/סגור**: ניתן להרחבה ללא שינוי\n",
    "- **החלפת ליסקוב**: יישומי כלים מבוססי ממשק\n",
    "- **הפרדת ממשקים**: ממשקים ממוקדים וקוהרנטיים\n",
    "- **היפוך תלות**: תלות בהפשטות, לא במימושים\n",
    "\n",
    "### ארכיטקטורה נקייה\n",
    "- **שכבת דומיין**: הפשטות ליבה של סוכן וכלים\n",
    "- **שכבת אפליקציה**: תזמור סוכנים וזרימות עבודה\n",
    "- **שכבת תשתית**: אינטגרציה עם מודלים של GitHub ושירותים חיצוניים\n",
    "- **שכבת הצגה**: אינטראקציה עם משתמש ועיצוב תגובות\n",
    "\n",
    "## 🔒 שיקולים ארגוניים\n",
    "\n",
    "### אבטחה\n",
    "- **ניהול אישורים**: טיפול מאובטח במפתחות API עם IConfiguration\n",
    "- **אימות קלט**: הקלדה חזקה ואימות עם הערות נתונים\n",
    "- **סינון פלט**: עיבוד תגובות מאובטח וסינון\n",
    "- **לוגים למעקב**: מעקב מקיף אחר פעולות\n",
    "\n",
    "### ביצועים\n",
    "- **דפוסים אסינכרוניים**: פעולות I/O לא חוסמות\n",
    "- **Pooling חיבורים**: ניהול יעיל של לקוח HTTP\n",
    "- **Caching**: שמירת תגובות לשיפור ביצועים\n",
    "- **ניהול משאבים**: דפוסי סילוק וניקוי נכונים\n",
    "\n",
    "### מדרגיות\n",
    "- **בטיחות לשרשור**: תמיכה בביצוע סוכנים מקבילי\n",
    "- **Pooling משאבים**: ניצול יעיל של משאבים\n",
    "- **ניהול עומסים**: הגבלת קצב וטיפול בלחץ\n",
    "- **ניטור**: מדדי ביצועים ובדיקות בריאות\n",
    "\n",
    "## 🚀 פריסה לייצור\n",
    "\n",
    "- **ניהול תצורה**: הגדרות ספציפיות לסביבה\n",
    "- **אסטרטגיית לוגים**: לוגים מובנים עם מזהי קורלציה\n",
    "- **טיפול בשגיאות**: טיפול גלובלי בחריגים עם התאוששות נכונה\n",
    "- **ניטור**: Application Insights ומוני ביצועים\n",
    "- **בדיקות**: בדיקות יחידה, בדיקות אינטגרציה ודפוסי בדיקות עומס\n",
    "\n",
    "מוכנים לבנות סוכנים חכמים ברמה ארגונית עם .NET? בואו נבנה משהו חזק! 🏢✨\n"
   ]
  },
  {
   "cell_type": "code",
   "execution_count": 1,
   "id": "2770ac5c",
   "metadata": {
    "language_info": {
     "name": "polyglot-notebook"
    },
    "polyglot_notebook": {
     "kernelName": "csharp"
    }
   },
   "outputs": [
    {
     "data": {
      "text/html": [
       "<div><div></div><div></div><div><strong>Installed Packages</strong><ul><li><span>Microsoft.Extensions.AI, 9.9.1</span></li></ul></div></div>"
      ]
     },
     "metadata": {},
     "output_type": "display_data"
    }
   ],
   "source": [
    "#r \"nuget: Microsoft.Extensions.AI, 9.9.1\""
   ]
  },
  {
   "cell_type": "code",
   "execution_count": null,
   "id": "984ff6cd",
   "metadata": {
    "language_info": {
     "name": "polyglot-notebook"
    },
    "polyglot_notebook": {
     "kernelName": "csharp"
    }
   },
   "outputs": [
    {
     "data": {
      "text/html": [
       "<div><div></div><div></div><div><strong>Installed Packages</strong><ul><li><span>Microsoft.Agents.AI.OpenAI, 1.0.0-preview.251001.2</span></li></ul></div></div>"
      ]
     },
     "metadata": {},
     "output_type": "display_data"
    }
   ],
   "source": [
    "#r \"nuget: Microsoft.Agents.AI.OpenAI, 1.0.0-preview.251001.3\""
   ]
  },
  {
   "cell_type": "code",
   "execution_count": null,
   "id": "0ab71360",
   "metadata": {
    "language_info": {
     "name": "polyglot-notebook"
    },
    "polyglot_notebook": {
     "kernelName": "csharp"
    }
   },
   "outputs": [
    {
     "data": {
      "text/html": [
       "<div><div></div><div></div><div><strong>Installed Packages</strong><ul><li><span>microsoft.agents.ai, 1.0.0-preview.251001.2</span></li></ul></div></div>"
      ]
     },
     "metadata": {},
     "output_type": "display_data"
    }
   ],
   "source": [
    "\n",
    "\n",
    "#r \"nuget: Microsoft.Agents.AI, 1.0.0-preview.251001.3\""
   ]
  },
  {
   "cell_type": "code",
   "execution_count": 4,
   "id": "4ab7b15d",
   "metadata": {
    "language_info": {
     "name": "polyglot-notebook"
    },
    "polyglot_notebook": {
     "kernelName": "csharp"
    }
   },
   "outputs": [],
   "source": [
    "// #r \"nuget: Microsoft.Extensions.AI.OpenAI, 9.9.0-preview.1.25458.4\""
   ]
  },
  {
   "cell_type": "code",
   "execution_count": 5,
   "id": "3fa8aa21",
   "metadata": {
    "language_info": {
     "name": "polyglot-notebook"
    },
    "polyglot_notebook": {
     "kernelName": "csharp"
    }
   },
   "outputs": [
    {
     "data": {
      "text/html": [
       "<div><div></div><div></div><div><strong>Installed Packages</strong><ul><li><span>DotNetEnv, 3.1.1</span></li></ul></div></div>"
      ]
     },
     "metadata": {},
     "output_type": "display_data"
    }
   ],
   "source": [
    "#r \"nuget: DotNetEnv, 3.1.1\""
   ]
  },
  {
   "cell_type": "code",
   "execution_count": 6,
   "id": "fc8ee8ea",
   "metadata": {
    "language_info": {
     "name": "polyglot-notebook"
    },
    "polyglot_notebook": {
     "kernelName": "csharp"
    }
   },
   "outputs": [],
   "source": [
    "using System;\n",
    "using System.ComponentModel;\n",
    "using System.ClientModel;\n",
    "\n",
    "using Microsoft.Extensions.AI;\n",
    "using Microsoft.Agents.AI;\n",
    "using OpenAI;"
   ]
  },
  {
   "cell_type": "code",
   "execution_count": 7,
   "id": "699b1c83",
   "metadata": {
    "language_info": {
     "name": "polyglot-notebook"
    },
    "polyglot_notebook": {
     "kernelName": "csharp"
    }
   },
   "outputs": [],
   "source": [
    " using DotNetEnv;"
   ]
  },
  {
   "cell_type": "code",
   "execution_count": 8,
   "id": "daa649a0",
   "metadata": {
    "language_info": {
     "name": "polyglot-notebook"
    },
    "polyglot_notebook": {
     "kernelName": "csharp"
    }
   },
   "outputs": [],
   "source": [
    "Env.Load(\"../../../.env\");"
   ]
  },
  {
   "cell_type": "code",
   "execution_count": 9,
   "id": "29661a90",
   "metadata": {
    "language_info": {
     "name": "polyglot-notebook"
    },
    "polyglot_notebook": {
     "kernelName": "csharp"
    }
   },
   "outputs": [],
   "source": [
    "[Description(\"Provides a random vacation destination.\")]\n",
    "static string GetRandomDestination()\n",
    "{\n",
    "    var destinations = new List<string>\n",
    "    {\n",
    "        \"Paris, France\",\n",
    "        \"Tokyo, Japan\",\n",
    "        \"New York City, USA\",\n",
    "        \"Sydney, Australia\",\n",
    "        \"Rome, Italy\",\n",
    "        \"Barcelona, Spain\",\n",
    "        \"Cape Town, South Africa\",\n",
    "        \"Rio de Janeiro, Brazil\",\n",
    "        \"Bangkok, Thailand\",\n",
    "        \"Vancouver, Canada\"\n",
    "    };\n",
    "\n",
    "    var random = new Random();\n",
    "    int index = random.Next(destinations.Count);\n",
    "    return destinations[index];\n",
    "}"
   ]
  },
  {
   "cell_type": "code",
   "execution_count": 10,
   "id": "d2ed1f8b",
   "metadata": {
    "language_info": {
     "name": "polyglot-notebook"
    },
    "polyglot_notebook": {
     "kernelName": "csharp"
    }
   },
   "outputs": [],
   "source": [
    "var github_endpoint = Environment.GetEnvironmentVariable(\"GITHUB_ENDPOINT\") ?? throw new InvalidOperationException(\"GITHUB_ENDPOINT is not set.\");\n",
    "var github_model_id = Environment.GetEnvironmentVariable(\"GITHUB_MODEL_ID\") ?? \"gpt-4o-mini\";\n",
    "var github_token = Environment.GetEnvironmentVariable(\"GITHUB_TOKEN\") ?? throw new InvalidOperationException(\"GITHUB_TOKEN is not set.\");"
   ]
  },
  {
   "cell_type": "code",
   "execution_count": 11,
   "id": "c36c73e1",
   "metadata": {
    "language_info": {
     "name": "polyglot-notebook"
    },
    "polyglot_notebook": {
     "kernelName": "csharp"
    }
   },
   "outputs": [],
   "source": [
    "var openAIOptions = new OpenAIClientOptions()\n",
    "{\n",
    "    Endpoint= new Uri(github_endpoint)\n",
    "};"
   ]
  },
  {
   "cell_type": "code",
   "execution_count": 12,
   "id": "6d94ff10",
   "metadata": {
    "language_info": {
     "name": "polyglot-notebook"
    },
    "polyglot_notebook": {
     "kernelName": "csharp"
    }
   },
   "outputs": [],
   "source": [
    "\n",
    "var openAIClient = new OpenAIClient(new ApiKeyCredential(github_token), openAIOptions);"
   ]
  },
  {
   "cell_type": "code",
   "execution_count": 13,
   "id": "fe32b57a",
   "metadata": {
    "language_info": {
     "name": "polyglot-notebook"
    },
    "polyglot_notebook": {
     "kernelName": "csharp"
    }
   },
   "outputs": [],
   "source": [
    "AIAgent agent = new OpenAIClient(new ApiKeyCredential(github_token), openAIOptions).GetChatClient(github_model_id).CreateAIAgent(\n",
    "    instructions:\"You are a helpful AI Agent that can help plan vacations for customers at random destinations\", tools: [AIFunctionFactory.Create((Func<string>)GetRandomDestination)]);"
   ]
  },
  {
   "cell_type": "code",
   "execution_count": 14,
   "metadata": {
    "language_info": {
     "name": "polyglot-notebook"
    },
    "polyglot_notebook": {
     "kernelName": "csharp"
    }
   },
   "outputs": [],
   "source": [
    "AgentThread thread = agent.GetNewThread();"
   ]
  },
  {
   "cell_type": "code",
   "execution_count": 15,
   "id": "5e455aff",
   "metadata": {
    "language_info": {
     "name": "polyglot-notebook"
    },
    "polyglot_notebook": {
     "kernelName": "csharp"
    }
   },
   "outputs": [
    {
     "name": "stdout",
     "output_type": "stream",
     "text": [
      "How about a day trip to Vancouver, Canada? Here's a suggested itinerary for your day:\n",
      "\n",
      "### Morning\n",
      "- **Breakfast at a Local Cafe**: Start your day with a delicious breakfast at a cozy café like **Jam Cafe** or **Cafe Medina**.\n",
      "- **Stanley Park**: After breakfast, head to Stanley Park. You can rent a bike and ride along the seawall, enjoying beautiful views of the city and the water.\n",
      "\n",
      "### Afternoon\n",
      "- **Lunch in Gastown**: Make your way to Gastown for lunch. Try a local favorite like **The Flying Pig** or **Noodle Box**.\n",
      "- **Explore Gastown**: After lunch, walk around Gastown to see the iconic Steam Clock and browse the unique shops and boutiques.\n",
      "\n",
      "### Late Afternoon\n",
      "- **Granville Island**: Visit Granville Island, where you can stroll through the public market, sample local foods, and enjoy artisan shops.\n",
      "- **False Creek**: Take a walk along False Creek and enjoy the waterfront views.\n",
      "\n",
      "### Evening\n",
      "- **Dinner at a Waterfront Restaurant**: End your day with dinner at a waterfront restaurant like **The Boathouse** or **Lift Bar Grill View** for great food and a view of the sunset.\n",
      "- **Optional: Sunset Cruise**: If you're up for it, consider taking a sunset cruise for a different perspective of the city.\n",
      "\n",
      "### Tips\n",
      "- Make sure to check the weather beforehand!\n",
      "- Consider public transport or ride-sharing to navigate the city easily.\n",
      "\n",
      "Enjoy your day trip to Vancouver!\r\n"
     ]
    }
   ],
   "source": [
    "Console.WriteLine(await agent.RunAsync(\"Plan me a day trip\",thread));"
   ]
  },
  {
   "cell_type": "code",
   "execution_count": 16,
   "id": "592ae1bb",
   "metadata": {
    "language_info": {
     "name": "polyglot-notebook"
    },
    "polyglot_notebook": {
     "kernelName": "csharp"
    }
   },
   "outputs": [
    {
     "name": "stdout",
     "output_type": "stream",
     "text": [
      "How about a vacation to New York City, USA? Here's a suggested itinerary for your trip:\n",
      "\n",
      "### Day 1: Arrival in New York City\n",
      "- **Check-In**: Arrive and check in to your hotel.\n",
      "- **Central Park**: Take a leisurely stroll through Central Park. Consider renting a bike or taking a carriage ride.\n",
      "- **Evening**: Enjoy dinner at a classic NYC restaurant, such as **Katz's Delicatessen** or **Carbone**.\n",
      "\n",
      "### Day 2: Iconic Landmarks\n",
      "- **Morning**: Breakfast at a local diner.\n",
      "- **Statue of Liberty & Ellis Island**: Take a ferry to visit these iconic landmarks.\n",
      "- **Afternoon**: Explore Wall Street and visit the 9/11 Memorial & Museum.\n",
      "- **Evening**: Dinner in the Financial District followed by a walk across the Brooklyn Bridge at sunset.\n",
      "\n",
      "### Day 3: Culture and Arts\n",
      "- **Morning**: Visit The Metropolitan Museum of Art (The Met) and spend a few hours exploring its vast collection.\n",
      "- **Afternoon**: Head to Times Square for lunch and the buzz of the city.\n",
      "- **Broadway Show**: Catch a Broadway show in the evening. Be sure to book tickets in advance!\n",
      "\n",
      "### Day 4: Explore Neighborhoods\n",
      "- **Morning**: Head to SoHo for brunch and shopping in its chic boutiques.\n",
      "- **Afternoon**: Explore Greenwich Village, known for its bohemian atmosphere and history.\n",
      "- **Evening**: Enjoy dinner in the West Village, perhaps at **Buvette** or **Minetta Tavern**.\n",
      "\n",
      "### Day 5: Departure\n",
      "- **Last-minute Shopping**: Spend your last morning shopping at Fifth Avenue or head to Chelsea Market for food and souvenirs.\n",
      "- **Check-Out**: Depart for your journey home.\n",
      "\n",
      "### Tips\n",
      "- Utilize the subway for efficient travel around the city.\n",
      "- Make reservations for popular restaurants and attractions ahead of time!\n",
      "\n",
      "Enjoy your trip to New York City!\r\n"
     ]
    }
   ],
   "source": [
    "Console.WriteLine(await agent.RunAsync(\"I don't like that destination. Plan me another vacation.\",thread));"
   ]
  },
  {
   "cell_type": "markdown",
   "metadata": {},
   "source": [
    "\n---\n\n**כתב ויתור**:  \nמסמך זה תורגם באמצעות שירות תרגום מבוסס בינה מלאכותית [Co-op Translator](https://github.com/Azure/co-op-translator). למרות שאנו שואפים לדיוק, יש לקחת בחשבון שתרגומים אוטומטיים עשויים להכיל שגיאות או אי דיוקים. המסמך המקורי בשפתו המקורית צריך להיחשב כמקור סמכותי. עבור מידע קריטי, מומלץ להשתמש בתרגום מקצועי על ידי אדם. איננו נושאים באחריות לאי הבנות או לפרשנויות שגויות הנובעות משימוש בתרגום זה.\n"
   ]
  }
 ],
 "metadata": {
  "kernelspec": {
   "display_name": ".NET (C#)",
   "language": "C#",
   "name": ".net-csharp"
  },
  "language_info": {
   "name": "polyglot-notebook"
  },
  "polyglot_notebook": {
   "kernelInfo": {
    "defaultKernelName": "csharp",
    "items": [
     {
      "aliases": [],
      "name": "csharp"
     }
    ]
   }
  },
  "coopTranslator": {
   "original_hash": "070c1d8985b3dc6e6d977f3e891037f1",
   "translation_date": "2025-10-02T18:01:25+00:00",
   "source_file": "03-agentic-design-patterns/code_samples/03-dotnet-agent-framework.ipynb",
   "language_code": "he"
  }
 },
 "nbformat": 4,
 "nbformat_minor": 5
}