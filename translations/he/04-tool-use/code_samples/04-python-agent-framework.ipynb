{
 "cells": [
  {
   "cell_type": "markdown",
   "id": "8744544f",
   "metadata": {},
   "source": [
    "# 🛠️ שימוש מתקדם בכלים עם מודלים של GitHub (Python)\n",
    "\n",
    "## 📋 מטרות למידה\n",
    "\n",
    "מחברת זו מציגה דפוסי אינטגרציה מתקדמים של כלים באמצעות מסגרת הסוכנים של Microsoft עם מודלים של GitHub. תלמדו כיצד ליצור, לנהל ולתזמר מספר כלים כדי לבנות יכולות סוכנים מתוחכמות.\n",
    "\n",
    "**מה תלמדו לשלוט בו:**\n",
    "- 🔧 **ארכיטקטורת ריבוי כלים**: בניית סוכנים עם כלים מתמחים מרובים\n",
    "- 🎯 **לוגיקת בחירת כלים**: כיצד סוכנים בוחרים את הכלי המתאים לכל משימה\n",
    "- 📊 **כלי עיבוד נתונים**: יצירת כלים שמטפלים בסוגי נתונים שונים\n",
    "- 🔗 **הרכבת כלים**: שילוב כלים עבור זרימות עבודה מורכבות\n",
    "\n",
    "## 🎯 דפוסי כלים מרכזיים\n",
    "\n",
    "### עקרונות עיצוב כלים\n",
    "- **אחריות יחידה**: לכל כלי יש מטרה ברורה וממוקדת\n",
    "- **בטיחות סוגים**: טיפוס חזק לביצוע כלים אמין\n",
    "- **טיפול בשגיאות**: דפוסי כשל והתאוששות בצורה חלקה\n",
    "- **הרכבתיות**: כלים שעובדים היטב יחד\n",
    "\n",
    "### תכונות מתקדמות של כלים\n",
    "- **מודעות להקשר**: כלים שמבינים את הקשר השיחה\n",
    "- **אימות נתונים**: ניקוי קלט ואימות פלט\n",
    "- **אופטימיזציית ביצועים**: דפוסי ביצוע כלים יעילים\n",
    "- **הרחבה**: הוספה קלה של יכולות כלים חדשות\n",
    "\n",
    "## 🔧 ארכיטקטורה טכנית\n",
    "\n",
    "### רכיבים מרכזיים\n",
    "- **מסגרת הסוכנים של Microsoft**: יישום Python עם תמיכה מתקדמת בכלים\n",
    "- **אינטגרציה עם מודלים של GitHub**: גישה למודלים שפתיים בעלי ביצועים גבוהים\n",
    "- **מערכת רישום כלים**: ניהול מאורגן של יכולות הסוכן\n",
    "- **דפוסי התאוששות משגיאות**: טיפול חזק בכשלים בביצוע כלים\n",
    "\n",
    "### זרימת אינטגרציה של כלים\n",
    "```python\n",
    "User Request → Agent Analysis → Tool Selection → Tool Execution → Response Synthesis\n",
    "```\n",
    "\n",
    "## 🛠️ קטגוריות כלים מוצגות\n",
    "\n",
    "### 1. **כלי יצירת נתונים**\n",
    "- מחולל יעדים אקראי\n",
    "- ספק מידע על מזג אוויר  \n",
    "- מחשבון עלויות נסיעה\n",
    "- מנוע המלצות לפעילויות\n",
    "\n",
    "### 2. **כלי עיבוד**\n",
    "- עיצוב טקסט ואימות\n",
    "- כלי שינוי נתונים\n",
    "- פונקציות ניתוח תוכן\n",
    "- כלים לשיפור תגובות\n",
    "\n",
    "### 3. **כלי אינטגרציה**\n",
    "- מחברים ל-API חיצוניים\n",
    "- פעולות מערכת קבצים\n",
    "- ממשקי שאילתות למסדי נתונים\n",
    "- כלי גרידת מידע מהאינטרנט\n",
    "\n",
    "## ⚙️ דרישות מוקדמות והגדרות\n",
    "\n",
    "**תלויות נדרשות:**\n",
    "```bash\n",
    "\n",
    "pip install agent-framework-core -U\n",
    "```\n",
    "\n",
    "**הגדרת סביבה (קובץ .env):**\n",
    "```env\n",
    "GITHUB_TOKEN=your_github_personal_access_token\n",
    "GITHUB_ENDPOINT=https://models.inference.ai.azure.com\n",
    "GITHUB_MODEL_ID=gpt-4o-mini\n",
    "```\n",
    "\n",
    "**APIs אופציונליים:**\n",
    "- מפתח API לשירות מזג אוויר (עבור כלים למזג אוויר)\n",
    "- גישה ל-API להמרת מטבעות\n",
    "- אישורי שירות מידע נסיעות\n",
    "\n",
    "## 🎨 דפוסי עיצוב\n",
    "\n",
    "### דפוס מפעל כלים\n",
    "- יצירה והגדרה מרכזית של כלים\n",
    "- עיצוב ממשק כלים עקבי\n",
    "- רישום וגילוי כלים בצורה קלה\n",
    "\n",
    "### דפוס פקודה\n",
    "- לוגיקת ביצוע כלים מקופלת\n",
    "- פונקציונליות ביטול/חזרה עבור פעולות מורכבות\n",
    "- רישום פעולות לשימוש בכלים\n",
    "\n",
    "### דפוס משקיף\n",
    "- ניטור ביצוע כלים\n",
    "- איסוף מדדי ביצועים\n",
    "- דיווח שגיאות והתראות\n",
    "\n",
    "## 🚀 שיטות עבודה מומלצות\n",
    "\n",
    "- **תיעוד כלים**: תיאורים ברורים להבנת הסוכן\n",
    "- **אימות קלט**: בדיקת פרמטרים וניקוי קלט בצורה חזקה\n",
    "- **עיצוב פלט**: תגובות כלים עקביות וניתנות לניתוח\n",
    "- **הודעות שגיאה**: מידע שגיאה מועיל לצורך ניפוי בעיות\n",
    "- **ביצועים**: ביצוע כלים אופטימלי לתגובה מהירה\n",
    "\n",
    "מוכנים לבנות סוכנים עם יכולות כלים עוצמתיות? בואו ניצור משהו מדהים! ⚡\n"
   ]
  },
  {
   "cell_type": "code",
   "execution_count": null,
   "id": "59c0feeb",
   "metadata": {},
   "outputs": [],
   "source": [
    "! pip install agent-framework-core -U"
   ]
  },
  {
   "cell_type": "code",
   "execution_count": null,
   "id": "c0df8a52",
   "metadata": {},
   "outputs": [],
   "source": [
    "# � Import core dependencies for Agent Framework and tool integration\n",
    "# This sets up the essential libraries for building intelligent agents with tool capabilities\n",
    "\n",
    "import asyncio\n",
    "import os\n",
    "import json\n",
    "\n",
    "from dotenv import load_dotenv  # For loading environment variables securely\n",
    "from random import randint\n",
    "\n",
    "# These are the core components for building tool-enabled agents\n",
    "from agent_framework import ChatAgent           # Main agent class\n",
    "from agent_framework.openai import OpenAIChatClient  # OpenAI-compatible client"
   ]
  },
  {
   "cell_type": "code",
   "execution_count": null,
   "id": "24c10eb0",
   "metadata": {},
   "outputs": [],
   "source": [
    "load_dotenv()"
   ]
  },
  {
   "cell_type": "code",
   "execution_count": null,
   "id": "151e0314",
   "metadata": {},
   "outputs": [],
   "source": [
    "# 🔑 Environment variables verification\n",
    "# Ensure all required GitHub Models credentials are properly configured\n",
    "print(\"GITHUB_ENDPOINT:\", os.environ.get(\"GITHUB_ENDPOINT\"))\n",
    "print(\"GITHUB_TOKEN:\", \"***\" if os.environ.get(\"GITHUB_TOKEN\") else \"Not set\")\n",
    "print(\"GITHUB_MODEL_ID:\", os.environ.get(\"GITHUB_MODEL_ID\"))"
   ]
  },
  {
   "cell_type": "code",
   "execution_count": null,
   "id": "a6141584",
   "metadata": {},
   "outputs": [],
   "source": [
    "# 🧪 Test GitHub Models connectivity\n",
    "openai_chat_client = OpenAIChatClient(base_url=os.environ.get(\"GITHUB_ENDPOINT\"), api_key=os.environ.get(\"GITHUB_TOKEN\"), model_id=os.environ.get(\"GITHUB_MODEL_ID\"))"
   ]
  },
  {
   "cell_type": "code",
   "execution_count": null,
   "id": "a6507f83",
   "metadata": {},
   "outputs": [],
   "source": [
    "# 🛠️ Define travel planning tools for agent integration\n",
    "# These functions provide specific capabilities that the agent can invoke dynamically\n",
    "\n",
    "def get_random_destination() -> str:\n",
    "    \"\"\"\n",
    "    🎲 Random destination generator tool\n",
    "    Returns a randomly selected travel destination from curated list\n",
    "    Useful when customers need inspiration for their next vacation\n",
    "    \"\"\"\n",
    "    destinations = [\n",
    "        \"Paris, France\",\n",
    "        \"Tokyo, Japan\", \n",
    "        \"New York City, USA\",\n",
    "        \"London, England\",\n",
    "        \"Rome, Italy\",\n",
    "        \"Sydney, Australia\",\n",
    "        \"Dubai, UAE\",\n",
    "        \"Barcelona, Spain\",\n",
    "        \"Bangkok, Thailand\",\n",
    "        \"Amsterdam, Netherlands\",\n",
    "        \"Istanbul, Turkey\",\n",
    "        \"Prague, Czech Republic\",\n",
    "        \"Santorini, Greece\",\n",
    "        \"Reykjavik, Iceland\",\n",
    "        \"Marrakech, Morocco\",\n",
    "        \"Cape Town, South Africa\",\n",
    "        \"Rio de Janeiro, Brazil\",\n",
    "        \"Bali, Indonesia\"\n",
    "    ]\n",
    "    # 🎯 Return random selection from the curated destination list\n",
    "    return destinations[randint(0, len(destinations) - 1)]"
   ]
  },
  {
   "cell_type": "code",
   "execution_count": null,
   "id": "5d4f0568",
   "metadata": {},
   "outputs": [],
   "source": [
    "# 🔗 Initialize GitHub Models chat client for agent communication\n",
    "# Creates the primary interface between the agent and the language model\n",
    "openai_chat_client = OpenAIChatClient(base_url=os.environ.get(\"GITHUB_ENDPOINT\"), api_key=os.environ.get(\"GITHUB_TOKEN\"), model_id=os.environ.get(\"GITHUB_MODEL_ID\"))"
   ]
  },
  {
   "cell_type": "code",
   "execution_count": null,
   "id": "751668c5",
   "metadata": {},
   "outputs": [],
   "source": [
    "# 🤖 Configure travel agent identity and behavioral instructions\n",
    "# Define the agent's personality, capabilities, and operational guidelines\n",
    "\n",
    "AGENT_NAME = \"TravelAgent\"\n",
    "\n",
    "AGENT_INSTRUCTIONS = \"\"\"You are a helpful AI Agent that can help plan vacations for customers at random destinations\n",
    "\"\"\""
   ]
  },
  {
   "cell_type": "code",
   "execution_count": null,
   "id": "be18ac4f",
   "metadata": {},
   "outputs": [],
   "source": [
    "agent = ChatAgent(\n",
    "        name = AGENT_NAME,\n",
    "        chat_client=openai_chat_client,\n",
    "        instructions=AGENT_INSTRUCTIONS,\n",
    "        tools=[get_random_destination]\n",
    ")"
   ]
  },
  {
   "cell_type": "code",
   "execution_count": null,
   "id": "772e9481",
   "metadata": {},
   "outputs": [],
   "source": [
    "thread = agent.get_new_thread()"
   ]
  },
  {
   "cell_type": "code",
   "execution_count": null,
   "id": "a731b547",
   "metadata": {},
   "outputs": [],
   "source": [
    "response1 = await agent.run(\"Plan me a day trip\",thread= thread)"
   ]
  },
  {
   "cell_type": "code",
   "execution_count": null,
   "id": "7d3fe00a",
   "metadata": {},
   "outputs": [],
   "source": [
    "\n",
    "last_message = response1.messages[-1]\n",
    "text_content = last_message.contents[0].text\n",
    "print(\"Travel plan:\")\n",
    "print(text_content)"
   ]
  },
  {
   "cell_type": "markdown",
   "metadata": {},
   "source": [
    "\n---\n\n**כתב ויתור**:  \nמסמך זה תורגם באמצעות שירות תרגום מבוסס בינה מלאכותית [Co-op Translator](https://github.com/Azure/co-op-translator). למרות שאנו שואפים לדיוק, יש לקחת בחשבון שתרגומים אוטומטיים עשויים להכיל שגיאות או אי דיוקים. המסמך המקורי בשפתו המקורית צריך להיחשב כמקור סמכותי. עבור מידע קריטי, מומלץ להשתמש בתרגום מקצועי על ידי אדם. איננו נושאים באחריות לאי הבנות או פירושים שגויים הנובעים משימוש בתרגום זה.\n"
   ]
  }
 ],
 "metadata": {
  "kernelspec": {
   "display_name": "agentenv",
   "language": "python",
   "name": "python3"
  },
  "language_info": {
   "codemirror_mode": {
    "name": "ipython",
    "version": 3
   },
   "file_extension": ".py",
   "mimetype": "text/x-python",
   "name": "python",
   "nbconvert_exporter": "python",
   "pygments_lexer": "ipython3",
   "version": "3.12.10"
  },
  "polyglot_notebook": {
   "kernelInfo": {
    "defaultKernelName": "csharp",
    "items": [
     {
      "aliases": [],
      "name": "csharp"
     }
    ]
   }
  },
  "coopTranslator": {
   "original_hash": "42966ddac53cebaf0ac1ce33b2ee7059",
   "translation_date": "2025-10-02T17:53:37+00:00",
   "source_file": "04-tool-use/code_samples/04-python-agent-framework.ipynb",
   "language_code": "he"
  }
 },
 "nbformat": 4,
 "nbformat_minor": 5
}