{
 "cells": [
  {
   "cell_type": "markdown",
   "id": "8744544f",
   "metadata": {},
   "source": [
    "# 🛠️ Advanced Tool Use with GitHub Models (Python)\n",
    "\n",
    "## 📋 Learning Objectives\n",
    "\n",
    "This notebook showcases advanced patterns for integrating tools using the Microsoft Agent Framework with GitHub Models. You'll learn how to design, manage, and coordinate multiple tools to create sophisticated agent functionalities.\n",
    "\n",
    "**What You'll Learn:**\n",
    "- 🔧 **Multi-Tool Architecture**: Developing agents equipped with multiple specialized tools\n",
    "- 🎯 **Tool Selection Logic**: Understanding how agents pick the right tool for specific tasks\n",
    "- 📊 **Data Processing Tools**: Building tools to handle various data types\n",
    "- 🔗 **Tool Composition**: Combining tools for complex workflows\n",
    "\n",
    "## 🎯 Key Tool Patterns\n",
    "\n",
    "### Tool Design Principles\n",
    "- **Single Responsibility**: Each tool serves a distinct, focused purpose\n",
    "- **Type Safety**: Strong typing ensures reliable tool execution\n",
    "- **Error Handling**: Patterns for graceful failure and recovery\n",
    "- **Composability**: Tools designed to work seamlessly together\n",
    "\n",
    "### Advanced Tool Features\n",
    "- **Context Awareness**: Tools that adapt to conversation context\n",
    "- **Data Validation**: Ensuring input is sanitized and output is validated\n",
    "- **Performance Optimization**: Efficient execution strategies for tools\n",
    "- **Extensibility**: Simplified addition of new tool functionalities\n",
    "\n",
    "## 🔧 Technical Architecture\n",
    "\n",
    "### Core Components\n",
    "- **Microsoft Agent Framework**: Python-based implementation with advanced tool support\n",
    "- **GitHub Models Integration**: Access to high-performance language models\n",
    "- **Tool Registry System**: Structured management of agent capabilities\n",
    "- **Error Recovery Patterns**: Robust mechanisms for handling tool execution failures\n",
    "\n",
    "### Tool Integration Flow\n",
    "```python\n",
    "User Request → Agent Analysis → Tool Selection → Tool Execution → Response Synthesis\n",
    "```\n",
    "\n",
    "## 🛠️ Tool Categories Demonstrated\n",
    "\n",
    "### 1. **Data Generation Tools**\n",
    "- Random destination generator\n",
    "- Weather information provider  \n",
    "- Travel cost calculator\n",
    "- Activity recommendation engine\n",
    "\n",
    "### 2. **Processing Tools**\n",
    "- Text formatting and validation\n",
    "- Data transformation utilities\n",
    "- Content analysis functions\n",
    "- Response enhancement tools\n",
    "\n",
    "### 3. **Integration Tools**\n",
    "- External API connectors\n",
    "- File system operations\n",
    "- Database query interfaces\n",
    "- Web scraping utilities\n",
    "\n",
    "## ⚙️ Prerequisites & Setup\n",
    "\n",
    "\n",
    "**Required Dependencies:**\n",
    "```bash\n",
    "\n",
    "pip install agent-framework-core -U\n",
    "```\n",
    "\n",
    "**Environment Configuration (.env file):**\n",
    "```env\n",
    "GITHUB_TOKEN=your_github_personal_access_token\n",
    "GITHUB_ENDPOINT=https://models.inference.ai.azure.com\n",
    "GITHUB_MODEL_ID=gpt-4o-mini\n",
    "```\n",
    "\n",
    "**Optional APIs:**\n",
    "- Weather service API key (for weather tools)\n",
    "- Currency conversion API access\n",
    "- Travel information service credentials\n",
    "\n",
    "## 🎨 Design Patterns\n",
    "\n",
    "### Tool Factory Pattern\n",
    "- Centralized tool creation and configuration\n",
    "- Consistent tool interface design\n",
    "- Simplified tool registration and discovery\n",
    "\n",
    "### Command Pattern\n",
    "- Encapsulated logic for tool execution\n",
    "- Undo/redo functionality for complex operations\n",
    "- Audit logging for tool usage\n",
    "\n",
    "### Observer Pattern\n",
    "- Monitoring tool execution\n",
    "- Collecting performance metrics\n",
    "- Reporting errors and generating alerts\n",
    "\n",
    "## 🚀 Best Practices\n",
    "\n",
    "- **Tool Documentation**: Provide clear descriptions for agent understanding\n",
    "- **Input Validation**: Ensure robust parameter checking and sanitization\n",
    "- **Output Formatting**: Deliver consistent, parseable tool responses\n",
    "- **Error Messages**: Offer helpful error details for debugging\n",
    "- **Performance**: Optimize tool execution for responsiveness\n",
    "\n",
    "Ready to design agents with powerful tool capabilities? Let’s build something extraordinary! ⚡\n"
   ]
  },
  {
   "cell_type": "code",
   "execution_count": null,
   "id": "59c0feeb",
   "metadata": {},
   "outputs": [],
   "source": [
    "! pip install agent-framework-core -U"
   ]
  },
  {
   "cell_type": "code",
   "execution_count": null,
   "id": "c0df8a52",
   "metadata": {},
   "outputs": [],
   "source": [
    "# � Import core dependencies for Agent Framework and tool integration\n",
    "# This sets up the essential libraries for building intelligent agents with tool capabilities\n",
    "\n",
    "import asyncio\n",
    "import os\n",
    "import json\n",
    "\n",
    "from dotenv import load_dotenv  # For loading environment variables securely\n",
    "from random import randint\n",
    "\n",
    "# These are the core components for building tool-enabled agents\n",
    "from agent_framework import ChatAgent           # Main agent class\n",
    "from agent_framework.openai import OpenAIChatClient  # OpenAI-compatible client"
   ]
  },
  {
   "cell_type": "code",
   "execution_count": null,
   "id": "24c10eb0",
   "metadata": {},
   "outputs": [],
   "source": [
    "load_dotenv()"
   ]
  },
  {
   "cell_type": "code",
   "execution_count": null,
   "id": "151e0314",
   "metadata": {},
   "outputs": [],
   "source": [
    "# 🔑 Environment variables verification\n",
    "# Ensure all required GitHub Models credentials are properly configured\n",
    "print(\"GITHUB_ENDPOINT:\", os.environ.get(\"GITHUB_ENDPOINT\"))\n",
    "print(\"GITHUB_TOKEN:\", \"***\" if os.environ.get(\"GITHUB_TOKEN\") else \"Not set\")\n",
    "print(\"GITHUB_MODEL_ID:\", os.environ.get(\"GITHUB_MODEL_ID\"))"
   ]
  },
  {
   "cell_type": "code",
   "execution_count": null,
   "id": "a6141584",
   "metadata": {},
   "outputs": [],
   "source": [
    "# 🧪 Test GitHub Models connectivity\n",
    "openai_chat_client = OpenAIChatClient(base_url=os.environ.get(\"GITHUB_ENDPOINT\"), api_key=os.environ.get(\"GITHUB_TOKEN\"), model_id=os.environ.get(\"GITHUB_MODEL_ID\"))"
   ]
  },
  {
   "cell_type": "code",
   "execution_count": null,
   "id": "a6507f83",
   "metadata": {},
   "outputs": [],
   "source": [
    "# 🛠️ Define travel planning tools for agent integration\n",
    "# These functions provide specific capabilities that the agent can invoke dynamically\n",
    "\n",
    "def get_random_destination() -> str:\n",
    "    \"\"\"\n",
    "    🎲 Random destination generator tool\n",
    "    Returns a randomly selected travel destination from curated list\n",
    "    Useful when customers need inspiration for their next vacation\n",
    "    \"\"\"\n",
    "    destinations = [\n",
    "        \"Paris, France\",\n",
    "        \"Tokyo, Japan\", \n",
    "        \"New York City, USA\",\n",
    "        \"London, England\",\n",
    "        \"Rome, Italy\",\n",
    "        \"Sydney, Australia\",\n",
    "        \"Dubai, UAE\",\n",
    "        \"Barcelona, Spain\",\n",
    "        \"Bangkok, Thailand\",\n",
    "        \"Amsterdam, Netherlands\",\n",
    "        \"Istanbul, Turkey\",\n",
    "        \"Prague, Czech Republic\",\n",
    "        \"Santorini, Greece\",\n",
    "        \"Reykjavik, Iceland\",\n",
    "        \"Marrakech, Morocco\",\n",
    "        \"Cape Town, South Africa\",\n",
    "        \"Rio de Janeiro, Brazil\",\n",
    "        \"Bali, Indonesia\"\n",
    "    ]\n",
    "    # 🎯 Return random selection from the curated destination list\n",
    "    return destinations[randint(0, len(destinations) - 1)]"
   ]
  },
  {
   "cell_type": "code",
   "execution_count": null,
   "id": "5d4f0568",
   "metadata": {},
   "outputs": [],
   "source": [
    "# 🔗 Initialize GitHub Models chat client for agent communication\n",
    "# Creates the primary interface between the agent and the language model\n",
    "openai_chat_client = OpenAIChatClient(base_url=os.environ.get(\"GITHUB_ENDPOINT\"), api_key=os.environ.get(\"GITHUB_TOKEN\"), model_id=os.environ.get(\"GITHUB_MODEL_ID\"))"
   ]
  },
  {
   "cell_type": "code",
   "execution_count": null,
   "id": "751668c5",
   "metadata": {},
   "outputs": [],
   "source": [
    "# 🤖 Configure travel agent identity and behavioral instructions\n",
    "# Define the agent's personality, capabilities, and operational guidelines\n",
    "\n",
    "AGENT_NAME = \"TravelAgent\"\n",
    "\n",
    "AGENT_INSTRUCTIONS = \"\"\"You are a helpful AI Agent that can help plan vacations for customers at random destinations\n",
    "\"\"\""
   ]
  },
  {
   "cell_type": "code",
   "execution_count": null,
   "id": "be18ac4f",
   "metadata": {},
   "outputs": [],
   "source": [
    "agent = ChatAgent(\n",
    "        name = AGENT_NAME,\n",
    "        chat_client=openai_chat_client,\n",
    "        instructions=AGENT_INSTRUCTIONS,\n",
    "        tools=[get_random_destination]\n",
    ")"
   ]
  },
  {
   "cell_type": "code",
   "execution_count": null,
   "id": "772e9481",
   "metadata": {},
   "outputs": [],
   "source": [
    "thread = agent.get_new_thread()"
   ]
  },
  {
   "cell_type": "code",
   "execution_count": null,
   "id": "a731b547",
   "metadata": {},
   "outputs": [],
   "source": [
    "response1 = await agent.run(\"Plan me a day trip\",thread= thread)"
   ]
  },
  {
   "cell_type": "code",
   "execution_count": null,
   "id": "7d3fe00a",
   "metadata": {},
   "outputs": [],
   "source": [
    "\n",
    "last_message = response1.messages[-1]\n",
    "text_content = last_message.contents[0].text\n",
    "print(\"Travel plan:\")\n",
    "print(text_content)"
   ]
  },
  {
   "cell_type": "markdown",
   "metadata": {},
   "source": [
    "\n---\n\n**Disclaimer**:  \nThis document has been translated using the AI translation service [Co-op Translator](https://github.com/Azure/co-op-translator). While we aim for accuracy, please note that automated translations may contain errors or inaccuracies. The original document in its native language should be regarded as the authoritative source. For critical information, professional human translation is recommended. We are not responsible for any misunderstandings or misinterpretations resulting from the use of this translation.\n"
   ]
  }
 ],
 "metadata": {
  "kernelspec": {
   "display_name": "agentenv",
   "language": "python",
   "name": "python3"
  },
  "language_info": {
   "codemirror_mode": {
    "name": "ipython",
    "version": 3
   },
   "file_extension": ".py",
   "mimetype": "text/x-python",
   "name": "python",
   "nbconvert_exporter": "python",
   "pygments_lexer": "ipython3",
   "version": "3.12.10"
  },
  "polyglot_notebook": {
   "kernelInfo": {
    "defaultKernelName": "csharp",
    "items": [
     {
      "aliases": [],
      "name": "csharp"
     }
    ]
   }
  },
  "coopTranslator": {
   "original_hash": "42966ddac53cebaf0ac1ce33b2ee7059",
   "translation_date": "2025-10-02T19:30:15+00:00",
   "source_file": "04-tool-use/code_samples/04-python-agent-framework.ipynb",
   "language_code": "en"
  }
 },
 "nbformat": 4,
 "nbformat_minor": 5
}