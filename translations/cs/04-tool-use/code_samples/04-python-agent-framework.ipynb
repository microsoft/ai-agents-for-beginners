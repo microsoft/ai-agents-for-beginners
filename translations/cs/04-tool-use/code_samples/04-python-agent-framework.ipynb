{
 "cells": [
  {
   "cell_type": "markdown",
   "id": "8744544f",
   "metadata": {},
   "source": [
    "# 🛠️ Pokročilé použití nástrojů s modely GitHub (Python)\n",
    "\n",
    "## 📋 Cíle učení\n",
    "\n",
    "Tento notebook ukazuje pokročilé vzory integrace nástrojů pomocí Microsoft Agent Framework s modely GitHub. Naučíte se, jak vytvářet, spravovat a orchestrálně řídit více nástrojů pro budování sofistikovaných schopností agentů.\n",
    "\n",
    "**Co zvládnete:**\n",
    "- 🔧 **Architektura s více nástroji**: Vytváření agentů s více specializovanými nástroji\n",
    "- 🎯 **Logika výběru nástrojů**: Jak agenti vybírají správný nástroj pro každý úkol\n",
    "- 📊 **Nástroje pro zpracování dat**: Vytváření nástrojů, které zvládají různé typy dat\n",
    "- 🔗 **Kombinace nástrojů**: Spojování nástrojů pro složité pracovní postupy\n",
    "\n",
    "## 🎯 Klíčové vzory nástrojů\n",
    "\n",
    "### Principy návrhu nástrojů\n",
    "- **Jednoduchá odpovědnost**: Každý nástroj má jasný a zaměřený účel\n",
    "- **Typová bezpečnost**: Silné typování pro spolehlivé provádění nástrojů\n",
    "- **Zpracování chyb**: Elegantní selhání a vzory obnovy\n",
    "- **Skládatelnost**: Nástroje, které spolu dobře spolupracují\n",
    "\n",
    "### Pokročilé funkce nástrojů\n",
    "- **Vědomí kontextu**: Nástroje, které rozumí kontextu konverzace\n",
    "- **Validace dat**: Ověřování vstupů a výstupů\n",
    "- **Optimalizace výkonu**: Efektivní vzory provádění nástrojů\n",
    "- **Rozšiřitelnost**: Snadné přidávání nových schopností nástrojů\n",
    "\n",
    "## 🔧 Technická architektura\n",
    "\n",
    "### Základní komponenty\n",
    "- **Microsoft Agent Framework**: Implementace v Pythonu s podporou pokročilých nástrojů\n",
    "- **Integrace modelů GitHub**: Přístup k výkonným jazykovým modelům\n",
    "- **Systém registrace nástrojů**: Organizované řízení schopností agentů\n",
    "- **Vzory obnovy chyb**: Robustní zpracování selhání při provádění nástrojů\n",
    "\n",
    "### Tok integrace nástrojů\n",
    "```python\n",
    "User Request → Agent Analysis → Tool Selection → Tool Execution → Response Synthesis\n",
    "```\n",
    "\n",
    "## 🛠️ Kategorie nástrojů předvedené\n",
    "\n",
    "### 1. **Nástroje pro generování dat**\n",
    "- Generátor náhodných destinací\n",
    "- Poskytovatel informací o počasí  \n",
    "- Kalkulačka cestovních nákladů\n",
    "- Stroj na doporučení aktivit\n",
    "\n",
    "### 2. **Zpracovatelské nástroje**\n",
    "- Formátování a validace textu\n",
    "- Nástroje pro transformaci dat\n",
    "- Funkce pro analýzu obsahu\n",
    "- Nástroje pro vylepšení odpovědí\n",
    "\n",
    "### 3. **Integrační nástroje**\n",
    "- Konektory pro externí API\n",
    "- Operace se souborovým systémem\n",
    "- Rozhraní pro dotazy do databáze\n",
    "- Nástroje pro web scraping\n",
    "\n",
    "## ⚙️ Předpoklady a nastavení\n",
    "\n",
    "**Požadované závislosti:**\n",
    "```bash\n",
    "\n",
    "pip install agent-framework-core -U\n",
    "```\n",
    "\n",
    "**Konfigurace prostředí (soubor .env):**\n",
    "```env\n",
    "GITHUB_TOKEN=your_github_personal_access_token\n",
    "GITHUB_ENDPOINT=https://models.inference.ai.azure.com\n",
    "GITHUB_MODEL_ID=gpt-4o-mini\n",
    "```\n",
    "\n",
    "**Volitelné API:**\n",
    "- Klíč API pro službu počasí (pro nástroje počasí)\n",
    "- Přístup k API pro převod měn\n",
    "- Přihlašovací údaje ke službě cestovních informací\n",
    "\n",
    "## 🎨 Návrhové vzory\n",
    "\n",
    "### Vzor továrny na nástroje\n",
    "- Centralizované vytváření a konfigurace nástrojů\n",
    "- Konzistentní návrh rozhraní nástrojů\n",
    "- Snadná registrace a objevování nástrojů\n",
    "\n",
    "### Vzor příkazu\n",
    "- Zapouzdřená logika provádění nástrojů\n",
    "- Funkce undo/redo pro složité operace\n",
    "- Protokolování použití nástrojů\n",
    "\n",
    "### Vzor pozorovatele\n",
    "- Monitorování provádění nástrojů\n",
    "- Sběr metrik výkonu\n",
    "- Hlášení chyb a upozornění\n",
    "\n",
    "## 🚀 Nejlepší postupy\n",
    "\n",
    "- **Dokumentace nástrojů**: Jasné popisy pro pochopení agentem\n",
    "- **Validace vstupů**: Robustní kontrola a sanitace parametrů\n",
    "- **Formátování výstupů**: Konzistentní a snadno analyzovatelné odpovědi nástrojů\n",
    "- **Chybové zprávy**: Užitečné informace o chybách pro ladění\n",
    "- **Výkon**: Optimalizované provádění nástrojů pro rychlou odezvu\n",
    "\n",
    "Připraveni vytvářet agenty s výkonnými schopnostmi nástrojů? Pojďme vytvořit něco úžasného! ⚡\n"
   ]
  },
  {
   "cell_type": "code",
   "execution_count": null,
   "id": "59c0feeb",
   "metadata": {},
   "outputs": [],
   "source": [
    "! pip install agent-framework-core -U"
   ]
  },
  {
   "cell_type": "code",
   "execution_count": null,
   "id": "c0df8a52",
   "metadata": {},
   "outputs": [],
   "source": [
    "# � Import core dependencies for Agent Framework and tool integration\n",
    "# This sets up the essential libraries for building intelligent agents with tool capabilities\n",
    "\n",
    "import asyncio\n",
    "import os\n",
    "import json\n",
    "\n",
    "from dotenv import load_dotenv  # For loading environment variables securely\n",
    "from random import randint\n",
    "\n",
    "# These are the core components for building tool-enabled agents\n",
    "from agent_framework import ChatAgent           # Main agent class\n",
    "from agent_framework.openai import OpenAIChatClient  # OpenAI-compatible client"
   ]
  },
  {
   "cell_type": "code",
   "execution_count": null,
   "id": "24c10eb0",
   "metadata": {},
   "outputs": [],
   "source": [
    "load_dotenv()"
   ]
  },
  {
   "cell_type": "code",
   "execution_count": null,
   "id": "151e0314",
   "metadata": {},
   "outputs": [],
   "source": [
    "# 🔑 Environment variables verification\n",
    "# Ensure all required GitHub Models credentials are properly configured\n",
    "print(\"GITHUB_ENDPOINT:\", os.environ.get(\"GITHUB_ENDPOINT\"))\n",
    "print(\"GITHUB_TOKEN:\", \"***\" if os.environ.get(\"GITHUB_TOKEN\") else \"Not set\")\n",
    "print(\"GITHUB_MODEL_ID:\", os.environ.get(\"GITHUB_MODEL_ID\"))"
   ]
  },
  {
   "cell_type": "code",
   "execution_count": null,
   "id": "a6141584",
   "metadata": {},
   "outputs": [],
   "source": [
    "# 🧪 Test GitHub Models connectivity\n",
    "openai_chat_client = OpenAIChatClient(base_url=os.environ.get(\"GITHUB_ENDPOINT\"), api_key=os.environ.get(\"GITHUB_TOKEN\"), model_id=os.environ.get(\"GITHUB_MODEL_ID\"))"
   ]
  },
  {
   "cell_type": "code",
   "execution_count": null,
   "id": "a6507f83",
   "metadata": {},
   "outputs": [],
   "source": [
    "# 🛠️ Define travel planning tools for agent integration\n",
    "# These functions provide specific capabilities that the agent can invoke dynamically\n",
    "\n",
    "def get_random_destination() -> str:\n",
    "    \"\"\"\n",
    "    🎲 Random destination generator tool\n",
    "    Returns a randomly selected travel destination from curated list\n",
    "    Useful when customers need inspiration for their next vacation\n",
    "    \"\"\"\n",
    "    destinations = [\n",
    "        \"Paris, France\",\n",
    "        \"Tokyo, Japan\", \n",
    "        \"New York City, USA\",\n",
    "        \"London, England\",\n",
    "        \"Rome, Italy\",\n",
    "        \"Sydney, Australia\",\n",
    "        \"Dubai, UAE\",\n",
    "        \"Barcelona, Spain\",\n",
    "        \"Bangkok, Thailand\",\n",
    "        \"Amsterdam, Netherlands\",\n",
    "        \"Istanbul, Turkey\",\n",
    "        \"Prague, Czech Republic\",\n",
    "        \"Santorini, Greece\",\n",
    "        \"Reykjavik, Iceland\",\n",
    "        \"Marrakech, Morocco\",\n",
    "        \"Cape Town, South Africa\",\n",
    "        \"Rio de Janeiro, Brazil\",\n",
    "        \"Bali, Indonesia\"\n",
    "    ]\n",
    "    # 🎯 Return random selection from the curated destination list\n",
    "    return destinations[randint(0, len(destinations) - 1)]"
   ]
  },
  {
   "cell_type": "code",
   "execution_count": null,
   "id": "5d4f0568",
   "metadata": {},
   "outputs": [],
   "source": [
    "# 🔗 Initialize GitHub Models chat client for agent communication\n",
    "# Creates the primary interface between the agent and the language model\n",
    "openai_chat_client = OpenAIChatClient(base_url=os.environ.get(\"GITHUB_ENDPOINT\"), api_key=os.environ.get(\"GITHUB_TOKEN\"), model_id=os.environ.get(\"GITHUB_MODEL_ID\"))"
   ]
  },
  {
   "cell_type": "code",
   "execution_count": null,
   "id": "751668c5",
   "metadata": {},
   "outputs": [],
   "source": [
    "# 🤖 Configure travel agent identity and behavioral instructions\n",
    "# Define the agent's personality, capabilities, and operational guidelines\n",
    "\n",
    "AGENT_NAME = \"TravelAgent\"\n",
    "\n",
    "AGENT_INSTRUCTIONS = \"\"\"You are a helpful AI Agent that can help plan vacations for customers at random destinations\n",
    "\"\"\""
   ]
  },
  {
   "cell_type": "code",
   "execution_count": null,
   "id": "be18ac4f",
   "metadata": {},
   "outputs": [],
   "source": [
    "agent = ChatAgent(\n",
    "        name = AGENT_NAME,\n",
    "        chat_client=openai_chat_client,\n",
    "        instructions=AGENT_INSTRUCTIONS,\n",
    "        tools=[get_random_destination]\n",
    ")"
   ]
  },
  {
   "cell_type": "code",
   "execution_count": null,
   "id": "772e9481",
   "metadata": {},
   "outputs": [],
   "source": [
    "thread = agent.get_new_thread()"
   ]
  },
  {
   "cell_type": "code",
   "execution_count": null,
   "id": "a731b547",
   "metadata": {},
   "outputs": [],
   "source": [
    "response1 = await agent.run(\"Plan me a day trip\",thread= thread)"
   ]
  },
  {
   "cell_type": "code",
   "execution_count": null,
   "id": "7d3fe00a",
   "metadata": {},
   "outputs": [],
   "source": [
    "\n",
    "last_message = response1.messages[-1]\n",
    "text_content = last_message.contents[0].text\n",
    "print(\"Travel plan:\")\n",
    "print(text_content)"
   ]
  },
  {
   "cell_type": "markdown",
   "metadata": {},
   "source": [
    "\n---\n\n**Upozornění**:  \nTento dokument byl přeložen pomocí služby pro automatický překlad [Co-op Translator](https://github.com/Azure/co-op-translator). I když se snažíme o co největší přesnost, mějte prosím na paměti, že automatické překlady mohou obsahovat chyby nebo nepřesnosti. Původní dokument v jeho původním jazyce by měl být považován za autoritativní zdroj. Pro důležité informace doporučujeme profesionální lidský překlad. Neodpovídáme za žádná nedorozumění nebo nesprávné výklady vyplývající z použití tohoto překladu.\n"
   ]
  }
 ],
 "metadata": {
  "kernelspec": {
   "display_name": "agentenv",
   "language": "python",
   "name": "python3"
  },
  "language_info": {
   "codemirror_mode": {
    "name": "ipython",
    "version": 3
   },
   "file_extension": ".py",
   "mimetype": "text/x-python",
   "name": "python",
   "nbconvert_exporter": "python",
   "pygments_lexer": "ipython3",
   "version": "3.12.10"
  },
  "polyglot_notebook": {
   "kernelInfo": {
    "defaultKernelName": "csharp",
    "items": [
     {
      "aliases": [],
      "name": "csharp"
     }
    ]
   }
  },
  "coopTranslator": {
   "original_hash": "42966ddac53cebaf0ac1ce33b2ee7059",
   "translation_date": "2025-10-02T09:13:51+00:00",
   "source_file": "04-tool-use/code_samples/04-python-agent-framework.ipynb",
   "language_code": "cs"
  }
 },
 "nbformat": 4,
 "nbformat_minor": 5
}