{
 "cells": [
  {
   "cell_type": "markdown",
   "id": "44b5899e",
   "metadata": {},
   "source": [
    "# 🔍 Enterprise RAG s Azure AI Foundry (.NET)\n",
    "\n",
    "## 📋 Cíle učení\n",
    "\n",
    "Tento notebook ukazuje, jak vytvořit podnikové systémy Retrieval-Augmented Generation (RAG) pomocí Microsoft Agent Framework v .NET s Azure AI Foundry. Naučíte se vytvářet produkčně připravené agenty, kteří dokážou prohledávat dokumenty a poskytovat přesné, kontextově relevantní odpovědi s podnikovou bezpečností a škálovatelností.\n",
    "\n",
    "**Podnikové schopnosti RAG, které vytvoříte:**\n",
    "- 📚 **Inteligence dokumentů**: Pokročilé zpracování dokumentů s Azure AI službami\n",
    "- 🔍 **Sémantické vyhledávání**: Vysoce výkonné vektorové vyhledávání s podnikovými funkcemi\n",
    "- 🛡️ **Integrace bezpečnosti**: Role-based přístup a vzory ochrany dat\n",
    "- 🏢 **Škálovatelná architektura**: Produkčně připravené RAG systémy s monitorováním\n",
    "\n",
    "## 🎯 Architektura Enterprise RAG\n",
    "\n",
    "### Klíčové podnikové komponenty\n",
    "- **Azure AI Foundry**: Spravovaná podniková AI platforma s bezpečností a souladem\n",
    "- **Persistentní agenti**: Stavoví agenti s historií konverzací a správou kontextu\n",
    "- **Správa vektorového úložiště**: Podnikové indexování a vyhledávání dokumentů\n",
    "- **Integrace identity**: Autentizace Azure AD a role-based řízení přístupu\n",
    "\n",
    "### Výhody .NET pro podniky\n",
    "- **Typová bezpečnost**: Validace operací RAG a datových struktur při kompilaci\n",
    "- **Asynchronní výkon**: Nezablokované zpracování dokumentů a vyhledávacích operací\n",
    "- **Správa paměti**: Efektivní využití zdrojů pro velké kolekce dokumentů\n",
    "- **Vzorové integrace**: Nativní integrace Azure služeb s dependency injection\n",
    "\n",
    "## 🏗️ Technická architektura\n",
    "\n",
    "### Pipeline Enterprise RAG\n",
    "```csharp\n",
    "Document Upload → Security Validation → Vector Processing → Index Creation\n",
    "                      ↓                    ↓                  ↓\n",
    "User Query → Authentication → Semantic Search → Context Ranking → AI Response\n",
    "```\n",
    "\n",
    "### Klíčové komponenty .NET\n",
    "- **Azure.AI.Agents.Persistent**: Správa podnikových agentů s perzistencí stavu\n",
    "- **Azure.Identity**: Integrovaná autentizace pro bezpečný přístup k Azure službám\n",
    "- **Microsoft.Agents.AI.AzureAI**: Implementace agentního frameworku optimalizovaného pro Azure\n",
    "- **System.Linq.Async**: Vysoce výkonné asynchronní LINQ operace\n",
    "\n",
    "## 🔧 Podnikové funkce a výhody\n",
    "\n",
    "### Bezpečnost a soulad\n",
    "- **Integrace Azure AD**: Podniková správa identity a autentizace\n",
    "- **Role-based přístup**: Jemně odstupňovaná oprávnění pro přístup k dokumentům a operacím\n",
    "- **Ochrana dat**: Šifrování v klidu i při přenosu pro citlivé dokumenty\n",
    "- **Auditní logování**: Komplexní sledování aktivit pro požadavky na soulad\n",
    "\n",
    "### Výkon a škálovatelnost\n",
    "- **Pooling připojení**: Efektivní správa připojení k Azure službám\n",
    "- **Asynchronní zpracování**: Nezablokované operace pro scénáře s vysokou propustností\n",
    "- **Strategie cachování**: Inteligentní cachování často přistupovaných dokumentů\n",
    "- **Vyvažování zátěže**: Distribuované zpracování pro nasazení ve velkém měřítku\n",
    "\n",
    "### Správa a monitorování\n",
    "- **Kontroly zdraví**: Vestavěné monitorování komponent systému RAG\n",
    "- **Výkonnostní metriky**: Detailní analýzy kvality vyhledávání a doby odezvy\n",
    "- **Zpracování chyb**: Komplexní správa výjimek s politikami opakování\n",
    "- **Správa konfigurace**: Nastavení specifická pro prostředí s validací\n",
    "\n",
    "## ⚙️ Požadavky a nastavení\n",
    "\n",
    "**Vývojové prostředí:**\n",
    "- .NET 9.0 SDK nebo vyšší\n",
    "- Visual Studio 2022 nebo VS Code s rozšířením pro C#\n",
    "- Azure předplatné s přístupem k AI Foundry\n",
    "\n",
    "**Požadované balíčky NuGet:**\n",
    "```xml\n",
    "<PackageReference Include=\"Microsoft.Extensions.AI\" Version=\"9.9.0\" />\n",
    "<PackageReference Include=\"Azure.AI.Agents.Persistent\" Version=\"1.2.0-beta.5\" />\n",
    "<PackageReference Include=\"Azure.Identity\" Version=\"1.15.0\" />\n",
    "<PackageReference Include=\"System.Linq.Async\" Version=\"6.0.3\" />\n",
    "<PackageReference Include=\"DotNetEnv\" Version=\"3.1.1\" />\n",
    "```\n",
    "\n",
    "**Nastavení autentizace Azure:**\n",
    "```bash\n",
    "# Install Azure CLI and authenticate\n",
    "az login\n",
    "az account set --subscription \"your-subscription-id\"\n",
    "```\n",
    "\n",
    "**Konfigurace prostředí (.env soubor):**\n",
    "```env\n",
    "# Azure AI Foundry configuration (automatically handled via Azure CLI)\n",
    "# Ensure you're authenticated to the correct Azure subscription\n",
    "```\n",
    "\n",
    "## 📊 Vzory Enterprise RAG\n",
    "\n",
    "### Vzory správy dokumentů\n",
    "- **Hromadné nahrávání**: Efektivní zpracování velkých kolekcí dokumentů\n",
    "- **Inkrementální aktualizace**: Přidávání a úpravy dokumentů v reálném čase\n",
    "- **Správa verzí**: Verzování dokumentů a sledování změn\n",
    "- **Správa metadat**: Bohaté atributy dokumentů a taxonomie\n",
    "\n",
    "### Vzory vyhledávání a získávání\n",
    "- **Hybridní vyhledávání**: Kombinace sémantického a klíčového vyhledávání pro optimální výsledky\n",
    "- **Fasetové vyhledávání**: Vícedimenzionální filtrování a kategorizace\n",
    "- **Ladění relevance**: Vlastní algoritmy skórování pro specifické potřeby domény\n",
    "- **Hodnocení výsledků**: Pokročilé hodnocení s integrací obchodní logiky\n",
    "\n",
    "### Bezpečnostní vzory\n",
    "- **Bezpečnost na úrovni dokumentů**: Jemně odstupňované řízení přístupu na úrovni dokumentů\n",
    "- **Klasifikace dat**: Automatické označování citlivosti a ochrana\n",
    "- **Auditní stopy**: Komplexní logování všech operací RAG\n",
    "- **Ochrana soukromí**: Detekce a redakce PII\n",
    "\n",
    "## 🔒 Podnikové bezpečnostní funkce\n",
    "\n",
    "### Autentizace a autorizace\n",
    "```csharp\n",
    "// Azure AD integrated authentication\n",
    "var credential = new AzureCliCredential();\n",
    "var agentsClient = new PersistentAgentsClient(endpoint, credential);\n",
    "\n",
    "// Role-based access validation\n",
    "if (!await ValidateUserPermissions(user, documentId))\n",
    "{\n",
    "    throw new UnauthorizedAccessException(\"Insufficient permissions\");\n",
    "}\n",
    "```\n",
    "\n",
    "### Ochrana dat\n",
    "- **Šifrování**: End-to-end šifrování dokumentů a vyhledávacích indexů\n",
    "- **Řízení přístupu**: Integrace s Azure AD pro oprávnění uživatelů a skupin\n",
    "- **Rezidence dat**: Geografická kontrola umístění dat pro soulad\n",
    "- **Zálohování a obnova**: Automatizované zálohování a postupy obnovy po havárii\n",
    "\n",
    "## 📈 Optimalizace výkonu\n",
    "\n",
    "### Vzory asynchronního zpracování\n",
    "```csharp\n",
    "// Efficient async document processing\n",
    "await foreach (var document in documentStream.AsAsyncEnumerable())\n",
    "{\n",
    "    await ProcessDocumentAsync(document, cancellationToken);\n",
    "}\n",
    "```\n",
    "\n",
    "### Správa paměti\n",
    "- **Streamové zpracování**: Zpracování velkých dokumentů bez problémů s pamětí\n",
    "- **Pooling zdrojů**: Efektivní opětovné využití nákladných zdrojů\n",
    "- **Garbage Collection**: Optimalizované vzory alokace paměti\n",
    "- **Správa připojení**: Správný životní cyklus připojení k Azure službám\n",
    "\n",
    "### Strategie cachování\n",
    "- **Cachování dotazů**: Cachování často prováděných vyhledávání\n",
    "- **Cachování dokumentů**: Cachování v paměti pro často používané dokumenty\n",
    "- **Cachování indexů**: Optimalizované cachování vektorových indexů\n",
    "- **Cachování výsledků**: Inteligentní cachování generovaných odpovědí\n",
    "\n",
    "## 📊 Podnikové případy použití\n",
    "\n",
    "### Správa znalostí\n",
    "- **Podniková wiki**: Inteligentní vyhledávání v podnikovém znalostním základu\n",
    "- **Politiky a postupy**: Automatizované vedení v oblasti souladu a postupů\n",
    "- **Školící materiály**: Inteligentní pomoc při učení a rozvoji\n",
    "- **Výzkumné databáze**: Systémy analýzy akademických a výzkumných prací\n",
    "\n",
    "### Zákaznická podpora\n",
    "- **Znalostní báze podpory**: Automatizované odpovědi zákaznické podpory\n",
    "- **Produktová dokumentace**: Inteligentní získávání informací o produktech\n",
    "- **Průvodci řešením problémů**: Kontextová pomoc při řešení problémů\n",
    "- **FAQ systémy**: Dynamická generace FAQ z kolekcí dokumentů\n",
    "\n",
    "### Regulační soulad\n",
    "- **Analýza právních dokumentů**: Inteligence smluv a právních dokumentů\n",
    "- **Monitorování souladu**: Automatizované kontroly regulačního souladu\n",
    "- **Hodnocení rizik**: Analýza a reportování rizik na základě dokumentů\n",
    "- **Podpora auditu**: Inteligentní objevování dokumentů pro audity\n",
    "\n",
    "## 🚀 Nasazení do produkce\n",
    "\n",
    "### Monitorování a pozorovatelnost\n",
    "- **Application Insights**: Detailní telemetrie a monitorování výkonu\n",
    "- **Vlastní metriky**: Sledování a upozorňování na obchodně specifické KPI\n",
    "- **Distribuované trasování**: Sledování požadavků od začátku do konce napříč službami\n",
    "- **Dashboardy zdraví**: Vizualizace zdraví a výkonu systému v reálném čase\n",
    "\n",
    "### Škálovatelnost a spolehlivost\n",
    "- **Automatické škálování**: Automatické škálování na základě zátěže a metrik výkonu\n",
    "- **Vysoká dostupnost**: Nasazení v několika regionech s možností přepnutí při selhání\n",
    "- **Zátěžové testování**: Validace výkonu při podnikové zátěži\n",
    "- **Obnova po havárii**: Automatizované zálohování a postupy obnovy\n",
    "\n",
    "Připraveni vytvořit podnikové RAG systémy, které zvládnou citlivé dokumenty ve velkém měřítku? Pojďme navrhnout inteligentní znalostní systémy pro podniky! 🏢📖✨\n"
   ]
  },
  {
   "cell_type": "code",
   "execution_count": 1,
   "metadata": {
    "language_info": {
     "name": "polyglot-notebook"
    },
    "polyglot_notebook": {
     "kernelName": "csharp"
    }
   },
   "outputs": [
    {
     "data": {
      "text/html": [
       "<div><div></div><div></div><div><strong>Installed Packages</strong><ul><li><span>Microsoft.Extensions.AI, 9.9.1</span></li></ul></div></div>"
      ]
     },
     "metadata": {},
     "output_type": "display_data"
    }
   ],
   "source": [
    "#r \"nuget: Microsoft.Extensions.AI, 9.9.1\""
   ]
  },
  {
   "cell_type": "code",
   "execution_count": 2,
   "id": "4ec1f0d1",
   "metadata": {
    "language_info": {
     "name": "polyglot-notebook"
    },
    "polyglot_notebook": {
     "kernelName": "csharp"
    }
   },
   "outputs": [
    {
     "data": {
      "text/html": [
       "<div><div></div><div></div><div><strong>Installed Packages</strong><ul><li><span>Azure.AI.Agents.Persistent, 1.2.0-beta.5</span></li><li><span>Azure.Identity, 1.15.0</span></li><li><span>System.Linq.Async, 6.0.3</span></li></ul></div></div>"
      ]
     },
     "metadata": {},
     "output_type": "display_data"
    }
   ],
   "source": [
    "#r \"nuget: Azure.AI.Agents.Persistent, 1.2.0-beta.5\"\n",
    "#r \"nuget: Azure.Identity, 1.15.0\"\n",
    "#r \"nuget: System.Linq.Async, 6.0.3\""
   ]
  },
  {
   "cell_type": "code",
   "execution_count": 3,
   "id": "2363ae07",
   "metadata": {
    "language_info": {
     "name": "polyglot-notebook"
    },
    "polyglot_notebook": {
     "kernelName": "csharp"
    }
   },
   "outputs": [],
   "source": []
  },
  {
   "cell_type": "code",
   "execution_count": null,
   "id": "d10cec9d",
   "metadata": {
    "language_info": {
     "name": "polyglot-notebook"
    },
    "polyglot_notebook": {
     "kernelName": "csharp"
    }
   },
   "outputs": [
    {
     "data": {
      "text/html": [
       "<div><div></div><div></div><div><strong>Installed Packages</strong><ul><li><span>Microsoft.Agents.AI.AzureAI, 1.0.0-preview.251001.2</span></li></ul></div></div>"
      ]
     },
     "metadata": {},
     "output_type": "display_data"
    }
   ],
   "source": [
    "#r \"nuget: Microsoft.Agents.AI.AzureAI, 1.0.0-preview.251001.3\""
   ]
  },
  {
   "cell_type": "code",
   "execution_count": null,
   "id": "78199d1c",
   "metadata": {
    "language_info": {
     "name": "polyglot-notebook"
    },
    "polyglot_notebook": {
     "kernelName": "csharp"
    }
   },
   "outputs": [
    {
     "data": {
      "text/html": [
       "<div><div></div><div></div><div><strong>Installed Packages</strong><ul><li><span>microsoft.agents.ai, 1.0.0-preview.251001.2</span></li></ul></div></div>"
      ]
     },
     "metadata": {},
     "output_type": "display_data"
    }
   ],
   "source": [
    "#r \"nuget: Microsoft.Agents.AI, 1.0.0-preview.251001.3\""
   ]
  },
  {
   "cell_type": "code",
   "execution_count": 6,
   "id": "7de4684a",
   "metadata": {
    "language_info": {
     "name": "polyglot-notebook"
    },
    "polyglot_notebook": {
     "kernelName": "csharp"
    }
   },
   "outputs": [
    {
     "data": {
      "text/html": [
       "<div><div></div><div></div><div><strong>Installed Packages</strong><ul><li><span>DotNetEnv, 3.1.1</span></li></ul></div></div>"
      ]
     },
     "metadata": {},
     "output_type": "display_data"
    }
   ],
   "source": [
    "#r \"nuget: DotNetEnv, 3.1.1\""
   ]
  },
  {
   "cell_type": "code",
   "execution_count": 7,
   "id": "251efd31",
   "metadata": {
    "language_info": {
     "name": "polyglot-notebook"
    },
    "polyglot_notebook": {
     "kernelName": "csharp"
    }
   },
   "outputs": [],
   "source": [
    "using System;\n",
    "using System.Linq;\n",
    "using Azure.AI.Agents.Persistent;\n",
    "using Azure.Identity;\n",
    "using Microsoft.Agents.AI;"
   ]
  },
  {
   "cell_type": "code",
   "execution_count": 8,
   "id": "a2e342f1",
   "metadata": {
    "language_info": {
     "name": "polyglot-notebook"
    },
    "polyglot_notebook": {
     "kernelName": "csharp"
    }
   },
   "outputs": [],
   "source": [
    " using DotNetEnv;"
   ]
  },
  {
   "cell_type": "code",
   "execution_count": 9,
   "id": "a7a01653",
   "metadata": {
    "language_info": {
     "name": "polyglot-notebook"
    },
    "polyglot_notebook": {
     "kernelName": "csharp"
    }
   },
   "outputs": [],
   "source": [
    "Env.Load(\"../../../.env\");"
   ]
  },
  {
   "cell_type": "code",
   "execution_count": 10,
   "id": "a42735d5",
   "metadata": {
    "language_info": {
     "name": "polyglot-notebook"
    },
    "polyglot_notebook": {
     "kernelName": "csharp"
    }
   },
   "outputs": [],
   "source": [
    "var azure_foundry_endpoint = Environment.GetEnvironmentVariable(\"AZURE_AI_PROJECT_ENDPOINT\") ?? throw new InvalidOperationException(\"AZURE_AI_PROJECT_ENDPOINT is not set.\");\n",
    "var azure_foundry_model_id = Environment.GetEnvironmentVariable(\"AZURE_AI_MODEL_DEPLOYMENT_NAME\") ?? \"gpt-4.1-mini\";"
   ]
  },
  {
   "cell_type": "code",
   "execution_count": 11,
   "id": "e29bdb58",
   "metadata": {
    "language_info": {
     "name": "polyglot-notebook"
    },
    "polyglot_notebook": {
     "kernelName": "csharp"
    }
   },
   "outputs": [],
   "source": [
    "string pdfPath = \"./document.md\";"
   ]
  },
  {
   "cell_type": "code",
   "execution_count": 12,
   "id": "7351e12d",
   "metadata": {
    "language_info": {
     "name": "polyglot-notebook"
    },
    "polyglot_notebook": {
     "kernelName": "csharp"
    }
   },
   "outputs": [],
   "source": [
    "using System.IO;\n",
    "\n",
    "async Task<Stream> OpenImageStreamAsync(string path)\n",
    "{\n",
    "\treturn await Task.Run(() => File.OpenRead(path));\n",
    "}\n",
    "\n",
    "var pdfStream = await OpenImageStreamAsync(pdfPath);"
   ]
  },
  {
   "cell_type": "code",
   "execution_count": 13,
   "id": "0b6bf484",
   "metadata": {
    "language_info": {
     "name": "polyglot-notebook"
    },
    "polyglot_notebook": {
     "kernelName": "csharp"
    }
   },
   "outputs": [],
   "source": [
    "var persistentAgentsClient = new PersistentAgentsClient(azure_foundry_endpoint, new AzureCliCredential());"
   ]
  },
  {
   "cell_type": "code",
   "execution_count": 14,
   "id": "81e0dddc",
   "metadata": {
    "language_info": {
     "name": "polyglot-notebook"
    },
    "polyglot_notebook": {
     "kernelName": "csharp"
    }
   },
   "outputs": [],
   "source": [
    "PersistentAgentFileInfo fileInfo = await persistentAgentsClient.Files.UploadFileAsync(pdfStream, PersistentAgentFilePurpose.Agents, \"demo.md\");"
   ]
  },
  {
   "cell_type": "code",
   "execution_count": 15,
   "id": "f0c75d80",
   "metadata": {
    "language_info": {
     "name": "polyglot-notebook"
    },
    "polyglot_notebook": {
     "kernelName": "csharp"
    }
   },
   "outputs": [],
   "source": [
    "PersistentAgentsVectorStore fileStore =\n",
    "            await persistentAgentsClient.VectorStores.CreateVectorStoreAsync(\n",
    "                [fileInfo.Id],\n",
    "                metadata: new Dictionary<string, string>() { { \"agentkey\", bool.TrueString } });"
   ]
  },
  {
   "cell_type": "code",
   "execution_count": 16,
   "id": "c77986c5",
   "metadata": {
    "language_info": {
     "name": "polyglot-notebook"
    },
    "polyglot_notebook": {
     "kernelName": "csharp"
    }
   },
   "outputs": [],
   "source": [
    "PersistentAgent agentModel = await persistentAgentsClient.Administration.CreateAgentAsync(\n",
    "            azure_foundry_model_id,\n",
    "            name: \"DotNetRAGAgent\",\n",
    "            tools: [new FileSearchToolDefinition()],\n",
    "            instructions: \"\"\"\n",
    "                You are an AI assistant designed to answer user questions using only the information retrieved from the provided document(s).\n",
    "\n",
    "                - If a user's question cannot be answered using the retrieved context, **you must clearly respond**: \n",
    "                \"I'm sorry, but the uploaded document does not contain the necessary information to answer that question.\"\n",
    "                - Do not answer from general knowledge or reasoning. Do not make assumptions or generate hypothetical explanations.\n",
    "                - Do not provide definitions, tutorials, or commentary that is not explicitly grounded in the content of the uploaded file(s).\n",
    "                - If a user asks a question like \"What is a Neural Network?\", and this is not discussed in the uploaded document, respond as instructed above.\n",
    "                - For questions that do have relevant content in the document (e.g., Contoso's travel insurance coverage), respond accurately, and cite the document explicitly.\n",
    "\n",
    "                You must behave as if you have no external knowledge beyond what is retrieved from the uploaded document.\n",
    "                \"\"\",\n",
    "            toolResources: new()\n",
    "            {\n",
    "                FileSearch = new()\n",
    "                {\n",
    "                    VectorStoreIds = { fileStore.Id },\n",
    "                }\n",
    "            },\n",
    "            metadata: new Dictionary<string, string>() { { \"agentkey\", bool.TrueString } });"
   ]
  },
  {
   "cell_type": "code",
   "execution_count": 17,
   "id": "282326cf",
   "metadata": {
    "language_info": {
     "name": "polyglot-notebook"
    },
    "polyglot_notebook": {
     "kernelName": "csharp"
    }
   },
   "outputs": [],
   "source": [
    "AIAgent agent = await persistentAgentsClient.GetAIAgentAsync(agentModel.Id);"
   ]
  },
  {
   "cell_type": "code",
   "execution_count": 18,
   "id": "2067d313",
   "metadata": {
    "language_info": {
     "name": "polyglot-notebook"
    },
    "polyglot_notebook": {
     "kernelName": "csharp"
    }
   },
   "outputs": [],
   "source": [
    "AgentThread thread = agent.GetNewThread();"
   ]
  },
  {
   "cell_type": "code",
   "execution_count": 19,
   "id": "454c4230",
   "metadata": {
    "language_info": {
     "name": "polyglot-notebook"
    },
    "polyglot_notebook": {
     "kernelName": "csharp"
    }
   },
   "outputs": [
    {
     "name": "stdout",
     "output_type": "stream",
     "text": [
      "Contoso's travel insurance coverage includes protection for medical emergencies, trip cancellations, and lost baggage. This ensures that travelers are supported in case of health-related issues during their trip, unforeseen cancellations, and the loss of their belongings while traveling【4:0†demo.md】.\r\n"
     ]
    }
   ],
   "source": [
    "Console.WriteLine(await agent.RunAsync(\"Can you explain Contoso's travel insurance coverage?\", thread));"
   ]
  },
  {
   "cell_type": "markdown",
   "metadata": {},
   "source": [
    "\n---\n\n**Upozornění**:  \nTento dokument byl přeložen pomocí služby pro automatický překlad [Co-op Translator](https://github.com/Azure/co-op-translator). I když se snažíme o co největší přesnost, mějte prosím na paměti, že automatické překlady mohou obsahovat chyby nebo nepřesnosti. Za autoritativní zdroj by měl být považován původní dokument v jeho původním jazyce. Pro důležité informace doporučujeme profesionální lidský překlad. Neodpovídáme za žádná nedorozumění nebo nesprávné výklady vyplývající z použití tohoto překladu.\n"
   ]
  }
 ],
 "metadata": {
  "kernelspec": {
   "display_name": ".NET (C#)",
   "language": "C#",
   "name": ".net-csharp"
  },
  "language_info": {
   "name": "polyglot-notebook"
  },
  "polyglot_notebook": {
   "kernelInfo": {
    "defaultKernelName": "csharp",
    "items": [
     {
      "aliases": [],
      "name": "csharp"
     }
    ]
   }
  },
  "coopTranslator": {
   "original_hash": "e4584fa31638009dc6fb665275de8fc2",
   "translation_date": "2025-10-02T09:02:15+00:00",
   "source_file": "05-agentic-rag/code_samples/05-dotnet-agent-framework.ipynb",
   "language_code": "cs"
  }
 },
 "nbformat": 4,
 "nbformat_minor": 5
}