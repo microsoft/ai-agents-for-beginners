{
 "cells": [
  {
   "cell_type": "markdown",
   "id": "44b5899e",
   "metadata": {},
   "source": [
    "# 🔍 এন্টারপ্রাইজ RAG Azure AI Foundry (.NET) এর সাথে\n",
    "\n",
    "## 📋 শেখার লক্ষ্যসমূহ\n",
    "\n",
    "এই নোটবুকটি Microsoft Agent Framework ব্যবহার করে Azure AI Foundry-তে এন্টারপ্রাইজ-গ্রেড Retrieval-Augmented Generation (RAG) সিস্টেম তৈরি করার পদ্ধতি প্রদর্শন করে। আপনি প্রোডাকশন-রেডি এজেন্ট তৈরি করতে শিখবেন, যা ডকুমেন্ট অনুসন্ধান করতে পারে এবং সঠিক, প্রসঙ্গ-সচেতন উত্তর প্রদান করতে পারে এন্টারপ্রাইজ নিরাপত্তা এবং স্কেলেবিলিটির সাথে।\n",
    "\n",
    "**আপনি যে এন্টারপ্রাইজ RAG সক্ষমতাগুলি তৈরি করবেন:**\n",
    "- 📚 **ডকুমেন্ট ইন্টেলিজেন্স**: Azure AI পরিষেবাগুলির সাথে উন্নত ডকুমেন্ট প্রসেসিং\n",
    "- 🔍 **সেমান্টিক সার্চ**: এন্টারপ্রাইজ বৈশিষ্ট্য সহ উচ্চ-প্রদর্শনশীল ভেক্টর সার্চ\n",
    "- 🛡️ **নিরাপত্তা ইন্টিগ্রেশন**: রোল-ভিত্তিক অ্যাক্সেস এবং ডেটা সুরক্ষা প্যাটার্ন\n",
    "- 🏢 **স্কেলযোগ্য আর্কিটেকচার**: মনিটরিং সহ প্রোডাকশন-রেডি RAG সিস্টেম\n",
    "\n",
    "## 🎯 এন্টারপ্রাইজ RAG আর্কিটেকচার\n",
    "\n",
    "### মূল এন্টারপ্রাইজ উপাদানসমূহ\n",
    "- **Azure AI Foundry**: নিরাপত্তা এবং কমপ্লায়েন্স সহ পরিচালিত এন্টারপ্রাইজ AI প্ল্যাটফর্ম\n",
    "- **Persistent Agents**: কথোপকথনের ইতিহাস এবং প্রসঙ্গ ব্যবস্থাপনার সাথে স্টেটফুল এজেন্ট\n",
    "- **Vector Store Management**: এন্টারপ্রাইজ-গ্রেড ডকুমেন্ট ইনডেক্সিং এবং রিট্রিভাল\n",
    "- **Identity Integration**: Azure AD প্রমাণীকরণ এবং রোল-ভিত্তিক অ্যাক্সেস কন্ট্রোল\n",
    "\n",
    "### .NET এন্টারপ্রাইজ সুবিধাসমূহ\n",
    "- **টাইপ সেফটি**: RAG অপারেশন এবং ডেটা স্ট্রাকচারের জন্য কম্পাইল-টাইম যাচাইকরণ\n",
    "- **অ্যাসিঙ্ক পারফরম্যান্স**: নন-ব্লকিং ডকুমেন্ট প্রসেসিং এবং সার্চ অপারেশন\n",
    "- **মেমরি ম্যানেজমেন্ট**: বড় ডকুমেন্ট সংগ্রহের জন্য দক্ষ রিসোর্স ব্যবহার\n",
    "- **ইন্টিগ্রেশন প্যাটার্ন**: ডিপেনডেন্সি ইনজেকশনের সাথে নেটিভ Azure পরিষেবা ইন্টিগ্রেশন\n",
    "\n",
    "## 🏗️ টেকনিক্যাল আর্কিটেকচার\n",
    "\n",
    "### এন্টারপ্রাইজ RAG পাইপলাইন\n",
    "```csharp\n",
    "Document Upload → Security Validation → Vector Processing → Index Creation\n",
    "                      ↓                    ↓                  ↓\n",
    "User Query → Authentication → Semantic Search → Context Ranking → AI Response\n",
    "```\n",
    "\n",
    "### মূল .NET উপাদানসমূহ\n",
    "- **Azure.AI.Agents.Persistent**: স্টেট পার্সিস্টেন্স সহ এন্টারপ্রাইজ এজেন্ট ব্যবস্থাপনা\n",
    "- **Azure.Identity**: নিরাপদ Azure পরিষেবা অ্যাক্সেসের জন্য ইন্টিগ্রেটেড প্রমাণীকরণ\n",
    "- **Microsoft.Agents.AI.AzureAI**: Azure-অপ্টিমাইজড এজেন্ট ফ্রেমওয়ার্ক ইমপ্লিমেন্টেশন\n",
    "- **System.Linq.Async**: উচ্চ-প্রদর্শনশীল অ্যাসিঙ্ক্রোনাস LINQ অপারেশন\n",
    "\n",
    "## 🔧 এন্টারপ্রাইজ বৈশিষ্ট্য এবং সুবিধাসমূহ\n",
    "\n",
    "### নিরাপত্তা এবং কমপ্লায়েন্স\n",
    "- **Azure AD ইন্টিগ্রেশন**: এন্টারপ্রাইজ পরিচয় ব্যবস্থাপনা এবং প্রমাণীকরণ\n",
    "- **রোল-ভিত্তিক অ্যাক্সেস**: ডকুমেন্ট অ্যাক্সেস এবং অপারেশনের জন্য সূক্ষ্ম-গ্রেড পারমিশন\n",
    "- **ডেটা সুরক্ষা**: সংবেদনশীল ডকুমেন্টের জন্য রেস্ট এবং ট্রানজিট এনক্রিপশন\n",
    "- **অডিট লগিং**: কমপ্লায়েন্স প্রয়োজনীয়তার জন্য ব্যাপক কার্যকলাপ ট্র্যাকিং\n",
    "\n",
    "### পারফরম্যান্স এবং স্কেলেবিলিটি\n",
    "- **কানেকশন পুলিং**: দক্ষ Azure পরিষেবা কানেকশন ব্যবস্থাপনা\n",
    "- **অ্যাসিঙ্ক প্রসেসিং**: উচ্চ-থ্রুপুট পরিস্থিতির জন্য নন-ব্লকিং অপারেশন\n",
    "- **ক্যাশিং স্ট্র্যাটেজি**: প্রায়ই অ্যাক্সেস করা ডকুমেন্টের জন্য বুদ্ধিমান ক্যাশিং\n",
    "- **লোড ব্যালেন্সিং**: বড়-স্কেল ডিপ্লয়মেন্টের জন্য বিতরণকৃত প্রসেসিং\n",
    "\n",
    "### ব্যবস্থাপনা এবং মনিটরিং\n",
    "- **হেলথ চেক**: RAG সিস্টেম উপাদানগুলির জন্য বিল্ট-ইন মনিটরিং\n",
    "- **পারফরম্যান্স মেট্রিকস**: সার্চ কোয়ালিটি এবং রেসপন্স টাইমের বিস্তারিত বিশ্লেষণ\n",
    "- **এরর হ্যান্ডলিং**: রিট্রাই পলিসি সহ ব্যাপক এক্সেপশন ব্যবস্থাপনা\n",
    "- **কনফিগারেশন ম্যানেজমেন্ট**: পরিবেশ-নির্দিষ্ট সেটিংস সহ যাচাইকরণ\n",
    "\n",
    "## ⚙️ প্রয়োজনীয়তা এবং সেটআপ\n",
    "\n",
    "**ডেভেলপমেন্ট এনভায়রনমেন্ট:**\n",
    "- .NET 9.0 SDK বা তার বেশি\n",
    "- Visual Studio 2022 বা VS Code C# এক্সটেনশন সহ\n",
    "- Azure সাবস্ক্রিপশন AI Foundry অ্যাক্সেস সহ\n",
    "\n",
    "**প্রয়োজনীয় NuGet প্যাকেজসমূহ:**\n",
    "```xml\n",
    "<PackageReference Include=\"Microsoft.Extensions.AI\" Version=\"9.9.0\" />\n",
    "<PackageReference Include=\"Azure.AI.Agents.Persistent\" Version=\"1.2.0-beta.5\" />\n",
    "<PackageReference Include=\"Azure.Identity\" Version=\"1.15.0\" />\n",
    "<PackageReference Include=\"System.Linq.Async\" Version=\"6.0.3\" />\n",
    "<PackageReference Include=\"DotNetEnv\" Version=\"3.1.1\" />\n",
    "```\n",
    "\n",
    "**Azure প্রমাণীকরণ সেটআপ:**\n",
    "```bash\n",
    "# Install Azure CLI and authenticate\n",
    "az login\n",
    "az account set --subscription \"your-subscription-id\"\n",
    "```\n",
    "\n",
    "**পরিবেশ কনফিগারেশন (.env ফাইল):**\n",
    "```env\n",
    "# Azure AI Foundry configuration (automatically handled via Azure CLI)\n",
    "# Ensure you're authenticated to the correct Azure subscription\n",
    "```\n",
    "\n",
    "## 📊 এন্টারপ্রাইজ RAG প্যাটার্ন\n",
    "\n",
    "### ডকুমেন্ট ব্যবস্থাপনা প্যাটার্ন\n",
    "- **বাল্ক আপলোড**: বড় ডকুমেন্ট সংগ্রহের দক্ষ প্রসেসিং\n",
    "- **ইনক্রিমেন্টাল আপডেট**: রিয়েল-টাইম ডকুমেন্ট যোগ এবং পরিবর্তন\n",
    "- **ভার্সন কন্ট্রোল**: ডকুমেন্ট ভার্সনিং এবং পরিবর্তন ট্র্যাকিং\n",
    "- **মেটাডেটা ব্যবস্থাপনা**: সমৃদ্ধ ডকুমেন্ট অ্যাট্রিবিউট এবং ট্যাক্সোনমি\n",
    "\n",
    "### সার্চ এবং রিট্রিভাল প্যাটার্ন\n",
    "- **হাইব্রিড সার্চ**: সেমান্টিক এবং কীওয়ার্ড সার্চের সংমিশ্রণ\n",
    "- **ফ্যাসেটেড সার্চ**: মাল্টি-ডাইমেনশনাল ফিল্টারিং এবং ক্যাটাগরাইজেশন\n",
    "- **রিলেভেন্স টিউনিং**: ডোমেইন-নির্দিষ্ট প্রয়োজনের জন্য কাস্টম স্কোরিং অ্যালগরিদম\n",
    "- **রেজাল্ট র‍্যাংকিং**: ব্যবসায়িক লজিক ইন্টিগ্রেশন সহ উন্নত র‍্যাংকিং\n",
    "\n",
    "### নিরাপত্তা প্যাটার্ন\n",
    "- **ডকুমেন্ট-লেভেল নিরাপত্তা**: প্রতি ডকুমেন্ট সূক্ষ্ম-গ্রেড অ্যাক্সেস কন্ট্রোল\n",
    "- **ডেটা ক্লাসিফিকেশন**: স্বয়ংক্রিয় সংবেদনশীলতা লেবেলিং এবং সুরক্ষা\n",
    "- **অডিট ট্রেইল**: সমস্ত RAG অপারেশনের ব্যাপক লগিং\n",
    "- **প্রাইভেসি প্রোটেকশন**: PII সনাক্তকরণ এবং রেডাকশন সক্ষমতা\n",
    "\n",
    "## 🔒 এন্টারপ্রাইজ নিরাপত্তা বৈশিষ্ট্য\n",
    "\n",
    "### প্রমাণীকরণ এবং অনুমোদন\n",
    "```csharp\n",
    "// Azure AD integrated authentication\n",
    "var credential = new AzureCliCredential();\n",
    "var agentsClient = new PersistentAgentsClient(endpoint, credential);\n",
    "\n",
    "// Role-based access validation\n",
    "if (!await ValidateUserPermissions(user, documentId))\n",
    "{\n",
    "    throw new UnauthorizedAccessException(\"Insufficient permissions\");\n",
    "}\n",
    "```\n",
    "\n",
    "### ডেটা সুরক্ষা\n",
    "- **এনক্রিপশন**: ডকুমেন্ট এবং সার্চ ইনডেক্সের জন্য এন্ড-টু-এন্ড এনক্রিপশন\n",
    "- **অ্যাক্সেস কন্ট্রোল**: ব্যবহারকারী এবং গ্রুপ পারমিশনের জন্য Azure AD ইন্টিগ্রেশন\n",
    "- **ডেটা রেসিডেন্সি**: কমপ্লায়েন্সের জন্য ভৌগোলিক ডেটা অবস্থান নিয়ন্ত্রণ\n",
    "- **ব্যাকআপ এবং রিকভারি**: স্বয়ংক্রিয় ব্যাকআপ এবং দুর্যোগ পুনরুদ্ধার সক্ষমতা\n",
    "\n",
    "## 📈 পারফরম্যান্স অপ্টিমাইজেশন\n",
    "\n",
    "### অ্যাসিঙ্ক প্রসেসিং প্যাটার্ন\n",
    "```csharp\n",
    "// Efficient async document processing\n",
    "await foreach (var document in documentStream.AsAsyncEnumerable())\n",
    "{\n",
    "    await ProcessDocumentAsync(document, cancellationToken);\n",
    "}\n",
    "```\n",
    "\n",
    "### মেমরি ব্যবস্থাপনা\n",
    "- **স্ট্রিমিং প্রসেসিং**: বড় ডকুমেন্ট মেমরি সমস্যাগুলি ছাড়াই পরিচালনা\n",
    "- **রিসোর্স পুলিং**: ব্যয়বহুল রিসোর্সের দক্ষ পুনঃব্যবহার\n",
    "- **গার্বেজ কালেকশন**: অপ্টিমাইজড মেমরি বরাদ্দ প্যাটার্ন\n",
    "- **কানেকশন ব্যবস্থাপনা**: সঠিক Azure পরিষেবা কানেকশন লাইফসাইকেল\n",
    "\n",
    "### ক্যাশিং স্ট্র্যাটেজি\n",
    "- **কোয়েরি ক্যাশিং**: প্রায়ই কার্যকর করা সার্চগুলির ক্যাশিং\n",
    "- **ডকুমেন্ট ক্যাশিং**: হট ডকুমেন্টের জন্য ইন-মেমরি ক্যাশিং\n",
    "- **ইনডেক্স ক্যাশিং**: অপ্টিমাইজড ভেক্টর ইনডেক্স ক্যাশিং\n",
    "- **রেজাল্ট ক্যাশিং**: জেনারেট করা উত্তরগুলির বুদ্ধিমান ক্যাশিং\n",
    "\n",
    "## 📊 এন্টারপ্রাইজ ব্যবহার ক্ষেত্র\n",
    "\n",
    "### জ্ঞান ব্যবস্থাপনা\n",
    "- **কর্পোরেট উইকি**: কোম্পানির জ্ঞানভিত্তিক অনুসন্ধানের জন্য বুদ্ধিমান সার্চ\n",
    "- **নীতি এবং পদ্ধতি**: স্বয়ংক্রিয় কমপ্লায়েন্স এবং পদ্ধতি নির্দেশিকা\n",
    "- **প্রশিক্ষণ সামগ্রী**: বুদ্ধিমান শেখা এবং উন্নয়ন সহায়তা\n",
    "- **গবেষণা ডাটাবেস**: একাডেমিক এবং গবেষণা পেপার বিশ্লেষণ সিস্টেম\n",
    "\n",
    "### গ্রাহক সহায়তা\n",
    "- **সহায়তা জ্ঞানভিত্তিক**: স্বয়ংক্রিয় গ্রাহক পরিষেবা উত্তর\n",
    "- **পণ্য ডকুমেন্টেশন**: বুদ্ধিমান পণ্য তথ্য অনুসন্ধান\n",
    "- **সমস্যা সমাধানের নির্দেশিকা**: প্রসঙ্গ-সচেতন সমস্যা সমাধানের সহায়তা\n",
    "- **FAQ সিস্টেম**: ডকুমেন্ট সংগ্রহ থেকে গতিশীল FAQ তৈরি\n",
    "\n",
    "### নিয়ন্ত্রক কমপ্লায়েন্স\n",
    "- **আইনি ডকুমেন্ট বিশ্লেষণ**: চুক্তি এবং আইনি ডকুমেন্ট ইন্টেলিজেন্স\n",
    "- **কমপ্লায়েন্স মনিটরিং**: স্বয়ংক্রিয় নিয়ন্ত্রক কমপ্লায়েন্স যাচাইকরণ\n",
    "- **ঝুঁকি মূল্যায়ন**: ডকুমেন্ট-ভিত্তিক ঝুঁকি বিশ্লেষণ এবং রিপোর্টিং\n",
    "- **অডিট সহায়তা**: অডিটের জন্য বুদ্ধিমান ডকুমেন্ট অনুসন্ধান\n",
    "\n",
    "## 🚀 প্রোডাকশন ডিপ্লয়মেন্ট\n",
    "\n",
    "### মনিটরিং এবং পর্যবেক্ষণ\n",
    "- **অ্যাপ্লিকেশন ইনসাইটস**: বিস্তারিত টেলিমেট্রি এবং পারফরম্যান্স মনিটরিং\n",
    "- **কাস্টম মেট্রিকস**: ব্যবসায়িক-নির্দিষ্ট KPI ট্র্যাকিং এবং অ্যালার্টিং\n",
    "- **ডিস্ট্রিবিউটেড ট্রেসিং**: পরিষেবাগুলির মধ্যে এন্ড-টু-এন্ড অনুরোধ ট্র্যাকিং\n",
    "- **হেলথ ড্যাশবোর্ড**: রিয়েল-টাইম সিস্টেম স্বাস্থ্য এবং পারফরম্যান্স ভিজ্যুয়ালাইজেশন\n",
    "\n",
    "### স্কেলেবিলিটি এবং নির্ভরযোগ্যতা\n",
    "- **অটো-স্কেলিং**: লোড এবং পারফরম্যান্স মেট্রিকের উপর ভিত্তি করে স্বয়ংক্রিয় স্কেলিং\n",
    "- **উচ্চ প্রাপ্যতা**: মাল্টি-রিজিওন ডিপ্লয়মেন্ট ফেইলওভার সক্ষমতার সাথে\n",
    "- **লোড টেস্টিং**: এন্টারপ্রাইজ লোড পরিস্থিতিতে পারফরম্যান্স যাচাইকরণ\n",
    "- **দুর্যোগ পুনরুদ্ধার**: স্বয়ংক্রিয় ব্যাকআপ এবং পুনরুদ্ধার পদ্ধতি\n",
    "\n",
    "এন্টারপ্রাইজ-গ্রেড RAG সিস্টেম তৈরি করতে প্রস্তুত যা সংবেদনশীল ডকুমেন্টগুলি স্কেলে পরিচালনা করতে পারে? চলুন এন্টারপ্রাইজের জন্য বুদ্ধিমান জ্ঞান সিস্টেম আর্কিটেক্ট করি! 🏢📖✨\n"
   ]
  },
  {
   "cell_type": "code",
   "execution_count": 1,
   "metadata": {
    "language_info": {
     "name": "polyglot-notebook"
    },
    "polyglot_notebook": {
     "kernelName": "csharp"
    }
   },
   "outputs": [
    {
     "data": {
      "text/html": [
       "<div><div></div><div></div><div><strong>Installed Packages</strong><ul><li><span>Microsoft.Extensions.AI, 9.9.1</span></li></ul></div></div>"
      ]
     },
     "metadata": {},
     "output_type": "display_data"
    }
   ],
   "source": [
    "#r \"nuget: Microsoft.Extensions.AI, 9.9.1\""
   ]
  },
  {
   "cell_type": "code",
   "execution_count": 2,
   "id": "4ec1f0d1",
   "metadata": {
    "language_info": {
     "name": "polyglot-notebook"
    },
    "polyglot_notebook": {
     "kernelName": "csharp"
    }
   },
   "outputs": [
    {
     "data": {
      "text/html": [
       "<div><div></div><div></div><div><strong>Installed Packages</strong><ul><li><span>Azure.AI.Agents.Persistent, 1.2.0-beta.5</span></li><li><span>Azure.Identity, 1.15.0</span></li><li><span>System.Linq.Async, 6.0.3</span></li></ul></div></div>"
      ]
     },
     "metadata": {},
     "output_type": "display_data"
    }
   ],
   "source": [
    "#r \"nuget: Azure.AI.Agents.Persistent, 1.2.0-beta.5\"\n",
    "#r \"nuget: Azure.Identity, 1.15.0\"\n",
    "#r \"nuget: System.Linq.Async, 6.0.3\""
   ]
  },
  {
   "cell_type": "code",
   "execution_count": 3,
   "id": "2363ae07",
   "metadata": {
    "language_info": {
     "name": "polyglot-notebook"
    },
    "polyglot_notebook": {
     "kernelName": "csharp"
    }
   },
   "outputs": [],
   "source": []
  },
  {
   "cell_type": "code",
   "execution_count": null,
   "id": "d10cec9d",
   "metadata": {
    "language_info": {
     "name": "polyglot-notebook"
    },
    "polyglot_notebook": {
     "kernelName": "csharp"
    }
   },
   "outputs": [
    {
     "data": {
      "text/html": [
       "<div><div></div><div></div><div><strong>Installed Packages</strong><ul><li><span>Microsoft.Agents.AI.AzureAI, 1.0.0-preview.251001.2</span></li></ul></div></div>"
      ]
     },
     "metadata": {},
     "output_type": "display_data"
    }
   ],
   "source": [
    "#r \"nuget: Microsoft.Agents.AI.AzureAI, 1.0.0-preview.251001.3\""
   ]
  },
  {
   "cell_type": "code",
   "execution_count": null,
   "id": "78199d1c",
   "metadata": {
    "language_info": {
     "name": "polyglot-notebook"
    },
    "polyglot_notebook": {
     "kernelName": "csharp"
    }
   },
   "outputs": [
    {
     "data": {
      "text/html": [
       "<div><div></div><div></div><div><strong>Installed Packages</strong><ul><li><span>microsoft.agents.ai, 1.0.0-preview.251001.2</span></li></ul></div></div>"
      ]
     },
     "metadata": {},
     "output_type": "display_data"
    }
   ],
   "source": [
    "#r \"nuget: Microsoft.Agents.AI, 1.0.0-preview.251001.3\""
   ]
  },
  {
   "cell_type": "code",
   "execution_count": 6,
   "id": "7de4684a",
   "metadata": {
    "language_info": {
     "name": "polyglot-notebook"
    },
    "polyglot_notebook": {
     "kernelName": "csharp"
    }
   },
   "outputs": [
    {
     "data": {
      "text/html": [
       "<div><div></div><div></div><div><strong>Installed Packages</strong><ul><li><span>DotNetEnv, 3.1.1</span></li></ul></div></div>"
      ]
     },
     "metadata": {},
     "output_type": "display_data"
    }
   ],
   "source": [
    "#r \"nuget: DotNetEnv, 3.1.1\""
   ]
  },
  {
   "cell_type": "code",
   "execution_count": 7,
   "id": "251efd31",
   "metadata": {
    "language_info": {
     "name": "polyglot-notebook"
    },
    "polyglot_notebook": {
     "kernelName": "csharp"
    }
   },
   "outputs": [],
   "source": [
    "using System;\n",
    "using System.Linq;\n",
    "using Azure.AI.Agents.Persistent;\n",
    "using Azure.Identity;\n",
    "using Microsoft.Agents.AI;"
   ]
  },
  {
   "cell_type": "code",
   "execution_count": 8,
   "id": "a2e342f1",
   "metadata": {
    "language_info": {
     "name": "polyglot-notebook"
    },
    "polyglot_notebook": {
     "kernelName": "csharp"
    }
   },
   "outputs": [],
   "source": [
    " using DotNetEnv;"
   ]
  },
  {
   "cell_type": "code",
   "execution_count": 9,
   "id": "a7a01653",
   "metadata": {
    "language_info": {
     "name": "polyglot-notebook"
    },
    "polyglot_notebook": {
     "kernelName": "csharp"
    }
   },
   "outputs": [],
   "source": [
    "Env.Load(\"../../../.env\");"
   ]
  },
  {
   "cell_type": "code",
   "execution_count": 10,
   "id": "a42735d5",
   "metadata": {
    "language_info": {
     "name": "polyglot-notebook"
    },
    "polyglot_notebook": {
     "kernelName": "csharp"
    }
   },
   "outputs": [],
   "source": [
    "var azure_foundry_endpoint = Environment.GetEnvironmentVariable(\"AZURE_AI_PROJECT_ENDPOINT\") ?? throw new InvalidOperationException(\"AZURE_AI_PROJECT_ENDPOINT is not set.\");\n",
    "var azure_foundry_model_id = Environment.GetEnvironmentVariable(\"AZURE_AI_MODEL_DEPLOYMENT_NAME\") ?? \"gpt-4.1-mini\";"
   ]
  },
  {
   "cell_type": "code",
   "execution_count": 11,
   "id": "e29bdb58",
   "metadata": {
    "language_info": {
     "name": "polyglot-notebook"
    },
    "polyglot_notebook": {
     "kernelName": "csharp"
    }
   },
   "outputs": [],
   "source": [
    "string pdfPath = \"./document.md\";"
   ]
  },
  {
   "cell_type": "code",
   "execution_count": 12,
   "id": "7351e12d",
   "metadata": {
    "language_info": {
     "name": "polyglot-notebook"
    },
    "polyglot_notebook": {
     "kernelName": "csharp"
    }
   },
   "outputs": [],
   "source": [
    "using System.IO;\n",
    "\n",
    "async Task<Stream> OpenImageStreamAsync(string path)\n",
    "{\n",
    "\treturn await Task.Run(() => File.OpenRead(path));\n",
    "}\n",
    "\n",
    "var pdfStream = await OpenImageStreamAsync(pdfPath);"
   ]
  },
  {
   "cell_type": "code",
   "execution_count": 13,
   "id": "0b6bf484",
   "metadata": {
    "language_info": {
     "name": "polyglot-notebook"
    },
    "polyglot_notebook": {
     "kernelName": "csharp"
    }
   },
   "outputs": [],
   "source": [
    "var persistentAgentsClient = new PersistentAgentsClient(azure_foundry_endpoint, new AzureCliCredential());"
   ]
  },
  {
   "cell_type": "code",
   "execution_count": 14,
   "id": "81e0dddc",
   "metadata": {
    "language_info": {
     "name": "polyglot-notebook"
    },
    "polyglot_notebook": {
     "kernelName": "csharp"
    }
   },
   "outputs": [],
   "source": [
    "PersistentAgentFileInfo fileInfo = await persistentAgentsClient.Files.UploadFileAsync(pdfStream, PersistentAgentFilePurpose.Agents, \"demo.md\");"
   ]
  },
  {
   "cell_type": "code",
   "execution_count": 15,
   "id": "f0c75d80",
   "metadata": {
    "language_info": {
     "name": "polyglot-notebook"
    },
    "polyglot_notebook": {
     "kernelName": "csharp"
    }
   },
   "outputs": [],
   "source": [
    "PersistentAgentsVectorStore fileStore =\n",
    "            await persistentAgentsClient.VectorStores.CreateVectorStoreAsync(\n",
    "                [fileInfo.Id],\n",
    "                metadata: new Dictionary<string, string>() { { \"agentkey\", bool.TrueString } });"
   ]
  },
  {
   "cell_type": "code",
   "execution_count": 16,
   "id": "c77986c5",
   "metadata": {
    "language_info": {
     "name": "polyglot-notebook"
    },
    "polyglot_notebook": {
     "kernelName": "csharp"
    }
   },
   "outputs": [],
   "source": [
    "PersistentAgent agentModel = await persistentAgentsClient.Administration.CreateAgentAsync(\n",
    "            azure_foundry_model_id,\n",
    "            name: \"DotNetRAGAgent\",\n",
    "            tools: [new FileSearchToolDefinition()],\n",
    "            instructions: \"\"\"\n",
    "                You are an AI assistant designed to answer user questions using only the information retrieved from the provided document(s).\n",
    "\n",
    "                - If a user's question cannot be answered using the retrieved context, **you must clearly respond**: \n",
    "                \"I'm sorry, but the uploaded document does not contain the necessary information to answer that question.\"\n",
    "                - Do not answer from general knowledge or reasoning. Do not make assumptions or generate hypothetical explanations.\n",
    "                - Do not provide definitions, tutorials, or commentary that is not explicitly grounded in the content of the uploaded file(s).\n",
    "                - If a user asks a question like \"What is a Neural Network?\", and this is not discussed in the uploaded document, respond as instructed above.\n",
    "                - For questions that do have relevant content in the document (e.g., Contoso's travel insurance coverage), respond accurately, and cite the document explicitly.\n",
    "\n",
    "                You must behave as if you have no external knowledge beyond what is retrieved from the uploaded document.\n",
    "                \"\"\",\n",
    "            toolResources: new()\n",
    "            {\n",
    "                FileSearch = new()\n",
    "                {\n",
    "                    VectorStoreIds = { fileStore.Id },\n",
    "                }\n",
    "            },\n",
    "            metadata: new Dictionary<string, string>() { { \"agentkey\", bool.TrueString } });"
   ]
  },
  {
   "cell_type": "code",
   "execution_count": 17,
   "id": "282326cf",
   "metadata": {
    "language_info": {
     "name": "polyglot-notebook"
    },
    "polyglot_notebook": {
     "kernelName": "csharp"
    }
   },
   "outputs": [],
   "source": [
    "AIAgent agent = await persistentAgentsClient.GetAIAgentAsync(agentModel.Id);"
   ]
  },
  {
   "cell_type": "code",
   "execution_count": 18,
   "id": "2067d313",
   "metadata": {
    "language_info": {
     "name": "polyglot-notebook"
    },
    "polyglot_notebook": {
     "kernelName": "csharp"
    }
   },
   "outputs": [],
   "source": [
    "AgentThread thread = agent.GetNewThread();"
   ]
  },
  {
   "cell_type": "code",
   "execution_count": 19,
   "id": "454c4230",
   "metadata": {
    "language_info": {
     "name": "polyglot-notebook"
    },
    "polyglot_notebook": {
     "kernelName": "csharp"
    }
   },
   "outputs": [
    {
     "name": "stdout",
     "output_type": "stream",
     "text": [
      "Contoso's travel insurance coverage includes protection for medical emergencies, trip cancellations, and lost baggage. This ensures that travelers are supported in case of health-related issues during their trip, unforeseen cancellations, and the loss of their belongings while traveling【4:0†demo.md】.\r\n"
     ]
    }
   ],
   "source": [
    "Console.WriteLine(await agent.RunAsync(\"Can you explain Contoso's travel insurance coverage?\", thread));"
   ]
  },
  {
   "cell_type": "markdown",
   "metadata": {},
   "source": [
    "\n---\n\n**অস্বীকৃতি**:  \nএই নথিটি AI অনুবাদ পরিষেবা [Co-op Translator](https://github.com/Azure/co-op-translator) ব্যবহার করে অনুবাদ করা হয়েছে। আমরা যথাসাধ্য সঠিকতার জন্য চেষ্টা করি, তবে অনুগ্রহ করে মনে রাখবেন যে স্বয়ংক্রিয় অনুবাদে ত্রুটি বা অসঙ্গতি থাকতে পারে। এর মূল ভাষায় থাকা নথিটিকে প্রামাণিক উৎস হিসেবে বিবেচনা করা উচিত। গুরুত্বপূর্ণ তথ্যের জন্য, পেশাদার মানব অনুবাদ সুপারিশ করা হয়। এই অনুবাদ ব্যবহারের ফলে কোনো ভুল বোঝাবুঝি বা ভুল ব্যাখ্যা হলে আমরা দায়বদ্ধ থাকব না।\n"
   ]
  }
 ],
 "metadata": {
  "kernelspec": {
   "display_name": ".NET (C#)",
   "language": "C#",
   "name": ".net-csharp"
  },
  "language_info": {
   "name": "polyglot-notebook"
  },
  "polyglot_notebook": {
   "kernelInfo": {
    "defaultKernelName": "csharp",
    "items": [
     {
      "aliases": [],
      "name": "csharp"
     }
    ]
   }
  },
  "coopTranslator": {
   "original_hash": "e4584fa31638009dc6fb665275de8fc2",
   "translation_date": "2025-10-02T14:07:12+00:00",
   "source_file": "05-agentic-rag/code_samples/05-dotnet-agent-framework.ipynb",
   "language_code": "bn"
  }
 },
 "nbformat": 4,
 "nbformat_minor": 5
}