{
 "cells": [
  {
   "cell_type": "markdown",
   "id": "187780ba",
   "metadata": {},
   "source": [
    "# 🔄 GitHub মডেল (.NET) ব্যবহার করে বেসিক এজেন্ট ওয়ার্কফ্লো\n",
    "\n",
    "## 📋 ওয়ার্কফ্লো অর্কেস্ট্রেশন টিউটোরিয়াল\n",
    "\n",
    "এই নোটবুকটি Microsoft Agent Framework for .NET এবং GitHub মডেল ব্যবহার করে উন্নত **এজেন্ট ওয়ার্কফ্লো** তৈরি করার পদ্ধতি প্রদর্শন করে। আপনি শিখবেন কীভাবে AI এজেন্টদের সহযোগিতার মাধ্যমে জটিল কাজ সম্পাদন করতে এবং কাঠামোগত অর্কেস্ট্রেশন প্যাটার্ন ব্যবহার করে বহু-ধাপের ব্যবসায়িক প্রক্রিয়া তৈরি করতে হয়।\n",
    "\n",
    "## 🎯 শেখার লক্ষ্যসমূহ\n",
    "\n",
    "### 🏗️ **ওয়ার্কফ্লো আর্কিটেকচার মৌলিক বিষয়**\n",
    "- **Workflow Builder**: জটিল বহু-ধাপের AI প্রক্রিয়া ডিজাইন এবং অর্কেস্ট্রেট করা\n",
    "- **Agent Coordination**: ওয়ার্কফ্লোতে একাধিক বিশেষায়িত এজেন্ট সমন্বয় করা\n",
    "- **GitHub Models Integration**: ওয়ার্কফ্লোতে GitHub-এর AI মডেল ইনফারেন্স সার্ভিস ব্যবহার করা\n",
    "- **Visual Workflow Design**: ওয়ার্কফ্লো কাঠামো তৈরি এবং বোঝার জন্য ভিজ্যুয়ালাইজেশন\n",
    "\n",
    "### 🔄 **প্রক্রিয়া অর্কেস্ট্রেশন প্যাটার্ন**\n",
    "- **Sequential Processing**: লজিক্যাল ক্রমে একাধিক এজেন্ট টাস্ক চেইন করা\n",
    "- **State Management**: ওয়ার্কফ্লো ধাপগুলির মধ্যে প্রসঙ্গ এবং ডেটা প্রবাহ বজায় রাখা\n",
    "- **Error Handling**: শক্তিশালী ত্রুটি পুনরুদ্ধার এবং ওয়ার্কফ্লো স্থিতিস্থাপকতা বাস্তবায়ন\n",
    "- **Performance Optimization**: এন্টারপ্রাইজ-স্কেল অপারেশনের জন্য দক্ষ ওয়ার্কফ্লো ডিজাইন করা\n",
    "\n",
    "### 🏢 **এন্টারপ্রাইজ ওয়ার্কফ্লো অ্যাপ্লিকেশন**\n",
    "- **Business Process Automation**: জটিল সাংগঠনিক ওয়ার্কফ্লো স্বয়ংক্রিয় করা\n",
    "- **Content Production Pipeline**: পর্যালোচনা এবং অনুমোদনের ধাপ সহ সম্পাদকীয় ওয়ার্কফ্লো\n",
    "- **Customer Service Automation**: বহু-ধাপের গ্রাহক অনুসন্ধান সমাধান\n",
    "- **Data Processing Workflows**: AI-চালিত রূপান্তর সহ ETL ওয়ার্কফ্লো\n",
    "\n",
    "## ⚙️ প্রয়োজনীয়তা এবং সেটআপ\n",
    "\n",
    "### 📦 **প্রয়োজনীয় NuGet প্যাকেজসমূহ**\n",
    "\n",
    "এই ওয়ার্কফ্লো প্রদর্শনীতে বেশ কয়েকটি গুরুত্বপূর্ণ .NET প্যাকেজ ব্যবহার করা হয়েছে:\n",
    "\n",
    "```xml\n",
    "<!-- Core AI Framework -->\n",
    "<PackageReference Include=\"Microsoft.Extensions.AI\" Version=\"9.9.0\" />\n",
    "\n",
    "<!-- Agent Framework (Local Development) -->\n",
    "<!-- Microsoft.Agents.AI.dll - Core agent abstractions -->\n",
    "<!-- Microsoft.Agents.AI.OpenAI.dll - OpenAI/GitHub Models integration -->\n",
    "\n",
    "<!-- Configuration and Environment -->\n",
    "<PackageReference Include=\"DotNetEnv\" Version=\"3.1.1\" />\n",
    "```\n",
    "\n",
    "### 🔑 **GitHub মডেল কনফিগারেশন**\n",
    "\n",
    "**পরিবেশ সেটআপ (.env ফাইল):**\n",
    "```env\n",
    "GITHUB_TOKEN=your_github_personal_access_token\n",
    "GITHUB_ENDPOINT=https://models.inference.ai.azure.com\n",
    "GITHUB_MODEL_ID=gpt-4o-mini\n",
    "```\n",
    "\n",
    "**GitHub মডেল অ্যাক্সেস:**\n",
    "1. GitHub মডেলের জন্য সাইন আপ করুন (বর্তমানে প্রিভিউতে)\n",
    "2. মডেল অ্যাক্সেস অনুমতি সহ একটি ব্যক্তিগত অ্যাক্সেস টোকেন তৈরি করুন\n",
    "3. উপরে দেখানো পরিবেশ ভেরিয়েবল কনফিগার করুন\n",
    "\n",
    "### 🏗️ **ওয়ার্কফ্লো আর্কিটেকচার ওভারভিউ**\n",
    "\n",
    "```mermaid\n",
    "graph TD\n",
    "    A[Workflow Builder] --> B[Agent Registry]\n",
    "    B --> C[Workflow Execution Engine]\n",
    "    C --> D[Agent 1: Content Generator]\n",
    "    C --> E[Agent 2: Content Reviewer] \n",
    "    D --> F[Workflow Results]\n",
    "    E --> F\n",
    "    G[GitHub Models API] --> D\n",
    "    G --> E\n",
    "```\n",
    "\n",
    "**মূল উপাদানসমূহ:**\n",
    "- **WorkflowBuilder**: ওয়ার্কফ্লো ডিজাইন করার জন্য প্রধান অর্কেস্ট্রেশন ইঞ্জিন\n",
    "- **AIAgent**: নির্দিষ্ট ক্ষমতা সহ পৃথক বিশেষায়িত এজেন্ট\n",
    "- **GitHub Models Client**: AI মডেল ইনফারেন্স সার্ভিস ইন্টিগ্রেশন\n",
    "- **Execution Context**: ওয়ার্কফ্লো ধাপগুলির মধ্যে রাজ্য এবং ডেটা প্রবাহ পরিচালনা করে\n",
    "\n",
    "## 🎨 **এন্টারপ্রাইজ ওয়ার্কফ্লো ডিজাইন প্যাটার্ন**\n",
    "\n",
    "### 📝 **কন্টেন্ট প্রোডাকশন ওয়ার্কফ্লো**\n",
    "```\n",
    "User Request → Content Generation → Quality Review → Final Output\n",
    "```\n",
    "\n",
    "### 🔍 **ডকুমেন্ট প্রসেসিং পাইপলাইন**\n",
    "```\n",
    "Document Input → Analysis → Extraction → Validation → Structured Output\n",
    "```\n",
    "\n",
    "### 💼 **বিজনেস ইন্টেলিজেন্স ওয়ার্কফ্লো**\n",
    "```\n",
    "Data Collection → Processing → Analysis → Report Generation → Distribution\n",
    "```\n",
    "\n",
    "### 🤝 **কাস্টমার সার্ভিস অটোমেশন**\n",
    "```\n",
    "Customer Inquiry → Classification → Processing → Response Generation → Follow-up\n",
    "```\n",
    "\n",
    "## 🏢 **এন্টারপ্রাইজ সুবিধাসমূহ**\n",
    "\n",
    "### 🎯 **বিশ্বস্ততা এবং স্কেলযোগ্যতা**\n",
    "- **Deterministic Execution**: ধারাবাহিক, পুনরাবৃত্তিযোগ্য ওয়ার্কফ্লো ফলাফল\n",
    "- **Error Recovery**: ওয়ার্কফ্লোর যেকোনো ধাপে ব্যর্থতার গ্রেসফুল হ্যান্ডলিং\n",
    "- **Performance Monitoring**: এক্সিকিউশন মেট্রিক এবং অপ্টিমাইজেশনের সুযোগ ট্র্যাক করা\n",
    "- **Resource Management**: AI মডেল রিসোর্সের দক্ষ বরাদ্দ এবং ব্যবহার\n",
    "\n",
    "### 🔒 **নিরাপত্তা এবং সম্মতি**\n",
    "- **Secure Authentication**: API অ্যাক্সেসের জন্য GitHub টোকেন-ভিত্তিক প্রমাণীকরণ\n",
    "- **Audit Trails**: ওয়ার্কফ্লো এক্সিকিউশন এবং সিদ্ধান্ত পয়েন্টের সম্পূর্ণ লগিং\n",
    "- **Access Control**: ওয়ার্কফ্লো এক্সিকিউশন এবং মনিটরিংয়ের জন্য গ্রানুলার অনুমতি\n",
    "- **Data Privacy**: ওয়ার্কফ্লো জুড়ে সংবেদনশীল তথ্যের নিরাপদ পরিচালনা\n",
    "\n",
    "### 📊 **অবজারভেবিলিটি এবং ব্যবস্থাপনা**\n",
    "- **Visual Workflow Design**: প্রক্রিয়া প্রবাহ এবং নির্ভরতার স্পষ্ট উপস্থাপনা\n",
    "- **Execution Monitoring**: ওয়ার্কফ্লো অগ্রগতি এবং কর্মক্ষমতার রিয়েল-টাইম ট্র্যাকিং\n",
    "- **Error Reporting**: বিস্তারিত ত্রুটি বিশ্লেষণ এবং ডিবাগিং ক্ষমতা\n",
    "- **Performance Analytics**: অপ্টিমাইজেশন এবং ক্ষমতা পরিকল্পনার জন্য মেট্রিক\n",
    "\n",
    "চলুন আপনার প্রথম এন্টারপ্রাইজ-রেডি AI ওয়ার্কফ্লো তৈরি করি! 🚀\n"
   ]
  },
  {
   "cell_type": "code",
   "execution_count": 1,
   "id": "4152a00b",
   "metadata": {
    "language_info": {
     "name": "polyglot-notebook"
    },
    "polyglot_notebook": {
     "kernelName": "csharp"
    }
   },
   "outputs": [
    {
     "data": {
      "text/html": [
       "<div><div></div><div></div><div><strong>Installed Packages</strong><ul><li><span>Microsoft.Extensions.AI, 9.9.1</span></li></ul></div></div>"
      ]
     },
     "metadata": {},
     "output_type": "display_data"
    }
   ],
   "source": [
    "#r \"nuget: Microsoft.Extensions.AI, 9.9.1\""
   ]
  },
  {
   "cell_type": "code",
   "execution_count": 2,
   "id": "b431c4dc",
   "metadata": {
    "language_info": {
     "name": "polyglot-notebook"
    },
    "polyglot_notebook": {
     "kernelName": "csharp"
    }
   },
   "outputs": [
    {
     "data": {
      "text/html": [
       "<div><div></div><div></div><div><strong>Installed Packages</strong><ul><li><span>System.ClientModel, 1.6.1</span></li></ul></div></div>"
      ]
     },
     "metadata": {},
     "output_type": "display_data"
    }
   ],
   "source": [
    "#r \"nuget: System.ClientModel, 1.6.1.0\""
   ]
  },
  {
   "cell_type": "code",
   "execution_count": 3,
   "id": "ba48a4c7",
   "metadata": {
    "language_info": {
     "name": "polyglot-notebook"
    },
    "polyglot_notebook": {
     "kernelName": "csharp"
    }
   },
   "outputs": [
    {
     "data": {
      "text/html": [
       "<div><div></div><div></div><div><strong>Installed Packages</strong><ul><li><span>Azure.Identity, 1.15.0</span></li><li><span>OpenTelemetry.Api, 1.0.1</span></li><li><span>System.Linq.Async, 6.0.3</span></li></ul></div></div>"
      ]
     },
     "metadata": {},
     "output_type": "display_data"
    }
   ],
   "source": [
    "#r \"nuget: Azure.Identity, 1.15.0\"\n",
    "#r \"nuget: System.Linq.Async, 6.0.3\"\n",
    "#r \"nuget: OpenTelemetry.Api, 1.0.0\"\n",
    "#r \"nuget: OpenTelemetry.Api, 1.0.0\""
   ]
  },
  {
   "cell_type": "code",
   "execution_count": 4,
   "metadata": {
    "language_info": {
     "name": "polyglot-notebook"
    },
    "polyglot_notebook": {
     "kernelName": "csharp"
    }
   },
   "outputs": [],
   "source": []
  },
  {
   "cell_type": "code",
   "execution_count": 5,
   "id": "ed55fec8",
   "metadata": {
    "language_info": {
     "name": "polyglot-notebook"
    },
    "polyglot_notebook": {
     "kernelName": "csharp"
    }
   },
   "outputs": [
    {
     "data": {
      "text/html": [
       "<div><div></div><div></div><div><strong>Installed Packages</strong><ul><li><span>Microsoft.Agents.AI.Workflows, 1.0.0-preview.251001.3</span></li></ul></div></div>"
      ]
     },
     "metadata": {},
     "output_type": "display_data"
    }
   ],
   "source": [
    "\n",
    "#r \"nuget: Microsoft.Agents.AI.Workflows, 1.0.0-preview.251001.3\""
   ]
  },
  {
   "cell_type": "code",
   "execution_count": null,
   "id": "afaaa7d4",
   "metadata": {
    "language_info": {
     "name": "polyglot-notebook"
    },
    "polyglot_notebook": {
     "kernelName": "csharp"
    }
   },
   "outputs": [
    {
     "data": {
      "text/html": [
       "<div><div></div><div></div><div><strong>Installed Packages</strong><ul><li><span>Microsoft.Agents.AI.OpenAI, 1.0.0-preview.251001.2</span></li></ul></div></div>"
      ]
     },
     "metadata": {},
     "output_type": "display_data"
    }
   ],
   "source": [
    "\n",
    "#r \"nuget: Microsoft.Agents.AI.OpenAI, 1.0.0-preview.251001.3\""
   ]
  },
  {
   "cell_type": "code",
   "execution_count": 7,
   "id": "a7399950",
   "metadata": {
    "language_info": {
     "name": "polyglot-notebook"
    },
    "polyglot_notebook": {
     "kernelName": "csharp"
    }
   },
   "outputs": [
    {
     "data": {
      "text/html": [
       "<div><div></div><div></div><div><strong>Installed Packages</strong><ul><li><span>DotNetEnv, 3.1.1</span></li></ul></div></div>"
      ]
     },
     "metadata": {},
     "output_type": "display_data"
    }
   ],
   "source": [
    "#r \"nuget: DotNetEnv, 3.1.1\""
   ]
  },
  {
   "cell_type": "code",
   "execution_count": 8,
   "id": "1df9ac4c",
   "metadata": {
    "language_info": {
     "name": "polyglot-notebook"
    },
    "polyglot_notebook": {
     "kernelName": "csharp"
    }
   },
   "outputs": [],
   "source": [
    "// #r \"nuget: Microsoft.Extensions.AI.OpenAI, 9.9.0-preview.1.25458.4\""
   ]
  },
  {
   "cell_type": "code",
   "execution_count": 9,
   "id": "cf6ee6ed",
   "metadata": {
    "language_info": {
     "name": "polyglot-notebook"
    },
    "polyglot_notebook": {
     "kernelName": "csharp"
    }
   },
   "outputs": [],
   "source": [
    "using System;\n",
    "using System.ComponentModel;\n",
    "using System.ClientModel;\n",
    "using OpenAI;\n",
    "using Azure.Identity;\n",
    "using Microsoft.Extensions.AI;\n",
    "using Microsoft.Agents.AI;\n",
    "using Microsoft.Agents.AI.Workflows;"
   ]
  },
  {
   "cell_type": "code",
   "execution_count": 10,
   "id": "b4fc2d1b",
   "metadata": {
    "language_info": {
     "name": "polyglot-notebook"
    },
    "polyglot_notebook": {
     "kernelName": "csharp"
    }
   },
   "outputs": [],
   "source": [
    " using DotNetEnv;"
   ]
  },
  {
   "cell_type": "code",
   "execution_count": 11,
   "id": "0e7f69f7",
   "metadata": {
    "language_info": {
     "name": "polyglot-notebook"
    },
    "polyglot_notebook": {
     "kernelName": "csharp"
    }
   },
   "outputs": [],
   "source": [
    "Env.Load(\"../../../.env\");"
   ]
  },
  {
   "cell_type": "code",
   "execution_count": 12,
   "id": "2b62a30a",
   "metadata": {
    "language_info": {
     "name": "polyglot-notebook"
    },
    "polyglot_notebook": {
     "kernelName": "csharp"
    }
   },
   "outputs": [],
   "source": [
    "\n",
    "var github_endpoint = Environment.GetEnvironmentVariable(\"GITHUB_ENDPOINT\") ?? throw new InvalidOperationException(\"GITHUB_ENDPOINT is not set.\");\n",
    "var github_model_id = Environment.GetEnvironmentVariable(\"GITHUB_MODEL_ID\") ?? \"gpt-4o-mini\";\n",
    "var github_token = Environment.GetEnvironmentVariable(\"GITHUB_TOKEN\") ?? throw new InvalidOperationException(\"GITHUB_TOKEN is not set.\");"
   ]
  },
  {
   "cell_type": "code",
   "execution_count": 13,
   "id": "bb2a8730",
   "metadata": {
    "language_info": {
     "name": "polyglot-notebook"
    },
    "polyglot_notebook": {
     "kernelName": "csharp"
    }
   },
   "outputs": [],
   "source": [
    "var openAIOptions = new OpenAIClientOptions()\n",
    "{\n",
    "    Endpoint = new Uri(github_endpoint)\n",
    "};"
   ]
  },
  {
   "cell_type": "code",
   "execution_count": 14,
   "id": "c08bd38f",
   "metadata": {
    "language_info": {
     "name": "polyglot-notebook"
    },
    "polyglot_notebook": {
     "kernelName": "csharp"
    }
   },
   "outputs": [],
   "source": [
    "var openAIClient = new OpenAIClient(new ApiKeyCredential(github_token), openAIOptions);"
   ]
  },
  {
   "cell_type": "code",
   "execution_count": 15,
   "id": "408e8b23",
   "metadata": {
    "language_info": {
     "name": "polyglot-notebook"
    },
    "polyglot_notebook": {
     "kernelName": "csharp"
    }
   },
   "outputs": [],
   "source": [
    "const string ReviewerAgentName = \"Concierge\";\n",
    "const string ReviewerAgentInstructions = @\"\n",
    "    You are an are hotel concierge who has opinions about providing the most local and authentic experiences for travelers.\n",
    "    The goal is to determine if the front desk travel agent has recommended the best non-touristy experience for a traveler.\n",
    "    If so, state that it is approved.\n",
    "    If not, provide insight on how to refine the recommendation without using a specific example. \";"
   ]
  },
  {
   "cell_type": "code",
   "execution_count": 16,
   "id": "0a1ccf3e",
   "metadata": {
    "language_info": {
     "name": "polyglot-notebook"
    },
    "polyglot_notebook": {
     "kernelName": "csharp"
    }
   },
   "outputs": [],
   "source": [
    "const string FrontDeskAgentName = \"FrontDesk\";\n",
    "const string FrontDeskAgentInstructions = @\"\"\"\n",
    "    You are a Front Desk Travel Agent with ten years of experience and are known for brevity as you deal with many customers.\n",
    "    The goal is to provide the best activities and locations for a traveler to visit.\n",
    "    Only provide a single recommendation per response.\n",
    "    You're laser focused on the goal at hand.\n",
    "    Don't waste time with chit chat.\n",
    "    Consider suggestions when refining an idea.\n",
    "    \"\"\";"
   ]
  },
  {
   "cell_type": "code",
   "execution_count": 17,
   "id": "b9b975c6",
   "metadata": {
    "language_info": {
     "name": "polyglot-notebook"
    },
    "polyglot_notebook": {
     "kernelName": "csharp"
    }
   },
   "outputs": [],
   "source": [
    "AIAgent reviewerAgent = openAIClient.GetChatClient(github_model_id).CreateAIAgent(\n",
    "    name:ReviewerAgentName,instructions:ReviewerAgentInstructions);\n",
    "AIAgent frontDeskAgent  = openAIClient.GetChatClient(github_model_id).CreateAIAgent(\n",
    "    name:FrontDeskAgentName,instructions:FrontDeskAgentInstructions);"
   ]
  },
  {
   "cell_type": "code",
   "execution_count": 18,
   "id": "5edccde0",
   "metadata": {
    "language_info": {
     "name": "polyglot-notebook"
    },
    "polyglot_notebook": {
     "kernelName": "csharp"
    }
   },
   "outputs": [],
   "source": [
    "var workflow = new WorkflowBuilder(frontDeskAgent)\n",
    "            .AddEdge(frontDeskAgent, reviewerAgent)\n",
    "            .Build();"
   ]
  },
  {
   "cell_type": "code",
   "execution_count": 19,
   "id": "1fb93407",
   "metadata": {
    "language_info": {
     "name": "polyglot-notebook"
    },
    "polyglot_notebook": {
     "kernelName": "csharp"
    }
   },
   "outputs": [],
   "source": [
    "ChatMessage userMessage = new ChatMessage(ChatRole.User, [\n",
    "\tnew TextContent(\"I would like to go to Paris.\") \n",
    "]);"
   ]
  },
  {
   "cell_type": "code",
   "execution_count": 20,
   "id": "ec9afabc",
   "metadata": {
    "language_info": {
     "name": "polyglot-notebook"
    },
    "polyglot_notebook": {
     "kernelName": "csharp"
    }
   },
   "outputs": [],
   "source": [
    "StreamingRun run = await InProcessExecution.StreamAsync(workflow, userMessage);"
   ]
  },
  {
   "cell_type": "code",
   "execution_count": 21,
   "id": "6bea90c0",
   "metadata": {
    "language_info": {
     "name": "polyglot-notebook"
    },
    "polyglot_notebook": {
     "kernelName": "csharp"
    }
   },
   "outputs": [
    {
     "name": "stdout",
     "output_type": "stream",
     "text": [
      "Visit the Louvre Museum. It's a must-see for art enthusiasts and history lovers.That recommendation is quite popular and likely to attract many tourists. To refine it for a more local and authentic experience, consider suggesting an alternative that focuses on smaller, lesser-known art venues or galleries. Look for places where local artists exhibit or community spaces that host cultural events. This approach allows travelers to connect with the local art scene more intimately, away from the typical tourist routes.\r\n"
     ]
    }
   ],
   "source": [
    "await run.TrySendMessageAsync(new TurnToken(emitEvents: true));\n",
    "string id=\"\";\n",
    "string messageData=\"\";\n",
    "await foreach (WorkflowEvent evt in run.WatchStreamAsync().ConfigureAwait(false))\n",
    "{\n",
    "    if (evt is AgentRunUpdateEvent executorComplete)\n",
    "    {\n",
    "        if(id==\"\")\n",
    "        {\n",
    "            id=executorComplete.ExecutorId;\n",
    "        }\n",
    "        if(id==executorComplete.ExecutorId)\n",
    "        {\n",
    "            messageData+=executorComplete.Data.ToString();\n",
    "        }\n",
    "        else\n",
    "        {\n",
    "            id=executorComplete.ExecutorId;\n",
    "        }\n",
    "        // Console.WriteLine($\"{executorComplete.ExecutorId}: {executorComplete.Data}\");\n",
    "    }\n",
    "}\n",
    "\n",
    "Console.WriteLine(messageData);"
   ]
  },
  {
   "cell_type": "markdown",
   "metadata": {},
   "source": [
    "\n---\n\n**অস্বীকৃতি**:  \nএই নথিটি AI অনুবাদ পরিষেবা [Co-op Translator](https://github.com/Azure/co-op-translator) ব্যবহার করে অনুবাদ করা হয়েছে। আমরা যথাসাধ্য সঠিকতার জন্য চেষ্টা করি, তবে অনুগ্রহ করে মনে রাখবেন যে স্বয়ংক্রিয় অনুবাদে ত্রুটি বা অসঙ্গতি থাকতে পারে। মূল ভাষায় থাকা নথিটিকে প্রামাণিক উৎস হিসেবে বিবেচনা করা উচিত। গুরুত্বপূর্ণ তথ্যের জন্য, পেশাদার মানব অনুবাদ সুপারিশ করা হয়। এই অনুবাদ ব্যবহারের ফলে কোনো ভুল বোঝাবুঝি বা ভুল ব্যাখ্যা হলে আমরা দায়বদ্ধ থাকব না।\n"
   ]
  }
 ],
 "metadata": {
  "kernelspec": {
   "display_name": ".NET (C#)",
   "language": "C#",
   "name": ".net-csharp"
  },
  "language_info": {
   "name": "polyglot-notebook"
  },
  "polyglot_notebook": {
   "kernelInfo": {
    "defaultKernelName": "csharp",
    "items": [
     {
      "aliases": [],
      "name": "csharp"
     }
    ]
   }
  },
  "coopTranslator": {
   "original_hash": "0014f87b9c2a0eddf09e8de1bfd31b20",
   "translation_date": "2025-10-02T14:25:49+00:00",
   "source_file": "08-multi-agent/code_samples/workflows-agent-framework/dotNET/01.dotnet-agent-framework-workflow-ghmodel-basic.ipynb",
   "language_code": "bn"
  }
 },
 "nbformat": 4,
 "nbformat_minor": 5
}