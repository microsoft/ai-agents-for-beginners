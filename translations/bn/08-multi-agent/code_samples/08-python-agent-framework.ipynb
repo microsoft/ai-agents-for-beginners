{
 "cells": [
  {
   "cell_type": "markdown",
   "id": "a6e34f84",
   "metadata": {},
   "source": [
    "# 🤝 GitHub মডেল ব্যবহার করে মাল্টি-এজেন্ট ওয়ার্কফ্লো সিস্টেম (Python)\n",
    "\n",
    "## 📋 শেখার লক্ষ্যসমূহ\n",
    "\n",
    "এই নোটবুকটি Microsoft Agent Framework এবং GitHub মডেল ব্যবহার করে উন্নত মাল্টি-এজেন্ট সিস্টেম তৈরি করার পদ্ধতি প্রদর্শন করে। আপনি শিখবেন কীভাবে গঠনমূলক ওয়ার্কফ্লো ব্যবহার করে একাধিক বিশেষজ্ঞ এজেন্টদের সমন্বয় করে জটিল সমস্যার সমাধান করতে হয়।\n",
    "\n",
    "**আপনার তৈরি করা মাল্টি-এজেন্ট সক্ষমতাগুলি:**\n",
    "- 👥 **এজেন্ট সহযোগিতা**: একাধিক এজেন্ট একসঙ্গে কাজ করে সাধারণ লক্ষ্য অর্জন\n",
    "- 🔄 **ওয়ার্কফ্লো অর্কেস্ট্রেশন**: এজেন্টদের মধ্যে গঠিত সমন্বয়\n",
    "- 🎭 **ভূমিকা বিশেষায়ন**: এজেন্টদের আলাদা ব্যক্তিত্ব এবং দক্ষতার ক্ষেত্র\n",
    "- 📋 **গুণমান নিশ্চিতকরণ**: এজেন্ট সহযোগিতার মাধ্যমে পর্যালোচনা এবং পরিমার্জন\n",
    "\n",
    "## 🎯 মাল্টি-এজেন্ট আর্কিটেকচার ধারণা\n",
    "\n",
    "### মূল মাল্টি-এজেন্ট নীতিমালা\n",
    "- **কাজের বিভাজন**: প্রতিটি এজেন্ট নির্দিষ্ট ক্ষেত্রে বিশেষজ্ঞ\n",
    "- **সমবায় সিদ্ধান্ত গ্রহণ**: এজেন্টরা একে অপরের কাজ পর্যালোচনা এবং উন্নত করে\n",
    "- **ওয়ার্কফ্লো সমন্বয়**: গঠিত হ্যান্ডঅফ এবং যোগাযোগের প্যাটার্ন\n",
    "- **গুণমান উন্নয়ন**: মাল্টি-পার্সপেক্টিভ বিশ্লেষণের মাধ্যমে পুনরাবৃত্তি উন্নতি\n",
    "\n",
    "### এজেন্ট ইন্টারঅ্যাকশন প্যাটার্ন\n",
    "- **ক্রমিক প্রক্রিয়াকরণ**: লিনিয়ার ওয়ার্কফ্লো যেখানে এজেন্টরা ধারাবাহিকভাবে অংশগ্রহণ করে\n",
    "- **পিয়ার রিভিউ**: এজেন্টরা একে অপরের আউটপুট যাচাই এবং উন্নত করে\n",
    "- **হায়ারারকিকাল স্ট্রাকচার**: প্রধান এজেন্টরা অধীনস্থ বিশেষজ্ঞদের সমন্বয় করে\n",
    "- **সম্মতি গঠন**: একাধিক এজেন্ট চূড়ান্ত সিদ্ধান্তে অবদান রাখে\n",
    "\n",
    "## 🏗️ প্রযুক্তিগত আর্কিটেকচার\n",
    "\n",
    "### ওয়ার্কফ্লো সিস্টেমের উপাদান\n",
    "- **Microsoft Agent Framework**: উন্নত ওয়ার্কফ্লো সমর্থন সহ Python বাস্তবায়ন\n",
    "- **WorkflowBuilder**: ঘোষণামূলক ওয়ার্কফ্লো সংজ্ঞা এবং কার্যকরী ইঞ্জিন\n",
    "- **এজেন্ট সমন্বয়**: গঠিত যোগাযোগ এবং হ্যান্ডঅফ প্রক্রিয়া\n",
    "- **ইভেন্ট-চালিত প্রক্রিয়াকরণ**: এজেন্ট আউটপুটের উপর ভিত্তি করে প্রতিক্রিয়াশীল ওয়ার্কফ্লো কার্যকর\n",
    "\n",
    "### মাল্টি-এজেন্ট প্রক্রিয়া প্রবাহ\n",
    "```python\n",
    "User Request → Agent 1 (Specialist) → Agent 2 (Reviewer) → Quality Check\n",
    "                ↓                      ↓                    ↓\n",
    "         Initial Solution → Review & Feedback → Refined Output → Final Result\n",
    "```\n",
    "\n",
    "## 🎭 এজেন্ট ভূমিকার উদাহরণ\n",
    "\n",
    "### হোটেল কনসিয়ার্জ সিস্টেম\n",
    "এই নোটবুকটি একটি ভ্রমণ সুপারিশ সিস্টেম প্রদর্শন করে যেখানে বিশেষ ভূমিকা রয়েছে:\n",
    "\n",
    "#### 🏨 **ফ্রন্ট ডেস্ক এজেন্ট**\n",
    "- **দক্ষতা**: ভ্রমণ সুপারিশ এবং স্থানীয় জ্ঞান\n",
    "- **ব্যক্তিত্ব**: দক্ষ, অভিজ্ঞ, সংক্ষিপ্ত যোগাযোগ শৈলী\n",
    "- **দায়িত্ব**: প্রাথমিক ভ্রমণ সুপারিশ এবং কার্যক্রম তৈরি করা\n",
    "\n",
    "#### 🎩 **কনসিয়ার্জ এজেন্ট**  \n",
    "- **দক্ষতা**: স্থানীয় অভিজ্ঞতা এবং গুণমান মূল্যায়ন\n",
    "- **ব্যক্তিত্ব**: বিচক্ষণ, অ-পর্যটক সুপারিশে মনোযোগী\n",
    "- **দায়িত্ব**: ভ্রমণ সুপারিশের প্রামাণিকতা পর্যালোচনা এবং পরিমার্জন করা\n",
    "\n",
    "## 🔧 প্রযুক্তিগত বাস্তবায়ন\n",
    "\n",
    "### ওয়ার্কফ্লো আর্কিটেকচার\n",
    "- **এজেন্ট সংজ্ঞা**: বিশেষ নির্দেশনা এবং ব্যক্তিত্ব কনফিগারেশন\n",
    "- **Workflow Builder**: ইভেন্ট হ্যান্ডলিং সহ ঘোষণামূলক ওয়ার্কফ্লো সংজ্ঞা\n",
    "- **যোগাযোগ প্রোটোকল**: এজেন্টদের মধ্যে গঠিত বার্তা প্রেরণ\n",
    "- **ফলাফল একত্রিতকরণ**: একাধিক এজেন্টের দৃষ্টিভঙ্গি থেকে আউটপুট একত্রিত করা\n",
    "\n",
    "### ইভেন্ট-চালিত সমন্বয়\n",
    "- **WorkflowEvent**: এজেন্ট সক্রিয়করণ এবং হ্যান্ডঅফের জন্য ট্রিগার পয়েন্ট\n",
    "- **OutputEvent**: এজেন্টদের মধ্যে গঠিত ডেটা বিনিময়\n",
    "- **গুণমান গেট**: ওয়ার্কফ্লো প্রক্রিয়ার যাচাই চেকপয়েন্ট\n",
    "- **প্রতিক্রিয়া লুপ**: এজেন্ট সহযোগিতার মাধ্যমে পুনরাবৃত্তি পরিমার্জন\n",
    "\n",
    "## ⚙️ প্রয়োজনীয়তা এবং সেটআপ\n",
    "\n",
    "**প্রয়োজনীয় নির্ভরতা:**\n",
    "```bash\n",
    "\n",
    "\n",
    "pip install agent-framework-core  -U\n",
    "```\n",
    "\n",
    "**পরিবেশ কনফিগারেশন (.env ফাইল):**\n",
    "```env\n",
    "GITHUB_TOKEN=your_github_personal_access_token\n",
    "GITHUB_ENDPOINT=https://models.inference.ai.azure.com\n",
    "GITHUB_MODEL_ID=gpt-4o-mini\n",
    "```\n",
    "\n",
    "## 🎨 মাল্টি-এজেন্ট ডিজাইন প্যাটার্ন\n",
    "\n",
    "### ১. **প্রডিউসার-কনজিউমার প্যাটার্ন**\n",
    "- বিশেষজ্ঞ এজেন্টরা অন্যদের পর্যালোচনার জন্য বিষয়বস্তু তৈরি করে\n",
    "- স্পষ্ট হ্যান্ডঅফ পয়েন্ট এবং ডেটা বিনিময় প্রোটোকল\n",
    "- স্বাধীন পর্যালোচনার মাধ্যমে গুণমান নিশ্চিতকরণ\n",
    "- পুনরাবৃত্তি পরিমার্জন এবং উন্নতির চক্র\n",
    "\n",
    "### ২. **কমিটি প্যাটার্ন**\n",
    "- একাধিক এজেন্ট বিভিন্ন দৃষ্টিভঙ্গি প্রদান করে\n",
    "- গঠিত আলোচনার মাধ্যমে সম্মতি গঠন\n",
    "- গণতান্ত্রিক সিদ্ধান্ত গ্রহণ ও ওজনযুক্ত মতামত\n",
    "- দ্বন্দ্ব সমাধান এবং টাই-ব্রেকিং প্রক্রিয়া\n",
    "\n",
    "### ৩. **হায়ারারকিকাল প্যাটার্ন**\n",
    "- প্রধান এজেন্টরা বিশেষজ্ঞ অধীনস্থদের সমন্বয় করে  \n",
    "- স্পষ্ট কর্তৃত্ব কাঠামো এবং সিদ্ধান্ত প্রবাহ\n",
    "- জটিল সিদ্ধান্তের জন্য এসকেলেশন পথ\n",
    "- কর্মক্ষমতা পর্যবেক্ষণ এবং গুণমান নিয়ন্ত্রণ\n",
    "\n",
    "### ৪. **পাইপলাইন প্যাটার্ন**\n",
    "- ক্রমিক প্রক্রিয়াকরণ যেখানে বিশেষায়িত পর্যায় রয়েছে\n",
    "- প্রতিটি এজেন্ট তাদের দক্ষতার ক্ষেত্রে মান যোগ করে\n",
    "- সমান্তরাল প্রক্রিয়াকরণের মাধ্যমে দক্ষ থ্রুপুট\n",
    "- প্রতিটি পর্যায়ে ত্রুটি পরিচালনা এবং পুনরুদ্ধার\n",
    "\n",
    "## 🚀 উন্নত মাল্টি-এজেন্ট বৈশিষ্ট্য\n",
    "\n",
    "### ওয়ার্কফ্লো অর্কেস্ট্রেশন\n",
    "- **ডাইনামিক রাউটিং**: প্রসঙ্গ-ভিত্তিক এজেন্ট নির্বাচন এবং রাউটিং\n",
    "- **সমান্তরাল প্রক্রিয়াকরণ**: দক্ষতার জন্য একযোগে এজেন্ট কার্যকর\n",
    "- **ত্রুটি পুনরুদ্ধার**: এজেন্ট ব্যর্থতা এবং পুনরায় চেষ্টা পরিচালনা\n",
    "- **কর্মক্ষমতা পর্যবেক্ষণ**: ওয়ার্কফ্লো কার্যকর এবং অপ্টিমাইজেশন ট্র্যাকিং\n",
    "\n",
    "### এজেন্ট যোগাযোগ\n",
    "- **গঠিত বার্তা**: টাইপ-সেফ যোগাযোগ প্রোটোকল\n",
    "- **প্রসঙ্গ সংরক্ষণ**: এজেন্টদের মধ্যে কথোপকথনের ইতিহাস বজায় রাখা\n",
    "- **মেটাডেটা পাসিং**: টেক্সট সামগ্রীর বাইরেও সমৃদ্ধ তথ্য বিনিময়\n",
    "- **ইভেন্ট ব্রডকাস্টিং**: সমন্বয়ের জন্য পাবলিশ-সাবস্ক্রাইব প্যাটার্ন\n",
    "\n",
    "### গুণমান নিশ্চিতকরণ\n",
    "- **মাল্টি-পার্সপেক্টিভ রিভিউ**: বিভিন্ন এজেন্ট অনন্য দৃষ্টিভঙ্গি নিয়ে আসে\n",
    "- **পুনরাবৃত্তি পরিমার্জন**: সহযোগিতার মাধ্যমে প্রগতিশীল উন্নতি\n",
    "- **যাচাই চেকপয়েন্ট**: ওয়ার্কফ্লো জুড়ে গুণমান গেট\n",
    "- **কর্মক্ষমতা মেট্রিকস**: সহযোগিতার কার্যকারিতা পরিমাপ\n",
    "\n",
    "## 📊 ব্যবহার এবং প্রয়োগ\n",
    "\n",
    "### ব্যবসায়িক প্রক্রিয়া অটোমেশন\n",
    "- ডকুমেন্ট পর্যালোচনা এবং অনুমোদন ওয়ার্কফ্লো\n",
    "- গ্রাহক সেবা এসকেলেশন সিস্টেম\n",
    "- গুণমান নিশ্চিতকরণ এবং সম্মতি যাচাই\n",
    "- মাল্টি-স্টেজ বিষয়বস্তু তৈরি এবং সম্পাদনা\n",
    "\n",
    "### গবেষণা এবং বিশ্লেষণ\n",
    "- গবেষণা পত্রের জন্য পিয়ার রিভিউ সিস্টেম\n",
    "- মাল্টি-অ্যানালিস্ট আর্থিক বিশ্লেষণ\n",
    "- সহযোগিতামূলক রিপোর্ট লেখা এবং তথ্য যাচাই\n",
    "- একাডেমিক পেপার পর্যালোচনা এবং উন্নতি\n",
    "\n",
    "### সৃজনশীল সহযোগিতা\n",
    "- সম্পাদক এবং পর্যালোচকদের সাথে বিষয়বস্তু তৈরি\n",
    "- মাল্টি-পার্সপেক্টিভ সৃজনশীল ব্রেনস্টর্মিং\n",
    "- পুনরাবৃত্তি ডিজাইন এবং প্রতিক্রিয়া সিস্টেম\n",
    "- সহযোগিতামূলক গল্প বলা এবং বিশ্ব নির্মাণ\n",
    "\n",
    "প্রস্তুত বুদ্ধিমান মাল্টি-এজেন্ট সহযোগিতা পরিচালনা করতে? আসুন এমন সিস্টেম তৈরি করি যেখানে এজেন্টরা একটি উচ্চ-প্রদর্শনকারী দলের মতো একসঙ্গে কাজ করে! 🌟🤖\n"
   ]
  },
  {
   "cell_type": "code",
   "execution_count": 1,
   "id": "9b42777d",
   "metadata": {},
   "outputs": [
    {
     "name": "stdout",
     "output_type": "stream",
     "text": [
      "Requirement already satisfied: agent-framework-core in c:\\users\\kinfeylo\\appdata\\local\\miniforge3\\envs\\agentenv\\lib\\site-packages (1.0.0b251001)\n",
      "Requirement already satisfied: openai>=1.99.0 in c:\\users\\kinfeylo\\appdata\\local\\miniforge3\\envs\\agentenv\\lib\\site-packages (from agent-framework-core) (1.106.1)\n",
      "Requirement already satisfied: pydantic<3,>=2 in c:\\users\\kinfeylo\\appdata\\local\\miniforge3\\envs\\agentenv\\lib\\site-packages (from agent-framework-core) (2.11.9)\n",
      "Requirement already satisfied: pydantic-settings<3,>=2 in c:\\users\\kinfeylo\\appdata\\local\\miniforge3\\envs\\agentenv\\lib\\site-packages (from agent-framework-core) (2.10.1)\n",
      "Requirement already satisfied: typing-extensions in c:\\users\\kinfeylo\\appdata\\local\\miniforge3\\envs\\agentenv\\lib\\site-packages (from agent-framework-core) (4.15.0)\n",
      "Requirement already satisfied: opentelemetry-api>=1.24 in c:\\users\\kinfeylo\\appdata\\local\\miniforge3\\envs\\agentenv\\lib\\site-packages (from agent-framework-core) (1.36.0)\n",
      "Requirement already satisfied: opentelemetry-sdk>=1.24 in c:\\users\\kinfeylo\\appdata\\local\\miniforge3\\envs\\agentenv\\lib\\site-packages (from agent-framework-core) (1.36.0)\n",
      "Requirement already satisfied: mcp>=1.13 in c:\\users\\kinfeylo\\appdata\\local\\miniforge3\\envs\\agentenv\\lib\\site-packages (from mcp[ws]>=1.13->agent-framework-core) (1.13.1)\n",
      "Requirement already satisfied: azure-monitor-opentelemetry>=1.7.0 in c:\\users\\kinfeylo\\appdata\\local\\miniforge3\\envs\\agentenv\\lib\\site-packages (from agent-framework-core) (1.8.0)\n",
      "Requirement already satisfied: azure-monitor-opentelemetry-exporter>=1.0.0b41 in c:\\users\\kinfeylo\\appdata\\local\\miniforge3\\envs\\agentenv\\lib\\site-packages (from agent-framework-core) (1.0.0b41)\n",
      "Requirement already satisfied: opentelemetry-exporter-otlp-proto-grpc>=1.36.0 in c:\\users\\kinfeylo\\appdata\\local\\miniforge3\\envs\\agentenv\\lib\\site-packages (from agent-framework-core) (1.36.0)\n",
      "Requirement already satisfied: opentelemetry-semantic-conventions-ai>=0.4.13 in c:\\users\\kinfeylo\\appdata\\local\\miniforge3\\envs\\agentenv\\lib\\site-packages (from agent-framework-core) (0.4.13)\n",
      "Requirement already satisfied: aiofiles>=24.1.0 in c:\\users\\kinfeylo\\appdata\\local\\miniforge3\\envs\\agentenv\\lib\\site-packages (from agent-framework-core) (24.1.0)\n",
      "Requirement already satisfied: azure-identity<2,>=1 in c:\\users\\kinfeylo\\appdata\\local\\miniforge3\\envs\\agentenv\\lib\\site-packages (from agent-framework-core) (1.24.0)\n",
      "Requirement already satisfied: azure-core>=1.31.0 in c:\\users\\kinfeylo\\appdata\\local\\miniforge3\\envs\\agentenv\\lib\\site-packages (from azure-identity<2,>=1->agent-framework-core) (1.35.0)\n",
      "Requirement already satisfied: cryptography>=2.5 in c:\\users\\kinfeylo\\appdata\\local\\miniforge3\\envs\\agentenv\\lib\\site-packages (from azure-identity<2,>=1->agent-framework-core) (45.0.7)\n",
      "Requirement already satisfied: msal>=1.30.0 in c:\\users\\kinfeylo\\appdata\\local\\miniforge3\\envs\\agentenv\\lib\\site-packages (from azure-identity<2,>=1->agent-framework-core) (1.33.0)\n",
      "Requirement already satisfied: msal-extensions>=1.2.0 in c:\\users\\kinfeylo\\appdata\\local\\miniforge3\\envs\\agentenv\\lib\\site-packages (from azure-identity<2,>=1->agent-framework-core) (1.3.1)\n",
      "Requirement already satisfied: annotated-types>=0.6.0 in c:\\users\\kinfeylo\\appdata\\local\\miniforge3\\envs\\agentenv\\lib\\site-packages (from pydantic<3,>=2->agent-framework-core) (0.7.0)\n",
      "Requirement already satisfied: pydantic-core==2.33.2 in c:\\users\\kinfeylo\\appdata\\local\\miniforge3\\envs\\agentenv\\lib\\site-packages (from pydantic<3,>=2->agent-framework-core) (2.33.2)\n",
      "Requirement already satisfied: typing-inspection>=0.4.0 in c:\\users\\kinfeylo\\appdata\\local\\miniforge3\\envs\\agentenv\\lib\\site-packages (from pydantic<3,>=2->agent-framework-core) (0.4.1)\n",
      "Requirement already satisfied: python-dotenv>=0.21.0 in c:\\users\\kinfeylo\\appdata\\local\\miniforge3\\envs\\agentenv\\lib\\site-packages (from pydantic-settings<3,>=2->agent-framework-core) (1.1.1)\n",
      "Requirement already satisfied: requests>=2.21.0 in c:\\users\\kinfeylo\\appdata\\local\\miniforge3\\envs\\agentenv\\lib\\site-packages (from azure-core>=1.31.0->azure-identity<2,>=1->agent-framework-core) (2.32.5)\n",
      "Requirement already satisfied: six>=1.11.0 in c:\\users\\kinfeylo\\appdata\\local\\miniforge3\\envs\\agentenv\\lib\\site-packages (from azure-core>=1.31.0->azure-identity<2,>=1->agent-framework-core) (1.17.0)\n",
      "Requirement already satisfied: azure-core-tracing-opentelemetry~=1.0.0b11 in c:\\users\\kinfeylo\\appdata\\local\\miniforge3\\envs\\agentenv\\lib\\site-packages (from azure-monitor-opentelemetry>=1.7.0->agent-framework-core) (1.0.0b12)\n",
      "Requirement already satisfied: opentelemetry-instrumentation-django~=0.57b0 in c:\\users\\kinfeylo\\appdata\\local\\miniforge3\\envs\\agentenv\\lib\\site-packages (from azure-monitor-opentelemetry>=1.7.0->agent-framework-core) (0.57b0)\n",
      "Requirement already satisfied: opentelemetry-instrumentation-fastapi~=0.57b0 in c:\\users\\kinfeylo\\appdata\\local\\miniforge3\\envs\\agentenv\\lib\\site-packages (from azure-monitor-opentelemetry>=1.7.0->agent-framework-core) (0.57b0)\n",
      "Requirement already satisfied: opentelemetry-instrumentation-flask~=0.57b0 in c:\\users\\kinfeylo\\appdata\\local\\miniforge3\\envs\\agentenv\\lib\\site-packages (from azure-monitor-opentelemetry>=1.7.0->agent-framework-core) (0.57b0)\n",
      "Requirement already satisfied: opentelemetry-instrumentation-psycopg2~=0.57b0 in c:\\users\\kinfeylo\\appdata\\local\\miniforge3\\envs\\agentenv\\lib\\site-packages (from azure-monitor-opentelemetry>=1.7.0->agent-framework-core) (0.57b0)\n",
      "Requirement already satisfied: opentelemetry-instrumentation-requests~=0.57b0 in c:\\users\\kinfeylo\\appdata\\local\\miniforge3\\envs\\agentenv\\lib\\site-packages (from azure-monitor-opentelemetry>=1.7.0->agent-framework-core) (0.57b0)\n",
      "Requirement already satisfied: opentelemetry-instrumentation-urllib~=0.57b0 in c:\\users\\kinfeylo\\appdata\\local\\miniforge3\\envs\\agentenv\\lib\\site-packages (from azure-monitor-opentelemetry>=1.7.0->agent-framework-core) (0.57b0)\n",
      "Requirement already satisfied: opentelemetry-instrumentation-urllib3~=0.57b0 in c:\\users\\kinfeylo\\appdata\\local\\miniforge3\\envs\\agentenv\\lib\\site-packages (from azure-monitor-opentelemetry>=1.7.0->agent-framework-core) (0.57b0)\n",
      "Requirement already satisfied: opentelemetry-resource-detector-azure~=0.1.5 in c:\\users\\kinfeylo\\appdata\\local\\miniforge3\\envs\\agentenv\\lib\\site-packages (from azure-monitor-opentelemetry>=1.7.0->agent-framework-core) (0.1.5)\n",
      "Requirement already satisfied: fixedint==0.1.6 in c:\\users\\kinfeylo\\appdata\\local\\miniforge3\\envs\\agentenv\\lib\\site-packages (from azure-monitor-opentelemetry-exporter>=1.0.0b41->agent-framework-core) (0.1.6)\n",
      "Requirement already satisfied: msrest>=0.6.10 in c:\\users\\kinfeylo\\appdata\\local\\miniforge3\\envs\\agentenv\\lib\\site-packages (from azure-monitor-opentelemetry-exporter>=1.0.0b41->agent-framework-core) (0.7.1)\n",
      "Requirement already satisfied: psutil<8,>=5.9 in c:\\users\\kinfeylo\\appdata\\local\\miniforge3\\envs\\agentenv\\lib\\site-packages (from azure-monitor-opentelemetry-exporter>=1.0.0b41->agent-framework-core) (7.0.0)\n",
      "Requirement already satisfied: importlib-metadata<8.8.0,>=6.0 in c:\\users\\kinfeylo\\appdata\\local\\miniforge3\\envs\\agentenv\\lib\\site-packages (from opentelemetry-api>=1.24->agent-framework-core) (8.7.0)\n",
      "Requirement already satisfied: zipp>=3.20 in c:\\users\\kinfeylo\\appdata\\local\\miniforge3\\envs\\agentenv\\lib\\site-packages (from importlib-metadata<8.8.0,>=6.0->opentelemetry-api>=1.24->agent-framework-core) (3.23.0)\n",
      "Requirement already satisfied: opentelemetry-instrumentation-wsgi==0.57b0 in c:\\users\\kinfeylo\\appdata\\local\\miniforge3\\envs\\agentenv\\lib\\site-packages (from opentelemetry-instrumentation-django~=0.57b0->azure-monitor-opentelemetry>=1.7.0->agent-framework-core) (0.57b0)\n",
      "Requirement already satisfied: opentelemetry-instrumentation==0.57b0 in c:\\users\\kinfeylo\\appdata\\local\\miniforge3\\envs\\agentenv\\lib\\site-packages (from opentelemetry-instrumentation-django~=0.57b0->azure-monitor-opentelemetry>=1.7.0->agent-framework-core) (0.57b0)\n",
      "Requirement already satisfied: opentelemetry-semantic-conventions==0.57b0 in c:\\users\\kinfeylo\\appdata\\local\\miniforge3\\envs\\agentenv\\lib\\site-packages (from opentelemetry-instrumentation-django~=0.57b0->azure-monitor-opentelemetry>=1.7.0->agent-framework-core) (0.57b0)\n",
      "Requirement already satisfied: opentelemetry-util-http==0.57b0 in c:\\users\\kinfeylo\\appdata\\local\\miniforge3\\envs\\agentenv\\lib\\site-packages (from opentelemetry-instrumentation-django~=0.57b0->azure-monitor-opentelemetry>=1.7.0->agent-framework-core) (0.57b0)\n",
      "Requirement already satisfied: packaging>=18.0 in c:\\users\\kinfeylo\\appdata\\local\\miniforge3\\envs\\agentenv\\lib\\site-packages (from opentelemetry-instrumentation==0.57b0->opentelemetry-instrumentation-django~=0.57b0->azure-monitor-opentelemetry>=1.7.0->agent-framework-core) (25.0)\n",
      "Requirement already satisfied: wrapt<2.0.0,>=1.0.0 in c:\\users\\kinfeylo\\appdata\\local\\miniforge3\\envs\\agentenv\\lib\\site-packages (from opentelemetry-instrumentation==0.57b0->opentelemetry-instrumentation-django~=0.57b0->azure-monitor-opentelemetry>=1.7.0->agent-framework-core) (1.17.3)\n",
      "Requirement already satisfied: opentelemetry-instrumentation-asgi==0.57b0 in c:\\users\\kinfeylo\\appdata\\local\\miniforge3\\envs\\agentenv\\lib\\site-packages (from opentelemetry-instrumentation-fastapi~=0.57b0->azure-monitor-opentelemetry>=1.7.0->agent-framework-core) (0.57b0)\n",
      "Requirement already satisfied: asgiref~=3.0 in c:\\users\\kinfeylo\\appdata\\local\\miniforge3\\envs\\agentenv\\lib\\site-packages (from opentelemetry-instrumentation-asgi==0.57b0->opentelemetry-instrumentation-fastapi~=0.57b0->azure-monitor-opentelemetry>=1.7.0->agent-framework-core) (3.9.1)\n",
      "Requirement already satisfied: opentelemetry-instrumentation-dbapi==0.57b0 in c:\\users\\kinfeylo\\appdata\\local\\miniforge3\\envs\\agentenv\\lib\\site-packages (from opentelemetry-instrumentation-psycopg2~=0.57b0->azure-monitor-opentelemetry>=1.7.0->agent-framework-core) (0.57b0)\n",
      "Requirement already satisfied: cffi>=1.14 in c:\\users\\kinfeylo\\appdata\\local\\miniforge3\\envs\\agentenv\\lib\\site-packages (from cryptography>=2.5->azure-identity<2,>=1->agent-framework-core) (1.17.1)\n",
      "Requirement already satisfied: pycparser in c:\\users\\kinfeylo\\appdata\\local\\miniforge3\\envs\\agentenv\\lib\\site-packages (from cffi>=1.14->cryptography>=2.5->azure-identity<2,>=1->agent-framework-core) (2.22)\n",
      "Requirement already satisfied: anyio>=4.5 in c:\\users\\kinfeylo\\appdata\\local\\miniforge3\\envs\\agentenv\\lib\\site-packages (from mcp>=1.13->mcp[ws]>=1.13->agent-framework-core) (4.10.0)\n",
      "Requirement already satisfied: httpx-sse>=0.4 in c:\\users\\kinfeylo\\appdata\\local\\miniforge3\\envs\\agentenv\\lib\\site-packages (from mcp>=1.13->mcp[ws]>=1.13->agent-framework-core) (0.4.1)\n",
      "Requirement already satisfied: httpx>=0.27.1 in c:\\users\\kinfeylo\\appdata\\local\\miniforge3\\envs\\agentenv\\lib\\site-packages (from mcp>=1.13->mcp[ws]>=1.13->agent-framework-core) (0.28.1)\n",
      "Requirement already satisfied: jsonschema>=4.20.0 in c:\\users\\kinfeylo\\appdata\\local\\miniforge3\\envs\\agentenv\\lib\\site-packages (from mcp>=1.13->mcp[ws]>=1.13->agent-framework-core) (4.25.1)\n",
      "Requirement already satisfied: python-multipart>=0.0.9 in c:\\users\\kinfeylo\\appdata\\local\\miniforge3\\envs\\agentenv\\lib\\site-packages (from mcp>=1.13->mcp[ws]>=1.13->agent-framework-core) (0.0.20)\n",
      "Requirement already satisfied: pywin32>=310 in c:\\users\\kinfeylo\\appdata\\local\\miniforge3\\envs\\agentenv\\lib\\site-packages (from mcp>=1.13->mcp[ws]>=1.13->agent-framework-core) (311)\n",
      "Requirement already satisfied: sse-starlette>=1.6.1 in c:\\users\\kinfeylo\\appdata\\local\\miniforge3\\envs\\agentenv\\lib\\site-packages (from mcp>=1.13->mcp[ws]>=1.13->agent-framework-core) (3.0.2)\n",
      "Requirement already satisfied: starlette>=0.27 in c:\\users\\kinfeylo\\appdata\\local\\miniforge3\\envs\\agentenv\\lib\\site-packages (from mcp>=1.13->mcp[ws]>=1.13->agent-framework-core) (0.47.3)\n",
      "Requirement already satisfied: uvicorn>=0.31.1 in c:\\users\\kinfeylo\\appdata\\local\\miniforge3\\envs\\agentenv\\lib\\site-packages (from mcp>=1.13->mcp[ws]>=1.13->agent-framework-core) (0.35.0)\n",
      "Requirement already satisfied: idna>=2.8 in c:\\users\\kinfeylo\\appdata\\local\\miniforge3\\envs\\agentenv\\lib\\site-packages (from anyio>=4.5->mcp>=1.13->mcp[ws]>=1.13->agent-framework-core) (3.10)\n",
      "Requirement already satisfied: sniffio>=1.1 in c:\\users\\kinfeylo\\appdata\\local\\miniforge3\\envs\\agentenv\\lib\\site-packages (from anyio>=4.5->mcp>=1.13->mcp[ws]>=1.13->agent-framework-core) (1.3.1)\n",
      "Requirement already satisfied: certifi in c:\\users\\kinfeylo\\appdata\\local\\miniforge3\\envs\\agentenv\\lib\\site-packages (from httpx>=0.27.1->mcp>=1.13->mcp[ws]>=1.13->agent-framework-core) (2025.8.3)\n",
      "Requirement already satisfied: httpcore==1.* in c:\\users\\kinfeylo\\appdata\\local\\miniforge3\\envs\\agentenv\\lib\\site-packages (from httpx>=0.27.1->mcp>=1.13->mcp[ws]>=1.13->agent-framework-core) (1.0.9)\n",
      "Requirement already satisfied: h11>=0.16 in c:\\users\\kinfeylo\\appdata\\local\\miniforge3\\envs\\agentenv\\lib\\site-packages (from httpcore==1.*->httpx>=0.27.1->mcp>=1.13->mcp[ws]>=1.13->agent-framework-core) (0.16.0)\n",
      "Requirement already satisfied: attrs>=22.2.0 in c:\\users\\kinfeylo\\appdata\\local\\miniforge3\\envs\\agentenv\\lib\\site-packages (from jsonschema>=4.20.0->mcp>=1.13->mcp[ws]>=1.13->agent-framework-core) (25.3.0)\n",
      "Requirement already satisfied: jsonschema-specifications>=2023.03.6 in c:\\users\\kinfeylo\\appdata\\local\\miniforge3\\envs\\agentenv\\lib\\site-packages (from jsonschema>=4.20.0->mcp>=1.13->mcp[ws]>=1.13->agent-framework-core) (2025.4.1)\n",
      "Requirement already satisfied: referencing>=0.28.4 in c:\\users\\kinfeylo\\appdata\\local\\miniforge3\\envs\\agentenv\\lib\\site-packages (from jsonschema>=4.20.0->mcp>=1.13->mcp[ws]>=1.13->agent-framework-core) (0.36.2)\n",
      "Requirement already satisfied: rpds-py>=0.7.1 in c:\\users\\kinfeylo\\appdata\\local\\miniforge3\\envs\\agentenv\\lib\\site-packages (from jsonschema>=4.20.0->mcp>=1.13->mcp[ws]>=1.13->agent-framework-core) (0.27.1)\n",
      "Requirement already satisfied: websockets>=15.0.1 in c:\\users\\kinfeylo\\appdata\\local\\miniforge3\\envs\\agentenv\\lib\\site-packages (from mcp[ws]>=1.13->agent-framework-core) (15.0.1)\n",
      "Requirement already satisfied: PyJWT<3,>=1.0.0 in c:\\users\\kinfeylo\\appdata\\local\\miniforge3\\envs\\agentenv\\lib\\site-packages (from PyJWT[crypto]<3,>=1.0.0->msal>=1.30.0->azure-identity<2,>=1->agent-framework-core) (2.10.1)\n",
      "Requirement already satisfied: charset_normalizer<4,>=2 in c:\\users\\kinfeylo\\appdata\\local\\miniforge3\\envs\\agentenv\\lib\\site-packages (from requests>=2.21.0->azure-core>=1.31.0->azure-identity<2,>=1->agent-framework-core) (3.4.3)\n",
      "Requirement already satisfied: urllib3<3,>=1.21.1 in c:\\users\\kinfeylo\\appdata\\local\\miniforge3\\envs\\agentenv\\lib\\site-packages (from requests>=2.21.0->azure-core>=1.31.0->azure-identity<2,>=1->agent-framework-core) (2.5.0)\n",
      "Requirement already satisfied: isodate>=0.6.0 in c:\\users\\kinfeylo\\appdata\\local\\miniforge3\\envs\\agentenv\\lib\\site-packages (from msrest>=0.6.10->azure-monitor-opentelemetry-exporter>=1.0.0b41->agent-framework-core) (0.7.2)\n",
      "Requirement already satisfied: requests-oauthlib>=0.5.0 in c:\\users\\kinfeylo\\appdata\\local\\miniforge3\\envs\\agentenv\\lib\\site-packages (from msrest>=0.6.10->azure-monitor-opentelemetry-exporter>=1.0.0b41->agent-framework-core) (2.0.0)\n",
      "Requirement already satisfied: distro<2,>=1.7.0 in c:\\users\\kinfeylo\\appdata\\local\\miniforge3\\envs\\agentenv\\lib\\site-packages (from openai>=1.99.0->agent-framework-core) (1.9.0)\n",
      "Requirement already satisfied: jiter<1,>=0.4.0 in c:\\users\\kinfeylo\\appdata\\local\\miniforge3\\envs\\agentenv\\lib\\site-packages (from openai>=1.99.0->agent-framework-core) (0.10.0)\n",
      "Requirement already satisfied: tqdm>4 in c:\\users\\kinfeylo\\appdata\\local\\miniforge3\\envs\\agentenv\\lib\\site-packages (from openai>=1.99.0->agent-framework-core) (4.67.1)\n",
      "Requirement already satisfied: googleapis-common-protos~=1.57 in c:\\users\\kinfeylo\\appdata\\local\\miniforge3\\envs\\agentenv\\lib\\site-packages (from opentelemetry-exporter-otlp-proto-grpc>=1.36.0->agent-framework-core) (1.70.0)\n",
      "Requirement already satisfied: grpcio<2.0.0,>=1.63.2 in c:\\users\\kinfeylo\\appdata\\local\\miniforge3\\envs\\agentenv\\lib\\site-packages (from opentelemetry-exporter-otlp-proto-grpc>=1.36.0->agent-framework-core) (1.74.0)\n",
      "Requirement already satisfied: opentelemetry-exporter-otlp-proto-common==1.36.0 in c:\\users\\kinfeylo\\appdata\\local\\miniforge3\\envs\\agentenv\\lib\\site-packages (from opentelemetry-exporter-otlp-proto-grpc>=1.36.0->agent-framework-core) (1.36.0)\n",
      "Requirement already satisfied: opentelemetry-proto==1.36.0 in c:\\users\\kinfeylo\\appdata\\local\\miniforge3\\envs\\agentenv\\lib\\site-packages (from opentelemetry-exporter-otlp-proto-grpc>=1.36.0->agent-framework-core) (1.36.0)\n",
      "Requirement already satisfied: protobuf<7.0,>=5.0 in c:\\users\\kinfeylo\\appdata\\local\\miniforge3\\envs\\agentenv\\lib\\site-packages (from opentelemetry-proto==1.36.0->opentelemetry-exporter-otlp-proto-grpc>=1.36.0->agent-framework-core) (5.29.5)\n",
      "Requirement already satisfied: oauthlib>=3.0.0 in c:\\users\\kinfeylo\\appdata\\local\\miniforge3\\envs\\agentenv\\lib\\site-packages (from requests-oauthlib>=0.5.0->msrest>=0.6.10->azure-monitor-opentelemetry-exporter>=1.0.0b41->agent-framework-core) (3.3.1)\n",
      "Requirement already satisfied: colorama in c:\\users\\kinfeylo\\appdata\\local\\miniforge3\\envs\\agentenv\\lib\\site-packages (from tqdm>4->openai>=1.99.0->agent-framework-core) (0.4.6)\n",
      "Requirement already satisfied: click>=7.0 in c:\\users\\kinfeylo\\appdata\\local\\miniforge3\\envs\\agentenv\\lib\\site-packages (from uvicorn>=0.31.1->mcp>=1.13->mcp[ws]>=1.13->agent-framework-core) (8.2.1)\n"
     ]
    }
   ],
   "source": [
    "! pip install agent-framework-core -U"
   ]
  },
  {
   "cell_type": "code",
   "execution_count": 2,
   "id": "604f5e98",
   "metadata": {
    "language_info": {
     "name": "polyglot-notebook"
    },
    "polyglot_notebook": {
     "kernelName": "csharp"
    }
   },
   "outputs": [],
   "source": [
    "# 🤖 Import Multi-Agent Workflow Components\n",
    "# OpenAIChatClient: GitHub Models integration for agent communication\n",
    "# WorkflowEvent, WorkflowBuilder: Core workflow orchestration classes\n",
    "# WorkflowOutputEvent: Structured event handling for agent coordination\n",
    "from agent_framework.openai import OpenAIChatClient\n",
    "from agent_framework import WorkflowEvent, WorkflowBuilder, WorkflowOutputEvent"
   ]
  },
  {
   "cell_type": "code",
   "execution_count": 3,
   "id": "a7bbeb9f",
   "metadata": {
    "language_info": {
     "name": "polyglot-notebook"
    },
    "polyglot_notebook": {
     "kernelName": "csharp"
    }
   },
   "outputs": [],
   "source": [
    "# 📦 Import Configuration and Environment Management\n",
    "import os                      # Environment variable access for secure configuration\n",
    "from dotenv import load_dotenv # Secure loading of API credentials and settings"
   ]
  },
  {
   "cell_type": "code",
   "execution_count": 4,
   "id": "a35f9a38",
   "metadata": {
    "language_info": {
     "name": "polyglot-notebook"
    },
    "polyglot_notebook": {
     "kernelName": "csharp"
    }
   },
   "outputs": [
    {
     "data": {
      "text/plain": [
       "True"
      ]
     },
     "execution_count": 4,
     "metadata": {},
     "output_type": "execute_result"
    }
   ],
   "source": [
    "# 🔧 Load Multi-Agent Workflow Configuration  \n",
    "# Load environment variables for secure GitHub Models access\n",
    "# Required: GITHUB_ENDPOINT, GITHUB_TOKEN, GITHUB_MODEL_ID for agent communication\n",
    "load_dotenv()"
   ]
  },
  {
   "cell_type": "code",
   "execution_count": 5,
   "id": "763a7e8d",
   "metadata": {
    "language_info": {
     "name": "polyglot-notebook"
    },
    "polyglot_notebook": {
     "kernelName": "csharp"
    }
   },
   "outputs": [],
   "source": [
    "# 🔗 Initialize Shared Chat Client for Multi-Agent Communication\n",
    "# Create a unified client that all agents in the workflow will use\n",
    "# This ensures consistent API access and efficient resource utilization\n",
    "chat_client = OpenAIChatClient(\n",
    "    base_url=os.environ.get(\"GITHUB_ENDPOINT\"),    # GitHub Models API endpoint\n",
    "    api_key=os.environ.get(\"GITHUB_TOKEN\"),        # Authentication token\n",
    "    model_id=os.environ.get(\"GITHUB_MODEL_ID\")  # Model for all agents in workflow\n",
    ")"
   ]
  },
  {
   "cell_type": "code",
   "execution_count": 6,
   "id": "ed07880b",
   "metadata": {
    "language_info": {
     "name": "polyglot-notebook"
    },
    "polyglot_notebook": {
     "kernelName": "csharp"
    }
   },
   "outputs": [],
   "source": [
    "# 🎩 Agent 1: Hotel Concierge - Quality Reviewer Role\n",
    "# This agent specializes in evaluating travel recommendations for authenticity\n",
    "# Acts as the second stage in our multi-agent workflow for quality assurance\n",
    "REVIEWER_NAME = \"Concierge\"\n",
    "REVIEWER_INSTRUCTIONS = \"\"\"\n",
    "    You are an experienced hotel concierge who has strong opinions about providing the most local and authentic experiences for travelers.\n",
    "    \n",
    "    Your role in this multi-agent workflow:\n",
    "    - Review travel recommendations from the Front Desk agent\n",
    "    - Assess whether suggestions provide authentic, non-touristy experiences\n",
    "    - Approve recommendations that meet high standards for local authenticity\n",
    "    - Provide constructive feedback for refinement without giving specific examples\n",
    "    \n",
    "    Always focus on the quality and authenticity of experiences rather than just popular tourist destinations.\n",
    "    \"\"\""
   ]
  },
  {
   "cell_type": "code",
   "execution_count": 7,
   "id": "16ed7969",
   "metadata": {
    "language_info": {
     "name": "polyglot-notebook"
    },
    "polyglot_notebook": {
     "kernelName": "csharp"
    }
   },
   "outputs": [],
   "source": [
    "FRONTDESK_NAME = \"FrontDesk\"\n",
    "FRONTDESK_INSTRUCTIONS = \"\"\"\n",
    "    You are a Front Desk Travel Agent with ten years of experience and are known for brevity as you deal with many customers.\n",
    "    The goal is to provide the best activities and locations for a traveler to visit.\n",
    "    Only provide a single recommendation per response.\n",
    "    You're laser focused on the goal at hand.\n",
    "    Don't waste time with chit chat.\n",
    "    Consider suggestions when refining an idea.\n",
    "    \"\"\""
   ]
  },
  {
   "cell_type": "code",
   "execution_count": 8,
   "id": "558221d3",
   "metadata": {
    "language_info": {
     "name": "polyglot-notebook"
    },
    "polyglot_notebook": {
     "kernelName": "csharp"
    }
   },
   "outputs": [],
   "source": [
    "writer_agent    = chat_client.create_agent(\n",
    "        instructions=(\n",
    "           REVIEWER_INSTRUCTIONS\n",
    "        ),\n",
    "        name=REVIEWER_NAME,\n",
    "    )\n",
    "\n",
    "agent_reviewer = chat_client.create_agent(\n",
    "        instructions=(\n",
    "            FRONTDESK_INSTRUCTIONS\n",
    "        ),\n",
    "        name=FRONTDESK_NAME,\n",
    "    )"
   ]
  },
  {
   "cell_type": "code",
   "execution_count": 9,
   "id": "5de16a9c",
   "metadata": {
    "language_info": {
     "name": "polyglot-notebook"
    },
    "polyglot_notebook": {
     "kernelName": "csharp"
    }
   },
   "outputs": [],
   "source": [
    "workflow = WorkflowBuilder().set_start_executor(writer_agent).add_edge(writer_agent, agent_reviewer).build()"
   ]
  },
  {
   "cell_type": "code",
   "execution_count": 10,
   "id": "99988262",
   "metadata": {},
   "outputs": [],
   "source": [
    "\n",
    "class DatabaseEvent(WorkflowEvent): ..."
   ]
  },
  {
   "cell_type": "code",
   "execution_count": 11,
   "id": "1e3dcb96",
   "metadata": {},
   "outputs": [
    {
     "name": "stdout",
     "output_type": "stream",
     "text": [
      "Workflow output: Visit the Louvre Museum for an unparalleled art experience.\n"
     ]
    }
   ],
   "source": [
    "async for event in workflow.run_stream(\"I would like to go to Paris.\"):\n",
    "        if isinstance(event, DatabaseEvent):\n",
    "            print(f\"{event}\")\n",
    "        elif isinstance(event, WorkflowOutputEvent):\n",
    "            print(f\"Workflow output: {event.data}\")"
   ]
  },
  {
   "cell_type": "markdown",
   "metadata": {},
   "source": [
    "\n---\n\n**অস্বীকৃতি**:  \nএই নথিটি AI অনুবাদ পরিষেবা [Co-op Translator](https://github.com/Azure/co-op-translator) ব্যবহার করে অনুবাদ করা হয়েছে। আমরা যথাসাধ্য সঠিকতার জন্য চেষ্টা করি, তবে অনুগ্রহ করে মনে রাখবেন যে স্বয়ংক্রিয় অনুবাদে ত্রুটি বা অসঙ্গতি থাকতে পারে। মূল ভাষায় থাকা নথিটিকে প্রামাণিক উৎস হিসেবে বিবেচনা করা উচিত। গুরুত্বপূর্ণ তথ্যের জন্য, পেশাদার মানব অনুবাদ সুপারিশ করা হয়। এই অনুবাদ ব্যবহারের ফলে কোনো ভুল বোঝাবুঝি বা ভুল ব্যাখ্যা হলে আমরা দায়বদ্ধ থাকব না।\n"
   ]
  }
 ],
 "metadata": {
  "kernelspec": {
   "display_name": "agentenv",
   "language": "python",
   "name": "python3"
  },
  "language_info": {
   "codemirror_mode": {
    "name": "ipython",
    "version": 3
   },
   "file_extension": ".py",
   "mimetype": "text/x-python",
   "name": "python",
   "nbconvert_exporter": "python",
   "pygments_lexer": "ipython3",
   "version": "3.12.10"
  },
  "polyglot_notebook": {
   "kernelInfo": {
    "defaultKernelName": "csharp",
    "items": [
     {
      "aliases": [],
      "name": "csharp"
     }
    ]
   }
  },
  "coopTranslator": {
   "original_hash": "45f63d4607a79ed16109bb109513aaff",
   "translation_date": "2025-10-02T14:10:37+00:00",
   "source_file": "08-multi-agent/code_samples/08-python-agent-framework.ipynb",
   "language_code": "bn"
  }
 },
 "nbformat": 4,
 "nbformat_minor": 5
}