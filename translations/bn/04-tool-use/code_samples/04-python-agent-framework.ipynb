{
 "cells": [
  {
   "cell_type": "markdown",
   "id": "8744544f",
   "metadata": {},
   "source": [
    "# 🛠️ GitHub মডেলের সাথে উন্নত টুল ব্যবহারের কৌশল (Python)\n",
    "\n",
    "## 📋 শেখার লক্ষ্যসমূহ\n",
    "\n",
    "এই নোটবুকটি Microsoft Agent Framework ব্যবহার করে GitHub মডেলের সাথে উন্নত টুল ইন্টিগ্রেশন প্যাটার্নগুলি প্রদর্শন করে। আপনি শিখবেন কীভাবে একাধিক টুল তৈরি, পরিচালনা এবং সমন্বয় করে উন্নত এজেন্ট সক্ষমতা তৈরি করা যায়।\n",
    "\n",
    "**আপনি যা আয়ত্ত করবেন:**\n",
    "- 🔧 **মাল্টি-টুল আর্কিটেকচার**: একাধিক বিশেষায়িত টুল সহ এজেন্ট তৈরি\n",
    "- 🎯 **টুল নির্বাচন লজিক**: এজেন্ট কীভাবে প্রতিটি কাজের জন্য সঠিক টুল নির্বাচন করে\n",
    "- 📊 **ডেটা প্রসেসিং টুল**: বিভিন্ন ডেটা টাইপ পরিচালনার জন্য টুল তৈরি\n",
    "- 🔗 **টুল কম্পোজিশন**: জটিল ওয়ার্কফ্লো তৈরির জন্য টুলগুলির সংমিশ্রণ\n",
    "\n",
    "## 🎯 প্রধান টুল প্যাটার্ন\n",
    "\n",
    "### টুল ডিজাইনের নীতিমালা\n",
    "- **একক দায়িত্ব**: প্রতিটি টুলের একটি স্পষ্ট, কেন্দ্রীয় উদ্দেশ্য থাকে\n",
    "- **টাইপ সেফটি**: নির্ভরযোগ্য টুল কার্যকরতার জন্য শক্তিশালী টাইপিং\n",
    "- **ত্রুটি পরিচালনা**: ত্রুটির ক্ষেত্রে সুশৃঙ্খল ব্যর্থতা এবং পুনরুদ্ধার প্যাটার্ন\n",
    "- **কম্পোজিবিলিটি**: টুলগুলি একসাথে ভালোভাবে কাজ করে\n",
    "\n",
    "### উন্নত টুল বৈশিষ্ট্য\n",
    "- **প্রসঙ্গ সচেতনতা**: টুলগুলি কথোপকথনের প্রসঙ্গ বুঝতে পারে\n",
    "- **ডেটা যাচাইকরণ**: ইনপুট স্যানিটাইজেশন এবং আউটপুট যাচাইকরণ\n",
    "- **পারফরম্যান্স অপ্টিমাইজেশন**: দক্ষ টুল কার্যকরতার প্যাটার্ন\n",
    "- **এক্সটেনসিবিলিটি**: নতুন টুল সক্ষমতা সহজে যোগ করা যায়\n",
    "\n",
    "## 🔧 প্রযুক্তিগত স্থাপত্য\n",
    "\n",
    "### মূল উপাদান\n",
    "- **Microsoft Agent Framework**: উন্নত টুল সমর্থন সহ Python বাস্তবায়ন\n",
    "- **GitHub মডেল ইন্টিগ্রেশন**: উচ্চ-ক্ষমতাসম্পন্ন ভাষার মডেল অ্যাক্সেস\n",
    "- **টুল রেজিস্ট্রি সিস্টেম**: এজেন্ট সক্ষমতার সংগঠিত ব্যবস্থাপনা\n",
    "- **ত্রুটি পুনরুদ্ধার প্যাটার্ন**: টুল কার্যকরতার ত্রুটি পরিচালনার শক্তিশালী পদ্ধতি\n",
    "\n",
    "### টুল ইন্টিগ্রেশন প্রবাহ\n",
    "```python\n",
    "User Request → Agent Analysis → Tool Selection → Tool Execution → Response Synthesis\n",
    "```\n",
    "\n",
    "## 🛠️ প্রদর্শিত টুল বিভাগ\n",
    "\n",
    "### 1. **ডেটা জেনারেশন টুল**\n",
    "- র‍্যান্ডম গন্তব্য জেনারেটর\n",
    "- আবহাওয়ার তথ্য প্রদানকারী  \n",
    "- ভ্রমণের খরচ হিসাবকারী\n",
    "- কার্যকলাপ সুপারিশ ইঞ্জিন\n",
    "\n",
    "### 2. **প্রসেসিং টুল**\n",
    "- টেক্সট ফরম্যাটিং এবং যাচাইকরণ\n",
    "- ডেটা রূপান্তর ইউটিলিটি\n",
    "- বিষয়বস্তু বিশ্লেষণ ফাংশন\n",
    "- প্রতিক্রিয়া উন্নতকরণ টুল\n",
    "\n",
    "### 3. **ইন্টিগ্রেশন টুল**\n",
    "- বাহ্যিক API সংযোগকারী\n",
    "- ফাইল সিস্টেম অপারেশন\n",
    "- ডাটাবেস কোয়েরি ইন্টারফেস\n",
    "- ওয়েব স্ক্র্যাপিং ইউটিলিটি\n",
    "\n",
    "## ⚙️ প্রয়োজনীয়তা এবং সেটআপ\n",
    "\n",
    "**প্রয়োজনীয় ডিপেনডেন্সি:**\n",
    "```bash\n",
    "\n",
    "pip install agent-framework-core -U\n",
    "```\n",
    "\n",
    "**পরিবেশ কনফিগারেশন (.env ফাইল):**\n",
    "```env\n",
    "GITHUB_TOKEN=your_github_personal_access_token\n",
    "GITHUB_ENDPOINT=https://models.inference.ai.azure.com\n",
    "GITHUB_MODEL_ID=gpt-4o-mini\n",
    "```\n",
    "\n",
    "**ঐচ্ছিক API:**\n",
    "- আবহাওয়া পরিষেবা API কী (আবহাওয়া টুলের জন্য)\n",
    "- মুদ্রা রূপান্তর API অ্যাক্সেস\n",
    "- ভ্রমণ তথ্য পরিষেবা শংসাপত্র\n",
    "\n",
    "## 🎨 ডিজাইন প্যাটার্ন\n",
    "\n",
    "### টুল ফ্যাক্টরি প্যাটার্ন\n",
    "- কেন্দ্রীয় টুল তৈরি এবং কনফিগারেশন\n",
    "- সামঞ্জস্যপূর্ণ টুল ইন্টারফেস ডিজাইন\n",
    "- সহজ টুল রেজিস্ট্রেশন এবং আবিষ্কার\n",
    "\n",
    "### কমান্ড প্যাটার্ন\n",
    "- টুল কার্যকরতার লজিক এনক্যাপসুলেটেড\n",
    "- জটিল অপারেশনের জন্য Undo/Redo কার্যকারিতা\n",
    "- টুল ব্যবহারের জন্য অডিট লগিং\n",
    "\n",
    "### অবজারভার প্যাটার্ন\n",
    "- টুল কার্যকরতার পর্যবেক্ষণ\n",
    "- পারফরম্যান্স মেট্রিক সংগ্রহ\n",
    "- ত্রুটি রিপোর্টিং এবং সতর্কতা\n",
    "\n",
    "## 🚀 সেরা অনুশীলন\n",
    "\n",
    "- **টুল ডকুমেন্টেশন**: এজেন্টের বোঝার জন্য স্পষ্ট বিবরণ\n",
    "- **ইনপুট যাচাইকরণ**: শক্তিশালী প্যারামিটার চেকিং এবং স্যানিটাইজেশন\n",
    "- **আউটপুট ফরম্যাটিং**: সামঞ্জস্যপূর্ণ, পার্সযোগ্য টুল প্রতিক্রিয়া\n",
    "- **ত্রুটি বার্তা**: ডিবাগিংয়ের জন্য সহায়ক ত্রুটি তথ্য\n",
    "- **পারফরম্যান্স**: প্রতিক্রিয়াশীলতার জন্য অপ্টিমাইজড টুল কার্যকরতা\n",
    "\n",
    "শক্তিশালী টুল সক্ষমতা সহ এজেন্ট তৈরি করতে প্রস্তুত? চলুন কিছু অসাধারণ তৈরি করি! ⚡\n"
   ]
  },
  {
   "cell_type": "code",
   "execution_count": null,
   "id": "59c0feeb",
   "metadata": {},
   "outputs": [],
   "source": [
    "! pip install agent-framework-core -U"
   ]
  },
  {
   "cell_type": "code",
   "execution_count": null,
   "id": "c0df8a52",
   "metadata": {},
   "outputs": [],
   "source": [
    "# � Import core dependencies for Agent Framework and tool integration\n",
    "# This sets up the essential libraries for building intelligent agents with tool capabilities\n",
    "\n",
    "import asyncio\n",
    "import os\n",
    "import json\n",
    "\n",
    "from dotenv import load_dotenv  # For loading environment variables securely\n",
    "from random import randint\n",
    "\n",
    "# These are the core components for building tool-enabled agents\n",
    "from agent_framework import ChatAgent           # Main agent class\n",
    "from agent_framework.openai import OpenAIChatClient  # OpenAI-compatible client"
   ]
  },
  {
   "cell_type": "code",
   "execution_count": null,
   "id": "24c10eb0",
   "metadata": {},
   "outputs": [],
   "source": [
    "load_dotenv()"
   ]
  },
  {
   "cell_type": "code",
   "execution_count": null,
   "id": "151e0314",
   "metadata": {},
   "outputs": [],
   "source": [
    "# 🔑 Environment variables verification\n",
    "# Ensure all required GitHub Models credentials are properly configured\n",
    "print(\"GITHUB_ENDPOINT:\", os.environ.get(\"GITHUB_ENDPOINT\"))\n",
    "print(\"GITHUB_TOKEN:\", \"***\" if os.environ.get(\"GITHUB_TOKEN\") else \"Not set\")\n",
    "print(\"GITHUB_MODEL_ID:\", os.environ.get(\"GITHUB_MODEL_ID\"))"
   ]
  },
  {
   "cell_type": "code",
   "execution_count": null,
   "id": "a6141584",
   "metadata": {},
   "outputs": [],
   "source": [
    "# 🧪 Test GitHub Models connectivity\n",
    "openai_chat_client = OpenAIChatClient(base_url=os.environ.get(\"GITHUB_ENDPOINT\"), api_key=os.environ.get(\"GITHUB_TOKEN\"), model_id=os.environ.get(\"GITHUB_MODEL_ID\"))"
   ]
  },
  {
   "cell_type": "code",
   "execution_count": null,
   "id": "a6507f83",
   "metadata": {},
   "outputs": [],
   "source": [
    "# 🛠️ Define travel planning tools for agent integration\n",
    "# These functions provide specific capabilities that the agent can invoke dynamically\n",
    "\n",
    "def get_random_destination() -> str:\n",
    "    \"\"\"\n",
    "    🎲 Random destination generator tool\n",
    "    Returns a randomly selected travel destination from curated list\n",
    "    Useful when customers need inspiration for their next vacation\n",
    "    \"\"\"\n",
    "    destinations = [\n",
    "        \"Paris, France\",\n",
    "        \"Tokyo, Japan\", \n",
    "        \"New York City, USA\",\n",
    "        \"London, England\",\n",
    "        \"Rome, Italy\",\n",
    "        \"Sydney, Australia\",\n",
    "        \"Dubai, UAE\",\n",
    "        \"Barcelona, Spain\",\n",
    "        \"Bangkok, Thailand\",\n",
    "        \"Amsterdam, Netherlands\",\n",
    "        \"Istanbul, Turkey\",\n",
    "        \"Prague, Czech Republic\",\n",
    "        \"Santorini, Greece\",\n",
    "        \"Reykjavik, Iceland\",\n",
    "        \"Marrakech, Morocco\",\n",
    "        \"Cape Town, South Africa\",\n",
    "        \"Rio de Janeiro, Brazil\",\n",
    "        \"Bali, Indonesia\"\n",
    "    ]\n",
    "    # 🎯 Return random selection from the curated destination list\n",
    "    return destinations[randint(0, len(destinations) - 1)]"
   ]
  },
  {
   "cell_type": "code",
   "execution_count": null,
   "id": "5d4f0568",
   "metadata": {},
   "outputs": [],
   "source": [
    "# 🔗 Initialize GitHub Models chat client for agent communication\n",
    "# Creates the primary interface between the agent and the language model\n",
    "openai_chat_client = OpenAIChatClient(base_url=os.environ.get(\"GITHUB_ENDPOINT\"), api_key=os.environ.get(\"GITHUB_TOKEN\"), model_id=os.environ.get(\"GITHUB_MODEL_ID\"))"
   ]
  },
  {
   "cell_type": "code",
   "execution_count": null,
   "id": "751668c5",
   "metadata": {},
   "outputs": [],
   "source": [
    "# 🤖 Configure travel agent identity and behavioral instructions\n",
    "# Define the agent's personality, capabilities, and operational guidelines\n",
    "\n",
    "AGENT_NAME = \"TravelAgent\"\n",
    "\n",
    "AGENT_INSTRUCTIONS = \"\"\"You are a helpful AI Agent that can help plan vacations for customers at random destinations\n",
    "\"\"\""
   ]
  },
  {
   "cell_type": "code",
   "execution_count": null,
   "id": "be18ac4f",
   "metadata": {},
   "outputs": [],
   "source": [
    "agent = ChatAgent(\n",
    "        name = AGENT_NAME,\n",
    "        chat_client=openai_chat_client,\n",
    "        instructions=AGENT_INSTRUCTIONS,\n",
    "        tools=[get_random_destination]\n",
    ")"
   ]
  },
  {
   "cell_type": "code",
   "execution_count": null,
   "id": "772e9481",
   "metadata": {},
   "outputs": [],
   "source": [
    "thread = agent.get_new_thread()"
   ]
  },
  {
   "cell_type": "code",
   "execution_count": null,
   "id": "a731b547",
   "metadata": {},
   "outputs": [],
   "source": [
    "response1 = await agent.run(\"Plan me a day trip\",thread= thread)"
   ]
  },
  {
   "cell_type": "code",
   "execution_count": null,
   "id": "7d3fe00a",
   "metadata": {},
   "outputs": [],
   "source": [
    "\n",
    "last_message = response1.messages[-1]\n",
    "text_content = last_message.contents[0].text\n",
    "print(\"Travel plan:\")\n",
    "print(text_content)"
   ]
  },
  {
   "cell_type": "markdown",
   "metadata": {},
   "source": [
    "\n---\n\n**অস্বীকৃতি**:  \nএই নথিটি AI অনুবাদ পরিষেবা [Co-op Translator](https://github.com/Azure/co-op-translator) ব্যবহার করে অনুবাদ করা হয়েছে। আমরা যথাসাধ্য সঠিকতার জন্য চেষ্টা করি, তবে অনুগ্রহ করে মনে রাখবেন যে স্বয়ংক্রিয় অনুবাদে ত্রুটি বা অসঙ্গতি থাকতে পারে। মূল ভাষায় থাকা নথিটিকে প্রামাণিক উৎস হিসেবে বিবেচনা করা উচিত। গুরুত্বপূর্ণ তথ্যের জন্য, পেশাদার মানব অনুবাদ সুপারিশ করা হয়। এই অনুবাদ ব্যবহারের ফলে কোনো ভুল বোঝাবুঝি বা ভুল ব্যাখ্যা হলে আমরা দায়বদ্ধ থাকব না।\n"
   ]
  }
 ],
 "metadata": {
  "kernelspec": {
   "display_name": "agentenv",
   "language": "python",
   "name": "python3"
  },
  "language_info": {
   "codemirror_mode": {
    "name": "ipython",
    "version": 3
   },
   "file_extension": ".py",
   "mimetype": "text/x-python",
   "name": "python",
   "nbconvert_exporter": "python",
   "pygments_lexer": "ipython3",
   "version": "3.12.10"
  },
  "polyglot_notebook": {
   "kernelInfo": {
    "defaultKernelName": "csharp",
    "items": [
     {
      "aliases": [],
      "name": "csharp"
     }
    ]
   }
  },
  "coopTranslator": {
   "original_hash": "42966ddac53cebaf0ac1ce33b2ee7059",
   "translation_date": "2025-10-02T14:30:00+00:00",
   "source_file": "04-tool-use/code_samples/04-python-agent-framework.ipynb",
   "language_code": "bn"
  }
 },
 "nbformat": 4,
 "nbformat_minor": 5
}