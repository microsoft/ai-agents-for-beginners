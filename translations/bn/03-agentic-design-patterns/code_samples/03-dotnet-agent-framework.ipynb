{
 "cells": [
  {
   "cell_type": "markdown",
   "id": "d6058fa4",
   "metadata": {},
   "source": [
    "# 🎨 GitHub মডেল (.NET) ব্যবহার করে Agentic ডিজাইন প্যাটার্ন\n",
    "\n",
    "## 📋 শেখার লক্ষ্যসমূহ\n",
    "\n",
    "এই নোটবুকটি Microsoft Agent Framework ব্যবহার করে GitHub মডেল ইন্টিগ্রেশনের মাধ্যমে বুদ্ধিমান এজেন্ট তৈরি করার জন্য এন্টারপ্রাইজ-গ্রেড ডিজাইন প্যাটার্ন প্রদর্শন করে। আপনি এমন পেশাদার প্যাটার্ন এবং স্থাপত্যগত পদ্ধতি শিখবেন যা এজেন্টকে প্রোডাকশন-রেডি, রক্ষণাবেক্ষণযোগ্য এবং স্কেলযোগ্য করে তোলে।\n",
    "\n",
    "**এন্টারপ্রাইজ ডিজাইন প্যাটার্ন:**\n",
    "- 🏭 **ফ্যাক্টরি প্যাটার্ন**: নির্ভরতা ইনজেকশন সহ এজেন্ট তৈরির মানকরণ\n",
    "- 🔧 **বিল্ডার প্যাটার্ন**: ফ্লুয়েন্ট এজেন্ট কনফিগারেশন এবং সেটআপ\n",
    "- 🧵 **থ্রেড-সেফ প্যাটার্ন**: সমান্তরাল কথোপকথন ব্যবস্থাপনা\n",
    "- 📋 **রিপোজিটরি প্যাটার্ন**: টুল এবং সক্ষমতা ব্যবস্থাপনার সংগঠিত পদ্ধতি\n",
    "\n",
    "## 🎯 .NET-নির্দিষ্ট স্থাপত্যগত সুবিধা\n",
    "\n",
    "### এন্টারপ্রাইজ বৈশিষ্ট্য\n",
    "- **স্ট্রং টাইপিং**: কম্পাইল-টাইম যাচাইকরণ এবং IntelliSense সমর্থন\n",
    "- **ডিপেনডেন্সি ইনজেকশন**: বিল্ট-ইন DI কন্টেইনার ইন্টিগ্রেশন\n",
    "- **কনফিগারেশন ব্যবস্থাপনা**: IConfiguration এবং Options প্যাটার্ন\n",
    "- **Async/Await**: প্রথম-শ্রেণীর অ্যাসিঙ্ক্রোনাস প্রোগ্রামিং সমর্থন\n",
    "\n",
    "### প্রোডাকশন-রেডি প্যাটার্ন\n",
    "- **লগিং ইন্টিগ্রেশন**: ILogger এবং স্ট্রাকচার্ড লগিং সমর্থন\n",
    "- **হেলথ চেক**: বিল্ট-ইন মনিটরিং এবং ডায়াগনস্টিকস\n",
    "- **কনফিগারেশন যাচাইকরণ**: ডেটা অ্যানোটেশন সহ স্ট্রং টাইপিং\n",
    "- **এরর হ্যান্ডলিং**: স্ট্রাকচার্ড এক্সেপশন ব্যবস্থাপনা\n",
    "\n",
    "## 🔧 প্রযুক্তিগত স্থাপত্য\n",
    "\n",
    "### মূল .NET উপাদান\n",
    "- **Microsoft.Extensions.AI**: একীভূত AI সার্ভিস অ্যাবস্ট্রাকশন\n",
    "- **Microsoft.Agents.AI**: এন্টারপ্রাইজ এজেন্ট অর্কেস্ট্রেশন ফ্রেমওয়ার্ক\n",
    "- **GitHub মডেল ইন্টিগ্রেশন**: উচ্চ-প্রদর্শন API ক্লায়েন্ট প্যাটার্ন\n",
    "- **কনফিগারেশন সিস্টেম**: appsettings.json এবং পরিবেশ ইন্টিগ্রেশন\n",
    "\n",
    "### ডিজাইন প্যাটার্ন বাস্তবায়ন\n",
    "```csharp\n",
    "IServiceCollection → Agent Builder → Configuration → Tool Registry → AI Agent\n",
    "```\n",
    "\n",
    "## 🏗️ প্রদর্শিত এন্টারপ্রাইজ প্যাটার্ন\n",
    "\n",
    "### 1. **ক্রিয়েশনাল প্যাটার্ন**\n",
    "- **এজেন্ট ফ্যাক্টরি**: ধারাবাহিক কনফিগারেশন সহ কেন্দ্রীভূত এজেন্ট তৈরি\n",
    "- **বিল্ডার প্যাটার্ন**: জটিল এজেন্ট কনফিগারেশনের জন্য ফ্লুয়েন্ট API\n",
    "- **সিঙ্গেলটন প্যাটার্ন**: শেয়ার করা রিসোর্স এবং কনফিগারেশন ব্যবস্থাপনা\n",
    "- **ডিপেনডেন্সি ইনজেকশন**: লুজ কাপলিং এবং টেস্টযোগ্যতা\n",
    "\n",
    "### 2. **বিহেভিরাল প্যাটার্ন**\n",
    "- **স্ট্র্যাটেজি প্যাটার্ন**: পরিবর্তনযোগ্য টুল এক্সিকিউশন স্ট্র্যাটেজি\n",
    "- **কমান্ড প্যাটার্ন**: এজেন্ট অপারেশন এনক্যাপসুলেশন সহ undo/redo\n",
    "- **অবজারভার প্যাটার্ন**: ইভেন্ট-চালিত এজেন্ট লাইফসাইকেল ব্যবস্থাপনা\n",
    "- **টেমপ্লেট মেথড**: এজেন্ট এক্সিকিউশন ওয়ার্কফ্লো মানকরণ\n",
    "\n",
    "### 3. **স্ট্রাকচারাল প্যাটার্ন**\n",
    "- **অ্যাডাপ্টার প্যাটার্ন**: GitHub মডেল API ইন্টিগ্রেশন লেয়ার\n",
    "- **ডেকোরেটর প্যাটার্ন**: এজেন্ট সক্ষমতা বৃদ্ধি\n",
    "- **ফ্যাসাড প্যাটার্ন**: সরলীকৃত এজেন্ট ইন্টারঅ্যাকশন ইন্টারফেস\n",
    "- **প্রক্সি প্যাটার্ন**: পারফরম্যান্সের জন্য লেজি লোডিং এবং ক্যাশিং\n",
    "\n",
    "## ⚙️ প্রয়োজনীয়তা এবং সেটআপ\n",
    "\n",
    "**ডেভেলপমেন্ট এনভায়রনমেন্ট:**\n",
    "- .NET 9.0 SDK বা তার বেশি\n",
    "- Visual Studio 2022 অথবা VS Code (C# এক্সটেনশন সহ)\n",
    "- GitHub মডেল API অ্যাক্সেস\n",
    "\n",
    "**NuGet ডিপেনডেন্সি:**\n",
    "```xml\n",
    "<PackageReference Include=\"Microsoft.Extensions.AI\" Version=\"9.9.0\" />\n",
    "<PackageReference Include=\"Microsoft.Extensions.AI.OpenAI\" Version=\"9.9.0-preview.1.25458.4\" />\n",
    "<PackageReference Include=\"DotNetEnv\" Version=\"3.1.1\" />\n",
    "```\n",
    "\n",
    "**কনফিগারেশন (.env ফাইল):**\n",
    "```env\n",
    "GITHUB_TOKEN=your_github_personal_access_token\n",
    "GITHUB_ENDPOINT=https://models.inference.ai.azure.com\n",
    "GITHUB_MODEL_ID=gpt-4o-mini\n",
    "```\n",
    "\n",
    "## 📚 .NET ডিজাইন নীতিমালা\n",
    "\n",
    "### SOLID নীতিমালা\n",
    "- **সিঙ্গেল রেসপনসিবিলিটি**: প্রতিটি কম্পোনেন্টের একটি স্পষ্ট উদ্দেশ্য\n",
    "- **ওপেন/ক্লোজড**: পরিবর্তন ছাড়াই সম্প্রসারণযোগ্য\n",
    "- **লিসকভ সাবস্টিটিউশন**: ইন্টারফেস-ভিত্তিক টুল বাস্তবায়ন\n",
    "- **ইন্টারফেস সেগ্রিগেশন**: ফোকাসড, সংহত ইন্টারফেস\n",
    "- **ডিপেনডেন্সি ইনভার্সন**: অ্যাবস্ট্রাকশনের উপর নির্ভর করুন, কনক্রিটের উপর নয়\n",
    "\n",
    "### ক্লিন আর্কিটেকচার\n",
    "- **ডোমেইন লেয়ার**: মূল এজেন্ট এবং টুল অ্যাবস্ট্রাকশন\n",
    "- **অ্যাপ্লিকেশন লেয়ার**: এজেন্ট অর্কেস্ট্রেশন এবং ওয়ার্কফ্লো\n",
    "- **ইনফ্রাস্ট্রাকচার লেয়ার**: GitHub মডেল ইন্টিগ্রেশন এবং বাহ্যিক পরিষেবা\n",
    "- **প্রেজেন্টেশন লেয়ার**: ব্যবহারকারী ইন্টারঅ্যাকশন এবং রেসপন্স ফরম্যাটিং\n",
    "\n",
    "## 🔒 এন্টারপ্রাইজ বিবেচনা\n",
    "\n",
    "### নিরাপত্তা\n",
    "- **ক্রেডেনশিয়াল ব্যবস্থাপনা**: IConfiguration সহ নিরাপদ API কী হ্যান্ডলিং\n",
    "- **ইনপুট যাচাইকরণ**: স্ট্রং টাইপিং এবং ডেটা অ্যানোটেশন যাচাইকরণ\n",
    "- **আউটপুট স্যানিটাইজেশন**: নিরাপদ রেসপন্স প্রসেসিং এবং ফিল্টারিং\n",
    "- **অডিট লগিং**: ব্যাপক অপারেশন ট্র্যাকিং\n",
    "\n",
    "### পারফরম্যান্স\n",
    "- **অ্যাসিঙ্ক প্যাটার্ন**: নন-ব্লকিং I/O অপারেশন\n",
    "- **কানেকশন পুলিং**: দক্ষ HTTP ক্লায়েন্ট ব্যবস্থাপনা\n",
    "- **ক্যাশিং**: পারফরম্যান্স উন্নতির জন্য রেসপন্স ক্যাশিং\n",
    "- **রিসোর্স ব্যবস্থাপনা**: সঠিক ডিসপোজাল এবং ক্লিনআপ প্যাটার্ন\n",
    "\n",
    "### স্কেলযোগ্যতা\n",
    "- **থ্রেড সেফটি**: সমান্তরাল এজেন্ট এক্সিকিউশন সমর্থন\n",
    "- **রিসোর্স পুলিং**: দক্ষ রিসোর্স ব্যবহার\n",
    "- **লোড ব্যবস্থাপনা**: রেট লিমিটিং এবং ব্যাকপ্রেশার হ্যান্ডলিং\n",
    "- **মনিটরিং**: পারফরম্যান্স মেট্রিক এবং হেলথ চেক\n",
    "\n",
    "## 🚀 প্রোডাকশন ডিপ্লয়মেন্ট\n",
    "\n",
    "- **কনফিগারেশন ব্যবস্থাপনা**: পরিবেশ-নির্দিষ্ট সেটিংস\n",
    "- **লগিং স্ট্র্যাটেজি**: করেলেশন আইডি সহ স্ট্রাকচার্ড লগিং\n",
    "- **এরর হ্যান্ডলিং**: সঠিক পুনরুদ্ধার সহ গ্লোবাল এক্সেপশন হ্যান্ডলিং\n",
    "- **মনিটরিং**: অ্যাপ্লিকেশন ইনসাইট এবং পারফরম্যান্স কাউন্টার\n",
    "- **টেস্টিং**: ইউনিট টেস্ট, ইন্টিগ্রেশন টেস্ট এবং লোড টেস্টিং প্যাটার্ন\n",
    "\n",
    "এন্টারপ্রাইজ-গ্রেড বুদ্ধিমান এজেন্ট তৈরি করতে প্রস্তুত .NET ব্যবহার করে? চলুন কিছু শক্তিশালী স্থাপত্য তৈরি করি! 🏢✨\n"
   ]
  },
  {
   "cell_type": "code",
   "execution_count": 1,
   "id": "2770ac5c",
   "metadata": {
    "language_info": {
     "name": "polyglot-notebook"
    },
    "polyglot_notebook": {
     "kernelName": "csharp"
    }
   },
   "outputs": [
    {
     "data": {
      "text/html": [
       "<div><div></div><div></div><div><strong>Installed Packages</strong><ul><li><span>Microsoft.Extensions.AI, 9.9.1</span></li></ul></div></div>"
      ]
     },
     "metadata": {},
     "output_type": "display_data"
    }
   ],
   "source": [
    "#r \"nuget: Microsoft.Extensions.AI, 9.9.1\""
   ]
  },
  {
   "cell_type": "code",
   "execution_count": null,
   "id": "984ff6cd",
   "metadata": {
    "language_info": {
     "name": "polyglot-notebook"
    },
    "polyglot_notebook": {
     "kernelName": "csharp"
    }
   },
   "outputs": [
    {
     "data": {
      "text/html": [
       "<div><div></div><div></div><div><strong>Installed Packages</strong><ul><li><span>Microsoft.Agents.AI.OpenAI, 1.0.0-preview.251001.2</span></li></ul></div></div>"
      ]
     },
     "metadata": {},
     "output_type": "display_data"
    }
   ],
   "source": [
    "#r \"nuget: Microsoft.Agents.AI.OpenAI, 1.0.0-preview.251001.3\""
   ]
  },
  {
   "cell_type": "code",
   "execution_count": null,
   "id": "0ab71360",
   "metadata": {
    "language_info": {
     "name": "polyglot-notebook"
    },
    "polyglot_notebook": {
     "kernelName": "csharp"
    }
   },
   "outputs": [
    {
     "data": {
      "text/html": [
       "<div><div></div><div></div><div><strong>Installed Packages</strong><ul><li><span>microsoft.agents.ai, 1.0.0-preview.251001.2</span></li></ul></div></div>"
      ]
     },
     "metadata": {},
     "output_type": "display_data"
    }
   ],
   "source": [
    "\n",
    "\n",
    "#r \"nuget: Microsoft.Agents.AI, 1.0.0-preview.251001.3\""
   ]
  },
  {
   "cell_type": "code",
   "execution_count": 4,
   "id": "4ab7b15d",
   "metadata": {
    "language_info": {
     "name": "polyglot-notebook"
    },
    "polyglot_notebook": {
     "kernelName": "csharp"
    }
   },
   "outputs": [],
   "source": [
    "// #r \"nuget: Microsoft.Extensions.AI.OpenAI, 9.9.0-preview.1.25458.4\""
   ]
  },
  {
   "cell_type": "code",
   "execution_count": 5,
   "id": "3fa8aa21",
   "metadata": {
    "language_info": {
     "name": "polyglot-notebook"
    },
    "polyglot_notebook": {
     "kernelName": "csharp"
    }
   },
   "outputs": [
    {
     "data": {
      "text/html": [
       "<div><div></div><div></div><div><strong>Installed Packages</strong><ul><li><span>DotNetEnv, 3.1.1</span></li></ul></div></div>"
      ]
     },
     "metadata": {},
     "output_type": "display_data"
    }
   ],
   "source": [
    "#r \"nuget: DotNetEnv, 3.1.1\""
   ]
  },
  {
   "cell_type": "code",
   "execution_count": 6,
   "id": "fc8ee8ea",
   "metadata": {
    "language_info": {
     "name": "polyglot-notebook"
    },
    "polyglot_notebook": {
     "kernelName": "csharp"
    }
   },
   "outputs": [],
   "source": [
    "using System;\n",
    "using System.ComponentModel;\n",
    "using System.ClientModel;\n",
    "\n",
    "using Microsoft.Extensions.AI;\n",
    "using Microsoft.Agents.AI;\n",
    "using OpenAI;"
   ]
  },
  {
   "cell_type": "code",
   "execution_count": 7,
   "id": "699b1c83",
   "metadata": {
    "language_info": {
     "name": "polyglot-notebook"
    },
    "polyglot_notebook": {
     "kernelName": "csharp"
    }
   },
   "outputs": [],
   "source": [
    " using DotNetEnv;"
   ]
  },
  {
   "cell_type": "code",
   "execution_count": 8,
   "id": "daa649a0",
   "metadata": {
    "language_info": {
     "name": "polyglot-notebook"
    },
    "polyglot_notebook": {
     "kernelName": "csharp"
    }
   },
   "outputs": [],
   "source": [
    "Env.Load(\"../../../.env\");"
   ]
  },
  {
   "cell_type": "code",
   "execution_count": 9,
   "id": "29661a90",
   "metadata": {
    "language_info": {
     "name": "polyglot-notebook"
    },
    "polyglot_notebook": {
     "kernelName": "csharp"
    }
   },
   "outputs": [],
   "source": [
    "[Description(\"Provides a random vacation destination.\")]\n",
    "static string GetRandomDestination()\n",
    "{\n",
    "    var destinations = new List<string>\n",
    "    {\n",
    "        \"Paris, France\",\n",
    "        \"Tokyo, Japan\",\n",
    "        \"New York City, USA\",\n",
    "        \"Sydney, Australia\",\n",
    "        \"Rome, Italy\",\n",
    "        \"Barcelona, Spain\",\n",
    "        \"Cape Town, South Africa\",\n",
    "        \"Rio de Janeiro, Brazil\",\n",
    "        \"Bangkok, Thailand\",\n",
    "        \"Vancouver, Canada\"\n",
    "    };\n",
    "\n",
    "    var random = new Random();\n",
    "    int index = random.Next(destinations.Count);\n",
    "    return destinations[index];\n",
    "}"
   ]
  },
  {
   "cell_type": "code",
   "execution_count": 10,
   "id": "d2ed1f8b",
   "metadata": {
    "language_info": {
     "name": "polyglot-notebook"
    },
    "polyglot_notebook": {
     "kernelName": "csharp"
    }
   },
   "outputs": [],
   "source": [
    "var github_endpoint = Environment.GetEnvironmentVariable(\"GITHUB_ENDPOINT\") ?? throw new InvalidOperationException(\"GITHUB_ENDPOINT is not set.\");\n",
    "var github_model_id = Environment.GetEnvironmentVariable(\"GITHUB_MODEL_ID\") ?? \"gpt-4o-mini\";\n",
    "var github_token = Environment.GetEnvironmentVariable(\"GITHUB_TOKEN\") ?? throw new InvalidOperationException(\"GITHUB_TOKEN is not set.\");"
   ]
  },
  {
   "cell_type": "code",
   "execution_count": 11,
   "id": "c36c73e1",
   "metadata": {
    "language_info": {
     "name": "polyglot-notebook"
    },
    "polyglot_notebook": {
     "kernelName": "csharp"
    }
   },
   "outputs": [],
   "source": [
    "var openAIOptions = new OpenAIClientOptions()\n",
    "{\n",
    "    Endpoint= new Uri(github_endpoint)\n",
    "};"
   ]
  },
  {
   "cell_type": "code",
   "execution_count": 12,
   "id": "6d94ff10",
   "metadata": {
    "language_info": {
     "name": "polyglot-notebook"
    },
    "polyglot_notebook": {
     "kernelName": "csharp"
    }
   },
   "outputs": [],
   "source": [
    "\n",
    "var openAIClient = new OpenAIClient(new ApiKeyCredential(github_token), openAIOptions);"
   ]
  },
  {
   "cell_type": "code",
   "execution_count": 13,
   "id": "fe32b57a",
   "metadata": {
    "language_info": {
     "name": "polyglot-notebook"
    },
    "polyglot_notebook": {
     "kernelName": "csharp"
    }
   },
   "outputs": [],
   "source": [
    "AIAgent agent = new OpenAIClient(new ApiKeyCredential(github_token), openAIOptions).GetChatClient(github_model_id).CreateAIAgent(\n",
    "    instructions:\"You are a helpful AI Agent that can help plan vacations for customers at random destinations\", tools: [AIFunctionFactory.Create((Func<string>)GetRandomDestination)]);"
   ]
  },
  {
   "cell_type": "code",
   "execution_count": 14,
   "metadata": {
    "language_info": {
     "name": "polyglot-notebook"
    },
    "polyglot_notebook": {
     "kernelName": "csharp"
    }
   },
   "outputs": [],
   "source": [
    "AgentThread thread = agent.GetNewThread();"
   ]
  },
  {
   "cell_type": "code",
   "execution_count": 15,
   "id": "5e455aff",
   "metadata": {
    "language_info": {
     "name": "polyglot-notebook"
    },
    "polyglot_notebook": {
     "kernelName": "csharp"
    }
   },
   "outputs": [
    {
     "name": "stdout",
     "output_type": "stream",
     "text": [
      "How about a day trip to Vancouver, Canada? Here's a suggested itinerary for your day:\n",
      "\n",
      "### Morning\n",
      "- **Breakfast at a Local Cafe**: Start your day with a delicious breakfast at a cozy café like **Jam Cafe** or **Cafe Medina**.\n",
      "- **Stanley Park**: After breakfast, head to Stanley Park. You can rent a bike and ride along the seawall, enjoying beautiful views of the city and the water.\n",
      "\n",
      "### Afternoon\n",
      "- **Lunch in Gastown**: Make your way to Gastown for lunch. Try a local favorite like **The Flying Pig** or **Noodle Box**.\n",
      "- **Explore Gastown**: After lunch, walk around Gastown to see the iconic Steam Clock and browse the unique shops and boutiques.\n",
      "\n",
      "### Late Afternoon\n",
      "- **Granville Island**: Visit Granville Island, where you can stroll through the public market, sample local foods, and enjoy artisan shops.\n",
      "- **False Creek**: Take a walk along False Creek and enjoy the waterfront views.\n",
      "\n",
      "### Evening\n",
      "- **Dinner at a Waterfront Restaurant**: End your day with dinner at a waterfront restaurant like **The Boathouse** or **Lift Bar Grill View** for great food and a view of the sunset.\n",
      "- **Optional: Sunset Cruise**: If you're up for it, consider taking a sunset cruise for a different perspective of the city.\n",
      "\n",
      "### Tips\n",
      "- Make sure to check the weather beforehand!\n",
      "- Consider public transport or ride-sharing to navigate the city easily.\n",
      "\n",
      "Enjoy your day trip to Vancouver!\r\n"
     ]
    }
   ],
   "source": [
    "Console.WriteLine(await agent.RunAsync(\"Plan me a day trip\",thread));"
   ]
  },
  {
   "cell_type": "code",
   "execution_count": 16,
   "id": "592ae1bb",
   "metadata": {
    "language_info": {
     "name": "polyglot-notebook"
    },
    "polyglot_notebook": {
     "kernelName": "csharp"
    }
   },
   "outputs": [
    {
     "name": "stdout",
     "output_type": "stream",
     "text": [
      "How about a vacation to New York City, USA? Here's a suggested itinerary for your trip:\n",
      "\n",
      "### Day 1: Arrival in New York City\n",
      "- **Check-In**: Arrive and check in to your hotel.\n",
      "- **Central Park**: Take a leisurely stroll through Central Park. Consider renting a bike or taking a carriage ride.\n",
      "- **Evening**: Enjoy dinner at a classic NYC restaurant, such as **Katz's Delicatessen** or **Carbone**.\n",
      "\n",
      "### Day 2: Iconic Landmarks\n",
      "- **Morning**: Breakfast at a local diner.\n",
      "- **Statue of Liberty & Ellis Island**: Take a ferry to visit these iconic landmarks.\n",
      "- **Afternoon**: Explore Wall Street and visit the 9/11 Memorial & Museum.\n",
      "- **Evening**: Dinner in the Financial District followed by a walk across the Brooklyn Bridge at sunset.\n",
      "\n",
      "### Day 3: Culture and Arts\n",
      "- **Morning**: Visit The Metropolitan Museum of Art (The Met) and spend a few hours exploring its vast collection.\n",
      "- **Afternoon**: Head to Times Square for lunch and the buzz of the city.\n",
      "- **Broadway Show**: Catch a Broadway show in the evening. Be sure to book tickets in advance!\n",
      "\n",
      "### Day 4: Explore Neighborhoods\n",
      "- **Morning**: Head to SoHo for brunch and shopping in its chic boutiques.\n",
      "- **Afternoon**: Explore Greenwich Village, known for its bohemian atmosphere and history.\n",
      "- **Evening**: Enjoy dinner in the West Village, perhaps at **Buvette** or **Minetta Tavern**.\n",
      "\n",
      "### Day 5: Departure\n",
      "- **Last-minute Shopping**: Spend your last morning shopping at Fifth Avenue or head to Chelsea Market for food and souvenirs.\n",
      "- **Check-Out**: Depart for your journey home.\n",
      "\n",
      "### Tips\n",
      "- Utilize the subway for efficient travel around the city.\n",
      "- Make reservations for popular restaurants and attractions ahead of time!\n",
      "\n",
      "Enjoy your trip to New York City!\r\n"
     ]
    }
   ],
   "source": [
    "Console.WriteLine(await agent.RunAsync(\"I don't like that destination. Plan me another vacation.\",thread));"
   ]
  },
  {
   "cell_type": "markdown",
   "metadata": {},
   "source": [
    "\n---\n\n**অস্বীকৃতি**:  \nএই নথিটি AI অনুবাদ পরিষেবা [Co-op Translator](https://github.com/Azure/co-op-translator) ব্যবহার করে অনুবাদ করা হয়েছে। আমরা যথাসাধ্য সঠিকতার জন্য চেষ্টা করি, তবে অনুগ্রহ করে মনে রাখবেন যে স্বয়ংক্রিয় অনুবাদে ত্রুটি বা অসঙ্গতি থাকতে পারে। মূল ভাষায় থাকা নথিটিকে প্রামাণিক উৎস হিসেবে বিবেচনা করা উচিত। গুরুত্বপূর্ণ তথ্যের জন্য, পেশাদার মানব অনুবাদ সুপারিশ করা হয়। এই অনুবাদ ব্যবহারের ফলে কোনো ভুল বোঝাবুঝি বা ভুল ব্যাখ্যা হলে আমরা দায়বদ্ধ থাকব না।\n"
   ]
  }
 ],
 "metadata": {
  "kernelspec": {
   "display_name": ".NET (C#)",
   "language": "C#",
   "name": ".net-csharp"
  },
  "language_info": {
   "name": "polyglot-notebook"
  },
  "polyglot_notebook": {
   "kernelInfo": {
    "defaultKernelName": "csharp",
    "items": [
     {
      "aliases": [],
      "name": "csharp"
     }
    ]
   }
  },
  "coopTranslator": {
   "original_hash": "070c1d8985b3dc6e6d977f3e891037f1",
   "translation_date": "2025-10-02T14:38:11+00:00",
   "source_file": "03-agentic-design-patterns/code_samples/03-dotnet-agent-framework.ipynb",
   "language_code": "bn"
  }
 },
 "nbformat": 4,
 "nbformat_minor": 5
}