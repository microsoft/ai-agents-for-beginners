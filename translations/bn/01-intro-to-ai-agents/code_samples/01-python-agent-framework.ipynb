{
 "cells": [
  {
   "cell_type": "markdown",
   "id": "f4cf9593",
   "metadata": {},
   "source": [
    "# 🐍 মাইক্রোসফট এজেন্ট ফ্রেমওয়ার্ক (পাইথন) দিয়ে AI ট্রাভেল এজেন্ট\n",
    "\n",
    "## 📋 পরিস্থিতির সংক্ষিপ্ত বিবরণ\n",
    "\n",
    "এই নোটবুকটি মাইক্রোসফট এজেন্ট ফ্রেমওয়ার্ক ব্যবহার করে একটি বুদ্ধিমান ভ্রমণ পরিকল্পনা এজেন্ট তৈরি করার পদ্ধতি প্রদর্শন করে। এজেন্টটি GitHub Models ব্যবহার করে বিশ্বব্যাপী র্যান্ডম গন্তব্যের জন্য ব্যক্তিগতকৃত দিন-ভ্রমণের পরিকল্পনা স্বয়ংক্রিয়ভাবে তৈরি করে।\n",
    "\n",
    "**মূল বৈশিষ্ট্যসমূহ:**\n",
    "- 🎲 **স্মার্ট গন্তব্য নির্বাচন**: র্যান্ডম গন্তব্য বাছাইয়ের জন্য কাস্টম টুল ফাংশন\n",
    "- 🗺️ **বিস্তারিত পরিকল্পনা তৈরি**: স্থানীয় সুপারিশ সহ AI-চালিত ভ্রমণ পরিকল্পনা\n",
    "- 🔄 **অ্যাসিঙ্ক প্রসেসিং**: API যোগাযোগের জন্য asyncio ব্যবহার করে দক্ষতা বৃদ্ধি\n",
    "- 🛠️ **টুল ইন্টিগ্রেশন**: AI এজেন্টে ফাংশন কলিং ক্ষমতা প্রদর্শন\n",
    "\n",
    "## 🏗️ প্রযুক্তিগত বাস্তবায়ন\n",
    "\n",
    "### মূল উপাদানসমূহ\n",
    "- **এজেন্ট ফ্রেমওয়ার্ক**: মাইক্রোসফটের এজেন্ট অর্কেস্ট্রেশন সিস্টেমের পাইথন বাস্তবায়ন\n",
    "- **GitHub Models API**: GitHub-এর ইনফারেন্স সার্ভিসের মাধ্যমে অত্যাধুনিক ভাষার মডেলগুলিতে অ্যাক্সেস\n",
    "- **OpenAI সামঞ্জস্যতা**: GitHub Models ব্যাকএন্ডের সাথে OpenAI ক্লায়েন্ট প্যাটার্ন ব্যবহার করে\n",
    "- **পরিবেশ ব্যবস্থাপনা**: python-dotenv দিয়ে নিরাপদ ক্রেডেনশিয়াল হ্যান্ডলিং\n",
    "\n",
    "### আর্কিটেকচার প্রবাহ\n",
    "```python\n",
    "User Request → ChatAgent → GitHub Models API ↔ get_random_destination()\n",
    "                     ↓\n",
    "              Travel Itinerary Response\n",
    "```\n",
    "\n",
    "### মূল ক্লাস এবং পদ্ধতি\n",
    "- `ChatAgent`: প্রধান কথোপকথন এজেন্ট অর্কেস্ট্রেটর\n",
    "- `OpenAIChatClient`: GitHub Models API ক্লায়েন্ট র‍্যাপার\n",
    "- `get_random_destination()`: গন্তব্য নির্বাচন করার জন্য কাস্টম টুল ফাংশন\n",
    "- পরিবেশ ভেরিয়েবল: নিরাপদ API কনফিগারেশন ব্যবস্থাপনা\n",
    "\n",
    "## ⚙️ প্রয়োজনীয়তা এবং সেটআপ\n",
    "\n",
    "**প্রয়োজনীয় নির্ভরতা:**\n",
    "```bash\n",
    "\n",
    "pip install agent-framework-core -U\n",
    "```\n",
    "\n",
    "**পরিবেশ কনফিগারেশন (.env ফাইল):**\n",
    "```env\n",
    "GITHUB_TOKEN=your_github_personal_access_token\n",
    "GITHUB_ENDPOINT=https://models.inference.ai.azure.com\n",
    "GITHUB_MODEL_ID=gpt-4o-mini\n",
    "```\n",
    "\n",
    "**GitHub Models অ্যাক্সেস:**\n",
    "1. GitHub Models অ্যাক্সেসের জন্য সাইন আপ করুন\n",
    "2. একটি ব্যক্তিগত অ্যাক্সেস টোকেন তৈরি করুন\n",
    "3. উপরে দেখানো অনুযায়ী পরিবেশ ভেরিয়েবল কনফিগার করুন\n",
    "\n",
    "## 🚀 ব্যবহার নির্দেশিকা\n",
    "\n",
    "নিচের সেলগুলো ক্রমান্বয়ে চালান:\n",
    "1. প্রয়োজনীয় লাইব্রেরি আমদানি করুন এবং পরিবেশ ভেরিয়েবল লোড করুন\n",
    "2. র্যান্ডম গন্তব্য জেনারেটর টুল সংজ্ঞায়িত করুন\n",
    "3. AI এজেন্ট তৈরি এবং কনফিগার করুন\n",
    "4. ভ্রমণ পরিকল্পনার অনুরোধ চালান এবং ফলাফল দেখুন\n",
    "\n",
    "চলুন একটি বুদ্ধিমান ভ্রমণ পরিকল্পনা সহকারী তৈরি করি! 🌟\n"
   ]
  },
  {
   "cell_type": "code",
   "execution_count": null,
   "id": "fda5fa0a",
   "metadata": {},
   "outputs": [],
   "source": [
    "! pip install agent-framework-core -U"
   ]
  },
  {
   "cell_type": "code",
   "execution_count": null,
   "id": "c0df8a52",
   "metadata": {},
   "outputs": [],
   "source": [
    "# 📦 Import Required Libraries\n",
    "# Standard library imports for system operations and random number generation\n",
    "import os\n",
    "from random import randint\n",
    "\n",
    "# Third-party library for loading environment variables from .env file\n",
    "from dotenv import load_dotenv"
   ]
  },
  {
   "cell_type": "code",
   "execution_count": null,
   "id": "151e0314",
   "metadata": {},
   "outputs": [],
   "source": [
    "# 🤖 Import Microsoft Agent Framework Components\n",
    "# ChatAgent: The main agent class for conversational AI\n",
    "# OpenAIChatClient: Client for connecting to OpenAI-compatible APIs (including GitHub Models)\n",
    "from agent_framework import ChatAgent\n",
    "from agent_framework.openai import OpenAIChatClient"
   ]
  },
  {
   "cell_type": "code",
   "execution_count": null,
   "id": "a6141584",
   "metadata": {},
   "outputs": [],
   "source": [
    "# 🔧 Load Environment Variables\n",
    "# This loads configuration from a .env file in the project root\n",
    "# Required variables: GITHUB_ENDPOINT, GITHUB_TOKEN, GITHUB_MODEL_ID\n",
    "load_dotenv()"
   ]
  },
  {
   "cell_type": "code",
   "execution_count": null,
   "id": "a6507f83",
   "metadata": {},
   "outputs": [],
   "source": [
    "# 🎲 Tool Function: Random Destination Generator\n",
    "# This function will be available to the agent as a tool\n",
    "# The agent can call this function to get random vacation destinations\n",
    "def get_random_destination() -> str:\n",
    "    \"\"\"Get a random vacation destination.\n",
    "    \n",
    "    Returns:\n",
    "        str: A randomly selected destination from our predefined list\n",
    "    \"\"\"\n",
    "    # List of popular vacation destinations around the world\n",
    "    destinations = [\n",
    "        \"Barcelona, Spain\",\n",
    "        \"Paris, France\", \n",
    "        \"Berlin, Germany\",\n",
    "        \"Tokyo, Japan\",\n",
    "        \"Sydney, Australia\",\n",
    "        \"New York, USA\",\n",
    "        \"Cairo, Egypt\",\n",
    "        \"Cape Town, South Africa\",\n",
    "        \"Rio de Janeiro, Brazil\",\n",
    "        \"Bali, Indonesia\"\n",
    "    ]\n",
    "    # Return a random destination from the list\n",
    "    return destinations[randint(0, len(destinations) - 1)]"
   ]
  },
  {
   "cell_type": "code",
   "execution_count": null,
   "id": "5d4f0568",
   "metadata": {},
   "outputs": [],
   "source": [
    "# 🔗 Create OpenAI Chat Client for GitHub Models\n",
    "# This client connects to GitHub Models API (OpenAI-compatible endpoint)\n",
    "# Environment variables required:\n",
    "# - GITHUB_ENDPOINT: API endpoint URL (usually https://models.inference.ai.azure.com)\n",
    "# - GITHUB_TOKEN: Your GitHub personal access token\n",
    "# - GITHUB_MODEL_ID: Model to use (e.g., gpt-4o-mini, gpt-4o)\n",
    "openai_chat_client = OpenAIChatClient(\n",
    "    base_url=os.environ.get(\"GITHUB_ENDPOINT\"),\n",
    "    api_key=os.environ.get(\"GITHUB_TOKEN\"), \n",
    "    model_id=os.environ.get(\"GITHUB_MODEL_ID\")\n",
    ")"
   ]
  },
  {
   "cell_type": "code",
   "execution_count": null,
   "id": "cf5a4800",
   "metadata": {},
   "outputs": [],
   "source": [
    "# 🤖 Create the Travel Planning Agent\n",
    "# This creates a conversational AI agent with specific capabilities:\n",
    "# - chat_client: The AI model client for generating responses\n",
    "# - instructions: System prompt that defines the agent's personality and role\n",
    "# - tools: List of functions the agent can call to perform actions\n",
    "agent = ChatAgent(\n",
    "    chat_client=openai_chat_client,\n",
    "    instructions=\"You are a helpful AI Agent that can help plan vacations for customers at random destinations.\",\n",
    "    tools=[get_random_destination]  # Our random destination tool function\n",
    ")"
   ]
  },
  {
   "cell_type": "code",
   "execution_count": null,
   "id": "772e9481",
   "metadata": {},
   "outputs": [],
   "source": [
    "# 🚀 Run the Agent\n",
    "# Send a message to the agent and get a response\n",
    "# The agent will use its tools (get_random_destination) if needed\n",
    "response = await agent.run(\"Plan me a day trip\")"
   ]
  },
  {
   "cell_type": "code",
   "execution_count": null,
   "id": "93c114ea",
   "metadata": {},
   "outputs": [],
   "source": [
    "# 📋 View Raw Response Object\n",
    "# This shows the complete response structure including metadata\n",
    "# Useful for debugging and understanding the response format\n",
    "response"
   ]
  },
  {
   "cell_type": "code",
   "execution_count": null,
   "id": "a731b547",
   "metadata": {},
   "outputs": [],
   "source": [
    "# 📖 Extract and Display the Travel Plan\n",
    "# Get the last message from the conversation (agent's response)s\n",
    "last_message = response.messages[-1]\n",
    "# Extract the text content from the message\n",
    "text_content = last_message.contents[0].text\n",
    "# Display the formatted travel plan\n",
    "print(\"🏖️ Travel plan:\")\n",
    "print(text_content)"
   ]
  },
  {
   "cell_type": "markdown",
   "metadata": {},
   "source": [
    "\n---\n\n**অস্বীকৃতি**:  \nএই নথিটি AI অনুবাদ পরিষেবা [Co-op Translator](https://github.com/Azure/co-op-translator) ব্যবহার করে অনুবাদ করা হয়েছে। আমরা যথাসাধ্য সঠিকতার জন্য চেষ্টা করি, তবে অনুগ্রহ করে মনে রাখবেন যে স্বয়ংক্রিয় অনুবাদে ত্রুটি বা অসঙ্গতি থাকতে পারে। মূল ভাষায় থাকা নথিটিকে প্রামাণিক উৎস হিসেবে বিবেচনা করা উচিত। গুরুত্বপূর্ণ তথ্যের জন্য, পেশাদার মানব অনুবাদ সুপারিশ করা হয়। এই অনুবাদ ব্যবহারের ফলে কোনো ভুল বোঝাবুঝি বা ভুল ব্যাখ্যা হলে আমরা দায়বদ্ধ থাকব না।\n"
   ]
  }
 ],
 "metadata": {
  "kernelspec": {
   "display_name": "agentframeworkenv",
   "language": "python",
   "name": "python3"
  },
  "language_info": {
   "codemirror_mode": {
    "name": "ipython",
    "version": 3
   },
   "file_extension": ".py",
   "mimetype": "text/x-python",
   "name": "python",
   "nbconvert_exporter": "python",
   "pygments_lexer": "ipython3",
   "version": "3.12.10"
  },
  "polyglot_notebook": {
   "kernelInfo": {
    "defaultKernelName": "csharp",
    "items": [
     {
      "aliases": [],
      "name": "csharp"
     }
    ]
   }
  },
  "coopTranslator": {
   "original_hash": "02d6b305971fe27448c9d46a4c91eaf3",
   "translation_date": "2025-10-02T14:27:41+00:00",
   "source_file": "01-intro-to-ai-agents/code_samples/01-python-agent-framework.ipynb",
   "language_code": "bn"
  }
 },
 "nbformat": 4,
 "nbformat_minor": 5
}