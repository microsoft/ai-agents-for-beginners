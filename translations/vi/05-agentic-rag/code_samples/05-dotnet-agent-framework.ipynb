{
 "cells": [
  {
   "cell_type": "markdown",
   "id": "44b5899e",
   "metadata": {},
   "source": [
    "# 🔍 RAG Doanh Nghiệp với Azure AI Foundry (.NET)\n",
    "\n",
    "## 📋 Mục Tiêu Học Tập\n",
    "\n",
    "Notebook này hướng dẫn cách xây dựng hệ thống Retrieval-Augmented Generation (RAG) cấp doanh nghiệp bằng Microsoft Agent Framework trong .NET với Azure AI Foundry. Bạn sẽ học cách tạo các agent sẵn sàng cho sản xuất, có khả năng tìm kiếm tài liệu và cung cấp câu trả lời chính xác, phù hợp với ngữ cảnh, đồng thời đảm bảo bảo mật và khả năng mở rộng cho doanh nghiệp.\n",
    "\n",
    "**Các Tính Năng RAG Doanh Nghiệp Bạn Sẽ Xây Dựng:**\n",
    "- 📚 **Trí Tuệ Tài Liệu**: Xử lý tài liệu nâng cao với các dịch vụ Azure AI\n",
    "- 🔍 **Tìm Kiếm Ngữ Nghĩa**: Tìm kiếm vector hiệu suất cao với các tính năng doanh nghiệp\n",
    "- 🛡️ **Tích Hợp Bảo Mật**: Kiểm soát truy cập dựa trên vai trò và các mẫu bảo vệ dữ liệu\n",
    "- 🏢 **Kiến Trúc Mở Rộng**: Hệ thống RAG sẵn sàng cho sản xuất với khả năng giám sát\n",
    "\n",
    "## 🎯 Kiến Trúc RAG Doanh Nghiệp\n",
    "\n",
    "### Các Thành Phần Cốt Lõi Của Doanh Nghiệp\n",
    "- **Azure AI Foundry**: Nền tảng AI doanh nghiệp được quản lý với bảo mật và tuân thủ\n",
    "- **Agent Duy Trì Trạng Thái**: Các agent có trạng thái với lịch sử hội thoại và quản lý ngữ cảnh\n",
    "- **Quản Lý Vector Store**: Lập chỉ mục và truy xuất tài liệu cấp doanh nghiệp\n",
    "- **Tích Hợp Danh Tính**: Xác thực Azure AD và kiểm soát truy cập dựa trên vai trò\n",
    "\n",
    "### Lợi Ích Của .NET Cho Doanh Nghiệp\n",
    "- **An Toàn Kiểu Dữ Liệu**: Xác thực tại thời điểm biên dịch cho các hoạt động RAG và cấu trúc dữ liệu\n",
    "- **Hiệu Suất Bất Đồng Bộ**: Xử lý tài liệu và tìm kiếm không chặn\n",
    "- **Quản Lý Bộ Nhớ**: Sử dụng tài nguyên hiệu quả cho các bộ sưu tập tài liệu lớn\n",
    "- **Mẫu Tích Hợp**: Tích hợp dịch vụ Azure gốc với dependency injection\n",
    "\n",
    "## 🏗️ Kiến Trúc Kỹ Thuật\n",
    "\n",
    "### Quy Trình RAG Doanh Nghiệp\n",
    "```csharp\n",
    "Document Upload → Security Validation → Vector Processing → Index Creation\n",
    "                      ↓                    ↓                  ↓\n",
    "User Query → Authentication → Semantic Search → Context Ranking → AI Response\n",
    "```\n",
    "\n",
    "### Các Thành Phần Cốt Lõi Của .NET\n",
    "- **Azure.AI.Agents.Persistent**: Quản lý agent doanh nghiệp với trạng thái duy trì\n",
    "- **Azure.Identity**: Xác thực tích hợp để truy cập dịch vụ Azure an toàn\n",
    "- **Microsoft.Agents.AI.AzureAI**: Triển khai framework agent tối ưu hóa cho Azure\n",
    "- **System.Linq.Async**: Các hoạt động LINQ bất đồng bộ hiệu suất cao\n",
    "\n",
    "## 🔧 Tính Năng & Lợi Ích Doanh Nghiệp\n",
    "\n",
    "### Bảo Mật & Tuân Thủ\n",
    "- **Tích Hợp Azure AD**: Quản lý danh tính và xác thực doanh nghiệp\n",
    "- **Kiểm Soát Truy Cập Dựa Trên Vai Trò**: Quyền truy cập chi tiết cho tài liệu và hoạt động\n",
    "- **Bảo Vệ Dữ Liệu**: Mã hóa khi lưu trữ và khi truyền cho các tài liệu nhạy cảm\n",
    "- **Ghi Nhật Ký Kiểm Toán**: Theo dõi hoạt động toàn diện để đáp ứng yêu cầu tuân thủ\n",
    "\n",
    "### Hiệu Suất & Khả Năng Mở Rộng\n",
    "- **Quản Lý Kết Nối**: Quản lý kết nối dịch vụ Azure hiệu quả\n",
    "- **Xử Lý Bất Đồng Bộ**: Các hoạt động không chặn cho các tình huống thông lượng cao\n",
    "- **Chiến Lược Bộ Nhớ Đệm**: Bộ nhớ đệm thông minh cho các tài liệu được truy cập thường xuyên\n",
    "- **Cân Bằng Tải**: Xử lý phân tán cho các triển khai quy mô lớn\n",
    "\n",
    "### Quản Lý & Giám Sát\n",
    "- **Kiểm Tra Sức Khỏe**: Giám sát tích hợp cho các thành phần hệ thống RAG\n",
    "- **Chỉ Số Hiệu Suất**: Phân tích chi tiết về chất lượng tìm kiếm và thời gian phản hồi\n",
    "- **Xử Lý Lỗi**: Quản lý ngoại lệ toàn diện với các chính sách thử lại\n",
    "- **Quản Lý Cấu Hình**: Cài đặt cụ thể theo môi trường với xác thực\n",
    "\n",
    "## ⚙️ Yêu Cầu & Cài Đặt\n",
    "\n",
    "**Môi Trường Phát Triển:**\n",
    "- .NET 9.0 SDK hoặc cao hơn\n",
    "- Visual Studio 2022 hoặc VS Code với extension C#\n",
    "- Tài khoản Azure với quyền truy cập AI Foundry\n",
    "\n",
    "**Các Gói NuGet Cần Thiết:**\n",
    "```xml\n",
    "<PackageReference Include=\"Microsoft.Extensions.AI\" Version=\"9.9.0\" />\n",
    "<PackageReference Include=\"Azure.AI.Agents.Persistent\" Version=\"1.2.0-beta.5\" />\n",
    "<PackageReference Include=\"Azure.Identity\" Version=\"1.15.0\" />\n",
    "<PackageReference Include=\"System.Linq.Async\" Version=\"6.0.3\" />\n",
    "<PackageReference Include=\"DotNetEnv\" Version=\"3.1.1\" />\n",
    "```\n",
    "\n",
    "**Cài Đặt Xác Thực Azure:**\n",
    "```bash\n",
    "# Install Azure CLI and authenticate\n",
    "az login\n",
    "az account set --subscription \"your-subscription-id\"\n",
    "```\n",
    "\n",
    "**Cấu Hình Môi Trường (.env file):**\n",
    "```env\n",
    "# Azure AI Foundry configuration (automatically handled via Azure CLI)\n",
    "# Ensure you're authenticated to the correct Azure subscription\n",
    "```\n",
    "\n",
    "## 📊 Mẫu RAG Doanh Nghiệp\n",
    "\n",
    "### Mẫu Quản Lý Tài Liệu\n",
    "- **Tải Lên Hàng Loạt**: Xử lý hiệu quả các bộ sưu tập tài liệu lớn\n",
    "- **Cập Nhật Từng Phần**: Thêm và sửa đổi tài liệu theo thời gian thực\n",
    "- **Kiểm Soát Phiên Bản**: Quản lý phiên bản và theo dõi thay đổi tài liệu\n",
    "- **Quản Lý Metadata**: Thuộc tính tài liệu phong phú và phân loại\n",
    "\n",
    "### Mẫu Tìm Kiếm & Truy Xuất\n",
    "- **Tìm Kiếm Kết Hợp**: Kết hợp tìm kiếm ngữ nghĩa và từ khóa để đạt kết quả tối ưu\n",
    "- **Tìm Kiếm Theo Khía Cạnh**: Lọc và phân loại đa chiều\n",
    "- **Điều Chỉnh Độ Liên Quan**: Thuật toán tính điểm tùy chỉnh cho nhu cầu cụ thể của lĩnh vực\n",
    "- **Xếp Hạng Kết Quả**: Xếp hạng nâng cao với tích hợp logic kinh doanh\n",
    "\n",
    "### Mẫu Bảo Mật\n",
    "- **Bảo Mật Cấp Tài Liệu**: Kiểm soát truy cập chi tiết cho từng tài liệu\n",
    "- **Phân Loại Dữ Liệu**: Gắn nhãn nhạy cảm tự động và bảo vệ\n",
    "- **Dấu Vết Kiểm Toán**: Ghi nhật ký toàn diện cho tất cả các hoạt động RAG\n",
    "- **Bảo Vệ Quyền Riêng Tư**: Khả năng phát hiện và che giấu thông tin cá nhân (PII)\n",
    "\n",
    "## 🔒 Tính Năng Bảo Mật Doanh Nghiệp\n",
    "\n",
    "### Xác Thực & Ủy Quyền\n",
    "```csharp\n",
    "// Azure AD integrated authentication\n",
    "var credential = new AzureCliCredential();\n",
    "var agentsClient = new PersistentAgentsClient(endpoint, credential);\n",
    "\n",
    "// Role-based access validation\n",
    "if (!await ValidateUserPermissions(user, documentId))\n",
    "{\n",
    "    throw new UnauthorizedAccessException(\"Insufficient permissions\");\n",
    "}\n",
    "```\n",
    "\n",
    "### Bảo Vệ Dữ Liệu\n",
    "- **Mã Hóa**: Mã hóa đầu cuối cho tài liệu và chỉ mục tìm kiếm\n",
    "- **Kiểm Soát Truy Cập**: Tích hợp với Azure AD cho quyền người dùng và nhóm\n",
    "- **Cư Trú Dữ Liệu**: Kiểm soát vị trí địa lý của dữ liệu để tuân thủ\n",
    "- **Sao Lưu & Khôi Phục**: Khả năng sao lưu và khôi phục tự động\n",
    "\n",
    "## 📈 Tối Ưu Hiệu Suất\n",
    "\n",
    "### Mẫu Xử Lý Bất Đồng Bộ\n",
    "```csharp\n",
    "// Efficient async document processing\n",
    "await foreach (var document in documentStream.AsAsyncEnumerable())\n",
    "{\n",
    "    await ProcessDocumentAsync(document, cancellationToken);\n",
    "}\n",
    "```\n",
    "\n",
    "### Quản Lý Bộ Nhớ\n",
    "- **Xử Lý Dòng**: Xử lý tài liệu lớn mà không gặp vấn đề về bộ nhớ\n",
    "- **Tái Sử Dụng Tài Nguyên**: Sử dụng lại hiệu quả các tài nguyên đắt đỏ\n",
    "- **Thu Gom Rác**: Mẫu phân bổ bộ nhớ tối ưu\n",
    "- **Quản Lý Kết Nối**: Vòng đời kết nối dịch vụ Azure hợp lý\n",
    "\n",
    "### Chiến Lược Bộ Nhớ Đệm\n",
    "- **Bộ Nhớ Đệm Truy Vấn**: Bộ nhớ đệm các tìm kiếm được thực hiện thường xuyên\n",
    "- **Bộ Nhớ Đệm Tài Liệu**: Bộ nhớ đệm trong bộ nhớ cho các tài liệu nóng\n",
    "- **Bộ Nhớ Đệm Chỉ Mục**: Bộ nhớ đệm chỉ mục vector tối ưu\n",
    "- **Bộ Nhớ Đệm Kết Quả**: Bộ nhớ đệm thông minh cho các câu trả lời được tạo ra\n",
    "\n",
    "## 📊 Các Trường Hợp Sử Dụng Doanh Nghiệp\n",
    "\n",
    "### Quản Lý Kiến Thức\n",
    "- **Wiki Công Ty**: Tìm kiếm thông minh trong các cơ sở kiến thức của công ty\n",
    "- **Chính Sách & Quy Trình**: Hướng dẫn tuân thủ và quy trình tự động\n",
    "- **Tài Liệu Đào Tạo**: Hỗ trợ học tập và phát triển thông minh\n",
    "- **Cơ Sở Dữ Liệu Nghiên Cứu**: Hệ thống phân tích bài báo học thuật và nghiên cứu\n",
    "\n",
    "### Hỗ Trợ Khách Hàng\n",
    "- **Cơ Sở Kiến Thức Hỗ Trợ**: Phản hồi dịch vụ khách hàng tự động\n",
    "- **Tài Liệu Sản Phẩm**: Truy xuất thông tin sản phẩm thông minh\n",
    "- **Hướng Dẫn Khắc Phục Sự Cố**: Hỗ trợ giải quyết vấn đề theo ngữ cảnh\n",
    "- **Hệ Thống FAQ**: Tạo FAQ động từ các bộ sưu tập tài liệu\n",
    "\n",
    "### Tuân Thủ Quy Định\n",
    "- **Phân Tích Tài Liệu Pháp Lý**: Trí tuệ hợp đồng và tài liệu pháp lý\n",
    "- **Giám Sát Tuân Thủ**: Kiểm tra tuân thủ quy định tự động\n",
    "- **Đánh Giá Rủi Ro**: Phân tích và báo cáo rủi ro dựa trên tài liệu\n",
    "- **Hỗ Trợ Kiểm Toán**: Khám phá tài liệu thông minh cho kiểm toán\n",
    "\n",
    "## 🚀 Triển Khai Sản Xuất\n",
    "\n",
    "### Giám Sát & Khả Năng Quan Sát\n",
    "- **Application Insights**: Giám sát chi tiết và hiệu suất\n",
    "- **Chỉ Số Tùy Chỉnh**: Theo dõi KPI cụ thể cho doanh nghiệp và cảnh báo\n",
    "- **Theo Dõi Phân Tán**: Theo dõi yêu cầu từ đầu đến cuối qua các dịch vụ\n",
    "- **Bảng Điều Khiển Sức Khỏe**: Hình dung sức khỏe và hiệu suất hệ thống theo thời gian thực\n",
    "\n",
    "### Khả Năng Mở Rộng & Độ Tin Cậy\n",
    "- **Tự Động Mở Rộng**: Mở rộng tự động dựa trên tải và chỉ số hiệu suất\n",
    "- **Khả Năng Sẵn Sàng Cao**: Triển khai đa vùng với khả năng chuyển đổi dự phòng\n",
    "- **Kiểm Tra Tải**: Xác thực hiệu suất dưới điều kiện tải doanh nghiệp\n",
    "- **Khôi Phục Thảm Họa**: Quy trình sao lưu và khôi phục tự động\n",
    "\n",
    "Sẵn sàng xây dựng hệ thống RAG cấp doanh nghiệp có thể xử lý tài liệu nhạy cảm ở quy mô lớn? Hãy cùng kiến tạo các hệ thống kiến thức thông minh cho doanh nghiệp! 🏢📖✨\n"
   ]
  },
  {
   "cell_type": "code",
   "execution_count": 1,
   "metadata": {
    "language_info": {
     "name": "polyglot-notebook"
    },
    "polyglot_notebook": {
     "kernelName": "csharp"
    }
   },
   "outputs": [
    {
     "data": {
      "text/html": [
       "<div><div></div><div></div><div><strong>Installed Packages</strong><ul><li><span>Microsoft.Extensions.AI, 9.9.1</span></li></ul></div></div>"
      ]
     },
     "metadata": {},
     "output_type": "display_data"
    }
   ],
   "source": [
    "#r \"nuget: Microsoft.Extensions.AI, 9.9.1\""
   ]
  },
  {
   "cell_type": "code",
   "execution_count": 2,
   "id": "4ec1f0d1",
   "metadata": {
    "language_info": {
     "name": "polyglot-notebook"
    },
    "polyglot_notebook": {
     "kernelName": "csharp"
    }
   },
   "outputs": [
    {
     "data": {
      "text/html": [
       "<div><div></div><div></div><div><strong>Installed Packages</strong><ul><li><span>Azure.AI.Agents.Persistent, 1.2.0-beta.5</span></li><li><span>Azure.Identity, 1.15.0</span></li><li><span>System.Linq.Async, 6.0.3</span></li></ul></div></div>"
      ]
     },
     "metadata": {},
     "output_type": "display_data"
    }
   ],
   "source": [
    "#r \"nuget: Azure.AI.Agents.Persistent, 1.2.0-beta.5\"\n",
    "#r \"nuget: Azure.Identity, 1.15.0\"\n",
    "#r \"nuget: System.Linq.Async, 6.0.3\""
   ]
  },
  {
   "cell_type": "code",
   "execution_count": 3,
   "id": "2363ae07",
   "metadata": {
    "language_info": {
     "name": "polyglot-notebook"
    },
    "polyglot_notebook": {
     "kernelName": "csharp"
    }
   },
   "outputs": [],
   "source": []
  },
  {
   "cell_type": "code",
   "execution_count": null,
   "id": "d10cec9d",
   "metadata": {
    "language_info": {
     "name": "polyglot-notebook"
    },
    "polyglot_notebook": {
     "kernelName": "csharp"
    }
   },
   "outputs": [
    {
     "data": {
      "text/html": [
       "<div><div></div><div></div><div><strong>Installed Packages</strong><ul><li><span>Microsoft.Agents.AI.AzureAI, 1.0.0-preview.251001.2</span></li></ul></div></div>"
      ]
     },
     "metadata": {},
     "output_type": "display_data"
    }
   ],
   "source": [
    "#r \"nuget: Microsoft.Agents.AI.AzureAI, 1.0.0-preview.251001.3\""
   ]
  },
  {
   "cell_type": "code",
   "execution_count": null,
   "id": "78199d1c",
   "metadata": {
    "language_info": {
     "name": "polyglot-notebook"
    },
    "polyglot_notebook": {
     "kernelName": "csharp"
    }
   },
   "outputs": [
    {
     "data": {
      "text/html": [
       "<div><div></div><div></div><div><strong>Installed Packages</strong><ul><li><span>microsoft.agents.ai, 1.0.0-preview.251001.2</span></li></ul></div></div>"
      ]
     },
     "metadata": {},
     "output_type": "display_data"
    }
   ],
   "source": [
    "#r \"nuget: Microsoft.Agents.AI, 1.0.0-preview.251001.3\""
   ]
  },
  {
   "cell_type": "code",
   "execution_count": 6,
   "id": "7de4684a",
   "metadata": {
    "language_info": {
     "name": "polyglot-notebook"
    },
    "polyglot_notebook": {
     "kernelName": "csharp"
    }
   },
   "outputs": [
    {
     "data": {
      "text/html": [
       "<div><div></div><div></div><div><strong>Installed Packages</strong><ul><li><span>DotNetEnv, 3.1.1</span></li></ul></div></div>"
      ]
     },
     "metadata": {},
     "output_type": "display_data"
    }
   ],
   "source": [
    "#r \"nuget: DotNetEnv, 3.1.1\""
   ]
  },
  {
   "cell_type": "code",
   "execution_count": 7,
   "id": "251efd31",
   "metadata": {
    "language_info": {
     "name": "polyglot-notebook"
    },
    "polyglot_notebook": {
     "kernelName": "csharp"
    }
   },
   "outputs": [],
   "source": [
    "using System;\n",
    "using System.Linq;\n",
    "using Azure.AI.Agents.Persistent;\n",
    "using Azure.Identity;\n",
    "using Microsoft.Agents.AI;"
   ]
  },
  {
   "cell_type": "code",
   "execution_count": 8,
   "id": "a2e342f1",
   "metadata": {
    "language_info": {
     "name": "polyglot-notebook"
    },
    "polyglot_notebook": {
     "kernelName": "csharp"
    }
   },
   "outputs": [],
   "source": [
    " using DotNetEnv;"
   ]
  },
  {
   "cell_type": "code",
   "execution_count": 9,
   "id": "a7a01653",
   "metadata": {
    "language_info": {
     "name": "polyglot-notebook"
    },
    "polyglot_notebook": {
     "kernelName": "csharp"
    }
   },
   "outputs": [],
   "source": [
    "Env.Load(\"../../../.env\");"
   ]
  },
  {
   "cell_type": "code",
   "execution_count": 10,
   "id": "a42735d5",
   "metadata": {
    "language_info": {
     "name": "polyglot-notebook"
    },
    "polyglot_notebook": {
     "kernelName": "csharp"
    }
   },
   "outputs": [],
   "source": [
    "var azure_foundry_endpoint = Environment.GetEnvironmentVariable(\"AZURE_AI_PROJECT_ENDPOINT\") ?? throw new InvalidOperationException(\"AZURE_AI_PROJECT_ENDPOINT is not set.\");\n",
    "var azure_foundry_model_id = Environment.GetEnvironmentVariable(\"AZURE_AI_MODEL_DEPLOYMENT_NAME\") ?? \"gpt-4.1-mini\";"
   ]
  },
  {
   "cell_type": "code",
   "execution_count": 11,
   "id": "e29bdb58",
   "metadata": {
    "language_info": {
     "name": "polyglot-notebook"
    },
    "polyglot_notebook": {
     "kernelName": "csharp"
    }
   },
   "outputs": [],
   "source": [
    "string pdfPath = \"./document.md\";"
   ]
  },
  {
   "cell_type": "code",
   "execution_count": 12,
   "id": "7351e12d",
   "metadata": {
    "language_info": {
     "name": "polyglot-notebook"
    },
    "polyglot_notebook": {
     "kernelName": "csharp"
    }
   },
   "outputs": [],
   "source": [
    "using System.IO;\n",
    "\n",
    "async Task<Stream> OpenImageStreamAsync(string path)\n",
    "{\n",
    "\treturn await Task.Run(() => File.OpenRead(path));\n",
    "}\n",
    "\n",
    "var pdfStream = await OpenImageStreamAsync(pdfPath);"
   ]
  },
  {
   "cell_type": "code",
   "execution_count": 13,
   "id": "0b6bf484",
   "metadata": {
    "language_info": {
     "name": "polyglot-notebook"
    },
    "polyglot_notebook": {
     "kernelName": "csharp"
    }
   },
   "outputs": [],
   "source": [
    "var persistentAgentsClient = new PersistentAgentsClient(azure_foundry_endpoint, new AzureCliCredential());"
   ]
  },
  {
   "cell_type": "code",
   "execution_count": 14,
   "id": "81e0dddc",
   "metadata": {
    "language_info": {
     "name": "polyglot-notebook"
    },
    "polyglot_notebook": {
     "kernelName": "csharp"
    }
   },
   "outputs": [],
   "source": [
    "PersistentAgentFileInfo fileInfo = await persistentAgentsClient.Files.UploadFileAsync(pdfStream, PersistentAgentFilePurpose.Agents, \"demo.md\");"
   ]
  },
  {
   "cell_type": "code",
   "execution_count": 15,
   "id": "f0c75d80",
   "metadata": {
    "language_info": {
     "name": "polyglot-notebook"
    },
    "polyglot_notebook": {
     "kernelName": "csharp"
    }
   },
   "outputs": [],
   "source": [
    "PersistentAgentsVectorStore fileStore =\n",
    "            await persistentAgentsClient.VectorStores.CreateVectorStoreAsync(\n",
    "                [fileInfo.Id],\n",
    "                metadata: new Dictionary<string, string>() { { \"agentkey\", bool.TrueString } });"
   ]
  },
  {
   "cell_type": "code",
   "execution_count": 16,
   "id": "c77986c5",
   "metadata": {
    "language_info": {
     "name": "polyglot-notebook"
    },
    "polyglot_notebook": {
     "kernelName": "csharp"
    }
   },
   "outputs": [],
   "source": [
    "PersistentAgent agentModel = await persistentAgentsClient.Administration.CreateAgentAsync(\n",
    "            azure_foundry_model_id,\n",
    "            name: \"DotNetRAGAgent\",\n",
    "            tools: [new FileSearchToolDefinition()],\n",
    "            instructions: \"\"\"\n",
    "                You are an AI assistant designed to answer user questions using only the information retrieved from the provided document(s).\n",
    "\n",
    "                - If a user's question cannot be answered using the retrieved context, **you must clearly respond**: \n",
    "                \"I'm sorry, but the uploaded document does not contain the necessary information to answer that question.\"\n",
    "                - Do not answer from general knowledge or reasoning. Do not make assumptions or generate hypothetical explanations.\n",
    "                - Do not provide definitions, tutorials, or commentary that is not explicitly grounded in the content of the uploaded file(s).\n",
    "                - If a user asks a question like \"What is a Neural Network?\", and this is not discussed in the uploaded document, respond as instructed above.\n",
    "                - For questions that do have relevant content in the document (e.g., Contoso's travel insurance coverage), respond accurately, and cite the document explicitly.\n",
    "\n",
    "                You must behave as if you have no external knowledge beyond what is retrieved from the uploaded document.\n",
    "                \"\"\",\n",
    "            toolResources: new()\n",
    "            {\n",
    "                FileSearch = new()\n",
    "                {\n",
    "                    VectorStoreIds = { fileStore.Id },\n",
    "                }\n",
    "            },\n",
    "            metadata: new Dictionary<string, string>() { { \"agentkey\", bool.TrueString } });"
   ]
  },
  {
   "cell_type": "code",
   "execution_count": 17,
   "id": "282326cf",
   "metadata": {
    "language_info": {
     "name": "polyglot-notebook"
    },
    "polyglot_notebook": {
     "kernelName": "csharp"
    }
   },
   "outputs": [],
   "source": [
    "AIAgent agent = await persistentAgentsClient.GetAIAgentAsync(agentModel.Id);"
   ]
  },
  {
   "cell_type": "code",
   "execution_count": 18,
   "id": "2067d313",
   "metadata": {
    "language_info": {
     "name": "polyglot-notebook"
    },
    "polyglot_notebook": {
     "kernelName": "csharp"
    }
   },
   "outputs": [],
   "source": [
    "AgentThread thread = agent.GetNewThread();"
   ]
  },
  {
   "cell_type": "code",
   "execution_count": 19,
   "id": "454c4230",
   "metadata": {
    "language_info": {
     "name": "polyglot-notebook"
    },
    "polyglot_notebook": {
     "kernelName": "csharp"
    }
   },
   "outputs": [
    {
     "name": "stdout",
     "output_type": "stream",
     "text": [
      "Contoso's travel insurance coverage includes protection for medical emergencies, trip cancellations, and lost baggage. This ensures that travelers are supported in case of health-related issues during their trip, unforeseen cancellations, and the loss of their belongings while traveling【4:0†demo.md】.\r\n"
     ]
    }
   ],
   "source": [
    "Console.WriteLine(await agent.RunAsync(\"Can you explain Contoso's travel insurance coverage?\", thread));"
   ]
  },
  {
   "cell_type": "markdown",
   "metadata": {},
   "source": [
    "\n---\n\n**Tuyên bố miễn trừ trách nhiệm**:  \nTài liệu này đã được dịch bằng dịch vụ dịch thuật AI [Co-op Translator](https://github.com/Azure/co-op-translator). Mặc dù chúng tôi cố gắng đảm bảo độ chính xác, xin lưu ý rằng các bản dịch tự động có thể chứa lỗi hoặc không chính xác. Tài liệu gốc bằng ngôn ngữ bản địa nên được coi là nguồn thông tin chính thức. Đối với các thông tin quan trọng, khuyến nghị sử dụng dịch vụ dịch thuật chuyên nghiệp bởi con người. Chúng tôi không chịu trách nhiệm về bất kỳ sự hiểu lầm hoặc diễn giải sai nào phát sinh từ việc sử dụng bản dịch này.\n"
   ]
  }
 ],
 "metadata": {
  "kernelspec": {
   "display_name": ".NET (C#)",
   "language": "C#",
   "name": ".net-csharp"
  },
  "language_info": {
   "name": "polyglot-notebook"
  },
  "polyglot_notebook": {
   "kernelInfo": {
    "defaultKernelName": "csharp",
    "items": [
     {
      "aliases": [],
      "name": "csharp"
     }
    ]
   }
  },
  "coopTranslator": {
   "original_hash": "e4584fa31638009dc6fb665275de8fc2",
   "translation_date": "2025-10-02T17:31:21+00:00",
   "source_file": "05-agentic-rag/code_samples/05-dotnet-agent-framework.ipynb",
   "language_code": "vi"
  }
 },
 "nbformat": 4,
 "nbformat_minor": 5
}