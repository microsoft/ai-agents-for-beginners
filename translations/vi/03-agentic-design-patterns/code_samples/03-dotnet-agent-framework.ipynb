{
 "cells": [
  {
   "cell_type": "markdown",
   "id": "d6058fa4",
   "metadata": {},
   "source": [
    "# 🎨 Mẫu Thiết Kế Tác Nhân với GitHub Models (.NET)\n",
    "\n",
    "## 📋 Mục Tiêu Học Tập\n",
    "\n",
    "Notebook này trình bày các mẫu thiết kế cấp doanh nghiệp để xây dựng các tác nhân thông minh sử dụng Microsoft Agent Framework trong .NET với tích hợp GitHub Models. Bạn sẽ học các mẫu chuyên nghiệp và cách tiếp cận kiến trúc giúp các tác nhân sẵn sàng cho sản xuất, dễ bảo trì và có khả năng mở rộng.\n",
    "\n",
    "**Mẫu Thiết Kế Doanh Nghiệp:**\n",
    "- 🏭 **Factory Pattern**: Tạo tác nhân chuẩn hóa với dependency injection\n",
    "- 🔧 **Builder Pattern**: Cấu hình và thiết lập tác nhân theo cách fluent\n",
    "- 🧵 **Thread-Safe Patterns**: Quản lý hội thoại đồng thời\n",
    "- 📋 **Repository Pattern**: Quản lý công cụ và khả năng một cách có tổ chức\n",
    "\n",
    "## 🎯 Lợi Ích Kiến Trúc Đặc Thù .NET\n",
    "\n",
    "### Tính Năng Doanh Nghiệp\n",
    "- **Kiểu Dữ Liệu Mạnh**: Xác thực tại thời điểm biên dịch và hỗ trợ IntelliSense\n",
    "- **Dependency Injection**: Tích hợp container DI sẵn có\n",
    "- **Quản Lý Cấu Hình**: Mẫu IConfiguration và Options\n",
    "- **Async/Await**: Hỗ trợ lập trình bất đồng bộ hàng đầu\n",
    "\n",
    "### Mẫu Sẵn Sàng Cho Sản Xuất\n",
    "- **Tích Hợp Logging**: ILogger và hỗ trợ logging có cấu trúc\n",
    "- **Kiểm Tra Sức Khỏe**: Giám sát và chẩn đoán tích hợp\n",
    "- **Xác Thực Cấu Hình**: Kiểu dữ liệu mạnh với chú thích dữ liệu\n",
    "- **Xử Lý Lỗi**: Quản lý ngoại lệ có cấu trúc\n",
    "\n",
    "## 🔧 Kiến Trúc Kỹ Thuật\n",
    "\n",
    "### Thành Phần Cốt Lõi .NET\n",
    "- **Microsoft.Extensions.AI**: Trừu tượng hóa dịch vụ AI thống nhất\n",
    "- **Microsoft.Agents.AI**: Framework điều phối tác nhân cấp doanh nghiệp\n",
    "- **Tích Hợp GitHub Models**: Mẫu API client hiệu suất cao\n",
    "- **Hệ Thống Cấu Hình**: Tích hợp appsettings.json và môi trường\n",
    "\n",
    "### Triển Khai Mẫu Thiết Kế\n",
    "```csharp\n",
    "IServiceCollection → Agent Builder → Configuration → Tool Registry → AI Agent\n",
    "```\n",
    "\n",
    "## 🏗️ Các Mẫu Doanh Nghiệp Được Minh Họa\n",
    "\n",
    "### 1. **Mẫu Tạo**\n",
    "- **Agent Factory**: Tạo tác nhân tập trung với cấu hình nhất quán\n",
    "- **Builder Pattern**: API fluent cho cấu hình tác nhân phức tạp\n",
    "- **Singleton Pattern**: Quản lý tài nguyên và cấu hình chia sẻ\n",
    "- **Dependency Injection**: Giảm sự phụ thuộc và tăng khả năng kiểm thử\n",
    "\n",
    "### 2. **Mẫu Hành Vi**\n",
    "- **Strategy Pattern**: Chiến lược thực thi công cụ có thể thay đổi\n",
    "- **Command Pattern**: Hoạt động tác nhân được đóng gói với undo/redo\n",
    "- **Observer Pattern**: Quản lý vòng đời tác nhân theo sự kiện\n",
    "- **Template Method**: Quy trình thực thi tác nhân chuẩn hóa\n",
    "\n",
    "### 3. **Mẫu Cấu Trúc**\n",
    "- **Adapter Pattern**: Lớp tích hợp API GitHub Models\n",
    "- **Decorator Pattern**: Nâng cao khả năng của tác nhân\n",
    "- **Facade Pattern**: Giao diện tương tác tác nhân đơn giản hóa\n",
    "- **Proxy Pattern**: Tải chậm và caching để cải thiện hiệu suất\n",
    "\n",
    "## ⚙️ Yêu Cầu & Thiết Lập\n",
    "\n",
    "**Môi Trường Phát Triển:**\n",
    "- .NET 9.0 SDK hoặc cao hơn\n",
    "- Visual Studio 2022 hoặc VS Code với extension C#\n",
    "- Quyền truy cập API GitHub Models\n",
    "\n",
    "**Phụ Thuộc NuGet:**\n",
    "```xml\n",
    "<PackageReference Include=\"Microsoft.Extensions.AI\" Version=\"9.9.0\" />\n",
    "<PackageReference Include=\"Microsoft.Extensions.AI.OpenAI\" Version=\"9.9.0-preview.1.25458.4\" />\n",
    "<PackageReference Include=\"DotNetEnv\" Version=\"3.1.1\" />\n",
    "```\n",
    "\n",
    "**Cấu Hình (.env file):**\n",
    "```env\n",
    "GITHUB_TOKEN=your_github_personal_access_token\n",
    "GITHUB_ENDPOINT=https://models.inference.ai.azure.com\n",
    "GITHUB_MODEL_ID=gpt-4o-mini\n",
    "```\n",
    "\n",
    "## 📚 Nguyên Tắc Thiết Kế .NET\n",
    "\n",
    "### Nguyên Tắc SOLID\n",
    "- **Single Responsibility**: Mỗi thành phần có một mục đích rõ ràng\n",
    "- **Open/Closed**: Có thể mở rộng mà không cần sửa đổi\n",
    "- **Liskov Substitution**: Triển khai công cụ dựa trên giao diện\n",
    "- **Interface Segregation**: Giao diện tập trung, mạch lạc\n",
    "- **Dependency Inversion**: Phụ thuộc vào trừu tượng, không phải cụ thể\n",
    "\n",
    "### Kiến Trúc Sạch\n",
    "- **Domain Layer**: Trừu tượng hóa tác nhân và công cụ cốt lõi\n",
    "- **Application Layer**: Điều phối tác nhân và quy trình làm việc\n",
    "- **Infrastructure Layer**: Tích hợp GitHub Models và dịch vụ bên ngoài\n",
    "- **Presentation Layer**: Tương tác người dùng và định dạng phản hồi\n",
    "\n",
    "## 🔒 Cân Nhắc Doanh Nghiệp\n",
    "\n",
    "### Bảo Mật\n",
    "- **Quản Lý Thông Tin Đăng Nhập**: Xử lý khóa API an toàn với IConfiguration\n",
    "- **Xác Thực Đầu Vào**: Kiểu dữ liệu mạnh và xác thực chú thích dữ liệu\n",
    "- **Lọc Kết Quả**: Xử lý và lọc phản hồi an toàn\n",
    "- **Logging Kiểm Toán**: Theo dõi hoạt động toàn diện\n",
    "\n",
    "### Hiệu Suất\n",
    "- **Mẫu Async**: Hoạt động I/O không chặn\n",
    "- **Connection Pooling**: Quản lý client HTTP hiệu quả\n",
    "- **Caching**: Caching phản hồi để cải thiện hiệu suất\n",
    "- **Quản Lý Tài Nguyên**: Mẫu xử lý và dọn dẹp tài nguyên đúng cách\n",
    "\n",
    "### Khả Năng Mở Rộng\n",
    "- **Thread Safety**: Hỗ trợ thực thi tác nhân đồng thời\n",
    "- **Resource Pooling**: Sử dụng tài nguyên hiệu quả\n",
    "- **Quản Lý Tải**: Giới hạn tốc độ và xử lý áp lực ngược\n",
    "- **Giám Sát**: Các chỉ số hiệu suất và kiểm tra sức khỏe\n",
    "\n",
    "## 🚀 Triển Khai Sản Xuất\n",
    "\n",
    "- **Quản Lý Cấu Hình**: Cài đặt cụ thể theo môi trường\n",
    "- **Chiến Lược Logging**: Logging có cấu trúc với ID tương quan\n",
    "- **Xử Lý Lỗi**: Xử lý ngoại lệ toàn cục với khả năng phục hồi phù hợp\n",
    "- **Giám Sát**: Application insights và bộ đếm hiệu suất\n",
    "- **Kiểm Thử**: Mẫu kiểm thử đơn vị, kiểm thử tích hợp và kiểm thử tải\n",
    "\n",
    "Sẵn sàng xây dựng các tác nhân thông minh cấp doanh nghiệp với .NET? Hãy cùng kiến trúc một thứ gì đó vững chắc! 🏢✨\n"
   ]
  },
  {
   "cell_type": "code",
   "execution_count": 1,
   "id": "2770ac5c",
   "metadata": {
    "language_info": {
     "name": "polyglot-notebook"
    },
    "polyglot_notebook": {
     "kernelName": "csharp"
    }
   },
   "outputs": [
    {
     "data": {
      "text/html": [
       "<div><div></div><div></div><div><strong>Installed Packages</strong><ul><li><span>Microsoft.Extensions.AI, 9.9.1</span></li></ul></div></div>"
      ]
     },
     "metadata": {},
     "output_type": "display_data"
    }
   ],
   "source": [
    "#r \"nuget: Microsoft.Extensions.AI, 9.9.1\""
   ]
  },
  {
   "cell_type": "code",
   "execution_count": null,
   "id": "984ff6cd",
   "metadata": {
    "language_info": {
     "name": "polyglot-notebook"
    },
    "polyglot_notebook": {
     "kernelName": "csharp"
    }
   },
   "outputs": [
    {
     "data": {
      "text/html": [
       "<div><div></div><div></div><div><strong>Installed Packages</strong><ul><li><span>Microsoft.Agents.AI.OpenAI, 1.0.0-preview.251001.2</span></li></ul></div></div>"
      ]
     },
     "metadata": {},
     "output_type": "display_data"
    }
   ],
   "source": [
    "#r \"nuget: Microsoft.Agents.AI.OpenAI, 1.0.0-preview.251001.3\""
   ]
  },
  {
   "cell_type": "code",
   "execution_count": null,
   "id": "0ab71360",
   "metadata": {
    "language_info": {
     "name": "polyglot-notebook"
    },
    "polyglot_notebook": {
     "kernelName": "csharp"
    }
   },
   "outputs": [
    {
     "data": {
      "text/html": [
       "<div><div></div><div></div><div><strong>Installed Packages</strong><ul><li><span>microsoft.agents.ai, 1.0.0-preview.251001.2</span></li></ul></div></div>"
      ]
     },
     "metadata": {},
     "output_type": "display_data"
    }
   ],
   "source": [
    "\n",
    "\n",
    "#r \"nuget: Microsoft.Agents.AI, 1.0.0-preview.251001.3\""
   ]
  },
  {
   "cell_type": "code",
   "execution_count": 4,
   "id": "4ab7b15d",
   "metadata": {
    "language_info": {
     "name": "polyglot-notebook"
    },
    "polyglot_notebook": {
     "kernelName": "csharp"
    }
   },
   "outputs": [],
   "source": [
    "// #r \"nuget: Microsoft.Extensions.AI.OpenAI, 9.9.0-preview.1.25458.4\""
   ]
  },
  {
   "cell_type": "code",
   "execution_count": 5,
   "id": "3fa8aa21",
   "metadata": {
    "language_info": {
     "name": "polyglot-notebook"
    },
    "polyglot_notebook": {
     "kernelName": "csharp"
    }
   },
   "outputs": [
    {
     "data": {
      "text/html": [
       "<div><div></div><div></div><div><strong>Installed Packages</strong><ul><li><span>DotNetEnv, 3.1.1</span></li></ul></div></div>"
      ]
     },
     "metadata": {},
     "output_type": "display_data"
    }
   ],
   "source": [
    "#r \"nuget: DotNetEnv, 3.1.1\""
   ]
  },
  {
   "cell_type": "code",
   "execution_count": 6,
   "id": "fc8ee8ea",
   "metadata": {
    "language_info": {
     "name": "polyglot-notebook"
    },
    "polyglot_notebook": {
     "kernelName": "csharp"
    }
   },
   "outputs": [],
   "source": [
    "using System;\n",
    "using System.ComponentModel;\n",
    "using System.ClientModel;\n",
    "\n",
    "using Microsoft.Extensions.AI;\n",
    "using Microsoft.Agents.AI;\n",
    "using OpenAI;"
   ]
  },
  {
   "cell_type": "code",
   "execution_count": 7,
   "id": "699b1c83",
   "metadata": {
    "language_info": {
     "name": "polyglot-notebook"
    },
    "polyglot_notebook": {
     "kernelName": "csharp"
    }
   },
   "outputs": [],
   "source": [
    " using DotNetEnv;"
   ]
  },
  {
   "cell_type": "code",
   "execution_count": 8,
   "id": "daa649a0",
   "metadata": {
    "language_info": {
     "name": "polyglot-notebook"
    },
    "polyglot_notebook": {
     "kernelName": "csharp"
    }
   },
   "outputs": [],
   "source": [
    "Env.Load(\"../../../.env\");"
   ]
  },
  {
   "cell_type": "code",
   "execution_count": 9,
   "id": "29661a90",
   "metadata": {
    "language_info": {
     "name": "polyglot-notebook"
    },
    "polyglot_notebook": {
     "kernelName": "csharp"
    }
   },
   "outputs": [],
   "source": [
    "[Description(\"Provides a random vacation destination.\")]\n",
    "static string GetRandomDestination()\n",
    "{\n",
    "    var destinations = new List<string>\n",
    "    {\n",
    "        \"Paris, France\",\n",
    "        \"Tokyo, Japan\",\n",
    "        \"New York City, USA\",\n",
    "        \"Sydney, Australia\",\n",
    "        \"Rome, Italy\",\n",
    "        \"Barcelona, Spain\",\n",
    "        \"Cape Town, South Africa\",\n",
    "        \"Rio de Janeiro, Brazil\",\n",
    "        \"Bangkok, Thailand\",\n",
    "        \"Vancouver, Canada\"\n",
    "    };\n",
    "\n",
    "    var random = new Random();\n",
    "    int index = random.Next(destinations.Count);\n",
    "    return destinations[index];\n",
    "}"
   ]
  },
  {
   "cell_type": "code",
   "execution_count": 10,
   "id": "d2ed1f8b",
   "metadata": {
    "language_info": {
     "name": "polyglot-notebook"
    },
    "polyglot_notebook": {
     "kernelName": "csharp"
    }
   },
   "outputs": [],
   "source": [
    "var github_endpoint = Environment.GetEnvironmentVariable(\"GITHUB_ENDPOINT\") ?? throw new InvalidOperationException(\"GITHUB_ENDPOINT is not set.\");\n",
    "var github_model_id = Environment.GetEnvironmentVariable(\"GITHUB_MODEL_ID\") ?? \"gpt-4o-mini\";\n",
    "var github_token = Environment.GetEnvironmentVariable(\"GITHUB_TOKEN\") ?? throw new InvalidOperationException(\"GITHUB_TOKEN is not set.\");"
   ]
  },
  {
   "cell_type": "code",
   "execution_count": 11,
   "id": "c36c73e1",
   "metadata": {
    "language_info": {
     "name": "polyglot-notebook"
    },
    "polyglot_notebook": {
     "kernelName": "csharp"
    }
   },
   "outputs": [],
   "source": [
    "var openAIOptions = new OpenAIClientOptions()\n",
    "{\n",
    "    Endpoint= new Uri(github_endpoint)\n",
    "};"
   ]
  },
  {
   "cell_type": "code",
   "execution_count": 12,
   "id": "6d94ff10",
   "metadata": {
    "language_info": {
     "name": "polyglot-notebook"
    },
    "polyglot_notebook": {
     "kernelName": "csharp"
    }
   },
   "outputs": [],
   "source": [
    "\n",
    "var openAIClient = new OpenAIClient(new ApiKeyCredential(github_token), openAIOptions);"
   ]
  },
  {
   "cell_type": "code",
   "execution_count": 13,
   "id": "fe32b57a",
   "metadata": {
    "language_info": {
     "name": "polyglot-notebook"
    },
    "polyglot_notebook": {
     "kernelName": "csharp"
    }
   },
   "outputs": [],
   "source": [
    "AIAgent agent = new OpenAIClient(new ApiKeyCredential(github_token), openAIOptions).GetChatClient(github_model_id).CreateAIAgent(\n",
    "    instructions:\"You are a helpful AI Agent that can help plan vacations for customers at random destinations\", tools: [AIFunctionFactory.Create((Func<string>)GetRandomDestination)]);"
   ]
  },
  {
   "cell_type": "code",
   "execution_count": 14,
   "metadata": {
    "language_info": {
     "name": "polyglot-notebook"
    },
    "polyglot_notebook": {
     "kernelName": "csharp"
    }
   },
   "outputs": [],
   "source": [
    "AgentThread thread = agent.GetNewThread();"
   ]
  },
  {
   "cell_type": "code",
   "execution_count": 15,
   "id": "5e455aff",
   "metadata": {
    "language_info": {
     "name": "polyglot-notebook"
    },
    "polyglot_notebook": {
     "kernelName": "csharp"
    }
   },
   "outputs": [
    {
     "name": "stdout",
     "output_type": "stream",
     "text": [
      "How about a day trip to Vancouver, Canada? Here's a suggested itinerary for your day:\n",
      "\n",
      "### Morning\n",
      "- **Breakfast at a Local Cafe**: Start your day with a delicious breakfast at a cozy café like **Jam Cafe** or **Cafe Medina**.\n",
      "- **Stanley Park**: After breakfast, head to Stanley Park. You can rent a bike and ride along the seawall, enjoying beautiful views of the city and the water.\n",
      "\n",
      "### Afternoon\n",
      "- **Lunch in Gastown**: Make your way to Gastown for lunch. Try a local favorite like **The Flying Pig** or **Noodle Box**.\n",
      "- **Explore Gastown**: After lunch, walk around Gastown to see the iconic Steam Clock and browse the unique shops and boutiques.\n",
      "\n",
      "### Late Afternoon\n",
      "- **Granville Island**: Visit Granville Island, where you can stroll through the public market, sample local foods, and enjoy artisan shops.\n",
      "- **False Creek**: Take a walk along False Creek and enjoy the waterfront views.\n",
      "\n",
      "### Evening\n",
      "- **Dinner at a Waterfront Restaurant**: End your day with dinner at a waterfront restaurant like **The Boathouse** or **Lift Bar Grill View** for great food and a view of the sunset.\n",
      "- **Optional: Sunset Cruise**: If you're up for it, consider taking a sunset cruise for a different perspective of the city.\n",
      "\n",
      "### Tips\n",
      "- Make sure to check the weather beforehand!\n",
      "- Consider public transport or ride-sharing to navigate the city easily.\n",
      "\n",
      "Enjoy your day trip to Vancouver!\r\n"
     ]
    }
   ],
   "source": [
    "Console.WriteLine(await agent.RunAsync(\"Plan me a day trip\",thread));"
   ]
  },
  {
   "cell_type": "code",
   "execution_count": 16,
   "id": "592ae1bb",
   "metadata": {
    "language_info": {
     "name": "polyglot-notebook"
    },
    "polyglot_notebook": {
     "kernelName": "csharp"
    }
   },
   "outputs": [
    {
     "name": "stdout",
     "output_type": "stream",
     "text": [
      "How about a vacation to New York City, USA? Here's a suggested itinerary for your trip:\n",
      "\n",
      "### Day 1: Arrival in New York City\n",
      "- **Check-In**: Arrive and check in to your hotel.\n",
      "- **Central Park**: Take a leisurely stroll through Central Park. Consider renting a bike or taking a carriage ride.\n",
      "- **Evening**: Enjoy dinner at a classic NYC restaurant, such as **Katz's Delicatessen** or **Carbone**.\n",
      "\n",
      "### Day 2: Iconic Landmarks\n",
      "- **Morning**: Breakfast at a local diner.\n",
      "- **Statue of Liberty & Ellis Island**: Take a ferry to visit these iconic landmarks.\n",
      "- **Afternoon**: Explore Wall Street and visit the 9/11 Memorial & Museum.\n",
      "- **Evening**: Dinner in the Financial District followed by a walk across the Brooklyn Bridge at sunset.\n",
      "\n",
      "### Day 3: Culture and Arts\n",
      "- **Morning**: Visit The Metropolitan Museum of Art (The Met) and spend a few hours exploring its vast collection.\n",
      "- **Afternoon**: Head to Times Square for lunch and the buzz of the city.\n",
      "- **Broadway Show**: Catch a Broadway show in the evening. Be sure to book tickets in advance!\n",
      "\n",
      "### Day 4: Explore Neighborhoods\n",
      "- **Morning**: Head to SoHo for brunch and shopping in its chic boutiques.\n",
      "- **Afternoon**: Explore Greenwich Village, known for its bohemian atmosphere and history.\n",
      "- **Evening**: Enjoy dinner in the West Village, perhaps at **Buvette** or **Minetta Tavern**.\n",
      "\n",
      "### Day 5: Departure\n",
      "- **Last-minute Shopping**: Spend your last morning shopping at Fifth Avenue or head to Chelsea Market for food and souvenirs.\n",
      "- **Check-Out**: Depart for your journey home.\n",
      "\n",
      "### Tips\n",
      "- Utilize the subway for efficient travel around the city.\n",
      "- Make reservations for popular restaurants and attractions ahead of time!\n",
      "\n",
      "Enjoy your trip to New York City!\r\n"
     ]
    }
   ],
   "source": [
    "Console.WriteLine(await agent.RunAsync(\"I don't like that destination. Plan me another vacation.\",thread));"
   ]
  },
  {
   "cell_type": "markdown",
   "metadata": {},
   "source": [
    "\n---\n\n**Tuyên bố miễn trừ trách nhiệm**:  \nTài liệu này đã được dịch bằng dịch vụ dịch thuật AI [Co-op Translator](https://github.com/Azure/co-op-translator). Mặc dù chúng tôi cố gắng đảm bảo độ chính xác, xin lưu ý rằng các bản dịch tự động có thể chứa lỗi hoặc không chính xác. Tài liệu gốc bằng ngôn ngữ bản địa nên được coi là nguồn thông tin chính thức. Đối với các thông tin quan trọng, khuyến nghị sử dụng dịch vụ dịch thuật chuyên nghiệp bởi con người. Chúng tôi không chịu trách nhiệm cho bất kỳ sự hiểu lầm hoặc diễn giải sai nào phát sinh từ việc sử dụng bản dịch này.\n"
   ]
  }
 ],
 "metadata": {
  "kernelspec": {
   "display_name": ".NET (C#)",
   "language": "C#",
   "name": ".net-csharp"
  },
  "language_info": {
   "name": "polyglot-notebook"
  },
  "polyglot_notebook": {
   "kernelInfo": {
    "defaultKernelName": "csharp",
    "items": [
     {
      "aliases": [],
      "name": "csharp"
     }
    ]
   }
  },
  "coopTranslator": {
   "original_hash": "070c1d8985b3dc6e6d977f3e891037f1",
   "translation_date": "2025-10-02T18:01:49+00:00",
   "source_file": "03-agentic-design-patterns/code_samples/03-dotnet-agent-framework.ipynb",
   "language_code": "vi"
  }
 },
 "nbformat": 4,
 "nbformat_minor": 5
}