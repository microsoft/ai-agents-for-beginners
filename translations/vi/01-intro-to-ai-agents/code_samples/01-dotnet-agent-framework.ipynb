{
 "cells": [
  {
   "cell_type": "markdown",
   "id": "7220b21d",
   "metadata": {},
   "source": [
    "# 🌍 Đại lý Du lịch AI với Microsoft Agent Framework (.NET)\n",
    "\n",
    "## 📋 Tổng Quan Kịch Bản\n",
    "\n",
    "Notebook này hướng dẫn cách xây dựng một đại lý lập kế hoạch du lịch thông minh bằng Microsoft Agent Framework cho .NET. Đại lý có thể tự động tạo lịch trình du lịch cá nhân hóa cho các điểm đến ngẫu nhiên trên toàn thế giới.\n",
    "\n",
    "**Các Tính Năng Chính:**\n",
    "- 🎲 **Chọn Điểm Đến Ngẫu Nhiên**: Sử dụng công cụ tùy chỉnh để chọn địa điểm nghỉ dưỡng\n",
    "- 🗺️ **Lập Kế Hoạch Du Lịch Thông Minh**: Tạo lịch trình chi tiết từng ngày\n",
    "- 🔄 **Phát Trực Tiếp Theo Thời Gian Thực**: Hỗ trợ phản hồi ngay lập tức và phát trực tiếp\n",
    "- 🛠️ **Tích Hợp Công Cụ Tùy Chỉnh**: Minh họa cách mở rộng khả năng của đại lý\n",
    "\n",
    "## 🔧 Kiến Trúc Kỹ Thuật\n",
    "\n",
    "### Công Nghệ Cốt Lõi\n",
    "- **Microsoft Agent Framework**: Phiên bản .NET mới nhất để phát triển đại lý AI\n",
    "- **Tích Hợp Mô Hình GitHub**: Sử dụng dịch vụ suy luận mô hình AI của GitHub\n",
    "- **Tương Thích API OpenAI**: Tận dụng thư viện khách hàng của OpenAI với các điểm cuối tùy chỉnh\n",
    "- **Cấu Hình Bảo Mật**: Quản lý khóa API dựa trên môi trường\n",
    "\n",
    "### Các Thành Phần Chính\n",
    "1. **AIAgent**: Bộ điều phối chính của đại lý xử lý luồng hội thoại\n",
    "2. **Công Cụ Tùy Chỉnh**: Hàm `GetRandomDestination()` có sẵn cho đại lý\n",
    "3. **Chat Client**: Giao diện hội thoại hỗ trợ bởi mô hình GitHub\n",
    "4. **Hỗ Trợ Phát Trực Tiếp**: Khả năng tạo phản hồi theo thời gian thực\n",
    "\n",
    "### Mô Hình Tích Hợp\n",
    "```mermaid\n",
    "graph LR\n",
    "    A[User Request] --> B[AI Agent]\n",
    "    B --> C[GitHub Models API]\n",
    "    B --> D[GetRandomDestination Tool]\n",
    "    C --> E[Travel Itinerary]\n",
    "    D --> E\n",
    "```\n",
    "\n",
    "## 🚀 Bắt Đầu\n",
    "\n",
    "**Yêu Cầu:**\n",
    "- .NET 9.0 hoặc cao hơn\n",
    "- Mã truy cập API của GitHub Models\n",
    "- Các biến môi trường được cấu hình trong tệp `.env`\n",
    "\n",
    "**Các Biến Môi Trường Cần Thiết:**\n",
    "```env\n",
    "GITHUB_TOKEN=your_github_token\n",
    "GITHUB_ENDPOINT=https://models.inference.ai.azure.com\n",
    "GITHUB_MODEL_ID=gpt-4o-mini\n",
    "```\n",
    "\n",
    "Chạy các ô dưới đây theo thứ tự để xem đại lý du lịch hoạt động!\n"
   ]
  },
  {
   "cell_type": "code",
   "execution_count": 1,
   "id": "2770ac5c",
   "metadata": {
    "language_info": {
     "name": "polyglot-notebook"
    },
    "polyglot_notebook": {
     "kernelName": "csharp"
    }
   },
   "outputs": [
    {
     "data": {
      "text/html": [
       "<div><div></div><div></div><div><strong>Installed Packages</strong><ul><li><span>Microsoft.Extensions.AI, 9.9.1</span></li></ul></div></div>"
      ]
     },
     "metadata": {},
     "output_type": "display_data"
    }
   ],
   "source": [
    "// 📦 NuGet Package Reference: Microsoft Extensions AI\n",
    "// This provides the core AI abstraction layer for .NET applications\n",
    "// Essential for building AI agents with standardized interfaces\n",
    "#r \"nuget: Microsoft.Extensions.AI, 9.9.1\""
   ]
  },
  {
   "cell_type": "code",
   "execution_count": null,
   "id": "984ff6cd",
   "metadata": {
    "language_info": {
     "name": "polyglot-notebook"
    },
    "polyglot_notebook": {
     "kernelName": "csharp"
    }
   },
   "outputs": [
    {
     "data": {
      "text/html": [
       "<div><div></div><div></div><div><strong>Installed Packages</strong><ul><li><span>Microsoft.Agents.AI.OpenAI, 1.0.0-preview.251001.2</span></li></ul></div></div>"
      ]
     },
     "metadata": {},
     "output_type": "display_data"
    }
   ],
   "source": [
    "// 🔗 Local Reference: OpenAI Agent Extensions\n",
    "// This references the local build of the Microsoft Extensions AI Agents OpenAI library\n",
    "// Contains OpenAI-specific implementations for the agent framework\n",
    "// Required for integrating with OpenAI models and GitHub Models\n",
    "#r \"nuget: Microsoft.Agents.AI.OpenAI, 1.0.0-preview.251001.3\""
   ]
  },
  {
   "cell_type": "code",
   "execution_count": null,
   "id": "2b4090be",
   "metadata": {
    "language_info": {
     "name": "polyglot-notebook"
    },
    "polyglot_notebook": {
     "kernelName": "csharp"
    }
   },
   "outputs": [
    {
     "data": {
      "text/html": [
       "<div><div></div><div></div><div><strong>Installed Packages</strong><ul><li><span>microsoft.agents.ai, 1.0.0-preview.251001.2</span></li></ul></div></div>"
      ]
     },
     "metadata": {},
     "output_type": "display_data"
    }
   ],
   "source": [
    "\n",
    "#r \"nuget: Microsoft.Agents.AI, 1.0.0-preview.251001.3\""
   ]
  },
  {
   "cell_type": "code",
   "execution_count": 4,
   "id": "4ab7b15d",
   "metadata": {
    "language_info": {
     "name": "polyglot-notebook"
    },
    "polyglot_notebook": {
     "kernelName": "csharp"
    }
   },
   "outputs": [],
   "source": [
    "// 🔌 NuGet Package Reference: OpenAI Integration\n",
    "// Preview version of Microsoft Extensions AI OpenAI integration\n",
    "// Provides OpenAI client and service implementations\n",
    "// Enables communication with OpenAI API and GitHub Models\n",
    "// #r \"nuget: Microsoft.Extensions.AI.OpenAI, 9.9.1-preview.1.25474.6\""
   ]
  },
  {
   "cell_type": "code",
   "execution_count": 5,
   "id": "3fa8aa21",
   "metadata": {
    "language_info": {
     "name": "polyglot-notebook"
    },
    "polyglot_notebook": {
     "kernelName": "csharp"
    }
   },
   "outputs": [
    {
     "data": {
      "text/html": [
       "<div><div></div><div></div><div><strong>Installed Packages</strong><ul><li><span>DotNetEnv, 3.1.1</span></li></ul></div></div>"
      ]
     },
     "metadata": {},
     "output_type": "display_data"
    }
   ],
   "source": [
    "// 🔧 NuGet Package Reference: Environment Variables\n",
    "// DotNetEnv allows loading environment variables from .env files\n",
    "// Essential for managing API keys and configuration securely\n",
    "// Helps keep sensitive information out of source code\n",
    "#r \"nuget: DotNetEnv, 3.1.1\""
   ]
  },
  {
   "cell_type": "code",
   "execution_count": 6,
   "id": "fc8ee8ea",
   "metadata": {
    "language_info": {
     "name": "polyglot-notebook"
    },
    "polyglot_notebook": {
     "kernelName": "csharp"
    }
   },
   "outputs": [],
   "source": [
    "// 📚 Import Required Namespaces\n",
    "using System;                          // Core system functionality and base types\n",
    "using System.ComponentModel;           // For Description attributes on tool functions\n",
    "using System.ClientModel;             // Client model abstractions for API interactions\n",
    "\n",
    "using Microsoft.Extensions.AI;        // Core AI abstractions and interfaces\n",
    "using Microsoft.Agents.AI;           // Agent framework classes and interfaces\n",
    "using OpenAI;                         // OpenAI client library for API communication"
   ]
  },
  {
   "cell_type": "code",
   "execution_count": 7,
   "id": "699b1c83",
   "metadata": {
    "language_info": {
     "name": "polyglot-notebook"
    },
    "polyglot_notebook": {
     "kernelName": "csharp"
    }
   },
   "outputs": [],
   "source": [
    "// 🔧 Import Environment Variable Loading\n",
    "// DotNetEnv namespace for loading .env files\n",
    "// Enables secure configuration management from external files\n",
    "using DotNetEnv;"
   ]
  },
  {
   "cell_type": "code",
   "execution_count": 8,
   "id": "daa649a0",
   "metadata": {
    "language_info": {
     "name": "polyglot-notebook"
    },
    "polyglot_notebook": {
     "kernelName": "csharp"
    }
   },
   "outputs": [],
   "source": [
    "// 🔧 Load Environment Variables from .env File\n",
    "// This loads configuration from a .env file located 3 directories up\n",
    "// Required variables: GITHUB_ENDPOINT, GITHUB_TOKEN, GITHUB_MODEL_ID\n",
    "// Ensures secure handling of API credentials and configuration\n",
    "Env.Load(\"../../../.env\");"
   ]
  },
  {
   "cell_type": "code",
   "execution_count": 9,
   "id": "29661a90",
   "metadata": {
    "language_info": {
     "name": "polyglot-notebook"
    },
    "polyglot_notebook": {
     "kernelName": "csharp"
    }
   },
   "outputs": [],
   "source": [
    "// 🎲 Tool Function: Random Destination Generator\n",
    "// This static method will be available to the agent as a callable tool\n",
    "// The [Description] attribute helps the AI understand when to use this function\n",
    "// This demonstrates how to create custom tools for AI agents\n",
    "[Description(\"Provides a random vacation destination.\")]\n",
    "static string GetRandomDestination()\n",
    "{\n",
    "    // List of popular vacation destinations around the world\n",
    "    // The agent will randomly select from these options\n",
    "    var destinations = new List<string>\n",
    "    {\n",
    "        \"Paris, France\",         // European cultural capital\n",
    "        \"Tokyo, Japan\",          // Asian modern metropolis\n",
    "        \"New York City, USA\",    // American urban experience\n",
    "        \"Sydney, Australia\",     // Oceanic coastal beauty\n",
    "        \"Rome, Italy\",           // Historical European city\n",
    "        \"Barcelona, Spain\",      // Mediterranean cultural hub\n",
    "        \"Cape Town, South Africa\", // African scenic destination\n",
    "        \"Rio de Janeiro, Brazil\",  // South American beach city\n",
    "        \"Bangkok, Thailand\",        // Southeast Asian cultural center\n",
    "        \"Vancouver, Canada\"         // North American natural beauty\n",
    "    };\n",
    "\n",
    "    // Generate random index and return selected destination\n",
    "    // Uses System.Random for simple random selection\n",
    "    var random = new Random();\n",
    "    int index = random.Next(destinations.Count);\n",
    "    return destinations[index];\n",
    "}"
   ]
  },
  {
   "cell_type": "code",
   "execution_count": 10,
   "id": "d2ed1f8b",
   "metadata": {
    "language_info": {
     "name": "polyglot-notebook"
    },
    "polyglot_notebook": {
     "kernelName": "csharp"
    }
   },
   "outputs": [],
   "source": [
    "// 🔑 Extract Configuration from Environment Variables\n",
    "// Retrieve GitHub Models API endpoint, throws exception if not set\n",
    "var github_endpoint = Environment.GetEnvironmentVariable(\"GITHUB_ENDPOINT\") ?? throw new InvalidOperationException(\"GITHUB_ENDPOINT is not set.\");\n",
    "// Get the model ID, defaults to gpt-4o-mini if not specified\n",
    "var github_model_id = Environment.GetEnvironmentVariable(\"GITHUB_MODEL_ID\") ?? \"gpt-4o-mini\";\n",
    "// Retrieve GitHub token for authentication, throws exception if not set\n",
    "var github_token = Environment.GetEnvironmentVariable(\"GITHUB_TOKEN\") ?? throw new InvalidOperationException(\"GITHUB_TOKEN is not set.\");"
   ]
  },
  {
   "cell_type": "code",
   "execution_count": 11,
   "id": "c36c73e1",
   "metadata": {
    "language_info": {
     "name": "polyglot-notebook"
    },
    "polyglot_notebook": {
     "kernelName": "csharp"
    }
   },
   "outputs": [],
   "source": [
    "// ⚙️ Configure OpenAI Client Options\n",
    "// Create configuration options to point to GitHub Models endpoint\n",
    "// This redirects OpenAI client calls to GitHub's model inference service\n",
    "var openAIOptions = new OpenAIClientOptions()\n",
    "{\n",
    "    Endpoint= new Uri(github_endpoint)  // Set custom endpoint for GitHub Models\n",
    "};"
   ]
  },
  {
   "cell_type": "code",
   "execution_count": 12,
   "id": "6d94ff10",
   "metadata": {
    "language_info": {
     "name": "polyglot-notebook"
    },
    "polyglot_notebook": {
     "kernelName": "csharp"
    }
   },
   "outputs": [],
   "source": [
    "// 🔌 Initialize OpenAI Client with GitHub Models Configuration\n",
    "// Create OpenAI client using GitHub token for authentication\n",
    "// Configure it to use GitHub Models endpoint instead of OpenAI directly\n",
    "var openAIClient = new OpenAIClient(new ApiKeyCredential(github_token), openAIOptions);"
   ]
  },
  {
   "cell_type": "code",
   "execution_count": 13,
   "id": "fe32b57a",
   "metadata": {
    "language_info": {
     "name": "polyglot-notebook"
    },
    "polyglot_notebook": {
     "kernelName": "csharp"
    }
   },
   "outputs": [],
   "source": [
    "// 🤖 Create AI Agent with Travel Planning Capabilities\n",
    "// Initialize OpenAI client, get chat client for specified model, and create AI agent\n",
    "// Configure agent with travel planning instructions and random destination tool\n",
    "// The agent can now plan trips using the GetRandomDestination function\n",
    "AIAgent agent = new OpenAIClient(new ApiKeyCredential(github_token), openAIOptions)\n",
    "    .GetChatClient(github_model_id)  // Get chat client for the specified model\n",
    "    .CreateAIAgent(\n",
    "        instructions:\"You are a helpful AI Agent that can help plan vacations for customers at random destinations\", \n",
    "        tools: [AIFunctionFactory.Create((Func<string>)GetRandomDestination)]  // Register the tool function\n",
    "    );"
   ]
  },
  {
   "cell_type": "code",
   "execution_count": 14,
   "id": "5e455aff",
   "metadata": {
    "language_info": {
     "name": "polyglot-notebook"
    },
    "polyglot_notebook": {
     "kernelName": "csharp"
    }
   },
   "outputs": [
    {
     "name": "stdout",
     "output_type": "stream",
     "text": [
      "For your day trip to Tokyo, Japan, here's a suggested itinerary:\n",
      "\n",
      "### Morning\n",
      "- **Breakfast**: Start your day with a traditional Japanese breakfast. You can try grilled fish, rice, and miso soup at a local restaurant or enjoy a quick meal at a convenience store.\n",
      "- **Visit Senso-ji Temple**: Head to Asakusa and visit Tokyo's oldest temple, Senso-ji. Explore the Nakamise shopping street leading up to the temple for snacks and souvenirs.\n",
      "\n",
      "### Mid-Morning\n",
      "- **Explore Ueno Park**: After Senso-ji, take a short train ride to Ueno Park. Stroll through the park, visit the Ueno Zoo, or check out one of the many museums like the Tokyo National Museum.\n",
      "\n",
      "### Lunch\n",
      "- **Try Sushi**: For lunch, indulge in fresh sushi at a conveyor belt sushi restaurant or a well-reviewed local sushi place in the area.\n",
      "\n",
      "### Afternoon\n",
      "- **Visit Akihabara**: Spend your afternoon exploring Akihabara, a district famous for electronics and otaku culture. Visit some anime and manga stores, or check out a themed cafe.\n",
      "- **Explore Shibuya Crossing**: Head to Shibuya and experience the famous Shibuya Crossing. Enjoy the hustle and bustle of this iconic spot.\n",
      "\n",
      "### Evening\n",
      "- **Dinner in Shinjuku**: Have dinner at one of the izakayas (Japanese pubs) in Shinjuku, where you can try various Japanese dishes and drinks.\n",
      "- **Tokyo Metropolitan Government Building**: End your day with a visit to the Tokyo Metropolitan Government Building. You can go up to the observation deck for a stunning view of the Tokyo skyline, especially during sunset.\n",
      "\n",
      "### Tips\n",
      "- Purchase a Day Pass for the metro to make traveling around the city easier.\n",
      "- Stay hydrated and try to sample different street foods as you explore!\n",
      "\n",
      "Enjoy your day trip to Tokyo!\r\n"
     ]
    }
   ],
   "source": [
    "// 🚀 Execute Agent: Plan a Day Trip (Non-Streaming)\n",
    "// Run the agent with a travel planning request\n",
    "// The agent will use the GetRandomDestination tool and create a complete itinerary\n",
    "// Returns the full response once processing is complete\n",
    "Console.WriteLine(await agent.RunAsync(\"Plan me a day trip\"));"
   ]
  },
  {
   "cell_type": "code",
   "execution_count": 15,
   "id": "592ae1bb",
   "metadata": {
    "language_info": {
     "name": "polyglot-notebook"
    },
    "polyglot_notebook": {
     "kernelName": "csharp"
    }
   },
   "outputs": [
    {
     "name": "stdout",
     "output_type": "stream",
     "text": [
      "How about a day trip to Vancouver, Canada? Here’s a suggested itinerary for your day:\n",
      "\n",
      "### Morning:\n",
      "- **Breakfast at a Local Café**: Start your day at a cozy café in Gastown. Try the famous Canadian pancakes or a classic bagel with smoked salmon.\n",
      "- **Stanley Park**: After breakfast, head to Stanley Park. Enjoy a walk or rent a bike to explore the scenic seawall, lush gardens, and totem poles.\n",
      "\n",
      "### Afternoon:\n",
      "- **Granville Island**: Visit Granville Island for lunch. Explore the public market, artisan shops, and try some delicious local food from the various food stalls.\n",
      "- **Aquabus Ride**: Take an Aquabus ride across False Creek to enjoy stunning views of the city and the North Shore mountains.\n",
      "\n",
      "### Evening:\n",
      "- **Capilano Suspension Bridge**: After lunch, visit the Capilano Suspension Bridge Park. Walk across the bridge and enjoy the beautiful forest scenery.\n",
      "- **Dinner at a Waterfront Restaurant**: Finish the day with dinner at a waterfront restaurant, where you can enjoy fresh seafood and beautiful sunset views.\n",
      "\n",
      "### Optional Activities:\n",
      "- Visit the Vancouver Aquarium or take a stroll through the vibrant neighborhoods of Yaletown or Kitsilano.\n",
      "\n",
      "This itinerary offers a mix of outdoor activities, local culture, and great food. Enjoy your trip!"
     ]
    }
   ],
   "source": [
    "// 🌊 Execute Agent: Plan a Day Trip (Streaming Response)\n",
    "// Run the agent with streaming enabled for real-time response display\n",
    "// Shows the agent's thinking and response as it generates the content\n",
    "// Provides better user experience with immediate feedback\n",
    "await foreach (var update in agent.RunStreamingAsync(\"Plan me a day trip\"))\n",
    "{\n",
    "    Console.Write(update);  // Display each part of the response as it arrives\n",
    "}"
   ]
  },
  {
   "cell_type": "markdown",
   "metadata": {},
   "source": [
    "\n---\n\n**Tuyên bố miễn trừ trách nhiệm**:  \nTài liệu này đã được dịch bằng dịch vụ dịch thuật AI [Co-op Translator](https://github.com/Azure/co-op-translator). Mặc dù chúng tôi cố gắng đảm bảo độ chính xác, xin lưu ý rằng các bản dịch tự động có thể chứa lỗi hoặc không chính xác. Tài liệu gốc bằng ngôn ngữ bản địa nên được coi là nguồn thông tin chính thức. Đối với các thông tin quan trọng, khuyến nghị sử dụng dịch vụ dịch thuật chuyên nghiệp bởi con người. Chúng tôi không chịu trách nhiệm cho bất kỳ sự hiểu lầm hoặc diễn giải sai nào phát sinh từ việc sử dụng bản dịch này.\n"
   ]
  }
 ],
 "metadata": {
  "kernelspec": {
   "display_name": ".NET (C#)",
   "language": "C#",
   "name": ".net-csharp"
  },
  "language_info": {
   "name": "polyglot-notebook"
  },
  "polyglot_notebook": {
   "kernelInfo": {
    "defaultKernelName": "csharp",
    "items": [
     {
      "aliases": [],
      "name": "csharp"
     }
    ]
   }
  },
  "coopTranslator": {
   "original_hash": "6db30f4b25a7a6a59115eb952565693c",
   "translation_date": "2025-10-02T17:52:30+00:00",
   "source_file": "01-intro-to-ai-agents/code_samples/01-dotnet-agent-framework.ipynb",
   "language_code": "vi"
  }
 },
 "nbformat": 4,
 "nbformat_minor": 5
}