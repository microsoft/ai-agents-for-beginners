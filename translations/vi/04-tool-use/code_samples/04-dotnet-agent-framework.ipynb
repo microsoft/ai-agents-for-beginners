{
 "cells": [
  {
   "cell_type": "markdown",
   "id": "c898efd9",
   "metadata": {},
   "source": [
    "# 🛠️ Sử Dụng Công Cụ Nâng Cao với Mô Hình GitHub (.NET)\n",
    "\n",
    "## 📋 Mục Tiêu Học Tập\n",
    "\n",
    "Notebook này trình bày các mẫu tích hợp công cụ cấp doanh nghiệp sử dụng Microsoft Agent Framework trong .NET với Mô Hình GitHub. Bạn sẽ học cách xây dựng các agent phức tạp với nhiều công cụ chuyên biệt, tận dụng kiểu dữ liệu mạnh mẽ của C# và các tính năng doanh nghiệp của .NET.\n",
    "\n",
    "**Các Khả Năng Công Cụ Nâng Cao Bạn Sẽ Thành Thạo:**\n",
    "- 🔧 **Kiến Trúc Đa Công Cụ**: Xây dựng các agent với nhiều khả năng chuyên biệt\n",
    "- 🎯 **Thực Thi Công Cụ An Toàn Kiểu Dữ Liệu**: Tận dụng xác thực thời gian biên dịch của C#\n",
    "- 📊 **Mẫu Công Cụ Doanh Nghiệp**: Thiết kế công cụ sẵn sàng cho sản xuất và xử lý lỗi\n",
    "- 🔗 **Kết Hợp Công Cụ**: Kết hợp các công cụ cho quy trình làm việc kinh doanh phức tạp\n",
    "\n",
    "## 🎯 Lợi Ích Kiến Trúc Công Cụ .NET\n",
    "\n",
    "### Tính Năng Công Cụ Doanh Nghiệp\n",
    "- **Xác Thực Thời Gian Biên Dịch**: Kiểu dữ liệu mạnh mẽ đảm bảo tính chính xác của tham số công cụ\n",
    "- **Tiêm Phụ Thuộc**: Tích hợp IoC container để quản lý công cụ\n",
    "- **Mẫu Async/Await**: Thực thi công cụ không chặn với quản lý tài nguyên hợp lý\n",
    "- **Ghi Log Có Cấu Trúc**: Tích hợp ghi log để giám sát thực thi công cụ\n",
    "\n",
    "### Mẫu Sẵn Sàng Cho Sản Xuất\n",
    "- **Xử Lý Ngoại Lệ**: Quản lý lỗi toàn diện với ngoại lệ kiểu dữ liệu\n",
    "- **Quản Lý Tài Nguyên**: Mẫu xử lý và quản lý bộ nhớ hợp lý\n",
    "- **Giám Sát Hiệu Suất**: Tích hợp sẵn các chỉ số và bộ đếm hiệu suất\n",
    "- **Quản Lý Cấu Hình**: Cấu hình an toàn kiểu dữ liệu với xác thực\n",
    "\n",
    "## 🔧 Kiến Trúc Kỹ Thuật\n",
    "\n",
    "### Thành Phần Công Cụ Cốt Lõi .NET\n",
    "- **Microsoft.Extensions.AI**: Lớp trừu tượng công cụ thống nhất\n",
    "- **Microsoft.Agents.AI**: Điều phối công cụ cấp doanh nghiệp\n",
    "- **Tích Hợp Mô Hình GitHub**: Client API hiệu suất cao với kết nối pooling\n",
    "\n",
    "### Quy Trình Thực Thi Công Cụ\n",
    "```csharp\n",
    "User Request → Agent Analysis → Tool Selection → Type Validation\n",
    "                 ↓               ↓              ↓\n",
    "         Parameter Binding → Tool Execution → Result Processing → Response\n",
    "```\n",
    "\n",
    "## 🛠️ Danh Mục Công Cụ & Mẫu\n",
    "\n",
    "### 1. **Công Cụ Xử Lý Dữ Liệu**\n",
    "- **Xác Thực Đầu Vào**: Kiểu dữ liệu mạnh mẽ với chú thích dữ liệu\n",
    "- **Hoạt Động Chuyển Đổi**: Chuyển đổi và định dạng dữ liệu an toàn kiểu dữ liệu\n",
    "- **Logic Kinh Doanh**: Công cụ tính toán và phân tích theo miền cụ thể\n",
    "- **Định Dạng Đầu Ra**: Tạo phản hồi có cấu trúc\n",
    "\n",
    "### 2. **Công Cụ Tích Hợp**\n",
    "- **Kết Nối API**: Tích hợp dịch vụ RESTful với HttpClient\n",
    "- **Công Cụ Cơ Sở Dữ Liệu**: Tích hợp Entity Framework để truy cập dữ liệu\n",
    "- **Hoạt Động Tệp**: Hoạt động hệ thống tệp an toàn với xác thực\n",
    "- **Dịch Vụ Bên Ngoài**: Mẫu tích hợp dịch vụ bên thứ ba\n",
    "\n",
    "### 3. **Công Cụ Tiện Ích**\n",
    "- **Xử Lý Văn Bản**: Tiện ích thao tác và định dạng chuỗi\n",
    "- **Hoạt Động Ngày/Giờ**: Tính toán ngày/giờ theo văn hóa\n",
    "- **Công Cụ Toán Học**: Tính toán chính xác và hoạt động thống kê\n",
    "- **Công Cụ Xác Thực**: Xác thực quy tắc kinh doanh và kiểm tra dữ liệu\n",
    "\n",
    "## ⚙️ Yêu Cầu & Cài Đặt\n",
    "\n",
    "**Môi Trường Phát Triển:**\n",
    "- .NET 9.0 SDK hoặc cao hơn\n",
    "- Visual Studio 2022 hoặc VS Code với extension C#\n",
    "- Truy cập API Mô Hình GitHub\n",
    "\n",
    "**Gói NuGet Yêu Cầu:**\n",
    "```xml\n",
    "<PackageReference Include=\"Microsoft.Extensions.AI\" Version=\"9.9.0\" />\n",
    "<PackageReference Include=\"Microsoft.Extensions.AI.OpenAI\" Version=\"9.9.0-preview.1.25458.4\" />\n",
    "<PackageReference Include=\"DotNetEnv\" Version=\"3.1.1\" />\n",
    "```\n",
    "\n",
    "**Cấu Hình Môi Trường (tệp .env):**\n",
    "```env\n",
    "GITHUB_TOKEN=your_github_personal_access_token\n",
    "GITHUB_ENDPOINT=https://models.inference.ai.azure.com\n",
    "GITHUB_MODEL_ID=gpt-4o-mini\n",
    "```\n",
    "\n",
    "Sẵn sàng xây dựng các agent cấp doanh nghiệp với khả năng công cụ mạnh mẽ, an toàn kiểu dữ liệu trong .NET? Hãy cùng kiến tạo những giải pháp chuyên nghiệp! 🏢⚡\n"
   ]
  },
  {
   "cell_type": "code",
   "execution_count": 1,
   "id": "2770ac5c",
   "metadata": {
    "language_info": {
     "name": "polyglot-notebook"
    },
    "polyglot_notebook": {
     "kernelName": "csharp"
    }
   },
   "outputs": [
    {
     "data": {
      "text/html": [
       "<div><div></div><div></div><div><strong>Installed Packages</strong><ul><li><span>Microsoft.Extensions.AI, 9.9.1</span></li></ul></div></div>"
      ]
     },
     "metadata": {},
     "output_type": "display_data"
    }
   ],
   "source": [
    "#r \"nuget: Microsoft.Extensions.AI, 9.9.1\""
   ]
  },
  {
   "cell_type": "code",
   "execution_count": null,
   "id": "984ff6cd",
   "metadata": {
    "language_info": {
     "name": "polyglot-notebook"
    },
    "polyglot_notebook": {
     "kernelName": "csharp"
    }
   },
   "outputs": [
    {
     "data": {
      "text/html": [
       "<div><div></div><div></div><div><strong>Installed Packages</strong><ul><li><span>Microsoft.Agents.AI.OpenAI, 1.0.0-preview.251001.2</span></li></ul></div></div>"
      ]
     },
     "metadata": {},
     "output_type": "display_data"
    }
   ],
   "source": [
    "#r \"nuget: Microsoft.Agents.AI.OpenAI, 1.0.0-preview.251001.3\""
   ]
  },
  {
   "cell_type": "code",
   "execution_count": null,
   "id": "0ab71360",
   "metadata": {
    "language_info": {
     "name": "polyglot-notebook"
    },
    "polyglot_notebook": {
     "kernelName": "csharp"
    }
   },
   "outputs": [
    {
     "data": {
      "text/html": [
       "<div><div></div><div></div><div><strong>Installed Packages</strong><ul><li><span>microsoft.agents.ai, 1.0.0-preview.251001.2</span></li></ul></div></div>"
      ]
     },
     "metadata": {},
     "output_type": "display_data"
    }
   ],
   "source": [
    "#r \"nuget: Microsoft.Agents.AI, 1.0.0-preview.251001.3\""
   ]
  },
  {
   "cell_type": "code",
   "execution_count": 4,
   "id": "4ab7b15d",
   "metadata": {
    "language_info": {
     "name": "polyglot-notebook"
    },
    "polyglot_notebook": {
     "kernelName": "csharp"
    }
   },
   "outputs": [],
   "source": [
    "// #r \"nuget: Microsoft.Extensions.AI.OpenAI, 9.9.0-preview.1.25458.4\""
   ]
  },
  {
   "cell_type": "code",
   "execution_count": 5,
   "id": "3fa8aa21",
   "metadata": {
    "language_info": {
     "name": "polyglot-notebook"
    },
    "polyglot_notebook": {
     "kernelName": "csharp"
    }
   },
   "outputs": [
    {
     "data": {
      "text/html": [
       "<div><div></div><div></div><div><strong>Installed Packages</strong><ul><li><span>DotNetEnv, 3.1.1</span></li></ul></div></div>"
      ]
     },
     "metadata": {},
     "output_type": "display_data"
    }
   ],
   "source": [
    "#r \"nuget: DotNetEnv, 3.1.1\""
   ]
  },
  {
   "cell_type": "code",
   "execution_count": 6,
   "id": "fc8ee8ea",
   "metadata": {
    "language_info": {
     "name": "polyglot-notebook"
    },
    "polyglot_notebook": {
     "kernelName": "csharp"
    }
   },
   "outputs": [],
   "source": [
    "using System;\n",
    "using System.ComponentModel;\n",
    "using System.ClientModel;\n",
    "\n",
    "using Microsoft.Extensions.AI;\n",
    "using Microsoft.Agents.AI;\n",
    "using OpenAI;"
   ]
  },
  {
   "cell_type": "code",
   "execution_count": 7,
   "id": "699b1c83",
   "metadata": {
    "language_info": {
     "name": "polyglot-notebook"
    },
    "polyglot_notebook": {
     "kernelName": "csharp"
    }
   },
   "outputs": [],
   "source": [
    " using DotNetEnv;"
   ]
  },
  {
   "cell_type": "code",
   "execution_count": 8,
   "id": "daa649a0",
   "metadata": {
    "language_info": {
     "name": "polyglot-notebook"
    },
    "polyglot_notebook": {
     "kernelName": "csharp"
    }
   },
   "outputs": [],
   "source": [
    "Env.Load(\"../../../.env\");"
   ]
  },
  {
   "cell_type": "code",
   "execution_count": 9,
   "id": "29661a90",
   "metadata": {
    "language_info": {
     "name": "polyglot-notebook"
    },
    "polyglot_notebook": {
     "kernelName": "csharp"
    }
   },
   "outputs": [],
   "source": [
    "[Description(\"Provides a random vacation destination.\")]\n",
    "static string GetRandomDestination()\n",
    "{\n",
    "    var destinations = new List<string>\n",
    "    {\n",
    "        \"Paris, France\",\n",
    "        \"Tokyo, Japan\",\n",
    "        \"New York City, USA\",\n",
    "        \"Sydney, Australia\",\n",
    "        \"Rome, Italy\",\n",
    "        \"Barcelona, Spain\",\n",
    "        \"Cape Town, South Africa\",\n",
    "        \"Rio de Janeiro, Brazil\",\n",
    "        \"Bangkok, Thailand\",\n",
    "        \"Vancouver, Canada\"\n",
    "    };\n",
    "\n",
    "    var random = new Random();\n",
    "    int index = random.Next(destinations.Count);\n",
    "    return destinations[index];\n",
    "}"
   ]
  },
  {
   "cell_type": "code",
   "execution_count": 10,
   "id": "d2ed1f8b",
   "metadata": {
    "language_info": {
     "name": "polyglot-notebook"
    },
    "polyglot_notebook": {
     "kernelName": "csharp"
    }
   },
   "outputs": [],
   "source": [
    "var github_endpoint = Environment.GetEnvironmentVariable(\"GITHUB_ENDPOINT\") ?? throw new InvalidOperationException(\"GITHUB_ENDPOINT is not set.\");\n",
    "var github_model_id = Environment.GetEnvironmentVariable(\"GITHUB_MODEL_ID\") ?? \"gpt-4o-mini\";\n",
    "var github_token = Environment.GetEnvironmentVariable(\"GITHUB_TOKEN\") ?? throw new InvalidOperationException(\"GITHUB_TOKEN is not set.\");"
   ]
  },
  {
   "cell_type": "code",
   "execution_count": 11,
   "id": "c36c73e1",
   "metadata": {
    "language_info": {
     "name": "polyglot-notebook"
    },
    "polyglot_notebook": {
     "kernelName": "csharp"
    }
   },
   "outputs": [],
   "source": [
    "var openAIOptions = new OpenAIClientOptions()\n",
    "{\n",
    "    Endpoint= new Uri(github_endpoint)\n",
    "};"
   ]
  },
  {
   "cell_type": "code",
   "execution_count": 12,
   "id": "6d94ff10",
   "metadata": {
    "language_info": {
     "name": "polyglot-notebook"
    },
    "polyglot_notebook": {
     "kernelName": "csharp"
    }
   },
   "outputs": [],
   "source": [
    "\n",
    "var openAIClient = new OpenAIClient(new ApiKeyCredential(github_token), openAIOptions);"
   ]
  },
  {
   "cell_type": "code",
   "execution_count": 13,
   "id": "fe32b57a",
   "metadata": {
    "language_info": {
     "name": "polyglot-notebook"
    },
    "polyglot_notebook": {
     "kernelName": "csharp"
    }
   },
   "outputs": [],
   "source": [
    "AIAgent agent = new OpenAIClient(new ApiKeyCredential(github_token), openAIOptions).GetChatClient(github_model_id).CreateAIAgent(\n",
    "    instructions:\"You are a helpful AI Agent that can help plan vacations for customers at random destinations\", tools: [AIFunctionFactory.Create((Func<string>)GetRandomDestination)]);"
   ]
  },
  {
   "cell_type": "code",
   "execution_count": 14,
   "metadata": {
    "language_info": {
     "name": "polyglot-notebook"
    },
    "polyglot_notebook": {
     "kernelName": "csharp"
    }
   },
   "outputs": [],
   "source": [
    "AgentThread thread = agent.GetNewThread();"
   ]
  },
  {
   "cell_type": "code",
   "execution_count": 15,
   "id": "5e455aff",
   "metadata": {
    "language_info": {
     "name": "polyglot-notebook"
    },
    "polyglot_notebook": {
     "kernelName": "csharp"
    }
   },
   "outputs": [
    {
     "name": "stdout",
     "output_type": "stream",
     "text": [
      "Your day trip will be in Paris, France! Here's a proposed itinerary for your day:\n",
      "\n",
      "### Morning\n",
      "- **Breakfast at a Local Café**: Start your day with a traditional French breakfast. Try a croissant and café au lait at a local café.\n",
      "- **Visit the Eiffel Tower**: Arrive early to beat the crowds. Enjoy the stunning views of the city from the top.\n",
      "\n",
      "### Late Morning\n",
      "- **Stroll Along the Seine**: Take a leisurely walk along the Seine River and enjoy the picturesque views.\n",
      "- **Visit Notre-Dame Cathedral**: Explore this iconic Gothic cathedral and its stunning architecture.\n",
      "\n",
      "### Lunch\n",
      "- **Lunch at a Bistro**: Treat yourself to a classic French lunch at a nearby bistro. Consider trying coq au vin or a delicious quiche.\n",
      "\n",
      "### Afternoon\n",
      "- **Explore the Louvre**: Spend your afternoon at the Louvre Museum. While you may not see everything, be sure to check out the Mona Lisa and other famous artworks.\n",
      "- **Walk Through the Tuileries Garden**: After the museum, relax in the beautiful Tuileries Garden.\n",
      "\n",
      "### Evening\n",
      "- **Dinner in Montmartre**: Head to Montmartre for dinner. Enjoy the atmosphere, and consider trying some French specialties at a local restaurant.\n",
      "- **Visit Sacré-Cœur Basilica**: After dinner, walk up to the Basilica for a stunning view of Paris at sunset.\n",
      "\n",
      "### Night\n",
      "- **Seine River Cruise**: End your day with a relaxing cruise on the Seine River, taking in the beautifully illuminated city sights.\n",
      "\n",
      "Make sure to check the opening hours of attractions and make reservations where necessary. Enjoy your day trip in Paris!\r\n"
     ]
    }
   ],
   "source": [
    "Console.WriteLine(await agent.RunAsync(\"Plan me a day trip\",thread));"
   ]
  },
  {
   "cell_type": "code",
   "execution_count": 16,
   "id": "592ae1bb",
   "metadata": {
    "language_info": {
     "name": "polyglot-notebook"
    },
    "polyglot_notebook": {
     "kernelName": "csharp"
    }
   },
   "outputs": [
    {
     "name": "stdout",
     "output_type": "stream",
     "text": [
      "Your new vacation destination is Rio de Janeiro, Brazil! Here's a proposed itinerary for your trip:\n",
      "\n",
      "### Day 1: Arrival in Rio\n",
      "- **Check-in**: Arrive and settle into your accommodation.\n",
      "- **Evening at Copacabana Beach**: Stroll along the famous Copacabana Beach. Enjoy the vibrant atmosphere and watch the sunset.\n",
      "\n",
      "### Day 2: Exploring the City\n",
      "- **Visit Christ the Redeemer**: Start your day with a visit to the iconic Christ the Redeemer statue. Take the train up to the top for breathtaking views.\n",
      "- **Explore Santa Teresa**: Wander through the charming streets of Santa Teresa, known for its colonial-style houses, art studios, and local shops.\n",
      "- **Lunch at a Local Restaurant**: Enjoy traditional Brazilian cuisine, such as feijoada (black bean stew).\n",
      "- **Afternoon at Sugarloaf Mountain**: Take a cable car ride to Sugarloaf Mountain for panoramic views of the city and coastline.\n",
      "\n",
      "### Day 3: Cultural Experience\n",
      "- **Visit the Selarón Steps**: Walk up the colorful Selarón Steps, an iconic mosaic staircase.\n",
      "- **Museum Visit**: Explore the Museum of Tomorrow (Museu do Amanhã) or the National Museum of Fine Arts.\n",
      "- **Lunch at a Churrascaria** (Brazilian BBQ): Treat yourself to a delicious barbecue lunch at a local churrascaria.\n",
      "- **Explore the Markets**: Check out a local market for souvenirs and to experience the local culture.\n",
      "\n",
      "### Day 4: Outdoor Adventures\n",
      "- **Hiking in Tijuca National Park**: Spend a day hiking in Tijuca National Park, one of the largest urban rainforests in the world. Enjoy the lush greenery and waterfalls.\n",
      "- **Dinner at a Beachfront Restaurant**: End your day with a delicious dinner at a beachfront restaurant with fresh seafood.\n",
      "\n",
      "### Day 5: Relaxation and Departure\n",
      "- **Relax at Ipanema Beach**: Spend your last morning relaxing at Ipanema Beach, soaking up the sun.\n",
      "- **Last-minute Shopping**: Do some last-minute shopping at local boutiques.\n",
      "- **Departure**: Head to the airport for your flight home.\n",
      "\n",
      "Make sure to enjoy the vibrant culture, beautiful landscapes, and amazing food that Rio de Janeiro has to offer!\r\n"
     ]
    }
   ],
   "source": [
    "Console.WriteLine(await agent.RunAsync(\"I don't like that destination. Plan me another vacation.\",thread));"
   ]
  },
  {
   "cell_type": "markdown",
   "metadata": {},
   "source": [
    "\n---\n\n**Tuyên bố miễn trừ trách nhiệm**:  \nTài liệu này đã được dịch bằng dịch vụ dịch thuật AI [Co-op Translator](https://github.com/Azure/co-op-translator). Mặc dù chúng tôi cố gắng đảm bảo độ chính xác, xin lưu ý rằng các bản dịch tự động có thể chứa lỗi hoặc không chính xác. Tài liệu gốc bằng ngôn ngữ bản địa nên được coi là nguồn thông tin chính thức. Đối với các thông tin quan trọng, khuyến nghị sử dụng dịch vụ dịch thuật chuyên nghiệp bởi con người. Chúng tôi không chịu trách nhiệm cho bất kỳ sự hiểu lầm hoặc diễn giải sai nào phát sinh từ việc sử dụng bản dịch này.\n"
   ]
  }
 ],
 "metadata": {
  "kernelspec": {
   "display_name": ".NET (C#)",
   "language": "C#",
   "name": ".net-csharp"
  },
  "language_info": {
   "name": "polyglot-notebook"
  },
  "polyglot_notebook": {
   "kernelInfo": {
    "defaultKernelName": "csharp",
    "items": [
     {
      "aliases": [],
      "name": "csharp"
     }
    ]
   }
  },
  "coopTranslator": {
   "original_hash": "4afb07fc78332203123745f403bbc314",
   "translation_date": "2025-10-02T17:55:35+00:00",
   "source_file": "04-tool-use/code_samples/04-dotnet-agent-framework.ipynb",
   "language_code": "vi"
  }
 },
 "nbformat": 4,
 "nbformat_minor": 5
}