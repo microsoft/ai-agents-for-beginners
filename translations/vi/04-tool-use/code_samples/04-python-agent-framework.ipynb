{
 "cells": [
  {
   "cell_type": "markdown",
   "id": "8744544f",
   "metadata": {},
   "source": [
    "# 🛠️ Sử dụng Công Cụ Nâng Cao với Mô Hình GitHub (Python)\n",
    "\n",
    "## 📋 Mục Tiêu Học Tập\n",
    "\n",
    "Notebook này trình bày các mẫu tích hợp công cụ nâng cao sử dụng Microsoft Agent Framework với Mô Hình GitHub. Bạn sẽ học cách tạo, quản lý và điều phối nhiều công cụ để xây dựng các khả năng tác nhân phức tạp.\n",
    "\n",
    "**Những điều bạn sẽ thành thạo:**\n",
    "- 🔧 **Kiến Trúc Đa Công Cụ**: Xây dựng tác nhân với nhiều công cụ chuyên biệt\n",
    "- 🎯 **Logic Lựa Chọn Công Cụ**: Cách tác nhân chọn công cụ phù hợp cho từng nhiệm vụ\n",
    "- 📊 **Công Cụ Xử Lý Dữ Liệu**: Tạo công cụ xử lý các loại dữ liệu khác nhau\n",
    "- 🔗 **Kết Hợp Công Cụ**: Kết hợp công cụ để thực hiện các quy trình phức tạp\n",
    "\n",
    "## 🎯 Các Mẫu Công Cụ Chính\n",
    "\n",
    "### Nguyên Tắc Thiết Kế Công Cụ\n",
    "- **Trách Nhiệm Đơn Lẻ**: Mỗi công cụ có mục đích rõ ràng và tập trung\n",
    "- **An Toàn Kiểu Dữ Liệu**: Kiểu dữ liệu mạnh mẽ để thực thi công cụ đáng tin cậy\n",
    "- **Xử Lý Lỗi**: Mẫu thất bại và phục hồi linh hoạt\n",
    "- **Khả Năng Kết Hợp**: Công cụ hoạt động tốt cùng nhau\n",
    "\n",
    "### Tính Năng Công Cụ Nâng Cao\n",
    "- **Nhận Thức Ngữ Cảnh**: Công cụ hiểu ngữ cảnh cuộc trò chuyện\n",
    "- **Xác Thực Dữ Liệu**: Làm sạch đầu vào và xác thực đầu ra\n",
    "- **Tối Ưu Hiệu Suất**: Mẫu thực thi công cụ hiệu quả\n",
    "- **Khả Năng Mở Rộng**: Dễ dàng thêm các khả năng công cụ mới\n",
    "\n",
    "## 🔧 Kiến Trúc Kỹ Thuật\n",
    "\n",
    "### Thành Phần Cốt Lõi\n",
    "- **Microsoft Agent Framework**: Triển khai Python với hỗ trợ công cụ nâng cao\n",
    "- **Tích Hợp Mô Hình GitHub**: Truy cập mô hình ngôn ngữ hiệu suất cao\n",
    "- **Hệ Thống Đăng Ký Công Cụ**: Quản lý tổ chức các khả năng của tác nhân\n",
    "- **Mẫu Phục Hồi Lỗi**: Xử lý mạnh mẽ các lỗi thực thi công cụ\n",
    "\n",
    "### Quy Trình Tích Hợp Công Cụ\n",
    "```python\n",
    "User Request → Agent Analysis → Tool Selection → Tool Execution → Response Synthesis\n",
    "```\n",
    "\n",
    "## 🛠️ Các Loại Công Cụ Được Minh Họa\n",
    "\n",
    "### 1. **Công Cụ Tạo Dữ Liệu**\n",
    "- Trình tạo điểm đến ngẫu nhiên\n",
    "- Nhà cung cấp thông tin thời tiết  \n",
    "- Máy tính chi phí du lịch\n",
    "- Động cơ gợi ý hoạt động\n",
    "\n",
    "### 2. **Công Cụ Xử Lý**\n",
    "- Định dạng và xác thực văn bản\n",
    "- Tiện ích chuyển đổi dữ liệu\n",
    "- Chức năng phân tích nội dung\n",
    "- Công cụ cải thiện phản hồi\n",
    "\n",
    "### 3. **Công Cụ Tích Hợp**\n",
    "- Kết nối API bên ngoài\n",
    "- Thao tác hệ thống tệp\n",
    "- Giao diện truy vấn cơ sở dữ liệu\n",
    "- Tiện ích quét web\n",
    "\n",
    "## ⚙️ Yêu Cầu & Cài Đặt\n",
    "\n",
    "\n",
    "**Các Thư Viện Cần Thiết:**\n",
    "```bash\n",
    "\n",
    "pip install agent-framework-core -U\n",
    "```\n",
    "\n",
    "**Cấu Hình Môi Trường (tệp .env):**\n",
    "```env\n",
    "GITHUB_TOKEN=your_github_personal_access_token\n",
    "GITHUB_ENDPOINT=https://models.inference.ai.azure.com\n",
    "GITHUB_MODEL_ID=gpt-4o-mini\n",
    "```\n",
    "\n",
    "**API Tùy Chọn:**\n",
    "- Khóa API dịch vụ thời tiết (cho các công cụ thời tiết)\n",
    "- Truy cập API chuyển đổi tiền tệ\n",
    "- Thông tin đăng nhập dịch vụ du lịch\n",
    "\n",
    "## 🎨 Mẫu Thiết Kế\n",
    "\n",
    "### Mẫu Nhà Máy Công Cụ\n",
    "- Tạo và cấu hình công cụ tập trung\n",
    "- Thiết kế giao diện công cụ nhất quán\n",
    "- Đăng ký và khám phá công cụ dễ dàng\n",
    "\n",
    "### Mẫu Lệnh\n",
    "- Logic thực thi công cụ được đóng gói\n",
    "- Chức năng hoàn tác/làm lại cho các thao tác phức tạp\n",
    "- Ghi nhật ký kiểm toán cho việc sử dụng công cụ\n",
    "\n",
    "### Mẫu Quan Sát\n",
    "- Giám sát thực thi công cụ\n",
    "- Thu thập số liệu hiệu suất\n",
    "- Báo cáo lỗi và cảnh báo\n",
    "\n",
    "## 🚀 Các Thực Hành Tốt Nhất\n",
    "\n",
    "- **Tài Liệu Công Cụ**: Mô tả rõ ràng để tác nhân hiểu\n",
    "- **Xác Thực Đầu Vào**: Kiểm tra và làm sạch tham số mạnh mẽ\n",
    "- **Định Dạng Đầu Ra**: Phản hồi công cụ nhất quán, có thể phân tích\n",
    "- **Thông Báo Lỗi**: Thông tin lỗi hữu ích để gỡ lỗi\n",
    "- **Hiệu Suất**: Tối ưu hóa thực thi công cụ để tăng khả năng phản hồi\n",
    "\n",
    "Sẵn sàng xây dựng các tác nhân với khả năng công cụ mạnh mẽ? Hãy tạo ra điều gì đó tuyệt vời! ⚡\n"
   ]
  },
  {
   "cell_type": "code",
   "execution_count": null,
   "id": "59c0feeb",
   "metadata": {},
   "outputs": [],
   "source": [
    "! pip install agent-framework-core -U"
   ]
  },
  {
   "cell_type": "code",
   "execution_count": null,
   "id": "c0df8a52",
   "metadata": {},
   "outputs": [],
   "source": [
    "# � Import core dependencies for Agent Framework and tool integration\n",
    "# This sets up the essential libraries for building intelligent agents with tool capabilities\n",
    "\n",
    "import asyncio\n",
    "import os\n",
    "import json\n",
    "\n",
    "from dotenv import load_dotenv  # For loading environment variables securely\n",
    "from random import randint\n",
    "\n",
    "# These are the core components for building tool-enabled agents\n",
    "from agent_framework import ChatAgent           # Main agent class\n",
    "from agent_framework.openai import OpenAIChatClient  # OpenAI-compatible client"
   ]
  },
  {
   "cell_type": "code",
   "execution_count": null,
   "id": "24c10eb0",
   "metadata": {},
   "outputs": [],
   "source": [
    "load_dotenv()"
   ]
  },
  {
   "cell_type": "code",
   "execution_count": null,
   "id": "151e0314",
   "metadata": {},
   "outputs": [],
   "source": [
    "# 🔑 Environment variables verification\n",
    "# Ensure all required GitHub Models credentials are properly configured\n",
    "print(\"GITHUB_ENDPOINT:\", os.environ.get(\"GITHUB_ENDPOINT\"))\n",
    "print(\"GITHUB_TOKEN:\", \"***\" if os.environ.get(\"GITHUB_TOKEN\") else \"Not set\")\n",
    "print(\"GITHUB_MODEL_ID:\", os.environ.get(\"GITHUB_MODEL_ID\"))"
   ]
  },
  {
   "cell_type": "code",
   "execution_count": null,
   "id": "a6141584",
   "metadata": {},
   "outputs": [],
   "source": [
    "# 🧪 Test GitHub Models connectivity\n",
    "openai_chat_client = OpenAIChatClient(base_url=os.environ.get(\"GITHUB_ENDPOINT\"), api_key=os.environ.get(\"GITHUB_TOKEN\"), model_id=os.environ.get(\"GITHUB_MODEL_ID\"))"
   ]
  },
  {
   "cell_type": "code",
   "execution_count": null,
   "id": "a6507f83",
   "metadata": {},
   "outputs": [],
   "source": [
    "# 🛠️ Define travel planning tools for agent integration\n",
    "# These functions provide specific capabilities that the agent can invoke dynamically\n",
    "\n",
    "def get_random_destination() -> str:\n",
    "    \"\"\"\n",
    "    🎲 Random destination generator tool\n",
    "    Returns a randomly selected travel destination from curated list\n",
    "    Useful when customers need inspiration for their next vacation\n",
    "    \"\"\"\n",
    "    destinations = [\n",
    "        \"Paris, France\",\n",
    "        \"Tokyo, Japan\", \n",
    "        \"New York City, USA\",\n",
    "        \"London, England\",\n",
    "        \"Rome, Italy\",\n",
    "        \"Sydney, Australia\",\n",
    "        \"Dubai, UAE\",\n",
    "        \"Barcelona, Spain\",\n",
    "        \"Bangkok, Thailand\",\n",
    "        \"Amsterdam, Netherlands\",\n",
    "        \"Istanbul, Turkey\",\n",
    "        \"Prague, Czech Republic\",\n",
    "        \"Santorini, Greece\",\n",
    "        \"Reykjavik, Iceland\",\n",
    "        \"Marrakech, Morocco\",\n",
    "        \"Cape Town, South Africa\",\n",
    "        \"Rio de Janeiro, Brazil\",\n",
    "        \"Bali, Indonesia\"\n",
    "    ]\n",
    "    # 🎯 Return random selection from the curated destination list\n",
    "    return destinations[randint(0, len(destinations) - 1)]"
   ]
  },
  {
   "cell_type": "code",
   "execution_count": null,
   "id": "5d4f0568",
   "metadata": {},
   "outputs": [],
   "source": [
    "# 🔗 Initialize GitHub Models chat client for agent communication\n",
    "# Creates the primary interface between the agent and the language model\n",
    "openai_chat_client = OpenAIChatClient(base_url=os.environ.get(\"GITHUB_ENDPOINT\"), api_key=os.environ.get(\"GITHUB_TOKEN\"), model_id=os.environ.get(\"GITHUB_MODEL_ID\"))"
   ]
  },
  {
   "cell_type": "code",
   "execution_count": null,
   "id": "751668c5",
   "metadata": {},
   "outputs": [],
   "source": [
    "# 🤖 Configure travel agent identity and behavioral instructions\n",
    "# Define the agent's personality, capabilities, and operational guidelines\n",
    "\n",
    "AGENT_NAME = \"TravelAgent\"\n",
    "\n",
    "AGENT_INSTRUCTIONS = \"\"\"You are a helpful AI Agent that can help plan vacations for customers at random destinations\n",
    "\"\"\""
   ]
  },
  {
   "cell_type": "code",
   "execution_count": null,
   "id": "be18ac4f",
   "metadata": {},
   "outputs": [],
   "source": [
    "agent = ChatAgent(\n",
    "        name = AGENT_NAME,\n",
    "        chat_client=openai_chat_client,\n",
    "        instructions=AGENT_INSTRUCTIONS,\n",
    "        tools=[get_random_destination]\n",
    ")"
   ]
  },
  {
   "cell_type": "code",
   "execution_count": null,
   "id": "772e9481",
   "metadata": {},
   "outputs": [],
   "source": [
    "thread = agent.get_new_thread()"
   ]
  },
  {
   "cell_type": "code",
   "execution_count": null,
   "id": "a731b547",
   "metadata": {},
   "outputs": [],
   "source": [
    "response1 = await agent.run(\"Plan me a day trip\",thread= thread)"
   ]
  },
  {
   "cell_type": "code",
   "execution_count": null,
   "id": "7d3fe00a",
   "metadata": {},
   "outputs": [],
   "source": [
    "\n",
    "last_message = response1.messages[-1]\n",
    "text_content = last_message.contents[0].text\n",
    "print(\"Travel plan:\")\n",
    "print(text_content)"
   ]
  },
  {
   "cell_type": "markdown",
   "metadata": {},
   "source": [
    "\n---\n\n**Tuyên bố miễn trừ trách nhiệm**:  \nTài liệu này đã được dịch bằng dịch vụ dịch thuật AI [Co-op Translator](https://github.com/Azure/co-op-translator). Mặc dù chúng tôi cố gắng đảm bảo độ chính xác, xin lưu ý rằng các bản dịch tự động có thể chứa lỗi hoặc không chính xác. Tài liệu gốc bằng ngôn ngữ bản địa nên được coi là nguồn thông tin chính thức. Đối với các thông tin quan trọng, khuyến nghị sử dụng dịch vụ dịch thuật chuyên nghiệp bởi con người. Chúng tôi không chịu trách nhiệm cho bất kỳ sự hiểu lầm hoặc diễn giải sai nào phát sinh từ việc sử dụng bản dịch này.\n"
   ]
  }
 ],
 "metadata": {
  "kernelspec": {
   "display_name": "agentenv",
   "language": "python",
   "name": "python3"
  },
  "language_info": {
   "codemirror_mode": {
    "name": "ipython",
    "version": 3
   },
   "file_extension": ".py",
   "mimetype": "text/x-python",
   "name": "python",
   "nbconvert_exporter": "python",
   "pygments_lexer": "ipython3",
   "version": "3.12.10"
  },
  "polyglot_notebook": {
   "kernelInfo": {
    "defaultKernelName": "csharp",
    "items": [
     {
      "aliases": [],
      "name": "csharp"
     }
    ]
   }
  },
  "coopTranslator": {
   "original_hash": "42966ddac53cebaf0ac1ce33b2ee7059",
   "translation_date": "2025-10-02T17:54:00+00:00",
   "source_file": "04-tool-use/code_samples/04-python-agent-framework.ipynb",
   "language_code": "vi"
  }
 },
 "nbformat": 4,
 "nbformat_minor": 5
}