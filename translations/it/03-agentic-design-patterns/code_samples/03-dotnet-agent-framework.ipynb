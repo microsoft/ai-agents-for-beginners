{
 "cells": [
  {
   "cell_type": "markdown",
   "id": "d6058fa4",
   "metadata": {},
   "source": [
    "# 🎨 Modelli di Design Agentico con GitHub Models (.NET)\n",
    "\n",
    "## 📋 Obiettivi di Apprendimento\n",
    "\n",
    "Questo notebook illustra modelli di design di livello aziendale per la creazione di agenti intelligenti utilizzando il Microsoft Agent Framework in .NET con l'integrazione di GitHub Models. Imparerai modelli professionali e approcci architetturali che rendono gli agenti pronti per la produzione, manutenibili e scalabili.\n",
    "\n",
    "**Modelli di Design Aziendali:**\n",
    "- 🏭 **Factory Pattern**: Creazione standardizzata di agenti con dependency injection\n",
    "- 🔧 **Builder Pattern**: Configurazione e impostazione fluente degli agenti\n",
    "- 🧵 **Modelli Thread-Safe**: Gestione concorrente delle conversazioni\n",
    "- 📋 **Repository Pattern**: Gestione organizzata degli strumenti e delle capacità\n",
    "\n",
    "## 🎯 Vantaggi Architetturali Specifici di .NET\n",
    "\n",
    "### Funzionalità Aziendali\n",
    "- **Tipizzazione Forte**: Validazione durante la compilazione e supporto IntelliSense\n",
    "- **Dependency Injection**: Integrazione con il contenitore DI integrato\n",
    "- **Gestione della Configurazione**: Modelli IConfiguration e Options\n",
    "- **Async/Await**: Supporto di prima classe per la programmazione asincrona\n",
    "\n",
    "### Modelli Pronti per la Produzione\n",
    "- **Integrazione del Logging**: Supporto ILogger e logging strutturato\n",
    "- **Controlli di Salute**: Monitoraggio e diagnostica integrati\n",
    "- **Validazione della Configurazione**: Tipizzazione forte con annotazioni dei dati\n",
    "- **Gestione degli Errori**: Gestione strutturata delle eccezioni\n",
    "\n",
    "## 🔧 Architettura Tecnica\n",
    "\n",
    "### Componenti Core di .NET\n",
    "- **Microsoft.Extensions.AI**: Astrazioni unificate per i servizi AI\n",
    "- **Microsoft.Agents.AI**: Framework di orchestrazione degli agenti aziendali\n",
    "- **Integrazione con GitHub Models**: Modelli di client API ad alte prestazioni\n",
    "- **Sistema di Configurazione**: Integrazione di appsettings.json e ambiente\n",
    "\n",
    "### Implementazione dei Modelli di Design\n",
    "```csharp\n",
    "IServiceCollection → Agent Builder → Configuration → Tool Registry → AI Agent\n",
    "```\n",
    "\n",
    "## 🏗️ Modelli Aziendali Dimostrati\n",
    "\n",
    "### 1. **Modelli Creazionali**\n",
    "- **Agent Factory**: Creazione centralizzata di agenti con configurazione coerente\n",
    "- **Builder Pattern**: API fluente per configurazioni complesse degli agenti\n",
    "- **Singleton Pattern**: Gestione delle risorse e della configurazione condivisa\n",
    "- **Dependency Injection**: Accoppiamento debole e testabilità\n",
    "\n",
    "### 2. **Modelli Comportamentali**\n",
    "- **Strategy Pattern**: Strategie intercambiabili per l'esecuzione degli strumenti\n",
    "- **Command Pattern**: Operazioni degli agenti incapsulate con undo/redo\n",
    "- **Observer Pattern**: Gestione del ciclo di vita degli agenti basata su eventi\n",
    "- **Template Method**: Flussi di lavoro standardizzati per l'esecuzione degli agenti\n",
    "\n",
    "### 3. **Modelli Strutturali**\n",
    "- **Adapter Pattern**: Livello di integrazione API di GitHub Models\n",
    "- **Decorator Pattern**: Potenziamento delle capacità degli agenti\n",
    "- **Facade Pattern**: Interfacce semplificate per l'interazione con gli agenti\n",
    "- **Proxy Pattern**: Lazy loading e caching per migliorare le prestazioni\n",
    "\n",
    "## ⚙️ Prerequisiti e Configurazione\n",
    "\n",
    "**Ambiente di Sviluppo:**\n",
    "- SDK .NET 9.0 o superiore\n",
    "- Visual Studio 2022 o VS Code con estensione C#\n",
    "- Accesso all'API di GitHub Models\n",
    "\n",
    "**Dipendenze NuGet:**\n",
    "```xml\n",
    "<PackageReference Include=\"Microsoft.Extensions.AI\" Version=\"9.9.0\" />\n",
    "<PackageReference Include=\"Microsoft.Extensions.AI.OpenAI\" Version=\"9.9.0-preview.1.25458.4\" />\n",
    "<PackageReference Include=\"DotNetEnv\" Version=\"3.1.1\" />\n",
    "```\n",
    "\n",
    "**Configurazione (file .env):**\n",
    "```env\n",
    "GITHUB_TOKEN=your_github_personal_access_token\n",
    "GITHUB_ENDPOINT=https://models.inference.ai.azure.com\n",
    "GITHUB_MODEL_ID=gpt-4o-mini\n",
    "```\n",
    "\n",
    "## 📚 Principi di Design in .NET\n",
    "\n",
    "### Principi SOLID\n",
    "- **Single Responsibility**: Ogni componente ha uno scopo chiaro\n",
    "- **Open/Closed**: Estensibile senza modifiche\n",
    "- **Sostituzione di Liskov**: Implementazioni degli strumenti basate su interfacce\n",
    "- **Segregazione delle Interfacce**: Interfacce mirate e coese\n",
    "- **Inversione delle Dipendenze**: Dipendenza da astrazioni, non da implementazioni concrete\n",
    "\n",
    "### Architettura Pulita\n",
    "- **Livello di Dominio**: Astrazioni principali per agenti e strumenti\n",
    "- **Livello Applicativo**: Orchestrazione degli agenti e flussi di lavoro\n",
    "- **Livello Infrastrutturale**: Integrazione con GitHub Models e servizi esterni\n",
    "- **Livello di Presentazione**: Interazione con l'utente e formattazione delle risposte\n",
    "\n",
    "## 🔒 Considerazioni Aziendali\n",
    "\n",
    "### Sicurezza\n",
    "- **Gestione delle Credenziali**: Gestione sicura delle chiavi API con IConfiguration\n",
    "- **Validazione dell'Input**: Tipizzazione forte e validazione con annotazioni dei dati\n",
    "- **Sanificazione dell'Output**: Elaborazione e filtraggio sicuro delle risposte\n",
    "- **Audit Logging**: Tracciamento completo delle operazioni\n",
    "\n",
    "### Prestazioni\n",
    "- **Modelli Asincroni**: Operazioni I/O non bloccanti\n",
    "- **Pooling delle Connessioni**: Gestione efficiente dei client HTTP\n",
    "- **Caching**: Caching delle risposte per migliorare le prestazioni\n",
    "- **Gestione delle Risorse**: Modelli corretti di eliminazione e pulizia\n",
    "\n",
    "### Scalabilità\n",
    "- **Thread Safety**: Supporto per l'esecuzione concorrente degli agenti\n",
    "- **Pooling delle Risorse**: Utilizzo efficiente delle risorse\n",
    "- **Gestione del Carico**: Limitazione della velocità e gestione della pressione\n",
    "- **Monitoraggio**: Metriche di prestazioni e controlli di salute\n",
    "\n",
    "## 🚀 Distribuzione in Produzione\n",
    "\n",
    "- **Gestione della Configurazione**: Impostazioni specifiche per l'ambiente\n",
    "- **Strategia di Logging**: Logging strutturato con ID di correlazione\n",
    "- **Gestione degli Errori**: Gestione globale delle eccezioni con recupero adeguato\n",
    "- **Monitoraggio**: Application Insights e contatori di prestazioni\n",
    "- **Testing**: Test unitari, test di integrazione e modelli di test di carico\n",
    "\n",
    "Pronto a costruire agenti intelligenti di livello aziendale con .NET? Progettiamo qualcosa di robusto! 🏢✨\n"
   ]
  },
  {
   "cell_type": "code",
   "execution_count": 1,
   "id": "2770ac5c",
   "metadata": {
    "language_info": {
     "name": "polyglot-notebook"
    },
    "polyglot_notebook": {
     "kernelName": "csharp"
    }
   },
   "outputs": [
    {
     "data": {
      "text/html": [
       "<div><div></div><div></div><div><strong>Installed Packages</strong><ul><li><span>Microsoft.Extensions.AI, 9.9.1</span></li></ul></div></div>"
      ]
     },
     "metadata": {},
     "output_type": "display_data"
    }
   ],
   "source": [
    "#r \"nuget: Microsoft.Extensions.AI, 9.9.1\""
   ]
  },
  {
   "cell_type": "code",
   "execution_count": null,
   "id": "984ff6cd",
   "metadata": {
    "language_info": {
     "name": "polyglot-notebook"
    },
    "polyglot_notebook": {
     "kernelName": "csharp"
    }
   },
   "outputs": [
    {
     "data": {
      "text/html": [
       "<div><div></div><div></div><div><strong>Installed Packages</strong><ul><li><span>Microsoft.Agents.AI.OpenAI, 1.0.0-preview.251001.2</span></li></ul></div></div>"
      ]
     },
     "metadata": {},
     "output_type": "display_data"
    }
   ],
   "source": [
    "#r \"nuget: Microsoft.Agents.AI.OpenAI, 1.0.0-preview.251001.3\""
   ]
  },
  {
   "cell_type": "code",
   "execution_count": null,
   "id": "0ab71360",
   "metadata": {
    "language_info": {
     "name": "polyglot-notebook"
    },
    "polyglot_notebook": {
     "kernelName": "csharp"
    }
   },
   "outputs": [
    {
     "data": {
      "text/html": [
       "<div><div></div><div></div><div><strong>Installed Packages</strong><ul><li><span>microsoft.agents.ai, 1.0.0-preview.251001.2</span></li></ul></div></div>"
      ]
     },
     "metadata": {},
     "output_type": "display_data"
    }
   ],
   "source": [
    "\n",
    "\n",
    "#r \"nuget: Microsoft.Agents.AI, 1.0.0-preview.251001.3\""
   ]
  },
  {
   "cell_type": "code",
   "execution_count": 4,
   "id": "4ab7b15d",
   "metadata": {
    "language_info": {
     "name": "polyglot-notebook"
    },
    "polyglot_notebook": {
     "kernelName": "csharp"
    }
   },
   "outputs": [],
   "source": [
    "// #r \"nuget: Microsoft.Extensions.AI.OpenAI, 9.9.0-preview.1.25458.4\""
   ]
  },
  {
   "cell_type": "code",
   "execution_count": 5,
   "id": "3fa8aa21",
   "metadata": {
    "language_info": {
     "name": "polyglot-notebook"
    },
    "polyglot_notebook": {
     "kernelName": "csharp"
    }
   },
   "outputs": [
    {
     "data": {
      "text/html": [
       "<div><div></div><div></div><div><strong>Installed Packages</strong><ul><li><span>DotNetEnv, 3.1.1</span></li></ul></div></div>"
      ]
     },
     "metadata": {},
     "output_type": "display_data"
    }
   ],
   "source": [
    "#r \"nuget: DotNetEnv, 3.1.1\""
   ]
  },
  {
   "cell_type": "code",
   "execution_count": 6,
   "id": "fc8ee8ea",
   "metadata": {
    "language_info": {
     "name": "polyglot-notebook"
    },
    "polyglot_notebook": {
     "kernelName": "csharp"
    }
   },
   "outputs": [],
   "source": [
    "using System;\n",
    "using System.ComponentModel;\n",
    "using System.ClientModel;\n",
    "\n",
    "using Microsoft.Extensions.AI;\n",
    "using Microsoft.Agents.AI;\n",
    "using OpenAI;"
   ]
  },
  {
   "cell_type": "code",
   "execution_count": 7,
   "id": "699b1c83",
   "metadata": {
    "language_info": {
     "name": "polyglot-notebook"
    },
    "polyglot_notebook": {
     "kernelName": "csharp"
    }
   },
   "outputs": [],
   "source": [
    " using DotNetEnv;"
   ]
  },
  {
   "cell_type": "code",
   "execution_count": 8,
   "id": "daa649a0",
   "metadata": {
    "language_info": {
     "name": "polyglot-notebook"
    },
    "polyglot_notebook": {
     "kernelName": "csharp"
    }
   },
   "outputs": [],
   "source": [
    "Env.Load(\"../../../.env\");"
   ]
  },
  {
   "cell_type": "code",
   "execution_count": 9,
   "id": "29661a90",
   "metadata": {
    "language_info": {
     "name": "polyglot-notebook"
    },
    "polyglot_notebook": {
     "kernelName": "csharp"
    }
   },
   "outputs": [],
   "source": [
    "[Description(\"Provides a random vacation destination.\")]\n",
    "static string GetRandomDestination()\n",
    "{\n",
    "    var destinations = new List<string>\n",
    "    {\n",
    "        \"Paris, France\",\n",
    "        \"Tokyo, Japan\",\n",
    "        \"New York City, USA\",\n",
    "        \"Sydney, Australia\",\n",
    "        \"Rome, Italy\",\n",
    "        \"Barcelona, Spain\",\n",
    "        \"Cape Town, South Africa\",\n",
    "        \"Rio de Janeiro, Brazil\",\n",
    "        \"Bangkok, Thailand\",\n",
    "        \"Vancouver, Canada\"\n",
    "    };\n",
    "\n",
    "    var random = new Random();\n",
    "    int index = random.Next(destinations.Count);\n",
    "    return destinations[index];\n",
    "}"
   ]
  },
  {
   "cell_type": "code",
   "execution_count": 10,
   "id": "d2ed1f8b",
   "metadata": {
    "language_info": {
     "name": "polyglot-notebook"
    },
    "polyglot_notebook": {
     "kernelName": "csharp"
    }
   },
   "outputs": [],
   "source": [
    "var github_endpoint = Environment.GetEnvironmentVariable(\"GITHUB_ENDPOINT\") ?? throw new InvalidOperationException(\"GITHUB_ENDPOINT is not set.\");\n",
    "var github_model_id = Environment.GetEnvironmentVariable(\"GITHUB_MODEL_ID\") ?? \"gpt-4o-mini\";\n",
    "var github_token = Environment.GetEnvironmentVariable(\"GITHUB_TOKEN\") ?? throw new InvalidOperationException(\"GITHUB_TOKEN is not set.\");"
   ]
  },
  {
   "cell_type": "code",
   "execution_count": 11,
   "id": "c36c73e1",
   "metadata": {
    "language_info": {
     "name": "polyglot-notebook"
    },
    "polyglot_notebook": {
     "kernelName": "csharp"
    }
   },
   "outputs": [],
   "source": [
    "var openAIOptions = new OpenAIClientOptions()\n",
    "{\n",
    "    Endpoint= new Uri(github_endpoint)\n",
    "};"
   ]
  },
  {
   "cell_type": "code",
   "execution_count": 12,
   "id": "6d94ff10",
   "metadata": {
    "language_info": {
     "name": "polyglot-notebook"
    },
    "polyglot_notebook": {
     "kernelName": "csharp"
    }
   },
   "outputs": [],
   "source": [
    "\n",
    "var openAIClient = new OpenAIClient(new ApiKeyCredential(github_token), openAIOptions);"
   ]
  },
  {
   "cell_type": "code",
   "execution_count": 13,
   "id": "fe32b57a",
   "metadata": {
    "language_info": {
     "name": "polyglot-notebook"
    },
    "polyglot_notebook": {
     "kernelName": "csharp"
    }
   },
   "outputs": [],
   "source": [
    "AIAgent agent = new OpenAIClient(new ApiKeyCredential(github_token), openAIOptions).GetChatClient(github_model_id).CreateAIAgent(\n",
    "    instructions:\"You are a helpful AI Agent that can help plan vacations for customers at random destinations\", tools: [AIFunctionFactory.Create((Func<string>)GetRandomDestination)]);"
   ]
  },
  {
   "cell_type": "code",
   "execution_count": 14,
   "metadata": {
    "language_info": {
     "name": "polyglot-notebook"
    },
    "polyglot_notebook": {
     "kernelName": "csharp"
    }
   },
   "outputs": [],
   "source": [
    "AgentThread thread = agent.GetNewThread();"
   ]
  },
  {
   "cell_type": "code",
   "execution_count": 15,
   "id": "5e455aff",
   "metadata": {
    "language_info": {
     "name": "polyglot-notebook"
    },
    "polyglot_notebook": {
     "kernelName": "csharp"
    }
   },
   "outputs": [
    {
     "name": "stdout",
     "output_type": "stream",
     "text": [
      "How about a day trip to Vancouver, Canada? Here's a suggested itinerary for your day:\n",
      "\n",
      "### Morning\n",
      "- **Breakfast at a Local Cafe**: Start your day with a delicious breakfast at a cozy café like **Jam Cafe** or **Cafe Medina**.\n",
      "- **Stanley Park**: After breakfast, head to Stanley Park. You can rent a bike and ride along the seawall, enjoying beautiful views of the city and the water.\n",
      "\n",
      "### Afternoon\n",
      "- **Lunch in Gastown**: Make your way to Gastown for lunch. Try a local favorite like **The Flying Pig** or **Noodle Box**.\n",
      "- **Explore Gastown**: After lunch, walk around Gastown to see the iconic Steam Clock and browse the unique shops and boutiques.\n",
      "\n",
      "### Late Afternoon\n",
      "- **Granville Island**: Visit Granville Island, where you can stroll through the public market, sample local foods, and enjoy artisan shops.\n",
      "- **False Creek**: Take a walk along False Creek and enjoy the waterfront views.\n",
      "\n",
      "### Evening\n",
      "- **Dinner at a Waterfront Restaurant**: End your day with dinner at a waterfront restaurant like **The Boathouse** or **Lift Bar Grill View** for great food and a view of the sunset.\n",
      "- **Optional: Sunset Cruise**: If you're up for it, consider taking a sunset cruise for a different perspective of the city.\n",
      "\n",
      "### Tips\n",
      "- Make sure to check the weather beforehand!\n",
      "- Consider public transport or ride-sharing to navigate the city easily.\n",
      "\n",
      "Enjoy your day trip to Vancouver!\r\n"
     ]
    }
   ],
   "source": [
    "Console.WriteLine(await agent.RunAsync(\"Plan me a day trip\",thread));"
   ]
  },
  {
   "cell_type": "code",
   "execution_count": 16,
   "id": "592ae1bb",
   "metadata": {
    "language_info": {
     "name": "polyglot-notebook"
    },
    "polyglot_notebook": {
     "kernelName": "csharp"
    }
   },
   "outputs": [
    {
     "name": "stdout",
     "output_type": "stream",
     "text": [
      "How about a vacation to New York City, USA? Here's a suggested itinerary for your trip:\n",
      "\n",
      "### Day 1: Arrival in New York City\n",
      "- **Check-In**: Arrive and check in to your hotel.\n",
      "- **Central Park**: Take a leisurely stroll through Central Park. Consider renting a bike or taking a carriage ride.\n",
      "- **Evening**: Enjoy dinner at a classic NYC restaurant, such as **Katz's Delicatessen** or **Carbone**.\n",
      "\n",
      "### Day 2: Iconic Landmarks\n",
      "- **Morning**: Breakfast at a local diner.\n",
      "- **Statue of Liberty & Ellis Island**: Take a ferry to visit these iconic landmarks.\n",
      "- **Afternoon**: Explore Wall Street and visit the 9/11 Memorial & Museum.\n",
      "- **Evening**: Dinner in the Financial District followed by a walk across the Brooklyn Bridge at sunset.\n",
      "\n",
      "### Day 3: Culture and Arts\n",
      "- **Morning**: Visit The Metropolitan Museum of Art (The Met) and spend a few hours exploring its vast collection.\n",
      "- **Afternoon**: Head to Times Square for lunch and the buzz of the city.\n",
      "- **Broadway Show**: Catch a Broadway show in the evening. Be sure to book tickets in advance!\n",
      "\n",
      "### Day 4: Explore Neighborhoods\n",
      "- **Morning**: Head to SoHo for brunch and shopping in its chic boutiques.\n",
      "- **Afternoon**: Explore Greenwich Village, known for its bohemian atmosphere and history.\n",
      "- **Evening**: Enjoy dinner in the West Village, perhaps at **Buvette** or **Minetta Tavern**.\n",
      "\n",
      "### Day 5: Departure\n",
      "- **Last-minute Shopping**: Spend your last morning shopping at Fifth Avenue or head to Chelsea Market for food and souvenirs.\n",
      "- **Check-Out**: Depart for your journey home.\n",
      "\n",
      "### Tips\n",
      "- Utilize the subway for efficient travel around the city.\n",
      "- Make reservations for popular restaurants and attractions ahead of time!\n",
      "\n",
      "Enjoy your trip to New York City!\r\n"
     ]
    }
   ],
   "source": [
    "Console.WriteLine(await agent.RunAsync(\"I don't like that destination. Plan me another vacation.\",thread));"
   ]
  },
  {
   "cell_type": "markdown",
   "metadata": {},
   "source": [
    "\n---\n\n**Disclaimer**:  \nQuesto documento è stato tradotto utilizzando il servizio di traduzione AI [Co-op Translator](https://github.com/Azure/co-op-translator). Sebbene ci impegniamo per garantire l'accuratezza, si prega di notare che le traduzioni automatiche possono contenere errori o imprecisioni. Il documento originale nella sua lingua nativa dovrebbe essere considerato la fonte autorevole. Per informazioni critiche, si raccomanda una traduzione professionale effettuata da un traduttore umano. Non siamo responsabili per eventuali incomprensioni o interpretazioni errate derivanti dall'uso di questa traduzione.\n"
   ]
  }
 ],
 "metadata": {
  "kernelspec": {
   "display_name": ".NET (C#)",
   "language": "C#",
   "name": ".net-csharp"
  },
  "language_info": {
   "name": "polyglot-notebook"
  },
  "polyglot_notebook": {
   "kernelInfo": {
    "defaultKernelName": "csharp",
    "items": [
     {
      "aliases": [],
      "name": "csharp"
     }
    ]
   }
  },
  "coopTranslator": {
   "original_hash": "070c1d8985b3dc6e6d977f3e891037f1",
   "translation_date": "2025-10-02T14:39:35+00:00",
   "source_file": "03-agentic-design-patterns/code_samples/03-dotnet-agent-framework.ipynb",
   "language_code": "it"
  }
 },
 "nbformat": 4,
 "nbformat_minor": 5
}