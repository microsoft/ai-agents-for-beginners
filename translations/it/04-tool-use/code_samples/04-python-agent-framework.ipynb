{
 "cells": [
  {
   "cell_type": "markdown",
   "id": "8744544f",
   "metadata": {},
   "source": [
    "# 🛠️ Uso Avanzato degli Strumenti con i Modelli GitHub (Python)\n",
    "\n",
    "## 📋 Obiettivi di Apprendimento\n",
    "\n",
    "Questo notebook dimostra modelli avanzati di integrazione degli strumenti utilizzando il Microsoft Agent Framework con i Modelli GitHub. Imparerai a creare, gestire e orchestrare più strumenti per costruire capacità sofisticate per gli agenti.\n",
    "\n",
    "**Cosa Imparerai:**\n",
    "- 🔧 **Architettura Multi-Strumento**: Creare agenti con strumenti specializzati multipli\n",
    "- 🎯 **Logica di Selezione degli Strumenti**: Come gli agenti scelgono lo strumento giusto per ogni compito\n",
    "- 📊 **Strumenti di Elaborazione Dati**: Creare strumenti che gestiscono diversi tipi di dati\n",
    "- 🔗 **Composizione degli Strumenti**: Combinare strumenti per flussi di lavoro complessi\n",
    "\n",
    "## 🎯 Modelli Chiave degli Strumenti\n",
    "\n",
    "### Principi di Progettazione degli Strumenti\n",
    "- **Responsabilità Singola**: Ogni strumento ha uno scopo chiaro e mirato\n",
    "- **Sicurezza dei Tipi**: Tipizzazione forte per un'esecuzione affidabile degli strumenti\n",
    "- **Gestione degli Errori**: Modelli di fallimento e recupero gestiti con grazia\n",
    "- **Componibilità**: Strumenti che funzionano bene insieme\n",
    "\n",
    "### Funzionalità Avanzate degli Strumenti\n",
    "- **Consapevolezza del Contesto**: Strumenti che comprendono il contesto della conversazione\n",
    "- **Validazione dei Dati**: Sanitizzazione degli input e validazione degli output\n",
    "- **Ottimizzazione delle Prestazioni**: Modelli di esecuzione degli strumenti efficienti\n",
    "- **Estensibilità**: Aggiunta facile di nuove capacità agli strumenti\n",
    "\n",
    "## 🔧 Architettura Tecnica\n",
    "\n",
    "### Componenti Principali\n",
    "- **Microsoft Agent Framework**: Implementazione in Python con supporto avanzato per gli strumenti\n",
    "- **Integrazione con Modelli GitHub**: Accesso a modelli linguistici ad alte prestazioni\n",
    "- **Sistema di Registrazione degli Strumenti**: Gestione organizzata delle capacità degli agenti\n",
    "- **Modelli di Recupero dagli Errori**: Gestione robusta dei fallimenti nell'esecuzione degli strumenti\n",
    "\n",
    "### Flusso di Integrazione degli Strumenti\n",
    "```python\n",
    "User Request → Agent Analysis → Tool Selection → Tool Execution → Response Synthesis\n",
    "```\n",
    "\n",
    "## 🛠️ Categorie di Strumenti Dimostrate\n",
    "\n",
    "### 1. **Strumenti di Generazione Dati**\n",
    "- Generatore casuale di destinazioni\n",
    "- Fornitore di informazioni meteorologiche  \n",
    "- Calcolatore dei costi di viaggio\n",
    "- Motore di raccomandazione per attività\n",
    "\n",
    "### 2. **Strumenti di Elaborazione**\n",
    "- Formattazione e validazione del testo\n",
    "- Utilità di trasformazione dei dati\n",
    "- Funzioni di analisi dei contenuti\n",
    "- Strumenti di miglioramento delle risposte\n",
    "\n",
    "### 3. **Strumenti di Integrazione**\n",
    "- Connettori API esterni\n",
    "- Operazioni sul file system\n",
    "- Interfacce di query per database\n",
    "- Utilità di web scraping\n",
    "\n",
    "## ⚙️ Prerequisiti e Configurazione\n",
    "\n",
    "\n",
    "**Dipendenze Necessarie:**\n",
    "```bash\n",
    "\n",
    "pip install agent-framework-core -U\n",
    "```\n",
    "\n",
    "**Configurazione dell'Ambiente (.env file):**\n",
    "```env\n",
    "GITHUB_TOKEN=your_github_personal_access_token\n",
    "GITHUB_ENDPOINT=https://models.inference.ai.azure.com\n",
    "GITHUB_MODEL_ID=gpt-4o-mini\n",
    "```\n",
    "\n",
    "**API Opzionali:**\n",
    "- Chiave API del servizio meteorologico (per strumenti meteo)\n",
    "- Accesso API per conversione di valuta\n",
    "- Credenziali del servizio di informazioni sui viaggi\n",
    "\n",
    "## 🎨 Modelli di Progettazione\n",
    "\n",
    "### Modello Factory per Strumenti\n",
    "- Creazione e configurazione centralizzata degli strumenti\n",
    "- Design coerente dell'interfaccia degli strumenti\n",
    "- Registrazione e scoperta degli strumenti semplificate\n",
    "\n",
    "### Modello Command\n",
    "- Logica di esecuzione degli strumenti incapsulata\n",
    "- Funzionalità di annullamento/rifacimento per operazioni complesse\n",
    "- Registrazione delle attività per l'uso degli strumenti\n",
    "\n",
    "### Modello Observer\n",
    "- Monitoraggio dell'esecuzione degli strumenti\n",
    "- Raccolta di metriche sulle prestazioni\n",
    "- Segnalazione degli errori e invio di avvisi\n",
    "\n",
    "## 🚀 Migliori Pratiche\n",
    "\n",
    "- **Documentazione degli Strumenti**: Descrizioni chiare per la comprensione da parte degli agenti\n",
    "- **Validazione degli Input**: Controllo robusto dei parametri e sanitizzazione\n",
    "- **Formattazione degli Output**: Risposte degli strumenti coerenti e facilmente analizzabili\n",
    "- **Messaggi di Errore**: Informazioni utili sugli errori per il debugging\n",
    "- **Prestazioni**: Esecuzione ottimizzata degli strumenti per una maggiore reattività\n",
    "\n",
    "Pronto a costruire agenti con capacità avanzate degli strumenti? Creiamo qualcosa di straordinario! ⚡\n"
   ]
  },
  {
   "cell_type": "code",
   "execution_count": null,
   "id": "59c0feeb",
   "metadata": {},
   "outputs": [],
   "source": [
    "! pip install agent-framework-core -U"
   ]
  },
  {
   "cell_type": "code",
   "execution_count": null,
   "id": "c0df8a52",
   "metadata": {},
   "outputs": [],
   "source": [
    "# � Import core dependencies for Agent Framework and tool integration\n",
    "# This sets up the essential libraries for building intelligent agents with tool capabilities\n",
    "\n",
    "import asyncio\n",
    "import os\n",
    "import json\n",
    "\n",
    "from dotenv import load_dotenv  # For loading environment variables securely\n",
    "from random import randint\n",
    "\n",
    "# These are the core components for building tool-enabled agents\n",
    "from agent_framework import ChatAgent           # Main agent class\n",
    "from agent_framework.openai import OpenAIChatClient  # OpenAI-compatible client"
   ]
  },
  {
   "cell_type": "code",
   "execution_count": null,
   "id": "24c10eb0",
   "metadata": {},
   "outputs": [],
   "source": [
    "load_dotenv()"
   ]
  },
  {
   "cell_type": "code",
   "execution_count": null,
   "id": "151e0314",
   "metadata": {},
   "outputs": [],
   "source": [
    "# 🔑 Environment variables verification\n",
    "# Ensure all required GitHub Models credentials are properly configured\n",
    "print(\"GITHUB_ENDPOINT:\", os.environ.get(\"GITHUB_ENDPOINT\"))\n",
    "print(\"GITHUB_TOKEN:\", \"***\" if os.environ.get(\"GITHUB_TOKEN\") else \"Not set\")\n",
    "print(\"GITHUB_MODEL_ID:\", os.environ.get(\"GITHUB_MODEL_ID\"))"
   ]
  },
  {
   "cell_type": "code",
   "execution_count": null,
   "id": "a6141584",
   "metadata": {},
   "outputs": [],
   "source": [
    "# 🧪 Test GitHub Models connectivity\n",
    "openai_chat_client = OpenAIChatClient(base_url=os.environ.get(\"GITHUB_ENDPOINT\"), api_key=os.environ.get(\"GITHUB_TOKEN\"), model_id=os.environ.get(\"GITHUB_MODEL_ID\"))"
   ]
  },
  {
   "cell_type": "code",
   "execution_count": null,
   "id": "a6507f83",
   "metadata": {},
   "outputs": [],
   "source": [
    "# 🛠️ Define travel planning tools for agent integration\n",
    "# These functions provide specific capabilities that the agent can invoke dynamically\n",
    "\n",
    "def get_random_destination() -> str:\n",
    "    \"\"\"\n",
    "    🎲 Random destination generator tool\n",
    "    Returns a randomly selected travel destination from curated list\n",
    "    Useful when customers need inspiration for their next vacation\n",
    "    \"\"\"\n",
    "    destinations = [\n",
    "        \"Paris, France\",\n",
    "        \"Tokyo, Japan\", \n",
    "        \"New York City, USA\",\n",
    "        \"London, England\",\n",
    "        \"Rome, Italy\",\n",
    "        \"Sydney, Australia\",\n",
    "        \"Dubai, UAE\",\n",
    "        \"Barcelona, Spain\",\n",
    "        \"Bangkok, Thailand\",\n",
    "        \"Amsterdam, Netherlands\",\n",
    "        \"Istanbul, Turkey\",\n",
    "        \"Prague, Czech Republic\",\n",
    "        \"Santorini, Greece\",\n",
    "        \"Reykjavik, Iceland\",\n",
    "        \"Marrakech, Morocco\",\n",
    "        \"Cape Town, South Africa\",\n",
    "        \"Rio de Janeiro, Brazil\",\n",
    "        \"Bali, Indonesia\"\n",
    "    ]\n",
    "    # 🎯 Return random selection from the curated destination list\n",
    "    return destinations[randint(0, len(destinations) - 1)]"
   ]
  },
  {
   "cell_type": "code",
   "execution_count": null,
   "id": "5d4f0568",
   "metadata": {},
   "outputs": [],
   "source": [
    "# 🔗 Initialize GitHub Models chat client for agent communication\n",
    "# Creates the primary interface between the agent and the language model\n",
    "openai_chat_client = OpenAIChatClient(base_url=os.environ.get(\"GITHUB_ENDPOINT\"), api_key=os.environ.get(\"GITHUB_TOKEN\"), model_id=os.environ.get(\"GITHUB_MODEL_ID\"))"
   ]
  },
  {
   "cell_type": "code",
   "execution_count": null,
   "id": "751668c5",
   "metadata": {},
   "outputs": [],
   "source": [
    "# 🤖 Configure travel agent identity and behavioral instructions\n",
    "# Define the agent's personality, capabilities, and operational guidelines\n",
    "\n",
    "AGENT_NAME = \"TravelAgent\"\n",
    "\n",
    "AGENT_INSTRUCTIONS = \"\"\"You are a helpful AI Agent that can help plan vacations for customers at random destinations\n",
    "\"\"\""
   ]
  },
  {
   "cell_type": "code",
   "execution_count": null,
   "id": "be18ac4f",
   "metadata": {},
   "outputs": [],
   "source": [
    "agent = ChatAgent(\n",
    "        name = AGENT_NAME,\n",
    "        chat_client=openai_chat_client,\n",
    "        instructions=AGENT_INSTRUCTIONS,\n",
    "        tools=[get_random_destination]\n",
    ")"
   ]
  },
  {
   "cell_type": "code",
   "execution_count": null,
   "id": "772e9481",
   "metadata": {},
   "outputs": [],
   "source": [
    "thread = agent.get_new_thread()"
   ]
  },
  {
   "cell_type": "code",
   "execution_count": null,
   "id": "a731b547",
   "metadata": {},
   "outputs": [],
   "source": [
    "response1 = await agent.run(\"Plan me a day trip\",thread= thread)"
   ]
  },
  {
   "cell_type": "code",
   "execution_count": null,
   "id": "7d3fe00a",
   "metadata": {},
   "outputs": [],
   "source": [
    "\n",
    "last_message = response1.messages[-1]\n",
    "text_content = last_message.contents[0].text\n",
    "print(\"Travel plan:\")\n",
    "print(text_content)"
   ]
  },
  {
   "cell_type": "markdown",
   "metadata": {},
   "source": [
    "\n---\n\n**Disclaimer**:  \nQuesto documento è stato tradotto utilizzando il servizio di traduzione automatica [Co-op Translator](https://github.com/Azure/co-op-translator). Sebbene ci impegniamo per garantire l'accuratezza, si prega di notare che le traduzioni automatiche possono contenere errori o imprecisioni. Il documento originale nella sua lingua nativa dovrebbe essere considerato la fonte autorevole. Per informazioni critiche, si raccomanda una traduzione professionale effettuata da un traduttore umano. Non siamo responsabili per eventuali incomprensioni o interpretazioni errate derivanti dall'uso di questa traduzione.\n"
   ]
  }
 ],
 "metadata": {
  "kernelspec": {
   "display_name": "agentenv",
   "language": "python",
   "name": "python3"
  },
  "language_info": {
   "codemirror_mode": {
    "name": "ipython",
    "version": 3
   },
   "file_extension": ".py",
   "mimetype": "text/x-python",
   "name": "python",
   "nbconvert_exporter": "python",
   "pygments_lexer": "ipython3",
   "version": "3.12.10"
  },
  "polyglot_notebook": {
   "kernelInfo": {
    "defaultKernelName": "csharp",
    "items": [
     {
      "aliases": [],
      "name": "csharp"
     }
    ]
   }
  },
  "coopTranslator": {
   "original_hash": "42966ddac53cebaf0ac1ce33b2ee7059",
   "translation_date": "2025-10-02T14:31:02+00:00",
   "source_file": "04-tool-use/code_samples/04-python-agent-framework.ipynb",
   "language_code": "it"
  }
 },
 "nbformat": 4,
 "nbformat_minor": 5
}