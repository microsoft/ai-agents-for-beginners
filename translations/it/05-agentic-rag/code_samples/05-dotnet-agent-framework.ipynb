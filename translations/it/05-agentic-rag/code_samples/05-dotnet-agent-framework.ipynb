{
 "cells": [
  {
   "cell_type": "markdown",
   "id": "44b5899e",
   "metadata": {},
   "source": [
    "# 🔍 RAG aziendale con Azure AI Foundry (.NET)\n",
    "\n",
    "## 📋 Obiettivi di apprendimento\n",
    "\n",
    "Questo notebook dimostra come costruire sistemi RAG (Retrieval-Augmented Generation) di livello aziendale utilizzando il Microsoft Agent Framework in .NET con Azure AI Foundry. Imparerai a creare agenti pronti per la produzione che possono cercare tra i documenti e fornire risposte accurate e contestualizzate con sicurezza e scalabilità aziendale.\n",
    "\n",
    "**Funzionalità RAG aziendali che svilupperai:**\n",
    "- 📚 **Intelligenza documentale**: Elaborazione avanzata dei documenti con i servizi Azure AI\n",
    "- 🔍 **Ricerca semantica**: Ricerca vettoriale ad alte prestazioni con funzionalità aziendali\n",
    "- 🛡️ **Integrazione della sicurezza**: Accesso basato sui ruoli e modelli di protezione dei dati\n",
    "- 🏢 **Architettura scalabile**: Sistemi RAG pronti per la produzione con monitoraggio\n",
    "\n",
    "## 🎯 Architettura RAG aziendale\n",
    "\n",
    "### Componenti aziendali principali\n",
    "- **Azure AI Foundry**: Piattaforma AI aziendale gestita con sicurezza e conformità\n",
    "- **Agenti persistenti**: Agenti con stato persistente e gestione della cronologia delle conversazioni\n",
    "- **Gestione dello store vettoriale**: Indicizzazione e recupero di documenti di livello aziendale\n",
    "- **Integrazione dell'identità**: Autenticazione Azure AD e controllo degli accessi basato sui ruoli\n",
    "\n",
    "### Vantaggi aziendali di .NET\n",
    "- **Sicurezza dei tipi**: Validazione a tempo di compilazione per operazioni RAG e strutture dati\n",
    "- **Prestazioni asincrone**: Elaborazione e operazioni di ricerca non bloccanti\n",
    "- **Gestione della memoria**: Utilizzo efficiente delle risorse per collezioni di documenti di grandi dimensioni\n",
    "- **Modelli di integrazione**: Integrazione nativa dei servizi Azure con dependency injection\n",
    "\n",
    "## 🏗️ Architettura tecnica\n",
    "\n",
    "### Pipeline RAG aziendale\n",
    "```csharp\n",
    "Document Upload → Security Validation → Vector Processing → Index Creation\n",
    "                      ↓                    ↓                  ↓\n",
    "User Query → Authentication → Semantic Search → Context Ranking → AI Response\n",
    "```\n",
    "\n",
    "### Componenti principali di .NET\n",
    "- **Azure.AI.Agents.Persistent**: Gestione degli agenti aziendali con persistenza dello stato\n",
    "- **Azure.Identity**: Autenticazione integrata per un accesso sicuro ai servizi Azure\n",
    "- **Microsoft.Agents.AI.AzureAI**: Implementazione del framework degli agenti ottimizzata per Azure\n",
    "- **System.Linq.Async**: Operazioni LINQ asincrone ad alte prestazioni\n",
    "\n",
    "## 🔧 Funzionalità e vantaggi aziendali\n",
    "\n",
    "### Sicurezza e conformità\n",
    "- **Integrazione Azure AD**: Gestione dell'identità aziendale e autenticazione\n",
    "- **Accesso basato sui ruoli**: Permessi dettagliati per l'accesso ai documenti e alle operazioni\n",
    "- **Protezione dei dati**: Crittografia a riposo e in transito per documenti sensibili\n",
    "- **Registrazione delle attività**: Tracciamento completo delle attività per requisiti di conformità\n",
    "\n",
    "### Prestazioni e scalabilità\n",
    "- **Pooling delle connessioni**: Gestione efficiente delle connessioni ai servizi Azure\n",
    "- **Elaborazione asincrona**: Operazioni non bloccanti per scenari ad alta capacità\n",
    "- **Strategie di caching**: Caching intelligente per documenti frequentemente accessibili\n",
    "- **Bilanciamento del carico**: Elaborazione distribuita per implementazioni su larga scala\n",
    "\n",
    "### Gestione e monitoraggio\n",
    "- **Controlli di integrità**: Monitoraggio integrato per i componenti del sistema RAG\n",
    "- **Metriche di prestazione**: Analisi dettagliata sulla qualità della ricerca e sui tempi di risposta\n",
    "- **Gestione degli errori**: Gestione completa delle eccezioni con politiche di retry\n",
    "- **Gestione della configurazione**: Impostazioni specifiche per l'ambiente con validazione\n",
    "\n",
    "## ⚙️ Prerequisiti e configurazione\n",
    "\n",
    "**Ambiente di sviluppo:**\n",
    "- SDK .NET 9.0 o superiore\n",
    "- Visual Studio 2022 o VS Code con estensione C#\n",
    "- Abbonamento Azure con accesso a AI Foundry\n",
    "\n",
    "**Pacchetti NuGet richiesti:**\n",
    "```xml\n",
    "<PackageReference Include=\"Microsoft.Extensions.AI\" Version=\"9.9.0\" />\n",
    "<PackageReference Include=\"Azure.AI.Agents.Persistent\" Version=\"1.2.0-beta.5\" />\n",
    "<PackageReference Include=\"Azure.Identity\" Version=\"1.15.0\" />\n",
    "<PackageReference Include=\"System.Linq.Async\" Version=\"6.0.3\" />\n",
    "<PackageReference Include=\"DotNetEnv\" Version=\"3.1.1\" />\n",
    "```\n",
    "\n",
    "**Configurazione dell'autenticazione Azure:**\n",
    "```bash\n",
    "# Install Azure CLI and authenticate\n",
    "az login\n",
    "az account set --subscription \"your-subscription-id\"\n",
    "```\n",
    "\n",
    "**Configurazione dell'ambiente (.env file):**\n",
    "```env\n",
    "# Azure AI Foundry configuration (automatically handled via Azure CLI)\n",
    "# Ensure you're authenticated to the correct Azure subscription\n",
    "```\n",
    "\n",
    "## 📊 Modelli RAG aziendali\n",
    "\n",
    "### Modelli di gestione dei documenti\n",
    "- **Caricamento in blocco**: Elaborazione efficiente di collezioni di documenti di grandi dimensioni\n",
    "- **Aggiornamenti incrementali**: Aggiunta e modifica dei documenti in tempo reale\n",
    "- **Controllo delle versioni**: Versionamento dei documenti e tracciamento delle modifiche\n",
    "- **Gestione dei metadati**: Attributi ricchi e tassonomia dei documenti\n",
    "\n",
    "### Modelli di ricerca e recupero\n",
    "- **Ricerca ibrida**: Combinazione di ricerca semantica e per parole chiave per risultati ottimali\n",
    "- **Ricerca sfaccettata**: Filtraggio e categorizzazione multidimensionale\n",
    "- **Ottimizzazione della rilevanza**: Algoritmi di scoring personalizzati per esigenze specifiche del dominio\n",
    "- **Classifica dei risultati**: Classificazione avanzata con integrazione della logica aziendale\n",
    "\n",
    "### Modelli di sicurezza\n",
    "- **Sicurezza a livello di documento**: Controllo degli accessi dettagliato per ogni documento\n",
    "- **Classificazione dei dati**: Etichettatura automatica della sensibilità e protezione\n",
    "- **Tracciabilità delle operazioni**: Registrazione completa di tutte le operazioni RAG\n",
    "- **Protezione della privacy**: Rilevamento e redazione automatica di PII\n",
    "\n",
    "## 🔒 Funzionalità di sicurezza aziendale\n",
    "\n",
    "### Autenticazione e autorizzazione\n",
    "```csharp\n",
    "// Azure AD integrated authentication\n",
    "var credential = new AzureCliCredential();\n",
    "var agentsClient = new PersistentAgentsClient(endpoint, credential);\n",
    "\n",
    "// Role-based access validation\n",
    "if (!await ValidateUserPermissions(user, documentId))\n",
    "{\n",
    "    throw new UnauthorizedAccessException(\"Insufficient permissions\");\n",
    "}\n",
    "```\n",
    "\n",
    "### Protezione dei dati\n",
    "- **Crittografia**: Crittografia end-to-end per documenti e indici di ricerca\n",
    "- **Controlli di accesso**: Integrazione con Azure AD per permessi utente e di gruppo\n",
    "- **Residenza dei dati**: Controlli sulla posizione geografica dei dati per conformità\n",
    "- **Backup e ripristino**: Backup automatico e capacità di recupero in caso di disastro\n",
    "\n",
    "## 📈 Ottimizzazione delle prestazioni\n",
    "\n",
    "### Modelli di elaborazione asincrona\n",
    "```csharp\n",
    "// Efficient async document processing\n",
    "await foreach (var document in documentStream.AsAsyncEnumerable())\n",
    "{\n",
    "    await ProcessDocumentAsync(document, cancellationToken);\n",
    "}\n",
    "```\n",
    "\n",
    "### Gestione della memoria\n",
    "- **Elaborazione in streaming**: Gestione di documenti di grandi dimensioni senza problemi di memoria\n",
    "- **Pooling delle risorse**: Riutilizzo efficiente delle risorse costose\n",
    "- **Garbage Collection**: Modelli di allocazione della memoria ottimizzati\n",
    "- **Gestione delle connessioni**: Ciclo di vita corretto delle connessioni ai servizi Azure\n",
    "\n",
    "### Strategie di caching\n",
    "- **Caching delle query**: Cache per ricerche eseguite frequentemente\n",
    "- **Caching dei documenti**: Cache in memoria per documenti \"caldi\"\n",
    "- **Caching degli indici**: Ottimizzazione della cache degli indici vettoriali\n",
    "- **Caching dei risultati**: Cache intelligente delle risposte generate\n",
    "\n",
    "## 📊 Casi d'uso aziendali\n",
    "\n",
    "### Gestione della conoscenza\n",
    "- **Wiki aziendale**: Ricerca intelligente tra le basi di conoscenza aziendali\n",
    "- **Politiche e procedure**: Guida automatizzata alla conformità e alle procedure\n",
    "- **Materiali di formazione**: Assistenza intelligente per apprendimento e sviluppo\n",
    "- **Database di ricerca**: Sistemi di analisi di articoli accademici e di ricerca\n",
    "\n",
    "### Supporto clienti\n",
    "- **Base di conoscenza per il supporto**: Risposte automatizzate per il servizio clienti\n",
    "- **Documentazione dei prodotti**: Recupero intelligente delle informazioni sui prodotti\n",
    "- **Guide alla risoluzione dei problemi**: Assistenza contestuale per la risoluzione dei problemi\n",
    "- **Sistemi FAQ**: Generazione dinamica di FAQ da collezioni di documenti\n",
    "\n",
    "### Conformità normativa\n",
    "- **Analisi dei documenti legali**: Intelligenza per contratti e documenti legali\n",
    "- **Monitoraggio della conformità**: Verifica automatizzata della conformità normativa\n",
    "- **Valutazione del rischio**: Analisi e reportistica dei rischi basati sui documenti\n",
    "- **Supporto agli audit**: Scoperta intelligente dei documenti per audit\n",
    "\n",
    "## 🚀 Distribuzione in produzione\n",
    "\n",
    "### Monitoraggio e osservabilità\n",
    "- **Application Insights**: Telemetria dettagliata e monitoraggio delle prestazioni\n",
    "- **Metriche personalizzate**: Tracciamento e avvisi per KPI specifici del business\n",
    "- **Tracciamento distribuito**: Tracciamento end-to-end delle richieste tra i servizi\n",
    "- **Dashboard di integrità**: Visualizzazione in tempo reale della salute e delle prestazioni del sistema\n",
    "\n",
    "### Scalabilità e affidabilità\n",
    "- **Auto-scaling**: Scalabilità automatica basata su carico e metriche di prestazione\n",
    "- **Alta disponibilità**: Distribuzione multi-regione con capacità di failover\n",
    "- **Test di carico**: Validazione delle prestazioni sotto condizioni di carico aziendale\n",
    "- **Recupero da disastri**: Procedure automatizzate di backup e ripristino\n",
    "\n",
    "Pronto a costruire sistemi RAG di livello aziendale in grado di gestire documenti sensibili su larga scala? Progettiamo sistemi di conoscenza intelligenti per l'azienda! 🏢📖✨\n"
   ]
  },
  {
   "cell_type": "code",
   "execution_count": 1,
   "metadata": {
    "language_info": {
     "name": "polyglot-notebook"
    },
    "polyglot_notebook": {
     "kernelName": "csharp"
    }
   },
   "outputs": [
    {
     "data": {
      "text/html": [
       "<div><div></div><div></div><div><strong>Installed Packages</strong><ul><li><span>Microsoft.Extensions.AI, 9.9.1</span></li></ul></div></div>"
      ]
     },
     "metadata": {},
     "output_type": "display_data"
    }
   ],
   "source": [
    "#r \"nuget: Microsoft.Extensions.AI, 9.9.1\""
   ]
  },
  {
   "cell_type": "code",
   "execution_count": 2,
   "id": "4ec1f0d1",
   "metadata": {
    "language_info": {
     "name": "polyglot-notebook"
    },
    "polyglot_notebook": {
     "kernelName": "csharp"
    }
   },
   "outputs": [
    {
     "data": {
      "text/html": [
       "<div><div></div><div></div><div><strong>Installed Packages</strong><ul><li><span>Azure.AI.Agents.Persistent, 1.2.0-beta.5</span></li><li><span>Azure.Identity, 1.15.0</span></li><li><span>System.Linq.Async, 6.0.3</span></li></ul></div></div>"
      ]
     },
     "metadata": {},
     "output_type": "display_data"
    }
   ],
   "source": [
    "#r \"nuget: Azure.AI.Agents.Persistent, 1.2.0-beta.5\"\n",
    "#r \"nuget: Azure.Identity, 1.15.0\"\n",
    "#r \"nuget: System.Linq.Async, 6.0.3\""
   ]
  },
  {
   "cell_type": "code",
   "execution_count": 3,
   "id": "2363ae07",
   "metadata": {
    "language_info": {
     "name": "polyglot-notebook"
    },
    "polyglot_notebook": {
     "kernelName": "csharp"
    }
   },
   "outputs": [],
   "source": []
  },
  {
   "cell_type": "code",
   "execution_count": null,
   "id": "d10cec9d",
   "metadata": {
    "language_info": {
     "name": "polyglot-notebook"
    },
    "polyglot_notebook": {
     "kernelName": "csharp"
    }
   },
   "outputs": [
    {
     "data": {
      "text/html": [
       "<div><div></div><div></div><div><strong>Installed Packages</strong><ul><li><span>Microsoft.Agents.AI.AzureAI, 1.0.0-preview.251001.2</span></li></ul></div></div>"
      ]
     },
     "metadata": {},
     "output_type": "display_data"
    }
   ],
   "source": [
    "#r \"nuget: Microsoft.Agents.AI.AzureAI, 1.0.0-preview.251001.3\""
   ]
  },
  {
   "cell_type": "code",
   "execution_count": null,
   "id": "78199d1c",
   "metadata": {
    "language_info": {
     "name": "polyglot-notebook"
    },
    "polyglot_notebook": {
     "kernelName": "csharp"
    }
   },
   "outputs": [
    {
     "data": {
      "text/html": [
       "<div><div></div><div></div><div><strong>Installed Packages</strong><ul><li><span>microsoft.agents.ai, 1.0.0-preview.251001.2</span></li></ul></div></div>"
      ]
     },
     "metadata": {},
     "output_type": "display_data"
    }
   ],
   "source": [
    "#r \"nuget: Microsoft.Agents.AI, 1.0.0-preview.251001.3\""
   ]
  },
  {
   "cell_type": "code",
   "execution_count": 6,
   "id": "7de4684a",
   "metadata": {
    "language_info": {
     "name": "polyglot-notebook"
    },
    "polyglot_notebook": {
     "kernelName": "csharp"
    }
   },
   "outputs": [
    {
     "data": {
      "text/html": [
       "<div><div></div><div></div><div><strong>Installed Packages</strong><ul><li><span>DotNetEnv, 3.1.1</span></li></ul></div></div>"
      ]
     },
     "metadata": {},
     "output_type": "display_data"
    }
   ],
   "source": [
    "#r \"nuget: DotNetEnv, 3.1.1\""
   ]
  },
  {
   "cell_type": "code",
   "execution_count": 7,
   "id": "251efd31",
   "metadata": {
    "language_info": {
     "name": "polyglot-notebook"
    },
    "polyglot_notebook": {
     "kernelName": "csharp"
    }
   },
   "outputs": [],
   "source": [
    "using System;\n",
    "using System.Linq;\n",
    "using Azure.AI.Agents.Persistent;\n",
    "using Azure.Identity;\n",
    "using Microsoft.Agents.AI;"
   ]
  },
  {
   "cell_type": "code",
   "execution_count": 8,
   "id": "a2e342f1",
   "metadata": {
    "language_info": {
     "name": "polyglot-notebook"
    },
    "polyglot_notebook": {
     "kernelName": "csharp"
    }
   },
   "outputs": [],
   "source": [
    " using DotNetEnv;"
   ]
  },
  {
   "cell_type": "code",
   "execution_count": 9,
   "id": "a7a01653",
   "metadata": {
    "language_info": {
     "name": "polyglot-notebook"
    },
    "polyglot_notebook": {
     "kernelName": "csharp"
    }
   },
   "outputs": [],
   "source": [
    "Env.Load(\"../../../.env\");"
   ]
  },
  {
   "cell_type": "code",
   "execution_count": 10,
   "id": "a42735d5",
   "metadata": {
    "language_info": {
     "name": "polyglot-notebook"
    },
    "polyglot_notebook": {
     "kernelName": "csharp"
    }
   },
   "outputs": [],
   "source": [
    "var azure_foundry_endpoint = Environment.GetEnvironmentVariable(\"AZURE_AI_PROJECT_ENDPOINT\") ?? throw new InvalidOperationException(\"AZURE_AI_PROJECT_ENDPOINT is not set.\");\n",
    "var azure_foundry_model_id = Environment.GetEnvironmentVariable(\"AZURE_AI_MODEL_DEPLOYMENT_NAME\") ?? \"gpt-4.1-mini\";"
   ]
  },
  {
   "cell_type": "code",
   "execution_count": 11,
   "id": "e29bdb58",
   "metadata": {
    "language_info": {
     "name": "polyglot-notebook"
    },
    "polyglot_notebook": {
     "kernelName": "csharp"
    }
   },
   "outputs": [],
   "source": [
    "string pdfPath = \"./document.md\";"
   ]
  },
  {
   "cell_type": "code",
   "execution_count": 12,
   "id": "7351e12d",
   "metadata": {
    "language_info": {
     "name": "polyglot-notebook"
    },
    "polyglot_notebook": {
     "kernelName": "csharp"
    }
   },
   "outputs": [],
   "source": [
    "using System.IO;\n",
    "\n",
    "async Task<Stream> OpenImageStreamAsync(string path)\n",
    "{\n",
    "\treturn await Task.Run(() => File.OpenRead(path));\n",
    "}\n",
    "\n",
    "var pdfStream = await OpenImageStreamAsync(pdfPath);"
   ]
  },
  {
   "cell_type": "code",
   "execution_count": 13,
   "id": "0b6bf484",
   "metadata": {
    "language_info": {
     "name": "polyglot-notebook"
    },
    "polyglot_notebook": {
     "kernelName": "csharp"
    }
   },
   "outputs": [],
   "source": [
    "var persistentAgentsClient = new PersistentAgentsClient(azure_foundry_endpoint, new AzureCliCredential());"
   ]
  },
  {
   "cell_type": "code",
   "execution_count": 14,
   "id": "81e0dddc",
   "metadata": {
    "language_info": {
     "name": "polyglot-notebook"
    },
    "polyglot_notebook": {
     "kernelName": "csharp"
    }
   },
   "outputs": [],
   "source": [
    "PersistentAgentFileInfo fileInfo = await persistentAgentsClient.Files.UploadFileAsync(pdfStream, PersistentAgentFilePurpose.Agents, \"demo.md\");"
   ]
  },
  {
   "cell_type": "code",
   "execution_count": 15,
   "id": "f0c75d80",
   "metadata": {
    "language_info": {
     "name": "polyglot-notebook"
    },
    "polyglot_notebook": {
     "kernelName": "csharp"
    }
   },
   "outputs": [],
   "source": [
    "PersistentAgentsVectorStore fileStore =\n",
    "            await persistentAgentsClient.VectorStores.CreateVectorStoreAsync(\n",
    "                [fileInfo.Id],\n",
    "                metadata: new Dictionary<string, string>() { { \"agentkey\", bool.TrueString } });"
   ]
  },
  {
   "cell_type": "code",
   "execution_count": 16,
   "id": "c77986c5",
   "metadata": {
    "language_info": {
     "name": "polyglot-notebook"
    },
    "polyglot_notebook": {
     "kernelName": "csharp"
    }
   },
   "outputs": [],
   "source": [
    "PersistentAgent agentModel = await persistentAgentsClient.Administration.CreateAgentAsync(\n",
    "            azure_foundry_model_id,\n",
    "            name: \"DotNetRAGAgent\",\n",
    "            tools: [new FileSearchToolDefinition()],\n",
    "            instructions: \"\"\"\n",
    "                You are an AI assistant designed to answer user questions using only the information retrieved from the provided document(s).\n",
    "\n",
    "                - If a user's question cannot be answered using the retrieved context, **you must clearly respond**: \n",
    "                \"I'm sorry, but the uploaded document does not contain the necessary information to answer that question.\"\n",
    "                - Do not answer from general knowledge or reasoning. Do not make assumptions or generate hypothetical explanations.\n",
    "                - Do not provide definitions, tutorials, or commentary that is not explicitly grounded in the content of the uploaded file(s).\n",
    "                - If a user asks a question like \"What is a Neural Network?\", and this is not discussed in the uploaded document, respond as instructed above.\n",
    "                - For questions that do have relevant content in the document (e.g., Contoso's travel insurance coverage), respond accurately, and cite the document explicitly.\n",
    "\n",
    "                You must behave as if you have no external knowledge beyond what is retrieved from the uploaded document.\n",
    "                \"\"\",\n",
    "            toolResources: new()\n",
    "            {\n",
    "                FileSearch = new()\n",
    "                {\n",
    "                    VectorStoreIds = { fileStore.Id },\n",
    "                }\n",
    "            },\n",
    "            metadata: new Dictionary<string, string>() { { \"agentkey\", bool.TrueString } });"
   ]
  },
  {
   "cell_type": "code",
   "execution_count": 17,
   "id": "282326cf",
   "metadata": {
    "language_info": {
     "name": "polyglot-notebook"
    },
    "polyglot_notebook": {
     "kernelName": "csharp"
    }
   },
   "outputs": [],
   "source": [
    "AIAgent agent = await persistentAgentsClient.GetAIAgentAsync(agentModel.Id);"
   ]
  },
  {
   "cell_type": "code",
   "execution_count": 18,
   "id": "2067d313",
   "metadata": {
    "language_info": {
     "name": "polyglot-notebook"
    },
    "polyglot_notebook": {
     "kernelName": "csharp"
    }
   },
   "outputs": [],
   "source": [
    "AgentThread thread = agent.GetNewThread();"
   ]
  },
  {
   "cell_type": "code",
   "execution_count": 19,
   "id": "454c4230",
   "metadata": {
    "language_info": {
     "name": "polyglot-notebook"
    },
    "polyglot_notebook": {
     "kernelName": "csharp"
    }
   },
   "outputs": [
    {
     "name": "stdout",
     "output_type": "stream",
     "text": [
      "Contoso's travel insurance coverage includes protection for medical emergencies, trip cancellations, and lost baggage. This ensures that travelers are supported in case of health-related issues during their trip, unforeseen cancellations, and the loss of their belongings while traveling【4:0†demo.md】.\r\n"
     ]
    }
   ],
   "source": [
    "Console.WriteLine(await agent.RunAsync(\"Can you explain Contoso's travel insurance coverage?\", thread));"
   ]
  },
  {
   "cell_type": "markdown",
   "metadata": {},
   "source": [
    "\n---\n\n**Clausola di esclusione della responsabilità**:  \nQuesto documento è stato tradotto utilizzando il servizio di traduzione automatica [Co-op Translator](https://github.com/Azure/co-op-translator). Pur cercando di garantire la massima accuratezza, si prega di tenere presente che le traduzioni automatiche possono contenere errori o imprecisioni. Il documento originale nella sua lingua nativa dovrebbe essere considerato la fonte autorevole. Per informazioni critiche, si raccomanda una traduzione professionale effettuata da un traduttore umano. Non siamo responsabili per eventuali incomprensioni o interpretazioni errate derivanti dall'uso di questa traduzione.\n"
   ]
  }
 ],
 "metadata": {
  "kernelspec": {
   "display_name": ".NET (C#)",
   "language": "C#",
   "name": ".net-csharp"
  },
  "language_info": {
   "name": "polyglot-notebook"
  },
  "polyglot_notebook": {
   "kernelInfo": {
    "defaultKernelName": "csharp",
    "items": [
     {
      "aliases": [],
      "name": "csharp"
     }
    ]
   }
  },
  "coopTranslator": {
   "original_hash": "e4584fa31638009dc6fb665275de8fc2",
   "translation_date": "2025-10-02T14:08:52+00:00",
   "source_file": "05-agentic-rag/code_samples/05-dotnet-agent-framework.ipynb",
   "language_code": "it"
  }
 },
 "nbformat": 4,
 "nbformat_minor": 5
}