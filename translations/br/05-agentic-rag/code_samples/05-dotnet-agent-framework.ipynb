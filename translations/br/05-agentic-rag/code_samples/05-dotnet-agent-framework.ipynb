{
 "cells": [
  {
   "cell_type": "markdown",
   "id": "44b5899e",
   "metadata": {},
   "source": [
    "# 🔍 RAG Empresarial com Azure AI Foundry (.NET)\n",
    "\n",
    "## 📋 Objetivos de Aprendizagem\n",
    "\n",
    "Este notebook demonstra como construir sistemas de Recuperação e Geração Aumentada (RAG) de nível empresarial usando o Microsoft Agent Framework em .NET com Azure AI Foundry. Você aprenderá a criar agentes prontos para produção que podem pesquisar documentos e fornecer respostas precisas e contextualizadas com segurança e escalabilidade empresarial.\n",
    "\n",
    "**Recursos de RAG Empresarial que Você Vai Construir:**\n",
    "- 📚 **Inteligência de Documentos**: Processamento avançado de documentos com serviços Azure AI\n",
    "- 🔍 **Busca Semântica**: Busca vetorial de alto desempenho com recursos empresariais\n",
    "- 🛡️ **Integração de Segurança**: Controle de acesso baseado em funções e padrões de proteção de dados\n",
    "- 🏢 **Arquitetura Escalável**: Sistemas RAG prontos para produção com monitoramento\n",
    "\n",
    "## 🎯 Arquitetura de RAG Empresarial\n",
    "\n",
    "### Componentes Principais Empresariais\n",
    "- **Azure AI Foundry**: Plataforma de IA empresarial gerenciada com segurança e conformidade\n",
    "- **Agentes Persistentes**: Agentes com estado persistente e gerenciamento de histórico de conversas e contexto\n",
    "- **Gerenciamento de Armazenamento Vetorial**: Indexação e recuperação de documentos de nível empresarial\n",
    "- **Integração de Identidade**: Autenticação Azure AD e controle de acesso baseado em funções\n",
    "\n",
    "### Benefícios Empresariais do .NET\n",
    "- **Segurança de Tipos**: Validação em tempo de compilação para operações RAG e estruturas de dados\n",
    "- **Desempenho Assíncrono**: Processamento de documentos e operações de busca não bloqueantes\n",
    "- **Gerenciamento de Memória**: Utilização eficiente de recursos para grandes coleções de documentos\n",
    "- **Padrões de Integração**: Integração nativa com serviços Azure usando injeção de dependência\n",
    "\n",
    "## 🏗️ Arquitetura Técnica\n",
    "\n",
    "### Pipeline de RAG Empresarial\n",
    "```csharp\n",
    "Document Upload → Security Validation → Vector Processing → Index Creation\n",
    "                      ↓                    ↓                  ↓\n",
    "User Query → Authentication → Semantic Search → Context Ranking → AI Response\n",
    "```\n",
    "\n",
    "### Componentes Principais do .NET\n",
    "- **Azure.AI.Agents.Persistent**: Gerenciamento de agentes empresariais com persistência de estado\n",
    "- **Azure.Identity**: Autenticação integrada para acesso seguro aos serviços Azure\n",
    "- **Microsoft.Agents.AI.AzureAI**: Implementação do framework de agentes otimizado para Azure\n",
    "- **System.Linq.Async**: Operações LINQ assíncronas de alto desempenho\n",
    "\n",
    "## 🔧 Recursos e Benefícios Empresariais\n",
    "\n",
    "### Segurança e Conformidade\n",
    "- **Integração com Azure AD**: Gerenciamento de identidade empresarial e autenticação\n",
    "- **Controle de Acesso Baseado em Funções**: Permissões detalhadas para acesso e operações em documentos\n",
    "- **Proteção de Dados**: Criptografia em repouso e em trânsito para documentos sensíveis\n",
    "- **Registro de Auditoria**: Rastreamento abrangente de atividades para requisitos de conformidade\n",
    "\n",
    "### Desempenho e Escalabilidade\n",
    "- **Pooling de Conexões**: Gerenciamento eficiente de conexões com serviços Azure\n",
    "- **Processamento Assíncrono**: Operações não bloqueantes para cenários de alta demanda\n",
    "- **Estratégias de Cache**: Cache inteligente para documentos acessados frequentemente\n",
    "- **Balanceamento de Carga**: Processamento distribuído para implantações em larga escala\n",
    "\n",
    "### Gerenciamento e Monitoramento\n",
    "- **Verificações de Saúde**: Monitoramento integrado para componentes do sistema RAG\n",
    "- **Métricas de Desempenho**: Análises detalhadas sobre qualidade de busca e tempos de resposta\n",
    "- **Tratamento de Erros**: Gerenciamento abrangente de exceções com políticas de repetição\n",
    "- **Gerenciamento de Configuração**: Configurações específicas de ambiente com validação\n",
    "\n",
    "## ⚙️ Pré-requisitos e Configuração\n",
    "\n",
    "**Ambiente de Desenvolvimento:**\n",
    "- SDK .NET 9.0 ou superior\n",
    "- Visual Studio 2022 ou VS Code com extensão C#\n",
    "- Assinatura Azure com acesso ao AI Foundry\n",
    "\n",
    "**Pacotes NuGet Necessários:**\n",
    "```xml\n",
    "<PackageReference Include=\"Microsoft.Extensions.AI\" Version=\"9.9.0\" />\n",
    "<PackageReference Include=\"Azure.AI.Agents.Persistent\" Version=\"1.2.0-beta.5\" />\n",
    "<PackageReference Include=\"Azure.Identity\" Version=\"1.15.0\" />\n",
    "<PackageReference Include=\"System.Linq.Async\" Version=\"6.0.3\" />\n",
    "<PackageReference Include=\"DotNetEnv\" Version=\"3.1.1\" />\n",
    "```\n",
    "\n",
    "**Configuração de Autenticação Azure:**\n",
    "```bash\n",
    "# Install Azure CLI and authenticate\n",
    "az login\n",
    "az account set --subscription \"your-subscription-id\"\n",
    "```\n",
    "\n",
    "**Configuração de Ambiente (.env file):**\n",
    "```env\n",
    "# Azure AI Foundry configuration (automatically handled via Azure CLI)\n",
    "# Ensure you're authenticated to the correct Azure subscription\n",
    "```\n",
    "\n",
    "## 📊 Padrões de RAG Empresarial\n",
    "\n",
    "### Padrões de Gerenciamento de Documentos\n",
    "- **Upload em Massa**: Processamento eficiente de grandes coleções de documentos\n",
    "- **Atualizações Incrementais**: Adição e modificação de documentos em tempo real\n",
    "- **Controle de Versão**: Versionamento de documentos e rastreamento de alterações\n",
    "- **Gerenciamento de Metadados**: Atributos ricos e taxonomia de documentos\n",
    "\n",
    "### Padrões de Busca e Recuperação\n",
    "- **Busca Híbrida**: Combinação de busca semântica e por palavras-chave para resultados ótimos\n",
    "- **Busca Facetada**: Filtragem e categorização multidimensional\n",
    "- **Ajuste de Relevância**: Algoritmos de pontuação personalizados para necessidades específicas do domínio\n",
    "- **Classificação de Resultados**: Classificação avançada com integração de lógica de negócios\n",
    "\n",
    "### Padrões de Segurança\n",
    "- **Segurança em Nível de Documento**: Controle de acesso detalhado por documento\n",
    "- **Classificação de Dados**: Rotulagem automática de sensibilidade e proteção\n",
    "- **Trilhas de Auditoria**: Registro abrangente de todas as operações RAG\n",
    "- **Proteção de Privacidade**: Detecção e redação de informações pessoais identificáveis (PII)\n",
    "\n",
    "## 🔒 Recursos de Segurança Empresarial\n",
    "\n",
    "### Autenticação e Autorização\n",
    "```csharp\n",
    "// Azure AD integrated authentication\n",
    "var credential = new AzureCliCredential();\n",
    "var agentsClient = new PersistentAgentsClient(endpoint, credential);\n",
    "\n",
    "// Role-based access validation\n",
    "if (!await ValidateUserPermissions(user, documentId))\n",
    "{\n",
    "    throw new UnauthorizedAccessException(\"Insufficient permissions\");\n",
    "}\n",
    "```\n",
    "\n",
    "### Proteção de Dados\n",
    "- **Criptografia**: Criptografia ponta a ponta para documentos e índices de busca\n",
    "- **Controles de Acesso**: Integração com Azure AD para permissões de usuários e grupos\n",
    "- **Residência de Dados**: Controles de localização geográfica de dados para conformidade\n",
    "- **Backup e Recuperação**: Recursos automatizados de backup e recuperação de desastres\n",
    "\n",
    "## 📈 Otimização de Desempenho\n",
    "\n",
    "### Padrões de Processamento Assíncrono\n",
    "```csharp\n",
    "// Efficient async document processing\n",
    "await foreach (var document in documentStream.AsAsyncEnumerable())\n",
    "{\n",
    "    await ProcessDocumentAsync(document, cancellationToken);\n",
    "}\n",
    "```\n",
    "\n",
    "### Gerenciamento de Memória\n",
    "- **Processamento em Streaming**: Manipulação de grandes documentos sem problemas de memória\n",
    "- **Pooling de Recursos**: Reutilização eficiente de recursos caros\n",
    "- **Coleta de Lixo**: Padrões otimizados de alocação de memória\n",
    "- **Gerenciamento de Conexões**: Ciclo de vida adequado de conexões com serviços Azure\n",
    "\n",
    "### Estratégias de Cache\n",
    "- **Cache de Consultas**: Cache de buscas executadas frequentemente\n",
    "- **Cache de Documentos**: Cache em memória para documentos mais acessados\n",
    "- **Cache de Índices**: Cache otimizado de índices vetoriais\n",
    "- **Cache de Resultados**: Cache inteligente de respostas geradas\n",
    "\n",
    "## 📊 Casos de Uso Empresariais\n",
    "\n",
    "### Gerenciamento de Conhecimento\n",
    "- **Wiki Corporativo**: Busca inteligente em bases de conhecimento da empresa\n",
    "- **Políticas e Procedimentos**: Orientação automatizada de conformidade e procedimentos\n",
    "- **Materiais de Treinamento**: Assistência inteligente para aprendizado e desenvolvimento\n",
    "- **Bases de Dados de Pesquisa**: Sistemas de análise de artigos acadêmicos e de pesquisa\n",
    "\n",
    "### Suporte ao Cliente\n",
    "- **Base de Conhecimento de Suporte**: Respostas automatizadas para atendimento ao cliente\n",
    "- **Documentação de Produtos**: Recuperação inteligente de informações sobre produtos\n",
    "- **Guias de Solução de Problemas**: Assistência contextual para resolução de problemas\n",
    "- **Sistemas de FAQ**: Geração dinâmica de FAQs a partir de coleções de documentos\n",
    "\n",
    "### Conformidade Regulamentar\n",
    "- **Análise de Documentos Jurídicos**: Inteligência em contratos e documentos legais\n",
    "- **Monitoramento de Conformidade**: Verificação automatizada de conformidade regulatória\n",
    "- **Avaliação de Riscos**: Análise e relatórios de riscos baseados em documentos\n",
    "- **Suporte a Auditorias**: Descoberta inteligente de documentos para auditorias\n",
    "\n",
    "## 🚀 Implantação em Produção\n",
    "\n",
    "### Monitoramento e Observabilidade\n",
    "- **Application Insights**: Telemetria detalhada e monitoramento de desempenho\n",
    "- **Métricas Personalizadas**: Rastreamento e alertas de KPIs específicos de negócios\n",
    "- **Rastreamento Distribuído**: Rastreamento de solicitações ponta a ponta entre serviços\n",
    "- **Painéis de Saúde**: Visualização em tempo real da saúde e desempenho do sistema\n",
    "\n",
    "### Escalabilidade e Confiabilidade\n",
    "- **Autoescalonamento**: Escalonamento automático com base em carga e métricas de desempenho\n",
    "- **Alta Disponibilidade**: Implantação em várias regiões com capacidades de failover\n",
    "- **Teste de Carga**: Validação de desempenho sob condições de carga empresarial\n",
    "- **Recuperação de Desastres**: Procedimentos automatizados de backup e recuperação\n",
    "\n",
    "Pronto para construir sistemas RAG de nível empresarial que podem lidar com documentos sensíveis em escala? Vamos arquitetar sistemas inteligentes de conhecimento para empresas! 🏢📖✨\n"
   ]
  },
  {
   "cell_type": "code",
   "execution_count": 1,
   "metadata": {
    "language_info": {
     "name": "polyglot-notebook"
    },
    "polyglot_notebook": {
     "kernelName": "csharp"
    }
   },
   "outputs": [
    {
     "data": {
      "text/html": [
       "<div><div></div><div></div><div><strong>Installed Packages</strong><ul><li><span>Microsoft.Extensions.AI, 9.9.1</span></li></ul></div></div>"
      ]
     },
     "metadata": {},
     "output_type": "display_data"
    }
   ],
   "source": [
    "#r \"nuget: Microsoft.Extensions.AI, 9.9.1\""
   ]
  },
  {
   "cell_type": "code",
   "execution_count": 2,
   "id": "4ec1f0d1",
   "metadata": {
    "language_info": {
     "name": "polyglot-notebook"
    },
    "polyglot_notebook": {
     "kernelName": "csharp"
    }
   },
   "outputs": [
    {
     "data": {
      "text/html": [
       "<div><div></div><div></div><div><strong>Installed Packages</strong><ul><li><span>Azure.AI.Agents.Persistent, 1.2.0-beta.5</span></li><li><span>Azure.Identity, 1.15.0</span></li><li><span>System.Linq.Async, 6.0.3</span></li></ul></div></div>"
      ]
     },
     "metadata": {},
     "output_type": "display_data"
    }
   ],
   "source": [
    "#r \"nuget: Azure.AI.Agents.Persistent, 1.2.0-beta.5\"\n",
    "#r \"nuget: Azure.Identity, 1.15.0\"\n",
    "#r \"nuget: System.Linq.Async, 6.0.3\""
   ]
  },
  {
   "cell_type": "code",
   "execution_count": 3,
   "id": "2363ae07",
   "metadata": {
    "language_info": {
     "name": "polyglot-notebook"
    },
    "polyglot_notebook": {
     "kernelName": "csharp"
    }
   },
   "outputs": [],
   "source": []
  },
  {
   "cell_type": "code",
   "execution_count": null,
   "id": "d10cec9d",
   "metadata": {
    "language_info": {
     "name": "polyglot-notebook"
    },
    "polyglot_notebook": {
     "kernelName": "csharp"
    }
   },
   "outputs": [
    {
     "data": {
      "text/html": [
       "<div><div></div><div></div><div><strong>Installed Packages</strong><ul><li><span>Microsoft.Agents.AI.AzureAI, 1.0.0-preview.251001.2</span></li></ul></div></div>"
      ]
     },
     "metadata": {},
     "output_type": "display_data"
    }
   ],
   "source": [
    "#r \"nuget: Microsoft.Agents.AI.AzureAI, 1.0.0-preview.251001.3\""
   ]
  },
  {
   "cell_type": "code",
   "execution_count": null,
   "id": "78199d1c",
   "metadata": {
    "language_info": {
     "name": "polyglot-notebook"
    },
    "polyglot_notebook": {
     "kernelName": "csharp"
    }
   },
   "outputs": [
    {
     "data": {
      "text/html": [
       "<div><div></div><div></div><div><strong>Installed Packages</strong><ul><li><span>microsoft.agents.ai, 1.0.0-preview.251001.2</span></li></ul></div></div>"
      ]
     },
     "metadata": {},
     "output_type": "display_data"
    }
   ],
   "source": [
    "#r \"nuget: Microsoft.Agents.AI, 1.0.0-preview.251001.3\""
   ]
  },
  {
   "cell_type": "code",
   "execution_count": 6,
   "id": "7de4684a",
   "metadata": {
    "language_info": {
     "name": "polyglot-notebook"
    },
    "polyglot_notebook": {
     "kernelName": "csharp"
    }
   },
   "outputs": [
    {
     "data": {
      "text/html": [
       "<div><div></div><div></div><div><strong>Installed Packages</strong><ul><li><span>DotNetEnv, 3.1.1</span></li></ul></div></div>"
      ]
     },
     "metadata": {},
     "output_type": "display_data"
    }
   ],
   "source": [
    "#r \"nuget: DotNetEnv, 3.1.1\""
   ]
  },
  {
   "cell_type": "code",
   "execution_count": 7,
   "id": "251efd31",
   "metadata": {
    "language_info": {
     "name": "polyglot-notebook"
    },
    "polyglot_notebook": {
     "kernelName": "csharp"
    }
   },
   "outputs": [],
   "source": [
    "using System;\n",
    "using System.Linq;\n",
    "using Azure.AI.Agents.Persistent;\n",
    "using Azure.Identity;\n",
    "using Microsoft.Agents.AI;"
   ]
  },
  {
   "cell_type": "code",
   "execution_count": 8,
   "id": "a2e342f1",
   "metadata": {
    "language_info": {
     "name": "polyglot-notebook"
    },
    "polyglot_notebook": {
     "kernelName": "csharp"
    }
   },
   "outputs": [],
   "source": [
    " using DotNetEnv;"
   ]
  },
  {
   "cell_type": "code",
   "execution_count": 9,
   "id": "a7a01653",
   "metadata": {
    "language_info": {
     "name": "polyglot-notebook"
    },
    "polyglot_notebook": {
     "kernelName": "csharp"
    }
   },
   "outputs": [],
   "source": [
    "Env.Load(\"../../../.env\");"
   ]
  },
  {
   "cell_type": "code",
   "execution_count": 10,
   "id": "a42735d5",
   "metadata": {
    "language_info": {
     "name": "polyglot-notebook"
    },
    "polyglot_notebook": {
     "kernelName": "csharp"
    }
   },
   "outputs": [],
   "source": [
    "var azure_foundry_endpoint = Environment.GetEnvironmentVariable(\"AZURE_AI_PROJECT_ENDPOINT\") ?? throw new InvalidOperationException(\"AZURE_AI_PROJECT_ENDPOINT is not set.\");\n",
    "var azure_foundry_model_id = Environment.GetEnvironmentVariable(\"AZURE_AI_MODEL_DEPLOYMENT_NAME\") ?? \"gpt-4.1-mini\";"
   ]
  },
  {
   "cell_type": "code",
   "execution_count": 11,
   "id": "e29bdb58",
   "metadata": {
    "language_info": {
     "name": "polyglot-notebook"
    },
    "polyglot_notebook": {
     "kernelName": "csharp"
    }
   },
   "outputs": [],
   "source": [
    "string pdfPath = \"./document.md\";"
   ]
  },
  {
   "cell_type": "code",
   "execution_count": 12,
   "id": "7351e12d",
   "metadata": {
    "language_info": {
     "name": "polyglot-notebook"
    },
    "polyglot_notebook": {
     "kernelName": "csharp"
    }
   },
   "outputs": [],
   "source": [
    "using System.IO;\n",
    "\n",
    "async Task<Stream> OpenImageStreamAsync(string path)\n",
    "{\n",
    "\treturn await Task.Run(() => File.OpenRead(path));\n",
    "}\n",
    "\n",
    "var pdfStream = await OpenImageStreamAsync(pdfPath);"
   ]
  },
  {
   "cell_type": "code",
   "execution_count": 13,
   "id": "0b6bf484",
   "metadata": {
    "language_info": {
     "name": "polyglot-notebook"
    },
    "polyglot_notebook": {
     "kernelName": "csharp"
    }
   },
   "outputs": [],
   "source": [
    "var persistentAgentsClient = new PersistentAgentsClient(azure_foundry_endpoint, new AzureCliCredential());"
   ]
  },
  {
   "cell_type": "code",
   "execution_count": 14,
   "id": "81e0dddc",
   "metadata": {
    "language_info": {
     "name": "polyglot-notebook"
    },
    "polyglot_notebook": {
     "kernelName": "csharp"
    }
   },
   "outputs": [],
   "source": [
    "PersistentAgentFileInfo fileInfo = await persistentAgentsClient.Files.UploadFileAsync(pdfStream, PersistentAgentFilePurpose.Agents, \"demo.md\");"
   ]
  },
  {
   "cell_type": "code",
   "execution_count": 15,
   "id": "f0c75d80",
   "metadata": {
    "language_info": {
     "name": "polyglot-notebook"
    },
    "polyglot_notebook": {
     "kernelName": "csharp"
    }
   },
   "outputs": [],
   "source": [
    "PersistentAgentsVectorStore fileStore =\n",
    "            await persistentAgentsClient.VectorStores.CreateVectorStoreAsync(\n",
    "                [fileInfo.Id],\n",
    "                metadata: new Dictionary<string, string>() { { \"agentkey\", bool.TrueString } });"
   ]
  },
  {
   "cell_type": "code",
   "execution_count": 16,
   "id": "c77986c5",
   "metadata": {
    "language_info": {
     "name": "polyglot-notebook"
    },
    "polyglot_notebook": {
     "kernelName": "csharp"
    }
   },
   "outputs": [],
   "source": [
    "PersistentAgent agentModel = await persistentAgentsClient.Administration.CreateAgentAsync(\n",
    "            azure_foundry_model_id,\n",
    "            name: \"DotNetRAGAgent\",\n",
    "            tools: [new FileSearchToolDefinition()],\n",
    "            instructions: \"\"\"\n",
    "                You are an AI assistant designed to answer user questions using only the information retrieved from the provided document(s).\n",
    "\n",
    "                - If a user's question cannot be answered using the retrieved context, **you must clearly respond**: \n",
    "                \"I'm sorry, but the uploaded document does not contain the necessary information to answer that question.\"\n",
    "                - Do not answer from general knowledge or reasoning. Do not make assumptions or generate hypothetical explanations.\n",
    "                - Do not provide definitions, tutorials, or commentary that is not explicitly grounded in the content of the uploaded file(s).\n",
    "                - If a user asks a question like \"What is a Neural Network?\", and this is not discussed in the uploaded document, respond as instructed above.\n",
    "                - For questions that do have relevant content in the document (e.g., Contoso's travel insurance coverage), respond accurately, and cite the document explicitly.\n",
    "\n",
    "                You must behave as if you have no external knowledge beyond what is retrieved from the uploaded document.\n",
    "                \"\"\",\n",
    "            toolResources: new()\n",
    "            {\n",
    "                FileSearch = new()\n",
    "                {\n",
    "                    VectorStoreIds = { fileStore.Id },\n",
    "                }\n",
    "            },\n",
    "            metadata: new Dictionary<string, string>() { { \"agentkey\", bool.TrueString } });"
   ]
  },
  {
   "cell_type": "code",
   "execution_count": 17,
   "id": "282326cf",
   "metadata": {
    "language_info": {
     "name": "polyglot-notebook"
    },
    "polyglot_notebook": {
     "kernelName": "csharp"
    }
   },
   "outputs": [],
   "source": [
    "AIAgent agent = await persistentAgentsClient.GetAIAgentAsync(agentModel.Id);"
   ]
  },
  {
   "cell_type": "code",
   "execution_count": 18,
   "id": "2067d313",
   "metadata": {
    "language_info": {
     "name": "polyglot-notebook"
    },
    "polyglot_notebook": {
     "kernelName": "csharp"
    }
   },
   "outputs": [],
   "source": [
    "AgentThread thread = agent.GetNewThread();"
   ]
  },
  {
   "cell_type": "code",
   "execution_count": 19,
   "id": "454c4230",
   "metadata": {
    "language_info": {
     "name": "polyglot-notebook"
    },
    "polyglot_notebook": {
     "kernelName": "csharp"
    }
   },
   "outputs": [
    {
     "name": "stdout",
     "output_type": "stream",
     "text": [
      "Contoso's travel insurance coverage includes protection for medical emergencies, trip cancellations, and lost baggage. This ensures that travelers are supported in case of health-related issues during their trip, unforeseen cancellations, and the loss of their belongings while traveling【4:0†demo.md】.\r\n"
     ]
    }
   ],
   "source": [
    "Console.WriteLine(await agent.RunAsync(\"Can you explain Contoso's travel insurance coverage?\", thread));"
   ]
  },
  {
   "cell_type": "markdown",
   "metadata": {},
   "source": [
    "\n---\n\n**Aviso Legal**:  \nEste documento foi traduzido utilizando o serviço de tradução por IA [Co-op Translator](https://github.com/Azure/co-op-translator). Embora nos esforcemos para garantir a precisão, esteja ciente de que traduções automatizadas podem conter erros ou imprecisões. O documento original em seu idioma nativo deve ser considerado a fonte autoritativa. Para informações críticas, recomenda-se a tradução profissional realizada por humanos. Não nos responsabilizamos por quaisquer mal-entendidos ou interpretações equivocadas decorrentes do uso desta tradução.\n"
   ]
  }
 ],
 "metadata": {
  "kernelspec": {
   "display_name": ".NET (C#)",
   "language": "C#",
   "name": ".net-csharp"
  },
  "language_info": {
   "name": "polyglot-notebook"
  },
  "polyglot_notebook": {
   "kernelInfo": {
    "defaultKernelName": "csharp",
    "items": [
     {
      "aliases": [],
      "name": "csharp"
     }
    ]
   }
  },
  "coopTranslator": {
   "original_hash": "e4584fa31638009dc6fb665275de8fc2",
   "translation_date": "2025-10-02T14:08:25+00:00",
   "source_file": "05-agentic-rag/code_samples/05-dotnet-agent-framework.ipynb",
   "language_code": "br"
  }
 },
 "nbformat": 4,
 "nbformat_minor": 5
}