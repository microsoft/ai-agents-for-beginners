{
 "cells": [
  {
   "cell_type": "markdown",
   "id": "a6e34f84",
   "metadata": {},
   "source": [
    "# 🤝 Sistemas de Fluxo de Trabalho Multiagente com Modelos do GitHub (Python)\n",
    "\n",
    "## 📋 Objetivos de Aprendizagem\n",
    "\n",
    "Este notebook demonstra como construir sistemas multiagente sofisticados usando o Microsoft Agent Framework com Modelos do GitHub. Você aprenderá a orquestrar múltiplos agentes especializados trabalhando juntos para resolver problemas complexos por meio de fluxos de trabalho estruturados.\n",
    "\n",
    "**Capacidades Multiagente que Você Vai Desenvolver:**\n",
    "- 👥 **Colaboração entre Agentes**: Múltiplos agentes trabalhando juntos para alcançar objetivos comuns\n",
    "- 🔄 **Orquestração de Fluxo de Trabalho**: Coordenação estruturada das interações entre agentes\n",
    "- 🎭 **Especialização de Funções**: Agentes com personalidades e áreas de especialização distintas\n",
    "- 📋 **Garantia de Qualidade**: Revisão e refinamento por meio da colaboração entre agentes\n",
    "\n",
    "## 🎯 Conceitos de Arquitetura Multiagente\n",
    "\n",
    "### Princípios Fundamentais de Sistemas Multiagente\n",
    "- **Divisão de Trabalho**: Cada agente se especializa em um domínio específico\n",
    "- **Tomada de Decisão Colaborativa**: Agentes revisam e refinam o trabalho uns dos outros\n",
    "- **Coordenação de Fluxo de Trabalho**: Transferências estruturadas e padrões de comunicação\n",
    "- **Melhoria da Qualidade**: Aperfeiçoamento iterativo por meio de análises de múltiplas perspectivas\n",
    "\n",
    "### Padrões de Interação entre Agentes\n",
    "- **Processamento Sequencial**: Fluxo de trabalho linear com participação ordenada dos agentes\n",
    "- **Revisão por Pares**: Agentes validam e aprimoram os resultados uns dos outros\n",
    "- **Estrutura Hierárquica**: Agentes líderes coordenando especialistas subordinados\n",
    "- **Construção de Consenso**: Múltiplos agentes contribuindo para decisões finais\n",
    "\n",
    "## 🏗️ Arquitetura Técnica\n",
    "\n",
    "### Componentes do Sistema de Fluxo de Trabalho\n",
    "- **Microsoft Agent Framework**: Implementação em Python com suporte avançado para fluxos de trabalho\n",
    "- **WorkflowBuilder**: Motor de definição e execução de fluxos de trabalho declarativos\n",
    "- **Coordenação de Agentes**: Mecanismos estruturados de comunicação e transferência\n",
    "- **Processamento Orientado a Eventos**: Execução reativa de fluxos de trabalho com base nos resultados dos agentes\n",
    "\n",
    "### Fluxo de Processo Multiagente\n",
    "```python\n",
    "User Request → Agent 1 (Specialist) → Agent 2 (Reviewer) → Quality Check\n",
    "                ↓                      ↓                    ↓\n",
    "         Initial Solution → Review & Feedback → Refined Output → Final Result\n",
    "```\n",
    "\n",
    "## 🎭 Exemplos de Funções de Agentes\n",
    "\n",
    "### Sistema de Concierge de Hotel\n",
    "Este notebook demonstra um sistema de recomendação de viagens com funções especializadas:\n",
    "\n",
    "#### 🏨 **Agente da Recepção**\n",
    "- **Especialização**: Recomendações de viagem e conhecimento local\n",
    "- **Personalidade**: Eficiente, experiente, estilo de comunicação conciso\n",
    "- **Responsabilidades**: Gerar sugestões iniciais de viagem e atividades\n",
    "\n",
    "#### 🎩 **Agente Concierge**  \n",
    "- **Especialização**: Experiências locais autênticas e avaliação de qualidade\n",
    "- **Personalidade**: Exigente, focado em recomendações não turísticas\n",
    "- **Responsabilidades**: Revisar e refinar sugestões de viagem para garantir autenticidade\n",
    "\n",
    "## 🔧 Implementação Técnica\n",
    "\n",
    "### Arquitetura de Fluxo de Trabalho\n",
    "- **Definição de Agentes**: Instruções especializadas e configuração de personalidade\n",
    "- **Workflow Builder**: Definição de fluxo de trabalho declarativo com tratamento de eventos\n",
    "- **Protocolo de Comunicação**: Passagem estruturada de mensagens entre agentes\n",
    "- **Agregação de Resultados**: Combinação de saídas de múltiplas perspectivas de agentes\n",
    "\n",
    "### Coordenação Orientada a Eventos\n",
    "- **WorkflowEvent**: Pontos de ativação para agentes e transferências\n",
    "- **OutputEvent**: Troca estruturada de dados entre agentes\n",
    "- **Portões de Qualidade**: Pontos de validação no processo de fluxo de trabalho\n",
    "- **Ciclos de Feedback**: Refinamento iterativo por meio da colaboração entre agentes\n",
    "\n",
    "## ⚙️ Pré-requisitos e Configuração\n",
    "\n",
    "**Dependências Necessárias:**\n",
    "```bash\n",
    "\n",
    "\n",
    "pip install agent-framework-core  -U\n",
    "```\n",
    "\n",
    "**Configuração do Ambiente (arquivo .env):**\n",
    "```env\n",
    "GITHUB_TOKEN=your_github_personal_access_token\n",
    "GITHUB_ENDPOINT=https://models.inference.ai.azure.com\n",
    "GITHUB_MODEL_ID=gpt-4o-mini\n",
    "```\n",
    "\n",
    "## 🎨 Padrões de Design Multiagente\n",
    "\n",
    "### 1. **Padrão Produtor-Consumidor**\n",
    "- Agentes especializados geram conteúdo para revisão por outros\n",
    "- Pontos claros de transferência e protocolos de troca de dados\n",
    "- Garantia de qualidade por meio de revisão independente\n",
    "- Ciclos de refinamento e melhoria iterativa\n",
    "\n",
    "### 2. **Padrão de Comitê**\n",
    "- Múltiplos agentes contribuindo com diferentes perspectivas\n",
    "- Construção de consenso por meio de discussão estruturada\n",
    "- Tomada de decisão democrática com opiniões ponderadas\n",
    "- Mecanismos de resolução de conflitos e desempate\n",
    "\n",
    "### 3. **Padrão Hierárquico**\n",
    "- Agentes líderes coordenando especialistas subordinados  \n",
    "- Estruturas claras de autoridade e fluxo de decisão\n",
    "- Caminhos de escalonamento para decisões complexas\n",
    "- Monitoramento de desempenho e controle de qualidade\n",
    "\n",
    "### 4. **Padrão de Pipeline**\n",
    "- Processamento sequencial com etapas especializadas\n",
    "- Cada agente agrega valor em seu domínio de especialização\n",
    "- Eficiência no fluxo por meio de processamento paralelo\n",
    "- Tratamento de erros e recuperação em cada etapa\n",
    "\n",
    "## 🚀 Recursos Avançados Multiagente\n",
    "\n",
    "### Orquestração de Fluxo de Trabalho\n",
    "- **Roteamento Dinâmico**: Seleção e roteamento de agentes com base no contexto\n",
    "- **Processamento Paralelo**: Execução simultânea de agentes para maior eficiência\n",
    "- **Recuperação de Erros**: Tratamento elegante de falhas de agentes e novas tentativas\n",
    "- **Monitoramento de Desempenho**: Rastreamento da execução do fluxo de trabalho e otimização\n",
    "\n",
    "### Comunicação entre Agentes\n",
    "- **Mensagens Estruturadas**: Protocolos de comunicação com segurança de tipos\n",
    "- **Preservação de Contexto**: Manutenção do histórico de conversas entre agentes\n",
    "- **Passagem de Metadados**: Troca rica de informações além do conteúdo textual\n",
    "- **Transmissão de Eventos**: Padrões de publicação-assinatura para coordenação\n",
    "\n",
    "### Garantia de Qualidade\n",
    "- **Revisão de Múltiplas Perspectivas**: Diferentes agentes trazendo pontos de vista únicos\n",
    "- **Refinamento Iterativo**: Melhoria progressiva por meio de colaboração\n",
    "- **Pontos de Validação**: Portões de qualidade ao longo do fluxo de trabalho\n",
    "- **Métricas de Desempenho**: Medição da eficácia da colaboração\n",
    "\n",
    "## 📊 Casos de Uso e Aplicações\n",
    "\n",
    "### Automação de Processos Empresariais\n",
    "- Fluxos de trabalho de revisão e aprovação de documentos\n",
    "- Sistemas de escalonamento de atendimento ao cliente\n",
    "- Garantia de qualidade e verificação de conformidade\n",
    "- Criação e edição de conteúdo em várias etapas\n",
    "\n",
    "### Pesquisa e Análise\n",
    "- Sistemas de revisão por pares para artigos de pesquisa\n",
    "- Análise financeira com múltiplos analistas\n",
    "- Escrita colaborativa de relatórios e verificação de fatos\n",
    "- Revisão e aprimoramento de artigos acadêmicos\n",
    "\n",
    "### Colaboração Criativa\n",
    "- Criação de conteúdo com editores e revisores\n",
    "- Brainstorming criativo com múltiplas perspectivas\n",
    "- Design iterativo e sistemas de feedback\n",
    "- Contação de histórias colaborativa e construção de mundos\n",
    "\n",
    "Pronto para orquestrar colaborações inteligentes entre múltiplos agentes? Vamos construir sistemas onde os agentes trabalham juntos como uma equipe de alto desempenho! 🌟🤖\n"
   ]
  },
  {
   "cell_type": "code",
   "execution_count": 1,
   "id": "9b42777d",
   "metadata": {},
   "outputs": [
    {
     "name": "stdout",
     "output_type": "stream",
     "text": [
      "Requirement already satisfied: agent-framework-core in c:\\users\\kinfeylo\\appdata\\local\\miniforge3\\envs\\agentenv\\lib\\site-packages (1.0.0b251001)\n",
      "Requirement already satisfied: openai>=1.99.0 in c:\\users\\kinfeylo\\appdata\\local\\miniforge3\\envs\\agentenv\\lib\\site-packages (from agent-framework-core) (1.106.1)\n",
      "Requirement already satisfied: pydantic<3,>=2 in c:\\users\\kinfeylo\\appdata\\local\\miniforge3\\envs\\agentenv\\lib\\site-packages (from agent-framework-core) (2.11.9)\n",
      "Requirement already satisfied: pydantic-settings<3,>=2 in c:\\users\\kinfeylo\\appdata\\local\\miniforge3\\envs\\agentenv\\lib\\site-packages (from agent-framework-core) (2.10.1)\n",
      "Requirement already satisfied: typing-extensions in c:\\users\\kinfeylo\\appdata\\local\\miniforge3\\envs\\agentenv\\lib\\site-packages (from agent-framework-core) (4.15.0)\n",
      "Requirement already satisfied: opentelemetry-api>=1.24 in c:\\users\\kinfeylo\\appdata\\local\\miniforge3\\envs\\agentenv\\lib\\site-packages (from agent-framework-core) (1.36.0)\n",
      "Requirement already satisfied: opentelemetry-sdk>=1.24 in c:\\users\\kinfeylo\\appdata\\local\\miniforge3\\envs\\agentenv\\lib\\site-packages (from agent-framework-core) (1.36.0)\n",
      "Requirement already satisfied: mcp>=1.13 in c:\\users\\kinfeylo\\appdata\\local\\miniforge3\\envs\\agentenv\\lib\\site-packages (from mcp[ws]>=1.13->agent-framework-core) (1.13.1)\n",
      "Requirement already satisfied: azure-monitor-opentelemetry>=1.7.0 in c:\\users\\kinfeylo\\appdata\\local\\miniforge3\\envs\\agentenv\\lib\\site-packages (from agent-framework-core) (1.8.0)\n",
      "Requirement already satisfied: azure-monitor-opentelemetry-exporter>=1.0.0b41 in c:\\users\\kinfeylo\\appdata\\local\\miniforge3\\envs\\agentenv\\lib\\site-packages (from agent-framework-core) (1.0.0b41)\n",
      "Requirement already satisfied: opentelemetry-exporter-otlp-proto-grpc>=1.36.0 in c:\\users\\kinfeylo\\appdata\\local\\miniforge3\\envs\\agentenv\\lib\\site-packages (from agent-framework-core) (1.36.0)\n",
      "Requirement already satisfied: opentelemetry-semantic-conventions-ai>=0.4.13 in c:\\users\\kinfeylo\\appdata\\local\\miniforge3\\envs\\agentenv\\lib\\site-packages (from agent-framework-core) (0.4.13)\n",
      "Requirement already satisfied: aiofiles>=24.1.0 in c:\\users\\kinfeylo\\appdata\\local\\miniforge3\\envs\\agentenv\\lib\\site-packages (from agent-framework-core) (24.1.0)\n",
      "Requirement already satisfied: azure-identity<2,>=1 in c:\\users\\kinfeylo\\appdata\\local\\miniforge3\\envs\\agentenv\\lib\\site-packages (from agent-framework-core) (1.24.0)\n",
      "Requirement already satisfied: azure-core>=1.31.0 in c:\\users\\kinfeylo\\appdata\\local\\miniforge3\\envs\\agentenv\\lib\\site-packages (from azure-identity<2,>=1->agent-framework-core) (1.35.0)\n",
      "Requirement already satisfied: cryptography>=2.5 in c:\\users\\kinfeylo\\appdata\\local\\miniforge3\\envs\\agentenv\\lib\\site-packages (from azure-identity<2,>=1->agent-framework-core) (45.0.7)\n",
      "Requirement already satisfied: msal>=1.30.0 in c:\\users\\kinfeylo\\appdata\\local\\miniforge3\\envs\\agentenv\\lib\\site-packages (from azure-identity<2,>=1->agent-framework-core) (1.33.0)\n",
      "Requirement already satisfied: msal-extensions>=1.2.0 in c:\\users\\kinfeylo\\appdata\\local\\miniforge3\\envs\\agentenv\\lib\\site-packages (from azure-identity<2,>=1->agent-framework-core) (1.3.1)\n",
      "Requirement already satisfied: annotated-types>=0.6.0 in c:\\users\\kinfeylo\\appdata\\local\\miniforge3\\envs\\agentenv\\lib\\site-packages (from pydantic<3,>=2->agent-framework-core) (0.7.0)\n",
      "Requirement already satisfied: pydantic-core==2.33.2 in c:\\users\\kinfeylo\\appdata\\local\\miniforge3\\envs\\agentenv\\lib\\site-packages (from pydantic<3,>=2->agent-framework-core) (2.33.2)\n",
      "Requirement already satisfied: typing-inspection>=0.4.0 in c:\\users\\kinfeylo\\appdata\\local\\miniforge3\\envs\\agentenv\\lib\\site-packages (from pydantic<3,>=2->agent-framework-core) (0.4.1)\n",
      "Requirement already satisfied: python-dotenv>=0.21.0 in c:\\users\\kinfeylo\\appdata\\local\\miniforge3\\envs\\agentenv\\lib\\site-packages (from pydantic-settings<3,>=2->agent-framework-core) (1.1.1)\n",
      "Requirement already satisfied: requests>=2.21.0 in c:\\users\\kinfeylo\\appdata\\local\\miniforge3\\envs\\agentenv\\lib\\site-packages (from azure-core>=1.31.0->azure-identity<2,>=1->agent-framework-core) (2.32.5)\n",
      "Requirement already satisfied: six>=1.11.0 in c:\\users\\kinfeylo\\appdata\\local\\miniforge3\\envs\\agentenv\\lib\\site-packages (from azure-core>=1.31.0->azure-identity<2,>=1->agent-framework-core) (1.17.0)\n",
      "Requirement already satisfied: azure-core-tracing-opentelemetry~=1.0.0b11 in c:\\users\\kinfeylo\\appdata\\local\\miniforge3\\envs\\agentenv\\lib\\site-packages (from azure-monitor-opentelemetry>=1.7.0->agent-framework-core) (1.0.0b12)\n",
      "Requirement already satisfied: opentelemetry-instrumentation-django~=0.57b0 in c:\\users\\kinfeylo\\appdata\\local\\miniforge3\\envs\\agentenv\\lib\\site-packages (from azure-monitor-opentelemetry>=1.7.0->agent-framework-core) (0.57b0)\n",
      "Requirement already satisfied: opentelemetry-instrumentation-fastapi~=0.57b0 in c:\\users\\kinfeylo\\appdata\\local\\miniforge3\\envs\\agentenv\\lib\\site-packages (from azure-monitor-opentelemetry>=1.7.0->agent-framework-core) (0.57b0)\n",
      "Requirement already satisfied: opentelemetry-instrumentation-flask~=0.57b0 in c:\\users\\kinfeylo\\appdata\\local\\miniforge3\\envs\\agentenv\\lib\\site-packages (from azure-monitor-opentelemetry>=1.7.0->agent-framework-core) (0.57b0)\n",
      "Requirement already satisfied: opentelemetry-instrumentation-psycopg2~=0.57b0 in c:\\users\\kinfeylo\\appdata\\local\\miniforge3\\envs\\agentenv\\lib\\site-packages (from azure-monitor-opentelemetry>=1.7.0->agent-framework-core) (0.57b0)\n",
      "Requirement already satisfied: opentelemetry-instrumentation-requests~=0.57b0 in c:\\users\\kinfeylo\\appdata\\local\\miniforge3\\envs\\agentenv\\lib\\site-packages (from azure-monitor-opentelemetry>=1.7.0->agent-framework-core) (0.57b0)\n",
      "Requirement already satisfied: opentelemetry-instrumentation-urllib~=0.57b0 in c:\\users\\kinfeylo\\appdata\\local\\miniforge3\\envs\\agentenv\\lib\\site-packages (from azure-monitor-opentelemetry>=1.7.0->agent-framework-core) (0.57b0)\n",
      "Requirement already satisfied: opentelemetry-instrumentation-urllib3~=0.57b0 in c:\\users\\kinfeylo\\appdata\\local\\miniforge3\\envs\\agentenv\\lib\\site-packages (from azure-monitor-opentelemetry>=1.7.0->agent-framework-core) (0.57b0)\n",
      "Requirement already satisfied: opentelemetry-resource-detector-azure~=0.1.5 in c:\\users\\kinfeylo\\appdata\\local\\miniforge3\\envs\\agentenv\\lib\\site-packages (from azure-monitor-opentelemetry>=1.7.0->agent-framework-core) (0.1.5)\n",
      "Requirement already satisfied: fixedint==0.1.6 in c:\\users\\kinfeylo\\appdata\\local\\miniforge3\\envs\\agentenv\\lib\\site-packages (from azure-monitor-opentelemetry-exporter>=1.0.0b41->agent-framework-core) (0.1.6)\n",
      "Requirement already satisfied: msrest>=0.6.10 in c:\\users\\kinfeylo\\appdata\\local\\miniforge3\\envs\\agentenv\\lib\\site-packages (from azure-monitor-opentelemetry-exporter>=1.0.0b41->agent-framework-core) (0.7.1)\n",
      "Requirement already satisfied: psutil<8,>=5.9 in c:\\users\\kinfeylo\\appdata\\local\\miniforge3\\envs\\agentenv\\lib\\site-packages (from azure-monitor-opentelemetry-exporter>=1.0.0b41->agent-framework-core) (7.0.0)\n",
      "Requirement already satisfied: importlib-metadata<8.8.0,>=6.0 in c:\\users\\kinfeylo\\appdata\\local\\miniforge3\\envs\\agentenv\\lib\\site-packages (from opentelemetry-api>=1.24->agent-framework-core) (8.7.0)\n",
      "Requirement already satisfied: zipp>=3.20 in c:\\users\\kinfeylo\\appdata\\local\\miniforge3\\envs\\agentenv\\lib\\site-packages (from importlib-metadata<8.8.0,>=6.0->opentelemetry-api>=1.24->agent-framework-core) (3.23.0)\n",
      "Requirement already satisfied: opentelemetry-instrumentation-wsgi==0.57b0 in c:\\users\\kinfeylo\\appdata\\local\\miniforge3\\envs\\agentenv\\lib\\site-packages (from opentelemetry-instrumentation-django~=0.57b0->azure-monitor-opentelemetry>=1.7.0->agent-framework-core) (0.57b0)\n",
      "Requirement already satisfied: opentelemetry-instrumentation==0.57b0 in c:\\users\\kinfeylo\\appdata\\local\\miniforge3\\envs\\agentenv\\lib\\site-packages (from opentelemetry-instrumentation-django~=0.57b0->azure-monitor-opentelemetry>=1.7.0->agent-framework-core) (0.57b0)\n",
      "Requirement already satisfied: opentelemetry-semantic-conventions==0.57b0 in c:\\users\\kinfeylo\\appdata\\local\\miniforge3\\envs\\agentenv\\lib\\site-packages (from opentelemetry-instrumentation-django~=0.57b0->azure-monitor-opentelemetry>=1.7.0->agent-framework-core) (0.57b0)\n",
      "Requirement already satisfied: opentelemetry-util-http==0.57b0 in c:\\users\\kinfeylo\\appdata\\local\\miniforge3\\envs\\agentenv\\lib\\site-packages (from opentelemetry-instrumentation-django~=0.57b0->azure-monitor-opentelemetry>=1.7.0->agent-framework-core) (0.57b0)\n",
      "Requirement already satisfied: packaging>=18.0 in c:\\users\\kinfeylo\\appdata\\local\\miniforge3\\envs\\agentenv\\lib\\site-packages (from opentelemetry-instrumentation==0.57b0->opentelemetry-instrumentation-django~=0.57b0->azure-monitor-opentelemetry>=1.7.0->agent-framework-core) (25.0)\n",
      "Requirement already satisfied: wrapt<2.0.0,>=1.0.0 in c:\\users\\kinfeylo\\appdata\\local\\miniforge3\\envs\\agentenv\\lib\\site-packages (from opentelemetry-instrumentation==0.57b0->opentelemetry-instrumentation-django~=0.57b0->azure-monitor-opentelemetry>=1.7.0->agent-framework-core) (1.17.3)\n",
      "Requirement already satisfied: opentelemetry-instrumentation-asgi==0.57b0 in c:\\users\\kinfeylo\\appdata\\local\\miniforge3\\envs\\agentenv\\lib\\site-packages (from opentelemetry-instrumentation-fastapi~=0.57b0->azure-monitor-opentelemetry>=1.7.0->agent-framework-core) (0.57b0)\n",
      "Requirement already satisfied: asgiref~=3.0 in c:\\users\\kinfeylo\\appdata\\local\\miniforge3\\envs\\agentenv\\lib\\site-packages (from opentelemetry-instrumentation-asgi==0.57b0->opentelemetry-instrumentation-fastapi~=0.57b0->azure-monitor-opentelemetry>=1.7.0->agent-framework-core) (3.9.1)\n",
      "Requirement already satisfied: opentelemetry-instrumentation-dbapi==0.57b0 in c:\\users\\kinfeylo\\appdata\\local\\miniforge3\\envs\\agentenv\\lib\\site-packages (from opentelemetry-instrumentation-psycopg2~=0.57b0->azure-monitor-opentelemetry>=1.7.0->agent-framework-core) (0.57b0)\n",
      "Requirement already satisfied: cffi>=1.14 in c:\\users\\kinfeylo\\appdata\\local\\miniforge3\\envs\\agentenv\\lib\\site-packages (from cryptography>=2.5->azure-identity<2,>=1->agent-framework-core) (1.17.1)\n",
      "Requirement already satisfied: pycparser in c:\\users\\kinfeylo\\appdata\\local\\miniforge3\\envs\\agentenv\\lib\\site-packages (from cffi>=1.14->cryptography>=2.5->azure-identity<2,>=1->agent-framework-core) (2.22)\n",
      "Requirement already satisfied: anyio>=4.5 in c:\\users\\kinfeylo\\appdata\\local\\miniforge3\\envs\\agentenv\\lib\\site-packages (from mcp>=1.13->mcp[ws]>=1.13->agent-framework-core) (4.10.0)\n",
      "Requirement already satisfied: httpx-sse>=0.4 in c:\\users\\kinfeylo\\appdata\\local\\miniforge3\\envs\\agentenv\\lib\\site-packages (from mcp>=1.13->mcp[ws]>=1.13->agent-framework-core) (0.4.1)\n",
      "Requirement already satisfied: httpx>=0.27.1 in c:\\users\\kinfeylo\\appdata\\local\\miniforge3\\envs\\agentenv\\lib\\site-packages (from mcp>=1.13->mcp[ws]>=1.13->agent-framework-core) (0.28.1)\n",
      "Requirement already satisfied: jsonschema>=4.20.0 in c:\\users\\kinfeylo\\appdata\\local\\miniforge3\\envs\\agentenv\\lib\\site-packages (from mcp>=1.13->mcp[ws]>=1.13->agent-framework-core) (4.25.1)\n",
      "Requirement already satisfied: python-multipart>=0.0.9 in c:\\users\\kinfeylo\\appdata\\local\\miniforge3\\envs\\agentenv\\lib\\site-packages (from mcp>=1.13->mcp[ws]>=1.13->agent-framework-core) (0.0.20)\n",
      "Requirement already satisfied: pywin32>=310 in c:\\users\\kinfeylo\\appdata\\local\\miniforge3\\envs\\agentenv\\lib\\site-packages (from mcp>=1.13->mcp[ws]>=1.13->agent-framework-core) (311)\n",
      "Requirement already satisfied: sse-starlette>=1.6.1 in c:\\users\\kinfeylo\\appdata\\local\\miniforge3\\envs\\agentenv\\lib\\site-packages (from mcp>=1.13->mcp[ws]>=1.13->agent-framework-core) (3.0.2)\n",
      "Requirement already satisfied: starlette>=0.27 in c:\\users\\kinfeylo\\appdata\\local\\miniforge3\\envs\\agentenv\\lib\\site-packages (from mcp>=1.13->mcp[ws]>=1.13->agent-framework-core) (0.47.3)\n",
      "Requirement already satisfied: uvicorn>=0.31.1 in c:\\users\\kinfeylo\\appdata\\local\\miniforge3\\envs\\agentenv\\lib\\site-packages (from mcp>=1.13->mcp[ws]>=1.13->agent-framework-core) (0.35.0)\n",
      "Requirement already satisfied: idna>=2.8 in c:\\users\\kinfeylo\\appdata\\local\\miniforge3\\envs\\agentenv\\lib\\site-packages (from anyio>=4.5->mcp>=1.13->mcp[ws]>=1.13->agent-framework-core) (3.10)\n",
      "Requirement already satisfied: sniffio>=1.1 in c:\\users\\kinfeylo\\appdata\\local\\miniforge3\\envs\\agentenv\\lib\\site-packages (from anyio>=4.5->mcp>=1.13->mcp[ws]>=1.13->agent-framework-core) (1.3.1)\n",
      "Requirement already satisfied: certifi in c:\\users\\kinfeylo\\appdata\\local\\miniforge3\\envs\\agentenv\\lib\\site-packages (from httpx>=0.27.1->mcp>=1.13->mcp[ws]>=1.13->agent-framework-core) (2025.8.3)\n",
      "Requirement already satisfied: httpcore==1.* in c:\\users\\kinfeylo\\appdata\\local\\miniforge3\\envs\\agentenv\\lib\\site-packages (from httpx>=0.27.1->mcp>=1.13->mcp[ws]>=1.13->agent-framework-core) (1.0.9)\n",
      "Requirement already satisfied: h11>=0.16 in c:\\users\\kinfeylo\\appdata\\local\\miniforge3\\envs\\agentenv\\lib\\site-packages (from httpcore==1.*->httpx>=0.27.1->mcp>=1.13->mcp[ws]>=1.13->agent-framework-core) (0.16.0)\n",
      "Requirement already satisfied: attrs>=22.2.0 in c:\\users\\kinfeylo\\appdata\\local\\miniforge3\\envs\\agentenv\\lib\\site-packages (from jsonschema>=4.20.0->mcp>=1.13->mcp[ws]>=1.13->agent-framework-core) (25.3.0)\n",
      "Requirement already satisfied: jsonschema-specifications>=2023.03.6 in c:\\users\\kinfeylo\\appdata\\local\\miniforge3\\envs\\agentenv\\lib\\site-packages (from jsonschema>=4.20.0->mcp>=1.13->mcp[ws]>=1.13->agent-framework-core) (2025.4.1)\n",
      "Requirement already satisfied: referencing>=0.28.4 in c:\\users\\kinfeylo\\appdata\\local\\miniforge3\\envs\\agentenv\\lib\\site-packages (from jsonschema>=4.20.0->mcp>=1.13->mcp[ws]>=1.13->agent-framework-core) (0.36.2)\n",
      "Requirement already satisfied: rpds-py>=0.7.1 in c:\\users\\kinfeylo\\appdata\\local\\miniforge3\\envs\\agentenv\\lib\\site-packages (from jsonschema>=4.20.0->mcp>=1.13->mcp[ws]>=1.13->agent-framework-core) (0.27.1)\n",
      "Requirement already satisfied: websockets>=15.0.1 in c:\\users\\kinfeylo\\appdata\\local\\miniforge3\\envs\\agentenv\\lib\\site-packages (from mcp[ws]>=1.13->agent-framework-core) (15.0.1)\n",
      "Requirement already satisfied: PyJWT<3,>=1.0.0 in c:\\users\\kinfeylo\\appdata\\local\\miniforge3\\envs\\agentenv\\lib\\site-packages (from PyJWT[crypto]<3,>=1.0.0->msal>=1.30.0->azure-identity<2,>=1->agent-framework-core) (2.10.1)\n",
      "Requirement already satisfied: charset_normalizer<4,>=2 in c:\\users\\kinfeylo\\appdata\\local\\miniforge3\\envs\\agentenv\\lib\\site-packages (from requests>=2.21.0->azure-core>=1.31.0->azure-identity<2,>=1->agent-framework-core) (3.4.3)\n",
      "Requirement already satisfied: urllib3<3,>=1.21.1 in c:\\users\\kinfeylo\\appdata\\local\\miniforge3\\envs\\agentenv\\lib\\site-packages (from requests>=2.21.0->azure-core>=1.31.0->azure-identity<2,>=1->agent-framework-core) (2.5.0)\n",
      "Requirement already satisfied: isodate>=0.6.0 in c:\\users\\kinfeylo\\appdata\\local\\miniforge3\\envs\\agentenv\\lib\\site-packages (from msrest>=0.6.10->azure-monitor-opentelemetry-exporter>=1.0.0b41->agent-framework-core) (0.7.2)\n",
      "Requirement already satisfied: requests-oauthlib>=0.5.0 in c:\\users\\kinfeylo\\appdata\\local\\miniforge3\\envs\\agentenv\\lib\\site-packages (from msrest>=0.6.10->azure-monitor-opentelemetry-exporter>=1.0.0b41->agent-framework-core) (2.0.0)\n",
      "Requirement already satisfied: distro<2,>=1.7.0 in c:\\users\\kinfeylo\\appdata\\local\\miniforge3\\envs\\agentenv\\lib\\site-packages (from openai>=1.99.0->agent-framework-core) (1.9.0)\n",
      "Requirement already satisfied: jiter<1,>=0.4.0 in c:\\users\\kinfeylo\\appdata\\local\\miniforge3\\envs\\agentenv\\lib\\site-packages (from openai>=1.99.0->agent-framework-core) (0.10.0)\n",
      "Requirement already satisfied: tqdm>4 in c:\\users\\kinfeylo\\appdata\\local\\miniforge3\\envs\\agentenv\\lib\\site-packages (from openai>=1.99.0->agent-framework-core) (4.67.1)\n",
      "Requirement already satisfied: googleapis-common-protos~=1.57 in c:\\users\\kinfeylo\\appdata\\local\\miniforge3\\envs\\agentenv\\lib\\site-packages (from opentelemetry-exporter-otlp-proto-grpc>=1.36.0->agent-framework-core) (1.70.0)\n",
      "Requirement already satisfied: grpcio<2.0.0,>=1.63.2 in c:\\users\\kinfeylo\\appdata\\local\\miniforge3\\envs\\agentenv\\lib\\site-packages (from opentelemetry-exporter-otlp-proto-grpc>=1.36.0->agent-framework-core) (1.74.0)\n",
      "Requirement already satisfied: opentelemetry-exporter-otlp-proto-common==1.36.0 in c:\\users\\kinfeylo\\appdata\\local\\miniforge3\\envs\\agentenv\\lib\\site-packages (from opentelemetry-exporter-otlp-proto-grpc>=1.36.0->agent-framework-core) (1.36.0)\n",
      "Requirement already satisfied: opentelemetry-proto==1.36.0 in c:\\users\\kinfeylo\\appdata\\local\\miniforge3\\envs\\agentenv\\lib\\site-packages (from opentelemetry-exporter-otlp-proto-grpc>=1.36.0->agent-framework-core) (1.36.0)\n",
      "Requirement already satisfied: protobuf<7.0,>=5.0 in c:\\users\\kinfeylo\\appdata\\local\\miniforge3\\envs\\agentenv\\lib\\site-packages (from opentelemetry-proto==1.36.0->opentelemetry-exporter-otlp-proto-grpc>=1.36.0->agent-framework-core) (5.29.5)\n",
      "Requirement already satisfied: oauthlib>=3.0.0 in c:\\users\\kinfeylo\\appdata\\local\\miniforge3\\envs\\agentenv\\lib\\site-packages (from requests-oauthlib>=0.5.0->msrest>=0.6.10->azure-monitor-opentelemetry-exporter>=1.0.0b41->agent-framework-core) (3.3.1)\n",
      "Requirement already satisfied: colorama in c:\\users\\kinfeylo\\appdata\\local\\miniforge3\\envs\\agentenv\\lib\\site-packages (from tqdm>4->openai>=1.99.0->agent-framework-core) (0.4.6)\n",
      "Requirement already satisfied: click>=7.0 in c:\\users\\kinfeylo\\appdata\\local\\miniforge3\\envs\\agentenv\\lib\\site-packages (from uvicorn>=0.31.1->mcp>=1.13->mcp[ws]>=1.13->agent-framework-core) (8.2.1)\n"
     ]
    }
   ],
   "source": [
    "! pip install agent-framework-core -U"
   ]
  },
  {
   "cell_type": "code",
   "execution_count": 2,
   "id": "604f5e98",
   "metadata": {
    "language_info": {
     "name": "polyglot-notebook"
    },
    "polyglot_notebook": {
     "kernelName": "csharp"
    }
   },
   "outputs": [],
   "source": [
    "# 🤖 Import Multi-Agent Workflow Components\n",
    "# OpenAIChatClient: GitHub Models integration for agent communication\n",
    "# WorkflowEvent, WorkflowBuilder: Core workflow orchestration classes\n",
    "# WorkflowOutputEvent: Structured event handling for agent coordination\n",
    "from agent_framework.openai import OpenAIChatClient\n",
    "from agent_framework import WorkflowEvent, WorkflowBuilder, WorkflowOutputEvent"
   ]
  },
  {
   "cell_type": "code",
   "execution_count": 3,
   "id": "a7bbeb9f",
   "metadata": {
    "language_info": {
     "name": "polyglot-notebook"
    },
    "polyglot_notebook": {
     "kernelName": "csharp"
    }
   },
   "outputs": [],
   "source": [
    "# 📦 Import Configuration and Environment Management\n",
    "import os                      # Environment variable access for secure configuration\n",
    "from dotenv import load_dotenv # Secure loading of API credentials and settings"
   ]
  },
  {
   "cell_type": "code",
   "execution_count": 4,
   "id": "a35f9a38",
   "metadata": {
    "language_info": {
     "name": "polyglot-notebook"
    },
    "polyglot_notebook": {
     "kernelName": "csharp"
    }
   },
   "outputs": [
    {
     "data": {
      "text/plain": [
       "True"
      ]
     },
     "execution_count": 4,
     "metadata": {},
     "output_type": "execute_result"
    }
   ],
   "source": [
    "# 🔧 Load Multi-Agent Workflow Configuration  \n",
    "# Load environment variables for secure GitHub Models access\n",
    "# Required: GITHUB_ENDPOINT, GITHUB_TOKEN, GITHUB_MODEL_ID for agent communication\n",
    "load_dotenv()"
   ]
  },
  {
   "cell_type": "code",
   "execution_count": 5,
   "id": "763a7e8d",
   "metadata": {
    "language_info": {
     "name": "polyglot-notebook"
    },
    "polyglot_notebook": {
     "kernelName": "csharp"
    }
   },
   "outputs": [],
   "source": [
    "# 🔗 Initialize Shared Chat Client for Multi-Agent Communication\n",
    "# Create a unified client that all agents in the workflow will use\n",
    "# This ensures consistent API access and efficient resource utilization\n",
    "chat_client = OpenAIChatClient(\n",
    "    base_url=os.environ.get(\"GITHUB_ENDPOINT\"),    # GitHub Models API endpoint\n",
    "    api_key=os.environ.get(\"GITHUB_TOKEN\"),        # Authentication token\n",
    "    model_id=os.environ.get(\"GITHUB_MODEL_ID\")  # Model for all agents in workflow\n",
    ")"
   ]
  },
  {
   "cell_type": "code",
   "execution_count": 6,
   "id": "ed07880b",
   "metadata": {
    "language_info": {
     "name": "polyglot-notebook"
    },
    "polyglot_notebook": {
     "kernelName": "csharp"
    }
   },
   "outputs": [],
   "source": [
    "# 🎩 Agent 1: Hotel Concierge - Quality Reviewer Role\n",
    "# This agent specializes in evaluating travel recommendations for authenticity\n",
    "# Acts as the second stage in our multi-agent workflow for quality assurance\n",
    "REVIEWER_NAME = \"Concierge\"\n",
    "REVIEWER_INSTRUCTIONS = \"\"\"\n",
    "    You are an experienced hotel concierge who has strong opinions about providing the most local and authentic experiences for travelers.\n",
    "    \n",
    "    Your role in this multi-agent workflow:\n",
    "    - Review travel recommendations from the Front Desk agent\n",
    "    - Assess whether suggestions provide authentic, non-touristy experiences\n",
    "    - Approve recommendations that meet high standards for local authenticity\n",
    "    - Provide constructive feedback for refinement without giving specific examples\n",
    "    \n",
    "    Always focus on the quality and authenticity of experiences rather than just popular tourist destinations.\n",
    "    \"\"\""
   ]
  },
  {
   "cell_type": "code",
   "execution_count": 7,
   "id": "16ed7969",
   "metadata": {
    "language_info": {
     "name": "polyglot-notebook"
    },
    "polyglot_notebook": {
     "kernelName": "csharp"
    }
   },
   "outputs": [],
   "source": [
    "FRONTDESK_NAME = \"FrontDesk\"\n",
    "FRONTDESK_INSTRUCTIONS = \"\"\"\n",
    "    You are a Front Desk Travel Agent with ten years of experience and are known for brevity as you deal with many customers.\n",
    "    The goal is to provide the best activities and locations for a traveler to visit.\n",
    "    Only provide a single recommendation per response.\n",
    "    You're laser focused on the goal at hand.\n",
    "    Don't waste time with chit chat.\n",
    "    Consider suggestions when refining an idea.\n",
    "    \"\"\""
   ]
  },
  {
   "cell_type": "code",
   "execution_count": 8,
   "id": "558221d3",
   "metadata": {
    "language_info": {
     "name": "polyglot-notebook"
    },
    "polyglot_notebook": {
     "kernelName": "csharp"
    }
   },
   "outputs": [],
   "source": [
    "writer_agent    = chat_client.create_agent(\n",
    "        instructions=(\n",
    "           REVIEWER_INSTRUCTIONS\n",
    "        ),\n",
    "        name=REVIEWER_NAME,\n",
    "    )\n",
    "\n",
    "agent_reviewer = chat_client.create_agent(\n",
    "        instructions=(\n",
    "            FRONTDESK_INSTRUCTIONS\n",
    "        ),\n",
    "        name=FRONTDESK_NAME,\n",
    "    )"
   ]
  },
  {
   "cell_type": "code",
   "execution_count": 9,
   "id": "5de16a9c",
   "metadata": {
    "language_info": {
     "name": "polyglot-notebook"
    },
    "polyglot_notebook": {
     "kernelName": "csharp"
    }
   },
   "outputs": [],
   "source": [
    "workflow = WorkflowBuilder().set_start_executor(writer_agent).add_edge(writer_agent, agent_reviewer).build()"
   ]
  },
  {
   "cell_type": "code",
   "execution_count": 10,
   "id": "99988262",
   "metadata": {},
   "outputs": [],
   "source": [
    "\n",
    "class DatabaseEvent(WorkflowEvent): ..."
   ]
  },
  {
   "cell_type": "code",
   "execution_count": 11,
   "id": "1e3dcb96",
   "metadata": {},
   "outputs": [
    {
     "name": "stdout",
     "output_type": "stream",
     "text": [
      "Workflow output: Visit the Louvre Museum for an unparalleled art experience.\n"
     ]
    }
   ],
   "source": [
    "async for event in workflow.run_stream(\"I would like to go to Paris.\"):\n",
    "        if isinstance(event, DatabaseEvent):\n",
    "            print(f\"{event}\")\n",
    "        elif isinstance(event, WorkflowOutputEvent):\n",
    "            print(f\"Workflow output: {event.data}\")"
   ]
  },
  {
   "cell_type": "markdown",
   "metadata": {},
   "source": [
    "\n---\n\n**Aviso Legal**:  \nEste documento foi traduzido utilizando o serviço de tradução por IA [Co-op Translator](https://github.com/Azure/co-op-translator). Embora nos esforcemos para garantir a precisão, esteja ciente de que traduções automatizadas podem conter erros ou imprecisões. O documento original em seu idioma nativo deve ser considerado a fonte oficial. Para informações críticas, recomenda-se a tradução profissional realizada por humanos. Não nos responsabilizamos por quaisquer mal-entendidos ou interpretações equivocadas decorrentes do uso desta tradução.\n"
   ]
  }
 ],
 "metadata": {
  "kernelspec": {
   "display_name": "agentenv",
   "language": "python",
   "name": "python3"
  },
  "language_info": {
   "codemirror_mode": {
    "name": "ipython",
    "version": 3
   },
   "file_extension": ".py",
   "mimetype": "text/x-python",
   "name": "python",
   "nbconvert_exporter": "python",
   "pygments_lexer": "ipython3",
   "version": "3.12.10"
  },
  "polyglot_notebook": {
   "kernelInfo": {
    "defaultKernelName": "csharp",
    "items": [
     {
      "aliases": [],
      "name": "csharp"
     }
    ]
   }
  },
  "coopTranslator": {
   "original_hash": "45f63d4607a79ed16109bb109513aaff",
   "translation_date": "2025-10-02T14:11:46+00:00",
   "source_file": "08-multi-agent/code_samples/08-python-agent-framework.ipynb",
   "language_code": "br"
  }
 },
 "nbformat": 4,
 "nbformat_minor": 5
}