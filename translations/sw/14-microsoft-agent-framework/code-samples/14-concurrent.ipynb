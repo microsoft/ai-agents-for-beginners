{
 "cells": [
  {
   "cell_type": "markdown",
   "id": "69f48405",
   "metadata": {},
   "source": [
    "# Mapendekezo ya Kusafiri kwa Mpangilio wa Pamoja\n",
    "\n",
    "Notebook hii inaonyesha **mpangilio wa pamoja** kwa kutumia Mfumo wa Wakala wa Microsoft. Tutaunda mfumo wa mapendekezo ya kusafiri na mawakala watatu maalum wanaofanya kazi sambamba kutoa maarifa ya kina kuhusu safari.\n",
    "\n",
    "## Kile Utakachojifunza:\n",
    "1. **Mpangilio wa Pamoja**: Kuendesha mawakala wengi kwa wakati mmoja (mfumo wa fan-out/fan-in)\n",
    "2. **ConcurrentBuilder**: API ya kiwango cha juu kwa kujenga mtiririko wa kazi wa pamoja\n",
    "3. **Mapendekezo ya Kusafiri**: Mawakala watatu maalum wakifanya kazi pamoja\n",
    "4. **Muunganiko wa Kawaida**: Kuunganisha majibu ya mawakala wengi\n",
    "5. **Faida za Utendaji**: Utekelezaji sambamba dhidi ya usindikaji wa mfululizo\n",
    "\n",
    "## Mawakala Watatu Maalum:\n",
    "\n",
    "1. **Wakala wa Vivutio**: Vivutio vya watalii, shughuli, alama za kumbukumbu\n",
    "2. **Wakala wa Chakula**: Vyakula vya kienyeji, mikahawa, uzoefu wa chakula\n",
    "3. **Wakala wa Historia**: Ukweli wa kihistoria, umuhimu wa kitamaduni, muktadha\n"
   ]
  },
  {
   "cell_type": "code",
   "execution_count": 3,
   "id": "1c8918b5",
   "metadata": {},
   "outputs": [
    {
     "name": "stdout",
     "output_type": "stream",
     "text": [
      "All imports successful!\n"
     ]
    }
   ],
   "source": [
    "import asyncio\n",
    "import json\n",
    "import os\n",
    "from typing import Any, cast\n",
    "\n",
    "from agent_framework import (\n",
    "    ChatMessage,\n",
    "    ConcurrentBuilder,\n",
    "    WorkflowOutputEvent,\n",
    ")\n",
    "\n",
    "# GitHub Models or OpenAI client integration\n",
    "from agent_framework.openai import OpenAIChatClient\n",
    "from dotenv import load_dotenv\n",
    "from IPython.display import HTML, display\n",
    "from pydantic import BaseModel\n",
    "\n",
    "print(\"All imports successful!\")"
   ]
  },
  {
   "cell_type": "markdown",
   "id": "2733c34d",
   "metadata": {},
   "source": [
    "## Hatua ya 1: Fafanua Miundo ya Pydantic kwa Matokeo Yaliyopangiliwa\n",
    "\n",
    "Miundo hii inafafanua mpangilio ambao kila wakala maalum atarudisha. Hii inahakikisha majibu yanayolingana na yanayoweza kuchambuliwa kutoka kwa mawakala wote.\n"
   ]
  },
  {
   "cell_type": "markdown",
   "id": "0d144c4c",
   "metadata": {},
   "source": [
    "## Hatua ya 1: Fafanua Miundo ya Pydantic kwa Matokeo Yaliyopangiliwa\n",
    "\n",
    "Miundo hii inaelezea mpangilio ambao kila wakala maalum atarudisha. Hii inahakikisha majibu yanayolingana na yanayoweza kuchambuliwa kutoka kwa mawakala wote.\n"
   ]
  },
  {
   "cell_type": "code",
   "execution_count": 6,
   "id": "e0749818",
   "metadata": {},
   "outputs": [],
   "source": [
    "class AttractionsRecommendation(BaseModel):\n",
    "    \"\"\"Tourist attractions and activities recommendations.\"\"\"\n",
    "\n",
    "    destination: str\n",
    "    top_attractions: list[str]\n",
    "    activities: list[str]\n",
    "    best_time_to_visit: str\n",
    "    transportation_tips: str  \n",
    "\n",
    "\n",
    "class DiningRecommendation(BaseModel):\n",
    "    \"\"\"Food and dining recommendations.\"\"\"\n",
    "\n",
    "    destination: str\n",
    "    local_cuisine: str\n",
    "    must_try_dishes: list[str]\n",
    "    recommended_restaurants: list[str]\n",
    "    food_experiences: list[str]\n",
    "    dining_etiquette: str\n",
    "\n",
    "\n",
    "class HistoryRecommendation(BaseModel):\n",
    "    \"\"\"Historical and cultural information.\"\"\"\n",
    "\n",
    "    destination: str\n",
    "    historical_significance: str\n",
    "    cultural_highlights: list[str]\n",
    "    important_periods: list[str]\n",
    "    cultural_experiences: list[str]\n",
    "    interesting_facts: list[str]"
   ]
  },
  {
   "cell_type": "markdown",
   "id": "979521fb",
   "metadata": {},
   "source": [
    "## Hatua ya 2: Pakia Vigezo vya Mazingira\n",
    "\n",
    "Sanidi mteja wa LLM (GitHub Models au OpenAI) ukifuata mtindo sawa na daftari la middleware.\n"
   ]
  },
  {
   "cell_type": "code",
   "execution_count": 10,
   "id": "c5179ca3",
   "metadata": {},
   "outputs": [],
   "source": [
    "# Load environment variables\n",
    "load_dotenv()\n",
    "\n",
    "# Check for GitHub Models or OpenAI\n",
    "chat_client = OpenAIChatClient(\n",
    "    base_url=os.environ.get(\"GITHUB_ENDPOINT\"),\n",
    "    api_key=os.environ.get(\"GITHUB_TOKEN\"),\n",
    "    model_id=\"gpt-4o\"\n",
    ")"
   ]
  },
  {
   "cell_type": "markdown",
   "id": "8e4eb398",
   "metadata": {},
   "source": [
    "## Hatua ya 3: Unda Mawakala Watatu Maalum wa Kusafiri\n"
   ]
  },
  {
   "cell_type": "code",
   "execution_count": 11,
   "id": "6a9571c6",
   "metadata": {},
   "outputs": [],
   "source": [
    "# Agent 1: Tourist Attractions Expert\n",
    "attractions_agent = chat_client.create_agent(\n",
    "    instructions=(\n",
    "        \"You are a tourism expert specializing in attractions and activities. \"\n",
    "        \"When given a travel destination, provide comprehensive recommendations for \"\n",
    "        \"tourist attractions, activities, best times to visit, and transportation tips. \"\n",
    "        \"Focus on popular landmarks, unique experiences, and practical travel advice. \"\n",
    "        \"Return structured JSON with the specified fields.\"\n",
    "    ),\n",
    "    name=\"attractions_agent\",\n",
    "    response_format=AttractionsRecommendation,\n",
    ")\n",
    "\n",
    "# Agent 2: Food and Dining Expert\n",
    "dining_agent = chat_client.create_agent(\n",
    "    instructions=(\n",
    "        \"You are a culinary expert specializing in local food and dining experiences. \"\n",
    "        \"When given a travel destination, provide recommendations for local cuisine, \"\n",
    "        \"must-try dishes, recommended restaurants, and unique food experiences. \"\n",
    "        \"Include dining etiquette and cultural food customs. \"\n",
    "        \"Return structured JSON with the specified fields.\"\n",
    "    ),\n",
    "    name=\"dining_agent\",\n",
    "    response_format=DiningRecommendation,\n",
    ")\n",
    "\n",
    "\n",
    "# Agent 3: History and Culture Expert\n",
    "history_agent = chat_client.create_agent(\n",
    "    instructions=(\n",
    "        \"You are a historian and cultural expert. \"\n",
    "        \"When given a travel destination, provide historical context, cultural significance, \"\n",
    "        \"important historical periods, cultural experiences, and interesting facts. \"\n",
    "        \"Focus on helping travelers understand the cultural heritage and historical importance. \"\n",
    "        \"Return structured JSON with the specified fields.\"\n",
    "    ),\n",
    "    name=\"history_agent\",\n",
    "    response_format=HistoryRecommendation,\n",
    ")"
   ]
  },
  {
   "cell_type": "markdown",
   "id": "2b22d245",
   "metadata": {},
   "source": [
    "# Hatua ya 4: Jenga Mtiririko wa Kazi Sambamba\n",
    "\n",
    "ConcurrentBuilder huunda mtiririko wa kazi ambao:\n",
    "1. **Husambaza** pembejeo sawa kwa mawakala wote watatu kwa wakati mmoja (fan-out)\n",
    "2. **Huendesha mawakala** kwa sambamba ili kuboresha utendaji\n",
    "3. **Hukusanya** majibu yote kuwa matokeo moja (fan-in)\n",
    "4. **Hurejesha** orodha ya ChatMessage iliyojumuishwa kutoka kwa mawakala wote\n"
   ]
  },
  {
   "cell_type": "code",
   "execution_count": 12,
   "id": "4bad34b0",
   "metadata": {},
   "outputs": [
    {
     "data": {
      "text/html": [
       "\n",
       "<div style='padding: 20px; background: linear-gradient(135deg, #667eea 0%, #764ba2 100%); color: white; border-radius: 8px; margin: 10px 0;'>\n",
       "    <h3 style='margin: 0 0 15px 0;'>Concurrent Workflow Built Successfully!</h3>\n",
       "    <p style='margin: 0; line-height: 1.6;'>\n",
       "        <strong>Architecture:</strong><br>\n",
       "        • Input → <strong>Dispatcher</strong> (fan-out)<br>\n",
       "        • <strong>3 Agents</strong> run in parallel (attractions, dining, history)<br>\n",
       "        • <strong>Aggregator</strong> combines results (fan-in)<br>\n",
       "        • Output → Combined travel recommendations\n",
       "    </p>\n",
       "</div>\n"
      ],
      "text/plain": [
       "<IPython.core.display.HTML object>"
      ]
     },
     "metadata": {},
     "output_type": "display_data"
    }
   ],
   "source": [
    "# Build the concurrent workflow using ConcurrentBuilder\n",
    "workflow = (\n",
    "    ConcurrentBuilder()\n",
    "    .participants([attractions_agent, dining_agent, history_agent])\n",
    "    .build()\n",
    ")\n",
    "\n",
    "display(HTML(\"\"\"\n",
    "<div style='padding: 20px; background: linear-gradient(135deg, #667eea 0%, #764ba2 100%); color: white; border-radius: 8px; margin: 10px 0;'>\n",
    "    <h3 style='margin: 0 0 15px 0;'>Concurrent Workflow Built Successfully!</h3>\n",
    "    <p style='margin: 0; line-height: 1.6;'>\n",
    "        <strong>Architecture:</strong><br>\n",
    "        • Input → <strong>Dispatcher</strong> (fan-out)<br>\n",
    "        • <strong>3 Agents</strong> run in parallel (attractions, dining, history)<br>\n",
    "        • <strong>Aggregator</strong> combines results (fan-in)<br>\n",
    "        • Output → Combined travel recommendations\n",
    "    </p>\n",
    "</div>\n",
    "\"\"\"))"
   ]
  },
  {
   "cell_type": "markdown",
   "id": "e920f2f6",
   "metadata": {},
   "source": [
    "## Hatua ya 5: Jaribio la Kwanza - Mapendekezo ya Safari ya Tokyo\n",
    "\n",
    "Wacha tujaribu mtiririko wetu wa kazi wa pamoja na Tokyo kama marudio. Mawakala wote watatu watafanya kazi kwa wakati mmoja kutoa mapendekezo ya kina ya safari.\n"
   ]
  },
  {
   "cell_type": "code",
   "execution_count": 13,
   "id": "090ae929",
   "metadata": {},
   "outputs": [
    {
     "data": {
      "text/html": [
       "\n",
       "    <div style='padding: 20px; background: #fff3e0; border-left: 4px solid #ff9800; border-radius: 8px; margin: 20px 0;'>\n",
       "        <h3 style='margin: 0 0 10px 0; color: #e65100;'>Processing Travel Recommendations for Tokyo</h3>\n",
       "        <p style='margin: 0;'><strong>Status:</strong> Running 3 agents concurrently...</p>\n",
       "    </div>\n",
       "    "
      ],
      "text/plain": [
       "<IPython.core.display.HTML object>"
      ]
     },
     "metadata": {},
     "output_type": "display_data"
    },
    {
     "data": {
      "text/html": [
       "\n",
       "        <div style='padding: 25px; background: linear-gradient(135deg, #4caf50 0%, #8bc34a 100%); color: white; border-radius: 12px; \n",
       "                    box-shadow: 0 4px 12px rgba(76,175,80,0.3); margin: 20px 0;'>\n",
       "            <h2 style='margin: 0 0 20px 0;'>Complete Travel Guide for Tokyo</h2>\n",
       "            <p style='margin: 0; font-size: 14px; opacity: 0.9;'>Generated by 3 concurrent agents</p>\n",
       "        </div>\n",
       "        "
      ],
      "text/plain": [
       "<IPython.core.display.HTML object>"
      ]
     },
     "metadata": {},
     "output_type": "display_data"
    },
    {
     "data": {
      "text/html": [
       "\n",
       "    <div style='padding: 20px; background: #e3f2fd; border-radius: 8px; margin: 15px 0; border-left: 4px solid #2196f3;'>\n",
       "        <h3 style='margin: 0 0 15px 0; color: #1976d2;'>🏛️ Tourist Attractions & Activities</h3>\n",
       "        <div style='margin-bottom: 15px;'>\n",
       "            <h4 style='margin: 0 0 8px 0; color: #333;'>Top Attractions:</h4>\n",
       "            <ul style='margin: 0; padding-left: 20px; color: #555;'><li>Tokyo Tower</li><li>Shinjuku Gyoen National Garden</li><li>Meiji Shrine</li><li>Tsukiji Outer Market</li><li>Ginza Shopping District</li></ul>\n",
       "        </div>\n",
       "        <div style='margin-bottom: 15px;'>\n",
       "        <h4 style='margin: 0 0 8px 0; color: #333;'>Recommended Activities:</h4>\n",
       "            <ul style='margin: 0; padding-left: 20px; color: #555;'><li>Attend a traditional tea ceremony.</li><li>Explore Asakusa and visit Senso-ji Temple.</li><li>Stroll through Ueno Park and visit museums.</li><li>Experience a sumo wrestling match in Ryogoku.</li><li>Enjoy the nightlife in Shinjuku.</li></ul>\n",
       "        </div>\n",
       "        <div style='margin-bottom: 10px;'>\n",
       "            <strong style='color: #333;'>Best Time to Visit:</strong> Spring (March to May) and Autumn (September to November) for pleasant weather and cherry blossom/autumn foliage seasons.\n",
       "        </div>\n",
       "        <div>\n",
       "            <strong style='color: #333;'>Transportation Tips:</strong> Tokyo has an extensive and efficient public transportation system including trains, subways, and buses. Consider getting a Suica or Pasmo card for convenient payment. Alternatively, taxis are available but are more expensive. Walking is also an excellent way to explore certain neighborhoods.\n",
       "        </div>\n",
       "    </div>\n",
       "    "
      ],
      "text/plain": [
       "<IPython.core.display.HTML object>"
      ]
     },
     "metadata": {},
     "output_type": "display_data"
    },
    {
     "data": {
      "text/html": [
       "\n",
       "    <div style='padding: 20px; background: #fff3e0; border-radius: 8px; margin: 15px 0; border-left: 4px solid #ff9800;'>\n",
       "        <h3 style='margin: 0 0 15px 0; color: #f57c00;'>🍜 Food & Dining Experiences</h3>\n",
       "        <div style='margin-bottom: 15px;'>\n",
       "            <strong style='color: #333;'>Local Cuisine:</strong> Tokyo offers a wide variety of foods ranging from world-famous sushi and ramen to unique street-food culture such as takoyaki and yakitori.\n",
       "        </div>\n",
       "        <div style='margin-bottom: 15px;'>\n",
       "            <h4 style='margin: 0 0 8px 0; color: #333;'>Must-Try Dishes:</h4>\n",
       "            <ul style='margin: 0; padding-left: 20px; color: #555;'><li>Sushi, particularly Edomae-style sushi served at traditional sushi counters.</li><li>Ramen with varying regional styles, such as Shoyu or Shio ramen.</li><li>Tempura prepared with fresh, seasonal ingredients.</li><li>Monjayaki, a local pan-fried batter dish.</li><li>Kaiseki, a highly refined and artistically crafted multi-course meal.</li></ul>\n",
       "        </div>\n",
       "        <div style='margin-bottom: 15px;'>\n",
       "            <h4 style='margin: 0 0 8px 0; color: #333;'>Recommended Restaurants:</h4>\n",
       "            <ul style='margin: 0; padding-left: 20px; color: #555;'><li>Sukiyabashi Jiro, renowned for its outstanding sushi.</li><li>Ichiran Ramen, specializing in a unique, flavorful ramen experience.</li><li>Tsukiji Outer Market's renowned seafood vendors and eateries.</li><li>Gonpachi, the restaurant that inspired a scene in the film 'Kill Bill.'</li></ul>\n",
       "        </div>\n",
       "        <div style='margin-bottom: 15px;'>\n",
       "            <h4 style='margin: 0 0 8px 0; color: #333;'>Food Experiences:</h4>\n",
       "            <ul style='margin: 0; padding-left: 20px; color: #555;'><li>Explore Tokyo's Tsukiji Outer Market to sample fresh seafood and traditional snacks.</li><li>Dine at a ryokan for a kaiseki meal, a traditional multi-course Japanese dinner.</li><li>Participate in a sushi-making class to learn about fresh ingredients and traditional preparation techniques.</li><li>Visit an izakaya for an authentic Japanese pub experience featuring small plates and drinks.</li></ul>\n",
       "        </div>\n",
       "        <div>\n",
       "            <strong style='color: #333;'>Dining Etiquette:</strong> In Tokyo, slurping noodles is considered polite and shows appreciation for the meal. Tips are not customary in Japan, as excellent service is standard and included in the price.\n",
       "        </div>\n",
       "    </div>\n",
       "    "
      ],
      "text/plain": [
       "<IPython.core.display.HTML object>"
      ]
     },
     "metadata": {},
     "output_type": "display_data"
    },
    {
     "data": {
      "text/html": [
       "\n",
       "    <div style='padding: 20px; background: #f3e5f5; border-radius: 8px; margin: 15px 0; border-left: 4px solid #9c27b0;'>\n",
       "        <h3 style='margin: 0 0 15px 0; color: #7b1fa2;'>📚 History & Culture</h3>\n",
       "        <div style='margin-bottom: 15px;'>\n",
       "            <strong style='color: #333;'>Historical Significance:</strong> Located in the Kantō region of Japan, Tokyo, formerly known as Edo, became Japan's political and cultural hub during the Tokugawa shogunate (1603–1868). Renamed in 1868, it became the nation's capital, reflecting the dynamic growth into one of the most populous and technologically advanced cities globally.\n",
       "        </div>\n",
       "        <div style='margin-bottom: 15px;'>\n",
       "            <h4 style='margin: 0 0 8px 0; color: #333;'>Cultural Highlights:</h4>\n",
       "            <ul style='margin: 0; padding-left: 20px; color: #555;'><li>Tokyo is a city blending ancient traditions with ultramodern advancements.</li><li>The Meiji Shrine and Senso-ji Temple offer insight into Japanese Shinto and Buddhist practices.</li><li>The Tsukiji Market provides a glimpse into Japanese culinary skills and seafood traditions.</li><li>Shopping districts like Akihabara and Ginza illustrate the intersection of technology and luxury.</li><li>Seasonal festivals such as the cherry blossom festival (hanami) showcase the cultural importance of seasons in Japan.</li></ul>\n",
       "        </div>\n",
       "        <div style='margin-bottom: 15px;'>\n",
       "            <h4 style='margin: 0 0 8px 0; color: #333;'>Important Historical Periods:</h4>\n",
       "            <ul style='margin: 0; padding-left: 20px; color: #555;'><li>Nara Period (710–794) – Early cultural and governmental establishments.</li><li>Edo Period (1603–1868) – Formation of Tokyo as Edo, expanding urban culture.</li><li>Meiji Period (1868–1912) – Transformation into Japan's capital.</li><li>Taisho and Showa Periods (1912–1989) – Modernization and reconstruction post WWII.</li><li>Heisei Period (1989–2019) – Technological and cultural innovation globally recognized.</li></ul>\n",
       "        </div>\n",
       "        <div style='margin-bottom: 15px;'>\n",
       "            <h4 style='margin: 0 0 8px 0; color: #333;'>Cultural Experiences:</h4>\n",
       "            <ul style='margin: 0; padding-left: 20px; color: #555;'><li>Experience traditional tea ceremonies in historic tea houses.</li><li>Explore the bustling Tsukiji Outer Market, famous for fresh seafood.</li><li>Take part in seasonal festivals such as hanami (cherry blossom viewing).</li><li>Immerse yourself in the arts at Kabuki-za Theatre, showcasing traditional Japanese drama.</li><li>Relax in authentic Japanese hot springs (onsens) or public baths.</li></ul>\n",
       "        </div>\n",
       "        <div>\n",
       "            <h4 style='margin: 0 0 8px 0; color: #333;'>Interesting Facts:</h4>\n",
       "            <ul style='margin: 0; padding-left: 20px; color: #555;'><li>Tokyo features the most Michelin stars of any city globally, showcasing its epicurean excellence.</li><li>The city has the world's busiest pedestrian crossing at Shibuya Crossing.</li><li>Despite its modernity, Tokyo retains many Edo period streets and neighborhoods.</li><li>Tokyo Tower was inspired by Paris’s Eiffel Tower and serves as a television broadcasting tower.</li><li>The Harajuku district is famous worldwide for its unique, trendsetting street fashion.</li></ul>\n",
       "        </div>\n",
       "    </div>\n",
       "    "
      ],
      "text/plain": [
       "<IPython.core.display.HTML object>"
      ]
     },
     "metadata": {},
     "output_type": "display_data"
    }
   ],
   "source": [
    "async def display_travel_recommendations(destination: str):\n",
    "    \"\"\"Run the concurrent workflow and display formatted results.\"\"\"\n",
    "\n",
    "    display(HTML(f\"\"\"\n",
    "    <div style='padding: 20px; background: #fff3e0; border-left: 4px solid #ff9800; border-radius: 8px; margin: 20px 0;'>\n",
    "        <h3 style='margin: 0 0 10px 0; color: #e65100;'>Processing Travel Recommendations for {destination}</h3>\n",
    "        <p style='margin: 0;'><strong>Status:</strong> Running 3 agents concurrently...</p>\n",
    "    </div>\n",
    "    \"\"\"))\n",
    "\n",
    "    # Run the workflow\n",
    "    events = await workflow.run(f\"I want comprehensive travel recommendations for {destination}\")\n",
    "    outputs = events.get_outputs()\n",
    "\n",
    "    if outputs:\n",
    "        # Get the aggregated messages from all agents\n",
    "        messages: list[ChatMessage] = outputs[0]\n",
    "        # Separate messages by agent (skip user message)\n",
    "        agent_responses = [msg for msg in messages if msg.author_name in [\n",
    "            \"attractions_agent\", \"dining_agent\", \"history_agent\"]]\n",
    "\n",
    "        # Display results\n",
    "        display(HTML(f\"\"\"\n",
    "        <div style='padding: 25px; background: linear-gradient(135deg, #4caf50 0%, #8bc34a 100%); color: white; border-radius: 12px; \n",
    "                    box-shadow: 0 4px 12px rgba(76,175,80,0.3); margin: 20px 0;'>\n",
    "            <h2 style='margin: 0 0 20px 0;'>Complete Travel Guide for {destination}</h2>\n",
    "            <p style='margin: 0; font-size: 14px; opacity: 0.9;'>Generated by 3 concurrent agents</p>\n",
    "        </div>\n",
    "        \"\"\"))\n",
    "        # Process each agent's response\n",
    "        for msg in agent_responses:\n",
    "            agent_name = msg.author_name\n",
    "\n",
    "            try:\n",
    "                # Parse the JSON response\n",
    "                if agent_name == \"attractions_agent\":\n",
    "                    data = AttractionsRecommendation.model_validate_json(\n",
    "                        msg.text)\n",
    "                    display_attractions_section(data)\n",
    "                elif agent_name == \"dining_agent\":\n",
    "                    data = DiningRecommendation.model_validate_json(msg.text)\n",
    "                    display_dining_section(data)\n",
    "                elif agent_name == \"history_agent\":\n",
    "                    data = HistoryRecommendation.model_validate_json(msg.text)\n",
    "                    display_history_section(data)\n",
    "            except Exception as e:\n",
    "                display(HTML(f\"\"\"\n",
    "                <div style='padding: 15px; background: #ffcdd2; border-left: 4px solid #f44336; border-radius: 4px; margin: 10px 0;'>\n",
    "                    <strong>Error parsing {agent_name} response:</strong> {str(e)}\n",
    "                    <details><summary>Raw response</summary>{msg.text}</details>\n",
    "                </div>\n",
    "                \"\"\"))\n",
    "def display_attractions_section(data: AttractionsRecommendation):\n",
    "    \"\"\"Display attractions recommendations in a formatted section.\"\"\"\n",
    "    attractions_list = \"\".join([f\"<li>{attraction}</li>\" for attraction in data.top_attractions])\n",
    "    activities_list = \"\".join([f\"<li>{activity}</li>\" for activity in data.activities])\n",
    "    \n",
    "    display(HTML(f\"\"\"\n",
    "    <div style='padding: 20px; background: #e3f2fd; border-radius: 8px; margin: 15px 0; border-left: 4px solid #2196f3;'>\n",
    "        <h3 style='margin: 0 0 15px 0; color: #1976d2;'>🏛️ Tourist Attractions & Activities</h3>\n",
    "        <div style='margin-bottom: 15px;'>\n",
    "            <h4 style='margin: 0 0 8px 0; color: #333;'>Top Attractions:</h4>\n",
    "            <ul style='margin: 0; padding-left: 20px; color: #555;'>{attractions_list}</ul>\n",
    "        </div>\n",
    "        <div style='margin-bottom: 15px;'>\n",
    "        <h4 style='margin: 0 0 8px 0; color: #333;'>Recommended Activities:</h4>\n",
    "            <ul style='margin: 0; padding-left: 20px; color: #555;'>{activities_list}</ul>\n",
    "        </div>\n",
    "        <div style='margin-bottom: 10px;'>\n",
    "            <strong style='color: #333;'>Best Time to Visit:</strong> {data.best_time_to_visit}\n",
    "        </div>\n",
    "        <div>\n",
    "            <strong style='color: #333;'>Transportation Tips:</strong> {data.transportation_tips}\n",
    "        </div>\n",
    "    </div>\n",
    "    \"\"\"))\n",
    "\n",
    "\n",
    "def display_dining_section(data: DiningRecommendation):\n",
    "    \"\"\"Display dining recommendations in a formatted section.\"\"\"\n",
    "    dishes_list = \"\".join(\n",
    "        [f\"<li>{dish}</li>\" for dish in data.must_try_dishes])\n",
    "    restaurants_list = \"\".join(\n",
    "        [f\"<li>{restaurant}</li>\" for restaurant in data.recommended_restaurants])\n",
    "    experiences_list = \"\".join(\n",
    "        [f\"<li>{exp}</li>\" for exp in data.food_experiences])\n",
    "\n",
    "    display(HTML(f\"\"\"\n",
    "    <div style='padding: 20px; background: #fff3e0; border-radius: 8px; margin: 15px 0; border-left: 4px solid #ff9800;'>\n",
    "        <h3 style='margin: 0 0 15px 0; color: #f57c00;'>🍜 Food & Dining Experiences</h3>\n",
    "        <div style='margin-bottom: 15px;'>\n",
    "            <strong style='color: #333;'>Local Cuisine:</strong> {data.local_cuisine}\n",
    "        </div>\n",
    "        <div style='margin-bottom: 15px;'>\n",
    "            <h4 style='margin: 0 0 8px 0; color: #333;'>Must-Try Dishes:</h4>\n",
    "            <ul style='margin: 0; padding-left: 20px; color: #555;'>{dishes_list}</ul>\n",
    "        </div>\n",
    "        <div style='margin-bottom: 15px;'>\n",
    "            <h4 style='margin: 0 0 8px 0; color: #333;'>Recommended Restaurants:</h4>\n",
    "            <ul style='margin: 0; padding-left: 20px; color: #555;'>{restaurants_list}</ul>\n",
    "        </div>\n",
    "        <div style='margin-bottom: 15px;'>\n",
    "            <h4 style='margin: 0 0 8px 0; color: #333;'>Food Experiences:</h4>\n",
    "            <ul style='margin: 0; padding-left: 20px; color: #555;'>{experiences_list}</ul>\n",
    "        </div>\n",
    "        <div>\n",
    "            <strong style='color: #333;'>Dining Etiquette:</strong> {data.dining_etiquette}\n",
    "        </div>\n",
    "    </div>\n",
    "    \"\"\"))\n",
    "\n",
    "\n",
    "def display_history_section(data: HistoryRecommendation):\n",
    "    \"\"\"Display history recommendations in a formatted section.\"\"\"\n",
    "    highlights_list = \"\".join(\n",
    "        [f\"<li>{highlight}</li>\" for highlight in data.cultural_highlights])\n",
    "    periods_list = \"\".join(\n",
    "        [f\"<li>{period}</li>\" for period in data.important_periods])\n",
    "    experiences_list = \"\".join(\n",
    "        [f\"<li>{exp}</li>\" for exp in data.cultural_experiences])\n",
    "    facts_list = \"\".join(\n",
    "        [f\"<li>{fact}</li>\" for fact in data.interesting_facts])\n",
    "\n",
    "    display(HTML(f\"\"\"\n",
    "    <div style='padding: 20px; background: #f3e5f5; border-radius: 8px; margin: 15px 0; border-left: 4px solid #9c27b0;'>\n",
    "        <h3 style='margin: 0 0 15px 0; color: #7b1fa2;'>📚 History & Culture</h3>\n",
    "        <div style='margin-bottom: 15px;'>\n",
    "            <strong style='color: #333;'>Historical Significance:</strong> {data.historical_significance}\n",
    "        </div>\n",
    "        <div style='margin-bottom: 15px;'>\n",
    "            <h4 style='margin: 0 0 8px 0; color: #333;'>Cultural Highlights:</h4>\n",
    "            <ul style='margin: 0; padding-left: 20px; color: #555;'>{highlights_list}</ul>\n",
    "        </div>\n",
    "        <div style='margin-bottom: 15px;'>\n",
    "            <h4 style='margin: 0 0 8px 0; color: #333;'>Important Historical Periods:</h4>\n",
    "            <ul style='margin: 0; padding-left: 20px; color: #555;'>{periods_list}</ul>\n",
    "        </div>\n",
    "        <div style='margin-bottom: 15px;'>\n",
    "            <h4 style='margin: 0 0 8px 0; color: #333;'>Cultural Experiences:</h4>\n",
    "            <ul style='margin: 0; padding-left: 20px; color: #555;'>{experiences_list}</ul>\n",
    "        </div>\n",
    "        <div>\n",
    "            <h4 style='margin: 0 0 8px 0; color: #333;'>Interesting Facts:</h4>\n",
    "            <ul style='margin: 0; padding-left: 20px; color: #555;'>{facts_list}</ul>\n",
    "        </div>\n",
    "    </div>\n",
    "    \"\"\"))\n",
    "\n",
    "    # Test with Tokyo\n",
    "await display_travel_recommendations(\"Tokyo\")"
   ]
  },
  {
   "cell_type": "markdown",
   "id": "454fa849",
   "metadata": {},
   "source": [
    "# Hatua ya 6: Kesi ya Mtihani 2 - Mapendekezo ya Kusafiri Paris\n"
   ]
  },
  {
   "cell_type": "code",
   "execution_count": 14,
   "id": "8a23dbc4",
   "metadata": {},
   "outputs": [
    {
     "data": {
      "text/html": [
       "\n",
       "    <div style='padding: 20px; background: #fff3e0; border-left: 4px solid #ff9800; border-radius: 8px; margin: 20px 0;'>\n",
       "        <h3 style='margin: 0 0 10px 0; color: #e65100;'>Processing Travel Recommendations for Paris</h3>\n",
       "        <p style='margin: 0;'><strong>Status:</strong> Running 3 agents concurrently...</p>\n",
       "    </div>\n",
       "    "
      ],
      "text/plain": [
       "<IPython.core.display.HTML object>"
      ]
     },
     "metadata": {},
     "output_type": "display_data"
    },
    {
     "data": {
      "text/html": [
       "\n",
       "        <div style='padding: 25px; background: linear-gradient(135deg, #4caf50 0%, #8bc34a 100%); color: white; border-radius: 12px; \n",
       "                    box-shadow: 0 4px 12px rgba(76,175,80,0.3); margin: 20px 0;'>\n",
       "            <h2 style='margin: 0 0 20px 0;'>Complete Travel Guide for Paris</h2>\n",
       "            <p style='margin: 0; font-size: 14px; opacity: 0.9;'>Generated by 3 concurrent agents</p>\n",
       "        </div>\n",
       "        "
      ],
      "text/plain": [
       "<IPython.core.display.HTML object>"
      ]
     },
     "metadata": {},
     "output_type": "display_data"
    },
    {
     "data": {
      "text/html": [
       "\n",
       "    <div style='padding: 20px; background: #e3f2fd; border-radius: 8px; margin: 15px 0; border-left: 4px solid #2196f3;'>\n",
       "        <h3 style='margin: 0 0 15px 0; color: #1976d2;'>🏛️ Tourist Attractions & Activities</h3>\n",
       "        <div style='margin-bottom: 15px;'>\n",
       "            <h4 style='margin: 0 0 8px 0; color: #333;'>Top Attractions:</h4>\n",
       "            <ul style='margin: 0; padding-left: 20px; color: #555;'><li>Eiffel Tower</li><li>Louvre Museum</li><li>Notre-Dame Cathedral</li><li>Sacré-Cœur Basilica</li><li>Champs-Élysées and Arc de Triomphe</li></ul>\n",
       "        </div>\n",
       "        <div style='margin-bottom: 15px;'>\n",
       "        <h4 style='margin: 0 0 8px 0; color: #333;'>Recommended Activities:</h4>\n",
       "            <ul style='margin: 0; padding-left: 20px; color: #555;'><li>Take a boat cruise on the Seine River.</li><li>Enjoy a day at Disneyland Paris.</li><li>Explore the vibrant Montmartre neighborhood and its artistic heritage.</li><li>Indulge in French cuisine at a traditional bistro.</li><li>Ascend the Eiffel Tower for panoramic views.</li></ul>\n",
       "        </div>\n",
       "        <div style='margin-bottom: 10px;'>\n",
       "            <strong style='color: #333;'>Best Time to Visit:</strong> Spring (April to June) and Autumn (September to October) for mild weather and fewer crowds.\n",
       "        </div>\n",
       "        <div>\n",
       "            <strong style='color: #333;'>Transportation Tips:</strong> Paris is well-connected with an efficient public transport system including metro, buses, and trains. A single ticket allows access to various modes of public transportation within the city. Alternatively, walking or renting a bike is an excellent way to explore central areas.\n",
       "        </div>\n",
       "    </div>\n",
       "    "
      ],
      "text/plain": [
       "<IPython.core.display.HTML object>"
      ]
     },
     "metadata": {},
     "output_type": "display_data"
    },
    {
     "data": {
      "text/html": [
       "\n",
       "    <div style='padding: 20px; background: #fff3e0; border-radius: 8px; margin: 15px 0; border-left: 4px solid #ff9800;'>\n",
       "        <h3 style='margin: 0 0 15px 0; color: #f57c00;'>🍜 Food & Dining Experiences</h3>\n",
       "        <div style='margin-bottom: 15px;'>\n",
       "            <strong style='color: #333;'>Local Cuisine:</strong> Paris almost synonymously represents French haute cuisine, offering creamy sauces, fresh pastries, and expertly crafted dishes.\n",
       "        </div>\n",
       "        <div style='margin-bottom: 15px;'>\n",
       "            <h4 style='margin: 0 0 8px 0; color: #333;'>Must-Try Dishes:</h4>\n",
       "            <ul style='margin: 0; padding-left: 20px; color: #555;'><li>Croissants and Pain au Chocolat from reputed Parisian bakeries.</li><li>Coq au Vin, a rich chicken stew cooked with wine.</li><li>Escargots de Bourgogne, a dish of cooked snails with garlic butter.</li><li>Soupe à l'Oignon Gratinée, a rich onion soup topped with melted cheese.</li></ul>\n",
       "        </div>\n",
       "        <div style='margin-bottom: 15px;'>\n",
       "            <h4 style='margin: 0 0 8px 0; color: #333;'>Recommended Restaurants:</h4>\n",
       "            <ul style='margin: 0; padding-left: 20px; color: #555;'><li>Le Jules Verne, a gourmet dining experience atop the Eiffel Tower.</li><li>L'Ambroisie, offering exquisite French culinary creations.</li><li>Bistrot Paul Bert, commonly found in food-centric Paris guidebooks.</li><li>Chez Janou, a vibrant Provencal-style bistro.</li></ul>\n",
       "        </div>\n",
       "        <div style='margin-bottom: 15px;'>\n",
       "            <h4 style='margin: 0 0 8px 0; color: #333;'>Food Experiences:</h4>\n",
       "            <ul style='margin: 0; padding-left: 20px; color: #555;'><li>Explore Le Marais neighborhoods for renowned patisseries and bakeries.</li><li>Enjoy a wine and cheese tasting pairing at a local fromagerie.</li><li>Join a cooking class to master French culinary techniques, such as baking macarons.</li><li>Experience a classic Parisian café culture at famous establishments like Café de Flore.</li></ul>\n",
       "        </div>\n",
       "        <div>\n",
       "            <strong style='color: #333;'>Dining Etiquette:</strong> In Paris, greeting your server with a polite 'Bonjour' and saying 'Merci' before leaving is customary. Meals are leisurely; savor each course, and tipping, though not obligatory, is appreciated for exceptional service.\n",
       "        </div>\n",
       "    </div>\n",
       "    "
      ],
      "text/plain": [
       "<IPython.core.display.HTML object>"
      ]
     },
     "metadata": {},
     "output_type": "display_data"
    },
    {
     "data": {
      "text/html": [
       "\n",
       "    <div style='padding: 20px; background: #f3e5f5; border-radius: 8px; margin: 15px 0; border-left: 4px solid #9c27b0;'>\n",
       "        <h3 style='margin: 0 0 15px 0; color: #7b1fa2;'>📚 History & Culture</h3>\n",
       "        <div style='margin-bottom: 15px;'>\n",
       "            <strong style='color: #333;'>Historical Significance:</strong> Paris, often termed the City of Light, has been Europe's cultural hub for centuries. Its history dates back to the Lutece era in Roman times; however, it flourished during the Middle Ages as a center for academic, religious, and commercial activities. The French Revolution in 1789 reshaped Paris's urban and cultural landscape, and it continued to lead global movements in art, fashion, and architecture through the 19th and 20th centuries.\n",
       "        </div>\n",
       "        <div style='margin-bottom: 15px;'>\n",
       "            <h4 style='margin: 0 0 8px 0; color: #333;'>Cultural Highlights:</h4>\n",
       "            <ul style='margin: 0; padding-left: 20px; color: #555;'><li>Paris is renowned for its timeless contributions to art, literature, fashion, and gastronomy.</li><li>Landmarks such as Notre-Dame Cathedral and the Louvre Museum reflect Paris's historical importance.</li><li>The city's avenues, such as the Champs-Élysées, epitomize urban elegance.</li><li>Parisian cafés have historically served as gathering places for intellectuals and artists.</li><li>The French language and Parisian culture remain influential worldwide.</li></ul>\n",
       "        </div>\n",
       "        <div style='margin-bottom: 15px;'>\n",
       "            <h4 style='margin: 0 0 8px 0; color: #333;'>Important Historical Periods:</h4>\n",
       "            <ul style='margin: 0; padding-left: 20px; color: #555;'><li>Roman Era (52 BCE–476 CE) – Founding as Lutece under Roman influence.</li><li>Medieval Period (10th–15th centuries) – Growth as a center of education and religion.</li><li>Renaissance and Enlightenment (16th–18th centuries) – Flourishing of art, science, and philosophy.</li><li>French Revolution (1789–1799) – Transformation of the city and nation.</li><li>19th Century – Period of architectural expansion and modernization under Haussmann.</li><li>20th Century – Evolution as a global cultural and political leader.</li></ul>\n",
       "        </div>\n",
       "        <div style='margin-bottom: 15px;'>\n",
       "            <h4 style='margin: 0 0 8px 0; color: #333;'>Cultural Experiences:</h4>\n",
       "            <ul style='margin: 0; padding-left: 20px; color: #555;'><li>Attend a performance at the historic Opéra Garnier.</li><li>Explore the vibrant art scene in Montmartre, the former haunt of famous painters.</li><li>Savor exquisite French cuisine and fine wines at local bistros and brasseries.</li><li>Take a leisurely stroll along the Seine River and visit the famed bouquinistes, or book vendors.</li><li>Engage in workshops to learn the art of French patisserie such as baking croissants and macarons.</li></ul>\n",
       "        </div>\n",
       "        <div>\n",
       "            <h4 style='margin: 0 0 8px 0; color: #333;'>Interesting Facts:</h4>\n",
       "            <ul style='margin: 0; padding-left: 20px; color: #555;'><li>Paris has over 1,600 bakeries, ensuring fresh bread and pastries for all.</li><li>The Pont Neuf, despite its name meaning 'New Bridge,' is the oldest bridge in Paris.</li><li>Paris has its own liberation story from World War II, occurring in 1944.</li><li>The Eiffel Tower was initially intended to be dismantled after 20 years.</li><li>The city hosts over 5,000 statues, showcasing its dedication to preserving historical art.</li></ul>\n",
       "        </div>\n",
       "    </div>\n",
       "    "
      ],
      "text/plain": [
       "<IPython.core.display.HTML object>"
      ]
     },
     "metadata": {},
     "output_type": "display_data"
    }
   ],
   "source": [
    "await display_travel_recommendations(\"Paris\")"
   ]
  },
  {
   "cell_type": "markdown",
   "id": "7b173674",
   "metadata": {},
   "source": [
    "## Hatua ya 7: Uchambuzi wa Utendaji - Sambamba dhidi ya Mfululizo\n",
    "\n",
    "Hebu tupime tofauti ya utendaji kati ya utekelezaji wa sambamba na wa mfululizo ili kuonyesha faida za upangaji sambamba.\n"
   ]
  },
  {
   "cell_type": "code",
   "execution_count": 15,
   "id": "e0badd2e",
   "metadata": {},
   "outputs": [
    {
     "data": {
      "text/html": [
       "\n",
       "    <div style='padding: 20px; background: #fff3e0; border-left: 4px solid #ff9800; border-radius: 8px; margin: 20px 0;'>\n",
       "        <h3 style='margin: 0 0 10px 0; color: #e65100;'>Performance Comparison Test</h3>\n",
       "        <p style='margin: 0;'>Testing with destination: <strong>Barcelona</strong></p>\n",
       "    </div>\n",
       "    "
      ],
      "text/plain": [
       "<IPython.core.display.HTML object>"
      ]
     },
     "metadata": {},
     "output_type": "display_data"
    },
    {
     "name": "stdout",
     "output_type": "stream",
     "text": [
      "Running concurrent workflow...\n",
      "Running sequential workflow...\n"
     ]
    },
    {
     "data": {
      "text/html": [
       "\n",
       "    <div style='padding: 25px; background: linear-gradient(135deg, #667eea 0%, #764ba2 100%); color: white; border-radius: 12px; \n",
       "                box-shadow: 0 4px 12px rgba(102,126,234,0.4); margin: 20px 0;'>\n",
       "        <h2 style='margin: 0 0 20px 0;'>Performance Results</h2>\n",
       "        <div style='display: grid; grid-template-columns: 1fr 1fr; gap: 20px; margin-bottom: 20px;'>\n",
       "            <div style='background: rgba(255,255,255,0.1); padding: 15px; border-radius: 8px;'>\n",
       "                <h4 style='margin: 0 0 10px 0;'>⚡ Concurrent Execution</h4>\n",
       "                <p style='margin: 0; font-size: 24px; font-weight: bold;'>6.67s</p>\n",
       "                <p style='margin: 5px 0 0 0; font-size: 14px; opacity: 0.9;'>4 messages</p>\n",
       "            </div>\n",
       "            <div style='background: rgba(255,255,255,0.1); padding: 15px; border-radius: 8px;'>\n",
       "                <h4 style='margin: 0 0 10px 0;'>🔄 Sequential Execution</h4>\n",
       "                <p style='margin: 0; font-size: 24px; font-weight: bold;'>11.28s</p>\n",
       "                <p style='margin: 5px 0 0 0; font-size: 14px; opacity: 0.9;'>4 messages</p>\n",
       "            </div>\n",
       "        </div>\n",
       "        <div style='background: rgba(255,255,255,0.15); padding: 15px; border-radius: 8px;'>\n",
       "            <h4 style='margin: 0 0 10px 0;'>Performance Improvement</h4>\n",
       "            <p style='margin: 0; font-size: 20px; font-weight: bold;'>40.9% faster</p>\n",
       "            <p style='margin: 5px 0 0 0; font-size: 14px; opacity: 0.9;'>\n",
       "                Saved 4.62 seconds with concurrent execution\n",
       "            </p>\n",
       "        </div>\n",
       "    </div>\n",
       "    "
      ],
      "text/plain": [
       "<IPython.core.display.HTML object>"
      ]
     },
     "metadata": {},
     "output_type": "display_data"
    }
   ],
   "source": [
    "import time\n",
    "from agent_framework import SequentialBuilder\n",
    "\n",
    "\n",
    "async def measure_concurrent_performance(destination: str):\n",
    "    \"\"\"Measure concurrent execution time.\"\"\"\n",
    "    start_time = time.time()\n",
    "\n",
    "    events = await workflow.run(f\"I want travel recommendations for {destination}\")\n",
    "    outputs = events.get_outputs()\n",
    "\n",
    "    end_time = time.time()\n",
    "    return end_time - start_time, len(outputs[0]) if outputs else 0\n",
    "\n",
    "\n",
    "async def measure_sequential_performance(destination: str):\n",
    "    \"\"\"Measure sequential execution time.\"\"\"\n",
    "    # Build sequential workflow for comparison\n",
    "    sequential_workflow = (\n",
    "        SequentialBuilder()\n",
    "        .participants([attractions_agent, dining_agent, history_agent])\n",
    "        .build()\n",
    "    )\n",
    "    start_time = time.time()\n",
    "\n",
    "    events = await sequential_workflow.run(f\"I want travel recommendations for {destination}\")\n",
    "    outputs = events.get_outputs()\n",
    "\n",
    "    end_time = time.time()\n",
    "    return end_time - start_time, len(outputs[0]) if outputs else 0\n",
    "\n",
    "\n",
    "async def performance_comparison():\n",
    "    \"\"\"Compare concurrent vs sequential performance.\"\"\"\n",
    "    test_destination = \"Barcelona\"\n",
    "\n",
    "    display(HTML(\"\"\"\n",
    "    <div style='padding: 20px; background: #fff3e0; border-left: 4px solid #ff9800; border-radius: 8px; margin: 20px 0;'>\n",
    "        <h3 style='margin: 0 0 10px 0; color: #e65100;'>Performance Comparison Test</h3>\n",
    "        <p style='margin: 0;'>Testing with destination: <strong>Barcelona</strong></p>\n",
    "    </div>\n",
    "    \"\"\"))\n",
    "\n",
    "    # Test concurrent execution\n",
    "    print(\"Running concurrent workflow...\")\n",
    "    concurrent_time, concurrent_msgs = await measure_concurrent_performance(test_destination)\n",
    "\n",
    "# Test sequential execution\n",
    "    print(\"Running sequential workflow...\")\n",
    "    sequential_time, sequential_msgs = await measure_sequential_performance(test_destination)\n",
    "\n",
    "    # Calculate performance improvement\n",
    "    improvement = ((sequential_time - concurrent_time) / sequential_time) * 100\n",
    "\n",
    "    display(HTML(f\"\"\"\n",
    "    <div style='padding: 25px; background: linear-gradient(135deg, #667eea 0%, #764ba2 100%); color: white; border-radius: 12px; \n",
    "                box-shadow: 0 4px 12px rgba(102,126,234,0.4); margin: 20px 0;'>\n",
    "        <h2 style='margin: 0 0 20px 0;'>Performance Results</h2>\n",
    "        <div style='display: grid; grid-template-columns: 1fr 1fr; gap: 20px; margin-bottom: 20px;'>\n",
    "            <div style='background: rgba(255,255,255,0.1); padding: 15px; border-radius: 8px;'>\n",
    "                <h4 style='margin: 0 0 10px 0;'>⚡ Concurrent Execution</h4>\n",
    "                <p style='margin: 0; font-size: 24px; font-weight: bold;'>{concurrent_time:.2f}s</p>\n",
    "                <p style='margin: 5px 0 0 0; font-size: 14px; opacity: 0.9;'>{concurrent_msgs} messages</p>\n",
    "            </div>\n",
    "            <div style='background: rgba(255,255,255,0.1); padding: 15px; border-radius: 8px;'>\n",
    "                <h4 style='margin: 0 0 10px 0;'>🔄 Sequential Execution</h4>\n",
    "                <p style='margin: 0; font-size: 24px; font-weight: bold;'>{sequential_time:.2f}s</p>\n",
    "                <p style='margin: 5px 0 0 0; font-size: 14px; opacity: 0.9;'>{sequential_msgs} messages</p>\n",
    "            </div>\n",
    "        </div>\n",
    "        <div style='background: rgba(255,255,255,0.15); padding: 15px; border-radius: 8px;'>\n",
    "            <h4 style='margin: 0 0 10px 0;'>Performance Improvement</h4>\n",
    "            <p style='margin: 0; font-size: 20px; font-weight: bold;'>{improvement:.1f}% faster</p>\n",
    "            <p style='margin: 5px 0 0 0; font-size: 14px; opacity: 0.9;'>\n",
    "                Saved {sequential_time - concurrent_time:.2f} seconds with concurrent execution\n",
    "            </p>\n",
    "        </div>\n",
    "    </div>\n",
    "    \"\"\"))\n",
    "# Run performance comparison\n",
    "await performance_comparison()"
   ]
  },
  {
   "cell_type": "markdown",
   "metadata": {},
   "source": [
    "\n---\n\n**Kanusho**:  \nHati hii imetafsiriwa kwa kutumia huduma ya tafsiri ya AI [Co-op Translator](https://github.com/Azure/co-op-translator). Ingawa tunajitahidi kwa usahihi, tafadhali fahamu kuwa tafsiri za kiotomatiki zinaweza kuwa na makosa au kutokuwa sahihi. Hati ya asili katika lugha yake ya awali inapaswa kuzingatiwa kama chanzo cha mamlaka. Kwa taarifa muhimu, tafsiri ya kitaalamu ya binadamu inapendekezwa. Hatutawajibika kwa kutoelewana au tafsiri zisizo sahihi zinazotokana na matumizi ya tafsiri hii.\n"
   ]
  }
 ],
 "metadata": {
  "kernelspec": {
   "display_name": ".venv (3.12.12)",
   "language": "python",
   "name": "python3"
  },
  "language_info": {
   "codemirror_mode": {
    "name": "ipython",
    "version": 3
   },
   "file_extension": ".py",
   "mimetype": "text/x-python",
   "name": "python",
   "nbconvert_exporter": "python",
   "pygments_lexer": "ipython3",
   "version": "3.12.12"
  },
  "coopTranslator": {
   "original_hash": "26aab3e2794b11c6bf840a206b6ca6f7",
   "translation_date": "2025-10-23T14:09:21+00:00",
   "source_file": "14-microsoft-agent-framework/code-samples/14-concurrent.ipynb",
   "language_code": "sw"
  }
 },
 "nbformat": 4,
 "nbformat_minor": 5
}