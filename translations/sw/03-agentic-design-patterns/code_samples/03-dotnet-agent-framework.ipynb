{
 "cells": [
  {
   "cell_type": "markdown",
   "id": "d6058fa4",
   "metadata": {},
   "source": [
    "# 🎨 Miundo ya Ubunifu wa Wakala kwa Kutumia GitHub Models (.NET)\n",
    "\n",
    "## 📋 Malengo ya Kujifunza\n",
    "\n",
    "Notebook hii inaonyesha miundo ya ubunifu ya kiwango cha biashara kwa ajili ya kujenga mawakala wenye akili kwa kutumia Microsoft Agent Framework katika .NET na ujumuishaji wa GitHub Models. Utajifunza miundo ya kitaalamu na mbinu za usanifu zinazofanya mawakala kuwa tayari kwa uzalishaji, rahisi kudumisha, na kupanuka.\n",
    "\n",
    "**Miundo ya Ubunifu ya Kibiashara:**\n",
    "- 🏭 **Factory Pattern**: Uundaji wa wakala uliosanifishwa kwa kutumia dependency injection\n",
    "- 🔧 **Builder Pattern**: Usanidi wa wakala kwa mtiririko wa hatua\n",
    "- 🧵 **Thread-Safe Patterns**: Usimamizi wa mazungumzo ya wakati mmoja\n",
    "- 📋 **Repository Pattern**: Usimamizi uliopangwa wa zana na uwezo\n",
    "\n",
    "## 🎯 Faida za Usanifu wa .NET\n",
    "\n",
    "### Vipengele vya Kibiashara\n",
    "- **Strong Typing**: Uthibitishaji wa wakati wa kuandaa na msaada wa IntelliSense\n",
    "- **Dependency Injection**: Ujumuishaji wa kontena la DI lililojengwa ndani\n",
    "- **Configuration Management**: Mifumo ya IConfiguration na Options\n",
    "- **Async/Await**: Msaada wa programu ya wakati mmoja ya kiwango cha juu\n",
    "\n",
    "### Miundo Tayari kwa Uzalishaji\n",
    "- **Logging Integration**: ILogger na msaada wa uandishi wa kumbukumbu uliopangwa\n",
    "- **Health Checks**: Ufuatiliaji na uchunguzi vilivyojengwa ndani\n",
    "- **Configuration Validation**: Typing thabiti na maelezo ya data\n",
    "- **Error Handling**: Usimamizi wa makosa uliopangwa\n",
    "\n",
    "## 🔧 Usanifu wa Kiufundi\n",
    "\n",
    "### Vipengele vya Msingi vya .NET\n",
    "- **Microsoft.Extensions.AI**: Abstraksi za huduma za AI zilizounganishwa\n",
    "- **Microsoft.Agents.AI**: Mfumo wa uratibu wa wakala wa kiwango cha biashara\n",
    "- **GitHub Models Integration**: Miundo ya mteja wa API yenye utendaji wa juu\n",
    "- **Configuration System**: Ujumuishaji wa appsettings.json na mazingira\n",
    "\n",
    "### Utekelezaji wa Miundo ya Ubunifu\n",
    "```csharp\n",
    "IServiceCollection → Agent Builder → Configuration → Tool Registry → AI Agent\n",
    "```\n",
    "\n",
    "## 🏗️ Miundo ya Kibiashara Iliyodhihirishwa\n",
    "\n",
    "### 1. **Miundo ya Uundaji**\n",
    "- **Agent Factory**: Uundaji wa wakala uliosentralishwa na usanidi thabiti\n",
    "- **Builder Pattern**: API ya mtiririko kwa usanidi wa wakala tata\n",
    "- **Singleton Pattern**: Usimamizi wa rasilimali na usanidi wa pamoja\n",
    "- **Dependency Injection**: Uunganishaji usio na nguvu na uwezo wa kupima\n",
    "\n",
    "### 2. **Miundo ya Tabia**\n",
    "- **Strategy Pattern**: Mikakati ya utekelezaji wa zana inayoweza kubadilishwa\n",
    "- **Command Pattern**: Operesheni za wakala zilizofungashwa na undo/redo\n",
    "- **Observer Pattern**: Usimamizi wa mzunguko wa maisha wa wakala unaotegemea matukio\n",
    "- **Template Method**: Mtiririko wa utekelezaji wa wakala uliosanifishwa\n",
    "\n",
    "### 3. **Miundo ya Kimuundo**\n",
    "- **Adapter Pattern**: Safu ya ujumuishaji wa API ya GitHub Models\n",
    "- **Decorator Pattern**: Uboreshaji wa uwezo wa wakala\n",
    "- **Facade Pattern**: Mienendo rahisi ya mwingiliano wa wakala\n",
    "- **Proxy Pattern**: Upakiaji wa polepole na caching kwa utendaji\n",
    "\n",
    "## ⚙️ Mahitaji na Usanidi\n",
    "\n",
    "**Mazingira ya Maendeleo:**\n",
    "- .NET 9.0 SDK au zaidi\n",
    "- Visual Studio 2022 au VS Code na kiendelezi cha C#\n",
    "- Ufikiaji wa API ya GitHub Models\n",
    "\n",
    "**Dependencies za NuGet:**\n",
    "```xml\n",
    "<PackageReference Include=\"Microsoft.Extensions.AI\" Version=\"9.9.0\" />\n",
    "<PackageReference Include=\"Microsoft.Extensions.AI.OpenAI\" Version=\"9.9.0-preview.1.25458.4\" />\n",
    "<PackageReference Include=\"DotNetEnv\" Version=\"3.1.1\" />\n",
    "```\n",
    "\n",
    "**Usanidi (.env file):**\n",
    "```env\n",
    "GITHUB_TOKEN=your_github_personal_access_token\n",
    "GITHUB_ENDPOINT=https://models.inference.ai.azure.com\n",
    "GITHUB_MODEL_ID=gpt-4o-mini\n",
    "```\n",
    "\n",
    "## 📚 Kanuni za Ubunifu wa .NET\n",
    "\n",
    "### Kanuni za SOLID\n",
    "- **Single Responsibility**: Kila kipengele kina kusudi moja wazi\n",
    "- **Open/Closed**: Kinapanuka bila mabadiliko\n",
    "- **Liskov Substitution**: Utekelezaji wa zana unaotegemea interface\n",
    "- **Interface Segregation**: Interface zilizolenga na zenye mshikamano\n",
    "- **Dependency Inversion**: Kutegemea abstraksi, si utekelezaji wa moja kwa moja\n",
    "\n",
    "### Usanifu Safi\n",
    "- **Domain Layer**: Abstraksi za msingi za wakala na zana\n",
    "- **Application Layer**: Uratibu wa wakala na mtiririko wa kazi\n",
    "- **Infrastructure Layer**: Ujumuishaji wa GitHub Models na huduma za nje\n",
    "- **Presentation Layer**: Mwingiliano wa mtumiaji na uundaji wa majibu\n",
    "\n",
    "## 🔒 Mazingatio ya Kibiashara\n",
    "\n",
    "### Usalama\n",
    "- **Credential Management**: Usimamizi salama wa funguo za API kwa kutumia IConfiguration\n",
    "- **Input Validation**: Typing thabiti na uthibitishaji wa maelezo ya data\n",
    "- **Output Sanitization**: Usindikaji salama wa majibu na uchujaji\n",
    "- **Audit Logging**: Ufuatiliaji wa operesheni kwa kina\n",
    "\n",
    "### Utendaji\n",
    "- **Async Patterns**: Operesheni za I/O zisizo na vizuizi\n",
    "- **Connection Pooling**: Usimamizi mzuri wa mteja wa HTTP\n",
    "- **Caching**: Caching ya majibu kwa utendaji bora\n",
    "- **Resource Management**: Mifumo sahihi ya usafishaji na uondoaji\n",
    "\n",
    "### Uwezo wa Kupanuka\n",
    "- **Thread Safety**: Msaada wa utekelezaji wa wakala wa wakati mmoja\n",
    "- **Resource Pooling**: Matumizi bora ya rasilimali\n",
    "- **Load Management**: Kuweka mipaka ya kiwango na kushughulikia shinikizo la mzigo\n",
    "- **Monitoring**: Vipimo vya utendaji na ukaguzi wa afya\n",
    "\n",
    "## 🚀 Utekelezaji wa Uzalishaji\n",
    "\n",
    "- **Configuration Management**: Usanidi maalum wa mazingira\n",
    "- **Logging Strategy**: Uandishi wa kumbukumbu uliopangwa na vitambulisho vya uhusiano\n",
    "- **Error Handling**: Usimamizi wa makosa wa kimataifa na urejeshaji sahihi\n",
    "- **Monitoring**: Ufuatiliaji wa programu na vipimo vya utendaji\n",
    "- **Testing**: Mifumo ya majaribio ya vitengo, ujumuishaji, na mzigo\n",
    "\n",
    "Uko tayari kujenga mawakala wenye akili wa kiwango cha biashara kwa kutumia .NET? Hebu tusanifu kitu thabiti! 🏢✨\n"
   ]
  },
  {
   "cell_type": "code",
   "execution_count": 1,
   "id": "2770ac5c",
   "metadata": {
    "language_info": {
     "name": "polyglot-notebook"
    },
    "polyglot_notebook": {
     "kernelName": "csharp"
    }
   },
   "outputs": [
    {
     "data": {
      "text/html": [
       "<div><div></div><div></div><div><strong>Installed Packages</strong><ul><li><span>Microsoft.Extensions.AI, 9.9.1</span></li></ul></div></div>"
      ]
     },
     "metadata": {},
     "output_type": "display_data"
    }
   ],
   "source": [
    "#r \"nuget: Microsoft.Extensions.AI, 9.9.1\""
   ]
  },
  {
   "cell_type": "code",
   "execution_count": null,
   "id": "984ff6cd",
   "metadata": {
    "language_info": {
     "name": "polyglot-notebook"
    },
    "polyglot_notebook": {
     "kernelName": "csharp"
    }
   },
   "outputs": [
    {
     "data": {
      "text/html": [
       "<div><div></div><div></div><div><strong>Installed Packages</strong><ul><li><span>Microsoft.Agents.AI.OpenAI, 1.0.0-preview.251001.2</span></li></ul></div></div>"
      ]
     },
     "metadata": {},
     "output_type": "display_data"
    }
   ],
   "source": [
    "#r \"nuget: Microsoft.Agents.AI.OpenAI, 1.0.0-preview.251001.3\""
   ]
  },
  {
   "cell_type": "code",
   "execution_count": null,
   "id": "0ab71360",
   "metadata": {
    "language_info": {
     "name": "polyglot-notebook"
    },
    "polyglot_notebook": {
     "kernelName": "csharp"
    }
   },
   "outputs": [
    {
     "data": {
      "text/html": [
       "<div><div></div><div></div><div><strong>Installed Packages</strong><ul><li><span>microsoft.agents.ai, 1.0.0-preview.251001.2</span></li></ul></div></div>"
      ]
     },
     "metadata": {},
     "output_type": "display_data"
    }
   ],
   "source": [
    "\n",
    "\n",
    "#r \"nuget: Microsoft.Agents.AI, 1.0.0-preview.251001.3\""
   ]
  },
  {
   "cell_type": "code",
   "execution_count": 4,
   "id": "4ab7b15d",
   "metadata": {
    "language_info": {
     "name": "polyglot-notebook"
    },
    "polyglot_notebook": {
     "kernelName": "csharp"
    }
   },
   "outputs": [],
   "source": [
    "// #r \"nuget: Microsoft.Extensions.AI.OpenAI, 9.9.0-preview.1.25458.4\""
   ]
  },
  {
   "cell_type": "code",
   "execution_count": 5,
   "id": "3fa8aa21",
   "metadata": {
    "language_info": {
     "name": "polyglot-notebook"
    },
    "polyglot_notebook": {
     "kernelName": "csharp"
    }
   },
   "outputs": [
    {
     "data": {
      "text/html": [
       "<div><div></div><div></div><div><strong>Installed Packages</strong><ul><li><span>DotNetEnv, 3.1.1</span></li></ul></div></div>"
      ]
     },
     "metadata": {},
     "output_type": "display_data"
    }
   ],
   "source": [
    "#r \"nuget: DotNetEnv, 3.1.1\""
   ]
  },
  {
   "cell_type": "code",
   "execution_count": 6,
   "id": "fc8ee8ea",
   "metadata": {
    "language_info": {
     "name": "polyglot-notebook"
    },
    "polyglot_notebook": {
     "kernelName": "csharp"
    }
   },
   "outputs": [],
   "source": [
    "using System;\n",
    "using System.ComponentModel;\n",
    "using System.ClientModel;\n",
    "\n",
    "using Microsoft.Extensions.AI;\n",
    "using Microsoft.Agents.AI;\n",
    "using OpenAI;"
   ]
  },
  {
   "cell_type": "code",
   "execution_count": 7,
   "id": "699b1c83",
   "metadata": {
    "language_info": {
     "name": "polyglot-notebook"
    },
    "polyglot_notebook": {
     "kernelName": "csharp"
    }
   },
   "outputs": [],
   "source": [
    " using DotNetEnv;"
   ]
  },
  {
   "cell_type": "code",
   "execution_count": 8,
   "id": "daa649a0",
   "metadata": {
    "language_info": {
     "name": "polyglot-notebook"
    },
    "polyglot_notebook": {
     "kernelName": "csharp"
    }
   },
   "outputs": [],
   "source": [
    "Env.Load(\"../../../.env\");"
   ]
  },
  {
   "cell_type": "code",
   "execution_count": 9,
   "id": "29661a90",
   "metadata": {
    "language_info": {
     "name": "polyglot-notebook"
    },
    "polyglot_notebook": {
     "kernelName": "csharp"
    }
   },
   "outputs": [],
   "source": [
    "[Description(\"Provides a random vacation destination.\")]\n",
    "static string GetRandomDestination()\n",
    "{\n",
    "    var destinations = new List<string>\n",
    "    {\n",
    "        \"Paris, France\",\n",
    "        \"Tokyo, Japan\",\n",
    "        \"New York City, USA\",\n",
    "        \"Sydney, Australia\",\n",
    "        \"Rome, Italy\",\n",
    "        \"Barcelona, Spain\",\n",
    "        \"Cape Town, South Africa\",\n",
    "        \"Rio de Janeiro, Brazil\",\n",
    "        \"Bangkok, Thailand\",\n",
    "        \"Vancouver, Canada\"\n",
    "    };\n",
    "\n",
    "    var random = new Random();\n",
    "    int index = random.Next(destinations.Count);\n",
    "    return destinations[index];\n",
    "}"
   ]
  },
  {
   "cell_type": "code",
   "execution_count": 10,
   "id": "d2ed1f8b",
   "metadata": {
    "language_info": {
     "name": "polyglot-notebook"
    },
    "polyglot_notebook": {
     "kernelName": "csharp"
    }
   },
   "outputs": [],
   "source": [
    "var github_endpoint = Environment.GetEnvironmentVariable(\"GITHUB_ENDPOINT\") ?? throw new InvalidOperationException(\"GITHUB_ENDPOINT is not set.\");\n",
    "var github_model_id = Environment.GetEnvironmentVariable(\"GITHUB_MODEL_ID\") ?? \"gpt-4o-mini\";\n",
    "var github_token = Environment.GetEnvironmentVariable(\"GITHUB_TOKEN\") ?? throw new InvalidOperationException(\"GITHUB_TOKEN is not set.\");"
   ]
  },
  {
   "cell_type": "code",
   "execution_count": 11,
   "id": "c36c73e1",
   "metadata": {
    "language_info": {
     "name": "polyglot-notebook"
    },
    "polyglot_notebook": {
     "kernelName": "csharp"
    }
   },
   "outputs": [],
   "source": [
    "var openAIOptions = new OpenAIClientOptions()\n",
    "{\n",
    "    Endpoint= new Uri(github_endpoint)\n",
    "};"
   ]
  },
  {
   "cell_type": "code",
   "execution_count": 12,
   "id": "6d94ff10",
   "metadata": {
    "language_info": {
     "name": "polyglot-notebook"
    },
    "polyglot_notebook": {
     "kernelName": "csharp"
    }
   },
   "outputs": [],
   "source": [
    "\n",
    "var openAIClient = new OpenAIClient(new ApiKeyCredential(github_token), openAIOptions);"
   ]
  },
  {
   "cell_type": "code",
   "execution_count": 13,
   "id": "fe32b57a",
   "metadata": {
    "language_info": {
     "name": "polyglot-notebook"
    },
    "polyglot_notebook": {
     "kernelName": "csharp"
    }
   },
   "outputs": [],
   "source": [
    "AIAgent agent = new OpenAIClient(new ApiKeyCredential(github_token), openAIOptions).GetChatClient(github_model_id).CreateAIAgent(\n",
    "    instructions:\"You are a helpful AI Agent that can help plan vacations for customers at random destinations\", tools: [AIFunctionFactory.Create((Func<string>)GetRandomDestination)]);"
   ]
  },
  {
   "cell_type": "code",
   "execution_count": 14,
   "metadata": {
    "language_info": {
     "name": "polyglot-notebook"
    },
    "polyglot_notebook": {
     "kernelName": "csharp"
    }
   },
   "outputs": [],
   "source": [
    "AgentThread thread = agent.GetNewThread();"
   ]
  },
  {
   "cell_type": "code",
   "execution_count": 15,
   "id": "5e455aff",
   "metadata": {
    "language_info": {
     "name": "polyglot-notebook"
    },
    "polyglot_notebook": {
     "kernelName": "csharp"
    }
   },
   "outputs": [
    {
     "name": "stdout",
     "output_type": "stream",
     "text": [
      "How about a day trip to Vancouver, Canada? Here's a suggested itinerary for your day:\n",
      "\n",
      "### Morning\n",
      "- **Breakfast at a Local Cafe**: Start your day with a delicious breakfast at a cozy café like **Jam Cafe** or **Cafe Medina**.\n",
      "- **Stanley Park**: After breakfast, head to Stanley Park. You can rent a bike and ride along the seawall, enjoying beautiful views of the city and the water.\n",
      "\n",
      "### Afternoon\n",
      "- **Lunch in Gastown**: Make your way to Gastown for lunch. Try a local favorite like **The Flying Pig** or **Noodle Box**.\n",
      "- **Explore Gastown**: After lunch, walk around Gastown to see the iconic Steam Clock and browse the unique shops and boutiques.\n",
      "\n",
      "### Late Afternoon\n",
      "- **Granville Island**: Visit Granville Island, where you can stroll through the public market, sample local foods, and enjoy artisan shops.\n",
      "- **False Creek**: Take a walk along False Creek and enjoy the waterfront views.\n",
      "\n",
      "### Evening\n",
      "- **Dinner at a Waterfront Restaurant**: End your day with dinner at a waterfront restaurant like **The Boathouse** or **Lift Bar Grill View** for great food and a view of the sunset.\n",
      "- **Optional: Sunset Cruise**: If you're up for it, consider taking a sunset cruise for a different perspective of the city.\n",
      "\n",
      "### Tips\n",
      "- Make sure to check the weather beforehand!\n",
      "- Consider public transport or ride-sharing to navigate the city easily.\n",
      "\n",
      "Enjoy your day trip to Vancouver!\r\n"
     ]
    }
   ],
   "source": [
    "Console.WriteLine(await agent.RunAsync(\"Plan me a day trip\",thread));"
   ]
  },
  {
   "cell_type": "code",
   "execution_count": 16,
   "id": "592ae1bb",
   "metadata": {
    "language_info": {
     "name": "polyglot-notebook"
    },
    "polyglot_notebook": {
     "kernelName": "csharp"
    }
   },
   "outputs": [
    {
     "name": "stdout",
     "output_type": "stream",
     "text": [
      "How about a vacation to New York City, USA? Here's a suggested itinerary for your trip:\n",
      "\n",
      "### Day 1: Arrival in New York City\n",
      "- **Check-In**: Arrive and check in to your hotel.\n",
      "- **Central Park**: Take a leisurely stroll through Central Park. Consider renting a bike or taking a carriage ride.\n",
      "- **Evening**: Enjoy dinner at a classic NYC restaurant, such as **Katz's Delicatessen** or **Carbone**.\n",
      "\n",
      "### Day 2: Iconic Landmarks\n",
      "- **Morning**: Breakfast at a local diner.\n",
      "- **Statue of Liberty & Ellis Island**: Take a ferry to visit these iconic landmarks.\n",
      "- **Afternoon**: Explore Wall Street and visit the 9/11 Memorial & Museum.\n",
      "- **Evening**: Dinner in the Financial District followed by a walk across the Brooklyn Bridge at sunset.\n",
      "\n",
      "### Day 3: Culture and Arts\n",
      "- **Morning**: Visit The Metropolitan Museum of Art (The Met) and spend a few hours exploring its vast collection.\n",
      "- **Afternoon**: Head to Times Square for lunch and the buzz of the city.\n",
      "- **Broadway Show**: Catch a Broadway show in the evening. Be sure to book tickets in advance!\n",
      "\n",
      "### Day 4: Explore Neighborhoods\n",
      "- **Morning**: Head to SoHo for brunch and shopping in its chic boutiques.\n",
      "- **Afternoon**: Explore Greenwich Village, known for its bohemian atmosphere and history.\n",
      "- **Evening**: Enjoy dinner in the West Village, perhaps at **Buvette** or **Minetta Tavern**.\n",
      "\n",
      "### Day 5: Departure\n",
      "- **Last-minute Shopping**: Spend your last morning shopping at Fifth Avenue or head to Chelsea Market for food and souvenirs.\n",
      "- **Check-Out**: Depart for your journey home.\n",
      "\n",
      "### Tips\n",
      "- Utilize the subway for efficient travel around the city.\n",
      "- Make reservations for popular restaurants and attractions ahead of time!\n",
      "\n",
      "Enjoy your trip to New York City!\r\n"
     ]
    }
   ],
   "source": [
    "Console.WriteLine(await agent.RunAsync(\"I don't like that destination. Plan me another vacation.\",thread));"
   ]
  },
  {
   "cell_type": "markdown",
   "metadata": {},
   "source": [
    "\n---\n\n**Kanusho**:  \nHati hii imetafsiriwa kwa kutumia huduma ya tafsiri ya AI [Co-op Translator](https://github.com/Azure/co-op-translator). Ingawa tunajitahidi kuhakikisha usahihi, tafsiri za kiotomatiki zinaweza kuwa na makosa au kutokuwa sahihi. Hati ya asili katika lugha yake ya awali inapaswa kuchukuliwa kama chanzo cha mamlaka. Kwa taarifa muhimu, tafsiri ya kitaalamu ya binadamu inapendekezwa. Hatutawajibika kwa kutoelewana au tafsiri zisizo sahihi zinazotokana na matumizi ya tafsiri hii.\n"
   ]
  }
 ],
 "metadata": {
  "kernelspec": {
   "display_name": ".NET (C#)",
   "language": "C#",
   "name": ".net-csharp"
  },
  "language_info": {
   "name": "polyglot-notebook"
  },
  "polyglot_notebook": {
   "kernelInfo": {
    "defaultKernelName": "csharp",
    "items": [
     {
      "aliases": [],
      "name": "csharp"
     }
    ]
   }
  },
  "coopTranslator": {
   "original_hash": "070c1d8985b3dc6e6d977f3e891037f1",
   "translation_date": "2025-10-02T09:18:05+00:00",
   "source_file": "03-agentic-design-patterns/code_samples/03-dotnet-agent-framework.ipynb",
   "language_code": "sw"
  }
 },
 "nbformat": 4,
 "nbformat_minor": 5
}