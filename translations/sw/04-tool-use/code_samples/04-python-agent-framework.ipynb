{
 "cells": [
  {
   "cell_type": "markdown",
   "id": "8744544f",
   "metadata": {},
   "source": [
    "# 🛠️ Matumizi ya Zana za Juu na Miundo ya GitHub (Python)\n",
    "\n",
    "## 📋 Malengo ya Kujifunza\n",
    "\n",
    "Notebook hii inaonyesha mifumo ya hali ya juu ya ujumuishaji wa zana kwa kutumia Mfumo wa Wakala wa Microsoft na Miundo ya GitHub. Utajifunza jinsi ya kuunda, kusimamia, na kuratibu zana nyingi ili kujenga uwezo wa hali ya juu wa wakala.\n",
    "\n",
    "**Unachojifunza:**\n",
    "- 🔧 **Usanifu wa Zana Nyingi**: Kujenga mawakala wenye zana maalum nyingi\n",
    "- 🎯 **Mantiki ya Uchaguzi wa Zana**: Jinsi mawakala wanavyochagua zana sahihi kwa kila kazi\n",
    "- 📊 **Zana za Kuchakata Data**: Kuunda zana zinazoshughulikia aina tofauti za data\n",
    "- 🔗 **Muunganiko wa Zana**: Kuchanganya zana kwa kazi ngumu\n",
    "\n",
    "## 🎯 Mifumo Muhimu ya Zana\n",
    "\n",
    "### Kanuni za Ubunifu wa Zana\n",
    "- **Wajibu Moja**: Kila zana ina kusudi wazi na maalum\n",
    "- **Usalama wa Aina**: Uandishi thabiti kwa utekelezaji wa zana unaotegemewa\n",
    "- **Ushughulikiaji wa Makosa**: Mifumo ya kushindwa kwa neema na urejeshaji\n",
    "- **Uwezo wa Kuunganishwa**: Zana zinazofanya kazi vizuri pamoja\n",
    "\n",
    "### Vipengele vya Juu vya Zana\n",
    "- **Uelewa wa Muktadha**: Zana zinazotambua muktadha wa mazungumzo\n",
    "- **Uthibitishaji wa Data**: Usafi wa pembejeo na uthibitishaji wa matokeo\n",
    "- **Uboreshaji wa Utendaji**: Mifumo bora ya utekelezaji wa zana\n",
    "- **Uwezo wa Kupanuka**: Kuongeza uwezo mpya wa zana kwa urahisi\n",
    "\n",
    "## 🔧 Usanifu wa Kiufundi\n",
    "\n",
    "### Vipengele Muhimu\n",
    "- **Mfumo wa Wakala wa Microsoft**: Utekelezaji wa Python wenye msaada wa hali ya juu wa zana\n",
    "- **Ujumuishaji wa Miundo ya GitHub**: Ufikiaji wa miundo ya lugha yenye utendaji wa juu\n",
    "- **Mfumo wa Usajili wa Zana**: Usimamizi uliopangwa wa uwezo wa wakala\n",
    "- **Mifumo ya Urejeshaji wa Makosa**: Ushughulikiaji thabiti wa kushindwa kwa utekelezaji wa zana\n",
    "\n",
    "### Mtiririko wa Ujumuishaji wa Zana\n",
    "```python\n",
    "User Request → Agent Analysis → Tool Selection → Tool Execution → Response Synthesis\n",
    "```\n",
    "\n",
    "## 🛠️ Aina za Zana Zinazoonyeshwa\n",
    "\n",
    "### 1. **Zana za Kuzalisha Data**\n",
    "- Kizalishaji cha maeneo ya nasibu\n",
    "- Mtoaji wa taarifa za hali ya hewa  \n",
    "- Kikokotoo cha gharama za safari\n",
    "- Injini ya mapendekezo ya shughuli\n",
    "\n",
    "### 2. **Zana za Kuchakata**\n",
    "- Uundaji na uthibitishaji wa maandishi\n",
    "- Huduma za mabadiliko ya data\n",
    "- Kazi za uchambuzi wa maudhui\n",
    "- Zana za kuboresha majibu\n",
    "\n",
    "### 3. **Zana za Ujumuishaji**\n",
    "- Viunganishi vya API za nje\n",
    "- Operesheni za mfumo wa faili\n",
    "- Viunganishi vya maswali ya hifadhidata\n",
    "- Huduma za kuchakata wavuti\n",
    "\n",
    "## ⚙️ Mahitaji & Usanidi\n",
    "\n",
    "\n",
    "**Vitegemezi Vinavyohitajika:**\n",
    "```bash\n",
    "\n",
    "pip install agent-framework-core -U\n",
    "```\n",
    "\n",
    "**Usanidi wa Mazingira (Faili ya .env):**\n",
    "```env\n",
    "GITHUB_TOKEN=your_github_personal_access_token\n",
    "GITHUB_ENDPOINT=https://models.inference.ai.azure.com\n",
    "GITHUB_MODEL_ID=gpt-4o-mini\n",
    "```\n",
    "\n",
    "**API za Hiari:**\n",
    "- Ufunguo wa API ya huduma ya hali ya hewa (kwa zana za hali ya hewa)\n",
    "- Ufikiaji wa API ya ubadilishaji wa sarafu\n",
    "- Hati za huduma za taarifa za safari\n",
    "\n",
    "## 🎨 Mifumo ya Ubunifu\n",
    "\n",
    "### Mfumo wa Kiwanda cha Zana\n",
    "- Uundaji na usanidi wa zana ulio katikati\n",
    "- Ubunifu wa kiolesura thabiti cha zana\n",
    "- Usajili na ugunduzi rahisi wa zana\n",
    "\n",
    "### Mfumo wa Amri\n",
    "- Mantiki ya utekelezaji wa zana iliyofungashwa\n",
    "- Uwezo wa kufuta/kufanya upya operesheni ngumu\n",
    "- Kumbukumbu ya ukaguzi wa matumizi ya zana\n",
    "\n",
    "### Mfumo wa Mfuatiliaji\n",
    "- Ufuatiliaji wa utekelezaji wa zana\n",
    "- Ukusanyaji wa vipimo vya utendaji\n",
    "- Kuripoti makosa na kutoa tahadhari\n",
    "\n",
    "## 🚀 Mazoea Bora\n",
    "\n",
    "- **Nyaraka za Zana**: Maelezo wazi kwa uelewa wa wakala\n",
    "- **Uthibitishaji wa Pembejeo**: Ukaguzi thabiti wa vigezo na usafi\n",
    "- **Uundaji wa Matokeo**: Majibu ya zana yanayolingana na yanayoweza kuchakatwa\n",
    "- **Ujumbe wa Makosa**: Taarifa za makosa zinazosaidia kwa utatuzi\n",
    "- **Utendaji**: Utekelezaji wa zana ulioboreshwa kwa majibu ya haraka\n",
    "\n",
    "Tayari kujenga mawakala wenye uwezo wa zana zenye nguvu? Hebu tuunde kitu cha kushangaza! ⚡\n"
   ]
  },
  {
   "cell_type": "code",
   "execution_count": null,
   "id": "59c0feeb",
   "metadata": {},
   "outputs": [],
   "source": [
    "! pip install agent-framework-core -U"
   ]
  },
  {
   "cell_type": "code",
   "execution_count": null,
   "id": "c0df8a52",
   "metadata": {},
   "outputs": [],
   "source": [
    "# � Import core dependencies for Agent Framework and tool integration\n",
    "# This sets up the essential libraries for building intelligent agents with tool capabilities\n",
    "\n",
    "import asyncio\n",
    "import os\n",
    "import json\n",
    "\n",
    "from dotenv import load_dotenv  # For loading environment variables securely\n",
    "from random import randint\n",
    "\n",
    "# These are the core components for building tool-enabled agents\n",
    "from agent_framework import ChatAgent           # Main agent class\n",
    "from agent_framework.openai import OpenAIChatClient  # OpenAI-compatible client"
   ]
  },
  {
   "cell_type": "code",
   "execution_count": null,
   "id": "24c10eb0",
   "metadata": {},
   "outputs": [],
   "source": [
    "load_dotenv()"
   ]
  },
  {
   "cell_type": "code",
   "execution_count": null,
   "id": "151e0314",
   "metadata": {},
   "outputs": [],
   "source": [
    "# 🔑 Environment variables verification\n",
    "# Ensure all required GitHub Models credentials are properly configured\n",
    "print(\"GITHUB_ENDPOINT:\", os.environ.get(\"GITHUB_ENDPOINT\"))\n",
    "print(\"GITHUB_TOKEN:\", \"***\" if os.environ.get(\"GITHUB_TOKEN\") else \"Not set\")\n",
    "print(\"GITHUB_MODEL_ID:\", os.environ.get(\"GITHUB_MODEL_ID\"))"
   ]
  },
  {
   "cell_type": "code",
   "execution_count": null,
   "id": "a6141584",
   "metadata": {},
   "outputs": [],
   "source": [
    "# 🧪 Test GitHub Models connectivity\n",
    "openai_chat_client = OpenAIChatClient(base_url=os.environ.get(\"GITHUB_ENDPOINT\"), api_key=os.environ.get(\"GITHUB_TOKEN\"), model_id=os.environ.get(\"GITHUB_MODEL_ID\"))"
   ]
  },
  {
   "cell_type": "code",
   "execution_count": null,
   "id": "a6507f83",
   "metadata": {},
   "outputs": [],
   "source": [
    "# 🛠️ Define travel planning tools for agent integration\n",
    "# These functions provide specific capabilities that the agent can invoke dynamically\n",
    "\n",
    "def get_random_destination() -> str:\n",
    "    \"\"\"\n",
    "    🎲 Random destination generator tool\n",
    "    Returns a randomly selected travel destination from curated list\n",
    "    Useful when customers need inspiration for their next vacation\n",
    "    \"\"\"\n",
    "    destinations = [\n",
    "        \"Paris, France\",\n",
    "        \"Tokyo, Japan\", \n",
    "        \"New York City, USA\",\n",
    "        \"London, England\",\n",
    "        \"Rome, Italy\",\n",
    "        \"Sydney, Australia\",\n",
    "        \"Dubai, UAE\",\n",
    "        \"Barcelona, Spain\",\n",
    "        \"Bangkok, Thailand\",\n",
    "        \"Amsterdam, Netherlands\",\n",
    "        \"Istanbul, Turkey\",\n",
    "        \"Prague, Czech Republic\",\n",
    "        \"Santorini, Greece\",\n",
    "        \"Reykjavik, Iceland\",\n",
    "        \"Marrakech, Morocco\",\n",
    "        \"Cape Town, South Africa\",\n",
    "        \"Rio de Janeiro, Brazil\",\n",
    "        \"Bali, Indonesia\"\n",
    "    ]\n",
    "    # 🎯 Return random selection from the curated destination list\n",
    "    return destinations[randint(0, len(destinations) - 1)]"
   ]
  },
  {
   "cell_type": "code",
   "execution_count": null,
   "id": "5d4f0568",
   "metadata": {},
   "outputs": [],
   "source": [
    "# 🔗 Initialize GitHub Models chat client for agent communication\n",
    "# Creates the primary interface between the agent and the language model\n",
    "openai_chat_client = OpenAIChatClient(base_url=os.environ.get(\"GITHUB_ENDPOINT\"), api_key=os.environ.get(\"GITHUB_TOKEN\"), model_id=os.environ.get(\"GITHUB_MODEL_ID\"))"
   ]
  },
  {
   "cell_type": "code",
   "execution_count": null,
   "id": "751668c5",
   "metadata": {},
   "outputs": [],
   "source": [
    "# 🤖 Configure travel agent identity and behavioral instructions\n",
    "# Define the agent's personality, capabilities, and operational guidelines\n",
    "\n",
    "AGENT_NAME = \"TravelAgent\"\n",
    "\n",
    "AGENT_INSTRUCTIONS = \"\"\"You are a helpful AI Agent that can help plan vacations for customers at random destinations\n",
    "\"\"\""
   ]
  },
  {
   "cell_type": "code",
   "execution_count": null,
   "id": "be18ac4f",
   "metadata": {},
   "outputs": [],
   "source": [
    "agent = ChatAgent(\n",
    "        name = AGENT_NAME,\n",
    "        chat_client=openai_chat_client,\n",
    "        instructions=AGENT_INSTRUCTIONS,\n",
    "        tools=[get_random_destination]\n",
    ")"
   ]
  },
  {
   "cell_type": "code",
   "execution_count": null,
   "id": "772e9481",
   "metadata": {},
   "outputs": [],
   "source": [
    "thread = agent.get_new_thread()"
   ]
  },
  {
   "cell_type": "code",
   "execution_count": null,
   "id": "a731b547",
   "metadata": {},
   "outputs": [],
   "source": [
    "response1 = await agent.run(\"Plan me a day trip\",thread= thread)"
   ]
  },
  {
   "cell_type": "code",
   "execution_count": null,
   "id": "7d3fe00a",
   "metadata": {},
   "outputs": [],
   "source": [
    "\n",
    "last_message = response1.messages[-1]\n",
    "text_content = last_message.contents[0].text\n",
    "print(\"Travel plan:\")\n",
    "print(text_content)"
   ]
  },
  {
   "cell_type": "markdown",
   "metadata": {},
   "source": [
    "\n---\n\n**Kanusho**:  \nHati hii imetafsiriwa kwa kutumia huduma ya tafsiri ya AI [Co-op Translator](https://github.com/Azure/co-op-translator). Ingawa tunajitahidi kuhakikisha usahihi, tafsiri za kiotomatiki zinaweza kuwa na makosa au kutokuwa sahihi. Hati ya asili katika lugha yake ya awali inapaswa kuchukuliwa kama chanzo cha mamlaka. Kwa taarifa muhimu, tafsiri ya kitaalamu ya binadamu inapendekezwa. Hatutawajibika kwa kutoelewana au tafsiri zisizo sahihi zinazotokana na matumizi ya tafsiri hii.\n"
   ]
  }
 ],
 "metadata": {
  "kernelspec": {
   "display_name": "agentenv",
   "language": "python",
   "name": "python3"
  },
  "language_info": {
   "codemirror_mode": {
    "name": "ipython",
    "version": 3
   },
   "file_extension": ".py",
   "mimetype": "text/x-python",
   "name": "python",
   "nbconvert_exporter": "python",
   "pygments_lexer": "ipython3",
   "version": "3.12.10"
  },
  "polyglot_notebook": {
   "kernelInfo": {
    "defaultKernelName": "csharp",
    "items": [
     {
      "aliases": [],
      "name": "csharp"
     }
    ]
   }
  },
  "coopTranslator": {
   "original_hash": "42966ddac53cebaf0ac1ce33b2ee7059",
   "translation_date": "2025-10-02T09:13:17+00:00",
   "source_file": "04-tool-use/code_samples/04-python-agent-framework.ipynb",
   "language_code": "sw"
  }
 },
 "nbformat": 4,
 "nbformat_minor": 5
}