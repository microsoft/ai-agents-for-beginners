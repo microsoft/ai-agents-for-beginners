{
 "cells": [
  {
   "cell_type": "markdown",
   "id": "44b5899e",
   "metadata": {},
   "source": [
    "# 🔍 Enterprise RAG na Azure AI Foundry (.NET)\n",
    "\n",
    "## 📋 Malengo ya Kujifunza\n",
    "\n",
    "Notebook hii inaonyesha jinsi ya kujenga mifumo ya Retrieval-Augmented Generation (RAG) ya kiwango cha biashara kwa kutumia Microsoft Agent Framework katika .NET na Azure AI Foundry. Utajifunza kuunda mawakala wa uzalishaji ambao wanaweza kutafuta nyaraka na kutoa majibu sahihi, yenye muktadha, huku wakizingatia usalama na uwezo wa kupanuka wa biashara.\n",
    "\n",
    "**Uwezo wa Enterprise RAG Utakaoujenga:**\n",
    "- 📚 **Ujasusi wa Nyaraka**: Usindikaji wa nyaraka wa hali ya juu kwa kutumia huduma za Azure AI\n",
    "- 🔍 **Utafutaji wa Semantiki**: Utafutaji wa vector wa utendaji wa juu na vipengele vya biashara\n",
    "- 🛡️ **Ujumuishaji wa Usalama**: Udhibiti wa ufikiaji kulingana na majukumu na mifumo ya ulinzi wa data\n",
    "- 🏢 **Usanifu Unaoweza Kupanuka**: Mifumo ya RAG ya uzalishaji yenye ufuatiliaji\n",
    "\n",
    "## 🎯 Usanifu wa Enterprise RAG\n",
    "\n",
    "### Vipengele Muhimu vya Biashara\n",
    "- **Azure AI Foundry**: Jukwaa la AI linalosimamiwa kwa biashara lenye usalama na uzingatiaji\n",
    "- **Mawakala wa Kudumu**: Mawakala wenye historia ya mazungumzo na usimamizi wa muktadha\n",
    "- **Usimamizi wa Duka la Vector**: Uorodheshaji wa nyaraka wa kiwango cha biashara na urejeshaji\n",
    "- **Ujumuishaji wa Utambulisho**: Uthibitishaji wa Azure AD na udhibiti wa ufikiaji kulingana na majukumu\n",
    "\n",
    "### Faida za .NET kwa Biashara\n",
    "- **Usalama wa Aina**: Uthibitishaji wa wakati wa kuunganisha kwa operesheni za RAG na miundo ya data\n",
    "- **Utendaji wa Async**: Usindikaji wa nyaraka na operesheni za utafutaji zisizo na vizuizi\n",
    "- **Usimamizi wa Kumbukumbu**: Matumizi bora ya rasilimali kwa makusanyo makubwa ya nyaraka\n",
    "- **Mifumo ya Ujumuishaji**: Ujumuishaji wa asili wa huduma za Azure na sindano ya utegemezi\n",
    "\n",
    "## 🏗️ Usanifu wa Kiufundi\n",
    "\n",
    "### Njia ya Enterprise RAG\n",
    "```csharp\n",
    "Document Upload → Security Validation → Vector Processing → Index Creation\n",
    "                      ↓                    ↓                  ↓\n",
    "User Query → Authentication → Semantic Search → Context Ranking → AI Response\n",
    "```\n",
    "\n",
    "### Vipengele Muhimu vya .NET\n",
    "- **Azure.AI.Agents.Persistent**: Usimamizi wa mawakala wa biashara wenye uhifadhi wa hali\n",
    "- **Azure.Identity**: Uthibitishaji uliounganishwa kwa ufikiaji salama wa huduma za Azure\n",
    "- **Microsoft.Agents.AI.AzureAI**: Utekelezaji wa mfumo wa mawakala ulioboreshwa kwa Azure\n",
    "- **System.Linq.Async**: Operesheni za LINQ zisizo na vizuizi za utendaji wa juu\n",
    "\n",
    "## 🔧 Vipengele na Faida za Biashara\n",
    "\n",
    "### Usalama na Uzingatiaji\n",
    "- **Ujumuishaji wa Azure AD**: Usimamizi wa utambulisho wa biashara na uthibitishaji\n",
    "- **Udhibiti wa Ufikiaji kulingana na Majukumu**: Ruhusa za kina kwa ufikiaji wa nyaraka na operesheni\n",
    "- **Ulinzi wa Data**: Usimbaji wa data wakati wa kuhifadhi na kusafirisha kwa nyaraka nyeti\n",
    "- **Kumbukumbu za Ukaguzi**: Ufuatiliaji wa shughuli kwa mahitaji ya uzingatiaji\n",
    "\n",
    "### Utendaji na Uwezo wa Kupanuka\n",
    "- **Usimamizi wa Muunganisho**: Usimamizi bora wa muunganisho wa huduma za Azure\n",
    "- **Usindikaji wa Async**: Operesheni zisizo na vizuizi kwa hali za utendaji wa juu\n",
    "- **Mikakati ya Caching**: Caching ya akili kwa nyaraka zinazofikiwa mara kwa mara\n",
    "- **Usawazishaji wa Mizigo**: Usindikaji uliosambazwa kwa matumizi makubwa\n",
    "\n",
    "### Usimamizi na Ufuatiliaji\n",
    "- **Ukaguzi wa Afya**: Ufuatiliaji wa vipengele vya mfumo wa RAG\n",
    "- **Vipimo vya Utendaji**: Takwimu za kina kuhusu ubora wa utafutaji na muda wa majibu\n",
    "- **Usimamizi wa Makosa**: Usimamizi wa hali ya kipekee na sera za kurudia\n",
    "- **Usimamizi wa Usanidi**: Mipangilio maalum ya mazingira yenye uthibitishaji\n",
    "\n",
    "## ⚙️ Mahitaji na Usanidi\n",
    "\n",
    "**Mazingira ya Maendeleo:**\n",
    "- .NET 9.0 SDK au zaidi\n",
    "- Visual Studio 2022 au VS Code na kiendelezi cha C#\n",
    "- Usajili wa Azure wenye ufikiaji wa AI Foundry\n",
    "\n",
    "**Paket Zinazohitajika za NuGet:**\n",
    "```xml\n",
    "<PackageReference Include=\"Microsoft.Extensions.AI\" Version=\"9.9.0\" />\n",
    "<PackageReference Include=\"Azure.AI.Agents.Persistent\" Version=\"1.2.0-beta.5\" />\n",
    "<PackageReference Include=\"Azure.Identity\" Version=\"1.15.0\" />\n",
    "<PackageReference Include=\"System.Linq.Async\" Version=\"6.0.3\" />\n",
    "<PackageReference Include=\"DotNetEnv\" Version=\"3.1.1\" />\n",
    "```\n",
    "\n",
    "**Usanidi wa Uthibitishaji wa Azure:**\n",
    "```bash\n",
    "# Install Azure CLI and authenticate\n",
    "az login\n",
    "az account set --subscription \"your-subscription-id\"\n",
    "```\n",
    "\n",
    "**Usanidi wa Mazingira (.env file):**\n",
    "```env\n",
    "# Azure AI Foundry configuration (automatically handled via Azure CLI)\n",
    "# Ensure you're authenticated to the correct Azure subscription\n",
    "```\n",
    "\n",
    "## 📊 Mifumo ya Enterprise RAG\n",
    "\n",
    "### Mifumo ya Usimamizi wa Nyaraka\n",
    "- **Upakiaji wa Wingi**: Usindikaji bora wa makusanyo makubwa ya nyaraka\n",
    "- **Sasisho za Kawaida**: Ongezeko la nyaraka na marekebisho kwa wakati halisi\n",
    "- **Udhibiti wa Toleo**: Ufuatiliaji wa mabadiliko na toleo la nyaraka\n",
    "- **Usimamizi wa Metadata**: Sifa tajiri za nyaraka na mfumo wa uainishaji\n",
    "\n",
    "### Mifumo ya Utafutaji na Urejeshaji\n",
    "- **Utafutaji Mseto**: Kuchanganya utafutaji wa semantiki na maneno muhimu kwa matokeo bora\n",
    "- **Utafutaji wa Vipengele**: Uchujaji wa vipengele vingi na uainishaji\n",
    "- **Urekebishaji wa Uhusiano**: Algorithimu za alama maalum kwa mahitaji ya kikoa\n",
    "- **Upangaji wa Matokeo**: Upangaji wa hali ya juu na ujumuishaji wa mantiki ya biashara\n",
    "\n",
    "### Mifumo ya Usalama\n",
    "- **Usalama wa Kiwango cha Nyaraka**: Udhibiti wa ufikiaji wa kina kwa kila nyaraka\n",
    "- **Uainishaji wa Data**: Uwekaji wa lebo za unyeti na ulinzi wa kiotomatiki\n",
    "- **Njia za Ukaguzi**: Kumbukumbu za kina za operesheni zote za RAG\n",
    "- **Ulinzi wa Faragha**: Uwezo wa kugundua na kuficha PII\n",
    "\n",
    "## 🔒 Vipengele vya Usalama wa Biashara\n",
    "\n",
    "### Uthibitishaji na Uidhinishaji\n",
    "```csharp\n",
    "// Azure AD integrated authentication\n",
    "var credential = new AzureCliCredential();\n",
    "var agentsClient = new PersistentAgentsClient(endpoint, credential);\n",
    "\n",
    "// Role-based access validation\n",
    "if (!await ValidateUserPermissions(user, documentId))\n",
    "{\n",
    "    throw new UnauthorizedAccessException(\"Insufficient permissions\");\n",
    "}\n",
    "```\n",
    "\n",
    "### Ulinzi wa Data\n",
    "- **Usimbaji**: Usimbaji wa mwisho hadi mwisho kwa nyaraka na faharasa za utafutaji\n",
    "- **Udhibiti wa Ufikiaji**: Ujumuishaji na Azure AD kwa ruhusa za watumiaji na vikundi\n",
    "- **Makazi ya Data**: Udhibiti wa eneo la data kwa uzingatiaji\n",
    "- **Hifadhi Nakala na Urejeshaji**: Hifadhi nakala za kiotomatiki na uwezo wa urejeshaji wa maafa\n",
    "\n",
    "## 📈 Uboreshaji wa Utendaji\n",
    "\n",
    "### Mifumo ya Usindikaji wa Async\n",
    "```csharp\n",
    "// Efficient async document processing\n",
    "await foreach (var document in documentStream.AsAsyncEnumerable())\n",
    "{\n",
    "    await ProcessDocumentAsync(document, cancellationToken);\n",
    "}\n",
    "```\n",
    "\n",
    "### Usimamizi wa Kumbukumbu\n",
    "- **Usindikaji wa Kutiririsha**: Kushughulikia nyaraka kubwa bila matatizo ya kumbukumbu\n",
    "- **Usimamizi wa Rasilimali**: Matumizi bora ya rasilimali ghali\n",
    "- **Ukusanyaji wa Takataka**: Mifumo ya ugawaji wa kumbukumbu iliyoboreshwa\n",
    "- **Usimamizi wa Muunganisho**: Mzunguko sahihi wa muunganisho wa huduma za Azure\n",
    "\n",
    "### Mikakati ya Caching\n",
    "- **Caching ya Maswali**: Hifadhi ya utafutaji unaotekelezwa mara kwa mara\n",
    "- **Caching ya Nyaraka**: Hifadhi ya kumbukumbu kwa nyaraka zinazotumika mara kwa mara\n",
    "- **Caching ya Faharasa**: Hifadhi ya faharasa ya vector iliyoboreshwa\n",
    "- **Caching ya Matokeo**: Hifadhi ya akili ya majibu yaliyotengenezwa\n",
    "\n",
    "## 📊 Matumizi ya Biashara\n",
    "\n",
    "### Usimamizi wa Maarifa\n",
    "- **Wiki ya Kampuni**: Utafutaji wa akili katika hifadhidata za maarifa za kampuni\n",
    "- **Sera na Taratibu**: Mwongozo wa uzingatiaji na taratibu kiotomatiki\n",
    "- **Vifaa vya Mafunzo**: Msaada wa kujifunza na maendeleo ya akili\n",
    "- **Hifadhidata za Utafiti**: Mifumo ya uchambuzi wa karatasi za kitaaluma na utafiti\n",
    "\n",
    "### Huduma kwa Wateja\n",
    "- **Hifadhidata ya Maarifa ya Usaidizi**: Majibu ya kiotomatiki ya huduma kwa wateja\n",
    "- **Nyaraka za Bidhaa**: Urejeshaji wa taarifa za bidhaa kwa akili\n",
    "- **Mwongozo wa Utatuzi wa Matatizo**: Msaada wa kutatua matatizo kwa muktadha\n",
    "- **Mifumo ya Maswali Yanayoulizwa Mara kwa Mara**: Uundaji wa maswali yanayoulizwa mara kwa mara kutoka kwa makusanyo ya nyaraka\n",
    "\n",
    "### Uzingatiaji wa Kanuni\n",
    "- **Uchambuzi wa Nyaraka za Kisheria**: Ujasusi wa mikataba na nyaraka za kisheria\n",
    "- **Ufuatiliaji wa Uzingatiaji**: Ukaguzi wa uzingatiaji wa kanuni kiotomatiki\n",
    "- **Tathmini ya Hatari**: Uchambuzi wa hatari na ripoti kulingana na nyaraka\n",
    "- **Msaada wa Ukaguzi**: Ugunduzi wa nyaraka za akili kwa ukaguzi\n",
    "\n",
    "## 🚀 Utekelezaji wa Uzalishaji\n",
    "\n",
    "### Ufuatiliaji na Uangalizi\n",
    "- **Application Insights**: Telemetry ya kina na ufuatiliaji wa utendaji\n",
    "- **Vipimo Maalum**: Ufuatiliaji wa KPI maalum za biashara na tahadhari\n",
    "- **Ufuatiliaji Ulioenea**: Ufuatiliaji wa maombi kutoka mwanzo hadi mwisho katika huduma\n",
    "- **Dashibodi za Afya**: Uonyeshaji wa afya ya mfumo na utendaji kwa wakati halisi\n",
    "\n",
    "### Uwezo wa Kupanuka na Uaminifu\n",
    "- **Upanukaji Kiotomatiki**: Upanukaji wa kiotomatiki kulingana na mzigo na vipimo vya utendaji\n",
    "- **Upatikanaji wa Juu**: Utekelezaji wa maeneo mengi na uwezo wa kushindwa\n",
    "- **Upimaji wa Mizigo**: Uthibitishaji wa utendaji chini ya hali ya mzigo wa biashara\n",
    "- **Urejeshaji wa Maafa**: Taratibu za hifadhi nakala na urejeshaji kiotomatiki\n",
    "\n",
    "Tayari kujenga mifumo ya RAG ya kiwango cha biashara inayoweza kushughulikia nyaraka nyeti kwa kiwango kikubwa? Hebu tusanifu mifumo ya maarifa ya akili kwa biashara! 🏢📖✨\n"
   ]
  },
  {
   "cell_type": "code",
   "execution_count": 1,
   "metadata": {
    "language_info": {
     "name": "polyglot-notebook"
    },
    "polyglot_notebook": {
     "kernelName": "csharp"
    }
   },
   "outputs": [
    {
     "data": {
      "text/html": [
       "<div><div></div><div></div><div><strong>Installed Packages</strong><ul><li><span>Microsoft.Extensions.AI, 9.9.1</span></li></ul></div></div>"
      ]
     },
     "metadata": {},
     "output_type": "display_data"
    }
   ],
   "source": [
    "#r \"nuget: Microsoft.Extensions.AI, 9.9.1\""
   ]
  },
  {
   "cell_type": "code",
   "execution_count": 2,
   "id": "4ec1f0d1",
   "metadata": {
    "language_info": {
     "name": "polyglot-notebook"
    },
    "polyglot_notebook": {
     "kernelName": "csharp"
    }
   },
   "outputs": [
    {
     "data": {
      "text/html": [
       "<div><div></div><div></div><div><strong>Installed Packages</strong><ul><li><span>Azure.AI.Agents.Persistent, 1.2.0-beta.5</span></li><li><span>Azure.Identity, 1.15.0</span></li><li><span>System.Linq.Async, 6.0.3</span></li></ul></div></div>"
      ]
     },
     "metadata": {},
     "output_type": "display_data"
    }
   ],
   "source": [
    "#r \"nuget: Azure.AI.Agents.Persistent, 1.2.0-beta.5\"\n",
    "#r \"nuget: Azure.Identity, 1.15.0\"\n",
    "#r \"nuget: System.Linq.Async, 6.0.3\""
   ]
  },
  {
   "cell_type": "code",
   "execution_count": 3,
   "id": "2363ae07",
   "metadata": {
    "language_info": {
     "name": "polyglot-notebook"
    },
    "polyglot_notebook": {
     "kernelName": "csharp"
    }
   },
   "outputs": [],
   "source": []
  },
  {
   "cell_type": "code",
   "execution_count": null,
   "id": "d10cec9d",
   "metadata": {
    "language_info": {
     "name": "polyglot-notebook"
    },
    "polyglot_notebook": {
     "kernelName": "csharp"
    }
   },
   "outputs": [
    {
     "data": {
      "text/html": [
       "<div><div></div><div></div><div><strong>Installed Packages</strong><ul><li><span>Microsoft.Agents.AI.AzureAI, 1.0.0-preview.251001.2</span></li></ul></div></div>"
      ]
     },
     "metadata": {},
     "output_type": "display_data"
    }
   ],
   "source": [
    "#r \"nuget: Microsoft.Agents.AI.AzureAI, 1.0.0-preview.251001.3\""
   ]
  },
  {
   "cell_type": "code",
   "execution_count": null,
   "id": "78199d1c",
   "metadata": {
    "language_info": {
     "name": "polyglot-notebook"
    },
    "polyglot_notebook": {
     "kernelName": "csharp"
    }
   },
   "outputs": [
    {
     "data": {
      "text/html": [
       "<div><div></div><div></div><div><strong>Installed Packages</strong><ul><li><span>microsoft.agents.ai, 1.0.0-preview.251001.2</span></li></ul></div></div>"
      ]
     },
     "metadata": {},
     "output_type": "display_data"
    }
   ],
   "source": [
    "#r \"nuget: Microsoft.Agents.AI, 1.0.0-preview.251001.3\""
   ]
  },
  {
   "cell_type": "code",
   "execution_count": 6,
   "id": "7de4684a",
   "metadata": {
    "language_info": {
     "name": "polyglot-notebook"
    },
    "polyglot_notebook": {
     "kernelName": "csharp"
    }
   },
   "outputs": [
    {
     "data": {
      "text/html": [
       "<div><div></div><div></div><div><strong>Installed Packages</strong><ul><li><span>DotNetEnv, 3.1.1</span></li></ul></div></div>"
      ]
     },
     "metadata": {},
     "output_type": "display_data"
    }
   ],
   "source": [
    "#r \"nuget: DotNetEnv, 3.1.1\""
   ]
  },
  {
   "cell_type": "code",
   "execution_count": 7,
   "id": "251efd31",
   "metadata": {
    "language_info": {
     "name": "polyglot-notebook"
    },
    "polyglot_notebook": {
     "kernelName": "csharp"
    }
   },
   "outputs": [],
   "source": [
    "using System;\n",
    "using System.Linq;\n",
    "using Azure.AI.Agents.Persistent;\n",
    "using Azure.Identity;\n",
    "using Microsoft.Agents.AI;"
   ]
  },
  {
   "cell_type": "code",
   "execution_count": 8,
   "id": "a2e342f1",
   "metadata": {
    "language_info": {
     "name": "polyglot-notebook"
    },
    "polyglot_notebook": {
     "kernelName": "csharp"
    }
   },
   "outputs": [],
   "source": [
    " using DotNetEnv;"
   ]
  },
  {
   "cell_type": "code",
   "execution_count": 9,
   "id": "a7a01653",
   "metadata": {
    "language_info": {
     "name": "polyglot-notebook"
    },
    "polyglot_notebook": {
     "kernelName": "csharp"
    }
   },
   "outputs": [],
   "source": [
    "Env.Load(\"../../../.env\");"
   ]
  },
  {
   "cell_type": "code",
   "execution_count": 10,
   "id": "a42735d5",
   "metadata": {
    "language_info": {
     "name": "polyglot-notebook"
    },
    "polyglot_notebook": {
     "kernelName": "csharp"
    }
   },
   "outputs": [],
   "source": [
    "var azure_foundry_endpoint = Environment.GetEnvironmentVariable(\"AZURE_AI_PROJECT_ENDPOINT\") ?? throw new InvalidOperationException(\"AZURE_AI_PROJECT_ENDPOINT is not set.\");\n",
    "var azure_foundry_model_id = Environment.GetEnvironmentVariable(\"AZURE_AI_MODEL_DEPLOYMENT_NAME\") ?? \"gpt-4.1-mini\";"
   ]
  },
  {
   "cell_type": "code",
   "execution_count": 11,
   "id": "e29bdb58",
   "metadata": {
    "language_info": {
     "name": "polyglot-notebook"
    },
    "polyglot_notebook": {
     "kernelName": "csharp"
    }
   },
   "outputs": [],
   "source": [
    "string pdfPath = \"./document.md\";"
   ]
  },
  {
   "cell_type": "code",
   "execution_count": 12,
   "id": "7351e12d",
   "metadata": {
    "language_info": {
     "name": "polyglot-notebook"
    },
    "polyglot_notebook": {
     "kernelName": "csharp"
    }
   },
   "outputs": [],
   "source": [
    "using System.IO;\n",
    "\n",
    "async Task<Stream> OpenImageStreamAsync(string path)\n",
    "{\n",
    "\treturn await Task.Run(() => File.OpenRead(path));\n",
    "}\n",
    "\n",
    "var pdfStream = await OpenImageStreamAsync(pdfPath);"
   ]
  },
  {
   "cell_type": "code",
   "execution_count": 13,
   "id": "0b6bf484",
   "metadata": {
    "language_info": {
     "name": "polyglot-notebook"
    },
    "polyglot_notebook": {
     "kernelName": "csharp"
    }
   },
   "outputs": [],
   "source": [
    "var persistentAgentsClient = new PersistentAgentsClient(azure_foundry_endpoint, new AzureCliCredential());"
   ]
  },
  {
   "cell_type": "code",
   "execution_count": 14,
   "id": "81e0dddc",
   "metadata": {
    "language_info": {
     "name": "polyglot-notebook"
    },
    "polyglot_notebook": {
     "kernelName": "csharp"
    }
   },
   "outputs": [],
   "source": [
    "PersistentAgentFileInfo fileInfo = await persistentAgentsClient.Files.UploadFileAsync(pdfStream, PersistentAgentFilePurpose.Agents, \"demo.md\");"
   ]
  },
  {
   "cell_type": "code",
   "execution_count": 15,
   "id": "f0c75d80",
   "metadata": {
    "language_info": {
     "name": "polyglot-notebook"
    },
    "polyglot_notebook": {
     "kernelName": "csharp"
    }
   },
   "outputs": [],
   "source": [
    "PersistentAgentsVectorStore fileStore =\n",
    "            await persistentAgentsClient.VectorStores.CreateVectorStoreAsync(\n",
    "                [fileInfo.Id],\n",
    "                metadata: new Dictionary<string, string>() { { \"agentkey\", bool.TrueString } });"
   ]
  },
  {
   "cell_type": "code",
   "execution_count": 16,
   "id": "c77986c5",
   "metadata": {
    "language_info": {
     "name": "polyglot-notebook"
    },
    "polyglot_notebook": {
     "kernelName": "csharp"
    }
   },
   "outputs": [],
   "source": [
    "PersistentAgent agentModel = await persistentAgentsClient.Administration.CreateAgentAsync(\n",
    "            azure_foundry_model_id,\n",
    "            name: \"DotNetRAGAgent\",\n",
    "            tools: [new FileSearchToolDefinition()],\n",
    "            instructions: \"\"\"\n",
    "                You are an AI assistant designed to answer user questions using only the information retrieved from the provided document(s).\n",
    "\n",
    "                - If a user's question cannot be answered using the retrieved context, **you must clearly respond**: \n",
    "                \"I'm sorry, but the uploaded document does not contain the necessary information to answer that question.\"\n",
    "                - Do not answer from general knowledge or reasoning. Do not make assumptions or generate hypothetical explanations.\n",
    "                - Do not provide definitions, tutorials, or commentary that is not explicitly grounded in the content of the uploaded file(s).\n",
    "                - If a user asks a question like \"What is a Neural Network?\", and this is not discussed in the uploaded document, respond as instructed above.\n",
    "                - For questions that do have relevant content in the document (e.g., Contoso's travel insurance coverage), respond accurately, and cite the document explicitly.\n",
    "\n",
    "                You must behave as if you have no external knowledge beyond what is retrieved from the uploaded document.\n",
    "                \"\"\",\n",
    "            toolResources: new()\n",
    "            {\n",
    "                FileSearch = new()\n",
    "                {\n",
    "                    VectorStoreIds = { fileStore.Id },\n",
    "                }\n",
    "            },\n",
    "            metadata: new Dictionary<string, string>() { { \"agentkey\", bool.TrueString } });"
   ]
  },
  {
   "cell_type": "code",
   "execution_count": 17,
   "id": "282326cf",
   "metadata": {
    "language_info": {
     "name": "polyglot-notebook"
    },
    "polyglot_notebook": {
     "kernelName": "csharp"
    }
   },
   "outputs": [],
   "source": [
    "AIAgent agent = await persistentAgentsClient.GetAIAgentAsync(agentModel.Id);"
   ]
  },
  {
   "cell_type": "code",
   "execution_count": 18,
   "id": "2067d313",
   "metadata": {
    "language_info": {
     "name": "polyglot-notebook"
    },
    "polyglot_notebook": {
     "kernelName": "csharp"
    }
   },
   "outputs": [],
   "source": [
    "AgentThread thread = agent.GetNewThread();"
   ]
  },
  {
   "cell_type": "code",
   "execution_count": 19,
   "id": "454c4230",
   "metadata": {
    "language_info": {
     "name": "polyglot-notebook"
    },
    "polyglot_notebook": {
     "kernelName": "csharp"
    }
   },
   "outputs": [
    {
     "name": "stdout",
     "output_type": "stream",
     "text": [
      "Contoso's travel insurance coverage includes protection for medical emergencies, trip cancellations, and lost baggage. This ensures that travelers are supported in case of health-related issues during their trip, unforeseen cancellations, and the loss of their belongings while traveling【4:0†demo.md】.\r\n"
     ]
    }
   ],
   "source": [
    "Console.WriteLine(await agent.RunAsync(\"Can you explain Contoso's travel insurance coverage?\", thread));"
   ]
  },
  {
   "cell_type": "markdown",
   "metadata": {},
   "source": [
    "\n---\n\n**Kanusho**:  \nHati hii imetafsiriwa kwa kutumia huduma ya tafsiri ya AI [Co-op Translator](https://github.com/Azure/co-op-translator). Ingawa tunajitahidi kwa usahihi, tafadhali fahamu kuwa tafsiri za kiotomatiki zinaweza kuwa na makosa au kutokuwa sahihi. Hati ya asili katika lugha yake ya awali inapaswa kuzingatiwa kama chanzo cha mamlaka. Kwa taarifa muhimu, inashauriwa kutumia huduma ya tafsiri ya binadamu ya kitaalamu. Hatutawajibika kwa maelewano au tafsiri zisizo sahihi zinazotokana na matumizi ya tafsiri hii.\n"
   ]
  }
 ],
 "metadata": {
  "kernelspec": {
   "display_name": ".NET (C#)",
   "language": "C#",
   "name": ".net-csharp"
  },
  "language_info": {
   "name": "polyglot-notebook"
  },
  "polyglot_notebook": {
   "kernelInfo": {
    "defaultKernelName": "csharp",
    "items": [
     {
      "aliases": [],
      "name": "csharp"
     }
    ]
   }
  },
  "coopTranslator": {
   "original_hash": "e4584fa31638009dc6fb665275de8fc2",
   "translation_date": "2025-10-02T09:01:16+00:00",
   "source_file": "05-agentic-rag/code_samples/05-dotnet-agent-framework.ipynb",
   "language_code": "sw"
  }
 },
 "nbformat": 4,
 "nbformat_minor": 5
}