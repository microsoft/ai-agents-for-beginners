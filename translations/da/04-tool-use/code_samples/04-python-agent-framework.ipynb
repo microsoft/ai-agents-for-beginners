{
 "cells": [
  {
   "cell_type": "markdown",
   "id": "8744544f",
   "metadata": {},
   "source": [
    "# 🛠️ Avanceret Værktøjsbrug med GitHub-modeller (Python)\n",
    "\n",
    "## 📋 Læringsmål\n",
    "\n",
    "Denne notebook demonstrerer avancerede mønstre for værktøjsintegration ved brug af Microsoft Agent Framework med GitHub-modeller. Du vil lære at oprette, administrere og orkestrere flere værktøjer for at bygge sofistikerede agentfunktioner.\n",
    "\n",
    "**Hvad du vil mestre:**\n",
    "- 🔧 **Multi-værktøjsarkitektur**: Bygge agenter med flere specialiserede værktøjer\n",
    "- 🎯 **Værktøjsvalg-logik**: Hvordan agenter vælger det rette værktøj til hver opgave\n",
    "- 📊 **Databehandlingsværktøjer**: Oprettelse af værktøjer, der håndterer forskellige datatyper\n",
    "- 🔗 **Værktøjssammensætning**: Kombinering af værktøjer til komplekse arbejdsgange\n",
    "\n",
    "## 🎯 Centrale Værktøjsmønstre\n",
    "\n",
    "### Principper for Værktøjsdesign\n",
    "- **Enkelt ansvar**: Hvert værktøj har et klart, fokuseret formål\n",
    "- **Type-sikkerhed**: Stærk typning for pålidelig værktøjsudførelse\n",
    "- **Fejlhåndtering**: Elegant fejl- og genopretningsmønstre\n",
    "- **Sammensætbarhed**: Værktøjer, der fungerer godt sammen\n",
    "\n",
    "### Avancerede Værktøjsfunktioner\n",
    "- **Kontekstbevidsthed**: Værktøjer, der forstår samtalekontekst\n",
    "- **Datavalidering**: Input-sanitization og output-validering\n",
    "- **Performanceoptimering**: Effektive mønstre for værktøjsudførelse\n",
    "- **Udvidelsesmuligheder**: Nem tilføjelse af nye værktøjsfunktioner\n",
    "\n",
    "## 🔧 Teknisk Arkitektur\n",
    "\n",
    "### Kernekomponenter\n",
    "- **Microsoft Agent Framework**: Python-implementering med avanceret værktøjsstøtte\n",
    "- **GitHub-modeller Integration**: Højtydende adgang til sprogmodeller\n",
    "- **Værktøjsregistreringssystem**: Organiseret styring af agentfunktioner\n",
    "- **Fejlgenopretningsmønstre**: Robust håndtering af værktøjsudførelsesfejl\n",
    "\n",
    "### Værktøjsintegrationsflow\n",
    "```python\n",
    "User Request → Agent Analysis → Tool Selection → Tool Execution → Response Synthesis\n",
    "```\n",
    "\n",
    "## 🛠️ Demonstrerede Værktøjskategorier\n",
    "\n",
    "### 1. **Datagenereringsværktøjer**\n",
    "- Tilfældig destinationsgenerator\n",
    "- Vejrinformationsudbyder  \n",
    "- Rejseomkostningsberegner\n",
    "- Aktivitetsanbefalingsmotor\n",
    "\n",
    "### 2. **Behandlingsværktøjer**\n",
    "- Tekstformatering og validering\n",
    "- Datatransformationsværktøjer\n",
    "- Indholdsanalysefunktioner\n",
    "- Responsforbedringsværktøjer\n",
    "\n",
    "### 3. **Integrationsværktøjer**\n",
    "- Eksterne API-forbindelser\n",
    "- Filsystemoperationer\n",
    "- Databaseforespørgselsgrænseflader\n",
    "- Webscraping-værktøjer\n",
    "\n",
    "## ⚙️ Forudsætninger & Opsætning\n",
    "\n",
    "**Påkrævede afhængigheder:**\n",
    "```bash\n",
    "\n",
    "pip install agent-framework-core -U\n",
    "```\n",
    "\n",
    "**Miljøkonfiguration (.env-fil):**\n",
    "```env\n",
    "GITHUB_TOKEN=your_github_personal_access_token\n",
    "GITHUB_ENDPOINT=https://models.inference.ai.azure.com\n",
    "GITHUB_MODEL_ID=gpt-4o-mini\n",
    "```\n",
    "\n",
    "**Valgfrie API'er:**\n",
    "- API-nøgle til vejrtjeneste (til vejrværktøjer)\n",
    "- Adgang til valutaomregnings-API\n",
    "- Legitimation til rejseinformationstjenester\n",
    "\n",
    "## 🎨 Designmønstre\n",
    "\n",
    "### Værktøjsfabrikmønster\n",
    "- Centraliseret oprettelse og konfiguration af værktøjer\n",
    "- Konsistent værktøjsgrænsefladedesign\n",
    "- Nem registrering og opdagelse af værktøjer\n",
    "\n",
    "### Kommandomønster\n",
    "- Indkapslet logik for værktøjsudførelse\n",
    "- Fortryd/gendan-funktionalitet til komplekse operationer\n",
    "- Audit-logning for værktøjsbrug\n",
    "\n",
    "### Observatørmønster\n",
    "- Overvågning af værktøjsudførelse\n",
    "- Indsamling af performance-metrics\n",
    "- Fejlrapportering og alarmering\n",
    "\n",
    "## 🚀 Bedste Fremgangsmåder\n",
    "\n",
    "- **Værktøjsdokumentation**: Klare beskrivelser for agentforståelse\n",
    "- **Inputvalidering**: Robust parameterkontrol og sanitization\n",
    "- **Outputformatering**: Konsistente, parsebare værktøjsrespons\n",
    "- **Fejlmeddelelser**: Hjælpsom fejlinformation til fejlfinding\n",
    "- **Performance**: Optimeret værktøjsudførelse for hurtig respons\n",
    "\n",
    "Klar til at bygge agenter med kraftfulde værktøjsfunktioner? Lad os skabe noget fantastisk! ⚡\n"
   ]
  },
  {
   "cell_type": "code",
   "execution_count": null,
   "id": "59c0feeb",
   "metadata": {},
   "outputs": [],
   "source": [
    "! pip install agent-framework-core -U"
   ]
  },
  {
   "cell_type": "code",
   "execution_count": null,
   "id": "c0df8a52",
   "metadata": {},
   "outputs": [],
   "source": [
    "# � Import core dependencies for Agent Framework and tool integration\n",
    "# This sets up the essential libraries for building intelligent agents with tool capabilities\n",
    "\n",
    "import asyncio\n",
    "import os\n",
    "import json\n",
    "\n",
    "from dotenv import load_dotenv  # For loading environment variables securely\n",
    "from random import randint\n",
    "\n",
    "# These are the core components for building tool-enabled agents\n",
    "from agent_framework import ChatAgent           # Main agent class\n",
    "from agent_framework.openai import OpenAIChatClient  # OpenAI-compatible client"
   ]
  },
  {
   "cell_type": "code",
   "execution_count": null,
   "id": "24c10eb0",
   "metadata": {},
   "outputs": [],
   "source": [
    "load_dotenv()"
   ]
  },
  {
   "cell_type": "code",
   "execution_count": null,
   "id": "151e0314",
   "metadata": {},
   "outputs": [],
   "source": [
    "# 🔑 Environment variables verification\n",
    "# Ensure all required GitHub Models credentials are properly configured\n",
    "print(\"GITHUB_ENDPOINT:\", os.environ.get(\"GITHUB_ENDPOINT\"))\n",
    "print(\"GITHUB_TOKEN:\", \"***\" if os.environ.get(\"GITHUB_TOKEN\") else \"Not set\")\n",
    "print(\"GITHUB_MODEL_ID:\", os.environ.get(\"GITHUB_MODEL_ID\"))"
   ]
  },
  {
   "cell_type": "code",
   "execution_count": null,
   "id": "a6141584",
   "metadata": {},
   "outputs": [],
   "source": [
    "# 🧪 Test GitHub Models connectivity\n",
    "openai_chat_client = OpenAIChatClient(base_url=os.environ.get(\"GITHUB_ENDPOINT\"), api_key=os.environ.get(\"GITHUB_TOKEN\"), model_id=os.environ.get(\"GITHUB_MODEL_ID\"))"
   ]
  },
  {
   "cell_type": "code",
   "execution_count": null,
   "id": "a6507f83",
   "metadata": {},
   "outputs": [],
   "source": [
    "# 🛠️ Define travel planning tools for agent integration\n",
    "# These functions provide specific capabilities that the agent can invoke dynamically\n",
    "\n",
    "def get_random_destination() -> str:\n",
    "    \"\"\"\n",
    "    🎲 Random destination generator tool\n",
    "    Returns a randomly selected travel destination from curated list\n",
    "    Useful when customers need inspiration for their next vacation\n",
    "    \"\"\"\n",
    "    destinations = [\n",
    "        \"Paris, France\",\n",
    "        \"Tokyo, Japan\", \n",
    "        \"New York City, USA\",\n",
    "        \"London, England\",\n",
    "        \"Rome, Italy\",\n",
    "        \"Sydney, Australia\",\n",
    "        \"Dubai, UAE\",\n",
    "        \"Barcelona, Spain\",\n",
    "        \"Bangkok, Thailand\",\n",
    "        \"Amsterdam, Netherlands\",\n",
    "        \"Istanbul, Turkey\",\n",
    "        \"Prague, Czech Republic\",\n",
    "        \"Santorini, Greece\",\n",
    "        \"Reykjavik, Iceland\",\n",
    "        \"Marrakech, Morocco\",\n",
    "        \"Cape Town, South Africa\",\n",
    "        \"Rio de Janeiro, Brazil\",\n",
    "        \"Bali, Indonesia\"\n",
    "    ]\n",
    "    # 🎯 Return random selection from the curated destination list\n",
    "    return destinations[randint(0, len(destinations) - 1)]"
   ]
  },
  {
   "cell_type": "code",
   "execution_count": null,
   "id": "5d4f0568",
   "metadata": {},
   "outputs": [],
   "source": [
    "# 🔗 Initialize GitHub Models chat client for agent communication\n",
    "# Creates the primary interface between the agent and the language model\n",
    "openai_chat_client = OpenAIChatClient(base_url=os.environ.get(\"GITHUB_ENDPOINT\"), api_key=os.environ.get(\"GITHUB_TOKEN\"), model_id=os.environ.get(\"GITHUB_MODEL_ID\"))"
   ]
  },
  {
   "cell_type": "code",
   "execution_count": null,
   "id": "751668c5",
   "metadata": {},
   "outputs": [],
   "source": [
    "# 🤖 Configure travel agent identity and behavioral instructions\n",
    "# Define the agent's personality, capabilities, and operational guidelines\n",
    "\n",
    "AGENT_NAME = \"TravelAgent\"\n",
    "\n",
    "AGENT_INSTRUCTIONS = \"\"\"You are a helpful AI Agent that can help plan vacations for customers at random destinations\n",
    "\"\"\""
   ]
  },
  {
   "cell_type": "code",
   "execution_count": null,
   "id": "be18ac4f",
   "metadata": {},
   "outputs": [],
   "source": [
    "agent = ChatAgent(\n",
    "        name = AGENT_NAME,\n",
    "        chat_client=openai_chat_client,\n",
    "        instructions=AGENT_INSTRUCTIONS,\n",
    "        tools=[get_random_destination]\n",
    ")"
   ]
  },
  {
   "cell_type": "code",
   "execution_count": null,
   "id": "772e9481",
   "metadata": {},
   "outputs": [],
   "source": [
    "thread = agent.get_new_thread()"
   ]
  },
  {
   "cell_type": "code",
   "execution_count": null,
   "id": "a731b547",
   "metadata": {},
   "outputs": [],
   "source": [
    "response1 = await agent.run(\"Plan me a day trip\",thread= thread)"
   ]
  },
  {
   "cell_type": "code",
   "execution_count": null,
   "id": "7d3fe00a",
   "metadata": {},
   "outputs": [],
   "source": [
    "\n",
    "last_message = response1.messages[-1]\n",
    "text_content = last_message.contents[0].text\n",
    "print(\"Travel plan:\")\n",
    "print(text_content)"
   ]
  },
  {
   "cell_type": "markdown",
   "metadata": {},
   "source": [
    "\n---\n\n**Ansvarsfraskrivelse**:  \nDette dokument er blevet oversat ved hjælp af AI-oversættelsestjenesten [Co-op Translator](https://github.com/Azure/co-op-translator). Selvom vi bestræber os på nøjagtighed, skal det bemærkes, at automatiserede oversættelser kan indeholde fejl eller unøjagtigheder. Det originale dokument på dets oprindelige sprog bør betragtes som den autoritative kilde. For kritisk information anbefales professionel menneskelig oversættelse. Vi påtager os ikke ansvar for eventuelle misforståelser eller fejltolkninger, der måtte opstå som følge af brugen af denne oversættelse.\n"
   ]
  }
 ],
 "metadata": {
  "kernelspec": {
   "display_name": "agentenv",
   "language": "python",
   "name": "python3"
  },
  "language_info": {
   "codemirror_mode": {
    "name": "ipython",
    "version": 3
   },
   "file_extension": ".py",
   "mimetype": "text/x-python",
   "name": "python",
   "nbconvert_exporter": "python",
   "pygments_lexer": "ipython3",
   "version": "3.12.10"
  },
  "polyglot_notebook": {
   "kernelInfo": {
    "defaultKernelName": "csharp",
    "items": [
     {
      "aliases": [],
      "name": "csharp"
     }
    ]
   }
  },
  "coopTranslator": {
   "original_hash": "42966ddac53cebaf0ac1ce33b2ee7059",
   "translation_date": "2025-10-02T16:09:04+00:00",
   "source_file": "04-tool-use/code_samples/04-python-agent-framework.ipynb",
   "language_code": "da"
  }
 },
 "nbformat": 4,
 "nbformat_minor": 5
}