{
 "cells": [
  {
   "cell_type": "markdown",
   "id": "44b5899e",
   "metadata": {},
   "source": [
    "# 🔍 Enterprise RAG med Azure AI Foundry (.NET)\n",
    "\n",
    "## 📋 Læringsmål\n",
    "\n",
    "Denne notebook viser, hvordan man bygger virksomhedsklare Retrieval-Augmented Generation (RAG) systemer ved hjælp af Microsoft Agent Framework i .NET med Azure AI Foundry. Du lærer at oprette produktionsklare agenter, der kan søge i dokumenter og levere præcise, kontekstbevidste svar med virksomhedssikkerhed og skalerbarhed.\n",
    "\n",
    "**Enterprise RAG-funktioner, du vil opbygge:**\n",
    "- 📚 **Dokumentintelligens**: Avanceret dokumentbehandling med Azure AI-tjenester\n",
    "- 🔍 **Semantisk søgning**: Højtydende vektorsøgning med virksomhedsfunktioner\n",
    "- 🛡️ **Sikkerhedsintegration**: Rollebaseret adgang og databeskyttelsesmønstre\n",
    "- 🏢 **Skalerbar arkitektur**: Produktionsklare RAG-systemer med overvågning\n",
    "\n",
    "## 🎯 Enterprise RAG-arkitektur\n",
    "\n",
    "### Centrale virksomhedskomponenter\n",
    "- **Azure AI Foundry**: Administreret AI-platform med sikkerhed og overholdelse\n",
    "- **Vedvarende agenter**: Agenter med samtalehistorik og kontekststyring\n",
    "- **Vector Store Management**: Virksomhedsklar dokumentindeksering og -hentning\n",
    "- **Identitetsintegration**: Azure AD-autentificering og rollebaseret adgangskontrol\n",
    "\n",
    "### Fordele ved .NET i virksomheder\n",
    "- **Type-sikkerhed**: Validering af RAG-operationer og datastrukturer ved kompilering\n",
    "- **Asynkron ydeevne**: Ikke-blokerende dokumentbehandling og søgeoperationer\n",
    "- **Hukommelsesstyring**: Effektiv ressourceudnyttelse til store dokumentkollektioner\n",
    "- **Integrationsmønstre**: Native integration med Azure-tjenester via dependency injection\n",
    "\n",
    "## 🏗️ Teknisk arkitektur\n",
    "\n",
    "### Enterprise RAG-pipeline\n",
    "```csharp\n",
    "Document Upload → Security Validation → Vector Processing → Index Creation\n",
    "                      ↓                    ↓                  ↓\n",
    "User Query → Authentication → Semantic Search → Context Ranking → AI Response\n",
    "```\n",
    "\n",
    "### Centrale .NET-komponenter\n",
    "- **Azure.AI.Agents.Persistent**: Agentstyring med vedvarende tilstand\n",
    "- **Azure.Identity**: Integreret autentificering for sikker adgang til Azure-tjenester\n",
    "- **Microsoft.Agents.AI.AzureAI**: Optimeret agentframework til Azure\n",
    "- **System.Linq.Async**: Højtydende asynkrone LINQ-operationer\n",
    "\n",
    "## 🔧 Virksomhedsfunktioner og fordele\n",
    "\n",
    "### Sikkerhed og overholdelse\n",
    "- **Azure AD-integration**: Identitetsstyring og autentificering på virksomhedsniveau\n",
    "- **Rollebaseret adgang**: Finkornet tilladelse til dokumentadgang og operationer\n",
    "- **Databeskyttelse**: Kryptering af dokumenter både i hvile og under transport\n",
    "- **Audit-logning**: Omfattende aktivitetsregistrering for overholdelseskrav\n",
    "\n",
    "### Ydeevne og skalerbarhed\n",
    "- **Forbindelsespooling**: Effektiv styring af Azure-tjenesteforbindelser\n",
    "- **Asynkron behandling**: Ikke-blokerende operationer til scenarier med høj gennemstrømning\n",
    "- **Caching-strategier**: Intelligent caching af ofte tilgåede dokumenter\n",
    "- **Load balancing**: Distribueret behandling til store implementeringer\n",
    "\n",
    "### Styring og overvågning\n",
    "- **Sundhedstjek**: Indbygget overvågning af RAG-systemkomponenter\n",
    "- **Ydelsesmålinger**: Detaljeret analyse af søgekvalitet og svartider\n",
    "- **Fejlhåndtering**: Omfattende undtagelseshåndtering med genforsøgspolitikker\n",
    "- **Konfigurationsstyring**: Miljøspecifikke indstillinger med validering\n",
    "\n",
    "## ⚙️ Forudsætninger og opsætning\n",
    "\n",
    "**Udviklingsmiljø:**\n",
    "- .NET 9.0 SDK eller nyere\n",
    "- Visual Studio 2022 eller VS Code med C#-udvidelse\n",
    "- Azure-abonnement med adgang til AI Foundry\n",
    "\n",
    "**Påkrævede NuGet-pakker:**\n",
    "```xml\n",
    "<PackageReference Include=\"Microsoft.Extensions.AI\" Version=\"9.9.0\" />\n",
    "<PackageReference Include=\"Azure.AI.Agents.Persistent\" Version=\"1.2.0-beta.5\" />\n",
    "<PackageReference Include=\"Azure.Identity\" Version=\"1.15.0\" />\n",
    "<PackageReference Include=\"System.Linq.Async\" Version=\"6.0.3\" />\n",
    "<PackageReference Include=\"DotNetEnv\" Version=\"3.1.1\" />\n",
    "```\n",
    "\n",
    "**Azure-autentificeringsopsætning:**\n",
    "```bash\n",
    "# Install Azure CLI and authenticate\n",
    "az login\n",
    "az account set --subscription \"your-subscription-id\"\n",
    "```\n",
    "\n",
    "**Miljøkonfiguration (.env-fil):**\n",
    "```env\n",
    "# Azure AI Foundry configuration (automatically handled via Azure CLI)\n",
    "# Ensure you're authenticated to the correct Azure subscription\n",
    "```\n",
    "\n",
    "## 📊 Enterprise RAG-mønstre\n",
    "\n",
    "### Dokumentstyringsmønstre\n",
    "- **Bulk-upload**: Effektiv behandling af store dokumentkollektioner\n",
    "- **Inkrementelle opdateringer**: Realtids tilføjelse og ændring af dokumenter\n",
    "- **Versionskontrol**: Dokumentversionering og ændringssporing\n",
    "- **Metadata-styring**: Rig dokumentattributter og taksonomi\n",
    "\n",
    "### Søge- og hentemønstre\n",
    "- **Hybrid søgning**: Kombination af semantisk og nøgleordssøgning for optimale resultater\n",
    "- **Facetteret søgning**: Multidimensionel filtrering og kategorisering\n",
    "- **Relevansjustering**: Tilpassede scoringsalgoritmer til domænespecifikke behov\n",
    "- **Resultatrangering**: Avanceret rangering med forretningslogik\n",
    "\n",
    "### Sikkerhedsmønstre\n",
    "- **Dokumentniveau-sikkerhed**: Finkornet adgangskontrol pr. dokument\n",
    "- **Dataklassificering**: Automatisk følsomhedsmærkning og beskyttelse\n",
    "- **Audit-spor**: Omfattende logning af alle RAG-operationer\n",
    "- **Privatlivsbeskyttelse**: PII-detektion og redigeringsfunktioner\n",
    "\n",
    "## 🔒 Virksomhedssikkerhedsfunktioner\n",
    "\n",
    "### Autentificering og autorisation\n",
    "```csharp\n",
    "// Azure AD integrated authentication\n",
    "var credential = new AzureCliCredential();\n",
    "var agentsClient = new PersistentAgentsClient(endpoint, credential);\n",
    "\n",
    "// Role-based access validation\n",
    "if (!await ValidateUserPermissions(user, documentId))\n",
    "{\n",
    "    throw new UnauthorizedAccessException(\"Insufficient permissions\");\n",
    "}\n",
    "```\n",
    "\n",
    "### Databeskyttelse\n",
    "- **Kryptering**: Ende-til-ende kryptering af dokumenter og søgeindekser\n",
    "- **Adgangskontrol**: Integration med Azure AD for bruger- og gruppeadgang\n",
    "- **Dataophold**: Geografisk dataplacering for overholdelse\n",
    "- **Backup og gendannelse**: Automatiserede backup- og katastrofegendannelsesfunktioner\n",
    "\n",
    "## 📈 Ydelsesoptimering\n",
    "\n",
    "### Asynkrone behandlingsmønstre\n",
    "```csharp\n",
    "// Efficient async document processing\n",
    "await foreach (var document in documentStream.AsAsyncEnumerable())\n",
    "{\n",
    "    await ProcessDocumentAsync(document, cancellationToken);\n",
    "}\n",
    "```\n",
    "\n",
    "### Hukommelsesstyring\n",
    "- **Streaming-behandling**: Håndtering af store dokumenter uden hukommelsesproblemer\n",
    "- **Ressourcepooling**: Effektiv genbrug af dyre ressourcer\n",
    "- **Garbage Collection**: Optimerede mønstre for hukommelsestildeling\n",
    "- **Forbindelsesstyring**: Korrekt livscyklus for Azure-tjenesteforbindelser\n",
    "\n",
    "### Caching-strategier\n",
    "- **Forespørgselscaching**: Cache ofte udførte søgninger\n",
    "- **Dokumentcaching**: In-memory caching af populære dokumenter\n",
    "- **Indekscaching**: Optimeret caching af vektorindekser\n",
    "- **Resultatcaching**: Intelligent caching af genererede svar\n",
    "\n",
    "## 📊 Virksomhedsanvendelser\n",
    "\n",
    "### Vidensstyring\n",
    "- **Corporate Wiki**: Intelligent søgning i virksomhedens vidensbaser\n",
    "- **Politikker og procedurer**: Automatisk vejledning i overholdelse og procedurer\n",
    "- **Uddannelsesmaterialer**: Intelligent lærings- og udviklingsassistance\n",
    "- **Forskningsdatabaser**: Analyse af akademiske og forskningsartikler\n",
    "\n",
    "### Kundesupport\n",
    "- **Supportvidensbase**: Automatiserede kundeserviceresponser\n",
    "- **Produktdokumentation**: Intelligent produktinformationshentning\n",
    "- **Fejlfindingsvejledninger**: Kontekstuel problemløsningsassistance\n",
    "- **FAQ-systemer**: Dynamisk FAQ-generering fra dokumentkollektioner\n",
    "\n",
    "### Overholdelse af regler\n",
    "- **Analyse af juridiske dokumenter**: Intelligens i kontrakter og juridiske dokumenter\n",
    "- **Overholdelsesovervågning**: Automatisk kontrol af regeloverholdelse\n",
    "- **Risikovurdering**: Dokumentbaseret risikovurdering og rapportering\n",
    "- **Audit-support**: Intelligent dokumentopdagelse til revisioner\n",
    "\n",
    "## 🚀 Produktionsimplementering\n",
    "\n",
    "### Overvågning og synlighed\n",
    "- **Application Insights**: Detaljeret telemetri og ydeevneovervågning\n",
    "- **Brugerdefinerede målinger**: KPI-sporing og alarmering specifikt for virksomheden\n",
    "- **Distribueret sporing**: End-to-end sporing af anmodninger på tværs af tjenester\n",
    "- **Sundheds-dashboard**: Realtidsvisualisering af systemets sundhed og ydeevne\n",
    "\n",
    "### Skalerbarhed og pålidelighed\n",
    "- **Auto-skalering**: Automatisk skalering baseret på belastning og ydeevnemålinger\n",
    "- **Høj tilgængelighed**: Multi-region implementering med failover-funktioner\n",
    "- **Load-testning**: Ydeevnevalidering under virksomhedens belastningsforhold\n",
    "- **Katastrofegendannelse**: Automatiserede backup- og gendannelsesprocedurer\n",
    "\n",
    "Klar til at bygge virksomhedsklare RAG-systemer, der kan håndtere følsomme dokumenter i stor skala? Lad os designe intelligente videnssystemer til virksomheder! 🏢📖✨\n"
   ]
  },
  {
   "cell_type": "code",
   "execution_count": 1,
   "metadata": {
    "language_info": {
     "name": "polyglot-notebook"
    },
    "polyglot_notebook": {
     "kernelName": "csharp"
    }
   },
   "outputs": [
    {
     "data": {
      "text/html": [
       "<div><div></div><div></div><div><strong>Installed Packages</strong><ul><li><span>Microsoft.Extensions.AI, 9.9.1</span></li></ul></div></div>"
      ]
     },
     "metadata": {},
     "output_type": "display_data"
    }
   ],
   "source": [
    "#r \"nuget: Microsoft.Extensions.AI, 9.9.1\""
   ]
  },
  {
   "cell_type": "code",
   "execution_count": 2,
   "id": "4ec1f0d1",
   "metadata": {
    "language_info": {
     "name": "polyglot-notebook"
    },
    "polyglot_notebook": {
     "kernelName": "csharp"
    }
   },
   "outputs": [
    {
     "data": {
      "text/html": [
       "<div><div></div><div></div><div><strong>Installed Packages</strong><ul><li><span>Azure.AI.Agents.Persistent, 1.2.0-beta.5</span></li><li><span>Azure.Identity, 1.15.0</span></li><li><span>System.Linq.Async, 6.0.3</span></li></ul></div></div>"
      ]
     },
     "metadata": {},
     "output_type": "display_data"
    }
   ],
   "source": [
    "#r \"nuget: Azure.AI.Agents.Persistent, 1.2.0-beta.5\"\n",
    "#r \"nuget: Azure.Identity, 1.15.0\"\n",
    "#r \"nuget: System.Linq.Async, 6.0.3\""
   ]
  },
  {
   "cell_type": "code",
   "execution_count": 3,
   "id": "2363ae07",
   "metadata": {
    "language_info": {
     "name": "polyglot-notebook"
    },
    "polyglot_notebook": {
     "kernelName": "csharp"
    }
   },
   "outputs": [],
   "source": []
  },
  {
   "cell_type": "code",
   "execution_count": null,
   "id": "d10cec9d",
   "metadata": {
    "language_info": {
     "name": "polyglot-notebook"
    },
    "polyglot_notebook": {
     "kernelName": "csharp"
    }
   },
   "outputs": [
    {
     "data": {
      "text/html": [
       "<div><div></div><div></div><div><strong>Installed Packages</strong><ul><li><span>Microsoft.Agents.AI.AzureAI, 1.0.0-preview.251001.2</span></li></ul></div></div>"
      ]
     },
     "metadata": {},
     "output_type": "display_data"
    }
   ],
   "source": [
    "#r \"nuget: Microsoft.Agents.AI.AzureAI, 1.0.0-preview.251001.3\""
   ]
  },
  {
   "cell_type": "code",
   "execution_count": null,
   "id": "78199d1c",
   "metadata": {
    "language_info": {
     "name": "polyglot-notebook"
    },
    "polyglot_notebook": {
     "kernelName": "csharp"
    }
   },
   "outputs": [
    {
     "data": {
      "text/html": [
       "<div><div></div><div></div><div><strong>Installed Packages</strong><ul><li><span>microsoft.agents.ai, 1.0.0-preview.251001.2</span></li></ul></div></div>"
      ]
     },
     "metadata": {},
     "output_type": "display_data"
    }
   ],
   "source": [
    "#r \"nuget: Microsoft.Agents.AI, 1.0.0-preview.251001.3\""
   ]
  },
  {
   "cell_type": "code",
   "execution_count": 6,
   "id": "7de4684a",
   "metadata": {
    "language_info": {
     "name": "polyglot-notebook"
    },
    "polyglot_notebook": {
     "kernelName": "csharp"
    }
   },
   "outputs": [
    {
     "data": {
      "text/html": [
       "<div><div></div><div></div><div><strong>Installed Packages</strong><ul><li><span>DotNetEnv, 3.1.1</span></li></ul></div></div>"
      ]
     },
     "metadata": {},
     "output_type": "display_data"
    }
   ],
   "source": [
    "#r \"nuget: DotNetEnv, 3.1.1\""
   ]
  },
  {
   "cell_type": "code",
   "execution_count": 7,
   "id": "251efd31",
   "metadata": {
    "language_info": {
     "name": "polyglot-notebook"
    },
    "polyglot_notebook": {
     "kernelName": "csharp"
    }
   },
   "outputs": [],
   "source": [
    "using System;\n",
    "using System.Linq;\n",
    "using Azure.AI.Agents.Persistent;\n",
    "using Azure.Identity;\n",
    "using Microsoft.Agents.AI;"
   ]
  },
  {
   "cell_type": "code",
   "execution_count": 8,
   "id": "a2e342f1",
   "metadata": {
    "language_info": {
     "name": "polyglot-notebook"
    },
    "polyglot_notebook": {
     "kernelName": "csharp"
    }
   },
   "outputs": [],
   "source": [
    " using DotNetEnv;"
   ]
  },
  {
   "cell_type": "code",
   "execution_count": 9,
   "id": "a7a01653",
   "metadata": {
    "language_info": {
     "name": "polyglot-notebook"
    },
    "polyglot_notebook": {
     "kernelName": "csharp"
    }
   },
   "outputs": [],
   "source": [
    "Env.Load(\"../../../.env\");"
   ]
  },
  {
   "cell_type": "code",
   "execution_count": 10,
   "id": "a42735d5",
   "metadata": {
    "language_info": {
     "name": "polyglot-notebook"
    },
    "polyglot_notebook": {
     "kernelName": "csharp"
    }
   },
   "outputs": [],
   "source": [
    "var azure_foundry_endpoint = Environment.GetEnvironmentVariable(\"AZURE_AI_PROJECT_ENDPOINT\") ?? throw new InvalidOperationException(\"AZURE_AI_PROJECT_ENDPOINT is not set.\");\n",
    "var azure_foundry_model_id = Environment.GetEnvironmentVariable(\"AZURE_AI_MODEL_DEPLOYMENT_NAME\") ?? \"gpt-4.1-mini\";"
   ]
  },
  {
   "cell_type": "code",
   "execution_count": 11,
   "id": "e29bdb58",
   "metadata": {
    "language_info": {
     "name": "polyglot-notebook"
    },
    "polyglot_notebook": {
     "kernelName": "csharp"
    }
   },
   "outputs": [],
   "source": [
    "string pdfPath = \"./document.md\";"
   ]
  },
  {
   "cell_type": "code",
   "execution_count": 12,
   "id": "7351e12d",
   "metadata": {
    "language_info": {
     "name": "polyglot-notebook"
    },
    "polyglot_notebook": {
     "kernelName": "csharp"
    }
   },
   "outputs": [],
   "source": [
    "using System.IO;\n",
    "\n",
    "async Task<Stream> OpenImageStreamAsync(string path)\n",
    "{\n",
    "\treturn await Task.Run(() => File.OpenRead(path));\n",
    "}\n",
    "\n",
    "var pdfStream = await OpenImageStreamAsync(pdfPath);"
   ]
  },
  {
   "cell_type": "code",
   "execution_count": 13,
   "id": "0b6bf484",
   "metadata": {
    "language_info": {
     "name": "polyglot-notebook"
    },
    "polyglot_notebook": {
     "kernelName": "csharp"
    }
   },
   "outputs": [],
   "source": [
    "var persistentAgentsClient = new PersistentAgentsClient(azure_foundry_endpoint, new AzureCliCredential());"
   ]
  },
  {
   "cell_type": "code",
   "execution_count": 14,
   "id": "81e0dddc",
   "metadata": {
    "language_info": {
     "name": "polyglot-notebook"
    },
    "polyglot_notebook": {
     "kernelName": "csharp"
    }
   },
   "outputs": [],
   "source": [
    "PersistentAgentFileInfo fileInfo = await persistentAgentsClient.Files.UploadFileAsync(pdfStream, PersistentAgentFilePurpose.Agents, \"demo.md\");"
   ]
  },
  {
   "cell_type": "code",
   "execution_count": 15,
   "id": "f0c75d80",
   "metadata": {
    "language_info": {
     "name": "polyglot-notebook"
    },
    "polyglot_notebook": {
     "kernelName": "csharp"
    }
   },
   "outputs": [],
   "source": [
    "PersistentAgentsVectorStore fileStore =\n",
    "            await persistentAgentsClient.VectorStores.CreateVectorStoreAsync(\n",
    "                [fileInfo.Id],\n",
    "                metadata: new Dictionary<string, string>() { { \"agentkey\", bool.TrueString } });"
   ]
  },
  {
   "cell_type": "code",
   "execution_count": 16,
   "id": "c77986c5",
   "metadata": {
    "language_info": {
     "name": "polyglot-notebook"
    },
    "polyglot_notebook": {
     "kernelName": "csharp"
    }
   },
   "outputs": [],
   "source": [
    "PersistentAgent agentModel = await persistentAgentsClient.Administration.CreateAgentAsync(\n",
    "            azure_foundry_model_id,\n",
    "            name: \"DotNetRAGAgent\",\n",
    "            tools: [new FileSearchToolDefinition()],\n",
    "            instructions: \"\"\"\n",
    "                You are an AI assistant designed to answer user questions using only the information retrieved from the provided document(s).\n",
    "\n",
    "                - If a user's question cannot be answered using the retrieved context, **you must clearly respond**: \n",
    "                \"I'm sorry, but the uploaded document does not contain the necessary information to answer that question.\"\n",
    "                - Do not answer from general knowledge or reasoning. Do not make assumptions or generate hypothetical explanations.\n",
    "                - Do not provide definitions, tutorials, or commentary that is not explicitly grounded in the content of the uploaded file(s).\n",
    "                - If a user asks a question like \"What is a Neural Network?\", and this is not discussed in the uploaded document, respond as instructed above.\n",
    "                - For questions that do have relevant content in the document (e.g., Contoso's travel insurance coverage), respond accurately, and cite the document explicitly.\n",
    "\n",
    "                You must behave as if you have no external knowledge beyond what is retrieved from the uploaded document.\n",
    "                \"\"\",\n",
    "            toolResources: new()\n",
    "            {\n",
    "                FileSearch = new()\n",
    "                {\n",
    "                    VectorStoreIds = { fileStore.Id },\n",
    "                }\n",
    "            },\n",
    "            metadata: new Dictionary<string, string>() { { \"agentkey\", bool.TrueString } });"
   ]
  },
  {
   "cell_type": "code",
   "execution_count": 17,
   "id": "282326cf",
   "metadata": {
    "language_info": {
     "name": "polyglot-notebook"
    },
    "polyglot_notebook": {
     "kernelName": "csharp"
    }
   },
   "outputs": [],
   "source": [
    "AIAgent agent = await persistentAgentsClient.GetAIAgentAsync(agentModel.Id);"
   ]
  },
  {
   "cell_type": "code",
   "execution_count": 18,
   "id": "2067d313",
   "metadata": {
    "language_info": {
     "name": "polyglot-notebook"
    },
    "polyglot_notebook": {
     "kernelName": "csharp"
    }
   },
   "outputs": [],
   "source": [
    "AgentThread thread = agent.GetNewThread();"
   ]
  },
  {
   "cell_type": "code",
   "execution_count": 19,
   "id": "454c4230",
   "metadata": {
    "language_info": {
     "name": "polyglot-notebook"
    },
    "polyglot_notebook": {
     "kernelName": "csharp"
    }
   },
   "outputs": [
    {
     "name": "stdout",
     "output_type": "stream",
     "text": [
      "Contoso's travel insurance coverage includes protection for medical emergencies, trip cancellations, and lost baggage. This ensures that travelers are supported in case of health-related issues during their trip, unforeseen cancellations, and the loss of their belongings while traveling【4:0†demo.md】.\r\n"
     ]
    }
   ],
   "source": [
    "Console.WriteLine(await agent.RunAsync(\"Can you explain Contoso's travel insurance coverage?\", thread));"
   ]
  },
  {
   "cell_type": "markdown",
   "metadata": {},
   "source": [
    "\n---\n\n**Ansvarsfraskrivelse**:  \nDette dokument er blevet oversat ved hjælp af AI-oversættelsestjenesten [Co-op Translator](https://github.com/Azure/co-op-translator). Selvom vi bestræber os på nøjagtighed, skal det bemærkes, at automatiserede oversættelser kan indeholde fejl eller unøjagtigheder. Det originale dokument på dets oprindelige sprog bør betragtes som den autoritative kilde. For kritisk information anbefales professionel menneskelig oversættelse. Vi påtager os ikke ansvar for eventuelle misforståelser eller fejltolkninger, der måtte opstå som følge af brugen af denne oversættelse.\n"
   ]
  }
 ],
 "metadata": {
  "kernelspec": {
   "display_name": ".NET (C#)",
   "language": "C#",
   "name": ".net-csharp"
  },
  "language_info": {
   "name": "polyglot-notebook"
  },
  "polyglot_notebook": {
   "kernelInfo": {
    "defaultKernelName": "csharp",
    "items": [
     {
      "aliases": [],
      "name": "csharp"
     }
    ]
   }
  },
  "coopTranslator": {
   "original_hash": "e4584fa31638009dc6fb665275de8fc2",
   "translation_date": "2025-10-02T15:47:48+00:00",
   "source_file": "05-agentic-rag/code_samples/05-dotnet-agent-framework.ipynb",
   "language_code": "da"
  }
 },
 "nbformat": 4,
 "nbformat_minor": 5
}