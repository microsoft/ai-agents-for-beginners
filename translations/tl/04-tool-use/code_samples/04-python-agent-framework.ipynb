{
 "cells": [
  {
   "cell_type": "markdown",
   "id": "8744544f",
   "metadata": {},
   "source": [
    "# 🛠️ Advanced Tool Use with GitHub Models (Python)\n",
    "\n",
    "## 📋 Mga Layunin sa Pag-aaral\n",
    "\n",
    "Ang notebook na ito ay nagpapakita ng mga advanced na pattern ng integrasyon ng tool gamit ang Microsoft Agent Framework kasama ang GitHub Models. Matutunan mo kung paano lumikha, mag-manage, at mag-orchestrate ng maraming tool upang makabuo ng mas sopistikadong kakayahan para sa mga agent.\n",
    "\n",
    "**Mga Matututunan Mo:**\n",
    "- 🔧 **Multi-Tool Architecture**: Pagbuo ng mga agent na may maraming espesyal na tool\n",
    "- 🎯 **Tool Selection Logic**: Paano pumipili ang mga agent ng tamang tool para sa bawat gawain\n",
    "- 📊 **Data Processing Tools**: Paglikha ng mga tool na humahawak ng iba't ibang uri ng data\n",
    "- 🔗 **Tool Composition**: Pagsasama-sama ng mga tool para sa mas kumplikadong workflow\n",
    "\n",
    "## 🎯 Mga Pangunahing Pattern ng Tool\n",
    "\n",
    "### Mga Prinsipyo sa Disenyo ng Tool\n",
    "- **Single Responsibility**: Ang bawat tool ay may malinaw at nakatuong layunin\n",
    "- **Type Safety**: Malakas na typing para sa maaasahang pag-execute ng tool\n",
    "- **Error Handling**: Maayos na pagharap sa pagkabigo at mga pattern ng pag-recover\n",
    "- **Composability**: Mga tool na mahusay na nagtutulungan\n",
    "\n",
    "### Mga Advanced na Tampok ng Tool\n",
    "- **Context Awareness**: Mga tool na nauunawaan ang konteksto ng usapan\n",
    "- **Data Validation**: Pag-sanitize ng input at pag-validate ng output\n",
    "- **Performance Optimization**: Mahusay na mga pattern ng pag-execute ng tool\n",
    "- **Extensibility**: Madaling pagdagdag ng bagong kakayahan sa tool\n",
    "\n",
    "## 🔧 Teknikal na Arkitektura\n",
    "\n",
    "### Mga Pangunahing Komponent\n",
    "- **Microsoft Agent Framework**: Implementasyon sa Python na may advanced na suporta sa tool\n",
    "- **GitHub Models Integration**: High-performance na access sa language model\n",
    "- **Tool Registry System**: Organisadong pamamahala ng kakayahan ng agent\n",
    "- **Error Recovery Patterns**: Matibay na paghawak sa mga pagkabigo sa pag-execute ng tool\n",
    "\n",
    "### Daloy ng Integrasyon ng Tool\n",
    "```python\n",
    "User Request → Agent Analysis → Tool Selection → Tool Execution → Response Synthesis\n",
    "```\n",
    "\n",
    "## 🛠️ Mga Kategorya ng Tool na Ipinakita\n",
    "\n",
    "### 1. **Mga Tool sa Pagbuo ng Data**\n",
    "- Random na generator ng destinasyon\n",
    "- Tagapagbigay ng impormasyon sa panahon  \n",
    "- Calculator ng gastos sa paglalakbay\n",
    "- Engine para sa rekomendasyon ng aktibidad\n",
    "\n",
    "### 2. **Mga Tool sa Pagproseso**\n",
    "- Pag-format at pag-validate ng teksto\n",
    "- Mga utility para sa pag-transform ng data\n",
    "- Mga function para sa pagsusuri ng nilalaman\n",
    "- Mga tool para sa pagpapahusay ng tugon\n",
    "\n",
    "### 3. **Mga Tool sa Integrasyon**\n",
    "- Mga konektor ng external na API\n",
    "- Mga operasyon sa file system\n",
    "- Mga interface para sa query sa database\n",
    "- Mga utility para sa web scraping\n",
    "\n",
    "## ⚙️ Mga Kinakailangan at Setup\n",
    "\n",
    "\n",
    "**Mga Kinakailangang Dependency:**\n",
    "```bash\n",
    "\n",
    "pip install agent-framework-core -U\n",
    "```\n",
    "\n",
    "**Konfigurasyon ng Environment (.env file):**\n",
    "```env\n",
    "GITHUB_TOKEN=your_github_personal_access_token\n",
    "GITHUB_ENDPOINT=https://models.inference.ai.azure.com\n",
    "GITHUB_MODEL_ID=gpt-4o-mini\n",
    "```\n",
    "\n",
    "**Opsyonal na API:**\n",
    "- API key para sa serbisyo ng panahon (para sa mga tool sa panahon)\n",
    "- Access sa currency conversion API\n",
    "- Mga kredensyal para sa serbisyo ng impormasyon sa paglalakbay\n",
    "\n",
    "## 🎨 Mga Pattern ng Disenyo\n",
    "\n",
    "### Tool Factory Pattern\n",
    "- Sentralisadong paglikha at konfigurasyon ng tool\n",
    "- Konsistent na disenyo ng interface ng tool\n",
    "- Madaling pagrehistro at pagtuklas ng tool\n",
    "\n",
    "### Command Pattern\n",
    "- Nakapaloob na logic para sa pag-execute ng tool\n",
    "- Undo/redo functionality para sa mas kumplikadong operasyon\n",
    "- Audit logging para sa paggamit ng tool\n",
    "\n",
    "### Observer Pattern\n",
    "- Pagsubaybay sa pag-execute ng tool\n",
    "- Koleksyon ng mga performance metrics\n",
    "- Pag-uulat ng error at alerto\n",
    "\n",
    "## 🚀 Mga Pinakamahusay na Kasanayan\n",
    "\n",
    "- **Dokumentasyon ng Tool**: Malinaw na mga deskripsyon para sa pag-unawa ng agent\n",
    "- **Input Validation**: Matibay na pag-check at pag-sanitize ng parameter\n",
    "- **Output Formatting**: Konsistent at parseable na mga tugon ng tool\n",
    "- **Mga Mensahe ng Error**: Kapaki-pakinabang na impormasyon sa error para sa debugging\n",
    "- **Performance**: Na-optimize na pag-execute ng tool para sa mabilis na tugon\n",
    "\n",
    "Handa ka na bang bumuo ng mga agent na may makapangyarihang kakayahan sa tool? Gumawa tayo ng kahanga-hanga! ⚡\n"
   ]
  },
  {
   "cell_type": "code",
   "execution_count": null,
   "id": "59c0feeb",
   "metadata": {},
   "outputs": [],
   "source": [
    "! pip install agent-framework-core -U"
   ]
  },
  {
   "cell_type": "code",
   "execution_count": null,
   "id": "c0df8a52",
   "metadata": {},
   "outputs": [],
   "source": [
    "# � Import core dependencies for Agent Framework and tool integration\n",
    "# This sets up the essential libraries for building intelligent agents with tool capabilities\n",
    "\n",
    "import asyncio\n",
    "import os\n",
    "import json\n",
    "\n",
    "from dotenv import load_dotenv  # For loading environment variables securely\n",
    "from random import randint\n",
    "\n",
    "# These are the core components for building tool-enabled agents\n",
    "from agent_framework import ChatAgent           # Main agent class\n",
    "from agent_framework.openai import OpenAIChatClient  # OpenAI-compatible client"
   ]
  },
  {
   "cell_type": "code",
   "execution_count": null,
   "id": "24c10eb0",
   "metadata": {},
   "outputs": [],
   "source": [
    "load_dotenv()"
   ]
  },
  {
   "cell_type": "code",
   "execution_count": null,
   "id": "151e0314",
   "metadata": {},
   "outputs": [],
   "source": [
    "# 🔑 Environment variables verification\n",
    "# Ensure all required GitHub Models credentials are properly configured\n",
    "print(\"GITHUB_ENDPOINT:\", os.environ.get(\"GITHUB_ENDPOINT\"))\n",
    "print(\"GITHUB_TOKEN:\", \"***\" if os.environ.get(\"GITHUB_TOKEN\") else \"Not set\")\n",
    "print(\"GITHUB_MODEL_ID:\", os.environ.get(\"GITHUB_MODEL_ID\"))"
   ]
  },
  {
   "cell_type": "code",
   "execution_count": null,
   "id": "a6141584",
   "metadata": {},
   "outputs": [],
   "source": [
    "# 🧪 Test GitHub Models connectivity\n",
    "openai_chat_client = OpenAIChatClient(base_url=os.environ.get(\"GITHUB_ENDPOINT\"), api_key=os.environ.get(\"GITHUB_TOKEN\"), model_id=os.environ.get(\"GITHUB_MODEL_ID\"))"
   ]
  },
  {
   "cell_type": "code",
   "execution_count": null,
   "id": "a6507f83",
   "metadata": {},
   "outputs": [],
   "source": [
    "# 🛠️ Define travel planning tools for agent integration\n",
    "# These functions provide specific capabilities that the agent can invoke dynamically\n",
    "\n",
    "def get_random_destination() -> str:\n",
    "    \"\"\"\n",
    "    🎲 Random destination generator tool\n",
    "    Returns a randomly selected travel destination from curated list\n",
    "    Useful when customers need inspiration for their next vacation\n",
    "    \"\"\"\n",
    "    destinations = [\n",
    "        \"Paris, France\",\n",
    "        \"Tokyo, Japan\", \n",
    "        \"New York City, USA\",\n",
    "        \"London, England\",\n",
    "        \"Rome, Italy\",\n",
    "        \"Sydney, Australia\",\n",
    "        \"Dubai, UAE\",\n",
    "        \"Barcelona, Spain\",\n",
    "        \"Bangkok, Thailand\",\n",
    "        \"Amsterdam, Netherlands\",\n",
    "        \"Istanbul, Turkey\",\n",
    "        \"Prague, Czech Republic\",\n",
    "        \"Santorini, Greece\",\n",
    "        \"Reykjavik, Iceland\",\n",
    "        \"Marrakech, Morocco\",\n",
    "        \"Cape Town, South Africa\",\n",
    "        \"Rio de Janeiro, Brazil\",\n",
    "        \"Bali, Indonesia\"\n",
    "    ]\n",
    "    # 🎯 Return random selection from the curated destination list\n",
    "    return destinations[randint(0, len(destinations) - 1)]"
   ]
  },
  {
   "cell_type": "code",
   "execution_count": null,
   "id": "5d4f0568",
   "metadata": {},
   "outputs": [],
   "source": [
    "# 🔗 Initialize GitHub Models chat client for agent communication\n",
    "# Creates the primary interface between the agent and the language model\n",
    "openai_chat_client = OpenAIChatClient(base_url=os.environ.get(\"GITHUB_ENDPOINT\"), api_key=os.environ.get(\"GITHUB_TOKEN\"), model_id=os.environ.get(\"GITHUB_MODEL_ID\"))"
   ]
  },
  {
   "cell_type": "code",
   "execution_count": null,
   "id": "751668c5",
   "metadata": {},
   "outputs": [],
   "source": [
    "# 🤖 Configure travel agent identity and behavioral instructions\n",
    "# Define the agent's personality, capabilities, and operational guidelines\n",
    "\n",
    "AGENT_NAME = \"TravelAgent\"\n",
    "\n",
    "AGENT_INSTRUCTIONS = \"\"\"You are a helpful AI Agent that can help plan vacations for customers at random destinations\n",
    "\"\"\""
   ]
  },
  {
   "cell_type": "code",
   "execution_count": null,
   "id": "be18ac4f",
   "metadata": {},
   "outputs": [],
   "source": [
    "agent = ChatAgent(\n",
    "        name = AGENT_NAME,\n",
    "        chat_client=openai_chat_client,\n",
    "        instructions=AGENT_INSTRUCTIONS,\n",
    "        tools=[get_random_destination]\n",
    ")"
   ]
  },
  {
   "cell_type": "code",
   "execution_count": null,
   "id": "772e9481",
   "metadata": {},
   "outputs": [],
   "source": [
    "thread = agent.get_new_thread()"
   ]
  },
  {
   "cell_type": "code",
   "execution_count": null,
   "id": "a731b547",
   "metadata": {},
   "outputs": [],
   "source": [
    "response1 = await agent.run(\"Plan me a day trip\",thread= thread)"
   ]
  },
  {
   "cell_type": "code",
   "execution_count": null,
   "id": "7d3fe00a",
   "metadata": {},
   "outputs": [],
   "source": [
    "\n",
    "last_message = response1.messages[-1]\n",
    "text_content = last_message.contents[0].text\n",
    "print(\"Travel plan:\")\n",
    "print(text_content)"
   ]
  },
  {
   "cell_type": "markdown",
   "metadata": {},
   "source": [
    "\n---\n\n**Paunawa**:  \nAng dokumentong ito ay isinalin gamit ang AI translation service na [Co-op Translator](https://github.com/Azure/co-op-translator). Bagama't sinisikap naming maging tumpak, mangyaring tandaan na ang mga awtomatikong pagsasalin ay maaaring maglaman ng mga pagkakamali o hindi pagkakatugma. Ang orihinal na dokumento sa kanyang katutubong wika ang dapat ituring na opisyal na sanggunian. Para sa mahalagang impormasyon, inirerekomenda ang propesyonal na pagsasalin ng tao. Hindi kami mananagot sa anumang hindi pagkakaunawaan o maling interpretasyon na dulot ng paggamit ng pagsasaling ito.\n"
   ]
  }
 ],
 "metadata": {
  "kernelspec": {
   "display_name": "agentenv",
   "language": "python",
   "name": "python3"
  },
  "language_info": {
   "codemirror_mode": {
    "name": "ipython",
    "version": 3
   },
   "file_extension": ".py",
   "mimetype": "text/x-python",
   "name": "python",
   "nbconvert_exporter": "python",
   "pygments_lexer": "ipython3",
   "version": "3.12.10"
  },
  "polyglot_notebook": {
   "kernelInfo": {
    "defaultKernelName": "csharp",
    "items": [
     {
      "aliases": [],
      "name": "csharp"
     }
    ]
   }
  },
  "coopTranslator": {
   "original_hash": "42966ddac53cebaf0ac1ce33b2ee7059",
   "translation_date": "2025-10-02T11:43:09+00:00",
   "source_file": "04-tool-use/code_samples/04-python-agent-framework.ipynb",
   "language_code": "tl"
  }
 },
 "nbformat": 4,
 "nbformat_minor": 5
}