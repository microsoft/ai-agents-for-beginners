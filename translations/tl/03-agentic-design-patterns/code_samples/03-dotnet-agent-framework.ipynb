{
 "cells": [
  {
   "cell_type": "markdown",
   "id": "d6058fa4",
   "metadata": {},
   "source": [
    "# 🎨 Mga Pattern ng Disenyo para sa Agentic gamit ang GitHub Models (.NET)\n",
    "\n",
    "## 📋 Mga Layunin sa Pag-aaral\n",
    "\n",
    "Ipinapakita ng notebook na ito ang mga disenyo ng pattern na pang-enterprise para sa pagbuo ng mga intelligent na ahente gamit ang Microsoft Agent Framework sa .NET na may integrasyon sa GitHub Models. Matutunan mo ang mga propesyonal na pattern at mga disenyong arkitektura na ginagawang handa para sa produksyon, madaling mapanatili, at scalable ang mga ahente.\n",
    "\n",
    "**Mga Pattern ng Disenyo para sa Enterprise:**\n",
    "- 🏭 **Factory Pattern**: Standardisadong paglikha ng ahente gamit ang dependency injection\n",
    "- 🔧 **Builder Pattern**: Fluent na pag-configure at pag-setup ng ahente\n",
    "- 🧵 **Thread-Safe Patterns**: Pamamahala ng sabay-sabay na pag-uusap\n",
    "- 📋 **Repository Pattern**: Organisadong pamamahala ng tool at kakayahan\n",
    "\n",
    "## 🎯 Mga Benepisyo ng Arkitektura sa .NET\n",
    "\n",
    "### Mga Tampok para sa Enterprise\n",
    "- **Strong Typing**: Pag-validate sa compile-time at suporta sa IntelliSense\n",
    "- **Dependency Injection**: Built-in na integrasyon ng DI container\n",
    "- **Configuration Management**: IConfiguration at Options patterns\n",
    "- **Async/Await**: Suporta sa asynchronous programming bilang pangunahing tampok\n",
    "\n",
    "### Mga Pattern na Handa para sa Produksyon\n",
    "- **Logging Integration**: Suporta sa ILogger at structured logging\n",
    "- **Health Checks**: Built-in na monitoring at diagnostics\n",
    "- **Configuration Validation**: Strong typing gamit ang data annotations\n",
    "- **Error Handling**: Structured na pamamahala ng exception\n",
    "\n",
    "## 🔧 Arkitektura ng Teknolohiya\n",
    "\n",
    "### Mga Pangunahing Komponent ng .NET\n",
    "- **Microsoft.Extensions.AI**: Unified na abstraksyon para sa AI services\n",
    "- **Microsoft.Agents.AI**: Framework para sa enterprise agent orchestration\n",
    "- **GitHub Models Integration**: Mga pattern para sa high-performance API client\n",
    "- **Configuration System**: Integrasyon ng appsettings.json at environment\n",
    "\n",
    "### Implementasyon ng Pattern ng Disenyo\n",
    "```csharp\n",
    "IServiceCollection → Agent Builder → Configuration → Tool Registry → AI Agent\n",
    "```\n",
    "\n",
    "## 🏗️ Mga Pattern ng Enterprise na Ipinakita\n",
    "\n",
    "### 1. **Creational Patterns**\n",
    "- **Agent Factory**: Sentralisadong paglikha ng ahente na may pare-parehong configuration\n",
    "- **Builder Pattern**: Fluent na API para sa komplikadong configuration ng ahente\n",
    "- **Singleton Pattern**: Pamamahala ng shared resources at configuration\n",
    "- **Dependency Injection**: Loose coupling at testability\n",
    "\n",
    "### 2. **Behavioral Patterns**\n",
    "- **Strategy Pattern**: Mga interchangeable na estratehiya para sa tool execution\n",
    "- **Command Pattern**: Encapsulated na operasyon ng ahente na may undo/redo\n",
    "- **Observer Pattern**: Pamamahala ng lifecycle ng ahente na batay sa event\n",
    "- **Template Method**: Standardisadong workflows para sa execution ng ahente\n",
    "\n",
    "### 3. **Structural Patterns**\n",
    "- **Adapter Pattern**: Layer para sa integrasyon ng GitHub Models API\n",
    "- **Decorator Pattern**: Pagpapahusay ng kakayahan ng ahente\n",
    "- **Facade Pattern**: Pinadaling interface para sa interaksyon ng ahente\n",
    "- **Proxy Pattern**: Lazy loading at caching para sa mas mahusay na performance\n",
    "\n",
    "## ⚙️ Mga Kinakailangan at Setup\n",
    "\n",
    "**Kapaligiran sa Pag-develop:**\n",
    "- .NET 9.0 SDK o mas mataas\n",
    "- Visual Studio 2022 o VS Code na may C# extension\n",
    "- Access sa GitHub Models API\n",
    "\n",
    "**Mga Dependency sa NuGet:**\n",
    "```xml\n",
    "<PackageReference Include=\"Microsoft.Extensions.AI\" Version=\"9.9.0\" />\n",
    "<PackageReference Include=\"Microsoft.Extensions.AI.OpenAI\" Version=\"9.9.0-preview.1.25458.4\" />\n",
    "<PackageReference Include=\"DotNetEnv\" Version=\"3.1.1\" />\n",
    "```\n",
    "\n",
    "**Configuration (.env file):**\n",
    "```env\n",
    "GITHUB_TOKEN=your_github_personal_access_token\n",
    "GITHUB_ENDPOINT=https://models.inference.ai.azure.com\n",
    "GITHUB_MODEL_ID=gpt-4o-mini\n",
    "```\n",
    "\n",
    "## 📚 Mga Prinsipyo ng Disenyo sa .NET\n",
    "\n",
    "### SOLID Principles\n",
    "- **Single Responsibility**: Ang bawat komponent ay may malinaw na layunin\n",
    "- **Open/Closed**: Maaaring palawakin nang hindi binabago\n",
    "- **Liskov Substitution**: Implementasyon ng tool na batay sa interface\n",
    "- **Interface Segregation**: Nakatuon at cohesive na mga interface\n",
    "- **Dependency Inversion**: Umaasa sa mga abstraksyon, hindi sa mga konkretong bagay\n",
    "\n",
    "### Clean Architecture\n",
    "- **Domain Layer**: Mga pangunahing abstraksyon para sa ahente at tool\n",
    "- **Application Layer**: Orkestrasyon ng ahente at workflows\n",
    "- **Infrastructure Layer**: Integrasyon ng GitHub Models at mga panlabas na serbisyo\n",
    "- **Presentation Layer**: Interaksyon ng user at pag-format ng tugon\n",
    "\n",
    "## 🔒 Mga Pagsasaalang-alang para sa Enterprise\n",
    "\n",
    "### Seguridad\n",
    "- **Credential Management**: Secure na paghawak ng API key gamit ang IConfiguration\n",
    "- **Input Validation**: Strong typing at data annotation validation\n",
    "- **Output Sanitization**: Secure na pagproseso at pag-filter ng tugon\n",
    "- **Audit Logging**: Komprehensibong pagsubaybay sa operasyon\n",
    "\n",
    "### Performance\n",
    "- **Async Patterns**: Non-blocking na I/O operations\n",
    "- **Connection Pooling**: Mahusay na pamamahala ng HTTP client\n",
    "- **Caching**: Pag-cache ng tugon para sa mas mahusay na performance\n",
    "- **Resource Management**: Tamang disposal at cleanup patterns\n",
    "\n",
    "### Scalability\n",
    "- **Thread Safety**: Suporta sa sabay-sabay na execution ng ahente\n",
    "- **Resource Pooling**: Mahusay na paggamit ng resources\n",
    "- **Load Management**: Rate limiting at backpressure handling\n",
    "- **Monitoring**: Mga performance metrics at health checks\n",
    "\n",
    "## 🚀 Deployment para sa Produksyon\n",
    "\n",
    "- **Configuration Management**: Mga setting na partikular sa environment\n",
    "- **Logging Strategy**: Structured logging na may correlation IDs\n",
    "- **Error Handling**: Global exception handling na may tamang recovery\n",
    "- **Monitoring**: Application insights at performance counters\n",
    "- **Testing**: Mga unit test, integration test, at load testing patterns\n",
    "\n",
    "Handa ka na bang bumuo ng mga intelligent na ahente na pang-enterprise gamit ang .NET? Mag-arkitektura tayo ng isang bagay na matibay! 🏢✨\n"
   ]
  },
  {
   "cell_type": "code",
   "execution_count": 1,
   "id": "2770ac5c",
   "metadata": {
    "language_info": {
     "name": "polyglot-notebook"
    },
    "polyglot_notebook": {
     "kernelName": "csharp"
    }
   },
   "outputs": [
    {
     "data": {
      "text/html": [
       "<div><div></div><div></div><div><strong>Installed Packages</strong><ul><li><span>Microsoft.Extensions.AI, 9.9.1</span></li></ul></div></div>"
      ]
     },
     "metadata": {},
     "output_type": "display_data"
    }
   ],
   "source": [
    "#r \"nuget: Microsoft.Extensions.AI, 9.9.1\""
   ]
  },
  {
   "cell_type": "code",
   "execution_count": null,
   "id": "984ff6cd",
   "metadata": {
    "language_info": {
     "name": "polyglot-notebook"
    },
    "polyglot_notebook": {
     "kernelName": "csharp"
    }
   },
   "outputs": [
    {
     "data": {
      "text/html": [
       "<div><div></div><div></div><div><strong>Installed Packages</strong><ul><li><span>Microsoft.Agents.AI.OpenAI, 1.0.0-preview.251001.2</span></li></ul></div></div>"
      ]
     },
     "metadata": {},
     "output_type": "display_data"
    }
   ],
   "source": [
    "#r \"nuget: Microsoft.Agents.AI.OpenAI, 1.0.0-preview.251001.3\""
   ]
  },
  {
   "cell_type": "code",
   "execution_count": null,
   "id": "0ab71360",
   "metadata": {
    "language_info": {
     "name": "polyglot-notebook"
    },
    "polyglot_notebook": {
     "kernelName": "csharp"
    }
   },
   "outputs": [
    {
     "data": {
      "text/html": [
       "<div><div></div><div></div><div><strong>Installed Packages</strong><ul><li><span>microsoft.agents.ai, 1.0.0-preview.251001.2</span></li></ul></div></div>"
      ]
     },
     "metadata": {},
     "output_type": "display_data"
    }
   ],
   "source": [
    "\n",
    "\n",
    "#r \"nuget: Microsoft.Agents.AI, 1.0.0-preview.251001.3\""
   ]
  },
  {
   "cell_type": "code",
   "execution_count": 4,
   "id": "4ab7b15d",
   "metadata": {
    "language_info": {
     "name": "polyglot-notebook"
    },
    "polyglot_notebook": {
     "kernelName": "csharp"
    }
   },
   "outputs": [],
   "source": [
    "// #r \"nuget: Microsoft.Extensions.AI.OpenAI, 9.9.0-preview.1.25458.4\""
   ]
  },
  {
   "cell_type": "code",
   "execution_count": 5,
   "id": "3fa8aa21",
   "metadata": {
    "language_info": {
     "name": "polyglot-notebook"
    },
    "polyglot_notebook": {
     "kernelName": "csharp"
    }
   },
   "outputs": [
    {
     "data": {
      "text/html": [
       "<div><div></div><div></div><div><strong>Installed Packages</strong><ul><li><span>DotNetEnv, 3.1.1</span></li></ul></div></div>"
      ]
     },
     "metadata": {},
     "output_type": "display_data"
    }
   ],
   "source": [
    "#r \"nuget: DotNetEnv, 3.1.1\""
   ]
  },
  {
   "cell_type": "code",
   "execution_count": 6,
   "id": "fc8ee8ea",
   "metadata": {
    "language_info": {
     "name": "polyglot-notebook"
    },
    "polyglot_notebook": {
     "kernelName": "csharp"
    }
   },
   "outputs": [],
   "source": [
    "using System;\n",
    "using System.ComponentModel;\n",
    "using System.ClientModel;\n",
    "\n",
    "using Microsoft.Extensions.AI;\n",
    "using Microsoft.Agents.AI;\n",
    "using OpenAI;"
   ]
  },
  {
   "cell_type": "code",
   "execution_count": 7,
   "id": "699b1c83",
   "metadata": {
    "language_info": {
     "name": "polyglot-notebook"
    },
    "polyglot_notebook": {
     "kernelName": "csharp"
    }
   },
   "outputs": [],
   "source": [
    " using DotNetEnv;"
   ]
  },
  {
   "cell_type": "code",
   "execution_count": 8,
   "id": "daa649a0",
   "metadata": {
    "language_info": {
     "name": "polyglot-notebook"
    },
    "polyglot_notebook": {
     "kernelName": "csharp"
    }
   },
   "outputs": [],
   "source": [
    "Env.Load(\"../../../.env\");"
   ]
  },
  {
   "cell_type": "code",
   "execution_count": 9,
   "id": "29661a90",
   "metadata": {
    "language_info": {
     "name": "polyglot-notebook"
    },
    "polyglot_notebook": {
     "kernelName": "csharp"
    }
   },
   "outputs": [],
   "source": [
    "[Description(\"Provides a random vacation destination.\")]\n",
    "static string GetRandomDestination()\n",
    "{\n",
    "    var destinations = new List<string>\n",
    "    {\n",
    "        \"Paris, France\",\n",
    "        \"Tokyo, Japan\",\n",
    "        \"New York City, USA\",\n",
    "        \"Sydney, Australia\",\n",
    "        \"Rome, Italy\",\n",
    "        \"Barcelona, Spain\",\n",
    "        \"Cape Town, South Africa\",\n",
    "        \"Rio de Janeiro, Brazil\",\n",
    "        \"Bangkok, Thailand\",\n",
    "        \"Vancouver, Canada\"\n",
    "    };\n",
    "\n",
    "    var random = new Random();\n",
    "    int index = random.Next(destinations.Count);\n",
    "    return destinations[index];\n",
    "}"
   ]
  },
  {
   "cell_type": "code",
   "execution_count": 10,
   "id": "d2ed1f8b",
   "metadata": {
    "language_info": {
     "name": "polyglot-notebook"
    },
    "polyglot_notebook": {
     "kernelName": "csharp"
    }
   },
   "outputs": [],
   "source": [
    "var github_endpoint = Environment.GetEnvironmentVariable(\"GITHUB_ENDPOINT\") ?? throw new InvalidOperationException(\"GITHUB_ENDPOINT is not set.\");\n",
    "var github_model_id = Environment.GetEnvironmentVariable(\"GITHUB_MODEL_ID\") ?? \"gpt-4o-mini\";\n",
    "var github_token = Environment.GetEnvironmentVariable(\"GITHUB_TOKEN\") ?? throw new InvalidOperationException(\"GITHUB_TOKEN is not set.\");"
   ]
  },
  {
   "cell_type": "code",
   "execution_count": 11,
   "id": "c36c73e1",
   "metadata": {
    "language_info": {
     "name": "polyglot-notebook"
    },
    "polyglot_notebook": {
     "kernelName": "csharp"
    }
   },
   "outputs": [],
   "source": [
    "var openAIOptions = new OpenAIClientOptions()\n",
    "{\n",
    "    Endpoint= new Uri(github_endpoint)\n",
    "};"
   ]
  },
  {
   "cell_type": "code",
   "execution_count": 12,
   "id": "6d94ff10",
   "metadata": {
    "language_info": {
     "name": "polyglot-notebook"
    },
    "polyglot_notebook": {
     "kernelName": "csharp"
    }
   },
   "outputs": [],
   "source": [
    "\n",
    "var openAIClient = new OpenAIClient(new ApiKeyCredential(github_token), openAIOptions);"
   ]
  },
  {
   "cell_type": "code",
   "execution_count": 13,
   "id": "fe32b57a",
   "metadata": {
    "language_info": {
     "name": "polyglot-notebook"
    },
    "polyglot_notebook": {
     "kernelName": "csharp"
    }
   },
   "outputs": [],
   "source": [
    "AIAgent agent = new OpenAIClient(new ApiKeyCredential(github_token), openAIOptions).GetChatClient(github_model_id).CreateAIAgent(\n",
    "    instructions:\"You are a helpful AI Agent that can help plan vacations for customers at random destinations\", tools: [AIFunctionFactory.Create((Func<string>)GetRandomDestination)]);"
   ]
  },
  {
   "cell_type": "code",
   "execution_count": 14,
   "metadata": {
    "language_info": {
     "name": "polyglot-notebook"
    },
    "polyglot_notebook": {
     "kernelName": "csharp"
    }
   },
   "outputs": [],
   "source": [
    "AgentThread thread = agent.GetNewThread();"
   ]
  },
  {
   "cell_type": "code",
   "execution_count": 15,
   "id": "5e455aff",
   "metadata": {
    "language_info": {
     "name": "polyglot-notebook"
    },
    "polyglot_notebook": {
     "kernelName": "csharp"
    }
   },
   "outputs": [
    {
     "name": "stdout",
     "output_type": "stream",
     "text": [
      "How about a day trip to Vancouver, Canada? Here's a suggested itinerary for your day:\n",
      "\n",
      "### Morning\n",
      "- **Breakfast at a Local Cafe**: Start your day with a delicious breakfast at a cozy café like **Jam Cafe** or **Cafe Medina**.\n",
      "- **Stanley Park**: After breakfast, head to Stanley Park. You can rent a bike and ride along the seawall, enjoying beautiful views of the city and the water.\n",
      "\n",
      "### Afternoon\n",
      "- **Lunch in Gastown**: Make your way to Gastown for lunch. Try a local favorite like **The Flying Pig** or **Noodle Box**.\n",
      "- **Explore Gastown**: After lunch, walk around Gastown to see the iconic Steam Clock and browse the unique shops and boutiques.\n",
      "\n",
      "### Late Afternoon\n",
      "- **Granville Island**: Visit Granville Island, where you can stroll through the public market, sample local foods, and enjoy artisan shops.\n",
      "- **False Creek**: Take a walk along False Creek and enjoy the waterfront views.\n",
      "\n",
      "### Evening\n",
      "- **Dinner at a Waterfront Restaurant**: End your day with dinner at a waterfront restaurant like **The Boathouse** or **Lift Bar Grill View** for great food and a view of the sunset.\n",
      "- **Optional: Sunset Cruise**: If you're up for it, consider taking a sunset cruise for a different perspective of the city.\n",
      "\n",
      "### Tips\n",
      "- Make sure to check the weather beforehand!\n",
      "- Consider public transport or ride-sharing to navigate the city easily.\n",
      "\n",
      "Enjoy your day trip to Vancouver!\r\n"
     ]
    }
   ],
   "source": [
    "Console.WriteLine(await agent.RunAsync(\"Plan me a day trip\",thread));"
   ]
  },
  {
   "cell_type": "code",
   "execution_count": 16,
   "id": "592ae1bb",
   "metadata": {
    "language_info": {
     "name": "polyglot-notebook"
    },
    "polyglot_notebook": {
     "kernelName": "csharp"
    }
   },
   "outputs": [
    {
     "name": "stdout",
     "output_type": "stream",
     "text": [
      "How about a vacation to New York City, USA? Here's a suggested itinerary for your trip:\n",
      "\n",
      "### Day 1: Arrival in New York City\n",
      "- **Check-In**: Arrive and check in to your hotel.\n",
      "- **Central Park**: Take a leisurely stroll through Central Park. Consider renting a bike or taking a carriage ride.\n",
      "- **Evening**: Enjoy dinner at a classic NYC restaurant, such as **Katz's Delicatessen** or **Carbone**.\n",
      "\n",
      "### Day 2: Iconic Landmarks\n",
      "- **Morning**: Breakfast at a local diner.\n",
      "- **Statue of Liberty & Ellis Island**: Take a ferry to visit these iconic landmarks.\n",
      "- **Afternoon**: Explore Wall Street and visit the 9/11 Memorial & Museum.\n",
      "- **Evening**: Dinner in the Financial District followed by a walk across the Brooklyn Bridge at sunset.\n",
      "\n",
      "### Day 3: Culture and Arts\n",
      "- **Morning**: Visit The Metropolitan Museum of Art (The Met) and spend a few hours exploring its vast collection.\n",
      "- **Afternoon**: Head to Times Square for lunch and the buzz of the city.\n",
      "- **Broadway Show**: Catch a Broadway show in the evening. Be sure to book tickets in advance!\n",
      "\n",
      "### Day 4: Explore Neighborhoods\n",
      "- **Morning**: Head to SoHo for brunch and shopping in its chic boutiques.\n",
      "- **Afternoon**: Explore Greenwich Village, known for its bohemian atmosphere and history.\n",
      "- **Evening**: Enjoy dinner in the West Village, perhaps at **Buvette** or **Minetta Tavern**.\n",
      "\n",
      "### Day 5: Departure\n",
      "- **Last-minute Shopping**: Spend your last morning shopping at Fifth Avenue or head to Chelsea Market for food and souvenirs.\n",
      "- **Check-Out**: Depart for your journey home.\n",
      "\n",
      "### Tips\n",
      "- Utilize the subway for efficient travel around the city.\n",
      "- Make reservations for popular restaurants and attractions ahead of time!\n",
      "\n",
      "Enjoy your trip to New York City!\r\n"
     ]
    }
   ],
   "source": [
    "Console.WriteLine(await agent.RunAsync(\"I don't like that destination. Plan me another vacation.\",thread));"
   ]
  },
  {
   "cell_type": "markdown",
   "metadata": {},
   "source": [
    "\n---\n\n**Paunawa**:  \nAng dokumentong ito ay isinalin gamit ang AI translation service na [Co-op Translator](https://github.com/Azure/co-op-translator). Bagama't sinisikap naming maging tumpak, pakitandaan na ang mga awtomatikong pagsasalin ay maaaring maglaman ng mga pagkakamali o hindi pagkakatugma. Ang orihinal na dokumento sa kanyang katutubong wika ang dapat ituring na opisyal na sanggunian. Para sa mahalagang impormasyon, inirerekomenda ang propesyonal na pagsasalin ng tao. Hindi kami mananagot sa anumang hindi pagkakaunawaan o maling interpretasyon na dulot ng paggamit ng pagsasaling ito.\n"
   ]
  }
 ],
 "metadata": {
  "kernelspec": {
   "display_name": ".NET (C#)",
   "language": "C#",
   "name": ".net-csharp"
  },
  "language_info": {
   "name": "polyglot-notebook"
  },
  "polyglot_notebook": {
   "kernelInfo": {
    "defaultKernelName": "csharp",
    "items": [
     {
      "aliases": [],
      "name": "csharp"
     }
    ]
   }
  },
  "coopTranslator": {
   "original_hash": "070c1d8985b3dc6e6d977f3e891037f1",
   "translation_date": "2025-10-02T11:51:07+00:00",
   "source_file": "03-agentic-design-patterns/code_samples/03-dotnet-agent-framework.ipynb",
   "language_code": "tl"
  }
 },
 "nbformat": 4,
 "nbformat_minor": 5
}