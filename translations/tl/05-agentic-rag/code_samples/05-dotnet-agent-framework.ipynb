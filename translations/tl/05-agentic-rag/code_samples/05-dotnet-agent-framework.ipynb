{
 "cells": [
  {
   "cell_type": "markdown",
   "id": "44b5899e",
   "metadata": {},
   "source": [
    "# 🔍 Enterprise RAG gamit ang Azure AI Foundry (.NET)\n",
    "\n",
    "## 📋 Mga Layunin sa Pag-aaral\n",
    "\n",
    "Ang notebook na ito ay nagpapakita kung paano bumuo ng mga enterprise-grade Retrieval-Augmented Generation (RAG) systems gamit ang Microsoft Agent Framework sa .NET kasama ang Azure AI Foundry. Matutunan mong lumikha ng mga production-ready agents na maaaring maghanap sa mga dokumento at magbigay ng tumpak, context-aware na mga sagot na may enterprise security at scalability.\n",
    "\n",
    "**Mga Kakayahan ng Enterprise RAG na Iyong Mabubuo:**\n",
    "- 📚 **Intelligence ng Dokumento**: Advanced na pagproseso ng dokumento gamit ang Azure AI services\n",
    "- 🔍 **Semantic Search**: Mataas na performance na vector search na may enterprise features\n",
    "- 🛡️ **Integrasyon ng Seguridad**: Role-based access at mga pattern ng proteksyon ng data\n",
    "- 🏢 **Scalable Architecture**: Production-ready RAG systems na may monitoring\n",
    "\n",
    "## 🎯 Arkitektura ng Enterprise RAG\n",
    "\n",
    "### Mga Pangunahing Komponent ng Enterprise\n",
    "- **Azure AI Foundry**: Managed enterprise AI platform na may seguridad at pagsunod\n",
    "- **Persistent Agents**: Mga stateful agents na may kasaysayan ng pag-uusap at pamamahala ng konteksto\n",
    "- **Vector Store Management**: Enterprise-grade na pag-index at retrieval ng dokumento\n",
    "- **Identity Integration**: Azure AD authentication at role-based access control\n",
    "\n",
    "### Mga Benepisyo ng .NET para sa Enterprise\n",
    "- **Type Safety**: Compile-time validation para sa mga operasyon ng RAG at mga istruktura ng data\n",
    "- **Async Performance**: Non-blocking na pagproseso ng dokumento at mga operasyon sa paghahanap\n",
    "- **Memory Management**: Mahusay na paggamit ng resources para sa malalaking koleksyon ng dokumento\n",
    "- **Integration Patterns**: Native na integrasyon ng Azure service gamit ang dependency injection\n",
    "\n",
    "## 🏗️ Teknikal na Arkitektura\n",
    "\n",
    "### Pipeline ng Enterprise RAG\n",
    "```csharp\n",
    "Document Upload → Security Validation → Vector Processing → Index Creation\n",
    "                      ↓                    ↓                  ↓\n",
    "User Query → Authentication → Semantic Search → Context Ranking → AI Response\n",
    "```\n",
    "\n",
    "### Mga Pangunahing Komponent ng .NET\n",
    "- **Azure.AI.Agents.Persistent**: Pamamahala ng enterprise agent na may state persistence\n",
    "- **Azure.Identity**: Integrated authentication para sa secure na access sa Azure services\n",
    "- **Microsoft.Agents.AI.AzureAI**: Azure-optimized na implementasyon ng agent framework\n",
    "- **System.Linq.Async**: Mataas na performance na asynchronous LINQ operations\n",
    "\n",
    "## 🔧 Mga Tampok at Benepisyo ng Enterprise\n",
    "\n",
    "### Seguridad at Pagsunod\n",
    "- **Integrasyon ng Azure AD**: Pamamahala ng enterprise identity at authentication\n",
    "- **Role-Based Access**: Fine-grained na mga pahintulot para sa access sa dokumento at mga operasyon\n",
    "- **Proteksyon ng Data**: Encryption sa pahinga at sa transit para sa mga sensitibong dokumento\n",
    "- **Audit Logging**: Komprehensibong pagsubaybay sa aktibidad para sa mga kinakailangan sa pagsunod\n",
    "\n",
    "### Performance at Scalability\n",
    "- **Connection Pooling**: Mahusay na pamamahala ng koneksyon sa Azure services\n",
    "- **Async Processing**: Non-blocking na mga operasyon para sa high-throughput na mga senaryo\n",
    "- **Caching Strategies**: Matalinong caching para sa madalas na ina-access na mga dokumento\n",
    "- **Load Balancing**: Distributed processing para sa malakihang deployment\n",
    "\n",
    "### Pamamahala at Monitoring\n",
    "- **Health Checks**: Built-in na monitoring para sa mga komponent ng RAG system\n",
    "- **Performance Metrics**: Detalyadong analytics sa kalidad ng paghahanap at oras ng pagtugon\n",
    "- **Error Handling**: Komprehensibong pamamahala ng exception na may retry policies\n",
    "- **Configuration Management**: Mga setting na partikular sa environment na may validation\n",
    "\n",
    "## ⚙️ Mga Kinakailangan at Setup\n",
    "\n",
    "**Development Environment:**\n",
    "- .NET 9.0 SDK o mas mataas\n",
    "- Visual Studio 2022 o VS Code na may C# extension\n",
    "- Azure subscription na may access sa AI Foundry\n",
    "\n",
    "**Mga Kinakailangang NuGet Packages:**\n",
    "```xml\n",
    "<PackageReference Include=\"Microsoft.Extensions.AI\" Version=\"9.9.0\" />\n",
    "<PackageReference Include=\"Azure.AI.Agents.Persistent\" Version=\"1.2.0-beta.5\" />\n",
    "<PackageReference Include=\"Azure.Identity\" Version=\"1.15.0\" />\n",
    "<PackageReference Include=\"System.Linq.Async\" Version=\"6.0.3\" />\n",
    "<PackageReference Include=\"DotNetEnv\" Version=\"3.1.1\" />\n",
    "```\n",
    "\n",
    "**Setup ng Azure Authentication:**\n",
    "```bash\n",
    "# Install Azure CLI and authenticate\n",
    "az login\n",
    "az account set --subscription \"your-subscription-id\"\n",
    "```\n",
    "\n",
    "**Configuration ng Environment (.env file):**\n",
    "```env\n",
    "# Azure AI Foundry configuration (automatically handled via Azure CLI)\n",
    "# Ensure you're authenticated to the correct Azure subscription\n",
    "```\n",
    "\n",
    "## 📊 Mga Pattern ng Enterprise RAG\n",
    "\n",
    "### Mga Pattern sa Pamamahala ng Dokumento\n",
    "- **Bulk Upload**: Mahusay na pagproseso ng malalaking koleksyon ng dokumento\n",
    "- **Incremental Updates**: Real-time na pagdaragdag at pagbabago ng dokumento\n",
    "- **Version Control**: Pag-version ng dokumento at pagsubaybay sa pagbabago\n",
    "- **Metadata Management**: Mayamang attributes ng dokumento at taxonomy\n",
    "\n",
    "### Mga Pattern sa Paghahanap at Retrieval\n",
    "- **Hybrid Search**: Pagsasama ng semantic at keyword search para sa optimal na resulta\n",
    "- **Faceted Search**: Multi-dimensional na pag-filter at pag-categorize\n",
    "- **Relevance Tuning**: Custom na scoring algorithms para sa mga pangangailangan ng domain\n",
    "- **Result Ranking**: Advanced na ranking na may integrasyon ng business logic\n",
    "\n",
    "### Mga Pattern sa Seguridad\n",
    "- **Document-Level Security**: Fine-grained na access control bawat dokumento\n",
    "- **Data Classification**: Automatic na sensitivity labeling at proteksyon\n",
    "- **Audit Trails**: Komprehensibong pag-log ng lahat ng operasyon ng RAG\n",
    "- **Privacy Protection**: Pagtuklas at pag-redact ng PII\n",
    "\n",
    "## 🔒 Mga Tampok ng Seguridad ng Enterprise\n",
    "\n",
    "### Authentication at Authorization\n",
    "```csharp\n",
    "// Azure AD integrated authentication\n",
    "var credential = new AzureCliCredential();\n",
    "var agentsClient = new PersistentAgentsClient(endpoint, credential);\n",
    "\n",
    "// Role-based access validation\n",
    "if (!await ValidateUserPermissions(user, documentId))\n",
    "{\n",
    "    throw new UnauthorizedAccessException(\"Insufficient permissions\");\n",
    "}\n",
    "```\n",
    "\n",
    "### Proteksyon ng Data\n",
    "- **Encryption**: End-to-end na encryption para sa mga dokumento at search indices\n",
    "- **Access Controls**: Integrasyon sa Azure AD para sa mga pahintulot ng user at grupo\n",
    "- **Data Residency**: Mga kontrol sa lokasyon ng data para sa pagsunod\n",
    "- **Backup at Recovery**: Automated na backup at mga kakayahan sa disaster recovery\n",
    "\n",
    "## 📈 Pag-optimize ng Performance\n",
    "\n",
    "### Mga Pattern sa Async Processing\n",
    "```csharp\n",
    "// Efficient async document processing\n",
    "await foreach (var document in documentStream.AsAsyncEnumerable())\n",
    "{\n",
    "    await ProcessDocumentAsync(document, cancellationToken);\n",
    "}\n",
    "```\n",
    "\n",
    "### Pamamahala ng Memory\n",
    "- **Streaming Processing**: Pagproseso ng malalaking dokumento nang walang isyu sa memory\n",
    "- **Resource Pooling**: Mahusay na paggamit muli ng mga mahal na resources\n",
    "- **Garbage Collection**: Na-optimize na mga pattern ng memory allocation\n",
    "- **Connection Management**: Tamang lifecycle ng koneksyon sa Azure services\n",
    "\n",
    "### Mga Estratehiya sa Caching\n",
    "- **Query Caching**: Cache para sa madalas na isinasagawang paghahanap\n",
    "- **Document Caching**: In-memory caching para sa mga hot documents\n",
    "- **Index Caching**: Na-optimize na vector index caching\n",
    "- **Result Caching**: Matalinong caching ng mga generated na sagot\n",
    "\n",
    "## 📊 Mga Gamit ng Enterprise\n",
    "\n",
    "### Pamamahala ng Kaalaman\n",
    "- **Corporate Wiki**: Matalinong paghahanap sa mga knowledge base ng kumpanya\n",
    "- **Policy at Procedures**: Automated na pagsunod at gabay sa mga pamamaraan\n",
    "- **Training Materials**: Matalinong tulong sa pag-aaral at pag-unlad\n",
    "- **Research Databases**: Mga sistema ng pagsusuri ng akademiko at research paper\n",
    "\n",
    "### Suporta sa Customer\n",
    "- **Support Knowledge Base**: Automated na mga sagot sa serbisyo sa customer\n",
    "- **Product Documentation**: Matalinong retrieval ng impormasyon ng produkto\n",
    "- **Troubleshooting Guides**: Contextual na tulong sa paglutas ng problema\n",
    "- **FAQ Systems**: Dynamic na pagbuo ng FAQ mula sa mga koleksyon ng dokumento\n",
    "\n",
    "### Regulatory Compliance\n",
    "- **Legal Document Analysis**: Intelligence sa kontrata at legal na dokumento\n",
    "- **Compliance Monitoring**: Automated na pagsuri sa pagsunod sa regulasyon\n",
    "- **Risk Assessment**: Pagsusuri ng panganib batay sa dokumento at pag-uulat\n",
    "- **Audit Support**: Matalinong pagdiskubre ng dokumento para sa mga audit\n",
    "\n",
    "## 🚀 Production Deployment\n",
    "\n",
    "### Monitoring at Observability\n",
    "- **Application Insights**: Detalyadong telemetry at monitoring ng performance\n",
    "- **Custom Metrics**: Pagsubaybay at alerting ng mga KPI na partikular sa negosyo\n",
    "- **Distributed Tracing**: End-to-end na pagsubaybay sa request sa mga serbisyo\n",
    "- **Health Dashboards**: Visualization ng real-time na kalusugan ng sistema at performance\n",
    "\n",
    "### Scalability at Reliability\n",
    "- **Auto-Scaling**: Automatic na pag-scale batay sa load at performance metrics\n",
    "- **High Availability**: Multi-region na deployment na may failover capabilities\n",
    "- **Load Testing**: Pagpapatunay ng performance sa ilalim ng enterprise load conditions\n",
    "- **Disaster Recovery**: Automated na mga pamamaraan sa backup at recovery\n",
    "\n",
    "Handa ka na bang bumuo ng mga enterprise-grade RAG systems na kayang magproseso ng sensitibong dokumento sa malakihang sukat? Mag-architect tayo ng matatalinong sistema ng kaalaman para sa enterprise! 🏢📖✨\n"
   ]
  },
  {
   "cell_type": "code",
   "execution_count": 1,
   "metadata": {
    "language_info": {
     "name": "polyglot-notebook"
    },
    "polyglot_notebook": {
     "kernelName": "csharp"
    }
   },
   "outputs": [
    {
     "data": {
      "text/html": [
       "<div><div></div><div></div><div><strong>Installed Packages</strong><ul><li><span>Microsoft.Extensions.AI, 9.9.1</span></li></ul></div></div>"
      ]
     },
     "metadata": {},
     "output_type": "display_data"
    }
   ],
   "source": [
    "#r \"nuget: Microsoft.Extensions.AI, 9.9.1\""
   ]
  },
  {
   "cell_type": "code",
   "execution_count": 2,
   "id": "4ec1f0d1",
   "metadata": {
    "language_info": {
     "name": "polyglot-notebook"
    },
    "polyglot_notebook": {
     "kernelName": "csharp"
    }
   },
   "outputs": [
    {
     "data": {
      "text/html": [
       "<div><div></div><div></div><div><strong>Installed Packages</strong><ul><li><span>Azure.AI.Agents.Persistent, 1.2.0-beta.5</span></li><li><span>Azure.Identity, 1.15.0</span></li><li><span>System.Linq.Async, 6.0.3</span></li></ul></div></div>"
      ]
     },
     "metadata": {},
     "output_type": "display_data"
    }
   ],
   "source": [
    "#r \"nuget: Azure.AI.Agents.Persistent, 1.2.0-beta.5\"\n",
    "#r \"nuget: Azure.Identity, 1.15.0\"\n",
    "#r \"nuget: System.Linq.Async, 6.0.3\""
   ]
  },
  {
   "cell_type": "code",
   "execution_count": 3,
   "id": "2363ae07",
   "metadata": {
    "language_info": {
     "name": "polyglot-notebook"
    },
    "polyglot_notebook": {
     "kernelName": "csharp"
    }
   },
   "outputs": [],
   "source": []
  },
  {
   "cell_type": "code",
   "execution_count": null,
   "id": "d10cec9d",
   "metadata": {
    "language_info": {
     "name": "polyglot-notebook"
    },
    "polyglot_notebook": {
     "kernelName": "csharp"
    }
   },
   "outputs": [
    {
     "data": {
      "text/html": [
       "<div><div></div><div></div><div><strong>Installed Packages</strong><ul><li><span>Microsoft.Agents.AI.AzureAI, 1.0.0-preview.251001.2</span></li></ul></div></div>"
      ]
     },
     "metadata": {},
     "output_type": "display_data"
    }
   ],
   "source": [
    "#r \"nuget: Microsoft.Agents.AI.AzureAI, 1.0.0-preview.251001.3\""
   ]
  },
  {
   "cell_type": "code",
   "execution_count": null,
   "id": "78199d1c",
   "metadata": {
    "language_info": {
     "name": "polyglot-notebook"
    },
    "polyglot_notebook": {
     "kernelName": "csharp"
    }
   },
   "outputs": [
    {
     "data": {
      "text/html": [
       "<div><div></div><div></div><div><strong>Installed Packages</strong><ul><li><span>microsoft.agents.ai, 1.0.0-preview.251001.2</span></li></ul></div></div>"
      ]
     },
     "metadata": {},
     "output_type": "display_data"
    }
   ],
   "source": [
    "#r \"nuget: Microsoft.Agents.AI, 1.0.0-preview.251001.3\""
   ]
  },
  {
   "cell_type": "code",
   "execution_count": 6,
   "id": "7de4684a",
   "metadata": {
    "language_info": {
     "name": "polyglot-notebook"
    },
    "polyglot_notebook": {
     "kernelName": "csharp"
    }
   },
   "outputs": [
    {
     "data": {
      "text/html": [
       "<div><div></div><div></div><div><strong>Installed Packages</strong><ul><li><span>DotNetEnv, 3.1.1</span></li></ul></div></div>"
      ]
     },
     "metadata": {},
     "output_type": "display_data"
    }
   ],
   "source": [
    "#r \"nuget: DotNetEnv, 3.1.1\""
   ]
  },
  {
   "cell_type": "code",
   "execution_count": 7,
   "id": "251efd31",
   "metadata": {
    "language_info": {
     "name": "polyglot-notebook"
    },
    "polyglot_notebook": {
     "kernelName": "csharp"
    }
   },
   "outputs": [],
   "source": [
    "using System;\n",
    "using System.Linq;\n",
    "using Azure.AI.Agents.Persistent;\n",
    "using Azure.Identity;\n",
    "using Microsoft.Agents.AI;"
   ]
  },
  {
   "cell_type": "code",
   "execution_count": 8,
   "id": "a2e342f1",
   "metadata": {
    "language_info": {
     "name": "polyglot-notebook"
    },
    "polyglot_notebook": {
     "kernelName": "csharp"
    }
   },
   "outputs": [],
   "source": [
    " using DotNetEnv;"
   ]
  },
  {
   "cell_type": "code",
   "execution_count": 9,
   "id": "a7a01653",
   "metadata": {
    "language_info": {
     "name": "polyglot-notebook"
    },
    "polyglot_notebook": {
     "kernelName": "csharp"
    }
   },
   "outputs": [],
   "source": [
    "Env.Load(\"../../../.env\");"
   ]
  },
  {
   "cell_type": "code",
   "execution_count": 10,
   "id": "a42735d5",
   "metadata": {
    "language_info": {
     "name": "polyglot-notebook"
    },
    "polyglot_notebook": {
     "kernelName": "csharp"
    }
   },
   "outputs": [],
   "source": [
    "var azure_foundry_endpoint = Environment.GetEnvironmentVariable(\"AZURE_AI_PROJECT_ENDPOINT\") ?? throw new InvalidOperationException(\"AZURE_AI_PROJECT_ENDPOINT is not set.\");\n",
    "var azure_foundry_model_id = Environment.GetEnvironmentVariable(\"AZURE_AI_MODEL_DEPLOYMENT_NAME\") ?? \"gpt-4.1-mini\";"
   ]
  },
  {
   "cell_type": "code",
   "execution_count": 11,
   "id": "e29bdb58",
   "metadata": {
    "language_info": {
     "name": "polyglot-notebook"
    },
    "polyglot_notebook": {
     "kernelName": "csharp"
    }
   },
   "outputs": [],
   "source": [
    "string pdfPath = \"./document.md\";"
   ]
  },
  {
   "cell_type": "code",
   "execution_count": 12,
   "id": "7351e12d",
   "metadata": {
    "language_info": {
     "name": "polyglot-notebook"
    },
    "polyglot_notebook": {
     "kernelName": "csharp"
    }
   },
   "outputs": [],
   "source": [
    "using System.IO;\n",
    "\n",
    "async Task<Stream> OpenImageStreamAsync(string path)\n",
    "{\n",
    "\treturn await Task.Run(() => File.OpenRead(path));\n",
    "}\n",
    "\n",
    "var pdfStream = await OpenImageStreamAsync(pdfPath);"
   ]
  },
  {
   "cell_type": "code",
   "execution_count": 13,
   "id": "0b6bf484",
   "metadata": {
    "language_info": {
     "name": "polyglot-notebook"
    },
    "polyglot_notebook": {
     "kernelName": "csharp"
    }
   },
   "outputs": [],
   "source": [
    "var persistentAgentsClient = new PersistentAgentsClient(azure_foundry_endpoint, new AzureCliCredential());"
   ]
  },
  {
   "cell_type": "code",
   "execution_count": 14,
   "id": "81e0dddc",
   "metadata": {
    "language_info": {
     "name": "polyglot-notebook"
    },
    "polyglot_notebook": {
     "kernelName": "csharp"
    }
   },
   "outputs": [],
   "source": [
    "PersistentAgentFileInfo fileInfo = await persistentAgentsClient.Files.UploadFileAsync(pdfStream, PersistentAgentFilePurpose.Agents, \"demo.md\");"
   ]
  },
  {
   "cell_type": "code",
   "execution_count": 15,
   "id": "f0c75d80",
   "metadata": {
    "language_info": {
     "name": "polyglot-notebook"
    },
    "polyglot_notebook": {
     "kernelName": "csharp"
    }
   },
   "outputs": [],
   "source": [
    "PersistentAgentsVectorStore fileStore =\n",
    "            await persistentAgentsClient.VectorStores.CreateVectorStoreAsync(\n",
    "                [fileInfo.Id],\n",
    "                metadata: new Dictionary<string, string>() { { \"agentkey\", bool.TrueString } });"
   ]
  },
  {
   "cell_type": "code",
   "execution_count": 16,
   "id": "c77986c5",
   "metadata": {
    "language_info": {
     "name": "polyglot-notebook"
    },
    "polyglot_notebook": {
     "kernelName": "csharp"
    }
   },
   "outputs": [],
   "source": [
    "PersistentAgent agentModel = await persistentAgentsClient.Administration.CreateAgentAsync(\n",
    "            azure_foundry_model_id,\n",
    "            name: \"DotNetRAGAgent\",\n",
    "            tools: [new FileSearchToolDefinition()],\n",
    "            instructions: \"\"\"\n",
    "                You are an AI assistant designed to answer user questions using only the information retrieved from the provided document(s).\n",
    "\n",
    "                - If a user's question cannot be answered using the retrieved context, **you must clearly respond**: \n",
    "                \"I'm sorry, but the uploaded document does not contain the necessary information to answer that question.\"\n",
    "                - Do not answer from general knowledge or reasoning. Do not make assumptions or generate hypothetical explanations.\n",
    "                - Do not provide definitions, tutorials, or commentary that is not explicitly grounded in the content of the uploaded file(s).\n",
    "                - If a user asks a question like \"What is a Neural Network?\", and this is not discussed in the uploaded document, respond as instructed above.\n",
    "                - For questions that do have relevant content in the document (e.g., Contoso's travel insurance coverage), respond accurately, and cite the document explicitly.\n",
    "\n",
    "                You must behave as if you have no external knowledge beyond what is retrieved from the uploaded document.\n",
    "                \"\"\",\n",
    "            toolResources: new()\n",
    "            {\n",
    "                FileSearch = new()\n",
    "                {\n",
    "                    VectorStoreIds = { fileStore.Id },\n",
    "                }\n",
    "            },\n",
    "            metadata: new Dictionary<string, string>() { { \"agentkey\", bool.TrueString } });"
   ]
  },
  {
   "cell_type": "code",
   "execution_count": 17,
   "id": "282326cf",
   "metadata": {
    "language_info": {
     "name": "polyglot-notebook"
    },
    "polyglot_notebook": {
     "kernelName": "csharp"
    }
   },
   "outputs": [],
   "source": [
    "AIAgent agent = await persistentAgentsClient.GetAIAgentAsync(agentModel.Id);"
   ]
  },
  {
   "cell_type": "code",
   "execution_count": 18,
   "id": "2067d313",
   "metadata": {
    "language_info": {
     "name": "polyglot-notebook"
    },
    "polyglot_notebook": {
     "kernelName": "csharp"
    }
   },
   "outputs": [],
   "source": [
    "AgentThread thread = agent.GetNewThread();"
   ]
  },
  {
   "cell_type": "code",
   "execution_count": 19,
   "id": "454c4230",
   "metadata": {
    "language_info": {
     "name": "polyglot-notebook"
    },
    "polyglot_notebook": {
     "kernelName": "csharp"
    }
   },
   "outputs": [
    {
     "name": "stdout",
     "output_type": "stream",
     "text": [
      "Contoso's travel insurance coverage includes protection for medical emergencies, trip cancellations, and lost baggage. This ensures that travelers are supported in case of health-related issues during their trip, unforeseen cancellations, and the loss of their belongings while traveling【4:0†demo.md】.\r\n"
     ]
    }
   ],
   "source": [
    "Console.WriteLine(await agent.RunAsync(\"Can you explain Contoso's travel insurance coverage?\", thread));"
   ]
  },
  {
   "cell_type": "markdown",
   "metadata": {},
   "source": [
    "\n---\n\n**Paunawa**:  \nAng dokumentong ito ay isinalin gamit ang AI translation service na [Co-op Translator](https://github.com/Azure/co-op-translator). Bagama't sinisikap naming maging tumpak, pakitandaan na ang mga awtomatikong pagsasalin ay maaaring maglaman ng mga pagkakamali o hindi pagkakatugma. Ang orihinal na dokumento sa kanyang katutubong wika ang dapat ituring na opisyal na sanggunian. Para sa mahalagang impormasyon, inirerekomenda ang propesyonal na pagsasalin ng tao. Hindi kami mananagot sa anumang hindi pagkakaunawaan o maling interpretasyon na dulot ng paggamit ng pagsasaling ito.\n"
   ]
  }
 ],
 "metadata": {
  "kernelspec": {
   "display_name": ".NET (C#)",
   "language": "C#",
   "name": ".net-csharp"
  },
  "language_info": {
   "name": "polyglot-notebook"
  },
  "polyglot_notebook": {
   "kernelInfo": {
    "defaultKernelName": "csharp",
    "items": [
     {
      "aliases": [],
      "name": "csharp"
     }
    ]
   }
  },
  "coopTranslator": {
   "original_hash": "e4584fa31638009dc6fb665275de8fc2",
   "translation_date": "2025-10-02T11:19:51+00:00",
   "source_file": "05-agentic-rag/code_samples/05-dotnet-agent-framework.ipynb",
   "language_code": "tl"
  }
 },
 "nbformat": 4,
 "nbformat_minor": 5
}