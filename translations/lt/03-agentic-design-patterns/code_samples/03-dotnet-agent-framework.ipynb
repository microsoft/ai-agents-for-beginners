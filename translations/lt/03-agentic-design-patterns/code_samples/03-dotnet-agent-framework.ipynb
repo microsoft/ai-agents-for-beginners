{
 "cells": [
  {
   "cell_type": "markdown",
   "id": "d6058fa4",
   "metadata": {},
   "source": [
    "# 🎨 Agentiniai dizaino šablonai su GitHub modeliais (.NET)\n",
    "\n",
    "## 📋 Mokymosi tikslai\n",
    "\n",
    "Šiame užrašų knygelėje pateikiami įmonės lygio dizaino šablonai, skirti kurti intelektualius agentus naudojant Microsoft Agent Framework .NET aplinkoje su GitHub modelių integracija. Sužinosite profesionalius šablonus ir architektūrinius metodus, kurie padaro agentus paruoštus gamybai, lengvai prižiūrimus ir plečiamus.\n",
    "\n",
    "**Įmonės dizaino šablonai:**\n",
    "- 🏭 **Gamyklos šablonas**: Standartizuotas agentų kūrimas su priklausomybių injekcija\n",
    "- 🔧 **Kūrėjo šablonas**: Sklandus agentų konfigūravimas ir nustatymas\n",
    "- 🧵 **Siūlų saugumo šablonai**: Lygiagretus pokalbių valdymas\n",
    "- 📋 **Saugyklos šablonas**: Tvarkingas įrankių ir galimybių valdymas\n",
    "\n",
    "## 🎯 .NET specifiniai architektūriniai privalumai\n",
    "\n",
    "### Įmonės funkcijos\n",
    "- **Stiprus tipavimas**: Kompiliavimo laiko patikra ir IntelliSense palaikymas\n",
    "- **Priklausomybių injekcija**: Integruotas DI konteinerio palaikymas\n",
    "- **Konfigūracijos valdymas**: IConfiguration ir Options šablonai\n",
    "- **Async/Await**: Pirmo lygio asinchroninio programavimo palaikymas\n",
    "\n",
    "### Paruošti gamybai šablonai\n",
    "- **Žurnalų integracija**: ILogger ir struktūrizuoto žurnalų palaikymas\n",
    "- **Sveikatos patikrinimai**: Integruotas stebėjimas ir diagnostika\n",
    "- **Konfigūracijos patikra**: Stiprus tipavimas su duomenų anotacijomis\n",
    "- **Klaidų valdymas**: Struktūrizuotas išimčių valdymas\n",
    "\n",
    "## 🔧 Techninė architektūra\n",
    "\n",
    "### Pagrindiniai .NET komponentai\n",
    "- **Microsoft.Extensions.AI**: Vieningos AI paslaugų abstrakcijos\n",
    "- **Microsoft.Agents.AI**: Įmonės agentų orkestravimo sistema\n",
    "- **GitHub modelių integracija**: Aukštos kokybės API klientų šablonai\n",
    "- **Konfigūracijos sistema**: appsettings.json ir aplinkos integracija\n",
    "\n",
    "### Dizaino šablonų įgyvendinimas\n",
    "```csharp\n",
    "IServiceCollection → Agent Builder → Configuration → Tool Registry → AI Agent\n",
    "```\n",
    "\n",
    "## 🏗️ Demonstruojami įmonės šablonai\n",
    "\n",
    "### 1. **Kūrimo šablonai**\n",
    "- **Agentų gamykla**: Centralizuotas agentų kūrimas su nuoseklia konfigūracija\n",
    "- **Kūrėjo šablonas**: Sklandus API sudėtingų agentų konfigūravimui\n",
    "- **Vieno egzemplioriaus šablonas**: Bendrų išteklių ir konfigūracijos valdymas\n",
    "- **Priklausomybių injekcija**: Laisvas susiejimas ir testavimo galimybės\n",
    "\n",
    "### 2. **Elgsenos šablonai**\n",
    "- **Strategijos šablonas**: Keičiamų įrankių vykdymo strategijos\n",
    "- **Komandos šablonas**: Inkapsuliuotos agentų operacijos su atšaukimo/atstatymo galimybėmis\n",
    "- **Stebėtojo šablonas**: Įvykių pagrindu vykdomas agentų gyvavimo ciklo valdymas\n",
    "- **Šabloninis metodas**: Standartizuoti agentų vykdymo darbo srautai\n",
    "\n",
    "### 3. **Struktūriniai šablonai**\n",
    "- **Adapterio šablonas**: GitHub modelių API integracijos sluoksnis\n",
    "- **Dekoratoriaus šablonas**: Agentų galimybių plėtra\n",
    "- **Fasado šablonas**: Supaprastintos agentų sąveikos sąsajos\n",
    "- **Proxy šablonas**: Lėtas įkrovimas ir talpyklos naudojimas našumui gerinti\n",
    "\n",
    "## ⚙️ Reikalavimai ir nustatymas\n",
    "\n",
    "**Kūrimo aplinka:**\n",
    "- .NET 9.0 SDK ar naujesnė versija\n",
    "- Visual Studio 2022 arba VS Code su C# plėtiniu\n",
    "- GitHub modelių API prieiga\n",
    "\n",
    "**NuGet priklausomybės:**\n",
    "```xml\n",
    "<PackageReference Include=\"Microsoft.Extensions.AI\" Version=\"9.9.0\" />\n",
    "<PackageReference Include=\"Microsoft.Extensions.AI.OpenAI\" Version=\"9.9.0-preview.1.25458.4\" />\n",
    "<PackageReference Include=\"DotNetEnv\" Version=\"3.1.1\" />\n",
    "```\n",
    "\n",
    "**Konfigūracija (.env failas):**\n",
    "```env\n",
    "GITHUB_TOKEN=your_github_personal_access_token\n",
    "GITHUB_ENDPOINT=https://models.inference.ai.azure.com\n",
    "GITHUB_MODEL_ID=gpt-4o-mini\n",
    "```\n",
    "\n",
    "## 📚 .NET dizaino principai\n",
    "\n",
    "### SOLID principai\n",
    "- **Vienos atsakomybės**: Kiekvienas komponentas turi aiškų tikslą\n",
    "- **Atviras/Uždarytas**: Plečiamas be modifikacijų\n",
    "- **Liskovo pakeitimas**: Įrankių įgyvendinimas pagal sąsajas\n",
    "- **Sąsajos atskyrimas**: Koncentruotos, nuoseklios sąsajos\n",
    "- **Priklausomybių inversija**: Priklausomybė nuo abstrakcijų, o ne konkrečių įgyvendinimų\n",
    "\n",
    "### Švari architektūra\n",
    "- **Domeno sluoksnis**: Pagrindinės agentų ir įrankių abstrakcijos\n",
    "- **Programų sluoksnis**: Agentų orkestravimas ir darbo srautai\n",
    "- **Infrastruktūros sluoksnis**: GitHub modelių integracija ir išorinės paslaugos\n",
    "- **Pateikimo sluoksnis**: Vartotojo sąveika ir atsakymų formatavimas\n",
    "\n",
    "## 🔒 Įmonės svarstymai\n",
    "\n",
    "### Saugumas\n",
    "- **Kredencialų valdymas**: Saugus API raktų tvarkymas su IConfiguration\n",
    "- **Įvesties patikra**: Stiprus tipavimas ir duomenų anotacijų patikra\n",
    "- **Išvesties valymas**: Saugus atsakymų apdorojimas ir filtravimas\n",
    "- **Audito žurnalai**: Išsamus operacijų stebėjimas\n",
    "\n",
    "### Našumas\n",
    "- **Asinchroniniai šablonai**: Neužblokuojančios I/O operacijos\n",
    "- **Jungčių telkinys**: Efektyvus HTTP klientų valdymas\n",
    "- **Talpyklos naudojimas**: Atsakymų talpyklos našumui gerinti\n",
    "- **Išteklių valdymas**: Tinkamas išteklių atlaisvinimas ir valymas\n",
    "\n",
    "### Skalavimas\n",
    "- **Siūlų saugumas**: Lygiagretus agentų vykdymo palaikymas\n",
    "- **Išteklių telkinys**: Efektyvus išteklių naudojimas\n",
    "- **Krovos valdymas**: Greičio ribojimas ir spaudimo valdymas\n",
    "- **Stebėjimas**: Našumo metrikos ir sveikatos patikrinimai\n",
    "\n",
    "## 🚀 Gamybos diegimas\n",
    "\n",
    "- **Konfigūracijos valdymas**: Aplinkai specifiniai nustatymai\n",
    "- **Žurnalų strategija**: Struktūrizuoti žurnalai su koreliacijos ID\n",
    "- **Klaidų valdymas**: Globalus išimčių valdymas su tinkamu atkūrimu\n",
    "- **Stebėjimas**: Programų įžvalgos ir našumo skaitikliai\n",
    "- **Testavimas**: Vienetų testai, integracijos testai ir apkrovos testavimo šablonai\n",
    "\n",
    "Pasiruošę kurti įmonės lygio intelektualius agentus su .NET? Sukurkime kažką tvirto! 🏢✨\n"
   ]
  },
  {
   "cell_type": "code",
   "execution_count": 1,
   "id": "2770ac5c",
   "metadata": {
    "language_info": {
     "name": "polyglot-notebook"
    },
    "polyglot_notebook": {
     "kernelName": "csharp"
    }
   },
   "outputs": [
    {
     "data": {
      "text/html": [
       "<div><div></div><div></div><div><strong>Installed Packages</strong><ul><li><span>Microsoft.Extensions.AI, 9.9.1</span></li></ul></div></div>"
      ]
     },
     "metadata": {},
     "output_type": "display_data"
    }
   ],
   "source": [
    "#r \"nuget: Microsoft.Extensions.AI, 9.9.1\""
   ]
  },
  {
   "cell_type": "code",
   "execution_count": null,
   "id": "984ff6cd",
   "metadata": {
    "language_info": {
     "name": "polyglot-notebook"
    },
    "polyglot_notebook": {
     "kernelName": "csharp"
    }
   },
   "outputs": [
    {
     "data": {
      "text/html": [
       "<div><div></div><div></div><div><strong>Installed Packages</strong><ul><li><span>Microsoft.Agents.AI.OpenAI, 1.0.0-preview.251001.2</span></li></ul></div></div>"
      ]
     },
     "metadata": {},
     "output_type": "display_data"
    }
   ],
   "source": [
    "#r \"nuget: Microsoft.Agents.AI.OpenAI, 1.0.0-preview.251001.3\""
   ]
  },
  {
   "cell_type": "code",
   "execution_count": null,
   "id": "0ab71360",
   "metadata": {
    "language_info": {
     "name": "polyglot-notebook"
    },
    "polyglot_notebook": {
     "kernelName": "csharp"
    }
   },
   "outputs": [
    {
     "data": {
      "text/html": [
       "<div><div></div><div></div><div><strong>Installed Packages</strong><ul><li><span>microsoft.agents.ai, 1.0.0-preview.251001.2</span></li></ul></div></div>"
      ]
     },
     "metadata": {},
     "output_type": "display_data"
    }
   ],
   "source": [
    "\n",
    "\n",
    "#r \"nuget: Microsoft.Agents.AI, 1.0.0-preview.251001.3\""
   ]
  },
  {
   "cell_type": "code",
   "execution_count": 4,
   "id": "4ab7b15d",
   "metadata": {
    "language_info": {
     "name": "polyglot-notebook"
    },
    "polyglot_notebook": {
     "kernelName": "csharp"
    }
   },
   "outputs": [],
   "source": [
    "// #r \"nuget: Microsoft.Extensions.AI.OpenAI, 9.9.0-preview.1.25458.4\""
   ]
  },
  {
   "cell_type": "code",
   "execution_count": 5,
   "id": "3fa8aa21",
   "metadata": {
    "language_info": {
     "name": "polyglot-notebook"
    },
    "polyglot_notebook": {
     "kernelName": "csharp"
    }
   },
   "outputs": [
    {
     "data": {
      "text/html": [
       "<div><div></div><div></div><div><strong>Installed Packages</strong><ul><li><span>DotNetEnv, 3.1.1</span></li></ul></div></div>"
      ]
     },
     "metadata": {},
     "output_type": "display_data"
    }
   ],
   "source": [
    "#r \"nuget: DotNetEnv, 3.1.1\""
   ]
  },
  {
   "cell_type": "code",
   "execution_count": 6,
   "id": "fc8ee8ea",
   "metadata": {
    "language_info": {
     "name": "polyglot-notebook"
    },
    "polyglot_notebook": {
     "kernelName": "csharp"
    }
   },
   "outputs": [],
   "source": [
    "using System;\n",
    "using System.ComponentModel;\n",
    "using System.ClientModel;\n",
    "\n",
    "using Microsoft.Extensions.AI;\n",
    "using Microsoft.Agents.AI;\n",
    "using OpenAI;"
   ]
  },
  {
   "cell_type": "code",
   "execution_count": 7,
   "id": "699b1c83",
   "metadata": {
    "language_info": {
     "name": "polyglot-notebook"
    },
    "polyglot_notebook": {
     "kernelName": "csharp"
    }
   },
   "outputs": [],
   "source": [
    " using DotNetEnv;"
   ]
  },
  {
   "cell_type": "code",
   "execution_count": 8,
   "id": "daa649a0",
   "metadata": {
    "language_info": {
     "name": "polyglot-notebook"
    },
    "polyglot_notebook": {
     "kernelName": "csharp"
    }
   },
   "outputs": [],
   "source": [
    "Env.Load(\"../../../.env\");"
   ]
  },
  {
   "cell_type": "code",
   "execution_count": 9,
   "id": "29661a90",
   "metadata": {
    "language_info": {
     "name": "polyglot-notebook"
    },
    "polyglot_notebook": {
     "kernelName": "csharp"
    }
   },
   "outputs": [],
   "source": [
    "[Description(\"Provides a random vacation destination.\")]\n",
    "static string GetRandomDestination()\n",
    "{\n",
    "    var destinations = new List<string>\n",
    "    {\n",
    "        \"Paris, France\",\n",
    "        \"Tokyo, Japan\",\n",
    "        \"New York City, USA\",\n",
    "        \"Sydney, Australia\",\n",
    "        \"Rome, Italy\",\n",
    "        \"Barcelona, Spain\",\n",
    "        \"Cape Town, South Africa\",\n",
    "        \"Rio de Janeiro, Brazil\",\n",
    "        \"Bangkok, Thailand\",\n",
    "        \"Vancouver, Canada\"\n",
    "    };\n",
    "\n",
    "    var random = new Random();\n",
    "    int index = random.Next(destinations.Count);\n",
    "    return destinations[index];\n",
    "}"
   ]
  },
  {
   "cell_type": "code",
   "execution_count": 10,
   "id": "d2ed1f8b",
   "metadata": {
    "language_info": {
     "name": "polyglot-notebook"
    },
    "polyglot_notebook": {
     "kernelName": "csharp"
    }
   },
   "outputs": [],
   "source": [
    "var github_endpoint = Environment.GetEnvironmentVariable(\"GITHUB_ENDPOINT\") ?? throw new InvalidOperationException(\"GITHUB_ENDPOINT is not set.\");\n",
    "var github_model_id = Environment.GetEnvironmentVariable(\"GITHUB_MODEL_ID\") ?? \"gpt-4o-mini\";\n",
    "var github_token = Environment.GetEnvironmentVariable(\"GITHUB_TOKEN\") ?? throw new InvalidOperationException(\"GITHUB_TOKEN is not set.\");"
   ]
  },
  {
   "cell_type": "code",
   "execution_count": 11,
   "id": "c36c73e1",
   "metadata": {
    "language_info": {
     "name": "polyglot-notebook"
    },
    "polyglot_notebook": {
     "kernelName": "csharp"
    }
   },
   "outputs": [],
   "source": [
    "var openAIOptions = new OpenAIClientOptions()\n",
    "{\n",
    "    Endpoint= new Uri(github_endpoint)\n",
    "};"
   ]
  },
  {
   "cell_type": "code",
   "execution_count": 12,
   "id": "6d94ff10",
   "metadata": {
    "language_info": {
     "name": "polyglot-notebook"
    },
    "polyglot_notebook": {
     "kernelName": "csharp"
    }
   },
   "outputs": [],
   "source": [
    "\n",
    "var openAIClient = new OpenAIClient(new ApiKeyCredential(github_token), openAIOptions);"
   ]
  },
  {
   "cell_type": "code",
   "execution_count": 13,
   "id": "fe32b57a",
   "metadata": {
    "language_info": {
     "name": "polyglot-notebook"
    },
    "polyglot_notebook": {
     "kernelName": "csharp"
    }
   },
   "outputs": [],
   "source": [
    "AIAgent agent = new OpenAIClient(new ApiKeyCredential(github_token), openAIOptions).GetChatClient(github_model_id).CreateAIAgent(\n",
    "    instructions:\"You are a helpful AI Agent that can help plan vacations for customers at random destinations\", tools: [AIFunctionFactory.Create((Func<string>)GetRandomDestination)]);"
   ]
  },
  {
   "cell_type": "code",
   "execution_count": 14,
   "metadata": {
    "language_info": {
     "name": "polyglot-notebook"
    },
    "polyglot_notebook": {
     "kernelName": "csharp"
    }
   },
   "outputs": [],
   "source": [
    "AgentThread thread = agent.GetNewThread();"
   ]
  },
  {
   "cell_type": "code",
   "execution_count": 15,
   "id": "5e455aff",
   "metadata": {
    "language_info": {
     "name": "polyglot-notebook"
    },
    "polyglot_notebook": {
     "kernelName": "csharp"
    }
   },
   "outputs": [
    {
     "name": "stdout",
     "output_type": "stream",
     "text": [
      "How about a day trip to Vancouver, Canada? Here's a suggested itinerary for your day:\n",
      "\n",
      "### Morning\n",
      "- **Breakfast at a Local Cafe**: Start your day with a delicious breakfast at a cozy café like **Jam Cafe** or **Cafe Medina**.\n",
      "- **Stanley Park**: After breakfast, head to Stanley Park. You can rent a bike and ride along the seawall, enjoying beautiful views of the city and the water.\n",
      "\n",
      "### Afternoon\n",
      "- **Lunch in Gastown**: Make your way to Gastown for lunch. Try a local favorite like **The Flying Pig** or **Noodle Box**.\n",
      "- **Explore Gastown**: After lunch, walk around Gastown to see the iconic Steam Clock and browse the unique shops and boutiques.\n",
      "\n",
      "### Late Afternoon\n",
      "- **Granville Island**: Visit Granville Island, where you can stroll through the public market, sample local foods, and enjoy artisan shops.\n",
      "- **False Creek**: Take a walk along False Creek and enjoy the waterfront views.\n",
      "\n",
      "### Evening\n",
      "- **Dinner at a Waterfront Restaurant**: End your day with dinner at a waterfront restaurant like **The Boathouse** or **Lift Bar Grill View** for great food and a view of the sunset.\n",
      "- **Optional: Sunset Cruise**: If you're up for it, consider taking a sunset cruise for a different perspective of the city.\n",
      "\n",
      "### Tips\n",
      "- Make sure to check the weather beforehand!\n",
      "- Consider public transport or ride-sharing to navigate the city easily.\n",
      "\n",
      "Enjoy your day trip to Vancouver!\r\n"
     ]
    }
   ],
   "source": [
    "Console.WriteLine(await agent.RunAsync(\"Plan me a day trip\",thread));"
   ]
  },
  {
   "cell_type": "code",
   "execution_count": 16,
   "id": "592ae1bb",
   "metadata": {
    "language_info": {
     "name": "polyglot-notebook"
    },
    "polyglot_notebook": {
     "kernelName": "csharp"
    }
   },
   "outputs": [
    {
     "name": "stdout",
     "output_type": "stream",
     "text": [
      "How about a vacation to New York City, USA? Here's a suggested itinerary for your trip:\n",
      "\n",
      "### Day 1: Arrival in New York City\n",
      "- **Check-In**: Arrive and check in to your hotel.\n",
      "- **Central Park**: Take a leisurely stroll through Central Park. Consider renting a bike or taking a carriage ride.\n",
      "- **Evening**: Enjoy dinner at a classic NYC restaurant, such as **Katz's Delicatessen** or **Carbone**.\n",
      "\n",
      "### Day 2: Iconic Landmarks\n",
      "- **Morning**: Breakfast at a local diner.\n",
      "- **Statue of Liberty & Ellis Island**: Take a ferry to visit these iconic landmarks.\n",
      "- **Afternoon**: Explore Wall Street and visit the 9/11 Memorial & Museum.\n",
      "- **Evening**: Dinner in the Financial District followed by a walk across the Brooklyn Bridge at sunset.\n",
      "\n",
      "### Day 3: Culture and Arts\n",
      "- **Morning**: Visit The Metropolitan Museum of Art (The Met) and spend a few hours exploring its vast collection.\n",
      "- **Afternoon**: Head to Times Square for lunch and the buzz of the city.\n",
      "- **Broadway Show**: Catch a Broadway show in the evening. Be sure to book tickets in advance!\n",
      "\n",
      "### Day 4: Explore Neighborhoods\n",
      "- **Morning**: Head to SoHo for brunch and shopping in its chic boutiques.\n",
      "- **Afternoon**: Explore Greenwich Village, known for its bohemian atmosphere and history.\n",
      "- **Evening**: Enjoy dinner in the West Village, perhaps at **Buvette** or **Minetta Tavern**.\n",
      "\n",
      "### Day 5: Departure\n",
      "- **Last-minute Shopping**: Spend your last morning shopping at Fifth Avenue or head to Chelsea Market for food and souvenirs.\n",
      "- **Check-Out**: Depart for your journey home.\n",
      "\n",
      "### Tips\n",
      "- Utilize the subway for efficient travel around the city.\n",
      "- Make reservations for popular restaurants and attractions ahead of time!\n",
      "\n",
      "Enjoy your trip to New York City!\r\n"
     ]
    }
   ],
   "source": [
    "Console.WriteLine(await agent.RunAsync(\"I don't like that destination. Plan me another vacation.\",thread));"
   ]
  },
  {
   "cell_type": "markdown",
   "metadata": {},
   "source": [
    "\n---\n\n**Atsakomybės atsisakymas**:  \nŠis dokumentas buvo išverstas naudojant AI vertimo paslaugą [Co-op Translator](https://github.com/Azure/co-op-translator). Nors siekiame tikslumo, prašome atkreipti dėmesį, kad automatiniai vertimai gali turėti klaidų ar netikslumų. Originalus dokumentas jo gimtąja kalba turėtų būti laikomas autoritetingu šaltiniu. Kritinei informacijai rekomenduojama profesionali žmogaus vertimo paslauga. Mes neprisiimame atsakomybės už nesusipratimus ar neteisingus interpretavimus, atsiradusius naudojant šį vertimą.\n"
   ]
  }
 ],
 "metadata": {
  "kernelspec": {
   "display_name": ".NET (C#)",
   "language": "C#",
   "name": ".net-csharp"
  },
  "language_info": {
   "name": "polyglot-notebook"
  },
  "polyglot_notebook": {
   "kernelInfo": {
    "defaultKernelName": "csharp",
    "items": [
     {
      "aliases": [],
      "name": "csharp"
     }
    ]
   }
  },
  "coopTranslator": {
   "original_hash": "070c1d8985b3dc6e6d977f3e891037f1",
   "translation_date": "2025-10-01T21:10:46+00:00",
   "source_file": "03-agentic-design-patterns/code_samples/03-dotnet-agent-framework.ipynb",
   "language_code": "lt"
  }
 },
 "nbformat": 4,
 "nbformat_minor": 5
}