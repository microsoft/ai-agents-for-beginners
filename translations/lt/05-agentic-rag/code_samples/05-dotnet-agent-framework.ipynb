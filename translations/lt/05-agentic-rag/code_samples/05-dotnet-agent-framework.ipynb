{
 "cells": [
  {
   "cell_type": "markdown",
   "id": "44b5899e",
   "metadata": {},
   "source": [
    "# 🔍 Įmonės RAG su Azure AI Foundry (.NET)\n",
    "\n",
    "## 📋 Mokymosi tikslai\n",
    "\n",
    "Šiame užrašų knygelėje parodoma, kaip sukurti įmonės lygio Retrieval-Augmented Generation (RAG) sistemas naudojant Microsoft Agent Framework .NET su Azure AI Foundry. Sužinosite, kaip kurti gamybai paruoštus agentus, kurie gali ieškoti dokumentuose ir pateikti tikslius, kontekstinius atsakymus su įmonės saugumu ir mastelio keitimu.\n",
    "\n",
    "**Įmonės RAG galimybės, kurias sukursite:**\n",
    "- 📚 **Dokumentų intelektas**: Pažangus dokumentų apdorojimas su Azure AI paslaugomis\n",
    "- 🔍 **Semantinė paieška**: Didelio našumo vektorinė paieška su įmonės funkcijomis\n",
    "- 🛡️ **Saugumo integracija**: Prieigos pagal vaidmenis ir duomenų apsaugos modeliai\n",
    "- 🏢 **Mastelio keitimo architektūra**: Gamybai paruoštos RAG sistemos su stebėsena\n",
    "\n",
    "## 🎯 Įmonės RAG architektūra\n",
    "\n",
    "### Pagrindiniai įmonės komponentai\n",
    "- **Azure AI Foundry**: Valdoma įmonės AI platforma su saugumu ir atitiktimi\n",
    "- **Nuolatiniai agentai**: Agentai su pokalbių istorija ir konteksto valdymu\n",
    "- **Vektorinės saugyklos valdymas**: Įmonės lygio dokumentų indeksavimas ir paieška\n",
    "- **Tapatybės integracija**: Azure AD autentifikacija ir prieigos kontrolė pagal vaidmenis\n",
    "\n",
    "### .NET įmonės privalumai\n",
    "- **Tipų saugumas**: Kompiliavimo metu patvirtinamos RAG operacijos ir duomenų struktūros\n",
    "- **Asinchroninis našumas**: Neužblokuojantis dokumentų apdorojimas ir paieškos operacijos\n",
    "- **Atminties valdymas**: Efektyvus išteklių naudojimas didelėms dokumentų kolekcijoms\n",
    "- **Integracijos modeliai**: Natūrali Azure paslaugų integracija su priklausomybių injekcija\n",
    "\n",
    "## 🏗️ Techninė architektūra\n",
    "\n",
    "### Įmonės RAG procesas\n",
    "```csharp\n",
    "Document Upload → Security Validation → Vector Processing → Index Creation\n",
    "                      ↓                    ↓                  ↓\n",
    "User Query → Authentication → Semantic Search → Context Ranking → AI Response\n",
    "```\n",
    "\n",
    "### Pagrindiniai .NET komponentai\n",
    "- **Azure.AI.Agents.Persistent**: Įmonės agentų valdymas su būsenos išsaugojimu\n",
    "- **Azure.Identity**: Integruota autentifikacija saugiam Azure paslaugų naudojimui\n",
    "- **Microsoft.Agents.AI.AzureAI**: Azure optimizuota agentų sistemos įgyvendinimas\n",
    "- **System.Linq.Async**: Didelio našumo asinchroninės LINQ operacijos\n",
    "\n",
    "## 🔧 Įmonės funkcijos ir privalumai\n",
    "\n",
    "### Saugumas ir atitiktis\n",
    "- **Azure AD integracija**: Įmonės tapatybės valdymas ir autentifikacija\n",
    "- **Prieiga pagal vaidmenis**: Smulkiai detalizuotos leidimų kontrolės dokumentų prieigai ir operacijoms\n",
    "- **Duomenų apsauga**: Šifravimas ramybės būsenoje ir perduodant jautrius dokumentus\n",
    "- **Audito žurnalai**: Išsamus veiklos stebėjimas atitikties reikalavimams\n",
    "\n",
    "### Našumas ir mastelio keitimas\n",
    "- **Jungčių telkinys**: Efektyvus Azure paslaugų jungčių valdymas\n",
    "- **Asinchroninis apdorojimas**: Neužblokuojančios operacijos didelio našumo scenarijams\n",
    "- **Talpyklos strategijos**: Protingas talpyklos naudojimas dažnai pasiekiamiems dokumentams\n",
    "- **Krovos balansavimas**: Paskirstytas apdorojimas didelio masto diegimams\n",
    "\n",
    "### Valdymas ir stebėsena\n",
    "- **Sveikatos patikrinimai**: Įmontuota RAG sistemos komponentų stebėsena\n",
    "- **Našumo metrika**: Išsami analizė apie paieškos kokybę ir atsako laiką\n",
    "- **Klaidų valdymas**: Išsamus išimčių valdymas su pakartojimo politikomis\n",
    "- **Konfigūracijos valdymas**: Aplinkai specifiniai nustatymai su patvirtinimu\n",
    "\n",
    "## ⚙️ Reikalavimai ir nustatymas\n",
    "\n",
    "**Kūrimo aplinka:**\n",
    "- .NET 9.0 SDK ar naujesnė\n",
    "- Visual Studio 2022 arba VS Code su C# plėtiniu\n",
    "- Azure prenumerata su AI Foundry prieiga\n",
    "\n",
    "**Reikalingi NuGet paketai:**\n",
    "```xml\n",
    "<PackageReference Include=\"Microsoft.Extensions.AI\" Version=\"9.9.0\" />\n",
    "<PackageReference Include=\"Azure.AI.Agents.Persistent\" Version=\"1.2.0-beta.5\" />\n",
    "<PackageReference Include=\"Azure.Identity\" Version=\"1.15.0\" />\n",
    "<PackageReference Include=\"System.Linq.Async\" Version=\"6.0.3\" />\n",
    "<PackageReference Include=\"DotNetEnv\" Version=\"3.1.1\" />\n",
    "```\n",
    "\n",
    "**Azure autentifikacijos nustatymas:**\n",
    "```bash\n",
    "# Install Azure CLI and authenticate\n",
    "az login\n",
    "az account set --subscription \"your-subscription-id\"\n",
    "```\n",
    "\n",
    "**Aplinkos konfigūracija (.env failas):**\n",
    "```env\n",
    "# Azure AI Foundry configuration (automatically handled via Azure CLI)\n",
    "# Ensure you're authenticated to the correct Azure subscription\n",
    "```\n",
    "\n",
    "## 📊 Įmonės RAG modeliai\n",
    "\n",
    "### Dokumentų valdymo modeliai\n",
    "- **Masinis įkėlimas**: Efektyvus didelių dokumentų kolekcijų apdorojimas\n",
    "- **Inkrementiniai atnaujinimai**: Dokumentų pridėjimas ir keitimas realiu laiku\n",
    "- **Versijų kontrolė**: Dokumentų versijų valdymas ir pakeitimų stebėjimas\n",
    "- **Metaduomenų valdymas**: Turtingi dokumentų atributai ir taksonomija\n",
    "\n",
    "### Paieškos ir gavimo modeliai\n",
    "- **Hibridinė paieška**: Semantinės ir raktažodžių paieškos derinimas optimaliems rezultatams\n",
    "- **Fasetinė paieška**: Daugiamatė filtracija ir kategorijų nustatymas\n",
    "- **Reikšmingumo derinimas**: Individualizuoti vertinimo algoritmai specifiniams poreikiams\n",
    "- **Rezultatų reitingavimas**: Pažangus reitingavimas su verslo logikos integracija\n",
    "\n",
    "### Saugumo modeliai\n",
    "- **Dokumentų lygio saugumas**: Smulkiai detalizuota prieigos kontrolė kiekvienam dokumentui\n",
    "- **Duomenų klasifikacija**: Automatinis jautrumo žymėjimas ir apsauga\n",
    "- **Audito pėdsakai**: Išsamus visų RAG operacijų žurnalavimas\n",
    "- **Privatumo apsauga**: PII aptikimas ir redagavimas\n",
    "\n",
    "## 🔒 Įmonės saugumo funkcijos\n",
    "\n",
    "### Autentifikacija ir autorizacija\n",
    "```csharp\n",
    "// Azure AD integrated authentication\n",
    "var credential = new AzureCliCredential();\n",
    "var agentsClient = new PersistentAgentsClient(endpoint, credential);\n",
    "\n",
    "// Role-based access validation\n",
    "if (!await ValidateUserPermissions(user, documentId))\n",
    "{\n",
    "    throw new UnauthorizedAccessException(\"Insufficient permissions\");\n",
    "}\n",
    "```\n",
    "\n",
    "### Duomenų apsauga\n",
    "- **Šifravimas**: Pilnas dokumentų ir paieškos indeksų šifravimas\n",
    "- **Prieigos kontrolė**: Integracija su Azure AD vartotojų ir grupių leidimams\n",
    "- **Duomenų buvimo vieta**: Geografinė duomenų vietos kontrolė atitikties reikalavimams\n",
    "- **Atsarginės kopijos ir atkūrimas**: Automatinės atsarginės kopijos ir nelaimių atkūrimo galimybės\n",
    "\n",
    "## 📈 Našumo optimizavimas\n",
    "\n",
    "### Asinchroninio apdorojimo modeliai\n",
    "```csharp\n",
    "// Efficient async document processing\n",
    "await foreach (var document in documentStream.AsAsyncEnumerable())\n",
    "{\n",
    "    await ProcessDocumentAsync(document, cancellationToken);\n",
    "}\n",
    "```\n",
    "\n",
    "### Atminties valdymas\n",
    "- **Srautinio apdorojimo**: Didelių dokumentų apdorojimas be atminties problemų\n",
    "- **Išteklių telkinys**: Efektyvus brangių išteklių pakartotinis naudojimas\n",
    "- **Šiukšlių surinkimas**: Optimizuoti atminties paskirstymo modeliai\n",
    "- **Jungčių valdymas**: Tinkamas Azure paslaugų jungčių gyvavimo ciklas\n",
    "\n",
    "### Talpyklos strategijos\n",
    "- **Užklausų talpykla**: Dažnai vykdomų paieškų talpyklos naudojimas\n",
    "- **Dokumentų talpykla**: Atminties talpykla karštiems dokumentams\n",
    "- **Indeksų talpykla**: Optimizuota vektorinė indeksų talpykla\n",
    "- **Rezultatų talpykla**: Protinga sugeneruotų atsakymų talpykla\n",
    "\n",
    "## 📊 Įmonės naudojimo atvejai\n",
    "\n",
    "### Žinių valdymas\n",
    "- **Įmonės wiki**: Išmanioji paieška per įmonės žinių bazes\n",
    "- **Politika ir procedūros**: Automatinė atitikties ir procedūrų pagalba\n",
    "- **Mokymo medžiaga**: Išmanioji mokymosi ir tobulėjimo pagalba\n",
    "- **Tyrimų duomenų bazės**: Akademinių ir mokslinių straipsnių analizės sistemos\n",
    "\n",
    "### Klientų aptarnavimas\n",
    "- **Pagalbos žinių bazė**: Automatiniai klientų aptarnavimo atsakymai\n",
    "- **Produkto dokumentacija**: Išmanioji produkto informacijos paieška\n",
    "- **Trikčių šalinimo vadovai**: Kontekstinė problemų sprendimo pagalba\n",
    "- **DUK sistemos**: Dinaminis DUK generavimas iš dokumentų kolekcijų\n",
    "\n",
    "### Reglamentinė atitiktis\n",
    "- **Teisinių dokumentų analizė**: Sutarčių ir teisinių dokumentų intelektas\n",
    "- **Atitikties stebėjimas**: Automatinis reglamentinės atitikties tikrinimas\n",
    "- **Rizikos vertinimas**: Dokumentais pagrįsta rizikos analizė ir ataskaitos\n",
    "- **Audito pagalba**: Išmanioji dokumentų paieška auditams\n",
    "\n",
    "## 🚀 Gamybos diegimas\n",
    "\n",
    "### Stebėsena ir stebimumas\n",
    "- **Application Insights**: Išsami telemetrija ir našumo stebėjimas\n",
    "- **Individualizuota metrika**: Verslo specifinių KPI stebėjimas ir įspėjimai\n",
    "- **Paskirstytas sekimas**: Pilnas užklausų sekimas per paslaugas\n",
    "- **Sveikatos skydeliai**: Realaus laiko sistemos sveikatos ir našumo vizualizacija\n",
    "\n",
    "### Mastelio keitimas ir patikimumas\n",
    "- **Automatinis mastelio keitimas**: Automatinis mastelio keitimas pagal apkrovą ir našumo metrikas\n",
    "- **Didelis prieinamumas**: Daugiaregioninis diegimas su perjungimo galimybėmis\n",
    "- **Krovos testavimas**: Našumo patvirtinimas esant įmonės apkrovos sąlygoms\n",
    "- **Nelaimių atkūrimas**: Automatinės atsarginės kopijos ir atkūrimo procedūros\n",
    "\n",
    "Pasiruošę kurti įmonės lygio RAG sistemas, kurios gali apdoroti jautrius dokumentus dideliu mastu? Sukurkime išmaniąsias žinių sistemas įmonei! 🏢📖✨\n"
   ]
  },
  {
   "cell_type": "code",
   "execution_count": 1,
   "metadata": {
    "language_info": {
     "name": "polyglot-notebook"
    },
    "polyglot_notebook": {
     "kernelName": "csharp"
    }
   },
   "outputs": [
    {
     "data": {
      "text/html": [
       "<div><div></div><div></div><div><strong>Installed Packages</strong><ul><li><span>Microsoft.Extensions.AI, 9.9.1</span></li></ul></div></div>"
      ]
     },
     "metadata": {},
     "output_type": "display_data"
    }
   ],
   "source": [
    "#r \"nuget: Microsoft.Extensions.AI, 9.9.1\""
   ]
  },
  {
   "cell_type": "code",
   "execution_count": 2,
   "id": "4ec1f0d1",
   "metadata": {
    "language_info": {
     "name": "polyglot-notebook"
    },
    "polyglot_notebook": {
     "kernelName": "csharp"
    }
   },
   "outputs": [
    {
     "data": {
      "text/html": [
       "<div><div></div><div></div><div><strong>Installed Packages</strong><ul><li><span>Azure.AI.Agents.Persistent, 1.2.0-beta.5</span></li><li><span>Azure.Identity, 1.15.0</span></li><li><span>System.Linq.Async, 6.0.3</span></li></ul></div></div>"
      ]
     },
     "metadata": {},
     "output_type": "display_data"
    }
   ],
   "source": [
    "#r \"nuget: Azure.AI.Agents.Persistent, 1.2.0-beta.5\"\n",
    "#r \"nuget: Azure.Identity, 1.15.0\"\n",
    "#r \"nuget: System.Linq.Async, 6.0.3\""
   ]
  },
  {
   "cell_type": "code",
   "execution_count": 3,
   "id": "2363ae07",
   "metadata": {
    "language_info": {
     "name": "polyglot-notebook"
    },
    "polyglot_notebook": {
     "kernelName": "csharp"
    }
   },
   "outputs": [],
   "source": []
  },
  {
   "cell_type": "code",
   "execution_count": null,
   "id": "d10cec9d",
   "metadata": {
    "language_info": {
     "name": "polyglot-notebook"
    },
    "polyglot_notebook": {
     "kernelName": "csharp"
    }
   },
   "outputs": [
    {
     "data": {
      "text/html": [
       "<div><div></div><div></div><div><strong>Installed Packages</strong><ul><li><span>Microsoft.Agents.AI.AzureAI, 1.0.0-preview.251001.2</span></li></ul></div></div>"
      ]
     },
     "metadata": {},
     "output_type": "display_data"
    }
   ],
   "source": [
    "#r \"nuget: Microsoft.Agents.AI.AzureAI, 1.0.0-preview.251001.3\""
   ]
  },
  {
   "cell_type": "code",
   "execution_count": null,
   "id": "78199d1c",
   "metadata": {
    "language_info": {
     "name": "polyglot-notebook"
    },
    "polyglot_notebook": {
     "kernelName": "csharp"
    }
   },
   "outputs": [
    {
     "data": {
      "text/html": [
       "<div><div></div><div></div><div><strong>Installed Packages</strong><ul><li><span>microsoft.agents.ai, 1.0.0-preview.251001.2</span></li></ul></div></div>"
      ]
     },
     "metadata": {},
     "output_type": "display_data"
    }
   ],
   "source": [
    "#r \"nuget: Microsoft.Agents.AI, 1.0.0-preview.251001.3\""
   ]
  },
  {
   "cell_type": "code",
   "execution_count": 6,
   "id": "7de4684a",
   "metadata": {
    "language_info": {
     "name": "polyglot-notebook"
    },
    "polyglot_notebook": {
     "kernelName": "csharp"
    }
   },
   "outputs": [
    {
     "data": {
      "text/html": [
       "<div><div></div><div></div><div><strong>Installed Packages</strong><ul><li><span>DotNetEnv, 3.1.1</span></li></ul></div></div>"
      ]
     },
     "metadata": {},
     "output_type": "display_data"
    }
   ],
   "source": [
    "#r \"nuget: DotNetEnv, 3.1.1\""
   ]
  },
  {
   "cell_type": "code",
   "execution_count": 7,
   "id": "251efd31",
   "metadata": {
    "language_info": {
     "name": "polyglot-notebook"
    },
    "polyglot_notebook": {
     "kernelName": "csharp"
    }
   },
   "outputs": [],
   "source": [
    "using System;\n",
    "using System.Linq;\n",
    "using Azure.AI.Agents.Persistent;\n",
    "using Azure.Identity;\n",
    "using Microsoft.Agents.AI;"
   ]
  },
  {
   "cell_type": "code",
   "execution_count": 8,
   "id": "a2e342f1",
   "metadata": {
    "language_info": {
     "name": "polyglot-notebook"
    },
    "polyglot_notebook": {
     "kernelName": "csharp"
    }
   },
   "outputs": [],
   "source": [
    " using DotNetEnv;"
   ]
  },
  {
   "cell_type": "code",
   "execution_count": 9,
   "id": "a7a01653",
   "metadata": {
    "language_info": {
     "name": "polyglot-notebook"
    },
    "polyglot_notebook": {
     "kernelName": "csharp"
    }
   },
   "outputs": [],
   "source": [
    "Env.Load(\"../../../.env\");"
   ]
  },
  {
   "cell_type": "code",
   "execution_count": 10,
   "id": "a42735d5",
   "metadata": {
    "language_info": {
     "name": "polyglot-notebook"
    },
    "polyglot_notebook": {
     "kernelName": "csharp"
    }
   },
   "outputs": [],
   "source": [
    "var azure_foundry_endpoint = Environment.GetEnvironmentVariable(\"AZURE_AI_PROJECT_ENDPOINT\") ?? throw new InvalidOperationException(\"AZURE_AI_PROJECT_ENDPOINT is not set.\");\n",
    "var azure_foundry_model_id = Environment.GetEnvironmentVariable(\"AZURE_AI_MODEL_DEPLOYMENT_NAME\") ?? \"gpt-4.1-mini\";"
   ]
  },
  {
   "cell_type": "code",
   "execution_count": 11,
   "id": "e29bdb58",
   "metadata": {
    "language_info": {
     "name": "polyglot-notebook"
    },
    "polyglot_notebook": {
     "kernelName": "csharp"
    }
   },
   "outputs": [],
   "source": [
    "string pdfPath = \"./document.md\";"
   ]
  },
  {
   "cell_type": "code",
   "execution_count": 12,
   "id": "7351e12d",
   "metadata": {
    "language_info": {
     "name": "polyglot-notebook"
    },
    "polyglot_notebook": {
     "kernelName": "csharp"
    }
   },
   "outputs": [],
   "source": [
    "using System.IO;\n",
    "\n",
    "async Task<Stream> OpenImageStreamAsync(string path)\n",
    "{\n",
    "\treturn await Task.Run(() => File.OpenRead(path));\n",
    "}\n",
    "\n",
    "var pdfStream = await OpenImageStreamAsync(pdfPath);"
   ]
  },
  {
   "cell_type": "code",
   "execution_count": 13,
   "id": "0b6bf484",
   "metadata": {
    "language_info": {
     "name": "polyglot-notebook"
    },
    "polyglot_notebook": {
     "kernelName": "csharp"
    }
   },
   "outputs": [],
   "source": [
    "var persistentAgentsClient = new PersistentAgentsClient(azure_foundry_endpoint, new AzureCliCredential());"
   ]
  },
  {
   "cell_type": "code",
   "execution_count": 14,
   "id": "81e0dddc",
   "metadata": {
    "language_info": {
     "name": "polyglot-notebook"
    },
    "polyglot_notebook": {
     "kernelName": "csharp"
    }
   },
   "outputs": [],
   "source": [
    "PersistentAgentFileInfo fileInfo = await persistentAgentsClient.Files.UploadFileAsync(pdfStream, PersistentAgentFilePurpose.Agents, \"demo.md\");"
   ]
  },
  {
   "cell_type": "code",
   "execution_count": 15,
   "id": "f0c75d80",
   "metadata": {
    "language_info": {
     "name": "polyglot-notebook"
    },
    "polyglot_notebook": {
     "kernelName": "csharp"
    }
   },
   "outputs": [],
   "source": [
    "PersistentAgentsVectorStore fileStore =\n",
    "            await persistentAgentsClient.VectorStores.CreateVectorStoreAsync(\n",
    "                [fileInfo.Id],\n",
    "                metadata: new Dictionary<string, string>() { { \"agentkey\", bool.TrueString } });"
   ]
  },
  {
   "cell_type": "code",
   "execution_count": 16,
   "id": "c77986c5",
   "metadata": {
    "language_info": {
     "name": "polyglot-notebook"
    },
    "polyglot_notebook": {
     "kernelName": "csharp"
    }
   },
   "outputs": [],
   "source": [
    "PersistentAgent agentModel = await persistentAgentsClient.Administration.CreateAgentAsync(\n",
    "            azure_foundry_model_id,\n",
    "            name: \"DotNetRAGAgent\",\n",
    "            tools: [new FileSearchToolDefinition()],\n",
    "            instructions: \"\"\"\n",
    "                You are an AI assistant designed to answer user questions using only the information retrieved from the provided document(s).\n",
    "\n",
    "                - If a user's question cannot be answered using the retrieved context, **you must clearly respond**: \n",
    "                \"I'm sorry, but the uploaded document does not contain the necessary information to answer that question.\"\n",
    "                - Do not answer from general knowledge or reasoning. Do not make assumptions or generate hypothetical explanations.\n",
    "                - Do not provide definitions, tutorials, or commentary that is not explicitly grounded in the content of the uploaded file(s).\n",
    "                - If a user asks a question like \"What is a Neural Network?\", and this is not discussed in the uploaded document, respond as instructed above.\n",
    "                - For questions that do have relevant content in the document (e.g., Contoso's travel insurance coverage), respond accurately, and cite the document explicitly.\n",
    "\n",
    "                You must behave as if you have no external knowledge beyond what is retrieved from the uploaded document.\n",
    "                \"\"\",\n",
    "            toolResources: new()\n",
    "            {\n",
    "                FileSearch = new()\n",
    "                {\n",
    "                    VectorStoreIds = { fileStore.Id },\n",
    "                }\n",
    "            },\n",
    "            metadata: new Dictionary<string, string>() { { \"agentkey\", bool.TrueString } });"
   ]
  },
  {
   "cell_type": "code",
   "execution_count": 17,
   "id": "282326cf",
   "metadata": {
    "language_info": {
     "name": "polyglot-notebook"
    },
    "polyglot_notebook": {
     "kernelName": "csharp"
    }
   },
   "outputs": [],
   "source": [
    "AIAgent agent = await persistentAgentsClient.GetAIAgentAsync(agentModel.Id);"
   ]
  },
  {
   "cell_type": "code",
   "execution_count": 18,
   "id": "2067d313",
   "metadata": {
    "language_info": {
     "name": "polyglot-notebook"
    },
    "polyglot_notebook": {
     "kernelName": "csharp"
    }
   },
   "outputs": [],
   "source": [
    "AgentThread thread = agent.GetNewThread();"
   ]
  },
  {
   "cell_type": "code",
   "execution_count": 19,
   "id": "454c4230",
   "metadata": {
    "language_info": {
     "name": "polyglot-notebook"
    },
    "polyglot_notebook": {
     "kernelName": "csharp"
    }
   },
   "outputs": [
    {
     "name": "stdout",
     "output_type": "stream",
     "text": [
      "Contoso's travel insurance coverage includes protection for medical emergencies, trip cancellations, and lost baggage. This ensures that travelers are supported in case of health-related issues during their trip, unforeseen cancellations, and the loss of their belongings while traveling【4:0†demo.md】.\r\n"
     ]
    }
   ],
   "source": [
    "Console.WriteLine(await agent.RunAsync(\"Can you explain Contoso's travel insurance coverage?\", thread));"
   ]
  },
  {
   "cell_type": "markdown",
   "metadata": {},
   "source": [
    "\n---\n\n**Atsakomybės atsisakymas**:  \nŠis dokumentas buvo išverstas naudojant AI vertimo paslaugą [Co-op Translator](https://github.com/Azure/co-op-translator). Nors stengiamės užtikrinti tikslumą, prašome atkreipti dėmesį, kad automatiniai vertimai gali turėti klaidų ar netikslumų. Originalus dokumentas jo gimtąja kalba turėtų būti laikomas autoritetingu šaltiniu. Kritinei informacijai rekomenduojama naudoti profesionalų žmogaus vertimą. Mes neprisiimame atsakomybės už nesusipratimus ar neteisingus aiškinimus, kylančius dėl šio vertimo naudojimo.\n"
   ]
  }
 ],
 "metadata": {
  "kernelspec": {
   "display_name": ".NET (C#)",
   "language": "C#",
   "name": ".net-csharp"
  },
  "language_info": {
   "name": "polyglot-notebook"
  },
  "polyglot_notebook": {
   "kernelInfo": {
    "defaultKernelName": "csharp",
    "items": [
     {
      "aliases": [],
      "name": "csharp"
     }
    ]
   }
  },
  "coopTranslator": {
   "original_hash": "e4584fa31638009dc6fb665275de8fc2",
   "translation_date": "2025-10-01T20:42:00+00:00",
   "source_file": "05-agentic-rag/code_samples/05-dotnet-agent-framework.ipynb",
   "language_code": "lt"
  }
 },
 "nbformat": 4,
 "nbformat_minor": 5
}