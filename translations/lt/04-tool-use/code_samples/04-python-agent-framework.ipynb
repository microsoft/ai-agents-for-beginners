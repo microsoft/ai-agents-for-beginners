{
 "cells": [
  {
   "cell_type": "markdown",
   "id": "8744544f",
   "metadata": {},
   "source": [
    "# 🛠️ Pažangus įrankių naudojimas su GitHub modeliais (Python)\n",
    "\n",
    "## 📋 Mokymosi tikslai\n",
    "\n",
    "Šiame užrašų knygelėje demonstruojami pažangūs įrankių integravimo modeliai naudojant Microsoft Agent Framework su GitHub modeliais. Sužinosite, kaip kurti, valdyti ir koordinuoti kelis įrankius, kad sukurtumėte sudėtingas agentų funkcijas.\n",
    "\n",
    "**Ką išmoksite:**\n",
    "- 🔧 **Daugiainstrumentinė architektūra**: Agentų kūrimas su keliais specializuotais įrankiais\n",
    "- 🎯 **Įrankių pasirinkimo logika**: Kaip agentai pasirenka tinkamą įrankį kiekvienai užduočiai\n",
    "- 📊 **Duomenų apdorojimo įrankiai**: Įrankių kūrimas, kurie apdoroja skirtingus duomenų tipus\n",
    "- 🔗 **Įrankių sudėtis**: Įrankių derinimas sudėtingiems darbo procesams\n",
    "\n",
    "## 🎯 Pagrindiniai įrankių modeliai\n",
    "\n",
    "### Įrankių projektavimo principai\n",
    "- **Vienos atsakomybės principas**: Kiekvienas įrankis turi aiškų ir konkretų tikslą\n",
    "- **Tipų saugumas**: Stiprus tipų naudojimas patikimam įrankių vykdymui\n",
    "- **Klaidų tvarkymas**: Sklandūs gedimų ir atkūrimo modeliai\n",
    "- **Sudėtingumas**: Įrankiai, kurie gerai veikia kartu\n",
    "\n",
    "### Pažangios įrankių funkcijos\n",
    "- **Konteksto suvokimas**: Įrankiai, kurie supranta pokalbio kontekstą\n",
    "- **Duomenų validacija**: Įvesties valymas ir išvesties tikrinimas\n",
    "- **Našumo optimizavimas**: Efektyvūs įrankių vykdymo modeliai\n",
    "- **Plėtra**: Lengvas naujų įrankių funkcijų pridėjimas\n",
    "\n",
    "## 🔧 Techninė architektūra\n",
    "\n",
    "### Pagrindiniai komponentai\n",
    "- **Microsoft Agent Framework**: Python įgyvendinimas su pažangiu įrankių palaikymu\n",
    "- **GitHub modelių integracija**: Aukštos kokybės kalbos modelių prieiga\n",
    "- **Įrankių registravimo sistema**: Organizuotas agentų funkcijų valdymas\n",
    "- **Klaidų atkūrimo modeliai**: Patikimas įrankių vykdymo gedimų tvarkymas\n",
    "\n",
    "### Įrankių integravimo eiga\n",
    "```python\n",
    "User Request → Agent Analysis → Tool Selection → Tool Execution → Response Synthesis\n",
    "```\n",
    "\n",
    "## 🛠️ Demonstruojamos įrankių kategorijos\n",
    "\n",
    "### 1. **Duomenų generavimo įrankiai**\n",
    "- Atsitiktinių kelionių vietų generatorius\n",
    "- Orų informacijos tiekėjas  \n",
    "- Kelionių kainų skaičiuoklė\n",
    "- Veiklos rekomendacijų variklis\n",
    "\n",
    "### 2. **Apdorojimo įrankiai**\n",
    "- Teksto formatavimas ir validacija\n",
    "- Duomenų transformavimo priemonės\n",
    "- Turinio analizės funkcijos\n",
    "- Atsakymų tobulinimo įrankiai\n",
    "\n",
    "### 3. **Integravimo įrankiai**\n",
    "- Išorinių API jungtys\n",
    "- Failų sistemos operacijos\n",
    "- Duomenų bazės užklausų sąsajos\n",
    "- Interneto duomenų nuskaitymo priemonės\n",
    "\n",
    "## ⚙️ Reikalavimai ir nustatymai\n",
    "\n",
    "**Reikalingos priklausomybės:**\n",
    "```bash\n",
    "\n",
    "pip install agent-framework-core -U\n",
    "```\n",
    "\n",
    "**Aplinkos konfigūracija (.env failas):**\n",
    "```env\n",
    "GITHUB_TOKEN=your_github_personal_access_token\n",
    "GITHUB_ENDPOINT=https://models.inference.ai.azure.com\n",
    "GITHUB_MODEL_ID=gpt-4o-mini\n",
    "```\n",
    "\n",
    "**Pasirinktinės API:**\n",
    "- Orų paslaugos API raktas (orų įrankiams)\n",
    "- Valiutų konvertavimo API prieiga\n",
    "- Kelionių informacijos paslaugų kredencialai\n",
    "\n",
    "## 🎨 Projektavimo modeliai\n",
    "\n",
    "### Įrankių gamyklos modelis\n",
    "- Centralizuotas įrankių kūrimas ir konfigūravimas\n",
    "- Nuoseklus įrankių sąsajos dizainas\n",
    "- Lengvas įrankių registravimas ir atradimas\n",
    "\n",
    "### Komandų modelis\n",
    "- Įrankių vykdymo logikos kapsuliavimas\n",
    "- Atšaukimo/pakartojimo funkcionalumas sudėtingoms operacijoms\n",
    "- Įrankių naudojimo audito registravimas\n",
    "\n",
    "### Stebėtojo modelis\n",
    "- Įrankių vykdymo stebėjimas\n",
    "- Našumo metrikų rinkimas\n",
    "- Klaidų ataskaitos ir įspėjimai\n",
    "\n",
    "## 🚀 Geriausia praktika\n",
    "\n",
    "- **Įrankių dokumentacija**: Aiškūs aprašymai agentų supratimui\n",
    "- **Įvesties validacija**: Patikimas parametrų tikrinimas ir valymas\n",
    "- **Išvesties formatavimas**: Nuoseklūs, lengvai apdorojami įrankių atsakymai\n",
    "- **Klaidų pranešimai**: Naudinga klaidų informacija derinimui\n",
    "- **Našumas**: Optimizuotas įrankių vykdymas greitam atsakymui\n",
    "\n",
    "Pasiruošę kurti agentus su galingomis įrankių funkcijomis? Sukurkime kažką nuostabaus! ⚡\n"
   ]
  },
  {
   "cell_type": "code",
   "execution_count": null,
   "id": "59c0feeb",
   "metadata": {},
   "outputs": [],
   "source": [
    "! pip install agent-framework-core -U"
   ]
  },
  {
   "cell_type": "code",
   "execution_count": null,
   "id": "c0df8a52",
   "metadata": {},
   "outputs": [],
   "source": [
    "# � Import core dependencies for Agent Framework and tool integration\n",
    "# This sets up the essential libraries for building intelligent agents with tool capabilities\n",
    "\n",
    "import asyncio\n",
    "import os\n",
    "import json\n",
    "\n",
    "from dotenv import load_dotenv  # For loading environment variables securely\n",
    "from random import randint\n",
    "\n",
    "# These are the core components for building tool-enabled agents\n",
    "from agent_framework import ChatAgent           # Main agent class\n",
    "from agent_framework.openai import OpenAIChatClient  # OpenAI-compatible client"
   ]
  },
  {
   "cell_type": "code",
   "execution_count": null,
   "id": "24c10eb0",
   "metadata": {},
   "outputs": [],
   "source": [
    "load_dotenv()"
   ]
  },
  {
   "cell_type": "code",
   "execution_count": null,
   "id": "151e0314",
   "metadata": {},
   "outputs": [],
   "source": [
    "# 🔑 Environment variables verification\n",
    "# Ensure all required GitHub Models credentials are properly configured\n",
    "print(\"GITHUB_ENDPOINT:\", os.environ.get(\"GITHUB_ENDPOINT\"))\n",
    "print(\"GITHUB_TOKEN:\", \"***\" if os.environ.get(\"GITHUB_TOKEN\") else \"Not set\")\n",
    "print(\"GITHUB_MODEL_ID:\", os.environ.get(\"GITHUB_MODEL_ID\"))"
   ]
  },
  {
   "cell_type": "code",
   "execution_count": null,
   "id": "a6141584",
   "metadata": {},
   "outputs": [],
   "source": [
    "# 🧪 Test GitHub Models connectivity\n",
    "openai_chat_client = OpenAIChatClient(base_url=os.environ.get(\"GITHUB_ENDPOINT\"), api_key=os.environ.get(\"GITHUB_TOKEN\"), model_id=os.environ.get(\"GITHUB_MODEL_ID\"))"
   ]
  },
  {
   "cell_type": "code",
   "execution_count": null,
   "id": "a6507f83",
   "metadata": {},
   "outputs": [],
   "source": [
    "# 🛠️ Define travel planning tools for agent integration\n",
    "# These functions provide specific capabilities that the agent can invoke dynamically\n",
    "\n",
    "def get_random_destination() -> str:\n",
    "    \"\"\"\n",
    "    🎲 Random destination generator tool\n",
    "    Returns a randomly selected travel destination from curated list\n",
    "    Useful when customers need inspiration for their next vacation\n",
    "    \"\"\"\n",
    "    destinations = [\n",
    "        \"Paris, France\",\n",
    "        \"Tokyo, Japan\", \n",
    "        \"New York City, USA\",\n",
    "        \"London, England\",\n",
    "        \"Rome, Italy\",\n",
    "        \"Sydney, Australia\",\n",
    "        \"Dubai, UAE\",\n",
    "        \"Barcelona, Spain\",\n",
    "        \"Bangkok, Thailand\",\n",
    "        \"Amsterdam, Netherlands\",\n",
    "        \"Istanbul, Turkey\",\n",
    "        \"Prague, Czech Republic\",\n",
    "        \"Santorini, Greece\",\n",
    "        \"Reykjavik, Iceland\",\n",
    "        \"Marrakech, Morocco\",\n",
    "        \"Cape Town, South Africa\",\n",
    "        \"Rio de Janeiro, Brazil\",\n",
    "        \"Bali, Indonesia\"\n",
    "    ]\n",
    "    # 🎯 Return random selection from the curated destination list\n",
    "    return destinations[randint(0, len(destinations) - 1)]"
   ]
  },
  {
   "cell_type": "code",
   "execution_count": null,
   "id": "5d4f0568",
   "metadata": {},
   "outputs": [],
   "source": [
    "# 🔗 Initialize GitHub Models chat client for agent communication\n",
    "# Creates the primary interface between the agent and the language model\n",
    "openai_chat_client = OpenAIChatClient(base_url=os.environ.get(\"GITHUB_ENDPOINT\"), api_key=os.environ.get(\"GITHUB_TOKEN\"), model_id=os.environ.get(\"GITHUB_MODEL_ID\"))"
   ]
  },
  {
   "cell_type": "code",
   "execution_count": null,
   "id": "751668c5",
   "metadata": {},
   "outputs": [],
   "source": [
    "# 🤖 Configure travel agent identity and behavioral instructions\n",
    "# Define the agent's personality, capabilities, and operational guidelines\n",
    "\n",
    "AGENT_NAME = \"TravelAgent\"\n",
    "\n",
    "AGENT_INSTRUCTIONS = \"\"\"You are a helpful AI Agent that can help plan vacations for customers at random destinations\n",
    "\"\"\""
   ]
  },
  {
   "cell_type": "code",
   "execution_count": null,
   "id": "be18ac4f",
   "metadata": {},
   "outputs": [],
   "source": [
    "agent = ChatAgent(\n",
    "        name = AGENT_NAME,\n",
    "        chat_client=openai_chat_client,\n",
    "        instructions=AGENT_INSTRUCTIONS,\n",
    "        tools=[get_random_destination]\n",
    ")"
   ]
  },
  {
   "cell_type": "code",
   "execution_count": null,
   "id": "772e9481",
   "metadata": {},
   "outputs": [],
   "source": [
    "thread = agent.get_new_thread()"
   ]
  },
  {
   "cell_type": "code",
   "execution_count": null,
   "id": "a731b547",
   "metadata": {},
   "outputs": [],
   "source": [
    "response1 = await agent.run(\"Plan me a day trip\",thread= thread)"
   ]
  },
  {
   "cell_type": "code",
   "execution_count": null,
   "id": "7d3fe00a",
   "metadata": {},
   "outputs": [],
   "source": [
    "\n",
    "last_message = response1.messages[-1]\n",
    "text_content = last_message.contents[0].text\n",
    "print(\"Travel plan:\")\n",
    "print(text_content)"
   ]
  },
  {
   "cell_type": "markdown",
   "metadata": {},
   "source": [
    "\n---\n\n**Atsakomybės atsisakymas**:  \nŠis dokumentas buvo išverstas naudojant AI vertimo paslaugą [Co-op Translator](https://github.com/Azure/co-op-translator). Nors stengiamės užtikrinti tikslumą, prašome atkreipti dėmesį, kad automatiniai vertimai gali turėti klaidų ar netikslumų. Originalus dokumentas jo gimtąja kalba turėtų būti laikomas autoritetingu šaltiniu. Kritinei informacijai rekomenduojama naudoti profesionalų žmogaus vertimą. Mes neprisiimame atsakomybės už nesusipratimus ar neteisingus interpretavimus, atsiradusius dėl šio vertimo naudojimo.\n"
   ]
  }
 ],
 "metadata": {
  "kernelspec": {
   "display_name": "agentenv",
   "language": "python",
   "name": "python3"
  },
  "language_info": {
   "codemirror_mode": {
    "name": "ipython",
    "version": 3
   },
   "file_extension": ".py",
   "mimetype": "text/x-python",
   "name": "python",
   "nbconvert_exporter": "python",
   "pygments_lexer": "ipython3",
   "version": "3.12.10"
  },
  "polyglot_notebook": {
   "kernelInfo": {
    "defaultKernelName": "csharp",
    "items": [
     {
      "aliases": [],
      "name": "csharp"
     }
    ]
   }
  },
  "coopTranslator": {
   "original_hash": "42966ddac53cebaf0ac1ce33b2ee7059",
   "translation_date": "2025-10-01T21:03:43+00:00",
   "source_file": "04-tool-use/code_samples/04-python-agent-framework.ipynb",
   "language_code": "lt"
  }
 },
 "nbformat": 4,
 "nbformat_minor": 5
}