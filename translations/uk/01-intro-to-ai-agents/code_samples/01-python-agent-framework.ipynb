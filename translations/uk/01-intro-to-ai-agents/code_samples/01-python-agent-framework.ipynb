{
 "cells": [
  {
   "cell_type": "markdown",
   "id": "f4cf9593",
   "metadata": {},
   "source": [
    "# 🐍 AI Туристичний Агент із Microsoft Agent Framework (Python)\n",
    "\n",
    "## 📋 Огляд сценарію\n",
    "\n",
    "Цей ноутбук демонструє, як створити інтелектуального агента для планування подорожей, використовуючи Microsoft Agent Framework для Python. Агента використовує моделі GitHub для автоматичного створення персоналізованих маршрутів одноденних подорожей до випадкових місць по всьому світу.\n",
    "\n",
    "**Основні функції:**\n",
    "- 🎲 **Розумний вибір місця призначення**: Кастомна функція для випадкового вибору місця\n",
    "- 🗺️ **Детальне створення маршруту**: Планування подорожей за допомогою AI з локальними рекомендаціями\n",
    "- 🔄 **Асинхронна обробка**: Використання asyncio для ефективної комунікації з API\n",
    "- 🛠️ **Інтеграція інструментів**: Демонстрація можливостей виклику функцій у AI-агентах\n",
    "\n",
    "## 🏗️ Технічна реалізація\n",
    "\n",
    "### Основні компоненти\n",
    "- **Agent Framework**: Реалізація системи оркестрації агентів Microsoft на Python\n",
    "- **GitHub Models API**: Доступ до передових мовних моделей через сервіс інференції GitHub\n",
    "- **Сумісність з OpenAI**: Використання клієнтських шаблонів OpenAI із бекендом GitHub Models\n",
    "- **Управління середовищем**: Безпечне управління обліковими даними за допомогою python-dotenv\n",
    "\n",
    "### Потік архітектури\n",
    "```python\n",
    "User Request → ChatAgent → GitHub Models API ↔ get_random_destination()\n",
    "                     ↓\n",
    "              Travel Itinerary Response\n",
    "```\n",
    "\n",
    "### Основні класи та методи\n",
    "- `ChatAgent`: Основний оркестратор розмовного агента\n",
    "- `OpenAIChatClient`: Обгортка клієнта API GitHub Models\n",
    "- `get_random_destination()`: Кастомна функція для вибору місця призначення\n",
    "- Змінні середовища: Безпечне управління конфігурацією API\n",
    "\n",
    "## ⚙️ Попередні вимоги та налаштування\n",
    "\n",
    "**Необхідні залежності:**\n",
    "```bash\n",
    "\n",
    "pip install agent-framework-core -U\n",
    "```\n",
    "\n",
    "**Конфігурація середовища (.env файл):**\n",
    "```env\n",
    "GITHUB_TOKEN=your_github_personal_access_token\n",
    "GITHUB_ENDPOINT=https://models.inference.ai.azure.com\n",
    "GITHUB_MODEL_ID=gpt-4o-mini\n",
    "```\n",
    "\n",
    "**Доступ до GitHub Models:**\n",
    "1. Зареєструйтесь для доступу до GitHub Models\n",
    "2. Згенеруйте персональний токен доступу\n",
    "3. Налаштуйте змінні середовища, як показано вище\n",
    "\n",
    "## 🚀 Інструкції з використання\n",
    "\n",
    "Виконайте наведені нижче комірки послідовно, щоб:\n",
    "1. Імпортувати необхідні бібліотеки та завантажити змінні середовища\n",
    "2. Визначити інструмент генератора випадкових місць призначення\n",
    "3. Створити та налаштувати AI-агента\n",
    "4. Виконати запити на планування подорожей і переглянути результати\n",
    "\n",
    "Давайте створимо інтелектуального помічника для планування подорожей! 🌟\n"
   ]
  },
  {
   "cell_type": "code",
   "execution_count": null,
   "id": "fda5fa0a",
   "metadata": {},
   "outputs": [],
   "source": [
    "! pip install agent-framework-core -U"
   ]
  },
  {
   "cell_type": "code",
   "execution_count": null,
   "id": "c0df8a52",
   "metadata": {},
   "outputs": [],
   "source": [
    "# 📦 Import Required Libraries\n",
    "# Standard library imports for system operations and random number generation\n",
    "import os\n",
    "from random import randint\n",
    "\n",
    "# Third-party library for loading environment variables from .env file\n",
    "from dotenv import load_dotenv"
   ]
  },
  {
   "cell_type": "code",
   "execution_count": null,
   "id": "151e0314",
   "metadata": {},
   "outputs": [],
   "source": [
    "# 🤖 Import Microsoft Agent Framework Components\n",
    "# ChatAgent: The main agent class for conversational AI\n",
    "# OpenAIChatClient: Client for connecting to OpenAI-compatible APIs (including GitHub Models)\n",
    "from agent_framework import ChatAgent\n",
    "from agent_framework.openai import OpenAIChatClient"
   ]
  },
  {
   "cell_type": "code",
   "execution_count": null,
   "id": "a6141584",
   "metadata": {},
   "outputs": [],
   "source": [
    "# 🔧 Load Environment Variables\n",
    "# This loads configuration from a .env file in the project root\n",
    "# Required variables: GITHUB_ENDPOINT, GITHUB_TOKEN, GITHUB_MODEL_ID\n",
    "load_dotenv()"
   ]
  },
  {
   "cell_type": "code",
   "execution_count": null,
   "id": "a6507f83",
   "metadata": {},
   "outputs": [],
   "source": [
    "# 🎲 Tool Function: Random Destination Generator\n",
    "# This function will be available to the agent as a tool\n",
    "# The agent can call this function to get random vacation destinations\n",
    "def get_random_destination() -> str:\n",
    "    \"\"\"Get a random vacation destination.\n",
    "    \n",
    "    Returns:\n",
    "        str: A randomly selected destination from our predefined list\n",
    "    \"\"\"\n",
    "    # List of popular vacation destinations around the world\n",
    "    destinations = [\n",
    "        \"Barcelona, Spain\",\n",
    "        \"Paris, France\", \n",
    "        \"Berlin, Germany\",\n",
    "        \"Tokyo, Japan\",\n",
    "        \"Sydney, Australia\",\n",
    "        \"New York, USA\",\n",
    "        \"Cairo, Egypt\",\n",
    "        \"Cape Town, South Africa\",\n",
    "        \"Rio de Janeiro, Brazil\",\n",
    "        \"Bali, Indonesia\"\n",
    "    ]\n",
    "    # Return a random destination from the list\n",
    "    return destinations[randint(0, len(destinations) - 1)]"
   ]
  },
  {
   "cell_type": "code",
   "execution_count": null,
   "id": "5d4f0568",
   "metadata": {},
   "outputs": [],
   "source": [
    "# 🔗 Create OpenAI Chat Client for GitHub Models\n",
    "# This client connects to GitHub Models API (OpenAI-compatible endpoint)\n",
    "# Environment variables required:\n",
    "# - GITHUB_ENDPOINT: API endpoint URL (usually https://models.inference.ai.azure.com)\n",
    "# - GITHUB_TOKEN: Your GitHub personal access token\n",
    "# - GITHUB_MODEL_ID: Model to use (e.g., gpt-4o-mini, gpt-4o)\n",
    "openai_chat_client = OpenAIChatClient(\n",
    "    base_url=os.environ.get(\"GITHUB_ENDPOINT\"),\n",
    "    api_key=os.environ.get(\"GITHUB_TOKEN\"), \n",
    "    model_id=os.environ.get(\"GITHUB_MODEL_ID\")\n",
    ")"
   ]
  },
  {
   "cell_type": "code",
   "execution_count": null,
   "id": "cf5a4800",
   "metadata": {},
   "outputs": [],
   "source": [
    "# 🤖 Create the Travel Planning Agent\n",
    "# This creates a conversational AI agent with specific capabilities:\n",
    "# - chat_client: The AI model client for generating responses\n",
    "# - instructions: System prompt that defines the agent's personality and role\n",
    "# - tools: List of functions the agent can call to perform actions\n",
    "agent = ChatAgent(\n",
    "    chat_client=openai_chat_client,\n",
    "    instructions=\"You are a helpful AI Agent that can help plan vacations for customers at random destinations.\",\n",
    "    tools=[get_random_destination]  # Our random destination tool function\n",
    ")"
   ]
  },
  {
   "cell_type": "code",
   "execution_count": null,
   "id": "772e9481",
   "metadata": {},
   "outputs": [],
   "source": [
    "# 🚀 Run the Agent\n",
    "# Send a message to the agent and get a response\n",
    "# The agent will use its tools (get_random_destination) if needed\n",
    "response = await agent.run(\"Plan me a day trip\")"
   ]
  },
  {
   "cell_type": "code",
   "execution_count": null,
   "id": "93c114ea",
   "metadata": {},
   "outputs": [],
   "source": [
    "# 📋 View Raw Response Object\n",
    "# This shows the complete response structure including metadata\n",
    "# Useful for debugging and understanding the response format\n",
    "response"
   ]
  },
  {
   "cell_type": "code",
   "execution_count": null,
   "id": "a731b547",
   "metadata": {},
   "outputs": [],
   "source": [
    "# 📖 Extract and Display the Travel Plan\n",
    "# Get the last message from the conversation (agent's response)s\n",
    "last_message = response.messages[-1]\n",
    "# Extract the text content from the message\n",
    "text_content = last_message.contents[0].text\n",
    "# Display the formatted travel plan\n",
    "print(\"🏖️ Travel plan:\")\n",
    "print(text_content)"
   ]
  },
  {
   "cell_type": "markdown",
   "metadata": {},
   "source": [
    "\n---\n\n**Відмова від відповідальності**:  \nЦей документ було перекладено за допомогою сервісу автоматичного перекладу [Co-op Translator](https://github.com/Azure/co-op-translator). Хоча ми прагнемо до точності, звертаємо вашу увагу, що автоматичні переклади можуть містити помилки або неточності. Оригінальний документ на його рідній мові слід вважати авторитетним джерелом. Для критичної інформації рекомендується професійний людський переклад. Ми не несемо відповідальності за будь-які непорозуміння або неправильні тлумачення, що виникли внаслідок використання цього перекладу.\n"
   ]
  }
 ],
 "metadata": {
  "kernelspec": {
   "display_name": "agentframeworkenv",
   "language": "python",
   "name": "python3"
  },
  "language_info": {
   "codemirror_mode": {
    "name": "ipython",
    "version": 3
   },
   "file_extension": ".py",
   "mimetype": "text/x-python",
   "name": "python",
   "nbconvert_exporter": "python",
   "pygments_lexer": "ipython3",
   "version": "3.12.10"
  },
  "polyglot_notebook": {
   "kernelInfo": {
    "defaultKernelName": "csharp",
    "items": [
     {
      "aliases": [],
      "name": "csharp"
     }
    ]
   }
  },
  "coopTranslator": {
   "original_hash": "02d6b305971fe27448c9d46a4c91eaf3",
   "translation_date": "2025-10-02T06:19:23+00:00",
   "source_file": "01-intro-to-ai-agents/code_samples/01-python-agent-framework.ipynb",
   "language_code": "uk"
  }
 },
 "nbformat": 4,
 "nbformat_minor": 5
}