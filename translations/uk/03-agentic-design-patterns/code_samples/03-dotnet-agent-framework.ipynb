{
 "cells": [
  {
   "cell_type": "markdown",
   "id": "d6058fa4",
   "metadata": {},
   "source": [
    "# 🎨 Агентні шаблони дизайну з моделями GitHub (.NET)\n",
    "\n",
    "## 📋 Навчальні цілі\n",
    "\n",
    "Цей блокнот демонструє шаблони дизайну корпоративного рівня для створення інтелектуальних агентів за допомогою Microsoft Agent Framework у .NET з інтеграцією моделей GitHub. Ви дізнаєтеся про професійні шаблони та архітектурні підходи, які роблять агентів готовими до виробництва, зручними для підтримки та масштабованими.\n",
    "\n",
    "**Корпоративні шаблони дизайну:**\n",
    "- 🏭 **Шаблон фабрики**: Стандартизоване створення агентів із використанням впровадження залежностей\n",
    "- 🔧 **Шаблон будівельника**: Гнучка конфігурація та налаштування агентів\n",
    "- 🧵 **Потокобезпечні шаблони**: Управління паралельними розмовами\n",
    "- 📋 **Шаблон репозиторію**: Організоване управління інструментами та можливостями\n",
    "\n",
    "## 🎯 Архітектурні переваги .NET\n",
    "\n",
    "### Корпоративні функції\n",
    "- **Сильна типізація**: Перевірка під час компіляції та підтримка IntelliSense\n",
    "- **Впровадження залежностей**: Вбудована інтеграція контейнера DI\n",
    "- **Управління конфігурацією**: Шаблони IConfiguration та Options\n",
    "- **Async/Await**: Підтримка асинхронного програмування першого класу\n",
    "\n",
    "### Шаблони, готові до виробництва\n",
    "- **Інтеграція журналювання**: Підтримка ILogger та структурованого журналювання\n",
    "- **Перевірка стану**: Вбудований моніторинг і діагностика\n",
    "- **Перевірка конфігурації**: Сильна типізація з анотаціями даних\n",
    "- **Обробка помилок**: Структуроване управління винятками\n",
    "\n",
    "## 🔧 Технічна архітектура\n",
    "\n",
    "### Основні компоненти .NET\n",
    "- **Microsoft.Extensions.AI**: Уніфіковані абстракції AI-сервісів\n",
    "- **Microsoft.Agents.AI**: Корпоративна платформа оркестрації агентів\n",
    "- **Інтеграція моделей GitHub**: Шаблони клієнтів API високої продуктивності\n",
    "- **Система конфігурації**: Інтеграція appsettings.json та середовища\n",
    "\n",
    "### Реалізація шаблонів дизайну\n",
    "```csharp\n",
    "IServiceCollection → Agent Builder → Configuration → Tool Registry → AI Agent\n",
    "```\n",
    "\n",
    "## 🏗️ Демонстрація корпоративних шаблонів\n",
    "\n",
    "### 1. **Шаблони створення**\n",
    "- **Фабрика агентів**: Централізоване створення агентів із узгодженою конфігурацією\n",
    "- **Шаблон будівельника**: Гнучкий API для складної конфігурації агентів\n",
    "- **Шаблон одинички**: Управління спільними ресурсами та конфігурацією\n",
    "- **Впровадження залежностей**: Слабке зв’язування та тестованість\n",
    "\n",
    "### 2. **Шаблони поведінки**\n",
    "- **Шаблон стратегії**: Змінні стратегії виконання інструментів\n",
    "- **Шаблон команди**: Інкапсульовані операції агентів із функціями скасування/повтору\n",
    "- **Шаблон спостерігача**: Управління життєвим циклом агентів на основі подій\n",
    "- **Шаблон методу шаблону**: Стандартизовані робочі процеси виконання агентів\n",
    "\n",
    "### 3. **Структурні шаблони**\n",
    "- **Шаблон адаптера**: Інтеграційний шар API моделей GitHub\n",
    "- **Шаблон декоратора**: Розширення можливостей агентів\n",
    "- **Шаблон фасаду**: Спрощені інтерфейси взаємодії з агентами\n",
    "- **Шаблон проксі**: Ледаче завантаження та кешування для продуктивності\n",
    "\n",
    "## ⚙️ Попередні вимоги та налаштування\n",
    "\n",
    "**Середовище розробки:**\n",
    "- .NET 9.0 SDK або новіший\n",
    "- Visual Studio 2022 або VS Code з розширенням C#\n",
    "- Доступ до API моделей GitHub\n",
    "\n",
    "**Залежності NuGet:**\n",
    "```xml\n",
    "<PackageReference Include=\"Microsoft.Extensions.AI\" Version=\"9.9.0\" />\n",
    "<PackageReference Include=\"Microsoft.Extensions.AI.OpenAI\" Version=\"9.9.0-preview.1.25458.4\" />\n",
    "<PackageReference Include=\"DotNetEnv\" Version=\"3.1.1\" />\n",
    "```\n",
    "\n",
    "**Конфігурація (.env файл):**\n",
    "```env\n",
    "GITHUB_TOKEN=your_github_personal_access_token\n",
    "GITHUB_ENDPOINT=https://models.inference.ai.azure.com\n",
    "GITHUB_MODEL_ID=gpt-4o-mini\n",
    "```\n",
    "\n",
    "## 📚 Принципи дизайну .NET\n",
    "\n",
    "### Принципи SOLID\n",
    "- **Принцип єдиної відповідальності**: Кожен компонент має одну чітку мету\n",
    "- **Принцип відкритості/закритості**: Розширюваність без модифікації\n",
    "- **Принцип підстановки Лісков**: Реалізації інструментів на основі інтерфейсів\n",
    "- **Принцип сегрегації інтерфейсів**: Сфокусовані, узгоджені інтерфейси\n",
    "- **Принцип інверсії залежностей**: Залежність від абстракцій, а не конкретних реалізацій\n",
    "\n",
    "### Чиста архітектура\n",
    "- **Доменний рівень**: Основні абстракції агентів та інструментів\n",
    "- **Рівень застосунку**: Оркестрація агентів та робочі процеси\n",
    "- **Інфраструктурний рівень**: Інтеграція моделей GitHub та зовнішніх сервісів\n",
    "- **Рівень презентації**: Взаємодія з користувачем та форматування відповідей\n",
    "\n",
    "## 🔒 Корпоративні аспекти\n",
    "\n",
    "### Безпека\n",
    "- **Управління обліковими даними**: Безпечна обробка ключів API за допомогою IConfiguration\n",
    "- **Валідація вводу**: Сильна типізація та перевірка з анотаціями даних\n",
    "- **Санітизація виводу**: Безпечна обробка та фільтрація відповідей\n",
    "- **Журналювання аудиту**: Комплексне відстеження операцій\n",
    "\n",
    "### Продуктивність\n",
    "- **Асинхронні шаблони**: Неблокуючі операції вводу/виводу\n",
    "- **Пулінг з'єднань**: Ефективне управління HTTP-клієнтами\n",
    "- **Кешування**: Кешування відповідей для покращення продуктивності\n",
    "- **Управління ресурсами**: Правильне звільнення та очищення ресурсів\n",
    "\n",
    "### Масштабованість\n",
    "- **Потокобезпека**: Підтримка паралельного виконання агентів\n",
    "- **Пулінг ресурсів**: Ефективне використання ресурсів\n",
    "- **Управління навантаженням**: Обмеження швидкості та обробка зворотного тиску\n",
    "- **Моніторинг**: Метрики продуктивності та перевірка стану\n",
    "\n",
    "## 🚀 Розгортання у виробництві\n",
    "\n",
    "- **Управління конфігурацією**: Налаштування, специфічні для середовища\n",
    "- **Стратегія журналювання**: Структуроване журналювання з ідентифікаторами кореляції\n",
    "- **Обробка помилок**: Глобальне управління винятками з належним відновленням\n",
    "- **Моніторинг**: Application Insights та лічильники продуктивності\n",
    "- **Тестування**: Шаблони модульного тестування, інтеграційного тестування та тестування навантаження\n",
    "\n",
    "Готові створювати інтелектуальних агентів корпоративного рівня з .NET? Давайте спроектуємо щось надійне! 🏢✨\n"
   ]
  },
  {
   "cell_type": "code",
   "execution_count": 1,
   "id": "2770ac5c",
   "metadata": {
    "language_info": {
     "name": "polyglot-notebook"
    },
    "polyglot_notebook": {
     "kernelName": "csharp"
    }
   },
   "outputs": [
    {
     "data": {
      "text/html": [
       "<div><div></div><div></div><div><strong>Installed Packages</strong><ul><li><span>Microsoft.Extensions.AI, 9.9.1</span></li></ul></div></div>"
      ]
     },
     "metadata": {},
     "output_type": "display_data"
    }
   ],
   "source": [
    "#r \"nuget: Microsoft.Extensions.AI, 9.9.1\""
   ]
  },
  {
   "cell_type": "code",
   "execution_count": null,
   "id": "984ff6cd",
   "metadata": {
    "language_info": {
     "name": "polyglot-notebook"
    },
    "polyglot_notebook": {
     "kernelName": "csharp"
    }
   },
   "outputs": [
    {
     "data": {
      "text/html": [
       "<div><div></div><div></div><div><strong>Installed Packages</strong><ul><li><span>Microsoft.Agents.AI.OpenAI, 1.0.0-preview.251001.2</span></li></ul></div></div>"
      ]
     },
     "metadata": {},
     "output_type": "display_data"
    }
   ],
   "source": [
    "#r \"nuget: Microsoft.Agents.AI.OpenAI, 1.0.0-preview.251001.3\""
   ]
  },
  {
   "cell_type": "code",
   "execution_count": null,
   "id": "0ab71360",
   "metadata": {
    "language_info": {
     "name": "polyglot-notebook"
    },
    "polyglot_notebook": {
     "kernelName": "csharp"
    }
   },
   "outputs": [
    {
     "data": {
      "text/html": [
       "<div><div></div><div></div><div><strong>Installed Packages</strong><ul><li><span>microsoft.agents.ai, 1.0.0-preview.251001.2</span></li></ul></div></div>"
      ]
     },
     "metadata": {},
     "output_type": "display_data"
    }
   ],
   "source": [
    "\n",
    "\n",
    "#r \"nuget: Microsoft.Agents.AI, 1.0.0-preview.251001.3\""
   ]
  },
  {
   "cell_type": "code",
   "execution_count": 4,
   "id": "4ab7b15d",
   "metadata": {
    "language_info": {
     "name": "polyglot-notebook"
    },
    "polyglot_notebook": {
     "kernelName": "csharp"
    }
   },
   "outputs": [],
   "source": [
    "// #r \"nuget: Microsoft.Extensions.AI.OpenAI, 9.9.0-preview.1.25458.4\""
   ]
  },
  {
   "cell_type": "code",
   "execution_count": 5,
   "id": "3fa8aa21",
   "metadata": {
    "language_info": {
     "name": "polyglot-notebook"
    },
    "polyglot_notebook": {
     "kernelName": "csharp"
    }
   },
   "outputs": [
    {
     "data": {
      "text/html": [
       "<div><div></div><div></div><div><strong>Installed Packages</strong><ul><li><span>DotNetEnv, 3.1.1</span></li></ul></div></div>"
      ]
     },
     "metadata": {},
     "output_type": "display_data"
    }
   ],
   "source": [
    "#r \"nuget: DotNetEnv, 3.1.1\""
   ]
  },
  {
   "cell_type": "code",
   "execution_count": 6,
   "id": "fc8ee8ea",
   "metadata": {
    "language_info": {
     "name": "polyglot-notebook"
    },
    "polyglot_notebook": {
     "kernelName": "csharp"
    }
   },
   "outputs": [],
   "source": [
    "using System;\n",
    "using System.ComponentModel;\n",
    "using System.ClientModel;\n",
    "\n",
    "using Microsoft.Extensions.AI;\n",
    "using Microsoft.Agents.AI;\n",
    "using OpenAI;"
   ]
  },
  {
   "cell_type": "code",
   "execution_count": 7,
   "id": "699b1c83",
   "metadata": {
    "language_info": {
     "name": "polyglot-notebook"
    },
    "polyglot_notebook": {
     "kernelName": "csharp"
    }
   },
   "outputs": [],
   "source": [
    " using DotNetEnv;"
   ]
  },
  {
   "cell_type": "code",
   "execution_count": 8,
   "id": "daa649a0",
   "metadata": {
    "language_info": {
     "name": "polyglot-notebook"
    },
    "polyglot_notebook": {
     "kernelName": "csharp"
    }
   },
   "outputs": [],
   "source": [
    "Env.Load(\"../../../.env\");"
   ]
  },
  {
   "cell_type": "code",
   "execution_count": 9,
   "id": "29661a90",
   "metadata": {
    "language_info": {
     "name": "polyglot-notebook"
    },
    "polyglot_notebook": {
     "kernelName": "csharp"
    }
   },
   "outputs": [],
   "source": [
    "[Description(\"Provides a random vacation destination.\")]\n",
    "static string GetRandomDestination()\n",
    "{\n",
    "    var destinations = new List<string>\n",
    "    {\n",
    "        \"Paris, France\",\n",
    "        \"Tokyo, Japan\",\n",
    "        \"New York City, USA\",\n",
    "        \"Sydney, Australia\",\n",
    "        \"Rome, Italy\",\n",
    "        \"Barcelona, Spain\",\n",
    "        \"Cape Town, South Africa\",\n",
    "        \"Rio de Janeiro, Brazil\",\n",
    "        \"Bangkok, Thailand\",\n",
    "        \"Vancouver, Canada\"\n",
    "    };\n",
    "\n",
    "    var random = new Random();\n",
    "    int index = random.Next(destinations.Count);\n",
    "    return destinations[index];\n",
    "}"
   ]
  },
  {
   "cell_type": "code",
   "execution_count": 10,
   "id": "d2ed1f8b",
   "metadata": {
    "language_info": {
     "name": "polyglot-notebook"
    },
    "polyglot_notebook": {
     "kernelName": "csharp"
    }
   },
   "outputs": [],
   "source": [
    "var github_endpoint = Environment.GetEnvironmentVariable(\"GITHUB_ENDPOINT\") ?? throw new InvalidOperationException(\"GITHUB_ENDPOINT is not set.\");\n",
    "var github_model_id = Environment.GetEnvironmentVariable(\"GITHUB_MODEL_ID\") ?? \"gpt-4o-mini\";\n",
    "var github_token = Environment.GetEnvironmentVariable(\"GITHUB_TOKEN\") ?? throw new InvalidOperationException(\"GITHUB_TOKEN is not set.\");"
   ]
  },
  {
   "cell_type": "code",
   "execution_count": 11,
   "id": "c36c73e1",
   "metadata": {
    "language_info": {
     "name": "polyglot-notebook"
    },
    "polyglot_notebook": {
     "kernelName": "csharp"
    }
   },
   "outputs": [],
   "source": [
    "var openAIOptions = new OpenAIClientOptions()\n",
    "{\n",
    "    Endpoint= new Uri(github_endpoint)\n",
    "};"
   ]
  },
  {
   "cell_type": "code",
   "execution_count": 12,
   "id": "6d94ff10",
   "metadata": {
    "language_info": {
     "name": "polyglot-notebook"
    },
    "polyglot_notebook": {
     "kernelName": "csharp"
    }
   },
   "outputs": [],
   "source": [
    "\n",
    "var openAIClient = new OpenAIClient(new ApiKeyCredential(github_token), openAIOptions);"
   ]
  },
  {
   "cell_type": "code",
   "execution_count": 13,
   "id": "fe32b57a",
   "metadata": {
    "language_info": {
     "name": "polyglot-notebook"
    },
    "polyglot_notebook": {
     "kernelName": "csharp"
    }
   },
   "outputs": [],
   "source": [
    "AIAgent agent = new OpenAIClient(new ApiKeyCredential(github_token), openAIOptions).GetChatClient(github_model_id).CreateAIAgent(\n",
    "    instructions:\"You are a helpful AI Agent that can help plan vacations for customers at random destinations\", tools: [AIFunctionFactory.Create((Func<string>)GetRandomDestination)]);"
   ]
  },
  {
   "cell_type": "code",
   "execution_count": 14,
   "metadata": {
    "language_info": {
     "name": "polyglot-notebook"
    },
    "polyglot_notebook": {
     "kernelName": "csharp"
    }
   },
   "outputs": [],
   "source": [
    "AgentThread thread = agent.GetNewThread();"
   ]
  },
  {
   "cell_type": "code",
   "execution_count": 15,
   "id": "5e455aff",
   "metadata": {
    "language_info": {
     "name": "polyglot-notebook"
    },
    "polyglot_notebook": {
     "kernelName": "csharp"
    }
   },
   "outputs": [
    {
     "name": "stdout",
     "output_type": "stream",
     "text": [
      "How about a day trip to Vancouver, Canada? Here's a suggested itinerary for your day:\n",
      "\n",
      "### Morning\n",
      "- **Breakfast at a Local Cafe**: Start your day with a delicious breakfast at a cozy café like **Jam Cafe** or **Cafe Medina**.\n",
      "- **Stanley Park**: After breakfast, head to Stanley Park. You can rent a bike and ride along the seawall, enjoying beautiful views of the city and the water.\n",
      "\n",
      "### Afternoon\n",
      "- **Lunch in Gastown**: Make your way to Gastown for lunch. Try a local favorite like **The Flying Pig** or **Noodle Box**.\n",
      "- **Explore Gastown**: After lunch, walk around Gastown to see the iconic Steam Clock and browse the unique shops and boutiques.\n",
      "\n",
      "### Late Afternoon\n",
      "- **Granville Island**: Visit Granville Island, where you can stroll through the public market, sample local foods, and enjoy artisan shops.\n",
      "- **False Creek**: Take a walk along False Creek and enjoy the waterfront views.\n",
      "\n",
      "### Evening\n",
      "- **Dinner at a Waterfront Restaurant**: End your day with dinner at a waterfront restaurant like **The Boathouse** or **Lift Bar Grill View** for great food and a view of the sunset.\n",
      "- **Optional: Sunset Cruise**: If you're up for it, consider taking a sunset cruise for a different perspective of the city.\n",
      "\n",
      "### Tips\n",
      "- Make sure to check the weather beforehand!\n",
      "- Consider public transport or ride-sharing to navigate the city easily.\n",
      "\n",
      "Enjoy your day trip to Vancouver!\r\n"
     ]
    }
   ],
   "source": [
    "Console.WriteLine(await agent.RunAsync(\"Plan me a day trip\",thread));"
   ]
  },
  {
   "cell_type": "code",
   "execution_count": 16,
   "id": "592ae1bb",
   "metadata": {
    "language_info": {
     "name": "polyglot-notebook"
    },
    "polyglot_notebook": {
     "kernelName": "csharp"
    }
   },
   "outputs": [
    {
     "name": "stdout",
     "output_type": "stream",
     "text": [
      "How about a vacation to New York City, USA? Here's a suggested itinerary for your trip:\n",
      "\n",
      "### Day 1: Arrival in New York City\n",
      "- **Check-In**: Arrive and check in to your hotel.\n",
      "- **Central Park**: Take a leisurely stroll through Central Park. Consider renting a bike or taking a carriage ride.\n",
      "- **Evening**: Enjoy dinner at a classic NYC restaurant, such as **Katz's Delicatessen** or **Carbone**.\n",
      "\n",
      "### Day 2: Iconic Landmarks\n",
      "- **Morning**: Breakfast at a local diner.\n",
      "- **Statue of Liberty & Ellis Island**: Take a ferry to visit these iconic landmarks.\n",
      "- **Afternoon**: Explore Wall Street and visit the 9/11 Memorial & Museum.\n",
      "- **Evening**: Dinner in the Financial District followed by a walk across the Brooklyn Bridge at sunset.\n",
      "\n",
      "### Day 3: Culture and Arts\n",
      "- **Morning**: Visit The Metropolitan Museum of Art (The Met) and spend a few hours exploring its vast collection.\n",
      "- **Afternoon**: Head to Times Square for lunch and the buzz of the city.\n",
      "- **Broadway Show**: Catch a Broadway show in the evening. Be sure to book tickets in advance!\n",
      "\n",
      "### Day 4: Explore Neighborhoods\n",
      "- **Morning**: Head to SoHo for brunch and shopping in its chic boutiques.\n",
      "- **Afternoon**: Explore Greenwich Village, known for its bohemian atmosphere and history.\n",
      "- **Evening**: Enjoy dinner in the West Village, perhaps at **Buvette** or **Minetta Tavern**.\n",
      "\n",
      "### Day 5: Departure\n",
      "- **Last-minute Shopping**: Spend your last morning shopping at Fifth Avenue or head to Chelsea Market for food and souvenirs.\n",
      "- **Check-Out**: Depart for your journey home.\n",
      "\n",
      "### Tips\n",
      "- Utilize the subway for efficient travel around the city.\n",
      "- Make reservations for popular restaurants and attractions ahead of time!\n",
      "\n",
      "Enjoy your trip to New York City!\r\n"
     ]
    }
   ],
   "source": [
    "Console.WriteLine(await agent.RunAsync(\"I don't like that destination. Plan me another vacation.\",thread));"
   ]
  },
  {
   "cell_type": "markdown",
   "metadata": {},
   "source": [
    "\n---\n\n**Відмова від відповідальності**:  \nЦей документ був перекладений за допомогою сервісу автоматичного перекладу [Co-op Translator](https://github.com/Azure/co-op-translator). Хоча ми прагнемо до точності, будь ласка, зверніть увагу, що автоматичні переклади можуть містити помилки або неточності. Оригінальний документ на його рідній мові слід вважати авторитетним джерелом. Для критичної інформації рекомендується професійний людський переклад. Ми не несемо відповідальності за будь-які непорозуміння або неправильні тлумачення, що виникають внаслідок використання цього перекладу.\n"
   ]
  }
 ],
 "metadata": {
  "kernelspec": {
   "display_name": ".NET (C#)",
   "language": "C#",
   "name": ".net-csharp"
  },
  "language_info": {
   "name": "polyglot-notebook"
  },
  "polyglot_notebook": {
   "kernelInfo": {
    "defaultKernelName": "csharp",
    "items": [
     {
      "aliases": [],
      "name": "csharp"
     }
    ]
   }
  },
  "coopTranslator": {
   "original_hash": "070c1d8985b3dc6e6d977f3e891037f1",
   "translation_date": "2025-10-02T06:25:12+00:00",
   "source_file": "03-agentic-design-patterns/code_samples/03-dotnet-agent-framework.ipynb",
   "language_code": "uk"
  }
 },
 "nbformat": 4,
 "nbformat_minor": 5
}