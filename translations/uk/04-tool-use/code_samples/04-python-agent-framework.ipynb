{
 "cells": [
  {
   "cell_type": "markdown",
   "id": "8744544f",
   "metadata": {},
   "source": [
    "# 🛠️ Розширене використання інструментів із моделями GitHub (Python)\n",
    "\n",
    "## 📋 Навчальні цілі\n",
    "\n",
    "Цей блокнот демонструє розширені шаблони інтеграції інструментів за допомогою Microsoft Agent Framework із моделями GitHub. Ви навчитеся створювати, керувати та оркеструвати кілька інструментів для побудови складних можливостей агентів.\n",
    "\n",
    "**Що ви освоїте:**\n",
    "- 🔧 **Архітектура з багатьма інструментами**: Створення агентів із кількома спеціалізованими інструментами\n",
    "- 🎯 **Логіка вибору інструментів**: Як агенти обирають правильний інструмент для кожного завдання\n",
    "- 📊 **Інструменти обробки даних**: Створення інструментів для роботи з різними типами даних\n",
    "- 🔗 **Композиція інструментів**: Поєднання інструментів для складних робочих процесів\n",
    "\n",
    "## 🎯 Основні шаблони інструментів\n",
    "\n",
    "### Принципи дизайну інструментів\n",
    "- **Єдина відповідальність**: Кожен інструмент має чітку, сфокусовану мету\n",
    "- **Типова безпека**: Сильна типізація для надійного виконання інструментів\n",
    "- **Обробка помилок**: Гнучкі шаблони відмови та відновлення\n",
    "- **Композиційність**: Інструменти, які добре працюють разом\n",
    "\n",
    "### Розширені функції інструментів\n",
    "- **Контекстна обізнаність**: Інструменти, які розуміють контекст розмови\n",
    "- **Валідація даних**: Санітарна обробка введення та перевірка вихідних даних\n",
    "- **Оптимізація продуктивності**: Ефективні шаблони виконання інструментів\n",
    "- **Розширюваність**: Легке додавання нових можливостей інструментів\n",
    "\n",
    "## 🔧 Технічна архітектура\n",
    "\n",
    "### Основні компоненти\n",
    "- **Microsoft Agent Framework**: Реалізація на Python із підтримкою розширених інструментів\n",
    "- **Інтеграція моделей GitHub**: Доступ до високопродуктивних мовних моделей\n",
    "- **Система реєстрації інструментів**: Організоване управління можливостями агентів\n",
    "- **Шаблони відновлення після помилок**: Надійна обробка збоїв виконання інструментів\n",
    "\n",
    "### Потік інтеграції інструментів\n",
    "```python\n",
    "User Request → Agent Analysis → Tool Selection → Tool Execution → Response Synthesis\n",
    "```\n",
    "\n",
    "## 🛠️ Категорії інструментів, що демонструються\n",
    "\n",
    "### 1. **Інструменти генерації даних**\n",
    "- Генератор випадкових напрямків\n",
    "- Постачальник інформації про погоду  \n",
    "- Калькулятор вартості подорожі\n",
    "- Двигун рекомендацій активностей\n",
    "\n",
    "### 2. **Інструменти обробки**\n",
    "- Форматування та перевірка тексту\n",
    "- Утиліти трансформації даних\n",
    "- Функції аналізу контенту\n",
    "- Інструменти покращення відповідей\n",
    "\n",
    "### 3. **Інтеграційні інструменти**\n",
    "- Коннектори зовнішніх API\n",
    "- Операції з файловою системою\n",
    "- Інтерфейси запитів до баз даних\n",
    "- Утиліти веб-скрапінгу\n",
    "\n",
    "## ⚙️ Попередні вимоги та налаштування\n",
    "\n",
    "**Необхідні залежності:**\n",
    "```bash\n",
    "\n",
    "pip install agent-framework-core -U\n",
    "```\n",
    "\n",
    "**Конфігурація середовища (.env файл):**\n",
    "```env\n",
    "GITHUB_TOKEN=your_github_personal_access_token\n",
    "GITHUB_ENDPOINT=https://models.inference.ai.azure.com\n",
    "GITHUB_MODEL_ID=gpt-4o-mini\n",
    "```\n",
    "\n",
    "**Додаткові API:**\n",
    "- Ключ API сервісу погоди (для інструментів погоди)\n",
    "- Доступ до API конвертації валют\n",
    "- Облікові дані сервісу інформації про подорожі\n",
    "\n",
    "## 🎨 Шаблони дизайну\n",
    "\n",
    "### Шаблон фабрики інструментів\n",
    "- Централізоване створення та конфігурація інструментів\n",
    "- Узгоджений дизайн інтерфейсу інструментів\n",
    "- Легка реєстрація та пошук інструментів\n",
    "\n",
    "### Шаблон команди\n",
    "- Інкапсульована логіка виконання інструментів\n",
    "- Функціональність скасування/повтору для складних операцій\n",
    "- Журнал аудиту використання інструментів\n",
    "\n",
    "### Шаблон спостерігача\n",
    "- Моніторинг виконання інструментів\n",
    "- Збір метрик продуктивності\n",
    "- Звітування про помилки та оповіщення\n",
    "\n",
    "## 🚀 Найкращі практики\n",
    "\n",
    "- **Документація інструментів**: Чіткі описи для розуміння агентом\n",
    "- **Валідація введення**: Надійна перевірка параметрів і санітарна обробка\n",
    "- **Форматування вихідних даних**: Узгоджені, парсовані відповіді інструментів\n",
    "- **Повідомлення про помилки**: Корисна інформація про помилки для налагодження\n",
    "- **Продуктивність**: Оптимізоване виконання інструментів для швидкої реакції\n",
    "\n",
    "Готові створювати агентів із потужними можливостями інструментів? Давайте створимо щось неймовірне! ⚡\n"
   ]
  },
  {
   "cell_type": "code",
   "execution_count": null,
   "id": "59c0feeb",
   "metadata": {},
   "outputs": [],
   "source": [
    "! pip install agent-framework-core -U"
   ]
  },
  {
   "cell_type": "code",
   "execution_count": null,
   "id": "c0df8a52",
   "metadata": {},
   "outputs": [],
   "source": [
    "# � Import core dependencies for Agent Framework and tool integration\n",
    "# This sets up the essential libraries for building intelligent agents with tool capabilities\n",
    "\n",
    "import asyncio\n",
    "import os\n",
    "import json\n",
    "\n",
    "from dotenv import load_dotenv  # For loading environment variables securely\n",
    "from random import randint\n",
    "\n",
    "# These are the core components for building tool-enabled agents\n",
    "from agent_framework import ChatAgent           # Main agent class\n",
    "from agent_framework.openai import OpenAIChatClient  # OpenAI-compatible client"
   ]
  },
  {
   "cell_type": "code",
   "execution_count": null,
   "id": "24c10eb0",
   "metadata": {},
   "outputs": [],
   "source": [
    "load_dotenv()"
   ]
  },
  {
   "cell_type": "code",
   "execution_count": null,
   "id": "151e0314",
   "metadata": {},
   "outputs": [],
   "source": [
    "# 🔑 Environment variables verification\n",
    "# Ensure all required GitHub Models credentials are properly configured\n",
    "print(\"GITHUB_ENDPOINT:\", os.environ.get(\"GITHUB_ENDPOINT\"))\n",
    "print(\"GITHUB_TOKEN:\", \"***\" if os.environ.get(\"GITHUB_TOKEN\") else \"Not set\")\n",
    "print(\"GITHUB_MODEL_ID:\", os.environ.get(\"GITHUB_MODEL_ID\"))"
   ]
  },
  {
   "cell_type": "code",
   "execution_count": null,
   "id": "a6141584",
   "metadata": {},
   "outputs": [],
   "source": [
    "# 🧪 Test GitHub Models connectivity\n",
    "openai_chat_client = OpenAIChatClient(base_url=os.environ.get(\"GITHUB_ENDPOINT\"), api_key=os.environ.get(\"GITHUB_TOKEN\"), model_id=os.environ.get(\"GITHUB_MODEL_ID\"))"
   ]
  },
  {
   "cell_type": "code",
   "execution_count": null,
   "id": "a6507f83",
   "metadata": {},
   "outputs": [],
   "source": [
    "# 🛠️ Define travel planning tools for agent integration\n",
    "# These functions provide specific capabilities that the agent can invoke dynamically\n",
    "\n",
    "def get_random_destination() -> str:\n",
    "    \"\"\"\n",
    "    🎲 Random destination generator tool\n",
    "    Returns a randomly selected travel destination from curated list\n",
    "    Useful when customers need inspiration for their next vacation\n",
    "    \"\"\"\n",
    "    destinations = [\n",
    "        \"Paris, France\",\n",
    "        \"Tokyo, Japan\", \n",
    "        \"New York City, USA\",\n",
    "        \"London, England\",\n",
    "        \"Rome, Italy\",\n",
    "        \"Sydney, Australia\",\n",
    "        \"Dubai, UAE\",\n",
    "        \"Barcelona, Spain\",\n",
    "        \"Bangkok, Thailand\",\n",
    "        \"Amsterdam, Netherlands\",\n",
    "        \"Istanbul, Turkey\",\n",
    "        \"Prague, Czech Republic\",\n",
    "        \"Santorini, Greece\",\n",
    "        \"Reykjavik, Iceland\",\n",
    "        \"Marrakech, Morocco\",\n",
    "        \"Cape Town, South Africa\",\n",
    "        \"Rio de Janeiro, Brazil\",\n",
    "        \"Bali, Indonesia\"\n",
    "    ]\n",
    "    # 🎯 Return random selection from the curated destination list\n",
    "    return destinations[randint(0, len(destinations) - 1)]"
   ]
  },
  {
   "cell_type": "code",
   "execution_count": null,
   "id": "5d4f0568",
   "metadata": {},
   "outputs": [],
   "source": [
    "# 🔗 Initialize GitHub Models chat client for agent communication\n",
    "# Creates the primary interface between the agent and the language model\n",
    "openai_chat_client = OpenAIChatClient(base_url=os.environ.get(\"GITHUB_ENDPOINT\"), api_key=os.environ.get(\"GITHUB_TOKEN\"), model_id=os.environ.get(\"GITHUB_MODEL_ID\"))"
   ]
  },
  {
   "cell_type": "code",
   "execution_count": null,
   "id": "751668c5",
   "metadata": {},
   "outputs": [],
   "source": [
    "# 🤖 Configure travel agent identity and behavioral instructions\n",
    "# Define the agent's personality, capabilities, and operational guidelines\n",
    "\n",
    "AGENT_NAME = \"TravelAgent\"\n",
    "\n",
    "AGENT_INSTRUCTIONS = \"\"\"You are a helpful AI Agent that can help plan vacations for customers at random destinations\n",
    "\"\"\""
   ]
  },
  {
   "cell_type": "code",
   "execution_count": null,
   "id": "be18ac4f",
   "metadata": {},
   "outputs": [],
   "source": [
    "agent = ChatAgent(\n",
    "        name = AGENT_NAME,\n",
    "        chat_client=openai_chat_client,\n",
    "        instructions=AGENT_INSTRUCTIONS,\n",
    "        tools=[get_random_destination]\n",
    ")"
   ]
  },
  {
   "cell_type": "code",
   "execution_count": null,
   "id": "772e9481",
   "metadata": {},
   "outputs": [],
   "source": [
    "thread = agent.get_new_thread()"
   ]
  },
  {
   "cell_type": "code",
   "execution_count": null,
   "id": "a731b547",
   "metadata": {},
   "outputs": [],
   "source": [
    "response1 = await agent.run(\"Plan me a day trip\",thread= thread)"
   ]
  },
  {
   "cell_type": "code",
   "execution_count": null,
   "id": "7d3fe00a",
   "metadata": {},
   "outputs": [],
   "source": [
    "\n",
    "last_message = response1.messages[-1]\n",
    "text_content = last_message.contents[0].text\n",
    "print(\"Travel plan:\")\n",
    "print(text_content)"
   ]
  },
  {
   "cell_type": "markdown",
   "metadata": {},
   "source": [
    "\n---\n\n**Відмова від відповідальності**:  \nЦей документ був перекладений за допомогою сервісу автоматичного перекладу [Co-op Translator](https://github.com/Azure/co-op-translator). Хоча ми прагнемо до точності, будь ласка, майте на увазі, що автоматичні переклади можуть містити помилки або неточності. Оригінальний документ на його рідній мові слід вважати авторитетним джерелом. Для критичної інформації рекомендується професійний людський переклад. Ми не несемо відповідальності за будь-які непорозуміння або неправильні тлумачення, що виникають внаслідок використання цього перекладу.\n"
   ]
  }
 ],
 "metadata": {
  "kernelspec": {
   "display_name": "agentenv",
   "language": "python",
   "name": "python3"
  },
  "language_info": {
   "codemirror_mode": {
    "name": "ipython",
    "version": 3
   },
   "file_extension": ".py",
   "mimetype": "text/x-python",
   "name": "python",
   "nbconvert_exporter": "python",
   "pygments_lexer": "ipython3",
   "version": "3.12.10"
  },
  "polyglot_notebook": {
   "kernelInfo": {
    "defaultKernelName": "csharp",
    "items": [
     {
      "aliases": [],
      "name": "csharp"
     }
    ]
   }
  },
  "coopTranslator": {
   "original_hash": "42966ddac53cebaf0ac1ce33b2ee7059",
   "translation_date": "2025-10-02T06:20:48+00:00",
   "source_file": "04-tool-use/code_samples/04-python-agent-framework.ipynb",
   "language_code": "uk"
  }
 },
 "nbformat": 4,
 "nbformat_minor": 5
}