{
 "cells": [
  {
   "cell_type": "markdown",
   "id": "44b5899e",
   "metadata": {},
   "source": [
    "# 🔍 Enterprise RAG з Azure AI Foundry (.NET)\n",
    "\n",
    "## 📋 Навчальні цілі\n",
    "\n",
    "Цей блокнот демонструє, як створювати системи Retrieval-Augmented Generation (RAG) корпоративного рівня за допомогою Microsoft Agent Framework у .NET з Azure AI Foundry. Ви навчитеся створювати готових до виробництва агентів, які можуть здійснювати пошук у документах і надавати точні, контекстно-залежні відповіді з корпоративною безпекою та масштабованістю.\n",
    "\n",
    "**Можливості Enterprise RAG, які ви створите:**\n",
    "- 📚 **Інтелектуальна обробка документів**: Розширена обробка документів за допомогою сервісів Azure AI\n",
    "- 🔍 **Семантичний пошук**: Високопродуктивний пошук за векторами з корпоративними функціями\n",
    "- 🛡️ **Інтеграція безпеки**: Рольовий доступ і шаблони захисту даних\n",
    "- 🏢 **Масштабована архітектура**: Системи RAG, готові до виробництва, з моніторингом\n",
    "\n",
    "## 🎯 Архітектура Enterprise RAG\n",
    "\n",
    "### Основні корпоративні компоненти\n",
    "- **Azure AI Foundry**: Керована корпоративна платформа AI з безпекою та відповідністю\n",
    "- **Стійкі агенти**: Агенти зі збереженням стану, історії розмов і управління контекстом\n",
    "- **Управління векторним сховищем**: Індексація та пошук документів корпоративного рівня\n",
    "- **Інтеграція ідентичності**: Аутентифікація Azure AD і контроль доступу на основі ролей\n",
    "\n",
    "### Переваги .NET для корпоративних систем\n",
    "- **Типова безпека**: Перевірка операцій RAG і структур даних на етапі компіляції\n",
    "- **Асинхронна продуктивність**: Неблокуюча обробка документів і операції пошуку\n",
    "- **Управління пам'яттю**: Ефективне використання ресурсів для великих колекцій документів\n",
    "- **Шаблони інтеграції**: Нативна інтеграція сервісів Azure із впровадженням залежностей\n",
    "\n",
    "## 🏗️ Технічна архітектура\n",
    "\n",
    "### Конвеєр Enterprise RAG\n",
    "```csharp\n",
    "Document Upload → Security Validation → Vector Processing → Index Creation\n",
    "                      ↓                    ↓                  ↓\n",
    "User Query → Authentication → Semantic Search → Context Ranking → AI Response\n",
    "```\n",
    "\n",
    "### Основні компоненти .NET\n",
    "- **Azure.AI.Agents.Persistent**: Управління корпоративними агентами зі збереженням стану\n",
    "- **Azure.Identity**: Інтегрована аутентифікація для безпечного доступу до сервісів Azure\n",
    "- **Microsoft.Agents.AI.AzureAI**: Оптимізована для Azure реалізація фреймворку агентів\n",
    "- **System.Linq.Async**: Високопродуктивні асинхронні операції LINQ\n",
    "\n",
    "## 🔧 Корпоративні функції та переваги\n",
    "\n",
    "### Безпека та відповідність\n",
    "- **Інтеграція Azure AD**: Управління корпоративною ідентичністю та аутентифікація\n",
    "- **Рольовий доступ**: Тонке налаштування дозволів для доступу до документів і операцій\n",
    "- **Захист даних**: Шифрування даних у стані спокою та під час передачі для конфіденційних документів\n",
    "- **Журналювання**: Повне відстеження активності для вимог відповідності\n",
    "\n",
    "### Продуктивність і масштабованість\n",
    "- **Пул з'єднань**: Ефективне управління з'єднаннями сервісів Azure\n",
    "- **Асинхронна обробка**: Неблокуючі операції для сценаріїв з високою пропускною здатністю\n",
    "- **Стратегії кешування**: Інтелектуальне кешування часто використовуваних документів\n",
    "- **Балансування навантаження**: Розподілена обробка для великих розгортань\n",
    "\n",
    "### Управління та моніторинг\n",
    "- **Перевірка стану**: Вбудований моніторинг компонентів системи RAG\n",
    "- **Метрики продуктивності**: Детальна аналітика якості пошуку та часу відповіді\n",
    "- **Обробка помилок**: Повне управління винятками з політиками повтору\n",
    "- **Управління конфігурацією**: Налаштування для конкретного середовища з перевіркою\n",
    "\n",
    "## ⚙️ Попередні умови та налаштування\n",
    "\n",
    "**Середовище розробки:**\n",
    "- .NET 9.0 SDK або новіший\n",
    "- Visual Studio 2022 або VS Code з розширенням C#\n",
    "- Підписка Azure з доступом до AI Foundry\n",
    "\n",
    "**Необхідні пакети NuGet:**\n",
    "```xml\n",
    "<PackageReference Include=\"Microsoft.Extensions.AI\" Version=\"9.9.0\" />\n",
    "<PackageReference Include=\"Azure.AI.Agents.Persistent\" Version=\"1.2.0-beta.5\" />\n",
    "<PackageReference Include=\"Azure.Identity\" Version=\"1.15.0\" />\n",
    "<PackageReference Include=\"System.Linq.Async\" Version=\"6.0.3\" />\n",
    "<PackageReference Include=\"DotNetEnv\" Version=\"3.1.1\" />\n",
    "```\n",
    "\n",
    "**Налаштування аутентифікації Azure:**\n",
    "```bash\n",
    "# Install Azure CLI and authenticate\n",
    "az login\n",
    "az account set --subscription \"your-subscription-id\"\n",
    "```\n",
    "\n",
    "**Конфігурація середовища (.env файл):**\n",
    "```env\n",
    "# Azure AI Foundry configuration (automatically handled via Azure CLI)\n",
    "# Ensure you're authenticated to the correct Azure subscription\n",
    "```\n",
    "\n",
    "## 📊 Шаблони Enterprise RAG\n",
    "\n",
    "### Шаблони управління документами\n",
    "- **Масове завантаження**: Ефективна обробка великих колекцій документів\n",
    "- **Інкрементні оновлення**: Додавання та модифікація документів у реальному часі\n",
    "- **Контроль версій**: Версіонування документів і відстеження змін\n",
    "- **Управління метаданими**: Розширені атрибути документів і таксономія\n",
    "\n",
    "### Шаблони пошуку та отримання\n",
    "- **Гібридний пошук**: Поєднання семантичного та ключового пошуку для оптимальних результатів\n",
    "- **Фасетний пошук**: Багатовимірна фільтрація та категоризація\n",
    "- **Налаштування релевантності**: Користувацькі алгоритми оцінки для специфічних доменів\n",
    "- **Ранжування результатів**: Розширене ранжування з інтеграцією бізнес-логіки\n",
    "\n",
    "### Шаблони безпеки\n",
    "- **Безпека на рівні документів**: Тонке налаштування доступу до кожного документа\n",
    "- **Класифікація даних**: Автоматичне маркування чутливості та захист\n",
    "- **Журнали аудиту**: Повне журналювання всіх операцій RAG\n",
    "- **Захист конфіденційності**: Виявлення та редагування PII\n",
    "\n",
    "## 🔒 Функції корпоративної безпеки\n",
    "\n",
    "### Аутентифікація та авторизація\n",
    "```csharp\n",
    "// Azure AD integrated authentication\n",
    "var credential = new AzureCliCredential();\n",
    "var agentsClient = new PersistentAgentsClient(endpoint, credential);\n",
    "\n",
    "// Role-based access validation\n",
    "if (!await ValidateUserPermissions(user, documentId))\n",
    "{\n",
    "    throw new UnauthorizedAccessException(\"Insufficient permissions\");\n",
    "}\n",
    "```\n",
    "\n",
    "### Захист даних\n",
    "- **Шифрування**: Шифрування документів і пошукових індексів від початку до кінця\n",
    "- **Контроль доступу**: Інтеграція з Azure AD для дозволів користувачів і груп\n",
    "- **Резиденція даних**: Географічний контроль розташування даних для відповідності\n",
    "- **Резервне копіювання та відновлення**: Автоматизоване резервне копіювання та процедури відновлення\n",
    "\n",
    "## 📈 Оптимізація продуктивності\n",
    "\n",
    "### Шаблони асинхронної обробки\n",
    "```csharp\n",
    "// Efficient async document processing\n",
    "await foreach (var document in documentStream.AsAsyncEnumerable())\n",
    "{\n",
    "    await ProcessDocumentAsync(document, cancellationToken);\n",
    "}\n",
    "```\n",
    "\n",
    "### Управління пам'яттю\n",
    "- **Стримінгова обробка**: Обробка великих документів без проблем із пам'яттю\n",
    "- **Пул ресурсів**: Ефективне повторне використання дорогих ресурсів\n",
    "- **Збір сміття**: Оптимізовані шаблони розподілу пам'яті\n",
    "- **Управління з'єднаннями**: Правильний життєвий цикл з'єднань сервісів Azure\n",
    "\n",
    "### Стратегії кешування\n",
    "- **Кешування запитів**: Кешування часто виконуваних пошуків\n",
    "- **Кешування документів**: Кешування в пам'яті для популярних документів\n",
    "- **Кешування індексів**: Оптимізоване кешування векторних індексів\n",
    "- **Кешування результатів**: Інтелектуальне кешування згенерованих відповідей\n",
    "\n",
    "## 📊 Корпоративні сценарії використання\n",
    "\n",
    "### Управління знаннями\n",
    "- **Корпоративна вікі**: Інтелектуальний пошук у базах знань компанії\n",
    "- **Політики та процедури**: Автоматизоване керівництво з відповідності та процедур\n",
    "- **Навчальні матеріали**: Інтелектуальна допомога в навчанні та розвитку\n",
    "- **Бази даних досліджень**: Системи аналізу академічних і дослідницьких робіт\n",
    "\n",
    "### Підтримка клієнтів\n",
    "- **База знань підтримки**: Автоматизовані відповіді для обслуговування клієнтів\n",
    "- **Документація продукту**: Інтелектуальний пошук інформації про продукт\n",
    "- **Посібники з усунення несправностей**: Контекстна допомога у вирішенні проблем\n",
    "- **Системи FAQ**: Динамічне створення FAQ з колекцій документів\n",
    "\n",
    "### Відповідність нормативним вимогам\n",
    "- **Аналіз юридичних документів**: Інтелектуальна обробка контрактів і юридичних документів\n",
    "- **Моніторинг відповідності**: Автоматизована перевірка відповідності нормативним вимогам\n",
    "- **Оцінка ризиків**: Аналіз ризиків і звітність на основі документів\n",
    "- **Підтримка аудиту**: Інтелектуальне виявлення документів для аудитів\n",
    "\n",
    "## 🚀 Розгортання у виробництві\n",
    "\n",
    "### Моніторинг і спостереження\n",
    "- **Application Insights**: Детальний моніторинг телеметрії та продуктивності\n",
    "- **Користувацькі метрики**: Відстеження KPI, специфічних для бізнесу, і оповіщення\n",
    "- **Розподілене трасування**: Відстеження запитів від початку до кінця між сервісами\n",
    "- **Панелі стану**: Візуалізація стану системи та продуктивності в реальному часі\n",
    "\n",
    "### Масштабованість і надійність\n",
    "- **Автоматичне масштабування**: Автоматичне масштабування на основі навантаження та метрик продуктивності\n",
    "- **Висока доступність**: Розгортання в кількох регіонах із можливостями аварійного перемикання\n",
    "- **Тестування навантаження**: Перевірка продуктивності під корпоративним навантаженням\n",
    "- **Відновлення після аварій**: Автоматизовані процедури резервного копіювання та відновлення\n",
    "\n",
    "Готові створювати системи RAG корпоративного рівня, які можуть обробляти конфіденційні документи в масштабі? Давайте спроектуємо інтелектуальні системи знань для підприємств! 🏢📖✨\n"
   ]
  },
  {
   "cell_type": "code",
   "execution_count": 1,
   "metadata": {
    "language_info": {
     "name": "polyglot-notebook"
    },
    "polyglot_notebook": {
     "kernelName": "csharp"
    }
   },
   "outputs": [
    {
     "data": {
      "text/html": [
       "<div><div></div><div></div><div><strong>Installed Packages</strong><ul><li><span>Microsoft.Extensions.AI, 9.9.1</span></li></ul></div></div>"
      ]
     },
     "metadata": {},
     "output_type": "display_data"
    }
   ],
   "source": [
    "#r \"nuget: Microsoft.Extensions.AI, 9.9.1\""
   ]
  },
  {
   "cell_type": "code",
   "execution_count": 2,
   "id": "4ec1f0d1",
   "metadata": {
    "language_info": {
     "name": "polyglot-notebook"
    },
    "polyglot_notebook": {
     "kernelName": "csharp"
    }
   },
   "outputs": [
    {
     "data": {
      "text/html": [
       "<div><div></div><div></div><div><strong>Installed Packages</strong><ul><li><span>Azure.AI.Agents.Persistent, 1.2.0-beta.5</span></li><li><span>Azure.Identity, 1.15.0</span></li><li><span>System.Linq.Async, 6.0.3</span></li></ul></div></div>"
      ]
     },
     "metadata": {},
     "output_type": "display_data"
    }
   ],
   "source": [
    "#r \"nuget: Azure.AI.Agents.Persistent, 1.2.0-beta.5\"\n",
    "#r \"nuget: Azure.Identity, 1.15.0\"\n",
    "#r \"nuget: System.Linq.Async, 6.0.3\""
   ]
  },
  {
   "cell_type": "code",
   "execution_count": 3,
   "id": "2363ae07",
   "metadata": {
    "language_info": {
     "name": "polyglot-notebook"
    },
    "polyglot_notebook": {
     "kernelName": "csharp"
    }
   },
   "outputs": [],
   "source": []
  },
  {
   "cell_type": "code",
   "execution_count": null,
   "id": "d10cec9d",
   "metadata": {
    "language_info": {
     "name": "polyglot-notebook"
    },
    "polyglot_notebook": {
     "kernelName": "csharp"
    }
   },
   "outputs": [
    {
     "data": {
      "text/html": [
       "<div><div></div><div></div><div><strong>Installed Packages</strong><ul><li><span>Microsoft.Agents.AI.AzureAI, 1.0.0-preview.251001.2</span></li></ul></div></div>"
      ]
     },
     "metadata": {},
     "output_type": "display_data"
    }
   ],
   "source": [
    "#r \"nuget: Microsoft.Agents.AI.AzureAI, 1.0.0-preview.251001.3\""
   ]
  },
  {
   "cell_type": "code",
   "execution_count": null,
   "id": "78199d1c",
   "metadata": {
    "language_info": {
     "name": "polyglot-notebook"
    },
    "polyglot_notebook": {
     "kernelName": "csharp"
    }
   },
   "outputs": [
    {
     "data": {
      "text/html": [
       "<div><div></div><div></div><div><strong>Installed Packages</strong><ul><li><span>microsoft.agents.ai, 1.0.0-preview.251001.2</span></li></ul></div></div>"
      ]
     },
     "metadata": {},
     "output_type": "display_data"
    }
   ],
   "source": [
    "#r \"nuget: Microsoft.Agents.AI, 1.0.0-preview.251001.3\""
   ]
  },
  {
   "cell_type": "code",
   "execution_count": 6,
   "id": "7de4684a",
   "metadata": {
    "language_info": {
     "name": "polyglot-notebook"
    },
    "polyglot_notebook": {
     "kernelName": "csharp"
    }
   },
   "outputs": [
    {
     "data": {
      "text/html": [
       "<div><div></div><div></div><div><strong>Installed Packages</strong><ul><li><span>DotNetEnv, 3.1.1</span></li></ul></div></div>"
      ]
     },
     "metadata": {},
     "output_type": "display_data"
    }
   ],
   "source": [
    "#r \"nuget: DotNetEnv, 3.1.1\""
   ]
  },
  {
   "cell_type": "code",
   "execution_count": 7,
   "id": "251efd31",
   "metadata": {
    "language_info": {
     "name": "polyglot-notebook"
    },
    "polyglot_notebook": {
     "kernelName": "csharp"
    }
   },
   "outputs": [],
   "source": [
    "using System;\n",
    "using System.Linq;\n",
    "using Azure.AI.Agents.Persistent;\n",
    "using Azure.Identity;\n",
    "using Microsoft.Agents.AI;"
   ]
  },
  {
   "cell_type": "code",
   "execution_count": 8,
   "id": "a2e342f1",
   "metadata": {
    "language_info": {
     "name": "polyglot-notebook"
    },
    "polyglot_notebook": {
     "kernelName": "csharp"
    }
   },
   "outputs": [],
   "source": [
    " using DotNetEnv;"
   ]
  },
  {
   "cell_type": "code",
   "execution_count": 9,
   "id": "a7a01653",
   "metadata": {
    "language_info": {
     "name": "polyglot-notebook"
    },
    "polyglot_notebook": {
     "kernelName": "csharp"
    }
   },
   "outputs": [],
   "source": [
    "Env.Load(\"../../../.env\");"
   ]
  },
  {
   "cell_type": "code",
   "execution_count": 10,
   "id": "a42735d5",
   "metadata": {
    "language_info": {
     "name": "polyglot-notebook"
    },
    "polyglot_notebook": {
     "kernelName": "csharp"
    }
   },
   "outputs": [],
   "source": [
    "var azure_foundry_endpoint = Environment.GetEnvironmentVariable(\"AZURE_AI_PROJECT_ENDPOINT\") ?? throw new InvalidOperationException(\"AZURE_AI_PROJECT_ENDPOINT is not set.\");\n",
    "var azure_foundry_model_id = Environment.GetEnvironmentVariable(\"AZURE_AI_MODEL_DEPLOYMENT_NAME\") ?? \"gpt-4.1-mini\";"
   ]
  },
  {
   "cell_type": "code",
   "execution_count": 11,
   "id": "e29bdb58",
   "metadata": {
    "language_info": {
     "name": "polyglot-notebook"
    },
    "polyglot_notebook": {
     "kernelName": "csharp"
    }
   },
   "outputs": [],
   "source": [
    "string pdfPath = \"./document.md\";"
   ]
  },
  {
   "cell_type": "code",
   "execution_count": 12,
   "id": "7351e12d",
   "metadata": {
    "language_info": {
     "name": "polyglot-notebook"
    },
    "polyglot_notebook": {
     "kernelName": "csharp"
    }
   },
   "outputs": [],
   "source": [
    "using System.IO;\n",
    "\n",
    "async Task<Stream> OpenImageStreamAsync(string path)\n",
    "{\n",
    "\treturn await Task.Run(() => File.OpenRead(path));\n",
    "}\n",
    "\n",
    "var pdfStream = await OpenImageStreamAsync(pdfPath);"
   ]
  },
  {
   "cell_type": "code",
   "execution_count": 13,
   "id": "0b6bf484",
   "metadata": {
    "language_info": {
     "name": "polyglot-notebook"
    },
    "polyglot_notebook": {
     "kernelName": "csharp"
    }
   },
   "outputs": [],
   "source": [
    "var persistentAgentsClient = new PersistentAgentsClient(azure_foundry_endpoint, new AzureCliCredential());"
   ]
  },
  {
   "cell_type": "code",
   "execution_count": 14,
   "id": "81e0dddc",
   "metadata": {
    "language_info": {
     "name": "polyglot-notebook"
    },
    "polyglot_notebook": {
     "kernelName": "csharp"
    }
   },
   "outputs": [],
   "source": [
    "PersistentAgentFileInfo fileInfo = await persistentAgentsClient.Files.UploadFileAsync(pdfStream, PersistentAgentFilePurpose.Agents, \"demo.md\");"
   ]
  },
  {
   "cell_type": "code",
   "execution_count": 15,
   "id": "f0c75d80",
   "metadata": {
    "language_info": {
     "name": "polyglot-notebook"
    },
    "polyglot_notebook": {
     "kernelName": "csharp"
    }
   },
   "outputs": [],
   "source": [
    "PersistentAgentsVectorStore fileStore =\n",
    "            await persistentAgentsClient.VectorStores.CreateVectorStoreAsync(\n",
    "                [fileInfo.Id],\n",
    "                metadata: new Dictionary<string, string>() { { \"agentkey\", bool.TrueString } });"
   ]
  },
  {
   "cell_type": "code",
   "execution_count": 16,
   "id": "c77986c5",
   "metadata": {
    "language_info": {
     "name": "polyglot-notebook"
    },
    "polyglot_notebook": {
     "kernelName": "csharp"
    }
   },
   "outputs": [],
   "source": [
    "PersistentAgent agentModel = await persistentAgentsClient.Administration.CreateAgentAsync(\n",
    "            azure_foundry_model_id,\n",
    "            name: \"DotNetRAGAgent\",\n",
    "            tools: [new FileSearchToolDefinition()],\n",
    "            instructions: \"\"\"\n",
    "                You are an AI assistant designed to answer user questions using only the information retrieved from the provided document(s).\n",
    "\n",
    "                - If a user's question cannot be answered using the retrieved context, **you must clearly respond**: \n",
    "                \"I'm sorry, but the uploaded document does not contain the necessary information to answer that question.\"\n",
    "                - Do not answer from general knowledge or reasoning. Do not make assumptions or generate hypothetical explanations.\n",
    "                - Do not provide definitions, tutorials, or commentary that is not explicitly grounded in the content of the uploaded file(s).\n",
    "                - If a user asks a question like \"What is a Neural Network?\", and this is not discussed in the uploaded document, respond as instructed above.\n",
    "                - For questions that do have relevant content in the document (e.g., Contoso's travel insurance coverage), respond accurately, and cite the document explicitly.\n",
    "\n",
    "                You must behave as if you have no external knowledge beyond what is retrieved from the uploaded document.\n",
    "                \"\"\",\n",
    "            toolResources: new()\n",
    "            {\n",
    "                FileSearch = new()\n",
    "                {\n",
    "                    VectorStoreIds = { fileStore.Id },\n",
    "                }\n",
    "            },\n",
    "            metadata: new Dictionary<string, string>() { { \"agentkey\", bool.TrueString } });"
   ]
  },
  {
   "cell_type": "code",
   "execution_count": 17,
   "id": "282326cf",
   "metadata": {
    "language_info": {
     "name": "polyglot-notebook"
    },
    "polyglot_notebook": {
     "kernelName": "csharp"
    }
   },
   "outputs": [],
   "source": [
    "AIAgent agent = await persistentAgentsClient.GetAIAgentAsync(agentModel.Id);"
   ]
  },
  {
   "cell_type": "code",
   "execution_count": 18,
   "id": "2067d313",
   "metadata": {
    "language_info": {
     "name": "polyglot-notebook"
    },
    "polyglot_notebook": {
     "kernelName": "csharp"
    }
   },
   "outputs": [],
   "source": [
    "AgentThread thread = agent.GetNewThread();"
   ]
  },
  {
   "cell_type": "code",
   "execution_count": 19,
   "id": "454c4230",
   "metadata": {
    "language_info": {
     "name": "polyglot-notebook"
    },
    "polyglot_notebook": {
     "kernelName": "csharp"
    }
   },
   "outputs": [
    {
     "name": "stdout",
     "output_type": "stream",
     "text": [
      "Contoso's travel insurance coverage includes protection for medical emergencies, trip cancellations, and lost baggage. This ensures that travelers are supported in case of health-related issues during their trip, unforeseen cancellations, and the loss of their belongings while traveling【4:0†demo.md】.\r\n"
     ]
    }
   ],
   "source": [
    "Console.WriteLine(await agent.RunAsync(\"Can you explain Contoso's travel insurance coverage?\", thread));"
   ]
  },
  {
   "cell_type": "markdown",
   "metadata": {},
   "source": [
    "\n---\n\n**Відмова від відповідальності**:  \nЦей документ був перекладений за допомогою сервісу автоматичного перекладу [Co-op Translator](https://github.com/Azure/co-op-translator). Хоча ми прагнемо до точності, будь ласка, майте на увазі, що автоматичні переклади можуть містити помилки або неточності. Оригінальний документ на його рідній мові слід вважати авторитетним джерелом. Для критичної інформації рекомендується професійний людський переклад. Ми не несемо відповідальності за будь-які непорозуміння або неправильні тлумачення, що виникають внаслідок використання цього перекладу.\n"
   ]
  }
 ],
 "metadata": {
  "kernelspec": {
   "display_name": ".NET (C#)",
   "language": "C#",
   "name": ".net-csharp"
  },
  "language_info": {
   "name": "polyglot-notebook"
  },
  "polyglot_notebook": {
   "kernelInfo": {
    "defaultKernelName": "csharp",
    "items": [
     {
      "aliases": [],
      "name": "csharp"
     }
    ]
   }
  },
  "coopTranslator": {
   "original_hash": "e4584fa31638009dc6fb665275de8fc2",
   "translation_date": "2025-10-02T06:08:22+00:00",
   "source_file": "05-agentic-rag/code_samples/05-dotnet-agent-framework.ipynb",
   "language_code": "uk"
  }
 },
 "nbformat": 4,
 "nbformat_minor": 5
}