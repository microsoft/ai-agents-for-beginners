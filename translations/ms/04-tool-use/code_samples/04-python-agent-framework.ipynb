{
 "cells": [
  {
   "cell_type": "markdown",
   "id": "8744544f",
   "metadata": {},
   "source": [
    "# 🛠️ Penggunaan Alat Lanjutan dengan Model GitHub (Python)\n",
    "\n",
    "## 📋 Objektif Pembelajaran\n",
    "\n",
    "Notebook ini menunjukkan corak integrasi alat lanjutan menggunakan Microsoft Agent Framework dengan Model GitHub. Anda akan belajar cara mencipta, mengurus, dan mengorkestrasi pelbagai alat untuk membina keupayaan agen yang canggih.\n",
    "\n",
    "**Apa yang Anda Akan Kuasai:**\n",
    "- 🔧 **Arkitektur Multi-Alat**: Membina agen dengan pelbagai alat khusus\n",
    "- 🎯 **Logik Pemilihan Alat**: Bagaimana agen memilih alat yang sesuai untuk setiap tugas\n",
    "- 📊 **Alat Pemprosesan Data**: Mencipta alat yang mengendalikan pelbagai jenis data\n",
    "- 🔗 **Komposisi Alat**: Menggabungkan alat untuk aliran kerja yang kompleks\n",
    "\n",
    "## 🎯 Corak Alat Utama\n",
    "\n",
    "### Prinsip Reka Bentuk Alat\n",
    "- **Tanggungjawab Tunggal**: Setiap alat mempunyai tujuan yang jelas dan fokus\n",
    "- **Keselamatan Jenis**: Pengetikan yang kuat untuk pelaksanaan alat yang boleh dipercayai\n",
    "- **Pengendalian Ralat**: Corak kegagalan dan pemulihan yang baik\n",
    "- **Komposabiliti**: Alat yang berfungsi dengan baik bersama-sama\n",
    "\n",
    "### Ciri Alat Lanjutan\n",
    "- **Kesedaran Konteks**: Alat yang memahami konteks perbualan\n",
    "- **Pengesahan Data**: Sanitasi input dan pengesahan output\n",
    "- **Pengoptimuman Prestasi**: Corak pelaksanaan alat yang efisien\n",
    "- **Kebolehluasan**: Penambahan keupayaan alat baru dengan mudah\n",
    "\n",
    "## 🔧 Seni Bina Teknikal\n",
    "\n",
    "### Komponen Teras\n",
    "- **Microsoft Agent Framework**: Pelaksanaan Python dengan sokongan alat lanjutan\n",
    "- **Integrasi Model GitHub**: Akses model bahasa berprestasi tinggi\n",
    "- **Sistem Pendaftaran Alat**: Pengurusan keupayaan agen yang teratur\n",
    "- **Corak Pemulihan Ralat**: Pengendalian kegagalan pelaksanaan alat yang kukuh\n",
    "\n",
    "### Aliran Integrasi Alat\n",
    "```python\n",
    "User Request → Agent Analysis → Tool Selection → Tool Execution → Response Synthesis\n",
    "```\n",
    "\n",
    "## 🛠️ Kategori Alat yang Ditunjukkan\n",
    "\n",
    "### 1. **Alat Penjanaan Data**\n",
    "- Penjana destinasi rawak\n",
    "- Penyedia maklumat cuaca  \n",
    "- Kalkulator kos perjalanan\n",
    "- Enjin cadangan aktiviti\n",
    "\n",
    "### 2. **Alat Pemprosesan**\n",
    "- Pemformatan dan pengesahan teks\n",
    "- Utiliti transformasi data\n",
    "- Fungsi analisis kandungan\n",
    "- Alat peningkatan respons\n",
    "\n",
    "### 3. **Alat Integrasi**\n",
    "- Penyambung API luaran\n",
    "- Operasi sistem fail\n",
    "- Antara muka pertanyaan pangkalan data\n",
    "- Utiliti pengikisan web\n",
    "\n",
    "## ⚙️ Prasyarat & Persediaan\n",
    "\n",
    "**Kebergantungan Diperlukan:**\n",
    "```bash\n",
    "\n",
    "pip install agent-framework-core -U\n",
    "```\n",
    "\n",
    "**Konfigurasi Persekitaran (fail .env):**\n",
    "```env\n",
    "GITHUB_TOKEN=your_github_personal_access_token\n",
    "GITHUB_ENDPOINT=https://models.inference.ai.azure.com\n",
    "GITHUB_MODEL_ID=gpt-4o-mini\n",
    "```\n",
    "\n",
    "**API Pilihan:**\n",
    "- Kunci API perkhidmatan cuaca (untuk alat cuaca)\n",
    "- Akses API penukaran mata wang\n",
    "- Kredensial perkhidmatan maklumat perjalanan\n",
    "\n",
    "## 🎨 Corak Reka Bentuk\n",
    "\n",
    "### Corak Kilang Alat\n",
    "- Penciptaan dan konfigurasi alat yang berpusat\n",
    "- Reka bentuk antara muka alat yang konsisten\n",
    "- Pendaftaran dan penemuan alat yang mudah\n",
    "\n",
    "### Corak Perintah\n",
    "- Logik pelaksanaan alat yang terkapsul\n",
    "- Fungsi undo/redo untuk operasi kompleks\n",
    "- Log audit untuk penggunaan alat\n",
    "\n",
    "### Corak Pemerhati\n",
    "- Pemantauan pelaksanaan alat\n",
    "- Pengumpulan metrik prestasi\n",
    "- Pelaporan ralat dan pemberitahuan\n",
    "\n",
    "## 🚀 Amalan Terbaik\n",
    "\n",
    "- **Dokumentasi Alat**: Penerangan yang jelas untuk pemahaman agen\n",
    "- **Pengesahan Input**: Pemeriksaan parameter dan sanitasi yang kukuh\n",
    "- **Pemformatan Output**: Respons alat yang konsisten dan boleh diurai\n",
    "- **Mesej Ralat**: Maklumat ralat yang berguna untuk penyahpepijatan\n",
    "- **Prestasi**: Pelaksanaan alat yang dioptimumkan untuk responsif\n",
    "\n",
    "Bersedia untuk membina agen dengan keupayaan alat yang hebat? Mari cipta sesuatu yang luar biasa! ⚡\n"
   ]
  },
  {
   "cell_type": "code",
   "execution_count": null,
   "id": "59c0feeb",
   "metadata": {},
   "outputs": [],
   "source": [
    "! pip install agent-framework-core -U"
   ]
  },
  {
   "cell_type": "code",
   "execution_count": null,
   "id": "c0df8a52",
   "metadata": {},
   "outputs": [],
   "source": [
    "# � Import core dependencies for Agent Framework and tool integration\n",
    "# This sets up the essential libraries for building intelligent agents with tool capabilities\n",
    "\n",
    "import asyncio\n",
    "import os\n",
    "import json\n",
    "\n",
    "from dotenv import load_dotenv  # For loading environment variables securely\n",
    "from random import randint\n",
    "\n",
    "# These are the core components for building tool-enabled agents\n",
    "from agent_framework import ChatAgent           # Main agent class\n",
    "from agent_framework.openai import OpenAIChatClient  # OpenAI-compatible client"
   ]
  },
  {
   "cell_type": "code",
   "execution_count": null,
   "id": "24c10eb0",
   "metadata": {},
   "outputs": [],
   "source": [
    "load_dotenv()"
   ]
  },
  {
   "cell_type": "code",
   "execution_count": null,
   "id": "151e0314",
   "metadata": {},
   "outputs": [],
   "source": [
    "# 🔑 Environment variables verification\n",
    "# Ensure all required GitHub Models credentials are properly configured\n",
    "print(\"GITHUB_ENDPOINT:\", os.environ.get(\"GITHUB_ENDPOINT\"))\n",
    "print(\"GITHUB_TOKEN:\", \"***\" if os.environ.get(\"GITHUB_TOKEN\") else \"Not set\")\n",
    "print(\"GITHUB_MODEL_ID:\", os.environ.get(\"GITHUB_MODEL_ID\"))"
   ]
  },
  {
   "cell_type": "code",
   "execution_count": null,
   "id": "a6141584",
   "metadata": {},
   "outputs": [],
   "source": [
    "# 🧪 Test GitHub Models connectivity\n",
    "openai_chat_client = OpenAIChatClient(base_url=os.environ.get(\"GITHUB_ENDPOINT\"), api_key=os.environ.get(\"GITHUB_TOKEN\"), model_id=os.environ.get(\"GITHUB_MODEL_ID\"))"
   ]
  },
  {
   "cell_type": "code",
   "execution_count": null,
   "id": "a6507f83",
   "metadata": {},
   "outputs": [],
   "source": [
    "# 🛠️ Define travel planning tools for agent integration\n",
    "# These functions provide specific capabilities that the agent can invoke dynamically\n",
    "\n",
    "def get_random_destination() -> str:\n",
    "    \"\"\"\n",
    "    🎲 Random destination generator tool\n",
    "    Returns a randomly selected travel destination from curated list\n",
    "    Useful when customers need inspiration for their next vacation\n",
    "    \"\"\"\n",
    "    destinations = [\n",
    "        \"Paris, France\",\n",
    "        \"Tokyo, Japan\", \n",
    "        \"New York City, USA\",\n",
    "        \"London, England\",\n",
    "        \"Rome, Italy\",\n",
    "        \"Sydney, Australia\",\n",
    "        \"Dubai, UAE\",\n",
    "        \"Barcelona, Spain\",\n",
    "        \"Bangkok, Thailand\",\n",
    "        \"Amsterdam, Netherlands\",\n",
    "        \"Istanbul, Turkey\",\n",
    "        \"Prague, Czech Republic\",\n",
    "        \"Santorini, Greece\",\n",
    "        \"Reykjavik, Iceland\",\n",
    "        \"Marrakech, Morocco\",\n",
    "        \"Cape Town, South Africa\",\n",
    "        \"Rio de Janeiro, Brazil\",\n",
    "        \"Bali, Indonesia\"\n",
    "    ]\n",
    "    # 🎯 Return random selection from the curated destination list\n",
    "    return destinations[randint(0, len(destinations) - 1)]"
   ]
  },
  {
   "cell_type": "code",
   "execution_count": null,
   "id": "5d4f0568",
   "metadata": {},
   "outputs": [],
   "source": [
    "# 🔗 Initialize GitHub Models chat client for agent communication\n",
    "# Creates the primary interface between the agent and the language model\n",
    "openai_chat_client = OpenAIChatClient(base_url=os.environ.get(\"GITHUB_ENDPOINT\"), api_key=os.environ.get(\"GITHUB_TOKEN\"), model_id=os.environ.get(\"GITHUB_MODEL_ID\"))"
   ]
  },
  {
   "cell_type": "code",
   "execution_count": null,
   "id": "751668c5",
   "metadata": {},
   "outputs": [],
   "source": [
    "# 🤖 Configure travel agent identity and behavioral instructions\n",
    "# Define the agent's personality, capabilities, and operational guidelines\n",
    "\n",
    "AGENT_NAME = \"TravelAgent\"\n",
    "\n",
    "AGENT_INSTRUCTIONS = \"\"\"You are a helpful AI Agent that can help plan vacations for customers at random destinations\n",
    "\"\"\""
   ]
  },
  {
   "cell_type": "code",
   "execution_count": null,
   "id": "be18ac4f",
   "metadata": {},
   "outputs": [],
   "source": [
    "agent = ChatAgent(\n",
    "        name = AGENT_NAME,\n",
    "        chat_client=openai_chat_client,\n",
    "        instructions=AGENT_INSTRUCTIONS,\n",
    "        tools=[get_random_destination]\n",
    ")"
   ]
  },
  {
   "cell_type": "code",
   "execution_count": null,
   "id": "772e9481",
   "metadata": {},
   "outputs": [],
   "source": [
    "thread = agent.get_new_thread()"
   ]
  },
  {
   "cell_type": "code",
   "execution_count": null,
   "id": "a731b547",
   "metadata": {},
   "outputs": [],
   "source": [
    "response1 = await agent.run(\"Plan me a day trip\",thread= thread)"
   ]
  },
  {
   "cell_type": "code",
   "execution_count": null,
   "id": "7d3fe00a",
   "metadata": {},
   "outputs": [],
   "source": [
    "\n",
    "last_message = response1.messages[-1]\n",
    "text_content = last_message.contents[0].text\n",
    "print(\"Travel plan:\")\n",
    "print(text_content)"
   ]
  },
  {
   "cell_type": "markdown",
   "metadata": {},
   "source": [
    "\n---\n\n**Penafian**:  \nDokumen ini telah diterjemahkan menggunakan perkhidmatan terjemahan AI [Co-op Translator](https://github.com/Azure/co-op-translator). Walaupun kami berusaha untuk memastikan ketepatan, sila ambil perhatian bahawa terjemahan automatik mungkin mengandungi kesilapan atau ketidaktepatan. Dokumen asal dalam bahasa asalnya harus dianggap sebagai sumber yang berwibawa. Untuk maklumat yang kritikal, terjemahan manusia profesional adalah disyorkan. Kami tidak bertanggungjawab atas sebarang salah faham atau salah tafsir yang timbul daripada penggunaan terjemahan ini.\n"
   ]
  }
 ],
 "metadata": {
  "kernelspec": {
   "display_name": "agentenv",
   "language": "python",
   "name": "python3"
  },
  "language_info": {
   "codemirror_mode": {
    "name": "ipython",
    "version": 3
   },
   "file_extension": ".py",
   "mimetype": "text/x-python",
   "name": "python",
   "nbconvert_exporter": "python",
   "pygments_lexer": "ipython3",
   "version": "3.12.10"
  },
  "polyglot_notebook": {
   "kernelInfo": {
    "defaultKernelName": "csharp",
    "items": [
     {
      "aliases": [],
      "name": "csharp"
     }
    ]
   }
  },
  "coopTranslator": {
   "original_hash": "42966ddac53cebaf0ac1ce33b2ee7059",
   "translation_date": "2025-10-02T17:54:32+00:00",
   "source_file": "04-tool-use/code_samples/04-python-agent-framework.ipynb",
   "language_code": "ms"
  }
 },
 "nbformat": 4,
 "nbformat_minor": 5
}