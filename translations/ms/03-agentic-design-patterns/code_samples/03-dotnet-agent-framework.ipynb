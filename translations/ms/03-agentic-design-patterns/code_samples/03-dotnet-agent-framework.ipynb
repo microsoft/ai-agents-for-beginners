{
 "cells": [
  {
   "cell_type": "markdown",
   "id": "d6058fa4",
   "metadata": {},
   "source": [
    "# 🎨 Corak Reka Bentuk Agentic dengan Model GitHub (.NET)\n",
    "\n",
    "## 📋 Objektif Pembelajaran\n",
    "\n",
    "Notebook ini menunjukkan corak reka bentuk peringkat perusahaan untuk membina agen pintar menggunakan Microsoft Agent Framework dalam .NET dengan integrasi Model GitHub. Anda akan mempelajari corak profesional dan pendekatan seni bina yang menjadikan agen bersedia untuk pengeluaran, mudah diselenggara, dan boleh diskalakan.\n",
    "\n",
    "**Corak Reka Bentuk Perusahaan:**\n",
    "- 🏭 **Corak Kilang**: Penciptaan agen yang standard dengan suntikan kebergantungan\n",
    "- 🔧 **Corak Pembina**: Konfigurasi dan persediaan agen yang lancar\n",
    "- 🧵 **Corak Selamat Benang**: Pengurusan perbualan serentak\n",
    "- 📋 **Corak Repositori**: Pengurusan alat dan keupayaan yang teratur\n",
    "\n",
    "## 🎯 Faedah Seni Bina Khusus .NET\n",
    "\n",
    "### Ciri Perusahaan\n",
    "- **Taip Kuat**: Pengesahan masa kompilasi dan sokongan IntelliSense\n",
    "- **Suntikan Kebergantungan**: Integrasi bekas DI terbina dalam\n",
    "- **Pengurusan Konfigurasi**: Corak IConfiguration dan Options\n",
    "- **Async/Await**: Sokongan pengaturcaraan tak segerak kelas pertama\n",
    "\n",
    "### Corak Sedia Pengeluaran\n",
    "- **Integrasi Log**: Sokongan ILogger dan log berstruktur\n",
    "- **Pemeriksaan Kesihatan**: Pemantauan dan diagnostik terbina dalam\n",
    "- **Pengesahan Konfigurasi**: Taip kuat dengan anotasi data\n",
    "- **Pengendalian Ralat**: Pengurusan pengecualian berstruktur\n",
    "\n",
    "## 🔧 Seni Bina Teknikal\n",
    "\n",
    "### Komponen Teras .NET\n",
    "- **Microsoft.Extensions.AI**: Abstraksi perkhidmatan AI yang bersatu\n",
    "- **Microsoft.Agents.AI**: Kerangka orkestrasi agen perusahaan\n",
    "- **Integrasi Model GitHub**: Corak klien API berprestasi tinggi\n",
    "- **Sistem Konfigurasi**: appsettings.json dan integrasi persekitaran\n",
    "\n",
    "### Pelaksanaan Corak Reka Bentuk\n",
    "```csharp\n",
    "IServiceCollection → Agent Builder → Configuration → Tool Registry → AI Agent\n",
    "```\n",
    "\n",
    "## 🏗️ Corak Perusahaan yang Ditunjukkan\n",
    "\n",
    "### 1. **Corak Penciptaan**\n",
    "- **Kilang Agen**: Penciptaan agen yang berpusat dengan konfigurasi yang konsisten\n",
    "- **Corak Pembina**: API lancar untuk konfigurasi agen yang kompleks\n",
    "- **Corak Singleton**: Pengurusan sumber dan konfigurasi yang dikongsi\n",
    "- **Suntikan Kebergantungan**: Penggandingan longgar dan kebolehujian\n",
    "\n",
    "### 2. **Corak Tingkah Laku**\n",
    "- **Corak Strategi**: Strategi pelaksanaan alat yang boleh ditukar ganti\n",
    "- **Corak Perintah**: Operasi agen yang terkapsul dengan undo/redo\n",
    "- **Corak Pemerhati**: Pengurusan kitaran hayat agen yang didorong oleh acara\n",
    "- **Kaedah Templat**: Aliran kerja pelaksanaan agen yang standard\n",
    "\n",
    "### 3. **Corak Struktur**\n",
    "- **Corak Penyesuai**: Lapisan integrasi API Model GitHub\n",
    "- **Corak Penghias**: Peningkatan keupayaan agen\n",
    "- **Corak Fasad**: Antara muka interaksi agen yang dipermudahkan\n",
    "- **Corak Proksi**: Pemuatan malas dan caching untuk prestasi\n",
    "\n",
    "## ⚙️ Prasyarat & Persediaan\n",
    "\n",
    "**Persekitaran Pembangunan:**\n",
    "- .NET 9.0 SDK atau lebih tinggi\n",
    "- Visual Studio 2022 atau VS Code dengan sambungan C#\n",
    "- Akses API Model GitHub\n",
    "\n",
    "**Kebergantungan NuGet:**\n",
    "```xml\n",
    "<PackageReference Include=\"Microsoft.Extensions.AI\" Version=\"9.9.0\" />\n",
    "<PackageReference Include=\"Microsoft.Extensions.AI.OpenAI\" Version=\"9.9.0-preview.1.25458.4\" />\n",
    "<PackageReference Include=\"DotNetEnv\" Version=\"3.1.1\" />\n",
    "```\n",
    "\n",
    "**Konfigurasi (fail .env):**\n",
    "```env\n",
    "GITHUB_TOKEN=your_github_personal_access_token\n",
    "GITHUB_ENDPOINT=https://models.inference.ai.azure.com\n",
    "GITHUB_MODEL_ID=gpt-4o-mini\n",
    "```\n",
    "\n",
    "## 📚 Prinsip Reka Bentuk .NET\n",
    "\n",
    "### Prinsip SOLID\n",
    "- **Tanggungjawab Tunggal**: Setiap komponen mempunyai satu tujuan yang jelas\n",
    "- **Terbuka/Tertutup**: Boleh diperluas tanpa pengubahsuaian\n",
    "- **Penggantian Liskov**: Pelaksanaan alat berasaskan antara muka\n",
    "- **Pemisahan Antara Muka**: Antara muka yang fokus dan padu\n",
    "- **Penyongsangan Kebergantungan**: Bergantung pada abstraksi, bukan konkrit\n",
    "\n",
    "### Seni Bina Bersih\n",
    "- **Lapisan Domain**: Abstraksi alat dan agen teras\n",
    "- **Lapisan Aplikasi**: Orkestrasi agen dan aliran kerja\n",
    "- **Lapisan Infrastruktur**: Integrasi Model GitHub dan perkhidmatan luaran\n",
    "- **Lapisan Persembahan**: Interaksi pengguna dan pemformatan respons\n",
    "\n",
    "## 🔒 Pertimbangan Perusahaan\n",
    "\n",
    "### Keselamatan\n",
    "- **Pengurusan Kredensial**: Pengendalian kunci API yang selamat dengan IConfiguration\n",
    "- **Pengesahan Input**: Taip kuat dan pengesahan anotasi data\n",
    "- **Pembersihan Output**: Pemprosesan respons yang selamat dan penapisan\n",
    "- **Log Audit**: Penjejakan operasi yang komprehensif\n",
    "\n",
    "### Prestasi\n",
    "- **Corak Tak Segerak**: Operasi I/O yang tidak menyekat\n",
    "- **Pengumpulan Sambungan**: Pengurusan klien HTTP yang cekap\n",
    "- **Caching**: Caching respons untuk prestasi yang lebih baik\n",
    "- **Pengurusan Sumber**: Corak pelupusan dan pembersihan yang betul\n",
    "\n",
    "### Kebolehskalaan\n",
    "- **Keselamatan Benang**: Sokongan pelaksanaan agen serentak\n",
    "- **Pengumpulan Sumber**: Penggunaan sumber yang cekap\n",
    "- **Pengurusan Beban**: Had kadar dan pengendalian tekanan balik\n",
    "- **Pemantauan**: Metrik prestasi dan pemeriksaan kesihatan\n",
    "\n",
    "## 🚀 Pengeluaran Pengeluaran\n",
    "\n",
    "- **Pengurusan Konfigurasi**: Tetapan khusus persekitaran\n",
    "- **Strategi Log**: Log berstruktur dengan ID korelasi\n",
    "- **Pengendalian Ralat**: Pengendalian pengecualian global dengan pemulihan yang betul\n",
    "- **Pemantauan**: Wawasan aplikasi dan kaunter prestasi\n",
    "- **Pengujian**: Corak ujian unit, ujian integrasi, dan ujian beban\n",
    "\n",
    "Bersedia untuk membina agen pintar peringkat perusahaan dengan .NET? Mari kita seni bina sesuatu yang kukuh! 🏢✨\n"
   ]
  },
  {
   "cell_type": "code",
   "execution_count": 1,
   "id": "2770ac5c",
   "metadata": {
    "language_info": {
     "name": "polyglot-notebook"
    },
    "polyglot_notebook": {
     "kernelName": "csharp"
    }
   },
   "outputs": [
    {
     "data": {
      "text/html": [
       "<div><div></div><div></div><div><strong>Installed Packages</strong><ul><li><span>Microsoft.Extensions.AI, 9.9.1</span></li></ul></div></div>"
      ]
     },
     "metadata": {},
     "output_type": "display_data"
    }
   ],
   "source": [
    "#r \"nuget: Microsoft.Extensions.AI, 9.9.1\""
   ]
  },
  {
   "cell_type": "code",
   "execution_count": null,
   "id": "984ff6cd",
   "metadata": {
    "language_info": {
     "name": "polyglot-notebook"
    },
    "polyglot_notebook": {
     "kernelName": "csharp"
    }
   },
   "outputs": [
    {
     "data": {
      "text/html": [
       "<div><div></div><div></div><div><strong>Installed Packages</strong><ul><li><span>Microsoft.Agents.AI.OpenAI, 1.0.0-preview.251001.2</span></li></ul></div></div>"
      ]
     },
     "metadata": {},
     "output_type": "display_data"
    }
   ],
   "source": [
    "#r \"nuget: Microsoft.Agents.AI.OpenAI, 1.0.0-preview.251001.3\""
   ]
  },
  {
   "cell_type": "code",
   "execution_count": null,
   "id": "0ab71360",
   "metadata": {
    "language_info": {
     "name": "polyglot-notebook"
    },
    "polyglot_notebook": {
     "kernelName": "csharp"
    }
   },
   "outputs": [
    {
     "data": {
      "text/html": [
       "<div><div></div><div></div><div><strong>Installed Packages</strong><ul><li><span>microsoft.agents.ai, 1.0.0-preview.251001.2</span></li></ul></div></div>"
      ]
     },
     "metadata": {},
     "output_type": "display_data"
    }
   ],
   "source": [
    "\n",
    "\n",
    "#r \"nuget: Microsoft.Agents.AI, 1.0.0-preview.251001.3\""
   ]
  },
  {
   "cell_type": "code",
   "execution_count": 4,
   "id": "4ab7b15d",
   "metadata": {
    "language_info": {
     "name": "polyglot-notebook"
    },
    "polyglot_notebook": {
     "kernelName": "csharp"
    }
   },
   "outputs": [],
   "source": [
    "// #r \"nuget: Microsoft.Extensions.AI.OpenAI, 9.9.0-preview.1.25458.4\""
   ]
  },
  {
   "cell_type": "code",
   "execution_count": 5,
   "id": "3fa8aa21",
   "metadata": {
    "language_info": {
     "name": "polyglot-notebook"
    },
    "polyglot_notebook": {
     "kernelName": "csharp"
    }
   },
   "outputs": [
    {
     "data": {
      "text/html": [
       "<div><div></div><div></div><div><strong>Installed Packages</strong><ul><li><span>DotNetEnv, 3.1.1</span></li></ul></div></div>"
      ]
     },
     "metadata": {},
     "output_type": "display_data"
    }
   ],
   "source": [
    "#r \"nuget: DotNetEnv, 3.1.1\""
   ]
  },
  {
   "cell_type": "code",
   "execution_count": 6,
   "id": "fc8ee8ea",
   "metadata": {
    "language_info": {
     "name": "polyglot-notebook"
    },
    "polyglot_notebook": {
     "kernelName": "csharp"
    }
   },
   "outputs": [],
   "source": [
    "using System;\n",
    "using System.ComponentModel;\n",
    "using System.ClientModel;\n",
    "\n",
    "using Microsoft.Extensions.AI;\n",
    "using Microsoft.Agents.AI;\n",
    "using OpenAI;"
   ]
  },
  {
   "cell_type": "code",
   "execution_count": 7,
   "id": "699b1c83",
   "metadata": {
    "language_info": {
     "name": "polyglot-notebook"
    },
    "polyglot_notebook": {
     "kernelName": "csharp"
    }
   },
   "outputs": [],
   "source": [
    " using DotNetEnv;"
   ]
  },
  {
   "cell_type": "code",
   "execution_count": 8,
   "id": "daa649a0",
   "metadata": {
    "language_info": {
     "name": "polyglot-notebook"
    },
    "polyglot_notebook": {
     "kernelName": "csharp"
    }
   },
   "outputs": [],
   "source": [
    "Env.Load(\"../../../.env\");"
   ]
  },
  {
   "cell_type": "code",
   "execution_count": 9,
   "id": "29661a90",
   "metadata": {
    "language_info": {
     "name": "polyglot-notebook"
    },
    "polyglot_notebook": {
     "kernelName": "csharp"
    }
   },
   "outputs": [],
   "source": [
    "[Description(\"Provides a random vacation destination.\")]\n",
    "static string GetRandomDestination()\n",
    "{\n",
    "    var destinations = new List<string>\n",
    "    {\n",
    "        \"Paris, France\",\n",
    "        \"Tokyo, Japan\",\n",
    "        \"New York City, USA\",\n",
    "        \"Sydney, Australia\",\n",
    "        \"Rome, Italy\",\n",
    "        \"Barcelona, Spain\",\n",
    "        \"Cape Town, South Africa\",\n",
    "        \"Rio de Janeiro, Brazil\",\n",
    "        \"Bangkok, Thailand\",\n",
    "        \"Vancouver, Canada\"\n",
    "    };\n",
    "\n",
    "    var random = new Random();\n",
    "    int index = random.Next(destinations.Count);\n",
    "    return destinations[index];\n",
    "}"
   ]
  },
  {
   "cell_type": "code",
   "execution_count": 10,
   "id": "d2ed1f8b",
   "metadata": {
    "language_info": {
     "name": "polyglot-notebook"
    },
    "polyglot_notebook": {
     "kernelName": "csharp"
    }
   },
   "outputs": [],
   "source": [
    "var github_endpoint = Environment.GetEnvironmentVariable(\"GITHUB_ENDPOINT\") ?? throw new InvalidOperationException(\"GITHUB_ENDPOINT is not set.\");\n",
    "var github_model_id = Environment.GetEnvironmentVariable(\"GITHUB_MODEL_ID\") ?? \"gpt-4o-mini\";\n",
    "var github_token = Environment.GetEnvironmentVariable(\"GITHUB_TOKEN\") ?? throw new InvalidOperationException(\"GITHUB_TOKEN is not set.\");"
   ]
  },
  {
   "cell_type": "code",
   "execution_count": 11,
   "id": "c36c73e1",
   "metadata": {
    "language_info": {
     "name": "polyglot-notebook"
    },
    "polyglot_notebook": {
     "kernelName": "csharp"
    }
   },
   "outputs": [],
   "source": [
    "var openAIOptions = new OpenAIClientOptions()\n",
    "{\n",
    "    Endpoint= new Uri(github_endpoint)\n",
    "};"
   ]
  },
  {
   "cell_type": "code",
   "execution_count": 12,
   "id": "6d94ff10",
   "metadata": {
    "language_info": {
     "name": "polyglot-notebook"
    },
    "polyglot_notebook": {
     "kernelName": "csharp"
    }
   },
   "outputs": [],
   "source": [
    "\n",
    "var openAIClient = new OpenAIClient(new ApiKeyCredential(github_token), openAIOptions);"
   ]
  },
  {
   "cell_type": "code",
   "execution_count": 13,
   "id": "fe32b57a",
   "metadata": {
    "language_info": {
     "name": "polyglot-notebook"
    },
    "polyglot_notebook": {
     "kernelName": "csharp"
    }
   },
   "outputs": [],
   "source": [
    "AIAgent agent = new OpenAIClient(new ApiKeyCredential(github_token), openAIOptions).GetChatClient(github_model_id).CreateAIAgent(\n",
    "    instructions:\"You are a helpful AI Agent that can help plan vacations for customers at random destinations\", tools: [AIFunctionFactory.Create((Func<string>)GetRandomDestination)]);"
   ]
  },
  {
   "cell_type": "code",
   "execution_count": 14,
   "metadata": {
    "language_info": {
     "name": "polyglot-notebook"
    },
    "polyglot_notebook": {
     "kernelName": "csharp"
    }
   },
   "outputs": [],
   "source": [
    "AgentThread thread = agent.GetNewThread();"
   ]
  },
  {
   "cell_type": "code",
   "execution_count": 15,
   "id": "5e455aff",
   "metadata": {
    "language_info": {
     "name": "polyglot-notebook"
    },
    "polyglot_notebook": {
     "kernelName": "csharp"
    }
   },
   "outputs": [
    {
     "name": "stdout",
     "output_type": "stream",
     "text": [
      "How about a day trip to Vancouver, Canada? Here's a suggested itinerary for your day:\n",
      "\n",
      "### Morning\n",
      "- **Breakfast at a Local Cafe**: Start your day with a delicious breakfast at a cozy café like **Jam Cafe** or **Cafe Medina**.\n",
      "- **Stanley Park**: After breakfast, head to Stanley Park. You can rent a bike and ride along the seawall, enjoying beautiful views of the city and the water.\n",
      "\n",
      "### Afternoon\n",
      "- **Lunch in Gastown**: Make your way to Gastown for lunch. Try a local favorite like **The Flying Pig** or **Noodle Box**.\n",
      "- **Explore Gastown**: After lunch, walk around Gastown to see the iconic Steam Clock and browse the unique shops and boutiques.\n",
      "\n",
      "### Late Afternoon\n",
      "- **Granville Island**: Visit Granville Island, where you can stroll through the public market, sample local foods, and enjoy artisan shops.\n",
      "- **False Creek**: Take a walk along False Creek and enjoy the waterfront views.\n",
      "\n",
      "### Evening\n",
      "- **Dinner at a Waterfront Restaurant**: End your day with dinner at a waterfront restaurant like **The Boathouse** or **Lift Bar Grill View** for great food and a view of the sunset.\n",
      "- **Optional: Sunset Cruise**: If you're up for it, consider taking a sunset cruise for a different perspective of the city.\n",
      "\n",
      "### Tips\n",
      "- Make sure to check the weather beforehand!\n",
      "- Consider public transport or ride-sharing to navigate the city easily.\n",
      "\n",
      "Enjoy your day trip to Vancouver!\r\n"
     ]
    }
   ],
   "source": [
    "Console.WriteLine(await agent.RunAsync(\"Plan me a day trip\",thread));"
   ]
  },
  {
   "cell_type": "code",
   "execution_count": 16,
   "id": "592ae1bb",
   "metadata": {
    "language_info": {
     "name": "polyglot-notebook"
    },
    "polyglot_notebook": {
     "kernelName": "csharp"
    }
   },
   "outputs": [
    {
     "name": "stdout",
     "output_type": "stream",
     "text": [
      "How about a vacation to New York City, USA? Here's a suggested itinerary for your trip:\n",
      "\n",
      "### Day 1: Arrival in New York City\n",
      "- **Check-In**: Arrive and check in to your hotel.\n",
      "- **Central Park**: Take a leisurely stroll through Central Park. Consider renting a bike or taking a carriage ride.\n",
      "- **Evening**: Enjoy dinner at a classic NYC restaurant, such as **Katz's Delicatessen** or **Carbone**.\n",
      "\n",
      "### Day 2: Iconic Landmarks\n",
      "- **Morning**: Breakfast at a local diner.\n",
      "- **Statue of Liberty & Ellis Island**: Take a ferry to visit these iconic landmarks.\n",
      "- **Afternoon**: Explore Wall Street and visit the 9/11 Memorial & Museum.\n",
      "- **Evening**: Dinner in the Financial District followed by a walk across the Brooklyn Bridge at sunset.\n",
      "\n",
      "### Day 3: Culture and Arts\n",
      "- **Morning**: Visit The Metropolitan Museum of Art (The Met) and spend a few hours exploring its vast collection.\n",
      "- **Afternoon**: Head to Times Square for lunch and the buzz of the city.\n",
      "- **Broadway Show**: Catch a Broadway show in the evening. Be sure to book tickets in advance!\n",
      "\n",
      "### Day 4: Explore Neighborhoods\n",
      "- **Morning**: Head to SoHo for brunch and shopping in its chic boutiques.\n",
      "- **Afternoon**: Explore Greenwich Village, known for its bohemian atmosphere and history.\n",
      "- **Evening**: Enjoy dinner in the West Village, perhaps at **Buvette** or **Minetta Tavern**.\n",
      "\n",
      "### Day 5: Departure\n",
      "- **Last-minute Shopping**: Spend your last morning shopping at Fifth Avenue or head to Chelsea Market for food and souvenirs.\n",
      "- **Check-Out**: Depart for your journey home.\n",
      "\n",
      "### Tips\n",
      "- Utilize the subway for efficient travel around the city.\n",
      "- Make reservations for popular restaurants and attractions ahead of time!\n",
      "\n",
      "Enjoy your trip to New York City!\r\n"
     ]
    }
   ],
   "source": [
    "Console.WriteLine(await agent.RunAsync(\"I don't like that destination. Plan me another vacation.\",thread));"
   ]
  },
  {
   "cell_type": "markdown",
   "metadata": {},
   "source": [
    "\n---\n\n**Penafian**:  \nDokumen ini telah diterjemahkan menggunakan perkhidmatan terjemahan AI [Co-op Translator](https://github.com/Azure/co-op-translator). Walaupun kami berusaha untuk memastikan ketepatan, sila ambil perhatian bahawa terjemahan automatik mungkin mengandungi kesilapan atau ketidaktepatan. Dokumen asal dalam bahasa asalnya harus dianggap sebagai sumber yang berwibawa. Untuk maklumat yang kritikal, terjemahan manusia profesional adalah disyorkan. Kami tidak bertanggungjawab atas sebarang salah faham atau salah tafsir yang timbul daripada penggunaan terjemahan ini.\n"
   ]
  }
 ],
 "metadata": {
  "kernelspec": {
   "display_name": ".NET (C#)",
   "language": "C#",
   "name": ".net-csharp"
  },
  "language_info": {
   "name": "polyglot-notebook"
  },
  "polyglot_notebook": {
   "kernelInfo": {
    "defaultKernelName": "csharp",
    "items": [
     {
      "aliases": [],
      "name": "csharp"
     }
    ]
   }
  },
  "coopTranslator": {
   "original_hash": "070c1d8985b3dc6e6d977f3e891037f1",
   "translation_date": "2025-10-02T18:02:33+00:00",
   "source_file": "03-agentic-design-patterns/code_samples/03-dotnet-agent-framework.ipynb",
   "language_code": "ms"
  }
 },
 "nbformat": 4,
 "nbformat_minor": 5
}