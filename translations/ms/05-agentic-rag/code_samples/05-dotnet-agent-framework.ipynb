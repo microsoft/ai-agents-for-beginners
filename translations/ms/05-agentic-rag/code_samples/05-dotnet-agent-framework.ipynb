{
 "cells": [
  {
   "cell_type": "markdown",
   "id": "44b5899e",
   "metadata": {},
   "source": [
    "# 🔍 Enterprise RAG dengan Azure AI Foundry (.NET)\n",
    "\n",
    "## 📋 Objektif Pembelajaran\n",
    "\n",
    "Notebook ini menunjukkan cara membina sistem Retrieval-Augmented Generation (RAG) bertaraf perusahaan menggunakan Microsoft Agent Framework dalam .NET dengan Azure AI Foundry. Anda akan belajar untuk mencipta agen yang sedia untuk pengeluaran yang boleh mencari dokumen dan memberikan respons yang tepat serta berasaskan konteks dengan keselamatan dan skalabiliti perusahaan.\n",
    "\n",
    "**Keupayaan Enterprise RAG yang Akan Anda Bangunkan:**\n",
    "- 📚 **Kecerdasan Dokumen**: Pemprosesan dokumen lanjutan dengan perkhidmatan Azure AI\n",
    "- 🔍 **Carian Semantik**: Carian vektor berprestasi tinggi dengan ciri perusahaan\n",
    "- 🛡️ **Integrasi Keselamatan**: Kawalan akses berasaskan peranan dan corak perlindungan data\n",
    "- 🏢 **Seni Bina Skalabiliti**: Sistem RAG sedia pengeluaran dengan pemantauan\n",
    "\n",
    "## 🎯 Seni Bina Enterprise RAG\n",
    "\n",
    "### Komponen Teras Perusahaan\n",
    "- **Azure AI Foundry**: Platform AI perusahaan yang diurus dengan keselamatan dan pematuhan\n",
    "- **Agen Berterusan**: Agen berkeadaan dengan sejarah perbualan dan pengurusan konteks\n",
    "- **Pengurusan Stor Vektor**: Pengindeksan dan pengambilan dokumen bertaraf perusahaan\n",
    "- **Integrasi Identiti**: Pengesahan Azure AD dan kawalan akses berasaskan peranan\n",
    "\n",
    "### Kelebihan .NET untuk Perusahaan\n",
    "- **Keselamatan Jenis**: Pengesahan masa kompilasi untuk operasi RAG dan struktur data\n",
    "- **Prestasi Asinkron**: Pemprosesan dokumen dan operasi carian tanpa sekatan\n",
    "- **Pengurusan Memori**: Penggunaan sumber yang cekap untuk koleksi dokumen besar\n",
    "- **Corak Integrasi**: Integrasi perkhidmatan Azure asli dengan suntikan kebergantungan\n",
    "\n",
    "## 🏗️ Seni Bina Teknikal\n",
    "\n",
    "### Saluran Enterprise RAG\n",
    "```csharp\n",
    "Document Upload → Security Validation → Vector Processing → Index Creation\n",
    "                      ↓                    ↓                  ↓\n",
    "User Query → Authentication → Semantic Search → Context Ranking → AI Response\n",
    "```\n",
    "\n",
    "### Komponen Teras .NET\n",
    "- **Azure.AI.Agents.Persistent**: Pengurusan agen perusahaan dengan ketekalan keadaan\n",
    "- **Azure.Identity**: Pengesahan bersepadu untuk akses perkhidmatan Azure yang selamat\n",
    "- **Microsoft.Agents.AI.AzureAI**: Pelaksanaan rangka kerja agen yang dioptimumkan untuk Azure\n",
    "- **System.Linq.Async**: Operasi LINQ asinkron berprestasi tinggi\n",
    "\n",
    "## 🔧 Ciri & Kelebihan Perusahaan\n",
    "\n",
    "### Keselamatan & Pematuhan\n",
    "- **Integrasi Azure AD**: Pengurusan identiti dan pengesahan perusahaan\n",
    "- **Akses Berasaskan Peranan**: Kebenaran terperinci untuk akses dokumen dan operasi\n",
    "- **Perlindungan Data**: Penyulitan semasa rehat dan semasa transit untuk dokumen sensitif\n",
    "- **Log Audit**: Penjejakan aktiviti yang komprehensif untuk keperluan pematuhan\n",
    "\n",
    "### Prestasi & Skalabiliti\n",
    "- **Pengumpulan Sambungan**: Pengurusan sambungan perkhidmatan Azure yang cekap\n",
    "- **Pemprosesan Asinkron**: Operasi tanpa sekatan untuk senario throughput tinggi\n",
    "- **Strategi Caching**: Caching pintar untuk dokumen yang sering diakses\n",
    "- **Pengimbangan Beban**: Pemprosesan teragih untuk penyebaran berskala besar\n",
    "\n",
    "### Pengurusan & Pemantauan\n",
    "- **Pemeriksaan Kesihatan**: Pemantauan terbina dalam untuk komponen sistem RAG\n",
    "- **Metrik Prestasi**: Analitik terperinci tentang kualiti carian dan masa respons\n",
    "- **Pengendalian Ralat**: Pengurusan pengecualian yang komprehensif dengan dasar ulang cuba\n",
    "- **Pengurusan Konfigurasi**: Tetapan khusus persekitaran dengan pengesahan\n",
    "\n",
    "## ⚙️ Prasyarat & Persediaan\n",
    "\n",
    "**Persekitaran Pembangunan:**\n",
    "- .NET 9.0 SDK atau lebih tinggi\n",
    "- Visual Studio 2022 atau VS Code dengan sambungan C#\n",
    "- Langganan Azure dengan akses AI Foundry\n",
    "\n",
    "**Pakej NuGet Diperlukan:**\n",
    "```xml\n",
    "<PackageReference Include=\"Microsoft.Extensions.AI\" Version=\"9.9.0\" />\n",
    "<PackageReference Include=\"Azure.AI.Agents.Persistent\" Version=\"1.2.0-beta.5\" />\n",
    "<PackageReference Include=\"Azure.Identity\" Version=\"1.15.0\" />\n",
    "<PackageReference Include=\"System.Linq.Async\" Version=\"6.0.3\" />\n",
    "<PackageReference Include=\"DotNetEnv\" Version=\"3.1.1\" />\n",
    "```\n",
    "\n",
    "**Persediaan Pengesahan Azure:**\n",
    "```bash\n",
    "# Install Azure CLI and authenticate\n",
    "az login\n",
    "az account set --subscription \"your-subscription-id\"\n",
    "```\n",
    "\n",
    "**Konfigurasi Persekitaran (fail .env):**\n",
    "```env\n",
    "# Azure AI Foundry configuration (automatically handled via Azure CLI)\n",
    "# Ensure you're authenticated to the correct Azure subscription\n",
    "```\n",
    "\n",
    "## 📊 Corak Enterprise RAG\n",
    "\n",
    "### Corak Pengurusan Dokumen\n",
    "- **Muat Naik Pukal**: Pemprosesan cekap koleksi dokumen besar\n",
    "- **Kemas Kini Secara Beransur**: Penambahan dan pengubahsuaian dokumen secara masa nyata\n",
    "- **Kawalan Versi**: Versi dokumen dan penjejakan perubahan\n",
    "- **Pengurusan Metadata**: Atribut dokumen yang kaya dan taksonomi\n",
    "\n",
    "### Corak Carian & Pengambilan\n",
    "- **Carian Hibrid**: Menggabungkan carian semantik dan kata kunci untuk hasil optimum\n",
    "- **Carian Berasaskan Fasa**: Penapisan dan pengkategorian pelbagai dimensi\n",
    "- **Penalaan Relevansi**: Algoritma pemarkahan tersuai untuk keperluan khusus domain\n",
    "- **Peringkat Hasil**: Peringkat lanjutan dengan integrasi logik perniagaan\n",
    "\n",
    "### Corak Keselamatan\n",
    "- **Keselamatan Tahap Dokumen**: Kawalan akses terperinci bagi setiap dokumen\n",
    "- **Pengelasan Data**: Pelabelan sensitiviti automatik dan perlindungan\n",
    "- **Jejak Audit**: Log operasi RAG yang komprehensif\n",
    "- **Perlindungan Privasi**: Pengesanan dan penyuntingan PII\n",
    "\n",
    "## 🔒 Ciri Keselamatan Perusahaan\n",
    "\n",
    "### Pengesahan & Kebenaran\n",
    "```csharp\n",
    "// Azure AD integrated authentication\n",
    "var credential = new AzureCliCredential();\n",
    "var agentsClient = new PersistentAgentsClient(endpoint, credential);\n",
    "\n",
    "// Role-based access validation\n",
    "if (!await ValidateUserPermissions(user, documentId))\n",
    "{\n",
    "    throw new UnauthorizedAccessException(\"Insufficient permissions\");\n",
    "}\n",
    "```\n",
    "\n",
    "### Perlindungan Data\n",
    "- **Penyulitan**: Penyulitan hujung ke hujung untuk dokumen dan indeks carian\n",
    "- **Kawalan Akses**: Integrasi dengan Azure AD untuk kebenaran pengguna dan kumpulan\n",
    "- **Kediaman Data**: Kawalan lokasi data geografi untuk pematuhan\n",
    "- **Sandaran & Pemulihan**: Keupayaan sandaran dan pemulihan automatik\n",
    "\n",
    "## 📈 Pengoptimuman Prestasi\n",
    "\n",
    "### Corak Pemprosesan Asinkron\n",
    "```csharp\n",
    "// Efficient async document processing\n",
    "await foreach (var document in documentStream.AsAsyncEnumerable())\n",
    "{\n",
    "    await ProcessDocumentAsync(document, cancellationToken);\n",
    "}\n",
    "```\n",
    "\n",
    "### Pengurusan Memori\n",
    "- **Pemprosesan Penstriman**: Mengendalikan dokumen besar tanpa isu memori\n",
    "- **Pengumpulan Sumber**: Penggunaan semula sumber yang mahal secara cekap\n",
    "- **Pengumpulan Sampah**: Corak peruntukan memori yang dioptimumkan\n",
    "- **Pengurusan Sambungan**: Kitaran hayat sambungan perkhidmatan Azure yang betul\n",
    "\n",
    "### Strategi Caching\n",
    "- **Caching Pertanyaan**: Cache carian yang sering dilaksanakan\n",
    "- **Caching Dokumen**: Caching dalam memori untuk dokumen panas\n",
    "- **Caching Indeks**: Caching indeks vektor yang dioptimumkan\n",
    "- **Caching Hasil**: Caching pintar bagi respons yang dijana\n",
    "\n",
    "## 📊 Kes Penggunaan Perusahaan\n",
    "\n",
    "### Pengurusan Pengetahuan\n",
    "- **Wiki Korporat**: Carian pintar merentasi pangkalan pengetahuan syarikat\n",
    "- **Dasar & Prosedur**: Panduan pematuhan dan prosedur automatik\n",
    "- **Bahan Latihan**: Bantuan pembelajaran dan pembangunan pintar\n",
    "- **Pangkalan Data Penyelidikan**: Sistem analisis kertas akademik dan penyelidikan\n",
    "\n",
    "### Sokongan Pelanggan\n",
    "- **Pangkalan Pengetahuan Sokongan**: Respons perkhidmatan pelanggan automatik\n",
    "- **Dokumentasi Produk**: Pengambilan maklumat produk pintar\n",
    "- **Panduan Penyelesaian Masalah**: Bantuan penyelesaian masalah berasaskan konteks\n",
    "- **Sistem FAQ**: Penjanaan FAQ dinamik daripada koleksi dokumen\n",
    "\n",
    "### Pematuhan Peraturan\n",
    "- **Analisis Dokumen Undang-Undang**: Kecerdasan kontrak dan dokumen undang-undang\n",
    "- **Pemantauan Pematuhan**: Pemeriksaan pematuhan peraturan automatik\n",
    "- **Penilaian Risiko**: Analisis risiko berasaskan dokumen dan pelaporan\n",
    "- **Sokongan Audit**: Penemuan dokumen pintar untuk audit\n",
    "\n",
    "## 🚀 Penyebaran Pengeluaran\n",
    "\n",
    "### Pemantauan & Kebolehlihatan\n",
    "- **Application Insights**: Telemetri terperinci dan pemantauan prestasi\n",
    "- **Metrik Tersuai**: Penjejakan KPI khusus perniagaan dan amaran\n",
    "- **Penjejakan Teragih**: Penjejakan permintaan hujung ke hujung merentasi perkhidmatan\n",
    "- **Papan Pemuka Kesihatan**: Visualisasi kesihatan sistem dan prestasi masa nyata\n",
    "\n",
    "### Skalabiliti & Kebolehpercayaan\n",
    "- **Auto-Skala**: Penskalaan automatik berdasarkan beban dan metrik prestasi\n",
    "- **Ketersediaan Tinggi**: Penyebaran pelbagai wilayah dengan keupayaan failover\n",
    "- **Ujian Beban**: Pengesahan prestasi di bawah keadaan beban perusahaan\n",
    "- **Pemulihan Bencana**: Prosedur sandaran dan pemulihan automatik\n",
    "\n",
    "Sedia untuk membina sistem RAG bertaraf perusahaan yang boleh mengendalikan dokumen sensitif pada skala besar? Mari kita arkitekkan sistem pengetahuan pintar untuk perusahaan! 🏢📖✨\n"
   ]
  },
  {
   "cell_type": "code",
   "execution_count": 1,
   "metadata": {
    "language_info": {
     "name": "polyglot-notebook"
    },
    "polyglot_notebook": {
     "kernelName": "csharp"
    }
   },
   "outputs": [
    {
     "data": {
      "text/html": [
       "<div><div></div><div></div><div><strong>Installed Packages</strong><ul><li><span>Microsoft.Extensions.AI, 9.9.1</span></li></ul></div></div>"
      ]
     },
     "metadata": {},
     "output_type": "display_data"
    }
   ],
   "source": [
    "#r \"nuget: Microsoft.Extensions.AI, 9.9.1\""
   ]
  },
  {
   "cell_type": "code",
   "execution_count": 2,
   "id": "4ec1f0d1",
   "metadata": {
    "language_info": {
     "name": "polyglot-notebook"
    },
    "polyglot_notebook": {
     "kernelName": "csharp"
    }
   },
   "outputs": [
    {
     "data": {
      "text/html": [
       "<div><div></div><div></div><div><strong>Installed Packages</strong><ul><li><span>Azure.AI.Agents.Persistent, 1.2.0-beta.5</span></li><li><span>Azure.Identity, 1.15.0</span></li><li><span>System.Linq.Async, 6.0.3</span></li></ul></div></div>"
      ]
     },
     "metadata": {},
     "output_type": "display_data"
    }
   ],
   "source": [
    "#r \"nuget: Azure.AI.Agents.Persistent, 1.2.0-beta.5\"\n",
    "#r \"nuget: Azure.Identity, 1.15.0\"\n",
    "#r \"nuget: System.Linq.Async, 6.0.3\""
   ]
  },
  {
   "cell_type": "code",
   "execution_count": 3,
   "id": "2363ae07",
   "metadata": {
    "language_info": {
     "name": "polyglot-notebook"
    },
    "polyglot_notebook": {
     "kernelName": "csharp"
    }
   },
   "outputs": [],
   "source": []
  },
  {
   "cell_type": "code",
   "execution_count": null,
   "id": "d10cec9d",
   "metadata": {
    "language_info": {
     "name": "polyglot-notebook"
    },
    "polyglot_notebook": {
     "kernelName": "csharp"
    }
   },
   "outputs": [
    {
     "data": {
      "text/html": [
       "<div><div></div><div></div><div><strong>Installed Packages</strong><ul><li><span>Microsoft.Agents.AI.AzureAI, 1.0.0-preview.251001.2</span></li></ul></div></div>"
      ]
     },
     "metadata": {},
     "output_type": "display_data"
    }
   ],
   "source": [
    "#r \"nuget: Microsoft.Agents.AI.AzureAI, 1.0.0-preview.251001.3\""
   ]
  },
  {
   "cell_type": "code",
   "execution_count": null,
   "id": "78199d1c",
   "metadata": {
    "language_info": {
     "name": "polyglot-notebook"
    },
    "polyglot_notebook": {
     "kernelName": "csharp"
    }
   },
   "outputs": [
    {
     "data": {
      "text/html": [
       "<div><div></div><div></div><div><strong>Installed Packages</strong><ul><li><span>microsoft.agents.ai, 1.0.0-preview.251001.2</span></li></ul></div></div>"
      ]
     },
     "metadata": {},
     "output_type": "display_data"
    }
   ],
   "source": [
    "#r \"nuget: Microsoft.Agents.AI, 1.0.0-preview.251001.3\""
   ]
  },
  {
   "cell_type": "code",
   "execution_count": 6,
   "id": "7de4684a",
   "metadata": {
    "language_info": {
     "name": "polyglot-notebook"
    },
    "polyglot_notebook": {
     "kernelName": "csharp"
    }
   },
   "outputs": [
    {
     "data": {
      "text/html": [
       "<div><div></div><div></div><div><strong>Installed Packages</strong><ul><li><span>DotNetEnv, 3.1.1</span></li></ul></div></div>"
      ]
     },
     "metadata": {},
     "output_type": "display_data"
    }
   ],
   "source": [
    "#r \"nuget: DotNetEnv, 3.1.1\""
   ]
  },
  {
   "cell_type": "code",
   "execution_count": 7,
   "id": "251efd31",
   "metadata": {
    "language_info": {
     "name": "polyglot-notebook"
    },
    "polyglot_notebook": {
     "kernelName": "csharp"
    }
   },
   "outputs": [],
   "source": [
    "using System;\n",
    "using System.Linq;\n",
    "using Azure.AI.Agents.Persistent;\n",
    "using Azure.Identity;\n",
    "using Microsoft.Agents.AI;"
   ]
  },
  {
   "cell_type": "code",
   "execution_count": 8,
   "id": "a2e342f1",
   "metadata": {
    "language_info": {
     "name": "polyglot-notebook"
    },
    "polyglot_notebook": {
     "kernelName": "csharp"
    }
   },
   "outputs": [],
   "source": [
    " using DotNetEnv;"
   ]
  },
  {
   "cell_type": "code",
   "execution_count": 9,
   "id": "a7a01653",
   "metadata": {
    "language_info": {
     "name": "polyglot-notebook"
    },
    "polyglot_notebook": {
     "kernelName": "csharp"
    }
   },
   "outputs": [],
   "source": [
    "Env.Load(\"../../../.env\");"
   ]
  },
  {
   "cell_type": "code",
   "execution_count": 10,
   "id": "a42735d5",
   "metadata": {
    "language_info": {
     "name": "polyglot-notebook"
    },
    "polyglot_notebook": {
     "kernelName": "csharp"
    }
   },
   "outputs": [],
   "source": [
    "var azure_foundry_endpoint = Environment.GetEnvironmentVariable(\"AZURE_AI_PROJECT_ENDPOINT\") ?? throw new InvalidOperationException(\"AZURE_AI_PROJECT_ENDPOINT is not set.\");\n",
    "var azure_foundry_model_id = Environment.GetEnvironmentVariable(\"AZURE_AI_MODEL_DEPLOYMENT_NAME\") ?? \"gpt-4.1-mini\";"
   ]
  },
  {
   "cell_type": "code",
   "execution_count": 11,
   "id": "e29bdb58",
   "metadata": {
    "language_info": {
     "name": "polyglot-notebook"
    },
    "polyglot_notebook": {
     "kernelName": "csharp"
    }
   },
   "outputs": [],
   "source": [
    "string pdfPath = \"./document.md\";"
   ]
  },
  {
   "cell_type": "code",
   "execution_count": 12,
   "id": "7351e12d",
   "metadata": {
    "language_info": {
     "name": "polyglot-notebook"
    },
    "polyglot_notebook": {
     "kernelName": "csharp"
    }
   },
   "outputs": [],
   "source": [
    "using System.IO;\n",
    "\n",
    "async Task<Stream> OpenImageStreamAsync(string path)\n",
    "{\n",
    "\treturn await Task.Run(() => File.OpenRead(path));\n",
    "}\n",
    "\n",
    "var pdfStream = await OpenImageStreamAsync(pdfPath);"
   ]
  },
  {
   "cell_type": "code",
   "execution_count": 13,
   "id": "0b6bf484",
   "metadata": {
    "language_info": {
     "name": "polyglot-notebook"
    },
    "polyglot_notebook": {
     "kernelName": "csharp"
    }
   },
   "outputs": [],
   "source": [
    "var persistentAgentsClient = new PersistentAgentsClient(azure_foundry_endpoint, new AzureCliCredential());"
   ]
  },
  {
   "cell_type": "code",
   "execution_count": 14,
   "id": "81e0dddc",
   "metadata": {
    "language_info": {
     "name": "polyglot-notebook"
    },
    "polyglot_notebook": {
     "kernelName": "csharp"
    }
   },
   "outputs": [],
   "source": [
    "PersistentAgentFileInfo fileInfo = await persistentAgentsClient.Files.UploadFileAsync(pdfStream, PersistentAgentFilePurpose.Agents, \"demo.md\");"
   ]
  },
  {
   "cell_type": "code",
   "execution_count": 15,
   "id": "f0c75d80",
   "metadata": {
    "language_info": {
     "name": "polyglot-notebook"
    },
    "polyglot_notebook": {
     "kernelName": "csharp"
    }
   },
   "outputs": [],
   "source": [
    "PersistentAgentsVectorStore fileStore =\n",
    "            await persistentAgentsClient.VectorStores.CreateVectorStoreAsync(\n",
    "                [fileInfo.Id],\n",
    "                metadata: new Dictionary<string, string>() { { \"agentkey\", bool.TrueString } });"
   ]
  },
  {
   "cell_type": "code",
   "execution_count": 16,
   "id": "c77986c5",
   "metadata": {
    "language_info": {
     "name": "polyglot-notebook"
    },
    "polyglot_notebook": {
     "kernelName": "csharp"
    }
   },
   "outputs": [],
   "source": [
    "PersistentAgent agentModel = await persistentAgentsClient.Administration.CreateAgentAsync(\n",
    "            azure_foundry_model_id,\n",
    "            name: \"DotNetRAGAgent\",\n",
    "            tools: [new FileSearchToolDefinition()],\n",
    "            instructions: \"\"\"\n",
    "                You are an AI assistant designed to answer user questions using only the information retrieved from the provided document(s).\n",
    "\n",
    "                - If a user's question cannot be answered using the retrieved context, **you must clearly respond**: \n",
    "                \"I'm sorry, but the uploaded document does not contain the necessary information to answer that question.\"\n",
    "                - Do not answer from general knowledge or reasoning. Do not make assumptions or generate hypothetical explanations.\n",
    "                - Do not provide definitions, tutorials, or commentary that is not explicitly grounded in the content of the uploaded file(s).\n",
    "                - If a user asks a question like \"What is a Neural Network?\", and this is not discussed in the uploaded document, respond as instructed above.\n",
    "                - For questions that do have relevant content in the document (e.g., Contoso's travel insurance coverage), respond accurately, and cite the document explicitly.\n",
    "\n",
    "                You must behave as if you have no external knowledge beyond what is retrieved from the uploaded document.\n",
    "                \"\"\",\n",
    "            toolResources: new()\n",
    "            {\n",
    "                FileSearch = new()\n",
    "                {\n",
    "                    VectorStoreIds = { fileStore.Id },\n",
    "                }\n",
    "            },\n",
    "            metadata: new Dictionary<string, string>() { { \"agentkey\", bool.TrueString } });"
   ]
  },
  {
   "cell_type": "code",
   "execution_count": 17,
   "id": "282326cf",
   "metadata": {
    "language_info": {
     "name": "polyglot-notebook"
    },
    "polyglot_notebook": {
     "kernelName": "csharp"
    }
   },
   "outputs": [],
   "source": [
    "AIAgent agent = await persistentAgentsClient.GetAIAgentAsync(agentModel.Id);"
   ]
  },
  {
   "cell_type": "code",
   "execution_count": 18,
   "id": "2067d313",
   "metadata": {
    "language_info": {
     "name": "polyglot-notebook"
    },
    "polyglot_notebook": {
     "kernelName": "csharp"
    }
   },
   "outputs": [],
   "source": [
    "AgentThread thread = agent.GetNewThread();"
   ]
  },
  {
   "cell_type": "code",
   "execution_count": 19,
   "id": "454c4230",
   "metadata": {
    "language_info": {
     "name": "polyglot-notebook"
    },
    "polyglot_notebook": {
     "kernelName": "csharp"
    }
   },
   "outputs": [
    {
     "name": "stdout",
     "output_type": "stream",
     "text": [
      "Contoso's travel insurance coverage includes protection for medical emergencies, trip cancellations, and lost baggage. This ensures that travelers are supported in case of health-related issues during their trip, unforeseen cancellations, and the loss of their belongings while traveling【4:0†demo.md】.\r\n"
     ]
    }
   ],
   "source": [
    "Console.WriteLine(await agent.RunAsync(\"Can you explain Contoso's travel insurance coverage?\", thread));"
   ]
  },
  {
   "cell_type": "markdown",
   "metadata": {},
   "source": [
    "\n---\n\n**Penafian**:  \nDokumen ini telah diterjemahkan menggunakan perkhidmatan terjemahan AI [Co-op Translator](https://github.com/Azure/co-op-translator). Walaupun kami berusaha untuk memastikan ketepatan, sila ambil perhatian bahawa terjemahan automatik mungkin mengandungi kesilapan atau ketidaktepatan. Dokumen asal dalam bahasa asalnya harus dianggap sebagai sumber yang berwibawa. Untuk maklumat yang kritikal, terjemahan manusia profesional adalah disyorkan. Kami tidak bertanggungjawab atas sebarang salah faham atau salah tafsir yang timbul daripada penggunaan terjemahan ini.\n"
   ]
  }
 ],
 "metadata": {
  "kernelspec": {
   "display_name": ".NET (C#)",
   "language": "C#",
   "name": ".net-csharp"
  },
  "language_info": {
   "name": "polyglot-notebook"
  },
  "polyglot_notebook": {
   "kernelInfo": {
    "defaultKernelName": "csharp",
    "items": [
     {
      "aliases": [],
      "name": "csharp"
     }
    ]
   }
  },
  "coopTranslator": {
   "original_hash": "e4584fa31638009dc6fb665275de8fc2",
   "translation_date": "2025-10-02T17:32:24+00:00",
   "source_file": "05-agentic-rag/code_samples/05-dotnet-agent-framework.ipynb",
   "language_code": "ms"
  }
 },
 "nbformat": 4,
 "nbformat_minor": 5
}