{
 "cells": [
  {
   "cell_type": "markdown",
   "id": "f4cf9593",
   "metadata": {},
   "source": [
    "# 🐍 माइक्रोसफ्ट एजेन्ट फ्रेमवर्क (Python) प्रयोग गरेर एआई ट्राभल एजेन्ट\n",
    "\n",
    "## 📋 परिदृश्यको अवलोकन\n",
    "\n",
    "यो नोटबुकले माइक्रोसफ्ट एजेन्ट फ्रेमवर्कको प्रयोग गरेर बुद्धिमान यात्रा योजना बनाउने एजेन्ट कसरी निर्माण गर्ने भनेर देखाउँछ। एजेन्टले GitHub Models प्रयोग गरेर विश्वभरका गन्तव्यहरूको लागि व्यक्तिगत दिन-यात्राको योजना स्वचालित रूपमा तयार गर्छ।\n",
    "\n",
    "**मुख्य विशेषताहरू:**\n",
    "- 🎲 **स्मार्ट गन्तव्य चयन**: गन्तव्य चयनको लागि कस्टम टूल फङ्सन\n",
    "- 🗺️ **विस्तृत यात्रा योजना निर्माण**: स्थानीय सिफारिससहितको एआई-शक्तियुक्त यात्रा योजना\n",
    "- 🔄 **Async प्रोसेसिङ**: API संचारको लागि प्रभावकारी asyncio प्रयोग\n",
    "- 🛠️ **टूल एकीकरण**: एआई एजेन्टहरूमा फङ्सन कल गर्ने क्षमता प्रदर्शन\n",
    "\n",
    "## 🏗️ प्राविधिक कार्यान्वयन\n",
    "\n",
    "### मुख्य घटकहरू\n",
    "- **एजेन्ट फ्रेमवर्क**: माइक्रोसफ्टको एजेन्ट समन्वय प्रणालीको Python कार्यान्वयन\n",
    "- **GitHub Models API**: GitHub को इनफरेन्स सेवामार्फत अत्याधुनिक भाषा मोडेलहरूको पहुँच\n",
    "- **OpenAI अनुकूलता**: GitHub Models ब्याकएन्डसँग OpenAI क्लाइन्ट ढाँचाहरू प्रयोग\n",
    "- **पर्यावरण व्यवस्थापन**: python-dotenv प्रयोग गरेर सुरक्षित प्रमाणपत्र व्यवस्थापन\n",
    "\n",
    "### आर्किटेक्चर प्रवाह\n",
    "```python\n",
    "User Request → ChatAgent → GitHub Models API ↔ get_random_destination()\n",
    "                     ↓\n",
    "              Travel Itinerary Response\n",
    "```\n",
    "\n",
    "### मुख्य कक्षहरू र विधिहरू\n",
    "- `ChatAgent`: मुख्य संवादात्मक एजेन्ट समन्वयकर्ता\n",
    "- `OpenAIChatClient`: GitHub Models API क्लाइन्ट आवरण\n",
    "- `get_random_destination()`: गन्तव्य चयनको लागि कस्टम टूल फङ्सन\n",
    "- वातावरण चरहरू: सुरक्षित API कन्फिगरेसन व्यवस्थापन\n",
    "\n",
    "## ⚙️ पूर्वापेक्षाहरू र सेटअप\n",
    "\n",
    "**आवश्यक निर्भरताहरू:**\n",
    "```bash\n",
    "\n",
    "pip install agent-framework-core -U\n",
    "```\n",
    "\n",
    "**पर्यावरण कन्फिगरेसन (.env फाइल):**\n",
    "```env\n",
    "GITHUB_TOKEN=your_github_personal_access_token\n",
    "GITHUB_ENDPOINT=https://models.inference.ai.azure.com\n",
    "GITHUB_MODEL_ID=gpt-4o-mini\n",
    "```\n",
    "\n",
    "**GitHub Models पहुँच:**\n",
    "1. GitHub Models पहुँचको लागि साइन अप गर्नुहोस्\n",
    "2. व्यक्तिगत पहुँच टोकन उत्पन्न गर्नुहोस्\n",
    "3. माथि देखाइएको जस्तै वातावरण चरहरू कन्फिगर गर्नुहोस्\n",
    "\n",
    "## 🚀 प्रयोग निर्देशिका\n",
    "\n",
    "तलका सेलहरू क्रमशः कार्यान्वयन गर्नुहोस्:\n",
    "1. आवश्यक लाइब्रेरीहरू आयात गर्नुहोस् र वातावरण चरहरू लोड गर्नुहोस्\n",
    "2. र्यान्डम गन्तव्य जेनरेटर टूल परिभाषित गर्नुहोस्\n",
    "3. एआई एजेन्ट सिर्जना र कन्फिगर गर्नुहोस्\n",
    "4. यात्रा योजना अनुरोधहरू चलाउनुहोस् र परिणामहरू हेर्नुहोस्\n",
    "\n",
    "आउनुहोस्, बुद्धिमान यात्रा योजना सहायक निर्माण गरौं! 🌟\n"
   ]
  },
  {
   "cell_type": "code",
   "execution_count": null,
   "id": "fda5fa0a",
   "metadata": {},
   "outputs": [],
   "source": [
    "! pip install agent-framework-core -U"
   ]
  },
  {
   "cell_type": "code",
   "execution_count": null,
   "id": "c0df8a52",
   "metadata": {},
   "outputs": [],
   "source": [
    "# 📦 Import Required Libraries\n",
    "# Standard library imports for system operations and random number generation\n",
    "import os\n",
    "from random import randint\n",
    "\n",
    "# Third-party library for loading environment variables from .env file\n",
    "from dotenv import load_dotenv"
   ]
  },
  {
   "cell_type": "code",
   "execution_count": null,
   "id": "151e0314",
   "metadata": {},
   "outputs": [],
   "source": [
    "# 🤖 Import Microsoft Agent Framework Components\n",
    "# ChatAgent: The main agent class for conversational AI\n",
    "# OpenAIChatClient: Client for connecting to OpenAI-compatible APIs (including GitHub Models)\n",
    "from agent_framework import ChatAgent\n",
    "from agent_framework.openai import OpenAIChatClient"
   ]
  },
  {
   "cell_type": "code",
   "execution_count": null,
   "id": "a6141584",
   "metadata": {},
   "outputs": [],
   "source": [
    "# 🔧 Load Environment Variables\n",
    "# This loads configuration from a .env file in the project root\n",
    "# Required variables: GITHUB_ENDPOINT, GITHUB_TOKEN, GITHUB_MODEL_ID\n",
    "load_dotenv()"
   ]
  },
  {
   "cell_type": "code",
   "execution_count": null,
   "id": "a6507f83",
   "metadata": {},
   "outputs": [],
   "source": [
    "# 🎲 Tool Function: Random Destination Generator\n",
    "# This function will be available to the agent as a tool\n",
    "# The agent can call this function to get random vacation destinations\n",
    "def get_random_destination() -> str:\n",
    "    \"\"\"Get a random vacation destination.\n",
    "    \n",
    "    Returns:\n",
    "        str: A randomly selected destination from our predefined list\n",
    "    \"\"\"\n",
    "    # List of popular vacation destinations around the world\n",
    "    destinations = [\n",
    "        \"Barcelona, Spain\",\n",
    "        \"Paris, France\", \n",
    "        \"Berlin, Germany\",\n",
    "        \"Tokyo, Japan\",\n",
    "        \"Sydney, Australia\",\n",
    "        \"New York, USA\",\n",
    "        \"Cairo, Egypt\",\n",
    "        \"Cape Town, South Africa\",\n",
    "        \"Rio de Janeiro, Brazil\",\n",
    "        \"Bali, Indonesia\"\n",
    "    ]\n",
    "    # Return a random destination from the list\n",
    "    return destinations[randint(0, len(destinations) - 1)]"
   ]
  },
  {
   "cell_type": "code",
   "execution_count": null,
   "id": "5d4f0568",
   "metadata": {},
   "outputs": [],
   "source": [
    "# 🔗 Create OpenAI Chat Client for GitHub Models\n",
    "# This client connects to GitHub Models API (OpenAI-compatible endpoint)\n",
    "# Environment variables required:\n",
    "# - GITHUB_ENDPOINT: API endpoint URL (usually https://models.inference.ai.azure.com)\n",
    "# - GITHUB_TOKEN: Your GitHub personal access token\n",
    "# - GITHUB_MODEL_ID: Model to use (e.g., gpt-4o-mini, gpt-4o)\n",
    "openai_chat_client = OpenAIChatClient(\n",
    "    base_url=os.environ.get(\"GITHUB_ENDPOINT\"),\n",
    "    api_key=os.environ.get(\"GITHUB_TOKEN\"), \n",
    "    model_id=os.environ.get(\"GITHUB_MODEL_ID\")\n",
    ")"
   ]
  },
  {
   "cell_type": "code",
   "execution_count": null,
   "id": "cf5a4800",
   "metadata": {},
   "outputs": [],
   "source": [
    "# 🤖 Create the Travel Planning Agent\n",
    "# This creates a conversational AI agent with specific capabilities:\n",
    "# - chat_client: The AI model client for generating responses\n",
    "# - instructions: System prompt that defines the agent's personality and role\n",
    "# - tools: List of functions the agent can call to perform actions\n",
    "agent = ChatAgent(\n",
    "    chat_client=openai_chat_client,\n",
    "    instructions=\"You are a helpful AI Agent that can help plan vacations for customers at random destinations.\",\n",
    "    tools=[get_random_destination]  # Our random destination tool function\n",
    ")"
   ]
  },
  {
   "cell_type": "code",
   "execution_count": null,
   "id": "772e9481",
   "metadata": {},
   "outputs": [],
   "source": [
    "# 🚀 Run the Agent\n",
    "# Send a message to the agent and get a response\n",
    "# The agent will use its tools (get_random_destination) if needed\n",
    "response = await agent.run(\"Plan me a day trip\")"
   ]
  },
  {
   "cell_type": "code",
   "execution_count": null,
   "id": "93c114ea",
   "metadata": {},
   "outputs": [],
   "source": [
    "# 📋 View Raw Response Object\n",
    "# This shows the complete response structure including metadata\n",
    "# Useful for debugging and understanding the response format\n",
    "response"
   ]
  },
  {
   "cell_type": "code",
   "execution_count": null,
   "id": "a731b547",
   "metadata": {},
   "outputs": [],
   "source": [
    "# 📖 Extract and Display the Travel Plan\n",
    "# Get the last message from the conversation (agent's response)s\n",
    "last_message = response.messages[-1]\n",
    "# Extract the text content from the message\n",
    "text_content = last_message.contents[0].text\n",
    "# Display the formatted travel plan\n",
    "print(\"🏖️ Travel plan:\")\n",
    "print(text_content)"
   ]
  },
  {
   "cell_type": "markdown",
   "metadata": {},
   "source": [
    "\n---\n\n**अस्वीकरण**:  \nयो दस्तावेज़ AI अनुवाद सेवा [Co-op Translator](https://github.com/Azure/co-op-translator) प्रयोग गरेर अनुवाद गरिएको छ। हामी यथार्थताको लागि प्रयास गर्छौं, तर कृपया ध्यान दिनुहोस् कि स्वचालित अनुवादमा त्रुटिहरू वा अशुद्धताहरू हुन सक्छ। यसको मूल भाषा मा रहेको मूल दस्तावेज़लाई आधिकारिक स्रोत मानिनुपर्छ। महत्वपूर्ण जानकारीको लागि, व्यावसायिक मानव अनुवाद सिफारिस गरिन्छ। यस अनुवादको प्रयोगबाट उत्पन्न हुने कुनै पनि गलतफहमी वा गलत व्याख्याको लागि हामी जिम्मेवार हुनेछैनौं।\n"
   ]
  }
 ],
 "metadata": {
  "kernelspec": {
   "display_name": "agentframeworkenv",
   "language": "python",
   "name": "python3"
  },
  "language_info": {
   "codemirror_mode": {
    "name": "ipython",
    "version": 3
   },
   "file_extension": ".py",
   "mimetype": "text/x-python",
   "name": "python",
   "nbconvert_exporter": "python",
   "pygments_lexer": "ipython3",
   "version": "3.12.10"
  },
  "polyglot_notebook": {
   "kernelInfo": {
    "defaultKernelName": "csharp",
    "items": [
     {
      "aliases": [],
      "name": "csharp"
     }
    ]
   }
  },
  "coopTranslator": {
   "original_hash": "02d6b305971fe27448c9d46a4c91eaf3",
   "translation_date": "2025-10-02T11:41:02+00:00",
   "source_file": "01-intro-to-ai-agents/code_samples/01-python-agent-framework.ipynb",
   "language_code": "ne"
  }
 },
 "nbformat": 4,
 "nbformat_minor": 5
}