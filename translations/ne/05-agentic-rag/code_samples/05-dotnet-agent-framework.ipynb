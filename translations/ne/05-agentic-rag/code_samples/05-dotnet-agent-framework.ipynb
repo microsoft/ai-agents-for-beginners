{
 "cells": [
  {
   "cell_type": "markdown",
   "id": "44b5899e",
   "metadata": {},
   "source": [
    "# 🔍 Azure AI Foundry (.NET) सँग Enterprise RAG\n",
    "\n",
    "## 📋 सिक्ने उद्देश्यहरू\n",
    "\n",
    "यो नोटबुकले Microsoft Agent Framework प्रयोग गरेर Azure AI Foundry मा .NET सँग enterprise-grade Retrieval-Augmented Generation (RAG) प्रणाली निर्माण गर्ने तरिका देखाउँछ। तपाईं उत्पादन-तयार एजेन्टहरू निर्माण गर्न सिक्नुहुनेछ जसले कागजातहरू खोज्न र सटीक, सन्दर्भ-सचेत उत्तरहरू प्रदान गर्न सक्छन्, enterprise सुरक्षा र स्केलेबिलिटीको साथ।\n",
    "\n",
    "**Enterprise RAG क्षमताहरू जुन तपाईं निर्माण गर्नुहुनेछ:**\n",
    "- 📚 **कागजात बुद्धिमत्ता**: Azure AI सेवाहरूको साथ उन्नत कागजात प्रशोधन\n",
    "- 🔍 **सामान्य खोज**: उच्च-प्रदर्शन भेक्टर खोज enterprise सुविधाहरूको साथ\n",
    "- 🛡️ **सुरक्षा एकीकरण**: भूमिका-आधारित पहुँच र डाटा सुरक्षा ढाँचाहरू\n",
    "- 🏢 **स्केलेबल आर्किटेक्चर**: निगरानीको साथ उत्पादन-तयार RAG प्रणालीहरू\n",
    "\n",
    "## 🎯 Enterprise RAG आर्किटेक्चर\n",
    "\n",
    "### मुख्य Enterprise घटकहरू\n",
    "- **Azure AI Foundry**: सुरक्षा र अनुपालनको साथ प्रबन्धित enterprise AI प्लेटफर्म\n",
    "- **Persistent Agents**: वार्तालाप इतिहास र सन्दर्भ व्यवस्थापनको साथ stateful एजेन्टहरू\n",
    "- **Vector Store Management**: enterprise-grade कागजात अनुक्रमण र पुनःप्राप्ति\n",
    "- **Identity Integration**: Azure AD प्रमाणीकरण र भूमिका-आधारित पहुँच नियन्त्रण\n",
    "\n",
    "### .NET Enterprise लाभहरू\n",
    "- **Type Safety**: RAG अपरेशनहरू र डाटा संरचनाहरूको लागि compile-time मान्यता\n",
    "- **Async Performance**: गैर-अवरोधक कागजात प्रशोधन र खोज अपरेशनहरू\n",
    "- **Memory Management**: ठूला कागजात संग्रहहरूको लागि कुशल स्रोत उपयोग\n",
    "- **Integration Patterns**: निर्भरता इंजेक्शनको साथ Azure सेवाहरूको मूल एकीकरण\n",
    "\n",
    "## 🏗️ प्राविधिक आर्किटेक्चर\n",
    "\n",
    "### Enterprise RAG पाइपलाइन\n",
    "```csharp\n",
    "Document Upload → Security Validation → Vector Processing → Index Creation\n",
    "                      ↓                    ↓                  ↓\n",
    "User Query → Authentication → Semantic Search → Context Ranking → AI Response\n",
    "```\n",
    "\n",
    "### मुख्य .NET घटकहरू\n",
    "- **Azure.AI.Agents.Persistent**: state persistence को साथ enterprise एजेन्ट व्यवस्थापन\n",
    "- **Azure.Identity**: सुरक्षित Azure सेवा पहुँचको लागि एकीकृत प्रमाणीकरण\n",
    "- **Microsoft.Agents.AI.AzureAI**: Azure-अनुकूलित एजेन्ट फ्रेमवर्क कार्यान्वयन\n",
    "- **System.Linq.Async**: उच्च-प्रदर्शन asynchronous LINQ अपरेशनहरू\n",
    "\n",
    "## 🔧 Enterprise सुविधाहरू र लाभहरू\n",
    "\n",
    "### सुरक्षा र अनुपालन\n",
    "- **Azure AD Integration**: enterprise पहिचान व्यवस्थापन र प्रमाणीकरण\n",
    "- **Role-Based Access**: कागजात पहुँच र अपरेशनहरूको लागि सूक्ष्म अनुमति\n",
    "- **Data Protection**: संवेदनशील कागजातहरूको लागि transit र rest मा एन्क्रिप्शन\n",
    "- **Audit Logging**: अनुपालन आवश्यकताहरूको लागि व्यापक गतिविधि ट्र्याकिङ\n",
    "\n",
    "### प्रदर्शन र स्केलेबिलिटी\n",
    "- **Connection Pooling**: कुशल Azure सेवा कनेक्शन व्यवस्थापन\n",
    "- **Async Processing**: उच्च-थ्रूपुट परिदृश्यहरूको लागि गैर-अवरोधक अपरेशनहरू\n",
    "- **Caching Strategies**: बारम्बार पहुँच गरिएका कागजातहरूको लागि बुद्धिमान क्यासिङ\n",
    "- **Load Balancing**: ठूला-स्तरको परिनियोजनहरूको लागि वितरित प्रशोधन\n",
    "\n",
    "### व्यवस्थापन र निगरानी\n",
    "- **Health Checks**: RAG प्रणाली घटकहरूको लागि निर्मित निगरानी\n",
    "- **Performance Metrics**: खोज गुणस्तर र प्रतिक्रिया समयको विस्तृत विश्लेषण\n",
    "- **Error Handling**: पुन: प्रयास नीतिहरूको साथ व्यापक अपवाद व्यवस्थापन\n",
    "- **Configuration Management**: मान्यतासहित वातावरण-विशिष्ट सेटिङहरू\n",
    "\n",
    "## ⚙️ पूर्वापेक्षाहरू र सेटअप\n",
    "\n",
    "**विकास वातावरण:**\n",
    "- .NET 9.0 SDK वा उच्च\n",
    "- Visual Studio 2022 वा VS Code C# विस्तारको साथ\n",
    "- Azure सदस्यता AI Foundry पहुँचको साथ\n",
    "\n",
    "**आवश्यक NuGet प्याकेजहरू:**\n",
    "```xml\n",
    "<PackageReference Include=\"Microsoft.Extensions.AI\" Version=\"9.9.0\" />\n",
    "<PackageReference Include=\"Azure.AI.Agents.Persistent\" Version=\"1.2.0-beta.5\" />\n",
    "<PackageReference Include=\"Azure.Identity\" Version=\"1.15.0\" />\n",
    "<PackageReference Include=\"System.Linq.Async\" Version=\"6.0.3\" />\n",
    "<PackageReference Include=\"DotNetEnv\" Version=\"3.1.1\" />\n",
    "```\n",
    "\n",
    "**Azure प्रमाणीकरण सेटअप:**\n",
    "```bash\n",
    "# Install Azure CLI and authenticate\n",
    "az login\n",
    "az account set --subscription \"your-subscription-id\"\n",
    "```\n",
    "\n",
    "**Environment Configuration (.env फाइल):**\n",
    "```env\n",
    "# Azure AI Foundry configuration (automatically handled via Azure CLI)\n",
    "# Ensure you're authenticated to the correct Azure subscription\n",
    "```\n",
    "\n",
    "## 📊 Enterprise RAG ढाँचाहरू\n",
    "\n",
    "### कागजात व्यवस्थापन ढाँचाहरू\n",
    "- **Bulk Upload**: ठूला कागजात संग्रहहरूको कुशल प्रशोधन\n",
    "- **Incremental Updates**: वास्तविक-समय कागजात थप र संशोधन\n",
    "- **Version Control**: कागजात संस्करण र परिवर्तन ट्र्याकिङ\n",
    "- **Metadata Management**: समृद्ध कागजात विशेषताहरू र वर्गीकरण\n",
    "\n",
    "### खोज र पुनःप्राप्ति ढाँचाहरू\n",
    "- **Hybrid Search**: इष्टतम परिणामहरूको लागि semantic र keyword खोजको संयोजन\n",
    "- **Faceted Search**: बहु-आयामिक फिल्टरिङ र वर्गीकरण\n",
    "- **Relevance Tuning**: डोमेन-विशिष्ट आवश्यकताहरूको लागि अनुकूल स्कोरिङ एल्गोरिदम\n",
    "- **Result Ranking**: व्यवसायिक तर्क एकीकरणको साथ उन्नत रैंकिङ\n",
    "\n",
    "### सुरक्षा ढाँचाहरू\n",
    "- **Document-Level Security**: प्रत्येक कागजातको लागि सूक्ष्म पहुँच नियन्त्रण\n",
    "- **Data Classification**: स्वचालित संवेदनशीलता लेबलिङ र सुरक्षा\n",
    "- **Audit Trails**: सबै RAG अपरेशनहरूको व्यापक लगिङ\n",
    "- **Privacy Protection**: PII पत्ता लगाउने र हटाउने क्षमता\n",
    "\n",
    "## 🔒 Enterprise सुरक्षा सुविधाहरू\n",
    "\n",
    "### प्रमाणीकरण र अनुमति\n",
    "```csharp\n",
    "// Azure AD integrated authentication\n",
    "var credential = new AzureCliCredential();\n",
    "var agentsClient = new PersistentAgentsClient(endpoint, credential);\n",
    "\n",
    "// Role-based access validation\n",
    "if (!await ValidateUserPermissions(user, documentId))\n",
    "{\n",
    "    throw new UnauthorizedAccessException(\"Insufficient permissions\");\n",
    "}\n",
    "```\n",
    "\n",
    "### डाटा सुरक्षा\n",
    "- **Encryption**: कागजात र खोज सूचकांकहरूको लागि end-to-end एन्क्रिप्शन\n",
    "- **Access Controls**: प्रयोगकर्ता र समूह अनुमतिहरूको लागि Azure AD एकीकरण\n",
    "- **Data Residency**: अनुपालनको लागि भौगोलिक डाटा स्थान नियन्त्रण\n",
    "- **Backup & Recovery**: स्वचालित ब्याकअप र आपतकालीन पुन: प्राप्ति क्षमता\n",
    "\n",
    "## 📈 प्रदर्शन अनुकूलन\n",
    "\n",
    "### Async प्रशोधन ढाँचाहरू\n",
    "```csharp\n",
    "// Efficient async document processing\n",
    "await foreach (var document in documentStream.AsAsyncEnumerable())\n",
    "{\n",
    "    await ProcessDocumentAsync(document, cancellationToken);\n",
    "}\n",
    "```\n",
    "\n",
    "### मेमोरी व्यवस्थापन\n",
    "- **Streaming Processing**: मेमोरी समस्याहरू बिना ठूला कागजातहरू ह्यान्डल गर्नुहोस्\n",
    "- **Resource Pooling**: महँगो स्रोतहरूको कुशल पुन: उपयोग\n",
    "- **Garbage Collection**: अनुकूलित मेमोरी आवंटन ढाँचाहरू\n",
    "- **Connection Management**: उचित Azure सेवा कनेक्शन जीवनचक्र\n",
    "\n",
    "### क्यासिङ रणनीतिहरू\n",
    "- **Query Caching**: बारम्बार कार्यान्वयन गरिएका खोजहरू क्यास गर्नुहोस्\n",
    "- **Document Caching**: तातो कागजातहरूको लागि इन-मेमोरी क्यासिङ\n",
    "- **Index Caching**: अनुकूलित भेक्टर सूचकांक क्यासिङ\n",
    "- **Result Caching**: उत्पन्न प्रतिक्रियाहरूको बुद्धिमान क्यासिङ\n",
    "\n",
    "## 📊 Enterprise प्रयोग केसहरू\n",
    "\n",
    "### ज्ञान व्यवस्थापन\n",
    "- **Corporate Wiki**: कम्पनी ज्ञान आधारहरूमा बुद्धिमान खोज\n",
    "- **Policy & Procedures**: स्वचालित अनुपालन र प्रक्रिया मार्गदर्शन\n",
    "- **Training Materials**: बुद्धिमान सिकाइ र विकास सहायता\n",
    "- **Research Databases**: शैक्षिक र अनुसन्धान कागजात विश्लेषण प्रणालीहरू\n",
    "\n",
    "### ग्राहक समर्थन\n",
    "- **Support Knowledge Base**: स्वचालित ग्राहक सेवा प्रतिक्रियाहरू\n",
    "- **Product Documentation**: बुद्धिमान उत्पादन जानकारी पुनःप्राप्ति\n",
    "- **Troubleshooting Guides**: सन्दर्भात्मक समस्या समाधान सहायता\n",
    "- **FAQ Systems**: कागजात संग्रहहरूबाट गतिशील FAQ निर्माण\n",
    "\n",
    "### नियामक अनुपालन\n",
    "- **Legal Document Analysis**: सम्झौता र कानुनी कागजात बुद्धिमत्ता\n",
    "- **Compliance Monitoring**: स्वचालित नियामक अनुपालन जाँच\n",
    "- **Risk Assessment**: कागजात-आधारित जोखिम विश्लेषण र रिपोर्टिङ\n",
    "- **Audit Support**: अडिटहरूको लागि बुद्धिमान कागजात खोज\n",
    "\n",
    "## 🚀 उत्पादन परिनियोजन\n",
    "\n",
    "### निगरानी र अवलोकनीयता\n",
    "- **Application Insights**: विस्तृत टेलिमेट्री र प्रदर्शन निगरानी\n",
    "- **Custom Metrics**: व्यवसाय-विशिष्ट KPI ट्र्याकिङ र अलर्टिङ\n",
    "- **Distributed Tracing**: सेवाहरूमा अनुरोध ट्र्याकिङको अन्त-देखि-अन्त\n",
    "- **Health Dashboards**: वास्तविक-समय प्रणाली स्वास्थ्य र प्रदर्शन दृश्य\n",
    "\n",
    "### स्केलेबिलिटी र विश्वसनीयता\n",
    "- **Auto-Scaling**: लोड र प्रदर्शन मेट्रिक्सको आधारमा स्वचालित स्केलिङ\n",
    "- **High Availability**: बहु-क्षेत्रीय परिनियोजन failover क्षमताहरूको साथ\n",
    "- **Load Testing**: enterprise लोड सर्तहरू अन्तर्गत प्रदर्शन मान्यता\n",
    "- **Disaster Recovery**: स्वचालित ब्याकअप र पुन: प्राप्ति प्रक्रियाहरू\n",
    "\n",
    "तयार हुनुहोस् enterprise-grade RAG प्रणालीहरू निर्माण गर्न जसले संवेदनशील कागजातहरूलाई स्केलमा ह्यान्डल गर्न सक्छ? आउनुहोस्, बुद्धिमान ज्ञान प्रणालीहरू निर्माण गरौं! 🏢📖✨\n"
   ]
  },
  {
   "cell_type": "code",
   "execution_count": 1,
   "metadata": {
    "language_info": {
     "name": "polyglot-notebook"
    },
    "polyglot_notebook": {
     "kernelName": "csharp"
    }
   },
   "outputs": [
    {
     "data": {
      "text/html": [
       "<div><div></div><div></div><div><strong>Installed Packages</strong><ul><li><span>Microsoft.Extensions.AI, 9.9.1</span></li></ul></div></div>"
      ]
     },
     "metadata": {},
     "output_type": "display_data"
    }
   ],
   "source": [
    "#r \"nuget: Microsoft.Extensions.AI, 9.9.1\""
   ]
  },
  {
   "cell_type": "code",
   "execution_count": 2,
   "id": "4ec1f0d1",
   "metadata": {
    "language_info": {
     "name": "polyglot-notebook"
    },
    "polyglot_notebook": {
     "kernelName": "csharp"
    }
   },
   "outputs": [
    {
     "data": {
      "text/html": [
       "<div><div></div><div></div><div><strong>Installed Packages</strong><ul><li><span>Azure.AI.Agents.Persistent, 1.2.0-beta.5</span></li><li><span>Azure.Identity, 1.15.0</span></li><li><span>System.Linq.Async, 6.0.3</span></li></ul></div></div>"
      ]
     },
     "metadata": {},
     "output_type": "display_data"
    }
   ],
   "source": [
    "#r \"nuget: Azure.AI.Agents.Persistent, 1.2.0-beta.5\"\n",
    "#r \"nuget: Azure.Identity, 1.15.0\"\n",
    "#r \"nuget: System.Linq.Async, 6.0.3\""
   ]
  },
  {
   "cell_type": "code",
   "execution_count": 3,
   "id": "2363ae07",
   "metadata": {
    "language_info": {
     "name": "polyglot-notebook"
    },
    "polyglot_notebook": {
     "kernelName": "csharp"
    }
   },
   "outputs": [],
   "source": []
  },
  {
   "cell_type": "code",
   "execution_count": null,
   "id": "d10cec9d",
   "metadata": {
    "language_info": {
     "name": "polyglot-notebook"
    },
    "polyglot_notebook": {
     "kernelName": "csharp"
    }
   },
   "outputs": [
    {
     "data": {
      "text/html": [
       "<div><div></div><div></div><div><strong>Installed Packages</strong><ul><li><span>Microsoft.Agents.AI.AzureAI, 1.0.0-preview.251001.2</span></li></ul></div></div>"
      ]
     },
     "metadata": {},
     "output_type": "display_data"
    }
   ],
   "source": [
    "#r \"nuget: Microsoft.Agents.AI.AzureAI, 1.0.0-preview.251001.3\""
   ]
  },
  {
   "cell_type": "code",
   "execution_count": null,
   "id": "78199d1c",
   "metadata": {
    "language_info": {
     "name": "polyglot-notebook"
    },
    "polyglot_notebook": {
     "kernelName": "csharp"
    }
   },
   "outputs": [
    {
     "data": {
      "text/html": [
       "<div><div></div><div></div><div><strong>Installed Packages</strong><ul><li><span>microsoft.agents.ai, 1.0.0-preview.251001.2</span></li></ul></div></div>"
      ]
     },
     "metadata": {},
     "output_type": "display_data"
    }
   ],
   "source": [
    "#r \"nuget: Microsoft.Agents.AI, 1.0.0-preview.251001.3\""
   ]
  },
  {
   "cell_type": "code",
   "execution_count": 6,
   "id": "7de4684a",
   "metadata": {
    "language_info": {
     "name": "polyglot-notebook"
    },
    "polyglot_notebook": {
     "kernelName": "csharp"
    }
   },
   "outputs": [
    {
     "data": {
      "text/html": [
       "<div><div></div><div></div><div><strong>Installed Packages</strong><ul><li><span>DotNetEnv, 3.1.1</span></li></ul></div></div>"
      ]
     },
     "metadata": {},
     "output_type": "display_data"
    }
   ],
   "source": [
    "#r \"nuget: DotNetEnv, 3.1.1\""
   ]
  },
  {
   "cell_type": "code",
   "execution_count": 7,
   "id": "251efd31",
   "metadata": {
    "language_info": {
     "name": "polyglot-notebook"
    },
    "polyglot_notebook": {
     "kernelName": "csharp"
    }
   },
   "outputs": [],
   "source": [
    "using System;\n",
    "using System.Linq;\n",
    "using Azure.AI.Agents.Persistent;\n",
    "using Azure.Identity;\n",
    "using Microsoft.Agents.AI;"
   ]
  },
  {
   "cell_type": "code",
   "execution_count": 8,
   "id": "a2e342f1",
   "metadata": {
    "language_info": {
     "name": "polyglot-notebook"
    },
    "polyglot_notebook": {
     "kernelName": "csharp"
    }
   },
   "outputs": [],
   "source": [
    " using DotNetEnv;"
   ]
  },
  {
   "cell_type": "code",
   "execution_count": 9,
   "id": "a7a01653",
   "metadata": {
    "language_info": {
     "name": "polyglot-notebook"
    },
    "polyglot_notebook": {
     "kernelName": "csharp"
    }
   },
   "outputs": [],
   "source": [
    "Env.Load(\"../../../.env\");"
   ]
  },
  {
   "cell_type": "code",
   "execution_count": 10,
   "id": "a42735d5",
   "metadata": {
    "language_info": {
     "name": "polyglot-notebook"
    },
    "polyglot_notebook": {
     "kernelName": "csharp"
    }
   },
   "outputs": [],
   "source": [
    "var azure_foundry_endpoint = Environment.GetEnvironmentVariable(\"AZURE_AI_PROJECT_ENDPOINT\") ?? throw new InvalidOperationException(\"AZURE_AI_PROJECT_ENDPOINT is not set.\");\n",
    "var azure_foundry_model_id = Environment.GetEnvironmentVariable(\"AZURE_AI_MODEL_DEPLOYMENT_NAME\") ?? \"gpt-4.1-mini\";"
   ]
  },
  {
   "cell_type": "code",
   "execution_count": 11,
   "id": "e29bdb58",
   "metadata": {
    "language_info": {
     "name": "polyglot-notebook"
    },
    "polyglot_notebook": {
     "kernelName": "csharp"
    }
   },
   "outputs": [],
   "source": [
    "string pdfPath = \"./document.md\";"
   ]
  },
  {
   "cell_type": "code",
   "execution_count": 12,
   "id": "7351e12d",
   "metadata": {
    "language_info": {
     "name": "polyglot-notebook"
    },
    "polyglot_notebook": {
     "kernelName": "csharp"
    }
   },
   "outputs": [],
   "source": [
    "using System.IO;\n",
    "\n",
    "async Task<Stream> OpenImageStreamAsync(string path)\n",
    "{\n",
    "\treturn await Task.Run(() => File.OpenRead(path));\n",
    "}\n",
    "\n",
    "var pdfStream = await OpenImageStreamAsync(pdfPath);"
   ]
  },
  {
   "cell_type": "code",
   "execution_count": 13,
   "id": "0b6bf484",
   "metadata": {
    "language_info": {
     "name": "polyglot-notebook"
    },
    "polyglot_notebook": {
     "kernelName": "csharp"
    }
   },
   "outputs": [],
   "source": [
    "var persistentAgentsClient = new PersistentAgentsClient(azure_foundry_endpoint, new AzureCliCredential());"
   ]
  },
  {
   "cell_type": "code",
   "execution_count": 14,
   "id": "81e0dddc",
   "metadata": {
    "language_info": {
     "name": "polyglot-notebook"
    },
    "polyglot_notebook": {
     "kernelName": "csharp"
    }
   },
   "outputs": [],
   "source": [
    "PersistentAgentFileInfo fileInfo = await persistentAgentsClient.Files.UploadFileAsync(pdfStream, PersistentAgentFilePurpose.Agents, \"demo.md\");"
   ]
  },
  {
   "cell_type": "code",
   "execution_count": 15,
   "id": "f0c75d80",
   "metadata": {
    "language_info": {
     "name": "polyglot-notebook"
    },
    "polyglot_notebook": {
     "kernelName": "csharp"
    }
   },
   "outputs": [],
   "source": [
    "PersistentAgentsVectorStore fileStore =\n",
    "            await persistentAgentsClient.VectorStores.CreateVectorStoreAsync(\n",
    "                [fileInfo.Id],\n",
    "                metadata: new Dictionary<string, string>() { { \"agentkey\", bool.TrueString } });"
   ]
  },
  {
   "cell_type": "code",
   "execution_count": 16,
   "id": "c77986c5",
   "metadata": {
    "language_info": {
     "name": "polyglot-notebook"
    },
    "polyglot_notebook": {
     "kernelName": "csharp"
    }
   },
   "outputs": [],
   "source": [
    "PersistentAgent agentModel = await persistentAgentsClient.Administration.CreateAgentAsync(\n",
    "            azure_foundry_model_id,\n",
    "            name: \"DotNetRAGAgent\",\n",
    "            tools: [new FileSearchToolDefinition()],\n",
    "            instructions: \"\"\"\n",
    "                You are an AI assistant designed to answer user questions using only the information retrieved from the provided document(s).\n",
    "\n",
    "                - If a user's question cannot be answered using the retrieved context, **you must clearly respond**: \n",
    "                \"I'm sorry, but the uploaded document does not contain the necessary information to answer that question.\"\n",
    "                - Do not answer from general knowledge or reasoning. Do not make assumptions or generate hypothetical explanations.\n",
    "                - Do not provide definitions, tutorials, or commentary that is not explicitly grounded in the content of the uploaded file(s).\n",
    "                - If a user asks a question like \"What is a Neural Network?\", and this is not discussed in the uploaded document, respond as instructed above.\n",
    "                - For questions that do have relevant content in the document (e.g., Contoso's travel insurance coverage), respond accurately, and cite the document explicitly.\n",
    "\n",
    "                You must behave as if you have no external knowledge beyond what is retrieved from the uploaded document.\n",
    "                \"\"\",\n",
    "            toolResources: new()\n",
    "            {\n",
    "                FileSearch = new()\n",
    "                {\n",
    "                    VectorStoreIds = { fileStore.Id },\n",
    "                }\n",
    "            },\n",
    "            metadata: new Dictionary<string, string>() { { \"agentkey\", bool.TrueString } });"
   ]
  },
  {
   "cell_type": "code",
   "execution_count": 17,
   "id": "282326cf",
   "metadata": {
    "language_info": {
     "name": "polyglot-notebook"
    },
    "polyglot_notebook": {
     "kernelName": "csharp"
    }
   },
   "outputs": [],
   "source": [
    "AIAgent agent = await persistentAgentsClient.GetAIAgentAsync(agentModel.Id);"
   ]
  },
  {
   "cell_type": "code",
   "execution_count": 18,
   "id": "2067d313",
   "metadata": {
    "language_info": {
     "name": "polyglot-notebook"
    },
    "polyglot_notebook": {
     "kernelName": "csharp"
    }
   },
   "outputs": [],
   "source": [
    "AgentThread thread = agent.GetNewThread();"
   ]
  },
  {
   "cell_type": "code",
   "execution_count": 19,
   "id": "454c4230",
   "metadata": {
    "language_info": {
     "name": "polyglot-notebook"
    },
    "polyglot_notebook": {
     "kernelName": "csharp"
    }
   },
   "outputs": [
    {
     "name": "stdout",
     "output_type": "stream",
     "text": [
      "Contoso's travel insurance coverage includes protection for medical emergencies, trip cancellations, and lost baggage. This ensures that travelers are supported in case of health-related issues during their trip, unforeseen cancellations, and the loss of their belongings while traveling【4:0†demo.md】.\r\n"
     ]
    }
   ],
   "source": [
    "Console.WriteLine(await agent.RunAsync(\"Can you explain Contoso's travel insurance coverage?\", thread));"
   ]
  },
  {
   "cell_type": "markdown",
   "metadata": {},
   "source": [
    "\n---\n\n**अस्वीकरण**:  \nयो दस्तावेज़ AI अनुवाद सेवा [Co-op Translator](https://github.com/Azure/co-op-translator) प्रयोग गरेर अनुवाद गरिएको छ। हामी यथार्थताको लागि प्रयास गर्छौं, तर कृपया ध्यान दिनुहोस् कि स्वचालित अनुवादहरूमा त्रुटिहरू वा अशुद्धताहरू हुन सक्छ। यसको मूल भाषा मा रहेको मूल दस्तावेज़लाई आधिकारिक स्रोत मानिनुपर्छ। महत्वपूर्ण जानकारीको लागि, व्यावसायिक मानव अनुवाद सिफारिस गरिन्छ। यस अनुवादको प्रयोगबाट उत्पन्न हुने कुनै पनि गलतफहमी वा गलत व्याख्याको लागि हामी जिम्मेवार हुने छैनौं।\n"
   ]
  }
 ],
 "metadata": {
  "kernelspec": {
   "display_name": ".NET (C#)",
   "language": "C#",
   "name": ".net-csharp"
  },
  "language_info": {
   "name": "polyglot-notebook"
  },
  "polyglot_notebook": {
   "kernelInfo": {
    "defaultKernelName": "csharp",
    "items": [
     {
      "aliases": [],
      "name": "csharp"
     }
    ]
   }
  },
  "coopTranslator": {
   "original_hash": "e4584fa31638009dc6fb665275de8fc2",
   "translation_date": "2025-10-02T11:20:45+00:00",
   "source_file": "05-agentic-rag/code_samples/05-dotnet-agent-framework.ipynb",
   "language_code": "ne"
  }
 },
 "nbformat": 4,
 "nbformat_minor": 5
}