{
 "cells": [
  {
   "cell_type": "markdown",
   "id": "263ac938",
   "metadata": {},
   "source": [
    "# होटल बुकिङमा प्राथमिकता सदस्य मिडलवेयर\n",
    "\n",
    "यो नोटबुकले **फङ्सन-आधारित मिडलवेयर** लाई Microsoft Agent Framework प्रयोग गरेर प्रदर्शन गर्दछ। हामी सशर्त कार्यप्रवाह उदाहरणलाई विस्तार गर्दै प्राथमिकता सदस्यहरूलाई विशेष सुविधा दिने मिडलवेयर तह थप्छौं।\n",
    "\n",
    "## तपाईंले के सिक्नुहुनेछ:\n",
    "1. **फङ्सन-आधारित मिडलवेयर**: फङ्सनको नतिजा रोक्ने र परिवर्तन गर्ने\n",
    "2. **सन्दर्भ पहुँच**: `context.result` लाई कार्यान्वयनपछि पढ्ने र परिवर्तन गर्ने\n",
    "3. **व्यापारिक तर्क कार्यान्वयन**: प्राथमिकता सदस्य सुविधाहरू\n",
    "4. **नतिजा अधिलेखन**: प्रयोगकर्ताको स्थिति अनुसार फङ्सनको नतिजा परिवर्तन गर्ने\n",
    "5. **उही कार्यप्रवाह, फरक नतिजा**: मिडलवेयरद्वारा व्यवहार परिवर्तन\n",
    "\n",
    "## मिडलवेयरसहित कार्यप्रवाहको संरचना:\n",
    "\n",
    "```\n",
    "User Input: \"I want to book a hotel in Paris\"\n",
    "                    ↓\n",
    "        [availability_agent]\n",
    "        - Calls hotel_booking tool\n",
    "        - 🌟 priority_check middleware intercepts\n",
    "        - Checks user membership status\n",
    "        - IF priority + no rooms → Override to available!\n",
    "        - Returns BookingCheckResult\n",
    "                    ↓\n",
    "        Conditional Routing\n",
    "           /                    \\\n",
    "    [has_availability]    [no_availability]\n",
    "          ↓                      ↓\n",
    "    [booking_agent]        [alternative_agent]\n",
    "    (Priority override!)   (Regular users)\n",
    "          ↓                      ↓\n",
    "       [display_result executor]\n",
    "```\n",
    "\n",
    "## सशर्त कार्यप्रवाहबाट मुख्य भिन्नता:\n",
    "\n",
    "**मिडलवेयर बिना** (14-conditional-workflow.ipynb):\n",
    "- पेरिसमा कोठा छैन → alternative_agent मा रुट गरिन्छ\n",
    "\n",
    "**मिडलवेयरसहित** (यो नोटबुक):\n",
    "- नियमित प्रयोगकर्ता + पेरिस → कोठा छैन → alternative_agent मा रुट गरिन्छ\n",
    "- प्राथमिकता प्रयोगकर्ता + पेरिस → 🌟 मिडलवेयर अधिलेखन! → उपलब्ध → booking_agent मा रुट गरिन्छ\n",
    "\n",
    "## आवश्यकताहरू:\n",
    "- Microsoft Agent Framework स्थापना गरिएको\n",
    "- सशर्त कार्यप्रवाहको समझ (14-conditional-workflow.ipynb हेर्नुहोस्)\n",
    "- GitHub टोकन वा OpenAI API कुञ्जी\n",
    "- मिडलवेयर ढाँचाको आधारभूत समझ\n"
   ]
  },
  {
   "cell_type": "code",
   "execution_count": 2,
   "id": "ec6cafec",
   "metadata": {},
   "outputs": [
    {
     "name": "stdout",
     "output_type": "stream",
     "text": [
      "✅ All imports successful!\n"
     ]
    }
   ],
   "source": [
    "import asyncio\n",
    "import json\n",
    "import os\n",
    "from collections.abc import Awaitable, Callable\n",
    "from typing import Annotated, Any, Never\n",
    "\n",
    "from agent_framework import (\n",
    "    AgentExecutor,\n",
    "    AgentExecutorRequest,\n",
    "    AgentExecutorResponse,\n",
    "    ChatMessage,\n",
    "    FunctionInvocationContext,\n",
    "    Role,\n",
    "    WorkflowBuilder,\n",
    "    WorkflowContext,\n",
    "    ai_function,\n",
    "    executor,\n",
    ")\n",
    "\n",
    "# 🤖 GitHub Models or OpenAI client integration\n",
    "from agent_framework.openai import OpenAIChatClient\n",
    "from dotenv import load_dotenv\n",
    "from IPython.display import HTML, display\n",
    "from pydantic import BaseModel\n",
    "\n",
    "print(\"✅ All imports successful!\")"
   ]
  },
  {
   "cell_type": "markdown",
   "id": "4d67d9a1",
   "metadata": {},
   "source": [
    "## चरण १: संरचित आउटपुटहरूको लागि Pydantic मोडेलहरू परिभाषित गर्नुहोस्\n",
    "\n",
    "यी मोडेलहरूले एजेन्टहरूले फिर्ता गर्ने **schema** परिभाषित गर्छन्। हामीले `priority_override` क्षेत्र थपेका छौं जसले मिडलवेयरले उपलब्धता परिणाम परिवर्तन गर्दा ट्र्याक गर्छ।\n"
   ]
  },
  {
   "cell_type": "code",
   "execution_count": 3,
   "id": "9973ac54",
   "metadata": {},
   "outputs": [
    {
     "name": "stdout",
     "output_type": "stream",
     "text": [
      "✅ Pydantic models defined:\n",
      "   - BookingCheckResult (availability check with priority_override)\n",
      "   - AlternativeResult (alternative suggestion)\n",
      "   - BookingConfirmation (booking confirmation)\n"
     ]
    }
   ],
   "source": [
    "class BookingCheckResult(BaseModel):\n",
    "    \"\"\"Result from checking hotel availability at a destination.\"\"\"\n",
    "\n",
    "    destination: str\n",
    "    has_availability: bool\n",
    "    message: str\n",
    "    priority_override: bool = False  # 🆕 NEW! Tracks if middleware overrode the result\n",
    "\n",
    "\n",
    "class AlternativeResult(BaseModel):\n",
    "    \"\"\"Suggested alternative destination when no rooms available.\"\"\"\n",
    "\n",
    "    alternative_destination: str\n",
    "    reason: str\n",
    "\n",
    "\n",
    "class BookingConfirmation(BaseModel):\n",
    "    \"\"\"Booking suggestion when rooms are available.\"\"\"\n",
    "\n",
    "    destination: str\n",
    "    action: str\n",
    "    message: str\n",
    "\n",
    "\n",
    "print(\"✅ Pydantic models defined:\")\n",
    "print(\"   - BookingCheckResult (availability check with priority_override)\")\n",
    "print(\"   - AlternativeResult (alternative suggestion)\")\n",
    "print(\"   - BookingConfirmation (booking confirmation)\")"
   ]
  },
  {
   "cell_type": "markdown",
   "id": "8e3d0853",
   "metadata": {},
   "source": [
    "## चरण २: प्राथमिक सदस्यहरूको डाटाबेस परिभाषित गर्नुहोस्\n",
    "\n",
    "यस डेमोका लागि, हामी प्राथमिक सदस्यता डाटाबेसलाई अनुकरण गर्नेछौं। उत्पादनमा, यसले वास्तविक डाटाबेस वा API सोधपुछ गर्नेछ।\n",
    "\n",
    "**प्राथमिक सदस्यहरू:**\n",
    "- `alice@example.com` - VIP सदस्य\n",
    "- `bob@example.com` - प्रिमियम सदस्य  \n",
    "- `priority_user` - परीक्षण खाता\n"
   ]
  },
  {
   "cell_type": "code",
   "execution_count": 4,
   "id": "c6fc0feb",
   "metadata": {},
   "outputs": [
    {
     "name": "stdout",
     "output_type": "stream",
     "text": [
      "✅ Priority members database created\n",
      "   Priority members: 3 users\n"
     ]
    }
   ],
   "source": [
    "# Simulated priority members database\n",
    "PRIORITY_MEMBERS = {\n",
    "    \"alice@example.com\",\n",
    "    \"bob@example.com\",\n",
    "    \"priority_user\",\n",
    "}\n",
    "\n",
    "# Global variable to track current user (in real app, use proper session management)\n",
    "current_user_id = \"regular_user\"  # Default: regular user\n",
    "\n",
    "\n",
    "def set_user(user_id: str):\n",
    "    \"\"\"Set the current user for the session.\"\"\"\n",
    "    global current_user_id\n",
    "    current_user_id = user_id\n",
    "    is_priority = user_id in PRIORITY_MEMBERS\n",
    "    status = \"🌟 PRIORITY MEMBER\" if is_priority else \"👤 Regular User\"\n",
    "\n",
    "    display(\n",
    "        HTML(f\"\"\"\n",
    "        <div style='padding: 15px; background: {\"linear-gradient(135deg, #FFD700 0%, #FFA500 100%)\" if is_priority else \"#e3f2fd\"}; \n",
    "                    border-left: 4px solid {\"#FF6B35\" if is_priority else \"#2196f3\"}; border-radius: 4px; margin: 10px 0;'>\n",
    "            <strong>👤 Current User Set:</strong> {user_id}<br>\n",
    "            <strong>Status:</strong> {status}\n",
    "        </div>\n",
    "    \"\"\")\n",
    "    )\n",
    "\n",
    "\n",
    "print(\"✅ Priority members database created\")\n",
    "print(f\"   Priority members: {len(PRIORITY_MEMBERS)} users\")"
   ]
  },
  {
   "cell_type": "markdown",
   "id": "1b503f57",
   "metadata": {},
   "source": [
    "## चरण ३: होटल बुकिङ उपकरण बनाउनुहोस्\n",
    "\n",
    "सर्त अनुसारको कार्यप्रवाह जस्तै, तर अब यो मध्यवर्ती सफ्टवेयरद्वारा रोकिनेछ!\n"
   ]
  },
  {
   "cell_type": "code",
   "execution_count": 5,
   "id": "1e17f7f2",
   "metadata": {},
   "outputs": [
    {
     "name": "stdout",
     "output_type": "stream",
     "text": [
      "✅ hotel_booking tool created with @ai_function decorator\n"
     ]
    }
   ],
   "source": [
    "@ai_function(description=\"Check hotel room availability for a destination city\")\n",
    "def hotel_booking(destination: Annotated[str, \"The destination city to check for hotel rooms\"]) -> str:\n",
    "    \"\"\"\n",
    "    Simulates checking hotel room availability.\n",
    "    \n",
    "    Returns JSON string with availability status.\n",
    "    \"\"\"\n",
    "    display(\n",
    "        HTML(f\"\"\"\n",
    "        <div style='padding: 15px; background: #e3f2fd; border-left: 4px solid #2196f3; border-radius: 4px; margin: 10px 0;'>\n",
    "            <strong>🔍 Tool Invoked:</strong> hotel_booking(\"{destination}\")\n",
    "        </div>\n",
    "    \"\"\")\n",
    "    )\n",
    "\n",
    "    # Simulate availability check\n",
    "    cities_with_rooms = [\"stockholm\", \"seattle\", \"tokyo\", \"london\", \"amsterdam\"]\n",
    "    has_rooms = destination.lower() in cities_with_rooms\n",
    "\n",
    "    result = {\"has_availability\": has_rooms, \"destination\": destination}\n",
    "\n",
    "    return json.dumps(result)\n",
    "\n",
    "\n",
    "print(\"✅ hotel_booking tool created with @ai_function decorator\")"
   ]
  },
  {
   "cell_type": "markdown",
   "id": "88ffd637",
   "metadata": {},
   "source": [
    "## चरण ४: 🌟 प्राथमिकता जाँच मिडलवेयर बनाउनुहोस् (मुख्य विशेषता!)\n",
    "\n",
    "यो नोटबुकको **मुख्य कार्यक्षमता** हो। मिडलवेयर:\n",
    "\n",
    "1. **अवरोध गर्दछ** hotel_booking फङ्सन कललाई\n",
    "2. `next(context)` कल गरेर फङ्सनलाई सामान्य रूपमा **कार्यान्वयन गर्दछ**\n",
    "3. `context.result` मा नतिजा **जाँच गर्दछ**\n",
    "4. यदि प्रयोगकर्ता प्राथमिकता हो र कोठा उपलब्ध छैन भने नतिजा **अधिकारित गर्दछ**\n",
    "5. **परिमार्जित नतिजा** एजेन्टलाई फिर्ता दिन्छ\n",
    "\n",
    "**मुख्य ढाँचा:**\n",
    "```python\n",
    "async def my_middleware(context, next):\n",
    "    await next(context)  # Execute function\n",
    "    # Now context.result contains the function's output\n",
    "    if some_condition:\n",
    "        context.result = new_value  # Override!\n",
    "```\n"
   ]
  },
  {
   "cell_type": "code",
   "execution_count": 6,
   "id": "ba160f08",
   "metadata": {},
   "outputs": [
    {
     "name": "stdout",
     "output_type": "stream",
     "text": [
      "✅ priority_check_middleware created\n",
      "   - Intercepts hotel_booking function\n",
      "   - Overrides availability for priority members\n"
     ]
    }
   ],
   "source": [
    "async def priority_check_middleware(\n",
    "    context: FunctionInvocationContext,\n",
    "    next: Callable[[FunctionInvocationContext], Awaitable[None]],\n",
    ") -> None:\n",
    "    \"\"\"\n",
    "    Function middleware that overrides hotel_booking results for priority members.\n",
    "    \n",
    "    Workflow:\n",
    "    1. Let the function execute normally\n",
    "    2. Check if user is a priority member\n",
    "    3. If priority + no availability → Override to make rooms available!\n",
    "    4. Agent will then route to booking path instead of alternative path\n",
    "    \"\"\"\n",
    "    function_name = context.function.name\n",
    "\n",
    "    display(\n",
    "        HTML(f\"\"\"\n",
    "        <div style='padding: 12px; background: #fff3e0; border-left: 4px solid #ff9800; border-radius: 4px; margin: 10px 0;'>\n",
    "            <strong>🔄 Middleware:</strong> Intercepting {function_name}...\n",
    "        </div>\n",
    "    \"\"\")\n",
    "    )\n",
    "\n",
    "    # Execute the original function\n",
    "    await next(context)\n",
    "\n",
    "    # Now inspect and potentially modify the result\n",
    "    if context.result and function_name == \"hotel_booking\":\n",
    "        result_data = json.loads(context.result)\n",
    "        destination = result_data.get(\"destination\", \"\")\n",
    "        has_availability = result_data.get(\"has_availability\", False)\n",
    "\n",
    "        # Check if user is priority member\n",
    "        is_priority = current_user_id in PRIORITY_MEMBERS\n",
    "\n",
    "        # Override logic: Priority member + no availability → Make available!\n",
    "        if is_priority and not has_availability:\n",
    "            display(\n",
    "                HTML(f\"\"\"\n",
    "                <div style='padding: 20px; background: linear-gradient(135deg, #FFD700 0%, #FFA500 100%); \n",
    "                            border-radius: 8px; margin: 10px 0; box-shadow: 0 4px 12px rgba(255,165,0,0.4);'>\n",
    "                    <h3 style='margin: 0 0 10px 0; color: #333;'>🌟 PRIORITY OVERRIDE ACTIVATED! 🌟</h3>\n",
    "                    <p style='margin: 0; color: #555; line-height: 1.6;'>\n",
    "                        <strong>User:</strong> {current_user_id}<br>\n",
    "                        <strong>Status:</strong> VIP Priority Member<br>\n",
    "                        <strong>Action:</strong> Overriding \"No Availability\" for {destination}<br>\n",
    "                        <strong>Result:</strong> ✅ Rooms now available for priority booking!\n",
    "                    </p>\n",
    "                </div>\n",
    "            \"\"\")\n",
    "            )\n",
    "\n",
    "            # Override the result!\n",
    "            result_data[\"has_availability\"] = True\n",
    "            result_data[\"priority_override\"] = True\n",
    "            context.result = json.dumps(result_data)\n",
    "\n",
    "        elif not has_availability:\n",
    "            display(\n",
    "                HTML(f\"\"\"\n",
    "                <div style='padding: 12px; background: #ffebee; border-left: 4px solid #f44336; border-radius: 4px; margin: 10px 0;'>\n",
    "                    <strong>ℹ️ Middleware:</strong> No priority override (user: {current_user_id})\n",
    "                </div>\n",
    "            \"\"\")\n",
    "            )\n",
    "\n",
    "\n",
    "print(\"✅ priority_check_middleware created\")\n",
    "print(\"   - Intercepts hotel_booking function\")\n",
    "print(\"   - Overrides availability for priority members\")"
   ]
  },
  {
   "cell_type": "markdown",
   "id": "630b6c2b",
   "metadata": {},
   "source": [
    "## चरण ५: रुटिङका लागि सर्त कार्यहरू परिभाषित गर्नुहोस्\n",
    "\n",
    "उस्तै सर्त कार्यहरू जस्तै सर्तात्मक कार्यप्रवाह - ती संरचित आउटपुटलाई निरीक्षण गर्छन् र रुटिङ निर्धारण गर्छन्।\n"
   ]
  },
  {
   "cell_type": "code",
   "execution_count": 7,
   "id": "c82b0633",
   "metadata": {},
   "outputs": [
    {
     "name": "stdout",
     "output_type": "stream",
     "text": [
      "✅ Condition functions defined\n"
     ]
    }
   ],
   "source": [
    "def has_availability_condition(message: Any) -> bool:\n",
    "    \"\"\"Condition for routing when hotels ARE available (including priority overrides!).\"\"\"\n",
    "    if not isinstance(message, AgentExecutorResponse):\n",
    "        return True\n",
    "\n",
    "    try:\n",
    "        result = BookingCheckResult.model_validate_json(message.agent_run_response.text)\n",
    "\n",
    "        # Check if this was a priority override\n",
    "        override_indicator = \" 🌟\" if result.priority_override else \"\"\n",
    "\n",
    "        display(\n",
    "            HTML(f\"\"\"\n",
    "            <div style='padding: 12px; background: #c8e6c9; border-left: 4px solid #4caf50; border-radius: 4px; margin: 10px 0;'>\n",
    "                <strong>✅ Condition Check:</strong> has_availability = <strong>{result.has_availability}</strong> for {result.destination}{override_indicator}\n",
    "            </div>\n",
    "        \"\"\")\n",
    "        )\n",
    "\n",
    "        return result.has_availability\n",
    "    except Exception as e:\n",
    "        display(\n",
    "            HTML(f\"\"\"\n",
    "            <div style='padding: 12px; background: #ffcdd2; border-left: 4px solid #f44336; border-radius: 4px; margin: 10px 0;'>\n",
    "                <strong>⚠️  Error:</strong> {str(e)}\n",
    "            </div>\n",
    "        \"\"\")\n",
    "        )\n",
    "        return False\n",
    "\n",
    "\n",
    "def no_availability_condition(message: Any) -> bool:\n",
    "    \"\"\"Condition for routing when hotels are NOT available.\"\"\"\n",
    "    if not isinstance(message, AgentExecutorResponse):\n",
    "        return False\n",
    "\n",
    "    try:\n",
    "        result = BookingCheckResult.model_validate_json(message.agent_run_response.text)\n",
    "\n",
    "        display(\n",
    "            HTML(f\"\"\"\n",
    "            <div style='padding: 12px; background: #ffecb3; border-left: 4px solid #ff9800; border-radius: 4px; margin: 10px 0;'>\n",
    "                <strong>❌ Condition Check:</strong> no_availability for {result.destination}\n",
    "            </div>\n",
    "        \"\"\")\n",
    "        )\n",
    "\n",
    "        return not result.has_availability\n",
    "    except Exception:\n",
    "        return False\n",
    "\n",
    "\n",
    "print(\"✅ Condition functions defined\")"
   ]
  },
  {
   "cell_type": "markdown",
   "id": "2189c529",
   "metadata": {},
   "source": [
    "## चरण ६: कस्टम डिस्प्ले एक्जिक्युटर बनाउनुहोस्\n",
    "\n",
    "पहिलेको जस्तै एक्जिक्युटर - अन्तिम वर्कफ्लोको नतिजा देखाउँछ।\n"
   ]
  },
  {
   "cell_type": "code",
   "execution_count": 8,
   "id": "a4cc88da",
   "metadata": {},
   "outputs": [
    {
     "name": "stdout",
     "output_type": "stream",
     "text": [
      "✅ display_result executor created\n"
     ]
    }
   ],
   "source": [
    "@executor(id=\"display_result\")\n",
    "async def display_result(response: AgentExecutorResponse, ctx: WorkflowContext[Never, str]) -> None:\n",
    "    \"\"\"Display the final result as workflow output.\"\"\"\n",
    "    display(\n",
    "        HTML(\"\"\"\n",
    "        <div style='padding: 15px; background: #f3e5f5; border-left: 4px solid #9c27b0; border-radius: 4px; margin: 10px 0;'>\n",
    "            <strong>📤 Display Executor:</strong> Yielding workflow output\n",
    "        </div>\n",
    "    \"\"\")\n",
    "    )\n",
    "\n",
    "    await ctx.yield_output(response.agent_run_response.text)\n",
    "\n",
    "\n",
    "print(\"✅ display_result executor created\")"
   ]
  },
  {
   "cell_type": "markdown",
   "id": "18b1857c",
   "metadata": {},
   "source": [
    "## चरण ७: वातावरण चरहरू लोड गर्नुहोस्\n",
    "\n",
    "LLM क्लाइन्ट (GitHub Models वा OpenAI) कन्फिगर गर्नुहोस्।\n"
   ]
  },
  {
   "cell_type": "code",
   "execution_count": 10,
   "id": "5e6584c2",
   "metadata": {},
   "outputs": [],
   "source": [
    "# Load environment variables\n",
    "load_dotenv()\n",
    "\n",
    "# Check for GitHub Models or OpenAI\n",
    "chat_client = OpenAIChatClient(base_url=os.environ.get(\n",
    "    \"GITHUB_ENDPOINT\"), api_key=os.environ.get(\"GITHUB_TOKEN\"), model_id=\"gpt-4o\")\n"
   ]
  },
  {
   "cell_type": "markdown",
   "id": "e4993e63",
   "metadata": {},
   "source": [
    "## चरण ८: मिडलवेयरको साथमा एआई एजेन्टहरू बनाउनुहोस्\n",
    "\n",
    "**मुख्य भिन्नता:** जब availability_agent बनाइन्छ, हामी `middleware` प्यारामिटर पास गर्छौं!\n",
    "\n",
    "यसरी हामी priority_check_middleware लाई एजेन्टको फङ्सन कल गर्ने पाइपलाइनमा समावेश गर्छौं।\n"
   ]
  },
  {
   "cell_type": "code",
   "execution_count": null,
   "id": "8218790d",
   "metadata": {},
   "outputs": [
    {
     "data": {
      "text/html": [
       "\n",
       "    <div style='padding: 15px; background: #e3f2fd; border-left: 4px solid #2196f3; border-radius: 4px; margin: 10px 0;'>\n",
       "        <strong>✅ Created 3 Agents:</strong>\n",
       "        <ul style='margin: 10px 0 0 0;'>\n",
       "            <li><strong>availability_agent</strong> - WITH priority_check_middleware 🌟</li>\n",
       "            <li><strong>alternative_agent</strong> - Suggests alternative cities</li>\n",
       "            <li><strong>booking_agent</strong> - Encourages booking</li>\n",
       "        </ul>\n",
       "    </div>\n"
      ],
      "text/plain": [
       "<IPython.core.display.HTML object>"
      ]
     },
     "metadata": {},
     "output_type": "display_data"
    }
   ],
   "source": [
    "# Agent 1: Check availability with tool + middleware\n",
    "availability_agent = AgentExecutor(\n",
    "    chat_client.create_agent(\n",
    "        instructions=(\n",
    "            \"You are a hotel booking assistant that checks room availability. \"\n",
    "            \"Use the hotel_booking tool to check if rooms are available at the destination. \"\n",
    "            \"Return JSON with fields: destination (string), has_availability (bool), message (string), \"\n",
    "            \"and priority_override (bool, true if priority member got special access). \"\n",
    "            \"The message should summarize the availability status and mention if priority override occurred.\"\n",
    "        ),\n",
    "        tools=[hotel_booking],\n",
    "        response_format=BookingCheckResult,\n",
    "        middleware=[priority_check_middleware],  # 🌟 MIDDLEWARE INJECTION!\n",
    "    ),\n",
    "    id=\"availability_agent\",\n",
    ")\n",
    "\n",
    "# Agent 2: Suggest alternative (when no rooms)\n",
    "alternative_agent = AgentExecutor(\n",
    "    chat_client.create_agent(\n",
    "        instructions=(\n",
    "            \"You are a helpful travel assistant. When a user cannot find hotels in their requested city, \"\n",
    "            \"suggest an alternative nearby city that has availability. \"\n",
    "            \"Return JSON with fields: alternative_destination (string) and reason (string). \"\n",
    "            \"Make your suggestion sound appealing and helpful.\"\n",
    "        ),\n",
    "        response_format=AlternativeResult,\n",
    "    ),\n",
    "    id=\"alternative_agent\",\n",
    ")\n",
    "\n",
    "# Agent 3: Suggest booking (when rooms available)\n",
    "booking_agent = AgentExecutor(\n",
    "    chat_client.create_agent(\n",
    "        instructions=(\n",
    "            \"You are a booking assistant. The user has found available hotel rooms. \"\n",
    "            \"Encourage them to book by highlighting the destination's appeal. \"\n",
    "            \"If priority_override is true in the input, mention that they received priority member access. \"\n",
    "            \"Return JSON with fields: destination (string), action (string), and message (string). \"\n",
    "            \"The action should be 'book_now' and message should be encouraging.\"\n",
    "        ),\n",
    "        response_format=BookingConfirmation,\n",
    "    ),\n",
    "    id=\"booking_agent\",\n",
    ")\n",
    "\n",
    "display(\n",
    "    HTML(\"\"\"\n",
    "    <div style='padding: 15px; background: #e3f2fd; border-left: 4px solid #2196f3; border-radius: 4px; margin: 10px 0;'>\n",
    "        <strong>✅ Created 3 Agents:</strong>\n",
    "        <ul style='margin: 10px 0 0 0;'>\n",
    "            <li><strong>availability_agent</strong> - WITH priority_check_middleware 🌟</li>\n",
    "            <li><strong>alternative_agent</strong> - Suggests alternative cities</li>\n",
    "            <li><strong>booking_agent</strong> - Encourages booking</li>\n",
    "        </ul>\n",
    "    </div>\n",
    "\"\"\")\n",
    ")"
   ]
  },
  {
   "cell_type": "markdown",
   "id": "c6c2ac90",
   "metadata": {},
   "source": [
    "## चरण ९: वर्कफ्लो निर्माण गर्नुहोस्\n",
    "\n",
    "पहिले जस्तै वर्कफ्लो संरचना - उपलब्धतामा आधारित सशर्त रुटिङ।\n"
   ]
  },
  {
   "cell_type": "code",
   "execution_count": 12,
   "id": "9cc9b853",
   "metadata": {},
   "outputs": [
    {
     "data": {
      "text/html": [
       "\n",
       "    <div style='padding: 20px; background: linear-gradient(135deg, #667eea 0%, #764ba2 100%); color: white; border-radius: 8px; margin: 10px 0;'>\n",
       "        <h3 style='margin: 0 0 15px 0;'>✅ Workflow Built Successfully!</h3>\n",
       "        <p style='margin: 0; line-height: 1.6;'>\n",
       "            <strong>Conditional Routing (Middleware-Aware):</strong><br>\n",
       "            • If <strong>NO availability</strong> → alternative_agent → display_result<br>\n",
       "            • If <strong>availability</strong> (or 🌟 <strong>priority override</strong>) → booking_agent → display_result\n",
       "        </p>\n",
       "    </div>\n"
      ],
      "text/plain": [
       "<IPython.core.display.HTML object>"
      ]
     },
     "metadata": {},
     "output_type": "display_data"
    }
   ],
   "source": [
    "# Build the workflow with conditional routing\n",
    "workflow = (\n",
    "    WorkflowBuilder()\n",
    "    .set_start_executor(availability_agent)\n",
    "    # NO AVAILABILITY PATH\n",
    "    .add_edge(availability_agent, alternative_agent, condition=no_availability_condition)\n",
    "    .add_edge(alternative_agent, display_result)\n",
    "    # HAS AVAILABILITY PATH (can be triggered by middleware override!)\n",
    "    .add_edge(availability_agent, booking_agent, condition=has_availability_condition)\n",
    "    .add_edge(booking_agent, display_result)\n",
    "    .build()\n",
    ")\n",
    "\n",
    "display(\n",
    "    HTML(\"\"\"\n",
    "    <div style='padding: 20px; background: linear-gradient(135deg, #667eea 0%, #764ba2 100%); color: white; border-radius: 8px; margin: 10px 0;'>\n",
    "        <h3 style='margin: 0 0 15px 0;'>✅ Workflow Built Successfully!</h3>\n",
    "        <p style='margin: 0; line-height: 1.6;'>\n",
    "            <strong>Conditional Routing (Middleware-Aware):</strong><br>\n",
    "            • If <strong>NO availability</strong> → alternative_agent → display_result<br>\n",
    "            • If <strong>availability</strong> (or 🌟 <strong>priority override</strong>) → booking_agent → display_result\n",
    "        </p>\n",
    "    </div>\n",
    "\"\"\")\n",
    ")"
   ]
  },
  {
   "cell_type": "markdown",
   "id": "56c53031",
   "metadata": {},
   "source": [
    "## चरण १०: परीक्षण केस १ - सामान्य प्रयोगकर्ता पेरिसमा (कुनै ओभरराइड छैन)\n",
    "\n",
    "सामान्य प्रयोगकर्ताले पेरिस बुक गर्न प्रयास गर्छ → कुनै कोठा उपलब्ध छैन → वैकल्पिक एजेन्टमा रुट हुन्छ।\n"
   ]
  },
  {
   "cell_type": "code",
   "execution_count": 13,
   "id": "e8cf4e21",
   "metadata": {},
   "outputs": [
    {
     "data": {
      "text/html": [
       "\n",
       "        <div style='padding: 15px; background: #e3f2fd; \n",
       "                    border-left: 4px solid #2196f3; border-radius: 4px; margin: 10px 0;'>\n",
       "            <strong>👤 Current User Set:</strong> regular_user<br>\n",
       "            <strong>Status:</strong> 👤 Regular User\n",
       "        </div>\n",
       "    "
      ],
      "text/plain": [
       "<IPython.core.display.HTML object>"
      ]
     },
     "metadata": {},
     "output_type": "display_data"
    },
    {
     "data": {
      "text/html": [
       "\n",
       "    <div style='padding: 20px; background: #fff3e0; border-left: 4px solid #ff9800; border-radius: 8px; margin: 20px 0;'>\n",
       "        <h3 style='margin: 0 0 10px 0; color: #e65100;'>🧪 TEST CASE 1: Regular User + Paris</h3>\n",
       "        <p style='margin: 0;'><strong>Expected:</strong> No rooms → No middleware override → Alternative suggestion</p>\n",
       "    </div>\n"
      ],
      "text/plain": [
       "<IPython.core.display.HTML object>"
      ]
     },
     "metadata": {},
     "output_type": "display_data"
    },
    {
     "data": {
      "text/html": [
       "\n",
       "        <div style='padding: 12px; background: #fff3e0; border-left: 4px solid #ff9800; border-radius: 4px; margin: 10px 0;'>\n",
       "            <strong>🔄 Middleware:</strong> Intercepting hotel_booking...\n",
       "        </div>\n",
       "    "
      ],
      "text/plain": [
       "<IPython.core.display.HTML object>"
      ]
     },
     "metadata": {},
     "output_type": "display_data"
    },
    {
     "data": {
      "text/html": [
       "\n",
       "        <div style='padding: 15px; background: #e3f2fd; border-left: 4px solid #2196f3; border-radius: 4px; margin: 10px 0;'>\n",
       "            <strong>🔍 Tool Invoked:</strong> hotel_booking(\"Paris\")\n",
       "        </div>\n",
       "    "
      ],
      "text/plain": [
       "<IPython.core.display.HTML object>"
      ]
     },
     "metadata": {},
     "output_type": "display_data"
    },
    {
     "data": {
      "text/html": [
       "\n",
       "                <div style='padding: 12px; background: #ffebee; border-left: 4px solid #f44336; border-radius: 4px; margin: 10px 0;'>\n",
       "                    <strong>ℹ️ Middleware:</strong> No priority override (user: regular_user)\n",
       "                </div>\n",
       "            "
      ],
      "text/plain": [
       "<IPython.core.display.HTML object>"
      ]
     },
     "metadata": {},
     "output_type": "display_data"
    },
    {
     "data": {
      "text/html": [
       "\n",
       "            <div style='padding: 12px; background: #ffecb3; border-left: 4px solid #ff9800; border-radius: 4px; margin: 10px 0;'>\n",
       "                <strong>❌ Condition Check:</strong> no_availability for Paris\n",
       "            </div>\n",
       "        "
      ],
      "text/plain": [
       "<IPython.core.display.HTML object>"
      ]
     },
     "metadata": {},
     "output_type": "display_data"
    },
    {
     "data": {
      "text/html": [
       "\n",
       "            <div style='padding: 12px; background: #c8e6c9; border-left: 4px solid #4caf50; border-radius: 4px; margin: 10px 0;'>\n",
       "                <strong>✅ Condition Check:</strong> has_availability = <strong>False</strong> for Paris\n",
       "            </div>\n",
       "        "
      ],
      "text/plain": [
       "<IPython.core.display.HTML object>"
      ]
     },
     "metadata": {},
     "output_type": "display_data"
    },
    {
     "data": {
      "text/html": [
       "\n",
       "        <div style='padding: 15px; background: #f3e5f5; border-left: 4px solid #9c27b0; border-radius: 4px; margin: 10px 0;'>\n",
       "            <strong>📤 Display Executor:</strong> Yielding workflow output\n",
       "        </div>\n",
       "    "
      ],
      "text/plain": [
       "<IPython.core.display.HTML object>"
      ]
     },
     "metadata": {},
     "output_type": "display_data"
    },
    {
     "data": {
      "text/html": [
       "\n",
       "        <div style='padding: 25px; background: #fff; border: 2px solid #ff9800; border-radius: 12px; margin: 20px 0;'>\n",
       "            <h3 style='margin: 0 0 15px 0; color: #e65100;'>📊 RESULT (Regular User)</h3>\n",
       "            <div style='background: #fff3e0; padding: 20px; border-radius: 8px;'>\n",
       "                <p style='margin: 0 0 10px 0;'><strong>Status:</strong> ❌ No rooms in Paris</p>\n",
       "                <p style='margin: 0 0 10px 0;'><strong>Middleware:</strong> No priority override (regular user)</p>\n",
       "                <p style='margin: 0 0 10px 0;'><strong>Alternative:</strong> 🏨 London</p>\n",
       "                <p style='margin: 0;'><strong>Reason:</strong> Although there are no accommodations available in Paris at this time, you can explore London as an excellent alternative, known for its rich history, iconic landmarks, and vibrant cultural scene.</p>\n",
       "            </div>\n",
       "        </div>\n",
       "    "
      ],
      "text/plain": [
       "<IPython.core.display.HTML object>"
      ]
     },
     "metadata": {},
     "output_type": "display_data"
    }
   ],
   "source": [
    "# Set as regular user\n",
    "set_user(\"regular_user\")\n",
    "\n",
    "display(\n",
    "    HTML(\"\"\"\n",
    "    <div style='padding: 20px; background: #fff3e0; border-left: 4px solid #ff9800; border-radius: 8px; margin: 20px 0;'>\n",
    "        <h3 style='margin: 0 0 10px 0; color: #e65100;'>🧪 TEST CASE 1: Regular User + Paris</h3>\n",
    "        <p style='margin: 0;'><strong>Expected:</strong> No rooms → No middleware override → Alternative suggestion</p>\n",
    "    </div>\n",
    "\"\"\")\n",
    ")\n",
    "\n",
    "# Create request\n",
    "request_regular = AgentExecutorRequest(\n",
    "    messages=[ChatMessage(Role.USER, text=\"I want to book a hotel in Paris\")], should_respond=True\n",
    ")\n",
    "\n",
    "# Run workflow\n",
    "events_regular = await workflow.run(request_regular)\n",
    "outputs_regular = events_regular.get_outputs()\n",
    "\n",
    "# Display results\n",
    "if outputs_regular:\n",
    "    result_regular = AlternativeResult.model_validate_json(outputs_regular[0])\n",
    "\n",
    "    display(\n",
    "        HTML(f\"\"\"\n",
    "        <div style='padding: 25px; background: #fff; border: 2px solid #ff9800; border-radius: 12px; margin: 20px 0;'>\n",
    "            <h3 style='margin: 0 0 15px 0; color: #e65100;'>📊 RESULT (Regular User)</h3>\n",
    "            <div style='background: #fff3e0; padding: 20px; border-radius: 8px;'>\n",
    "                <p style='margin: 0 0 10px 0;'><strong>Status:</strong> ❌ No rooms in Paris</p>\n",
    "                <p style='margin: 0 0 10px 0;'><strong>Middleware:</strong> No priority override (regular user)</p>\n",
    "                <p style='margin: 0 0 10px 0;'><strong>Alternative:</strong> 🏨 {result_regular.alternative_destination}</p>\n",
    "                <p style='margin: 0;'><strong>Reason:</strong> {result_regular.reason}</p>\n",
    "            </div>\n",
    "        </div>\n",
    "    \"\"\")\n",
    "    )"
   ]
  },
  {
   "cell_type": "markdown",
   "id": "cea981b0",
   "metadata": {},
   "source": [
    "## चरण ११: परीक्षण केस २ - 🌟 प्राथमिकता प्रयोगकर्ता पेरिसमा (ओभरराइड सहित!)\n",
    "\n",
    "एक प्राथमिकता सदस्यले पेरिस बुक गर्न प्रयास गर्छ → सुरुमा कोठा उपलब्ध छैन → 🌟 मिडलवेयरले ओभरराइड गर्छ! → booking_agent मा रुट हुन्छ\n",
    "\n",
    "**यो मिडलवेयरको शक्तिको मुख्य प्रदर्शन हो!**\n"
   ]
  },
  {
   "cell_type": "code",
   "execution_count": 14,
   "id": "d390f5ac",
   "metadata": {},
   "outputs": [
    {
     "data": {
      "text/html": [
       "\n",
       "        <div style='padding: 15px; background: linear-gradient(135deg, #FFD700 0%, #FFA500 100%); \n",
       "                    border-left: 4px solid #FF6B35; border-radius: 4px; margin: 10px 0;'>\n",
       "            <strong>👤 Current User Set:</strong> priority_user<br>\n",
       "            <strong>Status:</strong> 🌟 PRIORITY MEMBER\n",
       "        </div>\n",
       "    "
      ],
      "text/plain": [
       "<IPython.core.display.HTML object>"
      ]
     },
     "metadata": {},
     "output_type": "display_data"
    },
    {
     "data": {
      "text/html": [
       "\n",
       "    <div style='padding: 20px; background: linear-gradient(135deg, #FFD700 0%, #FFA500 100%); border-radius: 8px; margin: 20px 0;'>\n",
       "        <h3 style='margin: 0 0 10px 0; color: #333;'>🧪 TEST CASE 2: 🌟 Priority User + Paris</h3>\n",
       "        <p style='margin: 0; color: #555;'><strong>Expected:</strong> No rooms → 🌟 MIDDLEWARE OVERRIDE → Rooms available → Booking suggestion!</p>\n",
       "    </div>\n"
      ],
      "text/plain": [
       "<IPython.core.display.HTML object>"
      ]
     },
     "metadata": {},
     "output_type": "display_data"
    },
    {
     "data": {
      "text/html": [
       "\n",
       "        <div style='padding: 12px; background: #fff3e0; border-left: 4px solid #ff9800; border-radius: 4px; margin: 10px 0;'>\n",
       "            <strong>🔄 Middleware:</strong> Intercepting hotel_booking...\n",
       "        </div>\n",
       "    "
      ],
      "text/plain": [
       "<IPython.core.display.HTML object>"
      ]
     },
     "metadata": {},
     "output_type": "display_data"
    },
    {
     "data": {
      "text/html": [
       "\n",
       "        <div style='padding: 15px; background: #e3f2fd; border-left: 4px solid #2196f3; border-radius: 4px; margin: 10px 0;'>\n",
       "            <strong>🔍 Tool Invoked:</strong> hotel_booking(\"Paris\")\n",
       "        </div>\n",
       "    "
      ],
      "text/plain": [
       "<IPython.core.display.HTML object>"
      ]
     },
     "metadata": {},
     "output_type": "display_data"
    },
    {
     "data": {
      "text/html": [
       "\n",
       "                <div style='padding: 20px; background: linear-gradient(135deg, #FFD700 0%, #FFA500 100%); \n",
       "                            border-radius: 8px; margin: 10px 0; box-shadow: 0 4px 12px rgba(255,165,0,0.4);'>\n",
       "                    <h3 style='margin: 0 0 10px 0; color: #333;'>🌟 PRIORITY OVERRIDE ACTIVATED! 🌟</h3>\n",
       "                    <p style='margin: 0; color: #555; line-height: 1.6;'>\n",
       "                        <strong>User:</strong> priority_user<br>\n",
       "                        <strong>Status:</strong> VIP Priority Member<br>\n",
       "                        <strong>Action:</strong> Overriding \"No Availability\" for Paris<br>\n",
       "                        <strong>Result:</strong> ✅ Rooms now available for priority booking!\n",
       "                    </p>\n",
       "                </div>\n",
       "            "
      ],
      "text/plain": [
       "<IPython.core.display.HTML object>"
      ]
     },
     "metadata": {},
     "output_type": "display_data"
    },
    {
     "data": {
      "text/html": [
       "\n",
       "            <div style='padding: 12px; background: #ffecb3; border-left: 4px solid #ff9800; border-radius: 4px; margin: 10px 0;'>\n",
       "                <strong>❌ Condition Check:</strong> no_availability for Paris\n",
       "            </div>\n",
       "        "
      ],
      "text/plain": [
       "<IPython.core.display.HTML object>"
      ]
     },
     "metadata": {},
     "output_type": "display_data"
    },
    {
     "data": {
      "text/html": [
       "\n",
       "            <div style='padding: 12px; background: #c8e6c9; border-left: 4px solid #4caf50; border-radius: 4px; margin: 10px 0;'>\n",
       "                <strong>✅ Condition Check:</strong> has_availability = <strong>True</strong> for Paris 🌟\n",
       "            </div>\n",
       "        "
      ],
      "text/plain": [
       "<IPython.core.display.HTML object>"
      ]
     },
     "metadata": {},
     "output_type": "display_data"
    },
    {
     "data": {
      "text/html": [
       "\n",
       "        <div style='padding: 15px; background: #f3e5f5; border-left: 4px solid #9c27b0; border-radius: 4px; margin: 10px 0;'>\n",
       "            <strong>📤 Display Executor:</strong> Yielding workflow output\n",
       "        </div>\n",
       "    "
      ],
      "text/plain": [
       "<IPython.core.display.HTML object>"
      ]
     },
     "metadata": {},
     "output_type": "display_data"
    },
    {
     "data": {
      "text/html": [
       "\n",
       "        <div style='padding: 25px; background: linear-gradient(135deg, #FFD700 0%, #FFA500 100%); border-radius: 12px; \n",
       "                    box-shadow: 0 8px 16px rgba(255,165,0,0.4); margin: 20px 0;'>\n",
       "            <h3 style='margin: 0 0 15px 0; color: #333;'>🏆 RESULT (Priority Member) 🌟</h3>\n",
       "            <div style='background: white; padding: 20px; border-radius: 8px;'>\n",
       "                <p style='margin: 0 0 10px 0; font-size: 16px;'><strong>Status:</strong> ✅ Rooms Available (Priority Override!)</p>\n",
       "                <p style='margin: 0 0 10px 0; font-size: 16px;'><strong>Middleware:</strong> 🌟 OVERRIDE ACTIVATED!</p>\n",
       "                <p style='margin: 0 0 10px 0; font-size: 16px;'><strong>Destination:</strong> 🏨 Paris</p>\n",
       "                <p style='margin: 0 0 10px 0; font-size: 16px;'><strong>Action:</strong> book_now</p>\n",
       "                <p style='margin: 0; font-size: 14px; color: #666;'><strong>Message:</strong> Experience the timeless charm of Paris! Rooms are available now, and as a priority member, you have exclusive access. Secure your booking today!</p>\n",
       "                <div style='margin-top: 15px; padding: 15px; background: #fff3cd; border-radius: 6px; border-left: 4px solid #FF6B35;'>\n",
       "                    <strong>💡 What Just Happened:</strong><br>\n",
       "                    1. hotel_booking tool returned \"no availability\"<br>\n",
       "                    2. priority_check_middleware intercepted the result<br>\n",
       "                    3. Middleware checked user status: priority_user ✅<br>\n",
       "                    4. Middleware OVERRODE the result to \"available\"<br>\n",
       "                    5. Workflow routed to booking_agent instead of alternative_agent!\n",
       "                </div>\n",
       "            </div>\n",
       "        </div>\n",
       "    "
      ],
      "text/plain": [
       "<IPython.core.display.HTML object>"
      ]
     },
     "metadata": {},
     "output_type": "display_data"
    }
   ],
   "source": [
    "# Set as priority user\n",
    "set_user(\"priority_user\")\n",
    "\n",
    "display(\n",
    "    HTML(\"\"\"\n",
    "    <div style='padding: 20px; background: linear-gradient(135deg, #FFD700 0%, #FFA500 100%); border-radius: 8px; margin: 20px 0;'>\n",
    "        <h3 style='margin: 0 0 10px 0; color: #333;'>🧪 TEST CASE 2: 🌟 Priority User + Paris</h3>\n",
    "        <p style='margin: 0; color: #555;'><strong>Expected:</strong> No rooms → 🌟 MIDDLEWARE OVERRIDE → Rooms available → Booking suggestion!</p>\n",
    "    </div>\n",
    "\"\"\")\n",
    ")\n",
    "\n",
    "# Create request\n",
    "request_priority = AgentExecutorRequest(\n",
    "    messages=[ChatMessage(Role.USER, text=\"I want to book a hotel in Paris\")], should_respond=True\n",
    ")\n",
    "\n",
    "# Run workflow\n",
    "events_priority = await workflow.run(request_priority)\n",
    "outputs_priority = events_priority.get_outputs()\n",
    "\n",
    "# Display results\n",
    "if outputs_priority:\n",
    "    result_priority = BookingConfirmation.model_validate_json(outputs_priority[0])\n",
    "\n",
    "    display(\n",
    "        HTML(f\"\"\"\n",
    "        <div style='padding: 25px; background: linear-gradient(135deg, #FFD700 0%, #FFA500 100%); border-radius: 12px; \n",
    "                    box-shadow: 0 8px 16px rgba(255,165,0,0.4); margin: 20px 0;'>\n",
    "            <h3 style='margin: 0 0 15px 0; color: #333;'>🏆 RESULT (Priority Member) 🌟</h3>\n",
    "            <div style='background: white; padding: 20px; border-radius: 8px;'>\n",
    "                <p style='margin: 0 0 10px 0; font-size: 16px;'><strong>Status:</strong> ✅ Rooms Available (Priority Override!)</p>\n",
    "                <p style='margin: 0 0 10px 0; font-size: 16px;'><strong>Middleware:</strong> 🌟 OVERRIDE ACTIVATED!</p>\n",
    "                <p style='margin: 0 0 10px 0; font-size: 16px;'><strong>Destination:</strong> 🏨 {result_priority.destination}</p>\n",
    "                <p style='margin: 0 0 10px 0; font-size: 16px;'><strong>Action:</strong> {result_priority.action}</p>\n",
    "                <p style='margin: 0; font-size: 14px; color: #666;'><strong>Message:</strong> {result_priority.message}</p>\n",
    "                <div style='margin-top: 15px; padding: 15px; background: #fff3cd; border-radius: 6px; border-left: 4px solid #FF6B35;'>\n",
    "                    <strong>💡 What Just Happened:</strong><br>\n",
    "                    1. hotel_booking tool returned \"no availability\"<br>\n",
    "                    2. priority_check_middleware intercepted the result<br>\n",
    "                    3. Middleware checked user status: priority_user ✅<br>\n",
    "                    4. Middleware OVERRODE the result to \"available\"<br>\n",
    "                    5. Workflow routed to booking_agent instead of alternative_agent!\n",
    "                </div>\n",
    "            </div>\n",
    "        </div>\n",
    "    \"\"\")\n",
    "    )"
   ]
  },
  {
   "cell_type": "markdown",
   "id": "baab4b1a",
   "metadata": {},
   "source": [
    "## चरण १२: परीक्षण केस ३ - स्टकहोममा प्राथमिकता प्रयोगकर्ता (पहिले नै उपलब्ध)\n",
    "\n",
    "प्राथमिकता प्रयोगकर्ता स्टकहोम प्रयास गर्छ → कोठाहरू उपलब्ध छन् → कुनै ओभरराइड आवश्यक छैन → booking_agent मा रुट हुन्छ\n",
    "\n",
    "यसले देखाउँछ कि मिडलवेयर केवल आवश्यक पर्दा मात्र कार्य गर्छ!\n"
   ]
  },
  {
   "cell_type": "code",
   "execution_count": 15,
   "id": "316a0d31",
   "metadata": {},
   "outputs": [
    {
     "data": {
      "text/html": [
       "\n",
       "    <div style='padding: 20px; background: #e8f5e9; border-left: 4px solid #4caf50; border-radius: 8px; margin: 20px 0;'>\n",
       "        <h3 style='margin: 0 0 10px 0; color: #1b5e20;'>🧪 TEST CASE 3: Priority User + Stockholm</h3>\n",
       "        <p style='margin: 0;'><strong>Expected:</strong> Rooms available → No override needed → Booking suggestion</p>\n",
       "    </div>\n"
      ],
      "text/plain": [
       "<IPython.core.display.HTML object>"
      ]
     },
     "metadata": {},
     "output_type": "display_data"
    },
    {
     "data": {
      "text/html": [
       "\n",
       "        <div style='padding: 12px; background: #fff3e0; border-left: 4px solid #ff9800; border-radius: 4px; margin: 10px 0;'>\n",
       "            <strong>🔄 Middleware:</strong> Intercepting hotel_booking...\n",
       "        </div>\n",
       "    "
      ],
      "text/plain": [
       "<IPython.core.display.HTML object>"
      ]
     },
     "metadata": {},
     "output_type": "display_data"
    },
    {
     "data": {
      "text/html": [
       "\n",
       "        <div style='padding: 15px; background: #e3f2fd; border-left: 4px solid #2196f3; border-radius: 4px; margin: 10px 0;'>\n",
       "            <strong>🔍 Tool Invoked:</strong> hotel_booking(\"Stockholm\")\n",
       "        </div>\n",
       "    "
      ],
      "text/plain": [
       "<IPython.core.display.HTML object>"
      ]
     },
     "metadata": {},
     "output_type": "display_data"
    },
    {
     "data": {
      "text/html": [
       "\n",
       "            <div style='padding: 12px; background: #ffecb3; border-left: 4px solid #ff9800; border-radius: 4px; margin: 10px 0;'>\n",
       "                <strong>❌ Condition Check:</strong> no_availability for Stockholm\n",
       "            </div>\n",
       "        "
      ],
      "text/plain": [
       "<IPython.core.display.HTML object>"
      ]
     },
     "metadata": {},
     "output_type": "display_data"
    },
    {
     "data": {
      "text/html": [
       "\n",
       "            <div style='padding: 12px; background: #c8e6c9; border-left: 4px solid #4caf50; border-radius: 4px; margin: 10px 0;'>\n",
       "                <strong>✅ Condition Check:</strong> has_availability = <strong>True</strong> for Stockholm\n",
       "            </div>\n",
       "        "
      ],
      "text/plain": [
       "<IPython.core.display.HTML object>"
      ]
     },
     "metadata": {},
     "output_type": "display_data"
    },
    {
     "data": {
      "text/html": [
       "\n",
       "        <div style='padding: 15px; background: #f3e5f5; border-left: 4px solid #9c27b0; border-radius: 4px; margin: 10px 0;'>\n",
       "            <strong>📤 Display Executor:</strong> Yielding workflow output\n",
       "        </div>\n",
       "    "
      ],
      "text/plain": [
       "<IPython.core.display.HTML object>"
      ]
     },
     "metadata": {},
     "output_type": "display_data"
    },
    {
     "data": {
      "text/html": [
       "\n",
       "        <div style='padding: 25px; background: linear-gradient(135deg, #4caf50 0%, #8bc34a 100%); color: white; border-radius: 12px; \n",
       "                    box-shadow: 0 4px 12px rgba(76,175,80,0.3); margin: 20px 0;'>\n",
       "            <h3 style='margin: 0 0 15px 0;'>🏆 RESULT (Priority User - No Override Needed)</h3>\n",
       "            <div style='background: white; color: #333; padding: 20px; border-radius: 8px;'>\n",
       "                <p style='margin: 0 0 10px 0; font-size: 16px;'><strong>Status:</strong> ✅ Rooms Available (Natural)</p>\n",
       "                <p style='margin: 0 0 10px 0; font-size: 16px;'><strong>Middleware:</strong> No override needed</p>\n",
       "                <p style='margin: 0 0 10px 0; font-size: 16px;'><strong>Destination:</strong> 🏨 Stockholm</p>\n",
       "                <p style='margin: 0 0 10px 0; font-size: 16px;'><strong>Action:</strong> book_now</p>\n",
       "                <p style='margin: 0; font-size: 14px; color: #666;'><strong>Message:</strong> Discover the beauty and history of Stockholm! Rooms are currently available, so don't miss the chance to secure your ideal stay.</p>\n",
       "                <div style='margin-top: 15px; padding: 15px; background: #e8f5e9; border-radius: 6px; border-left: 4px solid #4caf50;'>\n",
       "                    <strong>💡 Middleware Behavior:</strong><br>\n",
       "                    • hotel_booking returned \"available\" naturally<br>\n",
       "                    • Middleware saw available = true → No override needed<br>\n",
       "                    • Workflow proceeded normally to booking_agent\n",
       "                </div>\n",
       "            </div>\n",
       "        </div>\n",
       "    "
      ],
      "text/plain": [
       "<IPython.core.display.HTML object>"
      ]
     },
     "metadata": {},
     "output_type": "display_data"
    }
   ],
   "source": [
    "# Priority user is still set from previous test\n",
    "\n",
    "display(\n",
    "    HTML(\"\"\"\n",
    "    <div style='padding: 20px; background: #e8f5e9; border-left: 4px solid #4caf50; border-radius: 8px; margin: 20px 0;'>\n",
    "        <h3 style='margin: 0 0 10px 0; color: #1b5e20;'>🧪 TEST CASE 3: Priority User + Stockholm</h3>\n",
    "        <p style='margin: 0;'><strong>Expected:</strong> Rooms available → No override needed → Booking suggestion</p>\n",
    "    </div>\n",
    "\"\"\")\n",
    ")\n",
    "\n",
    "# Create request\n",
    "request_stockholm = AgentExecutorRequest(\n",
    "    messages=[ChatMessage(Role.USER, text=\"I want to book a hotel in Stockholm\")], should_respond=True\n",
    ")\n",
    "\n",
    "# Run workflow\n",
    "events_stockholm = await workflow.run(request_stockholm)\n",
    "outputs_stockholm = events_stockholm.get_outputs()\n",
    "\n",
    "# Display results\n",
    "if outputs_stockholm:\n",
    "    result_stockholm = BookingConfirmation.model_validate_json(outputs_stockholm[0])\n",
    "\n",
    "    display(\n",
    "        HTML(f\"\"\"\n",
    "        <div style='padding: 25px; background: linear-gradient(135deg, #4caf50 0%, #8bc34a 100%); color: white; border-radius: 12px; \n",
    "                    box-shadow: 0 4px 12px rgba(76,175,80,0.3); margin: 20px 0;'>\n",
    "            <h3 style='margin: 0 0 15px 0;'>🏆 RESULT (Priority User - No Override Needed)</h3>\n",
    "            <div style='background: white; color: #333; padding: 20px; border-radius: 8px;'>\n",
    "                <p style='margin: 0 0 10px 0; font-size: 16px;'><strong>Status:</strong> ✅ Rooms Available (Natural)</p>\n",
    "                <p style='margin: 0 0 10px 0; font-size: 16px;'><strong>Middleware:</strong> No override needed</p>\n",
    "                <p style='margin: 0 0 10px 0; font-size: 16px;'><strong>Destination:</strong> 🏨 {result_stockholm.destination}</p>\n",
    "                <p style='margin: 0 0 10px 0; font-size: 16px;'><strong>Action:</strong> {result_stockholm.action}</p>\n",
    "                <p style='margin: 0; font-size: 14px; color: #666;'><strong>Message:</strong> {result_stockholm.message}</p>\n",
    "                <div style='margin-top: 15px; padding: 15px; background: #e8f5e9; border-radius: 6px; border-left: 4px solid #4caf50;'>\n",
    "                    <strong>💡 Middleware Behavior:</strong><br>\n",
    "                    • hotel_booking returned \"available\" naturally<br>\n",
    "                    • Middleware saw available = true → No override needed<br>\n",
    "                    • Workflow proceeded normally to booking_agent\n",
    "                </div>\n",
    "            </div>\n",
    "        </div>\n",
    "    \"\"\")\n",
    "    )"
   ]
  },
  {
   "cell_type": "markdown",
   "id": "e498ee16",
   "metadata": {},
   "source": [
    "## मुख्य बुँदाहरू र मिडलवेयर अवधारणाहरू\n",
    "\n",
    "### ✅ तपाईंले सिक्नुभएको:\n",
    "\n",
    "#### **1. फङ्सन-आधारित मिडलवेयर ढाँचा**\n",
    "\n",
    "मिडलवेयरले एक साधारण असिन्क्रोनस फङ्सन प्रयोग गरेर फङ्सन कलहरू रोक्छ:\n",
    "\n",
    "```python\n",
    "async def my_middleware(\n",
    "    context: FunctionInvocationContext,\n",
    "    next: Callable,\n",
    ") -> None:\n",
    "    # Before function execution\n",
    "    print(\"Intercepting...\")\n",
    "    \n",
    "    # Execute the function\n",
    "    await next(context)\n",
    "    \n",
    "    # After function execution - inspect result\n",
    "    if context.result:\n",
    "        # Modify result if needed\n",
    "        context.result = modified_value\n",
    "```\n",
    "\n",
    "#### **2. कन्टेक्स्ट पहुँच र परिणाम ओभरराइड**\n",
    "\n",
    "- `context.function` - कल भइरहेको फङ्सनमा पहुँच\n",
    "- `context.arguments` - फङ्सनको आर्गुमेन्टहरू पढ्नुहोस्\n",
    "- `context.kwargs` - थप प्यारामिटरहरूमा पहुँच\n",
    "- `await next(context)` - फङ्सन कार्यान्वयन गर्नुहोस्\n",
    "- `context.result` - फङ्सनको आउटपुट पढ्नुहोस्/परिमार्जन गर्नुहोस्\n",
    "\n",
    "#### **3. व्यवसायिक तर्क कार्यान्वयन**\n",
    "\n",
    "हाम्रो मिडलवेयरले प्राथमिक सदस्य सुविधाहरू कार्यान्वयन गर्दछ:\n",
    "- **सामान्य प्रयोगकर्ता**: कुनै परिमार्जन छैन, मानक कार्यप्रवाह\n",
    "- **प्राथमिक प्रयोगकर्ता**: \"उपलब्धता छैन\" → \"उपलब्ध\" ओभरराइड\n",
    "- **सर्तात्मक तर्क**: आवश्यक पर्दा मात्र ओभरराइड गर्दछ\n",
    "\n",
    "#### **4. एउटै कार्यप्रवाह, फरक परिणामहरू**\n",
    "\n",
    "मिडलवेयरको शक्ति:\n",
    "- ✅ कार्यप्रवाह संरचनामा कुनै परिवर्तन छैन\n",
    "- ✅ टूल फङ्सनमा कुनै परिवर्तन छैन\n",
    "- ✅ सर्तात्मक रुटिङ तर्कमा कुनै परिवर्तन छैन\n",
    "- ✅ केवल मिडलवेयर → फरक व्यवहार!\n",
    "\n",
    "### 🚀 वास्तविक-जीवन अनुप्रयोगहरू:\n",
    "\n",
    "1. **VIP/प्रिमियम सुविधाहरू**\n",
    "   - प्रिमियम प्रयोगकर्ताहरूको लागि दर सीमा ओभरराइड गर्नुहोस्\n",
    "   - स्रोतहरूमा प्राथमिक पहुँच प्रदान गर्नुहोस्\n",
    "   - प्रिमियम सुविधाहरू गतिशील रूपमा अनलक गर्नुहोस्\n",
    "\n",
    "2. **A/B परीक्षण**\n",
    "   - प्रयोगकर्ताहरूलाई फरक कार्यान्वयनमा रुट गर्नुहोस्\n",
    "   - विशिष्ट प्रयोगकर्ताहरूसँग नयाँ सुविधाहरू परीक्षण गर्नुहोस्\n",
    "   - सुविधाहरू क्रमिक रूपमा रोलआउट गर्नुहोस्\n",
    "\n",
    "3. **सुरक्षा र अनुपालन**\n",
    "   - फङ्सन कलहरू अडिट गर्नुहोस्\n",
    "   - संवेदनशील अपरेसनहरू ब्लक गर्नुहोस्\n",
    "   - व्यवसायिक नियमहरू लागू गर्नुहोस्\n",
    "\n",
    "4. **प्रदर्शन अनुकूलन**\n",
    "   - विशिष्ट प्रयोगकर्ताहरूको लागि परिणाम क्यास गर्नुहोस्\n",
    "   - सम्भव हुँदा महँगो अपरेसनहरू स्किप गर्नुहोस्\n",
    "   - गतिशील स्रोत आवंटन\n",
    "\n",
    "5. **त्रुटि ह्यान्डलिङ र पुन: प्रयास**\n",
    "   - त्रुटिहरूलाई सुन्दर रूपमा समात्नुहोस् र ह्यान्डल गर्नुहोस्\n",
    "   - पुन: प्रयास तर्क कार्यान्वयन गर्नुहोस्\n",
    "   - वैकल्पिक कार्यान्वयनमा फलब्याक गर्नुहोस्\n",
    "\n",
    "6. **लगिङ र अनुगमन**\n",
    "   - फङ्सन कार्यान्वयन समय ट्र्याक गर्नुहोस्\n",
    "   - प्यारामिटरहरू र परिणामहरू लग गर्नुहोस्\n",
    "   - प्रयोगका ढाँचाहरू अनुगमन गर्नुहोस्\n",
    "\n",
    "### 🔑 डेकोरेटरहरूबाट मुख्य भिन्नताहरू:\n",
    "\n",
    "| विशेषता | डेकोरेटर | मिडलवेयर |\n",
    "|---------|-----------|------------|\n",
    "| **स्कोप** | एकल फङ्सन | एजेन्टका सबै फङ्सनहरू |\n",
    "| **लचिलोपन** | परिभाषामा निश्चित | रनटाइममा गतिशील |\n",
    "| **कन्टेक्स्ट** | सीमित | पूर्ण एजेन्ट कन्टेक्स्ट |\n",
    "| **संयोजन** | धेरै डेकोरेटरहरू | मिडलवेयर पाइपलाइन |\n",
    "| **एजेन्ट-जागरूक** | छैन | हो (एजेन्टको अवस्थामा पहुँच) |\n",
    "\n",
    "### 📚 मिडलवेयर कहिले प्रयोग गर्ने:\n",
    "\n",
    "✅ **मिडलवेयर प्रयोग गर्नुहोस् जब:**\n",
    "- तपाईंले प्रयोगकर्ता/सत्रको अवस्थाको आधारमा व्यवहार परिमार्जन गर्न आवश्यक छ\n",
    "- तपाईंले धेरै फङ्सनहरूमा तर्क लागू गर्न चाहनुहुन्छ\n",
    "- तपाईंलाई एजेन्ट-स्तरको कन्टेक्स्टमा पहुँच आवश्यक छ\n",
    "- तपाईंले क्रस-कटिङ चासोहरू (लगिङ, प्रमाणीकरण, आदि) कार्यान्वयन गर्दै हुनुहुन्छ\n",
    "\n",
    "❌ **मिडलवेयर प्रयोग नगर्नुहोस् जब:**\n",
    "- साधारण इनपुट मान्यता (Pydantic प्रयोग गर्नुहोस्)\n",
    "- फङ्सन-विशिष्ट तर्क (फङ्सनमै राख्नुहोस्)\n",
    "- एकपटकको परिमार्जन (फङ्सन परिवर्तन गर्नुहोस्)\n",
    "\n",
    "### 🎓 उन्नत ढाँचाहरू:\n",
    "\n",
    "```python\n",
    "# Multiple middleware (execution order matters!)\n",
    "middleware=[\n",
    "    logging_middleware,      # Logs first\n",
    "    auth_middleware,         # Then checks auth\n",
    "    cache_middleware,        # Then checks cache\n",
    "    rate_limit_middleware,   # Then rate limits\n",
    "    priority_check_middleware  # Finally priority check\n",
    "]\n",
    "\n",
    "# Conditional middleware execution\n",
    "async def conditional_middleware(context, next):\n",
    "    if should_execute(context):\n",
    "        await next(context)\n",
    "        # Modify result\n",
    "    else:\n",
    "        # Skip execution entirely\n",
    "        context.result = cached_value\n",
    "```\n",
    "\n",
    "### 🔗 सम्बन्धित अवधारणाहरू:\n",
    "\n",
    "- **एजेन्ट मिडलवेयर**: agent.run() कलहरू रोक्छ\n",
    "- **फङ्सन मिडलवेयर**: टूल फङ्सन कलहरू रोक्छ (हामीले प्रयोग गरेको!)\n",
    "- **मिडलवेयर पाइपलाइन**: क्रम अनुसार कार्यान्वयन हुने मिडलवेयरको श्रृंखला\n",
    "- **कन्टेक्स्ट प्रसारण**: मिडलवेयर श्रृंखलामा अवस्था पास गर्नुहोस्\n"
   ]
  },
  {
   "cell_type": "markdown",
   "metadata": {},
   "source": [
    "\n---\n\n**अस्वीकरण**:  \nयो दस्तावेज़ AI अनुवाद सेवा [Co-op Translator](https://github.com/Azure/co-op-translator) प्रयोग गरेर अनुवाद गरिएको हो। हामी यथासम्भव शुद्धता सुनिश्चित गर्न प्रयास गर्छौं, तर कृपया ध्यान दिनुहोस् कि स्वचालित अनुवादमा त्रुटिहरू वा अशुद्धताहरू हुन सक्छ। मूल दस्तावेज़ यसको मातृभाषामा आधिकारिक स्रोत मानिनुपर्छ। महत्वपूर्ण जानकारीको लागि, व्यावसायिक मानव अनुवाद सिफारिस गरिन्छ। यस अनुवादको प्रयोगबाट उत्पन्न हुने कुनै पनि गलतफहमी वा गलत व्याख्याको लागि हामी जिम्मेवार हुनेछैनौं।\n"
   ]
  }
 ],
 "metadata": {
  "kernelspec": {
   "display_name": ".venv (3.12.11)",
   "language": "python",
   "name": "python3"
  },
  "language_info": {
   "codemirror_mode": {
    "name": "ipython",
    "version": 3
   },
   "file_extension": ".py",
   "mimetype": "text/x-python",
   "name": "python",
   "nbconvert_exporter": "python",
   "pygments_lexer": "ipython3",
   "version": "3.12.11"
  },
  "coopTranslator": {
   "original_hash": "cfefbf8368dc7fa2b8282495d79cbb48",
   "translation_date": "2025-10-09T19:12:24+00:00",
   "source_file": "14-microsoft-agent-framework/code-samples/14-middleware.ipynb",
   "language_code": "ne"
  }
 },
 "nbformat": 4,
 "nbformat_minor": 5
}