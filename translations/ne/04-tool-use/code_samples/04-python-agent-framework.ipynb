{
 "cells": [
  {
   "cell_type": "markdown",
   "id": "8744544f",
   "metadata": {},
   "source": [
    "# 🛠️ GitHub मोडेलहरू (Python) संग उन्नत उपकरण प्रयोग\n",
    "\n",
    "## 📋 सिक्ने उद्देश्यहरू\n",
    "\n",
    "यो नोटबुकले Microsoft Agent Framework र GitHub मोडेलहरू प्रयोग गरेर उन्नत उपकरण एकीकरण ढाँचाहरू प्रदर्शन गर्दछ। तपाईंले धेरै उपकरणहरू सिर्जना, व्यवस्थापन, र समन्वय गर्ने तरिका सिक्नुहुनेछ ताकि परिष्कृत एजेन्ट क्षमताहरू निर्माण गर्न सकियोस्।\n",
    "\n",
    "**तपाईंले मास्टर गर्ने कुरा:**\n",
    "- 🔧 **बहु-उपकरण वास्तुकला**: धेरै विशेष उपकरणहरू भएको एजेन्ट निर्माण\n",
    "- 🎯 **उपकरण चयन तर्क**: एजेन्टले प्रत्येक कार्यको लागि सही उपकरण कसरी चयन गर्छ\n",
    "- 📊 **डाटा प्रशोधन उपकरणहरू**: विभिन्न डाटा प्रकारहरूलाई ह्यान्डल गर्ने उपकरणहरू सिर्जना गर्ने\n",
    "- 🔗 **उपकरण संयोजन**: जटिल कार्यप्रवाहहरूको लागि उपकरणहरू संयोजन गर्ने\n",
    "\n",
    "## 🎯 प्रमुख उपकरण ढाँचाहरू\n",
    "\n",
    "### उपकरण डिजाइन सिद्धान्तहरू\n",
    "- **एकल जिम्मेवारी**: प्रत्येक उपकरणको स्पष्ट र केन्द्रित उद्देश्य हुन्छ\n",
    "- **प्रकार सुरक्षा**: भरपर्दो उपकरण कार्यान्वयनको लागि बलियो टाइपिङ\n",
    "- **त्रुटि ह्यान्डलिङ**: सहज असफलता र पुन: प्राप्ति ढाँचाहरू\n",
    "- **संयोजनीयता**: उपकरणहरू जो एकसाथ राम्रोसँग काम गर्छन्\n",
    "\n",
    "### उन्नत उपकरण सुविधाहरू\n",
    "- **सन्दर्भ सचेतता**: वार्तालापको सन्दर्भ बुझ्ने उपकरणहरू\n",
    "- **डाटा मान्यता**: इनपुट सफाई र आउटपुट मान्यता\n",
    "- **प्रदर्शन अनुकूलन**: कुशल उपकरण कार्यान्वयन ढाँचाहरू\n",
    "- **विस्तारयोग्यता**: नयाँ उपकरण क्षमताहरू सजिलै थप्ने\n",
    "\n",
    "## 🔧 प्राविधिक वास्तुकला\n",
    "\n",
    "### मुख्य घटकहरू\n",
    "- **Microsoft Agent Framework**: उन्नत उपकरण समर्थनको साथ Python कार्यान्वयन\n",
    "- **GitHub मोडेल एकीकरण**: उच्च प्रदर्शन भाषा मोडेल पहुँच\n",
    "- **उपकरण रजिस्ट्री प्रणाली**: एजेन्ट क्षमताहरूको व्यवस्थित व्यवस्थापन\n",
    "- **त्रुटि पुन: प्राप्ति ढाँचाहरू**: उपकरण कार्यान्वयन असफलताको मजबुत ह्यान्डलिङ\n",
    "\n",
    "### उपकरण एकीकरण प्रवाह\n",
    "```python\n",
    "User Request → Agent Analysis → Tool Selection → Tool Execution → Response Synthesis\n",
    "```\n",
    "\n",
    "## 🛠️ प्रदर्शन गरिएका उपकरण कोटीहरू\n",
    "\n",
    "### 1. **डाटा उत्पादन उपकरणहरू**\n",
    "- र्यान्डम गन्तव्य जनरेटर\n",
    "- मौसम जानकारी प्रदायक  \n",
    "- यात्रा लागत गणक\n",
    "- गतिविधि सिफारिस इन्जिन\n",
    "\n",
    "### 2. **प्रशोधन उपकरणहरू**\n",
    "- पाठ ढाँचाकरण र मान्यता\n",
    "- डाटा रूपान्तरण उपयोगिताहरू\n",
    "- सामग्री विश्लेषण कार्यहरू\n",
    "- प्रतिक्रिया सुधार उपकरणहरू\n",
    "\n",
    "### 3. **एकीकरण उपकरणहरू**\n",
    "- बाह्य API कनेक्टरहरू\n",
    "- फाइल प्रणाली अपरेशनहरू\n",
    "- डाटाबेस क्वेरी इन्टरफेसहरू\n",
    "- वेब स्क्र्यापिङ उपयोगिताहरू\n",
    "\n",
    "## ⚙️ पूर्वापेक्षाहरू र सेटअप\n",
    "\n",
    "\n",
    "**आवश्यक निर्भरता:**\n",
    "```bash\n",
    "\n",
    "pip install agent-framework-core -U\n",
    "```\n",
    "\n",
    "**पर्यावरण कन्फिगरेसन (.env फाइल):**\n",
    "```env\n",
    "GITHUB_TOKEN=your_github_personal_access_token\n",
    "GITHUB_ENDPOINT=https://models.inference.ai.azure.com\n",
    "GITHUB_MODEL_ID=gpt-4o-mini\n",
    "```\n",
    "\n",
    "**वैकल्पिक APIs:**\n",
    "- मौसम सेवा API कुञ्जी (मौसम उपकरणहरूको लागि)\n",
    "- मुद्रा रूपान्तरण API पहुँच\n",
    "- यात्रा जानकारी सेवा प्रमाणपत्रहरू\n",
    "\n",
    "## 🎨 डिजाइन ढाँचाहरू\n",
    "\n",
    "### उपकरण फ्याक्टरी ढाँचा\n",
    "- उपकरण सिर्जना र कन्फिगरेसनको केन्द्रीकृत प्रक्रिया\n",
    "- स्थिर उपकरण इन्टरफेस डिजाइन\n",
    "- उपकरण दर्ता र पत्ता लगाउन सजिलो\n",
    "\n",
    "### कमाण्ड ढाँचा\n",
    "- उपकरण कार्यान्वयन तर्क समावेश\n",
    "- जटिल अपरेशनहरूको लागि Undo/Redo कार्यक्षमता\n",
    "- उपकरण प्रयोगको लागि अडिट लगिङ\n",
    "\n",
    "### पर्यवेक्षक ढाँचा\n",
    "- उपकरण कार्यान्वयन अनुगमन\n",
    "- प्रदर्शन मेट्रिक्स सङ्कलन\n",
    "- त्रुटि रिपोर्टिङ र सतर्कता\n",
    "\n",
    "## 🚀 उत्कृष्ट अभ्यासहरू\n",
    "\n",
    "- **उपकरण दस्तावेजीकरण**: एजेन्टले बुझ्न सक्ने स्पष्ट विवरणहरू\n",
    "- **इनपुट मान्यता**: बलियो प्यारामिटर जाँच र सफाई\n",
    "- **आउटपुट ढाँचाकरण**: स्थिर, पार्स गर्न मिल्ने उपकरण प्रतिक्रियाहरू\n",
    "- **त्रुटि सन्देशहरू**: डिबगिङको लागि उपयोगी त्रुटि जानकारी\n",
    "- **प्रदर्शन**: प्रतिक्रियाशीलताको लागि अनुकूलित उपकरण कार्यान्वयन\n",
    "\n",
    "शक्तिशाली उपकरण क्षमताहरू भएको एजेन्ट निर्माण गर्न तयार हुनुहुन्छ? केही अद्भुत सिर्जना गरौं! ⚡\n"
   ]
  },
  {
   "cell_type": "code",
   "execution_count": null,
   "id": "59c0feeb",
   "metadata": {},
   "outputs": [],
   "source": [
    "! pip install agent-framework-core -U"
   ]
  },
  {
   "cell_type": "code",
   "execution_count": null,
   "id": "c0df8a52",
   "metadata": {},
   "outputs": [],
   "source": [
    "# � Import core dependencies for Agent Framework and tool integration\n",
    "# This sets up the essential libraries for building intelligent agents with tool capabilities\n",
    "\n",
    "import asyncio\n",
    "import os\n",
    "import json\n",
    "\n",
    "from dotenv import load_dotenv  # For loading environment variables securely\n",
    "from random import randint\n",
    "\n",
    "# These are the core components for building tool-enabled agents\n",
    "from agent_framework import ChatAgent           # Main agent class\n",
    "from agent_framework.openai import OpenAIChatClient  # OpenAI-compatible client"
   ]
  },
  {
   "cell_type": "code",
   "execution_count": null,
   "id": "24c10eb0",
   "metadata": {},
   "outputs": [],
   "source": [
    "load_dotenv()"
   ]
  },
  {
   "cell_type": "code",
   "execution_count": null,
   "id": "151e0314",
   "metadata": {},
   "outputs": [],
   "source": [
    "# 🔑 Environment variables verification\n",
    "# Ensure all required GitHub Models credentials are properly configured\n",
    "print(\"GITHUB_ENDPOINT:\", os.environ.get(\"GITHUB_ENDPOINT\"))\n",
    "print(\"GITHUB_TOKEN:\", \"***\" if os.environ.get(\"GITHUB_TOKEN\") else \"Not set\")\n",
    "print(\"GITHUB_MODEL_ID:\", os.environ.get(\"GITHUB_MODEL_ID\"))"
   ]
  },
  {
   "cell_type": "code",
   "execution_count": null,
   "id": "a6141584",
   "metadata": {},
   "outputs": [],
   "source": [
    "# 🧪 Test GitHub Models connectivity\n",
    "openai_chat_client = OpenAIChatClient(base_url=os.environ.get(\"GITHUB_ENDPOINT\"), api_key=os.environ.get(\"GITHUB_TOKEN\"), model_id=os.environ.get(\"GITHUB_MODEL_ID\"))"
   ]
  },
  {
   "cell_type": "code",
   "execution_count": null,
   "id": "a6507f83",
   "metadata": {},
   "outputs": [],
   "source": [
    "# 🛠️ Define travel planning tools for agent integration\n",
    "# These functions provide specific capabilities that the agent can invoke dynamically\n",
    "\n",
    "def get_random_destination() -> str:\n",
    "    \"\"\"\n",
    "    🎲 Random destination generator tool\n",
    "    Returns a randomly selected travel destination from curated list\n",
    "    Useful when customers need inspiration for their next vacation\n",
    "    \"\"\"\n",
    "    destinations = [\n",
    "        \"Paris, France\",\n",
    "        \"Tokyo, Japan\", \n",
    "        \"New York City, USA\",\n",
    "        \"London, England\",\n",
    "        \"Rome, Italy\",\n",
    "        \"Sydney, Australia\",\n",
    "        \"Dubai, UAE\",\n",
    "        \"Barcelona, Spain\",\n",
    "        \"Bangkok, Thailand\",\n",
    "        \"Amsterdam, Netherlands\",\n",
    "        \"Istanbul, Turkey\",\n",
    "        \"Prague, Czech Republic\",\n",
    "        \"Santorini, Greece\",\n",
    "        \"Reykjavik, Iceland\",\n",
    "        \"Marrakech, Morocco\",\n",
    "        \"Cape Town, South Africa\",\n",
    "        \"Rio de Janeiro, Brazil\",\n",
    "        \"Bali, Indonesia\"\n",
    "    ]\n",
    "    # 🎯 Return random selection from the curated destination list\n",
    "    return destinations[randint(0, len(destinations) - 1)]"
   ]
  },
  {
   "cell_type": "code",
   "execution_count": null,
   "id": "5d4f0568",
   "metadata": {},
   "outputs": [],
   "source": [
    "# 🔗 Initialize GitHub Models chat client for agent communication\n",
    "# Creates the primary interface between the agent and the language model\n",
    "openai_chat_client = OpenAIChatClient(base_url=os.environ.get(\"GITHUB_ENDPOINT\"), api_key=os.environ.get(\"GITHUB_TOKEN\"), model_id=os.environ.get(\"GITHUB_MODEL_ID\"))"
   ]
  },
  {
   "cell_type": "code",
   "execution_count": null,
   "id": "751668c5",
   "metadata": {},
   "outputs": [],
   "source": [
    "# 🤖 Configure travel agent identity and behavioral instructions\n",
    "# Define the agent's personality, capabilities, and operational guidelines\n",
    "\n",
    "AGENT_NAME = \"TravelAgent\"\n",
    "\n",
    "AGENT_INSTRUCTIONS = \"\"\"You are a helpful AI Agent that can help plan vacations for customers at random destinations\n",
    "\"\"\""
   ]
  },
  {
   "cell_type": "code",
   "execution_count": null,
   "id": "be18ac4f",
   "metadata": {},
   "outputs": [],
   "source": [
    "agent = ChatAgent(\n",
    "        name = AGENT_NAME,\n",
    "        chat_client=openai_chat_client,\n",
    "        instructions=AGENT_INSTRUCTIONS,\n",
    "        tools=[get_random_destination]\n",
    ")"
   ]
  },
  {
   "cell_type": "code",
   "execution_count": null,
   "id": "772e9481",
   "metadata": {},
   "outputs": [],
   "source": [
    "thread = agent.get_new_thread()"
   ]
  },
  {
   "cell_type": "code",
   "execution_count": null,
   "id": "a731b547",
   "metadata": {},
   "outputs": [],
   "source": [
    "response1 = await agent.run(\"Plan me a day trip\",thread= thread)"
   ]
  },
  {
   "cell_type": "code",
   "execution_count": null,
   "id": "7d3fe00a",
   "metadata": {},
   "outputs": [],
   "source": [
    "\n",
    "last_message = response1.messages[-1]\n",
    "text_content = last_message.contents[0].text\n",
    "print(\"Travel plan:\")\n",
    "print(text_content)"
   ]
  },
  {
   "cell_type": "markdown",
   "metadata": {},
   "source": [
    "\n---\n\n**अस्वीकरण**:  \nयो दस्तावेज़ AI अनुवाद सेवा [Co-op Translator](https://github.com/Azure/co-op-translator) प्रयोग गरेर अनुवाद गरिएको छ। हामी यथार्थताको लागि प्रयास गर्छौं, तर कृपया ध्यान दिनुहोस् कि स्वचालित अनुवादमा त्रुटिहरू वा अशुद्धताहरू हुन सक्छ। मूल दस्तावेज़ यसको मातृभाषामा आधिकारिक स्रोत मानिनुपर्छ। महत्वपूर्ण जानकारीको लागि, व्यावसायिक मानव अनुवाद सिफारिस गरिन्छ। यस अनुवादको प्रयोगबाट उत्पन्न हुने कुनै पनि गलतफहमी वा गलत व्याख्याको लागि हामी जिम्मेवार हुने छैनौं।\n"
   ]
  }
 ],
 "metadata": {
  "kernelspec": {
   "display_name": "agentenv",
   "language": "python",
   "name": "python3"
  },
  "language_info": {
   "codemirror_mode": {
    "name": "ipython",
    "version": 3
   },
   "file_extension": ".py",
   "mimetype": "text/x-python",
   "name": "python",
   "nbconvert_exporter": "python",
   "pygments_lexer": "ipython3",
   "version": "3.12.10"
  },
  "polyglot_notebook": {
   "kernelInfo": {
    "defaultKernelName": "csharp",
    "items": [
     {
      "aliases": [],
      "name": "csharp"
     }
    ]
   }
  },
  "coopTranslator": {
   "original_hash": "42966ddac53cebaf0ac1ce33b2ee7059",
   "translation_date": "2025-10-02T11:43:40+00:00",
   "source_file": "04-tool-use/code_samples/04-python-agent-framework.ipynb",
   "language_code": "ne"
  }
 },
 "nbformat": 4,
 "nbformat_minor": 5
}