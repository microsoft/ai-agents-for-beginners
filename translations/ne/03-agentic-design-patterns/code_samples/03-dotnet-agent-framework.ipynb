{
 "cells": [
  {
   "cell_type": "markdown",
   "id": "d6058fa4",
   "metadata": {},
   "source": [
    "# 🎨 GitHub मोडेलहरूसँग .NET मा एजेन्टिक डिजाइन ढाँचाहरू\n",
    "\n",
    "## 📋 सिकाइका उद्देश्यहरू\n",
    "\n",
    "यो नोटबुकले Microsoft Agent Framework र GitHub Models एकीकरण प्रयोग गरेर बौद्धिक एजेन्टहरू निर्माण गर्नका लागि उद्यम-स्तरका डिजाइन ढाँचाहरू प्रदर्शन गर्दछ। तपाईंले उत्पादन-तयार, मर्मतयोग्य, र मापनयोग्य एजेन्टहरू बनाउनका लागि व्यावसायिक ढाँचाहरू र वास्तुकलात्मक दृष्टिकोणहरू सिक्नुहुनेछ।\n",
    "\n",
    "**उद्यम डिजाइन ढाँचाहरू:**\n",
    "- 🏭 **फ्याक्ट्री ढाँचा**: निर्भरता इन्जेक्शनको साथ मानकीकृत एजेन्ट सिर्जना\n",
    "- 🔧 **बिल्डर ढाँचा**: एजेन्ट कन्फिगरेसन र सेटअपको लागि फ्लुएन्ट विधि\n",
    "- 🧵 **थ्रेड-सुरक्षित ढाँचाहरू**: समवर्ती संवाद व्यवस्थापन\n",
    "- 📋 **रिपोजिटरी ढाँचा**: उपकरण र क्षमता व्यवस्थापनको संगठन\n",
    "\n",
    "## 🎯 .NET-विशेष वास्तुकलात्मक फाइदाहरू\n",
    "\n",
    "### उद्यम सुविधाहरू\n",
    "- **स्ट्रङ टाइपिङ**: कम्पाइल-समय मान्यता र IntelliSense समर्थन\n",
    "- **डिपेन्डेन्सी इन्जेक्शन**: बिल्ट-इन DI कन्टेनर एकीकरण\n",
    "- **कन्फिगरेसन व्यवस्थापन**: IConfiguration र Options ढाँचाहरू\n",
    "- **Async/Await**: पहिलो-श्रेणीको असिन्क्रोनस प्रोग्रामिङ समर्थन\n",
    "\n",
    "### उत्पादन-तयार ढाँचाहरू\n",
    "- **लगिङ एकीकरण**: ILogger र संरचित लगिङ समर्थन\n",
    "- **स्वास्थ्य जाँचहरू**: बिल्ट-इन निगरानी र डायग्नोस्टिक्स\n",
    "- **कन्फिगरेसन मान्यता**: डेटा एनोटेसनको साथ स्ट्रङ टाइपिङ\n",
    "- **त्रुटि व्यवस्थापन**: संरचित अपवाद व्यवस्थापन\n",
    "\n",
    "## 🔧 प्राविधिक वास्तुकला\n",
    "\n",
    "### कोर .NET कम्पोनेन्टहरू\n",
    "- **Microsoft.Extensions.AI**: एकीकृत AI सेवा अमूर्तता\n",
    "- **Microsoft.Agents.AI**: उद्यम एजेन्ट समन्वय फ्रेमवर्क\n",
    "- **GitHub Models Integration**: उच्च-प्रदर्शन API क्लाइन्ट ढाँचाहरू\n",
    "- **कन्फिगरेसन प्रणाली**: appsettings.json र वातावरण एकीकरण\n",
    "\n",
    "### डिजाइन ढाँचा कार्यान्वयन\n",
    "```csharp\n",
    "IServiceCollection → Agent Builder → Configuration → Tool Registry → AI Agent\n",
    "```\n",
    "\n",
    "## 🏗️ प्रदर्शन गरिएका उद्यम ढाँचाहरू\n",
    "\n",
    "### 1. **सिर्जनात्मक ढाँचाहरू**\n",
    "- **एजेन्ट फ्याक्ट्री**: स्थिर कन्फिगरेसनको साथ केन्द्रित एजेन्ट सिर्जना\n",
    "- **बिल्डर ढाँचा**: जटिल एजेन्ट कन्फिगरेसनको लागि फ्लुएन्ट API\n",
    "- **सिङ्गलटन ढाँचा**: साझा स्रोत र कन्फिगरेसन व्यवस्थापन\n",
    "- **डिपेन्डेन्सी इन्जेक्शन**: लुज कपलिङ र परीक्षणयोग्यता\n",
    "\n",
    "### 2. **व्यवहारिक ढाँचाहरू**\n",
    "- **स्ट्राटेजी ढाँचा**: परिवर्तनशील उपकरण कार्यान्वयन रणनीतिहरू\n",
    "- **कमाण्ड ढाँचा**: एजेन्ट अपरेसनहरूलाई समेट्ने र undo/redo समर्थन\n",
    "- **अब्जर्भर ढाँचा**: इभेन्ट-ड्रिभन एजेन्ट जीवनचक्र व्यवस्थापन\n",
    "- **टेम्प्लेट मेथड**: मानकीकृत एजेन्ट कार्यान्वयन वर्कफ्लोहरू\n",
    "\n",
    "### 3. **संरचनात्मक ढाँचाहरू**\n",
    "- **एडाप्टर ढाँचा**: GitHub Models API एकीकरण तह\n",
    "- **डेकोरेटर ढाँचा**: एजेन्ट क्षमताको वृद्धि\n",
    "- **फेसाड ढाँचा**: सरलीकृत एजेन्ट अन्तरक्रिया इन्टरफेसहरू\n",
    "- **प्रोक्सी ढाँचा**: प्रदर्शनका लागि लेजी लोडिङ र क्यासिङ\n",
    "\n",
    "## ⚙️ पूर्वाधार र सेटअप\n",
    "\n",
    "**विकास वातावरण:**\n",
    "- .NET 9.0 SDK वा उच्च\n",
    "- Visual Studio 2022 वा VS Code C# एक्सटेन्सनको साथ\n",
    "- GitHub Models API पहुँच\n",
    "\n",
    "**NuGet निर्भरताहरू:**\n",
    "```xml\n",
    "<PackageReference Include=\"Microsoft.Extensions.AI\" Version=\"9.9.0\" />\n",
    "<PackageReference Include=\"Microsoft.Extensions.AI.OpenAI\" Version=\"9.9.0-preview.1.25458.4\" />\n",
    "<PackageReference Include=\"DotNetEnv\" Version=\"3.1.1\" />\n",
    "```\n",
    "\n",
    "**कन्फिगरेसन (.env फाइल):**\n",
    "```env\n",
    "GITHUB_TOKEN=your_github_personal_access_token\n",
    "GITHUB_ENDPOINT=https://models.inference.ai.azure.com\n",
    "GITHUB_MODEL_ID=gpt-4o-mini\n",
    "```\n",
    "\n",
    "## 📚 .NET डिजाइन सिद्धान्तहरू\n",
    "\n",
    "### SOLID सिद्धान्तहरू\n",
    "- **सिंगल रिस्पोन्सिबिलिटी**: प्रत्येक कम्पोनेन्टको एक स्पष्ट उद्देश्य\n",
    "- **ओपन/क्लोज्ड**: परिमार्जन नगरी विस्तारयोग्य\n",
    "- **लिस्कोभ सब्स्टिट्युसन**: इन्टरफेस-आधारित उपकरण कार्यान्वयन\n",
    "- **इन्टरफेस सेग्रिगेसन**: केन्द्रित, सुसंगत इन्टरफेसहरू\n",
    "- **डिपेन्डेन्सी इन्भर्सन**: अमूर्ततामा निर्भर, ठोसतामा होइन\n",
    "\n",
    "### क्लिन आर्किटेक्चर\n",
    "- **डोमेन तह**: कोर एजेन्ट र उपकरण अमूर्तता\n",
    "- **एप्लिकेसन तह**: एजेन्ट समन्वय र वर्कफ्लोहरू\n",
    "- **इन्फ्रास्ट्रक्चर तह**: GitHub Models एकीकरण र बाह्य सेवाहरू\n",
    "- **प्रस्तुति तह**: प्रयोगकर्ता अन्तरक्रिया र प्रतिक्रिया ढाँचा\n",
    "\n",
    "## 🔒 उद्यम विचारहरू\n",
    "\n",
    "### सुरक्षा\n",
    "- **क्रेडेन्सियल व्यवस्थापन**: IConfiguration को साथ सुरक्षित API कुञ्जी ह्यान्डलिङ\n",
    "- **इनपुट मान्यता**: स्ट्रङ टाइपिङ र डेटा एनोटेसन मान्यता\n",
    "- **आउटपुट सफाइ**: सुरक्षित प्रतिक्रिया प्रशोधन र फिल्टरिङ\n",
    "- **अडिट लगिङ**: व्यापक अपरेसन ट्र्याकिङ\n",
    "\n",
    "### प्रदर्शन\n",
    "- **असिन्क ढाँचाहरू**: नन-ब्लकिङ I/O अपरेसनहरू\n",
    "- **कनेक्शन पूलिङ**: कुशल HTTP क्लाइन्ट व्यवस्थापन\n",
    "- **क्यासिङ**: प्रदर्शन सुधारका लागि प्रतिक्रिया क्यासिङ\n",
    "- **स्रोत व्यवस्थापन**: उचित डिस्पोजल र सफाइ ढाँचाहरू\n",
    "\n",
    "### मापनयोग्यता\n",
    "- **थ्रेड सुरक्षा**: समवर्ती एजेन्ट कार्यान्वयन समर्थन\n",
    "- **स्रोत पूलिङ**: कुशल स्रोत उपयोग\n",
    "- **लोड व्यवस्थापन**: दर सीमित र ब्याकप्रेसर ह्यान्डलिङ\n",
    "- **निगरानी**: प्रदर्शन मेट्रिक्स र स्वास्थ्य जाँचहरू\n",
    "\n",
    "## 🚀 उत्पादन परिनियोजन\n",
    "\n",
    "- **कन्फिगरेसन व्यवस्थापन**: वातावरण-विशिष्ट सेटिङहरू\n",
    "- **लगिङ रणनीति**: संरचित लगिङ र सम्बन्ध आईडीहरूसँग\n",
    "- **त्रुटि व्यवस्थापन**: उचित पुन:प्राप्तिसहितको ग्लोबल अपवाद व्यवस्थापन\n",
    "- **निगरानी**: एप्लिकेसन इनसाइट्स र प्रदर्शन काउन्टरहरू\n",
    "- **परीक्षण**: युनिट परीक्षण, एकीकरण परीक्षण, र लोड परीक्षण ढाँचाहरू\n",
    "\n",
    "उद्यम-स्तरका बौद्धिक एजेन्टहरू .NET मा निर्माण गर्न तयार हुनुहुन्छ? केही बलियो वास्तुकला बनाऔं! 🏢✨\n"
   ]
  },
  {
   "cell_type": "code",
   "execution_count": 1,
   "id": "2770ac5c",
   "metadata": {
    "language_info": {
     "name": "polyglot-notebook"
    },
    "polyglot_notebook": {
     "kernelName": "csharp"
    }
   },
   "outputs": [
    {
     "data": {
      "text/html": [
       "<div><div></div><div></div><div><strong>Installed Packages</strong><ul><li><span>Microsoft.Extensions.AI, 9.9.1</span></li></ul></div></div>"
      ]
     },
     "metadata": {},
     "output_type": "display_data"
    }
   ],
   "source": [
    "#r \"nuget: Microsoft.Extensions.AI, 9.9.1\""
   ]
  },
  {
   "cell_type": "code",
   "execution_count": null,
   "id": "984ff6cd",
   "metadata": {
    "language_info": {
     "name": "polyglot-notebook"
    },
    "polyglot_notebook": {
     "kernelName": "csharp"
    }
   },
   "outputs": [
    {
     "data": {
      "text/html": [
       "<div><div></div><div></div><div><strong>Installed Packages</strong><ul><li><span>Microsoft.Agents.AI.OpenAI, 1.0.0-preview.251001.2</span></li></ul></div></div>"
      ]
     },
     "metadata": {},
     "output_type": "display_data"
    }
   ],
   "source": [
    "#r \"nuget: Microsoft.Agents.AI.OpenAI, 1.0.0-preview.251001.3\""
   ]
  },
  {
   "cell_type": "code",
   "execution_count": null,
   "id": "0ab71360",
   "metadata": {
    "language_info": {
     "name": "polyglot-notebook"
    },
    "polyglot_notebook": {
     "kernelName": "csharp"
    }
   },
   "outputs": [
    {
     "data": {
      "text/html": [
       "<div><div></div><div></div><div><strong>Installed Packages</strong><ul><li><span>microsoft.agents.ai, 1.0.0-preview.251001.2</span></li></ul></div></div>"
      ]
     },
     "metadata": {},
     "output_type": "display_data"
    }
   ],
   "source": [
    "\n",
    "\n",
    "#r \"nuget: Microsoft.Agents.AI, 1.0.0-preview.251001.3\""
   ]
  },
  {
   "cell_type": "code",
   "execution_count": 4,
   "id": "4ab7b15d",
   "metadata": {
    "language_info": {
     "name": "polyglot-notebook"
    },
    "polyglot_notebook": {
     "kernelName": "csharp"
    }
   },
   "outputs": [],
   "source": [
    "// #r \"nuget: Microsoft.Extensions.AI.OpenAI, 9.9.0-preview.1.25458.4\""
   ]
  },
  {
   "cell_type": "code",
   "execution_count": 5,
   "id": "3fa8aa21",
   "metadata": {
    "language_info": {
     "name": "polyglot-notebook"
    },
    "polyglot_notebook": {
     "kernelName": "csharp"
    }
   },
   "outputs": [
    {
     "data": {
      "text/html": [
       "<div><div></div><div></div><div><strong>Installed Packages</strong><ul><li><span>DotNetEnv, 3.1.1</span></li></ul></div></div>"
      ]
     },
     "metadata": {},
     "output_type": "display_data"
    }
   ],
   "source": [
    "#r \"nuget: DotNetEnv, 3.1.1\""
   ]
  },
  {
   "cell_type": "code",
   "execution_count": 6,
   "id": "fc8ee8ea",
   "metadata": {
    "language_info": {
     "name": "polyglot-notebook"
    },
    "polyglot_notebook": {
     "kernelName": "csharp"
    }
   },
   "outputs": [],
   "source": [
    "using System;\n",
    "using System.ComponentModel;\n",
    "using System.ClientModel;\n",
    "\n",
    "using Microsoft.Extensions.AI;\n",
    "using Microsoft.Agents.AI;\n",
    "using OpenAI;"
   ]
  },
  {
   "cell_type": "code",
   "execution_count": 7,
   "id": "699b1c83",
   "metadata": {
    "language_info": {
     "name": "polyglot-notebook"
    },
    "polyglot_notebook": {
     "kernelName": "csharp"
    }
   },
   "outputs": [],
   "source": [
    " using DotNetEnv;"
   ]
  },
  {
   "cell_type": "code",
   "execution_count": 8,
   "id": "daa649a0",
   "metadata": {
    "language_info": {
     "name": "polyglot-notebook"
    },
    "polyglot_notebook": {
     "kernelName": "csharp"
    }
   },
   "outputs": [],
   "source": [
    "Env.Load(\"../../../.env\");"
   ]
  },
  {
   "cell_type": "code",
   "execution_count": 9,
   "id": "29661a90",
   "metadata": {
    "language_info": {
     "name": "polyglot-notebook"
    },
    "polyglot_notebook": {
     "kernelName": "csharp"
    }
   },
   "outputs": [],
   "source": [
    "[Description(\"Provides a random vacation destination.\")]\n",
    "static string GetRandomDestination()\n",
    "{\n",
    "    var destinations = new List<string>\n",
    "    {\n",
    "        \"Paris, France\",\n",
    "        \"Tokyo, Japan\",\n",
    "        \"New York City, USA\",\n",
    "        \"Sydney, Australia\",\n",
    "        \"Rome, Italy\",\n",
    "        \"Barcelona, Spain\",\n",
    "        \"Cape Town, South Africa\",\n",
    "        \"Rio de Janeiro, Brazil\",\n",
    "        \"Bangkok, Thailand\",\n",
    "        \"Vancouver, Canada\"\n",
    "    };\n",
    "\n",
    "    var random = new Random();\n",
    "    int index = random.Next(destinations.Count);\n",
    "    return destinations[index];\n",
    "}"
   ]
  },
  {
   "cell_type": "code",
   "execution_count": 10,
   "id": "d2ed1f8b",
   "metadata": {
    "language_info": {
     "name": "polyglot-notebook"
    },
    "polyglot_notebook": {
     "kernelName": "csharp"
    }
   },
   "outputs": [],
   "source": [
    "var github_endpoint = Environment.GetEnvironmentVariable(\"GITHUB_ENDPOINT\") ?? throw new InvalidOperationException(\"GITHUB_ENDPOINT is not set.\");\n",
    "var github_model_id = Environment.GetEnvironmentVariable(\"GITHUB_MODEL_ID\") ?? \"gpt-4o-mini\";\n",
    "var github_token = Environment.GetEnvironmentVariable(\"GITHUB_TOKEN\") ?? throw new InvalidOperationException(\"GITHUB_TOKEN is not set.\");"
   ]
  },
  {
   "cell_type": "code",
   "execution_count": 11,
   "id": "c36c73e1",
   "metadata": {
    "language_info": {
     "name": "polyglot-notebook"
    },
    "polyglot_notebook": {
     "kernelName": "csharp"
    }
   },
   "outputs": [],
   "source": [
    "var openAIOptions = new OpenAIClientOptions()\n",
    "{\n",
    "    Endpoint= new Uri(github_endpoint)\n",
    "};"
   ]
  },
  {
   "cell_type": "code",
   "execution_count": 12,
   "id": "6d94ff10",
   "metadata": {
    "language_info": {
     "name": "polyglot-notebook"
    },
    "polyglot_notebook": {
     "kernelName": "csharp"
    }
   },
   "outputs": [],
   "source": [
    "\n",
    "var openAIClient = new OpenAIClient(new ApiKeyCredential(github_token), openAIOptions);"
   ]
  },
  {
   "cell_type": "code",
   "execution_count": 13,
   "id": "fe32b57a",
   "metadata": {
    "language_info": {
     "name": "polyglot-notebook"
    },
    "polyglot_notebook": {
     "kernelName": "csharp"
    }
   },
   "outputs": [],
   "source": [
    "AIAgent agent = new OpenAIClient(new ApiKeyCredential(github_token), openAIOptions).GetChatClient(github_model_id).CreateAIAgent(\n",
    "    instructions:\"You are a helpful AI Agent that can help plan vacations for customers at random destinations\", tools: [AIFunctionFactory.Create((Func<string>)GetRandomDestination)]);"
   ]
  },
  {
   "cell_type": "code",
   "execution_count": 14,
   "metadata": {
    "language_info": {
     "name": "polyglot-notebook"
    },
    "polyglot_notebook": {
     "kernelName": "csharp"
    }
   },
   "outputs": [],
   "source": [
    "AgentThread thread = agent.GetNewThread();"
   ]
  },
  {
   "cell_type": "code",
   "execution_count": 15,
   "id": "5e455aff",
   "metadata": {
    "language_info": {
     "name": "polyglot-notebook"
    },
    "polyglot_notebook": {
     "kernelName": "csharp"
    }
   },
   "outputs": [
    {
     "name": "stdout",
     "output_type": "stream",
     "text": [
      "How about a day trip to Vancouver, Canada? Here's a suggested itinerary for your day:\n",
      "\n",
      "### Morning\n",
      "- **Breakfast at a Local Cafe**: Start your day with a delicious breakfast at a cozy café like **Jam Cafe** or **Cafe Medina**.\n",
      "- **Stanley Park**: After breakfast, head to Stanley Park. You can rent a bike and ride along the seawall, enjoying beautiful views of the city and the water.\n",
      "\n",
      "### Afternoon\n",
      "- **Lunch in Gastown**: Make your way to Gastown for lunch. Try a local favorite like **The Flying Pig** or **Noodle Box**.\n",
      "- **Explore Gastown**: After lunch, walk around Gastown to see the iconic Steam Clock and browse the unique shops and boutiques.\n",
      "\n",
      "### Late Afternoon\n",
      "- **Granville Island**: Visit Granville Island, where you can stroll through the public market, sample local foods, and enjoy artisan shops.\n",
      "- **False Creek**: Take a walk along False Creek and enjoy the waterfront views.\n",
      "\n",
      "### Evening\n",
      "- **Dinner at a Waterfront Restaurant**: End your day with dinner at a waterfront restaurant like **The Boathouse** or **Lift Bar Grill View** for great food and a view of the sunset.\n",
      "- **Optional: Sunset Cruise**: If you're up for it, consider taking a sunset cruise for a different perspective of the city.\n",
      "\n",
      "### Tips\n",
      "- Make sure to check the weather beforehand!\n",
      "- Consider public transport or ride-sharing to navigate the city easily.\n",
      "\n",
      "Enjoy your day trip to Vancouver!\r\n"
     ]
    }
   ],
   "source": [
    "Console.WriteLine(await agent.RunAsync(\"Plan me a day trip\",thread));"
   ]
  },
  {
   "cell_type": "code",
   "execution_count": 16,
   "id": "592ae1bb",
   "metadata": {
    "language_info": {
     "name": "polyglot-notebook"
    },
    "polyglot_notebook": {
     "kernelName": "csharp"
    }
   },
   "outputs": [
    {
     "name": "stdout",
     "output_type": "stream",
     "text": [
      "How about a vacation to New York City, USA? Here's a suggested itinerary for your trip:\n",
      "\n",
      "### Day 1: Arrival in New York City\n",
      "- **Check-In**: Arrive and check in to your hotel.\n",
      "- **Central Park**: Take a leisurely stroll through Central Park. Consider renting a bike or taking a carriage ride.\n",
      "- **Evening**: Enjoy dinner at a classic NYC restaurant, such as **Katz's Delicatessen** or **Carbone**.\n",
      "\n",
      "### Day 2: Iconic Landmarks\n",
      "- **Morning**: Breakfast at a local diner.\n",
      "- **Statue of Liberty & Ellis Island**: Take a ferry to visit these iconic landmarks.\n",
      "- **Afternoon**: Explore Wall Street and visit the 9/11 Memorial & Museum.\n",
      "- **Evening**: Dinner in the Financial District followed by a walk across the Brooklyn Bridge at sunset.\n",
      "\n",
      "### Day 3: Culture and Arts\n",
      "- **Morning**: Visit The Metropolitan Museum of Art (The Met) and spend a few hours exploring its vast collection.\n",
      "- **Afternoon**: Head to Times Square for lunch and the buzz of the city.\n",
      "- **Broadway Show**: Catch a Broadway show in the evening. Be sure to book tickets in advance!\n",
      "\n",
      "### Day 4: Explore Neighborhoods\n",
      "- **Morning**: Head to SoHo for brunch and shopping in its chic boutiques.\n",
      "- **Afternoon**: Explore Greenwich Village, known for its bohemian atmosphere and history.\n",
      "- **Evening**: Enjoy dinner in the West Village, perhaps at **Buvette** or **Minetta Tavern**.\n",
      "\n",
      "### Day 5: Departure\n",
      "- **Last-minute Shopping**: Spend your last morning shopping at Fifth Avenue or head to Chelsea Market for food and souvenirs.\n",
      "- **Check-Out**: Depart for your journey home.\n",
      "\n",
      "### Tips\n",
      "- Utilize the subway for efficient travel around the city.\n",
      "- Make reservations for popular restaurants and attractions ahead of time!\n",
      "\n",
      "Enjoy your trip to New York City!\r\n"
     ]
    }
   ],
   "source": [
    "Console.WriteLine(await agent.RunAsync(\"I don't like that destination. Plan me another vacation.\",thread));"
   ]
  },
  {
   "cell_type": "markdown",
   "metadata": {},
   "source": [
    "\n---\n\n**अस्वीकरण**:  \nयो दस्तावेज़ AI अनुवाद सेवा [Co-op Translator](https://github.com/Azure/co-op-translator) प्रयोग गरेर अनुवाद गरिएको हो। हामी यथार्थताको लागि प्रयास गर्छौं, तर कृपया ध्यान दिनुहोस् कि स्वचालित अनुवादमा त्रुटिहरू वा अशुद्धताहरू हुन सक्छ। यसको मूल भाषा मा रहेको मूल दस्तावेज़लाई आधिकारिक स्रोत मानिनुपर्छ। महत्वपूर्ण जानकारीको लागि, व्यावसायिक मानव अनुवाद सिफारिस गरिन्छ। यस अनुवादको प्रयोगबाट उत्पन्न हुने कुनै पनि गलतफहमी वा गलत व्याख्याको लागि हामी जिम्मेवार हुने छैनौं।\n"
   ]
  }
 ],
 "metadata": {
  "kernelspec": {
   "display_name": ".NET (C#)",
   "language": "C#",
   "name": ".net-csharp"
  },
  "language_info": {
   "name": "polyglot-notebook"
  },
  "polyglot_notebook": {
   "kernelInfo": {
    "defaultKernelName": "csharp",
    "items": [
     {
      "aliases": [],
      "name": "csharp"
     }
    ]
   }
  },
  "coopTranslator": {
   "original_hash": "070c1d8985b3dc6e6d977f3e891037f1",
   "translation_date": "2025-10-02T11:51:51+00:00",
   "source_file": "03-agentic-design-patterns/code_samples/03-dotnet-agent-framework.ipynb",
   "language_code": "ne"
  }
 },
 "nbformat": 4,
 "nbformat_minor": 5
}