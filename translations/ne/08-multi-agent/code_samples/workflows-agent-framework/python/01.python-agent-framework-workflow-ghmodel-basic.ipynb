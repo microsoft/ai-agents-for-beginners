{
 "cells": [
  {
   "cell_type": "markdown",
   "id": "3a045dd3",
   "metadata": {},
   "source": [
    "# 🔄 GitHub मोडेलहरू प्रयोग गरेर आधारभूत एजेन्ट वर्कफ्लो (Python)\n",
    "\n",
    "## 📋 वर्कफ्लो समन्वय ट्यूटोरियल\n",
    "\n",
    "यो नोटबुकले Microsoft Agent Framework को शक्तिशाली **Workflow Builder** क्षमताहरू प्रस्तुत गर्दछ। जटिल व्यापार प्रक्रियाहरूलाई सहज रूपमा व्यवस्थापन गर्न र धेरै AI अपरेसनहरू समन्वय गर्न सक्षम बहु-चरण एजेन्ट वर्कफ्लोहरू कसरी सिर्जना गर्ने भन्ने कुरा सिक्नुहोस्।\n",
    "\n",
    "## 🎯 सिक्ने उद्देश्यहरू\n",
    "\n",
    "### 🏗️ **वर्कफ्लो आर्किटेक्चर**\n",
    "- **Workflow Builder**: जटिल बहु-चरण प्रक्रियाहरू डिजाइन र समन्वय गर्नुहोस्\n",
    "- **Event-Driven Execution**: वर्कफ्लो घटनाहरू र अवस्था संक्रमणहरू व्यवस्थापन गर्नुहोस्\n",
    "- **Visual Workflow Design**: वर्कफ्लो संरचनाहरू सिर्जना र दृश्यात्मक बनाउनुहोस्\n",
    "- **GitHub Models Integration**: वर्कफ्लो सन्दर्भहरूमा AI मोडेलहरूको उपयोग गर्नुहोस्\n",
    "\n",
    "### 🔄 **प्रक्रिया समन्वय**\n",
    "- **Sequential Operations**: धेरै एजेन्ट कार्यहरूलाई तार्किक क्रममा जडान गर्नुहोस्\n",
    "- **Conditional Logic**: निर्णय बिन्दुहरू र शाखा वर्कफ्लोहरू कार्यान्वयन गर्नुहोस्\n",
    "- **Error Handling**: बलियो त्रुटि पुन: प्राप्ति र वर्कफ्लो लचिलोपन\n",
    "- **State Management**: वर्कफ्लो कार्यान्वयन अवस्थालाई ट्र्याक र व्यवस्थापन गर्नुहोस्\n",
    "\n",
    "### 📊 **उद्यम वर्कफ्लो ढाँचाहरू**\n",
    "- **Business Process Automation**: जटिल संगठनात्मक वर्कफ्लोहरू स्वचालित गर्नुहोस्\n",
    "- **Multi-Agent Coordination**: धेरै विशेषज्ञ एजेन्टहरू समन्वय गर्नुहोस्\n",
    "- **Scalable Execution**: उद्यम-स्तरको अपरेसनहरूको लागि वर्कफ्लो डिजाइन गर्नुहोस्\n",
    "- **Monitoring & Observability**: वर्कफ्लो प्रदर्शन र परिणामहरू ट्र्याक गर्नुहोस्\n",
    "\n",
    "## ⚙️ पूर्वापेक्षा र सेटअप\n",
    "\n",
    "### 📦 **आवश्यक निर्भरता**\n",
    "\n",
    "वर्कफ्लो क्षमताहरू सहित Agent Framework स्थापना गर्नुहोस्:\n",
    "\n",
    "```bash\n",
    "pip install agent-framework-core -U\n",
    "```\n",
    "\n",
    "### 🔑 **GitHub मोडेलहरूको कन्फिगरेसन**\n",
    "\n",
    "**Environment Setup (.env फाइल):**\n",
    "```env\n",
    "GITHUB_TOKEN=your_github_personal_access_token\n",
    "GITHUB_ENDPOINT=https://models.inference.ai.azure.com\n",
    "GITHUB_MODEL_ID=gpt-4o-mini\n",
    "```\n",
    "\n",
    "### 🏢 **उद्यम प्रयोगका केसहरू**\n",
    "\n",
    "**व्यापार प्रक्रिया उदाहरणहरू:**\n",
    "- **Customer Onboarding**: बहु-चरण प्रमाणीकरण र सेटअप वर्कफ्लोहरू\n",
    "- **Content Pipeline**: स्वचालित सामग्री सिर्जना, समीक्षा, र प्रकाशन\n",
    "- **Data Processing**: AI-संचालित रूपान्तरण सहित ETL वर्कफ्लोहरू\n",
    "- **Quality Assurance**: स्वचालित परीक्षण र प्रमाणीकरण प्रक्रियाहरू\n",
    "\n",
    "**वर्कफ्लो लाभहरू:**\n",
    "- 🎯 **विश्वसनीयता**: त्रुटि पुन: प्राप्ति सहित निर्धारणात्मक कार्यान्वयन\n",
    "- 📈 **मापनयोग्यता**: उच्च-भोल्युम प्रक्रिया स्वचालनको व्यवस्थापन\n",
    "- 🔍 **अवलोकनीयता**: पूर्ण अडिट ट्रेलहरू र निगरानी\n",
    "- 🔧 **रखरखावयोग्यता**: दृश्य डिजाइन र मोड्युलर घटकहरू\n",
    "\n",
    "## 🎨 वर्कफ्लो डिजाइन ढाँचाहरू\n",
    "\n",
    "### आधारभूत वर्कफ्लो संरचना\n",
    "```mermaid\n",
    "graph TD\n",
    "    A[Start] --> B[Agent Task 1]\n",
    "    B --> C{Decision Point}\n",
    "    C -->|Success| D[Agent Task 2]\n",
    "    C -->|Failure| E[Error Handler]\n",
    "    D --> F[End]\n",
    "    E --> F\n",
    "```\n",
    "\n",
    "**मुख्य घटकहरू:**\n",
    "- **WorkflowBuilder**: मुख्य समन्वय इन्जिन\n",
    "- **WorkflowEvent**: घटना व्यवस्थापन र सञ्चार\n",
    "- **WorkflowViz**: दृश्यात्मक वर्कफ्लो प्रतिनिधित्व र डिबगिङ\n",
    "\n",
    "आफ्नो पहिलो बौद्धिक वर्कफ्लो निर्माण गरौं! 🚀\n"
   ]
  },
  {
   "cell_type": "code",
   "execution_count": 2,
   "id": "c0863be7",
   "metadata": {},
   "outputs": [
    {
     "name": "stdout",
     "output_type": "stream",
     "text": [
      "Requirement already satisfied: agent-framework-core in /Users/koreypace/ai-agents-for-beginners/.venv/lib/python3.12/site-packages (1.0.0b251007)\n",
      "Requirement already satisfied: openai<2,>=1.99.0 in /Users/koreypace/ai-agents-for-beginners/.venv/lib/python3.12/site-packages (from agent-framework-core) (1.99.9)\n",
      "Requirement already satisfied: pydantic<3,>=2 in /Users/koreypace/ai-agents-for-beginners/.venv/lib/python3.12/site-packages (from agent-framework-core) (2.11.9)\n",
      "Requirement already satisfied: pydantic-settings<3,>=2 in /Users/koreypace/ai-agents-for-beginners/.venv/lib/python3.12/site-packages (from agent-framework-core) (2.9.1)\n",
      "Requirement already satisfied: typing-extensions in /Users/koreypace/ai-agents-for-beginners/.venv/lib/python3.12/site-packages (from agent-framework-core) (4.13.2)\n",
      "Requirement already satisfied: opentelemetry-api>=1.24 in /Users/koreypace/ai-agents-for-beginners/.venv/lib/python3.12/site-packages (from agent-framework-core) (1.37.0)\n",
      "Requirement already satisfied: opentelemetry-sdk>=1.24 in /Users/koreypace/ai-agents-for-beginners/.venv/lib/python3.12/site-packages (from agent-framework-core) (1.37.0)\n",
      "Requirement already satisfied: mcp>=1.13 in /Users/koreypace/ai-agents-for-beginners/.venv/lib/python3.12/site-packages (from mcp[ws]>=1.13->agent-framework-core) (1.13.1)\n",
      "Requirement already satisfied: azure-monitor-opentelemetry>=1.7.0 in /Users/koreypace/ai-agents-for-beginners/.venv/lib/python3.12/site-packages (from agent-framework-core) (1.8.1)\n",
      "Requirement already satisfied: azure-monitor-opentelemetry-exporter>=1.0.0b41 in /Users/koreypace/ai-agents-for-beginners/.venv/lib/python3.12/site-packages (from agent-framework-core) (1.0.0b42)\n",
      "Requirement already satisfied: opentelemetry-exporter-otlp-proto-grpc>=1.36.0 in /Users/koreypace/ai-agents-for-beginners/.venv/lib/python3.12/site-packages (from agent-framework-core) (1.37.0)\n",
      "Requirement already satisfied: opentelemetry-semantic-conventions-ai>=0.4.13 in /Users/koreypace/ai-agents-for-beginners/.venv/lib/python3.12/site-packages (from agent-framework-core) (0.4.13)\n",
      "Requirement already satisfied: aiofiles>=24.1.0 in /Users/koreypace/ai-agents-for-beginners/.venv/lib/python3.12/site-packages (from agent-framework-core) (24.1.0)\n",
      "Requirement already satisfied: azure-identity<2,>=1 in /Users/koreypace/ai-agents-for-beginners/.venv/lib/python3.12/site-packages (from agent-framework-core) (1.22.0)\n",
      "Requirement already satisfied: azure-core>=1.31.0 in /Users/koreypace/ai-agents-for-beginners/.venv/lib/python3.12/site-packages (from azure-identity<2,>=1->agent-framework-core) (1.34.0)\n",
      "Requirement already satisfied: cryptography>=2.5 in /Users/koreypace/ai-agents-for-beginners/.venv/lib/python3.12/site-packages (from azure-identity<2,>=1->agent-framework-core) (44.0.3)\n",
      "Requirement already satisfied: msal>=1.30.0 in /Users/koreypace/ai-agents-for-beginners/.venv/lib/python3.12/site-packages (from azure-identity<2,>=1->agent-framework-core) (1.32.3)\n",
      "Requirement already satisfied: msal-extensions>=1.2.0 in /Users/koreypace/ai-agents-for-beginners/.venv/lib/python3.12/site-packages (from azure-identity<2,>=1->agent-framework-core) (1.3.1)\n",
      "Requirement already satisfied: anyio<5,>=3.5.0 in /Users/koreypace/ai-agents-for-beginners/.venv/lib/python3.12/site-packages (from openai<2,>=1.99.0->agent-framework-core) (4.9.0)\n",
      "Requirement already satisfied: distro<2,>=1.7.0 in /Users/koreypace/ai-agents-for-beginners/.venv/lib/python3.12/site-packages (from openai<2,>=1.99.0->agent-framework-core) (1.9.0)\n",
      "Requirement already satisfied: httpx<1,>=0.23.0 in /Users/koreypace/ai-agents-for-beginners/.venv/lib/python3.12/site-packages (from openai<2,>=1.99.0->agent-framework-core) (0.28.1)\n",
      "Requirement already satisfied: jiter<1,>=0.4.0 in /Users/koreypace/ai-agents-for-beginners/.venv/lib/python3.12/site-packages (from openai<2,>=1.99.0->agent-framework-core) (0.9.0)\n",
      "Requirement already satisfied: sniffio in /Users/koreypace/ai-agents-for-beginners/.venv/lib/python3.12/site-packages (from openai<2,>=1.99.0->agent-framework-core) (1.3.1)\n",
      "Requirement already satisfied: tqdm>4 in /Users/koreypace/ai-agents-for-beginners/.venv/lib/python3.12/site-packages (from openai<2,>=1.99.0->agent-framework-core) (4.67.1)\n",
      "Requirement already satisfied: idna>=2.8 in /Users/koreypace/ai-agents-for-beginners/.venv/lib/python3.12/site-packages (from anyio<5,>=3.5.0->openai<2,>=1.99.0->agent-framework-core) (3.10)\n",
      "Requirement already satisfied: certifi in /Users/koreypace/ai-agents-for-beginners/.venv/lib/python3.12/site-packages (from httpx<1,>=0.23.0->openai<2,>=1.99.0->agent-framework-core) (2025.4.26)\n",
      "Requirement already satisfied: httpcore==1.* in /Users/koreypace/ai-agents-for-beginners/.venv/lib/python3.12/site-packages (from httpx<1,>=0.23.0->openai<2,>=1.99.0->agent-framework-core) (1.0.9)\n",
      "Requirement already satisfied: h11>=0.16 in /Users/koreypace/ai-agents-for-beginners/.venv/lib/python3.12/site-packages (from httpcore==1.*->httpx<1,>=0.23.0->openai<2,>=1.99.0->agent-framework-core) (0.16.0)\n",
      "Requirement already satisfied: annotated-types>=0.6.0 in /Users/koreypace/ai-agents-for-beginners/.venv/lib/python3.12/site-packages (from pydantic<3,>=2->agent-framework-core) (0.7.0)\n",
      "Requirement already satisfied: pydantic-core==2.33.2 in /Users/koreypace/ai-agents-for-beginners/.venv/lib/python3.12/site-packages (from pydantic<3,>=2->agent-framework-core) (2.33.2)\n",
      "Requirement already satisfied: typing-inspection>=0.4.0 in /Users/koreypace/ai-agents-for-beginners/.venv/lib/python3.12/site-packages (from pydantic<3,>=2->agent-framework-core) (0.4.0)\n",
      "Requirement already satisfied: python-dotenv>=0.21.0 in /Users/koreypace/ai-agents-for-beginners/.venv/lib/python3.12/site-packages (from pydantic-settings<3,>=2->agent-framework-core) (1.0.1)\n",
      "Requirement already satisfied: requests>=2.21.0 in /Users/koreypace/ai-agents-for-beginners/.venv/lib/python3.12/site-packages (from azure-core>=1.31.0->azure-identity<2,>=1->agent-framework-core) (2.32.3)\n",
      "Requirement already satisfied: six>=1.11.0 in /Users/koreypace/ai-agents-for-beginners/.venv/lib/python3.12/site-packages (from azure-core>=1.31.0->azure-identity<2,>=1->agent-framework-core) (1.17.0)\n",
      "Requirement already satisfied: azure-core-tracing-opentelemetry~=1.0.0b11 in /Users/koreypace/ai-agents-for-beginners/.venv/lib/python3.12/site-packages (from azure-monitor-opentelemetry>=1.7.0->agent-framework-core) (1.0.0b12)\n",
      "Requirement already satisfied: opentelemetry-instrumentation-django~=0.57b0 in /Users/koreypace/ai-agents-for-beginners/.venv/lib/python3.12/site-packages (from azure-monitor-opentelemetry>=1.7.0->agent-framework-core) (0.58b0)\n",
      "Requirement already satisfied: opentelemetry-instrumentation-fastapi~=0.57b0 in /Users/koreypace/ai-agents-for-beginners/.venv/lib/python3.12/site-packages (from azure-monitor-opentelemetry>=1.7.0->agent-framework-core) (0.58b0)\n",
      "Requirement already satisfied: opentelemetry-instrumentation-flask~=0.57b0 in /Users/koreypace/ai-agents-for-beginners/.venv/lib/python3.12/site-packages (from azure-monitor-opentelemetry>=1.7.0->agent-framework-core) (0.58b0)\n",
      "Requirement already satisfied: opentelemetry-instrumentation-psycopg2~=0.57b0 in /Users/koreypace/ai-agents-for-beginners/.venv/lib/python3.12/site-packages (from azure-monitor-opentelemetry>=1.7.0->agent-framework-core) (0.58b0)\n",
      "Requirement already satisfied: opentelemetry-instrumentation-requests~=0.57b0 in /Users/koreypace/ai-agents-for-beginners/.venv/lib/python3.12/site-packages (from azure-monitor-opentelemetry>=1.7.0->agent-framework-core) (0.58b0)\n",
      "Requirement already satisfied: opentelemetry-instrumentation-urllib~=0.57b0 in /Users/koreypace/ai-agents-for-beginners/.venv/lib/python3.12/site-packages (from azure-monitor-opentelemetry>=1.7.0->agent-framework-core) (0.58b0)\n",
      "Requirement already satisfied: opentelemetry-instrumentation-urllib3~=0.57b0 in /Users/koreypace/ai-agents-for-beginners/.venv/lib/python3.12/site-packages (from azure-monitor-opentelemetry>=1.7.0->agent-framework-core) (0.58b0)\n",
      "Requirement already satisfied: opentelemetry-resource-detector-azure~=0.1.5 in /Users/koreypace/ai-agents-for-beginners/.venv/lib/python3.12/site-packages (from azure-monitor-opentelemetry>=1.7.0->agent-framework-core) (0.1.5)\n",
      "Requirement already satisfied: fixedint==0.1.6 in /Users/koreypace/ai-agents-for-beginners/.venv/lib/python3.12/site-packages (from azure-monitor-opentelemetry-exporter>=1.0.0b41->agent-framework-core) (0.1.6)\n",
      "Requirement already satisfied: msrest>=0.6.10 in /Users/koreypace/ai-agents-for-beginners/.venv/lib/python3.12/site-packages (from azure-monitor-opentelemetry-exporter>=1.0.0b41->agent-framework-core) (0.7.1)\n",
      "Requirement already satisfied: psutil<8,>=5.9 in /Users/koreypace/ai-agents-for-beginners/.venv/lib/python3.12/site-packages (from azure-monitor-opentelemetry-exporter>=1.0.0b41->agent-framework-core) (7.0.0)\n",
      "Requirement already satisfied: importlib-metadata<8.8.0,>=6.0 in /Users/koreypace/ai-agents-for-beginners/.venv/lib/python3.12/site-packages (from opentelemetry-api>=1.24->agent-framework-core) (8.6.1)\n",
      "Requirement already satisfied: zipp>=3.20 in /Users/koreypace/ai-agents-for-beginners/.venv/lib/python3.12/site-packages (from importlib-metadata<8.8.0,>=6.0->opentelemetry-api>=1.24->agent-framework-core) (3.21.0)\n",
      "Requirement already satisfied: opentelemetry-instrumentation-wsgi==0.58b0 in /Users/koreypace/ai-agents-for-beginners/.venv/lib/python3.12/site-packages (from opentelemetry-instrumentation-django~=0.57b0->azure-monitor-opentelemetry>=1.7.0->agent-framework-core) (0.58b0)\n",
      "Requirement already satisfied: opentelemetry-instrumentation==0.58b0 in /Users/koreypace/ai-agents-for-beginners/.venv/lib/python3.12/site-packages (from opentelemetry-instrumentation-django~=0.57b0->azure-monitor-opentelemetry>=1.7.0->agent-framework-core) (0.58b0)\n",
      "Requirement already satisfied: opentelemetry-semantic-conventions==0.58b0 in /Users/koreypace/ai-agents-for-beginners/.venv/lib/python3.12/site-packages (from opentelemetry-instrumentation-django~=0.57b0->azure-monitor-opentelemetry>=1.7.0->agent-framework-core) (0.58b0)\n",
      "Requirement already satisfied: opentelemetry-util-http==0.58b0 in /Users/koreypace/ai-agents-for-beginners/.venv/lib/python3.12/site-packages (from opentelemetry-instrumentation-django~=0.57b0->azure-monitor-opentelemetry>=1.7.0->agent-framework-core) (0.58b0)\n",
      "Requirement already satisfied: packaging>=18.0 in /Users/koreypace/ai-agents-for-beginners/.venv/lib/python3.12/site-packages (from opentelemetry-instrumentation==0.58b0->opentelemetry-instrumentation-django~=0.57b0->azure-monitor-opentelemetry>=1.7.0->agent-framework-core) (24.2)\n",
      "Requirement already satisfied: wrapt<2.0.0,>=1.0.0 in /Users/koreypace/ai-agents-for-beginners/.venv/lib/python3.12/site-packages (from opentelemetry-instrumentation==0.58b0->opentelemetry-instrumentation-django~=0.57b0->azure-monitor-opentelemetry>=1.7.0->agent-framework-core) (1.17.2)\n",
      "Requirement already satisfied: opentelemetry-instrumentation-asgi==0.58b0 in /Users/koreypace/ai-agents-for-beginners/.venv/lib/python3.12/site-packages (from opentelemetry-instrumentation-fastapi~=0.57b0->azure-monitor-opentelemetry>=1.7.0->agent-framework-core) (0.58b0)\n",
      "Requirement already satisfied: asgiref~=3.0 in /Users/koreypace/ai-agents-for-beginners/.venv/lib/python3.12/site-packages (from opentelemetry-instrumentation-asgi==0.58b0->opentelemetry-instrumentation-fastapi~=0.57b0->azure-monitor-opentelemetry>=1.7.0->agent-framework-core) (3.8.1)\n",
      "Requirement already satisfied: opentelemetry-instrumentation-dbapi==0.58b0 in /Users/koreypace/ai-agents-for-beginners/.venv/lib/python3.12/site-packages (from opentelemetry-instrumentation-psycopg2~=0.57b0->azure-monitor-opentelemetry>=1.7.0->agent-framework-core) (0.58b0)\n",
      "Requirement already satisfied: cffi>=1.12 in /Users/koreypace/ai-agents-for-beginners/.venv/lib/python3.12/site-packages (from cryptography>=2.5->azure-identity<2,>=1->agent-framework-core) (1.17.1)\n",
      "Requirement already satisfied: pycparser in /Users/koreypace/ai-agents-for-beginners/.venv/lib/python3.12/site-packages (from cffi>=1.12->cryptography>=2.5->azure-identity<2,>=1->agent-framework-core) (2.22)\n",
      "Requirement already satisfied: httpx-sse>=0.4 in /Users/koreypace/ai-agents-for-beginners/.venv/lib/python3.12/site-packages (from mcp>=1.13->mcp[ws]>=1.13->agent-framework-core) (0.4.0)\n",
      "Requirement already satisfied: jsonschema>=4.20.0 in /Users/koreypace/ai-agents-for-beginners/.venv/lib/python3.12/site-packages (from mcp>=1.13->mcp[ws]>=1.13->agent-framework-core) (4.23.0)\n",
      "Requirement already satisfied: python-multipart>=0.0.9 in /Users/koreypace/ai-agents-for-beginners/.venv/lib/python3.12/site-packages (from mcp>=1.13->mcp[ws]>=1.13->agent-framework-core) (0.0.18)\n",
      "Requirement already satisfied: sse-starlette>=1.6.1 in /Users/koreypace/ai-agents-for-beginners/.venv/lib/python3.12/site-packages (from mcp>=1.13->mcp[ws]>=1.13->agent-framework-core) (2.3.4)\n",
      "Requirement already satisfied: starlette>=0.27 in /Users/koreypace/ai-agents-for-beginners/.venv/lib/python3.12/site-packages (from mcp>=1.13->mcp[ws]>=1.13->agent-framework-core) (0.41.3)\n",
      "Requirement already satisfied: uvicorn>=0.31.1 in /Users/koreypace/ai-agents-for-beginners/.venv/lib/python3.12/site-packages (from mcp>=1.13->mcp[ws]>=1.13->agent-framework-core) (0.34.2)\n",
      "Requirement already satisfied: attrs>=22.2.0 in /Users/koreypace/ai-agents-for-beginners/.venv/lib/python3.12/site-packages (from jsonschema>=4.20.0->mcp>=1.13->mcp[ws]>=1.13->agent-framework-core) (25.3.0)\n",
      "Requirement already satisfied: jsonschema-specifications>=2023.03.6 in /Users/koreypace/ai-agents-for-beginners/.venv/lib/python3.12/site-packages (from jsonschema>=4.20.0->mcp>=1.13->mcp[ws]>=1.13->agent-framework-core) (2025.4.1)\n",
      "Requirement already satisfied: referencing>=0.28.4 in /Users/koreypace/ai-agents-for-beginners/.venv/lib/python3.12/site-packages (from jsonschema>=4.20.0->mcp>=1.13->mcp[ws]>=1.13->agent-framework-core) (0.36.2)\n",
      "Requirement already satisfied: rpds-py>=0.7.1 in /Users/koreypace/ai-agents-for-beginners/.venv/lib/python3.12/site-packages (from jsonschema>=4.20.0->mcp>=1.13->mcp[ws]>=1.13->agent-framework-core) (0.24.0)\n",
      "Requirement already satisfied: websockets>=15.0.1 in /Users/koreypace/ai-agents-for-beginners/.venv/lib/python3.12/site-packages (from mcp[ws]>=1.13->agent-framework-core) (15.0.1)\n",
      "Requirement already satisfied: PyJWT<3,>=1.0.0 in /Users/koreypace/ai-agents-for-beginners/.venv/lib/python3.12/site-packages (from PyJWT[crypto]<3,>=1.0.0->msal>=1.30.0->azure-identity<2,>=1->agent-framework-core) (2.10.1)\n",
      "Requirement already satisfied: charset-normalizer<4,>=2 in /Users/koreypace/ai-agents-for-beginners/.venv/lib/python3.12/site-packages (from requests>=2.21.0->azure-core>=1.31.0->azure-identity<2,>=1->agent-framework-core) (3.4.2)\n",
      "Requirement already satisfied: urllib3<3,>=1.21.1 in /Users/koreypace/ai-agents-for-beginners/.venv/lib/python3.12/site-packages (from requests>=2.21.0->azure-core>=1.31.0->azure-identity<2,>=1->agent-framework-core) (2.4.0)\n",
      "Requirement already satisfied: isodate>=0.6.0 in /Users/koreypace/ai-agents-for-beginners/.venv/lib/python3.12/site-packages (from msrest>=0.6.10->azure-monitor-opentelemetry-exporter>=1.0.0b41->agent-framework-core) (0.7.2)\n",
      "Requirement already satisfied: requests-oauthlib>=0.5.0 in /Users/koreypace/ai-agents-for-beginners/.venv/lib/python3.12/site-packages (from msrest>=0.6.10->azure-monitor-opentelemetry-exporter>=1.0.0b41->agent-framework-core) (2.0.0)\n",
      "Requirement already satisfied: googleapis-common-protos~=1.57 in /Users/koreypace/ai-agents-for-beginners/.venv/lib/python3.12/site-packages (from opentelemetry-exporter-otlp-proto-grpc>=1.36.0->agent-framework-core) (1.70.0)\n",
      "Requirement already satisfied: grpcio<2.0.0,>=1.63.2 in /Users/koreypace/ai-agents-for-beginners/.venv/lib/python3.12/site-packages (from opentelemetry-exporter-otlp-proto-grpc>=1.36.0->agent-framework-core) (1.71.0)\n",
      "Requirement already satisfied: opentelemetry-exporter-otlp-proto-common==1.37.0 in /Users/koreypace/ai-agents-for-beginners/.venv/lib/python3.12/site-packages (from opentelemetry-exporter-otlp-proto-grpc>=1.36.0->agent-framework-core) (1.37.0)\n",
      "Requirement already satisfied: opentelemetry-proto==1.37.0 in /Users/koreypace/ai-agents-for-beginners/.venv/lib/python3.12/site-packages (from opentelemetry-exporter-otlp-proto-grpc>=1.36.0->agent-framework-core) (1.37.0)\n",
      "Requirement already satisfied: protobuf<7.0,>=5.0 in /Users/koreypace/ai-agents-for-beginners/.venv/lib/python3.12/site-packages (from opentelemetry-proto==1.37.0->opentelemetry-exporter-otlp-proto-grpc>=1.36.0->agent-framework-core) (5.29.5)\n",
      "Requirement already satisfied: oauthlib>=3.0.0 in /Users/koreypace/ai-agents-for-beginners/.venv/lib/python3.12/site-packages (from requests-oauthlib>=0.5.0->msrest>=0.6.10->azure-monitor-opentelemetry-exporter>=1.0.0b41->agent-framework-core) (3.2.2)\n",
      "Requirement already satisfied: click>=7.0 in /Users/koreypace/ai-agents-for-beginners/.venv/lib/python3.12/site-packages (from uvicorn>=0.31.1->mcp>=1.13->mcp[ws]>=1.13->agent-framework-core) (8.1.8)\n",
      "\n",
      "\u001b[1m[\u001b[0m\u001b[34;49mnotice\u001b[0m\u001b[1;39;49m]\u001b[0m\u001b[39;49m A new release of pip is available: \u001b[0m\u001b[31;49m25.1.1\u001b[0m\u001b[39;49m -> \u001b[0m\u001b[32;49m25.2\u001b[0m\n",
      "\u001b[1m[\u001b[0m\u001b[34;49mnotice\u001b[0m\u001b[1;39;49m]\u001b[0m\u001b[39;49m To update, run: \u001b[0m\u001b[32;49mpip install --upgrade pip\u001b[0m\n"
     ]
    }
   ],
   "source": [
    "! pip install agent-framework-core -U"
   ]
  },
  {
   "cell_type": "code",
   "execution_count": 3,
   "id": "580e76d9",
   "metadata": {},
   "outputs": [],
   "source": [
    "# 🔄 Import Workflow and Agent Framework Components\n",
    "# Core components for building sophisticated agent workflows\n",
    "\n",
    "from agent_framework.openai import OpenAIChatClient    # 🤖 GitHub Models client integration\n",
    "from agent_framework import WorkflowBuilder, WorkflowEvent, WorkflowViz  # 🏗️ Workflow orchestration tools"
   ]
  },
  {
   "cell_type": "code",
   "execution_count": 4,
   "id": "5fe71939",
   "metadata": {},
   "outputs": [],
   "source": [
    "# 📦 Import Environment and System Utilities\n",
    "# Essential libraries for configuration and environment management\n",
    "\n",
    "import os                      # 🔧 Environment variable access\n",
    "from dotenv import load_dotenv # 📁 Secure configuration loading"
   ]
  },
  {
   "cell_type": "code",
   "execution_count": 5,
   "id": "cf183974",
   "metadata": {},
   "outputs": [
    {
     "data": {
      "text/plain": [
       "True"
      ]
     },
     "execution_count": 5,
     "metadata": {},
     "output_type": "execute_result"
    }
   ],
   "source": [
    "# 🔧 Initialize Environment Configuration\n",
    "# Load GitHub Models API credentials from .env file\n",
    "load_dotenv()"
   ]
  },
  {
   "cell_type": "code",
   "execution_count": 6,
   "id": "7a679634",
   "metadata": {},
   "outputs": [
    {
     "ename": "ServiceInitializationError",
     "evalue": "OpenAI model ID is required. Set via 'model_id' parameter or 'OPENAI_CHAT_MODEL_ID' environment variable.",
     "output_type": "error",
     "traceback": [
      "\u001b[31m---------------------------------------------------------------------------\u001b[39m",
      "\u001b[31mServiceInitializationError\u001b[39m                Traceback (most recent call last)",
      "\u001b[36mCell\u001b[39m\u001b[36m \u001b[39m\u001b[32mIn[6]\u001b[39m\u001b[32m, line 3\u001b[39m\n\u001b[32m      1\u001b[39m \u001b[38;5;66;03m# 🔗 Initialize GitHub Models Chat Client for Workflow Operations\u001b[39;00m\n\u001b[32m      2\u001b[39m \u001b[38;5;66;03m# Create the AI client that will power agents within our workflow\u001b[39;00m\n\u001b[32m----> \u001b[39m\u001b[32m3\u001b[39m chat_client = \u001b[43mOpenAIChatClient\u001b[49m\u001b[43m(\u001b[49m\n\u001b[32m      4\u001b[39m \u001b[43m    \u001b[49m\u001b[43mbase_url\u001b[49m\u001b[43m=\u001b[49m\u001b[43mos\u001b[49m\u001b[43m.\u001b[49m\u001b[43menviron\u001b[49m\u001b[43m.\u001b[49m\u001b[43mget\u001b[49m\u001b[43m(\u001b[49m\u001b[33;43m\"\u001b[39;49m\u001b[33;43mGITHUB_ENDPOINT\u001b[39;49m\u001b[33;43m\"\u001b[39;49m\u001b[43m)\u001b[49m\u001b[43m,\u001b[49m\u001b[43m    \u001b[49m\u001b[38;5;66;43;03m# 🌐 GitHub Models API endpoint\u001b[39;49;00m\n\u001b[32m      5\u001b[39m \u001b[43m    \u001b[49m\u001b[43mapi_key\u001b[49m\u001b[43m=\u001b[49m\u001b[43mos\u001b[49m\u001b[43m.\u001b[49m\u001b[43menviron\u001b[49m\u001b[43m.\u001b[49m\u001b[43mget\u001b[49m\u001b[43m(\u001b[49m\u001b[33;43m\"\u001b[39;49m\u001b[33;43mGITHUB_TOKEN\u001b[39;49m\u001b[33;43m\"\u001b[39;49m\u001b[43m)\u001b[49m\u001b[43m,\u001b[49m\u001b[43m        \u001b[49m\u001b[38;5;66;43;03m# 🔑 Authentication token\u001b[39;49;00m\n\u001b[32m      6\u001b[39m \u001b[43m    \u001b[49m\u001b[43mmodel_id\u001b[49m\u001b[43m=\u001b[49m\u001b[43mos\u001b[49m\u001b[43m.\u001b[49m\u001b[43menviron\u001b[49m\u001b[43m.\u001b[49m\u001b[43mget\u001b[49m\u001b[43m(\u001b[49m\u001b[33;43m\"\u001b[39;49m\u001b[33;43mGITHUB_MODEL_ID\u001b[39;49m\u001b[33;43m\"\u001b[39;49m\u001b[43m)\u001b[49m\u001b[43m  \u001b[49m\u001b[38;5;66;43;03m# 🎯 Selected AI model\u001b[39;49;00m\n\u001b[32m      7\u001b[39m \u001b[43m)\u001b[49m\n",
      "\u001b[36mFile \u001b[39m\u001b[32m~/ai-agents-for-beginners/.venv/lib/python3.12/site-packages/agent_framework/openai/_chat_client.py:536\u001b[39m, in \u001b[36mOpenAIChatClient.__init__\u001b[39m\u001b[34m(self, model_id, api_key, org_id, default_headers, async_client, instruction_role, base_url, env_file_path, env_file_encoding)\u001b[39m\n\u001b[32m    532\u001b[39m     \u001b[38;5;28;01mraise\u001b[39;00m ServiceInitializationError(\n\u001b[32m    533\u001b[39m         \u001b[33m\"\u001b[39m\u001b[33mOpenAI API key is required. Set via \u001b[39m\u001b[33m'\u001b[39m\u001b[33mapi_key\u001b[39m\u001b[33m'\u001b[39m\u001b[33m parameter or \u001b[39m\u001b[33m'\u001b[39m\u001b[33mOPENAI_API_KEY\u001b[39m\u001b[33m'\u001b[39m\u001b[33m environment variable.\u001b[39m\u001b[33m\"\u001b[39m\n\u001b[32m    534\u001b[39m     )\n\u001b[32m    535\u001b[39m \u001b[38;5;28;01mif\u001b[39;00m \u001b[38;5;129;01mnot\u001b[39;00m openai_settings.chat_model_id:\n\u001b[32m--> \u001b[39m\u001b[32m536\u001b[39m     \u001b[38;5;28;01mraise\u001b[39;00m ServiceInitializationError(\n\u001b[32m    537\u001b[39m         \u001b[33m\"\u001b[39m\u001b[33mOpenAI model ID is required. \u001b[39m\u001b[33m\"\u001b[39m\n\u001b[32m    538\u001b[39m         \u001b[33m\"\u001b[39m\u001b[33mSet via \u001b[39m\u001b[33m'\u001b[39m\u001b[33mmodel_id\u001b[39m\u001b[33m'\u001b[39m\u001b[33m parameter or \u001b[39m\u001b[33m'\u001b[39m\u001b[33mOPENAI_CHAT_MODEL_ID\u001b[39m\u001b[33m'\u001b[39m\u001b[33m environment variable.\u001b[39m\u001b[33m\"\u001b[39m\n\u001b[32m    539\u001b[39m     )\n\u001b[32m    541\u001b[39m \u001b[38;5;28msuper\u001b[39m().\u001b[34m__init__\u001b[39m(\n\u001b[32m    542\u001b[39m     model_id=openai_settings.chat_model_id,\n\u001b[32m    543\u001b[39m     api_key=\u001b[38;5;28mself\u001b[39m._get_api_key(openai_settings.api_key),\n\u001b[32m   (...)\u001b[39m\u001b[32m    548\u001b[39m     instruction_role=instruction_role,\n\u001b[32m    549\u001b[39m )\n",
      "\u001b[31mServiceInitializationError\u001b[39m: OpenAI model ID is required. Set via 'model_id' parameter or 'OPENAI_CHAT_MODEL_ID' environment variable."
     ]
    }
   ],
   "source": [
    "# 🔗 Initialize GitHub Models Chat Client for Workflow Operations\n",
    "# Create the AI client that will power agents within our workflow\n",
    "chat_client = OpenAIChatClient(\n",
    "    base_url=os.environ.get(\"GITHUB_ENDPOINT\"),    # 🌐 GitHub Models API endpoint\n",
    "    api_key=os.environ.get(\"GITHUB_TOKEN\"),        # 🔑 Authentication token\n",
    "    model_id=os.environ.get(\"GITHUB_MODEL_ID\")  # 🎯 Selected AI model\n",
    ")"
   ]
  },
  {
   "cell_type": "code",
   "execution_count": null,
   "id": "ba45c08b",
   "metadata": {},
   "outputs": [],
   "source": [
    "REVIEWER_NAME = \"Concierge\"\n",
    "REVIEWER_INSTRUCTIONS = \"\"\"\n",
    "    You are an are hotel concierge who has opinions about providing the most local and authentic experiences for travelers.\n",
    "    The goal is to determine if the front desk travel agent has recommended the best non-touristy experience for a traveler.\n",
    "    If so, state that it is approved.\n",
    "    If not, provide insight on how to refine the recommendation without using a specific example. \n",
    "    \"\"\""
   ]
  },
  {
   "cell_type": "code",
   "execution_count": null,
   "id": "d9f520ff",
   "metadata": {},
   "outputs": [],
   "source": [
    "FRONTDESK_NAME = \"FrontDesk\"\n",
    "FRONTDESK_INSTRUCTIONS = \"\"\"\n",
    "    You are a Front Desk Travel Agent with ten years of experience and are known for brevity as you deal with many customers.\n",
    "    The goal is to provide the best activities and locations for a traveler to visit.\n",
    "    Only provide a single recommendation per response.\n",
    "    You're laser focused on the goal at hand.\n",
    "    Don't waste time with chit chat.\n",
    "    Consider suggestions when refining an idea.\n",
    "    \"\"\""
   ]
  },
  {
   "cell_type": "code",
   "execution_count": null,
   "id": "ad4819e0",
   "metadata": {},
   "outputs": [],
   "source": [
    "reviewer_agent   = chat_client.create_agent(\n",
    "        instructions=(\n",
    "           REVIEWER_INSTRUCTIONS\n",
    "        ),\n",
    "        name=REVIEWER_NAME,\n",
    "    )\n",
    "\n",
    "front_desk_agent = chat_client.create_agent(\n",
    "        instructions=(\n",
    "            FRONTDESK_INSTRUCTIONS\n",
    "        ),\n",
    "        name=FRONTDESK_NAME,\n",
    "    )"
   ]
  },
  {
   "cell_type": "code",
   "execution_count": null,
   "id": "150bb29b",
   "metadata": {},
   "outputs": [],
   "source": [
    "workflow = WorkflowBuilder().set_start_executor(front_desk_agent).add_edge(front_desk_agent, reviewer_agent).build()"
   ]
  },
  {
   "cell_type": "code",
   "execution_count": null,
   "id": "e913c773",
   "metadata": {},
   "outputs": [],
   "source": [
    "\n",
    "print(\"Generating workflow visualization...\")\n",
    "viz = WorkflowViz(workflow)\n",
    "# Print out the mermaid string.\n",
    "print(\"Mermaid string: \\n=======\")\n",
    "print(viz.to_mermaid())\n",
    "print(\"=======\")\n",
    "# Print out the DiGraph string.\n",
    "print(\"DiGraph string: \\n=======\")\n",
    "print(viz.to_digraph())\n",
    "print(\"=======\")\n",
    "svg_file = viz.export(format=\"svg\")\n",
    "print(f\"SVG file saved to: {svg_file}\")"
   ]
  },
  {
   "cell_type": "code",
   "execution_count": null,
   "id": "5fe90eb5",
   "metadata": {},
   "outputs": [],
   "source": [
    "class DatabaseEvent(WorkflowEvent): ..."
   ]
  },
  {
   "cell_type": "code",
   "execution_count": null,
   "id": "e802947c",
   "metadata": {},
   "outputs": [],
   "source": [
    "# Display the exported workflow SVG inline in the notebook\n",
    "\n",
    "from IPython.display import SVG, display, HTML\n",
    "import os\n",
    "\n",
    "print(f\"Attempting to display SVG file at: {svg_file}\")\n",
    "\n",
    "if svg_file and os.path.exists(svg_file):\n",
    "    try:\n",
    "        # Preferred: direct SVG rendering\n",
    "        display(SVG(filename=svg_file))\n",
    "    except Exception as e:\n",
    "        print(f\"⚠️ Direct SVG render failed: {e}. Falling back to raw HTML.\")\n",
    "        try:\n",
    "            with open(svg_file, \"r\", encoding=\"utf-8\") as f:\n",
    "                svg_text = f.read()\n",
    "            display(HTML(svg_text))\n",
    "        except Exception as inner:\n",
    "            print(f\"❌ Fallback HTML render also failed: {inner}\")\n",
    "else:\n",
    "    print(\"❌ SVG file not found. Ensure viz.export(format='svg') ran successfully.\")\n"
   ]
  },
  {
   "cell_type": "code",
   "execution_count": null,
   "id": "a0651dfc",
   "metadata": {},
   "outputs": [],
   "source": [
    "result =''\n",
    "async for event in workflow.run_stream('I would like to go to Paris.'):\n",
    "    if isinstance(event, DatabaseEvent):\n",
    "        print(f\"{event}\")\n",
    "    if isinstance(event, WorkflowEvent):\n",
    "        result += str(event.data)\n",
    "        # print(f\"Workflow output: {event.data}\")"
   ]
  },
  {
   "cell_type": "code",
   "execution_count": null,
   "id": "ad9e0c48",
   "metadata": {},
   "outputs": [],
   "source": [
    "result.replace(\"None\", \"\")"
   ]
  },
  {
   "cell_type": "markdown",
   "metadata": {},
   "source": [
    "\n---\n\n**अस्वीकरण**:  \nयो दस्तावेज़ AI अनुवाद सेवा [Co-op Translator](https://github.com/Azure/co-op-translator) प्रयोग गरेर अनुवाद गरिएको हो। हामी यथासम्भव शुद्धता सुनिश्चित गर्न प्रयास गर्छौं, तर कृपया ध्यान दिनुहोस् कि स्वचालित अनुवादमा त्रुटिहरू वा अशुद्धताहरू हुन सक्छ। मूल दस्तावेज़ यसको मातृभाषामा आधिकारिक स्रोत मानिनुपर्छ। महत्वपूर्ण जानकारीको लागि, व्यावसायिक मानव अनुवाद सिफारिस गरिन्छ। यस अनुवादको प्रयोगबाट उत्पन्न हुने कुनै पनि गलतफहमी वा गलत व्याख्याको लागि हामी जिम्मेवार हुनेछैनौं।\n"
   ]
  }
 ],
 "metadata": {
  "kernelspec": {
   "display_name": ".venv (3.12.11)",
   "language": "python",
   "name": "python3"
  },
  "language_info": {
   "codemirror_mode": {
    "name": "ipython",
    "version": 3
   },
   "file_extension": ".py",
   "mimetype": "text/x-python",
   "name": "python",
   "nbconvert_exporter": "python",
   "pygments_lexer": "ipython3",
   "version": "3.12.11"
  },
  "polyglot_notebook": {
   "kernelInfo": {
    "defaultKernelName": "csharp",
    "items": [
     {
      "aliases": [],
      "name": "csharp"
     }
    ]
   }
  },
  "coopTranslator": {
   "original_hash": "cbd4f70767f6a13113c883234f9a06e4",
   "translation_date": "2025-10-09T16:41:32+00:00",
   "source_file": "08-multi-agent/code_samples/workflows-agent-framework/python/01.python-agent-framework-workflow-ghmodel-basic.ipynb",
   "language_code": "ne"
  }
 },
 "nbformat": 4,
 "nbformat_minor": 5
}