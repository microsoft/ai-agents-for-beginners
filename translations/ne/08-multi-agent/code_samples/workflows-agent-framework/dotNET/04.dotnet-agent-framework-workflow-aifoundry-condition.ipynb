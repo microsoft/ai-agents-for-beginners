{
 "cells": [
  {
   "cell_type": "markdown",
   "id": "4da55f71",
   "metadata": {},
   "source": [
    "# 🔀 Azure AI Foundry (.NET) सँग सर्तसापेक्ष एजेन्ट वर्कफ्लोहरू\n",
    "\n",
    "## 📋 बुद्धिमान निर्णय-आधारित वर्कफ्लो ट्यूटोरियल\n",
    "\n",
    "यस नोटबुकले Azure AI Foundry र Microsoft Agent Framework for .NET प्रयोग गरेर **सर्तसापेक्ष वर्कफ्लो ढाँचाहरू** प्रदर्शन गर्दछ। तपाईंले AI विश्लेषण, व्यापार नियमहरू, र गतिशील सर्तहरूमा आधारित बुद्धिमान रूपमा प्रक्रिया मार्गनिर्देशन गर्ने जटिल, निर्णय-चालित वर्कफ्लो निर्माण गर्न सिक्नुहुनेछ।\n",
    "\n",
    "## 🎯 सिक्ने उद्देश्यहरू\n",
    "\n",
    "### 🧠 **बुद्धिमान निर्णय वास्तुकला**\n",
    "- **सर्तसापेक्ष तर्क कार्यान्वयन**: धेरै शाखा बिन्दुहरू सहित जटिल निर्णय वृक्ष निर्माण गर्नुहोस्\n",
    "- **AI-संचालित मार्गनिर्देशन**: Azure AI Foundry मोडेलहरू प्रयोग गरेर बुद्धिमान मार्गनिर्देशन निर्णयहरू गर्नुहोस्\n",
    "- **गतिशील वर्कफ्लो अनुकूलन**: रनटाइम विश्लेषण र सर्तहरूमा आधारित वर्कफ्लो व्यवहार परिमार्जन गर्नुहोस्\n",
    "- **व्यापार नियम एकीकरण**: वर्कफ्लोहरूमा व्यापार तर्क र अनुपालन आवश्यकताहरू समावेश गर्नुहोस्\n",
    "\n",
    "### 🔀 **उन्नत सर्तसापेक्ष ढाँचाहरू**\n",
    "- **बहु-मापदण्ड निर्णय निर्माण**: मार्गनिर्देशन निर्णयहरूको लागि धेरै कारकहरूको मूल्याङ्कन गर्नुहोस्\n",
    "- **सन्दर्भ-सचेत प्रक्रिया**: संचित वर्कफ्लो सन्दर्भ र इतिहासमा आधारित निर्णयहरू गर्नुहोस्\n",
    "- **अनुकूलन वर्कफ्लो परिमार्जन**: वास्तविक-समय सर्तहरूमा आधारित प्रक्रिया मार्गहरू गतिशील रूपमा समायोजन गर्नुहोस्\n",
    "- **नियम इन्जिन एकीकरण**: वर्कफ्लोहरूमा जटिल व्यापार नियम इन्जिनहरू कार्यान्वयन गर्नुहोस्\n",
    "\n",
    "### 🏢 **व्यापार सर्तसापेक्ष अनुप्रयोगहरू**\n",
    "- **डकुमेन्ट वर्गीकरण र मार्गनिर्देशन**: स्वचालित रूपमा डकुमेन्टहरूलाई उपयुक्त वर्कफ्लोहरूमा वर्गीकृत र मार्गनिर्देशन गर्नुहोस्\n",
    "- **ग्राहक सेवा ट्रायज**: ग्राहक सोधपुछलाई विशेषज्ञ ह्यान्डलिङ टोलीहरूमा बुद्धिमान रूपमा मार्गनिर्देशन गर्नुहोस्\n",
    "- **अनुपालन र जोखिम प्रक्रिया**: जोखिम मूल्याङ्कनमा आधारित विभिन्न प्रमाणीकरण र समीक्षा प्रक्रियाहरू लागू गर्नुहोस्\n",
    "- **गुणस्तर आश्वासन वर्कफ्लोहरू**: गुणस्तर मेट्रिक्समा आधारित उपयुक्त समीक्षा प्रक्रियाहरू मार्फत सामग्री मार्गनिर्देशन गर्नुहोस्\n",
    "\n",
    "## ⚙️ पूर्वापेक्षाहरू र सेटअप\n",
    "\n",
    "### 📦 **आवश्यक NuGet प्याकेजहरू**\n",
    "\n",
    "सर्तसापेक्ष वर्कफ्लो प्रक्रिया लागि उन्नत प्याकेजहरू:\n",
    "\n",
    "```xml\n",
    "<!-- Core AI Framework -->\n",
    "<PackageReference Include=\"Microsoft.Extensions.AI\" Version=\"9.9.0\" />\n",
    "\n",
    "<!-- Azure AI Agents with Persistent State -->\n",
    "<PackageReference Include=\"Azure.AI.Agents.Persistent\" Version=\"1.2.0-beta.5\" />\n",
    "\n",
    "<!-- Azure Identity and Utilities -->\n",
    "<PackageReference Include=\"Azure.Identity\" Version=\"1.15.0\" />\n",
    "<PackageReference Include=\"System.Linq.Async\" Version=\"6.0.3\" />\n",
    "<PackageReference Include=\"DotNetEnv\" Version=\"3.1.1\" />\n",
    "\n",
    "<!-- Local Workflow Framework References -->\n",
    "<!-- Microsoft.Agents.Workflows.dll - Advanced workflow orchestration -->\n",
    "<!-- Microsoft.Agents.AI.AzureAI.dll - Azure AI Foundry integration -->\n",
    "<!-- Microsoft.Agents.AI.dll - Core agent abstractions -->\n",
    "```\n",
    "\n",
    "### 🔑 **Azure AI Foundry कन्फिगरेसन**\n",
    "\n",
    "**आवश्यक Azure स्रोतहरू:**\n",
    "- सर्तसापेक्ष प्रक्रिया मोडेलहरू सहित Azure AI Foundry कार्यक्षेत्र\n",
    "- उपयुक्त कम्प्युट कोटा र अनुमतिहरू सहित Azure सदस्यता\n",
    "- निर्णय निर्माण र सामग्री विश्लेषणको लागि तैनात AI मोडेलहरू\n",
    "\n",
    "**पर्यावरण कन्फिगरेसन (.env फाइल):**\n",
    "```env\n",
    "# Azure AI Foundry Configuration\n",
    "AZURE_AI_PROJECT_URL=https://your-project.cognitiveservices.azure.com/\n",
    "AZURE_SUBSCRIPTION_ID=your-subscription-id\n",
    "AZURE_RESOURCE_GROUP=your-resource-group\n",
    "AZURE_AI_PROJECT_NAME=your-project-name\n",
    "\n",
    "# Model Configuration for Decision Making\n",
    "AZURE_AI_MODEL_ID=your-decision-model-deployment\n",
    "AZURE_AI_ANALYSIS_MODEL=your-analysis-model-deployment\n",
    "```\n",
    "\n",
    "**प्रमाणीकरण सेटअप:**\n",
    "```csharp\n",
    "// Azure CLI or Managed Identity authentication\n",
    "using Azure.Identity;\n",
    "var credential = new DefaultAzureCredential();\n",
    "\n",
    "// Load environment configuration\n",
    "DotNetEnv.Env.Load(\"../../../.env\");\n",
    "```\n",
    "\n",
    "### 🏗️ **सर्तसापेक्ष वर्कफ्लो वास्तुकला**\n",
    "\n",
    "```mermaid\n",
    "graph TD\n",
    "    A[Input Data/Document] --> B[Analysis Agent]\n",
    "    B --> C{Decision Engine}\n",
    "    \n",
    "    C -->|Low Risk| D[Standard Processing Path]\n",
    "    C -->|Medium Risk| E[Enhanced Review Path]\n",
    "    C -->|High Risk| F[Specialized Security Path]\n",
    "    C -->|Compliance Required| G[Regulatory Path]\n",
    "    \n",
    "    D --> H[Standard Validation]\n",
    "    E --> I[Enhanced Review Process]\n",
    "    F --> J[Security Analysis]\n",
    "    G --> K[Compliance Validation]\n",
    "    \n",
    "    H --> L[Result Integration]\n",
    "    I --> L\n",
    "    J --> L\n",
    "    K --> L\n",
    "    \n",
    "    L --> M[Final Output with Routing History]\n",
    "    \n",
    "    N[Azure AI Foundry] --> B\n",
    "    N --> C\n",
    "    O[Business Rules Engine] --> C\n",
    "```\n",
    "\n",
    "**मुख्य घटकहरू:**\n",
    "- **विश्लेषण एजेन्टहरू**: सामग्री मूल्याङ्कन गर्ने र निर्णय-सम्बन्धित सुविधाहरू निकाल्ने AI एजेन्टहरू\n",
    "- **निर्णय इन्जिन**: इष्टतम वर्कफ्लो मार्गनिर्देशन निर्धारण गर्ने जटिल तर्क इन्जिन\n",
    "- **सर्तसापेक्ष प्रोसेसरहरू**: विभिन्न मार्गनिर्देशन पथहरूको लागि अनुकूलित विशेष एजेन्टहरू\n",
    "- **राज्य व्यवस्थापन**: वर्कफ्लोको निर्णय सन्दर्भ र मार्गनिर्देशन इतिहास कायम राख्छ\n",
    "\n",
    "## 🎨 **सर्तसापेक्ष वर्कफ्लो डिजाइन ढाँचाहरू**\n",
    "\n",
    "### 📋 **सामग्री वर्गीकरण र मार्गनिर्देशन**\n",
    "```\n",
    "Content Input → AI Analysis → Classification → Route to Specialist Workflow\n",
    "```\n",
    "\n",
    "### 🎯 **जोखिम-आधारित प्रक्रिया**\n",
    "```\n",
    "Input Assessment → Risk Analysis → Risk Level Routing → Appropriate Security Process\n",
    "```\n",
    "\n",
    "### 🔍 **गुणस्तर-आधारित समीक्षा मार्गनिर्देशन**\n",
    "```\n",
    "Content Input → Quality Metrics → Review Level Assignment → Appropriate Review Workflow\n",
    "```\n",
    "\n",
    "### 💼 **अनुपालन-चालित प्रक्रिया**\n",
    "```\n",
    "Document Input → Regulatory Analysis → Compliance Requirements → Specialized Processing Path\n",
    "```\n",
    "\n",
    "## 🏢 **व्यापार सर्तसापेक्ष लाभहरू**\n",
    "\n",
    "### 🎯 **बुद्धिमान स्वचालन**\n",
    "- **स्मार्ट निर्णय निर्माण**: सामग्री विश्लेषण र सन्दर्भमा आधारित AI-संचालित मार्गनिर्देशन निर्णयहरू\n",
    "- **अनुकूलन प्रक्रिया**: परिवर्तनशील सर्तहरूमा आधारित स्वचालित रूपमा समायोजन हुने वर्कफ्लोहरू\n",
    "- **व्यापार नियम प्रवर्तन**: जटिल व्यापार तर्क र नीतिहरूको स्वचालित अनुप्रयोग\n",
    "- **सन्दर्भ-सचेत मार्गनिर्देशन**: पूर्ण वर्कफ्लो इतिहास र संचित सन्दर्भमा आधारित निर्णयहरू\n",
    "\n",
    "### 📈 **सञ्चालन उत्कृष्टता**\n",
    "- **स्रोत आवंटन अनुकूलन**: कामलाई सबैभन्दा उपयुक्त विशेषज्ञहरू र प्रक्रियाहरूमा मार्गनिर्देशन गर्नुहोस्\n",
    "- **म्यानुअल हस्तक्षेप घटाउनुहोस्**: स्वचालित निर्णय निर्माणले मानव मार्गनिर्देशनको आवश्यकता कम गर्दछ\n",
    "- **छिटो समाधान समयहरू**: उपयुक्त विशेषज्ञता र प्रक्रिया क्षमताहरूमा सीधा मार्गनिर्देशन\n",
    "- **समान अनुप्रयोग**: व्यापार नियम र निर्णय मापदण्डहरूको एकरूप अनुप्रयोग\n",
    "\n",
    "### 🛡️ **जोखिम व्यवस्थापन र अनुपालन**\n",
    "- **स्वचालित जोखिम मूल्याङ्कन**: सामग्री र स्थिति जोखिम स्तरहरूको AI-संचालित मूल्याङ्कन\n",
    "- **अनुपालन प्रवर्तन**: आवश्यक नियामक प्रक्रियाहरू मार्फत स्वचालित मार्गनिर्देशन\n",
    "- **सुरक्षा प्रोटोकल अनुप्रयोग**: जोखिम मूल्याङ्कनमा आधारित उन्नत सुरक्षा उपायहरू लागू गर्नुहोस्\n",
    "- **अडिट ट्रेल मर्मत**: मार्गनिर्देशन निर्णयहरू र तर्कको पूर्ण दस्तावेजीकरण\n",
    "\n",
    "### 📊 **विश्लेषण र निरन्तर सुधार**\n",
    "- **निर्णय विश्लेषण**: मार्गनिर्देशन निर्णयहरूको प्रभावकारिता र शुद्धता ट्र्याक गर्नुहोस्\n",
    "- **ढाँचा पहिचान**: समयसँगै मार्गनिर्देशन निर्णयहरूमा प्रवृत्ति र ढाँचाहरू पहिचान गर्नुहोस्\n",
    "- **प्रदर्शन अनुकूलन**: निर्णय मापदण्ड र मार्गनिर्देशन दक्षताको निरन्तर सुधार\n",
    "- **व्यापार बुद्धिमत्ता**: सामग्री विशेषताहरू र प्रक्रिया आवश्यकताहरूमा अन्तर्दृष्टि\n",
    "\n",
    "### 🔧 **प्राविधिक उत्कृष्टता**\n",
    "- **स्थायी राज्य व्यवस्थापन**: वर्कफ्लो कार्यान्वयनमा जटिल राज्य कायम राख्नुहोस्\n",
    "- **स्केलेबल वास्तुकला**: उच्च-भोल्युम सर्तसापेक्ष प्रक्रिया आवश्यकताहरू ह्यान्डल गर्नुहोस्\n",
    "- **एकीकरण क्षमता**: विद्यमान व्यापार प्रणालीहरू र प्रक्रियाहरूमा सहज एकीकरण\n",
    "- **अनुगमन र अवलोकनीयता**: वर्कफ्लो प्रदर्शन र निर्णयहरूको व्यापक ट्र्याकिङ\n",
    "\n",
    ".NET सँग बुद्धिमान, निर्णय-चालित व्यापार वर्कफ्लोहरू निर्माण गरौं! 🚀\n"
   ]
  },
  {
   "cell_type": "code",
   "execution_count": 1,
   "metadata": {
    "language_info": {
     "name": "polyglot-notebook"
    },
    "polyglot_notebook": {
     "kernelName": "csharp"
    }
   },
   "outputs": [
    {
     "data": {
      "text/html": [
       "<div><div></div><div></div><div><strong>Installed Packages</strong><ul><li><span>Microsoft.Extensions.AI, 9.9.1</span></li></ul></div></div>"
      ]
     },
     "metadata": {},
     "output_type": "display_data"
    }
   ],
   "source": [
    "#r \"nuget: Microsoft.Extensions.AI, 9.9.1\""
   ]
  },
  {
   "cell_type": "code",
   "execution_count": 2,
   "id": "55364dfc",
   "metadata": {
    "language_info": {
     "name": "polyglot-notebook"
    },
    "polyglot_notebook": {
     "kernelName": "csharp"
    }
   },
   "outputs": [
    {
     "data": {
      "text/html": [
       "<div><div></div><div></div><div><strong>Installed Packages</strong><ul><li><span>Azure.AI.Agents.Persistent, 1.2.0-beta.5</span></li><li><span>Azure.Identity, 1.15.0</span></li><li><span>DotNetEnv, 3.1.1</span></li><li><span>OpenTelemetry.Api, 1.0.1</span></li><li><span>System.Linq.Async, 6.0.3</span></li></ul></div></div>"
      ]
     },
     "metadata": {},
     "output_type": "display_data"
    }
   ],
   "source": [
    "#r \"nuget: Azure.AI.Agents.Persistent, 1.2.0-beta.5\"\n",
    "#r \"nuget: Azure.Identity, 1.15.0\"\n",
    "#r \"nuget: System.Linq.Async, 6.0.3\"\n",
    "#r \"nuget: DotNetEnv, 3.1.1\"\n",
    "#r \"nuget: OpenTelemetry.Api, 1.0.0\""
   ]
  },
  {
   "cell_type": "code",
   "execution_count": 3,
   "id": "226fbdeb",
   "metadata": {
    "language_info": {
     "name": "polyglot-notebook"
    },
    "polyglot_notebook": {
     "kernelName": "csharp"
    }
   },
   "outputs": [
    {
     "data": {
      "text/html": [
       "<div><div></div><div></div><div><strong>Installed Packages</strong><ul><li><span>Microsoft.Agents.AI.Workflows, 1.0.0-preview.251001.3</span></li></ul></div></div>"
      ]
     },
     "metadata": {},
     "output_type": "display_data"
    }
   ],
   "source": [
    "#r \"nuget: Microsoft.Agents.AI.Workflows, 1.0.0-preview.251001.3\""
   ]
  },
  {
   "cell_type": "code",
   "execution_count": null,
   "id": "eb199171",
   "metadata": {
    "language_info": {
     "name": "polyglot-notebook"
    },
    "polyglot_notebook": {
     "kernelName": "csharp"
    }
   },
   "outputs": [
    {
     "data": {
      "text/html": [
       "<div><div></div><div></div><div><strong>Installed Packages</strong><ul><li><span>Microsoft.Agents.AI.AzureAI, 1.0.0-preview.251001.2</span></li></ul></div></div>"
      ]
     },
     "metadata": {},
     "output_type": "display_data"
    }
   ],
   "source": [
    "#r \"nuget: Microsoft.Agents.AI.AzureAI, 1.0.0-preview.251001.3\""
   ]
  },
  {
   "cell_type": "code",
   "execution_count": 5,
   "id": "802811b0",
   "metadata": {
    "language_info": {
     "name": "polyglot-notebook"
    },
    "polyglot_notebook": {
     "kernelName": "csharp"
    }
   },
   "outputs": [],
   "source": [
    "using System;\n",
    "using System.Collections.Generic;\n",
    "using System.IO;\n",
    "using System.Linq;\n",
    "using System.Text;\n",
    "using System.Text.Json;\n",
    "using System.Text.Json.Serialization;\n",
    "using System.Threading.Tasks;\n",
    "using Azure.AI.Agents.Persistent;\n",
    "using Azure.Identity;\n",
    "using Microsoft.Extensions.AI;\n",
    "using Microsoft.Agents.AI;\n",
    "using Microsoft.Extensions.Logging;\n",
    "using Microsoft.Agents.AI.Workflows;\n",
    "using Microsoft.Agents.AI.Workflows.Reflection;\n",
    "using DotNetEnv;"
   ]
  },
  {
   "cell_type": "code",
   "execution_count": 6,
   "id": "8d260df4",
   "metadata": {
    "language_info": {
     "name": "polyglot-notebook"
    },
    "polyglot_notebook": {
     "kernelName": "csharp"
    }
   },
   "outputs": [],
   "source": [
    "// Load environment variables\n",
    "Env.Load(\"../../../.env\");\n",
    "\n",
    "var azure_foundry_endpoint = Environment.GetEnvironmentVariable(\"AZURE_AI_PROJECT_ENDPOINT\") ?? throw new InvalidOperationException(\"FOUNDRY_PROJECT_ENDPOINT is not set.\");\n",
    "var azure_foundry_model_id = \"gpt-4o-mini\";\n",
    "\n",
    "var bing_conn_id = Environment.GetEnvironmentVariable(\"BING_CONNECTION_ID\");"
   ]
  },
  {
   "cell_type": "code",
   "execution_count": 7,
   "id": "d1bda08d",
   "metadata": {
    "language_info": {
     "name": "polyglot-notebook"
    },
    "polyglot_notebook": {
     "kernelName": "csharp"
    }
   },
   "outputs": [
    {
     "data": {
      "text/plain": [
       "/subscriptions/ee72069a-4726-4e1a-afe6-7f14e9b9d362/resourceGroups/rg-kinfeylo/providers/Microsoft.CognitiveServices/accounts/kinfeylo-aifoundry-proj-resource/projects/kinfeylo-aifoundry-project/connections/kinfeybingsearch"
      ]
     },
     "metadata": {},
     "output_type": "display_data"
    }
   ],
   "source": [
    "bing_conn_id"
   ]
  },
  {
   "cell_type": "code",
   "execution_count": 8,
   "id": "edeb3d0d",
   "metadata": {
    "language_info": {
     "name": "polyglot-notebook"
    },
    "polyglot_notebook": {
     "kernelName": "csharp"
    }
   },
   "outputs": [],
   "source": [
    "const string EvangelistInstructions = @\"\n",
    "You are a technology evangelist create a first draft for a technical tutorials.\n",
    "1. Each knowledge point in the outline must include a link. Follow the link to access the content related to the knowledge point in the outline. Expand on that content.\n",
    "2. Each knowledge point must be explained in detail.\n",
    "3. Rewrite the content according to the entry requirements, including the title, outline, and corresponding content. It is not necessary to follow the outline in full order.\n",
    "4. The content must be more than 200 words.\n",
    "4. Output draft as Markdown format. set 'draft_content' to the draft content.\n",
    "5. return result as JSON with fields 'draft_content' (string).\";\n",
    "\n",
    "const string ContentReviewerInstructions = @\"\n",
    "You are a content reviewer and need to check whether the tutorial's draft content meets the following requirements:\n",
    "\n",
    "1. The draft content less than 200 words, set 'review_result' to 'No' and 'reason' to 'Content is too short'. If the draft content is more than 200 words, set 'review_result' to 'Yes' and 'reason' to 'The content is good'.\n",
    "2. set 'draft_content' to the original draft content.\n",
    "3. return result as JSON with fields 'review_result' ('Yes' or  'No' ) and 'reason' (string) and 'draft_content' (string).\";\n",
    "\n",
    "const string PublisherInstructions = @\"\n",
    "You are the content publisher ,run code to save the tutorial's draft content as a Markdown file. Saved file's name is marked with current date and time, such as yearmonthdayhourminsec. Note that if it is 1-9, you need to add 0, such as  20240101123045.md.\n",
    "\";"
   ]
  },
  {
   "cell_type": "code",
   "execution_count": 9,
   "id": "6de77527",
   "metadata": {
    "language_info": {
     "name": "polyglot-notebook"
    },
    "polyglot_notebook": {
     "kernelName": "csharp"
    }
   },
   "outputs": [],
   "source": [
    "string OUTLINE_Content =@\"\n",
    "# Introduce AI Agent\n",
    "\n",
    "\n",
    "## What's AI Agent\n",
    "\n",
    "https://github.com/microsoft/ai-agents-for-beginners/tree/main/01-intro-to-ai-agents\n",
    "\n",
    "\n",
    "***Note*** Don's create any sample code \n",
    "\n",
    "\n",
    "## Introduce Azure AI Foundry Agent Service \n",
    "\n",
    "https://learn.microsoft.com/en-us/azure/ai-foundry/agents/overview\n",
    "\n",
    "\n",
    "***Note*** Don's create any sample code \n",
    "\n",
    "\n",
    "## Microsoft Agent Framework \n",
    "\n",
    "https://github.com/microsoft/agent-framework/tree/main/docs/docs-templates\n",
    "\n",
    "\n",
    "***Note*** Don's create any sample code \n",
    "\";"
   ]
  },
  {
   "cell_type": "code",
   "execution_count": 10,
   "id": "5bf6e48d",
   "metadata": {
    "language_info": {
     "name": "polyglot-notebook"
    },
    "polyglot_notebook": {
     "kernelName": "csharp"
    }
   },
   "outputs": [],
   "source": [
    "var bingGroundingConfig = new BingGroundingSearchConfiguration(bing_conn_id);\n",
    "\n",
    "BingGroundingToolDefinition bingGroundingTool = new(\n",
    "    new BingGroundingSearchToolParameters(\n",
    "        [bingGroundingConfig]\n",
    "    )\n",
    ");"
   ]
  },
  {
   "cell_type": "code",
   "execution_count": 11,
   "id": "56bacc7c",
   "metadata": {
    "language_info": {
     "name": "polyglot-notebook"
    },
    "polyglot_notebook": {
     "kernelName": "csharp"
    }
   },
   "outputs": [],
   "source": [
    "var persistentAgentsClient = new PersistentAgentsClient(azure_foundry_endpoint, new AzureCliCredential());"
   ]
  },
  {
   "cell_type": "code",
   "execution_count": 12,
   "metadata": {
    "language_info": {
     "name": "polyglot-notebook"
    },
    "polyglot_notebook": {
     "kernelName": "csharp"
    }
   },
   "outputs": [
    {
     "data": {
      "text/plain": [
       "gpt-4o-mini"
      ]
     },
     "metadata": {},
     "output_type": "display_data"
    }
   ],
   "source": [
    "azure_foundry_model_id"
   ]
  },
  {
   "cell_type": "code",
   "execution_count": 13,
   "metadata": {
    "language_info": {
     "name": "polyglot-notebook"
    },
    "polyglot_notebook": {
     "kernelName": "csharp"
    }
   },
   "outputs": [],
   "source": [
    "public class ContentResult\n",
    "{\n",
    "    [JsonPropertyName(\"draft_content\")]\n",
    "    public string DraftContent { get; set; } = string.Empty;\n",
    "}"
   ]
  },
  {
   "cell_type": "code",
   "execution_count": 14,
   "metadata": {
    "language_info": {
     "name": "polyglot-notebook"
    },
    "polyglot_notebook": {
     "kernelName": "csharp"
    }
   },
   "outputs": [],
   "source": [
    "public  class ReviewResult\n",
    "{\n",
    "    [JsonPropertyName(\"review_result\")]\n",
    "    public string Result { get; set; } = string.Empty;\n",
    "    [JsonPropertyName(\"reason\")]\n",
    "    public string Reason { get; set; } = string.Empty;\n",
    "    [JsonPropertyName(\"draft_content\")]\n",
    "    public string DraftContent { get; set; } = string.Empty;\n",
    "}"
   ]
  },
  {
   "cell_type": "code",
   "execution_count": 15,
   "metadata": {
    "language_info": {
     "name": "polyglot-notebook"
    },
    "polyglot_notebook": {
     "kernelName": "csharp"
    }
   },
   "outputs": [
    {
     "data": {
      "text/plain": [
       "{\"Schema\":{\"type\":\"object\",\"properties\":{\"draft_content\":{\"type\":[\"string\",\"null\"]}}},\"SchemaName\":\"ContentResult\",\"SchemaDescription\":\"Content Result with DraftContent\"}"
      ]
     },
     "metadata": {},
     "output_type": "display_data"
    }
   ],
   "source": [
    "JsonSerializer.Serialize(ChatResponseFormat.ForJsonSchema(AIJsonUtilities.CreateJsonSchema(typeof(ContentResult)), \"ContentResult\", \"Content Result with DraftContent\"))"
   ]
  },
  {
   "cell_type": "code",
   "execution_count": 16,
   "id": "c13300fb",
   "metadata": {
    "language_info": {
     "name": "polyglot-notebook"
    },
    "polyglot_notebook": {
     "kernelName": "csharp"
    }
   },
   "outputs": [],
   "source": [
    "// Create the three specialized agents\n",
    "var evangelistMetadata = await persistentAgentsClient.Administration.CreateAgentAsync(\n",
    "    model: azure_foundry_model_id,\n",
    "    name: \"Evangelist\",\n",
    "    instructions: EvangelistInstructions,\n",
    "    tools: [bingGroundingTool]\n",
    "    // responseFormat: new BinaryData(JsonSerializer.Serialize(ChatResponseFormat.ForJsonSchema(AIJsonUtilities.CreateJsonSchema(typeof(ContentResult)), \"ContentResult\", \"Content Result with DraftContent\")))\n",
    ");\n",
    "\n",
    "var contentReviewerMetadata = await persistentAgentsClient.Administration.CreateAgentAsync(\n",
    "     model: azure_foundry_model_id,\n",
    "     name: \"ContentReviewer\",\n",
    "     instructions: ContentReviewerInstructions\n",
    "    //  responseFormat: new BinaryData(JsonSerializer.Serialize(ChatResponseFormat.ForJsonSchema(AIJsonUtilities.CreateJsonSchema(typeof(ReviewResult)), \"ReviewResult\", \"Review Result with review_result, reason and draft_content\")))\n",
    ");\n",
    "\n",
    "var publisherMetadata = await persistentAgentsClient.Administration.CreateAgentAsync(\n",
    "    model: azure_foundry_model_id,\n",
    "    name: \"Publisher\",\n",
    "    instructions: PublisherInstructions,\n",
    "    tools: [new CodeInterpreterToolDefinition()]\n",
    ");\n",
    "// var foundryAgent = await persistentAgentsClient.Administration.CreateAgentAsync(model: azure_foundry_model_id);"
   ]
  },
  {
   "cell_type": "code",
   "execution_count": 17,
   "id": "3c881e44",
   "metadata": {
    "language_info": {
     "name": "polyglot-notebook"
    },
    "polyglot_notebook": {
     "kernelName": "csharp"
    }
   },
   "outputs": [],
   "source": [
    "string evangelist_agentId = evangelistMetadata.Value.Id;\n",
    "string contentReviewer_agentId = contentReviewerMetadata.Value.Id;\n",
    "string publisher_agentId = publisherMetadata.Value.Id;"
   ]
  },
  {
   "cell_type": "code",
   "execution_count": 18,
   "metadata": {
    "language_info": {
     "name": "polyglot-notebook"
    },
    "polyglot_notebook": {
     "kernelName": "csharp"
    }
   },
   "outputs": [],
   "source": [
    "\n",
    "\n"
   ]
  },
  {
   "cell_type": "code",
   "execution_count": 19,
   "metadata": {
    "language_info": {
     "name": "polyglot-notebook"
    },
    "polyglot_notebook": {
     "kernelName": "csharp"
    }
   },
   "outputs": [],
   "source": [
    "ChatClientAgentOptions EvangelistAgentOptions = new(instructions: EvangelistInstructions)\n",
    "{\n",
    "            ChatOptions = new()\n",
    "            {\n",
    "                ResponseFormat = ChatResponseFormat.ForJsonSchema(AIJsonUtilities.CreateJsonSchema(typeof(ContentResult)), \"ContentResult\", \"Content Result with DraftContent\"),\n",
    "            }\n",
    "};\n",
    "\n",
    "ChatClientAgentOptions ReviewAgentOptions = new(instructions: ContentReviewerInstructions)\n",
    "{\n",
    "            ChatOptions = new()\n",
    "            {\n",
    "                ResponseFormat = ChatResponseFormat.ForJsonSchema(AIJsonUtilities.CreateJsonSchema(typeof(ReviewResult)), \"ReviewResult\", \"Review Result From DraftContent\")\n",
    "            },\n",
    "            \n",
    "};\n",
    "ChatClientAgentOptions PublisherAgentOptions = new(instructions: PublisherInstructions)\n",
    "{\n",
    "            // ChatOptions = new()\n",
    "            // {\n",
    "            //     ResponseFormat = ChatResponseFormat.ForJsonSchema(AIJsonUtilities.CreateJsonSchema(typeof(ReviewResult)), \"ReviewResult\", \"Review Result with review_result, reason and draft_content\")\n",
    "            // },\n",
    "};\n"
   ]
  },
  {
   "cell_type": "code",
   "execution_count": 20,
   "id": "cc5bf3ba",
   "metadata": {
    "language_info": {
     "name": "polyglot-notebook"
    },
    "polyglot_notebook": {
     "kernelName": "csharp"
    }
   },
   "outputs": [],
   "source": [
    "AIAgent evangelistagent = await persistentAgentsClient.GetAIAgentAsync(evangelist_agentId,new()\n",
    "            {\n",
    "                //ResponseFormat = ChatResponseFormat.ForJsonSchema(AIJsonUtilities.CreateJsonSchema(typeof(ContentResult)), \"ContentResult\", \"Content Result with DraftContent\"),\n",
    "            });\n",
    "AIAgent contentRevieweragent = await persistentAgentsClient.GetAIAgentAsync(contentReviewer_agentId,new()\n",
    "            {\n",
    "                ResponseFormat = ChatResponseFormat.ForJsonSchema(AIJsonUtilities.CreateJsonSchema(typeof(ReviewResult)), \"ReviewResult\", \"Review Result From DraftContent\")\n",
    "            });\n",
    "AIAgent publisheragent = await persistentAgentsClient.GetAIAgentAsync(publisher_agentId);"
   ]
  },
  {
   "cell_type": "code",
   "execution_count": 21,
   "id": "62e7ddb3",
   "metadata": {
    "language_info": {
     "name": "polyglot-notebook"
    },
    "polyglot_notebook": {
     "kernelName": "csharp"
    }
   },
   "outputs": [],
   "source": [
    "// IChatClient evangelistChatClient = persistentAgentsClient.AsIChatClient(evangelistagent.Id)\n",
    "//             .AsBuilder()\n",
    "//             .UseFunctionInvocation()\n",
    "//             .Build();\n",
    "\n",
    "// IChatClient contentReviewerChatClient = persistentAgentsClient.AsIChatClient(contentRevieweragent.Id)\n",
    "//             .AsBuilder()\n",
    "//             .UseFunctionInvocation()\n",
    "//             .Build();\n",
    "\n",
    "// IChatClient publisherChatClient = persistentAgentsClient.AsIChatClient(publisheragent.Id)\n",
    "//             .AsBuilder()\n",
    "//             .UseFunctionInvocation()\n",
    "//             .Build();"
   ]
  },
  {
   "cell_type": "code",
   "execution_count": 22,
   "metadata": {
    "language_info": {
     "name": "polyglot-notebook"
    },
    "polyglot_notebook": {
     "kernelName": "csharp"
    }
   },
   "outputs": [],
   "source": []
  },
  {
   "cell_type": "code",
   "execution_count": 23,
   "id": "3798e1e3",
   "metadata": {
    "language_info": {
     "name": "polyglot-notebook"
    },
    "polyglot_notebook": {
     "kernelName": "csharp"
    }
   },
   "outputs": [],
   "source": [
    "\n",
    "// ChatClientAgent  evangelistChatAgent = new ChatClientAgent(evangelistChatClient, EvangelistAgentOptions);\n",
    "// ChatClientAgent  contentReviewerChatAgent = new ChatClientAgent(contentReviewerChatClient, ReviewAgentOptions);\n",
    "// ChatClientAgent  publisherChatAgent = new ChatClientAgent(publisherChatClient, PublisherAgentOptions);"
   ]
  },
  {
   "cell_type": "code",
   "execution_count": 24,
   "metadata": {
    "language_info": {
     "name": "polyglot-notebook"
    },
    "polyglot_notebook": {
     "kernelName": "csharp"
    }
   },
   "outputs": [],
   "source": [
    "public class DraftExecutor : ReflectingExecutor<DraftExecutor>, IMessageHandler<ChatMessage, ContentResult>\n",
    "{\n",
    "    private readonly AIAgent _evangelistAgent;\n",
    "\n",
    "    /// <summary>\n",
    "    /// Creates a new instance of the <see cref=\"DraftExecutor\"/> class.\n",
    "    /// </summary>\n",
    "    /// <param name=\"contentReviewerAgent\">The AI agent used for content review</param>\n",
    "    public DraftExecutor(AIAgent evangelistAgent) : base(\"DraftExecutor\")\n",
    "    {\n",
    "        this._evangelistAgent = evangelistAgent;\n",
    "    }\n",
    "\n",
    "    public async ValueTask<ContentResult> HandleAsync(ChatMessage message, IWorkflowContext context)\n",
    "    {\n",
    "        // Generate a random email ID and store the email content to the shared state\n",
    "\n",
    "        // Invoke the agent\n",
    "        \n",
    "        Console.WriteLine($\"DraftExecutor .......loading \\n\" + message.Text);\n",
    "        \n",
    "        var response = await this._evangelistAgent.RunAsync(message);\n",
    "\n",
    "\n",
    "        Console.WriteLine($\"DraftExecutor response: {response.Text}\");\n",
    "        //var contentResult = JsonSerializer.Deserialize<ContentResult>(response.Text);\n",
    "\n",
    "        ContentResult contentResult = new ContentResult{ DraftContent=Convert.ToString(response) ?? \"\" };\n",
    "\n",
    "        Console.WriteLine($\"DraftExecutor generated content: {contentResult.DraftContent}\");\n",
    "\n",
    "        // ContentResult contentResult = new ContentResult{ DraftContent=\"123\" };\n",
    "\n",
    "        return contentResult;\n",
    "    }\n",
    "}"
   ]
  },
  {
   "cell_type": "code",
   "execution_count": 25,
   "metadata": {
    "language_info": {
     "name": "polyglot-notebook"
    },
    "polyglot_notebook": {
     "kernelName": "csharp"
    }
   },
   "outputs": [],
   "source": [
    "public class ContentReviewExecutor : ReflectingExecutor<ContentReviewExecutor>, IMessageHandler<ContentResult, ReviewResult>\n",
    "{\n",
    "    private readonly AIAgent _contentReviewerAgent;\n",
    "\n",
    "    /// <summary>\n",
    "    /// Creates a new instance of the <see cref=\"ContentReviewExecutor\"/> class.\n",
    "    /// </summary>\n",
    "    /// <param name=\"contentReviewerAgent\">The AI agent used for content review</param>\n",
    "    public ContentReviewExecutor(AIAgent contentReviewerAgent) : base(\"ContentReviewExecutor\")\n",
    "    {\n",
    "        this._contentReviewerAgent = contentReviewerAgent;\n",
    "    }\n",
    "\n",
    "    public async ValueTask<ReviewResult> HandleAsync(ContentResult content, IWorkflowContext context)\n",
    "    {\n",
    "        // Generate a random email ID and store the email content to the shared state\n",
    "\n",
    "        // Invoke the agent\n",
    "\n",
    "        Console.WriteLine($\"ContentReviewExecutor .......loading\");\n",
    "        var response = await this._contentReviewerAgent.RunAsync(content.DraftContent);\n",
    "        var reviewResult = JsonSerializer.Deserialize<ReviewResult>(response.Text);\n",
    "        Console.WriteLine($\"ContentReviewExecutor review result: {reviewResult.Result}, reason: {reviewResult.Reason}\");\n",
    "\n",
    "        return reviewResult;\n",
    "    }\n",
    "}"
   ]
  },
  {
   "cell_type": "code",
   "execution_count": 26,
   "metadata": {
    "language_info": {
     "name": "polyglot-notebook"
    },
    "polyglot_notebook": {
     "kernelName": "csharp"
    }
   },
   "outputs": [],
   "source": [
    "public class HandleReviewExecutor() : ReflectingExecutor<HandleReviewExecutor>(\"HandleReviewExecutor\"), IMessageHandler<ReviewResult>\n",
    "{\n",
    "    /// <summary>\n",
    "    /// Simulate the handling of review message.\n",
    "    /// </summary>\n",
    "    public async ValueTask HandleAsync(ReviewResult review, IWorkflowContext context)\n",
    "    {\n",
    "        if (review.Result == \"Yes\")\n",
    "        {\n",
    "            await context.YieldOutputAsync($\"Yes\");\n",
    "        }\n",
    "        else\n",
    "        {\n",
    "            throw new InvalidOperationException(\"The draft content is not good, cannot publish.\");\n",
    "        }\n",
    "    }\n",
    "}"
   ]
  },
  {
   "cell_type": "code",
   "execution_count": 27,
   "metadata": {
    "language_info": {
     "name": "polyglot-notebook"
    },
    "polyglot_notebook": {
     "kernelName": "csharp"
    }
   },
   "outputs": [],
   "source": [
    "public class PublishExecutor : ReflectingExecutor<PublishExecutor>, IMessageHandler<ReviewResult>\n",
    "{\n",
    "    private readonly AIAgent _publishAgent;\n",
    "\n",
    "    /// <summary>\n",
    "    /// Creates a new instance of the <see cref=\"PublishExecutor\"/> class.\n",
    "    /// </summary>\n",
    "    /// <param name=\"publishAgent\">The AI agent used for publishing</param>\n",
    "    public PublishExecutor(AIAgent publishAgent) : base(\"PublishExecutor\")\n",
    "    {\n",
    "        this._publishAgent = publishAgent;\n",
    "    }\n",
    "\n",
    "    /// <summary>\n",
    "    /// Simulate the sending of an email.\n",
    "    /// </summary>\n",
    "    public async ValueTask HandleAsync(ReviewResult review, IWorkflowContext context)\n",
    "    {\n",
    "        Console.WriteLine($\"PublishExecutor .......loading\");\n",
    "        var response = await this._publishAgent.RunAsync(review.DraftContent);\n",
    "        Console.WriteLine($\"Response from PublishExecutor: {response.Text}\");\n",
    "        await context.YieldOutputAsync($\"Publishing result: {response.Text}\");\n",
    "    }\n",
    "}"
   ]
  },
  {
   "cell_type": "code",
   "execution_count": 28,
   "metadata": {
    "language_info": {
     "name": "polyglot-notebook"
    },
    "polyglot_notebook": {
     "kernelName": "csharp"
    }
   },
   "outputs": [],
   "source": [
    "public class SendReviewExecutor : ReflectingExecutor<SendReviewExecutor>, IMessageHandler<ReviewResult>\n",
    "{\n",
    "    public SendReviewExecutor() : base(\"SendReviewExecutor\")\n",
    "    {\n",
    "    }\n",
    "\n",
    "    /// <summary>\n",
    "    /// Simulate the sending of an email.\n",
    "    /// </summary>\n",
    "    public async ValueTask HandleAsync(ReviewResult message, IWorkflowContext context) =>\n",
    "        await context.YieldOutputAsync($\"Draft content sent: {message.Result}\");\n",
    "}"
   ]
  },
  {
   "cell_type": "code",
   "execution_count": 29,
   "metadata": {
    "language_info": {
     "name": "polyglot-notebook"
    },
    "polyglot_notebook": {
     "kernelName": "csharp"
    }
   },
   "outputs": [],
   "source": [
    "public Func<object?, bool> GetCondition(string expectedResult) =>\n",
    "        reviewResult => reviewResult is ReviewResult review && review.Result == expectedResult;"
   ]
  },
  {
   "cell_type": "code",
   "execution_count": 30,
   "metadata": {
    "language_info": {
     "name": "polyglot-notebook"
    },
    "polyglot_notebook": {
     "kernelName": "csharp"
    }
   },
   "outputs": [],
   "source": [
    "\n",
    "var draftExecutor = new DraftExecutor(evangelistagent);\n",
    "var contentReviewerExecutor = new ContentReviewExecutor(contentRevieweragent);\n",
    "var publishExecutor = new PublishExecutor(publisheragent);\n",
    "var sendReviewerExecutor = new SendReviewExecutor();"
   ]
  },
  {
   "cell_type": "code",
   "execution_count": 31,
   "metadata": {
    "language_info": {
     "name": "polyglot-notebook"
    },
    "polyglot_notebook": {
     "kernelName": "csharp"
    }
   },
   "outputs": [],
   "source": [
    "var reviewExecutor = new HandleReviewExecutor();"
   ]
  },
  {
   "cell_type": "code",
   "execution_count": 32,
   "metadata": {
    "language_info": {
     "name": "polyglot-notebook"
    },
    "polyglot_notebook": {
     "kernelName": "csharp"
    }
   },
   "outputs": [],
   "source": [
    "var workflow = new WorkflowBuilder(draftExecutor)\n",
    "            .AddEdge(draftExecutor, contentReviewerExecutor)\n",
    "            .AddEdge(contentReviewerExecutor, publishExecutor  , condition: GetCondition(expectedResult: \"Yes\"))\n",
    "            .AddEdge(contentReviewerExecutor, sendReviewerExecutor  , condition: GetCondition(expectedResult: \"No\"))\n",
    "            .Build();\n",
    "\n"
   ]
  },
  {
   "cell_type": "code",
   "execution_count": 33,
   "metadata": {
    "language_info": {
     "name": "polyglot-notebook"
    },
    "polyglot_notebook": {
     "kernelName": "csharp"
    }
   },
   "outputs": [],
   "source": [
    "string OUTLINE_Content =@\"\n",
    "# Introduce AI Agent\n",
    "\n",
    "\n",
    "## What's AI Agent\n",
    "\n",
    "https://github.com/microsoft/ai-agents-for-beginners/tree/main/01-intro-to-ai-agents\n",
    "\n",
    "\n",
    "***Note*** Don's create any sample code \n",
    "\n",
    "\n",
    "## Introduce Azure AI Foundry Agent Service \n",
    "\n",
    "https://learn.microsoft.com/en-us/azure/ai-foundry/agents/overview\n",
    "\n",
    "\n",
    "***Note*** Don's create any sample code \n",
    "\n",
    "\n",
    "## Microsoft Agent Framework \n",
    "\n",
    "https://github.com/microsoft/agent-framework/tree/main/docs/docs-templates\n",
    "\n",
    "\n",
    "***Note*** Don's create any sample code \n",
    "\";"
   ]
  },
  {
   "cell_type": "code",
   "execution_count": 34,
   "metadata": {
    "language_info": {
     "name": "polyglot-notebook"
    },
    "polyglot_notebook": {
     "kernelName": "csharp"
    }
   },
   "outputs": [
    {
     "data": {
      "text/plain": [
       "\n",
       "# Introduce AI Agent\n",
       "\n",
       "\n",
       "## What's AI Agent\n",
       "\n",
       "https://github.com/microsoft/ai-agents-for-beginners/tree/main/01-intro-to-ai-agents\n",
       "\n",
       "\n",
       "***Note*** Don's create any sample code \n",
       "\n",
       "\n",
       "## Introduce Azure AI Foundry Agent Service \n",
       "\n",
       "https://learn.microsoft.com/en-us/azure/ai-foundry/agents/overview\n",
       "\n",
       "\n",
       "***Note*** Don's create any sample code \n",
       "\n",
       "\n",
       "## Microsoft Agent Framework \n",
       "\n",
       "https://github.com/microsoft/agent-framework/tree/main/docs/docs-templates\n",
       "\n",
       "\n",
       "***Note*** Don's create any sample code \n"
      ]
     },
     "metadata": {},
     "output_type": "display_data"
    }
   ],
   "source": [
    "OUTLINE_Content"
   ]
  },
  {
   "cell_type": "code",
   "execution_count": 35,
   "metadata": {
    "language_info": {
     "name": "polyglot-notebook"
    },
    "polyglot_notebook": {
     "kernelName": "csharp"
    }
   },
   "outputs": [],
   "source": [
    "string prompt = @\"You need to write a  draft based on the following outline and the content provided in the link corresponding to the outline. \n",
    "After draft create , the reviewer check it , if it meets the requirements, it will be submitted to the publisher and save it as a Markdown file, \n",
    "otherwise need to rewrite draft until it meets the requirements.\n",
    "The provided outline content and related links is as follows:\" + OUTLINE_Content;"
   ]
  },
  {
   "cell_type": "code",
   "execution_count": 36,
   "metadata": {
    "language_info": {
     "name": "polyglot-notebook"
    },
    "polyglot_notebook": {
     "kernelName": "csharp"
    }
   },
   "outputs": [
    {
     "name": "stdout",
     "output_type": "stream",
     "text": [
      "You need to write a  draft based on the following outline and the content provided in the link corresponding to the outline. \n",
      "After draft create , the reviewer check it , if it meets the requirements, it will be submitted to the publisher and save it as a Markdown file, \n",
      "otherwise need to rewrite draft until it meets the requirements.\n",
      "The provided outline content and related links is as follows:\n",
      "# Introduce AI Agent\n",
      "\n",
      "\n",
      "## What's AI Agent\n",
      "\n",
      "https://github.com/microsoft/ai-agents-for-beginners/tree/main/01-intro-to-ai-agents\n",
      "\n",
      "\n",
      "***Note*** Don's create any sample code \n",
      "\n",
      "\n",
      "## Introduce Azure AI Foundry Agent Service \n",
      "\n",
      "https://learn.microsoft.com/en-us/azure/ai-foundry/agents/overview\n",
      "\n",
      "\n",
      "***Note*** Don's create any sample code \n",
      "\n",
      "\n",
      "## Microsoft Agent Framework \n",
      "\n",
      "https://github.com/microsoft/agent-framework/tree/main/docs/docs-templates\n",
      "\n",
      "\n",
      "***Note*** Don's create any sample code \n",
      "\r\n"
     ]
    }
   ],
   "source": [
    "Console.WriteLine(prompt);"
   ]
  },
  {
   "cell_type": "code",
   "execution_count": 37,
   "metadata": {
    "language_info": {
     "name": "polyglot-notebook"
    },
    "polyglot_notebook": {
     "kernelName": "csharp"
    }
   },
   "outputs": [],
   "source": [
    "// workflow"
   ]
  },
  {
   "cell_type": "code",
   "execution_count": 38,
   "metadata": {
    "language_info": {
     "name": "polyglot-notebook"
    },
    "polyglot_notebook": {
     "kernelName": "csharp"
    }
   },
   "outputs": [],
   "source": [
    "var chat = new ChatMessage(ChatRole.User, prompt);"
   ]
  },
  {
   "cell_type": "code",
   "execution_count": 39,
   "metadata": {
    "language_info": {
     "name": "polyglot-notebook"
    },
    "polyglot_notebook": {
     "kernelName": "csharp"
    }
   },
   "outputs": [],
   "source": [
    "StreamingRun run = await InProcessExecution.StreamAsync(workflow, chat);"
   ]
  },
  {
   "cell_type": "code",
   "execution_count": 40,
   "metadata": {
    "language_info": {
     "name": "polyglot-notebook"
    },
    "polyglot_notebook": {
     "kernelName": "csharp"
    }
   },
   "outputs": [
    {
     "name": "stdout",
     "output_type": "stream",
     "text": [
      "DraftExecutor .......loading \n",
      "You need to write a  draft based on the following outline and the content provided in the link corresponding to the outline. \n",
      "After draft create , the reviewer check it , if it meets the requirements, it will be submitted to the publisher and save it as a Markdown file, \n",
      "otherwise need to rewrite draft until it meets the requirements.\n",
      "The provided outline content and related links is as follows:\n",
      "# Introduce AI Agent\n",
      "\n",
      "\n",
      "## What's AI Agent\n",
      "\n",
      "https://github.com/microsoft/ai-agents-for-beginners/tree/main/01-intro-to-ai-agents\n",
      "\n",
      "\n",
      "***Note*** Don's create any sample code \n",
      "\n",
      "\n",
      "## Introduce Azure AI Foundry Agent Service \n",
      "\n",
      "https://learn.microsoft.com/en-us/azure/ai-foundry/agents/overview\n",
      "\n",
      "\n",
      "***Note*** Don's create any sample code \n",
      "\n",
      "\n",
      "## Microsoft Agent Framework \n",
      "\n",
      "https://github.com/microsoft/agent-framework/tree/main/docs/docs-templates\n",
      "\n",
      "\n",
      "***Note*** Don's create any sample code \n",
      "\n",
      "DraftExecutor response: ```json\n",
      "{\n",
      "  \"draft_content\": \"# Introduction to AI Agents\\n\\n## What is an AI Agent?\\nAI Agents are autonomous software tools that operate independently, performing tasks and making decisions based on real-time input and changing conditions. Unlike traditional AI technologies that often require human intervention, AI agents utilize complex algorithms and machine learning techniques to adapt, learn, and improve over time. They act autonomously, allowing for significant automation in environments like software development. For instance, AI agents can execute repetitive tasks such as code reviews or security vulnerability detection without constant human oversight【3:0†source】【3:1†source】.\\n\\nIn various forms, AI agents exhibit capabilities from simple reflex actions to complex decision-making processes involving goals and predictions. They can be simple reflex agents, model-based reflex agents, goal-based agents, utility-based agents, or learning agents. Depending on the application, these agents can work individually or collaboratively, enhancing efficiency and productivity in diverse operational contexts【3:0†source】.\\n\\n## Azure AI Foundry Agent Service\\nThe Azure AI Foundry Agent Service aims to automate complex workflows more effectively than conventional methods. It integrates seamlessly with Azure's vast array of tools, models, and frameworks, ensuring that AI agents are not only intelligent but also secure and scalable. This service embodies a structured approach to creating agents that can manage and execute various business tasks like processing invoices, analyzing unstructured data, or automating customer support【5:0†source】.\\n\\nAzure AI Foundry's platform is designed to handle the nuances of agent deployment across development and production stages, featuring robust tools that enforce policy and governance. Key components include models (typically based on large language models), clearly defined agent instructions, and integrated retrieval tools that support agent operation in real-time environments【5:0†source】. The primary goal is to simplify the transition from prototype to production, ensuring organizations can deploy AI agents efficiently and confidently【5:1†source】.\\n\\n## Microsoft Agent Framework\\nThe Microsoft Agent Framework represents a pivotal advancement in AI agent development. It streamlines the process of building and deploying agents by combining features from the Semantic Kernel and AutoGen into a cohesive SDK. This framework allows developers to orchestrate complex multi-agent workflows efficiently and is designed to be intuitive, making it accessible for developers across different skill levels【7:1†source】【7:2†source】.\\n\\nBy offering support for both Python and .NET environments, the framework helps reduce the complexity typically associated with agent development. Features such as graph-based workflows and built-in observability enable developers to create sophisticated applications that can manage memory, context, and interactions within multi-agent systems. This is particularly beneficial for tasks requiring greater autonomy and collaboration among agents【7:4†source】.\\n\\nIn conclusion, AI agents are transforming the landscape of automation and application logic with their ability to operate autonomously and interact wisely. With platforms like Azure AI Foundry and the Microsoft Agent Framework, developers are equipped with powerful tools to foster innovation in AI-driven applications.\"\n",
      "}\n",
      "```\n",
      "DraftExecutor generated content: ```json\n",
      "{\n",
      "  \"draft_content\": \"# Introduction to AI Agents\\n\\n## What is an AI Agent?\\nAI Agents are autonomous software tools that operate independently, performing tasks and making decisions based on real-time input and changing conditions. Unlike traditional AI technologies that often require human intervention, AI agents utilize complex algorithms and machine learning techniques to adapt, learn, and improve over time. They act autonomously, allowing for significant automation in environments like software development. For instance, AI agents can execute repetitive tasks such as code reviews or security vulnerability detection without constant human oversight【3:0†source】【3:1†source】.\\n\\nIn various forms, AI agents exhibit capabilities from simple reflex actions to complex decision-making processes involving goals and predictions. They can be simple reflex agents, model-based reflex agents, goal-based agents, utility-based agents, or learning agents. Depending on the application, these agents can work individually or collaboratively, enhancing efficiency and productivity in diverse operational contexts【3:0†source】.\\n\\n## Azure AI Foundry Agent Service\\nThe Azure AI Foundry Agent Service aims to automate complex workflows more effectively than conventional methods. It integrates seamlessly with Azure's vast array of tools, models, and frameworks, ensuring that AI agents are not only intelligent but also secure and scalable. This service embodies a structured approach to creating agents that can manage and execute various business tasks like processing invoices, analyzing unstructured data, or automating customer support【5:0†source】.\\n\\nAzure AI Foundry's platform is designed to handle the nuances of agent deployment across development and production stages, featuring robust tools that enforce policy and governance. Key components include models (typically based on large language models), clearly defined agent instructions, and integrated retrieval tools that support agent operation in real-time environments【5:0†source】. The primary goal is to simplify the transition from prototype to production, ensuring organizations can deploy AI agents efficiently and confidently【5:1†source】.\\n\\n## Microsoft Agent Framework\\nThe Microsoft Agent Framework represents a pivotal advancement in AI agent development. It streamlines the process of building and deploying agents by combining features from the Semantic Kernel and AutoGen into a cohesive SDK. This framework allows developers to orchestrate complex multi-agent workflows efficiently and is designed to be intuitive, making it accessible for developers across different skill levels【7:1†source】【7:2†source】.\\n\\nBy offering support for both Python and .NET environments, the framework helps reduce the complexity typically associated with agent development. Features such as graph-based workflows and built-in observability enable developers to create sophisticated applications that can manage memory, context, and interactions within multi-agent systems. This is particularly beneficial for tasks requiring greater autonomy and collaboration among agents【7:4†source】.\\n\\nIn conclusion, AI agents are transforming the landscape of automation and application logic with their ability to operate autonomously and interact wisely. With platforms like Azure AI Foundry and the Microsoft Agent Framework, developers are equipped with powerful tools to foster innovation in AI-driven applications.\"\n",
      "}\n",
      "```\n",
      "ContentReviewExecutor .......loading\n",
      "ContentReviewExecutor review result: Yes, reason: The content is good\n",
      "PublishExecutor .......loading\n",
      "Response from PublishExecutor: The tutorial's draft content has been successfully saved as a Markdown file. The file name is `20251001155012.md`. You can download it using the link below:\n",
      "\n",
      "[Download 20251001155012.md](sandbox:/mnt/data/20251001155012.md)\n",
      "\n"
     ]
    }
   ],
   "source": [
    "await run.TrySendMessageAsync(new TurnToken(emitEvents: true));\n",
    "string id=\"\";\n",
    "string messageData=\"\";\n",
    "await foreach (WorkflowEvent evt in run.WatchStreamAsync().ConfigureAwait(false))\n",
    "{\n",
    "    if (evt is AgentRunUpdateEvent executorComplete)\n",
    "    {\n",
    "        if(id==\"\")\n",
    "        {\n",
    "            id=executorComplete.ExecutorId;\n",
    "        }\n",
    "        if(id==executorComplete.ExecutorId)\n",
    "        {\n",
    "            messageData+=executorComplete.Data.ToString();\n",
    "        }\n",
    "        else\n",
    "        {\n",
    "            id=executorComplete.ExecutorId;\n",
    "        }\n",
    "    }\n",
    "}\n",
    "\n",
    "Console.WriteLine(messageData);\n",
    "// await foreach (WorkflowEvent evt in run.WatchStreamAsync().ConfigureAwait(false))\n",
    "// {\n",
    "//             if (evt is WorkflowOutputEvent outputEvent)\n",
    "//             {\n",
    "//                 Console.WriteLine($\"{outputEvent}\");\n",
    "//             }\n",
    "// }"
   ]
  },
  {
   "cell_type": "markdown",
   "metadata": {},
   "source": [
    "\n---\n\n**अस्वीकरण**:  \nयो दस्तावेज़ AI अनुवाद सेवा [Co-op Translator](https://github.com/Azure/co-op-translator) प्रयोग गरेर अनुवाद गरिएको छ। हामी यथार्थताको लागि प्रयास गर्छौं, तर कृपया ध्यान दिनुहोस् कि स्वचालित अनुवादहरूमा त्रुटिहरू वा अशुद्धताहरू हुन सक्छ। मूल दस्तावेज़ यसको मातृभाषामा आधिकारिक स्रोत मानिनुपर्छ। महत्वपूर्ण जानकारीको लागि, व्यावसायिक मानव अनुवाद सिफारिस गरिन्छ। यस अनुवादको प्रयोगबाट उत्पन्न हुने कुनै पनि गलतफहमी वा गलत व्याख्याको लागि हामी जिम्मेवार हुने छैनौं।\n"
   ]
  }
 ],
 "metadata": {
  "kernelspec": {
   "display_name": ".NET (C#)",
   "language": "C#",
   "name": ".net-csharp"
  },
  "language_info": {
   "name": "polyglot-notebook"
  },
  "polyglot_notebook": {
   "kernelInfo": {
    "defaultKernelName": "csharp",
    "items": [
     {
      "aliases": [],
      "name": "csharp"
     }
    ]
   }
  },
  "coopTranslator": {
   "original_hash": "713f9caa4cfc39cfe8b6b92218c1f3ad",
   "translation_date": "2025-10-02T11:37:48+00:00",
   "source_file": "08-multi-agent/code_samples/workflows-agent-framework/dotNET/04.dotnet-agent-framework-workflow-aifoundry-condition.ipynb",
   "language_code": "ne"
  }
 },
 "nbformat": 4,
 "nbformat_minor": 5
}