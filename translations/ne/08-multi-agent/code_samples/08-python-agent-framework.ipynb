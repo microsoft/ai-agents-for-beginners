{
 "cells": [
  {
   "cell_type": "markdown",
   "id": "a6e34f84",
   "metadata": {},
   "source": [
    "# 🤝 GitHub मोडेलहरूसँग बहु-एजेन्ट वर्कफ्लो प्रणाली (Python)\n",
    "\n",
    "## 📋 सिक्ने उद्देश्यहरू\n",
    "\n",
    "यस नोटबुकले Microsoft Agent Framework र GitHub मोडेलहरूसँग sophisticated बहु-एजेन्ट प्रणाली निर्माण गर्ने तरिका प्रदर्शन गर्दछ। तपाईंले संरचित वर्कफ्लोहरू मार्फत जटिल समस्याहरू समाधान गर्न सँगै काम गर्ने विशेष एजेन्टहरूको समन्वय गर्न सिक्नुहुनेछ।\n",
    "\n",
    "**तपाईंले निर्माण गर्ने बहु-एजेन्ट क्षमता:**\n",
    "- 👥 **एजेन्ट सहयोग**: साझा लक्ष्यहरूतर्फ सँगै काम गर्ने बहु-एजेन्टहरू\n",
    "- 🔄 **वर्कफ्लो समन्वय**: एजेन्ट अन्तरक्रियाको संरचित समन्वय\n",
    "- 🎭 **भूमिका विशेषज्ञता**: फरक व्यक्तित्व र विशेषज्ञता क्षेत्र भएका एजेन्टहरू\n",
    "- 📋 **गुणस्तर सुनिश्चितता**: एजेन्ट सहयोग मार्फत समीक्षा र सुधार\n",
    "\n",
    "## 🎯 बहु-एजेन्ट आर्किटेक्चर अवधारणाहरू\n",
    "\n",
    "### मुख्य बहु-एजेन्ट सिद्धान्तहरू\n",
    "- **कामको विभाजन**: प्रत्येक एजेन्टले विशिष्ट क्षेत्रको विशेषज्ञता प्रदान गर्दछ\n",
    "- **सहयोगात्मक निर्णय लिने प्रक्रिया**: एजेन्टहरूले एक-अर्काको काम समीक्षा र सुधार गर्छन्\n",
    "- **वर्कफ्लो समन्वय**: संरचित हस्तान्तरण र संचार ढाँचाहरू\n",
    "- **गुणस्तर सुधार**: बहु-दृष्टिकोण विश्लेषण मार्फत पुनरावृत्त सुधार\n",
    "\n",
    "### एजेन्ट अन्तरक्रिया ढाँचाहरू\n",
    "- **क्रमिक प्रशोधन**: क्रमबद्ध एजेन्ट सहभागितासँग रेखीय वर्कफ्लो\n",
    "- **समीक्षा प्रक्रिया**: एजेन्टहरूले एक-अर्काको आउटपुटलाई मान्य र सुधार गर्छन्\n",
    "- **पदानुक्रम संरचना**: नेतृत्व गर्ने एजेन्टहरूले अधीनस्थ विशेषज्ञहरूको समन्वय गर्छन्\n",
    "- **सहमति निर्माण**: अन्तिम निर्णयमा योगदान दिने बहु-एजेन्टहरू\n",
    "\n",
    "## 🏗️ प्राविधिक आर्किटेक्चर\n",
    "\n",
    "### वर्कफ्लो प्रणालीका घटकहरू\n",
    "- **Microsoft Agent Framework**: उन्नत वर्कफ्लो समर्थनसहितको Python कार्यान्वयन\n",
    "- **WorkflowBuilder**: घोषणात्मक वर्कफ्लो परिभाषा र कार्यान्वयन इन्जिन\n",
    "- **एजेन्ट समन्वय**: संरचित संचार र हस्तान्तरण संयन्त्रहरू\n",
    "- **इभेन्ट-ड्रिभन प्रशोधन**: एजेन्ट आउटपुटमा आधारित प्रतिक्रियात्मक वर्कफ्लो कार्यान्वयन\n",
    "\n",
    "### बहु-एजेन्ट प्रक्रिया प्रवाह\n",
    "```python\n",
    "User Request → Agent 1 (Specialist) → Agent 2 (Reviewer) → Quality Check\n",
    "                ↓                      ↓                    ↓\n",
    "         Initial Solution → Review & Feedback → Refined Output → Final Result\n",
    "```\n",
    "\n",
    "## 🎭 एजेन्ट भूमिकाका उदाहरणहरू\n",
    "\n",
    "### होटल कन्सियर्ज प्रणाली\n",
    "यस नोटबुकले विशेष भूमिकाहरू भएको यात्रा सिफारिस प्रणाली प्रदर्शन गर्दछ:\n",
    "\n",
    "#### 🏨 **फ्रन्ट डेस्क एजेन्ट**\n",
    "- **विशेषज्ञता**: यात्रा सिफारिसहरू र स्थानीय ज्ञान\n",
    "- **व्यक्तित्व**: कुशल, अनुभवी, संक्षिप्त संचार शैली\n",
    "- **जिम्मेवारीहरू**: प्रारम्भिक यात्रा सुझावहरू र गतिविधिहरू सिर्जना गर्नु\n",
    "\n",
    "#### 🎩 **कन्सियर्ज एजेन्ट**  \n",
    "- **विशेषज्ञता**: प्रामाणिक स्थानीय अनुभवहरू र गुणस्तर मूल्यांकन\n",
    "- **व्यक्तित्व**: विवेकी, गैर-पर्यटक सिफारिसहरूमा केन्द्रित\n",
    "- **जिम्मेवारीहरू**: यात्रा सुझावहरूको प्रामाणिकताका लागि समीक्षा र सुधार गर्नु\n",
    "\n",
    "## 🔧 प्राविधिक कार्यान्वयन\n",
    "\n",
    "### वर्कफ्लो आर्किटेक्चर\n",
    "- **एजेन्ट परिभाषा**: विशेष निर्देशनहरू र व्यक्तित्व कन्फिगरेसन\n",
    "- **वर्कफ्लो बिल्डर**: इभेन्ट ह्यान्डलिङसहितको घोषणात्मक वर्कफ्लो परिभाषा\n",
    "- **संचार प्रोटोकल**: एजेन्टहरू बीच संरचित सन्देश आदानप्रदान\n",
    "- **परिणाम समग्रता**: बहु-एजेन्ट दृष्टिकोणबाट आउटपुटहरू संयोजन गर्नु\n",
    "\n",
    "### इभेन्ट-ड्रिभन समन्वय\n",
    "- **WorkflowEvent**: एजेन्ट सक्रियता र हस्तान्तरणका लागि ट्रिगर बिन्दुहरू\n",
    "- **OutputEvent**: एजेन्टहरू बीच संरचित डाटा आदानप्रदान\n",
    "- **गुणस्तर गेटहरू**: वर्कफ्लो प्रक्रियामा मान्यताको जाँच बिन्दुहरू\n",
    "- **प्रतिक्रिया चक्रहरू**: एजेन्ट सहयोग मार्फत पुनरावृत्त सुधार\n",
    "\n",
    "## ⚙️ पूर्वापेक्षाहरू र सेटअप\n",
    "\n",
    "**आवश्यक निर्भरता:**\n",
    "```bash\n",
    "\n",
    "\n",
    "pip install agent-framework-core  -U\n",
    "```\n",
    "\n",
    "**Environment Configuration (.env फाइल):**\n",
    "```env\n",
    "GITHUB_TOKEN=your_github_personal_access_token\n",
    "GITHUB_ENDPOINT=https://models.inference.ai.azure.com\n",
    "GITHUB_MODEL_ID=gpt-4o-mini\n",
    "```\n",
    "\n",
    "## 🎨 बहु-एजेन्ट डिजाइन ढाँचाहरू\n",
    "\n",
    "### 1. **Producer-Consumer ढाँचा**\n",
    "- विशेष एजेन्टहरूले अन्य एजेन्टहरूद्वारा समीक्षा गर्न सामग्री सिर्जना गर्छन्\n",
    "- स्पष्ट हस्तान्तरण बिन्दुहरू र डाटा आदानप्रदान प्रोटोकलहरू\n",
    "- स्वतन्त्र समीक्षामार्फत गुणस्तर सुनिश्चितता\n",
    "- पुनरावृत्त सुधार र सुधार चक्रहरू\n",
    "\n",
    "### 2. **Committee ढाँचा**\n",
    "- विभिन्न दृष्टिकोणहरू योगदान गर्ने बहु-एजेन्टहरू\n",
    "- संरचित छलफलमार्फत सहमति निर्माण\n",
    "- तौलित विचारहरूसहित लोकतान्त्रिक निर्णय लिने प्रक्रिया\n",
    "- विवाद समाधान र टाई-ब्रेकिङ संयन्त्रहरू\n",
    "\n",
    "### 3. **Hierarchical ढाँचा**\n",
    "- नेतृत्व गर्ने एजेन्टहरूले विशेषज्ञ अधीनस्थहरूको समन्वय गर्छन्  \n",
    "- स्पष्ट अधिकार संरचना र निर्णय प्रवाह\n",
    "- जटिल निर्णयहरूको लागि वृद्धि मार्गहरू\n",
    "- प्रदर्शन अनुगमन र गुणस्तर नियन्त्रण\n",
    "\n",
    "### 4. **Pipeline ढाँचा**\n",
    "- विशेष चरणहरूसँग क्रमिक प्रशोधन\n",
    "- प्रत्येक एजेन्टले आफ्नो विशेषज्ञता क्षेत्रमा मूल्य थप्छ\n",
    "- समानान्तर प्रशोधनमार्फत कुशल throughput\n",
    "- प्रत्येक चरणमा त्रुटि ह्यान्डलिङ र पुनःप्राप्ति\n",
    "\n",
    "## 🚀 उन्नत बहु-एजेन्ट सुविधाहरू\n",
    "\n",
    "### वर्कफ्लो समन्वय\n",
    "- **डायनामिक रुटिङ**: सन्दर्भ-आधारित एजेन्ट चयन र रुटिङ\n",
    "- **समानान्तर प्रशोधन**: दक्षताका लागि एकसाथ एजेन्ट कार्यान्वयन\n",
    "- **त्रुटि पुनःप्राप्ति**: एजेन्ट असफलता र पुनः प्रयासको सहज ह्यान्डलिङ\n",
    "- **प्रदर्शन अनुगमन**: वर्कफ्लो कार्यान्वयन र अनुकूलन ट्र्याकिङ\n",
    "\n",
    "### एजेन्ट संचार\n",
    "- **संरचित सन्देश आदानप्रदान**: प्रकार-सुरक्षित संचार प्रोटोकलहरू\n",
    "- **सन्दर्भ संरक्षण**: एजेन्टहरू बीच वार्तालाप इतिहास कायम राख्नु\n",
    "- **मेटाडाटा आदानप्रदान**: पाठ सामग्रीभन्दा पर समृद्ध जानकारी आदानप्रदान\n",
    "- **इभेन्ट प्रसारण**: समन्वयका लागि प्रकाशन-सदस्यता ढाँचाहरू\n",
    "\n",
    "### गुणस्तर सुनिश्चितता\n",
    "- **बहु-दृष्टिकोण समीक्षा**: फरक एजेन्टहरूले अद्वितीय दृष्टिकोण ल्याउँछन्\n",
    "- **पुनरावृत्त सुधार**: सहयोगमार्फत प्रगतिशील सुधार\n",
    "- **मान्यताको जाँच बिन्दुहरू**: वर्कफ्लोभरि गुणस्तर गेटहरू\n",
    "- **प्रदर्शन मेट्रिक्स**: सहयोग प्रभावकारिता मापन\n",
    "\n",
    "## 📊 प्रयोगका केसहरू र अनुप्रयोगहरू\n",
    "\n",
    "### व्यापार प्रक्रिया स्वचालन\n",
    "- दस्तावेज समीक्षा र अनुमोदन वर्कफ्लोहरू\n",
    "- ग्राहक सेवा वृद्धि प्रणालीहरू\n",
    "- गुणस्तर सुनिश्चितता र अनुपालन जाँच\n",
    "- बहु-चरण सामग्री सिर्जना र सम्पादन\n",
    "\n",
    "### अनुसन्धान र विश्लेषण\n",
    "- अनुसन्धान पत्रहरूको समीक्षाका लागि सहकर्मी समीक्षा प्रणालीहरू\n",
    "- बहु-विश्लेषक वित्तीय विश्लेषण\n",
    "- सहयोगात्मक रिपोर्ट लेखन र तथ्य-जाँच\n",
    "- शैक्षिक पत्र समीक्षा र सुधार\n",
    "\n",
    "### रचनात्मक सहयोग\n",
    "- सम्पादकहरू र समीक्षकहरूसँग सामग्री सिर्जना\n",
    "- बहु-दृष्टिकोण रचनात्मक मस्तिष्कमन्थन\n",
    "- पुनरावृत्त डिजाइन र प्रतिक्रिया प्रणालीहरू\n",
    "- सहयोगात्मक कथावाचन र विश्व निर्माण\n",
    "\n",
    "बुद्धिमान बहु-एजेन्ट सहयोगहरू समन्वय गर्न तयार हुनुहुन्छ? एजेन्टहरू उच्च प्रदर्शन गर्ने टोलीजस्तै सँगै काम गर्ने प्रणालीहरू निर्माण गरौं! 🌟🤖\n"
   ]
  },
  {
   "cell_type": "code",
   "execution_count": 1,
   "id": "9b42777d",
   "metadata": {},
   "outputs": [
    {
     "name": "stdout",
     "output_type": "stream",
     "text": [
      "Requirement already satisfied: agent-framework-core in c:\\users\\kinfeylo\\appdata\\local\\miniforge3\\envs\\agentenv\\lib\\site-packages (1.0.0b251001)\n",
      "Requirement already satisfied: openai>=1.99.0 in c:\\users\\kinfeylo\\appdata\\local\\miniforge3\\envs\\agentenv\\lib\\site-packages (from agent-framework-core) (1.106.1)\n",
      "Requirement already satisfied: pydantic<3,>=2 in c:\\users\\kinfeylo\\appdata\\local\\miniforge3\\envs\\agentenv\\lib\\site-packages (from agent-framework-core) (2.11.9)\n",
      "Requirement already satisfied: pydantic-settings<3,>=2 in c:\\users\\kinfeylo\\appdata\\local\\miniforge3\\envs\\agentenv\\lib\\site-packages (from agent-framework-core) (2.10.1)\n",
      "Requirement already satisfied: typing-extensions in c:\\users\\kinfeylo\\appdata\\local\\miniforge3\\envs\\agentenv\\lib\\site-packages (from agent-framework-core) (4.15.0)\n",
      "Requirement already satisfied: opentelemetry-api>=1.24 in c:\\users\\kinfeylo\\appdata\\local\\miniforge3\\envs\\agentenv\\lib\\site-packages (from agent-framework-core) (1.36.0)\n",
      "Requirement already satisfied: opentelemetry-sdk>=1.24 in c:\\users\\kinfeylo\\appdata\\local\\miniforge3\\envs\\agentenv\\lib\\site-packages (from agent-framework-core) (1.36.0)\n",
      "Requirement already satisfied: mcp>=1.13 in c:\\users\\kinfeylo\\appdata\\local\\miniforge3\\envs\\agentenv\\lib\\site-packages (from mcp[ws]>=1.13->agent-framework-core) (1.13.1)\n",
      "Requirement already satisfied: azure-monitor-opentelemetry>=1.7.0 in c:\\users\\kinfeylo\\appdata\\local\\miniforge3\\envs\\agentenv\\lib\\site-packages (from agent-framework-core) (1.8.0)\n",
      "Requirement already satisfied: azure-monitor-opentelemetry-exporter>=1.0.0b41 in c:\\users\\kinfeylo\\appdata\\local\\miniforge3\\envs\\agentenv\\lib\\site-packages (from agent-framework-core) (1.0.0b41)\n",
      "Requirement already satisfied: opentelemetry-exporter-otlp-proto-grpc>=1.36.0 in c:\\users\\kinfeylo\\appdata\\local\\miniforge3\\envs\\agentenv\\lib\\site-packages (from agent-framework-core) (1.36.0)\n",
      "Requirement already satisfied: opentelemetry-semantic-conventions-ai>=0.4.13 in c:\\users\\kinfeylo\\appdata\\local\\miniforge3\\envs\\agentenv\\lib\\site-packages (from agent-framework-core) (0.4.13)\n",
      "Requirement already satisfied: aiofiles>=24.1.0 in c:\\users\\kinfeylo\\appdata\\local\\miniforge3\\envs\\agentenv\\lib\\site-packages (from agent-framework-core) (24.1.0)\n",
      "Requirement already satisfied: azure-identity<2,>=1 in c:\\users\\kinfeylo\\appdata\\local\\miniforge3\\envs\\agentenv\\lib\\site-packages (from agent-framework-core) (1.24.0)\n",
      "Requirement already satisfied: azure-core>=1.31.0 in c:\\users\\kinfeylo\\appdata\\local\\miniforge3\\envs\\agentenv\\lib\\site-packages (from azure-identity<2,>=1->agent-framework-core) (1.35.0)\n",
      "Requirement already satisfied: cryptography>=2.5 in c:\\users\\kinfeylo\\appdata\\local\\miniforge3\\envs\\agentenv\\lib\\site-packages (from azure-identity<2,>=1->agent-framework-core) (45.0.7)\n",
      "Requirement already satisfied: msal>=1.30.0 in c:\\users\\kinfeylo\\appdata\\local\\miniforge3\\envs\\agentenv\\lib\\site-packages (from azure-identity<2,>=1->agent-framework-core) (1.33.0)\n",
      "Requirement already satisfied: msal-extensions>=1.2.0 in c:\\users\\kinfeylo\\appdata\\local\\miniforge3\\envs\\agentenv\\lib\\site-packages (from azure-identity<2,>=1->agent-framework-core) (1.3.1)\n",
      "Requirement already satisfied: annotated-types>=0.6.0 in c:\\users\\kinfeylo\\appdata\\local\\miniforge3\\envs\\agentenv\\lib\\site-packages (from pydantic<3,>=2->agent-framework-core) (0.7.0)\n",
      "Requirement already satisfied: pydantic-core==2.33.2 in c:\\users\\kinfeylo\\appdata\\local\\miniforge3\\envs\\agentenv\\lib\\site-packages (from pydantic<3,>=2->agent-framework-core) (2.33.2)\n",
      "Requirement already satisfied: typing-inspection>=0.4.0 in c:\\users\\kinfeylo\\appdata\\local\\miniforge3\\envs\\agentenv\\lib\\site-packages (from pydantic<3,>=2->agent-framework-core) (0.4.1)\n",
      "Requirement already satisfied: python-dotenv>=0.21.0 in c:\\users\\kinfeylo\\appdata\\local\\miniforge3\\envs\\agentenv\\lib\\site-packages (from pydantic-settings<3,>=2->agent-framework-core) (1.1.1)\n",
      "Requirement already satisfied: requests>=2.21.0 in c:\\users\\kinfeylo\\appdata\\local\\miniforge3\\envs\\agentenv\\lib\\site-packages (from azure-core>=1.31.0->azure-identity<2,>=1->agent-framework-core) (2.32.5)\n",
      "Requirement already satisfied: six>=1.11.0 in c:\\users\\kinfeylo\\appdata\\local\\miniforge3\\envs\\agentenv\\lib\\site-packages (from azure-core>=1.31.0->azure-identity<2,>=1->agent-framework-core) (1.17.0)\n",
      "Requirement already satisfied: azure-core-tracing-opentelemetry~=1.0.0b11 in c:\\users\\kinfeylo\\appdata\\local\\miniforge3\\envs\\agentenv\\lib\\site-packages (from azure-monitor-opentelemetry>=1.7.0->agent-framework-core) (1.0.0b12)\n",
      "Requirement already satisfied: opentelemetry-instrumentation-django~=0.57b0 in c:\\users\\kinfeylo\\appdata\\local\\miniforge3\\envs\\agentenv\\lib\\site-packages (from azure-monitor-opentelemetry>=1.7.0->agent-framework-core) (0.57b0)\n",
      "Requirement already satisfied: opentelemetry-instrumentation-fastapi~=0.57b0 in c:\\users\\kinfeylo\\appdata\\local\\miniforge3\\envs\\agentenv\\lib\\site-packages (from azure-monitor-opentelemetry>=1.7.0->agent-framework-core) (0.57b0)\n",
      "Requirement already satisfied: opentelemetry-instrumentation-flask~=0.57b0 in c:\\users\\kinfeylo\\appdata\\local\\miniforge3\\envs\\agentenv\\lib\\site-packages (from azure-monitor-opentelemetry>=1.7.0->agent-framework-core) (0.57b0)\n",
      "Requirement already satisfied: opentelemetry-instrumentation-psycopg2~=0.57b0 in c:\\users\\kinfeylo\\appdata\\local\\miniforge3\\envs\\agentenv\\lib\\site-packages (from azure-monitor-opentelemetry>=1.7.0->agent-framework-core) (0.57b0)\n",
      "Requirement already satisfied: opentelemetry-instrumentation-requests~=0.57b0 in c:\\users\\kinfeylo\\appdata\\local\\miniforge3\\envs\\agentenv\\lib\\site-packages (from azure-monitor-opentelemetry>=1.7.0->agent-framework-core) (0.57b0)\n",
      "Requirement already satisfied: opentelemetry-instrumentation-urllib~=0.57b0 in c:\\users\\kinfeylo\\appdata\\local\\miniforge3\\envs\\agentenv\\lib\\site-packages (from azure-monitor-opentelemetry>=1.7.0->agent-framework-core) (0.57b0)\n",
      "Requirement already satisfied: opentelemetry-instrumentation-urllib3~=0.57b0 in c:\\users\\kinfeylo\\appdata\\local\\miniforge3\\envs\\agentenv\\lib\\site-packages (from azure-monitor-opentelemetry>=1.7.0->agent-framework-core) (0.57b0)\n",
      "Requirement already satisfied: opentelemetry-resource-detector-azure~=0.1.5 in c:\\users\\kinfeylo\\appdata\\local\\miniforge3\\envs\\agentenv\\lib\\site-packages (from azure-monitor-opentelemetry>=1.7.0->agent-framework-core) (0.1.5)\n",
      "Requirement already satisfied: fixedint==0.1.6 in c:\\users\\kinfeylo\\appdata\\local\\miniforge3\\envs\\agentenv\\lib\\site-packages (from azure-monitor-opentelemetry-exporter>=1.0.0b41->agent-framework-core) (0.1.6)\n",
      "Requirement already satisfied: msrest>=0.6.10 in c:\\users\\kinfeylo\\appdata\\local\\miniforge3\\envs\\agentenv\\lib\\site-packages (from azure-monitor-opentelemetry-exporter>=1.0.0b41->agent-framework-core) (0.7.1)\n",
      "Requirement already satisfied: psutil<8,>=5.9 in c:\\users\\kinfeylo\\appdata\\local\\miniforge3\\envs\\agentenv\\lib\\site-packages (from azure-monitor-opentelemetry-exporter>=1.0.0b41->agent-framework-core) (7.0.0)\n",
      "Requirement already satisfied: importlib-metadata<8.8.0,>=6.0 in c:\\users\\kinfeylo\\appdata\\local\\miniforge3\\envs\\agentenv\\lib\\site-packages (from opentelemetry-api>=1.24->agent-framework-core) (8.7.0)\n",
      "Requirement already satisfied: zipp>=3.20 in c:\\users\\kinfeylo\\appdata\\local\\miniforge3\\envs\\agentenv\\lib\\site-packages (from importlib-metadata<8.8.0,>=6.0->opentelemetry-api>=1.24->agent-framework-core) (3.23.0)\n",
      "Requirement already satisfied: opentelemetry-instrumentation-wsgi==0.57b0 in c:\\users\\kinfeylo\\appdata\\local\\miniforge3\\envs\\agentenv\\lib\\site-packages (from opentelemetry-instrumentation-django~=0.57b0->azure-monitor-opentelemetry>=1.7.0->agent-framework-core) (0.57b0)\n",
      "Requirement already satisfied: opentelemetry-instrumentation==0.57b0 in c:\\users\\kinfeylo\\appdata\\local\\miniforge3\\envs\\agentenv\\lib\\site-packages (from opentelemetry-instrumentation-django~=0.57b0->azure-monitor-opentelemetry>=1.7.0->agent-framework-core) (0.57b0)\n",
      "Requirement already satisfied: opentelemetry-semantic-conventions==0.57b0 in c:\\users\\kinfeylo\\appdata\\local\\miniforge3\\envs\\agentenv\\lib\\site-packages (from opentelemetry-instrumentation-django~=0.57b0->azure-monitor-opentelemetry>=1.7.0->agent-framework-core) (0.57b0)\n",
      "Requirement already satisfied: opentelemetry-util-http==0.57b0 in c:\\users\\kinfeylo\\appdata\\local\\miniforge3\\envs\\agentenv\\lib\\site-packages (from opentelemetry-instrumentation-django~=0.57b0->azure-monitor-opentelemetry>=1.7.0->agent-framework-core) (0.57b0)\n",
      "Requirement already satisfied: packaging>=18.0 in c:\\users\\kinfeylo\\appdata\\local\\miniforge3\\envs\\agentenv\\lib\\site-packages (from opentelemetry-instrumentation==0.57b0->opentelemetry-instrumentation-django~=0.57b0->azure-monitor-opentelemetry>=1.7.0->agent-framework-core) (25.0)\n",
      "Requirement already satisfied: wrapt<2.0.0,>=1.0.0 in c:\\users\\kinfeylo\\appdata\\local\\miniforge3\\envs\\agentenv\\lib\\site-packages (from opentelemetry-instrumentation==0.57b0->opentelemetry-instrumentation-django~=0.57b0->azure-monitor-opentelemetry>=1.7.0->agent-framework-core) (1.17.3)\n",
      "Requirement already satisfied: opentelemetry-instrumentation-asgi==0.57b0 in c:\\users\\kinfeylo\\appdata\\local\\miniforge3\\envs\\agentenv\\lib\\site-packages (from opentelemetry-instrumentation-fastapi~=0.57b0->azure-monitor-opentelemetry>=1.7.0->agent-framework-core) (0.57b0)\n",
      "Requirement already satisfied: asgiref~=3.0 in c:\\users\\kinfeylo\\appdata\\local\\miniforge3\\envs\\agentenv\\lib\\site-packages (from opentelemetry-instrumentation-asgi==0.57b0->opentelemetry-instrumentation-fastapi~=0.57b0->azure-monitor-opentelemetry>=1.7.0->agent-framework-core) (3.9.1)\n",
      "Requirement already satisfied: opentelemetry-instrumentation-dbapi==0.57b0 in c:\\users\\kinfeylo\\appdata\\local\\miniforge3\\envs\\agentenv\\lib\\site-packages (from opentelemetry-instrumentation-psycopg2~=0.57b0->azure-monitor-opentelemetry>=1.7.0->agent-framework-core) (0.57b0)\n",
      "Requirement already satisfied: cffi>=1.14 in c:\\users\\kinfeylo\\appdata\\local\\miniforge3\\envs\\agentenv\\lib\\site-packages (from cryptography>=2.5->azure-identity<2,>=1->agent-framework-core) (1.17.1)\n",
      "Requirement already satisfied: pycparser in c:\\users\\kinfeylo\\appdata\\local\\miniforge3\\envs\\agentenv\\lib\\site-packages (from cffi>=1.14->cryptography>=2.5->azure-identity<2,>=1->agent-framework-core) (2.22)\n",
      "Requirement already satisfied: anyio>=4.5 in c:\\users\\kinfeylo\\appdata\\local\\miniforge3\\envs\\agentenv\\lib\\site-packages (from mcp>=1.13->mcp[ws]>=1.13->agent-framework-core) (4.10.0)\n",
      "Requirement already satisfied: httpx-sse>=0.4 in c:\\users\\kinfeylo\\appdata\\local\\miniforge3\\envs\\agentenv\\lib\\site-packages (from mcp>=1.13->mcp[ws]>=1.13->agent-framework-core) (0.4.1)\n",
      "Requirement already satisfied: httpx>=0.27.1 in c:\\users\\kinfeylo\\appdata\\local\\miniforge3\\envs\\agentenv\\lib\\site-packages (from mcp>=1.13->mcp[ws]>=1.13->agent-framework-core) (0.28.1)\n",
      "Requirement already satisfied: jsonschema>=4.20.0 in c:\\users\\kinfeylo\\appdata\\local\\miniforge3\\envs\\agentenv\\lib\\site-packages (from mcp>=1.13->mcp[ws]>=1.13->agent-framework-core) (4.25.1)\n",
      "Requirement already satisfied: python-multipart>=0.0.9 in c:\\users\\kinfeylo\\appdata\\local\\miniforge3\\envs\\agentenv\\lib\\site-packages (from mcp>=1.13->mcp[ws]>=1.13->agent-framework-core) (0.0.20)\n",
      "Requirement already satisfied: pywin32>=310 in c:\\users\\kinfeylo\\appdata\\local\\miniforge3\\envs\\agentenv\\lib\\site-packages (from mcp>=1.13->mcp[ws]>=1.13->agent-framework-core) (311)\n",
      "Requirement already satisfied: sse-starlette>=1.6.1 in c:\\users\\kinfeylo\\appdata\\local\\miniforge3\\envs\\agentenv\\lib\\site-packages (from mcp>=1.13->mcp[ws]>=1.13->agent-framework-core) (3.0.2)\n",
      "Requirement already satisfied: starlette>=0.27 in c:\\users\\kinfeylo\\appdata\\local\\miniforge3\\envs\\agentenv\\lib\\site-packages (from mcp>=1.13->mcp[ws]>=1.13->agent-framework-core) (0.47.3)\n",
      "Requirement already satisfied: uvicorn>=0.31.1 in c:\\users\\kinfeylo\\appdata\\local\\miniforge3\\envs\\agentenv\\lib\\site-packages (from mcp>=1.13->mcp[ws]>=1.13->agent-framework-core) (0.35.0)\n",
      "Requirement already satisfied: idna>=2.8 in c:\\users\\kinfeylo\\appdata\\local\\miniforge3\\envs\\agentenv\\lib\\site-packages (from anyio>=4.5->mcp>=1.13->mcp[ws]>=1.13->agent-framework-core) (3.10)\n",
      "Requirement already satisfied: sniffio>=1.1 in c:\\users\\kinfeylo\\appdata\\local\\miniforge3\\envs\\agentenv\\lib\\site-packages (from anyio>=4.5->mcp>=1.13->mcp[ws]>=1.13->agent-framework-core) (1.3.1)\n",
      "Requirement already satisfied: certifi in c:\\users\\kinfeylo\\appdata\\local\\miniforge3\\envs\\agentenv\\lib\\site-packages (from httpx>=0.27.1->mcp>=1.13->mcp[ws]>=1.13->agent-framework-core) (2025.8.3)\n",
      "Requirement already satisfied: httpcore==1.* in c:\\users\\kinfeylo\\appdata\\local\\miniforge3\\envs\\agentenv\\lib\\site-packages (from httpx>=0.27.1->mcp>=1.13->mcp[ws]>=1.13->agent-framework-core) (1.0.9)\n",
      "Requirement already satisfied: h11>=0.16 in c:\\users\\kinfeylo\\appdata\\local\\miniforge3\\envs\\agentenv\\lib\\site-packages (from httpcore==1.*->httpx>=0.27.1->mcp>=1.13->mcp[ws]>=1.13->agent-framework-core) (0.16.0)\n",
      "Requirement already satisfied: attrs>=22.2.0 in c:\\users\\kinfeylo\\appdata\\local\\miniforge3\\envs\\agentenv\\lib\\site-packages (from jsonschema>=4.20.0->mcp>=1.13->mcp[ws]>=1.13->agent-framework-core) (25.3.0)\n",
      "Requirement already satisfied: jsonschema-specifications>=2023.03.6 in c:\\users\\kinfeylo\\appdata\\local\\miniforge3\\envs\\agentenv\\lib\\site-packages (from jsonschema>=4.20.0->mcp>=1.13->mcp[ws]>=1.13->agent-framework-core) (2025.4.1)\n",
      "Requirement already satisfied: referencing>=0.28.4 in c:\\users\\kinfeylo\\appdata\\local\\miniforge3\\envs\\agentenv\\lib\\site-packages (from jsonschema>=4.20.0->mcp>=1.13->mcp[ws]>=1.13->agent-framework-core) (0.36.2)\n",
      "Requirement already satisfied: rpds-py>=0.7.1 in c:\\users\\kinfeylo\\appdata\\local\\miniforge3\\envs\\agentenv\\lib\\site-packages (from jsonschema>=4.20.0->mcp>=1.13->mcp[ws]>=1.13->agent-framework-core) (0.27.1)\n",
      "Requirement already satisfied: websockets>=15.0.1 in c:\\users\\kinfeylo\\appdata\\local\\miniforge3\\envs\\agentenv\\lib\\site-packages (from mcp[ws]>=1.13->agent-framework-core) (15.0.1)\n",
      "Requirement already satisfied: PyJWT<3,>=1.0.0 in c:\\users\\kinfeylo\\appdata\\local\\miniforge3\\envs\\agentenv\\lib\\site-packages (from PyJWT[crypto]<3,>=1.0.0->msal>=1.30.0->azure-identity<2,>=1->agent-framework-core) (2.10.1)\n",
      "Requirement already satisfied: charset_normalizer<4,>=2 in c:\\users\\kinfeylo\\appdata\\local\\miniforge3\\envs\\agentenv\\lib\\site-packages (from requests>=2.21.0->azure-core>=1.31.0->azure-identity<2,>=1->agent-framework-core) (3.4.3)\n",
      "Requirement already satisfied: urllib3<3,>=1.21.1 in c:\\users\\kinfeylo\\appdata\\local\\miniforge3\\envs\\agentenv\\lib\\site-packages (from requests>=2.21.0->azure-core>=1.31.0->azure-identity<2,>=1->agent-framework-core) (2.5.0)\n",
      "Requirement already satisfied: isodate>=0.6.0 in c:\\users\\kinfeylo\\appdata\\local\\miniforge3\\envs\\agentenv\\lib\\site-packages (from msrest>=0.6.10->azure-monitor-opentelemetry-exporter>=1.0.0b41->agent-framework-core) (0.7.2)\n",
      "Requirement already satisfied: requests-oauthlib>=0.5.0 in c:\\users\\kinfeylo\\appdata\\local\\miniforge3\\envs\\agentenv\\lib\\site-packages (from msrest>=0.6.10->azure-monitor-opentelemetry-exporter>=1.0.0b41->agent-framework-core) (2.0.0)\n",
      "Requirement already satisfied: distro<2,>=1.7.0 in c:\\users\\kinfeylo\\appdata\\local\\miniforge3\\envs\\agentenv\\lib\\site-packages (from openai>=1.99.0->agent-framework-core) (1.9.0)\n",
      "Requirement already satisfied: jiter<1,>=0.4.0 in c:\\users\\kinfeylo\\appdata\\local\\miniforge3\\envs\\agentenv\\lib\\site-packages (from openai>=1.99.0->agent-framework-core) (0.10.0)\n",
      "Requirement already satisfied: tqdm>4 in c:\\users\\kinfeylo\\appdata\\local\\miniforge3\\envs\\agentenv\\lib\\site-packages (from openai>=1.99.0->agent-framework-core) (4.67.1)\n",
      "Requirement already satisfied: googleapis-common-protos~=1.57 in c:\\users\\kinfeylo\\appdata\\local\\miniforge3\\envs\\agentenv\\lib\\site-packages (from opentelemetry-exporter-otlp-proto-grpc>=1.36.0->agent-framework-core) (1.70.0)\n",
      "Requirement already satisfied: grpcio<2.0.0,>=1.63.2 in c:\\users\\kinfeylo\\appdata\\local\\miniforge3\\envs\\agentenv\\lib\\site-packages (from opentelemetry-exporter-otlp-proto-grpc>=1.36.0->agent-framework-core) (1.74.0)\n",
      "Requirement already satisfied: opentelemetry-exporter-otlp-proto-common==1.36.0 in c:\\users\\kinfeylo\\appdata\\local\\miniforge3\\envs\\agentenv\\lib\\site-packages (from opentelemetry-exporter-otlp-proto-grpc>=1.36.0->agent-framework-core) (1.36.0)\n",
      "Requirement already satisfied: opentelemetry-proto==1.36.0 in c:\\users\\kinfeylo\\appdata\\local\\miniforge3\\envs\\agentenv\\lib\\site-packages (from opentelemetry-exporter-otlp-proto-grpc>=1.36.0->agent-framework-core) (1.36.0)\n",
      "Requirement already satisfied: protobuf<7.0,>=5.0 in c:\\users\\kinfeylo\\appdata\\local\\miniforge3\\envs\\agentenv\\lib\\site-packages (from opentelemetry-proto==1.36.0->opentelemetry-exporter-otlp-proto-grpc>=1.36.0->agent-framework-core) (5.29.5)\n",
      "Requirement already satisfied: oauthlib>=3.0.0 in c:\\users\\kinfeylo\\appdata\\local\\miniforge3\\envs\\agentenv\\lib\\site-packages (from requests-oauthlib>=0.5.0->msrest>=0.6.10->azure-monitor-opentelemetry-exporter>=1.0.0b41->agent-framework-core) (3.3.1)\n",
      "Requirement already satisfied: colorama in c:\\users\\kinfeylo\\appdata\\local\\miniforge3\\envs\\agentenv\\lib\\site-packages (from tqdm>4->openai>=1.99.0->agent-framework-core) (0.4.6)\n",
      "Requirement already satisfied: click>=7.0 in c:\\users\\kinfeylo\\appdata\\local\\miniforge3\\envs\\agentenv\\lib\\site-packages (from uvicorn>=0.31.1->mcp>=1.13->mcp[ws]>=1.13->agent-framework-core) (8.2.1)\n"
     ]
    }
   ],
   "source": [
    "! pip install agent-framework-core -U"
   ]
  },
  {
   "cell_type": "code",
   "execution_count": 2,
   "id": "604f5e98",
   "metadata": {
    "language_info": {
     "name": "polyglot-notebook"
    },
    "polyglot_notebook": {
     "kernelName": "csharp"
    }
   },
   "outputs": [],
   "source": [
    "# 🤖 Import Multi-Agent Workflow Components\n",
    "# OpenAIChatClient: GitHub Models integration for agent communication\n",
    "# WorkflowEvent, WorkflowBuilder: Core workflow orchestration classes\n",
    "# WorkflowOutputEvent: Structured event handling for agent coordination\n",
    "from agent_framework.openai import OpenAIChatClient\n",
    "from agent_framework import WorkflowEvent, WorkflowBuilder, WorkflowOutputEvent"
   ]
  },
  {
   "cell_type": "code",
   "execution_count": 3,
   "id": "a7bbeb9f",
   "metadata": {
    "language_info": {
     "name": "polyglot-notebook"
    },
    "polyglot_notebook": {
     "kernelName": "csharp"
    }
   },
   "outputs": [],
   "source": [
    "# 📦 Import Configuration and Environment Management\n",
    "import os                      # Environment variable access for secure configuration\n",
    "from dotenv import load_dotenv # Secure loading of API credentials and settings"
   ]
  },
  {
   "cell_type": "code",
   "execution_count": 4,
   "id": "a35f9a38",
   "metadata": {
    "language_info": {
     "name": "polyglot-notebook"
    },
    "polyglot_notebook": {
     "kernelName": "csharp"
    }
   },
   "outputs": [
    {
     "data": {
      "text/plain": [
       "True"
      ]
     },
     "execution_count": 4,
     "metadata": {},
     "output_type": "execute_result"
    }
   ],
   "source": [
    "# 🔧 Load Multi-Agent Workflow Configuration  \n",
    "# Load environment variables for secure GitHub Models access\n",
    "# Required: GITHUB_ENDPOINT, GITHUB_TOKEN, GITHUB_MODEL_ID for agent communication\n",
    "load_dotenv()"
   ]
  },
  {
   "cell_type": "code",
   "execution_count": 5,
   "id": "763a7e8d",
   "metadata": {
    "language_info": {
     "name": "polyglot-notebook"
    },
    "polyglot_notebook": {
     "kernelName": "csharp"
    }
   },
   "outputs": [],
   "source": [
    "# 🔗 Initialize Shared Chat Client for Multi-Agent Communication\n",
    "# Create a unified client that all agents in the workflow will use\n",
    "# This ensures consistent API access and efficient resource utilization\n",
    "chat_client = OpenAIChatClient(\n",
    "    base_url=os.environ.get(\"GITHUB_ENDPOINT\"),    # GitHub Models API endpoint\n",
    "    api_key=os.environ.get(\"GITHUB_TOKEN\"),        # Authentication token\n",
    "    model_id=os.environ.get(\"GITHUB_MODEL_ID\")  # Model for all agents in workflow\n",
    ")"
   ]
  },
  {
   "cell_type": "code",
   "execution_count": 6,
   "id": "ed07880b",
   "metadata": {
    "language_info": {
     "name": "polyglot-notebook"
    },
    "polyglot_notebook": {
     "kernelName": "csharp"
    }
   },
   "outputs": [],
   "source": [
    "# 🎩 Agent 1: Hotel Concierge - Quality Reviewer Role\n",
    "# This agent specializes in evaluating travel recommendations for authenticity\n",
    "# Acts as the second stage in our multi-agent workflow for quality assurance\n",
    "REVIEWER_NAME = \"Concierge\"\n",
    "REVIEWER_INSTRUCTIONS = \"\"\"\n",
    "    You are an experienced hotel concierge who has strong opinions about providing the most local and authentic experiences for travelers.\n",
    "    \n",
    "    Your role in this multi-agent workflow:\n",
    "    - Review travel recommendations from the Front Desk agent\n",
    "    - Assess whether suggestions provide authentic, non-touristy experiences\n",
    "    - Approve recommendations that meet high standards for local authenticity\n",
    "    - Provide constructive feedback for refinement without giving specific examples\n",
    "    \n",
    "    Always focus on the quality and authenticity of experiences rather than just popular tourist destinations.\n",
    "    \"\"\""
   ]
  },
  {
   "cell_type": "code",
   "execution_count": 7,
   "id": "16ed7969",
   "metadata": {
    "language_info": {
     "name": "polyglot-notebook"
    },
    "polyglot_notebook": {
     "kernelName": "csharp"
    }
   },
   "outputs": [],
   "source": [
    "FRONTDESK_NAME = \"FrontDesk\"\n",
    "FRONTDESK_INSTRUCTIONS = \"\"\"\n",
    "    You are a Front Desk Travel Agent with ten years of experience and are known for brevity as you deal with many customers.\n",
    "    The goal is to provide the best activities and locations for a traveler to visit.\n",
    "    Only provide a single recommendation per response.\n",
    "    You're laser focused on the goal at hand.\n",
    "    Don't waste time with chit chat.\n",
    "    Consider suggestions when refining an idea.\n",
    "    \"\"\""
   ]
  },
  {
   "cell_type": "code",
   "execution_count": 8,
   "id": "558221d3",
   "metadata": {
    "language_info": {
     "name": "polyglot-notebook"
    },
    "polyglot_notebook": {
     "kernelName": "csharp"
    }
   },
   "outputs": [],
   "source": [
    "writer_agent    = chat_client.create_agent(\n",
    "        instructions=(\n",
    "           REVIEWER_INSTRUCTIONS\n",
    "        ),\n",
    "        name=REVIEWER_NAME,\n",
    "    )\n",
    "\n",
    "agent_reviewer = chat_client.create_agent(\n",
    "        instructions=(\n",
    "            FRONTDESK_INSTRUCTIONS\n",
    "        ),\n",
    "        name=FRONTDESK_NAME,\n",
    "    )"
   ]
  },
  {
   "cell_type": "code",
   "execution_count": 9,
   "id": "5de16a9c",
   "metadata": {
    "language_info": {
     "name": "polyglot-notebook"
    },
    "polyglot_notebook": {
     "kernelName": "csharp"
    }
   },
   "outputs": [],
   "source": [
    "workflow = WorkflowBuilder().set_start_executor(writer_agent).add_edge(writer_agent, agent_reviewer).build()"
   ]
  },
  {
   "cell_type": "code",
   "execution_count": 10,
   "id": "99988262",
   "metadata": {},
   "outputs": [],
   "source": [
    "\n",
    "class DatabaseEvent(WorkflowEvent): ..."
   ]
  },
  {
   "cell_type": "code",
   "execution_count": 11,
   "id": "1e3dcb96",
   "metadata": {},
   "outputs": [
    {
     "name": "stdout",
     "output_type": "stream",
     "text": [
      "Workflow output: Visit the Louvre Museum for an unparalleled art experience.\n"
     ]
    }
   ],
   "source": [
    "async for event in workflow.run_stream(\"I would like to go to Paris.\"):\n",
    "        if isinstance(event, DatabaseEvent):\n",
    "            print(f\"{event}\")\n",
    "        elif isinstance(event, WorkflowOutputEvent):\n",
    "            print(f\"Workflow output: {event.data}\")"
   ]
  },
  {
   "cell_type": "markdown",
   "metadata": {},
   "source": [
    "\n---\n\n**अस्वीकरण**:  \nयो दस्तावेज़ AI अनुवाद सेवा [Co-op Translator](https://github.com/Azure/co-op-translator) प्रयोग गरेर अनुवाद गरिएको हो। हामी यथार्थताको लागि प्रयास गर्छौं, तर कृपया ध्यान दिनुहोस् कि स्वचालित अनुवादमा त्रुटिहरू वा अशुद्धताहरू हुन सक्छ। मूल दस्तावेज़ यसको मातृभाषामा आधिकारिक स्रोत मानिनुपर्छ। महत्वपूर्ण जानकारीको लागि, व्यावसायिक मानव अनुवाद सिफारिस गरिन्छ। यस अनुवादको प्रयोगबाट उत्पन्न हुने कुनै पनि गलतफहमी वा गलत व्याख्याको लागि हामी जिम्मेवार हुने छैनौं।\n"
   ]
  }
 ],
 "metadata": {
  "kernelspec": {
   "display_name": "agentenv",
   "language": "python",
   "name": "python3"
  },
  "language_info": {
   "codemirror_mode": {
    "name": "ipython",
    "version": 3
   },
   "file_extension": ".py",
   "mimetype": "text/x-python",
   "name": "python",
   "nbconvert_exporter": "python",
   "pygments_lexer": "ipython3",
   "version": "3.12.10"
  },
  "polyglot_notebook": {
   "kernelInfo": {
    "defaultKernelName": "csharp",
    "items": [
     {
      "aliases": [],
      "name": "csharp"
     }
    ]
   }
  },
  "coopTranslator": {
   "original_hash": "45f63d4607a79ed16109bb109513aaff",
   "translation_date": "2025-10-02T11:24:07+00:00",
   "source_file": "08-multi-agent/code_samples/08-python-agent-framework.ipynb",
   "language_code": "ne"
  }
 },
 "nbformat": 4,
 "nbformat_minor": 5
}