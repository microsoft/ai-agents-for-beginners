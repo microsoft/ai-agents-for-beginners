{
  "cells": [
    {
      "cell_type": "markdown",
      "id": "f4cf9593",
      "metadata": {},
      "source": [
        "# 🐍 AI Travel Agent with Microsoft Agent Framework (Python)\n",
        "\n",
        "## 📋 Scenario Overview\n",
        "\n",
        "This notebook demonstrates how to build an intelligent travel planning agent using the Microsoft Agent Framework for Python. The agent leverages GitHub Models to automatically generate personalized day-trip itineraries for random destinations worldwide.\n",
        "\n",
        "**Key Features:**\n",
        "- 🎲 **Smart Destination Selection**: Custom tool function for random destination picking\n",
        "- 🗺️ **Detailed Itinerary Generation**: AI-powered travel planning with local recommendations\n",
        "- 🔄 **Async Processing**: Uses asyncio for efficient API communication\n",
        "- 🛠️ **Tool Integration**: Demonstrates function calling capabilities in AI agents\n",
        "\n",
        "## 🏗️ Technical Implementation\n",
        "\n",
        "### Core Components\n",
        "- **Agent Framework**: Python implementation of Microsoft's agent orchestration system\n",
        "- **GitHub Models API**: Access to state-of-the-art language models via GitHub's inference service\n",
        "- **OpenAI Compatibility**: Uses OpenAI client patterns with GitHub Models backend\n",
        "- **Environment Management**: Secure credential handling with python-dotenv\n",
        "\n",
        "### Architecture Flow\n",
        "```python\n",
        "User Request → ChatAgent → GitHub Models API ↔ get_random_destination()\n",
        "                     ↓\n",
        "              Travel Itinerary Response\n",
        "```\n",
        "\n",
        "### Key Classes & Methods\n",
        "- `ChatAgent`: Main conversational agent orchestrator\n",
        "- `OpenAIChatClient`: GitHub Models API client wrapper\n",
        "- `get_random_destination()`: Custom tool function for destination selection\n",
        "- Environment variables: Secure API configuration management\n",
        "\n",
        "## ⚙️ Prerequisites & Setup\n",
        "\n",
        "**Required Dependencies:**\n",
        "```bash\n",
        "\n",
        "pip install agent-framework-core -U\n",
        "```\n",
        "\n",
        "**Environment Configuration (.env file):**\n",
        "```env\n",
        "GITHUB_TOKEN=your_github_personal_access_token\n",
        "GITHUB_ENDPOINT=https://models.inference.ai.azure.com\n",
        "GITHUB_MODEL_ID=gpt-4o-mini\n",
        "```\n",
        "\n",
        "**GitHub Models Access:**\n",
        "1. Sign up for GitHub Models access\n",
        "2. Generate a personal access token\n",
        "3. Configure environment variables as shown above\n",
        "\n",
        "## 🚀 Usage Instructions\n",
        "\n",
        "Execute the cells below in sequence to:\n",
        "1. Import required libraries and load environment variables\n",
        "2. Define the random destination generator tool\n",
        "3. Create and configure the AI agent\n",
        "4. Run travel planning requests and view results\n",
        "\n",
        "Let's build an intelligent travel planning assistant! 🌟"
      ]
    },
    {
      "cell_type": "code",
      "execution_count": null,
      "id": "fda5fa0a",
      "metadata": {},
      "outputs": [],
      "source": [
        "! pip install agent-framework-core -U"
      ]
    },
    {
      "cell_type": "code",
      "execution_count": null,
      "id": "c0df8a52",
      "metadata": {},
      "outputs": [],
      "source": [
        "# 📦 Import Required Libraries\n",
        "# Standard library imports for system operations and random number generation\n",
        "import os\n",
        "from random import randint\n",
        "\n",
        "# Third-party library for loading environment variables from .env file\n",
        "from dotenv import load_dotenv"
      ]
    },
    {
      "cell_type": "code",
      "execution_count": null,
      "id": "151e0314",
      "metadata": {},
      "outputs": [],
      "source": [
        "# 🤖 Import Microsoft Agent Framework Components\n",
        "# ChatAgent: The main agent class for conversational AI\n",
        "# OpenAIChatClient: Client for connecting to OpenAI-compatible APIs (including GitHub Models)\n",
        "from agent_framework import ChatAgent\n",
        "from agent_framework.openai import OpenAIChatClient"
      ]
    },
    {
      "cell_type": "code",
      "execution_count": null,
      "id": "a6141584",
      "metadata": {},
      "outputs": [],
      "source": [
        "# 🔧 Load Environment Variables\n",
        "# This loads configuration from a .env file in the project root\n",
        "# Required variables: GITHUB_ENDPOINT, GITHUB_TOKEN, GITHUB_MODEL_ID\n",
        "load_dotenv()"
      ]
    },
    {
      "cell_type": "code",
      "execution_count": null,
      "id": "a6507f83",
      "metadata": {},
      "outputs": [],
      "source": [
        "# 🎲 Tool Function: Random Destination Generator\n",
        "# This function will be available to the agent as a tool\n",
        "# The agent can call this function to get random vacation destinations\n",
        "def get_random_destination() -> str:\n",
        "    \"\"\"Get a random vacation destination.\n",
        "    \n",
        "    Returns:\n",
        "        str: A randomly selected destination from our predefined list\n",
        "    \"\"\"\n",
        "    # List of popular vacation destinations around the world\n",
        "    destinations = [\n",
        "        \"Barcelona, Spain\",\n",
        "        \"Paris, France\", \n",
        "        \"Berlin, Germany\",\n",
        "        \"Tokyo, Japan\",\n",
        "        \"Sydney, Australia\",\n",
        "        \"New York, USA\",\n",
        "        \"Cairo, Egypt\",\n",
        "        \"Cape Town, South Africa\",\n",
        "        \"Rio de Janeiro, Brazil\",\n",
        "        \"Bali, Indonesia\"\n",
        "    ]\n",
        "    # Return a random destination from the list\n",
        "    return destinations[randint(0, len(destinations) - 1)]"
      ]
    },
    {
      "cell_type": "code",
      "execution_count": null,
      "id": "5d4f0568",
      "metadata": {},
      "outputs": [],
      "source": [
        "# 🔗 Create OpenAI Chat Client for GitHub Models\n",
        "# This client connects to GitHub Models API (OpenAI-compatible endpoint)\n",
        "# Environment variables required:\n",
        "# - GITHUB_ENDPOINT: API endpoint URL (usually https://models.inference.ai.azure.com)\n",
        "# - GITHUB_TOKEN: Your GitHub personal access token\n",
        "# - GITHUB_MODEL_ID: Model to use (e.g., gpt-4o-mini, gpt-4o)\n",
        "openai_chat_client = OpenAIChatClient(\n",
        "    base_url=os.environ.get(\"GITHUB_ENDPOINT\"),\n",
        "    api_key=os.environ.get(\"GITHUB_TOKEN\"), \n",
        "    model_id=os.environ.get(\"GITHUB_MODEL_ID\")\n",
        ")"
      ]
    },
    {
      "cell_type": "code",
      "execution_count": null,
      "id": "cf5a4800",
      "metadata": {},
      "outputs": [],
      "source": [
        "# 🤖 Create the Travel Planning Agent\n",
        "# This creates a conversational AI agent with specific capabilities:\n",
        "# - chat_client: The AI model client for generating responses\n",
        "# - instructions: System prompt that defines the agent's personality and role\n",
        "# - tools: List of functions the agent can call to perform actions\n",
        "agent = ChatAgent(\n",
        "    chat_client=openai_chat_client,\n",
        "    instructions=\"You are a helpful AI Agent that can help plan vacations for customers at random destinations.\",\n",
        "    tools=[get_random_destination]  # Our random destination tool function\n",
        ")"
      ]
    },
    {
      "cell_type": "code",
      "execution_count": null,
      "id": "772e9481",
      "metadata": {},
      "outputs": [],
      "source": [
        "# 🚀 Run the Agent\n",
        "# Send a message to the agent and get a response\n",
        "# The agent will use its tools (get_random_destination) if needed\n",
        "response = await agent.run(\"Plan me a day trip\")"
      ]
    },
    {
      "cell_type": "code",
      "execution_count": null,
      "id": "93c114ea",
      "metadata": {},
      "outputs": [],
      "source": [
        "# 📋 View Raw Response Object\n",
        "# This shows the complete response structure including metadata\n",
        "# Useful for debugging and understanding the response format\n",
        "response"
      ]
    },
    {
      "cell_type": "code",
      "execution_count": null,
      "id": "a731b547",
      "metadata": {},
      "outputs": [],
      "source": [
        "# 📖 Extract and Display the Travel Plan\n",
        "# Get the last message from the conversation (agent's response)s\n",
        "last_message = response.messages[-1]\n",
        "# Extract the text content from the message\n",
        "text_content = last_message.contents[0].text\n",
        "# Display the formatted travel plan\n",
        "print(\"🏖️ Travel plan:\")\n",
        "print(text_content)"
      ]
    }
  ],
  "metadata": {
    "kernelspec": {
      "display_name": "agentframeworkenv",
      "language": "python",
      "name": "python3"
    },
    "language_info": {
      "codemirror_mode": {
        "name": "ipython",
        "version": 3
      },
      "file_extension": ".py",
      "mimetype": "text/x-python",
      "name": "python",
      "nbconvert_exporter": "python",
      "pygments_lexer": "ipython3",
      "version": "3.12.10"
    },
    "polyglot_notebook": {
      "kernelInfo": {
        "defaultKernelName": "csharp",
        "items": [
          {
            "aliases": [],
            "name": "csharp"
          }
        ]
      }
    }
  },
  "nbformat": 4,
  "nbformat_minor": 5
}
